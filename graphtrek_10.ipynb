{
  "nbformat": 4,
  "nbformat_minor": 0,
  "metadata": {
    "colab": {
      "name": "graphtrek_10.ipynb",
      "provenance": [],
      "include_colab_link": true
    },
    "kernelspec": {
      "name": "python3",
      "display_name": "Python 3"
    },
    "language_info": {
      "name": "python"
    }
  },
  "cells": [
    {
      "cell_type": "markdown",
      "metadata": {
        "id": "view-in-github",
        "colab_type": "text"
      },
      "source": [
        "<a href=\"https://colab.research.google.com/github/graphtrek/stockforecast/blob/main/graphtrek_10.ipynb\" target=\"_parent\"><img src=\"https://colab.research.google.com/assets/colab-badge.svg\" alt=\"Open In Colab\"/></a>"
      ]
    },
    {
      "cell_type": "code",
      "metadata": {
        "id": "sZPC3Z9u3evF"
      },
      "source": [
        "import numpy as np\n",
        "from tensorflow.keras.models import Sequential\n",
        "from tensorflow.keras.layers import LSTM\n",
        "from tensorflow.keras.optimizers import Adam\n",
        "from tensorflow.keras.losses import MAE\n",
        "from tensorflow.keras.layers import Dense, Dropout\n",
        "from tensorflow import keras\n",
        "from datetime import datetime, timedelta\n",
        "import pandas as pd\n",
        "import os, time\n",
        "from matplotlib import pyplot as plt\n",
        "from sklearn.preprocessing import StandardScaler\n",
        "import seaborn as sns\n",
        "import plotly.graph_objects as go\n",
        "import plotly.express as px\n",
        "from sklearn.preprocessing import MinMaxScaler\n",
        "from pandas.tseries.holiday import USFederalHolidayCalendar\n",
        "from pandas.tseries.offsets import CustomBusinessDay\n",
        "from keras.preprocessing.sequence import TimeseriesGenerator\n",
        "from tensorflow.keras.models import Sequential\n",
        "from tensorflow.keras.layers import LSTM\n",
        "from tensorflow.keras.optimizers import Adam\n",
        "from tensorflow.keras.losses import MAE\n",
        "from tensorflow.keras.layers import Dense, Dropout\n",
        "from tensorflow import keras\n",
        "from datetime import datetime, timedelta\n",
        "import pandas as pd\n",
        "import os, time\n",
        "from plotly.subplots import make_subplots\n",
        "from pathlib import Path"
      ],
      "execution_count": null,
      "outputs": []
    },
    {
      "cell_type": "code",
      "metadata": {
        "id": "HKYStAEQ3mh6"
      },
      "source": [
        "ticker = 'QQQ' # QQQ, SPY, VTI JETS, XLE, XLF, XLNX, ARKK, ARKG, ARKQ, ARKF, PYPL, V\n",
        "look_back = 14 #  number of past days we want to use to predict 1 day in the future.\n",
        "max_data_size = 730 # ~2 years\n",
        "split_percent = 0.90 # use 90% of the data  for train\n",
        "INFO = 1\n",
        "DEBUG = 2\n",
        "TRACE = 3\n",
        "print_level = DEBUG \n",
        "nr_of_features = 4\n",
        "look_forward = 1\n",
        "epochs = 420\n",
        "learning_rate=0.0042\n",
        "if look_back < 5:\n",
        "  num_prediction = look_back * 4\n",
        "else:\n",
        "  num_prediction = look_back * 2\n",
        "\n",
        "apikey = '3F4URDEKOPLFH25T'\n",
        "indicators_model_file_path = '/content/drive/MyDrive/models/' + ticker + '_' + str(look_back) + '_' + str(nr_of_features) + '_indicators_09.h5'\n",
        "\n",
        "np.random.seed(42)"
      ],
      "execution_count": null,
      "outputs": []
    },
    {
      "cell_type": "code",
      "metadata": {
        "id": "tPJ9HBOO3-2-",
        "colab": {
          "base_uri": "https://localhost:8080/"
        },
        "outputId": "d4e15a7b-39dd-41cd-eb84-3cdd5e2ae591"
      },
      "source": [
        "rsi_url = 'https://www.alphavantage.co/query?function=RSI&datatype=json&symbol='+ticker+'&interval=daily&time_period='+str(look_back)+'&series_type=close&apikey=' + apikey\n",
        "print(rsi_url)\n",
        "rsi_api_response = pd.read_json(rsi_url)\n",
        "#print(rsi_api_response)\n",
        "rsi_api_data = rsi_api_response['Technical Analysis: RSI']\n",
        "#print(rsi_api_data)\n",
        "rsi_api_data = rsi_api_data.drop(\n",
        "    index=['1: Symbol','2: Indicator','3: Last Refreshed','4: Interval','5: Time Period','6: Series Type','7: Time Zone']);\n",
        "#print(rsi_api_data)\n",
        "\n",
        "rsi_data = []\n",
        "for key, value in rsi_api_data.items():\n",
        "  date = key\n",
        "  rsi = float(value.get('RSI'))\n",
        "  rsi_data.append([date,rsi])\n",
        "\n",
        "last_rsi_data =  str(rsi_data[0])\n",
        "first_rsi_data =  str(rsi_data[-1])\n",
        "print('rsi_data_length:', len(rsi_data), 'first_rsi_data:', first_rsi_data, 'last_rsi_data:', last_rsi_data)  "
      ],
      "execution_count": null,
      "outputs": [
        {
          "output_type": "stream",
          "name": "stdout",
          "text": [
            "https://www.alphavantage.co/query?function=RSI&datatype=json&symbol=QQQ&interval=daily&time_period=14&series_type=close&apikey=3F4URDEKOPLFH25T\n",
            "rsi_data_length: 5542 first_rsi_data: ['1999-11-19', 88.2353] last_rsi_data: ['2021-11-29', 60.0863]\n"
          ]
        }
      ]
    },
    {
      "cell_type": "code",
      "metadata": {
        "colab": {
          "base_uri": "https://localhost:8080/"
        },
        "id": "GmEkUmlfJFsW",
        "outputId": "90156d3b-ea83-4e3c-c32c-8b768a118409"
      },
      "source": [
        "stoch_url = 'https://www.alphavantage.co/query?function=STOCH&symbol='+ticker+'&interval=daily&apikey=' + apikey\n",
        "print(stoch_url)\n",
        "stoch_api_response = pd.read_json(stoch_url)\n",
        "stoch_api_data = stoch_api_response['Technical Analysis: STOCH']\n",
        "#print(rsi_api_data)\n",
        "stoch_api_data = stoch_api_data.drop(\n",
        "    index=['1: Symbol','2: Indicator','3: Last Refreshed','4: Interval','5.1: FastK Period','5.2: SlowK Period','5.3: SlowK MA Type','5.4: SlowD Period','5.5: SlowD MA Type','6: Time Zone'])\n",
        "#print(stoch_api_data)\n",
        "stoch_data = []\n",
        "for key, value in stoch_api_data.items():\n",
        "  date = key\n",
        "  SlowD = float(value.get('SlowD'))\n",
        "  SlowK = float(value.get('SlowK'))\n",
        "  stoch_data.append([date,SlowD,SlowK])\n",
        "\n",
        "last_stoch_data =  str(stoch_data[0])\n",
        "first_stoch_data =  str(stoch_data[-1])\n",
        "print('stoch_data_length:', len(stoch_data), 'first_stoch_data:', first_stoch_data, 'last_stoch_data:', last_stoch_data)  "
      ],
      "execution_count": null,
      "outputs": [
        {
          "output_type": "stream",
          "name": "stdout",
          "text": [
            "https://www.alphavantage.co/query?function=STOCH&symbol=QQQ&interval=daily&apikey=3F4URDEKOPLFH25T\n",
            "stoch_data_length: 5548 first_stoch_data: ['1999-11-11', 82.688, 84.2136] last_stoch_data: ['2021-11-29', 30.9009, 32.7975]\n"
          ]
        }
      ]
    },
    {
      "cell_type": "code",
      "metadata": {
        "colab": {
          "base_uri": "https://localhost:8080/"
        },
        "id": "hakIIva48yWl",
        "outputId": "79455225-4a18-48be-b129-9cc782b0abe8"
      },
      "source": [
        "macd_url = 'https://www.alphavantage.co/query?function=MACD&symbol='+ticker+'&interval=daily&series_type=open&apikey=' + apikey\n",
        "print(macd_url)\n",
        "macd_api_response = pd.read_json(macd_url)\n",
        "macd_api_data = macd_api_response['Technical Analysis: MACD']\n",
        "#print(macd_api_data)\n",
        "macd_api_data = macd_api_data.drop(\n",
        "    index=[\n",
        "          '1: Symbol',\n",
        "          '2: Indicator',\n",
        "          '3: Last Refreshed',\n",
        "          '4: Interval',\n",
        "          '5.1: Fast Period',\n",
        "          '5.2: Slow Period',\n",
        "          '5.3: Signal Period',\n",
        "          '6: Series Type',\n",
        "          '7: Time Zone'\n",
        "]);\n",
        "\n",
        "macd_data = []\n",
        "for key, value in macd_api_data.items():\n",
        "  date = key\n",
        "  MACD = float(value.get('MACD'))\n",
        "  MACD_Hist = float(value.get('MACD_Hist'))\n",
        "  MACD_Signal = float(value.get('MACD_Signal'))\n",
        "  macd_data.append([date,MACD,MACD_Hist,MACD_Signal])\n",
        "\n",
        "last_macd_data =  str(macd_data[0])\n",
        "first_macd_data =  str(macd_data[-1])\n",
        "print('macd_data_length:', len(macd_data), 'first_macd_data:', first_macd_data, 'last_macd_data:', last_macd_data) "
      ],
      "execution_count": null,
      "outputs": [
        {
          "output_type": "stream",
          "name": "stdout",
          "text": [
            "https://www.alphavantage.co/query?function=MACD&symbol=QQQ&interval=daily&series_type=open&apikey=3F4URDEKOPLFH25T\n",
            "macd_data_length: 5523 first_macd_data: ['1999-12-17', 2.9386, -0.1242, 3.0628] last_macd_data: ['2021-11-29', 5.1818, -1.0083, 6.1901]\n"
          ]
        }
      ]
    },
    {
      "cell_type": "code",
      "metadata": {
        "colab": {
          "base_uri": "https://localhost:8080/"
        },
        "id": "gTTORjJJ22lE",
        "outputId": "bd45b483-7032-4f4a-dc58-06b96901d0c7"
      },
      "source": [
        "stock_url = 'https://www.alphavantage.co/query?function=TIME_SERIES_DAILY_ADJUSTED&symbol='+ticker+'&outputsize=full&apikey=' + apikey\n",
        "print(stock_url)\n",
        "stock_api_response = pd.read_json(stock_url)\n",
        "stock_api_data = stock_api_response['Time Series (Daily)']\n",
        "#print(stock_api_data)\n",
        "stock_api_data = stock_api_data.drop(index=['1. Information','2. Symbol','3. Last Refreshed','4. Output Size','5. Time Zone']);\n",
        "\n",
        "stock_data = []\n",
        "split_coefficient = 1\n",
        "\n",
        "for key, value in stock_api_data.items():\n",
        "  date = key\n",
        "  open = float(value.get('1. open'))\n",
        "  high = float(value.get('2. high'))\n",
        "  low = float(value.get('3. low'))\n",
        "  close = float(value.get('4. close'))\n",
        "  adjusted_close = float(value.get('5. adjusted close'))\n",
        "  volume = int(value.get('6. volume'))\n",
        "  divident = float(value.get('7. dividend amount'))\n",
        "\n",
        "  if float(value.get('8. split coefficient')) > 1:\n",
        "    split_coefficient = float(value.get('8. split coefficient'))\n",
        "    \n",
        "  open = open / split_coefficient\n",
        "  high = high /split_coefficient\n",
        "  close = close / split_coefficient\n",
        "  low = low / split_coefficient\n",
        "  \n",
        "  stock_data.append([\n",
        "      date,\n",
        "      close,\n",
        "      volume,\n",
        "      high,\n",
        "      low,\n",
        "      open,\n",
        "      divident\n",
        "      ])\n",
        "\n",
        "last_date =  str(stock_data[0][0])\n",
        "print('data length:', len(stock_data), 'last_date:', last_date)\n",
        "\n",
        "last_stock_data =  str(stock_data[0])\n",
        "first_stock_data =  str(stock_data[-1])\n",
        "print('stock_data_length:', len(stock_data), 'first_stock_data:', first_stock_data, 'last_stock_data:', last_stock_data)"
      ],
      "execution_count": null,
      "outputs": [
        {
          "output_type": "stream",
          "name": "stdout",
          "text": [
            "https://www.alphavantage.co/query?function=TIME_SERIES_DAILY_ADJUSTED&symbol=QQQ&outputsize=full&apikey=3F4URDEKOPLFH25T\n",
            "data length: 5556 last_date: 2021-11-29\n",
            "stock_data_length: 5556 first_stock_data: ['1999-11-01', 65.4, 4840900, 66.55, 65.3, 65.75, 0.0] last_stock_data: ['2021-11-29', 399.69, 54447106, 400.73, 395.14, 395.89, 0.0]\n"
          ]
        }
      ]
    },
    {
      "cell_type": "code",
      "metadata": {
        "id": "GzJkdoRGuYmf",
        "colab": {
          "base_uri": "https://localhost:8080/"
        },
        "outputId": "df556268-10fc-4954-ef63-6ec2886949b2"
      },
      "source": [
        "data_size = np.min([len(rsi_data), len(stoch_data), len(stock_data), len(macd_data)])\n",
        "if max_data_size < data_size:\n",
        "  rsi_data = np.flip(rsi_data[:max_data_size],axis=0)\n",
        "  stoch_data = np.flip(stoch_data[:max_data_size],axis=0)\n",
        "  macd_data = np.flip(macd_data[:max_data_size],axis=0)\n",
        "  stock_data = np.flip(stock_data[:max_data_size],axis=0)\n",
        "else:\n",
        "  rsi_data = np.flip(rsi_data[:data_size],axis=0)\n",
        "  stoch_data = np.flip(stoch_data[:data_size],axis=0)\n",
        "  macd_data = np.flip(macd_data[:data_size],axis=0)\n",
        "  stock_data = np.flip(stock_data[:data_size],axis=0)\n",
        "\n",
        "dates = stock_data[:,0]\n",
        "\n",
        "rsi_array = rsi_data[:,1]\n",
        "stoch_slowD_array = stoch_data[:,1]\n",
        "stoch_slowK_array = stoch_data[:,2]\n",
        "macd_array = macd_data[:,1]\n",
        "macd_hist_array = macd_data[:,2]\n",
        "macd_signal_array = macd_data[:,3]\n",
        "\n",
        "indicators_data = np.append(np.expand_dims(dates, axis=1),  np.expand_dims(rsi_array, axis=1).astype(float),axis=1)\n",
        "indicators_data = np.append(indicators_data, np.expand_dims(stoch_slowD_array, axis=1),axis=1)\n",
        "indicators_data = np.append(indicators_data, np.expand_dims(stoch_slowK_array, axis=1),axis=1)\n",
        "indicators_data = np.append(indicators_data, np.expand_dims(macd_array, axis=1),axis=1)\n",
        "indicators_data = np.append(indicators_data, np.expand_dims(macd_hist_array, axis=1),axis=1)\n",
        "indicators_data = np.append(indicators_data, np.expand_dims(macd_signal_array, axis=1),axis=1)\n",
        "if print_level >= DEBUG:\n",
        "  print('indicators_data',indicators_data[:5])\n",
        "\n",
        "indicators_lstm_data = np.expand_dims(rsi_array, axis=1).astype(float)\n",
        "indicators_lstm_data = np.append(indicators_lstm_data, np.expand_dims(stoch_slowD_array, axis=1),axis=1).astype(float)\n",
        "indicators_lstm_data = np.append(indicators_lstm_data, np.expand_dims(stoch_slowK_array, axis=1),axis=1).astype(float)\n",
        "indicators_lstm_data = np.append(indicators_lstm_data, np.expand_dims(macd_hist_array, axis=1),axis=1).astype(float)\n",
        "if print_level >= DEBUG:\n",
        "  print('indicators_lstm_data',indicators_lstm_data[:5])"
      ],
      "execution_count": null,
      "outputs": [
        {
          "output_type": "stream",
          "name": "stdout",
          "text": [
            "indicators_data [['2019-01-08' '52.3162' '78.1106' '91.9912' '-2.6057' '0.8677' '-3.4735']\n",
            " ['2019-01-09' '53.9707' '85.5016' '93.4693' '-2.0064' '1.1737' '-3.1801']\n",
            " ['2019-01-10' '54.5713' '93.617' '95.3906' '-1.5563' '1.299' '-2.8553']\n",
            " ['2019-01-11' '53.6051' '93.6628' '92.1284' '-1.1287' '1.3813' '-2.51']\n",
            " ['2019-01-14' '51.2531' '88.0753' '76.7069' '-0.8591' '1.3207' '-2.1798']]\n",
            "indicators_lstm_data [[ 52.32  78.11  91.99  0.87]\n",
            " [ 53.97  85.50  93.47  1.17]\n",
            " [ 54.57  93.62  95.39  1.30]\n",
            " [ 53.61  93.66  92.13  1.38]\n",
            " [ 51.25  88.08  76.71  1.32]]\n"
          ]
        }
      ]
    },
    {
      "cell_type": "code",
      "metadata": {
        "id": "xHrOFKHo3ocW"
      },
      "source": [
        "stock_df = pd.DataFrame(stock_data,columns=['Date','Close','Volume','High','Low','Open','Divident'])\n",
        "stock_df['50MA'] = stock_df['Close'].rolling(50).mean()\n",
        "stock_df['100MA'] = stock_df['Close'].rolling(100).mean()\n",
        "stock_df['200MA'] = stock_df['Close'].rolling(200).mean()"
      ],
      "execution_count": null,
      "outputs": []
    },
    {
      "cell_type": "code",
      "metadata": {
        "id": "OYTx2W6N4JIM",
        "colab": {
          "base_uri": "https://localhost:8080/"
        },
        "outputId": "18152105-3abd-4c51-8403-e10666a0b264"
      },
      "source": [
        "indicators_df = pd.DataFrame(indicators_data,columns=['Date','RSI','SlowD','SlowK','MACD','MACD_Hist','MACD_Signal'])\n",
        "print(indicators_df)\n",
        "split = int(split_percent*len(indicators_data))\n",
        "if len(indicators_data) - split < look_back:\n",
        "  split = look_back\n",
        "split\n",
        "\n",
        "\n",
        "indicators_df_train = indicators_df.iloc[:split]\n",
        "indicators_df_test = indicators_df.iloc[split:]\n",
        "\n",
        "indicators_lstm_train_data = indicators_lstm_data[:split]\n",
        "indicators_lstm_test_data = indicators_lstm_data[split:]"
      ],
      "execution_count": null,
      "outputs": [
        {
          "output_type": "stream",
          "name": "stdout",
          "text": [
            "           Date      RSI    SlowD    SlowK     MACD MACD_Hist MACD_Signal\n",
            "0    2019-01-08  52.3162  78.1106  91.9912  -2.6057    0.8677     -3.4735\n",
            "1    2019-01-09  53.9707  85.5016  93.4693  -2.0064    1.1737     -3.1801\n",
            "2    2019-01-10  54.5713   93.617  95.3906  -1.5563     1.299     -2.8553\n",
            "3    2019-01-11  53.6051  93.6628  92.1284  -1.1287    1.3813       -2.51\n",
            "4    2019-01-14  51.2531  88.0753  76.7069  -0.8591    1.3207     -2.1798\n",
            "..          ...      ...      ...      ...      ...       ...         ...\n",
            "725  2021-11-22  64.6609  84.0333  74.4237   7.2478    0.5018       6.746\n",
            "726  2021-11-23  61.4227  71.5234  52.1445   6.8196    0.0589      6.7607\n",
            "727  2021-11-24  62.8325  53.8361  34.9401   6.1527   -0.4864      6.6391\n",
            "728  2021-11-26   50.982  37.3499  24.9652   5.6543   -0.7879      6.4422\n",
            "729  2021-11-29  60.0863  30.9009  32.7975   5.1818   -1.0083      6.1901\n",
            "\n",
            "[730 rows x 7 columns]\n"
          ]
        }
      ]
    },
    {
      "cell_type": "code",
      "metadata": {
        "id": "5oRtthul4Pyj"
      },
      "source": [
        "np.set_printoptions(formatter={'float': '{: 0.12f}'.format})\n",
        "\n",
        "indicators_scaler = MinMaxScaler(feature_range=(0, 1))\n",
        "indicators_scaler = indicators_scaler.fit(indicators_lstm_data)\n",
        "\n",
        "indicators_lstm_train_data_scaled = indicators_scaler.transform(indicators_lstm_train_data)\n",
        "if print_level >= TRACE:\n",
        "  print(indicators_lstm_train_data_scaled[:look_back+1])\n",
        "  print(indicators_lstm_train_data_scaled.shape)\n",
        "\n",
        "indicators_lstm_test_data_scaled = indicators_scaler.transform(indicators_lstm_test_data)\n",
        "if print_level >= TRACE:\n",
        "  print(indicators_lstm_test_data_scaled[:look_back+1])\n",
        "  print(indicators_lstm_test_data_scaled.shape)"
      ],
      "execution_count": null,
      "outputs": []
    },
    {
      "cell_type": "code",
      "metadata": {
        "id": "Cmmqy0nc4Slr"
      },
      "source": [
        "indicators_train_generator = TimeseriesGenerator(indicators_lstm_train_data_scaled, indicators_lstm_train_data_scaled, sampling_rate=1, length=look_back, batch_size=64)\n",
        "\n",
        "if print_level >= TRACE:\n",
        "  print('Samples: %d' % len(indicators_train_generator))\n",
        "  # print each sample\n",
        "  for i in range(2):\n",
        "    x, y = indicators_train_generator[i]\n",
        "    print('%s => %s' % (x, y))"
      ],
      "execution_count": null,
      "outputs": []
    },
    {
      "cell_type": "code",
      "metadata": {
        "id": "xFQnXfRp6tVP",
        "colab": {
          "base_uri": "https://localhost:8080/"
        },
        "outputId": "f729a7d8-f79a-4707-f5c6-2e09389c99a1"
      },
      "source": [
        "indicators_model = None\n",
        "try:\n",
        "  indicators_model = keras.models.load_model(indicators_model_file_path)\n",
        "  modified = os.path.getmtime(indicators_model_file_path)\n",
        "\n",
        "  print(pd.to_datetime(last_date).date() - datetime.fromtimestamp(modified).date() )\n",
        "  print('Loaded', indicators_model_file_path , ' model train date:',datetime.fromtimestamp(modified).date() , 'last date:', last_date)\n",
        "except:\n",
        "  indicators_model = None\n",
        "  print('Model ' + indicators_model_file_path + ' does not exists.')"
      ],
      "execution_count": null,
      "outputs": [
        {
          "output_type": "stream",
          "name": "stdout",
          "text": [
            "1 day, 0:00:00\n",
            "Loaded /content/drive/MyDrive/models/QQQ_14_4_indicators_09.h5  model train date: 2021-11-28 last date: 2021-11-29\n"
          ]
        }
      ]
    },
    {
      "cell_type": "code",
      "metadata": {
        "id": "r59DQEiZ0u18"
      },
      "source": [
        "if indicators_model is None:\n",
        "  indicators_model = Sequential()\n",
        "  indicators_model.add(LSTM(units=42, activation='tanh', input_shape=(look_back, nr_of_features), return_sequences=True))\n",
        "  indicators_model.add(Dropout(0.2))\n",
        "  indicators_model.add(LSTM(units=42, return_sequences=True, activation=\"relu\"))\n",
        "  indicators_model.add(Dropout(0.2))\n",
        "  indicators_model.add(LSTM(units=42, return_sequences=True, activation=\"relu\"))\n",
        "  indicators_model.add(Dropout(0.2))\n",
        "  indicators_model.add(LSTM(units=42, activation=\"tanh\"))\n",
        "  indicators_model.add(Dropout(0.2))\n",
        "  indicators_model.add(Dense(nr_of_features))\n",
        "\n",
        "  indicators_model.compile(\n",
        "      loss=MAE,\n",
        "      optimizer=Adam(learning_rate=learning_rate),\n",
        "      metrics=['mae','mse']\n",
        "  )\n",
        "    \n",
        "  #model.summary()\n",
        "  print('Model ' + indicators_model_file_path + ' compiled.')\n",
        "\n",
        "  indicators_modelo = indicators_model.fit(indicators_train_generator, epochs=epochs, verbose=0 )\n",
        "  \n",
        "  indicators_model.save(indicators_model_file_path)\n",
        "  print('Saved model ' + indicators_model_file_path)\n",
        "\n",
        "  \n",
        "  plt.plot(indicators_modelo.history['loss'])\n",
        "  plt.xlabel('Epochs')\n",
        "  plt.ylabel('Loss')\n",
        "  plt.show()"
      ],
      "execution_count": null,
      "outputs": []
    },
    {
      "cell_type": "code",
      "metadata": {
        "colab": {
          "base_uri": "https://localhost:8080/"
        },
        "id": "xkdpY8eE4XlZ",
        "outputId": "9447cd41-ec03-4dbb-e83f-37029130c518"
      },
      "source": [
        "indicators_test_generator = TimeseriesGenerator(indicators_lstm_test_data_scaled, indicators_lstm_test_data_scaled,sampling_rate=1, length=look_back, batch_size=look_back)\n",
        "\n",
        "print('Samples: %d' % len(indicators_test_generator))\n",
        "# print each sample\n",
        "if print_level >= TRACE:\n",
        "  for i in range(2):\n",
        "    x, y = indicators_test_generator[i]\n",
        "    print('%s => %s' % (x, y))"
      ],
      "execution_count": null,
      "outputs": [
        {
          "output_type": "stream",
          "name": "stdout",
          "text": [
            "Samples: 5\n"
          ]
        }
      ]
    },
    {
      "cell_type": "code",
      "metadata": {
        "id": "WAS1RHA1Mn10",
        "colab": {
          "base_uri": "https://localhost:8080/"
        },
        "outputId": "3f6104c2-20f8-48ee-ab25-3794c77f5673"
      },
      "source": [
        "#Make prediction\n",
        "indicators_prediction_scaled = indicators_model.predict(indicators_test_generator)\n",
        "\n",
        "if print_level >= DEBUG:\n",
        "  np.set_printoptions(formatter={'float': '{: 0.12f}'.format})\n",
        "  print(indicators_prediction_scaled[:5])\n",
        "\n",
        "indicators_prediction = indicators_scaler.inverse_transform(indicators_prediction_scaled)\n",
        "if nr_of_features == 1:\n",
        "   rsi_prediction = indicators_prediction.reshape((-1))\n",
        "else:\n",
        "  rsi_prediction = indicators_prediction[:,0].reshape((-1))\n",
        "  stoch_slowD_prediction = indicators_prediction[:,1].reshape((-1))\n",
        "  stoch_slowK_prediction = indicators_prediction[:,2].reshape((-1))\n",
        "\n",
        "if print_level >= DEBUG:\n",
        "  np.set_printoptions(formatter={'float': '{: 0.2f}'.format})\n",
        "  print('indicators_prediction shape:',indicators_prediction.shape)\n",
        "\n",
        "  for x in range(look_back + 1):\n",
        "    print('pred:',indicators_prediction[x], 'test:', indicators_lstm_test_data[x])\n"
      ],
      "execution_count": null,
      "outputs": [
        {
          "output_type": "stream",
          "name": "stdout",
          "text": [
            "[[ 0.827562332153  0.867115139961  0.857214391232  0.568150520325]\n",
            " [ 0.818102717400  0.863128483295  0.850854635239  0.572819232941]\n",
            " [ 0.756656885147  0.776534497738  0.706647574902  0.535524249077]\n",
            " [ 0.658070564270  0.573952734470  0.421141117811  0.481588602066]\n",
            " [ 0.615521967411  0.389337241650  0.317112416029  0.427528202534]]\n",
            "indicators_prediction shape: (59, 4)\n",
            "pred: [ 71.83  85.48  85.82  0.56] test: [ 54.31  70.01  72.74 -0.72]\n",
            "pred: [ 71.31  85.11  85.21  0.60] test: [ 46.78  65.85  45.66 -0.85]\n",
            "pred: [ 67.97  77.12  71.39  0.31] test: [ 50.46  49.51  30.12 -1.23]\n",
            "pred: [ 62.61  58.43  44.04 -0.12] test: [ 57.30  40.15  44.66 -1.13]\n",
            "pred: [ 60.30  41.40  34.08 -0.54] test: [ 64.91  49.84  74.73 -0.80]\n",
            "pred: [ 62.26  34.87  38.45 -0.64] test: [ 66.25  70.53  92.20 -0.25]\n",
            "pred: [ 61.16  32.95  39.56 -0.71] test: [ 66.77  87.53  95.67  0.14]\n",
            "pred: [ 61.78  37.69  53.35 -0.68] test: [ 61.19  91.97  88.05  0.30]\n",
            "pred: [ 63.00  54.49  74.59 -0.45] test: [ 65.86  90.31  87.20  0.31]\n",
            "pred: [ 53.57  55.14  45.31 -0.63] test: [ 70.35  87.28  86.58  0.51]\n",
            "pred: [ 45.14  37.88  26.80 -1.26] test: [ 69.62  88.86  92.80  0.82]\n",
            "pred: [ 40.96  28.43  22.15 -1.88] test: [ 70.29  89.27  88.42  0.97]\n",
            "pred: [ 43.83  34.00  38.80 -2.16] test: [ 69.82  87.98  82.72  1.05]\n",
            "pred: [ 47.15  47.20  59.12 -1.95] test: [ 71.18  83.49  79.33  0.83]\n",
            "pred: [ 50.89  62.30  73.41 -1.41] test: [ 71.81  80.99  80.90  0.77]\n"
          ]
        }
      ]
    },
    {
      "cell_type": "code",
      "metadata": {
        "id": "ae72DYdyd0zp",
        "colab": {
          "base_uri": "https://localhost:8080/"
        },
        "outputId": "5cb01de5-4dce-402a-fe10-cd4061d2d284"
      },
      "source": [
        "def predict(num_prediction, model):\n",
        "    prediction_list = indicators_lstm_test_data_scaled[-look_back:]\n",
        "    #print('prediction_list',prediction_list)\n",
        "    for _ in range(num_prediction):\n",
        "        x = prediction_list[-look_back:]\n",
        "        #print(x)\n",
        "        x = x.reshape((1, look_back, nr_of_features))\n",
        "        out = model.predict(x)\n",
        "        #print(x,out) \n",
        "        prediction_list = np.append(prediction_list, out, axis=0)\n",
        "    prediction_list = prediction_list[look_back-1:]\n",
        "        \n",
        "    return prediction_list\n",
        "    \n",
        "def predict_dates(last_date,num_prediction):\n",
        "    us_bd = CustomBusinessDay(calendar=USFederalHolidayCalendar())\n",
        "    prediction_dates = pd.date_range(last_date, periods=num_prediction+1,freq=us_bd).tolist()\n",
        "    return prediction_dates\n",
        "\n",
        "indicators_forecast_scaled = predict(num_prediction, indicators_model)\n",
        "#print(forecast_scaled)\n",
        "indicators_forecast_dates = predict_dates(indicators_df['Date'].values[-1],num_prediction)\n",
        "\n",
        "indicators_forecast = indicators_scaler.inverse_transform(indicators_forecast_scaled.reshape((-1,nr_of_features)))\n",
        "if nr_of_features == 1:\n",
        "   rsi_forecast = indicators_forecast.reshape((-1))\n",
        "else:\n",
        "  rsi_forecast = indicators_forecast[:,0].reshape((-1))\n",
        "  stoch_SlowD_forecast = indicators_forecast[:,1].reshape((-1))\n",
        "  stoch_SlowK_forecast = indicators_forecast[:,2].reshape((-1))\n",
        "  macd_hist_forecast = indicators_forecast[:,3].reshape((-1))\n",
        "\n",
        "if print_level >= DEBUG:\n",
        "  print('indicators_forecast:',indicators_forecast)\n",
        "  print('rsi_forecast:',rsi_forecast)"
      ],
      "execution_count": null,
      "outputs": [
        {
          "output_type": "stream",
          "name": "stdout",
          "text": [
            "indicators_forecast: [[ 60.09  30.90  32.80 -1.01]\n",
            " [ 62.49  42.36  59.25 -0.57]\n",
            " [ 67.27  62.89  86.15 -0.16]\n",
            " [ 67.90  81.01  93.32  0.09]\n",
            " [ 68.19  89.46  91.78  0.31]\n",
            " [ 68.84  90.49  89.30  0.42]\n",
            " [ 69.66  89.91  88.65  0.54]\n",
            " [ 71.11  89.08  88.73  0.54]\n",
            " [ 72.82  87.12  87.75  0.45]\n",
            " [ 73.29  87.92  88.83  0.53]\n",
            " [ 73.37  89.16  89.76  0.66]\n",
            " [ 73.41  88.22  88.69  0.68]\n",
            " [ 73.83  86.84  87.48  0.58]\n",
            " [ 73.24  85.43  86.15  0.56]\n",
            " [ 73.59  83.83  84.81  0.47]\n",
            " [ 74.23  81.63  83.29  0.34]\n",
            " [ 75.06  80.60  82.32  0.27]\n",
            " [ 75.18  80.25  81.93  0.26]\n",
            " [ 75.11  80.10  81.84  0.25]\n",
            " [ 75.01  79.98  81.82  0.24]\n",
            " [ 74.96  79.98  81.90  0.24]\n",
            " [ 74.92  80.02  81.99  0.23]\n",
            " [ 74.90  80.13  82.16  0.23]\n",
            " [ 74.97  80.38  82.41  0.24]\n",
            " [ 75.05  80.65  82.67  0.24]\n",
            " [ 75.12  80.88  82.87  0.25]\n",
            " [ 75.17  81.04  82.99  0.25]\n",
            " [ 75.19  81.17  83.10  0.26]\n",
            " [ 75.22  81.24  83.15  0.26]]\n",
            "rsi_forecast: [ 60.09  62.49  67.27  67.90  68.19  68.84  69.66  71.11  72.82  73.29\n",
            "  73.37  73.41  73.83  73.24  73.59  74.23  75.06  75.18  75.11  75.01\n",
            "  74.96  74.92  74.90  74.97  75.05  75.12  75.17  75.19  75.22]\n"
          ]
        }
      ]
    },
    {
      "cell_type": "code",
      "metadata": {
        "colab": {
          "base_uri": "https://localhost:8080/",
          "height": 684
        },
        "id": "dnqEqJioguwy",
        "outputId": "a95f4374-e8ea-45a5-a0c3-270dd7b97daa"
      },
      "source": [
        "#https://python.plainenglish.io/a-simple-guide-to-plotly-for-plotting-financial-chart-54986c996682\n",
        "chart_days = len(indicators_df_test) * 2\n",
        "\n",
        "#'Date','Close','Volume','High','Low','Open','Divident'\n",
        "open_price =  str(stock_data[-1][5])\n",
        "low_price =  str(stock_data[-1][3])\n",
        "high_price =  str(stock_data[-1][4])\n",
        "close_price =  str(stock_data[-1][1])\n",
        "rsi_forecast_mean = np.round(np.mean(rsi_forecast))\n",
        "\n",
        "tradingview_link = '<a href=\"https://in.tradingview.com/chart/66XmQfYy/?symbol=' + ticker +'\">' + ticker +'</a>'\n",
        "stock_title = tradingview_link + ' Date:' + last_date + ' Open:' + open_price + ' High:' + high_price + ' Low:' + low_price + ' Close:' + close_price\n",
        "indicators_title = tradingview_link + ' RSI('+ str(look_back)+ ') Date:' + last_date + ' Close:' + indicators_df['RSI'].iloc[-1] + ' Forecast('+str(look_back)+'):' + str(rsi_forecast_mean)\n",
        "\n",
        "fig = make_subplots(rows=4, cols=1, row_heights=[0.4, 0.2, 0.2, 0.2], subplot_titles=(stock_title, indicators_title))\n",
        "\n",
        "go.Layout(\n",
        "    title = ticker + ' Date:' + last_date + ' Open:' + open_price + ' High:' + high_price + ' Low:' + low_price + ' Close:' + close_price,\n",
        "    xaxis = {'title' : \"Dates\"},\n",
        "    yaxis = {'title' : \"Close Price ($)\"},\n",
        "    height = 450\n",
        ")\n",
        "\n",
        "trace1 = go.Candlestick(\n",
        "    x = stock_df.tail(chart_days)['Date'],\n",
        "    open = stock_df.tail(chart_days)['Open'],\n",
        "    high = stock_df.tail(chart_days)['High'],\n",
        "    low = stock_df.tail(chart_days)['Low'],\n",
        "    close = stock_df.tail(chart_days)['Close'],\n",
        "    name = ticker + ' Price'\n",
        ")\n",
        "\n",
        "trace2 = go.Scatter(\n",
        "    x = stock_df.tail(chart_days)['Date'],\n",
        "    y = stock_df.tail(chart_days)['50MA'],\n",
        "    mode='lines',\n",
        "    name ='50MA'\n",
        ")\n",
        "\n",
        "trace3 = go.Scatter(\n",
        "    x = stock_df.tail(chart_days)['Date'],\n",
        "    y = stock_df.tail(chart_days)['100MA'],\n",
        "    mode='lines',\n",
        "    name ='100MA'\n",
        ")\n",
        "\n",
        "trace4 = go.Scatter(\n",
        "    x = stock_df.tail(chart_days)['Date'],\n",
        "    y = stock_df.tail(chart_days)['200MA'],\n",
        "    mode='lines',\n",
        "    name ='200MA'\n",
        ")\n",
        "\n",
        "fig.add_trace(trace1,row=1, col=1)\n",
        "fig.add_trace(trace2,row=1, col=1)\n",
        "fig.add_trace(trace3,row=1, col=1)\n",
        "fig.add_trace(trace4,row=1, col=1)\n",
        "\n",
        "trace_rsi_train = go.Scatter(\n",
        "  x = indicators_df_train.tail(len(indicators_df_test))['Date'],\n",
        "  y = indicators_df_train.tail(len(indicators_df_test))['RSI'],\n",
        "  mode='lines',\n",
        "  name ='RSI'\n",
        ")\n",
        "\n",
        "trace_rsi_test = go.Scatter(\n",
        "  x = indicators_df_test['Date'],\n",
        "  y = indicators_df_test['RSI'],\n",
        "  mode='lines',\n",
        "  name ='Test'\n",
        ")\n",
        "\n",
        "trace_rsi_prediction = go.Scatter(\n",
        "    x = indicators_df_test['Date'],\n",
        "    y = rsi_prediction,\n",
        "    mode='markers+lines',\n",
        "    name ='Prediction'\n",
        ")\n",
        "\n",
        "trace_rsi_forecast = go.Scatter(\n",
        "    x = indicators_forecast_dates,\n",
        "    y = rsi_forecast,\n",
        "    mode='markers+lines',\n",
        "    name ='Forecast'\n",
        ")\n",
        "\n",
        "fig.add_trace(trace_rsi_train,row=2, col=1)\n",
        "fig.add_trace(trace_rsi_test,row=2, col=1)\n",
        "fig.add_trace(trace_rsi_prediction,row=2, col=1)\n",
        "fig.add_trace(trace_rsi_forecast,row=2, col=1)\n",
        "\n",
        "fig.add_trace(go.Scatter(\n",
        "        x = [indicators_df_train.tail(len(indicators_df_test))['Date'].min(), np.max(indicators_forecast_dates)],\n",
        "        y = [70, 70],\n",
        "        mode = \"lines\",\n",
        "        line = dict(shape = 'linear', color = 'rgb(100, 10, 100)', dash = 'dash')\n",
        "    ),row=2, col=1)\n",
        "\n",
        "fig.add_trace(go.Scatter(\n",
        "        x = [indicators_df_train.tail(len(indicators_df_test))['Date'].min(), np.max(indicators_forecast_dates)],\n",
        "        y = [50, 50],\n",
        "        mode = \"lines\",\n",
        "        line = dict(shape = 'linear', color = 'rgb(10, 12, 240)', dash = 'dash')\n",
        "    ),row=2, col=1)\n",
        "\n",
        "fig.add_trace(go.Scatter(\n",
        "        x = [indicators_df_train.tail(len(indicators_df_test))['Date'].min(), np.max(indicators_forecast_dates)],\n",
        "        y = [30, 30],\n",
        "        mode = \"lines\",\n",
        "        line = dict(shape = 'linear', color = 'rgb(10, 120, 24)', dash = 'dash')\n",
        "    ),row=2, col=1)\n",
        "\n",
        "\n",
        "trace_stoch_SlowK_train = go.Scatter(\n",
        "  x = indicators_df_train.tail(len(indicators_df_test))['Date'],\n",
        "  y = indicators_df_train.tail(len(indicators_df_test))['SlowK'],\n",
        "  mode='lines',\n",
        "  name ='Train Stoch SlowK'\n",
        ")\n",
        "\n",
        "trace_stoch_SlowD_train = go.Scatter(\n",
        "  x = indicators_df_train.tail(len(indicators_df_test))['Date'],\n",
        "  y = indicators_df_train.tail(len(indicators_df_test))['SlowD'],\n",
        "  mode='lines',\n",
        "  name ='Train Stoch SlowD'\n",
        ")\n",
        "\n",
        "trace_stoch_SlowD_test = go.Scatter(\n",
        "  x = indicators_df_test['Date'],\n",
        "  y = indicators_df_test['SlowD'],\n",
        "  mode='lines',\n",
        "  name ='Test Stoch SlowD'\n",
        ")\n",
        "\n",
        "trace_stoch_SlowK_test = go.Scatter(\n",
        "  x = indicators_df_test['Date'],\n",
        "  y = indicators_df_test['SlowK'],\n",
        "  mode='lines',\n",
        "  name ='Test Stoch SlowK'\n",
        ")\n",
        "\n",
        "trace_stoch_SlowD_prediction = go.Scatter(\n",
        "    x = indicators_df_test['Date'],\n",
        "    y = stoch_slowD_prediction,\n",
        "    mode='markers+lines',\n",
        "    name ='Prediction Stoch SlowD'\n",
        ")\n",
        "\n",
        "trace_stoch_SlowK_prediction = go.Scatter(\n",
        "    x = indicators_df_test['Date'],\n",
        "    y = stoch_slowK_prediction,\n",
        "    mode='markers+lines',\n",
        "    name ='Prediction Stoch SlowK'\n",
        ")\n",
        "\n",
        "trace_stoch_SlowD_forecast = go.Scatter(\n",
        "    x = indicators_forecast_dates,\n",
        "    y = stoch_SlowD_forecast,\n",
        "    mode='markers+lines',\n",
        "    name ='Forecast Stoch SlowD'\n",
        ")\n",
        "\n",
        "trace_stoch_SlowK_forecast = go.Scatter(\n",
        "    x = indicators_forecast_dates,\n",
        "    y = stoch_SlowK_forecast,\n",
        "    mode='markers+lines',\n",
        "    name ='Forecast Stoch SlowK'\n",
        ")\n",
        "\n",
        "fig.add_trace(trace_stoch_SlowK_train, row=3,col=1 )\n",
        "fig.add_trace(trace_stoch_SlowD_train, row=3,col=1 )\n",
        "fig.add_trace(trace_stoch_SlowD_test, row=3,col=1 )\n",
        "fig.add_trace(trace_stoch_SlowK_test, row=3,col=1 )\n",
        "fig.add_trace(trace_stoch_SlowD_prediction, row=3,col=1 )\n",
        "fig.add_trace(trace_stoch_SlowK_prediction, row=3,col=1 )\n",
        "fig.add_trace(trace_stoch_SlowD_forecast, row=3,col=1 )\n",
        "fig.add_trace(trace_stoch_SlowK_forecast, row=3,col=1 )\n",
        "\n",
        "fig.add_trace(go.Scatter(\n",
        "        x = [indicators_df_train.tail(len(indicators_df_test))['Date'].min(), np.max(indicators_forecast_dates)],\n",
        "        y = [70, 70],\n",
        "        mode = \"lines\",\n",
        "        line = dict(shape = 'linear', color = 'rgb(100, 10, 100)', dash = 'dash')\n",
        "    ),row=3, col=1)\n",
        "\n",
        "fig.add_trace(go.Scatter(\n",
        "        x = [indicators_df_train.tail(len(indicators_df_test))['Date'].min(), np.max(indicators_forecast_dates)],\n",
        "        y = [50, 50],\n",
        "        mode = \"lines\",\n",
        "        line = dict(shape = 'linear', color = 'rgb(10, 12, 240)', dash = 'dash')\n",
        "    ),row=3, col=1)\n",
        "\n",
        "fig.add_trace(go.Scatter(\n",
        "        x = [indicators_df_train.tail(len(indicators_df_test))['Date'].min(), np.max(indicators_forecast_dates)],\n",
        "        y = [30, 30],\n",
        "        mode = \"lines\",\n",
        "        line = dict(shape = 'linear', color = 'rgb(10, 120, 24)', dash = 'dash')\n",
        "    ),row=3, col=1)\n",
        "\n",
        "#colors = ['green' if row['Open'] - row['Close'] >= 0 \n",
        "#          else 'red' for index, row in trace_macd_train.iterrows()]\n",
        "trace_macd_train = go.Bar(\n",
        "  x = indicators_df_train.tail(len(indicators_df_test))['Date'],\n",
        "  y = indicators_df_train.tail(len(indicators_df_test))['MACD_Hist']\n",
        ")\n",
        "\n",
        "trace_macd_test = go.Bar(\n",
        "  x = indicators_df_test['Date'],\n",
        "  y = indicators_df_test['MACD_Hist']\n",
        ")\n",
        "\n",
        "trace_macd_hist_forecast = go.Bar(\n",
        "    x = indicators_forecast_dates,\n",
        "    y = macd_hist_forecast,\n",
        "    marker_color=['black']\n",
        ")\n",
        "\n",
        "\n",
        "fig.add_trace(trace_macd_train, row=4,col=1 )\n",
        "fig.add_trace(trace_macd_test, row=4,col=1 )\n",
        "fig.add_trace(trace_macd_hist_forecast, row=4,col=1 )\n",
        "\n",
        "fig.update_yaxes(showspikes=True, spikemode='across', spikesnap='cursor',spikedash='dash')\n",
        "fig.update_xaxes(showspikes=True, spikemode='across', spikesnap='cursor', spikedash='dash')\n",
        "fig.update_layout(xaxis_rangeslider_visible=False,height=650)\n",
        "fig.update_layout(margin=go.layout.Margin(\n",
        "        l=20, #left margin\n",
        "        r=20, #right margin\n",
        "        b=20, #bottom margin\n",
        "        t=20  #top margin\n",
        "    ))\n",
        "fig.show()\n",
        "folder='/content/drive/MyDrive/models/charts/'+ last_date\n",
        "Path(folder).mkdir(parents=True, exist_ok=True)\n",
        "print('chart folder:', folder)\n",
        "fig.write_html(folder + '/' + ticker + '_' + str(look_back) + '_' + str(nr_of_features) + '_09_inidicators_forecast.html')"
      ],
      "execution_count": null,
      "outputs": [
        {
          "output_type": "display_data",
          "data": {
            "text/html": [
              "<html>\n",
              "<head><meta charset=\"utf-8\" /></head>\n",
              "<body>\n",
              "    <div>\n",
              "            <script src=\"https://cdnjs.cloudflare.com/ajax/libs/mathjax/2.7.5/MathJax.js?config=TeX-AMS-MML_SVG\"></script><script type=\"text/javascript\">if (window.MathJax) {MathJax.Hub.Config({SVG: {font: \"STIX-Web\"}});}</script>\n",
              "                <script type=\"text/javascript\">window.PlotlyConfig = {MathJaxConfig: 'local'};</script>\n",
              "        <script src=\"https://cdn.plot.ly/plotly-latest.min.js\"></script>    \n",
              "            <div id=\"b80b5d7a-9934-4eb1-85cc-ff13a463a684\" class=\"plotly-graph-div\" style=\"height:650px; width:100%;\"></div>\n",
              "            <script type=\"text/javascript\">\n",
              "                \n",
              "                    window.PLOTLYENV=window.PLOTLYENV || {};\n",
              "                    \n",
              "                if (document.getElementById(\"b80b5d7a-9934-4eb1-85cc-ff13a463a684\")) {\n",
              "                    Plotly.newPlot(\n",
              "                        'b80b5d7a-9934-4eb1-85cc-ff13a463a684',\n",
              "                        [{\"close\": [\"330.14\", \"329.03\", \"331.51\", \"334.2\", \"325.76\", \"325.31\", \"316.89\", \"319.34\", \"326.39\", \"324.41\", \"322.22\", \"322.59\", \"328.83\", \"327.01\", \"332.51\", \"332.97\", \"334.13\", \"332.88\", \"333.93\", \"332.82\", \"333.47\", \"330.0\", \"335.6\", \"336.6\", \"336.76\", \"336.84\", \"340.35\", \"341.24\", \"344.51\", \"342.26\", \"341.01\", \"345.34\", \"342.63\", \"344.36\", \"347.57\", \"347.74\", \"349.89\", \"349.46\", \"353.71\", \"354.99\", \"354.43\", \"354.57\", \"358.64\", \"360.19\", \"360.95\", \"358.77\", \"361.01\", \"362.42\", \"362.42\", \"363.07\", \"360.52\", \"357.6\", \"354.67\", \"358.79\", \"361.56\", \"363.95\", \"368.2\", \"368.49\", \"364.43\", \"365.83\", \"366.48\", \"364.57\", \"364.6\", \"366.81\", \"367.34\", \"369.67\", \"368.05\", \"368.73\", \"366.84\", \"366.21\", \"367.53\", \"368.82\", \"368.98\", \"365.73\", \"362.21\", \"363.96\", \"367.73\", \"373.23\", \"374.37\", \"374.8\", \"372.42\", \"376.04\", \"380.26\", \"379.95\", \"380.58\", \"380.4\", \"381.57\", \"382.11\", \"380.78\", \"379.47\", \"376.59\", \"376.33\", \"375.26\", \"378.05\", \"378.31\", \"373.83\", \"365.7\", \"366.15\", \"369.57\", \"372.98\", \"373.33\", \"370.35\", \"359.87\", \"359.28\", \"357.96\", \"360.18\", \"352.62\", \"357.38\", \"359.67\", \"362.97\", \"361.16\", \"358.39\", \"357.14\", \"360.0\", \"366.63\", \"368.94\", \"372.65\", \"375.47\", \"374.98\", \"377.27\", \"374.1\", \"377.93\", \"379.12\", \"380.0\", \"384.22\", \"386.11\", \"387.43\", \"389.05\", \"393.18\", \"398.22\", \"398.6\", \"398.06\", \"395.32\", \"389.51\", \"390.59\", \"394.7\", \"394.61\", \"397.42\", \"397.63\", \"401.75\", \"403.99\", \"399.3\", \"397.48\", \"398.76\", \"391.2\", \"399.69\"], \"high\": [\"333.89\", \"333.14\", \"331.67\", \"336.65\", \"332.96\", \"326.1299\", \"322.62\", \"322.4\", \"327.33\", \"326.3721\", \"326.65\", \"322.9\", \"329.71\", \"330.86\", \"333.67\", \"334.81\", \"334.61\", \"334.54\", \"335.5699\", \"335.785\", \"334.34\", \"331.86\", \"336.0582\", \"336.66\", \"339.29\", \"338.97\", \"340.46\", \"341.25\", \"344.52\", \"344.47\", \"343.84\", \"346.38\", \"344.8082\", \"344.69\", \"348.03\", \"348.92\", \"351.46\", \"350.72\", \"353.85\", \"355.0199\", \"355.23\", \"355.09\", \"358.97\", \"360.48\", \"362.76\", \"359.65\", \"361.5\", \"362.89\", \"365.465\", \"365.49\", \"363.19\", \"362.41\", \"355.18\", \"360.28\", \"361.56\", \"363.96\", \"368.485\", \"368.89\", \"368.22\", \"367.45\", \"367.6794\", \"365.17\", \"366.88\", \"366.93\", \"368.32\", \"369.91\", \"369.37\", \"369.27\", \"369.56\", \"368.65\", \"367.9\", \"369.16\", \"369.02\", \"367.15\", \"366.62\", \"365.68\", \"368.14\", \"373.935\", \"374.99\", \"375.39\", \"374.62\", \"376.56\", \"380.76\", \"380.579\", \"382.71\", \"382.31\", \"381.98\", \"382.778\", \"381.93\", \"382.15\", \"381.97\", \"379.43\", \"378.61\", \"378.41\", \"378.9\", \"377.87\", \"369.25\", \"368.81\", \"371.07\", \"374.04\", \"373.76\", \"371.2516\", \"370.302\", \"363.37\", \"362.68\", \"361.25\", \"358.86\", \"359.69\", \"359.95\", \"365.69\", \"364.3166\", \"363.2\", \"360.33\", \"360.69\", \"366.85\", \"369.06\", \"372.87\", \"375.52\", \"376.565\", \"377.47\", \"376.97\", \"378.87\", \"382.71\", \"383.15\", \"384.48\", \"386.28\", \"387.56\", \"389.54\", \"393.61\", \"399.2\", \"400.99\", \"399.62\", \"399.57\", \"395.36\", \"392.75\", \"395.25\", \"396.24\", \"397.93\", \"399.7196\", \"402.27\", \"405.3\", \"408.71\", \"400.23\", \"399.05\", \"397.54\", \"400.73\"], \"low\": [\"326.21\", \"328.23\", \"326.45\", \"331.6914\", \"325.55\", \"319.02\", \"316.0\", \"316.9\", \"322.08\", \"321.45\", \"321.94\", \"316.3\", \"323.89\", \"326.64\", \"326.9032\", \"331.755\", \"332.95\", \"332.67\", \"333.6\", \"331.43\", \"331.695\", \"328.28\", \"331.78\", \"334.34\", \"335.03\", \"336.651\", \"336.73\", \"339.69\", \"340.46\", \"341.52\", \"337.45\", \"339.92\", \"341.86\", \"340.15\", \"343.84\", \"346.88\", \"349.17\", \"348.84\", \"350.72\", \"352.67\", \"353.83\", \"352.68\", \"356.28\", \"356.49\", \"358.94\", \"354.42\", \"357.57\", \"360.83\", \"361.54\", \"362.22\", \"358.46\", \"357.24\", \"352.04\", \"353.8\", \"358.12\", \"361.77\", \"363.9157\", \"366.601\", \"360.16\", \"363.24\", \"365.25\", \"362.41\", \"363.87\", \"362.0\", \"365.63\", \"367.45\", \"366.905\", \"367.39\", \"365.62\", \"364.84\", \"364.295\", \"367.38\", \"363.7\", \"363.23\", \"361.865\", \"359.96\", \"364.74\", \"368.79\", \"373.36\", \"373.855\", \"371.97\", \"372.57\", \"376.83\", \"378.36\", \"380.37\", \"379.15\", \"379.2003\", \"380.4882\", \"378.45\", \"379.22\", \"376.245\", \"374.22\", \"374.28\", \"373.37\", \"374.695\", \"372.76\", \"360.93\", \"364.99\", \"365.9584\", \"370.099\", \"370.27\", \"367.73\", \"359.35\", \"358.635\", \"357.1\", \"354.38\", \"350.32\", \"353.48\", \"353.15\", \"362.25\", \"360.61\", \"358.3\", \"356.48\", \"357.43\", \"363.01\", \"366.82\", \"366.99\", \"372.6974\", \"373.46\", \"373.85\", \"372.385\", \"373.56\", \"377.905\", \"379.31\", \"381.155\", \"380.7\", \"384.42\", \"386.75\", \"388.48\", \"393.92\", \"397.16\", \"397.4\", \"393.92\", \"387.53\", \"390.24\", \"390.13\", \"392.095\", \"393.66\", \"396.64\", \"397.45\", \"402.58\", \"399.19\", \"392.92\", \"392.54\", \"389.77\", \"395.14\"], \"name\": \"QQQ Price\", \"open\": [\"333.56\", \"332.25\", \"328.76\", \"334.37\", \"332.78\", \"319.7\", \"320.23\", \"319.92\", \"322.6\", \"324.63\", \"325.39\", \"316.66\", \"324.12\", \"330.43\", \"329.37\", \"334.07\", \"333.66\", \"333.67\", \"334.12\", \"335.3\", \"333.25\", \"330.55\", \"331.85\", \"335.05\", \"338.395\", \"338.17\", \"337.19\", \"340.36\", \"341.68\", \"344.15\", \"342.74\", \"339.97\", \"343.63\", \"342.43\", \"344.15\", \"347.51\", \"349.73\", \"350.47\", \"350.78\", \"353.53\", \"354.83\", \"354.07\", \"356.52\", \"359.26\", \"362.45\", \"355.74\", \"358.17\", \"362.45\", \"362.03\", \"364.83\", \"362.98\", \"361.4\", \"354.05\", \"355.63\", \"358.35\", \"361.77\", \"365.31\", \"367.49\", \"368.22\", \"365.6\", \"365.25\", \"362.44\", \"366.28\", \"365.28\", \"366.77\", \"368.18\", \"368.37\", \"368.52\", \"369.26\", \"368.14\", \"365.69\", \"367.89\", \"367.67\", \"366.15\", \"365.18\", \"360.22\", \"365.06\", \"368.8\", \"373.84\", \"374.63\", \"373.92\", \"373.07\", \"376.85\", \"380.51\", \"381.04\", \"381.97\", \"379.22\", \"381.68\", \"381.93\", \"381.01\", \"381.23\", \"378.99\", \"377.86\", \"375.73\", \"376.68\", \"377.82\", \"367.46\", \"367.58\", \"367.09\", \"370.76\", \"370.65\", \"370.2\", \"365.67\", \"361.17\", \"360.97\", \"358.6\", \"358.52\", \"353.71\", \"354.08\", \"362.8\", \"364.08\", \"359.58\", \"359.88\", \"359.51\", \"363.69\", \"367.88\", \"367.61\", \"373.75\", \"375.94\", \"374.16\", \"375.98\", \"375.56\", \"380.23\", \"379.58\", \"381.95\", \"381.06\", \"386.56\", \"386.8\", \"389.55\", \"394.48\", \"400.04\", \"398.57\", \"399.16\", \"392.47\", \"392.57\", \"391.77\", \"395.91\", \"393.86\", \"397.75\", \"399.73\", \"403.43\", \"405.57\", \"398.11\", \"394.93\", \"396.11\", \"395.89\"], \"type\": \"candlestick\", \"x\": [\"2021-05-04\", \"2021-05-05\", \"2021-05-06\", \"2021-05-07\", \"2021-05-10\", \"2021-05-11\", \"2021-05-12\", \"2021-05-13\", \"2021-05-14\", \"2021-05-17\", \"2021-05-18\", \"2021-05-19\", \"2021-05-20\", \"2021-05-21\", \"2021-05-24\", \"2021-05-25\", \"2021-05-26\", \"2021-05-27\", \"2021-05-28\", \"2021-06-01\", \"2021-06-02\", \"2021-06-03\", \"2021-06-04\", \"2021-06-07\", \"2021-06-08\", \"2021-06-09\", \"2021-06-10\", \"2021-06-11\", \"2021-06-14\", \"2021-06-15\", \"2021-06-16\", \"2021-06-17\", \"2021-06-18\", \"2021-06-21\", \"2021-06-22\", \"2021-06-23\", \"2021-06-24\", \"2021-06-25\", \"2021-06-28\", \"2021-06-29\", \"2021-06-30\", \"2021-07-01\", \"2021-07-02\", \"2021-07-06\", \"2021-07-07\", \"2021-07-08\", \"2021-07-09\", \"2021-07-12\", \"2021-07-13\", \"2021-07-14\", \"2021-07-15\", \"2021-07-16\", \"2021-07-19\", \"2021-07-20\", \"2021-07-21\", \"2021-07-22\", \"2021-07-23\", \"2021-07-26\", \"2021-07-27\", \"2021-07-28\", \"2021-07-29\", \"2021-07-30\", \"2021-08-02\", \"2021-08-03\", \"2021-08-04\", \"2021-08-05\", \"2021-08-06\", \"2021-08-09\", \"2021-08-10\", \"2021-08-11\", \"2021-08-12\", \"2021-08-13\", \"2021-08-16\", \"2021-08-17\", \"2021-08-18\", \"2021-08-19\", \"2021-08-20\", \"2021-08-23\", \"2021-08-24\", \"2021-08-25\", \"2021-08-26\", \"2021-08-27\", \"2021-08-30\", \"2021-08-31\", \"2021-09-01\", \"2021-09-02\", \"2021-09-03\", \"2021-09-07\", \"2021-09-08\", \"2021-09-09\", \"2021-09-10\", \"2021-09-13\", \"2021-09-14\", \"2021-09-15\", \"2021-09-16\", \"2021-09-17\", \"2021-09-20\", \"2021-09-21\", \"2021-09-22\", \"2021-09-23\", \"2021-09-24\", \"2021-09-27\", \"2021-09-28\", \"2021-09-29\", \"2021-09-30\", \"2021-10-01\", \"2021-10-04\", \"2021-10-05\", \"2021-10-06\", \"2021-10-07\", \"2021-10-08\", \"2021-10-11\", \"2021-10-12\", \"2021-10-13\", \"2021-10-14\", \"2021-10-15\", \"2021-10-18\", \"2021-10-19\", \"2021-10-20\", \"2021-10-21\", \"2021-10-22\", \"2021-10-25\", \"2021-10-26\", \"2021-10-27\", \"2021-10-28\", \"2021-10-29\", \"2021-11-01\", \"2021-11-02\", \"2021-11-03\", \"2021-11-04\", \"2021-11-05\", \"2021-11-08\", \"2021-11-09\", \"2021-11-10\", \"2021-11-11\", \"2021-11-12\", \"2021-11-15\", \"2021-11-16\", \"2021-11-17\", \"2021-11-18\", \"2021-11-19\", \"2021-11-22\", \"2021-11-23\", \"2021-11-24\", \"2021-11-26\", \"2021-11-29\"], \"xaxis\": \"x\", \"yaxis\": \"y\"}, {\"mode\": \"lines\", \"name\": \"50MA\", \"type\": \"scatter\", \"x\": [\"2021-05-04\", \"2021-05-05\", \"2021-05-06\", \"2021-05-07\", \"2021-05-10\", \"2021-05-11\", \"2021-05-12\", \"2021-05-13\", \"2021-05-14\", \"2021-05-17\", \"2021-05-18\", \"2021-05-19\", \"2021-05-20\", \"2021-05-21\", \"2021-05-24\", \"2021-05-25\", \"2021-05-26\", \"2021-05-27\", \"2021-05-28\", \"2021-06-01\", \"2021-06-02\", \"2021-06-03\", \"2021-06-04\", \"2021-06-07\", \"2021-06-08\", \"2021-06-09\", \"2021-06-10\", \"2021-06-11\", \"2021-06-14\", \"2021-06-15\", \"2021-06-16\", \"2021-06-17\", \"2021-06-18\", \"2021-06-21\", \"2021-06-22\", \"2021-06-23\", \"2021-06-24\", \"2021-06-25\", \"2021-06-28\", \"2021-06-29\", \"2021-06-30\", \"2021-07-01\", \"2021-07-02\", \"2021-07-06\", \"2021-07-07\", \"2021-07-08\", \"2021-07-09\", \"2021-07-12\", \"2021-07-13\", \"2021-07-14\", \"2021-07-15\", \"2021-07-16\", \"2021-07-19\", \"2021-07-20\", \"2021-07-21\", \"2021-07-22\", \"2021-07-23\", \"2021-07-26\", \"2021-07-27\", \"2021-07-28\", \"2021-07-29\", \"2021-07-30\", \"2021-08-02\", \"2021-08-03\", \"2021-08-04\", \"2021-08-05\", \"2021-08-06\", \"2021-08-09\", \"2021-08-10\", \"2021-08-11\", \"2021-08-12\", \"2021-08-13\", \"2021-08-16\", \"2021-08-17\", \"2021-08-18\", \"2021-08-19\", \"2021-08-20\", \"2021-08-23\", \"2021-08-24\", \"2021-08-25\", \"2021-08-26\", \"2021-08-27\", \"2021-08-30\", \"2021-08-31\", \"2021-09-01\", \"2021-09-02\", \"2021-09-03\", \"2021-09-07\", \"2021-09-08\", \"2021-09-09\", \"2021-09-10\", \"2021-09-13\", \"2021-09-14\", \"2021-09-15\", \"2021-09-16\", \"2021-09-17\", \"2021-09-20\", \"2021-09-21\", \"2021-09-22\", \"2021-09-23\", \"2021-09-24\", \"2021-09-27\", \"2021-09-28\", \"2021-09-29\", \"2021-09-30\", \"2021-10-01\", \"2021-10-04\", \"2021-10-05\", \"2021-10-06\", \"2021-10-07\", \"2021-10-08\", \"2021-10-11\", \"2021-10-12\", \"2021-10-13\", \"2021-10-14\", \"2021-10-15\", \"2021-10-18\", \"2021-10-19\", \"2021-10-20\", \"2021-10-21\", \"2021-10-22\", \"2021-10-25\", \"2021-10-26\", \"2021-10-27\", \"2021-10-28\", \"2021-10-29\", \"2021-11-01\", \"2021-11-02\", \"2021-11-03\", \"2021-11-04\", \"2021-11-05\", \"2021-11-08\", \"2021-11-09\", \"2021-11-10\", \"2021-11-11\", \"2021-11-12\", \"2021-11-15\", \"2021-11-16\", \"2021-11-17\", \"2021-11-18\", \"2021-11-19\", \"2021-11-22\", \"2021-11-23\", \"2021-11-24\", \"2021-11-26\", \"2021-11-29\"], \"xaxis\": \"x\", \"y\": [324.9129999999999, 325.06399999999996, 325.2115999999999, 325.6389999999999, 325.87139999999994, 325.90579999999994, 325.87559999999996, 326.0791999999999, 326.52499999999986, 326.8395999999999, 327.2851999999999, 327.5015999999999, 327.8605999999999, 328.03999999999985, 328.38099999999986, 328.6637999999998, 328.9347999999998, 329.1543999999998, 329.5921999999998, 329.9857999999998, 330.2829999999998, 330.5385999999998, 331.01319999999976, 331.5185999999997, 331.9337999999997, 332.3523999999997, 332.87299999999965, 333.31519999999966, 333.71399999999966, 333.93819999999965, 334.1419999999996, 334.4163999999996, 334.5673999999996, 334.7123999999996, 334.9303999999996, 335.0731999999997, 335.3407999999997, 335.4977999999997, 335.73179999999974, 336.05399999999975, 336.4143999999997, 336.7199999999997, 337.1887999999997, 337.6041999999997, 337.9905999999997, 338.36299999999966, 338.8031999999996, 339.24719999999957, 339.73579999999953, 340.2733999999995, 340.8809999999996, 341.45239999999956, 341.91559999999953, 342.40739999999954, 343.1233999999996, 343.89619999999957, 344.92239999999964, 345.90539999999964, 346.66619999999966, 347.4945999999997, 348.37979999999965, 349.21939999999967, 349.9347999999996, 350.73079999999965, 351.4273999999997, 352.1613999999996, 352.83979999999957, 353.55679999999955, 354.2149999999996, 354.8827999999996, 355.5639999999995, 356.3403999999995, 357.0079999999995, 357.59059999999954, 358.09959999999955, 358.64199999999954, 359.18959999999953, 359.8293999999995, 360.42659999999955, 361.07739999999956, 361.70559999999955, 362.3195999999996, 363.0721999999995, 363.7839999999995, 364.44419999999957, 365.09739999999954, 365.73099999999954, 366.38399999999956, 366.92539999999957, 367.41499999999957, 367.85819999999956, 368.2933999999996, 368.6257999999996, 368.9829999999996, 369.3301999999996, 369.63139999999964, 369.7251999999997, 369.7997999999997, 369.94279999999975, 370.1409999999998, 370.39719999999977, 370.65219999999977, 370.7561999999998, 370.7659999999998, 370.69399999999973, 370.61859999999973, 370.3069999999997, 370.0847999999997, 369.98959999999965, 369.93239999999963, 369.8259999999996, 369.7023999999996, 369.5531999999996, 369.41699999999963, 369.4027999999996, 369.38819999999964, 369.4801999999997, 369.6149999999997, 369.7777999999997, 369.99899999999974, 370.1303999999997, 370.31259999999975, 370.5153999999997, 370.80079999999975, 371.24099999999976, 371.6839999999998, 372.0779999999998, 372.3943999999998, 372.77059999999983, 373.23899999999986, 373.76259999999985, 374.20299999999986, 374.5041999999999, 374.69539999999984, 374.89559999999983, 375.18159999999983, 375.44239999999985, 375.7485999999998, 376.08559999999983, 376.5311999999998, 377.07919999999984, 377.5385999999998, 377.98299999999983, 378.39719999999977, 378.6549999999998, 379.17219999999975], \"yaxis\": \"y\"}, {\"mode\": \"lines\", \"name\": \"100MA\", \"type\": \"scatter\", \"x\": [\"2021-05-04\", \"2021-05-05\", \"2021-05-06\", \"2021-05-07\", \"2021-05-10\", \"2021-05-11\", \"2021-05-12\", \"2021-05-13\", \"2021-05-14\", \"2021-05-17\", \"2021-05-18\", \"2021-05-19\", \"2021-05-20\", \"2021-05-21\", \"2021-05-24\", \"2021-05-25\", \"2021-05-26\", \"2021-05-27\", \"2021-05-28\", \"2021-06-01\", \"2021-06-02\", \"2021-06-03\", \"2021-06-04\", \"2021-06-07\", \"2021-06-08\", \"2021-06-09\", \"2021-06-10\", \"2021-06-11\", \"2021-06-14\", \"2021-06-15\", \"2021-06-16\", \"2021-06-17\", \"2021-06-18\", \"2021-06-21\", \"2021-06-22\", \"2021-06-23\", \"2021-06-24\", \"2021-06-25\", \"2021-06-28\", \"2021-06-29\", \"2021-06-30\", \"2021-07-01\", \"2021-07-02\", \"2021-07-06\", \"2021-07-07\", \"2021-07-08\", \"2021-07-09\", \"2021-07-12\", \"2021-07-13\", \"2021-07-14\", \"2021-07-15\", \"2021-07-16\", \"2021-07-19\", \"2021-07-20\", \"2021-07-21\", \"2021-07-22\", \"2021-07-23\", \"2021-07-26\", \"2021-07-27\", \"2021-07-28\", \"2021-07-29\", \"2021-07-30\", \"2021-08-02\", \"2021-08-03\", \"2021-08-04\", \"2021-08-05\", \"2021-08-06\", \"2021-08-09\", \"2021-08-10\", \"2021-08-11\", \"2021-08-12\", \"2021-08-13\", \"2021-08-16\", \"2021-08-17\", \"2021-08-18\", \"2021-08-19\", \"2021-08-20\", \"2021-08-23\", \"2021-08-24\", \"2021-08-25\", \"2021-08-26\", \"2021-08-27\", \"2021-08-30\", \"2021-08-31\", \"2021-09-01\", \"2021-09-02\", \"2021-09-03\", \"2021-09-07\", \"2021-09-08\", \"2021-09-09\", \"2021-09-10\", \"2021-09-13\", \"2021-09-14\", \"2021-09-15\", \"2021-09-16\", \"2021-09-17\", \"2021-09-20\", \"2021-09-21\", \"2021-09-22\", \"2021-09-23\", \"2021-09-24\", \"2021-09-27\", \"2021-09-28\", \"2021-09-29\", \"2021-09-30\", \"2021-10-01\", \"2021-10-04\", \"2021-10-05\", \"2021-10-06\", \"2021-10-07\", \"2021-10-08\", \"2021-10-11\", \"2021-10-12\", \"2021-10-13\", \"2021-10-14\", \"2021-10-15\", \"2021-10-18\", \"2021-10-19\", \"2021-10-20\", \"2021-10-21\", \"2021-10-22\", \"2021-10-25\", \"2021-10-26\", \"2021-10-27\", \"2021-10-28\", \"2021-10-29\", \"2021-11-01\", \"2021-11-02\", \"2021-11-03\", \"2021-11-04\", \"2021-11-05\", \"2021-11-08\", \"2021-11-09\", \"2021-11-10\", \"2021-11-11\", \"2021-11-12\", \"2021-11-15\", \"2021-11-16\", \"2021-11-17\", \"2021-11-18\", \"2021-11-19\", \"2021-11-22\", \"2021-11-23\", \"2021-11-24\", \"2021-11-26\", \"2021-11-29\"], \"xaxis\": \"x\", \"y\": [321.8312000000002, 322.10840000000013, 322.3983000000001, 322.72180000000014, 322.93900000000014, 323.11920000000015, 323.19830000000013, 323.2817000000001, 323.4450000000001, 323.5999000000001, 323.72450000000015, 323.8684000000001, 324.0611000000001, 324.20440000000013, 324.3999000000001, 324.5999000000001, 324.8038000000001, 325.0395000000001, 325.26020000000005, 325.51300000000003, 325.69790000000006, 325.8076000000001, 326.0194000000001, 326.2462000000001, 326.4534000000001, 326.6783000000001, 326.9632000000001, 327.21150000000006, 327.4189, 327.5779, 327.73380000000003, 327.9061, 328.04650000000004, 328.29580000000004, 328.55830000000003, 328.8901, 329.1648, 329.3826, 329.65590000000003, 329.90340000000003, 330.13410000000005, 330.344, 330.5953, 330.8697, 331.13339999999994, 331.35659999999996, 331.61129999999997, 331.89619999999996, 332.19569999999993, 332.51619999999997, 332.8969999999999, 333.2581999999999, 333.56359999999984, 334.02319999999986, 334.49739999999986, 334.90099999999984, 335.3989999999998, 335.9922999999997, 336.59559999999976, 337.1670999999998, 337.83249999999975, 338.36049999999983, 338.8976999999998, 339.3853999999998, 339.9041999999998, 340.4125999999997, 340.88729999999975, 341.35559999999975, 341.9035999999997, 342.4342999999997, 342.9234999999997, 343.43949999999967, 344.01059999999967, 344.5545999999997, 345.0166999999997, 345.4971999999996, 346.0312999999997, 346.57229999999976, 347.07029999999975, 347.50779999999975, 347.92379999999974, 348.3679999999997, 348.81979999999976, 349.2481999999997, 349.68729999999977, 350.0852999999998, 350.53589999999974, 350.9408999999998, 351.3285999999997, 351.73449999999974, 352.13629999999966, 352.5066999999997, 352.90729999999974, 353.2935999999998, 353.6603999999998, 353.9971999999998, 354.2641999999998, 354.5234999999998, 354.8392999999998, 355.2071999999998, 355.6390999999998, 356.05229999999983, 356.3358999999998, 356.58669999999984, 356.9086999999998, 357.25739999999985, 357.61469999999986, 357.99509999999987, 358.3278999999999, 358.71349999999984, 359.10289999999986, 359.46089999999987, 359.74399999999986, 360.07389999999987, 360.4150999999998, 360.7747999999998, 361.15999999999985, 361.58589999999987, 361.99639999999994, 362.4408999999999, 362.8471999999999, 363.3264999999999, 363.7616999999999, 364.19569999999993, 364.67029999999994, 365.16299999999995, 365.63379999999995, 366.11190000000005, 366.59860000000003, 367.1582, 367.73409999999996, 368.26129999999995, 368.7882, 369.2397, 369.6699, 370.1395, 370.5867, 371.06629999999996, 371.5055, 371.9731, 372.46869999999996, 372.916, 373.30440000000004, 373.69010000000003, 373.99260000000004, 374.4018000000001], \"yaxis\": \"y\"}, {\"mode\": \"lines\", \"name\": \"200MA\", \"type\": \"scatter\", \"x\": [\"2021-05-04\", \"2021-05-05\", \"2021-05-06\", \"2021-05-07\", \"2021-05-10\", \"2021-05-11\", \"2021-05-12\", \"2021-05-13\", \"2021-05-14\", \"2021-05-17\", \"2021-05-18\", \"2021-05-19\", \"2021-05-20\", \"2021-05-21\", \"2021-05-24\", \"2021-05-25\", \"2021-05-26\", \"2021-05-27\", \"2021-05-28\", \"2021-06-01\", \"2021-06-02\", \"2021-06-03\", \"2021-06-04\", \"2021-06-07\", \"2021-06-08\", \"2021-06-09\", \"2021-06-10\", \"2021-06-11\", \"2021-06-14\", \"2021-06-15\", \"2021-06-16\", \"2021-06-17\", \"2021-06-18\", \"2021-06-21\", \"2021-06-22\", \"2021-06-23\", \"2021-06-24\", \"2021-06-25\", \"2021-06-28\", \"2021-06-29\", \"2021-06-30\", \"2021-07-01\", \"2021-07-02\", \"2021-07-06\", \"2021-07-07\", \"2021-07-08\", \"2021-07-09\", \"2021-07-12\", \"2021-07-13\", \"2021-07-14\", \"2021-07-15\", \"2021-07-16\", \"2021-07-19\", \"2021-07-20\", \"2021-07-21\", \"2021-07-22\", \"2021-07-23\", \"2021-07-26\", \"2021-07-27\", \"2021-07-28\", \"2021-07-29\", \"2021-07-30\", \"2021-08-02\", \"2021-08-03\", \"2021-08-04\", \"2021-08-05\", \"2021-08-06\", \"2021-08-09\", \"2021-08-10\", \"2021-08-11\", \"2021-08-12\", \"2021-08-13\", \"2021-08-16\", \"2021-08-17\", \"2021-08-18\", \"2021-08-19\", \"2021-08-20\", \"2021-08-23\", \"2021-08-24\", \"2021-08-25\", \"2021-08-26\", \"2021-08-27\", \"2021-08-30\", \"2021-08-31\", \"2021-09-01\", \"2021-09-02\", \"2021-09-03\", \"2021-09-07\", \"2021-09-08\", \"2021-09-09\", \"2021-09-10\", \"2021-09-13\", \"2021-09-14\", \"2021-09-15\", \"2021-09-16\", \"2021-09-17\", \"2021-09-20\", \"2021-09-21\", \"2021-09-22\", \"2021-09-23\", \"2021-09-24\", \"2021-09-27\", \"2021-09-28\", \"2021-09-29\", \"2021-09-30\", \"2021-10-01\", \"2021-10-04\", \"2021-10-05\", \"2021-10-06\", \"2021-10-07\", \"2021-10-08\", \"2021-10-11\", \"2021-10-12\", \"2021-10-13\", \"2021-10-14\", \"2021-10-15\", \"2021-10-18\", \"2021-10-19\", \"2021-10-20\", \"2021-10-21\", \"2021-10-22\", \"2021-10-25\", \"2021-10-26\", \"2021-10-27\", \"2021-10-28\", \"2021-10-29\", \"2021-11-01\", \"2021-11-02\", \"2021-11-03\", \"2021-11-04\", \"2021-11-05\", \"2021-11-08\", \"2021-11-09\", \"2021-11-10\", \"2021-11-11\", \"2021-11-12\", \"2021-11-15\", \"2021-11-16\", \"2021-11-17\", \"2021-11-18\", \"2021-11-19\", \"2021-11-22\", \"2021-11-23\", \"2021-11-24\", \"2021-11-26\", \"2021-11-29\"], \"xaxis\": \"x\", \"y\": [301.4566999999999, 301.76794999999987, 302.1054999999999, 302.45184999999987, 302.79059999999987, 303.13934999999987, 303.42319999999984, 303.73584999999986, 304.06894999999986, 304.3853499999999, 304.6674999999999, 304.9335499999999, 305.22579999999994, 305.5055999999999, 305.7949499999999, 306.1024499999999, 306.4215499999999, 306.7599999999999, 307.0703499999999, 307.3720499999999, 307.67859999999985, 307.9519999999999, 308.24014999999986, 308.54264999999987, 308.8267999999999, 309.10164999999984, 309.3852499999998, 309.6621499999998, 309.9248999999998, 310.1809499999998, 310.42334999999986, 310.67564999999985, 310.88919999999985, 311.0971999999998, 311.3979999999998, 311.7187999999998, 312.1184999999998, 312.4763999999998, 312.8832499999998, 313.3059499999998, 313.7022999999998, 314.07984999999985, 314.49999999999983, 314.9493499999998, 315.4197499999998, 315.8760499999998, 316.31869999999975, 316.8099999999997, 317.29514999999975, 317.7526999999998, 318.16929999999974, 318.57754999999975, 318.9616999999998, 319.3443999999998, 319.78064999999975, 320.19959999999975, 320.66479999999973, 321.1076499999997, 321.5227499999997, 321.9233499999997, 322.2830999999997, 322.6333499999997, 322.99604999999974, 323.37959999999975, 323.7737499999997, 324.20309999999967, 324.6212999999997, 325.0439999999997, 325.4572999999997, 325.8646499999997, 326.2999499999997, 326.73074999999966, 327.21744999999964, 327.66414999999967, 328.1282999999996, 328.5981999999997, 329.0635999999997, 329.49519999999967, 329.8950999999997, 330.2960499999997, 330.7151999999997, 331.17829999999964, 331.6307999999997, 332.08854999999966, 332.5367999999997, 332.9727999999997, 333.41929999999974, 333.8792999999997, 334.32129999999967, 334.76674999999966, 335.19774999999964, 335.6070499999997, 336.0019499999996, 336.39714999999967, 336.7905999999997, 337.14244999999966, 337.4516999999996, 337.7610499999996, 338.0812999999996, 338.4099499999996, 338.73514999999963, 339.08034999999967, 339.36709999999965, 339.6542499999996, 339.9238499999997, 340.18829999999963, 340.40649999999965, 340.63839999999965, 340.8864499999997, 341.1566999999997, 341.4136999999997, 341.66464999999977, 341.90254999999974, 342.1391499999998, 342.4074999999998, 342.6873499999998, 342.9818999999997, 343.3126999999997, 343.62829999999974, 343.97694999999976, 344.27254999999985, 344.5670499999998, 344.8905499999998, 345.2209499999998, 345.5618499999998, 345.9206499999998, 346.29849999999976, 346.66169999999977, 347.00874999999974, 347.3680499999997, 347.73394999999977, 348.08369999999974, 348.4173499999998, 348.7677499999998, 349.1140999999997, 349.51479999999975, 349.87574999999975, 350.22444999999976, 350.58069999999975, 350.93824999999975, 351.3013999999998, 351.62999999999977, 351.9498499999998, 352.27989999999977, 352.56299999999976, 352.87919999999974], \"yaxis\": \"y\"}, {\"mode\": \"lines\", \"name\": \"RSI\", \"type\": \"scatter\", \"x\": [\"2021-05-04\", \"2021-05-05\", \"2021-05-06\", \"2021-05-07\", \"2021-05-10\", \"2021-05-11\", \"2021-05-12\", \"2021-05-13\", \"2021-05-14\", \"2021-05-17\", \"2021-05-18\", \"2021-05-19\", \"2021-05-20\", \"2021-05-21\", \"2021-05-24\", \"2021-05-25\", \"2021-05-26\", \"2021-05-27\", \"2021-05-28\", \"2021-06-01\", \"2021-06-02\", \"2021-06-03\", \"2021-06-04\", \"2021-06-07\", \"2021-06-08\", \"2021-06-09\", \"2021-06-10\", \"2021-06-11\", \"2021-06-14\", \"2021-06-15\", \"2021-06-16\", \"2021-06-17\", \"2021-06-18\", \"2021-06-21\", \"2021-06-22\", \"2021-06-23\", \"2021-06-24\", \"2021-06-25\", \"2021-06-28\", \"2021-06-29\", \"2021-06-30\", \"2021-07-01\", \"2021-07-02\", \"2021-07-06\", \"2021-07-07\", \"2021-07-08\", \"2021-07-09\", \"2021-07-12\", \"2021-07-13\", \"2021-07-14\", \"2021-07-15\", \"2021-07-16\", \"2021-07-19\", \"2021-07-20\", \"2021-07-21\", \"2021-07-22\", \"2021-07-23\", \"2021-07-26\", \"2021-07-27\", \"2021-07-28\", \"2021-07-29\", \"2021-07-30\", \"2021-08-02\", \"2021-08-03\", \"2021-08-04\", \"2021-08-05\", \"2021-08-06\", \"2021-08-09\", \"2021-08-10\", \"2021-08-11\", \"2021-08-12\", \"2021-08-13\", \"2021-08-16\"], \"xaxis\": \"x2\", \"y\": [\"45.7213\", \"44.4391\", \"47.9512\", \"51.5301\", \"41.8149\", \"41.3671\", \"34.0246\", \"37.5008\", \"46.2732\", \"44.3888\", \"42.3352\", \"42.8165\", \"50.3445\", \"48.3454\", \"54.2567\", \"54.7234\", \"55.9441\", \"54.2469\", \"55.469\", \"53.832\", \"54.6755\", \"49.4783\", \"56.6414\", \"57.7922\", \"57.9843\", \"58.0871\", \"62.4283\", \"63.4617\", \"67.048\", \"62.5022\", \"60.0657\", \"65.1358\", \"60.0013\", \"62.4997\", \"65.9595\", \"66.1377\", \"68.3912\", \"67.4248\", \"71.6839\", \"72.8358\", \"71.466\", \"71.6097\", \"75.4775\", \"76.7752\", \"77.4065\", \"71.4102\", \"73.6674\", \"75.0052\", \"75.0052\", \"75.6661\", \"68.0624\", \"60.5579\", \"54.1108\", \"60.4818\", \"64.0914\", \"66.9006\", \"71.2134\", \"71.4864\", \"62.5434\", \"64.2062\", \"64.9835\", \"60.8051\", \"60.8477\", \"63.9545\", \"64.6784\", \"67.7451\", \"63.6099\", \"64.587\", \"59.7821\", \"58.2271\", \"60.5429\", \"62.7181\", \"62.9906\"], \"yaxis\": \"y2\"}, {\"mode\": \"lines\", \"name\": \"Test\", \"type\": \"scatter\", \"x\": [\"2021-08-17\", \"2021-08-18\", \"2021-08-19\", \"2021-08-20\", \"2021-08-23\", \"2021-08-24\", \"2021-08-25\", \"2021-08-26\", \"2021-08-27\", \"2021-08-30\", \"2021-08-31\", \"2021-09-01\", \"2021-09-02\", \"2021-09-03\", \"2021-09-07\", \"2021-09-08\", \"2021-09-09\", \"2021-09-10\", \"2021-09-13\", \"2021-09-14\", \"2021-09-15\", \"2021-09-16\", \"2021-09-17\", \"2021-09-20\", \"2021-09-21\", \"2021-09-22\", \"2021-09-23\", \"2021-09-24\", \"2021-09-27\", \"2021-09-28\", \"2021-09-29\", \"2021-09-30\", \"2021-10-01\", \"2021-10-04\", \"2021-10-05\", \"2021-10-06\", \"2021-10-07\", \"2021-10-08\", \"2021-10-11\", \"2021-10-12\", \"2021-10-13\", \"2021-10-14\", \"2021-10-15\", \"2021-10-18\", \"2021-10-19\", \"2021-10-20\", \"2021-10-21\", \"2021-10-22\", \"2021-10-25\", \"2021-10-26\", \"2021-10-27\", \"2021-10-28\", \"2021-10-29\", \"2021-11-01\", \"2021-11-02\", \"2021-11-03\", \"2021-11-04\", \"2021-11-05\", \"2021-11-08\", \"2021-11-09\", \"2021-11-10\", \"2021-11-11\", \"2021-11-12\", \"2021-11-15\", \"2021-11-16\", \"2021-11-17\", \"2021-11-18\", \"2021-11-19\", \"2021-11-22\", \"2021-11-23\", \"2021-11-24\", \"2021-11-26\", \"2021-11-29\"], \"xaxis\": \"x2\", \"y\": [\"54.3068\", \"46.784\", \"50.4583\", \"57.2984\", \"64.9101\", \"66.2529\", \"66.7694\", \"61.187\", \"65.8622\", \"70.3464\", \"69.6229\", \"70.2916\", \"69.8187\", \"71.1761\", \"71.8064\", \"67.87\", \"64.1404\", \"56.756\", \"56.1278\", \"53.5031\", \"58.9001\", \"59.3733\", \"48.9205\", \"36.8781\", \"37.8402\", \"44.7346\", \"50.616\", \"51.1902\", \"46.2587\", \"33.8928\", \"33.3522\", \"32.118\", \"36.3819\", \"29.5702\", \"37.5042\", \"40.9506\", \"45.6057\", \"43.5765\", \"40.5993\", \"39.2947\", \"43.7487\", \"52.4572\", \"55.0673\", \"58.9639\", \"61.6838\", \"60.9281\", \"63.1974\", \"58.1617\", \"62.0919\", \"63.2471\", \"64.1179\", \"68.0299\", \"69.6271\", \"70.727\", \"72.0641\", \"75.177\", \"78.3479\", \"78.5701\", \"77.3549\", \"71.3266\", \"60.5511\", \"61.7091\", \"65.821\", \"65.6547\", \"68.3434\", \"68.5416\", \"72.2169\", \"73.9958\", \"64.6609\", \"61.4227\", \"62.8325\", \"50.982\", \"60.0863\"], \"yaxis\": \"y2\"}, {\"mode\": \"markers+lines\", \"name\": \"Prediction\", \"type\": \"scatter\", \"x\": [\"2021-08-17\", \"2021-08-18\", \"2021-08-19\", \"2021-08-20\", \"2021-08-23\", \"2021-08-24\", \"2021-08-25\", \"2021-08-26\", \"2021-08-27\", \"2021-08-30\", \"2021-08-31\", \"2021-09-01\", \"2021-09-02\", \"2021-09-03\", \"2021-09-07\", \"2021-09-08\", \"2021-09-09\", \"2021-09-10\", \"2021-09-13\", \"2021-09-14\", \"2021-09-15\", \"2021-09-16\", \"2021-09-17\", \"2021-09-20\", \"2021-09-21\", \"2021-09-22\", \"2021-09-23\", \"2021-09-24\", \"2021-09-27\", \"2021-09-28\", \"2021-09-29\", \"2021-09-30\", \"2021-10-01\", \"2021-10-04\", \"2021-10-05\", \"2021-10-06\", \"2021-10-07\", \"2021-10-08\", \"2021-10-11\", \"2021-10-12\", \"2021-10-13\", \"2021-10-14\", \"2021-10-15\", \"2021-10-18\", \"2021-10-19\", \"2021-10-20\", \"2021-10-21\", \"2021-10-22\", \"2021-10-25\", \"2021-10-26\", \"2021-10-27\", \"2021-10-28\", \"2021-10-29\", \"2021-11-01\", \"2021-11-02\", \"2021-11-03\", \"2021-11-04\", \"2021-11-05\", \"2021-11-08\", \"2021-11-09\", \"2021-11-10\", \"2021-11-11\", \"2021-11-12\", \"2021-11-15\", \"2021-11-16\", \"2021-11-17\", \"2021-11-18\", \"2021-11-19\", \"2021-11-22\", \"2021-11-23\", \"2021-11-24\", \"2021-11-26\", \"2021-11-29\"], \"xaxis\": \"x2\", \"y\": [71.82833862304688, 71.31411743164062, 67.97393798828125, 62.61481475830078, 60.3018913269043, 62.25994873046875, 61.159828186035156, 61.77626037597656, 62.99909591674805, 53.5708122253418, 45.13677215576172, 40.95866394042969, 43.832923889160156, 47.1520881652832, 50.88602066040039, 52.126983642578125, 48.22442626953125, 42.59237289428711, 38.07020568847656, 38.95988845825195, 41.5308837890625, 45.3786506652832, 47.115570068359375, 47.31367111206055, 46.065216064453125, 45.68499755859375, 46.833152770996094, 46.4051513671875, 51.2287483215332, 55.1373405456543, 56.39706802368164, 57.47528839111328, 57.27065658569336, 57.931243896484375, 57.161346435546875, 58.27260971069336, 58.72576141357422, 59.19401931762695, 62.2352180480957, 64.99907684326172, 66.67963409423828, 68.27855682373047, 69.31665802001953, 69.90946197509766, 70.24988555908203, 70.50735473632812, 67.0705337524414, 59.651187896728516, 57.687137603759766, 64.0905990600586, 66.55648040771484, 67.43524932861328, 67.18295288085938, 67.82760620117188, 68.01541137695312, 62.321537017822266, 60.19792938232422, 62.2731819152832, 59.633907318115234], \"yaxis\": \"y2\"}, {\"mode\": \"markers+lines\", \"name\": \"Forecast\", \"type\": \"scatter\", \"x\": [\"2021-11-29T00:00:00\", \"2021-11-30T00:00:00\", \"2021-12-01T00:00:00\", \"2021-12-02T00:00:00\", \"2021-12-03T00:00:00\", \"2021-12-06T00:00:00\", \"2021-12-07T00:00:00\", \"2021-12-08T00:00:00\", \"2021-12-09T00:00:00\", \"2021-12-10T00:00:00\", \"2021-12-13T00:00:00\", \"2021-12-14T00:00:00\", \"2021-12-15T00:00:00\", \"2021-12-16T00:00:00\", \"2021-12-17T00:00:00\", \"2021-12-20T00:00:00\", \"2021-12-21T00:00:00\", \"2021-12-22T00:00:00\", \"2021-12-23T00:00:00\", \"2021-12-27T00:00:00\", \"2021-12-28T00:00:00\", \"2021-12-29T00:00:00\", \"2021-12-30T00:00:00\", \"2022-01-03T00:00:00\", \"2022-01-04T00:00:00\", \"2022-01-05T00:00:00\", \"2022-01-06T00:00:00\", \"2022-01-07T00:00:00\", \"2022-01-10T00:00:00\"], \"xaxis\": \"x2\", \"y\": [60.0863, 62.488127669662234, 67.27374473865032, 67.89948075725435, 68.18897637295126, 68.84133945617675, 69.65551590448618, 71.11172926725149, 72.81520042454004, 73.2906772411704, 73.36528680761455, 73.40719089945554, 73.83246899228692, 73.23852474273443, 73.58798147523403, 74.22524897631406, 75.06116967269777, 75.18163624152541, 75.11176368755102, 75.01062749929427, 74.95955395103097, 74.91715736541748, 74.89810887272954, 74.96666594991683, 75.04761637368202, 75.1188789265275, 75.16804406142234, 75.19443783951998, 75.21722215667963], \"yaxis\": \"y2\"}, {\"line\": {\"color\": \"rgb(100, 10, 100)\", \"dash\": \"dash\", \"shape\": \"linear\"}, \"mode\": \"lines\", \"type\": \"scatter\", \"x\": [\"2021-05-04\", \"2022-01-10T00:00:00\"], \"xaxis\": \"x2\", \"y\": [70, 70], \"yaxis\": \"y2\"}, {\"line\": {\"color\": \"rgb(10, 12, 240)\", \"dash\": \"dash\", \"shape\": \"linear\"}, \"mode\": \"lines\", \"type\": \"scatter\", \"x\": [\"2021-05-04\", \"2022-01-10T00:00:00\"], \"xaxis\": \"x2\", \"y\": [50, 50], \"yaxis\": \"y2\"}, {\"line\": {\"color\": \"rgb(10, 120, 24)\", \"dash\": \"dash\", \"shape\": \"linear\"}, \"mode\": \"lines\", \"type\": \"scatter\", \"x\": [\"2021-05-04\", \"2022-01-10T00:00:00\"], \"xaxis\": \"x2\", \"y\": [30, 30], \"yaxis\": \"y2\"}, {\"mode\": \"lines\", \"name\": \"Train Stoch SlowK\", \"type\": \"scatter\", \"x\": [\"2021-05-04\", \"2021-05-05\", \"2021-05-06\", \"2021-05-07\", \"2021-05-10\", \"2021-05-11\", \"2021-05-12\", \"2021-05-13\", \"2021-05-14\", \"2021-05-17\", \"2021-05-18\", \"2021-05-19\", \"2021-05-20\", \"2021-05-21\", \"2021-05-24\", \"2021-05-25\", \"2021-05-26\", \"2021-05-27\", \"2021-05-28\", \"2021-06-01\", \"2021-06-02\", \"2021-06-03\", \"2021-06-04\", \"2021-06-07\", \"2021-06-08\", \"2021-06-09\", \"2021-06-10\", \"2021-06-11\", \"2021-06-14\", \"2021-06-15\", \"2021-06-16\", \"2021-06-17\", \"2021-06-18\", \"2021-06-21\", \"2021-06-22\", \"2021-06-23\", \"2021-06-24\", \"2021-06-25\", \"2021-06-28\", \"2021-06-29\", \"2021-06-30\", \"2021-07-01\", \"2021-07-02\", \"2021-07-06\", \"2021-07-07\", \"2021-07-08\", \"2021-07-09\", \"2021-07-12\", \"2021-07-13\", \"2021-07-14\", \"2021-07-15\", \"2021-07-16\", \"2021-07-19\", \"2021-07-20\", \"2021-07-21\", \"2021-07-22\", \"2021-07-23\", \"2021-07-26\", \"2021-07-27\", \"2021-07-28\", \"2021-07-29\", \"2021-07-30\", \"2021-08-02\", \"2021-08-03\", \"2021-08-04\", \"2021-08-05\", \"2021-08-06\", \"2021-08-09\", \"2021-08-10\", \"2021-08-11\", \"2021-08-12\", \"2021-08-13\", \"2021-08-16\"], \"xaxis\": \"x3\", \"y\": [\"16.2228\", \"15.7312\", \"26.1365\", \"37.5537\", \"32.5183\", \"31.8368\", \"13.9599\", \"18.7207\", \"27.2487\", \"50.5546\", \"63.4627\", \"62.0508\", \"68.4542\", \"74.6739\", \"86.7724\", \"85.6463\", \"92.3847\", \"86.7364\", \"83.7427\", \"63.1242\", \"53.2794\", \"33.8927\", \"54.6233\", \"72.1037\", \"90.138\", \"84.6841\", \"84.5004\", \"92.1118\", \"99.4942\", \"90.3432\", \"75.3722\", \"71.5253\", \"67.1009\", \"76.0612\", \"78.5453\", \"88.3547\", \"89.7866\", \"85.29\", \"89.0121\", \"93.5169\", \"95.2382\", \"92.2615\", \"91.0506\", \"93.9861\", \"91.4435\", \"79.5824\", \"73.8257\", \"77.9615\", \"81.9663\", \"81.6737\", \"62.6059\", \"39.9167\", \"20.3883\", \"24.7011\", \"51.707\", \"78.4944\", \"94.5214\", \"98.5108\", \"84.735\", \"73.6288\", \"65.3104\", \"62.6193\", \"59.3321\", \"63.4315\", \"74.7575\", \"88.7172\", \"85.9817\", \"86.1778\", \"63.3353\", \"46.8474\", \"38.9678\", \"58.1367\", \"79.1636\"], \"yaxis\": \"y3\"}, {\"mode\": \"lines\", \"name\": \"Train Stoch SlowD\", \"type\": \"scatter\", \"x\": [\"2021-05-04\", \"2021-05-05\", \"2021-05-06\", \"2021-05-07\", \"2021-05-10\", \"2021-05-11\", \"2021-05-12\", \"2021-05-13\", \"2021-05-14\", \"2021-05-17\", \"2021-05-18\", \"2021-05-19\", \"2021-05-20\", \"2021-05-21\", \"2021-05-24\", \"2021-05-25\", \"2021-05-26\", \"2021-05-27\", \"2021-05-28\", \"2021-06-01\", \"2021-06-02\", \"2021-06-03\", \"2021-06-04\", \"2021-06-07\", \"2021-06-08\", \"2021-06-09\", \"2021-06-10\", \"2021-06-11\", \"2021-06-14\", \"2021-06-15\", \"2021-06-16\", \"2021-06-17\", \"2021-06-18\", \"2021-06-21\", \"2021-06-22\", \"2021-06-23\", \"2021-06-24\", \"2021-06-25\", \"2021-06-28\", \"2021-06-29\", \"2021-06-30\", \"2021-07-01\", \"2021-07-02\", \"2021-07-06\", \"2021-07-07\", \"2021-07-08\", \"2021-07-09\", \"2021-07-12\", \"2021-07-13\", \"2021-07-14\", \"2021-07-15\", \"2021-07-16\", \"2021-07-19\", \"2021-07-20\", \"2021-07-21\", \"2021-07-22\", \"2021-07-23\", \"2021-07-26\", \"2021-07-27\", \"2021-07-28\", \"2021-07-29\", \"2021-07-30\", \"2021-08-02\", \"2021-08-03\", \"2021-08-04\", \"2021-08-05\", \"2021-08-06\", \"2021-08-09\", \"2021-08-10\", \"2021-08-11\", \"2021-08-12\", \"2021-08-13\", \"2021-08-16\"], \"xaxis\": \"x3\", \"y\": [\"31.0199\", \"20.4133\", \"19.3635\", \"26.4738\", \"32.0695\", \"33.9696\", \"26.105\", \"21.5058\", \"19.9764\", \"32.1747\", \"47.0887\", \"58.6894\", \"64.6559\", \"68.393\", \"76.6335\", \"82.3642\", \"88.2678\", \"88.2558\", \"87.6213\", \"77.8678\", \"66.7154\", \"50.0988\", \"47.2651\", \"53.5399\", \"72.2884\", \"82.3086\", \"86.4408\", \"87.0988\", \"92.0355\", \"93.9831\", \"88.4032\", \"79.0802\", \"71.3328\", \"71.5625\", \"73.9025\", \"80.9871\", \"85.5622\", \"87.8104\", \"88.0296\", \"89.273\", \"92.5891\", \"93.6722\", \"92.8501\", \"92.4327\", \"92.16\", \"88.3373\", \"81.6172\", \"77.1232\", \"77.9178\", \"80.5338\", \"75.4153\", \"61.3988\", \"40.9703\", \"28.3354\", \"32.2655\", \"51.6342\", \"74.9076\", \"90.5089\", \"92.589\", \"85.6248\", \"74.558\", \"67.1862\", \"62.4206\", \"61.7943\", \"65.8404\", \"75.6354\", \"83.1521\", \"86.9589\", \"78.4983\", \"65.4535\", \"49.7168\", \"47.984\", \"58.756\"], \"yaxis\": \"y3\"}, {\"mode\": \"lines\", \"name\": \"Test Stoch SlowD\", \"type\": \"scatter\", \"x\": [\"2021-08-17\", \"2021-08-18\", \"2021-08-19\", \"2021-08-20\", \"2021-08-23\", \"2021-08-24\", \"2021-08-25\", \"2021-08-26\", \"2021-08-27\", \"2021-08-30\", \"2021-08-31\", \"2021-09-01\", \"2021-09-02\", \"2021-09-03\", \"2021-09-07\", \"2021-09-08\", \"2021-09-09\", \"2021-09-10\", \"2021-09-13\", \"2021-09-14\", \"2021-09-15\", \"2021-09-16\", \"2021-09-17\", \"2021-09-20\", \"2021-09-21\", \"2021-09-22\", \"2021-09-23\", \"2021-09-24\", \"2021-09-27\", \"2021-09-28\", \"2021-09-29\", \"2021-09-30\", \"2021-10-01\", \"2021-10-04\", \"2021-10-05\", \"2021-10-06\", \"2021-10-07\", \"2021-10-08\", \"2021-10-11\", \"2021-10-12\", \"2021-10-13\", \"2021-10-14\", \"2021-10-15\", \"2021-10-18\", \"2021-10-19\", \"2021-10-20\", \"2021-10-21\", \"2021-10-22\", \"2021-10-25\", \"2021-10-26\", \"2021-10-27\", \"2021-10-28\", \"2021-10-29\", \"2021-11-01\", \"2021-11-02\", \"2021-11-03\", \"2021-11-04\", \"2021-11-05\", \"2021-11-08\", \"2021-11-09\", \"2021-11-10\", \"2021-11-11\", \"2021-11-12\", \"2021-11-15\", \"2021-11-16\", \"2021-11-17\", \"2021-11-18\", \"2021-11-19\", \"2021-11-22\", \"2021-11-23\", \"2021-11-24\", \"2021-11-26\", \"2021-11-29\"], \"xaxis\": \"x3\", \"y\": [\"70.0119\", \"65.8541\", \"49.5069\", \"40.1473\", \"49.8367\", \"70.5284\", \"87.5326\", \"91.9736\", \"90.3074\", \"87.2769\", \"88.8592\", \"89.2667\", \"87.9822\", \"83.4927\", \"80.9868\", \"77.782\", \"69.3691\", \"51.5883\", \"33.1634\", \"19.9154\", \"20.8475\", \"28.6648\", \"37.9688\", \"39.0359\", \"33.3839\", \"31.097\", \"36.798\", \"52.778\", \"66.1758\", \"66.7719\", \"50.1209\", \"26.3548\", \"13.7298\", \"11.9628\", \"21.6404\", \"32.4771\", \"50.3661\", \"64.6427\", \"70.5716\", \"63.025\", \"50.0635\", \"47.0968\", \"57.2093\", \"77.6269\", \"92.0171\", \"97.7442\", \"96.6965\", \"91.9015\", \"87.9884\", \"80.4802\", \"76.8359\", \"74.8746\", \"80.2828\", \"88.471\", \"94.9941\", \"97.5808\", \"96.6269\", \"94.8959\", \"91.4704\", \"84.0365\", \"69.799\", \"51.1787\", \"37.5201\", \"36.6348\", \"50.0887\", \"65.1287\", \"79.3709\", \"85.0154\", \"84.0333\", \"71.5234\", \"53.8361\", \"37.3499\", \"30.9009\"], \"yaxis\": \"y3\"}, {\"mode\": \"lines\", \"name\": \"Test Stoch SlowK\", \"type\": \"scatter\", \"x\": [\"2021-08-17\", \"2021-08-18\", \"2021-08-19\", \"2021-08-20\", \"2021-08-23\", \"2021-08-24\", \"2021-08-25\", \"2021-08-26\", \"2021-08-27\", \"2021-08-30\", \"2021-08-31\", \"2021-09-01\", \"2021-09-02\", \"2021-09-03\", \"2021-09-07\", \"2021-09-08\", \"2021-09-09\", \"2021-09-10\", \"2021-09-13\", \"2021-09-14\", \"2021-09-15\", \"2021-09-16\", \"2021-09-17\", \"2021-09-20\", \"2021-09-21\", \"2021-09-22\", \"2021-09-23\", \"2021-09-24\", \"2021-09-27\", \"2021-09-28\", \"2021-09-29\", \"2021-09-30\", \"2021-10-01\", \"2021-10-04\", \"2021-10-05\", \"2021-10-06\", \"2021-10-07\", \"2021-10-08\", \"2021-10-11\", \"2021-10-12\", \"2021-10-13\", \"2021-10-14\", \"2021-10-15\", \"2021-10-18\", \"2021-10-19\", \"2021-10-20\", \"2021-10-21\", \"2021-10-22\", \"2021-10-25\", \"2021-10-26\", \"2021-10-27\", \"2021-10-28\", \"2021-10-29\", \"2021-11-01\", \"2021-11-02\", \"2021-11-03\", \"2021-11-04\", \"2021-11-05\", \"2021-11-08\", \"2021-11-09\", \"2021-11-10\", \"2021-11-11\", \"2021-11-12\", \"2021-11-15\", \"2021-11-16\", \"2021-11-17\", \"2021-11-18\", \"2021-11-19\", \"2021-11-22\", \"2021-11-23\", \"2021-11-24\", \"2021-11-26\", \"2021-11-29\"], \"xaxis\": \"x3\", \"y\": [\"72.7353\", \"45.6634\", \"30.122\", \"44.6564\", \"74.7317\", \"92.1973\", \"95.6688\", \"88.0546\", \"87.1988\", \"86.5773\", \"92.8014\", \"88.4214\", \"82.7238\", \"79.3329\", \"80.9037\", \"73.1093\", \"54.0943\", \"27.5613\", \"17.8345\", \"14.3503\", \"30.3577\", \"41.2865\", \"42.2623\", \"33.5588\", \"24.3307\", \"35.4015\", \"50.6619\", \"72.2707\", \"75.5948\", \"52.4502\", \"22.3178\", \"4.2963\", \"14.5754\", \"17.0166\", \"33.3291\", \"47.0857\", \"70.6834\", \"76.1591\", \"64.8722\", \"48.0438\", \"37.2746\", \"55.972\", \"78.3813\", \"98.5274\", \"99.1425\", \"95.5627\", \"95.3842\", \"84.7575\", \"83.8235\", \"72.8595\", \"73.8245\", \"77.9396\", \"89.0841\", \"98.3891\", \"97.5091\", \"96.8443\", \"95.5274\", \"92.3161\", \"86.5677\", \"73.2256\", \"49.6036\", \"30.7068\", \"32.2498\", \"46.9477\", \"71.0685\", \"77.37\", \"89.6742\", \"88.002\", \"74.4237\", \"52.1445\", \"34.9401\", \"24.9652\", \"32.7975\"], \"yaxis\": \"y3\"}, {\"mode\": \"markers+lines\", \"name\": \"Prediction Stoch SlowD\", \"type\": \"scatter\", \"x\": [\"2021-08-17\", \"2021-08-18\", \"2021-08-19\", \"2021-08-20\", \"2021-08-23\", \"2021-08-24\", \"2021-08-25\", \"2021-08-26\", \"2021-08-27\", \"2021-08-30\", \"2021-08-31\", \"2021-09-01\", \"2021-09-02\", \"2021-09-03\", \"2021-09-07\", \"2021-09-08\", \"2021-09-09\", \"2021-09-10\", \"2021-09-13\", \"2021-09-14\", \"2021-09-15\", \"2021-09-16\", \"2021-09-17\", \"2021-09-20\", \"2021-09-21\", \"2021-09-22\", \"2021-09-23\", \"2021-09-24\", \"2021-09-27\", \"2021-09-28\", \"2021-09-29\", \"2021-09-30\", \"2021-10-01\", \"2021-10-04\", \"2021-10-05\", \"2021-10-06\", \"2021-10-07\", \"2021-10-08\", \"2021-10-11\", \"2021-10-12\", \"2021-10-13\", \"2021-10-14\", \"2021-10-15\", \"2021-10-18\", \"2021-10-19\", \"2021-10-20\", \"2021-10-21\", \"2021-10-22\", \"2021-10-25\", \"2021-10-26\", \"2021-10-27\", \"2021-10-28\", \"2021-10-29\", \"2021-11-01\", \"2021-11-02\", \"2021-11-03\", \"2021-11-04\", \"2021-11-05\", \"2021-11-08\", \"2021-11-09\", \"2021-11-10\", \"2021-11-11\", \"2021-11-12\", \"2021-11-15\", \"2021-11-16\", \"2021-11-17\", \"2021-11-18\", \"2021-11-19\", \"2021-11-22\", \"2021-11-23\", \"2021-11-24\", \"2021-11-26\", \"2021-11-29\"], \"xaxis\": \"x3\", \"y\": [85.48284912109375, 85.11499786376953, 77.12492370605469, 58.4326057434082, 41.39804458618164, 34.8748664855957, 32.95378112792969, 37.69395065307617, 54.49353790283203, 55.14344024658203, 37.8778076171875, 28.4326171875, 33.99586868286133, 47.20151901245117, 62.301788330078125, 71.35681915283203, 55.95503616333008, 36.97929763793945, 26.457218170166016, 26.039125442504883, 29.75638771057129, 39.956642150878906, 54.415042877197266, 68.70748138427734, 77.32086181640625, 73.5537109375, 59.40983963012695, 48.45089340209961, 54.63207244873047, 69.7421646118164, 79.83729553222656, 85.7375259399414, 85.26457977294922, 84.6319808959961, 78.01913452148438, 72.39249420166016, 68.04436492919922, 67.11735534667969, 75.1631088256836, 83.68109893798828, 87.65841674804688, 89.05107116699219, 89.8428726196289, 90.3702392578125, 90.25468444824219, 89.98802185058594, 83.25914764404297, 62.10443878173828, 41.21686553955078, 41.827083587646484, 53.73460006713867, 67.4713363647461, 81.86409759521484, 85.86583709716797, 87.48346710205078, 75.61692810058594, 59.97893142700195, 47.336483001708984, 41.565185546875], \"yaxis\": \"y3\"}, {\"mode\": \"markers+lines\", \"name\": \"Prediction Stoch SlowK\", \"type\": \"scatter\", \"x\": [\"2021-08-17\", \"2021-08-18\", \"2021-08-19\", \"2021-08-20\", \"2021-08-23\", \"2021-08-24\", \"2021-08-25\", \"2021-08-26\", \"2021-08-27\", \"2021-08-30\", \"2021-08-31\", \"2021-09-01\", \"2021-09-02\", \"2021-09-03\", \"2021-09-07\", \"2021-09-08\", \"2021-09-09\", \"2021-09-10\", \"2021-09-13\", \"2021-09-14\", \"2021-09-15\", \"2021-09-16\", \"2021-09-17\", \"2021-09-20\", \"2021-09-21\", \"2021-09-22\", \"2021-09-23\", \"2021-09-24\", \"2021-09-27\", \"2021-09-28\", \"2021-09-29\", \"2021-09-30\", \"2021-10-01\", \"2021-10-04\", \"2021-10-05\", \"2021-10-06\", \"2021-10-07\", \"2021-10-08\", \"2021-10-11\", \"2021-10-12\", \"2021-10-13\", \"2021-10-14\", \"2021-10-15\", \"2021-10-18\", \"2021-10-19\", \"2021-10-20\", \"2021-10-21\", \"2021-10-22\", \"2021-10-25\", \"2021-10-26\", \"2021-10-27\", \"2021-10-28\", \"2021-10-29\", \"2021-11-01\", \"2021-11-02\", \"2021-11-03\", \"2021-11-04\", \"2021-11-05\", \"2021-11-08\", \"2021-11-09\", \"2021-11-10\", \"2021-11-11\", \"2021-11-12\", \"2021-11-15\", \"2021-11-16\", \"2021-11-17\", \"2021-11-18\", \"2021-11-19\", \"2021-11-22\", \"2021-11-23\", \"2021-11-24\", \"2021-11-26\", \"2021-11-29\"], \"xaxis\": \"x3\", \"y\": [85.81602478027344, 85.206787109375, 71.39244842529297, 44.04229736328125, 34.076847076416016, 38.45183181762695, 39.559078216552734, 53.35472869873047, 74.5918197631836, 45.31309127807617, 26.80236053466797, 22.15317153930664, 38.799503326416016, 59.12051773071289, 73.40956115722656, 72.05841827392578, 39.673118591308594, 26.384126663208008, 20.17147445678711, 24.18521499633789, 31.002193450927734, 50.38545608520508, 68.01858520507812, 75.909423828125, 74.45438385009766, 52.979515075683594, 38.750244140625, 34.4963264465332, 63.544010162353516, 82.00296783447266, 87.34166717529297, 87.62606048583984, 78.82886505126953, 79.30457305908203, 64.54467010498047, 63.894203186035156, 64.26178741455078, 65.8398208618164, 80.75218200683594, 86.99254608154297, 87.81103515625, 88.95277404785156, 89.67902374267578, 90.30862426757812, 90.06214141845703, 89.3658218383789, 76.58734893798828, 40.89488983154297, 23.478805541992188, 53.82904815673828, 72.04531860351562, 83.31718444824219, 87.6594467163086, 88.14478302001953, 86.64530181884766, 61.78993606567383, 42.55786895751953, 46.06246566772461, 39.29322814941406], \"yaxis\": \"y3\"}, {\"mode\": \"markers+lines\", \"name\": \"Forecast Stoch SlowD\", \"type\": \"scatter\", \"x\": [\"2021-11-29T00:00:00\", \"2021-11-30T00:00:00\", \"2021-12-01T00:00:00\", \"2021-12-02T00:00:00\", \"2021-12-03T00:00:00\", \"2021-12-06T00:00:00\", \"2021-12-07T00:00:00\", \"2021-12-08T00:00:00\", \"2021-12-09T00:00:00\", \"2021-12-10T00:00:00\", \"2021-12-13T00:00:00\", \"2021-12-14T00:00:00\", \"2021-12-15T00:00:00\", \"2021-12-16T00:00:00\", \"2021-12-17T00:00:00\", \"2021-12-20T00:00:00\", \"2021-12-21T00:00:00\", \"2021-12-22T00:00:00\", \"2021-12-23T00:00:00\", \"2021-12-27T00:00:00\", \"2021-12-28T00:00:00\", \"2021-12-29T00:00:00\", \"2021-12-30T00:00:00\", \"2022-01-03T00:00:00\", \"2022-01-04T00:00:00\", \"2022-01-05T00:00:00\", \"2022-01-06T00:00:00\", \"2022-01-07T00:00:00\", \"2022-01-10T00:00:00\"], \"xaxis\": \"x3\", \"y\": [30.9009, 42.358768599894645, 62.89090693129302, 81.01255142087938, 89.46079496957064, 90.4910302089572, 89.91077354581357, 89.08417756358982, 87.11977672438026, 87.92233879746199, 89.15589430848956, 88.22241617746354, 86.84115387059451, 85.43123786426783, 83.83149797372222, 81.62943642152548, 80.60106009776592, 80.25339887751342, 80.10263972021342, 79.97643144859076, 79.97883483950497, 80.0156556682706, 80.1323713707447, 80.38352847115398, 80.65339572234154, 80.88404975335003, 81.0397146879852, 81.16890932406187, 81.24197350780369], \"yaxis\": \"y3\"}, {\"mode\": \"markers+lines\", \"name\": \"Forecast Stoch SlowK\", \"type\": \"scatter\", \"x\": [\"2021-11-29T00:00:00\", \"2021-11-30T00:00:00\", \"2021-12-01T00:00:00\", \"2021-12-02T00:00:00\", \"2021-12-03T00:00:00\", \"2021-12-06T00:00:00\", \"2021-12-07T00:00:00\", \"2021-12-08T00:00:00\", \"2021-12-09T00:00:00\", \"2021-12-10T00:00:00\", \"2021-12-13T00:00:00\", \"2021-12-14T00:00:00\", \"2021-12-15T00:00:00\", \"2021-12-16T00:00:00\", \"2021-12-17T00:00:00\", \"2021-12-20T00:00:00\", \"2021-12-21T00:00:00\", \"2021-12-22T00:00:00\", \"2021-12-23T00:00:00\", \"2021-12-27T00:00:00\", \"2021-12-28T00:00:00\", \"2021-12-29T00:00:00\", \"2021-12-30T00:00:00\", \"2022-01-03T00:00:00\", \"2022-01-04T00:00:00\", \"2022-01-05T00:00:00\", \"2022-01-06T00:00:00\", \"2022-01-07T00:00:00\", \"2022-01-10T00:00:00\"], \"xaxis\": \"x3\", \"y\": [32.7975, 59.2511528869629, 86.1532185852051, 93.31559478149416, 91.78233746032717, 89.29852900390627, 88.64856662597657, 88.73010312500001, 87.75210479431153, 88.82596560974123, 89.76333843688967, 88.68682254638674, 87.48148698120119, 86.15486872863771, 84.81389023132326, 83.28707360839846, 82.3247830444336, 81.92897130432131, 81.84178777465821, 81.82265410461427, 81.8979269104004, 81.9881366546631, 82.16035681457521, 82.4123320037842, 82.66858957214357, 82.86858809814454, 82.99348511352541, 83.09911713256837, 83.14598919982912], \"yaxis\": \"y3\"}, {\"line\": {\"color\": \"rgb(100, 10, 100)\", \"dash\": \"dash\", \"shape\": \"linear\"}, \"mode\": \"lines\", \"type\": \"scatter\", \"x\": [\"2021-05-04\", \"2022-01-10T00:00:00\"], \"xaxis\": \"x3\", \"y\": [70, 70], \"yaxis\": \"y3\"}, {\"line\": {\"color\": \"rgb(10, 12, 240)\", \"dash\": \"dash\", \"shape\": \"linear\"}, \"mode\": \"lines\", \"type\": \"scatter\", \"x\": [\"2021-05-04\", \"2022-01-10T00:00:00\"], \"xaxis\": \"x3\", \"y\": [50, 50], \"yaxis\": \"y3\"}, {\"line\": {\"color\": \"rgb(10, 120, 24)\", \"dash\": \"dash\", \"shape\": \"linear\"}, \"mode\": \"lines\", \"type\": \"scatter\", \"x\": [\"2021-05-04\", \"2022-01-10T00:00:00\"], \"xaxis\": \"x3\", \"y\": [30, 30], \"yaxis\": \"y3\"}, {\"type\": \"bar\", \"x\": [\"2021-05-04\", \"2021-05-05\", \"2021-05-06\", \"2021-05-07\", \"2021-05-10\", \"2021-05-11\", \"2021-05-12\", \"2021-05-13\", \"2021-05-14\", \"2021-05-17\", \"2021-05-18\", \"2021-05-19\", \"2021-05-20\", \"2021-05-21\", \"2021-05-24\", \"2021-05-25\", \"2021-05-26\", \"2021-05-27\", \"2021-05-28\", \"2021-06-01\", \"2021-06-02\", \"2021-06-03\", \"2021-06-04\", \"2021-06-07\", \"2021-06-08\", \"2021-06-09\", \"2021-06-10\", \"2021-06-11\", \"2021-06-14\", \"2021-06-15\", \"2021-06-16\", \"2021-06-17\", \"2021-06-18\", \"2021-06-21\", \"2021-06-22\", \"2021-06-23\", \"2021-06-24\", \"2021-06-25\", \"2021-06-28\", \"2021-06-29\", \"2021-06-30\", \"2021-07-01\", \"2021-07-02\", \"2021-07-06\", \"2021-07-07\", \"2021-07-08\", \"2021-07-09\", \"2021-07-12\", \"2021-07-13\", \"2021-07-14\", \"2021-07-15\", \"2021-07-16\", \"2021-07-19\", \"2021-07-20\", \"2021-07-21\", \"2021-07-22\", \"2021-07-23\", \"2021-07-26\", \"2021-07-27\", \"2021-07-28\", \"2021-07-29\", \"2021-07-30\", \"2021-08-02\", \"2021-08-03\", \"2021-08-04\", \"2021-08-05\", \"2021-08-06\", \"2021-08-09\", \"2021-08-10\", \"2021-08-11\", \"2021-08-12\", \"2021-08-13\", \"2021-08-16\"], \"xaxis\": \"x4\", \"y\": [\"-0.9723\", \"-1.3335\", \"-1.7509\", \"-1.5981\", \"-1.5508\", \"-2.3001\", \"-2.6377\", \"-2.747\", \"-2.5107\", \"-2.106\", \"-1.693\", \"-1.8968\", \"-1.4413\", \"-0.6665\", \"-0.1998\", \"0.4164\", \"0.7678\", \"0.9598\", \"1.0676\", \"1.161\", \"1.0322\", \"0.7272\", \"0.5807\", \"0.6609\", \"0.8867\", \"0.9626\", \"0.8904\", \"0.9912\", \"1.0752\", \"1.215\", \"1.1327\", \"0.8262\", \"0.8029\", \"0.6721\", \"0.6402\", \"0.775\", \"0.9329\", \"1.0004\", \"0.978\", \"1.0539\", \"1.0924\", \"0.9718\", \"0.9601\", \"1.0336\", \"1.183\", \"0.7384\", \"0.5256\", \"0.5862\", \"0.5138\", \"0.5661\", \"0.396\", \"0.1119\", \"-0.597\", \"-0.9644\", \"-1.0235\", \"-0.8394\", \"-0.5029\", \"-0.1741\", \"0.0406\", \"-0.041\", \"-0.1594\", \"-0.4511\", \"-0.4111\", \"-0.4729\", \"-0.4355\", \"-0.342\", \"-0.2952\", \"-0.282\", \"-0.2523\", \"-0.3319\", \"-0.5597\", \"-0.5708\", \"-0.5986\"], \"yaxis\": \"y4\"}, {\"type\": \"bar\", \"x\": [\"2021-08-17\", \"2021-08-18\", \"2021-08-19\", \"2021-08-20\", \"2021-08-23\", \"2021-08-24\", \"2021-08-25\", \"2021-08-26\", \"2021-08-27\", \"2021-08-30\", \"2021-08-31\", \"2021-09-01\", \"2021-09-02\", \"2021-09-03\", \"2021-09-07\", \"2021-09-08\", \"2021-09-09\", \"2021-09-10\", \"2021-09-13\", \"2021-09-14\", \"2021-09-15\", \"2021-09-16\", \"2021-09-17\", \"2021-09-20\", \"2021-09-21\", \"2021-09-22\", \"2021-09-23\", \"2021-09-24\", \"2021-09-27\", \"2021-09-28\", \"2021-09-29\", \"2021-09-30\", \"2021-10-01\", \"2021-10-04\", \"2021-10-05\", \"2021-10-06\", \"2021-10-07\", \"2021-10-08\", \"2021-10-11\", \"2021-10-12\", \"2021-10-13\", \"2021-10-14\", \"2021-10-15\", \"2021-10-18\", \"2021-10-19\", \"2021-10-20\", \"2021-10-21\", \"2021-10-22\", \"2021-10-25\", \"2021-10-26\", \"2021-10-27\", \"2021-10-28\", \"2021-10-29\", \"2021-11-01\", \"2021-11-02\", \"2021-11-03\", \"2021-11-04\", \"2021-11-05\", \"2021-11-08\", \"2021-11-09\", \"2021-11-10\", \"2021-11-11\", \"2021-11-12\", \"2021-11-15\", \"2021-11-16\", \"2021-11-17\", \"2021-11-18\", \"2021-11-19\", \"2021-11-22\", \"2021-11-23\", \"2021-11-24\", \"2021-11-26\", \"2021-11-29\"], \"xaxis\": \"x4\", \"y\": [\"-0.7167\", \"-0.8487\", \"-1.2347\", \"-1.1324\", \"-0.7967\", \"-0.2478\", \"0.1357\", \"0.2994\", \"0.3073\", \"0.5114\", \"0.8191\", \"0.9742\", \"1.0487\", \"0.8319\", \"0.774\", \"0.6762\", \"0.4824\", \"0.31\", \"0.0027\", \"-0.3023\", \"-0.6531\", \"-0.8162\", \"-0.8392\", \"-1.4779\", \"-1.824\", \"-2.0034\", \"-1.7988\", \"-1.6014\", \"-1.437\", \"-1.5589\", \"-1.8484\", \"-1.9491\", \"-2.0604\", \"-2.0215\", \"-2.1878\", \"-2.1384\", \"-1.4187\", \"-0.7882\", \"-0.6136\", \"-0.4263\", \"-0.2826\", \"0.1173\", \"0.6571\", \"0.9702\", \"1.5317\", \"1.9638\", \"2.0344\", \"2.0998\", \"2.0107\", \"2.1498\", \"2.0801\", \"2.0713\", \"1.8883\", \"2.0092\", \"1.974\", \"1.9985\", \"2.1936\", \"2.5207\", \"2.459\", \"2.2827\", \"1.574\", \"0.9985\", \"0.477\", \"0.3307\", \"0.0316\", \"0.0314\", \"0.0965\", \"0.3087\", \"0.5018\", \"0.0589\", \"-0.4864\", \"-0.7879\", \"-1.0083\"], \"yaxis\": \"y4\"}, {\"marker\": {\"color\": [\"black\"]}, \"type\": \"bar\", \"x\": [\"2021-11-29T00:00:00\", \"2021-11-30T00:00:00\", \"2021-12-01T00:00:00\", \"2021-12-02T00:00:00\", \"2021-12-03T00:00:00\", \"2021-12-06T00:00:00\", \"2021-12-07T00:00:00\", \"2021-12-08T00:00:00\", \"2021-12-09T00:00:00\", \"2021-12-10T00:00:00\", \"2021-12-13T00:00:00\", \"2021-12-14T00:00:00\", \"2021-12-15T00:00:00\", \"2021-12-16T00:00:00\", \"2021-12-17T00:00:00\", \"2021-12-20T00:00:00\", \"2021-12-21T00:00:00\", \"2021-12-22T00:00:00\", \"2021-12-23T00:00:00\", \"2021-12-27T00:00:00\", \"2021-12-28T00:00:00\", \"2021-12-29T00:00:00\", \"2021-12-30T00:00:00\", \"2022-01-03T00:00:00\", \"2022-01-04T00:00:00\", \"2022-01-05T00:00:00\", \"2022-01-06T00:00:00\", \"2022-01-07T00:00:00\", \"2022-01-10T00:00:00\"], \"xaxis\": \"x4\", \"y\": [-1.0083000000000002, -0.5715610147058966, -0.1575804505735638, 0.0913655127763746, 0.3080286297678945, 0.4248806217491624, 0.5420000127911565, 0.5433193057179448, 0.4540806923508642, 0.5295934417366979, 0.6568944945752618, 0.6759753275513647, 0.5766123521864411, 0.5637110462844369, 0.4717551180720327, 0.3409201117932794, 0.27039756926894165, 0.25690043863058065, 0.24979200262427306, 0.24253589152693725, 0.23812287532091117, 0.23426468887329077, 0.23265982865691162, 0.236550624746084, 0.24193960093855835, 0.24704627080559707, 0.25113738326430296, 0.25512926924228646, 0.25780558910965895], \"yaxis\": \"y4\"}],\n",
              "                        {\"annotations\": [{\"font\": {\"size\": 16}, \"showarrow\": false, \"text\": \"<a href=\\\"https://in.tradingview.com/chart/66XmQfYy/?symbol=QQQ\\\">QQQ</a> Date:2021-11-29 Open:395.89 High:395.14 Low:400.73 Close:399.69\", \"x\": 0.5, \"xanchor\": \"center\", \"xref\": \"paper\", \"y\": 1.0, \"yanchor\": \"bottom\", \"yref\": \"paper\"}, {\"font\": {\"size\": 16}, \"showarrow\": false, \"text\": \"<a href=\\\"https://in.tradingview.com/chart/66XmQfYy/?symbol=QQQ\\\">QQQ</a> RSI(14) Date:2021-11-29 Close:60.0863 Forecast(14):72.0\", \"x\": 0.5, \"xanchor\": \"center\", \"xref\": \"paper\", \"y\": 0.625, \"yanchor\": \"bottom\", \"yref\": \"paper\"}], \"height\": 650, \"margin\": {\"b\": 20, \"l\": 20, \"r\": 20, \"t\": 20}, \"template\": {\"data\": {\"bar\": [{\"error_x\": {\"color\": \"#2a3f5f\"}, \"error_y\": {\"color\": \"#2a3f5f\"}, \"marker\": {\"line\": {\"color\": \"#E5ECF6\", \"width\": 0.5}}, \"type\": \"bar\"}], \"barpolar\": [{\"marker\": {\"line\": {\"color\": \"#E5ECF6\", \"width\": 0.5}}, \"type\": \"barpolar\"}], \"carpet\": [{\"aaxis\": {\"endlinecolor\": \"#2a3f5f\", \"gridcolor\": \"white\", \"linecolor\": \"white\", \"minorgridcolor\": \"white\", \"startlinecolor\": \"#2a3f5f\"}, \"baxis\": {\"endlinecolor\": \"#2a3f5f\", \"gridcolor\": \"white\", \"linecolor\": \"white\", \"minorgridcolor\": \"white\", \"startlinecolor\": \"#2a3f5f\"}, \"type\": \"carpet\"}], \"choropleth\": [{\"colorbar\": {\"outlinewidth\": 0, \"ticks\": \"\"}, \"type\": \"choropleth\"}], \"contour\": [{\"colorbar\": {\"outlinewidth\": 0, \"ticks\": \"\"}, \"colorscale\": [[0.0, \"#0d0887\"], [0.1111111111111111, \"#46039f\"], [0.2222222222222222, \"#7201a8\"], [0.3333333333333333, \"#9c179e\"], [0.4444444444444444, \"#bd3786\"], [0.5555555555555556, \"#d8576b\"], [0.6666666666666666, \"#ed7953\"], [0.7777777777777778, \"#fb9f3a\"], [0.8888888888888888, \"#fdca26\"], [1.0, \"#f0f921\"]], \"type\": \"contour\"}], \"contourcarpet\": [{\"colorbar\": {\"outlinewidth\": 0, \"ticks\": \"\"}, \"type\": \"contourcarpet\"}], \"heatmap\": [{\"colorbar\": {\"outlinewidth\": 0, \"ticks\": \"\"}, \"colorscale\": [[0.0, \"#0d0887\"], [0.1111111111111111, \"#46039f\"], [0.2222222222222222, \"#7201a8\"], [0.3333333333333333, \"#9c179e\"], [0.4444444444444444, \"#bd3786\"], [0.5555555555555556, \"#d8576b\"], [0.6666666666666666, \"#ed7953\"], [0.7777777777777778, \"#fb9f3a\"], [0.8888888888888888, \"#fdca26\"], [1.0, \"#f0f921\"]], \"type\": \"heatmap\"}], \"heatmapgl\": [{\"colorbar\": {\"outlinewidth\": 0, \"ticks\": \"\"}, \"colorscale\": [[0.0, \"#0d0887\"], [0.1111111111111111, \"#46039f\"], [0.2222222222222222, \"#7201a8\"], [0.3333333333333333, \"#9c179e\"], [0.4444444444444444, \"#bd3786\"], [0.5555555555555556, \"#d8576b\"], [0.6666666666666666, \"#ed7953\"], [0.7777777777777778, \"#fb9f3a\"], [0.8888888888888888, \"#fdca26\"], [1.0, \"#f0f921\"]], \"type\": \"heatmapgl\"}], \"histogram\": [{\"marker\": {\"colorbar\": {\"outlinewidth\": 0, \"ticks\": \"\"}}, \"type\": \"histogram\"}], \"histogram2d\": [{\"colorbar\": {\"outlinewidth\": 0, \"ticks\": \"\"}, \"colorscale\": [[0.0, \"#0d0887\"], [0.1111111111111111, \"#46039f\"], [0.2222222222222222, \"#7201a8\"], [0.3333333333333333, \"#9c179e\"], [0.4444444444444444, \"#bd3786\"], [0.5555555555555556, \"#d8576b\"], [0.6666666666666666, \"#ed7953\"], [0.7777777777777778, \"#fb9f3a\"], [0.8888888888888888, \"#fdca26\"], [1.0, \"#f0f921\"]], \"type\": \"histogram2d\"}], \"histogram2dcontour\": [{\"colorbar\": {\"outlinewidth\": 0, \"ticks\": \"\"}, \"colorscale\": [[0.0, \"#0d0887\"], [0.1111111111111111, \"#46039f\"], [0.2222222222222222, \"#7201a8\"], [0.3333333333333333, \"#9c179e\"], [0.4444444444444444, \"#bd3786\"], [0.5555555555555556, \"#d8576b\"], [0.6666666666666666, \"#ed7953\"], [0.7777777777777778, \"#fb9f3a\"], [0.8888888888888888, \"#fdca26\"], [1.0, \"#f0f921\"]], \"type\": \"histogram2dcontour\"}], \"mesh3d\": [{\"colorbar\": {\"outlinewidth\": 0, \"ticks\": \"\"}, \"type\": \"mesh3d\"}], \"parcoords\": [{\"line\": {\"colorbar\": {\"outlinewidth\": 0, \"ticks\": \"\"}}, \"type\": \"parcoords\"}], \"pie\": [{\"automargin\": true, \"type\": \"pie\"}], \"scatter\": [{\"marker\": {\"colorbar\": {\"outlinewidth\": 0, \"ticks\": \"\"}}, \"type\": \"scatter\"}], \"scatter3d\": [{\"line\": {\"colorbar\": {\"outlinewidth\": 0, \"ticks\": \"\"}}, \"marker\": {\"colorbar\": {\"outlinewidth\": 0, \"ticks\": \"\"}}, \"type\": \"scatter3d\"}], \"scattercarpet\": [{\"marker\": {\"colorbar\": {\"outlinewidth\": 0, \"ticks\": \"\"}}, \"type\": \"scattercarpet\"}], \"scattergeo\": [{\"marker\": {\"colorbar\": {\"outlinewidth\": 0, \"ticks\": \"\"}}, \"type\": \"scattergeo\"}], \"scattergl\": [{\"marker\": {\"colorbar\": {\"outlinewidth\": 0, \"ticks\": \"\"}}, \"type\": \"scattergl\"}], \"scattermapbox\": [{\"marker\": {\"colorbar\": {\"outlinewidth\": 0, \"ticks\": \"\"}}, \"type\": \"scattermapbox\"}], \"scatterpolar\": [{\"marker\": {\"colorbar\": {\"outlinewidth\": 0, \"ticks\": \"\"}}, \"type\": \"scatterpolar\"}], \"scatterpolargl\": [{\"marker\": {\"colorbar\": {\"outlinewidth\": 0, \"ticks\": \"\"}}, \"type\": \"scatterpolargl\"}], \"scatterternary\": [{\"marker\": {\"colorbar\": {\"outlinewidth\": 0, \"ticks\": \"\"}}, \"type\": \"scatterternary\"}], \"surface\": [{\"colorbar\": {\"outlinewidth\": 0, \"ticks\": \"\"}, \"colorscale\": [[0.0, \"#0d0887\"], [0.1111111111111111, \"#46039f\"], [0.2222222222222222, \"#7201a8\"], [0.3333333333333333, \"#9c179e\"], [0.4444444444444444, \"#bd3786\"], [0.5555555555555556, \"#d8576b\"], [0.6666666666666666, \"#ed7953\"], [0.7777777777777778, \"#fb9f3a\"], [0.8888888888888888, \"#fdca26\"], [1.0, \"#f0f921\"]], \"type\": \"surface\"}], \"table\": [{\"cells\": {\"fill\": {\"color\": \"#EBF0F8\"}, \"line\": {\"color\": \"white\"}}, \"header\": {\"fill\": {\"color\": \"#C8D4E3\"}, \"line\": {\"color\": \"white\"}}, \"type\": \"table\"}]}, \"layout\": {\"annotationdefaults\": {\"arrowcolor\": \"#2a3f5f\", \"arrowhead\": 0, \"arrowwidth\": 1}, \"coloraxis\": {\"colorbar\": {\"outlinewidth\": 0, \"ticks\": \"\"}}, \"colorscale\": {\"diverging\": [[0, \"#8e0152\"], [0.1, \"#c51b7d\"], [0.2, \"#de77ae\"], [0.3, \"#f1b6da\"], [0.4, \"#fde0ef\"], [0.5, \"#f7f7f7\"], [0.6, \"#e6f5d0\"], [0.7, \"#b8e186\"], [0.8, \"#7fbc41\"], [0.9, \"#4d9221\"], [1, \"#276419\"]], \"sequential\": [[0.0, \"#0d0887\"], [0.1111111111111111, \"#46039f\"], [0.2222222222222222, \"#7201a8\"], [0.3333333333333333, \"#9c179e\"], [0.4444444444444444, \"#bd3786\"], [0.5555555555555556, \"#d8576b\"], [0.6666666666666666, \"#ed7953\"], [0.7777777777777778, \"#fb9f3a\"], [0.8888888888888888, \"#fdca26\"], [1.0, \"#f0f921\"]], \"sequentialminus\": [[0.0, \"#0d0887\"], [0.1111111111111111, \"#46039f\"], [0.2222222222222222, \"#7201a8\"], [0.3333333333333333, \"#9c179e\"], [0.4444444444444444, \"#bd3786\"], [0.5555555555555556, \"#d8576b\"], [0.6666666666666666, \"#ed7953\"], [0.7777777777777778, \"#fb9f3a\"], [0.8888888888888888, \"#fdca26\"], [1.0, \"#f0f921\"]]}, \"colorway\": [\"#636efa\", \"#EF553B\", \"#00cc96\", \"#ab63fa\", \"#FFA15A\", \"#19d3f3\", \"#FF6692\", \"#B6E880\", \"#FF97FF\", \"#FECB52\"], \"font\": {\"color\": \"#2a3f5f\"}, \"geo\": {\"bgcolor\": \"white\", \"lakecolor\": \"white\", \"landcolor\": \"#E5ECF6\", \"showlakes\": true, \"showland\": true, \"subunitcolor\": \"white\"}, \"hoverlabel\": {\"align\": \"left\"}, \"hovermode\": \"closest\", \"mapbox\": {\"style\": \"light\"}, \"paper_bgcolor\": \"white\", \"plot_bgcolor\": \"#E5ECF6\", \"polar\": {\"angularaxis\": {\"gridcolor\": \"white\", \"linecolor\": \"white\", \"ticks\": \"\"}, \"bgcolor\": \"#E5ECF6\", \"radialaxis\": {\"gridcolor\": \"white\", \"linecolor\": \"white\", \"ticks\": \"\"}}, \"scene\": {\"xaxis\": {\"backgroundcolor\": \"#E5ECF6\", \"gridcolor\": \"white\", \"gridwidth\": 2, \"linecolor\": \"white\", \"showbackground\": true, \"ticks\": \"\", \"zerolinecolor\": \"white\"}, \"yaxis\": {\"backgroundcolor\": \"#E5ECF6\", \"gridcolor\": \"white\", \"gridwidth\": 2, \"linecolor\": \"white\", \"showbackground\": true, \"ticks\": \"\", \"zerolinecolor\": \"white\"}, \"zaxis\": {\"backgroundcolor\": \"#E5ECF6\", \"gridcolor\": \"white\", \"gridwidth\": 2, \"linecolor\": \"white\", \"showbackground\": true, \"ticks\": \"\", \"zerolinecolor\": \"white\"}}, \"shapedefaults\": {\"line\": {\"color\": \"#2a3f5f\"}}, \"ternary\": {\"aaxis\": {\"gridcolor\": \"white\", \"linecolor\": \"white\", \"ticks\": \"\"}, \"baxis\": {\"gridcolor\": \"white\", \"linecolor\": \"white\", \"ticks\": \"\"}, \"bgcolor\": \"#E5ECF6\", \"caxis\": {\"gridcolor\": \"white\", \"linecolor\": \"white\", \"ticks\": \"\"}}, \"title\": {\"x\": 0.05}, \"xaxis\": {\"automargin\": true, \"gridcolor\": \"white\", \"linecolor\": \"white\", \"ticks\": \"\", \"title\": {\"standoff\": 15}, \"zerolinecolor\": \"white\", \"zerolinewidth\": 2}, \"yaxis\": {\"automargin\": true, \"gridcolor\": \"white\", \"linecolor\": \"white\", \"ticks\": \"\", \"title\": {\"standoff\": 15}, \"zerolinecolor\": \"white\", \"zerolinewidth\": 2}}}, \"xaxis\": {\"anchor\": \"y\", \"domain\": [0.0, 1.0], \"rangeslider\": {\"visible\": false}, \"showspikes\": true, \"spikedash\": \"dash\", \"spikemode\": \"across\", \"spikesnap\": \"cursor\"}, \"xaxis2\": {\"anchor\": \"y2\", \"domain\": [0.0, 1.0], \"showspikes\": true, \"spikedash\": \"dash\", \"spikemode\": \"across\", \"spikesnap\": \"cursor\"}, \"xaxis3\": {\"anchor\": \"y3\", \"domain\": [0.0, 1.0], \"showspikes\": true, \"spikedash\": \"dash\", \"spikemode\": \"across\", \"spikesnap\": \"cursor\"}, \"xaxis4\": {\"anchor\": \"y4\", \"domain\": [0.0, 1.0], \"showspikes\": true, \"spikedash\": \"dash\", \"spikemode\": \"across\", \"spikesnap\": \"cursor\"}, \"yaxis\": {\"anchor\": \"x\", \"domain\": [0.75, 1.0], \"showspikes\": true, \"spikedash\": \"dash\", \"spikemode\": \"across\", \"spikesnap\": \"cursor\"}, \"yaxis2\": {\"anchor\": \"x2\", \"domain\": [0.5, 0.625], \"showspikes\": true, \"spikedash\": \"dash\", \"spikemode\": \"across\", \"spikesnap\": \"cursor\"}, \"yaxis3\": {\"anchor\": \"x3\", \"domain\": [0.25, 0.375], \"showspikes\": true, \"spikedash\": \"dash\", \"spikemode\": \"across\", \"spikesnap\": \"cursor\"}, \"yaxis4\": {\"anchor\": \"x4\", \"domain\": [0.0, 0.125], \"showspikes\": true, \"spikedash\": \"dash\", \"spikemode\": \"across\", \"spikesnap\": \"cursor\"}},\n",
              "                        {\"responsive\": true}\n",
              "                    ).then(function(){\n",
              "                            \n",
              "var gd = document.getElementById('b80b5d7a-9934-4eb1-85cc-ff13a463a684');\n",
              "var x = new MutationObserver(function (mutations, observer) {{\n",
              "        var display = window.getComputedStyle(gd).display;\n",
              "        if (!display || display === 'none') {{\n",
              "            console.log([gd, 'removed!']);\n",
              "            Plotly.purge(gd);\n",
              "            observer.disconnect();\n",
              "        }}\n",
              "}});\n",
              "\n",
              "// Listen for the removal of the full notebook cells\n",
              "var notebookContainer = gd.closest('#notebook-container');\n",
              "if (notebookContainer) {{\n",
              "    x.observe(notebookContainer, {childList: true});\n",
              "}}\n",
              "\n",
              "// Listen for the clearing of the current output cell\n",
              "var outputEl = gd.closest('.output');\n",
              "if (outputEl) {{\n",
              "    x.observe(outputEl, {childList: true});\n",
              "}}\n",
              "\n",
              "                        })\n",
              "                };\n",
              "                \n",
              "            </script>\n",
              "        </div>\n",
              "</body>\n",
              "</html>"
            ]
          },
          "metadata": {}
        },
        {
          "output_type": "stream",
          "name": "stdout",
          "text": [
            "chart folder: /content/drive/MyDrive/models/charts/2021-11-29\n"
          ]
        }
      ]
    }
  ]
}
