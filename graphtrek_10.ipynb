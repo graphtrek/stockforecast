{
  "nbformat": 4,
  "nbformat_minor": 0,
  "metadata": {
    "colab": {
      "name": "graphtrek_10.ipynb",
      "provenance": [],
      "include_colab_link": true
    },
    "kernelspec": {
      "name": "python3",
      "display_name": "Python 3"
    },
    "language_info": {
      "name": "python"
    }
  },
  "cells": [
    {
      "cell_type": "markdown",
      "metadata": {
        "id": "view-in-github",
        "colab_type": "text"
      },
      "source": [
        "<a href=\"https://colab.research.google.com/github/graphtrek/stockforecast/blob/main/graphtrek_10.ipynb\" target=\"_parent\"><img src=\"https://colab.research.google.com/assets/colab-badge.svg\" alt=\"Open In Colab\"/></a>"
      ]
    },
    {
      "cell_type": "code",
      "metadata": {
        "id": "sZPC3Z9u3evF"
      },
      "source": [
        "import numpy as np\n",
        "from tensorflow.keras.models import Sequential\n",
        "from tensorflow.keras.layers import LSTM\n",
        "from tensorflow.keras.optimizers import Adam\n",
        "from tensorflow.keras.losses import MAE\n",
        "from tensorflow.keras.layers import Dense, Dropout\n",
        "from tensorflow import keras\n",
        "from datetime import datetime, timedelta\n",
        "import pandas as pd\n",
        "import os, time\n",
        "from matplotlib import pyplot as plt\n",
        "from sklearn.preprocessing import StandardScaler\n",
        "import seaborn as sns\n",
        "import plotly.graph_objects as go\n",
        "import plotly.express as px\n",
        "from sklearn.preprocessing import MinMaxScaler\n",
        "from pandas.tseries.holiday import USFederalHolidayCalendar\n",
        "from pandas.tseries.offsets import CustomBusinessDay\n",
        "from keras.preprocessing.sequence import TimeseriesGenerator\n",
        "from tensorflow.keras.models import Sequential\n",
        "from tensorflow.keras.layers import LSTM\n",
        "from tensorflow.keras.optimizers import Adam\n",
        "from tensorflow.keras.losses import MAE\n",
        "from tensorflow.keras.layers import Dense, Dropout\n",
        "from tensorflow import keras\n",
        "from datetime import datetime, timedelta\n",
        "import pandas as pd\n",
        "import os, time\n",
        "from plotly.subplots import make_subplots\n",
        "from pathlib import Path"
      ],
      "execution_count": 19,
      "outputs": []
    },
    {
      "cell_type": "code",
      "metadata": {
        "id": "HKYStAEQ3mh6"
      },
      "source": [
        "ticker = 'QQQ' # QQQ, SPY, VTI JETS, XLE, XLF, XLNX, ARKK, ARKG, ARKQ, ARKF, PYPL, V\n",
        "look_back = 5 #  number of past days we want to use to predict 1 day in the future.\n",
        "max_data_size = 1730 # ~2 years\n",
        "split_percent = 0.90 # use 90% of the data  for train\n",
        "INFO = 1\n",
        "DEBUG = 2\n",
        "TRACE = 3\n",
        "print_level = DEBUG \n",
        "nr_of_features = 4\n",
        "look_forward = 1\n",
        "epochs = 120\n",
        "learning_rate=0.0042\n",
        "if look_back < 5:\n",
        "  num_prediction = look_back * 4\n",
        "else:\n",
        "  num_prediction = look_back * 2\n",
        "\n",
        "apikey = '3F4URDEKOPLFH25T'\n",
        "indicators_model_file_path = '/content/drive/MyDrive/models/' + ticker + '_' + str(look_back) + '_' + str(nr_of_features) + '_indicators_10.h5'\n",
        "\n",
        "np.random.seed(42)"
      ],
      "execution_count": 20,
      "outputs": []
    },
    {
      "cell_type": "code",
      "metadata": {
        "id": "tPJ9HBOO3-2-",
        "colab": {
          "base_uri": "https://localhost:8080/"
        },
        "outputId": "45105522-3945-4032-af65-e8d0258f641a"
      },
      "source": [
        "rsi_url = 'https://www.alphavantage.co/query?function=RSI&datatype=json&symbol='+ticker+'&interval=daily&time_period='+str(look_back)+'&series_type=close&apikey=' + apikey\n",
        "print(rsi_url)\n",
        "rsi_api_response = pd.read_json(rsi_url)\n",
        "#print(rsi_api_response)\n",
        "rsi_api_data = rsi_api_response['Technical Analysis: RSI']\n",
        "#print(rsi_api_data)\n",
        "rsi_api_data = rsi_api_data.drop(\n",
        "    index=['1: Symbol','2: Indicator','3: Last Refreshed','4: Interval','5: Time Period','6: Series Type','7: Time Zone']);\n",
        "#print(rsi_api_data)\n",
        "\n",
        "rsi_data = []\n",
        "for key, value in rsi_api_data.items():\n",
        "  date = key\n",
        "  rsi = float(value.get('RSI'))\n",
        "  rsi_data.append([date,rsi])\n",
        "\n",
        "last_rsi_data =  str(rsi_data[0])\n",
        "first_rsi_data =  str(rsi_data[-1])\n",
        "print('rsi_data_length:', len(rsi_data), 'first_rsi_data:', first_rsi_data, 'last_rsi_data:', last_rsi_data)  "
      ],
      "execution_count": 21,
      "outputs": [
        {
          "output_type": "stream",
          "name": "stdout",
          "text": [
            "https://www.alphavantage.co/query?function=RSI&datatype=json&symbol=QQQ&interval=daily&time_period=5&series_type=close&apikey=3F4URDEKOPLFH25T\n",
            "rsi_data_length: 5558 first_rsi_data: ['1999-11-08', 100.0] last_rsi_data: ['2021-12-08', 64.6625]\n"
          ]
        }
      ]
    },
    {
      "cell_type": "code",
      "metadata": {
        "colab": {
          "base_uri": "https://localhost:8080/"
        },
        "id": "GmEkUmlfJFsW",
        "outputId": "63fe44b9-348e-4ef6-ddf5-0fac1cc482f2"
      },
      "source": [
        "stoch_url = 'https://www.alphavantage.co/query?function=STOCH&symbol='+ticker+'&interval=daily&apikey=' + apikey\n",
        "print(stoch_url)\n",
        "stoch_api_response = pd.read_json(stoch_url)\n",
        "stoch_api_data = stoch_api_response['Technical Analysis: STOCH']\n",
        "#print(rsi_api_data)\n",
        "stoch_api_data = stoch_api_data.drop(\n",
        "    index=['1: Symbol','2: Indicator','3: Last Refreshed','4: Interval','5.1: FastK Period','5.2: SlowK Period','5.3: SlowK MA Type','5.4: SlowD Period','5.5: SlowD MA Type','6: Time Zone'])\n",
        "#print(stoch_api_data)\n",
        "stoch_data = []\n",
        "for key, value in stoch_api_data.items():\n",
        "  date = key\n",
        "  SlowD = float(value.get('SlowD'))\n",
        "  SlowK = float(value.get('SlowK'))\n",
        "  stoch_data.append([date,SlowD,SlowK])\n",
        "\n",
        "last_stoch_data =  str(stoch_data[0])\n",
        "first_stoch_data =  str(stoch_data[-1])\n",
        "print('stoch_data_length:', len(stoch_data), 'first_stoch_data:', first_stoch_data, 'last_stoch_data:', last_stoch_data)  "
      ],
      "execution_count": 22,
      "outputs": [
        {
          "output_type": "stream",
          "name": "stdout",
          "text": [
            "https://www.alphavantage.co/query?function=STOCH&symbol=QQQ&interval=daily&apikey=3F4URDEKOPLFH25T\n",
            "stoch_data_length: 5555 first_stoch_data: ['1999-11-11', 82.688, 84.2136] last_stoch_data: ['2021-12-08', 49.2997, 73.1555]\n"
          ]
        }
      ]
    },
    {
      "cell_type": "code",
      "metadata": {
        "colab": {
          "base_uri": "https://localhost:8080/"
        },
        "id": "hakIIva48yWl",
        "outputId": "28d06030-8c81-4a7d-bcde-d7e4353689c1"
      },
      "source": [
        "macd_url = 'https://www.alphavantage.co/query?function=MACD&symbol='+ticker+'&interval=daily&series_type=open&apikey=' + apikey\n",
        "print(macd_url)\n",
        "macd_api_response = pd.read_json(macd_url)\n",
        "macd_api_data = macd_api_response['Technical Analysis: MACD']\n",
        "#print(macd_api_data)\n",
        "macd_api_data = macd_api_data.drop(\n",
        "    index=[\n",
        "          '1: Symbol',\n",
        "          '2: Indicator',\n",
        "          '3: Last Refreshed',\n",
        "          '4: Interval',\n",
        "          '5.1: Fast Period',\n",
        "          '5.2: Slow Period',\n",
        "          '5.3: Signal Period',\n",
        "          '6: Series Type',\n",
        "          '7: Time Zone'\n",
        "]);\n",
        "\n",
        "macd_data = []\n",
        "for key, value in macd_api_data.items():\n",
        "  date = key\n",
        "  MACD = float(value.get('MACD'))\n",
        "  MACD_Hist = float(value.get('MACD_Hist'))\n",
        "  MACD_Signal = float(value.get('MACD_Signal'))\n",
        "  macd_data.append([date,MACD,MACD_Hist,MACD_Signal])\n",
        "\n",
        "last_macd_data =  str(macd_data[0])\n",
        "first_macd_data =  str(macd_data[-1])\n",
        "print('macd_data_length:', len(macd_data), 'first_macd_data:', first_macd_data, 'last_macd_data:', last_macd_data) "
      ],
      "execution_count": 23,
      "outputs": [
        {
          "output_type": "stream",
          "name": "stdout",
          "text": [
            "https://www.alphavantage.co/query?function=MACD&symbol=QQQ&interval=daily&series_type=open&apikey=3F4URDEKOPLFH25T\n",
            "macd_data_length: 5530 first_macd_data: ['1999-12-17', 2.9386, -0.1242, 3.0628] last_macd_data: ['2021-12-08', 1.9654, -1.3799, 3.3453]\n"
          ]
        }
      ]
    },
    {
      "cell_type": "code",
      "metadata": {
        "colab": {
          "base_uri": "https://localhost:8080/"
        },
        "id": "gTTORjJJ22lE",
        "outputId": "6898b8a7-9bfc-44f0-fe3e-cac20a790cdc"
      },
      "source": [
        "stock_url = 'https://www.alphavantage.co/query?function=TIME_SERIES_DAILY_ADJUSTED&symbol='+ticker+'&outputsize=full&apikey=' + apikey\n",
        "print(stock_url)\n",
        "stock_api_response = pd.read_json(stock_url)\n",
        "stock_api_data = stock_api_response['Time Series (Daily)']\n",
        "#print(stock_api_data)\n",
        "stock_api_data = stock_api_data.drop(index=['1. Information','2. Symbol','3. Last Refreshed','4. Output Size','5. Time Zone']);\n",
        "\n",
        "stock_data = []\n",
        "split_coefficient = 1\n",
        "\n",
        "for key, value in stock_api_data.items():\n",
        "  date = key\n",
        "  open = float(value.get('1. open'))\n",
        "  high = float(value.get('2. high'))\n",
        "  low = float(value.get('3. low'))\n",
        "  close = float(value.get('4. close'))\n",
        "  adjusted_close = float(value.get('5. adjusted close'))\n",
        "  volume = int(value.get('6. volume'))\n",
        "  divident = float(value.get('7. dividend amount'))\n",
        "\n",
        "  if float(value.get('8. split coefficient')) > 1:\n",
        "    split_coefficient = float(value.get('8. split coefficient'))\n",
        "    \n",
        "  open = open / split_coefficient\n",
        "  high = high /split_coefficient\n",
        "  close = close / split_coefficient\n",
        "  low = low / split_coefficient\n",
        "  \n",
        "  stock_data.append([\n",
        "      date,\n",
        "      close,\n",
        "      volume,\n",
        "      high,\n",
        "      low,\n",
        "      open,\n",
        "      divident\n",
        "      ])\n",
        "\n",
        "last_date =  str(stock_data[0][0])\n",
        "print('data length:', len(stock_data), 'last_date:', last_date)\n",
        "\n",
        "last_stock_data =  str(stock_data[0])\n",
        "first_stock_data =  str(stock_data[-1])\n",
        "print('stock_data_length:', len(stock_data), 'first_stock_data:', first_stock_data, 'last_stock_data:', last_stock_data)"
      ],
      "execution_count": 24,
      "outputs": [
        {
          "output_type": "stream",
          "name": "stdout",
          "text": [
            "https://www.alphavantage.co/query?function=TIME_SERIES_DAILY_ADJUSTED&symbol=QQQ&outputsize=full&apikey=3F4URDEKOPLFH25T\n",
            "data length: 5563 last_date: 2021-12-08\n",
            "stock_data_length: 5563 first_stock_data: ['1999-11-01', 65.4, 4840900, 66.55, 65.3, 65.75, 0.0] last_stock_data: ['2021-12-08', 399.61, 39204041, 399.82, 396.22, 398.17, 0.0]\n"
          ]
        }
      ]
    },
    {
      "cell_type": "code",
      "metadata": {
        "id": "GzJkdoRGuYmf",
        "colab": {
          "base_uri": "https://localhost:8080/"
        },
        "outputId": "2eb5d5a8-c14a-44b4-c646-183ea72c0ede"
      },
      "source": [
        "data_size = np.min([len(rsi_data), len(stoch_data), len(stock_data), len(macd_data)])\n",
        "if max_data_size < data_size:\n",
        "  rsi_data = np.flip(rsi_data[:max_data_size],axis=0)\n",
        "  stoch_data = np.flip(stoch_data[:max_data_size],axis=0)\n",
        "  macd_data = np.flip(macd_data[:max_data_size],axis=0)\n",
        "  stock_data = np.flip(stock_data[:max_data_size],axis=0)\n",
        "else:\n",
        "  rsi_data = np.flip(rsi_data[:data_size],axis=0)\n",
        "  stoch_data = np.flip(stoch_data[:data_size],axis=0)\n",
        "  macd_data = np.flip(macd_data[:data_size],axis=0)\n",
        "  stock_data = np.flip(stock_data[:data_size],axis=0)\n",
        "\n",
        "dates = stock_data[:,0]\n",
        "\n",
        "rsi_array = rsi_data[:,1]\n",
        "stoch_slowD_array = stoch_data[:,1]\n",
        "stoch_slowK_array = stoch_data[:,2]\n",
        "macd_array = macd_data[:,1]\n",
        "macd_hist_array = macd_data[:,2]\n",
        "macd_signal_array = macd_data[:,3]\n",
        "\n",
        "indicators_data = np.append(np.expand_dims(dates, axis=1),  np.expand_dims(rsi_array, axis=1).astype(float),axis=1)\n",
        "indicators_data = np.append(indicators_data, np.expand_dims(stoch_slowD_array, axis=1),axis=1)\n",
        "indicators_data = np.append(indicators_data, np.expand_dims(stoch_slowK_array, axis=1),axis=1)\n",
        "indicators_data = np.append(indicators_data, np.expand_dims(macd_array, axis=1),axis=1)\n",
        "indicators_data = np.append(indicators_data, np.expand_dims(macd_hist_array, axis=1),axis=1)\n",
        "indicators_data = np.append(indicators_data, np.expand_dims(macd_signal_array, axis=1),axis=1)\n",
        "if print_level >= DEBUG:\n",
        "  print('indicators_data',indicators_data[:5])\n",
        "\n",
        "indicators_lstm_data = np.expand_dims(rsi_array, axis=1).astype(float)\n",
        "indicators_lstm_data = np.append(indicators_lstm_data, np.expand_dims(stoch_slowD_array, axis=1),axis=1).astype(float)\n",
        "indicators_lstm_data = np.append(indicators_lstm_data, np.expand_dims(stoch_slowK_array, axis=1),axis=1).astype(float)\n",
        "indicators_lstm_data = np.append(indicators_lstm_data, np.expand_dims(macd_hist_array, axis=1),axis=1).astype(float)\n",
        "if print_level >= DEBUG:\n",
        "  print('indicators_lstm_data',indicators_lstm_data[:5])"
      ],
      "execution_count": 25,
      "outputs": [
        {
          "output_type": "stream",
          "name": "stdout",
          "text": [
            "indicators_data [['2015-01-28' '33.8455' '64.6113' '34.4772' '-0.0263' '0.1565' '-0.1827']\n",
            " ['2015-01-29' '46.6848' '39.5169' '18.4876' '-0.1568' '0.0208' '-0.1776']\n",
            " ['2015-01-30' '38.9825' '25.2555' '22.8018' '-0.1849' '-0.0059' '-0.179']\n",
            " ['2015-02-02' '50.3812' '28.5272' '44.2921' '-0.2403' '-0.049' '-0.1913']\n",
            " ['2015-02-03' '60.6215' '42.8855' '61.5625' '-0.2041' '-0.0103'\n",
            "  '-0.1938']]\n",
            "indicators_lstm_data [[ 33.85  64.61  34.48  0.16]\n",
            " [ 46.68  39.52  18.49  0.02]\n",
            " [ 38.98  25.26  22.80 -0.01]\n",
            " [ 50.38  28.53  44.29 -0.05]\n",
            " [ 60.62  42.89  61.56 -0.01]]\n"
          ]
        }
      ]
    },
    {
      "cell_type": "code",
      "metadata": {
        "id": "xHrOFKHo3ocW"
      },
      "source": [
        "stock_df = pd.DataFrame(stock_data,columns=['Date','Close','Volume','High','Low','Open','Divident'])\n",
        "stock_df['50MA'] = stock_df['Close'].rolling(50).mean()\n",
        "stock_df['100MA'] = stock_df['Close'].rolling(100).mean()\n",
        "stock_df['200MA'] = stock_df['Close'].rolling(200).mean()"
      ],
      "execution_count": 26,
      "outputs": []
    },
    {
      "cell_type": "code",
      "metadata": {
        "id": "OYTx2W6N4JIM",
        "colab": {
          "base_uri": "https://localhost:8080/"
        },
        "outputId": "da05dde0-4305-4a06-e8d8-292740082927"
      },
      "source": [
        "indicators_df = pd.DataFrame(indicators_data,columns=['Date','RSI','SlowD','SlowK','MACD','MACD_Hist','MACD_Signal'])\n",
        "print(indicators_df)\n",
        "split = int(split_percent*len(indicators_data))\n",
        "if len(indicators_data) - split < look_back:\n",
        "  split = look_back\n",
        "split\n",
        "\n",
        "\n",
        "indicators_df_train = indicators_df.iloc[:split]\n",
        "indicators_df_test = indicators_df.iloc[split:]\n",
        "\n",
        "indicators_lstm_train_data = indicators_lstm_data[:split]\n",
        "indicators_lstm_test_data = indicators_lstm_data[split:]"
      ],
      "execution_count": 27,
      "outputs": [
        {
          "output_type": "stream",
          "name": "stdout",
          "text": [
            "            Date      RSI    SlowD    SlowK     MACD MACD_Hist MACD_Signal\n",
            "0     2015-01-28  33.8455  64.6113  34.4772  -0.0263    0.1565     -0.1827\n",
            "1     2015-01-29  46.6848  39.5169  18.4876  -0.1568    0.0208     -0.1776\n",
            "2     2015-01-30  38.9825  25.2555  22.8018  -0.1849   -0.0059      -0.179\n",
            "3     2015-02-02  50.3812  28.5272  44.2921  -0.2403    -0.049     -0.1913\n",
            "4     2015-02-03  60.6215  42.8855  61.5625  -0.2041   -0.0103     -0.1938\n",
            "...          ...      ...      ...      ...      ...       ...         ...\n",
            "1725  2021-12-02  39.7832  28.7054  23.9398   3.4835   -1.7772      5.2608\n",
            "1726  2021-12-03  29.1462  24.2545  18.4442   2.9063   -1.8836      4.7899\n",
            "1727  2021-12-06  38.4594  23.5484  28.2612   1.8082   -2.3853      4.1935\n",
            "1728  2021-12-07  62.0689  31.0626  46.4824   1.6771   -2.0131      3.6903\n",
            "1729  2021-12-08  64.6625  49.2997  73.1555   1.9654   -1.3799      3.3453\n",
            "\n",
            "[1730 rows x 7 columns]\n"
          ]
        }
      ]
    },
    {
      "cell_type": "code",
      "metadata": {
        "id": "5oRtthul4Pyj"
      },
      "source": [
        "np.set_printoptions(formatter={'float': '{: 0.12f}'.format})\n",
        "\n",
        "indicators_scaler = MinMaxScaler(feature_range=(0, 1))\n",
        "indicators_scaler = indicators_scaler.fit(indicators_lstm_data)\n",
        "\n",
        "indicators_lstm_train_data_scaled = indicators_scaler.transform(indicators_lstm_train_data)\n",
        "if print_level >= TRACE:\n",
        "  print(indicators_lstm_train_data_scaled[:look_back+1])\n",
        "  print(indicators_lstm_train_data_scaled.shape)\n",
        "\n",
        "indicators_lstm_test_data_scaled = indicators_scaler.transform(indicators_lstm_test_data)\n",
        "if print_level >= TRACE:\n",
        "  print(indicators_lstm_test_data_scaled[:look_back+1])\n",
        "  print(indicators_lstm_test_data_scaled.shape)"
      ],
      "execution_count": 28,
      "outputs": []
    },
    {
      "cell_type": "code",
      "metadata": {
        "id": "Cmmqy0nc4Slr"
      },
      "source": [
        "indicators_train_generator = TimeseriesGenerator(indicators_lstm_train_data_scaled, indicators_lstm_train_data_scaled, sampling_rate=1, length=look_back, batch_size=64)\n",
        "\n",
        "if print_level >= TRACE:\n",
        "  print('Samples: %d' % len(indicators_train_generator))\n",
        "  # print each sample\n",
        "  for i in range(2):\n",
        "    x, y = indicators_train_generator[i]\n",
        "    print('%s => %s' % (x, y))"
      ],
      "execution_count": 29,
      "outputs": []
    },
    {
      "cell_type": "code",
      "metadata": {
        "id": "xFQnXfRp6tVP",
        "colab": {
          "base_uri": "https://localhost:8080/"
        },
        "outputId": "90d5e84e-01b4-4db6-c02d-e62d0046f356"
      },
      "source": [
        "indicators_model = None\n",
        "try:\n",
        "  indicators_model = keras.models.load_model(indicators_model_file_path)\n",
        "  modified = os.path.getmtime(indicators_model_file_path)\n",
        "\n",
        "  print(pd.to_datetime(last_date).date() - datetime.fromtimestamp(modified).date() )\n",
        "  print('Loaded', indicators_model_file_path , ' model train date:',datetime.fromtimestamp(modified).date() , 'last date:', last_date)\n",
        "except:\n",
        "  indicators_model = None\n",
        "  print('Model ' + indicators_model_file_path + ' does not exists.')"
      ],
      "execution_count": 30,
      "outputs": [
        {
          "output_type": "stream",
          "name": "stdout",
          "text": [
            "Model /content/drive/MyDrive/models/QQQ_5_4_indicators_10.h5 does not exists.\n"
          ]
        }
      ]
    },
    {
      "cell_type": "code",
      "metadata": {
        "id": "r59DQEiZ0u18",
        "outputId": "86b81b6f-7ed4-4323-c862-629ed3ff26fa",
        "colab": {
          "base_uri": "https://localhost:8080/",
          "height": 316
        }
      },
      "source": [
        "if indicators_model is None:\n",
        "  indicators_model = Sequential()\n",
        "  indicators_model.add(LSTM(units=42, activation='tanh', input_shape=(look_back, nr_of_features), return_sequences=True))\n",
        "  indicators_model.add(Dropout(0.2))\n",
        "  indicators_model.add(LSTM(units=42, return_sequences=True, activation=\"relu\"))\n",
        "  indicators_model.add(Dropout(0.2))\n",
        "  indicators_model.add(LSTM(units=42, return_sequences=True, activation=\"relu\"))\n",
        "  indicators_model.add(Dropout(0.2))\n",
        "  indicators_model.add(LSTM(units=42, activation=\"tanh\"))\n",
        "  indicators_model.add(Dropout(0.2))\n",
        "  indicators_model.add(Dense(nr_of_features))\n",
        "\n",
        "  indicators_model.compile(\n",
        "      loss=MAE,\n",
        "      optimizer=Adam(learning_rate=learning_rate),\n",
        "      metrics=['mae','mse']\n",
        "  )\n",
        "    \n",
        "  #model.summary()\n",
        "  print('Model ' + indicators_model_file_path + ' compiled.')\n",
        "\n",
        "  indicators_modelo = indicators_model.fit(indicators_train_generator, epochs=epochs, verbose=0 )\n",
        "  \n",
        "  indicators_model.save(indicators_model_file_path)\n",
        "  print('Saved model ' + indicators_model_file_path)\n",
        "\n",
        "  \n",
        "  plt.plot(indicators_modelo.history['loss'])\n",
        "  plt.xlabel('Epochs')\n",
        "  plt.ylabel('Loss')\n",
        "  plt.show()"
      ],
      "execution_count": 31,
      "outputs": [
        {
          "output_type": "stream",
          "name": "stdout",
          "text": [
            "Model /content/drive/MyDrive/models/QQQ_5_4_indicators_10.h5 compiled.\n",
            "Saved model /content/drive/MyDrive/models/QQQ_5_4_indicators_10.h5\n"
          ]
        },
        {
          "output_type": "display_data",
          "data": {
            "image/png": "[encoded data removed]",
            "text/plain": [
              "<Figure size 432x288 with 1 Axes>"
            ]
          },
          "metadata": {
            "needs_background": "light"
          }
        }
      ]
    },
    {
      "cell_type": "code",
      "metadata": {
        "colab": {
          "base_uri": "https://localhost:8080/"
        },
        "id": "xkdpY8eE4XlZ",
        "outputId": "e874d82c-8141-49ad-f8ff-045b5f26cfc6"
      },
      "source": [
        "indicators_test_generator = TimeseriesGenerator(indicators_lstm_test_data_scaled, indicators_lstm_test_data_scaled,sampling_rate=1, length=look_back, batch_size=look_back)\n",
        "\n",
        "print('Samples: %d' % len(indicators_test_generator))\n",
        "# print each sample\n",
        "if print_level >= TRACE:\n",
        "  for i in range(2):\n",
        "    x, y = indicators_test_generator[i]\n",
        "    print('%s => %s' % (x, y))"
      ],
      "execution_count": 32,
      "outputs": [
        {
          "output_type": "stream",
          "name": "stdout",
          "text": [
            "Samples: 34\n"
          ]
        }
      ]
    },
    {
      "cell_type": "code",
      "metadata": {
        "id": "WAS1RHA1Mn10",
        "colab": {
          "base_uri": "https://localhost:8080/"
        },
        "outputId": "e20d3511-3802-4ed5-8dd7-1f74bd4416f0"
      },
      "source": [
        "#Make prediction\n",
        "indicators_prediction_scaled = indicators_model.predict(indicators_test_generator)\n",
        "\n",
        "if print_level >= DEBUG:\n",
        "  np.set_printoptions(formatter={'float': '{: 0.12f}'.format})\n",
        "  print(indicators_prediction_scaled[:5])\n",
        "\n",
        "indicators_prediction = indicators_scaler.inverse_transform(indicators_prediction_scaled)\n",
        "if nr_of_features == 1:\n",
        "   rsi_prediction = indicators_prediction.reshape((-1))\n",
        "else:\n",
        "  rsi_prediction = indicators_prediction[:,0].reshape((-1))\n",
        "  stoch_slowD_prediction = indicators_prediction[:,1].reshape((-1))\n",
        "  stoch_slowK_prediction = indicators_prediction[:,2].reshape((-1))\n",
        "\n",
        "if print_level >= DEBUG:\n",
        "  np.set_printoptions(formatter={'float': '{: 0.2f}'.format})\n",
        "  print('indicators_prediction shape:',indicators_prediction.shape)\n",
        "\n",
        "  for x in range(look_back + 1):\n",
        "    print('pred:',indicators_prediction[x], 'test:', indicators_lstm_test_data[x])\n"
      ],
      "execution_count": 33,
      "outputs": [
        {
          "output_type": "stream",
          "name": "stdout",
          "text": [
            "[[ 0.872637748718  0.926183700562  0.903801858425  0.569058775902]\n",
            " [ 0.876412868500  0.917678296566  0.898621618748  0.569189548492]\n",
            " [ 0.634556353092  0.771084189415  0.607399880886  0.534356176853]\n",
            " [ 0.703259348869  0.697457194328  0.701316893101  0.529315054417]\n",
            " [ 0.821109831333  0.801478385925  0.870551466942  0.550032258034]]\n",
            "indicators_prediction shape: (168, 4)\n",
            "pred: [ 85.06  91.53  90.28  0.57] test: [ 81.45  90.81  95.25  1.91]\n",
            "pred: [ 85.41  90.74  89.78  0.57] test: [ 82.49  94.27  93.19  2.12]\n",
            "pred: [ 63.34  77.12  61.88  0.30] test: [ 86.55  94.14  93.97  2.40]\n",
            "pred: [ 69.61  70.28  70.88  0.26] test: [ 88.51  94.58  96.57  2.40]\n",
            "pred: [ 80.36  79.95  87.09  0.42] test: [ 85.15  95.59  96.21  2.41]\n",
            "pred: [ 62.53  73.87  68.67  0.17] test: [ 89.57  96.05  95.36  2.41]\n"
          ]
        }
      ]
    },
    {
      "cell_type": "code",
      "metadata": {
        "id": "ae72DYdyd0zp",
        "colab": {
          "base_uri": "https://localhost:8080/"
        },
        "outputId": "d145bbd0-53db-47c1-e331-d6199a36f7a9"
      },
      "source": [
        "def predict(num_prediction, model):\n",
        "    prediction_list = indicators_lstm_test_data_scaled[-look_back:]\n",
        "    #print('prediction_list',prediction_list)\n",
        "    for _ in range(num_prediction):\n",
        "        x = prediction_list[-look_back:]\n",
        "        #print(x)\n",
        "        x = x.reshape((1, look_back, nr_of_features))\n",
        "        out = model.predict(x)\n",
        "        #print(x,out) \n",
        "        prediction_list = np.append(prediction_list, out, axis=0)\n",
        "    prediction_list = prediction_list[look_back-1:]\n",
        "        \n",
        "    return prediction_list\n",
        "    \n",
        "def predict_dates(last_date,num_prediction):\n",
        "    us_bd = CustomBusinessDay(calendar=USFederalHolidayCalendar())\n",
        "    prediction_dates = pd.date_range(last_date, periods=num_prediction+1,freq=us_bd).tolist()\n",
        "    return prediction_dates\n",
        "\n",
        "indicators_forecast_scaled = predict(num_prediction, indicators_model)\n",
        "#print(forecast_scaled)\n",
        "indicators_forecast_dates = predict_dates(indicators_df['Date'].values[-1],num_prediction)\n",
        "\n",
        "indicators_forecast = indicators_scaler.inverse_transform(indicators_forecast_scaled.reshape((-1,nr_of_features)))\n",
        "if nr_of_features == 1:\n",
        "   rsi_forecast = indicators_forecast.reshape((-1))\n",
        "else:\n",
        "  rsi_forecast = indicators_forecast[:,0].reshape((-1))\n",
        "  stoch_SlowD_forecast = indicators_forecast[:,1].reshape((-1))\n",
        "  stoch_SlowK_forecast = indicators_forecast[:,2].reshape((-1))\n",
        "  macd_hist_forecast = indicators_forecast[:,3].reshape((-1))\n",
        "\n",
        "if print_level >= DEBUG:\n",
        "  print('indicators_forecast:',indicators_forecast)\n",
        "  print('rsi_forecast:',rsi_forecast)"
      ],
      "execution_count": 34,
      "outputs": [
        {
          "output_type": "stream",
          "name": "stdout",
          "text": [
            "indicators_forecast: [[ 64.66  49.30  73.16 -1.38]\n",
            " [ 65.07  69.92  86.57 -0.08]\n",
            " [ 59.53  80.58  83.52 -0.02]\n",
            " [ 62.00  80.76  76.85  0.10]\n",
            " [ 61.83  73.20  66.15  0.19]\n",
            " [ 62.30  66.89  61.27  0.18]\n",
            " [ 62.09  61.94  58.24  0.15]\n",
            " [ 61.76  58.30  58.50  0.10]\n",
            " [ 61.40  57.72  60.42  0.06]\n",
            " [ 60.97  58.15  61.75  0.04]\n",
            " [ 60.59  59.23  62.69  0.03]]\n",
            "rsi_forecast: [ 64.66  65.07  59.53  62.00  61.83  62.30  62.09  61.76  61.40  60.97\n",
            "  60.59]\n"
          ]
        }
      ]
    },
    {
      "cell_type": "code",
      "metadata": {
        "colab": {
          "base_uri": "https://localhost:8080/",
          "height": 684
        },
        "id": "dnqEqJioguwy",
        "outputId": "f3290aa7-50d6-43d8-f180-4c35719249cb"
      },
      "source": [
        "#https://python.plainenglish.io/a-simple-guide-to-plotly-for-plotting-financial-chart-54986c996682\n",
        "chart_days = len(indicators_df_test) * 2\n",
        "\n",
        "#'Date','Close','Volume','High','Low','Open','Divident'\n",
        "open_price =  str(stock_data[-1][5])\n",
        "low_price =  str(stock_data[-1][3])\n",
        "high_price =  str(stock_data[-1][4])\n",
        "close_price =  str(stock_data[-1][1])\n",
        "rsi_forecast_mean = np.round(np.mean(rsi_forecast))\n",
        "\n",
        "tradingview_link = '<a href=\"https://in.tradingview.com/chart/66XmQfYy/?symbol=' + ticker +'\">' + ticker +'</a>'\n",
        "stock_title = tradingview_link + ' Date:' + last_date + ' Open:' + open_price + ' High:' + high_price + ' Low:' + low_price + ' Close:' + close_price\n",
        "indicators_title = tradingview_link + ' RSI('+ str(look_back)+ ') Date:' + last_date + ' Close:' + indicators_df['RSI'].iloc[-1] + ' Forecast('+str(look_back)+'):' + str(rsi_forecast_mean)\n",
        "\n",
        "fig = make_subplots(rows=4, cols=1, row_heights=[0.4, 0.2, 0.2, 0.2], subplot_titles=(stock_title, indicators_title))\n",
        "\n",
        "go.Layout(\n",
        "    title = ticker + ' Date:' + last_date + ' Open:' + open_price + ' High:' + high_price + ' Low:' + low_price + ' Close:' + close_price,\n",
        "    xaxis = {'title' : \"Dates\"},\n",
        "    yaxis = {'title' : \"Close Price ($)\"},\n",
        "    height = 450\n",
        ")\n",
        "\n",
        "trace1 = go.Candlestick(\n",
        "    x = stock_df.tail(chart_days)['Date'],\n",
        "    open = stock_df.tail(chart_days)['Open'],\n",
        "    high = stock_df.tail(chart_days)['High'],\n",
        "    low = stock_df.tail(chart_days)['Low'],\n",
        "    close = stock_df.tail(chart_days)['Close'],\n",
        "    name = ticker + ' Price'\n",
        ")\n",
        "\n",
        "trace2 = go.Scatter(\n",
        "    x = stock_df.tail(chart_days)['Date'],\n",
        "    y = stock_df.tail(chart_days)['50MA'],\n",
        "    mode='lines',\n",
        "    name ='50MA'\n",
        ")\n",
        "\n",
        "trace3 = go.Scatter(\n",
        "    x = stock_df.tail(chart_days)['Date'],\n",
        "    y = stock_df.tail(chart_days)['100MA'],\n",
        "    mode='lines',\n",
        "    name ='100MA'\n",
        ")\n",
        "\n",
        "trace4 = go.Scatter(\n",
        "    x = stock_df.tail(chart_days)['Date'],\n",
        "    y = stock_df.tail(chart_days)['200MA'],\n",
        "    mode='lines',\n",
        "    name ='200MA'\n",
        ")\n",
        "\n",
        "fig.add_trace(trace1,row=1, col=1)\n",
        "fig.add_trace(trace2,row=1, col=1)\n",
        "fig.add_trace(trace3,row=1, col=1)\n",
        "fig.add_trace(trace4,row=1, col=1)\n",
        "\n",
        "trace_rsi_train = go.Scatter(\n",
        "  x = indicators_df_train.tail(len(indicators_df_test))['Date'],\n",
        "  y = indicators_df_train.tail(len(indicators_df_test))['RSI'],\n",
        "  mode='lines',\n",
        "  name ='RSI'\n",
        ")\n",
        "\n",
        "trace_rsi_test = go.Scatter(\n",
        "  x = indicators_df_test['Date'],\n",
        "  y = indicators_df_test['RSI'],\n",
        "  mode='lines',\n",
        "  name ='Test'\n",
        ")\n",
        "\n",
        "trace_rsi_prediction = go.Scatter(\n",
        "    x = indicators_df_test['Date'],\n",
        "    y = rsi_prediction,\n",
        "    mode='markers+lines',\n",
        "    name ='Prediction'\n",
        ")\n",
        "\n",
        "trace_rsi_forecast = go.Scatter(\n",
        "    x = indicators_forecast_dates,\n",
        "    y = rsi_forecast,\n",
        "    mode='markers+lines',\n",
        "    name ='Forecast'\n",
        ")\n",
        "\n",
        "fig.add_trace(trace_rsi_train,row=2, col=1)\n",
        "fig.add_trace(trace_rsi_test,row=2, col=1)\n",
        "fig.add_trace(trace_rsi_prediction,row=2, col=1)\n",
        "fig.add_trace(trace_rsi_forecast,row=2, col=1)\n",
        "\n",
        "fig.add_trace(go.Scatter(\n",
        "        x = [indicators_df_train.tail(len(indicators_df_test))['Date'].min(), np.max(indicators_forecast_dates)],\n",
        "        y = [70, 70],\n",
        "        mode = \"lines\",\n",
        "        line = dict(shape = 'linear', color = 'rgb(100, 10, 100)', dash = 'dash')\n",
        "    ),row=2, col=1)\n",
        "\n",
        "fig.add_trace(go.Scatter(\n",
        "        x = [indicators_df_train.tail(len(indicators_df_test))['Date'].min(), np.max(indicators_forecast_dates)],\n",
        "        y = [50, 50],\n",
        "        mode = \"lines\",\n",
        "        line = dict(shape = 'linear', color = 'rgb(10, 12, 240)', dash = 'dash')\n",
        "    ),row=2, col=1)\n",
        "\n",
        "fig.add_trace(go.Scatter(\n",
        "        x = [indicators_df_train.tail(len(indicators_df_test))['Date'].min(), np.max(indicators_forecast_dates)],\n",
        "        y = [30, 30],\n",
        "        mode = \"lines\",\n",
        "        line = dict(shape = 'linear', color = 'rgb(10, 120, 24)', dash = 'dash')\n",
        "    ),row=2, col=1)\n",
        "\n",
        "\n",
        "trace_stoch_SlowK_train = go.Scatter(\n",
        "  x = indicators_df_train.tail(len(indicators_df_test))['Date'],\n",
        "  y = indicators_df_train.tail(len(indicators_df_test))['SlowK'],\n",
        "  mode='lines',\n",
        "  name ='Train Stoch SlowK'\n",
        ")\n",
        "\n",
        "trace_stoch_SlowD_train = go.Scatter(\n",
        "  x = indicators_df_train.tail(len(indicators_df_test))['Date'],\n",
        "  y = indicators_df_train.tail(len(indicators_df_test))['SlowD'],\n",
        "  mode='lines',\n",
        "  name ='Train Stoch SlowD'\n",
        ")\n",
        "\n",
        "trace_stoch_SlowD_test = go.Scatter(\n",
        "  x = indicators_df_test['Date'],\n",
        "  y = indicators_df_test['SlowD'],\n",
        "  mode='lines',\n",
        "  name ='Test Stoch SlowD'\n",
        ")\n",
        "\n",
        "trace_stoch_SlowK_test = go.Scatter(\n",
        "  x = indicators_df_test['Date'],\n",
        "  y = indicators_df_test['SlowK'],\n",
        "  mode='lines',\n",
        "  name ='Test Stoch SlowK'\n",
        ")\n",
        "\n",
        "trace_stoch_SlowD_prediction = go.Scatter(\n",
        "    x = indicators_df_test['Date'],\n",
        "    y = stoch_slowD_prediction,\n",
        "    mode='markers+lines',\n",
        "    name ='Prediction Stoch SlowD'\n",
        ")\n",
        "\n",
        "trace_stoch_SlowK_prediction = go.Scatter(\n",
        "    x = indicators_df_test['Date'],\n",
        "    y = stoch_slowK_prediction,\n",
        "    mode='markers+lines',\n",
        "    name ='Prediction Stoch SlowK'\n",
        ")\n",
        "\n",
        "trace_stoch_SlowD_forecast = go.Scatter(\n",
        "    x = indicators_forecast_dates,\n",
        "    y = stoch_SlowD_forecast,\n",
        "    mode='markers+lines',\n",
        "    name ='Forecast Stoch SlowD'\n",
        ")\n",
        "\n",
        "trace_stoch_SlowK_forecast = go.Scatter(\n",
        "    x = indicators_forecast_dates,\n",
        "    y = stoch_SlowK_forecast,\n",
        "    mode='markers+lines',\n",
        "    name ='Forecast Stoch SlowK'\n",
        ")\n",
        "\n",
        "fig.add_trace(trace_stoch_SlowK_train, row=3,col=1 )\n",
        "fig.add_trace(trace_stoch_SlowD_train, row=3,col=1 )\n",
        "fig.add_trace(trace_stoch_SlowD_test, row=3,col=1 )\n",
        "fig.add_trace(trace_stoch_SlowK_test, row=3,col=1 )\n",
        "fig.add_trace(trace_stoch_SlowD_prediction, row=3,col=1 )\n",
        "fig.add_trace(trace_stoch_SlowK_prediction, row=3,col=1 )\n",
        "fig.add_trace(trace_stoch_SlowD_forecast, row=3,col=1 )\n",
        "fig.add_trace(trace_stoch_SlowK_forecast, row=3,col=1 )\n",
        "\n",
        "fig.add_trace(go.Scatter(\n",
        "        x = [indicators_df_train.tail(len(indicators_df_test))['Date'].min(), np.max(indicators_forecast_dates)],\n",
        "        y = [70, 70],\n",
        "        mode = \"lines\",\n",
        "        line = dict(shape = 'linear', color = 'rgb(100, 10, 100)', dash = 'dash')\n",
        "    ),row=3, col=1)\n",
        "\n",
        "fig.add_trace(go.Scatter(\n",
        "        x = [indicators_df_train.tail(len(indicators_df_test))['Date'].min(), np.max(indicators_forecast_dates)],\n",
        "        y = [50, 50],\n",
        "        mode = \"lines\",\n",
        "        line = dict(shape = 'linear', color = 'rgb(10, 12, 240)', dash = 'dash')\n",
        "    ),row=3, col=1)\n",
        "\n",
        "fig.add_trace(go.Scatter(\n",
        "        x = [indicators_df_train.tail(len(indicators_df_test))['Date'].min(), np.max(indicators_forecast_dates)],\n",
        "        y = [30, 30],\n",
        "        mode = \"lines\",\n",
        "        line = dict(shape = 'linear', color = 'rgb(10, 120, 24)', dash = 'dash')\n",
        "    ),row=3, col=1)\n",
        "\n",
        "#colors = ['green' if row['Open'] - row['Close'] >= 0 \n",
        "#          else 'red' for index, row in trace_macd_train.iterrows()]\n",
        "trace_macd_train = go.Bar(\n",
        "  x = indicators_df_train.tail(len(indicators_df_test))['Date'],\n",
        "  y = indicators_df_train.tail(len(indicators_df_test))['MACD_Hist']\n",
        ")\n",
        "\n",
        "trace_macd_test = go.Bar(\n",
        "  x = indicators_df_test['Date'],\n",
        "  y = indicators_df_test['MACD_Hist']\n",
        ")\n",
        "\n",
        "trace_macd_hist_forecast = go.Bar(\n",
        "    x = indicators_forecast_dates,\n",
        "    y = macd_hist_forecast,\n",
        "    marker_color=['black']\n",
        ")\n",
        "\n",
        "\n",
        "fig.add_trace(trace_macd_train, row=4,col=1 )\n",
        "fig.add_trace(trace_macd_test, row=4,col=1 )\n",
        "fig.add_trace(trace_macd_hist_forecast, row=4,col=1 )\n",
        "\n",
        "fig.update_yaxes(showspikes=True, spikemode='across', spikesnap='cursor',spikedash='dash')\n",
        "fig.update_xaxes(showspikes=True, spikemode='across', spikesnap='cursor', spikedash='dash')\n",
        "fig.update_layout(xaxis_rangeslider_visible=False,height=650)\n",
        "fig.update_layout(margin=go.layout.Margin(\n",
        "        l=20, #left margin\n",
        "        r=20, #right margin\n",
        "        b=20, #bottom margin\n",
        "        t=20  #top margin\n",
        "    ))\n",
        "fig.show()\n",
        "folder='/content/drive/MyDrive/models/charts/'+ last_date\n",
        "Path(folder).mkdir(parents=True, exist_ok=True)\n",
        "print('chart folder:', folder)\n",
        "fig.write_html(folder + '/' + ticker + '_' + str(look_back) + '_' + str(nr_of_features) + '_10_inidicators_forecast.html')"
      ],
      "execution_count": 35,
      "outputs": [
        {
          "output_type": "display_data",
          "data": {
            "text/html": [
              "<html>\n",
              "<head><meta charset=\"utf-8\" /></head>\n",
              "<body>\n",
              "    <div>\n",
              "            <script src=\"https://cdnjs.cloudflare.com/ajax/libs/mathjax/2.7.5/MathJax.js?config=TeX-AMS-MML_SVG\"></script><script type=\"text/javascript\">if (window.MathJax) {MathJax.Hub.Config({SVG: {font: \"STIX-Web\"}});}</script>\n",
              "                <script type=\"text/javascript\">window.PlotlyConfig = {MathJaxConfig: 'local'};</script>\n",
              "        <script src=\"https://cdn.plot.ly/plotly-latest.min.js\"></script>    \n",
              "            <div id=\"c56e823f-7318-4f9e-95e4-983e20694fc9\" class=\"plotly-graph-div\" style=\"height:650px; width:100%;\"></div>\n",
              "            <script type=\"text/javascript\">\n",
              "                \n",
              "                    window.PLOTLYENV=window.PLOTLYENV || {};\n",
              "                    \n",
              "                if (document.getElementById(\"c56e823f-7318-4f9e-95e4-983e20694fc9\")) {\n",
              "                    Plotly.newPlot(\n",
              "                        'c56e823f-7318-4f9e-95e4-983e20694fc9',\n",
              "                        [{\"close\": [\"256.81\", \"259.77\", \"261.13\", \"265.79\", \"269.38\", \"270.38\", \"271.05\", \"274.64\", \"271.47\", \"270.31\", \"265.19\", \"271.86\", \"272.48\", \"272.16\", \"275.32\", \"277.97\", \"276.1\", \"279.93\", \"281.87\", \"283.63\", \"285.86\", \"291.96\", \"291.05\", \"292.53\", \"294.88\", \"299.92\", \"302.76\", \"287.41\", \"283.58\", \"269.95\", \"277.88\", \"272.34\", \"270.45\", \"275.16\", \"279.06\", \"274.61\", \"270.32\", \"266.87\", \"267.51\", \"272.48\", \"264.16\", \"265.39\", \"271.56\", \"277.2\", \"275.95\", \"277.84\", \"282.25\", \"274.31\", \"280.16\", \"275.16\", \"279.92\", \"281.41\", \"285.71\", \"294.53\", \"294.52\", \"292.06\", \"290.1\", \"288.51\", \"283.8\", \"284.41\", \"284.19\", \"284.18\", \"284.74\", \"280.47\", \"282.66\", \"271.64\", \"276.39\", \"269.38\", \"269.98\", \"274.65\", \"286.91\", \"294.39\", \"294.61\", \"288.59\", \"283.42\", \"289.76\", \"288.4\", \"290.93\", \"293.2\", \"292.27\", \"290.11\", \"292.38\", \"290.38\", \"290.39\", \"294.47\", \"296.28\", \"299.01\", \"299.62\", \"303.46\", \"303.85\", \"304.28\", \"305.52\", \"307.25\", \"308.29\", \"301.31\", \"302.52\", \"301.85\", \"304.04\", \"307.29\", \"308.98\", \"311.0\", \"310.06\", \"308.92\", \"309.76\", \"308.2\", \"309.56\", \"312.68\", \"312.96\", \"312.97\", \"313.74\", \"309.31\", \"311.86\", \"307.54\", \"314.98\", \"319.03\", \"314.42\", \"313.92\", \"316.04\", \"314.35\", \"311.86\", \"316.41\", \"323.77\", \"326.36\", \"325.42\", \"328.11\", \"328.59\", \"319.43\", \"321.32\", \"314.56\", \"322.42\", \"327.68\", \"326.38\", \"330.24\", \"331.36\", \"333.58\", \"333.51\", \"332.75\", \"334.58\", \"336.45\", \"335.54\", \"333.93\", \"332.47\", \"331.02\", \"322.44\", \"321.48\", \"324.13\", \"312.83\", \"314.14\", \"323.59\", \"318.4\", \"309.16\", \"304.1\", \"308.68\", \"299.94\", \"311.77\", \"310.88\", \"318.04\", \"315.46\", \"318.83\", \"320.58\", \"321.9\", \"312.04\", \"313.14\", \"318.61\", \"317.22\", \"311.87\", \"311.33\", \"316.0\", \"315.91\", \"314.32\", \"319.13\", \"324.57\", \"331.05\", \"330.82\", \"331.62\", \"335.08\", \"337.11\", \"336.67\", \"340.6\", \"336.51\", \"341.61\", \"342.01\", \"338.88\", \"336.41\", \"339.29\", \"335.2\", \"339.42\", \"341.63\", \"340.15\", \"339.0\", \"340.22\", \"337.99\", \"336.19\", \"330.14\", \"329.03\", \"331.51\", \"334.2\", \"325.76\", \"325.31\", \"316.89\", \"319.34\", \"326.39\", \"324.41\", \"322.22\", \"322.59\", \"328.83\", \"327.01\", \"332.51\", \"332.97\", \"334.13\", \"332.88\", \"333.93\", \"332.82\", \"333.47\", \"330.0\", \"335.6\", \"336.6\", \"336.76\", \"336.84\", \"340.35\", \"341.24\", \"344.51\", \"342.26\", \"341.01\", \"345.34\", \"342.63\", \"344.36\", \"347.57\", \"347.74\", \"349.89\", \"349.46\", \"353.71\", \"354.99\", \"354.43\", \"354.57\", \"358.64\", \"360.19\", \"360.95\", \"358.77\", \"361.01\", \"362.42\", \"362.42\", \"363.07\", \"360.52\", \"357.6\", \"354.67\", \"358.79\", \"361.56\", \"363.95\", \"368.2\", \"368.49\", \"364.43\", \"365.83\", \"366.48\", \"364.57\", \"364.6\", \"366.81\", \"367.34\", \"369.67\", \"368.05\", \"368.73\", \"366.84\", \"366.21\", \"367.53\", \"368.82\", \"368.98\", \"365.73\", \"362.21\", \"363.96\", \"367.73\", \"373.23\", \"374.37\", \"374.8\", \"372.42\", \"376.04\", \"380.26\", \"379.95\", \"380.58\", \"380.4\", \"381.57\", \"382.11\", \"380.78\", \"379.47\", \"376.59\", \"376.33\", \"375.26\", \"378.05\", \"378.31\", \"373.83\", \"365.7\", \"366.15\", \"369.57\", \"372.98\", \"373.33\", \"370.35\", \"359.87\", \"359.28\", \"357.96\", \"360.18\", \"352.62\", \"357.38\", \"359.67\", \"362.97\", \"361.16\", \"358.39\", \"357.14\", \"360.0\", \"366.63\", \"368.94\", \"372.65\", \"375.47\", \"374.98\", \"377.27\", \"374.1\", \"377.93\", \"379.12\", \"380.0\", \"384.22\", \"386.11\", \"387.43\", \"389.05\", \"393.18\", \"398.22\", \"398.6\", \"398.06\", \"395.32\", \"389.51\", \"390.59\", \"394.7\", \"394.61\", \"397.42\", \"397.63\", \"401.75\", \"403.99\", \"399.3\", \"397.48\", \"398.76\", \"391.2\", \"399.69\", \"393.82\", \"387.12\", \"389.91\", \"383.13\", \"386.2\", \"397.83\", \"399.61\"], \"high\": [\"259.85\", \"260.66\", \"261.71\", \"265.95\", \"270.15\", \"270.48\", \"271.52\", \"274.98\", \"274.8818\", \"271.98\", \"270.44\", \"272.84\", \"274.83\", \"273.4\", \"275.84\", \"278.465\", \"279.02\", \"280.43\", \"282.34\", \"286.0\", \"286.06\", \"292.22\", \"293.851\", \"293.18\", \"296.745\", \"300.04\", \"303.5\", \"298.62\", \"288.93\", \"278.22\", \"280.045\", \"282.195\", \"275.22\", \"277.22\", \"280.45\", \"280.36\", \"274.3955\", \"272.09\", \"267.65\", \"273.08\", \"272.34\", \"268.7\", \"272.395\", \"277.2\", \"277.71\", \"281.09\", \"282.8794\", \"282.2412\", \"280.49\", \"281.19\", \"280.74\", \"282.47\", \"285.79\", \"297.46\", \"297.0496\", \"296.35\", \"290.71\", \"293.269\", \"291.48\", \"287.62\", \"287.32\", \"285.98\", \"284.91\", \"285.3\", \"283.505\", \"278.6401\", \"279.49\", \"275.24\", \"273.52\", \"276.82\", \"288.77\", \"295.39\", \"295.36\", \"299.14\", \"286.6599\", \"290.25\", \"292.074\", \"291.57\", \"293.51\", \"293.74\", \"293.37\", \"292.7\", \"293.065\", \"292.75\", \"294.98\", \"296.94\", \"300.17\", \"299.97\", \"305.14\", \"304.195\", \"305.88\", \"305.67\", \"307.63\", \"308.6\", \"308.36\", \"303.68\", \"301.98\", \"306.05\", \"307.29\", \"309.785\", \"311.24\", \"311.98\", \"309.47\", \"310.7105\", \"310.18\", \"310.02\", \"313.17\", \"314.685\", \"314.49\", \"314.24\", \"315.29\", \"312.14\", \"311.88\", \"315.84\", \"319.39\", \"317.19\", \"315.58\", \"316.86\", \"317.53\", \"315.12\", \"316.93\", \"324.74\", \"327.13\", \"326.46\", \"330.32\", \"329.76\", \"326.27\", \"326.42\", \"320.7193\", \"323.54\", \"328.87\", \"330.195\", \"330.33\", \"332.4025\", \"333.74\", \"334.81\", \"335.46\", \"335.0\", \"336.62\", \"338.19\", \"335.657\", \"333.8661\", \"333.99\", \"327.8\", \"323.2\", \"324.45\", \"324.03\", \"319.11\", \"323.94\", \"324.33\", \"318.24\", \"312.04\", \"309.609\", \"310.06\", \"313.73\", \"316.47\", \"319.86\", \"318.2302\", \"319.0\", \"324.2\", \"323.85\", \"317.8801\", \"314.73\", \"320.74\", \"321.09\", \"318.67\", \"312.885\", \"316.33\", \"316.99\", \"314.91\", \"320.74\", \"324.71\", \"331.84\", \"332.83\", \"332.48\", \"335.27\", \"337.32\", \"337.1\", \"341.08\", \"340.98\", \"342.01\", \"342.23\", \"341.58\", \"339.52\", \"339.48\", \"339.9\", \"340.767\", \"341.92\", \"342.15\", \"340.85\", \"342.8\", \"340.26\", \"340.0\", \"333.89\", \"333.14\", \"331.67\", \"336.65\", \"332.96\", \"326.1299\", \"322.62\", \"322.4\", \"327.33\", \"326.3721\", \"326.65\", \"322.9\", \"329.71\", \"330.86\", \"333.67\", \"334.81\", \"334.61\", \"334.54\", \"335.5699\", \"335.785\", \"334.34\", \"331.86\", \"336.0582\", \"336.66\", \"339.29\", \"338.97\", \"340.46\", \"341.25\", \"344.52\", \"344.47\", \"343.84\", \"346.38\", \"344.8082\", \"344.69\", \"348.03\", \"348.92\", \"351.46\", \"350.72\", \"353.85\", \"355.0199\", \"355.23\", \"355.09\", \"358.97\", \"360.48\", \"362.76\", \"359.65\", \"361.5\", \"362.89\", \"365.465\", \"365.49\", \"363.19\", \"362.41\", \"355.18\", \"360.28\", \"361.56\", \"363.96\", \"368.485\", \"368.89\", \"368.22\", \"367.45\", \"367.6794\", \"365.17\", \"366.88\", \"366.93\", \"368.32\", \"369.91\", \"369.37\", \"369.27\", \"369.56\", \"368.65\", \"367.9\", \"369.16\", \"369.02\", \"367.15\", \"366.62\", \"365.68\", \"368.14\", \"373.935\", \"374.99\", \"375.39\", \"374.62\", \"376.56\", \"380.76\", \"380.579\", \"382.71\", \"382.31\", \"381.98\", \"382.778\", \"381.93\", \"382.15\", \"381.97\", \"379.43\", \"378.61\", \"378.41\", \"378.9\", \"377.87\", \"369.25\", \"368.81\", \"371.07\", \"374.04\", \"373.76\", \"371.2516\", \"370.302\", \"363.37\", \"362.68\", \"361.25\", \"358.86\", \"359.69\", \"359.95\", \"365.69\", \"364.3166\", \"363.2\", \"360.33\", \"360.69\", \"366.85\", \"369.06\", \"372.87\", \"375.52\", \"376.565\", \"377.47\", \"376.97\", \"378.87\", \"382.71\", \"383.15\", \"384.48\", \"386.28\", \"387.56\", \"389.54\", \"393.61\", \"399.2\", \"400.99\", \"399.62\", \"399.57\", \"395.36\", \"392.75\", \"395.25\", \"396.24\", \"397.93\", \"399.7196\", \"402.27\", \"405.3\", \"408.71\", \"400.23\", \"399.05\", \"397.54\", \"400.73\", \"401.19\", \"400.48\", \"391.74\", \"392.34\", \"387.6\", \"398.46\", \"399.82\"], \"low\": [\"256.51\", \"257.91\", \"256.55\", \"260.85\", \"267.87\", \"268.09\", \"269.96\", \"270.19\", \"269.245\", \"266.67\", \"264.63\", \"267.37\", \"271.51\", \"270.72\", \"272.1978\", \"274.91\", \"275.57\", \"274.86\", \"279.461\", \"281.27\", \"282.37\", \"285.829\", \"288.705\", \"290.93\", \"292.62\", \"295.79\", \"296.89\", \"284.41\", \"271.8\", \"269.66\", \"273.0\", \"270.56\", \"266.9\", \"272.96\", \"275.1332\", \"274.25\", \"266.68\", \"262.63\", \"260.11\", \"266.54\", \"263.2502\", \"261.22\", \"264.2999\", \"271.674\", \"275.3719\", \"275.8717\", \"279.84\", \"273.44\", \"276.23\", \"274.25\", \"277.28\", \"280.31\", \"282.71\", \"289.47\", \"293.11\", \"290.26\", \"286.54\", \"288.15\", \"282.79\", \"282.95\", \"283.69\", \"280.82\", \"281.7818\", \"276.76\", \"280.2\", \"271.38\", \"272.52\", \"267.07\", \"266.97\", \"270.84\", \"281.87\", \"292.0\", \"289.83\", \"288.12\", \"280.62\", \"283.38\", \"287.25\", \"287.8701\", \"289.99\", \"291.61\", \"290.02\", \"288.85\", \"290.29\", \"288.07\", \"289.63\", \"294.59\", \"297.9\", \"294.78\", \"300.83\", \"300.35\", \"303.531\", \"303.63\", \"305.52\", \"304.95\", \"300.21\", \"298.09\", \"298.47\", \"303.01\", \"304.11\", \"306.621\", \"309.39\", \"307.61\", \"303.6\", \"306.845\", \"308.035\", \"308.39\", \"310.36\", \"312.03\", \"312.33\", \"311.76\", \"305.18\", \"308.29\", \"305.98\", \"310.25\", \"315.0814\", \"313.75\", \"311.2\", \"313.57\", \"313.8616\", \"310.58\", \"313.12\", \"316.509\", \"323.73\", \"324.71\", \"321.41\", \"327.22\", \"317.36\", \"320.03\", \"312.76\", \"316.02\", \"325.31\", \"326.32\", \"326.46\", \"329.53\", \"331.41\", \"332.61\", \"329.5\", \"332.12\", \"332.63\", \"334.34\", \"330.17\", \"328.36\", \"329.97\", \"322.23\", \"311.0\", \"315.96\", \"311.24\", \"310.88\", \"317.935\", \"318.14\", \"309.1\", \"300.11\", \"297.45\", \"299.51\", \"306.92\", \"310.17\", \"314.85\", \"311.391\", \"314.095\", \"319.1\", \"315.68\", \"311.57\", \"309.6601\", \"315.21\", \"316.375\", \"311.72\", \"307.3899\", \"309.67\", \"312.47\", \"311.54\", \"315.81\", \"322.81\", \"324.6375\", \"330.02\", \"329.37\", \"333.7399\", \"332.92\", \"334.73\", \"338.02\", \"335.67\", \"336.2153\", \"340.08\", \"336.9016\", \"334.3816\", \"333.97\", \"334.01\", \"335.85\", \"338.9\", \"339.17\", \"338.3301\", \"336.9001\", \"337.05\", \"335.73\", \"326.21\", \"328.23\", \"326.45\", \"331.6914\", \"325.55\", \"319.02\", \"316.0\", \"316.9\", \"322.08\", \"321.45\", \"321.94\", \"316.3\", \"323.89\", \"326.64\", \"326.9032\", \"331.755\", \"332.95\", \"332.67\", \"333.6\", \"331.43\", \"331.695\", \"328.28\", \"331.78\", \"334.34\", \"335.03\", \"336.651\", \"336.73\", \"339.69\", \"340.46\", \"341.52\", \"337.45\", \"339.92\", \"341.86\", \"340.15\", \"343.84\", \"346.88\", \"349.17\", \"348.84\", \"350.72\", \"352.67\", \"353.83\", \"352.68\", \"356.28\", \"356.49\", \"358.94\", \"354.42\", \"357.57\", \"360.83\", \"361.54\", \"362.22\", \"358.46\", \"357.24\", \"352.04\", \"353.8\", \"358.12\", \"361.77\", \"363.9157\", \"366.601\", \"360.16\", \"363.24\", \"365.25\", \"362.41\", \"363.87\", \"362.0\", \"365.63\", \"367.45\", \"366.905\", \"367.39\", \"365.62\", \"364.84\", \"364.295\", \"367.38\", \"363.7\", \"363.23\", \"361.865\", \"359.96\", \"364.74\", \"368.79\", \"373.36\", \"373.855\", \"371.97\", \"372.57\", \"376.83\", \"378.36\", \"380.37\", \"379.15\", \"379.2003\", \"380.4882\", \"378.45\", \"379.22\", \"376.245\", \"374.22\", \"374.28\", \"373.37\", \"374.695\", \"372.76\", \"360.93\", \"364.99\", \"365.9584\", \"370.099\", \"370.27\", \"367.73\", \"359.35\", \"358.635\", \"357.1\", \"354.38\", \"350.32\", \"353.48\", \"353.15\", \"362.25\", \"360.61\", \"358.3\", \"356.48\", \"357.43\", \"363.01\", \"366.82\", \"366.99\", \"372.6974\", \"373.46\", \"373.85\", \"372.385\", \"373.56\", \"377.905\", \"379.31\", \"381.155\", \"380.7\", \"384.42\", \"386.75\", \"388.48\", \"393.92\", \"397.16\", \"397.4\", \"393.92\", \"387.53\", \"390.24\", \"390.13\", \"392.095\", \"393.66\", \"396.64\", \"397.45\", \"402.58\", \"399.19\", \"392.92\", \"392.54\", \"389.77\", \"395.14\", \"391.75\", \"386.64\", \"384.34\", \"378.9\", \"379.3\", \"392.99\", \"396.22\"], \"name\": \"QQQ Price\", \"open\": [\"259.33\", \"258.33\", \"257.78\", \"265.83\", \"268.05\", \"268.74\", \"270.83\", \"270.78\", \"274.04\", \"271.74\", \"269.1\", \"267.37\", \"272.64\", \"273.01\", \"273.91\", \"276.41\", \"277.93\", \"275.3\", \"280.07\", \"285.06\", \"282.78\", \"287.11\", \"293.08\", \"292.27\", \"293.16\", \"297.6\", \"303.26\", \"298.2\", \"285.76\", \"272.27\", \"275.54\", \"280.97\", \"274.33\", \"274.28\", \"278.9\", \"279.77\", \"267.52\", \"271.62\", \"262.52\", \"270.05\", \"272.15\", \"261.58\", \"265.82\", \"276.615\", \"276.72\", \"276.09\", \"281.79\", \"276.01\", \"276.34\", \"279.29\", \"277.83\", \"282.32\", \"283.09\", \"290.6\", \"296.34\", \"295.32\", \"287.25\", \"291.8\", \"290.49\", \"284.56\", \"284.67\", \"285.05\", \"284.79\", \"282.32\", \"281.42\", \"278.13\", \"273.04\", \"274.375\", \"271.73\", \"271.86\", \"283.56\", \"293.41\", \"293.58\", \"297.31\", \"285.26\", \"285.92\", \"290.72\", \"290.01\", \"290.68\", \"293.4\", \"291.7\", \"289.48\", \"292.3\", \"291.41\", \"291.49\", \"295.44\", \"298.29\", \"299.3\", \"301.87\", \"302.22\", \"304.07\", \"304.33\", \"305.71\", \"306.76\", \"308.07\", \"299.21\", \"300.81\", \"303.08\", \"306.37\", \"307.7\", \"310.63\", \"311.66\", \"306.46\", \"309.85\", \"309.81\", \"308.47\", \"312.25\", \"314.05\", \"314.16\", \"312.87\", \"315.11\", \"308.29\", \"307.0\", \"310.28\", \"317.34\", \"315.98\", \"314.46\", \"314.19\", \"316.5\", \"314.13\", \"314.25\", \"320.14\", \"325.15\", \"325.29\", \"328.91\", \"328.85\", \"326.26\", \"320.67\", \"319.58\", \"318.11\", \"325.48\", \"329.82\", \"327.82\", \"331.22\", \"333.1\", \"332.62\", \"334.99\", \"334.33\", \"333.71\", \"337.27\", \"332.47\", \"330.23\", \"333.86\", \"326.5\", \"317.0\", \"318.74\", \"321.39\", \"315.85\", \"319.27\", \"324.25\", \"317.27\", \"308.78\", \"306.795\", \"308.12\", \"307.47\", \"316.16\", \"315.77\", \"313.86\", \"315.79\", \"321.09\", \"317.45\", \"316.87\", \"311.87\", \"315.21\", \"319.73\", \"318.63\", \"309.968\", \"311.11\", \"315.45\", \"313.89\", \"316.16\", \"323.07\", \"327.13\", \"330.73\", \"330.33\", \"334.56\", \"333.68\", \"336.04\", \"338.24\", \"340.85\", \"339.47\", \"342.15\", \"340.39\", \"338.2\", \"335.09\", \"338.89\", \"335.85\", \"339.67\", \"341.93\", \"339.81\", \"342.37\", \"337.7\", \"339.23\", \"333.56\", \"332.25\", \"328.76\", \"334.37\", \"332.78\", \"319.7\", \"320.23\", \"319.92\", \"322.6\", \"324.63\", \"325.39\", \"316.66\", \"324.12\", \"330.43\", \"329.37\", \"334.07\", \"333.66\", \"333.67\", \"334.12\", \"335.3\", \"333.25\", \"330.55\", \"331.85\", \"335.05\", \"338.395\", \"338.17\", \"337.19\", \"340.36\", \"341.68\", \"344.15\", \"342.74\", \"339.97\", \"343.63\", \"342.43\", \"344.15\", \"347.51\", \"349.73\", \"350.47\", \"350.78\", \"353.53\", \"354.83\", \"354.07\", \"356.52\", \"359.26\", \"362.45\", \"355.74\", \"358.17\", \"362.45\", \"362.03\", \"364.83\", \"362.98\", \"361.4\", \"354.05\", \"355.63\", \"358.35\", \"361.77\", \"365.31\", \"367.49\", \"368.22\", \"365.6\", \"365.25\", \"362.44\", \"366.28\", \"365.28\", \"366.77\", \"368.18\", \"368.37\", \"368.52\", \"369.26\", \"368.14\", \"365.69\", \"367.89\", \"367.67\", \"366.15\", \"365.18\", \"360.22\", \"365.06\", \"368.8\", \"373.84\", \"374.63\", \"373.92\", \"373.07\", \"376.85\", \"380.51\", \"381.04\", \"381.97\", \"379.22\", \"381.68\", \"381.93\", \"381.01\", \"381.23\", \"378.99\", \"377.86\", \"375.73\", \"376.68\", \"377.82\", \"367.46\", \"367.58\", \"367.09\", \"370.76\", \"370.65\", \"370.2\", \"365.67\", \"361.17\", \"360.97\", \"358.6\", \"358.52\", \"353.71\", \"354.08\", \"362.8\", \"364.08\", \"359.58\", \"359.88\", \"359.51\", \"363.69\", \"367.88\", \"367.61\", \"373.75\", \"375.94\", \"374.16\", \"375.98\", \"375.56\", \"380.23\", \"379.58\", \"381.95\", \"381.06\", \"386.56\", \"386.8\", \"389.55\", \"394.48\", \"400.04\", \"398.57\", \"399.16\", \"392.47\", \"392.57\", \"391.77\", \"395.91\", \"393.86\", \"397.75\", \"399.73\", \"403.43\", \"405.57\", \"398.11\", \"394.93\", \"396.11\", \"395.89\", \"398.78\", \"398.28\", \"385.8\", \"391.31\", \"383.63\", \"393.03\", \"398.17\"], \"type\": \"candlestick\", \"x\": [\"2020-07-28\", \"2020-07-29\", \"2020-07-30\", \"2020-07-31\", \"2020-08-03\", \"2020-08-04\", \"2020-08-05\", \"2020-08-06\", \"2020-08-07\", \"2020-08-10\", \"2020-08-11\", \"2020-08-12\", \"2020-08-13\", \"2020-08-14\", \"2020-08-17\", \"2020-08-18\", \"2020-08-19\", \"2020-08-20\", \"2020-08-21\", \"2020-08-24\", \"2020-08-25\", \"2020-08-26\", \"2020-08-27\", \"2020-08-28\", \"2020-08-31\", \"2020-09-01\", \"2020-09-02\", \"2020-09-03\", \"2020-09-04\", \"2020-09-08\", \"2020-09-09\", \"2020-09-10\", \"2020-09-11\", \"2020-09-14\", \"2020-09-15\", \"2020-09-16\", \"2020-09-17\", \"2020-09-18\", \"2020-09-21\", \"2020-09-22\", \"2020-09-23\", \"2020-09-24\", \"2020-09-25\", \"2020-09-28\", \"2020-09-29\", \"2020-09-30\", \"2020-10-01\", \"2020-10-02\", \"2020-10-05\", \"2020-10-06\", \"2020-10-07\", \"2020-10-08\", \"2020-10-09\", \"2020-10-12\", \"2020-10-13\", \"2020-10-14\", \"2020-10-15\", \"2020-10-16\", \"2020-10-19\", \"2020-10-20\", \"2020-10-21\", \"2020-10-22\", \"2020-10-23\", \"2020-10-26\", \"2020-10-27\", \"2020-10-28\", \"2020-10-29\", \"2020-10-30\", \"2020-11-02\", \"2020-11-03\", \"2020-11-04\", \"2020-11-05\", \"2020-11-06\", \"2020-11-09\", \"2020-11-10\", \"2020-11-11\", \"2020-11-12\", \"2020-11-13\", \"2020-11-16\", \"2020-11-17\", \"2020-11-18\", \"2020-11-19\", \"2020-11-20\", \"2020-11-23\", \"2020-11-24\", \"2020-11-25\", \"2020-11-27\", \"2020-11-30\", \"2020-12-01\", \"2020-12-02\", \"2020-12-03\", \"2020-12-04\", \"2020-12-07\", \"2020-12-08\", \"2020-12-09\", \"2020-12-10\", \"2020-12-11\", \"2020-12-14\", \"2020-12-15\", \"2020-12-16\", \"2020-12-17\", \"2020-12-18\", \"2020-12-21\", \"2020-12-22\", \"2020-12-23\", \"2020-12-24\", \"2020-12-28\", \"2020-12-29\", \"2020-12-30\", \"2020-12-31\", \"2021-01-04\", \"2021-01-05\", \"2021-01-06\", \"2021-01-07\", \"2021-01-08\", \"2021-01-11\", \"2021-01-12\", \"2021-01-13\", \"2021-01-14\", \"2021-01-15\", \"2021-01-19\", \"2021-01-20\", \"2021-01-21\", \"2021-01-22\", \"2021-01-25\", \"2021-01-26\", \"2021-01-27\", \"2021-01-28\", \"2021-01-29\", \"2021-02-01\", \"2021-02-02\", \"2021-02-03\", \"2021-02-04\", \"2021-02-05\", \"2021-02-08\", \"2021-02-09\", \"2021-02-10\", \"2021-02-11\", \"2021-02-12\", \"2021-02-16\", \"2021-02-17\", \"2021-02-18\", \"2021-02-19\", \"2021-02-22\", \"2021-02-23\", \"2021-02-24\", \"2021-02-25\", \"2021-02-26\", \"2021-03-01\", \"2021-03-02\", \"2021-03-03\", \"2021-03-04\", \"2021-03-05\", \"2021-03-08\", \"2021-03-09\", \"2021-03-10\", \"2021-03-11\", \"2021-03-12\", \"2021-03-15\", \"2021-03-16\", \"2021-03-17\", \"2021-03-18\", \"2021-03-19\", \"2021-03-22\", \"2021-03-23\", \"2021-03-24\", \"2021-03-25\", \"2021-03-26\", \"2021-03-29\", \"2021-03-30\", \"2021-03-31\", \"2021-04-01\", \"2021-04-05\", \"2021-04-06\", \"2021-04-07\", \"2021-04-08\", \"2021-04-09\", \"2021-04-12\", \"2021-04-13\", \"2021-04-14\", \"2021-04-15\", \"2021-04-16\", \"2021-04-19\", \"2021-04-20\", \"2021-04-21\", \"2021-04-22\", \"2021-04-23\", \"2021-04-26\", \"2021-04-27\", \"2021-04-28\", \"2021-04-29\", \"2021-04-30\", \"2021-05-03\", \"2021-05-04\", \"2021-05-05\", \"2021-05-06\", \"2021-05-07\", \"2021-05-10\", \"2021-05-11\", \"2021-05-12\", \"2021-05-13\", \"2021-05-14\", \"2021-05-17\", \"2021-05-18\", \"2021-05-19\", \"2021-05-20\", \"2021-05-21\", \"2021-05-24\", \"2021-05-25\", \"2021-05-26\", \"2021-05-27\", \"2021-05-28\", \"2021-06-01\", \"2021-06-02\", \"2021-06-03\", \"2021-06-04\", \"2021-06-07\", \"2021-06-08\", \"2021-06-09\", \"2021-06-10\", \"2021-06-11\", \"2021-06-14\", \"2021-06-15\", \"2021-06-16\", \"2021-06-17\", \"2021-06-18\", \"2021-06-21\", \"2021-06-22\", \"2021-06-23\", \"2021-06-24\", \"2021-06-25\", \"2021-06-28\", \"2021-06-29\", \"2021-06-30\", \"2021-07-01\", \"2021-07-02\", \"2021-07-06\", \"2021-07-07\", \"2021-07-08\", \"2021-07-09\", \"2021-07-12\", \"2021-07-13\", \"2021-07-14\", \"2021-07-15\", \"2021-07-16\", \"2021-07-19\", \"2021-07-20\", \"2021-07-21\", \"2021-07-22\", \"2021-07-23\", \"2021-07-26\", \"2021-07-27\", \"2021-07-28\", \"2021-07-29\", \"2021-07-30\", \"2021-08-02\", \"2021-08-03\", \"2021-08-04\", \"2021-08-05\", \"2021-08-06\", \"2021-08-09\", \"2021-08-10\", \"2021-08-11\", \"2021-08-12\", \"2021-08-13\", \"2021-08-16\", \"2021-08-17\", \"2021-08-18\", \"2021-08-19\", \"2021-08-20\", \"2021-08-23\", \"2021-08-24\", \"2021-08-25\", \"2021-08-26\", \"2021-08-27\", \"2021-08-30\", \"2021-08-31\", \"2021-09-01\", \"2021-09-02\", \"2021-09-03\", \"2021-09-07\", \"2021-09-08\", \"2021-09-09\", \"2021-09-10\", \"2021-09-13\", \"2021-09-14\", \"2021-09-15\", \"2021-09-16\", \"2021-09-17\", \"2021-09-20\", \"2021-09-21\", \"2021-09-22\", \"2021-09-23\", \"2021-09-24\", \"2021-09-27\", \"2021-09-28\", \"2021-09-29\", \"2021-09-30\", \"2021-10-01\", \"2021-10-04\", \"2021-10-05\", \"2021-10-06\", \"2021-10-07\", \"2021-10-08\", \"2021-10-11\", \"2021-10-12\", \"2021-10-13\", \"2021-10-14\", \"2021-10-15\", \"2021-10-18\", \"2021-10-19\", \"2021-10-20\", \"2021-10-21\", \"2021-10-22\", \"2021-10-25\", \"2021-10-26\", \"2021-10-27\", \"2021-10-28\", \"2021-10-29\", \"2021-11-01\", \"2021-11-02\", \"2021-11-03\", \"2021-11-04\", \"2021-11-05\", \"2021-11-08\", \"2021-11-09\", \"2021-11-10\", \"2021-11-11\", \"2021-11-12\", \"2021-11-15\", \"2021-11-16\", \"2021-11-17\", \"2021-11-18\", \"2021-11-19\", \"2021-11-22\", \"2021-11-23\", \"2021-11-24\", \"2021-11-26\", \"2021-11-29\", \"2021-11-30\", \"2021-12-01\", \"2021-12-02\", \"2021-12-03\", \"2021-12-06\", \"2021-12-07\", \"2021-12-08\"], \"xaxis\": \"x\", \"yaxis\": \"y\"}, {\"mode\": \"lines\", \"name\": \"50MA\", \"type\": \"scatter\", \"x\": [\"2020-07-28\", \"2020-07-29\", \"2020-07-30\", \"2020-07-31\", \"2020-08-03\", \"2020-08-04\", \"2020-08-05\", \"2020-08-06\", \"2020-08-07\", \"2020-08-10\", \"2020-08-11\", \"2020-08-12\", \"2020-08-13\", \"2020-08-14\", \"2020-08-17\", \"2020-08-18\", \"2020-08-19\", \"2020-08-20\", \"2020-08-21\", \"2020-08-24\", \"2020-08-25\", \"2020-08-26\", \"2020-08-27\", \"2020-08-28\", \"2020-08-31\", \"2020-09-01\", \"2020-09-02\", \"2020-09-03\", \"2020-09-04\", \"2020-09-08\", \"2020-09-09\", \"2020-09-10\", \"2020-09-11\", \"2020-09-14\", \"2020-09-15\", \"2020-09-16\", \"2020-09-17\", \"2020-09-18\", \"2020-09-21\", \"2020-09-22\", \"2020-09-23\", \"2020-09-24\", \"2020-09-25\", \"2020-09-28\", \"2020-09-29\", \"2020-09-30\", \"2020-10-01\", \"2020-10-02\", \"2020-10-05\", \"2020-10-06\", \"2020-10-07\", \"2020-10-08\", \"2020-10-09\", \"2020-10-12\", \"2020-10-13\", \"2020-10-14\", \"2020-10-15\", \"2020-10-16\", \"2020-10-19\", \"2020-10-20\", \"2020-10-21\", \"2020-10-22\", \"2020-10-23\", \"2020-10-26\", \"2020-10-27\", \"2020-10-28\", \"2020-10-29\", \"2020-10-30\", \"2020-11-02\", \"2020-11-03\", \"2020-11-04\", \"2020-11-05\", \"2020-11-06\", \"2020-11-09\", \"2020-11-10\", \"2020-11-11\", \"2020-11-12\", \"2020-11-13\", \"2020-11-16\", \"2020-11-17\", \"2020-11-18\", \"2020-11-19\", \"2020-11-20\", \"2020-11-23\", \"2020-11-24\", \"2020-11-25\", \"2020-11-27\", \"2020-11-30\", \"2020-12-01\", \"2020-12-02\", \"2020-12-03\", \"2020-12-04\", \"2020-12-07\", \"2020-12-08\", \"2020-12-09\", \"2020-12-10\", \"2020-12-11\", \"2020-12-14\", \"2020-12-15\", \"2020-12-16\", \"2020-12-17\", \"2020-12-18\", \"2020-12-21\", \"2020-12-22\", \"2020-12-23\", \"2020-12-24\", \"2020-12-28\", \"2020-12-29\", \"2020-12-30\", \"2020-12-31\", \"2021-01-04\", \"2021-01-05\", \"2021-01-06\", \"2021-01-07\", \"2021-01-08\", \"2021-01-11\", \"2021-01-12\", \"2021-01-13\", \"2021-01-14\", \"2021-01-15\", \"2021-01-19\", \"2021-01-20\", \"2021-01-21\", \"2021-01-22\", \"2021-01-25\", \"2021-01-26\", \"2021-01-27\", \"2021-01-28\", \"2021-01-29\", \"2021-02-01\", \"2021-02-02\", \"2021-02-03\", \"2021-02-04\", \"2021-02-05\", \"2021-02-08\", \"2021-02-09\", \"2021-02-10\", \"2021-02-11\", \"2021-02-12\", \"2021-02-16\", \"2021-02-17\", \"2021-02-18\", \"2021-02-19\", \"2021-02-22\", \"2021-02-23\", \"2021-02-24\", \"2021-02-25\", \"2021-02-26\", \"2021-03-01\", \"2021-03-02\", \"2021-03-03\", \"2021-03-04\", \"2021-03-05\", \"2021-03-08\", \"2021-03-09\", \"2021-03-10\", \"2021-03-11\", \"2021-03-12\", \"2021-03-15\", \"2021-03-16\", \"2021-03-17\", \"2021-03-18\", \"2021-03-19\", \"2021-03-22\", \"2021-03-23\", \"2021-03-24\", \"2021-03-25\", \"2021-03-26\", \"2021-03-29\", \"2021-03-30\", \"2021-03-31\", \"2021-04-01\", \"2021-04-05\", \"2021-04-06\", \"2021-04-07\", \"2021-04-08\", \"2021-04-09\", \"2021-04-12\", \"2021-04-13\", \"2021-04-14\", \"2021-04-15\", \"2021-04-16\", \"2021-04-19\", \"2021-04-20\", \"2021-04-21\", \"2021-04-22\", \"2021-04-23\", \"2021-04-26\", \"2021-04-27\", \"2021-04-28\", \"2021-04-29\", \"2021-04-30\", \"2021-05-03\", \"2021-05-04\", \"2021-05-05\", \"2021-05-06\", \"2021-05-07\", \"2021-05-10\", \"2021-05-11\", \"2021-05-12\", \"2021-05-13\", \"2021-05-14\", \"2021-05-17\", \"2021-05-18\", \"2021-05-19\", \"2021-05-20\", \"2021-05-21\", \"2021-05-24\", \"2021-05-25\", \"2021-05-26\", \"2021-05-27\", \"2021-05-28\", \"2021-06-01\", \"2021-06-02\", \"2021-06-03\", \"2021-06-04\", \"2021-06-07\", \"2021-06-08\", \"2021-06-09\", \"2021-06-10\", \"2021-06-11\", \"2021-06-14\", \"2021-06-15\", \"2021-06-16\", \"2021-06-17\", \"2021-06-18\", \"2021-06-21\", \"2021-06-22\", \"2021-06-23\", \"2021-06-24\", \"2021-06-25\", \"2021-06-28\", \"2021-06-29\", \"2021-06-30\", \"2021-07-01\", \"2021-07-02\", \"2021-07-06\", \"2021-07-07\", \"2021-07-08\", \"2021-07-09\", \"2021-07-12\", \"2021-07-13\", \"2021-07-14\", \"2021-07-15\", \"2021-07-16\", \"2021-07-19\", \"2021-07-20\", \"2021-07-21\", \"2021-07-22\", \"2021-07-23\", \"2021-07-26\", \"2021-07-27\", \"2021-07-28\", \"2021-07-29\", \"2021-07-30\", \"2021-08-02\", \"2021-08-03\", \"2021-08-04\", \"2021-08-05\", \"2021-08-06\", \"2021-08-09\", \"2021-08-10\", \"2021-08-11\", \"2021-08-12\", \"2021-08-13\", \"2021-08-16\", \"2021-08-17\", \"2021-08-18\", \"2021-08-19\", \"2021-08-20\", \"2021-08-23\", \"2021-08-24\", \"2021-08-25\", \"2021-08-26\", \"2021-08-27\", \"2021-08-30\", \"2021-08-31\", \"2021-09-01\", \"2021-09-02\", \"2021-09-03\", \"2021-09-07\", \"2021-09-08\", \"2021-09-09\", \"2021-09-10\", \"2021-09-13\", \"2021-09-14\", \"2021-09-15\", \"2021-09-16\", \"2021-09-17\", \"2021-09-20\", \"2021-09-21\", \"2021-09-22\", \"2021-09-23\", \"2021-09-24\", \"2021-09-27\", \"2021-09-28\", \"2021-09-29\", \"2021-09-30\", \"2021-10-01\", \"2021-10-04\", \"2021-10-05\", \"2021-10-06\", \"2021-10-07\", \"2021-10-08\", \"2021-10-11\", \"2021-10-12\", \"2021-10-13\", \"2021-10-14\", \"2021-10-15\", \"2021-10-18\", \"2021-10-19\", \"2021-10-20\", \"2021-10-21\", \"2021-10-22\", \"2021-10-25\", \"2021-10-26\", \"2021-10-27\", \"2021-10-28\", \"2021-10-29\", \"2021-11-01\", \"2021-11-02\", \"2021-11-03\", \"2021-11-04\", \"2021-11-05\", \"2021-11-08\", \"2021-11-09\", \"2021-11-10\", \"2021-11-11\", \"2021-11-12\", \"2021-11-15\", \"2021-11-16\", \"2021-11-17\", \"2021-11-18\", \"2021-11-19\", \"2021-11-22\", \"2021-11-23\", \"2021-11-24\", \"2021-11-26\", \"2021-11-29\", \"2021-11-30\", \"2021-12-01\", \"2021-12-02\", \"2021-12-03\", \"2021-12-06\", \"2021-12-07\", \"2021-12-08\"], \"xaxis\": \"x\", \"y\": [246.1411999999998, 246.7879999999998, 247.47339999999977, 248.16139999999982, 248.97159999999977, 249.78599999999977, 250.62619999999973, 251.5131999999997, 252.3427999999997, 253.08179999999967, 253.7043999999997, 254.42899999999972, 255.1447999999997, 255.8873999999997, 256.5999999999997, 257.32839999999965, 257.9843999999997, 258.6585999999997, 259.61559999999974, 260.57059999999973, 261.51279999999974, 262.4949999999997, 263.44359999999966, 264.4085999999997, 265.42139999999966, 266.4849999999997, 267.56339999999966, 268.4373999999997, 269.18839999999966, 269.7829999999997, 270.4837999999997, 270.9785999999997, 271.3777999999997, 271.8371999999997, 272.2505999999997, 272.6105999999997, 272.8171999999997, 272.9109999999997, 272.98179999999974, 273.26059999999967, 273.3363999999997, 273.42619999999965, 273.6749999999996, 274.03059999999965, 274.21399999999966, 274.49079999999964, 274.83719999999965, 275.1631999999996, 275.65519999999964, 275.9559999999996, 276.4181999999996, 276.8509999999996, 277.3425999999996, 277.9173999999996, 278.4201999999996, 278.85379999999964, 279.23479999999967, 279.51219999999967, 279.75879999999967, 280.0407999999997, 280.4207999999997, 280.6671999999997, 280.9123999999997, 281.07859999999965, 281.2253999999997, 281.0987999999997, 281.10459999999966, 280.89359999999965, 280.6557999999996, 280.4761999999996, 280.4971999999996, 280.54579999999964, 280.6169999999996, 280.5381999999996, 280.3089999999996, 280.10579999999965, 279.81859999999966, 279.88899999999967, 280.0813999999997, 280.5277999999997, 280.77239999999966, 281.17319999999967, 281.57179999999966, 281.87639999999965, 282.18459999999965, 282.61799999999965, 283.19179999999966, 283.84679999999963, 284.5657999999996, 285.19319999999965, 285.9955999999996, 286.79819999999967, 287.51199999999966, 288.13379999999967, 288.6409999999997, 289.13459999999964, 289.5265999999997, 290.1211999999997, 290.6637999999997, 291.3401999999997, 291.9617999999997, 292.5347999999997, 292.99899999999974, 293.30359999999973, 293.5771999999997, 293.92719999999974, 294.3787999999997, 294.8677999999997, 295.4511999999997, 296.0377999999997, 296.5401999999997, 297.0937999999997, 297.5497999999997, 298.2399999999997, 298.9673999999997, 299.82299999999975, 300.5735999999998, 301.50679999999977, 302.3941999999998, 303.1383999999998, 303.7283999999998, 304.31599999999986, 304.95099999999985, 305.68759999999986, 306.58139999999986, 307.35799999999983, 307.97859999999986, 308.58639999999986, 309.0135999999998, 309.61659999999983, 310.3679999999998, 311.04799999999983, 311.8451999999998, 312.66459999999984, 313.4467999999999, 314.1913999999999, 314.8661999999998, 315.56539999999984, 316.22519999999986, 316.85899999999987, 317.4519999999999, 317.9909999999998, 318.46639999999985, 318.74939999999987, 319.15279999999984, 319.5849999999998, 319.8045999999998, 320.00659999999976, 320.3325999999998, 320.5209999999998, 320.48419999999976, 320.3649999999998, 320.3601999999998, 320.1637999999998, 320.2351999999998, 320.26159999999976, 320.3687999999998, 320.4187999999998, 320.53599999999983, 320.6727999999998, 320.9245999999998, 320.92819999999983, 321.0401999999998, 321.1127999999998, 321.07659999999976, 321.02559999999977, 320.9737999999998, 320.9729999999998, 321.00419999999974, 321.0533999999997, 321.1077999999997, 321.12379999999973, 321.2175999999997, 321.3255999999997, 321.3957999999997, 321.52559999999977, 321.87919999999974, 322.18619999999976, 322.7069999999997, 322.98879999999974, 323.26739999999967, 323.5799999999997, 323.75279999999964, 323.8537999999997, 323.9679999999997, 324.00179999999966, 324.13519999999966, 324.2761999999997, 324.3501999999997, 324.41939999999965, 324.5451999999997, 324.6555999999997, 324.75899999999973, 324.9129999999997, 325.06399999999974, 325.2115999999997, 325.63899999999967, 325.8713999999997, 325.9057999999997, 325.87559999999974, 326.0791999999997, 326.5249999999997, 326.8395999999997, 327.2851999999997, 327.50159999999966, 327.8605999999997, 328.0399999999996, 328.38099999999963, 328.6637999999996, 328.9347999999996, 329.1543999999996, 329.5921999999996, 329.9857999999996, 330.2829999999996, 330.5385999999996, 331.0131999999996, 331.5185999999995, 331.93379999999945, 332.3523999999995, 332.8729999999994, 333.31519999999944, 333.71399999999943, 333.9381999999994, 334.14199999999937, 334.4163999999994, 334.5673999999994, 334.7123999999994, 334.93039999999945, 335.0731999999995, 335.3407999999995, 335.4977999999995, 335.7317999999995, 336.0539999999995, 336.4143999999995, 336.7199999999995, 337.18879999999945, 337.6041999999995, 337.99059999999946, 338.36299999999943, 338.80319999999944, 339.24719999999934, 339.7357999999993, 340.2733999999993, 340.88099999999935, 341.45239999999933, 341.9155999999993, 342.4073999999993, 343.1233999999994, 343.8961999999994, 344.9223999999994, 345.9053999999994, 346.66619999999944, 347.4945999999995, 348.3797999999995, 349.21939999999944, 349.93479999999937, 350.7307999999994, 351.42739999999947, 352.1613999999994, 352.8397999999994, 353.5567999999993, 354.21499999999935, 354.88279999999935, 355.5639999999993, 356.3403999999993, 357.0079999999993, 357.5905999999993, 358.0995999999993, 358.6419999999993, 359.18959999999936, 359.8293999999993, 360.4265999999993, 361.07739999999933, 361.7055999999993, 362.31959999999935, 363.07219999999927, 363.7839999999993, 364.44419999999934, 365.0973999999993, 365.7309999999993, 366.38399999999933, 366.92539999999934, 367.41499999999934, 367.85819999999933, 368.2933999999994, 368.62579999999934, 368.9829999999994, 369.33019999999937, 369.6313999999994, 369.72519999999946, 369.79979999999955, 369.9427999999996, 370.14099999999956, 370.3971999999996, 370.6521999999996, 370.7561999999996, 370.76599999999956, 370.6939999999995, 370.6185999999995, 370.30699999999945, 370.08479999999946, 369.9895999999994, 369.9323999999994, 369.8259999999994, 369.7023999999994, 369.55319999999944, 369.4169999999994, 369.4027999999994, 369.3881999999994, 369.48019999999946, 369.6149999999995, 369.7777999999995, 369.9989999999995, 370.1303999999995, 370.3125999999995, 370.5153999999995, 370.8007999999995, 371.24099999999953, 371.68399999999957, 372.0779999999996, 372.39439999999956, 372.7705999999996, 373.23899999999963, 373.7625999999997, 374.2029999999997, 374.5041999999997, 374.69539999999967, 374.8955999999996, 375.1815999999996, 375.4423999999996, 375.74859999999956, 376.0855999999996, 376.5311999999996, 377.0791999999996, 377.5385999999996, 377.9829999999996, 378.3971999999996, 378.6549999999996, 379.1721999999995, 379.7345999999995, 380.1539999999994, 380.56079999999946, 380.7637999999995, 381.02119999999945, 381.5707999999995, 382.3655999999995], \"yaxis\": \"y\"}, {\"mode\": \"lines\", \"name\": \"100MA\", \"type\": \"scatter\", \"x\": [\"2020-07-28\", \"2020-07-29\", \"2020-07-30\", \"2020-07-31\", \"2020-08-03\", \"2020-08-04\", \"2020-08-05\", \"2020-08-06\", \"2020-08-07\", \"2020-08-10\", \"2020-08-11\", \"2020-08-12\", \"2020-08-13\", \"2020-08-14\", \"2020-08-17\", \"2020-08-18\", \"2020-08-19\", \"2020-08-20\", \"2020-08-21\", \"2020-08-24\", \"2020-08-25\", \"2020-08-26\", \"2020-08-27\", \"2020-08-28\", \"2020-08-31\", \"2020-09-01\", \"2020-09-02\", \"2020-09-03\", \"2020-09-04\", \"2020-09-08\", \"2020-09-09\", \"2020-09-10\", \"2020-09-11\", \"2020-09-14\", \"2020-09-15\", \"2020-09-16\", \"2020-09-17\", \"2020-09-18\", \"2020-09-21\", \"2020-09-22\", \"2020-09-23\", \"2020-09-24\", \"2020-09-25\", \"2020-09-28\", \"2020-09-29\", \"2020-09-30\", \"2020-10-01\", \"2020-10-02\", \"2020-10-05\", \"2020-10-06\", \"2020-10-07\", \"2020-10-08\", \"2020-10-09\", \"2020-10-12\", \"2020-10-13\", \"2020-10-14\", \"2020-10-15\", \"2020-10-16\", \"2020-10-19\", \"2020-10-20\", \"2020-10-21\", \"2020-10-22\", \"2020-10-23\", \"2020-10-26\", \"2020-10-27\", \"2020-10-28\", \"2020-10-29\", \"2020-10-30\", \"2020-11-02\", \"2020-11-03\", \"2020-11-04\", \"2020-11-05\", \"2020-11-06\", \"2020-11-09\", \"2020-11-10\", \"2020-11-11\", \"2020-11-12\", \"2020-11-13\", \"2020-11-16\", \"2020-11-17\", \"2020-11-18\", \"2020-11-19\", \"2020-11-20\", \"2020-11-23\", \"2020-11-24\", \"2020-11-25\", \"2020-11-27\", \"2020-11-30\", \"2020-12-01\", \"2020-12-02\", \"2020-12-03\", \"2020-12-04\", \"2020-12-07\", \"2020-12-08\", \"2020-12-09\", \"2020-12-10\", \"2020-12-11\", \"2020-12-14\", \"2020-12-15\", \"2020-12-16\", \"2020-12-17\", \"2020-12-18\", \"2020-12-21\", \"2020-12-22\", \"2020-12-23\", \"2020-12-24\", \"2020-12-28\", \"2020-12-29\", \"2020-12-30\", \"2020-12-31\", \"2021-01-04\", \"2021-01-05\", \"2021-01-06\", \"2021-01-07\", \"2021-01-08\", \"2021-01-11\", \"2021-01-12\", \"2021-01-13\", \"2021-01-14\", \"2021-01-15\", \"2021-01-19\", \"2021-01-20\", \"2021-01-21\", \"2021-01-22\", \"2021-01-25\", \"2021-01-26\", \"2021-01-27\", \"2021-01-28\", \"2021-01-29\", \"2021-02-01\", \"2021-02-02\", \"2021-02-03\", \"2021-02-04\", \"2021-02-05\", \"2021-02-08\", \"2021-02-09\", \"2021-02-10\", \"2021-02-11\", \"2021-02-12\", \"2021-02-16\", \"2021-02-17\", \"2021-02-18\", \"2021-02-19\", \"2021-02-22\", \"2021-02-23\", \"2021-02-24\", \"2021-02-25\", \"2021-02-26\", \"2021-03-01\", \"2021-03-02\", \"2021-03-03\", \"2021-03-04\", \"2021-03-05\", \"2021-03-08\", \"2021-03-09\", \"2021-03-10\", \"2021-03-11\", \"2021-03-12\", \"2021-03-15\", \"2021-03-16\", \"2021-03-17\", \"2021-03-18\", \"2021-03-19\", \"2021-03-22\", \"2021-03-23\", \"2021-03-24\", \"2021-03-25\", \"2021-03-26\", \"2021-03-29\", \"2021-03-30\", \"2021-03-31\", \"2021-04-01\", \"2021-04-05\", \"2021-04-06\", \"2021-04-07\", \"2021-04-08\", \"2021-04-09\", \"2021-04-12\", \"2021-04-13\", \"2021-04-14\", \"2021-04-15\", \"2021-04-16\", \"2021-04-19\", \"2021-04-20\", \"2021-04-21\", \"2021-04-22\", \"2021-04-23\", \"2021-04-26\", \"2021-04-27\", \"2021-04-28\", \"2021-04-29\", \"2021-04-30\", \"2021-05-03\", \"2021-05-04\", \"2021-05-05\", \"2021-05-06\", \"2021-05-07\", \"2021-05-10\", \"2021-05-11\", \"2021-05-12\", \"2021-05-13\", \"2021-05-14\", \"2021-05-17\", \"2021-05-18\", \"2021-05-19\", \"2021-05-20\", \"2021-05-21\", \"2021-05-24\", \"2021-05-25\", \"2021-05-26\", \"2021-05-27\", \"2021-05-28\", \"2021-06-01\", \"2021-06-02\", \"2021-06-03\", \"2021-06-04\", \"2021-06-07\", \"2021-06-08\", \"2021-06-09\", \"2021-06-10\", \"2021-06-11\", \"2021-06-14\", \"2021-06-15\", \"2021-06-16\", \"2021-06-17\", \"2021-06-18\", \"2021-06-21\", \"2021-06-22\", \"2021-06-23\", \"2021-06-24\", \"2021-06-25\", \"2021-06-28\", \"2021-06-29\", \"2021-06-30\", \"2021-07-01\", \"2021-07-02\", \"2021-07-06\", \"2021-07-07\", \"2021-07-08\", \"2021-07-09\", \"2021-07-12\", \"2021-07-13\", \"2021-07-14\", \"2021-07-15\", \"2021-07-16\", \"2021-07-19\", \"2021-07-20\", \"2021-07-21\", \"2021-07-22\", \"2021-07-23\", \"2021-07-26\", \"2021-07-27\", \"2021-07-28\", \"2021-07-29\", \"2021-07-30\", \"2021-08-02\", \"2021-08-03\", \"2021-08-04\", \"2021-08-05\", \"2021-08-06\", \"2021-08-09\", \"2021-08-10\", \"2021-08-11\", \"2021-08-12\", \"2021-08-13\", \"2021-08-16\", \"2021-08-17\", \"2021-08-18\", \"2021-08-19\", \"2021-08-20\", \"2021-08-23\", \"2021-08-24\", \"2021-08-25\", \"2021-08-26\", \"2021-08-27\", \"2021-08-30\", \"2021-08-31\", \"2021-09-01\", \"2021-09-02\", \"2021-09-03\", \"2021-09-07\", \"2021-09-08\", \"2021-09-09\", \"2021-09-10\", \"2021-09-13\", \"2021-09-14\", \"2021-09-15\", \"2021-09-16\", \"2021-09-17\", \"2021-09-20\", \"2021-09-21\", \"2021-09-22\", \"2021-09-23\", \"2021-09-24\", \"2021-09-27\", \"2021-09-28\", \"2021-09-29\", \"2021-09-30\", \"2021-10-01\", \"2021-10-04\", \"2021-10-05\", \"2021-10-06\", \"2021-10-07\", \"2021-10-08\", \"2021-10-11\", \"2021-10-12\", \"2021-10-13\", \"2021-10-14\", \"2021-10-15\", \"2021-10-18\", \"2021-10-19\", \"2021-10-20\", \"2021-10-21\", \"2021-10-22\", \"2021-10-25\", \"2021-10-26\", \"2021-10-27\", \"2021-10-28\", \"2021-10-29\", \"2021-11-01\", \"2021-11-02\", \"2021-11-03\", \"2021-11-04\", \"2021-11-05\", \"2021-11-08\", \"2021-11-09\", \"2021-11-10\", \"2021-11-11\", \"2021-11-12\", \"2021-11-15\", \"2021-11-16\", \"2021-11-17\", \"2021-11-18\", \"2021-11-19\", \"2021-11-22\", \"2021-11-23\", \"2021-11-24\", \"2021-11-26\", \"2021-11-29\", \"2021-11-30\", \"2021-12-01\", \"2021-12-02\", \"2021-12-03\", \"2021-12-06\", \"2021-12-07\", \"2021-12-08\"], \"xaxis\": \"x\", \"y\": [223.9162000000004, 224.43370000000039, 225.10930000000042, 225.7261000000004, 226.4677000000004, 227.3983000000004, 228.1854000000004, 229.23880000000042, 230.13210000000043, 231.06920000000045, 231.94450000000043, 232.95610000000045, 233.97630000000044, 234.86130000000045, 235.79150000000044, 236.65220000000045, 237.56020000000044, 238.43910000000042, 239.3538000000004, 240.36700000000042, 241.36550000000042, 242.45140000000043, 243.39710000000042, 244.35840000000042, 245.3015000000004, 246.2921000000004, 247.2894000000004, 248.04490000000038, 248.78640000000038, 249.3534000000004, 249.9793000000004, 250.5753000000004, 251.2309000000004, 251.87280000000038, 252.5582000000004, 253.1659000000004, 253.71350000000038, 254.26720000000037, 254.75230000000036, 255.28800000000035, 255.80220000000034, 256.30390000000034, 256.8429000000003, 257.4249000000003, 257.96620000000036, 258.4960000000003, 259.04980000000035, 259.57170000000036, 260.1799000000004, 260.71320000000037, 261.27970000000033, 261.81950000000035, 262.4080000000003, 263.03940000000034, 263.69590000000034, 264.31990000000036, 264.93050000000034, 265.5127000000003, 266.05080000000027, 266.56130000000024, 267.06260000000026, 267.5481000000002, 268.02860000000027, 268.4830000000003, 268.9127000000003, 269.21360000000027, 269.5445000000003, 269.77610000000027, 270.13570000000027, 270.52340000000027, 271.0050000000003, 271.5204000000003, 272.0303000000003, 272.4734000000003, 272.8652000000003, 273.29540000000026, 273.69100000000026, 274.1632000000003, 274.6349000000003, 275.1554000000003, 275.6281000000003, 276.07590000000033, 276.4748000000003, 276.8568000000003, 277.21760000000035, 277.61430000000036, 278.0045000000003, 278.37890000000027, 278.7738000000003, 279.2269000000002, 279.6660000000002, 280.11220000000026, 280.59350000000023, 281.0822000000003, 281.4275000000003, 281.8127000000003, 282.18190000000027, 282.6422000000003, 283.1595000000003, 283.6481000000003, 284.1900000000003, 284.6929000000003, 285.17080000000027, 285.61050000000023, 285.99870000000027, 286.39050000000026, 286.80680000000024, 287.1900000000003, 287.60500000000025, 288.03930000000025, 288.4805000000003, 288.88050000000027, 289.2311000000003, 289.6593000000003, 290.0964000000003, 290.46090000000027, 290.83910000000026, 291.2002000000003, 291.52500000000026, 291.8073000000002, 292.1128000000002, 292.43090000000024, 292.7840000000003, 293.11290000000025, 293.4452000000003, 293.7319000000003, 293.8986000000003, 294.2377000000003, 294.5475000000003, 295.0722000000003, 295.5702000000003, 296.11060000000026, 296.7085000000003, 297.2705000000003, 297.8157000000003, 298.4047000000003, 299.0290000000003, 299.7061000000003, 300.3955000000003, 301.0261000000003, 301.7238000000003, 302.39460000000037, 302.9892000000003, 303.44160000000034, 303.8969000000003, 304.35980000000035, 304.6656000000003, 305.06390000000033, 305.49820000000034, 305.93060000000037, 306.22300000000035, 306.44990000000035, 306.67960000000033, 306.73370000000034, 306.90620000000035, 307.09440000000035, 307.37380000000036, 307.6433000000004, 307.9936000000004, 308.3553000000004, 308.73240000000044, 309.0110000000005, 309.2950000000004, 309.67640000000046, 310.02200000000045, 310.4243000000004, 310.7737000000005, 311.23990000000043, 311.6992000000005, 312.0959000000004, 312.41810000000044, 312.71990000000045, 313.08430000000044, 313.50660000000045, 313.9886000000004, 314.44180000000046, 314.92890000000045, 315.38630000000046, 315.86030000000045, 316.3027000000004, 316.8177000000004, 317.31400000000036, 317.7990000000004, 318.25920000000036, 318.7074000000004, 319.0966000000004, 319.5007000000004, 319.92080000000044, 320.2877000000004, 320.63920000000047, 320.99860000000047, 321.3233000000005, 321.6127000000005, 321.8312000000005, 322.1084000000004, 322.3983000000004, 322.7218000000004, 322.9390000000004, 323.11920000000043, 323.1983000000004, 323.2817000000004, 323.4450000000004, 323.5999000000004, 323.72450000000043, 323.86840000000046, 324.06110000000047, 324.2044000000004, 324.3999000000004, 324.5999000000004, 324.80380000000036, 325.0395000000004, 325.26020000000034, 325.5130000000003, 325.69790000000035, 325.8076000000004, 326.01940000000036, 326.2462000000004, 326.4534000000004, 326.6783000000004, 326.96320000000037, 327.21150000000034, 327.41890000000035, 327.5779000000003, 327.7338000000003, 327.9061000000003, 328.0465000000003, 328.2958000000003, 328.5583000000003, 328.8901000000003, 329.1648000000003, 329.3826000000003, 329.6559000000003, 329.9034000000003, 330.13410000000033, 330.3440000000003, 330.5953000000003, 330.8697000000003, 331.1334000000003, 331.35660000000024, 331.61130000000026, 331.89620000000025, 332.1957000000002, 332.51620000000025, 332.89700000000016, 333.25820000000016, 333.5636000000002, 334.02320000000014, 334.49740000000014, 334.9010000000001, 335.3990000000001, 335.99230000000006, 336.59560000000005, 337.16710000000006, 337.8325000000001, 338.3605000000001, 338.8977000000001, 339.38540000000006, 339.90420000000006, 340.4126, 340.88730000000004, 341.35560000000004, 341.9036, 342.4343, 342.9235, 343.43949999999995, 344.01059999999995, 344.5546, 345.01669999999996, 345.49719999999996, 346.0313, 346.57230000000004, 347.0703000000001, 347.5078000000001, 347.9238, 348.36800000000005, 348.81980000000004, 349.2482, 349.68730000000005, 350.0853000000001, 350.5359, 350.94090000000006, 351.3286, 351.7345, 352.13629999999995, 352.50669999999997, 352.9073, 353.2936000000001, 353.6604000000001, 353.9972000000001, 354.2642000000001, 354.52350000000007, 354.8393000000001, 355.20720000000006, 355.6391000000001, 356.0523000000001, 356.3359000000001, 356.5867000000001, 356.9087000000001, 357.25740000000013, 357.61470000000014, 357.99510000000015, 358.32790000000017, 358.7135000000001, 359.10290000000015, 359.4609000000002, 359.74400000000014, 360.07390000000015, 360.4151000000001, 360.7748000000001, 361.16000000000014, 361.5859000000002, 361.9964000000002, 362.44090000000017, 362.84720000000016, 363.3265000000002, 363.7617000000002, 364.1957000000002, 364.6703000000002, 365.16300000000024, 365.6338000000003, 366.11190000000033, 366.5986000000003, 367.1582000000003, 367.73410000000024, 368.2613000000003, 368.7882000000003, 369.2397000000003, 369.66990000000027, 370.1395000000003, 370.5867000000003, 371.06630000000024, 371.50550000000027, 371.9731000000003, 372.46870000000024, 372.9160000000003, 373.3044000000003, 373.6901000000003, 373.9926000000003, 374.4018000000004, 374.7299000000003, 374.9769000000004, 375.25180000000046, 375.4524000000004, 375.7092000000004, 376.11150000000043, 376.56090000000046], \"yaxis\": \"y\"}, {\"mode\": \"lines\", \"name\": \"200MA\", \"type\": \"scatter\", \"x\": [\"2020-07-28\", \"2020-07-29\", \"2020-07-30\", \"2020-07-31\", \"2020-08-03\", \"2020-08-04\", \"2020-08-05\", \"2020-08-06\", \"2020-08-07\", \"2020-08-10\", \"2020-08-11\", \"2020-08-12\", \"2020-08-13\", \"2020-08-14\", \"2020-08-17\", \"2020-08-18\", \"2020-08-19\", \"2020-08-20\", \"2020-08-21\", \"2020-08-24\", \"2020-08-25\", \"2020-08-26\", \"2020-08-27\", \"2020-08-28\", \"2020-08-31\", \"2020-09-01\", \"2020-09-02\", \"2020-09-03\", \"2020-09-04\", \"2020-09-08\", \"2020-09-09\", \"2020-09-10\", \"2020-09-11\", \"2020-09-14\", \"2020-09-15\", \"2020-09-16\", \"2020-09-17\", \"2020-09-18\", \"2020-09-21\", \"2020-09-22\", \"2020-09-23\", \"2020-09-24\", \"2020-09-25\", \"2020-09-28\", \"2020-09-29\", \"2020-09-30\", \"2020-10-01\", \"2020-10-02\", \"2020-10-05\", \"2020-10-06\", \"2020-10-07\", \"2020-10-08\", \"2020-10-09\", \"2020-10-12\", \"2020-10-13\", \"2020-10-14\", \"2020-10-15\", \"2020-10-16\", \"2020-10-19\", \"2020-10-20\", \"2020-10-21\", \"2020-10-22\", \"2020-10-23\", \"2020-10-26\", \"2020-10-27\", \"2020-10-28\", \"2020-10-29\", \"2020-10-30\", \"2020-11-02\", \"2020-11-03\", \"2020-11-04\", \"2020-11-05\", \"2020-11-06\", \"2020-11-09\", \"2020-11-10\", \"2020-11-11\", \"2020-11-12\", \"2020-11-13\", \"2020-11-16\", \"2020-11-17\", \"2020-11-18\", \"2020-11-19\", \"2020-11-20\", \"2020-11-23\", \"2020-11-24\", \"2020-11-25\", \"2020-11-27\", \"2020-11-30\", \"2020-12-01\", \"2020-12-02\", \"2020-12-03\", \"2020-12-04\", \"2020-12-07\", \"2020-12-08\", \"2020-12-09\", \"2020-12-10\", \"2020-12-11\", \"2020-12-14\", \"2020-12-15\", \"2020-12-16\", \"2020-12-17\", \"2020-12-18\", \"2020-12-21\", \"2020-12-22\", \"2020-12-23\", \"2020-12-24\", \"2020-12-28\", \"2020-12-29\", \"2020-12-30\", \"2020-12-31\", \"2021-01-04\", \"2021-01-05\", \"2021-01-06\", \"2021-01-07\", \"2021-01-08\", \"2021-01-11\", \"2021-01-12\", \"2021-01-13\", \"2021-01-14\", \"2021-01-15\", \"2021-01-19\", \"2021-01-20\", \"2021-01-21\", \"2021-01-22\", \"2021-01-25\", \"2021-01-26\", \"2021-01-27\", \"2021-01-28\", \"2021-01-29\", \"2021-02-01\", \"2021-02-02\", \"2021-02-03\", \"2021-02-04\", \"2021-02-05\", \"2021-02-08\", \"2021-02-09\", \"2021-02-10\", \"2021-02-11\", \"2021-02-12\", \"2021-02-16\", \"2021-02-17\", \"2021-02-18\", \"2021-02-19\", \"2021-02-22\", \"2021-02-23\", \"2021-02-24\", \"2021-02-25\", \"2021-02-26\", \"2021-03-01\", \"2021-03-02\", \"2021-03-03\", \"2021-03-04\", \"2021-03-05\", \"2021-03-08\", \"2021-03-09\", \"2021-03-10\", \"2021-03-11\", \"2021-03-12\", \"2021-03-15\", \"2021-03-16\", \"2021-03-17\", \"2021-03-18\", \"2021-03-19\", \"2021-03-22\", \"2021-03-23\", \"2021-03-24\", \"2021-03-25\", \"2021-03-26\", \"2021-03-29\", \"2021-03-30\", \"2021-03-31\", \"2021-04-01\", \"2021-04-05\", \"2021-04-06\", \"2021-04-07\", \"2021-04-08\", \"2021-04-09\", \"2021-04-12\", \"2021-04-13\", \"2021-04-14\", \"2021-04-15\", \"2021-04-16\", \"2021-04-19\", \"2021-04-20\", \"2021-04-21\", \"2021-04-22\", \"2021-04-23\", \"2021-04-26\", \"2021-04-27\", \"2021-04-28\", \"2021-04-29\", \"2021-04-30\", \"2021-05-03\", \"2021-05-04\", \"2021-05-05\", \"2021-05-06\", \"2021-05-07\", \"2021-05-10\", \"2021-05-11\", \"2021-05-12\", \"2021-05-13\", \"2021-05-14\", \"2021-05-17\", \"2021-05-18\", \"2021-05-19\", \"2021-05-20\", \"2021-05-21\", \"2021-05-24\", \"2021-05-25\", \"2021-05-26\", \"2021-05-27\", \"2021-05-28\", \"2021-06-01\", \"2021-06-02\", \"2021-06-03\", \"2021-06-04\", \"2021-06-07\", \"2021-06-08\", \"2021-06-09\", \"2021-06-10\", \"2021-06-11\", \"2021-06-14\", \"2021-06-15\", \"2021-06-16\", \"2021-06-17\", \"2021-06-18\", \"2021-06-21\", \"2021-06-22\", \"2021-06-23\", \"2021-06-24\", \"2021-06-25\", \"2021-06-28\", \"2021-06-29\", \"2021-06-30\", \"2021-07-01\", \"2021-07-02\", \"2021-07-06\", \"2021-07-07\", \"2021-07-08\", \"2021-07-09\", \"2021-07-12\", \"2021-07-13\", \"2021-07-14\", \"2021-07-15\", \"2021-07-16\", \"2021-07-19\", \"2021-07-20\", \"2021-07-21\", \"2021-07-22\", \"2021-07-23\", \"2021-07-26\", \"2021-07-27\", \"2021-07-28\", \"2021-07-29\", \"2021-07-30\", \"2021-08-02\", \"2021-08-03\", \"2021-08-04\", \"2021-08-05\", \"2021-08-06\", \"2021-08-09\", \"2021-08-10\", \"2021-08-11\", \"2021-08-12\", \"2021-08-13\", \"2021-08-16\", \"2021-08-17\", \"2021-08-18\", \"2021-08-19\", \"2021-08-20\", \"2021-08-23\", \"2021-08-24\", \"2021-08-25\", \"2021-08-26\", \"2021-08-27\", \"2021-08-30\", \"2021-08-31\", \"2021-09-01\", \"2021-09-02\", \"2021-09-03\", \"2021-09-07\", \"2021-09-08\", \"2021-09-09\", \"2021-09-10\", \"2021-09-13\", \"2021-09-14\", \"2021-09-15\", \"2021-09-16\", \"2021-09-17\", \"2021-09-20\", \"2021-09-21\", \"2021-09-22\", \"2021-09-23\", \"2021-09-24\", \"2021-09-27\", \"2021-09-28\", \"2021-09-29\", \"2021-09-30\", \"2021-10-01\", \"2021-10-04\", \"2021-10-05\", \"2021-10-06\", \"2021-10-07\", \"2021-10-08\", \"2021-10-11\", \"2021-10-12\", \"2021-10-13\", \"2021-10-14\", \"2021-10-15\", \"2021-10-18\", \"2021-10-19\", \"2021-10-20\", \"2021-10-21\", \"2021-10-22\", \"2021-10-25\", \"2021-10-26\", \"2021-10-27\", \"2021-10-28\", \"2021-10-29\", \"2021-11-01\", \"2021-11-02\", \"2021-11-03\", \"2021-11-04\", \"2021-11-05\", \"2021-11-08\", \"2021-11-09\", \"2021-11-10\", \"2021-11-11\", \"2021-11-12\", \"2021-11-15\", \"2021-11-16\", \"2021-11-17\", \"2021-11-18\", \"2021-11-19\", \"2021-11-22\", \"2021-11-23\", \"2021-11-24\", \"2021-11-26\", \"2021-11-29\", \"2021-11-30\", \"2021-12-01\", \"2021-12-02\", \"2021-12-03\", \"2021-12-06\", \"2021-12-07\", \"2021-12-08\"], \"xaxis\": \"x\", \"y\": [217.45730000000006, 217.80060000000006, 218.15080000000006, 218.51215000000008, 218.89385000000004, 219.27800000000002, 219.67480000000003, 220.08105000000003, 220.47915000000003, 220.86960000000002, 221.22510000000005, 221.60620000000006, 221.98075000000009, 222.3613500000001, 222.7530000000001, 223.1574500000001, 223.54360000000008, 223.94275000000007, 224.3510500000001, 224.77040000000008, 225.1975500000001, 225.65120000000007, 226.1016500000001, 226.55660000000006, 227.02305000000007, 227.51550000000006, 228.01475000000005, 228.43645000000006, 228.83750000000006, 229.17650000000006, 229.55740000000006, 229.90995000000004, 230.24110000000002, 230.59385000000003, 230.95895000000002, 231.30650000000003, 231.6431, 231.9704, 232.2958, 232.64405000000002, 232.93985000000004, 233.24645000000004, 233.58475, 233.94584999999998, 234.29304999999997, 234.64629999999994, 235.01119999999995, 235.33579999999995, 235.68884999999995, 236.01034999999996, 236.35139999999996, 236.6994, 237.06834999999998, 237.47204999999997, 237.87659999999997, 238.27584999999996, 238.66329999999994, 239.02504999999994, 239.37314999999995, 239.71739999999997, 240.0607, 240.39585, 240.72459999999998, 241.0348, 241.34335000000002, 241.60115000000002, 241.88225000000003, 242.11775, 242.35075000000003, 242.60760000000005, 242.92280000000005, 243.27180000000007, 243.63135000000008, 243.9838000000001, 244.2936500000001, 244.6334000000001, 244.96240000000012, 245.32170000000013, 245.67580000000012, 245.9998000000001, 246.3092500000001, 246.62020000000007, 246.92610000000008, 247.21820000000008, 247.53050000000007, 247.84055000000006, 248.1657500000001, 248.4906500000001, 248.83430000000007, 249.16865000000004, 249.51615000000004, 249.89240000000007, 250.32170000000005, 250.78630000000004, 251.21045, 251.69485, 252.1751, 252.6132, 253.10225, 253.55605, 254.0531, 254.56330000000003, 255.14005, 255.66830000000002, 256.2332, 256.89439999999996, 257.4961, 258.2144, 258.86854999999997, 259.55424999999997, 260.2125, 260.9183, 261.6037, 262.2603, 262.94395, 263.55654999999996, 264.1996499999999, 264.8196499999999, 265.4393999999999, 266.08714999999995, 266.73914999999994, 267.4411499999999, 268.0905499999999, 268.73564999999985, 269.3733499999999, 270.0119999999999, 270.5939999999999, 271.1412999999999, 271.6669499999999, 272.21279999999985, 272.7747499999998, 273.34294999999986, 273.9696999999998, 274.5716499999998, 275.18694999999985, 275.7852999999999, 276.3712499999999, 276.9866499999999, 277.57389999999987, 278.15704999999986, 278.76299999999986, 279.34924999999987, 279.91604999999987, 280.4332499999999, 280.9315499999999, 281.42789999999985, 281.85769999999985, 282.31779999999986, 282.8390499999998, 283.32189999999986, 283.7513499999999, 284.13469999999984, 284.54379999999986, 284.8865499999999, 285.30104999999986, 285.70714999999984, 286.15214999999984, 286.5779999999998, 287.0221999999998, 287.45829999999984, 287.89749999999987, 288.27954999999986, 288.66179999999986, 289.0796999999999, 289.46734999999984, 289.81894999999986, 290.15909999999985, 290.50799999999987, 290.91744999999986, 291.3096499999999, 291.7115499999999, 292.1201499999999, 292.5572999999999, 292.9899999999999, 293.42689999999993, 293.86859999999996, 294.30994999999996, 294.7747499999999, 295.2475999999999, 295.72905, 296.2229, 296.69495, 297.13689999999997, 297.558, 297.9625, 298.35544999999996, 298.7526, 299.14984999999996, 299.53074999999995, 299.93305, 300.3323, 300.71774999999997, 301.1030999999999, 301.45669999999996, 301.7679499999999, 302.10549999999995, 302.4518499999999, 302.7905999999999, 303.1393499999999, 303.42319999999995, 303.7358499999999, 304.0689499999999, 304.38534999999996, 304.66749999999996, 304.93354999999997, 305.2258, 305.50559999999996, 305.79495, 306.10245, 306.42154999999997, 306.76, 307.07034999999996, 307.37204999999994, 307.67859999999996, 307.95199999999994, 308.2401499999999, 308.5426499999999, 308.82679999999993, 309.1016499999999, 309.3852499999999, 309.6621499999999, 309.9248999999999, 310.1809499999999, 310.4233499999999, 310.6756499999999, 310.8891999999999, 311.09719999999993, 311.3979999999999, 311.7187999999999, 312.11849999999987, 312.4763999999999, 312.8832499999999, 313.3059499999999, 313.70229999999987, 314.0798499999999, 314.4999999999999, 314.9493499999999, 315.41974999999985, 315.87604999999985, 316.31869999999986, 316.80999999999983, 317.2951499999998, 317.75269999999983, 318.1692999999998, 318.5775499999998, 318.96169999999984, 319.34439999999984, 319.78064999999987, 320.1995999999998, 320.6647999999998, 321.10764999999975, 321.52274999999975, 321.9233499999998, 322.2830999999998, 322.63334999999984, 322.9960499999998, 323.3795999999998, 323.7737499999998, 324.2030999999998, 324.62129999999974, 325.04399999999976, 325.45729999999975, 325.86464999999976, 326.29994999999974, 326.7307499999998, 327.21744999999976, 327.6641499999997, 328.12829999999974, 328.5981999999998, 329.0635999999998, 329.4951999999997, 329.89509999999973, 330.29604999999975, 330.71519999999975, 331.17829999999975, 331.63079999999974, 332.0885499999997, 332.5367999999998, 332.9727999999998, 333.4192999999998, 333.8792999999998, 334.3212999999998, 334.7667499999997, 335.1977499999997, 335.60704999999973, 336.0019499999997, 336.3971499999997, 336.79059999999976, 337.1424499999997, 337.4516999999997, 337.76104999999967, 338.08129999999966, 338.40994999999964, 338.7351499999997, 339.0803499999997, 339.3670999999997, 339.65424999999965, 339.92384999999973, 340.18829999999974, 340.4064999999997, 340.63839999999976, 340.88644999999974, 341.1566999999998, 341.41369999999984, 341.6646499999998, 341.90254999999985, 342.13914999999986, 342.40749999999986, 342.68734999999987, 342.9818999999998, 343.31269999999984, 343.6282999999998, 343.9769499999999, 344.2725499999999, 344.5670499999999, 344.89054999999985, 345.22094999999985, 345.5618499999999, 345.92064999999985, 346.2984999999998, 346.6616999999998, 347.0087499999998, 347.3680499999998, 347.7339499999998, 348.0836999999998, 348.4173499999999, 348.76774999999986, 349.11409999999984, 349.5147999999998, 349.8757499999998, 350.2244499999999, 350.58069999999987, 350.9382499999998, 351.30139999999983, 351.6299999999999, 351.94984999999986, 352.2798999999998, 352.5629999999998, 352.87919999999986, 353.1705999999999, 353.4365499999999, 353.72374999999994, 353.9842999999999, 354.3030999999999, 354.6848499999999, 355.0622499999999], \"yaxis\": \"y\"}, {\"mode\": \"lines\", \"name\": \"RSI\", \"type\": \"scatter\", \"x\": [\"2020-07-28\", \"2020-07-29\", \"2020-07-30\", \"2020-07-31\", \"2020-08-03\", \"2020-08-04\", \"2020-08-05\", \"2020-08-06\", \"2020-08-07\", \"2020-08-10\", \"2020-08-11\", \"2020-08-12\", \"2020-08-13\", \"2020-08-14\", \"2020-08-17\", \"2020-08-18\", \"2020-08-19\", \"2020-08-20\", \"2020-08-21\", \"2020-08-24\", \"2020-08-25\", \"2020-08-26\", \"2020-08-27\", \"2020-08-28\", \"2020-08-31\", \"2020-09-01\", \"2020-09-02\", \"2020-09-03\", \"2020-09-04\", \"2020-09-08\", \"2020-09-09\", \"2020-09-10\", \"2020-09-11\", \"2020-09-14\", \"2020-09-15\", \"2020-09-16\", \"2020-09-17\", \"2020-09-18\", \"2020-09-21\", \"2020-09-22\", \"2020-09-23\", \"2020-09-24\", \"2020-09-25\", \"2020-09-28\", \"2020-09-29\", \"2020-09-30\", \"2020-10-01\", \"2020-10-02\", \"2020-10-05\", \"2020-10-06\", \"2020-10-07\", \"2020-10-08\", \"2020-10-09\", \"2020-10-12\", \"2020-10-13\", \"2020-10-14\", \"2020-10-15\", \"2020-10-16\", \"2020-10-19\", \"2020-10-20\", \"2020-10-21\", \"2020-10-22\", \"2020-10-23\", \"2020-10-26\", \"2020-10-27\", \"2020-10-28\", \"2020-10-29\", \"2020-10-30\", \"2020-11-02\", \"2020-11-03\", \"2020-11-04\", \"2020-11-05\", \"2020-11-06\", \"2020-11-09\", \"2020-11-10\", \"2020-11-11\", \"2020-11-12\", \"2020-11-13\", \"2020-11-16\", \"2020-11-17\", \"2020-11-18\", \"2020-11-19\", \"2020-11-20\", \"2020-11-23\", \"2020-11-24\", \"2020-11-25\", \"2020-11-27\", \"2020-11-30\", \"2020-12-01\", \"2020-12-02\", \"2020-12-03\", \"2020-12-04\", \"2020-12-07\", \"2020-12-08\", \"2020-12-09\", \"2020-12-10\", \"2020-12-11\", \"2020-12-14\", \"2020-12-15\", \"2020-12-16\", \"2020-12-17\", \"2020-12-18\", \"2020-12-21\", \"2020-12-22\", \"2020-12-23\", \"2020-12-24\", \"2020-12-28\", \"2020-12-29\", \"2020-12-30\", \"2020-12-31\", \"2021-01-04\", \"2021-01-05\", \"2021-01-06\", \"2021-01-07\", \"2021-01-08\", \"2021-01-11\", \"2021-01-12\", \"2021-01-13\", \"2021-01-14\", \"2021-01-15\", \"2021-01-19\", \"2021-01-20\", \"2021-01-21\", \"2021-01-22\", \"2021-01-25\", \"2021-01-26\", \"2021-01-27\", \"2021-01-28\", \"2021-01-29\", \"2021-02-01\", \"2021-02-02\", \"2021-02-03\", \"2021-02-04\", \"2021-02-05\", \"2021-02-08\", \"2021-02-09\", \"2021-02-10\", \"2021-02-11\", \"2021-02-12\", \"2021-02-16\", \"2021-02-17\", \"2021-02-18\", \"2021-02-19\", \"2021-02-22\", \"2021-02-23\", \"2021-02-24\", \"2021-02-25\", \"2021-02-26\", \"2021-03-01\", \"2021-03-02\", \"2021-03-03\", \"2021-03-04\", \"2021-03-05\", \"2021-03-08\", \"2021-03-09\", \"2021-03-10\", \"2021-03-11\", \"2021-03-12\", \"2021-03-15\", \"2021-03-16\", \"2021-03-17\", \"2021-03-18\", \"2021-03-19\", \"2021-03-22\", \"2021-03-23\", \"2021-03-24\", \"2021-03-25\", \"2021-03-26\", \"2021-03-29\", \"2021-03-30\", \"2021-03-31\", \"2021-04-01\", \"2021-04-05\"], \"xaxis\": \"x2\", \"y\": [\"40.9257\", \"51.3055\", \"55.7689\", \"68.2385\", \"75.0201\", \"76.7487\", \"78.0224\", \"83.9216\", \"64.7408\", \"58.6131\", \"38.5054\", \"60.5461\", \"62.1234\", \"60.5613\", \"69.903\", \"75.8895\", \"64.562\", \"74.36\", \"78.1798\", \"81.3334\", \"84.8104\", \"90.7205\", \"84.5835\", \"86.4473\", \"89.07\", \"92.8036\", \"94.1992\", \"40.7739\", \"34.6455\", \"20.7631\", \"38.6431\", \"32.2818\", \"30.1643\", \"42.013\", \"50.6749\", \"41.7747\", \"34.4775\", \"29.3277\", \"33.0531\", \"49.2423\", \"32.6969\", \"36.6315\", \"53.6296\", \"64.5079\", \"60.5713\", \"64.6487\", \"72.8405\", \"47.8737\", \"60.3804\", \"48.0607\", \"58.2079\", \"61.1758\", \"69.0933\", \"79.7051\", \"79.6663\", \"69.3017\", \"61.3522\", \"54.9594\", \"39.6582\", \"42.2606\", \"41.4546\", \"41.4097\", \"45.5366\", \"27.2456\", \"42.1443\", \"18.4192\", \"37.4051\", \"26.1699\", \"28.4686\", \"45.0993\", \"68.8586\", \"76.5863\", \"76.7979\", \"58.6589\", \"46.7941\", \"59.3864\", \"55.8426\", \"61.2234\", \"65.8856\", \"62.0641\", \"53.1193\", \"60.5822\", \"51.5453\", \"51.5904\", \"67.1806\", \"72.1535\", \"78.3411\", \"79.6067\", \"86.0303\", \"86.5674\", \"87.2434\", \"89.2022\", \"91.4829\", \"92.6496\", \"43.1091\", \"49.0163\", \"45.7298\", \"57.4003\", \"69.5479\", \"74.3097\", \"79.175\", \"71.3185\", \"66.2591\", \"70.1132\", \"55.418\", \"63.7073\", \"76.3287\", \"77.2175\", \"77.2556\", \"80.4108\", \"40.253\", \"56.047\", \"35.9323\", \"63.8568\", \"72.1242\", \"54.4145\", \"52.6614\", \"59.5656\", \"52.0073\", \"42.1557\", \"59.6251\", \"74.9325\", \"78.5155\", \"73.7343\", \"78.4324\", \"79.2598\", \"41.385\", \"47.8164\", \"32.0794\", \"54.056\", \"63.8425\", \"59.9007\", \"67.3767\", \"69.443\", \"73.5878\", \"73.1965\", \"68.2694\", \"73.6151\", \"78.2874\", \"70.6745\", \"58.1656\", \"48.4459\", \"40.1225\", \"17.669\", \"16.3865\", \"33.1341\", \"16.0252\", \"21.8712\", \"52.0018\", \"41.1161\", \"28.0493\", \"23.0376\", \"35.9797\", \"25.6791\", \"49.9314\", \"48.4448\", \"60.3241\", \"54.652\", \"60.6874\", \"63.8135\", \"66.3374\", \"40.1744\", \"43.2933\", \"57.9148\", \"53.7999\", \"40.0943\", \"38.8457\", \"54.2476\", \"53.9205\", \"47.5836\", \"63.7108\", \"74.7108\", \"82.5752\"], \"yaxis\": \"y2\"}, {\"mode\": \"lines\", \"name\": \"Test\", \"type\": \"scatter\", \"x\": [\"2021-04-06\", \"2021-04-07\", \"2021-04-08\", \"2021-04-09\", \"2021-04-12\", \"2021-04-13\", \"2021-04-14\", \"2021-04-15\", \"2021-04-16\", \"2021-04-19\", \"2021-04-20\", \"2021-04-21\", \"2021-04-22\", \"2021-04-23\", \"2021-04-26\", \"2021-04-27\", \"2021-04-28\", \"2021-04-29\", \"2021-04-30\", \"2021-05-03\", \"2021-05-04\", \"2021-05-05\", \"2021-05-06\", \"2021-05-07\", \"2021-05-10\", \"2021-05-11\", \"2021-05-12\", \"2021-05-13\", \"2021-05-14\", \"2021-05-17\", \"2021-05-18\", \"2021-05-19\", \"2021-05-20\", \"2021-05-21\", \"2021-05-24\", \"2021-05-25\", \"2021-05-26\", \"2021-05-27\", \"2021-05-28\", \"2021-06-01\", \"2021-06-02\", \"2021-06-03\", \"2021-06-04\", \"2021-06-07\", \"2021-06-08\", \"2021-06-09\", \"2021-06-10\", \"2021-06-11\", \"2021-06-14\", \"2021-06-15\", \"2021-06-16\", \"2021-06-17\", \"2021-06-18\", \"2021-06-21\", \"2021-06-22\", \"2021-06-23\", \"2021-06-24\", \"2021-06-25\", \"2021-06-28\", \"2021-06-29\", \"2021-06-30\", \"2021-07-01\", \"2021-07-02\", \"2021-07-06\", \"2021-07-07\", \"2021-07-08\", \"2021-07-09\", \"2021-07-12\", \"2021-07-13\", \"2021-07-14\", \"2021-07-15\", \"2021-07-16\", \"2021-07-19\", \"2021-07-20\", \"2021-07-21\", \"2021-07-22\", \"2021-07-23\", \"2021-07-26\", \"2021-07-27\", \"2021-07-28\", \"2021-07-29\", \"2021-07-30\", \"2021-08-02\", \"2021-08-03\", \"2021-08-04\", \"2021-08-05\", \"2021-08-06\", \"2021-08-09\", \"2021-08-10\", \"2021-08-11\", \"2021-08-12\", \"2021-08-13\", \"2021-08-16\", \"2021-08-17\", \"2021-08-18\", \"2021-08-19\", \"2021-08-20\", \"2021-08-23\", \"2021-08-24\", \"2021-08-25\", \"2021-08-26\", \"2021-08-27\", \"2021-08-30\", \"2021-08-31\", \"2021-09-01\", \"2021-09-02\", \"2021-09-03\", \"2021-09-07\", \"2021-09-08\", \"2021-09-09\", \"2021-09-10\", \"2021-09-13\", \"2021-09-14\", \"2021-09-15\", \"2021-09-16\", \"2021-09-17\", \"2021-09-20\", \"2021-09-21\", \"2021-09-22\", \"2021-09-23\", \"2021-09-24\", \"2021-09-27\", \"2021-09-28\", \"2021-09-29\", \"2021-09-30\", \"2021-10-01\", \"2021-10-04\", \"2021-10-05\", \"2021-10-06\", \"2021-10-07\", \"2021-10-08\", \"2021-10-11\", \"2021-10-12\", \"2021-10-13\", \"2021-10-14\", \"2021-10-15\", \"2021-10-18\", \"2021-10-19\", \"2021-10-20\", \"2021-10-21\", \"2021-10-22\", \"2021-10-25\", \"2021-10-26\", \"2021-10-27\", \"2021-10-28\", \"2021-10-29\", \"2021-11-01\", \"2021-11-02\", \"2021-11-03\", \"2021-11-04\", \"2021-11-05\", \"2021-11-08\", \"2021-11-09\", \"2021-11-10\", \"2021-11-11\", \"2021-11-12\", \"2021-11-15\", \"2021-11-16\", \"2021-11-17\", \"2021-11-18\", \"2021-11-19\", \"2021-11-22\", \"2021-11-23\", \"2021-11-24\", \"2021-11-26\", \"2021-11-29\", \"2021-11-30\", \"2021-12-01\", \"2021-12-02\", \"2021-12-03\", \"2021-12-06\", \"2021-12-07\", \"2021-12-08\"], \"xaxis\": \"x2\", \"y\": [\"81.4514\", \"82.4877\", \"86.5499\", \"88.5054\", \"85.1512\", \"89.5661\", \"64.5857\", \"75.3163\", \"76.0284\", \"59.2962\", \"48.7197\", \"59.3003\", \"43.403\", \"57.944\", \"63.9989\", \"57.1154\", \"51.713\", \"57.0946\", \"45.5065\", \"37.7715\", \"22.0354\", \"20.1136\", \"35.7603\", \"49.2401\", \"27.0111\", \"26.2221\", \"15.5792\", \"26.4386\", \"49.7082\", \"44.7398\", \"39.3078\", \"40.8251\", \"61.2482\", \"54.4027\", \"67.9387\", \"68.9038\", \"71.5987\", \"64.1145\", \"67.6636\", \"59.8427\", \"62.9752\", \"41.4163\", \"65.3474\", \"68.243\", \"68.765\", \"69.0827\", \"80.1521\", \"82.1749\", \"87.858\", \"68.9503\", \"59.9855\", \"74.3986\", \"58.0426\", \"65.486\", \"74.1485\", \"74.571\", \"79.7921\", \"75.8963\", \"84.9653\", \"86.8307\", \"81.3134\", \"81.6772\", \"89.2694\", \"91.0373\", \"91.8593\", \"69.1268\", \"76.5731\", \"80.3098\", \"80.3098\", \"82.3389\", \"54.6975\", \"36.9449\", \"26.2562\", \"51.1151\", \"61.907\", \"69.2325\", \"78.446\", \"78.9828\", \"55.0078\", \"60.2134\", \"62.7169\", \"50.9429\", \"51.1231\", \"63.4745\", \"66.0466\", \"75.5198\", \"60.7813\", \"64.4242\", \"48.706\", \"44.2116\", \"55.0702\", \"63.701\", \"64.7508\", \"37.335\", \"23.7315\", \"37.8127\", \"58.4636\", \"74.1299\", \"76.4329\", \"77.3822\", \"60.5165\", \"72.0844\", \"80.4365\", \"78.2857\", \"79.6669\", \"77.8974\", \"81.2764\", \"82.7939\", \"66.2601\", \"53.1838\", \"34.4828\", \"33.1667\", \"27.7236\", \"52.9114\", \"54.7484\", \"29.7506\", \"15.0027\", \"17.9704\", \"38.4021\", \"52.9944\", \"54.3809\", \"41.3879\", \"20.1862\", \"19.4838\", \"17.756\", \"30.6793\", \"18.3832\", \"37.9548\", \"45.7745\", \"55.8072\", \"49.525\", \"40.7497\", \"37.0469\", \"50.0324\", \"68.7257\", \"73.1074\", \"79.011\", \"82.6333\", \"79.6477\", \"83.1948\", \"63.9189\", \"73.2717\", \"75.7164\", \"77.6095\", \"84.7403\", \"87.0493\", \"88.5605\", \"90.2973\", \"93.4611\", \"95.6332\", \"95.7657\", \"90.8661\", \"68.6038\", \"41.5936\", \"46.4889\", \"61.7423\", \"61.2643\", \"70.2527\", \"70.8838\", \"80.8486\", \"84.4625\", \"56.5395\", \"48.7257\", \"54.2804\", \"30.159\", \"56.9895\", \"42.7844\", \"31.5606\", \"39.7832\", \"29.1462\", \"38.4594\", \"62.0689\", \"64.6625\"], \"yaxis\": \"y2\"}, {\"mode\": \"markers+lines\", \"name\": \"Prediction\", \"type\": \"scatter\", \"x\": [\"2021-04-06\", \"2021-04-07\", \"2021-04-08\", \"2021-04-09\", \"2021-04-12\", \"2021-04-13\", \"2021-04-14\", \"2021-04-15\", \"2021-04-16\", \"2021-04-19\", \"2021-04-20\", \"2021-04-21\", \"2021-04-22\", \"2021-04-23\", \"2021-04-26\", \"2021-04-27\", \"2021-04-28\", \"2021-04-29\", \"2021-04-30\", \"2021-05-03\", \"2021-05-04\", \"2021-05-05\", \"2021-05-06\", \"2021-05-07\", \"2021-05-10\", \"2021-05-11\", \"2021-05-12\", \"2021-05-13\", \"2021-05-14\", \"2021-05-17\", \"2021-05-18\", \"2021-05-19\", \"2021-05-20\", \"2021-05-21\", \"2021-05-24\", \"2021-05-25\", \"2021-05-26\", \"2021-05-27\", \"2021-05-28\", \"2021-06-01\", \"2021-06-02\", \"2021-06-03\", \"2021-06-04\", \"2021-06-07\", \"2021-06-08\", \"2021-06-09\", \"2021-06-10\", \"2021-06-11\", \"2021-06-14\", \"2021-06-15\", \"2021-06-16\", \"2021-06-17\", \"2021-06-18\", \"2021-06-21\", \"2021-06-22\", \"2021-06-23\", \"2021-06-24\", \"2021-06-25\", \"2021-06-28\", \"2021-06-29\", \"2021-06-30\", \"2021-07-01\", \"2021-07-02\", \"2021-07-06\", \"2021-07-07\", \"2021-07-08\", \"2021-07-09\", \"2021-07-12\", \"2021-07-13\", \"2021-07-14\", \"2021-07-15\", \"2021-07-16\", \"2021-07-19\", \"2021-07-20\", \"2021-07-21\", \"2021-07-22\", \"2021-07-23\", \"2021-07-26\", \"2021-07-27\", \"2021-07-28\", \"2021-07-29\", \"2021-07-30\", \"2021-08-02\", \"2021-08-03\", \"2021-08-04\", \"2021-08-05\", \"2021-08-06\", \"2021-08-09\", \"2021-08-10\", \"2021-08-11\", \"2021-08-12\", \"2021-08-13\", \"2021-08-16\", \"2021-08-17\", \"2021-08-18\", \"2021-08-19\", \"2021-08-20\", \"2021-08-23\", \"2021-08-24\", \"2021-08-25\", \"2021-08-26\", \"2021-08-27\", \"2021-08-30\", \"2021-08-31\", \"2021-09-01\", \"2021-09-02\", \"2021-09-03\", \"2021-09-07\", \"2021-09-08\", \"2021-09-09\", \"2021-09-10\", \"2021-09-13\", \"2021-09-14\", \"2021-09-15\", \"2021-09-16\", \"2021-09-17\", \"2021-09-20\", \"2021-09-21\", \"2021-09-22\", \"2021-09-23\", \"2021-09-24\", \"2021-09-27\", \"2021-09-28\", \"2021-09-29\", \"2021-09-30\", \"2021-10-01\", \"2021-10-04\", \"2021-10-05\", \"2021-10-06\", \"2021-10-07\", \"2021-10-08\", \"2021-10-11\", \"2021-10-12\", \"2021-10-13\", \"2021-10-14\", \"2021-10-15\", \"2021-10-18\", \"2021-10-19\", \"2021-10-20\", \"2021-10-21\", \"2021-10-22\", \"2021-10-25\", \"2021-10-26\", \"2021-10-27\", \"2021-10-28\", \"2021-10-29\", \"2021-11-01\", \"2021-11-02\", \"2021-11-03\", \"2021-11-04\", \"2021-11-05\", \"2021-11-08\", \"2021-11-09\", \"2021-11-10\", \"2021-11-11\", \"2021-11-12\", \"2021-11-15\", \"2021-11-16\", \"2021-11-17\", \"2021-11-18\", \"2021-11-19\", \"2021-11-22\", \"2021-11-23\", \"2021-11-24\", \"2021-11-26\", \"2021-11-29\", \"2021-11-30\", \"2021-12-01\", \"2021-12-02\", \"2021-12-03\", \"2021-12-06\", \"2021-12-07\", \"2021-12-08\"], \"xaxis\": \"x2\", \"y\": [85.06285095214844, 85.40727996826172, 63.341209411621094, 69.60941314697266, 80.36164093017578, 62.53453826904297, 50.49258041381836, 57.57395553588867, 47.77911376953125, 60.68656921386719, 65.93072509765625, 58.72808837890625, 59.32318115234375, 59.51612854003906, 47.30629348754883, 39.25579071044922, 32.81034469604492, 29.118852615356445, 39.78400421142578, 52.2855224609375, 30.78388214111328, 31.466123580932617, 31.689727783203125, 32.62786865234375, 50.09981918334961, 50.713623046875, 39.986515045166016, 47.7920036315918, 67.70130157470703, 59.76336669921875, 68.44143676757812, 72.3820571899414, 73.85294342041016, 68.90410614013672, 71.24336242675781, 57.97142028808594, 56.27781295776367, 44.728816986083984, 64.30461883544922, 74.9285659790039, 64.95581817626953, 68.1190414428711, 75.51846313476562, 81.57327270507812, 84.25759887695312, 71.94097137451172, 63.65152359008789, 71.64766693115234, 63.182716369628906, 66.56175994873047, 77.57552337646484, 75.57653045654297, 77.81995391845703, 74.12979888916016, 80.87434387207031, 84.05257415771484, 82.63973999023438, 82.54048919677734, 84.5687484741211, 85.41869354248047, 84.92689514160156, 69.54886627197266, 70.54447174072266, 78.76123046875, 75.66238403320312, 75.88672637939453, 50.893367767333984, 40.80707931518555, 37.83919906616211, 47.72083282470703, 63.146759033203125, 68.41398620605469, 74.43727111816406, 78.4605484008789, 56.6524543762207, 62.699520111083984, 66.1736831665039, 57.59425735473633, 57.843994140625, 67.46221160888672, 69.21890258789062, 75.47740173339844, 63.5494270324707, 67.71958923339844, 51.1091423034668, 45.449676513671875, 57.735862731933594, 67.03123474121094, 69.58340454101562, 43.171714782714844, 37.60797119140625, 46.08586502075195, 63.2069091796875, 74.27928924560547, 72.83910369873047, 75.62110900878906, 65.99005126953125, 75.00053405761719, 82.01698303222656, 79.4641342163086, 78.62146759033203, 76.22782897949219, 76.3126220703125, 78.43919372558594, 64.51353454589844, 50.01883316040039, 39.73938751220703, 37.09429931640625, 32.39472961425781, 49.30434036254883, 50.457733154296875, 32.34077835083008, 30.992223739624023, 35.693965911865234, 49.040199279785156, 57.00553894042969, 53.64925765991211, 44.984825134277344, 40.08287811279297, 32.225547790527344, 27.80324935913086, 31.95327377319336, 31.13816261291504, 42.93782424926758, 51.29018020629883, 54.77627944946289, 49.691829681396484, 46.3306884765625, 45.26964569091797, 54.6393928527832, 67.87643432617188, 73.34663391113281, 77.66139221191406, 80.35182189941406, 79.7789535522461, 83.4452896118164, 70.1939926147461, 73.40116882324219, 75.36311340332031, 68.85094451904297, 77.56260681152344, 81.82682800292969, 83.83301544189453, 85.09912872314453, 86.02381134033203, 86.53461456298828, 86.33549499511719, 84.49942779541016, 67.76437377929688, 47.028167724609375, 45.80628967285156, 60.91761016845703, 56.030921936035156, 65.85569763183594, 69.46658325195312, 75.05906677246094, 78.0398941040039, 53.28327178955078, 47.17650604248047, 55.046451568603516, 38.620182037353516, 51.33940505981445, 43.18757247924805, 34.3609733581543, 39.46811294555664, 34.29012680053711, 41.45720291137695, 60.48921203613281], \"yaxis\": \"y2\"}, {\"mode\": \"markers+lines\", \"name\": \"Forecast\", \"type\": \"scatter\", \"x\": [\"2021-12-08T00:00:00\", \"2021-12-09T00:00:00\", \"2021-12-10T00:00:00\", \"2021-12-13T00:00:00\", \"2021-12-14T00:00:00\", \"2021-12-15T00:00:00\", \"2021-12-16T00:00:00\", \"2021-12-17T00:00:00\", \"2021-12-20T00:00:00\", \"2021-12-21T00:00:00\", \"2021-12-22T00:00:00\"], \"xaxis\": \"x2\", \"y\": [64.6625, 65.07268004084824, 59.528655412232865, 61.9975642748475, 61.8285589629054, 62.30051545970439, 62.09270385694503, 61.75515547167062, 61.39548489034175, 60.97130755149125, 60.588410839545716], \"yaxis\": \"y2\"}, {\"line\": {\"color\": \"rgb(100, 10, 100)\", \"dash\": \"dash\", \"shape\": \"linear\"}, \"mode\": \"lines\", \"type\": \"scatter\", \"x\": [\"2020-07-28\", \"2021-12-22T00:00:00\"], \"xaxis\": \"x2\", \"y\": [70, 70], \"yaxis\": \"y2\"}, {\"line\": {\"color\": \"rgb(10, 12, 240)\", \"dash\": \"dash\", \"shape\": \"linear\"}, \"mode\": \"lines\", \"type\": \"scatter\", \"x\": [\"2020-07-28\", \"2021-12-22T00:00:00\"], \"xaxis\": \"x2\", \"y\": [50, 50], \"yaxis\": \"y2\"}, {\"line\": {\"color\": \"rgb(10, 120, 24)\", \"dash\": \"dash\", \"shape\": \"linear\"}, \"mode\": \"lines\", \"type\": \"scatter\", \"x\": [\"2020-07-28\", \"2021-12-22T00:00:00\"], \"xaxis\": \"x2\", \"y\": [30, 30], \"yaxis\": \"y2\"}, {\"mode\": \"lines\", \"name\": \"Train Stoch SlowK\", \"type\": \"scatter\", \"x\": [\"2020-07-28\", \"2020-07-29\", \"2020-07-30\", \"2020-07-31\", \"2020-08-03\", \"2020-08-04\", \"2020-08-05\", \"2020-08-06\", \"2020-08-07\", \"2020-08-10\", \"2020-08-11\", \"2020-08-12\", \"2020-08-13\", \"2020-08-14\", \"2020-08-17\", \"2020-08-18\", \"2020-08-19\", \"2020-08-20\", \"2020-08-21\", \"2020-08-24\", \"2020-08-25\", \"2020-08-26\", \"2020-08-27\", \"2020-08-28\", \"2020-08-31\", \"2020-09-01\", \"2020-09-02\", \"2020-09-03\", \"2020-09-04\", \"2020-09-08\", \"2020-09-09\", \"2020-09-10\", \"2020-09-11\", \"2020-09-14\", \"2020-09-15\", \"2020-09-16\", \"2020-09-17\", \"2020-09-18\", \"2020-09-21\", \"2020-09-22\", \"2020-09-23\", \"2020-09-24\", \"2020-09-25\", \"2020-09-28\", \"2020-09-29\", \"2020-09-30\", \"2020-10-01\", \"2020-10-02\", \"2020-10-05\", \"2020-10-06\", \"2020-10-07\", \"2020-10-08\", \"2020-10-09\", \"2020-10-12\", \"2020-10-13\", \"2020-10-14\", \"2020-10-15\", \"2020-10-16\", \"2020-10-19\", \"2020-10-20\", \"2020-10-21\", \"2020-10-22\", \"2020-10-23\", \"2020-10-26\", \"2020-10-27\", \"2020-10-28\", \"2020-10-29\", \"2020-10-30\", \"2020-11-02\", \"2020-11-03\", \"2020-11-04\", \"2020-11-05\", \"2020-11-06\", \"2020-11-09\", \"2020-11-10\", \"2020-11-11\", \"2020-11-12\", \"2020-11-13\", \"2020-11-16\", \"2020-11-17\", \"2020-11-18\", \"2020-11-19\", \"2020-11-20\", \"2020-11-23\", \"2020-11-24\", \"2020-11-25\", \"2020-11-27\", \"2020-11-30\", \"2020-12-01\", \"2020-12-02\", \"2020-12-03\", \"2020-12-04\", \"2020-12-07\", \"2020-12-08\", \"2020-12-09\", \"2020-12-10\", \"2020-12-11\", \"2020-12-14\", \"2020-12-15\", \"2020-12-16\", \"2020-12-17\", \"2020-12-18\", \"2020-12-21\", \"2020-12-22\", \"2020-12-23\", \"2020-12-24\", \"2020-12-28\", \"2020-12-29\", \"2020-12-30\", \"2020-12-31\", \"2021-01-04\", \"2021-01-05\", \"2021-01-06\", \"2021-01-07\", \"2021-01-08\", \"2021-01-11\", \"2021-01-12\", \"2021-01-13\", \"2021-01-14\", \"2021-01-15\", \"2021-01-19\", \"2021-01-20\", \"2021-01-21\", \"2021-01-22\", \"2021-01-25\", \"2021-01-26\", \"2021-01-27\", \"2021-01-28\", \"2021-01-29\", \"2021-02-01\", \"2021-02-02\", \"2021-02-03\", \"2021-02-04\", \"2021-02-05\", \"2021-02-08\", \"2021-02-09\", \"2021-02-10\", \"2021-02-11\", \"2021-02-12\", \"2021-02-16\", \"2021-02-17\", \"2021-02-18\", \"2021-02-19\", \"2021-02-22\", \"2021-02-23\", \"2021-02-24\", \"2021-02-25\", \"2021-02-26\", \"2021-03-01\", \"2021-03-02\", \"2021-03-03\", \"2021-03-04\", \"2021-03-05\", \"2021-03-08\", \"2021-03-09\", \"2021-03-10\", \"2021-03-11\", \"2021-03-12\", \"2021-03-15\", \"2021-03-16\", \"2021-03-17\", \"2021-03-18\", \"2021-03-19\", \"2021-03-22\", \"2021-03-23\", \"2021-03-24\", \"2021-03-25\", \"2021-03-26\", \"2021-03-29\", \"2021-03-30\", \"2021-03-31\", \"2021-04-01\", \"2021-04-05\"], \"xaxis\": \"x3\", \"y\": [\"37.994\", \"49.9588\", \"64.2673\", \"84.4795\", \"95.6964\", \"97.3179\", \"96.8325\", \"97.9121\", \"81.6957\", \"64.0098\", \"33.2821\", \"39.6894\", \"50.6125\", \"73.4168\", \"81.9189\", \"88.2411\", \"85.2397\", \"85.0695\", \"85.0119\", \"89.6473\", \"90.7685\", \"91.814\", \"92.4172\", \"89.5125\", \"85.6871\", \"91.8939\", \"93.7267\", \"69.9563\", \"49.2914\", \"17.911\", \"20.7695\", \"11.4673\", \"16.5531\", \"26.4577\", \"49.874\", \"61.3054\", \"52.1153\", \"33.5455\", \"29.117\", \"41.0847\", \"42.8742\", \"44.0696\", \"52.7174\", \"76.33\", \"92.5358\", \"90.9902\", \"89.861\", \"67.9268\", \"63.7759\", \"37.6456\", \"52.687\", \"58.3771\", \"85.4055\", \"91.6481\", \"90.7047\", \"80.4401\", \"68.0153\", \"45.5517\", \"25.075\", \"12.3567\", \"10.7966\", \"17.4324\", \"25.7077\", \"32.6417\", \"42.2688\", \"30.6047\", \"31.2145\", \"16.8145\", \"22.2889\", \"30.739\", \"57.0045\", \"83.097\", \"95.0682\", \"85.4859\", \"58.365\", \"42.3972\", \"35.4932\", \"49.0101\", \"65.0911\", \"79.6918\", \"75.8245\", \"68.9032\", \"50.729\", \"49.6788\", \"54.9416\", \"75.3652\", \"91.8639\", \"92.809\", \"91.6787\", \"90.7984\", \"87.5088\", \"90.0383\", \"92.3742\", \"95.9265\", \"68.0445\", \"50.5012\", \"30.3455\", \"44.8462\", \"60.6565\", \"79.7703\", \"93.6062\", \"89.9442\", \"81.6555\", \"75.2258\", \"68.6499\", \"71.3237\", \"76.6732\", \"83.0498\", \"82.3626\", \"79.0654\", \"66.6831\", \"63.9706\", \"43.4224\", \"60.4496\", \"70.9141\", \"84.1124\", \"73.2047\", \"61.8319\", \"53.673\", \"40.0756\", \"46.9212\", \"65.1506\", \"90.794\", \"92.7216\", \"90.7221\", \"88.0975\", \"63.5324\", \"44.6672\", \"18.9261\", \"32.5432\", \"53.2291\", \"75.8518\", \"90.0733\", \"90.4143\", \"97.0754\", \"92.1421\", \"84.2263\", \"79.9372\", \"84.2454\", \"84.1175\", \"72.6986\", \"54.098\", \"39.9496\", \"23.3955\", \"23.6263\", \"33.6436\", \"35.8583\", \"28.113\", \"40.2965\", \"56.1153\", \"49.8243\", \"24.0948\", \"19.5487\", \"22.5052\", \"39.9736\", \"49.5842\", \"77.1226\", \"80.289\", \"87.4324\", \"81.5389\", \"82.7607\", \"53.7696\", \"37.0147\", \"31.0896\", \"48.0826\", \"47.4217\", \"35.5854\", \"37.8524\", \"51.2656\", \"62.1579\", \"70.5222\", \"82.8153\", \"94.3726\"], \"yaxis\": \"y3\"}, {\"mode\": \"lines\", \"name\": \"Train Stoch SlowD\", \"type\": \"scatter\", \"x\": [\"2020-07-28\", \"2020-07-29\", \"2020-07-30\", \"2020-07-31\", \"2020-08-03\", \"2020-08-04\", \"2020-08-05\", \"2020-08-06\", \"2020-08-07\", \"2020-08-10\", \"2020-08-11\", \"2020-08-12\", \"2020-08-13\", \"2020-08-14\", \"2020-08-17\", \"2020-08-18\", \"2020-08-19\", \"2020-08-20\", \"2020-08-21\", \"2020-08-24\", \"2020-08-25\", \"2020-08-26\", \"2020-08-27\", \"2020-08-28\", \"2020-08-31\", \"2020-09-01\", \"2020-09-02\", \"2020-09-03\", \"2020-09-04\", \"2020-09-08\", \"2020-09-09\", \"2020-09-10\", \"2020-09-11\", \"2020-09-14\", \"2020-09-15\", \"2020-09-16\", \"2020-09-17\", \"2020-09-18\", \"2020-09-21\", \"2020-09-22\", \"2020-09-23\", \"2020-09-24\", \"2020-09-25\", \"2020-09-28\", \"2020-09-29\", \"2020-09-30\", \"2020-10-01\", \"2020-10-02\", \"2020-10-05\", \"2020-10-06\", \"2020-10-07\", \"2020-10-08\", \"2020-10-09\", \"2020-10-12\", \"2020-10-13\", \"2020-10-14\", \"2020-10-15\", \"2020-10-16\", \"2020-10-19\", \"2020-10-20\", \"2020-10-21\", \"2020-10-22\", \"2020-10-23\", \"2020-10-26\", \"2020-10-27\", \"2020-10-28\", \"2020-10-29\", \"2020-10-30\", \"2020-11-02\", \"2020-11-03\", \"2020-11-04\", \"2020-11-05\", \"2020-11-06\", \"2020-11-09\", \"2020-11-10\", \"2020-11-11\", \"2020-11-12\", \"2020-11-13\", \"2020-11-16\", \"2020-11-17\", \"2020-11-18\", \"2020-11-19\", \"2020-11-20\", \"2020-11-23\", \"2020-11-24\", \"2020-11-25\", \"2020-11-27\", \"2020-11-30\", \"2020-12-01\", \"2020-12-02\", \"2020-12-03\", \"2020-12-04\", \"2020-12-07\", \"2020-12-08\", \"2020-12-09\", \"2020-12-10\", \"2020-12-11\", \"2020-12-14\", \"2020-12-15\", \"2020-12-16\", \"2020-12-17\", \"2020-12-18\", \"2020-12-21\", \"2020-12-22\", \"2020-12-23\", \"2020-12-24\", \"2020-12-28\", \"2020-12-29\", \"2020-12-30\", \"2020-12-31\", \"2021-01-04\", \"2021-01-05\", \"2021-01-06\", \"2021-01-07\", \"2021-01-08\", \"2021-01-11\", \"2021-01-12\", \"2021-01-13\", \"2021-01-14\", \"2021-01-15\", \"2021-01-19\", \"2021-01-20\", \"2021-01-21\", \"2021-01-22\", \"2021-01-25\", \"2021-01-26\", \"2021-01-27\", \"2021-01-28\", \"2021-01-29\", \"2021-02-01\", \"2021-02-02\", \"2021-02-03\", \"2021-02-04\", \"2021-02-05\", \"2021-02-08\", \"2021-02-09\", \"2021-02-10\", \"2021-02-11\", \"2021-02-12\", \"2021-02-16\", \"2021-02-17\", \"2021-02-18\", \"2021-02-19\", \"2021-02-22\", \"2021-02-23\", \"2021-02-24\", \"2021-02-25\", \"2021-02-26\", \"2021-03-01\", \"2021-03-02\", \"2021-03-03\", \"2021-03-04\", \"2021-03-05\", \"2021-03-08\", \"2021-03-09\", \"2021-03-10\", \"2021-03-11\", \"2021-03-12\", \"2021-03-15\", \"2021-03-16\", \"2021-03-17\", \"2021-03-18\", \"2021-03-19\", \"2021-03-22\", \"2021-03-23\", \"2021-03-24\", \"2021-03-25\", \"2021-03-26\", \"2021-03-29\", \"2021-03-30\", \"2021-03-31\", \"2021-04-01\", \"2021-04-05\"], \"xaxis\": \"x3\", \"y\": [\"34.7229\", \"39.1634\", \"50.74\", \"66.2352\", \"81.4811\", \"92.4979\", \"96.6156\", \"97.3541\", \"92.1467\", \"81.2059\", \"59.6625\", \"45.6604\", \"41.1947\", \"54.5729\", \"68.6494\", \"81.1923\", \"85.1332\", \"86.1834\", \"85.107\", \"86.5762\", \"88.4759\", \"90.7433\", \"91.6666\", \"91.2479\", \"89.2056\", \"89.0312\", \"90.4359\", \"85.1923\", \"70.9915\", \"45.7196\", \"29.324\", \"16.7159\", \"16.2633\", \"18.1594\", \"30.9616\", \"45.8791\", \"54.4316\", \"48.9887\", \"38.2593\", \"34.5824\", \"37.692\", \"42.6761\", \"46.5537\", \"57.7056\", \"73.8611\", \"86.6187\", \"91.129\", \"82.926\", \"73.8546\", \"56.4494\", \"51.3695\", \"49.5699\", \"65.4899\", \"78.4769\", \"89.2528\", \"87.5976\", \"79.72\", \"64.669\", \"46.214\", \"27.6611\", \"16.0761\", \"13.5286\", \"17.9789\", \"25.2606\", \"33.5394\", \"35.1717\", \"34.696\", \"26.2112\", \"23.4393\", \"23.2808\", \"36.6775\", \"56.9469\", \"78.3899\", \"87.8837\", \"79.6397\", \"62.0827\", \"45.4185\", \"42.3002\", \"49.8648\", \"64.5977\", \"73.5358\", \"74.8065\", \"65.1523\", \"56.437\", \"51.7831\", \"59.9952\", \"74.0569\", \"86.6794\", \"92.1172\", \"91.762\", \"89.9953\", \"89.4485\", \"89.9738\", \"92.7796\", \"85.4484\", \"71.4907\", \"49.6304\", \"41.8976\", \"45.2827\", \"61.7576\", \"78.011\", \"87.7736\", \"88.402\", \"82.2752\", \"75.1771\", \"71.7332\", \"72.2156\", \"77.0155\", \"80.6952\", \"81.4926\", \"76.037\", \"69.9064\", \"58.0254\", \"55.9475\", \"58.262\", \"71.8254\", \"76.0771\", \"73.0497\", \"62.9032\", \"51.8601\", \"46.8899\", \"50.7158\", \"67.622\", \"82.8887\", \"91.4126\", \"90.5137\", \"80.784\", \"65.4324\", \"42.3752\", \"32.0455\", \"34.8995\", \"53.8747\", \"73.0514\", \"85.4465\", \"92.521\", \"93.2106\", \"91.1479\", \"85.4352\", \"82.803\", \"82.7667\", \"80.3538\", \"70.3047\", \"55.5821\", \"39.1477\", \"28.9905\", \"26.8885\", \"31.0427\", \"32.5383\", \"34.7559\", \"41.5083\", \"48.7454\", \"43.3448\", \"31.1559\", \"22.0496\", \"27.3425\", \"37.3543\", \"55.5601\", \"68.9986\", \"81.6147\", \"83.0868\", \"83.9107\", \"72.6897\", \"57.8483\", \"40.6246\", \"38.729\", \"42.198\", \"43.6965\", \"40.2865\", \"41.5678\", \"50.4253\", \"61.3152\", \"71.8318\", \"82.57\"], \"yaxis\": \"y3\"}, {\"mode\": \"lines\", \"name\": \"Test Stoch SlowD\", \"type\": \"scatter\", \"x\": [\"2021-04-06\", \"2021-04-07\", \"2021-04-08\", \"2021-04-09\", \"2021-04-12\", \"2021-04-13\", \"2021-04-14\", \"2021-04-15\", \"2021-04-16\", \"2021-04-19\", \"2021-04-20\", \"2021-04-21\", \"2021-04-22\", \"2021-04-23\", \"2021-04-26\", \"2021-04-27\", \"2021-04-28\", \"2021-04-29\", \"2021-04-30\", \"2021-05-03\", \"2021-05-04\", \"2021-05-05\", \"2021-05-06\", \"2021-05-07\", \"2021-05-10\", \"2021-05-11\", \"2021-05-12\", \"2021-05-13\", \"2021-05-14\", \"2021-05-17\", \"2021-05-18\", \"2021-05-19\", \"2021-05-20\", \"2021-05-21\", \"2021-05-24\", \"2021-05-25\", \"2021-05-26\", \"2021-05-27\", \"2021-05-28\", \"2021-06-01\", \"2021-06-02\", \"2021-06-03\", \"2021-06-04\", \"2021-06-07\", \"2021-06-08\", \"2021-06-09\", \"2021-06-10\", \"2021-06-11\", \"2021-06-14\", \"2021-06-15\", \"2021-06-16\", \"2021-06-17\", \"2021-06-18\", \"2021-06-21\", \"2021-06-22\", \"2021-06-23\", \"2021-06-24\", \"2021-06-25\", \"2021-06-28\", \"2021-06-29\", \"2021-06-30\", \"2021-07-01\", \"2021-07-02\", \"2021-07-06\", \"2021-07-07\", \"2021-07-08\", \"2021-07-09\", \"2021-07-12\", \"2021-07-13\", \"2021-07-14\", \"2021-07-15\", \"2021-07-16\", \"2021-07-19\", \"2021-07-20\", \"2021-07-21\", \"2021-07-22\", \"2021-07-23\", \"2021-07-26\", \"2021-07-27\", \"2021-07-28\", \"2021-07-29\", \"2021-07-30\", \"2021-08-02\", \"2021-08-03\", \"2021-08-04\", \"2021-08-05\", \"2021-08-06\", \"2021-08-09\", \"2021-08-10\", \"2021-08-11\", \"2021-08-12\", \"2021-08-13\", \"2021-08-16\", \"2021-08-17\", \"2021-08-18\", \"2021-08-19\", \"2021-08-20\", \"2021-08-23\", \"2021-08-24\", \"2021-08-25\", \"2021-08-26\", \"2021-08-27\", \"2021-08-30\", \"2021-08-31\", \"2021-09-01\", \"2021-09-02\", \"2021-09-03\", \"2021-09-07\", \"2021-09-08\", \"2021-09-09\", \"2021-09-10\", \"2021-09-13\", \"2021-09-14\", \"2021-09-15\", \"2021-09-16\", \"2021-09-17\", \"2021-09-20\", \"2021-09-21\", \"2021-09-22\", \"2021-09-23\", \"2021-09-24\", \"2021-09-27\", \"2021-09-28\", \"2021-09-29\", \"2021-09-30\", \"2021-10-01\", \"2021-10-04\", \"2021-10-05\", \"2021-10-06\", \"2021-10-07\", \"2021-10-08\", \"2021-10-11\", \"2021-10-12\", \"2021-10-13\", \"2021-10-14\", \"2021-10-15\", \"2021-10-18\", \"2021-10-19\", \"2021-10-20\", \"2021-10-21\", \"2021-10-22\", \"2021-10-25\", \"2021-10-26\", \"2021-10-27\", \"2021-10-28\", \"2021-10-29\", \"2021-11-01\", \"2021-11-02\", \"2021-11-03\", \"2021-11-04\", \"2021-11-05\", \"2021-11-08\", \"2021-11-09\", \"2021-11-10\", \"2021-11-11\", \"2021-11-12\", \"2021-11-15\", \"2021-11-16\", \"2021-11-17\", \"2021-11-18\", \"2021-11-19\", \"2021-11-22\", \"2021-11-23\", \"2021-11-24\", \"2021-11-26\", \"2021-11-29\", \"2021-11-30\", \"2021-12-01\", \"2021-12-02\", \"2021-12-03\", \"2021-12-06\", \"2021-12-07\", \"2021-12-08\"], \"xaxis\": \"x3\", \"y\": [\"90.8111\", \"94.268\", \"94.1355\", \"94.577\", \"95.5864\", \"96.0469\", \"89.6036\", \"83.6983\", \"78.2085\", \"79.3062\", \"72.2339\", \"61.4031\", \"46.2413\", \"43.9157\", \"48.7685\", \"64.1436\", \"73.287\", \"75.1615\", \"63.9542\", \"47.8045\", \"31.0199\", \"20.4133\", \"19.3635\", \"26.4738\", \"32.0695\", \"33.9696\", \"26.105\", \"21.5058\", \"19.9764\", \"32.1747\", \"47.0887\", \"58.6894\", \"64.6559\", \"68.393\", \"76.6335\", \"82.3642\", \"88.2678\", \"88.2558\", \"87.6213\", \"77.8678\", \"66.7154\", \"50.0988\", \"47.2651\", \"53.5399\", \"72.2884\", \"82.3086\", \"86.4408\", \"87.0988\", \"92.0355\", \"93.9831\", \"88.4032\", \"79.0802\", \"71.3328\", \"71.5625\", \"73.9025\", \"80.9871\", \"85.5622\", \"87.8104\", \"88.0296\", \"89.273\", \"92.5891\", \"93.6722\", \"92.8501\", \"92.4327\", \"92.16\", \"88.3373\", \"81.6172\", \"77.1232\", \"77.9178\", \"80.5338\", \"75.4153\", \"61.3988\", \"40.9703\", \"28.3354\", \"32.2655\", \"51.6342\", \"74.9076\", \"90.5089\", \"92.589\", \"85.6248\", \"74.558\", \"67.1862\", \"62.4206\", \"61.7943\", \"65.8404\", \"75.6354\", \"83.1521\", \"86.9589\", \"78.4983\", \"65.4535\", \"49.7168\", \"47.984\", \"58.756\", \"70.0119\", \"65.8541\", \"49.5069\", \"40.1473\", \"49.8367\", \"70.5284\", \"87.5326\", \"91.9736\", \"90.3074\", \"87.2769\", \"88.8592\", \"89.2667\", \"87.9822\", \"83.4927\", \"80.9868\", \"77.782\", \"69.3691\", \"51.5883\", \"33.1634\", \"19.9154\", \"20.8475\", \"28.6648\", \"37.9688\", \"39.0359\", \"33.3839\", \"31.097\", \"36.798\", \"52.778\", \"66.1758\", \"66.7719\", \"50.1209\", \"26.3548\", \"13.7298\", \"11.9628\", \"21.6404\", \"32.4771\", \"50.3661\", \"64.6427\", \"70.5716\", \"63.025\", \"50.0635\", \"47.0968\", \"57.2093\", \"77.6269\", \"92.0171\", \"97.7442\", \"96.6965\", \"91.9015\", \"87.9884\", \"80.4802\", \"76.8359\", \"74.8746\", \"80.2828\", \"88.471\", \"94.9941\", \"97.5808\", \"96.6269\", \"94.8959\", \"91.4704\", \"84.0365\", \"69.799\", \"51.1787\", \"37.5201\", \"36.6348\", \"50.0887\", \"65.1287\", \"79.3709\", \"85.0154\", \"84.0333\", \"71.5234\", \"53.8361\", \"37.3499\", \"30.9009\", \"29.8531\", \"31.6579\", \"28.7054\", \"24.2545\", \"23.5484\", \"31.0626\", \"49.2997\"], \"yaxis\": \"y3\"}, {\"mode\": \"lines\", \"name\": \"Test Stoch SlowK\", \"type\": \"scatter\", \"x\": [\"2021-04-06\", \"2021-04-07\", \"2021-04-08\", \"2021-04-09\", \"2021-04-12\", \"2021-04-13\", \"2021-04-14\", \"2021-04-15\", \"2021-04-16\", \"2021-04-19\", \"2021-04-20\", \"2021-04-21\", \"2021-04-22\", \"2021-04-23\", \"2021-04-26\", \"2021-04-27\", \"2021-04-28\", \"2021-04-29\", \"2021-04-30\", \"2021-05-03\", \"2021-05-04\", \"2021-05-05\", \"2021-05-06\", \"2021-05-07\", \"2021-05-10\", \"2021-05-11\", \"2021-05-12\", \"2021-05-13\", \"2021-05-14\", \"2021-05-17\", \"2021-05-18\", \"2021-05-19\", \"2021-05-20\", \"2021-05-21\", \"2021-05-24\", \"2021-05-25\", \"2021-05-26\", \"2021-05-27\", \"2021-05-28\", \"2021-06-01\", \"2021-06-02\", \"2021-06-03\", \"2021-06-04\", \"2021-06-07\", \"2021-06-08\", \"2021-06-09\", \"2021-06-10\", \"2021-06-11\", \"2021-06-14\", \"2021-06-15\", \"2021-06-16\", \"2021-06-17\", \"2021-06-18\", \"2021-06-21\", \"2021-06-22\", \"2021-06-23\", \"2021-06-24\", \"2021-06-25\", \"2021-06-28\", \"2021-06-29\", \"2021-06-30\", \"2021-07-01\", \"2021-07-02\", \"2021-07-06\", \"2021-07-07\", \"2021-07-08\", \"2021-07-09\", \"2021-07-12\", \"2021-07-13\", \"2021-07-14\", \"2021-07-15\", \"2021-07-16\", \"2021-07-19\", \"2021-07-20\", \"2021-07-21\", \"2021-07-22\", \"2021-07-23\", \"2021-07-26\", \"2021-07-27\", \"2021-07-28\", \"2021-07-29\", \"2021-07-30\", \"2021-08-02\", \"2021-08-03\", \"2021-08-04\", \"2021-08-05\", \"2021-08-06\", \"2021-08-09\", \"2021-08-10\", \"2021-08-11\", \"2021-08-12\", \"2021-08-13\", \"2021-08-16\", \"2021-08-17\", \"2021-08-18\", \"2021-08-19\", \"2021-08-20\", \"2021-08-23\", \"2021-08-24\", \"2021-08-25\", \"2021-08-26\", \"2021-08-27\", \"2021-08-30\", \"2021-08-31\", \"2021-09-01\", \"2021-09-02\", \"2021-09-03\", \"2021-09-07\", \"2021-09-08\", \"2021-09-09\", \"2021-09-10\", \"2021-09-13\", \"2021-09-14\", \"2021-09-15\", \"2021-09-16\", \"2021-09-17\", \"2021-09-20\", \"2021-09-21\", \"2021-09-22\", \"2021-09-23\", \"2021-09-24\", \"2021-09-27\", \"2021-09-28\", \"2021-09-29\", \"2021-09-30\", \"2021-10-01\", \"2021-10-04\", \"2021-10-05\", \"2021-10-06\", \"2021-10-07\", \"2021-10-08\", \"2021-10-11\", \"2021-10-12\", \"2021-10-13\", \"2021-10-14\", \"2021-10-15\", \"2021-10-18\", \"2021-10-19\", \"2021-10-20\", \"2021-10-21\", \"2021-10-22\", \"2021-10-25\", \"2021-10-26\", \"2021-10-27\", \"2021-10-28\", \"2021-10-29\", \"2021-11-01\", \"2021-11-02\", \"2021-11-03\", \"2021-11-04\", \"2021-11-05\", \"2021-11-08\", \"2021-11-09\", \"2021-11-10\", \"2021-11-11\", \"2021-11-12\", \"2021-11-15\", \"2021-11-16\", \"2021-11-17\", \"2021-11-18\", \"2021-11-19\", \"2021-11-22\", \"2021-11-23\", \"2021-11-24\", \"2021-11-26\", \"2021-11-29\", \"2021-11-30\", \"2021-12-01\", \"2021-12-02\", \"2021-12-03\", \"2021-12-06\", \"2021-12-07\", \"2021-12-08\"], \"xaxis\": \"x3\", \"y\": [\"95.2455\", \"93.186\", \"93.9749\", \"96.57\", \"96.2144\", \"95.3563\", \"77.24\", \"78.4985\", \"78.8871\", \"80.5331\", \"57.2815\", \"46.3948\", \"35.0475\", \"50.3047\", \"60.9532\", \"81.1729\", \"77.7348\", \"66.5767\", \"47.551\", \"29.2858\", \"16.2228\", \"15.7312\", \"26.1365\", \"37.5537\", \"32.5183\", \"31.8368\", \"13.9599\", \"18.7207\", \"27.2487\", \"50.5546\", \"63.4627\", \"62.0508\", \"68.4542\", \"74.6739\", \"86.7724\", \"85.6463\", \"92.3847\", \"86.7364\", \"83.7427\", \"63.1242\", \"53.2794\", \"33.8927\", \"54.6233\", \"72.1037\", \"90.138\", \"84.6841\", \"84.5004\", \"92.1118\", \"99.4942\", \"90.3432\", \"75.3722\", \"71.5253\", \"67.1009\", \"76.0612\", \"78.5453\", \"88.3547\", \"89.7866\", \"85.29\", \"89.0121\", \"93.5169\", \"95.2382\", \"92.2615\", \"91.0506\", \"93.9861\", \"91.4435\", \"79.5824\", \"73.8257\", \"77.9615\", \"81.9663\", \"81.6737\", \"62.6059\", \"39.9167\", \"20.3883\", \"24.7011\", \"51.707\", \"78.4944\", \"94.5214\", \"98.5108\", \"84.735\", \"73.6288\", \"65.3104\", \"62.6193\", \"59.3321\", \"63.4315\", \"74.7575\", \"88.7172\", \"85.9817\", \"86.1778\", \"63.3353\", \"46.8474\", \"38.9678\", \"58.1367\", \"79.1636\", \"72.7353\", \"45.6634\", \"30.122\", \"44.6564\", \"74.7317\", \"92.1973\", \"95.6688\", \"88.0546\", \"87.1988\", \"86.5773\", \"92.8014\", \"88.4214\", \"82.7238\", \"79.3329\", \"80.9037\", \"73.1093\", \"54.0943\", \"27.5613\", \"17.8345\", \"14.3503\", \"30.3577\", \"41.2865\", \"42.2623\", \"33.5588\", \"24.3307\", \"35.4015\", \"50.6619\", \"72.2707\", \"75.5948\", \"52.4502\", \"22.3178\", \"4.2963\", \"14.5754\", \"17.0166\", \"33.3291\", \"47.0857\", \"70.6834\", \"76.1591\", \"64.8722\", \"48.0438\", \"37.2746\", \"55.972\", \"78.3813\", \"98.5274\", \"99.1425\", \"95.5627\", \"95.3842\", \"84.7575\", \"83.8235\", \"72.8595\", \"73.8245\", \"77.9396\", \"89.0841\", \"98.3891\", \"97.5091\", \"96.8443\", \"95.5274\", \"92.3161\", \"86.5677\", \"73.2256\", \"49.6036\", \"30.7068\", \"32.2498\", \"46.9477\", \"71.0685\", \"77.37\", \"89.6742\", \"88.002\", \"74.4237\", \"52.1445\", \"34.9401\", \"24.9652\", \"32.7975\", \"31.7967\", \"30.3797\", \"23.9398\", \"18.4442\", \"28.2612\", \"46.4824\", \"73.1555\"], \"yaxis\": \"y3\"}, {\"mode\": \"markers+lines\", \"name\": \"Prediction Stoch SlowD\", \"type\": \"scatter\", \"x\": [\"2021-04-06\", \"2021-04-07\", \"2021-04-08\", \"2021-04-09\", \"2021-04-12\", \"2021-04-13\", \"2021-04-14\", \"2021-04-15\", \"2021-04-16\", \"2021-04-19\", \"2021-04-20\", \"2021-04-21\", \"2021-04-22\", \"2021-04-23\", \"2021-04-26\", \"2021-04-27\", \"2021-04-28\", \"2021-04-29\", \"2021-04-30\", \"2021-05-03\", \"2021-05-04\", \"2021-05-05\", \"2021-05-06\", \"2021-05-07\", \"2021-05-10\", \"2021-05-11\", \"2021-05-12\", \"2021-05-13\", \"2021-05-14\", \"2021-05-17\", \"2021-05-18\", \"2021-05-19\", \"2021-05-20\", \"2021-05-21\", \"2021-05-24\", \"2021-05-25\", \"2021-05-26\", \"2021-05-27\", \"2021-05-28\", \"2021-06-01\", \"2021-06-02\", \"2021-06-03\", \"2021-06-04\", \"2021-06-07\", \"2021-06-08\", \"2021-06-09\", \"2021-06-10\", \"2021-06-11\", \"2021-06-14\", \"2021-06-15\", \"2021-06-16\", \"2021-06-17\", \"2021-06-18\", \"2021-06-21\", \"2021-06-22\", \"2021-06-23\", \"2021-06-24\", \"2021-06-25\", \"2021-06-28\", \"2021-06-29\", \"2021-06-30\", \"2021-07-01\", \"2021-07-02\", \"2021-07-06\", \"2021-07-07\", \"2021-07-08\", \"2021-07-09\", \"2021-07-12\", \"2021-07-13\", \"2021-07-14\", \"2021-07-15\", \"2021-07-16\", \"2021-07-19\", \"2021-07-20\", \"2021-07-21\", \"2021-07-22\", \"2021-07-23\", \"2021-07-26\", \"2021-07-27\", \"2021-07-28\", \"2021-07-29\", \"2021-07-30\", \"2021-08-02\", \"2021-08-03\", \"2021-08-04\", \"2021-08-05\", \"2021-08-06\", \"2021-08-09\", \"2021-08-10\", \"2021-08-11\", \"2021-08-12\", \"2021-08-13\", \"2021-08-16\", \"2021-08-17\", \"2021-08-18\", \"2021-08-19\", \"2021-08-20\", \"2021-08-23\", \"2021-08-24\", \"2021-08-25\", \"2021-08-26\", \"2021-08-27\", \"2021-08-30\", \"2021-08-31\", \"2021-09-01\", \"2021-09-02\", \"2021-09-03\", \"2021-09-07\", \"2021-09-08\", \"2021-09-09\", \"2021-09-10\", \"2021-09-13\", \"2021-09-14\", \"2021-09-15\", \"2021-09-16\", \"2021-09-17\", \"2021-09-20\", \"2021-09-21\", \"2021-09-22\", \"2021-09-23\", \"2021-09-24\", \"2021-09-27\", \"2021-09-28\", \"2021-09-29\", \"2021-09-30\", \"2021-10-01\", \"2021-10-04\", \"2021-10-05\", \"2021-10-06\", \"2021-10-07\", \"2021-10-08\", \"2021-10-11\", \"2021-10-12\", \"2021-10-13\", \"2021-10-14\", \"2021-10-15\", \"2021-10-18\", \"2021-10-19\", \"2021-10-20\", \"2021-10-21\", \"2021-10-22\", \"2021-10-25\", \"2021-10-26\", \"2021-10-27\", \"2021-10-28\", \"2021-10-29\", \"2021-11-01\", \"2021-11-02\", \"2021-11-03\", \"2021-11-04\", \"2021-11-05\", \"2021-11-08\", \"2021-11-09\", \"2021-11-10\", \"2021-11-11\", \"2021-11-12\", \"2021-11-15\", \"2021-11-16\", \"2021-11-17\", \"2021-11-18\", \"2021-11-19\", \"2021-11-22\", \"2021-11-23\", \"2021-11-24\", \"2021-11-26\", \"2021-11-29\", \"2021-11-30\", \"2021-12-01\", \"2021-12-02\", \"2021-12-03\", \"2021-12-06\", \"2021-12-07\", \"2021-12-08\"], \"xaxis\": \"x3\", \"y\": [91.53413391113281, 90.74382019042969, 77.12238311767578, 70.281005859375, 79.94659423828125, 73.8717269897461, 57.42007827758789, 51.738197326660156, 41.468902587890625, 48.60247802734375, 62.53009033203125, 69.56592559814453, 72.19454956054688, 67.19953918457031, 51.65348815917969, 37.56433868408203, 27.032119750976562, 20.2659969329834, 25.149091720581055, 42.172630310058594, 40.62333297729492, 31.087656021118164, 24.89764976501465, 22.02536392211914, 36.15074157714844, 49.835140228271484, 53.575660705566406, 54.9549674987793, 66.03014373779297, 70.3448715209961, 75.89822387695312, 83.99566650390625, 84.69843292236328, 81.6181869506836, 78.00569152832031, 66.19745635986328, 55.01142501831055, 41.84823226928711, 53.06398010253906, 72.221923828125, 79.05418395996094, 85.2670669555664, 84.80245971679688, 88.32593536376953, 90.74718475341797, 84.67818450927734, 69.9930648803711, 69.07152557373047, 65.33240509033203, 66.05227661132812, 78.08906555175781, 83.13410949707031, 87.43714904785156, 85.21141052246094, 86.66511535644531, 89.67877960205078, 90.43955993652344, 89.38026428222656, 89.68490600585938, 90.94395446777344, 91.40474700927734, 80.61994171142578, 71.98602294921875, 76.79357147216797, 80.55194091796875, 82.55521392822266, 65.18675231933594, 44.8258056640625, 31.311336517333984, 30.29132843017578, 50.82817459106445, 73.27647399902344, 86.79730987548828, 91.1832504272461, 76.79437255859375, 66.89191436767578, 62.410438537597656, 57.2058219909668, 53.33405685424805, 60.678443908691406, 71.56974029541016, 81.43340301513672, 79.89479064941406, 77.48027801513672, 62.43400955200195, 46.300254821777344, 46.373382568359375, 56.03610610961914, 72.37384796142578, 62.23168182373047, 44.47617721557617, 36.59962463378906, 49.164608001708984, 71.34944152832031, 84.53746032714844, 89.87372589111328, 82.68098449707031, 80.58880615234375, 85.3225326538086, 87.5107421875, 87.40327453613281, 83.96874237060547, 82.14656829833984, 82.5859375, 72.73628997802734, 54.64689636230469, 37.8173942565918, 27.955730438232422, 22.429622650146484, 32.38131332397461, 49.65720748901367, 43.83628463745117, 31.919435501098633, 26.654476165771484, 33.759925842285156, 52.8576545715332, 66.30072784423828, 65.48162078857422, 49.41245651245117, 32.553707122802734, 22.393404006958008, 19.670654296875, 22.208154678344727, 31.33736801147461, 49.162071228027344, 63.20518493652344, 70.17735290527344, 59.842220306396484, 47.53939437866211, 44.38794708251953, 57.697662353515625, 75.84379577636719, 87.23748016357422, 92.04489135742188, 91.21150970458984, 90.69116973876953, 81.43687438964844, 74.99176788330078, 78.83171844482422, 74.82589721679688, 80.31494140625, 85.75448608398438, 90.38370513916016, 92.40511322021484, 92.49623107910156, 92.43888854980469, 92.04331970214844, 90.55192565917969, 76.1583251953125, 51.021549224853516, 38.77876281738281, 45.386329650878906, 50.102394104003906, 67.38640594482422, 78.72637939453125, 85.78778076171875, 89.12397003173828, 72.39555358886719, 51.708316802978516, 44.45591735839844, 31.738740921020508, 35.673851013183594, 36.40135955810547, 33.774810791015625, 31.49073028564453, 27.000019073486328, 29.963855743408203, 50.5430793762207], \"yaxis\": \"y3\"}, {\"mode\": \"markers+lines\", \"name\": \"Prediction Stoch SlowK\", \"type\": \"scatter\", \"x\": [\"2021-04-06\", \"2021-04-07\", \"2021-04-08\", \"2021-04-09\", \"2021-04-12\", \"2021-04-13\", \"2021-04-14\", \"2021-04-15\", \"2021-04-16\", \"2021-04-19\", \"2021-04-20\", \"2021-04-21\", \"2021-04-22\", \"2021-04-23\", \"2021-04-26\", \"2021-04-27\", \"2021-04-28\", \"2021-04-29\", \"2021-04-30\", \"2021-05-03\", \"2021-05-04\", \"2021-05-05\", \"2021-05-06\", \"2021-05-07\", \"2021-05-10\", \"2021-05-11\", \"2021-05-12\", \"2021-05-13\", \"2021-05-14\", \"2021-05-17\", \"2021-05-18\", \"2021-05-19\", \"2021-05-20\", \"2021-05-21\", \"2021-05-24\", \"2021-05-25\", \"2021-05-26\", \"2021-05-27\", \"2021-05-28\", \"2021-06-01\", \"2021-06-02\", \"2021-06-03\", \"2021-06-04\", \"2021-06-07\", \"2021-06-08\", \"2021-06-09\", \"2021-06-10\", \"2021-06-11\", \"2021-06-14\", \"2021-06-15\", \"2021-06-16\", \"2021-06-17\", \"2021-06-18\", \"2021-06-21\", \"2021-06-22\", \"2021-06-23\", \"2021-06-24\", \"2021-06-25\", \"2021-06-28\", \"2021-06-29\", \"2021-06-30\", \"2021-07-01\", \"2021-07-02\", \"2021-07-06\", \"2021-07-07\", \"2021-07-08\", \"2021-07-09\", \"2021-07-12\", \"2021-07-13\", \"2021-07-14\", \"2021-07-15\", \"2021-07-16\", \"2021-07-19\", \"2021-07-20\", \"2021-07-21\", \"2021-07-22\", \"2021-07-23\", \"2021-07-26\", \"2021-07-27\", \"2021-07-28\", \"2021-07-29\", \"2021-07-30\", \"2021-08-02\", \"2021-08-03\", \"2021-08-04\", \"2021-08-05\", \"2021-08-06\", \"2021-08-09\", \"2021-08-10\", \"2021-08-11\", \"2021-08-12\", \"2021-08-13\", \"2021-08-16\", \"2021-08-17\", \"2021-08-18\", \"2021-08-19\", \"2021-08-20\", \"2021-08-23\", \"2021-08-24\", \"2021-08-25\", \"2021-08-26\", \"2021-08-27\", \"2021-08-30\", \"2021-08-31\", \"2021-09-01\", \"2021-09-02\", \"2021-09-03\", \"2021-09-07\", \"2021-09-08\", \"2021-09-09\", \"2021-09-10\", \"2021-09-13\", \"2021-09-14\", \"2021-09-15\", \"2021-09-16\", \"2021-09-17\", \"2021-09-20\", \"2021-09-21\", \"2021-09-22\", \"2021-09-23\", \"2021-09-24\", \"2021-09-27\", \"2021-09-28\", \"2021-09-29\", \"2021-09-30\", \"2021-10-01\", \"2021-10-04\", \"2021-10-05\", \"2021-10-06\", \"2021-10-07\", \"2021-10-08\", \"2021-10-11\", \"2021-10-12\", \"2021-10-13\", \"2021-10-14\", \"2021-10-15\", \"2021-10-18\", \"2021-10-19\", \"2021-10-20\", \"2021-10-21\", \"2021-10-22\", \"2021-10-25\", \"2021-10-26\", \"2021-10-27\", \"2021-10-28\", \"2021-10-29\", \"2021-11-01\", \"2021-11-02\", \"2021-11-03\", \"2021-11-04\", \"2021-11-05\", \"2021-11-08\", \"2021-11-09\", \"2021-11-10\", \"2021-11-11\", \"2021-11-12\", \"2021-11-15\", \"2021-11-16\", \"2021-11-17\", \"2021-11-18\", \"2021-11-19\", \"2021-11-22\", \"2021-11-23\", \"2021-11-24\", \"2021-11-26\", \"2021-11-29\", \"2021-11-30\", \"2021-12-01\", \"2021-12-02\", \"2021-12-03\", \"2021-12-06\", \"2021-12-07\", \"2021-12-08\"], \"xaxis\": \"x3\", \"y\": [90.27887725830078, 89.78263854980469, 61.88499069213867, 70.88179016113281, 87.0936508178711, 68.6687240600586, 41.52304458618164, 49.040035247802734, 37.25632858276367, 60.89397048950195, 77.93621063232422, 76.05928802490234, 70.22019958496094, 62.4747200012207, 39.6676139831543, 26.64193344116211, 20.212499618530273, 18.018234252929688, 31.99067497253418, 59.4123649597168, 34.59844970703125, 25.533308029174805, 23.1154727935791, 23.526165008544922, 51.30271911621094, 64.56026458740234, 52.431297302246094, 55.77481460571289, 78.00126647949219, 74.14794158935547, 82.40260314941406, 86.0500259399414, 84.50740051269531, 75.69747924804688, 74.28765869140625, 53.77201461791992, 46.26294708251953, 31.98307228088379, 66.02687072753906, 87.18828582763672, 84.24674987792969, 82.89556884765625, 84.69195556640625, 90.27140808105469, 90.88162994384766, 76.1602783203125, 57.890193939208984, 72.30809020996094, 63.83987045288086, 69.54778289794922, 86.64483642578125, 87.57386016845703, 87.9342041015625, 81.08519744873047, 86.83675384521484, 90.45255279541016, 89.19219207763672, 87.89111328125, 89.39329528808594, 90.40007781982422, 90.1729736328125, 69.5384750366211, 70.03284454345703, 83.03343963623047, 84.64900970458984, 82.51596069335938, 46.68492889404297, 27.267549514770508, 22.45403480529785, 37.97066116333008, 71.97964477539062, 88.49030303955078, 93.01714324951172, 92.61518859863281, 59.335121154785156, 57.296600341796875, 63.58442306518555, 53.75474166870117, 51.15431594848633, 71.47370147705078, 81.94822692871094, 88.97721862792969, 73.86749267578125, 72.2882308959961, 47.80657196044922, 31.913694381713867, 48.29825973510742, 72.92545318603516, 85.87986755371094, 48.24399185180664, 28.83881378173828, 32.50139236450195, 65.69534301757812, 88.53777313232422, 91.69364929199219, 90.87977600097656, 72.39259338378906, 79.23443603515625, 89.15681457519531, 88.13511657714844, 84.99591064453125, 80.39698028564453, 80.04073333740234, 83.28472137451172, 63.30771255493164, 38.344844818115234, 25.116060256958008, 22.671070098876953, 20.666261672973633, 46.53823471069336, 62.94868469238281, 35.82610321044922, 24.223628997802734, 25.335250854492188, 45.793975830078125, 70.89674377441406, 76.24024963378906, 58.696014404296875, 36.62213134765625, 21.2329044342041, 16.399831771850586, 21.146623611450195, 23.714344024658203, 42.012027740478516, 66.55889129638672, 77.67725372314453, 70.76468658447266, 48.33175277709961, 36.413185119628906, 46.338104248046875, 74.0943832397461, 89.62748718261719, 92.64311981201172, 92.79874420166016, 88.18611145019531, 89.59146881103516, 71.59762573242188, 75.45989990234375, 80.5351791381836, 73.70117950439453, 83.65301513671875, 89.54169464111328, 91.0809555053711, 91.54106140136719, 91.12296295166016, 91.03711700439453, 90.48979187011719, 88.68103790283203, 64.58963012695312, 32.84749221801758, 29.7269229888916, 58.55400466918945, 62.48823165893555, 81.74576568603516, 86.35881042480469, 90.32340240478516, 89.91130065917969, 53.1722412109375, 33.821895599365234, 41.10010528564453, 27.05021858215332, 44.297386169433594, 38.903587341308594, 30.30725860595703, 31.79251480102539, 26.577678680419922, 35.112701416015625, 70.86314392089844], \"yaxis\": \"y3\"}, {\"mode\": \"markers+lines\", \"name\": \"Forecast Stoch SlowD\", \"type\": \"scatter\", \"x\": [\"2021-12-08T00:00:00\", \"2021-12-09T00:00:00\", \"2021-12-10T00:00:00\", \"2021-12-13T00:00:00\", \"2021-12-14T00:00:00\", \"2021-12-15T00:00:00\", \"2021-12-16T00:00:00\", \"2021-12-17T00:00:00\", \"2021-12-20T00:00:00\", \"2021-12-21T00:00:00\", \"2021-12-22T00:00:00\"], \"xaxis\": \"x3\", \"y\": [49.2997, 69.92065175435543, 80.57984349434376, 80.76169223370552, 73.2023530115962, 66.8932141803503, 61.94070770757199, 58.29598465980292, 57.72175492398739, 58.145428037679196, 59.22850083035231], \"yaxis\": \"y3\"}, {\"mode\": \"markers+lines\", \"name\": \"Forecast Stoch SlowK\", \"type\": \"scatter\", \"x\": [\"2021-12-08T00:00:00\", \"2021-12-09T00:00:00\", \"2021-12-10T00:00:00\", \"2021-12-13T00:00:00\", \"2021-12-14T00:00:00\", \"2021-12-15T00:00:00\", \"2021-12-16T00:00:00\", \"2021-12-17T00:00:00\", \"2021-12-20T00:00:00\", \"2021-12-21T00:00:00\", \"2021-12-22T00:00:00\"], \"xaxis\": \"x3\", \"y\": [73.1555, 86.56809547729493, 83.51848195800783, 76.8487164001465, 66.14836416625978, 61.272727047729504, 58.24471384887696, 58.50438019104005, 60.421578497314464, 61.752833139038096, 62.69071414184572], \"yaxis\": \"y3\"}, {\"line\": {\"color\": \"rgb(100, 10, 100)\", \"dash\": \"dash\", \"shape\": \"linear\"}, \"mode\": \"lines\", \"type\": \"scatter\", \"x\": [\"2020-07-28\", \"2021-12-22T00:00:00\"], \"xaxis\": \"x3\", \"y\": [70, 70], \"yaxis\": \"y3\"}, {\"line\": {\"color\": \"rgb(10, 12, 240)\", \"dash\": \"dash\", \"shape\": \"linear\"}, \"mode\": \"lines\", \"type\": \"scatter\", \"x\": [\"2020-07-28\", \"2021-12-22T00:00:00\"], \"xaxis\": \"x3\", \"y\": [50, 50], \"yaxis\": \"y3\"}, {\"line\": {\"color\": \"rgb(10, 120, 24)\", \"dash\": \"dash\", \"shape\": \"linear\"}, \"mode\": \"lines\", \"type\": \"scatter\", \"x\": [\"2020-07-28\", \"2021-12-22T00:00:00\"], \"xaxis\": \"x3\", \"y\": [30, 30], \"yaxis\": \"y3\"}, {\"type\": \"bar\", \"x\": [\"2020-07-28\", \"2020-07-29\", \"2020-07-30\", \"2020-07-31\", \"2020-08-03\", \"2020-08-04\", \"2020-08-05\", \"2020-08-06\", \"2020-08-07\", \"2020-08-10\", \"2020-08-11\", \"2020-08-12\", \"2020-08-13\", \"2020-08-14\", \"2020-08-17\", \"2020-08-18\", \"2020-08-19\", \"2020-08-20\", \"2020-08-21\", \"2020-08-24\", \"2020-08-25\", \"2020-08-26\", \"2020-08-27\", \"2020-08-28\", \"2020-08-31\", \"2020-09-01\", \"2020-09-02\", \"2020-09-03\", \"2020-09-04\", \"2020-09-08\", \"2020-09-09\", \"2020-09-10\", \"2020-09-11\", \"2020-09-14\", \"2020-09-15\", \"2020-09-16\", \"2020-09-17\", \"2020-09-18\", \"2020-09-21\", \"2020-09-22\", \"2020-09-23\", \"2020-09-24\", \"2020-09-25\", \"2020-09-28\", \"2020-09-29\", \"2020-09-30\", \"2020-10-01\", \"2020-10-02\", \"2020-10-05\", \"2020-10-06\", \"2020-10-07\", \"2020-10-08\", \"2020-10-09\", \"2020-10-12\", \"2020-10-13\", \"2020-10-14\", \"2020-10-15\", \"2020-10-16\", \"2020-10-19\", \"2020-10-20\", \"2020-10-21\", \"2020-10-22\", \"2020-10-23\", \"2020-10-26\", \"2020-10-27\", \"2020-10-28\", \"2020-10-29\", \"2020-10-30\", \"2020-11-02\", \"2020-11-03\", \"2020-11-04\", \"2020-11-05\", \"2020-11-06\", \"2020-11-09\", \"2020-11-10\", \"2020-11-11\", \"2020-11-12\", \"2020-11-13\", \"2020-11-16\", \"2020-11-17\", \"2020-11-18\", \"2020-11-19\", \"2020-11-20\", \"2020-11-23\", \"2020-11-24\", \"2020-11-25\", \"2020-11-27\", \"2020-11-30\", \"2020-12-01\", \"2020-12-02\", \"2020-12-03\", \"2020-12-04\", \"2020-12-07\", \"2020-12-08\", \"2020-12-09\", \"2020-12-10\", \"2020-12-11\", \"2020-12-14\", \"2020-12-15\", \"2020-12-16\", \"2020-12-17\", \"2020-12-18\", \"2020-12-21\", \"2020-12-22\", \"2020-12-23\", \"2020-12-24\", \"2020-12-28\", \"2020-12-29\", \"2020-12-30\", \"2020-12-31\", \"2021-01-04\", \"2021-01-05\", \"2021-01-06\", \"2021-01-07\", \"2021-01-08\", \"2021-01-11\", \"2021-01-12\", \"2021-01-13\", \"2021-01-14\", \"2021-01-15\", \"2021-01-19\", \"2021-01-20\", \"2021-01-21\", \"2021-01-22\", \"2021-01-25\", \"2021-01-26\", \"2021-01-27\", \"2021-01-28\", \"2021-01-29\", \"2021-02-01\", \"2021-02-02\", \"2021-02-03\", \"2021-02-04\", \"2021-02-05\", \"2021-02-08\", \"2021-02-09\", \"2021-02-10\", \"2021-02-11\", \"2021-02-12\", \"2021-02-16\", \"2021-02-17\", \"2021-02-18\", \"2021-02-19\", \"2021-02-22\", \"2021-02-23\", \"2021-02-24\", \"2021-02-25\", \"2021-02-26\", \"2021-03-01\", \"2021-03-02\", \"2021-03-03\", \"2021-03-04\", \"2021-03-05\", \"2021-03-08\", \"2021-03-09\", \"2021-03-10\", \"2021-03-11\", \"2021-03-12\", \"2021-03-15\", \"2021-03-16\", \"2021-03-17\", \"2021-03-18\", \"2021-03-19\", \"2021-03-22\", \"2021-03-23\", \"2021-03-24\", \"2021-03-25\", \"2021-03-26\", \"2021-03-29\", \"2021-03-30\", \"2021-03-31\", \"2021-04-01\", \"2021-04-05\"], \"xaxis\": \"x4\", \"y\": [\"-1.2087\", \"-1.2916\", \"-1.3586\", \"-0.8641\", \"-0.4109\", \"-0.1036\", \"0.1852\", \"0.3112\", \"0.5377\", \"0.4615\", \"0.1772\", \"-0.1655\", \"-0.0828\", \"-0.0481\", \"-0.0116\", \"0.1255\", \"0.256\", \"0.1121\", \"0.2723\", \"0.6282\", \"0.6259\", \"0.8166\", \"1.2204\", \"1.3042\", \"1.2876\", \"1.4312\", \"1.7417\", \"1.4571\", \"0.3432\", \"-1.2993\", \"-2.1218\", \"-2.2454\", \"-2.6845\", \"-2.8744\", \"-2.5957\", \"-2.2695\", \"-2.7573\", \"-2.687\", \"-3.0769\", \"-2.6973\", \"-2.1937\", \"-2.4381\", \"-2.1928\", \"-1.2325\", \"-0.5499\", \"-0.1228\", \"0.524\", \"0.5447\", \"0.5584\", \"0.7321\", \"0.7154\", \"0.9562\", \"1.1076\", \"1.6202\", \"2.2163\", \"2.3994\", \"1.861\", \"1.6955\", \"1.3965\", \"0.733\", \"0.2577\", \"-0.0583\", \"-0.2983\", \"-0.6177\", \"-0.8691\", \"-1.2144\", \"-1.712\", \"-1.8671\", \"-2.0479\", \"-2.0545\", \"-1.2124\", \"0.0028\", \"0.7737\", \"1.45\", \"1.0264\", \"0.7402\", \"0.8162\", \"0.7635\", \"0.719\", \"0.8102\", \"0.6995\", \"0.4333\", \"0.4025\", \"0.2846\", \"0.179\", \"0.3321\", \"0.5686\", \"0.727\", \"0.9254\", \"0.9955\", \"1.0744\", \"1.0514\", \"1.0344\", \"0.9987\", \"0.9674\", \"0.2927\", \"-0.0865\", \"-0.218\", \"-0.122\", \"-0.0127\", \"0.2009\", \"0.3476\", \"0.0838\", \"0.0865\", \"0.038\", \"-0.123\", \"-0.0201\", \"0.1169\", \"0.1604\", \"0.0536\", \"0.0826\", \"-0.3813\", \"-0.7771\", \"-0.8172\", \"-0.3899\", \"-0.2267\", \"-0.2472\", \"-0.3017\", \"-0.21\", \"-0.3284\", \"-0.4134\", \"-0.105\", \"0.378\", \"0.6346\", \"0.9557\", \"1.0642\", \"0.8704\", \"0.3046\", \"-0.1793\", \"-0.6102\", \"-0.4218\", \"-0.0468\", \"0.0225\", \"0.2397\", \"0.4412\", \"0.4712\", \"0.5722\", \"0.5185\", \"0.372\", \"0.4399\", \"0.1061\", \"-0.2995\", \"-0.3548\", \"-0.8858\", \"-1.8211\", \"-2.242\", \"-2.2552\", \"-2.5281\", \"-2.3738\", \"-1.8551\", \"-1.8918\", \"-2.3662\", \"-2.671\", \"-2.6371\", \"-2.5121\", \"-1.737\", \"-1.1684\", \"-0.8532\", \"-0.4671\", \"0.1586\", \"0.3327\", \"0.4086\", \"0.1368\", \"0.2163\", \"0.5618\", \"0.6969\", \"0.2099\", \"-0.0177\", \"0.1329\", \"0.1366\", \"0.2917\", \"0.8283\", \"1.3925\"], \"yaxis\": \"y4\"}, {\"type\": \"bar\", \"x\": [\"2021-04-06\", \"2021-04-07\", \"2021-04-08\", \"2021-04-09\", \"2021-04-12\", \"2021-04-13\", \"2021-04-14\", \"2021-04-15\", \"2021-04-16\", \"2021-04-19\", \"2021-04-20\", \"2021-04-21\", \"2021-04-22\", \"2021-04-23\", \"2021-04-26\", \"2021-04-27\", \"2021-04-28\", \"2021-04-29\", \"2021-04-30\", \"2021-05-03\", \"2021-05-04\", \"2021-05-05\", \"2021-05-06\", \"2021-05-07\", \"2021-05-10\", \"2021-05-11\", \"2021-05-12\", \"2021-05-13\", \"2021-05-14\", \"2021-05-17\", \"2021-05-18\", \"2021-05-19\", \"2021-05-20\", \"2021-05-21\", \"2021-05-24\", \"2021-05-25\", \"2021-05-26\", \"2021-05-27\", \"2021-05-28\", \"2021-06-01\", \"2021-06-02\", \"2021-06-03\", \"2021-06-04\", \"2021-06-07\", \"2021-06-08\", \"2021-06-09\", \"2021-06-10\", \"2021-06-11\", \"2021-06-14\", \"2021-06-15\", \"2021-06-16\", \"2021-06-17\", \"2021-06-18\", \"2021-06-21\", \"2021-06-22\", \"2021-06-23\", \"2021-06-24\", \"2021-06-25\", \"2021-06-28\", \"2021-06-29\", \"2021-06-30\", \"2021-07-01\", \"2021-07-02\", \"2021-07-06\", \"2021-07-07\", \"2021-07-08\", \"2021-07-09\", \"2021-07-12\", \"2021-07-13\", \"2021-07-14\", \"2021-07-15\", \"2021-07-16\", \"2021-07-19\", \"2021-07-20\", \"2021-07-21\", \"2021-07-22\", \"2021-07-23\", \"2021-07-26\", \"2021-07-27\", \"2021-07-28\", \"2021-07-29\", \"2021-07-30\", \"2021-08-02\", \"2021-08-03\", \"2021-08-04\", \"2021-08-05\", \"2021-08-06\", \"2021-08-09\", \"2021-08-10\", \"2021-08-11\", \"2021-08-12\", \"2021-08-13\", \"2021-08-16\", \"2021-08-17\", \"2021-08-18\", \"2021-08-19\", \"2021-08-20\", \"2021-08-23\", \"2021-08-24\", \"2021-08-25\", \"2021-08-26\", \"2021-08-27\", \"2021-08-30\", \"2021-08-31\", \"2021-09-01\", \"2021-09-02\", \"2021-09-03\", \"2021-09-07\", \"2021-09-08\", \"2021-09-09\", \"2021-09-10\", \"2021-09-13\", \"2021-09-14\", \"2021-09-15\", \"2021-09-16\", \"2021-09-17\", \"2021-09-20\", \"2021-09-21\", \"2021-09-22\", \"2021-09-23\", \"2021-09-24\", \"2021-09-27\", \"2021-09-28\", \"2021-09-29\", \"2021-09-30\", \"2021-10-01\", \"2021-10-04\", \"2021-10-05\", \"2021-10-06\", \"2021-10-07\", \"2021-10-08\", \"2021-10-11\", \"2021-10-12\", \"2021-10-13\", \"2021-10-14\", \"2021-10-15\", \"2021-10-18\", \"2021-10-19\", \"2021-10-20\", \"2021-10-21\", \"2021-10-22\", \"2021-10-25\", \"2021-10-26\", \"2021-10-27\", \"2021-10-28\", \"2021-10-29\", \"2021-11-01\", \"2021-11-02\", \"2021-11-03\", \"2021-11-04\", \"2021-11-05\", \"2021-11-08\", \"2021-11-09\", \"2021-11-10\", \"2021-11-11\", \"2021-11-12\", \"2021-11-15\", \"2021-11-16\", \"2021-11-17\", \"2021-11-18\", \"2021-11-19\", \"2021-11-22\", \"2021-11-23\", \"2021-11-24\", \"2021-11-26\", \"2021-11-29\", \"2021-11-30\", \"2021-12-01\", \"2021-12-02\", \"2021-12-03\", \"2021-12-06\", \"2021-12-07\", \"2021-12-08\"], \"xaxis\": \"x4\", \"y\": [\"1.9119\", \"2.1171\", \"2.4045\", \"2.3975\", \"2.4072\", \"2.4112\", \"2.432\", \"2.2026\", \"2.082\", \"1.7484\", \"1.2674\", \"0.6578\", \"0.4381\", \"0.0376\", \"-0.0184\", \"0.0452\", \"-0.0986\", \"-0.0667\", \"-0.3865\", \"-0.5143\", \"-0.9723\", \"-1.3335\", \"-1.7509\", \"-1.5981\", \"-1.5508\", \"-2.3001\", \"-2.6377\", \"-2.747\", \"-2.5107\", \"-2.106\", \"-1.693\", \"-1.8968\", \"-1.4413\", \"-0.6665\", \"-0.1998\", \"0.4164\", \"0.7678\", \"0.9598\", \"1.0676\", \"1.161\", \"1.0322\", \"0.7272\", \"0.5807\", \"0.6609\", \"0.8867\", \"0.9626\", \"0.8904\", \"0.9912\", \"1.0752\", \"1.215\", \"1.1327\", \"0.8262\", \"0.8029\", \"0.6721\", \"0.6402\", \"0.775\", \"0.9329\", \"1.0004\", \"0.978\", \"1.0539\", \"1.0924\", \"0.9718\", \"0.9601\", \"1.0336\", \"1.183\", \"0.7384\", \"0.5256\", \"0.5862\", \"0.5138\", \"0.5661\", \"0.396\", \"0.1119\", \"-0.597\", \"-0.9644\", \"-1.0235\", \"-0.8394\", \"-0.5029\", \"-0.1741\", \"0.0406\", \"-0.041\", \"-0.1594\", \"-0.4511\", \"-0.4111\", \"-0.4729\", \"-0.4355\", \"-0.342\", \"-0.2952\", \"-0.282\", \"-0.2523\", \"-0.3319\", \"-0.5597\", \"-0.5708\", \"-0.5986\", \"-0.7167\", \"-0.8487\", \"-1.2347\", \"-1.1324\", \"-0.7967\", \"-0.2478\", \"0.1357\", \"0.2994\", \"0.3073\", \"0.5114\", \"0.8191\", \"0.9742\", \"1.0487\", \"0.8319\", \"0.774\", \"0.6762\", \"0.4824\", \"0.31\", \"0.0027\", \"-0.3023\", \"-0.6531\", \"-0.8162\", \"-0.8392\", \"-1.4779\", \"-1.824\", \"-2.0034\", \"-1.7988\", \"-1.6014\", \"-1.437\", \"-1.5589\", \"-1.8484\", \"-1.9491\", \"-2.0604\", \"-2.0215\", \"-2.1878\", \"-2.1384\", \"-1.4187\", \"-0.7882\", \"-0.6136\", \"-0.4263\", \"-0.2826\", \"0.1173\", \"0.6571\", \"0.9702\", \"1.5317\", \"1.9638\", \"2.0344\", \"2.0998\", \"2.0107\", \"2.1498\", \"2.0801\", \"2.0713\", \"1.8883\", \"2.0092\", \"1.974\", \"1.9985\", \"2.1936\", \"2.5207\", \"2.459\", \"2.2827\", \"1.574\", \"0.9985\", \"0.477\", \"0.3307\", \"0.0316\", \"0.0314\", \"0.0965\", \"0.3087\", \"0.5018\", \"0.0589\", \"-0.4864\", \"-0.7879\", \"-1.0083\", \"-0.9656\", \"-0.9744\", \"-1.7772\", \"-1.8836\", \"-2.3853\", \"-2.0131\", \"-1.3799\"], \"yaxis\": \"y4\"}, {\"marker\": {\"color\": [\"black\"]}, \"type\": \"bar\", \"x\": [\"2021-12-08T00:00:00\", \"2021-12-09T00:00:00\", \"2021-12-10T00:00:00\", \"2021-12-13T00:00:00\", \"2021-12-14T00:00:00\", \"2021-12-15T00:00:00\", \"2021-12-16T00:00:00\", \"2021-12-17T00:00:00\", \"2021-12-20T00:00:00\", \"2021-12-21T00:00:00\", \"2021-12-22T00:00:00\"], \"xaxis\": \"x4\", \"y\": [-1.3799, -0.08435713095068953, -0.023519884893298364, 0.10481838747262932, 0.1881947189927099, 0.18024542008638358, 0.14850086573958374, 0.1007501017630098, 0.06002252287268617, 0.03948170965909936, 0.028732640099525236], \"yaxis\": \"y4\"}],\n",
              "                        {\"annotations\": [{\"font\": {\"size\": 16}, \"showarrow\": false, \"text\": \"<a href=\\\"https://in.tradingview.com/chart/66XmQfYy/?symbol=QQQ\\\">QQQ</a> Date:2021-12-08 Open:398.17 High:396.22 Low:399.82 Close:399.61\", \"x\": 0.5, \"xanchor\": \"center\", \"xref\": \"paper\", \"y\": 1.0, \"yanchor\": \"bottom\", \"yref\": \"paper\"}, {\"font\": {\"size\": 16}, \"showarrow\": false, \"text\": \"<a href=\\\"https://in.tradingview.com/chart/66XmQfYy/?symbol=QQQ\\\">QQQ</a> RSI(5) Date:2021-12-08 Close:64.6625 Forecast(5):62.0\", \"x\": 0.5, \"xanchor\": \"center\", \"xref\": \"paper\", \"y\": 0.625, \"yanchor\": \"bottom\", \"yref\": \"paper\"}], \"height\": 650, \"margin\": {\"b\": 20, \"l\": 20, \"r\": 20, \"t\": 20}, \"template\": {\"data\": {\"bar\": [{\"error_x\": {\"color\": \"#2a3f5f\"}, \"error_y\": {\"color\": \"#2a3f5f\"}, \"marker\": {\"line\": {\"color\": \"#E5ECF6\", \"width\": 0.5}}, \"type\": \"bar\"}], \"barpolar\": [{\"marker\": {\"line\": {\"color\": \"#E5ECF6\", \"width\": 0.5}}, \"type\": \"barpolar\"}], \"carpet\": [{\"aaxis\": {\"endlinecolor\": \"#2a3f5f\", \"gridcolor\": \"white\", \"linecolor\": \"white\", \"minorgridcolor\": \"white\", \"startlinecolor\": \"#2a3f5f\"}, \"baxis\": {\"endlinecolor\": \"#2a3f5f\", \"gridcolor\": \"white\", \"linecolor\": \"white\", \"minorgridcolor\": \"white\", \"startlinecolor\": \"#2a3f5f\"}, \"type\": \"carpet\"}], \"choropleth\": [{\"colorbar\": {\"outlinewidth\": 0, \"ticks\": \"\"}, \"type\": \"choropleth\"}], \"contour\": [{\"colorbar\": {\"outlinewidth\": 0, \"ticks\": \"\"}, \"colorscale\": [[0.0, \"#0d0887\"], [0.1111111111111111, \"#46039f\"], [0.2222222222222222, \"#7201a8\"], [0.3333333333333333, \"#9c179e\"], [0.4444444444444444, \"#bd3786\"], [0.5555555555555556, \"#d8576b\"], [0.6666666666666666, \"#ed7953\"], [0.7777777777777778, \"#fb9f3a\"], [0.8888888888888888, \"#fdca26\"], [1.0, \"#f0f921\"]], \"type\": \"contour\"}], \"contourcarpet\": [{\"colorbar\": {\"outlinewidth\": 0, \"ticks\": \"\"}, \"type\": \"contourcarpet\"}], \"heatmap\": [{\"colorbar\": {\"outlinewidth\": 0, \"ticks\": \"\"}, \"colorscale\": [[0.0, \"#0d0887\"], [0.1111111111111111, \"#46039f\"], [0.2222222222222222, \"#7201a8\"], [0.3333333333333333, \"#9c179e\"], [0.4444444444444444, \"#bd3786\"], [0.5555555555555556, \"#d8576b\"], [0.6666666666666666, \"#ed7953\"], [0.7777777777777778, \"#fb9f3a\"], [0.8888888888888888, \"#fdca26\"], [1.0, \"#f0f921\"]], \"type\": \"heatmap\"}], \"heatmapgl\": [{\"colorbar\": {\"outlinewidth\": 0, \"ticks\": \"\"}, \"colorscale\": [[0.0, \"#0d0887\"], [0.1111111111111111, \"#46039f\"], [0.2222222222222222, \"#7201a8\"], [0.3333333333333333, \"#9c179e\"], [0.4444444444444444, \"#bd3786\"], [0.5555555555555556, \"#d8576b\"], [0.6666666666666666, \"#ed7953\"], [0.7777777777777778, \"#fb9f3a\"], [0.8888888888888888, \"#fdca26\"], [1.0, \"#f0f921\"]], \"type\": \"heatmapgl\"}], \"histogram\": [{\"marker\": {\"colorbar\": {\"outlinewidth\": 0, \"ticks\": \"\"}}, \"type\": \"histogram\"}], \"histogram2d\": [{\"colorbar\": {\"outlinewidth\": 0, \"ticks\": \"\"}, \"colorscale\": [[0.0, \"#0d0887\"], [0.1111111111111111, \"#46039f\"], [0.2222222222222222, \"#7201a8\"], [0.3333333333333333, \"#9c179e\"], [0.4444444444444444, \"#bd3786\"], [0.5555555555555556, \"#d8576b\"], [0.6666666666666666, \"#ed7953\"], [0.7777777777777778, \"#fb9f3a\"], [0.8888888888888888, \"#fdca26\"], [1.0, \"#f0f921\"]], \"type\": \"histogram2d\"}], \"histogram2dcontour\": [{\"colorbar\": {\"outlinewidth\": 0, \"ticks\": \"\"}, \"colorscale\": [[0.0, \"#0d0887\"], [0.1111111111111111, \"#46039f\"], [0.2222222222222222, \"#7201a8\"], [0.3333333333333333, \"#9c179e\"], [0.4444444444444444, \"#bd3786\"], [0.5555555555555556, \"#d8576b\"], [0.6666666666666666, \"#ed7953\"], [0.7777777777777778, \"#fb9f3a\"], [0.8888888888888888, \"#fdca26\"], [1.0, \"#f0f921\"]], \"type\": \"histogram2dcontour\"}], \"mesh3d\": [{\"colorbar\": {\"outlinewidth\": 0, \"ticks\": \"\"}, \"type\": \"mesh3d\"}], \"parcoords\": [{\"line\": {\"colorbar\": {\"outlinewidth\": 0, \"ticks\": \"\"}}, \"type\": \"parcoords\"}], \"pie\": [{\"automargin\": true, \"type\": \"pie\"}], \"scatter\": [{\"marker\": {\"colorbar\": {\"outlinewidth\": 0, \"ticks\": \"\"}}, \"type\": \"scatter\"}], \"scatter3d\": [{\"line\": {\"colorbar\": {\"outlinewidth\": 0, \"ticks\": \"\"}}, \"marker\": {\"colorbar\": {\"outlinewidth\": 0, \"ticks\": \"\"}}, \"type\": \"scatter3d\"}], \"scattercarpet\": [{\"marker\": {\"colorbar\": {\"outlinewidth\": 0, \"ticks\": \"\"}}, \"type\": \"scattercarpet\"}], \"scattergeo\": [{\"marker\": {\"colorbar\": {\"outlinewidth\": 0, \"ticks\": \"\"}}, \"type\": \"scattergeo\"}], \"scattergl\": [{\"marker\": {\"colorbar\": {\"outlinewidth\": 0, \"ticks\": \"\"}}, \"type\": \"scattergl\"}], \"scattermapbox\": [{\"marker\": {\"colorbar\": {\"outlinewidth\": 0, \"ticks\": \"\"}}, \"type\": \"scattermapbox\"}], \"scatterpolar\": [{\"marker\": {\"colorbar\": {\"outlinewidth\": 0, \"ticks\": \"\"}}, \"type\": \"scatterpolar\"}], \"scatterpolargl\": [{\"marker\": {\"colorbar\": {\"outlinewidth\": 0, \"ticks\": \"\"}}, \"type\": \"scatterpolargl\"}], \"scatterternary\": [{\"marker\": {\"colorbar\": {\"outlinewidth\": 0, \"ticks\": \"\"}}, \"type\": \"scatterternary\"}], \"surface\": [{\"colorbar\": {\"outlinewidth\": 0, \"ticks\": \"\"}, \"colorscale\": [[0.0, \"#0d0887\"], [0.1111111111111111, \"#46039f\"], [0.2222222222222222, \"#7201a8\"], [0.3333333333333333, \"#9c179e\"], [0.4444444444444444, \"#bd3786\"], [0.5555555555555556, \"#d8576b\"], [0.6666666666666666, \"#ed7953\"], [0.7777777777777778, \"#fb9f3a\"], [0.8888888888888888, \"#fdca26\"], [1.0, \"#f0f921\"]], \"type\": \"surface\"}], \"table\": [{\"cells\": {\"fill\": {\"color\": \"#EBF0F8\"}, \"line\": {\"color\": \"white\"}}, \"header\": {\"fill\": {\"color\": \"#C8D4E3\"}, \"line\": {\"color\": \"white\"}}, \"type\": \"table\"}]}, \"layout\": {\"annotationdefaults\": {\"arrowcolor\": \"#2a3f5f\", \"arrowhead\": 0, \"arrowwidth\": 1}, \"coloraxis\": {\"colorbar\": {\"outlinewidth\": 0, \"ticks\": \"\"}}, \"colorscale\": {\"diverging\": [[0, \"#8e0152\"], [0.1, \"#c51b7d\"], [0.2, \"#de77ae\"], [0.3, \"#f1b6da\"], [0.4, \"#fde0ef\"], [0.5, \"#f7f7f7\"], [0.6, \"#e6f5d0\"], [0.7, \"#b8e186\"], [0.8, \"#7fbc41\"], [0.9, \"#4d9221\"], [1, \"#276419\"]], \"sequential\": [[0.0, \"#0d0887\"], [0.1111111111111111, \"#46039f\"], [0.2222222222222222, \"#7201a8\"], [0.3333333333333333, \"#9c179e\"], [0.4444444444444444, \"#bd3786\"], [0.5555555555555556, \"#d8576b\"], [0.6666666666666666, \"#ed7953\"], [0.7777777777777778, \"#fb9f3a\"], [0.8888888888888888, \"#fdca26\"], [1.0, \"#f0f921\"]], \"sequentialminus\": [[0.0, \"#0d0887\"], [0.1111111111111111, \"#46039f\"], [0.2222222222222222, \"#7201a8\"], [0.3333333333333333, \"#9c179e\"], [0.4444444444444444, \"#bd3786\"], [0.5555555555555556, \"#d8576b\"], [0.6666666666666666, \"#ed7953\"], [0.7777777777777778, \"#fb9f3a\"], [0.8888888888888888, \"#fdca26\"], [1.0, \"#f0f921\"]]}, \"colorway\": [\"#636efa\", \"#EF553B\", \"#00cc96\", \"#ab63fa\", \"#FFA15A\", \"#19d3f3\", \"#FF6692\", \"#B6E880\", \"#FF97FF\", \"#FECB52\"], \"font\": {\"color\": \"#2a3f5f\"}, \"geo\": {\"bgcolor\": \"white\", \"lakecolor\": \"white\", \"landcolor\": \"#E5ECF6\", \"showlakes\": true, \"showland\": true, \"subunitcolor\": \"white\"}, \"hoverlabel\": {\"align\": \"left\"}, \"hovermode\": \"closest\", \"mapbox\": {\"style\": \"light\"}, \"paper_bgcolor\": \"white\", \"plot_bgcolor\": \"#E5ECF6\", \"polar\": {\"angularaxis\": {\"gridcolor\": \"white\", \"linecolor\": \"white\", \"ticks\": \"\"}, \"bgcolor\": \"#E5ECF6\", \"radialaxis\": {\"gridcolor\": \"white\", \"linecolor\": \"white\", \"ticks\": \"\"}}, \"scene\": {\"xaxis\": {\"backgroundcolor\": \"#E5ECF6\", \"gridcolor\": \"white\", \"gridwidth\": 2, \"linecolor\": \"white\", \"showbackground\": true, \"ticks\": \"\", \"zerolinecolor\": \"white\"}, \"yaxis\": {\"backgroundcolor\": \"#E5ECF6\", \"gridcolor\": \"white\", \"gridwidth\": 2, \"linecolor\": \"white\", \"showbackground\": true, \"ticks\": \"\", \"zerolinecolor\": \"white\"}, \"zaxis\": {\"backgroundcolor\": \"#E5ECF6\", \"gridcolor\": \"white\", \"gridwidth\": 2, \"linecolor\": \"white\", \"showbackground\": true, \"ticks\": \"\", \"zerolinecolor\": \"white\"}}, \"shapedefaults\": {\"line\": {\"color\": \"#2a3f5f\"}}, \"ternary\": {\"aaxis\": {\"gridcolor\": \"white\", \"linecolor\": \"white\", \"ticks\": \"\"}, \"baxis\": {\"gridcolor\": \"white\", \"linecolor\": \"white\", \"ticks\": \"\"}, \"bgcolor\": \"#E5ECF6\", \"caxis\": {\"gridcolor\": \"white\", \"linecolor\": \"white\", \"ticks\": \"\"}}, \"title\": {\"x\": 0.05}, \"xaxis\": {\"automargin\": true, \"gridcolor\": \"white\", \"linecolor\": \"white\", \"ticks\": \"\", \"title\": {\"standoff\": 15}, \"zerolinecolor\": \"white\", \"zerolinewidth\": 2}, \"yaxis\": {\"automargin\": true, \"gridcolor\": \"white\", \"linecolor\": \"white\", \"ticks\": \"\", \"title\": {\"standoff\": 15}, \"zerolinecolor\": \"white\", \"zerolinewidth\": 2}}}, \"xaxis\": {\"anchor\": \"y\", \"domain\": [0.0, 1.0], \"rangeslider\": {\"visible\": false}, \"showspikes\": true, \"spikedash\": \"dash\", \"spikemode\": \"across\", \"spikesnap\": \"cursor\"}, \"xaxis2\": {\"anchor\": \"y2\", \"domain\": [0.0, 1.0], \"showspikes\": true, \"spikedash\": \"dash\", \"spikemode\": \"across\", \"spikesnap\": \"cursor\"}, \"xaxis3\": {\"anchor\": \"y3\", \"domain\": [0.0, 1.0], \"showspikes\": true, \"spikedash\": \"dash\", \"spikemode\": \"across\", \"spikesnap\": \"cursor\"}, \"xaxis4\": {\"anchor\": \"y4\", \"domain\": [0.0, 1.0], \"showspikes\": true, \"spikedash\": \"dash\", \"spikemode\": \"across\", \"spikesnap\": \"cursor\"}, \"yaxis\": {\"anchor\": \"x\", \"domain\": [0.75, 1.0], \"showspikes\": true, \"spikedash\": \"dash\", \"spikemode\": \"across\", \"spikesnap\": \"cursor\"}, \"yaxis2\": {\"anchor\": \"x2\", \"domain\": [0.5, 0.625], \"showspikes\": true, \"spikedash\": \"dash\", \"spikemode\": \"across\", \"spikesnap\": \"cursor\"}, \"yaxis3\": {\"anchor\": \"x3\", \"domain\": [0.25, 0.375], \"showspikes\": true, \"spikedash\": \"dash\", \"spikemode\": \"across\", \"spikesnap\": \"cursor\"}, \"yaxis4\": {\"anchor\": \"x4\", \"domain\": [0.0, 0.125], \"showspikes\": true, \"spikedash\": \"dash\", \"spikemode\": \"across\", \"spikesnap\": \"cursor\"}},\n",
              "                        {\"responsive\": true}\n",
              "                    ).then(function(){\n",
              "                            \n",
              "var gd = document.getElementById('c56e823f-7318-4f9e-95e4-983e20694fc9');\n",
              "var x = new MutationObserver(function (mutations, observer) {{\n",
              "        var display = window.getComputedStyle(gd).display;\n",
              "        if (!display || display === 'none') {{\n",
              "            console.log([gd, 'removed!']);\n",
              "            Plotly.purge(gd);\n",
              "            observer.disconnect();\n",
              "        }}\n",
              "}});\n",
              "\n",
              "// Listen for the removal of the full notebook cells\n",
              "var notebookContainer = gd.closest('#notebook-container');\n",
              "if (notebookContainer) {{\n",
              "    x.observe(notebookContainer, {childList: true});\n",
              "}}\n",
              "\n",
              "// Listen for the clearing of the current output cell\n",
              "var outputEl = gd.closest('.output');\n",
              "if (outputEl) {{\n",
              "    x.observe(outputEl, {childList: true});\n",
              "}}\n",
              "\n",
              "                        })\n",
              "                };\n",
              "                \n",
              "            </script>\n",
              "        </div>\n",
              "</body>\n",
              "</html>"
            ]
          },
          "metadata": {}
        },
        {
          "output_type": "stream",
          "name": "stdout",
          "text": [
            "chart folder: /content/drive/MyDrive/models/charts/2021-12-08\n"
          ]
        }
      ]
    }
  ]
}