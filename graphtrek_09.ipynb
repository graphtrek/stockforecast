{
  "nbformat": 4,
  "nbformat_minor": 0,
  "metadata": {
    "colab": {
      "name": "graphtrek_08.ipynb",
      "provenance": [],
      "include_colab_link": true
    },
    "kernelspec": {
      "name": "python3",
      "display_name": "Python 3"
    },
    "language_info": {
      "name": "python"
    }
  },
  "cells": [
    {
      "cell_type": "markdown",
      "metadata": {
        "id": "view-in-github",
        "colab_type": "text"
      },
      "source": [
        "<a href=\"https://colab.research.google.com/github/graphtrek/stockforecast/blob/main/graphtrek_09.ipynb\" target=\"_parent\"><img src=\"https://colab.research.google.com/assets/colab-badge.svg\" alt=\"Open In Colab\"/></a>"
      ]
    },
    {
      "cell_type": "code",
      "metadata": {
        "id": "sZPC3Z9u3evF"
      },
      "source": [
        "import numpy as np\n",
        "from tensorflow.keras.models import Sequential\n",
        "from tensorflow.keras.layers import LSTM\n",
        "from tensorflow.keras.optimizers import Adam\n",
        "from tensorflow.keras.losses import MAE\n",
        "from tensorflow.keras.layers import Dense, Dropout\n",
        "from tensorflow import keras\n",
        "from datetime import datetime, timedelta\n",
        "import pandas as pd\n",
        "import os, time\n",
        "from matplotlib import pyplot as plt\n",
        "from sklearn.preprocessing import StandardScaler\n",
        "import seaborn as sns\n",
        "import plotly.graph_objects as go\n",
        "import plotly.express as px\n",
        "from sklearn.preprocessing import MinMaxScaler\n",
        "from pandas.tseries.holiday import USFederalHolidayCalendar\n",
        "from pandas.tseries.offsets import CustomBusinessDay\n",
        "from keras.preprocessing.sequence import TimeseriesGenerator\n",
        "from tensorflow.keras.models import Sequential\n",
        "from tensorflow.keras.layers import LSTM\n",
        "from tensorflow.keras.optimizers import Adam\n",
        "from tensorflow.keras.losses import MAE\n",
        "from tensorflow.keras.layers import Dense, Dropout\n",
        "from tensorflow import keras\n",
        "from datetime import datetime, timedelta\n",
        "import pandas as pd\n",
        "import os, time\n",
        "from plotly.subplots import make_subplots\n",
        "from pathlib import Path"
      ],
      "execution_count": 18,
      "outputs": []
    },
    {
      "cell_type": "code",
      "metadata": {
        "id": "HKYStAEQ3mh6"
      },
      "source": [
        "ticker = \"XLF\" # QQQ, SPY, VTI JETS, XLE, XLF, XLNX, ARKK, ARKG, ARKQ, ARKF, PYPL, V\n",
        "look_back = 14 #  number of past days we want to use to predict 1 day in the future.\n",
        "max_data_size = 730 # ~2 years\n",
        "split_percent = 0.90 # use 90% of the data  for train\n",
        "INFO = 1\n",
        "DEBUG = 2\n",
        "TRACE = 3\n",
        "print_level = INFO \n",
        "indicators_model_file_path = '/content/drive/MyDrive/models/' + ticker + '_' + str(look_back) + '_indicators_08.h5'\n",
        "nr_of_features = 3\n",
        "look_forward = 1\n",
        "epochs = 420\n",
        "learning_rate=0.0042\n",
        "if look_back < 5:\n",
        "  num_prediction = look_back * 4\n",
        "else:\n",
        "  num_prediction = look_back * 2\n",
        "\n",
        "apikey = '3F4URDEKOPLFH25T'\n",
        "np.random.seed(42)"
      ],
      "execution_count": 19,
      "outputs": []
    },
    {
      "cell_type": "code",
      "metadata": {
        "id": "tPJ9HBOO3-2-",
        "colab": {
          "base_uri": "https://localhost:8080/"
        },
        "outputId": "ff55b530-02e3-4d61-c183-59534696fb80"
      },
      "source": [
        "rsi_url = 'https://www.alphavantage.co/query?function=RSI&datatype=json&symbol='+ticker+'&interval=daily&time_period='+str(look_back)+'&series_type=close&apikey=' + apikey\n",
        "print(rsi_url)\n",
        "rsi_api_response = pd.read_json(rsi_url)\n",
        "#print(rsi_api_response)\n",
        "rsi_api_data = rsi_api_response['Technical Analysis: RSI']\n",
        "#print(rsi_api_data)\n",
        "rsi_api_data = rsi_api_data.drop(\n",
        "    index=['1: Symbol','2: Indicator','3: Last Refreshed','4: Interval','5: Time Period','6: Series Type','7: Time Zone']);\n",
        "#print(rsi_api_data)\n",
        "\n",
        "rsi_data = []\n",
        "for key, value in rsi_api_data.items():\n",
        "  date = key\n",
        "  rsi = float(value.get('RSI'))\n",
        "  rsi_data.append([date,rsi])\n",
        "\n",
        "last_rsi_data =  str(rsi_data[0])\n",
        "first_rsi_data =  str(rsi_data[-1])\n",
        "print('rsi_data_length:', len(rsi_data), 'first_rsi_data:', first_rsi_data, 'last_rsi_data:', last_rsi_data)  "
      ],
      "execution_count": 20,
      "outputs": [
        {
          "output_type": "stream",
          "name": "stdout",
          "text": [
            "https://www.alphavantage.co/query?function=RSI&datatype=json&symbol=XLF&interval=daily&time_period=14&series_type=close&apikey=3F4URDEKOPLFH25T\n",
            "rsi_data_length: 5541 first_rsi_data: ['1999-11-19', 53.3465] last_rsi_data: ['2021-11-26', 39.8594]\n"
          ]
        }
      ]
    },
    {
      "cell_type": "code",
      "metadata": {
        "colab": {
          "base_uri": "https://localhost:8080/"
        },
        "id": "GmEkUmlfJFsW",
        "outputId": "62e42cd4-b060-4ffc-ff4a-445122b0c385"
      },
      "source": [
        "stoch_url = 'https://www.alphavantage.co/query?function=STOCH&symbol='+ticker+'&interval=daily&apikey=' + apikey\n",
        "print(stoch_url)\n",
        "stoch_api_response = pd.read_json(stoch_url)\n",
        "stoch_api_data = stoch_api_response['Technical Analysis: STOCH']\n",
        "#print(rsi_api_data)\n",
        "stoch_api_data = stoch_api_data.drop(\n",
        "    index=['1: Symbol','2: Indicator','3: Last Refreshed','4: Interval','5.1: FastK Period','5.2: SlowK Period','5.3: SlowK MA Type','5.4: SlowD Period','5.5: SlowD MA Type','6: Time Zone'])\n",
        "#print(stoch_api_data)\n",
        "stoch_data = []\n",
        "for key, value in stoch_api_data.items():\n",
        "  date = key\n",
        "  SlowD = float(value.get('SlowD'))\n",
        "  SlowK = float(value.get('SlowK'))\n",
        "  stoch_data.append([date,SlowD,SlowK])\n",
        "\n",
        "last_stoch_data =  str(stoch_data[0])\n",
        "first_stoch_data =  str(stoch_data[-1])\n",
        "print('stoch_data_length:', len(stoch_data), 'first_stoch_data:', first_stoch_data, 'last_stoch_data:', last_stoch_data)  "
      ],
      "execution_count": 21,
      "outputs": [
        {
          "output_type": "stream",
          "name": "stdout",
          "text": [
            "https://www.alphavantage.co/query?function=STOCH&symbol=XLF&interval=daily&apikey=3F4URDEKOPLFH25T\n",
            "stoch_data_length: 5547 first_stoch_data: ['1999-11-11', 33.4576, 14.2689] last_stoch_data: ['2021-11-26', 68.8038, 70.1495]\n"
          ]
        }
      ]
    },
    {
      "cell_type": "code",
      "metadata": {
        "colab": {
          "base_uri": "https://localhost:8080/"
        },
        "id": "gTTORjJJ22lE",
        "outputId": "d30ce5c8-4f1a-483d-e113-8464bce1516f"
      },
      "source": [
        "stock_url = 'https://www.alphavantage.co/query?function=TIME_SERIES_DAILY_ADJUSTED&symbol='+ticker+'&outputsize=full&apikey=' + apikey\n",
        "print(stock_url)\n",
        "stock_api_response = pd.read_json(stock_url)\n",
        "stock_api_data = stock_api_response['Time Series (Daily)']\n",
        "#print(stock_api_data)\n",
        "stock_api_data = stock_api_data.drop(index=['1. Information','2. Symbol','3. Last Refreshed','4. Output Size','5. Time Zone']);\n",
        "\n",
        "stock_data = []\n",
        "split_coefficient = 1\n",
        "\n",
        "for key, value in stock_api_data.items():\n",
        "  date = key\n",
        "  open = float(value.get('1. open'))\n",
        "  high = float(value.get('2. high'))\n",
        "  low = float(value.get('3. low'))\n",
        "  close = float(value.get('4. close'))\n",
        "  adjusted_close = float(value.get('5. adjusted close'))\n",
        "  volume = int(value.get('6. volume'))\n",
        "  divident = float(value.get('7. dividend amount'))\n",
        "\n",
        "  if float(value.get('8. split coefficient')) > 1:\n",
        "    split_coefficient = float(value.get('8. split coefficient'))\n",
        "    \n",
        "  open = open / split_coefficient\n",
        "  high = high /split_coefficient\n",
        "  close = close / split_coefficient\n",
        "  low = low / split_coefficient\n",
        "  \n",
        "  stock_data.append([\n",
        "      date,\n",
        "      close,\n",
        "      volume,\n",
        "      high,\n",
        "      low,\n",
        "      open,\n",
        "      divident\n",
        "      ])\n",
        "\n",
        "last_date =  str(stock_data[0][0])\n",
        "print('data length:', len(stock_data), 'last_date:', last_date)\n",
        "\n",
        "last_stock_data =  str(stock_data[0])\n",
        "first_stock_data =  str(stock_data[-1])\n",
        "print('stock_data_length:', len(stock_data), 'first_stock_data:', first_stock_data, 'last_stock_data:', last_stock_data)"
      ],
      "execution_count": 22,
      "outputs": [
        {
          "output_type": "stream",
          "name": "stdout",
          "text": [
            "https://www.alphavantage.co/query?function=TIME_SERIES_DAILY_ADJUSTED&symbol=XLF&outputsize=full&apikey=3F4URDEKOPLFH25T\n",
            "data length: 5555 last_date: 2021-11-26\n",
            "stock_data_length: 5555 first_stock_data: ['1999-11-01', 25.25, 374100, 25.67, 25.19, 25.5, 0.0] last_stock_data: ['2021-11-26', 38.77, 76474029, 39.005, 38.33, 38.84, 0.0]\n"
          ]
        }
      ]
    },
    {
      "cell_type": "code",
      "metadata": {
        "id": "GzJkdoRGuYmf"
      },
      "source": [
        "data_size = np.min([len(rsi_data), len(stoch_data), len(stock_data)])\n",
        "if max_data_size < data_size:\n",
        "  rsi_data = np.flip(rsi_data[:max_data_size],axis=0)\n",
        "  stoch_data = np.flip(stoch_data[:max_data_size],axis=0)\n",
        "  stock_data = np.flip(stock_data[:max_data_size],axis=0)\n",
        "else:\n",
        "  rsi_data = np.flip(rsi_data[:data_size],axis=0)\n",
        "  stoch_data = np.flip(stoch_data[:data_size],axis=0)\n",
        "  stock_data = np.flip(stock_data[:data_size],axis=0)\n",
        "\n",
        "dates = stock_data[:,0]\n",
        "\n",
        "rsi_array = rsi_data[:,1]\n",
        "stoch_slowD_array = stoch_data[:,1]\n",
        "stoch_slowK_array = stoch_data[:,2]\n",
        "\n",
        "indicators_data = np.append(np.expand_dims(dates, axis=1),  np.expand_dims(rsi_array, axis=1).astype(float),axis=1)\n",
        "indicators_data = np.append(indicators_data, np.expand_dims(stoch_slowD_array, axis=1),axis=1)\n",
        "indicators_data = np.append(indicators_data, np.expand_dims(stoch_slowK_array, axis=1),axis=1)\n",
        "if print_level >= DEBUG:\n",
        "  print('indicators_data',indicators_data[:5])\n",
        "\n",
        "indicators_lstm_data = np.expand_dims(rsi_array, axis=1).astype(float)\n",
        "indicators_lstm_data = np.append(indicators_lstm_data, np.expand_dims(stoch_slowD_array, axis=1),axis=1).astype(float)\n",
        "indicators_lstm_data = np.append(indicators_lstm_data, np.expand_dims(stoch_slowK_array, axis=1),axis=1).astype(float)\n",
        "if print_level >= DEBUG:\n",
        "  print('indicators_lstm_data',indicators_lstm_data[:5])"
      ],
      "execution_count": 23,
      "outputs": []
    },
    {
      "cell_type": "code",
      "metadata": {
        "id": "xHrOFKHo3ocW"
      },
      "source": [
        "stock_df = pd.DataFrame(stock_data,columns=['Date','Close','Volume','High','Low','Open','Divident'])\n",
        "stock_df['50MA'] = stock_df['Close'].rolling(50).mean()\n",
        "stock_df['100MA'] = stock_df['Close'].rolling(100).mean()\n",
        "stock_df['200MA'] = stock_df['Close'].rolling(200).mean()"
      ],
      "execution_count": 24,
      "outputs": []
    },
    {
      "cell_type": "code",
      "metadata": {
        "id": "OYTx2W6N4JIM",
        "colab": {
          "base_uri": "https://localhost:8080/"
        },
        "outputId": "e96da5e9-721b-42a4-c84e-9bd3b07a79d5"
      },
      "source": [
        "indicators_df = pd.DataFrame(indicators_data,columns=['Date','RSI','SlowD','SlowK'])\n",
        "print(indicators_df)\n",
        "split = int(split_percent*len(indicators_data))\n",
        "if len(indicators_data) - split < look_back:\n",
        "  split = look_back\n",
        "split\n",
        "\n",
        "\n",
        "indicators_df_train = indicators_df.iloc[:split]\n",
        "indicators_df_test = indicators_df.iloc[split:]\n",
        "\n",
        "indicators_lstm_train_data = indicators_lstm_data[:split]\n",
        "indicators_lstm_test_data = indicators_lstm_data[split:]"
      ],
      "execution_count": 25,
      "outputs": [
        {
          "output_type": "stream",
          "name": "stdout",
          "text": [
            "           Date      RSI    SlowD    SlowK\n",
            "0    2019-01-07  49.0768  80.9718  77.1011\n",
            "1    2019-01-08  49.3095  81.5297  84.6054\n",
            "2    2019-01-09  50.7634  81.5345   82.897\n",
            "3    2019-01-10  50.8898  83.9944  84.4808\n",
            "4    2019-01-11  51.6912  85.2034  88.2322\n",
            "..          ...      ...      ...      ...\n",
            "725  2021-11-19  38.9369  29.9559  16.2835\n",
            "726  2021-11-22  48.1377  24.7811  29.2432\n",
            "727  2021-11-23  56.1574  33.9357  56.2804\n",
            "728  2021-11-24  54.8319  55.1683  79.9814\n",
            "729  2021-11-26  39.8594  68.8038  70.1495\n",
            "\n",
            "[730 rows x 4 columns]\n"
          ]
        }
      ]
    },
    {
      "cell_type": "code",
      "metadata": {
        "id": "5oRtthul4Pyj"
      },
      "source": [
        "np.set_printoptions(formatter={'float': '{: 0.12f}'.format})\n",
        "\n",
        "indicators_scaler = MinMaxScaler(feature_range=(0, 1))\n",
        "indicators_scaler = indicators_scaler.fit(indicators_lstm_data)\n",
        "\n",
        "indicators_lstm_train_data_scaled = indicators_scaler.transform(indicators_lstm_train_data)\n",
        "if print_level >= TRACE:\n",
        "  print(indicators_lstm_train_data_scaled[:look_back+1])\n",
        "  print(indicators_lstm_train_data_scaled.shape)\n",
        "\n",
        "indicators_lstm_test_data_scaled = indicators_scaler.transform(indicators_lstm_test_data)\n",
        "if print_level >= TRACE:\n",
        "  print(indicators_lstm_test_data_scaled[:look_back+1])\n",
        "  print(indicators_lstm_test_data_scaled.shape)"
      ],
      "execution_count": 26,
      "outputs": []
    },
    {
      "cell_type": "code",
      "metadata": {
        "id": "Cmmqy0nc4Slr"
      },
      "source": [
        "indicators_train_generator = TimeseriesGenerator(indicators_lstm_train_data_scaled, indicators_lstm_train_data_scaled, sampling_rate=1, length=look_back, batch_size=64)\n",
        "\n",
        "if print_level >= TRACE:\n",
        "  print('Samples: %d' % len(indicators_train_generator))\n",
        "  # print each sample\n",
        "  for i in range(2):\n",
        "    x, y = indicators_train_generator[i]\n",
        "    print('%s => %s' % (x, y))"
      ],
      "execution_count": 27,
      "outputs": []
    },
    {
      "cell_type": "code",
      "metadata": {
        "id": "xFQnXfRp6tVP",
        "colab": {
          "base_uri": "https://localhost:8080/"
        },
        "outputId": "ad3bf4f9-f25b-4e88-9e93-0fd8cfacf77f"
      },
      "source": [
        "indicators_model = None\n",
        "try:\n",
        "  indicators_model = keras.models.load_model(indicators_model_file_path)\n",
        "  modified = os.path.getmtime(indicators_model_file_path)\n",
        "\n",
        "  print(pd.to_datetime(last_date).date() - datetime.fromtimestamp(modified).date() )\n",
        "  print('Loaded', indicators_model_file_path , ' model train date:',datetime.fromtimestamp(modified).date() , 'last date:', last_date)\n",
        "except:\n",
        "  indicators_model = None\n",
        "  print('Model ' + indicators_model_file_path + ' does not exists.')"
      ],
      "execution_count": 28,
      "outputs": [
        {
          "output_type": "stream",
          "name": "stdout",
          "text": [
            "Model /content/drive/MyDrive/models/XLF_14_indicators_08.h5 does not exists.\n"
          ]
        }
      ]
    },
    {
      "cell_type": "code",
      "metadata": {
        "id": "r59DQEiZ0u18",
        "colab": {
          "base_uri": "https://localhost:8080/",
          "height": 313
        },
        "outputId": "22037933-efef-4ab3-d2ac-edb1ddd3df6a"
      },
      "source": [
        "if indicators_model is None:\n",
        "  indicators_model = Sequential()\n",
        "  indicators_model.add(LSTM(units=42, activation='tanh', input_shape=(look_back, nr_of_features), return_sequences=True))\n",
        "  indicators_model.add(Dropout(0.2))\n",
        "  indicators_model.add(LSTM(units=42, return_sequences=True, activation=\"relu\"))\n",
        "  indicators_model.add(Dropout(0.2))\n",
        "  indicators_model.add(LSTM(units=42, return_sequences=True, activation=\"relu\"))\n",
        "  indicators_model.add(Dropout(0.2))\n",
        "  indicators_model.add(LSTM(units=42, activation=\"tanh\"))\n",
        "  indicators_model.add(Dropout(0.2))\n",
        "  indicators_model.add(Dense(nr_of_features))\n",
        "\n",
        "  indicators_model.compile(\n",
        "      loss=MAE,\n",
        "      optimizer=Adam(learning_rate=learning_rate),\n",
        "      metrics=['mae','mse']\n",
        "  )\n",
        "    \n",
        "  #model.summary()\n",
        "  print('Model ' + indicators_model_file_path + ' compiled.')\n",
        "\n",
        "  indicators_modelo = indicators_model.fit(indicators_train_generator, epochs=epochs, verbose=0 )\n",
        "  \n",
        "  indicators_model.save(indicators_model_file_path)\n",
        "  print('Saved model ' + indicators_model_file_path)\n",
        "\n",
        "  \n",
        "  plt.plot(indicators_modelo.history['loss'])\n",
        "  plt.xlabel('Epochs')\n",
        "  plt.ylabel('Loss')\n",
        "  plt.show()"
      ],
      "execution_count": 29,
      "outputs": [
        {
          "output_type": "stream",
          "name": "stdout",
          "text": [
            "Model /content/drive/MyDrive/models/XLF_14_indicators_08.h5 compiled.\n",
            "Saved model /content/drive/MyDrive/models/XLF_14_indicators_08.h5\n"
          ]
        },
        {
          "output_type": "display_data",
          "data": {
            "image/png": "[encoded data removed]",
            "text/plain": [
              "<Figure size 432x288 with 1 Axes>"
            ]
          },
          "metadata": {
            "needs_background": "light"
          }
        }
      ]
    },
    {
      "cell_type": "code",
      "metadata": {
        "colab": {
          "base_uri": "https://localhost:8080/"
        },
        "id": "xkdpY8eE4XlZ",
        "outputId": "7cdcf72a-c4f8-4216-c3ec-5c375dd310b2"
      },
      "source": [
        "indicators_test_generator = TimeseriesGenerator(indicators_lstm_test_data_scaled, indicators_lstm_test_data_scaled,sampling_rate=1, length=look_back, batch_size=look_back)\n",
        "\n",
        "print('Samples: %d' % len(indicators_test_generator))\n",
        "# print each sample\n",
        "if print_level >= TRACE:\n",
        "  for i in range(2):\n",
        "    x, y = indicators_test_generator[i]\n",
        "    print('%s => %s' % (x, y))"
      ],
      "execution_count": 30,
      "outputs": [
        {
          "output_type": "stream",
          "name": "stdout",
          "text": [
            "Samples: 5\n"
          ]
        }
      ]
    },
    {
      "cell_type": "code",
      "metadata": {
        "id": "WAS1RHA1Mn10"
      },
      "source": [
        "#Make prediction\n",
        "indicators_prediction_scaled = indicators_model.predict(indicators_test_generator)\n",
        "\n",
        "if print_level >= DEBUG:\n",
        "  np.set_printoptions(formatter={'float': '{: 0.12f}'.format})\n",
        "  print(indicators_prediction_scaled[:5])\n",
        "\n",
        "indicators_prediction = indicators_scaler.inverse_transform(indicators_prediction_scaled)\n",
        "if nr_of_features == 1:\n",
        "   rsi_prediction = indicators_prediction.reshape((-1))\n",
        "else:\n",
        "  rsi_prediction = indicators_prediction[:,0].reshape((-1))\n",
        "  stoch_slowD_prediction = indicators_prediction[:,1].reshape((-1))\n",
        "  stoch_slowK_prediction = indicators_prediction[:,2].reshape((-1))\n",
        "\n",
        "if print_level >= DEBUG:\n",
        "  np.set_printoptions(formatter={'float': '{: 0.2f}'.format})\n",
        "  print('indicators_prediction shape:',indicators_prediction.shape)\n",
        "\n",
        "  for x in range(look_back + 1):\n",
        "    print('pred:',indicators_prediction[x], 'test:', indicators_lstm_test_data[x])\n"
      ],
      "execution_count": 31,
      "outputs": []
    },
    {
      "cell_type": "code",
      "metadata": {
        "id": "ae72DYdyd0zp"
      },
      "source": [
        "def predict(num_prediction, model):\n",
        "    prediction_list = indicators_lstm_test_data_scaled[-look_back:]\n",
        "    #print('prediction_list',prediction_list)\n",
        "    for _ in range(num_prediction):\n",
        "        x = prediction_list[-look_back:]\n",
        "        #print(x)\n",
        "        x = x.reshape((1, look_back, nr_of_features))\n",
        "        out = model.predict(x)\n",
        "        #print(x,out) \n",
        "        prediction_list = np.append(prediction_list, out, axis=0)\n",
        "    prediction_list = prediction_list[look_back-1:]\n",
        "        \n",
        "    return prediction_list\n",
        "    \n",
        "def predict_dates(last_date,num_prediction):\n",
        "    us_bd = CustomBusinessDay(calendar=USFederalHolidayCalendar())\n",
        "    prediction_dates = pd.date_range(last_date, periods=num_prediction+1,freq=us_bd).tolist()\n",
        "    return prediction_dates\n",
        "\n",
        "indicators_forecast_scaled = predict(num_prediction, indicators_model)\n",
        "#print(forecast_scaled)\n",
        "indicators_forecast_dates = predict_dates(indicators_df['Date'].values[-1],num_prediction)\n",
        "\n",
        "indicators_forecast = indicators_scaler.inverse_transform(indicators_forecast_scaled.reshape((-1,nr_of_features)))\n",
        "if nr_of_features == 1:\n",
        "   rsi_forecast = indicators_forecast.reshape((-1))\n",
        "else:\n",
        "  rsi_forecast = indicators_forecast[:,0].reshape((-1))\n",
        "  stoch_SlowD_forecast = indicators_forecast[:,1].reshape((-1))\n",
        "  stoch_SlowK_forecast = indicators_forecast[:,2].reshape((-1))\n",
        "\n",
        "if print_level >= DEBUG:\n",
        "  print('indicators_forecast:',indicators_forecast)\n",
        "  print('rsi_forecast:',rsi_forecast)"
      ],
      "execution_count": 32,
      "outputs": []
    },
    {
      "cell_type": "code",
      "metadata": {
        "colab": {
          "base_uri": "https://localhost:8080/",
          "height": 684
        },
        "id": "dnqEqJioguwy",
        "outputId": "bb0dbe0a-76c7-412e-cab2-df2d2d8b1e86"
      },
      "source": [
        "chart_days = len(indicators_df_test) * 2\n",
        "\n",
        "#'Date','Close','Volume','High','Low','Open','Divident'\n",
        "open_price =  str(stock_data[-1][5])\n",
        "low_price =  str(stock_data[-1][3])\n",
        "high_price =  str(stock_data[-1][4])\n",
        "close_price =  str(stock_data[-1][1])\n",
        "rsi_forecast_mean = np.round(np.mean(rsi_forecast))\n",
        "\n",
        "tradingview_link = '<a href=\"https://in.tradingview.com/chart/66XmQfYy/?symbol=' + ticker +'\">' + ticker +'</a>'\n",
        "stock_title = tradingview_link + ' Date:' + last_date + ' Open:' + open_price + ' High:' + high_price + ' Low:' + low_price + ' Close:' + close_price\n",
        "indicators_title = tradingview_link + ' RSI('+ str(look_back)+ ') Date:' + last_date + ' Close:' + indicators_df['RSI'].iloc[-1] + ' Forecast('+str(look_back)+'):' + str(rsi_forecast_mean)\n",
        "\n",
        "fig = make_subplots(rows=3, cols=1, row_heights=[0.4, 0.3, 0.3], subplot_titles=(stock_title, indicators_title))\n",
        "\n",
        "go.Layout(\n",
        "    title = ticker + ' Date:' + last_date + ' Open:' + open_price + ' High:' + high_price + ' Low:' + low_price + ' Close:' + close_price,\n",
        "    xaxis = {'title' : \"Dates\"},\n",
        "    yaxis = {'title' : \"Close Price ($)\"},\n",
        "    height = 450\n",
        ")\n",
        "\n",
        "trace1 = go.Candlestick(\n",
        "    x = stock_df.tail(chart_days)['Date'],\n",
        "    open = stock_df.tail(chart_days)['Open'],\n",
        "    high = stock_df.tail(chart_days)['High'],\n",
        "    low = stock_df.tail(chart_days)['Low'],\n",
        "    close = stock_df.tail(chart_days)['Close'],\n",
        "    name = ticker + ' Price'\n",
        ")\n",
        "\n",
        "trace2 = go.Scatter(\n",
        "    x = stock_df.tail(chart_days)['Date'],\n",
        "    y = stock_df.tail(chart_days)['50MA'],\n",
        "    mode='lines',\n",
        "    name ='50MA'\n",
        ")\n",
        "\n",
        "trace3 = go.Scatter(\n",
        "    x = stock_df.tail(chart_days)['Date'],\n",
        "    y = stock_df.tail(chart_days)['100MA'],\n",
        "    mode='lines',\n",
        "    name ='100MA'\n",
        ")\n",
        "\n",
        "trace4 = go.Scatter(\n",
        "    x = stock_df.tail(chart_days)['Date'],\n",
        "    y = stock_df.tail(chart_days)['200MA'],\n",
        "    mode='lines',\n",
        "    name ='200MA'\n",
        ")\n",
        "\n",
        "fig.add_trace(trace1,row=1, col=1)\n",
        "fig.add_trace(trace2,row=1, col=1)\n",
        "fig.add_trace(trace3,row=1, col=1)\n",
        "fig.add_trace(trace4,row=1, col=1)\n",
        "\n",
        "trace_rsi_train = go.Scatter(\n",
        "  x = indicators_df_train.tail(len(indicators_df_test))['Date'],\n",
        "  y = indicators_df_train.tail(len(indicators_df_test))['RSI'],\n",
        "  mode='lines',\n",
        "  name ='RSI'\n",
        ")\n",
        "\n",
        "trace_rsi_test = go.Scatter(\n",
        "  x = indicators_df_test['Date'],\n",
        "  y = indicators_df_test['RSI'],\n",
        "  mode='lines',\n",
        "  name ='Test'\n",
        ")\n",
        "\n",
        "trace_rsi_prediction = go.Scatter(\n",
        "    x = indicators_df_test['Date'],\n",
        "    y = rsi_prediction,\n",
        "    mode='markers+lines',\n",
        "    name ='Prediction'\n",
        ")\n",
        "\n",
        "trace_rsi_forecast = go.Scatter(\n",
        "    x = indicators_forecast_dates,\n",
        "    y = rsi_forecast,\n",
        "    mode='markers+lines',\n",
        "    name ='Forecast'\n",
        ")\n",
        "\n",
        "fig.add_trace(trace_rsi_train,row=2, col=1)\n",
        "fig.add_trace(trace_rsi_test,row=2, col=1)\n",
        "fig.add_trace(trace_rsi_prediction,row=2, col=1)\n",
        "fig.add_trace(trace_rsi_forecast,row=2, col=1)\n",
        "\n",
        "fig.add_trace(go.Scatter(\n",
        "        x = [indicators_df_train.tail(len(indicators_df_test))['Date'].min(), np.max(indicators_forecast_dates)],\n",
        "        y = [70, 70],\n",
        "        mode = \"lines\",\n",
        "        line = dict(shape = 'linear', color = 'rgb(100, 10, 100)', dash = 'dash')\n",
        "    ),row=2, col=1)\n",
        "\n",
        "fig.add_trace(go.Scatter(\n",
        "        x = [indicators_df_train.tail(len(indicators_df_test))['Date'].min(), np.max(indicators_forecast_dates)],\n",
        "        y = [50, 50],\n",
        "        mode = \"lines\",\n",
        "        line = dict(shape = 'linear', color = 'rgb(10, 12, 240)', dash = 'dash')\n",
        "    ),row=2, col=1)\n",
        "\n",
        "fig.add_trace(go.Scatter(\n",
        "        x = [indicators_df_train.tail(len(indicators_df_test))['Date'].min(), np.max(indicators_forecast_dates)],\n",
        "        y = [30, 30],\n",
        "        mode = \"lines\",\n",
        "        line = dict(shape = 'linear', color = 'rgb(10, 120, 24)', dash = 'dash')\n",
        "    ),row=2, col=1)\n",
        "\n",
        "\n",
        "trace_stoch_SlowK_train = go.Scatter(\n",
        "  x = indicators_df_train.tail(len(indicators_df_test))['Date'],\n",
        "  y = indicators_df_train.tail(len(indicators_df_test))['SlowK'],\n",
        "  mode='lines',\n",
        "  name ='Train Stoch SlowK'\n",
        ")\n",
        "\n",
        "trace_stoch_SlowD_train = go.Scatter(\n",
        "  x = indicators_df_train.tail(len(indicators_df_test))['Date'],\n",
        "  y = indicators_df_train.tail(len(indicators_df_test))['SlowD'],\n",
        "  mode='lines',\n",
        "  name ='Train Stoch SlowD'\n",
        ")\n",
        "\n",
        "trace_stoch_SlowD_test = go.Scatter(\n",
        "  x = indicators_df_test['Date'],\n",
        "  y = indicators_df_test['SlowD'],\n",
        "  mode='lines',\n",
        "  name ='Test Stoch SlowD'\n",
        ")\n",
        "\n",
        "trace_stoch_SlowK_test = go.Scatter(\n",
        "  x = indicators_df_test['Date'],\n",
        "  y = indicators_df_test['SlowK'],\n",
        "  mode='lines',\n",
        "  name ='Test Stoch SlowK'\n",
        ")\n",
        "\n",
        "trace_stoch_SlowD_prediction = go.Scatter(\n",
        "    x = indicators_df_test['Date'],\n",
        "    y = stoch_slowD_prediction,\n",
        "    mode='markers+lines',\n",
        "    name ='Prediction Stoch SlowD'\n",
        ")\n",
        "\n",
        "trace_stoch_SlowK_prediction = go.Scatter(\n",
        "    x = indicators_df_test['Date'],\n",
        "    y = stoch_slowK_prediction,\n",
        "    mode='markers+lines',\n",
        "    name ='Prediction Stoch SlowK'\n",
        ")\n",
        "\n",
        "trace_stoch_SlowD_forecast = go.Scatter(\n",
        "    x = indicators_forecast_dates,\n",
        "    y = stoch_SlowD_forecast,\n",
        "    mode='markers+lines',\n",
        "    name ='Forecast Stoch SlowD'\n",
        ")\n",
        "\n",
        "trace_stoch_SlowK_forecast = go.Scatter(\n",
        "    x = indicators_forecast_dates,\n",
        "    y = stoch_SlowK_forecast,\n",
        "    mode='markers+lines',\n",
        "    name ='Forecast Stoch SlowK'\n",
        ")\n",
        "\n",
        "fig.add_trace(trace_stoch_SlowK_train, row=3,col=1 )\n",
        "fig.add_trace(trace_stoch_SlowD_train, row=3,col=1 )\n",
        "fig.add_trace(trace_stoch_SlowD_test, row=3,col=1 )\n",
        "fig.add_trace(trace_stoch_SlowK_test, row=3,col=1 )\n",
        "fig.add_trace(trace_stoch_SlowD_prediction, row=3,col=1 )\n",
        "fig.add_trace(trace_stoch_SlowK_prediction, row=3,col=1 )\n",
        "fig.add_trace(trace_stoch_SlowD_forecast, row=3,col=1 )\n",
        "fig.add_trace(trace_stoch_SlowK_forecast, row=3,col=1 )\n",
        "\n",
        "fig.add_trace(go.Scatter(\n",
        "        x = [indicators_df_train.tail(len(indicators_df_test))['Date'].min(), np.max(indicators_forecast_dates)],\n",
        "        y = [70, 70],\n",
        "        mode = \"lines\",\n",
        "        line = dict(shape = 'linear', color = 'rgb(100, 10, 100)', dash = 'dash')\n",
        "    ),row=3, col=1)\n",
        "\n",
        "fig.add_trace(go.Scatter(\n",
        "        x = [indicators_df_train.tail(len(indicators_df_test))['Date'].min(), np.max(indicators_forecast_dates)],\n",
        "        y = [50, 50],\n",
        "        mode = \"lines\",\n",
        "        line = dict(shape = 'linear', color = 'rgb(10, 12, 240)', dash = 'dash')\n",
        "    ),row=3, col=1)\n",
        "\n",
        "fig.add_trace(go.Scatter(\n",
        "        x = [indicators_df_train.tail(len(indicators_df_test))['Date'].min(), np.max(indicators_forecast_dates)],\n",
        "        y = [30, 30],\n",
        "        mode = \"lines\",\n",
        "        line = dict(shape = 'linear', color = 'rgb(10, 120, 24)', dash = 'dash')\n",
        "    ),row=3, col=1)\n",
        "\n",
        "fig.update_yaxes(showspikes=True, spikemode='across', spikesnap='cursor',spikedash='dash')\n",
        "fig.update_xaxes(showspikes=True, spikemode='across', spikesnap='cursor', spikedash='dash')\n",
        "fig.update_layout(xaxis_rangeslider_visible=False,height=650)\n",
        "\n",
        "fig.show()\n",
        "folder='/content/drive/MyDrive/models/charts/'+ last_date\n",
        "Path(folder).mkdir(parents=True, exist_ok=True)\n",
        "print('chart folder:', folder)\n",
        "fig.write_html(folder + '/' + ticker + '_' + str(look_back) + '_08_inidicators_forecast.html')"
      ],
      "execution_count": 33,
      "outputs": [
        {
          "output_type": "display_data",
          "data": {
            "text/html": [
              "<html>\n",
              "<head><meta charset=\"utf-8\" /></head>\n",
              "<body>\n",
              "    <div>\n",
              "            <script src=\"https://cdnjs.cloudflare.com/ajax/libs/mathjax/2.7.5/MathJax.js?config=TeX-AMS-MML_SVG\"></script><script type=\"text/javascript\">if (window.MathJax) {MathJax.Hub.Config({SVG: {font: \"STIX-Web\"}});}</script>\n",
              "                <script type=\"text/javascript\">window.PlotlyConfig = {MathJaxConfig: 'local'};</script>\n",
              "        <script src=\"https://cdn.plot.ly/plotly-latest.min.js\"></script>    \n",
              "            <div id=\"7ca4d5d2-f946-41b8-88e2-b239b3528426\" class=\"plotly-graph-div\" style=\"height:650px; width:100%;\"></div>\n",
              "            <script type=\"text/javascript\">\n",
              "                \n",
              "                    window.PLOTLYENV=window.PLOTLYENV || {};\n",
              "                    \n",
              "                if (document.getElementById(\"7ca4d5d2-f946-41b8-88e2-b239b3528426\")) {\n",
              "                    Plotly.newPlot(\n",
              "                        '7ca4d5d2-f946-41b8-88e2-b239b3528426',\n",
              "                        [{\"close\": [\"36.44\", \"36.73\", \"37.03\", \"37.58\", \"37.78\", \"37.75\", \"37.08\", \"36.7\", \"37.29\", \"37.88\", \"37.95\", \"37.42\", \"37.19\", \"37.21\", \"37.58\", \"37.76\", \"37.38\", \"37.49\", \"37.92\", \"37.99\", \"38.22\", \"38.28\", \"38.37\", \"38.47\", \"38.22\", \"38.12\", \"37.76\", \"37.32\", \"37.56\", \"37.17\", \"37.24\", \"37.2\", \"36.1\", \"35.23\", \"35.91\", \"35.97\", \"36.04\", \"36.49\", \"36.93\", \"36.66\", \"36.53\", \"36.69\", \"36.98\", \"36.94\", \"36.36\", \"36.41\", \"35.68\", \"36.71\", \"37.07\", \"36.67\", \"36.5\", \"36.62\", \"36.12\", \"35.11\", \"35.98\", \"36.6\", \"36.2\", \"36.26\", \"36.47\", \"36.46\", \"36.41\", \"36.81\", \"36.52\", \"36.53\", \"36.94\", \"36.63\", \"37.11\", \"37.86\", \"37.96\", \"38.36\", \"38.8\", \"38.87\", \"38.58\", \"38.48\", \"38.21\", \"37.74\", \"37.46\", \"37.69\", \"38.0\", \"38.23\", \"38.68\", \"38.49\", \"39.0\", \"38.45\", \"38.4\", \"38.18\", \"38.31\", \"38.07\", \"37.84\", \"37.75\", \"37.86\", \"37.58\", \"38.01\", \"37.5\", \"37.86\", \"37.75\", \"37.58\", \"36.55\", \"36.5\", \"37.11\", \"38.02\", \"38.22\", \"38.74\", \"38.1\", \"38.13\", \"37.53\", \"38.15\", \"37.82\", \"38.56\", \"38.6\", \"38.83\", \"39.02\", \"38.63\", \"38.51\", \"38.29\", \"38.93\", \"39.51\", \"39.52\", \"39.91\", \"40.23\", \"40.06\", \"40.62\", \"40.57\", \"40.6\", \"39.93\", \"40.42\", \"40.26\", \"40.28\", \"40.38\", \"40.53\", \"40.0\", \"40.02\", \"40.24\", \"40.02\", \"39.95\", \"40.06\", \"40.15\", \"40.15\", \"40.11\", \"39.65\", \"39.45\", \"39.02\", \"39.57\", \"40.19\", \"40.1\", \"38.77\"], \"high\": [\"36.64\", \"36.73\", \"37.17\", \"37.59\", \"37.79\", \"38.26\", \"37.7099\", \"37.51\", \"37.515\", \"37.975\", \"37.99\", \"38.05\", \"37.21\", \"37.465\", \"37.78\", \"37.85\", \"38.1\", \"37.66\", \"38.02\", \"38.09\", \"38.48\", \"38.38\", \"38.6\", \"38.5\", \"38.53\", \"38.24\", \"38.02\", \"38.18\", \"37.575\", \"37.545\", \"37.43\", \"37.45\", \"37.41\", \"35.7408\", \"35.93\", \"36.11\", \"36.21\", \"36.58\", \"37.025\", \"36.89\", \"37.045\", \"36.77\", \"37.0\", \"37.02\", \"36.87\", \"36.495\", \"36.04\", \"36.7599\", \"37.14\", \"37.01\", \"36.93\", \"36.85\", \"36.81\", \"35.61\", \"36.22\", \"36.78\", \"36.56\", \"36.65\", \"36.54\", \"36.62\", \"36.64\", \"36.9661\", \"36.98\", \"37.19\", \"36.99\", \"37.0181\", \"37.11\", \"37.93\", \"38.135\", \"38.47\", \"38.8099\", \"38.92\", \"38.95\", \"38.52\", \"38.5\", \"38.33\", \"37.74\", \"37.75\", \"38.16\", \"38.32\", \"38.92\", \"38.9\", \"39.01\", \"39.04\", \"38.69\", \"38.45\", \"38.445\", \"38.32\", \"38.2\", \"37.93\", \"38.22\", \"38.11\", \"38.065\", \"38.28\", \"37.95\", \"38.19\", \"37.935\", \"36.685\", \"36.915\", \"37.37\", \"38.2\", \"38.355\", \"38.85\", \"38.92\", \"38.3\", \"38.36\", \"38.41\", \"38.59\", \"38.75\", \"38.63\", \"39.24\", \"39.1557\", \"39.4\", \"38.765\", \"38.54\", \"38.94\", \"39.71\", \"39.7499\", \"39.91\", \"40.23\", \"40.3099\", \"40.6879\", \"40.77\", \"40.86\", \"40.68\", \"40.44\", \"40.545\", \"40.63\", \"40.5\", \"40.68\", \"40.48\", \"40.49\", \"40.535\", \"40.155\", \"40.2\", \"40.19\", \"40.16\", \"40.36\", \"40.35\", \"40.05\", \"39.765\", \"39.25\", \"39.96\", \"40.22\", \"40.26\", \"39.005\"], \"low\": [\"36.3\", \"36.04\", \"36.84\", \"36.96\", \"37.06\", \"37.72\", \"36.935\", \"36.55\", \"36.54\", \"37.46\", \"37.61\", \"37.4\", \"36.59\", \"36.95\", \"37.34\", \"37.55\", \"37.33\", \"37.22\", \"37.609\", \"37.71\", \"38.115\", \"38.07\", \"38.04\", \"38.13\", \"38.15\", \"37.73\", \"37.66\", \"37.29\", \"37.38\", \"36.95\", \"37.0\", \"36.74\", \"35.99\", \"35.18\", \"35.38\", \"35.63\", \"35.95\", \"36.08\", \"36.465\", \"36.45\", \"36.43\", \"36.41\", \"36.68\", \"36.7901\", \"36.12\", \"36.06\", \"35.51\", \"36.09\", \"36.33\", \"36.535\", \"36.1\", \"36.14\", \"36.04\", \"34.9\", \"35.0\", \"36.24\", \"36.045\", \"36.155\", \"36.17\", \"36.02\", \"36.1619\", \"36.49\", \"36.43\", \"36.48\", \"36.12\", \"36.4326\", \"36.85\", \"37.45\", \"37.6\", \"37.885\", \"38.29\", \"38.6\", \"38.49\", \"37.995\", \"37.8337\", \"37.7101\", \"37.215\", \"37.32\", \"37.88\", \"38.04\", \"38.25\", \"38.45\", \"38.53\", \"38.43\", \"38.26\", \"38.05\", \"38.16\", \"37.98\", \"37.84\", \"37.55\", \"37.67\", \"37.57\", \"37.74\", \"37.375\", \"37.44\", \"37.58\", \"37.48\", \"36.03\", \"36.41\", \"36.88\", \"37.41\", \"37.935\", \"38.49\", \"38.0409\", \"37.95\", \"37.52\", \"37.49\", \"37.755\", \"37.955\", \"37.93\", \"38.78\", \"38.69\", \"38.61\", \"38.41\", \"37.74\", \"38.35\", \"39.18\", \"39.32\", \"39.55\", \"39.73\", \"39.855\", \"40.21\", \"40.465\", \"40.54\", \"39.92\", \"40.0649\", \"40.18\", \"40.12\", \"40.16\", \"40.17\", \"39.69\", \"39.89\", \"40.141\", \"39.7643\", \"39.85\", \"39.84\", \"39.79\", \"40.07\", \"40.0\", \"39.54\", \"39.265\", \"38.715\", \"39.22\", \"39.66\", \"39.945\", \"38.33\"], \"name\": \"XLF Price\", \"open\": [\"36.57\", \"36.28\", \"36.84\", \"37.18\", \"37.15\", \"37.98\", \"37.37\", \"37.37\", \"36.56\", \"37.5\", \"37.76\", \"37.92\", \"36.99\", \"37.25\", \"37.36\", \"37.74\", \"37.81\", \"37.52\", \"37.83\", \"38.09\", \"38.37\", \"38.34\", \"38.16\", \"38.42\", \"38.53\", \"38.01\", \"37.97\", \"38.08\", \"37.39\", \"37.49\", \"37.18\", \"37.12\", \"37.39\", \"35.62\", \"35.44\", \"35.99\", \"36.0\", \"36.25\", \"36.68\", \"36.86\", \"36.85\", \"36.42\", \"36.87\", \"36.98\", \"36.85\", \"36.14\", \"35.83\", \"36.2\", \"36.49\", \"36.95\", \"36.69\", \"36.14\", \"36.81\", \"35.42\", \"35.07\", \"36.27\", \"36.47\", \"36.55\", \"36.19\", \"36.19\", \"36.59\", \"36.65\", \"36.71\", \"36.77\", \"36.66\", \"36.59\", \"36.86\", \"37.46\", \"37.81\", \"37.93\", \"38.47\", \"38.84\", \"38.9\", \"38.33\", \"38.22\", \"38.06\", \"37.33\", \"37.46\", \"37.88\", \"38.07\", \"38.33\", \"38.85\", \"38.54\", \"39.02\", \"38.42\", \"38.43\", \"38.27\", \"38.24\", \"38.2\", \"37.75\", \"37.7\", \"38.07\", \"37.85\", \"38.14\", \"37.48\", \"38.0\", \"37.7\", \"36.59\", \"36.78\", \"36.96\", \"37.47\", \"37.99\", \"38.56\", \"38.73\", \"38.22\", \"38.35\", \"37.63\", \"38.09\", \"38.1\", \"38.21\", \"39.0\", \"38.87\", \"39.11\", \"38.58\", \"38.5\", \"38.72\", \"39.31\", \"39.43\", \"39.7\", \"39.84\", \"40.22\", \"40.25\", \"40.72\", \"40.67\", \"40.5\", \"40.09\", \"40.47\", \"40.54\", \"40.27\", \"40.25\", \"40.38\", \"40.32\", \"40.27\", \"40.03\", \"39.98\", \"40.01\", \"40.12\", \"40.26\", \"40.2\", \"40.05\", \"39.69\", \"39.11\", \"39.54\", \"39.83\", \"40.11\", \"38.84\"], \"type\": \"candlestick\", \"x\": [\"2021-05-03\", \"2021-05-04\", \"2021-05-05\", \"2021-05-06\", \"2021-05-07\", \"2021-05-10\", \"2021-05-11\", \"2021-05-12\", \"2021-05-13\", \"2021-05-14\", \"2021-05-17\", \"2021-05-18\", \"2021-05-19\", \"2021-05-20\", \"2021-05-21\", \"2021-05-24\", \"2021-05-25\", \"2021-05-26\", \"2021-05-27\", \"2021-05-28\", \"2021-06-01\", \"2021-06-02\", \"2021-06-03\", \"2021-06-04\", \"2021-06-07\", \"2021-06-08\", \"2021-06-09\", \"2021-06-10\", \"2021-06-11\", \"2021-06-14\", \"2021-06-15\", \"2021-06-16\", \"2021-06-17\", \"2021-06-18\", \"2021-06-21\", \"2021-06-22\", \"2021-06-23\", \"2021-06-24\", \"2021-06-25\", \"2021-06-28\", \"2021-06-29\", \"2021-06-30\", \"2021-07-01\", \"2021-07-02\", \"2021-07-06\", \"2021-07-07\", \"2021-07-08\", \"2021-07-09\", \"2021-07-12\", \"2021-07-13\", \"2021-07-14\", \"2021-07-15\", \"2021-07-16\", \"2021-07-19\", \"2021-07-20\", \"2021-07-21\", \"2021-07-22\", \"2021-07-23\", \"2021-07-26\", \"2021-07-27\", \"2021-07-28\", \"2021-07-29\", \"2021-07-30\", \"2021-08-02\", \"2021-08-03\", \"2021-08-04\", \"2021-08-05\", \"2021-08-06\", \"2021-08-09\", \"2021-08-10\", \"2021-08-11\", \"2021-08-12\", \"2021-08-13\", \"2021-08-16\", \"2021-08-17\", \"2021-08-18\", \"2021-08-19\", \"2021-08-20\", \"2021-08-23\", \"2021-08-24\", \"2021-08-25\", \"2021-08-26\", \"2021-08-27\", \"2021-08-30\", \"2021-08-31\", \"2021-09-01\", \"2021-09-02\", \"2021-09-03\", \"2021-09-07\", \"2021-09-08\", \"2021-09-09\", \"2021-09-10\", \"2021-09-13\", \"2021-09-14\", \"2021-09-15\", \"2021-09-16\", \"2021-09-17\", \"2021-09-20\", \"2021-09-21\", \"2021-09-22\", \"2021-09-23\", \"2021-09-24\", \"2021-09-27\", \"2021-09-28\", \"2021-09-29\", \"2021-09-30\", \"2021-10-01\", \"2021-10-04\", \"2021-10-05\", \"2021-10-06\", \"2021-10-07\", \"2021-10-08\", \"2021-10-11\", \"2021-10-12\", \"2021-10-13\", \"2021-10-14\", \"2021-10-15\", \"2021-10-18\", \"2021-10-19\", \"2021-10-20\", \"2021-10-21\", \"2021-10-22\", \"2021-10-25\", \"2021-10-26\", \"2021-10-27\", \"2021-10-28\", \"2021-10-29\", \"2021-11-01\", \"2021-11-02\", \"2021-11-03\", \"2021-11-04\", \"2021-11-05\", \"2021-11-08\", \"2021-11-09\", \"2021-11-10\", \"2021-11-11\", \"2021-11-12\", \"2021-11-15\", \"2021-11-16\", \"2021-11-17\", \"2021-11-18\", \"2021-11-19\", \"2021-11-22\", \"2021-11-23\", \"2021-11-24\", \"2021-11-26\"], \"xaxis\": \"x\", \"yaxis\": \"y\"}, {\"mode\": \"lines\", \"name\": \"50MA\", \"type\": \"scatter\", \"x\": [\"2021-05-03\", \"2021-05-04\", \"2021-05-05\", \"2021-05-06\", \"2021-05-07\", \"2021-05-10\", \"2021-05-11\", \"2021-05-12\", \"2021-05-13\", \"2021-05-14\", \"2021-05-17\", \"2021-05-18\", \"2021-05-19\", \"2021-05-20\", \"2021-05-21\", \"2021-05-24\", \"2021-05-25\", \"2021-05-26\", \"2021-05-27\", \"2021-05-28\", \"2021-06-01\", \"2021-06-02\", \"2021-06-03\", \"2021-06-04\", \"2021-06-07\", \"2021-06-08\", \"2021-06-09\", \"2021-06-10\", \"2021-06-11\", \"2021-06-14\", \"2021-06-15\", \"2021-06-16\", \"2021-06-17\", \"2021-06-18\", \"2021-06-21\", \"2021-06-22\", \"2021-06-23\", \"2021-06-24\", \"2021-06-25\", \"2021-06-28\", \"2021-06-29\", \"2021-06-30\", \"2021-07-01\", \"2021-07-02\", \"2021-07-06\", \"2021-07-07\", \"2021-07-08\", \"2021-07-09\", \"2021-07-12\", \"2021-07-13\", \"2021-07-14\", \"2021-07-15\", \"2021-07-16\", \"2021-07-19\", \"2021-07-20\", \"2021-07-21\", \"2021-07-22\", \"2021-07-23\", \"2021-07-26\", \"2021-07-27\", \"2021-07-28\", \"2021-07-29\", \"2021-07-30\", \"2021-08-02\", \"2021-08-03\", \"2021-08-04\", \"2021-08-05\", \"2021-08-06\", \"2021-08-09\", \"2021-08-10\", \"2021-08-11\", \"2021-08-12\", \"2021-08-13\", \"2021-08-16\", \"2021-08-17\", \"2021-08-18\", \"2021-08-19\", \"2021-08-20\", \"2021-08-23\", \"2021-08-24\", \"2021-08-25\", \"2021-08-26\", \"2021-08-27\", \"2021-08-30\", \"2021-08-31\", \"2021-09-01\", \"2021-09-02\", \"2021-09-03\", \"2021-09-07\", \"2021-09-08\", \"2021-09-09\", \"2021-09-10\", \"2021-09-13\", \"2021-09-14\", \"2021-09-15\", \"2021-09-16\", \"2021-09-17\", \"2021-09-20\", \"2021-09-21\", \"2021-09-22\", \"2021-09-23\", \"2021-09-24\", \"2021-09-27\", \"2021-09-28\", \"2021-09-29\", \"2021-09-30\", \"2021-10-01\", \"2021-10-04\", \"2021-10-05\", \"2021-10-06\", \"2021-10-07\", \"2021-10-08\", \"2021-10-11\", \"2021-10-12\", \"2021-10-13\", \"2021-10-14\", \"2021-10-15\", \"2021-10-18\", \"2021-10-19\", \"2021-10-20\", \"2021-10-21\", \"2021-10-22\", \"2021-10-25\", \"2021-10-26\", \"2021-10-27\", \"2021-10-28\", \"2021-10-29\", \"2021-11-01\", \"2021-11-02\", \"2021-11-03\", \"2021-11-04\", \"2021-11-05\", \"2021-11-08\", \"2021-11-09\", \"2021-11-10\", \"2021-11-11\", \"2021-11-12\", \"2021-11-15\", \"2021-11-16\", \"2021-11-17\", \"2021-11-18\", \"2021-11-19\", \"2021-11-22\", \"2021-11-23\", \"2021-11-24\", \"2021-11-26\"], \"xaxis\": \"x\", \"y\": [34.44139999999999, 34.52179999999999, 34.604199999999985, 34.68479999999999, 34.78159999999998, 34.890399999999985, 34.96559999999999, 35.03559999999999, 35.11219999999999, 35.20819999999999, 35.292999999999985, 35.35859999999999, 35.42579999999999, 35.47959999999999, 35.542799999999986, 35.60259999999999, 35.65879999999999, 35.72439999999999, 35.79399999999999, 35.861399999999996, 35.941399999999994, 36.03439999999999, 36.13859999999999, 36.24239999999999, 36.32999999999999, 36.404999999999994, 36.47879999999999, 36.538999999999994, 36.609199999999994, 36.66319999999999, 36.71319999999999, 36.76379999999999, 36.788999999999994, 36.79659999999999, 36.81179999999999, 36.825199999999995, 36.846599999999995, 36.87279999999999, 36.90839999999999, 36.93359999999999, 36.95819999999999, 36.999199999999995, 37.03639999999999, 37.0806, 37.100199999999994, 37.117999999999995, 37.11559999999999, 37.13099999999999, 37.14079999999999, 37.148999999999994, 37.1502, 37.147999999999996, 37.12979999999999, 37.08039999999999, 37.04439999999999, 37.02139999999999, 37.00379999999999, 36.99499999999999, 36.97859999999999, 36.95019999999999, 36.91939999999999, 36.90719999999999, 36.893799999999985, 36.88019999999999, 36.86739999999999, 36.84479999999999, 36.83939999999998, 36.84679999999999, 36.847599999999986, 36.85499999999998, 36.86659999999998, 36.87839999999998, 36.88259999999998, 36.88279999999998, 36.88259999999998, 36.87499999999998, 36.868999999999986, 36.87639999999998, 36.88519999999998, 36.906399999999984, 36.93519999999999, 36.960999999999984, 37.018999999999984, 37.08339999999999, 37.13319999999999, 37.17739999999999, 37.222799999999985, 37.25439999999999, 37.27259999999998, 37.29439999999998, 37.320999999999984, 37.33879999999998, 37.35939999999998, 37.370599999999975, 37.400599999999976, 37.42739999999998, 37.465399999999974, 37.46219999999997, 37.45079999999997, 37.459599999999966, 37.48999999999997, 37.52199999999997, 37.574399999999976, 37.63419999999997, 37.67719999999998, 37.69579999999998, 37.73479999999998, 37.76599999999998, 37.80779999999997, 37.85059999999997, 37.89899999999997, 37.94319999999997, 37.98539999999997, 38.02499999999997, 38.05199999999997, 38.09799999999997, 38.14599999999997, 38.17919999999997, 38.218199999999975, 38.25559999999998, 38.28079999999998, 38.315799999999975, 38.355599999999974, 38.397999999999975, 38.43239999999997, 38.485999999999976, 38.54199999999997, 38.59379999999997, 38.641399999999976, 38.687399999999975, 38.71379999999997, 38.74439999999997, 38.76919999999998, 38.800599999999974, 38.83159999999997, 38.86919999999997, 38.90599999999997, 38.94759999999997, 38.992999999999974, 39.03099999999998, 39.06279999999998, 39.09159999999998, 39.12279999999998, 39.17659999999998, 39.22139999999998, 39.241799999999984], \"yaxis\": \"y\"}, {\"mode\": \"lines\", \"name\": \"100MA\", \"type\": \"scatter\", \"x\": [\"2021-05-03\", \"2021-05-04\", \"2021-05-05\", \"2021-05-06\", \"2021-05-07\", \"2021-05-10\", \"2021-05-11\", \"2021-05-12\", \"2021-05-13\", \"2021-05-14\", \"2021-05-17\", \"2021-05-18\", \"2021-05-19\", \"2021-05-20\", \"2021-05-21\", \"2021-05-24\", \"2021-05-25\", \"2021-05-26\", \"2021-05-27\", \"2021-05-28\", \"2021-06-01\", \"2021-06-02\", \"2021-06-03\", \"2021-06-04\", \"2021-06-07\", \"2021-06-08\", \"2021-06-09\", \"2021-06-10\", \"2021-06-11\", \"2021-06-14\", \"2021-06-15\", \"2021-06-16\", \"2021-06-17\", \"2021-06-18\", \"2021-06-21\", \"2021-06-22\", \"2021-06-23\", \"2021-06-24\", \"2021-06-25\", \"2021-06-28\", \"2021-06-29\", \"2021-06-30\", \"2021-07-01\", \"2021-07-02\", \"2021-07-06\", \"2021-07-07\", \"2021-07-08\", \"2021-07-09\", \"2021-07-12\", \"2021-07-13\", \"2021-07-14\", \"2021-07-15\", \"2021-07-16\", \"2021-07-19\", \"2021-07-20\", \"2021-07-21\", \"2021-07-22\", \"2021-07-23\", \"2021-07-26\", \"2021-07-27\", \"2021-07-28\", \"2021-07-29\", \"2021-07-30\", \"2021-08-02\", \"2021-08-03\", \"2021-08-04\", \"2021-08-05\", \"2021-08-06\", \"2021-08-09\", \"2021-08-10\", \"2021-08-11\", \"2021-08-12\", \"2021-08-13\", \"2021-08-16\", \"2021-08-17\", \"2021-08-18\", \"2021-08-19\", \"2021-08-20\", \"2021-08-23\", \"2021-08-24\", \"2021-08-25\", \"2021-08-26\", \"2021-08-27\", \"2021-08-30\", \"2021-08-31\", \"2021-09-01\", \"2021-09-02\", \"2021-09-03\", \"2021-09-07\", \"2021-09-08\", \"2021-09-09\", \"2021-09-10\", \"2021-09-13\", \"2021-09-14\", \"2021-09-15\", \"2021-09-16\", \"2021-09-17\", \"2021-09-20\", \"2021-09-21\", \"2021-09-22\", \"2021-09-23\", \"2021-09-24\", \"2021-09-27\", \"2021-09-28\", \"2021-09-29\", \"2021-09-30\", \"2021-10-01\", \"2021-10-04\", \"2021-10-05\", \"2021-10-06\", \"2021-10-07\", \"2021-10-08\", \"2021-10-11\", \"2021-10-12\", \"2021-10-13\", \"2021-10-14\", \"2021-10-15\", \"2021-10-18\", \"2021-10-19\", \"2021-10-20\", \"2021-10-21\", \"2021-10-22\", \"2021-10-25\", \"2021-10-26\", \"2021-10-27\", \"2021-10-28\", \"2021-10-29\", \"2021-11-01\", \"2021-11-02\", \"2021-11-03\", \"2021-11-04\", \"2021-11-05\", \"2021-11-08\", \"2021-11-09\", \"2021-11-10\", \"2021-11-11\", \"2021-11-12\", \"2021-11-15\", \"2021-11-16\", \"2021-11-17\", \"2021-11-18\", \"2021-11-19\", \"2021-11-22\", \"2021-11-23\", \"2021-11-24\", \"2021-11-26\"], \"xaxis\": \"x\", \"y\": [32.24790000000001, 32.32750000000001, 32.410800000000016, 32.49910000000001, 32.592300000000016, 32.68850000000001, 32.77320000000001, 32.85360000000001, 32.93910000000001, 33.033000000000015, 33.12530000000002, 33.215100000000014, 33.29790000000002, 33.38050000000002, 33.46540000000002, 33.55310000000002, 33.63570000000002, 33.71580000000002, 33.80420000000002, 33.892000000000024, 33.96920000000002, 34.04260000000002, 34.11710000000002, 34.191600000000015, 34.26040000000001, 34.32840000000001, 34.39140000000001, 34.45520000000001, 34.520600000000016, 34.58340000000001, 34.65020000000001, 34.71880000000001, 34.77860000000001, 34.83210000000001, 34.90120000000001, 34.965500000000006, 35.03640000000001, 35.108000000000004, 35.1769, 35.241400000000006, 35.297900000000006, 35.355900000000005, 35.412800000000004, 35.46920000000001, 35.519800000000004, 35.57190000000001, 35.6135, 35.660000000000004, 35.70850000000001, 35.754900000000006, 35.79580000000001, 35.834900000000005, 35.867000000000004, 35.882600000000004, 35.913000000000004, 35.95590000000001, 35.984700000000004, 36.0153, 36.0454, 36.07920000000001, 36.1062, 36.13290000000001, 36.159800000000004, 36.1799, 36.20510000000001, 36.22370000000001, 36.249100000000006, 36.28560000000001, 36.320800000000006, 36.35820000000001, 36.40400000000002, 36.45640000000001, 36.51060000000001, 36.56260000000001, 36.60630000000001, 36.64000000000001, 36.67390000000001, 36.70770000000001, 36.74720000000001, 36.78480000000001, 36.82420000000001, 36.86240000000001, 36.904, 36.940000000000005, 36.972500000000004, 37.0013, 37.0347, 37.06360000000001, 37.090500000000006, 37.114000000000004, 37.1396, 37.169000000000004, 37.19790000000001, 37.22560000000001, 37.250400000000006, 37.27270000000001, 37.29050000000001, 37.296600000000005, 37.29580000000001, 37.304300000000005, 37.320100000000004, 37.33500000000001, 37.3521, 37.3573, 37.3608, 37.3586, 37.3693, 37.380500000000005, 37.39320000000001, 37.400400000000005, 37.409200000000006, 37.425200000000004, 37.439600000000006, 37.452600000000004, 37.459700000000005, 37.4714, 37.492700000000006, 37.513000000000005, 37.532900000000005, 37.55530000000001, 37.57370000000001, 37.597100000000005, 37.61910000000001, 37.64040000000001, 37.657500000000006, 37.68050000000001, 37.70550000000001, 37.73510000000001, 37.763300000000015, 37.796900000000015, 37.824500000000015, 37.85270000000002, 37.894100000000016, 37.942000000000014, 37.98240000000001, 38.02330000000002, 38.06440000000002, 38.10100000000002, 38.132800000000024, 38.16270000000003, 38.191900000000025, 38.215200000000024, 38.241100000000024, 38.27360000000002, 38.31100000000002, 38.33460000000002], \"yaxis\": \"y\"}, {\"mode\": \"lines\", \"name\": \"200MA\", \"type\": \"scatter\", \"x\": [\"2021-05-03\", \"2021-05-04\", \"2021-05-05\", \"2021-05-06\", \"2021-05-07\", \"2021-05-10\", \"2021-05-11\", \"2021-05-12\", \"2021-05-13\", \"2021-05-14\", \"2021-05-17\", \"2021-05-18\", \"2021-05-19\", \"2021-05-20\", \"2021-05-21\", \"2021-05-24\", \"2021-05-25\", \"2021-05-26\", \"2021-05-27\", \"2021-05-28\", \"2021-06-01\", \"2021-06-02\", \"2021-06-03\", \"2021-06-04\", \"2021-06-07\", \"2021-06-08\", \"2021-06-09\", \"2021-06-10\", \"2021-06-11\", \"2021-06-14\", \"2021-06-15\", \"2021-06-16\", \"2021-06-17\", \"2021-06-18\", \"2021-06-21\", \"2021-06-22\", \"2021-06-23\", \"2021-06-24\", \"2021-06-25\", \"2021-06-28\", \"2021-06-29\", \"2021-06-30\", \"2021-07-01\", \"2021-07-02\", \"2021-07-06\", \"2021-07-07\", \"2021-07-08\", \"2021-07-09\", \"2021-07-12\", \"2021-07-13\", \"2021-07-14\", \"2021-07-15\", \"2021-07-16\", \"2021-07-19\", \"2021-07-20\", \"2021-07-21\", \"2021-07-22\", \"2021-07-23\", \"2021-07-26\", \"2021-07-27\", \"2021-07-28\", \"2021-07-29\", \"2021-07-30\", \"2021-08-02\", \"2021-08-03\", \"2021-08-04\", \"2021-08-05\", \"2021-08-06\", \"2021-08-09\", \"2021-08-10\", \"2021-08-11\", \"2021-08-12\", \"2021-08-13\", \"2021-08-16\", \"2021-08-17\", \"2021-08-18\", \"2021-08-19\", \"2021-08-20\", \"2021-08-23\", \"2021-08-24\", \"2021-08-25\", \"2021-08-26\", \"2021-08-27\", \"2021-08-30\", \"2021-08-31\", \"2021-09-01\", \"2021-09-02\", \"2021-09-03\", \"2021-09-07\", \"2021-09-08\", \"2021-09-09\", \"2021-09-10\", \"2021-09-13\", \"2021-09-14\", \"2021-09-15\", \"2021-09-16\", \"2021-09-17\", \"2021-09-20\", \"2021-09-21\", \"2021-09-22\", \"2021-09-23\", \"2021-09-24\", \"2021-09-27\", \"2021-09-28\", \"2021-09-29\", \"2021-09-30\", \"2021-10-01\", \"2021-10-04\", \"2021-10-05\", \"2021-10-06\", \"2021-10-07\", \"2021-10-08\", \"2021-10-11\", \"2021-10-12\", \"2021-10-13\", \"2021-10-14\", \"2021-10-15\", \"2021-10-18\", \"2021-10-19\", \"2021-10-20\", \"2021-10-21\", \"2021-10-22\", \"2021-10-25\", \"2021-10-26\", \"2021-10-27\", \"2021-10-28\", \"2021-10-29\", \"2021-11-01\", \"2021-11-02\", \"2021-11-03\", \"2021-11-04\", \"2021-11-05\", \"2021-11-08\", \"2021-11-09\", \"2021-11-10\", \"2021-11-11\", \"2021-11-12\", \"2021-11-15\", \"2021-11-16\", \"2021-11-17\", \"2021-11-18\", \"2021-11-19\", \"2021-11-22\", \"2021-11-23\", \"2021-11-24\", \"2021-11-26\"], \"xaxis\": \"x\", \"y\": [28.737100000000012, 28.801000000000013, 28.86695000000001, 28.93330000000001, 29.000650000000004, 29.067750000000004, 29.131800000000002, 29.194950000000002, 29.261350000000004, 29.328450000000004, 29.3981, 29.46505, 29.530499999999996, 29.596549999999997, 29.662799999999997, 29.73, 29.7927, 29.855049999999995, 29.918099999999995, 29.981849999999994, 30.047549999999998, 30.113049999999994, 30.181099999999994, 30.25044999999999, 30.318599999999993, 30.387399999999992, 30.454649999999994, 30.51679999999999, 30.57979999999999, 30.641449999999992, 30.701349999999987, 30.760549999999988, 30.81574999999999, 30.866249999999987, 30.918349999999986, 30.972699999999985, 31.026449999999986, 31.085699999999985, 31.145899999999983, 31.206499999999984, 31.26559999999998, 31.323799999999977, 31.385149999999975, 31.444899999999976, 31.503049999999977, 31.561699999999973, 31.620449999999973, 31.685349999999975, 31.754699999999975, 31.821799999999975, 31.886849999999978, 31.949699999999975, 32.01154999999997, 32.06674999999998, 32.12609999999997, 32.187599999999975, 32.24509999999997, 32.30414999999998, 32.36219999999998, 32.41849999999998, 32.47439999999998, 32.53089999999998, 32.588399999999986, 32.64714999999998, 32.70699999999998, 32.76519999999998, 32.82769999999998, 32.89294999999998, 32.95934999999998, 33.02529999999997, 33.09304999999998, 33.16399999999997, 33.235749999999975, 33.31009999999998, 33.382199999999976, 33.45159999999998, 33.51734999999997, 33.58154999999997, 33.64874999999997, 33.714099999999966, 33.78269999999997, 33.840099999999964, 33.89934999999997, 33.95639999999997, 34.015449999999966, 34.07119999999997, 34.124599999999965, 34.176999999999964, 34.22954999999997, 34.28119999999997, 34.334599999999966, 34.38404999999997, 34.43079999999997, 34.47549999999997, 34.522449999999964, 34.57179999999996, 34.61814999999996, 34.65779999999996, 34.69714999999996, 34.737799999999964, 34.78399999999996, 34.83124999999996, 34.881449999999965, 34.92819999999997, 34.97654999999997, 35.023549999999965, 35.071249999999964, 35.11704999999996, 35.166149999999966, 35.21669999999997, 35.26724999999997, 35.32014999999997, 35.36874999999997, 35.41654999999997, 35.46254999999997, 35.51224999999997, 35.56419999999998, 35.61439999999998, 35.66854999999998, 35.72364999999998, 35.77144999999998, 35.81984999999998, 35.868099999999984, 35.91599999999998, 35.95894999999998, 36.004449999999984, 36.04844999999998, 36.09514999999998, 36.14194999999998, 36.19014999999998, 36.23734999999998, 36.28574999999998, 36.33634999999998, 36.38704999999998, 36.44179999999998, 36.494399999999985, 36.55039999999998, 36.60449999999998, 36.65484999999998, 36.70204999999998, 36.74489999999997, 36.78554999999997, 36.826949999999975, 36.87139999999997, 36.91539999999997, 36.953249999999976], \"yaxis\": \"y\"}, {\"mode\": \"lines\", \"name\": \"RSI\", \"type\": \"scatter\", \"x\": [\"2021-05-03\", \"2021-05-04\", \"2021-05-05\", \"2021-05-06\", \"2021-05-07\", \"2021-05-10\", \"2021-05-11\", \"2021-05-12\", \"2021-05-13\", \"2021-05-14\", \"2021-05-17\", \"2021-05-18\", \"2021-05-19\", \"2021-05-20\", \"2021-05-21\", \"2021-05-24\", \"2021-05-25\", \"2021-05-26\", \"2021-05-27\", \"2021-05-28\", \"2021-06-01\", \"2021-06-02\", \"2021-06-03\", \"2021-06-04\", \"2021-06-07\", \"2021-06-08\", \"2021-06-09\", \"2021-06-10\", \"2021-06-11\", \"2021-06-14\", \"2021-06-15\", \"2021-06-16\", \"2021-06-17\", \"2021-06-18\", \"2021-06-21\", \"2021-06-22\", \"2021-06-23\", \"2021-06-24\", \"2021-06-25\", \"2021-06-28\", \"2021-06-29\", \"2021-06-30\", \"2021-07-01\", \"2021-07-02\", \"2021-07-06\", \"2021-07-07\", \"2021-07-08\", \"2021-07-09\", \"2021-07-12\", \"2021-07-13\", \"2021-07-14\", \"2021-07-15\", \"2021-07-16\", \"2021-07-19\", \"2021-07-20\", \"2021-07-21\", \"2021-07-22\", \"2021-07-23\", \"2021-07-26\", \"2021-07-27\", \"2021-07-28\", \"2021-07-29\", \"2021-07-30\", \"2021-08-02\", \"2021-08-03\", \"2021-08-04\", \"2021-08-05\", \"2021-08-06\", \"2021-08-09\", \"2021-08-10\", \"2021-08-11\", \"2021-08-12\", \"2021-08-13\"], \"xaxis\": \"x2\", \"y\": [\"66.1771\", \"68.4232\", \"70.5984\", \"74.1183\", \"75.2774\", \"74.7368\", \"63.728\", \"58.4677\", \"63.5047\", \"67.7207\", \"68.1902\", \"60.9602\", \"58.0822\", \"58.2667\", \"61.6314\", \"63.1864\", \"57.8556\", \"58.9356\", \"62.9344\", \"63.5565\", \"65.5996\", \"66.1331\", \"66.9606\", \"67.8992\", \"63.0749\", \"61.2017\", \"54.8827\", \"48.3165\", \"51.7103\", \"46.3806\", \"47.428\", \"46.8646\", \"34.6693\", \"28.3792\", \"39.5095\", \"40.2448\", \"41.1435\", \"46.6943\", \"51.5098\", \"48.608\", \"47.2284\", \"49.1416\", \"52.5028\", \"51.9924\", \"45.1399\", \"45.8031\", \"38.488\", \"50.5003\", \"53.8896\", \"49.8087\", \"48.1402\", \"49.428\", \"44.4725\", \"36.5097\", \"45.553\", \"50.9184\", \"47.6556\", \"48.1918\", \"50.1181\", \"50.0227\", \"49.5153\", \"53.5726\", \"50.4095\", \"50.518\", \"54.8768\", \"51.2041\", \"56.103\", \"62.447\", \"63.2104\", \"66.1728\", \"69.1186\", \"69.5725\", \"65.2904\"], \"yaxis\": \"y2\"}, {\"mode\": \"lines\", \"name\": \"Test\", \"type\": \"scatter\", \"x\": [\"2021-08-16\", \"2021-08-17\", \"2021-08-18\", \"2021-08-19\", \"2021-08-20\", \"2021-08-23\", \"2021-08-24\", \"2021-08-25\", \"2021-08-26\", \"2021-08-27\", \"2021-08-30\", \"2021-08-31\", \"2021-09-01\", \"2021-09-02\", \"2021-09-03\", \"2021-09-07\", \"2021-09-08\", \"2021-09-09\", \"2021-09-10\", \"2021-09-13\", \"2021-09-14\", \"2021-09-15\", \"2021-09-16\", \"2021-09-17\", \"2021-09-20\", \"2021-09-21\", \"2021-09-22\", \"2021-09-23\", \"2021-09-24\", \"2021-09-27\", \"2021-09-28\", \"2021-09-29\", \"2021-09-30\", \"2021-10-01\", \"2021-10-04\", \"2021-10-05\", \"2021-10-06\", \"2021-10-07\", \"2021-10-08\", \"2021-10-11\", \"2021-10-12\", \"2021-10-13\", \"2021-10-14\", \"2021-10-15\", \"2021-10-18\", \"2021-10-19\", \"2021-10-20\", \"2021-10-21\", \"2021-10-22\", \"2021-10-25\", \"2021-10-26\", \"2021-10-27\", \"2021-10-28\", \"2021-10-29\", \"2021-11-01\", \"2021-11-02\", \"2021-11-03\", \"2021-11-04\", \"2021-11-05\", \"2021-11-08\", \"2021-11-09\", \"2021-11-10\", \"2021-11-11\", \"2021-11-12\", \"2021-11-15\", \"2021-11-16\", \"2021-11-17\", \"2021-11-18\", \"2021-11-19\", \"2021-11-22\", \"2021-11-23\", \"2021-11-24\", \"2021-11-26\"], \"xaxis\": \"x2\", \"y\": [\"63.8314\", \"59.9371\", \"53.7855\", \"50.4627\", \"53.0296\", \"56.3154\", \"58.6278\", \"62.7792\", \"60.0398\", \"64.5157\", \"57.0893\", \"56.4531\", \"53.6216\", \"55.0561\", \"51.8665\", \"48.9404\", \"47.8039\", \"49.352\", \"45.6412\", \"51.6533\", \"45.2596\", \"49.9675\", \"48.5923\", \"46.464\", \"37.4461\", \"36.9987\", \"45.5474\", \"55.2933\", \"57.1102\", \"61.4922\", \"54.1582\", \"54.4326\", \"48.2174\", \"54.0553\", \"50.7741\", \"57.0674\", \"57.3845\", \"59.2486\", \"60.7751\", \"56.1277\", \"54.7407\", \"52.1941\", \"58.2752\", \"62.8832\", \"62.9591\", \"65.8907\", \"68.1202\", \"65.6647\", \"69.5576\", \"68.8075\", \"69.0233\", \"59.1745\", \"63.299\", \"61.1274\", \"61.3061\", \"62.2407\", \"63.6588\", \"55.6992\", \"55.9232\", \"58.4138\", \"55.0631\", \"54.0017\", \"55.4548\", \"56.6612\", \"56.6612\", \"55.8811\", \"47.7413\", \"44.6931\", \"38.9369\", \"48.1377\", \"56.1574\", \"54.8319\", \"39.8594\"], \"yaxis\": \"y2\"}, {\"mode\": \"markers+lines\", \"name\": \"Prediction\", \"type\": \"scatter\", \"x\": [\"2021-08-16\", \"2021-08-17\", \"2021-08-18\", \"2021-08-19\", \"2021-08-20\", \"2021-08-23\", \"2021-08-24\", \"2021-08-25\", \"2021-08-26\", \"2021-08-27\", \"2021-08-30\", \"2021-08-31\", \"2021-09-01\", \"2021-09-02\", \"2021-09-03\", \"2021-09-07\", \"2021-09-08\", \"2021-09-09\", \"2021-09-10\", \"2021-09-13\", \"2021-09-14\", \"2021-09-15\", \"2021-09-16\", \"2021-09-17\", \"2021-09-20\", \"2021-09-21\", \"2021-09-22\", \"2021-09-23\", \"2021-09-24\", \"2021-09-27\", \"2021-09-28\", \"2021-09-29\", \"2021-09-30\", \"2021-10-01\", \"2021-10-04\", \"2021-10-05\", \"2021-10-06\", \"2021-10-07\", \"2021-10-08\", \"2021-10-11\", \"2021-10-12\", \"2021-10-13\", \"2021-10-14\", \"2021-10-15\", \"2021-10-18\", \"2021-10-19\", \"2021-10-20\", \"2021-10-21\", \"2021-10-22\", \"2021-10-25\", \"2021-10-26\", \"2021-10-27\", \"2021-10-28\", \"2021-10-29\", \"2021-11-01\", \"2021-11-02\", \"2021-11-03\", \"2021-11-04\", \"2021-11-05\", \"2021-11-08\", \"2021-11-09\", \"2021-11-10\", \"2021-11-11\", \"2021-11-12\", \"2021-11-15\", \"2021-11-16\", \"2021-11-17\", \"2021-11-18\", \"2021-11-19\", \"2021-11-22\", \"2021-11-23\", \"2021-11-24\", \"2021-11-26\"], \"xaxis\": \"x2\", \"y\": [52.83139419555664, 50.77537536621094, 49.440433502197266, 45.82611846923828, 47.96586608886719, 49.4720573425293, 52.15079879760742, 47.86880111694336, 48.64217758178711, 50.10666275024414, 50.12984848022461, 46.62836456298828, 42.40349578857422, 47.58486557006836, 49.87022018432617, 52.609291076660156, 57.640506744384766, 52.18594741821289, 54.25716781616211, 52.53641128540039, 53.93143081665039, 52.89204788208008, 56.71373748779297, 60.54219055175781, 59.60474395751953, 60.681861877441406, 60.618743896484375, 55.854286193847656, 56.62061309814453, 62.737709045410156, 66.00621795654297, 66.41708374023438, 65.59420776367188, 68.29436492919922, 67.5630874633789, 69.66851043701172, 69.6165771484375, 68.94044494628906, 61.32361602783203, 63.33629608154297, 64.74480438232422, 61.47255325317383, 59.43479537963867, 63.410030364990234, 57.4204216003418, 56.466915130615234, 60.88673400878906, 58.14830017089844, 53.90407943725586, 56.120689392089844, 58.37052917480469, 55.44557189941406, 54.36243438720703, 49.162109375, 45.53695297241211, 44.85353469848633, 49.8187370300293, 52.98113250732422, 54.55022430419922], \"yaxis\": \"y2\"}, {\"mode\": \"markers+lines\", \"name\": \"Forecast\", \"type\": \"scatter\", \"x\": [\"2021-11-26T00:00:00\", \"2021-11-29T00:00:00\", \"2021-11-30T00:00:00\", \"2021-12-01T00:00:00\", \"2021-12-02T00:00:00\", \"2021-12-03T00:00:00\", \"2021-12-06T00:00:00\", \"2021-12-07T00:00:00\", \"2021-12-08T00:00:00\", \"2021-12-09T00:00:00\", \"2021-12-10T00:00:00\", \"2021-12-13T00:00:00\", \"2021-12-14T00:00:00\", \"2021-12-15T00:00:00\", \"2021-12-16T00:00:00\", \"2021-12-17T00:00:00\", \"2021-12-20T00:00:00\", \"2021-12-21T00:00:00\", \"2021-12-22T00:00:00\", \"2021-12-23T00:00:00\", \"2021-12-27T00:00:00\", \"2021-12-28T00:00:00\", \"2021-12-29T00:00:00\", \"2021-12-30T00:00:00\", \"2022-01-03T00:00:00\", \"2022-01-04T00:00:00\", \"2022-01-05T00:00:00\", \"2022-01-06T00:00:00\", \"2022-01-07T00:00:00\"], \"xaxis\": \"x2\", \"y\": [39.8594, 43.708283947539336, 41.877681098040945, 43.40405664173961, 47.99387086282373, 48.61316066795588, 50.27819789707065, 53.5825091588378, 55.78671115782857, 57.680315209144354, 59.08391558226347, 60.53544883978963, 60.77533922280669, 61.100398673319816, 57.03594737955928, 60.37620830463171, 61.185833791649344, 63.04049601891637, 64.54209785658121, 65.93277471935153, 67.66739699727893, 69.1784891961813, 69.89167307833434, 68.97764632863999, 68.61860161755085, 67.99510966706276, 67.31028024359942, 65.68286916249394, 63.98519514963031], \"yaxis\": \"y2\"}, {\"line\": {\"color\": \"rgb(100, 10, 100)\", \"dash\": \"dash\", \"shape\": \"linear\"}, \"mode\": \"lines\", \"type\": \"scatter\", \"x\": [\"2021-05-03\", \"2022-01-07T00:00:00\"], \"xaxis\": \"x2\", \"y\": [70, 70], \"yaxis\": \"y2\"}, {\"line\": {\"color\": \"rgb(10, 12, 240)\", \"dash\": \"dash\", \"shape\": \"linear\"}, \"mode\": \"lines\", \"type\": \"scatter\", \"x\": [\"2021-05-03\", \"2022-01-07T00:00:00\"], \"xaxis\": \"x2\", \"y\": [50, 50], \"yaxis\": \"y2\"}, {\"line\": {\"color\": \"rgb(10, 120, 24)\", \"dash\": \"dash\", \"shape\": \"linear\"}, \"mode\": \"lines\", \"type\": \"scatter\", \"x\": [\"2021-05-03\", \"2022-01-07T00:00:00\"], \"xaxis\": \"x2\", \"y\": [30, 30], \"yaxis\": \"y2\"}, {\"mode\": \"lines\", \"name\": \"Train Stoch SlowK\", \"type\": \"scatter\", \"x\": [\"2021-05-03\", \"2021-05-04\", \"2021-05-05\", \"2021-05-06\", \"2021-05-07\", \"2021-05-10\", \"2021-05-11\", \"2021-05-12\", \"2021-05-13\", \"2021-05-14\", \"2021-05-17\", \"2021-05-18\", \"2021-05-19\", \"2021-05-20\", \"2021-05-21\", \"2021-05-24\", \"2021-05-25\", \"2021-05-26\", \"2021-05-27\", \"2021-05-28\", \"2021-06-01\", \"2021-06-02\", \"2021-06-03\", \"2021-06-04\", \"2021-06-07\", \"2021-06-08\", \"2021-06-09\", \"2021-06-10\", \"2021-06-11\", \"2021-06-14\", \"2021-06-15\", \"2021-06-16\", \"2021-06-17\", \"2021-06-18\", \"2021-06-21\", \"2021-06-22\", \"2021-06-23\", \"2021-06-24\", \"2021-06-25\", \"2021-06-28\", \"2021-06-29\", \"2021-06-30\", \"2021-07-01\", \"2021-07-02\", \"2021-07-06\", \"2021-07-07\", \"2021-07-08\", \"2021-07-09\", \"2021-07-12\", \"2021-07-13\", \"2021-07-14\", \"2021-07-15\", \"2021-07-16\", \"2021-07-19\", \"2021-07-20\", \"2021-07-21\", \"2021-07-22\", \"2021-07-23\", \"2021-07-26\", \"2021-07-27\", \"2021-07-28\", \"2021-07-29\", \"2021-07-30\", \"2021-08-02\", \"2021-08-03\", \"2021-08-04\", \"2021-08-05\", \"2021-08-06\", \"2021-08-09\", \"2021-08-10\", \"2021-08-11\", \"2021-08-12\", \"2021-08-13\"], \"xaxis\": \"x3\", \"y\": [\"83.3616\", \"83.8784\", \"90.0731\", \"95.6552\", \"95.4647\", \"91.9368\", \"64.4523\", \"34.2335\", \"23.0927\", \"43.4279\", \"72.9177\", \"77.8088\", \"66.1886\", \"47.9301\", \"51.1068\", \"63.4703\", \"66.7544\", \"59.8038\", \"59.6066\", \"71.334\", \"82.1368\", \"83.664\", \"80.0944\", \"82.1038\", \"64.7757\", \"54.1212\", \"29.2029\", \"19.2951\", \"11.6106\", \"13.7493\", \"20.8019\", \"24.192\", \"20.8206\", \"13.6662\", \"15.7831\", \"27.1193\", \"41.3593\", \"59.9744\", \"77.7332\", \"87.4001\", \"73.676\", \"63.3385\", \"68.6481\", \"78.8136\", \"66.3914\", \"48.6229\", \"24.5542\", \"42.3956\", \"62.1447\", \"82.1138\", \"75.8691\", \"60.7927\", \"39.495\", \"22.5672\", \"23.4758\", \"50.1114\", \"69.4814\", \"75.8609\", \"74.3292\", \"70.9398\", \"67.4613\", \"67.7667\", \"65.8296\", \"59.7246\", \"57.4362\", \"55.9629\", \"72.2741\", \"78.7732\", \"93.3237\", \"94.0162\", \"95.137\", \"96.8982\", \"89.562\"], \"yaxis\": \"y3\"}, {\"mode\": \"lines\", \"name\": \"Train Stoch SlowD\", \"type\": \"scatter\", \"x\": [\"2021-05-03\", \"2021-05-04\", \"2021-05-05\", \"2021-05-06\", \"2021-05-07\", \"2021-05-10\", \"2021-05-11\", \"2021-05-12\", \"2021-05-13\", \"2021-05-14\", \"2021-05-17\", \"2021-05-18\", \"2021-05-19\", \"2021-05-20\", \"2021-05-21\", \"2021-05-24\", \"2021-05-25\", \"2021-05-26\", \"2021-05-27\", \"2021-05-28\", \"2021-06-01\", \"2021-06-02\", \"2021-06-03\", \"2021-06-04\", \"2021-06-07\", \"2021-06-08\", \"2021-06-09\", \"2021-06-10\", \"2021-06-11\", \"2021-06-14\", \"2021-06-15\", \"2021-06-16\", \"2021-06-17\", \"2021-06-18\", \"2021-06-21\", \"2021-06-22\", \"2021-06-23\", \"2021-06-24\", \"2021-06-25\", \"2021-06-28\", \"2021-06-29\", \"2021-06-30\", \"2021-07-01\", \"2021-07-02\", \"2021-07-06\", \"2021-07-07\", \"2021-07-08\", \"2021-07-09\", \"2021-07-12\", \"2021-07-13\", \"2021-07-14\", \"2021-07-15\", \"2021-07-16\", \"2021-07-19\", \"2021-07-20\", \"2021-07-21\", \"2021-07-22\", \"2021-07-23\", \"2021-07-26\", \"2021-07-27\", \"2021-07-28\", \"2021-07-29\", \"2021-07-30\", \"2021-08-02\", \"2021-08-03\", \"2021-08-04\", \"2021-08-05\", \"2021-08-06\", \"2021-08-09\", \"2021-08-10\", \"2021-08-11\", \"2021-08-12\", \"2021-08-13\"], \"xaxis\": \"x3\", \"y\": [\"88.6527\", \"84.6523\", \"85.771\", \"89.8689\", \"93.731\", \"94.3522\", \"83.9513\", \"63.5409\", \"40.5928\", \"33.5847\", \"46.4794\", \"64.7181\", \"72.305\", \"63.9758\", \"55.0752\", \"54.1691\", \"60.4438\", \"63.3428\", \"62.0549\", \"63.5815\", \"71.0258\", \"79.045\", \"81.9651\", \"81.9541\", \"75.658\", \"67.0003\", \"49.3666\", \"34.2064\", \"20.0362\", \"14.885\", \"15.3873\", \"19.581\", \"21.9382\", \"19.5596\", \"16.7566\", \"18.8562\", \"28.0872\", \"42.8176\", \"59.689\", \"75.0359\", \"79.6031\", \"74.8049\", \"68.5542\", \"70.2667\", \"71.2844\", \"64.6093\", \"46.5229\", \"38.5242\", \"43.0315\", \"62.218\", \"73.3759\", \"72.9252\", \"58.7189\", \"40.9516\", \"28.5127\", \"32.0514\", \"47.6895\", \"65.1512\", \"73.2238\", \"73.71\", \"70.9101\", \"68.7226\", \"67.0192\", \"64.4403\", \"60.9968\", \"57.7079\", \"61.8911\", \"69.0034\", \"81.457\", \"88.7044\", \"94.159\", \"95.3505\", \"93.8657\"], \"yaxis\": \"y3\"}, {\"mode\": \"lines\", \"name\": \"Test Stoch SlowD\", \"type\": \"scatter\", \"x\": [\"2021-08-16\", \"2021-08-17\", \"2021-08-18\", \"2021-08-19\", \"2021-08-20\", \"2021-08-23\", \"2021-08-24\", \"2021-08-25\", \"2021-08-26\", \"2021-08-27\", \"2021-08-30\", \"2021-08-31\", \"2021-09-01\", \"2021-09-02\", \"2021-09-03\", \"2021-09-07\", \"2021-09-08\", \"2021-09-09\", \"2021-09-10\", \"2021-09-13\", \"2021-09-14\", \"2021-09-15\", \"2021-09-16\", \"2021-09-17\", \"2021-09-20\", \"2021-09-21\", \"2021-09-22\", \"2021-09-23\", \"2021-09-24\", \"2021-09-27\", \"2021-09-28\", \"2021-09-29\", \"2021-09-30\", \"2021-10-01\", \"2021-10-04\", \"2021-10-05\", \"2021-10-06\", \"2021-10-07\", \"2021-10-08\", \"2021-10-11\", \"2021-10-12\", \"2021-10-13\", \"2021-10-14\", \"2021-10-15\", \"2021-10-18\", \"2021-10-19\", \"2021-10-20\", \"2021-10-21\", \"2021-10-22\", \"2021-10-25\", \"2021-10-26\", \"2021-10-27\", \"2021-10-28\", \"2021-10-29\", \"2021-11-01\", \"2021-11-02\", \"2021-11-03\", \"2021-11-04\", \"2021-11-05\", \"2021-11-08\", \"2021-11-09\", \"2021-11-10\", \"2021-11-11\", \"2021-11-12\", \"2021-11-15\", \"2021-11-16\", \"2021-11-17\", \"2021-11-18\", \"2021-11-19\", \"2021-11-22\", \"2021-11-23\", \"2021-11-24\", \"2021-11-26\"], \"xaxis\": \"x3\", \"y\": [\"87.16\", \"72.8796\", \"53.2467\", \"33.8225\", \"21.6847\", \"23.8647\", \"39.2288\", \"59.797\", \"75.1827\", \"82.921\", \"80.1649\", \"70.0562\", \"49.4957\", \"32.2891\", \"19.9316\", \"15.6688\", \"12.5945\", \"13.5917\", \"16.4808\", \"24.9782\", \"28.2567\", \"36.6239\", \"36.8072\", \"40.2866\", \"35.0661\", \"30.8884\", \"29.2374\", \"38.1776\", \"56.9432\", \"76.7843\", \"85.6678\", \"81.5397\", \"62.2964\", \"45.0809\", \"30.2995\", \"35.4052\", \"46.6877\", \"66.6479\", \"77.2813\", \"78.7572\", \"70.1653\", \"55.7603\", \"48.5269\", \"51.0166\", \"65.4487\", \"80.3525\", \"90.7852\", \"93.8727\", \"93.2626\", \"89.7031\", \"87.231\", \"75.58\", \"62.3711\", \"44.7256\", \"40.2366\", \"39.942\", \"48.5658\", \"52.9873\", \"53.5724\", \"47.5462\", \"42.5205\", \"40.2314\", \"38.2612\", \"37.9234\", \"41.6459\", \"49.2529\", \"50.9329\", \"43.5206\", \"29.9559\", \"24.7811\", \"33.9357\", \"55.1683\", \"68.8038\"], \"yaxis\": \"y3\"}, {\"mode\": \"lines\", \"name\": \"Test Stoch SlowK\", \"type\": \"scatter\", \"x\": [\"2021-08-16\", \"2021-08-17\", \"2021-08-18\", \"2021-08-19\", \"2021-08-20\", \"2021-08-23\", \"2021-08-24\", \"2021-08-25\", \"2021-08-26\", \"2021-08-27\", \"2021-08-30\", \"2021-08-31\", \"2021-09-01\", \"2021-09-02\", \"2021-09-03\", \"2021-09-07\", \"2021-09-08\", \"2021-09-09\", \"2021-09-10\", \"2021-09-13\", \"2021-09-14\", \"2021-09-15\", \"2021-09-16\", \"2021-09-17\", \"2021-09-20\", \"2021-09-21\", \"2021-09-22\", \"2021-09-23\", \"2021-09-24\", \"2021-09-27\", \"2021-09-28\", \"2021-09-29\", \"2021-09-30\", \"2021-10-01\", \"2021-10-04\", \"2021-10-05\", \"2021-10-06\", \"2021-10-07\", \"2021-10-08\", \"2021-10-11\", \"2021-10-12\", \"2021-10-13\", \"2021-10-14\", \"2021-10-15\", \"2021-10-18\", \"2021-10-19\", \"2021-10-20\", \"2021-10-21\", \"2021-10-22\", \"2021-10-25\", \"2021-10-26\", \"2021-10-27\", \"2021-10-28\", \"2021-10-29\", \"2021-11-01\", \"2021-11-02\", \"2021-11-03\", \"2021-11-04\", \"2021-11-05\", \"2021-11-08\", \"2021-11-09\", \"2021-11-10\", \"2021-11-11\", \"2021-11-12\", \"2021-11-15\", \"2021-11-16\", \"2021-11-17\", \"2021-11-18\", \"2021-11-19\", \"2021-11-22\", \"2021-11-23\", \"2021-11-24\", \"2021-11-26\"], \"xaxis\": \"x3\", \"y\": [\"75.0199\", \"54.0569\", \"30.6632\", \"16.7474\", \"17.6437\", \"37.203\", \"62.8398\", \"79.3482\", \"83.36\", \"86.0546\", \"71.08\", \"53.0341\", \"24.3729\", \"19.4604\", \"15.9615\", \"11.5844\", \"10.2376\", \"18.953\", \"20.2517\", \"35.7299\", \"28.7883\", \"45.3533\", \"36.2799\", \"39.2265\", \"29.6919\", \"23.7468\", \"34.2735\", \"56.5127\", \"80.0435\", \"93.7968\", \"83.1631\", \"67.6593\", \"36.0668\", \"31.5168\", \"23.315\", \"51.3838\", \"65.3643\", \"83.1958\", \"83.284\", \"69.7919\", \"57.42\", \"40.0691\", \"48.0917\", \"64.889\", \"83.3654\", \"92.8031\", \"96.1872\", \"92.6277\", \"90.9731\", \"85.5086\", \"85.2113\", \"56.0201\", \"45.8818\", \"32.2748\", \"42.5532\", \"44.9981\", \"58.146\", \"55.8177\", \"46.7534\", \"40.0673\", \"40.7407\", \"39.886\", \"34.1568\", \"39.7275\", \"51.0535\", \"56.9777\", \"44.7674\", \"28.8167\", \"16.2835\", \"29.2432\", \"56.2804\", \"79.9814\", \"70.1495\"], \"yaxis\": \"y3\"}, {\"mode\": \"markers+lines\", \"name\": \"Prediction Stoch SlowD\", \"type\": \"scatter\", \"x\": [\"2021-08-16\", \"2021-08-17\", \"2021-08-18\", \"2021-08-19\", \"2021-08-20\", \"2021-08-23\", \"2021-08-24\", \"2021-08-25\", \"2021-08-26\", \"2021-08-27\", \"2021-08-30\", \"2021-08-31\", \"2021-09-01\", \"2021-09-02\", \"2021-09-03\", \"2021-09-07\", \"2021-09-08\", \"2021-09-09\", \"2021-09-10\", \"2021-09-13\", \"2021-09-14\", \"2021-09-15\", \"2021-09-16\", \"2021-09-17\", \"2021-09-20\", \"2021-09-21\", \"2021-09-22\", \"2021-09-23\", \"2021-09-24\", \"2021-09-27\", \"2021-09-28\", \"2021-09-29\", \"2021-09-30\", \"2021-10-01\", \"2021-10-04\", \"2021-10-05\", \"2021-10-06\", \"2021-10-07\", \"2021-10-08\", \"2021-10-11\", \"2021-10-12\", \"2021-10-13\", \"2021-10-14\", \"2021-10-15\", \"2021-10-18\", \"2021-10-19\", \"2021-10-20\", \"2021-10-21\", \"2021-10-22\", \"2021-10-25\", \"2021-10-26\", \"2021-10-27\", \"2021-10-28\", \"2021-10-29\", \"2021-11-01\", \"2021-11-02\", \"2021-11-03\", \"2021-11-04\", \"2021-11-05\", \"2021-11-08\", \"2021-11-09\", \"2021-11-10\", \"2021-11-11\", \"2021-11-12\", \"2021-11-15\", \"2021-11-16\", \"2021-11-17\", \"2021-11-18\", \"2021-11-19\", \"2021-11-22\", \"2021-11-23\", \"2021-11-24\", \"2021-11-26\"], \"xaxis\": \"x3\", \"y\": [25.72562599182129, 22.40009307861328, 18.625375747680664, 17.501895904541016, 21.3057861328125, 25.53984260559082, 38.47468566894531, 41.190391540527344, 42.87055206298828, 44.2196044921875, 43.98701095581055, 34.19815444946289, 26.47266960144043, 36.600135803222656, 55.61455154418945, 74.21308135986328, 86.77813720703125, 76.81694030761719, 65.89701080322266, 48.6748046875, 36.46283721923828, 33.67121887207031, 49.07954025268555, 68.4328842163086, 79.11542510986328, 81.39910888671875, 74.27336120605469, 56.78894805908203, 42.95701599121094, 50.964561462402344, 68.03065490722656, 80.22772216796875, 84.9753189086914, 88.27542877197266, 86.14314270019531, 85.31639862060547, 84.66922760009766, 80.94500732421875, 61.226078033447266, 46.05158615112305, 40.908992767333984, 40.944549560546875, 43.091373443603516, 56.99380874633789, 54.07551574707031, 48.39950180053711, 48.922035217285156, 50.019718170166016, 43.762977600097656, 42.379642486572266, 44.162330627441406, 50.98677062988281, 55.68827819824219, 45.57470703125, 32.59231185913086, 22.550994873046875, 29.84974479675293, 51.51353454589844, 71.5339126586914], \"yaxis\": \"y3\"}, {\"mode\": \"markers+lines\", \"name\": \"Prediction Stoch SlowK\", \"type\": \"scatter\", \"x\": [\"2021-08-16\", \"2021-08-17\", \"2021-08-18\", \"2021-08-19\", \"2021-08-20\", \"2021-08-23\", \"2021-08-24\", \"2021-08-25\", \"2021-08-26\", \"2021-08-27\", \"2021-08-30\", \"2021-08-31\", \"2021-09-01\", \"2021-09-02\", \"2021-09-03\", \"2021-09-07\", \"2021-09-08\", \"2021-09-09\", \"2021-09-10\", \"2021-09-13\", \"2021-09-14\", \"2021-09-15\", \"2021-09-16\", \"2021-09-17\", \"2021-09-20\", \"2021-09-21\", \"2021-09-22\", \"2021-09-23\", \"2021-09-24\", \"2021-09-27\", \"2021-09-28\", \"2021-09-29\", \"2021-09-30\", \"2021-10-01\", \"2021-10-04\", \"2021-10-05\", \"2021-10-06\", \"2021-10-07\", \"2021-10-08\", \"2021-10-11\", \"2021-10-12\", \"2021-10-13\", \"2021-10-14\", \"2021-10-15\", \"2021-10-18\", \"2021-10-19\", \"2021-10-20\", \"2021-10-21\", \"2021-10-22\", \"2021-10-25\", \"2021-10-26\", \"2021-10-27\", \"2021-10-28\", \"2021-10-29\", \"2021-11-01\", \"2021-11-02\", \"2021-11-03\", \"2021-11-04\", \"2021-11-05\", \"2021-11-08\", \"2021-11-09\", \"2021-11-10\", \"2021-11-11\", \"2021-11-12\", \"2021-11-15\", \"2021-11-16\", \"2021-11-17\", \"2021-11-18\", \"2021-11-19\", \"2021-11-22\", \"2021-11-23\", \"2021-11-24\", \"2021-11-26\"], \"xaxis\": \"x3\", \"y\": [20.876083374023438, 21.437891006469727, 18.75484275817871, 17.923871994018555, 27.671493530273438, 32.11338424682617, 54.64894485473633, 41.90721893310547, 40.8133430480957, 41.15313720703125, 37.28606414794922, 25.108205795288086, 22.913131713867188, 50.915889739990234, 73.90287017822266, 84.64449310302734, 89.41228485107422, 59.15388107299805, 50.55874252319336, 32.242942810058594, 33.33232879638672, 35.66481018066406, 64.33950805664062, 81.28947448730469, 78.7083969116211, 75.3826675415039, 60.21951675415039, 36.946685791015625, 29.620986938476562, 60.35319900512695, 80.28693389892578, 85.33728790283203, 84.71063232421875, 86.87890625, 77.46533966064453, 82.53648376464844, 79.7889175415039, 74.52874755859375, 38.16972351074219, 34.31877517700195, 42.51937484741211, 40.671905517578125, 44.12277603149414, 67.79472351074219, 46.25745391845703, 34.9891471862793, 54.808937072753906, 52.89102554321289, 35.875694274902344, 38.68929672241211, 51.37322998046875, 58.67498016357422, 52.65008544921875, 29.514402389526367, 19.617876052856445, 18.652877807617188, 42.549835205078125, 71.19392395019531, 82.97697448730469], \"yaxis\": \"y3\"}, {\"mode\": \"markers+lines\", \"name\": \"Forecast Stoch SlowD\", \"type\": \"scatter\", \"x\": [\"2021-11-26T00:00:00\", \"2021-11-29T00:00:00\", \"2021-11-30T00:00:00\", \"2021-12-01T00:00:00\", \"2021-12-02T00:00:00\", \"2021-12-03T00:00:00\", \"2021-12-06T00:00:00\", \"2021-12-07T00:00:00\", \"2021-12-08T00:00:00\", \"2021-12-09T00:00:00\", \"2021-12-10T00:00:00\", \"2021-12-13T00:00:00\", \"2021-12-14T00:00:00\", \"2021-12-15T00:00:00\", \"2021-12-16T00:00:00\", \"2021-12-17T00:00:00\", \"2021-12-20T00:00:00\", \"2021-12-21T00:00:00\", \"2021-12-22T00:00:00\", \"2021-12-23T00:00:00\", \"2021-12-27T00:00:00\", \"2021-12-28T00:00:00\", \"2021-12-29T00:00:00\", \"2021-12-30T00:00:00\", \"2022-01-03T00:00:00\", \"2022-01-04T00:00:00\", \"2022-01-05T00:00:00\", \"2022-01-06T00:00:00\", \"2022-01-07T00:00:00\"], \"xaxis\": \"x3\", \"y\": [68.8038, 60.40984372322559, 41.621350596097116, 29.070484311127665, 31.29263040688932, 38.4919657255739, 53.28999034764767, 67.06798116032482, 74.42034060919285, 75.28397455448508, 75.597547602731, 73.51860008504987, 72.1188963023901, 69.9144625262022, 64.01860474867821, 62.098736292535065, 58.59590365855098, 63.88149126691818, 72.04640714685321, 79.32578931618929, 84.19411317686439, 87.63282606223822, 89.55593588109016, 88.21149431611896, 83.50611063262821, 76.5867226519227, 63.24197204983235, 52.81834739308953, 42.48445802561939], \"yaxis\": \"y3\"}, {\"mode\": \"markers+lines\", \"name\": \"Forecast Stoch SlowK\", \"type\": \"scatter\", \"x\": [\"2021-11-26T00:00:00\", \"2021-11-29T00:00:00\", \"2021-11-30T00:00:00\", \"2021-12-01T00:00:00\", \"2021-12-02T00:00:00\", \"2021-12-03T00:00:00\", \"2021-12-06T00:00:00\", \"2021-12-07T00:00:00\", \"2021-12-08T00:00:00\", \"2021-12-09T00:00:00\", \"2021-12-10T00:00:00\", \"2021-12-13T00:00:00\", \"2021-12-14T00:00:00\", \"2021-12-15T00:00:00\", \"2021-12-16T00:00:00\", \"2021-12-17T00:00:00\", \"2021-12-20T00:00:00\", \"2021-12-21T00:00:00\", \"2021-12-22T00:00:00\", \"2021-12-23T00:00:00\", \"2021-12-27T00:00:00\", \"2021-12-28T00:00:00\", \"2021-12-29T00:00:00\", \"2021-12-30T00:00:00\", \"2022-01-03T00:00:00\", \"2022-01-04T00:00:00\", \"2022-01-05T00:00:00\", \"2022-01-06T00:00:00\", \"2022-01-07T00:00:00\"], \"xaxis\": \"x3\", \"y\": [70.1495, 39.23534325445592, 22.200260596928, 21.433603879535198, 37.28852825386822, 47.93519171468616, 64.63403478211761, 75.1782737681091, 75.21426709437371, 73.11090744454862, 71.09834335166812, 69.94265136078, 68.88978855030537, 64.61673715590835, 56.14041353462339, 55.463706171584136, 59.705026383870845, 72.07629317690731, 76.9646046077311, 80.6712719481349, 85.23065113030077, 88.3649855275929, 88.56126490719319, 84.03785641041995, 76.46389606319667, 67.89153552309871, 52.18672862046361, 41.019732639303804, 33.71459302557409], \"yaxis\": \"y3\"}, {\"line\": {\"color\": \"rgb(100, 10, 100)\", \"dash\": \"dash\", \"shape\": \"linear\"}, \"mode\": \"lines\", \"type\": \"scatter\", \"x\": [\"2021-05-03\", \"2022-01-07T00:00:00\"], \"xaxis\": \"x3\", \"y\": [70, 70], \"yaxis\": \"y3\"}, {\"line\": {\"color\": \"rgb(10, 12, 240)\", \"dash\": \"dash\", \"shape\": \"linear\"}, \"mode\": \"lines\", \"type\": \"scatter\", \"x\": [\"2021-05-03\", \"2022-01-07T00:00:00\"], \"xaxis\": \"x3\", \"y\": [50, 50], \"yaxis\": \"y3\"}, {\"line\": {\"color\": \"rgb(10, 120, 24)\", \"dash\": \"dash\", \"shape\": \"linear\"}, \"mode\": \"lines\", \"type\": \"scatter\", \"x\": [\"2021-05-03\", \"2022-01-07T00:00:00\"], \"xaxis\": \"x3\", \"y\": [30, 30], \"yaxis\": \"y3\"}],\n",
              "                        {\"annotations\": [{\"font\": {\"size\": 16}, \"showarrow\": false, \"text\": \"<a href=\\\"https://in.tradingview.com/chart/66XmQfYy/?symbol=XLF\\\">XLF</a> Date:2021-11-26 Open:38.84 High:38.33 Low:39.005 Close:38.77\", \"x\": 0.5, \"xanchor\": \"center\", \"xref\": \"paper\", \"y\": 1.0, \"yanchor\": \"bottom\", \"yref\": \"paper\"}, {\"font\": {\"size\": 16}, \"showarrow\": false, \"text\": \"<a href=\\\"https://in.tradingview.com/chart/66XmQfYy/?symbol=XLF\\\">XLF</a> RSI(14) Date:2021-11-26 Close:39.8594 Forecast(14):59.0\", \"x\": 0.5, \"xanchor\": \"center\", \"xref\": \"paper\", \"y\": 0.5666666666666667, \"yanchor\": \"bottom\", \"yref\": \"paper\"}], \"height\": 650, \"template\": {\"data\": {\"bar\": [{\"error_x\": {\"color\": \"#2a3f5f\"}, \"error_y\": {\"color\": \"#2a3f5f\"}, \"marker\": {\"line\": {\"color\": \"#E5ECF6\", \"width\": 0.5}}, \"type\": \"bar\"}], \"barpolar\": [{\"marker\": {\"line\": {\"color\": \"#E5ECF6\", \"width\": 0.5}}, \"type\": \"barpolar\"}], \"carpet\": [{\"aaxis\": {\"endlinecolor\": \"#2a3f5f\", \"gridcolor\": \"white\", \"linecolor\": \"white\", \"minorgridcolor\": \"white\", \"startlinecolor\": \"#2a3f5f\"}, \"baxis\": {\"endlinecolor\": \"#2a3f5f\", \"gridcolor\": \"white\", \"linecolor\": \"white\", \"minorgridcolor\": \"white\", \"startlinecolor\": \"#2a3f5f\"}, \"type\": \"carpet\"}], \"choropleth\": [{\"colorbar\": {\"outlinewidth\": 0, \"ticks\": \"\"}, \"type\": \"choropleth\"}], \"contour\": [{\"colorbar\": {\"outlinewidth\": 0, \"ticks\": \"\"}, \"colorscale\": [[0.0, \"#0d0887\"], [0.1111111111111111, \"#46039f\"], [0.2222222222222222, \"#7201a8\"], [0.3333333333333333, \"#9c179e\"], [0.4444444444444444, \"#bd3786\"], [0.5555555555555556, \"#d8576b\"], [0.6666666666666666, \"#ed7953\"], [0.7777777777777778, \"#fb9f3a\"], [0.8888888888888888, \"#fdca26\"], [1.0, \"#f0f921\"]], \"type\": \"contour\"}], \"contourcarpet\": [{\"colorbar\": {\"outlinewidth\": 0, \"ticks\": \"\"}, \"type\": \"contourcarpet\"}], \"heatmap\": [{\"colorbar\": {\"outlinewidth\": 0, \"ticks\": \"\"}, \"colorscale\": [[0.0, \"#0d0887\"], [0.1111111111111111, \"#46039f\"], [0.2222222222222222, \"#7201a8\"], [0.3333333333333333, \"#9c179e\"], [0.4444444444444444, \"#bd3786\"], [0.5555555555555556, \"#d8576b\"], [0.6666666666666666, \"#ed7953\"], [0.7777777777777778, \"#fb9f3a\"], [0.8888888888888888, \"#fdca26\"], [1.0, \"#f0f921\"]], \"type\": \"heatmap\"}], \"heatmapgl\": [{\"colorbar\": {\"outlinewidth\": 0, \"ticks\": \"\"}, \"colorscale\": [[0.0, \"#0d0887\"], [0.1111111111111111, \"#46039f\"], [0.2222222222222222, \"#7201a8\"], [0.3333333333333333, \"#9c179e\"], [0.4444444444444444, \"#bd3786\"], [0.5555555555555556, \"#d8576b\"], [0.6666666666666666, \"#ed7953\"], [0.7777777777777778, \"#fb9f3a\"], [0.8888888888888888, \"#fdca26\"], [1.0, \"#f0f921\"]], \"type\": \"heatmapgl\"}], \"histogram\": [{\"marker\": {\"colorbar\": {\"outlinewidth\": 0, \"ticks\": \"\"}}, \"type\": \"histogram\"}], \"histogram2d\": [{\"colorbar\": {\"outlinewidth\": 0, \"ticks\": \"\"}, \"colorscale\": [[0.0, \"#0d0887\"], [0.1111111111111111, \"#46039f\"], [0.2222222222222222, \"#7201a8\"], [0.3333333333333333, \"#9c179e\"], [0.4444444444444444, \"#bd3786\"], [0.5555555555555556, \"#d8576b\"], [0.6666666666666666, \"#ed7953\"], [0.7777777777777778, \"#fb9f3a\"], [0.8888888888888888, \"#fdca26\"], [1.0, \"#f0f921\"]], \"type\": \"histogram2d\"}], \"histogram2dcontour\": [{\"colorbar\": {\"outlinewidth\": 0, \"ticks\": \"\"}, \"colorscale\": [[0.0, \"#0d0887\"], [0.1111111111111111, \"#46039f\"], [0.2222222222222222, \"#7201a8\"], [0.3333333333333333, \"#9c179e\"], [0.4444444444444444, \"#bd3786\"], [0.5555555555555556, \"#d8576b\"], [0.6666666666666666, \"#ed7953\"], [0.7777777777777778, \"#fb9f3a\"], [0.8888888888888888, \"#fdca26\"], [1.0, \"#f0f921\"]], \"type\": \"histogram2dcontour\"}], \"mesh3d\": [{\"colorbar\": {\"outlinewidth\": 0, \"ticks\": \"\"}, \"type\": \"mesh3d\"}], \"parcoords\": [{\"line\": {\"colorbar\": {\"outlinewidth\": 0, \"ticks\": \"\"}}, \"type\": \"parcoords\"}], \"pie\": [{\"automargin\": true, \"type\": \"pie\"}], \"scatter\": [{\"marker\": {\"colorbar\": {\"outlinewidth\": 0, \"ticks\": \"\"}}, \"type\": \"scatter\"}], \"scatter3d\": [{\"line\": {\"colorbar\": {\"outlinewidth\": 0, \"ticks\": \"\"}}, \"marker\": {\"colorbar\": {\"outlinewidth\": 0, \"ticks\": \"\"}}, \"type\": \"scatter3d\"}], \"scattercarpet\": [{\"marker\": {\"colorbar\": {\"outlinewidth\": 0, \"ticks\": \"\"}}, \"type\": \"scattercarpet\"}], \"scattergeo\": [{\"marker\": {\"colorbar\": {\"outlinewidth\": 0, \"ticks\": \"\"}}, \"type\": \"scattergeo\"}], \"scattergl\": [{\"marker\": {\"colorbar\": {\"outlinewidth\": 0, \"ticks\": \"\"}}, \"type\": \"scattergl\"}], \"scattermapbox\": [{\"marker\": {\"colorbar\": {\"outlinewidth\": 0, \"ticks\": \"\"}}, \"type\": \"scattermapbox\"}], \"scatterpolar\": [{\"marker\": {\"colorbar\": {\"outlinewidth\": 0, \"ticks\": \"\"}}, \"type\": \"scatterpolar\"}], \"scatterpolargl\": [{\"marker\": {\"colorbar\": {\"outlinewidth\": 0, \"ticks\": \"\"}}, \"type\": \"scatterpolargl\"}], \"scatterternary\": [{\"marker\": {\"colorbar\": {\"outlinewidth\": 0, \"ticks\": \"\"}}, \"type\": \"scatterternary\"}], \"surface\": [{\"colorbar\": {\"outlinewidth\": 0, \"ticks\": \"\"}, \"colorscale\": [[0.0, \"#0d0887\"], [0.1111111111111111, \"#46039f\"], [0.2222222222222222, \"#7201a8\"], [0.3333333333333333, \"#9c179e\"], [0.4444444444444444, \"#bd3786\"], [0.5555555555555556, \"#d8576b\"], [0.6666666666666666, \"#ed7953\"], [0.7777777777777778, \"#fb9f3a\"], [0.8888888888888888, \"#fdca26\"], [1.0, \"#f0f921\"]], \"type\": \"surface\"}], \"table\": [{\"cells\": {\"fill\": {\"color\": \"#EBF0F8\"}, \"line\": {\"color\": \"white\"}}, \"header\": {\"fill\": {\"color\": \"#C8D4E3\"}, \"line\": {\"color\": \"white\"}}, \"type\": \"table\"}]}, \"layout\": {\"annotationdefaults\": {\"arrowcolor\": \"#2a3f5f\", \"arrowhead\": 0, \"arrowwidth\": 1}, \"coloraxis\": {\"colorbar\": {\"outlinewidth\": 0, \"ticks\": \"\"}}, \"colorscale\": {\"diverging\": [[0, \"#8e0152\"], [0.1, \"#c51b7d\"], [0.2, \"#de77ae\"], [0.3, \"#f1b6da\"], [0.4, \"#fde0ef\"], [0.5, \"#f7f7f7\"], [0.6, \"#e6f5d0\"], [0.7, \"#b8e186\"], [0.8, \"#7fbc41\"], [0.9, \"#4d9221\"], [1, \"#276419\"]], \"sequential\": [[0.0, \"#0d0887\"], [0.1111111111111111, \"#46039f\"], [0.2222222222222222, \"#7201a8\"], [0.3333333333333333, \"#9c179e\"], [0.4444444444444444, \"#bd3786\"], [0.5555555555555556, \"#d8576b\"], [0.6666666666666666, \"#ed7953\"], [0.7777777777777778, \"#fb9f3a\"], [0.8888888888888888, \"#fdca26\"], [1.0, \"#f0f921\"]], \"sequentialminus\": [[0.0, \"#0d0887\"], [0.1111111111111111, \"#46039f\"], [0.2222222222222222, \"#7201a8\"], [0.3333333333333333, \"#9c179e\"], [0.4444444444444444, \"#bd3786\"], [0.5555555555555556, \"#d8576b\"], [0.6666666666666666, \"#ed7953\"], [0.7777777777777778, \"#fb9f3a\"], [0.8888888888888888, \"#fdca26\"], [1.0, \"#f0f921\"]]}, \"colorway\": [\"#636efa\", \"#EF553B\", \"#00cc96\", \"#ab63fa\", \"#FFA15A\", \"#19d3f3\", \"#FF6692\", \"#B6E880\", \"#FF97FF\", \"#FECB52\"], \"font\": {\"color\": \"#2a3f5f\"}, \"geo\": {\"bgcolor\": \"white\", \"lakecolor\": \"white\", \"landcolor\": \"#E5ECF6\", \"showlakes\": true, \"showland\": true, \"subunitcolor\": \"white\"}, \"hoverlabel\": {\"align\": \"left\"}, \"hovermode\": \"closest\", \"mapbox\": {\"style\": \"light\"}, \"paper_bgcolor\": \"white\", \"plot_bgcolor\": \"#E5ECF6\", \"polar\": {\"angularaxis\": {\"gridcolor\": \"white\", \"linecolor\": \"white\", \"ticks\": \"\"}, \"bgcolor\": \"#E5ECF6\", \"radialaxis\": {\"gridcolor\": \"white\", \"linecolor\": \"white\", \"ticks\": \"\"}}, \"scene\": {\"xaxis\": {\"backgroundcolor\": \"#E5ECF6\", \"gridcolor\": \"white\", \"gridwidth\": 2, \"linecolor\": \"white\", \"showbackground\": true, \"ticks\": \"\", \"zerolinecolor\": \"white\"}, \"yaxis\": {\"backgroundcolor\": \"#E5ECF6\", \"gridcolor\": \"white\", \"gridwidth\": 2, \"linecolor\": \"white\", \"showbackground\": true, \"ticks\": \"\", \"zerolinecolor\": \"white\"}, \"zaxis\": {\"backgroundcolor\": \"#E5ECF6\", \"gridcolor\": \"white\", \"gridwidth\": 2, \"linecolor\": \"white\", \"showbackground\": true, \"ticks\": \"\", \"zerolinecolor\": \"white\"}}, \"shapedefaults\": {\"line\": {\"color\": \"#2a3f5f\"}}, \"ternary\": {\"aaxis\": {\"gridcolor\": \"white\", \"linecolor\": \"white\", \"ticks\": \"\"}, \"baxis\": {\"gridcolor\": \"white\", \"linecolor\": \"white\", \"ticks\": \"\"}, \"bgcolor\": \"#E5ECF6\", \"caxis\": {\"gridcolor\": \"white\", \"linecolor\": \"white\", \"ticks\": \"\"}}, \"title\": {\"x\": 0.05}, \"xaxis\": {\"automargin\": true, \"gridcolor\": \"white\", \"linecolor\": \"white\", \"ticks\": \"\", \"title\": {\"standoff\": 15}, \"zerolinecolor\": \"white\", \"zerolinewidth\": 2}, \"yaxis\": {\"automargin\": true, \"gridcolor\": \"white\", \"linecolor\": \"white\", \"ticks\": \"\", \"title\": {\"standoff\": 15}, \"zerolinecolor\": \"white\", \"zerolinewidth\": 2}}}, \"xaxis\": {\"anchor\": \"y\", \"domain\": [0.0, 1.0], \"rangeslider\": {\"visible\": false}, \"showspikes\": true, \"spikedash\": \"dash\", \"spikemode\": \"across\", \"spikesnap\": \"cursor\"}, \"xaxis2\": {\"anchor\": \"y2\", \"domain\": [0.0, 1.0], \"showspikes\": true, \"spikedash\": \"dash\", \"spikemode\": \"across\", \"spikesnap\": \"cursor\"}, \"xaxis3\": {\"anchor\": \"y3\", \"domain\": [0.0, 1.0], \"showspikes\": true, \"spikedash\": \"dash\", \"spikemode\": \"across\", \"spikesnap\": \"cursor\"}, \"yaxis\": {\"anchor\": \"x\", \"domain\": [0.7333333333333334, 1.0], \"showspikes\": true, \"spikedash\": \"dash\", \"spikemode\": \"across\", \"spikesnap\": \"cursor\"}, \"yaxis2\": {\"anchor\": \"x2\", \"domain\": [0.3666666666666667, 0.5666666666666667], \"showspikes\": true, \"spikedash\": \"dash\", \"spikemode\": \"across\", \"spikesnap\": \"cursor\"}, \"yaxis3\": {\"anchor\": \"x3\", \"domain\": [0.0, 0.2], \"showspikes\": true, \"spikedash\": \"dash\", \"spikemode\": \"across\", \"spikesnap\": \"cursor\"}},\n",
              "                        {\"responsive\": true}\n",
              "                    ).then(function(){\n",
              "                            \n",
              "var gd = document.getElementById('7ca4d5d2-f946-41b8-88e2-b239b3528426');\n",
              "var x = new MutationObserver(function (mutations, observer) {{\n",
              "        var display = window.getComputedStyle(gd).display;\n",
              "        if (!display || display === 'none') {{\n",
              "            console.log([gd, 'removed!']);\n",
              "            Plotly.purge(gd);\n",
              "            observer.disconnect();\n",
              "        }}\n",
              "}});\n",
              "\n",
              "// Listen for the removal of the full notebook cells\n",
              "var notebookContainer = gd.closest('#notebook-container');\n",
              "if (notebookContainer) {{\n",
              "    x.observe(notebookContainer, {childList: true});\n",
              "}}\n",
              "\n",
              "// Listen for the clearing of the current output cell\n",
              "var outputEl = gd.closest('.output');\n",
              "if (outputEl) {{\n",
              "    x.observe(outputEl, {childList: true});\n",
              "}}\n",
              "\n",
              "                        })\n",
              "                };\n",
              "                \n",
              "            </script>\n",
              "        </div>\n",
              "</body>\n",
              "</html>"
            ]
          },
          "metadata": {}
        },
        {
          "output_type": "stream",
          "name": "stdout",
          "text": [
            "chart folder: /content/drive/MyDrive/models/charts/2021-11-26\n"
          ]
        }
      ]
    }
  ]
}