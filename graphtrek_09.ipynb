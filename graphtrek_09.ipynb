{
  "nbformat": 4,
  "nbformat_minor": 0,
  "metadata": {
    "colab": {
      "name": "graphtrek_09.ipynb",
      "provenance": [],
      "include_colab_link": true
    },
    "kernelspec": {
      "name": "python3",
      "display_name": "Python 3"
    },
    "language_info": {
      "name": "python"
    }
  },
  "cells": [
    {
      "cell_type": "markdown",
      "metadata": {
        "id": "view-in-github",
        "colab_type": "text"
      },
      "source": [
        "<a href=\"https://colab.research.google.com/github/graphtrek/stockforecast/blob/main/graphtrek_09.ipynb\" target=\"_parent\"><img src=\"https://colab.research.google.com/assets/colab-badge.svg\" alt=\"Open In Colab\"/></a>"
      ]
    },
    {
      "cell_type": "code",
      "metadata": {
        "id": "sZPC3Z9u3evF"
      },
      "source": [
        "import numpy as np\n",
        "from tensorflow.keras.models import Sequential\n",
        "from tensorflow.keras.layers import LSTM\n",
        "from tensorflow.keras.optimizers import Adam\n",
        "from tensorflow.keras.losses import MAE\n",
        "from tensorflow.keras.layers import Dense, Dropout\n",
        "from tensorflow import keras\n",
        "from datetime import datetime, timedelta\n",
        "import pandas as pd\n",
        "import os, time\n",
        "from matplotlib import pyplot as plt\n",
        "from sklearn.preprocessing import StandardScaler\n",
        "import seaborn as sns\n",
        "import plotly.graph_objects as go\n",
        "import plotly.express as px\n",
        "from sklearn.preprocessing import MinMaxScaler\n",
        "from pandas.tseries.holiday import USFederalHolidayCalendar\n",
        "from pandas.tseries.offsets import CustomBusinessDay\n",
        "from keras.preprocessing.sequence import TimeseriesGenerator\n",
        "from tensorflow.keras.models import Sequential\n",
        "from tensorflow.keras.layers import LSTM\n",
        "from tensorflow.keras.optimizers import Adam\n",
        "from tensorflow.keras.losses import MAE\n",
        "from tensorflow.keras.layers import Dense, Dropout\n",
        "from tensorflow import keras\n",
        "from datetime import datetime, timedelta\n",
        "import pandas as pd\n",
        "import os, time\n",
        "from plotly.subplots import make_subplots\n",
        "from pathlib import Path"
      ],
      "execution_count": 36,
      "outputs": []
    },
    {
      "cell_type": "code",
      "metadata": {
        "id": "HKYStAEQ3mh6"
      },
      "source": [
        "ticker = 'ARKG' # QQQ, SPY, VTI JETS, XLE, XLF, XLNX, ARKK, ARKG, ARKQ, ARKF, PYPL, V\n",
        "look_back = 3 #  number of past days we want to use to predict 1 day in the future.\n",
        "max_data_size = 730 # ~2 years\n",
        "split_percent = 0.90 # use 90% of the data  for train\n",
        "INFO = 1\n",
        "DEBUG = 2\n",
        "TRACE = 3\n",
        "print_level = DEBUG \n",
        "indicators_model_file_path = '/content/drive/MyDrive/models/' + ticker + '_' + str(look_back) + '_' + str(nr_of_features) + '_indicators_09.h5'\n",
        "nr_of_features = 4\n",
        "look_forward = 1\n",
        "epochs = 420\n",
        "learning_rate=0.0042\n",
        "if look_back < 5:\n",
        "  num_prediction = look_back * 4\n",
        "else:\n",
        "  num_prediction = look_back * 2\n",
        "\n",
        "apikey = '3F4URDEKOPLFH25T'\n",
        "np.random.seed(42)"
      ],
      "execution_count": 37,
      "outputs": []
    },
    {
      "cell_type": "code",
      "metadata": {
        "id": "tPJ9HBOO3-2-",
        "colab": {
          "base_uri": "https://localhost:8080/"
        },
        "outputId": "8f887ff3-3c8f-4395-bcf3-2c9c7a5b0194"
      },
      "source": [
        "rsi_url = 'https://www.alphavantage.co/query?function=RSI&datatype=json&symbol='+ticker+'&interval=daily&time_period='+str(look_back)+'&series_type=close&apikey=' + apikey\n",
        "print(rsi_url)\n",
        "rsi_api_response = pd.read_json(rsi_url)\n",
        "#print(rsi_api_response)\n",
        "rsi_api_data = rsi_api_response['Technical Analysis: RSI']\n",
        "#print(rsi_api_data)\n",
        "rsi_api_data = rsi_api_data.drop(\n",
        "    index=['1: Symbol','2: Indicator','3: Last Refreshed','4: Interval','5: Time Period','6: Series Type','7: Time Zone']);\n",
        "#print(rsi_api_data)\n",
        "\n",
        "rsi_data = []\n",
        "for key, value in rsi_api_data.items():\n",
        "  date = key\n",
        "  rsi = float(value.get('RSI'))\n",
        "  rsi_data.append([date,rsi])\n",
        "\n",
        "last_rsi_data =  str(rsi_data[0])\n",
        "first_rsi_data =  str(rsi_data[-1])\n",
        "print('rsi_data_length:', len(rsi_data), 'first_rsi_data:', first_rsi_data, 'last_rsi_data:', last_rsi_data)  "
      ],
      "execution_count": 38,
      "outputs": [
        {
          "output_type": "stream",
          "name": "stdout",
          "text": [
            "https://www.alphavantage.co/query?function=RSI&datatype=json&symbol=ARKG&interval=daily&time_period=3&series_type=close&apikey=3F4URDEKOPLFH25T\n",
            "rsi_data_length: 1778 first_rsi_data: ['2014-11-05', 0.0] last_rsi_data: ['2021-11-26', 21.8192]\n"
          ]
        }
      ]
    },
    {
      "cell_type": "code",
      "metadata": {
        "colab": {
          "base_uri": "https://localhost:8080/"
        },
        "id": "GmEkUmlfJFsW",
        "outputId": "3da70385-0e64-4e65-9775-f22bfaf07ecc"
      },
      "source": [
        "stoch_url = 'https://www.alphavantage.co/query?function=STOCH&symbol='+ticker+'&interval=daily&apikey=' + apikey\n",
        "print(stoch_url)\n",
        "stoch_api_response = pd.read_json(stoch_url)\n",
        "stoch_api_data = stoch_api_response['Technical Analysis: STOCH']\n",
        "#print(rsi_api_data)\n",
        "stoch_api_data = stoch_api_data.drop(\n",
        "    index=['1: Symbol','2: Indicator','3: Last Refreshed','4: Interval','5.1: FastK Period','5.2: SlowK Period','5.3: SlowK MA Type','5.4: SlowD Period','5.5: SlowD MA Type','6: Time Zone'])\n",
        "#print(stoch_api_data)\n",
        "stoch_data = []\n",
        "for key, value in stoch_api_data.items():\n",
        "  date = key\n",
        "  SlowD = float(value.get('SlowD'))\n",
        "  SlowK = float(value.get('SlowK'))\n",
        "  stoch_data.append([date,SlowD,SlowK])\n",
        "\n",
        "last_stoch_data =  str(stoch_data[0])\n",
        "first_stoch_data =  str(stoch_data[-1])\n",
        "print('stoch_data_length:', len(stoch_data), 'first_stoch_data:', first_stoch_data, 'last_stoch_data:', last_stoch_data)  "
      ],
      "execution_count": 39,
      "outputs": [
        {
          "output_type": "stream",
          "name": "stdout",
          "text": [
            "https://www.alphavantage.co/query?function=STOCH&symbol=ARKG&interval=daily&apikey=3F4URDEKOPLFH25T\n",
            "stoch_data_length: 1773 first_stoch_data: ['2014-11-12', 31.3289, 42.105] last_stoch_data: ['2021-11-26', 14.6081, 23.5943]\n"
          ]
        }
      ]
    },
    {
      "cell_type": "code",
      "metadata": {
        "colab": {
          "base_uri": "https://localhost:8080/"
        },
        "id": "hakIIva48yWl",
        "outputId": "91a5a3fe-072b-47e0-a085-f8f0ef6a6165"
      },
      "source": [
        "macd_url = 'https://www.alphavantage.co/query?function=MACD&symbol='+ticker+'&interval=daily&series_type=open&apikey=' + apikey\n",
        "print(macd_url)\n",
        "macd_api_response = pd.read_json(macd_url)\n",
        "macd_api_data = macd_api_response['Technical Analysis: MACD']\n",
        "#print(macd_api_data)\n",
        "macd_api_data = macd_api_data.drop(\n",
        "    index=[\n",
        "          '1: Symbol',\n",
        "          '2: Indicator',\n",
        "          '3: Last Refreshed',\n",
        "          '4: Interval',\n",
        "          '5.1: Fast Period',\n",
        "          '5.2: Slow Period',\n",
        "          '5.3: Signal Period',\n",
        "          '6: Series Type',\n",
        "          '7: Time Zone'\n",
        "]);\n",
        "\n",
        "macd_data = []\n",
        "for key, value in macd_api_data.items():\n",
        "  date = key\n",
        "  MACD = float(value.get('MACD'))\n",
        "  MACD_Hist = float(value.get('MACD_Hist'))\n",
        "  MACD_Signal = float(value.get('MACD_Signal'))\n",
        "  macd_data.append([date,MACD,MACD_Hist,MACD_Signal])\n",
        "\n",
        "last_macd_data =  str(macd_data[0])\n",
        "first_macd_data =  str(macd_data[-1])\n",
        "print('macd_data_length:', len(macd_data), 'first_macd_data:', first_macd_data, 'last_macd_data:', last_macd_data) "
      ],
      "execution_count": 40,
      "outputs": [
        {
          "output_type": "stream",
          "name": "stdout",
          "text": [
            "https://www.alphavantage.co/query?function=MACD&symbol=ARKG&interval=daily&series_type=open&apikey=3F4URDEKOPLFH25T\n",
            "macd_data_length: 1748 first_macd_data: ['2014-12-18', 0.1243, -0.0278, 0.1521] last_macd_data: ['2021-11-26', -2.8641, -1.1694, -1.6947]\n"
          ]
        }
      ]
    },
    {
      "cell_type": "code",
      "metadata": {
        "colab": {
          "base_uri": "https://localhost:8080/"
        },
        "id": "gTTORjJJ22lE",
        "outputId": "03bb0f3c-31b8-4685-a935-3254be5481ff"
      },
      "source": [
        "stock_url = 'https://www.alphavantage.co/query?function=TIME_SERIES_DAILY_ADJUSTED&symbol='+ticker+'&outputsize=full&apikey=' + apikey\n",
        "print(stock_url)\n",
        "stock_api_response = pd.read_json(stock_url)\n",
        "stock_api_data = stock_api_response['Time Series (Daily)']\n",
        "#print(stock_api_data)\n",
        "stock_api_data = stock_api_data.drop(index=['1. Information','2. Symbol','3. Last Refreshed','4. Output Size','5. Time Zone']);\n",
        "\n",
        "stock_data = []\n",
        "split_coefficient = 1\n",
        "\n",
        "for key, value in stock_api_data.items():\n",
        "  date = key\n",
        "  open = float(value.get('1. open'))\n",
        "  high = float(value.get('2. high'))\n",
        "  low = float(value.get('3. low'))\n",
        "  close = float(value.get('4. close'))\n",
        "  adjusted_close = float(value.get('5. adjusted close'))\n",
        "  volume = int(value.get('6. volume'))\n",
        "  divident = float(value.get('7. dividend amount'))\n",
        "\n",
        "  if float(value.get('8. split coefficient')) > 1:\n",
        "    split_coefficient = float(value.get('8. split coefficient'))\n",
        "    \n",
        "  open = open / split_coefficient\n",
        "  high = high /split_coefficient\n",
        "  close = close / split_coefficient\n",
        "  low = low / split_coefficient\n",
        "  \n",
        "  stock_data.append([\n",
        "      date,\n",
        "      close,\n",
        "      volume,\n",
        "      high,\n",
        "      low,\n",
        "      open,\n",
        "      divident\n",
        "      ])\n",
        "\n",
        "last_date =  str(stock_data[0][0])\n",
        "print('data length:', len(stock_data), 'last_date:', last_date)\n",
        "\n",
        "last_stock_data =  str(stock_data[0])\n",
        "first_stock_data =  str(stock_data[-1])\n",
        "print('stock_data_length:', len(stock_data), 'first_stock_data:', first_stock_data, 'last_stock_data:', last_stock_data)"
      ],
      "execution_count": 41,
      "outputs": [
        {
          "output_type": "stream",
          "name": "stdout",
          "text": [
            "https://www.alphavantage.co/query?function=TIME_SERIES_DAILY_ADJUSTED&symbol=ARKG&outputsize=full&apikey=3F4URDEKOPLFH25T\n",
            "data length: 1781 last_date: 2021-11-26\n",
            "stock_data_length: 1781 first_stock_data: ['2014-10-31', 20.1, 5761, 20.35, 20.1, 20.33, 0.0] last_stock_data: ['2021-11-26', 64.61, 2391592, 66.23, 64.25, 64.49, 0.0]\n"
          ]
        }
      ]
    },
    {
      "cell_type": "code",
      "metadata": {
        "id": "GzJkdoRGuYmf",
        "colab": {
          "base_uri": "https://localhost:8080/"
        },
        "outputId": "c61649e8-fefa-4014-daad-57460d380948"
      },
      "source": [
        "data_size = np.min([len(rsi_data), len(stoch_data), len(stock_data), len(macd_data)])\n",
        "if max_data_size < data_size:\n",
        "  rsi_data = np.flip(rsi_data[:max_data_size],axis=0)\n",
        "  stoch_data = np.flip(stoch_data[:max_data_size],axis=0)\n",
        "  macd_data = np.flip(macd_data[:max_data_size],axis=0)\n",
        "  stock_data = np.flip(stock_data[:max_data_size],axis=0)\n",
        "else:\n",
        "  rsi_data = np.flip(rsi_data[:data_size],axis=0)\n",
        "  stoch_data = np.flip(stoch_data[:data_size],axis=0)\n",
        "  macd_data = np.flip(macd_data[:data_size],axis=0)\n",
        "  stock_data = np.flip(stock_data[:data_size],axis=0)\n",
        "\n",
        "dates = stock_data[:,0]\n",
        "\n",
        "rsi_array = rsi_data[:,1]\n",
        "stoch_slowD_array = stoch_data[:,1]\n",
        "stoch_slowK_array = stoch_data[:,2]\n",
        "macd_array = macd_data[:,1]\n",
        "macd_hist_array = macd_data[:,2]\n",
        "macd_signal_array = macd_data[:,3]\n",
        "\n",
        "indicators_data = np.append(np.expand_dims(dates, axis=1),  np.expand_dims(rsi_array, axis=1).astype(float),axis=1)\n",
        "indicators_data = np.append(indicators_data, np.expand_dims(stoch_slowD_array, axis=1),axis=1)\n",
        "indicators_data = np.append(indicators_data, np.expand_dims(stoch_slowK_array, axis=1),axis=1)\n",
        "indicators_data = np.append(indicators_data, np.expand_dims(macd_array, axis=1),axis=1)\n",
        "indicators_data = np.append(indicators_data, np.expand_dims(macd_hist_array, axis=1),axis=1)\n",
        "indicators_data = np.append(indicators_data, np.expand_dims(macd_signal_array, axis=1),axis=1)\n",
        "if print_level >= DEBUG:\n",
        "  print('indicators_data',indicators_data[:5])\n",
        "\n",
        "indicators_lstm_data = np.expand_dims(rsi_array, axis=1).astype(float)\n",
        "indicators_lstm_data = np.append(indicators_lstm_data, np.expand_dims(stoch_slowD_array, axis=1),axis=1).astype(float)\n",
        "indicators_lstm_data = np.append(indicators_lstm_data, np.expand_dims(stoch_slowK_array, axis=1),axis=1).astype(float)\n",
        "indicators_lstm_data = np.append(indicators_lstm_data, np.expand_dims(macd_hist_array, axis=1),axis=1).astype(float)\n",
        "if print_level >= DEBUG:\n",
        "  print('indicators_lstm_data',indicators_lstm_data[:5])"
      ],
      "execution_count": 42,
      "outputs": [
        {
          "output_type": "stream",
          "name": "stdout",
          "text": [
            "indicators_data [['2019-01-07' '92.1434' '92.1937' '91.1123' '-0.9654' '0.1969' '-1.1623']\n",
            " ['2019-01-08' '83.6572' '91.88' '91.7764' '-0.6711' '0.3929' '-1.0641']\n",
            " ['2019-01-09' '89.2565' '91.565' '91.8064' '-0.4698' '0.4754' '-0.9452']\n",
            " ['2019-01-10' '90.3339' '92.2797' '93.2564' '-0.276' '0.5354' '-0.8114']\n",
            " ['2019-01-11' '88.1246' '93.8766' '96.567' '-0.0934' '0.5744' '-0.6678']]\n",
            "indicators_lstm_data [[ 92.14  92.19  91.11  0.20]\n",
            " [ 83.66  91.88  91.78  0.39]\n",
            " [ 89.26  91.56  91.81  0.48]\n",
            " [ 90.33  92.28  93.26  0.54]\n",
            " [ 88.12  93.88  96.57  0.57]]\n"
          ]
        }
      ]
    },
    {
      "cell_type": "code",
      "metadata": {
        "id": "xHrOFKHo3ocW"
      },
      "source": [
        "stock_df = pd.DataFrame(stock_data,columns=['Date','Close','Volume','High','Low','Open','Divident'])\n",
        "stock_df['50MA'] = stock_df['Close'].rolling(50).mean()\n",
        "stock_df['100MA'] = stock_df['Close'].rolling(100).mean()\n",
        "stock_df['200MA'] = stock_df['Close'].rolling(200).mean()"
      ],
      "execution_count": 43,
      "outputs": []
    },
    {
      "cell_type": "code",
      "metadata": {
        "id": "OYTx2W6N4JIM",
        "colab": {
          "base_uri": "https://localhost:8080/"
        },
        "outputId": "73868d09-64c7-433c-f66a-964448719ce8"
      },
      "source": [
        "indicators_df = pd.DataFrame(indicators_data,columns=['Date','RSI','SlowD','SlowK','MACD','MACD_Hist','MACD_Signal'])\n",
        "print(indicators_df)\n",
        "split = int(split_percent*len(indicators_data))\n",
        "if len(indicators_data) - split < look_back:\n",
        "  split = look_back\n",
        "split\n",
        "\n",
        "\n",
        "indicators_df_train = indicators_df.iloc[:split]\n",
        "indicators_df_test = indicators_df.iloc[split:]\n",
        "\n",
        "indicators_lstm_train_data = indicators_lstm_data[:split]\n",
        "indicators_lstm_test_data = indicators_lstm_data[split:]"
      ],
      "execution_count": 44,
      "outputs": [
        {
          "output_type": "stream",
          "name": "stdout",
          "text": [
            "           Date      RSI    SlowD    SlowK     MACD MACD_Hist MACD_Signal\n",
            "0    2019-01-07  92.1434  92.1937  91.1123  -0.9654    0.1969     -1.1623\n",
            "1    2019-01-08  83.6572    91.88  91.7764  -0.6711    0.3929     -1.0641\n",
            "2    2019-01-09  89.2565   91.565  91.8064  -0.4698    0.4754     -0.9452\n",
            "3    2019-01-10  90.3339  92.2797  93.2564   -0.276    0.5354     -0.8114\n",
            "4    2019-01-11  88.1246  93.8766   96.567  -0.0934    0.5744     -0.6678\n",
            "..          ...      ...      ...      ...      ...       ...         ...\n",
            "725  2021-11-19  11.6881  13.1591   7.1474    -1.31   -0.6445     -0.6656\n",
            "726  2021-11-22   5.1135   9.0614   3.2488   -1.613   -0.7579     -0.8551\n",
            "727  2021-11-23   4.2016   5.5399   6.2235  -2.1048   -0.9998      -1.105\n",
            "728  2021-11-24  25.9985   7.8262  14.0064  -2.5914   -1.1891     -1.4023\n",
            "729  2021-11-26  21.8192  14.6081  23.5943  -2.8641   -1.1694     -1.6947\n",
            "\n",
            "[730 rows x 7 columns]\n"
          ]
        }
      ]
    },
    {
      "cell_type": "code",
      "metadata": {
        "id": "5oRtthul4Pyj"
      },
      "source": [
        "np.set_printoptions(formatter={'float': '{: 0.12f}'.format})\n",
        "\n",
        "indicators_scaler = MinMaxScaler(feature_range=(0, 1))\n",
        "indicators_scaler = indicators_scaler.fit(indicators_lstm_data)\n",
        "\n",
        "indicators_lstm_train_data_scaled = indicators_scaler.transform(indicators_lstm_train_data)\n",
        "if print_level >= TRACE:\n",
        "  print(indicators_lstm_train_data_scaled[:look_back+1])\n",
        "  print(indicators_lstm_train_data_scaled.shape)\n",
        "\n",
        "indicators_lstm_test_data_scaled = indicators_scaler.transform(indicators_lstm_test_data)\n",
        "if print_level >= TRACE:\n",
        "  print(indicators_lstm_test_data_scaled[:look_back+1])\n",
        "  print(indicators_lstm_test_data_scaled.shape)"
      ],
      "execution_count": 45,
      "outputs": []
    },
    {
      "cell_type": "code",
      "metadata": {
        "id": "Cmmqy0nc4Slr"
      },
      "source": [
        "indicators_train_generator = TimeseriesGenerator(indicators_lstm_train_data_scaled, indicators_lstm_train_data_scaled, sampling_rate=1, length=look_back, batch_size=64)\n",
        "\n",
        "if print_level >= TRACE:\n",
        "  print('Samples: %d' % len(indicators_train_generator))\n",
        "  # print each sample\n",
        "  for i in range(2):\n",
        "    x, y = indicators_train_generator[i]\n",
        "    print('%s => %s' % (x, y))"
      ],
      "execution_count": 46,
      "outputs": []
    },
    {
      "cell_type": "code",
      "metadata": {
        "id": "xFQnXfRp6tVP",
        "colab": {
          "base_uri": "https://localhost:8080/"
        },
        "outputId": "b4a93dfe-d16d-4762-cdc7-e0b9ddf0ff88"
      },
      "source": [
        "indicators_model = None\n",
        "try:\n",
        "  indicators_model = keras.models.load_model(indicators_model_file_path)\n",
        "  modified = os.path.getmtime(indicators_model_file_path)\n",
        "\n",
        "  print(pd.to_datetime(last_date).date() - datetime.fromtimestamp(modified).date() )\n",
        "  print('Loaded', indicators_model_file_path , ' model train date:',datetime.fromtimestamp(modified).date() , 'last date:', last_date)\n",
        "except:\n",
        "  indicators_model = None\n",
        "  print('Model ' + indicators_model_file_path + ' does not exists.')"
      ],
      "execution_count": 47,
      "outputs": [
        {
          "output_type": "stream",
          "name": "stdout",
          "text": [
            "Model /content/drive/MyDrive/models/ARKG_3_4_indicators_09.h5 does not exists.\n"
          ]
        }
      ]
    },
    {
      "cell_type": "code",
      "metadata": {
        "id": "r59DQEiZ0u18",
        "colab": {
          "base_uri": "https://localhost:8080/",
          "height": 313
        },
        "outputId": "f7d63160-1dc0-4e0a-99ed-0df8204ba661"
      },
      "source": [
        "if indicators_model is None:\n",
        "  indicators_model = Sequential()\n",
        "  indicators_model.add(LSTM(units=42, activation='tanh', input_shape=(look_back, nr_of_features), return_sequences=True))\n",
        "  indicators_model.add(Dropout(0.2))\n",
        "  indicators_model.add(LSTM(units=42, return_sequences=True, activation=\"relu\"))\n",
        "  indicators_model.add(Dropout(0.2))\n",
        "  indicators_model.add(LSTM(units=42, return_sequences=True, activation=\"relu\"))\n",
        "  indicators_model.add(Dropout(0.2))\n",
        "  indicators_model.add(LSTM(units=42, activation=\"tanh\"))\n",
        "  indicators_model.add(Dropout(0.2))\n",
        "  indicators_model.add(Dense(nr_of_features))\n",
        "\n",
        "  indicators_model.compile(\n",
        "      loss=MAE,\n",
        "      optimizer=Adam(learning_rate=learning_rate),\n",
        "      metrics=['mae','mse']\n",
        "  )\n",
        "    \n",
        "  #model.summary()\n",
        "  print('Model ' + indicators_model_file_path + ' compiled.')\n",
        "\n",
        "  indicators_modelo = indicators_model.fit(indicators_train_generator, epochs=epochs, verbose=0 )\n",
        "  \n",
        "  indicators_model.save(indicators_model_file_path)\n",
        "  print('Saved model ' + indicators_model_file_path)\n",
        "\n",
        "  \n",
        "  plt.plot(indicators_modelo.history['loss'])\n",
        "  plt.xlabel('Epochs')\n",
        "  plt.ylabel('Loss')\n",
        "  plt.show()"
      ],
      "execution_count": 48,
      "outputs": [
        {
          "output_type": "stream",
          "name": "stdout",
          "text": [
            "Model /content/drive/MyDrive/models/ARKG_3_4_indicators_09.h5 compiled.\n",
            "Saved model /content/drive/MyDrive/models/ARKG_3_4_indicators_09.h5\n"
          ]
        },
        {
          "output_type": "display_data",
          "data": {
            "image/png": "[encoded data removed]",
            "text/plain": [
              "<Figure size 432x288 with 1 Axes>"
            ]
          },
          "metadata": {
            "needs_background": "light"
          }
        }
      ]
    },
    {
      "cell_type": "code",
      "metadata": {
        "colab": {
          "base_uri": "https://localhost:8080/"
        },
        "id": "xkdpY8eE4XlZ",
        "outputId": "47539114-b3c5-4f73-e93b-db57ca72d616"
      },
      "source": [
        "indicators_test_generator = TimeseriesGenerator(indicators_lstm_test_data_scaled, indicators_lstm_test_data_scaled,sampling_rate=1, length=look_back, batch_size=look_back)\n",
        "\n",
        "print('Samples: %d' % len(indicators_test_generator))\n",
        "# print each sample\n",
        "if print_level >= TRACE:\n",
        "  for i in range(2):\n",
        "    x, y = indicators_test_generator[i]\n",
        "    print('%s => %s' % (x, y))"
      ],
      "execution_count": 49,
      "outputs": [
        {
          "output_type": "stream",
          "name": "stdout",
          "text": [
            "Samples: 24\n"
          ]
        }
      ]
    },
    {
      "cell_type": "code",
      "metadata": {
        "id": "WAS1RHA1Mn10",
        "colab": {
          "base_uri": "https://localhost:8080/"
        },
        "outputId": "3ac09ce7-1482-4594-934f-41a8064e0508"
      },
      "source": [
        "#Make prediction\n",
        "indicators_prediction_scaled = indicators_model.predict(indicators_test_generator)\n",
        "\n",
        "if print_level >= DEBUG:\n",
        "  np.set_printoptions(formatter={'float': '{: 0.12f}'.format})\n",
        "  print(indicators_prediction_scaled[:5])\n",
        "\n",
        "indicators_prediction = indicators_scaler.inverse_transform(indicators_prediction_scaled)\n",
        "if nr_of_features == 1:\n",
        "   rsi_prediction = indicators_prediction.reshape((-1))\n",
        "else:\n",
        "  rsi_prediction = indicators_prediction[:,0].reshape((-1))\n",
        "  stoch_slowD_prediction = indicators_prediction[:,1].reshape((-1))\n",
        "  stoch_slowK_prediction = indicators_prediction[:,2].reshape((-1))\n",
        "\n",
        "if print_level >= DEBUG:\n",
        "  np.set_printoptions(formatter={'float': '{: 0.2f}'.format})\n",
        "  print('indicators_prediction shape:',indicators_prediction.shape)\n",
        "\n",
        "  for x in range(look_back + 1):\n",
        "    print('pred:',indicators_prediction[x], 'test:', indicators_lstm_test_data[x])\n"
      ],
      "execution_count": 50,
      "outputs": [
        {
          "output_type": "stream",
          "name": "stdout",
          "text": [
            "[[ 0.284163653851  0.120071649551  0.194200277328  0.371657729149]\n",
            " [ 0.263609528542  0.153165519238  0.202950239182  0.367528706789]\n",
            " [ 0.497111171484  0.234228700399  0.378269612789  0.399730235338]\n",
            " [ 0.784421086311  0.445017814636  0.704535901546  0.455112874508]\n",
            " [ 0.798258543015  0.742777764797  0.886002182961  0.517612695694]]\n",
            "indicators_prediction shape: (70, 4)\n",
            "pred: [ 30.17  16.25  21.52 -0.75] test: [ 8.78  13.76  12.40 -0.24]\n",
            "pred: [ 28.20  19.20  22.34 -0.77] test: [ 7.36  12.98  13.55 -0.47]\n",
            "pred: [ 50.56  26.43  38.83 -0.64] test: [ 7.15  15.67  21.05 -0.56]\n",
            "pred: [ 78.06  45.23  69.53 -0.41] test: [ 3.53  17.16  16.88 -0.63]\n"
          ]
        }
      ]
    },
    {
      "cell_type": "code",
      "metadata": {
        "id": "ae72DYdyd0zp",
        "colab": {
          "base_uri": "https://localhost:8080/"
        },
        "outputId": "ea9d1dc2-94e9-47cb-9e3b-ff434f49ef3b"
      },
      "source": [
        "def predict(num_prediction, model):\n",
        "    prediction_list = indicators_lstm_test_data_scaled[-look_back:]\n",
        "    #print('prediction_list',prediction_list)\n",
        "    for _ in range(num_prediction):\n",
        "        x = prediction_list[-look_back:]\n",
        "        #print(x)\n",
        "        x = x.reshape((1, look_back, nr_of_features))\n",
        "        out = model.predict(x)\n",
        "        #print(x,out) \n",
        "        prediction_list = np.append(prediction_list, out, axis=0)\n",
        "    prediction_list = prediction_list[look_back-1:]\n",
        "        \n",
        "    return prediction_list\n",
        "    \n",
        "def predict_dates(last_date,num_prediction):\n",
        "    us_bd = CustomBusinessDay(calendar=USFederalHolidayCalendar())\n",
        "    prediction_dates = pd.date_range(last_date, periods=num_prediction+1,freq=us_bd).tolist()\n",
        "    return prediction_dates\n",
        "\n",
        "indicators_forecast_scaled = predict(num_prediction, indicators_model)\n",
        "#print(forecast_scaled)\n",
        "indicators_forecast_dates = predict_dates(indicators_df['Date'].values[-1],num_prediction)\n",
        "\n",
        "indicators_forecast = indicators_scaler.inverse_transform(indicators_forecast_scaled.reshape((-1,nr_of_features)))\n",
        "if nr_of_features == 1:\n",
        "   rsi_forecast = indicators_forecast.reshape((-1))\n",
        "else:\n",
        "  rsi_forecast = indicators_forecast[:,0].reshape((-1))\n",
        "  stoch_SlowD_forecast = indicators_forecast[:,1].reshape((-1))\n",
        "  stoch_SlowK_forecast = indicators_forecast[:,2].reshape((-1))\n",
        "  macd_hist_forecast = indicators_forecast[:,3].reshape((-1))\n",
        "\n",
        "if print_level >= DEBUG:\n",
        "  print('indicators_forecast:',indicators_forecast)\n",
        "  print('rsi_forecast:',rsi_forecast)"
      ],
      "execution_count": 53,
      "outputs": [
        {
          "output_type": "stream",
          "name": "stdout",
          "text": [
            "indicators_forecast: [[ 21.82  14.61  23.59 -1.17]\n",
            " [ 45.93  24.14  34.83 -1.30]\n",
            " [ 57.52  34.54  49.40 -1.08]\n",
            " [ 67.45  51.45  68.68 -0.77]\n",
            " [ 72.60  68.46  78.61 -0.41]\n",
            " [ 75.55  78.15  82.37 -0.20]\n",
            " [ 77.99  82.41  82.35 -0.04]\n",
            " [ 79.63  83.17  81.72  0.07]\n",
            " [ 80.22  82.64  80.90  0.15]\n",
            " [ 80.32  81.85  80.30  0.21]\n",
            " [ 80.49  81.19  79.99  0.27]\n",
            " [ 80.71  80.65  79.79  0.34]\n",
            " [ 80.85  80.14  79.60  0.41]]\n",
            "rsi_forecast: [ 21.82  45.93  57.52  67.45  72.60  75.55  77.99  79.63  80.22  80.32\n",
            "  80.49  80.71  80.85]\n"
          ]
        }
      ]
    },
    {
      "cell_type": "code",
      "metadata": {
        "colab": {
          "base_uri": "https://localhost:8080/",
          "height": 684
        },
        "id": "dnqEqJioguwy",
        "outputId": "27f6874f-46a2-48bf-d483-0261d20cafa8"
      },
      "source": [
        "#https://python.plainenglish.io/a-simple-guide-to-plotly-for-plotting-financial-chart-54986c996682\n",
        "chart_days = len(indicators_df_test) * 2\n",
        "\n",
        "#'Date','Close','Volume','High','Low','Open','Divident'\n",
        "open_price =  str(stock_data[-1][5])\n",
        "low_price =  str(stock_data[-1][3])\n",
        "high_price =  str(stock_data[-1][4])\n",
        "close_price =  str(stock_data[-1][1])\n",
        "rsi_forecast_mean = np.round(np.mean(rsi_forecast))\n",
        "\n",
        "tradingview_link = '<a href=\"https://in.tradingview.com/chart/66XmQfYy/?symbol=' + ticker +'\">' + ticker +'</a>'\n",
        "stock_title = tradingview_link + ' Date:' + last_date + ' Open:' + open_price + ' High:' + high_price + ' Low:' + low_price + ' Close:' + close_price\n",
        "indicators_title = tradingview_link + ' RSI('+ str(look_back)+ ') Date:' + last_date + ' Close:' + indicators_df['RSI'].iloc[-1] + ' Forecast('+str(look_back)+'):' + str(rsi_forecast_mean)\n",
        "\n",
        "fig = make_subplots(rows=4, cols=1, row_heights=[0.4, 0.2, 0.2, 0.2], subplot_titles=(stock_title, indicators_title))\n",
        "\n",
        "go.Layout(\n",
        "    title = ticker + ' Date:' + last_date + ' Open:' + open_price + ' High:' + high_price + ' Low:' + low_price + ' Close:' + close_price,\n",
        "    xaxis = {'title' : \"Dates\"},\n",
        "    yaxis = {'title' : \"Close Price ($)\"},\n",
        "    height = 450\n",
        ")\n",
        "\n",
        "trace1 = go.Candlestick(\n",
        "    x = stock_df.tail(chart_days)['Date'],\n",
        "    open = stock_df.tail(chart_days)['Open'],\n",
        "    high = stock_df.tail(chart_days)['High'],\n",
        "    low = stock_df.tail(chart_days)['Low'],\n",
        "    close = stock_df.tail(chart_days)['Close'],\n",
        "    name = ticker + ' Price'\n",
        ")\n",
        "\n",
        "trace2 = go.Scatter(\n",
        "    x = stock_df.tail(chart_days)['Date'],\n",
        "    y = stock_df.tail(chart_days)['50MA'],\n",
        "    mode='lines',\n",
        "    name ='50MA'\n",
        ")\n",
        "\n",
        "trace3 = go.Scatter(\n",
        "    x = stock_df.tail(chart_days)['Date'],\n",
        "    y = stock_df.tail(chart_days)['100MA'],\n",
        "    mode='lines',\n",
        "    name ='100MA'\n",
        ")\n",
        "\n",
        "trace4 = go.Scatter(\n",
        "    x = stock_df.tail(chart_days)['Date'],\n",
        "    y = stock_df.tail(chart_days)['200MA'],\n",
        "    mode='lines',\n",
        "    name ='200MA'\n",
        ")\n",
        "\n",
        "fig.add_trace(trace1,row=1, col=1)\n",
        "fig.add_trace(trace2,row=1, col=1)\n",
        "fig.add_trace(trace3,row=1, col=1)\n",
        "fig.add_trace(trace4,row=1, col=1)\n",
        "\n",
        "trace_rsi_train = go.Scatter(\n",
        "  x = indicators_df_train.tail(len(indicators_df_test))['Date'],\n",
        "  y = indicators_df_train.tail(len(indicators_df_test))['RSI'],\n",
        "  mode='lines',\n",
        "  name ='RSI'\n",
        ")\n",
        "\n",
        "trace_rsi_test = go.Scatter(\n",
        "  x = indicators_df_test['Date'],\n",
        "  y = indicators_df_test['RSI'],\n",
        "  mode='lines',\n",
        "  name ='Test'\n",
        ")\n",
        "\n",
        "trace_rsi_prediction = go.Scatter(\n",
        "    x = indicators_df_test['Date'],\n",
        "    y = rsi_prediction,\n",
        "    mode='markers+lines',\n",
        "    name ='Prediction'\n",
        ")\n",
        "\n",
        "trace_rsi_forecast = go.Scatter(\n",
        "    x = indicators_forecast_dates,\n",
        "    y = rsi_forecast,\n",
        "    mode='markers+lines',\n",
        "    name ='Forecast'\n",
        ")\n",
        "\n",
        "fig.add_trace(trace_rsi_train,row=2, col=1)\n",
        "fig.add_trace(trace_rsi_test,row=2, col=1)\n",
        "fig.add_trace(trace_rsi_prediction,row=2, col=1)\n",
        "fig.add_trace(trace_rsi_forecast,row=2, col=1)\n",
        "\n",
        "fig.add_trace(go.Scatter(\n",
        "        x = [indicators_df_train.tail(len(indicators_df_test))['Date'].min(), np.max(indicators_forecast_dates)],\n",
        "        y = [70, 70],\n",
        "        mode = \"lines\",\n",
        "        line = dict(shape = 'linear', color = 'rgb(100, 10, 100)', dash = 'dash')\n",
        "    ),row=2, col=1)\n",
        "\n",
        "fig.add_trace(go.Scatter(\n",
        "        x = [indicators_df_train.tail(len(indicators_df_test))['Date'].min(), np.max(indicators_forecast_dates)],\n",
        "        y = [50, 50],\n",
        "        mode = \"lines\",\n",
        "        line = dict(shape = 'linear', color = 'rgb(10, 12, 240)', dash = 'dash')\n",
        "    ),row=2, col=1)\n",
        "\n",
        "fig.add_trace(go.Scatter(\n",
        "        x = [indicators_df_train.tail(len(indicators_df_test))['Date'].min(), np.max(indicators_forecast_dates)],\n",
        "        y = [30, 30],\n",
        "        mode = \"lines\",\n",
        "        line = dict(shape = 'linear', color = 'rgb(10, 120, 24)', dash = 'dash')\n",
        "    ),row=2, col=1)\n",
        "\n",
        "\n",
        "trace_stoch_SlowK_train = go.Scatter(\n",
        "  x = indicators_df_train.tail(len(indicators_df_test))['Date'],\n",
        "  y = indicators_df_train.tail(len(indicators_df_test))['SlowK'],\n",
        "  mode='lines',\n",
        "  name ='Train Stoch SlowK'\n",
        ")\n",
        "\n",
        "trace_stoch_SlowD_train = go.Scatter(\n",
        "  x = indicators_df_train.tail(len(indicators_df_test))['Date'],\n",
        "  y = indicators_df_train.tail(len(indicators_df_test))['SlowD'],\n",
        "  mode='lines',\n",
        "  name ='Train Stoch SlowD'\n",
        ")\n",
        "\n",
        "trace_stoch_SlowD_test = go.Scatter(\n",
        "  x = indicators_df_test['Date'],\n",
        "  y = indicators_df_test['SlowD'],\n",
        "  mode='lines',\n",
        "  name ='Test Stoch SlowD'\n",
        ")\n",
        "\n",
        "trace_stoch_SlowK_test = go.Scatter(\n",
        "  x = indicators_df_test['Date'],\n",
        "  y = indicators_df_test['SlowK'],\n",
        "  mode='lines',\n",
        "  name ='Test Stoch SlowK'\n",
        ")\n",
        "\n",
        "trace_stoch_SlowD_prediction = go.Scatter(\n",
        "    x = indicators_df_test['Date'],\n",
        "    y = stoch_slowD_prediction,\n",
        "    mode='markers+lines',\n",
        "    name ='Prediction Stoch SlowD'\n",
        ")\n",
        "\n",
        "trace_stoch_SlowK_prediction = go.Scatter(\n",
        "    x = indicators_df_test['Date'],\n",
        "    y = stoch_slowK_prediction,\n",
        "    mode='markers+lines',\n",
        "    name ='Prediction Stoch SlowK'\n",
        ")\n",
        "\n",
        "trace_stoch_SlowD_forecast = go.Scatter(\n",
        "    x = indicators_forecast_dates,\n",
        "    y = stoch_SlowD_forecast,\n",
        "    mode='markers+lines',\n",
        "    name ='Forecast Stoch SlowD'\n",
        ")\n",
        "\n",
        "trace_stoch_SlowK_forecast = go.Scatter(\n",
        "    x = indicators_forecast_dates,\n",
        "    y = stoch_SlowK_forecast,\n",
        "    mode='markers+lines',\n",
        "    name ='Forecast Stoch SlowK'\n",
        ")\n",
        "\n",
        "fig.add_trace(trace_stoch_SlowK_train, row=3,col=1 )\n",
        "fig.add_trace(trace_stoch_SlowD_train, row=3,col=1 )\n",
        "fig.add_trace(trace_stoch_SlowD_test, row=3,col=1 )\n",
        "fig.add_trace(trace_stoch_SlowK_test, row=3,col=1 )\n",
        "fig.add_trace(trace_stoch_SlowD_prediction, row=3,col=1 )\n",
        "fig.add_trace(trace_stoch_SlowK_prediction, row=3,col=1 )\n",
        "fig.add_trace(trace_stoch_SlowD_forecast, row=3,col=1 )\n",
        "fig.add_trace(trace_stoch_SlowK_forecast, row=3,col=1 )\n",
        "\n",
        "fig.add_trace(go.Scatter(\n",
        "        x = [indicators_df_train.tail(len(indicators_df_test))['Date'].min(), np.max(indicators_forecast_dates)],\n",
        "        y = [70, 70],\n",
        "        mode = \"lines\",\n",
        "        line = dict(shape = 'linear', color = 'rgb(100, 10, 100)', dash = 'dash')\n",
        "    ),row=3, col=1)\n",
        "\n",
        "fig.add_trace(go.Scatter(\n",
        "        x = [indicators_df_train.tail(len(indicators_df_test))['Date'].min(), np.max(indicators_forecast_dates)],\n",
        "        y = [50, 50],\n",
        "        mode = \"lines\",\n",
        "        line = dict(shape = 'linear', color = 'rgb(10, 12, 240)', dash = 'dash')\n",
        "    ),row=3, col=1)\n",
        "\n",
        "fig.add_trace(go.Scatter(\n",
        "        x = [indicators_df_train.tail(len(indicators_df_test))['Date'].min(), np.max(indicators_forecast_dates)],\n",
        "        y = [30, 30],\n",
        "        mode = \"lines\",\n",
        "        line = dict(shape = 'linear', color = 'rgb(10, 120, 24)', dash = 'dash')\n",
        "    ),row=3, col=1)\n",
        "\n",
        "#colors = ['green' if row['Open'] - row['Close'] >= 0 \n",
        "#          else 'red' for index, row in trace_macd_train.iterrows()]\n",
        "trace_macd_train = go.Bar(\n",
        "  x = indicators_df_train.tail(len(indicators_df_test))['Date'],\n",
        "  y = indicators_df_train.tail(len(indicators_df_test))['MACD_Hist']\n",
        ")\n",
        "\n",
        "trace_macd_test = go.Bar(\n",
        "  x = indicators_df_test['Date'],\n",
        "  y = indicators_df_test['MACD_Hist']\n",
        ")\n",
        "\n",
        "trace_macd_hist_forecast = go.Bar(\n",
        "    x = indicators_forecast_dates,\n",
        "    y = macd_hist_forecast,\n",
        "    marker_color=['black']\n",
        ")\n",
        "\n",
        "\n",
        "fig.add_trace(trace_macd_train, row=4,col=1 )\n",
        "fig.add_trace(trace_macd_test, row=4,col=1 )\n",
        "fig.add_trace(trace_macd_hist_forecast, row=4,col=1 )\n",
        "\n",
        "fig.update_yaxes(showspikes=True, spikemode='across', spikesnap='cursor',spikedash='dash')\n",
        "fig.update_xaxes(showspikes=True, spikemode='across', spikesnap='cursor', spikedash='dash')\n",
        "fig.update_layout(xaxis_rangeslider_visible=False,height=650)\n",
        "fig.update_layout(margin=go.layout.Margin(\n",
        "        l=20, #left margin\n",
        "        r=20, #right margin\n",
        "        b=20, #bottom margin\n",
        "        t=20  #top margin\n",
        "    ))\n",
        "fig.show()\n",
        "folder='/content/drive/MyDrive/models/charts/'+ last_date\n",
        "Path(folder).mkdir(parents=True, exist_ok=True)\n",
        "print('chart folder:', folder)\n",
        "fig.write_html(folder + '/' + ticker + '_' + str(look_back) + '_' + str(nr_of_features) + '_09_inidicators_forecast.html')"
      ],
      "execution_count": 61,
      "outputs": [
        {
          "output_type": "display_data",
          "data": {
            "text/html": [
              "<html>\n",
              "<head><meta charset=\"utf-8\" /></head>\n",
              "<body>\n",
              "    <div>\n",
              "            <script src=\"https://cdnjs.cloudflare.com/ajax/libs/mathjax/2.7.5/MathJax.js?config=TeX-AMS-MML_SVG\"></script><script type=\"text/javascript\">if (window.MathJax) {MathJax.Hub.Config({SVG: {font: \"STIX-Web\"}});}</script>\n",
              "                <script type=\"text/javascript\">window.PlotlyConfig = {MathJaxConfig: 'local'};</script>\n",
              "        <script src=\"https://cdn.plot.ly/plotly-latest.min.js\"></script>    \n",
              "            <div id=\"ac8b6e81-4042-468e-86df-2ea667445803\" class=\"plotly-graph-div\" style=\"height:650px; width:100%;\"></div>\n",
              "            <script type=\"text/javascript\">\n",
              "                \n",
              "                    window.PLOTLYENV=window.PLOTLYENV || {};\n",
              "                    \n",
              "                if (document.getElementById(\"ac8b6e81-4042-468e-86df-2ea667445803\")) {\n",
              "                    Plotly.newPlot(\n",
              "                        'ac8b6e81-4042-468e-86df-2ea667445803',\n",
              "                        [{\"close\": [\"86.49\", \"83.42\", \"82.09\", \"79.84\", \"80.87\", \"76.13\", \"76.93\", \"74.99\", \"73.64\", \"76.56\", \"76.39\", \"77.9\", \"76.47\", \"78.77\", \"78.37\", \"79.04\", \"79.48\", \"80.83\", \"81.33\", \"81.75\", \"81.3\", \"81.07\", \"79.18\", \"80.29\", \"83.15\", \"83.97\", \"85.01\", \"87.31\", \"86.93\", \"87.59\", \"85.55\", \"85.02\", \"87.16\", \"86.62\", \"87.42\", \"87.68\", \"88.52\", \"89.62\", \"90.08\", \"93.01\", \"93.1\", \"92.5\", \"92.86\", \"92.03\", \"90.68\", \"88.7\", \"88.68\", \"89.99\", \"88.5\", \"86.38\", \"83.18\", \"82.38\", \"82.88\", \"83.53\", \"85.85\", \"87.11\", \"86.15\", \"85.66\", \"83.98\", \"82.64\", \"85.28\", \"85.02\", \"84.35\", \"84.46\", \"84.79\", \"85.27\", \"88.97\", \"86.99\", \"87.31\", \"84.66\", \"83.55\", \"83.63\", \"82.21\", \"80.68\", \"80.18\", \"80.12\", \"78.68\", \"79.73\", \"82.56\", \"83.78\", \"83.95\", \"82.82\", \"84.91\", \"85.0\", \"85.68\", \"86.99\", \"87.88\", \"87.32\", \"85.94\", \"83.9\", \"84.31\", \"83.74\", \"81.83\", \"80.77\", \"81.18\", \"81.48\", \"83.93\", \"80.33\", \"81.3\", \"80.82\", \"81.38\", \"78.65\", \"78.25\", \"75.25\", \"73.87\", \"74.72\", \"74.86\", \"71.85\", \"72.72\", \"71.78\", \"73.6\", \"71.88\", \"71.39\", \"72.8\", \"73.65\", \"75.43\", \"75.05\", \"73.8\", \"76.34\", \"75.63\", \"75.74\", \"74.81\", \"75.86\", \"75.64\", \"74.05\", \"76.63\", \"75.1\", \"77.48\", \"76.83\", \"78.28\", \"78.64\", \"77.95\", \"78.6\", \"76.67\", \"73.59\", \"73.59\", \"73.42\", \"71.72\", \"73.16\", \"71.57\", \"69.12\", \"68.53\", \"65.07\", \"64.18\", \"65.16\", \"64.61\"], \"high\": [\"89.49\", \"85.1801\", \"84.278\", \"81.4\", \"83.06\", \"80.45\", \"77.8799\", \"76.935\", \"76.62\", \"77.02\", \"76.83\", \"79.67\", \"77.18\", \"79.4275\", \"79.98\", \"79.84\", \"80.42\", \"80.89\", \"81.39\", \"84.05\", \"82.49\", \"81.92\", \"80.95\", \"81.02\", \"83.93\", \"84.69\", \"85.99\", \"87.55\", \"87.58\", \"88.25\", \"87.5\", \"85.91\", \"87.71\", \"87.39\", \"87.9\", \"87.83\", \"88.88\", \"90.35\", \"90.22\", \"93.66\", \"93.97\", \"94.14\", \"93.47\", \"93.63\", \"91.84\", \"91.07\", \"89.09\", \"90.2501\", \"90.73\", \"88.59\", \"86.9999\", \"83.55\", \"83.76\", \"84.455\", \"86.02\", \"87.41\", \"87.4499\", \"86.5\", \"85.71\", \"83.85\", \"85.79\", \"85.96\", \"85.9324\", \"85.29\", \"84.91\", \"85.76\", \"89.11\", \"88.9\", \"88.1\", \"88.03\", \"84.83\", \"83.96\", \"83.85\", \"81.93\", \"80.28\", \"81.41\", \"80.05\", \"80.16\", \"82.71\", \"83.86\", \"84.479\", \"84.5799\", \"85.61\", \"85.71\", \"85.81\", \"87.76\", \"87.965\", \"87.98\", \"87.87\", \"85.75\", \"85.8\", \"84.92\", \"84.25\", \"82.72\", \"81.7\", \"81.69\", \"84.11\", \"82.5\", \"82.12\", \"81.75\", \"81.46\", \"81.03\", \"78.65\", \"77.36\", \"76.19\", \"75.54\", \"75.08\", \"74.35\", \"73.73\", \"72.58\", \"74.2436\", \"73.6\", \"72.6133\", \"73.24\", \"73.9\", \"75.93\", \"76.22\", \"74.65\", \"76.84\", \"76.7\", \"76.48\", \"75.62\", \"76.2\", \"76.95\", \"76.1\", \"76.75\", \"76.28\", \"77.75\", \"77.615\", \"78.43\", \"79.42\", \"79.5999\", \"79.37\", \"78.5\", \"77.14\", \"74.59\", \"74.0\", \"73.73\", \"73.26\", \"73.26\", \"72.16\", \"69.91\", \"68.49\", \"65.21\", \"65.3161\", \"66.23\"], \"low\": [\"86.22\", \"82.24\", \"81.57\", \"78.2\", \"80.43\", \"76.1\", \"72.4547\", \"74.66\", \"72.07\", \"74.34\", \"74.94\", \"75.99\", \"75.36\", \"76.9\", \"78.2601\", \"78.46\", \"78.76\", \"79.27\", \"79.42\", \"81.54\", \"79.94\", \"80.29\", \"78.53\", \"79.76\", \"80.26\", \"81.98\", \"84.34\", \"84.37\", \"86.15\", \"86.93\", \"84.79\", \"82.99\", \"84.35\", \"85.84\", \"85.19\", \"86.59\", \"87.54\", \"88.83\", \"88.985\", \"92.3501\", \"92.16\", \"91.58\", \"91.0\", \"91.25\", \"90.11\", \"87.66\", \"85.62\", \"87.94\", \"88.39\", \"86.3\", \"82.82\", \"80.74\", \"81.63\", \"81.09\", \"83.36\", \"84.74\", \"85.91\", \"84.33\", \"83.535\", \"80.83\", \"82.26\", \"84.6901\", \"84.23\", \"83.56\", \"83.45\", \"84.09\", \"84.91\", \"86.46\", \"86.42\", \"84.43\", \"82.39\", \"83.11\", \"82.05\", \"79.33\", \"78.8301\", \"79.24\", \"78.52\", \"78.0\", \"80.46\", \"82.17\", \"83.02\", \"82.45\", \"82.67\", \"84.44\", \"84.68\", \"85.8\", \"86.91\", \"86.87\", \"85.78\", \"83.34\", \"83.68\", \"83.605\", \"81.13\", \"80.44\", \"79.89\", \"79.84\", \"81.24\", \"79.37\", \"80.77\", \"80.57\", \"80.352\", \"78.6202\", \"76.64\", \"74.96\", \"73.77\", \"74.16\", \"73.16\", \"71.66\", \"72.16\", \"71.211\", \"72.3\", \"71.75\", \"71.3\", \"71.59\", \"72.83\", \"74.5\", \"74.855\", \"73.4\", \"74.06\", \"75.48\", \"75.39\", \"74.002\", \"74.13\", \"75.32\", \"74.03\", \"73.83\", \"75.0\", \"75.05\", \"76.09\", \"75.87\", \"78.0\", \"77.04\", \"78.03\", \"76.25\", \"73.33\", \"73.28\", \"72.54\", \"71.61\", \"71.17\", \"71.2\", \"68.845\", \"68.29\", \"65.07\", \"62.67\", \"62.47\", \"64.25\"], \"name\": \"ARKG Price\", \"open\": [\"89.22\", \"85.03\", \"83.82\", \"81.21\", \"80.9\", \"80.44\", \"72.5\", \"75.62\", \"75.34\", \"74.45\", \"75.77\", \"76.5\", \"75.68\", \"77.06\", \"79.14\", \"78.79\", \"79.35\", \"79.65\", \"80.6\", \"81.67\", \"82.46\", \"81.03\", \"80.08\", \"79.76\", \"80.26\", \"84.06\", \"84.34\", \"85.11\", \"87.01\", \"87.38\", \"87.5\", \"85.27\", \"84.37\", \"86.05\", \"86.6\", \"87.04\", \"87.54\", \"88.83\", \"89.7\", \"92.78\", \"93.05\", \"93.1\", \"92.8\", \"93.28\", \"91.69\", \"90.6\", \"86.21\", \"88.89\", \"90.0\", \"88.435\", \"86.68\", \"82.83\", \"82.79\", \"81.1\", \"83.56\", \"85.75\", \"86.67\", \"86.41\", \"85.0\", \"83.5\", \"82.26\", \"85.42\", \"84.31\", \"84.37\", \"84.7\", \"84.15\", \"85.19\", \"88.82\", \"86.88\", \"87.95\", \"84.78\", \"83.28\", \"83.7\", \"81.86\", \"79.67\", \"80.15\", \"79.33\", \"78.0\", \"80.46\", \"82.99\", \"83.65\", \"83.745\", \"83.13\", \"85.0\", \"84.77\", \"85.85\", \"87.28\", \"87.93\", \"87.1\", \"85.47\", \"83.76\", \"84.92\", \"84.2\", \"81.92\", \"80.65\", \"81.04\", \"81.43\", \"81.3\", \"81.09\", \"81.55\", \"81.18\", \"80.7\", \"78.52\", \"77.34\", \"75.58\", \"74.56\", \"74.96\", \"74.35\", \"72.39\", \"71.79\", \"72.43\", \"73.46\", \"71.89\", \"71.59\", \"72.83\", \"74.5\", \"76.04\", \"74.51\", \"74.16\", \"76.49\", \"75.72\", \"75.62\", \"74.78\", \"76.2\", \"75.66\", \"73.87\", \"76.1\", \"75.15\", \"77.615\", \"76.65\", \"78.4\", \"78.49\", \"78.105\", \"78.15\", \"76.11\", \"74.43\", \"73.82\", \"73.62\", \"71.87\", \"73.0\", \"71.87\", \"68.99\", \"68.49\", \"65.07\", \"63.5\", \"64.49\"], \"type\": \"candlestick\", \"x\": [\"2021-05-03\", \"2021-05-04\", \"2021-05-05\", \"2021-05-06\", \"2021-05-07\", \"2021-05-10\", \"2021-05-11\", \"2021-05-12\", \"2021-05-13\", \"2021-05-14\", \"2021-05-17\", \"2021-05-18\", \"2021-05-19\", \"2021-05-20\", \"2021-05-21\", \"2021-05-24\", \"2021-05-25\", \"2021-05-26\", \"2021-05-27\", \"2021-05-28\", \"2021-06-01\", \"2021-06-02\", \"2021-06-03\", \"2021-06-04\", \"2021-06-07\", \"2021-06-08\", \"2021-06-09\", \"2021-06-10\", \"2021-06-11\", \"2021-06-14\", \"2021-06-15\", \"2021-06-16\", \"2021-06-17\", \"2021-06-18\", \"2021-06-21\", \"2021-06-22\", \"2021-06-23\", \"2021-06-24\", \"2021-06-25\", \"2021-06-28\", \"2021-06-29\", \"2021-06-30\", \"2021-07-01\", \"2021-07-02\", \"2021-07-06\", \"2021-07-07\", \"2021-07-08\", \"2021-07-09\", \"2021-07-12\", \"2021-07-13\", \"2021-07-14\", \"2021-07-15\", \"2021-07-16\", \"2021-07-19\", \"2021-07-20\", \"2021-07-21\", \"2021-07-22\", \"2021-07-23\", \"2021-07-26\", \"2021-07-27\", \"2021-07-28\", \"2021-07-29\", \"2021-07-30\", \"2021-08-02\", \"2021-08-03\", \"2021-08-04\", \"2021-08-05\", \"2021-08-06\", \"2021-08-09\", \"2021-08-10\", \"2021-08-11\", \"2021-08-12\", \"2021-08-13\", \"2021-08-16\", \"2021-08-17\", \"2021-08-18\", \"2021-08-19\", \"2021-08-20\", \"2021-08-23\", \"2021-08-24\", \"2021-08-25\", \"2021-08-26\", \"2021-08-27\", \"2021-08-30\", \"2021-08-31\", \"2021-09-01\", \"2021-09-02\", \"2021-09-03\", \"2021-09-07\", \"2021-09-08\", \"2021-09-09\", \"2021-09-10\", \"2021-09-13\", \"2021-09-14\", \"2021-09-15\", \"2021-09-16\", \"2021-09-17\", \"2021-09-20\", \"2021-09-21\", \"2021-09-22\", \"2021-09-23\", \"2021-09-24\", \"2021-09-27\", \"2021-09-28\", \"2021-09-29\", \"2021-09-30\", \"2021-10-01\", \"2021-10-04\", \"2021-10-05\", \"2021-10-06\", \"2021-10-07\", \"2021-10-08\", \"2021-10-11\", \"2021-10-12\", \"2021-10-13\", \"2021-10-14\", \"2021-10-15\", \"2021-10-18\", \"2021-10-19\", \"2021-10-20\", \"2021-10-21\", \"2021-10-22\", \"2021-10-25\", \"2021-10-26\", \"2021-10-27\", \"2021-10-28\", \"2021-10-29\", \"2021-11-01\", \"2021-11-02\", \"2021-11-03\", \"2021-11-04\", \"2021-11-05\", \"2021-11-08\", \"2021-11-09\", \"2021-11-10\", \"2021-11-11\", \"2021-11-12\", \"2021-11-15\", \"2021-11-16\", \"2021-11-17\", \"2021-11-18\", \"2021-11-19\", \"2021-11-22\", \"2021-11-23\", \"2021-11-24\", \"2021-11-26\"], \"xaxis\": \"x\", \"yaxis\": \"y\"}, {\"mode\": \"lines\", \"name\": \"50MA\", \"type\": \"scatter\", \"x\": [\"2021-05-03\", \"2021-05-04\", \"2021-05-05\", \"2021-05-06\", \"2021-05-07\", \"2021-05-10\", \"2021-05-11\", \"2021-05-12\", \"2021-05-13\", \"2021-05-14\", \"2021-05-17\", \"2021-05-18\", \"2021-05-19\", \"2021-05-20\", \"2021-05-21\", \"2021-05-24\", \"2021-05-25\", \"2021-05-26\", \"2021-05-27\", \"2021-05-28\", \"2021-06-01\", \"2021-06-02\", \"2021-06-03\", \"2021-06-04\", \"2021-06-07\", \"2021-06-08\", \"2021-06-09\", \"2021-06-10\", \"2021-06-11\", \"2021-06-14\", \"2021-06-15\", \"2021-06-16\", \"2021-06-17\", \"2021-06-18\", \"2021-06-21\", \"2021-06-22\", \"2021-06-23\", \"2021-06-24\", \"2021-06-25\", \"2021-06-28\", \"2021-06-29\", \"2021-06-30\", \"2021-07-01\", \"2021-07-02\", \"2021-07-06\", \"2021-07-07\", \"2021-07-08\", \"2021-07-09\", \"2021-07-12\", \"2021-07-13\", \"2021-07-14\", \"2021-07-15\", \"2021-07-16\", \"2021-07-19\", \"2021-07-20\", \"2021-07-21\", \"2021-07-22\", \"2021-07-23\", \"2021-07-26\", \"2021-07-27\", \"2021-07-28\", \"2021-07-29\", \"2021-07-30\", \"2021-08-02\", \"2021-08-03\", \"2021-08-04\", \"2021-08-05\", \"2021-08-06\", \"2021-08-09\", \"2021-08-10\", \"2021-08-11\", \"2021-08-12\", \"2021-08-13\", \"2021-08-16\", \"2021-08-17\", \"2021-08-18\", \"2021-08-19\", \"2021-08-20\", \"2021-08-23\", \"2021-08-24\", \"2021-08-25\", \"2021-08-26\", \"2021-08-27\", \"2021-08-30\", \"2021-08-31\", \"2021-09-01\", \"2021-09-02\", \"2021-09-03\", \"2021-09-07\", \"2021-09-08\", \"2021-09-09\", \"2021-09-10\", \"2021-09-13\", \"2021-09-14\", \"2021-09-15\", \"2021-09-16\", \"2021-09-17\", \"2021-09-20\", \"2021-09-21\", \"2021-09-22\", \"2021-09-23\", \"2021-09-24\", \"2021-09-27\", \"2021-09-28\", \"2021-09-29\", \"2021-09-30\", \"2021-10-01\", \"2021-10-04\", \"2021-10-05\", \"2021-10-06\", \"2021-10-07\", \"2021-10-08\", \"2021-10-11\", \"2021-10-12\", \"2021-10-13\", \"2021-10-14\", \"2021-10-15\", \"2021-10-18\", \"2021-10-19\", \"2021-10-20\", \"2021-10-21\", \"2021-10-22\", \"2021-10-25\", \"2021-10-26\", \"2021-10-27\", \"2021-10-28\", \"2021-10-29\", \"2021-11-01\", \"2021-11-02\", \"2021-11-03\", \"2021-11-04\", \"2021-11-05\", \"2021-11-08\", \"2021-11-09\", \"2021-11-10\", \"2021-11-11\", \"2021-11-12\", \"2021-11-15\", \"2021-11-16\", \"2021-11-17\", \"2021-11-18\", \"2021-11-19\", \"2021-11-22\", \"2021-11-23\", \"2021-11-24\", \"2021-11-26\"], \"xaxis\": \"x\", \"y\": [89.88030000000002, 89.51430000000002, 89.18370000000003, 88.80370000000002, 88.55850000000002, 88.21090000000002, 87.79370000000003, 87.37430000000002, 87.04050000000002, 86.86910000000003, 86.69410000000003, 86.61730000000003, 86.38690000000004, 86.19730000000006, 85.90070000000006, 85.64550000000004, 85.35790000000004, 85.12850000000005, 84.89530000000005, 84.75710000000005, 84.56570000000005, 84.32870000000004, 84.12590000000006, 84.03730000000004, 84.00090000000004, 83.98870000000005, 84.02770000000004, 84.08550000000005, 84.04950000000007, 84.01110000000006, 83.90630000000006, 83.79070000000007, 83.77910000000007, 83.73790000000007, 83.73150000000007, 83.75270000000008, 83.7367000000001, 83.73970000000008, 83.73450000000008, 83.82070000000009, 83.94990000000008, 84.0825000000001, 84.17730000000009, 84.24860000000008, 84.27060000000009, 84.19780000000009, 84.12820000000009, 84.09640000000009, 84.07360000000008, 84.02380000000008, 83.9576000000001, 83.93680000000009, 83.95260000000009, 84.02640000000008, 84.12600000000009, 84.34560000000009, 84.53000000000007, 84.74340000000008, 84.95020000000005, 85.07180000000005, 85.24960000000004, 85.39200000000007, 85.54960000000007, 85.66340000000005, 85.79180000000005, 85.91640000000007, 86.10620000000009, 86.22940000000008, 86.34900000000009, 86.40720000000009, 86.45220000000009, 86.5034000000001, 86.56400000000009, 86.5718000000001, 86.51240000000011, 86.4354000000001, 86.3088000000001, 86.15720000000009, 86.06980000000009, 85.99360000000007, 85.96160000000008, 85.91760000000005, 85.87260000000006, 85.84020000000005, 85.80540000000006, 85.79160000000006, 85.77880000000005, 85.73280000000004, 85.65000000000003, 85.46780000000003, 85.29200000000003, 85.11680000000003, 84.89620000000002, 84.67100000000003, 84.48100000000004, 84.33660000000003, 84.24160000000003, 84.04840000000004, 83.90440000000004, 83.79320000000003, 83.75720000000003, 83.68260000000002, 83.59000000000002, 83.42440000000002, 83.18480000000001, 82.93700000000003, 82.71120000000002, 82.43500000000003, 82.20980000000004, 81.99260000000004, 81.75900000000004, 81.49620000000003, 81.23700000000004, 81.00380000000003, 80.78100000000002, 80.58420000000002, 80.30580000000003, 80.04200000000003, 79.82260000000004, 79.64200000000004, 79.48580000000004, 79.30940000000004, 79.18240000000003, 79.08160000000004, 78.95900000000005, 78.88920000000005, 78.81760000000004, 78.77260000000005, 78.65800000000004, 78.54800000000004, 78.44180000000004, 78.34440000000004, 78.21820000000004, 78.05160000000005, 77.80980000000005, 77.54180000000005, 77.25260000000006, 76.94060000000005, 76.68500000000004, 76.43840000000004, 76.13460000000005, 75.83040000000005, 75.49520000000005, 75.16340000000005, 74.84300000000006, 74.50560000000006], \"yaxis\": \"y\"}, {\"mode\": \"lines\", \"name\": \"100MA\", \"type\": \"scatter\", \"x\": [\"2021-05-03\", \"2021-05-04\", \"2021-05-05\", \"2021-05-06\", \"2021-05-07\", \"2021-05-10\", \"2021-05-11\", \"2021-05-12\", \"2021-05-13\", \"2021-05-14\", \"2021-05-17\", \"2021-05-18\", \"2021-05-19\", \"2021-05-20\", \"2021-05-21\", \"2021-05-24\", \"2021-05-25\", \"2021-05-26\", \"2021-05-27\", \"2021-05-28\", \"2021-06-01\", \"2021-06-02\", \"2021-06-03\", \"2021-06-04\", \"2021-06-07\", \"2021-06-08\", \"2021-06-09\", \"2021-06-10\", \"2021-06-11\", \"2021-06-14\", \"2021-06-15\", \"2021-06-16\", \"2021-06-17\", \"2021-06-18\", \"2021-06-21\", \"2021-06-22\", \"2021-06-23\", \"2021-06-24\", \"2021-06-25\", \"2021-06-28\", \"2021-06-29\", \"2021-06-30\", \"2021-07-01\", \"2021-07-02\", \"2021-07-06\", \"2021-07-07\", \"2021-07-08\", \"2021-07-09\", \"2021-07-12\", \"2021-07-13\", \"2021-07-14\", \"2021-07-15\", \"2021-07-16\", \"2021-07-19\", \"2021-07-20\", \"2021-07-21\", \"2021-07-22\", \"2021-07-23\", \"2021-07-26\", \"2021-07-27\", \"2021-07-28\", \"2021-07-29\", \"2021-07-30\", \"2021-08-02\", \"2021-08-03\", \"2021-08-04\", \"2021-08-05\", \"2021-08-06\", \"2021-08-09\", \"2021-08-10\", \"2021-08-11\", \"2021-08-12\", \"2021-08-13\", \"2021-08-16\", \"2021-08-17\", \"2021-08-18\", \"2021-08-19\", \"2021-08-20\", \"2021-08-23\", \"2021-08-24\", \"2021-08-25\", \"2021-08-26\", \"2021-08-27\", \"2021-08-30\", \"2021-08-31\", \"2021-09-01\", \"2021-09-02\", \"2021-09-03\", \"2021-09-07\", \"2021-09-08\", \"2021-09-09\", \"2021-09-10\", \"2021-09-13\", \"2021-09-14\", \"2021-09-15\", \"2021-09-16\", \"2021-09-17\", \"2021-09-20\", \"2021-09-21\", \"2021-09-22\", \"2021-09-23\", \"2021-09-24\", \"2021-09-27\", \"2021-09-28\", \"2021-09-29\", \"2021-09-30\", \"2021-10-01\", \"2021-10-04\", \"2021-10-05\", \"2021-10-06\", \"2021-10-07\", \"2021-10-08\", \"2021-10-11\", \"2021-10-12\", \"2021-10-13\", \"2021-10-14\", \"2021-10-15\", \"2021-10-18\", \"2021-10-19\", \"2021-10-20\", \"2021-10-21\", \"2021-10-22\", \"2021-10-25\", \"2021-10-26\", \"2021-10-27\", \"2021-10-28\", \"2021-10-29\", \"2021-11-01\", \"2021-11-02\", \"2021-11-03\", \"2021-11-04\", \"2021-11-05\", \"2021-11-08\", \"2021-11-09\", \"2021-11-10\", \"2021-11-11\", \"2021-11-12\", \"2021-11-15\", \"2021-11-16\", \"2021-11-17\", \"2021-11-18\", \"2021-11-19\", \"2021-11-22\", \"2021-11-23\", \"2021-11-24\", \"2021-11-26\"], \"xaxis\": \"x\", \"y\": [96.61754999999985, 96.50514999999984, 96.40824999999984, 96.23204999999986, 96.08214999999986, 95.88704999999986, 95.70954999999985, 95.52624999999985, 95.32174999999985, 95.14024999999985, 94.89964999999984, 94.62334999999983, 94.33594999999983, 94.09264999999984, 93.86014999999983, 93.70924999999984, 93.54364999999983, 93.41934999999984, 93.30124999999984, 93.17499999999984, 93.03519999999982, 92.81209999999983, 92.54529999999983, 92.30369999999982, 92.09179999999982, 91.87549999999982, 91.63259999999983, 91.42609999999982, 91.17669999999981, 90.92789999999982, 90.68799999999982, 90.4327999999998, 90.1974999999998, 90.0111999999998, 89.87829999999981, 89.72239999999982, 89.58829999999982, 89.43719999999983, 89.25819999999983, 89.11609999999985, 88.95779999999985, 88.79374999999983, 88.60004999999984, 88.40024999999986, 88.20124999999986, 87.97864999999987, 87.74534999999987, 87.54884999999987, 87.35494999999987, 87.16174999999987, 86.91894999999988, 86.72554999999987, 86.56814999999986, 86.41504999999987, 86.34224999999988, 86.27824999999989, 86.16184999999987, 86.05884999999988, 85.99534999999987, 85.97044999999987, 85.97184999999989, 86.0046499999999, 85.9682499999999, 85.93034999999989, 85.84624999999988, 85.7809499999999, 85.73204999999989, 85.6789499999999, 85.62214999999989, 85.5821499999999, 85.50894999999987, 85.41604999999987, 85.34494999999987, 85.30454999999988, 85.25664999999988, 85.21204999999989, 85.1682499999999, 85.1213499999999, 85.05964999999989, 85.0023499999999, 84.9339499999999, 84.8541499999999, 84.8258499999999, 84.7890499999999, 84.7684499999999, 84.7721499999999, 84.75774999999989, 84.73624999999988, 84.69224999999989, 84.64424999999989, 84.62094999999988, 84.59964999999987, 84.53674999999987, 84.45979999999987, 84.37579999999987, 84.26719999999986, 84.18489999999987, 84.07239999999987, 83.98899999999986, 83.90849999999986, 83.85739999999986, 83.80969999999985, 83.77129999999984, 83.72539999999985, 83.65539999999984, 83.64129999999984, 83.62059999999985, 83.58919999999985, 83.57999999999986, 83.53219999999986, 83.50429999999987, 83.44409999999988, 83.39329999999987, 83.33359999999986, 83.28639999999984, 83.25029999999984, 83.20599999999985, 83.13569999999983, 83.08579999999984, 83.02459999999982, 82.96899999999984, 82.90639999999983, 82.87319999999983, 82.82669999999982, 82.73569999999981, 82.66229999999982, 82.56319999999981, 82.46489999999982, 82.36389999999982, 82.27079999999982, 82.20169999999982, 82.13099999999982, 82.04539999999983, 81.94589999999982, 81.80759999999982, 81.66669999999982, 81.51569999999981, 81.33669999999981, 81.16749999999982, 80.95309999999981, 80.7132999999998, 80.4735999999998, 80.1956999999998, 79.91719999999981, 79.66199999999981, 79.42109999999981], \"yaxis\": \"y\"}, {\"mode\": \"lines\", \"name\": \"200MA\", \"type\": \"scatter\", \"x\": [\"2021-05-03\", \"2021-05-04\", \"2021-05-05\", \"2021-05-06\", \"2021-05-07\", \"2021-05-10\", \"2021-05-11\", \"2021-05-12\", \"2021-05-13\", \"2021-05-14\", \"2021-05-17\", \"2021-05-18\", \"2021-05-19\", \"2021-05-20\", \"2021-05-21\", \"2021-05-24\", \"2021-05-25\", \"2021-05-26\", \"2021-05-27\", \"2021-05-28\", \"2021-06-01\", \"2021-06-02\", \"2021-06-03\", \"2021-06-04\", \"2021-06-07\", \"2021-06-08\", \"2021-06-09\", \"2021-06-10\", \"2021-06-11\", \"2021-06-14\", \"2021-06-15\", \"2021-06-16\", \"2021-06-17\", \"2021-06-18\", \"2021-06-21\", \"2021-06-22\", \"2021-06-23\", \"2021-06-24\", \"2021-06-25\", \"2021-06-28\", \"2021-06-29\", \"2021-06-30\", \"2021-07-01\", \"2021-07-02\", \"2021-07-06\", \"2021-07-07\", \"2021-07-08\", \"2021-07-09\", \"2021-07-12\", \"2021-07-13\", \"2021-07-14\", \"2021-07-15\", \"2021-07-16\", \"2021-07-19\", \"2021-07-20\", \"2021-07-21\", \"2021-07-22\", \"2021-07-23\", \"2021-07-26\", \"2021-07-27\", \"2021-07-28\", \"2021-07-29\", \"2021-07-30\", \"2021-08-02\", \"2021-08-03\", \"2021-08-04\", \"2021-08-05\", \"2021-08-06\", \"2021-08-09\", \"2021-08-10\", \"2021-08-11\", \"2021-08-12\", \"2021-08-13\", \"2021-08-16\", \"2021-08-17\", \"2021-08-18\", \"2021-08-19\", \"2021-08-20\", \"2021-08-23\", \"2021-08-24\", \"2021-08-25\", \"2021-08-26\", \"2021-08-27\", \"2021-08-30\", \"2021-08-31\", \"2021-09-01\", \"2021-09-02\", \"2021-09-03\", \"2021-09-07\", \"2021-09-08\", \"2021-09-09\", \"2021-09-10\", \"2021-09-13\", \"2021-09-14\", \"2021-09-15\", \"2021-09-16\", \"2021-09-17\", \"2021-09-20\", \"2021-09-21\", \"2021-09-22\", \"2021-09-23\", \"2021-09-24\", \"2021-09-27\", \"2021-09-28\", \"2021-09-29\", \"2021-09-30\", \"2021-10-01\", \"2021-10-04\", \"2021-10-05\", \"2021-10-06\", \"2021-10-07\", \"2021-10-08\", \"2021-10-11\", \"2021-10-12\", \"2021-10-13\", \"2021-10-14\", \"2021-10-15\", \"2021-10-18\", \"2021-10-19\", \"2021-10-20\", \"2021-10-21\", \"2021-10-22\", \"2021-10-25\", \"2021-10-26\", \"2021-10-27\", \"2021-10-28\", \"2021-10-29\", \"2021-11-01\", \"2021-11-02\", \"2021-11-03\", \"2021-11-04\", \"2021-11-05\", \"2021-11-08\", \"2021-11-09\", \"2021-11-10\", \"2021-11-11\", \"2021-11-12\", \"2021-11-15\", \"2021-11-16\", \"2021-11-17\", \"2021-11-18\", \"2021-11-19\", \"2021-11-22\", \"2021-11-23\", \"2021-11-24\", \"2021-11-26\"], \"xaxis\": \"x\", \"y\": [81.23135000000006, 81.36275000000006, 81.48015000000007, 81.59395000000006, 81.71320000000007, 81.81750000000007, 81.93325000000009, 82.02665000000007, 82.12460000000009, 82.23880000000008, 82.34740000000009, 82.46840000000009, 82.5666500000001, 82.6733500000001, 82.77480000000008, 82.88130000000008, 82.99780000000008, 83.11020000000009, 83.2356000000001, 83.35480000000011, 83.4642500000001, 83.57680000000009, 83.6679000000001, 83.7606500000001, 83.86215000000011, 83.96970000000012, 84.07990000000011, 84.21300000000012, 84.34235000000011, 84.47375000000011, 84.60010000000011, 84.72080000000011, 84.8470250000001, 84.9706250000001, 85.09657500000009, 85.24497500000008, 85.40607500000009, 85.57807500000008, 85.74167500000009, 85.92147500000009, 86.10117500000007, 86.26182500000009, 86.41852500000009, 86.56742500000007, 86.71252500000008, 86.84062500000007, 86.97642500000008, 87.11352500000008, 87.25567500000008, 87.38697500000009, 87.4911250000001, 87.5872750000001, 87.6804750000001, 87.7795750000001, 87.8850250000001, 88.0036250000001, 88.09812500000011, 88.19002500000012, 88.25902500000011, 88.31347500000011, 88.3708250000001, 88.4294750000001, 88.4760750000001, 88.53172500000008, 88.59107500000009, 88.6490250000001, 88.7275250000001, 88.8056250000001, 88.90352500000012, 88.98037500000011, 89.04757500000011, 89.1201750000001, 89.17597500000011, 89.23762500000012, 89.29582500000011, 89.3677250000001, 89.4336250000001, 89.49687500000009, 89.5598750000001, 89.61342500000009, 89.6692250000001, 89.73357500000009, 89.81147500000009, 89.87097500000009, 89.9329750000001, 89.99747500000011, 90.0684750000001, 90.1326750000001, 90.1910250000001, 90.23507500000011, 90.2743750000001, 90.3077750000001, 90.3433250000001, 90.37352500000011, 90.38137500000012, 90.38027500000011, 90.38502500000011, 90.37232500000013, 90.34812500000012, 90.30387500000013, 90.23747500000015, 90.15742500000015, 90.08977500000016, 89.97872500000015, 89.86877500000016, 89.76417500000017, 89.66507500000016, 89.55772500000016, 89.45087500000017, 89.33622500000016, 89.20197500000015, 89.03372500000016, 88.86462500000016, 88.71312500000016, 88.57327500000018, 88.47977500000017, 88.37482500000016, 88.27752500000017, 88.19352500000018, 88.09980000000017, 88.0021000000002, 87.85925000000019, 87.7092500000002, 87.56520000000019, 87.41375000000018, 87.2689000000002, 87.0979000000002, 86.9455000000002, 86.7703000000002, 86.5993500000002, 86.44485000000019, 86.28190000000019, 86.12145000000018, 85.97855000000018, 85.84295000000019, 85.69455000000018, 85.55200000000018, 85.38695000000018, 85.21285000000017, 85.03460000000017, 84.83555000000017, 84.63367500000017, 84.39787500000017, 84.15872500000017, 83.93162500000017, 83.69987500000018], \"yaxis\": \"y\"}, {\"mode\": \"lines\", \"name\": \"RSI\", \"type\": \"scatter\", \"x\": [\"2021-05-03\", \"2021-05-04\", \"2021-05-05\", \"2021-05-06\", \"2021-05-07\", \"2021-05-10\", \"2021-05-11\", \"2021-05-12\", \"2021-05-13\", \"2021-05-14\", \"2021-05-17\", \"2021-05-18\", \"2021-05-19\", \"2021-05-20\", \"2021-05-21\", \"2021-05-24\", \"2021-05-25\", \"2021-05-26\", \"2021-05-27\", \"2021-05-28\", \"2021-06-01\", \"2021-06-02\", \"2021-06-03\", \"2021-06-04\", \"2021-06-07\", \"2021-06-08\", \"2021-06-09\", \"2021-06-10\", \"2021-06-11\", \"2021-06-14\", \"2021-06-15\", \"2021-06-16\", \"2021-06-17\", \"2021-06-18\", \"2021-06-21\", \"2021-06-22\", \"2021-06-23\", \"2021-06-24\", \"2021-06-25\", \"2021-06-28\", \"2021-06-29\", \"2021-06-30\", \"2021-07-01\", \"2021-07-02\", \"2021-07-06\", \"2021-07-07\", \"2021-07-08\", \"2021-07-09\", \"2021-07-12\", \"2021-07-13\", \"2021-07-14\", \"2021-07-15\", \"2021-07-16\", \"2021-07-19\", \"2021-07-20\", \"2021-07-21\", \"2021-07-22\", \"2021-07-23\", \"2021-07-26\", \"2021-07-27\", \"2021-07-28\", \"2021-07-29\", \"2021-07-30\", \"2021-08-02\", \"2021-08-03\", \"2021-08-04\", \"2021-08-05\", \"2021-08-06\", \"2021-08-09\", \"2021-08-10\", \"2021-08-11\", \"2021-08-12\", \"2021-08-13\"], \"xaxis\": \"x2\", \"y\": [\"12.6998\", \"6.3687\", \"4.8103\", \"2.9676\", \"23.1755\", \"9.5075\", \"21.2634\", \"14.4399\", \"10.8167\", \"50.8384\", \"48.9212\", \"66.003\", \"44.7461\", \"68.906\", \"61.8509\", \"69.6567\", \"74.7467\", \"85.7488\", \"88.526\", \"90.7879\", \"68.9446\", \"58.2077\", \"19.9371\", \"49.302\", \"79.029\", \"83.2523\", \"87.8914\", \"93.6898\", \"83.7506\", \"87.2692\", \"43.5489\", \"36.4354\", \"68.047\", \"57.2672\", \"68.3938\", \"71.9538\", \"81.8571\", \"89.2874\", \"91.4769\", \"97.1136\", \"97.1989\", \"75.0164\", \"79.2735\", \"49.8799\", \"26.1887\", \"12.8067\", \"12.7083\", \"50.2562\", \"28.985\", \"15.2286\", \"7.3406\", \"6.1467\", \"18.5642\", \"35.2656\", \"69.1448\", \"78.3678\", \"58.4131\", \"48.8832\", \"26.581\", \"17.195\", \"59.4791\", \"55.307\", \"43.5098\", \"46.3291\", \"56.1723\", \"68.6976\", \"92.7278\", \"57.3733\", \"60.9799\", \"29.7317\", \"22.4906\", \"24.479\", \"14.5445\"], \"yaxis\": \"y2\"}, {\"mode\": \"lines\", \"name\": \"Test\", \"type\": \"scatter\", \"x\": [\"2021-08-16\", \"2021-08-17\", \"2021-08-18\", \"2021-08-19\", \"2021-08-20\", \"2021-08-23\", \"2021-08-24\", \"2021-08-25\", \"2021-08-26\", \"2021-08-27\", \"2021-08-30\", \"2021-08-31\", \"2021-09-01\", \"2021-09-02\", \"2021-09-03\", \"2021-09-07\", \"2021-09-08\", \"2021-09-09\", \"2021-09-10\", \"2021-09-13\", \"2021-09-14\", \"2021-09-15\", \"2021-09-16\", \"2021-09-17\", \"2021-09-20\", \"2021-09-21\", \"2021-09-22\", \"2021-09-23\", \"2021-09-24\", \"2021-09-27\", \"2021-09-28\", \"2021-09-29\", \"2021-09-30\", \"2021-10-01\", \"2021-10-04\", \"2021-10-05\", \"2021-10-06\", \"2021-10-07\", \"2021-10-08\", \"2021-10-11\", \"2021-10-12\", \"2021-10-13\", \"2021-10-14\", \"2021-10-15\", \"2021-10-18\", \"2021-10-19\", \"2021-10-20\", \"2021-10-21\", \"2021-10-22\", \"2021-10-25\", \"2021-10-26\", \"2021-10-27\", \"2021-10-28\", \"2021-10-29\", \"2021-11-01\", \"2021-11-02\", \"2021-11-03\", \"2021-11-04\", \"2021-11-05\", \"2021-11-08\", \"2021-11-09\", \"2021-11-10\", \"2021-11-11\", \"2021-11-12\", \"2021-11-15\", \"2021-11-16\", \"2021-11-17\", \"2021-11-18\", \"2021-11-19\", \"2021-11-22\", \"2021-11-23\", \"2021-11-24\", \"2021-11-26\"], \"xaxis\": \"x2\", \"y\": [\"8.7834\", \"7.3552\", \"7.1461\", \"3.5312\", \"37.8932\", \"74.547\", \"81.5776\", \"82.5831\", \"53.4788\", \"76.4776\", \"77.2055\", \"83.1241\", \"90.3583\", \"93.2897\", \"72.4888\", \"39.7373\", \"19.8503\", \"30.3576\", \"23.8401\", \"11.4666\", \"8.007\", \"21.7113\", \"32.713\", \"75.2754\", \"31.4408\", \"44.5025\", \"38.9889\", \"49.86\", \"21.6504\", \"19.256\", \"8.5804\", \"6.2063\", \"25.3021\", \"28.8794\", \"11.3498\", \"29.819\", \"22.2921\", \"55.1623\", \"34.4843\", \"29.7231\", \"55.9655\", \"67.081\", \"81.6394\", \"71.512\", \"44.3596\", \"74.2082\", \"60.5816\", \"62.1949\", \"40.9437\", \"62.5909\", \"56.1252\", \"26.4756\", \"67.8343\", \"45.2115\", \"69.1883\", \"58.67\", \"72.6055\", \"75.6616\", \"57.2874\", \"68.1998\", \"31.9006\", \"14.0279\", \"14.0279\", \"13.1154\", \"6.6381\", \"42.635\", \"26.0193\", \"13.6889\", \"11.6881\", \"5.1135\", \"4.2016\", \"25.9985\", \"21.8192\"], \"yaxis\": \"y2\"}, {\"mode\": \"markers+lines\", \"name\": \"Prediction\", \"type\": \"scatter\", \"x\": [\"2021-08-16\", \"2021-08-17\", \"2021-08-18\", \"2021-08-19\", \"2021-08-20\", \"2021-08-23\", \"2021-08-24\", \"2021-08-25\", \"2021-08-26\", \"2021-08-27\", \"2021-08-30\", \"2021-08-31\", \"2021-09-01\", \"2021-09-02\", \"2021-09-03\", \"2021-09-07\", \"2021-09-08\", \"2021-09-09\", \"2021-09-10\", \"2021-09-13\", \"2021-09-14\", \"2021-09-15\", \"2021-09-16\", \"2021-09-17\", \"2021-09-20\", \"2021-09-21\", \"2021-09-22\", \"2021-09-23\", \"2021-09-24\", \"2021-09-27\", \"2021-09-28\", \"2021-09-29\", \"2021-09-30\", \"2021-10-01\", \"2021-10-04\", \"2021-10-05\", \"2021-10-06\", \"2021-10-07\", \"2021-10-08\", \"2021-10-11\", \"2021-10-12\", \"2021-10-13\", \"2021-10-14\", \"2021-10-15\", \"2021-10-18\", \"2021-10-19\", \"2021-10-20\", \"2021-10-21\", \"2021-10-22\", \"2021-10-25\", \"2021-10-26\", \"2021-10-27\", \"2021-10-28\", \"2021-10-29\", \"2021-11-01\", \"2021-11-02\", \"2021-11-03\", \"2021-11-04\", \"2021-11-05\", \"2021-11-08\", \"2021-11-09\", \"2021-11-10\", \"2021-11-11\", \"2021-11-12\", \"2021-11-15\", \"2021-11-16\", \"2021-11-17\", \"2021-11-18\", \"2021-11-19\", \"2021-11-22\", \"2021-11-23\", \"2021-11-24\", \"2021-11-26\"], \"xaxis\": \"x2\", \"y\": [30.172292709350586, 28.20452308654785, 50.55903244018555, 78.06494140625, 79.38967895507812, 76.8584976196289, 74.81986236572266, 72.706298828125, 84.64933013916016, 82.85647583007812, 87.25090789794922, 87.37704467773438, 80.64691925048828, 34.87355422973633, 26.994384765625, 30.77568817138672, 10.932836532592773, 10.90711784362793, 9.023382186889648, 18.286592483520508, 46.382423400878906, 74.26224517822266, 20.98737907409668, 46.2875862121582, 18.52914047241211, 52.14059829711914, 20.535045623779297, 41.57120132446289, 27.0469913482666, 23.506481170654297, 22.195690155029297, 40.75395584106445, 42.85115051269531, 42.0322151184082, 35.83858871459961, 53.35380172729492, 30.598941802978516, 42.6480712890625, 55.929386138916016, 57.08448028564453, 77.72481536865234, 80.04936218261719, 37.48055648803711, 60.86429214477539, 69.28156280517578, 59.795204162597656, 29.82508659362793, 65.7405776977539, 48.08553695678711, 22.487489700317383, 81.41410064697266, 24.564586639404297, 84.00855255126953, 80.62358856201172, 82.54728698730469, 87.01085662841797, 68.14320373535156, 49.92442321777344, 27.47947883605957, 22.706249237060547, 9.679539680480957, 6.3578619956970215, 5.467220306396484, 40.27261734008789, 28.49595832824707, 39.40306091308594, 30.748868942260742, 16.410017013549805, 11.871515274047852, 20.267080307006836], \"yaxis\": \"y2\"}, {\"mode\": \"markers+lines\", \"name\": \"Forecast\", \"type\": \"scatter\", \"x\": [\"2021-11-26T00:00:00\", \"2021-11-29T00:00:00\", \"2021-11-30T00:00:00\", \"2021-12-01T00:00:00\", \"2021-12-02T00:00:00\", \"2021-12-03T00:00:00\", \"2021-12-06T00:00:00\", \"2021-12-07T00:00:00\", \"2021-12-08T00:00:00\", \"2021-12-09T00:00:00\", \"2021-12-10T00:00:00\", \"2021-12-13T00:00:00\", \"2021-12-14T00:00:00\"], \"xaxis\": \"x2\", \"y\": [21.8192, 45.929913590526574, 57.52134136734008, 67.44534533843994, 72.59668840513228, 75.54997787389755, 77.99120017776488, 79.62910524044035, 80.22346881208419, 80.3173490286827, 80.49308626613616, 80.7092070613861, 80.8483154932022], \"yaxis\": \"y2\"}, {\"line\": {\"color\": \"rgb(100, 10, 100)\", \"dash\": \"dash\", \"shape\": \"linear\"}, \"mode\": \"lines\", \"type\": \"scatter\", \"x\": [\"2021-05-03\", \"2021-12-14T00:00:00\"], \"xaxis\": \"x2\", \"y\": [70, 70], \"yaxis\": \"y2\"}, {\"line\": {\"color\": \"rgb(10, 12, 240)\", \"dash\": \"dash\", \"shape\": \"linear\"}, \"mode\": \"lines\", \"type\": \"scatter\", \"x\": [\"2021-05-03\", \"2021-12-14T00:00:00\"], \"xaxis\": \"x2\", \"y\": [50, 50], \"yaxis\": \"y2\"}, {\"line\": {\"color\": \"rgb(10, 120, 24)\", \"dash\": \"dash\", \"shape\": \"linear\"}, \"mode\": \"lines\", \"type\": \"scatter\", \"x\": [\"2021-05-03\", \"2021-12-14T00:00:00\"], \"xaxis\": \"x2\", \"y\": [30, 30], \"yaxis\": \"y2\"}, {\"mode\": \"lines\", \"name\": \"Train Stoch SlowK\", \"type\": \"scatter\", \"x\": [\"2021-05-03\", \"2021-05-04\", \"2021-05-05\", \"2021-05-06\", \"2021-05-07\", \"2021-05-10\", \"2021-05-11\", \"2021-05-12\", \"2021-05-13\", \"2021-05-14\", \"2021-05-17\", \"2021-05-18\", \"2021-05-19\", \"2021-05-20\", \"2021-05-21\", \"2021-05-24\", \"2021-05-25\", \"2021-05-26\", \"2021-05-27\", \"2021-05-28\", \"2021-06-01\", \"2021-06-02\", \"2021-06-03\", \"2021-06-04\", \"2021-06-07\", \"2021-06-08\", \"2021-06-09\", \"2021-06-10\", \"2021-06-11\", \"2021-06-14\", \"2021-06-15\", \"2021-06-16\", \"2021-06-17\", \"2021-06-18\", \"2021-06-21\", \"2021-06-22\", \"2021-06-23\", \"2021-06-24\", \"2021-06-25\", \"2021-06-28\", \"2021-06-29\", \"2021-06-30\", \"2021-07-01\", \"2021-07-02\", \"2021-07-06\", \"2021-07-07\", \"2021-07-08\", \"2021-07-09\", \"2021-07-12\", \"2021-07-13\", \"2021-07-14\", \"2021-07-15\", \"2021-07-16\", \"2021-07-19\", \"2021-07-20\", \"2021-07-21\", \"2021-07-22\", \"2021-07-23\", \"2021-07-26\", \"2021-07-27\", \"2021-07-28\", \"2021-07-29\", \"2021-07-30\", \"2021-08-02\", \"2021-08-03\", \"2021-08-04\", \"2021-08-05\", \"2021-08-06\", \"2021-08-09\", \"2021-08-10\", \"2021-08-11\", \"2021-08-12\", \"2021-08-13\"], \"xaxis\": \"x3\", \"y\": [\"14.9353\", \"9.274\", \"6.9086\", \"10.2061\", \"14.2063\", \"12.6221\", \"20.6104\", \"20.696\", \"25.3477\", \"30.5905\", \"47.4072\", \"68.2154\", \"69.6537\", \"72.5732\", \"69.6882\", \"76.9412\", \"76.3774\", \"86.5243\", \"92.6674\", \"85.1448\", \"68.3177\", \"48.1757\", \"32.4825\", \"27.1054\", \"43.0717\", \"68.5838\", \"86.9102\", \"90.698\", \"91.6342\", \"92.5043\", \"70.5134\", \"53.0044\", \"49.6057\", \"62.294\", \"79.5043\", \"84.9183\", \"92.5988\", \"91.1417\", \"90.891\", \"90.4755\", \"90.6811\", \"82.1303\", \"76.9181\", \"59.0291\", \"40.7054\", \"20.9986\", \"22.7985\", \"36.2695\", \"46.3538\", \"38.268\", \"21.5995\", \"11.6375\", \"14.1297\", \"24.4597\", \"46.1978\", \"70.8914\", \"85.5646\", \"82.3066\", \"55.5256\", \"38.1192\", \"36.5742\", \"56.1537\", \"69.9118\", \"71.0913\", \"69.2515\", \"70.5495\", \"79.4716\", \"77.5269\", \"76.0895\", \"47.3655\", \"32.2715\", \"15.888\", \"12.9847\"], \"yaxis\": \"y3\"}, {\"mode\": \"lines\", \"name\": \"Train Stoch SlowD\", \"type\": \"scatter\", \"x\": [\"2021-05-03\", \"2021-05-04\", \"2021-05-05\", \"2021-05-06\", \"2021-05-07\", \"2021-05-10\", \"2021-05-11\", \"2021-05-12\", \"2021-05-13\", \"2021-05-14\", \"2021-05-17\", \"2021-05-18\", \"2021-05-19\", \"2021-05-20\", \"2021-05-21\", \"2021-05-24\", \"2021-05-25\", \"2021-05-26\", \"2021-05-27\", \"2021-05-28\", \"2021-06-01\", \"2021-06-02\", \"2021-06-03\", \"2021-06-04\", \"2021-06-07\", \"2021-06-08\", \"2021-06-09\", \"2021-06-10\", \"2021-06-11\", \"2021-06-14\", \"2021-06-15\", \"2021-06-16\", \"2021-06-17\", \"2021-06-18\", \"2021-06-21\", \"2021-06-22\", \"2021-06-23\", \"2021-06-24\", \"2021-06-25\", \"2021-06-28\", \"2021-06-29\", \"2021-06-30\", \"2021-07-01\", \"2021-07-02\", \"2021-07-06\", \"2021-07-07\", \"2021-07-08\", \"2021-07-09\", \"2021-07-12\", \"2021-07-13\", \"2021-07-14\", \"2021-07-15\", \"2021-07-16\", \"2021-07-19\", \"2021-07-20\", \"2021-07-21\", \"2021-07-22\", \"2021-07-23\", \"2021-07-26\", \"2021-07-27\", \"2021-07-28\", \"2021-07-29\", \"2021-07-30\", \"2021-08-02\", \"2021-08-03\", \"2021-08-04\", \"2021-08-05\", \"2021-08-06\", \"2021-08-09\", \"2021-08-10\", \"2021-08-11\", \"2021-08-12\", \"2021-08-13\"], \"xaxis\": \"x3\", \"y\": [\"38.9915\", \"20.747\", \"10.3727\", \"8.7962\", \"10.4403\", \"12.3448\", \"15.8129\", \"17.9762\", \"22.218\", \"25.5447\", \"34.4485\", \"48.7377\", \"61.7588\", \"70.1475\", \"70.6384\", \"73.0676\", \"74.3356\", \"79.9476\", \"85.1897\", \"88.1122\", \"82.0433\", \"67.2127\", \"49.6586\", \"35.9212\", \"34.2199\", \"46.2536\", \"66.1885\", \"82.064\", \"89.7475\", \"91.6122\", \"84.884\", \"72.0074\", \"57.7078\", \"54.968\", \"63.8013\", \"75.5722\", \"85.6738\", \"89.5529\", \"91.5438\", \"90.8361\", \"90.6825\", \"87.7623\", \"83.2432\", \"72.6925\", \"58.8842\", \"40.2444\", \"28.1675\", \"26.6889\", \"35.1406\", \"40.2971\", \"35.4071\", \"23.835\", \"15.7889\", \"16.7423\", \"28.2624\", \"47.183\", \"67.5513\", \"79.5876\", \"74.4656\", \"58.6505\", \"43.4063\", \"43.6157\", \"54.2132\", \"65.7189\", \"70.0849\", \"70.2975\", \"73.0909\", \"75.8493\", \"77.696\", \"66.994\", \"51.9088\", \"31.8417\", \"20.3814\"], \"yaxis\": \"y3\"}, {\"mode\": \"lines\", \"name\": \"Test Stoch SlowD\", \"type\": \"scatter\", \"x\": [\"2021-08-16\", \"2021-08-17\", \"2021-08-18\", \"2021-08-19\", \"2021-08-20\", \"2021-08-23\", \"2021-08-24\", \"2021-08-25\", \"2021-08-26\", \"2021-08-27\", \"2021-08-30\", \"2021-08-31\", \"2021-09-01\", \"2021-09-02\", \"2021-09-03\", \"2021-09-07\", \"2021-09-08\", \"2021-09-09\", \"2021-09-10\", \"2021-09-13\", \"2021-09-14\", \"2021-09-15\", \"2021-09-16\", \"2021-09-17\", \"2021-09-20\", \"2021-09-21\", \"2021-09-22\", \"2021-09-23\", \"2021-09-24\", \"2021-09-27\", \"2021-09-28\", \"2021-09-29\", \"2021-09-30\", \"2021-10-01\", \"2021-10-04\", \"2021-10-05\", \"2021-10-06\", \"2021-10-07\", \"2021-10-08\", \"2021-10-11\", \"2021-10-12\", \"2021-10-13\", \"2021-10-14\", \"2021-10-15\", \"2021-10-18\", \"2021-10-19\", \"2021-10-20\", \"2021-10-21\", \"2021-10-22\", \"2021-10-25\", \"2021-10-26\", \"2021-10-27\", \"2021-10-28\", \"2021-10-29\", \"2021-11-01\", \"2021-11-02\", \"2021-11-03\", \"2021-11-04\", \"2021-11-05\", \"2021-11-08\", \"2021-11-09\", \"2021-11-10\", \"2021-11-11\", \"2021-11-12\", \"2021-11-15\", \"2021-11-16\", \"2021-11-17\", \"2021-11-18\", \"2021-11-19\", \"2021-11-22\", \"2021-11-23\", \"2021-11-24\", \"2021-11-26\"], \"xaxis\": \"x3\", \"y\": [\"13.7586\", \"12.9805\", \"15.6701\", \"17.163\", \"20.6637\", \"29.6278\", \"50.6083\", \"74.5104\", \"87.831\", \"89.1672\", \"83.8694\", \"83.7315\", \"84.8512\", \"89.3423\", \"89.6498\", \"84.8008\", \"68.3099\", \"46.7439\", \"27.1508\", \"16.9625\", \"11.8522\", \"11.4939\", \"13.7556\", \"27.2769\", \"39.1558\", \"49.5388\", \"43.3951\", \"39.8876\", \"31.0042\", \"28.8922\", \"20.0817\", \"15.7691\", \"9.7807\", \"10.9954\", \"12.3769\", \"16.7148\", \"16.1066\", \"21.7629\", \"26.0412\", \"31.4952\", \"29.4198\", \"34.0787\", \"48.7976\", \"67.2023\", \"75.5377\", \"74.4322\", \"69.4138\", \"70.2169\", \"66.034\", \"63.1886\", \"56.7042\", \"51.0178\", \"47.9572\", \"44.6302\", \"55.8414\", \"62.8873\", \"77.8101\", \"81.3725\", \"84.9816\", \"79.7484\", \"68.9434\", \"52.9387\", \"31.9629\", \"16.8027\", \"7.9803\", \"9.904\", \"12.6473\", \"16.0893\", \"13.1591\", \"9.0614\", \"5.5399\", \"7.8262\", \"14.6081\"], \"yaxis\": \"y3\"}, {\"mode\": \"lines\", \"name\": \"Test Stoch SlowK\", \"type\": \"scatter\", \"x\": [\"2021-08-16\", \"2021-08-17\", \"2021-08-18\", \"2021-08-19\", \"2021-08-20\", \"2021-08-23\", \"2021-08-24\", \"2021-08-25\", \"2021-08-26\", \"2021-08-27\", \"2021-08-30\", \"2021-08-31\", \"2021-09-01\", \"2021-09-02\", \"2021-09-03\", \"2021-09-07\", \"2021-09-08\", \"2021-09-09\", \"2021-09-10\", \"2021-09-13\", \"2021-09-14\", \"2021-09-15\", \"2021-09-16\", \"2021-09-17\", \"2021-09-20\", \"2021-09-21\", \"2021-09-22\", \"2021-09-23\", \"2021-09-24\", \"2021-09-27\", \"2021-09-28\", \"2021-09-29\", \"2021-09-30\", \"2021-10-01\", \"2021-10-04\", \"2021-10-05\", \"2021-10-06\", \"2021-10-07\", \"2021-10-08\", \"2021-10-11\", \"2021-10-12\", \"2021-10-13\", \"2021-10-14\", \"2021-10-15\", \"2021-10-18\", \"2021-10-19\", \"2021-10-20\", \"2021-10-21\", \"2021-10-22\", \"2021-10-25\", \"2021-10-26\", \"2021-10-27\", \"2021-10-28\", \"2021-10-29\", \"2021-11-01\", \"2021-11-02\", \"2021-11-03\", \"2021-11-04\", \"2021-11-05\", \"2021-11-08\", \"2021-11-09\", \"2021-11-10\", \"2021-11-11\", \"2021-11-12\", \"2021-11-15\", \"2021-11-16\", \"2021-11-17\", \"2021-11-18\", \"2021-11-19\", \"2021-11-22\", \"2021-11-23\", \"2021-11-24\", \"2021-11-26\"], \"xaxis\": \"x3\", \"y\": [\"12.4032\", \"13.5535\", \"21.0536\", \"16.8818\", \"24.0557\", \"47.9458\", \"79.8235\", \"95.7618\", \"87.9078\", \"83.8321\", \"79.8682\", \"87.4941\", \"87.1912\", \"93.3416\", \"88.4166\", \"72.6442\", \"43.8689\", \"23.7187\", \"13.8649\", \"13.3039\", \"8.3877\", \"12.79\", \"20.0892\", \"48.9515\", \"48.4268\", \"51.2381\", \"30.5204\", \"37.9044\", \"24.588\", \"24.1842\", \"11.4729\", \"11.6503\", \"6.2189\", \"15.1171\", \"15.7947\", \"19.2328\", \"13.2923\", \"32.7636\", \"32.0679\", \"29.6541\", \"26.5374\", \"46.0447\", \"73.8108\", \"81.7515\", \"71.0509\", \"70.4943\", \"66.6963\", \"73.46\", \"57.9457\", \"58.1601\", \"54.0067\", \"40.8867\", \"48.9783\", \"44.0256\", \"74.5203\", \"70.116\", \"88.794\", \"85.2076\", \"80.9432\", \"73.0943\", \"52.7928\", \"32.9291\", \"10.1667\", \"7.3121\", \"6.462\", \"15.9381\", \"15.5419\", \"16.788\", \"7.1474\", \"3.2488\", \"6.2235\", \"14.0064\", \"23.5943\"], \"yaxis\": \"y3\"}, {\"mode\": \"markers+lines\", \"name\": \"Prediction Stoch SlowD\", \"type\": \"scatter\", \"x\": [\"2021-08-16\", \"2021-08-17\", \"2021-08-18\", \"2021-08-19\", \"2021-08-20\", \"2021-08-23\", \"2021-08-24\", \"2021-08-25\", \"2021-08-26\", \"2021-08-27\", \"2021-08-30\", \"2021-08-31\", \"2021-09-01\", \"2021-09-02\", \"2021-09-03\", \"2021-09-07\", \"2021-09-08\", \"2021-09-09\", \"2021-09-10\", \"2021-09-13\", \"2021-09-14\", \"2021-09-15\", \"2021-09-16\", \"2021-09-17\", \"2021-09-20\", \"2021-09-21\", \"2021-09-22\", \"2021-09-23\", \"2021-09-24\", \"2021-09-27\", \"2021-09-28\", \"2021-09-29\", \"2021-09-30\", \"2021-10-01\", \"2021-10-04\", \"2021-10-05\", \"2021-10-06\", \"2021-10-07\", \"2021-10-08\", \"2021-10-11\", \"2021-10-12\", \"2021-10-13\", \"2021-10-14\", \"2021-10-15\", \"2021-10-18\", \"2021-10-19\", \"2021-10-20\", \"2021-10-21\", \"2021-10-22\", \"2021-10-25\", \"2021-10-26\", \"2021-10-27\", \"2021-10-28\", \"2021-10-29\", \"2021-11-01\", \"2021-11-02\", \"2021-11-03\", \"2021-11-04\", \"2021-11-05\", \"2021-11-08\", \"2021-11-09\", \"2021-11-10\", \"2021-11-11\", \"2021-11-12\", \"2021-11-15\", \"2021-11-16\", \"2021-11-17\", \"2021-11-18\", \"2021-11-19\", \"2021-11-22\", \"2021-11-23\", \"2021-11-24\", \"2021-11-26\"], \"xaxis\": \"x3\", \"y\": [16.248706817626953, 19.20024299621582, 26.430007934570312, 45.2296142578125, 71.78587341308594, 84.81021118164062, 84.11595153808594, 78.45159149169922, 80.38825225830078, 80.14258575439453, 83.99197387695312, 85.585205078125, 81.96763610839844, 62.587989807128906, 42.86825942993164, 28.793119430541992, 16.30417251586914, 13.827069282531738, 12.331393241882324, 12.442424774169922, 21.62004852294922, 43.83233642578125, 49.01530456542969, 43.947811126708984, 39.70827865600586, 38.573909759521484, 29.806116104125977, 24.862548828125, 20.738630294799805, 15.481966018676758, 13.08514404296875, 18.9306583404541, 22.173629760742188, 21.851343154907227, 20.894153594970703, 30.957569122314453, 33.81077575683594, 32.55585479736328, 33.61913299560547, 45.561981201171875, 66.13249206542969, 79.3636245727539, 65.87691497802734, 64.25479125976562, 66.66585540771484, 62.181949615478516, 53.30392074584961, 51.31062698364258, 53.45214080810547, 41.275535583496094, 50.70425796508789, 44.77018737792969, 59.626441955566406, 72.04685974121094, 76.24633026123047, 81.5844955444336, 74.69371032714844, 64.12228393554688, 51.324745178222656, 32.19763946533203, 15.067502975463867, 11.777085304260254, 8.622644424438477, 17.07498550415039, 21.330289840698242, 20.75025177001953, 17.50111198425293, 12.711695671081543, 10.933369636535645, 13.49194622039795], \"yaxis\": \"y3\"}, {\"mode\": \"markers+lines\", \"name\": \"Prediction Stoch SlowK\", \"type\": \"scatter\", \"x\": [\"2021-08-16\", \"2021-08-17\", \"2021-08-18\", \"2021-08-19\", \"2021-08-20\", \"2021-08-23\", \"2021-08-24\", \"2021-08-25\", \"2021-08-26\", \"2021-08-27\", \"2021-08-30\", \"2021-08-31\", \"2021-09-01\", \"2021-09-02\", \"2021-09-03\", \"2021-09-07\", \"2021-09-08\", \"2021-09-09\", \"2021-09-10\", \"2021-09-13\", \"2021-09-14\", \"2021-09-15\", \"2021-09-16\", \"2021-09-17\", \"2021-09-20\", \"2021-09-21\", \"2021-09-22\", \"2021-09-23\", \"2021-09-24\", \"2021-09-27\", \"2021-09-28\", \"2021-09-29\", \"2021-09-30\", \"2021-10-01\", \"2021-10-04\", \"2021-10-05\", \"2021-10-06\", \"2021-10-07\", \"2021-10-08\", \"2021-10-11\", \"2021-10-12\", \"2021-10-13\", \"2021-10-14\", \"2021-10-15\", \"2021-10-18\", \"2021-10-19\", \"2021-10-20\", \"2021-10-21\", \"2021-10-22\", \"2021-10-25\", \"2021-10-26\", \"2021-10-27\", \"2021-10-28\", \"2021-10-29\", \"2021-11-01\", \"2021-11-02\", \"2021-11-03\", \"2021-11-04\", \"2021-11-05\", \"2021-11-08\", \"2021-11-09\", \"2021-11-10\", \"2021-11-11\", \"2021-11-12\", \"2021-11-15\", \"2021-11-16\", \"2021-11-17\", \"2021-11-18\", \"2021-11-19\", \"2021-11-22\", \"2021-11-23\", \"2021-11-24\", \"2021-11-26\"], \"xaxis\": \"x3\", \"y\": [21.51751136779785, 22.340633392333984, 38.83319091796875, 69.52554321289062, 86.59635162353516, 85.27616119384766, 79.34581756591797, 73.91041564941406, 82.94786834716797, 81.2720947265625, 85.65812683105469, 85.99211883544922, 79.46745300292969, 43.00590133666992, 25.018505096435547, 19.83111572265625, 11.823074340820312, 10.700498580932617, 9.81360149383545, 14.614439010620117, 34.063716888427734, 67.54730987548828, 40.40867233276367, 33.84093475341797, 28.31305694580078, 40.063072204589844, 25.002634048461914, 24.418567657470703, 20.96920394897461, 16.491371154785156, 16.37990379333496, 28.314374923706055, 30.147029876708984, 29.037046432495117, 25.815073013305664, 44.29767608642578, 35.331329345703125, 29.481996536254883, 44.24219512939453, 59.95779037475586, 80.63391876220703, 83.06253051757812, 47.14793014526367, 58.47331619262695, 71.63410949707031, 59.23768615722656, 39.168067932128906, 52.94545364379883, 51.823814392089844, 26.528587341308594, 62.883724212646484, 38.61957550048828, 71.4147720336914, 81.63722229003906, 80.21842193603516, 86.23326110839844, 69.97760009765625, 54.4503173828125, 35.131961822509766, 18.272966384887695, 10.420099258422852, 8.83316707611084, 8.74380111694336, 27.89456558227539, 26.467864990234375, 23.94900131225586, 19.86384391784668, 12.686110496520996, 12.008450508117676, 16.88152313232422], \"yaxis\": \"y3\"}, {\"mode\": \"markers+lines\", \"name\": \"Forecast Stoch SlowD\", \"type\": \"scatter\", \"x\": [\"2021-11-26T00:00:00\", \"2021-11-29T00:00:00\", \"2021-11-30T00:00:00\", \"2021-12-01T00:00:00\", \"2021-12-02T00:00:00\", \"2021-12-03T00:00:00\", \"2021-12-06T00:00:00\", \"2021-12-07T00:00:00\", \"2021-12-08T00:00:00\", \"2021-12-09T00:00:00\", \"2021-12-10T00:00:00\", \"2021-12-13T00:00:00\", \"2021-12-14T00:00:00\"], \"xaxis\": \"x3\", \"y\": [14.608100000000002, 24.14172142971754, 34.5390901797533, 51.45012931115627, 68.45602621033191, 78.14774811096191, 82.41266370909213, 83.17132916121483, 82.63838947322368, 81.85132622938156, 81.18738564634323, 80.65271295945644, 80.1418822972536], \"yaxis\": \"y3\"}, {\"mode\": \"markers+lines\", \"name\": \"Forecast Stoch SlowK\", \"type\": \"scatter\", \"x\": [\"2021-11-26T00:00:00\", \"2021-11-29T00:00:00\", \"2021-11-30T00:00:00\", \"2021-12-01T00:00:00\", \"2021-12-02T00:00:00\", \"2021-12-03T00:00:00\", \"2021-12-06T00:00:00\", \"2021-12-07T00:00:00\", \"2021-12-08T00:00:00\", \"2021-12-09T00:00:00\", \"2021-12-10T00:00:00\", \"2021-12-13T00:00:00\", \"2021-12-14T00:00:00\"], \"xaxis\": \"x3\", \"y\": [23.5943, 34.83207103823423, 49.40184413302243, 68.67651101734042, 78.61186874519586, 82.37242624633312, 82.35393964310289, 81.7173265187621, 80.90187499283552, 80.30421438066959, 79.98825438915492, 79.79187137686014, 79.59570143430233], \"yaxis\": \"y3\"}, {\"line\": {\"color\": \"rgb(100, 10, 100)\", \"dash\": \"dash\", \"shape\": \"linear\"}, \"mode\": \"lines\", \"type\": \"scatter\", \"x\": [\"2021-05-03\", \"2021-12-14T00:00:00\"], \"xaxis\": \"x3\", \"y\": [70, 70], \"yaxis\": \"y3\"}, {\"line\": {\"color\": \"rgb(10, 12, 240)\", \"dash\": \"dash\", \"shape\": \"linear\"}, \"mode\": \"lines\", \"type\": \"scatter\", \"x\": [\"2021-05-03\", \"2021-12-14T00:00:00\"], \"xaxis\": \"x3\", \"y\": [50, 50], \"yaxis\": \"y3\"}, {\"line\": {\"color\": \"rgb(10, 120, 24)\", \"dash\": \"dash\", \"shape\": \"linear\"}, \"mode\": \"lines\", \"type\": \"scatter\", \"x\": [\"2021-05-03\", \"2021-12-14T00:00:00\"], \"xaxis\": \"x3\", \"y\": [30, 30], \"yaxis\": \"y3\"}, {\"type\": \"bar\", \"x\": [\"2021-05-03\", \"2021-05-04\", \"2021-05-05\", \"2021-05-06\", \"2021-05-07\", \"2021-05-10\", \"2021-05-11\", \"2021-05-12\", \"2021-05-13\", \"2021-05-14\", \"2021-05-17\", \"2021-05-18\", \"2021-05-19\", \"2021-05-20\", \"2021-05-21\", \"2021-05-24\", \"2021-05-25\", \"2021-05-26\", \"2021-05-27\", \"2021-05-28\", \"2021-06-01\", \"2021-06-02\", \"2021-06-03\", \"2021-06-04\", \"2021-06-07\", \"2021-06-08\", \"2021-06-09\", \"2021-06-10\", \"2021-06-11\", \"2021-06-14\", \"2021-06-15\", \"2021-06-16\", \"2021-06-17\", \"2021-06-18\", \"2021-06-21\", \"2021-06-22\", \"2021-06-23\", \"2021-06-24\", \"2021-06-25\", \"2021-06-28\", \"2021-06-29\", \"2021-06-30\", \"2021-07-01\", \"2021-07-02\", \"2021-07-06\", \"2021-07-07\", \"2021-07-08\", \"2021-07-09\", \"2021-07-12\", \"2021-07-13\", \"2021-07-14\", \"2021-07-15\", \"2021-07-16\", \"2021-07-19\", \"2021-07-20\", \"2021-07-21\", \"2021-07-22\", \"2021-07-23\", \"2021-07-26\", \"2021-07-27\", \"2021-07-28\", \"2021-07-29\", \"2021-07-30\", \"2021-08-02\", \"2021-08-03\", \"2021-08-04\", \"2021-08-05\", \"2021-08-06\", \"2021-08-09\", \"2021-08-10\", \"2021-08-11\", \"2021-08-12\", \"2021-08-13\"], \"xaxis\": \"x4\", \"y\": [\"0.392\", \"0.0407\", \"-0.2541\", \"-0.5867\", \"-0.7775\", \"-0.8773\", \"-1.39\", \"-1.4258\", \"-1.3745\", \"-1.3071\", \"-1.089\", \"-0.8232\", \"-0.6385\", \"-0.3723\", \"-0.0236\", \"0.2036\", \"0.4003\", \"0.5501\", \"0.7029\", \"0.8555\", \"0.9803\", \"0.9372\", \"0.8195\", \"0.6997\", \"0.6355\", \"0.8187\", \"0.9209\", \"0.9961\", \"1.1202\", \"1.1684\", \"1.1478\", \"0.9326\", \"0.6894\", \"0.6046\", \"0.5499\", \"0.5087\", \"0.4809\", \"0.5121\", \"0.5508\", \"0.7319\", \"0.8118\", \"0.8081\", \"0.7282\", \"0.6526\", \"0.4503\", \"0.2099\", \"-0.2527\", \"-0.3787\", \"-0.3864\", \"-0.4893\", \"-0.6576\", \"-0.9902\", \"-1.163\", \"-1.3291\", \"-1.2146\", \"-0.9446\", \"-0.6701\", \"-0.4811\", \"-0.4278\", \"-0.4672\", \"-0.5449\", \"-0.3605\", \"-0.2932\", \"-0.2274\", \"-0.1484\", \"-0.121\", \"-0.0256\", \"0.2727\", \"0.3265\", \"0.4156\", \"0.2506\", \"0.0409\", \"-0.0633\"], \"yaxis\": \"y4\"}, {\"type\": \"bar\", \"x\": [\"2021-08-16\", \"2021-08-17\", \"2021-08-18\", \"2021-08-19\", \"2021-08-20\", \"2021-08-23\", \"2021-08-24\", \"2021-08-25\", \"2021-08-26\", \"2021-08-27\", \"2021-08-30\", \"2021-08-31\", \"2021-09-01\", \"2021-09-02\", \"2021-09-03\", \"2021-09-07\", \"2021-09-08\", \"2021-09-09\", \"2021-09-10\", \"2021-09-13\", \"2021-09-14\", \"2021-09-15\", \"2021-09-16\", \"2021-09-17\", \"2021-09-20\", \"2021-09-21\", \"2021-09-22\", \"2021-09-23\", \"2021-09-24\", \"2021-09-27\", \"2021-09-28\", \"2021-09-29\", \"2021-09-30\", \"2021-10-01\", \"2021-10-04\", \"2021-10-05\", \"2021-10-06\", \"2021-10-07\", \"2021-10-08\", \"2021-10-11\", \"2021-10-12\", \"2021-10-13\", \"2021-10-14\", \"2021-10-15\", \"2021-10-18\", \"2021-10-19\", \"2021-10-20\", \"2021-10-21\", \"2021-10-22\", \"2021-10-25\", \"2021-10-26\", \"2021-10-27\", \"2021-10-28\", \"2021-10-29\", \"2021-11-01\", \"2021-11-02\", \"2021-11-03\", \"2021-11-04\", \"2021-11-05\", \"2021-11-08\", \"2021-11-09\", \"2021-11-10\", \"2021-11-11\", \"2021-11-12\", \"2021-11-15\", \"2021-11-16\", \"2021-11-17\", \"2021-11-18\", \"2021-11-19\", \"2021-11-22\", \"2021-11-23\", \"2021-11-24\", \"2021-11-26\"], \"xaxis\": \"x4\", \"y\": [\"-0.24\", \"-0.4747\", \"-0.5619\", \"-0.6339\", \"-0.7235\", \"-0.5761\", \"-0.2821\", \"-0.0302\", \"0.1461\", \"0.2201\", \"0.3841\", \"0.4612\", \"0.5622\", \"0.694\", \"0.7868\", \"0.7541\", \"0.5916\", \"0.3499\", \"0.2535\", \"0.1327\", \"-0.0969\", \"-0.3179\", \"-0.4154\", \"-0.4294\", \"-0.4225\", \"-0.407\", \"-0.3433\", \"-0.3049\", \"-0.2906\", \"-0.4001\", \"-0.5167\", \"-0.6674\", \"-0.7829\", \"-0.7779\", \"-0.7602\", \"-0.82\", \"-0.8366\", \"-0.7441\", \"-0.5615\", \"-0.4968\", \"-0.427\", \"-0.2585\", \"-0.009\", \"0.27\", \"0.3563\", \"0.3918\", \"0.5637\", \"0.613\", \"0.6242\", \"0.5623\", \"0.6008\", \"0.5738\", \"0.4259\", \"0.4658\", \"0.4171\", \"0.5325\", \"0.5246\", \"0.6119\", \"0.6469\", \"0.6156\", \"0.5704\", \"0.3844\", \"0.1421\", \"-0.0548\", \"-0.1868\", \"-0.3695\", \"-0.3899\", \"-0.4507\", \"-0.6445\", \"-0.7579\", \"-0.9998\", \"-1.1891\", \"-1.1694\"], \"yaxis\": \"y4\"}, {\"marker\": {\"color\": [\"black\"]}, \"type\": \"bar\", \"x\": [\"2021-11-26T00:00:00\", \"2021-11-29T00:00:00\", \"2021-11-30T00:00:00\", \"2021-12-01T00:00:00\", \"2021-12-02T00:00:00\", \"2021-12-03T00:00:00\", \"2021-12-06T00:00:00\", \"2021-12-07T00:00:00\", \"2021-12-08T00:00:00\", \"2021-12-09T00:00:00\", \"2021-12-10T00:00:00\", \"2021-12-13T00:00:00\", \"2021-12-14T00:00:00\"], \"xaxis\": \"x4\", \"y\": [-1.1694, -1.3000185873508454, -1.0759946035146715, -0.7717123396396639, -0.4115028345584872, -0.19619052767753628, -0.0405817208290103, 0.07375538563728302, 0.14825575804710356, 0.20653391432762114, 0.27287626862525904, 0.3427501075267788, 0.4112868897914883], \"yaxis\": \"y4\"}],\n",
              "                        {\"annotations\": [{\"font\": {\"size\": 16}, \"showarrow\": false, \"text\": \"<a href=\\\"https://in.tradingview.com/chart/66XmQfYy/?symbol=ARKG\\\">ARKG</a> Date:2021-11-26 Open:64.49 High:64.25 Low:66.23 Close:64.61\", \"x\": 0.5, \"xanchor\": \"center\", \"xref\": \"paper\", \"y\": 1.0, \"yanchor\": \"bottom\", \"yref\": \"paper\"}, {\"font\": {\"size\": 16}, \"showarrow\": false, \"text\": \"<a href=\\\"https://in.tradingview.com/chart/66XmQfYy/?symbol=ARKG\\\">ARKG</a> RSI(3) Date:2021-11-26 Close:21.8192 Forecast(3):69.0\", \"x\": 0.5, \"xanchor\": \"center\", \"xref\": \"paper\", \"y\": 0.625, \"yanchor\": \"bottom\", \"yref\": \"paper\"}], \"height\": 650, \"margin\": {\"b\": 20, \"l\": 20, \"r\": 20, \"t\": 20}, \"template\": {\"data\": {\"bar\": [{\"error_x\": {\"color\": \"#2a3f5f\"}, \"error_y\": {\"color\": \"#2a3f5f\"}, \"marker\": {\"line\": {\"color\": \"#E5ECF6\", \"width\": 0.5}}, \"type\": \"bar\"}], \"barpolar\": [{\"marker\": {\"line\": {\"color\": \"#E5ECF6\", \"width\": 0.5}}, \"type\": \"barpolar\"}], \"carpet\": [{\"aaxis\": {\"endlinecolor\": \"#2a3f5f\", \"gridcolor\": \"white\", \"linecolor\": \"white\", \"minorgridcolor\": \"white\", \"startlinecolor\": \"#2a3f5f\"}, \"baxis\": {\"endlinecolor\": \"#2a3f5f\", \"gridcolor\": \"white\", \"linecolor\": \"white\", \"minorgridcolor\": \"white\", \"startlinecolor\": \"#2a3f5f\"}, \"type\": \"carpet\"}], \"choropleth\": [{\"colorbar\": {\"outlinewidth\": 0, \"ticks\": \"\"}, \"type\": \"choropleth\"}], \"contour\": [{\"colorbar\": {\"outlinewidth\": 0, \"ticks\": \"\"}, \"colorscale\": [[0.0, \"#0d0887\"], [0.1111111111111111, \"#46039f\"], [0.2222222222222222, \"#7201a8\"], [0.3333333333333333, \"#9c179e\"], [0.4444444444444444, \"#bd3786\"], [0.5555555555555556, \"#d8576b\"], [0.6666666666666666, \"#ed7953\"], [0.7777777777777778, \"#fb9f3a\"], [0.8888888888888888, \"#fdca26\"], [1.0, \"#f0f921\"]], \"type\": \"contour\"}], \"contourcarpet\": [{\"colorbar\": {\"outlinewidth\": 0, \"ticks\": \"\"}, \"type\": \"contourcarpet\"}], \"heatmap\": [{\"colorbar\": {\"outlinewidth\": 0, \"ticks\": \"\"}, \"colorscale\": [[0.0, \"#0d0887\"], [0.1111111111111111, \"#46039f\"], [0.2222222222222222, \"#7201a8\"], [0.3333333333333333, \"#9c179e\"], [0.4444444444444444, \"#bd3786\"], [0.5555555555555556, \"#d8576b\"], [0.6666666666666666, \"#ed7953\"], [0.7777777777777778, \"#fb9f3a\"], [0.8888888888888888, \"#fdca26\"], [1.0, \"#f0f921\"]], \"type\": \"heatmap\"}], \"heatmapgl\": [{\"colorbar\": {\"outlinewidth\": 0, \"ticks\": \"\"}, \"colorscale\": [[0.0, \"#0d0887\"], [0.1111111111111111, \"#46039f\"], [0.2222222222222222, \"#7201a8\"], [0.3333333333333333, \"#9c179e\"], [0.4444444444444444, \"#bd3786\"], [0.5555555555555556, \"#d8576b\"], [0.6666666666666666, \"#ed7953\"], [0.7777777777777778, \"#fb9f3a\"], [0.8888888888888888, \"#fdca26\"], [1.0, \"#f0f921\"]], \"type\": \"heatmapgl\"}], \"histogram\": [{\"marker\": {\"colorbar\": {\"outlinewidth\": 0, \"ticks\": \"\"}}, \"type\": \"histogram\"}], \"histogram2d\": [{\"colorbar\": {\"outlinewidth\": 0, \"ticks\": \"\"}, \"colorscale\": [[0.0, \"#0d0887\"], [0.1111111111111111, \"#46039f\"], [0.2222222222222222, \"#7201a8\"], [0.3333333333333333, \"#9c179e\"], [0.4444444444444444, \"#bd3786\"], [0.5555555555555556, \"#d8576b\"], [0.6666666666666666, \"#ed7953\"], [0.7777777777777778, \"#fb9f3a\"], [0.8888888888888888, \"#fdca26\"], [1.0, \"#f0f921\"]], \"type\": \"histogram2d\"}], \"histogram2dcontour\": [{\"colorbar\": {\"outlinewidth\": 0, \"ticks\": \"\"}, \"colorscale\": [[0.0, \"#0d0887\"], [0.1111111111111111, \"#46039f\"], [0.2222222222222222, \"#7201a8\"], [0.3333333333333333, \"#9c179e\"], [0.4444444444444444, \"#bd3786\"], [0.5555555555555556, \"#d8576b\"], [0.6666666666666666, \"#ed7953\"], [0.7777777777777778, \"#fb9f3a\"], [0.8888888888888888, \"#fdca26\"], [1.0, \"#f0f921\"]], \"type\": \"histogram2dcontour\"}], \"mesh3d\": [{\"colorbar\": {\"outlinewidth\": 0, \"ticks\": \"\"}, \"type\": \"mesh3d\"}], \"parcoords\": [{\"line\": {\"colorbar\": {\"outlinewidth\": 0, \"ticks\": \"\"}}, \"type\": \"parcoords\"}], \"pie\": [{\"automargin\": true, \"type\": \"pie\"}], \"scatter\": [{\"marker\": {\"colorbar\": {\"outlinewidth\": 0, \"ticks\": \"\"}}, \"type\": \"scatter\"}], \"scatter3d\": [{\"line\": {\"colorbar\": {\"outlinewidth\": 0, \"ticks\": \"\"}}, \"marker\": {\"colorbar\": {\"outlinewidth\": 0, \"ticks\": \"\"}}, \"type\": \"scatter3d\"}], \"scattercarpet\": [{\"marker\": {\"colorbar\": {\"outlinewidth\": 0, \"ticks\": \"\"}}, \"type\": \"scattercarpet\"}], \"scattergeo\": [{\"marker\": {\"colorbar\": {\"outlinewidth\": 0, \"ticks\": \"\"}}, \"type\": \"scattergeo\"}], \"scattergl\": [{\"marker\": {\"colorbar\": {\"outlinewidth\": 0, \"ticks\": \"\"}}, \"type\": \"scattergl\"}], \"scattermapbox\": [{\"marker\": {\"colorbar\": {\"outlinewidth\": 0, \"ticks\": \"\"}}, \"type\": \"scattermapbox\"}], \"scatterpolar\": [{\"marker\": {\"colorbar\": {\"outlinewidth\": 0, \"ticks\": \"\"}}, \"type\": \"scatterpolar\"}], \"scatterpolargl\": [{\"marker\": {\"colorbar\": {\"outlinewidth\": 0, \"ticks\": \"\"}}, \"type\": \"scatterpolargl\"}], \"scatterternary\": [{\"marker\": {\"colorbar\": {\"outlinewidth\": 0, \"ticks\": \"\"}}, \"type\": \"scatterternary\"}], \"surface\": [{\"colorbar\": {\"outlinewidth\": 0, \"ticks\": \"\"}, \"colorscale\": [[0.0, \"#0d0887\"], [0.1111111111111111, \"#46039f\"], [0.2222222222222222, \"#7201a8\"], [0.3333333333333333, \"#9c179e\"], [0.4444444444444444, \"#bd3786\"], [0.5555555555555556, \"#d8576b\"], [0.6666666666666666, \"#ed7953\"], [0.7777777777777778, \"#fb9f3a\"], [0.8888888888888888, \"#fdca26\"], [1.0, \"#f0f921\"]], \"type\": \"surface\"}], \"table\": [{\"cells\": {\"fill\": {\"color\": \"#EBF0F8\"}, \"line\": {\"color\": \"white\"}}, \"header\": {\"fill\": {\"color\": \"#C8D4E3\"}, \"line\": {\"color\": \"white\"}}, \"type\": \"table\"}]}, \"layout\": {\"annotationdefaults\": {\"arrowcolor\": \"#2a3f5f\", \"arrowhead\": 0, \"arrowwidth\": 1}, \"coloraxis\": {\"colorbar\": {\"outlinewidth\": 0, \"ticks\": \"\"}}, \"colorscale\": {\"diverging\": [[0, \"#8e0152\"], [0.1, \"#c51b7d\"], [0.2, \"#de77ae\"], [0.3, \"#f1b6da\"], [0.4, \"#fde0ef\"], [0.5, \"#f7f7f7\"], [0.6, \"#e6f5d0\"], [0.7, \"#b8e186\"], [0.8, \"#7fbc41\"], [0.9, \"#4d9221\"], [1, \"#276419\"]], \"sequential\": [[0.0, \"#0d0887\"], [0.1111111111111111, \"#46039f\"], [0.2222222222222222, \"#7201a8\"], [0.3333333333333333, \"#9c179e\"], [0.4444444444444444, \"#bd3786\"], [0.5555555555555556, \"#d8576b\"], [0.6666666666666666, \"#ed7953\"], [0.7777777777777778, \"#fb9f3a\"], [0.8888888888888888, \"#fdca26\"], [1.0, \"#f0f921\"]], \"sequentialminus\": [[0.0, \"#0d0887\"], [0.1111111111111111, \"#46039f\"], [0.2222222222222222, \"#7201a8\"], [0.3333333333333333, \"#9c179e\"], [0.4444444444444444, \"#bd3786\"], [0.5555555555555556, \"#d8576b\"], [0.6666666666666666, \"#ed7953\"], [0.7777777777777778, \"#fb9f3a\"], [0.8888888888888888, \"#fdca26\"], [1.0, \"#f0f921\"]]}, \"colorway\": [\"#636efa\", \"#EF553B\", \"#00cc96\", \"#ab63fa\", \"#FFA15A\", \"#19d3f3\", \"#FF6692\", \"#B6E880\", \"#FF97FF\", \"#FECB52\"], \"font\": {\"color\": \"#2a3f5f\"}, \"geo\": {\"bgcolor\": \"white\", \"lakecolor\": \"white\", \"landcolor\": \"#E5ECF6\", \"showlakes\": true, \"showland\": true, \"subunitcolor\": \"white\"}, \"hoverlabel\": {\"align\": \"left\"}, \"hovermode\": \"closest\", \"mapbox\": {\"style\": \"light\"}, \"paper_bgcolor\": \"white\", \"plot_bgcolor\": \"#E5ECF6\", \"polar\": {\"angularaxis\": {\"gridcolor\": \"white\", \"linecolor\": \"white\", \"ticks\": \"\"}, \"bgcolor\": \"#E5ECF6\", \"radialaxis\": {\"gridcolor\": \"white\", \"linecolor\": \"white\", \"ticks\": \"\"}}, \"scene\": {\"xaxis\": {\"backgroundcolor\": \"#E5ECF6\", \"gridcolor\": \"white\", \"gridwidth\": 2, \"linecolor\": \"white\", \"showbackground\": true, \"ticks\": \"\", \"zerolinecolor\": \"white\"}, \"yaxis\": {\"backgroundcolor\": \"#E5ECF6\", \"gridcolor\": \"white\", \"gridwidth\": 2, \"linecolor\": \"white\", \"showbackground\": true, \"ticks\": \"\", \"zerolinecolor\": \"white\"}, \"zaxis\": {\"backgroundcolor\": \"#E5ECF6\", \"gridcolor\": \"white\", \"gridwidth\": 2, \"linecolor\": \"white\", \"showbackground\": true, \"ticks\": \"\", \"zerolinecolor\": \"white\"}}, \"shapedefaults\": {\"line\": {\"color\": \"#2a3f5f\"}}, \"ternary\": {\"aaxis\": {\"gridcolor\": \"white\", \"linecolor\": \"white\", \"ticks\": \"\"}, \"baxis\": {\"gridcolor\": \"white\", \"linecolor\": \"white\", \"ticks\": \"\"}, \"bgcolor\": \"#E5ECF6\", \"caxis\": {\"gridcolor\": \"white\", \"linecolor\": \"white\", \"ticks\": \"\"}}, \"title\": {\"x\": 0.05}, \"xaxis\": {\"automargin\": true, \"gridcolor\": \"white\", \"linecolor\": \"white\", \"ticks\": \"\", \"title\": {\"standoff\": 15}, \"zerolinecolor\": \"white\", \"zerolinewidth\": 2}, \"yaxis\": {\"automargin\": true, \"gridcolor\": \"white\", \"linecolor\": \"white\", \"ticks\": \"\", \"title\": {\"standoff\": 15}, \"zerolinecolor\": \"white\", \"zerolinewidth\": 2}}}, \"xaxis\": {\"anchor\": \"y\", \"domain\": [0.0, 1.0], \"rangeslider\": {\"visible\": false}, \"showspikes\": true, \"spikedash\": \"dash\", \"spikemode\": \"across\", \"spikesnap\": \"cursor\"}, \"xaxis2\": {\"anchor\": \"y2\", \"domain\": [0.0, 1.0], \"showspikes\": true, \"spikedash\": \"dash\", \"spikemode\": \"across\", \"spikesnap\": \"cursor\"}, \"xaxis3\": {\"anchor\": \"y3\", \"domain\": [0.0, 1.0], \"showspikes\": true, \"spikedash\": \"dash\", \"spikemode\": \"across\", \"spikesnap\": \"cursor\"}, \"xaxis4\": {\"anchor\": \"y4\", \"domain\": [0.0, 1.0], \"showspikes\": true, \"spikedash\": \"dash\", \"spikemode\": \"across\", \"spikesnap\": \"cursor\"}, \"yaxis\": {\"anchor\": \"x\", \"domain\": [0.75, 1.0], \"showspikes\": true, \"spikedash\": \"dash\", \"spikemode\": \"across\", \"spikesnap\": \"cursor\"}, \"yaxis2\": {\"anchor\": \"x2\", \"domain\": [0.5, 0.625], \"showspikes\": true, \"spikedash\": \"dash\", \"spikemode\": \"across\", \"spikesnap\": \"cursor\"}, \"yaxis3\": {\"anchor\": \"x3\", \"domain\": [0.25, 0.375], \"showspikes\": true, \"spikedash\": \"dash\", \"spikemode\": \"across\", \"spikesnap\": \"cursor\"}, \"yaxis4\": {\"anchor\": \"x4\", \"domain\": [0.0, 0.125], \"showspikes\": true, \"spikedash\": \"dash\", \"spikemode\": \"across\", \"spikesnap\": \"cursor\"}},\n",
              "                        {\"responsive\": true}\n",
              "                    ).then(function(){\n",
              "                            \n",
              "var gd = document.getElementById('ac8b6e81-4042-468e-86df-2ea667445803');\n",
              "var x = new MutationObserver(function (mutations, observer) {{\n",
              "        var display = window.getComputedStyle(gd).display;\n",
              "        if (!display || display === 'none') {{\n",
              "            console.log([gd, 'removed!']);\n",
              "            Plotly.purge(gd);\n",
              "            observer.disconnect();\n",
              "        }}\n",
              "}});\n",
              "\n",
              "// Listen for the removal of the full notebook cells\n",
              "var notebookContainer = gd.closest('#notebook-container');\n",
              "if (notebookContainer) {{\n",
              "    x.observe(notebookContainer, {childList: true});\n",
              "}}\n",
              "\n",
              "// Listen for the clearing of the current output cell\n",
              "var outputEl = gd.closest('.output');\n",
              "if (outputEl) {{\n",
              "    x.observe(outputEl, {childList: true});\n",
              "}}\n",
              "\n",
              "                        })\n",
              "                };\n",
              "                \n",
              "            </script>\n",
              "        </div>\n",
              "</body>\n",
              "</html>"
            ]
          },
          "metadata": {}
        },
        {
          "output_type": "stream",
          "name": "stdout",
          "text": [
            "chart folder: /content/drive/MyDrive/models/charts/2021-11-26\n"
          ]
        }
      ]
    }
  ]
}