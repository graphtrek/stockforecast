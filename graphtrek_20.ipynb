{
  "nbformat": 4,
  "nbformat_minor": 0,
  "metadata": {
    "colab": {
      "name": "graphtrek_20.ipynb",
      "provenance": [],
      "mount_file_id": "https://github.com/graphtrek/stockforecast/blob/main/graphtrek_20.ipynb",
      "authorship_tag": "ABX9TyM5mNRtWCi9zTW1HiofopT0",
      "include_colab_link": true
    },
    "kernelspec": {
      "name": "python3",
      "display_name": "Python 3"
    },
    "language_info": {
      "name": "python"
    }
  },
  "cells": [
    {
      "cell_type": "markdown",
      "metadata": {
        "id": "view-in-github",
        "colab_type": "text"
      },
      "source": [
        "<a href=\"https://colab.research.google.com/github/graphtrek/stockforecast/blob/main/graphtrek_20.ipynb\" target=\"_parent\"><img src=\"https://colab.research.google.com/assets/colab-badge.svg\" alt=\"Open In Colab\"/></a>"
      ]
    },
    {
      "cell_type": "code",
      "execution_count": null,
      "metadata": {
        "colab": {
          "base_uri": "https://localhost:8080/"
        },
        "id": "FqMCA9YoriWx",
        "outputId": "f741d3e1-3d63-420f-e8f4-da4f1f74b2d5"
      },
      "outputs": [
        {
          "output_type": "stream",
          "name": "stdout",
          "text": [
            "Requirement already satisfied: yfinance in /usr/local/lib/python3.7/dist-packages (0.1.67)\n",
            "Requirement already satisfied: pandas>=0.24 in /usr/local/lib/python3.7/dist-packages (from yfinance) (1.1.5)\n",
            "Requirement already satisfied: numpy>=1.15 in /usr/local/lib/python3.7/dist-packages (from yfinance) (1.19.5)\n",
            "Requirement already satisfied: requests>=2.20 in /usr/local/lib/python3.7/dist-packages (from yfinance) (2.23.0)\n",
            "Requirement already satisfied: multitasking>=0.0.7 in /usr/local/lib/python3.7/dist-packages (from yfinance) (0.0.10)\n",
            "Requirement already satisfied: lxml>=4.5.1 in /usr/local/lib/python3.7/dist-packages (from yfinance) (4.7.1)\n",
            "Requirement already satisfied: pytz>=2017.2 in /usr/local/lib/python3.7/dist-packages (from pandas>=0.24->yfinance) (2018.9)\n",
            "Requirement already satisfied: python-dateutil>=2.7.3 in /usr/local/lib/python3.7/dist-packages (from pandas>=0.24->yfinance) (2.8.2)\n",
            "Requirement already satisfied: six>=1.5 in /usr/local/lib/python3.7/dist-packages (from python-dateutil>=2.7.3->pandas>=0.24->yfinance) (1.15.0)\n",
            "Requirement already satisfied: idna<3,>=2.5 in /usr/local/lib/python3.7/dist-packages (from requests>=2.20->yfinance) (2.10)\n",
            "Requirement already satisfied: urllib3!=1.25.0,!=1.25.1,<1.26,>=1.21.1 in /usr/local/lib/python3.7/dist-packages (from requests>=2.20->yfinance) (1.24.3)\n",
            "Requirement already satisfied: chardet<4,>=3.0.2 in /usr/local/lib/python3.7/dist-packages (from requests>=2.20->yfinance) (3.0.4)\n",
            "Requirement already satisfied: certifi>=2017.4.17 in /usr/local/lib/python3.7/dist-packages (from requests>=2.20->yfinance) (2021.10.8)\n",
            "Requirement already satisfied: plotly==5.5.0 in /usr/local/lib/python3.7/dist-packages (5.5.0)\n",
            "Requirement already satisfied: tenacity>=6.2.0 in /usr/local/lib/python3.7/dist-packages (from plotly==5.5.0) (8.0.1)\n",
            "Requirement already satisfied: six in /usr/local/lib/python3.7/dist-packages (from plotly==5.5.0) (1.15.0)\n",
            "Requirement already satisfied: ta in /usr/local/lib/python3.7/dist-packages (0.8.0)\n",
            "Requirement already satisfied: pandas in /usr/local/lib/python3.7/dist-packages (from ta) (1.1.5)\n",
            "Requirement already satisfied: numpy in /usr/local/lib/python3.7/dist-packages (from ta) (1.19.5)\n",
            "Requirement already satisfied: pytz>=2017.2 in /usr/local/lib/python3.7/dist-packages (from pandas->ta) (2018.9)\n",
            "Requirement already satisfied: python-dateutil>=2.7.3 in /usr/local/lib/python3.7/dist-packages (from pandas->ta) (2.8.2)\n",
            "Requirement already satisfied: six>=1.5 in /usr/local/lib/python3.7/dist-packages (from python-dateutil>=2.7.3->pandas->ta) (1.15.0)\n",
            "Requirement already satisfied: mplfinance in /usr/local/lib/python3.7/dist-packages (0.12.8b6)\n",
            "Requirement already satisfied: matplotlib in /usr/local/lib/python3.7/dist-packages (from mplfinance) (3.2.2)\n",
            "Requirement already satisfied: pandas in /usr/local/lib/python3.7/dist-packages (from mplfinance) (1.1.5)\n",
            "Requirement already satisfied: cycler>=0.10 in /usr/local/lib/python3.7/dist-packages (from matplotlib->mplfinance) (0.11.0)\n",
            "Requirement already satisfied: numpy>=1.11 in /usr/local/lib/python3.7/dist-packages (from matplotlib->mplfinance) (1.19.5)\n",
            "Requirement already satisfied: kiwisolver>=1.0.1 in /usr/local/lib/python3.7/dist-packages (from matplotlib->mplfinance) (1.3.2)\n",
            "Requirement already satisfied: python-dateutil>=2.1 in /usr/local/lib/python3.7/dist-packages (from matplotlib->mplfinance) (2.8.2)\n",
            "Requirement already satisfied: pyparsing!=2.0.4,!=2.1.2,!=2.1.6,>=2.0.1 in /usr/local/lib/python3.7/dist-packages (from matplotlib->mplfinance) (3.0.6)\n",
            "Requirement already satisfied: six>=1.5 in /usr/local/lib/python3.7/dist-packages (from python-dateutil>=2.1->matplotlib->mplfinance) (1.15.0)\n",
            "Requirement already satisfied: pytz>=2017.2 in /usr/local/lib/python3.7/dist-packages (from pandas->mplfinance) (2018.9)\n"
          ]
        }
      ],
      "source": [
        "# install necessary modules\n",
        "!pip install yfinance\n",
        "!pip install plotly==5.5.0\n",
        "!pip install ta\n",
        "!pip install mplfinance"
      ]
    },
    {
      "cell_type": "code",
      "source": [
        "import pandas as pd\n",
        "import yfinance as yf\n",
        "\n",
        "from datetime import datetime, timedelta\n",
        "\n",
        "import plotly.graph_objects as go\n",
        "from plotly.subplots import make_subplots\n",
        "\n",
        "import requests\n",
        "from bs4 import BeautifulSoup\n",
        "import numpy as np\n",
        "import math\n",
        "from mplfinance.original_flavor import candlestick_ohlc\n",
        "import matplotlib.dates as mpl_dates\n",
        "import matplotlib.pyplot as plt\n",
        "\n",
        "\n",
        "from ta.trend import MACD\n",
        "from ta.momentum import StochasticOscillator\n",
        "from ta.momentum import RSIIndicator\n",
        "\n",
        "\n",
        "from tabulate import tabulate\n",
        "from pathlib import Path"
      ],
      "metadata": {
        "id": "MIfXZ81VrrqB"
      },
      "execution_count": null,
      "outputs": []
    },
    {
      "cell_type": "code",
      "source": [
        "# method 1: fractal candlestick pattern\n",
        "\n",
        "def get_stock_price(ticker, from_date):\n",
        "  #df = yf.download(ticker.ticker, start='2020-01-01')\n",
        "  #df = df.rename(columns={\"Close\": \"Close1\", \"Adj Close\": \"Close\"})\n",
        "  \n",
        "  #ticker = yf.Ticker(symbol)\n",
        "\n",
        "  df = ticker.history(start=from_date, interval=\"1d\")\n",
        "  #print(df.info())\n",
        "  df['Date'] = pd.to_datetime(df.index)\n",
        "  df['Date'] = df['Date'].apply(mpl_dates.date2num)\n",
        "  #df = df.loc[:,['Date', 'Open', 'High', 'Low', 'Close']]\n",
        "  df['MA21'] = df['Close'].ewm(span=21, adjust=False).mean()\n",
        "  df['MA50'] = df['Close'].rolling(window=50).mean()\n",
        "  df['MA100'] = df['Close'].rolling(window=100).mean()\n",
        "  df['MA200'] = df['Close'].rolling(window=200).mean()\n",
        "  return df\n",
        "\n",
        "def is_support(df,i):\n",
        "  cond1 = df['Low'][i] < df['Low'][i-1] \n",
        "  cond2 = df['Low'][i] < df['Low'][i+1] \n",
        "  cond3 = df['Low'][i+1] < df['Low'][i+2] \n",
        "  cond4 = df['Low'][i-1] < df['Low'][i-2]\n",
        "  return (cond1 and cond2 and cond3 and cond4)\n",
        "\n",
        "def is_resistance(df,i):\n",
        "  cond1 = df['High'][i] > df['High'][i-1] \n",
        "  cond2 = df['High'][i] > df['High'][i+1] \n",
        "  cond3 = df['High'][i+1] > df['High'][i+2] \n",
        "  cond4 = df['High'][i-1] > df['High'][i-2]\n",
        "  return (cond1 and cond2 and cond3 and cond4)\n",
        "\n",
        "def is_far_from_level(value, levels, df):\n",
        "    ave =  np.mean(df['High'] - df['Low'])\n",
        "    return np.sum([abs(value - level) < ave for level in levels]) == 0\n",
        "\n",
        "def plot_all(levels, df):\n",
        "    fig, ax = plt.subplots(figsize=(16, 9), dpi=300)\n",
        "    candlestick_ohlc(ax,df.values,width=0.6, colorup='green', colordown='red', alpha=0.8)\n",
        "    date_format = mpl_dates.DateFormatter('%d %b %Y')\n",
        "    ax.xaxis.set_major_formatter(date_format)\n",
        "    for level in levels:\n",
        "        plt.hlines(level[1], xmin=df['Date'][level[0]], xmax=max(df['Date']), colors='blue', linestyle='--')\n",
        "    fig.show()\n",
        "\n",
        "def findNearestGreaterThan(searchVal, inputData):\n",
        "    diff = inputData - searchVal\n",
        "    diff[diff<0] = np.inf\n",
        "    idx = diff.argmin()\n",
        "    return inputData[idx]\n",
        "\n",
        "\n",
        "def findNearestLessThan(searchVal, inputData):\n",
        "    diff = inputData - searchVal\n",
        "    diff[diff>0] = -np.inf\n",
        "    idx = diff.argmax()\n",
        "    return inputData[idx]\n",
        "\n",
        "def indicators(chart_df):\n",
        "  # MACD\n",
        "  macd = MACD(close=chart_df['Close'], \n",
        "            window_slow=26,\n",
        "            window_fast=12, \n",
        "            window_sign=9)\n",
        "  # stochastics\n",
        "  stoch = StochasticOscillator(high=chart_df['High'],\n",
        "                             close=chart_df['Close'],\n",
        "                             low=chart_df['Low'],\n",
        "                             window=14, \n",
        "                             smooth_window=3)\n",
        "\n",
        "  rsi = RSIIndicator(close=chart_df['Close'], window=14)\n",
        "  return macd, stoch, rsi"
      ],
      "metadata": {
        "id": "jyYPSEVcsEFj"
      },
      "execution_count": null,
      "outputs": []
    },
    {
      "cell_type": "code",
      "source": [
        "def calculate_levels(chart_df):\n",
        "  levels = []\n",
        "  low = 0\n",
        "  high = np.round(chart_df['Close'].max(),1)\n",
        "  for i in range(2,len(chart_df)-2):\n",
        "    if is_support(chart_df,i):\n",
        "      low = chart_df['Low'][i]\n",
        "    if is_far_from_level(low, levels, chart_df):\n",
        "      levels.append(low)\n",
        "    elif is_resistance(df,i):\n",
        "      high = chart_df['High'][i]\n",
        "    if is_far_from_level(high, levels, chart_df):\n",
        "      levels.append(high)\n",
        "  levels = sorted(levels, reverse=True)\n",
        "\n",
        "  last_day_df = chart_df[-1:]\n",
        "  close_price = np.round(last_day_df['Close'][0],1)\n",
        "\n",
        "  min_level = np.round(findNearestLessThan(close_price,levels),1)\n",
        "  if(min_level > close_price):\n",
        "    min_level = np.round(close_price * 0.8,1)\n",
        "\n",
        "  max_level = np.round(findNearestGreaterThan(close_price,levels),1)\n",
        "  if(max_level < close_price):\n",
        "    max_level = np.round(close_price * 1.2,1)\n",
        "\n",
        "  print('close_price',close_price,'min_level:',min_level,'max_level:', max_level)\n",
        "  return levels, min_level, max_level"
      ],
      "metadata": {
        "id": "cBDM1rHHKZSf"
      },
      "execution_count": null,
      "outputs": []
    },
    {
      "cell_type": "code",
      "source": [
        "def options_chain(ticker):\n",
        "\n",
        "    #tk = yf.Ticker(symbol)\n",
        "    # Expiration dates\n",
        "    exps = ticker.options\n",
        "\n",
        "    # Get options for each expiration\n",
        "    options = pd.DataFrame()\n",
        "    for e in exps:\n",
        "        opt = ticker.option_chain(e)\n",
        "        opt = pd.DataFrame().append(opt.calls).append(opt.puts)\n",
        "        opt['expirationDate'] = e\n",
        "        options = options.append(opt, ignore_index=True)\n",
        "\n",
        "    # Bizarre error in yfinance that gives the wrong expiration date\n",
        "    # Add 1 day to get the correct expiration date\n",
        "    options['expirationDate'] = pd.to_datetime(options['expirationDate'])\n",
        "    options['dte'] = (options['expirationDate'] - datetime.today()).dt.days \n",
        "    options['expirationDate'] = options['expirationDate'].dt.date\n",
        "    # Boolean column if the option is a CALL\n",
        "    options['CALL'] = options['contractSymbol'].str[4:].apply(\n",
        "        lambda x: \"C\" in x)\n",
        "    \n",
        "    options[['bid', \n",
        "             'ask', \n",
        "             'strike', \n",
        "             'lastPrice', \n",
        "             'volume',\n",
        "             'change',\n",
        "             'percentChange',\n",
        "             'openInterest',\n",
        "             'impliedVolatility']] = options[[\n",
        "                                   'bid', \n",
        "                                   'ask', \n",
        "                                   'strike',\n",
        "                                   'lastPrice',\n",
        "                                   'volume',\n",
        "                                   'change',\n",
        "                                   'percentChange',\n",
        "                                   'openInterest',\n",
        "                                   'impliedVolatility']].apply(pd.to_numeric)\n",
        "    \n",
        "    options['mark'] = np.round(((options['bid'] + options['ask']) / 2),2) # Calculate the midpoint of the bid-ask\n",
        "    \n",
        "    # Drop unnecessary and meaningless columns\n",
        "    #options = options.drop(columns = ['contractSize', 'currency', 'change', 'percentChange', 'lastTradeDate', 'lastPrice'])\n",
        "\n",
        "    return options"
      ],
      "metadata": {
        "id": "R2FEIo4xTL-w"
      },
      "execution_count": 254,
      "outputs": []
    },
    {
      "cell_type": "code",
      "source": [
        "def find_level_optionInterests(ticker,close_price,min_level,max_level):\n",
        "  options_df = options_chain(ticker)\n",
        "  options_df['impliedVolatility'] = np.round(options_df['impliedVolatility'],2)\n",
        "  #expirationDates = options_df['expirationDate'].unique()\n",
        "  #print(sorted(expirationDates))\n",
        "\n",
        "  #PUT_options_df = pd.DataFrame()\n",
        "  #CALL_options_df = pd.DataFrame()\n",
        "\n",
        "  #for key, value in options_df.items():\n",
        "  #  date = key\n",
        "  #  rsi = float(value.get('RSI'))\n",
        "  #  rsi_data.append([date,rsi])\n",
        "#  print('PUT OPTIONS', 'CLOSE PRICE:',close_price, 'SUPPORT -15%:', np.round(min_level * 0.85,2), 'RESISTANCE +15%:', np.round(max_level * 1.15,2))\n",
        "  PUT_options_df = options_df.query('CALL == False and strike>' + str(min_level * 0.85) + ' and strike<' + str(max_level * 1.15))\n",
        "  put_index = PUT_options_df[\"openInterest\"].idxmax()\n",
        "  PUT_options_df = PUT_options_df.drop(columns = ['contractSize', 'currency','percentChange','change', 'lastTradeDate', 'lastPrice', 'inTheMoney','contractSymbol']) \n",
        "#  print(tabulate(PUT_options_df.loc[put_index:put_index], headers = 'keys', tablefmt = 'psql'))\n",
        "\n",
        "#  print('CALL OPTIONS', 'CLOSE PRICE:',close_price, 'SUPPORT -15%:', np.round(min_level * 0.85,2), 'RESISTANCE +15%:', np.round(max_level * 1.15,2))\n",
        "  CALL_options_df = options_df.query('CALL == True and strike>' + str(min_level * 0.85) + ' and strike<' + str(max_level * 1.15))\n",
        "  call_index = CALL_options_df[\"openInterest\"].idxmax()\n",
        "  CALL_options_df = CALL_options_df.drop(columns = ['contractSize', 'currency','percentChange', 'change', 'lastTradeDate', 'lastPrice', 'inTheMoney','contractSymbol']) \n",
        "#  print(tabulate(CALL_options_df.loc[call_index:call_index], headers = 'keys', tablefmt = 'psql'))\n",
        "  return PUT_options_df.loc[put_index:put_index], CALL_options_df.loc[call_index:call_index]"
      ],
      "metadata": {
        "id": "fbz2SVTOTwki"
      },
      "execution_count": 256,
      "outputs": []
    },
    {
      "cell_type": "code",
      "source": [
        "def get_chart(ticker, df, days):\n",
        "  last_day_df = df[-1:]\n",
        "  last_date = last_day_df['Date'].index[0].date()\n",
        "  close_price = np.round(last_day_df['Close'][0],1)\n",
        "\n",
        "  ath = np.round(df['Close'].max(),1)\n",
        "  discount = np.round(ath - close_price,1)\n",
        "  discount_percent = np.round((discount / close_price) * 100, 1)\n",
        "  \n",
        "  chart_df = df.tail(days)\n",
        "\n",
        "  macd, soch, rsi = indicators(chart_df)\n",
        "  levels, min_level, max_level = calculate_levels(chart_df)\n",
        "  PUT_options_df, CALL_options_df = find_level_optionInterests(ticker,close_price,min_level,max_level)\n",
        "  options_df = pd.DataFrame()\n",
        "  options_df = options_df.append(PUT_options_df)\n",
        "  options_df = options_df.append(CALL_options_df)\n",
        "\n",
        "  tradingview_link = '<a href=\"https://in.tradingview.com/chart/66XmQfYy/?symbol=' + ticker.ticker +'\">' + ticker.ticker +'</a> '\n",
        "  seeking_alpha_link = '<a href=\"https://seekingalpha.com/symbol/'+ ticker.ticker +'\"> Seeking Alpha </a> '\n",
        "  title = '<b>' + tradingview_link + '</b> ' + seeking_alpha_link +' <b>Date:</b>' + str(last_date) + ' <b>Close Price:</b>' + str(close_price) \n",
        "  title += '<br><b>Support:</b>' + str(min_level) + ' <b>Resistance:</b>' + str(max_level) + ' <b>ATH:</b>' + str(ath) + ' <b>Discount:</b>' + str(discount) + ' (' + str(discount_percent) + '%)'\n",
        "  title += '<br>' \n",
        "  title += 'Support -15%:<b>' + str(np.round(min_level * 0.85,2)) + '</b> '\n",
        "  title += 'Resistance +15%:<b>' + str(np.round(max_level * 1.15,2)) +'</b> '\n",
        "  \n",
        "  # add subplot properties when initiliazing fig variable\n",
        "  fig = make_subplots(rows=5, cols=1, shared_xaxes=True,\n",
        "                    vertical_spacing=0.01, \n",
        "                    row_heights=[0.11,0.49,0.1,0.2,0.1],\n",
        "                    subplot_titles=[title],\n",
        "                    specs=[\n",
        "                           [{\"type\": \"table\"}],\n",
        "                           [{\"type\": \"candlestick\"}],\n",
        "                           [{\"type\": \"bar\"}],\n",
        "                           [{\"type\": \"scatter\"}],\n",
        "                           [{\"type\": \"scatter\"}]\n",
        "                           ])\n",
        "\n",
        "  fig.update_layout(\n",
        "      height=900, width=1200, \n",
        "      showlegend=True,\n",
        "      dragmode= 'pan', \n",
        "      margin=go.layout.Margin(\n",
        "          l=20, #left margin\n",
        "          r=20, #right margin\n",
        "          b=20, #bottom margin\n",
        "          t=100  #top margin\n",
        "      ))\n",
        "\n",
        "\n",
        "  fig.add_trace(\n",
        "      go.Table(\n",
        "        header=dict(values=list(options_df.columns),\n",
        "                fill_color='paleturquoise',\n",
        "                font=dict(color='black', size=12),\n",
        "                align='left'),\n",
        "        cells=dict(values=options_df.transpose().values.tolist(),\n",
        "               fill_color='lavender',\n",
        "               align='left')\n",
        "        ),row=1, col=1)\n",
        "  \n",
        "  # Plot OHLC on 1st subplot (using the codes from before)\n",
        "  fig.add_trace(go.Candlestick(x=chart_df.index,\n",
        "                             open=chart_df['Open'],\n",
        "                             high=chart_df['High'],\n",
        "                             low=chart_df['Low'],\n",
        "                             close=chart_df['Close'], \n",
        "                             name=ticker.ticker,\n",
        "                             showlegend=True), row=2, col=1)\n",
        "  \n",
        "\n",
        "  # add moving average traces\n",
        "  fig.add_trace(go.Scatter(x=chart_df.index, \n",
        "                         y=chart_df['MA21'], \n",
        "                         line=dict(color='green', width=2), \n",
        "                         name='MA 21'), row=2, col=1)\n",
        "  fig.add_trace(go.Scatter(x=chart_df.index, \n",
        "                         y=chart_df['MA50'], \n",
        "                         line=dict(color='blue', width=2), \n",
        "                         name='MA 50'), row=2, col=1)\n",
        "  fig.add_trace(go.Scatter(x=chart_df.index, \n",
        "                         y=chart_df['MA100'], \n",
        "                         line=dict(color='orange', width=2), \n",
        "                         name='MA 100'), row=2, col=1)\n",
        "  fig.add_trace(go.Scatter(x=chart_df.index, \n",
        "                         y=chart_df['MA200'], \n",
        "                         line=dict(color='red', width=2), \n",
        "                         name='MA 200'), row=2, col=1)\n",
        "\n",
        "\n",
        "  start_date = \"2021-06-01\"\n",
        "  end_date = \"2022-01-31\"\n",
        "  zoom_df = chart_df.iloc[chart_df.index >= start_date]\n",
        "  y_zoom_max = zoom_df[\"High\"].max()\n",
        "  y_zoom_min = zoom_df[\"Low\"].min()\n",
        "\n",
        "  ath_percent = 0\n",
        "  \n",
        "  for idx, level in  enumerate(levels):\n",
        "      percent = 0\n",
        "      if idx == 0:\n",
        "        ath = level\n",
        "      current_level = level\n",
        "      if idx > 0:\n",
        "        prev_level = levels[idx-1]\n",
        "        diff = prev_level - current_level\n",
        "        ath_diff = ath - current_level\n",
        "        percent = (diff / current_level) * 100\n",
        "        ath_percent =  (ath_diff / current_level) * 100\n",
        "      if level <= (min_level * 0.85) or level >= (max_level * 1.15):\n",
        "        line_color = 'rgba(100, 10, 100, 0.2)'\n",
        "      else:\n",
        "        line_color = 'rgba(200, 20, 200, 0.8)'\n",
        "      fig.add_trace(go.Scatter(\n",
        "          x = [chart_df.index.min(), chart_df.index.max()],\n",
        "          y = [level, level],\n",
        "          mode=\"lines+text\",\n",
        "          name=\"Lines and Text\",\n",
        "          showlegend=False,\n",
        "          text=['','$' + str(np.round(current_level,1)) + ' (' + str(np.round(percent,1)) + '% disc:' + str(np.round(ath_percent,1))+ '%)',''],\n",
        "          textposition=\"top right\",\n",
        "          line = dict(shape = 'linear', color = line_color, dash = 'dash', width=1)\n",
        "        ), row=2, col=1)\n",
        "\n",
        "\n",
        "  # Plot volume trace on 3d row \n",
        "  colors = ['green' if row['Open'] - row['Close'] >= 0 \n",
        "            else 'red' for index, row in chart_df.iterrows()]\n",
        "  fig.add_trace(go.Bar(x=chart_df.index, \n",
        "                      y=chart_df['Volume'],\n",
        "                      marker_color=colors,\n",
        "                      name='Volume'\n",
        "                      ), row=3, col=1)\n",
        "\n",
        "\n",
        "  fig.add_trace(go.Scatter(x=chart_df.index,\n",
        "                          y=rsi.rsi(),\n",
        "                          line=dict(color='black', width=2),\n",
        "                          name='RSI(14)'\n",
        "                          ), row=4, col=1)\n",
        "\n",
        "\n",
        "  # Plot MACD trace on 3rd row\n",
        "  colors = ['green' if val >= 0 \n",
        "            else '#FF5733' for val in macd.macd_diff()]\n",
        "  fig.add_trace(go.Bar(x=chart_df.index, \n",
        "                      y=macd.macd_diff(),\n",
        "                      marker_color=colors,\n",
        "                      name='MACD diff'\n",
        "                      ), row=5, col=1)\n",
        "  fig.add_trace(go.Scatter(x=chart_df.index,\n",
        "                          y=macd.macd(),\n",
        "                          line=dict(color='orange', width=2),\n",
        "                          name='MACD'\n",
        "                          ), row=5, col=1)\n",
        "  fig.add_trace(go.Scatter(x=chart_df.index,\n",
        "                          y=macd.macd_signal(),\n",
        "                          line=dict(color='blue', width=1),\n",
        "                          name='MACD signal'\n",
        "                          ), row=5, col=1)\n",
        "\n",
        "\n",
        "  fig.update_xaxes(type=\"date\", range=[start_date, end_date])\n",
        "  fig.update_yaxes(range=[y_zoom_min,y_zoom_max], row=2, col=1)\n",
        "\n",
        "#  for idx, level in  enumerate(levels):\n",
        "#    fig.add_hline(level,row=2, col=1)\n",
        "\n",
        "  fig.update_layout(xaxis_rangeslider_visible=False)\n",
        "  # removing all empty dates\n",
        "  # build complete timeline from start date to end date\n",
        "  dt_all = pd.date_range(start=chart_df.index[0],end=chart_df.index[-1])\n",
        "  # retrieve the dates that ARE in the original datset\n",
        "  dt_obs = [d.strftime(\"%Y-%m-%d\") for d in pd.to_datetime(chart_df.index)]\n",
        "  # define dates with missing values\n",
        "  dt_breaks = [d for d in dt_all.strftime(\"%Y-%m-%d\").tolist() if not d in dt_obs]\n",
        "\n",
        "  fig.update_layout(xaxis_rangebreaks=[dict(values=dt_breaks)])\n",
        "  fig.update_yaxes(showspikes=True, spikemode='across', spikesnap='cursor',spikedash='dash')\n",
        "  fig.update_xaxes(showspikes=True, spikemode='across', spikesnap='cursor', spikedash='dash')\n",
        "  config = dict({'scrollZoom': True})\n",
        "\n",
        "  folder='/content/drive/MyDrive/models/charts/'+ str(last_date)\n",
        "  Path(folder).mkdir(parents=True, exist_ok=True)\n",
        "  print('chart folder:', folder)\n",
        "  fig.write_html(folder + '/' + ticker.ticker + '.html') \n",
        "  return fig"
      ],
      "metadata": {
        "id": "__5S41Y6xHQr"
      },
      "execution_count": 273,
      "outputs": []
    },
    {
      "cell_type": "code",
      "source": [
        "def save_charts(symbols):\n",
        "  for symbol in symbols:\n",
        "    ticker = yf.Ticker(symbol)\n",
        "    df = get_stock_price(ticker,\"2019-01-01\")\n",
        "    get_chart(ticker, df, 365)\n",
        "  return None"
      ],
      "metadata": {
        "id": "6N7QKxi9Nqx8"
      },
      "execution_count": 265,
      "outputs": []
    },
    {
      "cell_type": "code",
      "source": [
        "ticker = yf.Ticker(\"LOGI\")\n",
        "df = get_stock_price(ticker,\"2019-01-01\")\n",
        "fig = get_chart(ticker, df, 365)\n",
        "fig.show()"
      ],
      "metadata": {
        "colab": {
          "base_uri": "https://localhost:8080/",
          "height": 1000
        },
        "id": "3tsG8hRUQH8Y",
        "outputId": "fcc99b46-d876-47fa-b385-de8d5dcd76ec"
      },
      "execution_count": 274,
      "outputs": [
        {
          "output_type": "stream",
          "name": "stdout",
          "text": [
            "close_price 84.1 min_level: 83.1 max_level: 86.3\n"
          ]
        },
        {
          "output_type": "stream",
          "name": "stderr",
          "text": [
            "/usr/local/lib/python3.7/dist-packages/ipykernel_launcher.py:109: RuntimeWarning:\n",
            "\n",
            "divide by zero encountered in double_scalars\n",
            "\n",
            "/usr/local/lib/python3.7/dist-packages/ipykernel_launcher.py:110: RuntimeWarning:\n",
            "\n",
            "divide by zero encountered in double_scalars\n",
            "\n"
          ]
        },
        {
          "output_type": "stream",
          "name": "stdout",
          "text": [
            "chart folder: /content/drive/MyDrive/models/charts/2021-12-21\n"
          ]
        },
        {
          "output_type": "display_data",
          "data": {
            "text/html": [
              "<html>\n",
              "<head><meta charset=\"utf-8\" /></head>\n",
              "<body>\n",
              "    <div>            <script src=\"https://cdnjs.cloudflare.com/ajax/libs/mathjax/2.7.5/MathJax.js?config=TeX-AMS-MML_SVG\"></script><script type=\"text/javascript\">if (window.MathJax) {MathJax.Hub.Config({SVG: {font: \"STIX-Web\"}});}</script>                <script type=\"text/javascript\">window.PlotlyConfig = {MathJaxConfig: 'local'};</script>\n",
              "        <script src=\"https://cdn.plot.ly/plotly-2.8.3.min.js\"></script>                <div id=\"ef2a244a-19d4-4237-ac22-f9bbe2dfc46a\" class=\"plotly-graph-div\" style=\"height:900px; width:1200px;\"></div>            <script type=\"text/javascript\">                                    window.PLOTLYENV=window.PLOTLYENV || {};                                    if (document.getElementById(\"ef2a244a-19d4-4237-ac22-f9bbe2dfc46a\")) {                    Plotly.newPlot(                        \"ef2a244a-19d4-4237-ac22-f9bbe2dfc46a\",                        [{\"cells\":{\"align\":\"left\",\"fill\":{\"color\":\"lavender\"},\"values\":[[80.0,95.0],[3.0,0.5],[3.3,0.55],[3.0,20.0],[3163,2256],[0.38,0.35],[\"2022-02-18\",\"2022-01-21\"],[58,30],[false,true],[3.15,0.52]]},\"header\":{\"align\":\"left\",\"fill\":{\"color\":\"paleturquoise\"},\"font\":{\"color\":\"black\",\"size\":12},\"values\":[\"strike\",\"bid\",\"ask\",\"volume\",\"openInterest\",\"impliedVolatility\",\"expirationDate\",\"dte\",\"CALL\",\"mark\"]},\"type\":\"table\",\"domain\":{\"x\":[0.0,1.0],\"y\":[0.8944000000000001,1.0]}},{\"close\":[64.6107406616211,65.3148422241211,66.65458679199219,68.43438720703125,69.85235595703125,68.85488891601562,70.94762420654297,68.32681274414062,67.35867309570312,69.78390502929688,68.25836181640625,69.7350082397461,71.16275787353516,71.60282135009766,72.38514709472656,71.31922912597656,72.22869110107422,72.7372055053711,71.41702270507812,70.47821807861328,70.26307678222656,72.11133575439453,72.92300415039062,72.15045928955078,73.92047119140625,72.92300415039062,72.84477233886719,73.85202026367188,73.17726135253906,72.51228332519531,72.25802612304688,73.16748809814453,71.24099731445312,70.71292114257812,73.12836456298828,74.16495513916016,73.93025970458984,68.87444305419922,68.57129669189453,65.40284729003906,68.01388549804688,66.66436004638672,67.2608871459961,68.92334747314453,69.46118927001953,68.4930648803711,68.91356658935547,69.8879165649414,72.54163360595703,72.58124542236328,72.2643814086914,72.50202178955078,72.42280578613281,74.24476623535156,76.38358306884766,76.55191802978516,77.75005340576172,77.0173110961914,79.97798919677734,75.08643341064453,75.55182647705078,76.2548599243164,78.76005554199219,80.42357635498047,79.85916900634766,79.36407470703125,78.99769592285156,79.04721069335938,79.24524688720703,91.73159790039062,91.2860107421875,88.21640014648438,87.15689849853516,84.98837280273438,86.18650817871094,84.74082946777344,84.22592163085938,83.8199462890625,84.2457275390625,87.27571868896484,88.79071807861328,92.77130126953125,93.01885223388672,75.17554473876953,77.36387634277344,82.03759002685547,81.04740142822266,82.34455871582031,82.10690307617188,80.13642120361328,80.26514434814453,82.96837615966797,82.89906311035156,80.65132141113281,81.74053955078125,85.09729766845703,86.0973892211914,89.41454315185547,87.35494232177734,85.63200378417969,85.82013702392578,86.46376037597656,87.52326965332031,88.78082275390625,87.28562927246094,88.72140502929688,88.9095458984375,88.51346588134766,89.51356506347656,90.55326080322266,92.79109954833984,93.919921875,94.12786102294922,94.0882568359375,92.89012145996094,92.04845428466797,93.3258056640625,95.355712890625,96.34590148925781,96.23698425292969,97.50443267822266,98.67285919189453,98.00942993164062,102.26726531982422,103.82186889648438,100.960205078125,100.93050384521484,102.70294952392578,102.79206085205078,99.9205093383789,96.77169036865234,99.4155044555664,103.90108489990234,103.17823791503906,103.62383270263672,101.59393310546875,105.93098449707031,106.12902069091797,103.89118194580078,104.91107940673828,108.78274536132812,108.07970428466797,108.62430572509766,110.75322723388672,112.70391082763672,114.99125671386719,114.66449737548828,117.46674346923828,117.42713165283203,117.1498794555664,113.98126220703125,114.65459442138672,115.26851654052734,111.91175079345703,109.49568176269531,109.0896987915039,104.7922592163086,106.9805908203125,106.42607879638672,106.49539947509766,99.77197265625,93.4743423461914,94.256591796875,90.25621032714844,96.04884338378906,94.8507080078125,99.5343246459961,97.9896240234375,99.77197265625,100.81167602539062,100.17794799804688,99.3659896850586,100.54432678222656,103.52481079101562,104.72294616699219,101.2275619506836,101.23745727539062,102.97029876708984,101.9107894897461,102.21775817871094,103.47530364990234,106.92118072509766,108.34705352783203,106.3171615600586,104.7922592163086,107.89156341552734,107.94107818603516,107.07960510253906,108.41636657714844,108.73323059082031,110.03038787841797,112.33753967285156,112.9415512084961,111.79293060302734,112.86234283447266,113.13959503173828,115.85272979736328,113.8525390625,113.4267578125,111.03047943115234,108.0698013305664,109.79273986816406,109.20852661132812,110.17890930175781,111.70381164550781,110.77303314208984,113.43665313720703,107.32715606689453,104.66352844238281,98.79167938232422,98.9897232055664,104.27735900878906,104.76255798339844,106.0498046875,108.08960723876953,111.76322937011719,109.4461669921875,112.4266586303711,114.93184661865234,118.42723083496094,120.80370330810547,121.89291381835938,126.32898712158203,129.99270629882812,128.80447387695312,130.91358947753906,132.02259826660156,135.25062561035156,137.33993530273438,131.26014709472656,126.9825210571289,127.72516632080078,127.29936981201172,126.8141860961914,124.89319610595703,122.56624603271484,125.10114288330078,124.86349487304688,123.97232055664062,124.40800476074219,119.56595611572266,120.60566711425781,122.0810546875,119.73429107666016,119.12036895751953,122.27909088134766,122.95242309570312,125.58634185791016,125.31898498535156,124.94271087646484,123.67526245117188,121.03144836425781,119.94223022460938,118.34801483154297,116.7538070678711,116.83301544189453,116.87262725830078,119.99173736572266,119.12036895751953,119.08076477050781,119.68478393554688,107.38656616210938,106.99049377441406,107.18852996826172,107.9806900024414,107.09941864013672,107.65392303466797,107.6440200805664,109.23822784423828,106.32705688476562,107.73313903808594,106.75283813476562,107.15882110595703,107.72323608398438,106.53499603271484,107.6440200805664,107.18852996826172,104.44569396972656,101.95040130615234,104.21794891357422,106.5746078491211,105.24774932861328,103.87137603759766,103.71294403076172,103.65353393554688,104.85166931152344,101.34638214111328,102.4157943725586,100.23736572265625,101.86128997802734,102.25735473632812,99.8709945678711,99.97991943359375,100.19776153564453,98.14805603027344,98.03913879394531,97.11825561523438,96.84100341796875,94.82100677490234,95.41999816894531,95.30999755859375,98.0199966430664,100.08000183105469,99.3499984741211,96.77999877929688,90.2699966430664,89.13999938964844,88.1500015258789,88.51000213623047,87.33999633789062,87.38999938964844,87.41999816894531,87.7699966430664,87.8499984741211,87.05000305175781,87.5199966430664,88.95999908447266,89.69000244140625,87.93000030517578,90.6500015258789,89.95999908447266,89.95999908447266,90.29000091552734,89.69000244140625,89.41000366210938,84.31999969482422,83.22000122070312,84.30000305175781,83.02999877929688,82.77999877929688,80.23999786376953,80.69999694824219,80.83999633789062,79.31999969482422,79.43000030517578,79.44999694824219,78.63999938964844,78.8499984741211,81.19000244140625,80.04000091552734,79.72000122070312,79.5999984741211,80.05999755859375,81.55999755859375,81.0199966430664,80.27999877929688,80.44999694824219,84.7699966430664,81.56999969482422,79.69999694824219,79.1500015258789,79.29000091552734,77.55999755859375,78.62999725341797,81.47000122070312,82.43000030517578,81.98999786376953,81.29000091552734,81.83000183105469,81.55000305175781,83.0,82.62000274658203,83.30000305175781,81.86000061035156,84.0999984741211],\"high\":[64.74764794630615,65.60821179158671,66.77193163535281,68.76687420217334,70.08705308901128,70.15550812140187,72.21890722262027,70.75203382644722,67.84762980143499,69.91103109304403,68.85488961796996,70.05772148046414,71.18232032046718,71.74950985434084,72.83499382747371,71.34856533611259,72.31669973410987,72.90345647535727,72.66875080875477,70.91827612200468,71.25077141208428,72.62962868944321,73.58798558098653,73.00124674939929,74.2431844078026,73.01102023872035,73.69555974424289,73.91070014391843,73.25549621498084,73.42174312605437,72.43405084710948,73.33373160327346,73.34351284141803,71.06497059120993,74.32142013254212,74.3996597474563,74.83971956536655,72.37537491815641,69.18737950545814,67.1141957867186,68.49306101405523,68.6201870036113,68.49306020492062,69.24605326119566,70.23374176980822,70.84005885633164,69.81324523245831,71.50193057872167,72.64065152104469,72.7297685241277,73.90809997442402,76.22515416137404,72.50202313807921,74.34378414682949,76.74995765729551,77.7203475924491,78.1263320761166,77.72034813945498,80.07701466909387,76.67074273391064,76.037019558269,76.6311310128401,78.87888157766234,80.93847402919184,80.4037713195061,80.43348636481993,79.20563580845047,80.0869101481366,80.05720589326653,94.77149405124709,94.2367853901077,91.47414006316032,87.63219508402432,86.31522944830586,87.43415504540633,85.0279867194958,86.4340581623501,84.35465210028104,84.55268533521914,87.6024845974447,89.10757994176228,93.41492148537894,93.65257596295112,83.18622005288245,79.39377763771508,82.98817557626528,82.68122352374009,82.78023905536874,82.66141697761486,81.57219984874024,81.24544210545486,83.25553339541473,83.65161284920407,83.14661523741528,81.85935802758029,85.20621964212326,86.29543260901417,89.47395238896051,87.4836648610789,86.83013794419773,86.49346944113364,86.48356093667813,87.99856622005294,89.60267826466507,89.18680052007758,89.04817095130599,90.33542808857712,89.78091334810064,90.08787956308623,91.15727989783841,93.13766601479198,93.93972999030755,94.28629572584211,94.99924131186746,94.06845505122699,93.48424044421675,94.61306117781356,95.84090597612797,97.00932980948973,97.34599700885705,99.2273686228248,98.81148578346708,99.20756406444437,102.89109255902714,104.81206317790928,101.68305020646473,101.74246285731866,103.47529983549579,103.50500190814024,102.78217022948546,102.42569880442176,101.19784957720299,104.52490456943167,103.61392580287232,104.93088884740105,103.2574598224233,106.8122567777665,108.64411500843435,104.821966985583,105.32696673972656,109.44617372287927,109.31744710159137,108.85205372561167,110.82254053038143,113.62479179535099,115.72400590569237,116.43693843810364,117.51625620454558,117.54595768164343,119.06095466278693,116.28841665269307,115.06057014013288,116.23890267724947,114.85262892422966,110.0006753899024,109.14911558366478,109.27783795689537,108.31735158617842,107.83215278502463,108.13911807681606,105.71313803185343,99.56403873143998,96.05874500525503,93.59316022299656,96.90041105320783,97.55393407671849,99.80168132932708,98.30648588755973,99.94030386212566,101.45530381062068,100.70274972891939,100.78196773921243,101.38599039829765,104.1288298816491,106.26764678205852,104.6932418410615,101.4453971598427,103.22775138943537,103.31686349913018,102.46530674708907,104.61402859811452,107.07960788010203,108.55499341475311,108.32725472075842,105.80225402657622,108.42626921133864,107.94107818603516,108.11931208213286,109.87195333687147,109.95117286939634,110.42645953510743,112.63460098299153,113.52576973129696,112.56528089732201,113.0504746030153,113.90204126614726,115.99135639104479,114.96155179607554,113.55548034926909,112.98116332816775,111.45626389915495,112.51577415853643,109.8422503378261,110.6443018013521,112.7732232555052,110.88195511363682,114.48626420037039,110.75322732643522,105.3071562111209,103.14853569837157,100.89089440670999,104.66353418028645,105.51510019788697,107.41627761350499,108.28764306562205,111.89195190487125,112.74351558995266,113.66440147126221,115.07047320967574,118.67477939755682,120.90272122612996,122.5167410469353,126.89339000024341,130.81456937968608,130.58682660446686,131.77505364693013,132.04240638173286,135.72592971710415,138.79552201497955,134.4980865161865,128.31927428174225,128.46781203489587,129.38868027484284,128.3687832272036,125.79427648575452,124.21986865727227,126.13094585071727,124.9031035500596,124.9229137113455,125.58633833376798,121.28889200161018,121.36811339082564,122.0909587456643,120.4769367900849,119.85311057284665,122.36821229592152,123.35840638053713,127.16074713079777,125.92300409726968,125.41800744089691,126.40820067690419,122.41771429192715,121.506738997603,120.17988025931038,119.43723256558656,118.01134899668646,117.4766463610567,120.25908648441273,121.17007071258371,119.98183762589541,121.06115336419172,110.61460161570194,107.83215739204628,108.52529072484775,109.03029352903215,109.05009505665258,108.22823752859051,108.54510050833251,110.06009087345058,108.58470614268498,108.17872343543772,108.16881619401869,108.59459972200035,108.13911586638523,107.68362499216425,107.7331414948187,107.78264502067965,107.07960677548832,102.8316736035855,104.36647956783555,106.6439211466759,106.4755881018743,104.87147432325203,104.61402442794574,104.35657094339979,105.20813984855339,102.97030014142989,103.50500656634485,102.05931948866743,102.44550098663305,103.25745302320942,101.17805070066522,100.87109581231637,101.58402748294031,99.30658148082809,99.35609145850836,97.36580418222594,97.22717858205297,95.3656090984892,95.79000091552734,97.0999984741211,99.66999816894531,100.77999877929688,99.62999725341797,98.05999755859375,92.44000244140625,90.98999786376953,89.91999816894531,88.83999633789062,88.58999633789062,87.98999786376953,87.56999969482422,88.79000091552734,88.88999938964844,88.19000244140625,88.55999755859375,90.05000305175781,90.88999938964844,88.55000305175781,91.12999725341797,91.05000305175781,91.05000305175781,90.79000091552734,90.37999725341797,90.0999984741211,87.45999908447266,85.19999694824219,84.77999877929688,84.18000030517578,83.16000366210938,82.23999786376953,80.81999969482422,82.11000061035156,80.05000305175781,80.36000061035156,79.94000244140625,79.87000274658203,79.23999786376953,81.47000122070312,81.37999725341797,80.16000366210938,80.75,80.06999969482422,83.19000244140625,81.98999786376953,81.55999755859375,80.66999816894531,86.55000305175781,81.98999786376953,81.27999877929688,81.37999725341797,79.66999816894531,78.97000122070312,78.95999908447266,81.58000183105469,82.45999908447266,83.13999938964844,82.2300033569336,83.69999694824219,82.08999633789062,83.11000061035156,83.8499984741211,83.54000091552734,81.95999908447266,84.16999816894531],\"low\":[63.23188659132526,64.58140711412543,65.48108613217138,66.87950092611874,67.88674789186945,68.49305825716799,69.87191343639381,68.02365451318687,66.1949612094646,68.28769863080778,67.88674993031817,68.76687597847973,69.36340072193663,70.37064835969701,71.94508904598386,70.40976930732148,71.57349085218262,71.59304846856007,70.49778161480208,69.68611061615391,70.11638827903785,70.99651501764029,72.31669513808961,71.88642591836367,73.07947252156268,72.00376313903786,72.55140277420804,72.81543439692852,71.7886261181896,72.17001511215963,71.78863183280511,72.25802824064968,70.60535204431658,70.20440941726982,71.83751914333226,73.23594031253998,73.21638702192467,68.48327619069836,66.30253769064576,65.30505743954913,67.07508199194598,66.38076424228262,66.68392178101041,68.33659339838685,68.83532527591758,68.47350243157553,68.2681400882895,69.02644479125208,69.9572259828809,71.00683255241336,72.17525999568764,70.0265362466384,71.01673178470556,72.43270899243392,74.85868303270546,76.0073157038363,76.64104062050443,76.62123186707001,78.53230644503387,74.37349232652909,75.15574725470451,76.03701598453546,77.48270398822423,79.28485148259902,79.53240308570295,79.215544051019,77.89857970284119,79.00760201585602,78.63133126956622,90.0086619608565,90.90973209053486,87.51336315115296,85.96866836668664,84.17641383413239,86.01817696979482,83.80014035601059,84.1863129537718,82.53269071895309,83.17631594946951,85.44386087729609,86.94895613825261,91.42463649141283,92.22669379526486,74.38339388108837,75.19535600764213,80.45328077783911,80.21564184771657,80.91867655654224,80.0671053962926,79.72054143042125,79.44328885331528,80.9780836247791,81.92866942962733,80.42358095637591,79.98789147216844,82.39406399727744,84.60220130468922,86.84003207676022,85.61219823915158,85.30523786201584,85.60229307209634,84.40415455221974,85.72111641020449,87.01827058999604,86.58259222426675,86.7608246064076,87.99856896788513,88.40454390643144,88.94915462202094,90.02845906141154,91.79100126979311,92.00884669527511,91.9098280645259,93.41492442568463,92.77130298325022,91.89002713699021,92.43462935104887,94.33580642883712,95.96962284736081,95.67257381690727,94.5734584943929,97.6133516394,95.9597281417065,99.13825528393312,102.76236131754304,100.01952356008513,100.04923153529424,101.88108647768279,101.65334352841164,99.48482143371231,95.31610356741305,97.96982175355866,100.74236276579884,102.10883386562143,101.81177536081398,100.63344343106401,100.15815018968273,105.20813973038868,101.49491360357717,103.50500536284359,106.42608566953095,107.27764180218541,107.03999644298693,108.87185661599543,111.0601922777602,113.16930290135448,113.7337123613687,115.18930118217472,115.97155246145077,116.62507771110286,112.13950027366667,112.4860665716939,114.84273270983995,111.49587102162198,102.31677346431796,106.63402128022194,104.09911870905042,104.6635322788398,105.85176433187297,106.09932024608432,98.36589110920788,92.40493070150151,90.51365879136128,90.08787911228606,94.63286528739114,94.25659296939445,97.34599621695382,96.37561008346846,97.71236684627436,99.55413262882527,97.08854684888574,98.92040530242532,99.1085405622627,102.24745931514725,104.3070588398275,100.27696881843292,99.71255723482626,101.47511087691169,101.07902995334962,100.80178006540477,102.66334463157926,105.01010547955364,106.7132314967863,105.91117828288962,104.25755341513775,106.58450732173834,106.99049260485073,106.70333400890394,107.56479891574017,108.68372540996998,109.13921154170148,110.11950656877741,112.02067027443356,110.77303175006989,110.05018726361128,112.25832276987309,114.29812509286403,113.49606852539851,112.15930278806418,110.45617250298865,105.3071584284286,109.11940745054322,108.5153860916953,108.52528674094692,111.0304792489816,109.1887163030729,111.40675941675241,107.19843353174899,102.51480874860137,98.26687762589398,97.58364914354871,100.31658182044018,103.87138161931165,105.84186479758245,105.0893123353342,109.29764021185188,109.42636643161119,109.44617175422214,113.69410380267023,116.4072336576285,117.83312043987335,120.57595361868002,123.91291067877697,126.86368868935672,128.54702880321,129.1015321725854,130.61652427557644,133.54749033406682,136.30022834982145,129.90358580992716,125.9824227099835,125.70516151732932,127.0815258692206,125.25957385601383,123.88320131055592,120.7145875751813,122.59595254011828,122.14046065372968,123.76438066485606,123.85349839912185,119.17978096120619,119.96203931713372,120.68487711506661,119.1500800749658,118.44703657855928,120.48684163208893,122.19988087509552,122.40781913800073,122.97222938930572,123.37820214699663,123.50693124297591,119.43723499285538,119.76399495231158,117.4172373626834,116.69439027604797,115.36753220755162,115.96165035251836,117.7439997825411,118.71438569679268,117.9618404128707,118.82331220242946,105.66363023792682,105.36657577781602,106.48549294153253,107.29745352705082,106.79245327137905,106.70333743502863,107.04000096086409,108.23812955031228,105.58441119000578,106.61421468386655,106.23794045621109,106.55480201944937,107.03999961676672,105.97058561080128,105.96069281375915,106.26764899290998,104.37638067364288,101.38599087347512,103.02971878864928,105.02000312860655,105.02000132365725,103.1980436603129,103.49510008618613,102.27716453847695,103.02971550411053,101.01961621853448,102.11873306762469,100.09873157955475,101.46521074859855,102.09892758802216,98.6233476737458,99.6531535022983,100.00962220511889,97.45491552781613,97.67276418689919,96.05874805069374,94.7219882672461,93.19708875310172,93.66999816894531,95.30999755859375,97.70999908447266,99.33999633789062,98.58999633789062,96.70999908447266,88.86000061035156,88.72000122070312,88.01000213623047,86.7300033569336,86.58999633789062,86.91999816894531,85.63999938964844,87.30999755859375,87.69000244140625,86.91000366210938,86.91999816894531,88.41999816894531,89.12999725341797,87.29000091552734,88.69000244140625,89.88999938964844,89.83000183105469,89.75,89.27999877929688,88.48999786376953,82.41000366210938,83.22000122070312,83.4800033569336,82.72000122070312,81.51000213623047,80.19000244140625,79.41999816894531,80.75,78.76000213623047,79.33000183105469,79.08999633789062,78.12999725341797,78.5199966430664,79.91000366210938,79.98999786376953,78.9800033569336,79.55000305175781,78.44000244140625,81.20999908447266,80.47000122070312,79.41999816894531,78.81999969482422,83.27999877929688,80.93000030517578,78.52999877929688,79.1500015258789,78.08000183105469,76.69999694824219,76.80000305175781,79.2300033569336,81.38999938964844,81.6500015258789,80.83999633789062,81.7699966430664,80.94000244140625,80.58000183105469,82.08000183105469,82.12000274658203,80.73999786376953,82.16000366210938],\"name\":\"LOGI\",\"open\":[64.01421286654161,65.36373342158815,65.63755587116927,66.9088371361739,68.13122624710742,69.85235734237847,71.30944741024081,70.48800048814529,67.3488993334273,68.34637105086223,68.72775609446087,68.80599341319294,69.3829557079812,71.6223763355827,72.13089498077564,70.43910551745752,71.66149948521827,72.18957631733603,72.38515499450178,70.43910064750716,70.35109286849467,71.39746311359117,72.4340474355668,72.8056595662161,73.08924628383852,72.40471122641934,72.89367099675422,73.07947520581928,71.93530715915901,73.39240691649238,72.24824489924126,72.38515431029747,73.34351284141803,70.40977035215708,71.86685535227419,73.83246813540568,74.38009902291441,72.36559369482487,68.62996911388501,65.7646779438279,67.59338240333693,68.56151458237865,68.27791804818439,68.4246094939557,69.94036475843473,70.66403412161239,68.98202023696355,71.50193057872167,70.30379246297905,71.86830431556203,72.94761032033404,70.22457206823846,71.25437628596224,72.62084075786728,74.91809982422127,76.3934908720014,77.73025284370341,76.70044922381088,78.5422105031821,75.1458426494599,75.8587842859423,76.20534719088165,77.63123464416617,79.49279136379491,80.16612681112028,80.38397362795484,78.54220747517071,79.76015177925392,79.75024808444611,92.86041878021467,92.0484569941559,91.27610423939292,87.49356848712809,84.74082424456813,87.35493769253429,84.71112484769576,86.39444948526251,84.2655306877866,83.94866624598139,85.91914987637367,86.9687642541522,91.95934229048183,92.70199036935453,83.00798478785225,79.11652444817008,81.54249291437645,82.35445759372001,81.92867138297574,80.25524471594133,81.11671139887525,81.22563398967621,81.5920067723669,82.176217990012,83.11691061762811,80.32456145045867,82.41387211317097,85.10719494582598,88.09758299575533,86.12710350552379,86.51327608001596,86.38454746521893,84.85964299418053,85.73102046804422,87.13709662322297,89.01846930175988,86.97866099983094,88.1867007452187,89.25611158964038,89.68189627918126,90.69188739333946,92.47423769978614,92.73169181235119,92.48414253063895,93.6228718717978,93.80110592404516,93.12776991871378,94.61306117781356,95.26659147638323,96.80138992798044,97.0192386387472,98.71247091745025,98.00943085299983,96.20727670355643,99.13825528393312,103.23765789664344,101.26716287893288,101.45530560791107,102.19794833767516,101.75236144073907,102.20785572871274,101.9404981676201,99.53432293092594,101.49491252517109,102.22765234078861,104.12883389969514,102.63364013653394,101.42559762463533,105.94088136475719,103.9703993012254,104.50510368627074,106.57460876944323,109.31744710159137,108.56489648782556,109.11940518270262,111.3968547013245,113.1891034625415,116.38743325826526,115.55566822695084,116.26860620160545,118.87282289215332,115.40714436307678,113.88224410631331,116.13988476293248,114.8328283632491,106.89146605538558,108.52528837076241,107.93117317348346,106.1191190778473,106.52509670812783,108.11931751492772,105.31705882923005,98.64315774094305,95.93991897721655,92.50394802356914,95.22698033348773,97.21727165829522,98.82139111780651,97.45491821124698,98.52432581209021,100.54432689699989,98.23716822228138,99.3659896850586,100.00962097147271,103.04951423190407,104.85166870005351,104.55460769523037,100.47501103239972,101.56422473392591,103.07921899652868,101.6038350094834,102.78217066642517,105.42598526034575,108.43617493913115,108.1985246306401,104.95068636781332,107.6440148556841,107.30735446524554,107.56479816754431,108.90156720011119,109.91156419196643,109.9907792018325,110.48588117733898,112.17910497708546,111.95135775218863,110.12940461593583,113.35743897145012,114.90214420301177,114.7833165275248,112.94155717592906,112.80292805954242,111.26813212617739,109.18872074847847,109.81254571855007,109.65410756547745,112.25832556620053,110.80273776076946,111.4166559201514,110.75322732643522,103.81196078920613,102.53462008349067,100.15815275608684,100.96020962446346,104.80215910661754,107.36676487822726,105.5349042776262,109.42637030118865,111.89194794810493,109.44617175422214,113.87233907035497,116.4072336576285,117.83312043987335,120.57595361868002,125.22987087454091,127.40829857536691,129.82437277758154,129.11142867586432,131.80475432765184,134.07229206475358,136.63690586761254,132.21074022081976,127.6855505411665,126.78446966228107,129.31937453440847,127.7548676211031,124.17035854517546,123.05143911171434,122.78409187255082,122.63555778451462,123.97232055664062,125.58633833376798,120.75418619814523,119.96203931713372,120.70468523139522,119.85311711045796,119.78379727889114,120.8136075612216,123.04154451012789,123.86339837809987,123.28909125501828,123.77428135825959,126.24976597183796,119.57586158562232,120.60566613262952,119.64517445145522,119.03124929888921,115.55566397471442,116.71420010513901,119.54615298304506,121.01163600949543,119.90262027136518,119.72439261283094,110.58489699616854,107.21823422569035,107.75294040124616,108.11931659823328,108.86196327760175,106.97068656587793,107.7628461147085,108.92136599081196,108.10940957402231,107.21823378979488,108.02028554774522,108.52528642787239,107.34696497913355,107.41627586792418,107.00039228281673,107.73313983981811,106.92117962211825,102.30687184832561,103.62383385111174,105.4259864104153,106.42608292137616,104.59421359353748,103.68323941188007,102.48510442351098,103.19804671476837,102.60393309603798,102.42569843061179,101.91078884251637,101.86128997802736,102.59402470267474,100.93050213343464,99.72246680094433,101.06912978174228,98.77187568336075,99.06894176236585,97.19747296977154,95.0784512571384,93.24659393456443,93.91999816894531,96.70999908447266,99.30999755859375,100.01000213623047,99.01000213623047,97.5199966430664,90.45999908447266,90.61000061035156,88.91999816894531,88.69000244140625,88.5,87.38999938964844,86.18000030517578,87.52999877929688,88.87000274658203,87.80000305175781,87.47000122070312,88.45999908447266,90.54000091552734,88.2300033569336,88.79000091552734,90.6500015258789,90.66000366210938,90.72000122070312,90.29000091552734,88.94999694824219,82.44999694824219,84.63999938964844,83.62999725341797,83.66999816894531,81.62000274658203,81.63999938964844,79.55000305175781,81.63999938964844,79.52999877929688,80.22000122070312,79.52999877929688,79.5199966430664,78.72000122070312,80.72000122070312,80.91000366210938,79.7300033569336,80.12000274658203,79.66000366210938,82.0199966430664,81.41000366210938,80.41999816894531,79.04000091552734,83.27999877929688,80.93000030517578,80.66999816894531,80.58000183105469,79.05999755859375,78.95999908447266,77.44999694824219,79.2300033569336,82.23999786376953,82.47000122070312,81.8499984741211,83.30000305175781,82.05999755859375,82.18000030517578,83.08000183105469,82.62000274658203,81.54000091552734,82.33999633789062],\"showlegend\":true,\"x\":[\"2020-07-14T00:00:00\",\"2020-07-15T00:00:00\",\"2020-07-16T00:00:00\",\"2020-07-17T00:00:00\",\"2020-07-20T00:00:00\",\"2020-07-21T00:00:00\",\"2020-07-22T00:00:00\",\"2020-07-23T00:00:00\",\"2020-07-24T00:00:00\",\"2020-07-27T00:00:00\",\"2020-07-28T00:00:00\",\"2020-07-29T00:00:00\",\"2020-07-30T00:00:00\",\"2020-07-31T00:00:00\",\"2020-08-03T00:00:00\",\"2020-08-04T00:00:00\",\"2020-08-05T00:00:00\",\"2020-08-06T00:00:00\",\"2020-08-07T00:00:00\",\"2020-08-10T00:00:00\",\"2020-08-11T00:00:00\",\"2020-08-12T00:00:00\",\"2020-08-13T00:00:00\",\"2020-08-14T00:00:00\",\"2020-08-17T00:00:00\",\"2020-08-18T00:00:00\",\"2020-08-19T00:00:00\",\"2020-08-20T00:00:00\",\"2020-08-21T00:00:00\",\"2020-08-24T00:00:00\",\"2020-08-25T00:00:00\",\"2020-08-26T00:00:00\",\"2020-08-27T00:00:00\",\"2020-08-28T00:00:00\",\"2020-08-31T00:00:00\",\"2020-09-01T00:00:00\",\"2020-09-02T00:00:00\",\"2020-09-03T00:00:00\",\"2020-09-04T00:00:00\",\"2020-09-08T00:00:00\",\"2020-09-09T00:00:00\",\"2020-09-10T00:00:00\",\"2020-09-11T00:00:00\",\"2020-09-14T00:00:00\",\"2020-09-15T00:00:00\",\"2020-09-16T00:00:00\",\"2020-09-17T00:00:00\",\"2020-09-18T00:00:00\",\"2020-09-21T00:00:00\",\"2020-09-22T00:00:00\",\"2020-09-23T00:00:00\",\"2020-09-24T00:00:00\",\"2020-09-25T00:00:00\",\"2020-09-28T00:00:00\",\"2020-09-29T00:00:00\",\"2020-09-30T00:00:00\",\"2020-10-01T00:00:00\",\"2020-10-02T00:00:00\",\"2020-10-05T00:00:00\",\"2020-10-06T00:00:00\",\"2020-10-07T00:00:00\",\"2020-10-08T00:00:00\",\"2020-10-09T00:00:00\",\"2020-10-12T00:00:00\",\"2020-10-13T00:00:00\",\"2020-10-14T00:00:00\",\"2020-10-15T00:00:00\",\"2020-10-16T00:00:00\",\"2020-10-19T00:00:00\",\"2020-10-20T00:00:00\",\"2020-10-21T00:00:00\",\"2020-10-22T00:00:00\",\"2020-10-23T00:00:00\",\"2020-10-26T00:00:00\",\"2020-10-27T00:00:00\",\"2020-10-28T00:00:00\",\"2020-10-29T00:00:00\",\"2020-10-30T00:00:00\",\"2020-11-02T00:00:00\",\"2020-11-03T00:00:00\",\"2020-11-04T00:00:00\",\"2020-11-05T00:00:00\",\"2020-11-06T00:00:00\",\"2020-11-09T00:00:00\",\"2020-11-10T00:00:00\",\"2020-11-11T00:00:00\",\"2020-11-12T00:00:00\",\"2020-11-13T00:00:00\",\"2020-11-16T00:00:00\",\"2020-11-17T00:00:00\",\"2020-11-18T00:00:00\",\"2020-11-19T00:00:00\",\"2020-11-20T00:00:00\",\"2020-11-23T00:00:00\",\"2020-11-24T00:00:00\",\"2020-11-25T00:00:00\",\"2020-11-27T00:00:00\",\"2020-11-30T00:00:00\",\"2020-12-01T00:00:00\",\"2020-12-02T00:00:00\",\"2020-12-03T00:00:00\",\"2020-12-04T00:00:00\",\"2020-12-07T00:00:00\",\"2020-12-08T00:00:00\",\"2020-12-09T00:00:00\",\"2020-12-10T00:00:00\",\"2020-12-11T00:00:00\",\"2020-12-14T00:00:00\",\"2020-12-15T00:00:00\",\"2020-12-16T00:00:00\",\"2020-12-17T00:00:00\",\"2020-12-18T00:00:00\",\"2020-12-21T00:00:00\",\"2020-12-22T00:00:00\",\"2020-12-23T00:00:00\",\"2020-12-24T00:00:00\",\"2020-12-28T00:00:00\",\"2020-12-29T00:00:00\",\"2020-12-30T00:00:00\",\"2020-12-31T00:00:00\",\"2021-01-04T00:00:00\",\"2021-01-05T00:00:00\",\"2021-01-06T00:00:00\",\"2021-01-07T00:00:00\",\"2021-01-08T00:00:00\",\"2021-01-11T00:00:00\",\"2021-01-12T00:00:00\",\"2021-01-13T00:00:00\",\"2021-01-14T00:00:00\",\"2021-01-15T00:00:00\",\"2021-01-19T00:00:00\",\"2021-01-20T00:00:00\",\"2021-01-21T00:00:00\",\"2021-01-22T00:00:00\",\"2021-01-25T00:00:00\",\"2021-01-26T00:00:00\",\"2021-01-27T00:00:00\",\"2021-01-28T00:00:00\",\"2021-01-29T00:00:00\",\"2021-02-01T00:00:00\",\"2021-02-02T00:00:00\",\"2021-02-03T00:00:00\",\"2021-02-04T00:00:00\",\"2021-02-05T00:00:00\",\"2021-02-08T00:00:00\",\"2021-02-09T00:00:00\",\"2021-02-10T00:00:00\",\"2021-02-11T00:00:00\",\"2021-02-12T00:00:00\",\"2021-02-16T00:00:00\",\"2021-02-17T00:00:00\",\"2021-02-18T00:00:00\",\"2021-02-19T00:00:00\",\"2021-02-22T00:00:00\",\"2021-02-23T00:00:00\",\"2021-02-24T00:00:00\",\"2021-02-25T00:00:00\",\"2021-02-26T00:00:00\",\"2021-03-01T00:00:00\",\"2021-03-02T00:00:00\",\"2021-03-03T00:00:00\",\"2021-03-04T00:00:00\",\"2021-03-05T00:00:00\",\"2021-03-08T00:00:00\",\"2021-03-09T00:00:00\",\"2021-03-10T00:00:00\",\"2021-03-11T00:00:00\",\"2021-03-12T00:00:00\",\"2021-03-15T00:00:00\",\"2021-03-16T00:00:00\",\"2021-03-17T00:00:00\",\"2021-03-18T00:00:00\",\"2021-03-19T00:00:00\",\"2021-03-22T00:00:00\",\"2021-03-23T00:00:00\",\"2021-03-24T00:00:00\",\"2021-03-25T00:00:00\",\"2021-03-26T00:00:00\",\"2021-03-29T00:00:00\",\"2021-03-30T00:00:00\",\"2021-03-31T00:00:00\",\"2021-04-01T00:00:00\",\"2021-04-05T00:00:00\",\"2021-04-06T00:00:00\",\"2021-04-07T00:00:00\",\"2021-04-08T00:00:00\",\"2021-04-09T00:00:00\",\"2021-04-12T00:00:00\",\"2021-04-13T00:00:00\",\"2021-04-14T00:00:00\",\"2021-04-15T00:00:00\",\"2021-04-16T00:00:00\",\"2021-04-19T00:00:00\",\"2021-04-20T00:00:00\",\"2021-04-21T00:00:00\",\"2021-04-22T00:00:00\",\"2021-04-23T00:00:00\",\"2021-04-26T00:00:00\",\"2021-04-27T00:00:00\",\"2021-04-28T00:00:00\",\"2021-04-29T00:00:00\",\"2021-04-30T00:00:00\",\"2021-05-03T00:00:00\",\"2021-05-04T00:00:00\",\"2021-05-05T00:00:00\",\"2021-05-06T00:00:00\",\"2021-05-07T00:00:00\",\"2021-05-10T00:00:00\",\"2021-05-11T00:00:00\",\"2021-05-12T00:00:00\",\"2021-05-13T00:00:00\",\"2021-05-14T00:00:00\",\"2021-05-17T00:00:00\",\"2021-05-18T00:00:00\",\"2021-05-19T00:00:00\",\"2021-05-20T00:00:00\",\"2021-05-21T00:00:00\",\"2021-05-24T00:00:00\",\"2021-05-25T00:00:00\",\"2021-05-26T00:00:00\",\"2021-05-27T00:00:00\",\"2021-05-28T00:00:00\",\"2021-06-01T00:00:00\",\"2021-06-02T00:00:00\",\"2021-06-03T00:00:00\",\"2021-06-04T00:00:00\",\"2021-06-07T00:00:00\",\"2021-06-08T00:00:00\",\"2021-06-09T00:00:00\",\"2021-06-10T00:00:00\",\"2021-06-11T00:00:00\",\"2021-06-14T00:00:00\",\"2021-06-15T00:00:00\",\"2021-06-16T00:00:00\",\"2021-06-17T00:00:00\",\"2021-06-18T00:00:00\",\"2021-06-21T00:00:00\",\"2021-06-22T00:00:00\",\"2021-06-23T00:00:00\",\"2021-06-24T00:00:00\",\"2021-06-25T00:00:00\",\"2021-06-28T00:00:00\",\"2021-06-29T00:00:00\",\"2021-06-30T00:00:00\",\"2021-07-01T00:00:00\",\"2021-07-02T00:00:00\",\"2021-07-06T00:00:00\",\"2021-07-07T00:00:00\",\"2021-07-08T00:00:00\",\"2021-07-09T00:00:00\",\"2021-07-12T00:00:00\",\"2021-07-13T00:00:00\",\"2021-07-14T00:00:00\",\"2021-07-15T00:00:00\",\"2021-07-16T00:00:00\",\"2021-07-19T00:00:00\",\"2021-07-20T00:00:00\",\"2021-07-21T00:00:00\",\"2021-07-22T00:00:00\",\"2021-07-23T00:00:00\",\"2021-07-26T00:00:00\",\"2021-07-27T00:00:00\",\"2021-07-28T00:00:00\",\"2021-07-29T00:00:00\",\"2021-07-30T00:00:00\",\"2021-08-02T00:00:00\",\"2021-08-03T00:00:00\",\"2021-08-04T00:00:00\",\"2021-08-05T00:00:00\",\"2021-08-06T00:00:00\",\"2021-08-09T00:00:00\",\"2021-08-10T00:00:00\",\"2021-08-11T00:00:00\",\"2021-08-12T00:00:00\",\"2021-08-13T00:00:00\",\"2021-08-16T00:00:00\",\"2021-08-17T00:00:00\",\"2021-08-18T00:00:00\",\"2021-08-19T00:00:00\",\"2021-08-20T00:00:00\",\"2021-08-23T00:00:00\",\"2021-08-24T00:00:00\",\"2021-08-25T00:00:00\",\"2021-08-26T00:00:00\",\"2021-08-27T00:00:00\",\"2021-08-30T00:00:00\",\"2021-08-31T00:00:00\",\"2021-09-01T00:00:00\",\"2021-09-02T00:00:00\",\"2021-09-03T00:00:00\",\"2021-09-07T00:00:00\",\"2021-09-08T00:00:00\",\"2021-09-09T00:00:00\",\"2021-09-10T00:00:00\",\"2021-09-13T00:00:00\",\"2021-09-14T00:00:00\",\"2021-09-15T00:00:00\",\"2021-09-16T00:00:00\",\"2021-09-17T00:00:00\",\"2021-09-20T00:00:00\",\"2021-09-21T00:00:00\",\"2021-09-22T00:00:00\",\"2021-09-23T00:00:00\",\"2021-09-24T00:00:00\",\"2021-09-27T00:00:00\",\"2021-09-28T00:00:00\",\"2021-09-29T00:00:00\",\"2021-09-30T00:00:00\",\"2021-10-01T00:00:00\",\"2021-10-04T00:00:00\",\"2021-10-05T00:00:00\",\"2021-10-06T00:00:00\",\"2021-10-07T00:00:00\",\"2021-10-08T00:00:00\",\"2021-10-11T00:00:00\",\"2021-10-12T00:00:00\",\"2021-10-13T00:00:00\",\"2021-10-14T00:00:00\",\"2021-10-15T00:00:00\",\"2021-10-18T00:00:00\",\"2021-10-19T00:00:00\",\"2021-10-20T00:00:00\",\"2021-10-21T00:00:00\",\"2021-10-22T00:00:00\",\"2021-10-25T00:00:00\",\"2021-10-26T00:00:00\",\"2021-10-27T00:00:00\",\"2021-10-28T00:00:00\",\"2021-10-29T00:00:00\",\"2021-11-01T00:00:00\",\"2021-11-02T00:00:00\",\"2021-11-03T00:00:00\",\"2021-11-04T00:00:00\",\"2021-11-05T00:00:00\",\"2021-11-08T00:00:00\",\"2021-11-09T00:00:00\",\"2021-11-10T00:00:00\",\"2021-11-11T00:00:00\",\"2021-11-12T00:00:00\",\"2021-11-15T00:00:00\",\"2021-11-16T00:00:00\",\"2021-11-17T00:00:00\",\"2021-11-18T00:00:00\",\"2021-11-19T00:00:00\",\"2021-11-22T00:00:00\",\"2021-11-23T00:00:00\",\"2021-11-24T00:00:00\",\"2021-11-26T00:00:00\",\"2021-11-29T00:00:00\",\"2021-11-30T00:00:00\",\"2021-12-01T00:00:00\",\"2021-12-02T00:00:00\",\"2021-12-03T00:00:00\",\"2021-12-06T00:00:00\",\"2021-12-07T00:00:00\",\"2021-12-08T00:00:00\",\"2021-12-09T00:00:00\",\"2021-12-10T00:00:00\",\"2021-12-13T00:00:00\",\"2021-12-14T00:00:00\",\"2021-12-15T00:00:00\",\"2021-12-16T00:00:00\",\"2021-12-17T00:00:00\",\"2021-12-20T00:00:00\",\"2021-12-21T00:00:00\"],\"type\":\"candlestick\",\"xaxis\":\"x\",\"yaxis\":\"y\"},{\"line\":{\"color\":\"green\",\"width\":2},\"name\":\"MA 21\",\"x\":[\"2020-07-14T00:00:00\",\"2020-07-15T00:00:00\",\"2020-07-16T00:00:00\",\"2020-07-17T00:00:00\",\"2020-07-20T00:00:00\",\"2020-07-21T00:00:00\",\"2020-07-22T00:00:00\",\"2020-07-23T00:00:00\",\"2020-07-24T00:00:00\",\"2020-07-27T00:00:00\",\"2020-07-28T00:00:00\",\"2020-07-29T00:00:00\",\"2020-07-30T00:00:00\",\"2020-07-31T00:00:00\",\"2020-08-03T00:00:00\",\"2020-08-04T00:00:00\",\"2020-08-05T00:00:00\",\"2020-08-06T00:00:00\",\"2020-08-07T00:00:00\",\"2020-08-10T00:00:00\",\"2020-08-11T00:00:00\",\"2020-08-12T00:00:00\",\"2020-08-13T00:00:00\",\"2020-08-14T00:00:00\",\"2020-08-17T00:00:00\",\"2020-08-18T00:00:00\",\"2020-08-19T00:00:00\",\"2020-08-20T00:00:00\",\"2020-08-21T00:00:00\",\"2020-08-24T00:00:00\",\"2020-08-25T00:00:00\",\"2020-08-26T00:00:00\",\"2020-08-27T00:00:00\",\"2020-08-28T00:00:00\",\"2020-08-31T00:00:00\",\"2020-09-01T00:00:00\",\"2020-09-02T00:00:00\",\"2020-09-03T00:00:00\",\"2020-09-04T00:00:00\",\"2020-09-08T00:00:00\",\"2020-09-09T00:00:00\",\"2020-09-10T00:00:00\",\"2020-09-11T00:00:00\",\"2020-09-14T00:00:00\",\"2020-09-15T00:00:00\",\"2020-09-16T00:00:00\",\"2020-09-17T00:00:00\",\"2020-09-18T00:00:00\",\"2020-09-21T00:00:00\",\"2020-09-22T00:00:00\",\"2020-09-23T00:00:00\",\"2020-09-24T00:00:00\",\"2020-09-25T00:00:00\",\"2020-09-28T00:00:00\",\"2020-09-29T00:00:00\",\"2020-09-30T00:00:00\",\"2020-10-01T00:00:00\",\"2020-10-02T00:00:00\",\"2020-10-05T00:00:00\",\"2020-10-06T00:00:00\",\"2020-10-07T00:00:00\",\"2020-10-08T00:00:00\",\"2020-10-09T00:00:00\",\"2020-10-12T00:00:00\",\"2020-10-13T00:00:00\",\"2020-10-14T00:00:00\",\"2020-10-15T00:00:00\",\"2020-10-16T00:00:00\",\"2020-10-19T00:00:00\",\"2020-10-20T00:00:00\",\"2020-10-21T00:00:00\",\"2020-10-22T00:00:00\",\"2020-10-23T00:00:00\",\"2020-10-26T00:00:00\",\"2020-10-27T00:00:00\",\"2020-10-28T00:00:00\",\"2020-10-29T00:00:00\",\"2020-10-30T00:00:00\",\"2020-11-02T00:00:00\",\"2020-11-03T00:00:00\",\"2020-11-04T00:00:00\",\"2020-11-05T00:00:00\",\"2020-11-06T00:00:00\",\"2020-11-09T00:00:00\",\"2020-11-10T00:00:00\",\"2020-11-11T00:00:00\",\"2020-11-12T00:00:00\",\"2020-11-13T00:00:00\",\"2020-11-16T00:00:00\",\"2020-11-17T00:00:00\",\"2020-11-18T00:00:00\",\"2020-11-19T00:00:00\",\"2020-11-20T00:00:00\",\"2020-11-23T00:00:00\",\"2020-11-24T00:00:00\",\"2020-11-25T00:00:00\",\"2020-11-27T00:00:00\",\"2020-11-30T00:00:00\",\"2020-12-01T00:00:00\",\"2020-12-02T00:00:00\",\"2020-12-03T00:00:00\",\"2020-12-04T00:00:00\",\"2020-12-07T00:00:00\",\"2020-12-08T00:00:00\",\"2020-12-09T00:00:00\",\"2020-12-10T00:00:00\",\"2020-12-11T00:00:00\",\"2020-12-14T00:00:00\",\"2020-12-15T00:00:00\",\"2020-12-16T00:00:00\",\"2020-12-17T00:00:00\",\"2020-12-18T00:00:00\",\"2020-12-21T00:00:00\",\"2020-12-22T00:00:00\",\"2020-12-23T00:00:00\",\"2020-12-24T00:00:00\",\"2020-12-28T00:00:00\",\"2020-12-29T00:00:00\",\"2020-12-30T00:00:00\",\"2020-12-31T00:00:00\",\"2021-01-04T00:00:00\",\"2021-01-05T00:00:00\",\"2021-01-06T00:00:00\",\"2021-01-07T00:00:00\",\"2021-01-08T00:00:00\",\"2021-01-11T00:00:00\",\"2021-01-12T00:00:00\",\"2021-01-13T00:00:00\",\"2021-01-14T00:00:00\",\"2021-01-15T00:00:00\",\"2021-01-19T00:00:00\",\"2021-01-20T00:00:00\",\"2021-01-21T00:00:00\",\"2021-01-22T00:00:00\",\"2021-01-25T00:00:00\",\"2021-01-26T00:00:00\",\"2021-01-27T00:00:00\",\"2021-01-28T00:00:00\",\"2021-01-29T00:00:00\",\"2021-02-01T00:00:00\",\"2021-02-02T00:00:00\",\"2021-02-03T00:00:00\",\"2021-02-04T00:00:00\",\"2021-02-05T00:00:00\",\"2021-02-08T00:00:00\",\"2021-02-09T00:00:00\",\"2021-02-10T00:00:00\",\"2021-02-11T00:00:00\",\"2021-02-12T00:00:00\",\"2021-02-16T00:00:00\",\"2021-02-17T00:00:00\",\"2021-02-18T00:00:00\",\"2021-02-19T00:00:00\",\"2021-02-22T00:00:00\",\"2021-02-23T00:00:00\",\"2021-02-24T00:00:00\",\"2021-02-25T00:00:00\",\"2021-02-26T00:00:00\",\"2021-03-01T00:00:00\",\"2021-03-02T00:00:00\",\"2021-03-03T00:00:00\",\"2021-03-04T00:00:00\",\"2021-03-05T00:00:00\",\"2021-03-08T00:00:00\",\"2021-03-09T00:00:00\",\"2021-03-10T00:00:00\",\"2021-03-11T00:00:00\",\"2021-03-12T00:00:00\",\"2021-03-15T00:00:00\",\"2021-03-16T00:00:00\",\"2021-03-17T00:00:00\",\"2021-03-18T00:00:00\",\"2021-03-19T00:00:00\",\"2021-03-22T00:00:00\",\"2021-03-23T00:00:00\",\"2021-03-24T00:00:00\",\"2021-03-25T00:00:00\",\"2021-03-26T00:00:00\",\"2021-03-29T00:00:00\",\"2021-03-30T00:00:00\",\"2021-03-31T00:00:00\",\"2021-04-01T00:00:00\",\"2021-04-05T00:00:00\",\"2021-04-06T00:00:00\",\"2021-04-07T00:00:00\",\"2021-04-08T00:00:00\",\"2021-04-09T00:00:00\",\"2021-04-12T00:00:00\",\"2021-04-13T00:00:00\",\"2021-04-14T00:00:00\",\"2021-04-15T00:00:00\",\"2021-04-16T00:00:00\",\"2021-04-19T00:00:00\",\"2021-04-20T00:00:00\",\"2021-04-21T00:00:00\",\"2021-04-22T00:00:00\",\"2021-04-23T00:00:00\",\"2021-04-26T00:00:00\",\"2021-04-27T00:00:00\",\"2021-04-28T00:00:00\",\"2021-04-29T00:00:00\",\"2021-04-30T00:00:00\",\"2021-05-03T00:00:00\",\"2021-05-04T00:00:00\",\"2021-05-05T00:00:00\",\"2021-05-06T00:00:00\",\"2021-05-07T00:00:00\",\"2021-05-10T00:00:00\",\"2021-05-11T00:00:00\",\"2021-05-12T00:00:00\",\"2021-05-13T00:00:00\",\"2021-05-14T00:00:00\",\"2021-05-17T00:00:00\",\"2021-05-18T00:00:00\",\"2021-05-19T00:00:00\",\"2021-05-20T00:00:00\",\"2021-05-21T00:00:00\",\"2021-05-24T00:00:00\",\"2021-05-25T00:00:00\",\"2021-05-26T00:00:00\",\"2021-05-27T00:00:00\",\"2021-05-28T00:00:00\",\"2021-06-01T00:00:00\",\"2021-06-02T00:00:00\",\"2021-06-03T00:00:00\",\"2021-06-04T00:00:00\",\"2021-06-07T00:00:00\",\"2021-06-08T00:00:00\",\"2021-06-09T00:00:00\",\"2021-06-10T00:00:00\",\"2021-06-11T00:00:00\",\"2021-06-14T00:00:00\",\"2021-06-15T00:00:00\",\"2021-06-16T00:00:00\",\"2021-06-17T00:00:00\",\"2021-06-18T00:00:00\",\"2021-06-21T00:00:00\",\"2021-06-22T00:00:00\",\"2021-06-23T00:00:00\",\"2021-06-24T00:00:00\",\"2021-06-25T00:00:00\",\"2021-06-28T00:00:00\",\"2021-06-29T00:00:00\",\"2021-06-30T00:00:00\",\"2021-07-01T00:00:00\",\"2021-07-02T00:00:00\",\"2021-07-06T00:00:00\",\"2021-07-07T00:00:00\",\"2021-07-08T00:00:00\",\"2021-07-09T00:00:00\",\"2021-07-12T00:00:00\",\"2021-07-13T00:00:00\",\"2021-07-14T00:00:00\",\"2021-07-15T00:00:00\",\"2021-07-16T00:00:00\",\"2021-07-19T00:00:00\",\"2021-07-20T00:00:00\",\"2021-07-21T00:00:00\",\"2021-07-22T00:00:00\",\"2021-07-23T00:00:00\",\"2021-07-26T00:00:00\",\"2021-07-27T00:00:00\",\"2021-07-28T00:00:00\",\"2021-07-29T00:00:00\",\"2021-07-30T00:00:00\",\"2021-08-02T00:00:00\",\"2021-08-03T00:00:00\",\"2021-08-04T00:00:00\",\"2021-08-05T00:00:00\",\"2021-08-06T00:00:00\",\"2021-08-09T00:00:00\",\"2021-08-10T00:00:00\",\"2021-08-11T00:00:00\",\"2021-08-12T00:00:00\",\"2021-08-13T00:00:00\",\"2021-08-16T00:00:00\",\"2021-08-17T00:00:00\",\"2021-08-18T00:00:00\",\"2021-08-19T00:00:00\",\"2021-08-20T00:00:00\",\"2021-08-23T00:00:00\",\"2021-08-24T00:00:00\",\"2021-08-25T00:00:00\",\"2021-08-26T00:00:00\",\"2021-08-27T00:00:00\",\"2021-08-30T00:00:00\",\"2021-08-31T00:00:00\",\"2021-09-01T00:00:00\",\"2021-09-02T00:00:00\",\"2021-09-03T00:00:00\",\"2021-09-07T00:00:00\",\"2021-09-08T00:00:00\",\"2021-09-09T00:00:00\",\"2021-09-10T00:00:00\",\"2021-09-13T00:00:00\",\"2021-09-14T00:00:00\",\"2021-09-15T00:00:00\",\"2021-09-16T00:00:00\",\"2021-09-17T00:00:00\",\"2021-09-20T00:00:00\",\"2021-09-21T00:00:00\",\"2021-09-22T00:00:00\",\"2021-09-23T00:00:00\",\"2021-09-24T00:00:00\",\"2021-09-27T00:00:00\",\"2021-09-28T00:00:00\",\"2021-09-29T00:00:00\",\"2021-09-30T00:00:00\",\"2021-10-01T00:00:00\",\"2021-10-04T00:00:00\",\"2021-10-05T00:00:00\",\"2021-10-06T00:00:00\",\"2021-10-07T00:00:00\",\"2021-10-08T00:00:00\",\"2021-10-11T00:00:00\",\"2021-10-12T00:00:00\",\"2021-10-13T00:00:00\",\"2021-10-14T00:00:00\",\"2021-10-15T00:00:00\",\"2021-10-18T00:00:00\",\"2021-10-19T00:00:00\",\"2021-10-20T00:00:00\",\"2021-10-21T00:00:00\",\"2021-10-22T00:00:00\",\"2021-10-25T00:00:00\",\"2021-10-26T00:00:00\",\"2021-10-27T00:00:00\",\"2021-10-28T00:00:00\",\"2021-10-29T00:00:00\",\"2021-11-01T00:00:00\",\"2021-11-02T00:00:00\",\"2021-11-03T00:00:00\",\"2021-11-04T00:00:00\",\"2021-11-05T00:00:00\",\"2021-11-08T00:00:00\",\"2021-11-09T00:00:00\",\"2021-11-10T00:00:00\",\"2021-11-11T00:00:00\",\"2021-11-12T00:00:00\",\"2021-11-15T00:00:00\",\"2021-11-16T00:00:00\",\"2021-11-17T00:00:00\",\"2021-11-18T00:00:00\",\"2021-11-19T00:00:00\",\"2021-11-22T00:00:00\",\"2021-11-23T00:00:00\",\"2021-11-24T00:00:00\",\"2021-11-26T00:00:00\",\"2021-11-29T00:00:00\",\"2021-11-30T00:00:00\",\"2021-12-01T00:00:00\",\"2021-12-02T00:00:00\",\"2021-12-03T00:00:00\",\"2021-12-06T00:00:00\",\"2021-12-07T00:00:00\",\"2021-12-08T00:00:00\",\"2021-12-09T00:00:00\",\"2021-12-10T00:00:00\",\"2021-12-13T00:00:00\",\"2021-12-14T00:00:00\",\"2021-12-15T00:00:00\",\"2021-12-16T00:00:00\",\"2021-12-17T00:00:00\",\"2021-12-20T00:00:00\",\"2021-12-21T00:00:00\"],\"y\":[62.40489655768381,62.669437072814475,63.031723410921536,63.52287466511333,64.09828205528768,64.5307008608084,65.11405752860244,65.40612618456046,65.58363044920979,65.96547359285407,66.17391797681336,66.49765345526178,66.92175385692299,67.3473054472116,67.80529105153114,68.12473996738981,68.4978264340884,68.88322453147774,69.11356981998686,69.23762875258926,69.3308513007381,69.58362261470687,69.88720275431447,70.09295334842686,70.44090951597045,70.66655448273592,70.86457428783876,71.13616028564178,71.32171492808699,71.4299484187332,71.50522821003445,71.65634274531718,71.61858406978408,71.53625107640173,71.68098866609141,71.90680380000676,72.09075433678704,71.79836240200633,71.50499279199617,70.95025229181824,70.68330985602084,70.31795078241774,70.0400359063794,69.93851877608532,69.89512518462479,69.76766515696536,69.69001983263719,69.70801044466484,69.96561255023686,70.2033973567938,70.39075954332995,70.58269247480456,70.74997550310712,71.06768375149298,71.55094732579795,72.00558102616043,72.52780578794236,72.93594263414681,73.57612868529505,73.71342911487227,73.88055614779759,74.09640194566293,74.52037045442013,75.05702553628926,75.49358403356729,75.84544682206402,76.13201492213561,76.39703271951959,76.65596128021843,78.02647370023408,79.23188615859348,80.04866015749265,80.69486364304197,81.08518265755946,81.54893952311869,81.83911133626913,82.05609409032279,82.21644429020822,82.40092458555861,82.84408768586826,83.38469044884508,84.23801870527109,85.0362762987816,84.13984615696232,83.52384890112697,83.38873445801138,83.17588600075786,83.10031079303626,83.01000100059404,82.7487664735958,82.52298264400932,82.56347296361464,82.59398115877255,82.41737572716893,82.35584516567914,82.60506812047713,82.9225518569057,83.51273288371931,83.86202465081548,84.02293184475768,84.18631413377295,84.393354701246,84.67789242416184,85.05088609050223,85.25404456158938,85.56925914956278,85.87292158127866,86.11297106310312,86.42211597222797,86.79767459322748,87.34253140732861,87.94047599529874,88.50296554326697,89.01071929714611,89.36339222103837,89.6074887722774,89.9455175806215,90.43735351789454,90.97449424256392,91.45290242532445,92.00304153922428,92.60938859855793,93.10030144701999,93.93366179909309,94.83258971703775,95.38964565895478,95.89336003952387,96.51241362901494,97.08329064929093,97.3412196210262,97.28944423444676,97.48272243636673,98.06620993305178,98.53093974959607,98.9939300180543,99.23029393509198,99.83944762254455,100.41122699239668,100.72758653361522,101.1079040675355,101.80561691242573,102.37598849172048,102.94401733111839,103.65394550409732,104.47666962441909,105.43254117800528,106.271809923231,107.2895311546862,108.21113119997219,109.02374467775347,109.47442808950599,109.94535230149515,110.42927632322534,110.56404672961003,110.46692264170868,110.34172047350823,109.837223995581,109.57753007055659,109.29103450017752,109.03688586153389,108.1946210246899,106.85641387209913,105.7109755016242,104.30599684939914,103.55534653434368,102.76401575920448,102.47040747618554,102.06306352593572,101.85478253778247,101.75995467301958,101.6161358843857,101.41157713899233,101.33273619746817,101.53201570597248,101.82210029333791,101.76805135309661,101.7198155278506,101.8334958223269,101.84052251936501,101.87481667021464,102.02031548654989,102.46584869005423,103.00050367530676,103.30201802846602,103.43749450008808,103.84240985603711,104.21501606785512,104.47543325282639,104.83369991867384,105.18820270705079,105.62840135899327,106.23832302388948,106.84770740430827,107.29727314964637,107.80318857553966,108.28831643519409,108.97599037720947,109.41931298496316,109.78362615110287,109.89697644928918,109.73086962031438,109.73649418830071,109.68849713584866,109.73308006002222,109.91223747688454,109.99049162826684,110.30377903817049,110.03317694987267,109.5450270855554,108.56745002162529,107.69674758380175,107.38589407698242,107.14740897756569,107.0476267693779,107.14235226659532,107.56243200327913,107.73368063863443,108.16031500151958,108.7759087848953,109.65330169853762,110.66697457213469,111.68751450360966,113.01855746887988,114.56166190796608,115.85646299605581,117.22529267619065,118.57050227531892,120.08687712395825,121.65533695839243,122.52850151624098,122.93341238359442,123.3690263778859,123.72633032644279,124.00704448732903,124.08760372538612,123.94929848059782,124.05401160811626,124.12760099583721,124.11348459227389,124.14025915304373,123.72441342237818,123.44089103073087,123.31726954498261,122.99154422968057,122.63961920493865,122.60684390279401,122.63826019305847,122.9062676171359,123.12560555970096,123.29079695213403,123.32574836113747,123.1171756341484,122.8285442332812,122.42122337857774,121.90600371396803,121.44482296196134,121.0291688070831,120.93485685786851,120.76990341238223,120.61634535403002,120.53165795234972,119.33664960778242,118.21427180474893,117.21193163779554,116.37272785276335,115.52969974252456,114.81372004181031,114.16192913624268,113.71431992787863,113.0427505603229,112.56005860375589,112.03212947021132,111.58910143709728,111.23765913226885,110.81014430503666,110.52231483008481,110.21924347900998,109.69437534180238,108.99037770219783,108.55652053959568,108.37634665864344,108.0919287195498,107.7082421120996,107.34503319561432,107.00944235379,106.81328116812941,106.31629034749157,105.96169980431584,105.44130579689224,105.11584981335906,104.85598662453808,104.40280552847744,104.0007249743971,103.6550010254196,103.15436966222448,102.6893486741991,102.18288566883867,101.69726000966867,101.07214607923537,100.55831445102717,100.08119473353322,99.89381308894534,99.91073933822801,99.85976289603647,99.57978433996924,98.73344000388717,97.86130903895638,96.97846290140387,96.20860283184265,95.40236587784702,94.67396892437442,94.01451703751724,93.44683336529442,92.93803019336957,92.4027549986776,91.95886787544022,91.68624343989771,91.5047669854894,91.17978819636997,91.13162577177988,91.02511425475195,90.92828560290839,90.87025972223738,90.76296360579819,90.63996724728102,90.06542474251222,89.44311351325685,88.97555801675693,88.4350526315333,87.92095682678452,87.2226878301468,86.62971593179184,86.10337778689173,85.48670705124923,84.93609734706072,84.43736094716813,83.9103280783027,83.45029811428618,83.24481668947891,82.95346980093785,82.6595181118256,82.38137996294337,82.17034519891159,82.11485904979179,82.01532610372584,81.8575690742323,81.72960797186957,82.00600694197837,81.96636991950982,81.76033601303094,81.52303287783529,81.32002997217093,80.97820884366391,80.76473506273246,80.8288501680025,80.97440927138189,81.0667355070535,81.0870323623693,81.15457504134069,81.1905230422877,81.35502094753427,81.47001929290224,81.63638145279819,81.65671046712121,81.87882755866666],\"type\":\"scatter\",\"xaxis\":\"x\",\"yaxis\":\"y\"},{\"line\":{\"color\":\"blue\",\"width\":2},\"name\":\"MA 50\",\"x\":[\"2020-07-14T00:00:00\",\"2020-07-15T00:00:00\",\"2020-07-16T00:00:00\",\"2020-07-17T00:00:00\",\"2020-07-20T00:00:00\",\"2020-07-21T00:00:00\",\"2020-07-22T00:00:00\",\"2020-07-23T00:00:00\",\"2020-07-24T00:00:00\",\"2020-07-27T00:00:00\",\"2020-07-28T00:00:00\",\"2020-07-29T00:00:00\",\"2020-07-30T00:00:00\",\"2020-07-31T00:00:00\",\"2020-08-03T00:00:00\",\"2020-08-04T00:00:00\",\"2020-08-05T00:00:00\",\"2020-08-06T00:00:00\",\"2020-08-07T00:00:00\",\"2020-08-10T00:00:00\",\"2020-08-11T00:00:00\",\"2020-08-12T00:00:00\",\"2020-08-13T00:00:00\",\"2020-08-14T00:00:00\",\"2020-08-17T00:00:00\",\"2020-08-18T00:00:00\",\"2020-08-19T00:00:00\",\"2020-08-20T00:00:00\",\"2020-08-21T00:00:00\",\"2020-08-24T00:00:00\",\"2020-08-25T00:00:00\",\"2020-08-26T00:00:00\",\"2020-08-27T00:00:00\",\"2020-08-28T00:00:00\",\"2020-08-31T00:00:00\",\"2020-09-01T00:00:00\",\"2020-09-02T00:00:00\",\"2020-09-03T00:00:00\",\"2020-09-04T00:00:00\",\"2020-09-08T00:00:00\",\"2020-09-09T00:00:00\",\"2020-09-10T00:00:00\",\"2020-09-11T00:00:00\",\"2020-09-14T00:00:00\",\"2020-09-15T00:00:00\",\"2020-09-16T00:00:00\",\"2020-09-17T00:00:00\",\"2020-09-18T00:00:00\",\"2020-09-21T00:00:00\",\"2020-09-22T00:00:00\",\"2020-09-23T00:00:00\",\"2020-09-24T00:00:00\",\"2020-09-25T00:00:00\",\"2020-09-28T00:00:00\",\"2020-09-29T00:00:00\",\"2020-09-30T00:00:00\",\"2020-10-01T00:00:00\",\"2020-10-02T00:00:00\",\"2020-10-05T00:00:00\",\"2020-10-06T00:00:00\",\"2020-10-07T00:00:00\",\"2020-10-08T00:00:00\",\"2020-10-09T00:00:00\",\"2020-10-12T00:00:00\",\"2020-10-13T00:00:00\",\"2020-10-14T00:00:00\",\"2020-10-15T00:00:00\",\"2020-10-16T00:00:00\",\"2020-10-19T00:00:00\",\"2020-10-20T00:00:00\",\"2020-10-21T00:00:00\",\"2020-10-22T00:00:00\",\"2020-10-23T00:00:00\",\"2020-10-26T00:00:00\",\"2020-10-27T00:00:00\",\"2020-10-28T00:00:00\",\"2020-10-29T00:00:00\",\"2020-10-30T00:00:00\",\"2020-11-02T00:00:00\",\"2020-11-03T00:00:00\",\"2020-11-04T00:00:00\",\"2020-11-05T00:00:00\",\"2020-11-06T00:00:00\",\"2020-11-09T00:00:00\",\"2020-11-10T00:00:00\",\"2020-11-11T00:00:00\",\"2020-11-12T00:00:00\",\"2020-11-13T00:00:00\",\"2020-11-16T00:00:00\",\"2020-11-17T00:00:00\",\"2020-11-18T00:00:00\",\"2020-11-19T00:00:00\",\"2020-11-20T00:00:00\",\"2020-11-23T00:00:00\",\"2020-11-24T00:00:00\",\"2020-11-25T00:00:00\",\"2020-11-27T00:00:00\",\"2020-11-30T00:00:00\",\"2020-12-01T00:00:00\",\"2020-12-02T00:00:00\",\"2020-12-03T00:00:00\",\"2020-12-04T00:00:00\",\"2020-12-07T00:00:00\",\"2020-12-08T00:00:00\",\"2020-12-09T00:00:00\",\"2020-12-10T00:00:00\",\"2020-12-11T00:00:00\",\"2020-12-14T00:00:00\",\"2020-12-15T00:00:00\",\"2020-12-16T00:00:00\",\"2020-12-17T00:00:00\",\"2020-12-18T00:00:00\",\"2020-12-21T00:00:00\",\"2020-12-22T00:00:00\",\"2020-12-23T00:00:00\",\"2020-12-24T00:00:00\",\"2020-12-28T00:00:00\",\"2020-12-29T00:00:00\",\"2020-12-30T00:00:00\",\"2020-12-31T00:00:00\",\"2021-01-04T00:00:00\",\"2021-01-05T00:00:00\",\"2021-01-06T00:00:00\",\"2021-01-07T00:00:00\",\"2021-01-08T00:00:00\",\"2021-01-11T00:00:00\",\"2021-01-12T00:00:00\",\"2021-01-13T00:00:00\",\"2021-01-14T00:00:00\",\"2021-01-15T00:00:00\",\"2021-01-19T00:00:00\",\"2021-01-20T00:00:00\",\"2021-01-21T00:00:00\",\"2021-01-22T00:00:00\",\"2021-01-25T00:00:00\",\"2021-01-26T00:00:00\",\"2021-01-27T00:00:00\",\"2021-01-28T00:00:00\",\"2021-01-29T00:00:00\",\"2021-02-01T00:00:00\",\"2021-02-02T00:00:00\",\"2021-02-03T00:00:00\",\"2021-02-04T00:00:00\",\"2021-02-05T00:00:00\",\"2021-02-08T00:00:00\",\"2021-02-09T00:00:00\",\"2021-02-10T00:00:00\",\"2021-02-11T00:00:00\",\"2021-02-12T00:00:00\",\"2021-02-16T00:00:00\",\"2021-02-17T00:00:00\",\"2021-02-18T00:00:00\",\"2021-02-19T00:00:00\",\"2021-02-22T00:00:00\",\"2021-02-23T00:00:00\",\"2021-02-24T00:00:00\",\"2021-02-25T00:00:00\",\"2021-02-26T00:00:00\",\"2021-03-01T00:00:00\",\"2021-03-02T00:00:00\",\"2021-03-03T00:00:00\",\"2021-03-04T00:00:00\",\"2021-03-05T00:00:00\",\"2021-03-08T00:00:00\",\"2021-03-09T00:00:00\",\"2021-03-10T00:00:00\",\"2021-03-11T00:00:00\",\"2021-03-12T00:00:00\",\"2021-03-15T00:00:00\",\"2021-03-16T00:00:00\",\"2021-03-17T00:00:00\",\"2021-03-18T00:00:00\",\"2021-03-19T00:00:00\",\"2021-03-22T00:00:00\",\"2021-03-23T00:00:00\",\"2021-03-24T00:00:00\",\"2021-03-25T00:00:00\",\"2021-03-26T00:00:00\",\"2021-03-29T00:00:00\",\"2021-03-30T00:00:00\",\"2021-03-31T00:00:00\",\"2021-04-01T00:00:00\",\"2021-04-05T00:00:00\",\"2021-04-06T00:00:00\",\"2021-04-07T00:00:00\",\"2021-04-08T00:00:00\",\"2021-04-09T00:00:00\",\"2021-04-12T00:00:00\",\"2021-04-13T00:00:00\",\"2021-04-14T00:00:00\",\"2021-04-15T00:00:00\",\"2021-04-16T00:00:00\",\"2021-04-19T00:00:00\",\"2021-04-20T00:00:00\",\"2021-04-21T00:00:00\",\"2021-04-22T00:00:00\",\"2021-04-23T00:00:00\",\"2021-04-26T00:00:00\",\"2021-04-27T00:00:00\",\"2021-04-28T00:00:00\",\"2021-04-29T00:00:00\",\"2021-04-30T00:00:00\",\"2021-05-03T00:00:00\",\"2021-05-04T00:00:00\",\"2021-05-05T00:00:00\",\"2021-05-06T00:00:00\",\"2021-05-07T00:00:00\",\"2021-05-10T00:00:00\",\"2021-05-11T00:00:00\",\"2021-05-12T00:00:00\",\"2021-05-13T00:00:00\",\"2021-05-14T00:00:00\",\"2021-05-17T00:00:00\",\"2021-05-18T00:00:00\",\"2021-05-19T00:00:00\",\"2021-05-20T00:00:00\",\"2021-05-21T00:00:00\",\"2021-05-24T00:00:00\",\"2021-05-25T00:00:00\",\"2021-05-26T00:00:00\",\"2021-05-27T00:00:00\",\"2021-05-28T00:00:00\",\"2021-06-01T00:00:00\",\"2021-06-02T00:00:00\",\"2021-06-03T00:00:00\",\"2021-06-04T00:00:00\",\"2021-06-07T00:00:00\",\"2021-06-08T00:00:00\",\"2021-06-09T00:00:00\",\"2021-06-10T00:00:00\",\"2021-06-11T00:00:00\",\"2021-06-14T00:00:00\",\"2021-06-15T00:00:00\",\"2021-06-16T00:00:00\",\"2021-06-17T00:00:00\",\"2021-06-18T00:00:00\",\"2021-06-21T00:00:00\",\"2021-06-22T00:00:00\",\"2021-06-23T00:00:00\",\"2021-06-24T00:00:00\",\"2021-06-25T00:00:00\",\"2021-06-28T00:00:00\",\"2021-06-29T00:00:00\",\"2021-06-30T00:00:00\",\"2021-07-01T00:00:00\",\"2021-07-02T00:00:00\",\"2021-07-06T00:00:00\",\"2021-07-07T00:00:00\",\"2021-07-08T00:00:00\",\"2021-07-09T00:00:00\",\"2021-07-12T00:00:00\",\"2021-07-13T00:00:00\",\"2021-07-14T00:00:00\",\"2021-07-15T00:00:00\",\"2021-07-16T00:00:00\",\"2021-07-19T00:00:00\",\"2021-07-20T00:00:00\",\"2021-07-21T00:00:00\",\"2021-07-22T00:00:00\",\"2021-07-23T00:00:00\",\"2021-07-26T00:00:00\",\"2021-07-27T00:00:00\",\"2021-07-28T00:00:00\",\"2021-07-29T00:00:00\",\"2021-07-30T00:00:00\",\"2021-08-02T00:00:00\",\"2021-08-03T00:00:00\",\"2021-08-04T00:00:00\",\"2021-08-05T00:00:00\",\"2021-08-06T00:00:00\",\"2021-08-09T00:00:00\",\"2021-08-10T00:00:00\",\"2021-08-11T00:00:00\",\"2021-08-12T00:00:00\",\"2021-08-13T00:00:00\",\"2021-08-16T00:00:00\",\"2021-08-17T00:00:00\",\"2021-08-18T00:00:00\",\"2021-08-19T00:00:00\",\"2021-08-20T00:00:00\",\"2021-08-23T00:00:00\",\"2021-08-24T00:00:00\",\"2021-08-25T00:00:00\",\"2021-08-26T00:00:00\",\"2021-08-27T00:00:00\",\"2021-08-30T00:00:00\",\"2021-08-31T00:00:00\",\"2021-09-01T00:00:00\",\"2021-09-02T00:00:00\",\"2021-09-03T00:00:00\",\"2021-09-07T00:00:00\",\"2021-09-08T00:00:00\",\"2021-09-09T00:00:00\",\"2021-09-10T00:00:00\",\"2021-09-13T00:00:00\",\"2021-09-14T00:00:00\",\"2021-09-15T00:00:00\",\"2021-09-16T00:00:00\",\"2021-09-17T00:00:00\",\"2021-09-20T00:00:00\",\"2021-09-21T00:00:00\",\"2021-09-22T00:00:00\",\"2021-09-23T00:00:00\",\"2021-09-24T00:00:00\",\"2021-09-27T00:00:00\",\"2021-09-28T00:00:00\",\"2021-09-29T00:00:00\",\"2021-09-30T00:00:00\",\"2021-10-01T00:00:00\",\"2021-10-04T00:00:00\",\"2021-10-05T00:00:00\",\"2021-10-06T00:00:00\",\"2021-10-07T00:00:00\",\"2021-10-08T00:00:00\",\"2021-10-11T00:00:00\",\"2021-10-12T00:00:00\",\"2021-10-13T00:00:00\",\"2021-10-14T00:00:00\",\"2021-10-15T00:00:00\",\"2021-10-18T00:00:00\",\"2021-10-19T00:00:00\",\"2021-10-20T00:00:00\",\"2021-10-21T00:00:00\",\"2021-10-22T00:00:00\",\"2021-10-25T00:00:00\",\"2021-10-26T00:00:00\",\"2021-10-27T00:00:00\",\"2021-10-28T00:00:00\",\"2021-10-29T00:00:00\",\"2021-11-01T00:00:00\",\"2021-11-02T00:00:00\",\"2021-11-03T00:00:00\",\"2021-11-04T00:00:00\",\"2021-11-05T00:00:00\",\"2021-11-08T00:00:00\",\"2021-11-09T00:00:00\",\"2021-11-10T00:00:00\",\"2021-11-11T00:00:00\",\"2021-11-12T00:00:00\",\"2021-11-15T00:00:00\",\"2021-11-16T00:00:00\",\"2021-11-17T00:00:00\",\"2021-11-18T00:00:00\",\"2021-11-19T00:00:00\",\"2021-11-22T00:00:00\",\"2021-11-23T00:00:00\",\"2021-11-24T00:00:00\",\"2021-11-26T00:00:00\",\"2021-11-29T00:00:00\",\"2021-11-30T00:00:00\",\"2021-12-01T00:00:00\",\"2021-12-02T00:00:00\",\"2021-12-03T00:00:00\",\"2021-12-06T00:00:00\",\"2021-12-07T00:00:00\",\"2021-12-08T00:00:00\",\"2021-12-09T00:00:00\",\"2021-12-10T00:00:00\",\"2021-12-13T00:00:00\",\"2021-12-14T00:00:00\",\"2021-12-15T00:00:00\",\"2021-12-16T00:00:00\",\"2021-12-17T00:00:00\",\"2021-12-20T00:00:00\",\"2021-12-21T00:00:00\"],\"y\":[57.56839584350586,57.92983268737793,58.32080268859863,58.724681015014646,59.14655281066894,59.518551177978516,59.93807609558105,60.290320510864255,60.596798477172854,60.96234260559082,61.290726013183594,61.61676239013672,61.95238212585449,62.2645320892334,62.627924575805665,62.94985366821289,63.29016761779785,63.672140731811524,63.985659790039065,64.23268058776856,64.47794113159179,64.7830500793457,65.11182456970215,65.40226493835449,65.74864166259766,66.0774161529541,66.36824760437011,66.66259941101075,66.99098266601563,67.30743545532226,67.58379386901855,67.85760971069335,68.06844787597656,68.27967712402344,68.54136665344238,68.79190811157227,69.04342742919921,69.20302284240722,69.34462478637695,69.42520484924316,69.5361003112793,69.59379722595214,69.67574645996093,69.7842950439453,69.8858024597168,69.98163818359374,70.06613006591797,70.14272720336913,70.28256912231446,70.44667327880859,70.59974609375,70.74348968505859,70.85885406494141,70.97506164550781,71.10568618774414,71.25962677001954,71.39567535400391,71.56948532104492,71.8218716430664,71.92792221069335,72.07379150390625,72.20418853759766,72.3561344909668,72.53254959106445,72.68203002929687,72.84292694091796,72.97830703735352,73.10450714111329,73.26107162475586,73.68613922119141,74.10659790039062,74.42869918823243,74.71337707519531,74.97013534545898,75.21545608520508,75.45181259155274,75.67943557739258,75.8787940979004,76.10016342163085,76.39543212890625,76.72608596801757,77.11816223144531,77.55371932983398,77.64297180175781,77.72768203735352,77.88513473510743,78.02747756958007,78.2968798828125,78.56759201049805,78.86226348876953,79.10728866577148,79.4333689880371,79.74613250732422,79.98069198608398,80.22627899169922,80.55836364746094,80.90204010009765,81.29257263183594,81.58883880615234,81.84985397338868,82.12096908569336,82.40020385742187,82.70221313476563,82.99293426513673,83.21097518920898,83.45436492919922,83.67755477905274,83.90747787475586,84.09818939208985,84.40752593994141,84.7523114013672,85.10561264038085,85.41296875,85.68626235961914,85.94688140869141,86.20056900024414,86.48713119506836,86.81330123901367,87.15531433105468,87.24542205810548,87.36979049682617,87.57891967773438,87.79597030639648,88.14154815673828,88.49425537109374,88.81864288330078,89.1527345275879,89.53039459228516,89.90132125854493,90.1542170715332,90.31383651733398,90.44672058105469,90.664365234375,91.2244190979004,91.74961822509766,92.14074508666992,92.63841674804688,93.11410598754883,93.5497915649414,94.04528472900391,94.61563674926758,95.11786331176758,95.6323681640625,96.23440628051758,96.85367370605469,97.45155288696289,98.02289505004883,98.58393905639649,99.18538284301758,99.81574035644532,100.37896286010742,100.94277954101562,101.49768447875977,101.96030303955078,102.40450408935547,102.81186996459961,103.12952423095703,103.49886672973633,103.83711700439453,104.15595977783204,104.29557723999024,104.28666564941406,104.28924026489258,104.2125993347168,104.27577377319336,104.33181884765625,104.45598922729492,104.50866744995118,104.57718887329102,104.66868270874023,104.72215301513671,104.736015625,104.78671356201171,104.81186447143554,104.8298860168457,104.83523315429687,104.84137222290039,104.84671920776367,104.82909378051758,104.87503875732422,105.00911102294921,105.15922454833985,105.24814392089844,105.31092239379883,105.33429092407226,105.46024353027343,105.50044540405274,105.51945709228515,105.6099607849121,105.68640380859375,105.71135665893554,105.79651336669922,105.88285827636719,105.90365234375,105.90682098388672,105.86978775024414,105.89355239868163,105.82126831054687,105.74126083374023,105.61887283325196,105.50064361572265,105.40340652465821,105.28220672607422,105.24754989624023,105.29171249389648,105.3253791809082,105.49826705932617,105.50519836425781,105.46994735717773,105.31587295532226,105.3002279663086,105.51628829956054,105.72640762329101,106.04227951049805,106.28309478759766,106.62134521484376,106.81958206176758,107.10832275390625,107.41152023315429,107.7638313293457,108.17634643554688,108.6268849182129,109.142578125,109.67193603515625,110.15356658935546,110.74728713989258,111.3629899597168,112.00859649658203,112.7171794128418,113.2980271911621,113.76817153930664,114.1842512512207,114.56329757690429,114.97323806762695,115.37525680541992,115.66875045776368,116.01195175170898,116.36762954711914,116.67874862670898,116.99224411010742,117.18295547485351,117.34831802368164,117.53110809326172,117.68993530273437,117.81509582519531,117.9978857421875,118.1398796081543,118.3745556640625,118.61240020751953,118.89064483642578,119.2027540588379,119.42752822875977,119.64220230102539,119.8055844116211,119.90658432006836,120.02778396606445,120.09650344848633,120.34979507446289,120.63893188476563,121.04471359252929,121.45861480712891,121.52079895019531,121.56535766601563,121.58813217163086,121.5859538269043,121.49267761230469,121.4568327331543,121.3611799621582,121.24730758666992,121.00530410766602,120.74389282226562,120.44109130859376,120.05768798828124,119.61229858398437,119.1669090270996,118.70151763916016,118.20483627319337,117.58873764038086,116.88094696044922,116.34010299682618,115.93194473266601,115.48239639282227,115.01383651733398,114.5518116760254,114.12701843261719,113.77272689819335,113.2976316833496,112.84867767333985,112.37397857666015,111.92304428100586,111.57687225341797,111.16217880249023,110.72015609741212,110.3294255065918,109.90997924804688,109.42518020629883,108.90849685668945,108.33359008789063,107.72363052368163,107.13317626953125,106.56587097167969,106.10564193725585,105.70839736938477,105.32843704223633,104.92896087646484,104.39770050048828,103.84304794311524,103.20621322631835,102.59400588989257,101.95919052124023,101.31329483032226,100.91396347045898,100.52955352783204,100.14278289794922,99.72416915893555,99.33258071899414,98.95870223999023,98.59962188720704,98.17345733642578,97.85991622924804,97.50445343017579,97.16859664916993,96.83122024536132,96.47055557250977,96.12805572509765,95.66157531738281,95.18220474243164,94.77929092407227,94.40088287353515,93.97212387084961,93.44543167114257,92.95447662353516,92.49384902954101,92.00599014282227,91.52151947021484,91.01348602294922,90.55935836791993,90.08804244995117,89.70709518432618,89.27066940307617,88.81992233276367,88.41450241088867,88.01610397338867,87.64334869384766,87.30078750610352,86.94560470581055,86.61223953247071,86.37081939697265,86.1057992553711,85.79139923095703,85.46819931030274,85.09359939575195,84.64319931030273,84.22879928588867,83.9225993347168,83.76579940795898,83.62279937744141,83.48559936523438,83.35199935913086,83.23619949340821,83.14839950561523,83.05239959716796,82.9629997253418,82.84319976806641,82.78419967651367],\"type\":\"scatter\",\"xaxis\":\"x\",\"yaxis\":\"y\"},{\"line\":{\"color\":\"orange\",\"width\":2},\"name\":\"MA 100\",\"x\":[\"2020-07-14T00:00:00\",\"2020-07-15T00:00:00\",\"2020-07-16T00:00:00\",\"2020-07-17T00:00:00\",\"2020-07-20T00:00:00\",\"2020-07-21T00:00:00\",\"2020-07-22T00:00:00\",\"2020-07-23T00:00:00\",\"2020-07-24T00:00:00\",\"2020-07-27T00:00:00\",\"2020-07-28T00:00:00\",\"2020-07-29T00:00:00\",\"2020-07-30T00:00:00\",\"2020-07-31T00:00:00\",\"2020-08-03T00:00:00\",\"2020-08-04T00:00:00\",\"2020-08-05T00:00:00\",\"2020-08-06T00:00:00\",\"2020-08-07T00:00:00\",\"2020-08-10T00:00:00\",\"2020-08-11T00:00:00\",\"2020-08-12T00:00:00\",\"2020-08-13T00:00:00\",\"2020-08-14T00:00:00\",\"2020-08-17T00:00:00\",\"2020-08-18T00:00:00\",\"2020-08-19T00:00:00\",\"2020-08-20T00:00:00\",\"2020-08-21T00:00:00\",\"2020-08-24T00:00:00\",\"2020-08-25T00:00:00\",\"2020-08-26T00:00:00\",\"2020-08-27T00:00:00\",\"2020-08-28T00:00:00\",\"2020-08-31T00:00:00\",\"2020-09-01T00:00:00\",\"2020-09-02T00:00:00\",\"2020-09-03T00:00:00\",\"2020-09-04T00:00:00\",\"2020-09-08T00:00:00\",\"2020-09-09T00:00:00\",\"2020-09-10T00:00:00\",\"2020-09-11T00:00:00\",\"2020-09-14T00:00:00\",\"2020-09-15T00:00:00\",\"2020-09-16T00:00:00\",\"2020-09-17T00:00:00\",\"2020-09-18T00:00:00\",\"2020-09-21T00:00:00\",\"2020-09-22T00:00:00\",\"2020-09-23T00:00:00\",\"2020-09-24T00:00:00\",\"2020-09-25T00:00:00\",\"2020-09-28T00:00:00\",\"2020-09-29T00:00:00\",\"2020-09-30T00:00:00\",\"2020-10-01T00:00:00\",\"2020-10-02T00:00:00\",\"2020-10-05T00:00:00\",\"2020-10-06T00:00:00\",\"2020-10-07T00:00:00\",\"2020-10-08T00:00:00\",\"2020-10-09T00:00:00\",\"2020-10-12T00:00:00\",\"2020-10-13T00:00:00\",\"2020-10-14T00:00:00\",\"2020-10-15T00:00:00\",\"2020-10-16T00:00:00\",\"2020-10-19T00:00:00\",\"2020-10-20T00:00:00\",\"2020-10-21T00:00:00\",\"2020-10-22T00:00:00\",\"2020-10-23T00:00:00\",\"2020-10-26T00:00:00\",\"2020-10-27T00:00:00\",\"2020-10-28T00:00:00\",\"2020-10-29T00:00:00\",\"2020-10-30T00:00:00\",\"2020-11-02T00:00:00\",\"2020-11-03T00:00:00\",\"2020-11-04T00:00:00\",\"2020-11-05T00:00:00\",\"2020-11-06T00:00:00\",\"2020-11-09T00:00:00\",\"2020-11-10T00:00:00\",\"2020-11-11T00:00:00\",\"2020-11-12T00:00:00\",\"2020-11-13T00:00:00\",\"2020-11-16T00:00:00\",\"2020-11-17T00:00:00\",\"2020-11-18T00:00:00\",\"2020-11-19T00:00:00\",\"2020-11-20T00:00:00\",\"2020-11-23T00:00:00\",\"2020-11-24T00:00:00\",\"2020-11-25T00:00:00\",\"2020-11-27T00:00:00\",\"2020-11-30T00:00:00\",\"2020-12-01T00:00:00\",\"2020-12-02T00:00:00\",\"2020-12-03T00:00:00\",\"2020-12-04T00:00:00\",\"2020-12-07T00:00:00\",\"2020-12-08T00:00:00\",\"2020-12-09T00:00:00\",\"2020-12-10T00:00:00\",\"2020-12-11T00:00:00\",\"2020-12-14T00:00:00\",\"2020-12-15T00:00:00\",\"2020-12-16T00:00:00\",\"2020-12-17T00:00:00\",\"2020-12-18T00:00:00\",\"2020-12-21T00:00:00\",\"2020-12-22T00:00:00\",\"2020-12-23T00:00:00\",\"2020-12-24T00:00:00\",\"2020-12-28T00:00:00\",\"2020-12-29T00:00:00\",\"2020-12-30T00:00:00\",\"2020-12-31T00:00:00\",\"2021-01-04T00:00:00\",\"2021-01-05T00:00:00\",\"2021-01-06T00:00:00\",\"2021-01-07T00:00:00\",\"2021-01-08T00:00:00\",\"2021-01-11T00:00:00\",\"2021-01-12T00:00:00\",\"2021-01-13T00:00:00\",\"2021-01-14T00:00:00\",\"2021-01-15T00:00:00\",\"2021-01-19T00:00:00\",\"2021-01-20T00:00:00\",\"2021-01-21T00:00:00\",\"2021-01-22T00:00:00\",\"2021-01-25T00:00:00\",\"2021-01-26T00:00:00\",\"2021-01-27T00:00:00\",\"2021-01-28T00:00:00\",\"2021-01-29T00:00:00\",\"2021-02-01T00:00:00\",\"2021-02-02T00:00:00\",\"2021-02-03T00:00:00\",\"2021-02-04T00:00:00\",\"2021-02-05T00:00:00\",\"2021-02-08T00:00:00\",\"2021-02-09T00:00:00\",\"2021-02-10T00:00:00\",\"2021-02-11T00:00:00\",\"2021-02-12T00:00:00\",\"2021-02-16T00:00:00\",\"2021-02-17T00:00:00\",\"2021-02-18T00:00:00\",\"2021-02-19T00:00:00\",\"2021-02-22T00:00:00\",\"2021-02-23T00:00:00\",\"2021-02-24T00:00:00\",\"2021-02-25T00:00:00\",\"2021-02-26T00:00:00\",\"2021-03-01T00:00:00\",\"2021-03-02T00:00:00\",\"2021-03-03T00:00:00\",\"2021-03-04T00:00:00\",\"2021-03-05T00:00:00\",\"2021-03-08T00:00:00\",\"2021-03-09T00:00:00\",\"2021-03-10T00:00:00\",\"2021-03-11T00:00:00\",\"2021-03-12T00:00:00\",\"2021-03-15T00:00:00\",\"2021-03-16T00:00:00\",\"2021-03-17T00:00:00\",\"2021-03-18T00:00:00\",\"2021-03-19T00:00:00\",\"2021-03-22T00:00:00\",\"2021-03-23T00:00:00\",\"2021-03-24T00:00:00\",\"2021-03-25T00:00:00\",\"2021-03-26T00:00:00\",\"2021-03-29T00:00:00\",\"2021-03-30T00:00:00\",\"2021-03-31T00:00:00\",\"2021-04-01T00:00:00\",\"2021-04-05T00:00:00\",\"2021-04-06T00:00:00\",\"2021-04-07T00:00:00\",\"2021-04-08T00:00:00\",\"2021-04-09T00:00:00\",\"2021-04-12T00:00:00\",\"2021-04-13T00:00:00\",\"2021-04-14T00:00:00\",\"2021-04-15T00:00:00\",\"2021-04-16T00:00:00\",\"2021-04-19T00:00:00\",\"2021-04-20T00:00:00\",\"2021-04-21T00:00:00\",\"2021-04-22T00:00:00\",\"2021-04-23T00:00:00\",\"2021-04-26T00:00:00\",\"2021-04-27T00:00:00\",\"2021-04-28T00:00:00\",\"2021-04-29T00:00:00\",\"2021-04-30T00:00:00\",\"2021-05-03T00:00:00\",\"2021-05-04T00:00:00\",\"2021-05-05T00:00:00\",\"2021-05-06T00:00:00\",\"2021-05-07T00:00:00\",\"2021-05-10T00:00:00\",\"2021-05-11T00:00:00\",\"2021-05-12T00:00:00\",\"2021-05-13T00:00:00\",\"2021-05-14T00:00:00\",\"2021-05-17T00:00:00\",\"2021-05-18T00:00:00\",\"2021-05-19T00:00:00\",\"2021-05-20T00:00:00\",\"2021-05-21T00:00:00\",\"2021-05-24T00:00:00\",\"2021-05-25T00:00:00\",\"2021-05-26T00:00:00\",\"2021-05-27T00:00:00\",\"2021-05-28T00:00:00\",\"2021-06-01T00:00:00\",\"2021-06-02T00:00:00\",\"2021-06-03T00:00:00\",\"2021-06-04T00:00:00\",\"2021-06-07T00:00:00\",\"2021-06-08T00:00:00\",\"2021-06-09T00:00:00\",\"2021-06-10T00:00:00\",\"2021-06-11T00:00:00\",\"2021-06-14T00:00:00\",\"2021-06-15T00:00:00\",\"2021-06-16T00:00:00\",\"2021-06-17T00:00:00\",\"2021-06-18T00:00:00\",\"2021-06-21T00:00:00\",\"2021-06-22T00:00:00\",\"2021-06-23T00:00:00\",\"2021-06-24T00:00:00\",\"2021-06-25T00:00:00\",\"2021-06-28T00:00:00\",\"2021-06-29T00:00:00\",\"2021-06-30T00:00:00\",\"2021-07-01T00:00:00\",\"2021-07-02T00:00:00\",\"2021-07-06T00:00:00\",\"2021-07-07T00:00:00\",\"2021-07-08T00:00:00\",\"2021-07-09T00:00:00\",\"2021-07-12T00:00:00\",\"2021-07-13T00:00:00\",\"2021-07-14T00:00:00\",\"2021-07-15T00:00:00\",\"2021-07-16T00:00:00\",\"2021-07-19T00:00:00\",\"2021-07-20T00:00:00\",\"2021-07-21T00:00:00\",\"2021-07-22T00:00:00\",\"2021-07-23T00:00:00\",\"2021-07-26T00:00:00\",\"2021-07-27T00:00:00\",\"2021-07-28T00:00:00\",\"2021-07-29T00:00:00\",\"2021-07-30T00:00:00\",\"2021-08-02T00:00:00\",\"2021-08-03T00:00:00\",\"2021-08-04T00:00:00\",\"2021-08-05T00:00:00\",\"2021-08-06T00:00:00\",\"2021-08-09T00:00:00\",\"2021-08-10T00:00:00\",\"2021-08-11T00:00:00\",\"2021-08-12T00:00:00\",\"2021-08-13T00:00:00\",\"2021-08-16T00:00:00\",\"2021-08-17T00:00:00\",\"2021-08-18T00:00:00\",\"2021-08-19T00:00:00\",\"2021-08-20T00:00:00\",\"2021-08-23T00:00:00\",\"2021-08-24T00:00:00\",\"2021-08-25T00:00:00\",\"2021-08-26T00:00:00\",\"2021-08-27T00:00:00\",\"2021-08-30T00:00:00\",\"2021-08-31T00:00:00\",\"2021-09-01T00:00:00\",\"2021-09-02T00:00:00\",\"2021-09-03T00:00:00\",\"2021-09-07T00:00:00\",\"2021-09-08T00:00:00\",\"2021-09-09T00:00:00\",\"2021-09-10T00:00:00\",\"2021-09-13T00:00:00\",\"2021-09-14T00:00:00\",\"2021-09-15T00:00:00\",\"2021-09-16T00:00:00\",\"2021-09-17T00:00:00\",\"2021-09-20T00:00:00\",\"2021-09-21T00:00:00\",\"2021-09-22T00:00:00\",\"2021-09-23T00:00:00\",\"2021-09-24T00:00:00\",\"2021-09-27T00:00:00\",\"2021-09-28T00:00:00\",\"2021-09-29T00:00:00\",\"2021-09-30T00:00:00\",\"2021-10-01T00:00:00\",\"2021-10-04T00:00:00\",\"2021-10-05T00:00:00\",\"2021-10-06T00:00:00\",\"2021-10-07T00:00:00\",\"2021-10-08T00:00:00\",\"2021-10-11T00:00:00\",\"2021-10-12T00:00:00\",\"2021-10-13T00:00:00\",\"2021-10-14T00:00:00\",\"2021-10-15T00:00:00\",\"2021-10-18T00:00:00\",\"2021-10-19T00:00:00\",\"2021-10-20T00:00:00\",\"2021-10-21T00:00:00\",\"2021-10-22T00:00:00\",\"2021-10-25T00:00:00\",\"2021-10-26T00:00:00\",\"2021-10-27T00:00:00\",\"2021-10-28T00:00:00\",\"2021-10-29T00:00:00\",\"2021-11-01T00:00:00\",\"2021-11-02T00:00:00\",\"2021-11-03T00:00:00\",\"2021-11-04T00:00:00\",\"2021-11-05T00:00:00\",\"2021-11-08T00:00:00\",\"2021-11-09T00:00:00\",\"2021-11-10T00:00:00\",\"2021-11-11T00:00:00\",\"2021-11-12T00:00:00\",\"2021-11-15T00:00:00\",\"2021-11-16T00:00:00\",\"2021-11-17T00:00:00\",\"2021-11-18T00:00:00\",\"2021-11-19T00:00:00\",\"2021-11-22T00:00:00\",\"2021-11-23T00:00:00\",\"2021-11-24T00:00:00\",\"2021-11-26T00:00:00\",\"2021-11-29T00:00:00\",\"2021-11-30T00:00:00\",\"2021-12-01T00:00:00\",\"2021-12-02T00:00:00\",\"2021-12-03T00:00:00\",\"2021-12-06T00:00:00\",\"2021-12-07T00:00:00\",\"2021-12-08T00:00:00\",\"2021-12-09T00:00:00\",\"2021-12-10T00:00:00\",\"2021-12-13T00:00:00\",\"2021-12-14T00:00:00\",\"2021-12-15T00:00:00\",\"2021-12-16T00:00:00\",\"2021-12-17T00:00:00\",\"2021-12-20T00:00:00\",\"2021-12-21T00:00:00\"],\"y\":[49.49787170410156,49.735798072814944,50.00746246337891,50.30885540008545,50.623743515014645,50.93569797515869,51.26417911529541,51.55461944580078,51.839778938293456,52.133641929626464,52.42222419738769,52.73046249389648,53.075665893554685,53.40766746520996,53.765681495666506,54.145111923217776,54.50703773498535,54.90299491882324,55.25895542144775,55.59252166748047,55.87719223022461,56.18895099639892,56.516454162597654,56.833591575622556,57.16666885375977,57.48028568267822,57.80661540985108,58.11896091461182,58.43091526031494,58.73954475402832,59.044653778076174,59.3550435256958,59.627196884155275,59.90864040374756,60.20465480804443,60.510839500427245,60.8164374923706,61.0565151977539,61.29805988311767,61.50400840759277,61.73049320220947,61.9443628692627,62.16791389465332,62.398212585449215,62.63633449554443,62.856658477783206,63.07541778564453,63.31213508605957,63.56443691253662,63.818112754821776,64.08407096862793,64.33666118621827,64.58982837677001,64.84987133026124,65.12611949920654,65.38908897399902,65.66687572479248,65.92990291595459,66.20933506011963,66.44513240814209,66.68225875854492,66.91047546386719,67.15425830841065,67.39854084014893,67.65497730255127,67.89639030456543,68.13423732757569,68.3883239364624,68.62336570739745,68.95940990447998,69.29226951599121,69.60587463378906,69.91260082244872,70.18620014190674,70.48204887390136,70.76461437225342,71.02384159088135,71.27069675445557,71.54557304382324,71.85143379211426,72.15493991851807,72.48788597106933,72.81108360290527,72.96132446289063,73.13452434539795,73.33852142333984,73.53545249938965,73.74995136260986,73.9561083984375,74.14373416900635,74.3216944885254,74.51358310699463,74.71093948364258,74.88249351501464,75.056040725708,75.27000091552735,75.48408508300781,75.71764991760254,75.9357039642334,76.14826362609864,76.36035758972167,76.57184677124023,76.78053359985351,76.98399795532227,77.15833068847657,77.35699584960938,77.53661506652833,77.73848159790039,77.96003051757812,78.16772407531738,78.41305145263672,78.65490058898926,78.88455162048339,79.1094059753418,79.31445571899414,79.52174797058106,79.73271911621094,79.95890419006348,80.20819297790527,80.46578063964844,80.7381941986084,81.0038094329834,81.2546736907959,81.55584175109863,81.85485572814942,82.13522773742676,82.41608505249023,82.70459434509277,83.0007423400879,83.27482460021973,83.51996124267578,83.78244140625,84.1090422821045,84.4336954498291,84.73865013122558,85.01293991088868,85.33294715881348,85.70549293518066,86.05869178771972,86.45377410888672,86.86146270751954,87.27561614990235,87.68925033569336,88.10754913330078,88.53997634887695,89.00495826721192,89.46246757507325,89.93825584411621,90.38711082458497,90.832797164917,91.24996597290038,91.67149169921875,92.0999488067627,92.47661865234375,92.80773963928223,93.13311744689942,93.40353950500489,93.70317230224609,93.96765319824219,94.28174285888672,94.52394432067871,94.69613914489746,94.8511045074463,94.94943084716797,95.11132759094238,95.2661939239502,95.47156021118164,95.66098434448242,95.86625160217285,95.95705238342285,96.04597175598144,96.15746765136718,96.2913419342041,96.47670631408691,96.66207069396972,96.82693801879883,96.99705337524414,97.18855690002441,97.36520751953125,97.51462791442871,97.6614737701416,97.80297256469727,97.95625457763671,98.26767074584961,98.54195457458496,98.80049430847168,99.06943107604981,99.31678153991699,99.57987617492675,99.86584426879882,100.16349670410156,100.4571883392334,100.75761322021485,101.0690293121338,101.3802473449707,101.66067031860352,101.95822372436524,102.20260368347168,102.4633218383789,102.71730659484864,102.93980323791504,103.17309303283692,103.38994560241699,103.6039264678955,103.84810829162598,104.0686245727539,104.3138956451416,104.50203254699707,104.65353218078613,104.73591636657714,104.79790260314941,104.90147697448731,105.0078239440918,105.12743942260742,105.2794342803955,105.47658203125,105.63778564453125,105.80849510192871,105.99435455322265,106.21625701904297,106.4492497253418,106.68145027160645,106.96464584350586,107.2419002532959,107.49172630310059,107.79126014709473,108.1021810913086,108.42765785217286,108.77313659667969,109.08653297424317,109.38864128112793,109.67173789978027,109.90572074890137,110.14208023071289,110.3547738647461,110.56449699401855,110.75619857788087,110.94354331970214,111.14435470581054,111.33932395935058,111.44715606689454,111.57241569519043,111.70698318481445,111.79679382324218,111.86095840454101,111.93383674621582,112.01671600341797,112.09791198730468,112.17683052062988,112.25475883483887,112.35169883728027,112.41546737670899,112.4622045135498,112.52656715393067,112.59914840698242,112.67658157348633,112.79738525390626,112.92749671936035,113.05443962097168,113.18029327392578,113.37942138671875,113.51854362487794,113.64588264465333,113.81520584106445,113.93452430725098,114.05701141357422,114.13820739746093,114.23475135803223,114.3294139099121,114.38456771850586,114.46011962890626,114.53398811340332,114.60013305664063,114.64211730957031,114.66023780822754,114.72440238952636,114.78391311645508,114.79866706848145,114.79906318664551,114.81906509399414,114.85005813598633,114.83332382202148,114.78856704711914,114.76252487182617,114.75113761901855,114.72073867797852,114.65479171752929,114.6081536102295,114.52636360168457,114.45764419555664,114.37991386413574,114.25524841308594,114.12563209533691,114.00968040466309,113.86253753662109,113.71153297424317,113.52418823242188,113.35407287597656,113.16801536560058,113.01191055297852,112.88431251525878,112.76658508300781,112.67529983520508,112.56701072692871,112.4177725982666,112.21274223327637,111.96977569580078,111.77800415039063,111.6164688873291,111.50195205688476,111.38595481872558,111.21738121032715,111.04745559692383,110.86545753479004,110.65506149291993,110.41262916564942,110.20776748657227,109.98040092468261,109.71038246154785,109.43261016845703,109.1241731262207,108.80484397888183,108.44445411682129,108.04142707824707,107.64748237609864,107.18154647827149,106.6935205078125,106.18401428222656,105.64091491699219,105.15611343383789,104.6886882019043,104.21843650817871,103.7538427734375,103.27890090942383,102.82426895141602,102.39310646057129,101.92849502563476,101.46836006164551,101.04053688049316,100.59685684204102,100.19839729309082,99.78834060668946,99.36813003540038,98.98638710021973,98.6053833770752,98.18539245605469,97.76036819458008,97.35220474243164,96.91471488952637,96.46228775024414,96.01703514099121,95.59962066650391,95.17579833984375,94.7786181640625,94.42578010559082,94.08174995422364,93.73292366027832,93.34590629577637,92.97300262451172,92.59769500732422,92.23084716796875,91.98318153381348,91.74627662658692,91.49299133300781,91.25418441772462],\"type\":\"scatter\",\"xaxis\":\"x\",\"yaxis\":\"y\"},{\"line\":{\"color\":\"red\",\"width\":2},\"name\":\"MA 200\",\"x\":[\"2020-07-14T00:00:00\",\"2020-07-15T00:00:00\",\"2020-07-16T00:00:00\",\"2020-07-17T00:00:00\",\"2020-07-20T00:00:00\",\"2020-07-21T00:00:00\",\"2020-07-22T00:00:00\",\"2020-07-23T00:00:00\",\"2020-07-24T00:00:00\",\"2020-07-27T00:00:00\",\"2020-07-28T00:00:00\",\"2020-07-29T00:00:00\",\"2020-07-30T00:00:00\",\"2020-07-31T00:00:00\",\"2020-08-03T00:00:00\",\"2020-08-04T00:00:00\",\"2020-08-05T00:00:00\",\"2020-08-06T00:00:00\",\"2020-08-07T00:00:00\",\"2020-08-10T00:00:00\",\"2020-08-11T00:00:00\",\"2020-08-12T00:00:00\",\"2020-08-13T00:00:00\",\"2020-08-14T00:00:00\",\"2020-08-17T00:00:00\",\"2020-08-18T00:00:00\",\"2020-08-19T00:00:00\",\"2020-08-20T00:00:00\",\"2020-08-21T00:00:00\",\"2020-08-24T00:00:00\",\"2020-08-25T00:00:00\",\"2020-08-26T00:00:00\",\"2020-08-27T00:00:00\",\"2020-08-28T00:00:00\",\"2020-08-31T00:00:00\",\"2020-09-01T00:00:00\",\"2020-09-02T00:00:00\",\"2020-09-03T00:00:00\",\"2020-09-04T00:00:00\",\"2020-09-08T00:00:00\",\"2020-09-09T00:00:00\",\"2020-09-10T00:00:00\",\"2020-09-11T00:00:00\",\"2020-09-14T00:00:00\",\"2020-09-15T00:00:00\",\"2020-09-16T00:00:00\",\"2020-09-17T00:00:00\",\"2020-09-18T00:00:00\",\"2020-09-21T00:00:00\",\"2020-09-22T00:00:00\",\"2020-09-23T00:00:00\",\"2020-09-24T00:00:00\",\"2020-09-25T00:00:00\",\"2020-09-28T00:00:00\",\"2020-09-29T00:00:00\",\"2020-09-30T00:00:00\",\"2020-10-01T00:00:00\",\"2020-10-02T00:00:00\",\"2020-10-05T00:00:00\",\"2020-10-06T00:00:00\",\"2020-10-07T00:00:00\",\"2020-10-08T00:00:00\",\"2020-10-09T00:00:00\",\"2020-10-12T00:00:00\",\"2020-10-13T00:00:00\",\"2020-10-14T00:00:00\",\"2020-10-15T00:00:00\",\"2020-10-16T00:00:00\",\"2020-10-19T00:00:00\",\"2020-10-20T00:00:00\",\"2020-10-21T00:00:00\",\"2020-10-22T00:00:00\",\"2020-10-23T00:00:00\",\"2020-10-26T00:00:00\",\"2020-10-27T00:00:00\",\"2020-10-28T00:00:00\",\"2020-10-29T00:00:00\",\"2020-10-30T00:00:00\",\"2020-11-02T00:00:00\",\"2020-11-03T00:00:00\",\"2020-11-04T00:00:00\",\"2020-11-05T00:00:00\",\"2020-11-06T00:00:00\",\"2020-11-09T00:00:00\",\"2020-11-10T00:00:00\",\"2020-11-11T00:00:00\",\"2020-11-12T00:00:00\",\"2020-11-13T00:00:00\",\"2020-11-16T00:00:00\",\"2020-11-17T00:00:00\",\"2020-11-18T00:00:00\",\"2020-11-19T00:00:00\",\"2020-11-20T00:00:00\",\"2020-11-23T00:00:00\",\"2020-11-24T00:00:00\",\"2020-11-25T00:00:00\",\"2020-11-27T00:00:00\",\"2020-11-30T00:00:00\",\"2020-12-01T00:00:00\",\"2020-12-02T00:00:00\",\"2020-12-03T00:00:00\",\"2020-12-04T00:00:00\",\"2020-12-07T00:00:00\",\"2020-12-08T00:00:00\",\"2020-12-09T00:00:00\",\"2020-12-10T00:00:00\",\"2020-12-11T00:00:00\",\"2020-12-14T00:00:00\",\"2020-12-15T00:00:00\",\"2020-12-16T00:00:00\",\"2020-12-17T00:00:00\",\"2020-12-18T00:00:00\",\"2020-12-21T00:00:00\",\"2020-12-22T00:00:00\",\"2020-12-23T00:00:00\",\"2020-12-24T00:00:00\",\"2020-12-28T00:00:00\",\"2020-12-29T00:00:00\",\"2020-12-30T00:00:00\",\"2020-12-31T00:00:00\",\"2021-01-04T00:00:00\",\"2021-01-05T00:00:00\",\"2021-01-06T00:00:00\",\"2021-01-07T00:00:00\",\"2021-01-08T00:00:00\",\"2021-01-11T00:00:00\",\"2021-01-12T00:00:00\",\"2021-01-13T00:00:00\",\"2021-01-14T00:00:00\",\"2021-01-15T00:00:00\",\"2021-01-19T00:00:00\",\"2021-01-20T00:00:00\",\"2021-01-21T00:00:00\",\"2021-01-22T00:00:00\",\"2021-01-25T00:00:00\",\"2021-01-26T00:00:00\",\"2021-01-27T00:00:00\",\"2021-01-28T00:00:00\",\"2021-01-29T00:00:00\",\"2021-02-01T00:00:00\",\"2021-02-02T00:00:00\",\"2021-02-03T00:00:00\",\"2021-02-04T00:00:00\",\"2021-02-05T00:00:00\",\"2021-02-08T00:00:00\",\"2021-02-09T00:00:00\",\"2021-02-10T00:00:00\",\"2021-02-11T00:00:00\",\"2021-02-12T00:00:00\",\"2021-02-16T00:00:00\",\"2021-02-17T00:00:00\",\"2021-02-18T00:00:00\",\"2021-02-19T00:00:00\",\"2021-02-22T00:00:00\",\"2021-02-23T00:00:00\",\"2021-02-24T00:00:00\",\"2021-02-25T00:00:00\",\"2021-02-26T00:00:00\",\"2021-03-01T00:00:00\",\"2021-03-02T00:00:00\",\"2021-03-03T00:00:00\",\"2021-03-04T00:00:00\",\"2021-03-05T00:00:00\",\"2021-03-08T00:00:00\",\"2021-03-09T00:00:00\",\"2021-03-10T00:00:00\",\"2021-03-11T00:00:00\",\"2021-03-12T00:00:00\",\"2021-03-15T00:00:00\",\"2021-03-16T00:00:00\",\"2021-03-17T00:00:00\",\"2021-03-18T00:00:00\",\"2021-03-19T00:00:00\",\"2021-03-22T00:00:00\",\"2021-03-23T00:00:00\",\"2021-03-24T00:00:00\",\"2021-03-25T00:00:00\",\"2021-03-26T00:00:00\",\"2021-03-29T00:00:00\",\"2021-03-30T00:00:00\",\"2021-03-31T00:00:00\",\"2021-04-01T00:00:00\",\"2021-04-05T00:00:00\",\"2021-04-06T00:00:00\",\"2021-04-07T00:00:00\",\"2021-04-08T00:00:00\",\"2021-04-09T00:00:00\",\"2021-04-12T00:00:00\",\"2021-04-13T00:00:00\",\"2021-04-14T00:00:00\",\"2021-04-15T00:00:00\",\"2021-04-16T00:00:00\",\"2021-04-19T00:00:00\",\"2021-04-20T00:00:00\",\"2021-04-21T00:00:00\",\"2021-04-22T00:00:00\",\"2021-04-23T00:00:00\",\"2021-04-26T00:00:00\",\"2021-04-27T00:00:00\",\"2021-04-28T00:00:00\",\"2021-04-29T00:00:00\",\"2021-04-30T00:00:00\",\"2021-05-03T00:00:00\",\"2021-05-04T00:00:00\",\"2021-05-05T00:00:00\",\"2021-05-06T00:00:00\",\"2021-05-07T00:00:00\",\"2021-05-10T00:00:00\",\"2021-05-11T00:00:00\",\"2021-05-12T00:00:00\",\"2021-05-13T00:00:00\",\"2021-05-14T00:00:00\",\"2021-05-17T00:00:00\",\"2021-05-18T00:00:00\",\"2021-05-19T00:00:00\",\"2021-05-20T00:00:00\",\"2021-05-21T00:00:00\",\"2021-05-24T00:00:00\",\"2021-05-25T00:00:00\",\"2021-05-26T00:00:00\",\"2021-05-27T00:00:00\",\"2021-05-28T00:00:00\",\"2021-06-01T00:00:00\",\"2021-06-02T00:00:00\",\"2021-06-03T00:00:00\",\"2021-06-04T00:00:00\",\"2021-06-07T00:00:00\",\"2021-06-08T00:00:00\",\"2021-06-09T00:00:00\",\"2021-06-10T00:00:00\",\"2021-06-11T00:00:00\",\"2021-06-14T00:00:00\",\"2021-06-15T00:00:00\",\"2021-06-16T00:00:00\",\"2021-06-17T00:00:00\",\"2021-06-18T00:00:00\",\"2021-06-21T00:00:00\",\"2021-06-22T00:00:00\",\"2021-06-23T00:00:00\",\"2021-06-24T00:00:00\",\"2021-06-25T00:00:00\",\"2021-06-28T00:00:00\",\"2021-06-29T00:00:00\",\"2021-06-30T00:00:00\",\"2021-07-01T00:00:00\",\"2021-07-02T00:00:00\",\"2021-07-06T00:00:00\",\"2021-07-07T00:00:00\",\"2021-07-08T00:00:00\",\"2021-07-09T00:00:00\",\"2021-07-12T00:00:00\",\"2021-07-13T00:00:00\",\"2021-07-14T00:00:00\",\"2021-07-15T00:00:00\",\"2021-07-16T00:00:00\",\"2021-07-19T00:00:00\",\"2021-07-20T00:00:00\",\"2021-07-21T00:00:00\",\"2021-07-22T00:00:00\",\"2021-07-23T00:00:00\",\"2021-07-26T00:00:00\",\"2021-07-27T00:00:00\",\"2021-07-28T00:00:00\",\"2021-07-29T00:00:00\",\"2021-07-30T00:00:00\",\"2021-08-02T00:00:00\",\"2021-08-03T00:00:00\",\"2021-08-04T00:00:00\",\"2021-08-05T00:00:00\",\"2021-08-06T00:00:00\",\"2021-08-09T00:00:00\",\"2021-08-10T00:00:00\",\"2021-08-11T00:00:00\",\"2021-08-12T00:00:00\",\"2021-08-13T00:00:00\",\"2021-08-16T00:00:00\",\"2021-08-17T00:00:00\",\"2021-08-18T00:00:00\",\"2021-08-19T00:00:00\",\"2021-08-20T00:00:00\",\"2021-08-23T00:00:00\",\"2021-08-24T00:00:00\",\"2021-08-25T00:00:00\",\"2021-08-26T00:00:00\",\"2021-08-27T00:00:00\",\"2021-08-30T00:00:00\",\"2021-08-31T00:00:00\",\"2021-09-01T00:00:00\",\"2021-09-02T00:00:00\",\"2021-09-03T00:00:00\",\"2021-09-07T00:00:00\",\"2021-09-08T00:00:00\",\"2021-09-09T00:00:00\",\"2021-09-10T00:00:00\",\"2021-09-13T00:00:00\",\"2021-09-14T00:00:00\",\"2021-09-15T00:00:00\",\"2021-09-16T00:00:00\",\"2021-09-17T00:00:00\",\"2021-09-20T00:00:00\",\"2021-09-21T00:00:00\",\"2021-09-22T00:00:00\",\"2021-09-23T00:00:00\",\"2021-09-24T00:00:00\",\"2021-09-27T00:00:00\",\"2021-09-28T00:00:00\",\"2021-09-29T00:00:00\",\"2021-09-30T00:00:00\",\"2021-10-01T00:00:00\",\"2021-10-04T00:00:00\",\"2021-10-05T00:00:00\",\"2021-10-06T00:00:00\",\"2021-10-07T00:00:00\",\"2021-10-08T00:00:00\",\"2021-10-11T00:00:00\",\"2021-10-12T00:00:00\",\"2021-10-13T00:00:00\",\"2021-10-14T00:00:00\",\"2021-10-15T00:00:00\",\"2021-10-18T00:00:00\",\"2021-10-19T00:00:00\",\"2021-10-20T00:00:00\",\"2021-10-21T00:00:00\",\"2021-10-22T00:00:00\",\"2021-10-25T00:00:00\",\"2021-10-26T00:00:00\",\"2021-10-27T00:00:00\",\"2021-10-28T00:00:00\",\"2021-10-29T00:00:00\",\"2021-11-01T00:00:00\",\"2021-11-02T00:00:00\",\"2021-11-03T00:00:00\",\"2021-11-04T00:00:00\",\"2021-11-05T00:00:00\",\"2021-11-08T00:00:00\",\"2021-11-09T00:00:00\",\"2021-11-10T00:00:00\",\"2021-11-11T00:00:00\",\"2021-11-12T00:00:00\",\"2021-11-15T00:00:00\",\"2021-11-16T00:00:00\",\"2021-11-17T00:00:00\",\"2021-11-18T00:00:00\",\"2021-11-19T00:00:00\",\"2021-11-22T00:00:00\",\"2021-11-23T00:00:00\",\"2021-11-24T00:00:00\",\"2021-11-26T00:00:00\",\"2021-11-29T00:00:00\",\"2021-11-30T00:00:00\",\"2021-12-01T00:00:00\",\"2021-12-02T00:00:00\",\"2021-12-03T00:00:00\",\"2021-12-06T00:00:00\",\"2021-12-07T00:00:00\",\"2021-12-08T00:00:00\",\"2021-12-09T00:00:00\",\"2021-12-10T00:00:00\",\"2021-12-13T00:00:00\",\"2021-12-14T00:00:00\",\"2021-12-15T00:00:00\",\"2021-12-16T00:00:00\",\"2021-12-17T00:00:00\",\"2021-12-20T00:00:00\",\"2021-12-21T00:00:00\"],\"y\":[46.18949275970459,46.31843067169189,46.45250263214111,46.59786947250366,46.754971256256106,46.90253841400146,47.05778219223023,47.20006858825683,47.34127927780151,47.49310033798218,47.636609134674075,47.78461633682251,47.94078908920288,48.0994066619873,48.26178915023804,48.41771745681763,48.58303373336792,48.747469902038574,48.908972339630125,49.06421607971191,49.21080528259277,49.36634241104126,49.5252533531189,49.68690244674683,49.85407670974732,50.01944187164307,50.18358463287353,50.34953651428223,50.511381187438964,50.669705371856686,50.826953868865964,50.98962978363037,51.14198871612549,51.29341859817505,51.45492097854614,51.62346435546875,51.78276647567749,51.91600717544556,52.049834671020506,52.16796657562256,52.29881139755249,52.423788738250735,52.54754367828369,52.68014877319336,52.81417181015015,52.94364757537842,53.076252670288085,53.2156364440918,53.36848440170288,53.519378986358646,53.66712459564209,53.818160915374754,53.967774353027345,54.124395084381106,54.289265098571775,54.45052728652954,54.6167533493042,54.77603967666626,54.95457889556885,55.10494428634644,55.25612087249756,55.40944355010986,55.57441207885742,55.747209243774414,55.91645095825195,56.08243486404419,56.24683135986328,56.408981742858884,56.574371509552,56.802339706420895,57.02744432449341,57.235685138702394,57.436965980529784,57.629604511260986,57.825886707305905,58.01855880737305,58.209829864501955,58.39931550979614,58.59283700942993,58.79554317474365,59.002059364318846,59.228869667053225,59.458629055023195,59.605675029754636,59.763418197631836,59.94585010528564,60.12616703033447,60.31966842651367,60.51017240524292,60.68823251724243,60.86546936035156,61.056369075775144,61.250247135162354,61.43220193862915,61.61710914611817,61.818360080718996,62.033461589813236,62.265393352508546,62.49147661209106,62.709189643859865,62.92911464691162,63.15382242202759,63.39399803161621,63.64642667770386,63.8910371017456,64.14634691238403,64.40039709091187,64.64655052185059,64.89990472793579,65.15068300247192,65.4176378250122,65.69268154144287,65.98010875701904,66.25853672027588,66.54006860733033,66.83342994689941,67.11987842559815,67.43094955444336,67.73357419967651,68.02915115356446,68.3076932144165,68.59638021469117,68.88556392669678,69.1947166633606,69.51076229095459,69.80775671005249,70.11135023117066,70.4117776298523,70.71582880020142,71.00718467712403,71.28230751037597,71.5687424659729,71.86811958312988,72.17116792678833,72.471652469635,72.76188970565796,73.07469232559204,73.38100406646728,73.6783758354187,73.97889125823974,74.2959779548645,74.60998950958252,74.92858211517334,75.252880859375,75.58815542221069,75.93080837249755,76.26894268035889,76.62519546508788,76.9757738685608,77.32545495986939,77.66701847076416,78.0040764427185,78.34488859176636,78.66324499130249,78.96692956924439,79.26110321044922,79.53520761489868,79.81653760910034,80.0884941291809,80.36343763351441,80.60310153961181,80.80330730438233,81.00268140792846,81.17398584365844,81.38315244674682,81.5812921142578,81.80289876937866,82.0246541404724,82.24480865478516,82.45823114395142,82.66912063598633,82.88167114257813,83.10197137832641,83.33145322799683,83.57205978393554,83.79577619552612,84.01044748306275,84.22962682724,84.45539028167724,84.68303085327149,84.90820684432984,85.1454292678833,85.383669090271,85.61449760437011,85.83823945999146,86.06950786590576,86.30244178771973,86.53336645126343,86.76799228668213,87.00478921890259,87.24259559631348,87.485385723114,87.73427635192871,87.97576141357422,88.21814403533935,88.46533561706543,88.72115440368653,88.96012680053711,89.19951290130615,89.43278511047363,89.65008041381836,89.87246990203857,90.08523960113526,90.29396221160889,90.50321949005126,90.71281021118165,90.92525535583496,91.12025707244874,91.30678134918213,91.45182022094727,91.60547702789307,91.77818878173828,91.9461877822876,92.11842269897461,92.29694499969483,92.49916500091553,92.6852523803711,92.88369964599609,93.10127376556396,93.3410188293457,93.59372196197509,93.84262985229492,94.10965976715087,94.39887100219727,94.673291015625,94.96324394226075,95.25913307189941,95.56612609863281,95.88693946838379,96.18067878723144,96.45430126190186,96.72708965301514,97.00738151550293,97.287887840271,97.54671199798584,97.78871845245361,98.04457286834717,98.32451812744141,98.60152324676514,98.89654903411865,99.15430938720704,99.42401592254639,99.69811676025391,99.95217147827148,100.20046737670899,100.46939750671386,100.73959178924561,101.01808391571045,101.28197067260743,101.54377799987793,101.80083240509033,102.04347953796386,102.28107666015624,102.50159290313721,102.70344402313232,102.90484951019288,103.10046237945556,103.31533451080323,103.51104640960693,103.73101806640625,103.95168285369873,104.10734138488769,104.24849357604981,104.38231834411621,104.52292594909667,104.66160266876221,104.80488380432129,104.94786785125733,105.09783275604248,105.17081005096435,105.25304569244385,105.34572788238525,105.44573749542236,105.55941181182861,105.66115425109864,105.7756702041626,105.89048324584961,105.99361198425294,106.08213535308838,106.16684650421142,106.25576595306397,106.31814819335938,106.37241081237794,106.5150978088379,106.64654609680176,106.7606164932251,106.86211139678954,106.96246757507325,107.05311988830566,107.16174423217774,107.27170528411865,107.35621837615967,107.44162265777588,107.53935485839844,107.6213924407959,107.68610164642334,107.74120597839355,107.77833827972412,107.81566860198974,107.86460857391357,107.91205787658691,107.96983905792236,108.03262271881104,108.0854685974121,108.13294044494629,108.14068340301513,108.1418356704712,108.14001834869384,108.13500053405761,108.11893421173096,108.0919287109375,108.05942909240723,108.02763977050782,107.99644847869872,107.96724788665772,107.94460559844971,107.92277656555176,107.89444801330566,107.85236850738525,107.82443359375,107.78671142578125,107.74314712524414,107.70454998016358,107.64166366577149,107.5696043395996,107.48640331268311,107.39785079956054,107.3058360671997,107.20702575683593,107.12132320404052,107.03866474151611,106.9450872039795,106.82978176116943,106.71049057006836,106.58952140808105,106.47880172729492,106.34234680175781,106.20595169067383,106.09244579315185,105.9680904006958,105.82277667999267,105.68037815093994,105.53755661010742,105.39159046173096,105.23317089080811,105.05961460113525,104.88854209899903,104.72505836486816,104.54577270507812,104.3585232925415,104.18436698913574,104.00754402160645,103.81900142669677,103.65259265899658,103.51246425628662,103.37916576385499,103.26515445709228,103.13670150756836,103.0137211227417,102.888994140625,102.80513427734375,102.7508625793457,102.69607963562012,102.65409858703613,102.59435436248779],\"type\":\"scatter\",\"xaxis\":\"x\",\"yaxis\":\"y\"},{\"line\":{\"color\":\"rgba(100, 10, 100, 0.2)\",\"dash\":\"dash\",\"shape\":\"linear\",\"width\":1},\"mode\":\"lines+text\",\"name\":\"Lines and Text\",\"showlegend\":false,\"text\":[\"\",\"$137.3 (0% disc:0%)\",\"\"],\"textposition\":\"top right\",\"x\":[\"2020-07-14T00:00:00\",\"2021-12-21T00:00:00\"],\"y\":[137.3,137.3],\"type\":\"scatter\",\"xaxis\":\"x\",\"yaxis\":\"y\"},{\"line\":{\"color\":\"rgba(100, 10, 100, 0.2)\",\"dash\":\"dash\",\"shape\":\"linear\",\"width\":1},\"mode\":\"lines+text\",\"name\":\"Lines and Text\",\"showlegend\":false,\"text\":[\"\",\"$126.9 (8.2% disc:8.2%)\",\"\"],\"textposition\":\"top right\",\"x\":[\"2020-07-14T00:00:00\",\"2021-12-21T00:00:00\"],\"y\":[126.89339000024341,126.89339000024341],\"type\":\"scatter\",\"xaxis\":\"x\",\"yaxis\":\"y\"},{\"line\":{\"color\":\"rgba(100, 10, 100, 0.2)\",\"dash\":\"dash\",\"shape\":\"linear\",\"width\":1},\"mode\":\"lines+text\",\"name\":\"Lines and Text\",\"showlegend\":false,\"text\":[\"\",\"$124.2 (2.2% disc:10.5%)\",\"\"],\"textposition\":\"top right\",\"x\":[\"2020-07-14T00:00:00\",\"2021-12-21T00:00:00\"],\"y\":[124.21986865727227,124.21986865727227],\"type\":\"scatter\",\"xaxis\":\"x\",\"yaxis\":\"y\"},{\"line\":{\"color\":\"rgba(100, 10, 100, 0.2)\",\"dash\":\"dash\",\"shape\":\"linear\",\"width\":1},\"mode\":\"lines+text\",\"name\":\"Lines and Text\",\"showlegend\":false,\"text\":[\"\",\"$116.4 (6.7% disc:17.9%)\",\"\"],\"textposition\":\"top right\",\"x\":[\"2020-07-14T00:00:00\",\"2021-12-21T00:00:00\"],\"y\":[116.43693843810364,116.43693843810364],\"type\":\"scatter\",\"xaxis\":\"x\",\"yaxis\":\"y\"},{\"line\":{\"color\":\"rgba(100, 10, 100, 0.2)\",\"dash\":\"dash\",\"shape\":\"linear\",\"width\":1},\"mode\":\"lines+text\",\"name\":\"Lines and Text\",\"showlegend\":false,\"text\":[\"\",\"$113.5 (2.6% disc:20.9%)\",\"\"],\"textposition\":\"top right\",\"x\":[\"2020-07-14T00:00:00\",\"2021-12-21T00:00:00\"],\"y\":[113.52576973129696,113.52576973129696],\"type\":\"scatter\",\"xaxis\":\"x\",\"yaxis\":\"y\"},{\"line\":{\"color\":\"rgba(100, 10, 100, 0.2)\",\"dash\":\"dash\",\"shape\":\"linear\",\"width\":1},\"mode\":\"lines+text\",\"name\":\"Lines and Text\",\"showlegend\":false,\"text\":[\"\",\"$109.4 (3.7% disc:25.4%)\",\"\"],\"textposition\":\"top right\",\"x\":[\"2020-07-14T00:00:00\",\"2021-12-21T00:00:00\"],\"y\":[109.44617372287927,109.44617372287927],\"type\":\"scatter\",\"xaxis\":\"x\",\"yaxis\":\"y\"},{\"line\":{\"color\":\"rgba(100, 10, 100, 0.2)\",\"dash\":\"dash\",\"shape\":\"linear\",\"width\":1},\"mode\":\"lines+text\",\"name\":\"Lines and Text\",\"showlegend\":false,\"text\":[\"\",\"$104.8 (4.4% disc:31.0%)\",\"\"],\"textposition\":\"top right\",\"x\":[\"2020-07-14T00:00:00\",\"2021-12-21T00:00:00\"],\"y\":[104.81206317790928,104.81206317790928],\"type\":\"scatter\",\"xaxis\":\"x\",\"yaxis\":\"y\"},{\"line\":{\"color\":\"rgba(100, 10, 100, 0.2)\",\"dash\":\"dash\",\"shape\":\"linear\",\"width\":1},\"mode\":\"lines+text\",\"name\":\"Lines and Text\",\"showlegend\":false,\"text\":[\"\",\"$100.8 (4.0% disc:36.2%)\",\"\"],\"textposition\":\"top right\",\"x\":[\"2020-07-14T00:00:00\",\"2021-12-21T00:00:00\"],\"y\":[100.80178006540477,100.80178006540477],\"type\":\"scatter\",\"xaxis\":\"x\",\"yaxis\":\"y\"},{\"line\":{\"color\":\"rgba(200, 20, 200, 0.8)\",\"dash\":\"dash\",\"shape\":\"linear\",\"width\":1},\"mode\":\"lines+text\",\"name\":\"Lines and Text\",\"showlegend\":false,\"text\":[\"\",\"$97.6 (3.3% disc:40.7%)\",\"\"],\"textposition\":\"top right\",\"x\":[\"2020-07-14T00:00:00\",\"2021-12-21T00:00:00\"],\"y\":[97.58364914354871,97.58364914354871],\"type\":\"scatter\",\"xaxis\":\"x\",\"yaxis\":\"y\"},{\"line\":{\"color\":\"rgba(200, 20, 200, 0.8)\",\"dash\":\"dash\",\"shape\":\"linear\",\"width\":1},\"mode\":\"lines+text\",\"name\":\"Lines and Text\",\"showlegend\":false,\"text\":[\"\",\"$95.3 (2.4% disc:44.0%)\",\"\"],\"textposition\":\"top right\",\"x\":[\"2020-07-14T00:00:00\",\"2021-12-21T00:00:00\"],\"y\":[95.31610356741305,95.31610356741305],\"type\":\"scatter\",\"xaxis\":\"x\",\"yaxis\":\"y\"},{\"line\":{\"color\":\"rgba(200, 20, 200, 0.8)\",\"dash\":\"dash\",\"shape\":\"linear\",\"width\":1},\"mode\":\"lines+text\",\"name\":\"Lines and Text\",\"showlegend\":false,\"text\":[\"\",\"$93.1 (2.3% disc:47.4%)\",\"\"],\"textposition\":\"top right\",\"x\":[\"2020-07-14T00:00:00\",\"2021-12-21T00:00:00\"],\"y\":[93.13766601479198,93.13766601479198],\"type\":\"scatter\",\"xaxis\":\"x\",\"yaxis\":\"y\"},{\"line\":{\"color\":\"rgba(200, 20, 200, 0.8)\",\"dash\":\"dash\",\"shape\":\"linear\",\"width\":1},\"mode\":\"lines+text\",\"name\":\"Lines and Text\",\"showlegend\":false,\"text\":[\"\",\"$89.1 (4.5% disc:54.1%)\",\"\"],\"textposition\":\"top right\",\"x\":[\"2020-07-14T00:00:00\",\"2021-12-21T00:00:00\"],\"y\":[89.10757994176228,89.10757994176228],\"type\":\"scatter\",\"xaxis\":\"x\",\"yaxis\":\"y\"},{\"line\":{\"color\":\"rgba(200, 20, 200, 0.8)\",\"dash\":\"dash\",\"shape\":\"linear\",\"width\":1},\"mode\":\"lines+text\",\"name\":\"Lines and Text\",\"showlegend\":false,\"text\":[\"\",\"$86.3 (3.2% disc:59.1%)\",\"\"],\"textposition\":\"top right\",\"x\":[\"2020-07-14T00:00:00\",\"2021-12-21T00:00:00\"],\"y\":[86.31522944830586,86.31522944830586],\"type\":\"scatter\",\"xaxis\":\"x\",\"yaxis\":\"y\"},{\"line\":{\"color\":\"rgba(200, 20, 200, 0.8)\",\"dash\":\"dash\",\"shape\":\"linear\",\"width\":1},\"mode\":\"lines+text\",\"name\":\"Lines and Text\",\"showlegend\":false,\"text\":[\"\",\"$83.1 (3.8% disc:65.1%)\",\"\"],\"textposition\":\"top right\",\"x\":[\"2020-07-14T00:00:00\",\"2021-12-21T00:00:00\"],\"y\":[83.14661523741528,83.14661523741528],\"type\":\"scatter\",\"xaxis\":\"x\",\"yaxis\":\"y\"},{\"line\":{\"color\":\"rgba(200, 20, 200, 0.8)\",\"dash\":\"dash\",\"shape\":\"linear\",\"width\":1},\"mode\":\"lines+text\",\"name\":\"Lines and Text\",\"showlegend\":false,\"text\":[\"\",\"$79.4 (4.7% disc:72.9%)\",\"\"],\"textposition\":\"top right\",\"x\":[\"2020-07-14T00:00:00\",\"2021-12-21T00:00:00\"],\"y\":[79.39377763771508,79.39377763771508],\"type\":\"scatter\",\"xaxis\":\"x\",\"yaxis\":\"y\"},{\"line\":{\"color\":\"rgba(200, 20, 200, 0.8)\",\"dash\":\"dash\",\"shape\":\"linear\",\"width\":1},\"mode\":\"lines+text\",\"name\":\"Lines and Text\",\"showlegend\":false,\"text\":[\"\",\"$76.7 (3.5% disc:79.0%)\",\"\"],\"textposition\":\"top right\",\"x\":[\"2020-07-14T00:00:00\",\"2021-12-21T00:00:00\"],\"y\":[76.69999694824219,76.69999694824219],\"type\":\"scatter\",\"xaxis\":\"x\",\"yaxis\":\"y\"},{\"line\":{\"color\":\"rgba(200, 20, 200, 0.8)\",\"dash\":\"dash\",\"shape\":\"linear\",\"width\":1},\"mode\":\"lines+text\",\"name\":\"Lines and Text\",\"showlegend\":false,\"text\":[\"\",\"$72.9 (5.2% disc:88.3%)\",\"\"],\"textposition\":\"top right\",\"x\":[\"2020-07-14T00:00:00\",\"2021-12-21T00:00:00\"],\"y\":[72.90345647535727,72.90345647535727],\"type\":\"scatter\",\"xaxis\":\"x\",\"yaxis\":\"y\"},{\"line\":{\"color\":\"rgba(100, 10, 100, 0.2)\",\"dash\":\"dash\",\"shape\":\"linear\",\"width\":1},\"mode\":\"lines+text\",\"name\":\"Lines and Text\",\"showlegend\":false,\"text\":[\"\",\"$69.7 (4.6% disc:97.0%)\",\"\"],\"textposition\":\"top right\",\"x\":[\"2020-07-14T00:00:00\",\"2021-12-21T00:00:00\"],\"y\":[69.68611061615391,69.68611061615391],\"type\":\"scatter\",\"xaxis\":\"x\",\"yaxis\":\"y\"},{\"line\":{\"color\":\"rgba(100, 10, 100, 0.2)\",\"dash\":\"dash\",\"shape\":\"linear\",\"width\":1},\"mode\":\"lines+text\",\"name\":\"Lines and Text\",\"showlegend\":false,\"text\":[\"\",\"$0 (inf% disc:inf%)\",\"\"],\"textposition\":\"top right\",\"x\":[\"2020-07-14T00:00:00\",\"2021-12-21T00:00:00\"],\"y\":[0,0],\"type\":\"scatter\",\"xaxis\":\"x\",\"yaxis\":\"y\"},{\"marker\":{\"color\":[\"red\",\"green\",\"red\",\"red\",\"red\",\"green\",\"green\",\"green\",\"red\",\"red\",\"green\",\"red\",\"red\",\"green\",\"red\",\"red\",\"red\",\"red\",\"green\",\"red\",\"green\",\"red\",\"red\",\"green\",\"red\",\"red\",\"green\",\"red\",\"red\",\"green\",\"red\",\"red\",\"green\",\"red\",\"red\",\"red\",\"green\",\"green\",\"green\",\"green\",\"red\",\"green\",\"green\",\"red\",\"green\",\"green\",\"green\",\"green\",\"red\",\"red\",\"green\",\"red\",\"red\",\"red\",\"red\",\"red\",\"red\",\"red\",\"red\",\"green\",\"green\",\"red\",\"red\",\"red\",\"green\",\"green\",\"red\",\"green\",\"green\",\"green\",\"green\",\"green\",\"green\",\"red\",\"green\",\"red\",\"green\",\"green\",\"red\",\"red\",\"red\",\"red\",\"red\",\"green\",\"green\",\"red\",\"green\",\"red\",\"red\",\"green\",\"green\",\"red\",\"red\",\"green\",\"red\",\"red\",\"red\",\"red\",\"red\",\"green\",\"green\",\"red\",\"red\",\"red\",\"green\",\"red\",\"red\",\"green\",\"green\",\"green\",\"red\",\"red\",\"red\",\"red\",\"green\",\"green\",\"green\",\"red\",\"green\",\"green\",\"green\",\"red\",\"red\",\"red\",\"red\",\"green\",\"green\",\"red\",\"red\",\"green\",\"green\",\"green\",\"red\",\"red\",\"green\",\"green\",\"red\",\"red\",\"green\",\"red\",\"red\",\"green\",\"red\",\"red\",\"red\",\"red\",\"green\",\"red\",\"red\",\"green\",\"green\",\"red\",\"green\",\"green\",\"red\",\"red\",\"green\",\"red\",\"green\",\"green\",\"green\",\"green\",\"green\",\"green\",\"red\",\"green\",\"red\",\"red\",\"red\",\"red\",\"red\",\"green\",\"red\",\"red\",\"green\",\"green\",\"red\",\"red\",\"green\",\"red\",\"red\",\"red\",\"green\",\"green\",\"green\",\"red\",\"red\",\"green\",\"green\",\"green\",\"red\",\"red\",\"red\",\"green\",\"red\",\"green\",\"red\",\"green\",\"red\",\"green\",\"green\",\"red\",\"green\",\"red\",\"green\",\"green\",\"red\",\"green\",\"red\",\"green\",\"green\",\"red\",\"green\",\"green\",\"red\",\"red\",\"green\",\"red\",\"red\",\"red\",\"red\",\"red\",\"red\",\"red\",\"green\",\"red\",\"red\",\"red\",\"red\",\"green\",\"green\",\"red\",\"green\",\"green\",\"red\",\"green\",\"red\",\"red\",\"green\",\"green\",\"green\",\"red\",\"red\",\"green\",\"green\",\"red\",\"green\",\"red\",\"red\",\"red\",\"green\",\"red\",\"green\",\"green\",\"green\",\"red\",\"red\",\"red\",\"green\",\"green\",\"green\",\"green\",\"green\",\"green\",\"green\",\"green\",\"red\",\"green\",\"red\",\"green\",\"red\",\"green\",\"green\",\"red\",\"green\",\"red\",\"green\",\"green\",\"green\",\"red\",\"red\",\"green\",\"green\",\"red\",\"red\",\"red\",\"green\",\"green\",\"green\",\"green\",\"green\",\"green\",\"red\",\"green\",\"green\",\"green\",\"green\",\"red\",\"red\",\"red\",\"green\",\"green\",\"red\",\"red\",\"green\",\"green\",\"green\",\"green\",\"green\",\"green\",\"green\",\"red\",\"red\",\"green\",\"green\",\"red\",\"red\",\"green\",\"green\",\"red\",\"green\",\"green\",\"green\",\"green\",\"red\",\"red\",\"green\",\"red\",\"green\",\"red\",\"green\",\"red\",\"green\",\"green\",\"green\",\"green\",\"green\",\"red\",\"red\",\"green\",\"green\",\"green\",\"red\",\"green\",\"green\",\"green\",\"red\",\"red\",\"red\",\"green\",\"green\",\"red\",\"green\",\"red\",\"red\",\"red\",\"green\",\"green\",\"green\",\"green\",\"red\",\"green\",\"red\",\"red\",\"red\"]},\"name\":\"Volume\",\"x\":[\"2020-07-14T00:00:00\",\"2020-07-15T00:00:00\",\"2020-07-16T00:00:00\",\"2020-07-17T00:00:00\",\"2020-07-20T00:00:00\",\"2020-07-21T00:00:00\",\"2020-07-22T00:00:00\",\"2020-07-23T00:00:00\",\"2020-07-24T00:00:00\",\"2020-07-27T00:00:00\",\"2020-07-28T00:00:00\",\"2020-07-29T00:00:00\",\"2020-07-30T00:00:00\",\"2020-07-31T00:00:00\",\"2020-08-03T00:00:00\",\"2020-08-04T00:00:00\",\"2020-08-05T00:00:00\",\"2020-08-06T00:00:00\",\"2020-08-07T00:00:00\",\"2020-08-10T00:00:00\",\"2020-08-11T00:00:00\",\"2020-08-12T00:00:00\",\"2020-08-13T00:00:00\",\"2020-08-14T00:00:00\",\"2020-08-17T00:00:00\",\"2020-08-18T00:00:00\",\"2020-08-19T00:00:00\",\"2020-08-20T00:00:00\",\"2020-08-21T00:00:00\",\"2020-08-24T00:00:00\",\"2020-08-25T00:00:00\",\"2020-08-26T00:00:00\",\"2020-08-27T00:00:00\",\"2020-08-28T00:00:00\",\"2020-08-31T00:00:00\",\"2020-09-01T00:00:00\",\"2020-09-02T00:00:00\",\"2020-09-03T00:00:00\",\"2020-09-04T00:00:00\",\"2020-09-08T00:00:00\",\"2020-09-09T00:00:00\",\"2020-09-10T00:00:00\",\"2020-09-11T00:00:00\",\"2020-09-14T00:00:00\",\"2020-09-15T00:00:00\",\"2020-09-16T00:00:00\",\"2020-09-17T00:00:00\",\"2020-09-18T00:00:00\",\"2020-09-21T00:00:00\",\"2020-09-22T00:00:00\",\"2020-09-23T00:00:00\",\"2020-09-24T00:00:00\",\"2020-09-25T00:00:00\",\"2020-09-28T00:00:00\",\"2020-09-29T00:00:00\",\"2020-09-30T00:00:00\",\"2020-10-01T00:00:00\",\"2020-10-02T00:00:00\",\"2020-10-05T00:00:00\",\"2020-10-06T00:00:00\",\"2020-10-07T00:00:00\",\"2020-10-08T00:00:00\",\"2020-10-09T00:00:00\",\"2020-10-12T00:00:00\",\"2020-10-13T00:00:00\",\"2020-10-14T00:00:00\",\"2020-10-15T00:00:00\",\"2020-10-16T00:00:00\",\"2020-10-19T00:00:00\",\"2020-10-20T00:00:00\",\"2020-10-21T00:00:00\",\"2020-10-22T00:00:00\",\"2020-10-23T00:00:00\",\"2020-10-26T00:00:00\",\"2020-10-27T00:00:00\",\"2020-10-28T00:00:00\",\"2020-10-29T00:00:00\",\"2020-10-30T00:00:00\",\"2020-11-02T00:00:00\",\"2020-11-03T00:00:00\",\"2020-11-04T00:00:00\",\"2020-11-05T00:00:00\",\"2020-11-06T00:00:00\",\"2020-11-09T00:00:00\",\"2020-11-10T00:00:00\",\"2020-11-11T00:00:00\",\"2020-11-12T00:00:00\",\"2020-11-13T00:00:00\",\"2020-11-16T00:00:00\",\"2020-11-17T00:00:00\",\"2020-11-18T00:00:00\",\"2020-11-19T00:00:00\",\"2020-11-20T00:00:00\",\"2020-11-23T00:00:00\",\"2020-11-24T00:00:00\",\"2020-11-25T00:00:00\",\"2020-11-27T00:00:00\",\"2020-11-30T00:00:00\",\"2020-12-01T00:00:00\",\"2020-12-02T00:00:00\",\"2020-12-03T00:00:00\",\"2020-12-04T00:00:00\",\"2020-12-07T00:00:00\",\"2020-12-08T00:00:00\",\"2020-12-09T00:00:00\",\"2020-12-10T00:00:00\",\"2020-12-11T00:00:00\",\"2020-12-14T00:00:00\",\"2020-12-15T00:00:00\",\"2020-12-16T00:00:00\",\"2020-12-17T00:00:00\",\"2020-12-18T00:00:00\",\"2020-12-21T00:00:00\",\"2020-12-22T00:00:00\",\"2020-12-23T00:00:00\",\"2020-12-24T00:00:00\",\"2020-12-28T00:00:00\",\"2020-12-29T00:00:00\",\"2020-12-30T00:00:00\",\"2020-12-31T00:00:00\",\"2021-01-04T00:00:00\",\"2021-01-05T00:00:00\",\"2021-01-06T00:00:00\",\"2021-01-07T00:00:00\",\"2021-01-08T00:00:00\",\"2021-01-11T00:00:00\",\"2021-01-12T00:00:00\",\"2021-01-13T00:00:00\",\"2021-01-14T00:00:00\",\"2021-01-15T00:00:00\",\"2021-01-19T00:00:00\",\"2021-01-20T00:00:00\",\"2021-01-21T00:00:00\",\"2021-01-22T00:00:00\",\"2021-01-25T00:00:00\",\"2021-01-26T00:00:00\",\"2021-01-27T00:00:00\",\"2021-01-28T00:00:00\",\"2021-01-29T00:00:00\",\"2021-02-01T00:00:00\",\"2021-02-02T00:00:00\",\"2021-02-03T00:00:00\",\"2021-02-04T00:00:00\",\"2021-02-05T00:00:00\",\"2021-02-08T00:00:00\",\"2021-02-09T00:00:00\",\"2021-02-10T00:00:00\",\"2021-02-11T00:00:00\",\"2021-02-12T00:00:00\",\"2021-02-16T00:00:00\",\"2021-02-17T00:00:00\",\"2021-02-18T00:00:00\",\"2021-02-19T00:00:00\",\"2021-02-22T00:00:00\",\"2021-02-23T00:00:00\",\"2021-02-24T00:00:00\",\"2021-02-25T00:00:00\",\"2021-02-26T00:00:00\",\"2021-03-01T00:00:00\",\"2021-03-02T00:00:00\",\"2021-03-03T00:00:00\",\"2021-03-04T00:00:00\",\"2021-03-05T00:00:00\",\"2021-03-08T00:00:00\",\"2021-03-09T00:00:00\",\"2021-03-10T00:00:00\",\"2021-03-11T00:00:00\",\"2021-03-12T00:00:00\",\"2021-03-15T00:00:00\",\"2021-03-16T00:00:00\",\"2021-03-17T00:00:00\",\"2021-03-18T00:00:00\",\"2021-03-19T00:00:00\",\"2021-03-22T00:00:00\",\"2021-03-23T00:00:00\",\"2021-03-24T00:00:00\",\"2021-03-25T00:00:00\",\"2021-03-26T00:00:00\",\"2021-03-29T00:00:00\",\"2021-03-30T00:00:00\",\"2021-03-31T00:00:00\",\"2021-04-01T00:00:00\",\"2021-04-05T00:00:00\",\"2021-04-06T00:00:00\",\"2021-04-07T00:00:00\",\"2021-04-08T00:00:00\",\"2021-04-09T00:00:00\",\"2021-04-12T00:00:00\",\"2021-04-13T00:00:00\",\"2021-04-14T00:00:00\",\"2021-04-15T00:00:00\",\"2021-04-16T00:00:00\",\"2021-04-19T00:00:00\",\"2021-04-20T00:00:00\",\"2021-04-21T00:00:00\",\"2021-04-22T00:00:00\",\"2021-04-23T00:00:00\",\"2021-04-26T00:00:00\",\"2021-04-27T00:00:00\",\"2021-04-28T00:00:00\",\"2021-04-29T00:00:00\",\"2021-04-30T00:00:00\",\"2021-05-03T00:00:00\",\"2021-05-04T00:00:00\",\"2021-05-05T00:00:00\",\"2021-05-06T00:00:00\",\"2021-05-07T00:00:00\",\"2021-05-10T00:00:00\",\"2021-05-11T00:00:00\",\"2021-05-12T00:00:00\",\"2021-05-13T00:00:00\",\"2021-05-14T00:00:00\",\"2021-05-17T00:00:00\",\"2021-05-18T00:00:00\",\"2021-05-19T00:00:00\",\"2021-05-20T00:00:00\",\"2021-05-21T00:00:00\",\"2021-05-24T00:00:00\",\"2021-05-25T00:00:00\",\"2021-05-26T00:00:00\",\"2021-05-27T00:00:00\",\"2021-05-28T00:00:00\",\"2021-06-01T00:00:00\",\"2021-06-02T00:00:00\",\"2021-06-03T00:00:00\",\"2021-06-04T00:00:00\",\"2021-06-07T00:00:00\",\"2021-06-08T00:00:00\",\"2021-06-09T00:00:00\",\"2021-06-10T00:00:00\",\"2021-06-11T00:00:00\",\"2021-06-14T00:00:00\",\"2021-06-15T00:00:00\",\"2021-06-16T00:00:00\",\"2021-06-17T00:00:00\",\"2021-06-18T00:00:00\",\"2021-06-21T00:00:00\",\"2021-06-22T00:00:00\",\"2021-06-23T00:00:00\",\"2021-06-24T00:00:00\",\"2021-06-25T00:00:00\",\"2021-06-28T00:00:00\",\"2021-06-29T00:00:00\",\"2021-06-30T00:00:00\",\"2021-07-01T00:00:00\",\"2021-07-02T00:00:00\",\"2021-07-06T00:00:00\",\"2021-07-07T00:00:00\",\"2021-07-08T00:00:00\",\"2021-07-09T00:00:00\",\"2021-07-12T00:00:00\",\"2021-07-13T00:00:00\",\"2021-07-14T00:00:00\",\"2021-07-15T00:00:00\",\"2021-07-16T00:00:00\",\"2021-07-19T00:00:00\",\"2021-07-20T00:00:00\",\"2021-07-21T00:00:00\",\"2021-07-22T00:00:00\",\"2021-07-23T00:00:00\",\"2021-07-26T00:00:00\",\"2021-07-27T00:00:00\",\"2021-07-28T00:00:00\",\"2021-07-29T00:00:00\",\"2021-07-30T00:00:00\",\"2021-08-02T00:00:00\",\"2021-08-03T00:00:00\",\"2021-08-04T00:00:00\",\"2021-08-05T00:00:00\",\"2021-08-06T00:00:00\",\"2021-08-09T00:00:00\",\"2021-08-10T00:00:00\",\"2021-08-11T00:00:00\",\"2021-08-12T00:00:00\",\"2021-08-13T00:00:00\",\"2021-08-16T00:00:00\",\"2021-08-17T00:00:00\",\"2021-08-18T00:00:00\",\"2021-08-19T00:00:00\",\"2021-08-20T00:00:00\",\"2021-08-23T00:00:00\",\"2021-08-24T00:00:00\",\"2021-08-25T00:00:00\",\"2021-08-26T00:00:00\",\"2021-08-27T00:00:00\",\"2021-08-30T00:00:00\",\"2021-08-31T00:00:00\",\"2021-09-01T00:00:00\",\"2021-09-02T00:00:00\",\"2021-09-03T00:00:00\",\"2021-09-07T00:00:00\",\"2021-09-08T00:00:00\",\"2021-09-09T00:00:00\",\"2021-09-10T00:00:00\",\"2021-09-13T00:00:00\",\"2021-09-14T00:00:00\",\"2021-09-15T00:00:00\",\"2021-09-16T00:00:00\",\"2021-09-17T00:00:00\",\"2021-09-20T00:00:00\",\"2021-09-21T00:00:00\",\"2021-09-22T00:00:00\",\"2021-09-23T00:00:00\",\"2021-09-24T00:00:00\",\"2021-09-27T00:00:00\",\"2021-09-28T00:00:00\",\"2021-09-29T00:00:00\",\"2021-09-30T00:00:00\",\"2021-10-01T00:00:00\",\"2021-10-04T00:00:00\",\"2021-10-05T00:00:00\",\"2021-10-06T00:00:00\",\"2021-10-07T00:00:00\",\"2021-10-08T00:00:00\",\"2021-10-11T00:00:00\",\"2021-10-12T00:00:00\",\"2021-10-13T00:00:00\",\"2021-10-14T00:00:00\",\"2021-10-15T00:00:00\",\"2021-10-18T00:00:00\",\"2021-10-19T00:00:00\",\"2021-10-20T00:00:00\",\"2021-10-21T00:00:00\",\"2021-10-22T00:00:00\",\"2021-10-25T00:00:00\",\"2021-10-26T00:00:00\",\"2021-10-27T00:00:00\",\"2021-10-28T00:00:00\",\"2021-10-29T00:00:00\",\"2021-11-01T00:00:00\",\"2021-11-02T00:00:00\",\"2021-11-03T00:00:00\",\"2021-11-04T00:00:00\",\"2021-11-05T00:00:00\",\"2021-11-08T00:00:00\",\"2021-11-09T00:00:00\",\"2021-11-10T00:00:00\",\"2021-11-11T00:00:00\",\"2021-11-12T00:00:00\",\"2021-11-15T00:00:00\",\"2021-11-16T00:00:00\",\"2021-11-17T00:00:00\",\"2021-11-18T00:00:00\",\"2021-11-19T00:00:00\",\"2021-11-22T00:00:00\",\"2021-11-23T00:00:00\",\"2021-11-24T00:00:00\",\"2021-11-26T00:00:00\",\"2021-11-29T00:00:00\",\"2021-11-30T00:00:00\",\"2021-12-01T00:00:00\",\"2021-12-02T00:00:00\",\"2021-12-03T00:00:00\",\"2021-12-06T00:00:00\",\"2021-12-07T00:00:00\",\"2021-12-08T00:00:00\",\"2021-12-09T00:00:00\",\"2021-12-10T00:00:00\",\"2021-12-13T00:00:00\",\"2021-12-14T00:00:00\",\"2021-12-15T00:00:00\",\"2021-12-16T00:00:00\",\"2021-12-17T00:00:00\",\"2021-12-20T00:00:00\",\"2021-12-21T00:00:00\"],\"y\":[416200,335800,532000,651100,1319800,1374000,1282700,884500,831000,459600,373400,270800,363200,371400,492100,334000,308100,286000,579600,381100,379600,236600,338200,200400,316600,397700,444000,264800,501700,400300,390200,331500,492100,629900,1103200,592200,525300,865900,727100,684900,510600,367200,425900,343800,422100,315900,916900,936900,705900,444400,534700,2661300,640700,659800,615600,719900,488800,363200,441900,1657500,309300,352700,322000,416000,451900,289500,314200,296800,748400,7572900,1931700,1166400,820700,1118200,667300,985300,646100,635000,488600,545400,571400,695600,530300,5070900,2928600,1413300,896300,853400,635000,650800,841800,721900,626200,668100,665700,1062900,543700,1189300,971900,601400,610500,688700,625200,559500,458000,368300,527400,440700,563300,664000,603600,570700,573000,705000,324200,182600,445000,724500,604200,512500,1161100,624900,750500,739000,1206100,945600,489800,537800,1236200,809000,3431300,1656400,1344500,767000,1057500,683100,1596500,1001900,1055800,677800,903000,689000,593300,668800,951200,653600,584800,765500,674200,707800,653400,576500,485700,707500,1692300,805800,1071500,960800,1212000,617300,1862800,3025100,2159700,1635200,1285900,790600,795600,656500,517600,686000,608600,772600,668900,718400,902500,1028700,514600,855700,540200,443600,517600,439900,448000,950100,622500,562700,492100,526100,521200,435500,434900,585700,725300,741600,542000,710200,518900,616700,499200,906600,1836500,1508700,1016300,921600,522500,442100,920500,1203200,1414300,1622800,903000,1212800,706700,744400,652700,642300,844600,622600,580100,878000,831800,499700,1234100,1263700,939700,626400,544600,885900,1116100,1517000,1451600,728300,494600,463900,794200,1017900,520700,678200,398900,395000,1458500,584900,619400,623300,405300,531600,545400,871500,677300,625300,510100,555200,428900,601000,545400,571500,324500,543600,1233000,1257700,1292400,4098500,1837900,1394500,987200,1160200,733100,907200,710700,811600,520900,583200,488600,511200,553200,512900,529200,816800,1220900,548800,458300,698700,862300,474100,1009200,780900,887300,597500,617800,468000,404400,803800,491000,298300,633300,591600,554400,962900,1844000,1023700,729600,981700,729900,500500,1126400,2493800,783000,1139800,754000,844000,903300,1260100,559400,559400,499600,1053000,1158900,575800,1067700,1008500,697500,545700,874000,872700,987500,4091000,754900,539700,626600,882600,1208800,873600,480600,698500,820600,458300,511400,495700,977000,355700,517000,686300,739400,1239500,964800,872500,555000,2322300,1116200,766500,856800,713600,539400,615300,776900,796000,759600,427500,1068400,585700,588400,936300,1127300,500900,665531],\"type\":\"bar\",\"xaxis\":\"x2\",\"yaxis\":\"y2\"},{\"line\":{\"color\":\"black\",\"width\":2},\"name\":\"RSI(14)\",\"x\":[\"2020-07-14T00:00:00\",\"2020-07-15T00:00:00\",\"2020-07-16T00:00:00\",\"2020-07-17T00:00:00\",\"2020-07-20T00:00:00\",\"2020-07-21T00:00:00\",\"2020-07-22T00:00:00\",\"2020-07-23T00:00:00\",\"2020-07-24T00:00:00\",\"2020-07-27T00:00:00\",\"2020-07-28T00:00:00\",\"2020-07-29T00:00:00\",\"2020-07-30T00:00:00\",\"2020-07-31T00:00:00\",\"2020-08-03T00:00:00\",\"2020-08-04T00:00:00\",\"2020-08-05T00:00:00\",\"2020-08-06T00:00:00\",\"2020-08-07T00:00:00\",\"2020-08-10T00:00:00\",\"2020-08-11T00:00:00\",\"2020-08-12T00:00:00\",\"2020-08-13T00:00:00\",\"2020-08-14T00:00:00\",\"2020-08-17T00:00:00\",\"2020-08-18T00:00:00\",\"2020-08-19T00:00:00\",\"2020-08-20T00:00:00\",\"2020-08-21T00:00:00\",\"2020-08-24T00:00:00\",\"2020-08-25T00:00:00\",\"2020-08-26T00:00:00\",\"2020-08-27T00:00:00\",\"2020-08-28T00:00:00\",\"2020-08-31T00:00:00\",\"2020-09-01T00:00:00\",\"2020-09-02T00:00:00\",\"2020-09-03T00:00:00\",\"2020-09-04T00:00:00\",\"2020-09-08T00:00:00\",\"2020-09-09T00:00:00\",\"2020-09-10T00:00:00\",\"2020-09-11T00:00:00\",\"2020-09-14T00:00:00\",\"2020-09-15T00:00:00\",\"2020-09-16T00:00:00\",\"2020-09-17T00:00:00\",\"2020-09-18T00:00:00\",\"2020-09-21T00:00:00\",\"2020-09-22T00:00:00\",\"2020-09-23T00:00:00\",\"2020-09-24T00:00:00\",\"2020-09-25T00:00:00\",\"2020-09-28T00:00:00\",\"2020-09-29T00:00:00\",\"2020-09-30T00:00:00\",\"2020-10-01T00:00:00\",\"2020-10-02T00:00:00\",\"2020-10-05T00:00:00\",\"2020-10-06T00:00:00\",\"2020-10-07T00:00:00\",\"2020-10-08T00:00:00\",\"2020-10-09T00:00:00\",\"2020-10-12T00:00:00\",\"2020-10-13T00:00:00\",\"2020-10-14T00:00:00\",\"2020-10-15T00:00:00\",\"2020-10-16T00:00:00\",\"2020-10-19T00:00:00\",\"2020-10-20T00:00:00\",\"2020-10-21T00:00:00\",\"2020-10-22T00:00:00\",\"2020-10-23T00:00:00\",\"2020-10-26T00:00:00\",\"2020-10-27T00:00:00\",\"2020-10-28T00:00:00\",\"2020-10-29T00:00:00\",\"2020-10-30T00:00:00\",\"2020-11-02T00:00:00\",\"2020-11-03T00:00:00\",\"2020-11-04T00:00:00\",\"2020-11-05T00:00:00\",\"2020-11-06T00:00:00\",\"2020-11-09T00:00:00\",\"2020-11-10T00:00:00\",\"2020-11-11T00:00:00\",\"2020-11-12T00:00:00\",\"2020-11-13T00:00:00\",\"2020-11-16T00:00:00\",\"2020-11-17T00:00:00\",\"2020-11-18T00:00:00\",\"2020-11-19T00:00:00\",\"2020-11-20T00:00:00\",\"2020-11-23T00:00:00\",\"2020-11-24T00:00:00\",\"2020-11-25T00:00:00\",\"2020-11-27T00:00:00\",\"2020-11-30T00:00:00\",\"2020-12-01T00:00:00\",\"2020-12-02T00:00:00\",\"2020-12-03T00:00:00\",\"2020-12-04T00:00:00\",\"2020-12-07T00:00:00\",\"2020-12-08T00:00:00\",\"2020-12-09T00:00:00\",\"2020-12-10T00:00:00\",\"2020-12-11T00:00:00\",\"2020-12-14T00:00:00\",\"2020-12-15T00:00:00\",\"2020-12-16T00:00:00\",\"2020-12-17T00:00:00\",\"2020-12-18T00:00:00\",\"2020-12-21T00:00:00\",\"2020-12-22T00:00:00\",\"2020-12-23T00:00:00\",\"2020-12-24T00:00:00\",\"2020-12-28T00:00:00\",\"2020-12-29T00:00:00\",\"2020-12-30T00:00:00\",\"2020-12-31T00:00:00\",\"2021-01-04T00:00:00\",\"2021-01-05T00:00:00\",\"2021-01-06T00:00:00\",\"2021-01-07T00:00:00\",\"2021-01-08T00:00:00\",\"2021-01-11T00:00:00\",\"2021-01-12T00:00:00\",\"2021-01-13T00:00:00\",\"2021-01-14T00:00:00\",\"2021-01-15T00:00:00\",\"2021-01-19T00:00:00\",\"2021-01-20T00:00:00\",\"2021-01-21T00:00:00\",\"2021-01-22T00:00:00\",\"2021-01-25T00:00:00\",\"2021-01-26T00:00:00\",\"2021-01-27T00:00:00\",\"2021-01-28T00:00:00\",\"2021-01-29T00:00:00\",\"2021-02-01T00:00:00\",\"2021-02-02T00:00:00\",\"2021-02-03T00:00:00\",\"2021-02-04T00:00:00\",\"2021-02-05T00:00:00\",\"2021-02-08T00:00:00\",\"2021-02-09T00:00:00\",\"2021-02-10T00:00:00\",\"2021-02-11T00:00:00\",\"2021-02-12T00:00:00\",\"2021-02-16T00:00:00\",\"2021-02-17T00:00:00\",\"2021-02-18T00:00:00\",\"2021-02-19T00:00:00\",\"2021-02-22T00:00:00\",\"2021-02-23T00:00:00\",\"2021-02-24T00:00:00\",\"2021-02-25T00:00:00\",\"2021-02-26T00:00:00\",\"2021-03-01T00:00:00\",\"2021-03-02T00:00:00\",\"2021-03-03T00:00:00\",\"2021-03-04T00:00:00\",\"2021-03-05T00:00:00\",\"2021-03-08T00:00:00\",\"2021-03-09T00:00:00\",\"2021-03-10T00:00:00\",\"2021-03-11T00:00:00\",\"2021-03-12T00:00:00\",\"2021-03-15T00:00:00\",\"2021-03-16T00:00:00\",\"2021-03-17T00:00:00\",\"2021-03-18T00:00:00\",\"2021-03-19T00:00:00\",\"2021-03-22T00:00:00\",\"2021-03-23T00:00:00\",\"2021-03-24T00:00:00\",\"2021-03-25T00:00:00\",\"2021-03-26T00:00:00\",\"2021-03-29T00:00:00\",\"2021-03-30T00:00:00\",\"2021-03-31T00:00:00\",\"2021-04-01T00:00:00\",\"2021-04-05T00:00:00\",\"2021-04-06T00:00:00\",\"2021-04-07T00:00:00\",\"2021-04-08T00:00:00\",\"2021-04-09T00:00:00\",\"2021-04-12T00:00:00\",\"2021-04-13T00:00:00\",\"2021-04-14T00:00:00\",\"2021-04-15T00:00:00\",\"2021-04-16T00:00:00\",\"2021-04-19T00:00:00\",\"2021-04-20T00:00:00\",\"2021-04-21T00:00:00\",\"2021-04-22T00:00:00\",\"2021-04-23T00:00:00\",\"2021-04-26T00:00:00\",\"2021-04-27T00:00:00\",\"2021-04-28T00:00:00\",\"2021-04-29T00:00:00\",\"2021-04-30T00:00:00\",\"2021-05-03T00:00:00\",\"2021-05-04T00:00:00\",\"2021-05-05T00:00:00\",\"2021-05-06T00:00:00\",\"2021-05-07T00:00:00\",\"2021-05-10T00:00:00\",\"2021-05-11T00:00:00\",\"2021-05-12T00:00:00\",\"2021-05-13T00:00:00\",\"2021-05-14T00:00:00\",\"2021-05-17T00:00:00\",\"2021-05-18T00:00:00\",\"2021-05-19T00:00:00\",\"2021-05-20T00:00:00\",\"2021-05-21T00:00:00\",\"2021-05-24T00:00:00\",\"2021-05-25T00:00:00\",\"2021-05-26T00:00:00\",\"2021-05-27T00:00:00\",\"2021-05-28T00:00:00\",\"2021-06-01T00:00:00\",\"2021-06-02T00:00:00\",\"2021-06-03T00:00:00\",\"2021-06-04T00:00:00\",\"2021-06-07T00:00:00\",\"2021-06-08T00:00:00\",\"2021-06-09T00:00:00\",\"2021-06-10T00:00:00\",\"2021-06-11T00:00:00\",\"2021-06-14T00:00:00\",\"2021-06-15T00:00:00\",\"2021-06-16T00:00:00\",\"2021-06-17T00:00:00\",\"2021-06-18T00:00:00\",\"2021-06-21T00:00:00\",\"2021-06-22T00:00:00\",\"2021-06-23T00:00:00\",\"2021-06-24T00:00:00\",\"2021-06-25T00:00:00\",\"2021-06-28T00:00:00\",\"2021-06-29T00:00:00\",\"2021-06-30T00:00:00\",\"2021-07-01T00:00:00\",\"2021-07-02T00:00:00\",\"2021-07-06T00:00:00\",\"2021-07-07T00:00:00\",\"2021-07-08T00:00:00\",\"2021-07-09T00:00:00\",\"2021-07-12T00:00:00\",\"2021-07-13T00:00:00\",\"2021-07-14T00:00:00\",\"2021-07-15T00:00:00\",\"2021-07-16T00:00:00\",\"2021-07-19T00:00:00\",\"2021-07-20T00:00:00\",\"2021-07-21T00:00:00\",\"2021-07-22T00:00:00\",\"2021-07-23T00:00:00\",\"2021-07-26T00:00:00\",\"2021-07-27T00:00:00\",\"2021-07-28T00:00:00\",\"2021-07-29T00:00:00\",\"2021-07-30T00:00:00\",\"2021-08-02T00:00:00\",\"2021-08-03T00:00:00\",\"2021-08-04T00:00:00\",\"2021-08-05T00:00:00\",\"2021-08-06T00:00:00\",\"2021-08-09T00:00:00\",\"2021-08-10T00:00:00\",\"2021-08-11T00:00:00\",\"2021-08-12T00:00:00\",\"2021-08-13T00:00:00\",\"2021-08-16T00:00:00\",\"2021-08-17T00:00:00\",\"2021-08-18T00:00:00\",\"2021-08-19T00:00:00\",\"2021-08-20T00:00:00\",\"2021-08-23T00:00:00\",\"2021-08-24T00:00:00\",\"2021-08-25T00:00:00\",\"2021-08-26T00:00:00\",\"2021-08-27T00:00:00\",\"2021-08-30T00:00:00\",\"2021-08-31T00:00:00\",\"2021-09-01T00:00:00\",\"2021-09-02T00:00:00\",\"2021-09-03T00:00:00\",\"2021-09-07T00:00:00\",\"2021-09-08T00:00:00\",\"2021-09-09T00:00:00\",\"2021-09-10T00:00:00\",\"2021-09-13T00:00:00\",\"2021-09-14T00:00:00\",\"2021-09-15T00:00:00\",\"2021-09-16T00:00:00\",\"2021-09-17T00:00:00\",\"2021-09-20T00:00:00\",\"2021-09-21T00:00:00\",\"2021-09-22T00:00:00\",\"2021-09-23T00:00:00\",\"2021-09-24T00:00:00\",\"2021-09-27T00:00:00\",\"2021-09-28T00:00:00\",\"2021-09-29T00:00:00\",\"2021-09-30T00:00:00\",\"2021-10-01T00:00:00\",\"2021-10-04T00:00:00\",\"2021-10-05T00:00:00\",\"2021-10-06T00:00:00\",\"2021-10-07T00:00:00\",\"2021-10-08T00:00:00\",\"2021-10-11T00:00:00\",\"2021-10-12T00:00:00\",\"2021-10-13T00:00:00\",\"2021-10-14T00:00:00\",\"2021-10-15T00:00:00\",\"2021-10-18T00:00:00\",\"2021-10-19T00:00:00\",\"2021-10-20T00:00:00\",\"2021-10-21T00:00:00\",\"2021-10-22T00:00:00\",\"2021-10-25T00:00:00\",\"2021-10-26T00:00:00\",\"2021-10-27T00:00:00\",\"2021-10-28T00:00:00\",\"2021-10-29T00:00:00\",\"2021-11-01T00:00:00\",\"2021-11-02T00:00:00\",\"2021-11-03T00:00:00\",\"2021-11-04T00:00:00\",\"2021-11-05T00:00:00\",\"2021-11-08T00:00:00\",\"2021-11-09T00:00:00\",\"2021-11-10T00:00:00\",\"2021-11-11T00:00:00\",\"2021-11-12T00:00:00\",\"2021-11-15T00:00:00\",\"2021-11-16T00:00:00\",\"2021-11-17T00:00:00\",\"2021-11-18T00:00:00\",\"2021-11-19T00:00:00\",\"2021-11-22T00:00:00\",\"2021-11-23T00:00:00\",\"2021-11-24T00:00:00\",\"2021-11-26T00:00:00\",\"2021-11-29T00:00:00\",\"2021-11-30T00:00:00\",\"2021-12-01T00:00:00\",\"2021-12-02T00:00:00\",\"2021-12-03T00:00:00\",\"2021-12-06T00:00:00\",\"2021-12-07T00:00:00\",\"2021-12-08T00:00:00\",\"2021-12-09T00:00:00\",\"2021-12-10T00:00:00\",\"2021-12-13T00:00:00\",\"2021-12-14T00:00:00\",\"2021-12-15T00:00:00\",\"2021-12-16T00:00:00\",\"2021-12-17T00:00:00\",\"2021-12-20T00:00:00\",\"2021-12-21T00:00:00\"],\"y\":[null,null,null,null,null,null,null,null,null,null,null,null,null,67.46591487594256,69.49480905703241,63.668835006654675,66.2672769971116,67.66003801759186,60.65793755512696,56.20357203025043,55.20312269172871,61.537355850575985,63.9482240262923,60.08767157327271,65.26209282935389,60.50183663016925,60.13137775718615,63.251348540809815,59.871211734618306,56.657791804209694,55.432706941264804,58.8593847875973,50.076140828609944,47.9633194690933,56.917362722995925,60.09112341322652,59.0308137127477,41.88516280991825,41.11406171590273,34.056829273281465,42.77422664555116,39.8425461464942,41.74325021695791,46.78906965987926,48.34776945378682,45.74992407377585,47.08000461927341,50.130990713396805,57.344119121650365,57.44306963358068,56.31764488709645,56.99809843924906,56.68113559562041,61.92550038266806,66.97933450183274,67.34670075541365,69.9124625472867,66.47244257648356,72.38500724048703,55.097075506070176,56.16964872611614,57.809148548890114,63.10519708835305,66.14424437150592,64.2116738200078,62.48697700120401,61.177441854215864,61.29549519897768,61.795873997126,79.65523057929741,78.24944648958797,69.19034503104166,66.33568684129213,60.80597507387509,62.658130073201704,59.03316277389103,57.751619630937505,56.70636092156771,57.57365583048332,63.22029974138084,65.67987138974163,71.14067324380562,71.44496681843896,39.28853539753,42.69505404897926,49.245198121442755,47.99355036590924,49.79380903694446,49.456026576979795,46.63147260379683,46.84504410425144,51.25653894004392,51.1393427335841,47.35777690751434,49.3137367917306,54.877957384632595,56.4131878022561,61.13640906534619,57.00588645779555,53.73522524030477,54.04527149891261,55.15256958547593,56.989799330042246,59.12991710323453,55.58827134791112,58.178686786446875,58.52010805514858,57.45665646425779,59.459937339528864,61.490098477078575,65.4953593737922,67.34058022124033,67.68342030060097,67.53800140141537,63.11972267572615,60.143190704388616,62.99524431874415,67.03254479640813,68.81961424755546,68.38052599482127,70.72155082482732,72.72626209618602,69.80372350520693,76.36754493187101,78.22838673525222,67.6661538669974,67.56418948679254,70.42797925937035,70.56867174665052,60.568546572645985,51.885788868820185,57.40680089009577,64.78914542030009,62.89724582038107,63.602818888039245,58.17538832704442,65.0397100720215,65.31959822761667,59.52068857175446,61.21084000438818,66.86652864669973,65.01281937455096,65.80367115771111,68.77502140894028,71.24084681066071,73.84870006148364,72.8326525162394,75.89554304911925,75.76550844246465,74.79951016521225,64.65388314437934,65.71800299707172,66.70231206679568,57.0560413148809,51.30494342624751,50.38588903996668,41.841583733282405,46.789821765127094,45.72811680482446,45.89340399219818,34.81759172947798,28.0009654555908,29.838445973187987,26.161408797395296,38.063603466950205,36.744289800492076,44.7989242352331,42.86049075354333,45.77595836629796,47.46003921424264,46.51181190948305,45.263989740507654,47.46663792947299,52.65626816080588,54.597960253387456,48.365909953463884,48.38387216330159,51.56166729608524,49.55285319249722,50.158718376846984,52.66667874173823,58.78641404249145,61.03155896031455,56.32721490900607,53.020890806524356,58.369551965160106,58.4509392889034,56.3855352782258,58.81731943279502,59.39524912733093,61.76101190072026,65.60003365828828,66.54693311739958,62.99574932183689,64.87512301847927,65.36622969156168,69.8140472450421,63.35440134511793,62.03848914409658,55.10181282547685,47.965730020653965,51.871940346103266,50.48792785367351,52.74334466735313,56.12563026434183,53.603711168071555,59.247089371923664,45.55887538198414,41.10047247222351,33.35202660470573,33.8053019489211,44.632477015708425,45.51317395484381,47.88175251416278,51.481057403790174,57.21218383481523,52.96278583661805,57.350952239064995,60.67203759859576,64.7916440434756,67.29965359938012,68.41034162173975,72.50620941163027,75.34899307597487,72.72270058004872,74.4265772883001,75.3002497454347,77.68947192342753,79.09871910444768,66.02859538228655,58.68157782359263,59.523639227191154,58.78392499050154,57.90094881528561,54.41581760835418,50.45415880856553,54.35288846306356,53.924477638085904,52.26095649915135,53.023935946966965,44.509862440484525,46.49648746248445,49.27189585967122,45.25101813809345,44.23405098484216,50.4093901748747,51.63878561766418,56.21184139758114,55.63673972128506,54.787180921853356,51.911717726957235,46.436813019699976,44.36103243085158,41.44113561657181,38.69806071895858,38.91441009747297,39.03029686828362,47.47948025296883,45.579176954010194,45.49006059036572,47.18609083254736,28.04964171939349,27.660573633278347,28.19685958081911,30.41896808803712,29.331449324202637,31.00293596856646,30.98883897541495,36.03144504843406,31.504403835131697,35.70615052418505,34.13402191927709,35.402531166595594,37.21294557508499,34.989672955966284,38.67245255570851,37.727151659515165,32.565059019597854,28.7156288941013,36.10688484513068,42.75072142345396,40.21519783879778,37.71629412396508,37.42799241533041,37.31281211883907,41.240102510355904,34.44177415361361,37.8100587156358,33.98013947590741,38.945037631312225,40.127662670861774,35.647354555351356,35.99861489431483,36.7422771415281,32.87196207366863,32.67499861642143,30.984565278123952,30.473403266896668,26.9809490668178,29.55899082876445,29.35402539522515,40.331338487483265,47.06478156672849,45.121586131657025,39.0144351642543,28.4938804635495,27.126504055325,25.951497056474253,27.186623611226423,25.687013857087564,25.87519656636414,25.996273203594484,27.484519384981255,27.841731147104767,26.439190571036846,28.71129882213245,35.30472376519579,38.41440462746518,34.15219424774615,44.41645357513142,42.60225385280588,42.60225385280588,43.87382811161437,42.04980895498033,41.18921545602726,29.40691358241355,27.57137429293492,32.055576132576874,29.725005722405015,29.273817747696157,25.10449424742177,27.128681266107378,27.768526895788796,25.183117942924312,25.72209860245789,25.826707305561158,24.331866590769536,25.53522537271499,37.46861993505621,34.53913615052963,33.74843411105546,33.43927323943245,35.86464794384382,43.140484259514594,41.32302187665108,38.90423319383326,39.776343534156666,56.69378547413982,46.31513199405234,41.53048479198488,40.21461638965308,40.72941389107454,36.54205777750846,40.60905050979771,49.80448584652978,52.48267102390288,51.135970139203074,48.982580494002335,50.707082397037425,49.76770707380504,54.471512818068554,53.06900474047828,55.287595954581185,49.90714077379632,56.92890557363177],\"type\":\"scatter\",\"xaxis\":\"x3\",\"yaxis\":\"y3\"},{\"marker\":{\"color\":[\"#FF5733\",\"#FF5733\",\"#FF5733\",\"#FF5733\",\"#FF5733\",\"#FF5733\",\"#FF5733\",\"#FF5733\",\"#FF5733\",\"#FF5733\",\"#FF5733\",\"#FF5733\",\"#FF5733\",\"#FF5733\",\"#FF5733\",\"#FF5733\",\"#FF5733\",\"#FF5733\",\"#FF5733\",\"#FF5733\",\"#FF5733\",\"#FF5733\",\"#FF5733\",\"#FF5733\",\"#FF5733\",\"#FF5733\",\"#FF5733\",\"#FF5733\",\"#FF5733\",\"#FF5733\",\"#FF5733\",\"#FF5733\",\"#FF5733\",\"#FF5733\",\"#FF5733\",\"#FF5733\",\"#FF5733\",\"#FF5733\",\"#FF5733\",\"#FF5733\",\"#FF5733\",\"#FF5733\",\"#FF5733\",\"#FF5733\",\"#FF5733\",\"#FF5733\",\"#FF5733\",\"#FF5733\",\"green\",\"green\",\"green\",\"green\",\"green\",\"green\",\"green\",\"green\",\"green\",\"green\",\"green\",\"green\",\"green\",\"green\",\"green\",\"green\",\"green\",\"green\",\"green\",\"green\",\"green\",\"green\",\"green\",\"green\",\"green\",\"green\",\"green\",\"green\",\"#FF5733\",\"#FF5733\",\"#FF5733\",\"#FF5733\",\"#FF5733\",\"green\",\"green\",\"#FF5733\",\"#FF5733\",\"#FF5733\",\"#FF5733\",\"#FF5733\",\"#FF5733\",\"#FF5733\",\"#FF5733\",\"#FF5733\",\"#FF5733\",\"#FF5733\",\"#FF5733\",\"#FF5733\",\"green\",\"green\",\"green\",\"green\",\"green\",\"green\",\"green\",\"green\",\"green\",\"green\",\"green\",\"green\",\"green\",\"green\",\"green\",\"green\",\"green\",\"green\",\"green\",\"green\",\"green\",\"green\",\"green\",\"green\",\"green\",\"green\",\"green\",\"green\",\"green\",\"green\",\"green\",\"green\",\"green\",\"green\",\"#FF5733\",\"#FF5733\",\"#FF5733\",\"#FF5733\",\"#FF5733\",\"#FF5733\",\"#FF5733\",\"green\",\"#FF5733\",\"#FF5733\",\"green\",\"green\",\"green\",\"green\",\"green\",\"green\",\"green\",\"green\",\"green\",\"green\",\"green\",\"green\",\"#FF5733\",\"#FF5733\",\"#FF5733\",\"#FF5733\",\"#FF5733\",\"#FF5733\",\"#FF5733\",\"#FF5733\",\"#FF5733\",\"#FF5733\",\"#FF5733\",\"#FF5733\",\"#FF5733\",\"#FF5733\",\"#FF5733\",\"#FF5733\",\"#FF5733\",\"#FF5733\",\"#FF5733\",\"green\",\"green\",\"green\",\"green\",\"green\",\"green\",\"green\",\"green\",\"green\",\"green\",\"green\",\"green\",\"green\",\"green\",\"green\",\"green\",\"green\",\"green\",\"green\",\"green\",\"green\",\"green\",\"green\",\"green\",\"green\",\"green\",\"green\",\"green\",\"green\",\"#FF5733\",\"#FF5733\",\"#FF5733\",\"#FF5733\",\"#FF5733\",\"#FF5733\",\"#FF5733\",\"#FF5733\",\"#FF5733\",\"#FF5733\",\"#FF5733\",\"#FF5733\",\"#FF5733\",\"#FF5733\",\"#FF5733\",\"green\",\"green\",\"green\",\"green\",\"green\",\"green\",\"green\",\"green\",\"green\",\"green\",\"green\",\"green\",\"green\",\"green\",\"green\",\"green\",\"green\",\"#FF5733\",\"#FF5733\",\"#FF5733\",\"#FF5733\",\"#FF5733\",\"#FF5733\",\"#FF5733\",\"#FF5733\",\"#FF5733\",\"#FF5733\",\"#FF5733\",\"#FF5733\",\"#FF5733\",\"#FF5733\",\"#FF5733\",\"#FF5733\",\"#FF5733\",\"#FF5733\",\"#FF5733\",\"#FF5733\",\"#FF5733\",\"#FF5733\",\"#FF5733\",\"#FF5733\",\"#FF5733\",\"#FF5733\",\"#FF5733\",\"#FF5733\",\"#FF5733\",\"#FF5733\",\"#FF5733\",\"#FF5733\",\"#FF5733\",\"#FF5733\",\"#FF5733\",\"#FF5733\",\"#FF5733\",\"#FF5733\",\"#FF5733\",\"#FF5733\",\"#FF5733\",\"#FF5733\",\"green\",\"green\",\"green\",\"green\",\"#FF5733\",\"green\",\"green\",\"green\",\"green\",\"green\",\"green\",\"green\",\"green\",\"green\",\"green\",\"green\",\"green\",\"green\",\"green\",\"green\",\"#FF5733\",\"#FF5733\",\"#FF5733\",\"#FF5733\",\"#FF5733\",\"#FF5733\",\"#FF5733\",\"green\",\"green\",\"green\",\"green\",\"#FF5733\",\"#FF5733\",\"#FF5733\",\"#FF5733\",\"#FF5733\",\"#FF5733\",\"#FF5733\",\"#FF5733\",\"#FF5733\",\"#FF5733\",\"#FF5733\",\"green\",\"green\",\"green\",\"green\",\"green\",\"green\",\"green\",\"green\",\"green\",\"green\",\"green\",\"#FF5733\",\"#FF5733\",\"#FF5733\",\"#FF5733\",\"#FF5733\",\"#FF5733\",\"#FF5733\",\"#FF5733\",\"#FF5733\",\"#FF5733\",\"#FF5733\",\"green\",\"green\",\"green\",\"green\",\"green\",\"green\",\"green\",\"green\",\"green\",\"green\",\"green\",\"green\",\"green\",\"green\",\"green\",\"green\",\"green\",\"green\",\"green\",\"green\",\"green\",\"green\",\"green\",\"green\",\"green\",\"green\",\"green\"]},\"name\":\"MACD diff\",\"x\":[\"2020-07-14T00:00:00\",\"2020-07-15T00:00:00\",\"2020-07-16T00:00:00\",\"2020-07-17T00:00:00\",\"2020-07-20T00:00:00\",\"2020-07-21T00:00:00\",\"2020-07-22T00:00:00\",\"2020-07-23T00:00:00\",\"2020-07-24T00:00:00\",\"2020-07-27T00:00:00\",\"2020-07-28T00:00:00\",\"2020-07-29T00:00:00\",\"2020-07-30T00:00:00\",\"2020-07-31T00:00:00\",\"2020-08-03T00:00:00\",\"2020-08-04T00:00:00\",\"2020-08-05T00:00:00\",\"2020-08-06T00:00:00\",\"2020-08-07T00:00:00\",\"2020-08-10T00:00:00\",\"2020-08-11T00:00:00\",\"2020-08-12T00:00:00\",\"2020-08-13T00:00:00\",\"2020-08-14T00:00:00\",\"2020-08-17T00:00:00\",\"2020-08-18T00:00:00\",\"2020-08-19T00:00:00\",\"2020-08-20T00:00:00\",\"2020-08-21T00:00:00\",\"2020-08-24T00:00:00\",\"2020-08-25T00:00:00\",\"2020-08-26T00:00:00\",\"2020-08-27T00:00:00\",\"2020-08-28T00:00:00\",\"2020-08-31T00:00:00\",\"2020-09-01T00:00:00\",\"2020-09-02T00:00:00\",\"2020-09-03T00:00:00\",\"2020-09-04T00:00:00\",\"2020-09-08T00:00:00\",\"2020-09-09T00:00:00\",\"2020-09-10T00:00:00\",\"2020-09-11T00:00:00\",\"2020-09-14T00:00:00\",\"2020-09-15T00:00:00\",\"2020-09-16T00:00:00\",\"2020-09-17T00:00:00\",\"2020-09-18T00:00:00\",\"2020-09-21T00:00:00\",\"2020-09-22T00:00:00\",\"2020-09-23T00:00:00\",\"2020-09-24T00:00:00\",\"2020-09-25T00:00:00\",\"2020-09-28T00:00:00\",\"2020-09-29T00:00:00\",\"2020-09-30T00:00:00\",\"2020-10-01T00:00:00\",\"2020-10-02T00:00:00\",\"2020-10-05T00:00:00\",\"2020-10-06T00:00:00\",\"2020-10-07T00:00:00\",\"2020-10-08T00:00:00\",\"2020-10-09T00:00:00\",\"2020-10-12T00:00:00\",\"2020-10-13T00:00:00\",\"2020-10-14T00:00:00\",\"2020-10-15T00:00:00\",\"2020-10-16T00:00:00\",\"2020-10-19T00:00:00\",\"2020-10-20T00:00:00\",\"2020-10-21T00:00:00\",\"2020-10-22T00:00:00\",\"2020-10-23T00:00:00\",\"2020-10-26T00:00:00\",\"2020-10-27T00:00:00\",\"2020-10-28T00:00:00\",\"2020-10-29T00:00:00\",\"2020-10-30T00:00:00\",\"2020-11-02T00:00:00\",\"2020-11-03T00:00:00\",\"2020-11-04T00:00:00\",\"2020-11-05T00:00:00\",\"2020-11-06T00:00:00\",\"2020-11-09T00:00:00\",\"2020-11-10T00:00:00\",\"2020-11-11T00:00:00\",\"2020-11-12T00:00:00\",\"2020-11-13T00:00:00\",\"2020-11-16T00:00:00\",\"2020-11-17T00:00:00\",\"2020-11-18T00:00:00\",\"2020-11-19T00:00:00\",\"2020-11-20T00:00:00\",\"2020-11-23T00:00:00\",\"2020-11-24T00:00:00\",\"2020-11-25T00:00:00\",\"2020-11-27T00:00:00\",\"2020-11-30T00:00:00\",\"2020-12-01T00:00:00\",\"2020-12-02T00:00:00\",\"2020-12-03T00:00:00\",\"2020-12-04T00:00:00\",\"2020-12-07T00:00:00\",\"2020-12-08T00:00:00\",\"2020-12-09T00:00:00\",\"2020-12-10T00:00:00\",\"2020-12-11T00:00:00\",\"2020-12-14T00:00:00\",\"2020-12-15T00:00:00\",\"2020-12-16T00:00:00\",\"2020-12-17T00:00:00\",\"2020-12-18T00:00:00\",\"2020-12-21T00:00:00\",\"2020-12-22T00:00:00\",\"2020-12-23T00:00:00\",\"2020-12-24T00:00:00\",\"2020-12-28T00:00:00\",\"2020-12-29T00:00:00\",\"2020-12-30T00:00:00\",\"2020-12-31T00:00:00\",\"2021-01-04T00:00:00\",\"2021-01-05T00:00:00\",\"2021-01-06T00:00:00\",\"2021-01-07T00:00:00\",\"2021-01-08T00:00:00\",\"2021-01-11T00:00:00\",\"2021-01-12T00:00:00\",\"2021-01-13T00:00:00\",\"2021-01-14T00:00:00\",\"2021-01-15T00:00:00\",\"2021-01-19T00:00:00\",\"2021-01-20T00:00:00\",\"2021-01-21T00:00:00\",\"2021-01-22T00:00:00\",\"2021-01-25T00:00:00\",\"2021-01-26T00:00:00\",\"2021-01-27T00:00:00\",\"2021-01-28T00:00:00\",\"2021-01-29T00:00:00\",\"2021-02-01T00:00:00\",\"2021-02-02T00:00:00\",\"2021-02-03T00:00:00\",\"2021-02-04T00:00:00\",\"2021-02-05T00:00:00\",\"2021-02-08T00:00:00\",\"2021-02-09T00:00:00\",\"2021-02-10T00:00:00\",\"2021-02-11T00:00:00\",\"2021-02-12T00:00:00\",\"2021-02-16T00:00:00\",\"2021-02-17T00:00:00\",\"2021-02-18T00:00:00\",\"2021-02-19T00:00:00\",\"2021-02-22T00:00:00\",\"2021-02-23T00:00:00\",\"2021-02-24T00:00:00\",\"2021-02-25T00:00:00\",\"2021-02-26T00:00:00\",\"2021-03-01T00:00:00\",\"2021-03-02T00:00:00\",\"2021-03-03T00:00:00\",\"2021-03-04T00:00:00\",\"2021-03-05T00:00:00\",\"2021-03-08T00:00:00\",\"2021-03-09T00:00:00\",\"2021-03-10T00:00:00\",\"2021-03-11T00:00:00\",\"2021-03-12T00:00:00\",\"2021-03-15T00:00:00\",\"2021-03-16T00:00:00\",\"2021-03-17T00:00:00\",\"2021-03-18T00:00:00\",\"2021-03-19T00:00:00\",\"2021-03-22T00:00:00\",\"2021-03-23T00:00:00\",\"2021-03-24T00:00:00\",\"2021-03-25T00:00:00\",\"2021-03-26T00:00:00\",\"2021-03-29T00:00:00\",\"2021-03-30T00:00:00\",\"2021-03-31T00:00:00\",\"2021-04-01T00:00:00\",\"2021-04-05T00:00:00\",\"2021-04-06T00:00:00\",\"2021-04-07T00:00:00\",\"2021-04-08T00:00:00\",\"2021-04-09T00:00:00\",\"2021-04-12T00:00:00\",\"2021-04-13T00:00:00\",\"2021-04-14T00:00:00\",\"2021-04-15T00:00:00\",\"2021-04-16T00:00:00\",\"2021-04-19T00:00:00\",\"2021-04-20T00:00:00\",\"2021-04-21T00:00:00\",\"2021-04-22T00:00:00\",\"2021-04-23T00:00:00\",\"2021-04-26T00:00:00\",\"2021-04-27T00:00:00\",\"2021-04-28T00:00:00\",\"2021-04-29T00:00:00\",\"2021-04-30T00:00:00\",\"2021-05-03T00:00:00\",\"2021-05-04T00:00:00\",\"2021-05-05T00:00:00\",\"2021-05-06T00:00:00\",\"2021-05-07T00:00:00\",\"2021-05-10T00:00:00\",\"2021-05-11T00:00:00\",\"2021-05-12T00:00:00\",\"2021-05-13T00:00:00\",\"2021-05-14T00:00:00\",\"2021-05-17T00:00:00\",\"2021-05-18T00:00:00\",\"2021-05-19T00:00:00\",\"2021-05-20T00:00:00\",\"2021-05-21T00:00:00\",\"2021-05-24T00:00:00\",\"2021-05-25T00:00:00\",\"2021-05-26T00:00:00\",\"2021-05-27T00:00:00\",\"2021-05-28T00:00:00\",\"2021-06-01T00:00:00\",\"2021-06-02T00:00:00\",\"2021-06-03T00:00:00\",\"2021-06-04T00:00:00\",\"2021-06-07T00:00:00\",\"2021-06-08T00:00:00\",\"2021-06-09T00:00:00\",\"2021-06-10T00:00:00\",\"2021-06-11T00:00:00\",\"2021-06-14T00:00:00\",\"2021-06-15T00:00:00\",\"2021-06-16T00:00:00\",\"2021-06-17T00:00:00\",\"2021-06-18T00:00:00\",\"2021-06-21T00:00:00\",\"2021-06-22T00:00:00\",\"2021-06-23T00:00:00\",\"2021-06-24T00:00:00\",\"2021-06-25T00:00:00\",\"2021-06-28T00:00:00\",\"2021-06-29T00:00:00\",\"2021-06-30T00:00:00\",\"2021-07-01T00:00:00\",\"2021-07-02T00:00:00\",\"2021-07-06T00:00:00\",\"2021-07-07T00:00:00\",\"2021-07-08T00:00:00\",\"2021-07-09T00:00:00\",\"2021-07-12T00:00:00\",\"2021-07-13T00:00:00\",\"2021-07-14T00:00:00\",\"2021-07-15T00:00:00\",\"2021-07-16T00:00:00\",\"2021-07-19T00:00:00\",\"2021-07-20T00:00:00\",\"2021-07-21T00:00:00\",\"2021-07-22T00:00:00\",\"2021-07-23T00:00:00\",\"2021-07-26T00:00:00\",\"2021-07-27T00:00:00\",\"2021-07-28T00:00:00\",\"2021-07-29T00:00:00\",\"2021-07-30T00:00:00\",\"2021-08-02T00:00:00\",\"2021-08-03T00:00:00\",\"2021-08-04T00:00:00\",\"2021-08-05T00:00:00\",\"2021-08-06T00:00:00\",\"2021-08-09T00:00:00\",\"2021-08-10T00:00:00\",\"2021-08-11T00:00:00\",\"2021-08-12T00:00:00\",\"2021-08-13T00:00:00\",\"2021-08-16T00:00:00\",\"2021-08-17T00:00:00\",\"2021-08-18T00:00:00\",\"2021-08-19T00:00:00\",\"2021-08-20T00:00:00\",\"2021-08-23T00:00:00\",\"2021-08-24T00:00:00\",\"2021-08-25T00:00:00\",\"2021-08-26T00:00:00\",\"2021-08-27T00:00:00\",\"2021-08-30T00:00:00\",\"2021-08-31T00:00:00\",\"2021-09-01T00:00:00\",\"2021-09-02T00:00:00\",\"2021-09-03T00:00:00\",\"2021-09-07T00:00:00\",\"2021-09-08T00:00:00\",\"2021-09-09T00:00:00\",\"2021-09-10T00:00:00\",\"2021-09-13T00:00:00\",\"2021-09-14T00:00:00\",\"2021-09-15T00:00:00\",\"2021-09-16T00:00:00\",\"2021-09-17T00:00:00\",\"2021-09-20T00:00:00\",\"2021-09-21T00:00:00\",\"2021-09-22T00:00:00\",\"2021-09-23T00:00:00\",\"2021-09-24T00:00:00\",\"2021-09-27T00:00:00\",\"2021-09-28T00:00:00\",\"2021-09-29T00:00:00\",\"2021-09-30T00:00:00\",\"2021-10-01T00:00:00\",\"2021-10-04T00:00:00\",\"2021-10-05T00:00:00\",\"2021-10-06T00:00:00\",\"2021-10-07T00:00:00\",\"2021-10-08T00:00:00\",\"2021-10-11T00:00:00\",\"2021-10-12T00:00:00\",\"2021-10-13T00:00:00\",\"2021-10-14T00:00:00\",\"2021-10-15T00:00:00\",\"2021-10-18T00:00:00\",\"2021-10-19T00:00:00\",\"2021-10-20T00:00:00\",\"2021-10-21T00:00:00\",\"2021-10-22T00:00:00\",\"2021-10-25T00:00:00\",\"2021-10-26T00:00:00\",\"2021-10-27T00:00:00\",\"2021-10-28T00:00:00\",\"2021-10-29T00:00:00\",\"2021-11-01T00:00:00\",\"2021-11-02T00:00:00\",\"2021-11-03T00:00:00\",\"2021-11-04T00:00:00\",\"2021-11-05T00:00:00\",\"2021-11-08T00:00:00\",\"2021-11-09T00:00:00\",\"2021-11-10T00:00:00\",\"2021-11-11T00:00:00\",\"2021-11-12T00:00:00\",\"2021-11-15T00:00:00\",\"2021-11-16T00:00:00\",\"2021-11-17T00:00:00\",\"2021-11-18T00:00:00\",\"2021-11-19T00:00:00\",\"2021-11-22T00:00:00\",\"2021-11-23T00:00:00\",\"2021-11-24T00:00:00\",\"2021-11-26T00:00:00\",\"2021-11-29T00:00:00\",\"2021-11-30T00:00:00\",\"2021-12-01T00:00:00\",\"2021-12-02T00:00:00\",\"2021-12-03T00:00:00\",\"2021-12-06T00:00:00\",\"2021-12-07T00:00:00\",\"2021-12-08T00:00:00\",\"2021-12-09T00:00:00\",\"2021-12-10T00:00:00\",\"2021-12-13T00:00:00\",\"2021-12-14T00:00:00\",\"2021-12-15T00:00:00\",\"2021-12-16T00:00:00\",\"2021-12-17T00:00:00\",\"2021-12-20T00:00:00\",\"2021-12-21T00:00:00\"],\"y\":[null,null,null,null,null,null,null,null,null,null,null,null,null,null,null,null,null,null,null,null,null,null,null,null,null,null,null,null,null,null,null,null,null,-0.4060617921323053,-0.3082987619202411,-0.1753046324403158,-0.10793105304064743,-0.39264569378501857,-0.578917964255406,-0.8752612389354988,-0.8542317877464638,-0.8861886122184897,-0.823468647621962,-0.6347927700297735,-0.4473845737787523,-0.3656827468302284,-0.26506623058131495,-0.12191939551918551,0.147831787565201,0.3156322935408684,0.3872668658913053,0.42937580694826893,0.42957156551696907,0.5238362505288731,0.6911471110982459,0.7681443738157211,0.8484671995998541,0.8015058372481134,0.9111056720333397,0.6099018111204682,0.40748162780072517,0.29182526121198094,0.35095832264110927,0.46203253378681985,0.45660552158561374,0.3818249930755644,0.2748392100961008,0.1791911099670045,0.10473315873902944,0.8314328271320779,1.1950066867428415,1.1417384742785868,0.9556723384613437,0.6231714368855275,0.42975041844477957,0.16393989899945316,-0.07428276005922996,-0.2756047344728332,-0.3895355225760433,-0.27563634582096785,-0.12096354780236229,0.20878066098865622,0.39226125304002535,-0.6809620781880605,-1.2056784816213288,-1.197735604948965,-1.2150757196053217,-1.0986112517984212,-0.9998301419248756,-1.0256169940759725,-0.9918248934856915,-0.7559015991414125,-0.5808683606192196,-0.5908736717807295,-0.5020293643581812,-0.21003206596350454,0.044072361552206285,0.4088747557822412,0.4798731106335523,0.3833902075659841,0.30807740227830016,0.27834776998964783,0.30465372118953593,0.37664701577709625,0.2969699339394545,0.31277635775029733,0.3072673698060633,0.25070314837080954,0.2536331772209841,0.2956483310876996,0.4357476254898147,0.5582119285157694,0.6031622884523431,0.5799996722168803,0.4401026941873809,0.25611839519213486,0.1887928466182438,0.24571211823161043,0.3106093923614721,0.3062547932509698,0.34586116136687073,0.40383754619806567,0.3524635003271923,0.5485041126167305,0.7155785757921684,0.5722724821681622,0.42136312231945316,0.38764753447714284,0.3208441665123045,0.047130107248712694,-0.3597250018630178,-0.458210129461059,-0.23967059383791822,-0.16572575760452857,-0.11134144143729419,-0.22979469477900638,-0.04352198665696161,0.059939242411593874,-0.04951622946964074,-0.07867195641394664,0.12620354480370244,0.1747906147888223,0.20209535694517866,0.3152763779268408,0.46425654465290744,0.6482920022959284,0.6763483173407137,0.8033134513523597,0.8024253482082209,0.704453325160264,0.36464108284359753,0.13541474400835174,-0.016582120546359214,-0.3655673493665166,-0.7588604175123024,-1.0292991156562894,-1.4545559197573228,-1.5373350570926143,-1.5726543836145503,-1.5329793795584483,-1.8783825173516964,-2.4155840188506774,-2.587513037534755,-2.8208024038658377,-2.448925345205848,-2.157789018727508,-1.5522435559386354,-1.17531501144853,-0.7464350479124944,-0.35316814707411703,-0.10882806541665291,0.018232661060170408,0.1920986740091868,0.5007579640713851,0.7628359842802996,0.680711091115483,0.6092988758363271,0.6569103897194029,0.5969292626392326,0.5585003713469947,0.5949851640944077,0.8148099286383605,1.007255988001662,0.9496186904367524,0.7683183170221711,0.8123672942992642,0.7988697728062903,0.6900528807096907,0.6659094389799556,0.6294980990518212,0.6484314939035174,0.7640389598215631,0.8237476943919781,0.7315637801617261,0.6888912215110887,0.6273644621876344,0.7112680338756991,0.5795116097387805,0.41864487875220124,0.12125857140675622,-0.2824011242915616,-0.43196929133469686,-0.5606896925217497,-0.5691067750679293,-0.4649935725022203,-0.45146235375747,-0.26500040742102393,-0.5391993205777883,-0.8666212936890092,-1.4130044406065978,-1.6773989954891124,-1.4225595628915575,-1.1588714283703727,-0.8496339518795801,-0.4780949260897939,0.018373037893344546,0.18476500309336974,0.47320558956545977,0.7916120554087741,1.173496926818027,1.5010688267236973,1.691855257343947,1.9966387500451683,2.3030555589007946,2.2795438777381944,2.255705437972485,2.163946153393389,2.1647243151949223,2.1458582182608703,1.5894448840572872,0.8366625750958523,0.31873715253474977,-0.10012770775270052,-0.43850748012507346,-0.7993326867134147,-1.1793967862826564,-1.2386360667662455,-1.2677973787873604,-1.3153946741470666,-1.2843770962907528,-1.539596457090601,-1.5819753537432617,-1.457318896073367,-1.4751018465993009,-1.4672828957636168,-1.199721487710576,-0.9392619076415143,-0.5696465162669186,-0.3348445201054382,-0.20303732210329895,-0.19910471916700778,-0.36291022977343135,-0.5232259574216511,-0.7039855485202735,-0.8864782283528552,-0.95167663509569,-0.940297351863395,-0.6828476624108948,-0.5377684160853405,-0.4164191479157795,-0.2742810573085229,-0.9493295265500097,-1.339456716790977,-1.489582142699919,-1.4400986349126603,-1.3716103279898917,-1.2000464194205334,-1.0061543941254532,-0.7037678502900411,-0.6351493618560697,-0.43968461461711605,-0.3262529362931401,-0.18097127763971566,-0.012819342266915612,0.049031305598651986,0.1875063284029972,0.2664779318817474,0.1574336950393862,-0.04830013486750939,0.0002112038133370575,0.2112218394871217,0.2774674642060164,0.2457121580541335,0.2313625723603887,0.23446680900277084,0.32806725096485456,0.17257310089957345,0.16065584609363315,0.031718745209105226,0.07877995372896329,0.15514778656464223,0.06795964400622712,0.04191669884607219,0.06241889999144501,-0.03383191835064059,-0.0742819574007263,-0.12928515707957144,-0.1491569446620984,-0.25684525212353915,-0.24620695355399613,-0.20664656581767726,0.029404588012836186,0.33469004485925646,0.488551999755213,0.42090116272026723,-0.034444302351791745,-0.3655014392015157,-0.5915350119303233,-0.6523908192042467,-0.7026807451260568,-0.6642522340885737,-0.5719938723043656,-0.42910701602055834,-0.27823009864724124,-0.18577960930134552,-0.0533249193181371,0.159285371867798,0.3653167317634165,0.39668507645038975,0.6019328691316854,0.686415108670154,0.73324500547821,0.773408974962297,0.7461762063674908,0.6968490012021991,0.32770769095896224,0.031350010018948105,-0.06480166920048802,-0.1802518786399303,-0.23624082195024787,-0.3976296306307634,-0.4242614951437895,-0.384488886562969,-0.41024092738616025,-0.3707549457001318,-0.29734777319249917,-0.2588181559327949,-0.17848519902264082,0.06017683438373478,0.16270425496989782,0.22712842271395406,0.27653865481897366,0.350332351255755,0.5011126937476975,0.5609123899931188,0.5465106100625676,0.5431839601512922,0.8105787517618834,0.7518831307316782,0.5750407070193724,0.41634567790286225,0.3204290607338365,0.1488193142552121,0.11711311135225522,0.2874484438741107,0.45485756427334456,0.5212751897625068,0.5031312474620802,0.5109239170564714,0.48106968408281847,0.5384919407711493,0.5295939539630786,0.5460336866347626,0.44095466925414667,0.49906246671350224],\"type\":\"bar\",\"xaxis\":\"x4\",\"yaxis\":\"y4\"},{\"line\":{\"color\":\"orange\",\"width\":2},\"name\":\"MACD\",\"x\":[\"2020-07-14T00:00:00\",\"2020-07-15T00:00:00\",\"2020-07-16T00:00:00\",\"2020-07-17T00:00:00\",\"2020-07-20T00:00:00\",\"2020-07-21T00:00:00\",\"2020-07-22T00:00:00\",\"2020-07-23T00:00:00\",\"2020-07-24T00:00:00\",\"2020-07-27T00:00:00\",\"2020-07-28T00:00:00\",\"2020-07-29T00:00:00\",\"2020-07-30T00:00:00\",\"2020-07-31T00:00:00\",\"2020-08-03T00:00:00\",\"2020-08-04T00:00:00\",\"2020-08-05T00:00:00\",\"2020-08-06T00:00:00\",\"2020-08-07T00:00:00\",\"2020-08-10T00:00:00\",\"2020-08-11T00:00:00\",\"2020-08-12T00:00:00\",\"2020-08-13T00:00:00\",\"2020-08-14T00:00:00\",\"2020-08-17T00:00:00\",\"2020-08-18T00:00:00\",\"2020-08-19T00:00:00\",\"2020-08-20T00:00:00\",\"2020-08-21T00:00:00\",\"2020-08-24T00:00:00\",\"2020-08-25T00:00:00\",\"2020-08-26T00:00:00\",\"2020-08-27T00:00:00\",\"2020-08-28T00:00:00\",\"2020-08-31T00:00:00\",\"2020-09-01T00:00:00\",\"2020-09-02T00:00:00\",\"2020-09-03T00:00:00\",\"2020-09-04T00:00:00\",\"2020-09-08T00:00:00\",\"2020-09-09T00:00:00\",\"2020-09-10T00:00:00\",\"2020-09-11T00:00:00\",\"2020-09-14T00:00:00\",\"2020-09-15T00:00:00\",\"2020-09-16T00:00:00\",\"2020-09-17T00:00:00\",\"2020-09-18T00:00:00\",\"2020-09-21T00:00:00\",\"2020-09-22T00:00:00\",\"2020-09-23T00:00:00\",\"2020-09-24T00:00:00\",\"2020-09-25T00:00:00\",\"2020-09-28T00:00:00\",\"2020-09-29T00:00:00\",\"2020-09-30T00:00:00\",\"2020-10-01T00:00:00\",\"2020-10-02T00:00:00\",\"2020-10-05T00:00:00\",\"2020-10-06T00:00:00\",\"2020-10-07T00:00:00\",\"2020-10-08T00:00:00\",\"2020-10-09T00:00:00\",\"2020-10-12T00:00:00\",\"2020-10-13T00:00:00\",\"2020-10-14T00:00:00\",\"2020-10-15T00:00:00\",\"2020-10-16T00:00:00\",\"2020-10-19T00:00:00\",\"2020-10-20T00:00:00\",\"2020-10-21T00:00:00\",\"2020-10-22T00:00:00\",\"2020-10-23T00:00:00\",\"2020-10-26T00:00:00\",\"2020-10-27T00:00:00\",\"2020-10-28T00:00:00\",\"2020-10-29T00:00:00\",\"2020-10-30T00:00:00\",\"2020-11-02T00:00:00\",\"2020-11-03T00:00:00\",\"2020-11-04T00:00:00\",\"2020-11-05T00:00:00\",\"2020-11-06T00:00:00\",\"2020-11-09T00:00:00\",\"2020-11-10T00:00:00\",\"2020-11-11T00:00:00\",\"2020-11-12T00:00:00\",\"2020-11-13T00:00:00\",\"2020-11-16T00:00:00\",\"2020-11-17T00:00:00\",\"2020-11-18T00:00:00\",\"2020-11-19T00:00:00\",\"2020-11-20T00:00:00\",\"2020-11-23T00:00:00\",\"2020-11-24T00:00:00\",\"2020-11-25T00:00:00\",\"2020-11-27T00:00:00\",\"2020-11-30T00:00:00\",\"2020-12-01T00:00:00\",\"2020-12-02T00:00:00\",\"2020-12-03T00:00:00\",\"2020-12-04T00:00:00\",\"2020-12-07T00:00:00\",\"2020-12-08T00:00:00\",\"2020-12-09T00:00:00\",\"2020-12-10T00:00:00\",\"2020-12-11T00:00:00\",\"2020-12-14T00:00:00\",\"2020-12-15T00:00:00\",\"2020-12-16T00:00:00\",\"2020-12-17T00:00:00\",\"2020-12-18T00:00:00\",\"2020-12-21T00:00:00\",\"2020-12-22T00:00:00\",\"2020-12-23T00:00:00\",\"2020-12-24T00:00:00\",\"2020-12-28T00:00:00\",\"2020-12-29T00:00:00\",\"2020-12-30T00:00:00\",\"2020-12-31T00:00:00\",\"2021-01-04T00:00:00\",\"2021-01-05T00:00:00\",\"2021-01-06T00:00:00\",\"2021-01-07T00:00:00\",\"2021-01-08T00:00:00\",\"2021-01-11T00:00:00\",\"2021-01-12T00:00:00\",\"2021-01-13T00:00:00\",\"2021-01-14T00:00:00\",\"2021-01-15T00:00:00\",\"2021-01-19T00:00:00\",\"2021-01-20T00:00:00\",\"2021-01-21T00:00:00\",\"2021-01-22T00:00:00\",\"2021-01-25T00:00:00\",\"2021-01-26T00:00:00\",\"2021-01-27T00:00:00\",\"2021-01-28T00:00:00\",\"2021-01-29T00:00:00\",\"2021-02-01T00:00:00\",\"2021-02-02T00:00:00\",\"2021-02-03T00:00:00\",\"2021-02-04T00:00:00\",\"2021-02-05T00:00:00\",\"2021-02-08T00:00:00\",\"2021-02-09T00:00:00\",\"2021-02-10T00:00:00\",\"2021-02-11T00:00:00\",\"2021-02-12T00:00:00\",\"2021-02-16T00:00:00\",\"2021-02-17T00:00:00\",\"2021-02-18T00:00:00\",\"2021-02-19T00:00:00\",\"2021-02-22T00:00:00\",\"2021-02-23T00:00:00\",\"2021-02-24T00:00:00\",\"2021-02-25T00:00:00\",\"2021-02-26T00:00:00\",\"2021-03-01T00:00:00\",\"2021-03-02T00:00:00\",\"2021-03-03T00:00:00\",\"2021-03-04T00:00:00\",\"2021-03-05T00:00:00\",\"2021-03-08T00:00:00\",\"2021-03-09T00:00:00\",\"2021-03-10T00:00:00\",\"2021-03-11T00:00:00\",\"2021-03-12T00:00:00\",\"2021-03-15T00:00:00\",\"2021-03-16T00:00:00\",\"2021-03-17T00:00:00\",\"2021-03-18T00:00:00\",\"2021-03-19T00:00:00\",\"2021-03-22T00:00:00\",\"2021-03-23T00:00:00\",\"2021-03-24T00:00:00\",\"2021-03-25T00:00:00\",\"2021-03-26T00:00:00\",\"2021-03-29T00:00:00\",\"2021-03-30T00:00:00\",\"2021-03-31T00:00:00\",\"2021-04-01T00:00:00\",\"2021-04-05T00:00:00\",\"2021-04-06T00:00:00\",\"2021-04-07T00:00:00\",\"2021-04-08T00:00:00\",\"2021-04-09T00:00:00\",\"2021-04-12T00:00:00\",\"2021-04-13T00:00:00\",\"2021-04-14T00:00:00\",\"2021-04-15T00:00:00\",\"2021-04-16T00:00:00\",\"2021-04-19T00:00:00\",\"2021-04-20T00:00:00\",\"2021-04-21T00:00:00\",\"2021-04-22T00:00:00\",\"2021-04-23T00:00:00\",\"2021-04-26T00:00:00\",\"2021-04-27T00:00:00\",\"2021-04-28T00:00:00\",\"2021-04-29T00:00:00\",\"2021-04-30T00:00:00\",\"2021-05-03T00:00:00\",\"2021-05-04T00:00:00\",\"2021-05-05T00:00:00\",\"2021-05-06T00:00:00\",\"2021-05-07T00:00:00\",\"2021-05-10T00:00:00\",\"2021-05-11T00:00:00\",\"2021-05-12T00:00:00\",\"2021-05-13T00:00:00\",\"2021-05-14T00:00:00\",\"2021-05-17T00:00:00\",\"2021-05-18T00:00:00\",\"2021-05-19T00:00:00\",\"2021-05-20T00:00:00\",\"2021-05-21T00:00:00\",\"2021-05-24T00:00:00\",\"2021-05-25T00:00:00\",\"2021-05-26T00:00:00\",\"2021-05-27T00:00:00\",\"2021-05-28T00:00:00\",\"2021-06-01T00:00:00\",\"2021-06-02T00:00:00\",\"2021-06-03T00:00:00\",\"2021-06-04T00:00:00\",\"2021-06-07T00:00:00\",\"2021-06-08T00:00:00\",\"2021-06-09T00:00:00\",\"2021-06-10T00:00:00\",\"2021-06-11T00:00:00\",\"2021-06-14T00:00:00\",\"2021-06-15T00:00:00\",\"2021-06-16T00:00:00\",\"2021-06-17T00:00:00\",\"2021-06-18T00:00:00\",\"2021-06-21T00:00:00\",\"2021-06-22T00:00:00\",\"2021-06-23T00:00:00\",\"2021-06-24T00:00:00\",\"2021-06-25T00:00:00\",\"2021-06-28T00:00:00\",\"2021-06-29T00:00:00\",\"2021-06-30T00:00:00\",\"2021-07-01T00:00:00\",\"2021-07-02T00:00:00\",\"2021-07-06T00:00:00\",\"2021-07-07T00:00:00\",\"2021-07-08T00:00:00\",\"2021-07-09T00:00:00\",\"2021-07-12T00:00:00\",\"2021-07-13T00:00:00\",\"2021-07-14T00:00:00\",\"2021-07-15T00:00:00\",\"2021-07-16T00:00:00\",\"2021-07-19T00:00:00\",\"2021-07-20T00:00:00\",\"2021-07-21T00:00:00\",\"2021-07-22T00:00:00\",\"2021-07-23T00:00:00\",\"2021-07-26T00:00:00\",\"2021-07-27T00:00:00\",\"2021-07-28T00:00:00\",\"2021-07-29T00:00:00\",\"2021-07-30T00:00:00\",\"2021-08-02T00:00:00\",\"2021-08-03T00:00:00\",\"2021-08-04T00:00:00\",\"2021-08-05T00:00:00\",\"2021-08-06T00:00:00\",\"2021-08-09T00:00:00\",\"2021-08-10T00:00:00\",\"2021-08-11T00:00:00\",\"2021-08-12T00:00:00\",\"2021-08-13T00:00:00\",\"2021-08-16T00:00:00\",\"2021-08-17T00:00:00\",\"2021-08-18T00:00:00\",\"2021-08-19T00:00:00\",\"2021-08-20T00:00:00\",\"2021-08-23T00:00:00\",\"2021-08-24T00:00:00\",\"2021-08-25T00:00:00\",\"2021-08-26T00:00:00\",\"2021-08-27T00:00:00\",\"2021-08-30T00:00:00\",\"2021-08-31T00:00:00\",\"2021-09-01T00:00:00\",\"2021-09-02T00:00:00\",\"2021-09-03T00:00:00\",\"2021-09-07T00:00:00\",\"2021-09-08T00:00:00\",\"2021-09-09T00:00:00\",\"2021-09-10T00:00:00\",\"2021-09-13T00:00:00\",\"2021-09-14T00:00:00\",\"2021-09-15T00:00:00\",\"2021-09-16T00:00:00\",\"2021-09-17T00:00:00\",\"2021-09-20T00:00:00\",\"2021-09-21T00:00:00\",\"2021-09-22T00:00:00\",\"2021-09-23T00:00:00\",\"2021-09-24T00:00:00\",\"2021-09-27T00:00:00\",\"2021-09-28T00:00:00\",\"2021-09-29T00:00:00\",\"2021-09-30T00:00:00\",\"2021-10-01T00:00:00\",\"2021-10-04T00:00:00\",\"2021-10-05T00:00:00\",\"2021-10-06T00:00:00\",\"2021-10-07T00:00:00\",\"2021-10-08T00:00:00\",\"2021-10-11T00:00:00\",\"2021-10-12T00:00:00\",\"2021-10-13T00:00:00\",\"2021-10-14T00:00:00\",\"2021-10-15T00:00:00\",\"2021-10-18T00:00:00\",\"2021-10-19T00:00:00\",\"2021-10-20T00:00:00\",\"2021-10-21T00:00:00\",\"2021-10-22T00:00:00\",\"2021-10-25T00:00:00\",\"2021-10-26T00:00:00\",\"2021-10-27T00:00:00\",\"2021-10-28T00:00:00\",\"2021-10-29T00:00:00\",\"2021-11-01T00:00:00\",\"2021-11-02T00:00:00\",\"2021-11-03T00:00:00\",\"2021-11-04T00:00:00\",\"2021-11-05T00:00:00\",\"2021-11-08T00:00:00\",\"2021-11-09T00:00:00\",\"2021-11-10T00:00:00\",\"2021-11-11T00:00:00\",\"2021-11-12T00:00:00\",\"2021-11-15T00:00:00\",\"2021-11-16T00:00:00\",\"2021-11-17T00:00:00\",\"2021-11-18T00:00:00\",\"2021-11-19T00:00:00\",\"2021-11-22T00:00:00\",\"2021-11-23T00:00:00\",\"2021-11-24T00:00:00\",\"2021-11-26T00:00:00\",\"2021-11-29T00:00:00\",\"2021-11-30T00:00:00\",\"2021-12-01T00:00:00\",\"2021-12-02T00:00:00\",\"2021-12-03T00:00:00\",\"2021-12-06T00:00:00\",\"2021-12-07T00:00:00\",\"2021-12-08T00:00:00\",\"2021-12-09T00:00:00\",\"2021-12-10T00:00:00\",\"2021-12-13T00:00:00\",\"2021-12-14T00:00:00\",\"2021-12-15T00:00:00\",\"2021-12-16T00:00:00\",\"2021-12-17T00:00:00\",\"2021-12-20T00:00:00\",\"2021-12-21T00:00:00\"],\"y\":[null,null,null,null,null,null,null,null,null,null,null,null,null,null,null,null,null,null,null,null,null,null,null,null,null,1.5544781519787279,1.5141486142255474,1.5456464049819658,1.4988830355414393,1.3921170996327987,1.2723213662038262,1.2365145945370273,1.0406893451641537,0.8332795623416729,0.853967902073677,0.9431358734435236,0.9835266895830301,0.6006506253924044,0.26964886385816556,-0.2455097205558019,-0.4380382163033829,-0.6915421938300312,-0.8346893911389941,-0.804711706054249,-0.7291496532479158,-0.738868513006949,-0.7045185544033643,-0.5918515682210312,-0.28514243824534447,-0.03843385888445994,0.13001742993880328,0.2794703227328341,0.3870589726807765,0.6122827203248988,0.9523803586688331,1.2214137148402386,1.513853340524335,1.6672684374846227,2.004644690278184,1.8559162821454294,1.7553665057758678,1.712666454490119,1.8595390965795247,2.08612144117194,2.1948458093671377,2.2155215291259793,2.177245548670541,2.126395226033196,2.0781205644899785,3.012678439666047,3.6750039709625213,3.9071703770679136,3.9600223258660066,3.7833142835115723,3.6973308696820197,3.4725053249865567,3.2157119759130666,2.9454888178812553,2.7341741491340343,2.779164239433868,2.9035961505018832,3.285535524540066,3.5670814298514415,2.323617579076341,1.4974815552377407,1.2059905306728638,0.8848814861151766,0.726693140972472,0.5755167153647989,0.29332561469470875,0.0791614919135668,0.1261093864724927,0.1559255348398807,-0.0017981942668114925,-0.03846122793380857,0.20102805396999202,0.4661505718737544,0.9331716550493496,1.1241382875590489,1.1235029363829767,1.125209481664868,1.1650667918736275,1.2675361733708996,1.433691221902734,1.4282566235499559,1.5222571367983733,1.593564991305655,1.5996765569631037,1.6660148801185244,1.7819421167571647,2.0309783175317335,2.2929956026866307,2.48873653473629,2.610573836555048,2.5807025320723938,2.4607478318751816,2.4406204949558514,2.5589677961271207,2.7015174183473505,2.7737265175495907,2.8997981760072093,3.058733947387921,3.095475776598846,3.4286424170425676,3.7746115241660476,3.774373551084082,3.7288049718152365,3.7920012675922123,3.8054089412554504,3.543477408804037,3.0466910492265526,2.8336533892632474,2.992275276426909,3.0247886732591667,3.0513376290670777,2.8754357020306145,3.050827913488419,3.1692739531598733,3.0474394239112286,2.9986157078634363,3.2350420952820116,3.3273268189643375,3.405155400356989,3.5971555158203614,3.862199818709655,4.208308276926658,4.405451671306622,4.733245168156358,4.932963402064274,5.011104710306384,4.762452738700617,4.56708008586746,4.410937691176159,3.9705606250143717,3.3875524524905103,2.8597889754324513,2.070893191392088,1.6037802897836428,1.1752973673580698,0.8317275265245598,0.016728759393387804,-1.1243687468182628,-1.9431760248860286,-2.881665992183571,-3.122020269825043,-3.3703311980285804,-3.1528466242243667,-3.069746832596394,-2.8274756310384817,-2.5225007669686335,-2.3053677016653324,-2.1737488099234668,-1.9518581284721535,-1.518009347392109,-1.0652223311131195,-0.9771694514990656,-0.8962569478191398,-0.6844178365062135,-0.5951666479265754,-0.49397044638206467,-0.30873936261104973,0.11478788409249319,0.5590479404562103,0.7388153155004886,0.7495945213414501,0.9967353221933593,1.182955243901958,1.246651571982781,1.388985489998035,1.5099486748328559,1.6909899431604316,1.9976071490338683,2.263252807202278,2.3539598380124573,2.483510084739592,2.5788244409630465,2.840545021120036,2.8536664994178125,2.7974609881192833,2.5303893236255277,2.05612934685432,1.7985688569775107,1.5296760326600207,1.378982256346859,1.366847065787013,1.2675126960923961,1.3877245405735863,0.9787257972723751,0.43464850073890204,-0.4649857563303357,-1.1487300600851285,-1.249530518210463,-1.2755602407818714,-1.1787312522609739,-0.9267159579936362,-0.4256547345371615,-0.21307151856379392,0.19367046529966103,0.7099799449951689,1.3852390481089287,2.0880781546955234,2.7018283996517596,3.5057715798642732,4.387952278445098,4.934326566717047,5.474414486444459,5.923641740213711,6.465600980813974,6.983199438445141,6.824147325255879,6.280530660068408,5.842289525640993,5.398392738415367,4.9503860960117265,4.389727717745032,3.7148144216051264,3.3459161244299764,2.9998054677120223,2.62335950381555,2.3332828075991756,1.6931643325266776,1.2552915974382017,1.0156183310897546,0.6290599189139954,0.2700581458087754,0.2376891819341722,0.26333328509285536,0.49053704740072135,0.6416279135358423,0.7226757810121569,0.6768322041566961,0.42229913610691483,0.13117691910328233,-0.22557905912540832,-0.6296912960462038,-0.9328088615629611,-1.156503916296515,-1.0697661424467384,-1.0591290001425193,-1.0418845189519033,-0.9683166926717774,-1.8806975435507667,-2.6056889129894785,-3.1282098745734004,-3.438751025514307,-3.7131653005890115,-3.8416129968747867,-3.89925957011107,-3.772814988848168,-3.862983840878215,-3.7774402472935407,-3.74557180304285,-3.6455329637993543,-3.4805858639932836,-3.406477389728053,-3.2211257848229593,-3.0755346983737724,-3.1452205114562872,-3.3630293750800604,-3.31446523544588,-3.0506491399003153,-2.9150366491299167,-2.8853639157682665,-2.8418728583719144,-2.7801519194788398,-2.6045346647755423,-2.71688553961593,-2.6886388328984623,-2.809646247480714,-2.742890050528615,-2.627735271051776,-2.6979335026086346,-2.7134972730572713,-2.677390346914038,-2.7820991448437837,-2.8411196732440516,-2.9284441621927897,-2.985605185940841,-3.1575048064331668,-3.2084182462521227,-3.220519499970223,-2.977117199136501,-2.5881592310752666,-2.312159276240507,-2.2745848225953864,-2.7385413632553934,-3.1609738599054964,-3.5348911856168854,-3.7588446976918704,-3.984804809895195,-4.112439357379856,-4.163179463671739,-4.127569361393071,-4.046249968681565,-4.000244381661005,-3.881120921507332,-3.6286892873544474,-3.3313287445179753,-3.2007891307184053,-2.8450581207541887,-2.5889721040481817,-2.358830955870573,-2.1253147426459122,-1.9660034596488458,-1.8411184145135877,-2.128332802017084,-2.4168529804523615,-2.5292050769719197,-2.6897182560713446,-2.8047674048692244,-3.0655636212074313,-3.198260859506405,-3.254610472566327,-3.3829227452360584,-3.436125499975063,-3.437055270765555,-3.46323019248905,-3.4275185353345563,-3.1738122933322472,-3.03060880900361,-2.9094025355810658,-2.7908576397713034,-2.6294808555205833,-2.3534223395917166,-2.153394545848016,-2.0311686732629255,-1.8986993331363777,-1.4286598535853159,-1.2993846919326018,-1.3324669388900645,-1.3870755485308592,-1.4028849005164261,-1.5372898184312476,-1.5397177434961407,-1.2975203000057576,-1.016396788538188,-0.8196603656083994,-0.712021496043306,-0.5764978471847968,-0.48608465913774523,-0.2940394172566272,-0.1705389155739283,-0.017590761243553743,-0.012431111310633014,0.17044230282709805],\"type\":\"scatter\",\"xaxis\":\"x4\",\"yaxis\":\"y4\"},{\"line\":{\"color\":\"blue\",\"width\":1},\"name\":\"MACD signal\",\"x\":[\"2020-07-14T00:00:00\",\"2020-07-15T00:00:00\",\"2020-07-16T00:00:00\",\"2020-07-17T00:00:00\",\"2020-07-20T00:00:00\",\"2020-07-21T00:00:00\",\"2020-07-22T00:00:00\",\"2020-07-23T00:00:00\",\"2020-07-24T00:00:00\",\"2020-07-27T00:00:00\",\"2020-07-28T00:00:00\",\"2020-07-29T00:00:00\",\"2020-07-30T00:00:00\",\"2020-07-31T00:00:00\",\"2020-08-03T00:00:00\",\"2020-08-04T00:00:00\",\"2020-08-05T00:00:00\",\"2020-08-06T00:00:00\",\"2020-08-07T00:00:00\",\"2020-08-10T00:00:00\",\"2020-08-11T00:00:00\",\"2020-08-12T00:00:00\",\"2020-08-13T00:00:00\",\"2020-08-14T00:00:00\",\"2020-08-17T00:00:00\",\"2020-08-18T00:00:00\",\"2020-08-19T00:00:00\",\"2020-08-20T00:00:00\",\"2020-08-21T00:00:00\",\"2020-08-24T00:00:00\",\"2020-08-25T00:00:00\",\"2020-08-26T00:00:00\",\"2020-08-27T00:00:00\",\"2020-08-28T00:00:00\",\"2020-08-31T00:00:00\",\"2020-09-01T00:00:00\",\"2020-09-02T00:00:00\",\"2020-09-03T00:00:00\",\"2020-09-04T00:00:00\",\"2020-09-08T00:00:00\",\"2020-09-09T00:00:00\",\"2020-09-10T00:00:00\",\"2020-09-11T00:00:00\",\"2020-09-14T00:00:00\",\"2020-09-15T00:00:00\",\"2020-09-16T00:00:00\",\"2020-09-17T00:00:00\",\"2020-09-18T00:00:00\",\"2020-09-21T00:00:00\",\"2020-09-22T00:00:00\",\"2020-09-23T00:00:00\",\"2020-09-24T00:00:00\",\"2020-09-25T00:00:00\",\"2020-09-28T00:00:00\",\"2020-09-29T00:00:00\",\"2020-09-30T00:00:00\",\"2020-10-01T00:00:00\",\"2020-10-02T00:00:00\",\"2020-10-05T00:00:00\",\"2020-10-06T00:00:00\",\"2020-10-07T00:00:00\",\"2020-10-08T00:00:00\",\"2020-10-09T00:00:00\",\"2020-10-12T00:00:00\",\"2020-10-13T00:00:00\",\"2020-10-14T00:00:00\",\"2020-10-15T00:00:00\",\"2020-10-16T00:00:00\",\"2020-10-19T00:00:00\",\"2020-10-20T00:00:00\",\"2020-10-21T00:00:00\",\"2020-10-22T00:00:00\",\"2020-10-23T00:00:00\",\"2020-10-26T00:00:00\",\"2020-10-27T00:00:00\",\"2020-10-28T00:00:00\",\"2020-10-29T00:00:00\",\"2020-10-30T00:00:00\",\"2020-11-02T00:00:00\",\"2020-11-03T00:00:00\",\"2020-11-04T00:00:00\",\"2020-11-05T00:00:00\",\"2020-11-06T00:00:00\",\"2020-11-09T00:00:00\",\"2020-11-10T00:00:00\",\"2020-11-11T00:00:00\",\"2020-11-12T00:00:00\",\"2020-11-13T00:00:00\",\"2020-11-16T00:00:00\",\"2020-11-17T00:00:00\",\"2020-11-18T00:00:00\",\"2020-11-19T00:00:00\",\"2020-11-20T00:00:00\",\"2020-11-23T00:00:00\",\"2020-11-24T00:00:00\",\"2020-11-25T00:00:00\",\"2020-11-27T00:00:00\",\"2020-11-30T00:00:00\",\"2020-12-01T00:00:00\",\"2020-12-02T00:00:00\",\"2020-12-03T00:00:00\",\"2020-12-04T00:00:00\",\"2020-12-07T00:00:00\",\"2020-12-08T00:00:00\",\"2020-12-09T00:00:00\",\"2020-12-10T00:00:00\",\"2020-12-11T00:00:00\",\"2020-12-14T00:00:00\",\"2020-12-15T00:00:00\",\"2020-12-16T00:00:00\",\"2020-12-17T00:00:00\",\"2020-12-18T00:00:00\",\"2020-12-21T00:00:00\",\"2020-12-22T00:00:00\",\"2020-12-23T00:00:00\",\"2020-12-24T00:00:00\",\"2020-12-28T00:00:00\",\"2020-12-29T00:00:00\",\"2020-12-30T00:00:00\",\"2020-12-31T00:00:00\",\"2021-01-04T00:00:00\",\"2021-01-05T00:00:00\",\"2021-01-06T00:00:00\",\"2021-01-07T00:00:00\",\"2021-01-08T00:00:00\",\"2021-01-11T00:00:00\",\"2021-01-12T00:00:00\",\"2021-01-13T00:00:00\",\"2021-01-14T00:00:00\",\"2021-01-15T00:00:00\",\"2021-01-19T00:00:00\",\"2021-01-20T00:00:00\",\"2021-01-21T00:00:00\",\"2021-01-22T00:00:00\",\"2021-01-25T00:00:00\",\"2021-01-26T00:00:00\",\"2021-01-27T00:00:00\",\"2021-01-28T00:00:00\",\"2021-01-29T00:00:00\",\"2021-02-01T00:00:00\",\"2021-02-02T00:00:00\",\"2021-02-03T00:00:00\",\"2021-02-04T00:00:00\",\"2021-02-05T00:00:00\",\"2021-02-08T00:00:00\",\"2021-02-09T00:00:00\",\"2021-02-10T00:00:00\",\"2021-02-11T00:00:00\",\"2021-02-12T00:00:00\",\"2021-02-16T00:00:00\",\"2021-02-17T00:00:00\",\"2021-02-18T00:00:00\",\"2021-02-19T00:00:00\",\"2021-02-22T00:00:00\",\"2021-02-23T00:00:00\",\"2021-02-24T00:00:00\",\"2021-02-25T00:00:00\",\"2021-02-26T00:00:00\",\"2021-03-01T00:00:00\",\"2021-03-02T00:00:00\",\"2021-03-03T00:00:00\",\"2021-03-04T00:00:00\",\"2021-03-05T00:00:00\",\"2021-03-08T00:00:00\",\"2021-03-09T00:00:00\",\"2021-03-10T00:00:00\",\"2021-03-11T00:00:00\",\"2021-03-12T00:00:00\",\"2021-03-15T00:00:00\",\"2021-03-16T00:00:00\",\"2021-03-17T00:00:00\",\"2021-03-18T00:00:00\",\"2021-03-19T00:00:00\",\"2021-03-22T00:00:00\",\"2021-03-23T00:00:00\",\"2021-03-24T00:00:00\",\"2021-03-25T00:00:00\",\"2021-03-26T00:00:00\",\"2021-03-29T00:00:00\",\"2021-03-30T00:00:00\",\"2021-03-31T00:00:00\",\"2021-04-01T00:00:00\",\"2021-04-05T00:00:00\",\"2021-04-06T00:00:00\",\"2021-04-07T00:00:00\",\"2021-04-08T00:00:00\",\"2021-04-09T00:00:00\",\"2021-04-12T00:00:00\",\"2021-04-13T00:00:00\",\"2021-04-14T00:00:00\",\"2021-04-15T00:00:00\",\"2021-04-16T00:00:00\",\"2021-04-19T00:00:00\",\"2021-04-20T00:00:00\",\"2021-04-21T00:00:00\",\"2021-04-22T00:00:00\",\"2021-04-23T00:00:00\",\"2021-04-26T00:00:00\",\"2021-04-27T00:00:00\",\"2021-04-28T00:00:00\",\"2021-04-29T00:00:00\",\"2021-04-30T00:00:00\",\"2021-05-03T00:00:00\",\"2021-05-04T00:00:00\",\"2021-05-05T00:00:00\",\"2021-05-06T00:00:00\",\"2021-05-07T00:00:00\",\"2021-05-10T00:00:00\",\"2021-05-11T00:00:00\",\"2021-05-12T00:00:00\",\"2021-05-13T00:00:00\",\"2021-05-14T00:00:00\",\"2021-05-17T00:00:00\",\"2021-05-18T00:00:00\",\"2021-05-19T00:00:00\",\"2021-05-20T00:00:00\",\"2021-05-21T00:00:00\",\"2021-05-24T00:00:00\",\"2021-05-25T00:00:00\",\"2021-05-26T00:00:00\",\"2021-05-27T00:00:00\",\"2021-05-28T00:00:00\",\"2021-06-01T00:00:00\",\"2021-06-02T00:00:00\",\"2021-06-03T00:00:00\",\"2021-06-04T00:00:00\",\"2021-06-07T00:00:00\",\"2021-06-08T00:00:00\",\"2021-06-09T00:00:00\",\"2021-06-10T00:00:00\",\"2021-06-11T00:00:00\",\"2021-06-14T00:00:00\",\"2021-06-15T00:00:00\",\"2021-06-16T00:00:00\",\"2021-06-17T00:00:00\",\"2021-06-18T00:00:00\",\"2021-06-21T00:00:00\",\"2021-06-22T00:00:00\",\"2021-06-23T00:00:00\",\"2021-06-24T00:00:00\",\"2021-06-25T00:00:00\",\"2021-06-28T00:00:00\",\"2021-06-29T00:00:00\",\"2021-06-30T00:00:00\",\"2021-07-01T00:00:00\",\"2021-07-02T00:00:00\",\"2021-07-06T00:00:00\",\"2021-07-07T00:00:00\",\"2021-07-08T00:00:00\",\"2021-07-09T00:00:00\",\"2021-07-12T00:00:00\",\"2021-07-13T00:00:00\",\"2021-07-14T00:00:00\",\"2021-07-15T00:00:00\",\"2021-07-16T00:00:00\",\"2021-07-19T00:00:00\",\"2021-07-20T00:00:00\",\"2021-07-21T00:00:00\",\"2021-07-22T00:00:00\",\"2021-07-23T00:00:00\",\"2021-07-26T00:00:00\",\"2021-07-27T00:00:00\",\"2021-07-28T00:00:00\",\"2021-07-29T00:00:00\",\"2021-07-30T00:00:00\",\"2021-08-02T00:00:00\",\"2021-08-03T00:00:00\",\"2021-08-04T00:00:00\",\"2021-08-05T00:00:00\",\"2021-08-06T00:00:00\",\"2021-08-09T00:00:00\",\"2021-08-10T00:00:00\",\"2021-08-11T00:00:00\",\"2021-08-12T00:00:00\",\"2021-08-13T00:00:00\",\"2021-08-16T00:00:00\",\"2021-08-17T00:00:00\",\"2021-08-18T00:00:00\",\"2021-08-19T00:00:00\",\"2021-08-20T00:00:00\",\"2021-08-23T00:00:00\",\"2021-08-24T00:00:00\",\"2021-08-25T00:00:00\",\"2021-08-26T00:00:00\",\"2021-08-27T00:00:00\",\"2021-08-30T00:00:00\",\"2021-08-31T00:00:00\",\"2021-09-01T00:00:00\",\"2021-09-02T00:00:00\",\"2021-09-03T00:00:00\",\"2021-09-07T00:00:00\",\"2021-09-08T00:00:00\",\"2021-09-09T00:00:00\",\"2021-09-10T00:00:00\",\"2021-09-13T00:00:00\",\"2021-09-14T00:00:00\",\"2021-09-15T00:00:00\",\"2021-09-16T00:00:00\",\"2021-09-17T00:00:00\",\"2021-09-20T00:00:00\",\"2021-09-21T00:00:00\",\"2021-09-22T00:00:00\",\"2021-09-23T00:00:00\",\"2021-09-24T00:00:00\",\"2021-09-27T00:00:00\",\"2021-09-28T00:00:00\",\"2021-09-29T00:00:00\",\"2021-09-30T00:00:00\",\"2021-10-01T00:00:00\",\"2021-10-04T00:00:00\",\"2021-10-05T00:00:00\",\"2021-10-06T00:00:00\",\"2021-10-07T00:00:00\",\"2021-10-08T00:00:00\",\"2021-10-11T00:00:00\",\"2021-10-12T00:00:00\",\"2021-10-13T00:00:00\",\"2021-10-14T00:00:00\",\"2021-10-15T00:00:00\",\"2021-10-18T00:00:00\",\"2021-10-19T00:00:00\",\"2021-10-20T00:00:00\",\"2021-10-21T00:00:00\",\"2021-10-22T00:00:00\",\"2021-10-25T00:00:00\",\"2021-10-26T00:00:00\",\"2021-10-27T00:00:00\",\"2021-10-28T00:00:00\",\"2021-10-29T00:00:00\",\"2021-11-01T00:00:00\",\"2021-11-02T00:00:00\",\"2021-11-03T00:00:00\",\"2021-11-04T00:00:00\",\"2021-11-05T00:00:00\",\"2021-11-08T00:00:00\",\"2021-11-09T00:00:00\",\"2021-11-10T00:00:00\",\"2021-11-11T00:00:00\",\"2021-11-12T00:00:00\",\"2021-11-15T00:00:00\",\"2021-11-16T00:00:00\",\"2021-11-17T00:00:00\",\"2021-11-18T00:00:00\",\"2021-11-19T00:00:00\",\"2021-11-22T00:00:00\",\"2021-11-23T00:00:00\",\"2021-11-24T00:00:00\",\"2021-11-26T00:00:00\",\"2021-11-29T00:00:00\",\"2021-11-30T00:00:00\",\"2021-12-01T00:00:00\",\"2021-12-02T00:00:00\",\"2021-12-03T00:00:00\",\"2021-12-06T00:00:00\",\"2021-12-07T00:00:00\",\"2021-12-08T00:00:00\",\"2021-12-09T00:00:00\",\"2021-12-10T00:00:00\",\"2021-12-13T00:00:00\",\"2021-12-14T00:00:00\",\"2021-12-15T00:00:00\",\"2021-12-16T00:00:00\",\"2021-12-17T00:00:00\",\"2021-12-20T00:00:00\",\"2021-12-21T00:00:00\"],\"y\":[null,null,null,null,null,null,null,null,null,null,null,null,null,null,null,null,null,null,null,null,null,null,null,null,null,null,null,null,null,null,null,null,null,1.2393413544739782,1.162266663993918,1.1184405058838394,1.0914577426236776,0.993296319177423,0.8485668281135715,0.6297515183796969,0.4161935714430809,0.19464641838845845,-0.011220743517032061,-0.16991893602447547,-0.2817650794691635,-0.3731857661767206,-0.43945232382204935,-0.46993217270184573,-0.43297422581054545,-0.35406615242532835,-0.25724943595250205,-0.14990548421543481,-0.04251259283619255,0.08844646979602573,0.2612332475705872,0.45326934102451755,0.665386140924481,0.8657626002365093,1.0935390182448441,1.2460144710249612,1.3478848779751427,1.420841193278138,1.5085807739384154,1.6240889073851204,1.738240287781524,1.833696536050415,1.9024063385744403,1.9472041160661917,1.973387405750949,2.181245612533969,2.47999728421968,2.765431902789327,3.004349987404663,3.160142846626045,3.26758045123724,3.3085654259871036,3.2899947359722965,3.2210935523540885,3.1237096717100776,3.054800585254836,3.0245596983042455,3.0767548635514097,3.174820176811416,3.0045796572644017,2.7031600368590696,2.4037261356218287,2.0999572057204983,1.8253043927708932,1.5753468572896745,1.3189426087706813,1.0709863853992583,0.8820109856139052,0.7367938954591003,0.589075477513918,0.46356813642437267,0.41106011993349656,0.42207821032154813,0.5242968992671084,0.6442651769254966,0.7401127288169926,0.8171320793865677,0.8867190218839797,0.9628824521813637,1.0570442061256378,1.1312866896105014,1.209480779048076,1.2862976214995918,1.3489734085922942,1.4123817028975403,1.4862937856694651,1.5952306920419188,1.7347836741708613,1.885574246283947,2.0305741643381676,2.140599837885013,2.204629436683047,2.2518276483376076,2.3132556778955102,2.3909080259858784,2.467471724298621,2.5539370146403386,2.6548964011898555,2.743012276271654,2.880138304425837,3.059032948373879,3.20210106891592,3.3074418494957833,3.4043537331150695,3.484564774743146,3.4963473015553244,3.4064160510895705,3.2918635187243064,3.2319458702648274,3.1905144308636952,3.162679070504372,3.105230396809621,3.0943499001453807,3.1093347107482794,3.0969556533808693,3.077287664277383,3.108838550478309,3.152536204175515,3.2030600434118104,3.2818791378935206,3.3979432740567477,3.56001627463073,3.7291033539659084,3.9299317168039987,4.130538053856053,4.30665138514612,4.397811655857019,4.431665341859108,4.427519811722518,4.336127974380888,4.146412870002813,3.8890880910887407,3.5254491111494106,3.141115346876257,2.74795175097262,2.364706906083008,1.8951112767450842,1.2912152720324148,0.6443370126487262,-0.0608635883177332,-0.6730949246191952,-1.2125421793010722,-1.6006030682857313,-1.894431821147864,-2.0810405831259873,-2.1693326198945164,-2.1965396362486795,-2.191981470983637,-2.1439568024813402,-2.018767311463494,-1.8280583153934191,-1.6578805426145486,-1.505555823655467,-1.3413282262256163,-1.192095910565808,-1.0524708177290594,-0.9037245267054574,-0.7000220445458674,-0.44820804754545185,-0.21080337493626378,-0.018723795680721023,0.18436802789409504,0.38408547109566765,0.5565986912730904,0.7230760510180794,0.8804505757810347,1.0425584492569142,1.2335681892123052,1.4395051128102998,1.6223960578507313,1.7946188632285034,1.951459978775412,2.129276987244337,2.274154889679032,2.378816109367082,2.4091307522187715,2.3385304711458814,2.2305381483122075,2.0903657251817704,1.9480890314147883,1.8318406382892334,1.7189750498498662,1.6527249479946102,1.5179251178501634,1.3012697944279112,0.948018684276262,0.528668935403984,0.17302904468109456,-0.11668881241149862,-0.3290973003813937,-0.4486210319038422,-0.44402777243050606,-0.39783652165716366,-0.27953512426579874,-0.08163211041360521,0.21174212129090159,0.587009327971826,1.0099731423078127,1.509132829819105,2.084896719544304,2.6547826889788526,3.2187090484719745,3.759695586820322,4.300876665619052,4.83734122018427,5.234702441198592,5.443868084972555,5.523552373106243,5.498520446168068,5.3888935761368,5.189060404458447,4.894211207887783,4.584552191196222,4.267602846499383,3.9387541779626165,3.6176599038899284,3.2327607896172785,2.8372669511814634,2.4729372271631216,2.1041617655132963,1.7373410415723922,1.4374106696447482,1.2025951927343697,1.06018356366764,0.9764724336412804,0.9257131031154558,0.8759369233237039,0.7852093658803462,0.6544028765249335,0.47840648939486513,0.2567869323066514,0.01886777353272892,-0.21620656443311986,-0.3869184800358436,-0.5213605840571788,-0.6254653710361238,-0.6940356353632545,-0.931368017000757,-1.2662321961985015,-1.6386277318734814,-1.9986523906016467,-2.34155497259912,-2.6415665774542534,-2.893105175985617,-3.069047138558127,-3.227834479022145,-3.3377556326764246,-3.41931886674971,-3.4645616861596387,-3.467766521726368,-3.455508695326705,-3.4086321132259565,-3.3420126302555198,-3.3026542064956734,-3.314729240212551,-3.314676439259217,-3.261870979387437,-3.192504113335933,-3.1310760738224,-3.073235430732303,-3.0146187284816106,-2.932601915740397,-2.8894586405155036,-2.8492946789920954,-2.8413649926898192,-2.8216700042575784,-2.7828830576164183,-2.7658931466148617,-2.7554139719033435,-2.739809246905483,-2.748267226493143,-2.7668377158433253,-2.7991590051132182,-2.8364482412787426,-2.9006595543096276,-2.9622112926981266,-3.0138729341525456,-3.006521787149337,-2.922849275934523,-2.8007112759957202,-2.6954859853156536,-2.7040970609036017,-2.7954724207039807,-2.943356173686562,-3.1064538784876237,-3.282124064769138,-3.448187123291282,-3.591185591367373,-3.698462345372513,-3.7680198700343235,-3.81446477235966,-3.827796002189195,-3.7879746592222454,-3.696645476281392,-3.597474207168795,-3.446990989885874,-3.2753872127183357,-3.092075961348783,-2.8987237176082092,-2.7121796660163366,-2.5379674157157868,-2.4560404929760464,-2.4482029904713096,-2.4644034077714316,-2.5094663774314143,-2.5685265829189765,-2.667933990576668,-2.7739993643626155,-2.870121586003358,-2.972681817849898,-3.065370554274931,-3.1397074975730557,-3.204412036556255,-3.2490333363119155,-3.233989127715982,-3.1933130639735077,-3.13653095829502,-3.067396294590277,-2.9798132067763383,-2.854535033339414,-2.714306935841135,-2.577679283325493,-2.44188329328767,-2.2392386053471993,-2.05126782266428,-1.9075076459094369,-1.8034212264337215,-1.7233139612502626,-1.6861091326864597,-1.6568308548483959,-1.5849687438798683,-1.4712543528115325,-1.3409355553709061,-1.2151527435053862,-1.0874217642412682,-0.9671543432205637,-0.8325313580277764,-0.7001328695370069,-0.5636244478783163,-0.4533857805647797,-0.3286201638864042],\"type\":\"scatter\",\"xaxis\":\"x4\",\"yaxis\":\"y4\"}],                        {\"template\":{\"data\":{\"bar\":[{\"error_x\":{\"color\":\"#2a3f5f\"},\"error_y\":{\"color\":\"#2a3f5f\"},\"marker\":{\"line\":{\"color\":\"#E5ECF6\",\"width\":0.5},\"pattern\":{\"fillmode\":\"overlay\",\"size\":10,\"solidity\":0.2}},\"type\":\"bar\"}],\"barpolar\":[{\"marker\":{\"line\":{\"color\":\"#E5ECF6\",\"width\":0.5},\"pattern\":{\"fillmode\":\"overlay\",\"size\":10,\"solidity\":0.2}},\"type\":\"barpolar\"}],\"carpet\":[{\"aaxis\":{\"endlinecolor\":\"#2a3f5f\",\"gridcolor\":\"white\",\"linecolor\":\"white\",\"minorgridcolor\":\"white\",\"startlinecolor\":\"#2a3f5f\"},\"baxis\":{\"endlinecolor\":\"#2a3f5f\",\"gridcolor\":\"white\",\"linecolor\":\"white\",\"minorgridcolor\":\"white\",\"startlinecolor\":\"#2a3f5f\"},\"type\":\"carpet\"}],\"choropleth\":[{\"colorbar\":{\"outlinewidth\":0,\"ticks\":\"\"},\"type\":\"choropleth\"}],\"contour\":[{\"colorbar\":{\"outlinewidth\":0,\"ticks\":\"\"},\"colorscale\":[[0.0,\"#0d0887\"],[0.1111111111111111,\"#46039f\"],[0.2222222222222222,\"#7201a8\"],[0.3333333333333333,\"#9c179e\"],[0.4444444444444444,\"#bd3786\"],[0.5555555555555556,\"#d8576b\"],[0.6666666666666666,\"#ed7953\"],[0.7777777777777778,\"#fb9f3a\"],[0.8888888888888888,\"#fdca26\"],[1.0,\"#f0f921\"]],\"type\":\"contour\"}],\"contourcarpet\":[{\"colorbar\":{\"outlinewidth\":0,\"ticks\":\"\"},\"type\":\"contourcarpet\"}],\"heatmap\":[{\"colorbar\":{\"outlinewidth\":0,\"ticks\":\"\"},\"colorscale\":[[0.0,\"#0d0887\"],[0.1111111111111111,\"#46039f\"],[0.2222222222222222,\"#7201a8\"],[0.3333333333333333,\"#9c179e\"],[0.4444444444444444,\"#bd3786\"],[0.5555555555555556,\"#d8576b\"],[0.6666666666666666,\"#ed7953\"],[0.7777777777777778,\"#fb9f3a\"],[0.8888888888888888,\"#fdca26\"],[1.0,\"#f0f921\"]],\"type\":\"heatmap\"}],\"heatmapgl\":[{\"colorbar\":{\"outlinewidth\":0,\"ticks\":\"\"},\"colorscale\":[[0.0,\"#0d0887\"],[0.1111111111111111,\"#46039f\"],[0.2222222222222222,\"#7201a8\"],[0.3333333333333333,\"#9c179e\"],[0.4444444444444444,\"#bd3786\"],[0.5555555555555556,\"#d8576b\"],[0.6666666666666666,\"#ed7953\"],[0.7777777777777778,\"#fb9f3a\"],[0.8888888888888888,\"#fdca26\"],[1.0,\"#f0f921\"]],\"type\":\"heatmapgl\"}],\"histogram\":[{\"marker\":{\"pattern\":{\"fillmode\":\"overlay\",\"size\":10,\"solidity\":0.2}},\"type\":\"histogram\"}],\"histogram2d\":[{\"colorbar\":{\"outlinewidth\":0,\"ticks\":\"\"},\"colorscale\":[[0.0,\"#0d0887\"],[0.1111111111111111,\"#46039f\"],[0.2222222222222222,\"#7201a8\"],[0.3333333333333333,\"#9c179e\"],[0.4444444444444444,\"#bd3786\"],[0.5555555555555556,\"#d8576b\"],[0.6666666666666666,\"#ed7953\"],[0.7777777777777778,\"#fb9f3a\"],[0.8888888888888888,\"#fdca26\"],[1.0,\"#f0f921\"]],\"type\":\"histogram2d\"}],\"histogram2dcontour\":[{\"colorbar\":{\"outlinewidth\":0,\"ticks\":\"\"},\"colorscale\":[[0.0,\"#0d0887\"],[0.1111111111111111,\"#46039f\"],[0.2222222222222222,\"#7201a8\"],[0.3333333333333333,\"#9c179e\"],[0.4444444444444444,\"#bd3786\"],[0.5555555555555556,\"#d8576b\"],[0.6666666666666666,\"#ed7953\"],[0.7777777777777778,\"#fb9f3a\"],[0.8888888888888888,\"#fdca26\"],[1.0,\"#f0f921\"]],\"type\":\"histogram2dcontour\"}],\"mesh3d\":[{\"colorbar\":{\"outlinewidth\":0,\"ticks\":\"\"},\"type\":\"mesh3d\"}],\"parcoords\":[{\"line\":{\"colorbar\":{\"outlinewidth\":0,\"ticks\":\"\"}},\"type\":\"parcoords\"}],\"pie\":[{\"automargin\":true,\"type\":\"pie\"}],\"scatter\":[{\"marker\":{\"colorbar\":{\"outlinewidth\":0,\"ticks\":\"\"}},\"type\":\"scatter\"}],\"scatter3d\":[{\"line\":{\"colorbar\":{\"outlinewidth\":0,\"ticks\":\"\"}},\"marker\":{\"colorbar\":{\"outlinewidth\":0,\"ticks\":\"\"}},\"type\":\"scatter3d\"}],\"scattercarpet\":[{\"marker\":{\"colorbar\":{\"outlinewidth\":0,\"ticks\":\"\"}},\"type\":\"scattercarpet\"}],\"scattergeo\":[{\"marker\":{\"colorbar\":{\"outlinewidth\":0,\"ticks\":\"\"}},\"type\":\"scattergeo\"}],\"scattergl\":[{\"marker\":{\"colorbar\":{\"outlinewidth\":0,\"ticks\":\"\"}},\"type\":\"scattergl\"}],\"scattermapbox\":[{\"marker\":{\"colorbar\":{\"outlinewidth\":0,\"ticks\":\"\"}},\"type\":\"scattermapbox\"}],\"scatterpolar\":[{\"marker\":{\"colorbar\":{\"outlinewidth\":0,\"ticks\":\"\"}},\"type\":\"scatterpolar\"}],\"scatterpolargl\":[{\"marker\":{\"colorbar\":{\"outlinewidth\":0,\"ticks\":\"\"}},\"type\":\"scatterpolargl\"}],\"scatterternary\":[{\"marker\":{\"colorbar\":{\"outlinewidth\":0,\"ticks\":\"\"}},\"type\":\"scatterternary\"}],\"surface\":[{\"colorbar\":{\"outlinewidth\":0,\"ticks\":\"\"},\"colorscale\":[[0.0,\"#0d0887\"],[0.1111111111111111,\"#46039f\"],[0.2222222222222222,\"#7201a8\"],[0.3333333333333333,\"#9c179e\"],[0.4444444444444444,\"#bd3786\"],[0.5555555555555556,\"#d8576b\"],[0.6666666666666666,\"#ed7953\"],[0.7777777777777778,\"#fb9f3a\"],[0.8888888888888888,\"#fdca26\"],[1.0,\"#f0f921\"]],\"type\":\"surface\"}],\"table\":[{\"cells\":{\"fill\":{\"color\":\"#EBF0F8\"},\"line\":{\"color\":\"white\"}},\"header\":{\"fill\":{\"color\":\"#C8D4E3\"},\"line\":{\"color\":\"white\"}},\"type\":\"table\"}]},\"layout\":{\"annotationdefaults\":{\"arrowcolor\":\"#2a3f5f\",\"arrowhead\":0,\"arrowwidth\":1},\"autotypenumbers\":\"strict\",\"coloraxis\":{\"colorbar\":{\"outlinewidth\":0,\"ticks\":\"\"}},\"colorscale\":{\"diverging\":[[0,\"#8e0152\"],[0.1,\"#c51b7d\"],[0.2,\"#de77ae\"],[0.3,\"#f1b6da\"],[0.4,\"#fde0ef\"],[0.5,\"#f7f7f7\"],[0.6,\"#e6f5d0\"],[0.7,\"#b8e186\"],[0.8,\"#7fbc41\"],[0.9,\"#4d9221\"],[1,\"#276419\"]],\"sequential\":[[0.0,\"#0d0887\"],[0.1111111111111111,\"#46039f\"],[0.2222222222222222,\"#7201a8\"],[0.3333333333333333,\"#9c179e\"],[0.4444444444444444,\"#bd3786\"],[0.5555555555555556,\"#d8576b\"],[0.6666666666666666,\"#ed7953\"],[0.7777777777777778,\"#fb9f3a\"],[0.8888888888888888,\"#fdca26\"],[1.0,\"#f0f921\"]],\"sequentialminus\":[[0.0,\"#0d0887\"],[0.1111111111111111,\"#46039f\"],[0.2222222222222222,\"#7201a8\"],[0.3333333333333333,\"#9c179e\"],[0.4444444444444444,\"#bd3786\"],[0.5555555555555556,\"#d8576b\"],[0.6666666666666666,\"#ed7953\"],[0.7777777777777778,\"#fb9f3a\"],[0.8888888888888888,\"#fdca26\"],[1.0,\"#f0f921\"]]},\"colorway\":[\"#636efa\",\"#EF553B\",\"#00cc96\",\"#ab63fa\",\"#FFA15A\",\"#19d3f3\",\"#FF6692\",\"#B6E880\",\"#FF97FF\",\"#FECB52\"],\"font\":{\"color\":\"#2a3f5f\"},\"geo\":{\"bgcolor\":\"white\",\"lakecolor\":\"white\",\"landcolor\":\"#E5ECF6\",\"showlakes\":true,\"showland\":true,\"subunitcolor\":\"white\"},\"hoverlabel\":{\"align\":\"left\"},\"hovermode\":\"closest\",\"mapbox\":{\"style\":\"light\"},\"paper_bgcolor\":\"white\",\"plot_bgcolor\":\"#E5ECF6\",\"polar\":{\"angularaxis\":{\"gridcolor\":\"white\",\"linecolor\":\"white\",\"ticks\":\"\"},\"bgcolor\":\"#E5ECF6\",\"radialaxis\":{\"gridcolor\":\"white\",\"linecolor\":\"white\",\"ticks\":\"\"}},\"scene\":{\"xaxis\":{\"backgroundcolor\":\"#E5ECF6\",\"gridcolor\":\"white\",\"gridwidth\":2,\"linecolor\":\"white\",\"showbackground\":true,\"ticks\":\"\",\"zerolinecolor\":\"white\"},\"yaxis\":{\"backgroundcolor\":\"#E5ECF6\",\"gridcolor\":\"white\",\"gridwidth\":2,\"linecolor\":\"white\",\"showbackground\":true,\"ticks\":\"\",\"zerolinecolor\":\"white\"},\"zaxis\":{\"backgroundcolor\":\"#E5ECF6\",\"gridcolor\":\"white\",\"gridwidth\":2,\"linecolor\":\"white\",\"showbackground\":true,\"ticks\":\"\",\"zerolinecolor\":\"white\"}},\"shapedefaults\":{\"line\":{\"color\":\"#2a3f5f\"}},\"ternary\":{\"aaxis\":{\"gridcolor\":\"white\",\"linecolor\":\"white\",\"ticks\":\"\"},\"baxis\":{\"gridcolor\":\"white\",\"linecolor\":\"white\",\"ticks\":\"\"},\"bgcolor\":\"#E5ECF6\",\"caxis\":{\"gridcolor\":\"white\",\"linecolor\":\"white\",\"ticks\":\"\"}},\"title\":{\"x\":0.05},\"xaxis\":{\"automargin\":true,\"gridcolor\":\"white\",\"linecolor\":\"white\",\"ticks\":\"\",\"title\":{\"standoff\":15},\"zerolinecolor\":\"white\",\"zerolinewidth\":2},\"yaxis\":{\"automargin\":true,\"gridcolor\":\"white\",\"linecolor\":\"white\",\"ticks\":\"\",\"title\":{\"standoff\":15},\"zerolinecolor\":\"white\",\"zerolinewidth\":2}}},\"xaxis\":{\"anchor\":\"y\",\"domain\":[0.0,1.0],\"matches\":\"x4\",\"showticklabels\":false,\"type\":\"date\",\"range\":[\"2021-06-01\",\"2022-01-31\"],\"rangeslider\":{\"visible\":false},\"rangebreaks\":[{\"values\":[\"2020-07-18\",\"2020-07-19\",\"2020-07-25\",\"2020-07-26\",\"2020-08-01\",\"2020-08-02\",\"2020-08-08\",\"2020-08-09\",\"2020-08-15\",\"2020-08-16\",\"2020-08-22\",\"2020-08-23\",\"2020-08-29\",\"2020-08-30\",\"2020-09-05\",\"2020-09-06\",\"2020-09-07\",\"2020-09-12\",\"2020-09-13\",\"2020-09-19\",\"2020-09-20\",\"2020-09-26\",\"2020-09-27\",\"2020-10-03\",\"2020-10-04\",\"2020-10-10\",\"2020-10-11\",\"2020-10-17\",\"2020-10-18\",\"2020-10-24\",\"2020-10-25\",\"2020-10-31\",\"2020-11-01\",\"2020-11-07\",\"2020-11-08\",\"2020-11-14\",\"2020-11-15\",\"2020-11-21\",\"2020-11-22\",\"2020-11-26\",\"2020-11-28\",\"2020-11-29\",\"2020-12-05\",\"2020-12-06\",\"2020-12-12\",\"2020-12-13\",\"2020-12-19\",\"2020-12-20\",\"2020-12-25\",\"2020-12-26\",\"2020-12-27\",\"2021-01-01\",\"2021-01-02\",\"2021-01-03\",\"2021-01-09\",\"2021-01-10\",\"2021-01-16\",\"2021-01-17\",\"2021-01-18\",\"2021-01-23\",\"2021-01-24\",\"2021-01-30\",\"2021-01-31\",\"2021-02-06\",\"2021-02-07\",\"2021-02-13\",\"2021-02-14\",\"2021-02-15\",\"2021-02-20\",\"2021-02-21\",\"2021-02-27\",\"2021-02-28\",\"2021-03-06\",\"2021-03-07\",\"2021-03-13\",\"2021-03-14\",\"2021-03-20\",\"2021-03-21\",\"2021-03-27\",\"2021-03-28\",\"2021-04-02\",\"2021-04-03\",\"2021-04-04\",\"2021-04-10\",\"2021-04-11\",\"2021-04-17\",\"2021-04-18\",\"2021-04-24\",\"2021-04-25\",\"2021-05-01\",\"2021-05-02\",\"2021-05-08\",\"2021-05-09\",\"2021-05-15\",\"2021-05-16\",\"2021-05-22\",\"2021-05-23\",\"2021-05-29\",\"2021-05-30\",\"2021-05-31\",\"2021-06-05\",\"2021-06-06\",\"2021-06-12\",\"2021-06-13\",\"2021-06-19\",\"2021-06-20\",\"2021-06-26\",\"2021-06-27\",\"2021-07-03\",\"2021-07-04\",\"2021-07-05\",\"2021-07-10\",\"2021-07-11\",\"2021-07-17\",\"2021-07-18\",\"2021-07-24\",\"2021-07-25\",\"2021-07-31\",\"2021-08-01\",\"2021-08-07\",\"2021-08-08\",\"2021-08-14\",\"2021-08-15\",\"2021-08-21\",\"2021-08-22\",\"2021-08-28\",\"2021-08-29\",\"2021-09-04\",\"2021-09-05\",\"2021-09-06\",\"2021-09-11\",\"2021-09-12\",\"2021-09-18\",\"2021-09-19\",\"2021-09-25\",\"2021-09-26\",\"2021-10-02\",\"2021-10-03\",\"2021-10-09\",\"2021-10-10\",\"2021-10-16\",\"2021-10-17\",\"2021-10-23\",\"2021-10-24\",\"2021-10-30\",\"2021-10-31\",\"2021-11-06\",\"2021-11-07\",\"2021-11-13\",\"2021-11-14\",\"2021-11-20\",\"2021-11-21\",\"2021-11-25\",\"2021-11-27\",\"2021-11-28\",\"2021-12-04\",\"2021-12-05\",\"2021-12-11\",\"2021-12-12\",\"2021-12-18\",\"2021-12-19\"]}],\"showspikes\":true,\"spikemode\":\"across\",\"spikesnap\":\"cursor\",\"spikedash\":\"dash\"},\"yaxis\":{\"anchor\":\"x\",\"domain\":[0.41400000000000003,0.8844000000000001],\"range\":[76.69999694824219,138.79552201497955],\"showspikes\":true,\"spikemode\":\"across\",\"spikesnap\":\"cursor\",\"spikedash\":\"dash\"},\"xaxis2\":{\"anchor\":\"y2\",\"domain\":[0.0,1.0],\"matches\":\"x4\",\"showticklabels\":false,\"type\":\"date\",\"range\":[\"2021-06-01\",\"2022-01-31\"],\"showspikes\":true,\"spikemode\":\"across\",\"spikesnap\":\"cursor\",\"spikedash\":\"dash\"},\"yaxis2\":{\"anchor\":\"x2\",\"domain\":[0.30800000000000005,0.4040000000000001],\"showspikes\":true,\"spikemode\":\"across\",\"spikesnap\":\"cursor\",\"spikedash\":\"dash\"},\"xaxis3\":{\"anchor\":\"y3\",\"domain\":[0.0,1.0],\"matches\":\"x4\",\"showticklabels\":false,\"type\":\"date\",\"range\":[\"2021-06-01\",\"2022-01-31\"],\"showspikes\":true,\"spikemode\":\"across\",\"spikesnap\":\"cursor\",\"spikedash\":\"dash\"},\"yaxis3\":{\"anchor\":\"x3\",\"domain\":[0.10600000000000001,0.29800000000000004],\"showspikes\":true,\"spikemode\":\"across\",\"spikesnap\":\"cursor\",\"spikedash\":\"dash\"},\"xaxis4\":{\"anchor\":\"y4\",\"domain\":[0.0,1.0],\"type\":\"date\",\"range\":[\"2021-06-01\",\"2022-01-31\"],\"showspikes\":true,\"spikemode\":\"across\",\"spikesnap\":\"cursor\",\"spikedash\":\"dash\"},\"yaxis4\":{\"anchor\":\"x4\",\"domain\":[0.0,0.09600000000000002],\"showspikes\":true,\"spikemode\":\"across\",\"spikesnap\":\"cursor\",\"spikedash\":\"dash\"},\"annotations\":[{\"font\":{\"size\":16},\"showarrow\":false,\"text\":\"<b><a href=\\\"https://in.tradingview.com/chart/66XmQfYy/?symbol=LOGI\\\">LOGI</a> </b> <a href=\\\"https://seekingalpha.com/symbol/LOGI\\\"> Seeking Alpha </a>  <b>Date:</b>2021-12-21 <b>Close Price:</b>84.1<br><b>Support:</b>83.1 <b>Resistance:</b>86.3 <b>ATH:</b>137.3 <b>Discount:</b>53.2 (63.3%)<br>Support -15%:<b>70.63</b> Resistance +15%:<b>99.24</b> \",\"x\":0.5,\"xanchor\":\"center\",\"xref\":\"paper\",\"y\":1.0,\"yanchor\":\"bottom\",\"yref\":\"paper\"}],\"height\":900,\"width\":1200,\"showlegend\":true,\"dragmode\":\"pan\",\"margin\":{\"b\":20,\"l\":20,\"r\":20,\"t\":100}},                        {\"responsive\": true}                    ).then(function(){\n",
              "                            \n",
              "var gd = document.getElementById('ef2a244a-19d4-4237-ac22-f9bbe2dfc46a');\n",
              "var x = new MutationObserver(function (mutations, observer) {{\n",
              "        var display = window.getComputedStyle(gd).display;\n",
              "        if (!display || display === 'none') {{\n",
              "            console.log([gd, 'removed!']);\n",
              "            Plotly.purge(gd);\n",
              "            observer.disconnect();\n",
              "        }}\n",
              "}});\n",
              "\n",
              "// Listen for the removal of the full notebook cells\n",
              "var notebookContainer = gd.closest('#notebook-container');\n",
              "if (notebookContainer) {{\n",
              "    x.observe(notebookContainer, {childList: true});\n",
              "}}\n",
              "\n",
              "// Listen for the clearing of the current output cell\n",
              "var outputEl = gd.closest('.output');\n",
              "if (outputEl) {{\n",
              "    x.observe(outputEl, {childList: true});\n",
              "}}\n",
              "\n",
              "                        })                };                            </script>        </div>\n",
              "</body>\n",
              "</html>"
            ]
          },
          "metadata": {}
        }
      ]
    },
    {
      "cell_type": "code",
      "source": [
        "symbols = ['AAPL','AMD','AMZN','AAL','ABBV','ARKG','ARKK','ARKQ','ATVI',\n",
        "           'BA','BNGO','CAT','CCL','CHPT','CHWY','COIN','CRM','DDOG',\n",
        "           'DIA','DIS','DKNG','DOCU','EA','ETSY','FB','GOOGL','HOG']\n",
        "\n",
        "symbols1 = ['HOOD','HUT','IWM','JAZZ','JETS','LVS','LOGI','MA','MP',\n",
        "           'MRNA','MSFT','MSTR','MU','NCLH','NFLX','NKE','NNDM','NVDA']\n",
        "\n",
        "symbols2 = ['PFE','PINS','PLTR','PYPL','QQQ','RBLX','RIVN','RKLB',\n",
        "           'ROKU','SBUX','SHOP','SNAP','SOFI','SOXL','SOXX','SPY','SQ']\n",
        "\n",
        "symbols3 = ['TDOC','TEN','TLT','TSLA','TTD','TWTR','U',\n",
        "           'V','VTI','WBA','WMT','WYNN','XLE','XLF','XLNX','ZM']\n",
        "#save_charts(symbols)\n",
        "save_charts(symbols1)\n",
        "#save_charts(symbols2)\n",
        "#save_charts(symbols3)"
      ],
      "metadata": {
        "colab": {
          "base_uri": "https://localhost:8080/"
        },
        "id": "CMcLhG4wzKd6",
        "outputId": "0ccd72d9-3c2f-4e6b-c753-24a47e4cfd39"
      },
      "execution_count": 275,
      "outputs": [
        {
          "output_type": "stream",
          "name": "stdout",
          "text": [
            "close_price 173.0 min_level: 171.6 max_level: 179.4\n"
          ]
        },
        {
          "output_type": "stream",
          "name": "stderr",
          "text": [
            "/usr/local/lib/python3.7/dist-packages/ipykernel_launcher.py:109: RuntimeWarning:\n",
            "\n",
            "divide by zero encountered in double_scalars\n",
            "\n",
            "/usr/local/lib/python3.7/dist-packages/ipykernel_launcher.py:110: RuntimeWarning:\n",
            "\n",
            "divide by zero encountered in double_scalars\n",
            "\n"
          ]
        },
        {
          "output_type": "stream",
          "name": "stdout",
          "text": [
            "chart folder: /content/drive/MyDrive/models/charts/2021-12-21\n",
            "close_price 144.2 min_level: 134.2 max_level: 145.3\n"
          ]
        },
        {
          "output_type": "stream",
          "name": "stderr",
          "text": [
            "/usr/local/lib/python3.7/dist-packages/ipykernel_launcher.py:109: RuntimeWarning:\n",
            "\n",
            "divide by zero encountered in double_scalars\n",
            "\n",
            "/usr/local/lib/python3.7/dist-packages/ipykernel_launcher.py:110: RuntimeWarning:\n",
            "\n",
            "divide by zero encountered in double_scalars\n",
            "\n"
          ]
        },
        {
          "output_type": "stream",
          "name": "stdout",
          "text": [
            "chart folder: /content/drive/MyDrive/models/charts/2021-12-21\n",
            "close_price 3408.3 min_level: 3348.6 max_level: 3488.4\n"
          ]
        },
        {
          "output_type": "stream",
          "name": "stderr",
          "text": [
            "/usr/local/lib/python3.7/dist-packages/ipykernel_launcher.py:109: RuntimeWarning:\n",
            "\n",
            "divide by zero encountered in double_scalars\n",
            "\n",
            "/usr/local/lib/python3.7/dist-packages/ipykernel_launcher.py:110: RuntimeWarning:\n",
            "\n",
            "divide by zero encountered in double_scalars\n",
            "\n"
          ]
        },
        {
          "output_type": "stream",
          "name": "stdout",
          "text": [
            "chart folder: /content/drive/MyDrive/models/charts/2021-12-21\n",
            "close_price 18.1 min_level: 17.0 max_level: 18.9\n"
          ]
        },
        {
          "output_type": "stream",
          "name": "stderr",
          "text": [
            "/usr/local/lib/python3.7/dist-packages/ipykernel_launcher.py:109: RuntimeWarning:\n",
            "\n",
            "divide by zero encountered in double_scalars\n",
            "\n",
            "/usr/local/lib/python3.7/dist-packages/ipykernel_launcher.py:110: RuntimeWarning:\n",
            "\n",
            "divide by zero encountered in double_scalars\n",
            "\n"
          ]
        },
        {
          "output_type": "stream",
          "name": "stdout",
          "text": [
            "chart folder: /content/drive/MyDrive/models/charts/2021-12-21\n",
            "close_price 129.9 min_level: 122.1 max_level: 131.8\n"
          ]
        },
        {
          "output_type": "stream",
          "name": "stderr",
          "text": [
            "/usr/local/lib/python3.7/dist-packages/ipykernel_launcher.py:109: RuntimeWarning:\n",
            "\n",
            "divide by zero encountered in double_scalars\n",
            "\n",
            "/usr/local/lib/python3.7/dist-packages/ipykernel_launcher.py:110: RuntimeWarning:\n",
            "\n",
            "divide by zero encountered in double_scalars\n",
            "\n"
          ]
        },
        {
          "output_type": "stream",
          "name": "stdout",
          "text": [
            "chart folder: /content/drive/MyDrive/models/charts/2021-12-21\n",
            "close_price 65.0 min_level: 61.2 max_level: 67.0\n"
          ]
        },
        {
          "output_type": "stream",
          "name": "stderr",
          "text": [
            "/usr/local/lib/python3.7/dist-packages/ipykernel_launcher.py:109: RuntimeWarning:\n",
            "\n",
            "divide by zero encountered in double_scalars\n",
            "\n",
            "/usr/local/lib/python3.7/dist-packages/ipykernel_launcher.py:110: RuntimeWarning:\n",
            "\n",
            "divide by zero encountered in double_scalars\n",
            "\n"
          ]
        },
        {
          "output_type": "stream",
          "name": "stdout",
          "text": [
            "chart folder: /content/drive/MyDrive/models/charts/2021-12-21\n",
            "close_price 98.4 min_level: 98.3 max_level: 106.6\n"
          ]
        },
        {
          "output_type": "stream",
          "name": "stderr",
          "text": [
            "/usr/local/lib/python3.7/dist-packages/ipykernel_launcher.py:109: RuntimeWarning:\n",
            "\n",
            "divide by zero encountered in double_scalars\n",
            "\n",
            "/usr/local/lib/python3.7/dist-packages/ipykernel_launcher.py:110: RuntimeWarning:\n",
            "\n",
            "divide by zero encountered in double_scalars\n",
            "\n"
          ]
        },
        {
          "output_type": "stream",
          "name": "stdout",
          "text": [
            "chart folder: /content/drive/MyDrive/models/charts/2021-12-21\n",
            "close_price 76.8 min_level: 74.8 max_level: 77.4\n"
          ]
        },
        {
          "output_type": "stream",
          "name": "stderr",
          "text": [
            "/usr/local/lib/python3.7/dist-packages/ipykernel_launcher.py:109: RuntimeWarning:\n",
            "\n",
            "divide by zero encountered in double_scalars\n",
            "\n",
            "/usr/local/lib/python3.7/dist-packages/ipykernel_launcher.py:110: RuntimeWarning:\n",
            "\n",
            "divide by zero encountered in double_scalars\n",
            "\n"
          ]
        },
        {
          "output_type": "stream",
          "name": "stdout",
          "text": [
            "chart folder: /content/drive/MyDrive/models/charts/2021-12-21\n",
            "close_price 63.6 min_level: 61.0 max_level: 64.6\n"
          ]
        },
        {
          "output_type": "stream",
          "name": "stderr",
          "text": [
            "/usr/local/lib/python3.7/dist-packages/ipykernel_launcher.py:109: RuntimeWarning:\n",
            "\n",
            "divide by zero encountered in double_scalars\n",
            "\n",
            "/usr/local/lib/python3.7/dist-packages/ipykernel_launcher.py:110: RuntimeWarning:\n",
            "\n",
            "divide by zero encountered in double_scalars\n",
            "\n"
          ]
        },
        {
          "output_type": "stream",
          "name": "stdout",
          "text": [
            "chart folder: /content/drive/MyDrive/models/charts/2021-12-21\n",
            "close_price 199.5 min_level: 193.9 max_level: 202.5\n"
          ]
        },
        {
          "output_type": "stream",
          "name": "stderr",
          "text": [
            "/usr/local/lib/python3.7/dist-packages/ipykernel_launcher.py:109: RuntimeWarning:\n",
            "\n",
            "divide by zero encountered in double_scalars\n",
            "\n",
            "/usr/local/lib/python3.7/dist-packages/ipykernel_launcher.py:110: RuntimeWarning:\n",
            "\n",
            "divide by zero encountered in double_scalars\n",
            "\n"
          ]
        },
        {
          "output_type": "stream",
          "name": "stdout",
          "text": [
            "chart folder: /content/drive/MyDrive/models/charts/2021-12-21\n",
            "close_price 3.3 min_level: 3.0 max_level: 4.1\n"
          ]
        },
        {
          "output_type": "stream",
          "name": "stderr",
          "text": [
            "/usr/local/lib/python3.7/dist-packages/ipykernel_launcher.py:109: RuntimeWarning:\n",
            "\n",
            "divide by zero encountered in double_scalars\n",
            "\n",
            "/usr/local/lib/python3.7/dist-packages/ipykernel_launcher.py:110: RuntimeWarning:\n",
            "\n",
            "divide by zero encountered in double_scalars\n",
            "\n"
          ]
        },
        {
          "output_type": "stream",
          "name": "stdout",
          "text": [
            "chart folder: /content/drive/MyDrive/models/charts/2021-12-21\n",
            "close_price 198.3 min_level: 196.7 max_level: 205.3\n"
          ]
        },
        {
          "output_type": "stream",
          "name": "stderr",
          "text": [
            "/usr/local/lib/python3.7/dist-packages/ipykernel_launcher.py:109: RuntimeWarning:\n",
            "\n",
            "divide by zero encountered in double_scalars\n",
            "\n",
            "/usr/local/lib/python3.7/dist-packages/ipykernel_launcher.py:110: RuntimeWarning:\n",
            "\n",
            "divide by zero encountered in double_scalars\n",
            "\n"
          ]
        },
        {
          "output_type": "stream",
          "name": "stdout",
          "text": [
            "chart folder: /content/drive/MyDrive/models/charts/2021-12-21\n",
            "close_price 20.5 min_level: 20.0 max_level: 21.9\n"
          ]
        },
        {
          "output_type": "stream",
          "name": "stderr",
          "text": [
            "/usr/local/lib/python3.7/dist-packages/ipykernel_launcher.py:109: RuntimeWarning:\n",
            "\n",
            "divide by zero encountered in double_scalars\n",
            "\n",
            "/usr/local/lib/python3.7/dist-packages/ipykernel_launcher.py:110: RuntimeWarning:\n",
            "\n",
            "divide by zero encountered in double_scalars\n",
            "\n"
          ]
        },
        {
          "output_type": "stream",
          "name": "stdout",
          "text": [
            "chart folder: /content/drive/MyDrive/models/charts/2021-12-21\n",
            "close_price 18.7 min_level: 17.6 max_level: 19.5\n"
          ]
        },
        {
          "output_type": "stream",
          "name": "stderr",
          "text": [
            "/usr/local/lib/python3.7/dist-packages/ipykernel_launcher.py:109: RuntimeWarning:\n",
            "\n",
            "divide by zero encountered in double_scalars\n",
            "\n",
            "/usr/local/lib/python3.7/dist-packages/ipykernel_launcher.py:110: RuntimeWarning:\n",
            "\n",
            "divide by zero encountered in double_scalars\n",
            "\n"
          ]
        },
        {
          "output_type": "stream",
          "name": "stdout",
          "text": [
            "chart folder: /content/drive/MyDrive/models/charts/2021-12-21\n",
            "close_price 55.2 min_level: 55.0 max_level: 58.9\n"
          ]
        },
        {
          "output_type": "stream",
          "name": "stderr",
          "text": [
            "/usr/local/lib/python3.7/dist-packages/ipykernel_launcher.py:109: RuntimeWarning:\n",
            "\n",
            "divide by zero encountered in double_scalars\n",
            "\n",
            "/usr/local/lib/python3.7/dist-packages/ipykernel_launcher.py:110: RuntimeWarning:\n",
            "\n",
            "divide by zero encountered in double_scalars\n",
            "\n"
          ]
        },
        {
          "output_type": "stream",
          "name": "stdout",
          "text": [
            "chart folder: /content/drive/MyDrive/models/charts/2021-12-21\n",
            "close_price 247.7 min_level: 232.6 max_level: 250.5\n"
          ]
        },
        {
          "output_type": "stream",
          "name": "stderr",
          "text": [
            "/usr/local/lib/python3.7/dist-packages/ipykernel_launcher.py:109: RuntimeWarning:\n",
            "\n",
            "divide by zero encountered in double_scalars\n",
            "\n",
            "/usr/local/lib/python3.7/dist-packages/ipykernel_launcher.py:110: RuntimeWarning:\n",
            "\n",
            "divide by zero encountered in double_scalars\n",
            "\n"
          ]
        },
        {
          "output_type": "stream",
          "name": "stdout",
          "text": [
            "chart folder: /content/drive/MyDrive/models/charts/2021-12-21\n",
            "close_price 252.6 min_level: 248.1 max_level: 259.0\n"
          ]
        },
        {
          "output_type": "stream",
          "name": "stderr",
          "text": [
            "/usr/local/lib/python3.7/dist-packages/ipykernel_launcher.py:109: RuntimeWarning:\n",
            "\n",
            "divide by zero encountered in double_scalars\n",
            "\n",
            "/usr/local/lib/python3.7/dist-packages/ipykernel_launcher.py:110: RuntimeWarning:\n",
            "\n",
            "divide by zero encountered in double_scalars\n",
            "\n"
          ]
        },
        {
          "output_type": "stream",
          "name": "stdout",
          "text": [
            "chart folder: /content/drive/MyDrive/models/charts/2021-12-21\n",
            "close_price 177.5 min_level: 168.1 max_level: 177.6\n"
          ]
        },
        {
          "output_type": "stream",
          "name": "stderr",
          "text": [
            "/usr/local/lib/python3.7/dist-packages/ipykernel_launcher.py:109: RuntimeWarning:\n",
            "\n",
            "divide by zero encountered in double_scalars\n",
            "\n",
            "/usr/local/lib/python3.7/dist-packages/ipykernel_launcher.py:110: RuntimeWarning:\n",
            "\n",
            "divide by zero encountered in double_scalars\n",
            "\n"
          ]
        },
        {
          "output_type": "stream",
          "name": "stdout",
          "text": [
            "chart folder: /content/drive/MyDrive/models/charts/2021-12-21\n",
            "close_price 354.9 min_level: 352.1 max_level: 356.6\n"
          ]
        },
        {
          "output_type": "stream",
          "name": "stderr",
          "text": [
            "/usr/local/lib/python3.7/dist-packages/ipykernel_launcher.py:109: RuntimeWarning:\n",
            "\n",
            "divide by zero encountered in double_scalars\n",
            "\n",
            "/usr/local/lib/python3.7/dist-packages/ipykernel_launcher.py:110: RuntimeWarning:\n",
            "\n",
            "divide by zero encountered in double_scalars\n",
            "\n"
          ]
        },
        {
          "output_type": "stream",
          "name": "stdout",
          "text": [
            "chart folder: /content/drive/MyDrive/models/charts/2021-12-21\n",
            "close_price 151.1 min_level: 147.8 max_level: 152.8\n"
          ]
        },
        {
          "output_type": "stream",
          "name": "stderr",
          "text": [
            "/usr/local/lib/python3.7/dist-packages/ipykernel_launcher.py:109: RuntimeWarning:\n",
            "\n",
            "divide by zero encountered in double_scalars\n",
            "\n",
            "/usr/local/lib/python3.7/dist-packages/ipykernel_launcher.py:110: RuntimeWarning:\n",
            "\n",
            "divide by zero encountered in double_scalars\n",
            "\n"
          ]
        },
        {
          "output_type": "stream",
          "name": "stdout",
          "text": [
            "chart folder: /content/drive/MyDrive/models/charts/2021-12-21\n",
            "close_price 30.3 min_level: 27.5 max_level: 34.3\n"
          ]
        },
        {
          "output_type": "stream",
          "name": "stderr",
          "text": [
            "/usr/local/lib/python3.7/dist-packages/ipykernel_launcher.py:109: RuntimeWarning:\n",
            "\n",
            "divide by zero encountered in double_scalars\n",
            "\n",
            "/usr/local/lib/python3.7/dist-packages/ipykernel_launcher.py:110: RuntimeWarning:\n",
            "\n",
            "divide by zero encountered in double_scalars\n",
            "\n"
          ]
        },
        {
          "output_type": "stream",
          "name": "stdout",
          "text": [
            "chart folder: /content/drive/MyDrive/models/charts/2021-12-21\n",
            "close_price 154.2 min_level: 148.8 max_level: 186.8\n"
          ]
        },
        {
          "output_type": "stream",
          "name": "stderr",
          "text": [
            "/usr/local/lib/python3.7/dist-packages/ipykernel_launcher.py:109: RuntimeWarning:\n",
            "\n",
            "divide by zero encountered in double_scalars\n",
            "\n",
            "/usr/local/lib/python3.7/dist-packages/ipykernel_launcher.py:110: RuntimeWarning:\n",
            "\n",
            "divide by zero encountered in double_scalars\n",
            "\n"
          ]
        },
        {
          "output_type": "stream",
          "name": "stdout",
          "text": [
            "chart folder: /content/drive/MyDrive/models/charts/2021-12-21\n",
            "close_price 132.2 min_level: 130.8 max_level: 135.1\n"
          ]
        },
        {
          "output_type": "stream",
          "name": "stderr",
          "text": [
            "/usr/local/lib/python3.7/dist-packages/ipykernel_launcher.py:109: RuntimeWarning:\n",
            "\n",
            "divide by zero encountered in double_scalars\n",
            "\n",
            "/usr/local/lib/python3.7/dist-packages/ipykernel_launcher.py:110: RuntimeWarning:\n",
            "\n",
            "divide by zero encountered in double_scalars\n",
            "\n"
          ]
        },
        {
          "output_type": "stream",
          "name": "stdout",
          "text": [
            "chart folder: /content/drive/MyDrive/models/charts/2021-12-21\n",
            "close_price 224.8 min_level: 221.4 max_level: 232.2\n"
          ]
        },
        {
          "output_type": "stream",
          "name": "stderr",
          "text": [
            "/usr/local/lib/python3.7/dist-packages/ipykernel_launcher.py:109: RuntimeWarning:\n",
            "\n",
            "divide by zero encountered in double_scalars\n",
            "\n",
            "/usr/local/lib/python3.7/dist-packages/ipykernel_launcher.py:110: RuntimeWarning:\n",
            "\n",
            "divide by zero encountered in double_scalars\n",
            "\n"
          ]
        },
        {
          "output_type": "stream",
          "name": "stdout",
          "text": [
            "chart folder: /content/drive/MyDrive/models/charts/2021-12-21\n",
            "close_price 334.2 min_level: 331.4 max_level: 347.7\n"
          ]
        },
        {
          "output_type": "stream",
          "name": "stderr",
          "text": [
            "/usr/local/lib/python3.7/dist-packages/ipykernel_launcher.py:109: RuntimeWarning:\n",
            "\n",
            "divide by zero encountered in double_scalars\n",
            "\n",
            "/usr/local/lib/python3.7/dist-packages/ipykernel_launcher.py:110: RuntimeWarning:\n",
            "\n",
            "divide by zero encountered in double_scalars\n",
            "\n"
          ]
        },
        {
          "output_type": "stream",
          "name": "stdout",
          "text": [
            "chart folder: /content/drive/MyDrive/models/charts/2021-12-21\n",
            "close_price 2869.4 min_level: 2817.5 max_level: 2876.7\n"
          ]
        },
        {
          "output_type": "stream",
          "name": "stderr",
          "text": [
            "/usr/local/lib/python3.7/dist-packages/ipykernel_launcher.py:109: RuntimeWarning:\n",
            "\n",
            "divide by zero encountered in double_scalars\n",
            "\n",
            "/usr/local/lib/python3.7/dist-packages/ipykernel_launcher.py:110: RuntimeWarning:\n",
            "\n",
            "divide by zero encountered in double_scalars\n",
            "\n"
          ]
        },
        {
          "output_type": "stream",
          "name": "stdout",
          "text": [
            "chart folder: /content/drive/MyDrive/models/charts/2021-12-21\n",
            "close_price 35.2 min_level: 32.7 max_level: 35.4\n"
          ]
        },
        {
          "output_type": "stream",
          "name": "stderr",
          "text": [
            "/usr/local/lib/python3.7/dist-packages/ipykernel_launcher.py:109: RuntimeWarning:\n",
            "\n",
            "divide by zero encountered in double_scalars\n",
            "\n",
            "/usr/local/lib/python3.7/dist-packages/ipykernel_launcher.py:110: RuntimeWarning:\n",
            "\n",
            "divide by zero encountered in double_scalars\n",
            "\n"
          ]
        },
        {
          "output_type": "stream",
          "name": "stdout",
          "text": [
            "chart folder: /content/drive/MyDrive/models/charts/2021-12-21\n"
          ]
        }
      ]
    },
    {
      "cell_type": "code",
      "source": [
        ""
      ],
      "metadata": {
        "id": "exHhLl_iOBLH"
      },
      "execution_count": null,
      "outputs": []
    }
  ]
}