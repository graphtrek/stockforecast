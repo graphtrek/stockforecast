{
  "nbformat": 4,
  "nbformat_minor": 0,
  "metadata": {
    "colab": {
      "name": "graphtrek_20.ipynb",
      "provenance": [],
      "mount_file_id": "https://github.com/graphtrek/stockforecast/blob/main/graphtrek_20.ipynb",
      "authorship_tag": "ABX9TyPhFyAF5H8Kt9SXtZm6CbTh",
      "include_colab_link": true
    },
    "kernelspec": {
      "name": "python3",
      "display_name": "Python 3"
    },
    "language_info": {
      "name": "python"
    }
  },
  "cells": [
    {
      "cell_type": "markdown",
      "metadata": {
        "id": "view-in-github",
        "colab_type": "text"
      },
      "source": [
        "<a href=\"https://colab.research.google.com/github/graphtrek/stockforecast/blob/main/graphtrek_20.ipynb\" target=\"_parent\"><img src=\"https://colab.research.google.com/assets/colab-badge.svg\" alt=\"Open In Colab\"/></a>"
      ]
    },
    {
      "cell_type": "code",
      "execution_count": null,
      "metadata": {
        "colab": {
          "base_uri": "https://localhost:8080/"
        },
        "id": "FqMCA9YoriWx",
        "outputId": "f741d3e1-3d63-420f-e8f4-da4f1f74b2d5"
      },
      "outputs": [
        {
          "output_type": "stream",
          "name": "stdout",
          "text": [
            "Requirement already satisfied: yfinance in /usr/local/lib/python3.7/dist-packages (0.1.67)\n",
            "Requirement already satisfied: pandas>=0.24 in /usr/local/lib/python3.7/dist-packages (from yfinance) (1.1.5)\n",
            "Requirement already satisfied: numpy>=1.15 in /usr/local/lib/python3.7/dist-packages (from yfinance) (1.19.5)\n",
            "Requirement already satisfied: requests>=2.20 in /usr/local/lib/python3.7/dist-packages (from yfinance) (2.23.0)\n",
            "Requirement already satisfied: multitasking>=0.0.7 in /usr/local/lib/python3.7/dist-packages (from yfinance) (0.0.10)\n",
            "Requirement already satisfied: lxml>=4.5.1 in /usr/local/lib/python3.7/dist-packages (from yfinance) (4.7.1)\n",
            "Requirement already satisfied: pytz>=2017.2 in /usr/local/lib/python3.7/dist-packages (from pandas>=0.24->yfinance) (2018.9)\n",
            "Requirement already satisfied: python-dateutil>=2.7.3 in /usr/local/lib/python3.7/dist-packages (from pandas>=0.24->yfinance) (2.8.2)\n",
            "Requirement already satisfied: six>=1.5 in /usr/local/lib/python3.7/dist-packages (from python-dateutil>=2.7.3->pandas>=0.24->yfinance) (1.15.0)\n",
            "Requirement already satisfied: idna<3,>=2.5 in /usr/local/lib/python3.7/dist-packages (from requests>=2.20->yfinance) (2.10)\n",
            "Requirement already satisfied: urllib3!=1.25.0,!=1.25.1,<1.26,>=1.21.1 in /usr/local/lib/python3.7/dist-packages (from requests>=2.20->yfinance) (1.24.3)\n",
            "Requirement already satisfied: chardet<4,>=3.0.2 in /usr/local/lib/python3.7/dist-packages (from requests>=2.20->yfinance) (3.0.4)\n",
            "Requirement already satisfied: certifi>=2017.4.17 in /usr/local/lib/python3.7/dist-packages (from requests>=2.20->yfinance) (2021.10.8)\n",
            "Requirement already satisfied: plotly==5.5.0 in /usr/local/lib/python3.7/dist-packages (5.5.0)\n",
            "Requirement already satisfied: tenacity>=6.2.0 in /usr/local/lib/python3.7/dist-packages (from plotly==5.5.0) (8.0.1)\n",
            "Requirement already satisfied: six in /usr/local/lib/python3.7/dist-packages (from plotly==5.5.0) (1.15.0)\n",
            "Requirement already satisfied: ta in /usr/local/lib/python3.7/dist-packages (0.8.0)\n",
            "Requirement already satisfied: pandas in /usr/local/lib/python3.7/dist-packages (from ta) (1.1.5)\n",
            "Requirement already satisfied: numpy in /usr/local/lib/python3.7/dist-packages (from ta) (1.19.5)\n",
            "Requirement already satisfied: pytz>=2017.2 in /usr/local/lib/python3.7/dist-packages (from pandas->ta) (2018.9)\n",
            "Requirement already satisfied: python-dateutil>=2.7.3 in /usr/local/lib/python3.7/dist-packages (from pandas->ta) (2.8.2)\n",
            "Requirement already satisfied: six>=1.5 in /usr/local/lib/python3.7/dist-packages (from python-dateutil>=2.7.3->pandas->ta) (1.15.0)\n",
            "Requirement already satisfied: mplfinance in /usr/local/lib/python3.7/dist-packages (0.12.8b6)\n",
            "Requirement already satisfied: matplotlib in /usr/local/lib/python3.7/dist-packages (from mplfinance) (3.2.2)\n",
            "Requirement already satisfied: pandas in /usr/local/lib/python3.7/dist-packages (from mplfinance) (1.1.5)\n",
            "Requirement already satisfied: cycler>=0.10 in /usr/local/lib/python3.7/dist-packages (from matplotlib->mplfinance) (0.11.0)\n",
            "Requirement already satisfied: numpy>=1.11 in /usr/local/lib/python3.7/dist-packages (from matplotlib->mplfinance) (1.19.5)\n",
            "Requirement already satisfied: kiwisolver>=1.0.1 in /usr/local/lib/python3.7/dist-packages (from matplotlib->mplfinance) (1.3.2)\n",
            "Requirement already satisfied: python-dateutil>=2.1 in /usr/local/lib/python3.7/dist-packages (from matplotlib->mplfinance) (2.8.2)\n",
            "Requirement already satisfied: pyparsing!=2.0.4,!=2.1.2,!=2.1.6,>=2.0.1 in /usr/local/lib/python3.7/dist-packages (from matplotlib->mplfinance) (3.0.6)\n",
            "Requirement already satisfied: six>=1.5 in /usr/local/lib/python3.7/dist-packages (from python-dateutil>=2.1->matplotlib->mplfinance) (1.15.0)\n",
            "Requirement already satisfied: pytz>=2017.2 in /usr/local/lib/python3.7/dist-packages (from pandas->mplfinance) (2018.9)\n"
          ]
        }
      ],
      "source": [
        "# install necessary modules\n",
        "!pip install yfinance\n",
        "!pip install plotly==5.5.0\n",
        "!pip install ta\n",
        "!pip install mplfinance"
      ]
    },
    {
      "cell_type": "code",
      "source": [
        "import pandas as pd\n",
        "import yfinance as yf\n",
        "\n",
        "from datetime import datetime, timedelta\n",
        "\n",
        "import plotly.graph_objects as go\n",
        "from plotly.subplots import make_subplots\n",
        "\n",
        "import requests\n",
        "from bs4 import BeautifulSoup\n",
        "import numpy as np\n",
        "import math\n",
        "from mplfinance.original_flavor import candlestick_ohlc\n",
        "import matplotlib.dates as mpl_dates\n",
        "import matplotlib.pyplot as plt\n",
        "\n",
        "\n",
        "from ta.trend import MACD\n",
        "from ta.momentum import StochasticOscillator\n",
        "from ta.momentum import RSIIndicator\n",
        "\n",
        "\n",
        "from tabulate import tabulate\n",
        "from pathlib import Path"
      ],
      "metadata": {
        "id": "MIfXZ81VrrqB"
      },
      "execution_count": null,
      "outputs": []
    },
    {
      "cell_type": "code",
      "source": [
        "# method 1: fractal candlestick pattern\n",
        "\n",
        "def get_stock_price(ticker, from_date):\n",
        "  #df = yf.download(ticker.ticker, start='2020-01-01')\n",
        "  #df = df.rename(columns={\"Close\": \"Close1\", \"Adj Close\": \"Close\"})\n",
        "  \n",
        "  #ticker = yf.Ticker(symbol)\n",
        "\n",
        "  df = ticker.history(start=from_date, interval=\"1d\")\n",
        "  #print(df.info())\n",
        "  df['Date'] = pd.to_datetime(df.index)\n",
        "  df['Date'] = df['Date'].apply(mpl_dates.date2num)\n",
        "  #df = df.loc[:,['Date', 'Open', 'High', 'Low', 'Close']]\n",
        "  df['MA21'] = df['Close'].ewm(span=21, adjust=False).mean()\n",
        "  df['MA50'] = df['Close'].rolling(window=50).mean()\n",
        "  df['MA100'] = df['Close'].rolling(window=100).mean()\n",
        "  df['MA200'] = df['Close'].rolling(window=200).mean()\n",
        "  return df\n",
        "\n",
        "def is_support(df,i):\n",
        "  cond1 = df['Low'][i] < df['Low'][i-1] \n",
        "  cond2 = df['Low'][i] < df['Low'][i+1] \n",
        "  cond3 = df['Low'][i+1] < df['Low'][i+2] \n",
        "  cond4 = df['Low'][i-1] < df['Low'][i-2]\n",
        "  return (cond1 and cond2 and cond3 and cond4)\n",
        "\n",
        "def is_resistance(df,i):\n",
        "  cond1 = df['High'][i] > df['High'][i-1] \n",
        "  cond2 = df['High'][i] > df['High'][i+1] \n",
        "  cond3 = df['High'][i+1] > df['High'][i+2] \n",
        "  cond4 = df['High'][i-1] > df['High'][i-2]\n",
        "  return (cond1 and cond2 and cond3 and cond4)\n",
        "\n",
        "def is_far_from_level(value, levels, df):\n",
        "    ave =  np.mean(df['High'] - df['Low'])\n",
        "    return np.sum([abs(value - level) < ave for level in levels]) == 0\n",
        "\n",
        "def plot_all(levels, df):\n",
        "    fig, ax = plt.subplots(figsize=(16, 9), dpi=300)\n",
        "    candlestick_ohlc(ax,df.values,width=0.6, colorup='green', colordown='red', alpha=0.8)\n",
        "    date_format = mpl_dates.DateFormatter('%d %b %Y')\n",
        "    ax.xaxis.set_major_formatter(date_format)\n",
        "    for level in levels:\n",
        "        plt.hlines(level[1], xmin=df['Date'][level[0]], xmax=max(df['Date']), colors='blue', linestyle='--')\n",
        "    fig.show()\n",
        "\n",
        "def findNearestGreaterThan(searchVal, inputData):\n",
        "    diff = inputData - searchVal\n",
        "    diff[diff<0] = np.inf\n",
        "    idx = diff.argmin()\n",
        "    return inputData[idx]\n",
        "\n",
        "\n",
        "def findNearestLessThan(searchVal, inputData):\n",
        "    diff = inputData - searchVal\n",
        "    diff[diff>0] = -np.inf\n",
        "    idx = diff.argmax()\n",
        "    return inputData[idx]\n",
        "\n",
        "def indicators(chart_df):\n",
        "  # MACD\n",
        "  macd = MACD(close=chart_df['Close'], \n",
        "            window_slow=26,\n",
        "            window_fast=12, \n",
        "            window_sign=9)\n",
        "  # stochastics\n",
        "  stoch = StochasticOscillator(high=chart_df['High'],\n",
        "                             close=chart_df['Close'],\n",
        "                             low=chart_df['Low'],\n",
        "                             window=14, \n",
        "                             smooth_window=3)\n",
        "\n",
        "  rsi = RSIIndicator(close=chart_df['Close'], window=14)\n",
        "  return macd, stoch, rsi"
      ],
      "metadata": {
        "id": "jyYPSEVcsEFj"
      },
      "execution_count": null,
      "outputs": []
    },
    {
      "cell_type": "code",
      "source": [
        "def calculate_levels(chart_df):\n",
        "  levels = []\n",
        "  low = 0\n",
        "  high = np.round(chart_df['Close'].max(),1)\n",
        "  for i in range(2,len(chart_df)-2):\n",
        "    if is_support(chart_df,i):\n",
        "      low = chart_df['Low'][i]\n",
        "    if is_far_from_level(low, levels, chart_df):\n",
        "      levels.append(low)\n",
        "    elif is_resistance(df,i):\n",
        "      high = chart_df['High'][i]\n",
        "    if is_far_from_level(high, levels, chart_df):\n",
        "      levels.append(high)\n",
        "  levels = sorted(levels, reverse=True)\n",
        "\n",
        "  last_day_df = chart_df[-1:]\n",
        "  close_price = np.round(last_day_df['Close'][0],1)\n",
        "\n",
        "  min_level = np.round(findNearestLessThan(close_price,levels),1)\n",
        "  if(min_level > close_price):\n",
        "    min_level = np.round(close_price * 0.8,1)\n",
        "\n",
        "  max_level = np.round(findNearestGreaterThan(close_price,levels),1)\n",
        "  if(max_level < close_price):\n",
        "    max_level = np.round(close_price * 1.2,1)\n",
        "\n",
        "  print('close_price',close_price,'min_level:',min_level,'max_level:', max_level)\n",
        "  return levels, min_level, max_level"
      ],
      "metadata": {
        "id": "cBDM1rHHKZSf"
      },
      "execution_count": null,
      "outputs": []
    },
    {
      "cell_type": "code",
      "source": [
        "def options_chain(ticker):\n",
        "\n",
        "    #tk = yf.Ticker(symbol)\n",
        "    # Expiration dates\n",
        "    exps = ticker.options\n",
        "\n",
        "    # Get options for each expiration\n",
        "    options = pd.DataFrame()\n",
        "    for e in exps:\n",
        "        opt = ticker.option_chain(e)\n",
        "        opt = pd.DataFrame().append(opt.calls).append(opt.puts)\n",
        "        opt['expirationDate'] = e\n",
        "        options = options.append(opt, ignore_index=True)\n",
        "\n",
        "    # Bizarre error in yfinance that gives the wrong expiration date\n",
        "    # Add 1 day to get the correct expiration date\n",
        "    options['expirationDate'] = pd.to_datetime(options['expirationDate'])\n",
        "    options['dte'] = (options['expirationDate'] - datetime.today()).dt.days \n",
        "    options['expirationDate'] = options['expirationDate'].dt.date\n",
        "    # Boolean column if the option is a CALL\n",
        "    options['CALL'] = options['contractSymbol'].str[4:].apply(\n",
        "        lambda x: \"C\" in x)\n",
        "    \n",
        "    options[['bid', \n",
        "             'ask', \n",
        "             'strike', \n",
        "             'lastPrice', \n",
        "             'volume',\n",
        "             'change',\n",
        "             'percentChange',\n",
        "             'openInterest',\n",
        "             'impliedVolatility']] = options[[\n",
        "                                   'bid', \n",
        "                                   'ask', \n",
        "                                   'strike',\n",
        "                                   'lastPrice',\n",
        "                                   'volume',\n",
        "                                   'change',\n",
        "                                   'percentChange',\n",
        "                                   'openInterest',\n",
        "                                   'impliedVolatility']].apply(pd.to_numeric)\n",
        "    \n",
        "    options['mark'] = np.round(((options['bid'] + options['ask']) / 2),2) # Calculate the midpoint of the bid-ask\n",
        "    \n",
        "    # Drop unnecessary and meaningless columns\n",
        "    #options = options.drop(columns = ['contractSize', 'currency', 'change', 'percentChange', 'lastTradeDate', 'lastPrice'])\n",
        "\n",
        "    return options"
      ],
      "metadata": {
        "id": "R2FEIo4xTL-w"
      },
      "execution_count": 254,
      "outputs": []
    },
    {
      "cell_type": "code",
      "source": [
        "def find_level_optionInterests(ticker,close_price,min_level,max_level):\n",
        "  options_df = options_chain(ticker)\n",
        "  options_df['impliedVolatility'] = np.round(options_df['impliedVolatility'],2)\n",
        "  #expirationDates = options_df['expirationDate'].unique()\n",
        "  #print(sorted(expirationDates))\n",
        "\n",
        "  #PUT_options_df = pd.DataFrame()\n",
        "  #CALL_options_df = pd.DataFrame()\n",
        "\n",
        "  #for key, value in options_df.items():\n",
        "  #  date = key\n",
        "  #  rsi = float(value.get('RSI'))\n",
        "  #  rsi_data.append([date,rsi])\n",
        "#  print('PUT OPTIONS', 'CLOSE PRICE:',close_price, 'SUPPORT -15%:', np.round(min_level * 0.85,2), 'RESISTANCE +15%:', np.round(max_level * 1.15,2))\n",
        "  PUT_options_df = options_df.query('CALL == False and strike>' + str(min_level * 0.85) + ' and strike<' + str(max_level * 1.15))\n",
        "  put_index = PUT_options_df[\"openInterest\"].idxmax()\n",
        "  PUT_options_df = PUT_options_df.drop(columns = ['contractSize', 'currency','percentChange','change', 'lastTradeDate', 'lastPrice', 'inTheMoney','contractSymbol']) \n",
        "#  print(tabulate(PUT_options_df.loc[put_index:put_index], headers = 'keys', tablefmt = 'psql'))\n",
        "\n",
        "#  print('CALL OPTIONS', 'CLOSE PRICE:',close_price, 'SUPPORT -15%:', np.round(min_level * 0.85,2), 'RESISTANCE +15%:', np.round(max_level * 1.15,2))\n",
        "  CALL_options_df = options_df.query('CALL == True and strike>' + str(min_level * 0.85) + ' and strike<' + str(max_level * 1.15))\n",
        "  call_index = CALL_options_df[\"openInterest\"].idxmax()\n",
        "  CALL_options_df = CALL_options_df.drop(columns = ['contractSize', 'currency','percentChange', 'change', 'lastTradeDate', 'lastPrice', 'inTheMoney','contractSymbol']) \n",
        "#  print(tabulate(CALL_options_df.loc[call_index:call_index], headers = 'keys', tablefmt = 'psql'))\n",
        "  return PUT_options_df.loc[put_index:put_index], CALL_options_df.loc[call_index:call_index]"
      ],
      "metadata": {
        "id": "fbz2SVTOTwki"
      },
      "execution_count": 256,
      "outputs": []
    },
    {
      "cell_type": "code",
      "source": [
        "def get_chart(ticker, df, days):\n",
        "  last_day_df = df[-1:]\n",
        "  last_date = last_day_df['Date'].index[0].date()\n",
        "  close_price = np.round(last_day_df['Close'][0],1)\n",
        "\n",
        "  ath = np.round(df['Close'].max(),1)\n",
        "  discount = np.round(ath - close_price,1)\n",
        "  discount_percent = np.round((discount / close_price) * 100, 1)\n",
        "  \n",
        "  chart_df = df.tail(days)\n",
        "\n",
        "  macd, soch, rsi = indicators(chart_df)\n",
        "  levels, min_level, max_level = calculate_levels(chart_df)\n",
        "  PUT_options_df, CALL_options_df = find_level_optionInterests(ticker,close_price,min_level,max_level)\n",
        "  options_df = pd.DataFrame()\n",
        "  options_df = options_df.append(PUT_options_df)\n",
        "  options_df = options_df.append(CALL_options_df)\n",
        "\n",
        "  tradingview_link = '<a href=\"https://in.tradingview.com/chart/66XmQfYy/?symbol=' + ticker.ticker +'\">' + ticker.ticker +'</a> '\n",
        "  seeking_alpha_link = '<a href=\"https://seekingalpha.com/symbol/'+ ticker.ticker +'\"> Seeking Alpha </a> '\n",
        "  title = '<b>' + tradingview_link + '</b> ' + seeking_alpha_link +' <b>Date:</b>' + str(last_date) + ' <b>Close Price:</b>' + str(close_price) \n",
        "  title += '<br><b>Support:</b>' + str(min_level) + ' <b>Resistance:</b>' + str(max_level) + ' <b>ATH:</b>' + str(ath) + ' <b>Discount:</b>' + str(discount) + ' (' + str(discount_percent) + '%)'\n",
        "  title += '<br>' \n",
        "  title += 'Support -15%:<b>' + str(np.round(min_level * 0.85,2)) + '</b> '\n",
        "  title += 'Resistance +15%:<b>' + str(np.round(max_level * 1.15,2)) +'</b> '\n",
        "  \n",
        "  # add subplot properties when initiliazing fig variable\n",
        "  fig = make_subplots(rows=5, cols=1, shared_xaxes=True,\n",
        "                    vertical_spacing=0.01, \n",
        "                    row_heights=[0.11,0.49,0.1,0.1,0.2],\n",
        "                    subplot_titles=[title],\n",
        "                    specs=[\n",
        "                           [{\"type\": \"table\"}],\n",
        "                           [{\"type\": \"candlestick\"}],\n",
        "                           [{\"type\": \"bar\"}],\n",
        "                           [{\"type\": \"scatter\"}],\n",
        "                           [{\"type\": \"scatter\"}]\n",
        "                           ])\n",
        "\n",
        "  fig.update_layout(\n",
        "      height=900, width=1200, \n",
        "      showlegend=True,\n",
        "      dragmode= 'pan', \n",
        "      margin=go.layout.Margin(\n",
        "          l=20, #left margin\n",
        "          r=20, #right margin\n",
        "          b=20, #bottom margin\n",
        "          t=100  #top margin\n",
        "      ))\n",
        "\n",
        "\n",
        "  fig.add_trace(\n",
        "      go.Table(\n",
        "        header=dict(values=list(options_df.columns),\n",
        "                fill_color='paleturquoise',\n",
        "                font=dict(color='black', size=12),\n",
        "                align='left'),\n",
        "        cells=dict(values=options_df.transpose().values.tolist(),\n",
        "               fill_color='lavender',\n",
        "               align='left')\n",
        "        ),row=1, col=1)\n",
        "  \n",
        "  # Plot OHLC on 1st subplot (using the codes from before)\n",
        "  fig.add_trace(go.Candlestick(x=chart_df.index,\n",
        "                             open=chart_df['Open'],\n",
        "                             high=chart_df['High'],\n",
        "                             low=chart_df['Low'],\n",
        "                             close=chart_df['Close'], \n",
        "                             name=ticker.ticker,\n",
        "                             showlegend=True), row=2, col=1)\n",
        "  \n",
        "\n",
        "  # add moving average traces\n",
        "  fig.add_trace(go.Scatter(x=chart_df.index, \n",
        "                         y=chart_df['MA21'], \n",
        "                         line=dict(color='green', width=2), \n",
        "                         name='MA 21'), row=2, col=1)\n",
        "  fig.add_trace(go.Scatter(x=chart_df.index, \n",
        "                         y=chart_df['MA50'], \n",
        "                         line=dict(color='blue', width=2), \n",
        "                         name='MA 50'), row=2, col=1)\n",
        "  fig.add_trace(go.Scatter(x=chart_df.index, \n",
        "                         y=chart_df['MA100'], \n",
        "                         line=dict(color='orange', width=2), \n",
        "                         name='MA 100'), row=2, col=1)\n",
        "  fig.add_trace(go.Scatter(x=chart_df.index, \n",
        "                         y=chart_df['MA200'], \n",
        "                         line=dict(color='red', width=2), \n",
        "                         name='MA 200'), row=2, col=1)\n",
        "\n",
        "\n",
        "  start_date = \"2021-06-01\"\n",
        "  end_date = \"2022-01-31\"\n",
        "  zoom_df = chart_df.iloc[chart_df.index >= start_date]\n",
        "  y_zoom_max = zoom_df[\"High\"].max()\n",
        "  y_zoom_min = zoom_df[\"Low\"].min()\n",
        "\n",
        "  ath_percent = 0\n",
        "  \n",
        "  for idx, level in  enumerate(levels):\n",
        "      percent = 0\n",
        "      if idx == 0:\n",
        "        ath = level\n",
        "      current_level = level\n",
        "      if idx > 0:\n",
        "        prev_level = levels[idx-1]\n",
        "        diff = prev_level - current_level\n",
        "        ath_diff = ath - current_level\n",
        "        percent = (diff / current_level) * 100\n",
        "        ath_percent =  (ath_diff / current_level) * 100\n",
        "      if level <= (min_level * 0.85) or level >= (max_level * 1.15):\n",
        "        line_color = 'rgba(100, 10, 100, 0.2)'\n",
        "      else:\n",
        "        line_color = 'rgba(200, 20, 200, 0.8)'\n",
        "      fig.add_trace(go.Scatter(\n",
        "          x = [chart_df.index.min(), chart_df.index.max()],\n",
        "          y = [level, level],\n",
        "          mode=\"lines+text\",\n",
        "          name=\"Lines and Text\",\n",
        "          showlegend=False,\n",
        "          text=['','$' + str(np.round(current_level,1)) + ' (' + str(np.round(percent,1)) + '% disc:' + str(np.round(ath_percent,1))+ '%)',''],\n",
        "          textposition=\"top right\",\n",
        "          line = dict(shape = 'linear', color = line_color, dash = 'dash', width=1)\n",
        "        ), row=2, col=1)\n",
        "\n",
        "\n",
        "  # Plot volume trace on 3d row \n",
        "  colors = ['green' if row['Open'] - row['Close'] >= 0 \n",
        "            else 'red' for index, row in chart_df.iterrows()]\n",
        "  fig.add_trace(go.Bar(x=chart_df.index, \n",
        "                      y=chart_df['Volume'],\n",
        "                      marker_color=colors,\n",
        "                      name='Volume'\n",
        "                      ), row=3, col=1)\n",
        "\n",
        "\n",
        "  # Plot MACD trace on 3rd row\n",
        "  colors = ['green' if val >= 0 \n",
        "            else '#FF5733' for val in macd.macd_diff()]\n",
        "  fig.add_trace(go.Bar(x=chart_df.index, \n",
        "                      y=macd.macd_diff(),\n",
        "                      marker_color=colors,\n",
        "                      name='MACD diff'\n",
        "                      ), row=4, col=1)\n",
        "  fig.add_trace(go.Scatter(x=chart_df.index,\n",
        "                          y=macd.macd(),\n",
        "                          line=dict(color='orange', width=2),\n",
        "                          name='MACD'\n",
        "                          ), row=4, col=1)\n",
        "  fig.add_trace(go.Scatter(x=chart_df.index,\n",
        "                          y=macd.macd_signal(),\n",
        "                          line=dict(color='blue', width=1),\n",
        "                          name='MACD signal'\n",
        "                          ), row=4, col=1)\n",
        "\n",
        "\n",
        "  fig.add_trace(go.Scatter(x=chart_df.index,\n",
        "                          y=rsi.rsi(),\n",
        "                          line=dict(color='black', width=2),\n",
        "                          name='RSI(14)'\n",
        "                          ), row=5, col=1)\n",
        "\n",
        "\n",
        "\n",
        "\n",
        "\n",
        "  fig.update_xaxes(type=\"date\", range=[start_date, end_date])\n",
        "  fig.update_yaxes(range=[y_zoom_min,y_zoom_max], row=2, col=1)\n",
        "\n",
        "#  for idx, level in  enumerate(levels):\n",
        "#    fig.add_hline(level,row=2, col=1)\n",
        "\n",
        "  fig.update_layout(xaxis_rangeslider_visible=False)\n",
        "  # removing all empty dates\n",
        "  # build complete timeline from start date to end date\n",
        "  dt_all = pd.date_range(start=chart_df.index[0],end=chart_df.index[-1])\n",
        "  # retrieve the dates that ARE in the original datset\n",
        "  dt_obs = [d.strftime(\"%Y-%m-%d\") for d in pd.to_datetime(chart_df.index)]\n",
        "  # define dates with missing values\n",
        "  dt_breaks = [d for d in dt_all.strftime(\"%Y-%m-%d\").tolist() if not d in dt_obs]\n",
        "\n",
        "  fig.update_layout(xaxis_rangebreaks=[dict(values=dt_breaks)])\n",
        "  fig.update_yaxes(showspikes=True, spikemode='across', spikesnap='cursor',spikedash='dash')\n",
        "  fig.update_xaxes(showspikes=True, spikemode='across', spikesnap='cursor', spikedash='dash')\n",
        "  config = dict({'scrollZoom': True})\n",
        "\n",
        "  folder='/content/drive/MyDrive/models/charts/'+ str(last_date)\n",
        "  Path(folder).mkdir(parents=True, exist_ok=True)\n",
        "  print('chart folder:', folder)\n",
        "  fig.write_html(folder + '/' + ticker.ticker + '.html') \n",
        "  return fig"
      ],
      "metadata": {
        "id": "__5S41Y6xHQr"
      },
      "execution_count": null,
      "outputs": []
    },
    {
      "cell_type": "code",
      "source": [
        "ticker = yf.Ticker(\"FB\")\n",
        "df = get_stock_price(ticker,\"2019-01-01\")\n",
        "fig = get_chart(ticker, df, 365)\n",
        "fig.show()"
      ],
      "metadata": {
        "colab": {
          "base_uri": "https://localhost:8080/",
          "height": 1000
        },
        "id": "3tsG8hRUQH8Y",
        "outputId": "778df5e5-2cd2-437f-d163-da7ecc16ed66"
      },
      "execution_count": 257,
      "outputs": [
        {
          "output_type": "stream",
          "name": "stdout",
          "text": [
            "close_price 334.2 min_level: 331.9 max_level: 342.5\n"
          ]
        },
        {
          "output_type": "stream",
          "name": "stderr",
          "text": [
            "/usr/local/lib/python3.7/dist-packages/ipykernel_launcher.py:109: RuntimeWarning:\n",
            "\n",
            "divide by zero encountered in double_scalars\n",
            "\n",
            "/usr/local/lib/python3.7/dist-packages/ipykernel_launcher.py:110: RuntimeWarning:\n",
            "\n",
            "divide by zero encountered in double_scalars\n",
            "\n"
          ]
        },
        {
          "output_type": "stream",
          "name": "stdout",
          "text": [
            "chart folder: /content/drive/MyDrive/models/charts/2021-12-21\n"
          ]
        },
        {
          "output_type": "display_data",
          "data": {
            "text/html": [
              "<html>\n",
              "<head><meta charset=\"utf-8\" /></head>\n",
              "<body>\n",
              "    <div>            <script src=\"https://cdnjs.cloudflare.com/ajax/libs/mathjax/2.7.5/MathJax.js?config=TeX-AMS-MML_SVG\"></script><script type=\"text/javascript\">if (window.MathJax) {MathJax.Hub.Config({SVG: {font: \"STIX-Web\"}});}</script>                <script type=\"text/javascript\">window.PlotlyConfig = {MathJaxConfig: 'local'};</script>\n",
              "        <script src=\"https://cdn.plot.ly/plotly-2.8.3.min.js\"></script>                <div id=\"0dfb1436-43b2-4df1-9159-21568147284f\" class=\"plotly-graph-div\" style=\"height:900px; width:1200px;\"></div>            <script type=\"text/javascript\">                                    window.PLOTLYENV=window.PLOTLYENV || {};                                    if (document.getElementById(\"0dfb1436-43b2-4df1-9159-21568147284f\")) {                    Plotly.newPlot(                        \"0dfb1436-43b2-4df1-9159-21568147284f\",                        [{\"cells\":{\"align\":\"left\",\"fill\":{\"color\":\"lavender\"},\"values\":[[330.0,350.0],[9.9,5.5],[10.2,5.65],[5197.0,7142.0],[33176.0,33131.0],[0.31,0.3],[\"2022-01-21\",\"2022-01-21\"],[30,30],[false,true],[10.05,5.58]]},\"header\":{\"align\":\"left\",\"fill\":{\"color\":\"paleturquoise\"},\"font\":{\"color\":\"black\",\"size\":12},\"values\":[\"strike\",\"bid\",\"ask\",\"volume\",\"openInterest\",\"impliedVolatility\",\"expirationDate\",\"dte\",\"CALL\",\"mark\"]},\"type\":\"table\",\"domain\":{\"x\":[0.0,1.0],\"y\":[0.8944000000000001,1.0]}},{\"close\":[239.72999572753906,240.27999877929688,240.92999267578125,242.02999877929688,245.4199981689453,241.75,239.8699951171875,232.60000610351562,230.7100067138672,233.5,230.1199951171875,233.2899932861328,234.5,253.6699981689453,251.9600067138672,249.8300018310547,249.1199951171875,265.2799987792969,268.44000244140625,263.0,256.1300048828125,259.8900146484375,261.29998779296875,261.239990234375,261.1600036621094,262.3399963378906,262.5899963378906,269.010009765625,267.010009765625,271.3900146484375,280.82000732421875,303.9100036621094,293.2200012207031,293.6600036621094,293.20001220703125,295.44000244140625,302.5,291.1199951171875,282.7300109863281,271.1600036621094,273.7200012207031,268.0899963378906,266.6099853515625,266.1499938964844,272.4200134277344,263.5199890136719,254.82000732421875,252.52999877929688,248.14999389648438,254.75,249.02000427246094,249.52999877929688,254.82000732421875,256.82000732421875,261.7900085449219,261.8999938964844,266.6300048828125,259.94000244140625,264.6499938964844,258.6600036621094,258.1199951171875,263.760009765625,264.45001220703125,275.75,276.1400146484375,271.82000732421875,266.7200012207031,265.92999267578125,261.3999938964844,267.55999755859375,278.7300109863281,278.1199951171875,284.7900085449219,277.1099853515625,283.2900085449219,267.6700134277344,280.8299865722656,263.1099853515625,261.3599853515625,265.29998779296875,287.3800048828125,294.67999267578125,293.4100036621094,278.7699890136719,272.42999267578125,276.4800109863281,275.0799865722656,276.95001220703125,278.9599914550781,275.0,271.9700012207031,272.94000244140625,269.70001220703125,268.42999267578125,276.9200134277344,275.5899963378906,277.80999755859375,276.9700012207031,286.54998779296875,287.5199890136719,281.8500061035156,279.70001220703125,285.5799865722656,283.3999938964844,277.9200134277344,277.1199951171875,273.54998779296875,274.19000244140625,275.54998779296875,275.6700134277344,274.4800109863281,276.3999938964844,272.7900085449219,267.0899963378906,268.1099853515625,267.3999938964844,277.0,276.7799987792969,271.8699951171875,273.1600036621094,268.94000244140625,270.9700012207031,263.30999755859375,268.739990234375,267.57000732421875,256.8399963378906,251.08999633789062,251.63999938964844,245.63999938964844,251.36000061035156,261.1000061035156,267.4800109863281,272.8699951171875,274.5,278.010009765625,282.04998779296875,272.1400146484375,265.0,258.3299865722656,262.010009765625,267.0799865722656,266.6499938964844,266.489990234375,268.1000061035156,266.5799865722656,269.45001220703125,271.8699951171875,270.3900146484375,270.5,273.9700012207031,273.57000732421875,269.3900146484375,261.55999755859375,260.3299865722656,265.8599853515625,264.30999755859375,254.69000244140625,257.6199951171875,264.9100036621094,259.0,255.41000366210938,257.6400146484375,264.2799987792969,255.30999755859375,265.739990234375,264.8999938964844,273.8800048828125,268.3999938964844,273.75,279.2799987792969,284.010009765625,278.6199951171875,290.1099853515625,293.5400085449219,290.6300048828125,282.1400146484375,278.739990234375,283.0199890136719,290.82000732421875,288.0,294.5299987792969,298.6600036621094,308.9100036621094,306.260009765625,313.0899963378906,313.0199890136719,312.4599914550781,311.5400085449219,309.760009765625,302.82000732421875,307.82000732421875,306.17999267578125,302.239990234375,302.6499938964844,301.4700012207031,296.5199890136719,301.1300048828125,303.0400085449219,303.57000732421875,307.1000061035156,329.510009765625,325.0799865722656,322.5799865722656,318.3599853515625,315.0199890136719,320.0199890136719,319.0799865722656,305.9700012207031,306.5299987792969,302.54998779296875,305.260009765625,315.94000244140625,315.4599914550781,309.9599914550781,313.5899963378906,318.6099853515625,316.2300109863281,324.6300048828125,327.7900085449219,327.6600036621094,332.75,328.7300109863281,329.1300048828125,329.1499938964844,326.0400085449219,330.3500061035156,336.5799865722656,333.67999267578125,330.25,332.4599914550781,331.260009765625,336.7699890136719,336.75,331.0799865722656,336.510009765625,329.6600036621094,332.2900085449219,339.0299987792969,340.5899963378906,343.17999267578125,341.3699951171875,355.6400146484375,351.8900146484375,347.7099914550781,354.3900146484375,354.70001220703125,352.7799987792969,350.489990234375,345.6499938964844,350.4200134277344,353.1600036621094,352.0899963378906,347.6300048828125,344.4599914550781,341.1600036621094,336.95001220703125,341.6600036621094,346.2300109863281,351.19000244140625,369.7900085449219,372.4599914550781,367.80999755859375,373.2799987792969,358.32000732421875,356.29998779296875,351.95001220703125,351.239990234375,358.9200134277344,362.9700012207031,363.510009765625,361.6099853515625,361.1300048828125,359.9599914550781,362.6499938964844,363.17999267578125,366.55999755859375,358.45001220703125,355.45001220703125,355.1199951171875,359.3699951171875,363.3500061035156,365.510009765625,368.3900146484375,364.3800048828125,372.6300048828125,380.6600036621094,379.3800048828125,382.04998779296875,375.2799987792969,376.260009765625,382.17999267578125,377.57000732421875,378.0,378.69000244140625,376.510009765625,376.5299987792969,373.9200134277344,373.05999755859375,364.7200012207031,355.70001220703125,357.4800109863281,343.2099914550781,345.9599914550781,352.9599914550781,353.5799865722656,340.6499938964844,339.6099853515625,339.3900146484375,343.010009765625,326.2300109863281,332.9599914550781,333.6400146484375,329.2200012207031,330.04998779296875,325.45001220703125,323.7699890136719,324.5400085449219,328.5299987792969,324.760009765625,335.3399963378906,339.989990234375,340.7799987792969,341.8800048828125,324.6099853515625,328.69000244140625,315.80999755859375,312.2200012207031,316.9200134277344,323.57000732421875,329.9800109863281,328.0799865722656,331.6199951171875,335.8500061035156,341.1300048828125,338.6199951171875,335.3699951171875,327.6400146484375,327.739990234375,340.8900146484375,347.55999755859375,342.9599914550781,340.7699890136719,338.69000244140625,345.29998779296875,341.010009765625,337.25,341.05999755859375,333.1199951171875,338.0299987792969,324.4599914550781,310.6000061035156,310.3900146484375,306.8399963378906,317.8699951171875,322.80999755859375,330.55999755859375,329.82000732421875,329.75,334.489990234375,333.739990234375,341.6600036621094,334.8999938964844,333.7900085449219,325.45001220703125,334.20001220703125],\"high\":[240.3300018310547,244.82000732421875,241.75999450683594,244.16000366210938,246.0500030517578,246.91000366210938,241.89999389648438,242.4199981689453,233.49000549316406,234.9499969482422,234.9600067138672,233.6999969482422,234.88999938964844,255.85000610351562,255.39999389648438,252.8000030517578,252.27000427246094,266.6000061035156,278.8900146484375,273.8599853515625,265.9200134277344,263.8999938964844,265.1600036621094,262.6499938964844,264.1000061035156,265.1499938964844,267.9100036621094,269.6300048828125,270.489990234375,277.25,283.0899963378906,304.6700134277344,301.2300109863281,297.2300109863281,296.8800048828125,301.489990234375,303.6000061035156,297.6000061035156,289.0,279.29998779296875,278.4800109863281,279.1600036621094,271.3900146484375,276.6400146484375,274.5199890136719,272.44000244140625,261.5,259.20001220703125,249.9499969482422,255.32000732421875,257.989990234375,252.24000549316406,255.75,259.6000061035156,263.3299865722656,266.0799865722656,268.3299865722656,265.1499938964844,264.8699951171875,265.69000244140625,260.17999267578125,264.6199951171875,264.75,280.17999267578125,279.1000061035156,278.75,269.0400085449219,271.3699951171875,268.54998779296875,269.70001220703125,283.04998779296875,282.45001220703125,285.239990234375,285.2300109863281,284.510009765625,278.7900085449219,283.6000061035156,276.70001220703125,270.4700012207031,270.04998779296875,288.94000244140625,297.3800048828125,294.6000061035156,292.5799865722656,274.0,278.3999938964844,279.75,277.760009765625,279.4100036621094,277.67999267578125,277.3900146484375,273.4700012207031,273.0,270.95001220703125,277.82000732421875,280.17999267578125,279.1300048828125,277.70001220703125,289.29998779296875,291.7799987792969,286.6499938964844,283.4599914550781,288.489990234375,286.42999267578125,287.6300048828125,278.7300109863281,276.4800109863281,277.2200012207031,276.0799865722656,277.8599853515625,280.44000244140625,278.0,274.6700134277344,271.5,272.1700134277344,270.3999938964844,277.29998779296875,280.510009765625,278.0799865722656,277.0899963378906,275.0,272.3999938964844,267.75,271.6099853515625,268.95001220703125,263.4700012207031,259.7200012207031,253.9499969482422,255.02999877929688,253.86000061035156,262.20001220703125,270.32000732421875,273.6000061035156,278.4700012207031,280.1000061035156,285.3900146484375,283.45001220703125,286.7900085449219,266.55999755859375,264.1700134277344,268.8500061035156,269.20001220703125,268.1600036621094,269.1700134277344,269.8599853515625,273.3900146484375,273.79998779296875,273.5799865722656,271.17999267578125,276.6000061035156,273.9700012207031,271.95001220703125,270.2699890136719,263.07000732421875,267.4599914550781,266.3800048828125,266.94000244140625,265.54998779296875,266.6499938964844,266.7099914550781,260.989990234375,266.489990234375,265.45001220703125,265.5799865722656,268.5299987792969,268.9700012207031,277.8999938964844,269.739990234375,275.9599914550781,282.1400146484375,286.2300109863281,285.19000244140625,292.79998779296875,299.7099914550781,298.0,291.7200012207031,288.05999755859375,284.5,293.17999267578125,292.4700012207031,296.5,302.3999938964844,310.7699890136719,311.3500061035156,314.25,315.8800048828125,314.739990234375,312.1499938964844,314.42999267578125,308.0299987792969,310.1400146484375,308.95001220703125,307.70001220703125,305.1000061035156,301.9800109863281,302.9200134277344,302.5899963378906,305.79998779296875,305.3399963378906,310.9200134277344,331.80999755859375,329.82000732421875,328.54998779296875,322.19000244140625,321.05999755859375,320.239990234375,322.94000244140625,314.5799865722656,306.8399963378906,304.9599914550781,308.8599853515625,316.8500061035156,315.67999267578125,316.5,314.6600036621094,319.25,319.92999267578125,325.95001220703125,329.17999267578125,329.8299865722656,333.7799987792969,332.8699951171875,331.4200134277344,331.8699951171875,327.3800048828125,332.4599914550781,337.69000244140625,338.29998779296875,336.79998779296875,333.94000244140625,332.8299865722656,336.82000732421875,339.9200134277344,337.54998779296875,337.9800109863281,336.1499938964844,332.9200134277344,339.9200134277344,343.4200134277344,344.8999938964844,344.1199951171875,358.1400146484375,356.739990234375,352.9200134277344,354.6700134277344,356.44000244140625,358.7900085449219,356.489990234375,348.3299865722656,350.7099914550781,354.19000244140625,358.489990234375,355.20001220703125,349.2300109863281,345.989990234375,339.7900085449219,343.45001220703125,346.5199890136719,351.5400085449219,375.3299865722656,374.44000244140625,373.1499938964844,377.54998779296875,365.5199890136719,360.7300109863281,359.3999938964844,353.7699890136719,360.4800109863281,363.8999938964844,365.1499938964844,365.7799987792969,364.1000061035156,362.3599853515625,363.0,364.6600036621094,366.95001220703125,364.6700134277344,359.8599853515625,357.57000732421875,359.989990234375,365.69000244140625,367.9599914550781,370.8599853515625,369.44000244140625,373.739990234375,381.489990234375,382.760009765625,384.3299865722656,381.75,377.1600036621094,382.9599914550781,380.8699951171875,379.8299865722656,383.7900085449219,381.75,378.5899963378906,377.55999755859375,373.55999755859375,371.4100036621094,361.0299987792969,360.0400085449219,349.8399963378906,349.6700134277344,354.3500061035156,355.1499938964844,349.6000061035156,345.2300109863281,342.79998779296875,345.0199890136719,335.94000244140625,335.17999267578125,334.3800048828125,338.8399963378906,333.3999938964844,330.4599914550781,324.3800048828125,327.0,330.5199890136719,329.07000732421875,335.8900146484375,342.4599914550781,343.9800109863281,342.30999755859375,329.6300048828125,329.55999755859375,330.2099914550781,319.25,325.5199890136719,326.0,333.45001220703125,334.7900085449219,332.1499938964844,337.2699890136719,346.7900085449219,344.7900085449219,341.30999755859375,333.19000244140625,332.4599914550781,341.8599853515625,353.6499938964844,346.6499938964844,347.29998779296875,342.4599914550781,352.1000061035156,353.8299865722656,341.3999938964844,341.7799987792969,337.75,340.6700134277344,335.80999755859375,330.5,314.6000061035156,313.75,320.1000061035156,326.5400085449219,332.75,336.1300048828125,335.0299987792969,341.0899963378906,335.70001220703125,342.1099853515625,344.4599914550781,337.1099853515625,329.8999938964844,336.0],\"low\":[232.02999877929688,238.0500030517578,236.3300018310547,237.86000061035156,235.63999938964844,240.0800018310547,238.1199951171875,231.75,226.89999389648438,230.8300018310547,229.8300018310547,230.30999755859375,229.0,249.0,250.3300018310547,247.42999267578125,247.77000427246094,248.6699981689453,263.42999267578125,259.69000244140625,255.1300048828125,258.1099853515625,259.57000732421875,258.67999267578125,259.3999938964844,259.260009765625,261.3500061035156,261.4599914550781,266.4200134277344,268.7699890136719,270.260009765625,284.0,292.0199890136719,290.9800109863281,291.54998779296875,292.7099914550781,293.04998779296875,283.6300048828125,271.1400146484375,269.4200134277344,271.3500061035156,267.0299987792969,262.6400146484375,265.70001220703125,269.29998779296875,261.7900085449219,250.19000244140625,250.0500030517578,244.1300048828125,248.22000122070312,248.14999389648438,245.6199951171875,246.61000061035156,254.82000732421875,256.8999938964844,260.1000061035156,264.79998779296875,259.17999267578125,260.8399963378906,258.239990234375,254.82000732421875,259.1499938964844,262.1700134277344,267.8699951171875,273.3900146484375,271.5,263.6700134277344,265.29998779296875,259.8800048828125,262.8800048828125,276.3699951171875,275.0400085449219,276.82000732421875,274.260009765625,276.30999755859375,267.260009765625,273.7799987792969,259.1000061035156,257.3399963378906,260.8800048828125,278.6199951171875,288.95001220703125,288.05999755859375,278.5299987792969,264.0,272.4800109863281,274.42999267578125,273.1000061035156,274.6300048828125,273.2900085449219,271.8399963378906,269.19000244140625,269.4100036621094,264.5299987792969,267.8699951171875,272.6499938964844,274.82000732421875,271.010009765625,278.9599914550781,280.8299865722656,281.07000732421875,279.29998779296875,278.20001220703125,281.54998779296875,271.75,271.8599853515625,270.25,271.55999755859375,267.4700012207031,272.510009765625,273.6099853515625,271.1400146484375,267.7900085449219,264.6300048828125,266.2300109863281,266.20001220703125,265.6600036621094,276.2799987792969,271.7099914550781,269.80999755859375,265.20001220703125,268.2099914550781,260.010009765625,264.7799987792969,263.17999267578125,255.89999389648438,250.3000030517578,249.1999969482422,244.61000061035156,247.16000366210938,252.72000122070312,263.6000061035156,267.489990234375,272.0,271.510009765625,277.80999755859375,268.1199951171875,264.70001220703125,254.85000610351562,254.91000366210938,263.2699890136719,263.8399963378906,264.0,265.6700134277344,265.0,265.75,267.7200012207031,268.489990234375,268.3399963378906,270.04998779296875,269.5799865722656,266.0299987792969,260.1499938964844,257.5299987792969,254.9600067138672,258.3900146484375,254.0399932861328,256.4700012207031,257.8999938964844,258.6499938964844,255.10000610351562,253.5,255.61000061035156,255.0500030517578,259.80999755859375,262.8699951171875,267.82000732421875,264.0199890136719,268.5,274.79998779296875,275.4100036621094,278.2799987792969,281.20001220703125,286.75,289.80999755859375,281.1600036621094,277.75,277.7699890136719,284.70001220703125,286.70001220703125,288.6099853515625,296.6000061035156,300.67999267578125,305.25,305.5,310.04998779296875,310.3299865722656,307.92999267578125,309.32000732421875,301.95001220703125,304.1000061035156,304.6099853515625,300.55999755859375,297.2099914550781,297.3900146484375,296.0400085449219,297.1499938964844,301.55999755859375,301.1099853515625,305.3699951171875,321.6099853515625,324.5,321.8399963378906,313.1199951171875,314.489990234375,313.2699890136719,318.75,304.8299865722656,299.69000244140625,298.19000244140625,302.7699890136719,309.0799865722656,311.5799865722656,309.80999755859375,303.57000732421875,313.1600036621094,315.80999755859375,318.0299987792969,324.79998779296875,325.82000732421875,326.760009765625,328.3299865722656,326.6400146484375,327.1199951171875,323.4800109863281,325.17999267578125,328.92999267578125,332.239990234375,330.0,328.54998779296875,328.92999267578125,329.80999755859375,335.0299987792969,328.7200012207031,330.1499938964844,329.0,327.6499938964844,332.6000061035156,338.20001220703125,341.7900085449219,339.67999267578125,341.7699890136719,349.04998779296875,347.1700134277344,346.5,352.6199951171875,349.17999267578125,350.0,342.55999755859375,345.2699890136719,349.6400146484375,348.79998779296875,346.7300109863281,340.2200012207031,340.1400146484375,334.5400085449219,334.5,341.25,345.2099914550781,357.19000244140625,368.2200012207031,364.54998779296875,366.92999267578125,356.739990234375,352.94000244140625,350.739990234375,347.70001220703125,351.510009765625,356.8999938964844,361.3999938964844,360.75,359.0400085449219,357.80999755859375,357.1099853515625,361.4800109863281,357.3800048828125,355.07000732421875,355.1499938964844,351.0,353.30999755859375,359.1000061035156,361.8399963378906,365.3999938964844,364.1300048828125,364.0799865722656,370.5199890136719,378.79998779296875,378.80999755859375,374.05999755859375,373.1099853515625,373.1499938964844,374.7900085449219,376.57000732421875,378.260009765625,374.3500061035156,375.1099853515625,367.6700134277344,369.7099914550781,361.5899963378906,349.79998779296875,355.19000244140625,340.69000244140625,343.0,342.3699951171875,347.0799865722656,338.9200134277344,338.8800048828125,338.1499938964844,338.6400146484375,322.70001220703125,326.1600036621094,325.79998779296875,328.9800109863281,328.7099914550781,325.30999755859375,317.3699951171875,322.6600036621094,327.1000061035156,322.510009765625,327.5,337.2799987792969,339.45001220703125,337.79998779296875,321.1099853515625,319.7200012207031,309.6000061035156,312.05999755859375,308.1099853515625,319.6000061035156,326.0,323.79998779296875,323.20001220703125,332.6499938964844,339.6400146484375,338.3399963378906,334.4700012207031,325.510009765625,327.0,329.7799987792969,343.20001220703125,340.8699951171875,340.1000061035156,335.29998779296875,339.8999938964844,340.510009765625,333.5,332.80999755859375,331.8999938964844,335.30999755859375,323.42999267578125,310.2900085449219,307.20001220703125,299.5,306.3399963378906,321.0,323.07000732421875,328.0,326.3699951171875,329.5899963378906,327.6499938964844,323.9800109863281,333.739990234375,330.75,322.5299987792969,323.75],\"name\":\"FB\",\"open\":[236.75999450683594,241.5500030517578,238.0,241.0,240.05999755859375,246.22000122070312,240.25999450683594,239.6300048828125,230.19000244140625,231.4600067138672,234.6300048828125,231.13999938964844,230.22000122070312,255.82000732421875,252.64999389648438,251.55999755859375,250.19000244140625,249.0399932861328,264.0799865722656,268.0400085449219,260.19000244140625,258.9700012207031,261.54998779296875,262.30999755859375,262.5,260.95001220703125,261.3900146484375,261.5,268.69000244140625,271.07000732421875,272.4100036621094,284.0,300.1600036621094,295.0,293.95001220703125,294.7099914550781,298.8800048828125,295.989990234375,287.25,271.2799987792969,275.7699890136719,275.510009765625,270.05999755859375,270.95001220703125,270.6700134277344,267.2900085449219,258.2799987792969,258.3999938964844,247.5399932861328,253.30999755859375,255.25999450683594,246.5,249.39999389648438,259.3999938964844,257.80999755859375,261.9800109863281,265.3500061035156,261.2099914550781,262.20001220703125,261.7799987792969,259.2099914550781,259.75,264.5199890136719,270.20001220703125,277.5799865722656,277.6199951171875,267.6000061035156,267.3800048828125,265.5299987792969,263.05999755859375,279.55999755859375,279.8699951171875,278.79998779296875,283.1600036621094,278.760009765625,278.7900085449219,276.54998779296875,274.5,264.6000061035156,263.1600036621094,281.0,291.8999938964844,293.95001220703125,289.8699951171875,273.1000061035156,273.4700012207031,277.17999267578125,277.7200012207031,275.04998779296875,277.67999267578125,274.5199890136719,271.0199890136719,272.55999755859375,270.8900146484375,268.489990234375,278.1400146484375,277.3900146484375,276.0299987792969,279.1600036621094,285.3599853515625,286.25,280.29998779296875,279.19000244140625,286.010009765625,283.6600036621094,275.5400085449219,274.5299987792969,273.3699951171875,274.8299865722656,274.760009765625,277.07000732421875,275.7699890136719,272.9800109863281,271.5,266.8900146484375,268.8800048828125,268.739990234375,276.95001220703125,277.95001220703125,272.0,274.7799987792969,268.2900085449219,262.0,265.8999938964844,268.30999755859375,260.4800109863281,256.6300048828125,251.5500030517578,253.39999389648438,247.89999389648438,256.8999938964844,268.92999267578125,269.260009765625,272.010009765625,278.1400146484375,278.1400146484375,282.5299987792969,277.17999267578125,265.29998779296875,259.5199890136719,264.0,265.6199951171875,267.010009765625,266.79998779296875,268.75,266.44000244140625,272.45001220703125,271.8900146484375,270.5199890136719,270.79998779296875,271.239990234375,269.57000732421875,269.8599853515625,257.95001220703125,259.5,262.3299865722656,262.29998779296875,256.4700012207031,260.82000732421875,265.7799987792969,260.2900085449219,256.4700012207031,260.6700134277344,265.54998779296875,261.17999267578125,268.6400146484375,268.1099853515625,269.1400146484375,269.0799865722656,276.0799865722656,275.7099914550781,279.8699951171875,281.2200012207031,290.45001220703125,293.1499938964844,291.0,280.9800109863281,278.29998779296875,285.7699890136719,289.8299865722656,289.989990234375,298.3999938964844,300.8900146484375,308.8399963378906,306.3399963378906,314.8500061035156,311.3999938964844,311.04998779296875,312.2099914550781,307.29998779296875,306.3399963378906,308.1700134277344,305.010009765625,301.989990234375,301.95001220703125,301.3299865722656,298.760009765625,303.3399963378906,304.2799987792969,307.3599853515625,330.1199951171875,326.1400146484375,326.1700134277344,320.0199890136719,318.19000244140625,314.5199890136719,322.3800048828125,314.3500061035156,300.75,301.1300048828125,306.0799865722656,309.5400085449219,313.54998779296875,315.5899963378906,304.19000244140625,313.5799865722656,319.2900085449219,318.2099914550781,327.0799865722656,328.3500061035156,328.0,331.0,330.1499938964844,330.3800048828125,325.7799987792969,325.8999938964844,329.4800109863281,336.70001220703125,335.739990234375,330.7900085449219,332.5799865722656,331.8999938964844,336.989990234375,336.70001220703125,330.489990234375,334.5299987792969,331.0899963378906,332.69000244140625,339.3500061035156,341.8500061035156,342.5899963378906,342.4599914550781,356.2699890136719,352.1700134277344,346.82000732421875,355.1000061035156,356.5,355.260009765625,345.7300109863281,345.32000732421875,351.2300109863281,351.5,354.55999755859375,349.2300109863281,344.9100036621094,337.57000732421875,338.79998779296875,341.5,346.67999267578125,360.9100036621094,369.5799865722656,371.9100036621094,374.55999755859375,361.0,354.0,358.1000061035156,352.7300109863281,352.4200134277344,359.6400146484375,361.3999938964844,363.760009765625,361.8299865722656,362.1000061035156,358.45001220703125,362.9700012207031,362.5199890136719,362.9800109863281,356.25,351.3500061035156,354.6000061035156,359.44000244140625,363.6600036621094,365.6000061035156,368.3800048828125,365.1000061035156,372.55999755859375,379.95001220703125,379.5899963378906,381.5,374.75,375.8800048828125,380.1600036621094,377.6400146484375,381.3599853515625,381.67999267578125,377.3999938964844,377.0,372.7900085449219,371.4100036621094,359.29998779296875,358.5,347.2300109863281,345.3599853515625,343.239990234375,349.80999755859375,347.9700012207031,343.1499938964844,340.45001220703125,341.6099853515625,335.5299987792969,328.5799865722656,329.739990234375,337.0,331.510009765625,327.6300048828125,323.0299987792969,326.9700012207031,328.3599853515625,328.67999267578125,328.95001220703125,339.6499938964844,343.45001220703125,340.2799987792969,326.3500061035156,320.29998779296875,328.260009765625,314.19000244140625,312.989990234375,320.19000244140625,326.0400085449219,331.3800048828125,327.489990234375,334.010009765625,340.30999755859375,344.4200134277344,340.0,332.489990234375,329.82000732421875,330.17999267578125,344.3399963378906,343.8299865722656,344.239990234375,339.7200012207031,342.20001220703125,349.04998779296875,338.92999267578125,336.0,335.79998779296875,336.8900146484375,335.0,330.2900085449219,311.3999938964844,313.7300109863281,308.1300048828125,321.57000732421875,325.0,329.5400085449219,332.55999755859375,330.95001220703125,328.04998779296875,332.489990234375,338.9800109863281,332.79998779296875,329.7799987792969,326.4100036621094],\"showlegend\":true,\"x\":[\"2020-07-14T00:00:00\",\"2020-07-15T00:00:00\",\"2020-07-16T00:00:00\",\"2020-07-17T00:00:00\",\"2020-07-20T00:00:00\",\"2020-07-21T00:00:00\",\"2020-07-22T00:00:00\",\"2020-07-23T00:00:00\",\"2020-07-24T00:00:00\",\"2020-07-27T00:00:00\",\"2020-07-28T00:00:00\",\"2020-07-29T00:00:00\",\"2020-07-30T00:00:00\",\"2020-07-31T00:00:00\",\"2020-08-03T00:00:00\",\"2020-08-04T00:00:00\",\"2020-08-05T00:00:00\",\"2020-08-06T00:00:00\",\"2020-08-07T00:00:00\",\"2020-08-10T00:00:00\",\"2020-08-11T00:00:00\",\"2020-08-12T00:00:00\",\"2020-08-13T00:00:00\",\"2020-08-14T00:00:00\",\"2020-08-17T00:00:00\",\"2020-08-18T00:00:00\",\"2020-08-19T00:00:00\",\"2020-08-20T00:00:00\",\"2020-08-21T00:00:00\",\"2020-08-24T00:00:00\",\"2020-08-25T00:00:00\",\"2020-08-26T00:00:00\",\"2020-08-27T00:00:00\",\"2020-08-28T00:00:00\",\"2020-08-31T00:00:00\",\"2020-09-01T00:00:00\",\"2020-09-02T00:00:00\",\"2020-09-03T00:00:00\",\"2020-09-04T00:00:00\",\"2020-09-08T00:00:00\",\"2020-09-09T00:00:00\",\"2020-09-10T00:00:00\",\"2020-09-11T00:00:00\",\"2020-09-14T00:00:00\",\"2020-09-15T00:00:00\",\"2020-09-16T00:00:00\",\"2020-09-17T00:00:00\",\"2020-09-18T00:00:00\",\"2020-09-21T00:00:00\",\"2020-09-22T00:00:00\",\"2020-09-23T00:00:00\",\"2020-09-24T00:00:00\",\"2020-09-25T00:00:00\",\"2020-09-28T00:00:00\",\"2020-09-29T00:00:00\",\"2020-09-30T00:00:00\",\"2020-10-01T00:00:00\",\"2020-10-02T00:00:00\",\"2020-10-05T00:00:00\",\"2020-10-06T00:00:00\",\"2020-10-07T00:00:00\",\"2020-10-08T00:00:00\",\"2020-10-09T00:00:00\",\"2020-10-12T00:00:00\",\"2020-10-13T00:00:00\",\"2020-10-14T00:00:00\",\"2020-10-15T00:00:00\",\"2020-10-16T00:00:00\",\"2020-10-19T00:00:00\",\"2020-10-20T00:00:00\",\"2020-10-21T00:00:00\",\"2020-10-22T00:00:00\",\"2020-10-23T00:00:00\",\"2020-10-26T00:00:00\",\"2020-10-27T00:00:00\",\"2020-10-28T00:00:00\",\"2020-10-29T00:00:00\",\"2020-10-30T00:00:00\",\"2020-11-02T00:00:00\",\"2020-11-03T00:00:00\",\"2020-11-04T00:00:00\",\"2020-11-05T00:00:00\",\"2020-11-06T00:00:00\",\"2020-11-09T00:00:00\",\"2020-11-10T00:00:00\",\"2020-11-11T00:00:00\",\"2020-11-12T00:00:00\",\"2020-11-13T00:00:00\",\"2020-11-16T00:00:00\",\"2020-11-17T00:00:00\",\"2020-11-18T00:00:00\",\"2020-11-19T00:00:00\",\"2020-11-20T00:00:00\",\"2020-11-23T00:00:00\",\"2020-11-24T00:00:00\",\"2020-11-25T00:00:00\",\"2020-11-27T00:00:00\",\"2020-11-30T00:00:00\",\"2020-12-01T00:00:00\",\"2020-12-02T00:00:00\",\"2020-12-03T00:00:00\",\"2020-12-04T00:00:00\",\"2020-12-07T00:00:00\",\"2020-12-08T00:00:00\",\"2020-12-09T00:00:00\",\"2020-12-10T00:00:00\",\"2020-12-11T00:00:00\",\"2020-12-14T00:00:00\",\"2020-12-15T00:00:00\",\"2020-12-16T00:00:00\",\"2020-12-17T00:00:00\",\"2020-12-18T00:00:00\",\"2020-12-21T00:00:00\",\"2020-12-22T00:00:00\",\"2020-12-23T00:00:00\",\"2020-12-24T00:00:00\",\"2020-12-28T00:00:00\",\"2020-12-29T00:00:00\",\"2020-12-30T00:00:00\",\"2020-12-31T00:00:00\",\"2021-01-04T00:00:00\",\"2021-01-05T00:00:00\",\"2021-01-06T00:00:00\",\"2021-01-07T00:00:00\",\"2021-01-08T00:00:00\",\"2021-01-11T00:00:00\",\"2021-01-12T00:00:00\",\"2021-01-13T00:00:00\",\"2021-01-14T00:00:00\",\"2021-01-15T00:00:00\",\"2021-01-19T00:00:00\",\"2021-01-20T00:00:00\",\"2021-01-21T00:00:00\",\"2021-01-22T00:00:00\",\"2021-01-25T00:00:00\",\"2021-01-26T00:00:00\",\"2021-01-27T00:00:00\",\"2021-01-28T00:00:00\",\"2021-01-29T00:00:00\",\"2021-02-01T00:00:00\",\"2021-02-02T00:00:00\",\"2021-02-03T00:00:00\",\"2021-02-04T00:00:00\",\"2021-02-05T00:00:00\",\"2021-02-08T00:00:00\",\"2021-02-09T00:00:00\",\"2021-02-10T00:00:00\",\"2021-02-11T00:00:00\",\"2021-02-12T00:00:00\",\"2021-02-16T00:00:00\",\"2021-02-17T00:00:00\",\"2021-02-18T00:00:00\",\"2021-02-19T00:00:00\",\"2021-02-22T00:00:00\",\"2021-02-23T00:00:00\",\"2021-02-24T00:00:00\",\"2021-02-25T00:00:00\",\"2021-02-26T00:00:00\",\"2021-03-01T00:00:00\",\"2021-03-02T00:00:00\",\"2021-03-03T00:00:00\",\"2021-03-04T00:00:00\",\"2021-03-05T00:00:00\",\"2021-03-08T00:00:00\",\"2021-03-09T00:00:00\",\"2021-03-10T00:00:00\",\"2021-03-11T00:00:00\",\"2021-03-12T00:00:00\",\"2021-03-15T00:00:00\",\"2021-03-16T00:00:00\",\"2021-03-17T00:00:00\",\"2021-03-18T00:00:00\",\"2021-03-19T00:00:00\",\"2021-03-22T00:00:00\",\"2021-03-23T00:00:00\",\"2021-03-24T00:00:00\",\"2021-03-25T00:00:00\",\"2021-03-26T00:00:00\",\"2021-03-29T00:00:00\",\"2021-03-30T00:00:00\",\"2021-03-31T00:00:00\",\"2021-04-01T00:00:00\",\"2021-04-05T00:00:00\",\"2021-04-06T00:00:00\",\"2021-04-07T00:00:00\",\"2021-04-08T00:00:00\",\"2021-04-09T00:00:00\",\"2021-04-12T00:00:00\",\"2021-04-13T00:00:00\",\"2021-04-14T00:00:00\",\"2021-04-15T00:00:00\",\"2021-04-16T00:00:00\",\"2021-04-19T00:00:00\",\"2021-04-20T00:00:00\",\"2021-04-21T00:00:00\",\"2021-04-22T00:00:00\",\"2021-04-23T00:00:00\",\"2021-04-26T00:00:00\",\"2021-04-27T00:00:00\",\"2021-04-28T00:00:00\",\"2021-04-29T00:00:00\",\"2021-04-30T00:00:00\",\"2021-05-03T00:00:00\",\"2021-05-04T00:00:00\",\"2021-05-05T00:00:00\",\"2021-05-06T00:00:00\",\"2021-05-07T00:00:00\",\"2021-05-10T00:00:00\",\"2021-05-11T00:00:00\",\"2021-05-12T00:00:00\",\"2021-05-13T00:00:00\",\"2021-05-14T00:00:00\",\"2021-05-17T00:00:00\",\"2021-05-18T00:00:00\",\"2021-05-19T00:00:00\",\"2021-05-20T00:00:00\",\"2021-05-21T00:00:00\",\"2021-05-24T00:00:00\",\"2021-05-25T00:00:00\",\"2021-05-26T00:00:00\",\"2021-05-27T00:00:00\",\"2021-05-28T00:00:00\",\"2021-06-01T00:00:00\",\"2021-06-02T00:00:00\",\"2021-06-03T00:00:00\",\"2021-06-04T00:00:00\",\"2021-06-07T00:00:00\",\"2021-06-08T00:00:00\",\"2021-06-09T00:00:00\",\"2021-06-10T00:00:00\",\"2021-06-11T00:00:00\",\"2021-06-14T00:00:00\",\"2021-06-15T00:00:00\",\"2021-06-16T00:00:00\",\"2021-06-17T00:00:00\",\"2021-06-18T00:00:00\",\"2021-06-21T00:00:00\",\"2021-06-22T00:00:00\",\"2021-06-23T00:00:00\",\"2021-06-24T00:00:00\",\"2021-06-25T00:00:00\",\"2021-06-28T00:00:00\",\"2021-06-29T00:00:00\",\"2021-06-30T00:00:00\",\"2021-07-01T00:00:00\",\"2021-07-02T00:00:00\",\"2021-07-06T00:00:00\",\"2021-07-07T00:00:00\",\"2021-07-08T00:00:00\",\"2021-07-09T00:00:00\",\"2021-07-12T00:00:00\",\"2021-07-13T00:00:00\",\"2021-07-14T00:00:00\",\"2021-07-15T00:00:00\",\"2021-07-16T00:00:00\",\"2021-07-19T00:00:00\",\"2021-07-20T00:00:00\",\"2021-07-21T00:00:00\",\"2021-07-22T00:00:00\",\"2021-07-23T00:00:00\",\"2021-07-26T00:00:00\",\"2021-07-27T00:00:00\",\"2021-07-28T00:00:00\",\"2021-07-29T00:00:00\",\"2021-07-30T00:00:00\",\"2021-08-02T00:00:00\",\"2021-08-03T00:00:00\",\"2021-08-04T00:00:00\",\"2021-08-05T00:00:00\",\"2021-08-06T00:00:00\",\"2021-08-09T00:00:00\",\"2021-08-10T00:00:00\",\"2021-08-11T00:00:00\",\"2021-08-12T00:00:00\",\"2021-08-13T00:00:00\",\"2021-08-16T00:00:00\",\"2021-08-17T00:00:00\",\"2021-08-18T00:00:00\",\"2021-08-19T00:00:00\",\"2021-08-20T00:00:00\",\"2021-08-23T00:00:00\",\"2021-08-24T00:00:00\",\"2021-08-25T00:00:00\",\"2021-08-26T00:00:00\",\"2021-08-27T00:00:00\",\"2021-08-30T00:00:00\",\"2021-08-31T00:00:00\",\"2021-09-01T00:00:00\",\"2021-09-02T00:00:00\",\"2021-09-03T00:00:00\",\"2021-09-07T00:00:00\",\"2021-09-08T00:00:00\",\"2021-09-09T00:00:00\",\"2021-09-10T00:00:00\",\"2021-09-13T00:00:00\",\"2021-09-14T00:00:00\",\"2021-09-15T00:00:00\",\"2021-09-16T00:00:00\",\"2021-09-17T00:00:00\",\"2021-09-20T00:00:00\",\"2021-09-21T00:00:00\",\"2021-09-22T00:00:00\",\"2021-09-23T00:00:00\",\"2021-09-24T00:00:00\",\"2021-09-27T00:00:00\",\"2021-09-28T00:00:00\",\"2021-09-29T00:00:00\",\"2021-09-30T00:00:00\",\"2021-10-01T00:00:00\",\"2021-10-04T00:00:00\",\"2021-10-05T00:00:00\",\"2021-10-06T00:00:00\",\"2021-10-07T00:00:00\",\"2021-10-08T00:00:00\",\"2021-10-11T00:00:00\",\"2021-10-12T00:00:00\",\"2021-10-13T00:00:00\",\"2021-10-14T00:00:00\",\"2021-10-15T00:00:00\",\"2021-10-18T00:00:00\",\"2021-10-19T00:00:00\",\"2021-10-20T00:00:00\",\"2021-10-21T00:00:00\",\"2021-10-22T00:00:00\",\"2021-10-25T00:00:00\",\"2021-10-26T00:00:00\",\"2021-10-27T00:00:00\",\"2021-10-28T00:00:00\",\"2021-10-29T00:00:00\",\"2021-11-01T00:00:00\",\"2021-11-02T00:00:00\",\"2021-11-03T00:00:00\",\"2021-11-04T00:00:00\",\"2021-11-05T00:00:00\",\"2021-11-08T00:00:00\",\"2021-11-09T00:00:00\",\"2021-11-10T00:00:00\",\"2021-11-11T00:00:00\",\"2021-11-12T00:00:00\",\"2021-11-15T00:00:00\",\"2021-11-16T00:00:00\",\"2021-11-17T00:00:00\",\"2021-11-18T00:00:00\",\"2021-11-19T00:00:00\",\"2021-11-22T00:00:00\",\"2021-11-23T00:00:00\",\"2021-11-24T00:00:00\",\"2021-11-26T00:00:00\",\"2021-11-29T00:00:00\",\"2021-11-30T00:00:00\",\"2021-12-01T00:00:00\",\"2021-12-02T00:00:00\",\"2021-12-03T00:00:00\",\"2021-12-06T00:00:00\",\"2021-12-07T00:00:00\",\"2021-12-08T00:00:00\",\"2021-12-09T00:00:00\",\"2021-12-10T00:00:00\",\"2021-12-13T00:00:00\",\"2021-12-14T00:00:00\",\"2021-12-15T00:00:00\",\"2021-12-16T00:00:00\",\"2021-12-17T00:00:00\",\"2021-12-20T00:00:00\",\"2021-12-21T00:00:00\"],\"type\":\"candlestick\",\"xaxis\":\"x\",\"yaxis\":\"y\"},{\"line\":{\"color\":\"green\",\"width\":2},\"name\":\"MA 21\",\"x\":[\"2020-07-14T00:00:00\",\"2020-07-15T00:00:00\",\"2020-07-16T00:00:00\",\"2020-07-17T00:00:00\",\"2020-07-20T00:00:00\",\"2020-07-21T00:00:00\",\"2020-07-22T00:00:00\",\"2020-07-23T00:00:00\",\"2020-07-24T00:00:00\",\"2020-07-27T00:00:00\",\"2020-07-28T00:00:00\",\"2020-07-29T00:00:00\",\"2020-07-30T00:00:00\",\"2020-07-31T00:00:00\",\"2020-08-03T00:00:00\",\"2020-08-04T00:00:00\",\"2020-08-05T00:00:00\",\"2020-08-06T00:00:00\",\"2020-08-07T00:00:00\",\"2020-08-10T00:00:00\",\"2020-08-11T00:00:00\",\"2020-08-12T00:00:00\",\"2020-08-13T00:00:00\",\"2020-08-14T00:00:00\",\"2020-08-17T00:00:00\",\"2020-08-18T00:00:00\",\"2020-08-19T00:00:00\",\"2020-08-20T00:00:00\",\"2020-08-21T00:00:00\",\"2020-08-24T00:00:00\",\"2020-08-25T00:00:00\",\"2020-08-26T00:00:00\",\"2020-08-27T00:00:00\",\"2020-08-28T00:00:00\",\"2020-08-31T00:00:00\",\"2020-09-01T00:00:00\",\"2020-09-02T00:00:00\",\"2020-09-03T00:00:00\",\"2020-09-04T00:00:00\",\"2020-09-08T00:00:00\",\"2020-09-09T00:00:00\",\"2020-09-10T00:00:00\",\"2020-09-11T00:00:00\",\"2020-09-14T00:00:00\",\"2020-09-15T00:00:00\",\"2020-09-16T00:00:00\",\"2020-09-17T00:00:00\",\"2020-09-18T00:00:00\",\"2020-09-21T00:00:00\",\"2020-09-22T00:00:00\",\"2020-09-23T00:00:00\",\"2020-09-24T00:00:00\",\"2020-09-25T00:00:00\",\"2020-09-28T00:00:00\",\"2020-09-29T00:00:00\",\"2020-09-30T00:00:00\",\"2020-10-01T00:00:00\",\"2020-10-02T00:00:00\",\"2020-10-05T00:00:00\",\"2020-10-06T00:00:00\",\"2020-10-07T00:00:00\",\"2020-10-08T00:00:00\",\"2020-10-09T00:00:00\",\"2020-10-12T00:00:00\",\"2020-10-13T00:00:00\",\"2020-10-14T00:00:00\",\"2020-10-15T00:00:00\",\"2020-10-16T00:00:00\",\"2020-10-19T00:00:00\",\"2020-10-20T00:00:00\",\"2020-10-21T00:00:00\",\"2020-10-22T00:00:00\",\"2020-10-23T00:00:00\",\"2020-10-26T00:00:00\",\"2020-10-27T00:00:00\",\"2020-10-28T00:00:00\",\"2020-10-29T00:00:00\",\"2020-10-30T00:00:00\",\"2020-11-02T00:00:00\",\"2020-11-03T00:00:00\",\"2020-11-04T00:00:00\",\"2020-11-05T00:00:00\",\"2020-11-06T00:00:00\",\"2020-11-09T00:00:00\",\"2020-11-10T00:00:00\",\"2020-11-11T00:00:00\",\"2020-11-12T00:00:00\",\"2020-11-13T00:00:00\",\"2020-11-16T00:00:00\",\"2020-11-17T00:00:00\",\"2020-11-18T00:00:00\",\"2020-11-19T00:00:00\",\"2020-11-20T00:00:00\",\"2020-11-23T00:00:00\",\"2020-11-24T00:00:00\",\"2020-11-25T00:00:00\",\"2020-11-27T00:00:00\",\"2020-11-30T00:00:00\",\"2020-12-01T00:00:00\",\"2020-12-02T00:00:00\",\"2020-12-03T00:00:00\",\"2020-12-04T00:00:00\",\"2020-12-07T00:00:00\",\"2020-12-08T00:00:00\",\"2020-12-09T00:00:00\",\"2020-12-10T00:00:00\",\"2020-12-11T00:00:00\",\"2020-12-14T00:00:00\",\"2020-12-15T00:00:00\",\"2020-12-16T00:00:00\",\"2020-12-17T00:00:00\",\"2020-12-18T00:00:00\",\"2020-12-21T00:00:00\",\"2020-12-22T00:00:00\",\"2020-12-23T00:00:00\",\"2020-12-24T00:00:00\",\"2020-12-28T00:00:00\",\"2020-12-29T00:00:00\",\"2020-12-30T00:00:00\",\"2020-12-31T00:00:00\",\"2021-01-04T00:00:00\",\"2021-01-05T00:00:00\",\"2021-01-06T00:00:00\",\"2021-01-07T00:00:00\",\"2021-01-08T00:00:00\",\"2021-01-11T00:00:00\",\"2021-01-12T00:00:00\",\"2021-01-13T00:00:00\",\"2021-01-14T00:00:00\",\"2021-01-15T00:00:00\",\"2021-01-19T00:00:00\",\"2021-01-20T00:00:00\",\"2021-01-21T00:00:00\",\"2021-01-22T00:00:00\",\"2021-01-25T00:00:00\",\"2021-01-26T00:00:00\",\"2021-01-27T00:00:00\",\"2021-01-28T00:00:00\",\"2021-01-29T00:00:00\",\"2021-02-01T00:00:00\",\"2021-02-02T00:00:00\",\"2021-02-03T00:00:00\",\"2021-02-04T00:00:00\",\"2021-02-05T00:00:00\",\"2021-02-08T00:00:00\",\"2021-02-09T00:00:00\",\"2021-02-10T00:00:00\",\"2021-02-11T00:00:00\",\"2021-02-12T00:00:00\",\"2021-02-16T00:00:00\",\"2021-02-17T00:00:00\",\"2021-02-18T00:00:00\",\"2021-02-19T00:00:00\",\"2021-02-22T00:00:00\",\"2021-02-23T00:00:00\",\"2021-02-24T00:00:00\",\"2021-02-25T00:00:00\",\"2021-02-26T00:00:00\",\"2021-03-01T00:00:00\",\"2021-03-02T00:00:00\",\"2021-03-03T00:00:00\",\"2021-03-04T00:00:00\",\"2021-03-05T00:00:00\",\"2021-03-08T00:00:00\",\"2021-03-09T00:00:00\",\"2021-03-10T00:00:00\",\"2021-03-11T00:00:00\",\"2021-03-12T00:00:00\",\"2021-03-15T00:00:00\",\"2021-03-16T00:00:00\",\"2021-03-17T00:00:00\",\"2021-03-18T00:00:00\",\"2021-03-19T00:00:00\",\"2021-03-22T00:00:00\",\"2021-03-23T00:00:00\",\"2021-03-24T00:00:00\",\"2021-03-25T00:00:00\",\"2021-03-26T00:00:00\",\"2021-03-29T00:00:00\",\"2021-03-30T00:00:00\",\"2021-03-31T00:00:00\",\"2021-04-01T00:00:00\",\"2021-04-05T00:00:00\",\"2021-04-06T00:00:00\",\"2021-04-07T00:00:00\",\"2021-04-08T00:00:00\",\"2021-04-09T00:00:00\",\"2021-04-12T00:00:00\",\"2021-04-13T00:00:00\",\"2021-04-14T00:00:00\",\"2021-04-15T00:00:00\",\"2021-04-16T00:00:00\",\"2021-04-19T00:00:00\",\"2021-04-20T00:00:00\",\"2021-04-21T00:00:00\",\"2021-04-22T00:00:00\",\"2021-04-23T00:00:00\",\"2021-04-26T00:00:00\",\"2021-04-27T00:00:00\",\"2021-04-28T00:00:00\",\"2021-04-29T00:00:00\",\"2021-04-30T00:00:00\",\"2021-05-03T00:00:00\",\"2021-05-04T00:00:00\",\"2021-05-05T00:00:00\",\"2021-05-06T00:00:00\",\"2021-05-07T00:00:00\",\"2021-05-10T00:00:00\",\"2021-05-11T00:00:00\",\"2021-05-12T00:00:00\",\"2021-05-13T00:00:00\",\"2021-05-14T00:00:00\",\"2021-05-17T00:00:00\",\"2021-05-18T00:00:00\",\"2021-05-19T00:00:00\",\"2021-05-20T00:00:00\",\"2021-05-21T00:00:00\",\"2021-05-24T00:00:00\",\"2021-05-25T00:00:00\",\"2021-05-26T00:00:00\",\"2021-05-27T00:00:00\",\"2021-05-28T00:00:00\",\"2021-06-01T00:00:00\",\"2021-06-02T00:00:00\",\"2021-06-03T00:00:00\",\"2021-06-04T00:00:00\",\"2021-06-07T00:00:00\",\"2021-06-08T00:00:00\",\"2021-06-09T00:00:00\",\"2021-06-10T00:00:00\",\"2021-06-11T00:00:00\",\"2021-06-14T00:00:00\",\"2021-06-15T00:00:00\",\"2021-06-16T00:00:00\",\"2021-06-17T00:00:00\",\"2021-06-18T00:00:00\",\"2021-06-21T00:00:00\",\"2021-06-22T00:00:00\",\"2021-06-23T00:00:00\",\"2021-06-24T00:00:00\",\"2021-06-25T00:00:00\",\"2021-06-28T00:00:00\",\"2021-06-29T00:00:00\",\"2021-06-30T00:00:00\",\"2021-07-01T00:00:00\",\"2021-07-02T00:00:00\",\"2021-07-06T00:00:00\",\"2021-07-07T00:00:00\",\"2021-07-08T00:00:00\",\"2021-07-09T00:00:00\",\"2021-07-12T00:00:00\",\"2021-07-13T00:00:00\",\"2021-07-14T00:00:00\",\"2021-07-15T00:00:00\",\"2021-07-16T00:00:00\",\"2021-07-19T00:00:00\",\"2021-07-20T00:00:00\",\"2021-07-21T00:00:00\",\"2021-07-22T00:00:00\",\"2021-07-23T00:00:00\",\"2021-07-26T00:00:00\",\"2021-07-27T00:00:00\",\"2021-07-28T00:00:00\",\"2021-07-29T00:00:00\",\"2021-07-30T00:00:00\",\"2021-08-02T00:00:00\",\"2021-08-03T00:00:00\",\"2021-08-04T00:00:00\",\"2021-08-05T00:00:00\",\"2021-08-06T00:00:00\",\"2021-08-09T00:00:00\",\"2021-08-10T00:00:00\",\"2021-08-11T00:00:00\",\"2021-08-12T00:00:00\",\"2021-08-13T00:00:00\",\"2021-08-16T00:00:00\",\"2021-08-17T00:00:00\",\"2021-08-18T00:00:00\",\"2021-08-19T00:00:00\",\"2021-08-20T00:00:00\",\"2021-08-23T00:00:00\",\"2021-08-24T00:00:00\",\"2021-08-25T00:00:00\",\"2021-08-26T00:00:00\",\"2021-08-27T00:00:00\",\"2021-08-30T00:00:00\",\"2021-08-31T00:00:00\",\"2021-09-01T00:00:00\",\"2021-09-02T00:00:00\",\"2021-09-03T00:00:00\",\"2021-09-07T00:00:00\",\"2021-09-08T00:00:00\",\"2021-09-09T00:00:00\",\"2021-09-10T00:00:00\",\"2021-09-13T00:00:00\",\"2021-09-14T00:00:00\",\"2021-09-15T00:00:00\",\"2021-09-16T00:00:00\",\"2021-09-17T00:00:00\",\"2021-09-20T00:00:00\",\"2021-09-21T00:00:00\",\"2021-09-22T00:00:00\",\"2021-09-23T00:00:00\",\"2021-09-24T00:00:00\",\"2021-09-27T00:00:00\",\"2021-09-28T00:00:00\",\"2021-09-29T00:00:00\",\"2021-09-30T00:00:00\",\"2021-10-01T00:00:00\",\"2021-10-04T00:00:00\",\"2021-10-05T00:00:00\",\"2021-10-06T00:00:00\",\"2021-10-07T00:00:00\",\"2021-10-08T00:00:00\",\"2021-10-11T00:00:00\",\"2021-10-12T00:00:00\",\"2021-10-13T00:00:00\",\"2021-10-14T00:00:00\",\"2021-10-15T00:00:00\",\"2021-10-18T00:00:00\",\"2021-10-19T00:00:00\",\"2021-10-20T00:00:00\",\"2021-10-21T00:00:00\",\"2021-10-22T00:00:00\",\"2021-10-25T00:00:00\",\"2021-10-26T00:00:00\",\"2021-10-27T00:00:00\",\"2021-10-28T00:00:00\",\"2021-10-29T00:00:00\",\"2021-11-01T00:00:00\",\"2021-11-02T00:00:00\",\"2021-11-03T00:00:00\",\"2021-11-04T00:00:00\",\"2021-11-05T00:00:00\",\"2021-11-08T00:00:00\",\"2021-11-09T00:00:00\",\"2021-11-10T00:00:00\",\"2021-11-11T00:00:00\",\"2021-11-12T00:00:00\",\"2021-11-15T00:00:00\",\"2021-11-16T00:00:00\",\"2021-11-17T00:00:00\",\"2021-11-18T00:00:00\",\"2021-11-19T00:00:00\",\"2021-11-22T00:00:00\",\"2021-11-23T00:00:00\",\"2021-11-24T00:00:00\",\"2021-11-26T00:00:00\",\"2021-11-29T00:00:00\",\"2021-11-30T00:00:00\",\"2021-12-01T00:00:00\",\"2021-12-02T00:00:00\",\"2021-12-03T00:00:00\",\"2021-12-06T00:00:00\",\"2021-12-07T00:00:00\",\"2021-12-08T00:00:00\",\"2021-12-09T00:00:00\",\"2021-12-10T00:00:00\",\"2021-12-13T00:00:00\",\"2021-12-14T00:00:00\",\"2021-12-15T00:00:00\",\"2021-12-16T00:00:00\",\"2021-12-17T00:00:00\",\"2021-12-20T00:00:00\",\"2021-12-21T00:00:00\"],\"y\":[235.8962369627775,236.29476076427923,236.7161454835067,237.19922305585123,237.94656624795067,238.29233295268241,238.43575678581922,237.9052339965189,237.25112242536875,236.91011129578976,236.2928280068259,236.01984303221744,235.88167548383402,237.49879572793503,238.81345127211068,239.8149558683783,240.66086852736095,242.89897127753693,245.22088320152503,246.83716654684093,247.68197003192924,248.79179226979363,249.92890095371862,250.95718179741465,251.88471105784143,252.8351915378459,253.7219919742136,255.1118117734328,256.19346613635935,257.5749705465483,259.6881557081547,263.70832370396874,266.39120347821734,268.8701853131166,271.08198775801793,273.296352729235,275.95122975385004,277.33020842324436,277.8210995653429,277.21554539232164,276.89776864944724,276.0970620756693,275.23460055529597,274.4087272226767,274.2279350595001,273.25448541897026,271.57862377399283,269.8469305926568,267.87448180209566,266.68134709281424,265.0757704727821,263.6625185006471,262.8586538482445,262.30968598242396,262.26244257901465,262.2294926987846,262.62953926096895,262.385035913736,262.5909411848949,262.23358322827806,261.85962067272436,262.0323833175335,262.2521677620333,263.4792434200303,264.6302226226128,265.28383941366786,265.4143995779438,265.4612716777472,265.0920646067233,265.31642214780237,266.5358393149411,267.5889443878726,269.1526774930589,269.8760691165592,271.0955181555013,270.7841086347952,271.6973702654743,270.91669890966415,270.04790676801855,269.61627777028673,271.2311620532436,273.3628739280197,275.1853402674824,275.5112174262269,275.2311060852773,275.34464289446373,275.32058322880937,275.46871313592044,275.7861020740257,275.7146382491143,275.3742167010769,275.15292449565226,274.6572051966867,274.09109496751347,274.3482693729881,274.4611536425247,274.76559399853096,274.96599465509206,276.0190849403536,277.0646216742916,277.4996566224028,277.6996889482781,278.41607964136784,278.86916275546935,278.78287645294796,278.63170542242426,278.16973109247374,277.80793757874034,277.6026694163975,277.4269734174281,277.1590677418735,277.0900610286563,276.6991471664986,275.8255880002615,275.12416957765254,274.42197178845544,274.65633798950495,274.8493980613042,274.57854324820266,274.44958510401233,273.9487139528663,273.67792188630597,272.73538331105937,272.3721657586335,271.93560590095944,270.5632777588623,268.79297944786487,267.23361762439066,265.2705614212323,264.0059649838795,263.7417869038464,264.08162545679926,264.88056815319817,265.7550619574529,266.86914812183215,268.24922445557183,268.6029326549233,268.2753933226575,267.3712654362582,266.8838785571097,266.9017065584875,266.8788235892145,266.84347510241093,266.95770519342045,266.9233671369518,267.1530621433227,267.58187423185586,267.8371597242724,268.0792361129749,268.61476021367747,269.0652372237267,269.0947624441549,268.4097838181948,267.6752567958376,267.5102321190853,267.21930170449514,266.08027449875976,265.3111581913441,265.2746895977773,264.70426327070663,263.859330579016,263.29393822169067,263.38358009056395,262.64961804220303,262.9305609687641,263.10960032582955,264.08872801282797,264.48066127497856,265.3233284317987,266.5921166452076,268.17556147433646,269.12505544186837,271.0327763427496,273.0788883611289,274.6744444085547,275.3531326121804,275.66102875965265,276.3300251463817,277.64729625345774,278.588451139507,280.03768274312426,281.73062100848654,284.2014739769977,286.20679541232744,288.6507227691968,290.86611060960365,292.8291906864649,294.5301741281428,295.91470464064116,296.5424594300573,297.5676910567993,298.3506275676158,298.7042059918666,299.0629139831955,299.28174009569614,299.0306718155121,299.22152027617574,299.56865557333447,299.9324148234149,300.5840140306968,303.2136500065993,305.2014987852962,306.78136131138433,307.83396349685506,308.4872385438384,309.53567040473234,310.4033355108717,310.0003051208564,309.68482272616916,309.0362013686055,308.69291122287996,309.3517376972914,309.90703349345387,309.9118478536015,310.2462249885369,311.006566839721,311.48142539850346,312.67675080616795,314.05068332787283,315.28789426734886,316.8753584248626,317.95305411226855,318.96914054595436,319.89467266872975,320.4533395665654,321.3530365244699,322.73730471063317,323.73209452564663,324.32463138695147,325.064209574963,325.62746413775045,326.64042094465236,327.5594735860476,327.8795202211583,328.66411017974616,328.7546459508701,329.0760425503293,329.9809476620536,330.94540663258425,332.05764172742033,332.90421930830826,334.9711097937746,336.5091920532894,337.5274465443611,339.0604072810953,340.48218954708943,341.6001722045628,342.4083374800003,342.7030335178624,343.4045771460326,344.29143410203955,345.00039430529876,345.23944981234547,345.1685899616848,344.8041730253598,344.0901584055117,343.8692352470206,344.08385122332123,344.7298649704199,347.00805984082916,349.3218718057609,351.00261051056384,353.02782762590317,353.50893487120453,353.7626669550013,353.5978801597313,353.38352653015346,353.8868435208426,354.71258512992085,355.51235100589395,356.06668140095474,356.5269835356691,356.8390751647063,357.3673405039588,357.8957634286699,358.68342107684475,358.66220208867986,358.3701848267118,358.07471303493685,358.1924659515051,358.6613332380515,359.2839401951036,360.11176514540665,360.4997869397163,361.6025340254523,363.33503126514836,364.7936652303905,366.3624218269885,367.1731106408347,367.999192379452,369.28835604275463,370.0412334319786,370.76475766543507,371.48523446325066,371.94203221801195,372.35912008721965,372.50101948181185,372.5518356706102,371.83985072061864,370.37259267392886,369.2005397932379,366.837762671587,364.9397834700861,363.8507114687217,362.9170092054075,360.89273508641446,358.9579396559734,357.17903738256103,355.8909439628396,353.1944955104294,351.3549951417611,349.7445423696408,347.87867499246465,346.2578852470559,344.3662604252355,342.4938721150933,340.86170269962315,339.7406387068662,338.3787633485715,338.10251180214595,338.2741007505304,338.50190966223647,338.8090092277434,337.5181888753633,336.7156264722763,334.81511475285066,332.76101352265545,331.32092260493533,330.616293943052,330.55845003789534,330.33313517738355,330.45012244463845,330.9410209590818,331.86729222487554,332.4811743059948,332.74379437973954,332.27981440416664,331.86710311600376,332.68736780077046,334.03942505148166,334.8503856336268,335.38853139544904,335.68866512689965,336.56242173290593,336.96674791769857,336.9924981069987,337.3622707844164,336.97660936012284,337.07237203459323,335.92579198191004,333.6234478111469,331.51131752362784,329.2684701431063,328.23224514075,327.7393135423722,327.9957393620287,328.161581904046,328.30598354913275,328.86816597506385,329.3110590895467,330.43369041432516,330.83971800361235,331.1079262346405,330.5935704139487,330.9214287587744],\"type\":\"scatter\",\"xaxis\":\"x\",\"yaxis\":\"y\"},{\"line\":{\"color\":\"blue\",\"width\":2},\"name\":\"MA 50\",\"x\":[\"2020-07-14T00:00:00\",\"2020-07-15T00:00:00\",\"2020-07-16T00:00:00\",\"2020-07-17T00:00:00\",\"2020-07-20T00:00:00\",\"2020-07-21T00:00:00\",\"2020-07-22T00:00:00\",\"2020-07-23T00:00:00\",\"2020-07-24T00:00:00\",\"2020-07-27T00:00:00\",\"2020-07-28T00:00:00\",\"2020-07-29T00:00:00\",\"2020-07-30T00:00:00\",\"2020-07-31T00:00:00\",\"2020-08-03T00:00:00\",\"2020-08-04T00:00:00\",\"2020-08-05T00:00:00\",\"2020-08-06T00:00:00\",\"2020-08-07T00:00:00\",\"2020-08-10T00:00:00\",\"2020-08-11T00:00:00\",\"2020-08-12T00:00:00\",\"2020-08-13T00:00:00\",\"2020-08-14T00:00:00\",\"2020-08-17T00:00:00\",\"2020-08-18T00:00:00\",\"2020-08-19T00:00:00\",\"2020-08-20T00:00:00\",\"2020-08-21T00:00:00\",\"2020-08-24T00:00:00\",\"2020-08-25T00:00:00\",\"2020-08-26T00:00:00\",\"2020-08-27T00:00:00\",\"2020-08-28T00:00:00\",\"2020-08-31T00:00:00\",\"2020-09-01T00:00:00\",\"2020-09-02T00:00:00\",\"2020-09-03T00:00:00\",\"2020-09-04T00:00:00\",\"2020-09-08T00:00:00\",\"2020-09-09T00:00:00\",\"2020-09-10T00:00:00\",\"2020-09-11T00:00:00\",\"2020-09-14T00:00:00\",\"2020-09-15T00:00:00\",\"2020-09-16T00:00:00\",\"2020-09-17T00:00:00\",\"2020-09-18T00:00:00\",\"2020-09-21T00:00:00\",\"2020-09-22T00:00:00\",\"2020-09-23T00:00:00\",\"2020-09-24T00:00:00\",\"2020-09-25T00:00:00\",\"2020-09-28T00:00:00\",\"2020-09-29T00:00:00\",\"2020-09-30T00:00:00\",\"2020-10-01T00:00:00\",\"2020-10-02T00:00:00\",\"2020-10-05T00:00:00\",\"2020-10-06T00:00:00\",\"2020-10-07T00:00:00\",\"2020-10-08T00:00:00\",\"2020-10-09T00:00:00\",\"2020-10-12T00:00:00\",\"2020-10-13T00:00:00\",\"2020-10-14T00:00:00\",\"2020-10-15T00:00:00\",\"2020-10-16T00:00:00\",\"2020-10-19T00:00:00\",\"2020-10-20T00:00:00\",\"2020-10-21T00:00:00\",\"2020-10-22T00:00:00\",\"2020-10-23T00:00:00\",\"2020-10-26T00:00:00\",\"2020-10-27T00:00:00\",\"2020-10-28T00:00:00\",\"2020-10-29T00:00:00\",\"2020-10-30T00:00:00\",\"2020-11-02T00:00:00\",\"2020-11-03T00:00:00\",\"2020-11-04T00:00:00\",\"2020-11-05T00:00:00\",\"2020-11-06T00:00:00\",\"2020-11-09T00:00:00\",\"2020-11-10T00:00:00\",\"2020-11-11T00:00:00\",\"2020-11-12T00:00:00\",\"2020-11-13T00:00:00\",\"2020-11-16T00:00:00\",\"2020-11-17T00:00:00\",\"2020-11-18T00:00:00\",\"2020-11-19T00:00:00\",\"2020-11-20T00:00:00\",\"2020-11-23T00:00:00\",\"2020-11-24T00:00:00\",\"2020-11-25T00:00:00\",\"2020-11-27T00:00:00\",\"2020-11-30T00:00:00\",\"2020-12-01T00:00:00\",\"2020-12-02T00:00:00\",\"2020-12-03T00:00:00\",\"2020-12-04T00:00:00\",\"2020-12-07T00:00:00\",\"2020-12-08T00:00:00\",\"2020-12-09T00:00:00\",\"2020-12-10T00:00:00\",\"2020-12-11T00:00:00\",\"2020-12-14T00:00:00\",\"2020-12-15T00:00:00\",\"2020-12-16T00:00:00\",\"2020-12-17T00:00:00\",\"2020-12-18T00:00:00\",\"2020-12-21T00:00:00\",\"2020-12-22T00:00:00\",\"2020-12-23T00:00:00\",\"2020-12-24T00:00:00\",\"2020-12-28T00:00:00\",\"2020-12-29T00:00:00\",\"2020-12-30T00:00:00\",\"2020-12-31T00:00:00\",\"2021-01-04T00:00:00\",\"2021-01-05T00:00:00\",\"2021-01-06T00:00:00\",\"2021-01-07T00:00:00\",\"2021-01-08T00:00:00\",\"2021-01-11T00:00:00\",\"2021-01-12T00:00:00\",\"2021-01-13T00:00:00\",\"2021-01-14T00:00:00\",\"2021-01-15T00:00:00\",\"2021-01-19T00:00:00\",\"2021-01-20T00:00:00\",\"2021-01-21T00:00:00\",\"2021-01-22T00:00:00\",\"2021-01-25T00:00:00\",\"2021-01-26T00:00:00\",\"2021-01-27T00:00:00\",\"2021-01-28T00:00:00\",\"2021-01-29T00:00:00\",\"2021-02-01T00:00:00\",\"2021-02-02T00:00:00\",\"2021-02-03T00:00:00\",\"2021-02-04T00:00:00\",\"2021-02-05T00:00:00\",\"2021-02-08T00:00:00\",\"2021-02-09T00:00:00\",\"2021-02-10T00:00:00\",\"2021-02-11T00:00:00\",\"2021-02-12T00:00:00\",\"2021-02-16T00:00:00\",\"2021-02-17T00:00:00\",\"2021-02-18T00:00:00\",\"2021-02-19T00:00:00\",\"2021-02-22T00:00:00\",\"2021-02-23T00:00:00\",\"2021-02-24T00:00:00\",\"2021-02-25T00:00:00\",\"2021-02-26T00:00:00\",\"2021-03-01T00:00:00\",\"2021-03-02T00:00:00\",\"2021-03-03T00:00:00\",\"2021-03-04T00:00:00\",\"2021-03-05T00:00:00\",\"2021-03-08T00:00:00\",\"2021-03-09T00:00:00\",\"2021-03-10T00:00:00\",\"2021-03-11T00:00:00\",\"2021-03-12T00:00:00\",\"2021-03-15T00:00:00\",\"2021-03-16T00:00:00\",\"2021-03-17T00:00:00\",\"2021-03-18T00:00:00\",\"2021-03-19T00:00:00\",\"2021-03-22T00:00:00\",\"2021-03-23T00:00:00\",\"2021-03-24T00:00:00\",\"2021-03-25T00:00:00\",\"2021-03-26T00:00:00\",\"2021-03-29T00:00:00\",\"2021-03-30T00:00:00\",\"2021-03-31T00:00:00\",\"2021-04-01T00:00:00\",\"2021-04-05T00:00:00\",\"2021-04-06T00:00:00\",\"2021-04-07T00:00:00\",\"2021-04-08T00:00:00\",\"2021-04-09T00:00:00\",\"2021-04-12T00:00:00\",\"2021-04-13T00:00:00\",\"2021-04-14T00:00:00\",\"2021-04-15T00:00:00\",\"2021-04-16T00:00:00\",\"2021-04-19T00:00:00\",\"2021-04-20T00:00:00\",\"2021-04-21T00:00:00\",\"2021-04-22T00:00:00\",\"2021-04-23T00:00:00\",\"2021-04-26T00:00:00\",\"2021-04-27T00:00:00\",\"2021-04-28T00:00:00\",\"2021-04-29T00:00:00\",\"2021-04-30T00:00:00\",\"2021-05-03T00:00:00\",\"2021-05-04T00:00:00\",\"2021-05-05T00:00:00\",\"2021-05-06T00:00:00\",\"2021-05-07T00:00:00\",\"2021-05-10T00:00:00\",\"2021-05-11T00:00:00\",\"2021-05-12T00:00:00\",\"2021-05-13T00:00:00\",\"2021-05-14T00:00:00\",\"2021-05-17T00:00:00\",\"2021-05-18T00:00:00\",\"2021-05-19T00:00:00\",\"2021-05-20T00:00:00\",\"2021-05-21T00:00:00\",\"2021-05-24T00:00:00\",\"2021-05-25T00:00:00\",\"2021-05-26T00:00:00\",\"2021-05-27T00:00:00\",\"2021-05-28T00:00:00\",\"2021-06-01T00:00:00\",\"2021-06-02T00:00:00\",\"2021-06-03T00:00:00\",\"2021-06-04T00:00:00\",\"2021-06-07T00:00:00\",\"2021-06-08T00:00:00\",\"2021-06-09T00:00:00\",\"2021-06-10T00:00:00\",\"2021-06-11T00:00:00\",\"2021-06-14T00:00:00\",\"2021-06-15T00:00:00\",\"2021-06-16T00:00:00\",\"2021-06-17T00:00:00\",\"2021-06-18T00:00:00\",\"2021-06-21T00:00:00\",\"2021-06-22T00:00:00\",\"2021-06-23T00:00:00\",\"2021-06-24T00:00:00\",\"2021-06-25T00:00:00\",\"2021-06-28T00:00:00\",\"2021-06-29T00:00:00\",\"2021-06-30T00:00:00\",\"2021-07-01T00:00:00\",\"2021-07-02T00:00:00\",\"2021-07-06T00:00:00\",\"2021-07-07T00:00:00\",\"2021-07-08T00:00:00\",\"2021-07-09T00:00:00\",\"2021-07-12T00:00:00\",\"2021-07-13T00:00:00\",\"2021-07-14T00:00:00\",\"2021-07-15T00:00:00\",\"2021-07-16T00:00:00\",\"2021-07-19T00:00:00\",\"2021-07-20T00:00:00\",\"2021-07-21T00:00:00\",\"2021-07-22T00:00:00\",\"2021-07-23T00:00:00\",\"2021-07-26T00:00:00\",\"2021-07-27T00:00:00\",\"2021-07-28T00:00:00\",\"2021-07-29T00:00:00\",\"2021-07-30T00:00:00\",\"2021-08-02T00:00:00\",\"2021-08-03T00:00:00\",\"2021-08-04T00:00:00\",\"2021-08-05T00:00:00\",\"2021-08-06T00:00:00\",\"2021-08-09T00:00:00\",\"2021-08-10T00:00:00\",\"2021-08-11T00:00:00\",\"2021-08-12T00:00:00\",\"2021-08-13T00:00:00\",\"2021-08-16T00:00:00\",\"2021-08-17T00:00:00\",\"2021-08-18T00:00:00\",\"2021-08-19T00:00:00\",\"2021-08-20T00:00:00\",\"2021-08-23T00:00:00\",\"2021-08-24T00:00:00\",\"2021-08-25T00:00:00\",\"2021-08-26T00:00:00\",\"2021-08-27T00:00:00\",\"2021-08-30T00:00:00\",\"2021-08-31T00:00:00\",\"2021-09-01T00:00:00\",\"2021-09-02T00:00:00\",\"2021-09-03T00:00:00\",\"2021-09-07T00:00:00\",\"2021-09-08T00:00:00\",\"2021-09-09T00:00:00\",\"2021-09-10T00:00:00\",\"2021-09-13T00:00:00\",\"2021-09-14T00:00:00\",\"2021-09-15T00:00:00\",\"2021-09-16T00:00:00\",\"2021-09-17T00:00:00\",\"2021-09-20T00:00:00\",\"2021-09-21T00:00:00\",\"2021-09-22T00:00:00\",\"2021-09-23T00:00:00\",\"2021-09-24T00:00:00\",\"2021-09-27T00:00:00\",\"2021-09-28T00:00:00\",\"2021-09-29T00:00:00\",\"2021-09-30T00:00:00\",\"2021-10-01T00:00:00\",\"2021-10-04T00:00:00\",\"2021-10-05T00:00:00\",\"2021-10-06T00:00:00\",\"2021-10-07T00:00:00\",\"2021-10-08T00:00:00\",\"2021-10-11T00:00:00\",\"2021-10-12T00:00:00\",\"2021-10-13T00:00:00\",\"2021-10-14T00:00:00\",\"2021-10-15T00:00:00\",\"2021-10-18T00:00:00\",\"2021-10-19T00:00:00\",\"2021-10-20T00:00:00\",\"2021-10-21T00:00:00\",\"2021-10-22T00:00:00\",\"2021-10-25T00:00:00\",\"2021-10-26T00:00:00\",\"2021-10-27T00:00:00\",\"2021-10-28T00:00:00\",\"2021-10-29T00:00:00\",\"2021-11-01T00:00:00\",\"2021-11-02T00:00:00\",\"2021-11-03T00:00:00\",\"2021-11-04T00:00:00\",\"2021-11-05T00:00:00\",\"2021-11-08T00:00:00\",\"2021-11-09T00:00:00\",\"2021-11-10T00:00:00\",\"2021-11-11T00:00:00\",\"2021-11-12T00:00:00\",\"2021-11-15T00:00:00\",\"2021-11-16T00:00:00\",\"2021-11-17T00:00:00\",\"2021-11-18T00:00:00\",\"2021-11-19T00:00:00\",\"2021-11-22T00:00:00\",\"2021-11-23T00:00:00\",\"2021-11-24T00:00:00\",\"2021-11-26T00:00:00\",\"2021-11-29T00:00:00\",\"2021-11-30T00:00:00\",\"2021-12-01T00:00:00\",\"2021-12-02T00:00:00\",\"2021-12-03T00:00:00\",\"2021-12-06T00:00:00\",\"2021-12-07T00:00:00\",\"2021-12-08T00:00:00\",\"2021-12-09T00:00:00\",\"2021-12-10T00:00:00\",\"2021-12-13T00:00:00\",\"2021-12-14T00:00:00\",\"2021-12-15T00:00:00\",\"2021-12-16T00:00:00\",\"2021-12-17T00:00:00\",\"2021-12-20T00:00:00\",\"2021-12-21T00:00:00\"],\"y\":[227.95440032958984,228.65480041503906,229.33200012207033,230.0032000732422,230.68640014648437,231.27440002441406,231.80820007324218,232.2582000732422,232.7704000854492,233.30420013427735,233.68899993896486,234.09099975585937,234.44339965820313,234.91739959716796,235.32879974365235,235.62719970703125,235.96559967041014,236.68839965820314,237.5479995727539,238.3061996459961,238.79059967041016,239.33399993896484,239.95679962158204,240.65579956054688,241.26359954833984,241.88239959716796,242.36079956054687,243.0063998413086,243.85800018310547,244.71420043945312,245.6806005859375,247.04580078125,248.1996008300781,249.3540008544922,250.44220123291015,251.5666012573242,252.77180114746093,253.91380096435546,254.8548013305664,255.9564013671875,257.01800140380857,257.83840118408204,258.41960083007814,259.0742007446289,259.71700103759764,260.1702008056641,260.39500091552736,260.5556008911133,260.6172006225586,260.9322006225586,261.11800079345704,261.30300079345704,261.58080108642577,261.87660125732424,262.20400146484377,262.60700134277346,263.14220153808594,263.6890014648437,264.3678012084961,264.8710012817383,265.4310012817383,266.04040161132815,266.63940185546875,267.08100189208983,267.5646020507813,268.00440216064453,268.35640228271484,268.36940216064454,268.2286019897461,268.31980194091796,268.7718020629883,269.13640167236326,269.6062020874023,269.9236019897461,270.36620208740237,270.4728024291992,270.83760223388674,270.7196017456055,270.6066012573242,270.4848007202148,270.6160006713867,270.4314004516602,270.4352005004883,270.13740020751953,269.72199981689454,269.34279998779294,268.7943997192383,268.51100006103513,268.43559967041017,268.512399597168,268.47739959716796,268.5743997192383,268.63620025634765,268.6818002319336,268.7718002319336,269.013200378418,269.47300018310546,269.9618002319336,270.7298001098633,271.38519989013673,272.0417999267578,272.6452001953125,273.2603997802734,273.79199951171876,274.114599609375,274.41899963378904,274.55739929199217,274.8423992919922,275.0603991699219,275.40059936523437,275.72779968261716,275.98059936523435,276.1473992919922,275.97419921875,275.8135986328125,275.72519836425784,275.93079833984376,276.1477984619141,276.3571984863281,276.4691986083984,276.2733984375,276.1303985595703,275.70079833984374,275.5333984375,275.21899841308596,275.00239807128906,274.40759826660155,274.1781985473633,273.863798828125,273.58499908447266,273.05939910888674,272.51539947509764,272.1045993041992,272.0191995239258,272.1307998657227,272.2421994018555,272.1833999633789,271.9443997192383,271.531799621582,271.27199981689455,271.1741995239258,271.0483993530273,270.98419891357423,270.9775991821289,270.7707986450195,270.64799896240237,270.5291989135742,270.3975991821289,270.0765994262695,269.8055996704102,269.6399996948242,269.43379974365234,268.9533999633789,268.4919998168945,268.2507992553711,267.9945993041992,267.61739959716795,267.2859994506836,267.0731997680664,266.7397994995117,266.3583993530273,265.9831997680664,265.8129995727539,265.577399597168,265.5299996948242,265.47999969482424,265.4175997924805,265.2499996948242,265.2875997924805,265.4099996948242,265.7113998413086,265.8643997192383,266.40039947509763,266.8963998413086,267.35759979248047,267.8636001586914,268.4166000366211,269.04419982910156,269.94779998779296,270.68059997558595,271.34919982910156,271.97279968261716,272.69359985351565,273.3288000488281,274.03039978027346,274.6497998046875,275.4561993408203,276.3869995117187,277.41559997558596,278.2317999267578,279.0466003417969,279.83720031738284,280.5522003173828,281.2432000732422,281.9410003662109,282.48239990234373,283.0676000976562,283.7205999755859,284.38200012207034,285.0446002197266,286.1634002685547,287.27719970703123,288.4975994873047,289.65819946289065,290.64139953613284,291.7555993652344,293.04339904785155,294.01039916992187,294.8427990722656,295.713798828125,296.71079895019534,297.8767987060547,298.9003985595703,299.9933984375,300.9503985595703,302.02459838867185,302.87159851074216,303.99619873046873,305.0769989013672,306.04459899902344,307.01939880371094,308.02159912109374,308.80199951171875,309.51419921875,310.2223992919922,311.18659912109376,312.34339904785156,313.3565991210937,314.1451989746094,315.0343988037109,315.7689990234375,316.53119873046876,317.08799865722654,317.5843981933594,318.05279846191405,318.38559875488284,318.7821990966797,319.3319989013672,319.9485986328125,320.75579833984375,321.42679809570313,322.41599853515623,323.4089990234375,324.31019897460936,325.36859924316406,326.5321997070312,327.56519958496096,328.51419921875,329.3557989501953,330.2221990966797,330.69519897460935,331.2353991699219,331.7363995361328,332.25839965820313,332.78119995117186,333.11980041503904,333.57140075683594,334.37660095214846,335.2698010253906,336.6146014404297,337.95860107421873,338.9960009765625,340.1524011230469,341.1196014404297,341.97380126953124,342.64060180664063,343.3408013916016,344.0266015625,344.73020141601563,345.44720153808595,346.0244012451172,346.6724011230469,347.2890008544922,347.95900085449216,348.70180053710936,349.4260003662109,349.86340087890625,350.2988012695312,350.796201171875,351.3344012451172,351.976201171875,352.5510015869141,353.1838018798828,353.84980224609376,354.5722021484375,355.5922021484375,356.5340020751953,357.39440185546874,358.08820190429685,358.74980224609374,359.5660021972656,360.0046020507813,360.5268017578125,361.1464019775391,361.5888018798828,362.0254016113281,362.44820190429687,362.89960205078125,363.28100219726565,363.38660217285155,363.47300231933593,363.2954022216797,363.262001953125,363.432001953125,363.68040161132814,363.7544012451172,363.71340087890627,363.57660095214845,363.41300109863283,362.54180114746094,361.7518011474609,361.06840148925784,360.18720153808596,359.6218011474609,359.0048016357422,358.441201171875,357.9072015380859,357.29940124511717,356.53520141601564,355.97180114746095,355.5394012451172,355.13240112304686,354.77080139160154,354.01000122070315,353.3202014160156,352.3052014160156,351.38060119628904,350.6100012207031,349.97900146484375,349.3912017822266,348.68580139160156,348.0080010986328,347.35720092773437,346.8922009277344,346.21200073242187,345.30620056152344,344.27140075683593,343.18520080566407,342.49740112304687,341.92340087890625,341.13900085449217,340.40300048828124,339.6168005371094,338.9490002441406,338.23900024414064,337.4534002685547,336.7961999511719,335.9973999023438,335.46359985351563,334.83879943847654,333.9011993408203,333.2447998046875,332.46239990234375,331.76059997558593,331.1452001953125,330.9434002685547,330.74760070800784,330.55480041503904,330.38440002441405,330.534599609375,330.70859985351564,330.7337994384766,330.82519958496096,330.7332000732422,330.9082000732422],\"type\":\"scatter\",\"xaxis\":\"x\",\"yaxis\":\"y\"},{\"line\":{\"color\":\"orange\",\"width\":2},\"name\":\"MA 100\",\"x\":[\"2020-07-14T00:00:00\",\"2020-07-15T00:00:00\",\"2020-07-16T00:00:00\",\"2020-07-17T00:00:00\",\"2020-07-20T00:00:00\",\"2020-07-21T00:00:00\",\"2020-07-22T00:00:00\",\"2020-07-23T00:00:00\",\"2020-07-24T00:00:00\",\"2020-07-27T00:00:00\",\"2020-07-28T00:00:00\",\"2020-07-29T00:00:00\",\"2020-07-30T00:00:00\",\"2020-07-31T00:00:00\",\"2020-08-03T00:00:00\",\"2020-08-04T00:00:00\",\"2020-08-05T00:00:00\",\"2020-08-06T00:00:00\",\"2020-08-07T00:00:00\",\"2020-08-10T00:00:00\",\"2020-08-11T00:00:00\",\"2020-08-12T00:00:00\",\"2020-08-13T00:00:00\",\"2020-08-14T00:00:00\",\"2020-08-17T00:00:00\",\"2020-08-18T00:00:00\",\"2020-08-19T00:00:00\",\"2020-08-20T00:00:00\",\"2020-08-21T00:00:00\",\"2020-08-24T00:00:00\",\"2020-08-25T00:00:00\",\"2020-08-26T00:00:00\",\"2020-08-27T00:00:00\",\"2020-08-28T00:00:00\",\"2020-08-31T00:00:00\",\"2020-09-01T00:00:00\",\"2020-09-02T00:00:00\",\"2020-09-03T00:00:00\",\"2020-09-04T00:00:00\",\"2020-09-08T00:00:00\",\"2020-09-09T00:00:00\",\"2020-09-10T00:00:00\",\"2020-09-11T00:00:00\",\"2020-09-14T00:00:00\",\"2020-09-15T00:00:00\",\"2020-09-16T00:00:00\",\"2020-09-17T00:00:00\",\"2020-09-18T00:00:00\",\"2020-09-21T00:00:00\",\"2020-09-22T00:00:00\",\"2020-09-23T00:00:00\",\"2020-09-24T00:00:00\",\"2020-09-25T00:00:00\",\"2020-09-28T00:00:00\",\"2020-09-29T00:00:00\",\"2020-09-30T00:00:00\",\"2020-10-01T00:00:00\",\"2020-10-02T00:00:00\",\"2020-10-05T00:00:00\",\"2020-10-06T00:00:00\",\"2020-10-07T00:00:00\",\"2020-10-08T00:00:00\",\"2020-10-09T00:00:00\",\"2020-10-12T00:00:00\",\"2020-10-13T00:00:00\",\"2020-10-14T00:00:00\",\"2020-10-15T00:00:00\",\"2020-10-16T00:00:00\",\"2020-10-19T00:00:00\",\"2020-10-20T00:00:00\",\"2020-10-21T00:00:00\",\"2020-10-22T00:00:00\",\"2020-10-23T00:00:00\",\"2020-10-26T00:00:00\",\"2020-10-27T00:00:00\",\"2020-10-28T00:00:00\",\"2020-10-29T00:00:00\",\"2020-10-30T00:00:00\",\"2020-11-02T00:00:00\",\"2020-11-03T00:00:00\",\"2020-11-04T00:00:00\",\"2020-11-05T00:00:00\",\"2020-11-06T00:00:00\",\"2020-11-09T00:00:00\",\"2020-11-10T00:00:00\",\"2020-11-11T00:00:00\",\"2020-11-12T00:00:00\",\"2020-11-13T00:00:00\",\"2020-11-16T00:00:00\",\"2020-11-17T00:00:00\",\"2020-11-18T00:00:00\",\"2020-11-19T00:00:00\",\"2020-11-20T00:00:00\",\"2020-11-23T00:00:00\",\"2020-11-24T00:00:00\",\"2020-11-25T00:00:00\",\"2020-11-27T00:00:00\",\"2020-11-30T00:00:00\",\"2020-12-01T00:00:00\",\"2020-12-02T00:00:00\",\"2020-12-03T00:00:00\",\"2020-12-04T00:00:00\",\"2020-12-07T00:00:00\",\"2020-12-08T00:00:00\",\"2020-12-09T00:00:00\",\"2020-12-10T00:00:00\",\"2020-12-11T00:00:00\",\"2020-12-14T00:00:00\",\"2020-12-15T00:00:00\",\"2020-12-16T00:00:00\",\"2020-12-17T00:00:00\",\"2020-12-18T00:00:00\",\"2020-12-21T00:00:00\",\"2020-12-22T00:00:00\",\"2020-12-23T00:00:00\",\"2020-12-24T00:00:00\",\"2020-12-28T00:00:00\",\"2020-12-29T00:00:00\",\"2020-12-30T00:00:00\",\"2020-12-31T00:00:00\",\"2021-01-04T00:00:00\",\"2021-01-05T00:00:00\",\"2021-01-06T00:00:00\",\"2021-01-07T00:00:00\",\"2021-01-08T00:00:00\",\"2021-01-11T00:00:00\",\"2021-01-12T00:00:00\",\"2021-01-13T00:00:00\",\"2021-01-14T00:00:00\",\"2021-01-15T00:00:00\",\"2021-01-19T00:00:00\",\"2021-01-20T00:00:00\",\"2021-01-21T00:00:00\",\"2021-01-22T00:00:00\",\"2021-01-25T00:00:00\",\"2021-01-26T00:00:00\",\"2021-01-27T00:00:00\",\"2021-01-28T00:00:00\",\"2021-01-29T00:00:00\",\"2021-02-01T00:00:00\",\"2021-02-02T00:00:00\",\"2021-02-03T00:00:00\",\"2021-02-04T00:00:00\",\"2021-02-05T00:00:00\",\"2021-02-08T00:00:00\",\"2021-02-09T00:00:00\",\"2021-02-10T00:00:00\",\"2021-02-11T00:00:00\",\"2021-02-12T00:00:00\",\"2021-02-16T00:00:00\",\"2021-02-17T00:00:00\",\"2021-02-18T00:00:00\",\"2021-02-19T00:00:00\",\"2021-02-22T00:00:00\",\"2021-02-23T00:00:00\",\"2021-02-24T00:00:00\",\"2021-02-25T00:00:00\",\"2021-02-26T00:00:00\",\"2021-03-01T00:00:00\",\"2021-03-02T00:00:00\",\"2021-03-03T00:00:00\",\"2021-03-04T00:00:00\",\"2021-03-05T00:00:00\",\"2021-03-08T00:00:00\",\"2021-03-09T00:00:00\",\"2021-03-10T00:00:00\",\"2021-03-11T00:00:00\",\"2021-03-12T00:00:00\",\"2021-03-15T00:00:00\",\"2021-03-16T00:00:00\",\"2021-03-17T00:00:00\",\"2021-03-18T00:00:00\",\"2021-03-19T00:00:00\",\"2021-03-22T00:00:00\",\"2021-03-23T00:00:00\",\"2021-03-24T00:00:00\",\"2021-03-25T00:00:00\",\"2021-03-26T00:00:00\",\"2021-03-29T00:00:00\",\"2021-03-30T00:00:00\",\"2021-03-31T00:00:00\",\"2021-04-01T00:00:00\",\"2021-04-05T00:00:00\",\"2021-04-06T00:00:00\",\"2021-04-07T00:00:00\",\"2021-04-08T00:00:00\",\"2021-04-09T00:00:00\",\"2021-04-12T00:00:00\",\"2021-04-13T00:00:00\",\"2021-04-14T00:00:00\",\"2021-04-15T00:00:00\",\"2021-04-16T00:00:00\",\"2021-04-19T00:00:00\",\"2021-04-20T00:00:00\",\"2021-04-21T00:00:00\",\"2021-04-22T00:00:00\",\"2021-04-23T00:00:00\",\"2021-04-26T00:00:00\",\"2021-04-27T00:00:00\",\"2021-04-28T00:00:00\",\"2021-04-29T00:00:00\",\"2021-04-30T00:00:00\",\"2021-05-03T00:00:00\",\"2021-05-04T00:00:00\",\"2021-05-05T00:00:00\",\"2021-05-06T00:00:00\",\"2021-05-07T00:00:00\",\"2021-05-10T00:00:00\",\"2021-05-11T00:00:00\",\"2021-05-12T00:00:00\",\"2021-05-13T00:00:00\",\"2021-05-14T00:00:00\",\"2021-05-17T00:00:00\",\"2021-05-18T00:00:00\",\"2021-05-19T00:00:00\",\"2021-05-20T00:00:00\",\"2021-05-21T00:00:00\",\"2021-05-24T00:00:00\",\"2021-05-25T00:00:00\",\"2021-05-26T00:00:00\",\"2021-05-27T00:00:00\",\"2021-05-28T00:00:00\",\"2021-06-01T00:00:00\",\"2021-06-02T00:00:00\",\"2021-06-03T00:00:00\",\"2021-06-04T00:00:00\",\"2021-06-07T00:00:00\",\"2021-06-08T00:00:00\",\"2021-06-09T00:00:00\",\"2021-06-10T00:00:00\",\"2021-06-11T00:00:00\",\"2021-06-14T00:00:00\",\"2021-06-15T00:00:00\",\"2021-06-16T00:00:00\",\"2021-06-17T00:00:00\",\"2021-06-18T00:00:00\",\"2021-06-21T00:00:00\",\"2021-06-22T00:00:00\",\"2021-06-23T00:00:00\",\"2021-06-24T00:00:00\",\"2021-06-25T00:00:00\",\"2021-06-28T00:00:00\",\"2021-06-29T00:00:00\",\"2021-06-30T00:00:00\",\"2021-07-01T00:00:00\",\"2021-07-02T00:00:00\",\"2021-07-06T00:00:00\",\"2021-07-07T00:00:00\",\"2021-07-08T00:00:00\",\"2021-07-09T00:00:00\",\"2021-07-12T00:00:00\",\"2021-07-13T00:00:00\",\"2021-07-14T00:00:00\",\"2021-07-15T00:00:00\",\"2021-07-16T00:00:00\",\"2021-07-19T00:00:00\",\"2021-07-20T00:00:00\",\"2021-07-21T00:00:00\",\"2021-07-22T00:00:00\",\"2021-07-23T00:00:00\",\"2021-07-26T00:00:00\",\"2021-07-27T00:00:00\",\"2021-07-28T00:00:00\",\"2021-07-29T00:00:00\",\"2021-07-30T00:00:00\",\"2021-08-02T00:00:00\",\"2021-08-03T00:00:00\",\"2021-08-04T00:00:00\",\"2021-08-05T00:00:00\",\"2021-08-06T00:00:00\",\"2021-08-09T00:00:00\",\"2021-08-10T00:00:00\",\"2021-08-11T00:00:00\",\"2021-08-12T00:00:00\",\"2021-08-13T00:00:00\",\"2021-08-16T00:00:00\",\"2021-08-17T00:00:00\",\"2021-08-18T00:00:00\",\"2021-08-19T00:00:00\",\"2021-08-20T00:00:00\",\"2021-08-23T00:00:00\",\"2021-08-24T00:00:00\",\"2021-08-25T00:00:00\",\"2021-08-26T00:00:00\",\"2021-08-27T00:00:00\",\"2021-08-30T00:00:00\",\"2021-08-31T00:00:00\",\"2021-09-01T00:00:00\",\"2021-09-02T00:00:00\",\"2021-09-03T00:00:00\",\"2021-09-07T00:00:00\",\"2021-09-08T00:00:00\",\"2021-09-09T00:00:00\",\"2021-09-10T00:00:00\",\"2021-09-13T00:00:00\",\"2021-09-14T00:00:00\",\"2021-09-15T00:00:00\",\"2021-09-16T00:00:00\",\"2021-09-17T00:00:00\",\"2021-09-20T00:00:00\",\"2021-09-21T00:00:00\",\"2021-09-22T00:00:00\",\"2021-09-23T00:00:00\",\"2021-09-24T00:00:00\",\"2021-09-27T00:00:00\",\"2021-09-28T00:00:00\",\"2021-09-29T00:00:00\",\"2021-09-30T00:00:00\",\"2021-10-01T00:00:00\",\"2021-10-04T00:00:00\",\"2021-10-05T00:00:00\",\"2021-10-06T00:00:00\",\"2021-10-07T00:00:00\",\"2021-10-08T00:00:00\",\"2021-10-11T00:00:00\",\"2021-10-12T00:00:00\",\"2021-10-13T00:00:00\",\"2021-10-14T00:00:00\",\"2021-10-15T00:00:00\",\"2021-10-18T00:00:00\",\"2021-10-19T00:00:00\",\"2021-10-20T00:00:00\",\"2021-10-21T00:00:00\",\"2021-10-22T00:00:00\",\"2021-10-25T00:00:00\",\"2021-10-26T00:00:00\",\"2021-10-27T00:00:00\",\"2021-10-28T00:00:00\",\"2021-10-29T00:00:00\",\"2021-11-01T00:00:00\",\"2021-11-02T00:00:00\",\"2021-11-03T00:00:00\",\"2021-11-04T00:00:00\",\"2021-11-05T00:00:00\",\"2021-11-08T00:00:00\",\"2021-11-09T00:00:00\",\"2021-11-10T00:00:00\",\"2021-11-11T00:00:00\",\"2021-11-12T00:00:00\",\"2021-11-15T00:00:00\",\"2021-11-16T00:00:00\",\"2021-11-17T00:00:00\",\"2021-11-18T00:00:00\",\"2021-11-19T00:00:00\",\"2021-11-22T00:00:00\",\"2021-11-23T00:00:00\",\"2021-11-24T00:00:00\",\"2021-11-26T00:00:00\",\"2021-11-29T00:00:00\",\"2021-11-30T00:00:00\",\"2021-12-01T00:00:00\",\"2021-12-02T00:00:00\",\"2021-12-03T00:00:00\",\"2021-12-06T00:00:00\",\"2021-12-07T00:00:00\",\"2021-12-08T00:00:00\",\"2021-12-09T00:00:00\",\"2021-12-10T00:00:00\",\"2021-12-13T00:00:00\",\"2021-12-14T00:00:00\",\"2021-12-15T00:00:00\",\"2021-12-16T00:00:00\",\"2021-12-17T00:00:00\",\"2021-12-20T00:00:00\",\"2021-12-21T00:00:00\"],\"y\":[201.50600051879883,201.80700057983398,202.20910049438476,202.6617004394531,203.14390045166016,203.66390045166017,204.137900390625,204.4995004272461,204.94770050048828,205.36510055541993,205.81460052490235,206.33660049438475,206.98660049438476,207.74140045166016,208.55860046386718,209.5122004699707,210.30060043334962,211.4933004760742,212.68350051879884,213.84390045166015,214.87390045166015,215.97550064086914,217.10750045776368,218.11010040283202,219.15960037231446,220.14960037231447,221.20760040283204,222.23820053100587,223.24030059814453,224.35820068359374,225.58450073242187,227.08180084228516,228.35850082397462,229.60680084228517,230.7960009765625,231.9985009765625,233.27560104370116,234.40510101318358,235.46270111083984,236.41180114746095,237.35660110473634,238.2551010131836,239.21320083618164,240.0519007873535,240.92480087280273,241.65930068969726,242.33250076293945,243.02870071411132,243.56830062866212,244.06870056152343,244.53620056152343,244.97890060424805,245.45640060424805,245.9399006652832,246.44520080566406,246.94070068359375,247.47520080566406,247.97360076904297,248.56910064697266,249.0876007080078,249.56000061035155,250.06570068359375,250.54140075683594,250.9992007446289,251.4467008972168,251.8158009338379,252.1610009765625,252.52890090942384,252.88830078125,253.31300079345704,253.7812008666992,254.23520080566405,254.78150085449218,255.28970077514649,255.8149008178711,256.1776010131836,256.5992008972168,256.86300079345705,257.2323007202148,257.599500579834,258.1483006286621,258.7386006164551,259.31740066528323,259.74570053100587,260.08210052490233,260.4547006225586,260.7831004333496,261.2124005126953,261.6452005004883,262.23440048217776,262.7477005004883,263.20640045166016,263.52790054321287,263.87800048828126,264.2444006347656,264.59170059204104,264.9340005493164,265.2587005615234,265.67350036621093,266.15870025634763,266.57990036010744,266.97410049438474,267.4206004333496,267.8343003845215,268.1593005371094,268.51300048828125,268.84980041503906,269.265700378418,269.714100189209,270.1358003234863,270.57940048217773,271.01050048828125,271.39340057373045,271.5276005554199,271.68910034179686,271.8648002624512,272.1436003112793,272.2586003112793,272.29290023803713,272.3945002746582,272.5226002502441,272.6334001159668,272.65350021362303,272.728500213623,272.79260025024416,272.73760025024416,272.62260025024415,272.4489001464844,272.2352000427246,272.03489990234374,271.8376998901367,271.4733999633789,271.26989990234375,271.07829986572267,270.9263998413086,270.79249969482424,270.4888998413086,270.2276998901367,269.98369964599607,269.89219970703124,269.8257995605469,269.8113995361328,269.8101995849609,269.82969970703124,269.77129943847655,269.83059967041015,270.0010995483398,270.17969970703126,270.40319976806643,270.59539978027345,270.84089981079103,271.03949996948245,271.10689987182616,271.14199966430664,271.18269943237306,271.2067994689941,271.08739944458006,271.0641993713379,271.06679946899413,271.07019943237304,271.04309951782227,270.9818995666504,270.98019943237307,270.77579940795897,270.6717991638184,270.602599029541,270.6741990661621,270.69889907836915,270.8223991394043,270.93959915161133,270.9923991394043,270.9973991394043,271.0505989074707,271.2148991394043,271.2882991027832,271.43299911499025,271.4120991516113,271.61119918823243,271.90579940795897,272.1327995300293,272.2042994689941,272.2440995788574,272.39909957885743,272.67399978637695,273.08059982299807,273.4459996032715,273.8197996520996,274.1656996154785,274.473699798584,274.7518998718262,275.11039993286136,275.44279983520505,275.7681996154785,276.1103996276855,276.35589950561524,276.56519943237305,276.79839950561524,277.0590995788574,277.22929977416993,277.4250999450684,277.90169998168943,278.3554997253418,278.7254997253418,279.0750996398926,279.44609939575196,279.8750993347168,280.3303993225098,280.64819931030274,280.957999420166,281.2267991638184,281.5345991516113,281.92999923706054,282.3566990661621,282.785399017334,283.2401991271973,283.7522990417481,284.1445991516113,284.6230992126465,285.18229934692386,285.7272993469238,286.36539932250975,286.942999420166,287.6011994934082,288.2052995300293,288.78999954223633,289.5250996398926,290.3799995422363,291.20039947509764,292.0464994812012,292.8574993896484,293.55909942626954,294.25199920654296,294.8907992553711,295.45659912109375,296.0415991210937,296.5176992797852,297.11919921875,297.859499206543,298.6820993041992,299.4937991333008,300.23669921875,301.12659942626954,301.98059967041013,302.7766995239258,303.6547998046875,304.5072998046875,305.31639984130857,306.11739959716795,306.8688995361328,307.63339965820313,308.429299621582,309.25629943847656,310.11699951171875,310.9582995605469,311.7112997436523,312.43769989013674,313.3073999023438,314.19350006103514,315.0563000488281,316.16420013427734,317.334700012207,318.43639984130857,319.5263998413086,320.55649993896486,321.4620999145508,322.33260009765627,323.1061999511719,324.0114001464844,324.9036001586914,325.7459002685547,326.52190002441404,327.3470001220703,328.04550018310545,328.7366000366211,329.4620999145508,330.30629974365235,331.10339996337893,331.8277001953125,332.4707000732422,333.18440002441406,333.87260009765623,334.5411001586914,335.1359002685547,335.71710021972655,336.3125003051758,336.98890045166013,337.6581005859375,338.36320037841796,339.0184002685547,339.75280029296874,340.49640014648435,341.2103002929687,341.967900390625,342.7283004760742,343.47870056152345,344.2788006591797,345.0067007446289,345.70690063476565,346.31840057373046,346.8044006347656,347.0841006469727,347.2654006958008,347.4992007446289,347.84520080566404,348.23080078125,348.4371008300781,348.6424008178711,348.97660095214843,349.3414010620117,349.5782012939453,349.85520111083986,350.03220123291015,350.16980133056643,350.37070129394533,350.4893014526367,350.5409014892578,350.62400146484373,350.6630014038086,350.6327014160156,350.7095013427734,350.7819012451172,350.9024011230469,351.0299011230469,350.9845010375977,351.0110009765625,350.8656008911133,350.62200103759767,350.4544012451172,350.3876013183594,350.36280151367185,350.3310012817383,350.2795013427734,350.27050140380857,350.3710015869141,350.3921014404297,350.44920135498046,350.40270141601565,350.28980133056643,350.29280151367186,350.3366015625,350.3525015258789,350.20380126953125,350.0718011474609,350.04770111083985,349.91390106201175,349.7394009399414,349.62220092773435,349.4485009765625,349.37230102539064,349.1127008056641,348.6871008300781,348.2701010131836,347.86220092773436,347.59630096435546,347.4128009033203,347.3489007568359,347.23050079345705,347.0657006835938,346.8987005615234,346.53820037841797,346.2302005004883,345.9011004638672,345.5062005615234,345.17750061035156,344.95650085449216],\"type\":\"scatter\",\"xaxis\":\"x\",\"yaxis\":\"y\"},{\"line\":{\"color\":\"red\",\"width\":2},\"name\":\"MA 200\",\"x\":[\"2020-07-14T00:00:00\",\"2020-07-15T00:00:00\",\"2020-07-16T00:00:00\",\"2020-07-17T00:00:00\",\"2020-07-20T00:00:00\",\"2020-07-21T00:00:00\",\"2020-07-22T00:00:00\",\"2020-07-23T00:00:00\",\"2020-07-24T00:00:00\",\"2020-07-27T00:00:00\",\"2020-07-28T00:00:00\",\"2020-07-29T00:00:00\",\"2020-07-30T00:00:00\",\"2020-07-31T00:00:00\",\"2020-08-03T00:00:00\",\"2020-08-04T00:00:00\",\"2020-08-05T00:00:00\",\"2020-08-06T00:00:00\",\"2020-08-07T00:00:00\",\"2020-08-10T00:00:00\",\"2020-08-11T00:00:00\",\"2020-08-12T00:00:00\",\"2020-08-13T00:00:00\",\"2020-08-14T00:00:00\",\"2020-08-17T00:00:00\",\"2020-08-18T00:00:00\",\"2020-08-19T00:00:00\",\"2020-08-20T00:00:00\",\"2020-08-21T00:00:00\",\"2020-08-24T00:00:00\",\"2020-08-25T00:00:00\",\"2020-08-26T00:00:00\",\"2020-08-27T00:00:00\",\"2020-08-28T00:00:00\",\"2020-08-31T00:00:00\",\"2020-09-01T00:00:00\",\"2020-09-02T00:00:00\",\"2020-09-03T00:00:00\",\"2020-09-04T00:00:00\",\"2020-09-08T00:00:00\",\"2020-09-09T00:00:00\",\"2020-09-10T00:00:00\",\"2020-09-11T00:00:00\",\"2020-09-14T00:00:00\",\"2020-09-15T00:00:00\",\"2020-09-16T00:00:00\",\"2020-09-17T00:00:00\",\"2020-09-18T00:00:00\",\"2020-09-21T00:00:00\",\"2020-09-22T00:00:00\",\"2020-09-23T00:00:00\",\"2020-09-24T00:00:00\",\"2020-09-25T00:00:00\",\"2020-09-28T00:00:00\",\"2020-09-29T00:00:00\",\"2020-09-30T00:00:00\",\"2020-10-01T00:00:00\",\"2020-10-02T00:00:00\",\"2020-10-05T00:00:00\",\"2020-10-06T00:00:00\",\"2020-10-07T00:00:00\",\"2020-10-08T00:00:00\",\"2020-10-09T00:00:00\",\"2020-10-12T00:00:00\",\"2020-10-13T00:00:00\",\"2020-10-14T00:00:00\",\"2020-10-15T00:00:00\",\"2020-10-16T00:00:00\",\"2020-10-19T00:00:00\",\"2020-10-20T00:00:00\",\"2020-10-21T00:00:00\",\"2020-10-22T00:00:00\",\"2020-10-23T00:00:00\",\"2020-10-26T00:00:00\",\"2020-10-27T00:00:00\",\"2020-10-28T00:00:00\",\"2020-10-29T00:00:00\",\"2020-10-30T00:00:00\",\"2020-11-02T00:00:00\",\"2020-11-03T00:00:00\",\"2020-11-04T00:00:00\",\"2020-11-05T00:00:00\",\"2020-11-06T00:00:00\",\"2020-11-09T00:00:00\",\"2020-11-10T00:00:00\",\"2020-11-11T00:00:00\",\"2020-11-12T00:00:00\",\"2020-11-13T00:00:00\",\"2020-11-16T00:00:00\",\"2020-11-17T00:00:00\",\"2020-11-18T00:00:00\",\"2020-11-19T00:00:00\",\"2020-11-20T00:00:00\",\"2020-11-23T00:00:00\",\"2020-11-24T00:00:00\",\"2020-11-25T00:00:00\",\"2020-11-27T00:00:00\",\"2020-11-30T00:00:00\",\"2020-12-01T00:00:00\",\"2020-12-02T00:00:00\",\"2020-12-03T00:00:00\",\"2020-12-04T00:00:00\",\"2020-12-07T00:00:00\",\"2020-12-08T00:00:00\",\"2020-12-09T00:00:00\",\"2020-12-10T00:00:00\",\"2020-12-11T00:00:00\",\"2020-12-14T00:00:00\",\"2020-12-15T00:00:00\",\"2020-12-16T00:00:00\",\"2020-12-17T00:00:00\",\"2020-12-18T00:00:00\",\"2020-12-21T00:00:00\",\"2020-12-22T00:00:00\",\"2020-12-23T00:00:00\",\"2020-12-24T00:00:00\",\"2020-12-28T00:00:00\",\"2020-12-29T00:00:00\",\"2020-12-30T00:00:00\",\"2020-12-31T00:00:00\",\"2021-01-04T00:00:00\",\"2021-01-05T00:00:00\",\"2021-01-06T00:00:00\",\"2021-01-07T00:00:00\",\"2021-01-08T00:00:00\",\"2021-01-11T00:00:00\",\"2021-01-12T00:00:00\",\"2021-01-13T00:00:00\",\"2021-01-14T00:00:00\",\"2021-01-15T00:00:00\",\"2021-01-19T00:00:00\",\"2021-01-20T00:00:00\",\"2021-01-21T00:00:00\",\"2021-01-22T00:00:00\",\"2021-01-25T00:00:00\",\"2021-01-26T00:00:00\",\"2021-01-27T00:00:00\",\"2021-01-28T00:00:00\",\"2021-01-29T00:00:00\",\"2021-02-01T00:00:00\",\"2021-02-02T00:00:00\",\"2021-02-03T00:00:00\",\"2021-02-04T00:00:00\",\"2021-02-05T00:00:00\",\"2021-02-08T00:00:00\",\"2021-02-09T00:00:00\",\"2021-02-10T00:00:00\",\"2021-02-11T00:00:00\",\"2021-02-12T00:00:00\",\"2021-02-16T00:00:00\",\"2021-02-17T00:00:00\",\"2021-02-18T00:00:00\",\"2021-02-19T00:00:00\",\"2021-02-22T00:00:00\",\"2021-02-23T00:00:00\",\"2021-02-24T00:00:00\",\"2021-02-25T00:00:00\",\"2021-02-26T00:00:00\",\"2021-03-01T00:00:00\",\"2021-03-02T00:00:00\",\"2021-03-03T00:00:00\",\"2021-03-04T00:00:00\",\"2021-03-05T00:00:00\",\"2021-03-08T00:00:00\",\"2021-03-09T00:00:00\",\"2021-03-10T00:00:00\",\"2021-03-11T00:00:00\",\"2021-03-12T00:00:00\",\"2021-03-15T00:00:00\",\"2021-03-16T00:00:00\",\"2021-03-17T00:00:00\",\"2021-03-18T00:00:00\",\"2021-03-19T00:00:00\",\"2021-03-22T00:00:00\",\"2021-03-23T00:00:00\",\"2021-03-24T00:00:00\",\"2021-03-25T00:00:00\",\"2021-03-26T00:00:00\",\"2021-03-29T00:00:00\",\"2021-03-30T00:00:00\",\"2021-03-31T00:00:00\",\"2021-04-01T00:00:00\",\"2021-04-05T00:00:00\",\"2021-04-06T00:00:00\",\"2021-04-07T00:00:00\",\"2021-04-08T00:00:00\",\"2021-04-09T00:00:00\",\"2021-04-12T00:00:00\",\"2021-04-13T00:00:00\",\"2021-04-14T00:00:00\",\"2021-04-15T00:00:00\",\"2021-04-16T00:00:00\",\"2021-04-19T00:00:00\",\"2021-04-20T00:00:00\",\"2021-04-21T00:00:00\",\"2021-04-22T00:00:00\",\"2021-04-23T00:00:00\",\"2021-04-26T00:00:00\",\"2021-04-27T00:00:00\",\"2021-04-28T00:00:00\",\"2021-04-29T00:00:00\",\"2021-04-30T00:00:00\",\"2021-05-03T00:00:00\",\"2021-05-04T00:00:00\",\"2021-05-05T00:00:00\",\"2021-05-06T00:00:00\",\"2021-05-07T00:00:00\",\"2021-05-10T00:00:00\",\"2021-05-11T00:00:00\",\"2021-05-12T00:00:00\",\"2021-05-13T00:00:00\",\"2021-05-14T00:00:00\",\"2021-05-17T00:00:00\",\"2021-05-18T00:00:00\",\"2021-05-19T00:00:00\",\"2021-05-20T00:00:00\",\"2021-05-21T00:00:00\",\"2021-05-24T00:00:00\",\"2021-05-25T00:00:00\",\"2021-05-26T00:00:00\",\"2021-05-27T00:00:00\",\"2021-05-28T00:00:00\",\"2021-06-01T00:00:00\",\"2021-06-02T00:00:00\",\"2021-06-03T00:00:00\",\"2021-06-04T00:00:00\",\"2021-06-07T00:00:00\",\"2021-06-08T00:00:00\",\"2021-06-09T00:00:00\",\"2021-06-10T00:00:00\",\"2021-06-11T00:00:00\",\"2021-06-14T00:00:00\",\"2021-06-15T00:00:00\",\"2021-06-16T00:00:00\",\"2021-06-17T00:00:00\",\"2021-06-18T00:00:00\",\"2021-06-21T00:00:00\",\"2021-06-22T00:00:00\",\"2021-06-23T00:00:00\",\"2021-06-24T00:00:00\",\"2021-06-25T00:00:00\",\"2021-06-28T00:00:00\",\"2021-06-29T00:00:00\",\"2021-06-30T00:00:00\",\"2021-07-01T00:00:00\",\"2021-07-02T00:00:00\",\"2021-07-06T00:00:00\",\"2021-07-07T00:00:00\",\"2021-07-08T00:00:00\",\"2021-07-09T00:00:00\",\"2021-07-12T00:00:00\",\"2021-07-13T00:00:00\",\"2021-07-14T00:00:00\",\"2021-07-15T00:00:00\",\"2021-07-16T00:00:00\",\"2021-07-19T00:00:00\",\"2021-07-20T00:00:00\",\"2021-07-21T00:00:00\",\"2021-07-22T00:00:00\",\"2021-07-23T00:00:00\",\"2021-07-26T00:00:00\",\"2021-07-27T00:00:00\",\"2021-07-28T00:00:00\",\"2021-07-29T00:00:00\",\"2021-07-30T00:00:00\",\"2021-08-02T00:00:00\",\"2021-08-03T00:00:00\",\"2021-08-04T00:00:00\",\"2021-08-05T00:00:00\",\"2021-08-06T00:00:00\",\"2021-08-09T00:00:00\",\"2021-08-10T00:00:00\",\"2021-08-11T00:00:00\",\"2021-08-12T00:00:00\",\"2021-08-13T00:00:00\",\"2021-08-16T00:00:00\",\"2021-08-17T00:00:00\",\"2021-08-18T00:00:00\",\"2021-08-19T00:00:00\",\"2021-08-20T00:00:00\",\"2021-08-23T00:00:00\",\"2021-08-24T00:00:00\",\"2021-08-25T00:00:00\",\"2021-08-26T00:00:00\",\"2021-08-27T00:00:00\",\"2021-08-30T00:00:00\",\"2021-08-31T00:00:00\",\"2021-09-01T00:00:00\",\"2021-09-02T00:00:00\",\"2021-09-03T00:00:00\",\"2021-09-07T00:00:00\",\"2021-09-08T00:00:00\",\"2021-09-09T00:00:00\",\"2021-09-10T00:00:00\",\"2021-09-13T00:00:00\",\"2021-09-14T00:00:00\",\"2021-09-15T00:00:00\",\"2021-09-16T00:00:00\",\"2021-09-17T00:00:00\",\"2021-09-20T00:00:00\",\"2021-09-21T00:00:00\",\"2021-09-22T00:00:00\",\"2021-09-23T00:00:00\",\"2021-09-24T00:00:00\",\"2021-09-27T00:00:00\",\"2021-09-28T00:00:00\",\"2021-09-29T00:00:00\",\"2021-09-30T00:00:00\",\"2021-10-01T00:00:00\",\"2021-10-04T00:00:00\",\"2021-10-05T00:00:00\",\"2021-10-06T00:00:00\",\"2021-10-07T00:00:00\",\"2021-10-08T00:00:00\",\"2021-10-11T00:00:00\",\"2021-10-12T00:00:00\",\"2021-10-13T00:00:00\",\"2021-10-14T00:00:00\",\"2021-10-15T00:00:00\",\"2021-10-18T00:00:00\",\"2021-10-19T00:00:00\",\"2021-10-20T00:00:00\",\"2021-10-21T00:00:00\",\"2021-10-22T00:00:00\",\"2021-10-25T00:00:00\",\"2021-10-26T00:00:00\",\"2021-10-27T00:00:00\",\"2021-10-28T00:00:00\",\"2021-10-29T00:00:00\",\"2021-11-01T00:00:00\",\"2021-11-02T00:00:00\",\"2021-11-03T00:00:00\",\"2021-11-04T00:00:00\",\"2021-11-05T00:00:00\",\"2021-11-08T00:00:00\",\"2021-11-09T00:00:00\",\"2021-11-10T00:00:00\",\"2021-11-11T00:00:00\",\"2021-11-12T00:00:00\",\"2021-11-15T00:00:00\",\"2021-11-16T00:00:00\",\"2021-11-17T00:00:00\",\"2021-11-18T00:00:00\",\"2021-11-19T00:00:00\",\"2021-11-22T00:00:00\",\"2021-11-23T00:00:00\",\"2021-11-24T00:00:00\",\"2021-11-26T00:00:00\",\"2021-11-29T00:00:00\",\"2021-11-30T00:00:00\",\"2021-12-01T00:00:00\",\"2021-12-02T00:00:00\",\"2021-12-03T00:00:00\",\"2021-12-06T00:00:00\",\"2021-12-07T00:00:00\",\"2021-12-08T00:00:00\",\"2021-12-09T00:00:00\",\"2021-12-10T00:00:00\",\"2021-12-13T00:00:00\",\"2021-12-14T00:00:00\",\"2021-12-15T00:00:00\",\"2021-12-16T00:00:00\",\"2021-12-17T00:00:00\",\"2021-12-20T00:00:00\",\"2021-12-21T00:00:00\"],\"y\":[201.0349501800537,201.3508501434326,201.66510009765625,201.99620010375978,202.35030006408692,202.66215003967284,202.95925003051758,203.22385009765625,203.4886501312256,203.756900100708,204.00735008239747,204.25285003662108,204.50895004272462,204.8328500366211,205.14490005493164,205.44210006713868,205.75845001220702,206.13605003356935,206.56655006408693,206.9508000946045,207.29955009460448,207.65955017089843,208.01905014038087,208.37870010375977,208.74325012207032,209.09670013427734,209.44155014038085,209.81300018310546,210.1764501953125,210.5756502532959,211.02765029907226,211.59300033569335,212.11105033874512,212.60700035095215,213.10705039978026,213.61850044250488,214.1555004119873,214.62410041809082,215.04115043640138,215.40940048217774,215.78835052490234,216.1347004699707,216.46880043029785,216.80470039367677,217.15680046081542,217.46620040893555,217.74180046081543,218.0103504180908,218.2575503540039,218.53450035095216,218.77435035705565,219.0153003692627,219.28505043029784,219.55785049438475,219.88305053710937,220.22200050354004,220.56555053710937,220.87330055236816,221.1840505218506,221.44705055236815,221.7061505126953,221.99405059814453,222.29070068359374,222.63050071716307,222.9707007598877,223.30775077819825,223.61510078430175,223.89585075378417,224.15950073242186,224.43430068969727,224.76265075683594,225.07715072631837,225.4096007537842,225.70485069274903,226.0117507171631,226.2548007965088,226.5532007598877,226.7599006652832,226.95600059509277,227.17530052185057,227.50560050964356,227.8802005004883,228.2575505065918,228.57705047607422,228.85025047302247,229.1165005493164,229.44425048828126,229.81945053100586,230.19330047607423,230.51915046691894,230.8284504699707,231.13890045166016,231.42575050354003,231.70260047912598,232.05125053405763,232.3754005432129,232.6987505340576,233.01270057678224,233.35645050048828,233.70660041809083,234.04295043945314,234.39055053710936,234.81485046386717,235.2480004119873,235.65160049438475,236.0884504699707,236.49385040283204,236.88260040283203,237.33090034484863,237.75045043945312,238.19700050354004,238.673550491333,239.19000053405762,239.63450050354004,240.12385040283203,240.68850036621095,241.22210037231446,241.87595039367676,242.48820037841796,243.11920036315917,243.69825035095215,244.30445037841798,244.88050033569337,245.41930030822755,245.9761003112793,246.44360031127928,246.9151003265381,247.3435503387451,247.73775032043457,248.19655029296874,248.7111003112793,249.27760040283204,249.8142003631592,250.34255035400392,250.86120040893556,251.39550033569336,251.88225044250487,252.31640045166014,252.72320037841797,253.1520004272461,253.5912003326416,254.0332502746582,254.5117002105713,254.94080024719239,255.34805015563964,255.7449501800537,256.16680015563963,256.60420021057126,256.98575019836426,257.3320501708984,257.6885501861572,258.0092002868652,258.2816502380371,258.54095016479494,258.81395011901856,259.07375007629395,259.2813001251221,259.51890007019045,259.8179500579834,260.07890007019046,260.30155006408694,260.5238001251221,260.7608000946045,260.8875000762939,261.0592500305176,261.20919998168944,261.4176000213623,261.6138999938965,261.85534996032715,262.1262999725342,262.38680000305175,262.6162999725342,262.91604988098146,263.2522999572754,263.55159996032717,263.8053000640869,264.0056500244141,264.23709999084474,264.5690500640869,264.86615005493167,265.1763000488281,265.49135009765627,265.85825012207033,266.2098501586914,266.58135017395017,266.95035011291503,267.3014500427246,267.6890500640869,268.05945014953613,268.49315017700195,268.9290502166748,269.32460014343263,269.6480500793457,269.9942000579834,270.30015007019045,270.57845001220704,270.8662000274658,271.15890007019044,271.4514000701904,271.791900100708,272.2408001708984,272.6648001098633,273.0730500793457,273.454700012207,273.8026999664307,274.194049911499,274.5900998687744,274.95694984436034,275.3360498046875,275.68129974365235,276.0569998168945,276.4702498626709,276.8750498199463,277.15649978637697,277.4646497344971,277.8085496520996,278.1440997314453,278.4408497619629,278.73759979248047,279.060899810791,279.44399978637693,279.7881997680664,280.1273498535156,280.4668998718262,280.7912998962402,281.13134994506834,281.50129989624025,281.824649810791,282.1408497619629,282.4461996459961,282.69839965820313,282.8626995849609,283.0803495788574,283.2674494934082,283.4839994812012,283.6550994873047,283.8040495300293,284.04359954833984,284.33289947509763,284.692999420166,285.03124938964845,285.4689994812012,285.89539962768555,286.3031996154785,286.71304962158206,287.1689497375488,287.6587496948242,288.14854965209963,288.6360496520996,289.1143997192383,289.6350997161865,290.1478997039795,290.61194969177245,291.05014961242676,291.4469995880127,291.8222496795654,292.1973996734619,292.62884971618655,293.06154975891116,293.6171997833252,294.18889976501464,294.7091497039795,295.25329963684084,295.6661496734619,296.0669495391846,296.46759956359864,296.89019950866697,297.35514961242677,297.8629996490479,298.342749710083,298.7571495819092,299.1721996307373,299.5480495452881,299.9757495880127,300.375199508667,300.86964942932127,301.2577495574951,301.71944969177247,302.1882497406006,302.6585997772217,303.0384497833252,303.3925998687744,303.76749992370605,304.1955500030518,304.6965500640869,305.2174500274658,305.73895011901857,306.26444999694826,306.74605003356936,307.25235008239747,307.80340003967285,308.3265500640869,308.86805000305174,309.41935005187986,309.91730003356935,310.4220000457764,310.90255012512205,311.38300010681155,311.7738501739502,312.11475028991697,312.49290031433105,312.8104502105713,313.11235023498534,313.46015022277834,313.83845008850096,314.1561000823975,314.4864000701904,314.81240013122556,315.14970024108885,315.4025002288818,315.6949001312256,315.9811002349854,316.26325019836423,316.57805015563963,316.86475028991697,317.1466002655029,317.3843003082275,317.64305030822754,317.90750038146973,318.21840034484865,318.5736502838135,318.92270027160646,319.31555030822756,319.5949002838135,319.9005002593994,320.19535026550295,320.501000289917,320.82740036010745,321.21705039978025,321.61015045166016,321.9450503540039,322.2657502746582,322.58065032958984,322.9138003540039,323.2168502807617,323.4834503173828,323.7609503173828,324.0746502685547,324.48745040893556,324.9152003479004,325.29460037231445,325.6652003479004,326.02620040893555,326.4122003173828,326.78435043334963,327.12335037231446,327.4693003845215,327.78295028686523,328.1206002807617,328.3730502319336,328.5582002258301,328.7632002258301,328.9896002197266,329.27730026245115,329.56205032348635,329.8933003234863,330.2689503479004,330.6296003723144,330.9775003051758,331.3512002563477,331.78245025634766,332.1687501525879,332.516300201416,332.8670002746582,333.2093003845215],\"type\":\"scatter\",\"xaxis\":\"x\",\"yaxis\":\"y\"},{\"line\":{\"color\":\"rgba(200, 20, 200, 0.8)\",\"dash\":\"dash\",\"shape\":\"linear\",\"width\":1},\"mode\":\"lines+text\",\"name\":\"Lines and Text\",\"showlegend\":false,\"text\":[\"\",\"$382.2 (0% disc:0%)\",\"\"],\"textposition\":\"top right\",\"x\":[\"2020-07-14T00:00:00\",\"2021-12-21T00:00:00\"],\"y\":[382.2,382.2],\"type\":\"scatter\",\"xaxis\":\"x\",\"yaxis\":\"y\"},{\"line\":{\"color\":\"rgba(200, 20, 200, 0.8)\",\"dash\":\"dash\",\"shape\":\"linear\",\"width\":1},\"mode\":\"lines+text\",\"name\":\"Lines and Text\",\"showlegend\":false,\"text\":[\"\",\"$365.8 (4.5% disc:4.5%)\",\"\"],\"textposition\":\"top right\",\"x\":[\"2020-07-14T00:00:00\",\"2021-12-21T00:00:00\"],\"y\":[365.7799987792969,365.7799987792969],\"type\":\"scatter\",\"xaxis\":\"x\",\"yaxis\":\"y\"},{\"line\":{\"color\":\"rgba(200, 20, 200, 0.8)\",\"dash\":\"dash\",\"shape\":\"linear\",\"width\":1},\"mode\":\"lines+text\",\"name\":\"Lines and Text\",\"showlegend\":false,\"text\":[\"\",\"$350.7 (4.3% disc:9.0%)\",\"\"],\"textposition\":\"top right\",\"x\":[\"2020-07-14T00:00:00\",\"2021-12-21T00:00:00\"],\"y\":[350.7099914550781,350.7099914550781],\"type\":\"scatter\",\"xaxis\":\"x\",\"yaxis\":\"y\"},{\"line\":{\"color\":\"rgba(200, 20, 200, 0.8)\",\"dash\":\"dash\",\"shape\":\"linear\",\"width\":1},\"mode\":\"lines+text\",\"name\":\"Lines and Text\",\"showlegend\":false,\"text\":[\"\",\"$342.5 (2.4% disc:11.6%)\",\"\"],\"textposition\":\"top right\",\"x\":[\"2020-07-14T00:00:00\",\"2021-12-21T00:00:00\"],\"y\":[342.4599914550781,342.4599914550781],\"type\":\"scatter\",\"xaxis\":\"x\",\"yaxis\":\"y\"},{\"line\":{\"color\":\"rgba(200, 20, 200, 0.8)\",\"dash\":\"dash\",\"shape\":\"linear\",\"width\":1},\"mode\":\"lines+text\",\"name\":\"Lines and Text\",\"showlegend\":false,\"text\":[\"\",\"$331.9 (3.2% disc:15.2%)\",\"\"],\"textposition\":\"top right\",\"x\":[\"2020-07-14T00:00:00\",\"2021-12-21T00:00:00\"],\"y\":[331.8699951171875,331.8699951171875],\"type\":\"scatter\",\"xaxis\":\"x\",\"yaxis\":\"y\"},{\"line\":{\"color\":\"rgba(200, 20, 200, 0.8)\",\"dash\":\"dash\",\"shape\":\"linear\",\"width\":1},\"mode\":\"lines+text\",\"name\":\"Lines and Text\",\"showlegend\":false,\"text\":[\"\",\"$317.4 (4.6% disc:20.4%)\",\"\"],\"textposition\":\"top right\",\"x\":[\"2020-07-14T00:00:00\",\"2021-12-21T00:00:00\"],\"y\":[317.3699951171875,317.3699951171875],\"type\":\"scatter\",\"xaxis\":\"x\",\"yaxis\":\"y\"},{\"line\":{\"color\":\"rgba(200, 20, 200, 0.8)\",\"dash\":\"dash\",\"shape\":\"linear\",\"width\":1},\"mode\":\"lines+text\",\"name\":\"Lines and Text\",\"showlegend\":false,\"text\":[\"\",\"$297.6 (6.6% disc:28.4%)\",\"\"],\"textposition\":\"top right\",\"x\":[\"2020-07-14T00:00:00\",\"2021-12-21T00:00:00\"],\"y\":[297.6000061035156,297.6000061035156],\"type\":\"scatter\",\"xaxis\":\"x\",\"yaxis\":\"y\"},{\"line\":{\"color\":\"rgba(200, 20, 200, 0.8)\",\"dash\":\"dash\",\"shape\":\"linear\",\"width\":1},\"mode\":\"lines+text\",\"name\":\"Lines and Text\",\"showlegend\":false,\"text\":[\"\",\"$286.2 (4.0% disc:33.5%)\",\"\"],\"textposition\":\"top right\",\"x\":[\"2020-07-14T00:00:00\",\"2021-12-21T00:00:00\"],\"y\":[286.2300109863281,286.2300109863281],\"type\":\"scatter\",\"xaxis\":\"x\",\"yaxis\":\"y\"},{\"line\":{\"color\":\"rgba(100, 10, 100, 0.2)\",\"dash\":\"dash\",\"shape\":\"linear\",\"width\":1},\"mode\":\"lines+text\",\"name\":\"Lines and Text\",\"showlegend\":false,\"text\":[\"\",\"$276.6 (3.5% disc:38.2%)\",\"\"],\"textposition\":\"top right\",\"x\":[\"2020-07-14T00:00:00\",\"2021-12-21T00:00:00\"],\"y\":[276.6400146484375,276.6400146484375],\"type\":\"scatter\",\"xaxis\":\"x\",\"yaxis\":\"y\"},{\"line\":{\"color\":\"rgba(100, 10, 100, 0.2)\",\"dash\":\"dash\",\"shape\":\"linear\",\"width\":1},\"mode\":\"lines+text\",\"name\":\"Lines and Text\",\"showlegend\":false,\"text\":[\"\",\"$264.1 (4.7% disc:44.7%)\",\"\"],\"textposition\":\"top right\",\"x\":[\"2020-07-14T00:00:00\",\"2021-12-21T00:00:00\"],\"y\":[264.1000061035156,264.1000061035156],\"type\":\"scatter\",\"xaxis\":\"x\",\"yaxis\":\"y\"},{\"line\":{\"color\":\"rgba(100, 10, 100, 0.2)\",\"dash\":\"dash\",\"shape\":\"linear\",\"width\":1},\"mode\":\"lines+text\",\"name\":\"Lines and Text\",\"showlegend\":false,\"text\":[\"\",\"$255.1 (3.5% disc:49.8%)\",\"\"],\"textposition\":\"top right\",\"x\":[\"2020-07-14T00:00:00\",\"2021-12-21T00:00:00\"],\"y\":[255.1300048828125,255.1300048828125],\"type\":\"scatter\",\"xaxis\":\"x\",\"yaxis\":\"y\"},{\"line\":{\"color\":\"rgba(100, 10, 100, 0.2)\",\"dash\":\"dash\",\"shape\":\"linear\",\"width\":1},\"mode\":\"lines+text\",\"name\":\"Lines and Text\",\"showlegend\":false,\"text\":[\"\",\"$245.6 (3.9% disc:55.6%)\",\"\"],\"textposition\":\"top right\",\"x\":[\"2020-07-14T00:00:00\",\"2021-12-21T00:00:00\"],\"y\":[245.6199951171875,245.6199951171875],\"type\":\"scatter\",\"xaxis\":\"x\",\"yaxis\":\"y\"},{\"line\":{\"color\":\"rgba(100, 10, 100, 0.2)\",\"dash\":\"dash\",\"shape\":\"linear\",\"width\":1},\"mode\":\"lines+text\",\"name\":\"Lines and Text\",\"showlegend\":false,\"text\":[\"\",\"$234.9 (4.5% disc:62.7%)\",\"\"],\"textposition\":\"top right\",\"x\":[\"2020-07-14T00:00:00\",\"2021-12-21T00:00:00\"],\"y\":[234.9499969482422,234.9499969482422],\"type\":\"scatter\",\"xaxis\":\"x\",\"yaxis\":\"y\"},{\"line\":{\"color\":\"rgba(100, 10, 100, 0.2)\",\"dash\":\"dash\",\"shape\":\"linear\",\"width\":1},\"mode\":\"lines+text\",\"name\":\"Lines and Text\",\"showlegend\":false,\"text\":[\"\",\"$0 (inf% disc:inf%)\",\"\"],\"textposition\":\"top right\",\"x\":[\"2020-07-14T00:00:00\",\"2021-12-21T00:00:00\"],\"y\":[0,0],\"type\":\"scatter\",\"xaxis\":\"x\",\"yaxis\":\"y\"},{\"marker\":{\"color\":[\"red\",\"green\",\"red\",\"red\",\"red\",\"green\",\"green\",\"green\",\"red\",\"red\",\"green\",\"red\",\"red\",\"green\",\"green\",\"green\",\"green\",\"red\",\"red\",\"green\",\"green\",\"red\",\"green\",\"green\",\"green\",\"red\",\"red\",\"red\",\"green\",\"red\",\"red\",\"red\",\"green\",\"green\",\"green\",\"red\",\"red\",\"green\",\"green\",\"green\",\"green\",\"green\",\"green\",\"green\",\"red\",\"green\",\"green\",\"green\",\"red\",\"red\",\"green\",\"red\",\"red\",\"green\",\"red\",\"green\",\"red\",\"green\",\"red\",\"green\",\"green\",\"red\",\"green\",\"red\",\"green\",\"green\",\"green\",\"green\",\"green\",\"red\",\"green\",\"green\",\"red\",\"green\",\"red\",\"green\",\"red\",\"green\",\"green\",\"red\",\"red\",\"red\",\"green\",\"green\",\"green\",\"red\",\"green\",\"green\",\"red\",\"green\",\"green\",\"red\",\"green\",\"green\",\"red\",\"green\",\"red\",\"red\",\"red\",\"red\",\"green\",\"green\",\"red\",\"green\",\"green\",\"red\",\"green\",\"red\",\"red\",\"red\",\"green\",\"red\",\"green\",\"green\",\"red\",\"green\",\"red\",\"green\",\"green\",\"red\",\"green\",\"red\",\"red\",\"red\",\"green\",\"green\",\"green\",\"red\",\"green\",\"red\",\"red\",\"green\",\"red\",\"red\",\"green\",\"red\",\"green\",\"green\",\"green\",\"red\",\"red\",\"red\",\"green\",\"red\",\"green\",\"red\",\"green\",\"green\",\"green\",\"red\",\"red\",\"green\",\"green\",\"red\",\"red\",\"red\",\"green\",\"red\",\"red\",\"green\",\"green\",\"red\",\"red\",\"green\",\"red\",\"green\",\"red\",\"green\",\"red\",\"red\",\"red\",\"green\",\"red\",\"red\",\"green\",\"green\",\"green\",\"red\",\"red\",\"green\",\"red\",\"red\",\"red\",\"green\",\"red\",\"green\",\"red\",\"red\",\"green\",\"green\",\"red\",\"green\",\"green\",\"red\",\"green\",\"green\",\"red\",\"green\",\"green\",\"green\",\"green\",\"green\",\"green\",\"green\",\"green\",\"red\",\"green\",\"green\",\"red\",\"red\",\"green\",\"red\",\"red\",\"green\",\"red\",\"red\",\"green\",\"red\",\"red\",\"green\",\"red\",\"green\",\"green\",\"green\",\"red\",\"red\",\"red\",\"green\",\"green\",\"red\",\"green\",\"red\",\"green\",\"green\",\"red\",\"green\",\"red\",\"red\",\"red\",\"red\",\"green\",\"red\",\"green\",\"green\",\"red\",\"green\",\"green\",\"green\",\"green\",\"red\",\"red\",\"red\",\"green\",\"green\",\"green\",\"green\",\"red\",\"red\",\"red\",\"red\",\"red\",\"green\",\"green\",\"green\",\"red\",\"green\",\"green\",\"red\",\"red\",\"red\",\"green\",\"green\",\"green\",\"red\",\"red\",\"red\",\"green\",\"green\",\"red\",\"red\",\"red\",\"red\",\"red\",\"green\",\"red\",\"red\",\"green\",\"red\",\"green\",\"red\",\"red\",\"green\",\"red\",\"green\",\"green\",\"green\",\"green\",\"red\",\"green\",\"green\",\"green\",\"green\",\"red\",\"red\",\"red\",\"green\",\"green\",\"green\",\"red\",\"green\",\"red\",\"red\",\"green\",\"green\",\"green\",\"red\",\"green\",\"red\",\"green\",\"red\",\"red\",\"green\",\"red\",\"green\",\"red\",\"green\",\"green\",\"red\",\"red\",\"red\",\"green\",\"red\",\"red\",\"red\",\"green\",\"green\",\"green\",\"green\",\"red\",\"red\",\"green\",\"green\",\"green\",\"red\",\"green\",\"green\",\"red\",\"green\",\"red\",\"green\",\"green\",\"green\",\"green\",\"red\",\"red\",\"red\",\"red\",\"green\",\"red\",\"red\",\"red\",\"green\",\"red\",\"green\",\"red\"]},\"name\":\"Volume\",\"x\":[\"2020-07-14T00:00:00\",\"2020-07-15T00:00:00\",\"2020-07-16T00:00:00\",\"2020-07-17T00:00:00\",\"2020-07-20T00:00:00\",\"2020-07-21T00:00:00\",\"2020-07-22T00:00:00\",\"2020-07-23T00:00:00\",\"2020-07-24T00:00:00\",\"2020-07-27T00:00:00\",\"2020-07-28T00:00:00\",\"2020-07-29T00:00:00\",\"2020-07-30T00:00:00\",\"2020-07-31T00:00:00\",\"2020-08-03T00:00:00\",\"2020-08-04T00:00:00\",\"2020-08-05T00:00:00\",\"2020-08-06T00:00:00\",\"2020-08-07T00:00:00\",\"2020-08-10T00:00:00\",\"2020-08-11T00:00:00\",\"2020-08-12T00:00:00\",\"2020-08-13T00:00:00\",\"2020-08-14T00:00:00\",\"2020-08-17T00:00:00\",\"2020-08-18T00:00:00\",\"2020-08-19T00:00:00\",\"2020-08-20T00:00:00\",\"2020-08-21T00:00:00\",\"2020-08-24T00:00:00\",\"2020-08-25T00:00:00\",\"2020-08-26T00:00:00\",\"2020-08-27T00:00:00\",\"2020-08-28T00:00:00\",\"2020-08-31T00:00:00\",\"2020-09-01T00:00:00\",\"2020-09-02T00:00:00\",\"2020-09-03T00:00:00\",\"2020-09-04T00:00:00\",\"2020-09-08T00:00:00\",\"2020-09-09T00:00:00\",\"2020-09-10T00:00:00\",\"2020-09-11T00:00:00\",\"2020-09-14T00:00:00\",\"2020-09-15T00:00:00\",\"2020-09-16T00:00:00\",\"2020-09-17T00:00:00\",\"2020-09-18T00:00:00\",\"2020-09-21T00:00:00\",\"2020-09-22T00:00:00\",\"2020-09-23T00:00:00\",\"2020-09-24T00:00:00\",\"2020-09-25T00:00:00\",\"2020-09-28T00:00:00\",\"2020-09-29T00:00:00\",\"2020-09-30T00:00:00\",\"2020-10-01T00:00:00\",\"2020-10-02T00:00:00\",\"2020-10-05T00:00:00\",\"2020-10-06T00:00:00\",\"2020-10-07T00:00:00\",\"2020-10-08T00:00:00\",\"2020-10-09T00:00:00\",\"2020-10-12T00:00:00\",\"2020-10-13T00:00:00\",\"2020-10-14T00:00:00\",\"2020-10-15T00:00:00\",\"2020-10-16T00:00:00\",\"2020-10-19T00:00:00\",\"2020-10-20T00:00:00\",\"2020-10-21T00:00:00\",\"2020-10-22T00:00:00\",\"2020-10-23T00:00:00\",\"2020-10-26T00:00:00\",\"2020-10-27T00:00:00\",\"2020-10-28T00:00:00\",\"2020-10-29T00:00:00\",\"2020-10-30T00:00:00\",\"2020-11-02T00:00:00\",\"2020-11-03T00:00:00\",\"2020-11-04T00:00:00\",\"2020-11-05T00:00:00\",\"2020-11-06T00:00:00\",\"2020-11-09T00:00:00\",\"2020-11-10T00:00:00\",\"2020-11-11T00:00:00\",\"2020-11-12T00:00:00\",\"2020-11-13T00:00:00\",\"2020-11-16T00:00:00\",\"2020-11-17T00:00:00\",\"2020-11-18T00:00:00\",\"2020-11-19T00:00:00\",\"2020-11-20T00:00:00\",\"2020-11-23T00:00:00\",\"2020-11-24T00:00:00\",\"2020-11-25T00:00:00\",\"2020-11-27T00:00:00\",\"2020-11-30T00:00:00\",\"2020-12-01T00:00:00\",\"2020-12-02T00:00:00\",\"2020-12-03T00:00:00\",\"2020-12-04T00:00:00\",\"2020-12-07T00:00:00\",\"2020-12-08T00:00:00\",\"2020-12-09T00:00:00\",\"2020-12-10T00:00:00\",\"2020-12-11T00:00:00\",\"2020-12-14T00:00:00\",\"2020-12-15T00:00:00\",\"2020-12-16T00:00:00\",\"2020-12-17T00:00:00\",\"2020-12-18T00:00:00\",\"2020-12-21T00:00:00\",\"2020-12-22T00:00:00\",\"2020-12-23T00:00:00\",\"2020-12-24T00:00:00\",\"2020-12-28T00:00:00\",\"2020-12-29T00:00:00\",\"2020-12-30T00:00:00\",\"2020-12-31T00:00:00\",\"2021-01-04T00:00:00\",\"2021-01-05T00:00:00\",\"2021-01-06T00:00:00\",\"2021-01-07T00:00:00\",\"2021-01-08T00:00:00\",\"2021-01-11T00:00:00\",\"2021-01-12T00:00:00\",\"2021-01-13T00:00:00\",\"2021-01-14T00:00:00\",\"2021-01-15T00:00:00\",\"2021-01-19T00:00:00\",\"2021-01-20T00:00:00\",\"2021-01-21T00:00:00\",\"2021-01-22T00:00:00\",\"2021-01-25T00:00:00\",\"2021-01-26T00:00:00\",\"2021-01-27T00:00:00\",\"2021-01-28T00:00:00\",\"2021-01-29T00:00:00\",\"2021-02-01T00:00:00\",\"2021-02-02T00:00:00\",\"2021-02-03T00:00:00\",\"2021-02-04T00:00:00\",\"2021-02-05T00:00:00\",\"2021-02-08T00:00:00\",\"2021-02-09T00:00:00\",\"2021-02-10T00:00:00\",\"2021-02-11T00:00:00\",\"2021-02-12T00:00:00\",\"2021-02-16T00:00:00\",\"2021-02-17T00:00:00\",\"2021-02-18T00:00:00\",\"2021-02-19T00:00:00\",\"2021-02-22T00:00:00\",\"2021-02-23T00:00:00\",\"2021-02-24T00:00:00\",\"2021-02-25T00:00:00\",\"2021-02-26T00:00:00\",\"2021-03-01T00:00:00\",\"2021-03-02T00:00:00\",\"2021-03-03T00:00:00\",\"2021-03-04T00:00:00\",\"2021-03-05T00:00:00\",\"2021-03-08T00:00:00\",\"2021-03-09T00:00:00\",\"2021-03-10T00:00:00\",\"2021-03-11T00:00:00\",\"2021-03-12T00:00:00\",\"2021-03-15T00:00:00\",\"2021-03-16T00:00:00\",\"2021-03-17T00:00:00\",\"2021-03-18T00:00:00\",\"2021-03-19T00:00:00\",\"2021-03-22T00:00:00\",\"2021-03-23T00:00:00\",\"2021-03-24T00:00:00\",\"2021-03-25T00:00:00\",\"2021-03-26T00:00:00\",\"2021-03-29T00:00:00\",\"2021-03-30T00:00:00\",\"2021-03-31T00:00:00\",\"2021-04-01T00:00:00\",\"2021-04-05T00:00:00\",\"2021-04-06T00:00:00\",\"2021-04-07T00:00:00\",\"2021-04-08T00:00:00\",\"2021-04-09T00:00:00\",\"2021-04-12T00:00:00\",\"2021-04-13T00:00:00\",\"2021-04-14T00:00:00\",\"2021-04-15T00:00:00\",\"2021-04-16T00:00:00\",\"2021-04-19T00:00:00\",\"2021-04-20T00:00:00\",\"2021-04-21T00:00:00\",\"2021-04-22T00:00:00\",\"2021-04-23T00:00:00\",\"2021-04-26T00:00:00\",\"2021-04-27T00:00:00\",\"2021-04-28T00:00:00\",\"2021-04-29T00:00:00\",\"2021-04-30T00:00:00\",\"2021-05-03T00:00:00\",\"2021-05-04T00:00:00\",\"2021-05-05T00:00:00\",\"2021-05-06T00:00:00\",\"2021-05-07T00:00:00\",\"2021-05-10T00:00:00\",\"2021-05-11T00:00:00\",\"2021-05-12T00:00:00\",\"2021-05-13T00:00:00\",\"2021-05-14T00:00:00\",\"2021-05-17T00:00:00\",\"2021-05-18T00:00:00\",\"2021-05-19T00:00:00\",\"2021-05-20T00:00:00\",\"2021-05-21T00:00:00\",\"2021-05-24T00:00:00\",\"2021-05-25T00:00:00\",\"2021-05-26T00:00:00\",\"2021-05-27T00:00:00\",\"2021-05-28T00:00:00\",\"2021-06-01T00:00:00\",\"2021-06-02T00:00:00\",\"2021-06-03T00:00:00\",\"2021-06-04T00:00:00\",\"2021-06-07T00:00:00\",\"2021-06-08T00:00:00\",\"2021-06-09T00:00:00\",\"2021-06-10T00:00:00\",\"2021-06-11T00:00:00\",\"2021-06-14T00:00:00\",\"2021-06-15T00:00:00\",\"2021-06-16T00:00:00\",\"2021-06-17T00:00:00\",\"2021-06-18T00:00:00\",\"2021-06-21T00:00:00\",\"2021-06-22T00:00:00\",\"2021-06-23T00:00:00\",\"2021-06-24T00:00:00\",\"2021-06-25T00:00:00\",\"2021-06-28T00:00:00\",\"2021-06-29T00:00:00\",\"2021-06-30T00:00:00\",\"2021-07-01T00:00:00\",\"2021-07-02T00:00:00\",\"2021-07-06T00:00:00\",\"2021-07-07T00:00:00\",\"2021-07-08T00:00:00\",\"2021-07-09T00:00:00\",\"2021-07-12T00:00:00\",\"2021-07-13T00:00:00\",\"2021-07-14T00:00:00\",\"2021-07-15T00:00:00\",\"2021-07-16T00:00:00\",\"2021-07-19T00:00:00\",\"2021-07-20T00:00:00\",\"2021-07-21T00:00:00\",\"2021-07-22T00:00:00\",\"2021-07-23T00:00:00\",\"2021-07-26T00:00:00\",\"2021-07-27T00:00:00\",\"2021-07-28T00:00:00\",\"2021-07-29T00:00:00\",\"2021-07-30T00:00:00\",\"2021-08-02T00:00:00\",\"2021-08-03T00:00:00\",\"2021-08-04T00:00:00\",\"2021-08-05T00:00:00\",\"2021-08-06T00:00:00\",\"2021-08-09T00:00:00\",\"2021-08-10T00:00:00\",\"2021-08-11T00:00:00\",\"2021-08-12T00:00:00\",\"2021-08-13T00:00:00\",\"2021-08-16T00:00:00\",\"2021-08-17T00:00:00\",\"2021-08-18T00:00:00\",\"2021-08-19T00:00:00\",\"2021-08-20T00:00:00\",\"2021-08-23T00:00:00\",\"2021-08-24T00:00:00\",\"2021-08-25T00:00:00\",\"2021-08-26T00:00:00\",\"2021-08-27T00:00:00\",\"2021-08-30T00:00:00\",\"2021-08-31T00:00:00\",\"2021-09-01T00:00:00\",\"2021-09-02T00:00:00\",\"2021-09-03T00:00:00\",\"2021-09-07T00:00:00\",\"2021-09-08T00:00:00\",\"2021-09-09T00:00:00\",\"2021-09-10T00:00:00\",\"2021-09-13T00:00:00\",\"2021-09-14T00:00:00\",\"2021-09-15T00:00:00\",\"2021-09-16T00:00:00\",\"2021-09-17T00:00:00\",\"2021-09-20T00:00:00\",\"2021-09-21T00:00:00\",\"2021-09-22T00:00:00\",\"2021-09-23T00:00:00\",\"2021-09-24T00:00:00\",\"2021-09-27T00:00:00\",\"2021-09-28T00:00:00\",\"2021-09-29T00:00:00\",\"2021-09-30T00:00:00\",\"2021-10-01T00:00:00\",\"2021-10-04T00:00:00\",\"2021-10-05T00:00:00\",\"2021-10-06T00:00:00\",\"2021-10-07T00:00:00\",\"2021-10-08T00:00:00\",\"2021-10-11T00:00:00\",\"2021-10-12T00:00:00\",\"2021-10-13T00:00:00\",\"2021-10-14T00:00:00\",\"2021-10-15T00:00:00\",\"2021-10-18T00:00:00\",\"2021-10-19T00:00:00\",\"2021-10-20T00:00:00\",\"2021-10-21T00:00:00\",\"2021-10-22T00:00:00\",\"2021-10-25T00:00:00\",\"2021-10-26T00:00:00\",\"2021-10-27T00:00:00\",\"2021-10-28T00:00:00\",\"2021-10-29T00:00:00\",\"2021-11-01T00:00:00\",\"2021-11-02T00:00:00\",\"2021-11-03T00:00:00\",\"2021-11-04T00:00:00\",\"2021-11-05T00:00:00\",\"2021-11-08T00:00:00\",\"2021-11-09T00:00:00\",\"2021-11-10T00:00:00\",\"2021-11-11T00:00:00\",\"2021-11-12T00:00:00\",\"2021-11-15T00:00:00\",\"2021-11-16T00:00:00\",\"2021-11-17T00:00:00\",\"2021-11-18T00:00:00\",\"2021-11-19T00:00:00\",\"2021-11-22T00:00:00\",\"2021-11-23T00:00:00\",\"2021-11-24T00:00:00\",\"2021-11-26T00:00:00\",\"2021-11-29T00:00:00\",\"2021-11-30T00:00:00\",\"2021-12-01T00:00:00\",\"2021-12-02T00:00:00\",\"2021-12-03T00:00:00\",\"2021-12-06T00:00:00\",\"2021-12-07T00:00:00\",\"2021-12-08T00:00:00\",\"2021-12-09T00:00:00\",\"2021-12-10T00:00:00\",\"2021-12-13T00:00:00\",\"2021-12-14T00:00:00\",\"2021-12-15T00:00:00\",\"2021-12-16T00:00:00\",\"2021-12-17T00:00:00\",\"2021-12-20T00:00:00\",\"2021-12-21T00:00:00\"],\"y\":[23378100,19133600,18880700,18152400,20872200,19364200,15427900,21771800,18325800,13163100,14170100,13588300,20615300,53005100,23124900,17183500,13050100,45241600,72766400,30248800,28238300,21415700,17374000,14792700,13351100,18690400,23291500,20299700,15538600,23685600,42127200,69015200,30301300,17157400,17345100,17295900,24341400,32294100,30333700,24864000,22918800,24814700,18913900,24093800,18478500,29183400,31281400,28130800,24709400,30293100,19641300,20006800,18351300,18826300,20200200,20142500,20009800,16367600,12822300,18696900,23133400,16312800,14107800,31019300,18063300,15577800,15416100,16622700,13587000,18763200,28998600,16720000,17535200,21322900,16287200,23121800,32368100,47247800,27165700,17961900,35364400,23823600,13891000,25117700,29067700,14957000,12899500,10391200,12970400,15040300,12152900,12963700,18114700,20990800,16930400,12467000,7808400,16693300,20738900,17361600,12921700,10880300,13007700,10747700,25189700,20065100,14391400,16376900,23979500,15885000,16377800,26693200,16553700,17312900,14329000,6702000,23299700,16383000,11803800,12900400,15106100,9871600,24354100,15789800,18528300,30412300,26383500,19528900,29739400,24942900,28028500,25199900,20838700,21954000,19087000,19373600,35346200,37758800,30389500,22914300,17320800,14223400,16060000,12454400,13755200,14613400,14687200,12828600,9097600,15417200,12763200,15249100,25622600,17434900,21924600,15736100,19053100,26619500,22157300,15191700,15513500,31626500,26820100,18391800,22039700,14210300,21834000,20600200,16844800,22437700,21315000,18728300,38930500,28273100,23000900,18675000,24505600,17629200,21718800,17474500,19498200,17616000,28237000,17335200,22855200,20894100,15988600,10881900,14036900,17421400,14558300,13059200,14553500,16796400,14863500,16375400,17536800,16172600,15309300,33907200,56526800,26332400,18719500,24032600,15577600,19012200,15916700,24239200,18920100,24645500,18079200,19245700,15401300,14522400,19106200,17320200,13600900,16445400,16437000,9686900,20477700,12037400,11765900,11654300,12610800,13289400,20136700,14580500,13727900,13240200,13587900,12250800,15795200,17232200,17794100,23039500,11337500,15345300,14817800,12329100,14594400,29156100,21417300,15107500,17137000,11521300,13488500,14218900,14406500,13018700,10018600,11456000,13894200,14781600,11026100,14372300,11024300,9279700,12385400,33694300,14925200,15705400,29676900,33413200,15966700,13180400,12406100,14180600,10247200,8918100,7798900,7469900,8400300,7170700,7192500,11222100,12328700,10042400,12004500,8693500,10942000,9235100,9684500,7888700,11214200,13547300,12345400,11567200,14832900,7509600,10793800,11067200,9098900,11537600,13026300,8711600,17940300,11934200,26299000,19822800,11751900,43692900,21806300,18801900,15205800,21710300,14452200,16547100,14905300,42885000,35377900,26443000,28307500,15934300,14708200,31658700,14761500,14302200,21575100,21585000,18786300,13639500,16354400,35224500,38409000,65654000,29971800,50806800,37059400,31518900,28353000,20786500,22495300,26852100,18342500,17556700,21872600,12376600,25387200,25076600,18181100,13602800,17487200,26488500,27116800,17225000,13566200,14750700,16650900,25390000,30329600,24396200,27448700,21758300,18794000,19937700,16879200,14520900,22948700,20461000,24681300,22635000,39711700,17901800,15225216],\"type\":\"bar\",\"xaxis\":\"x2\",\"yaxis\":\"y2\"},{\"marker\":{\"color\":[\"#FF5733\",\"#FF5733\",\"#FF5733\",\"#FF5733\",\"#FF5733\",\"#FF5733\",\"#FF5733\",\"#FF5733\",\"#FF5733\",\"#FF5733\",\"#FF5733\",\"#FF5733\",\"#FF5733\",\"#FF5733\",\"#FF5733\",\"#FF5733\",\"#FF5733\",\"#FF5733\",\"#FF5733\",\"#FF5733\",\"#FF5733\",\"#FF5733\",\"#FF5733\",\"#FF5733\",\"#FF5733\",\"#FF5733\",\"#FF5733\",\"#FF5733\",\"#FF5733\",\"#FF5733\",\"#FF5733\",\"#FF5733\",\"#FF5733\",\"green\",\"green\",\"green\",\"green\",\"green\",\"green\",\"#FF5733\",\"#FF5733\",\"#FF5733\",\"#FF5733\",\"#FF5733\",\"#FF5733\",\"#FF5733\",\"#FF5733\",\"#FF5733\",\"#FF5733\",\"#FF5733\",\"#FF5733\",\"#FF5733\",\"#FF5733\",\"#FF5733\",\"#FF5733\",\"#FF5733\",\"green\",\"green\",\"green\",\"green\",\"green\",\"green\",\"green\",\"green\",\"green\",\"green\",\"green\",\"green\",\"green\",\"green\",\"green\",\"green\",\"green\",\"green\",\"green\",\"green\",\"green\",\"#FF5733\",\"#FF5733\",\"#FF5733\",\"green\",\"green\",\"green\",\"green\",\"green\",\"#FF5733\",\"#FF5733\",\"#FF5733\",\"#FF5733\",\"#FF5733\",\"#FF5733\",\"#FF5733\",\"#FF5733\",\"#FF5733\",\"#FF5733\",\"#FF5733\",\"#FF5733\",\"#FF5733\",\"green\",\"green\",\"green\",\"green\",\"green\",\"green\",\"green\",\"#FF5733\",\"#FF5733\",\"#FF5733\",\"#FF5733\",\"#FF5733\",\"#FF5733\",\"#FF5733\",\"#FF5733\",\"#FF5733\",\"#FF5733\",\"#FF5733\",\"#FF5733\",\"#FF5733\",\"#FF5733\",\"#FF5733\",\"#FF5733\",\"#FF5733\",\"#FF5733\",\"#FF5733\",\"#FF5733\",\"#FF5733\",\"#FF5733\",\"#FF5733\",\"#FF5733\",\"#FF5733\",\"#FF5733\",\"#FF5733\",\"green\",\"green\",\"green\",\"green\",\"green\",\"green\",\"green\",\"green\",\"green\",\"green\",\"green\",\"green\",\"green\",\"green\",\"green\",\"green\",\"green\",\"green\",\"green\",\"green\",\"#FF5733\",\"#FF5733\",\"#FF5733\",\"#FF5733\",\"#FF5733\",\"#FF5733\",\"#FF5733\",\"#FF5733\",\"#FF5733\",\"#FF5733\",\"#FF5733\",\"#FF5733\",\"#FF5733\",\"green\",\"green\",\"green\",\"green\",\"green\",\"green\",\"green\",\"green\",\"green\",\"green\",\"green\",\"green\",\"green\",\"green\",\"green\",\"green\",\"green\",\"green\",\"green\",\"green\",\"green\",\"green\",\"green\",\"green\",\"green\",\"green\",\"#FF5733\",\"#FF5733\",\"#FF5733\",\"#FF5733\",\"#FF5733\",\"#FF5733\",\"#FF5733\",\"#FF5733\",\"#FF5733\",\"green\",\"green\",\"green\",\"green\",\"green\",\"green\",\"green\",\"#FF5733\",\"#FF5733\",\"#FF5733\",\"#FF5733\",\"#FF5733\",\"#FF5733\",\"#FF5733\",\"#FF5733\",\"#FF5733\",\"#FF5733\",\"green\",\"green\",\"green\",\"green\",\"green\",\"green\",\"green\",\"green\",\"green\",\"green\",\"green\",\"green\",\"green\",\"#FF5733\",\"green\",\"green\",\"#FF5733\",\"#FF5733\",\"#FF5733\",\"#FF5733\",\"#FF5733\",\"#FF5733\",\"green\",\"green\",\"green\",\"green\",\"green\",\"green\",\"green\",\"green\",\"green\",\"#FF5733\",\"#FF5733\",\"#FF5733\",\"#FF5733\",\"#FF5733\",\"#FF5733\",\"#FF5733\",\"#FF5733\",\"#FF5733\",\"#FF5733\",\"#FF5733\",\"green\",\"green\",\"green\",\"green\",\"green\",\"green\",\"#FF5733\",\"#FF5733\",\"#FF5733\",\"#FF5733\",\"#FF5733\",\"#FF5733\",\"#FF5733\",\"#FF5733\",\"#FF5733\",\"#FF5733\",\"#FF5733\",\"#FF5733\",\"#FF5733\",\"#FF5733\",\"#FF5733\",\"#FF5733\",\"#FF5733\",\"#FF5733\",\"#FF5733\",\"green\",\"green\",\"green\",\"green\",\"green\",\"green\",\"green\",\"green\",\"green\",\"green\",\"#FF5733\",\"#FF5733\",\"#FF5733\",\"#FF5733\",\"#FF5733\",\"#FF5733\",\"#FF5733\",\"#FF5733\",\"#FF5733\",\"#FF5733\",\"#FF5733\",\"#FF5733\",\"#FF5733\",\"#FF5733\",\"#FF5733\",\"#FF5733\",\"#FF5733\",\"#FF5733\",\"#FF5733\",\"#FF5733\",\"#FF5733\",\"#FF5733\",\"#FF5733\",\"#FF5733\",\"#FF5733\",\"green\",\"green\",\"green\",\"green\",\"green\",\"green\",\"green\",\"#FF5733\",\"#FF5733\",\"#FF5733\",\"green\",\"green\",\"green\",\"green\",\"green\",\"green\",\"green\",\"green\",\"green\",\"green\",\"green\",\"green\",\"green\",\"green\",\"green\",\"green\",\"green\",\"green\",\"green\",\"green\",\"#FF5733\",\"#FF5733\",\"#FF5733\",\"#FF5733\",\"#FF5733\",\"#FF5733\",\"#FF5733\",\"#FF5733\",\"green\",\"green\",\"green\",\"green\",\"green\",\"green\",\"green\",\"green\"]},\"name\":\"MACD diff\",\"x\":[\"2020-07-14T00:00:00\",\"2020-07-15T00:00:00\",\"2020-07-16T00:00:00\",\"2020-07-17T00:00:00\",\"2020-07-20T00:00:00\",\"2020-07-21T00:00:00\",\"2020-07-22T00:00:00\",\"2020-07-23T00:00:00\",\"2020-07-24T00:00:00\",\"2020-07-27T00:00:00\",\"2020-07-28T00:00:00\",\"2020-07-29T00:00:00\",\"2020-07-30T00:00:00\",\"2020-07-31T00:00:00\",\"2020-08-03T00:00:00\",\"2020-08-04T00:00:00\",\"2020-08-05T00:00:00\",\"2020-08-06T00:00:00\",\"2020-08-07T00:00:00\",\"2020-08-10T00:00:00\",\"2020-08-11T00:00:00\",\"2020-08-12T00:00:00\",\"2020-08-13T00:00:00\",\"2020-08-14T00:00:00\",\"2020-08-17T00:00:00\",\"2020-08-18T00:00:00\",\"2020-08-19T00:00:00\",\"2020-08-20T00:00:00\",\"2020-08-21T00:00:00\",\"2020-08-24T00:00:00\",\"2020-08-25T00:00:00\",\"2020-08-26T00:00:00\",\"2020-08-27T00:00:00\",\"2020-08-28T00:00:00\",\"2020-08-31T00:00:00\",\"2020-09-01T00:00:00\",\"2020-09-02T00:00:00\",\"2020-09-03T00:00:00\",\"2020-09-04T00:00:00\",\"2020-09-08T00:00:00\",\"2020-09-09T00:00:00\",\"2020-09-10T00:00:00\",\"2020-09-11T00:00:00\",\"2020-09-14T00:00:00\",\"2020-09-15T00:00:00\",\"2020-09-16T00:00:00\",\"2020-09-17T00:00:00\",\"2020-09-18T00:00:00\",\"2020-09-21T00:00:00\",\"2020-09-22T00:00:00\",\"2020-09-23T00:00:00\",\"2020-09-24T00:00:00\",\"2020-09-25T00:00:00\",\"2020-09-28T00:00:00\",\"2020-09-29T00:00:00\",\"2020-09-30T00:00:00\",\"2020-10-01T00:00:00\",\"2020-10-02T00:00:00\",\"2020-10-05T00:00:00\",\"2020-10-06T00:00:00\",\"2020-10-07T00:00:00\",\"2020-10-08T00:00:00\",\"2020-10-09T00:00:00\",\"2020-10-12T00:00:00\",\"2020-10-13T00:00:00\",\"2020-10-14T00:00:00\",\"2020-10-15T00:00:00\",\"2020-10-16T00:00:00\",\"2020-10-19T00:00:00\",\"2020-10-20T00:00:00\",\"2020-10-21T00:00:00\",\"2020-10-22T00:00:00\",\"2020-10-23T00:00:00\",\"2020-10-26T00:00:00\",\"2020-10-27T00:00:00\",\"2020-10-28T00:00:00\",\"2020-10-29T00:00:00\",\"2020-10-30T00:00:00\",\"2020-11-02T00:00:00\",\"2020-11-03T00:00:00\",\"2020-11-04T00:00:00\",\"2020-11-05T00:00:00\",\"2020-11-06T00:00:00\",\"2020-11-09T00:00:00\",\"2020-11-10T00:00:00\",\"2020-11-11T00:00:00\",\"2020-11-12T00:00:00\",\"2020-11-13T00:00:00\",\"2020-11-16T00:00:00\",\"2020-11-17T00:00:00\",\"2020-11-18T00:00:00\",\"2020-11-19T00:00:00\",\"2020-11-20T00:00:00\",\"2020-11-23T00:00:00\",\"2020-11-24T00:00:00\",\"2020-11-25T00:00:00\",\"2020-11-27T00:00:00\",\"2020-11-30T00:00:00\",\"2020-12-01T00:00:00\",\"2020-12-02T00:00:00\",\"2020-12-03T00:00:00\",\"2020-12-04T00:00:00\",\"2020-12-07T00:00:00\",\"2020-12-08T00:00:00\",\"2020-12-09T00:00:00\",\"2020-12-10T00:00:00\",\"2020-12-11T00:00:00\",\"2020-12-14T00:00:00\",\"2020-12-15T00:00:00\",\"2020-12-16T00:00:00\",\"2020-12-17T00:00:00\",\"2020-12-18T00:00:00\",\"2020-12-21T00:00:00\",\"2020-12-22T00:00:00\",\"2020-12-23T00:00:00\",\"2020-12-24T00:00:00\",\"2020-12-28T00:00:00\",\"2020-12-29T00:00:00\",\"2020-12-30T00:00:00\",\"2020-12-31T00:00:00\",\"2021-01-04T00:00:00\",\"2021-01-05T00:00:00\",\"2021-01-06T00:00:00\",\"2021-01-07T00:00:00\",\"2021-01-08T00:00:00\",\"2021-01-11T00:00:00\",\"2021-01-12T00:00:00\",\"2021-01-13T00:00:00\",\"2021-01-14T00:00:00\",\"2021-01-15T00:00:00\",\"2021-01-19T00:00:00\",\"2021-01-20T00:00:00\",\"2021-01-21T00:00:00\",\"2021-01-22T00:00:00\",\"2021-01-25T00:00:00\",\"2021-01-26T00:00:00\",\"2021-01-27T00:00:00\",\"2021-01-28T00:00:00\",\"2021-01-29T00:00:00\",\"2021-02-01T00:00:00\",\"2021-02-02T00:00:00\",\"2021-02-03T00:00:00\",\"2021-02-04T00:00:00\",\"2021-02-05T00:00:00\",\"2021-02-08T00:00:00\",\"2021-02-09T00:00:00\",\"2021-02-10T00:00:00\",\"2021-02-11T00:00:00\",\"2021-02-12T00:00:00\",\"2021-02-16T00:00:00\",\"2021-02-17T00:00:00\",\"2021-02-18T00:00:00\",\"2021-02-19T00:00:00\",\"2021-02-22T00:00:00\",\"2021-02-23T00:00:00\",\"2021-02-24T00:00:00\",\"2021-02-25T00:00:00\",\"2021-02-26T00:00:00\",\"2021-03-01T00:00:00\",\"2021-03-02T00:00:00\",\"2021-03-03T00:00:00\",\"2021-03-04T00:00:00\",\"2021-03-05T00:00:00\",\"2021-03-08T00:00:00\",\"2021-03-09T00:00:00\",\"2021-03-10T00:00:00\",\"2021-03-11T00:00:00\",\"2021-03-12T00:00:00\",\"2021-03-15T00:00:00\",\"2021-03-16T00:00:00\",\"2021-03-17T00:00:00\",\"2021-03-18T00:00:00\",\"2021-03-19T00:00:00\",\"2021-03-22T00:00:00\",\"2021-03-23T00:00:00\",\"2021-03-24T00:00:00\",\"2021-03-25T00:00:00\",\"2021-03-26T00:00:00\",\"2021-03-29T00:00:00\",\"2021-03-30T00:00:00\",\"2021-03-31T00:00:00\",\"2021-04-01T00:00:00\",\"2021-04-05T00:00:00\",\"2021-04-06T00:00:00\",\"2021-04-07T00:00:00\",\"2021-04-08T00:00:00\",\"2021-04-09T00:00:00\",\"2021-04-12T00:00:00\",\"2021-04-13T00:00:00\",\"2021-04-14T00:00:00\",\"2021-04-15T00:00:00\",\"2021-04-16T00:00:00\",\"2021-04-19T00:00:00\",\"2021-04-20T00:00:00\",\"2021-04-21T00:00:00\",\"2021-04-22T00:00:00\",\"2021-04-23T00:00:00\",\"2021-04-26T00:00:00\",\"2021-04-27T00:00:00\",\"2021-04-28T00:00:00\",\"2021-04-29T00:00:00\",\"2021-04-30T00:00:00\",\"2021-05-03T00:00:00\",\"2021-05-04T00:00:00\",\"2021-05-05T00:00:00\",\"2021-05-06T00:00:00\",\"2021-05-07T00:00:00\",\"2021-05-10T00:00:00\",\"2021-05-11T00:00:00\",\"2021-05-12T00:00:00\",\"2021-05-13T00:00:00\",\"2021-05-14T00:00:00\",\"2021-05-17T00:00:00\",\"2021-05-18T00:00:00\",\"2021-05-19T00:00:00\",\"2021-05-20T00:00:00\",\"2021-05-21T00:00:00\",\"2021-05-24T00:00:00\",\"2021-05-25T00:00:00\",\"2021-05-26T00:00:00\",\"2021-05-27T00:00:00\",\"2021-05-28T00:00:00\",\"2021-06-01T00:00:00\",\"2021-06-02T00:00:00\",\"2021-06-03T00:00:00\",\"2021-06-04T00:00:00\",\"2021-06-07T00:00:00\",\"2021-06-08T00:00:00\",\"2021-06-09T00:00:00\",\"2021-06-10T00:00:00\",\"2021-06-11T00:00:00\",\"2021-06-14T00:00:00\",\"2021-06-15T00:00:00\",\"2021-06-16T00:00:00\",\"2021-06-17T00:00:00\",\"2021-06-18T00:00:00\",\"2021-06-21T00:00:00\",\"2021-06-22T00:00:00\",\"2021-06-23T00:00:00\",\"2021-06-24T00:00:00\",\"2021-06-25T00:00:00\",\"2021-06-28T00:00:00\",\"2021-06-29T00:00:00\",\"2021-06-30T00:00:00\",\"2021-07-01T00:00:00\",\"2021-07-02T00:00:00\",\"2021-07-06T00:00:00\",\"2021-07-07T00:00:00\",\"2021-07-08T00:00:00\",\"2021-07-09T00:00:00\",\"2021-07-12T00:00:00\",\"2021-07-13T00:00:00\",\"2021-07-14T00:00:00\",\"2021-07-15T00:00:00\",\"2021-07-16T00:00:00\",\"2021-07-19T00:00:00\",\"2021-07-20T00:00:00\",\"2021-07-21T00:00:00\",\"2021-07-22T00:00:00\",\"2021-07-23T00:00:00\",\"2021-07-26T00:00:00\",\"2021-07-27T00:00:00\",\"2021-07-28T00:00:00\",\"2021-07-29T00:00:00\",\"2021-07-30T00:00:00\",\"2021-08-02T00:00:00\",\"2021-08-03T00:00:00\",\"2021-08-04T00:00:00\",\"2021-08-05T00:00:00\",\"2021-08-06T00:00:00\",\"2021-08-09T00:00:00\",\"2021-08-10T00:00:00\",\"2021-08-11T00:00:00\",\"2021-08-12T00:00:00\",\"2021-08-13T00:00:00\",\"2021-08-16T00:00:00\",\"2021-08-17T00:00:00\",\"2021-08-18T00:00:00\",\"2021-08-19T00:00:00\",\"2021-08-20T00:00:00\",\"2021-08-23T00:00:00\",\"2021-08-24T00:00:00\",\"2021-08-25T00:00:00\",\"2021-08-26T00:00:00\",\"2021-08-27T00:00:00\",\"2021-08-30T00:00:00\",\"2021-08-31T00:00:00\",\"2021-09-01T00:00:00\",\"2021-09-02T00:00:00\",\"2021-09-03T00:00:00\",\"2021-09-07T00:00:00\",\"2021-09-08T00:00:00\",\"2021-09-09T00:00:00\",\"2021-09-10T00:00:00\",\"2021-09-13T00:00:00\",\"2021-09-14T00:00:00\",\"2021-09-15T00:00:00\",\"2021-09-16T00:00:00\",\"2021-09-17T00:00:00\",\"2021-09-20T00:00:00\",\"2021-09-21T00:00:00\",\"2021-09-22T00:00:00\",\"2021-09-23T00:00:00\",\"2021-09-24T00:00:00\",\"2021-09-27T00:00:00\",\"2021-09-28T00:00:00\",\"2021-09-29T00:00:00\",\"2021-09-30T00:00:00\",\"2021-10-01T00:00:00\",\"2021-10-04T00:00:00\",\"2021-10-05T00:00:00\",\"2021-10-06T00:00:00\",\"2021-10-07T00:00:00\",\"2021-10-08T00:00:00\",\"2021-10-11T00:00:00\",\"2021-10-12T00:00:00\",\"2021-10-13T00:00:00\",\"2021-10-14T00:00:00\",\"2021-10-15T00:00:00\",\"2021-10-18T00:00:00\",\"2021-10-19T00:00:00\",\"2021-10-20T00:00:00\",\"2021-10-21T00:00:00\",\"2021-10-22T00:00:00\",\"2021-10-25T00:00:00\",\"2021-10-26T00:00:00\",\"2021-10-27T00:00:00\",\"2021-10-28T00:00:00\",\"2021-10-29T00:00:00\",\"2021-11-01T00:00:00\",\"2021-11-02T00:00:00\",\"2021-11-03T00:00:00\",\"2021-11-04T00:00:00\",\"2021-11-05T00:00:00\",\"2021-11-08T00:00:00\",\"2021-11-09T00:00:00\",\"2021-11-10T00:00:00\",\"2021-11-11T00:00:00\",\"2021-11-12T00:00:00\",\"2021-11-15T00:00:00\",\"2021-11-16T00:00:00\",\"2021-11-17T00:00:00\",\"2021-11-18T00:00:00\",\"2021-11-19T00:00:00\",\"2021-11-22T00:00:00\",\"2021-11-23T00:00:00\",\"2021-11-24T00:00:00\",\"2021-11-26T00:00:00\",\"2021-11-29T00:00:00\",\"2021-11-30T00:00:00\",\"2021-12-01T00:00:00\",\"2021-12-02T00:00:00\",\"2021-12-03T00:00:00\",\"2021-12-06T00:00:00\",\"2021-12-07T00:00:00\",\"2021-12-08T00:00:00\",\"2021-12-09T00:00:00\",\"2021-12-10T00:00:00\",\"2021-12-13T00:00:00\",\"2021-12-14T00:00:00\",\"2021-12-15T00:00:00\",\"2021-12-16T00:00:00\",\"2021-12-17T00:00:00\",\"2021-12-20T00:00:00\",\"2021-12-21T00:00:00\"],\"y\":[null,null,null,null,null,null,null,null,null,null,null,null,null,null,null,null,null,null,null,null,null,null,null,null,null,null,null,null,null,null,null,null,null,3.0466139886125028,2.7231067740474106,2.4331987317517143,2.4816033132582653,1.557064292481872,0.25843620871346573,-1.4101181018786608,-2.3181087849204314,-3.2191779324366205,-3.7964931889069007,-4.066873719450377,-3.691936909437805,-3.891884592956062,-4.4200405001052,-4.707080480387287,-4.9505968539357665,-4.44206588181021,-4.265571781904057,-3.8985003733113093,-3.1172864896624004,-2.320304381401794,-1.3603911920259604,-0.6557304452549735,0.148337319924293,0.24342424901616244,0.6161172762491596,0.45901915312665853,0.32485244569777283,0.6057461839783067,0.8147880216520851,1.643083573032306,2.1161008155069387,2.036234530743126,1.5595995946014314,1.130763077715217,0.5131113256003811,0.4905336649830959,1.1607295681915208,1.475590256351683,2.012459491726045,1.7399631959047583,1.855007023974765,0.811468530233356,0.9312779331432921,-0.1988397405222715,-1.0335234897291778,-1.273801205187909,0.03163562772424422,1.2941641932969006,1.9137492937851954,1.2402645885147598,0.31847492539662703,-0.0482851443893213,-0.39563619166417263,-0.5030246341829461,-0.4443016777458384,-0.6645185989039857,-0.987160964236026,-1.0995675729434087,-1.3404756246073886,-1.5205229499185373,-1.0266570236996422,-0.7606365098542716,-0.42308280174336743,-0.25270620064652993,0.46951054046384,0.9492109353040714,0.8258483765146749,0.5537197108541965,0.7138045415764398,0.6204053351673702,0.16101184499301047,-0.20540033276371528,-0.6706317721654722,-0.9032107371275919,-0.929770016415328,-0.9028200650929725,-0.9252895474579571,-0.7769753643607087,-0.8805309343640828,-1.2678987551055525,-1.3811035585048248,-1.4237894087855627,-0.7588326204030492,-0.3101576621245907,-0.3191623346524428,-0.21816196301406,-0.404645882831953,-0.36176092313270036,-0.794928885694623,-0.6665854274845564,-0.6127012052979302,-1.2170134775711223,-1.881605026469737,-2.142799435702632,-2.5505821097630053,-2.275110436324206,-1.3240961369288868,-0.21092805451587537,0.8828207035307063,1.665096469475448,2.327321237823632,2.9081023505119843,2.510509204371205,1.6915828385596359,0.6776413669825356,0.25359136841821717,0.30962892506528616,0.3119375687717847,0.29696804712248404,0.3842352943688474,0.33038057752254246,0.470305923201348,0.6945611424562657,0.7094472664149066,0.6921754727548615,0.868503890541484,0.9079801997627281,0.6163106833710988,-0.1019655508407808,-0.6285480131197061,-0.5745355913767934,-0.6099676847931332,-1.2132232332831108,-1.337079787114562,-0.8726720711061496,-0.9043016724491832,-1.0950612445961982,-1.001645330678141,-0.4512936081553307,-0.6385579277689135,-0.03881129628746205,0.3036429316397069,1.0928771115365914,1.195475640853724,1.5507475212615716,2.0537184687946377,2.567163570160729,2.4085705487440796,2.908823617121879,3.274806493716741,3.125376339317179,2.297503585863325,1.4073878648252274,1.0118342111317267,1.1693313043751568,0.9848032652773053,1.1900247444439502,1.4729013111453506,2.1768284761557544,2.279552067746163,2.5998626126361923,2.593494132821313,2.3455222855911817,1.9307978784015134,1.3740118533477972,0.424940971932223,0.04075994159464358,-0.3930627921130281,-0.9811422573591706,-1.355235307372542,-1.6739762384440873,-2.178093115983714,-2.156910433059614,-1.9749830297788602,-1.7854081868772989,-1.4054556056375942,0.2819854337192318,0.9869659481532862,1.1601230717729338,0.8784557997944296,0.38063654920623957,0.30480546854986024,0.11767179588980614,-0.9063424046564252,-1.5267644790878059,-2.1479522113772678,-2.3052182639068484,-1.6495840791862033,-1.2272548277182675,-1.2908625950158452,-1.0701141280089077,-0.5915641351110343,-0.4474156024773204,0.16855221017319755,0.7131690565354072,0.9729286686868139,1.3714390387266757,1.2515213541248027,1.0921698047926824,0.889715044771827,0.4690815480437722,0.406204992094203,0.6924626492346189,0.5983128707276855,0.2354796082585855,0.0826549680185158,-0.1483339233358052,0.012346280735590298,0.05715616899988607,-0.3337098493792805,-0.2680202453407379,-0.702685888698638,-0.821584898964522,-0.4721723967993334,-0.17704694684233324,0.13471710838165762,0.1594623532770978,1.0288382595727894,1.2296977006963363,0.9707687835681789,1.1280771236919378,1.1289372792557169,0.8868064850111015,0.47943313191539794,-0.1739828602637905,-0.33367516180288703,-0.30433089875909936,-0.4004919657018231,-0.7857044854194264,-1.2477812155268433,-1.739262832416661,-2.277520760151666,-2.242437402188618,-1.8536564531785222,-1.2344525119678957,0.37000383921541014,1.4904288819360172,1.778197137698923,2.1707685384136983,1.299707253510304,0.5051244361202958,-0.3497134481671784,-0.9644156229119396,-0.8587505032641367,-0.5368153722240807,-0.3189779242703228,-0.3327964742172824,-0.39970572691291295,-0.5395089911607789,-0.47010524634213713,-0.4099877828459242,-0.17602706087182618,-0.5782324928022682,-1.0306650359641907,-1.3181205320048663,-1.1918124647067638,-0.8273003758651782,-0.44685797778408887,-0.029406914079127766,-0.050280624529849494,0.4377262040725989,1.2040697410465402,1.5078097271830995,1.7543182179717043,1.345597333047479,1.0391371995744176,1.1257263342188972,0.7795682574061296,0.5001816201926337,0.29274513765272925,-0.04254382758858899,-0.2998971926249858,-0.6620664381895862,-0.9577587892841191,-1.6714559820453294,-2.64932328298812,-3.046237536277703,-4.075546454476025,-4.351803143390918,-3.8604357410433927,-3.31205301364636,-3.6138610407359666,-3.665703155930303,-3.497466052556218,-2.9470777451933916,-3.4811796972695515,-3.1587343622924307,-2.695219644098195,-2.4869130487079065,-2.108774823497437,-1.9857332286812106,-1.8381608756161647,-1.5224035617246123,-0.9088228193270851,-0.6338893939939112,0.3316006691167779,1.3001116059511872,1.9704465593716467,2.4340427907721924,1.5658769197409557,1.2674395622957926,0.256503847382227,-0.5557350959081466,-0.6705402335102679,-0.21621752548884476,0.5561843306235907,0.9558672182370724,1.4459766195393495,2.007809933717498,2.6475777392556568,2.799481176929513,2.5840326192332963,1.8578376965366137,1.3450403001797615,1.8226360360097038,2.478259375900989,2.486225285685463,2.2359686725046224,1.8389067805799728,1.9210272908121149,1.599196546246829,1.071224324388219,0.9223824400813729,0.2670147978844354,0.14797086725739617,-0.8083636557304682,-2.256026361009783,-3.0595025191578733,-3.6232749675292655,-3.068531085452113,-2.223458963579894,-1.056319610380518,-0.2879019060944801,0.23373599817036528,0.8797820593321535,1.2175743885694685,1.8949765223339976,1.8085651432368248,1.6043893519068249,0.8720452024399434,0.9357021223943274],\"type\":\"bar\",\"xaxis\":\"x3\",\"yaxis\":\"y3\"},{\"line\":{\"color\":\"orange\",\"width\":2},\"name\":\"MACD\",\"x\":[\"2020-07-14T00:00:00\",\"2020-07-15T00:00:00\",\"2020-07-16T00:00:00\",\"2020-07-17T00:00:00\",\"2020-07-20T00:00:00\",\"2020-07-21T00:00:00\",\"2020-07-22T00:00:00\",\"2020-07-23T00:00:00\",\"2020-07-24T00:00:00\",\"2020-07-27T00:00:00\",\"2020-07-28T00:00:00\",\"2020-07-29T00:00:00\",\"2020-07-30T00:00:00\",\"2020-07-31T00:00:00\",\"2020-08-03T00:00:00\",\"2020-08-04T00:00:00\",\"2020-08-05T00:00:00\",\"2020-08-06T00:00:00\",\"2020-08-07T00:00:00\",\"2020-08-10T00:00:00\",\"2020-08-11T00:00:00\",\"2020-08-12T00:00:00\",\"2020-08-13T00:00:00\",\"2020-08-14T00:00:00\",\"2020-08-17T00:00:00\",\"2020-08-18T00:00:00\",\"2020-08-19T00:00:00\",\"2020-08-20T00:00:00\",\"2020-08-21T00:00:00\",\"2020-08-24T00:00:00\",\"2020-08-25T00:00:00\",\"2020-08-26T00:00:00\",\"2020-08-27T00:00:00\",\"2020-08-28T00:00:00\",\"2020-08-31T00:00:00\",\"2020-09-01T00:00:00\",\"2020-09-02T00:00:00\",\"2020-09-03T00:00:00\",\"2020-09-04T00:00:00\",\"2020-09-08T00:00:00\",\"2020-09-09T00:00:00\",\"2020-09-10T00:00:00\",\"2020-09-11T00:00:00\",\"2020-09-14T00:00:00\",\"2020-09-15T00:00:00\",\"2020-09-16T00:00:00\",\"2020-09-17T00:00:00\",\"2020-09-18T00:00:00\",\"2020-09-21T00:00:00\",\"2020-09-22T00:00:00\",\"2020-09-23T00:00:00\",\"2020-09-24T00:00:00\",\"2020-09-25T00:00:00\",\"2020-09-28T00:00:00\",\"2020-09-29T00:00:00\",\"2020-09-30T00:00:00\",\"2020-10-01T00:00:00\",\"2020-10-02T00:00:00\",\"2020-10-05T00:00:00\",\"2020-10-06T00:00:00\",\"2020-10-07T00:00:00\",\"2020-10-08T00:00:00\",\"2020-10-09T00:00:00\",\"2020-10-12T00:00:00\",\"2020-10-13T00:00:00\",\"2020-10-14T00:00:00\",\"2020-10-15T00:00:00\",\"2020-10-16T00:00:00\",\"2020-10-19T00:00:00\",\"2020-10-20T00:00:00\",\"2020-10-21T00:00:00\",\"2020-10-22T00:00:00\",\"2020-10-23T00:00:00\",\"2020-10-26T00:00:00\",\"2020-10-27T00:00:00\",\"2020-10-28T00:00:00\",\"2020-10-29T00:00:00\",\"2020-10-30T00:00:00\",\"2020-11-02T00:00:00\",\"2020-11-03T00:00:00\",\"2020-11-04T00:00:00\",\"2020-11-05T00:00:00\",\"2020-11-06T00:00:00\",\"2020-11-09T00:00:00\",\"2020-11-10T00:00:00\",\"2020-11-11T00:00:00\",\"2020-11-12T00:00:00\",\"2020-11-13T00:00:00\",\"2020-11-16T00:00:00\",\"2020-11-17T00:00:00\",\"2020-11-18T00:00:00\",\"2020-11-19T00:00:00\",\"2020-11-20T00:00:00\",\"2020-11-23T00:00:00\",\"2020-11-24T00:00:00\",\"2020-11-25T00:00:00\",\"2020-11-27T00:00:00\",\"2020-11-30T00:00:00\",\"2020-12-01T00:00:00\",\"2020-12-02T00:00:00\",\"2020-12-03T00:00:00\",\"2020-12-04T00:00:00\",\"2020-12-07T00:00:00\",\"2020-12-08T00:00:00\",\"2020-12-09T00:00:00\",\"2020-12-10T00:00:00\",\"2020-12-11T00:00:00\",\"2020-12-14T00:00:00\",\"2020-12-15T00:00:00\",\"2020-12-16T00:00:00\",\"2020-12-17T00:00:00\",\"2020-12-18T00:00:00\",\"2020-12-21T00:00:00\",\"2020-12-22T00:00:00\",\"2020-12-23T00:00:00\",\"2020-12-24T00:00:00\",\"2020-12-28T00:00:00\",\"2020-12-29T00:00:00\",\"2020-12-30T00:00:00\",\"2020-12-31T00:00:00\",\"2021-01-04T00:00:00\",\"2021-01-05T00:00:00\",\"2021-01-06T00:00:00\",\"2021-01-07T00:00:00\",\"2021-01-08T00:00:00\",\"2021-01-11T00:00:00\",\"2021-01-12T00:00:00\",\"2021-01-13T00:00:00\",\"2021-01-14T00:00:00\",\"2021-01-15T00:00:00\",\"2021-01-19T00:00:00\",\"2021-01-20T00:00:00\",\"2021-01-21T00:00:00\",\"2021-01-22T00:00:00\",\"2021-01-25T00:00:00\",\"2021-01-26T00:00:00\",\"2021-01-27T00:00:00\",\"2021-01-28T00:00:00\",\"2021-01-29T00:00:00\",\"2021-02-01T00:00:00\",\"2021-02-02T00:00:00\",\"2021-02-03T00:00:00\",\"2021-02-04T00:00:00\",\"2021-02-05T00:00:00\",\"2021-02-08T00:00:00\",\"2021-02-09T00:00:00\",\"2021-02-10T00:00:00\",\"2021-02-11T00:00:00\",\"2021-02-12T00:00:00\",\"2021-02-16T00:00:00\",\"2021-02-17T00:00:00\",\"2021-02-18T00:00:00\",\"2021-02-19T00:00:00\",\"2021-02-22T00:00:00\",\"2021-02-23T00:00:00\",\"2021-02-24T00:00:00\",\"2021-02-25T00:00:00\",\"2021-02-26T00:00:00\",\"2021-03-01T00:00:00\",\"2021-03-02T00:00:00\",\"2021-03-03T00:00:00\",\"2021-03-04T00:00:00\",\"2021-03-05T00:00:00\",\"2021-03-08T00:00:00\",\"2021-03-09T00:00:00\",\"2021-03-10T00:00:00\",\"2021-03-11T00:00:00\",\"2021-03-12T00:00:00\",\"2021-03-15T00:00:00\",\"2021-03-16T00:00:00\",\"2021-03-17T00:00:00\",\"2021-03-18T00:00:00\",\"2021-03-19T00:00:00\",\"2021-03-22T00:00:00\",\"2021-03-23T00:00:00\",\"2021-03-24T00:00:00\",\"2021-03-25T00:00:00\",\"2021-03-26T00:00:00\",\"2021-03-29T00:00:00\",\"2021-03-30T00:00:00\",\"2021-03-31T00:00:00\",\"2021-04-01T00:00:00\",\"2021-04-05T00:00:00\",\"2021-04-06T00:00:00\",\"2021-04-07T00:00:00\",\"2021-04-08T00:00:00\",\"2021-04-09T00:00:00\",\"2021-04-12T00:00:00\",\"2021-04-13T00:00:00\",\"2021-04-14T00:00:00\",\"2021-04-15T00:00:00\",\"2021-04-16T00:00:00\",\"2021-04-19T00:00:00\",\"2021-04-20T00:00:00\",\"2021-04-21T00:00:00\",\"2021-04-22T00:00:00\",\"2021-04-23T00:00:00\",\"2021-04-26T00:00:00\",\"2021-04-27T00:00:00\",\"2021-04-28T00:00:00\",\"2021-04-29T00:00:00\",\"2021-04-30T00:00:00\",\"2021-05-03T00:00:00\",\"2021-05-04T00:00:00\",\"2021-05-05T00:00:00\",\"2021-05-06T00:00:00\",\"2021-05-07T00:00:00\",\"2021-05-10T00:00:00\",\"2021-05-11T00:00:00\",\"2021-05-12T00:00:00\",\"2021-05-13T00:00:00\",\"2021-05-14T00:00:00\",\"2021-05-17T00:00:00\",\"2021-05-18T00:00:00\",\"2021-05-19T00:00:00\",\"2021-05-20T00:00:00\",\"2021-05-21T00:00:00\",\"2021-05-24T00:00:00\",\"2021-05-25T00:00:00\",\"2021-05-26T00:00:00\",\"2021-05-27T00:00:00\",\"2021-05-28T00:00:00\",\"2021-06-01T00:00:00\",\"2021-06-02T00:00:00\",\"2021-06-03T00:00:00\",\"2021-06-04T00:00:00\",\"2021-06-07T00:00:00\",\"2021-06-08T00:00:00\",\"2021-06-09T00:00:00\",\"2021-06-10T00:00:00\",\"2021-06-11T00:00:00\",\"2021-06-14T00:00:00\",\"2021-06-15T00:00:00\",\"2021-06-16T00:00:00\",\"2021-06-17T00:00:00\",\"2021-06-18T00:00:00\",\"2021-06-21T00:00:00\",\"2021-06-22T00:00:00\",\"2021-06-23T00:00:00\",\"2021-06-24T00:00:00\",\"2021-06-25T00:00:00\",\"2021-06-28T00:00:00\",\"2021-06-29T00:00:00\",\"2021-06-30T00:00:00\",\"2021-07-01T00:00:00\",\"2021-07-02T00:00:00\",\"2021-07-06T00:00:00\",\"2021-07-07T00:00:00\",\"2021-07-08T00:00:00\",\"2021-07-09T00:00:00\",\"2021-07-12T00:00:00\",\"2021-07-13T00:00:00\",\"2021-07-14T00:00:00\",\"2021-07-15T00:00:00\",\"2021-07-16T00:00:00\",\"2021-07-19T00:00:00\",\"2021-07-20T00:00:00\",\"2021-07-21T00:00:00\",\"2021-07-22T00:00:00\",\"2021-07-23T00:00:00\",\"2021-07-26T00:00:00\",\"2021-07-27T00:00:00\",\"2021-07-28T00:00:00\",\"2021-07-29T00:00:00\",\"2021-07-30T00:00:00\",\"2021-08-02T00:00:00\",\"2021-08-03T00:00:00\",\"2021-08-04T00:00:00\",\"2021-08-05T00:00:00\",\"2021-08-06T00:00:00\",\"2021-08-09T00:00:00\",\"2021-08-10T00:00:00\",\"2021-08-11T00:00:00\",\"2021-08-12T00:00:00\",\"2021-08-13T00:00:00\",\"2021-08-16T00:00:00\",\"2021-08-17T00:00:00\",\"2021-08-18T00:00:00\",\"2021-08-19T00:00:00\",\"2021-08-20T00:00:00\",\"2021-08-23T00:00:00\",\"2021-08-24T00:00:00\",\"2021-08-25T00:00:00\",\"2021-08-26T00:00:00\",\"2021-08-27T00:00:00\",\"2021-08-30T00:00:00\",\"2021-08-31T00:00:00\",\"2021-09-01T00:00:00\",\"2021-09-02T00:00:00\",\"2021-09-03T00:00:00\",\"2021-09-07T00:00:00\",\"2021-09-08T00:00:00\",\"2021-09-09T00:00:00\",\"2021-09-10T00:00:00\",\"2021-09-13T00:00:00\",\"2021-09-14T00:00:00\",\"2021-09-15T00:00:00\",\"2021-09-16T00:00:00\",\"2021-09-17T00:00:00\",\"2021-09-20T00:00:00\",\"2021-09-21T00:00:00\",\"2021-09-22T00:00:00\",\"2021-09-23T00:00:00\",\"2021-09-24T00:00:00\",\"2021-09-27T00:00:00\",\"2021-09-28T00:00:00\",\"2021-09-29T00:00:00\",\"2021-09-30T00:00:00\",\"2021-10-01T00:00:00\",\"2021-10-04T00:00:00\",\"2021-10-05T00:00:00\",\"2021-10-06T00:00:00\",\"2021-10-07T00:00:00\",\"2021-10-08T00:00:00\",\"2021-10-11T00:00:00\",\"2021-10-12T00:00:00\",\"2021-10-13T00:00:00\",\"2021-10-14T00:00:00\",\"2021-10-15T00:00:00\",\"2021-10-18T00:00:00\",\"2021-10-19T00:00:00\",\"2021-10-20T00:00:00\",\"2021-10-21T00:00:00\",\"2021-10-22T00:00:00\",\"2021-10-25T00:00:00\",\"2021-10-26T00:00:00\",\"2021-10-27T00:00:00\",\"2021-10-28T00:00:00\",\"2021-10-29T00:00:00\",\"2021-11-01T00:00:00\",\"2021-11-02T00:00:00\",\"2021-11-03T00:00:00\",\"2021-11-04T00:00:00\",\"2021-11-05T00:00:00\",\"2021-11-08T00:00:00\",\"2021-11-09T00:00:00\",\"2021-11-10T00:00:00\",\"2021-11-11T00:00:00\",\"2021-11-12T00:00:00\",\"2021-11-15T00:00:00\",\"2021-11-16T00:00:00\",\"2021-11-17T00:00:00\",\"2021-11-18T00:00:00\",\"2021-11-19T00:00:00\",\"2021-11-22T00:00:00\",\"2021-11-23T00:00:00\",\"2021-11-24T00:00:00\",\"2021-11-26T00:00:00\",\"2021-11-29T00:00:00\",\"2021-11-30T00:00:00\",\"2021-12-01T00:00:00\",\"2021-12-02T00:00:00\",\"2021-12-03T00:00:00\",\"2021-12-06T00:00:00\",\"2021-12-07T00:00:00\",\"2021-12-08T00:00:00\",\"2021-12-09T00:00:00\",\"2021-12-10T00:00:00\",\"2021-12-13T00:00:00\",\"2021-12-14T00:00:00\",\"2021-12-15T00:00:00\",\"2021-12-16T00:00:00\",\"2021-12-17T00:00:00\",\"2021-12-20T00:00:00\",\"2021-12-21T00:00:00\"],\"y\":[null,null,null,null,null,null,null,null,null,null,null,null,null,null,null,null,null,null,null,null,null,null,null,null,null,6.055403942468729,6.010822136190399,6.419531796319319,6.507044700450905,6.850856684932751,7.79440273597163,10.286760144953803,11.269470055298314,11.94607237291342,12.303341851860182,12.621733492502415,13.290538902323533,12.755265954667607,11.52124692307757,9.500163087015778,8.012645207743901,6.3067815771185565,4.780343023421551,3.4932440630154815,2.9451966456686023,1.7722778139113302,0.13911178173589178,-1.3246983186430157,-2.8058639056754373,-3.407849404002434,-4.297748249572294,-4.905301934307374,-4.903409673074066,-4.686503660163908,-4.0666882687945645,-3.525960133337321,-2.684808038176982,-2.528865046831072,-2.002142700535785,-2.0444860353766217,-2.0974396313810644,-1.665109347105954,-1.2523705040191544,-0.013304059380857325,0.9887383869705104,1.4179307348924794,1.3311956974011423,1.185049949943732,0.6956760292289914,0.7957317848574803,1.7561100801137854,2.4398683323618684,3.4798524406677416,3.642346943822645,4.221142527886343,3.3804711667032734,3.733100052899033,2.5532724441029018,1.4602078224637012,0.9014798057079929,2.214825545551207,3.800895159448089,4.8989175833826835,4.535499025240938,3.693328093471962,3.3144967375886836,2.8682366423977896,2.63509204133328,2.5827395783339284,2.1963930074497853,1.6269604010587386,1.2396618991155037,0.6636349412996765,0.10345687850889362,0.34065854880287816,0.4165199351846809,0.6483029428597433,0.7555029937949485,1.5950973700212785,2.3121004986875278,2.3952000340268,2.261501296079871,2.600037262196224,2.6617393895789974,2.2425988606528904,1.824836599705236,1.1919472172621113,0.7335655680180935,0.4745637846265254,0.2758087196756378,0.02201685044616397,-0.023912807546764725,-0.34760111114115944,-1.0519436206590171,-1.5104243136844957,-1.9090575161616243,-1.4338088828798732,-1.0626733401325623,-1.1514685963235252,-1.1050087154386574,-1.3926541059645388,-1.4402093770484612,-2.07210956103404,-2.1104124596951124,-2.2097035388329687,-3.1182691804989418,-4.253261986014991,-5.050156254173544,-6.095584455674668,-6.38889039131692,-5.768900126153824,-4.708464057369781,-3.3940101234405233,-2.19546024012692,-0.9514051623228283,0.3564015379935199,0.5864356929455425,0.19040503677388187,-0.6541260930575845,-1.0147782495173487,-0.8813334616039583,-0.8010404257045138,-0.7417679355731934,-0.5584418647346183,-0.5297014372002877,-0.2721996107211453,0.12569589414783877,0.3179438347102064,0.4737159092388765,0.8671702996608701,1.1336416588227962,0.9960498132739417,0.2522821913518669,-0.43143727420698497,-0.5210587503082706,-0.7089827649228937,-1.6155441217336488,-2.073670622343741,-1.8274309241118658,-2.0851359435671952,-2.54966082686326,-2.706656245614738,-2.2691279251307606,-2.616031726686572,-2.025987919276986,-1.6076229584398902,-0.5451695006588579,-0.14370206112829464,0.599256699594946,1.6156572643266713,2.7708932582329453,3.214442874002316,4.441901846660585,5.626586346684633,6.258500277114365,6.005003420126343,5.4667346652945525,5.324139564383984,5.773969483721203,5.835642260942677,6.3383699262203095,6.989471820708047,8.23760610475739,8.91021771328434,9.880493911333417,10.522498964723866,10.86090768889153,10.92888275130224,10.715599689585474,9.872764051152956,9.498773006214037,8.966684574478109,8.133319544892174,7.420417668035668,6.683182677353102,5.634542520817547,5.116497595476744,4.804679241312783,4.547902037495021,4.576490717325328,6.334428115111962,7.286150116584338,7.74933800814722,7.687284686117323,7.284624572830694,7.28499485931178,7.127279135624178,5.876679333913842,4.87456613971051,3.716390354576731,2.9828197360704394,3.226057900994533,3.3415734455329016,2.9552500294813626,2.9084699644860734,3.239128923606188,3.271423555620572,3.92952942081439,4.652438531310452,5.155430310633562,5.8968004403550935,6.089763094284422,6.203453996150472,6.223427997322574,5.920064887605463,5.958739579679445,6.418112899128516,6.473541338303505,6.169577977899053,6.037417079663612,5.769344707475341,5.933111481730634,5.992210412244901,5.517916931520915,5.516601474224274,4.906264358691715,4.581969123684701,4.813338526650057,5.064202239896474,5.409645572215879,5.474256405430594,6.600841876619484,7.109125742917115,7.092889021681003,7.532216642727747,7.8153111181054555,7.794881945113616,7.507366874996762,6.810455167751627,6.56734407576181,6.520605614115823,6.324321555747645,5.742682914675186,4.968660880686059,4.042363555692077,2.9347254379191554,2.409199445335048,2.3345662810505132,2.645157094269166,4.342114405256325,5.835146668460936,6.567464208648573,7.502727743966773,6.956593272440955,6.288291564081021,5.346025317751753,4.490219237279007,4.3811967311107765,4.5689280190948125,4.707020985980989,4.610003317479709,4.44316763305585,4.16848712101779,4.120364554250898,4.077985072035631,4.267939028791773,3.7211754736607645,3.0110766715077943,2.3940910424659023,2.222445993587314,2.3801329884626057,2.648860892097673,3.058960227282853,3.025516360699669,3.6229547403202673,4.690315712555844,5.371008130488178,6.05609617576971,5.983774624107355,5.937098790527898,6.305119508727103,6.153853496265867,5.999512264100531,5.865262065973809,5.519337143835344,5.1870094806427005,4.659323625530703,4.124191577115141,2.992630388842599,1.3524322671527784,0.19395862979376943,-1.8542369020235583,-3.218444376786181,-3.6921859096995036,-3.971816435714061,-5.17708972298766,-6.145357627164572,-6.851487036929541,-7.0378681658650635,-8.442265042258612,-8.909503297854599,-9.119793490684913,-9.533215157471602,-9.682270638135492,-10.05566235048957,-10.367630216328564,-10.432473792868166,-10.04609875530241,-9.929637678467714,-8.88124744807783,-7.587708609755623,-6.424762016492252,-5.352655087398659,-5.829351728494657,-5.810929195365873,-6.757738948433882,-7.708911665701294,-7.991351861680982,-7.591083535031771,-6.679635596263438,-6.0409859040906895,-5.1893823479035746,-4.125596550296052,-2.8239343099439793,-1.9721605780377445,-1.5416009809256366,-1.8033364794881663,-1.9798738008000782,-1.0466190559677102,0.22856912789882244,0.8580913591046624,1.1668269140499774,1.2294917172703208,1.7918690502054915,1.8698374422019128,1.6096713014403576,1.691425027153855,1.1028110844280263,1.0207598706153362,-0.13766556630514515,-2.1493348618369055,-3.717686649774464,-5.187277840028173,-5.399666729314049,-5.1104593483368035,-4.207399897732557,-3.5109576699701392,-2.930885766162703,-2.064894190167877,-1.422708263788195,-0.27156199944016635,0.09416790727186708,0.2910894539185733,-0.22324339493832213,0.07433905561464371],\"type\":\"scatter\",\"xaxis\":\"x3\",\"yaxis\":\"y3\"},{\"line\":{\"color\":\"blue\",\"width\":1},\"name\":\"MACD signal\",\"x\":[\"2020-07-14T00:00:00\",\"2020-07-15T00:00:00\",\"2020-07-16T00:00:00\",\"2020-07-17T00:00:00\",\"2020-07-20T00:00:00\",\"2020-07-21T00:00:00\",\"2020-07-22T00:00:00\",\"2020-07-23T00:00:00\",\"2020-07-24T00:00:00\",\"2020-07-27T00:00:00\",\"2020-07-28T00:00:00\",\"2020-07-29T00:00:00\",\"2020-07-30T00:00:00\",\"2020-07-31T00:00:00\",\"2020-08-03T00:00:00\",\"2020-08-04T00:00:00\",\"2020-08-05T00:00:00\",\"2020-08-06T00:00:00\",\"2020-08-07T00:00:00\",\"2020-08-10T00:00:00\",\"2020-08-11T00:00:00\",\"2020-08-12T00:00:00\",\"2020-08-13T00:00:00\",\"2020-08-14T00:00:00\",\"2020-08-17T00:00:00\",\"2020-08-18T00:00:00\",\"2020-08-19T00:00:00\",\"2020-08-20T00:00:00\",\"2020-08-21T00:00:00\",\"2020-08-24T00:00:00\",\"2020-08-25T00:00:00\",\"2020-08-26T00:00:00\",\"2020-08-27T00:00:00\",\"2020-08-28T00:00:00\",\"2020-08-31T00:00:00\",\"2020-09-01T00:00:00\",\"2020-09-02T00:00:00\",\"2020-09-03T00:00:00\",\"2020-09-04T00:00:00\",\"2020-09-08T00:00:00\",\"2020-09-09T00:00:00\",\"2020-09-10T00:00:00\",\"2020-09-11T00:00:00\",\"2020-09-14T00:00:00\",\"2020-09-15T00:00:00\",\"2020-09-16T00:00:00\",\"2020-09-17T00:00:00\",\"2020-09-18T00:00:00\",\"2020-09-21T00:00:00\",\"2020-09-22T00:00:00\",\"2020-09-23T00:00:00\",\"2020-09-24T00:00:00\",\"2020-09-25T00:00:00\",\"2020-09-28T00:00:00\",\"2020-09-29T00:00:00\",\"2020-09-30T00:00:00\",\"2020-10-01T00:00:00\",\"2020-10-02T00:00:00\",\"2020-10-05T00:00:00\",\"2020-10-06T00:00:00\",\"2020-10-07T00:00:00\",\"2020-10-08T00:00:00\",\"2020-10-09T00:00:00\",\"2020-10-12T00:00:00\",\"2020-10-13T00:00:00\",\"2020-10-14T00:00:00\",\"2020-10-15T00:00:00\",\"2020-10-16T00:00:00\",\"2020-10-19T00:00:00\",\"2020-10-20T00:00:00\",\"2020-10-21T00:00:00\",\"2020-10-22T00:00:00\",\"2020-10-23T00:00:00\",\"2020-10-26T00:00:00\",\"2020-10-27T00:00:00\",\"2020-10-28T00:00:00\",\"2020-10-29T00:00:00\",\"2020-10-30T00:00:00\",\"2020-11-02T00:00:00\",\"2020-11-03T00:00:00\",\"2020-11-04T00:00:00\",\"2020-11-05T00:00:00\",\"2020-11-06T00:00:00\",\"2020-11-09T00:00:00\",\"2020-11-10T00:00:00\",\"2020-11-11T00:00:00\",\"2020-11-12T00:00:00\",\"2020-11-13T00:00:00\",\"2020-11-16T00:00:00\",\"2020-11-17T00:00:00\",\"2020-11-18T00:00:00\",\"2020-11-19T00:00:00\",\"2020-11-20T00:00:00\",\"2020-11-23T00:00:00\",\"2020-11-24T00:00:00\",\"2020-11-25T00:00:00\",\"2020-11-27T00:00:00\",\"2020-11-30T00:00:00\",\"2020-12-01T00:00:00\",\"2020-12-02T00:00:00\",\"2020-12-03T00:00:00\",\"2020-12-04T00:00:00\",\"2020-12-07T00:00:00\",\"2020-12-08T00:00:00\",\"2020-12-09T00:00:00\",\"2020-12-10T00:00:00\",\"2020-12-11T00:00:00\",\"2020-12-14T00:00:00\",\"2020-12-15T00:00:00\",\"2020-12-16T00:00:00\",\"2020-12-17T00:00:00\",\"2020-12-18T00:00:00\",\"2020-12-21T00:00:00\",\"2020-12-22T00:00:00\",\"2020-12-23T00:00:00\",\"2020-12-24T00:00:00\",\"2020-12-28T00:00:00\",\"2020-12-29T00:00:00\",\"2020-12-30T00:00:00\",\"2020-12-31T00:00:00\",\"2021-01-04T00:00:00\",\"2021-01-05T00:00:00\",\"2021-01-06T00:00:00\",\"2021-01-07T00:00:00\",\"2021-01-08T00:00:00\",\"2021-01-11T00:00:00\",\"2021-01-12T00:00:00\",\"2021-01-13T00:00:00\",\"2021-01-14T00:00:00\",\"2021-01-15T00:00:00\",\"2021-01-19T00:00:00\",\"2021-01-20T00:00:00\",\"2021-01-21T00:00:00\",\"2021-01-22T00:00:00\",\"2021-01-25T00:00:00\",\"2021-01-26T00:00:00\",\"2021-01-27T00:00:00\",\"2021-01-28T00:00:00\",\"2021-01-29T00:00:00\",\"2021-02-01T00:00:00\",\"2021-02-02T00:00:00\",\"2021-02-03T00:00:00\",\"2021-02-04T00:00:00\",\"2021-02-05T00:00:00\",\"2021-02-08T00:00:00\",\"2021-02-09T00:00:00\",\"2021-02-10T00:00:00\",\"2021-02-11T00:00:00\",\"2021-02-12T00:00:00\",\"2021-02-16T00:00:00\",\"2021-02-17T00:00:00\",\"2021-02-18T00:00:00\",\"2021-02-19T00:00:00\",\"2021-02-22T00:00:00\",\"2021-02-23T00:00:00\",\"2021-02-24T00:00:00\",\"2021-02-25T00:00:00\",\"2021-02-26T00:00:00\",\"2021-03-01T00:00:00\",\"2021-03-02T00:00:00\",\"2021-03-03T00:00:00\",\"2021-03-04T00:00:00\",\"2021-03-05T00:00:00\",\"2021-03-08T00:00:00\",\"2021-03-09T00:00:00\",\"2021-03-10T00:00:00\",\"2021-03-11T00:00:00\",\"2021-03-12T00:00:00\",\"2021-03-15T00:00:00\",\"2021-03-16T00:00:00\",\"2021-03-17T00:00:00\",\"2021-03-18T00:00:00\",\"2021-03-19T00:00:00\",\"2021-03-22T00:00:00\",\"2021-03-23T00:00:00\",\"2021-03-24T00:00:00\",\"2021-03-25T00:00:00\",\"2021-03-26T00:00:00\",\"2021-03-29T00:00:00\",\"2021-03-30T00:00:00\",\"2021-03-31T00:00:00\",\"2021-04-01T00:00:00\",\"2021-04-05T00:00:00\",\"2021-04-06T00:00:00\",\"2021-04-07T00:00:00\",\"2021-04-08T00:00:00\",\"2021-04-09T00:00:00\",\"2021-04-12T00:00:00\",\"2021-04-13T00:00:00\",\"2021-04-14T00:00:00\",\"2021-04-15T00:00:00\",\"2021-04-16T00:00:00\",\"2021-04-19T00:00:00\",\"2021-04-20T00:00:00\",\"2021-04-21T00:00:00\",\"2021-04-22T00:00:00\",\"2021-04-23T00:00:00\",\"2021-04-26T00:00:00\",\"2021-04-27T00:00:00\",\"2021-04-28T00:00:00\",\"2021-04-29T00:00:00\",\"2021-04-30T00:00:00\",\"2021-05-03T00:00:00\",\"2021-05-04T00:00:00\",\"2021-05-05T00:00:00\",\"2021-05-06T00:00:00\",\"2021-05-07T00:00:00\",\"2021-05-10T00:00:00\",\"2021-05-11T00:00:00\",\"2021-05-12T00:00:00\",\"2021-05-13T00:00:00\",\"2021-05-14T00:00:00\",\"2021-05-17T00:00:00\",\"2021-05-18T00:00:00\",\"2021-05-19T00:00:00\",\"2021-05-20T00:00:00\",\"2021-05-21T00:00:00\",\"2021-05-24T00:00:00\",\"2021-05-25T00:00:00\",\"2021-05-26T00:00:00\",\"2021-05-27T00:00:00\",\"2021-05-28T00:00:00\",\"2021-06-01T00:00:00\",\"2021-06-02T00:00:00\",\"2021-06-03T00:00:00\",\"2021-06-04T00:00:00\",\"2021-06-07T00:00:00\",\"2021-06-08T00:00:00\",\"2021-06-09T00:00:00\",\"2021-06-10T00:00:00\",\"2021-06-11T00:00:00\",\"2021-06-14T00:00:00\",\"2021-06-15T00:00:00\",\"2021-06-16T00:00:00\",\"2021-06-17T00:00:00\",\"2021-06-18T00:00:00\",\"2021-06-21T00:00:00\",\"2021-06-22T00:00:00\",\"2021-06-23T00:00:00\",\"2021-06-24T00:00:00\",\"2021-06-25T00:00:00\",\"2021-06-28T00:00:00\",\"2021-06-29T00:00:00\",\"2021-06-30T00:00:00\",\"2021-07-01T00:00:00\",\"2021-07-02T00:00:00\",\"2021-07-06T00:00:00\",\"2021-07-07T00:00:00\",\"2021-07-08T00:00:00\",\"2021-07-09T00:00:00\",\"2021-07-12T00:00:00\",\"2021-07-13T00:00:00\",\"2021-07-14T00:00:00\",\"2021-07-15T00:00:00\",\"2021-07-16T00:00:00\",\"2021-07-19T00:00:00\",\"2021-07-20T00:00:00\",\"2021-07-21T00:00:00\",\"2021-07-22T00:00:00\",\"2021-07-23T00:00:00\",\"2021-07-26T00:00:00\",\"2021-07-27T00:00:00\",\"2021-07-28T00:00:00\",\"2021-07-29T00:00:00\",\"2021-07-30T00:00:00\",\"2021-08-02T00:00:00\",\"2021-08-03T00:00:00\",\"2021-08-04T00:00:00\",\"2021-08-05T00:00:00\",\"2021-08-06T00:00:00\",\"2021-08-09T00:00:00\",\"2021-08-10T00:00:00\",\"2021-08-11T00:00:00\",\"2021-08-12T00:00:00\",\"2021-08-13T00:00:00\",\"2021-08-16T00:00:00\",\"2021-08-17T00:00:00\",\"2021-08-18T00:00:00\",\"2021-08-19T00:00:00\",\"2021-08-20T00:00:00\",\"2021-08-23T00:00:00\",\"2021-08-24T00:00:00\",\"2021-08-25T00:00:00\",\"2021-08-26T00:00:00\",\"2021-08-27T00:00:00\",\"2021-08-30T00:00:00\",\"2021-08-31T00:00:00\",\"2021-09-01T00:00:00\",\"2021-09-02T00:00:00\",\"2021-09-03T00:00:00\",\"2021-09-07T00:00:00\",\"2021-09-08T00:00:00\",\"2021-09-09T00:00:00\",\"2021-09-10T00:00:00\",\"2021-09-13T00:00:00\",\"2021-09-14T00:00:00\",\"2021-09-15T00:00:00\",\"2021-09-16T00:00:00\",\"2021-09-17T00:00:00\",\"2021-09-20T00:00:00\",\"2021-09-21T00:00:00\",\"2021-09-22T00:00:00\",\"2021-09-23T00:00:00\",\"2021-09-24T00:00:00\",\"2021-09-27T00:00:00\",\"2021-09-28T00:00:00\",\"2021-09-29T00:00:00\",\"2021-09-30T00:00:00\",\"2021-10-01T00:00:00\",\"2021-10-04T00:00:00\",\"2021-10-05T00:00:00\",\"2021-10-06T00:00:00\",\"2021-10-07T00:00:00\",\"2021-10-08T00:00:00\",\"2021-10-11T00:00:00\",\"2021-10-12T00:00:00\",\"2021-10-13T00:00:00\",\"2021-10-14T00:00:00\",\"2021-10-15T00:00:00\",\"2021-10-18T00:00:00\",\"2021-10-19T00:00:00\",\"2021-10-20T00:00:00\",\"2021-10-21T00:00:00\",\"2021-10-22T00:00:00\",\"2021-10-25T00:00:00\",\"2021-10-26T00:00:00\",\"2021-10-27T00:00:00\",\"2021-10-28T00:00:00\",\"2021-10-29T00:00:00\",\"2021-11-01T00:00:00\",\"2021-11-02T00:00:00\",\"2021-11-03T00:00:00\",\"2021-11-04T00:00:00\",\"2021-11-05T00:00:00\",\"2021-11-08T00:00:00\",\"2021-11-09T00:00:00\",\"2021-11-10T00:00:00\",\"2021-11-11T00:00:00\",\"2021-11-12T00:00:00\",\"2021-11-15T00:00:00\",\"2021-11-16T00:00:00\",\"2021-11-17T00:00:00\",\"2021-11-18T00:00:00\",\"2021-11-19T00:00:00\",\"2021-11-22T00:00:00\",\"2021-11-23T00:00:00\",\"2021-11-24T00:00:00\",\"2021-11-26T00:00:00\",\"2021-11-29T00:00:00\",\"2021-11-30T00:00:00\",\"2021-12-01T00:00:00\",\"2021-12-02T00:00:00\",\"2021-12-03T00:00:00\",\"2021-12-06T00:00:00\",\"2021-12-07T00:00:00\",\"2021-12-08T00:00:00\",\"2021-12-09T00:00:00\",\"2021-12-10T00:00:00\",\"2021-12-13T00:00:00\",\"2021-12-14T00:00:00\",\"2021-12-15T00:00:00\",\"2021-12-16T00:00:00\",\"2021-12-17T00:00:00\",\"2021-12-20T00:00:00\",\"2021-12-21T00:00:00\"],\"y\":[null,null,null,null,null,null,null,null,null,null,null,null,null,null,null,null,null,null,null,null,null,null,null,null,null,null,null,null,null,null,null,null,null,8.899458384300917,9.580235077812771,10.1885347607507,10.808935589065268,11.198201662185735,11.262810714364104,10.910281188894439,10.330753992664333,9.525959509555177,8.576836212328452,7.560117782465858,6.6371335551064075,5.664162406867392,4.559152281841092,3.3823821617442706,2.1447329482603292,1.0342164778077767,-0.03217646766823745,-1.0068015609960648,-1.786123183411665,-2.3661992787621138,-2.706297076768604,-2.8702296880823477,-2.833145358101275,-2.7722892958472345,-2.6182599767849446,-2.50350518850328,-2.422292077078837,-2.2708555310842606,-2.0671585256712395,-1.6563876324131632,-1.1273624285364285,-0.618303795850647,-0.22840389720028914,0.05428687222851508,0.18256470362861035,0.3051981198743844,0.5953805119222646,0.9642780760101854,1.4673929489416966,1.9023837479178864,2.366135503911578,2.5690026364699174,2.801822119755741,2.7521121846251733,2.493731312192879,2.175281010895902,2.183189917826963,2.5067309661511885,2.985168289597488,3.295234436726178,3.374853168075335,3.362781881978005,3.2638728340619623,3.138116675516226,3.027041256079767,2.860911606353771,2.6141213652947646,2.3392294720589124,2.004110565907065,1.623979828427431,1.3673155725025203,1.1771564450389524,1.0713857446031108,1.0082091944414784,1.1255868295574385,1.3628895633834563,1.5693516575121251,1.7077815852256744,1.8862327206197844,2.041334054411627,2.08158701565988,2.0302369324689513,1.8625789894275835,1.6367763051456854,1.4043338010418533,1.1786287847686103,0.9473063979041211,0.753062556813944,0.5329298232229234,0.2159551344465353,-0.1293207551796709,-0.48526810737606163,-0.674976262476824,-0.7525156780079716,-0.8323062616710823,-0.8868467524245974,-0.9880082231325857,-1.0784484539157608,-1.2771806753394168,-1.443827032210556,-1.5970023335350385,-1.9012557029278194,-2.3716569595452537,-2.907356818470912,-3.545002345911663,-4.113779954992714,-4.444803989224937,-4.497536002853906,-4.27683082697123,-3.860556709602368,-3.27872640014646,-2.5517008125184644,-1.9240735114256629,-1.501177801785754,-1.3317674600401201,-1.268369617935566,-1.1909623866692445,-1.1129779944762985,-1.0387359826956775,-0.9426771591034657,-0.8600820147228302,-0.7425055339224933,-0.5688652483084269,-0.39150343170470026,-0.21845956351598494,-0.0013335908806139385,0.2256614590600681,0.37973912990284286,0.3542477421926477,0.19711073891272118,0.05347684106852284,-0.09901508012976047,-0.40232088845053815,-0.7365908352291788,-0.9547588530057162,-1.180834271118012,-1.4545995822670617,-1.705010914936597,-1.8178343169754299,-1.9774737989176583,-1.9871766229895238,-1.9112658900795971,-1.6380466121954493,-1.3391777019820186,-0.9514908216666257,-0.43806120446796626,0.20372968807221603,0.805872325258236,1.533078229538706,2.3517798529678915,3.133123937797186,3.707499834263018,4.059346800469325,4.312305353252257,4.604638179346046,4.850838995665372,5.148345181776359,5.516570509562697,6.0607776286016355,6.630665645538176,7.280631298697225,7.929004831902553,8.515385403300348,8.998084872900726,9.341587836237677,9.447823079220733,9.458013064619394,9.359747366591137,9.114461802251345,8.77565297540821,8.35715891579719,7.812635636801261,7.273408028536358,6.779662271091643,6.33331022437232,5.981946322962922,6.05244268139273,6.299184168431052,6.589214936374286,6.808828886322893,6.903988023624454,6.98018939076192,7.009607339734372,6.783021738570267,6.401330618798315,5.864342565953999,5.288037999977288,4.8756419801807365,4.568828273251169,4.246112624497208,3.978584092494981,3.8306930587172223,3.7188391580978926,3.7609772106411925,3.9392694747750445,4.1825016419467484,4.525361401628418,4.838241740159619,5.1112841913577896,5.333712952550747,5.450983339561691,5.552534587585242,5.7256502498938975,5.87522846757582,5.934098369640467,5.954762111645096,5.917678630811146,5.920765200995044,5.935054243245015,5.851626780900196,5.784621719565012,5.608950247390353,5.403554022649223,5.28551092344939,5.241249186738807,5.274928463834222,5.314794052153497,5.572003617046694,5.879428042220779,6.122120238112824,6.404139519035809,6.686373838849739,6.9080754601025145,7.027933743081364,6.9844380280154175,6.901019237564697,6.824936512874922,6.724813521449468,6.528387400094612,6.216442096212902,5.781626388108738,5.2122461980708215,4.651636847523666,4.1882227342290355,3.8796096062370617,3.972110566040915,4.344717786524919,4.78926707094965,5.3319592055530745,5.656886018930651,5.783167127960725,5.695738765918931,5.4546348601909465,5.239947234374913,5.105743391318893,5.025998910251312,4.9427997916969915,4.842873359968763,4.707996112178569,4.590469800593035,4.487972854881555,4.443966089663599,4.299407966463033,4.041741707471985,3.7122115744707687,3.414258458294078,3.207433364327784,3.095718869881762,3.0883671413619807,3.0757969852295184,3.1852285362476684,3.4862459715093035,3.863198403305079,4.301777957798006,4.6381772910598755,4.89796159095348,5.179393174508205,5.374285238859738,5.499330643907897,5.57251692832108,5.561880971423933,5.486906673267686,5.3213900637202896,5.08195036639926,4.6640863708879285,4.001755550140898,3.2401961660714726,2.2213095524524666,1.1333587666047373,0.16824983134388916,-0.6597634220677009,-1.5632286822516928,-2.4796544712342685,-3.354020984373323,-4.090790420671672,-4.96108534498906,-5.750768935562168,-6.424573846586718,-7.046302108763696,-7.573495814638055,-8.069929121808359,-8.5294693407124,-8.910070231143553,-9.137275935975325,-9.295748284473802,-9.212848117194607,-8.88782021570681,-8.395208575863899,-7.786697878170852,-7.395228648235613,-7.078368757661665,-7.014242795816109,-7.153176569793147,-7.3208116281707145,-7.374866009542926,-7.235819926887029,-6.996853122327762,-6.635358967442924,-6.13340648401355,-5.471512049199636,-4.771641754967257,-4.125633600158933,-3.66117417602478,-3.3249141009798397,-2.869255091977414,-2.2496902480021665,-1.6281339265808008,-1.0691417584546452,-0.6094150633096521,-0.1291582406066234,0.27064089595508384,0.5384469770521386,0.769042587072482,0.835796286543591,0.8727890033579401,0.670698089425323,0.10669149917287735,-0.658184130616591,-1.5640028724989077,-2.331135643861936,-2.8870003847569095,-3.1510802873520394,-3.223055763875659,-3.1646217643330683,-2.9446762495000303,-2.6402826523576635,-2.166538521774164,-1.7143972359649577,-1.3132998979882515,-1.0952885973782656,-0.8613630667796837],\"type\":\"scatter\",\"xaxis\":\"x3\",\"yaxis\":\"y3\"},{\"line\":{\"color\":\"black\",\"width\":2},\"name\":\"RSI(14)\",\"x\":[\"2020-07-14T00:00:00\",\"2020-07-15T00:00:00\",\"2020-07-16T00:00:00\",\"2020-07-17T00:00:00\",\"2020-07-20T00:00:00\",\"2020-07-21T00:00:00\",\"2020-07-22T00:00:00\",\"2020-07-23T00:00:00\",\"2020-07-24T00:00:00\",\"2020-07-27T00:00:00\",\"2020-07-28T00:00:00\",\"2020-07-29T00:00:00\",\"2020-07-30T00:00:00\",\"2020-07-31T00:00:00\",\"2020-08-03T00:00:00\",\"2020-08-04T00:00:00\",\"2020-08-05T00:00:00\",\"2020-08-06T00:00:00\",\"2020-08-07T00:00:00\",\"2020-08-10T00:00:00\",\"2020-08-11T00:00:00\",\"2020-08-12T00:00:00\",\"2020-08-13T00:00:00\",\"2020-08-14T00:00:00\",\"2020-08-17T00:00:00\",\"2020-08-18T00:00:00\",\"2020-08-19T00:00:00\",\"2020-08-20T00:00:00\",\"2020-08-21T00:00:00\",\"2020-08-24T00:00:00\",\"2020-08-25T00:00:00\",\"2020-08-26T00:00:00\",\"2020-08-27T00:00:00\",\"2020-08-28T00:00:00\",\"2020-08-31T00:00:00\",\"2020-09-01T00:00:00\",\"2020-09-02T00:00:00\",\"2020-09-03T00:00:00\",\"2020-09-04T00:00:00\",\"2020-09-08T00:00:00\",\"2020-09-09T00:00:00\",\"2020-09-10T00:00:00\",\"2020-09-11T00:00:00\",\"2020-09-14T00:00:00\",\"2020-09-15T00:00:00\",\"2020-09-16T00:00:00\",\"2020-09-17T00:00:00\",\"2020-09-18T00:00:00\",\"2020-09-21T00:00:00\",\"2020-09-22T00:00:00\",\"2020-09-23T00:00:00\",\"2020-09-24T00:00:00\",\"2020-09-25T00:00:00\",\"2020-09-28T00:00:00\",\"2020-09-29T00:00:00\",\"2020-09-30T00:00:00\",\"2020-10-01T00:00:00\",\"2020-10-02T00:00:00\",\"2020-10-05T00:00:00\",\"2020-10-06T00:00:00\",\"2020-10-07T00:00:00\",\"2020-10-08T00:00:00\",\"2020-10-09T00:00:00\",\"2020-10-12T00:00:00\",\"2020-10-13T00:00:00\",\"2020-10-14T00:00:00\",\"2020-10-15T00:00:00\",\"2020-10-16T00:00:00\",\"2020-10-19T00:00:00\",\"2020-10-20T00:00:00\",\"2020-10-21T00:00:00\",\"2020-10-22T00:00:00\",\"2020-10-23T00:00:00\",\"2020-10-26T00:00:00\",\"2020-10-27T00:00:00\",\"2020-10-28T00:00:00\",\"2020-10-29T00:00:00\",\"2020-10-30T00:00:00\",\"2020-11-02T00:00:00\",\"2020-11-03T00:00:00\",\"2020-11-04T00:00:00\",\"2020-11-05T00:00:00\",\"2020-11-06T00:00:00\",\"2020-11-09T00:00:00\",\"2020-11-10T00:00:00\",\"2020-11-11T00:00:00\",\"2020-11-12T00:00:00\",\"2020-11-13T00:00:00\",\"2020-11-16T00:00:00\",\"2020-11-17T00:00:00\",\"2020-11-18T00:00:00\",\"2020-11-19T00:00:00\",\"2020-11-20T00:00:00\",\"2020-11-23T00:00:00\",\"2020-11-24T00:00:00\",\"2020-11-25T00:00:00\",\"2020-11-27T00:00:00\",\"2020-11-30T00:00:00\",\"2020-12-01T00:00:00\",\"2020-12-02T00:00:00\",\"2020-12-03T00:00:00\",\"2020-12-04T00:00:00\",\"2020-12-07T00:00:00\",\"2020-12-08T00:00:00\",\"2020-12-09T00:00:00\",\"2020-12-10T00:00:00\",\"2020-12-11T00:00:00\",\"2020-12-14T00:00:00\",\"2020-12-15T00:00:00\",\"2020-12-16T00:00:00\",\"2020-12-17T00:00:00\",\"2020-12-18T00:00:00\",\"2020-12-21T00:00:00\",\"2020-12-22T00:00:00\",\"2020-12-23T00:00:00\",\"2020-12-24T00:00:00\",\"2020-12-28T00:00:00\",\"2020-12-29T00:00:00\",\"2020-12-30T00:00:00\",\"2020-12-31T00:00:00\",\"2021-01-04T00:00:00\",\"2021-01-05T00:00:00\",\"2021-01-06T00:00:00\",\"2021-01-07T00:00:00\",\"2021-01-08T00:00:00\",\"2021-01-11T00:00:00\",\"2021-01-12T00:00:00\",\"2021-01-13T00:00:00\",\"2021-01-14T00:00:00\",\"2021-01-15T00:00:00\",\"2021-01-19T00:00:00\",\"2021-01-20T00:00:00\",\"2021-01-21T00:00:00\",\"2021-01-22T00:00:00\",\"2021-01-25T00:00:00\",\"2021-01-26T00:00:00\",\"2021-01-27T00:00:00\",\"2021-01-28T00:00:00\",\"2021-01-29T00:00:00\",\"2021-02-01T00:00:00\",\"2021-02-02T00:00:00\",\"2021-02-03T00:00:00\",\"2021-02-04T00:00:00\",\"2021-02-05T00:00:00\",\"2021-02-08T00:00:00\",\"2021-02-09T00:00:00\",\"2021-02-10T00:00:00\",\"2021-02-11T00:00:00\",\"2021-02-12T00:00:00\",\"2021-02-16T00:00:00\",\"2021-02-17T00:00:00\",\"2021-02-18T00:00:00\",\"2021-02-19T00:00:00\",\"2021-02-22T00:00:00\",\"2021-02-23T00:00:00\",\"2021-02-24T00:00:00\",\"2021-02-25T00:00:00\",\"2021-02-26T00:00:00\",\"2021-03-01T00:00:00\",\"2021-03-02T00:00:00\",\"2021-03-03T00:00:00\",\"2021-03-04T00:00:00\",\"2021-03-05T00:00:00\",\"2021-03-08T00:00:00\",\"2021-03-09T00:00:00\",\"2021-03-10T00:00:00\",\"2021-03-11T00:00:00\",\"2021-03-12T00:00:00\",\"2021-03-15T00:00:00\",\"2021-03-16T00:00:00\",\"2021-03-17T00:00:00\",\"2021-03-18T00:00:00\",\"2021-03-19T00:00:00\",\"2021-03-22T00:00:00\",\"2021-03-23T00:00:00\",\"2021-03-24T00:00:00\",\"2021-03-25T00:00:00\",\"2021-03-26T00:00:00\",\"2021-03-29T00:00:00\",\"2021-03-30T00:00:00\",\"2021-03-31T00:00:00\",\"2021-04-01T00:00:00\",\"2021-04-05T00:00:00\",\"2021-04-06T00:00:00\",\"2021-04-07T00:00:00\",\"2021-04-08T00:00:00\",\"2021-04-09T00:00:00\",\"2021-04-12T00:00:00\",\"2021-04-13T00:00:00\",\"2021-04-14T00:00:00\",\"2021-04-15T00:00:00\",\"2021-04-16T00:00:00\",\"2021-04-19T00:00:00\",\"2021-04-20T00:00:00\",\"2021-04-21T00:00:00\",\"2021-04-22T00:00:00\",\"2021-04-23T00:00:00\",\"2021-04-26T00:00:00\",\"2021-04-27T00:00:00\",\"2021-04-28T00:00:00\",\"2021-04-29T00:00:00\",\"2021-04-30T00:00:00\",\"2021-05-03T00:00:00\",\"2021-05-04T00:00:00\",\"2021-05-05T00:00:00\",\"2021-05-06T00:00:00\",\"2021-05-07T00:00:00\",\"2021-05-10T00:00:00\",\"2021-05-11T00:00:00\",\"2021-05-12T00:00:00\",\"2021-05-13T00:00:00\",\"2021-05-14T00:00:00\",\"2021-05-17T00:00:00\",\"2021-05-18T00:00:00\",\"2021-05-19T00:00:00\",\"2021-05-20T00:00:00\",\"2021-05-21T00:00:00\",\"2021-05-24T00:00:00\",\"2021-05-25T00:00:00\",\"2021-05-26T00:00:00\",\"2021-05-27T00:00:00\",\"2021-05-28T00:00:00\",\"2021-06-01T00:00:00\",\"2021-06-02T00:00:00\",\"2021-06-03T00:00:00\",\"2021-06-04T00:00:00\",\"2021-06-07T00:00:00\",\"2021-06-08T00:00:00\",\"2021-06-09T00:00:00\",\"2021-06-10T00:00:00\",\"2021-06-11T00:00:00\",\"2021-06-14T00:00:00\",\"2021-06-15T00:00:00\",\"2021-06-16T00:00:00\",\"2021-06-17T00:00:00\",\"2021-06-18T00:00:00\",\"2021-06-21T00:00:00\",\"2021-06-22T00:00:00\",\"2021-06-23T00:00:00\",\"2021-06-24T00:00:00\",\"2021-06-25T00:00:00\",\"2021-06-28T00:00:00\",\"2021-06-29T00:00:00\",\"2021-06-30T00:00:00\",\"2021-07-01T00:00:00\",\"2021-07-02T00:00:00\",\"2021-07-06T00:00:00\",\"2021-07-07T00:00:00\",\"2021-07-08T00:00:00\",\"2021-07-09T00:00:00\",\"2021-07-12T00:00:00\",\"2021-07-13T00:00:00\",\"2021-07-14T00:00:00\",\"2021-07-15T00:00:00\",\"2021-07-16T00:00:00\",\"2021-07-19T00:00:00\",\"2021-07-20T00:00:00\",\"2021-07-21T00:00:00\",\"2021-07-22T00:00:00\",\"2021-07-23T00:00:00\",\"2021-07-26T00:00:00\",\"2021-07-27T00:00:00\",\"2021-07-28T00:00:00\",\"2021-07-29T00:00:00\",\"2021-07-30T00:00:00\",\"2021-08-02T00:00:00\",\"2021-08-03T00:00:00\",\"2021-08-04T00:00:00\",\"2021-08-05T00:00:00\",\"2021-08-06T00:00:00\",\"2021-08-09T00:00:00\",\"2021-08-10T00:00:00\",\"2021-08-11T00:00:00\",\"2021-08-12T00:00:00\",\"2021-08-13T00:00:00\",\"2021-08-16T00:00:00\",\"2021-08-17T00:00:00\",\"2021-08-18T00:00:00\",\"2021-08-19T00:00:00\",\"2021-08-20T00:00:00\",\"2021-08-23T00:00:00\",\"2021-08-24T00:00:00\",\"2021-08-25T00:00:00\",\"2021-08-26T00:00:00\",\"2021-08-27T00:00:00\",\"2021-08-30T00:00:00\",\"2021-08-31T00:00:00\",\"2021-09-01T00:00:00\",\"2021-09-02T00:00:00\",\"2021-09-03T00:00:00\",\"2021-09-07T00:00:00\",\"2021-09-08T00:00:00\",\"2021-09-09T00:00:00\",\"2021-09-10T00:00:00\",\"2021-09-13T00:00:00\",\"2021-09-14T00:00:00\",\"2021-09-15T00:00:00\",\"2021-09-16T00:00:00\",\"2021-09-17T00:00:00\",\"2021-09-20T00:00:00\",\"2021-09-21T00:00:00\",\"2021-09-22T00:00:00\",\"2021-09-23T00:00:00\",\"2021-09-24T00:00:00\",\"2021-09-27T00:00:00\",\"2021-09-28T00:00:00\",\"2021-09-29T00:00:00\",\"2021-09-30T00:00:00\",\"2021-10-01T00:00:00\",\"2021-10-04T00:00:00\",\"2021-10-05T00:00:00\",\"2021-10-06T00:00:00\",\"2021-10-07T00:00:00\",\"2021-10-08T00:00:00\",\"2021-10-11T00:00:00\",\"2021-10-12T00:00:00\",\"2021-10-13T00:00:00\",\"2021-10-14T00:00:00\",\"2021-10-15T00:00:00\",\"2021-10-18T00:00:00\",\"2021-10-19T00:00:00\",\"2021-10-20T00:00:00\",\"2021-10-21T00:00:00\",\"2021-10-22T00:00:00\",\"2021-10-25T00:00:00\",\"2021-10-26T00:00:00\",\"2021-10-27T00:00:00\",\"2021-10-28T00:00:00\",\"2021-10-29T00:00:00\",\"2021-11-01T00:00:00\",\"2021-11-02T00:00:00\",\"2021-11-03T00:00:00\",\"2021-11-04T00:00:00\",\"2021-11-05T00:00:00\",\"2021-11-08T00:00:00\",\"2021-11-09T00:00:00\",\"2021-11-10T00:00:00\",\"2021-11-11T00:00:00\",\"2021-11-12T00:00:00\",\"2021-11-15T00:00:00\",\"2021-11-16T00:00:00\",\"2021-11-17T00:00:00\",\"2021-11-18T00:00:00\",\"2021-11-19T00:00:00\",\"2021-11-22T00:00:00\",\"2021-11-23T00:00:00\",\"2021-11-24T00:00:00\",\"2021-11-26T00:00:00\",\"2021-11-29T00:00:00\",\"2021-11-30T00:00:00\",\"2021-12-01T00:00:00\",\"2021-12-02T00:00:00\",\"2021-12-03T00:00:00\",\"2021-12-06T00:00:00\",\"2021-12-07T00:00:00\",\"2021-12-08T00:00:00\",\"2021-12-09T00:00:00\",\"2021-12-10T00:00:00\",\"2021-12-13T00:00:00\",\"2021-12-14T00:00:00\",\"2021-12-15T00:00:00\",\"2021-12-16T00:00:00\",\"2021-12-17T00:00:00\",\"2021-12-20T00:00:00\",\"2021-12-21T00:00:00\"],\"y\":[null,null,null,null,null,null,null,null,null,null,null,null,null,70.2276056613371,67.1142876563296,63.34712908893687,62.09592386582913,74.46047029831823,76.10212697683994,67.99874132589156,59.3971753875595,62.214392307975274,63.2442930534845,63.16539693960606,63.05246818150833,64.07292376670546,64.29790575352001,69.5681923593262,66.28544500366523,69.6617841248384,75.3786920046395,83.55179358193945,71.68712614299164,71.86422697823637,71.3616749252138,72.37478133167116,75.33626536495075,63.51640923877662,56.48064720681368,48.50179858604489,50.17884451699699,46.585817210420245,45.6602269455339,45.358583390399424,50.189004759824556,44.21410173732216,39.2901096964641,38.08772076905264,35.82921504442281,41.46206325123803,38.317351633167604,38.7625391455176,43.33130334967325,45.001959566464194,49.02378001845666,49.11246496570177,52.90693579816804,47.51082134111897,51.278450599609485,46.68858687195645,46.286354449013864,51.03147899891988,51.59486942435816,59.759989730437,60.01071749694616,55.85901816147229,51.343061813121864,50.65983331900724,46.81301399116919,52.13555073071217,59.9601655644978,59.389174499627345,63.48386898890522,56.428803709879716,60.25632752644738,48.62879856829527,56.28291042829033,46.28311547188544,45.424761951583754,47.773205392311944,58.540293904395725,61.375442586356655,60.59905605461601,52.374221557074804,49.25636692003164,51.25273757158504,50.51291872944995,51.519552678864315,52.634791512104535,50.18535802786064,48.33199558262754,48.981564121800766,46.86230974685256,46.02175691561195,52.194802412920936,51.206836786050474,52.812384742248504,52.113630432131096,58.80752409018825,59.42597755187421,54.29453578133278,52.44522795161718,56.78085706141269,54.786531255587015,50.029570192015385,49.35581868106507,46.35575481086044,46.97798893830827,48.34899219945039,48.475617227332094,47.239097996828164,49.47828224183226,45.56283715539028,40.15897598125982,41.49613294127405,40.812506345821724,52.263963470747434,52.0155914860231,46.6834174490491,48.18625222307695,43.83353822443783,46.344384075245976,39.21970660509478,45.603699675969835,44.5186818597716,36.047922172182574,32.4812354484135,33.16245508043875,29.648210467050077,36.55121527322146,46.226789651219825,51.449475098474714,55.391310855514824,56.54045851628324,58.9903483683666,61.66871576842727,52.59461659225396,47.205222135163034,42.79367843546589,45.803103206173795,49.7269731356701,49.40030290207468,49.2705972464998,50.67402448582326,49.28767669615026,51.96012875398129,54.1539900496948,52.57275498640342,52.68332661993178,56.15630766487703,55.64925162783989,50.51599298507294,42.59062087269471,41.48943840461374,47.99907992953045,46.43953255392657,38.15374036769562,41.57303028760561,49.11157752908924,44.13941550471527,41.397663576394095,43.73560131800601,50.11699242896037,43.01876705462121,51.60229350760874,50.936800279512,57.27976667572192,52.794250606311586,56.385148883626634,59.789997067568436,62.4874955864455,57.734423276601355,64.01768069813203,65.65892784464538,63.03212230620343,55.993752977765176,53.42109283473025,56.15218934844083,60.677286357467196,58.33339991220571,61.9944447413748,64.14051147081379,68.84283078078164,66.41790263437898,69.40876748611377,69.34059880800692,68.75886198018613,67.7532112707446,65.74949809424109,58.486946653785175,61.763866462964856,60.0884058431625,56.14777504149205,56.46771059260237,55.219073470136586,50.20390839536769,54.36120596183659,56.000220540302436,56.467405188945335,59.548183589970044,72.7383464181121,68.01687302027452,65.43552588129796,61.21246929459681,58.020819307415884,61.27592509828943,60.32881685133597,48.96225623674338,49.40080359003287,46.35234988632125,48.67481571265812,56.641160587111166,56.218808032266196,51.48191207347606,54.22339172742293,57.7765556849133,55.57414345264111,61.19639657621289,63.08885107716787,62.952823999530494,66.0401402999216,61.669091571246604,61.93903369020405,61.9534534978263,58.25544550200196,61.67007551403606,65.99944076654421,62.462708707108966,58.471650612003295,60.23465765355113,58.77559113746789,63.18530018473239,63.15890551819809,56.01140786937872,60.608888817705456,53.07310654604225,55.36762873020626,60.674430577049236,61.806369990346106,63.67577922414674,61.413527074370144,70.35563892031394,66.0254413563364,61.48293544174898,65.56070268115536,65.74196049735575,63.51233849757476,60.861116904434496,55.580296503807084,59.32603771022474,61.342585233707666,60.089691116180546,55.04321686191286,51.71856399315065,48.43859348705479,44.55631808142824,49.43875011265425,53.6991877527299,57.85043172380574,69.0550350317057,70.27650638640034,65.43238906036791,68.20849068516713,55.161006417162575,53.668163931337666,50.49875408584732,49.97992192240622,55.32645293842452,57.883040115795964,58.22631698279381,56.48193994882994,56.02532044622632,54.86103147265126,57.06997246091357,57.51115094957172,60.31230009633557,51.53344522095428,48.70903747139905,48.39481523757703,52.63264656587636,56.25552346921265,58.12732609805069,60.551115993747736,55.71523984423108,62.373230124258555,67.49566411969315,65.95431365176012,67.61560179028663,59.665538262718194,60.39154269603046,64.5433304100601,59.328122878165956,59.65557660169015,60.209197740684615,57.523462122720254,57.5421637453781,54.187414992363294,53.08908676618855,43.81448094635846,36.40658347186405,38.61233596526772,29.714213055593262,32.922280025962024,40.38170721575813,41.00745487404943,33.18480838135039,32.645377388931735,32.52494984343602,36.665627639369006,28.067550189058693,34.68321635995146,35.33042357820024,33.03887849939866,33.90579073552891,31.473754139048367,30.61016662181187,31.537385858602278,36.288130757729206,33.894843641945826,44.88132639549239,48.9009734199897,49.57380971061168,50.55016882231424,38.08301828037975,41.738780980794786,34.761242502042066,33.10029099769062,37.322711892002815,42.82161563095358,47.59433471230164,46.35908590203949,49.01417120903025,52.06724016210715,55.63811122049668,53.59409223672277,50.98238021942561,45.32487802538922,45.40925498838824,55.20210348439193,59.20001236254191,55.52004911854541,53.80523484708645,52.15750991721392,56.69601374996099,53.17060264754522,50.222938811323274,53.06247226329783,47.040112318830374,50.76169909437805,41.98120518691548,35.270582765696076,35.17883133515092,33.58809138366064,42.31586931302636,45.75429368706527,50.71742471664582,50.24472017626065,50.197053707312925,53.419220052150415,52.83671827255012,58.04007664065723,52.69610297761683,51.85188329323222,45.901594517256264,52.11082448456713],\"type\":\"scatter\",\"xaxis\":\"x4\",\"yaxis\":\"y4\"}],                        {\"template\":{\"data\":{\"bar\":[{\"error_x\":{\"color\":\"#2a3f5f\"},\"error_y\":{\"color\":\"#2a3f5f\"},\"marker\":{\"line\":{\"color\":\"#E5ECF6\",\"width\":0.5},\"pattern\":{\"fillmode\":\"overlay\",\"size\":10,\"solidity\":0.2}},\"type\":\"bar\"}],\"barpolar\":[{\"marker\":{\"line\":{\"color\":\"#E5ECF6\",\"width\":0.5},\"pattern\":{\"fillmode\":\"overlay\",\"size\":10,\"solidity\":0.2}},\"type\":\"barpolar\"}],\"carpet\":[{\"aaxis\":{\"endlinecolor\":\"#2a3f5f\",\"gridcolor\":\"white\",\"linecolor\":\"white\",\"minorgridcolor\":\"white\",\"startlinecolor\":\"#2a3f5f\"},\"baxis\":{\"endlinecolor\":\"#2a3f5f\",\"gridcolor\":\"white\",\"linecolor\":\"white\",\"minorgridcolor\":\"white\",\"startlinecolor\":\"#2a3f5f\"},\"type\":\"carpet\"}],\"choropleth\":[{\"colorbar\":{\"outlinewidth\":0,\"ticks\":\"\"},\"type\":\"choropleth\"}],\"contour\":[{\"colorbar\":{\"outlinewidth\":0,\"ticks\":\"\"},\"colorscale\":[[0.0,\"#0d0887\"],[0.1111111111111111,\"#46039f\"],[0.2222222222222222,\"#7201a8\"],[0.3333333333333333,\"#9c179e\"],[0.4444444444444444,\"#bd3786\"],[0.5555555555555556,\"#d8576b\"],[0.6666666666666666,\"#ed7953\"],[0.7777777777777778,\"#fb9f3a\"],[0.8888888888888888,\"#fdca26\"],[1.0,\"#f0f921\"]],\"type\":\"contour\"}],\"contourcarpet\":[{\"colorbar\":{\"outlinewidth\":0,\"ticks\":\"\"},\"type\":\"contourcarpet\"}],\"heatmap\":[{\"colorbar\":{\"outlinewidth\":0,\"ticks\":\"\"},\"colorscale\":[[0.0,\"#0d0887\"],[0.1111111111111111,\"#46039f\"],[0.2222222222222222,\"#7201a8\"],[0.3333333333333333,\"#9c179e\"],[0.4444444444444444,\"#bd3786\"],[0.5555555555555556,\"#d8576b\"],[0.6666666666666666,\"#ed7953\"],[0.7777777777777778,\"#fb9f3a\"],[0.8888888888888888,\"#fdca26\"],[1.0,\"#f0f921\"]],\"type\":\"heatmap\"}],\"heatmapgl\":[{\"colorbar\":{\"outlinewidth\":0,\"ticks\":\"\"},\"colorscale\":[[0.0,\"#0d0887\"],[0.1111111111111111,\"#46039f\"],[0.2222222222222222,\"#7201a8\"],[0.3333333333333333,\"#9c179e\"],[0.4444444444444444,\"#bd3786\"],[0.5555555555555556,\"#d8576b\"],[0.6666666666666666,\"#ed7953\"],[0.7777777777777778,\"#fb9f3a\"],[0.8888888888888888,\"#fdca26\"],[1.0,\"#f0f921\"]],\"type\":\"heatmapgl\"}],\"histogram\":[{\"marker\":{\"pattern\":{\"fillmode\":\"overlay\",\"size\":10,\"solidity\":0.2}},\"type\":\"histogram\"}],\"histogram2d\":[{\"colorbar\":{\"outlinewidth\":0,\"ticks\":\"\"},\"colorscale\":[[0.0,\"#0d0887\"],[0.1111111111111111,\"#46039f\"],[0.2222222222222222,\"#7201a8\"],[0.3333333333333333,\"#9c179e\"],[0.4444444444444444,\"#bd3786\"],[0.5555555555555556,\"#d8576b\"],[0.6666666666666666,\"#ed7953\"],[0.7777777777777778,\"#fb9f3a\"],[0.8888888888888888,\"#fdca26\"],[1.0,\"#f0f921\"]],\"type\":\"histogram2d\"}],\"histogram2dcontour\":[{\"colorbar\":{\"outlinewidth\":0,\"ticks\":\"\"},\"colorscale\":[[0.0,\"#0d0887\"],[0.1111111111111111,\"#46039f\"],[0.2222222222222222,\"#7201a8\"],[0.3333333333333333,\"#9c179e\"],[0.4444444444444444,\"#bd3786\"],[0.5555555555555556,\"#d8576b\"],[0.6666666666666666,\"#ed7953\"],[0.7777777777777778,\"#fb9f3a\"],[0.8888888888888888,\"#fdca26\"],[1.0,\"#f0f921\"]],\"type\":\"histogram2dcontour\"}],\"mesh3d\":[{\"colorbar\":{\"outlinewidth\":0,\"ticks\":\"\"},\"type\":\"mesh3d\"}],\"parcoords\":[{\"line\":{\"colorbar\":{\"outlinewidth\":0,\"ticks\":\"\"}},\"type\":\"parcoords\"}],\"pie\":[{\"automargin\":true,\"type\":\"pie\"}],\"scatter\":[{\"marker\":{\"colorbar\":{\"outlinewidth\":0,\"ticks\":\"\"}},\"type\":\"scatter\"}],\"scatter3d\":[{\"line\":{\"colorbar\":{\"outlinewidth\":0,\"ticks\":\"\"}},\"marker\":{\"colorbar\":{\"outlinewidth\":0,\"ticks\":\"\"}},\"type\":\"scatter3d\"}],\"scattercarpet\":[{\"marker\":{\"colorbar\":{\"outlinewidth\":0,\"ticks\":\"\"}},\"type\":\"scattercarpet\"}],\"scattergeo\":[{\"marker\":{\"colorbar\":{\"outlinewidth\":0,\"ticks\":\"\"}},\"type\":\"scattergeo\"}],\"scattergl\":[{\"marker\":{\"colorbar\":{\"outlinewidth\":0,\"ticks\":\"\"}},\"type\":\"scattergl\"}],\"scattermapbox\":[{\"marker\":{\"colorbar\":{\"outlinewidth\":0,\"ticks\":\"\"}},\"type\":\"scattermapbox\"}],\"scatterpolar\":[{\"marker\":{\"colorbar\":{\"outlinewidth\":0,\"ticks\":\"\"}},\"type\":\"scatterpolar\"}],\"scatterpolargl\":[{\"marker\":{\"colorbar\":{\"outlinewidth\":0,\"ticks\":\"\"}},\"type\":\"scatterpolargl\"}],\"scatterternary\":[{\"marker\":{\"colorbar\":{\"outlinewidth\":0,\"ticks\":\"\"}},\"type\":\"scatterternary\"}],\"surface\":[{\"colorbar\":{\"outlinewidth\":0,\"ticks\":\"\"},\"colorscale\":[[0.0,\"#0d0887\"],[0.1111111111111111,\"#46039f\"],[0.2222222222222222,\"#7201a8\"],[0.3333333333333333,\"#9c179e\"],[0.4444444444444444,\"#bd3786\"],[0.5555555555555556,\"#d8576b\"],[0.6666666666666666,\"#ed7953\"],[0.7777777777777778,\"#fb9f3a\"],[0.8888888888888888,\"#fdca26\"],[1.0,\"#f0f921\"]],\"type\":\"surface\"}],\"table\":[{\"cells\":{\"fill\":{\"color\":\"#EBF0F8\"},\"line\":{\"color\":\"white\"}},\"header\":{\"fill\":{\"color\":\"#C8D4E3\"},\"line\":{\"color\":\"white\"}},\"type\":\"table\"}]},\"layout\":{\"annotationdefaults\":{\"arrowcolor\":\"#2a3f5f\",\"arrowhead\":0,\"arrowwidth\":1},\"autotypenumbers\":\"strict\",\"coloraxis\":{\"colorbar\":{\"outlinewidth\":0,\"ticks\":\"\"}},\"colorscale\":{\"diverging\":[[0,\"#8e0152\"],[0.1,\"#c51b7d\"],[0.2,\"#de77ae\"],[0.3,\"#f1b6da\"],[0.4,\"#fde0ef\"],[0.5,\"#f7f7f7\"],[0.6,\"#e6f5d0\"],[0.7,\"#b8e186\"],[0.8,\"#7fbc41\"],[0.9,\"#4d9221\"],[1,\"#276419\"]],\"sequential\":[[0.0,\"#0d0887\"],[0.1111111111111111,\"#46039f\"],[0.2222222222222222,\"#7201a8\"],[0.3333333333333333,\"#9c179e\"],[0.4444444444444444,\"#bd3786\"],[0.5555555555555556,\"#d8576b\"],[0.6666666666666666,\"#ed7953\"],[0.7777777777777778,\"#fb9f3a\"],[0.8888888888888888,\"#fdca26\"],[1.0,\"#f0f921\"]],\"sequentialminus\":[[0.0,\"#0d0887\"],[0.1111111111111111,\"#46039f\"],[0.2222222222222222,\"#7201a8\"],[0.3333333333333333,\"#9c179e\"],[0.4444444444444444,\"#bd3786\"],[0.5555555555555556,\"#d8576b\"],[0.6666666666666666,\"#ed7953\"],[0.7777777777777778,\"#fb9f3a\"],[0.8888888888888888,\"#fdca26\"],[1.0,\"#f0f921\"]]},\"colorway\":[\"#636efa\",\"#EF553B\",\"#00cc96\",\"#ab63fa\",\"#FFA15A\",\"#19d3f3\",\"#FF6692\",\"#B6E880\",\"#FF97FF\",\"#FECB52\"],\"font\":{\"color\":\"#2a3f5f\"},\"geo\":{\"bgcolor\":\"white\",\"lakecolor\":\"white\",\"landcolor\":\"#E5ECF6\",\"showlakes\":true,\"showland\":true,\"subunitcolor\":\"white\"},\"hoverlabel\":{\"align\":\"left\"},\"hovermode\":\"closest\",\"mapbox\":{\"style\":\"light\"},\"paper_bgcolor\":\"white\",\"plot_bgcolor\":\"#E5ECF6\",\"polar\":{\"angularaxis\":{\"gridcolor\":\"white\",\"linecolor\":\"white\",\"ticks\":\"\"},\"bgcolor\":\"#E5ECF6\",\"radialaxis\":{\"gridcolor\":\"white\",\"linecolor\":\"white\",\"ticks\":\"\"}},\"scene\":{\"xaxis\":{\"backgroundcolor\":\"#E5ECF6\",\"gridcolor\":\"white\",\"gridwidth\":2,\"linecolor\":\"white\",\"showbackground\":true,\"ticks\":\"\",\"zerolinecolor\":\"white\"},\"yaxis\":{\"backgroundcolor\":\"#E5ECF6\",\"gridcolor\":\"white\",\"gridwidth\":2,\"linecolor\":\"white\",\"showbackground\":true,\"ticks\":\"\",\"zerolinecolor\":\"white\"},\"zaxis\":{\"backgroundcolor\":\"#E5ECF6\",\"gridcolor\":\"white\",\"gridwidth\":2,\"linecolor\":\"white\",\"showbackground\":true,\"ticks\":\"\",\"zerolinecolor\":\"white\"}},\"shapedefaults\":{\"line\":{\"color\":\"#2a3f5f\"}},\"ternary\":{\"aaxis\":{\"gridcolor\":\"white\",\"linecolor\":\"white\",\"ticks\":\"\"},\"baxis\":{\"gridcolor\":\"white\",\"linecolor\":\"white\",\"ticks\":\"\"},\"bgcolor\":\"#E5ECF6\",\"caxis\":{\"gridcolor\":\"white\",\"linecolor\":\"white\",\"ticks\":\"\"}},\"title\":{\"x\":0.05},\"xaxis\":{\"automargin\":true,\"gridcolor\":\"white\",\"linecolor\":\"white\",\"ticks\":\"\",\"title\":{\"standoff\":15},\"zerolinecolor\":\"white\",\"zerolinewidth\":2},\"yaxis\":{\"automargin\":true,\"gridcolor\":\"white\",\"linecolor\":\"white\",\"ticks\":\"\",\"title\":{\"standoff\":15},\"zerolinecolor\":\"white\",\"zerolinewidth\":2}}},\"xaxis\":{\"anchor\":\"y\",\"domain\":[0.0,1.0],\"matches\":\"x4\",\"showticklabels\":false,\"type\":\"date\",\"range\":[\"2021-06-01\",\"2022-01-31\"],\"rangeslider\":{\"visible\":false},\"rangebreaks\":[{\"values\":[\"2020-07-18\",\"2020-07-19\",\"2020-07-25\",\"2020-07-26\",\"2020-08-01\",\"2020-08-02\",\"2020-08-08\",\"2020-08-09\",\"2020-08-15\",\"2020-08-16\",\"2020-08-22\",\"2020-08-23\",\"2020-08-29\",\"2020-08-30\",\"2020-09-05\",\"2020-09-06\",\"2020-09-07\",\"2020-09-12\",\"2020-09-13\",\"2020-09-19\",\"2020-09-20\",\"2020-09-26\",\"2020-09-27\",\"2020-10-03\",\"2020-10-04\",\"2020-10-10\",\"2020-10-11\",\"2020-10-17\",\"2020-10-18\",\"2020-10-24\",\"2020-10-25\",\"2020-10-31\",\"2020-11-01\",\"2020-11-07\",\"2020-11-08\",\"2020-11-14\",\"2020-11-15\",\"2020-11-21\",\"2020-11-22\",\"2020-11-26\",\"2020-11-28\",\"2020-11-29\",\"2020-12-05\",\"2020-12-06\",\"2020-12-12\",\"2020-12-13\",\"2020-12-19\",\"2020-12-20\",\"2020-12-25\",\"2020-12-26\",\"2020-12-27\",\"2021-01-01\",\"2021-01-02\",\"2021-01-03\",\"2021-01-09\",\"2021-01-10\",\"2021-01-16\",\"2021-01-17\",\"2021-01-18\",\"2021-01-23\",\"2021-01-24\",\"2021-01-30\",\"2021-01-31\",\"2021-02-06\",\"2021-02-07\",\"2021-02-13\",\"2021-02-14\",\"2021-02-15\",\"2021-02-20\",\"2021-02-21\",\"2021-02-27\",\"2021-02-28\",\"2021-03-06\",\"2021-03-07\",\"2021-03-13\",\"2021-03-14\",\"2021-03-20\",\"2021-03-21\",\"2021-03-27\",\"2021-03-28\",\"2021-04-02\",\"2021-04-03\",\"2021-04-04\",\"2021-04-10\",\"2021-04-11\",\"2021-04-17\",\"2021-04-18\",\"2021-04-24\",\"2021-04-25\",\"2021-05-01\",\"2021-05-02\",\"2021-05-08\",\"2021-05-09\",\"2021-05-15\",\"2021-05-16\",\"2021-05-22\",\"2021-05-23\",\"2021-05-29\",\"2021-05-30\",\"2021-05-31\",\"2021-06-05\",\"2021-06-06\",\"2021-06-12\",\"2021-06-13\",\"2021-06-19\",\"2021-06-20\",\"2021-06-26\",\"2021-06-27\",\"2021-07-03\",\"2021-07-04\",\"2021-07-05\",\"2021-07-10\",\"2021-07-11\",\"2021-07-17\",\"2021-07-18\",\"2021-07-24\",\"2021-07-25\",\"2021-07-31\",\"2021-08-01\",\"2021-08-07\",\"2021-08-08\",\"2021-08-14\",\"2021-08-15\",\"2021-08-21\",\"2021-08-22\",\"2021-08-28\",\"2021-08-29\",\"2021-09-04\",\"2021-09-05\",\"2021-09-06\",\"2021-09-11\",\"2021-09-12\",\"2021-09-18\",\"2021-09-19\",\"2021-09-25\",\"2021-09-26\",\"2021-10-02\",\"2021-10-03\",\"2021-10-09\",\"2021-10-10\",\"2021-10-16\",\"2021-10-17\",\"2021-10-23\",\"2021-10-24\",\"2021-10-30\",\"2021-10-31\",\"2021-11-06\",\"2021-11-07\",\"2021-11-13\",\"2021-11-14\",\"2021-11-20\",\"2021-11-21\",\"2021-11-25\",\"2021-11-27\",\"2021-11-28\",\"2021-12-04\",\"2021-12-05\",\"2021-12-11\",\"2021-12-12\",\"2021-12-18\",\"2021-12-19\"]}],\"showspikes\":true,\"spikemode\":\"across\",\"spikesnap\":\"cursor\",\"spikedash\":\"dash\"},\"yaxis\":{\"anchor\":\"x\",\"domain\":[0.41400000000000003,0.8844000000000001],\"range\":[299.5,384.3299865722656],\"showspikes\":true,\"spikemode\":\"across\",\"spikesnap\":\"cursor\",\"spikedash\":\"dash\"},\"xaxis2\":{\"anchor\":\"y2\",\"domain\":[0.0,1.0],\"matches\":\"x4\",\"showticklabels\":false,\"type\":\"date\",\"range\":[\"2021-06-01\",\"2022-01-31\"],\"showspikes\":true,\"spikemode\":\"across\",\"spikesnap\":\"cursor\",\"spikedash\":\"dash\"},\"yaxis2\":{\"anchor\":\"x2\",\"domain\":[0.30800000000000005,0.404],\"showspikes\":true,\"spikemode\":\"across\",\"spikesnap\":\"cursor\",\"spikedash\":\"dash\"},\"xaxis3\":{\"anchor\":\"y3\",\"domain\":[0.0,1.0],\"matches\":\"x4\",\"showticklabels\":false,\"type\":\"date\",\"range\":[\"2021-06-01\",\"2022-01-31\"],\"showspikes\":true,\"spikemode\":\"across\",\"spikesnap\":\"cursor\",\"spikedash\":\"dash\"},\"yaxis3\":{\"anchor\":\"x3\",\"domain\":[0.202,0.29800000000000004],\"showspikes\":true,\"spikemode\":\"across\",\"spikesnap\":\"cursor\",\"spikedash\":\"dash\"},\"xaxis4\":{\"anchor\":\"y4\",\"domain\":[0.0,1.0],\"type\":\"date\",\"range\":[\"2021-06-01\",\"2022-01-31\"],\"showspikes\":true,\"spikemode\":\"across\",\"spikesnap\":\"cursor\",\"spikedash\":\"dash\"},\"yaxis4\":{\"anchor\":\"x4\",\"domain\":[0.0,0.192],\"showspikes\":true,\"spikemode\":\"across\",\"spikesnap\":\"cursor\",\"spikedash\":\"dash\"},\"annotations\":[{\"font\":{\"size\":16},\"showarrow\":false,\"text\":\"<b><a href=\\\"https://in.tradingview.com/chart/66XmQfYy/?symbol=FB\\\">FB</a> </b> <a href=\\\"https://seekingalpha.com/symbol/FB\\\"> Seeking Alpha </a>  <b>Date:</b>2021-12-21 <b>Close Price:</b>334.2<br><b>Support:</b>331.9 <b>Resistance:</b>342.5 <b>ATH:</b>382.2 <b>Discount:</b>48.0 (14.4%)<br>Support -15%:<b>282.11</b> Resistance +15%:<b>393.87</b> \",\"x\":0.5,\"xanchor\":\"center\",\"xref\":\"paper\",\"y\":1.0,\"yanchor\":\"bottom\",\"yref\":\"paper\"}],\"height\":900,\"width\":1200,\"showlegend\":true,\"dragmode\":\"pan\",\"margin\":{\"b\":20,\"l\":20,\"r\":20,\"t\":100}},                        {\"responsive\": true}                    ).then(function(){\n",
              "                            \n",
              "var gd = document.getElementById('0dfb1436-43b2-4df1-9159-21568147284f');\n",
              "var x = new MutationObserver(function (mutations, observer) {{\n",
              "        var display = window.getComputedStyle(gd).display;\n",
              "        if (!display || display === 'none') {{\n",
              "            console.log([gd, 'removed!']);\n",
              "            Plotly.purge(gd);\n",
              "            observer.disconnect();\n",
              "        }}\n",
              "}});\n",
              "\n",
              "// Listen for the removal of the full notebook cells\n",
              "var notebookContainer = gd.closest('#notebook-container');\n",
              "if (notebookContainer) {{\n",
              "    x.observe(notebookContainer, {childList: true});\n",
              "}}\n",
              "\n",
              "// Listen for the clearing of the current output cell\n",
              "var outputEl = gd.closest('.output');\n",
              "if (outputEl) {{\n",
              "    x.observe(outputEl, {childList: true});\n",
              "}}\n",
              "\n",
              "                        })                };                            </script>        </div>\n",
              "</body>\n",
              "</html>"
            ]
          },
          "metadata": {}
        }
      ]
    },
    {
      "cell_type": "code",
      "source": [
        "symbols = ['AAPL','AMD','AMZN','AAL','ABBV','ARKG','ARKK','ARKQ','ATVI','BA','BNGO','CAT','CCL','CHPT','CHWY','COIN','CRM','DDOG','DIA','DIS','DKNG','DOCU','EA','ETSY','FB','GOOGL','HOG','HOOD']\n",
        "for symbol in symbols:\n",
        "  ticker = yf.Ticker(symbol)\n",
        "  df = get_stock_price(ticker,\"2019-01-01\")\n",
        "  get_chart(ticker, df, 365)"
      ],
      "metadata": {
        "colab": {
          "base_uri": "https://localhost:8080/"
        },
        "id": "CMcLhG4wzKd6",
        "outputId": "30d1a28e-8e1b-4fee-dc49-ccc23c3a8024"
      },
      "execution_count": null,
      "outputs": [
        {
          "output_type": "stream",
          "name": "stdout",
          "text": [
            "close_price 173.0 min_level: 158.7 max_level: 173.5\n"
          ]
        },
        {
          "output_type": "stream",
          "name": "stderr",
          "text": [
            "/usr/local/lib/python3.7/dist-packages/ipykernel_launcher.py:109: RuntimeWarning:\n",
            "\n",
            "divide by zero encountered in double_scalars\n",
            "\n",
            "/usr/local/lib/python3.7/dist-packages/ipykernel_launcher.py:110: RuntimeWarning:\n",
            "\n",
            "divide by zero encountered in double_scalars\n",
            "\n"
          ]
        },
        {
          "output_type": "stream",
          "name": "stdout",
          "text": [
            "chart folder: /content/drive/MyDrive/models/charts/2021-12-21\n",
            "close_price 144.2 min_level: 139.4 max_level: 146.5\n"
          ]
        },
        {
          "output_type": "stream",
          "name": "stderr",
          "text": [
            "/usr/local/lib/python3.7/dist-packages/ipykernel_launcher.py:109: RuntimeWarning:\n",
            "\n",
            "divide by zero encountered in double_scalars\n",
            "\n",
            "/usr/local/lib/python3.7/dist-packages/ipykernel_launcher.py:110: RuntimeWarning:\n",
            "\n",
            "divide by zero encountered in double_scalars\n",
            "\n"
          ]
        },
        {
          "output_type": "stream",
          "name": "stdout",
          "text": [
            "chart folder: /content/drive/MyDrive/models/charts/2021-12-21\n",
            "close_price 3408.3 min_level: 3380.3 max_level: 3514.4\n"
          ]
        },
        {
          "output_type": "stream",
          "name": "stderr",
          "text": [
            "/usr/local/lib/python3.7/dist-packages/ipykernel_launcher.py:109: RuntimeWarning:\n",
            "\n",
            "divide by zero encountered in double_scalars\n",
            "\n",
            "/usr/local/lib/python3.7/dist-packages/ipykernel_launcher.py:110: RuntimeWarning:\n",
            "\n",
            "divide by zero encountered in double_scalars\n",
            "\n"
          ]
        },
        {
          "output_type": "stream",
          "name": "stdout",
          "text": [
            "chart folder: /content/drive/MyDrive/models/charts/2021-12-21\n",
            "close_price 18.1 min_level: 17.0 max_level: 18.9\n"
          ]
        },
        {
          "output_type": "stream",
          "name": "stderr",
          "text": [
            "/usr/local/lib/python3.7/dist-packages/ipykernel_launcher.py:109: RuntimeWarning:\n",
            "\n",
            "divide by zero encountered in double_scalars\n",
            "\n",
            "/usr/local/lib/python3.7/dist-packages/ipykernel_launcher.py:110: RuntimeWarning:\n",
            "\n",
            "divide by zero encountered in double_scalars\n",
            "\n"
          ]
        },
        {
          "output_type": "stream",
          "name": "stdout",
          "text": [
            "chart folder: /content/drive/MyDrive/models/charts/2021-12-21\n",
            "close_price 129.9 min_level: 122.4 max_level: 131.8\n"
          ]
        },
        {
          "output_type": "stream",
          "name": "stderr",
          "text": [
            "/usr/local/lib/python3.7/dist-packages/ipykernel_launcher.py:109: RuntimeWarning:\n",
            "\n",
            "divide by zero encountered in double_scalars\n",
            "\n",
            "/usr/local/lib/python3.7/dist-packages/ipykernel_launcher.py:110: RuntimeWarning:\n",
            "\n",
            "divide by zero encountered in double_scalars\n",
            "\n"
          ]
        },
        {
          "output_type": "stream",
          "name": "stdout",
          "text": [
            "chart folder: /content/drive/MyDrive/models/charts/2021-12-21\n",
            "close_price 65.0 min_level: 64.1 max_level: 67.0\n"
          ]
        },
        {
          "output_type": "stream",
          "name": "stderr",
          "text": [
            "/usr/local/lib/python3.7/dist-packages/ipykernel_launcher.py:109: RuntimeWarning:\n",
            "\n",
            "divide by zero encountered in double_scalars\n",
            "\n",
            "/usr/local/lib/python3.7/dist-packages/ipykernel_launcher.py:110: RuntimeWarning:\n",
            "\n",
            "divide by zero encountered in double_scalars\n",
            "\n"
          ]
        },
        {
          "output_type": "stream",
          "name": "stdout",
          "text": [
            "chart folder: /content/drive/MyDrive/models/charts/2021-12-21\n",
            "close_price 98.4 min_level: 97.2 max_level: 101.1\n"
          ]
        },
        {
          "output_type": "stream",
          "name": "stderr",
          "text": [
            "/usr/local/lib/python3.7/dist-packages/ipykernel_launcher.py:109: RuntimeWarning:\n",
            "\n",
            "divide by zero encountered in double_scalars\n",
            "\n",
            "/usr/local/lib/python3.7/dist-packages/ipykernel_launcher.py:110: RuntimeWarning:\n",
            "\n",
            "divide by zero encountered in double_scalars\n",
            "\n"
          ]
        },
        {
          "output_type": "stream",
          "name": "stdout",
          "text": [
            "chart folder: /content/drive/MyDrive/models/charts/2021-12-21\n",
            "close_price 76.8 min_level: 76.6 max_level: 80.7\n"
          ]
        },
        {
          "output_type": "stream",
          "name": "stderr",
          "text": [
            "/usr/local/lib/python3.7/dist-packages/ipykernel_launcher.py:109: RuntimeWarning:\n",
            "\n",
            "divide by zero encountered in double_scalars\n",
            "\n",
            "/usr/local/lib/python3.7/dist-packages/ipykernel_launcher.py:110: RuntimeWarning:\n",
            "\n",
            "divide by zero encountered in double_scalars\n",
            "\n"
          ]
        },
        {
          "output_type": "stream",
          "name": "stdout",
          "text": [
            "chart folder: /content/drive/MyDrive/models/charts/2021-12-21\n",
            "close_price 63.6 min_level: 60.0 max_level: 64.6\n"
          ]
        },
        {
          "output_type": "stream",
          "name": "stderr",
          "text": [
            "/usr/local/lib/python3.7/dist-packages/ipykernel_launcher.py:109: RuntimeWarning:\n",
            "\n",
            "divide by zero encountered in double_scalars\n",
            "\n",
            "/usr/local/lib/python3.7/dist-packages/ipykernel_launcher.py:110: RuntimeWarning:\n",
            "\n",
            "divide by zero encountered in double_scalars\n",
            "\n"
          ]
        },
        {
          "output_type": "stream",
          "name": "stdout",
          "text": [
            "chart folder: /content/drive/MyDrive/models/charts/2021-12-21\n",
            "close_price 199.5 min_level: 199.2 max_level: 211.1\n"
          ]
        },
        {
          "output_type": "stream",
          "name": "stderr",
          "text": [
            "/usr/local/lib/python3.7/dist-packages/ipykernel_launcher.py:109: RuntimeWarning:\n",
            "\n",
            "divide by zero encountered in double_scalars\n",
            "\n",
            "/usr/local/lib/python3.7/dist-packages/ipykernel_launcher.py:110: RuntimeWarning:\n",
            "\n",
            "divide by zero encountered in double_scalars\n",
            "\n"
          ]
        },
        {
          "output_type": "stream",
          "name": "stdout",
          "text": [
            "chart folder: /content/drive/MyDrive/models/charts/2021-12-21\n",
            "close_price 3.3 min_level: 3.0 max_level: 3.8\n"
          ]
        },
        {
          "output_type": "stream",
          "name": "stderr",
          "text": [
            "/usr/local/lib/python3.7/dist-packages/ipykernel_launcher.py:109: RuntimeWarning:\n",
            "\n",
            "divide by zero encountered in double_scalars\n",
            "\n",
            "/usr/local/lib/python3.7/dist-packages/ipykernel_launcher.py:110: RuntimeWarning:\n",
            "\n",
            "divide by zero encountered in double_scalars\n",
            "\n"
          ]
        },
        {
          "output_type": "stream",
          "name": "stdout",
          "text": [
            "chart folder: /content/drive/MyDrive/models/charts/2021-12-21\n",
            "close_price 198.3 min_level: 198.1 max_level: 205.3\n"
          ]
        },
        {
          "output_type": "stream",
          "name": "stderr",
          "text": [
            "/usr/local/lib/python3.7/dist-packages/ipykernel_launcher.py:109: RuntimeWarning:\n",
            "\n",
            "divide by zero encountered in double_scalars\n",
            "\n",
            "/usr/local/lib/python3.7/dist-packages/ipykernel_launcher.py:110: RuntimeWarning:\n",
            "\n",
            "divide by zero encountered in double_scalars\n",
            "\n"
          ]
        },
        {
          "output_type": "stream",
          "name": "stdout",
          "text": [
            "chart folder: /content/drive/MyDrive/models/charts/2021-12-21\n",
            "close_price 20.5 min_level: 20.0 max_level: 21.9\n"
          ]
        },
        {
          "output_type": "stream",
          "name": "stderr",
          "text": [
            "/usr/local/lib/python3.7/dist-packages/ipykernel_launcher.py:109: RuntimeWarning:\n",
            "\n",
            "divide by zero encountered in double_scalars\n",
            "\n",
            "/usr/local/lib/python3.7/dist-packages/ipykernel_launcher.py:110: RuntimeWarning:\n",
            "\n",
            "divide by zero encountered in double_scalars\n",
            "\n"
          ]
        },
        {
          "output_type": "stream",
          "name": "stdout",
          "text": [
            "chart folder: /content/drive/MyDrive/models/charts/2021-12-21\n",
            "close_price 18.7 min_level: 15.9 max_level: 19.5\n"
          ]
        },
        {
          "output_type": "stream",
          "name": "stderr",
          "text": [
            "/usr/local/lib/python3.7/dist-packages/ipykernel_launcher.py:109: RuntimeWarning:\n",
            "\n",
            "divide by zero encountered in double_scalars\n",
            "\n",
            "/usr/local/lib/python3.7/dist-packages/ipykernel_launcher.py:110: RuntimeWarning:\n",
            "\n",
            "divide by zero encountered in double_scalars\n",
            "\n"
          ]
        },
        {
          "output_type": "stream",
          "name": "stdout",
          "text": [
            "chart folder: /content/drive/MyDrive/models/charts/2021-12-21\n",
            "close_price 55.2 min_level: 54.8 max_level: 59.3\n"
          ]
        },
        {
          "output_type": "stream",
          "name": "stderr",
          "text": [
            "/usr/local/lib/python3.7/dist-packages/ipykernel_launcher.py:109: RuntimeWarning:\n",
            "\n",
            "divide by zero encountered in double_scalars\n",
            "\n",
            "/usr/local/lib/python3.7/dist-packages/ipykernel_launcher.py:110: RuntimeWarning:\n",
            "\n",
            "divide by zero encountered in double_scalars\n",
            "\n"
          ]
        },
        {
          "output_type": "stream",
          "name": "stdout",
          "text": [
            "chart folder: /content/drive/MyDrive/models/charts/2021-12-21\n",
            "close_price 247.7 min_level: 232.3 max_level: 250.5\n"
          ]
        },
        {
          "output_type": "stream",
          "name": "stderr",
          "text": [
            "/usr/local/lib/python3.7/dist-packages/ipykernel_launcher.py:109: RuntimeWarning:\n",
            "\n",
            "divide by zero encountered in double_scalars\n",
            "\n",
            "/usr/local/lib/python3.7/dist-packages/ipykernel_launcher.py:110: RuntimeWarning:\n",
            "\n",
            "divide by zero encountered in double_scalars\n",
            "\n"
          ]
        },
        {
          "output_type": "stream",
          "name": "stdout",
          "text": [
            "chart folder: /content/drive/MyDrive/models/charts/2021-12-21\n",
            "close_price 252.6 min_level: 240.1 max_level: 253.4\n"
          ]
        },
        {
          "output_type": "stream",
          "name": "stderr",
          "text": [
            "/usr/local/lib/python3.7/dist-packages/ipykernel_launcher.py:109: RuntimeWarning:\n",
            "\n",
            "divide by zero encountered in double_scalars\n",
            "\n",
            "/usr/local/lib/python3.7/dist-packages/ipykernel_launcher.py:110: RuntimeWarning:\n",
            "\n",
            "divide by zero encountered in double_scalars\n",
            "\n"
          ]
        },
        {
          "output_type": "stream",
          "name": "stdout",
          "text": [
            "chart folder: /content/drive/MyDrive/models/charts/2021-12-21\n",
            "close_price 177.5 min_level: 166.4 max_level: 186.3\n"
          ]
        },
        {
          "output_type": "stream",
          "name": "stderr",
          "text": [
            "/usr/local/lib/python3.7/dist-packages/ipykernel_launcher.py:109: RuntimeWarning:\n",
            "\n",
            "divide by zero encountered in double_scalars\n",
            "\n",
            "/usr/local/lib/python3.7/dist-packages/ipykernel_launcher.py:110: RuntimeWarning:\n",
            "\n",
            "divide by zero encountered in double_scalars\n",
            "\n"
          ]
        },
        {
          "output_type": "stream",
          "name": "stdout",
          "text": [
            "chart folder: /content/drive/MyDrive/models/charts/2021-12-21\n",
            "close_price 354.9 min_level: 348.9 max_level: 358.0\n"
          ]
        },
        {
          "output_type": "stream",
          "name": "stderr",
          "text": [
            "/usr/local/lib/python3.7/dist-packages/ipykernel_launcher.py:109: RuntimeWarning:\n",
            "\n",
            "divide by zero encountered in double_scalars\n",
            "\n",
            "/usr/local/lib/python3.7/dist-packages/ipykernel_launcher.py:110: RuntimeWarning:\n",
            "\n",
            "divide by zero encountered in double_scalars\n",
            "\n"
          ]
        },
        {
          "output_type": "stream",
          "name": "stdout",
          "text": [
            "chart folder: /content/drive/MyDrive/models/charts/2021-12-21\n",
            "close_price 151.1 min_level: 147.8 max_level: 151.6\n"
          ]
        },
        {
          "output_type": "stream",
          "name": "stderr",
          "text": [
            "/usr/local/lib/python3.7/dist-packages/ipykernel_launcher.py:109: RuntimeWarning:\n",
            "\n",
            "divide by zero encountered in double_scalars\n",
            "\n",
            "/usr/local/lib/python3.7/dist-packages/ipykernel_launcher.py:110: RuntimeWarning:\n",
            "\n",
            "divide by zero encountered in double_scalars\n",
            "\n"
          ]
        },
        {
          "output_type": "stream",
          "name": "stdout",
          "text": [
            "chart folder: /content/drive/MyDrive/models/charts/2021-12-21\n",
            "close_price 30.3 min_level: 27.5 max_level: 30.5\n"
          ]
        },
        {
          "output_type": "stream",
          "name": "stderr",
          "text": [
            "/usr/local/lib/python3.7/dist-packages/ipykernel_launcher.py:109: RuntimeWarning:\n",
            "\n",
            "divide by zero encountered in double_scalars\n",
            "\n",
            "/usr/local/lib/python3.7/dist-packages/ipykernel_launcher.py:110: RuntimeWarning:\n",
            "\n",
            "divide by zero encountered in double_scalars\n",
            "\n"
          ]
        },
        {
          "output_type": "stream",
          "name": "stdout",
          "text": [
            "chart folder: /content/drive/MyDrive/models/charts/2021-12-21\n",
            "close_price 154.2 min_level: 131.5 max_level: 163.8\n"
          ]
        },
        {
          "output_type": "stream",
          "name": "stderr",
          "text": [
            "/usr/local/lib/python3.7/dist-packages/ipykernel_launcher.py:109: RuntimeWarning:\n",
            "\n",
            "divide by zero encountered in double_scalars\n",
            "\n",
            "/usr/local/lib/python3.7/dist-packages/ipykernel_launcher.py:110: RuntimeWarning:\n",
            "\n",
            "divide by zero encountered in double_scalars\n",
            "\n"
          ]
        },
        {
          "output_type": "stream",
          "name": "stdout",
          "text": [
            "chart folder: /content/drive/MyDrive/models/charts/2021-12-21\n",
            "close_price 132.2 min_level: 129.0 max_level: 135.1\n"
          ]
        },
        {
          "output_type": "stream",
          "name": "stderr",
          "text": [
            "/usr/local/lib/python3.7/dist-packages/ipykernel_launcher.py:109: RuntimeWarning:\n",
            "\n",
            "divide by zero encountered in double_scalars\n",
            "\n",
            "/usr/local/lib/python3.7/dist-packages/ipykernel_launcher.py:110: RuntimeWarning:\n",
            "\n",
            "divide by zero encountered in double_scalars\n",
            "\n"
          ]
        },
        {
          "output_type": "stream",
          "name": "stdout",
          "text": [
            "chart folder: /content/drive/MyDrive/models/charts/2021-12-21\n",
            "close_price 224.8 min_level: 221.3 max_level: 234.4\n"
          ]
        },
        {
          "output_type": "stream",
          "name": "stderr",
          "text": [
            "/usr/local/lib/python3.7/dist-packages/ipykernel_launcher.py:109: RuntimeWarning:\n",
            "\n",
            "divide by zero encountered in double_scalars\n",
            "\n",
            "/usr/local/lib/python3.7/dist-packages/ipykernel_launcher.py:110: RuntimeWarning:\n",
            "\n",
            "divide by zero encountered in double_scalars\n",
            "\n"
          ]
        },
        {
          "output_type": "stream",
          "name": "stdout",
          "text": [
            "chart folder: /content/drive/MyDrive/models/charts/2021-12-21\n",
            "close_price 334.2 min_level: 331.9 max_level: 342.5\n"
          ]
        },
        {
          "output_type": "stream",
          "name": "stderr",
          "text": [
            "/usr/local/lib/python3.7/dist-packages/ipykernel_launcher.py:109: RuntimeWarning:\n",
            "\n",
            "divide by zero encountered in double_scalars\n",
            "\n",
            "/usr/local/lib/python3.7/dist-packages/ipykernel_launcher.py:110: RuntimeWarning:\n",
            "\n",
            "divide by zero encountered in double_scalars\n",
            "\n"
          ]
        },
        {
          "output_type": "stream",
          "name": "stdout",
          "text": [
            "chart folder: /content/drive/MyDrive/models/charts/2021-12-21\n",
            "close_price 2869.4 min_level: 2824.3 max_level: 2890.2\n"
          ]
        },
        {
          "output_type": "stream",
          "name": "stderr",
          "text": [
            "/usr/local/lib/python3.7/dist-packages/ipykernel_launcher.py:109: RuntimeWarning:\n",
            "\n",
            "divide by zero encountered in double_scalars\n",
            "\n",
            "/usr/local/lib/python3.7/dist-packages/ipykernel_launcher.py:110: RuntimeWarning:\n",
            "\n",
            "divide by zero encountered in double_scalars\n",
            "\n"
          ]
        },
        {
          "output_type": "stream",
          "name": "stdout",
          "text": [
            "chart folder: /content/drive/MyDrive/models/charts/2021-12-21\n",
            "close_price 35.2 min_level: 34.2 max_level: 36.6\n"
          ]
        },
        {
          "output_type": "stream",
          "name": "stderr",
          "text": [
            "/usr/local/lib/python3.7/dist-packages/ipykernel_launcher.py:109: RuntimeWarning:\n",
            "\n",
            "divide by zero encountered in double_scalars\n",
            "\n",
            "/usr/local/lib/python3.7/dist-packages/ipykernel_launcher.py:110: RuntimeWarning:\n",
            "\n",
            "divide by zero encountered in double_scalars\n",
            "\n"
          ]
        },
        {
          "output_type": "stream",
          "name": "stdout",
          "text": [
            "chart folder: /content/drive/MyDrive/models/charts/2021-12-21\n",
            "close_price 18.9 min_level: 17.1 max_level: 19.9\n",
            "chart folder: /content/drive/MyDrive/models/charts/2021-12-21\n"
          ]
        },
        {
          "output_type": "stream",
          "name": "stderr",
          "text": [
            "/usr/local/lib/python3.7/dist-packages/ipykernel_launcher.py:109: RuntimeWarning:\n",
            "\n",
            "divide by zero encountered in double_scalars\n",
            "\n",
            "/usr/local/lib/python3.7/dist-packages/ipykernel_launcher.py:110: RuntimeWarning:\n",
            "\n",
            "divide by zero encountered in double_scalars\n",
            "\n"
          ]
        }
      ]
    }
  ]
}