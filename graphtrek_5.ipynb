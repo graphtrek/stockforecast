{
  "nbformat": 4,
  "nbformat_minor": 0,
  "metadata": {
    "colab": {
      "name": "graphtrek_5.ipynb",
      "provenance": [],
      "authorship_tag": "ABX9TyN0cWzG5LrPLaVNHnZvGSRf",
      "include_colab_link": true
    },
    "kernelspec": {
      "name": "python3",
      "display_name": "Python 3"
    },
    "language_info": {
      "name": "python"
    }
  },
  "cells": [
    {
      "cell_type": "markdown",
      "metadata": {
        "id": "view-in-github",
        "colab_type": "text"
      },
      "source": [
        "<a href=\"https://colab.research.google.com/github/graphtrek/stockforecast/blob/main/graphtrek_5.ipynb\" target=\"_parent\"><img src=\"https://colab.research.google.com/assets/colab-badge.svg\" alt=\"Open In Colab\"/></a>"
      ]
    },
    {
      "cell_type": "code",
      "metadata": {
        "id": "d4VcGEG3bM57"
      },
      "source": [
        "import numpy as np\n",
        "from tensorflow.keras.models import Sequential\n",
        "from tensorflow.keras.layers import LSTM\n",
        "from tensorflow.keras.layers import Dense, Dropout\n",
        "import pandas as pd\n",
        "from matplotlib import pyplot as plt\n",
        "from sklearn.preprocessing import StandardScaler\n",
        "import seaborn as sns"
      ],
      "execution_count": 4,
      "outputs": []
    },
    {
      "cell_type": "code",
      "metadata": {
        "id": "Dgz5zBh2bkeh"
      },
      "source": [
        "ticker = \"MU\"\n",
        "look_back = 5 # 5 days\n",
        "max_data_size = 730 # 2 years\n",
        "split_percent = 0.90 # use 90 of the data  for train\n",
        "zoom = 180 # last 180 days see in chart"
      ],
      "execution_count": 2,
      "outputs": []
    },
    {
      "cell_type": "code",
      "metadata": {
        "colab": {
          "base_uri": "https://localhost:8080/"
        },
        "id": "CIVMp-dgb7U8",
        "outputId": "2ccecf0a-0edf-4c84-faa4-67ad9dadb3c2"
      },
      "source": [
        "stock_api_response = pd.read_json('https://www.alphavantage.co/query?function=TIME_SERIES_DAILY_ADJUSTED&symbol='+ticker+'&outputsize=full&apikey=3F4URDEKOPLFH25T')\n",
        "stock_api_data = stock_api_response['Time Series (Daily)']\n",
        "#print(stock_api_data)\n",
        "stock_api_data = stock_api_data.drop(index=['1. Information','2. Symbol','3. Last Refreshed','4. Output Size','5. Time Zone']);\n",
        "#print(list(stock_api_data.items()))\n",
        "data = []\n",
        "for key, value in stock_api_data.items():\n",
        "  data.append([\n",
        "      pd.to_datetime(key,).date(),\n",
        "      value.get('1. open'),\n",
        "      value.get('2. high'),\n",
        "      value.get('3. low'),\n",
        "      value.get('5. adjusted close')\n",
        "      ])\n",
        "\n",
        "last_data =  str(data[0][0])\n",
        "print(data[0])\n",
        "if max_data_size < len(data):\n",
        "  data = np.flip(data[:max_data_size],axis=0)\n",
        "else:\n",
        "  data = np.flip(data,axis=0)\n",
        "print('data size:',len(data), 'max_data_size:', max_data_size)"
      ],
      "execution_count": 16,
      "outputs": [
        {
          "output_type": "stream",
          "name": "stdout",
          "text": [
            "[datetime.date(2021, 10, 19), '67.37', '67.889', '66.64', '67.57']\n",
            "data size: 730 max_data_size: 730\n"
          ]
        }
      ]
    },
    {
      "cell_type": "code",
      "metadata": {
        "colab": {
          "base_uri": "https://localhost:8080/",
          "height": 204
        },
        "id": "IIsS-qdhcO_a",
        "outputId": "e7858791-4c64-435c-e561-41dc6cb6c6f4"
      },
      "source": [
        "df = pd.DataFrame(data,columns=['Date','Open','High','Low','Close'])\n",
        "\n",
        "#df['50MA'] = df['Close'].rolling(50).mean()\n",
        "#df['100MA'] = df['Close'].rolling(100).mean()\n",
        "#df['200MA'] = df['Close'].rolling(200).mean()\n",
        "\n",
        "split = int(split_percent*len(data))\n",
        "if len(data) - split < look_back:\n",
        "  split = look_back\n",
        "split\n",
        "df.head()"
      ],
      "execution_count": 17,
      "outputs": [
        {
          "output_type": "execute_result",
          "data": {
            "text/html": [
              "<div>\n",
              "<style scoped>\n",
              "    .dataframe tbody tr th:only-of-type {\n",
              "        vertical-align: middle;\n",
              "    }\n",
              "\n",
              "    .dataframe tbody tr th {\n",
              "        vertical-align: top;\n",
              "    }\n",
              "\n",
              "    .dataframe thead th {\n",
              "        text-align: right;\n",
              "    }\n",
              "</style>\n",
              "<table border=\"1\" class=\"dataframe\">\n",
              "  <thead>\n",
              "    <tr style=\"text-align: right;\">\n",
              "      <th></th>\n",
              "      <th>Date</th>\n",
              "      <th>Open</th>\n",
              "      <th>High</th>\n",
              "      <th>Low</th>\n",
              "      <th>Close</th>\n",
              "    </tr>\n",
              "  </thead>\n",
              "  <tbody>\n",
              "    <tr>\n",
              "      <th>0</th>\n",
              "      <td>2018-11-26</td>\n",
              "      <td>37.75</td>\n",
              "      <td>37.79</td>\n",
              "      <td>35.53</td>\n",
              "      <td>36.5185509285</td>\n",
              "    </tr>\n",
              "    <tr>\n",
              "      <th>1</th>\n",
              "      <td>2018-11-27</td>\n",
              "      <td>36.09</td>\n",
              "      <td>37.45</td>\n",
              "      <td>36.02</td>\n",
              "      <td>36.9479459764</td>\n",
              "    </tr>\n",
              "    <tr>\n",
              "      <th>2</th>\n",
              "      <td>2018-11-28</td>\n",
              "      <td>37.29</td>\n",
              "      <td>39.0</td>\n",
              "      <td>35.99</td>\n",
              "      <td>38.6555402364</td>\n",
              "    </tr>\n",
              "    <tr>\n",
              "      <th>3</th>\n",
              "      <td>2018-11-29</td>\n",
              "      <td>38.3</td>\n",
              "      <td>38.71</td>\n",
              "      <td>37.73</td>\n",
              "      <td>37.8566657288</td>\n",
              "    </tr>\n",
              "    <tr>\n",
              "      <th>4</th>\n",
              "      <td>2018-11-30</td>\n",
              "      <td>37.75</td>\n",
              "      <td>38.63</td>\n",
              "      <td>36.94</td>\n",
              "      <td>38.5057512662</td>\n",
              "    </tr>\n",
              "  </tbody>\n",
              "</table>\n",
              "</div>"
            ],
            "text/plain": [
              "         Date   Open   High    Low          Close\n",
              "0  2018-11-26  37.75  37.79  35.53  36.5185509285\n",
              "1  2018-11-27  36.09  37.45  36.02  36.9479459764\n",
              "2  2018-11-28  37.29   39.0  35.99  38.6555402364\n",
              "3  2018-11-29   38.3  38.71  37.73  37.8566657288\n",
              "4  2018-11-30  37.75  38.63  36.94  38.5057512662"
            ]
          },
          "metadata": {},
          "execution_count": 17
        }
      ]
    },
    {
      "cell_type": "code",
      "metadata": {
        "colab": {
          "base_uri": "https://localhost:8080/",
          "height": 404
        },
        "id": "C4xJHZSzcV_A",
        "outputId": "eb31420c-b748-4f19-a7c0-98297d0bad81"
      },
      "source": [
        "#Variables for training\n",
        "cols = list(df)[1:6]\n",
        "#Date and volume columns are not used in training. \n",
        "print(cols) #['Open', 'High', 'Low', 'Close', 'Adj Close']\n",
        "\n",
        "#New dataframe with only training data - 5 columns\n",
        "df_for_training = df[cols].astype(float)\n",
        "print(df_for_training.head())\n",
        "\n",
        "df_for_plot=df_for_training\n",
        "df_for_plot.plot.line()\n",
        "print(df_for_training.shape)"
      ],
      "execution_count": 18,
      "outputs": [
        {
          "output_type": "stream",
          "name": "stdout",
          "text": [
            "['Open', 'High', 'Low', 'Close']\n",
            "    Open   High    Low      Close\n",
            "0  37.75  37.79  35.53  36.518551\n",
            "1  36.09  37.45  36.02  36.947946\n",
            "2  37.29  39.00  35.99  38.655540\n",
            "3  38.30  38.71  37.73  37.856666\n",
            "4  37.75  38.63  36.94  38.505751\n",
            "(730, 4)\n"
          ]
        },
        {
          "output_type": "display_data",
          "data": {
            "image/png": "[encoded data removed]",
            "text/plain": [
              "<Figure size 432x288 with 1 Axes>"
            ]
          },
          "metadata": {
            "needs_background": "light"
          }
        }
      ]
    }
  ]
}