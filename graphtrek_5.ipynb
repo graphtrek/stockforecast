{
  "nbformat": 4,
  "nbformat_minor": 0,
  "metadata": {
    "colab": {
      "name": "graphtrek_5.ipynb",
      "provenance": [],
      "authorship_tag": "ABX9TyMRFslmnYCpCGxX9LCmiBhx",
      "include_colab_link": true
    },
    "kernelspec": {
      "name": "python3",
      "display_name": "Python 3"
    },
    "language_info": {
      "name": "python"
    }
  },
  "cells": [
    {
      "cell_type": "markdown",
      "metadata": {
        "id": "view-in-github",
        "colab_type": "text"
      },
      "source": [
        "<a href=\"https://colab.research.google.com/github/graphtrek/stockforecast/blob/main/graphtrek_5.ipynb\" target=\"_parent\"><img src=\"https://colab.research.google.com/assets/colab-badge.svg\" alt=\"Open In Colab\"/></a>"
      ]
    },
    {
      "cell_type": "code",
      "metadata": {
        "id": "d4VcGEG3bM57"
      },
      "source": [
        "import numpy as np\n",
        "from tensorflow.keras.models import Sequential\n",
        "from tensorflow.keras.layers import LSTM\n",
        "from tensorflow.keras.optimizers import Adam\n",
        "from tensorflow.keras.losses import MAE\n",
        "from tensorflow.keras.layers import Dense, Dropout\n",
        "import pandas as pd\n",
        "from matplotlib import pyplot as plt\n",
        "from sklearn.preprocessing import StandardScaler\n",
        "import seaborn as sns"
      ],
      "execution_count": 66,
      "outputs": []
    },
    {
      "cell_type": "code",
      "metadata": {
        "id": "Dgz5zBh2bkeh"
      },
      "source": [
        "ticker = \"MU\"\n",
        "look_back = 5 # 5 days\n",
        "max_data_size = 730 # 2 years\n",
        "split_percent = 0.90 # use 90 of the data  for train\n",
        "zoom = 180 # last 180 days see in chart"
      ],
      "execution_count": 38,
      "outputs": []
    },
    {
      "cell_type": "code",
      "metadata": {
        "colab": {
          "base_uri": "https://localhost:8080/"
        },
        "id": "CIVMp-dgb7U8",
        "outputId": "2ea08c86-7a98-4ab8-b74a-0138e6ae4e74"
      },
      "source": [
        "stock_api_response = pd.read_json('https://www.alphavantage.co/query?function=TIME_SERIES_DAILY_ADJUSTED&symbol='+ticker+'&outputsize=full&apikey=3F4URDEKOPLFH25T')\n",
        "stock_api_data = stock_api_response['Time Series (Daily)']\n",
        "#print(stock_api_data)\n",
        "stock_api_data = stock_api_data.drop(index=['1. Information','2. Symbol','3. Last Refreshed','4. Output Size','5. Time Zone']);\n",
        "#print(list(stock_api_data.items()))\n",
        "data = []\n",
        "for key, value in stock_api_data.items():\n",
        "  data.append([\n",
        "      key,\n",
        "      value.get('1. open'),\n",
        "      value.get('2. high'),\n",
        "      value.get('3. low'),\n",
        "      value.get('5. adjusted close'),\n",
        "\n",
        "      ])\n",
        "\n",
        "last_data =  str(data[0][0])\n",
        "print(data[0])\n",
        "if max_data_size < len(data):\n",
        "  data = np.flip(data[:max_data_size],axis=0)\n",
        "else:\n",
        "  data = np.flip(data,axis=0)\n",
        "print('data size:',len(data), 'max_data_size:', max_data_size)"
      ],
      "execution_count": 74,
      "outputs": [
        {
          "output_type": "stream",
          "name": "stdout",
          "text": [
            "['2021-10-19', '67.37', '67.889', '66.64', '67.57']\n",
            "data size: 730 max_data_size: 730\n"
          ]
        }
      ]
    },
    {
      "cell_type": "code",
      "metadata": {
        "colab": {
          "base_uri": "https://localhost:8080/",
          "height": 204
        },
        "id": "IIsS-qdhcO_a",
        "outputId": "fee71683-09b3-4243-dda6-5c471bb744f8"
      },
      "source": [
        "df = pd.DataFrame(data,columns=['Date','Open','High','Low','Close'])\n",
        "\n",
        "#df['50MA'] = df['Close'].rolling(50).mean()\n",
        "#df['100MA'] = df['Close'].rolling(100).mean()\n",
        "#df['200MA'] = df['Close'].rolling(200).mean()\n",
        "\n",
        "split = int(split_percent*len(data))\n",
        "if len(data) - split < look_back:\n",
        "  split = look_back\n",
        "split\n",
        "df.head()"
      ],
      "execution_count": 75,
      "outputs": [
        {
          "output_type": "execute_result",
          "data": {
            "text/html": [
              "<div>\n",
              "<style scoped>\n",
              "    .dataframe tbody tr th:only-of-type {\n",
              "        vertical-align: middle;\n",
              "    }\n",
              "\n",
              "    .dataframe tbody tr th {\n",
              "        vertical-align: top;\n",
              "    }\n",
              "\n",
              "    .dataframe thead th {\n",
              "        text-align: right;\n",
              "    }\n",
              "</style>\n",
              "<table border=\"1\" class=\"dataframe\">\n",
              "  <thead>\n",
              "    <tr style=\"text-align: right;\">\n",
              "      <th></th>\n",
              "      <th>Date</th>\n",
              "      <th>Open</th>\n",
              "      <th>High</th>\n",
              "      <th>Low</th>\n",
              "      <th>Close</th>\n",
              "    </tr>\n",
              "  </thead>\n",
              "  <tbody>\n",
              "    <tr>\n",
              "      <th>0</th>\n",
              "      <td>2018-11-26</td>\n",
              "      <td>37.75</td>\n",
              "      <td>37.79</td>\n",
              "      <td>35.53</td>\n",
              "      <td>36.5185509285</td>\n",
              "    </tr>\n",
              "    <tr>\n",
              "      <th>1</th>\n",
              "      <td>2018-11-27</td>\n",
              "      <td>36.09</td>\n",
              "      <td>37.45</td>\n",
              "      <td>36.02</td>\n",
              "      <td>36.9479459764</td>\n",
              "    </tr>\n",
              "    <tr>\n",
              "      <th>2</th>\n",
              "      <td>2018-11-28</td>\n",
              "      <td>37.29</td>\n",
              "      <td>39.0</td>\n",
              "      <td>35.99</td>\n",
              "      <td>38.6555402364</td>\n",
              "    </tr>\n",
              "    <tr>\n",
              "      <th>3</th>\n",
              "      <td>2018-11-29</td>\n",
              "      <td>38.3</td>\n",
              "      <td>38.71</td>\n",
              "      <td>37.73</td>\n",
              "      <td>37.8566657288</td>\n",
              "    </tr>\n",
              "    <tr>\n",
              "      <th>4</th>\n",
              "      <td>2018-11-30</td>\n",
              "      <td>37.75</td>\n",
              "      <td>38.63</td>\n",
              "      <td>36.94</td>\n",
              "      <td>38.5057512662</td>\n",
              "    </tr>\n",
              "  </tbody>\n",
              "</table>\n",
              "</div>"
            ],
            "text/plain": [
              "         Date   Open   High    Low          Close\n",
              "0  2018-11-26  37.75  37.79  35.53  36.5185509285\n",
              "1  2018-11-27  36.09  37.45  36.02  36.9479459764\n",
              "2  2018-11-28  37.29   39.0  35.99  38.6555402364\n",
              "3  2018-11-29   38.3  38.71  37.73  37.8566657288\n",
              "4  2018-11-30  37.75  38.63  36.94  38.5057512662"
            ]
          },
          "metadata": {},
          "execution_count": 75
        }
      ]
    },
    {
      "cell_type": "code",
      "metadata": {
        "colab": {
          "base_uri": "https://localhost:8080/",
          "height": 404
        },
        "id": "C4xJHZSzcV_A",
        "outputId": "53b7498e-cdad-4deb-8200-40ed58689fe8"
      },
      "source": [
        "#Variables for training\n",
        "cols = list(df)[1:5]\n",
        "#Date and volume columns are not used in training. \n",
        "print(cols) #['Open', 'High', 'Low', 'Close']\n",
        "\n",
        "#New dataframe with only training data - 5 columns\n",
        "df_for_training = df[cols].astype(float)\n",
        "print(df_for_training.head())\n",
        "\n",
        "df_for_plot=df_for_training\n",
        "df_for_plot.plot.line()\n",
        "print(df_for_training.shape)"
      ],
      "execution_count": 76,
      "outputs": [
        {
          "output_type": "stream",
          "name": "stdout",
          "text": [
            "['Open', 'High', 'Low', 'Close']\n",
            "    Open   High    Low      Close\n",
            "0  37.75  37.79  35.53  36.518551\n",
            "1  36.09  37.45  36.02  36.947946\n",
            "2  37.29  39.00  35.99  38.655540\n",
            "3  38.30  38.71  37.73  37.856666\n",
            "4  37.75  38.63  36.94  38.505751\n",
            "(730, 4)\n"
          ]
        },
        {
          "output_type": "display_data",
          "data": {
            "image/png": "[encoded data removed]",
            "text/plain": [
              "<Figure size 432x288 with 1 Axes>"
            ]
          },
          "metadata": {
            "needs_background": "light"
          }
        }
      ]
    },
    {
      "cell_type": "code",
      "metadata": {
        "id": "MxZLUAzejBni"
      },
      "source": [
        "#LSTM uses sigmoid and tanh that are sensitive to magnitude so values need to be normalized\n",
        "# normalize the dataset\n",
        "scaler = StandardScaler()\n",
        "scaler = scaler.fit(df_for_training)\n",
        "df_for_training_scaled = scaler.transform(df_for_training)"
      ],
      "execution_count": 77,
      "outputs": []
    },
    {
      "cell_type": "code",
      "metadata": {
        "colab": {
          "base_uri": "https://localhost:8080/"
        },
        "id": "skGXXqEXjHMY",
        "outputId": "210335f2-6159-4157-d753-56c97bb6f803"
      },
      "source": [
        "#As required for LSTM networks, we require to reshape an input data into n_samples x timesteps x n_features. \n",
        "#In this example, the n_features is 5. We will make timesteps = 14 (past days data used for training). \n",
        "\n",
        "#Empty lists to be populated using formatted training data\n",
        "trainX = []\n",
        "trainY = []\n",
        "\n",
        "n_future = 1   # Number of days we want to look into the future based on the past days.\n",
        "n_past = 14  # Number of past days we want to use to predict the future.\n",
        "\n",
        "#Reformat input data into a shape: (n_samples x timesteps x n_features)\n",
        "#In my example, my df_for_training_scaled has a shape (12823, 5)\n",
        "#12823 refers to the number of data points and 5 refers to the columns (multi-variables).\n",
        "for i in range(n_past, len(df_for_training_scaled) - n_future +1):\n",
        "    trainX.append(df_for_training_scaled[i - n_past:i, 0:df_for_training.shape[1]])\n",
        "    trainY.append(df_for_training_scaled[i + n_future - 1:i + n_future, 0])\n",
        "\n",
        "trainX, trainY = np.array(trainX), np.array(trainY)\n",
        "\n",
        "print('trainX shape == {}.'.format(trainX.shape))\n",
        "print('trainY shape == {}.'.format(trainY.shape))"
      ],
      "execution_count": 78,
      "outputs": [
        {
          "output_type": "stream",
          "name": "stdout",
          "text": [
            "trainX shape == (716, 14, 4).\n",
            "trainY shape == (716, 1).\n"
          ]
        }
      ]
    },
    {
      "cell_type": "code",
      "metadata": {
        "colab": {
          "base_uri": "https://localhost:8080/",
          "height": 279
        },
        "id": "dKnpr7KsjQlu",
        "outputId": "73a7ecc7-f48e-40d8-c22b-35539848dc6b"
      },
      "source": [
        "#In my case, trainX has a shape (12809, 14, 5). \n",
        "#12809 because we are looking back 14 days (12823 - 14 = 12809). \n",
        "#Remember that we cannot look back 14 days until we get to the 15th day. \n",
        "#Also, trainY has a shape (12809, 1). Our model only predicts a single value, but \n",
        "#it needs multiple variables (5 in my example) to make this prediction. \n",
        "#This is why we can only predict a single day after our training, the day after where our data ends.\n",
        "#To predict more days in future, we need all the 5 variables which we do not have. \n",
        "#We need to predict all variables if we want to do that. \n",
        "\n",
        "model = Sequential()\n",
        "model.add(LSTM(units=50, activation='tanh', input_shape=(trainX.shape[1], trainX.shape[2]), return_sequences=True))\n",
        "model.add(Dropout(0.2))\n",
        "model.add(LSTM(units=50, return_sequences=True, activation=\"tanh\"))\n",
        "model.add(Dropout(0.2))\n",
        "model.add(LSTM(units=50, return_sequences=True, activation=\"tanh\"))\n",
        "model.add(Dropout(0.2))\n",
        "model.add(LSTM(units=50, activation=\"tanh\"))\n",
        "model.add(Dropout(0.2))\n",
        "model.add(Dense(trainY.shape[1]))\n",
        "\n",
        "\n",
        "#model = Sequential()\n",
        "#model.add(LSTM(64, activation='relu', input_shape=(trainX.shape[1], trainX.shape[2]), return_sequences=True))\n",
        "#model.add(LSTM(32, activation='relu', return_sequences=False))\n",
        "#model.add(Dropout(0.2))\n",
        "#model.add(Dense(trainY.shape[1]))\n",
        "\n",
        "model.compile(\n",
        "    loss=MAE,\n",
        "    optimizer=Adam(learning_rate=0.0001),\n",
        "    metrics=[\"mae\"]\n",
        ")\n",
        "  \n",
        "#model.summary()\n",
        "\n",
        "\n",
        "# fit the model\n",
        "modelo = model.fit(trainX, trainY, epochs=10, verbose=0)\n",
        "\n",
        "plt.plot(modelo.history['loss'])\n",
        "plt.xlabel('Epochs')\n",
        "plt.ylabel('Loss')\n",
        "plt.show()"
      ],
      "execution_count": 79,
      "outputs": [
        {
          "output_type": "display_data",
          "data": {
            "image/png": "[encoded data removed]",
            "text/plain": [
              "<Figure size 432x288 with 1 Axes>"
            ]
          },
          "metadata": {
            "needs_background": "light"
          }
        }
      ]
    },
    {
      "cell_type": "code",
      "metadata": {
        "colab": {
          "base_uri": "https://localhost:8080/"
        },
        "id": "q5bsQs-hrvWg",
        "outputId": "2dd7c5ba-6cf4-4de4-caef-541f4517af70"
      },
      "source": [
        "#Predicting...\n",
        "#Libraries that will help us extract only business days in the US.\n",
        "#Otherwise our dates would be wrong when we look back (or forward).  \n",
        "from pandas.tseries.holiday import USFederalHolidayCalendar\n",
        "from pandas.tseries.offsets import CustomBusinessDay\n",
        "us_bd = CustomBusinessDay(calendar=USFederalHolidayCalendar())\n",
        "#Remember that we can only predict one day in future as our model needs 5 variables\n",
        "#as inputs for prediction. We only have all 5 variables until the last day in our dataset.\n",
        "n_past = 16\n",
        "n_days_for_prediction=15  #let us predict past 15 days\n",
        "train_dates = pd.to_datetime(df['Date'])\n",
        "print(df.head())\n",
        "predict_period_dates = pd.date_range(list(train_dates)[-n_past], periods=n_days_for_prediction, freq=us_bd).tolist()\n",
        "print(predict_period_dates)"
      ],
      "execution_count": 80,
      "outputs": [
        {
          "output_type": "stream",
          "name": "stdout",
          "text": [
            "         Date   Open   High    Low          Close\n",
            "0  2018-11-26  37.75  37.79  35.53  36.5185509285\n",
            "1  2018-11-27  36.09  37.45  36.02  36.9479459764\n",
            "2  2018-11-28  37.29   39.0  35.99  38.6555402364\n",
            "3  2018-11-29   38.3  38.71  37.73  37.8566657288\n",
            "4  2018-11-30  37.75  38.63  36.94  38.5057512662\n",
            "[Timestamp('2021-09-28 00:00:00', freq='C'), Timestamp('2021-09-29 00:00:00', freq='C'), Timestamp('2021-09-30 00:00:00', freq='C'), Timestamp('2021-10-01 00:00:00', freq='C'), Timestamp('2021-10-04 00:00:00', freq='C'), Timestamp('2021-10-05 00:00:00', freq='C'), Timestamp('2021-10-06 00:00:00', freq='C'), Timestamp('2021-10-07 00:00:00', freq='C'), Timestamp('2021-10-08 00:00:00', freq='C'), Timestamp('2021-10-12 00:00:00', freq='C'), Timestamp('2021-10-13 00:00:00', freq='C'), Timestamp('2021-10-14 00:00:00', freq='C'), Timestamp('2021-10-15 00:00:00', freq='C'), Timestamp('2021-10-18 00:00:00', freq='C'), Timestamp('2021-10-19 00:00:00', freq='C')]\n"
          ]
        }
      ]
    },
    {
      "cell_type": "code",
      "metadata": {
        "colab": {
          "base_uri": "https://localhost:8080/"
        },
        "id": "pitQMd3isE-p",
        "outputId": "5e7bd2f5-0869-4757-f69f-0b5f8df4f00b"
      },
      "source": [
        "#Make prediction\n",
        "prediction = model.predict(trainX[-n_days_for_prediction:]) #shape = (n, 1) where n is the n_days_for_prediction\n",
        "print(prediction)\n",
        "#Perform inverse transformation to rescale back to original range\n",
        "#Since we used 5 variables for transform, the inverse expects same dimensions\n",
        "#Therefore, let us copy our values 5 times and discard them after inverse transform\n",
        "prediction_copies = np.repeat(prediction, df_for_training.shape[1], axis=-1)\n",
        "y_pred_future = scaler.inverse_transform(prediction_copies)[:,0]\n",
        "#y_pred_future = scaler.inverse_transform(prediction_copies)[:,0]\n",
        "print(y_pred_future)"
      ],
      "execution_count": 81,
      "outputs": [
        {
          "output_type": "stream",
          "name": "stdout",
          "text": [
            "[[1.19234  ]\n",
            " [1.1991396]\n",
            " [1.195679 ]\n",
            " [1.1887858]\n",
            " [1.185621 ]\n",
            " [1.1824751]\n",
            " [1.1728702]\n",
            " [1.160523 ]\n",
            " [1.1571975]\n",
            " [1.1507412]\n",
            " [1.1347437]\n",
            " [1.1137877]\n",
            " [1.0906079]\n",
            " [1.0586684]\n",
            " [1.0284146]]\n",
            "[76.64297  76.760445 76.70065  76.58156  76.52688  76.47253  76.30659\n",
            " 76.09326  76.035805 75.92426  75.64787  75.28581  74.88534  74.33352\n",
            " 73.81083 ]\n"
          ]
        }
      ]
    },
    {
      "cell_type": "code",
      "metadata": {
        "colab": {
          "base_uri": "https://localhost:8080/",
          "height": 452
        },
        "id": "nww9HkcksLK4",
        "outputId": "c96343dd-2a5a-4f20-df8b-3a0bfb88da73"
      },
      "source": [
        "# Convert timestamp to date\n",
        "forecast_dates = []\n",
        "for time_i in predict_period_dates:\n",
        "    forecast_dates.append(time_i.date())\n",
        "    \n",
        "df_forecast = pd.DataFrame({'Date':np.array(forecast_dates), 'Close':y_pred_future})\n",
        "df_forecast['Date']=pd.to_datetime(df_forecast['Date'])\n",
        "\n",
        "\n",
        "original = df[['Date', 'Close']]\n",
        "original['Date']=pd.to_datetime(original['Date'])\n",
        "original = original.loc[original['Date'] >= '2020-8-1']\n",
        "\n",
        "#sns.lineplot(original['Date'], original['Close'])\n",
        "sns.lineplot(df_forecast['Date'], df_forecast['Close'])"
      ],
      "execution_count": 84,
      "outputs": [
        {
          "output_type": "stream",
          "name": "stderr",
          "text": [
            "/usr/local/lib/python3.7/dist-packages/ipykernel_launcher.py:11: SettingWithCopyWarning: \n",
            "A value is trying to be set on a copy of a slice from a DataFrame.\n",
            "Try using .loc[row_indexer,col_indexer] = value instead\n",
            "\n",
            "See the caveats in the documentation: https://pandas.pydata.org/pandas-docs/stable/user_guide/indexing.html#returning-a-view-versus-a-copy\n",
            "  # This is added back by InteractiveShellApp.init_path()\n",
            "/usr/local/lib/python3.7/dist-packages/seaborn/_decorators.py:43: FutureWarning: Pass the following variables as keyword args: x, y. From version 0.12, the only valid positional argument will be `data`, and passing other arguments without an explicit keyword will result in an error or misinterpretation.\n",
            "  FutureWarning\n"
          ]
        },
        {
          "output_type": "execute_result",
          "data": {
            "text/plain": [
              "<matplotlib.axes._subplots.AxesSubplot at 0x7f078c91ef50>"
            ]
          },
          "metadata": {},
          "execution_count": 84
        },
        {
          "output_type": "display_data",
          "data": {
            "image/png": "[encoded data removed]",
            "text/plain": [
              "<Figure size 432x288 with 1 Axes>"
            ]
          },
          "metadata": {
            "needs_background": "light"
          }
        }
      ]
    }
  ]
}