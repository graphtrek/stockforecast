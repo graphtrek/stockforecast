{
  "nbformat": 4,
  "nbformat_minor": 0,
  "metadata": {
    "colab": {
      "name": "graphtrek_02.ipynb",
      "provenance": [],
      "collapsed_sections": [],
      "mount_file_id": "https://github.com/graphtrek/stockforecast/blob/main/graphtrek_02.ipynb",
      "authorship_tag": "ABX9TyP7GQMjAC8EvVFo8L6pcnL3",
      "include_colab_link": true
    },
    "kernelspec": {
      "name": "python3",
      "display_name": "Python 3"
    },
    "language_info": {
      "name": "python"
    }
  },
  "cells": [
    {
      "cell_type": "markdown",
      "metadata": {
        "id": "view-in-github",
        "colab_type": "text"
      },
      "source": [
        "<a href=\"https://colab.research.google.com/github/graphtrek/stockforecast/blob/main/graphtrek_02.ipynb\" target=\"_parent\"><img src=\"https://colab.research.google.com/assets/colab-badge.svg\" alt=\"Open In Colab\"/></a>"
      ]
    },
    {
      "cell_type": "code",
      "metadata": {
        "id": "GLnu1v4MUcYn"
      },
      "source": [
        "#from google.colab import drive\n",
        "#drive.mount('/content/drive')"
      ],
      "execution_count": 1,
      "outputs": []
    },
    {
      "cell_type": "code",
      "metadata": {
        "id": "oGNwz2RC0ju9",
        "colab": {
          "base_uri": "https://localhost:8080/",
          "height": 38
        },
        "outputId": "606ebdf1-2c27-486a-b0f6-9454a77e7bef"
      },
      "source": [
        "# Test\n",
        "import tensorflow as tf\n",
        "import pandas as pd\n",
        "import numpy as np\n",
        "import seaborn as sns\n",
        "import matplotlib.pyplot as plt\n",
        "import plotly.graph_objects as go\n",
        "import plotly.express as px\n",
        "import requests\n",
        "import json\n",
        "import os, time\n",
        "\n",
        "from plotly.subplots import make_subplots\n",
        "from datetime import datetime, timedelta\n",
        "from keras.preprocessing.sequence import TimeseriesGenerator\n",
        "from tensorflow import keras\n",
        "tf.__version__"
      ],
      "execution_count": 2,
      "outputs": [
        {
          "output_type": "execute_result",
          "data": {
            "application/vnd.google.colaboratory.intrinsic+json": {
              "type": "string"
            },
            "text/plain": [
              "'2.6.0'"
            ]
          },
          "metadata": {},
          "execution_count": 2
        }
      ]
    },
    {
      "cell_type": "code",
      "metadata": {
        "id": "aY7C0pUy0ok2"
      },
      "source": [
        "ticker = \"MU\"\n",
        "look_back = 12\n",
        "stock_api_response = pd.read_json('https://www.alphavantage.co/query?function=TIME_SERIES_DAILY_ADJUSTED&symbol='+ticker+'&outputsize=full&apikey=3F4URDEKOPLFH25T')"
      ],
      "execution_count": 3,
      "outputs": []
    },
    {
      "cell_type": "code",
      "metadata": {
        "colab": {
          "base_uri": "https://localhost:8080/",
          "height": 528
        },
        "id": "AlSmFyZwz5JC",
        "outputId": "1183c4be-15a0-4d2e-ac49-9cc9b7aff64a"
      },
      "source": [
        "#from google.colab import auth\n",
        "#auth.authenticate_user()\n",
        "\n",
        "import gspread\n",
        "from oauth2client.client import GoogleCredentials\n",
        "\n",
        "gc = gspread.authorize(GoogleCredentials.get_application_default())\n",
        "\n",
        "worksheet = gc.open('Stock Portfolio')\n",
        "rows = worksheet.get_worksheet(3).get_all_values()\n",
        "print(rows)\n",
        "\n",
        "\n",
        "\n",
        "# Convert to a DataFrame and render.\n",
        "import pandas as pd\n",
        "stocks_df = pd.DataFrame.from_records(rows)\n",
        "try :\n",
        "  nr_of_shares = stocks_df.loc[stocks_df[1] == ticker][8].values[0]\n",
        "  all_costs = stocks_df.loc[stocks_df[1] == ticker][9].values[0]\n",
        "  cost_per_share = stocks_df.loc[stocks_df[1] == ticker][10].values[0]\n",
        "except:\n",
        "  nr_of_shares = 0\n",
        "  all_costs = 0\n",
        "  cost_per_share = 0\n",
        "  \n",
        "print('Shares:', nr_of_shares,'Cost:',all_costs,'Cost Per Share:',cost_per_share)"
      ],
      "execution_count": 4,
      "outputs": [
        {
          "output_type": "error",
          "ename": "KeyboardInterrupt",
          "evalue": "ignored",
          "traceback": [
            "\u001b[0;31m---------------------------------------------------------------------------\u001b[0m",
            "\u001b[0;31mKeyboardInterrupt\u001b[0m                         Traceback (most recent call last)",
            "\u001b[0;32m/usr/local/lib/python3.7/dist-packages/ipykernel/kernelbase.py\u001b[0m in \u001b[0;36m_input_request\u001b[0;34m(self, prompt, ident, parent, password)\u001b[0m\n\u001b[1;32m    728\u001b[0m             \u001b[0;32mtry\u001b[0m\u001b[0;34m:\u001b[0m\u001b[0;34m\u001b[0m\u001b[0;34m\u001b[0m\u001b[0m\n\u001b[0;32m--> 729\u001b[0;31m                 \u001b[0mident\u001b[0m\u001b[0;34m,\u001b[0m \u001b[0mreply\u001b[0m \u001b[0;34m=\u001b[0m \u001b[0mself\u001b[0m\u001b[0;34m.\u001b[0m\u001b[0msession\u001b[0m\u001b[0;34m.\u001b[0m\u001b[0mrecv\u001b[0m\u001b[0;34m(\u001b[0m\u001b[0mself\u001b[0m\u001b[0;34m.\u001b[0m\u001b[0mstdin_socket\u001b[0m\u001b[0;34m,\u001b[0m \u001b[0;36m0\u001b[0m\u001b[0;34m)\u001b[0m\u001b[0;34m\u001b[0m\u001b[0;34m\u001b[0m\u001b[0m\n\u001b[0m\u001b[1;32m    730\u001b[0m             \u001b[0;32mexcept\u001b[0m \u001b[0mException\u001b[0m\u001b[0;34m:\u001b[0m\u001b[0;34m\u001b[0m\u001b[0;34m\u001b[0m\u001b[0m\n",
            "\u001b[0;32m/usr/local/lib/python3.7/dist-packages/jupyter_client/session.py\u001b[0m in \u001b[0;36mrecv\u001b[0;34m(self, socket, mode, content, copy)\u001b[0m\n\u001b[1;32m    802\u001b[0m         \u001b[0;32mtry\u001b[0m\u001b[0;34m:\u001b[0m\u001b[0;34m\u001b[0m\u001b[0;34m\u001b[0m\u001b[0m\n\u001b[0;32m--> 803\u001b[0;31m             \u001b[0mmsg_list\u001b[0m \u001b[0;34m=\u001b[0m \u001b[0msocket\u001b[0m\u001b[0;34m.\u001b[0m\u001b[0mrecv_multipart\u001b[0m\u001b[0;34m(\u001b[0m\u001b[0mmode\u001b[0m\u001b[0;34m,\u001b[0m \u001b[0mcopy\u001b[0m\u001b[0;34m=\u001b[0m\u001b[0mcopy\u001b[0m\u001b[0;34m)\u001b[0m\u001b[0;34m\u001b[0m\u001b[0;34m\u001b[0m\u001b[0m\n\u001b[0m\u001b[1;32m    804\u001b[0m         \u001b[0;32mexcept\u001b[0m \u001b[0mzmq\u001b[0m\u001b[0;34m.\u001b[0m\u001b[0mZMQError\u001b[0m \u001b[0;32mas\u001b[0m \u001b[0me\u001b[0m\u001b[0;34m:\u001b[0m\u001b[0;34m\u001b[0m\u001b[0;34m\u001b[0m\u001b[0m\n",
            "\u001b[0;32m/usr/local/lib/python3.7/dist-packages/zmq/sugar/socket.py\u001b[0m in \u001b[0;36mrecv_multipart\u001b[0;34m(self, flags, copy, track)\u001b[0m\n\u001b[1;32m    624\u001b[0m         \"\"\"\n\u001b[0;32m--> 625\u001b[0;31m         \u001b[0mparts\u001b[0m \u001b[0;34m=\u001b[0m \u001b[0;34m[\u001b[0m\u001b[0mself\u001b[0m\u001b[0;34m.\u001b[0m\u001b[0mrecv\u001b[0m\u001b[0;34m(\u001b[0m\u001b[0mflags\u001b[0m\u001b[0;34m,\u001b[0m \u001b[0mcopy\u001b[0m\u001b[0;34m=\u001b[0m\u001b[0mcopy\u001b[0m\u001b[0;34m,\u001b[0m \u001b[0mtrack\u001b[0m\u001b[0;34m=\u001b[0m\u001b[0mtrack\u001b[0m\u001b[0;34m)\u001b[0m\u001b[0;34m]\u001b[0m\u001b[0;34m\u001b[0m\u001b[0;34m\u001b[0m\u001b[0m\n\u001b[0m\u001b[1;32m    626\u001b[0m         \u001b[0;31m# have first part already, only loop while more to receive\u001b[0m\u001b[0;34m\u001b[0m\u001b[0;34m\u001b[0m\u001b[0;34m\u001b[0m\u001b[0m\n",
            "\u001b[0;32mzmq/backend/cython/socket.pyx\u001b[0m in \u001b[0;36mzmq.backend.cython.socket.Socket.recv\u001b[0;34m()\u001b[0m\n",
            "\u001b[0;32mzmq/backend/cython/socket.pyx\u001b[0m in \u001b[0;36mzmq.backend.cython.socket.Socket.recv\u001b[0;34m()\u001b[0m\n",
            "\u001b[0;32mzmq/backend/cython/socket.pyx\u001b[0m in \u001b[0;36mzmq.backend.cython.socket._recv_copy\u001b[0;34m()\u001b[0m\n",
            "\u001b[0;32m/usr/local/lib/python3.7/dist-packages/zmq/backend/cython/checkrc.pxd\u001b[0m in \u001b[0;36mzmq.backend.cython.checkrc._check_rc\u001b[0;34m()\u001b[0m\n",
            "\u001b[0;31mKeyboardInterrupt\u001b[0m: ",
            "\nDuring handling of the above exception, another exception occurred:\n",
            "\u001b[0;31mKeyboardInterrupt\u001b[0m                         Traceback (most recent call last)",
            "\u001b[0;32m<ipython-input-4-142ecf6ec22c>\u001b[0m in \u001b[0;36m<module>\u001b[0;34m()\u001b[0m\n\u001b[1;32m      1\u001b[0m \u001b[0;32mfrom\u001b[0m \u001b[0mgoogle\u001b[0m\u001b[0;34m.\u001b[0m\u001b[0mcolab\u001b[0m \u001b[0;32mimport\u001b[0m \u001b[0mauth\u001b[0m\u001b[0;34m\u001b[0m\u001b[0;34m\u001b[0m\u001b[0m\n\u001b[0;32m----> 2\u001b[0;31m \u001b[0mauth\u001b[0m\u001b[0;34m.\u001b[0m\u001b[0mauthenticate_user\u001b[0m\u001b[0;34m(\u001b[0m\u001b[0;34m)\u001b[0m\u001b[0;34m\u001b[0m\u001b[0;34m\u001b[0m\u001b[0m\n\u001b[0m\u001b[1;32m      3\u001b[0m \u001b[0;34m\u001b[0m\u001b[0m\n\u001b[1;32m      4\u001b[0m \u001b[0;32mimport\u001b[0m \u001b[0mgspread\u001b[0m\u001b[0;34m\u001b[0m\u001b[0;34m\u001b[0m\u001b[0m\n\u001b[1;32m      5\u001b[0m \u001b[0;32mfrom\u001b[0m \u001b[0moauth2client\u001b[0m\u001b[0;34m.\u001b[0m\u001b[0mclient\u001b[0m \u001b[0;32mimport\u001b[0m \u001b[0mGoogleCredentials\u001b[0m\u001b[0;34m\u001b[0m\u001b[0;34m\u001b[0m\u001b[0m\n",
            "\u001b[0;32m/usr/local/lib/python3.7/dist-packages/google/colab/auth.py\u001b[0m in \u001b[0;36mauthenticate_user\u001b[0;34m(clear_output)\u001b[0m\n\u001b[1;32m    151\u001b[0m     \u001b[0mcontext_manager\u001b[0m \u001b[0;34m=\u001b[0m \u001b[0m_output\u001b[0m\u001b[0;34m.\u001b[0m\u001b[0mtemporary\u001b[0m \u001b[0;32mif\u001b[0m \u001b[0mclear_output\u001b[0m \u001b[0;32melse\u001b[0m \u001b[0m_noop\u001b[0m\u001b[0;34m\u001b[0m\u001b[0;34m\u001b[0m\u001b[0m\n\u001b[1;32m    152\u001b[0m     \u001b[0;32mwith\u001b[0m \u001b[0mcontext_manager\u001b[0m\u001b[0;34m(\u001b[0m\u001b[0;34m)\u001b[0m\u001b[0;34m:\u001b[0m\u001b[0;34m\u001b[0m\u001b[0;34m\u001b[0m\u001b[0m\n\u001b[0;32m--> 153\u001b[0;31m       \u001b[0m_gcloud_login\u001b[0m\u001b[0;34m(\u001b[0m\u001b[0;34m)\u001b[0m\u001b[0;34m\u001b[0m\u001b[0;34m\u001b[0m\u001b[0m\n\u001b[0m\u001b[1;32m    154\u001b[0m     \u001b[0m_install_adc\u001b[0m\u001b[0;34m(\u001b[0m\u001b[0;34m)\u001b[0m\u001b[0;34m\u001b[0m\u001b[0;34m\u001b[0m\u001b[0m\n\u001b[1;32m    155\u001b[0m     \u001b[0mcolab_tpu_addr\u001b[0m \u001b[0;34m=\u001b[0m \u001b[0m_os\u001b[0m\u001b[0;34m.\u001b[0m\u001b[0menviron\u001b[0m\u001b[0;34m.\u001b[0m\u001b[0mget\u001b[0m\u001b[0;34m(\u001b[0m\u001b[0;34m'COLAB_TPU_ADDR'\u001b[0m\u001b[0;34m,\u001b[0m \u001b[0;34m''\u001b[0m\u001b[0;34m)\u001b[0m\u001b[0;34m\u001b[0m\u001b[0;34m\u001b[0m\u001b[0m\n",
            "\u001b[0;32m/usr/local/lib/python3.7/dist-packages/google/colab/auth.py\u001b[0m in \u001b[0;36m_gcloud_login\u001b[0;34m()\u001b[0m\n\u001b[1;32m     93\u001b[0m     \u001b[0;31m# https://github.com/jupyter/notebook/issues/3159\u001b[0m\u001b[0;34m\u001b[0m\u001b[0;34m\u001b[0m\u001b[0;34m\u001b[0m\u001b[0m\n\u001b[1;32m     94\u001b[0m     \u001b[0mprompt\u001b[0m \u001b[0;34m=\u001b[0m \u001b[0mprompt\u001b[0m\u001b[0;34m.\u001b[0m\u001b[0mrstrip\u001b[0m\u001b[0;34m(\u001b[0m\u001b[0;34m)\u001b[0m\u001b[0;34m\u001b[0m\u001b[0;34m\u001b[0m\u001b[0m\n\u001b[0;32m---> 95\u001b[0;31m     \u001b[0mcode\u001b[0m \u001b[0;34m=\u001b[0m \u001b[0mget_code\u001b[0m\u001b[0;34m(\u001b[0m\u001b[0mprompt\u001b[0m \u001b[0;34m+\u001b[0m \u001b[0;34m' '\u001b[0m\u001b[0;34m)\u001b[0m\u001b[0;34m\u001b[0m\u001b[0;34m\u001b[0m\u001b[0m\n\u001b[0m\u001b[1;32m     96\u001b[0m     \u001b[0mgcloud_process\u001b[0m\u001b[0;34m.\u001b[0m\u001b[0mcommunicate\u001b[0m\u001b[0;34m(\u001b[0m\u001b[0mcode\u001b[0m\u001b[0;34m.\u001b[0m\u001b[0mstrip\u001b[0m\u001b[0;34m(\u001b[0m\u001b[0;34m)\u001b[0m\u001b[0;34m)\u001b[0m\u001b[0;34m\u001b[0m\u001b[0;34m\u001b[0m\u001b[0m\n\u001b[1;32m     97\u001b[0m   \u001b[0;32mfinally\u001b[0m\u001b[0;34m:\u001b[0m\u001b[0;34m\u001b[0m\u001b[0;34m\u001b[0m\u001b[0m\n",
            "\u001b[0;32m/usr/local/lib/python3.7/dist-packages/ipykernel/kernelbase.py\u001b[0m in \u001b[0;36mraw_input\u001b[0;34m(self, prompt)\u001b[0m\n\u001b[1;32m    702\u001b[0m             \u001b[0mself\u001b[0m\u001b[0;34m.\u001b[0m\u001b[0m_parent_ident\u001b[0m\u001b[0;34m,\u001b[0m\u001b[0;34m\u001b[0m\u001b[0;34m\u001b[0m\u001b[0m\n\u001b[1;32m    703\u001b[0m             \u001b[0mself\u001b[0m\u001b[0;34m.\u001b[0m\u001b[0m_parent_header\u001b[0m\u001b[0;34m,\u001b[0m\u001b[0;34m\u001b[0m\u001b[0;34m\u001b[0m\u001b[0m\n\u001b[0;32m--> 704\u001b[0;31m             \u001b[0mpassword\u001b[0m\u001b[0;34m=\u001b[0m\u001b[0;32mFalse\u001b[0m\u001b[0;34m,\u001b[0m\u001b[0;34m\u001b[0m\u001b[0;34m\u001b[0m\u001b[0m\n\u001b[0m\u001b[1;32m    705\u001b[0m         )\n\u001b[1;32m    706\u001b[0m \u001b[0;34m\u001b[0m\u001b[0m\n",
            "\u001b[0;32m/usr/local/lib/python3.7/dist-packages/ipykernel/kernelbase.py\u001b[0m in \u001b[0;36m_input_request\u001b[0;34m(self, prompt, ident, parent, password)\u001b[0m\n\u001b[1;32m    732\u001b[0m             \u001b[0;32mexcept\u001b[0m \u001b[0mKeyboardInterrupt\u001b[0m\u001b[0;34m:\u001b[0m\u001b[0;34m\u001b[0m\u001b[0;34m\u001b[0m\u001b[0m\n\u001b[1;32m    733\u001b[0m                 \u001b[0;31m# re-raise KeyboardInterrupt, to truncate traceback\u001b[0m\u001b[0;34m\u001b[0m\u001b[0;34m\u001b[0m\u001b[0;34m\u001b[0m\u001b[0m\n\u001b[0;32m--> 734\u001b[0;31m                 \u001b[0;32mraise\u001b[0m \u001b[0mKeyboardInterrupt\u001b[0m\u001b[0;34m\u001b[0m\u001b[0;34m\u001b[0m\u001b[0m\n\u001b[0m\u001b[1;32m    735\u001b[0m             \u001b[0;32melse\u001b[0m\u001b[0;34m:\u001b[0m\u001b[0;34m\u001b[0m\u001b[0;34m\u001b[0m\u001b[0m\n\u001b[1;32m    736\u001b[0m                 \u001b[0;32mbreak\u001b[0m\u001b[0;34m\u001b[0m\u001b[0;34m\u001b[0m\u001b[0m\n",
            "\u001b[0;31mKeyboardInterrupt\u001b[0m: "
          ]
        }
      ]
    },
    {
      "cell_type": "code",
      "metadata": {
        "id": "ZHAGynG_002r"
      },
      "source": [
        "stock_api_data = stock_api_response['Time Series (Daily)']\n",
        "#print(stock_api_data)\n",
        "stock_api_data = stock_api_data.drop(index=['1. Information','2. Symbol','3. Last Refreshed','4. Output Size','5. Time Zone']);\n",
        "#print(list(stock_api_data.items()))\n",
        "data = []\n",
        "for key, value in stock_api_data.items():\n",
        "  data.append([\n",
        "      pd.to_datetime(key,).date(),\n",
        "      value.get('1. open'),\n",
        "      value.get('2. high'),\n",
        "      value.get('3. low'),\n",
        "      value.get('5. adjusted close'),\n",
        "      value.get('6. volume')\n",
        "      ])\n",
        "\n",
        "last_data =  str(data[0][0])\n",
        "print(data[0])\n",
        "data = np.flip(data[:1000],axis=0)\n"
      ],
      "execution_count": null,
      "outputs": []
    },
    {
      "cell_type": "code",
      "metadata": {
        "id": "bWJQCTCLhSd_"
      },
      "source": [
        "model = None\n",
        "model_file_path = '/content/drive/MyDrive/models/'+ticker+'.h5'\n",
        "try:\n",
        "  model = keras.models.load_model(model_file_path)\n",
        "  modified = os.path.getmtime(model_file_path)\n",
        "\n",
        "  print(data[0][0] - datetime.fromtimestamp(modified).date() )\n",
        "  print('Loaded', ticker , 'model train date:',datetime.fromtimestamp(modified).date() , 'last data:', last_data)\n",
        "except:\n",
        "  model = None\n",
        "  print('Model ' + ticker + ' does not exists.')"
      ],
      "execution_count": null,
      "outputs": []
    },
    {
      "cell_type": "code",
      "metadata": {
        "id": "aWoEPPGX3g-F"
      },
      "source": [
        "df = pd.DataFrame(data,columns=['Date','Open','High','Low','Close','Volume'])\n",
        "\n",
        "df['50MA'] = df['Close'].rolling(50).mean()\n",
        "df['100MA'] = df['Close'].rolling(100).mean()\n",
        "df['200MA'] = df['Close'].rolling(200).mean()\n",
        "\n",
        "split_percent = 0.90\n",
        "split = int(split_percent*len(data))\n",
        "\n",
        "split"
      ],
      "execution_count": null,
      "outputs": []
    },
    {
      "cell_type": "code",
      "metadata": {
        "id": "Y5xI5TD06BzU"
      },
      "source": [
        "close_data = df['Close'].values\n",
        "close_data = np.asarray(close_data).astype(np.float32)\n",
        "close_data = close_data.reshape((-1))\n",
        "\n",
        "train_data = close_data[:split]\n",
        "test_data = close_data[split:]\n",
        "\n",
        "train_dates = df['Date'][:split]\n",
        "test_dates = df['Date'][split:]\n",
        "\n",
        "volumes = np.asarray(df['Volume'].values).astype(np.int)[-150:]\n",
        "volume_dates = df['Date'][-150:]\n",
        "#len(test_data), test_data"
      ],
      "execution_count": null,
      "outputs": []
    },
    {
      "cell_type": "code",
      "metadata": {
        "id": "YT50B6aO7Iv5"
      },
      "source": [
        "trace1 = go.Scatter(\n",
        "    x = train_dates,\n",
        "    y = train_data,\n",
        "    mode = 'lines',\n",
        "    line=dict(width=3),\n",
        "    name = 'Train'\n",
        ")\n",
        "\n",
        "trace2 = go.Scatter(\n",
        "    x = test_dates,\n",
        "    y = test_data,\n",
        "    mode='lines',\n",
        "    line=dict(width=3),\n",
        "    name ='Test'\n",
        ")\n",
        "\n",
        "trace3 = go.Scatter(\n",
        "    x = df['Date'],\n",
        "    y = df['50MA'],\n",
        "    mode='lines',\n",
        "    name ='50MA'\n",
        ")\n",
        "\n",
        "trace4 = go.Scatter(\n",
        "    x = df['Date'],\n",
        "    y = df['100MA'],\n",
        "    mode='lines',\n",
        "    name ='100MA'\n",
        ")\n",
        "\n",
        "trace5 = go.Scatter(\n",
        "    x = df['Date'],\n",
        "    y = df['200MA'],\n",
        "    mode='lines',\n",
        "    name ='200MA'\n",
        ")\n",
        "\n",
        "layout = go.Layout(\n",
        "    title = ticker + ' Date:' + last_data + ' Open:' + str(data[-1][1]) + ' High:' + str(data[-1][2]) + ' Low:' + str(data[-1][3]) + ' Close:' + str(data[-1][4]),\n",
        "    xaxis = {'title' : \"Dates\"},\n",
        "    yaxis = {'title' : \"Close Price ($)\"},\n",
        "    height = 450\n",
        ")\n",
        "fig = go.Figure(data=[trace1, trace2, trace3, trace4, trace5], layout=layout)\n",
        "fig.show()\n",
        "\n",
        "\n",
        "fig = px.area(x=volume_dates, y=volumes, height=250, labels={\n",
        "                     \"x\": \"Dates\",\n",
        "                     \"y\": \"Volume\"\n",
        "                 },\n",
        "                title=ticker)\n",
        "fig.show()"
      ],
      "execution_count": null,
      "outputs": []
    },
    {
      "cell_type": "code",
      "metadata": {
        "id": "Y_YXc0z-94UO"
      },
      "source": [
        "# Normalizing data, scale between 0 and 1:\n",
        "from sklearn.preprocessing import MinMaxScaler\n",
        "sc = MinMaxScaler(feature_range=(0, 1))\n",
        "train_data_scaled = sc.fit_transform(train_data.reshape((-1,1)))\n",
        "test_data_scaled = sc.fit_transform(test_data.reshape((-1,1)))\n",
        "train_data_scaled.shape, test_data_scaled.shape"
      ],
      "execution_count": null,
      "outputs": []
    },
    {
      "cell_type": "code",
      "metadata": {
        "id": "uyF4LvOcBqdM"
      },
      "source": [
        "if model is None:\n",
        "  # Building Model:\n",
        "  # The LSTM layer expects the number of time steps and the number of features to work properly.\n",
        "  model = tf.keras.models.Sequential()\n",
        "\n",
        "  model.add(tf.keras.layers.LSTM(units=50, return_sequences=True, activation=\"tanh\",\n",
        "                                input_shape=(look_back, 1)))\n",
        "\n",
        "  model.add(tf.keras.layers.Dropout(0.2))\n",
        "\n",
        "  model.add(tf.keras.layers.LSTM(units=50, return_sequences=True, activation=\"tanh\"))\n",
        "\n",
        "  model.add(tf.keras.layers.Dropout(0.2))\n",
        "\n",
        "  model.add(tf.keras.layers.LSTM(units=50, return_sequences=True, activation=\"tanh\"))\n",
        "\n",
        "  model.add(tf.keras.layers.Dropout(0.2))\n",
        "\n",
        "  model.add(tf.keras.layers.LSTM(units=50, activation=\"tanh\"))\n",
        "\n",
        "  model.add(tf.keras.layers.Dropout(0.2))\n",
        "\n",
        "  model.add(tf.keras.layers.Dense(units=1))\n",
        "\n",
        "  model.compile(\n",
        "      loss=tf.keras.losses.MAE,\n",
        "      optimizer=tf.keras.optimizers.Adam(learning_rate=0.0001),\n",
        "      metrics=[\"mae\"]\n",
        "  )\n",
        "  \n",
        "  print('Model ' + ticker + ' compiled.')\n",
        "\n",
        "  train_generator = TimeseriesGenerator(train_data_scaled, train_data_scaled, length=look_back)     \n",
        "  \n",
        "  modelo = model.fit(train_generator, epochs=100, verbose=0)\n",
        "  model.save(model_file_path)\n",
        "  print('Saved model ' + ticker)\n",
        "\n",
        "  plt.plot(modelo.history['loss'])\n",
        "  plt.xlabel('Epochs')\n",
        "  plt.ylabel('Loss')\n",
        "  plt.show()"
      ],
      "execution_count": null,
      "outputs": []
    },
    {
      "cell_type": "code",
      "metadata": {
        "id": "z32sIk3cCkVP"
      },
      "source": [
        "test_generator = TimeseriesGenerator(test_data_scaled, test_data_scaled, length=look_back)\n",
        "predicted_stock_price_scaled = model.predict(test_generator)"
      ],
      "execution_count": null,
      "outputs": []
    },
    {
      "cell_type": "code",
      "metadata": {
        "id": "7exB2tCVDKGl"
      },
      "source": [
        "predicted_stock_price = sc.inverse_transform(predicted_stock_price_scaled)\n",
        "zoom = 700\n",
        "trace1 = go.Scatter(\n",
        "    x = train_dates[zoom:],\n",
        "    y = train_data[zoom:],\n",
        "    mode = 'lines',\n",
        "    name = 'Train'\n",
        ")\n",
        "trace2 = go.Scatter(\n",
        "    x = test_dates,\n",
        "    y = test_data,\n",
        "    mode='lines',\n",
        "    name = 'Test'\n",
        ")\n",
        "trace3 = go.Scatter(\n",
        "    x = test_dates,\n",
        "    y = predicted_stock_price.reshape((-1)),\n",
        "    mode='lines',\n",
        "    line=dict(width=3),\n",
        "    name = 'Predict'\n",
        ")\n",
        "layout = go.Layout(\n",
        "    title = ticker + ' Date:' + last_data + ' Open:' + str(data[-1][1]) + ' High:' + str(data[-1][2]) + ' Low:' + str(data[-1][3]) + ' Close:' + str(data[-1][4]),\n",
        "    xaxis = {'title' : \"Dates\"},\n",
        "    yaxis = {'title' : \"Close Price ($)\"},\n",
        "    height = 600\n",
        ")\n",
        "fig = go.Figure(data=[trace1, trace2, trace3], layout=layout)\n",
        "fig.show()\n",
        "fig.write_html('/content/drive/MyDrive/models/'+ticker+ '_' + last_data + '_predict.html')"
      ],
      "execution_count": null,
      "outputs": []
    },
    {
      "cell_type": "code",
      "metadata": {
        "id": "xtwieH7SJj_v"
      },
      "source": [
        "def predict(num_prediction, model):\n",
        "    prediction_list = test_data_scaled[-look_back:]\n",
        "    \n",
        "    for _ in range(num_prediction):\n",
        "        x = prediction_list[-look_back:]\n",
        "        x = x.reshape((1, look_back, 1))\n",
        "        out = model.predict(x)[0][0]\n",
        "        prediction_list = np.append(prediction_list, out)\n",
        "    prediction_list = prediction_list[look_back-1:]\n",
        "        \n",
        "    return prediction_list\n",
        "    \n",
        "def predict_dates(num_prediction):\n",
        "    last_date = df['Date'].values[-1]\n",
        "    prediction_dates = pd.date_range(last_date, periods=num_prediction+1).tolist()\n",
        "    return prediction_dates\n",
        "\n",
        "num_prediction = look_back\n",
        "forecast_scaled = predict(num_prediction, model)\n",
        "forecast_dates = predict_dates(num_prediction)\n",
        "\n",
        "forecast = sc.inverse_transform(forecast_scaled.reshape((-1,1)))\n",
        "#forecast_dates,forecast"
      ],
      "execution_count": null,
      "outputs": []
    },
    {
      "cell_type": "code",
      "metadata": {
        "id": "Ip62GCoJLduZ"
      },
      "source": [
        "zoom = 850\n",
        "\n",
        "trace1 = go.Candlestick(\n",
        "    x = train_dates[zoom:],\n",
        "    open = df['Open'].values[zoom:],\n",
        "    high = df['High'].values[zoom:],\n",
        "    low = df['Low'].values[zoom:],\n",
        "    close = train_data[zoom:],\n",
        "#    mode = 'lines',\n",
        "#    line=dict(width=3),\n",
        "    name = 'Train'\n",
        ")\n",
        "trace2 = go.Candlestick(\n",
        "    x = test_dates,\n",
        "    open = df['Open'].values[split:],\n",
        "    high = df['High'].values[split:],\n",
        "    low = df['Low'].values[split:],\n",
        "    close = test_data,\n",
        "#    mode='lines',\n",
        "#    line=dict(width=3),\n",
        "    name = 'Test'\n",
        ")\n",
        "trace3 = go.Scatter(\n",
        "    x = test_dates,\n",
        "    y = predicted_stock_price.reshape((-1)),\n",
        "    mode='lines',\n",
        "    name = 'Predict'\n",
        ")\n",
        "trace4 = go.Scatter(\n",
        "    x = forecast_dates,\n",
        "    y = forecast.reshape((-1)),\n",
        "    mode='lines',\n",
        "    line=dict(width=3),\n",
        "    name = 'Forecast'\n",
        ")\n",
        "trace5 = go.Scatter(\n",
        "    x = df['Date'][zoom:],\n",
        "    y = df['50MA'][zoom:],\n",
        "    mode='lines',\n",
        "    name ='50MA'\n",
        ")\n",
        "trace6 = go.Scatter(\n",
        "    x = df['Date'][zoom:],\n",
        "    y = df['100MA'][zoom:],\n",
        "    mode='lines',\n",
        "    name ='100MA'\n",
        ")\n",
        "trace7 = go.Scatter(\n",
        "    x = df['Date'][zoom:],\n",
        "    y = df['200MA'][zoom:],\n",
        "    mode='lines',\n",
        "    name ='200MA'\n",
        ")\n",
        "\n",
        "\n",
        "print('Shares:', nr_of_shares,'Cost:',all_costs,'Cost Per Share:', cost_per_share, '50MA:', int(df['50MA'].values[-1]))\n",
        "print('Forecast:',forecast.reshape((-1)).astype(np.int))\n",
        "layout = go.Layout(\n",
        "    title = \n",
        "    '<b>'+ticker+ '</b>' + ' Date:' + last_data + '<BR>' \n",
        "    'Open:' + str(data[-1][1]) + \n",
        "    ' High:' + str(data[-1][2]) + \n",
        "    ' Low:' + str(data[-1][3]) + \n",
        "    ' Close:' + str(data[-1][4]) + \n",
        "    ' ' +\n",
        "    'Forecast in ' + str(len(forecast_dates)) + ' days ' + str(np.around(forecast.mean())) + \n",
        "    '<BR>' + \n",
        "    'Shares:' + str(nr_of_shares) +\n",
        "    ' Cost: ' + str(all_costs).replace('$','') +\n",
        "    ' Cost Per Share: ' + str(cost_per_share).replace('$',''),\n",
        "    xaxis = {'title' : 'Dates'},\n",
        "    yaxis = {'title' : 'Close Price ($)'},\n",
        "    height = 600,\n",
        "    font=dict(\n",
        "        family=\"Courier New, monospace\",\n",
        "        size=8,\n",
        "        color=\"#7f7f7f\"\n",
        "    )\n",
        ")\n",
        "\n",
        "\n",
        "fig = go.Figure(data=[trace1, trace2, trace3, trace4, trace5, trace6, trace7], layout=layout)\n",
        "\n",
        "fig.update_yaxes(showspikes=True, spikemode='across', spikesnap='cursor',spikedash='dash')\n",
        "fig.update_xaxes(showspikes=True, spikemode='across', spikesnap='cursor', spikedash='dash')\n",
        "fig.update_layout(xaxis_rangeslider_visible=False)\n",
        "\n",
        "\n",
        "\n",
        "config = dict({'scrollZoom': True})\n",
        "fig.show(config=config)\n",
        "\n",
        "fig.write_html('/content/drive/MyDrive/models/'+ticker+ '_' + last_data + '_forecast.html')\n",
        "\n",
        "fig = px.area(x=volume_dates, y=volumes, height=250, labels={\n",
        "                     \"x\": \"Dates\",\n",
        "                     \"y\": \"Volume\"\n",
        "                 },\n",
        "                title=ticker)\n",
        "fig.show()"
      ],
      "execution_count": null,
      "outputs": []
    }
  ]
}