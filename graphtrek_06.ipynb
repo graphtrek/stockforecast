{
  "nbformat": 4,
  "nbformat_minor": 0,
  "metadata": {
    "colab": {
      "name": "graphtrek_06.ipynb",
      "provenance": [],
      "authorship_tag": "ABX9TyPpf8tWYJaGD1HRnU5F6GDm",
      "include_colab_link": true
    },
    "kernelspec": {
      "name": "python3",
      "display_name": "Python 3"
    },
    "language_info": {
      "name": "python"
    }
  },
  "cells": [
    {
      "cell_type": "markdown",
      "metadata": {
        "id": "view-in-github",
        "colab_type": "text"
      },
      "source": [
        "<a href=\"https://colab.research.google.com/github/graphtrek/stockforecast/blob/main/graphtrek_06.ipynb\" target=\"_parent\"><img src=\"https://colab.research.google.com/assets/colab-badge.svg\" alt=\"Open In Colab\"/></a>"
      ]
    },
    {
      "cell_type": "code",
      "metadata": {
        "id": "FresKqY08M_Q"
      },
      "source": [
        "import numpy as np\n",
        "from tensorflow.keras.models import Sequential\n",
        "from tensorflow.keras.layers import LSTM\n",
        "from tensorflow.keras.optimizers import Adam\n",
        "from tensorflow.keras.losses import MAE\n",
        "from tensorflow.keras.layers import Dense, Dropout\n",
        "import pandas as pd\n",
        "from matplotlib import pyplot as plt\n",
        "from sklearn.preprocessing import StandardScaler\n",
        "import seaborn as sns\n",
        "import plotly.graph_objects as go\n",
        "import plotly.express as px\n",
        "from sklearn.preprocessing import MinMaxScaler\n",
        "from pandas.tseries.holiday import USFederalHolidayCalendar\n",
        "from pandas.tseries.offsets import CustomBusinessDay\n",
        "from keras.preprocessing.sequence import TimeseriesGenerator"
      ],
      "execution_count": 105,
      "outputs": []
    },
    {
      "cell_type": "code",
      "metadata": {
        "id": "bPIvUMpvBkwk"
      },
      "source": [
        "ticker = \"QQQ\"\n",
        "#features = ['Close','High','Low','Open']\n",
        "look_back = 5 #  number of past days we want to use to predict the future.\n",
        "max_data_size = 730 # 2 years\n",
        "split_percent = 0.90 # use 90 of the data  for train\n",
        "print_level = 'DEBUG'\n",
        "nr_of_features = 3"
      ],
      "execution_count": 106,
      "outputs": []
    },
    {
      "cell_type": "code",
      "metadata": {
        "colab": {
          "base_uri": "https://localhost:8080/"
        },
        "id": "5Yd1C1a2BoAB",
        "outputId": "58616ab8-b62d-4ea9-be6e-5790b8e69413"
      },
      "source": [
        "url = 'https://www.alphavantage.co/query?function=TIME_SERIES_DAILY_ADJUSTED&symbol='+ticker+'&outputsize=full&apikey=3F4URDEKOPLFH25T'\n",
        "print(url)\n",
        "stock_api_response = pd.read_json(url)\n",
        "stock_api_data = stock_api_response['Time Series (Daily)']\n",
        "#print(stock_api_data)\n",
        "stock_api_data = stock_api_data.drop(index=['1. Information','2. Symbol','3. Last Refreshed','4. Output Size','5. Time Zone']);\n",
        "#print(list(stock_api_data.items()))\n",
        "data = []\n",
        "lstm_data = []\n",
        "split_coefficient = 1\n",
        "\n",
        "for key, value in stock_api_data.items():\n",
        "  date = key\n",
        "  open = float(value.get('1. open'))\n",
        "  high = float(value.get('2. high'))\n",
        "  low = float(value.get('3. low'))\n",
        "  close = float(value.get('4. close'))\n",
        "  adjusted_close = float(value.get('5. adjusted close'))\n",
        "  volume = int(value.get('6. volume'))\n",
        "  divident = float(value.get('7. dividend amount'))\n",
        "\n",
        "  if float(value.get('8. split coefficient')) > 1:\n",
        "    split_coefficient = float(value.get('8. split coefficient'))\n",
        "    \n",
        "  open = open / split_coefficient\n",
        "  high = high /split_coefficient\n",
        "  close = close / split_coefficient\n",
        "  low = low / split_coefficient\n",
        "  \n",
        "  # 3 features\n",
        "  lstm_data.append([\n",
        "    close,\n",
        "    high,\n",
        "    low\n",
        "  ])\n",
        "\n",
        "  data.append([\n",
        "      date,\n",
        "      close,\n",
        "      volume,\n",
        "      high,\n",
        "      low,\n",
        "      open,\n",
        "      divident\n",
        "      ])\n",
        "\n",
        "last_data =  str(data[0][0])\n",
        "\n",
        "if max_data_size < len(data):\n",
        "  data = np.flip(data[:max_data_size],axis=0)\n",
        "  lstm_data = np.flip(lstm_data[:max_data_size],axis=0)\n",
        "else:\n",
        "  data = np.flip(data,axis=0)\n",
        "  lstm_data = np.flip(lstm_data,axis=0)"
      ],
      "execution_count": 107,
      "outputs": [
        {
          "output_type": "stream",
          "name": "stdout",
          "text": [
            "https://www.alphavantage.co/query?function=TIME_SERIES_DAILY_ADJUSTED&symbol=QQQ&outputsize=full&apikey=3F4URDEKOPLFH25T\n"
          ]
        }
      ]
    },
    {
      "cell_type": "code",
      "metadata": {
        "colab": {
          "base_uri": "https://localhost:8080/"
        },
        "id": "9PtRy5TxC8BG",
        "outputId": "1b107c5a-d097-4711-d707-b8721b303a2f"
      },
      "source": [
        "if print_level == 'DEBUG':\n",
        "  np.set_printoptions(formatter={'float': '{: 0.2f}'.format})\n",
        "  print('data ===>', 'size:',len(data), 'max_data_size:', max_data_size, 'shape:', data.shape)\n",
        "  print(data[:look_back])\n",
        "  print('lstm_data ===>', 'size:',len(lstm_data), 'max_data_size:', max_data_size, 'shape:', lstm_data.shape)\n",
        "  print(lstm_data[:look_back])"
      ],
      "execution_count": 116,
      "outputs": [
        {
          "output_type": "stream",
          "name": "stdout",
          "text": [
            "data ===> size: 730 max_data_size: 730 shape: (730, 7)\n",
            "[['2018-12-04' '165.72' '70594743' '171.91' '165.52' '171.43' '0.0']\n",
            " ['2018-12-06' '166.89' '71715526' '166.91' '161.77' '162.46' '0.0']\n",
            " ['2018-12-07' '161.38' '80432176' '167.12' '160.86' '166.16' '0.0']\n",
            " ['2018-12-10' '163.07' '73960758' '163.78' '159.41' '161.08' '0.0']\n",
            " ['2018-12-11' '163.61' '59058296' '165.77' '162.23' '165.73' '0.0']]\n",
            "lstm_data ===> size: 730 max_data_size: 730 shape: (730, 1)\n",
            "[[ 165.72]\n",
            " [ 166.89]\n",
            " [ 161.38]\n",
            " [ 163.07]\n",
            " [ 163.61]]\n"
          ]
        }
      ]
    },
    {
      "cell_type": "code",
      "metadata": {
        "id": "7BI3hlg-Ejtr"
      },
      "source": [
        "df = pd.DataFrame(data,columns=['Date','Close','Volume','High','Low','Open','Divident'])\n",
        "\n",
        "df['50MA'] = df['Close'].rolling(50).mean()\n",
        "df['100MA'] = df['Close'].rolling(100).mean()\n",
        "df['200MA'] = df['Close'].rolling(200).mean()\n",
        "\n",
        "split = int(split_percent*len(data))\n",
        "if len(data) - split < look_back:\n",
        "  split = look_back\n",
        "split\n",
        "#df.head()\n",
        "\n",
        "df_train = df.iloc[:split]\n",
        "df_test = df.iloc[split:]\n",
        "\n",
        "lstm_train_data = lstm_data[:split]\n",
        "lstm_test_data = lstm_data[split:]"
      ],
      "execution_count": 109,
      "outputs": []
    },
    {
      "cell_type": "code",
      "metadata": {
        "colab": {
          "base_uri": "https://localhost:8080/"
        },
        "id": "k4g3hz7tE5_l",
        "outputId": "d80de02b-203a-42ca-f21e-d7b8fb2e57c9"
      },
      "source": [
        "if print_level == 'DEBUG':\n",
        "  print('df_test ===>', 'size:',len(df_test),'shape:', df_test.shape)\n",
        "  print(df_test.head())\n",
        "\n",
        "  print('df_train ===>', 'size:',len(df_train),'shape:', df_train.shape)\n",
        "  print(df_train.head())\n",
        "\n",
        "  print('lstm_test_data ===>', 'size:',len(lstm_test_data), 'shape:', lstm_test_data.shape)\n",
        "  print(lstm_test_data[:2*(look_back + 1)])\n",
        "\n",
        "  print('lstm_train_data ===>', 'size:',len(lstm_train_data), 'shape:', lstm_train_data.shape)\n",
        "  print(lstm_train_data[:2*(look_back + 1)])"
      ],
      "execution_count": 110,
      "outputs": [
        {
          "output_type": "stream",
          "name": "stdout",
          "text": [
            "df_test ===> size: 73 shape: (73, 10)\n",
            "           Date   Close    Volume  ...      50MA     100MA      200MA\n",
            "657  2021-07-16   357.6  47261961  ...  341.4524  333.2582  318.57755\n",
            "658  2021-07-19  354.67  64404625  ...  341.9156  333.5636  318.96170\n",
            "659  2021-07-20  358.79  42183702  ...  342.4074  334.0232  319.34440\n",
            "660  2021-07-21  361.56  30259860  ...  343.1234  334.4974  319.78065\n",
            "661  2021-07-22  363.95  30252240  ...  343.8962  334.9010  320.19960\n",
            "\n",
            "[5 rows x 10 columns]\n",
            "df_train ===> size: 657 shape: (657, 10)\n",
            "         Date   Close    Volume    High  ... Divident 50MA 100MA  200MA\n",
            "0  2018-12-04  165.72  70594743  171.91  ...      0.0  NaN   NaN    NaN\n",
            "1  2018-12-06  166.89  71715526  166.91  ...      0.0  NaN   NaN    NaN\n",
            "2  2018-12-07  161.38  80432176  167.12  ...      0.0  NaN   NaN    NaN\n",
            "3  2018-12-10  163.07  73960758  163.78  ...      0.0  NaN   NaN    NaN\n",
            "4  2018-12-11  163.61  59058296  165.77  ...      0.0  NaN   NaN    NaN\n",
            "\n",
            "[5 rows x 10 columns]\n",
            "lstm_test_data ===> size: 73 shape: (73, 1)\n",
            "[[ 357.60]\n",
            " [ 354.67]\n",
            " [ 358.79]\n",
            " [ 361.56]\n",
            " [ 363.95]\n",
            " [ 368.20]\n",
            " [ 368.49]\n",
            " [ 364.43]\n",
            " [ 365.83]\n",
            " [ 366.48]\n",
            " [ 364.57]\n",
            " [ 364.60]]\n",
            "lstm_train_data ===> size: 657 shape: (657, 1)\n",
            "[[ 165.72]\n",
            " [ 166.89]\n",
            " [ 161.38]\n",
            " [ 163.07]\n",
            " [ 163.61]\n",
            " [ 165.05]\n",
            " [ 165.10]\n",
            " [ 161.08]\n",
            " [ 157.43]\n",
            " [ 158.42]\n",
            " [ 154.53]\n",
            " [ 152.29]]\n"
          ]
        }
      ]
    },
    {
      "cell_type": "code",
      "metadata": {
        "colab": {
          "base_uri": "https://localhost:8080/"
        },
        "id": "NsqqTXD0tYAi",
        "outputId": "fd6318be-adc4-4c1b-ccc6-8721b9c29e88"
      },
      "source": [
        "np.set_printoptions(formatter={'float': '{: 0.12f}'.format})\n",
        "\n",
        "#mean_data = np.mean(lstm_data)\n",
        "#max_data = np.amax(lstm_data)\n",
        "\n",
        "#print('mean:', mean_data, 'max:', max_data, 'min:',0)\n",
        "#scaler_data = [[mean_data], [max_data*1.5], [0]]\n",
        "\n",
        "scaler = MinMaxScaler(feature_range=(0, 1))\n",
        "scaler = scaler.fit(lstm_data)\n",
        "\n",
        "lstm_train_data_scaled = scaler.transform(lstm_train_data)\n",
        "if print_level == 'DEBUG':\n",
        "  print(lstm_train_data_scaled[:look_back+1])\n",
        "\n",
        "lstm_test_data_scaled = scaler.transform(lstm_test_data)\n",
        "if print_level == 'DEBUG':\n",
        "  print(lstm_test_data_scaled[:look_back+1])"
      ],
      "execution_count": 111,
      "outputs": [
        {
          "output_type": "stream",
          "name": "stdout",
          "text": [
            "[[ 0.093122668790]\n",
            " [ 0.098026067642]\n",
            " [ 0.074933992708]\n",
            " [ 0.082016679938]\n",
            " [ 0.084279787100]\n",
            " [ 0.090314739533]]\n",
            "[[ 0.897280080466]\n",
            " [ 0.885000628641]\n",
            " [ 0.902267298102]\n",
            " [ 0.913876199656]\n",
            " [ 0.923892544319]\n",
            " [ 0.941704035874]]\n"
          ]
        }
      ]
    },
    {
      "cell_type": "code",
      "metadata": {
        "colab": {
          "base_uri": "https://localhost:8080/"
        },
        "id": "eRWuDtOxHmB8",
        "outputId": "f8b7e57b-2e91-4109-b010-c15a10ceda18"
      },
      "source": [
        "train_generator = TimeseriesGenerator(lstm_train_data_scaled, lstm_train_data_scaled, length=look_back, batch_size=1)\n",
        "\n",
        "if print_level == 'DEBUG':\n",
        "  print('Samples: %d' % len(train_generator))\n",
        "  # print each sample\n",
        "  for i in range(2):\n",
        "    x, y = train_generator[i]\n",
        "    print('%s => %s' % (x, y))"
      ],
      "execution_count": 112,
      "outputs": [
        {
          "output_type": "stream",
          "name": "stdout",
          "text": [
            "Samples: 652\n",
            "[[[ 0.093122668790]\n",
            "  [ 0.098026067642]\n",
            "  [ 0.074933992708]\n",
            "  [ 0.082016679938]\n",
            "  [ 0.084279787100]]] => [[ 0.090314739533]]\n",
            "[[[ 0.098026067642]\n",
            "  [ 0.074933992708]\n",
            "  [ 0.082016679938]\n",
            "  [ 0.084279787100]\n",
            "  [ 0.090314739533]]] => [[ 0.090524286493]]\n"
          ]
        }
      ]
    },
    {
      "cell_type": "code",
      "metadata": {
        "colab": {
          "base_uri": "https://localhost:8080/",
          "height": 279
        },
        "id": "kMqc0Uavxn0T",
        "outputId": "c09aad51-b71d-42c9-e524-72e2dde14165"
      },
      "source": [
        "model = Sequential()\n",
        "model.add(LSTM(units=50, activation='relu', input_shape=(look_back, nr_of_features), return_sequences=True))\n",
        "model.add(Dropout(0.2))\n",
        "model.add(LSTM(units=50, return_sequences=True, activation=\"relu\"))\n",
        "model.add(Dropout(0.2))\n",
        "model.add(LSTM(units=50, return_sequences=True, activation=\"relu\"))\n",
        "model.add(Dropout(0.2))\n",
        "model.add(LSTM(units=50, activation=\"relu\"))\n",
        "model.add(Dropout(0.2))\n",
        "model.add(Dense(nr_of_features))\n",
        "\n",
        "model.compile(\n",
        "    loss=MAE,\n",
        "    optimizer=Adam(learning_rate=0.0001),\n",
        "    metrics=[\"mae\"]\n",
        ")\n",
        "  \n",
        "#model.summary()\n",
        "\n",
        "\n",
        "# fit the model\n",
        "modelo = model.fit(train_generator, epochs=150, verbose=0)\n",
        "\n",
        "plt.plot(modelo.history['loss'])\n",
        "plt.xlabel('Epochs')\n",
        "plt.ylabel('Loss')\n",
        "plt.show()"
      ],
      "execution_count": 113,
      "outputs": [
        {
          "output_type": "display_data",
          "data": {
            "image/png": "[encoded data removed]",
            "text/plain": [
              "<Figure size 432x288 with 1 Axes>"
            ]
          },
          "metadata": {
            "needs_background": "light"
          }
        }
      ]
    },
    {
      "cell_type": "code",
      "metadata": {
        "colab": {
          "base_uri": "https://localhost:8080/"
        },
        "id": "zom6mqtPJunz",
        "outputId": "d3da7a42-2fd3-470b-e494-f6175b5d9e44"
      },
      "source": [
        "test_generator = TimeseriesGenerator(lstm_test_data_scaled, lstm_test_data_scaled, length=look_back, batch_size=1)\n",
        "\n",
        "print('Samples: %d' % len(test_generator))\n",
        "# print each sample\n",
        "for i in range(2):\n",
        "\tx, y = test_generator[i]\n",
        "\tprint('%s => %s' % (x, y))"
      ],
      "execution_count": 117,
      "outputs": [
        {
          "output_type": "stream",
          "name": "stdout",
          "text": [
            "Samples: 68\n",
            "[[[ 0.90]\n",
            "  [ 0.89]\n",
            "  [ 0.90]\n",
            "  [ 0.91]\n",
            "  [ 0.92]]] => [[ 0.94]]\n",
            "[[[ 0.89]\n",
            "  [ 0.90]\n",
            "  [ 0.91]\n",
            "  [ 0.92]\n",
            "  [ 0.94]]] => [[ 0.94]]\n"
          ]
        }
      ]
    },
    {
      "cell_type": "code",
      "metadata": {
        "colab": {
          "base_uri": "https://localhost:8080/"
        },
        "id": "hJmwCRQs5Wed",
        "outputId": "51ffc567-054f-49ad-fd4d-1cd94a29b5d2"
      },
      "source": [
        "#Make prediction\n",
        "prediction_scaled = model.predict(test_generator)\n",
        "\n",
        "np.set_printoptions(formatter={'float': '{: 0.12f}'.format})\n",
        "print(prediction_scaled[:5])\n",
        "\n",
        "prediction = scaler.inverse_transform(prediction_scaled)\n",
        "np.set_printoptions(formatter={'float': '{: 0.2f}'.format})\n",
        "print('prediction shape:',prediction.shape)\n",
        "\n",
        "for x in range(look_back + 1):\n",
        "  print('pred:',prediction[x], 'test:', lstm_test_data[x])\n"
      ],
      "execution_count": 118,
      "outputs": [
        {
          "output_type": "stream",
          "name": "stdout",
          "text": [
            "[[ 0.859881997108]\n",
            " [ 0.861444473267]\n",
            " [ 0.867367684841]\n",
            " [ 0.871389925480]\n",
            " [ 0.874178290367]]\n",
            "prediction shape: (68, 1)\n",
            "pred: [ 348.68] test: [ 357.60]\n",
            "pred: [ 349.05] test: [ 354.67]\n",
            "pred: [ 350.46] test: [ 358.79]\n",
            "pred: [ 351.42] test: [ 361.56]\n",
            "pred: [ 352.09] test: [ 363.95]\n",
            "pred: [ 352.63] test: [ 368.20]\n"
          ]
        }
      ]
    }
  ]
}