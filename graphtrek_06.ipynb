{
  "nbformat": 4,
  "nbformat_minor": 0,
  "metadata": {
    "colab": {
      "name": "graphtrek_06.ipynb",
      "provenance": [],
      "authorship_tag": "ABX9TyOKvfPV2R7axb2ZaDe6j49L",
      "include_colab_link": true
    },
    "kernelspec": {
      "name": "python3",
      "display_name": "Python 3"
    },
    "language_info": {
      "name": "python"
    }
  },
  "cells": [
    {
      "cell_type": "markdown",
      "metadata": {
        "id": "view-in-github",
        "colab_type": "text"
      },
      "source": [
        "<a href=\"https://colab.research.google.com/github/graphtrek/stockforecast/blob/main/graphtrek_06.ipynb\" target=\"_parent\"><img src=\"https://colab.research.google.com/assets/colab-badge.svg\" alt=\"Open In Colab\"/></a>"
      ]
    },
    {
      "cell_type": "code",
      "metadata": {
        "id": "FresKqY08M_Q"
      },
      "source": [
        "import numpy as np\n",
        "from tensorflow.keras.models import Sequential\n",
        "from tensorflow.keras.layers import LSTM\n",
        "from tensorflow.keras.optimizers import Adam\n",
        "from tensorflow.keras.losses import MAE\n",
        "from tensorflow.keras.layers import Dense, Dropout\n",
        "import pandas as pd\n",
        "from matplotlib import pyplot as plt\n",
        "from sklearn.preprocessing import StandardScaler\n",
        "import seaborn as sns\n",
        "import plotly.graph_objects as go\n",
        "import plotly.express as px\n",
        "from sklearn.preprocessing import MinMaxScaler\n",
        "from pandas.tseries.holiday import USFederalHolidayCalendar\n",
        "from pandas.tseries.offsets import CustomBusinessDay\n",
        "from keras.preprocessing.sequence import TimeseriesGenerator"
      ],
      "execution_count": 141,
      "outputs": []
    },
    {
      "cell_type": "code",
      "metadata": {
        "id": "bPIvUMpvBkwk"
      },
      "source": [
        "ticker = \"QQQ\"\n",
        "#features = ['Close','High','Low','Open']\n",
        "look_back = 5 #  number of past days we want to use to predict the future.\n",
        "max_data_size = 730 # 2 years\n",
        "split_percent = 0.90 # use 90 of the data  for train\n",
        "print_level = 'DEBUG'\n",
        "nr_of_features = 3"
      ],
      "execution_count": 142,
      "outputs": []
    },
    {
      "cell_type": "code",
      "metadata": {
        "colab": {
          "base_uri": "https://localhost:8080/"
        },
        "id": "5Yd1C1a2BoAB",
        "outputId": "b69f99a9-39b0-4bb1-9ece-fc9a6385474d"
      },
      "source": [
        "url = 'https://www.alphavantage.co/query?function=TIME_SERIES_DAILY_ADJUSTED&symbol='+ticker+'&outputsize=full&apikey=3F4URDEKOPLFH25T'\n",
        "print(url)\n",
        "stock_api_response = pd.read_json(url)\n",
        "stock_api_data = stock_api_response['Time Series (Daily)']\n",
        "#print(stock_api_data)\n",
        "stock_api_data = stock_api_data.drop(index=['1. Information','2. Symbol','3. Last Refreshed','4. Output Size','5. Time Zone']);\n",
        "#print(list(stock_api_data.items()))\n",
        "data = []\n",
        "lstm_data = []\n",
        "split_coefficient = 1\n",
        "\n",
        "for key, value in stock_api_data.items():\n",
        "  date = key\n",
        "  open = float(value.get('1. open'))\n",
        "  high = float(value.get('2. high'))\n",
        "  low = float(value.get('3. low'))\n",
        "  close = float(value.get('4. close'))\n",
        "  adjusted_close = float(value.get('5. adjusted close'))\n",
        "  volume = int(value.get('6. volume'))\n",
        "  divident = float(value.get('7. dividend amount'))\n",
        "\n",
        "  if float(value.get('8. split coefficient')) > 1:\n",
        "    split_coefficient = float(value.get('8. split coefficient'))\n",
        "    \n",
        "  open = open / split_coefficient\n",
        "  high = high /split_coefficient\n",
        "  close = close / split_coefficient\n",
        "  low = low / split_coefficient\n",
        "  \n",
        "  # 3 features\n",
        "  lstm_data.append([\n",
        "    close,\n",
        "    high,\n",
        "    low\n",
        "  ])\n",
        "\n",
        "  data.append([\n",
        "      date,\n",
        "      close,\n",
        "      volume,\n",
        "      high,\n",
        "      low,\n",
        "      open,\n",
        "      divident\n",
        "      ])\n",
        "\n",
        "last_data =  str(data[0][0])\n",
        "\n",
        "if max_data_size < len(data):\n",
        "  data = np.flip(data[:max_data_size],axis=0)\n",
        "  lstm_data = np.flip(lstm_data[:max_data_size],axis=0)\n",
        "else:\n",
        "  data = np.flip(data,axis=0)\n",
        "  lstm_data = np.flip(lstm_data,axis=0)"
      ],
      "execution_count": 143,
      "outputs": [
        {
          "output_type": "stream",
          "name": "stdout",
          "text": [
            "https://www.alphavantage.co/query?function=TIME_SERIES_DAILY_ADJUSTED&symbol=QQQ&outputsize=full&apikey=3F4URDEKOPLFH25T\n"
          ]
        }
      ]
    },
    {
      "cell_type": "code",
      "metadata": {
        "colab": {
          "base_uri": "https://localhost:8080/"
        },
        "id": "9PtRy5TxC8BG",
        "outputId": "02bd9f37-ddeb-4715-b4f9-4d5d01c2acb0"
      },
      "source": [
        "if print_level == 'DEBUG':\n",
        "  np.set_printoptions(formatter={'float': '{: 0.2f}'.format})\n",
        "  print('data ===>', 'size:',len(data), 'max_data_size:', max_data_size, 'shape:', data.shape)\n",
        "  print(data[:look_back])\n",
        "  print('lstm_data ===>', 'size:',len(lstm_data), 'max_data_size:', max_data_size, 'shape:', lstm_data.shape)\n",
        "  print(lstm_data[:look_back])"
      ],
      "execution_count": 144,
      "outputs": [
        {
          "output_type": "stream",
          "name": "stdout",
          "text": [
            "data ===> size: 730 max_data_size: 730 shape: (730, 7)\n",
            "[['2018-12-04' '165.72' '70594743' '171.91' '165.52' '171.43' '0.0']\n",
            " ['2018-12-06' '166.89' '71715526' '166.91' '161.77' '162.46' '0.0']\n",
            " ['2018-12-07' '161.38' '80432176' '167.12' '160.86' '166.16' '0.0']\n",
            " ['2018-12-10' '163.07' '73960758' '163.78' '159.41' '161.08' '0.0']\n",
            " ['2018-12-11' '163.61' '59058296' '165.77' '162.23' '165.73' '0.0']]\n",
            "lstm_data ===> size: 730 max_data_size: 730 shape: (730, 3)\n",
            "[[ 165.72  171.91  165.52]\n",
            " [ 166.89  166.91  161.77]\n",
            " [ 161.38  167.12  160.86]\n",
            " [ 163.07  163.78  159.41]\n",
            " [ 163.61  165.77  162.23]]\n"
          ]
        }
      ]
    },
    {
      "cell_type": "code",
      "metadata": {
        "id": "7BI3hlg-Ejtr"
      },
      "source": [
        "df = pd.DataFrame(data,columns=['Date','Close','Volume','High','Low','Open','Divident'])\n",
        "\n",
        "df['50MA'] = df['Close'].rolling(50).mean()\n",
        "df['100MA'] = df['Close'].rolling(100).mean()\n",
        "df['200MA'] = df['Close'].rolling(200).mean()\n",
        "\n",
        "split = int(split_percent*len(data))\n",
        "if len(data) - split < look_back:\n",
        "  split = look_back\n",
        "split\n",
        "#df.head()\n",
        "\n",
        "df_train = df.iloc[:split]\n",
        "df_test = df.iloc[split:]\n",
        "\n",
        "lstm_train_data = lstm_data[:split]\n",
        "lstm_test_data = lstm_data[split:]"
      ],
      "execution_count": 145,
      "outputs": []
    },
    {
      "cell_type": "code",
      "metadata": {
        "colab": {
          "base_uri": "https://localhost:8080/"
        },
        "id": "k4g3hz7tE5_l",
        "outputId": "0dacf8f1-4abe-4504-fecf-87db60fb56fd"
      },
      "source": [
        "if print_level == 'DEBUG':\n",
        "  print('df_test ===>', 'size:',len(df_test),'shape:', df_test.shape)\n",
        "  print(df_test.head())\n",
        "\n",
        "  print('df_train ===>', 'size:',len(df_train),'shape:', df_train.shape)\n",
        "  print(df_train.head())\n",
        "\n",
        "  print('lstm_test_data ===>', 'size:',len(lstm_test_data), 'shape:', lstm_test_data.shape)\n",
        "  print(lstm_test_data[:2*(look_back + 1)])\n",
        "\n",
        "  print('lstm_train_data ===>', 'size:',len(lstm_train_data), 'shape:', lstm_train_data.shape)\n",
        "  print(lstm_train_data[:2*(look_back + 1)])"
      ],
      "execution_count": 146,
      "outputs": [
        {
          "output_type": "stream",
          "name": "stdout",
          "text": [
            "df_test ===> size: 73 shape: (73, 10)\n",
            "           Date   Close    Volume  ...      50MA     100MA      200MA\n",
            "657  2021-07-16   357.6  47261961  ...  341.4524  333.2582  318.57755\n",
            "658  2021-07-19  354.67  64404625  ...  341.9156  333.5636  318.96170\n",
            "659  2021-07-20  358.79  42183702  ...  342.4074  334.0232  319.34440\n",
            "660  2021-07-21  361.56  30259860  ...  343.1234  334.4974  319.78065\n",
            "661  2021-07-22  363.95  30252240  ...  343.8962  334.9010  320.19960\n",
            "\n",
            "[5 rows x 10 columns]\n",
            "df_train ===> size: 657 shape: (657, 10)\n",
            "         Date   Close    Volume    High  ... Divident 50MA 100MA  200MA\n",
            "0  2018-12-04  165.72  70594743  171.91  ...      0.0  NaN   NaN    NaN\n",
            "1  2018-12-06  166.89  71715526  166.91  ...      0.0  NaN   NaN    NaN\n",
            "2  2018-12-07  161.38  80432176  167.12  ...      0.0  NaN   NaN    NaN\n",
            "3  2018-12-10  163.07  73960758  163.78  ...      0.0  NaN   NaN    NaN\n",
            "4  2018-12-11  163.61  59058296  165.77  ...      0.0  NaN   NaN    NaN\n",
            "\n",
            "[5 rows x 10 columns]\n",
            "lstm_test_data ===> size: 73 shape: (73, 3)\n",
            "[[ 357.60  362.41  357.24]\n",
            " [ 354.67  355.18  352.04]\n",
            " [ 358.79  360.28  353.80]\n",
            " [ 361.56  361.56  358.12]\n",
            " [ 363.95  363.96  361.77]\n",
            " [ 368.20  368.49  363.92]\n",
            " [ 368.49  368.89  366.60]\n",
            " [ 364.43  368.22  360.16]\n",
            " [ 365.83  367.45  363.24]\n",
            " [ 366.48  367.68  365.25]\n",
            " [ 364.57  365.17  362.41]\n",
            " [ 364.60  366.88  363.87]]\n",
            "lstm_train_data ===> size: 657 shape: (657, 3)\n",
            "[[ 165.72  171.91  165.52]\n",
            " [ 166.89  166.91  161.77]\n",
            " [ 161.38  167.12  160.86]\n",
            " [ 163.07  163.78  159.41]\n",
            " [ 163.61  165.77  162.23]\n",
            " [ 165.05  167.60  164.96]\n",
            " [ 165.10  166.82  164.03]\n",
            " [ 161.08  163.81  160.70]\n",
            " [ 157.43  161.67  156.17]\n",
            " [ 158.42  159.95  157.04]\n",
            " [ 154.53  160.72  153.34]\n",
            " [ 152.29  155.87  150.39]]\n"
          ]
        }
      ]
    },
    {
      "cell_type": "code",
      "metadata": {
        "colab": {
          "base_uri": "https://localhost:8080/"
        },
        "id": "NsqqTXD0tYAi",
        "outputId": "707a07b2-c330-4bff-98c4-afb95ca08626"
      },
      "source": [
        "np.set_printoptions(formatter={'float': '{: 0.12f}'.format})\n",
        "\n",
        "mean_data = np.mean(lstm_data)\n",
        "max_data = np.amax(lstm_data)\n",
        "\n",
        "#print('mean:', mean_data, 'max:', max_data, 'min:',0)\n",
        "scaler_data = [[mean_data], [max_data*1.5], [0]]\n",
        "\n",
        "scaler = MinMaxScaler(feature_range=(0, 1))\n",
        "#scaler = scaler.fit(lstm_data)\n",
        "scaler = scaler.fit(scaler_data)\n",
        "\n",
        "lstm_train_data_scaled = scaler.transform(lstm_train_data)\n",
        "if print_level == 'DEBUG':\n",
        "  print(lstm_train_data_scaled[:look_back+1])\n",
        "\n",
        "lstm_test_data_scaled = scaler.transform(lstm_test_data)\n",
        "if print_level == 'DEBUG':\n",
        "  print(lstm_test_data_scaled[:look_back+1])"
      ],
      "execution_count": 147,
      "outputs": [
        {
          "output_type": "stream",
          "name": "stdout",
          "text": [
            "[[ 0.288346600548  0.299116968985  0.287998608030]\n",
            " [ 0.290382356779  0.290417156031  0.281473748314]\n",
            " [ 0.280795162904  0.290782548175  0.279890382357]\n",
            " [ 0.283735699682  0.284971073122  0.277367436600]\n",
            " [ 0.284675279481  0.288433598678  0.282274131106]\n",
            " [ 0.287180825612  0.291617730219  0.287024228979]]\n",
            "[[ 0.622210622472  0.630579842533  0.621584235939]\n",
            " [ 0.617112532081  0.617999913002  0.612536430467]\n",
            " [ 0.624281177955  0.626873722215  0.615598764627]\n",
            " [ 0.629100874331  0.629100874331  0.623115403019]\n",
            " [ 0.633259384923  0.633276784549  0.629466266475]\n",
            " [ 0.640654225934  0.641150115273  0.633199704206]]\n"
          ]
        }
      ]
    },
    {
      "cell_type": "code",
      "metadata": {
        "colab": {
          "base_uri": "https://localhost:8080/"
        },
        "id": "eRWuDtOxHmB8",
        "outputId": "619ba430-7236-44df-ae24-33f93dd27c76"
      },
      "source": [
        "train_generator = TimeseriesGenerator(lstm_train_data_scaled, lstm_train_data_scaled, length=look_back, batch_size=1)\n",
        "\n",
        "if print_level == 'DEBUG':\n",
        "  print('Samples: %d' % len(train_generator))\n",
        "  # print each sample\n",
        "  for i in range(2):\n",
        "    x, y = train_generator[i]\n",
        "    print('%s => %s' % (x, y))"
      ],
      "execution_count": 148,
      "outputs": [
        {
          "output_type": "stream",
          "name": "stdout",
          "text": [
            "Samples: 652\n",
            "[[[ 0.288346600548  0.299116968985  0.287998608030]\n",
            "  [ 0.290382356779  0.290417156031  0.281473748314]\n",
            "  [ 0.280795162904  0.290782548175  0.279890382357]\n",
            "  [ 0.283735699682  0.284971073122  0.277367436600]\n",
            "  [ 0.284675279481  0.288433598678  0.282274131106]]] => [[ 0.287180825612  0.291617730219  0.287024228979]]\n",
            "[[[ 0.290382356779  0.290417156031  0.281473748314]\n",
            "  [ 0.280795162904  0.290782548175  0.279890382357]\n",
            "  [ 0.283735699682  0.284971073122  0.277367436600]\n",
            "  [ 0.284675279481  0.288433598678  0.282274131106]\n",
            "  [ 0.287180825612  0.291617730219  0.287024228979]]] => [[ 0.287267823742  0.290260559398  0.285406063770]]\n"
          ]
        }
      ]
    },
    {
      "cell_type": "code",
      "metadata": {
        "colab": {
          "base_uri": "https://localhost:8080/",
          "height": 281
        },
        "id": "kMqc0Uavxn0T",
        "outputId": "0dbc3ce7-b004-4fd6-f37d-29764f87baf9"
      },
      "source": [
        "model = Sequential()\n",
        "model.add(LSTM(units=50, activation='relu', input_shape=(look_back, nr_of_features), return_sequences=True))\n",
        "model.add(Dropout(0.2))\n",
        "model.add(LSTM(units=50, return_sequences=True, activation=\"relu\"))\n",
        "model.add(Dropout(0.2))\n",
        "model.add(LSTM(units=50, return_sequences=True, activation=\"relu\"))\n",
        "model.add(Dropout(0.2))\n",
        "model.add(LSTM(units=50, activation=\"relu\"))\n",
        "model.add(Dropout(0.2))\n",
        "model.add(Dense(nr_of_features))\n",
        "\n",
        "model.compile(\n",
        "    loss=MAE,\n",
        "    optimizer=Adam(learning_rate=0.0001),\n",
        "    metrics=[\"mae\"]\n",
        ")\n",
        "  \n",
        "#model.summary()\n",
        "\n",
        "modelo = model.fit(train_generator, epochs=150, verbose=0)\n",
        "if print_level == 'DEBUG':\n",
        "  plt.plot(modelo.history['loss'])\n",
        "  plt.xlabel('Epochs')\n",
        "  plt.ylabel('Loss')\n",
        "  plt.show()"
      ],
      "execution_count": 138,
      "outputs": [
        {
          "output_type": "display_data",
          "data": {
            "image/png": "[encoded data removed]",
            "text/plain": [
              "<Figure size 432x288 with 1 Axes>"
            ]
          },
          "metadata": {
            "needs_background": "light"
          }
        }
      ]
    },
    {
      "cell_type": "code",
      "metadata": {
        "colab": {
          "base_uri": "https://localhost:8080/"
        },
        "id": "zom6mqtPJunz",
        "outputId": "81be2e02-2d43-4dd4-ad6d-bb25136e6981"
      },
      "source": [
        "test_generator = TimeseriesGenerator(lstm_test_data_scaled, lstm_test_data_scaled, length=look_back, batch_size=1)\n",
        "\n",
        "print('Samples: %d' % len(test_generator))\n",
        "# print each sample\n",
        "for i in range(2):\n",
        "\tx, y = test_generator[i]\n",
        "\tprint('%s => %s' % (x, y))"
      ],
      "execution_count": 139,
      "outputs": [
        {
          "output_type": "stream",
          "name": "stdout",
          "text": [
            "Samples: 68\n",
            "[[[ 0.622210622472  0.630579842533  0.621584235939]\n",
            "  [ 0.617112532081  0.617999913002  0.612536430467]\n",
            "  [ 0.624281177955  0.626873722215  0.615598764627]\n",
            "  [ 0.629100874331  0.629100874331  0.623115403019]\n",
            "  [ 0.633259384923  0.633276784549  0.629466266475]]] => [[ 0.640654225934  0.641150115273  0.633199704206]]\n",
            "[[[ 0.617112532081  0.617999913002  0.612536430467]\n",
            "  [ 0.624281177955  0.626873722215  0.615598764627]\n",
            "  [ 0.629100874331  0.629100874331  0.623115403019]\n",
            "  [ 0.633259384923  0.633276784549  0.629466266475]\n",
            "  [ 0.640654225934  0.641150115273  0.633199704206]]] => [[ 0.641158815085  0.641854800122  0.637872025751]]\n"
          ]
        }
      ]
    },
    {
      "cell_type": "code",
      "metadata": {
        "colab": {
          "base_uri": "https://localhost:8080/"
        },
        "id": "hJmwCRQs5Wed",
        "outputId": "55ad4a93-172c-470a-c4a4-e455432be977"
      },
      "source": [
        "#Make prediction\n",
        "prediction_scaled = model.predict(test_generator)\n",
        "\n",
        "if print_level == 'DEBUG':\n",
        "  np.set_printoptions(formatter={'float': '{: 0.12f}'.format})\n",
        "  print(prediction_scaled[:5])\n",
        "\n",
        "prediction = scaler.inverse_transform(prediction_scaled)\n",
        "\n",
        "if print_level == 'DEBUG':\n",
        "  np.set_printoptions(formatter={'float': '{: 0.2f}'.format})\n",
        "  print('prediction shape:',prediction.shape)\n",
        "\n",
        "  for x in range(look_back + 1):\n",
        "    print('pred:',prediction[x], 'test:', lstm_test_data[x])\n"
      ],
      "execution_count": 140,
      "outputs": [
        {
          "output_type": "stream",
          "name": "stdout",
          "text": [
            "[[ 0.584311008453  0.589650154114  0.577922463417]\n",
            " [ 0.584075629711  0.589397132397  0.577672541142]\n",
            " [ 0.587645888329  0.593130230904  0.581100285053]\n",
            " [ 0.590577483177  0.596205532551  0.583915770054]\n",
            " [ 0.592873156071  0.598621010780  0.586122751236]]\n",
            "prediction shape: (68, 3)\n",
            "pred: [ 335.82  338.89  332.15] test: [ 357.60  362.41  357.24]\n",
            "pred: [ 335.68  338.74  332.00] test: [ 354.67  355.18  352.04]\n",
            "pred: [ 337.73  340.89  333.97] test: [ 358.79  360.28  353.80]\n",
            "pred: [ 339.42  342.65  335.59] test: [ 361.56  361.56  358.12]\n",
            "pred: [ 340.74  344.04  336.86] test: [ 363.95  363.96  361.77]\n",
            "pred: [ 341.49  344.84  337.58] test: [ 368.20  368.49  363.92]\n"
          ]
        }
      ]
    },
    {
      "cell_type": "code",
      "metadata": {
        "id": "uWb02fuJtYE8"
      },
      "source": [
        ""
      ],
      "execution_count": null,
      "outputs": []
    }
  ]
}