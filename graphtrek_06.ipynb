{
  "nbformat": 4,
  "nbformat_minor": 0,
  "metadata": {
    "colab": {
      "name": "graphtrek_06.ipynb",
      "provenance": [],
      "authorship_tag": "ABX9TyOxc9gVZ20SWPHZIVUNDQwP",
      "include_colab_link": true
    },
    "kernelspec": {
      "name": "python3",
      "display_name": "Python 3"
    },
    "language_info": {
      "name": "python"
    }
  },
  "cells": [
    {
      "cell_type": "markdown",
      "metadata": {
        "id": "view-in-github",
        "colab_type": "text"
      },
      "source": [
        "<a href=\"https://colab.research.google.com/github/graphtrek/stockforecast/blob/main/graphtrek_06.ipynb\" target=\"_parent\"><img src=\"https://colab.research.google.com/assets/colab-badge.svg\" alt=\"Open In Colab\"/></a>"
      ]
    },
    {
      "cell_type": "code",
      "metadata": {
        "id": "FresKqY08M_Q"
      },
      "source": [
        "import numpy as np\n",
        "from tensorflow.keras.models import Sequential\n",
        "from tensorflow.keras.layers import LSTM\n",
        "from tensorflow.keras.optimizers import Adam\n",
        "from tensorflow.keras.losses import MAE\n",
        "from tensorflow.keras.layers import Dense, Dropout\n",
        "import pandas as pd\n",
        "from matplotlib import pyplot as plt\n",
        "from sklearn.preprocessing import StandardScaler\n",
        "import seaborn as sns\n",
        "import plotly.graph_objects as go\n",
        "import plotly.express as px\n",
        "from sklearn.preprocessing import MinMaxScaler\n",
        "from pandas.tseries.holiday import USFederalHolidayCalendar\n",
        "from pandas.tseries.offsets import CustomBusinessDay\n",
        "from keras.preprocessing.sequence import TimeseriesGenerator"
      ],
      "execution_count": 27,
      "outputs": []
    },
    {
      "cell_type": "code",
      "metadata": {
        "id": "bPIvUMpvBkwk"
      },
      "source": [
        "ticker = \"QQQ\"\n",
        "#features = ['Close','High','Low','Open']\n",
        "look_back = 5 #  number of past days we want to use to predict the future.\n",
        "max_data_size = 730 # 2 years\n",
        "split_percent = 0.90 # use 90 of the data  for train"
      ],
      "execution_count": 28,
      "outputs": []
    },
    {
      "cell_type": "code",
      "metadata": {
        "colab": {
          "base_uri": "https://localhost:8080/"
        },
        "id": "5Yd1C1a2BoAB",
        "outputId": "dc6ab327-819f-45b7-e73f-026d50309bd6"
      },
      "source": [
        "url = 'https://www.alphavantage.co/query?function=TIME_SERIES_DAILY_ADJUSTED&symbol='+ticker+'&outputsize=full&apikey=3F4URDEKOPLFH25T'\n",
        "print(url)\n",
        "stock_api_response = pd.read_json(url)\n",
        "stock_api_data = stock_api_response['Time Series (Daily)']\n",
        "#print(stock_api_data)\n",
        "stock_api_data = stock_api_data.drop(index=['1. Information','2. Symbol','3. Last Refreshed','4. Output Size','5. Time Zone']);\n",
        "#print(list(stock_api_data.items()))\n",
        "data = []\n",
        "lstm_data = []\n",
        "split_coefficient = 1\n",
        "\n",
        "for key, value in stock_api_data.items():\n",
        "  date = key\n",
        "  open = float(value.get('1. open'))\n",
        "  high = float(value.get('2. high'))\n",
        "  low = float(value.get('3. low'))\n",
        "  close = float(value.get('4. close'))\n",
        "  adjusted_close = float(value.get('5. adjusted close'))\n",
        "  volume = int(value.get('6. volume'))\n",
        "  divident = float(value.get('7. dividend amount'))\n",
        "\n",
        "  if float(value.get('8. split coefficient')) > 1:\n",
        "    split_coefficient = float(value.get('8. split coefficient'))\n",
        "    \n",
        "  open = open / split_coefficient\n",
        "  high = high /split_coefficient\n",
        "  close = close / split_coefficient\n",
        "  low = low / split_coefficient\n",
        "  \n",
        "  # 3 features\n",
        "  lstm_data.append([\n",
        "    close,\n",
        "    high - low,\n",
        "    volume\n",
        "  ])\n",
        "\n",
        "  data.append([\n",
        "      date,\n",
        "      close,\n",
        "      volume,\n",
        "      high,\n",
        "      low,\n",
        "      open,\n",
        "      divident\n",
        "      ])\n",
        "\n",
        "last_data =  str(data[0][0])\n",
        "\n",
        "if max_data_size < len(data):\n",
        "  data = np.flip(data[:max_data_size],axis=0)\n",
        "  lstm_data = np.flip(lstm_data[:max_data_size],axis=0)\n",
        "else:\n",
        "  data = np.flip(data,axis=0)\n",
        "  lstm_data = np.flip(lstm_data,axis=0)"
      ],
      "execution_count": 29,
      "outputs": [
        {
          "output_type": "stream",
          "name": "stdout",
          "text": [
            "https://www.alphavantage.co/query?function=TIME_SERIES_DAILY_ADJUSTED&symbol=QQQ&outputsize=full&apikey=3F4URDEKOPLFH25T\n"
          ]
        }
      ]
    },
    {
      "cell_type": "code",
      "metadata": {
        "colab": {
          "base_uri": "https://localhost:8080/"
        },
        "id": "9PtRy5TxC8BG",
        "outputId": "4d755be8-0861-4012-e89c-36b7daf51657"
      },
      "source": [
        "np.set_printoptions(formatter={'float': '{: 0.2f}'.format})\n",
        "print('data ===>', 'size:',len(data), 'max_data_size:', max_data_size, 'shape:', data.shape)\n",
        "print(data)\n",
        "print('lstm_data ===>', 'size:',len(lstm_data), 'max_data_size:', max_data_size, 'shape:', lstm_data.shape)\n",
        "print(lstm_data)"
      ],
      "execution_count": 30,
      "outputs": [
        {
          "output_type": "stream",
          "name": "stdout",
          "text": [
            "data ===> size: 730 max_data_size: 730 shape: (730, 7)\n",
            "[['2018-12-04' '165.72' '70594743' ... '165.52' '171.43' '0.0']\n",
            " ['2018-12-06' '166.89' '71715526' ... '161.77' '162.46' '0.0']\n",
            " ['2018-12-07' '161.38' '80432176' ... '160.86' '166.16' '0.0']\n",
            " ...\n",
            " ['2021-10-25' '377.93' '32597804' ... '373.56' '375.56' '0.0']\n",
            " ['2021-10-26' '379.12' '47191279' ... '377.905' '380.23' '0.0']\n",
            " ['2021-10-27' '380.0' '45760496' ... '379.31' '379.58' '0.0']]\n",
            "lstm_data ===> size: 730 max_data_size: 730 shape: (730, 3)\n",
            "[[ 165.72  6.39  70594743.00]\n",
            " [ 166.89  5.14  71715526.00]\n",
            " [ 161.38  6.26  80432176.00]\n",
            " ...\n",
            " [ 377.93  5.31  32597804.00]\n",
            " [ 379.12  4.81  47191279.00]\n",
            " [ 380.00  3.84  45760496.00]]\n"
          ]
        }
      ]
    },
    {
      "cell_type": "code",
      "metadata": {
        "id": "7BI3hlg-Ejtr"
      },
      "source": [
        "df = pd.DataFrame(data,columns=['Date','Close','Volume','High','Low','Open','Divident'])\n",
        "\n",
        "df['50MA'] = df['Close'].rolling(50).mean()\n",
        "df['100MA'] = df['Close'].rolling(100).mean()\n",
        "df['200MA'] = df['Close'].rolling(200).mean()\n",
        "\n",
        "split = int(split_percent*len(data))\n",
        "if len(data) - split < look_back:\n",
        "  split = look_back\n",
        "split\n",
        "#df.head()\n",
        "\n",
        "df_train = df.iloc[:split]\n",
        "df_test = df.iloc[split:]\n",
        "\n",
        "lstm_train_data = lstm_data[:split]\n",
        "lstm_test_data = lstm_data[split:]"
      ],
      "execution_count": 31,
      "outputs": []
    },
    {
      "cell_type": "code",
      "metadata": {
        "colab": {
          "base_uri": "https://localhost:8080/"
        },
        "id": "k4g3hz7tE5_l",
        "outputId": "f3c0cf9e-4292-4af9-94d1-e2da4c1c1af2"
      },
      "source": [
        "print('df_train ===>', 'size:',len(df_train),'shape:', df_train.shape)\n",
        "print(df_train.head())\n",
        "\n",
        "print('df_test ===>', 'size:',len(df_test),'shape:', df_test.shape)\n",
        "print(df_test.head())\n",
        "\n",
        "print('lstm_train_data ===>', 'size:',len(lstm_train_data), 'shape:', lstm_train_data.shape)\n",
        "print(lstm_train_data[:5])\n",
        "\n",
        "print('lstm_test_data ===>', 'size:',len(lstm_test_data), 'shape:', lstm_test_data.shape)\n",
        "print(lstm_test_data[:5])"
      ],
      "execution_count": 32,
      "outputs": [
        {
          "output_type": "stream",
          "name": "stdout",
          "text": [
            "df_train ===> size: 657 shape: (657, 10)\n",
            "         Date   Close    Volume    High  ... Divident 50MA 100MA  200MA\n",
            "0  2018-12-04  165.72  70594743  171.91  ...      0.0  NaN   NaN    NaN\n",
            "1  2018-12-06  166.89  71715526  166.91  ...      0.0  NaN   NaN    NaN\n",
            "2  2018-12-07  161.38  80432176  167.12  ...      0.0  NaN   NaN    NaN\n",
            "3  2018-12-10  163.07  73960758  163.78  ...      0.0  NaN   NaN    NaN\n",
            "4  2018-12-11  163.61  59058296  165.77  ...      0.0  NaN   NaN    NaN\n",
            "\n",
            "[5 rows x 10 columns]\n",
            "df_test ===> size: 73 shape: (73, 10)\n",
            "           Date   Close    Volume  ...      50MA     100MA      200MA\n",
            "657  2021-07-16   357.6  47261961  ...  341.4524  333.2582  318.57755\n",
            "658  2021-07-19  354.67  64404625  ...  341.9156  333.5636  318.96170\n",
            "659  2021-07-20  358.79  42183702  ...  342.4074  334.0232  319.34440\n",
            "660  2021-07-21  361.56  30259860  ...  343.1234  334.4974  319.78065\n",
            "661  2021-07-22  363.95  30252240  ...  343.8962  334.9010  320.19960\n",
            "\n",
            "[5 rows x 10 columns]\n",
            "lstm_train_data ===> size: 657 shape: (657, 3)\n",
            "[[ 165.72  6.39  70594743.00]\n",
            " [ 166.89  5.14  71715526.00]\n",
            " [ 161.38  6.26  80432176.00]\n",
            " [ 163.07  4.37  73960758.00]\n",
            " [ 163.61  3.54  59058296.00]]\n",
            "lstm_test_data ===> size: 73 shape: (73, 3)\n",
            "[[ 357.60  5.17  47261961.00]\n",
            " [ 354.67  3.14  64404625.00]\n",
            " [ 358.79  6.48  42183702.00]\n",
            " [ 361.56  3.44  30259860.00]\n",
            " [ 363.95  2.19  30252240.00]]\n"
          ]
        }
      ]
    }
  ]
}