{
  "cells": [
    {
      "cell_type": "markdown",
      "metadata": {
        "id": "view-in-github",
        "colab_type": "text"
      },
      "source": [
        "<a href=\"https://colab.research.google.com/github/graphtrek/stockforecast/blob/main/graphtrek_25.ipynb\" target=\"_parent\"><img src=\"https://colab.research.google.com/assets/colab-badge.svg\" alt=\"Open In Colab\"/></a>"
      ]
    },
    {
      "cell_type": "code",
      "execution_count": 3,
      "metadata": {
        "colab": {
          "base_uri": "https://localhost:8080/"
        },
        "id": "FqMCA9YoriWx",
        "outputId": "fee09ec2-e0f2-445f-abe2-05fe531f54df"
      },
      "outputs": [
        {
          "output_type": "stream",
          "name": "stdout",
          "text": [
            "Collecting yfinance\n",
            "  Downloading yfinance-0.1.69-py2.py3-none-any.whl (26 kB)\n",
            "Requirement already satisfied: pandas>=0.24 in /usr/local/lib/python3.7/dist-packages (from yfinance) (1.1.5)\n",
            "Requirement already satisfied: numpy>=1.15 in /usr/local/lib/python3.7/dist-packages (from yfinance) (1.19.5)\n",
            "Collecting requests>=2.26\n",
            "  Downloading requests-2.27.1-py2.py3-none-any.whl (63 kB)\n",
            "\u001b[K     |████████████████████████████████| 63 kB 1.1 MB/s \n",
            "\u001b[?25hRequirement already satisfied: multitasking>=0.0.7 in /usr/local/lib/python3.7/dist-packages (from yfinance) (0.0.10)\n",
            "Collecting lxml>=4.5.1\n",
            "  Downloading lxml-4.7.1-cp37-cp37m-manylinux_2_17_x86_64.manylinux2014_x86_64.manylinux_2_24_x86_64.whl (6.4 MB)\n",
            "\u001b[K     |████████████████████████████████| 6.4 MB 8.8 MB/s \n",
            "\u001b[?25hRequirement already satisfied: python-dateutil>=2.7.3 in /usr/local/lib/python3.7/dist-packages (from pandas>=0.24->yfinance) (2.8.2)\n",
            "Requirement already satisfied: pytz>=2017.2 in /usr/local/lib/python3.7/dist-packages (from pandas>=0.24->yfinance) (2018.9)\n",
            "Requirement already satisfied: six>=1.5 in /usr/local/lib/python3.7/dist-packages (from python-dateutil>=2.7.3->pandas>=0.24->yfinance) (1.15.0)\n",
            "Requirement already satisfied: charset-normalizer~=2.0.0 in /usr/local/lib/python3.7/dist-packages (from requests>=2.26->yfinance) (2.0.10)\n",
            "Requirement already satisfied: certifi>=2017.4.17 in /usr/local/lib/python3.7/dist-packages (from requests>=2.26->yfinance) (2021.10.8)\n",
            "Requirement already satisfied: idna<4,>=2.5 in /usr/local/lib/python3.7/dist-packages (from requests>=2.26->yfinance) (2.10)\n",
            "Requirement already satisfied: urllib3<1.27,>=1.21.1 in /usr/local/lib/python3.7/dist-packages (from requests>=2.26->yfinance) (1.24.3)\n",
            "Installing collected packages: requests, lxml, yfinance\n",
            "  Attempting uninstall: requests\n",
            "    Found existing installation: requests 2.23.0\n",
            "    Uninstalling requests-2.23.0:\n",
            "      Successfully uninstalled requests-2.23.0\n",
            "  Attempting uninstall: lxml\n",
            "    Found existing installation: lxml 4.2.6\n",
            "    Uninstalling lxml-4.2.6:\n",
            "      Successfully uninstalled lxml-4.2.6\n",
            "\u001b[31mERROR: pip's dependency resolver does not currently take into account all the packages that are installed. This behaviour is the source of the following dependency conflicts.\n",
            "google-colab 1.0.0 requires requests~=2.23.0, but you have requests 2.27.1 which is incompatible.\n",
            "datascience 0.10.6 requires folium==0.2.1, but you have folium 0.8.3 which is incompatible.\u001b[0m\n",
            "Successfully installed lxml-4.7.1 requests-2.27.1 yfinance-0.1.69\n",
            "Requirement already satisfied: plotly in /usr/local/lib/python3.7/dist-packages (4.4.1)\n",
            "Requirement already satisfied: six in /usr/local/lib/python3.7/dist-packages (from plotly) (1.15.0)\n",
            "Requirement already satisfied: retrying>=1.3.3 in /usr/local/lib/python3.7/dist-packages (from plotly) (1.3.3)\n",
            "Collecting ta\n",
            "  Downloading ta-0.9.0.tar.gz (25 kB)\n",
            "Requirement already satisfied: numpy in /usr/local/lib/python3.7/dist-packages (from ta) (1.19.5)\n",
            "Requirement already satisfied: pandas in /usr/local/lib/python3.7/dist-packages (from ta) (1.1.5)\n",
            "Requirement already satisfied: pytz>=2017.2 in /usr/local/lib/python3.7/dist-packages (from pandas->ta) (2018.9)\n",
            "Requirement already satisfied: python-dateutil>=2.7.3 in /usr/local/lib/python3.7/dist-packages (from pandas->ta) (2.8.2)\n",
            "Requirement already satisfied: six>=1.5 in /usr/local/lib/python3.7/dist-packages (from python-dateutil>=2.7.3->pandas->ta) (1.15.0)\n",
            "Building wheels for collected packages: ta\n",
            "  Building wheel for ta (setup.py) ... \u001b[?25l\u001b[?25hdone\n",
            "  Created wheel for ta: filename=ta-0.9.0-py3-none-any.whl size=28908 sha256=ca06bb12a6df2a62e584d70d66cf9987271a273b80785dc8b3b52d98e92ae49a\n",
            "  Stored in directory: /root/.cache/pip/wheels/72/78/64/cc1c01506a1010a9845e9bd7c69333730f7174661228ea4f98\n",
            "Successfully built ta\n",
            "Installing collected packages: ta\n",
            "Successfully installed ta-0.9.0\n",
            "Collecting paramiko\n",
            "  Downloading paramiko-2.9.2-py2.py3-none-any.whl (210 kB)\n",
            "\u001b[K     |████████████████████████████████| 210 kB 4.2 MB/s \n",
            "\u001b[?25hCollecting pynacl>=1.0.1\n",
            "  Downloading PyNaCl-1.5.0-cp36-abi3-manylinux_2_17_x86_64.manylinux2014_x86_64.manylinux_2_24_x86_64.whl (856 kB)\n",
            "\u001b[K     |████████████████████████████████| 856 kB 58.4 MB/s \n",
            "\u001b[?25hCollecting cryptography>=2.5\n",
            "  Downloading cryptography-36.0.1-cp36-abi3-manylinux_2_24_x86_64.whl (3.6 MB)\n",
            "\u001b[K     |████████████████████████████████| 3.6 MB 55.5 MB/s \n",
            "\u001b[?25hCollecting bcrypt>=3.1.3\n",
            "  Downloading bcrypt-3.2.0-cp36-abi3-manylinux_2_17_x86_64.manylinux2014_x86_64.manylinux_2_24_x86_64.whl (61 kB)\n",
            "\u001b[K     |████████████████████████████████| 61 kB 443 kB/s \n",
            "\u001b[?25hRequirement already satisfied: cffi>=1.1 in /usr/local/lib/python3.7/dist-packages (from bcrypt>=3.1.3->paramiko) (1.15.0)\n",
            "Requirement already satisfied: six>=1.4.1 in /usr/local/lib/python3.7/dist-packages (from bcrypt>=3.1.3->paramiko) (1.15.0)\n",
            "Requirement already satisfied: pycparser in /usr/local/lib/python3.7/dist-packages (from cffi>=1.1->bcrypt>=3.1.3->paramiko) (2.21)\n",
            "Installing collected packages: pynacl, cryptography, bcrypt, paramiko\n",
            "Successfully installed bcrypt-3.2.0 cryptography-36.0.1 paramiko-2.9.2 pynacl-1.5.0\n"
          ]
        }
      ],
      "source": [
        "# install necessary modules\n",
        "!pip install yfinance\n",
        "!pip install plotly\n",
        "!pip install ta\n",
        "!pip install paramiko"
      ]
    },
    {
      "cell_type": "code",
      "execution_count": 4,
      "metadata": {
        "id": "MIfXZ81VrrqB"
      },
      "outputs": [],
      "source": [
        "import os, time\n",
        "import yfinance as yf\n",
        "import requests\n",
        "import numpy as np\n",
        "import math\n",
        "import time\n",
        "import json\n",
        "import paramiko\n",
        "\n",
        "from pathlib import Path\n",
        "from datetime import datetime, timedelta\n",
        "\n",
        "import pandas as pd\n",
        "from pandas.tseries.holiday import USFederalHolidayCalendar\n",
        "from pandas.tseries.offsets import CustomBusinessDay\n",
        "\n",
        "from tensorflow import keras\n",
        "from keras.preprocessing.sequence import TimeseriesGenerator\n",
        "from tensorflow.keras.models import Sequential\n",
        "from tensorflow.keras.layers import LSTM\n",
        "from tensorflow.keras.optimizers import Adam\n",
        "from tensorflow.keras.losses import MAE\n",
        "from tensorflow.keras.layers import Dense, Dropout\n",
        "\n",
        "from sklearn.preprocessing import StandardScaler\n",
        "from sklearn.preprocessing import MinMaxScaler\n",
        "\n",
        "import plotly.graph_objects as go\n",
        "import plotly.express as px\n",
        "import plotly.graph_objects as go\n",
        "from plotly.subplots import make_subplots\n",
        "\n",
        "from matplotlib import pyplot as plt\n",
        "\n",
        "from ta.trend import MACD\n",
        "from ta.momentum import StochasticOscillator\n",
        "from ta.momentum import RSIIndicator\n",
        "\n",
        "\n",
        "from tabulate import tabulate\n",
        "from getpass import getpass"
      ]
    },
    {
      "cell_type": "code",
      "execution_count": 5,
      "metadata": {
        "id": "v8t0pC_m2bHB"
      },
      "outputs": [],
      "source": [
        "INFO = 1\n",
        "DEBUG = 2\n",
        "TRACE = 3\n",
        "print_level = DEBUG \n",
        "nr_of_features = 1\n",
        "look_forward = 1\n",
        "epochs = 120\n",
        "learning_rate=0.0042\n",
        "np.random.seed(42)\n",
        "look_back = 14 #  number of past days we want to use to predict 1 day in the future.\n",
        "split_percent = 0.90 # use 90% of the data  for train\n",
        "\n",
        "if look_back < 5:\n",
        "  num_prediction = look_back * 4\n",
        "else:\n",
        "  num_prediction = look_back * 2\n",
        "\n",
        "upload_chart = True\n",
        "#model_dir = \"/content/sample_data\"\n",
        "#chart_dir = \"/content/sample_data\"\n",
        "\n",
        "model_dir = \"/content/drive/MyDrive/models\"\n",
        "chart_dir = \"/content/drive/MyDrive/models/chart\"\n",
        "#model_dir = \"/home/nexys/tmp\"\n",
        "#chart_dir = \"/home/nexys/tmp\""
      ]
    },
    {
      "cell_type": "code",
      "execution_count": 6,
      "metadata": {
        "id": "0gidQucBDXx5",
        "colab": {
          "base_uri": "https://localhost:8080/"
        },
        "outputId": "7ffa2a22-904f-4607-bf81-db92219c9062"
      },
      "outputs": [
        {
          "name": "stdout",
          "output_type": "stream",
          "text": [
            "username:nexys\n",
            "password:··········\n"
          ]
        }
      ],
      "source": [
        "if upload_chart is True:\n",
        "    username = input(\"username:\") \n",
        "    password = getpass(\"password:\")\n",
        "else:\n",
        "    os.environ['CUDA_VISIBLE_DEVICES'] = '-1'"
      ]
    },
    {
      "cell_type": "code",
      "execution_count": 7,
      "metadata": {
        "id": "Z_pDmMSQ1Y1N"
      },
      "outputs": [],
      "source": [
        "def sftp(username,password,local_path,destination_path):\n",
        "  transport = paramiko.Transport((\"nexys.hu\", 22))\n",
        "  transport.connect(username = username, password = password)\n",
        "  sftp = paramiko.SFTPClient.from_transport(transport)\n",
        "  sftp.put(local_path, destination_path)\n",
        "  sftp.close()\n",
        "  transport.close()\n",
        "  return None"
      ]
    },
    {
      "cell_type": "code",
      "execution_count": 8,
      "metadata": {
        "id": "jyYPSEVcsEFj"
      },
      "outputs": [],
      "source": [
        "def get_stock_price(ticker, from_date):\n",
        "  df = yf.download(ticker.ticker, start=from_date, interval=\"1d\")\n",
        "  #df = df.rename(columns={\"Close\": \"Close1\", \"Adj Close\": \"Close\"})\n",
        "  \n",
        "  #ticker = yf.Ticker(symbol)\n",
        "\n",
        "  #df = ticker.history(start=from_date, interval=\"1d\")\n",
        "  #print(df.info())\n",
        "  df['Date'] = pd.to_datetime(df.index)\n",
        "  #df['Date'] = df['Date'].apply(mpl_dates.date2num)\n",
        "  #df = df.loc[:,['Date', 'Open', 'High', 'Low', 'Close']]\n",
        "  df['EMA21'] = df['Close'].ewm(span=21, adjust=False).mean()\n",
        "  df['MA20'] =  df['Close'].rolling(window=20).mean()\n",
        "  df['MA50'] = df['Close'].rolling(window=50).mean()\n",
        "  df['MA100'] = df['Close'].rolling(window=100).mean()\n",
        "  df['MA200'] = df['Close'].rolling(window=200).mean()\n",
        "  df['MA300'] = df['Close'].rolling(window=200).mean()\n",
        "  print('Get Stock Price', ticker.ticker, 'done.')\n",
        "  return df\n",
        "\n",
        "def is_support(df,i):\n",
        "  cond1 = df['Low'][i] < df['Low'][i-1] \n",
        "  cond2 = df['Low'][i] < df['Low'][i+1] \n",
        "  cond3 = df['Low'][i+1] < df['Low'][i+2] \n",
        "  cond4 = df['Low'][i-1] < df['Low'][i-2]\n",
        "  return (cond1 and cond2 and cond3 and cond4)\n",
        "\n",
        "def is_resistance(df,i):\n",
        "  cond1 = df['High'][i] > df['High'][i-1] \n",
        "  cond2 = df['High'][i] > df['High'][i+1] \n",
        "  cond3 = df['High'][i+1] > df['High'][i+2] \n",
        "  cond4 = df['High'][i-1] > df['High'][i-2]\n",
        "  return (cond1 and cond2 and cond3 and cond4)\n",
        "\n",
        "def is_far_from_level(value, levels, df):\n",
        "    ave =  np.mean(df['High'] - df['Low'])\n",
        "    return np.sum([abs(value - level) < ave for level in levels]) == 0\n",
        "\n",
        "def findNearestGreaterThan(searchVal, inputData):\n",
        "    diff = inputData - searchVal\n",
        "    diff[diff<0] = np.inf\n",
        "    idx = diff.argmin()\n",
        "    return inputData[idx]\n",
        "\n",
        "\n",
        "def findNearestLessThan(searchVal, inputData):\n",
        "    diff = inputData - searchVal\n",
        "    diff[diff>0] = -np.inf\n",
        "    idx = diff.argmax()\n",
        "    return inputData[idx]\n",
        "\n",
        "def indicators(chart_df):\n",
        "  # MACD\n",
        "  macd = MACD(close=chart_df['Close'], \n",
        "            window_slow=26,\n",
        "            window_fast=12, \n",
        "            window_sign=9)\n",
        "  # stochastics\n",
        "  stoch = StochasticOscillator(high=chart_df['High'],\n",
        "                             close=chart_df['Close'],\n",
        "                             low=chart_df['Low'],\n",
        "                             window=14, \n",
        "                             smooth_window=3)\n",
        "\n",
        "  rsi = RSIIndicator(close=chart_df['Close'], window=14)\n",
        "  return macd, stoch, rsi\n",
        "\n",
        "# custom function to set fill color\n",
        "def fillcol(label):\n",
        "  if label >= 1:\n",
        "    return 'rgba(0,250,0,0.4)'\n",
        "  else:\n",
        "    return 'rgba(250,0,0,0.4)'\n"
      ]
    },
    {
      "cell_type": "code",
      "execution_count": 9,
      "metadata": {
        "id": "cBDM1rHHKZSf"
      },
      "outputs": [],
      "source": [
        "def calculate_levels(chart_df,close_price):\n",
        "  levels = []\n",
        "  low = 0\n",
        "  high = np.round(chart_df['Close'].max(),1)\n",
        "  for i in range(2,len(chart_df)-2):\n",
        "    try:\n",
        "      if is_support(chart_df,i):\n",
        "        low = chart_df['Low'][i]\n",
        "      if is_far_from_level(low, levels, chart_df):\n",
        "        levels.append(low)\n",
        "      elif is_resistance(chart_df,i):\n",
        "        high = chart_df['High'][i]\n",
        "      if is_far_from_level(high, levels, chart_df):\n",
        "        levels.append(high)\n",
        "    except:\n",
        "      print('calculate_levels error')\n",
        "  levels = sorted(levels, reverse=True)\n",
        "\n",
        "  min_level = np.round(findNearestLessThan(close_price,levels),1)\n",
        "  if(min_level > close_price):\n",
        "    min_level = np.round(close_price * 0.8,1)\n",
        "\n",
        "  max_level = np.round(findNearestGreaterThan(close_price,levels),1)\n",
        "  if(max_level < close_price):\n",
        "    max_level = np.round(close_price * 1.2,1)\n",
        "\n",
        "  print('close_price',close_price,'min_level:',min_level,'max_level:', max_level)\n",
        "  return levels, min_level, max_level"
      ]
    },
    {
      "cell_type": "code",
      "execution_count": 18,
      "metadata": {
        "id": "R2FEIo4xTL-w"
      },
      "outputs": [],
      "source": [
        "def options_chain(ticker):\n",
        "\n",
        "    #tk = yf.Ticker(symbol)\n",
        "    # Expiration dates\n",
        "    exps = ticker.options\n",
        "\n",
        "    # Get options for each expiration\n",
        "    options = pd.DataFrame()\n",
        "    try:\n",
        "      for e in exps:\n",
        "          opt = ticker.option_chain(e)\n",
        "          opt = pd.DataFrame().append(opt.calls).append(opt.puts)\n",
        "          opt['expirationDate'] = e\n",
        "          options = options.append(opt, ignore_index=True)\n",
        "\n",
        "      # Bizarre error in yfinance that gives the wrong expiration date\n",
        "      # Add 1 day to get the correct expiration date\n",
        "      options['expirationDate'] = pd.to_datetime(options['expirationDate'])\n",
        "      options.insert(0,'dte',(options['expirationDate'] - datetime.today()).dt.days + 1)\n",
        "      options['expirationDate'] = options['expirationDate'].dt.date\n",
        "      # Boolean column if the option is a CALL x : True if (x > 10 and x < 20) else False\n",
        "      options.insert(1,'CALL',options['contractSymbol'].str[4:].apply(lambda x: \"C\" in x))\n",
        "      \n",
        "      options[['bid', \n",
        "              'ask', \n",
        "              'strike', \n",
        "              'lastPrice', \n",
        "              'volume',\n",
        "              'change',\n",
        "              'percentChange',\n",
        "              'openInterest',\n",
        "              'impliedVolatility']] = options[[\n",
        "                                    'bid', \n",
        "                                    'ask', \n",
        "                                    'strike',\n",
        "                                    'lastPrice',\n",
        "                                    'volume',\n",
        "                                    'change',\n",
        "                                    'percentChange',\n",
        "                                    'openInterest',\n",
        "                                    'impliedVolatility']].apply(pd.to_numeric)\n",
        "      \n",
        "      options['spread%'] = np.round(100 - ((options['bid'] / options['ask']) * 100),1) # Calculate the midpoint of the bid-ask\n",
        "      \n",
        "      # Drop unnecessary and meaningless columns\n",
        "      #options = options.drop(columns = ['contractSize', 'currency', 'change', 'percentChange', 'lastTradeDate', 'lastPrice'])\n",
        "      print('Get options',ticker.ticker,'done.')\n",
        "    except:\n",
        "      print('Get options',ticker.ticker,'error.')\n",
        "    return options"
      ]
    },
    {
      "cell_type": "code",
      "execution_count": 11,
      "metadata": {
        "id": "fbz2SVTOTwki"
      },
      "outputs": [],
      "source": [
        "def find_level_optionInterests(options_df,ticker,close_price,min_level,max_level, dte_min, dte_max):\n",
        "  options_df['impliedVolatility'] = np.round(options_df['impliedVolatility'],2)\n",
        "  options_df['percentChange'] = np.round(options_df['percentChange'],2)\n",
        "  #expirationDates = options_df['expirationDate'].unique()\n",
        "  #print(sorted(expirationDates))\n",
        "\n",
        "  #PUT_options_df = pd.DataFrame()\n",
        "  #CALL_options_df = pd.DataFrame()\n",
        "\n",
        "  #for key, value in options_df.items():\n",
        "  #  date = key\n",
        "  #  rsi = float(value.get('RSI'))\n",
        "  #  rsi_data.append([date,rsi])\n",
        "#  print('PUT OPTIONS', 'CLOSE PRICE:',close_price, 'SUPPORT -15%:', np.round(min_level * 0.85,2), 'RESISTANCE +15%:', np.round(max_level * 1.15,2))\n",
        "  PUT_options_df = options_df.query('CALL == False and strike>' + str(min_level * 0.85) + ' and strike<' + str(max_level * 1.15) + ' and dte>' + str(dte_min) + ' and dte<' + str(dte_max))\n",
        "  put_max_openInterest_index = PUT_options_df[\"openInterest\"].idxmax()\n",
        "  put_max_volume_index = PUT_options_df[\"volume\"].idxmax()\n",
        "  PUT_options_to_return_df = PUT_options_df.loc[put_max_openInterest_index:put_max_openInterest_index]\n",
        "  PUT_options_to_return_df = PUT_options_to_return_df.append(PUT_options_df.loc[put_max_volume_index:put_max_volume_index])\n",
        "  PUT_options_to_return_df = PUT_options_to_return_df.drop(columns = ['contractSize', 'currency','change','percentChange', 'lastTradeDate', 'lastPrice', 'inTheMoney','contractSymbol']) \n",
        "  \n",
        "#  print(tabulate(PUT_options_to_return_df, headers = 'keys', tablefmt = 'psql'))\n",
        "\n",
        "#  print('CALL OPTIONS', 'CLOSE PRICE:',close_price, 'SUPPORT -15%:', np.round(min_level * 0.85,2), 'RESISTANCE +15%:', np.round(max_level * 1.15,2))\n",
        "  CALL_options_df = options_df.query('CALL == True and strike>' + str(min_level * 0.85) + ' and strike<' + str(max_level * 1.15) + ' and dte>' + str(dte_min) + ' and dte<' + str(dte_max))\n",
        "  call_max_openInterest_index = CALL_options_df[\"openInterest\"].idxmax()\n",
        "  call_max_volume_index = CALL_options_df[\"volume\"].idxmax()\n",
        "  CALL_options_to_return_df = CALL_options_df.loc[call_max_openInterest_index:call_max_openInterest_index]\n",
        "  CALL_options_to_return_df = CALL_options_to_return_df.append(CALL_options_df.loc[call_max_volume_index:call_max_volume_index])\n",
        "  CALL_options_to_return_df = CALL_options_to_return_df.drop(columns = ['contractSize', 'currency', 'change','percentChange', 'lastTradeDate', 'lastPrice', 'inTheMoney','contractSymbol']) \n",
        "#  print(call_max_openInterest_index,tabulate(CALL_options_to_return_df, headers = 'keys', tablefmt = 'psql'))\n",
        "  return PUT_options_to_return_df, CALL_options_to_return_df"
      ]
    },
    {
      "cell_type": "code",
      "execution_count": 12,
      "metadata": {
        "id": "wenwA2Nr2GJw"
      },
      "outputs": [],
      "source": [
        "def predict(indicators_lstm_test_data_scaled, model):\n",
        "    prediction_list = indicators_lstm_test_data_scaled[-look_back:]\n",
        "    #print('prediction_list',prediction_list)\n",
        "    for _ in range(num_prediction):\n",
        "        x = prediction_list[-look_back:]\n",
        "        #print(x)\n",
        "        x = x.reshape((1, look_back, nr_of_features))\n",
        "        out = model.predict(x)\n",
        "        #print(x,out) \n",
        "        prediction_list = np.append(prediction_list, out, axis=0)\n",
        "    prediction_list = prediction_list[look_back-1:]\n",
        "        \n",
        "    return prediction_list\n",
        "    \n",
        "def predict_dates(last_date):\n",
        "    us_bd = CustomBusinessDay(calendar=USFederalHolidayCalendar())\n",
        "    prediction_dates = pd.date_range(last_date, periods=num_prediction+1,freq=us_bd).tolist()\n",
        "    return prediction_dates"
      ]
    },
    {
      "cell_type": "code",
      "execution_count": 13,
      "metadata": {
        "id": "yWmRs8WSrtxq"
      },
      "outputs": [],
      "source": [
        "def get_prediction_data(df,ticker):\n",
        "\n",
        "  indicators_model_file_path = model_dir + '/' + ticker.ticker + '_' + str(look_back) + '_' + str(nr_of_features) + '_indicators_10.h5'\n",
        "  \n",
        "  indicators_model = None\n",
        "  try:\n",
        "    indicators_model = keras.models.load_model(indicators_model_file_path)\n",
        "    #modified = os.path.getmtime(indicators_model_file_path)\n",
        "\n",
        "    #print(pd.to_datetime(last_date).date() - datetime.fromtimestamp(modified).date() )\n",
        "    #print('Loaded', indicators_model_file_path , ' model train date:',datetime.fromtimestamp(modified).date() , 'last date:', last_date)\n",
        "  except:\n",
        "    indicators_model = None\n",
        "    print('Model ' + indicators_model_file_path + ' does not exists.')\n",
        "\n",
        "  indicators_lstm_data = np.expand_dims(df['RSI'].values.copy()[look_back:], axis=1).astype(float)\n",
        "  split = int(split_percent*len(indicators_lstm_data))\n",
        " \n",
        "  indicators_scaler = MinMaxScaler(feature_range=(0, 1))\n",
        "  indicators_scaler = indicators_scaler.fit(indicators_lstm_data)\n",
        "\n",
        "  indicators_lstm_train_data = indicators_lstm_data[:split]\n",
        "  indicators_lstm_test_data = indicators_lstm_data[split:]\n",
        "  \n",
        "  indicators_lstm_train_data_scaled = indicators_scaler.transform(indicators_lstm_train_data)\n",
        "#  print(indicators_lstm_train_data_scaled[:look_back*2])\n",
        "#  print(indicators_lstm_train_data_scaled.shape)\n",
        "  \n",
        "  indicators_lstm_test_data_scaled = indicators_scaler.transform(indicators_lstm_test_data)\n",
        "#  print(indicators_lstm_test_data_scaled[:look_back+1])\n",
        "#  print(indicators_lstm_test_data_scaled.shape)\n",
        "\n",
        "  indicators_train_generator = TimeseriesGenerator(indicators_lstm_train_data_scaled, indicators_lstm_train_data_scaled, sampling_rate=1, length=look_back, batch_size=64)\n",
        "\n",
        "  if indicators_model is None:\n",
        "    indicators_model = Sequential()\n",
        "    indicators_model.add(LSTM(units=42, activation='tanh', input_shape=(look_back, nr_of_features), return_sequences=True))\n",
        "    indicators_model.add(Dropout(0.2))\n",
        "    indicators_model.add(LSTM(units=42, return_sequences=True, activation=\"relu\"))\n",
        "    indicators_model.add(Dropout(0.2))\n",
        "    indicators_model.add(LSTM(units=42, return_sequences=True, activation=\"relu\"))\n",
        "    indicators_model.add(Dropout(0.2))\n",
        "    indicators_model.add(LSTM(units=42, activation=\"tanh\"))\n",
        "    indicators_model.add(Dropout(0.2))\n",
        "    indicators_model.add(Dense(nr_of_features))\n",
        "\n",
        "    indicators_model.compile(\n",
        "      loss=MAE,\n",
        "      optimizer=Adam(learning_rate=learning_rate),\n",
        "      metrics=['mae','mse']\n",
        "    )\n",
        "    \n",
        "    #indicators_model.summary()\n",
        "    print('Model ' + indicators_model_file_path + ' compiled.')\n",
        "\n",
        "    indicators_modelo = indicators_model.fit(indicators_train_generator, epochs=epochs, verbose=0 )\n",
        "  \n",
        "    indicators_model.save(indicators_model_file_path)\n",
        "    print('Saved model ' + indicators_model_file_path)\n",
        "\n",
        "  \n",
        "    plt.plot(indicators_modelo.history['loss'])\n",
        "    plt.xlabel('Epochs')\n",
        "    plt.ylabel('Loss')\n",
        "    plt.show()\n",
        "\n",
        "  indicators_test_generator = TimeseriesGenerator(indicators_lstm_test_data_scaled, indicators_lstm_test_data_scaled,sampling_rate=1, length=look_back, batch_size=32)\n",
        "  #Make test prediction\n",
        "  indicators_test_prediction_scaled = indicators_model.predict(indicators_test_generator)\n",
        "  indicators_test_prediction = indicators_scaler.inverse_transform(indicators_test_prediction_scaled)\n",
        "  indicators_test_prediction = indicators_test_prediction.reshape((-1))\n",
        "\n",
        "  #Make future prediction\n",
        "  indicators_prediction_scaled = predict(indicators_lstm_test_data_scaled, indicators_model)\n",
        "  indicators_prediction = indicators_scaler.inverse_transform(indicators_prediction_scaled.reshape((-1,nr_of_features)))\n",
        "  indicators_prediction = indicators_prediction.reshape((-1))\n",
        "  print('Get prediction data',ticker.ticker,'done.')\n",
        "  return indicators_test_prediction, indicators_prediction"
      ]
    },
    {
      "cell_type": "code",
      "execution_count": 14,
      "metadata": {
        "id": "J7OfhcBQcjCf"
      },
      "outputs": [],
      "source": [
        "def get_news(ticker):\n",
        "  news_data = []\n",
        "  try:\n",
        "    for headline in ticker.news:\n",
        "      providerPublishTime = datetime.fromtimestamp((headline['providerPublishTime'])).strftime('%Y-%m-%d %H:%M:%S')\n",
        "      link = '<a href=\"'+ headline['link']+'\">' + headline['title'] + '</a>'\n",
        "      publisher = headline['publisher'] \n",
        "      news_data.append([providerPublishTime,publisher,link])\n",
        "    print('Get news',ticker.ticker,'done.')  \n",
        "  except Exception as e:\n",
        "    print('Get news',ticker.ticker,'error.')\n",
        "  news_df = pd.DataFrame(news_data, columns=['Time','Publisher', 'Title'])\n",
        "  return news_df"
      ]
    },
    {
      "cell_type": "code",
      "execution_count": 15,
      "metadata": {
        "id": "VwTC2GoXyotk"
      },
      "outputs": [],
      "source": [
        "def get_earning(ticker):\n",
        "  earning_date = None\n",
        "  if ticker.calendar is not None:\n",
        "    try:\n",
        "      print(ticker.calendar.iloc[0])\n",
        "      earning_date = ticker.calendar.iloc[0][0]\n",
        "      print('Get calendar',ticker.ticker,'done.')\n",
        "    except Exception as e:\n",
        "      print('Get calendar',ticker.ticker,'error.')\n",
        "  return earning_date"
      ]
    },
    {
      "cell_type": "code",
      "execution_count": 22,
      "metadata": {
        "id": "__5S41Y6xHQr"
      },
      "outputs": [],
      "source": [
        "def get_chart(ticker, df, indicators_test_prediction, indicators_prediction, news_df):\n",
        "  days = 365\n",
        "  last_day_df = df[-1:]\n",
        "  last_date = last_day_df['Date'].index[0].date()\n",
        "  close_price = np.round(last_day_df['Close'][0],1)\n",
        "\n",
        "  ath = np.round(df['Close'].max(),1)\n",
        "  discount = np.round(ath - close_price,1)\n",
        "  discount_percent = np.round((discount / close_price) * 100, 1)\n",
        "  \n",
        "  chart_df = df.tail(days)\n",
        "\n",
        "  levels, min_level, max_level = calculate_levels(df,close_price)\n",
        "\n",
        "  min_level_0_85 = np.round(min_level * 0.85,2)\n",
        "  min_level_0_85_discount = np.round(min_level_0_85 - close_price)\n",
        "  min_level_0_85_discount_percent =  np.round((min_level_0_85_discount / close_price) * 100, 1)\n",
        "\n",
        "  max_level_1_15 = np.round(max_level * 1.15,2)\n",
        "  max_level_1_15_discount = np.round(max_level_1_15 - close_price)\n",
        "  max_level_1_15_discount_percent = np.round((max_level_1_15_discount / close_price) * 100, 1)\n",
        "\n",
        "  options_df = pd.DataFrame()\n",
        "  all_options_df = options_chain(ticker)\n",
        "  if all_options_df.size > 0:\n",
        "    near_PUT_options_df, near_CALL_options_df = find_level_optionInterests(all_options_df,ticker,close_price,min_level_0_85,max_level_1_15, -1, 33)\n",
        "    far_PUT_options_df, far_CALL_options_df = find_level_optionInterests(all_options_df,ticker,close_price,min_level_0_85,max_level_1_15, 33, 333)\n",
        "\n",
        "    options_df = options_df.append(near_PUT_options_df)\n",
        "    options_df = options_df.append(far_PUT_options_df)\n",
        "    options_df = options_df.append(near_CALL_options_df)\n",
        "    options_df = options_df.append(far_CALL_options_df)\n",
        "    options_df.insert(3,'Price',close_price)\n",
        "    options_df = options_df.sort_values(by=['dte'])\n",
        "\n",
        "  min_level_discount = np.round(min_level - close_price)\n",
        "  min_level_discount_percent = np.round((min_level_discount / close_price) * 100, 1)\n",
        "  \n",
        "  max_level_discount = np.round(max_level - close_price)\n",
        "  max_level_discount_percent = np.round((max_level_discount / close_price) * 100, 1)\n",
        "  \n",
        "  tradingview_link = '<a href=\"https://in.tradingview.com/chart/66XmQfYy/?symbol=' + ticker.ticker +'\">' +  ticker.ticker + ' ' + str(last_date)  +'</a> '\n",
        "  seeking_alpha_link = '<a href=\"https://seekingalpha.com/symbol/'+ ticker.ticker +'\"> Seeking Alpha </a> '\n",
        "  google_news_link = '<a href=\"https://news.google.com/search?for=' + ticker.ticker + '+stock when:7d&hl=en-US&gl=US&ceid=US%3Aen\"> Google News </a> '\n",
        "#  twitter_link = '<a href=\"https://twitter.com/search?q=$' + ticker.ticker + '%20stock&src=typed_query&f=live\"> Twitter </a> '\n",
        "\n",
        "  title = '<b>' + tradingview_link + '</b> ' + seeking_alpha_link + google_news_link + '<b style=\"color:red\">Earning:' + str(get_earning(ticker)) + '</b>'\n",
        "  title += '<br>'\n",
        "  title += '<b>Last Price:</b>' + str(close_price) + ' <b>ATH:</b>' + str(ath) + ' <b>Discount:</b>' + str(discount) + ' (' + str(discount_percent) + '%)'\n",
        "  title += '<br>'\n",
        "  title += '<b>Support:</b>' + str(min_level) + ' ('+str(min_level_discount_percent)+'%) ' \n",
        "  title += '<b>Last Price:</b>' + str(close_price) + ' ' \n",
        "  title += '<b>Resistance:</b>' + str(max_level) + ' ('+str(max_level_discount_percent)+'%) '\n",
        "  title += '<br>' \n",
        "  title += '<b>Support -15%:</b>' + str(min_level_0_85) + ' (' + str(min_level_0_85_discount_percent) + '%) '\n",
        "  title += '<b>Last Price:</b>' + str(close_price) + ' ' \n",
        "  title += '<b>Resistance +15%:</b>' + str(max_level_1_15) + ' (' + str(max_level_1_15_discount_percent) +  '%) '\n",
        "\n",
        "\n",
        "  # add subplot properties when initiliazing fig variable\n",
        "  if news_df is not None: \n",
        "    fig = make_subplots(rows=6, cols=1, shared_xaxes=True,\n",
        "                      vertical_spacing=0.012, \n",
        "                      row_heights=[0.30,0.05,0.10,0.158,0.10,0.27],\n",
        "                      subplot_titles=[title],\n",
        "                      specs=[\n",
        "                            [{\"type\": \"candlestick\"}],\n",
        "                            [{\"type\": \"bar\"}],\n",
        "                            [{\"type\": \"scatter\"}],\n",
        "                            [{\"type\": \"table\"}],\n",
        "                            [{\"type\": \"scatter\"}],\n",
        "                            [{\"type\": \"table\"}]\n",
        "                            ])\n",
        "  else:\n",
        "    fig = make_subplots(rows=5, cols=1, shared_xaxes=True,\n",
        "                      vertical_spacing=0.012, \n",
        "                      row_heights=[0.37,0.05,0.2,0.158,0.20],\n",
        "                      subplot_titles=[title],\n",
        "                      specs=[\n",
        "                            [{\"type\": \"candlestick\"}],\n",
        "                            [{\"type\": \"bar\"}],\n",
        "                            [{\"type\": \"scatter\"}],\n",
        "                            [{\"type\": \"table\"}],\n",
        "                            [{\"type\": \"scatter\"}]\n",
        "                            ])\n",
        "\n",
        "\n",
        "  candlestick_row = 1\n",
        "  volume_row = 2\n",
        "  table_row = 4\n",
        "  rsi_row = 3\n",
        "  macd_row = 5\n",
        "  news_row = 6\n",
        "  \n",
        "\n",
        "  fig.update_layout(\n",
        "      height=1400, width=1200, \n",
        "      showlegend=True,\n",
        "      dragmode= 'pan',\n",
        "      margin=go.layout.Margin(\n",
        "          l=20, #left margin\n",
        "          r=20, #right margin\n",
        "          b=20, #bottom margin\n",
        "          t=100  #top margin\n",
        "      ))\n",
        "\n",
        "  fig.update_annotations({'font': {'size': 12}}) \n",
        "\n",
        "  # Options Table \n",
        "  fig.add_trace(\n",
        "      go.Table(\n",
        "        header=dict(values=list(options_df.columns),\n",
        "                fill_color='paleturquoise',\n",
        "                font=dict(color='black', size=12),\n",
        "                align='left'),\n",
        "        cells=dict(values=options_df.transpose().values.tolist(),\n",
        "               fill_color='lavender',\n",
        "               align='left')\n",
        "        ),row=table_row, col=1)\n",
        "\n",
        "  # News table\n",
        "  if news_df is not None:\n",
        "    fig.add_trace(\n",
        "      go.Table(\n",
        "            columnwidth = [80,80,400],  \n",
        "            header=dict(values=list(news_df.columns),\n",
        "                  fill_color='paleturquoise',\n",
        "                  align='left'),\n",
        "            cells=dict(values=[news_df.Time, news_df.Publisher, news_df.Title],\n",
        "                fill_color='lavender',\n",
        "                align='left')\n",
        "        ),\n",
        "      row=news_row, \n",
        "      col=1)\n",
        "\n",
        "\n",
        "  # Plot RSI trace \n",
        "  fig.add_trace(go.Scatter(x=chart_df.index,\n",
        "                          y=chart_df['RSI'],\n",
        "                          line=dict(color='royalblue', width=2),\n",
        "                          name='RSI(14)'\n",
        "                          ), row=rsi_row, col=1)\n",
        "  if indicators_test_prediction is not None and indicators_prediction is not None:\n",
        "    fig.add_trace(go.Scatter(x=chart_df['Date'].tail(len(indicators_test_prediction)),\n",
        "                          y = indicators_test_prediction,\n",
        "                          line=dict(color='firebrick', width=3, dash = 'dash'),\n",
        "                          name='RSI(14) Test Predict'\n",
        "                          ), row=rsi_row, col=1)\n",
        "  \n",
        "    indicators_prediction_dates = predict_dates(last_date)\n",
        "    fig.add_trace(go.Scatter(x=indicators_prediction_dates,\n",
        "                          y = indicators_prediction,\n",
        "                          line=dict(color='firebrick', width=3, dash = 'dot'),\n",
        "                          name='RSI(14) Future Predict'\n",
        "                          ), row=rsi_row, col=1)\n",
        " \n",
        "\n",
        "  fig.add_trace(go.Scatter(\n",
        "          x = [np.min(chart_df.index), np.max(chart_df.index)],\n",
        "          y = [70, 70],\n",
        "          mode = \"lines\",\n",
        "          line = dict(shape = 'linear', color = 'rgb(100, 10, 100)', dash = 'dash'),\n",
        "          name = 'RSI(14) over bought'\n",
        "      ),row=rsi_row, col=1)\n",
        "\n",
        "  fig.add_trace(go.Scatter(\n",
        "          x = [np.min(chart_df.index), np.max(chart_df.index)],\n",
        "          y = [50, 50],\n",
        "          mode = \"lines\",\n",
        "          line = dict(shape = 'linear', color = 'rgb(10, 12, 240)', dash = 'dash'),\n",
        "          name='RSI(14) Neutral'\n",
        "      ),row=rsi_row, col=1)\n",
        "\n",
        "  fig.add_trace(go.Scatter(\n",
        "          x = [np.min(chart_df.index), np.max(chart_df.index)],\n",
        "          y = [30, 30],\n",
        "          mode = \"lines\",\n",
        "          line = dict(shape = 'linear', color = 'rgb(10, 120, 24)', dash = 'dash'),\n",
        "          name='RSI(14) over sold'\n",
        "      ),row=rsi_row, col=1)\n",
        "\n",
        "\n",
        "  # Plot OHLC on 3st subplot (using the codes from before)\n",
        "  fig.add_trace(go.Candlestick(x=chart_df.index,\n",
        "                             open=chart_df['Open'],\n",
        "                             high=chart_df['High'],\n",
        "                             low=chart_df['Low'],\n",
        "                             close=chart_df['Close'], \n",
        "                             name=ticker.ticker,\n",
        "                             showlegend=True), row=candlestick_row, col=1)\n",
        "  \n",
        "\n",
        "  # add moving average traces\n",
        "  fig.add_trace(go.Scatter(x=chart_df.index, \n",
        "                         y=chart_df['MA20'], \n",
        "                         line=dict(color='lightgreen', width=2),\n",
        "                         fill=None,\n",
        "                         mode='lines',\n",
        "                         name='MA 20'), row=candlestick_row, col=1)\n",
        "  fig.add_trace(go.Scatter(x=chart_df.index, \n",
        "                         y=chart_df['EMA21'], \n",
        "                         fill='tonexty',\n",
        "                         mode='lines',\n",
        "                         line=dict(color='green', width=2), \n",
        "                         name='EMA 21'), row=candlestick_row, col=1)\n",
        "  fig.add_trace(go.Scatter(x=chart_df.index, \n",
        "                         y=chart_df['MA50'], \n",
        "                         line=dict(color='blue', width=2), \n",
        "                         name='MA 50'), row=candlestick_row, col=1)\n",
        "  fig.add_trace(go.Scatter(x=chart_df.index, \n",
        "                         y=chart_df['MA100'], \n",
        "                         line=dict(color='orange', width=2), \n",
        "                         name='MA 100'), row=candlestick_row, col=1)\n",
        "  fig.add_trace(go.Scatter(x=chart_df.index, \n",
        "                         y=chart_df['MA200'], \n",
        "                         line=dict(color='red', width=2), \n",
        "                         name='MA 200'), row=candlestick_row, col=1)\n",
        "  fig.add_trace(go.Scatter(x=chart_df.index, \n",
        "                         y=chart_df['MA300'], \n",
        "                         line=dict(color='black', width=2), \n",
        "                         name='MA 300'), row=candlestick_row, col=1)\n",
        "\n",
        "\n",
        "  start_date = \"2021-06-01\"\n",
        "  end_date = \"2022-01-31\"\n",
        "  #zoom_df = chart_df.iloc['Date' >= start_date]\n",
        "  \n",
        "  zoom_df = chart_df[chart_df.Date >= start_date]\n",
        "  y_zoom_max = zoom_df[\"High\"].max()\n",
        "  y_zoom_min = zoom_df[\"Low\"].min()\n",
        "\n",
        "  ath_percent = 0\n",
        "  \n",
        "  for idx, level in  enumerate(levels):\n",
        "      percent = 0\n",
        "      if idx == 0:\n",
        "        ath = level\n",
        "      current_level = level\n",
        "      if idx > 0:\n",
        "        prev_level = levels[idx-1]\n",
        "        diff = prev_level - current_level\n",
        "        ath_diff = ath - current_level\n",
        "        percent = (diff / current_level) * 100\n",
        "        ath_percent =  (ath_diff / current_level) * 100\n",
        "      if level <= (min_level * 0.98) or level >= (max_level * 1.02):\n",
        "        line_color = 'rgba(100, 10, 100, 0.2)'\n",
        "        line_fill=None\n",
        "      else:\n",
        "        line_color = 'rgba(128,128,128,1)'\n",
        "        line_fill='tonexty'\n",
        "      fig.add_trace(go.Scatter(\n",
        "          x = [chart_df.index.min(), chart_df.index.max()],\n",
        "          y = [level, level],\n",
        "          mode=\"lines+text\",\n",
        "          name=\"Lines and Text\",\n",
        "          fill=line_fill,\n",
        "          showlegend=False,\n",
        "          text=['','$' + str(np.round(current_level,1)) + ' (' + str(np.round(percent,1)) + '% disc:' + str(np.round(ath_percent,1))+ '%)',''],\n",
        "          textposition=\"top right\",\n",
        "          line = dict(shape = 'linear', color = line_color, dash = 'dash', width=1)\n",
        "        ), row=candlestick_row, col=1)\n",
        "\n",
        "\n",
        "  # Plot volume trace on 4d row \n",
        "  colors = ['green' if row['Open'] - row['Close'] >= 0 \n",
        "            else 'red' for index, row in chart_df.iterrows()]\n",
        "  fig.add_trace(go.Bar(x=chart_df.index, \n",
        "                      y=chart_df['Volume'],\n",
        "                      marker_color=colors,\n",
        "                      name='Volume'\n",
        "                      ), row=volume_row, col=1)\n",
        "\n",
        "\n",
        "  # Plot MACD trace on 5rd row\n",
        "  colors = ['green' if val >= 0 \n",
        "            else '#FF5733' for val in macd.macd_diff()]\n",
        "  fig.add_trace(go.Bar(x=chart_df.index, \n",
        "                      y=chart_df['MACD_DIFF'],\n",
        "                      marker_color=colors,\n",
        "                      name='MACD diff'\n",
        "                      ), row=macd_row, col=1)\n",
        "  fig.add_trace(go.Scatter(x=chart_df.index,\n",
        "                          y=chart_df['MACD'],\n",
        "                          line=dict(color='green', width=2),\n",
        "                          name='MACD'\n",
        "                          ), row=macd_row, col=1)\n",
        "  fig.add_trace(go.Scatter(x=chart_df.index,\n",
        "                          y=chart_df['MACD_SIGNAL'],\n",
        "                          line=dict(color='red', width=1),\n",
        "                          name='MACD signal'\n",
        "                          ), row=macd_row, col=1)\n",
        "\n",
        "  fig.update_layout(xaxis_rangeslider_visible=False)\n",
        "  fig.update_xaxes(type=\"date\", range=[start_date, end_date])\n",
        "  fig.update_yaxes(range=[y_zoom_min,y_zoom_max], row=candlestick_row, col=1)\n",
        "  fig.update_yaxes(showspikes=True, spikemode='across', spikesnap='cursor',spikedash='dash')\n",
        "  fig.update_xaxes(showspikes=True, spikemode='across', spikesnap='cursor', spikedash='dash')\n",
        "\n",
        "  folder= chart_dir + '/'+ str(last_date)\n",
        "  Path(folder).mkdir(parents=True, exist_ok=True)\n",
        "  chartPath = folder + '/' + ticker.ticker + '.html'\n",
        "  print('Chart saved:', chartPath)\n",
        "  fig.write_html(chartPath)\n",
        "\n",
        "  print('Get chart',ticker.ticker,'done.') \n",
        "  return fig, chartPath, last_date"
      ]
    },
    {
      "cell_type": "code",
      "execution_count": 24,
      "metadata": {
        "colab": {
          "base_uri": "https://localhost:8080/",
          "height": 1000
        },
        "id": "3tsG8hRUQH8Y",
        "outputId": "c441ef7e-2418-4ba7-cc73-de05892385be"
      },
      "outputs": [
        {
          "output_type": "stream",
          "name": "stdout",
          "text": [
            "\r[*********************100%***********************]  1 of 1 completed\n",
            "Get Stock Price TQQQ done.\n",
            "Get prediction data TQQQ done.\n",
            "Get options TQQQ done.\n"
          ]
        },
        {
          "output_type": "stream",
          "name": "stderr",
          "text": [
            "/usr/local/lib/python3.7/dist-packages/ipykernel_launcher.py:243: RuntimeWarning:\n",
            "\n",
            "divide by zero encountered in double_scalars\n",
            "\n",
            "/usr/local/lib/python3.7/dist-packages/ipykernel_launcher.py:244: RuntimeWarning:\n",
            "\n",
            "divide by zero encountered in double_scalars\n",
            "\n"
          ]
        },
        {
          "output_type": "stream",
          "name": "stdout",
          "text": [
            "Chart saved: /content/drive/MyDrive/models/chart/2022-01-18/TQQQ.html\n",
            "Get chart TQQQ done.\n"
          ]
        },
        {
          "output_type": "display_data",
          "data": {
            "text/html": [
              "<html>\n",
              "<head><meta charset=\"utf-8\" /></head>\n",
              "<body>\n",
              "    <div>\n",
              "            <script src=\"https://cdnjs.cloudflare.com/ajax/libs/mathjax/2.7.5/MathJax.js?config=TeX-AMS-MML_SVG\"></script><script type=\"text/javascript\">if (window.MathJax) {MathJax.Hub.Config({SVG: {font: \"STIX-Web\"}});}</script>\n",
              "                <script type=\"text/javascript\">window.PlotlyConfig = {MathJaxConfig: 'local'};</script>\n",
              "        <script src=\"https://cdn.plot.ly/plotly-latest.min.js\"></script>    \n",
              "            <div id=\"b522fc63-3340-4bf1-a4d0-1ef17ab233db\" class=\"plotly-graph-div\" style=\"height:1400px; width:1200px;\"></div>\n",
              "            <script type=\"text/javascript\">\n",
              "                \n",
              "                    window.PLOTLYENV=window.PLOTLYENV || {};\n",
              "                    \n",
              "                if (document.getElementById(\"b522fc63-3340-4bf1-a4d0-1ef17ab233db\")) {\n",
              "                    Plotly.newPlot(\n",
              "                        'b522fc63-3340-4bf1-a4d0-1ef17ab233db',\n",
              "                        [{\"cells\": {\"align\": \"left\", \"fill\": {\"color\": \"lavender\"}, \"values\": [[3, 3, 3, 3, 38, 59, 59, 150], [false, false, true, true, false, true, true, false], [47.5, 68.0, 78.0, 68.0, 50.0, 85.0, 85.0, 60.0], [66.7, 66.7, 66.7, 66.7, 66.7, 66.7, 66.7, 66.7], [0.01, 2.86, 0.07, 1.62, 1.62, 1.5, 1.5, 9.3], [0.04, 3.2, 0.1, 1.74, 1.86, 1.7, 1.7, 9.75], [230.0, 13419.0, 1426.0, 65622.0, 1679.0, 935.0, 935.0, 48.0], [29401.0, 1051.0, 32307.0, 220.0, 248.0, 3867.0, 3867.0, 10729.0], [1.38, 0.82, 0.82, 0.81, 0.96, 0.61, 0.61, 0.78], [\"2022-01-21\", \"2022-01-21\", \"2022-01-21\", \"2022-01-21\", \"2022-02-25\", \"2022-03-18\", \"2022-03-18\", \"2022-06-17\"], [75.0, 10.6, 30.0, 6.9, 12.9, 11.8, 11.8, 4.6]]}, \"domain\": {\"x\": [0.0, 1.0], \"y\": [0.2066830265848671, 0.3604826175869121]}, \"header\": {\"align\": \"left\", \"fill\": {\"color\": \"paleturquoise\"}, \"font\": {\"color\": \"black\", \"size\": 12}, \"values\": [\"dte\", \"CALL\", \"strike\", \"Price\", \"bid\", \"ask\", \"volume\", \"openInterest\", \"impliedVolatility\", \"expirationDate\", \"spread%\"]}, \"type\": \"table\"}, {\"line\": {\"color\": \"royalblue\", \"width\": 2}, \"name\": \"RSI(14)\", \"type\": \"scatter\", \"x\": [\"2020-08-07T00:00:00\", \"2020-08-10T00:00:00\", \"2020-08-11T00:00:00\", \"2020-08-12T00:00:00\", \"2020-08-13T00:00:00\", \"2020-08-14T00:00:00\", \"2020-08-17T00:00:00\", \"2020-08-18T00:00:00\", \"2020-08-19T00:00:00\", \"2020-08-20T00:00:00\", \"2020-08-21T00:00:00\", \"2020-08-24T00:00:00\", \"2020-08-25T00:00:00\", \"2020-08-26T00:00:00\", \"2020-08-27T00:00:00\", \"2020-08-28T00:00:00\", \"2020-08-31T00:00:00\", \"2020-09-01T00:00:00\", \"2020-09-02T00:00:00\", \"2020-09-03T00:00:00\", \"2020-09-04T00:00:00\", \"2020-09-08T00:00:00\", \"2020-09-09T00:00:00\", \"2020-09-10T00:00:00\", \"2020-09-11T00:00:00\", \"2020-09-14T00:00:00\", \"2020-09-15T00:00:00\", \"2020-09-16T00:00:00\", \"2020-09-17T00:00:00\", \"2020-09-18T00:00:00\", \"2020-09-21T00:00:00\", \"2020-09-22T00:00:00\", \"2020-09-23T00:00:00\", \"2020-09-24T00:00:00\", \"2020-09-25T00:00:00\", \"2020-09-28T00:00:00\", \"2020-09-29T00:00:00\", \"2020-09-30T00:00:00\", \"2020-10-01T00:00:00\", \"2020-10-02T00:00:00\", \"2020-10-05T00:00:00\", \"2020-10-06T00:00:00\", \"2020-10-07T00:00:00\", \"2020-10-08T00:00:00\", \"2020-10-09T00:00:00\", \"2020-10-12T00:00:00\", \"2020-10-13T00:00:00\", \"2020-10-14T00:00:00\", \"2020-10-15T00:00:00\", \"2020-10-16T00:00:00\", \"2020-10-19T00:00:00\", \"2020-10-20T00:00:00\", \"2020-10-21T00:00:00\", \"2020-10-22T00:00:00\", \"2020-10-23T00:00:00\", \"2020-10-26T00:00:00\", \"2020-10-27T00:00:00\", \"2020-10-28T00:00:00\", \"2020-10-29T00:00:00\", \"2020-10-30T00:00:00\", \"2020-11-02T00:00:00\", \"2020-11-03T00:00:00\", \"2020-11-04T00:00:00\", \"2020-11-05T00:00:00\", \"2020-11-06T00:00:00\", \"2020-11-09T00:00:00\", \"2020-11-10T00:00:00\", \"2020-11-11T00:00:00\", \"2020-11-12T00:00:00\", \"2020-11-13T00:00:00\", \"2020-11-16T00:00:00\", \"2020-11-17T00:00:00\", \"2020-11-18T00:00:00\", \"2020-11-19T00:00:00\", \"2020-11-20T00:00:00\", \"2020-11-23T00:00:00\", \"2020-11-24T00:00:00\", \"2020-11-25T00:00:00\", \"2020-11-27T00:00:00\", \"2020-11-30T00:00:00\", \"2020-12-01T00:00:00\", \"2020-12-02T00:00:00\", \"2020-12-03T00:00:00\", \"2020-12-04T00:00:00\", \"2020-12-07T00:00:00\", \"2020-12-08T00:00:00\", \"2020-12-09T00:00:00\", \"2020-12-10T00:00:00\", \"2020-12-11T00:00:00\", \"2020-12-14T00:00:00\", \"2020-12-15T00:00:00\", \"2020-12-16T00:00:00\", \"2020-12-17T00:00:00\", \"2020-12-18T00:00:00\", \"2020-12-21T00:00:00\", \"2020-12-22T00:00:00\", \"2020-12-23T00:00:00\", \"2020-12-24T00:00:00\", \"2020-12-28T00:00:00\", \"2020-12-29T00:00:00\", \"2020-12-30T00:00:00\", \"2020-12-31T00:00:00\", \"2021-01-04T00:00:00\", \"2021-01-05T00:00:00\", \"2021-01-06T00:00:00\", \"2021-01-07T00:00:00\", \"2021-01-08T00:00:00\", \"2021-01-11T00:00:00\", \"2021-01-12T00:00:00\", \"2021-01-13T00:00:00\", \"2021-01-14T00:00:00\", \"2021-01-15T00:00:00\", \"2021-01-19T00:00:00\", \"2021-01-20T00:00:00\", \"2021-01-21T00:00:00\", \"2021-01-22T00:00:00\", \"2021-01-25T00:00:00\", \"2021-01-26T00:00:00\", \"2021-01-27T00:00:00\", \"2021-01-28T00:00:00\", \"2021-01-29T00:00:00\", \"2021-02-01T00:00:00\", \"2021-02-02T00:00:00\", \"2021-02-03T00:00:00\", \"2021-02-04T00:00:00\", \"2021-02-05T00:00:00\", \"2021-02-08T00:00:00\", \"2021-02-09T00:00:00\", \"2021-02-10T00:00:00\", \"2021-02-11T00:00:00\", \"2021-02-12T00:00:00\", \"2021-02-16T00:00:00\", \"2021-02-17T00:00:00\", \"2021-02-18T00:00:00\", \"2021-02-19T00:00:00\", \"2021-02-22T00:00:00\", \"2021-02-23T00:00:00\", \"2021-02-24T00:00:00\", \"2021-02-25T00:00:00\", \"2021-02-26T00:00:00\", \"2021-03-01T00:00:00\", \"2021-03-02T00:00:00\", \"2021-03-03T00:00:00\", \"2021-03-04T00:00:00\", \"2021-03-05T00:00:00\", \"2021-03-08T00:00:00\", \"2021-03-09T00:00:00\", \"2021-03-10T00:00:00\", \"2021-03-11T00:00:00\", \"2021-03-12T00:00:00\", \"2021-03-15T00:00:00\", \"2021-03-16T00:00:00\", \"2021-03-17T00:00:00\", \"2021-03-18T00:00:00\", \"2021-03-19T00:00:00\", \"2021-03-22T00:00:00\", \"2021-03-23T00:00:00\", \"2021-03-24T00:00:00\", \"2021-03-25T00:00:00\", \"2021-03-26T00:00:00\", \"2021-03-29T00:00:00\", \"2021-03-30T00:00:00\", \"2021-03-31T00:00:00\", \"2021-04-01T00:00:00\", \"2021-04-05T00:00:00\", \"2021-04-06T00:00:00\", \"2021-04-07T00:00:00\", \"2021-04-08T00:00:00\", \"2021-04-09T00:00:00\", \"2021-04-12T00:00:00\", \"2021-04-13T00:00:00\", \"2021-04-14T00:00:00\", \"2021-04-15T00:00:00\", \"2021-04-16T00:00:00\", \"2021-04-19T00:00:00\", \"2021-04-20T00:00:00\", \"2021-04-21T00:00:00\", \"2021-04-22T00:00:00\", \"2021-04-23T00:00:00\", \"2021-04-26T00:00:00\", \"2021-04-27T00:00:00\", \"2021-04-28T00:00:00\", \"2021-04-29T00:00:00\", \"2021-04-30T00:00:00\", \"2021-05-03T00:00:00\", \"2021-05-04T00:00:00\", \"2021-05-05T00:00:00\", \"2021-05-06T00:00:00\", \"2021-05-07T00:00:00\", \"2021-05-10T00:00:00\", \"2021-05-11T00:00:00\", \"2021-05-12T00:00:00\", \"2021-05-13T00:00:00\", \"2021-05-14T00:00:00\", \"2021-05-17T00:00:00\", \"2021-05-18T00:00:00\", \"2021-05-19T00:00:00\", \"2021-05-20T00:00:00\", \"2021-05-21T00:00:00\", \"2021-05-24T00:00:00\", \"2021-05-25T00:00:00\", \"2021-05-26T00:00:00\", \"2021-05-27T00:00:00\", \"2021-05-28T00:00:00\", \"2021-06-01T00:00:00\", \"2021-06-02T00:00:00\", \"2021-06-03T00:00:00\", \"2021-06-04T00:00:00\", \"2021-06-07T00:00:00\", \"2021-06-08T00:00:00\", \"2021-06-09T00:00:00\", \"2021-06-10T00:00:00\", \"2021-06-11T00:00:00\", \"2021-06-14T00:00:00\", \"2021-06-15T00:00:00\", \"2021-06-16T00:00:00\", \"2021-06-17T00:00:00\", \"2021-06-18T00:00:00\", \"2021-06-21T00:00:00\", \"2021-06-22T00:00:00\", \"2021-06-23T00:00:00\", \"2021-06-24T00:00:00\", \"2021-06-25T00:00:00\", \"2021-06-28T00:00:00\", \"2021-06-29T00:00:00\", \"2021-06-30T00:00:00\", \"2021-07-01T00:00:00\", \"2021-07-02T00:00:00\", \"2021-07-06T00:00:00\", \"2021-07-07T00:00:00\", \"2021-07-08T00:00:00\", \"2021-07-09T00:00:00\", \"2021-07-12T00:00:00\", \"2021-07-13T00:00:00\", \"2021-07-14T00:00:00\", \"2021-07-15T00:00:00\", \"2021-07-16T00:00:00\", \"2021-07-19T00:00:00\", \"2021-07-20T00:00:00\", \"2021-07-21T00:00:00\", \"2021-07-22T00:00:00\", \"2021-07-23T00:00:00\", \"2021-07-26T00:00:00\", \"2021-07-27T00:00:00\", \"2021-07-28T00:00:00\", \"2021-07-29T00:00:00\", \"2021-07-30T00:00:00\", \"2021-08-02T00:00:00\", \"2021-08-03T00:00:00\", \"2021-08-04T00:00:00\", \"2021-08-05T00:00:00\", \"2021-08-06T00:00:00\", \"2021-08-09T00:00:00\", \"2021-08-10T00:00:00\", \"2021-08-11T00:00:00\", \"2021-08-12T00:00:00\", \"2021-08-13T00:00:00\", \"2021-08-16T00:00:00\", \"2021-08-17T00:00:00\", \"2021-08-18T00:00:00\", \"2021-08-19T00:00:00\", \"2021-08-20T00:00:00\", \"2021-08-23T00:00:00\", \"2021-08-24T00:00:00\", \"2021-08-25T00:00:00\", \"2021-08-26T00:00:00\", \"2021-08-27T00:00:00\", \"2021-08-30T00:00:00\", \"2021-08-31T00:00:00\", \"2021-09-01T00:00:00\", \"2021-09-02T00:00:00\", \"2021-09-03T00:00:00\", \"2021-09-07T00:00:00\", \"2021-09-08T00:00:00\", \"2021-09-09T00:00:00\", \"2021-09-10T00:00:00\", \"2021-09-13T00:00:00\", \"2021-09-14T00:00:00\", \"2021-09-15T00:00:00\", \"2021-09-16T00:00:00\", \"2021-09-17T00:00:00\", \"2021-09-20T00:00:00\", \"2021-09-21T00:00:00\", \"2021-09-22T00:00:00\", \"2021-09-23T00:00:00\", \"2021-09-24T00:00:00\", \"2021-09-27T00:00:00\", \"2021-09-28T00:00:00\", \"2021-09-29T00:00:00\", \"2021-09-30T00:00:00\", \"2021-10-01T00:00:00\", \"2021-10-04T00:00:00\", \"2021-10-05T00:00:00\", \"2021-10-06T00:00:00\", \"2021-10-07T00:00:00\", \"2021-10-08T00:00:00\", \"2021-10-11T00:00:00\", \"2021-10-12T00:00:00\", \"2021-10-13T00:00:00\", \"2021-10-14T00:00:00\", \"2021-10-15T00:00:00\", \"2021-10-18T00:00:00\", \"2021-10-19T00:00:00\", \"2021-10-20T00:00:00\", \"2021-10-21T00:00:00\", \"2021-10-22T00:00:00\", \"2021-10-25T00:00:00\", \"2021-10-26T00:00:00\", \"2021-10-27T00:00:00\", \"2021-10-28T00:00:00\", \"2021-10-29T00:00:00\", \"2021-11-01T00:00:00\", \"2021-11-02T00:00:00\", \"2021-11-03T00:00:00\", \"2021-11-04T00:00:00\", \"2021-11-05T00:00:00\", \"2021-11-08T00:00:00\", \"2021-11-09T00:00:00\", \"2021-11-10T00:00:00\", \"2021-11-11T00:00:00\", \"2021-11-12T00:00:00\", \"2021-11-15T00:00:00\", \"2021-11-16T00:00:00\", \"2021-11-17T00:00:00\", \"2021-11-18T00:00:00\", \"2021-11-19T00:00:00\", \"2021-11-22T00:00:00\", \"2021-11-23T00:00:00\", \"2021-11-24T00:00:00\", \"2021-11-26T00:00:00\", \"2021-11-29T00:00:00\", \"2021-11-30T00:00:00\", \"2021-12-01T00:00:00\", \"2021-12-02T00:00:00\", \"2021-12-03T00:00:00\", \"2021-12-06T00:00:00\", \"2021-12-07T00:00:00\", \"2021-12-08T00:00:00\", \"2021-12-09T00:00:00\", \"2021-12-10T00:00:00\", \"2021-12-13T00:00:00\", \"2021-12-14T00:00:00\", \"2021-12-15T00:00:00\", \"2021-12-16T00:00:00\", \"2021-12-17T00:00:00\", \"2021-12-20T00:00:00\", \"2021-12-21T00:00:00\", \"2021-12-22T00:00:00\", \"2021-12-23T00:00:00\", \"2021-12-27T00:00:00\", \"2021-12-28T00:00:00\", \"2021-12-29T00:00:00\", \"2021-12-30T00:00:00\", \"2021-12-31T00:00:00\", \"2022-01-03T00:00:00\", \"2022-01-04T00:00:00\", \"2022-01-05T00:00:00\", \"2022-01-06T00:00:00\", \"2022-01-07T00:00:00\", \"2022-01-10T00:00:00\", \"2022-01-11T00:00:00\", \"2022-01-12T00:00:00\", \"2022-01-13T00:00:00\", \"2022-01-14T00:00:00\", \"2022-01-18T00:00:00\"], \"xaxis\": \"x3\", \"y\": [63.35903617524198, 61.21093124691279, 53.14317335374117, 60.17195930125079, 60.80935884109773, 60.37675290090433, 63.55388868020552, 66.23414183842132, 62.827000981355404, 66.64152524222237, 68.48176010311734, 70.09252423078881, 72.06428126790175, 76.7059605465325, 74.69335638120546, 75.8468440024105, 77.52467528422771, 80.81910395764203, 82.40655499304219, 54.98633887961727, 50.84602741478496, 40.14469171040167, 46.476954656299185, 42.903327761184165, 41.67474471723722, 45.54579140982923, 48.725508324792585, 45.36415769809101, 42.48369412846128, 40.28018043042827, 41.247865750568714, 45.67203371956858, 39.890401955851715, 41.04261272835127, 46.418807638886975, 50.79312054278184, 49.97012973017009, 51.54908639701164, 55.22206056788598, 47.9985812341446, 52.67686885404759, 48.428621684112905, 52.26816785817187, 53.37009480843319, 56.673091122653744, 62.87438393077228, 62.8830805087424, 60.00027979336372, 57.675958847231264, 55.978892903667656, 50.83943214013041, 51.43219427755875, 51.163460850866336, 51.21684120858624, 51.87231672046069, 46.58748748873676, 49.33622316946744, 38.487677164532634, 43.59770866930592, 38.631334625788746, 38.66561452691703, 43.67195161662993, 54.86859635570195, 60.36697495956677, 60.610788417463965, 54.11530791570817, 49.38425020343139, 54.439934879896306, 53.11275357799812, 55.191090047813795, 57.037412448115795, 56.01781892719659, 53.456361418080846, 55.73213511884815, 53.3717392208021, 53.39306712542423, 57.50952108305076, 59.36351665848401, 62.00085566192069, 62.508631948671635, 66.23400776063579, 66.61371331218011, 67.01916676942189, 68.27625061167835, 69.99908603579826, 70.93289102786474, 56.85858707181872, 58.379434948222325, 57.124456411356014, 59.92407447781025, 63.7210621824903, 65.67081709489707, 67.97321378594225, 65.41080031813516, 64.52397947632934, 65.58310440181131, 61.756947573836825, 63.692454242507864, 67.79820435483232, 68.19002450350766, 68.13948640144456, 69.29150107482488, 56.81719414127993, 60.96738764379685, 51.88917258901985, 62.07248160059104, 66.47000321747645, 57.905614404132386, 57.16057513401208, 59.65166060814286, 56.81157381864999, 52.57164006332432, 58.39009936706909, 65.93888338009394, 68.30091978863067, 66.44512009200136, 69.17998487780977, 69.28627382638436, 54.06292357955864, 55.81784339072489, 47.43939059764747, 55.41418173649879, 60.03004656482014, 58.40895310869322, 61.79010311989553, 62.78760846386209, 64.66505301716845, 64.57988210973588, 63.21701273658057, 65.016391723206, 66.88279683011362, 65.0150914182997, 61.93764048372044, 59.0654235055375, 56.34841858760588, 43.77180070340417, 42.68515915734621, 46.52523379873061, 35.242095871344574, 37.34927794169178, 48.07396893879911, 43.30271942870599, 36.56972749918647, 33.63745722928404, 38.22951193638606, 33.282896495552436, 43.245793360024564, 42.69017172217528, 48.44558149802876, 46.51529741994481, 49.24257407472748, 50.67815651173678, 51.8227445656477, 43.756637097986975, 44.92269043527937, 49.67483068749206, 48.511270983243904, 44.25248785915657, 43.83260718579916, 48.15160050175214, 48.0984900939188, 46.70066938957636, 51.42988653143411, 56.36521679611265, 61.583781996792894, 61.2550489211057, 61.93877875566474, 64.7852600543949, 66.40528858714191, 65.68964838367197, 68.84098363585936, 62.30749464946121, 66.46786963151916, 66.8609491210282, 61.798269593272344, 58.10121024387064, 60.9451145913578, 55.01063285917182, 59.27090896029501, 61.417092683593005, 59.14833817464146, 57.381556067047036, 58.66418030130681, 55.27823946138009, 52.49070687554885, 44.7805834915922, 43.34299896941974, 46.757010186730646, 50.43305737288664, 40.874394190041365, 40.367349450424115, 33.57414697953833, 36.51762664146736, 44.814561076845585, 43.13611161017001, 41.10952678461147, 41.61675880680139, 49.064992236770415, 47.108838129717434, 53.11113264645509, 53.68536024134313, 54.93471804311827, 53.136312572564606, 54.460842409302565, 52.836383255392406, 53.625907854735495, 48.34708235742514, 55.755268995421766, 56.961520019636275, 57.12570537551892, 57.3011362819233, 61.815957501307146, 62.94295368747316, 66.70813325445552, 62.09002560216515, 59.570495435179964, 64.86615803813825, 59.31550945003862, 61.93956487717175, 65.64851965745864, 65.87661080880122, 68.2914061088436, 67.3991607778028, 71.85209175104937, 73.1526557250688, 71.74551322165001, 71.81039470118755, 75.93647264947106, 77.39272223783922, 78.08174993145543, 71.65690719030081, 73.87859166105116, 75.44071767472558, 75.2313408330602, 75.96005947921782, 67.73799210555394, 59.65871014662413, 53.15516956055611, 59.53177435515663, 63.37268244316994, 66.5870166995451, 71.00910658957517, 71.53586438611252, 62.00067892470046, 63.68775875446538, 64.46117308316548, 60.232651728089145, 60.14849215943788, 63.33399879114449, 64.22716822836037, 67.47463184556338, 63.11883915696889, 64.1301781127934, 59.21923668804822, 57.529785846496836, 59.89295046658236, 62.09920439551759, 62.491337155230816, 53.521512489671935, 45.87946967078704, 49.56751449344006, 56.57808574203698, 64.48191669297952, 66.02314537099703, 66.20364482366821, 60.91124500368307, 65.89007014292991, 70.59849670997671, 69.69385483677442, 70.48893880325076, 69.98259095352438, 71.40471135285179, 72.05942489122822, 67.85001992866117, 63.71342114445024, 56.055453086930385, 55.3496959519874, 52.64586211391137, 58.25088873924903, 58.72912775559365, 48.07433902876276, 36.196990904055276, 36.52510811230959, 43.697047635425164, 49.67913469843487, 50.274896756847475, 45.33297203498517, 33.4018795971392, 32.726685700066554, 31.565088016933032, 35.50598634592467, 29.26894761158607, 36.34022605670154, 39.79356093497383, 44.338026615723834, 42.329994975222675, 39.584396590093434, 38.38127011145202, 42.65273845869956, 51.40254137315756, 54.076583812384186, 58.16174654593305, 60.981288919046875, 60.33937695961722, 62.73325187866388, 57.366515935131865, 61.46781397397809, 62.7070516046962, 63.77712385764516, 67.92918498937112, 69.6702246981393, 70.82494247706285, 72.37229947610797, 75.71696165545039, 79.03114029066026, 79.34418307178129, 77.9516953996918, 71.2212693510633, 59.66583038452607, 60.87551019040717, 65.29799709395589, 65.22000287630918, 68.03247093204669, 68.19444343646195, 72.12614836147446, 74.09400752173647, 63.97095867632457, 60.588067954897426, 62.03561863211595, 50.10609864015154, 59.11430085849138, 51.72496111073292, 44.8272370241325, 47.45359538531483, 41.64800730772936, 44.85957925065355, 55.31130192003143, 56.79499094170967, 51.05256679613481, 54.45561830681396, 49.18435514627188, 46.00699111487531, 53.052797691823145, 45.23740539844023, 43.94770672203688, 41.492398092951184, 48.244968608091575, 51.66638469635137, 53.9276652845916, 58.25969429859285, 56.77697106436273, 56.5717518122592, 55.296261004066544, 52.773554046665915, 56.062965951368, 50.785360179461286, 41.266951741374484, 41.04246380249863, 38.37232286233007, 38.83866935438028, 44.28691972925674, 45.695774365273955, 38.8757381830474, 40.716113514074074, 35.19194562861824], \"yaxis\": \"y3\"}, {\"line\": {\"color\": \"firebrick\", \"dash\": \"dash\", \"width\": 3}, \"name\": \"RSI(14) Test Predict\", \"type\": \"scatter\", \"x\": [\"2021-09-15T00:00:00\", \"2021-09-16T00:00:00\", \"2021-09-17T00:00:00\", \"2021-09-20T00:00:00\", \"2021-09-21T00:00:00\", \"2021-09-22T00:00:00\", \"2021-09-23T00:00:00\", \"2021-09-24T00:00:00\", \"2021-09-27T00:00:00\", \"2021-09-28T00:00:00\", \"2021-09-29T00:00:00\", \"2021-09-30T00:00:00\", \"2021-10-01T00:00:00\", \"2021-10-04T00:00:00\", \"2021-10-05T00:00:00\", \"2021-10-06T00:00:00\", \"2021-10-07T00:00:00\", \"2021-10-08T00:00:00\", \"2021-10-11T00:00:00\", \"2021-10-12T00:00:00\", \"2021-10-13T00:00:00\", \"2021-10-14T00:00:00\", \"2021-10-15T00:00:00\", \"2021-10-18T00:00:00\", \"2021-10-19T00:00:00\", \"2021-10-20T00:00:00\", \"2021-10-21T00:00:00\", \"2021-10-22T00:00:00\", \"2021-10-25T00:00:00\", \"2021-10-26T00:00:00\", \"2021-10-27T00:00:00\", \"2021-10-28T00:00:00\", \"2021-10-29T00:00:00\", \"2021-11-01T00:00:00\", \"2021-11-02T00:00:00\", \"2021-11-03T00:00:00\", \"2021-11-04T00:00:00\", \"2021-11-05T00:00:00\", \"2021-11-08T00:00:00\", \"2021-11-09T00:00:00\", \"2021-11-10T00:00:00\", \"2021-11-11T00:00:00\", \"2021-11-12T00:00:00\", \"2021-11-15T00:00:00\", \"2021-11-16T00:00:00\", \"2021-11-17T00:00:00\", \"2021-11-18T00:00:00\", \"2021-11-19T00:00:00\", \"2021-11-22T00:00:00\", \"2021-11-23T00:00:00\", \"2021-11-24T00:00:00\", \"2021-11-26T00:00:00\", \"2021-11-29T00:00:00\", \"2021-11-30T00:00:00\", \"2021-12-01T00:00:00\", \"2021-12-02T00:00:00\", \"2021-12-03T00:00:00\", \"2021-12-06T00:00:00\", \"2021-12-07T00:00:00\", \"2021-12-08T00:00:00\", \"2021-12-09T00:00:00\", \"2021-12-10T00:00:00\", \"2021-12-13T00:00:00\", \"2021-12-14T00:00:00\", \"2021-12-15T00:00:00\", \"2021-12-16T00:00:00\", \"2021-12-17T00:00:00\", \"2021-12-20T00:00:00\", \"2021-12-21T00:00:00\", \"2021-12-22T00:00:00\", \"2021-12-23T00:00:00\", \"2021-12-27T00:00:00\", \"2021-12-28T00:00:00\", \"2021-12-29T00:00:00\", \"2021-12-30T00:00:00\", \"2021-12-31T00:00:00\", \"2022-01-03T00:00:00\", \"2022-01-04T00:00:00\", \"2022-01-05T00:00:00\", \"2022-01-06T00:00:00\", \"2022-01-07T00:00:00\", \"2022-01-10T00:00:00\", \"2022-01-11T00:00:00\", \"2022-01-12T00:00:00\", \"2022-01-13T00:00:00\", \"2022-01-14T00:00:00\", \"2022-01-18T00:00:00\"], \"xaxis\": \"x3\", \"y\": [55.43680953979492, 58.77549743652344, 59.900779724121094, 51.65288543701172, 41.029911041259766, 41.21784591674805, 45.085575103759766, 48.13693618774414, 48.58650588989258, 45.91921615600586, 38.57212829589844, 36.586395263671875, 35.465641021728516, 36.1312141418457, 32.87022018432617, 35.26932907104492, 39.29528045654297, 42.60105895996094, 42.61628723144531, 41.23875427246094, 40.04729461669922, 42.756019592285156, 49.23407745361328, 52.6849250793457, 56.37267303466797, 60.23473358154297, 61.45133972167969, 63.67151641845703, 60.88688659667969, 62.481719970703125, 64.90318298339844, 65.96650695800781, 68.74549865722656, 71.36245727539062, 73.14165496826172, 74.8822250366211, 76.96333312988281, 79.02689361572266, 80.33757781982422, 80.84619903564453, 74.26653289794922, 63.24532699584961, 64.46066284179688, 68.81045532226562, 68.04508972167969, 70.4974365234375, 72.32176971435547, 74.78133392333984, 76.85903930664062, 67.97809600830078, 63.36082077026367, 66.4094467163086, 56.03263854980469, 60.411468505859375, 56.87501525878906, 47.95216751098633, 49.90951156616211, 45.48549270629883, 45.33426284790039, 52.08419418334961, 55.4090576171875, 51.54501724243164, 54.09197235107422, 52.00743103027344, 48.47592544555664, 53.14492416381836, 49.35987091064453, 46.12637710571289, 44.8441047668457, 49.027931213378906, 52.05985641479492, 53.8657341003418, 56.883323669433594, 57.588417053222656, 57.45772171020508, 56.81810760498047, 55.34642791748047, 56.86802673339844, 54.36497116088867, 46.253604888916016, 44.51795959472656, 42.621864318847656, 41.270652770996094, 44.50063705444336, 45.72123718261719, 41.33186340332031, 41.12179183959961], \"yaxis\": \"y3\"}, {\"line\": {\"color\": \"firebrick\", \"dash\": \"dot\", \"width\": 3}, \"name\": \"RSI(14) Future Predict\", \"type\": \"scatter\", \"x\": [\"2022-01-18T00:00:00\", \"2022-01-19T00:00:00\", \"2022-01-20T00:00:00\", \"2022-01-21T00:00:00\", \"2022-01-24T00:00:00\", \"2022-01-25T00:00:00\", \"2022-01-26T00:00:00\", \"2022-01-27T00:00:00\", \"2022-01-28T00:00:00\", \"2022-01-31T00:00:00\", \"2022-02-01T00:00:00\", \"2022-02-02T00:00:00\", \"2022-02-03T00:00:00\", \"2022-02-04T00:00:00\", \"2022-02-07T00:00:00\", \"2022-02-08T00:00:00\", \"2022-02-09T00:00:00\", \"2022-02-10T00:00:00\", \"2022-02-11T00:00:00\", \"2022-02-14T00:00:00\", \"2022-02-15T00:00:00\", \"2022-02-16T00:00:00\", \"2022-02-17T00:00:00\", \"2022-02-18T00:00:00\", \"2022-02-22T00:00:00\", \"2022-02-23T00:00:00\", \"2022-02-24T00:00:00\", \"2022-02-25T00:00:00\", \"2022-02-28T00:00:00\"], \"xaxis\": \"x3\", \"y\": [35.19194562861824, 38.4761833159776, 39.302839157066934, 40.19119279267301, 40.19969438108629, 40.87047486719092, 41.90887272278503, 42.85063542672343, 43.66908639644576, 44.591622695833934, 45.62968728228184, 46.71862379130393, 47.79877059536055, 48.97750486323252, 49.92485358808587, 51.185563465427975, 52.426883528832036, 53.72423796139104, 54.98220428111672, 56.190298485706805, 57.30997746087284, 58.32005388941085, 59.27943900575068, 60.25553918236489, 61.344847662756614, 62.64796012611247, 64.27166460736778, 66.20966554484473, 68.31682530043668], \"yaxis\": \"y3\"}, {\"line\": {\"color\": \"rgb(100, 10, 100)\", \"dash\": \"dash\", \"shape\": \"linear\"}, \"mode\": \"lines\", \"name\": \"RSI(14) over bought\", \"type\": \"scatter\", \"x\": [\"2020-08-07T00:00:00\", \"2022-01-18T00:00:00\"], \"xaxis\": \"x3\", \"y\": [70, 70], \"yaxis\": \"y3\"}, {\"line\": {\"color\": \"rgb(10, 12, 240)\", \"dash\": \"dash\", \"shape\": \"linear\"}, \"mode\": \"lines\", \"name\": \"RSI(14) Neutral\", \"type\": \"scatter\", \"x\": [\"2020-08-07T00:00:00\", \"2022-01-18T00:00:00\"], \"xaxis\": \"x3\", \"y\": [50, 50], \"yaxis\": \"y3\"}, {\"line\": {\"color\": \"rgb(10, 120, 24)\", \"dash\": \"dash\", \"shape\": \"linear\"}, \"mode\": \"lines\", \"name\": \"RSI(14) over sold\", \"type\": \"scatter\", \"x\": [\"2020-08-07T00:00:00\", \"2022-01-18T00:00:00\"], \"xaxis\": \"x3\", \"y\": [30, 30], \"yaxis\": \"y3\"}, {\"close\": [31.747499465942383, 31.31999969482422, 29.542499542236328, 31.752500534057617, 31.975000381469727, 31.88249969482422, 32.935001373291016, 33.90250015258789, 33.2400016784668, 34.60749816894531, 35.33000183105469, 35.98500061035156, 36.82500076293945, 39.182498931884766, 38.82749938964844, 39.4275016784668, 40.34000015258789, 42.435001373291016, 43.63249969482422, 36.932498931884766, 35.40999984741211, 30.405000686645508, 33.01750183105469, 31.107500076293945, 30.427499771118164, 31.9950008392334, 33.35499954223633, 31.752500534057617, 30.290000915527344, 29.1200008392334, 29.46500015258789, 31.075000762939453, 28.197500228881836, 28.610000610351562, 30.614999771118164, 32.43000030517578, 32.09000015258789, 32.724998474121094, 34.25749969482422, 31.4325008392334, 33.415000915527344, 31.6200008392334, 33.282501220703125, 33.772499084472656, 35.275001525878906, 38.564998626708984, 38.56999969482422, 37.61750030517578, 36.84000015258789, 36.275001525878906, 34.47249984741211, 34.69499969482422, 34.60499954223633, 34.622501373291016, 34.82500076293945, 33.23749923706055, 34.022499084472656, 30.030000686645508, 31.5575008392334, 29.362499237060547, 29.372499465942383, 30.850000381469727, 35.02000045776367, 37.72249984741211, 37.849998474121094, 35.540000915527344, 33.622501373291016, 35.88249969482422, 35.35749816894531, 36.28499984741211, 37.119998931884766, 36.77750015258789, 35.92499923706055, 36.814998626708984, 36.067501068115234, 36.07500076293945, 37.54999923706055, 38.25749969482422, 39.3025016784668, 39.505001068115234, 41.057498931884766, 41.22249984741211, 41.38999938964844, 41.897499084472656, 42.60749816894531, 42.997501373291016, 40.11750030517578, 40.61000061035156, 40.32500076293945, 41.185001373291016, 42.46500015258789, 43.1775016784668, 44.0625, 43.58250045776367, 43.41999816894531, 43.76250076293945, 43.102500915527344, 43.662498474121094, 44.97249984741211, 45.10499954223633, 45.09749984741211, 45.45000076293945, 43.462501525878906, 44.5525016784668, 42.709999084472656, 45.79499816894531, 47.56999969482422, 45.467498779296875, 45.27000045776367, 46.150001525878906, 45.4474983215332, 44.342498779296875, 46.26499938964844, 49.4900016784668, 50.720001220703125, 50.2599983215332, 51.654998779296875, 51.709999084472656, 47.540000915527344, 48.2400016784668, 45.23500061035156, 48.560001373291016, 50.90999984741211, 50.32500076293945, 52.10499954223633, 52.650001525878906, 53.68000030517578, 53.654998779296875, 53.275001525878906, 54.1349983215332, 55.05500030517578, 54.595001220703125, 53.834999084472656, 53.11000061035156, 52.40999984741211, 48.349998474121094, 47.91999816894531, 49.07500076293945, 43.95000076293945, 44.61000061035156, 48.5, 46.17499923706055, 42.16999816894531, 40.084999084472656, 41.880001068115234, 38.29999923706055, 42.810001373291016, 42.44499969482422, 45.38999938964844, 44.2599983215332, 45.67499923706055, 46.42499923706055, 47.0099983215332, 42.69499969482422, 43.2400016784668, 45.54499816894531, 44.95000076293945, 42.68000030517578, 42.45000076293945, 44.32500076293945, 44.29999923706055, 43.66999816894531, 45.630001068115234, 47.95000076293945, 50.83000183105469, 50.709999084472656, 51.084999084472656, 52.68000030517578, 53.6349983215332, 53.42499923706055, 55.255001068115234, 53.314998626708984, 55.66999816894531, 55.904998779296875, 54.380001068115234, 53.189998626708984, 54.53499984741211, 52.54999923706055, 54.529998779296875, 55.61000061035156, 54.880001068115234, 54.314998626708984, 54.86000061035156, 53.83000183105469, 52.95000076293945, 50.15999984741211, 49.57500076293945, 50.65999984741211, 51.900001525878906, 48.0, 47.7599983215332, 44.125, 45.05500030517578, 47.98500061035156, 47.17499923706055, 46.185001373291016, 46.35499954223633, 49.03499984741211, 48.224998474121094, 50.63999938964844, 50.8849983215332, 51.400001525878906, 50.79999923706055, 51.29499816894531, 50.79499816894531, 51.060001373291016, 49.45500183105469, 51.9900016784668, 52.45000076293945, 52.5099983215332, 52.56999969482422, 54.18000030517578, 54.61000061035156, 56.13999938964844, 55.099998474121094, 54.5099983215332, 56.54499816894531, 55.19499969482422, 56.20500183105469, 57.775001525878906, 57.875, 58.939998626708984, 58.755001068115234, 60.834999084472656, 61.52000045776367, 61.25, 61.279998779296875, 63.36000061035156, 64.20999908447266, 64.62000274658203, 63.5, 64.57499694824219, 65.38500213623047, 65.3499984741211, 65.70500183105469, 64.34500122070312, 62.76499938964844, 61.2599983215332, 63.279998779296875, 64.7249984741211, 66.08499908447266, 68.27999877929688, 68.56500244140625, 66.32499694824219, 67.05000305175781, 67.37999725341797, 66.37000274658203, 66.3499984741211, 67.50499725341797, 67.83999633789062, 69.11499786376953, 68.21499633789062, 68.58000183105469, 67.55500030517578, 67.19000244140625, 67.88999938964844, 68.56999969482422, 68.69000244140625, 66.88500213623047, 64.94000244140625, 65.86499786376953, 67.9000015258789, 70.92500305175781, 71.625, 71.70500183105469, 70.48999786376953, 72.55000305175781, 74.95500183105469, 74.74500274658203, 75.15499877929688, 75.05000305175781, 75.7249984741211, 76.03500366210938, 75.25499725341797, 74.44999694824219, 72.7750015258789, 72.61000061035156, 71.98500061035156, 73.58000183105469, 73.7249984741211, 71.12000274658203, 66.74500274658203, 66.83000183105469, 68.78500366210938, 70.69499969482422, 70.8949966430664, 69.18499755859375, 63.415000915527344, 62.994998931884766, 62.28499984741211, 63.41999816894531, 59.52000045776367, 61.810001373291016, 63.029998779296875, 64.73500061035156, 63.7400016784668, 62.32500076293945, 61.689998626708984, 63.1349983215332, 66.62000274658203, 67.8550033569336, 69.88999938964844, 71.42500305175781, 71.19999694824219, 72.4749984741211, 70.63999938964844, 72.76000213623047, 73.44000244140625, 74.0199966430664, 76.44999694824219, 77.58000183105469, 78.34500122070312, 79.38999938964844, 81.91000366210938, 84.96499633789062, 85.27999877929688, 84.93000030517578, 83.18000030517578, 79.53500366210938, 80.18000030517578, 82.7249984741211, 82.69999694824219, 84.41000366210938, 84.51000213623047, 87.09500122070312, 88.56999969482422, 85.5, 84.33499908447266, 85.11499786376953, 80.41999816894531, 85.41500091552734, 81.74500274658203, 77.55000305175781, 79.01000213623047, 75.04000091552734, 76.79499816894531, 83.72000122070312, 84.88500213623047, 81.22000122070312, 83.73500061035156, 80.13500213623047, 77.75, 82.8949966430664, 76.56999969482422, 75.4000015258789, 73.1449966430664, 78.03500366210938, 80.81999969482422, 82.73999786376953, 86.69499969482422, 85.67500305175781, 85.54000091552734, 84.73999786376953, 83.16500091552734, 85.56500244140625, 82.23999786376953, 74.67500305175781, 74.47000122070312, 72.03500366210938, 72.30000305175781, 75.4800033569336, 76.33999633789062, 70.80000305175781, 71.87000274658203, 66.69000244140625], \"high\": [32.95500183105469, 31.90250015258789, 31.362499237060547, 32.09000015258789, 32.79499816894531, 32.29750061035156, 33.09000015258789, 34.099998474121094, 34.3025016784668, 34.79750061035156, 35.502498626708984, 36.88999938964844, 36.86249923706055, 39.26250076293945, 39.967498779296875, 39.682498931884766, 41.1349983215332, 42.49250030517578, 43.91749954223633, 41.849998474121094, 37.57500076293945, 33.49250030517578, 33.79999923706055, 34.59749984741211, 32.04750061035156, 32.70249938964844, 33.85499954223633, 33.83000183105469, 30.989999771118164, 30.862499237060547, 29.487499237060547, 31.282499313354492, 31.037500381469727, 29.677499771118164, 30.889999389648438, 32.5, 32.709999084472656, 33.880001068115234, 34.51750183105469, 33.407501220703125, 33.525001525878906, 33.779998779296875, 33.52750015258789, 34.15250015258789, 35.34749984741211, 39.682498931884766, 39.58250045776367, 39.29999923706055, 37.09749984741211, 38.067501068115234, 37.377498626708984, 35.849998474121094, 35.752498626708984, 35.25, 34.85749816894531, 34.994998931884766, 34.29999923706055, 32.560001373291016, 32.6150016784668, 31.1825008392334, 30.522499084472656, 31.602500915527344, 35.65999984741211, 38.13750076293945, 38.14250183105469, 39.595001220703125, 34.8125, 36.04750061035156, 36.72999954223633, 36.52000045776367, 37.252498626708984, 37.34000015258789, 37.1875, 36.92250061035156, 37.067501068115234, 36.935001373291016, 37.75749969482422, 38.502498626708984, 39.76750183105469, 39.69499969482422, 41.73749923706055, 41.36000061035156, 42.04750061035156, 41.959999084472656, 42.755001068115234, 43.16999816894531, 43.064998626708984, 41.067501068115234, 40.38249969482422, 42.01250076293945, 42.502498626708984, 43.5625, 44.16999816894531, 44.477500915527344, 43.654998779296875, 44.1775016784668, 43.939998626708984, 43.86000061035156, 45.189998626708984, 45.849998474121094, 45.75, 45.619998931884766, 46.09749984741211, 44.63999938964844, 44.584999084472656, 46.162498474121094, 47.720001220703125, 46.73500061035156, 46.002498626708984, 46.54750061035156, 46.834999084472656, 45.782501220703125, 46.51750183105469, 49.942501068115234, 51.06999969482422, 50.7599983215332, 52.53499984741211, 52.290000915527344, 50.650001525878906, 50.5, 47.959999084472656, 49.01499938964844, 51.47999954223633, 52.1150016784668, 52.150001525878906, 53.14500045776367, 53.775001525878906, 54.28499984741211, 54.599998474121094, 54.369998931884766, 55.150001525878906, 55.93000030517578, 53.970001220703125, 53.47999954223633, 53.84000015258789, 50.900001525878906, 48.68000030517578, 49.23500061035156, 49.03499984741211, 46.58000183105469, 48.654998779296875, 48.845001220703125, 46.099998474121094, 43.31999969482422, 42.23500061035156, 42.42499923706055, 43.57500076293945, 44.75, 46.130001068115234, 44.334999084472656, 45.755001068115234, 47.994998931884766, 47.8650016784668, 45.25, 43.775001525878906, 46.435001373291016, 46.6150016784668, 45.560001373291016, 43.09000015258789, 44.48500061035156, 44.77000045776367, 43.89500045776367, 46.29999923706055, 48.01499938964844, 51.189998626708984, 51.63999938964844, 51.4900016784668, 52.77000045776367, 53.72999954223633, 53.619998931884766, 55.5, 55.46500015258789, 55.8849983215332, 55.994998931884766, 55.685001373291016, 54.65999984741211, 54.6150016784668, 54.814998626708984, 55.15999984741211, 55.73500061035156, 55.834999084472656, 55.20000076293945, 56.1150016784668, 54.900001525878906, 54.744998931884766, 51.845001220703125, 51.42499923706055, 50.7400016784668, 53.040000915527344, 51.33000183105469, 48.119998931884766, 46.57500076293945, 46.334999084472656, 48.44499969482422, 47.58000183105469, 48.13999938964844, 46.494998931884766, 49.43000030517578, 49.96500015258789, 51.16999816894531, 51.720001220703125, 51.619998931884766, 51.58000183105469, 52.04999923706055, 52.150001525878906, 51.48500061035156, 50.334999084472656, 52.19499969482422, 52.48500061035156, 53.709999084472656, 53.560001373291016, 54.25, 54.619998931884766, 56.185001373291016, 56.16999816894531, 55.834999084472656, 57.040000915527344, 56.290000915527344, 56.400001525878906, 58.025001525878906, 58.47999954223633, 59.744998931884766, 59.375, 60.939998626708984, 61.540000915527344, 61.650001525878906, 61.56999969482422, 63.57500076293945, 64.37999725341797, 65.61000061035156, 63.93000030517578, 64.9000015258789, 65.6449966430664, 67.03500366210938, 67.04000091552734, 65.79000091552734, 65.3550033569336, 61.5, 64.1500015258789, 64.79499816894531, 66.0999984741211, 68.55500030517578, 68.78500366210938, 68.41500091552734, 67.93000030517578, 68.05999755859375, 66.67500305175781, 67.59500122070312, 67.5999984741211, 68.37999725341797, 69.23999786376953, 68.96499633789062, 68.88999938964844, 69.05500030517578, 68.5250015258789, 68.0999984741211, 68.80500030517578, 68.71499633789062, 67.67500305175781, 67.36000061035156, 66.80000305175781, 68.13500213623047, 71.3499984741211, 71.97000122070312, 72.19999694824219, 71.75499725341797, 72.80000305175781, 75.26000213623047, 75.1500015258789, 76.41000366210938, 76.16999816894531, 75.97000122070312, 76.44000244140625, 75.92500305175781, 76.05000305175781, 75.92500305175781, 74.38999938964844, 73.93000030517578, 73.77999877929688, 74.06500244140625, 73.46499633789062, 68.7300033569336, 68.375, 69.61499786376953, 71.28500366210938, 71.125, 69.69999694824219, 66.94499969482422, 65.1449966430664, 64.7699966430664, 64.00499725341797, 62.744998931884766, 63.0, 63.15999984741211, 66.16999816894531, 65.45999908447266, 64.84500122070312, 63.310001373291016, 63.474998474121094, 66.7249984741211, 67.92500305175781, 70.01000213623047, 71.51499938964844, 72.11000061035156, 72.6050033569336, 72.33000183105469, 73.36499786376953, 75.5999984741211, 75.86000061035156, 76.625, 77.69999694824219, 78.46499633789062, 79.68499755859375, 82.16000366210938, 85.67500305175781, 86.83000183105469, 85.94999694824219, 85.8949966430664, 83.19999694824219, 81.49500274658203, 83.03500366210938, 83.65499877929688, 84.70500183105469, 85.84500122070312, 87.44999694824219, 89.43499755859375, 91.68000030517578, 86.08499908447266, 85.27999877929688, 84.31999969482422, 86.08000183105469, 86.3949966430664, 85.80999755859375, 80.26000213623047, 80.63999938964844, 77.63999938964844, 84.13999938964844, 85.0, 85.25499725341797, 83.91500091552734, 83.94499969482422, 78.77999877929688, 83.13500213623047, 83.80999755859375, 77.8949966430664, 73.625, 78.2249984741211, 81.0, 83.6449966430664, 86.76499938964844, 87.48999786376953, 86.49500274658203, 86.83000183105469, 85.19999694824219, 85.72000122070312, 85.94499969482422, 81.86000061035156, 76.40499877929688, 75.47000122070312, 72.47000122070312, 75.51499938964844, 77.96499633789062, 77.55000305175781, 72.06999969482422, 69.72000122070312], \"low\": [30.922500610351562, 30.042499542236328, 29.34749984741211, 30.274999618530273, 31.63249969482422, 31.352500915527344, 32.415000915527344, 32.8224983215332, 33.0724983215332, 32.79249954223633, 34.4474983215332, 35.11000061035156, 35.51750183105469, 37.27000045776367, 37.89500045776367, 38.787498474121094, 39.45500183105469, 40.73749923706055, 41.16749954223633, 35.70500183105469, 30.96500015258789, 30.264999389648438, 31.417499542236328, 30.434999465942383, 29.202499389648438, 31.270000457763672, 32.7400016784668, 31.647499084472656, 29.012500762939453, 27.690000534057617, 27.024999618530273, 29.114999771118164, 27.927499771118164, 27.292499542236328, 28.262500762939453, 31.392499923706055, 31.88249969482422, 32.0625, 33.44499969482422, 31.082500457763672, 32.0625, 31.287500381469727, 32.345001220703125, 33.3849983215332, 34.2400016784668, 36.71500015258789, 38.037498474121094, 36.912498474121094, 35.48500061035156, 36.125, 34.09000015258789, 34.147499084472656, 34.43000030517578, 33.36750030517578, 33.72249984741211, 31.872499465942383, 33.130001068115234, 29.950000762939453, 30.309999465942383, 28.387500762939453, 28.40250015258789, 29.649999618530273, 33.33000183105469, 36.897499084472656, 36.01499938964844, 35.369998931884766, 32.587501525878906, 34.369998931884766, 34.93000030517578, 35.165000915527344, 35.935001373291016, 36.532501220703125, 35.92499923706055, 35.4900016784668, 36.029998779296875, 35.189998626708984, 35.76750183105469, 37.61249923706055, 38.88249969482422, 37.64500045776367, 40.025001525878906, 39.79499816894531, 41.087501525878906, 41.127498626708984, 41.900001525878906, 41.65250015258789, 39.654998779296875, 38.814998626708984, 38.974998474121094, 40.79249954223633, 41.22999954223633, 42.244998931884766, 43.397499084472656, 42.63249969482422, 41.16999816894531, 42.54499816894531, 43.04499816894531, 43.18000030517578, 44.00749969482422, 44.70249938964844, 44.817501068115234, 44.58250045776367, 41.70750045776367, 43.06999969482422, 42.05500030517578, 43.837501525878906, 45.849998474121094, 45.20249938964844, 44.099998474121094, 45.125, 45.2400016784668, 43.77000045776367, 44.900001525878906, 47.76499938964844, 49.5, 49.939998626708984, 48.400001525878906, 51.09000015258789, 46.5, 47.67499923706055, 44.375, 45.869998931884766, 49.880001068115234, 50.32500076293945, 50.375, 51.78499984741211, 52.67499923706055, 53.2400016784668, 51.72999954223633, 52.97999954223633, 53.220001220703125, 54.040000915527344, 52.005001068115234, 51.13999938964844, 51.93000030517578, 48.25, 43.209999084472656, 45.45000076293945, 43.224998474121094, 43.125, 46.095001220703125, 46.04999923706055, 42.125, 38.439998626708984, 37.51499938964844, 38.1349983215332, 40.96500015258789, 42.154998779296875, 44.06999969482422, 42.53499984741211, 43.689998626708984, 45.79999923706055, 44.30500030517578, 42.474998474121094, 41.70000076293945, 44.14500045776367, 44.584999084472656, 42.625, 40.82500076293945, 41.76499938964844, 42.86000061035156, 42.47999954223633, 44.255001068115234, 47.209999084472656, 48.98500061035156, 50.35499954223633, 50.04999923706055, 52.04999923706055, 51.65999984741211, 52.4900016784668, 54.060001373291016, 52.880001068115234, 54.619998931884766, 54.95000076293945, 53.375, 52.19499969482422, 52.0099983215332, 51.970001220703125, 52.86000061035156, 54.275001525878906, 54.3849983215332, 53.98500061035156, 53.290000915527344, 53.345001220703125, 52.71500015258789, 48.224998474121094, 49.20000076293945, 48.39500045776367, 51.3849983215332, 47.880001068115234, 45.0, 43.65999984741211, 44.03499984741211, 46.209999084472656, 45.8650016784668, 46.095001220703125, 43.665000915527344, 46.915000915527344, 48.05500030517578, 49.11000061035156, 50.314998626708984, 50.86000061035156, 50.720001220703125, 51.150001525878906, 50.14500045776367, 50.26499938964844, 48.689998626708984, 50.26499938964844, 51.404998779296875, 51.71500015258789, 52.46500015258789, 52.5, 53.880001068115234, 54.25, 54.72999954223633, 52.7599983215332, 53.96500015258789, 54.84000015258789, 54.19499969482422, 55.98500061035156, 57.46500015258789, 58.595001220703125, 58.42499923706055, 59.369998931884766, 60.334999084472656, 60.92499923706055, 60.32500076293945, 62.189998626708984, 62.25, 63.54999923706055, 61.119998931884766, 62.814998626708984, 64.52999877929688, 64.90499877929688, 65.2750015258789, 63.22999954223633, 62.584999084472656, 59.834999084472656, 60.775001525878906, 63.0, 64.91999816894531, 66.1449966430664, 67.5199966430664, 63.915000915527344, 65.63500213623047, 66.73500061035156, 65.13500213623047, 66.01000213623047, 64.92500305175781, 66.9000015258789, 67.9000015258789, 67.58000183105469, 67.83999633789062, 66.86000061035156, 66.41999816894531, 66.12000274658203, 67.81500244140625, 65.75, 65.48500061035156, 64.75499725341797, 63.724998474121094, 66.29000091552734, 68.5, 71.03500366210938, 71.31500244140625, 70.22000122070312, 70.56999969482422, 72.9749984741211, 73.84500122070312, 75.03500366210938, 74.30000305175781, 74.33000183105469, 75.08000183105469, 73.8550033569336, 74.29499816894531, 72.55500030517578, 71.37999725341797, 71.41000366210938, 70.87999725341797, 71.62000274658203, 70.4800033569336, 64.0, 66.29499816894531, 66.80500030517578, 69.08499908447266, 69.1500015258789, 67.69999694824219, 63.03499984741211, 62.650001525878906, 62.040000915527344, 60.41999816894531, 58.23500061035156, 59.86000061035156, 59.630001068115234, 64.36499786376953, 63.48500061035156, 62.27000045776367, 61.30500030517578, 61.79999923706055, 64.69999694824219, 66.70999908447266, 66.79000091552734, 70.13999938964844, 70.33999633789062, 70.56500244140625, 69.68000030517578, 70.36000061035156, 72.82499694824219, 73.62999725341797, 74.69999694824219, 74.38999938964844, 76.58999633789062, 77.9800033569336, 79.03500366210938, 82.36499786376953, 84.36499786376953, 84.52999877929688, 82.28500366210938, 78.25, 79.94999694824219, 79.875, 81.04499816894531, 82.02999877929688, 83.8949966430664, 84.38500213623047, 87.66000366210938, 85.43000030517578, 81.3949966430664, 81.16500091552734, 79.36000061035156, 82.66500091552734, 80.3550033569336, 77.23500061035156, 75.82499694824219, 72.46499633789062, 72.76499938964844, 80.87000274658203, 82.73500061035156, 81.0, 80.88999938964844, 79.88999938964844, 74.91500091552734, 75.01499938964844, 75.4749984741211, 73.5, 71.25, 72.8550033569336, 77.41000366210938, 80.98500061035156, 83.5, 85.01499938964844, 83.9749984741211, 84.38500213623047, 82.8550033569336, 82.55999755859375, 80.19499969482422, 74.5, 72.20999908447266, 71.0, 66.05000305175781, 70.5199966430664, 74.94000244140625, 70.0199966430664, 69.0, 66.06089782714844], \"name\": \"TQQQ\", \"open\": [32.654998779296875, 31.8174991607666, 30.889999389648438, 30.274999618530273, 32.02000045776367, 32.165000915527344, 32.467498779296875, 33.35749816894531, 33.897499084472656, 32.9375, 34.665000915527344, 36.5525016784668, 35.70750045776367, 37.317501068115234, 39.64500045776367, 39.3224983215332, 39.6349983215332, 41.47999954223633, 43.869998931884766, 41.682498931884766, 36.345001220703125, 31.237499237060547, 32.25749969482422, 34.130001068115234, 31.75, 31.75, 33.33250045776367, 33.63249969482422, 29.302499771118164, 30.71500015258789, 27.8075008392334, 30.299999237060547, 30.962499618530273, 27.422500610351562, 28.767499923706055, 32.3224983215332, 32.369998931884766, 32.147499084472656, 34.14250183105469, 32.029998779296875, 32.11750030517578, 33.09749984741211, 32.54249954223633, 34.11249923706055, 34.3849983215332, 37.099998474121094, 39.29999923706055, 38.915000915527344, 35.755001068115234, 37.51750183105469, 37.0099983215332, 34.744998931884766, 34.772499084472656, 34.92499923706055, 34.852500915527344, 33.942501068115234, 33.567501068115234, 32.35499954223633, 30.485000610351562, 30.887500762939453, 29.947500228881836, 29.9950008392334, 33.897499084472656, 37.415000915527344, 37.467498779296875, 38.91999816894531, 34.28499984741211, 34.51750183105469, 36.212501525878906, 35.94499969482422, 36.1875, 37.20000076293945, 36.564998626708984, 35.727500915527344, 36.76250076293945, 36.45500183105469, 36.45500183105469, 37.93000030517578, 39.0099983215332, 39.43000030517578, 40.4474983215332, 40.5525016784668, 41.3224983215332, 41.400001525878906, 41.974998474121094, 42.412498474121094, 42.959999084472656, 39.2599983215332, 39.912498474121094, 40.807498931884766, 42.14500045776367, 42.692501068115234, 43.912498474121094, 44.38999938964844, 42.39250183105469, 43.82500076293945, 43.7599983215332, 43.227500915527344, 44.790000915527344, 45.587501525878906, 45.61249923706055, 45.067501068115234, 46.02000045776367, 43.06999969482422, 42.474998474121094, 43.842498779296875, 46.82749938964844, 46.20249938964844, 45.529998779296875, 45.39250183105469, 46.375, 45.352500915527344, 45.36249923706055, 47.9275016784668, 50.125, 50.20500183105469, 51.880001068115234, 51.86000061035156, 50.630001068115234, 47.94499969482422, 47.45000076293945, 46.775001525878906, 49.94499969482422, 51.96500015258789, 51.02000045776367, 52.599998474121094, 53.47999954223633, 53.2400016784668, 54.38999938964844, 54.08000183105469, 53.790000915527344, 55.47999954223633, 53.1150016784668, 52.029998779296875, 53.81999969482422, 50.27000045776367, 45.88999938964844, 46.619998931884766, 47.810001373291016, 45.19499969482422, 46.68000030517578, 48.77000045776367, 45.685001373291016, 41.98500061035156, 41.14500045776367, 41.63999938964844, 41.23500061035156, 44.630001068115234, 44.5099983215332, 43.584999084472656, 44.404998779296875, 46.66999816894531, 45.060001373291016, 44.80500030517578, 42.625, 44.14500045776367, 46.025001525878906, 45.54499816894531, 41.90999984741211, 42.36000061035156, 44.119998931884766, 43.474998474121094, 44.39500045776367, 47.31999969482422, 49.10499954223633, 50.68000030517578, 50.51499938964844, 52.459999084472656, 52.0099983215332, 53.150001525878906, 54.189998626708984, 55.39500045776367, 54.685001373291016, 55.95500183105469, 55.07500076293945, 54.025001525878906, 52.5, 54.334999084472656, 52.86000061035156, 54.654998779296875, 55.73500061035156, 54.69499969482422, 55.93000030517578, 53.64500045776367, 54.380001068115234, 51.724998474121094, 51.02000045776367, 49.435001373291016, 51.98500061035156, 51.244998931884766, 45.29499816894531, 45.5099983215332, 45.29999923706055, 46.439998626708984, 47.255001068115234, 47.60499954223633, 43.82500076293945, 47.03499984741211, 49.77000045776367, 49.275001525878906, 51.375, 51.18000030517578, 51.185001373291016, 51.38999938964844, 51.92499923706055, 50.974998474121094, 49.744998931884766, 50.314998626708984, 51.71500015258789, 53.290000915527344, 53.18000030517578, 52.71500015258789, 54.209999084472656, 54.81999969482422, 56.0099983215332, 55.310001373291016, 53.97999954223633, 55.70500183105469, 55.314998626708984, 56.154998779296875, 57.78499984741211, 58.869998931884766, 59.244998931884766, 59.3849983215332, 60.779998779296875, 61.44499969482422, 61.040000915527344, 62.31999969482422, 63.724998474121094, 65.44999694824219, 61.845001220703125, 63.13999938964844, 65.4000015258789, 65.19000244140625, 66.68000030517578, 65.70500183105469, 64.83000183105469, 60.904998779296875, 61.720001220703125, 63.154998779296875, 64.92500305175781, 66.8499984741211, 68.01000213623047, 68.41500091552734, 66.93000030517578, 66.73999786376953, 65.17500305175781, 67.2699966430664, 66.72000122070312, 67.54499816894531, 68.27999877929688, 68.3949966430664, 68.45500183105469, 68.88500213623047, 68.25, 66.90499877929688, 68.08999633789062, 67.97000122070312, 67.1050033569336, 66.55000305175781, 63.869998931884766, 66.4749984741211, 68.51499938964844, 71.30500030517578, 71.74500274658203, 71.33499908447266, 70.84500122070312, 73.0, 75.11000061035156, 75.41500091552734, 75.9749984741211, 74.3499984741211, 75.7750015258789, 75.90499877929688, 75.36499786376953, 75.5, 74.1449966430664, 73.4749984741211, 72.24500274658203, 72.7750015258789, 73.44999694824219, 67.70999908447266, 67.69000244140625, 67.43000030517578, 69.45500183105469, 69.36000061035156, 69.1050033569336, 66.56999969482422, 63.97999954223633, 63.88999938964844, 62.625, 62.54999923706055, 59.98500061035156, 60.130001068115234, 64.66000366210938, 65.33499908447266, 62.93000030517578, 63.084999084472656, 62.88999938964844, 65.05500030517578, 67.30000305175781, 67.125, 70.5199966430664, 71.74500274658203, 70.72000122070312, 71.73500061035156, 71.49500274658203, 74.16000366210938, 73.77999877929688, 75.15499877929688, 74.59500122070312, 77.9000015258789, 78.01499938964844, 79.66999816894531, 82.71499633789062, 86.2300033569336, 85.25, 85.625, 81.36000061035156, 81.375, 80.90499877929688, 83.45500183105469, 82.1449966430664, 84.6050033569336, 85.83999633789062, 88.21499633789062, 89.6449966430664, 84.7249984741211, 82.65499877929688, 83.38999938964844, 83.0999984741211, 84.83999633789062, 84.43000030517578, 76.70999908447266, 80.0, 75.29499816894531, 80.88500213623047, 83.94499969482422, 84.07499694824219, 82.88500213623047, 83.73500061035156, 77.05999755859375, 77.4800033569336, 83.50499725341797, 74.41500091552734, 72.51000213623047, 75.08000183105469, 77.79000091552734, 81.08499908447266, 83.54499816894531, 87.37999725341797, 85.65499877929688, 85.38500213623047, 84.31500244140625, 83.91500091552734, 85.91500091552734, 81.19000244140625, 73.51499938964844, 74.44999694824219, 69.17500305175781, 71.71499633789062, 76.98500061035156, 77.12999725341797, 69.08999633789062, 68.48500061035156], \"showlegend\": true, \"type\": \"candlestick\", \"x\": [\"2020-08-07T00:00:00\", \"2020-08-10T00:00:00\", \"2020-08-11T00:00:00\", \"2020-08-12T00:00:00\", \"2020-08-13T00:00:00\", \"2020-08-14T00:00:00\", \"2020-08-17T00:00:00\", \"2020-08-18T00:00:00\", \"2020-08-19T00:00:00\", \"2020-08-20T00:00:00\", \"2020-08-21T00:00:00\", \"2020-08-24T00:00:00\", \"2020-08-25T00:00:00\", \"2020-08-26T00:00:00\", \"2020-08-27T00:00:00\", \"2020-08-28T00:00:00\", \"2020-08-31T00:00:00\", \"2020-09-01T00:00:00\", \"2020-09-02T00:00:00\", \"2020-09-03T00:00:00\", \"2020-09-04T00:00:00\", \"2020-09-08T00:00:00\", \"2020-09-09T00:00:00\", \"2020-09-10T00:00:00\", \"2020-09-11T00:00:00\", \"2020-09-14T00:00:00\", \"2020-09-15T00:00:00\", \"2020-09-16T00:00:00\", \"2020-09-17T00:00:00\", \"2020-09-18T00:00:00\", \"2020-09-21T00:00:00\", \"2020-09-22T00:00:00\", \"2020-09-23T00:00:00\", \"2020-09-24T00:00:00\", \"2020-09-25T00:00:00\", \"2020-09-28T00:00:00\", \"2020-09-29T00:00:00\", \"2020-09-30T00:00:00\", \"2020-10-01T00:00:00\", \"2020-10-02T00:00:00\", \"2020-10-05T00:00:00\", \"2020-10-06T00:00:00\", \"2020-10-07T00:00:00\", \"2020-10-08T00:00:00\", \"2020-10-09T00:00:00\", \"2020-10-12T00:00:00\", \"2020-10-13T00:00:00\", \"2020-10-14T00:00:00\", \"2020-10-15T00:00:00\", \"2020-10-16T00:00:00\", \"2020-10-19T00:00:00\", \"2020-10-20T00:00:00\", \"2020-10-21T00:00:00\", \"2020-10-22T00:00:00\", \"2020-10-23T00:00:00\", \"2020-10-26T00:00:00\", \"2020-10-27T00:00:00\", \"2020-10-28T00:00:00\", \"2020-10-29T00:00:00\", \"2020-10-30T00:00:00\", \"2020-11-02T00:00:00\", \"2020-11-03T00:00:00\", \"2020-11-04T00:00:00\", \"2020-11-05T00:00:00\", \"2020-11-06T00:00:00\", \"2020-11-09T00:00:00\", \"2020-11-10T00:00:00\", \"2020-11-11T00:00:00\", \"2020-11-12T00:00:00\", \"2020-11-13T00:00:00\", \"2020-11-16T00:00:00\", \"2020-11-17T00:00:00\", \"2020-11-18T00:00:00\", \"2020-11-19T00:00:00\", \"2020-11-20T00:00:00\", \"2020-11-23T00:00:00\", \"2020-11-24T00:00:00\", \"2020-11-25T00:00:00\", \"2020-11-27T00:00:00\", \"2020-11-30T00:00:00\", \"2020-12-01T00:00:00\", \"2020-12-02T00:00:00\", \"2020-12-03T00:00:00\", \"2020-12-04T00:00:00\", \"2020-12-07T00:00:00\", \"2020-12-08T00:00:00\", \"2020-12-09T00:00:00\", \"2020-12-10T00:00:00\", \"2020-12-11T00:00:00\", \"2020-12-14T00:00:00\", \"2020-12-15T00:00:00\", \"2020-12-16T00:00:00\", \"2020-12-17T00:00:00\", \"2020-12-18T00:00:00\", \"2020-12-21T00:00:00\", \"2020-12-22T00:00:00\", \"2020-12-23T00:00:00\", \"2020-12-24T00:00:00\", \"2020-12-28T00:00:00\", \"2020-12-29T00:00:00\", \"2020-12-30T00:00:00\", \"2020-12-31T00:00:00\", \"2021-01-04T00:00:00\", \"2021-01-05T00:00:00\", \"2021-01-06T00:00:00\", \"2021-01-07T00:00:00\", \"2021-01-08T00:00:00\", \"2021-01-11T00:00:00\", \"2021-01-12T00:00:00\", \"2021-01-13T00:00:00\", \"2021-01-14T00:00:00\", \"2021-01-15T00:00:00\", \"2021-01-19T00:00:00\", \"2021-01-20T00:00:00\", \"2021-01-21T00:00:00\", \"2021-01-22T00:00:00\", \"2021-01-25T00:00:00\", \"2021-01-26T00:00:00\", \"2021-01-27T00:00:00\", \"2021-01-28T00:00:00\", \"2021-01-29T00:00:00\", \"2021-02-01T00:00:00\", \"2021-02-02T00:00:00\", \"2021-02-03T00:00:00\", \"2021-02-04T00:00:00\", \"2021-02-05T00:00:00\", \"2021-02-08T00:00:00\", \"2021-02-09T00:00:00\", \"2021-02-10T00:00:00\", \"2021-02-11T00:00:00\", \"2021-02-12T00:00:00\", \"2021-02-16T00:00:00\", \"2021-02-17T00:00:00\", \"2021-02-18T00:00:00\", \"2021-02-19T00:00:00\", \"2021-02-22T00:00:00\", \"2021-02-23T00:00:00\", \"2021-02-24T00:00:00\", \"2021-02-25T00:00:00\", \"2021-02-26T00:00:00\", \"2021-03-01T00:00:00\", \"2021-03-02T00:00:00\", \"2021-03-03T00:00:00\", \"2021-03-04T00:00:00\", \"2021-03-05T00:00:00\", \"2021-03-08T00:00:00\", \"2021-03-09T00:00:00\", \"2021-03-10T00:00:00\", \"2021-03-11T00:00:00\", \"2021-03-12T00:00:00\", \"2021-03-15T00:00:00\", \"2021-03-16T00:00:00\", \"2021-03-17T00:00:00\", \"2021-03-18T00:00:00\", \"2021-03-19T00:00:00\", \"2021-03-22T00:00:00\", \"2021-03-23T00:00:00\", \"2021-03-24T00:00:00\", \"2021-03-25T00:00:00\", \"2021-03-26T00:00:00\", \"2021-03-29T00:00:00\", \"2021-03-30T00:00:00\", \"2021-03-31T00:00:00\", \"2021-04-01T00:00:00\", \"2021-04-05T00:00:00\", \"2021-04-06T00:00:00\", \"2021-04-07T00:00:00\", \"2021-04-08T00:00:00\", \"2021-04-09T00:00:00\", \"2021-04-12T00:00:00\", \"2021-04-13T00:00:00\", \"2021-04-14T00:00:00\", \"2021-04-15T00:00:00\", \"2021-04-16T00:00:00\", \"2021-04-19T00:00:00\", \"2021-04-20T00:00:00\", \"2021-04-21T00:00:00\", \"2021-04-22T00:00:00\", \"2021-04-23T00:00:00\", \"2021-04-26T00:00:00\", \"2021-04-27T00:00:00\", \"2021-04-28T00:00:00\", \"2021-04-29T00:00:00\", \"2021-04-30T00:00:00\", \"2021-05-03T00:00:00\", \"2021-05-04T00:00:00\", \"2021-05-05T00:00:00\", \"2021-05-06T00:00:00\", \"2021-05-07T00:00:00\", \"2021-05-10T00:00:00\", \"2021-05-11T00:00:00\", \"2021-05-12T00:00:00\", \"2021-05-13T00:00:00\", \"2021-05-14T00:00:00\", \"2021-05-17T00:00:00\", \"2021-05-18T00:00:00\", \"2021-05-19T00:00:00\", \"2021-05-20T00:00:00\", \"2021-05-21T00:00:00\", \"2021-05-24T00:00:00\", \"2021-05-25T00:00:00\", \"2021-05-26T00:00:00\", \"2021-05-27T00:00:00\", \"2021-05-28T00:00:00\", \"2021-06-01T00:00:00\", \"2021-06-02T00:00:00\", \"2021-06-03T00:00:00\", \"2021-06-04T00:00:00\", \"2021-06-07T00:00:00\", \"2021-06-08T00:00:00\", \"2021-06-09T00:00:00\", \"2021-06-10T00:00:00\", \"2021-06-11T00:00:00\", \"2021-06-14T00:00:00\", \"2021-06-15T00:00:00\", \"2021-06-16T00:00:00\", \"2021-06-17T00:00:00\", \"2021-06-18T00:00:00\", \"2021-06-21T00:00:00\", \"2021-06-22T00:00:00\", \"2021-06-23T00:00:00\", \"2021-06-24T00:00:00\", \"2021-06-25T00:00:00\", \"2021-06-28T00:00:00\", \"2021-06-29T00:00:00\", \"2021-06-30T00:00:00\", \"2021-07-01T00:00:00\", \"2021-07-02T00:00:00\", \"2021-07-06T00:00:00\", \"2021-07-07T00:00:00\", \"2021-07-08T00:00:00\", \"2021-07-09T00:00:00\", \"2021-07-12T00:00:00\", \"2021-07-13T00:00:00\", \"2021-07-14T00:00:00\", \"2021-07-15T00:00:00\", \"2021-07-16T00:00:00\", \"2021-07-19T00:00:00\", \"2021-07-20T00:00:00\", \"2021-07-21T00:00:00\", \"2021-07-22T00:00:00\", \"2021-07-23T00:00:00\", \"2021-07-26T00:00:00\", \"2021-07-27T00:00:00\", \"2021-07-28T00:00:00\", \"2021-07-29T00:00:00\", \"2021-07-30T00:00:00\", \"2021-08-02T00:00:00\", \"2021-08-03T00:00:00\", \"2021-08-04T00:00:00\", \"2021-08-05T00:00:00\", \"2021-08-06T00:00:00\", \"2021-08-09T00:00:00\", \"2021-08-10T00:00:00\", \"2021-08-11T00:00:00\", \"2021-08-12T00:00:00\", \"2021-08-13T00:00:00\", \"2021-08-16T00:00:00\", \"2021-08-17T00:00:00\", \"2021-08-18T00:00:00\", \"2021-08-19T00:00:00\", \"2021-08-20T00:00:00\", \"2021-08-23T00:00:00\", \"2021-08-24T00:00:00\", \"2021-08-25T00:00:00\", \"2021-08-26T00:00:00\", \"2021-08-27T00:00:00\", \"2021-08-30T00:00:00\", \"2021-08-31T00:00:00\", \"2021-09-01T00:00:00\", \"2021-09-02T00:00:00\", \"2021-09-03T00:00:00\", \"2021-09-07T00:00:00\", \"2021-09-08T00:00:00\", \"2021-09-09T00:00:00\", \"2021-09-10T00:00:00\", \"2021-09-13T00:00:00\", \"2021-09-14T00:00:00\", \"2021-09-15T00:00:00\", \"2021-09-16T00:00:00\", \"2021-09-17T00:00:00\", \"2021-09-20T00:00:00\", \"2021-09-21T00:00:00\", \"2021-09-22T00:00:00\", \"2021-09-23T00:00:00\", \"2021-09-24T00:00:00\", \"2021-09-27T00:00:00\", \"2021-09-28T00:00:00\", \"2021-09-29T00:00:00\", \"2021-09-30T00:00:00\", \"2021-10-01T00:00:00\", \"2021-10-04T00:00:00\", \"2021-10-05T00:00:00\", \"2021-10-06T00:00:00\", \"2021-10-07T00:00:00\", \"2021-10-08T00:00:00\", \"2021-10-11T00:00:00\", \"2021-10-12T00:00:00\", \"2021-10-13T00:00:00\", \"2021-10-14T00:00:00\", \"2021-10-15T00:00:00\", \"2021-10-18T00:00:00\", \"2021-10-19T00:00:00\", \"2021-10-20T00:00:00\", \"2021-10-21T00:00:00\", \"2021-10-22T00:00:00\", \"2021-10-25T00:00:00\", \"2021-10-26T00:00:00\", \"2021-10-27T00:00:00\", \"2021-10-28T00:00:00\", \"2021-10-29T00:00:00\", \"2021-11-01T00:00:00\", \"2021-11-02T00:00:00\", \"2021-11-03T00:00:00\", \"2021-11-04T00:00:00\", \"2021-11-05T00:00:00\", \"2021-11-08T00:00:00\", \"2021-11-09T00:00:00\", \"2021-11-10T00:00:00\", \"2021-11-11T00:00:00\", \"2021-11-12T00:00:00\", \"2021-11-15T00:00:00\", \"2021-11-16T00:00:00\", \"2021-11-17T00:00:00\", \"2021-11-18T00:00:00\", \"2021-11-19T00:00:00\", \"2021-11-22T00:00:00\", \"2021-11-23T00:00:00\", \"2021-11-24T00:00:00\", \"2021-11-26T00:00:00\", \"2021-11-29T00:00:00\", \"2021-11-30T00:00:00\", \"2021-12-01T00:00:00\", \"2021-12-02T00:00:00\", \"2021-12-03T00:00:00\", \"2021-12-06T00:00:00\", \"2021-12-07T00:00:00\", \"2021-12-08T00:00:00\", \"2021-12-09T00:00:00\", \"2021-12-10T00:00:00\", \"2021-12-13T00:00:00\", \"2021-12-14T00:00:00\", \"2021-12-15T00:00:00\", \"2021-12-16T00:00:00\", \"2021-12-17T00:00:00\", \"2021-12-20T00:00:00\", \"2021-12-21T00:00:00\", \"2021-12-22T00:00:00\", \"2021-12-23T00:00:00\", \"2021-12-27T00:00:00\", \"2021-12-28T00:00:00\", \"2021-12-29T00:00:00\", \"2021-12-30T00:00:00\", \"2021-12-31T00:00:00\", \"2022-01-03T00:00:00\", \"2022-01-04T00:00:00\", \"2022-01-05T00:00:00\", \"2022-01-06T00:00:00\", \"2022-01-07T00:00:00\", \"2022-01-10T00:00:00\", \"2022-01-11T00:00:00\", \"2022-01-12T00:00:00\", \"2022-01-13T00:00:00\", \"2022-01-14T00:00:00\", \"2022-01-18T00:00:00\"], \"xaxis\": \"x\", \"yaxis\": \"y\"}, {\"line\": {\"color\": \"lightgreen\", \"width\": 2}, \"mode\": \"lines\", \"name\": \"MA 20\", \"type\": \"scatter\", \"x\": [\"2020-08-07T00:00:00\", \"2020-08-10T00:00:00\", \"2020-08-11T00:00:00\", \"2020-08-12T00:00:00\", \"2020-08-13T00:00:00\", \"2020-08-14T00:00:00\", \"2020-08-17T00:00:00\", \"2020-08-18T00:00:00\", \"2020-08-19T00:00:00\", \"2020-08-20T00:00:00\", \"2020-08-21T00:00:00\", \"2020-08-24T00:00:00\", \"2020-08-25T00:00:00\", \"2020-08-26T00:00:00\", \"2020-08-27T00:00:00\", \"2020-08-28T00:00:00\", \"2020-08-31T00:00:00\", \"2020-09-01T00:00:00\", \"2020-09-02T00:00:00\", \"2020-09-03T00:00:00\", \"2020-09-04T00:00:00\", \"2020-09-08T00:00:00\", \"2020-09-09T00:00:00\", \"2020-09-10T00:00:00\", \"2020-09-11T00:00:00\", \"2020-09-14T00:00:00\", \"2020-09-15T00:00:00\", \"2020-09-16T00:00:00\", \"2020-09-17T00:00:00\", \"2020-09-18T00:00:00\", \"2020-09-21T00:00:00\", \"2020-09-22T00:00:00\", \"2020-09-23T00:00:00\", \"2020-09-24T00:00:00\", \"2020-09-25T00:00:00\", \"2020-09-28T00:00:00\", \"2020-09-29T00:00:00\", \"2020-09-30T00:00:00\", \"2020-10-01T00:00:00\", \"2020-10-02T00:00:00\", \"2020-10-05T00:00:00\", \"2020-10-06T00:00:00\", \"2020-10-07T00:00:00\", \"2020-10-08T00:00:00\", \"2020-10-09T00:00:00\", \"2020-10-12T00:00:00\", \"2020-10-13T00:00:00\", \"2020-10-14T00:00:00\", \"2020-10-15T00:00:00\", \"2020-10-16T00:00:00\", \"2020-10-19T00:00:00\", \"2020-10-20T00:00:00\", \"2020-10-21T00:00:00\", \"2020-10-22T00:00:00\", \"2020-10-23T00:00:00\", \"2020-10-26T00:00:00\", \"2020-10-27T00:00:00\", \"2020-10-28T00:00:00\", \"2020-10-29T00:00:00\", \"2020-10-30T00:00:00\", \"2020-11-02T00:00:00\", \"2020-11-03T00:00:00\", \"2020-11-04T00:00:00\", \"2020-11-05T00:00:00\", \"2020-11-06T00:00:00\", \"2020-11-09T00:00:00\", \"2020-11-10T00:00:00\", \"2020-11-11T00:00:00\", \"2020-11-12T00:00:00\", \"2020-11-13T00:00:00\", \"2020-11-16T00:00:00\", \"2020-11-17T00:00:00\", \"2020-11-18T00:00:00\", \"2020-11-19T00:00:00\", \"2020-11-20T00:00:00\", \"2020-11-23T00:00:00\", \"2020-11-24T00:00:00\", \"2020-11-25T00:00:00\", \"2020-11-27T00:00:00\", \"2020-11-30T00:00:00\", \"2020-12-01T00:00:00\", \"2020-12-02T00:00:00\", \"2020-12-03T00:00:00\", \"2020-12-04T00:00:00\", \"2020-12-07T00:00:00\", \"2020-12-08T00:00:00\", \"2020-12-09T00:00:00\", \"2020-12-10T00:00:00\", \"2020-12-11T00:00:00\", \"2020-12-14T00:00:00\", \"2020-12-15T00:00:00\", \"2020-12-16T00:00:00\", \"2020-12-17T00:00:00\", \"2020-12-18T00:00:00\", \"2020-12-21T00:00:00\", \"2020-12-22T00:00:00\", \"2020-12-23T00:00:00\", \"2020-12-24T00:00:00\", \"2020-12-28T00:00:00\", \"2020-12-29T00:00:00\", \"2020-12-30T00:00:00\", \"2020-12-31T00:00:00\", \"2021-01-04T00:00:00\", \"2021-01-05T00:00:00\", \"2021-01-06T00:00:00\", \"2021-01-07T00:00:00\", \"2021-01-08T00:00:00\", \"2021-01-11T00:00:00\", \"2021-01-12T00:00:00\", \"2021-01-13T00:00:00\", \"2021-01-14T00:00:00\", \"2021-01-15T00:00:00\", \"2021-01-19T00:00:00\", \"2021-01-20T00:00:00\", \"2021-01-21T00:00:00\", \"2021-01-22T00:00:00\", \"2021-01-25T00:00:00\", \"2021-01-26T00:00:00\", \"2021-01-27T00:00:00\", \"2021-01-28T00:00:00\", \"2021-01-29T00:00:00\", \"2021-02-01T00:00:00\", \"2021-02-02T00:00:00\", \"2021-02-03T00:00:00\", \"2021-02-04T00:00:00\", \"2021-02-05T00:00:00\", \"2021-02-08T00:00:00\", \"2021-02-09T00:00:00\", \"2021-02-10T00:00:00\", \"2021-02-11T00:00:00\", \"2021-02-12T00:00:00\", \"2021-02-16T00:00:00\", \"2021-02-17T00:00:00\", \"2021-02-18T00:00:00\", \"2021-02-19T00:00:00\", \"2021-02-22T00:00:00\", \"2021-02-23T00:00:00\", \"2021-02-24T00:00:00\", \"2021-02-25T00:00:00\", \"2021-02-26T00:00:00\", \"2021-03-01T00:00:00\", \"2021-03-02T00:00:00\", \"2021-03-03T00:00:00\", \"2021-03-04T00:00:00\", \"2021-03-05T00:00:00\", \"2021-03-08T00:00:00\", \"2021-03-09T00:00:00\", \"2021-03-10T00:00:00\", \"2021-03-11T00:00:00\", \"2021-03-12T00:00:00\", \"2021-03-15T00:00:00\", \"2021-03-16T00:00:00\", \"2021-03-17T00:00:00\", \"2021-03-18T00:00:00\", \"2021-03-19T00:00:00\", \"2021-03-22T00:00:00\", \"2021-03-23T00:00:00\", \"2021-03-24T00:00:00\", \"2021-03-25T00:00:00\", \"2021-03-26T00:00:00\", \"2021-03-29T00:00:00\", \"2021-03-30T00:00:00\", \"2021-03-31T00:00:00\", \"2021-04-01T00:00:00\", \"2021-04-05T00:00:00\", \"2021-04-06T00:00:00\", \"2021-04-07T00:00:00\", \"2021-04-08T00:00:00\", \"2021-04-09T00:00:00\", \"2021-04-12T00:00:00\", \"2021-04-13T00:00:00\", \"2021-04-14T00:00:00\", \"2021-04-15T00:00:00\", \"2021-04-16T00:00:00\", \"2021-04-19T00:00:00\", \"2021-04-20T00:00:00\", \"2021-04-21T00:00:00\", \"2021-04-22T00:00:00\", \"2021-04-23T00:00:00\", \"2021-04-26T00:00:00\", \"2021-04-27T00:00:00\", \"2021-04-28T00:00:00\", \"2021-04-29T00:00:00\", \"2021-04-30T00:00:00\", \"2021-05-03T00:00:00\", \"2021-05-04T00:00:00\", \"2021-05-05T00:00:00\", \"2021-05-06T00:00:00\", \"2021-05-07T00:00:00\", \"2021-05-10T00:00:00\", \"2021-05-11T00:00:00\", \"2021-05-12T00:00:00\", \"2021-05-13T00:00:00\", \"2021-05-14T00:00:00\", \"2021-05-17T00:00:00\", \"2021-05-18T00:00:00\", \"2021-05-19T00:00:00\", \"2021-05-20T00:00:00\", \"2021-05-21T00:00:00\", \"2021-05-24T00:00:00\", \"2021-05-25T00:00:00\", \"2021-05-26T00:00:00\", \"2021-05-27T00:00:00\", \"2021-05-28T00:00:00\", \"2021-06-01T00:00:00\", \"2021-06-02T00:00:00\", \"2021-06-03T00:00:00\", \"2021-06-04T00:00:00\", \"2021-06-07T00:00:00\", \"2021-06-08T00:00:00\", \"2021-06-09T00:00:00\", \"2021-06-10T00:00:00\", \"2021-06-11T00:00:00\", \"2021-06-14T00:00:00\", \"2021-06-15T00:00:00\", \"2021-06-16T00:00:00\", \"2021-06-17T00:00:00\", \"2021-06-18T00:00:00\", \"2021-06-21T00:00:00\", \"2021-06-22T00:00:00\", \"2021-06-23T00:00:00\", \"2021-06-24T00:00:00\", \"2021-06-25T00:00:00\", \"2021-06-28T00:00:00\", \"2021-06-29T00:00:00\", \"2021-06-30T00:00:00\", \"2021-07-01T00:00:00\", \"2021-07-02T00:00:00\", \"2021-07-06T00:00:00\", \"2021-07-07T00:00:00\", \"2021-07-08T00:00:00\", \"2021-07-09T00:00:00\", \"2021-07-12T00:00:00\", \"2021-07-13T00:00:00\", \"2021-07-14T00:00:00\", \"2021-07-15T00:00:00\", \"2021-07-16T00:00:00\", \"2021-07-19T00:00:00\", \"2021-07-20T00:00:00\", \"2021-07-21T00:00:00\", \"2021-07-22T00:00:00\", \"2021-07-23T00:00:00\", \"2021-07-26T00:00:00\", \"2021-07-27T00:00:00\", \"2021-07-28T00:00:00\", \"2021-07-29T00:00:00\", \"2021-07-30T00:00:00\", \"2021-08-02T00:00:00\", \"2021-08-03T00:00:00\", \"2021-08-04T00:00:00\", \"2021-08-05T00:00:00\", \"2021-08-06T00:00:00\", \"2021-08-09T00:00:00\", \"2021-08-10T00:00:00\", \"2021-08-11T00:00:00\", \"2021-08-12T00:00:00\", \"2021-08-13T00:00:00\", \"2021-08-16T00:00:00\", \"2021-08-17T00:00:00\", \"2021-08-18T00:00:00\", \"2021-08-19T00:00:00\", \"2021-08-20T00:00:00\", \"2021-08-23T00:00:00\", \"2021-08-24T00:00:00\", \"2021-08-25T00:00:00\", \"2021-08-26T00:00:00\", \"2021-08-27T00:00:00\", \"2021-08-30T00:00:00\", \"2021-08-31T00:00:00\", \"2021-09-01T00:00:00\", \"2021-09-02T00:00:00\", \"2021-09-03T00:00:00\", \"2021-09-07T00:00:00\", \"2021-09-08T00:00:00\", \"2021-09-09T00:00:00\", \"2021-09-10T00:00:00\", \"2021-09-13T00:00:00\", \"2021-09-14T00:00:00\", \"2021-09-15T00:00:00\", \"2021-09-16T00:00:00\", \"2021-09-17T00:00:00\", \"2021-09-20T00:00:00\", \"2021-09-21T00:00:00\", \"2021-09-22T00:00:00\", \"2021-09-23T00:00:00\", \"2021-09-24T00:00:00\", \"2021-09-27T00:00:00\", \"2021-09-28T00:00:00\", \"2021-09-29T00:00:00\", \"2021-09-30T00:00:00\", \"2021-10-01T00:00:00\", \"2021-10-04T00:00:00\", \"2021-10-05T00:00:00\", \"2021-10-06T00:00:00\", \"2021-10-07T00:00:00\", \"2021-10-08T00:00:00\", \"2021-10-11T00:00:00\", \"2021-10-12T00:00:00\", \"2021-10-13T00:00:00\", \"2021-10-14T00:00:00\", \"2021-10-15T00:00:00\", \"2021-10-18T00:00:00\", \"2021-10-19T00:00:00\", \"2021-10-20T00:00:00\", \"2021-10-21T00:00:00\", \"2021-10-22T00:00:00\", \"2021-10-25T00:00:00\", \"2021-10-26T00:00:00\", \"2021-10-27T00:00:00\", \"2021-10-28T00:00:00\", \"2021-10-29T00:00:00\", \"2021-11-01T00:00:00\", \"2021-11-02T00:00:00\", \"2021-11-03T00:00:00\", \"2021-11-04T00:00:00\", \"2021-11-05T00:00:00\", \"2021-11-08T00:00:00\", \"2021-11-09T00:00:00\", \"2021-11-10T00:00:00\", \"2021-11-11T00:00:00\", \"2021-11-12T00:00:00\", \"2021-11-15T00:00:00\", \"2021-11-16T00:00:00\", \"2021-11-17T00:00:00\", \"2021-11-18T00:00:00\", \"2021-11-19T00:00:00\", \"2021-11-22T00:00:00\", \"2021-11-23T00:00:00\", \"2021-11-24T00:00:00\", \"2021-11-26T00:00:00\", \"2021-11-29T00:00:00\", \"2021-11-30T00:00:00\", \"2021-12-01T00:00:00\", \"2021-12-02T00:00:00\", \"2021-12-03T00:00:00\", \"2021-12-06T00:00:00\", \"2021-12-07T00:00:00\", \"2021-12-08T00:00:00\", \"2021-12-09T00:00:00\", \"2021-12-10T00:00:00\", \"2021-12-13T00:00:00\", \"2021-12-14T00:00:00\", \"2021-12-15T00:00:00\", \"2021-12-16T00:00:00\", \"2021-12-17T00:00:00\", \"2021-12-20T00:00:00\", \"2021-12-21T00:00:00\", \"2021-12-22T00:00:00\", \"2021-12-23T00:00:00\", \"2021-12-27T00:00:00\", \"2021-12-28T00:00:00\", \"2021-12-29T00:00:00\", \"2021-12-30T00:00:00\", \"2021-12-31T00:00:00\", \"2022-01-03T00:00:00\", \"2022-01-04T00:00:00\", \"2022-01-05T00:00:00\", \"2022-01-06T00:00:00\", \"2022-01-07T00:00:00\", \"2022-01-10T00:00:00\", \"2022-01-11T00:00:00\", \"2022-01-12T00:00:00\", \"2022-01-13T00:00:00\", \"2022-01-14T00:00:00\", \"2022-01-18T00:00:00\"], \"xaxis\": \"x\", \"y\": [29.154374885559083, 29.33474988937378, 29.39687490463257, 29.562499904632567, 29.769749927520753, 29.96587495803833, 30.095625019073488, 30.322249984741212, 30.498750114440917, 30.86000003814697, 31.297875118255615, 31.697125148773193, 32.19100017547608, 32.756875133514406, 33.28237514495849, 33.76150026321411, 34.230625247955324, 34.784375286102296, 35.385500240325925, 35.59112520217896, 35.774250221252444, 35.728500270843504, 35.902250385284425, 35.87000036239624, 35.79262533187866, 35.798250389099124, 35.81925029754639, 35.71175031661987, 35.5642502784729, 35.2898754119873, 34.99662532806396, 34.75112533569336, 34.31975030899048, 33.79112539291382, 33.380500411987306, 33.030625343322754, 32.61812534332275, 32.13262519836426, 31.66387519836426, 31.38887529373169, 31.28912534713745, 31.349875354766844, 31.363125324249268, 31.496375274658202, 31.73875036239624, 32.06725025177002, 32.32800025939942, 32.621250247955324, 32.94875020980835, 33.30650024414062, 33.556875228881836, 33.73787517547608, 34.0582501411438, 34.35887517929077, 34.56937522888184, 34.60975017547607, 34.70637512207031, 34.57162523269653, 34.43662528991699, 34.33312520980835, 34.1310001373291, 34.09250011444092, 34.179375076293944, 34.37687511444092, 34.50562496185303, 34.35437507629395, 34.10700016021728, 34.020250129699704, 33.94612503051758, 33.94662494659424, 34.07899990081787, 34.18312492370605, 34.249124908447264, 34.35874977111816, 34.420874786376956, 34.5627498626709, 34.739124870300294, 35.15049982070923, 35.5377498626709, 36.04487495422363, 36.62912492752075, 37.14774990081787, 37.46624984741211, 37.67499980926514, 37.91287479400635, 38.28574981689453, 38.61049976348877, 38.84687480926514, 39.09524993896484, 39.34025001525879, 39.607500076293945, 39.92750015258789, 40.33437519073486, 40.672750282287595, 41.0403751373291, 41.4247501373291, 41.70237522125244, 41.972625160217284, 42.25612506866455, 42.5361249923706, 42.738125038146975, 42.94950008392334, 43.05312519073486, 43.18587532043457, 43.191000366210936, 43.33087520599365, 43.70350017547607, 43.94637508392334, 44.19362506866455, 44.44187507629395, 44.59099998474121, 44.64924983978271, 44.75937480926514, 45.05474987030029, 45.41975002288818, 45.74462490081787, 46.17224979400635, 46.57462482452392, 46.702999877929685, 46.859749984741214, 46.866625022888186, 47.02212505340576, 47.394499969482425, 47.68312492370605, 48.15287494659424, 48.49562511444092, 48.8011251449585, 49.210500144958495, 49.61075019836426, 50.01000003814697, 50.4903751373291, 51.003000259399414, 51.381500244140625, 51.562500190734866, 51.64700012207031, 51.551500129699704, 51.36475009918213, 51.23300018310547, 51.053500175476074, 50.87200012207031, 51.03525009155273, 50.91599998474121, 50.47899990081787, 49.96699981689453, 49.455749893188475, 48.73824977874756, 48.19474983215332, 47.63424987792969, 47.239999771118164, 46.746249771118165, 46.2772497177124, 45.86874961853027, 45.5274995803833, 45.00674953460693, 44.54824962615967, 44.40799961090088, 44.25949974060059, 43.9397497177124, 43.8647497177124, 43.8504997253418, 43.640499687194826, 43.51524963378906, 43.68824977874756, 44.081499862670896, 44.52899990081787, 45.14949989318848, 45.56324977874756, 46.07499980926514, 46.487249755859374, 46.94549980163574, 47.424499893188475, 47.768999862670896, 48.20199985504151, 48.86249980926514, 49.41949977874756, 49.801749801635744, 50.280999755859376, 50.77449970245361, 51.378499603271486, 51.94274959564209, 52.47174968719482, 53.00399971008301, 53.46549968719482, 53.75949974060059, 53.86549968719483, 53.837999725341795, 53.76249980926514, 53.66149978637695, 53.57474994659424, 53.30349998474121, 52.92874984741211, 52.46924991607666, 51.938500022888185, 51.54250011444092, 51.182250022888184, 50.832000160217284, 50.42300014495849, 50.247250175476076, 49.932000160217285, 49.683500099182126, 49.48374996185303, 49.33800010681152, 49.13500003814697, 49.008249855041505, 48.900499725341795, 48.94549980163574, 48.939499855041504, 49.00599994659424, 49.03349990844727, 49.258999824523926, 49.49949989318848, 50.00224990844727, 50.47999992370605, 50.8877498626709, 51.283999824523924, 51.700249671936035, 52.20974960327148, 52.51774959564209, 52.91674976348877, 53.27349987030029, 53.62299995422363, 53.999999809265134, 54.39774990081787, 54.874749946594235, 55.41100006103515, 55.92049999237061, 56.511749839782716, 57.08024978637695, 57.668249702453615, 58.273749923706056, 58.82024993896484, 59.339999771118165, 59.87874984741211, 60.339249801635745, 60.86949996948242, 61.36125011444092, 61.67225017547607, 61.97550010681152, 62.329249954223634, 62.676749801635744, 63.087249755859375, 63.55424976348877, 64.04474983215331, 64.31924972534179, 64.5957498550415, 64.90224971771241, 65.15674991607666, 65.30624980926514, 65.4709997177124, 65.63199939727784, 65.91274929046631, 66.09474925994873, 66.25449924468994, 66.36474933624268, 66.43899936676026, 66.61624927520752, 66.90649929046631, 67.27799949645996, 67.45824966430663, 67.4689998626709, 67.45799980163574, 67.43899993896484, 67.55699996948242, 67.8220001220703, 68.05475006103515, 68.21025009155274, 68.51925010681153, 68.9495002746582, 69.3115005493164, 69.67725067138672, 69.97400093078613, 70.34950103759766, 70.7222511291504, 71.1072509765625, 71.47025070190429, 71.71450080871583, 71.91650085449218, 72.08125076293945, 72.41600074768067, 72.85525054931641, 73.11800079345703, 73.06025085449218, 72.85550079345703, 72.7135009765625, 72.66300086975097, 72.68325080871583, 72.51500053405762, 71.93800048828125, 71.35050029754639, 70.70700035095214, 70.12550010681153, 69.31525020599365, 68.60400009155273, 67.99275016784668, 67.50700035095215, 67.05525035858155, 66.54100036621094, 66.02625026702881, 65.50400009155274, 65.14875030517578, 64.98550033569336, 65.14275016784669, 65.37250022888183, 65.49324989318848, 65.58224983215332, 65.56949996948242, 65.74825019836426, 66.2495002746582, 66.80075016021729, 67.50900001525879, 68.21700019836426, 69.15825023651124, 70.0372501373291, 70.98125038146972, 71.99275016784668, 73.06975002288819, 74.2, 75.27450008392334, 76.09450035095215, 76.77250022888184, 77.51599998474121, 78.1564998626709, 78.80574989318848, 79.47125015258788, 80.20225028991699, 81.09875030517578, 81.73575019836426, 82.28050003051757, 82.83525009155274, 83.03375015258788, 83.42550010681153, 83.59550018310547, 83.50350036621094, 83.35850028991699, 82.86225051879883, 82.43800048828125, 82.37750053405762, 82.46275062561035, 82.54700050354003, 82.72475051879883, 82.59525070190429, 82.34775085449219, 82.27200050354004, 81.87500038146973, 81.29025039672851, 80.51900024414063, 80.1457504272461, 79.97000045776367, 79.85125045776367, 80.16500053405761, 80.17800064086914, 80.36775054931641, 80.727250289917, 80.93500022888183, 81.46125030517578, 81.73350028991699, 81.28125038146973, 80.76050033569337, 80.30125045776367, 79.72950057983398, 79.49675064086914, 79.42625045776367, 78.82150077819824, 78.58650093078613, 78.1510009765625], \"yaxis\": \"y\"}, {\"fill\": \"tonexty\", \"line\": {\"color\": \"green\", \"width\": 2}, \"mode\": \"lines\", \"name\": \"EMA 21\", \"type\": \"scatter\", \"x\": [\"2020-08-07T00:00:00\", \"2020-08-10T00:00:00\", \"2020-08-11T00:00:00\", \"2020-08-12T00:00:00\", \"2020-08-13T00:00:00\", \"2020-08-14T00:00:00\", \"2020-08-17T00:00:00\", \"2020-08-18T00:00:00\", \"2020-08-19T00:00:00\", \"2020-08-20T00:00:00\", \"2020-08-21T00:00:00\", \"2020-08-24T00:00:00\", \"2020-08-25T00:00:00\", \"2020-08-26T00:00:00\", \"2020-08-27T00:00:00\", \"2020-08-28T00:00:00\", \"2020-08-31T00:00:00\", \"2020-09-01T00:00:00\", \"2020-09-02T00:00:00\", \"2020-09-03T00:00:00\", \"2020-09-04T00:00:00\", \"2020-09-08T00:00:00\", \"2020-09-09T00:00:00\", \"2020-09-10T00:00:00\", \"2020-09-11T00:00:00\", \"2020-09-14T00:00:00\", \"2020-09-15T00:00:00\", \"2020-09-16T00:00:00\", \"2020-09-17T00:00:00\", \"2020-09-18T00:00:00\", \"2020-09-21T00:00:00\", \"2020-09-22T00:00:00\", \"2020-09-23T00:00:00\", \"2020-09-24T00:00:00\", \"2020-09-25T00:00:00\", \"2020-09-28T00:00:00\", \"2020-09-29T00:00:00\", \"2020-09-30T00:00:00\", \"2020-10-01T00:00:00\", \"2020-10-02T00:00:00\", \"2020-10-05T00:00:00\", \"2020-10-06T00:00:00\", \"2020-10-07T00:00:00\", \"2020-10-08T00:00:00\", \"2020-10-09T00:00:00\", \"2020-10-12T00:00:00\", \"2020-10-13T00:00:00\", \"2020-10-14T00:00:00\", \"2020-10-15T00:00:00\", \"2020-10-16T00:00:00\", \"2020-10-19T00:00:00\", \"2020-10-20T00:00:00\", \"2020-10-21T00:00:00\", \"2020-10-22T00:00:00\", \"2020-10-23T00:00:00\", \"2020-10-26T00:00:00\", \"2020-10-27T00:00:00\", \"2020-10-28T00:00:00\", \"2020-10-29T00:00:00\", \"2020-10-30T00:00:00\", \"2020-11-02T00:00:00\", \"2020-11-03T00:00:00\", \"2020-11-04T00:00:00\", \"2020-11-05T00:00:00\", \"2020-11-06T00:00:00\", \"2020-11-09T00:00:00\", \"2020-11-10T00:00:00\", \"2020-11-11T00:00:00\", \"2020-11-12T00:00:00\", \"2020-11-13T00:00:00\", \"2020-11-16T00:00:00\", \"2020-11-17T00:00:00\", \"2020-11-18T00:00:00\", \"2020-11-19T00:00:00\", \"2020-11-20T00:00:00\", \"2020-11-23T00:00:00\", \"2020-11-24T00:00:00\", \"2020-11-25T00:00:00\", \"2020-11-27T00:00:00\", \"2020-11-30T00:00:00\", \"2020-12-01T00:00:00\", \"2020-12-02T00:00:00\", \"2020-12-03T00:00:00\", \"2020-12-04T00:00:00\", \"2020-12-07T00:00:00\", \"2020-12-08T00:00:00\", \"2020-12-09T00:00:00\", \"2020-12-10T00:00:00\", \"2020-12-11T00:00:00\", \"2020-12-14T00:00:00\", \"2020-12-15T00:00:00\", \"2020-12-16T00:00:00\", \"2020-12-17T00:00:00\", \"2020-12-18T00:00:00\", \"2020-12-21T00:00:00\", \"2020-12-22T00:00:00\", \"2020-12-23T00:00:00\", \"2020-12-24T00:00:00\", \"2020-12-28T00:00:00\", \"2020-12-29T00:00:00\", \"2020-12-30T00:00:00\", \"2020-12-31T00:00:00\", \"2021-01-04T00:00:00\", \"2021-01-05T00:00:00\", \"2021-01-06T00:00:00\", \"2021-01-07T00:00:00\", \"2021-01-08T00:00:00\", \"2021-01-11T00:00:00\", \"2021-01-12T00:00:00\", \"2021-01-13T00:00:00\", \"2021-01-14T00:00:00\", \"2021-01-15T00:00:00\", \"2021-01-19T00:00:00\", \"2021-01-20T00:00:00\", \"2021-01-21T00:00:00\", \"2021-01-22T00:00:00\", \"2021-01-25T00:00:00\", \"2021-01-26T00:00:00\", \"2021-01-27T00:00:00\", \"2021-01-28T00:00:00\", \"2021-01-29T00:00:00\", \"2021-02-01T00:00:00\", \"2021-02-02T00:00:00\", \"2021-02-03T00:00:00\", \"2021-02-04T00:00:00\", \"2021-02-05T00:00:00\", \"2021-02-08T00:00:00\", \"2021-02-09T00:00:00\", \"2021-02-10T00:00:00\", \"2021-02-11T00:00:00\", \"2021-02-12T00:00:00\", \"2021-02-16T00:00:00\", \"2021-02-17T00:00:00\", \"2021-02-18T00:00:00\", \"2021-02-19T00:00:00\", \"2021-02-22T00:00:00\", \"2021-02-23T00:00:00\", \"2021-02-24T00:00:00\", \"2021-02-25T00:00:00\", \"2021-02-26T00:00:00\", \"2021-03-01T00:00:00\", \"2021-03-02T00:00:00\", \"2021-03-03T00:00:00\", \"2021-03-04T00:00:00\", \"2021-03-05T00:00:00\", \"2021-03-08T00:00:00\", \"2021-03-09T00:00:00\", \"2021-03-10T00:00:00\", \"2021-03-11T00:00:00\", \"2021-03-12T00:00:00\", \"2021-03-15T00:00:00\", \"2021-03-16T00:00:00\", \"2021-03-17T00:00:00\", \"2021-03-18T00:00:00\", \"2021-03-19T00:00:00\", \"2021-03-22T00:00:00\", \"2021-03-23T00:00:00\", \"2021-03-24T00:00:00\", \"2021-03-25T00:00:00\", \"2021-03-26T00:00:00\", \"2021-03-29T00:00:00\", \"2021-03-30T00:00:00\", \"2021-03-31T00:00:00\", \"2021-04-01T00:00:00\", \"2021-04-05T00:00:00\", \"2021-04-06T00:00:00\", \"2021-04-07T00:00:00\", \"2021-04-08T00:00:00\", \"2021-04-09T00:00:00\", \"2021-04-12T00:00:00\", \"2021-04-13T00:00:00\", \"2021-04-14T00:00:00\", \"2021-04-15T00:00:00\", \"2021-04-16T00:00:00\", \"2021-04-19T00:00:00\", \"2021-04-20T00:00:00\", \"2021-04-21T00:00:00\", \"2021-04-22T00:00:00\", \"2021-04-23T00:00:00\", \"2021-04-26T00:00:00\", \"2021-04-27T00:00:00\", \"2021-04-28T00:00:00\", \"2021-04-29T00:00:00\", \"2021-04-30T00:00:00\", \"2021-05-03T00:00:00\", \"2021-05-04T00:00:00\", \"2021-05-05T00:00:00\", \"2021-05-06T00:00:00\", \"2021-05-07T00:00:00\", \"2021-05-10T00:00:00\", \"2021-05-11T00:00:00\", \"2021-05-12T00:00:00\", \"2021-05-13T00:00:00\", \"2021-05-14T00:00:00\", \"2021-05-17T00:00:00\", \"2021-05-18T00:00:00\", \"2021-05-19T00:00:00\", \"2021-05-20T00:00:00\", \"2021-05-21T00:00:00\", \"2021-05-24T00:00:00\", \"2021-05-25T00:00:00\", \"2021-05-26T00:00:00\", \"2021-05-27T00:00:00\", \"2021-05-28T00:00:00\", \"2021-06-01T00:00:00\", \"2021-06-02T00:00:00\", \"2021-06-03T00:00:00\", \"2021-06-04T00:00:00\", \"2021-06-07T00:00:00\", \"2021-06-08T00:00:00\", \"2021-06-09T00:00:00\", \"2021-06-10T00:00:00\", \"2021-06-11T00:00:00\", \"2021-06-14T00:00:00\", \"2021-06-15T00:00:00\", \"2021-06-16T00:00:00\", \"2021-06-17T00:00:00\", \"2021-06-18T00:00:00\", \"2021-06-21T00:00:00\", \"2021-06-22T00:00:00\", \"2021-06-23T00:00:00\", \"2021-06-24T00:00:00\", \"2021-06-25T00:00:00\", \"2021-06-28T00:00:00\", \"2021-06-29T00:00:00\", \"2021-06-30T00:00:00\", \"2021-07-01T00:00:00\", \"2021-07-02T00:00:00\", \"2021-07-06T00:00:00\", \"2021-07-07T00:00:00\", \"2021-07-08T00:00:00\", \"2021-07-09T00:00:00\", \"2021-07-12T00:00:00\", \"2021-07-13T00:00:00\", \"2021-07-14T00:00:00\", \"2021-07-15T00:00:00\", \"2021-07-16T00:00:00\", \"2021-07-19T00:00:00\", \"2021-07-20T00:00:00\", \"2021-07-21T00:00:00\", \"2021-07-22T00:00:00\", \"2021-07-23T00:00:00\", \"2021-07-26T00:00:00\", \"2021-07-27T00:00:00\", \"2021-07-28T00:00:00\", \"2021-07-29T00:00:00\", \"2021-07-30T00:00:00\", \"2021-08-02T00:00:00\", \"2021-08-03T00:00:00\", \"2021-08-04T00:00:00\", \"2021-08-05T00:00:00\", \"2021-08-06T00:00:00\", \"2021-08-09T00:00:00\", \"2021-08-10T00:00:00\", \"2021-08-11T00:00:00\", \"2021-08-12T00:00:00\", \"2021-08-13T00:00:00\", \"2021-08-16T00:00:00\", \"2021-08-17T00:00:00\", \"2021-08-18T00:00:00\", \"2021-08-19T00:00:00\", \"2021-08-20T00:00:00\", \"2021-08-23T00:00:00\", \"2021-08-24T00:00:00\", \"2021-08-25T00:00:00\", \"2021-08-26T00:00:00\", \"2021-08-27T00:00:00\", \"2021-08-30T00:00:00\", \"2021-08-31T00:00:00\", \"2021-09-01T00:00:00\", \"2021-09-02T00:00:00\", \"2021-09-03T00:00:00\", \"2021-09-07T00:00:00\", \"2021-09-08T00:00:00\", \"2021-09-09T00:00:00\", \"2021-09-10T00:00:00\", \"2021-09-13T00:00:00\", \"2021-09-14T00:00:00\", \"2021-09-15T00:00:00\", \"2021-09-16T00:00:00\", \"2021-09-17T00:00:00\", \"2021-09-20T00:00:00\", \"2021-09-21T00:00:00\", \"2021-09-22T00:00:00\", \"2021-09-23T00:00:00\", \"2021-09-24T00:00:00\", \"2021-09-27T00:00:00\", \"2021-09-28T00:00:00\", \"2021-09-29T00:00:00\", \"2021-09-30T00:00:00\", \"2021-10-01T00:00:00\", \"2021-10-04T00:00:00\", \"2021-10-05T00:00:00\", \"2021-10-06T00:00:00\", \"2021-10-07T00:00:00\", \"2021-10-08T00:00:00\", \"2021-10-11T00:00:00\", \"2021-10-12T00:00:00\", \"2021-10-13T00:00:00\", \"2021-10-14T00:00:00\", \"2021-10-15T00:00:00\", \"2021-10-18T00:00:00\", \"2021-10-19T00:00:00\", \"2021-10-20T00:00:00\", \"2021-10-21T00:00:00\", \"2021-10-22T00:00:00\", \"2021-10-25T00:00:00\", \"2021-10-26T00:00:00\", \"2021-10-27T00:00:00\", \"2021-10-28T00:00:00\", \"2021-10-29T00:00:00\", \"2021-11-01T00:00:00\", \"2021-11-02T00:00:00\", \"2021-11-03T00:00:00\", \"2021-11-04T00:00:00\", \"2021-11-05T00:00:00\", \"2021-11-08T00:00:00\", \"2021-11-09T00:00:00\", \"2021-11-10T00:00:00\", \"2021-11-11T00:00:00\", \"2021-11-12T00:00:00\", \"2021-11-15T00:00:00\", \"2021-11-16T00:00:00\", \"2021-11-17T00:00:00\", \"2021-11-18T00:00:00\", \"2021-11-19T00:00:00\", \"2021-11-22T00:00:00\", \"2021-11-23T00:00:00\", \"2021-11-24T00:00:00\", \"2021-11-26T00:00:00\", \"2021-11-29T00:00:00\", \"2021-11-30T00:00:00\", \"2021-12-01T00:00:00\", \"2021-12-02T00:00:00\", \"2021-12-03T00:00:00\", \"2021-12-06T00:00:00\", \"2021-12-07T00:00:00\", \"2021-12-08T00:00:00\", \"2021-12-09T00:00:00\", \"2021-12-10T00:00:00\", \"2021-12-13T00:00:00\", \"2021-12-14T00:00:00\", \"2021-12-15T00:00:00\", \"2021-12-16T00:00:00\", \"2021-12-17T00:00:00\", \"2021-12-20T00:00:00\", \"2021-12-21T00:00:00\", \"2021-12-22T00:00:00\", \"2021-12-23T00:00:00\", \"2021-12-27T00:00:00\", \"2021-12-28T00:00:00\", \"2021-12-29T00:00:00\", \"2021-12-30T00:00:00\", \"2021-12-31T00:00:00\", \"2022-01-03T00:00:00\", \"2022-01-04T00:00:00\", \"2022-01-05T00:00:00\", \"2022-01-06T00:00:00\", \"2022-01-07T00:00:00\", \"2022-01-10T00:00:00\", \"2022-01-11T00:00:00\", \"2022-01-12T00:00:00\", \"2022-01-13T00:00:00\", \"2022-01-14T00:00:00\", \"2022-01-18T00:00:00\"], \"xaxis\": \"x\", \"y\": [29.14852928283148, 29.34593568392173, 29.36380512558669, 29.5809592536295, 29.79859935616043, 29.9880448414935, 30.25594998074782, 30.58745454182419, 30.82859519060988, 31.172131825004012, 31.550120007372254, 31.95329097127946, 32.39617367961219, 33.01311233890969, 33.54169297988594, 34.07676649793874, 34.64615137563412, 35.354228648148386, 36.106798743300736, 36.18186239680838, 36.111693074135985, 35.592902857091396, 35.35877549108806, 34.97229590792496, 34.55913262276071, 34.32602973334913, 34.237754261429785, 34.01182210439595, 33.67347472358971, 33.259522552284594, 32.91456597049398, 32.7473327698072, 32.333711629723076, 31.995192446143847, 31.869720384777875, 31.920654922995865, 31.936049943867868, 32.00777253752725, 32.212293188190614, 32.14140297464905, 32.25718460563798, 32.19925880869211, 32.2977353916022, 32.43180481822679, 32.69027724619516, 33.224342826241866, 33.710311632476625, 34.065510602722, 34.31773692543708, 34.495670070931794, 34.493563686975456, 34.511876051325345, 34.520341823226346, 34.52962905505041, 34.556481028494865, 34.43657359290992, 34.398930455779265, 34.00175502222165, 33.77955009649544, 33.37800001836499, 33.013863604508394, 32.81714876605033, 33.017408010751545, 33.445143632266145, 33.84558498152568, 33.99962279370765, 33.965339028215226, 34.139626361543314, 34.25034198039804, 34.43531087739932, 34.679373427807086, 34.87011222096898, 34.966011040613665, 35.134100821167785, 35.2189553890721, 35.29677769578731, 35.50161601772125, 35.752150897457874, 36.074910059367774, 36.38673651470845, 36.8113512799063, 37.21236478604319, 37.5921497500073, 37.9835451440496, 38.403904509949214, 38.82150422479847, 38.939322050287316, 39.09120191938406, 39.203365450616374, 39.38351417085952, 39.663649260107555, 39.9830903890493, 40.35394580822664, 40.64745077636637, 40.89950053932809, 41.15977328692912, 41.336384889528965, 41.54784976085553, 41.85918158690612, 42.15425594648159, 42.42182357383891, 42.697112409211684, 42.76669323799961, 42.92903945986026, 42.90912669846139, 43.171478650323564, 43.57134419982362, 43.74372188886664, 43.882474486039094, 44.088613307842714, 44.2121483090873, 44.22399835183362, 44.40954390072588, 44.87140369870232, 45.40309438252058, 45.844631104249, 46.372846347435164, 46.85804205080221, 46.920038311231764, 47.0400349809804, 46.87594094728687, 47.029037349650885, 47.381852122174635, 47.64941108951689, 48.05446458521865, 48.47224067073322, 48.94567336477345, 49.37379385700285, 49.72844909962795, 50.129044483437525, 50.57685864905009, 50.94214433738218, 51.20513113257222, 51.37830108509762, 51.47209188167166, 51.18826520825797, 50.8911500228659, 50.72604554469076, 50.11004147362246, 49.610037758779654, 49.509125235254224, 49.20602287178207, 48.56638426243327, 47.79534924625503, 47.25759032096959, 46.44326385879604, 46.112967269204674, 45.77951567153372, 45.74410510045324, 45.609186302369594, 45.615169296432406, 45.68879020012587, 45.80890002934471, 45.52581818075194, 45.318016680544204, 45.338651361307946, 45.30331948872899, 45.06483592658778, 44.82712363898339, 44.78147610479758, 44.73770548045784, 44.64064117941125, 44.730582987475245, 45.02325733069926, 45.55114319436793, 46.02013009346836, 46.4805727290142, 47.0441570541198, 47.64332444206647, 48.16893124161138, 48.81311940765718, 49.22238115484371, 49.808528156125675, 50.36275275823215, 50.7279571500397, 50.95177910246418, 51.277526442913995, 51.39320578783641, 51.67836878706009, 52.03578986190477, 52.29435451701481, 52.47804943607791, 52.694590451920966, 52.79780966820585, 52.811645222272546, 52.57058655183069, 52.29826057102239, 52.14932777796691, 52.126661755049824, 51.751510686408935, 51.38864592596568, 50.72831447815062, 50.21255864424382, 50.010053368435436, 49.75232117467409, 49.42801937454835, 49.14865393524725, 49.13832174544406, 49.05529235714197, 49.199356632824376, 49.35259678634336, 49.5387244899375, 49.65338583058505, 49.80262331589053, 49.892839211622785, 49.99894486268353, 49.949495496171814, 50.134996058198624, 50.34545103135688, 50.54222805773655, 50.726570933835426, 51.04051905850273, 51.365017381398076, 51.79910665487538, 52.099187729352266, 52.318352328641446, 52.70259285957816, 52.92917529914599, 53.226977711137685, 53.640434421568706, 54.025394928698816, 54.47217708306337, 54.86152471806809, 55.40456784228669, 55.9605162618755, 56.44137841988682, 56.881252998015, 57.47023005368196, 58.08293632920839, 58.67721509442417, 59.11565008584015, 59.61195434605852, 60.136776872437785, 60.610706108954446, 61.07382390187265, 61.371203658129964, 61.49791236099528, 61.476283811953266, 61.6402578998936, 61.92068886118701, 62.29926251784934, 62.84296581434457, 63.36315096225927, 63.63240968825772, 63.94309999403045, 64.2555451994293, 64.44776861280683, 64.62069860019903, 64.88290756867349, 65.1517338204205, 65.51203055163406, 65.75775471402102, 66.01432263375135, 66.15438424024447, 66.248531349441, 66.39775571673258, 66.59523244201364, 66.78566607832207, 66.79469662904101, 66.62608806652877, 66.5568980480961, 66.67899836425818, 67.06499879039451, 67.4795443549041, 67.86367685273598, 68.10243330828449, 68.50675783041842, 69.09296183047626, 69.60678373194041, 70.11116691806372, 70.56015202112681, 71.02968351685355, 71.48471262096771, 71.82746576937228, 72.0658776947241, 72.13034349755635, 72.17394868962865, 72.15677159151255, 72.28615615874365, 72.41696000559615, 72.29905480023123, 71.7941409771722, 71.34285560025243, 71.11032360587579, 71.07256688668927, 71.056424137269, 70.88629444829853, 70.20708594531933, 69.55144167137074, 68.89085605101086, 68.39350533445945, 67.58682307294166, 67.06165746388251, 66.69514303801108, 66.51694827186022, 66.26449858155172, 65.90636241622333, 65.52305661717658, 65.30596040848172, 65.42541880285448, 65.64629012595258, 66.03208187719765, 66.52234743852131, 66.94758830304139, 67.4500801367759, 67.74007279612795, 68.19643000886454, 68.67311841182287, 69.15919825102682, 69.82199813259186, 70.52727119608848, 71.2379739255989, 71.9790671496034, 72.8818795598312, 73.98034472147297, 75.00758599945696, 75.90962366361322, 76.57056699466436, 76.84006123715936, 77.14369206152448, 77.65108355357872, 78.11007568036631, 78.6827964059793, 79.21254238145669, 79.9291295486609, 80.71466319831211, 81.14969381664736, 81.43926702281328, 81.77342437199111, 81.65038562625968, 81.99262337982947, 81.9701124131706, 81.5682842894058, 81.33571318457167, 80.76337570556764, 80.40261411132924, 80.70419475763596, 81.08426815569001, 81.09660752523665, 81.33646144206527, 81.22723786880755, 80.91112533527958, 81.09147727235111, 80.6804338562123, 80.20039455345471, 79.5589947434194, 79.42045009966394, 79.54768188104214, 79.83789242492644, 80.46126581309896, 80.9352419257043, 81.35385637932457, 81.66168742336502, 81.79835228628886, 82.14077502766317, 82.14979528549102, 81.470268718788, 80.83388076441665, 80.03398284602507, 79.33089377381894, 78.98081282682936, 78.74073860056221, 78.01885355067091, 77.45986711393556, 76.48078850734198], \"yaxis\": \"y\"}, {\"line\": {\"color\": \"blue\", \"width\": 2}, \"name\": \"MA 50\", \"type\": \"scatter\", \"x\": [\"2020-08-07T00:00:00\", \"2020-08-10T00:00:00\", \"2020-08-11T00:00:00\", \"2020-08-12T00:00:00\", \"2020-08-13T00:00:00\", \"2020-08-14T00:00:00\", \"2020-08-17T00:00:00\", \"2020-08-18T00:00:00\", \"2020-08-19T00:00:00\", \"2020-08-20T00:00:00\", \"2020-08-21T00:00:00\", \"2020-08-24T00:00:00\", \"2020-08-25T00:00:00\", \"2020-08-26T00:00:00\", \"2020-08-27T00:00:00\", \"2020-08-28T00:00:00\", \"2020-08-31T00:00:00\", \"2020-09-01T00:00:00\", \"2020-09-02T00:00:00\", \"2020-09-03T00:00:00\", \"2020-09-04T00:00:00\", \"2020-09-08T00:00:00\", \"2020-09-09T00:00:00\", \"2020-09-10T00:00:00\", \"2020-09-11T00:00:00\", \"2020-09-14T00:00:00\", \"2020-09-15T00:00:00\", \"2020-09-16T00:00:00\", \"2020-09-17T00:00:00\", \"2020-09-18T00:00:00\", \"2020-09-21T00:00:00\", \"2020-09-22T00:00:00\", \"2020-09-23T00:00:00\", \"2020-09-24T00:00:00\", \"2020-09-25T00:00:00\", \"2020-09-28T00:00:00\", \"2020-09-29T00:00:00\", \"2020-09-30T00:00:00\", \"2020-10-01T00:00:00\", \"2020-10-02T00:00:00\", \"2020-10-05T00:00:00\", \"2020-10-06T00:00:00\", \"2020-10-07T00:00:00\", \"2020-10-08T00:00:00\", \"2020-10-09T00:00:00\", \"2020-10-12T00:00:00\", \"2020-10-13T00:00:00\", \"2020-10-14T00:00:00\", \"2020-10-15T00:00:00\", \"2020-10-16T00:00:00\", \"2020-10-19T00:00:00\", \"2020-10-20T00:00:00\", \"2020-10-21T00:00:00\", \"2020-10-22T00:00:00\", \"2020-10-23T00:00:00\", \"2020-10-26T00:00:00\", \"2020-10-27T00:00:00\", \"2020-10-28T00:00:00\", \"2020-10-29T00:00:00\", \"2020-10-30T00:00:00\", \"2020-11-02T00:00:00\", \"2020-11-03T00:00:00\", \"2020-11-04T00:00:00\", \"2020-11-05T00:00:00\", \"2020-11-06T00:00:00\", \"2020-11-09T00:00:00\", \"2020-11-10T00:00:00\", \"2020-11-11T00:00:00\", \"2020-11-12T00:00:00\", \"2020-11-13T00:00:00\", \"2020-11-16T00:00:00\", \"2020-11-17T00:00:00\", \"2020-11-18T00:00:00\", \"2020-11-19T00:00:00\", \"2020-11-20T00:00:00\", \"2020-11-23T00:00:00\", \"2020-11-24T00:00:00\", \"2020-11-25T00:00:00\", \"2020-11-27T00:00:00\", \"2020-11-30T00:00:00\", \"2020-12-01T00:00:00\", \"2020-12-02T00:00:00\", \"2020-12-03T00:00:00\", \"2020-12-04T00:00:00\", \"2020-12-07T00:00:00\", \"2020-12-08T00:00:00\", \"2020-12-09T00:00:00\", \"2020-12-10T00:00:00\", \"2020-12-11T00:00:00\", \"2020-12-14T00:00:00\", \"2020-12-15T00:00:00\", \"2020-12-16T00:00:00\", \"2020-12-17T00:00:00\", \"2020-12-18T00:00:00\", \"2020-12-21T00:00:00\", \"2020-12-22T00:00:00\", \"2020-12-23T00:00:00\", \"2020-12-24T00:00:00\", \"2020-12-28T00:00:00\", \"2020-12-29T00:00:00\", \"2020-12-30T00:00:00\", \"2020-12-31T00:00:00\", \"2021-01-04T00:00:00\", \"2021-01-05T00:00:00\", \"2021-01-06T00:00:00\", \"2021-01-07T00:00:00\", \"2021-01-08T00:00:00\", \"2021-01-11T00:00:00\", \"2021-01-12T00:00:00\", \"2021-01-13T00:00:00\", \"2021-01-14T00:00:00\", \"2021-01-15T00:00:00\", \"2021-01-19T00:00:00\", \"2021-01-20T00:00:00\", \"2021-01-21T00:00:00\", \"2021-01-22T00:00:00\", \"2021-01-25T00:00:00\", \"2021-01-26T00:00:00\", \"2021-01-27T00:00:00\", \"2021-01-28T00:00:00\", \"2021-01-29T00:00:00\", \"2021-02-01T00:00:00\", \"2021-02-02T00:00:00\", \"2021-02-03T00:00:00\", \"2021-02-04T00:00:00\", \"2021-02-05T00:00:00\", \"2021-02-08T00:00:00\", \"2021-02-09T00:00:00\", \"2021-02-10T00:00:00\", \"2021-02-11T00:00:00\", \"2021-02-12T00:00:00\", \"2021-02-16T00:00:00\", \"2021-02-17T00:00:00\", \"2021-02-18T00:00:00\", \"2021-02-19T00:00:00\", \"2021-02-22T00:00:00\", \"2021-02-23T00:00:00\", \"2021-02-24T00:00:00\", \"2021-02-25T00:00:00\", \"2021-02-26T00:00:00\", \"2021-03-01T00:00:00\", \"2021-03-02T00:00:00\", \"2021-03-03T00:00:00\", \"2021-03-04T00:00:00\", \"2021-03-05T00:00:00\", \"2021-03-08T00:00:00\", \"2021-03-09T00:00:00\", \"2021-03-10T00:00:00\", \"2021-03-11T00:00:00\", \"2021-03-12T00:00:00\", \"2021-03-15T00:00:00\", \"2021-03-16T00:00:00\", \"2021-03-17T00:00:00\", \"2021-03-18T00:00:00\", \"2021-03-19T00:00:00\", \"2021-03-22T00:00:00\", \"2021-03-23T00:00:00\", \"2021-03-24T00:00:00\", \"2021-03-25T00:00:00\", \"2021-03-26T00:00:00\", \"2021-03-29T00:00:00\", \"2021-03-30T00:00:00\", \"2021-03-31T00:00:00\", \"2021-04-01T00:00:00\", \"2021-04-05T00:00:00\", \"2021-04-06T00:00:00\", \"2021-04-07T00:00:00\", \"2021-04-08T00:00:00\", \"2021-04-09T00:00:00\", \"2021-04-12T00:00:00\", \"2021-04-13T00:00:00\", \"2021-04-14T00:00:00\", \"2021-04-15T00:00:00\", \"2021-04-16T00:00:00\", \"2021-04-19T00:00:00\", \"2021-04-20T00:00:00\", \"2021-04-21T00:00:00\", \"2021-04-22T00:00:00\", \"2021-04-23T00:00:00\", \"2021-04-26T00:00:00\", \"2021-04-27T00:00:00\", \"2021-04-28T00:00:00\", \"2021-04-29T00:00:00\", \"2021-04-30T00:00:00\", \"2021-05-03T00:00:00\", \"2021-05-04T00:00:00\", \"2021-05-05T00:00:00\", \"2021-05-06T00:00:00\", \"2021-05-07T00:00:00\", \"2021-05-10T00:00:00\", \"2021-05-11T00:00:00\", \"2021-05-12T00:00:00\", \"2021-05-13T00:00:00\", \"2021-05-14T00:00:00\", \"2021-05-17T00:00:00\", \"2021-05-18T00:00:00\", \"2021-05-19T00:00:00\", \"2021-05-20T00:00:00\", \"2021-05-21T00:00:00\", \"2021-05-24T00:00:00\", \"2021-05-25T00:00:00\", \"2021-05-26T00:00:00\", \"2021-05-27T00:00:00\", \"2021-05-28T00:00:00\", \"2021-06-01T00:00:00\", \"2021-06-02T00:00:00\", \"2021-06-03T00:00:00\", \"2021-06-04T00:00:00\", \"2021-06-07T00:00:00\", \"2021-06-08T00:00:00\", \"2021-06-09T00:00:00\", \"2021-06-10T00:00:00\", \"2021-06-11T00:00:00\", \"2021-06-14T00:00:00\", \"2021-06-15T00:00:00\", \"2021-06-16T00:00:00\", \"2021-06-17T00:00:00\", \"2021-06-18T00:00:00\", \"2021-06-21T00:00:00\", \"2021-06-22T00:00:00\", \"2021-06-23T00:00:00\", \"2021-06-24T00:00:00\", \"2021-06-25T00:00:00\", \"2021-06-28T00:00:00\", \"2021-06-29T00:00:00\", \"2021-06-30T00:00:00\", \"2021-07-01T00:00:00\", \"2021-07-02T00:00:00\", \"2021-07-06T00:00:00\", \"2021-07-07T00:00:00\", \"2021-07-08T00:00:00\", \"2021-07-09T00:00:00\", \"2021-07-12T00:00:00\", \"2021-07-13T00:00:00\", \"2021-07-14T00:00:00\", \"2021-07-15T00:00:00\", \"2021-07-16T00:00:00\", \"2021-07-19T00:00:00\", \"2021-07-20T00:00:00\", \"2021-07-21T00:00:00\", \"2021-07-22T00:00:00\", \"2021-07-23T00:00:00\", \"2021-07-26T00:00:00\", \"2021-07-27T00:00:00\", \"2021-07-28T00:00:00\", \"2021-07-29T00:00:00\", \"2021-07-30T00:00:00\", \"2021-08-02T00:00:00\", \"2021-08-03T00:00:00\", \"2021-08-04T00:00:00\", \"2021-08-05T00:00:00\", \"2021-08-06T00:00:00\", \"2021-08-09T00:00:00\", \"2021-08-10T00:00:00\", \"2021-08-11T00:00:00\", \"2021-08-12T00:00:00\", \"2021-08-13T00:00:00\", \"2021-08-16T00:00:00\", \"2021-08-17T00:00:00\", \"2021-08-18T00:00:00\", \"2021-08-19T00:00:00\", \"2021-08-20T00:00:00\", \"2021-08-23T00:00:00\", \"2021-08-24T00:00:00\", \"2021-08-25T00:00:00\", \"2021-08-26T00:00:00\", \"2021-08-27T00:00:00\", \"2021-08-30T00:00:00\", \"2021-08-31T00:00:00\", \"2021-09-01T00:00:00\", \"2021-09-02T00:00:00\", \"2021-09-03T00:00:00\", \"2021-09-07T00:00:00\", \"2021-09-08T00:00:00\", \"2021-09-09T00:00:00\", \"2021-09-10T00:00:00\", \"2021-09-13T00:00:00\", \"2021-09-14T00:00:00\", \"2021-09-15T00:00:00\", \"2021-09-16T00:00:00\", \"2021-09-17T00:00:00\", \"2021-09-20T00:00:00\", \"2021-09-21T00:00:00\", \"2021-09-22T00:00:00\", \"2021-09-23T00:00:00\", \"2021-09-24T00:00:00\", \"2021-09-27T00:00:00\", \"2021-09-28T00:00:00\", \"2021-09-29T00:00:00\", \"2021-09-30T00:00:00\", \"2021-10-01T00:00:00\", \"2021-10-04T00:00:00\", \"2021-10-05T00:00:00\", \"2021-10-06T00:00:00\", \"2021-10-07T00:00:00\", \"2021-10-08T00:00:00\", \"2021-10-11T00:00:00\", \"2021-10-12T00:00:00\", \"2021-10-13T00:00:00\", \"2021-10-14T00:00:00\", \"2021-10-15T00:00:00\", \"2021-10-18T00:00:00\", \"2021-10-19T00:00:00\", \"2021-10-20T00:00:00\", \"2021-10-21T00:00:00\", \"2021-10-22T00:00:00\", \"2021-10-25T00:00:00\", \"2021-10-26T00:00:00\", \"2021-10-27T00:00:00\", \"2021-10-28T00:00:00\", \"2021-10-29T00:00:00\", \"2021-11-01T00:00:00\", \"2021-11-02T00:00:00\", \"2021-11-03T00:00:00\", \"2021-11-04T00:00:00\", \"2021-11-05T00:00:00\", \"2021-11-08T00:00:00\", \"2021-11-09T00:00:00\", \"2021-11-10T00:00:00\", \"2021-11-11T00:00:00\", \"2021-11-12T00:00:00\", \"2021-11-15T00:00:00\", \"2021-11-16T00:00:00\", \"2021-11-17T00:00:00\", \"2021-11-18T00:00:00\", \"2021-11-19T00:00:00\", \"2021-11-22T00:00:00\", \"2021-11-23T00:00:00\", \"2021-11-24T00:00:00\", \"2021-11-26T00:00:00\", \"2021-11-29T00:00:00\", \"2021-11-30T00:00:00\", \"2021-12-01T00:00:00\", \"2021-12-02T00:00:00\", \"2021-12-03T00:00:00\", \"2021-12-06T00:00:00\", \"2021-12-07T00:00:00\", \"2021-12-08T00:00:00\", \"2021-12-09T00:00:00\", \"2021-12-10T00:00:00\", \"2021-12-13T00:00:00\", \"2021-12-14T00:00:00\", \"2021-12-15T00:00:00\", \"2021-12-16T00:00:00\", \"2021-12-17T00:00:00\", \"2021-12-20T00:00:00\", \"2021-12-21T00:00:00\", \"2021-12-22T00:00:00\", \"2021-12-23T00:00:00\", \"2021-12-27T00:00:00\", \"2021-12-28T00:00:00\", \"2021-12-29T00:00:00\", \"2021-12-30T00:00:00\", \"2021-12-31T00:00:00\", \"2022-01-03T00:00:00\", \"2022-01-04T00:00:00\", \"2022-01-05T00:00:00\", \"2022-01-06T00:00:00\", \"2022-01-07T00:00:00\", \"2022-01-10T00:00:00\", \"2022-01-11T00:00:00\", \"2022-01-12T00:00:00\", \"2022-01-13T00:00:00\", \"2022-01-14T00:00:00\", \"2022-01-18T00:00:00\"], \"xaxis\": \"x\", \"y\": [25.979099998474123, 26.191650009155275, 26.363549995422364, 26.571300010681153, 26.777700004577635, 26.99104999542236, 27.200300025939942, 27.418900032043457, 27.61400005340576, 27.819500007629394, 28.111100044250488, 28.406800041198732, 28.70435005187988, 29.025850028991698, 29.335750007629393, 29.65405002593994, 29.991250038146973, 30.35365005493164, 30.727300033569335, 30.996350021362304, 31.2225, 31.383199996948242, 31.581850051879883, 31.715750045776367, 31.818600044250488, 31.942050056457518, 32.05475006103516, 32.146300086975096, 32.18770011901856, 32.19160015106201, 32.19015014648438, 32.25740016937256, 32.25535018920898, 32.258750190734865, 32.31445018768311, 32.40385021209717, 32.438850212097165, 32.505950164794925, 32.596900177001956, 32.67790019989014, 32.81475021362305, 32.88715023040771, 33.01385025024414, 33.13200023651123, 33.271150283813476, 33.44555027008057, 33.59780025482178, 33.72295024871826, 33.82755023956299, 33.89665027618408, 33.951150283813476, 34.01865028381348, 34.11990028381348, 34.17730030059815, 34.23430030822754, 34.261400299072264, 34.2831502532959, 34.20570026397705, 34.17205024719238, 34.067150268554684, 33.94800022125244, 33.84530021667481, 33.80920021057129, 33.78000022888184, 33.76045021057129, 33.6827001953125, 33.548350219726565, 33.41730018615723, 33.25180015563965, 33.2388501739502, 33.27305015563965, 33.4005001449585, 33.45865009307861, 33.57280006408691, 33.68560009002685, 33.76720008850098, 33.85110008239746, 33.981200065612796, 34.16145008087158, 34.36915008544922, 34.60100006103516, 34.80395004272461, 35.06780002593994, 35.333549995422366, 35.573399963378904, 35.78474998474121, 35.94529998779297, 36.10300003051758, 36.22435005187988, 36.41940006256104, 36.600400047302244, 36.83155006408691, 37.04715003967285, 37.24335006713867, 37.40625, 37.51020004272461, 37.60085006713867, 37.721750030517576, 37.88440002441406, 38.06099998474121, 38.273499984741214, 38.48860000610352, 38.66575004577637, 38.86435005187988, 39.022050018310544, 39.27319999694824, 39.544150009155274, 39.8528999710083, 40.127149963378905, 40.46290000915528, 40.78439998626709, 41.054249954223636, 41.27914993286133, 41.51449996948242, 41.771900024414066, 42.06629997253418, 42.426949920654295, 42.74349990844726, 42.987149963378904, 43.22625, 43.38855003356934, 43.6242000579834, 43.92390007019043, 44.19410011291504, 44.51485008239746, 44.84635009765625, 45.168950119018554, 45.47690010070801, 45.75635009765625, 46.04895004272461, 46.32890007019043, 46.59635009765625, 46.845250091552735, 47.06950012207031, 47.26555015563965, 47.37260009765625, 47.52865005493164, 47.6979500579834, 47.770450057983396, 47.83895004272461, 47.95965003967285, 48.019599990844725, 47.98174995422363, 47.911799926757816, 47.88099998474121, 47.77174995422363, 47.76589996337891, 47.74154998779297, 47.74989997863769, 47.73299995422363, 47.744549942016604, 47.76404991149902, 47.83499984741211, 47.797849807739254, 47.80844985961914, 47.80344985961914, 47.75104988098145, 47.69529991149902, 47.63889991760254, 47.60239990234375, 47.5794499206543, 47.56599990844727, 47.5532999420166, 47.52249992370606, 47.524699935913084, 47.533699951171876, 47.52229995727539, 47.541699981689455, 47.66359992980957, 47.76729988098145, 47.96769989013672, 48.06279983520508, 48.15799980163574, 48.269599761962894, 48.31509979248047, 48.32589973449707, 48.3429997253418, 48.32089973449707, 48.34599967956543, 48.3754997253418, 48.371999740600586, 48.366399688720705, 48.38689971923828, 48.401299743652345, 48.41209976196289, 48.44829978942871, 48.481399841308594, 48.51309982299804, 48.672099838256834, 48.73989982604981, 48.72509979248047, 48.68409980773926, 48.74179985046387, 48.89979988098145, 49.00569984436035, 49.163399887084964, 49.23429985046387, 49.36609985351563, 49.422799835205076, 49.55039985656738, 49.654599838256836, 49.7540998840332, 49.82989990234375, 50.00189987182617, 50.152999801635744, 50.26329986572266, 50.35339988708496, 50.539599914550784, 50.73959991455078, 50.90329986572266, 51.06869987487793, 51.27889991760254, 51.458499908447266, 51.622299880981444, 51.70769981384277, 51.78369979858398, 51.89289978027344, 51.94319976806641, 51.99459983825684, 52.0815998840332, 52.1339998626709, 52.2464998626709, 52.308199920654296, 52.40679992675781, 52.54959991455078, 52.7107999420166, 52.8456999206543, 53.061899948120114, 53.25549995422363, 53.435699996948244, 53.60809997558594, 53.8132999420166, 54.02379997253418, 54.25419990539551, 54.50929992675781, 54.79299995422363, 55.05679992675781, 55.26879989624023, 55.496399841308595, 55.83089981079102, 56.1973998260498, 56.68049980163574, 57.15069984436035, 57.51749977111817, 57.91499984741211, 58.338899765014645, 58.739199829101565, 59.08549980163574, 59.47109977722168, 59.81509971618652, 60.17969970703125, 60.51599960327148, 60.871599655151364, 61.196799697875974, 61.5246997833252, 61.861299743652346, 62.24359970092773, 62.577599716186526, 62.86629974365234, 63.11489982604981, 63.380799789428714, 63.65519981384277, 63.9814998626709, 64.29119987487793, 64.6232999420166, 64.94289993286132, 65.26300003051757, 65.65820007324218, 66.02900009155273, 66.3766000366211, 66.72010009765626, 67.05580009460449, 67.40140014648438, 67.68980010986328, 67.94840003967285, 68.17890007019042, 68.40550010681153, 68.57800010681153, 68.76540016174316, 68.94750007629395, 69.09990013122558, 69.14330024719239, 69.17220024108887, 69.24090034484863, 69.34070030212402, 69.47170021057129, 69.6001001739502, 69.64320022583007, 69.63750022888183, 69.58870025634765, 69.53540023803711, 69.36020027160644, 69.22510025024414, 69.15920028686523, 69.11290023803711, 69.04010032653808, 68.95920028686524, 68.866000289917, 68.77860031127929, 68.75420043945313, 68.72900054931641, 68.76250061035157, 68.81940063476563, 68.89230056762695, 68.99800048828125, 69.05300048828126, 69.13680053710938, 69.23180053710938, 69.37450042724609, 69.60470031738281, 69.83900039672852, 70.047900390625, 70.21720031738282, 70.422900390625, 70.68810028076172, 70.98390029907226, 71.23150024414062, 71.39600021362304, 71.4918002319336, 71.59230026245118, 71.74580017089843, 71.88530014038086, 72.05280014038085, 72.23790023803711, 72.49080032348633, 72.80670028686524, 73.0645002746582, 73.31150024414063, 73.54220016479492, 73.67610015869141, 73.96200012207031, 74.26200012207032, 74.47640014648438, 74.6809001159668, 74.76780014038086, 74.88580017089843, 75.17650024414063, 75.60590026855469, 75.97040031433106, 76.39940032958984, 76.73370040893555, 77.09830039978027, 77.52000030517578, 77.79080032348632, 78.00410034179687, 78.19220024108887, 78.50640029907227, 78.88900032043458, 79.2811003112793, 79.68260025024414, 80.03900024414062, 80.35200027465821, 80.61830017089844, 80.85760025024415, 81.11940032958984, 81.35140029907227, 81.38970031738282, 81.41030029296876, 81.37060043334961, 81.28760055541993, 81.2456005859375, 81.20550048828125, 81.03370056152343, 80.83290054321289, 80.46740066528321], \"yaxis\": \"y\"}, {\"line\": {\"color\": \"orange\", \"width\": 2}, \"name\": \"MA 100\", \"type\": \"scatter\", \"x\": [\"2020-08-07T00:00:00\", \"2020-08-10T00:00:00\", \"2020-08-11T00:00:00\", \"2020-08-12T00:00:00\", \"2020-08-13T00:00:00\", \"2020-08-14T00:00:00\", \"2020-08-17T00:00:00\", \"2020-08-18T00:00:00\", \"2020-08-19T00:00:00\", \"2020-08-20T00:00:00\", \"2020-08-21T00:00:00\", \"2020-08-24T00:00:00\", \"2020-08-25T00:00:00\", \"2020-08-26T00:00:00\", \"2020-08-27T00:00:00\", \"2020-08-28T00:00:00\", \"2020-08-31T00:00:00\", \"2020-09-01T00:00:00\", \"2020-09-02T00:00:00\", \"2020-09-03T00:00:00\", \"2020-09-04T00:00:00\", \"2020-09-08T00:00:00\", \"2020-09-09T00:00:00\", \"2020-09-10T00:00:00\", \"2020-09-11T00:00:00\", \"2020-09-14T00:00:00\", \"2020-09-15T00:00:00\", \"2020-09-16T00:00:00\", \"2020-09-17T00:00:00\", \"2020-09-18T00:00:00\", \"2020-09-21T00:00:00\", \"2020-09-22T00:00:00\", \"2020-09-23T00:00:00\", \"2020-09-24T00:00:00\", \"2020-09-25T00:00:00\", \"2020-09-28T00:00:00\", \"2020-09-29T00:00:00\", \"2020-09-30T00:00:00\", \"2020-10-01T00:00:00\", \"2020-10-02T00:00:00\", \"2020-10-05T00:00:00\", \"2020-10-06T00:00:00\", \"2020-10-07T00:00:00\", \"2020-10-08T00:00:00\", \"2020-10-09T00:00:00\", \"2020-10-12T00:00:00\", \"2020-10-13T00:00:00\", \"2020-10-14T00:00:00\", \"2020-10-15T00:00:00\", \"2020-10-16T00:00:00\", \"2020-10-19T00:00:00\", \"2020-10-20T00:00:00\", \"2020-10-21T00:00:00\", \"2020-10-22T00:00:00\", \"2020-10-23T00:00:00\", \"2020-10-26T00:00:00\", \"2020-10-27T00:00:00\", \"2020-10-28T00:00:00\", \"2020-10-29T00:00:00\", \"2020-10-30T00:00:00\", \"2020-11-02T00:00:00\", \"2020-11-03T00:00:00\", \"2020-11-04T00:00:00\", \"2020-11-05T00:00:00\", \"2020-11-06T00:00:00\", \"2020-11-09T00:00:00\", \"2020-11-10T00:00:00\", \"2020-11-11T00:00:00\", \"2020-11-12T00:00:00\", \"2020-11-13T00:00:00\", \"2020-11-16T00:00:00\", \"2020-11-17T00:00:00\", \"2020-11-18T00:00:00\", \"2020-11-19T00:00:00\", \"2020-11-20T00:00:00\", \"2020-11-23T00:00:00\", \"2020-11-24T00:00:00\", \"2020-11-25T00:00:00\", \"2020-11-27T00:00:00\", \"2020-11-30T00:00:00\", \"2020-12-01T00:00:00\", \"2020-12-02T00:00:00\", \"2020-12-03T00:00:00\", \"2020-12-04T00:00:00\", \"2020-12-07T00:00:00\", \"2020-12-08T00:00:00\", \"2020-12-09T00:00:00\", \"2020-12-10T00:00:00\", \"2020-12-11T00:00:00\", \"2020-12-14T00:00:00\", \"2020-12-15T00:00:00\", \"2020-12-16T00:00:00\", \"2020-12-17T00:00:00\", \"2020-12-18T00:00:00\", \"2020-12-21T00:00:00\", \"2020-12-22T00:00:00\", \"2020-12-23T00:00:00\", \"2020-12-24T00:00:00\", \"2020-12-28T00:00:00\", \"2020-12-29T00:00:00\", \"2020-12-30T00:00:00\", \"2020-12-31T00:00:00\", \"2021-01-04T00:00:00\", \"2021-01-05T00:00:00\", \"2021-01-06T00:00:00\", \"2021-01-07T00:00:00\", \"2021-01-08T00:00:00\", \"2021-01-11T00:00:00\", \"2021-01-12T00:00:00\", \"2021-01-13T00:00:00\", \"2021-01-14T00:00:00\", \"2021-01-15T00:00:00\", \"2021-01-19T00:00:00\", \"2021-01-20T00:00:00\", \"2021-01-21T00:00:00\", \"2021-01-22T00:00:00\", \"2021-01-25T00:00:00\", \"2021-01-26T00:00:00\", \"2021-01-27T00:00:00\", \"2021-01-28T00:00:00\", \"2021-01-29T00:00:00\", \"2021-02-01T00:00:00\", \"2021-02-02T00:00:00\", \"2021-02-03T00:00:00\", \"2021-02-04T00:00:00\", \"2021-02-05T00:00:00\", \"2021-02-08T00:00:00\", \"2021-02-09T00:00:00\", \"2021-02-10T00:00:00\", \"2021-02-11T00:00:00\", \"2021-02-12T00:00:00\", \"2021-02-16T00:00:00\", \"2021-02-17T00:00:00\", \"2021-02-18T00:00:00\", \"2021-02-19T00:00:00\", \"2021-02-22T00:00:00\", \"2021-02-23T00:00:00\", \"2021-02-24T00:00:00\", \"2021-02-25T00:00:00\", \"2021-02-26T00:00:00\", \"2021-03-01T00:00:00\", \"2021-03-02T00:00:00\", \"2021-03-03T00:00:00\", \"2021-03-04T00:00:00\", \"2021-03-05T00:00:00\", \"2021-03-08T00:00:00\", \"2021-03-09T00:00:00\", \"2021-03-10T00:00:00\", \"2021-03-11T00:00:00\", \"2021-03-12T00:00:00\", \"2021-03-15T00:00:00\", \"2021-03-16T00:00:00\", \"2021-03-17T00:00:00\", \"2021-03-18T00:00:00\", \"2021-03-19T00:00:00\", \"2021-03-22T00:00:00\", \"2021-03-23T00:00:00\", \"2021-03-24T00:00:00\", \"2021-03-25T00:00:00\", \"2021-03-26T00:00:00\", \"2021-03-29T00:00:00\", \"2021-03-30T00:00:00\", \"2021-03-31T00:00:00\", \"2021-04-01T00:00:00\", \"2021-04-05T00:00:00\", \"2021-04-06T00:00:00\", \"2021-04-07T00:00:00\", \"2021-04-08T00:00:00\", \"2021-04-09T00:00:00\", \"2021-04-12T00:00:00\", \"2021-04-13T00:00:00\", \"2021-04-14T00:00:00\", \"2021-04-15T00:00:00\", \"2021-04-16T00:00:00\", \"2021-04-19T00:00:00\", \"2021-04-20T00:00:00\", \"2021-04-21T00:00:00\", \"2021-04-22T00:00:00\", \"2021-04-23T00:00:00\", \"2021-04-26T00:00:00\", \"2021-04-27T00:00:00\", \"2021-04-28T00:00:00\", \"2021-04-29T00:00:00\", \"2021-04-30T00:00:00\", \"2021-05-03T00:00:00\", \"2021-05-04T00:00:00\", \"2021-05-05T00:00:00\", \"2021-05-06T00:00:00\", \"2021-05-07T00:00:00\", \"2021-05-10T00:00:00\", \"2021-05-11T00:00:00\", \"2021-05-12T00:00:00\", \"2021-05-13T00:00:00\", \"2021-05-14T00:00:00\", \"2021-05-17T00:00:00\", \"2021-05-18T00:00:00\", \"2021-05-19T00:00:00\", \"2021-05-20T00:00:00\", \"2021-05-21T00:00:00\", \"2021-05-24T00:00:00\", \"2021-05-25T00:00:00\", \"2021-05-26T00:00:00\", \"2021-05-27T00:00:00\", \"2021-05-28T00:00:00\", \"2021-06-01T00:00:00\", \"2021-06-02T00:00:00\", \"2021-06-03T00:00:00\", \"2021-06-04T00:00:00\", \"2021-06-07T00:00:00\", \"2021-06-08T00:00:00\", \"2021-06-09T00:00:00\", \"2021-06-10T00:00:00\", \"2021-06-11T00:00:00\", \"2021-06-14T00:00:00\", \"2021-06-15T00:00:00\", \"2021-06-16T00:00:00\", \"2021-06-17T00:00:00\", \"2021-06-18T00:00:00\", \"2021-06-21T00:00:00\", \"2021-06-22T00:00:00\", \"2021-06-23T00:00:00\", \"2021-06-24T00:00:00\", \"2021-06-25T00:00:00\", \"2021-06-28T00:00:00\", \"2021-06-29T00:00:00\", \"2021-06-30T00:00:00\", \"2021-07-01T00:00:00\", \"2021-07-02T00:00:00\", \"2021-07-06T00:00:00\", \"2021-07-07T00:00:00\", \"2021-07-08T00:00:00\", \"2021-07-09T00:00:00\", \"2021-07-12T00:00:00\", \"2021-07-13T00:00:00\", \"2021-07-14T00:00:00\", \"2021-07-15T00:00:00\", \"2021-07-16T00:00:00\", \"2021-07-19T00:00:00\", \"2021-07-20T00:00:00\", \"2021-07-21T00:00:00\", \"2021-07-22T00:00:00\", \"2021-07-23T00:00:00\", \"2021-07-26T00:00:00\", \"2021-07-27T00:00:00\", \"2021-07-28T00:00:00\", \"2021-07-29T00:00:00\", \"2021-07-30T00:00:00\", \"2021-08-02T00:00:00\", \"2021-08-03T00:00:00\", \"2021-08-04T00:00:00\", \"2021-08-05T00:00:00\", \"2021-08-06T00:00:00\", \"2021-08-09T00:00:00\", \"2021-08-10T00:00:00\", \"2021-08-11T00:00:00\", \"2021-08-12T00:00:00\", \"2021-08-13T00:00:00\", \"2021-08-16T00:00:00\", \"2021-08-17T00:00:00\", \"2021-08-18T00:00:00\", \"2021-08-19T00:00:00\", \"2021-08-20T00:00:00\", \"2021-08-23T00:00:00\", \"2021-08-24T00:00:00\", \"2021-08-25T00:00:00\", \"2021-08-26T00:00:00\", \"2021-08-27T00:00:00\", \"2021-08-30T00:00:00\", \"2021-08-31T00:00:00\", \"2021-09-01T00:00:00\", \"2021-09-02T00:00:00\", \"2021-09-03T00:00:00\", \"2021-09-07T00:00:00\", \"2021-09-08T00:00:00\", \"2021-09-09T00:00:00\", \"2021-09-10T00:00:00\", \"2021-09-13T00:00:00\", \"2021-09-14T00:00:00\", \"2021-09-15T00:00:00\", \"2021-09-16T00:00:00\", \"2021-09-17T00:00:00\", \"2021-09-20T00:00:00\", \"2021-09-21T00:00:00\", \"2021-09-22T00:00:00\", \"2021-09-23T00:00:00\", \"2021-09-24T00:00:00\", \"2021-09-27T00:00:00\", \"2021-09-28T00:00:00\", \"2021-09-29T00:00:00\", \"2021-09-30T00:00:00\", \"2021-10-01T00:00:00\", \"2021-10-04T00:00:00\", \"2021-10-05T00:00:00\", \"2021-10-06T00:00:00\", \"2021-10-07T00:00:00\", \"2021-10-08T00:00:00\", \"2021-10-11T00:00:00\", \"2021-10-12T00:00:00\", \"2021-10-13T00:00:00\", \"2021-10-14T00:00:00\", \"2021-10-15T00:00:00\", \"2021-10-18T00:00:00\", \"2021-10-19T00:00:00\", \"2021-10-20T00:00:00\", \"2021-10-21T00:00:00\", \"2021-10-22T00:00:00\", \"2021-10-25T00:00:00\", \"2021-10-26T00:00:00\", \"2021-10-27T00:00:00\", \"2021-10-28T00:00:00\", \"2021-10-29T00:00:00\", \"2021-11-01T00:00:00\", \"2021-11-02T00:00:00\", \"2021-11-03T00:00:00\", \"2021-11-04T00:00:00\", \"2021-11-05T00:00:00\", \"2021-11-08T00:00:00\", \"2021-11-09T00:00:00\", \"2021-11-10T00:00:00\", \"2021-11-11T00:00:00\", \"2021-11-12T00:00:00\", \"2021-11-15T00:00:00\", \"2021-11-16T00:00:00\", \"2021-11-17T00:00:00\", \"2021-11-18T00:00:00\", \"2021-11-19T00:00:00\", \"2021-11-22T00:00:00\", \"2021-11-23T00:00:00\", \"2021-11-24T00:00:00\", \"2021-11-26T00:00:00\", \"2021-11-29T00:00:00\", \"2021-11-30T00:00:00\", \"2021-12-01T00:00:00\", \"2021-12-02T00:00:00\", \"2021-12-03T00:00:00\", \"2021-12-06T00:00:00\", \"2021-12-07T00:00:00\", \"2021-12-08T00:00:00\", \"2021-12-09T00:00:00\", \"2021-12-10T00:00:00\", \"2021-12-13T00:00:00\", \"2021-12-14T00:00:00\", \"2021-12-15T00:00:00\", \"2021-12-16T00:00:00\", \"2021-12-17T00:00:00\", \"2021-12-20T00:00:00\", \"2021-12-21T00:00:00\", \"2021-12-22T00:00:00\", \"2021-12-23T00:00:00\", \"2021-12-27T00:00:00\", \"2021-12-28T00:00:00\", \"2021-12-29T00:00:00\", \"2021-12-30T00:00:00\", \"2021-12-31T00:00:00\", \"2022-01-03T00:00:00\", \"2022-01-04T00:00:00\", \"2022-01-05T00:00:00\", \"2022-01-06T00:00:00\", \"2022-01-07T00:00:00\", \"2022-01-10T00:00:00\", \"2022-01-11T00:00:00\", \"2022-01-12T00:00:00\", \"2022-01-13T00:00:00\", \"2022-01-14T00:00:00\", \"2022-01-18T00:00:00\"], \"xaxis\": \"x\", \"y\": [20.65862497329712, 20.873549966812135, 21.06842495918274, 21.29717496871948, 21.52787497520447, 21.737799968719482, 21.96077498435974, 22.176099987030028, 22.397650003433228, 22.62122498512268, 22.855425004959105, 23.11095001220703, 23.368700017929076, 23.65447501182556, 23.914500007629396, 24.180775022506715, 24.448000020980835, 24.735675039291383, 25.030575037002563, 25.24012502670288, 25.439750022888184, 25.581050033569337, 25.74440004348755, 25.89405004501343, 26.054750041961668, 26.21842505455017, 26.396725053787232, 26.551500062942505, 26.688475065231323, 26.822725076675415, 26.94410008430481, 27.080425100326536, 27.203625106811522, 27.32535011291504, 27.461875114440918, 27.613200111389162, 27.75437511444092, 27.89465009689331, 28.045600090026856, 28.17970010757446, 28.340450115203858, 28.477500114440918, 28.628100128173827, 28.773050117492676, 28.9345001411438, 29.11765012741089, 29.307075119018556, 29.485200119018554, 29.656375122070312, 29.819125137329102, 29.965125141143798, 30.105150146484377, 30.24172513961792, 30.37430015563965, 30.50600015640259, 30.626225147247315, 30.74172513961792, 30.812300148010255, 30.89302515029907, 30.943325138092042, 31.029550132751464, 31.126050128936768, 31.256775131225584, 31.40292512893677, 31.548100109100343, 31.668375110626222, 31.76980012893677, 31.885475120544434, 31.989550094604493, 32.11760009765625, 32.247775077819824, 32.39185007095337, 32.52025007247925, 32.64427505493164, 32.75210006713867, 32.85462507247925, 32.95292507171631, 33.06375007629394, 33.174575099945066, 33.28037511825561, 33.39557510375977, 33.530675106048584, 33.661575107574464, 33.796150093078616, 33.943925075531006, 34.09430009841919, 34.19207509994507, 34.30447509765625, 34.41062511444092, 34.548650131225585, 34.707575130462644, 34.85935014724731, 35.030500144958495, 35.18767515182495, 35.33870014190674, 35.47787515640259, 35.59932516098022, 35.72235013961792, 35.85597513198852, 35.978825130462646, 36.11232513427734, 36.2536251449585, 36.39282516479492, 36.520825176239015, 36.62817516326904, 36.76730014801026, 36.91365013122559, 37.029300117492674, 37.14960010528564, 37.26502513885498, 37.366200103759766, 37.44977508544922, 37.54417507171631, 37.64725009918213, 37.76617511749268, 37.87450008392334, 37.987650070190426, 38.08040004730225, 38.11947505950928, 38.232550086975095, 38.33080009460449, 38.51235010147095, 38.69127508163452, 38.88345008850098, 39.100225086212156, 39.30677509307861, 39.510025100708006, 39.7290500831604, 39.95890008926391, 40.20905006408692, 40.46495006561279, 40.70015007019043, 40.95652505874634, 41.20152505874634, 41.419475059509274, 41.57867504119873, 41.736975021362305, 41.90047504425049, 41.99740005493164, 42.12917505264282, 42.28002504348755, 42.42557502746582, 42.514449996948244, 42.57757499694824, 42.643624992370604, 42.64097499847412, 42.68337501525879, 42.731650009155274, 42.81715000152588, 42.89699996948242, 43.009024963378906, 43.12632495880127, 43.250374946594235, 43.33109992980957, 43.41524993896484, 43.53832492828369, 43.64759994506836, 43.77409994125366, 43.88302494049072, 44.03264995574951, 44.181924953460694, 44.31012493133545, 44.41622493743896, 44.51849994659424, 44.64829998016357, 44.799999961853025, 44.974624938964844, 45.14259994506836, 45.32537494659424, 45.496774940490724, 45.67812496185303, 45.843499946594235, 46.04094993591308, 46.231849937438966, 46.41497493743896, 46.58612491607666, 46.75597492218017, 46.89889991760254, 47.05117488861084, 47.212224884033205, 47.35044990539551, 47.48137489318847, 47.61607490539551, 47.73539993286133, 47.83882495880127, 47.91044994354248, 48.005024948120116, 48.105524940490724, 48.22127494812012, 48.289424934387206, 48.34237491607666, 48.35184989929199, 48.36177490234375, 48.40579990386963, 48.44334991455078, 48.4675749206543, 48.500099906921385, 48.5538249206543, 48.586349906921384, 48.641699905395505, 48.69957489013672, 48.75907489776611, 48.83244987487793, 48.89987483978271, 48.980724830627445, 49.0333748626709, 49.0522248840332, 49.1174499130249, 49.18924991607666, 49.2528498840332, 49.32407489776611, 49.422449913024906, 49.50589992523194, 49.57239990234375, 49.61619987487793, 49.65869987487793, 49.707599868774416, 49.74244987487793, 49.829099884033205, 49.924449882507325, 50.05084987640381, 50.154649848937986, 50.23309986114502, 50.33819984436035, 50.432349853515625, 50.51834983825684, 50.59434982299805, 50.691399841308595, 50.80074981689453, 50.90559986114502, 50.990049858093265, 51.08984981536865, 51.20534984588623, 51.32774982452393, 51.46069984436035, 51.620649871826174, 51.7690998840332, 51.89094985961914, 52.084249839782714, 52.28539981842041, 52.461249809265134, 52.6822998046875, 52.94624984741211, 53.20864982604981, 53.46034984588623, 53.751149826049804, 53.98674983978272, 54.225799827575685, 54.44694980621338, 54.68274978637695, 54.917149772644045, 55.135049743652345, 55.350749778747556, 55.59934978485107, 55.83884979248047, 56.0622998046875, 56.29849979400635, 56.55859981536865, 56.802949829101564, 57.00909984588623, 57.22474983215332, 57.46704986572266, 57.71999988555908, 57.95674987792969, 58.16549987792969, 58.36329986572266, 58.577949905395506, 58.800699920654296, 59.01179996490478, 59.22909996032715, 59.427049980163574, 59.6511499786377, 59.85480003356933, 60.04830001831055, 60.248999977111815, 60.444850006103515, 60.62560001373291, 60.81995002746582, 61.0104500579834, 61.1916000366211, 61.35400005340576, 61.47830009460449, 61.598000106811526, 61.74755012512207, 61.92500011444092, 62.13235008239746, 62.32845005035401, 62.456000061035155, 62.56695003509522, 62.70980003356934, 62.86640003204346, 63.020350036621096, 63.18790004730224, 63.3383500289917, 63.51395004272461, 63.68950004577637, 63.849200057983396, 63.975750045776365, 64.1248500442505, 64.28465007781982, 64.45435012817383, 64.63925010681152, 64.84550014495849, 65.04455013275147, 65.26135013580323, 65.4571501159668, 65.69020011901856, 65.90470012664795, 66.12040008544922, 66.35980007171631, 66.60990009307861, 66.85155010223389, 67.09935009002686, 67.35705013275147, 67.65570011138917, 67.96340011596679, 68.2472501373291, 68.52710014343262, 68.76040016174316, 68.98445014953613, 69.23295013427735, 69.47055011749268, 69.72710014343262, 69.96385017395019, 70.2196001815796, 70.49280017852783, 70.73500019073487, 70.94475017547607, 71.15380016326904, 71.31180011749268, 71.53095012664795, 71.70265018463135, 71.82430019378663, 71.96090023040772, 72.05425022125245, 72.17875019073486, 72.38830020904541, 72.62455024719239, 72.80395027160644, 72.99405029296875, 73.13455032348632, 73.22925033569337, 73.37255027770996, 73.47500030517578, 73.55850028991699, 73.61615028381348, 73.73280029296875, 73.87750030517579, 74.02985031127929, 74.21840034484863, 74.38400039672851, 74.55725044250488, 74.71885040283203, 74.87495040893555, 75.05870040893555, 75.20220039367676, 75.26325042724609, 75.32105041503907, 75.37255043029785, 75.44615043640137, 75.54230049133301, 75.62670043945313, 75.62545043945312, 75.62790046691894, 75.57775047302246], \"yaxis\": \"y\"}, {\"line\": {\"color\": \"red\", \"width\": 2}, \"name\": \"MA 200\", \"type\": \"scatter\", \"x\": [\"2020-08-07T00:00:00\", \"2020-08-10T00:00:00\", \"2020-08-11T00:00:00\", \"2020-08-12T00:00:00\", \"2020-08-13T00:00:00\", \"2020-08-14T00:00:00\", \"2020-08-17T00:00:00\", \"2020-08-18T00:00:00\", \"2020-08-19T00:00:00\", \"2020-08-20T00:00:00\", \"2020-08-21T00:00:00\", \"2020-08-24T00:00:00\", \"2020-08-25T00:00:00\", \"2020-08-26T00:00:00\", \"2020-08-27T00:00:00\", \"2020-08-28T00:00:00\", \"2020-08-31T00:00:00\", \"2020-09-01T00:00:00\", \"2020-09-02T00:00:00\", \"2020-09-03T00:00:00\", \"2020-09-04T00:00:00\", \"2020-09-08T00:00:00\", \"2020-09-09T00:00:00\", \"2020-09-10T00:00:00\", \"2020-09-11T00:00:00\", \"2020-09-14T00:00:00\", \"2020-09-15T00:00:00\", \"2020-09-16T00:00:00\", \"2020-09-17T00:00:00\", \"2020-09-18T00:00:00\", \"2020-09-21T00:00:00\", \"2020-09-22T00:00:00\", \"2020-09-23T00:00:00\", \"2020-09-24T00:00:00\", \"2020-09-25T00:00:00\", \"2020-09-28T00:00:00\", \"2020-09-29T00:00:00\", \"2020-09-30T00:00:00\", \"2020-10-01T00:00:00\", \"2020-10-02T00:00:00\", \"2020-10-05T00:00:00\", \"2020-10-06T00:00:00\", \"2020-10-07T00:00:00\", \"2020-10-08T00:00:00\", \"2020-10-09T00:00:00\", \"2020-10-12T00:00:00\", \"2020-10-13T00:00:00\", \"2020-10-14T00:00:00\", \"2020-10-15T00:00:00\", \"2020-10-16T00:00:00\", \"2020-10-19T00:00:00\", \"2020-10-20T00:00:00\", \"2020-10-21T00:00:00\", \"2020-10-22T00:00:00\", \"2020-10-23T00:00:00\", \"2020-10-26T00:00:00\", \"2020-10-27T00:00:00\", \"2020-10-28T00:00:00\", \"2020-10-29T00:00:00\", \"2020-10-30T00:00:00\", \"2020-11-02T00:00:00\", \"2020-11-03T00:00:00\", \"2020-11-04T00:00:00\", \"2020-11-05T00:00:00\", \"2020-11-06T00:00:00\", \"2020-11-09T00:00:00\", \"2020-11-10T00:00:00\", \"2020-11-11T00:00:00\", \"2020-11-12T00:00:00\", \"2020-11-13T00:00:00\", \"2020-11-16T00:00:00\", \"2020-11-17T00:00:00\", \"2020-11-18T00:00:00\", \"2020-11-19T00:00:00\", \"2020-11-20T00:00:00\", \"2020-11-23T00:00:00\", \"2020-11-24T00:00:00\", \"2020-11-25T00:00:00\", \"2020-11-27T00:00:00\", \"2020-11-30T00:00:00\", \"2020-12-01T00:00:00\", \"2020-12-02T00:00:00\", \"2020-12-03T00:00:00\", \"2020-12-04T00:00:00\", \"2020-12-07T00:00:00\", \"2020-12-08T00:00:00\", \"2020-12-09T00:00:00\", \"2020-12-10T00:00:00\", \"2020-12-11T00:00:00\", \"2020-12-14T00:00:00\", \"2020-12-15T00:00:00\", \"2020-12-16T00:00:00\", \"2020-12-17T00:00:00\", \"2020-12-18T00:00:00\", \"2020-12-21T00:00:00\", \"2020-12-22T00:00:00\", \"2020-12-23T00:00:00\", \"2020-12-24T00:00:00\", \"2020-12-28T00:00:00\", \"2020-12-29T00:00:00\", \"2020-12-30T00:00:00\", \"2020-12-31T00:00:00\", \"2021-01-04T00:00:00\", \"2021-01-05T00:00:00\", \"2021-01-06T00:00:00\", \"2021-01-07T00:00:00\", \"2021-01-08T00:00:00\", \"2021-01-11T00:00:00\", \"2021-01-12T00:00:00\", \"2021-01-13T00:00:00\", \"2021-01-14T00:00:00\", \"2021-01-15T00:00:00\", \"2021-01-19T00:00:00\", \"2021-01-20T00:00:00\", \"2021-01-21T00:00:00\", \"2021-01-22T00:00:00\", \"2021-01-25T00:00:00\", \"2021-01-26T00:00:00\", \"2021-01-27T00:00:00\", \"2021-01-28T00:00:00\", \"2021-01-29T00:00:00\", \"2021-02-01T00:00:00\", \"2021-02-02T00:00:00\", \"2021-02-03T00:00:00\", \"2021-02-04T00:00:00\", \"2021-02-05T00:00:00\", \"2021-02-08T00:00:00\", \"2021-02-09T00:00:00\", \"2021-02-10T00:00:00\", \"2021-02-11T00:00:00\", \"2021-02-12T00:00:00\", \"2021-02-16T00:00:00\", \"2021-02-17T00:00:00\", \"2021-02-18T00:00:00\", \"2021-02-19T00:00:00\", \"2021-02-22T00:00:00\", \"2021-02-23T00:00:00\", \"2021-02-24T00:00:00\", \"2021-02-25T00:00:00\", \"2021-02-26T00:00:00\", \"2021-03-01T00:00:00\", \"2021-03-02T00:00:00\", \"2021-03-03T00:00:00\", \"2021-03-04T00:00:00\", \"2021-03-05T00:00:00\", \"2021-03-08T00:00:00\", \"2021-03-09T00:00:00\", \"2021-03-10T00:00:00\", \"2021-03-11T00:00:00\", \"2021-03-12T00:00:00\", \"2021-03-15T00:00:00\", \"2021-03-16T00:00:00\", \"2021-03-17T00:00:00\", \"2021-03-18T00:00:00\", \"2021-03-19T00:00:00\", \"2021-03-22T00:00:00\", \"2021-03-23T00:00:00\", \"2021-03-24T00:00:00\", \"2021-03-25T00:00:00\", \"2021-03-26T00:00:00\", \"2021-03-29T00:00:00\", \"2021-03-30T00:00:00\", \"2021-03-31T00:00:00\", \"2021-04-01T00:00:00\", \"2021-04-05T00:00:00\", \"2021-04-06T00:00:00\", \"2021-04-07T00:00:00\", \"2021-04-08T00:00:00\", \"2021-04-09T00:00:00\", \"2021-04-12T00:00:00\", \"2021-04-13T00:00:00\", \"2021-04-14T00:00:00\", \"2021-04-15T00:00:00\", \"2021-04-16T00:00:00\", \"2021-04-19T00:00:00\", \"2021-04-20T00:00:00\", \"2021-04-21T00:00:00\", \"2021-04-22T00:00:00\", \"2021-04-23T00:00:00\", \"2021-04-26T00:00:00\", \"2021-04-27T00:00:00\", \"2021-04-28T00:00:00\", \"2021-04-29T00:00:00\", \"2021-04-30T00:00:00\", \"2021-05-03T00:00:00\", \"2021-05-04T00:00:00\", \"2021-05-05T00:00:00\", \"2021-05-06T00:00:00\", \"2021-05-07T00:00:00\", \"2021-05-10T00:00:00\", \"2021-05-11T00:00:00\", \"2021-05-12T00:00:00\", \"2021-05-13T00:00:00\", \"2021-05-14T00:00:00\", \"2021-05-17T00:00:00\", \"2021-05-18T00:00:00\", \"2021-05-19T00:00:00\", \"2021-05-20T00:00:00\", \"2021-05-21T00:00:00\", \"2021-05-24T00:00:00\", \"2021-05-25T00:00:00\", \"2021-05-26T00:00:00\", \"2021-05-27T00:00:00\", \"2021-05-28T00:00:00\", \"2021-06-01T00:00:00\", \"2021-06-02T00:00:00\", \"2021-06-03T00:00:00\", \"2021-06-04T00:00:00\", \"2021-06-07T00:00:00\", \"2021-06-08T00:00:00\", \"2021-06-09T00:00:00\", \"2021-06-10T00:00:00\", \"2021-06-11T00:00:00\", \"2021-06-14T00:00:00\", \"2021-06-15T00:00:00\", \"2021-06-16T00:00:00\", \"2021-06-17T00:00:00\", \"2021-06-18T00:00:00\", \"2021-06-21T00:00:00\", \"2021-06-22T00:00:00\", \"2021-06-23T00:00:00\", \"2021-06-24T00:00:00\", \"2021-06-25T00:00:00\", \"2021-06-28T00:00:00\", \"2021-06-29T00:00:00\", \"2021-06-30T00:00:00\", \"2021-07-01T00:00:00\", \"2021-07-02T00:00:00\", \"2021-07-06T00:00:00\", \"2021-07-07T00:00:00\", \"2021-07-08T00:00:00\", \"2021-07-09T00:00:00\", \"2021-07-12T00:00:00\", \"2021-07-13T00:00:00\", \"2021-07-14T00:00:00\", \"2021-07-15T00:00:00\", \"2021-07-16T00:00:00\", \"2021-07-19T00:00:00\", \"2021-07-20T00:00:00\", \"2021-07-21T00:00:00\", \"2021-07-22T00:00:00\", \"2021-07-23T00:00:00\", \"2021-07-26T00:00:00\", \"2021-07-27T00:00:00\", \"2021-07-28T00:00:00\", \"2021-07-29T00:00:00\", \"2021-07-30T00:00:00\", \"2021-08-02T00:00:00\", \"2021-08-03T00:00:00\", \"2021-08-04T00:00:00\", \"2021-08-05T00:00:00\", \"2021-08-06T00:00:00\", \"2021-08-09T00:00:00\", \"2021-08-10T00:00:00\", \"2021-08-11T00:00:00\", \"2021-08-12T00:00:00\", \"2021-08-13T00:00:00\", \"2021-08-16T00:00:00\", \"2021-08-17T00:00:00\", \"2021-08-18T00:00:00\", \"2021-08-19T00:00:00\", \"2021-08-20T00:00:00\", \"2021-08-23T00:00:00\", \"2021-08-24T00:00:00\", \"2021-08-25T00:00:00\", \"2021-08-26T00:00:00\", \"2021-08-27T00:00:00\", \"2021-08-30T00:00:00\", \"2021-08-31T00:00:00\", \"2021-09-01T00:00:00\", \"2021-09-02T00:00:00\", \"2021-09-03T00:00:00\", \"2021-09-07T00:00:00\", \"2021-09-08T00:00:00\", \"2021-09-09T00:00:00\", \"2021-09-10T00:00:00\", \"2021-09-13T00:00:00\", \"2021-09-14T00:00:00\", \"2021-09-15T00:00:00\", \"2021-09-16T00:00:00\", \"2021-09-17T00:00:00\", \"2021-09-20T00:00:00\", \"2021-09-21T00:00:00\", \"2021-09-22T00:00:00\", \"2021-09-23T00:00:00\", \"2021-09-24T00:00:00\", \"2021-09-27T00:00:00\", \"2021-09-28T00:00:00\", \"2021-09-29T00:00:00\", \"2021-09-30T00:00:00\", \"2021-10-01T00:00:00\", \"2021-10-04T00:00:00\", \"2021-10-05T00:00:00\", \"2021-10-06T00:00:00\", \"2021-10-07T00:00:00\", \"2021-10-08T00:00:00\", \"2021-10-11T00:00:00\", \"2021-10-12T00:00:00\", \"2021-10-13T00:00:00\", \"2021-10-14T00:00:00\", \"2021-10-15T00:00:00\", \"2021-10-18T00:00:00\", \"2021-10-19T00:00:00\", \"2021-10-20T00:00:00\", \"2021-10-21T00:00:00\", \"2021-10-22T00:00:00\", \"2021-10-25T00:00:00\", \"2021-10-26T00:00:00\", \"2021-10-27T00:00:00\", \"2021-10-28T00:00:00\", \"2021-10-29T00:00:00\", \"2021-11-01T00:00:00\", \"2021-11-02T00:00:00\", \"2021-11-03T00:00:00\", \"2021-11-04T00:00:00\", \"2021-11-05T00:00:00\", \"2021-11-08T00:00:00\", \"2021-11-09T00:00:00\", \"2021-11-10T00:00:00\", \"2021-11-11T00:00:00\", \"2021-11-12T00:00:00\", \"2021-11-15T00:00:00\", \"2021-11-16T00:00:00\", \"2021-11-17T00:00:00\", \"2021-11-18T00:00:00\", \"2021-11-19T00:00:00\", \"2021-11-22T00:00:00\", \"2021-11-23T00:00:00\", \"2021-11-24T00:00:00\", \"2021-11-26T00:00:00\", \"2021-11-29T00:00:00\", \"2021-11-30T00:00:00\", \"2021-12-01T00:00:00\", \"2021-12-02T00:00:00\", \"2021-12-03T00:00:00\", \"2021-12-06T00:00:00\", \"2021-12-07T00:00:00\", \"2021-12-08T00:00:00\", \"2021-12-09T00:00:00\", \"2021-12-10T00:00:00\", \"2021-12-13T00:00:00\", \"2021-12-14T00:00:00\", \"2021-12-15T00:00:00\", \"2021-12-16T00:00:00\", \"2021-12-17T00:00:00\", \"2021-12-20T00:00:00\", \"2021-12-21T00:00:00\", \"2021-12-22T00:00:00\", \"2021-12-23T00:00:00\", \"2021-12-27T00:00:00\", \"2021-12-28T00:00:00\", \"2021-12-29T00:00:00\", \"2021-12-30T00:00:00\", \"2021-12-31T00:00:00\", \"2022-01-03T00:00:00\", \"2022-01-04T00:00:00\", \"2022-01-05T00:00:00\", \"2022-01-06T00:00:00\", \"2022-01-07T00:00:00\", \"2022-01-10T00:00:00\", \"2022-01-11T00:00:00\", \"2022-01-12T00:00:00\", \"2022-01-13T00:00:00\", \"2022-01-14T00:00:00\", \"2022-01-18T00:00:00\"], \"xaxis\": \"x\", \"y\": [20.867424936294555, 20.943449935913087, 21.008274936676024, 21.082262439727785, 21.15477494239807, 21.22883744239807, 21.306962451934815, 21.389862451553345, 21.467099962234496, 21.549587450027467, 21.635574960708617, 21.725412464141847, 21.818537464141844, 21.92237495422363, 22.024824953079225, 22.129524965286254, 22.23892497062683, 22.358824977874757, 22.482974977493285, 22.573137474060058, 22.655299968719483, 22.71409996986389, 22.786687479019164, 22.84947498321533, 22.90564998626709, 22.96908748626709, 23.037374982833864, 23.09896248817444, 23.156362495422364, 23.210024995803835, 23.26404999732971, 23.32563750267029, 23.369937505722046, 23.417487506866454, 23.47527500152588, 23.540700006484986, 23.602212505340574, 23.66601249694824, 23.734612493515016, 23.788949995040895, 23.85296250343323, 23.905900011062624, 23.965900020599364, 24.02756251335144, 24.09663752555847, 24.179375019073486, 24.262462520599364, 24.342975025177, 24.418987522125246, 24.486812534332277, 24.548712530136108, 24.609625024795534, 24.670225019454957, 24.728325023651124, 24.784537525177, 24.833775024414063, 24.882850017547607, 24.91337502479553, 24.95146252632141, 24.975237522125244, 24.997225017547606, 25.026662521362304, 25.076100025177002, 25.137887525558472, 25.20360001564026, 25.265400018692016, 25.312225027084352, 25.369912528991698, 25.423600015640258, 25.48797501564026, 25.551150007247927, 25.60425001144409, 25.651575012207033, 25.700125007629396, 25.746687517166137, 25.78846252441406, 25.837512521743776, 25.886037521362304, 25.940337533950807, 25.994687538146973, 26.056550035476686, 26.115087537765504, 26.178662538528442, 26.252975034713746, 26.346412525177, 26.4514750289917, 26.54062502861023, 26.648900032043457, 26.754275035858154, 26.85081254005432, 26.964050045013426, 27.068825054168702, 27.18777505874634, 27.309637565612793, 27.450200057029726, 27.580562558174133, 27.719000062942506, 27.881362557411194, 28.03517505645752, 28.2141375541687, 28.385475053787232, 28.563587555885317, 28.73062506198883, 28.909000072479248, 29.078025069236755, 29.252550058364868, 29.437212557792662, 29.60270005226135, 29.773625054359435, 29.94312506198883, 30.110812554359438, 30.280362548828126, 30.45643754482269, 30.650862555503846, 30.840337562561036, 31.027637553215026, 31.21782504558563, 31.408037543296814, 31.57502504825592, 31.73633755683899, 31.885275058746338, 32.04670006752014, 32.21783756256104, 32.388750066757204, 32.577487564086915, 32.76260007381439, 32.95337507724762, 33.140275073051455, 33.32368757724762, 33.51588757038117, 33.7045250749588, 33.890287585258484, 34.08007508277893, 34.26343758583069, 34.4406750869751, 34.59593757629395, 34.74567506790161, 34.8975625705719, 35.02150007247925, 35.15443758010864, 35.3102375793457, 35.45153757095337, 35.571275062561035, 35.67531255722046, 35.7890625667572, 35.8793125629425, 35.99522506713867, 36.108425064086916, 36.236762561798095, 36.35806255340576, 36.48707505226135, 36.61573755264282, 36.74605004310608, 36.85270004272461, 36.96062504768371, 37.082275037765505, 37.19466254234314, 37.29320004463196, 37.3880250453949, 37.48798754692078, 37.60573754310608, 37.71808753013611, 37.836500034332275, 37.9607125377655, 38.09820004463196, 38.234187536239624, 38.37221253395081, 38.5140375328064, 38.65746252059937, 38.80718751907349, 38.96295001983643, 39.1176750087738, 39.28060000419617, 39.4380624961853, 39.58353750228882, 39.720374994277954, 39.85444999694824, 39.981324996948246, 40.11287499427795, 40.24630000114441, 40.37301250457764, 40.50602499961853, 40.638825006484986, 40.76577501296997, 40.89137501716614, 41.002375020980836, 41.09855002403259, 41.20500001907349, 41.315950031280515, 41.4190375328064, 41.524975023269654, 41.60560002326965, 41.696137523651124, 41.79673752784729, 41.89102502822876, 41.972725038528445, 42.0497125339508, 42.13808753013611, 42.22116251945496, 42.310262517929075, 42.40595001220703, 42.5063500213623, 42.612637519836426, 42.71035000801086, 42.80444999694824, 42.90033750534057, 42.982937507629394, 43.07337501525879, 43.16942501068115, 43.25893751144409, 43.34513750076294, 43.43611249923706, 43.52503749847412, 43.60982500076294, 43.6911874961853, 43.76659997940064, 43.847624969482425, 43.91142496109009, 43.97428747177124, 44.078499984741214, 44.19082498550415, 44.33349997520447, 44.46218747138977, 44.61082496643066, 44.76628746986389, 44.912562465667726, 45.05218746185303, 45.2102249622345, 45.37982495307922, 45.557324962615965, 45.72749996185303, 45.89499994277954, 46.080937452316284, 46.26463744163513, 46.440087451934815, 46.59966245651245, 46.753037452697754, 46.89571245193481, 47.04082494735718, 47.20728743553162, 47.37063742637634, 47.55393741607666, 47.730349922180174, 47.893112411499025, 48.051987419128416, 48.196062412261966, 48.335062427520754, 48.47872491836548, 48.63204990386963, 48.78987487792969, 48.96308736801147, 49.130687351226804, 49.300562362670895, 49.46522485733032, 49.627049865722654, 49.8003123664856, 49.973049869537356, 50.16634987831116, 50.342987384796146, 50.52087490081787, 50.70333739280701, 50.888587398529054, 51.06811241149902, 51.237624912261964, 51.40689992904663, 51.58164991378784, 51.776287422180175, 51.971649932861325, 52.16858745574951, 52.362937450408936, 52.5525874710083, 52.74732496261597, 52.94787498474121, 53.140074977874754, 53.33198745727539, 53.51548746109009, 53.69078746795654, 53.85942497253418, 54.03081247329712, 54.20191246032715, 54.35222497940063, 54.47983749389648, 54.60703750610352, 54.7414750289917, 54.881912536621094, 55.02140001296997, 55.16673749923706, 55.28076250076294, 55.394112491607665, 55.49961248397827, 55.60438747406006, 55.686099967956544, 55.774837474822995, 55.87207496643067, 55.9786499786377, 56.078537483215335, 56.174649982452394, 56.26478748321533, 56.35559997558594, 56.463174991607666, 56.57696250915527, 56.69916250228882, 56.838975009918215, 56.97221248626709, 57.12103748321533, 57.24526248931885, 57.37121250152588, 57.511075019836426, 57.65482500076294, 57.80632497787476, 57.966987495422366, 58.137000007629396, 58.302625007629395, 58.46472501754761, 58.63594999313354, 58.811049995422366, 58.977425003051756, 59.13477500915528, 59.29475002288818, 59.45445001602173, 59.641900005340574, 59.812599983215335, 59.98010000228882, 60.151025009155276, 60.325975017547606, 60.505575008392334, 60.66467500686645, 60.818075008392334, 60.97727499008179, 61.10869998931885, 61.260499992370605, 61.39625, 61.51482501983642, 61.64432502746582, 61.7574750328064, 61.89970003128052, 62.0787000465393, 62.257750053405765, 62.44410005569458, 62.63972505569458, 62.79790006637573, 62.95577507019043, 63.15940006256103, 63.341825065612795, 63.50942506790161, 63.68365005493164, 63.85977506637573, 64.05165006637573, 64.23840005874634, 64.4505750656128, 64.65057508468628, 64.84615009307862, 65.0348000907898, 65.23715009689332, 65.448775100708, 65.63225009918213, 65.78087511062623, 65.93982511520386, 66.08775012969971, 66.2276251411438, 66.38352516174317, 66.54687515258789, 66.6727251625061, 66.79232517242431, 66.87162517547607], \"yaxis\": \"y\"}, {\"line\": {\"color\": \"black\", \"width\": 2}, \"name\": \"MA 300\", \"type\": \"scatter\", \"x\": [\"2020-08-07T00:00:00\", \"2020-08-10T00:00:00\", \"2020-08-11T00:00:00\", \"2020-08-12T00:00:00\", \"2020-08-13T00:00:00\", \"2020-08-14T00:00:00\", \"2020-08-17T00:00:00\", \"2020-08-18T00:00:00\", \"2020-08-19T00:00:00\", \"2020-08-20T00:00:00\", \"2020-08-21T00:00:00\", \"2020-08-24T00:00:00\", \"2020-08-25T00:00:00\", \"2020-08-26T00:00:00\", \"2020-08-27T00:00:00\", \"2020-08-28T00:00:00\", \"2020-08-31T00:00:00\", \"2020-09-01T00:00:00\", \"2020-09-02T00:00:00\", \"2020-09-03T00:00:00\", \"2020-09-04T00:00:00\", \"2020-09-08T00:00:00\", \"2020-09-09T00:00:00\", \"2020-09-10T00:00:00\", \"2020-09-11T00:00:00\", \"2020-09-14T00:00:00\", \"2020-09-15T00:00:00\", \"2020-09-16T00:00:00\", \"2020-09-17T00:00:00\", \"2020-09-18T00:00:00\", \"2020-09-21T00:00:00\", \"2020-09-22T00:00:00\", \"2020-09-23T00:00:00\", \"2020-09-24T00:00:00\", \"2020-09-25T00:00:00\", \"2020-09-28T00:00:00\", \"2020-09-29T00:00:00\", \"2020-09-30T00:00:00\", \"2020-10-01T00:00:00\", \"2020-10-02T00:00:00\", \"2020-10-05T00:00:00\", \"2020-10-06T00:00:00\", \"2020-10-07T00:00:00\", \"2020-10-08T00:00:00\", \"2020-10-09T00:00:00\", \"2020-10-12T00:00:00\", \"2020-10-13T00:00:00\", \"2020-10-14T00:00:00\", \"2020-10-15T00:00:00\", \"2020-10-16T00:00:00\", \"2020-10-19T00:00:00\", \"2020-10-20T00:00:00\", \"2020-10-21T00:00:00\", \"2020-10-22T00:00:00\", \"2020-10-23T00:00:00\", \"2020-10-26T00:00:00\", \"2020-10-27T00:00:00\", \"2020-10-28T00:00:00\", \"2020-10-29T00:00:00\", \"2020-10-30T00:00:00\", \"2020-11-02T00:00:00\", \"2020-11-03T00:00:00\", \"2020-11-04T00:00:00\", \"2020-11-05T00:00:00\", \"2020-11-06T00:00:00\", \"2020-11-09T00:00:00\", \"2020-11-10T00:00:00\", \"2020-11-11T00:00:00\", \"2020-11-12T00:00:00\", \"2020-11-13T00:00:00\", \"2020-11-16T00:00:00\", \"2020-11-17T00:00:00\", \"2020-11-18T00:00:00\", \"2020-11-19T00:00:00\", \"2020-11-20T00:00:00\", \"2020-11-23T00:00:00\", \"2020-11-24T00:00:00\", \"2020-11-25T00:00:00\", \"2020-11-27T00:00:00\", \"2020-11-30T00:00:00\", \"2020-12-01T00:00:00\", \"2020-12-02T00:00:00\", \"2020-12-03T00:00:00\", \"2020-12-04T00:00:00\", \"2020-12-07T00:00:00\", \"2020-12-08T00:00:00\", \"2020-12-09T00:00:00\", \"2020-12-10T00:00:00\", \"2020-12-11T00:00:00\", \"2020-12-14T00:00:00\", \"2020-12-15T00:00:00\", \"2020-12-16T00:00:00\", \"2020-12-17T00:00:00\", \"2020-12-18T00:00:00\", \"2020-12-21T00:00:00\", \"2020-12-22T00:00:00\", \"2020-12-23T00:00:00\", \"2020-12-24T00:00:00\", \"2020-12-28T00:00:00\", \"2020-12-29T00:00:00\", \"2020-12-30T00:00:00\", \"2020-12-31T00:00:00\", \"2021-01-04T00:00:00\", \"2021-01-05T00:00:00\", \"2021-01-06T00:00:00\", \"2021-01-07T00:00:00\", \"2021-01-08T00:00:00\", \"2021-01-11T00:00:00\", \"2021-01-12T00:00:00\", \"2021-01-13T00:00:00\", \"2021-01-14T00:00:00\", \"2021-01-15T00:00:00\", \"2021-01-19T00:00:00\", \"2021-01-20T00:00:00\", \"2021-01-21T00:00:00\", \"2021-01-22T00:00:00\", \"2021-01-25T00:00:00\", \"2021-01-26T00:00:00\", \"2021-01-27T00:00:00\", \"2021-01-28T00:00:00\", \"2021-01-29T00:00:00\", \"2021-02-01T00:00:00\", \"2021-02-02T00:00:00\", \"2021-02-03T00:00:00\", \"2021-02-04T00:00:00\", \"2021-02-05T00:00:00\", \"2021-02-08T00:00:00\", \"2021-02-09T00:00:00\", \"2021-02-10T00:00:00\", \"2021-02-11T00:00:00\", \"2021-02-12T00:00:00\", \"2021-02-16T00:00:00\", \"2021-02-17T00:00:00\", \"2021-02-18T00:00:00\", \"2021-02-19T00:00:00\", \"2021-02-22T00:00:00\", \"2021-02-23T00:00:00\", \"2021-02-24T00:00:00\", \"2021-02-25T00:00:00\", \"2021-02-26T00:00:00\", \"2021-03-01T00:00:00\", \"2021-03-02T00:00:00\", \"2021-03-03T00:00:00\", \"2021-03-04T00:00:00\", \"2021-03-05T00:00:00\", \"2021-03-08T00:00:00\", \"2021-03-09T00:00:00\", \"2021-03-10T00:00:00\", \"2021-03-11T00:00:00\", \"2021-03-12T00:00:00\", \"2021-03-15T00:00:00\", \"2021-03-16T00:00:00\", \"2021-03-17T00:00:00\", \"2021-03-18T00:00:00\", \"2021-03-19T00:00:00\", \"2021-03-22T00:00:00\", \"2021-03-23T00:00:00\", \"2021-03-24T00:00:00\", \"2021-03-25T00:00:00\", \"2021-03-26T00:00:00\", \"2021-03-29T00:00:00\", \"2021-03-30T00:00:00\", \"2021-03-31T00:00:00\", \"2021-04-01T00:00:00\", \"2021-04-05T00:00:00\", \"2021-04-06T00:00:00\", \"2021-04-07T00:00:00\", \"2021-04-08T00:00:00\", \"2021-04-09T00:00:00\", \"2021-04-12T00:00:00\", \"2021-04-13T00:00:00\", \"2021-04-14T00:00:00\", \"2021-04-15T00:00:00\", \"2021-04-16T00:00:00\", \"2021-04-19T00:00:00\", \"2021-04-20T00:00:00\", \"2021-04-21T00:00:00\", \"2021-04-22T00:00:00\", \"2021-04-23T00:00:00\", \"2021-04-26T00:00:00\", \"2021-04-27T00:00:00\", \"2021-04-28T00:00:00\", \"2021-04-29T00:00:00\", \"2021-04-30T00:00:00\", \"2021-05-03T00:00:00\", \"2021-05-04T00:00:00\", \"2021-05-05T00:00:00\", \"2021-05-06T00:00:00\", \"2021-05-07T00:00:00\", \"2021-05-10T00:00:00\", \"2021-05-11T00:00:00\", \"2021-05-12T00:00:00\", \"2021-05-13T00:00:00\", \"2021-05-14T00:00:00\", \"2021-05-17T00:00:00\", \"2021-05-18T00:00:00\", \"2021-05-19T00:00:00\", \"2021-05-20T00:00:00\", \"2021-05-21T00:00:00\", \"2021-05-24T00:00:00\", \"2021-05-25T00:00:00\", \"2021-05-26T00:00:00\", \"2021-05-27T00:00:00\", \"2021-05-28T00:00:00\", \"2021-06-01T00:00:00\", \"2021-06-02T00:00:00\", \"2021-06-03T00:00:00\", \"2021-06-04T00:00:00\", \"2021-06-07T00:00:00\", \"2021-06-08T00:00:00\", \"2021-06-09T00:00:00\", \"2021-06-10T00:00:00\", \"2021-06-11T00:00:00\", \"2021-06-14T00:00:00\", \"2021-06-15T00:00:00\", \"2021-06-16T00:00:00\", \"2021-06-17T00:00:00\", \"2021-06-18T00:00:00\", \"2021-06-21T00:00:00\", \"2021-06-22T00:00:00\", \"2021-06-23T00:00:00\", \"2021-06-24T00:00:00\", \"2021-06-25T00:00:00\", \"2021-06-28T00:00:00\", \"2021-06-29T00:00:00\", \"2021-06-30T00:00:00\", \"2021-07-01T00:00:00\", \"2021-07-02T00:00:00\", \"2021-07-06T00:00:00\", \"2021-07-07T00:00:00\", \"2021-07-08T00:00:00\", \"2021-07-09T00:00:00\", \"2021-07-12T00:00:00\", \"2021-07-13T00:00:00\", \"2021-07-14T00:00:00\", \"2021-07-15T00:00:00\", \"2021-07-16T00:00:00\", \"2021-07-19T00:00:00\", \"2021-07-20T00:00:00\", \"2021-07-21T00:00:00\", \"2021-07-22T00:00:00\", \"2021-07-23T00:00:00\", \"2021-07-26T00:00:00\", \"2021-07-27T00:00:00\", \"2021-07-28T00:00:00\", \"2021-07-29T00:00:00\", \"2021-07-30T00:00:00\", \"2021-08-02T00:00:00\", \"2021-08-03T00:00:00\", \"2021-08-04T00:00:00\", \"2021-08-05T00:00:00\", \"2021-08-06T00:00:00\", \"2021-08-09T00:00:00\", \"2021-08-10T00:00:00\", \"2021-08-11T00:00:00\", \"2021-08-12T00:00:00\", \"2021-08-13T00:00:00\", \"2021-08-16T00:00:00\", \"2021-08-17T00:00:00\", \"2021-08-18T00:00:00\", \"2021-08-19T00:00:00\", \"2021-08-20T00:00:00\", \"2021-08-23T00:00:00\", \"2021-08-24T00:00:00\", \"2021-08-25T00:00:00\", \"2021-08-26T00:00:00\", \"2021-08-27T00:00:00\", \"2021-08-30T00:00:00\", \"2021-08-31T00:00:00\", \"2021-09-01T00:00:00\", \"2021-09-02T00:00:00\", \"2021-09-03T00:00:00\", \"2021-09-07T00:00:00\", \"2021-09-08T00:00:00\", \"2021-09-09T00:00:00\", \"2021-09-10T00:00:00\", \"2021-09-13T00:00:00\", \"2021-09-14T00:00:00\", \"2021-09-15T00:00:00\", \"2021-09-16T00:00:00\", \"2021-09-17T00:00:00\", \"2021-09-20T00:00:00\", \"2021-09-21T00:00:00\", \"2021-09-22T00:00:00\", \"2021-09-23T00:00:00\", \"2021-09-24T00:00:00\", \"2021-09-27T00:00:00\", \"2021-09-28T00:00:00\", \"2021-09-29T00:00:00\", \"2021-09-30T00:00:00\", \"2021-10-01T00:00:00\", \"2021-10-04T00:00:00\", \"2021-10-05T00:00:00\", \"2021-10-06T00:00:00\", \"2021-10-07T00:00:00\", \"2021-10-08T00:00:00\", \"2021-10-11T00:00:00\", \"2021-10-12T00:00:00\", \"2021-10-13T00:00:00\", \"2021-10-14T00:00:00\", \"2021-10-15T00:00:00\", \"2021-10-18T00:00:00\", \"2021-10-19T00:00:00\", \"2021-10-20T00:00:00\", \"2021-10-21T00:00:00\", \"2021-10-22T00:00:00\", \"2021-10-25T00:00:00\", \"2021-10-26T00:00:00\", \"2021-10-27T00:00:00\", \"2021-10-28T00:00:00\", \"2021-10-29T00:00:00\", \"2021-11-01T00:00:00\", \"2021-11-02T00:00:00\", \"2021-11-03T00:00:00\", \"2021-11-04T00:00:00\", \"2021-11-05T00:00:00\", \"2021-11-08T00:00:00\", \"2021-11-09T00:00:00\", \"2021-11-10T00:00:00\", \"2021-11-11T00:00:00\", \"2021-11-12T00:00:00\", \"2021-11-15T00:00:00\", \"2021-11-16T00:00:00\", \"2021-11-17T00:00:00\", \"2021-11-18T00:00:00\", \"2021-11-19T00:00:00\", \"2021-11-22T00:00:00\", \"2021-11-23T00:00:00\", \"2021-11-24T00:00:00\", \"2021-11-26T00:00:00\", \"2021-11-29T00:00:00\", \"2021-11-30T00:00:00\", \"2021-12-01T00:00:00\", \"2021-12-02T00:00:00\", \"2021-12-03T00:00:00\", \"2021-12-06T00:00:00\", \"2021-12-07T00:00:00\", \"2021-12-08T00:00:00\", \"2021-12-09T00:00:00\", \"2021-12-10T00:00:00\", \"2021-12-13T00:00:00\", \"2021-12-14T00:00:00\", \"2021-12-15T00:00:00\", \"2021-12-16T00:00:00\", \"2021-12-17T00:00:00\", \"2021-12-20T00:00:00\", \"2021-12-21T00:00:00\", \"2021-12-22T00:00:00\", \"2021-12-23T00:00:00\", \"2021-12-27T00:00:00\", \"2021-12-28T00:00:00\", \"2021-12-29T00:00:00\", \"2021-12-30T00:00:00\", \"2021-12-31T00:00:00\", \"2022-01-03T00:00:00\", \"2022-01-04T00:00:00\", \"2022-01-05T00:00:00\", \"2022-01-06T00:00:00\", \"2022-01-07T00:00:00\", \"2022-01-10T00:00:00\", \"2022-01-11T00:00:00\", \"2022-01-12T00:00:00\", \"2022-01-13T00:00:00\", \"2022-01-14T00:00:00\", \"2022-01-18T00:00:00\"], \"xaxis\": \"x\", \"y\": [20.867424936294555, 20.943449935913087, 21.008274936676024, 21.082262439727785, 21.15477494239807, 21.22883744239807, 21.306962451934815, 21.389862451553345, 21.467099962234496, 21.549587450027467, 21.635574960708617, 21.725412464141847, 21.818537464141844, 21.92237495422363, 22.024824953079225, 22.129524965286254, 22.23892497062683, 22.358824977874757, 22.482974977493285, 22.573137474060058, 22.655299968719483, 22.71409996986389, 22.786687479019164, 22.84947498321533, 22.90564998626709, 22.96908748626709, 23.037374982833864, 23.09896248817444, 23.156362495422364, 23.210024995803835, 23.26404999732971, 23.32563750267029, 23.369937505722046, 23.417487506866454, 23.47527500152588, 23.540700006484986, 23.602212505340574, 23.66601249694824, 23.734612493515016, 23.788949995040895, 23.85296250343323, 23.905900011062624, 23.965900020599364, 24.02756251335144, 24.09663752555847, 24.179375019073486, 24.262462520599364, 24.342975025177, 24.418987522125246, 24.486812534332277, 24.548712530136108, 24.609625024795534, 24.670225019454957, 24.728325023651124, 24.784537525177, 24.833775024414063, 24.882850017547607, 24.91337502479553, 24.95146252632141, 24.975237522125244, 24.997225017547606, 25.026662521362304, 25.076100025177002, 25.137887525558472, 25.20360001564026, 25.265400018692016, 25.312225027084352, 25.369912528991698, 25.423600015640258, 25.48797501564026, 25.551150007247927, 25.60425001144409, 25.651575012207033, 25.700125007629396, 25.746687517166137, 25.78846252441406, 25.837512521743776, 25.886037521362304, 25.940337533950807, 25.994687538146973, 26.056550035476686, 26.115087537765504, 26.178662538528442, 26.252975034713746, 26.346412525177, 26.4514750289917, 26.54062502861023, 26.648900032043457, 26.754275035858154, 26.85081254005432, 26.964050045013426, 27.068825054168702, 27.18777505874634, 27.309637565612793, 27.450200057029726, 27.580562558174133, 27.719000062942506, 27.881362557411194, 28.03517505645752, 28.2141375541687, 28.385475053787232, 28.563587555885317, 28.73062506198883, 28.909000072479248, 29.078025069236755, 29.252550058364868, 29.437212557792662, 29.60270005226135, 29.773625054359435, 29.94312506198883, 30.110812554359438, 30.280362548828126, 30.45643754482269, 30.650862555503846, 30.840337562561036, 31.027637553215026, 31.21782504558563, 31.408037543296814, 31.57502504825592, 31.73633755683899, 31.885275058746338, 32.04670006752014, 32.21783756256104, 32.388750066757204, 32.577487564086915, 32.76260007381439, 32.95337507724762, 33.140275073051455, 33.32368757724762, 33.51588757038117, 33.7045250749588, 33.890287585258484, 34.08007508277893, 34.26343758583069, 34.4406750869751, 34.59593757629395, 34.74567506790161, 34.8975625705719, 35.02150007247925, 35.15443758010864, 35.3102375793457, 35.45153757095337, 35.571275062561035, 35.67531255722046, 35.7890625667572, 35.8793125629425, 35.99522506713867, 36.108425064086916, 36.236762561798095, 36.35806255340576, 36.48707505226135, 36.61573755264282, 36.74605004310608, 36.85270004272461, 36.96062504768371, 37.082275037765505, 37.19466254234314, 37.29320004463196, 37.3880250453949, 37.48798754692078, 37.60573754310608, 37.71808753013611, 37.836500034332275, 37.9607125377655, 38.09820004463196, 38.234187536239624, 38.37221253395081, 38.5140375328064, 38.65746252059937, 38.80718751907349, 38.96295001983643, 39.1176750087738, 39.28060000419617, 39.4380624961853, 39.58353750228882, 39.720374994277954, 39.85444999694824, 39.981324996948246, 40.11287499427795, 40.24630000114441, 40.37301250457764, 40.50602499961853, 40.638825006484986, 40.76577501296997, 40.89137501716614, 41.002375020980836, 41.09855002403259, 41.20500001907349, 41.315950031280515, 41.4190375328064, 41.524975023269654, 41.60560002326965, 41.696137523651124, 41.79673752784729, 41.89102502822876, 41.972725038528445, 42.0497125339508, 42.13808753013611, 42.22116251945496, 42.310262517929075, 42.40595001220703, 42.5063500213623, 42.612637519836426, 42.71035000801086, 42.80444999694824, 42.90033750534057, 42.982937507629394, 43.07337501525879, 43.16942501068115, 43.25893751144409, 43.34513750076294, 43.43611249923706, 43.52503749847412, 43.60982500076294, 43.6911874961853, 43.76659997940064, 43.847624969482425, 43.91142496109009, 43.97428747177124, 44.078499984741214, 44.19082498550415, 44.33349997520447, 44.46218747138977, 44.61082496643066, 44.76628746986389, 44.912562465667726, 45.05218746185303, 45.2102249622345, 45.37982495307922, 45.557324962615965, 45.72749996185303, 45.89499994277954, 46.080937452316284, 46.26463744163513, 46.440087451934815, 46.59966245651245, 46.753037452697754, 46.89571245193481, 47.04082494735718, 47.20728743553162, 47.37063742637634, 47.55393741607666, 47.730349922180174, 47.893112411499025, 48.051987419128416, 48.196062412261966, 48.335062427520754, 48.47872491836548, 48.63204990386963, 48.78987487792969, 48.96308736801147, 49.130687351226804, 49.300562362670895, 49.46522485733032, 49.627049865722654, 49.8003123664856, 49.973049869537356, 50.16634987831116, 50.342987384796146, 50.52087490081787, 50.70333739280701, 50.888587398529054, 51.06811241149902, 51.237624912261964, 51.40689992904663, 51.58164991378784, 51.776287422180175, 51.971649932861325, 52.16858745574951, 52.362937450408936, 52.5525874710083, 52.74732496261597, 52.94787498474121, 53.140074977874754, 53.33198745727539, 53.51548746109009, 53.69078746795654, 53.85942497253418, 54.03081247329712, 54.20191246032715, 54.35222497940063, 54.47983749389648, 54.60703750610352, 54.7414750289917, 54.881912536621094, 55.02140001296997, 55.16673749923706, 55.28076250076294, 55.394112491607665, 55.49961248397827, 55.60438747406006, 55.686099967956544, 55.774837474822995, 55.87207496643067, 55.9786499786377, 56.078537483215335, 56.174649982452394, 56.26478748321533, 56.35559997558594, 56.463174991607666, 56.57696250915527, 56.69916250228882, 56.838975009918215, 56.97221248626709, 57.12103748321533, 57.24526248931885, 57.37121250152588, 57.511075019836426, 57.65482500076294, 57.80632497787476, 57.966987495422366, 58.137000007629396, 58.302625007629395, 58.46472501754761, 58.63594999313354, 58.811049995422366, 58.977425003051756, 59.13477500915528, 59.29475002288818, 59.45445001602173, 59.641900005340574, 59.812599983215335, 59.98010000228882, 60.151025009155276, 60.325975017547606, 60.505575008392334, 60.66467500686645, 60.818075008392334, 60.97727499008179, 61.10869998931885, 61.260499992370605, 61.39625, 61.51482501983642, 61.64432502746582, 61.7574750328064, 61.89970003128052, 62.0787000465393, 62.257750053405765, 62.44410005569458, 62.63972505569458, 62.79790006637573, 62.95577507019043, 63.15940006256103, 63.341825065612795, 63.50942506790161, 63.68365005493164, 63.85977506637573, 64.05165006637573, 64.23840005874634, 64.4505750656128, 64.65057508468628, 64.84615009307862, 65.0348000907898, 65.23715009689332, 65.448775100708, 65.63225009918213, 65.78087511062623, 65.93982511520386, 66.08775012969971, 66.2276251411438, 66.38352516174317, 66.54687515258789, 66.6727251625061, 66.79232517242431, 66.87162517547607], \"yaxis\": \"y\"}, {\"line\": {\"color\": \"rgba(100, 10, 100, 0.2)\", \"dash\": \"dash\", \"shape\": \"linear\", \"width\": 1}, \"mode\": \"lines+text\", \"name\": \"Lines and Text\", \"showlegend\": false, \"text\": [\"\", \"$91.7 (0% disc:0%)\", \"\"], \"textposition\": \"top right\", \"type\": \"scatter\", \"x\": [\"2020-08-07T00:00:00\", \"2022-01-18T00:00:00\"], \"xaxis\": \"x\", \"y\": [91.68000030517578, 91.68000030517578], \"yaxis\": \"y\"}, {\"line\": {\"color\": \"rgba(100, 10, 100, 0.2)\", \"dash\": \"dash\", \"shape\": \"linear\", \"width\": 1}, \"mode\": \"lines+text\", \"name\": \"Lines and Text\", \"showlegend\": false, \"text\": [\"\", \"$88.6 (3.5% disc:3.5%)\", \"\"], \"textposition\": \"top right\", \"type\": \"scatter\", \"x\": [\"2020-08-07T00:00:00\", \"2022-01-18T00:00:00\"], \"xaxis\": \"x\", \"y\": [88.6, 88.6], \"yaxis\": \"y\"}, {\"line\": {\"color\": \"rgba(100, 10, 100, 0.2)\", \"dash\": \"dash\", \"shape\": \"linear\", \"width\": 1}, \"mode\": \"lines+text\", \"name\": \"Lines and Text\", \"showlegend\": false, \"text\": [\"\", \"$86.8 (2.0% disc:5.6%)\", \"\"], \"textposition\": \"top right\", \"type\": \"scatter\", \"x\": [\"2020-08-07T00:00:00\", \"2022-01-18T00:00:00\"], \"xaxis\": \"x\", \"y\": [86.83000183105469, 86.83000183105469], \"yaxis\": \"y\"}, {\"line\": {\"color\": \"rgba(100, 10, 100, 0.2)\", \"dash\": \"dash\", \"shape\": \"linear\", \"width\": 1}, \"mode\": \"lines+text\", \"name\": \"Lines and Text\", \"showlegend\": false, \"text\": [\"\", \"$83.8 (3.6% disc:9.4%)\", \"\"], \"textposition\": \"top right\", \"type\": \"scatter\", \"x\": [\"2020-08-07T00:00:00\", \"2022-01-18T00:00:00\"], \"xaxis\": \"x\", \"y\": [83.80999755859375, 83.80999755859375], \"yaxis\": \"y\"}, {\"line\": {\"color\": \"rgba(100, 10, 100, 0.2)\", \"dash\": \"dash\", \"shape\": \"linear\", \"width\": 1}, \"mode\": \"lines+text\", \"name\": \"Lines and Text\", \"showlegend\": false, \"text\": [\"\", \"$78.0 (7.5% disc:17.6%)\", \"\"], \"textposition\": \"top right\", \"type\": \"scatter\", \"x\": [\"2020-08-07T00:00:00\", \"2022-01-18T00:00:00\"], \"xaxis\": \"x\", \"y\": [77.96499633789062, 77.96499633789062], \"yaxis\": \"y\"}, {\"line\": {\"color\": \"rgba(100, 10, 100, 0.2)\", \"dash\": \"dash\", \"shape\": \"linear\", \"width\": 1}, \"mode\": \"lines+text\", \"name\": \"Lines and Text\", \"showlegend\": false, \"text\": [\"\", \"$74.9 (4.1% disc:22.4%)\", \"\"], \"textposition\": \"top right\", \"type\": \"scatter\", \"x\": [\"2020-08-07T00:00:00\", \"2022-01-18T00:00:00\"], \"xaxis\": \"x\", \"y\": [74.91500091552734, 74.91500091552734], \"yaxis\": \"y\"}, {\"line\": {\"color\": \"rgba(100, 10, 100, 0.2)\", \"dash\": \"dash\", \"shape\": \"linear\", \"width\": 1}, \"mode\": \"lines+text\", \"name\": \"Lines and Text\", \"showlegend\": false, \"text\": [\"\", \"$71.3 (5.1% disc:28.6%)\", \"\"], \"textposition\": \"top right\", \"type\": \"scatter\", \"x\": [\"2020-08-07T00:00:00\", \"2022-01-18T00:00:00\"], \"xaxis\": \"x\", \"y\": [71.28500366210938, 71.28500366210938], \"yaxis\": \"y\"}, {\"line\": {\"color\": \"rgba(100, 10, 100, 0.2)\", \"dash\": \"dash\", \"shape\": \"linear\", \"width\": 1}, \"mode\": \"lines+text\", \"name\": \"Lines and Text\", \"showlegend\": false, \"text\": [\"\", \"$68.8 (3.6% disc:33.3%)\", \"\"], \"textposition\": \"top right\", \"type\": \"scatter\", \"x\": [\"2020-08-07T00:00:00\", \"2022-01-18T00:00:00\"], \"xaxis\": \"x\", \"y\": [68.78500366210938, 68.78500366210938], \"yaxis\": \"y\"}, {\"fill\": \"tonexty\", \"line\": {\"color\": \"rgba(128,128,128,1)\", \"dash\": \"dash\", \"shape\": \"linear\", \"width\": 1}, \"mode\": \"lines+text\", \"name\": \"Lines and Text\", \"showlegend\": false, \"text\": [\"\", \"$67.0 (2.6% disc:36.8%)\", \"\"], \"textposition\": \"top right\", \"type\": \"scatter\", \"x\": [\"2020-08-07T00:00:00\", \"2022-01-18T00:00:00\"], \"xaxis\": \"x\", \"y\": [67.04000091552734, 67.04000091552734], \"yaxis\": \"y\"}, {\"fill\": \"tonexty\", \"line\": {\"color\": \"rgba(128,128,128,1)\", \"dash\": \"dash\", \"shape\": \"linear\", \"width\": 1}, \"mode\": \"lines+text\", \"name\": \"Lines and Text\", \"showlegend\": false, \"text\": [\"\", \"$63.7 (5.2% disc:43.9%)\", \"\"], \"textposition\": \"top right\", \"type\": \"scatter\", \"x\": [\"2020-08-07T00:00:00\", \"2022-01-18T00:00:00\"], \"xaxis\": \"x\", \"y\": [63.724998474121094, 63.724998474121094], \"yaxis\": \"y\"}, {\"line\": {\"color\": \"rgba(100, 10, 100, 0.2)\", \"dash\": \"dash\", \"shape\": \"linear\", \"width\": 1}, \"mode\": \"lines+text\", \"name\": \"Lines and Text\", \"showlegend\": false, \"text\": [\"\", \"$61.3 (3.9% disc:49.5%)\", \"\"], \"textposition\": \"top right\", \"type\": \"scatter\", \"x\": [\"2020-08-07T00:00:00\", \"2022-01-18T00:00:00\"], \"xaxis\": \"x\", \"y\": [61.30500030517578, 61.30500030517578], \"yaxis\": \"y\"}, {\"line\": {\"color\": \"rgba(100, 10, 100, 0.2)\", \"dash\": \"dash\", \"shape\": \"linear\", \"width\": 1}, \"mode\": \"lines+text\", \"name\": \"Lines and Text\", \"showlegend\": false, \"text\": [\"\", \"$59.8 (2.5% disc:53.2%)\", \"\"], \"textposition\": \"top right\", \"type\": \"scatter\", \"x\": [\"2020-08-07T00:00:00\", \"2022-01-18T00:00:00\"], \"xaxis\": \"x\", \"y\": [59.834999084472656, 59.834999084472656], \"yaxis\": \"y\"}, {\"line\": {\"color\": \"rgba(100, 10, 100, 0.2)\", \"dash\": \"dash\", \"shape\": \"linear\", \"width\": 1}, \"mode\": \"lines+text\", \"name\": \"Lines and Text\", \"showlegend\": false, \"text\": [\"\", \"$55.9 (7.0% disc:63.9%)\", \"\"], \"textposition\": \"top right\", \"type\": \"scatter\", \"x\": [\"2020-08-07T00:00:00\", \"2022-01-18T00:00:00\"], \"xaxis\": \"x\", \"y\": [55.93000030517578, 55.93000030517578], \"yaxis\": \"y\"}, {\"line\": {\"color\": \"rgba(100, 10, 100, 0.2)\", \"dash\": \"dash\", \"shape\": \"linear\", \"width\": 1}, \"mode\": \"lines+text\", \"name\": \"Lines and Text\", \"showlegend\": false, \"text\": [\"\", \"$52.0 (7.6% disc:76.4%)\", \"\"], \"textposition\": \"top right\", \"type\": \"scatter\", \"x\": [\"2020-08-07T00:00:00\", \"2022-01-18T00:00:00\"], \"xaxis\": \"x\", \"y\": [51.970001220703125, 51.970001220703125], \"yaxis\": \"y\"}, {\"line\": {\"color\": \"rgba(100, 10, 100, 0.2)\", \"dash\": \"dash\", \"shape\": \"linear\", \"width\": 1}, \"mode\": \"lines+text\", \"name\": \"Lines and Text\", \"showlegend\": false, \"text\": [\"\", \"$47.7 (8.9% disc:92.1%)\", \"\"], \"textposition\": \"top right\", \"type\": \"scatter\", \"x\": [\"2020-08-07T00:00:00\", \"2022-01-18T00:00:00\"], \"xaxis\": \"x\", \"y\": [47.720001220703125, 47.720001220703125], \"yaxis\": \"y\"}, {\"line\": {\"color\": \"rgba(100, 10, 100, 0.2)\", \"dash\": \"dash\", \"shape\": \"linear\", \"width\": 1}, \"mode\": \"lines+text\", \"name\": \"Lines and Text\", \"showlegend\": false, \"text\": [\"\", \"$45.8 (4.1% disc:100.0%)\", \"\"], \"textposition\": \"top right\", \"type\": \"scatter\", \"x\": [\"2020-08-07T00:00:00\", \"2022-01-18T00:00:00\"], \"xaxis\": \"x\", \"y\": [45.849998474121094, 45.849998474121094], \"yaxis\": \"y\"}, {\"line\": {\"color\": \"rgba(100, 10, 100, 0.2)\", \"dash\": \"dash\", \"shape\": \"linear\", \"width\": 1}, \"mode\": \"lines+text\", \"name\": \"Lines and Text\", \"showlegend\": false, \"text\": [\"\", \"$43.9 (4.4% disc:108.8%)\", \"\"], \"textposition\": \"top right\", \"type\": \"scatter\", \"x\": [\"2020-08-07T00:00:00\", \"2022-01-18T00:00:00\"], \"xaxis\": \"x\", \"y\": [43.91749954223633, 43.91749954223633], \"yaxis\": \"y\"}, {\"line\": {\"color\": \"rgba(100, 10, 100, 0.2)\", \"dash\": \"dash\", \"shape\": \"linear\", \"width\": 1}, \"mode\": \"lines+text\", \"name\": \"Lines and Text\", \"showlegend\": false, \"text\": [\"\", \"$41.2 (6.7% disc:122.7%)\", \"\"], \"textposition\": \"top right\", \"type\": \"scatter\", \"x\": [\"2020-08-07T00:00:00\", \"2022-01-18T00:00:00\"], \"xaxis\": \"x\", \"y\": [41.16999816894531, 41.16999816894531], \"yaxis\": \"y\"}, {\"line\": {\"color\": \"rgba(100, 10, 100, 0.2)\", \"dash\": \"dash\", \"shape\": \"linear\", \"width\": 1}, \"mode\": \"lines+text\", \"name\": \"Lines and Text\", \"showlegend\": false, \"text\": [\"\", \"$39.7 (3.7% disc:131.0%)\", \"\"], \"textposition\": \"top right\", \"type\": \"scatter\", \"x\": [\"2020-08-07T00:00:00\", \"2022-01-18T00:00:00\"], \"xaxis\": \"x\", \"y\": [39.682498931884766, 39.682498931884766], \"yaxis\": \"y\"}, {\"line\": {\"color\": \"rgba(100, 10, 100, 0.2)\", \"dash\": \"dash\", \"shape\": \"linear\", \"width\": 1}, \"mode\": \"lines+text\", \"name\": \"Lines and Text\", \"showlegend\": false, \"text\": [\"\", \"$37.3 (6.3% disc:145.5%)\", \"\"], \"textposition\": \"top right\", \"type\": \"scatter\", \"x\": [\"2020-08-07T00:00:00\", \"2022-01-18T00:00:00\"], \"xaxis\": \"x\", \"y\": [37.34000015258789, 37.34000015258789], \"yaxis\": \"y\"}, {\"line\": {\"color\": \"rgba(100, 10, 100, 0.2)\", \"dash\": \"dash\", \"shape\": \"linear\", \"width\": 1}, \"mode\": \"lines+text\", \"name\": \"Lines and Text\", \"showlegend\": false, \"text\": [\"\", \"$33.0 (13.2% disc:178.0%)\", \"\"], \"textposition\": \"top right\", \"type\": \"scatter\", \"x\": [\"2020-08-07T00:00:00\", \"2022-01-18T00:00:00\"], \"xaxis\": \"x\", \"y\": [32.98249816894531, 32.98249816894531], \"yaxis\": \"y\"}, {\"line\": {\"color\": \"rgba(100, 10, 100, 0.2)\", \"dash\": \"dash\", \"shape\": \"linear\", \"width\": 1}, \"mode\": \"lines+text\", \"name\": \"Lines and Text\", \"showlegend\": false, \"text\": [\"\", \"$29.7 (11.1% disc:208.7%)\", \"\"], \"textposition\": \"top right\", \"type\": \"scatter\", \"x\": [\"2020-08-07T00:00:00\", \"2022-01-18T00:00:00\"], \"xaxis\": \"x\", \"y\": [29.700000762939453, 29.700000762939453], \"yaxis\": \"y\"}, {\"line\": {\"color\": \"rgba(100, 10, 100, 0.2)\", \"dash\": \"dash\", \"shape\": \"linear\", \"width\": 1}, \"mode\": \"lines+text\", \"name\": \"Lines and Text\", \"showlegend\": false, \"text\": [\"\", \"$27.3 (8.8% disc:235.9%)\", \"\"], \"textposition\": \"top right\", \"type\": \"scatter\", \"x\": [\"2020-08-07T00:00:00\", \"2022-01-18T00:00:00\"], \"xaxis\": \"x\", \"y\": [27.292499542236328, 27.292499542236328], \"yaxis\": \"y\"}, {\"line\": {\"color\": \"rgba(100, 10, 100, 0.2)\", \"dash\": \"dash\", \"shape\": \"linear\", \"width\": 1}, \"mode\": \"lines+text\", \"name\": \"Lines and Text\", \"showlegend\": false, \"text\": [\"\", \"$24.8 (10.0% disc:269.6%)\", \"\"], \"textposition\": \"top right\", \"type\": \"scatter\", \"x\": [\"2020-08-07T00:00:00\", \"2022-01-18T00:00:00\"], \"xaxis\": \"x\", \"y\": [24.80500030517578, 24.80500030517578], \"yaxis\": \"y\"}, {\"line\": {\"color\": \"rgba(100, 10, 100, 0.2)\", \"dash\": \"dash\", \"shape\": \"linear\", \"width\": 1}, \"mode\": \"lines+text\", \"name\": \"Lines and Text\", \"showlegend\": false, \"text\": [\"\", \"$22.3 (11.4% disc:311.8%)\", \"\"], \"textposition\": \"top right\", \"type\": \"scatter\", \"x\": [\"2020-08-07T00:00:00\", \"2022-01-18T00:00:00\"], \"xaxis\": \"x\", \"y\": [22.264999389648438, 22.264999389648438], \"yaxis\": \"y\"}, {\"line\": {\"color\": \"rgba(100, 10, 100, 0.2)\", \"dash\": \"dash\", \"shape\": \"linear\", \"width\": 1}, \"mode\": \"lines+text\", \"name\": \"Lines and Text\", \"showlegend\": false, \"text\": [\"\", \"$19.7 (13.0% disc:365.3%)\", \"\"], \"textposition\": \"top right\", \"type\": \"scatter\", \"x\": [\"2020-08-07T00:00:00\", \"2022-01-18T00:00:00\"], \"xaxis\": \"x\", \"y\": [19.704999923706055, 19.704999923706055], \"yaxis\": \"y\"}, {\"line\": {\"color\": \"rgba(100, 10, 100, 0.2)\", \"dash\": \"dash\", \"shape\": \"linear\", \"width\": 1}, \"mode\": \"lines+text\", \"name\": \"Lines and Text\", \"showlegend\": false, \"text\": [\"\", \"$18.3 (7.4% disc:399.9%)\", \"\"], \"textposition\": \"top right\", \"type\": \"scatter\", \"x\": [\"2020-08-07T00:00:00\", \"2022-01-18T00:00:00\"], \"xaxis\": \"x\", \"y\": [18.34000015258789, 18.34000015258789], \"yaxis\": \"y\"}, {\"line\": {\"color\": \"rgba(100, 10, 100, 0.2)\", \"dash\": \"dash\", \"shape\": \"linear\", \"width\": 1}, \"mode\": \"lines+text\", \"name\": \"Lines and Text\", \"showlegend\": false, \"text\": [\"\", \"$16.6 (10.5% disc:452.3%)\", \"\"], \"textposition\": \"top right\", \"type\": \"scatter\", \"x\": [\"2020-08-07T00:00:00\", \"2022-01-18T00:00:00\"], \"xaxis\": \"x\", \"y\": [16.600000381469727, 16.600000381469727], \"yaxis\": \"y\"}, {\"line\": {\"color\": \"rgba(100, 10, 100, 0.2)\", \"dash\": \"dash\", \"shape\": \"linear\", \"width\": 1}, \"mode\": \"lines+text\", \"name\": \"Lines and Text\", \"showlegend\": false, \"text\": [\"\", \"$14.8 (12.4% disc:520.9%)\", \"\"], \"textposition\": \"top right\", \"type\": \"scatter\", \"x\": [\"2020-08-07T00:00:00\", \"2022-01-18T00:00:00\"], \"xaxis\": \"x\", \"y\": [14.765832901000977, 14.765832901000977], \"yaxis\": \"y\"}, {\"line\": {\"color\": \"rgba(100, 10, 100, 0.2)\", \"dash\": \"dash\", \"shape\": \"linear\", \"width\": 1}, \"mode\": \"lines+text\", \"name\": \"Lines and Text\", \"showlegend\": false, \"text\": [\"\", \"$12.6 (17.5% disc:629.6%)\", \"\"], \"textposition\": \"top right\", \"type\": \"scatter\", \"x\": [\"2020-08-07T00:00:00\", \"2022-01-18T00:00:00\"], \"xaxis\": \"x\", \"y\": [12.5649995803833, 12.5649995803833], \"yaxis\": \"y\"}, {\"line\": {\"color\": \"rgba(100, 10, 100, 0.2)\", \"dash\": \"dash\", \"shape\": \"linear\", \"width\": 1}, \"mode\": \"lines+text\", \"name\": \"Lines and Text\", \"showlegend\": false, \"text\": [\"\", \"$10.1 (24.4% disc:807.7%)\", \"\"], \"textposition\": \"top right\", \"type\": \"scatter\", \"x\": [\"2020-08-07T00:00:00\", \"2022-01-18T00:00:00\"], \"xaxis\": \"x\", \"y\": [10.100000381469727, 10.100000381469727], \"yaxis\": \"y\"}, {\"line\": {\"color\": \"rgba(100, 10, 100, 0.2)\", \"dash\": \"dash\", \"shape\": \"linear\", \"width\": 1}, \"mode\": \"lines+text\", \"name\": \"Lines and Text\", \"showlegend\": false, \"text\": [\"\", \"$7.6 (33.2% disc:1109.5%)\", \"\"], \"textposition\": \"top right\", \"type\": \"scatter\", \"x\": [\"2020-08-07T00:00:00\", \"2022-01-18T00:00:00\"], \"xaxis\": \"x\", \"y\": [7.579999923706055, 7.579999923706055], \"yaxis\": \"y\"}, {\"line\": {\"color\": \"rgba(100, 10, 100, 0.2)\", \"dash\": \"dash\", \"shape\": \"linear\", \"width\": 1}, \"mode\": \"lines+text\", \"name\": \"Lines and Text\", \"showlegend\": false, \"text\": [\"\", \"$0 (inf% disc:inf%)\", \"\"], \"textposition\": \"top right\", \"type\": \"scatter\", \"x\": [\"2020-08-07T00:00:00\", \"2022-01-18T00:00:00\"], \"xaxis\": \"x\", \"y\": [0, 0], \"yaxis\": \"y\"}, {\"marker\": {\"color\": [\"green\", \"green\", \"green\", \"red\", \"green\", \"green\", \"red\", \"red\", \"green\", \"red\", \"red\", \"green\", \"red\", \"red\", \"green\", \"red\", \"red\", \"red\", \"green\", \"green\", \"green\", \"green\", \"red\", \"green\", \"green\", \"red\", \"red\", \"green\", \"red\", \"green\", \"red\", \"red\", \"green\", \"red\", \"red\", \"red\", \"green\", \"red\", \"red\", \"green\", \"red\", \"green\", \"red\", \"green\", \"red\", \"red\", \"green\", \"green\", \"red\", \"green\", \"green\", \"green\", \"green\", \"green\", \"green\", \"green\", \"red\", \"green\", \"red\", \"green\", \"green\", \"red\", \"red\", \"red\", \"red\", \"green\", \"green\", \"red\", \"green\", \"red\", \"red\", \"green\", \"green\", \"red\", \"green\", \"green\", \"red\", \"red\", \"red\", \"red\", \"red\", \"red\", \"red\", \"red\", \"red\", \"red\", \"green\", \"red\", \"red\", \"red\", \"red\", \"red\", \"red\", \"green\", \"red\", \"green\", \"green\", \"red\", \"red\", \"green\", \"green\", \"red\", \"green\", \"red\", \"red\", \"red\", \"red\", \"green\", \"green\", \"red\", \"green\", \"green\", \"red\", \"red\", \"red\", \"red\", \"green\", \"green\", \"green\", \"red\", \"green\", \"red\", \"red\", \"green\", \"red\", \"red\", \"red\", \"red\", \"green\", \"red\", \"red\", \"green\", \"red\", \"red\", \"green\", \"green\", \"red\", \"red\", \"green\", \"green\", \"red\", \"green\", \"green\", \"green\", \"red\", \"green\", \"red\", \"green\", \"red\", \"red\", \"red\", \"green\", \"red\", \"green\", \"red\", \"red\", \"green\", \"green\", \"red\", \"red\", \"red\", \"red\", \"red\", \"red\", \"red\", \"red\", \"red\", \"red\", \"red\", \"red\", \"red\", \"green\", \"red\", \"green\", \"green\", \"green\", \"red\", \"green\", \"red\", \"red\", \"green\", \"green\", \"green\", \"red\", \"green\", \"green\", \"green\", \"red\", \"green\", \"green\", \"red\", \"green\", \"green\", \"red\", \"green\", \"green\", \"red\", \"red\", \"green\", \"red\", \"green\", \"red\", \"green\", \"green\", \"green\", \"red\", \"green\", \"red\", \"red\", \"green\", \"green\", \"red\", \"red\", \"red\", \"green\", \"green\", \"red\", \"green\", \"red\", \"red\", \"red\", \"red\", \"green\", \"red\", \"red\", \"green\", \"red\", \"red\", \"red\", \"green\", \"red\", \"red\", \"green\", \"red\", \"green\", \"green\", \"green\", \"red\", \"red\", \"red\", \"red\", \"red\", \"red\", \"green\", \"red\", \"red\", \"red\", \"green\", \"red\", \"red\", \"red\", \"green\", \"red\", \"green\", \"green\", \"red\", \"red\", \"red\", \"green\", \"green\", \"red\", \"red\", \"red\", \"red\", \"green\", \"green\", \"red\", \"red\", \"green\", \"green\", \"green\", \"red\", \"red\", \"green\", \"green\", \"green\", \"green\", \"green\", \"red\", \"red\", \"green\", \"green\", \"green\", \"red\", \"red\", \"red\", \"red\", \"green\", \"green\", \"green\", \"red\", \"green\", \"red\", \"red\", \"red\", \"green\", \"green\", \"green\", \"red\", \"red\", \"red\", \"red\", \"red\", \"green\", \"red\", \"green\", \"red\", \"green\", \"red\", \"red\", \"red\", \"red\", \"red\", \"red\", \"red\", \"green\", \"green\", \"green\", \"green\", \"green\", \"red\", \"green\", \"red\", \"green\", \"red\", \"red\", \"green\", \"green\", \"red\", \"green\", \"red\", \"green\", \"green\", \"red\", \"green\", \"red\", \"red\", \"red\", \"green\", \"red\", \"green\", \"red\", \"red\", \"green\", \"red\", \"red\", \"red\", \"red\", \"red\", \"red\", \"green\", \"green\", \"green\", \"green\", \"red\", \"green\", \"green\", \"red\", \"green\", \"red\", \"red\", \"green\", \"green\", \"red\", \"green\"]}, \"name\": \"Volume\", \"type\": \"bar\", \"x\": [\"2020-08-07T00:00:00\", \"2020-08-10T00:00:00\", \"2020-08-11T00:00:00\", \"2020-08-12T00:00:00\", \"2020-08-13T00:00:00\", \"2020-08-14T00:00:00\", \"2020-08-17T00:00:00\", \"2020-08-18T00:00:00\", \"2020-08-19T00:00:00\", \"2020-08-20T00:00:00\", \"2020-08-21T00:00:00\", \"2020-08-24T00:00:00\", \"2020-08-25T00:00:00\", \"2020-08-26T00:00:00\", \"2020-08-27T00:00:00\", \"2020-08-28T00:00:00\", \"2020-08-31T00:00:00\", \"2020-09-01T00:00:00\", \"2020-09-02T00:00:00\", \"2020-09-03T00:00:00\", \"2020-09-04T00:00:00\", \"2020-09-08T00:00:00\", \"2020-09-09T00:00:00\", \"2020-09-10T00:00:00\", \"2020-09-11T00:00:00\", \"2020-09-14T00:00:00\", \"2020-09-15T00:00:00\", \"2020-09-16T00:00:00\", \"2020-09-17T00:00:00\", \"2020-09-18T00:00:00\", \"2020-09-21T00:00:00\", \"2020-09-22T00:00:00\", \"2020-09-23T00:00:00\", \"2020-09-24T00:00:00\", \"2020-09-25T00:00:00\", \"2020-09-28T00:00:00\", \"2020-09-29T00:00:00\", \"2020-09-30T00:00:00\", \"2020-10-01T00:00:00\", \"2020-10-02T00:00:00\", \"2020-10-05T00:00:00\", \"2020-10-06T00:00:00\", \"2020-10-07T00:00:00\", \"2020-10-08T00:00:00\", \"2020-10-09T00:00:00\", \"2020-10-12T00:00:00\", \"2020-10-13T00:00:00\", \"2020-10-14T00:00:00\", \"2020-10-15T00:00:00\", \"2020-10-16T00:00:00\", \"2020-10-19T00:00:00\", \"2020-10-20T00:00:00\", \"2020-10-21T00:00:00\", \"2020-10-22T00:00:00\", \"2020-10-23T00:00:00\", \"2020-10-26T00:00:00\", \"2020-10-27T00:00:00\", \"2020-10-28T00:00:00\", \"2020-10-29T00:00:00\", \"2020-10-30T00:00:00\", \"2020-11-02T00:00:00\", \"2020-11-03T00:00:00\", \"2020-11-04T00:00:00\", \"2020-11-05T00:00:00\", \"2020-11-06T00:00:00\", \"2020-11-09T00:00:00\", \"2020-11-10T00:00:00\", \"2020-11-11T00:00:00\", \"2020-11-12T00:00:00\", \"2020-11-13T00:00:00\", \"2020-11-16T00:00:00\", \"2020-11-17T00:00:00\", \"2020-11-18T00:00:00\", \"2020-11-19T00:00:00\", \"2020-11-20T00:00:00\", \"2020-11-23T00:00:00\", \"2020-11-24T00:00:00\", \"2020-11-25T00:00:00\", \"2020-11-27T00:00:00\", \"2020-11-30T00:00:00\", \"2020-12-01T00:00:00\", \"2020-12-02T00:00:00\", \"2020-12-03T00:00:00\", \"2020-12-04T00:00:00\", \"2020-12-07T00:00:00\", \"2020-12-08T00:00:00\", \"2020-12-09T00:00:00\", \"2020-12-10T00:00:00\", \"2020-12-11T00:00:00\", \"2020-12-14T00:00:00\", \"2020-12-15T00:00:00\", \"2020-12-16T00:00:00\", \"2020-12-17T00:00:00\", \"2020-12-18T00:00:00\", \"2020-12-21T00:00:00\", \"2020-12-22T00:00:00\", \"2020-12-23T00:00:00\", \"2020-12-24T00:00:00\", \"2020-12-28T00:00:00\", \"2020-12-29T00:00:00\", \"2020-12-30T00:00:00\", \"2020-12-31T00:00:00\", \"2021-01-04T00:00:00\", \"2021-01-05T00:00:00\", \"2021-01-06T00:00:00\", \"2021-01-07T00:00:00\", \"2021-01-08T00:00:00\", \"2021-01-11T00:00:00\", \"2021-01-12T00:00:00\", \"2021-01-13T00:00:00\", \"2021-01-14T00:00:00\", \"2021-01-15T00:00:00\", \"2021-01-19T00:00:00\", \"2021-01-20T00:00:00\", \"2021-01-21T00:00:00\", \"2021-01-22T00:00:00\", \"2021-01-25T00:00:00\", \"2021-01-26T00:00:00\", \"2021-01-27T00:00:00\", \"2021-01-28T00:00:00\", \"2021-01-29T00:00:00\", \"2021-02-01T00:00:00\", \"2021-02-02T00:00:00\", \"2021-02-03T00:00:00\", \"2021-02-04T00:00:00\", \"2021-02-05T00:00:00\", \"2021-02-08T00:00:00\", \"2021-02-09T00:00:00\", \"2021-02-10T00:00:00\", \"2021-02-11T00:00:00\", \"2021-02-12T00:00:00\", \"2021-02-16T00:00:00\", \"2021-02-17T00:00:00\", \"2021-02-18T00:00:00\", \"2021-02-19T00:00:00\", \"2021-02-22T00:00:00\", \"2021-02-23T00:00:00\", \"2021-02-24T00:00:00\", \"2021-02-25T00:00:00\", \"2021-02-26T00:00:00\", \"2021-03-01T00:00:00\", \"2021-03-02T00:00:00\", \"2021-03-03T00:00:00\", \"2021-03-04T00:00:00\", \"2021-03-05T00:00:00\", \"2021-03-08T00:00:00\", \"2021-03-09T00:00:00\", \"2021-03-10T00:00:00\", \"2021-03-11T00:00:00\", \"2021-03-12T00:00:00\", \"2021-03-15T00:00:00\", \"2021-03-16T00:00:00\", \"2021-03-17T00:00:00\", \"2021-03-18T00:00:00\", \"2021-03-19T00:00:00\", \"2021-03-22T00:00:00\", \"2021-03-23T00:00:00\", \"2021-03-24T00:00:00\", \"2021-03-25T00:00:00\", \"2021-03-26T00:00:00\", \"2021-03-29T00:00:00\", \"2021-03-30T00:00:00\", \"2021-03-31T00:00:00\", \"2021-04-01T00:00:00\", \"2021-04-05T00:00:00\", \"2021-04-06T00:00:00\", \"2021-04-07T00:00:00\", \"2021-04-08T00:00:00\", \"2021-04-09T00:00:00\", \"2021-04-12T00:00:00\", \"2021-04-13T00:00:00\", \"2021-04-14T00:00:00\", \"2021-04-15T00:00:00\", \"2021-04-16T00:00:00\", \"2021-04-19T00:00:00\", \"2021-04-20T00:00:00\", \"2021-04-21T00:00:00\", \"2021-04-22T00:00:00\", \"2021-04-23T00:00:00\", \"2021-04-26T00:00:00\", \"2021-04-27T00:00:00\", \"2021-04-28T00:00:00\", \"2021-04-29T00:00:00\", \"2021-04-30T00:00:00\", \"2021-05-03T00:00:00\", \"2021-05-04T00:00:00\", \"2021-05-05T00:00:00\", \"2021-05-06T00:00:00\", \"2021-05-07T00:00:00\", \"2021-05-10T00:00:00\", \"2021-05-11T00:00:00\", \"2021-05-12T00:00:00\", \"2021-05-13T00:00:00\", \"2021-05-14T00:00:00\", \"2021-05-17T00:00:00\", \"2021-05-18T00:00:00\", \"2021-05-19T00:00:00\", \"2021-05-20T00:00:00\", \"2021-05-21T00:00:00\", \"2021-05-24T00:00:00\", \"2021-05-25T00:00:00\", \"2021-05-26T00:00:00\", \"2021-05-27T00:00:00\", \"2021-05-28T00:00:00\", \"2021-06-01T00:00:00\", \"2021-06-02T00:00:00\", \"2021-06-03T00:00:00\", \"2021-06-04T00:00:00\", \"2021-06-07T00:00:00\", \"2021-06-08T00:00:00\", \"2021-06-09T00:00:00\", \"2021-06-10T00:00:00\", \"2021-06-11T00:00:00\", \"2021-06-14T00:00:00\", \"2021-06-15T00:00:00\", \"2021-06-16T00:00:00\", \"2021-06-17T00:00:00\", \"2021-06-18T00:00:00\", \"2021-06-21T00:00:00\", \"2021-06-22T00:00:00\", \"2021-06-23T00:00:00\", \"2021-06-24T00:00:00\", \"2021-06-25T00:00:00\", \"2021-06-28T00:00:00\", \"2021-06-29T00:00:00\", \"2021-06-30T00:00:00\", \"2021-07-01T00:00:00\", \"2021-07-02T00:00:00\", \"2021-07-06T00:00:00\", \"2021-07-07T00:00:00\", \"2021-07-08T00:00:00\", \"2021-07-09T00:00:00\", \"2021-07-12T00:00:00\", \"2021-07-13T00:00:00\", \"2021-07-14T00:00:00\", \"2021-07-15T00:00:00\", \"2021-07-16T00:00:00\", \"2021-07-19T00:00:00\", \"2021-07-20T00:00:00\", \"2021-07-21T00:00:00\", \"2021-07-22T00:00:00\", \"2021-07-23T00:00:00\", \"2021-07-26T00:00:00\", \"2021-07-27T00:00:00\", \"2021-07-28T00:00:00\", \"2021-07-29T00:00:00\", \"2021-07-30T00:00:00\", \"2021-08-02T00:00:00\", \"2021-08-03T00:00:00\", \"2021-08-04T00:00:00\", \"2021-08-05T00:00:00\", \"2021-08-06T00:00:00\", \"2021-08-09T00:00:00\", \"2021-08-10T00:00:00\", \"2021-08-11T00:00:00\", \"2021-08-12T00:00:00\", \"2021-08-13T00:00:00\", \"2021-08-16T00:00:00\", \"2021-08-17T00:00:00\", \"2021-08-18T00:00:00\", \"2021-08-19T00:00:00\", \"2021-08-20T00:00:00\", \"2021-08-23T00:00:00\", \"2021-08-24T00:00:00\", \"2021-08-25T00:00:00\", \"2021-08-26T00:00:00\", \"2021-08-27T00:00:00\", \"2021-08-30T00:00:00\", \"2021-08-31T00:00:00\", \"2021-09-01T00:00:00\", \"2021-09-02T00:00:00\", \"2021-09-03T00:00:00\", \"2021-09-07T00:00:00\", \"2021-09-08T00:00:00\", \"2021-09-09T00:00:00\", \"2021-09-10T00:00:00\", \"2021-09-13T00:00:00\", \"2021-09-14T00:00:00\", \"2021-09-15T00:00:00\", \"2021-09-16T00:00:00\", \"2021-09-17T00:00:00\", \"2021-09-20T00:00:00\", \"2021-09-21T00:00:00\", \"2021-09-22T00:00:00\", \"2021-09-23T00:00:00\", \"2021-09-24T00:00:00\", \"2021-09-27T00:00:00\", \"2021-09-28T00:00:00\", \"2021-09-29T00:00:00\", \"2021-09-30T00:00:00\", \"2021-10-01T00:00:00\", \"2021-10-04T00:00:00\", \"2021-10-05T00:00:00\", \"2021-10-06T00:00:00\", \"2021-10-07T00:00:00\", \"2021-10-08T00:00:00\", \"2021-10-11T00:00:00\", \"2021-10-12T00:00:00\", \"2021-10-13T00:00:00\", \"2021-10-14T00:00:00\", \"2021-10-15T00:00:00\", \"2021-10-18T00:00:00\", \"2021-10-19T00:00:00\", \"2021-10-20T00:00:00\", \"2021-10-21T00:00:00\", \"2021-10-22T00:00:00\", \"2021-10-25T00:00:00\", \"2021-10-26T00:00:00\", \"2021-10-27T00:00:00\", \"2021-10-28T00:00:00\", \"2021-10-29T00:00:00\", \"2021-11-01T00:00:00\", \"2021-11-02T00:00:00\", \"2021-11-03T00:00:00\", \"2021-11-04T00:00:00\", \"2021-11-05T00:00:00\", \"2021-11-08T00:00:00\", \"2021-11-09T00:00:00\", \"2021-11-10T00:00:00\", \"2021-11-11T00:00:00\", \"2021-11-12T00:00:00\", \"2021-11-15T00:00:00\", \"2021-11-16T00:00:00\", \"2021-11-17T00:00:00\", \"2021-11-18T00:00:00\", \"2021-11-19T00:00:00\", \"2021-11-22T00:00:00\", \"2021-11-23T00:00:00\", \"2021-11-24T00:00:00\", \"2021-11-26T00:00:00\", \"2021-11-29T00:00:00\", \"2021-11-30T00:00:00\", \"2021-12-01T00:00:00\", \"2021-12-02T00:00:00\", \"2021-12-03T00:00:00\", \"2021-12-06T00:00:00\", \"2021-12-07T00:00:00\", \"2021-12-08T00:00:00\", \"2021-12-09T00:00:00\", \"2021-12-10T00:00:00\", \"2021-12-13T00:00:00\", \"2021-12-14T00:00:00\", \"2021-12-15T00:00:00\", \"2021-12-16T00:00:00\", \"2021-12-17T00:00:00\", \"2021-12-20T00:00:00\", \"2021-12-21T00:00:00\", \"2021-12-22T00:00:00\", \"2021-12-23T00:00:00\", \"2021-12-27T00:00:00\", \"2021-12-28T00:00:00\", \"2021-12-29T00:00:00\", \"2021-12-30T00:00:00\", \"2021-12-31T00:00:00\", \"2022-01-03T00:00:00\", \"2022-01-04T00:00:00\", \"2022-01-05T00:00:00\", \"2022-01-06T00:00:00\", \"2022-01-07T00:00:00\", \"2022-01-10T00:00:00\", \"2022-01-11T00:00:00\", \"2022-01-12T00:00:00\", \"2022-01-13T00:00:00\", \"2022-01-14T00:00:00\", \"2022-01-18T00:00:00\"], \"xaxis\": \"x2\", \"y\": [148354000, 127155600, 155136800, 110623600, 117140800, 99868800, 63332400, 74656800, 102923600, 76387200, 82140000, 125692000, 86278400, 109831600, 151301200, 99072800, 90199200, 96573600, 144684800, 221512400, 280740400, 213412400, 145176000, 232968400, 192898800, 134516400, 150444800, 153070800, 223422400, 231521200, 187657200, 157533200, 202753600, 187518000, 162239200, 136665600, 110902800, 169384000, 139338000, 199776800, 105395200, 172824400, 112544400, 98946800, 97635600, 147058400, 141930800, 148294800, 124538400, 114048400, 138777600, 137355200, 121286400, 119581600, 95544000, 158556800, 111930000, 184720000, 138187200, 230811200, 151136000, 134969200, 169187600, 150132400, 135151200, 165865600, 168666800, 126830800, 143343600, 104747600, 106874400, 91352000, 77170800, 79670800, 64996800, 89530400, 78007600, 64338800, 46463600, 92311200, 84994800, 73064800, 78730800, 63544000, 62014000, 66962800, 122439200, 86673200, 84909600, 73342400, 78708800, 68795200, 69637600, 84378000, 101798400, 80165200, 59717200, 38532800, 58526400, 60571200, 52403600, 53354000, 98736000, 59356400, 105365200, 61847600, 76407600, 70162800, 73015600, 54375200, 59118000, 70846000, 60483600, 60868000, 46084200, 40939400, 76585200, 45484400, 94450400, 45010800, 92139200, 52829800, 46373200, 47586000, 36404400, 43307600, 38497400, 32884400, 61774000, 49430000, 38735800, 44331800, 52993400, 55101000, 46688600, 66367400, 99637400, 61521000, 118896000, 104659200, 66853600, 75846600, 115771200, 216018600, 168328200, 117865800, 86714600, 101685600, 79467800, 83295000, 63350800, 84385200, 98185400, 114126800, 96643200, 70550600, 93890400, 95241800, 119937200, 107530200, 95294600, 74174800, 80984400, 72543600, 65269800, 60303400, 49493600, 56809600, 64719200, 54816000, 57511000, 80613800, 60399000, 58744000, 79584000, 79141800, 55528600, 87424200, 53843000, 49988400, 59656400, 59475000, 74062200, 59220200, 67111000, 105617000, 68214600, 84831600, 79353400, 92107400, 114403400, 118079000, 104301000, 72131600, 69271200, 65842000, 95944800, 69613200, 64066600, 46090800, 53364400, 39017400, 41608400, 40928600, 51931800, 41589400, 60516000, 45587600, 31096600, 46472200, 38901800, 58603400, 34169400, 45411600, 45054000, 78889000, 72161800, 71447200, 53854200, 51789400, 46998400, 46836200, 43496600, 44393800, 37280000, 40273400, 41917400, 46751000, 54799800, 57637800, 76262200, 46437800, 43563000, 59725000, 68021400, 68596400, 63701400, 101143200, 60772400, 40881600, 47478800, 51949200, 42988800, 89391000, 71970200, 44319200, 56559400, 54560000, 63417800, 48428400, 38670200, 43153000, 34210800, 53081200, 46594000, 39745400, 36644800, 61229200, 83197600, 65042400, 81623800, 62541200, 48266200, 36343400, 38063600, 53502400, 46160000, 45635200, 45898000, 47784000, 47519200, 46600600, 45185400, 63423000, 55286800, 69217800, 77774600, 59629200, 55892600, 52615400, 77325200, 121913600, 71700600, 87669400, 69369600, 54775200, 78355400, 148823000, 97530600, 117312000, 104354000, 128618000, 81306400, 117495400, 75407600, 78566000, 68107600, 87201800, 70460600, 60875000, 51429000, 50438200, 53225400, 59354800, 46050200, 70124200, 59475800, 83987800, 72534000, 65368800, 67257200, 65022800, 60085600, 72605200, 80439800, 85252800, 56459800, 88118800, 96976800, 57719000, 63820400, 69729200, 51590800, 57968000, 86841600, 64607200, 89522400, 113012800, 99120800, 88841200, 79466000, 151293000, 151275600, 198216400, 240286800, 152414000, 135289200, 102621800, 106401000, 101537600, 89572600, 115466800, 134530600, 148110000, 150010400, 120933000, 109562400, 88611400, 65654200, 62981600, 72412600, 57747400, 56635800, 60248600, 76505200, 106648200, 133245200, 154226600, 142713400, 179217400, 154326800, 138371200, 86765900, 89135300, 77585254], \"yaxis\": \"y2\"}, {\"marker\": {\"color\": [\"#FF5733\", \"#FF5733\", \"#FF5733\", \"#FF5733\", \"#FF5733\", \"#FF5733\", \"#FF5733\", \"#FF5733\", \"#FF5733\", \"#FF5733\", \"#FF5733\", \"#FF5733\", \"#FF5733\", \"#FF5733\", \"#FF5733\", \"#FF5733\", \"#FF5733\", \"#FF5733\", \"#FF5733\", \"#FF5733\", \"#FF5733\", \"#FF5733\", \"#FF5733\", \"#FF5733\", \"#FF5733\", \"#FF5733\", \"#FF5733\", \"#FF5733\", \"#FF5733\", \"#FF5733\", \"#FF5733\", \"#FF5733\", \"#FF5733\", \"green\", \"green\", \"green\", \"green\", \"green\", \"green\", \"green\", \"green\", \"green\", \"green\", \"green\", \"green\", \"green\", \"green\", \"green\", \"green\", \"green\", \"green\", \"green\", \"#FF5733\", \"#FF5733\", \"#FF5733\", \"#FF5733\", \"#FF5733\", \"#FF5733\", \"#FF5733\", \"#FF5733\", \"#FF5733\", \"#FF5733\", \"#FF5733\", \"#FF5733\", \"#FF5733\", \"#FF5733\", \"#FF5733\", \"#FF5733\", \"#FF5733\", \"green\", \"green\", \"green\", \"green\", \"green\", \"green\", \"green\", \"green\", \"green\", \"#FF5733\", \"green\", \"green\", \"green\", \"green\", \"green\", \"green\", \"green\", \"green\", \"green\", \"green\", \"green\", \"green\", \"green\", \"green\", \"green\", \"green\", \"green\", \"green\", \"green\", \"green\", \"green\", \"green\", \"green\", \"green\", \"green\", \"green\", \"green\", \"green\", \"green\", \"green\", \"green\", \"green\", \"green\", \"green\", \"green\", \"green\", \"green\", \"green\", \"green\", \"#FF5733\", \"#FF5733\", \"#FF5733\", \"#FF5733\", \"#FF5733\", \"#FF5733\", \"#FF5733\", \"#FF5733\", \"#FF5733\", \"#FF5733\", \"#FF5733\", \"#FF5733\", \"green\", \"green\", \"green\", \"green\", \"green\", \"green\", \"green\", \"green\", \"green\", \"green\", \"green\", \"green\", \"green\", \"#FF5733\", \"#FF5733\", \"#FF5733\", \"#FF5733\", \"#FF5733\", \"#FF5733\", \"#FF5733\", \"green\", \"green\", \"green\", \"green\", \"#FF5733\", \"#FF5733\", \"#FF5733\", \"#FF5733\", \"#FF5733\", \"#FF5733\", \"#FF5733\", \"#FF5733\", \"#FF5733\", \"#FF5733\", \"green\", \"green\", \"green\", \"green\", \"green\", \"green\", \"green\", \"#FF5733\", \"#FF5733\", \"#FF5733\", \"#FF5733\", \"#FF5733\", \"#FF5733\", \"#FF5733\", \"#FF5733\", \"#FF5733\", \"#FF5733\", \"#FF5733\", \"#FF5733\", \"#FF5733\", \"#FF5733\", \"#FF5733\", \"green\", \"green\", \"green\", \"green\", \"green\", \"#FF5733\", \"#FF5733\", \"#FF5733\", \"#FF5733\", \"#FF5733\", \"#FF5733\", \"#FF5733\", \"#FF5733\", \"#FF5733\", \"#FF5733\", \"#FF5733\", \"#FF5733\", \"#FF5733\", \"#FF5733\", \"#FF5733\", \"#FF5733\", \"#FF5733\", \"#FF5733\", \"#FF5733\", \"#FF5733\", \"#FF5733\", \"green\", \"green\", \"green\", \"green\", \"green\", \"green\", \"green\", \"green\", \"green\", \"green\", \"green\", \"#FF5733\", \"#FF5733\", \"#FF5733\", \"#FF5733\", \"#FF5733\", \"#FF5733\", \"green\", \"green\", \"green\", \"green\", \"green\", \"green\", \"green\", \"green\", \"green\", \"green\", \"green\", \"green\", \"#FF5733\", \"#FF5733\", \"#FF5733\", \"#FF5733\", \"#FF5733\", \"#FF5733\", \"#FF5733\", \"#FF5733\", \"#FF5733\", \"#FF5733\", \"green\", \"#FF5733\", \"green\", \"green\", \"green\", \"green\", \"green\", \"green\", \"green\", \"green\", \"green\", \"green\", \"green\", \"green\", \"green\", \"green\", \"green\", \"green\", \"green\", \"green\", \"green\", \"green\", \"green\", \"green\", \"green\", \"green\", \"green\", \"green\", \"green\", \"green\", \"green\", \"green\", \"green\", \"green\", \"green\", \"green\", \"green\", \"green\", \"green\", \"green\", \"green\", \"green\", \"#FF5733\", \"#FF5733\", \"#FF5733\", \"#FF5733\", \"#FF5733\", \"#FF5733\", \"#FF5733\", \"green\", \"green\", \"green\", \"green\", \"green\", \"green\", \"green\", \"green\", \"green\", \"#FF5733\", \"#FF5733\", \"#FF5733\", \"#FF5733\", \"green\", \"green\", \"green\", \"green\", \"green\", \"green\", \"green\", \"green\", \"green\", \"green\", \"green\", \"green\", \"green\", \"green\", \"green\", \"green\", \"green\", \"green\", \"green\", \"green\", \"#FF5733\", \"#FF5733\", \"#FF5733\", \"#FF5733\", \"#FF5733\", \"#FF5733\", \"#FF5733\", \"#FF5733\", \"#FF5733\", \"#FF5733\", \"#FF5733\", \"#FF5733\", \"#FF5733\", \"#FF5733\", \"#FF5733\", \"#FF5733\", \"#FF5733\", \"#FF5733\", \"#FF5733\", \"#FF5733\", \"#FF5733\", \"#FF5733\", \"#FF5733\", \"#FF5733\", \"#FF5733\", \"#FF5733\", \"green\", \"green\", \"green\", \"green\", \"green\", \"green\", \"green\", \"green\", \"green\", \"green\", \"green\", \"green\", \"green\", \"green\", \"green\", \"green\", \"green\", \"green\", \"green\", \"green\", \"green\", \"green\", \"green\", \"green\", \"green\", \"green\", \"green\", \"green\", \"green\", \"#FF5733\", \"#FF5733\", \"#FF5733\", \"#FF5733\", \"#FF5733\", \"#FF5733\", \"#FF5733\", \"#FF5733\", \"#FF5733\", \"#FF5733\", \"#FF5733\", \"#FF5733\", \"#FF5733\", \"#FF5733\", \"#FF5733\", \"#FF5733\", \"#FF5733\", \"#FF5733\", \"#FF5733\", \"#FF5733\", \"#FF5733\", \"#FF5733\", \"#FF5733\", \"green\", \"green\", \"#FF5733\", \"#FF5733\", \"#FF5733\", \"#FF5733\", \"green\", \"green\", \"green\", \"green\", \"green\", \"green\", \"green\", \"green\", \"green\", \"green\", \"green\", \"green\", \"green\", \"green\", \"green\", \"green\", \"green\", \"#FF5733\", \"#FF5733\", \"#FF5733\", \"#FF5733\", \"#FF5733\", \"#FF5733\", \"#FF5733\", \"#FF5733\", \"#FF5733\", \"#FF5733\", \"#FF5733\", \"#FF5733\", \"#FF5733\", \"green\", \"green\", \"green\", \"green\", \"green\", \"green\", \"green\", \"green\", \"green\", \"green\", \"green\", \"green\", \"green\", \"green\", \"green\", \"green\", \"green\", \"green\", \"green\", \"green\", \"green\", \"green\", \"green\", \"green\", \"green\", \"green\", \"green\", \"green\", \"green\", \"#FF5733\", \"#FF5733\", \"#FF5733\", \"#FF5733\", \"green\", \"green\", \"#FF5733\", \"#FF5733\", \"#FF5733\", \"#FF5733\", \"#FF5733\", \"#FF5733\", \"#FF5733\", \"#FF5733\", \"#FF5733\", \"green\", \"green\", \"green\", \"green\", \"green\", \"green\", \"green\", \"green\", \"green\", \"green\", \"green\", \"green\", \"green\", \"green\", \"green\", \"green\", \"green\", \"green\", \"green\", \"green\", \"green\", \"green\", \"green\", \"green\", \"green\", \"green\", \"green\", \"green\", \"#FF5733\", \"#FF5733\", \"#FF5733\", \"#FF5733\", \"#FF5733\", \"#FF5733\", \"#FF5733\", \"green\", \"green\", \"green\", \"green\", \"green\", \"green\", \"green\", \"green\", \"green\", \"green\", \"green\", \"#FF5733\", \"#FF5733\", \"#FF5733\", \"#FF5733\", \"#FF5733\", \"#FF5733\", \"#FF5733\", \"#FF5733\", \"#FF5733\", \"#FF5733\", \"#FF5733\", \"#FF5733\", \"#FF5733\", \"#FF5733\", \"#FF5733\", \"#FF5733\", \"#FF5733\", \"#FF5733\", \"#FF5733\", \"#FF5733\", \"#FF5733\", \"#FF5733\", \"#FF5733\", \"#FF5733\", \"green\", \"green\", \"green\", \"green\", \"green\", \"green\", \"green\", \"green\", \"green\", \"green\", \"green\", \"green\", \"green\", \"green\", \"green\", \"green\", \"green\", \"green\", \"green\", \"green\", \"green\", \"green\", \"green\", \"green\", \"green\", \"green\", \"green\", \"green\", \"green\", \"green\", \"green\", \"green\", \"green\", \"green\", \"green\", \"green\", \"green\", \"green\", \"green\", \"green\", \"green\", \"green\", \"green\", \"green\", \"green\", \"green\", \"green\", \"green\", \"green\", \"green\", \"green\", \"green\", \"green\", \"green\", \"#FF5733\", \"#FF5733\", \"#FF5733\", \"#FF5733\", \"#FF5733\", \"#FF5733\", \"green\", \"green\", \"green\", \"#FF5733\", \"#FF5733\", \"#FF5733\", \"#FF5733\", \"#FF5733\", \"green\", \"green\", \"green\", \"green\", \"green\", \"green\", \"green\", \"green\", \"green\", \"green\", \"#FF5733\", \"green\", \"green\", \"green\", \"#FF5733\", \"#FF5733\", \"#FF5733\", \"#FF5733\", \"#FF5733\", \"#FF5733\", \"#FF5733\", \"#FF5733\", \"green\", \"green\", \"green\", \"green\", \"green\", \"#FF5733\", \"#FF5733\", \"#FF5733\", \"#FF5733\", \"green\", \"green\", \"green\", \"green\", \"green\", \"green\", \"green\", \"green\", \"green\", \"green\", \"green\", \"green\", \"green\", \"green\", \"#FF5733\", \"#FF5733\", \"#FF5733\", \"#FF5733\", \"#FF5733\", \"#FF5733\", \"#FF5733\", \"#FF5733\", \"#FF5733\", \"#FF5733\", \"#FF5733\", \"#FF5733\", \"#FF5733\", \"#FF5733\", \"#FF5733\", \"#FF5733\", \"#FF5733\", \"green\", \"green\", \"green\", \"green\", \"green\", \"green\", \"green\", \"green\", \"green\", \"green\", \"green\", \"green\", \"green\", \"green\", \"green\", \"green\", \"#FF5733\", \"#FF5733\", \"#FF5733\", \"#FF5733\", \"#FF5733\", \"#FF5733\", \"#FF5733\", \"#FF5733\", \"#FF5733\", \"#FF5733\", \"green\", \"green\", \"green\", \"green\", \"green\", \"green\", \"green\", \"green\", \"green\", \"green\", \"green\", \"green\", \"green\", \"green\", \"green\", \"green\", \"green\", \"green\", \"green\", \"green\", \"green\", \"green\", \"green\", \"green\", \"green\", \"#FF5733\", \"#FF5733\", \"#FF5733\", \"green\", \"green\", \"green\", \"green\", \"green\", \"#FF5733\", \"#FF5733\", \"green\", \"green\", \"green\", \"green\", \"#FF5733\", \"#FF5733\", \"#FF5733\", \"#FF5733\", \"#FF5733\", \"#FF5733\", \"#FF5733\", \"#FF5733\", \"#FF5733\", \"#FF5733\", \"#FF5733\", \"green\", \"green\", \"green\", \"green\", \"green\", \"green\", \"green\", \"#FF5733\", \"#FF5733\", \"#FF5733\", \"#FF5733\", \"green\", \"green\", \"green\", \"green\", \"green\", \"green\", \"green\", \"green\", \"green\", \"#FF5733\", \"#FF5733\", \"#FF5733\", \"#FF5733\", \"#FF5733\", \"#FF5733\", \"#FF5733\", \"#FF5733\", \"#FF5733\", \"#FF5733\", \"#FF5733\", \"#FF5733\", \"#FF5733\", \"#FF5733\", \"#FF5733\", \"#FF5733\", \"#FF5733\", \"#FF5733\", \"green\", \"green\", \"green\", \"green\", \"green\", \"green\", \"green\", \"green\", \"green\", \"green\", \"green\", \"green\", \"green\", \"green\", \"green\", \"green\", \"green\", \"green\", \"green\", \"green\", \"green\", \"green\", \"green\", \"green\", \"green\", \"green\", \"green\", \"green\", \"green\", \"green\", \"#FF5733\", \"#FF5733\", \"#FF5733\", \"#FF5733\", \"#FF5733\", \"#FF5733\", \"#FF5733\", \"#FF5733\", \"#FF5733\", \"#FF5733\", \"#FF5733\", \"#FF5733\", \"#FF5733\", \"#FF5733\", \"#FF5733\", \"#FF5733\", \"#FF5733\", \"#FF5733\", \"green\", \"green\", \"green\", \"green\", \"green\", \"green\", \"green\", \"green\", \"green\", \"green\", \"green\", \"green\", \"green\", \"green\", \"green\", \"green\", \"green\", \"green\", \"green\", \"green\", \"green\", \"green\", \"green\", \"green\", \"green\", \"green\", \"green\", \"green\", \"green\", \"green\", \"green\", \"green\", \"green\", \"green\", \"green\", \"green\", \"green\", \"#FF5733\", \"#FF5733\", \"#FF5733\", \"#FF5733\", \"#FF5733\", \"#FF5733\", \"green\", \"#FF5733\", \"#FF5733\", \"#FF5733\", \"#FF5733\", \"#FF5733\", \"#FF5733\", \"#FF5733\", \"#FF5733\", \"#FF5733\", \"#FF5733\", \"#FF5733\", \"#FF5733\", \"#FF5733\", \"#FF5733\", \"#FF5733\", \"#FF5733\", \"#FF5733\", \"#FF5733\", \"#FF5733\", \"#FF5733\", \"green\", \"green\", \"green\", \"green\", \"green\", \"green\", \"green\", \"green\", \"green\", \"green\", \"green\", \"green\", \"#FF5733\", \"#FF5733\", \"#FF5733\", \"#FF5733\", \"#FF5733\", \"#FF5733\", \"#FF5733\", \"#FF5733\", \"#FF5733\", \"#FF5733\", \"#FF5733\", \"#FF5733\", \"#FF5733\", \"#FF5733\", \"#FF5733\", \"#FF5733\", \"#FF5733\", \"#FF5733\", \"#FF5733\", \"#FF5733\", \"#FF5733\", \"#FF5733\", \"#FF5733\", \"#FF5733\", \"green\", \"green\", \"green\", \"green\", \"green\", \"green\", \"green\", \"green\", \"green\", \"green\", \"green\", \"green\", \"green\", \"green\", \"green\", \"green\", \"green\", \"green\", \"green\", \"green\", \"green\", \"green\", \"green\", \"green\", \"green\", \"green\", \"green\", \"green\", \"#FF5733\", \"#FF5733\", \"#FF5733\", \"#FF5733\", \"#FF5733\", \"#FF5733\", \"#FF5733\", \"#FF5733\", \"#FF5733\", \"#FF5733\", \"#FF5733\", \"#FF5733\", \"#FF5733\", \"#FF5733\", \"#FF5733\", \"#FF5733\", \"#FF5733\", \"#FF5733\", \"#FF5733\", \"#FF5733\", \"#FF5733\", \"#FF5733\", \"green\", \"green\", \"green\", \"green\", \"green\", \"green\", \"green\", \"#FF5733\", \"#FF5733\", \"#FF5733\", \"#FF5733\", \"#FF5733\", \"#FF5733\", \"#FF5733\", \"#FF5733\", \"#FF5733\"]}, \"name\": \"MACD diff\", \"type\": \"bar\", \"x\": [\"2020-08-07T00:00:00\", \"2020-08-10T00:00:00\", \"2020-08-11T00:00:00\", \"2020-08-12T00:00:00\", \"2020-08-13T00:00:00\", \"2020-08-14T00:00:00\", \"2020-08-17T00:00:00\", \"2020-08-18T00:00:00\", \"2020-08-19T00:00:00\", \"2020-08-20T00:00:00\", \"2020-08-21T00:00:00\", \"2020-08-24T00:00:00\", \"2020-08-25T00:00:00\", \"2020-08-26T00:00:00\", \"2020-08-27T00:00:00\", \"2020-08-28T00:00:00\", \"2020-08-31T00:00:00\", \"2020-09-01T00:00:00\", \"2020-09-02T00:00:00\", \"2020-09-03T00:00:00\", \"2020-09-04T00:00:00\", \"2020-09-08T00:00:00\", \"2020-09-09T00:00:00\", \"2020-09-10T00:00:00\", \"2020-09-11T00:00:00\", \"2020-09-14T00:00:00\", \"2020-09-15T00:00:00\", \"2020-09-16T00:00:00\", \"2020-09-17T00:00:00\", \"2020-09-18T00:00:00\", \"2020-09-21T00:00:00\", \"2020-09-22T00:00:00\", \"2020-09-23T00:00:00\", \"2020-09-24T00:00:00\", \"2020-09-25T00:00:00\", \"2020-09-28T00:00:00\", \"2020-09-29T00:00:00\", \"2020-09-30T00:00:00\", \"2020-10-01T00:00:00\", \"2020-10-02T00:00:00\", \"2020-10-05T00:00:00\", \"2020-10-06T00:00:00\", \"2020-10-07T00:00:00\", \"2020-10-08T00:00:00\", \"2020-10-09T00:00:00\", \"2020-10-12T00:00:00\", \"2020-10-13T00:00:00\", \"2020-10-14T00:00:00\", \"2020-10-15T00:00:00\", \"2020-10-16T00:00:00\", \"2020-10-19T00:00:00\", \"2020-10-20T00:00:00\", \"2020-10-21T00:00:00\", \"2020-10-22T00:00:00\", \"2020-10-23T00:00:00\", \"2020-10-26T00:00:00\", \"2020-10-27T00:00:00\", \"2020-10-28T00:00:00\", \"2020-10-29T00:00:00\", \"2020-10-30T00:00:00\", \"2020-11-02T00:00:00\", \"2020-11-03T00:00:00\", \"2020-11-04T00:00:00\", \"2020-11-05T00:00:00\", \"2020-11-06T00:00:00\", \"2020-11-09T00:00:00\", \"2020-11-10T00:00:00\", \"2020-11-11T00:00:00\", \"2020-11-12T00:00:00\", \"2020-11-13T00:00:00\", \"2020-11-16T00:00:00\", \"2020-11-17T00:00:00\", \"2020-11-18T00:00:00\", \"2020-11-19T00:00:00\", \"2020-11-20T00:00:00\", \"2020-11-23T00:00:00\", \"2020-11-24T00:00:00\", \"2020-11-25T00:00:00\", \"2020-11-27T00:00:00\", \"2020-11-30T00:00:00\", \"2020-12-01T00:00:00\", \"2020-12-02T00:00:00\", \"2020-12-03T00:00:00\", \"2020-12-04T00:00:00\", \"2020-12-07T00:00:00\", \"2020-12-08T00:00:00\", \"2020-12-09T00:00:00\", \"2020-12-10T00:00:00\", \"2020-12-11T00:00:00\", \"2020-12-14T00:00:00\", \"2020-12-15T00:00:00\", \"2020-12-16T00:00:00\", \"2020-12-17T00:00:00\", \"2020-12-18T00:00:00\", \"2020-12-21T00:00:00\", \"2020-12-22T00:00:00\", \"2020-12-23T00:00:00\", \"2020-12-24T00:00:00\", \"2020-12-28T00:00:00\", \"2020-12-29T00:00:00\", \"2020-12-30T00:00:00\", \"2020-12-31T00:00:00\", \"2021-01-04T00:00:00\", \"2021-01-05T00:00:00\", \"2021-01-06T00:00:00\", \"2021-01-07T00:00:00\", \"2021-01-08T00:00:00\", \"2021-01-11T00:00:00\", \"2021-01-12T00:00:00\", \"2021-01-13T00:00:00\", \"2021-01-14T00:00:00\", \"2021-01-15T00:00:00\", \"2021-01-19T00:00:00\", \"2021-01-20T00:00:00\", \"2021-01-21T00:00:00\", \"2021-01-22T00:00:00\", \"2021-01-25T00:00:00\", \"2021-01-26T00:00:00\", \"2021-01-27T00:00:00\", \"2021-01-28T00:00:00\", \"2021-01-29T00:00:00\", \"2021-02-01T00:00:00\", \"2021-02-02T00:00:00\", \"2021-02-03T00:00:00\", \"2021-02-04T00:00:00\", \"2021-02-05T00:00:00\", \"2021-02-08T00:00:00\", \"2021-02-09T00:00:00\", \"2021-02-10T00:00:00\", \"2021-02-11T00:00:00\", \"2021-02-12T00:00:00\", \"2021-02-16T00:00:00\", \"2021-02-17T00:00:00\", \"2021-02-18T00:00:00\", \"2021-02-19T00:00:00\", \"2021-02-22T00:00:00\", \"2021-02-23T00:00:00\", \"2021-02-24T00:00:00\", \"2021-02-25T00:00:00\", \"2021-02-26T00:00:00\", \"2021-03-01T00:00:00\", \"2021-03-02T00:00:00\", \"2021-03-03T00:00:00\", \"2021-03-04T00:00:00\", \"2021-03-05T00:00:00\", \"2021-03-08T00:00:00\", \"2021-03-09T00:00:00\", \"2021-03-10T00:00:00\", \"2021-03-11T00:00:00\", \"2021-03-12T00:00:00\", \"2021-03-15T00:00:00\", \"2021-03-16T00:00:00\", \"2021-03-17T00:00:00\", \"2021-03-18T00:00:00\", \"2021-03-19T00:00:00\", \"2021-03-22T00:00:00\", \"2021-03-23T00:00:00\", \"2021-03-24T00:00:00\", \"2021-03-25T00:00:00\", \"2021-03-26T00:00:00\", \"2021-03-29T00:00:00\", \"2021-03-30T00:00:00\", \"2021-03-31T00:00:00\", \"2021-04-01T00:00:00\", \"2021-04-05T00:00:00\", \"2021-04-06T00:00:00\", \"2021-04-07T00:00:00\", \"2021-04-08T00:00:00\", \"2021-04-09T00:00:00\", \"2021-04-12T00:00:00\", \"2021-04-13T00:00:00\", \"2021-04-14T00:00:00\", \"2021-04-15T00:00:00\", \"2021-04-16T00:00:00\", \"2021-04-19T00:00:00\", \"2021-04-20T00:00:00\", \"2021-04-21T00:00:00\", \"2021-04-22T00:00:00\", \"2021-04-23T00:00:00\", \"2021-04-26T00:00:00\", \"2021-04-27T00:00:00\", \"2021-04-28T00:00:00\", \"2021-04-29T00:00:00\", \"2021-04-30T00:00:00\", \"2021-05-03T00:00:00\", \"2021-05-04T00:00:00\", \"2021-05-05T00:00:00\", \"2021-05-06T00:00:00\", \"2021-05-07T00:00:00\", \"2021-05-10T00:00:00\", \"2021-05-11T00:00:00\", \"2021-05-12T00:00:00\", \"2021-05-13T00:00:00\", \"2021-05-14T00:00:00\", \"2021-05-17T00:00:00\", \"2021-05-18T00:00:00\", \"2021-05-19T00:00:00\", \"2021-05-20T00:00:00\", \"2021-05-21T00:00:00\", \"2021-05-24T00:00:00\", \"2021-05-25T00:00:00\", \"2021-05-26T00:00:00\", \"2021-05-27T00:00:00\", \"2021-05-28T00:00:00\", \"2021-06-01T00:00:00\", \"2021-06-02T00:00:00\", \"2021-06-03T00:00:00\", \"2021-06-04T00:00:00\", \"2021-06-07T00:00:00\", \"2021-06-08T00:00:00\", \"2021-06-09T00:00:00\", \"2021-06-10T00:00:00\", \"2021-06-11T00:00:00\", \"2021-06-14T00:00:00\", \"2021-06-15T00:00:00\", \"2021-06-16T00:00:00\", \"2021-06-17T00:00:00\", \"2021-06-18T00:00:00\", \"2021-06-21T00:00:00\", \"2021-06-22T00:00:00\", \"2021-06-23T00:00:00\", \"2021-06-24T00:00:00\", \"2021-06-25T00:00:00\", \"2021-06-28T00:00:00\", \"2021-06-29T00:00:00\", \"2021-06-30T00:00:00\", \"2021-07-01T00:00:00\", \"2021-07-02T00:00:00\", \"2021-07-06T00:00:00\", \"2021-07-07T00:00:00\", \"2021-07-08T00:00:00\", \"2021-07-09T00:00:00\", \"2021-07-12T00:00:00\", \"2021-07-13T00:00:00\", \"2021-07-14T00:00:00\", \"2021-07-15T00:00:00\", \"2021-07-16T00:00:00\", \"2021-07-19T00:00:00\", \"2021-07-20T00:00:00\", \"2021-07-21T00:00:00\", \"2021-07-22T00:00:00\", \"2021-07-23T00:00:00\", \"2021-07-26T00:00:00\", \"2021-07-27T00:00:00\", \"2021-07-28T00:00:00\", \"2021-07-29T00:00:00\", \"2021-07-30T00:00:00\", \"2021-08-02T00:00:00\", \"2021-08-03T00:00:00\", \"2021-08-04T00:00:00\", \"2021-08-05T00:00:00\", \"2021-08-06T00:00:00\", \"2021-08-09T00:00:00\", \"2021-08-10T00:00:00\", \"2021-08-11T00:00:00\", \"2021-08-12T00:00:00\", \"2021-08-13T00:00:00\", \"2021-08-16T00:00:00\", \"2021-08-17T00:00:00\", \"2021-08-18T00:00:00\", \"2021-08-19T00:00:00\", \"2021-08-20T00:00:00\", \"2021-08-23T00:00:00\", \"2021-08-24T00:00:00\", \"2021-08-25T00:00:00\", \"2021-08-26T00:00:00\", \"2021-08-27T00:00:00\", \"2021-08-30T00:00:00\", \"2021-08-31T00:00:00\", \"2021-09-01T00:00:00\", \"2021-09-02T00:00:00\", \"2021-09-03T00:00:00\", \"2021-09-07T00:00:00\", \"2021-09-08T00:00:00\", \"2021-09-09T00:00:00\", \"2021-09-10T00:00:00\", \"2021-09-13T00:00:00\", \"2021-09-14T00:00:00\", \"2021-09-15T00:00:00\", \"2021-09-16T00:00:00\", \"2021-09-17T00:00:00\", \"2021-09-20T00:00:00\", \"2021-09-21T00:00:00\", \"2021-09-22T00:00:00\", \"2021-09-23T00:00:00\", \"2021-09-24T00:00:00\", \"2021-09-27T00:00:00\", \"2021-09-28T00:00:00\", \"2021-09-29T00:00:00\", \"2021-09-30T00:00:00\", \"2021-10-01T00:00:00\", \"2021-10-04T00:00:00\", \"2021-10-05T00:00:00\", \"2021-10-06T00:00:00\", \"2021-10-07T00:00:00\", \"2021-10-08T00:00:00\", \"2021-10-11T00:00:00\", \"2021-10-12T00:00:00\", \"2021-10-13T00:00:00\", \"2021-10-14T00:00:00\", \"2021-10-15T00:00:00\", \"2021-10-18T00:00:00\", \"2021-10-19T00:00:00\", \"2021-10-20T00:00:00\", \"2021-10-21T00:00:00\", \"2021-10-22T00:00:00\", \"2021-10-25T00:00:00\", \"2021-10-26T00:00:00\", \"2021-10-27T00:00:00\", \"2021-10-28T00:00:00\", \"2021-10-29T00:00:00\", \"2021-11-01T00:00:00\", \"2021-11-02T00:00:00\", \"2021-11-03T00:00:00\", \"2021-11-04T00:00:00\", \"2021-11-05T00:00:00\", \"2021-11-08T00:00:00\", \"2021-11-09T00:00:00\", \"2021-11-10T00:00:00\", \"2021-11-11T00:00:00\", \"2021-11-12T00:00:00\", \"2021-11-15T00:00:00\", \"2021-11-16T00:00:00\", \"2021-11-17T00:00:00\", \"2021-11-18T00:00:00\", \"2021-11-19T00:00:00\", \"2021-11-22T00:00:00\", \"2021-11-23T00:00:00\", \"2021-11-24T00:00:00\", \"2021-11-26T00:00:00\", \"2021-11-29T00:00:00\", \"2021-11-30T00:00:00\", \"2021-12-01T00:00:00\", \"2021-12-02T00:00:00\", \"2021-12-03T00:00:00\", \"2021-12-06T00:00:00\", \"2021-12-07T00:00:00\", \"2021-12-08T00:00:00\", \"2021-12-09T00:00:00\", \"2021-12-10T00:00:00\", \"2021-12-13T00:00:00\", \"2021-12-14T00:00:00\", \"2021-12-15T00:00:00\", \"2021-12-16T00:00:00\", \"2021-12-17T00:00:00\", \"2021-12-20T00:00:00\", \"2021-12-21T00:00:00\", \"2021-12-22T00:00:00\", \"2021-12-23T00:00:00\", \"2021-12-27T00:00:00\", \"2021-12-28T00:00:00\", \"2021-12-29T00:00:00\", \"2021-12-30T00:00:00\", \"2021-12-31T00:00:00\", \"2022-01-03T00:00:00\", \"2022-01-04T00:00:00\", \"2022-01-05T00:00:00\", \"2022-01-06T00:00:00\", \"2022-01-07T00:00:00\", \"2022-01-10T00:00:00\", \"2022-01-11T00:00:00\", \"2022-01-12T00:00:00\", \"2022-01-13T00:00:00\", \"2022-01-14T00:00:00\", \"2022-01-18T00:00:00\"], \"xaxis\": \"x4\", \"y\": [0.21461955481303763, 0.14489627840312957, -0.03305248349099488, -0.014958174063520513, -0.0017399862834179824, -0.012369608735332216, 0.03571021458931645, 0.11256148010368294, 0.09913829073380542, 0.15916006770100655, 0.22054459249822056, 0.2747547133562098, 0.332806406580636, 0.4863074023874776, 0.5173737360658459, 0.5298386333306184, 0.5487262471864245, 0.6448632800757608, 0.7256327779700711, 0.28688232664864133, -0.12473094172922528, -0.7197184339528633, -0.9106796521196769, -1.1249344728874644, -1.2614979085301035, -1.1959015121730208, -1.0175505358210992, -0.9646171055313444, -0.9819348297671171, -1.0214721273925398, -0.9738517493466798, -0.7911499349935533, -0.8179378730144107, -0.762801243104979, -0.5558381043492102, -0.2754208019516059, -0.10056316081385841, 0.06141673181921947, 0.2639704046815734, 0.20264962180900836, 0.2854934501043712, 0.21263212124378222, 0.2661622978921201, 0.32067307205282186, 0.4368257188334057, 0.6986035025702348, 0.8267004457792767, 0.8013041146815136, 0.6903741988632699, 0.5436364671850432, 0.30193371340015274, 0.14192187988633087, 0.02123392868697771, -0.06166778404543505, -0.10459330442245862, -0.23420758255206264, -0.2594207984600668, -0.5221732371405355, -0.5665731915452571, -0.7080565506556562, -0.7606412458670953, -0.6593632834511509, -0.2936245176235172, 0.1257172900633375, 0.39205678728208315, 0.39208655506374435, 0.24935164512180213, 0.2906468322627092, 0.26672913013578636, 0.2952784894146987, 0.3486402828860662, 0.3388169314791412, 0.2565859344765362, 0.24389940015813905, 0.17040991102843783, 0.11045651047206351, 0.15553071534088303, 0.21473690791704803, 0.30074620022417475, 0.34459439821993065, 0.44508659254080807, 0.48625292333280523, 0.487128132861806, 0.4832915201072927, 0.4885242688466511, 0.4776323732040435, 0.24743217988080746, 0.10650247967787174, -0.020947421184638326, -0.06014831286875166, -0.015041067627217908, 0.04436222088707886, 0.12051920586089704, 0.11579914577616446, 0.08063235735131591, 0.06027010499858787, -0.013860259583054146, -0.039916424392202554, 0.013479763992848115, 0.03869990231406173, 0.03591511810213088, 0.038615914088500514, -0.10480797126918628, -0.13566375890599525, -0.2811828016003548, -0.17583968443189213, -0.001983495329045404, -0.04174709524376907, -0.09165100160798678, -0.07632222538636713, -0.12172819912603106, -0.22823021413100752, -0.17371486279126147, 0.06238381509856139, 0.27246012145655363, 0.3467405629750768, 0.4496045724602866, 0.4784514882195867, 0.1886737006154784, 0.024740681289691313, -0.28822258585328875, -0.2735662271274393, -0.11593140001766078, -0.06398437338322882, 0.07007091038082569, 0.16958834342208706, 0.2728060887737247, 0.3049828383614206, 0.2675955941370278, 0.26709050626299735, 0.2929495546279566, 0.24524142325839504, 0.1342192992324862, -0.008738906589586204, -0.1626047111361415, -0.5292980678727033, -0.7773003742895253, -0.8349859321329813, -1.1692326592337063, -1.2874507104043171, -1.055003601573272, -1.0091738492631264, -1.1876282953393955, -1.372067968673049, -1.2998506098316724, -1.4106089127724317, -1.110746465914201, -0.877813911770787, -0.4858051567794124, -0.27359004814047605, -0.022151132448521293, 0.19830334421517337, 0.3767988404229845, 0.20607302428514274, 0.1350959875015434, 0.24237111338995865, 0.27012445380695005, 0.13906975379715036, 0.04521847911801036, 0.11383852064867384, 0.1591821399735891, 0.14858709565487627, 0.2684355328305523, 0.4861230995820798, 0.7883528018336444, 0.9344784459595515, 1.0045609964304925, 1.0988753959437367, 1.1600856636739825, 1.120346696338601, 1.1470524823800818, 0.9707973612726042, 0.948454209396421, 0.8862962648811199, 0.6881025721727401, 0.43484423937484973, 0.3211355907465947, 0.0876099055481303, 0.04406439144863361, 0.06434131284080236, 0.007901244610638347, -0.08315314384338812, -0.12010248405105006, -0.22144201408372988, -0.34775046738469273, -0.6041867947210111, -0.7866468069957491, -0.8048067338876548, -0.7073083561310876, -0.8688395174642616, -0.9487047444248067, -1.1876951430978786, -1.2198592998575994, -0.9902870430982117, -0.8451191353797001, -0.7700249381154117, -0.6670048674787092, -0.3901791712358541, -0.24076159305049905, 0.027327184943147675, 0.21719637393735047, 0.3648217906996498, 0.406242312764288, 0.44787884352995494, 0.4229487948058807, 0.4054597094729027, 0.2732879512771167, 0.3397461882040867, 0.3940219559776138, 0.4113915440210575, 0.4037811099943723, 0.4789096650070711, 0.5255626576507877, 0.6209235617143631, 0.576388077926566, 0.47390716451452564, 0.5069206344581547, 0.40595067870768853, 0.37598000119659103, 0.42696220969804943, 0.43122637026454713, 0.466586232317201, 0.43874737450817314, 0.5163028745151437, 0.5656497432260856, 0.5324939279495222, 0.4672967003984114, 0.515195624658114, 0.5517999093080235, 0.5500689709715458, 0.42550584311062556, 0.3695936222207514, 0.34188793714438637, 0.27860821757363485, 0.22060294217338328, 0.05899397322311639, -0.1732543976492149, -0.43242207846696346, -0.4689333234399329, -0.39960025968851953, -0.27207426071800045, -0.06085137779333616, 0.07000564585361335, -0.017668577995191725, -0.04845754287597703, -0.0670762132852456, -0.16245282608884848, -0.2373909036796329, -0.2200631138721132, -0.19764211374491492, -0.11276490778726256, -0.13173736490673216, -0.13377616261731662, -0.21349649123570247, -0.29512053361163515, -0.3050207994376801, -0.27002793829211313, -0.24385360613000295, -0.3468720647445709, -0.53360950628987, -0.5786587116251947, -0.4603819087440568, -0.18170713916764725, 0.03493116341455371, 0.16168341738713154, 0.14243952097812684, 0.24137564756435737, 0.43066486889993305, 0.4987981789213287, 0.5258514282257765, 0.49167422249547466, 0.46956716735664816, 0.43182127449929686, 0.315705761542993, 0.15424204666687125, -0.08305345262795782, -0.25888580568309294, -0.4157428407288193, -0.4098609554803896, -0.3938875545582785, -0.547026678384511, -0.9098452037111764, -1.0983667256444776, -1.0459170462841565, -0.8456690935945149, -0.67048207086031, -0.6405496671706321, -0.960868767744353, -1.1403128942499692, -1.2379604923239833, -1.1586557760165006, -1.2912789347179328, -1.1518077173390304, -0.9147642495370787, -0.595953813626164, -0.41355543776007586, -0.3520800915497788, -0.31903943526842093, -0.17208512456000902, 0.16914502293928768, 0.4702801502460814, 0.7804804700199712, 1.046414245581165, 1.1559572195936683, 1.254827367566925, 1.1404920795935425, 1.1483169646754277, 1.1377844478410997, 1.1073226022636622, 1.181505555182171, 1.2317334865346432, 1.2382126756719736, 1.2319780817559032, 1.3094250790354107, 1.466419442366865, 1.4868406075280705, 1.3747622113494948, 1.0930328039064445, 0.5963126488022832, 0.2632975816149612, 0.17100044232605338, 0.07001788418428312, 0.07944973397740274, 0.054664715827462906, 0.16819484094162807, 0.29124578563235337, 0.1230986884759413, -0.09745914632498565, -0.21495754420379232, -0.6106125037381798, -0.5400846929543475, -0.7328088907228527, -1.1122655776927237, -1.225446935504885, -1.509535814368605, -1.517057242487159, -1.017441892491414, -0.5914246211063146, -0.540761185637372, -0.3323924377175502, -0.4255873776062504, -0.6244029344553057, -0.39702713655066324, -0.6455255590781928, -0.8488147634207153, -1.0804189228039345, -0.8591888139150611, -0.49810682475927587, -0.1223637576273631, 0.3730195880141696, 0.5990793616374358, 0.6995947699761698, 0.6721188956943226, 0.5148707009351234, 0.5370285618400913, 0.3038925994893269, -0.3483141171024642, -0.7585050738099562, -1.1360866842492552, -1.2985390673406683, -1.1286484144574263, -0.9048425633678188, -1.0653458358872372, -1.034050326462143, -1.2806832075910675], \"yaxis\": \"y4\"}, {\"line\": {\"color\": \"green\", \"width\": 2}, \"name\": \"MACD\", \"type\": \"scatter\", \"x\": [\"2020-08-07T00:00:00\", \"2020-08-10T00:00:00\", \"2020-08-11T00:00:00\", \"2020-08-12T00:00:00\", \"2020-08-13T00:00:00\", \"2020-08-14T00:00:00\", \"2020-08-17T00:00:00\", \"2020-08-18T00:00:00\", \"2020-08-19T00:00:00\", \"2020-08-20T00:00:00\", \"2020-08-21T00:00:00\", \"2020-08-24T00:00:00\", \"2020-08-25T00:00:00\", \"2020-08-26T00:00:00\", \"2020-08-27T00:00:00\", \"2020-08-28T00:00:00\", \"2020-08-31T00:00:00\", \"2020-09-01T00:00:00\", \"2020-09-02T00:00:00\", \"2020-09-03T00:00:00\", \"2020-09-04T00:00:00\", \"2020-09-08T00:00:00\", \"2020-09-09T00:00:00\", \"2020-09-10T00:00:00\", \"2020-09-11T00:00:00\", \"2020-09-14T00:00:00\", \"2020-09-15T00:00:00\", \"2020-09-16T00:00:00\", \"2020-09-17T00:00:00\", \"2020-09-18T00:00:00\", \"2020-09-21T00:00:00\", \"2020-09-22T00:00:00\", \"2020-09-23T00:00:00\", \"2020-09-24T00:00:00\", \"2020-09-25T00:00:00\", \"2020-09-28T00:00:00\", \"2020-09-29T00:00:00\", \"2020-09-30T00:00:00\", \"2020-10-01T00:00:00\", \"2020-10-02T00:00:00\", \"2020-10-05T00:00:00\", \"2020-10-06T00:00:00\", \"2020-10-07T00:00:00\", \"2020-10-08T00:00:00\", \"2020-10-09T00:00:00\", \"2020-10-12T00:00:00\", \"2020-10-13T00:00:00\", \"2020-10-14T00:00:00\", \"2020-10-15T00:00:00\", \"2020-10-16T00:00:00\", \"2020-10-19T00:00:00\", \"2020-10-20T00:00:00\", \"2020-10-21T00:00:00\", \"2020-10-22T00:00:00\", \"2020-10-23T00:00:00\", \"2020-10-26T00:00:00\", \"2020-10-27T00:00:00\", \"2020-10-28T00:00:00\", \"2020-10-29T00:00:00\", \"2020-10-30T00:00:00\", \"2020-11-02T00:00:00\", \"2020-11-03T00:00:00\", \"2020-11-04T00:00:00\", \"2020-11-05T00:00:00\", \"2020-11-06T00:00:00\", \"2020-11-09T00:00:00\", \"2020-11-10T00:00:00\", \"2020-11-11T00:00:00\", \"2020-11-12T00:00:00\", \"2020-11-13T00:00:00\", \"2020-11-16T00:00:00\", \"2020-11-17T00:00:00\", \"2020-11-18T00:00:00\", \"2020-11-19T00:00:00\", \"2020-11-20T00:00:00\", \"2020-11-23T00:00:00\", \"2020-11-24T00:00:00\", \"2020-11-25T00:00:00\", \"2020-11-27T00:00:00\", \"2020-11-30T00:00:00\", \"2020-12-01T00:00:00\", \"2020-12-02T00:00:00\", \"2020-12-03T00:00:00\", \"2020-12-04T00:00:00\", \"2020-12-07T00:00:00\", \"2020-12-08T00:00:00\", \"2020-12-09T00:00:00\", \"2020-12-10T00:00:00\", \"2020-12-11T00:00:00\", \"2020-12-14T00:00:00\", \"2020-12-15T00:00:00\", \"2020-12-16T00:00:00\", \"2020-12-17T00:00:00\", \"2020-12-18T00:00:00\", \"2020-12-21T00:00:00\", \"2020-12-22T00:00:00\", \"2020-12-23T00:00:00\", \"2020-12-24T00:00:00\", \"2020-12-28T00:00:00\", \"2020-12-29T00:00:00\", \"2020-12-30T00:00:00\", \"2020-12-31T00:00:00\", \"2021-01-04T00:00:00\", \"2021-01-05T00:00:00\", \"2021-01-06T00:00:00\", \"2021-01-07T00:00:00\", \"2021-01-08T00:00:00\", \"2021-01-11T00:00:00\", \"2021-01-12T00:00:00\", \"2021-01-13T00:00:00\", \"2021-01-14T00:00:00\", \"2021-01-15T00:00:00\", \"2021-01-19T00:00:00\", \"2021-01-20T00:00:00\", \"2021-01-21T00:00:00\", \"2021-01-22T00:00:00\", \"2021-01-25T00:00:00\", \"2021-01-26T00:00:00\", \"2021-01-27T00:00:00\", \"2021-01-28T00:00:00\", \"2021-01-29T00:00:00\", \"2021-02-01T00:00:00\", \"2021-02-02T00:00:00\", \"2021-02-03T00:00:00\", \"2021-02-04T00:00:00\", \"2021-02-05T00:00:00\", \"2021-02-08T00:00:00\", \"2021-02-09T00:00:00\", \"2021-02-10T00:00:00\", \"2021-02-11T00:00:00\", \"2021-02-12T00:00:00\", \"2021-02-16T00:00:00\", \"2021-02-17T00:00:00\", \"2021-02-18T00:00:00\", \"2021-02-19T00:00:00\", \"2021-02-22T00:00:00\", \"2021-02-23T00:00:00\", \"2021-02-24T00:00:00\", \"2021-02-25T00:00:00\", \"2021-02-26T00:00:00\", \"2021-03-01T00:00:00\", \"2021-03-02T00:00:00\", \"2021-03-03T00:00:00\", \"2021-03-04T00:00:00\", \"2021-03-05T00:00:00\", \"2021-03-08T00:00:00\", \"2021-03-09T00:00:00\", \"2021-03-10T00:00:00\", \"2021-03-11T00:00:00\", \"2021-03-12T00:00:00\", \"2021-03-15T00:00:00\", \"2021-03-16T00:00:00\", \"2021-03-17T00:00:00\", \"2021-03-18T00:00:00\", \"2021-03-19T00:00:00\", \"2021-03-22T00:00:00\", \"2021-03-23T00:00:00\", \"2021-03-24T00:00:00\", \"2021-03-25T00:00:00\", \"2021-03-26T00:00:00\", \"2021-03-29T00:00:00\", \"2021-03-30T00:00:00\", \"2021-03-31T00:00:00\", \"2021-04-01T00:00:00\", \"2021-04-05T00:00:00\", \"2021-04-06T00:00:00\", \"2021-04-07T00:00:00\", \"2021-04-08T00:00:00\", \"2021-04-09T00:00:00\", \"2021-04-12T00:00:00\", \"2021-04-13T00:00:00\", \"2021-04-14T00:00:00\", \"2021-04-15T00:00:00\", \"2021-04-16T00:00:00\", \"2021-04-19T00:00:00\", \"2021-04-20T00:00:00\", \"2021-04-21T00:00:00\", \"2021-04-22T00:00:00\", \"2021-04-23T00:00:00\", \"2021-04-26T00:00:00\", \"2021-04-27T00:00:00\", \"2021-04-28T00:00:00\", \"2021-04-29T00:00:00\", \"2021-04-30T00:00:00\", \"2021-05-03T00:00:00\", \"2021-05-04T00:00:00\", \"2021-05-05T00:00:00\", \"2021-05-06T00:00:00\", \"2021-05-07T00:00:00\", \"2021-05-10T00:00:00\", \"2021-05-11T00:00:00\", \"2021-05-12T00:00:00\", \"2021-05-13T00:00:00\", \"2021-05-14T00:00:00\", \"2021-05-17T00:00:00\", \"2021-05-18T00:00:00\", \"2021-05-19T00:00:00\", \"2021-05-20T00:00:00\", \"2021-05-21T00:00:00\", \"2021-05-24T00:00:00\", \"2021-05-25T00:00:00\", \"2021-05-26T00:00:00\", \"2021-05-27T00:00:00\", \"2021-05-28T00:00:00\", \"2021-06-01T00:00:00\", \"2021-06-02T00:00:00\", \"2021-06-03T00:00:00\", \"2021-06-04T00:00:00\", \"2021-06-07T00:00:00\", \"2021-06-08T00:00:00\", \"2021-06-09T00:00:00\", \"2021-06-10T00:00:00\", \"2021-06-11T00:00:00\", \"2021-06-14T00:00:00\", \"2021-06-15T00:00:00\", \"2021-06-16T00:00:00\", \"2021-06-17T00:00:00\", \"2021-06-18T00:00:00\", \"2021-06-21T00:00:00\", \"2021-06-22T00:00:00\", \"2021-06-23T00:00:00\", \"2021-06-24T00:00:00\", \"2021-06-25T00:00:00\", \"2021-06-28T00:00:00\", \"2021-06-29T00:00:00\", \"2021-06-30T00:00:00\", \"2021-07-01T00:00:00\", \"2021-07-02T00:00:00\", \"2021-07-06T00:00:00\", \"2021-07-07T00:00:00\", \"2021-07-08T00:00:00\", \"2021-07-09T00:00:00\", \"2021-07-12T00:00:00\", \"2021-07-13T00:00:00\", \"2021-07-14T00:00:00\", \"2021-07-15T00:00:00\", \"2021-07-16T00:00:00\", \"2021-07-19T00:00:00\", \"2021-07-20T00:00:00\", \"2021-07-21T00:00:00\", \"2021-07-22T00:00:00\", \"2021-07-23T00:00:00\", \"2021-07-26T00:00:00\", \"2021-07-27T00:00:00\", \"2021-07-28T00:00:00\", \"2021-07-29T00:00:00\", \"2021-07-30T00:00:00\", \"2021-08-02T00:00:00\", \"2021-08-03T00:00:00\", \"2021-08-04T00:00:00\", \"2021-08-05T00:00:00\", \"2021-08-06T00:00:00\", \"2021-08-09T00:00:00\", \"2021-08-10T00:00:00\", \"2021-08-11T00:00:00\", \"2021-08-12T00:00:00\", \"2021-08-13T00:00:00\", \"2021-08-16T00:00:00\", \"2021-08-17T00:00:00\", \"2021-08-18T00:00:00\", \"2021-08-19T00:00:00\", \"2021-08-20T00:00:00\", \"2021-08-23T00:00:00\", \"2021-08-24T00:00:00\", \"2021-08-25T00:00:00\", \"2021-08-26T00:00:00\", \"2021-08-27T00:00:00\", \"2021-08-30T00:00:00\", \"2021-08-31T00:00:00\", \"2021-09-01T00:00:00\", \"2021-09-02T00:00:00\", \"2021-09-03T00:00:00\", \"2021-09-07T00:00:00\", \"2021-09-08T00:00:00\", \"2021-09-09T00:00:00\", \"2021-09-10T00:00:00\", \"2021-09-13T00:00:00\", \"2021-09-14T00:00:00\", \"2021-09-15T00:00:00\", \"2021-09-16T00:00:00\", \"2021-09-17T00:00:00\", \"2021-09-20T00:00:00\", \"2021-09-21T00:00:00\", \"2021-09-22T00:00:00\", \"2021-09-23T00:00:00\", \"2021-09-24T00:00:00\", \"2021-09-27T00:00:00\", \"2021-09-28T00:00:00\", \"2021-09-29T00:00:00\", \"2021-09-30T00:00:00\", \"2021-10-01T00:00:00\", \"2021-10-04T00:00:00\", \"2021-10-05T00:00:00\", \"2021-10-06T00:00:00\", \"2021-10-07T00:00:00\", \"2021-10-08T00:00:00\", \"2021-10-11T00:00:00\", \"2021-10-12T00:00:00\", \"2021-10-13T00:00:00\", \"2021-10-14T00:00:00\", \"2021-10-15T00:00:00\", \"2021-10-18T00:00:00\", \"2021-10-19T00:00:00\", \"2021-10-20T00:00:00\", \"2021-10-21T00:00:00\", \"2021-10-22T00:00:00\", \"2021-10-25T00:00:00\", \"2021-10-26T00:00:00\", \"2021-10-27T00:00:00\", \"2021-10-28T00:00:00\", \"2021-10-29T00:00:00\", \"2021-11-01T00:00:00\", \"2021-11-02T00:00:00\", \"2021-11-03T00:00:00\", \"2021-11-04T00:00:00\", \"2021-11-05T00:00:00\", \"2021-11-08T00:00:00\", \"2021-11-09T00:00:00\", \"2021-11-10T00:00:00\", \"2021-11-11T00:00:00\", \"2021-11-12T00:00:00\", \"2021-11-15T00:00:00\", \"2021-11-16T00:00:00\", \"2021-11-17T00:00:00\", \"2021-11-18T00:00:00\", \"2021-11-19T00:00:00\", \"2021-11-22T00:00:00\", \"2021-11-23T00:00:00\", \"2021-11-24T00:00:00\", \"2021-11-26T00:00:00\", \"2021-11-29T00:00:00\", \"2021-11-30T00:00:00\", \"2021-12-01T00:00:00\", \"2021-12-02T00:00:00\", \"2021-12-03T00:00:00\", \"2021-12-06T00:00:00\", \"2021-12-07T00:00:00\", \"2021-12-08T00:00:00\", \"2021-12-09T00:00:00\", \"2021-12-10T00:00:00\", \"2021-12-13T00:00:00\", \"2021-12-14T00:00:00\", \"2021-12-15T00:00:00\", \"2021-12-16T00:00:00\", \"2021-12-17T00:00:00\", \"2021-12-20T00:00:00\", \"2021-12-21T00:00:00\", \"2021-12-22T00:00:00\", \"2021-12-23T00:00:00\", \"2021-12-27T00:00:00\", \"2021-12-28T00:00:00\", \"2021-12-29T00:00:00\", \"2021-12-30T00:00:00\", \"2021-12-31T00:00:00\", \"2022-01-03T00:00:00\", \"2022-01-04T00:00:00\", \"2022-01-05T00:00:00\", \"2022-01-06T00:00:00\", \"2022-01-07T00:00:00\", \"2022-01-10T00:00:00\", \"2022-01-11T00:00:00\", \"2022-01-12T00:00:00\", \"2022-01-13T00:00:00\", \"2022-01-14T00:00:00\", \"2022-01-18T00:00:00\"], \"xaxis\": \"x4\", \"y\": [1.6280203833597753, 1.59452117655065, 1.408309293783777, 1.4226640596953715, 1.4354472509046197, 1.4217252262688724, 1.47873260324085, 1.5837242387811372, 1.595085622094711, 1.694897415987164, 1.8114180889089333, 1.9343168881059754, 2.075570182975561, 2.350648029379272, 2.511057797074102, 2.655982352671529, 2.8120515283239413, 3.069404381232218, 3.331582073619046, 2.9645522039597765, 2.5217562001496034, 1.74683909943775, 1.328207968241017, 0.8327195292513636, 0.3807816164761988, 0.14740263479002635, 0.07136597718667304, -0.11685486890640817, -0.37965630058396016, -0.6745616300575179, -0.8704041893483279, -0.8854898587435898, -1.1167622650180498, -1.2523259458848628, -1.1843223332163966, -0.9727602313066939, -0.8230433803724111, -0.6457093047845284, -0.37716303075178104, -0.3878214081720941, -0.23360421735063852, -0.253307515900282, -0.1332367647789141, 0.0014422773949931411, 0.2268013538839284, 0.6632300132633162, 0.9980020679171773, 1.1729317654897926, 1.2345953993873664, 1.2237667845054006, 1.0575474590705483, 0.9330160955283091, 0.8176366265007005, 0.719317967756929, 0.6502441212742909, 0.4620779475066712, 0.3720095319836503, -0.02128621598195224, -0.20732946827298804, -0.5258269650473011, -0.768571971725514, -0.8321348301723575, -0.539802193750603, -0.0890310635479139, 0.2753226304913525, 0.3733740370389498, 0.29297703837745814, 0.4069339335840425, 0.4496985139910663, 0.5520674956236533, 0.6925893598165374, 0.7674702412793977, 0.7493857278959268, 0.7976740436170644, 0.7667870322444728, 0.7344477593061143, 0.8184046430101546, 0.9312950625655816, 1.0924909049287521, 1.2224877024794907, 1.4342515449355702, 1.5969811065607686, 1.719638349305221, 1.8366246165775308, 1.9639884325285522, 2.0725046301869554, 1.9041624818339216, 1.789858401550454, 1.6571716453917844, 1.6029336754904833, 1.6442806538252128, 1.7147744975612795, 1.8210612840003222, 1.845291010359631, 1.8302823112726117, 1.8249875851695307, 1.7473921556921255, 1.7113568847849265, 1.7681230141681894, 1.8030181280679187, 1.8092121233815206, 1.8215668978900155, 1.6519410197150322, 1.5871692923517244, 1.3713545492572763, 1.432737745317766, 1.6060980605883515, 1.5558976868626857, 1.4830810300964714, 1.4793292499714994, 1.4034912264503276, 1.2399316579125994, 1.2510182935545302, 1.5027129252189937, 1.7809042619411244, 1.941869844203417, 2.1571349968036984, 2.3055947846178952, 2.0629854221676567, 1.9052375731642925, 1.5202186595579903, 1.46648346150198, 1.5951354386073433, 1.631086371895968, 1.782659383255229, 1.9245739021520123, 2.0959931696970813, 2.2044156288751324, 2.233927283184997, 2.3001948218767154, 2.399291258898664, 2.4128934833437015, 2.3354261841259145, 2.190283251656446, 1.9957662693258555, 1.4967483956211183, 1.054420995631915, 0.7879889547552139, 0.16143406284606243, -0.2786466659256277, -0.3099504574879006, -0.5164141674935365, -0.9917756874046546, -1.5192323529065703, -1.771977646523112, -2.2353881776569793, -2.213212347277299, -2.199733271076582, -1.9291758052800603, -1.785358208676243, -1.5394570760964186, -1.269426763378931, -0.9967315570653739, -1.11593911713193, -1.1531421570401434, -0.9852742528042384, -0.8899897989355097, -0.9862770604960218, -1.0688237153956592, -0.9717440437028273, -0.8866048893845146, -0.8600531597895085, -0.6730958394061943, -0.333877497759147, 0.16544040495082868, 0.5451856605666237, 0.8664084601451876, 1.235441708644366, 1.5866733922931076, 1.8270210990423763, 2.1404900056788776, 2.206934224889551, 2.421704625362473, 2.5811207470674518, 2.554952697402257, 2.4104054244480793, 2.3769806735064734, 2.1653574646950418, 2.1328280484577036, 2.169190298060073, 2.114725540982569, 2.0028828665676954, 1.9359079053472712, 1.779207871793659, 1.565961801646523, 1.158478775629952, 0.7793570616062766, 0.5599954512424574, 0.480666739966253, 0.10192569926701367, -0.21511571379973304, -0.7510298982472747, -1.0881588799713953, -1.1061583839865605, -1.172270260112974, -1.2896822973775386, -1.3534134436105134, -1.1741325401766218, -1.0849053602538916, -0.809984786024458, -0.5658165035459177, -0.32698563910870604, -0.18400453885299584, -0.03039829720484022, 0.05040885277255569, 0.13428469480780336, 0.07043492443129651, 0.22182970840928817, 0.3746109651772187, 0.4948284392259268, 0.5881632826978347, 0.7830192539623013, 0.9610629110187148, 1.211654705510881, 1.3112162412047255, 1.3272121189213166, 1.4869557474794846, 1.4874734614059406, 1.551497784193991, 1.7092205451199618, 1.8212912982525964, 1.9732977183845506, 2.055145704202566, 2.2617769228383224, 2.452536227355786, 2.5525038940666036, 2.6041308416150954, 2.780828672039327, 2.9553829340162423, 3.0911692384226512, 3.072982571339388, 3.109468756004702, 3.1672350552144337, 3.173607390037091, 3.170752850180186, 3.0238923745356985, 2.748330404251064, 2.3810572038165745, 2.227312627983622, 2.1967456268129055, 2.2562530606039246, 2.4522630990802554, 2.6006215341906085, 2.5085301658430055, 2.465626815243226, 2.4302390915126466, 2.294249272186832, 2.159963468676139, 2.122275480015631, 2.0952859517066003, 2.151971930717437, 2.1000651323712844, 2.064582294006371, 1.9314878425790596, 1.7760836668002185, 1.6899282011147534, 1.6574140776872923, 1.622625008316902, 1.4328885335161914, 1.1127487153984248, 0.9230348321568016, 0.9262161578519255, 1.1594641426364234, 1.3848352360722629, 1.5520083443916235, 1.5683743282271507, 1.7276543667044706, 2.0246098052650296, 2.217442660016758, 2.37595876637765, 2.464700116271217, 2.559984852971553, 2.630194278739026, 2.5930052061684705, 2.4701020029590666, 2.212043140507248, 1.9714893360313397, 1.7106965908034084, 1.6141132371817406, 1.531614749464282, 1.2417189560419217, 0.6514391297874624, 0.18832592644304214, -0.020703655767675855, -0.031872976476662984, -0.024306471457535395, -0.15451148456051556, -0.7150477770703247, -1.1795701271384331, -1.5867078482934431, -1.7970670759900855, -2.252509968371001, -2.4009906803268564, -2.3926382749091744, -2.2228162924048007, -2.1438067759787316, -2.170351452655879, -2.217070655191627, -2.1131376256232173, -1.729621222389099, -1.3109160575207852, -0.8055956202419026, -0.27805828328541793, 0.12047399562550254, 0.5330509854904903, 0.7038387174154934, 0.9987428436662356, 1.2726564387921826, 1.5190252437806606, 1.888584585494712, 2.246745888480845, 2.562778246536169, 2.864538173059074, 3.2693414400974348, 3.7929406640206054, 4.185071981063828, 4.416684137722626, 4.4082129312561875, 4.060570938352598, 3.7933802665690166, 3.7438332378616224, 3.6603551507659233, 3.6896494340533934, 3.6785305948603195, 3.8341094302098924, 4.029971821308706, 3.8925993962712795, 3.6476767748891064, 3.476438990959352, 2.92813090549042, 2.863637543035665, 2.4877111225864468, 1.830188041193395, 1.4106449495050128, 0.7491721170491417, 0.3623863783087984, 0.6076412551816901, 0.885802371290211, 0.8012755103498108, 0.9265461488402451, 0.7269543645499823, 0.37203807408710077, 0.5001570878540775, 0.09027727555699983, -0.32521561964070145, -0.826924509724904, -0.8204916043147961, -0.5839363213488298, -0.2387841936237578, 0.34985404902131734, 0.7256836630539425, 1.001097763886719, 1.1416516135284525, 1.1131210940030343, 1.269536095368025, 1.1123732828895925, 0.3730880370221854, -0.22672918813779575, -0.8883324696394084, -1.3754196195659887, -1.4876910702971031, -1.4900958600494505, -1.9169355915406783, -2.14415266373112, -2.7109563467578113], \"yaxis\": \"y4\"}, {\"line\": {\"color\": \"red\", \"width\": 1}, \"name\": \"MACD signal\", \"type\": \"scatter\", \"x\": [\"2020-08-07T00:00:00\", \"2020-08-10T00:00:00\", \"2020-08-11T00:00:00\", \"2020-08-12T00:00:00\", \"2020-08-13T00:00:00\", \"2020-08-14T00:00:00\", \"2020-08-17T00:00:00\", \"2020-08-18T00:00:00\", \"2020-08-19T00:00:00\", \"2020-08-20T00:00:00\", \"2020-08-21T00:00:00\", \"2020-08-24T00:00:00\", \"2020-08-25T00:00:00\", \"2020-08-26T00:00:00\", \"2020-08-27T00:00:00\", \"2020-08-28T00:00:00\", \"2020-08-31T00:00:00\", \"2020-09-01T00:00:00\", \"2020-09-02T00:00:00\", \"2020-09-03T00:00:00\", \"2020-09-04T00:00:00\", \"2020-09-08T00:00:00\", \"2020-09-09T00:00:00\", \"2020-09-10T00:00:00\", \"2020-09-11T00:00:00\", \"2020-09-14T00:00:00\", \"2020-09-15T00:00:00\", \"2020-09-16T00:00:00\", \"2020-09-17T00:00:00\", \"2020-09-18T00:00:00\", \"2020-09-21T00:00:00\", \"2020-09-22T00:00:00\", \"2020-09-23T00:00:00\", \"2020-09-24T00:00:00\", \"2020-09-25T00:00:00\", \"2020-09-28T00:00:00\", \"2020-09-29T00:00:00\", \"2020-09-30T00:00:00\", \"2020-10-01T00:00:00\", \"2020-10-02T00:00:00\", \"2020-10-05T00:00:00\", \"2020-10-06T00:00:00\", \"2020-10-07T00:00:00\", \"2020-10-08T00:00:00\", \"2020-10-09T00:00:00\", \"2020-10-12T00:00:00\", \"2020-10-13T00:00:00\", \"2020-10-14T00:00:00\", \"2020-10-15T00:00:00\", \"2020-10-16T00:00:00\", \"2020-10-19T00:00:00\", \"2020-10-20T00:00:00\", \"2020-10-21T00:00:00\", \"2020-10-22T00:00:00\", \"2020-10-23T00:00:00\", \"2020-10-26T00:00:00\", \"2020-10-27T00:00:00\", \"2020-10-28T00:00:00\", \"2020-10-29T00:00:00\", \"2020-10-30T00:00:00\", \"2020-11-02T00:00:00\", \"2020-11-03T00:00:00\", \"2020-11-04T00:00:00\", \"2020-11-05T00:00:00\", \"2020-11-06T00:00:00\", \"2020-11-09T00:00:00\", \"2020-11-10T00:00:00\", \"2020-11-11T00:00:00\", \"2020-11-12T00:00:00\", \"2020-11-13T00:00:00\", \"2020-11-16T00:00:00\", \"2020-11-17T00:00:00\", \"2020-11-18T00:00:00\", \"2020-11-19T00:00:00\", \"2020-11-20T00:00:00\", \"2020-11-23T00:00:00\", \"2020-11-24T00:00:00\", \"2020-11-25T00:00:00\", \"2020-11-27T00:00:00\", \"2020-11-30T00:00:00\", \"2020-12-01T00:00:00\", \"2020-12-02T00:00:00\", \"2020-12-03T00:00:00\", \"2020-12-04T00:00:00\", \"2020-12-07T00:00:00\", \"2020-12-08T00:00:00\", \"2020-12-09T00:00:00\", \"2020-12-10T00:00:00\", \"2020-12-11T00:00:00\", \"2020-12-14T00:00:00\", \"2020-12-15T00:00:00\", \"2020-12-16T00:00:00\", \"2020-12-17T00:00:00\", \"2020-12-18T00:00:00\", \"2020-12-21T00:00:00\", \"2020-12-22T00:00:00\", \"2020-12-23T00:00:00\", \"2020-12-24T00:00:00\", \"2020-12-28T00:00:00\", \"2020-12-29T00:00:00\", \"2020-12-30T00:00:00\", \"2020-12-31T00:00:00\", \"2021-01-04T00:00:00\", \"2021-01-05T00:00:00\", \"2021-01-06T00:00:00\", \"2021-01-07T00:00:00\", \"2021-01-08T00:00:00\", \"2021-01-11T00:00:00\", \"2021-01-12T00:00:00\", \"2021-01-13T00:00:00\", \"2021-01-14T00:00:00\", \"2021-01-15T00:00:00\", \"2021-01-19T00:00:00\", \"2021-01-20T00:00:00\", \"2021-01-21T00:00:00\", \"2021-01-22T00:00:00\", \"2021-01-25T00:00:00\", \"2021-01-26T00:00:00\", \"2021-01-27T00:00:00\", \"2021-01-28T00:00:00\", \"2021-01-29T00:00:00\", \"2021-02-01T00:00:00\", \"2021-02-02T00:00:00\", \"2021-02-03T00:00:00\", \"2021-02-04T00:00:00\", \"2021-02-05T00:00:00\", \"2021-02-08T00:00:00\", \"2021-02-09T00:00:00\", \"2021-02-10T00:00:00\", \"2021-02-11T00:00:00\", \"2021-02-12T00:00:00\", \"2021-02-16T00:00:00\", \"2021-02-17T00:00:00\", \"2021-02-18T00:00:00\", \"2021-02-19T00:00:00\", \"2021-02-22T00:00:00\", \"2021-02-23T00:00:00\", \"2021-02-24T00:00:00\", \"2021-02-25T00:00:00\", \"2021-02-26T00:00:00\", \"2021-03-01T00:00:00\", \"2021-03-02T00:00:00\", \"2021-03-03T00:00:00\", \"2021-03-04T00:00:00\", \"2021-03-05T00:00:00\", \"2021-03-08T00:00:00\", \"2021-03-09T00:00:00\", \"2021-03-10T00:00:00\", \"2021-03-11T00:00:00\", \"2021-03-12T00:00:00\", \"2021-03-15T00:00:00\", \"2021-03-16T00:00:00\", \"2021-03-17T00:00:00\", \"2021-03-18T00:00:00\", \"2021-03-19T00:00:00\", \"2021-03-22T00:00:00\", \"2021-03-23T00:00:00\", \"2021-03-24T00:00:00\", \"2021-03-25T00:00:00\", \"2021-03-26T00:00:00\", \"2021-03-29T00:00:00\", \"2021-03-30T00:00:00\", \"2021-03-31T00:00:00\", \"2021-04-01T00:00:00\", \"2021-04-05T00:00:00\", \"2021-04-06T00:00:00\", \"2021-04-07T00:00:00\", \"2021-04-08T00:00:00\", \"2021-04-09T00:00:00\", \"2021-04-12T00:00:00\", \"2021-04-13T00:00:00\", \"2021-04-14T00:00:00\", \"2021-04-15T00:00:00\", \"2021-04-16T00:00:00\", \"2021-04-19T00:00:00\", \"2021-04-20T00:00:00\", \"2021-04-21T00:00:00\", \"2021-04-22T00:00:00\", \"2021-04-23T00:00:00\", \"2021-04-26T00:00:00\", \"2021-04-27T00:00:00\", \"2021-04-28T00:00:00\", \"2021-04-29T00:00:00\", \"2021-04-30T00:00:00\", \"2021-05-03T00:00:00\", \"2021-05-04T00:00:00\", \"2021-05-05T00:00:00\", \"2021-05-06T00:00:00\", \"2021-05-07T00:00:00\", \"2021-05-10T00:00:00\", \"2021-05-11T00:00:00\", \"2021-05-12T00:00:00\", \"2021-05-13T00:00:00\", \"2021-05-14T00:00:00\", \"2021-05-17T00:00:00\", \"2021-05-18T00:00:00\", \"2021-05-19T00:00:00\", \"2021-05-20T00:00:00\", \"2021-05-21T00:00:00\", \"2021-05-24T00:00:00\", \"2021-05-25T00:00:00\", \"2021-05-26T00:00:00\", \"2021-05-27T00:00:00\", \"2021-05-28T00:00:00\", \"2021-06-01T00:00:00\", \"2021-06-02T00:00:00\", \"2021-06-03T00:00:00\", \"2021-06-04T00:00:00\", \"2021-06-07T00:00:00\", \"2021-06-08T00:00:00\", \"2021-06-09T00:00:00\", \"2021-06-10T00:00:00\", \"2021-06-11T00:00:00\", \"2021-06-14T00:00:00\", \"2021-06-15T00:00:00\", \"2021-06-16T00:00:00\", \"2021-06-17T00:00:00\", \"2021-06-18T00:00:00\", \"2021-06-21T00:00:00\", \"2021-06-22T00:00:00\", \"2021-06-23T00:00:00\", \"2021-06-24T00:00:00\", \"2021-06-25T00:00:00\", \"2021-06-28T00:00:00\", \"2021-06-29T00:00:00\", \"2021-06-30T00:00:00\", \"2021-07-01T00:00:00\", \"2021-07-02T00:00:00\", \"2021-07-06T00:00:00\", \"2021-07-07T00:00:00\", \"2021-07-08T00:00:00\", \"2021-07-09T00:00:00\", \"2021-07-12T00:00:00\", \"2021-07-13T00:00:00\", \"2021-07-14T00:00:00\", \"2021-07-15T00:00:00\", \"2021-07-16T00:00:00\", \"2021-07-19T00:00:00\", \"2021-07-20T00:00:00\", \"2021-07-21T00:00:00\", \"2021-07-22T00:00:00\", \"2021-07-23T00:00:00\", \"2021-07-26T00:00:00\", \"2021-07-27T00:00:00\", \"2021-07-28T00:00:00\", \"2021-07-29T00:00:00\", \"2021-07-30T00:00:00\", \"2021-08-02T00:00:00\", \"2021-08-03T00:00:00\", \"2021-08-04T00:00:00\", \"2021-08-05T00:00:00\", \"2021-08-06T00:00:00\", \"2021-08-09T00:00:00\", \"2021-08-10T00:00:00\", \"2021-08-11T00:00:00\", \"2021-08-12T00:00:00\", \"2021-08-13T00:00:00\", \"2021-08-16T00:00:00\", \"2021-08-17T00:00:00\", \"2021-08-18T00:00:00\", \"2021-08-19T00:00:00\", \"2021-08-20T00:00:00\", \"2021-08-23T00:00:00\", \"2021-08-24T00:00:00\", \"2021-08-25T00:00:00\", \"2021-08-26T00:00:00\", \"2021-08-27T00:00:00\", \"2021-08-30T00:00:00\", \"2021-08-31T00:00:00\", \"2021-09-01T00:00:00\", \"2021-09-02T00:00:00\", \"2021-09-03T00:00:00\", \"2021-09-07T00:00:00\", \"2021-09-08T00:00:00\", \"2021-09-09T00:00:00\", \"2021-09-10T00:00:00\", \"2021-09-13T00:00:00\", \"2021-09-14T00:00:00\", \"2021-09-15T00:00:00\", \"2021-09-16T00:00:00\", \"2021-09-17T00:00:00\", \"2021-09-20T00:00:00\", \"2021-09-21T00:00:00\", \"2021-09-22T00:00:00\", \"2021-09-23T00:00:00\", \"2021-09-24T00:00:00\", \"2021-09-27T00:00:00\", \"2021-09-28T00:00:00\", \"2021-09-29T00:00:00\", \"2021-09-30T00:00:00\", \"2021-10-01T00:00:00\", \"2021-10-04T00:00:00\", \"2021-10-05T00:00:00\", \"2021-10-06T00:00:00\", \"2021-10-07T00:00:00\", \"2021-10-08T00:00:00\", \"2021-10-11T00:00:00\", \"2021-10-12T00:00:00\", \"2021-10-13T00:00:00\", \"2021-10-14T00:00:00\", \"2021-10-15T00:00:00\", \"2021-10-18T00:00:00\", \"2021-10-19T00:00:00\", \"2021-10-20T00:00:00\", \"2021-10-21T00:00:00\", \"2021-10-22T00:00:00\", \"2021-10-25T00:00:00\", \"2021-10-26T00:00:00\", \"2021-10-27T00:00:00\", \"2021-10-28T00:00:00\", \"2021-10-29T00:00:00\", \"2021-11-01T00:00:00\", \"2021-11-02T00:00:00\", \"2021-11-03T00:00:00\", \"2021-11-04T00:00:00\", \"2021-11-05T00:00:00\", \"2021-11-08T00:00:00\", \"2021-11-09T00:00:00\", \"2021-11-10T00:00:00\", \"2021-11-11T00:00:00\", \"2021-11-12T00:00:00\", \"2021-11-15T00:00:00\", \"2021-11-16T00:00:00\", \"2021-11-17T00:00:00\", \"2021-11-18T00:00:00\", \"2021-11-19T00:00:00\", \"2021-11-22T00:00:00\", \"2021-11-23T00:00:00\", \"2021-11-24T00:00:00\", \"2021-11-26T00:00:00\", \"2021-11-29T00:00:00\", \"2021-11-30T00:00:00\", \"2021-12-01T00:00:00\", \"2021-12-02T00:00:00\", \"2021-12-03T00:00:00\", \"2021-12-06T00:00:00\", \"2021-12-07T00:00:00\", \"2021-12-08T00:00:00\", \"2021-12-09T00:00:00\", \"2021-12-10T00:00:00\", \"2021-12-13T00:00:00\", \"2021-12-14T00:00:00\", \"2021-12-15T00:00:00\", \"2021-12-16T00:00:00\", \"2021-12-17T00:00:00\", \"2021-12-20T00:00:00\", \"2021-12-21T00:00:00\", \"2021-12-22T00:00:00\", \"2021-12-23T00:00:00\", \"2021-12-27T00:00:00\", \"2021-12-28T00:00:00\", \"2021-12-29T00:00:00\", \"2021-12-30T00:00:00\", \"2021-12-31T00:00:00\", \"2022-01-03T00:00:00\", \"2022-01-04T00:00:00\", \"2022-01-05T00:00:00\", \"2022-01-06T00:00:00\", \"2022-01-07T00:00:00\", \"2022-01-10T00:00:00\", \"2022-01-11T00:00:00\", \"2022-01-12T00:00:00\", \"2022-01-13T00:00:00\", \"2022-01-14T00:00:00\", \"2022-01-18T00:00:00\"], \"xaxis\": \"x4\", \"y\": [1.4134008285467377, 1.4496248981475204, 1.4413617772747718, 1.437622233758892, 1.4371872371880376, 1.4340948350042046, 1.4430223886515336, 1.4711627586774543, 1.4959473313609055, 1.5357373482861574, 1.5908734964107127, 1.6595621747497655, 1.7427637763949249, 1.8643406269917944, 1.993684061008256, 2.1261437193409107, 2.263325281137517, 2.424541101156457, 2.605949295648975, 2.677669877311135, 2.6464871418788287, 2.4665575333906133, 2.238887620360694, 1.957654002138828, 1.6422795250063023, 1.3433041469630471, 1.0889165130077723, 0.8477622366249362, 0.6022785291831569, 0.346910497335022, 0.103447559998352, -0.09433992375003636, -0.29882439200363903, -0.4895247027798838, -0.6284842288671864, -0.697339429355088, -0.7224802195585527, -0.7071260366037478, -0.6411334354333544, -0.5904710299811025, -0.5190976674550097, -0.4659396371440642, -0.3993990626710342, -0.3192307946578287, -0.2100243649494773, -0.03537348930691861, 0.17130162213790057, 0.371627650808279, 0.5442212005240965, 0.6801303173203573, 0.7556137456703955, 0.7910942156419782, 0.7964026978137227, 0.7809857518023641, 0.7548374256967495, 0.6962855300587338, 0.6314303304437171, 0.5008870211585833, 0.35924372327226906, 0.18222958560835506, -0.007930725858418752, -0.17277154672120648, -0.2461776761270858, -0.2147483536112514, -0.11673415679073063, -0.01871251802479454, 0.043625393255655995, 0.1162871013213333, 0.18296938385527992, 0.2567890062089546, 0.34394907693047116, 0.42865330980025645, 0.4927997934193906, 0.5537746434589254, 0.5963771212160349, 0.6239912488340508, 0.6628739276692716, 0.7165581546485336, 0.7917447047045774, 0.87789330425956, 0.9891649523947621, 1.1107281832279634, 1.232510216443415, 1.3533330964702381, 1.475464163681901, 1.594872256982912, 1.656730301953114, 1.6833559218725822, 1.6781190665764227, 1.663081988359235, 1.6593217214524307, 1.6704122766742007, 1.7005420781394252, 1.7294918645834665, 1.7496499539212957, 1.7647174801709429, 1.7612524152751796, 1.751273309177129, 1.7546432501753413, 1.764318225753857, 1.7732970052793897, 1.782950983801515, 1.7567489909842184, 1.7228330512577197, 1.652537350857631, 1.6085774297496582, 1.6080815559173969, 1.5976447821064548, 1.5747320317044582, 1.5556514753578665, 1.5252194255763587, 1.468161872043607, 1.4247331563457917, 1.4403291101204323, 1.5084441404845708, 1.5951292812283402, 1.7075304243434117, 1.8271432963983085, 1.8743117215521783, 1.8804968918746012, 1.808441245411279, 1.7400496886294192, 1.711066838625004, 1.6950707452791969, 1.7125884728744034, 1.7549855587299252, 1.8231870809233566, 1.8994327905137118, 1.966331689047969, 2.033104315613718, 2.1063417042707075, 2.1676520600853064, 2.2012068848934283, 2.199022158246032, 2.158370980461997, 2.0260464634938216, 1.8317213699214403, 1.6229748868881952, 1.3306667220797688, 1.0088040444786894, 0.7450531440853714, 0.4927596817695898, 0.1958526079347409, -0.14716438423352135, -0.4721270366914395, -0.8247792648845476, -1.1024658813630979, -1.3219193593057947, -1.443370648500648, -1.511768160535767, -1.5173059436478973, -1.4677301075941043, -1.3735303974883584, -1.3220121414170727, -1.2882381445416868, -1.227645366194197, -1.1601142527424597, -1.1253468142931722, -1.1140421945136696, -1.0855825643515011, -1.0457870293581037, -1.0086402554443847, -0.9415313722367467, -0.8200005973412268, -0.6229123968828157, -0.3892927853929279, -0.13815253628530477, 0.1365663127006294, 0.42658772861912503, 0.7066744027037752, 0.9934375232987958, 1.2361368636169467, 1.473250415966052, 1.6948244821863319, 1.8668501252295169, 1.9755611850732295, 2.0558450827598787, 2.0777475591469114, 2.08876365700907, 2.1048489852192707, 2.1068242963719306, 2.0860360104110836, 2.0560103893983213, 2.000649885877389, 1.9137122690312158, 1.762665570350963, 1.5660038686020257, 1.3648021851301122, 1.1879750960973405, 0.9707652167312752, 0.7335890306250736, 0.436665244850604, 0.13170041988620412, -0.11587134088834881, -0.3271511247332739, -0.5196573592621269, -0.6864085761318042, -0.7839533689407677, -0.8441437672033926, -0.8373119709676057, -0.7830128774832682, -0.6918074298083559, -0.5902468516172839, -0.47827714073479516, -0.372539942033325, -0.27117501466509936, -0.20285302684582018, -0.11791647979479852, -0.019410990800395087, 0.0834368952048693, 0.1843821727034624, 0.3041095889552302, 0.43550025336792714, 0.5907311437965179, 0.7348281632781595, 0.853304954406791, 0.9800351130213298, 1.081522782698252, 1.1755177829974, 1.2822583354219124, 1.3900649279880493, 1.5067114860673496, 1.616398329694393, 1.7454740483231788, 1.8868864841297004, 2.0200099661170814, 2.136834141216684, 2.265633047381213, 2.403583024708219, 2.5411002674511054, 2.6474767282287623, 2.7398751337839506, 2.8253471180700473, 2.8949991724634563, 2.9501499080068028, 2.964898401312582, 2.921584801900279, 2.813479282283538, 2.696245951423555, 2.596345886501425, 2.528327321321925, 2.5131144768735916, 2.530615888336995, 2.526198743838197, 2.514084358119203, 2.497315304797892, 2.4567020982756804, 2.397354372355772, 2.342338593887744, 2.292928065451515, 2.2647368385046995, 2.2318024972780166, 2.1983584566236876, 2.144984333814762, 2.0712042004118536, 1.9949490005524335, 1.9274420159794055, 1.866478614446905, 1.7797605982607623, 1.6463582216882948, 1.5016935437819963, 1.3865980665959823, 1.3411712818040706, 1.3499040726577092, 1.390324927004492, 1.4259348072490239, 1.4862787191401132, 1.5939449363650966, 1.718644481095429, 1.8501073381518736, 1.9730258937757426, 2.090417685614905, 2.198373004239729, 2.2772994446254775, 2.3158599562921953, 2.295096593135206, 2.2303751417144326, 2.1264394315322277, 2.02397419266213, 1.9255023040225605, 1.7887456344264328, 1.5612843334986388, 1.2866926520875197, 1.0252133905164806, 0.8137961171178519, 0.6461755994027746, 0.48603818261011655, 0.2458209906740283, -0.039257232888464, -0.3487473559694598, -0.6384112999735849, -0.9612310336530683, -1.249182962987826, -1.4778740253720957, -1.6268624787786368, -1.7302513382186557, -1.8182713611061003, -1.898031219923206, -1.9410525010632083, -1.8987662453283867, -1.7811962077668666, -1.5860760902618738, -1.3244725288665828, -1.0354832239681657, -0.7217763820764346, -0.43665336217804895, -0.14957412100919207, 0.13487199095108288, 0.4117026415169984, 0.7070790303125412, 1.015012401946202, 1.3245655708641955, 1.632560091303171, 1.959916361062024, 2.3265212216537403, 2.6982313735357577, 3.0419219263731314, 3.315180127349743, 3.4642582895503145, 3.5300826849540554, 3.572832795535569, 3.59033726658164, 3.6101997000759907, 3.6238658790328566, 3.6659145892682643, 3.7387260356763528, 3.769500707795338, 3.745135921214092, 3.691396535163144, 3.5387434092285996, 3.4037222359900126, 3.2205200133092995, 2.942453618886119, 2.6360918850098978, 2.2587079314177467, 1.8794436207959573, 1.625083147673104, 1.4772269923965256, 1.3420366959871828, 1.2589385865577953, 1.1525417421562327, 0.9964410085424065, 0.8971842244047408, 0.7358028346351926, 0.5235991437800138, 0.2534944130790303, 0.03869720960026504, -0.08582949658955392, -0.1164204359963947, -0.0231655389928523, 0.12660430141650666, 0.30150299391054913, 0.46953271783412986, 0.5982503930679108, 0.7325075335279337, 0.8084806834002656, 0.7214021541246496, 0.5317758856721605, 0.2477542146098467, -0.07688055222532036, -0.359042655839677, -0.5852532966816317, -0.8515897556534411, -1.110102337268977, -1.4302731391667438], \"yaxis\": \"y4\"}],\n",
              "                        {\"annotations\": [{\"font\": {\"size\": 12}, \"showarrow\": false, \"text\": \"<b><a href=\\\"https://in.tradingview.com/chart/66XmQfYy/?symbol=TQQQ\\\">TQQQ 2022-01-18</a> </b> <a href=\\\"https://seekingalpha.com/symbol/TQQQ\\\"> Seeking Alpha </a> <a href=\\\"https://news.google.com/search?for=TQQQ+stock when:7d&hl=en-US&gl=US&ceid=US%3Aen\\\"> Google News </a> <b style=\\\"color:red\\\">Earning:None</b><br><b>Last Price:</b>66.7 <b>ATH:</b>88.6 <b>Discount:</b>21.9 (32.8%)<br><b>Support:</b>63.7 (-4.5%) <b>Last Price:</b>66.7 <b>Resistance:</b>67.0 (0.0%) <br><b>Support -15%:</b>54.14 (-19.5%) <b>Last Price:</b>66.7 <b>Resistance +15%:</b>77.05 (15.0%) \", \"x\": 0.5, \"xanchor\": \"center\", \"xref\": \"paper\", \"y\": 1.0, \"yanchor\": \"bottom\", \"yref\": \"paper\"}], \"dragmode\": \"pan\", \"height\": 1400, \"margin\": {\"b\": 20, \"l\": 20, \"r\": 20, \"t\": 100}, \"showlegend\": true, \"template\": {\"data\": {\"bar\": [{\"error_x\": {\"color\": \"#2a3f5f\"}, \"error_y\": {\"color\": \"#2a3f5f\"}, \"marker\": {\"line\": {\"color\": \"#E5ECF6\", \"width\": 0.5}}, \"type\": \"bar\"}], \"barpolar\": [{\"marker\": {\"line\": {\"color\": \"#E5ECF6\", \"width\": 0.5}}, \"type\": \"barpolar\"}], \"carpet\": [{\"aaxis\": {\"endlinecolor\": \"#2a3f5f\", \"gridcolor\": \"white\", \"linecolor\": \"white\", \"minorgridcolor\": \"white\", \"startlinecolor\": \"#2a3f5f\"}, \"baxis\": {\"endlinecolor\": \"#2a3f5f\", \"gridcolor\": \"white\", \"linecolor\": \"white\", \"minorgridcolor\": \"white\", \"startlinecolor\": \"#2a3f5f\"}, \"type\": \"carpet\"}], \"choropleth\": [{\"colorbar\": {\"outlinewidth\": 0, \"ticks\": \"\"}, \"type\": \"choropleth\"}], \"contour\": [{\"colorbar\": {\"outlinewidth\": 0, \"ticks\": \"\"}, \"colorscale\": [[0.0, \"#0d0887\"], [0.1111111111111111, \"#46039f\"], [0.2222222222222222, \"#7201a8\"], [0.3333333333333333, \"#9c179e\"], [0.4444444444444444, \"#bd3786\"], [0.5555555555555556, \"#d8576b\"], [0.6666666666666666, \"#ed7953\"], [0.7777777777777778, \"#fb9f3a\"], [0.8888888888888888, \"#fdca26\"], [1.0, \"#f0f921\"]], \"type\": \"contour\"}], \"contourcarpet\": [{\"colorbar\": {\"outlinewidth\": 0, \"ticks\": \"\"}, \"type\": \"contourcarpet\"}], \"heatmap\": [{\"colorbar\": {\"outlinewidth\": 0, \"ticks\": \"\"}, \"colorscale\": [[0.0, \"#0d0887\"], [0.1111111111111111, \"#46039f\"], [0.2222222222222222, \"#7201a8\"], [0.3333333333333333, \"#9c179e\"], [0.4444444444444444, \"#bd3786\"], [0.5555555555555556, \"#d8576b\"], [0.6666666666666666, \"#ed7953\"], [0.7777777777777778, \"#fb9f3a\"], [0.8888888888888888, \"#fdca26\"], [1.0, \"#f0f921\"]], \"type\": \"heatmap\"}], \"heatmapgl\": [{\"colorbar\": {\"outlinewidth\": 0, \"ticks\": \"\"}, \"colorscale\": [[0.0, \"#0d0887\"], [0.1111111111111111, \"#46039f\"], [0.2222222222222222, \"#7201a8\"], [0.3333333333333333, \"#9c179e\"], [0.4444444444444444, \"#bd3786\"], [0.5555555555555556, \"#d8576b\"], [0.6666666666666666, \"#ed7953\"], [0.7777777777777778, \"#fb9f3a\"], [0.8888888888888888, \"#fdca26\"], [1.0, \"#f0f921\"]], \"type\": \"heatmapgl\"}], \"histogram\": [{\"marker\": {\"colorbar\": {\"outlinewidth\": 0, \"ticks\": \"\"}}, \"type\": \"histogram\"}], \"histogram2d\": [{\"colorbar\": {\"outlinewidth\": 0, \"ticks\": \"\"}, \"colorscale\": [[0.0, \"#0d0887\"], [0.1111111111111111, \"#46039f\"], [0.2222222222222222, \"#7201a8\"], [0.3333333333333333, \"#9c179e\"], [0.4444444444444444, \"#bd3786\"], [0.5555555555555556, \"#d8576b\"], [0.6666666666666666, \"#ed7953\"], [0.7777777777777778, \"#fb9f3a\"], [0.8888888888888888, \"#fdca26\"], [1.0, \"#f0f921\"]], \"type\": \"histogram2d\"}], \"histogram2dcontour\": [{\"colorbar\": {\"outlinewidth\": 0, \"ticks\": \"\"}, \"colorscale\": [[0.0, \"#0d0887\"], [0.1111111111111111, \"#46039f\"], [0.2222222222222222, \"#7201a8\"], [0.3333333333333333, \"#9c179e\"], [0.4444444444444444, \"#bd3786\"], [0.5555555555555556, \"#d8576b\"], [0.6666666666666666, \"#ed7953\"], [0.7777777777777778, \"#fb9f3a\"], [0.8888888888888888, \"#fdca26\"], [1.0, \"#f0f921\"]], \"type\": \"histogram2dcontour\"}], \"mesh3d\": [{\"colorbar\": {\"outlinewidth\": 0, \"ticks\": \"\"}, \"type\": \"mesh3d\"}], \"parcoords\": [{\"line\": {\"colorbar\": {\"outlinewidth\": 0, \"ticks\": \"\"}}, \"type\": \"parcoords\"}], \"pie\": [{\"automargin\": true, \"type\": \"pie\"}], \"scatter\": [{\"marker\": {\"colorbar\": {\"outlinewidth\": 0, \"ticks\": \"\"}}, \"type\": \"scatter\"}], \"scatter3d\": [{\"line\": {\"colorbar\": {\"outlinewidth\": 0, \"ticks\": \"\"}}, \"marker\": {\"colorbar\": {\"outlinewidth\": 0, \"ticks\": \"\"}}, \"type\": \"scatter3d\"}], \"scattercarpet\": [{\"marker\": {\"colorbar\": {\"outlinewidth\": 0, \"ticks\": \"\"}}, \"type\": \"scattercarpet\"}], \"scattergeo\": [{\"marker\": {\"colorbar\": {\"outlinewidth\": 0, \"ticks\": \"\"}}, \"type\": \"scattergeo\"}], \"scattergl\": [{\"marker\": {\"colorbar\": {\"outlinewidth\": 0, \"ticks\": \"\"}}, \"type\": \"scattergl\"}], \"scattermapbox\": [{\"marker\": {\"colorbar\": {\"outlinewidth\": 0, \"ticks\": \"\"}}, \"type\": \"scattermapbox\"}], \"scatterpolar\": [{\"marker\": {\"colorbar\": {\"outlinewidth\": 0, \"ticks\": \"\"}}, \"type\": \"scatterpolar\"}], \"scatterpolargl\": [{\"marker\": {\"colorbar\": {\"outlinewidth\": 0, \"ticks\": \"\"}}, \"type\": \"scatterpolargl\"}], \"scatterternary\": [{\"marker\": {\"colorbar\": {\"outlinewidth\": 0, \"ticks\": \"\"}}, \"type\": \"scatterternary\"}], \"surface\": [{\"colorbar\": {\"outlinewidth\": 0, \"ticks\": \"\"}, \"colorscale\": [[0.0, \"#0d0887\"], [0.1111111111111111, \"#46039f\"], [0.2222222222222222, \"#7201a8\"], [0.3333333333333333, \"#9c179e\"], [0.4444444444444444, \"#bd3786\"], [0.5555555555555556, \"#d8576b\"], [0.6666666666666666, \"#ed7953\"], [0.7777777777777778, \"#fb9f3a\"], [0.8888888888888888, \"#fdca26\"], [1.0, \"#f0f921\"]], \"type\": \"surface\"}], \"table\": [{\"cells\": {\"fill\": {\"color\": \"#EBF0F8\"}, \"line\": {\"color\": \"white\"}}, \"header\": {\"fill\": {\"color\": \"#C8D4E3\"}, \"line\": {\"color\": \"white\"}}, \"type\": \"table\"}]}, \"layout\": {\"annotationdefaults\": {\"arrowcolor\": \"#2a3f5f\", \"arrowhead\": 0, \"arrowwidth\": 1}, \"coloraxis\": {\"colorbar\": {\"outlinewidth\": 0, \"ticks\": \"\"}}, \"colorscale\": {\"diverging\": [[0, \"#8e0152\"], [0.1, \"#c51b7d\"], [0.2, \"#de77ae\"], [0.3, \"#f1b6da\"], [0.4, \"#fde0ef\"], [0.5, \"#f7f7f7\"], [0.6, \"#e6f5d0\"], [0.7, \"#b8e186\"], [0.8, \"#7fbc41\"], [0.9, \"#4d9221\"], [1, \"#276419\"]], \"sequential\": [[0.0, \"#0d0887\"], [0.1111111111111111, \"#46039f\"], [0.2222222222222222, \"#7201a8\"], [0.3333333333333333, \"#9c179e\"], [0.4444444444444444, \"#bd3786\"], [0.5555555555555556, \"#d8576b\"], [0.6666666666666666, \"#ed7953\"], [0.7777777777777778, \"#fb9f3a\"], [0.8888888888888888, \"#fdca26\"], [1.0, \"#f0f921\"]], \"sequentialminus\": [[0.0, \"#0d0887\"], [0.1111111111111111, \"#46039f\"], [0.2222222222222222, \"#7201a8\"], [0.3333333333333333, \"#9c179e\"], [0.4444444444444444, \"#bd3786\"], [0.5555555555555556, \"#d8576b\"], [0.6666666666666666, \"#ed7953\"], [0.7777777777777778, \"#fb9f3a\"], [0.8888888888888888, \"#fdca26\"], [1.0, \"#f0f921\"]]}, \"colorway\": [\"#636efa\", \"#EF553B\", \"#00cc96\", \"#ab63fa\", \"#FFA15A\", \"#19d3f3\", \"#FF6692\", \"#B6E880\", \"#FF97FF\", \"#FECB52\"], \"font\": {\"color\": \"#2a3f5f\"}, \"geo\": {\"bgcolor\": \"white\", \"lakecolor\": \"white\", \"landcolor\": \"#E5ECF6\", \"showlakes\": true, \"showland\": true, \"subunitcolor\": \"white\"}, \"hoverlabel\": {\"align\": \"left\"}, \"hovermode\": \"closest\", \"mapbox\": {\"style\": \"light\"}, \"paper_bgcolor\": \"white\", \"plot_bgcolor\": \"#E5ECF6\", \"polar\": {\"angularaxis\": {\"gridcolor\": \"white\", \"linecolor\": \"white\", \"ticks\": \"\"}, \"bgcolor\": \"#E5ECF6\", \"radialaxis\": {\"gridcolor\": \"white\", \"linecolor\": \"white\", \"ticks\": \"\"}}, \"scene\": {\"xaxis\": {\"backgroundcolor\": \"#E5ECF6\", \"gridcolor\": \"white\", \"gridwidth\": 2, \"linecolor\": \"white\", \"showbackground\": true, \"ticks\": \"\", \"zerolinecolor\": \"white\"}, \"yaxis\": {\"backgroundcolor\": \"#E5ECF6\", \"gridcolor\": \"white\", \"gridwidth\": 2, \"linecolor\": \"white\", \"showbackground\": true, \"ticks\": \"\", \"zerolinecolor\": \"white\"}, \"zaxis\": {\"backgroundcolor\": \"#E5ECF6\", \"gridcolor\": \"white\", \"gridwidth\": 2, \"linecolor\": \"white\", \"showbackground\": true, \"ticks\": \"\", \"zerolinecolor\": \"white\"}}, \"shapedefaults\": {\"line\": {\"color\": \"#2a3f5f\"}}, \"ternary\": {\"aaxis\": {\"gridcolor\": \"white\", \"linecolor\": \"white\", \"ticks\": \"\"}, \"baxis\": {\"gridcolor\": \"white\", \"linecolor\": \"white\", \"ticks\": \"\"}, \"bgcolor\": \"#E5ECF6\", \"caxis\": {\"gridcolor\": \"white\", \"linecolor\": \"white\", \"ticks\": \"\"}}, \"title\": {\"x\": 0.05}, \"xaxis\": {\"automargin\": true, \"gridcolor\": \"white\", \"linecolor\": \"white\", \"ticks\": \"\", \"title\": {\"standoff\": 15}, \"zerolinecolor\": \"white\", \"zerolinewidth\": 2}, \"yaxis\": {\"automargin\": true, \"gridcolor\": \"white\", \"linecolor\": \"white\", \"ticks\": \"\", \"title\": {\"standoff\": 15}, \"zerolinecolor\": \"white\", \"zerolinewidth\": 2}}}, \"width\": 1200, \"xaxis\": {\"anchor\": \"y\", \"domain\": [0.0, 1.0], \"matches\": \"x4\", \"range\": [\"2021-06-01\", \"2022-01-31\"], \"rangeslider\": {\"visible\": false}, \"showspikes\": true, \"showticklabels\": false, \"spikedash\": \"dash\", \"spikemode\": \"across\", \"spikesnap\": \"cursor\", \"type\": \"date\"}, \"xaxis2\": {\"anchor\": \"y2\", \"domain\": [0.0, 1.0], \"matches\": \"x4\", \"range\": [\"2021-06-01\", \"2022-01-31\"], \"showspikes\": true, \"showticklabels\": false, \"spikedash\": \"dash\", \"spikemode\": \"across\", \"spikesnap\": \"cursor\", \"type\": \"date\"}, \"xaxis3\": {\"anchor\": \"y3\", \"domain\": [0.0, 1.0], \"matches\": \"x4\", \"range\": [\"2021-06-01\", \"2022-01-31\"], \"showspikes\": true, \"showticklabels\": false, \"spikedash\": \"dash\", \"spikemode\": \"across\", \"spikesnap\": \"cursor\", \"type\": \"date\"}, \"xaxis4\": {\"anchor\": \"y4\", \"domain\": [0.0, 1.0], \"range\": [\"2021-06-01\", \"2022-01-31\"], \"showspikes\": true, \"spikedash\": \"dash\", \"spikemode\": \"across\", \"spikesnap\": \"cursor\", \"type\": \"date\"}, \"yaxis\": {\"anchor\": \"x\", \"domain\": [0.639836400817996, 1.0], \"range\": [48.689998626708984, 91.68000030517578], \"showspikes\": true, \"spikedash\": \"dash\", \"spikemode\": \"across\", \"spikesnap\": \"cursor\"}, \"yaxis2\": {\"anchor\": \"x2\", \"domain\": [0.5791656441717792, 0.627836400817996], \"showspikes\": true, \"spikedash\": \"dash\", \"spikemode\": \"across\", \"spikesnap\": \"cursor\"}, \"yaxis3\": {\"anchor\": \"x3\", \"domain\": [0.3724826175869121, 0.5671656441717792], \"showspikes\": true, \"spikedash\": \"dash\", \"spikemode\": \"across\", \"spikesnap\": \"cursor\"}, \"yaxis4\": {\"anchor\": \"x4\", \"domain\": [0.0, 0.19468302658486708], \"showspikes\": true, \"spikedash\": \"dash\", \"spikemode\": \"across\", \"spikesnap\": \"cursor\"}},\n",
              "                        {\"responsive\": true}\n",
              "                    ).then(function(){\n",
              "                            \n",
              "var gd = document.getElementById('b522fc63-3340-4bf1-a4d0-1ef17ab233db');\n",
              "var x = new MutationObserver(function (mutations, observer) {{\n",
              "        var display = window.getComputedStyle(gd).display;\n",
              "        if (!display || display === 'none') {{\n",
              "            console.log([gd, 'removed!']);\n",
              "            Plotly.purge(gd);\n",
              "            observer.disconnect();\n",
              "        }}\n",
              "}});\n",
              "\n",
              "// Listen for the removal of the full notebook cells\n",
              "var notebookContainer = gd.closest('#notebook-container');\n",
              "if (notebookContainer) {{\n",
              "    x.observe(notebookContainer, {childList: true});\n",
              "}}\n",
              "\n",
              "// Listen for the clearing of the current output cell\n",
              "var outputEl = gd.closest('.output');\n",
              "if (outputEl) {{\n",
              "    x.observe(outputEl, {childList: true});\n",
              "}}\n",
              "\n",
              "                        })\n",
              "                };\n",
              "                \n",
              "            </script>\n",
              "        </div>\n",
              "</body>\n",
              "</html>"
            ]
          },
          "metadata": {}
        },
        {
          "output_type": "stream",
          "name": "stdout",
          "text": [
            "/content/drive/MyDrive/models/chart/2022-01-18/TQQQ.html\n"
          ]
        }
      ],
      "source": [
        "ticker = yf.Ticker('TQQQ')\n",
        "df = get_stock_price(ticker,\"2018-01-01\")\n",
        "\n",
        "#print(ticker.recommendations)\n",
        "#print(ticker.calendar)\n",
        "#print(get_earning(ticker))\n",
        "\n",
        "macd, soch, rsi = indicators(df)\n",
        "df['RSI'] = rsi.rsi().to_numpy()\n",
        "df['MACD_DIFF'] = macd.macd_diff().to_numpy()\n",
        "df['MACD'] = macd.macd().to_numpy()\n",
        "df['MACD_SIGNAL'] = macd.macd_signal().to_numpy()\n",
        "\n",
        "indicators_test_prediction, indicators_prediction = get_prediction_data(df,ticker)\n",
        "#print(prediction_data)\n",
        "#print(forecast_data)\n",
        "#fig = get_chart(ticker, df, None, None)\n",
        "#news_df = get_news(ticker)\n",
        "fig, chartPath, last_date = get_chart(ticker, df, indicators_test_prediction, indicators_prediction,None)\n",
        "fig.show()\n",
        "print(chartPath)\n",
        "if upload_chart is True:\n",
        "    sftp(username,password,chartPath,\"/home/nexys/vagrant/www/nexys.hu/stonks/\"+ticker.ticker + \"_\"+ str(last_date)+ \".html\")"
      ]
    },
    {
      "cell_type": "code",
      "execution_count": 25,
      "metadata": {
        "id": "6N7QKxi9Nqx8"
      },
      "outputs": [],
      "source": [
        "def save_charts(symbols, predict):\n",
        "  error_log = []\n",
        "  for symbol in symbols:    \n",
        "    try:      \n",
        "        ticker = yf.Ticker(symbol)\n",
        "        df = get_stock_price(ticker,\"2019-01-01\")\n",
        "        #print(list(df.columns))\n",
        "        macd, soch, rsi = indicators(df)\n",
        "        df['RSI'] = rsi.rsi().to_numpy()\n",
        "        df['MACD_DIFF'] = macd.macd_diff().to_numpy()\n",
        "        df['MACD'] = macd.macd().to_numpy()\n",
        "        df['MACD_SIGNAL'] = macd.macd_signal().to_numpy()\n",
        "        if predict is True:\n",
        "          indicators_test_prediction, indicators_prediction = get_prediction_data(df,ticker)\n",
        "          fig, chartPath, last_date = get_chart(ticker, df, indicators_test_prediction, indicators_prediction, None)\n",
        "        else:\n",
        "          fig, chartPath, last_date = get_chart(ticker, df, None, None, None)\n",
        "        if upload_chart is True:\n",
        "            sftp(username,password,chartPath,\"/home/nexys/vagrant/www/nexys.hu/stonks/\"+ticker.ticker + \"_\"+ str(last_date) + \".html\")\n",
        "    except Exception as e:\n",
        "      print('Error ticker:' + symbol,e)\n",
        "      error_log.append(symbol)\n",
        "  if len(error_log) > 0:\n",
        "    print('Errors:', error_log)\n",
        "  return None"
      ]
    },
    {
      "cell_type": "code",
      "execution_count": 33,
      "metadata": {
        "id": "CMcLhG4wzKd6",
        "colab": {
          "base_uri": "https://localhost:8080/"
        },
        "outputId": "b01b1c5d-5a9b-4403-e54f-bbc72e28d970"
      },
      "outputs": [
        {
          "metadata": {
            "tags": null
          },
          "name": "stdout",
          "output_type": "stream",
          "text": [
            "\r[*********************100%***********************]  1 of 1 completed\n",
            "Get Stock Price ABBV done.\n",
            "Get prediction data ABBV done.\n",
            "Get options ABBV done.\n",
            "Value    2022-02-02 13:30:00\n",
            "Name: Earnings Date, dtype: object\n",
            "Get calendar ABBV done.\n"
          ]
        },
        {
          "metadata": {
            "tags": null
          },
          "name": "stderr",
          "output_type": "stream",
          "text": [
            "/usr/local/lib/python3.7/dist-packages/ipykernel_launcher.py:243: RuntimeWarning:\n",
            "\n",
            "divide by zero encountered in double_scalars\n",
            "\n",
            "/usr/local/lib/python3.7/dist-packages/ipykernel_launcher.py:244: RuntimeWarning:\n",
            "\n",
            "divide by zero encountered in double_scalars\n",
            "\n"
          ]
        },
        {
          "metadata": {
            "tags": null
          },
          "name": "stdout",
          "output_type": "stream",
          "text": [
            "Chart saved: /content/drive/MyDrive/models/chart/2022-01-18/ABBV.html\n",
            "Get chart ABBV done.\n",
            "[*********************100%***********************]  1 of 1 completed\n",
            "Get Stock Price AFRM done.\n",
            "Get prediction data AFRM done.\n",
            "Get options AFRM done.\n",
            "0    2022-02-09 00:00:00\n",
            "1    2022-02-14 00:00:00\n",
            "Name: Earnings Date, dtype: object\n",
            "Get calendar AFRM done.\n"
          ]
        },
        {
          "metadata": {
            "tags": null
          },
          "name": "stderr",
          "output_type": "stream",
          "text": [
            "/usr/local/lib/python3.7/dist-packages/ipykernel_launcher.py:243: RuntimeWarning:\n",
            "\n",
            "divide by zero encountered in double_scalars\n",
            "\n",
            "/usr/local/lib/python3.7/dist-packages/ipykernel_launcher.py:244: RuntimeWarning:\n",
            "\n",
            "divide by zero encountered in double_scalars\n",
            "\n"
          ]
        },
        {
          "metadata": {
            "tags": null
          },
          "name": "stdout",
          "output_type": "stream",
          "text": [
            "Chart saved: /content/drive/MyDrive/models/chart/2022-01-18/AFRM.html\n",
            "Get chart AFRM done.\n",
            "[*********************100%***********************]  1 of 1 completed\n",
            "Get Stock Price AMD done.\n",
            "Get prediction data AMD done.\n",
            "Get options AMD done.\n",
            "0    2022-01-24 10:59:00\n",
            "1    2022-01-28 12:00:00\n",
            "Name: Earnings Date, dtype: object\n",
            "Get calendar AMD done.\n"
          ]
        },
        {
          "metadata": {
            "tags": null
          },
          "name": "stderr",
          "output_type": "stream",
          "text": [
            "/usr/local/lib/python3.7/dist-packages/ipykernel_launcher.py:243: RuntimeWarning:\n",
            "\n",
            "divide by zero encountered in double_scalars\n",
            "\n",
            "/usr/local/lib/python3.7/dist-packages/ipykernel_launcher.py:244: RuntimeWarning:\n",
            "\n",
            "divide by zero encountered in double_scalars\n",
            "\n"
          ]
        },
        {
          "metadata": {
            "tags": null
          },
          "name": "stdout",
          "output_type": "stream",
          "text": [
            "Chart saved: /content/drive/MyDrive/models/chart/2022-01-18/AMD.html\n",
            "Get chart AMD done.\n",
            "[*********************100%***********************]  1 of 1 completed\n",
            "Get Stock Price AMZN done.\n",
            "Get prediction data AMZN done.\n",
            "Get options AMZN done.\n",
            "0    2022-01-31 10:59:00\n",
            "1    2022-02-04 12:00:00\n",
            "Name: Earnings Date, dtype: object\n",
            "Get calendar AMZN done.\n"
          ]
        },
        {
          "metadata": {
            "tags": null
          },
          "name": "stderr",
          "output_type": "stream",
          "text": [
            "/usr/local/lib/python3.7/dist-packages/ipykernel_launcher.py:243: RuntimeWarning:\n",
            "\n",
            "divide by zero encountered in double_scalars\n",
            "\n",
            "/usr/local/lib/python3.7/dist-packages/ipykernel_launcher.py:244: RuntimeWarning:\n",
            "\n",
            "divide by zero encountered in double_scalars\n",
            "\n"
          ]
        },
        {
          "metadata": {
            "tags": null
          },
          "name": "stdout",
          "output_type": "stream",
          "text": [
            "Chart saved: /content/drive/MyDrive/models/chart/2022-01-18/AMZN.html\n",
            "Get chart AMZN done.\n",
            "[*********************100%***********************]  1 of 1 completed\n",
            "Get Stock Price APPS done.\n",
            "Get prediction data APPS done.\n",
            "Get options APPS done.\n",
            "0    2022-02-01 21:00:00\n",
            "1    2022-02-07 21:00:00\n",
            "Name: Earnings Date, dtype: object\n",
            "Get calendar APPS done.\n"
          ]
        },
        {
          "metadata": {
            "tags": null
          },
          "name": "stderr",
          "output_type": "stream",
          "text": [
            "/usr/local/lib/python3.7/dist-packages/ipykernel_launcher.py:243: RuntimeWarning:\n",
            "\n",
            "divide by zero encountered in double_scalars\n",
            "\n",
            "/usr/local/lib/python3.7/dist-packages/ipykernel_launcher.py:244: RuntimeWarning:\n",
            "\n",
            "divide by zero encountered in double_scalars\n",
            "\n"
          ]
        },
        {
          "metadata": {
            "tags": null
          },
          "name": "stdout",
          "output_type": "stream",
          "text": [
            "Chart saved: /content/drive/MyDrive/models/chart/2022-01-18/APPS.html\n",
            "Get chart APPS done.\n",
            "[*********************100%***********************]  1 of 1 completed\n",
            "Get Stock Price ASTR done.\n",
            "Get prediction data ASTR done.\n",
            "Get options ASTR done.\n",
            "Value    2021-11-11 00:00:00\n",
            "Name: Earnings Date, dtype: object\n",
            "Get calendar ASTR done.\n"
          ]
        },
        {
          "metadata": {
            "tags": null
          },
          "name": "stderr",
          "output_type": "stream",
          "text": [
            "/usr/local/lib/python3.7/dist-packages/ipykernel_launcher.py:243: RuntimeWarning:\n",
            "\n",
            "divide by zero encountered in double_scalars\n",
            "\n",
            "/usr/local/lib/python3.7/dist-packages/ipykernel_launcher.py:244: RuntimeWarning:\n",
            "\n",
            "divide by zero encountered in double_scalars\n",
            "\n"
          ]
        },
        {
          "metadata": {
            "tags": null
          },
          "name": "stdout",
          "output_type": "stream",
          "text": [
            "Chart saved: /content/drive/MyDrive/models/chart/2022-01-18/ASTR.html\n",
            "Get chart ASTR done.\n",
            "[*********************100%***********************]  1 of 1 completed\n",
            "Get Stock Price ATVI done.\n",
            "Get prediction data ATVI done.\n",
            "Get options ATVI done.\n",
            "0    2022-02-02 00:00:00\n",
            "1    2022-02-07 00:00:00\n",
            "Name: Earnings Date, dtype: object\n",
            "Get calendar ATVI done.\n"
          ]
        },
        {
          "metadata": {
            "tags": null
          },
          "name": "stderr",
          "output_type": "stream",
          "text": [
            "/usr/local/lib/python3.7/dist-packages/ipykernel_launcher.py:243: RuntimeWarning:\n",
            "\n",
            "divide by zero encountered in double_scalars\n",
            "\n",
            "/usr/local/lib/python3.7/dist-packages/ipykernel_launcher.py:244: RuntimeWarning:\n",
            "\n",
            "divide by zero encountered in double_scalars\n",
            "\n"
          ]
        },
        {
          "metadata": {
            "tags": null
          },
          "name": "stdout",
          "output_type": "stream",
          "text": [
            "Chart saved: /content/drive/MyDrive/models/chart/2022-01-18/ATVI.html\n",
            "Get chart ATVI done.\n",
            "[*********************100%***********************]  1 of 1 completed\n",
            "Get Stock Price BNGO done.\n",
            "Get prediction data BNGO done.\n",
            "Get options BNGO done.\n",
            "0    2022-03-21 10:59:00\n",
            "1    2022-03-25 12:00:00\n",
            "Name: Earnings Date, dtype: object\n",
            "Get calendar BNGO done.\n"
          ]
        },
        {
          "metadata": {
            "tags": null
          },
          "name": "stderr",
          "output_type": "stream",
          "text": [
            "/usr/local/lib/python3.7/dist-packages/ipykernel_launcher.py:243: RuntimeWarning:\n",
            "\n",
            "divide by zero encountered in double_scalars\n",
            "\n",
            "/usr/local/lib/python3.7/dist-packages/ipykernel_launcher.py:244: RuntimeWarning:\n",
            "\n",
            "divide by zero encountered in double_scalars\n",
            "\n"
          ]
        },
        {
          "metadata": {
            "tags": null
          },
          "name": "stdout",
          "output_type": "stream",
          "text": [
            "Chart saved: /content/drive/MyDrive/models/chart/2022-01-18/BNGO.html\n",
            "Get chart BNGO done.\n",
            "[*********************100%***********************]  1 of 1 completed\n",
            "Get Stock Price CAT done.\n",
            "Get prediction data CAT done.\n",
            "Get options CAT done.\n",
            "0    2022-01-27 00:00:00\n",
            "1    2022-01-31 00:00:00\n",
            "Name: Earnings Date, dtype: object\n",
            "Get calendar CAT done.\n"
          ]
        },
        {
          "metadata": {
            "tags": null
          },
          "name": "stderr",
          "output_type": "stream",
          "text": [
            "/usr/local/lib/python3.7/dist-packages/ipykernel_launcher.py:243: RuntimeWarning:\n",
            "\n",
            "divide by zero encountered in double_scalars\n",
            "\n",
            "/usr/local/lib/python3.7/dist-packages/ipykernel_launcher.py:244: RuntimeWarning:\n",
            "\n",
            "divide by zero encountered in double_scalars\n",
            "\n"
          ]
        },
        {
          "metadata": {
            "tags": null
          },
          "name": "stdout",
          "output_type": "stream",
          "text": [
            "Chart saved: /content/drive/MyDrive/models/chart/2022-01-18/CAT.html\n",
            "Get chart CAT done.\n",
            "[*********************100%***********************]  1 of 1 completed\n",
            "Get Stock Price CCL done.\n",
            "Get prediction data CCL done.\n",
            "Get options CCL done.\n",
            "0    2022-04-05 00:00:00\n",
            "1    2022-04-11 00:00:00\n",
            "Name: Earnings Date, dtype: object\n",
            "Get calendar CCL done.\n"
          ]
        },
        {
          "metadata": {
            "tags": null
          },
          "name": "stderr",
          "output_type": "stream",
          "text": [
            "/usr/local/lib/python3.7/dist-packages/ipykernel_launcher.py:243: RuntimeWarning:\n",
            "\n",
            "divide by zero encountered in double_scalars\n",
            "\n",
            "/usr/local/lib/python3.7/dist-packages/ipykernel_launcher.py:244: RuntimeWarning:\n",
            "\n",
            "divide by zero encountered in double_scalars\n",
            "\n"
          ]
        },
        {
          "metadata": {
            "tags": null
          },
          "name": "stdout",
          "output_type": "stream",
          "text": [
            "Chart saved: /content/drive/MyDrive/models/chart/2022-01-18/CCL.html\n",
            "Get chart CCL done.\n",
            "[*********************100%***********************]  1 of 1 completed\n",
            "Get Stock Price CHWY done.\n",
            "Get prediction data CHWY done.\n",
            "Get options CHWY done.\n",
            "0    2022-03-28 10:59:00\n",
            "1    2022-04-01 12:00:00\n",
            "Name: Earnings Date, dtype: object\n",
            "Get calendar CHWY done.\n"
          ]
        },
        {
          "metadata": {
            "tags": null
          },
          "name": "stderr",
          "output_type": "stream",
          "text": [
            "/usr/local/lib/python3.7/dist-packages/ipykernel_launcher.py:243: RuntimeWarning:\n",
            "\n",
            "divide by zero encountered in double_scalars\n",
            "\n",
            "/usr/local/lib/python3.7/dist-packages/ipykernel_launcher.py:244: RuntimeWarning:\n",
            "\n",
            "divide by zero encountered in double_scalars\n",
            "\n"
          ]
        },
        {
          "metadata": {
            "tags": null
          },
          "name": "stdout",
          "output_type": "stream",
          "text": [
            "Chart saved: /content/drive/MyDrive/models/chart/2022-01-18/CHWY.html\n",
            "Get chart CHWY done.\n",
            "[*********************100%***********************]  1 of 1 completed\n",
            "Get Stock Price COST done.\n",
            "Get prediction data COST done.\n",
            "Get options COST done.\n",
            "Value    2022-03-03 16:15:00\n",
            "Name: Earnings Date, dtype: object\n",
            "Get calendar COST done.\n"
          ]
        },
        {
          "metadata": {
            "tags": null
          },
          "name": "stderr",
          "output_type": "stream",
          "text": [
            "/usr/local/lib/python3.7/dist-packages/ipykernel_launcher.py:243: RuntimeWarning:\n",
            "\n",
            "divide by zero encountered in double_scalars\n",
            "\n",
            "/usr/local/lib/python3.7/dist-packages/ipykernel_launcher.py:244: RuntimeWarning:\n",
            "\n",
            "divide by zero encountered in double_scalars\n",
            "\n"
          ]
        },
        {
          "metadata": {
            "tags": null
          },
          "name": "stdout",
          "output_type": "stream",
          "text": [
            "Chart saved: /content/drive/MyDrive/models/chart/2022-01-18/COST.html\n",
            "Get chart COST done.\n",
            "[*********************100%***********************]  1 of 1 completed\n",
            "Get Stock Price CRM done.\n",
            "Get prediction data CRM done.\n",
            "Get options CRM done.\n",
            "0    2022-02-23 10:59:00\n",
            "1    2022-02-28 12:00:00\n",
            "Name: Earnings Date, dtype: object\n",
            "Get calendar CRM done.\n"
          ]
        },
        {
          "metadata": {
            "tags": null
          },
          "name": "stderr",
          "output_type": "stream",
          "text": [
            "/usr/local/lib/python3.7/dist-packages/ipykernel_launcher.py:243: RuntimeWarning:\n",
            "\n",
            "divide by zero encountered in double_scalars\n",
            "\n",
            "/usr/local/lib/python3.7/dist-packages/ipykernel_launcher.py:244: RuntimeWarning:\n",
            "\n",
            "divide by zero encountered in double_scalars\n",
            "\n"
          ]
        },
        {
          "metadata": {
            "tags": null
          },
          "name": "stdout",
          "output_type": "stream",
          "text": [
            "Chart saved: /content/drive/MyDrive/models/chart/2022-01-18/CRM.html\n",
            "Get chart CRM done.\n",
            "[*********************100%***********************]  1 of 1 completed\n",
            "Get Stock Price DIA done.\n",
            "Get prediction data DIA done.\n",
            "Get options DIA done.\n"
          ]
        },
        {
          "metadata": {
            "tags": null
          },
          "name": "stderr",
          "output_type": "stream",
          "text": [
            "/usr/local/lib/python3.7/dist-packages/ipykernel_launcher.py:243: RuntimeWarning:\n",
            "\n",
            "divide by zero encountered in double_scalars\n",
            "\n",
            "/usr/local/lib/python3.7/dist-packages/ipykernel_launcher.py:244: RuntimeWarning:\n",
            "\n",
            "divide by zero encountered in double_scalars\n",
            "\n"
          ]
        },
        {
          "metadata": {
            "tags": null
          },
          "name": "stdout",
          "output_type": "stream",
          "text": [
            "Chart saved: /content/drive/MyDrive/models/chart/2022-01-18/DIA.html\n",
            "Get chart DIA done.\n",
            "[*********************100%***********************]  1 of 1 completed\n",
            "Get Stock Price DIS done.\n",
            "Get prediction data DIS done.\n",
            "Get options DIS done.\n",
            "0    2022-02-09 00:00:00\n",
            "1    2022-02-14 00:00:00\n",
            "Name: Earnings Date, dtype: object\n",
            "Get calendar DIS done.\n"
          ]
        },
        {
          "metadata": {
            "tags": null
          },
          "name": "stderr",
          "output_type": "stream",
          "text": [
            "/usr/local/lib/python3.7/dist-packages/ipykernel_launcher.py:243: RuntimeWarning:\n",
            "\n",
            "divide by zero encountered in double_scalars\n",
            "\n",
            "/usr/local/lib/python3.7/dist-packages/ipykernel_launcher.py:244: RuntimeWarning:\n",
            "\n",
            "divide by zero encountered in double_scalars\n",
            "\n"
          ]
        },
        {
          "metadata": {
            "tags": null
          },
          "name": "stdout",
          "output_type": "stream",
          "text": [
            "Chart saved: /content/drive/MyDrive/models/chart/2022-01-18/DIS.html\n",
            "Get chart DIS done.\n",
            "[*********************100%***********************]  1 of 1 completed\n",
            "Get Stock Price DKNG done.\n",
            "Get prediction data DKNG done.\n",
            "Get options DKNG done.\n",
            "0    2022-02-24 00:00:00\n",
            "1    2022-02-28 00:00:00\n",
            "Name: Earnings Date, dtype: object\n",
            "Get calendar DKNG done.\n"
          ]
        },
        {
          "metadata": {
            "tags": null
          },
          "name": "stderr",
          "output_type": "stream",
          "text": [
            "/usr/local/lib/python3.7/dist-packages/ipykernel_launcher.py:243: RuntimeWarning:\n",
            "\n",
            "divide by zero encountered in double_scalars\n",
            "\n",
            "/usr/local/lib/python3.7/dist-packages/ipykernel_launcher.py:244: RuntimeWarning:\n",
            "\n",
            "divide by zero encountered in double_scalars\n",
            "\n"
          ]
        },
        {
          "metadata": {
            "tags": null
          },
          "name": "stdout",
          "output_type": "stream",
          "text": [
            "Chart saved: /content/drive/MyDrive/models/chart/2022-01-18/DKNG.html\n",
            "Get chart DKNG done.\n",
            "[*********************100%***********************]  1 of 1 completed\n",
            "Get Stock Price ETSY done.\n",
            "Get prediction data ETSY done.\n",
            "Get options ETSY done.\n",
            "0    2022-02-23 00:00:00\n",
            "1    2022-02-28 00:00:00\n",
            "Name: Earnings Date, dtype: object\n",
            "Get calendar ETSY done.\n"
          ]
        },
        {
          "metadata": {
            "tags": null
          },
          "name": "stderr",
          "output_type": "stream",
          "text": [
            "/usr/local/lib/python3.7/dist-packages/ipykernel_launcher.py:243: RuntimeWarning:\n",
            "\n",
            "divide by zero encountered in double_scalars\n",
            "\n",
            "/usr/local/lib/python3.7/dist-packages/ipykernel_launcher.py:244: RuntimeWarning:\n",
            "\n",
            "divide by zero encountered in double_scalars\n",
            "\n"
          ]
        },
        {
          "metadata": {
            "tags": null
          },
          "name": "stdout",
          "output_type": "stream",
          "text": [
            "Chart saved: /content/drive/MyDrive/models/chart/2022-01-18/ETSY.html\n",
            "Get chart ETSY done.\n",
            "[*********************100%***********************]  1 of 1 completed\n",
            "Get Stock Price FFND done.\n",
            "Error ticker:FFND `start_index+length=14 > end_index=8` is disallowed, as no part of the sequence would be left to be used as current step.\n",
            "[*********************100%***********************]  1 of 1 completed\n",
            "Get Stock Price HOG done.\n",
            "Get prediction data HOG done.\n",
            "Get options HOG done.\n",
            "0    2022-01-31 00:00:00\n",
            "1    2022-02-04 00:00:00\n",
            "Name: Earnings Date, dtype: object\n",
            "Get calendar HOG done.\n"
          ]
        },
        {
          "metadata": {
            "tags": null
          },
          "name": "stderr",
          "output_type": "stream",
          "text": [
            "/usr/local/lib/python3.7/dist-packages/ipykernel_launcher.py:243: RuntimeWarning:\n",
            "\n",
            "divide by zero encountered in double_scalars\n",
            "\n",
            "/usr/local/lib/python3.7/dist-packages/ipykernel_launcher.py:244: RuntimeWarning:\n",
            "\n",
            "divide by zero encountered in double_scalars\n",
            "\n"
          ]
        },
        {
          "metadata": {
            "tags": null
          },
          "name": "stdout",
          "output_type": "stream",
          "text": [
            "Chart saved: /content/drive/MyDrive/models/chart/2022-01-18/HOG.html\n",
            "Get chart HOG done.\n",
            "[*********************100%***********************]  1 of 1 completed\n",
            "Get Stock Price HUT done.\n",
            "Get prediction data HUT done.\n",
            "Get options HUT done.\n",
            "0   2022-03-23\n",
            "1   2022-03-28\n",
            "Name: Earnings Date, dtype: datetime64[ns]\n",
            "Get calendar HUT done.\n"
          ]
        },
        {
          "metadata": {
            "tags": null
          },
          "name": "stderr",
          "output_type": "stream",
          "text": [
            "/usr/local/lib/python3.7/dist-packages/ipykernel_launcher.py:243: RuntimeWarning:\n",
            "\n",
            "divide by zero encountered in double_scalars\n",
            "\n",
            "/usr/local/lib/python3.7/dist-packages/ipykernel_launcher.py:244: RuntimeWarning:\n",
            "\n",
            "divide by zero encountered in double_scalars\n",
            "\n"
          ]
        },
        {
          "metadata": {
            "tags": null
          },
          "name": "stdout",
          "output_type": "stream",
          "text": [
            "Chart saved: /content/drive/MyDrive/models/chart/2022-01-18/HUT.html\n",
            "Get chart HUT done.\n",
            "[*********************100%***********************]  1 of 1 completed\n",
            "Get Stock Price IWM done.\n",
            "Get prediction data IWM done.\n",
            "Get options IWM done.\n"
          ]
        },
        {
          "metadata": {
            "tags": null
          },
          "name": "stderr",
          "output_type": "stream",
          "text": [
            "/usr/local/lib/python3.7/dist-packages/ipykernel_launcher.py:243: RuntimeWarning:\n",
            "\n",
            "divide by zero encountered in double_scalars\n",
            "\n",
            "/usr/local/lib/python3.7/dist-packages/ipykernel_launcher.py:244: RuntimeWarning:\n",
            "\n",
            "divide by zero encountered in double_scalars\n",
            "\n"
          ]
        },
        {
          "metadata": {
            "tags": null
          },
          "name": "stdout",
          "output_type": "stream",
          "text": [
            "Chart saved: /content/drive/MyDrive/models/chart/2022-01-18/IWM.html\n",
            "Get chart IWM done.\n",
            "[*********************100%***********************]  1 of 1 completed\n",
            "Get Stock Price JETS done.\n",
            "Get prediction data JETS done.\n",
            "Get options JETS error.\n",
            "Error ticker:JETS name 'CALL' is not defined\n",
            "[*********************100%***********************]  1 of 1 completed\n",
            "Get Stock Price LOGI done.\n",
            "Get prediction data LOGI done.\n",
            "Get options LOGI done.\n",
            "Series([], Name: Earnings Date, dtype: float64)\n",
            "Get calendar LOGI error.\n"
          ]
        },
        {
          "metadata": {
            "tags": null
          },
          "name": "stderr",
          "output_type": "stream",
          "text": [
            "/usr/local/lib/python3.7/dist-packages/ipykernel_launcher.py:243: RuntimeWarning:\n",
            "\n",
            "divide by zero encountered in double_scalars\n",
            "\n",
            "/usr/local/lib/python3.7/dist-packages/ipykernel_launcher.py:244: RuntimeWarning:\n",
            "\n",
            "divide by zero encountered in double_scalars\n",
            "\n"
          ]
        },
        {
          "metadata": {
            "tags": null
          },
          "name": "stdout",
          "output_type": "stream",
          "text": [
            "Chart saved: /content/drive/MyDrive/models/chart/2022-01-18/LOGI.html\n",
            "Get chart LOGI done.\n",
            "[*********************100%***********************]  1 of 1 completed\n",
            "Get Stock Price LVS done.\n",
            "Get prediction data LVS done.\n",
            "Get options LVS done.\n",
            "0    2022-01-25 10:59:00\n",
            "1    2022-01-31 12:00:00\n",
            "Name: Earnings Date, dtype: object\n",
            "Get calendar LVS done.\n"
          ]
        },
        {
          "metadata": {
            "tags": null
          },
          "name": "stderr",
          "output_type": "stream",
          "text": [
            "/usr/local/lib/python3.7/dist-packages/ipykernel_launcher.py:243: RuntimeWarning:\n",
            "\n",
            "divide by zero encountered in double_scalars\n",
            "\n",
            "/usr/local/lib/python3.7/dist-packages/ipykernel_launcher.py:244: RuntimeWarning:\n",
            "\n",
            "divide by zero encountered in double_scalars\n",
            "\n"
          ]
        },
        {
          "metadata": {
            "tags": null
          },
          "name": "stdout",
          "output_type": "stream",
          "text": [
            "Chart saved: /content/drive/MyDrive/models/chart/2022-01-18/LVS.html\n",
            "Get chart LVS done.\n",
            "[*********************100%***********************]  1 of 1 completed\n",
            "Get Stock Price MSFT done.\n",
            "Get prediction data MSFT done.\n",
            "Get options MSFT done.\n",
            "Value    2022-01-25 21:00:00\n",
            "Name: Earnings Date, dtype: object\n",
            "Get calendar MSFT done.\n"
          ]
        },
        {
          "metadata": {
            "tags": null
          },
          "name": "stderr",
          "output_type": "stream",
          "text": [
            "/usr/local/lib/python3.7/dist-packages/ipykernel_launcher.py:243: RuntimeWarning:\n",
            "\n",
            "divide by zero encountered in double_scalars\n",
            "\n",
            "/usr/local/lib/python3.7/dist-packages/ipykernel_launcher.py:244: RuntimeWarning:\n",
            "\n",
            "divide by zero encountered in double_scalars\n",
            "\n"
          ]
        },
        {
          "metadata": {
            "tags": null
          },
          "name": "stdout",
          "output_type": "stream",
          "text": [
            "Chart saved: /content/drive/MyDrive/models/chart/2022-01-18/MSFT.html\n",
            "Get chart MSFT done.\n",
            "[*********************100%***********************]  1 of 1 completed\n",
            "Get Stock Price MU done.\n",
            "Get prediction data MU done.\n",
            "Get options MU done.\n",
            "0    2022-03-29 00:00:00\n",
            "1    2022-04-04 00:00:00\n",
            "Name: Earnings Date, dtype: object\n",
            "Get calendar MU done.\n"
          ]
        },
        {
          "metadata": {
            "tags": null
          },
          "name": "stderr",
          "output_type": "stream",
          "text": [
            "/usr/local/lib/python3.7/dist-packages/ipykernel_launcher.py:243: RuntimeWarning:\n",
            "\n",
            "divide by zero encountered in double_scalars\n",
            "\n",
            "/usr/local/lib/python3.7/dist-packages/ipykernel_launcher.py:244: RuntimeWarning:\n",
            "\n",
            "divide by zero encountered in double_scalars\n",
            "\n"
          ]
        },
        {
          "metadata": {
            "tags": null
          },
          "name": "stdout",
          "output_type": "stream",
          "text": [
            "Chart saved: /content/drive/MyDrive/models/chart/2022-01-18/MU.html\n",
            "Get chart MU done.\n",
            "[*********************100%***********************]  1 of 1 completed\n",
            "Get Stock Price NCLH done.\n",
            "Get prediction data NCLH done.\n",
            "Get options NCLH done.\n",
            "0    2022-02-23 00:00:00\n",
            "1    2022-02-28 00:00:00\n",
            "Name: Earnings Date, dtype: object\n",
            "Get calendar NCLH done.\n"
          ]
        },
        {
          "metadata": {
            "tags": null
          },
          "name": "stderr",
          "output_type": "stream",
          "text": [
            "/usr/local/lib/python3.7/dist-packages/ipykernel_launcher.py:243: RuntimeWarning:\n",
            "\n",
            "divide by zero encountered in double_scalars\n",
            "\n",
            "/usr/local/lib/python3.7/dist-packages/ipykernel_launcher.py:244: RuntimeWarning:\n",
            "\n",
            "divide by zero encountered in double_scalars\n",
            "\n"
          ]
        },
        {
          "metadata": {
            "tags": null
          },
          "name": "stdout",
          "output_type": "stream",
          "text": [
            "Chart saved: /content/drive/MyDrive/models/chart/2022-01-18/NCLH.html\n",
            "Get chart NCLH done.\n",
            "[*********************100%***********************]  1 of 1 completed\n",
            "Get Stock Price NFLX done.\n",
            "Get prediction data NFLX done.\n",
            "Get options NFLX done.\n",
            "Value    2022-01-20 00:00:00\n",
            "Name: Earnings Date, dtype: object\n",
            "Get calendar NFLX done.\n"
          ]
        },
        {
          "metadata": {
            "tags": null
          },
          "name": "stderr",
          "output_type": "stream",
          "text": [
            "/usr/local/lib/python3.7/dist-packages/ipykernel_launcher.py:243: RuntimeWarning:\n",
            "\n",
            "divide by zero encountered in double_scalars\n",
            "\n",
            "/usr/local/lib/python3.7/dist-packages/ipykernel_launcher.py:244: RuntimeWarning:\n",
            "\n",
            "divide by zero encountered in double_scalars\n",
            "\n"
          ]
        },
        {
          "metadata": {
            "tags": null
          },
          "name": "stdout",
          "output_type": "stream",
          "text": [
            "Chart saved: /content/drive/MyDrive/models/chart/2022-01-18/NFLX.html\n",
            "Get chart NFLX done.\n",
            "[*********************100%***********************]  1 of 1 completed\n",
            "Get Stock Price NKE done.\n",
            "Get prediction data NKE done.\n",
            "Get options NKE done.\n",
            "0    2022-03-16 10:59:00\n",
            "1    2022-03-21 12:00:00\n",
            "Name: Earnings Date, dtype: object\n",
            "Get calendar NKE done.\n"
          ]
        },
        {
          "metadata": {
            "tags": null
          },
          "name": "stderr",
          "output_type": "stream",
          "text": [
            "/usr/local/lib/python3.7/dist-packages/ipykernel_launcher.py:243: RuntimeWarning:\n",
            "\n",
            "divide by zero encountered in double_scalars\n",
            "\n",
            "/usr/local/lib/python3.7/dist-packages/ipykernel_launcher.py:244: RuntimeWarning:\n",
            "\n",
            "divide by zero encountered in double_scalars\n",
            "\n"
          ]
        },
        {
          "metadata": {
            "tags": null
          },
          "name": "stdout",
          "output_type": "stream",
          "text": [
            "Chart saved: /content/drive/MyDrive/models/chart/2022-01-18/NKE.html\n",
            "Get chart NKE done.\n",
            "[*********************100%***********************]  1 of 1 completed\n",
            "Get Stock Price NVDA done.\n",
            "Get prediction data NVDA done.\n",
            "Get options NVDA done.\n",
            "0    2022-02-22 10:59:00\n",
            "1    2022-02-28 12:00:00\n",
            "Name: Earnings Date, dtype: object\n",
            "Get calendar NVDA done.\n"
          ]
        },
        {
          "metadata": {
            "tags": null
          },
          "name": "stderr",
          "output_type": "stream",
          "text": [
            "/usr/local/lib/python3.7/dist-packages/ipykernel_launcher.py:243: RuntimeWarning:\n",
            "\n",
            "divide by zero encountered in double_scalars\n",
            "\n",
            "/usr/local/lib/python3.7/dist-packages/ipykernel_launcher.py:244: RuntimeWarning:\n",
            "\n",
            "divide by zero encountered in double_scalars\n",
            "\n"
          ]
        },
        {
          "metadata": {
            "tags": null
          },
          "name": "stdout",
          "output_type": "stream",
          "text": [
            "Chart saved: /content/drive/MyDrive/models/chart/2022-01-18/NVDA.html\n",
            "Get chart NVDA done.\n",
            "[*********************100%***********************]  1 of 1 completed\n",
            "Get Stock Price PLTR done.\n",
            "Get prediction data PLTR done.\n",
            "Get options PLTR done.\n",
            "0    2022-02-14 13:30:00\n",
            "1    2022-02-18 13:30:00\n",
            "Name: Earnings Date, dtype: object\n",
            "Get calendar PLTR done.\n"
          ]
        },
        {
          "metadata": {
            "tags": null
          },
          "name": "stderr",
          "output_type": "stream",
          "text": [
            "/usr/local/lib/python3.7/dist-packages/ipykernel_launcher.py:243: RuntimeWarning:\n",
            "\n",
            "divide by zero encountered in double_scalars\n",
            "\n",
            "/usr/local/lib/python3.7/dist-packages/ipykernel_launcher.py:244: RuntimeWarning:\n",
            "\n",
            "divide by zero encountered in double_scalars\n",
            "\n"
          ]
        },
        {
          "metadata": {
            "tags": null
          },
          "name": "stdout",
          "output_type": "stream",
          "text": [
            "Chart saved: /content/drive/MyDrive/models/chart/2022-01-18/PLTR.html\n",
            "Get chart PLTR done.\n",
            "[*********************100%***********************]  1 of 1 completed\n",
            "Get Stock Price PYPL done.\n",
            "Get prediction data PYPL done.\n",
            "Get options PYPL done.\n",
            "0    2022-02-01 00:00:00\n",
            "1    2022-02-07 00:00:00\n",
            "Name: Earnings Date, dtype: object\n",
            "Get calendar PYPL done.\n"
          ]
        },
        {
          "metadata": {
            "tags": null
          },
          "name": "stderr",
          "output_type": "stream",
          "text": [
            "/usr/local/lib/python3.7/dist-packages/ipykernel_launcher.py:243: RuntimeWarning:\n",
            "\n",
            "divide by zero encountered in double_scalars\n",
            "\n",
            "/usr/local/lib/python3.7/dist-packages/ipykernel_launcher.py:244: RuntimeWarning:\n",
            "\n",
            "divide by zero encountered in double_scalars\n",
            "\n"
          ]
        },
        {
          "metadata": {
            "tags": null
          },
          "name": "stdout",
          "output_type": "stream",
          "text": [
            "Chart saved: /content/drive/MyDrive/models/chart/2022-01-18/PYPL.html\n",
            "Get chart PYPL done.\n",
            "[*********************100%***********************]  1 of 1 completed\n",
            "Get Stock Price QQQ done.\n",
            "Get prediction data QQQ done.\n",
            "Get options QQQ done.\n"
          ]
        },
        {
          "metadata": {
            "tags": null
          },
          "name": "stderr",
          "output_type": "stream",
          "text": [
            "/usr/local/lib/python3.7/dist-packages/ipykernel_launcher.py:243: RuntimeWarning:\n",
            "\n",
            "divide by zero encountered in double_scalars\n",
            "\n",
            "/usr/local/lib/python3.7/dist-packages/ipykernel_launcher.py:244: RuntimeWarning:\n",
            "\n",
            "divide by zero encountered in double_scalars\n",
            "\n"
          ]
        },
        {
          "metadata": {
            "tags": null
          },
          "name": "stdout",
          "output_type": "stream",
          "text": [
            "Chart saved: /content/drive/MyDrive/models/chart/2022-01-18/QQQ.html\n",
            "Get chart QQQ done.\n",
            "[*********************100%***********************]  1 of 1 completed\n",
            "Get Stock Price RBLX done.\n",
            "Get prediction data RBLX done.\n",
            "Get options RBLX done.\n",
            "Value    2021-11-08 16:06:00\n",
            "Name: Earnings Date, dtype: object\n",
            "Get calendar RBLX done.\n"
          ]
        },
        {
          "metadata": {
            "tags": null
          },
          "name": "stderr",
          "output_type": "stream",
          "text": [
            "/usr/local/lib/python3.7/dist-packages/ipykernel_launcher.py:243: RuntimeWarning:\n",
            "\n",
            "divide by zero encountered in double_scalars\n",
            "\n",
            "/usr/local/lib/python3.7/dist-packages/ipykernel_launcher.py:244: RuntimeWarning:\n",
            "\n",
            "divide by zero encountered in double_scalars\n",
            "\n"
          ]
        },
        {
          "metadata": {
            "tags": null
          },
          "name": "stdout",
          "output_type": "stream",
          "text": [
            "Chart saved: /content/drive/MyDrive/models/chart/2022-01-18/RBLX.html\n",
            "Get chart RBLX done.\n",
            "[*********************100%***********************]  1 of 1 completed\n",
            "Get Stock Price RKLB done.\n",
            "Get prediction data RKLB done.\n",
            "Get options RKLB done.\n",
            "Series([], Name: Earnings Date, dtype: float64)\n",
            "Get calendar RKLB error.\n"
          ]
        },
        {
          "metadata": {
            "tags": null
          },
          "name": "stderr",
          "output_type": "stream",
          "text": [
            "/usr/local/lib/python3.7/dist-packages/ipykernel_launcher.py:243: RuntimeWarning:\n",
            "\n",
            "divide by zero encountered in double_scalars\n",
            "\n",
            "/usr/local/lib/python3.7/dist-packages/ipykernel_launcher.py:244: RuntimeWarning:\n",
            "\n",
            "divide by zero encountered in double_scalars\n",
            "\n"
          ]
        },
        {
          "metadata": {
            "tags": null
          },
          "name": "stdout",
          "output_type": "stream",
          "text": [
            "Chart saved: /content/drive/MyDrive/models/chart/2022-01-18/RKLB.html\n",
            "Get chart RKLB done.\n",
            "[*********************100%***********************]  1 of 1 completed\n",
            "Get Stock Price SNAP done.\n",
            "Get prediction data SNAP done.\n",
            "Get options SNAP done.\n",
            "0    2022-02-02 00:00:00\n",
            "1    2022-02-07 00:00:00\n",
            "Name: Earnings Date, dtype: object\n",
            "Get calendar SNAP done.\n"
          ]
        },
        {
          "metadata": {
            "tags": null
          },
          "name": "stderr",
          "output_type": "stream",
          "text": [
            "/usr/local/lib/python3.7/dist-packages/ipykernel_launcher.py:243: RuntimeWarning:\n",
            "\n",
            "divide by zero encountered in double_scalars\n",
            "\n",
            "/usr/local/lib/python3.7/dist-packages/ipykernel_launcher.py:244: RuntimeWarning:\n",
            "\n",
            "divide by zero encountered in double_scalars\n",
            "\n"
          ]
        },
        {
          "metadata": {
            "tags": null
          },
          "name": "stdout",
          "output_type": "stream",
          "text": [
            "Chart saved: /content/drive/MyDrive/models/chart/2022-01-18/SNAP.html\n",
            "Get chart SNAP done.\n",
            "[*********************100%***********************]  1 of 1 completed\n",
            "Get Stock Price SOFI done.\n",
            "Get prediction data SOFI done.\n",
            "Get options SOFI done.\n",
            "Value    2021-11-10 00:00:00\n",
            "Name: Earnings Date, dtype: object\n",
            "Get calendar SOFI done.\n"
          ]
        },
        {
          "metadata": {
            "tags": null
          },
          "name": "stderr",
          "output_type": "stream",
          "text": [
            "/usr/local/lib/python3.7/dist-packages/ipykernel_launcher.py:243: RuntimeWarning:\n",
            "\n",
            "divide by zero encountered in double_scalars\n",
            "\n",
            "/usr/local/lib/python3.7/dist-packages/ipykernel_launcher.py:244: RuntimeWarning:\n",
            "\n",
            "divide by zero encountered in double_scalars\n",
            "\n"
          ]
        },
        {
          "metadata": {
            "tags": null
          },
          "name": "stdout",
          "output_type": "stream",
          "text": [
            "Chart saved: /content/drive/MyDrive/models/chart/2022-01-18/SOFI.html\n",
            "Get chart SOFI done.\n",
            "[*********************100%***********************]  1 of 1 completed\n",
            "Get Stock Price SPY done.\n",
            "Get prediction data SPY done.\n",
            "Get options SPY done.\n"
          ]
        },
        {
          "metadata": {
            "tags": null
          },
          "name": "stderr",
          "output_type": "stream",
          "text": [
            "/usr/local/lib/python3.7/dist-packages/ipykernel_launcher.py:243: RuntimeWarning:\n",
            "\n",
            "divide by zero encountered in double_scalars\n",
            "\n",
            "/usr/local/lib/python3.7/dist-packages/ipykernel_launcher.py:244: RuntimeWarning:\n",
            "\n",
            "divide by zero encountered in double_scalars\n",
            "\n"
          ]
        },
        {
          "metadata": {
            "tags": null
          },
          "name": "stdout",
          "output_type": "stream",
          "text": [
            "Chart saved: /content/drive/MyDrive/models/chart/2022-01-18/SPY.html\n",
            "Get chart SPY done.\n",
            "[*********************100%***********************]  1 of 1 completed\n",
            "Get Stock Price SQ done.\n",
            "Get prediction data SQ done.\n",
            "Get options SQ done.\n",
            "0    2022-02-21 10:59:00\n",
            "1    2022-02-25 12:00:00\n",
            "Name: Earnings Date, dtype: object\n",
            "Get calendar SQ done.\n"
          ]
        },
        {
          "metadata": {
            "tags": null
          },
          "name": "stderr",
          "output_type": "stream",
          "text": [
            "/usr/local/lib/python3.7/dist-packages/ipykernel_launcher.py:243: RuntimeWarning:\n",
            "\n",
            "divide by zero encountered in double_scalars\n",
            "\n",
            "/usr/local/lib/python3.7/dist-packages/ipykernel_launcher.py:244: RuntimeWarning:\n",
            "\n",
            "divide by zero encountered in double_scalars\n",
            "\n"
          ]
        },
        {
          "metadata": {
            "tags": null
          },
          "name": "stdout",
          "output_type": "stream",
          "text": [
            "Chart saved: /content/drive/MyDrive/models/chart/2022-01-18/SQ.html\n",
            "Get chart SQ done.\n",
            "[*********************100%***********************]  1 of 1 completed\n",
            "Get Stock Price TSLA done.\n",
            "Get prediction data TSLA done.\n",
            "Get options TSLA done.\n",
            "Value    2022-01-26 21:00:00\n",
            "Name: Earnings Date, dtype: object\n",
            "Get calendar TSLA done.\n"
          ]
        },
        {
          "metadata": {
            "tags": null
          },
          "name": "stderr",
          "output_type": "stream",
          "text": [
            "/usr/local/lib/python3.7/dist-packages/ipykernel_launcher.py:243: RuntimeWarning:\n",
            "\n",
            "divide by zero encountered in double_scalars\n",
            "\n",
            "/usr/local/lib/python3.7/dist-packages/ipykernel_launcher.py:244: RuntimeWarning:\n",
            "\n",
            "divide by zero encountered in double_scalars\n",
            "\n"
          ]
        },
        {
          "metadata": {
            "tags": null
          },
          "name": "stdout",
          "output_type": "stream",
          "text": [
            "Chart saved: /content/drive/MyDrive/models/chart/2022-01-18/TSLA.html\n",
            "Get chart TSLA done.\n",
            "[*********************100%***********************]  1 of 1 completed\n",
            "Get Stock Price TWTR done.\n",
            "Get prediction data TWTR done.\n",
            "Get options TWTR done.\n",
            "Value    2022-02-10 21:00:00\n",
            "Name: Earnings Date, dtype: object\n",
            "Get calendar TWTR done.\n"
          ]
        },
        {
          "metadata": {
            "tags": null
          },
          "name": "stderr",
          "output_type": "stream",
          "text": [
            "/usr/local/lib/python3.7/dist-packages/ipykernel_launcher.py:243: RuntimeWarning:\n",
            "\n",
            "divide by zero encountered in double_scalars\n",
            "\n",
            "/usr/local/lib/python3.7/dist-packages/ipykernel_launcher.py:244: RuntimeWarning:\n",
            "\n",
            "divide by zero encountered in double_scalars\n",
            "\n"
          ]
        },
        {
          "metadata": {
            "tags": null
          },
          "name": "stdout",
          "output_type": "stream",
          "text": [
            "Chart saved: /content/drive/MyDrive/models/chart/2022-01-18/TWTR.html\n",
            "Get chart TWTR done.\n",
            "[*********************100%***********************]  1 of 1 completed\n",
            "Get Stock Price TQQQ done.\n",
            "Get prediction data TQQQ done.\n",
            "Get options TQQQ done.\n"
          ]
        },
        {
          "metadata": {
            "tags": null
          },
          "name": "stderr",
          "output_type": "stream",
          "text": [
            "/usr/local/lib/python3.7/dist-packages/ipykernel_launcher.py:243: RuntimeWarning:\n",
            "\n",
            "divide by zero encountered in double_scalars\n",
            "\n",
            "/usr/local/lib/python3.7/dist-packages/ipykernel_launcher.py:244: RuntimeWarning:\n",
            "\n",
            "divide by zero encountered in double_scalars\n",
            "\n"
          ]
        },
        {
          "metadata": {
            "tags": null
          },
          "name": "stdout",
          "output_type": "stream",
          "text": [
            "Chart saved: /content/drive/MyDrive/models/chart/2022-01-18/TQQQ.html\n",
            "Get chart TQQQ done.\n",
            "[*********************100%***********************]  1 of 1 completed\n",
            "Get Stock Price U done.\n",
            "Get prediction data U done.\n",
            "Get options U done.\n",
            "0    2022-02-02 00:00:00\n",
            "1    2022-02-07 00:00:00\n",
            "Name: Earnings Date, dtype: object\n",
            "Get calendar U done.\n"
          ]
        },
        {
          "metadata": {
            "tags": null
          },
          "name": "stderr",
          "output_type": "stream",
          "text": [
            "/usr/local/lib/python3.7/dist-packages/ipykernel_launcher.py:243: RuntimeWarning:\n",
            "\n",
            "divide by zero encountered in double_scalars\n",
            "\n",
            "/usr/local/lib/python3.7/dist-packages/ipykernel_launcher.py:244: RuntimeWarning:\n",
            "\n",
            "divide by zero encountered in double_scalars\n",
            "\n"
          ]
        },
        {
          "metadata": {
            "tags": null
          },
          "name": "stdout",
          "output_type": "stream",
          "text": [
            "Chart saved: /content/drive/MyDrive/models/chart/2022-01-18/U.html\n",
            "Get chart U done.\n",
            "[*********************100%***********************]  1 of 1 completed\n",
            "Get Stock Price UBER done.\n",
            "Get prediction data UBER done.\n",
            "Get options UBER done.\n",
            "Value    2022-02-09 00:00:00\n",
            "Name: Earnings Date, dtype: object\n",
            "Get calendar UBER done.\n"
          ]
        },
        {
          "metadata": {
            "tags": null
          },
          "name": "stderr",
          "output_type": "stream",
          "text": [
            "/usr/local/lib/python3.7/dist-packages/ipykernel_launcher.py:243: RuntimeWarning:\n",
            "\n",
            "divide by zero encountered in double_scalars\n",
            "\n",
            "/usr/local/lib/python3.7/dist-packages/ipykernel_launcher.py:244: RuntimeWarning:\n",
            "\n",
            "divide by zero encountered in double_scalars\n",
            "\n"
          ]
        },
        {
          "metadata": {
            "tags": null
          },
          "name": "stdout",
          "output_type": "stream",
          "text": [
            "Chart saved: /content/drive/MyDrive/models/chart/2022-01-18/UBER.html\n",
            "Get chart UBER done.\n",
            "[*********************100%***********************]  1 of 1 completed\n",
            "Get Stock Price WFC done.\n",
            "Get prediction data WFC done.\n",
            "Get options WFC done.\n",
            "Value    2022-04-14 00:00:00\n",
            "Name: Earnings Date, dtype: object\n",
            "Get calendar WFC done.\n"
          ]
        },
        {
          "metadata": {
            "tags": null
          },
          "name": "stderr",
          "output_type": "stream",
          "text": [
            "/usr/local/lib/python3.7/dist-packages/ipykernel_launcher.py:243: RuntimeWarning:\n",
            "\n",
            "divide by zero encountered in double_scalars\n",
            "\n",
            "/usr/local/lib/python3.7/dist-packages/ipykernel_launcher.py:244: RuntimeWarning:\n",
            "\n",
            "divide by zero encountered in double_scalars\n",
            "\n"
          ]
        },
        {
          "metadata": {
            "tags": null
          },
          "name": "stdout",
          "output_type": "stream",
          "text": [
            "Chart saved: /content/drive/MyDrive/models/chart/2022-01-18/WFC.html\n",
            "Get chart WFC done.\n",
            "Errors: ['FFND', 'JETS']\n"
          ]
        }
      ],
      "source": [
        "symbols = ['ABBV','AFRM','AMD','AMZN','APPS','ASTR','ATVI','BNGO',\n",
        "           'CAT','CCL','CHWY','COST','CRM',\n",
        "           'DIA','DIS','DKNG','ETSY','FFND','HOG','HUT','IWM','JETS','LOGI',\n",
        "           'LVS','MSFT','MU','NCLH','NFLX','NKE','NVDA','PLTR','PYPL','QQQ',\n",
        "           'RBLX','RKLB','SNAP','SOFI','SPY','SQ','TSLA','TWTR','TQQQ','U','UBER','WFC']\n",
        "\n",
        "symbols1 = ['AAPL','ARKG','ARKK','ARKQ',\n",
        "           'BA','CHPT','COIN','DDOG',\n",
        "           'DOCU','EA','FB','GOOGL']\n",
        "\n",
        "symbols2 = ['MA','MP',\n",
        "           'MRNA','MSTR','NNDM']\n",
        "\n",
        "symbols3 = ['PFE','PINS',\n",
        "           'ROKU','SBUX','SHOP','SOXL','SOXX']\n",
        "\n",
        "symbols4 = ['TDOC','TEN','TGT','TLT','TTD','UAA',\n",
        "           'V','VTI','WBA','VALE','WMT','WYNN','XLE','XLF','XLNX','ZM']\n",
        "\n",
        "symbols5 = ['U','PENN','QCOM','LCID','AAL']\n",
        "symbols6 = ['^TNX','VTIP','^VIX']\n",
        "#save_charts(symbols,True)\n",
        "#save_charts(symbols1,True)\n",
        "#save_charts(symbols2,True)\n",
        "#save_charts(symbols3,True)\n",
        "#save_charts(symbols4,True)\n",
        "#save_charts(symbols5,True)\n",
        "#save_charts(symbols6,True)"
      ]
    }
  ],
  "metadata": {
    "colab": {
      "name": "graphtrek_25.ipynb",
      "provenance": [],
      "include_colab_link": true
    },
    "kernelspec": {
      "display_name": "Python 3 (ipykernel)",
      "language": "python",
      "name": "python3"
    },
    "language_info": {
      "codemirror_mode": {
        "name": "ipython",
        "version": 3
      },
      "file_extension": ".py",
      "mimetype": "text/x-python",
      "name": "python",
      "nbconvert_exporter": "python",
      "pygments_lexer": "ipython3",
      "version": "3.7.3"
    }
  },
  "nbformat": 4,
  "nbformat_minor": 0
}