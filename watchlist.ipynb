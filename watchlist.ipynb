{
  "nbformat": 4,
  "nbformat_minor": 0,
  "metadata": {
    "colab": {
      "name": "watchlist.ipynb",
      "provenance": [],
      "authorship_tag": "ABX9TyPMm02vOCr8rrbBav6uqzSS",
      "include_colab_link": true
    },
    "kernelspec": {
      "name": "python3",
      "display_name": "Python 3"
    },
    "language_info": {
      "name": "python"
    }
  },
  "cells": [
    {
      "cell_type": "markdown",
      "metadata": {
        "id": "view-in-github",
        "colab_type": "text"
      },
      "source": [
        "<a href=\"https://colab.research.google.com/github/graphtrek/stockforecast/blob/main/watchlist.ipynb\" target=\"_parent\"><img src=\"https://colab.research.google.com/assets/colab-badge.svg\" alt=\"Open In Colab\"/></a>"
      ]
    },
    {
      "cell_type": "code",
      "metadata": {
        "colab": {
          "base_uri": "https://localhost:8080/"
        },
        "id": "iRFqd0Vh4ciQ",
        "outputId": "2d912484-0b91-4d98-e75e-258a516cf14d"
      },
      "source": [
        "pip install background"
      ],
      "execution_count": 1,
      "outputs": [
        {
          "output_type": "stream",
          "name": "stdout",
          "text": [
            "Collecting background\n",
            "  Downloading background-0.2.1-py3-none-any.whl (2.2 kB)\n",
            "Installing collected packages: background\n",
            "Successfully installed background-0.2.1\n"
          ]
        }
      ]
    },
    {
      "cell_type": "code",
      "metadata": {
        "id": "tgH6o09_4mg8"
      },
      "source": [
        "import background\n",
        "from time import sleep\n",
        "import pandas as pd\n",
        "\n",
        "@background.task\n",
        "def long_func(i):\n",
        "    \"\"\"\n",
        "    Simulates fetching data from a service\n",
        "    and returning a pandas DataFrame.\n",
        "\n",
        "    \"\"\"\n",
        "    sleep(10)\n",
        "    return pd.DataFrame({'number_squared': [i**2]})"
      ],
      "execution_count": 2,
      "outputs": []
    },
    {
      "cell_type": "code",
      "metadata": {
        "colab": {
          "base_uri": "https://localhost:8080/"
        },
        "id": "_fhWFoAs4osK",
        "outputId": "2d050a83-5b3b-4362-c7de-1e7f8737a144"
      },
      "source": [
        "%time futures = [long_func(i) for i in range(10)]\n"
      ],
      "execution_count": 3,
      "outputs": [
        {
          "output_type": "stream",
          "name": "stdout",
          "text": [
            "CPU times: user 861 µs, sys: 0 ns, total: 861 µs\n",
            "Wall time: 1.6 ms\n"
          ]
        }
      ]
    },
    {
      "cell_type": "code",
      "metadata": {
        "colab": {
          "base_uri": "https://localhost:8080/"
        },
        "id": "8NHzrJmB5dse",
        "outputId": "79cfdd81-3942-4c32-c8c3-76acbda3b296"
      },
      "source": [
        "%%time\n",
        "futures = [long_func(i) for i in range(10)]\n",
        "pd.concat([future.result() for future in futures])"
      ],
      "execution_count": 4,
      "outputs": [
        {
          "output_type": "stream",
          "name": "stdout",
          "text": [
            "CPU times: user 183 ms, sys: 28 ms, total: 211 ms\n",
            "Wall time: 50.1 s\n"
          ]
        }
      ]
    }
  ]
}