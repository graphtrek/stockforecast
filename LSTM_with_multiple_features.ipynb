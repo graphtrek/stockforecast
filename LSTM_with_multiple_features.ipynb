{
  "nbformat": 4,
  "nbformat_minor": 0,
  "metadata": {
    "colab": {
      "name": "LSTM-with-multiple-features.ipynb",
      "provenance": [],
      "authorship_tag": "ABX9TyPFcgpskz9bZbUvbTY1pULY",
      "include_colab_link": true
    },
    "kernelspec": {
      "name": "python3",
      "display_name": "Python 3"
    },
    "language_info": {
      "name": "python"
    }
  },
  "cells": [
    {
      "cell_type": "markdown",
      "metadata": {
        "id": "view-in-github",
        "colab_type": "text"
      },
      "source": [
        "<a href=\"https://colab.research.google.com/github/graphtrek/stockforecast/blob/main/LSTM_with_multiple_features.ipynb\" target=\"_parent\"><img src=\"https://colab.research.google.com/assets/colab-badge.svg\" alt=\"Open In Colab\"/></a>"
      ]
    },
    {
      "cell_type": "code",
      "metadata": {
        "id": "hkMd46Okb4CZ"
      },
      "source": [
        "import numpy as np\n",
        "from tensorflow.keras.models import Sequential\n",
        "from tensorflow.keras.layers import LSTM\n",
        "from tensorflow.keras.layers import Dense, Dropout\n",
        "import pandas as pd\n",
        "from matplotlib import pyplot as plt\n",
        "from sklearn.preprocessing import StandardScaler\n",
        "import seaborn as sns\n",
        "#from datetime import datetime"
      ],
      "execution_count": 1,
      "outputs": []
    },
    {
      "cell_type": "code",
      "metadata": {
        "colab": {
          "base_uri": "https://localhost:8080/"
        },
        "id": "FY9UUX4LcyDh",
        "outputId": "db0045ca-99ef-4e3a-b998-f73c83fe4d31"
      },
      "source": [
        "#Read the csv file\n",
        "df = pd.read_csv('data/GOOG.csv')\n",
        "print(df.head()) #7 columns, including the Date. \n",
        "\n",
        "#Separate dates for future plotting\n",
        "train_dates = pd.to_datetime(df['Date'])\n",
        "print(train_dates.tail(15)) #Check last few dates. "
      ],
      "execution_count": 2,
      "outputs": [
        {
          "output_type": "stream",
          "name": "stdout",
          "text": [
            "         Date         Open         High  ...        Close    Adj Close   Volume\n",
            "0  2020-10-02  1462.030029  1483.199951  ...  1458.420044  1458.420044  1284100\n",
            "1  2020-10-05  1466.209961  1488.209961  ...  1486.020020  1486.020020  1113300\n",
            "2  2020-10-06  1475.579956  1486.760010  ...  1453.439941  1453.439941  1245400\n",
            "3  2020-10-07  1464.290039  1468.959961  ...  1460.290039  1460.290039  1746200\n",
            "4  2020-10-08  1465.089966  1490.000000  ...  1485.930054  1485.930054  1187800\n",
            "\n",
            "[5 rows x 7 columns]\n",
            "237   2021-09-13\n",
            "238   2021-09-14\n",
            "239   2021-09-15\n",
            "240   2021-09-16\n",
            "241   2021-09-17\n",
            "242   2021-09-20\n",
            "243   2021-09-21\n",
            "244   2021-09-22\n",
            "245   2021-09-23\n",
            "246   2021-09-24\n",
            "247   2021-09-27\n",
            "248   2021-09-28\n",
            "249   2021-09-29\n",
            "250   2021-09-30\n",
            "251   2021-10-01\n",
            "Name: Date, dtype: datetime64[ns]\n"
          ]
        }
      ]
    },
    {
      "cell_type": "code",
      "metadata": {
        "colab": {
          "base_uri": "https://localhost:8080/",
          "height": 302
        },
        "id": "GVXA2_qmdGp1",
        "outputId": "da1814e2-dfb4-4130-c8e0-1d6c5032ba90"
      },
      "source": [
        "#Variables for training\n",
        "cols = list(df)[1:6]\n",
        "#Date and volume columns are not used in training. \n",
        "print(cols) #['Open', 'High', 'Low', 'Close', 'Adj Close']\n",
        "\n",
        "#New dataframe with only training data - 5 columns\n",
        "df_for_training = df[cols].astype(float)\n",
        "\n",
        "df_for_plot=df_for_training.tail(5000)\n",
        "df_for_plot.plot.line()\n",
        "print(df_for_training.shape)"
      ],
      "execution_count": 3,
      "outputs": [
        {
          "output_type": "stream",
          "name": "stdout",
          "text": [
            "['Open', 'High', 'Low', 'Close', 'Adj Close']\n",
            "(252, 5)\n"
          ]
        },
        {
          "output_type": "display_data",
          "data": {
            "image/png": "[encoded data removed]",
            "text/plain": [
              "<Figure size 432x288 with 1 Axes>"
            ]
          },
          "metadata": {
            "needs_background": "light"
          }
        }
      ]
    },
    {
      "cell_type": "code",
      "metadata": {
        "id": "2doZUdRqdNmt"
      },
      "source": [
        "#LSTM uses sigmoid and tanh that are sensitive to magnitude so values need to be normalized\n",
        "# normalize the dataset\n",
        "scaler = StandardScaler()\n",
        "scaler = scaler.fit(df_for_training)\n",
        "df_for_training_scaled = scaler.transform(df_for_training)"
      ],
      "execution_count": 5,
      "outputs": []
    },
    {
      "cell_type": "code",
      "metadata": {
        "colab": {
          "base_uri": "https://localhost:8080/"
        },
        "id": "5HE5vY9kdUoc",
        "outputId": "5d7e65e4-88ce-4a67-bc27-28a727928af9"
      },
      "source": [
        "#As required for LSTM networks, we require to reshape an input data into n_samples x timesteps x n_features. \n",
        "#In this example, the n_features is 5. We will make timesteps = 14 (past days data used for training). \n",
        "\n",
        "#Empty lists to be populated using formatted training data\n",
        "trainX = []\n",
        "trainY = []\n",
        "\n",
        "n_future = 1   # Number of days we want to look into the future based on the past days.\n",
        "n_past = 14  # Number of past days we want to use to predict the future.\n",
        "\n",
        "#Reformat input data into a shape: (n_samples x timesteps x n_features)\n",
        "#In my example, my df_for_training_scaled has a shape (12823, 5)\n",
        "#12823 refers to the number of data points and 5 refers to the columns (multi-variables).\n",
        "for i in range(n_past, len(df_for_training_scaled) - n_future +1):\n",
        "    trainX.append(df_for_training_scaled[i - n_past:i, 0:df_for_training.shape[1]])\n",
        "    trainY.append(df_for_training_scaled[i + n_future - 1:i + n_future, 0])\n",
        "\n",
        "trainX, trainY = np.array(trainX), np.array(trainY)\n",
        "\n",
        "print('trainX shape == {}.'.format(trainX.shape))\n",
        "print('trainY shape == {}.'.format(trainY.shape))\n"
      ],
      "execution_count": 6,
      "outputs": [
        {
          "output_type": "stream",
          "name": "stdout",
          "text": [
            "trainX shape == (238, 14, 5).\n",
            "trainY shape == (238, 1).\n"
          ]
        }
      ]
    },
    {
      "cell_type": "code",
      "metadata": {
        "colab": {
          "base_uri": "https://localhost:8080/",
          "height": 724
        },
        "id": "UyG1D9uddawT",
        "outputId": "d32845c8-c320-4917-e0bc-5fbcb936e234"
      },
      "source": [
        "#In my case, trainX has a shape (12809, 14, 5). \n",
        "#12809 because we are looking back 14 days (12823 - 14 = 12809). \n",
        "#Remember that we cannot look back 14 days until we get to the 15th day. \n",
        "#Also, trainY has a shape (12809, 1). Our model only predicts a single value, but \n",
        "#it needs multiple variables (5 in my example) to make this prediction. \n",
        "#This is why we can only predict a single day after our training, the day after where our data ends.\n",
        "#To predict more days in future, we need all the 5 variables which we do not have. \n",
        "#We need to predict all variables if we want to do that. \n",
        "\n",
        "# define the Autoencoder model\n",
        "\n",
        "model = Sequential()\n",
        "model.add(LSTM(64, activation='relu', input_shape=(trainX.shape[1], trainX.shape[2]), return_sequences=True))\n",
        "model.add(LSTM(32, activation='relu', return_sequences=False))\n",
        "model.add(Dropout(0.2))\n",
        "model.add(Dense(trainY.shape[1]))\n",
        "\n",
        "model.compile(optimizer='adam', loss='mse')\n",
        "model.summary()\n",
        "\n",
        "\n",
        "# fit the model\n",
        "history = model.fit(trainX, trainY, epochs=5, batch_size=16, validation_split=0.1, verbose=1)\n",
        "\n",
        "plt.plot(history.history['loss'], label='Training loss')\n",
        "plt.plot(history.history['val_loss'], label='Validation loss')\n",
        "plt.legend()"
      ],
      "execution_count": 7,
      "outputs": [
        {
          "output_type": "stream",
          "name": "stdout",
          "text": [
            "Model: \"sequential\"\n",
            "_________________________________________________________________\n",
            "Layer (type)                 Output Shape              Param #   \n",
            "=================================================================\n",
            "lstm (LSTM)                  (None, 14, 64)            17920     \n",
            "_________________________________________________________________\n",
            "lstm_1 (LSTM)                (None, 32)                12416     \n",
            "_________________________________________________________________\n",
            "dropout (Dropout)            (None, 32)                0         \n",
            "_________________________________________________________________\n",
            "dense (Dense)                (None, 1)                 33        \n",
            "=================================================================\n",
            "Total params: 30,369\n",
            "Trainable params: 30,369\n",
            "Non-trainable params: 0\n",
            "_________________________________________________________________\n",
            "Epoch 1/5\n",
            "14/14 [==============================] - 3s 46ms/step - loss: 0.4074 - val_loss: 0.0682\n",
            "Epoch 2/5\n",
            "14/14 [==============================] - 0s 17ms/step - loss: 0.0784 - val_loss: 0.0523\n",
            "Epoch 3/5\n",
            "14/14 [==============================] - 0s 17ms/step - loss: 0.0644 - val_loss: 0.2828\n",
            "Epoch 4/5\n",
            "14/14 [==============================] - 0s 17ms/step - loss: 0.0588 - val_loss: 0.0368\n",
            "Epoch 5/5\n",
            "14/14 [==============================] - 0s 17ms/step - loss: 0.0539 - val_loss: 0.1731\n"
          ]
        },
        {
          "output_type": "execute_result",
          "data": {
            "text/plain": [
              "<matplotlib.legend.Legend at 0x7fe38ae9af90>"
            ]
          },
          "metadata": {},
          "execution_count": 7
        },
        {
          "output_type": "display_data",
          "data": {
            "image/png": "[encoded data removed]",
            "text/plain": [
              "<Figure size 432x288 with 1 Axes>"
            ]
          },
          "metadata": {
            "needs_background": "light"
          }
        }
      ]
    },
    {
      "cell_type": "code",
      "metadata": {
        "colab": {
          "base_uri": "https://localhost:8080/"
        },
        "id": "KoHaWtJfdj2i",
        "outputId": "54e4f37d-6bde-4a67-c27a-1f793520688e"
      },
      "source": [
        "#Predicting...\n",
        "#Libraries that will help us extract only business days in the US.\n",
        "#Otherwise our dates would be wrong when we look back (or forward).  \n",
        "from pandas.tseries.holiday import USFederalHolidayCalendar\n",
        "from pandas.tseries.offsets import CustomBusinessDay\n",
        "us_bd = CustomBusinessDay(calendar=USFederalHolidayCalendar())\n",
        "#Remember that we can only predict one day in future as our model needs 5 variables\n",
        "#as inputs for prediction. We only have all 5 variables until the last day in our dataset.\n",
        "n_past = 16\n",
        "n_days_for_prediction=15  #let us predict past 15 days\n",
        "\n",
        "predict_period_dates = pd.date_range(list(train_dates)[-n_past], periods=n_days_for_prediction, freq=us_bd).tolist()\n",
        "print(predict_period_dates)"
      ],
      "execution_count": 9,
      "outputs": [
        {
          "output_type": "stream",
          "name": "stdout",
          "text": [
            "[Timestamp('2021-09-10 00:00:00', freq='C'), Timestamp('2021-09-13 00:00:00', freq='C'), Timestamp('2021-09-14 00:00:00', freq='C'), Timestamp('2021-09-15 00:00:00', freq='C'), Timestamp('2021-09-16 00:00:00', freq='C'), Timestamp('2021-09-17 00:00:00', freq='C'), Timestamp('2021-09-20 00:00:00', freq='C'), Timestamp('2021-09-21 00:00:00', freq='C'), Timestamp('2021-09-22 00:00:00', freq='C'), Timestamp('2021-09-23 00:00:00', freq='C'), Timestamp('2021-09-24 00:00:00', freq='C'), Timestamp('2021-09-27 00:00:00', freq='C'), Timestamp('2021-09-28 00:00:00', freq='C'), Timestamp('2021-09-29 00:00:00', freq='C'), Timestamp('2021-09-30 00:00:00', freq='C')]\n"
          ]
        }
      ]
    },
    {
      "cell_type": "code",
      "metadata": {
        "id": "mXobVyD0dwSR",
        "outputId": "03e8e215-140d-4989-d737-4374e58d2ad0",
        "colab": {
          "base_uri": "https://localhost:8080/"
        }
      },
      "source": [
        "#Make prediction\n",
        "prediction = model.predict(trainX[-n_days_for_prediction:]) #shape = (n, 1) where n is the n_days_for_prediction\n",
        "print(prediction)\n",
        "#Perform inverse transformation to rescale back to original range\n",
        "#Since we used 5 variables for transform, the inverse expects same dimensions\n",
        "#Therefore, let us copy our values 5 times and discard them after inverse transform\n",
        "prediction_copies = np.repeat(prediction, df_for_training.shape[1], axis=-1)\n",
        "y_pred_future = scaler.inverse_transform(prediction_copies)[:,0]\n",
        "#y_pred_future = scaler.inverse_transform(prediction_copies)[:,0]\n",
        "print(y_pred_future)"
      ],
      "execution_count": 11,
      "outputs": [
        {
          "output_type": "stream",
          "name": "stdout",
          "text": [
            "[[1.9960457]\n",
            " [2.0112932]\n",
            " [2.0170233]\n",
            " [2.019065 ]\n",
            " [2.0218794]\n",
            " [2.015005 ]\n",
            " [1.990879 ]\n",
            " [1.9618629]\n",
            " [1.9283756]\n",
            " [1.9007567]\n",
            " [1.8768499]\n",
            " [1.8527948]\n",
            " [1.822671 ]\n",
            " [1.7850833]\n",
            " [1.7429286]]\n",
            "[3047.7456 3054.1672 3056.5806 3057.4404 3058.626  3055.7307 3045.5696\n",
            " 3033.349  3019.2456 3007.6135 2997.545  2987.4138 2974.7268 2958.8962\n",
            " 2941.142 ]\n"
          ]
        }
      ]
    },
    {
      "cell_type": "code",
      "metadata": {
        "colab": {
          "base_uri": "https://localhost:8080/",
          "height": 486
        },
        "id": "5tIo0KUsdyGh",
        "outputId": "80cab425-6cfc-4ec6-f450-c4437d6a48a2"
      },
      "source": [
        "# Convert timestamp to date\n",
        "forecast_dates = []\n",
        "for time_i in predict_period_dates:\n",
        "    forecast_dates.append(time_i.date())\n",
        "    \n",
        "df_forecast = pd.DataFrame({'Date':np.array(forecast_dates), 'Open':y_pred_future})\n",
        "df_forecast['Date']=pd.to_datetime(df_forecast['Date'])\n",
        "\n",
        "\n",
        "original = df[['Date', 'Open']]\n",
        "original['Date']=pd.to_datetime(original['Date'])\n",
        "original = original.loc[original['Date'] >= '2020-5-1']\n",
        "\n",
        "sns.lineplot(original['Date'], original['Open'])\n",
        "sns.lineplot(df_forecast['Date'], df_forecast['Open'])"
      ],
      "execution_count": 12,
      "outputs": [
        {
          "output_type": "stream",
          "name": "stderr",
          "text": [
            "/usr/local/lib/python3.7/dist-packages/ipykernel_launcher.py:11: SettingWithCopyWarning: \n",
            "A value is trying to be set on a copy of a slice from a DataFrame.\n",
            "Try using .loc[row_indexer,col_indexer] = value instead\n",
            "\n",
            "See the caveats in the documentation: https://pandas.pydata.org/pandas-docs/stable/user_guide/indexing.html#returning-a-view-versus-a-copy\n",
            "  # This is added back by InteractiveShellApp.init_path()\n",
            "/usr/local/lib/python3.7/dist-packages/seaborn/_decorators.py:43: FutureWarning: Pass the following variables as keyword args: x, y. From version 0.12, the only valid positional argument will be `data`, and passing other arguments without an explicit keyword will result in an error or misinterpretation.\n",
            "  FutureWarning\n",
            "/usr/local/lib/python3.7/dist-packages/seaborn/_decorators.py:43: FutureWarning: Pass the following variables as keyword args: x, y. From version 0.12, the only valid positional argument will be `data`, and passing other arguments without an explicit keyword will result in an error or misinterpretation.\n",
            "  FutureWarning\n"
          ]
        },
        {
          "output_type": "execute_result",
          "data": {
            "text/plain": [
              "<matplotlib.axes._subplots.AxesSubplot at 0x7fe38e5fd610>"
            ]
          },
          "metadata": {},
          "execution_count": 12
        },
        {
          "output_type": "display_data",
          "data": {
            "image/png": "[encoded data removed]",
            "text/plain": [
              "<Figure size 432x288 with 1 Axes>"
            ]
          },
          "metadata": {
            "needs_background": "light"
          }
        }
      ]
    }
  ]
}