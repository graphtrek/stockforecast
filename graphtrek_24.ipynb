{
  "nbformat": 4,
  "nbformat_minor": 0,
  "metadata": {
    "colab": {
      "name": "graphtrek_24.ipynb",
      "provenance": [],
      "include_colab_link": true
    },
    "kernelspec": {
      "name": "python3",
      "display_name": "Python 3"
    },
    "language_info": {
      "name": "python"
    }
  },
  "cells": [
    {
      "cell_type": "markdown",
      "metadata": {
        "id": "view-in-github",
        "colab_type": "text"
      },
      "source": [
        "<a href=\"https://colab.research.google.com/github/graphtrek/stockforecast/blob/main/graphtrek_24.ipynb\" target=\"_parent\"><img src=\"https://colab.research.google.com/assets/colab-badge.svg\" alt=\"Open In Colab\"/></a>"
      ]
    },
    {
      "cell_type": "code",
      "execution_count": 2,
      "metadata": {
        "colab": {
          "base_uri": "https://localhost:8080/"
        },
        "id": "FqMCA9YoriWx",
        "outputId": "64a864ec-c45b-4212-bc85-97690cd2f78e"
      },
      "outputs": [
        {
          "output_type": "stream",
          "name": "stdout",
          "text": [
            "Collecting yfinance\n",
            "  Downloading yfinance-0.1.68-py2.py3-none-any.whl (26 kB)\n",
            "Collecting lxml>=4.5.1\n",
            "  Downloading lxml-4.7.1-cp37-cp37m-manylinux_2_17_x86_64.manylinux2014_x86_64.manylinux_2_24_x86_64.whl (6.4 MB)\n",
            "\u001b[K     |████████████████████████████████| 6.4 MB 38.8 MB/s \n",
            "\u001b[?25hRequirement already satisfied: multitasking>=0.0.7 in /usr/local/lib/python3.7/dist-packages (from yfinance) (0.0.10)\n",
            "Requirement already satisfied: pandas>=0.24 in /usr/local/lib/python3.7/dist-packages (from yfinance) (1.1.5)\n",
            "Collecting requests>=2.26\n",
            "  Downloading requests-2.27.1-py2.py3-none-any.whl (63 kB)\n",
            "\u001b[K     |████████████████████████████████| 63 kB 971 kB/s \n",
            "\u001b[?25hRequirement already satisfied: numpy>=1.15 in /usr/local/lib/python3.7/dist-packages (from yfinance) (1.19.5)\n",
            "Requirement already satisfied: python-dateutil>=2.7.3 in /usr/local/lib/python3.7/dist-packages (from pandas>=0.24->yfinance) (2.8.2)\n",
            "Requirement already satisfied: pytz>=2017.2 in /usr/local/lib/python3.7/dist-packages (from pandas>=0.24->yfinance) (2018.9)\n",
            "Requirement already satisfied: six>=1.5 in /usr/local/lib/python3.7/dist-packages (from python-dateutil>=2.7.3->pandas>=0.24->yfinance) (1.15.0)\n",
            "Requirement already satisfied: idna<4,>=2.5 in /usr/local/lib/python3.7/dist-packages (from requests>=2.26->yfinance) (2.10)\n",
            "Requirement already satisfied: urllib3<1.27,>=1.21.1 in /usr/local/lib/python3.7/dist-packages (from requests>=2.26->yfinance) (1.24.3)\n",
            "Requirement already satisfied: certifi>=2017.4.17 in /usr/local/lib/python3.7/dist-packages (from requests>=2.26->yfinance) (2021.10.8)\n",
            "Requirement already satisfied: charset-normalizer~=2.0.0 in /usr/local/lib/python3.7/dist-packages (from requests>=2.26->yfinance) (2.0.10)\n",
            "Installing collected packages: requests, lxml, yfinance\n",
            "  Attempting uninstall: requests\n",
            "    Found existing installation: requests 2.23.0\n",
            "    Uninstalling requests-2.23.0:\n",
            "      Successfully uninstalled requests-2.23.0\n",
            "  Attempting uninstall: lxml\n",
            "    Found existing installation: lxml 4.2.6\n",
            "    Uninstalling lxml-4.2.6:\n",
            "      Successfully uninstalled lxml-4.2.6\n",
            "\u001b[31mERROR: pip's dependency resolver does not currently take into account all the packages that are installed. This behaviour is the source of the following dependency conflicts.\n",
            "google-colab 1.0.0 requires requests~=2.23.0, but you have requests 2.27.1 which is incompatible.\n",
            "datascience 0.10.6 requires folium==0.2.1, but you have folium 0.8.3 which is incompatible.\u001b[0m\n",
            "Successfully installed lxml-4.7.1 requests-2.27.1 yfinance-0.1.68\n",
            "Requirement already satisfied: plotly in /usr/local/lib/python3.7/dist-packages (4.4.1)\n",
            "Requirement already satisfied: retrying>=1.3.3 in /usr/local/lib/python3.7/dist-packages (from plotly) (1.3.3)\n",
            "Requirement already satisfied: six in /usr/local/lib/python3.7/dist-packages (from plotly) (1.15.0)\n",
            "Collecting ta\n",
            "  Downloading ta-0.9.0.tar.gz (25 kB)\n",
            "Requirement already satisfied: numpy in /usr/local/lib/python3.7/dist-packages (from ta) (1.19.5)\n",
            "Requirement already satisfied: pandas in /usr/local/lib/python3.7/dist-packages (from ta) (1.1.5)\n",
            "Requirement already satisfied: pytz>=2017.2 in /usr/local/lib/python3.7/dist-packages (from pandas->ta) (2018.9)\n",
            "Requirement already satisfied: python-dateutil>=2.7.3 in /usr/local/lib/python3.7/dist-packages (from pandas->ta) (2.8.2)\n",
            "Requirement already satisfied: six>=1.5 in /usr/local/lib/python3.7/dist-packages (from python-dateutil>=2.7.3->pandas->ta) (1.15.0)\n",
            "Building wheels for collected packages: ta\n",
            "  Building wheel for ta (setup.py) ... \u001b[?25l\u001b[?25hdone\n",
            "  Created wheel for ta: filename=ta-0.9.0-py3-none-any.whl size=28908 sha256=c38cbec50642a91467f88cff7b37873bbfb0f326d7d2c3496558b0290f143fb6\n",
            "  Stored in directory: /root/.cache/pip/wheels/72/78/64/cc1c01506a1010a9845e9bd7c69333730f7174661228ea4f98\n",
            "Successfully built ta\n",
            "Installing collected packages: ta\n",
            "Successfully installed ta-0.9.0\n",
            "Collecting paramiko\n",
            "  Downloading paramiko-2.9.2-py2.py3-none-any.whl (210 kB)\n",
            "\u001b[K     |████████████████████████████████| 210 kB 25.9 MB/s \n",
            "\u001b[?25hCollecting cryptography>=2.5\n",
            "  Downloading cryptography-36.0.1-cp36-abi3-manylinux_2_24_x86_64.whl (3.6 MB)\n",
            "\u001b[K     |████████████████████████████████| 3.6 MB 48.2 MB/s \n",
            "\u001b[?25hCollecting bcrypt>=3.1.3\n",
            "  Downloading bcrypt-3.2.0-cp36-abi3-manylinux_2_17_x86_64.manylinux2014_x86_64.manylinux_2_24_x86_64.whl (61 kB)\n",
            "\u001b[K     |████████████████████████████████| 61 kB 413 kB/s \n",
            "\u001b[?25hCollecting pynacl>=1.0.1\n",
            "  Downloading PyNaCl-1.5.0-cp36-abi3-manylinux_2_17_x86_64.manylinux2014_x86_64.manylinux_2_24_x86_64.whl (856 kB)\n",
            "\u001b[K     |████████████████████████████████| 856 kB 40.4 MB/s \n",
            "\u001b[?25hRequirement already satisfied: cffi>=1.1 in /usr/local/lib/python3.7/dist-packages (from bcrypt>=3.1.3->paramiko) (1.15.0)\n",
            "Requirement already satisfied: six>=1.4.1 in /usr/local/lib/python3.7/dist-packages (from bcrypt>=3.1.3->paramiko) (1.15.0)\n",
            "Requirement already satisfied: pycparser in /usr/local/lib/python3.7/dist-packages (from cffi>=1.1->bcrypt>=3.1.3->paramiko) (2.21)\n",
            "Installing collected packages: pynacl, cryptography, bcrypt, paramiko\n",
            "Successfully installed bcrypt-3.2.0 cryptography-36.0.1 paramiko-2.9.2 pynacl-1.5.0\n"
          ]
        }
      ],
      "source": [
        "# install necessary modules\n",
        "!pip install yfinance\n",
        "!pip install plotly\n",
        "!pip install ta\n",
        "!pip install paramiko"
      ]
    },
    {
      "cell_type": "code",
      "source": [
        "import os, time\n",
        "import yfinance as yf\n",
        "import requests\n",
        "import numpy as np\n",
        "import math\n",
        "import time\n",
        "import json\n",
        "import paramiko\n",
        "\n",
        "from pathlib import Path\n",
        "from datetime import datetime, timedelta\n",
        "\n",
        "import pandas as pd\n",
        "from pandas.tseries.holiday import USFederalHolidayCalendar\n",
        "from pandas.tseries.offsets import CustomBusinessDay\n",
        "\n",
        "from tensorflow import keras\n",
        "from keras.preprocessing.sequence import TimeseriesGenerator\n",
        "from tensorflow.keras.models import Sequential\n",
        "from tensorflow.keras.layers import LSTM\n",
        "from tensorflow.keras.optimizers import Adam\n",
        "from tensorflow.keras.losses import MAE\n",
        "from tensorflow.keras.layers import Dense, Dropout\n",
        "\n",
        "from sklearn.preprocessing import StandardScaler\n",
        "from sklearn.preprocessing import MinMaxScaler\n",
        "\n",
        "import plotly.graph_objects as go\n",
        "import plotly.express as px\n",
        "import plotly.graph_objects as go\n",
        "from plotly.subplots import make_subplots\n",
        "\n",
        "from matplotlib import pyplot as plt\n",
        "\n",
        "from ta.trend import MACD\n",
        "from ta.momentum import StochasticOscillator\n",
        "from ta.momentum import RSIIndicator\n",
        "\n",
        "\n",
        "from tabulate import tabulate\n",
        "from getpass import getpass"
      ],
      "metadata": {
        "id": "MIfXZ81VrrqB"
      },
      "execution_count": 3,
      "outputs": []
    },
    {
      "cell_type": "code",
      "source": [
        "INFO = 1\n",
        "DEBUG = 2\n",
        "TRACE = 3\n",
        "print_level = DEBUG \n",
        "nr_of_features = 1\n",
        "look_forward = 1\n",
        "epochs = 120\n",
        "learning_rate=0.0042\n",
        "np.random.seed(42)\n",
        "look_back = 14 #  number of past days we want to use to predict 1 day in the future.\n",
        "split_percent = 0.90 # use 90% of the data  for train\n",
        "\n",
        "if look_back < 5:\n",
        "  num_prediction = look_back * 4\n",
        "else:\n",
        "  num_prediction = look_back * 2\n",
        "username = input(\"username:\") \n",
        "password = getpass(\"password:\") "
      ],
      "metadata": {
        "id": "v8t0pC_m2bHB",
        "colab": {
          "base_uri": "https://localhost:8080/"
        },
        "outputId": "c8a09513-b12f-4615-d5d1-2e3df510fb90"
      },
      "execution_count": 4,
      "outputs": [
        {
          "name": "stdout",
          "output_type": "stream",
          "text": [
            "username:nexys\n",
            "password:··········\n"
          ]
        }
      ]
    },
    {
      "cell_type": "code",
      "source": [
        "def sftp(username,password,local_path,destination_path):\n",
        "  transport = paramiko.Transport((\"nexys.hu\", 22))\n",
        "  transport.connect(username = username, password = password)\n",
        "  sftp = paramiko.SFTPClient.from_transport(transport)\n",
        "  sftp.put(local_path, destination_path)\n",
        "  sftp.close()\n",
        "  transport.close()\n",
        "  return None"
      ],
      "metadata": {
        "id": "Z_pDmMSQ1Y1N"
      },
      "execution_count": 5,
      "outputs": []
    },
    {
      "cell_type": "code",
      "source": [
        "def get_stock_price(ticker, from_date):\n",
        "  df = yf.download(ticker.ticker, start=from_date, interval=\"1d\")\n",
        "  #df = df.rename(columns={\"Close\": \"Close1\", \"Adj Close\": \"Close\"})\n",
        "  \n",
        "  #ticker = yf.Ticker(symbol)\n",
        "\n",
        "  #df = ticker.history(start=from_date, interval=\"1d\")\n",
        "  #print(df.info())\n",
        "  df['Date'] = pd.to_datetime(df.index)\n",
        "  #df['Date'] = df['Date'].apply(mpl_dates.date2num)\n",
        "  #df = df.loc[:,['Date', 'Open', 'High', 'Low', 'Close']]\n",
        "  df['EMA21'] = df['Close'].ewm(span=21, adjust=False).mean()\n",
        "  df['MA20'] =  df['Close'].rolling(window=20).mean()\n",
        "  df['MA50'] = df['Close'].rolling(window=50).mean()\n",
        "  df['MA100'] = df['Close'].rolling(window=100).mean()\n",
        "  df['MA200'] = df['Close'].rolling(window=200).mean()\n",
        "  df['MA300'] = df['Close'].rolling(window=200).mean()\n",
        "  print('Get Stock Price', ticker.ticker, 'done.')\n",
        "  return df\n",
        "\n",
        "def is_support(df,i):\n",
        "  cond1 = df['Low'][i] < df['Low'][i-1] \n",
        "  cond2 = df['Low'][i] < df['Low'][i+1] \n",
        "  cond3 = df['Low'][i+1] < df['Low'][i+2] \n",
        "  cond4 = df['Low'][i-1] < df['Low'][i-2]\n",
        "  return (cond1 and cond2 and cond3 and cond4)\n",
        "\n",
        "def is_resistance(df,i):\n",
        "  cond1 = df['High'][i] > df['High'][i-1] \n",
        "  cond2 = df['High'][i] > df['High'][i+1] \n",
        "  cond3 = df['High'][i+1] > df['High'][i+2] \n",
        "  cond4 = df['High'][i-1] > df['High'][i-2]\n",
        "  return (cond1 and cond2 and cond3 and cond4)\n",
        "\n",
        "def is_far_from_level(value, levels, df):\n",
        "    ave =  np.mean(df['High'] - df['Low'])\n",
        "    return np.sum([abs(value - level) < ave for level in levels]) == 0\n",
        "\n",
        "def findNearestGreaterThan(searchVal, inputData):\n",
        "    diff = inputData - searchVal\n",
        "    diff[diff<0] = np.inf\n",
        "    idx = diff.argmin()\n",
        "    return inputData[idx]\n",
        "\n",
        "\n",
        "def findNearestLessThan(searchVal, inputData):\n",
        "    diff = inputData - searchVal\n",
        "    diff[diff>0] = -np.inf\n",
        "    idx = diff.argmax()\n",
        "    return inputData[idx]\n",
        "\n",
        "def indicators(chart_df):\n",
        "  # MACD\n",
        "  macd = MACD(close=chart_df['Close'], \n",
        "            window_slow=26,\n",
        "            window_fast=12, \n",
        "            window_sign=9)\n",
        "  # stochastics\n",
        "  stoch = StochasticOscillator(high=chart_df['High'],\n",
        "                             close=chart_df['Close'],\n",
        "                             low=chart_df['Low'],\n",
        "                             window=14, \n",
        "                             smooth_window=3)\n",
        "\n",
        "  rsi = RSIIndicator(close=chart_df['Close'], window=14)\n",
        "  return macd, stoch, rsi\n",
        "\n",
        "# custom function to set fill color\n",
        "def fillcol(label):\n",
        "  if label >= 1:\n",
        "    return 'rgba(0,250,0,0.4)'\n",
        "  else:\n",
        "    return 'rgba(250,0,0,0.4)'\n"
      ],
      "metadata": {
        "id": "jyYPSEVcsEFj"
      },
      "execution_count": 6,
      "outputs": []
    },
    {
      "cell_type": "code",
      "source": [
        "def calculate_levels(chart_df,close_price):\n",
        "  levels = []\n",
        "  low = 0\n",
        "  high = np.round(chart_df['Close'].max(),1)\n",
        "  for i in range(2,len(chart_df)-2):\n",
        "    try:\n",
        "      if is_support(chart_df,i):\n",
        "        low = chart_df['Low'][i]\n",
        "      if is_far_from_level(low, levels, chart_df):\n",
        "        levels.append(low)\n",
        "      elif is_resistance(chart_df,i):\n",
        "        high = chart_df['High'][i]\n",
        "      if is_far_from_level(high, levels, chart_df):\n",
        "        levels.append(high)\n",
        "    except:\n",
        "      print('calculate_levels error')\n",
        "  levels = sorted(levels, reverse=True)\n",
        "\n",
        "  min_level = np.round(findNearestLessThan(close_price,levels),1)\n",
        "  if(min_level > close_price):\n",
        "    min_level = np.round(close_price * 0.8,1)\n",
        "\n",
        "  max_level = np.round(findNearestGreaterThan(close_price,levels),1)\n",
        "  if(max_level < close_price):\n",
        "    max_level = np.round(close_price * 1.2,1)\n",
        "\n",
        "#  print('close_price',close_price,'min_level:',min_level,'max_level:', max_level)\n",
        "  return levels, min_level, max_level"
      ],
      "metadata": {
        "id": "cBDM1rHHKZSf"
      },
      "execution_count": 7,
      "outputs": []
    },
    {
      "cell_type": "code",
      "source": [
        "def options_chain(ticker):\n",
        "\n",
        "    #tk = yf.Ticker(symbol)\n",
        "    # Expiration dates\n",
        "    exps = ticker.options\n",
        "\n",
        "    # Get options for each expiration\n",
        "    options = pd.DataFrame()\n",
        "    for e in exps:\n",
        "        opt = ticker.option_chain(e)\n",
        "        opt = pd.DataFrame().append(opt.calls).append(opt.puts)\n",
        "        opt['expirationDate'] = e\n",
        "        options = options.append(opt, ignore_index=True)\n",
        "\n",
        "    # Bizarre error in yfinance that gives the wrong expiration date\n",
        "    # Add 1 day to get the correct expiration date\n",
        "    options['expirationDate'] = pd.to_datetime(options['expirationDate'])\n",
        "    options.insert(0,'dte',(options['expirationDate'] - datetime.today()).dt.days + 1)\n",
        "    options['expirationDate'] = options['expirationDate'].dt.date\n",
        "    # Boolean column if the option is a CALL x : True if (x > 10 and x < 20) else False\n",
        "    options.insert(1,'CALL',options['contractSymbol'].str[4:].apply(lambda x: \"C\" in x))\n",
        "    \n",
        "    options[['bid', \n",
        "             'ask', \n",
        "             'strike', \n",
        "             'lastPrice', \n",
        "             'volume',\n",
        "             'change',\n",
        "             'percentChange',\n",
        "             'openInterest',\n",
        "             'impliedVolatility']] = options[[\n",
        "                                   'bid', \n",
        "                                   'ask', \n",
        "                                   'strike',\n",
        "                                   'lastPrice',\n",
        "                                   'volume',\n",
        "                                   'change',\n",
        "                                   'percentChange',\n",
        "                                   'openInterest',\n",
        "                                   'impliedVolatility']].apply(pd.to_numeric)\n",
        "    \n",
        "    options['spread%'] = np.round(100 - ((options['bid'] / options['ask']) * 100),1) # Calculate the midpoint of the bid-ask\n",
        "    \n",
        "    # Drop unnecessary and meaningless columns\n",
        "    #options = options.drop(columns = ['contractSize', 'currency', 'change', 'percentChange', 'lastTradeDate', 'lastPrice'])\n",
        "    print('Get options',ticker.ticker,'done.')\n",
        "    return options"
      ],
      "metadata": {
        "id": "R2FEIo4xTL-w"
      },
      "execution_count": 8,
      "outputs": []
    },
    {
      "cell_type": "code",
      "source": [
        "def find_level_optionInterests(options_df,ticker,close_price,min_level,max_level, dte_min, dte_max):\n",
        "  options_df['impliedVolatility'] = np.round(options_df['impliedVolatility'],2)\n",
        "  options_df['percentChange'] = np.round(options_df['percentChange'],2)\n",
        "  #expirationDates = options_df['expirationDate'].unique()\n",
        "  #print(sorted(expirationDates))\n",
        "\n",
        "  #PUT_options_df = pd.DataFrame()\n",
        "  #CALL_options_df = pd.DataFrame()\n",
        "\n",
        "  #for key, value in options_df.items():\n",
        "  #  date = key\n",
        "  #  rsi = float(value.get('RSI'))\n",
        "  #  rsi_data.append([date,rsi])\n",
        "#  print('PUT OPTIONS', 'CLOSE PRICE:',close_price, 'SUPPORT -15%:', np.round(min_level * 0.85,2), 'RESISTANCE +15%:', np.round(max_level * 1.15,2))\n",
        "  PUT_options_df = options_df.query('CALL == False and strike>' + str(min_level * 0.85) + ' and strike<' + str(max_level * 1.15) + ' and dte>' + str(dte_min) + ' and dte<' + str(dte_max))\n",
        "  put_max_openInterest_index = PUT_options_df[\"openInterest\"].idxmax()\n",
        "  put_max_volume_index = PUT_options_df[\"volume\"].idxmax()\n",
        "  PUT_options_to_return_df = PUT_options_df.loc[put_max_openInterest_index:put_max_openInterest_index]\n",
        "  PUT_options_to_return_df = PUT_options_to_return_df.append(PUT_options_df.loc[put_max_volume_index:put_max_volume_index])\n",
        "  PUT_options_to_return_df = PUT_options_to_return_df.drop(columns = ['contractSize', 'currency','change','percentChange', 'lastTradeDate', 'lastPrice', 'inTheMoney','contractSymbol']) \n",
        "  \n",
        "#  print(tabulate(PUT_options_to_return_df, headers = 'keys', tablefmt = 'psql'))\n",
        "\n",
        "#  print('CALL OPTIONS', 'CLOSE PRICE:',close_price, 'SUPPORT -15%:', np.round(min_level * 0.85,2), 'RESISTANCE +15%:', np.round(max_level * 1.15,2))\n",
        "  CALL_options_df = options_df.query('CALL == True and strike>' + str(min_level * 0.85) + ' and strike<' + str(max_level * 1.15) + ' and dte>' + str(dte_min) + ' and dte<' + str(dte_max))\n",
        "  call_max_openInterest_index = CALL_options_df[\"openInterest\"].idxmax()\n",
        "  call_max_volume_index = CALL_options_df[\"volume\"].idxmax()\n",
        "  CALL_options_to_return_df = CALL_options_df.loc[call_max_openInterest_index:call_max_openInterest_index]\n",
        "  CALL_options_to_return_df = CALL_options_to_return_df.append(CALL_options_df.loc[call_max_volume_index:call_max_volume_index])\n",
        "  CALL_options_to_return_df = CALL_options_to_return_df.drop(columns = ['contractSize', 'currency', 'change','percentChange', 'lastTradeDate', 'lastPrice', 'inTheMoney','contractSymbol']) \n",
        "#  print(call_max_openInterest_index,tabulate(CALL_options_to_return_df, headers = 'keys', tablefmt = 'psql'))\n",
        "  return PUT_options_to_return_df, CALL_options_to_return_df"
      ],
      "metadata": {
        "id": "fbz2SVTOTwki"
      },
      "execution_count": 9,
      "outputs": []
    },
    {
      "cell_type": "code",
      "source": [
        "def predict(indicators_lstm_test_data_scaled, model):\n",
        "    prediction_list = indicators_lstm_test_data_scaled[-look_back:]\n",
        "    #print('prediction_list',prediction_list)\n",
        "    for _ in range(num_prediction):\n",
        "        x = prediction_list[-look_back:]\n",
        "        #print(x)\n",
        "        x = x.reshape((1, look_back, nr_of_features))\n",
        "        out = model.predict(x)\n",
        "        #print(x,out) \n",
        "        prediction_list = np.append(prediction_list, out, axis=0)\n",
        "    prediction_list = prediction_list[look_back-1:]\n",
        "        \n",
        "    return prediction_list\n",
        "    \n",
        "def predict_dates(last_date):\n",
        "    us_bd = CustomBusinessDay(calendar=USFederalHolidayCalendar())\n",
        "    prediction_dates = pd.date_range(last_date, periods=num_prediction+1,freq=us_bd).tolist()\n",
        "    return prediction_dates"
      ],
      "metadata": {
        "id": "wenwA2Nr2GJw"
      },
      "execution_count": 10,
      "outputs": []
    },
    {
      "cell_type": "code",
      "source": [
        "def get_prediction_data(df,ticker):\n",
        "\n",
        "  indicators_model_file_path = '/content/drive/MyDrive/models/' + ticker.ticker + '_' + str(look_back) + '_' + str(nr_of_features) + '_indicators_10.h5'\n",
        "  \n",
        "  indicators_model = None\n",
        "  try:\n",
        "    indicators_model = keras.models.load_model(indicators_model_file_path)\n",
        "    #modified = os.path.getmtime(indicators_model_file_path)\n",
        "\n",
        "    #print(pd.to_datetime(last_date).date() - datetime.fromtimestamp(modified).date() )\n",
        "    #print('Loaded', indicators_model_file_path , ' model train date:',datetime.fromtimestamp(modified).date() , 'last date:', last_date)\n",
        "  except:\n",
        "    indicators_model = None\n",
        "    print('Model ' + indicators_model_file_path + ' does not exists.')\n",
        "\n",
        "  indicators_lstm_data = np.expand_dims(df['RSI'].values.copy()[look_back:], axis=1).astype(float)\n",
        "  split = int(split_percent*len(indicators_lstm_data))\n",
        " \n",
        "  indicators_scaler = MinMaxScaler(feature_range=(0, 1))\n",
        "  indicators_scaler = indicators_scaler.fit(indicators_lstm_data)\n",
        "\n",
        "  indicators_lstm_train_data = indicators_lstm_data[:split]\n",
        "  indicators_lstm_test_data = indicators_lstm_data[split:]\n",
        "  \n",
        "  indicators_lstm_train_data_scaled = indicators_scaler.transform(indicators_lstm_train_data)\n",
        "#  print(indicators_lstm_train_data_scaled[:look_back*2])\n",
        "#  print(indicators_lstm_train_data_scaled.shape)\n",
        "  \n",
        "  indicators_lstm_test_data_scaled = indicators_scaler.transform(indicators_lstm_test_data)\n",
        "#  print(indicators_lstm_test_data_scaled[:look_back+1])\n",
        "#  print(indicators_lstm_test_data_scaled.shape)\n",
        "\n",
        "  indicators_train_generator = TimeseriesGenerator(indicators_lstm_train_data_scaled, indicators_lstm_train_data_scaled, sampling_rate=1, length=look_back, batch_size=64)\n",
        "\n",
        "  if indicators_model is None:\n",
        "    indicators_model = Sequential()\n",
        "    indicators_model.add(LSTM(units=42, activation='tanh', input_shape=(look_back, nr_of_features), return_sequences=True))\n",
        "    indicators_model.add(Dropout(0.2))\n",
        "    indicators_model.add(LSTM(units=42, return_sequences=True, activation=\"relu\"))\n",
        "    indicators_model.add(Dropout(0.2))\n",
        "    indicators_model.add(LSTM(units=42, return_sequences=True, activation=\"relu\"))\n",
        "    indicators_model.add(Dropout(0.2))\n",
        "    indicators_model.add(LSTM(units=42, activation=\"tanh\"))\n",
        "    indicators_model.add(Dropout(0.2))\n",
        "    indicators_model.add(Dense(nr_of_features))\n",
        "\n",
        "    indicators_model.compile(\n",
        "      loss=MAE,\n",
        "      optimizer=Adam(learning_rate=learning_rate),\n",
        "      metrics=['mae','mse']\n",
        "    )\n",
        "    \n",
        "    #indicators_model.summary()\n",
        "    print('Model ' + indicators_model_file_path + ' compiled.')\n",
        "\n",
        "    indicators_modelo = indicators_model.fit(indicators_train_generator, epochs=epochs, verbose=0 )\n",
        "  \n",
        "    indicators_model.save(indicators_model_file_path)\n",
        "    print('Saved model ' + indicators_model_file_path)\n",
        "\n",
        "  \n",
        "    plt.plot(indicators_modelo.history['loss'])\n",
        "    plt.xlabel('Epochs')\n",
        "    plt.ylabel('Loss')\n",
        "    plt.show()\n",
        "\n",
        "  indicators_test_generator = TimeseriesGenerator(indicators_lstm_test_data_scaled, indicators_lstm_test_data_scaled,sampling_rate=1, length=look_back, batch_size=look_back)\n",
        "  #Make test prediction\n",
        "  indicators_test_prediction_scaled = indicators_model.predict(indicators_test_generator)\n",
        "  indicators_test_prediction = indicators_scaler.inverse_transform(indicators_test_prediction_scaled)\n",
        "  indicators_test_prediction = indicators_test_prediction.reshape((-1))\n",
        "\n",
        "  #Make future prediction\n",
        "  indicators_prediction_scaled = predict(indicators_lstm_test_data_scaled, indicators_model)\n",
        "  indicators_prediction = indicators_scaler.inverse_transform(indicators_prediction_scaled.reshape((-1,nr_of_features)))\n",
        "  indicators_prediction = indicators_prediction.reshape((-1))\n",
        "  print('Get prediction data',ticker.ticker,'done.')\n",
        "  return indicators_test_prediction, indicators_prediction"
      ],
      "metadata": {
        "id": "yWmRs8WSrtxq"
      },
      "execution_count": 11,
      "outputs": []
    },
    {
      "cell_type": "code",
      "source": [
        "def get_news(ticker):\n",
        "  news_data = []\n",
        "  try:\n",
        "    for headline in ticker.news:\n",
        "      providerPublishTime = datetime.fromtimestamp((headline['providerPublishTime'])).strftime('%Y-%m-%d %H:%M:%S')\n",
        "      link = '<a href=\"'+ headline['link']+'\">' + headline['title'] + '</a>'\n",
        "      publisher = headline['publisher'] \n",
        "      news_data.append([providerPublishTime,publisher,link])\n",
        "    print('Get news',ticker.ticker,'done.')  \n",
        "  except Exception as e:\n",
        "    print('Get news',ticker.ticker,'error.')\n",
        "  news_df = pd.DataFrame(news_data, columns=['Time','Publisher', 'Title'])\n",
        "  return news_df"
      ],
      "metadata": {
        "id": "J7OfhcBQcjCf"
      },
      "execution_count": 12,
      "outputs": []
    },
    {
      "cell_type": "code",
      "source": [
        "def get_earning(ticker):\n",
        "  earning_date = None\n",
        "  if ticker.calendar is not None:\n",
        "    try:\n",
        "      print(ticker.calendar.iloc[0])\n",
        "      earning_date = ticker.calendar.iloc[0][0]\n",
        "      print('Get calendar',ticker.ticker,'done.')\n",
        "    except Exception as e:\n",
        "      print('Get calendar',ticker.ticker,'error.')\n",
        "  return earning_date"
      ],
      "metadata": {
        "id": "VwTC2GoXyotk"
      },
      "execution_count": 13,
      "outputs": []
    },
    {
      "cell_type": "code",
      "source": [
        "def get_chart(ticker, df, indicators_test_prediction, indicators_prediction):\n",
        "  days = 365\n",
        "  last_day_df = df[-1:]\n",
        "  last_date = last_day_df['Date'].index[0].date()\n",
        "  close_price = np.round(last_day_df['Close'][0],1)\n",
        "\n",
        "  ath = np.round(df['Close'].max(),1)\n",
        "  discount = np.round(ath - close_price,1)\n",
        "  discount_percent = np.round((discount / close_price) * 100, 1)\n",
        "  \n",
        "  chart_df = df.tail(days)\n",
        "\n",
        "  levels, min_level, max_level = calculate_levels(chart_df,close_price)\n",
        "\n",
        "  min_level_0_85 = np.round(min_level * 0.85,2)\n",
        "  min_level_0_85_discount = np.round(min_level_0_85 - close_price)\n",
        "  min_level_0_85_discount_percent =  np.round((min_level_0_85_discount / close_price) * 100, 1)\n",
        "\n",
        "  max_level_1_15 = np.round(max_level * 1.15,2)\n",
        "  max_level_1_15_discount = np.round(max_level_1_15 - close_price)\n",
        "  max_level_1_15_discount_percent = np.round((max_level_1_15_discount / close_price) * 100, 1)\n",
        "\n",
        "  options_df = pd.DataFrame()\n",
        "  all_options_df = options_chain(ticker)\n",
        "  near_PUT_options_df, near_CALL_options_df = find_level_optionInterests(all_options_df,ticker,close_price,min_level_0_85,max_level_1_15, -1, 33)\n",
        "  far_PUT_options_df, far_CALL_options_df = find_level_optionInterests(all_options_df,ticker,close_price,min_level_0_85,max_level_1_15, 33, 333)\n",
        "\n",
        "  options_df = options_df.append(near_PUT_options_df)\n",
        "  options_df = options_df.append(far_PUT_options_df)\n",
        "  options_df = options_df.append(near_CALL_options_df)\n",
        "  options_df = options_df.append(far_CALL_options_df)\n",
        "  options_df.insert(3,'Price',close_price)\n",
        "  options_df = options_df.sort_values(by=['dte'])\n",
        "\n",
        "  min_level_discount = np.round(min_level - close_price)\n",
        "  min_level_discount_percent = np.round((min_level_discount / close_price) * 100, 1)\n",
        "  \n",
        "  max_level_discount = np.round(max_level - close_price)\n",
        "  max_level_discount_percent = np.round((max_level_discount / close_price) * 100, 1)\n",
        "  \n",
        "  tradingview_link = '<a href=\"https://in.tradingview.com/chart/66XmQfYy/?symbol=' + ticker.ticker +'\">' +  ticker.ticker + ' ' + str(last_date)  +'</a> '\n",
        "  seeking_alpha_link = '<a href=\"https://seekingalpha.com/symbol/'+ ticker.ticker +'\"> Seeking Alpha </a> '\n",
        "  google_news_link = '<a href=\"https://news.google.com/search?for=' + ticker.ticker + '+stock when:7d&hl=en-US&gl=US&ceid=US%3Aen\"> Google News </a> '\n",
        "#  twitter_link = '<a href=\"https://twitter.com/search?q=$' + ticker.ticker + '%20stock&src=typed_query&f=live\"> Twitter </a> '\n",
        "\n",
        "  title = '<b>' + tradingview_link + '</b> ' + seeking_alpha_link + google_news_link + 'Earning:' + str(get_earning(ticker))\n",
        "  title += '<br>'\n",
        "  title += '<b>Close Price:</b>' + str(close_price) + ' <b>ATH:</b>' + str(ath) + ' <b>Discount:</b>' + str(discount) + ' (' + str(discount_percent) + '%)'\n",
        "  title += '<br>'\n",
        "  title += '<b>Support:</b>' + str(min_level) + ' ('+str(min_level_discount_percent)+'%) ' \n",
        "  title += '<b>Close Price:</b>' + str(close_price) + ' ' \n",
        "  title += '<b>Resistance:</b>' + str(max_level) + ' ('+str(max_level_discount_percent)+'%) '\n",
        "  title += '<br>' \n",
        "  title += '<b>Support -15%:</b>' + str(min_level_0_85) + ' (' + str(min_level_0_85_discount_percent) + '%) '\n",
        "  title += '<b>Close Price:</b>' + str(close_price) + ' ' \n",
        "  title += '<b>Resistance +15%:</b>' + str(max_level_1_15) + ' (' + str(max_level_1_15_discount_percent) +  '%) '\n",
        "  \n",
        "  # add subplot properties when initiliazing fig variable\n",
        "  fig = make_subplots(rows=6, cols=1, shared_xaxes=True,\n",
        "                    vertical_spacing=0.012, \n",
        "                    row_heights=[0.30,0.05,0.10,0.158,0.10,0.27],\n",
        "                    subplot_titles=[title],\n",
        "                    specs=[\n",
        "                           [{\"type\": \"candlestick\"}],\n",
        "                           [{\"type\": \"bar\"}],\n",
        "                           [{\"type\": \"scatter\"}],\n",
        "                           [{\"type\": \"table\"}],\n",
        "                           [{\"type\": \"scatter\"}],\n",
        "                           [{\"type\": \"table\"}]\n",
        "                           ])\n",
        "\n",
        "  candlestick_row = 1\n",
        "  volume_row = 2\n",
        "  table_row = 4\n",
        "  rsi_row = 3\n",
        "  macd_row = 5\n",
        "  news_row = 6\n",
        "  \n",
        "\n",
        "  fig.update_layout(\n",
        "      height=1400, width=1200, \n",
        "      showlegend=True,\n",
        "      dragmode= 'pan',\n",
        "      margin=go.layout.Margin(\n",
        "          l=20, #left margin\n",
        "          r=20, #right margin\n",
        "          b=20, #bottom margin\n",
        "          t=100  #top margin\n",
        "      ))\n",
        "\n",
        "  fig.update_annotations({'font': {'size': 12}}) \n",
        "\n",
        "  # Options Table \n",
        "  fig.add_trace(\n",
        "      go.Table(\n",
        "        header=dict(values=list(options_df.columns),\n",
        "                fill_color='paleturquoise',\n",
        "                font=dict(color='black', size=12),\n",
        "                align='left'),\n",
        "        cells=dict(values=options_df.transpose().values.tolist(),\n",
        "               fill_color='lavender',\n",
        "               align='left')\n",
        "        ),row=table_row, col=1)\n",
        "\n",
        "  # News table\n",
        "  news_df = get_news(ticker)\n",
        "  fig.add_trace(\n",
        "    go.Table(\n",
        "          columnwidth = [80,80,400],  \n",
        "          header=dict(values=list(news_df.columns),\n",
        "                fill_color='paleturquoise',\n",
        "                align='left'),\n",
        "          cells=dict(values=[news_df.Time, news_df.Publisher, news_df.Title],\n",
        "               fill_color='lavender',\n",
        "               align='left')\n",
        "      ),\n",
        "    row=news_row, \n",
        "    col=1)\n",
        "\n",
        "\n",
        "  # Plot RSI trace \n",
        "  fig.add_trace(go.Scatter(x=chart_df.index,\n",
        "                          y=chart_df['RSI'],\n",
        "                          line=dict(color='royalblue', width=2),\n",
        "                          name='RSI(14)'\n",
        "                          ), row=rsi_row, col=1)\n",
        "  if indicators_test_prediction is not None and indicators_prediction is not None:\n",
        "    fig.add_trace(go.Scatter(x=chart_df['Date'].tail(len(indicators_test_prediction)),\n",
        "                          y = indicators_test_prediction,\n",
        "                          line=dict(color='firebrick', width=3, dash = 'dash'),\n",
        "                          name='RSI(14) Test Predict'\n",
        "                          ), row=rsi_row, col=1)\n",
        "  \n",
        "    indicators_prediction_dates = predict_dates(last_date)\n",
        "    fig.add_trace(go.Scatter(x=indicators_prediction_dates,\n",
        "                          y = indicators_prediction,\n",
        "                          line=dict(color='firebrick', width=3, dash = 'dot'),\n",
        "                          name='RSI(14) Future Predict'\n",
        "                          ), row=rsi_row, col=1)\n",
        " \n",
        "\n",
        "  fig.add_trace(go.Scatter(\n",
        "          x = [np.min(chart_df.index), np.max(chart_df.index)],\n",
        "          y = [70, 70],\n",
        "          mode = \"lines\",\n",
        "          line = dict(shape = 'linear', color = 'rgb(100, 10, 100)', dash = 'dash'),\n",
        "          name = 'RSI(14) over bought'\n",
        "      ),row=rsi_row, col=1)\n",
        "\n",
        "  fig.add_trace(go.Scatter(\n",
        "          x = [np.min(chart_df.index), np.max(chart_df.index)],\n",
        "          y = [50, 50],\n",
        "          mode = \"lines\",\n",
        "          line = dict(shape = 'linear', color = 'rgb(10, 12, 240)', dash = 'dash'),\n",
        "          name='RSI(14) Neutral'\n",
        "      ),row=rsi_row, col=1)\n",
        "\n",
        "  fig.add_trace(go.Scatter(\n",
        "          x = [np.min(chart_df.index), np.max(chart_df.index)],\n",
        "          y = [30, 30],\n",
        "          mode = \"lines\",\n",
        "          line = dict(shape = 'linear', color = 'rgb(10, 120, 24)', dash = 'dash'),\n",
        "          name='RSI(14) over sold'\n",
        "      ),row=rsi_row, col=1)\n",
        "\n",
        "\n",
        "  # Plot OHLC on 3st subplot (using the codes from before)\n",
        "  fig.add_trace(go.Candlestick(x=chart_df.index,\n",
        "                             open=chart_df['Open'],\n",
        "                             high=chart_df['High'],\n",
        "                             low=chart_df['Low'],\n",
        "                             close=chart_df['Close'], \n",
        "                             name=ticker.ticker,\n",
        "                             showlegend=True), row=candlestick_row, col=1)\n",
        "  \n",
        "\n",
        "  # add moving average traces\n",
        "  fig.add_trace(go.Scatter(x=chart_df.index, \n",
        "                         y=chart_df['MA20'], \n",
        "                         line=dict(color='lightgreen', width=2),\n",
        "                         fill=None,\n",
        "                         mode='lines',\n",
        "                         name='MA 20'), row=candlestick_row, col=1)\n",
        "  fig.add_trace(go.Scatter(x=chart_df.index, \n",
        "                         y=chart_df['EMA21'], \n",
        "                         fill='tonexty',\n",
        "                         mode='lines',\n",
        "                         line=dict(color='green', width=2), \n",
        "                         name='EMA 21'), row=candlestick_row, col=1)\n",
        "  fig.add_trace(go.Scatter(x=chart_df.index, \n",
        "                         y=chart_df['MA50'], \n",
        "                         line=dict(color='blue', width=2), \n",
        "                         name='MA 50'), row=candlestick_row, col=1)\n",
        "  fig.add_trace(go.Scatter(x=chart_df.index, \n",
        "                         y=chart_df['MA100'], \n",
        "                         line=dict(color='orange', width=2), \n",
        "                         name='MA 100'), row=candlestick_row, col=1)\n",
        "  fig.add_trace(go.Scatter(x=chart_df.index, \n",
        "                         y=chart_df['MA200'], \n",
        "                         line=dict(color='red', width=2), \n",
        "                         name='MA 200'), row=candlestick_row, col=1)\n",
        "  fig.add_trace(go.Scatter(x=chart_df.index, \n",
        "                         y=chart_df['MA300'], \n",
        "                         line=dict(color='black', width=2), \n",
        "                         name='MA 300'), row=candlestick_row, col=1)\n",
        "\n",
        "\n",
        "  start_date = \"2021-06-01\"\n",
        "  end_date = \"2022-01-31\"\n",
        "  #zoom_df = chart_df.iloc['Date' >= start_date]\n",
        "  \n",
        "  zoom_df = chart_df[chart_df.Date >= start_date]\n",
        "  y_zoom_max = zoom_df[\"High\"].max()\n",
        "  y_zoom_min = zoom_df[\"Low\"].min()\n",
        "\n",
        "  ath_percent = 0\n",
        "  \n",
        "  for idx, level in  enumerate(levels):\n",
        "      percent = 0\n",
        "      if idx == 0:\n",
        "        ath = level\n",
        "      current_level = level\n",
        "      if idx > 0:\n",
        "        prev_level = levels[idx-1]\n",
        "        diff = prev_level - current_level\n",
        "        ath_diff = ath - current_level\n",
        "        percent = (diff / current_level) * 100\n",
        "        ath_percent =  (ath_diff / current_level) * 100\n",
        "      if level <= (min_level * 0.98) or level >= (max_level * 1.02):\n",
        "        line_color = 'rgba(100, 10, 100, 0.2)'\n",
        "        line_fill=None\n",
        "      else:\n",
        "        line_color = 'rgba(128,128,128,1)'\n",
        "        line_fill='tonexty'\n",
        "      fig.add_trace(go.Scatter(\n",
        "          x = [chart_df.index.min(), chart_df.index.max()],\n",
        "          y = [level, level],\n",
        "          mode=\"lines+text\",\n",
        "          name=\"Lines and Text\",\n",
        "          fill=line_fill,\n",
        "          showlegend=False,\n",
        "          text=['','$' + str(np.round(current_level,1)) + ' (' + str(np.round(percent,1)) + '% disc:' + str(np.round(ath_percent,1))+ '%)',''],\n",
        "          textposition=\"top right\",\n",
        "          line = dict(shape = 'linear', color = line_color, dash = 'dash', width=1)\n",
        "        ), row=candlestick_row, col=1)\n",
        "\n",
        "\n",
        "  # Plot volume trace on 4d row \n",
        "  colors = ['green' if row['Open'] - row['Close'] >= 0 \n",
        "            else 'red' for index, row in chart_df.iterrows()]\n",
        "  fig.add_trace(go.Bar(x=chart_df.index, \n",
        "                      y=chart_df['Volume'],\n",
        "                      marker_color=colors,\n",
        "                      name='Volume'\n",
        "                      ), row=volume_row, col=1)\n",
        "\n",
        "\n",
        "  # Plot MACD trace on 5rd row\n",
        "  colors = ['green' if val >= 0 \n",
        "            else '#FF5733' for val in macd.macd_diff()]\n",
        "  fig.add_trace(go.Bar(x=chart_df.index, \n",
        "                      y=chart_df['MACD_DIFF'],\n",
        "                      marker_color=colors,\n",
        "                      name='MACD diff'\n",
        "                      ), row=macd_row, col=1)\n",
        "  fig.add_trace(go.Scatter(x=chart_df.index,\n",
        "                          y=chart_df['MACD'],\n",
        "                          line=dict(color='green', width=2),\n",
        "                          name='MACD'\n",
        "                          ), row=macd_row, col=1)\n",
        "  fig.add_trace(go.Scatter(x=chart_df.index,\n",
        "                          y=chart_df['MACD_SIGNAL'],\n",
        "                          line=dict(color='red', width=1),\n",
        "                          name='MACD signal'\n",
        "                          ), row=macd_row, col=1)\n",
        "\n",
        "  fig.update_layout(xaxis_rangeslider_visible=False)\n",
        "  fig.update_xaxes(type=\"date\", range=[start_date, end_date])\n",
        "  fig.update_yaxes(range=[y_zoom_min,y_zoom_max], row=candlestick_row, col=1)\n",
        "  fig.update_yaxes(showspikes=True, spikemode='across', spikesnap='cursor',spikedash='dash')\n",
        "  fig.update_xaxes(showspikes=True, spikemode='across', spikesnap='cursor', spikedash='dash')\n",
        "\n",
        "  folder='/content/drive/MyDrive/models/charts/'+ str(last_date)\n",
        "  Path(folder).mkdir(parents=True, exist_ok=True)\n",
        "  chartPath = folder + '/' + ticker.ticker + '.html'\n",
        "  print('Chart saved:', chartPath)\n",
        "  fig.write_html(chartPath)\n",
        "\n",
        "  print('Get chart',ticker.ticker,'done.') \n",
        "  return fig, chartPath, last_date"
      ],
      "metadata": {
        "id": "__5S41Y6xHQr"
      },
      "execution_count": 14,
      "outputs": []
    },
    {
      "cell_type": "code",
      "source": [
        "ticker = yf.Ticker('XLNX')\n",
        "df = get_stock_price(ticker,\"2019-01-01\")\n",
        "\n",
        "#print(ticker.recommendations)\n",
        "#print(ticker.calendar)\n",
        "#print(get_earning(ticker))\n",
        "\n",
        "macd, soch, rsi = indicators(df)\n",
        "df['RSI'] = rsi.rsi().to_numpy()\n",
        "df['MACD_DIFF'] = macd.macd_diff().to_numpy()\n",
        "df['MACD'] = macd.macd().to_numpy()\n",
        "df['MACD_SIGNAL'] = macd.macd_signal().to_numpy()\n",
        "\n",
        "indicators_test_prediction, indicators_prediction = get_prediction_data(df,ticker)\n",
        "#print(prediction_data)\n",
        "#print(forecast_data)\n",
        "#fig = get_chart(ticker, df, None, None)\n",
        "fig, chartPath, last_date = get_chart(ticker, df, indicators_test_prediction, indicators_prediction)\n",
        "fig.show()\n",
        "print(chartPath)\n",
        "sftp(username,password,chartPath,\"/home/nexys/vagrant/www/nexys.hu/stonks/\"+ticker.ticker + \"_\"+ str(last_date)+ \".html\")"
      ],
      "metadata": {
        "colab": {
          "base_uri": "https://localhost:8080/",
          "height": 1000
        },
        "id": "3tsG8hRUQH8Y",
        "outputId": "1318c193-f208-4144-f6a1-da76b4ba3679"
      },
      "execution_count": 18,
      "outputs": [
        {
          "output_type": "stream",
          "name": "stdout",
          "text": [
            "\r[*********************100%***********************]  1 of 1 completed\n",
            "Get Stock Price XLNX done.\n",
            "Get prediction data XLNX done.\n",
            "Get options XLNX done.\n",
            "0    2022-01-25 16:20:00\n",
            "1    2022-01-31 21:20:00\n",
            "Name: Earnings Date, dtype: object\n",
            "Get calendar XLNX done.\n",
            "Get news XLNX done.\n"
          ]
        },
        {
          "output_type": "stream",
          "name": "stderr",
          "text": [
            "/usr/local/lib/python3.7/dist-packages/ipykernel_launcher.py:227: RuntimeWarning:\n",
            "\n",
            "divide by zero encountered in double_scalars\n",
            "\n",
            "/usr/local/lib/python3.7/dist-packages/ipykernel_launcher.py:228: RuntimeWarning:\n",
            "\n",
            "divide by zero encountered in double_scalars\n",
            "\n"
          ]
        },
        {
          "output_type": "stream",
          "name": "stdout",
          "text": [
            "Chart saved: /content/drive/MyDrive/models/charts/2022-01-11/XLNX.html\n",
            "Get chart XLNX done.\n"
          ]
        },
        {
          "output_type": "display_data",
          "data": {
            "text/html": [
              "<html>\n",
              "<head><meta charset=\"utf-8\" /></head>\n",
              "<body>\n",
              "    <div>\n",
              "            <script src=\"https://cdnjs.cloudflare.com/ajax/libs/mathjax/2.7.5/MathJax.js?config=TeX-AMS-MML_SVG\"></script><script type=\"text/javascript\">if (window.MathJax) {MathJax.Hub.Config({SVG: {font: \"STIX-Web\"}});}</script>\n",
              "                <script type=\"text/javascript\">window.PlotlyConfig = {MathJaxConfig: 'local'};</script>\n",
              "        <script src=\"https://cdn.plot.ly/plotly-latest.min.js\"></script>    \n",
              "            <div id=\"f47d1071-b14e-4f35-a6d0-55ff810bae7c\" class=\"plotly-graph-div\" style=\"height:1400px; width:1200px;\"></div>\n",
              "            <script type=\"text/javascript\">\n",
              "                \n",
              "                    window.PLOTLYENV=window.PLOTLYENV || {};\n",
              "                    \n",
              "                if (document.getElementById(\"f47d1071-b14e-4f35-a6d0-55ff810bae7c\")) {\n",
              "                    Plotly.newPlot(\n",
              "                        'f47d1071-b14e-4f35-a6d0-55ff810bae7c',\n",
              "                        [{\"cells\": {\"align\": \"left\", \"fill\": {\"color\": \"lavender\"}, \"values\": [[9, 9, 16, 16, 44, 156, 156, 156], [false, true, false, true, true, false, false, true], [190.0, 230.0, 182.5, 187.5, 215.0, 240.0, 150.0, 250.0], [200.5, 200.5, 200.5, 200.5, 200.5, 200.5, 200.5, 200.5], [0.0, 0.0, 4.3, 19.4, 11.6, 46.45, 0.0, 0.0], [0.0, 0.0, 7.0, 22.35, 14.2, 49.9, 0.0, 0.0], [513.0, 1977.0, null, null, 1.0, null, 312.0, 430.0], [0.0, 0.0, 22.0, 10.0, 50.0, 94.0, 0.0, 0.0], [0.06, 0.13, 0.77, 0.8, 0.66, 0.44, 0.13, 0.06], [\"2022-01-21\", \"2022-01-21\", \"2022-01-28\", \"2022-01-28\", \"2022-02-25\", \"2022-06-17\", \"2022-06-17\", \"2022-06-17\"], [null, null, 38.6, 13.2, 18.3, 6.9, null, null]]}, \"domain\": {\"x\": [0.0, 1.0], \"y\": [0.3796237218813906, 0.5314846625766871]}, \"header\": {\"align\": \"left\", \"fill\": {\"color\": \"paleturquoise\"}, \"font\": {\"color\": \"black\", \"size\": 12}, \"values\": [\"dte\", \"CALL\", \"strike\", \"Price\", \"bid\", \"ask\", \"volume\", \"openInterest\", \"impliedVolatility\", \"expirationDate\", \"spread%\"]}, \"type\": \"table\"}, {\"cells\": {\"align\": \"left\", \"fill\": {\"color\": \"lavender\"}, \"values\": [[\"2022-01-11 14:38:04\", \"2022-01-11 07:00:00\", \"2022-01-10 22:38:10\", \"2022-01-06 22:50:10\", \"2022-01-06 20:14:02\", \"2022-01-05 20:52:00\", \"2022-01-04 15:50:03\", \"2022-01-04 15:00:00\"], [\"GuruFocus.com\", \"TheStreet.com\", \"GuruFocus.com\", \"Zacks\", \"InvestorPlace\", \"Motley Fool\", \"Zacks\", \"Motley Fool\"], [\"<a href=\\\"https://finance.yahoo.com/news/brookstone-capital-management-buys-vanguard-143804393.html\\\">Brookstone Capital Management Buys Vanguard Total Bond Market ETF, SPDR Dow Jones Industrial ...</a>\", \"<a href=\\\"https://finance.yahoo.com/m/3a4efa82-ff16-3d67-8c9b-0c8f29500171/amd-stock-leaps-after-keybanc.html\\\">AMD Stock Leaps After KeyBanc Overweight Rating Upgrade, Price Target Boost</a>\", \"<a href=\\\"https://finance.yahoo.com/news/boltwood-capital-management-buys-flexshares-223810599.html\\\">Boltwood Capital Management Buys FlexShares Credit-Scored US Corporate Bond Index, ISHARES ...</a>\", \"<a href=\\\"https://finance.yahoo.com/news/xilinx-xlnx-gains-market-dips-225010626.html\\\">Xilinx (XLNX) Gains As Market Dips: What You Should Know</a>\", \"<a href=\\\"https://finance.yahoo.com/news/advanced-micro-devices-start-2022-201402031.html\\\">Advanced Micro Devices Will Start 2022 on a Strong Note With Its Xilinx Deal</a>\", \"<a href=\\\"https://finance.yahoo.com/m/344acd20-24ae-36d5-8807-a75a20c41268/why-amd-stock-soared-57%25.html\\\">Why AMD Stock Soared 57% Higher in 2021</a>\", \"<a href=\\\"https://finance.yahoo.com/news/amd-acquires-xilinx-intensifies-competition-155003919.html\\\">AMD Acquires Xilinx, Intensifies Competition with Peers</a>\", \"<a href=\\\"https://finance.yahoo.com/m/20df48c1-5171-3634-ad62-1427af1a94aa/why-this-semiconductor.html\\\">Why This Semiconductor Stock's Price Jumped Monday</a>\"]]}, \"columnwidth\": [80, 80, 400], \"domain\": {\"x\": [0.0, 1.0], \"y\": [0.0, 0.25950920245398773]}, \"header\": {\"align\": \"left\", \"fill\": {\"color\": \"paleturquoise\"}, \"values\": [\"Time\", \"Publisher\", \"Title\"]}, \"type\": \"table\"}, {\"line\": {\"color\": \"royalblue\", \"width\": 2}, \"name\": \"RSI(14)\", \"type\": \"scatter\", \"x\": [\"2020-08-03T00:00:00\", \"2020-08-04T00:00:00\", \"2020-08-05T00:00:00\", \"2020-08-06T00:00:00\", \"2020-08-07T00:00:00\", \"2020-08-10T00:00:00\", \"2020-08-11T00:00:00\", \"2020-08-12T00:00:00\", \"2020-08-13T00:00:00\", \"2020-08-14T00:00:00\", \"2020-08-17T00:00:00\", \"2020-08-18T00:00:00\", \"2020-08-19T00:00:00\", \"2020-08-20T00:00:00\", \"2020-08-21T00:00:00\", \"2020-08-24T00:00:00\", \"2020-08-25T00:00:00\", \"2020-08-26T00:00:00\", \"2020-08-27T00:00:00\", \"2020-08-28T00:00:00\", \"2020-08-31T00:00:00\", \"2020-09-01T00:00:00\", \"2020-09-02T00:00:00\", \"2020-09-03T00:00:00\", \"2020-09-04T00:00:00\", \"2020-09-08T00:00:00\", \"2020-09-09T00:00:00\", \"2020-09-10T00:00:00\", \"2020-09-11T00:00:00\", \"2020-09-14T00:00:00\", \"2020-09-15T00:00:00\", \"2020-09-16T00:00:00\", \"2020-09-17T00:00:00\", \"2020-09-18T00:00:00\", \"2020-09-21T00:00:00\", \"2020-09-22T00:00:00\", \"2020-09-23T00:00:00\", \"2020-09-24T00:00:00\", \"2020-09-25T00:00:00\", \"2020-09-28T00:00:00\", \"2020-09-29T00:00:00\", \"2020-09-30T00:00:00\", \"2020-10-01T00:00:00\", \"2020-10-02T00:00:00\", \"2020-10-05T00:00:00\", \"2020-10-06T00:00:00\", \"2020-10-07T00:00:00\", \"2020-10-08T00:00:00\", \"2020-10-09T00:00:00\", \"2020-10-12T00:00:00\", \"2020-10-13T00:00:00\", \"2020-10-14T00:00:00\", \"2020-10-15T00:00:00\", \"2020-10-16T00:00:00\", \"2020-10-19T00:00:00\", \"2020-10-20T00:00:00\", \"2020-10-21T00:00:00\", \"2020-10-22T00:00:00\", \"2020-10-23T00:00:00\", \"2020-10-26T00:00:00\", \"2020-10-27T00:00:00\", \"2020-10-28T00:00:00\", \"2020-10-29T00:00:00\", \"2020-10-30T00:00:00\", \"2020-11-02T00:00:00\", \"2020-11-03T00:00:00\", \"2020-11-04T00:00:00\", \"2020-11-05T00:00:00\", \"2020-11-06T00:00:00\", \"2020-11-09T00:00:00\", \"2020-11-10T00:00:00\", \"2020-11-11T00:00:00\", \"2020-11-12T00:00:00\", \"2020-11-13T00:00:00\", \"2020-11-16T00:00:00\", \"2020-11-17T00:00:00\", \"2020-11-18T00:00:00\", \"2020-11-19T00:00:00\", \"2020-11-20T00:00:00\", \"2020-11-23T00:00:00\", \"2020-11-24T00:00:00\", \"2020-11-25T00:00:00\", \"2020-11-27T00:00:00\", \"2020-11-30T00:00:00\", \"2020-12-01T00:00:00\", \"2020-12-02T00:00:00\", \"2020-12-03T00:00:00\", \"2020-12-04T00:00:00\", \"2020-12-07T00:00:00\", \"2020-12-08T00:00:00\", \"2020-12-09T00:00:00\", \"2020-12-10T00:00:00\", \"2020-12-11T00:00:00\", \"2020-12-14T00:00:00\", \"2020-12-15T00:00:00\", \"2020-12-16T00:00:00\", \"2020-12-17T00:00:00\", \"2020-12-18T00:00:00\", \"2020-12-21T00:00:00\", \"2020-12-22T00:00:00\", \"2020-12-23T00:00:00\", \"2020-12-24T00:00:00\", \"2020-12-28T00:00:00\", \"2020-12-29T00:00:00\", \"2020-12-30T00:00:00\", \"2020-12-31T00:00:00\", \"2021-01-04T00:00:00\", \"2021-01-05T00:00:00\", \"2021-01-06T00:00:00\", \"2021-01-07T00:00:00\", \"2021-01-08T00:00:00\", \"2021-01-11T00:00:00\", \"2021-01-12T00:00:00\", \"2021-01-13T00:00:00\", \"2021-01-14T00:00:00\", \"2021-01-15T00:00:00\", \"2021-01-19T00:00:00\", \"2021-01-20T00:00:00\", \"2021-01-21T00:00:00\", \"2021-01-22T00:00:00\", \"2021-01-25T00:00:00\", \"2021-01-26T00:00:00\", \"2021-01-27T00:00:00\", \"2021-01-28T00:00:00\", \"2021-01-29T00:00:00\", \"2021-02-01T00:00:00\", \"2021-02-02T00:00:00\", \"2021-02-03T00:00:00\", \"2021-02-04T00:00:00\", \"2021-02-05T00:00:00\", \"2021-02-08T00:00:00\", \"2021-02-09T00:00:00\", \"2021-02-10T00:00:00\", \"2021-02-11T00:00:00\", \"2021-02-12T00:00:00\", \"2021-02-16T00:00:00\", \"2021-02-17T00:00:00\", \"2021-02-18T00:00:00\", \"2021-02-19T00:00:00\", \"2021-02-22T00:00:00\", \"2021-02-23T00:00:00\", \"2021-02-24T00:00:00\", \"2021-02-25T00:00:00\", \"2021-02-26T00:00:00\", \"2021-03-01T00:00:00\", \"2021-03-02T00:00:00\", \"2021-03-03T00:00:00\", \"2021-03-04T00:00:00\", \"2021-03-05T00:00:00\", \"2021-03-08T00:00:00\", \"2021-03-09T00:00:00\", \"2021-03-10T00:00:00\", \"2021-03-11T00:00:00\", \"2021-03-12T00:00:00\", \"2021-03-15T00:00:00\", \"2021-03-16T00:00:00\", \"2021-03-17T00:00:00\", \"2021-03-18T00:00:00\", \"2021-03-19T00:00:00\", \"2021-03-22T00:00:00\", \"2021-03-23T00:00:00\", \"2021-03-24T00:00:00\", \"2021-03-25T00:00:00\", \"2021-03-26T00:00:00\", \"2021-03-29T00:00:00\", \"2021-03-30T00:00:00\", \"2021-03-31T00:00:00\", \"2021-04-01T00:00:00\", \"2021-04-05T00:00:00\", \"2021-04-06T00:00:00\", \"2021-04-07T00:00:00\", \"2021-04-08T00:00:00\", \"2021-04-09T00:00:00\", \"2021-04-12T00:00:00\", \"2021-04-13T00:00:00\", \"2021-04-14T00:00:00\", \"2021-04-15T00:00:00\", \"2021-04-16T00:00:00\", \"2021-04-19T00:00:00\", \"2021-04-20T00:00:00\", \"2021-04-21T00:00:00\", \"2021-04-22T00:00:00\", \"2021-04-23T00:00:00\", \"2021-04-26T00:00:00\", \"2021-04-27T00:00:00\", \"2021-04-28T00:00:00\", \"2021-04-29T00:00:00\", \"2021-04-30T00:00:00\", \"2021-05-03T00:00:00\", \"2021-05-04T00:00:00\", \"2021-05-05T00:00:00\", \"2021-05-06T00:00:00\", \"2021-05-07T00:00:00\", \"2021-05-10T00:00:00\", \"2021-05-11T00:00:00\", \"2021-05-12T00:00:00\", \"2021-05-13T00:00:00\", \"2021-05-14T00:00:00\", \"2021-05-17T00:00:00\", \"2021-05-18T00:00:00\", \"2021-05-19T00:00:00\", \"2021-05-20T00:00:00\", \"2021-05-21T00:00:00\", \"2021-05-24T00:00:00\", \"2021-05-25T00:00:00\", \"2021-05-26T00:00:00\", \"2021-05-27T00:00:00\", \"2021-05-28T00:00:00\", \"2021-06-01T00:00:00\", \"2021-06-02T00:00:00\", \"2021-06-03T00:00:00\", \"2021-06-04T00:00:00\", \"2021-06-07T00:00:00\", \"2021-06-08T00:00:00\", \"2021-06-09T00:00:00\", \"2021-06-10T00:00:00\", \"2021-06-11T00:00:00\", \"2021-06-14T00:00:00\", \"2021-06-15T00:00:00\", \"2021-06-16T00:00:00\", \"2021-06-17T00:00:00\", \"2021-06-18T00:00:00\", \"2021-06-21T00:00:00\", \"2021-06-22T00:00:00\", \"2021-06-23T00:00:00\", \"2021-06-24T00:00:00\", \"2021-06-25T00:00:00\", \"2021-06-28T00:00:00\", \"2021-06-29T00:00:00\", \"2021-06-30T00:00:00\", \"2021-07-01T00:00:00\", \"2021-07-02T00:00:00\", \"2021-07-06T00:00:00\", \"2021-07-07T00:00:00\", \"2021-07-08T00:00:00\", \"2021-07-09T00:00:00\", \"2021-07-12T00:00:00\", \"2021-07-13T00:00:00\", \"2021-07-14T00:00:00\", \"2021-07-15T00:00:00\", \"2021-07-16T00:00:00\", \"2021-07-19T00:00:00\", \"2021-07-20T00:00:00\", \"2021-07-21T00:00:00\", \"2021-07-22T00:00:00\", \"2021-07-23T00:00:00\", \"2021-07-26T00:00:00\", \"2021-07-27T00:00:00\", \"2021-07-28T00:00:00\", \"2021-07-29T00:00:00\", \"2021-07-30T00:00:00\", \"2021-08-02T00:00:00\", \"2021-08-03T00:00:00\", \"2021-08-04T00:00:00\", \"2021-08-05T00:00:00\", \"2021-08-06T00:00:00\", \"2021-08-09T00:00:00\", \"2021-08-10T00:00:00\", \"2021-08-11T00:00:00\", \"2021-08-12T00:00:00\", \"2021-08-13T00:00:00\", \"2021-08-16T00:00:00\", \"2021-08-17T00:00:00\", \"2021-08-18T00:00:00\", \"2021-08-19T00:00:00\", \"2021-08-20T00:00:00\", \"2021-08-23T00:00:00\", \"2021-08-24T00:00:00\", \"2021-08-25T00:00:00\", \"2021-08-26T00:00:00\", \"2021-08-27T00:00:00\", \"2021-08-30T00:00:00\", \"2021-08-31T00:00:00\", \"2021-09-01T00:00:00\", \"2021-09-02T00:00:00\", \"2021-09-03T00:00:00\", \"2021-09-07T00:00:00\", \"2021-09-08T00:00:00\", \"2021-09-09T00:00:00\", \"2021-09-10T00:00:00\", \"2021-09-13T00:00:00\", \"2021-09-14T00:00:00\", \"2021-09-15T00:00:00\", \"2021-09-16T00:00:00\", \"2021-09-17T00:00:00\", \"2021-09-20T00:00:00\", \"2021-09-21T00:00:00\", \"2021-09-22T00:00:00\", \"2021-09-23T00:00:00\", \"2021-09-24T00:00:00\", \"2021-09-27T00:00:00\", \"2021-09-28T00:00:00\", \"2021-09-29T00:00:00\", \"2021-09-30T00:00:00\", \"2021-10-01T00:00:00\", \"2021-10-04T00:00:00\", \"2021-10-05T00:00:00\", \"2021-10-06T00:00:00\", \"2021-10-07T00:00:00\", \"2021-10-08T00:00:00\", \"2021-10-11T00:00:00\", \"2021-10-12T00:00:00\", \"2021-10-13T00:00:00\", \"2021-10-14T00:00:00\", \"2021-10-15T00:00:00\", \"2021-10-18T00:00:00\", \"2021-10-19T00:00:00\", \"2021-10-20T00:00:00\", \"2021-10-21T00:00:00\", \"2021-10-22T00:00:00\", \"2021-10-25T00:00:00\", \"2021-10-26T00:00:00\", \"2021-10-27T00:00:00\", \"2021-10-28T00:00:00\", \"2021-10-29T00:00:00\", \"2021-11-01T00:00:00\", \"2021-11-02T00:00:00\", \"2021-11-03T00:00:00\", \"2021-11-04T00:00:00\", \"2021-11-05T00:00:00\", \"2021-11-08T00:00:00\", \"2021-11-09T00:00:00\", \"2021-11-10T00:00:00\", \"2021-11-11T00:00:00\", \"2021-11-12T00:00:00\", \"2021-11-15T00:00:00\", \"2021-11-16T00:00:00\", \"2021-11-17T00:00:00\", \"2021-11-18T00:00:00\", \"2021-11-19T00:00:00\", \"2021-11-22T00:00:00\", \"2021-11-23T00:00:00\", \"2021-11-24T00:00:00\", \"2021-11-26T00:00:00\", \"2021-11-29T00:00:00\", \"2021-11-30T00:00:00\", \"2021-12-01T00:00:00\", \"2021-12-02T00:00:00\", \"2021-12-03T00:00:00\", \"2021-12-06T00:00:00\", \"2021-12-07T00:00:00\", \"2021-12-08T00:00:00\", \"2021-12-09T00:00:00\", \"2021-12-10T00:00:00\", \"2021-12-13T00:00:00\", \"2021-12-14T00:00:00\", \"2021-12-15T00:00:00\", \"2021-12-16T00:00:00\", \"2021-12-17T00:00:00\", \"2021-12-20T00:00:00\", \"2021-12-21T00:00:00\", \"2021-12-22T00:00:00\", \"2021-12-23T00:00:00\", \"2021-12-27T00:00:00\", \"2021-12-28T00:00:00\", \"2021-12-29T00:00:00\", \"2021-12-30T00:00:00\", \"2021-12-31T00:00:00\", \"2022-01-03T00:00:00\", \"2022-01-04T00:00:00\", \"2022-01-05T00:00:00\", \"2022-01-06T00:00:00\", \"2022-01-07T00:00:00\", \"2022-01-10T00:00:00\", \"2022-01-11T00:00:00\"], \"xaxis\": \"x3\", \"y\": [59.0711370653933, 61.07774813531627, 60.65389922475378, 62.35741820904728, 59.312797524392025, 56.79911342656663, 52.439016193877315, 55.31023657421692, 53.984885505789265, 53.49912581798646, 51.731448288988375, 48.103726845483216, 46.07008594937021, 43.651705179902564, 45.54155334062981, 46.99289699808381, 49.81240944659265, 54.33340903854065, 50.45461453888514, 53.80853534608129, 51.444850368610346, 54.728679434709946, 63.038829030931005, 47.729633235864824, 44.76226837748602, 37.89754837472052, 44.1972181874202, 41.52578436288546, 41.27233409657707, 48.23588902787713, 50.52035357028297, 49.46145581619228, 47.46852971077944, 46.00878872935445, 43.24949984045397, 44.906400811001475, 39.3667964714343, 44.049791322455036, 47.45470819530599, 55.04089007660728, 54.6223963635582, 55.9175475171236, 59.33913686853092, 50.883524434705585, 55.32337740203282, 53.38949258920271, 57.19630940525248, 57.51266091721276, 75.63398675259879, 71.17311120331954, 69.06570879631494, 68.68578216845755, 69.20096231859667, 68.66867051340836, 64.49643742425712, 60.51279394468189, 53.16187651877355, 56.076802473284644, 61.65915600075407, 56.97605023516177, 68.20388076043852, 60.27044808226052, 63.40633152105426, 56.919341461190136, 56.608234093761766, 59.279089453354295, 66.36743894219086, 67.72548773894285, 70.90035841822244, 64.7303624146455, 54.10495307326059, 58.39660485716344, 58.92598115103558, 58.92598115103558, 62.37072269273884, 61.01561420751971, 58.97637250849672, 62.87457070820042, 61.927257742390516, 62.8825555855968, 62.73514346918392, 65.29763261963438, 67.29520538360336, 74.02078881189107, 74.19802859485756, 75.1545554803928, 69.40152589949592, 72.35121426167746, 72.64169032903169, 68.18446206973039, 59.17903943083884, 61.95790653128644, 61.90256576337079, 67.34703188270578, 70.07492522042847, 69.34570079318848, 69.45031288177984, 63.76236690555262, 56.46878917534345, 54.5441556032822, 50.92273300722706, 50.922733007227066, 50.08738332210637, 47.212519485194534, 51.300470467120746, 50.66664045921844, 51.94540621375146, 55.34510906212055, 49.090749355501536, 62.100389990813454, 58.82090415950648, 62.63817844039458, 54.82668273733279, 46.96093154873028, 45.46659692201178, 41.348913983549906, 45.651804960525915, 43.94111644282046, 48.74692108938939, 51.28053802970568, 54.2882477601753, 53.085070259215726, 39.76109184774246, 39.467297645825, 36.465476537901814, 43.74568970978223, 46.52978125911572, 44.26491359771974, 45.587083902221494, 45.89767783627349, 53.04208246174939, 52.1727388562638, 55.30139034109965, 56.69415552495123, 58.73805825604604, 53.20716850611786, 48.182501351143166, 45.67468568795869, 47.59405151195365, 38.212944498425514, 37.21227747425909, 43.11699829449729, 34.81229325283218, 41.69737534835088, 46.2922274071185, 42.338471251031976, 36.680322741782625, 32.096786167816134, 35.916104594483016, 30.743894709669704, 40.378538541229915, 39.272208870725684, 46.768608584165165, 46.23343044697283, 49.32649506653209, 49.87507786006052, 49.885521380292786, 43.16978707422614, 43.908003332935394, 46.82448482086551, 43.63899229958155, 41.585768327210126, 41.681090179370734, 45.90468698476459, 44.88046495825068, 42.704207322180515, 47.78976122902918, 54.91284467174359, 55.87174624098846, 55.3959481712072, 56.92810185966669, 58.2435033219247, 53.33519293495977, 45.845888162556015, 48.646631619641596, 45.33125295031214, 53.79604299086768, 51.85100227236037, 49.55160183614323, 45.459108173962385, 49.976224381889715, 45.282466084764195, 53.31156607751345, 57.68171140459365, 57.21228511877462, 54.36704087424461, 55.45152809585206, 49.443965278435265, 44.380758574811864, 43.843522414459905, 42.67414215093114, 42.84945500731958, 46.51643701715817, 40.58870760069578, 43.228657970643965, 38.34982773489066, 36.076926975152, 41.66217828360294, 41.88799813438497, 41.48040228070807, 46.492777596711235, 51.401095378096336, 49.61065413164322, 51.10291267100122, 51.61726322448746, 50.91432803605974, 49.644852322353174, 56.483869098991256, 57.921970549827016, 59.78415658385482, 52.88877232364845, 57.3681908708496, 55.54019974157368, 54.953510961093706, 51.77714505882133, 56.847034697195355, 56.19958230936316, 55.79838076037313, 52.72259053218052, 50.715489818482, 61.902922636387416, 60.88806800589436, 51.40221733770444, 55.62503777287002, 56.98300109293371, 61.309238975584, 57.81577837581937, 62.504353781581344, 67.55111109387224, 72.37354149094448, 66.43816983683911, 69.09085521286394, 68.26678263983987, 55.88050621704108, 50.49960458840331, 52.920706062922775, 52.150960275451176, 50.416633811898194, 48.52363354674506, 44.09534005157141, 42.60292632282825, 43.9275794879358, 47.24312033692005, 54.21122132437974, 55.90168822704608, 57.94063101269627, 53.31846220880863, 46.05863189289041, 56.81279039247578, 65.3954184454308, 67.46589068742841, 66.05266842454951, 61.95720898588971, 59.091860265128986, 65.11982321519554, 63.85910321217162, 61.851308937720695, 58.00320187058252, 59.544073311773616, 56.342813556635484, 57.19822744557543, 50.89658969377903, 50.89658969377903, 48.81740226180812, 50.77144748296808, 53.57119829921986, 64.87707664867129, 64.09569161037072, 64.26814333376905, 60.03707268552277, 65.81785451742007, 63.53385387253402, 64.11497210129394, 61.82949448972481, 61.13796076241319, 63.558726090917006, 60.84508782575578, 57.688442996588606, 59.05467585343375, 60.4769768299797, 60.375485277919886, 61.35347435452561, 64.97734508131735, 63.47773345485689, 54.29584078840268, 46.31233970659112, 49.06388702232522, 54.04042238389684, 58.121011474722614, 59.800637252506114, 63.48560119263055, 47.03397989164349, 43.14619624885765, 47.68582352803316, 49.10688088551007, 43.53504813040998, 49.54061404169067, 52.54125037542498, 58.033291814246056, 55.11068909246695, 53.38943073737859, 54.407010996475556, 61.68887484348671, 65.93523763824706, 67.1965042476358, 70.08103345857965, 69.77514149744343, 69.89776847995283, 72.96061863522945, 70.33079089019404, 72.82567325275477, 65.36160520915263, 73.12045005480279, 73.10077221755444, 71.3651201223026, 75.40112725168035, 77.61390272889048, 79.15033334221053, 82.35880776036876, 82.52192836072017, 86.08076818811095, 80.48864988154858, 69.07375535014157, 74.93672866102234, 77.09262089462992, 77.69759838546436, 79.20626919051807, 75.06481554429439, 77.06141272740987, 77.19578673184772, 76.64775792492475, 76.16819013258711, 80.71600112084295, 71.5618947584492, 75.95700956389419, 70.04491587918767, 59.941786129744784, 59.50494594718422, 57.81373715660634, 54.12660992083557, 61.63458194023071, 62.23619620131275, 52.975899923460695, 54.59117164603534, 48.260132701413305, 48.503618590342484, 54.76468014198652, 42.23215722065652, 42.5162801981667, 40.15875990090734, 48.137875168574354, 53.68249899729812, 54.36305682853058, 58.325620377477854, 56.34303600844231, 54.246495378260036, 51.35014968637781, 49.91884313927479, 56.41780345292498, 51.45287865237702, 43.00189157655782, 44.75963053241593, 38.81755932789577, 39.158509468226, 44.58765640718481], \"yaxis\": \"y3\"}, {\"line\": {\"color\": \"firebrick\", \"dash\": \"dash\", \"width\": 3}, \"name\": \"RSI(14) Test Predict\", \"type\": \"scatter\", \"x\": [\"2021-10-15T00:00:00\", \"2021-10-18T00:00:00\", \"2021-10-19T00:00:00\", \"2021-10-20T00:00:00\", \"2021-10-21T00:00:00\", \"2021-10-22T00:00:00\", \"2021-10-25T00:00:00\", \"2021-10-26T00:00:00\", \"2021-10-27T00:00:00\", \"2021-10-28T00:00:00\", \"2021-10-29T00:00:00\", \"2021-11-01T00:00:00\", \"2021-11-02T00:00:00\", \"2021-11-03T00:00:00\", \"2021-11-04T00:00:00\", \"2021-11-05T00:00:00\", \"2021-11-08T00:00:00\", \"2021-11-09T00:00:00\", \"2021-11-10T00:00:00\", \"2021-11-11T00:00:00\", \"2021-11-12T00:00:00\", \"2021-11-15T00:00:00\", \"2021-11-16T00:00:00\", \"2021-11-17T00:00:00\", \"2021-11-18T00:00:00\", \"2021-11-19T00:00:00\", \"2021-11-22T00:00:00\", \"2021-11-23T00:00:00\", \"2021-11-24T00:00:00\", \"2021-11-26T00:00:00\", \"2021-11-29T00:00:00\", \"2021-11-30T00:00:00\", \"2021-12-01T00:00:00\", \"2021-12-02T00:00:00\", \"2021-12-03T00:00:00\", \"2021-12-06T00:00:00\", \"2021-12-07T00:00:00\", \"2021-12-08T00:00:00\", \"2021-12-09T00:00:00\", \"2021-12-10T00:00:00\", \"2021-12-13T00:00:00\", \"2021-12-14T00:00:00\", \"2021-12-15T00:00:00\", \"2021-12-16T00:00:00\", \"2021-12-17T00:00:00\", \"2021-12-20T00:00:00\", \"2021-12-21T00:00:00\", \"2021-12-22T00:00:00\", \"2021-12-23T00:00:00\", \"2021-12-27T00:00:00\", \"2021-12-28T00:00:00\", \"2021-12-29T00:00:00\", \"2021-12-30T00:00:00\", \"2021-12-31T00:00:00\", \"2022-01-03T00:00:00\", \"2022-01-04T00:00:00\", \"2022-01-05T00:00:00\", \"2022-01-06T00:00:00\", \"2022-01-07T00:00:00\", \"2022-01-10T00:00:00\", \"2022-01-11T00:00:00\"], \"xaxis\": \"x3\", \"y\": [63.92363357543945, 65.10057067871094, 67.0447998046875, 67.4962158203125, 67.89981842041016, 69.76710510253906, 69.1679916381836, 70.40623474121094, 64.34928131103516, 70.06370544433594, 71.09041595458984, 70.37187194824219, 72.37638092041016, 73.88291931152344, 74.6957778930664, 75.98931121826172, 77.07051086425781, 77.32633209228516, 74.69767761230469, 66.16572570800781, 72.17920684814453, 74.4296646118164, 75.2046127319336, 76.15225982666016, 73.25565338134766, 74.87080383300781, 75.8976821899414, 75.56886291503906, 75.61111450195312, 76.6288833618164, 66.51248168945312, 73.50847625732422, 67.33757781982422, 59.29533386230469, 60.34554672241211, 59.374752044677734, 55.34526062011719, 60.90484619140625, 63.311161041259766, 54.91394805908203, 57.110618591308594, 52.631534576416016, 50.941078186035156, 55.31790542602539, 47.801246643066406, 46.0509147644043, 45.31733703613281, 50.04270553588867, 55.221431732177734, 56.53612518310547, 58.372291564941406, 58.483421325683594, 56.45537567138672, 53.74947738647461, 52.04972839355469, 55.98099136352539, 54.341392517089844, 47.760555267333984, 47.9186897277832, 45.41303634643555, 43.913909912109375], \"yaxis\": \"y3\"}, {\"line\": {\"color\": \"firebrick\", \"dash\": \"dot\", \"width\": 3}, \"name\": \"RSI(14) Future Predict\", \"type\": \"scatter\", \"x\": [\"2022-01-11T00:00:00\", \"2022-01-12T00:00:00\", \"2022-01-13T00:00:00\", \"2022-01-14T00:00:00\", \"2022-01-18T00:00:00\", \"2022-01-19T00:00:00\", \"2022-01-20T00:00:00\", \"2022-01-21T00:00:00\", \"2022-01-24T00:00:00\", \"2022-01-25T00:00:00\", \"2022-01-26T00:00:00\", \"2022-01-27T00:00:00\", \"2022-01-28T00:00:00\", \"2022-01-31T00:00:00\", \"2022-02-01T00:00:00\", \"2022-02-02T00:00:00\", \"2022-02-03T00:00:00\", \"2022-02-04T00:00:00\", \"2022-02-07T00:00:00\", \"2022-02-08T00:00:00\", \"2022-02-09T00:00:00\", \"2022-02-10T00:00:00\", \"2022-02-11T00:00:00\", \"2022-02-14T00:00:00\", \"2022-02-15T00:00:00\", \"2022-02-16T00:00:00\", \"2022-02-17T00:00:00\", \"2022-02-18T00:00:00\", \"2022-02-22T00:00:00\"], \"xaxis\": \"x3\", \"y\": [44.58765640718481, 47.469295999489944, 50.718603939878804, 52.722300150418384, 54.19758609262912, 55.455758075433835, 56.5546273819601, 57.53548575494594, 58.46126596153386, 59.322375437285096, 60.13827653227996, 60.90199606703387, 61.63256278923312, 62.34995795018369, 62.980458480543675, 63.565068239494366, 64.11894198611951, 64.64577600312244, 65.14238224667153, 65.61106023110243, 66.05370430130058, 66.47239361628665, 66.86888746446269, 67.24424497298793, 67.60037470321979, 67.93862366587418, 68.25942546334517, 68.56449673461901, 68.85449499152274], \"yaxis\": \"y3\"}, {\"line\": {\"color\": \"rgb(100, 10, 100)\", \"dash\": \"dash\", \"shape\": \"linear\"}, \"mode\": \"lines\", \"name\": \"RSI(14) over bought\", \"type\": \"scatter\", \"x\": [\"2020-08-03T00:00:00\", \"2022-01-11T00:00:00\"], \"xaxis\": \"x3\", \"y\": [70, 70], \"yaxis\": \"y3\"}, {\"line\": {\"color\": \"rgb(10, 12, 240)\", \"dash\": \"dash\", \"shape\": \"linear\"}, \"mode\": \"lines\", \"name\": \"RSI(14) Neutral\", \"type\": \"scatter\", \"x\": [\"2020-08-03T00:00:00\", \"2022-01-11T00:00:00\"], \"xaxis\": \"x3\", \"y\": [50, 50], \"yaxis\": \"y3\"}, {\"line\": {\"color\": \"rgb(10, 120, 24)\", \"dash\": \"dash\", \"shape\": \"linear\"}, \"mode\": \"lines\", \"name\": \"RSI(14) over sold\", \"type\": \"scatter\", \"x\": [\"2020-08-03T00:00:00\", \"2022-01-11T00:00:00\"], \"xaxis\": \"x3\", \"y\": [30, 30], \"yaxis\": \"y3\"}, {\"close\": [106.38999938964844, 107.75, 107.56999969482422, 108.66000366210938, 107.45999908447266, 106.44999694824219, 104.61000061035156, 106.04000091552734, 105.5, 105.30999755859375, 104.63999938964844, 103.22000122070312, 102.38999938964844, 101.37999725341797, 102.0, 102.47000122070312, 103.38999938964844, 104.9800033569336, 103.72000122070312, 104.91000366210938, 104.16000366210938, 105.30999755859375, 108.86000061035156, 103.0999984741211, 101.63999938964844, 97.69000244140625, 100.38999938964844, 98.80000305175781, 98.6500015258789, 101.72000122070312, 102.83000183105469, 102.33000183105469, 101.4000015258789, 100.72000122070312, 99.41000366210938, 100.0199966430664, 97.29000091552734, 99.01000213623047, 100.3499984741211, 103.80000305175781, 103.62999725341797, 104.23999786376953, 105.91000366210938, 102.58999633789062, 104.73999786376953, 103.94000244140625, 105.83000183105469, 105.98999786376953, 120.94000244140625, 118.9000015258789, 117.91999816894531, 117.75, 118.2300033569336, 118.0199966430664, 116.37999725341797, 114.7300033569336, 111.30000305175781, 113.04000091552734, 116.81999969482422, 114.55000305175781, 124.3499984741211, 119.76000213623047, 122.9000015258789, 118.69000244140625, 118.4800033569336, 120.81999969482422, 128.25999450683594, 129.92999267578125, 134.1199951171875, 130.35000610351562, 122.44999694824219, 127.05999755859375, 127.6500015258789, 127.6500015258789, 131.30999755859375, 130.41000366210938, 129.0800018310547, 132.9600067138672, 132.3800048828125, 133.3000030517578, 133.22000122070312, 135.55999755859375, 137.49000549316406, 145.5500030517578, 145.8000030517578, 147.11000061035156, 144.38999938964844, 147.91000366210938, 148.27000427246094, 146.19000244140625, 141.39999389648438, 143.86000061035156, 143.8300018310547, 149.02999877929688, 152.11000061035156, 151.75, 151.86000061035156, 149.19000244140625, 145.27999877929688, 144.16000366210938, 141.99000549316406, 141.99000549316406, 141.52000427246094, 139.89999389648438, 142.10000610351562, 141.77000427246094, 142.42999267578125, 144.22999572753906, 141.22000122070312, 149.7100067138672, 147.99000549316406, 151.0800018310547, 146.6699981689453, 141.1699981689453, 140.0, 136.60000610351562, 139.36000061035156, 138.0, 141.16000366210938, 142.94000244140625, 145.13999938964844, 144.38999938964844, 133.86000061035156, 133.57000732421875, 130.57000732421875, 135.30999755859375, 137.30999755859375, 135.38999938964844, 136.27999877929688, 136.47999572753906, 141.42999267578125, 140.85000610351562, 143.14999389648438, 144.1999969482422, 145.75, 142.5800018310547, 139.32000732421875, 137.55999755859375, 138.7100067138672, 131.2899932861328, 130.35000610351562, 133.80999755859375, 125.66000366210938, 130.3000030517578, 133.7899932861328, 129.9499969482422, 123.51000213623047, 117.12000274658203, 119.94999694824219, 112.08999633789062, 120.27999877929688, 118.73999786376953, 126.08999633789062, 125.44999694824219, 128.6199951171875, 129.17999267578125, 129.19000244140625, 122.25, 122.87999725341797, 125.3499984741211, 122.12999725341797, 119.95999908447266, 120.02999877929688, 123.13999938964844, 122.2300033569336, 120.30000305175781, 123.9000015258789, 129.85000610351562, 130.72999572753906, 130.39999389648438, 131.67999267578125, 132.77000427246094, 129.72000122070312, 124.2300033569336, 126.20999908447266, 123.61000061035156, 130.10000610351562, 128.63999938964844, 126.9000015258789, 123.62000274658203, 126.94999694824219, 123.08000183105469, 129.66000366210938, 133.9600067138672, 133.61000061035156, 131.52000427246094, 132.47000122070312, 127.95999908447266, 123.55000305175781, 123.05999755859375, 122.02999877929688, 122.13999938964844, 124.43000030517578, 119.58999633789062, 121.2300033569336, 116.87000274658203, 114.61000061035156, 118.0, 118.13999938964844, 117.80999755859375, 120.76000213623047, 123.98999786376953, 122.80999755859375, 123.7699966430664, 124.08999633789062, 123.69999694824219, 123.0199966430664, 127.0, 127.93000030517578, 129.13999938964844, 125.83000183105469, 128.6300048828125, 127.7300033569336, 127.44999694824219, 125.94000244140625, 128.7899932861328, 128.5, 128.3300018310547, 127.04000091552734, 126.18000030517578, 132.33999633789062, 131.9199981689453, 127.52999877929688, 130.02000427246094, 130.86000061035156, 133.7100067138672, 132.1199951171875, 135.36000061035156, 139.57000732421875, 144.63999938964844, 141.80999755859375, 144.55999755859375, 144.1699981689453, 137.44000244140625, 133.77000427246094, 135.58999633789062, 135.0800018310547, 133.9600067138672, 132.74000549316406, 129.7100067138672, 128.6300048828125, 129.3300018310547, 131.10000610351562, 135.3300018310547, 136.47000122070312, 137.86000061035156, 135.44000244140625, 131.0, 138.5399932861328, 147.25, 149.83999633789062, 148.97999572753906, 146.4600067138672, 144.6300048828125, 150.97999572753906, 150.19000244140625, 148.9600067138672, 146.5500030517578, 147.9199981689453, 145.9499969482422, 146.6300048828125, 142.63999938964844, 142.63999938964844, 141.30999755859375, 142.50999450683594, 144.27000427246094, 153.52000427246094, 153.08999633789062, 153.25, 151.07000732421875, 156.27000427246094, 155.07000732421875, 155.58999633789062, 154.47000122070312, 154.13999938964844, 155.9600067138672, 154.75, 153.30999755859375, 154.1699981689453, 155.05999755859375, 155.02000427246094, 155.5800018310547, 157.75999450683594, 157.25, 153.77999877929688, 149.94000244140625, 151.25, 153.82000732421875, 156.1999969482422, 157.24000549316406, 159.6699981689453, 151.05999755859375, 148.27999877929688, 150.99000549316406, 151.8699951171875, 148.02000427246094, 151.77000427246094, 153.83999633789062, 158.07000732421875, 156.27000427246094, 155.1999969482422, 155.91000366210938, 161.64999389648438, 165.80999755859375, 167.14999389648438, 170.38999938964844, 170.24000549316406, 170.3699951171875, 173.74000549316406, 172.58999633789062, 175.30999755859375, 171.8800048828125, 180.85000610351562, 180.83999633789062, 180.0, 185.38999938964844, 188.89999389648438, 191.57000732421875, 198.13999938964844, 198.50999450683594, 208.00999450683594, 205.0, 197.88999938964844, 208.77999877929688, 213.8000030517578, 215.27000427246094, 219.02000427246094, 216.17999267578125, 220.57000732421875, 220.8699951171875, 220.52999877929688, 220.25, 230.0500030517578, 223.9499969482422, 233.0800018310547, 228.4499969482422, 219.13999938964844, 218.6999969482422, 217.05999755859375, 213.41000366210938, 223.80999755859375, 224.75, 215.02000427246094, 217.17999267578125, 209.52000427246094, 209.80999755859375, 217.72999572753906, 199.77999877929688, 200.13999938964844, 196.14999389648438, 206.42999267578125, 215.0, 216.11000061035156, 222.77999877929688, 220.27000427246094, 217.6199951171875, 213.88999938964844, 212.02999877929688, 221.27000427246094, 214.88999938964844, 201.66000366210938, 204.0399932861328, 193.07000732421875, 193.5, 200.52000427246094], \"high\": [107.63999938964844, 108.13999938964844, 108.75, 108.93000030517578, 109.13999938964844, 108.0, 107.66999816894531, 106.66000366210938, 106.48999786376953, 106.29000091552734, 106.52999877929688, 105.19000244140625, 103.66999816894531, 102.0, 102.0, 103.27999877929688, 103.5, 105.30999755859375, 105.30000305175781, 105.37000274658203, 105.12999725341797, 105.37000274658203, 109.30000305175781, 107.44000244140625, 103.61000061035156, 100.52999877929688, 101.0999984741211, 101.54000091552734, 100.41999816894531, 102.25, 104.43000030517578, 104.66000366210938, 101.88999938964844, 102.3499984741211, 99.80999755859375, 100.12999725341797, 100.37999725341797, 99.6500015258789, 100.63999938964844, 103.91000366210938, 104.55999755859375, 105.8499984741211, 107.66999816894531, 104.30000305175781, 104.87000274658203, 105.7300033569336, 106.29000091552734, 106.62999725341797, 123.77999877929688, 120.0, 118.9000015258789, 118.75, 118.9000015258789, 119.83999633789062, 118.47000122070312, 116.93000030517578, 115.87000274658203, 115.0, 117.11000061035156, 115.5999984741211, 130.39999389648438, 124.37000274658203, 124.91999816894531, 122.36000061035156, 120.38999938964844, 121.66000366210938, 129.14999389648438, 131.44000244140625, 134.9499969482422, 136.5, 128.85000610351562, 127.69999694824219, 129.74000549316406, 130.05999755859375, 131.52999877929688, 132.8699951171875, 131.5, 133.35000610351562, 134.0, 136.85000610351562, 134.57000732421875, 137.3300018310547, 137.8000030517578, 145.83999633789062, 147.47999572753906, 151.5399932861328, 148.5, 148.92999267578125, 149.39999389648438, 149.33999633789062, 148.8000030517578, 144.9199981689453, 144.97000122070312, 149.97000122070312, 154.1199951171875, 152.7899932861328, 153.5399932861328, 153.02999877929688, 148.05999755859375, 145.47000122070312, 144.1199951171875, 143.55999755859375, 144.33999633789062, 143.32000732421875, 143.36000061035156, 142.58999633789062, 149.25999450683594, 144.33999633789062, 144.72999572753906, 150.00999450683594, 151.4199981689453, 154.92999267578125, 153.50999450683594, 145.11000061035156, 141.77000427246094, 141.25999450683594, 139.47000122070312, 141.5500030517578, 142.36000061035156, 148.32000732421875, 148.10000610351562, 146.97999572753906, 140.1199951171875, 137.19000244140625, 134.7100067138672, 135.63999938964844, 137.91000366210938, 138.50999450683594, 136.66000366210938, 137.3699951171875, 142.8000030517578, 142.94000244140625, 144.47000122070312, 145.10000610351562, 146.1699981689453, 145.75, 141.6300048828125, 138.5500030517578, 140.08999633789062, 136.6300048828125, 131.44000244140625, 134.08999633789062, 133.8300018310547, 131.5, 133.97000122070312, 134.41000366210938, 129.9600067138672, 125.0999984741211, 120.37999725341797, 120.13999938964844, 121.27999877929688, 122.48999786376953, 127.05999755859375, 125.7699966430664, 128.8699951171875, 132.32000732421875, 130.3300018310547, 127.30000305175781, 123.8499984741211, 127.05999755859375, 125.62000274658203, 123.87999725341797, 120.61000061035156, 123.37000274658203, 123.27999877929688, 121.25, 125.12999725341797, 130.1199951171875, 131.99000549316406, 132.14999389648438, 132.88999938964844, 133.75, 132.1199951171875, 129.55999755859375, 127.36000061035156, 127.04000091552734, 131.6300048828125, 130.99000549316406, 130.11000061035156, 126.9000015258789, 127.37000274658203, 127.16000366210938, 130.17999267578125, 134.52000427246094, 136.42999267578125, 139.85000610351562, 134.22999572753906, 132.27999877929688, 128.63999938964844, 123.22000122070312, 124.54000091552734, 122.69999694824219, 125.31999969482422, 123.37000274658203, 121.47000122070312, 119.38999938964844, 118.8499984741211, 118.80999755859375, 119.29000091552734, 119.91999816894531, 121.63999938964844, 124.33000183105469, 125.08999633789062, 124.4000015258789, 125.68000030517578, 124.9800033569336, 123.73999786376953, 128.27999877929688, 131.10000610351562, 130.52999877929688, 128.8000030517578, 129.52000427246094, 129.00999450683594, 129.94000244140625, 128.5500030517578, 129.0, 129.77000427246094, 128.9199981689453, 128.55999755859375, 128.35000610351562, 134.11000061035156, 134.25, 131.9499969482422, 130.3699951171875, 131.3800048828125, 135.80999755859375, 134.10000610351562, 136.14999389648438, 140.2899932861328, 145.52999877929688, 144.67999267578125, 144.97999572753906, 145.5500030517578, 145.2100067138672, 135.33999633789062, 136.0500030517578, 136.33999633789062, 135.24000549316406, 135.4199981689453, 133.1699981689453, 131.10000610351562, 130.11000061035156, 132.1699981689453, 135.47000122070312, 136.52000427246094, 138.10000610351562, 138.1999969482422, 136.5, 140.61000061035156, 148.64999389648438, 151.27000427246094, 152.5, 150.50999450683594, 148.2899932861328, 151.72000122070312, 153.5, 151.5, 151.2100067138672, 149.0, 148.22999572753906, 148.0, 146.49000549316406, 142.66000366210938, 144.25, 144.42999267578125, 145.22999572753906, 154.30999755859375, 153.8699951171875, 156.5, 153.66000366210938, 156.42999267578125, 159.3000030517578, 156.67999267578125, 157.58999633789062, 155.1999969482422, 156.49000549316406, 156.22000122070312, 154.5, 154.97999572753906, 157.3000030517578, 156.5399932861328, 158.47999572753906, 157.8300018310547, 158.0800018310547, 156.72000122070312, 152.1199951171875, 152.9199981689453, 154.47999572753906, 157.39999389648438, 157.75999450683594, 160.39999389648438, 159.9499969482422, 152.80999755859375, 153.99000549316406, 152.2100067138672, 151.2100067138672, 153.16000366210938, 154.08999633789062, 161.02999877929688, 159.47999572753906, 159.17999267578125, 156.9499969482422, 162.9499969482422, 166.24000549316406, 167.49000549316406, 170.66000366210938, 171.60000610351562, 172.8699951171875, 173.9199981689453, 175.64999389648438, 176.27000427246094, 179.3300018310547, 186.0, 185.72000122070312, 182.33999633789062, 185.72000122070312, 189.3800048828125, 193.25, 199.4600067138672, 201.0, 212.5, 213.27000427246094, 204.1199951171875, 208.89999389648438, 216.6300048828125, 217.0, 219.6999969482422, 220.35000610351562, 223.92999267578125, 221.99000549316406, 230.02999877929688, 222.9600067138672, 230.3300018310547, 228.47000122070312, 234.17999267578125, 239.7899932861328, 234.1300048828125, 223.3300018310547, 229.39999389648438, 217.02999877929688, 224.1300048828125, 226.66000366210938, 226.0, 220.91000366210938, 218.4499969482422, 212.30999755859375, 218.1199951171875, 218.0800018310547, 205.38999938964844, 199.5800018310547, 206.88999938964844, 215.60000610351562, 222.14999389648438, 223.4199981689453, 224.25, 222.17999267578125, 219.58999633789062, 215.25, 222.0, 225.5399932861328, 212.75999450683594, 207.00999450683594, 203.4499969482422, 193.7899932861328, 201.5], \"low\": [104.44000244140625, 104.94999694824219, 105.77999877929688, 106.81999969482422, 106.58999633789062, 105.43000030517578, 104.29000091552734, 104.12000274658203, 104.69999694824219, 104.9800033569336, 104.55999755859375, 103.0, 102.06999969482422, 100.62999725341797, 100.5, 101.76000213623047, 102.02999877929688, 103.55999755859375, 103.08000183105469, 102.66000366210938, 103.61000061035156, 103.63999938964844, 105.52999877929688, 102.54000091552734, 99.75, 97.63999938964844, 98.19999694824219, 98.41000366210938, 97.83000183105469, 99.5199966430664, 102.62000274658203, 102.19999694824219, 99.51000213623047, 99.1500015258789, 97.47000122070312, 98.02999877929688, 97.11000061035156, 96.70999908447266, 97.30999755859375, 101.4000015258789, 102.97000122070312, 103.27999877929688, 105.37000274658203, 101.95999908447266, 103.16999816894531, 103.19999694824219, 104.30000305175781, 105.58999633789062, 116.5199966430664, 117.25, 117.3499984741211, 116.5, 115.91000366210938, 117.94999694824219, 115.51000213623047, 114.12000274658203, 111.2300033569336, 112.06999969482422, 113.2699966430664, 112.31999969482422, 122.56999969482422, 119.30000305175781, 119.86000061035156, 116.94999694824219, 116.76000213623047, 118.30000305175781, 124.55999755859375, 128.8699951171875, 129.61000061035156, 129.75, 121.23999786376953, 123.8499984741211, 125.87999725341797, 126.41999816894531, 127.06999969482422, 129.92999267578125, 128.82000732421875, 127.97000122070312, 131.8800048828125, 132.30999755859375, 130.32000732421875, 133.9199981689453, 135.5399932861328, 136.64999389648438, 142.4199981689453, 145.58999633789062, 143.91000366210938, 142.27999877929688, 146.58999633789062, 144.7100067138672, 140.5399932861328, 140.30999755859375, 141.4600067138672, 144.32000732421875, 149.61000061035156, 149.88999938964844, 150.85000610351562, 146.7899932861328, 141.6999969482422, 141.1300048828125, 141.74000549316406, 141.44000244140625, 140.80999755859375, 138.55999755859375, 139.52999877929688, 140.07000732421875, 141.1999969482422, 141.27000427246094, 138.8300018310547, 142.4499969482422, 146.80999755859375, 146.61000061035156, 145.1199951171875, 140.0800018310547, 138.72999572753906, 136.14999389648438, 135.8800048828125, 137.85000610351562, 137.50999450683594, 141.97999572753906, 141.30999755859375, 143.82000732421875, 130.80999755859375, 133.02999877929688, 129.57000732421875, 130.30999755859375, 134.6999969482422, 135.11000061035156, 134.22000122070312, 134.8300018310547, 136.75, 140.25, 140.1199951171875, 141.5500030517578, 143.16000366210938, 141.32000732421875, 137.5500030517578, 135.35000610351562, 137.6999969482422, 131.0399932861328, 122.11000061035156, 127.19999694824219, 124.58999633789062, 126.58999633789062, 129.47000122070312, 129.82000732421875, 123.48999786376953, 116.45999908447266, 111.83999633789062, 112.01000213623047, 115.45999908447266, 118.52999877929688, 121.76000213623047, 122.87000274658203, 125.75, 128.35000610351562, 125.4000015258789, 121.45999908447266, 120.72000122070312, 123.2300033569336, 121.19000244140625, 119.93000030517578, 117.30000305175781, 118.05999755859375, 120.44999694824219, 118.41000366210938, 121.2699966430664, 126.05999755859375, 129.11000061035156, 129.66000366210938, 128.66000366210938, 131.36000061035156, 129.17999267578125, 122.97000122070312, 124.38999938964844, 122.81999969482422, 125.51000213623047, 127.8499984741211, 125.41999816894531, 122.9000015258789, 123.0, 122.44999694824219, 124.44999694824219, 129.47999572753906, 133.4499969482422, 131.32000732421875, 130.42999267578125, 127.54000091552734, 123.4000015258789, 120.66000366210938, 121.18000030517578, 119.83000183105469, 123.08999633789062, 119.51000213623047, 114.43000030517578, 116.16000366210938, 114.23999786376953, 114.2699966430664, 116.18000030517578, 117.41999816894531, 115.12000274658203, 120.95999908447266, 122.30000305175781, 122.72000122070312, 122.87000274658203, 123.30000305175781, 122.3499984741211, 123.66999816894531, 127.3499984741211, 127.5, 125.77999877929688, 126.83000183105469, 126.70999908447266, 126.20999908447266, 125.69000244140625, 125.51000213623047, 127.5, 126.66999816894531, 126.30000305175781, 124.2300033569336, 126.20999908447266, 129.7100067138672, 127.0999984741211, 127.66999816894531, 129.52000427246094, 131.67999267578125, 131.6300048828125, 133.52000427246094, 134.66000366210938, 140.61000061035156, 140.10000610351562, 140.5500030517578, 142.89999389648438, 137.1300048828125, 132.19000244140625, 130.72000122070312, 132.52999877929688, 133.27000427246094, 132.35000610351562, 128.52000427246094, 128.22000122070312, 126.08000183105469, 127.26000213623047, 130.72999572753906, 134.0, 135.1999969482422, 135.07000732421875, 127.27999877929688, 130.64999389648438, 137.8300018310547, 143.67999267578125, 146.25, 143.25, 137.5500030517578, 145.11000061035156, 148.47999572753906, 148.1300048828125, 145.63999938964844, 145.8800048828125, 145.5500030517578, 144.83999633789062, 141.60000610351562, 139.08999633789062, 141.16000366210938, 138.60000610351562, 142.5, 148.82000732421875, 151.22999572753906, 152.0500030517578, 150.4600067138672, 151.24000549316406, 154.3699951171875, 152.25999450683594, 154.36000061035156, 152.02999877929688, 153.24000549316406, 154.0, 151.77999877929688, 153.1699981689453, 153.91000366210938, 151.35000610351562, 154.52999877929688, 153.25, 154.3800048828125, 152.8800048828125, 147.13999938964844, 149.94000244140625, 151.57000732421875, 154.1699981689453, 154.25, 154.3300018310547, 150.91000366210938, 148.22000122070312, 150.16000366210938, 148.64999389648438, 147.44000244140625, 148.49000549316406, 149.13999938964844, 154.6300048828125, 155.97999572753906, 153.8300018310547, 154.8000030517578, 157.4600067138672, 162.61000061035156, 165.02999877929688, 165.77000427246094, 167.8000030517578, 169.14999389648438, 170.0500030517578, 171.8800048828125, 171.9499969482422, 171.41000366210938, 174.0500030517578, 179.02999877929688, 178.50999450683594, 176.5800018310547, 185.0, 188.9600067138672, 193.02000427246094, 195.52999877929688, 199.36000061035156, 200.5800018310547, 196.14999389648438, 201.1300048828125, 207.77999877929688, 210.02000427246094, 213.4600067138672, 216.00999450683594, 215.8800048828125, 219.02000427246094, 218.35000610351562, 212.33999633789062, 217.0, 221.1999969482422, 225.38999938964844, 226.7899932861328, 217.88999938964844, 215.3800048828125, 211.25999450683594, 203.1199951171875, 216.7100067138672, 221.0, 214.63999938964844, 213.1300048828125, 209.02000427246094, 203.3300018310547, 201.5, 198.50999450683594, 196.63999938964844, 193.10000610351562, 195.11000061035156, 207.0800018310547, 215.0500030517578, 216.30999755859375, 217.74000549316406, 215.5, 213.3800048828125, 209.49000549316406, 213.0, 209.50999450683594, 201.3300018310547, 196.88999938964844, 192.14999389648438, 184.00999450683594, 192.6699981689453], \"name\": \"XLNX\", \"open\": [107.48999786376953, 104.97000122070312, 107.33000183105469, 107.37999725341797, 108.69999694824219, 107.47000122070312, 106.62000274658203, 104.66999816894531, 106.0, 105.5, 106.5, 105.0, 103.45999908447266, 101.80999755859375, 101.2300033569336, 103.0, 102.5, 103.69999694824219, 105.22000122070312, 103.62999725341797, 104.79000091552734, 104.16000366210938, 105.55000305175781, 107.44000244140625, 102.01000213623047, 98.95999908447266, 100.0, 100.69000244140625, 99.37000274658203, 99.9000015258789, 103.05000305175781, 103.16999816894531, 100.12999725341797, 102.05000305175781, 99.70999908447266, 99.83000183105469, 99.36000061035156, 97.30999755859375, 98.6500015258789, 101.63999938964844, 103.19000244140625, 103.36000061035156, 105.83999633789062, 103.13999938964844, 103.33999633789062, 104.56999969482422, 104.81999969482422, 106.4000015258789, 122.55999755859375, 117.25, 117.3499984741211, 117.36000061035156, 115.97000122070312, 118.5, 118.0, 116.08999633789062, 114.94000244140625, 113.01000213623047, 113.5, 115.43000030517578, 129.2899932861328, 122.98999786376953, 119.93000030517578, 121.5199966430664, 119.9800033569336, 118.87000274658203, 126.43000030517578, 130.14999389648438, 130.22000122070312, 132.72000122070312, 128.33999633789062, 124.37000274658203, 127.18000030517578, 129.08999633789062, 127.7300033569336, 131.25, 130.2100067138672, 128.4600067138672, 132.74000549316406, 133.44000244140625, 134.1199951171875, 134.0, 137.22999572753906, 137.49000549316406, 145.0, 145.8000030517578, 147.6699981689453, 144.9199981689453, 149.39999389648438, 147.97000122070312, 145.6300048828125, 140.75, 143.6999969482422, 144.61000061035156, 150.97999572753906, 151.86000061035156, 152.64999389648438, 152.25, 146.8000030517578, 145.30999755859375, 144.0500030517578, 143.13999938964844, 144.0800018310547, 141.9499969482422, 140.27999877929688, 142.10000610351562, 142.22999572753906, 142.2899932861328, 141.97999572753906, 142.66000366210938, 150.4499969482422, 147.77999877929688, 151.94000244140625, 143.35000610351562, 141.38999938964844, 139.57000732421875, 138.36000061035156, 140.00999450683594, 138.77999877929688, 145.52999877929688, 145.22999572753906, 146.38999938964844, 140.1199951171875, 137.0500030517578, 132.7100067138672, 132.44000244140625, 136.6999969482422, 137.47999572753906, 135.52000427246094, 137.0, 136.8800048828125, 141.2100067138672, 142.25, 144.14999389648438, 143.83999633789062, 145.75, 140.85000610351562, 137.9499969482422, 138.77999877929688, 136.50999450683594, 129.02000427246094, 129.19000244140625, 131.49000549316406, 128.1699981689453, 131.52999877929688, 134.41000366210938, 129.72000122070312, 123.0, 119.9800033569336, 119.5, 116.05999755859375, 121.91000366210938, 122.0199966430664, 123.05000305175781, 126.73999786376953, 130.05999755859375, 127.48999786376953, 126.08999633789062, 122.62999725341797, 124.16999816894531, 125.62000274658203, 122.43000030517578, 119.05999755859375, 120.0199966430664, 121.7699966430664, 121.25, 121.51000213623047, 126.08000183105469, 131.97999572753906, 130.36000061035156, 130.1699981689453, 133.5, 132.10000610351562, 129.52999877929688, 125.23999786376953, 126.72000122070312, 125.51000213623047, 130.49000549316406, 127.98999786376953, 126.30000305175781, 123.29000091552734, 127.05000305175781, 124.58000183105469, 130.0, 134.19000244140625, 139.0, 132.3300018310547, 130.52000427246094, 128.32000732421875, 122.11000061035156, 123.63999938964844, 121.80999755859375, 123.38999938964844, 123.12999725341797, 115.9800033569336, 118.29000091552734, 118.77999877929688, 115.72000122070312, 117.12000274658203, 118.56999969482422, 115.4800033569336, 121.44999694824219, 124.94999694824219, 123.9000015258789, 124.36000061035156, 123.87000274658203, 123.47000122070312, 123.66999816894531, 127.3499984741211, 127.69999694824219, 126.87999725341797, 126.83000183105469, 127.81999969482422, 128.5500030517578, 127.83999633789062, 126.0, 128.57000732421875, 128.75999450683594, 128.00999450683594, 127.52999877929688, 126.44000244140625, 131.25999450683594, 131.77000427246094, 128.4499969482422, 129.8699951171875, 131.67999267578125, 134.00999450683594, 133.52000427246094, 135.4499969482422, 140.6199951171875, 144.67999267578125, 142.6300048828125, 144.97999572753906, 145.2100067138672, 134.3300018310547, 134.69000244140625, 135.4199981689453, 133.9499969482422, 134.88999938964844, 133.0500030517578, 130.11000061035156, 127.37000274658203, 129.66000366210938, 130.75999450683594, 134.47000122070312, 137.02999877929688, 137.0500030517578, 136.0, 134.0800018310547, 139.0, 145.41000366210938, 150.0, 149.0800018310547, 146.82000732421875, 146.0, 150.0, 150.72999572753906, 151.2100067138672, 147.00999450683594, 146.91000366210938, 145.6699981689453, 146.25999450683594, 141.0, 142.5, 140.47999572753906, 142.5, 152.0, 153.50999450683594, 153.67999267578125, 152.82000732421875, 151.35000610351562, 157.0, 155.74000549316406, 156.11000061035156, 155.1999969482422, 153.2899932861328, 155.89999389648438, 154.07000732421875, 153.35000610351562, 154.85000610351562, 156.42999267578125, 155.67999267578125, 156.1699981689453, 155.94000244140625, 156.2899932861328, 150.89999389648438, 151.0800018310547, 152.36000061035156, 154.58999633789062, 155.47999572753906, 156.6300048828125, 158.3300018310547, 151.0, 150.25999450683594, 151.82000732421875, 151.2100067138672, 148.49000549316406, 149.74000549316406, 155.24000549316406, 159.0, 155.0, 155.9600067138672, 157.4600067138672, 164.4499969482422, 167.05999755859375, 165.9600067138672, 170.61000061035156, 170.19000244140625, 170.0500030517578, 174.72999572753906, 173.52999877929688, 177.05999755859375, 174.8300018310547, 184.2899932861328, 179.89999389648438, 179.6699981689453, 185.6199951171875, 189.88999938964844, 193.0800018310547, 199.94000244140625, 202.60000610351562, 212.60000610351562, 200.10000610351562, 201.74000549316406, 209.00999450683594, 217.0, 213.50999450683594, 219.0, 220.75, 221.1199951171875, 222.99000549316406, 219.22000122070312, 217.0, 225.22000122070312, 228.8699951171875, 232.67999267578125, 232.25999450683594, 216.66000366210938, 221.1300048828125, 216.72999572753906, 216.7100067138672, 223.7100067138672, 222.92999267578125, 219.47000122070312, 217.5, 205.1999969482422, 209.9600067138672, 217.3699951171875, 197.2100067138672, 196.66000366210938, 198.8000030517578, 208.1999969482422, 215.1999969482422, 216.8800048828125, 223.89999389648438, 220.1699981689453, 215.64999389648438, 209.9499969482422, 213.8800048828125, 223.1699981689453, 212.3000030517578, 202.4499969482422, 203.10000610351562, 190.0, 194.8300018310547], \"showlegend\": true, \"type\": \"candlestick\", \"x\": [\"2020-08-03T00:00:00\", \"2020-08-04T00:00:00\", \"2020-08-05T00:00:00\", \"2020-08-06T00:00:00\", \"2020-08-07T00:00:00\", \"2020-08-10T00:00:00\", \"2020-08-11T00:00:00\", \"2020-08-12T00:00:00\", \"2020-08-13T00:00:00\", \"2020-08-14T00:00:00\", \"2020-08-17T00:00:00\", \"2020-08-18T00:00:00\", \"2020-08-19T00:00:00\", \"2020-08-20T00:00:00\", \"2020-08-21T00:00:00\", \"2020-08-24T00:00:00\", \"2020-08-25T00:00:00\", \"2020-08-26T00:00:00\", \"2020-08-27T00:00:00\", \"2020-08-28T00:00:00\", \"2020-08-31T00:00:00\", \"2020-09-01T00:00:00\", \"2020-09-02T00:00:00\", \"2020-09-03T00:00:00\", \"2020-09-04T00:00:00\", \"2020-09-08T00:00:00\", \"2020-09-09T00:00:00\", \"2020-09-10T00:00:00\", \"2020-09-11T00:00:00\", \"2020-09-14T00:00:00\", \"2020-09-15T00:00:00\", \"2020-09-16T00:00:00\", \"2020-09-17T00:00:00\", \"2020-09-18T00:00:00\", \"2020-09-21T00:00:00\", \"2020-09-22T00:00:00\", \"2020-09-23T00:00:00\", \"2020-09-24T00:00:00\", \"2020-09-25T00:00:00\", \"2020-09-28T00:00:00\", \"2020-09-29T00:00:00\", \"2020-09-30T00:00:00\", \"2020-10-01T00:00:00\", \"2020-10-02T00:00:00\", \"2020-10-05T00:00:00\", \"2020-10-06T00:00:00\", \"2020-10-07T00:00:00\", \"2020-10-08T00:00:00\", \"2020-10-09T00:00:00\", \"2020-10-12T00:00:00\", \"2020-10-13T00:00:00\", \"2020-10-14T00:00:00\", \"2020-10-15T00:00:00\", \"2020-10-16T00:00:00\", \"2020-10-19T00:00:00\", \"2020-10-20T00:00:00\", \"2020-10-21T00:00:00\", \"2020-10-22T00:00:00\", \"2020-10-23T00:00:00\", \"2020-10-26T00:00:00\", \"2020-10-27T00:00:00\", \"2020-10-28T00:00:00\", \"2020-10-29T00:00:00\", \"2020-10-30T00:00:00\", \"2020-11-02T00:00:00\", \"2020-11-03T00:00:00\", \"2020-11-04T00:00:00\", \"2020-11-05T00:00:00\", \"2020-11-06T00:00:00\", \"2020-11-09T00:00:00\", \"2020-11-10T00:00:00\", \"2020-11-11T00:00:00\", \"2020-11-12T00:00:00\", \"2020-11-13T00:00:00\", \"2020-11-16T00:00:00\", \"2020-11-17T00:00:00\", \"2020-11-18T00:00:00\", \"2020-11-19T00:00:00\", \"2020-11-20T00:00:00\", \"2020-11-23T00:00:00\", \"2020-11-24T00:00:00\", \"2020-11-25T00:00:00\", \"2020-11-27T00:00:00\", \"2020-11-30T00:00:00\", \"2020-12-01T00:00:00\", \"2020-12-02T00:00:00\", \"2020-12-03T00:00:00\", \"2020-12-04T00:00:00\", \"2020-12-07T00:00:00\", \"2020-12-08T00:00:00\", \"2020-12-09T00:00:00\", \"2020-12-10T00:00:00\", \"2020-12-11T00:00:00\", \"2020-12-14T00:00:00\", \"2020-12-15T00:00:00\", \"2020-12-16T00:00:00\", \"2020-12-17T00:00:00\", \"2020-12-18T00:00:00\", \"2020-12-21T00:00:00\", \"2020-12-22T00:00:00\", \"2020-12-23T00:00:00\", \"2020-12-24T00:00:00\", \"2020-12-28T00:00:00\", \"2020-12-29T00:00:00\", \"2020-12-30T00:00:00\", \"2020-12-31T00:00:00\", \"2021-01-04T00:00:00\", \"2021-01-05T00:00:00\", \"2021-01-06T00:00:00\", \"2021-01-07T00:00:00\", \"2021-01-08T00:00:00\", \"2021-01-11T00:00:00\", \"2021-01-12T00:00:00\", \"2021-01-13T00:00:00\", \"2021-01-14T00:00:00\", \"2021-01-15T00:00:00\", \"2021-01-19T00:00:00\", \"2021-01-20T00:00:00\", \"2021-01-21T00:00:00\", \"2021-01-22T00:00:00\", \"2021-01-25T00:00:00\", \"2021-01-26T00:00:00\", \"2021-01-27T00:00:00\", \"2021-01-28T00:00:00\", \"2021-01-29T00:00:00\", \"2021-02-01T00:00:00\", \"2021-02-02T00:00:00\", \"2021-02-03T00:00:00\", \"2021-02-04T00:00:00\", \"2021-02-05T00:00:00\", \"2021-02-08T00:00:00\", \"2021-02-09T00:00:00\", \"2021-02-10T00:00:00\", \"2021-02-11T00:00:00\", \"2021-02-12T00:00:00\", \"2021-02-16T00:00:00\", \"2021-02-17T00:00:00\", \"2021-02-18T00:00:00\", \"2021-02-19T00:00:00\", \"2021-02-22T00:00:00\", \"2021-02-23T00:00:00\", \"2021-02-24T00:00:00\", \"2021-02-25T00:00:00\", \"2021-02-26T00:00:00\", \"2021-03-01T00:00:00\", \"2021-03-02T00:00:00\", \"2021-03-03T00:00:00\", \"2021-03-04T00:00:00\", \"2021-03-05T00:00:00\", \"2021-03-08T00:00:00\", \"2021-03-09T00:00:00\", \"2021-03-10T00:00:00\", \"2021-03-11T00:00:00\", \"2021-03-12T00:00:00\", \"2021-03-15T00:00:00\", \"2021-03-16T00:00:00\", \"2021-03-17T00:00:00\", \"2021-03-18T00:00:00\", \"2021-03-19T00:00:00\", \"2021-03-22T00:00:00\", \"2021-03-23T00:00:00\", \"2021-03-24T00:00:00\", \"2021-03-25T00:00:00\", \"2021-03-26T00:00:00\", \"2021-03-29T00:00:00\", \"2021-03-30T00:00:00\", \"2021-03-31T00:00:00\", \"2021-04-01T00:00:00\", \"2021-04-05T00:00:00\", \"2021-04-06T00:00:00\", \"2021-04-07T00:00:00\", \"2021-04-08T00:00:00\", \"2021-04-09T00:00:00\", \"2021-04-12T00:00:00\", \"2021-04-13T00:00:00\", \"2021-04-14T00:00:00\", \"2021-04-15T00:00:00\", \"2021-04-16T00:00:00\", \"2021-04-19T00:00:00\", \"2021-04-20T00:00:00\", \"2021-04-21T00:00:00\", \"2021-04-22T00:00:00\", \"2021-04-23T00:00:00\", \"2021-04-26T00:00:00\", \"2021-04-27T00:00:00\", \"2021-04-28T00:00:00\", \"2021-04-29T00:00:00\", \"2021-04-30T00:00:00\", \"2021-05-03T00:00:00\", \"2021-05-04T00:00:00\", \"2021-05-05T00:00:00\", \"2021-05-06T00:00:00\", \"2021-05-07T00:00:00\", \"2021-05-10T00:00:00\", \"2021-05-11T00:00:00\", \"2021-05-12T00:00:00\", \"2021-05-13T00:00:00\", \"2021-05-14T00:00:00\", \"2021-05-17T00:00:00\", \"2021-05-18T00:00:00\", \"2021-05-19T00:00:00\", \"2021-05-20T00:00:00\", \"2021-05-21T00:00:00\", \"2021-05-24T00:00:00\", \"2021-05-25T00:00:00\", \"2021-05-26T00:00:00\", \"2021-05-27T00:00:00\", \"2021-05-28T00:00:00\", \"2021-06-01T00:00:00\", \"2021-06-02T00:00:00\", \"2021-06-03T00:00:00\", \"2021-06-04T00:00:00\", \"2021-06-07T00:00:00\", \"2021-06-08T00:00:00\", \"2021-06-09T00:00:00\", \"2021-06-10T00:00:00\", \"2021-06-11T00:00:00\", \"2021-06-14T00:00:00\", \"2021-06-15T00:00:00\", \"2021-06-16T00:00:00\", \"2021-06-17T00:00:00\", \"2021-06-18T00:00:00\", \"2021-06-21T00:00:00\", \"2021-06-22T00:00:00\", \"2021-06-23T00:00:00\", \"2021-06-24T00:00:00\", \"2021-06-25T00:00:00\", \"2021-06-28T00:00:00\", \"2021-06-29T00:00:00\", \"2021-06-30T00:00:00\", \"2021-07-01T00:00:00\", \"2021-07-02T00:00:00\", \"2021-07-06T00:00:00\", \"2021-07-07T00:00:00\", \"2021-07-08T00:00:00\", \"2021-07-09T00:00:00\", \"2021-07-12T00:00:00\", \"2021-07-13T00:00:00\", \"2021-07-14T00:00:00\", \"2021-07-15T00:00:00\", \"2021-07-16T00:00:00\", \"2021-07-19T00:00:00\", \"2021-07-20T00:00:00\", \"2021-07-21T00:00:00\", \"2021-07-22T00:00:00\", \"2021-07-23T00:00:00\", \"2021-07-26T00:00:00\", \"2021-07-27T00:00:00\", \"2021-07-28T00:00:00\", \"2021-07-29T00:00:00\", \"2021-07-30T00:00:00\", \"2021-08-02T00:00:00\", \"2021-08-03T00:00:00\", \"2021-08-04T00:00:00\", \"2021-08-05T00:00:00\", \"2021-08-06T00:00:00\", \"2021-08-09T00:00:00\", \"2021-08-10T00:00:00\", \"2021-08-11T00:00:00\", \"2021-08-12T00:00:00\", \"2021-08-13T00:00:00\", \"2021-08-16T00:00:00\", \"2021-08-17T00:00:00\", \"2021-08-18T00:00:00\", \"2021-08-19T00:00:00\", \"2021-08-20T00:00:00\", \"2021-08-23T00:00:00\", \"2021-08-24T00:00:00\", \"2021-08-25T00:00:00\", \"2021-08-26T00:00:00\", \"2021-08-27T00:00:00\", \"2021-08-30T00:00:00\", \"2021-08-31T00:00:00\", \"2021-09-01T00:00:00\", \"2021-09-02T00:00:00\", \"2021-09-03T00:00:00\", \"2021-09-07T00:00:00\", \"2021-09-08T00:00:00\", \"2021-09-09T00:00:00\", \"2021-09-10T00:00:00\", \"2021-09-13T00:00:00\", \"2021-09-14T00:00:00\", \"2021-09-15T00:00:00\", \"2021-09-16T00:00:00\", \"2021-09-17T00:00:00\", \"2021-09-20T00:00:00\", \"2021-09-21T00:00:00\", \"2021-09-22T00:00:00\", \"2021-09-23T00:00:00\", \"2021-09-24T00:00:00\", \"2021-09-27T00:00:00\", \"2021-09-28T00:00:00\", \"2021-09-29T00:00:00\", \"2021-09-30T00:00:00\", \"2021-10-01T00:00:00\", \"2021-10-04T00:00:00\", \"2021-10-05T00:00:00\", \"2021-10-06T00:00:00\", \"2021-10-07T00:00:00\", \"2021-10-08T00:00:00\", \"2021-10-11T00:00:00\", \"2021-10-12T00:00:00\", \"2021-10-13T00:00:00\", \"2021-10-14T00:00:00\", \"2021-10-15T00:00:00\", \"2021-10-18T00:00:00\", \"2021-10-19T00:00:00\", \"2021-10-20T00:00:00\", \"2021-10-21T00:00:00\", \"2021-10-22T00:00:00\", \"2021-10-25T00:00:00\", \"2021-10-26T00:00:00\", \"2021-10-27T00:00:00\", \"2021-10-28T00:00:00\", \"2021-10-29T00:00:00\", \"2021-11-01T00:00:00\", \"2021-11-02T00:00:00\", \"2021-11-03T00:00:00\", \"2021-11-04T00:00:00\", \"2021-11-05T00:00:00\", \"2021-11-08T00:00:00\", \"2021-11-09T00:00:00\", \"2021-11-10T00:00:00\", \"2021-11-11T00:00:00\", \"2021-11-12T00:00:00\", \"2021-11-15T00:00:00\", \"2021-11-16T00:00:00\", \"2021-11-17T00:00:00\", \"2021-11-18T00:00:00\", \"2021-11-19T00:00:00\", \"2021-11-22T00:00:00\", \"2021-11-23T00:00:00\", \"2021-11-24T00:00:00\", \"2021-11-26T00:00:00\", \"2021-11-29T00:00:00\", \"2021-11-30T00:00:00\", \"2021-12-01T00:00:00\", \"2021-12-02T00:00:00\", \"2021-12-03T00:00:00\", \"2021-12-06T00:00:00\", \"2021-12-07T00:00:00\", \"2021-12-08T00:00:00\", \"2021-12-09T00:00:00\", \"2021-12-10T00:00:00\", \"2021-12-13T00:00:00\", \"2021-12-14T00:00:00\", \"2021-12-15T00:00:00\", \"2021-12-16T00:00:00\", \"2021-12-17T00:00:00\", \"2021-12-20T00:00:00\", \"2021-12-21T00:00:00\", \"2021-12-22T00:00:00\", \"2021-12-23T00:00:00\", \"2021-12-27T00:00:00\", \"2021-12-28T00:00:00\", \"2021-12-29T00:00:00\", \"2021-12-30T00:00:00\", \"2021-12-31T00:00:00\", \"2022-01-03T00:00:00\", \"2022-01-04T00:00:00\", \"2022-01-05T00:00:00\", \"2022-01-06T00:00:00\", \"2022-01-07T00:00:00\", \"2022-01-10T00:00:00\", \"2022-01-11T00:00:00\"], \"xaxis\": \"x\", \"yaxis\": \"y\"}, {\"line\": {\"color\": \"lightgreen\", \"width\": 2}, \"mode\": \"lines\", \"name\": \"MA 20\", \"type\": \"scatter\", \"x\": [\"2020-08-03T00:00:00\", \"2020-08-04T00:00:00\", \"2020-08-05T00:00:00\", \"2020-08-06T00:00:00\", \"2020-08-07T00:00:00\", \"2020-08-10T00:00:00\", \"2020-08-11T00:00:00\", \"2020-08-12T00:00:00\", \"2020-08-13T00:00:00\", \"2020-08-14T00:00:00\", \"2020-08-17T00:00:00\", \"2020-08-18T00:00:00\", \"2020-08-19T00:00:00\", \"2020-08-20T00:00:00\", \"2020-08-21T00:00:00\", \"2020-08-24T00:00:00\", \"2020-08-25T00:00:00\", \"2020-08-26T00:00:00\", \"2020-08-27T00:00:00\", \"2020-08-28T00:00:00\", \"2020-08-31T00:00:00\", \"2020-09-01T00:00:00\", \"2020-09-02T00:00:00\", \"2020-09-03T00:00:00\", \"2020-09-04T00:00:00\", \"2020-09-08T00:00:00\", \"2020-09-09T00:00:00\", \"2020-09-10T00:00:00\", \"2020-09-11T00:00:00\", \"2020-09-14T00:00:00\", \"2020-09-15T00:00:00\", \"2020-09-16T00:00:00\", \"2020-09-17T00:00:00\", \"2020-09-18T00:00:00\", \"2020-09-21T00:00:00\", \"2020-09-22T00:00:00\", \"2020-09-23T00:00:00\", \"2020-09-24T00:00:00\", \"2020-09-25T00:00:00\", \"2020-09-28T00:00:00\", \"2020-09-29T00:00:00\", \"2020-09-30T00:00:00\", \"2020-10-01T00:00:00\", \"2020-10-02T00:00:00\", \"2020-10-05T00:00:00\", \"2020-10-06T00:00:00\", \"2020-10-07T00:00:00\", \"2020-10-08T00:00:00\", \"2020-10-09T00:00:00\", \"2020-10-12T00:00:00\", \"2020-10-13T00:00:00\", \"2020-10-14T00:00:00\", \"2020-10-15T00:00:00\", \"2020-10-16T00:00:00\", \"2020-10-19T00:00:00\", \"2020-10-20T00:00:00\", \"2020-10-21T00:00:00\", \"2020-10-22T00:00:00\", \"2020-10-23T00:00:00\", \"2020-10-26T00:00:00\", \"2020-10-27T00:00:00\", \"2020-10-28T00:00:00\", \"2020-10-29T00:00:00\", \"2020-10-30T00:00:00\", \"2020-11-02T00:00:00\", \"2020-11-03T00:00:00\", \"2020-11-04T00:00:00\", \"2020-11-05T00:00:00\", \"2020-11-06T00:00:00\", \"2020-11-09T00:00:00\", \"2020-11-10T00:00:00\", \"2020-11-11T00:00:00\", \"2020-11-12T00:00:00\", \"2020-11-13T00:00:00\", \"2020-11-16T00:00:00\", \"2020-11-17T00:00:00\", \"2020-11-18T00:00:00\", \"2020-11-19T00:00:00\", \"2020-11-20T00:00:00\", \"2020-11-23T00:00:00\", \"2020-11-24T00:00:00\", \"2020-11-25T00:00:00\", \"2020-11-27T00:00:00\", \"2020-11-30T00:00:00\", \"2020-12-01T00:00:00\", \"2020-12-02T00:00:00\", \"2020-12-03T00:00:00\", \"2020-12-04T00:00:00\", \"2020-12-07T00:00:00\", \"2020-12-08T00:00:00\", \"2020-12-09T00:00:00\", \"2020-12-10T00:00:00\", \"2020-12-11T00:00:00\", \"2020-12-14T00:00:00\", \"2020-12-15T00:00:00\", \"2020-12-16T00:00:00\", \"2020-12-17T00:00:00\", \"2020-12-18T00:00:00\", \"2020-12-21T00:00:00\", \"2020-12-22T00:00:00\", \"2020-12-23T00:00:00\", \"2020-12-24T00:00:00\", \"2020-12-28T00:00:00\", \"2020-12-29T00:00:00\", \"2020-12-30T00:00:00\", \"2020-12-31T00:00:00\", \"2021-01-04T00:00:00\", \"2021-01-05T00:00:00\", \"2021-01-06T00:00:00\", \"2021-01-07T00:00:00\", \"2021-01-08T00:00:00\", \"2021-01-11T00:00:00\", \"2021-01-12T00:00:00\", \"2021-01-13T00:00:00\", \"2021-01-14T00:00:00\", \"2021-01-15T00:00:00\", \"2021-01-19T00:00:00\", \"2021-01-20T00:00:00\", \"2021-01-21T00:00:00\", \"2021-01-22T00:00:00\", \"2021-01-25T00:00:00\", \"2021-01-26T00:00:00\", \"2021-01-27T00:00:00\", \"2021-01-28T00:00:00\", \"2021-01-29T00:00:00\", \"2021-02-01T00:00:00\", \"2021-02-02T00:00:00\", \"2021-02-03T00:00:00\", \"2021-02-04T00:00:00\", \"2021-02-05T00:00:00\", \"2021-02-08T00:00:00\", \"2021-02-09T00:00:00\", \"2021-02-10T00:00:00\", \"2021-02-11T00:00:00\", \"2021-02-12T00:00:00\", \"2021-02-16T00:00:00\", \"2021-02-17T00:00:00\", \"2021-02-18T00:00:00\", \"2021-02-19T00:00:00\", \"2021-02-22T00:00:00\", \"2021-02-23T00:00:00\", \"2021-02-24T00:00:00\", \"2021-02-25T00:00:00\", \"2021-02-26T00:00:00\", \"2021-03-01T00:00:00\", \"2021-03-02T00:00:00\", \"2021-03-03T00:00:00\", \"2021-03-04T00:00:00\", \"2021-03-05T00:00:00\", \"2021-03-08T00:00:00\", \"2021-03-09T00:00:00\", \"2021-03-10T00:00:00\", \"2021-03-11T00:00:00\", \"2021-03-12T00:00:00\", \"2021-03-15T00:00:00\", \"2021-03-16T00:00:00\", \"2021-03-17T00:00:00\", \"2021-03-18T00:00:00\", \"2021-03-19T00:00:00\", \"2021-03-22T00:00:00\", \"2021-03-23T00:00:00\", \"2021-03-24T00:00:00\", \"2021-03-25T00:00:00\", \"2021-03-26T00:00:00\", \"2021-03-29T00:00:00\", \"2021-03-30T00:00:00\", \"2021-03-31T00:00:00\", \"2021-04-01T00:00:00\", \"2021-04-05T00:00:00\", \"2021-04-06T00:00:00\", \"2021-04-07T00:00:00\", \"2021-04-08T00:00:00\", \"2021-04-09T00:00:00\", \"2021-04-12T00:00:00\", \"2021-04-13T00:00:00\", \"2021-04-14T00:00:00\", \"2021-04-15T00:00:00\", \"2021-04-16T00:00:00\", \"2021-04-19T00:00:00\", \"2021-04-20T00:00:00\", \"2021-04-21T00:00:00\", \"2021-04-22T00:00:00\", \"2021-04-23T00:00:00\", \"2021-04-26T00:00:00\", \"2021-04-27T00:00:00\", \"2021-04-28T00:00:00\", \"2021-04-29T00:00:00\", \"2021-04-30T00:00:00\", \"2021-05-03T00:00:00\", \"2021-05-04T00:00:00\", \"2021-05-05T00:00:00\", \"2021-05-06T00:00:00\", \"2021-05-07T00:00:00\", \"2021-05-10T00:00:00\", \"2021-05-11T00:00:00\", \"2021-05-12T00:00:00\", \"2021-05-13T00:00:00\", \"2021-05-14T00:00:00\", \"2021-05-17T00:00:00\", \"2021-05-18T00:00:00\", \"2021-05-19T00:00:00\", \"2021-05-20T00:00:00\", \"2021-05-21T00:00:00\", \"2021-05-24T00:00:00\", \"2021-05-25T00:00:00\", \"2021-05-26T00:00:00\", \"2021-05-27T00:00:00\", \"2021-05-28T00:00:00\", \"2021-06-01T00:00:00\", \"2021-06-02T00:00:00\", \"2021-06-03T00:00:00\", \"2021-06-04T00:00:00\", \"2021-06-07T00:00:00\", \"2021-06-08T00:00:00\", \"2021-06-09T00:00:00\", \"2021-06-10T00:00:00\", \"2021-06-11T00:00:00\", \"2021-06-14T00:00:00\", \"2021-06-15T00:00:00\", \"2021-06-16T00:00:00\", \"2021-06-17T00:00:00\", \"2021-06-18T00:00:00\", \"2021-06-21T00:00:00\", \"2021-06-22T00:00:00\", \"2021-06-23T00:00:00\", \"2021-06-24T00:00:00\", \"2021-06-25T00:00:00\", \"2021-06-28T00:00:00\", \"2021-06-29T00:00:00\", \"2021-06-30T00:00:00\", \"2021-07-01T00:00:00\", \"2021-07-02T00:00:00\", \"2021-07-06T00:00:00\", \"2021-07-07T00:00:00\", \"2021-07-08T00:00:00\", \"2021-07-09T00:00:00\", \"2021-07-12T00:00:00\", \"2021-07-13T00:00:00\", \"2021-07-14T00:00:00\", \"2021-07-15T00:00:00\", \"2021-07-16T00:00:00\", \"2021-07-19T00:00:00\", \"2021-07-20T00:00:00\", \"2021-07-21T00:00:00\", \"2021-07-22T00:00:00\", \"2021-07-23T00:00:00\", \"2021-07-26T00:00:00\", \"2021-07-27T00:00:00\", \"2021-07-28T00:00:00\", \"2021-07-29T00:00:00\", \"2021-07-30T00:00:00\", \"2021-08-02T00:00:00\", \"2021-08-03T00:00:00\", \"2021-08-04T00:00:00\", \"2021-08-05T00:00:00\", \"2021-08-06T00:00:00\", \"2021-08-09T00:00:00\", \"2021-08-10T00:00:00\", \"2021-08-11T00:00:00\", \"2021-08-12T00:00:00\", \"2021-08-13T00:00:00\", \"2021-08-16T00:00:00\", \"2021-08-17T00:00:00\", \"2021-08-18T00:00:00\", \"2021-08-19T00:00:00\", \"2021-08-20T00:00:00\", \"2021-08-23T00:00:00\", \"2021-08-24T00:00:00\", \"2021-08-25T00:00:00\", \"2021-08-26T00:00:00\", \"2021-08-27T00:00:00\", \"2021-08-30T00:00:00\", \"2021-08-31T00:00:00\", \"2021-09-01T00:00:00\", \"2021-09-02T00:00:00\", \"2021-09-03T00:00:00\", \"2021-09-07T00:00:00\", \"2021-09-08T00:00:00\", \"2021-09-09T00:00:00\", \"2021-09-10T00:00:00\", \"2021-09-13T00:00:00\", \"2021-09-14T00:00:00\", \"2021-09-15T00:00:00\", \"2021-09-16T00:00:00\", \"2021-09-17T00:00:00\", \"2021-09-20T00:00:00\", \"2021-09-21T00:00:00\", \"2021-09-22T00:00:00\", \"2021-09-23T00:00:00\", \"2021-09-24T00:00:00\", \"2021-09-27T00:00:00\", \"2021-09-28T00:00:00\", \"2021-09-29T00:00:00\", \"2021-09-30T00:00:00\", \"2021-10-01T00:00:00\", \"2021-10-04T00:00:00\", \"2021-10-05T00:00:00\", \"2021-10-06T00:00:00\", \"2021-10-07T00:00:00\", \"2021-10-08T00:00:00\", \"2021-10-11T00:00:00\", \"2021-10-12T00:00:00\", \"2021-10-13T00:00:00\", \"2021-10-14T00:00:00\", \"2021-10-15T00:00:00\", \"2021-10-18T00:00:00\", \"2021-10-19T00:00:00\", \"2021-10-20T00:00:00\", \"2021-10-21T00:00:00\", \"2021-10-22T00:00:00\", \"2021-10-25T00:00:00\", \"2021-10-26T00:00:00\", \"2021-10-27T00:00:00\", \"2021-10-28T00:00:00\", \"2021-10-29T00:00:00\", \"2021-11-01T00:00:00\", \"2021-11-02T00:00:00\", \"2021-11-03T00:00:00\", \"2021-11-04T00:00:00\", \"2021-11-05T00:00:00\", \"2021-11-08T00:00:00\", \"2021-11-09T00:00:00\", \"2021-11-10T00:00:00\", \"2021-11-11T00:00:00\", \"2021-11-12T00:00:00\", \"2021-11-15T00:00:00\", \"2021-11-16T00:00:00\", \"2021-11-17T00:00:00\", \"2021-11-18T00:00:00\", \"2021-11-19T00:00:00\", \"2021-11-22T00:00:00\", \"2021-11-23T00:00:00\", \"2021-11-24T00:00:00\", \"2021-11-26T00:00:00\", \"2021-11-29T00:00:00\", \"2021-11-30T00:00:00\", \"2021-12-01T00:00:00\", \"2021-12-02T00:00:00\", \"2021-12-03T00:00:00\", \"2021-12-06T00:00:00\", \"2021-12-07T00:00:00\", \"2021-12-08T00:00:00\", \"2021-12-09T00:00:00\", \"2021-12-10T00:00:00\", \"2021-12-13T00:00:00\", \"2021-12-14T00:00:00\", \"2021-12-15T00:00:00\", \"2021-12-16T00:00:00\", \"2021-12-17T00:00:00\", \"2021-12-20T00:00:00\", \"2021-12-21T00:00:00\", \"2021-12-22T00:00:00\", \"2021-12-23T00:00:00\", \"2021-12-27T00:00:00\", \"2021-12-28T00:00:00\", \"2021-12-29T00:00:00\", \"2021-12-30T00:00:00\", \"2021-12-31T00:00:00\", \"2022-01-03T00:00:00\", \"2022-01-04T00:00:00\", \"2022-01-05T00:00:00\", \"2022-01-06T00:00:00\", \"2022-01-07T00:00:00\", \"2022-01-10T00:00:00\", \"2022-01-11T00:00:00\"], \"xaxis\": \"x\", \"y\": [102.61799964904785, 103.04699974060058, 103.46149978637695, 103.88299980163575, 104.29899978637695, 104.72599945068359, 105.02499961853027, 105.36149978637695, 105.6779998779297, 105.9189998626709, 105.99949989318847, 106.0529998779297, 106.01999969482422, 105.93449974060059, 105.90149955749511, 105.68449974060059, 105.61349983215332, 105.47150001525878, 105.06399993896484, 104.94200019836425, 104.8305004119873, 104.708500289917, 104.77300033569335, 104.49500007629395, 104.20400009155273, 103.76600036621093, 103.55500030517578, 103.1930004119873, 102.85050048828126, 102.67100067138672, 102.58050079345703, 102.5360008239746, 102.48650093078614, 102.4535011291504, 102.32400131225586, 102.20150108337403, 101.89650115966796, 101.5980010986328, 101.42950096130372, 101.37400093078614, 101.34750061035156, 101.29400062561035, 101.14650077819825, 101.12100067138672, 101.27600059509277, 101.58850059509277, 101.86050071716309, 102.22000045776367, 103.33450050354004, 104.19350051879883, 104.94800033569337, 105.71900024414063, 106.56050033569336, 107.42550010681153, 108.27399978637695, 109.0095001220703, 109.71000022888184, 110.41150016784668, 111.23500022888183, 111.77250022888184, 112.80850028991699, 113.58450050354004, 114.43400039672852, 115.2390007019043, 115.9260009765625, 116.7700008392334, 117.89150047302246, 119.08850021362305, 119.74749984741212, 120.32000007629395, 120.54650001525879, 121.01199989318847, 121.48299980163574, 121.96450004577636, 122.71100006103515, 123.49500007629395, 124.38400001525879, 125.38000030517578, 126.15800056457519, 127.09550056457519, 127.5390007019043, 128.32900047302246, 129.05850067138672, 130.4015007019043, 131.76750068664552, 133.08200073242188, 133.8885009765625, 134.7875015258789, 135.49500198364257, 136.2870018005371, 137.23450164794923, 138.07450180053712, 138.8835018157959, 139.9525016784668, 140.99250183105468, 142.05950164794922, 143.19850158691406, 144.010001373291, 144.65500106811524, 145.1980010986328, 145.63650131225586, 145.95800170898437, 146.1595016479492, 145.87700119018555, 145.69200134277344, 145.4250015258789, 145.32700119018554, 145.14300079345702, 144.79050064086914, 144.96650085449218, 145.29600143432617, 145.65700149536133, 145.79900131225585, 145.40600128173827, 144.8005012512207, 144.0430015563965, 143.4180015563965, 142.85850143432617, 142.6525016784668, 142.59150161743165, 142.74900131225587, 142.86900100708007, 142.48600082397462, 142.16950149536132, 141.59300155639647, 141.27000122070314, 141.01400146484374, 140.5720016479492, 140.32500152587892, 139.6635009765625, 139.33550033569335, 138.8240005493164, 138.64800033569335, 138.79950027465821, 139.0870002746582, 139.38600006103516, 139.3840003967285, 139.36200027465821, 139.2395004272461, 138.65699996948243, 137.9175003051758, 137.38850021362305, 136.97850036621094, 136.81500015258788, 136.9759994506836, 136.707999420166, 136.01799964904785, 135.10449981689453, 134.2879997253418, 133.06849975585936, 132.01100006103516, 130.90549964904784, 130.05249977111816, 129.11499977111816, 128.25849952697754, 127.58849906921387, 127.08199882507324, 126.31649894714356, 125.52499847412109, 125.22799873352051, 124.81699829101562, 124.12449836730957, 123.84299812316894, 123.48499794006348, 122.90699844360351, 122.4244987487793, 122.44399871826172, 123.0804988861084, 123.61949882507324, 124.53499870300293, 125.10499839782715, 125.80649871826172, 125.98799896240234, 125.92699928283692, 125.80649948120117, 125.52799987792969, 125.57350006103516, 125.89300003051758, 126.09400024414063, 126.00750045776367, 126.24850044250488, 126.40450057983398, 126.88600082397461, 127.42700119018555, 127.99600105285644, 128.5570011138916, 128.98550109863282, 128.89100074768066, 128.5320011138916, 128.16500129699708, 127.68250160217285, 127.15100135803223, 126.88650131225586, 126.65450096130371, 126.40550117492675, 126.06850128173828, 125.29400100708008, 124.76200103759766, 124.32400093078613, 124.03350067138672, 123.72400093078613, 123.76950073242188, 123.4270004272461, 122.91749992370606, 122.44149971008301, 122.05049934387208, 121.57799911499023, 121.52999916076661, 121.7489990234375, 122.05299911499023, 122.24299926757813, 122.56749954223633, 122.73249969482421, 123.1254997253418, 123.36099967956542, 123.95699920654297, 124.6514991760254, 125.16799926757812, 125.61299934387208, 126.03149948120117, 126.61049919128418, 127.00699920654297, 127.24299926757813, 127.55549964904785, 127.8939998626709, 128.39450035095214, 128.8495002746582, 129.2675003051758, 129.84950065612793, 130.62450065612794, 131.4235004425049, 132.22000007629396, 133.04199981689453, 133.54150009155273, 133.93300018310546, 134.27300033569335, 134.60200042724608, 134.8835006713867, 135.16850090026855, 135.34500122070312, 135.1595016479492, 135.03000183105468, 135.20850219726563, 135.4740020751953, 135.7545021057129, 135.9620018005371, 136.12800216674805, 135.91000213623047, 135.85850143432617, 135.98900146484374, 136.3905014038086, 136.61150131225585, 136.72600173950195, 137.08550186157225, 137.94600143432618, 138.67600173950194, 139.37000198364257, 139.9995018005371, 140.75850143432618, 141.57050094604492, 142.47050094604492, 143.1360008239746, 143.71300048828124, 144.0120002746582, 144.31399993896486, 144.6345001220703, 145.53850021362305, 146.64300003051758, 147.37850036621094, 147.5695007324219, 147.8910011291504, 148.19550170898438, 148.65200119018556, 149.14400100708008, 149.30200119018554, 149.5905014038086, 149.88000106811523, 150.21800079345704, 150.53050079345704, 150.98600082397462, 151.40550079345704, 152.05250091552733, 152.80850067138672, 153.60550079345703, 154.16900100708008, 154.45250091552734, 154.3390007019043, 154.3755012512207, 154.52300109863282, 154.83150100708008, 155.0015007019043, 154.80100021362304, 154.43550033569335, 154.2615005493164, 154.14800033569335, 153.75100021362306, 153.60200042724608, 153.62850036621094, 153.8235008239746, 153.88400115966797, 153.89300079345702, 153.90950088500978, 154.1040008544922, 154.53200073242186, 155.20050048828125, 156.22300033569337, 157.17250061035156, 158.0, 158.8770004272461, 159.6444999694824, 160.42649993896484, 161.46750030517578, 163.09600067138672, 164.58850021362304, 165.99500045776367, 167.86350021362304, 169.71999969482422, 171.60650024414062, 173.6099998474121, 175.72199935913085, 178.36249923706055, 180.81699905395507, 182.62899932861328, 184.77749938964843, 187.1099998474121, 189.35400009155273, 191.7930000305176, 194.08349990844727, 196.425, 198.83899993896483, 201.1, 203.51849975585938, 205.97849960327147, 208.13399963378907, 210.7879997253418, 212.94099960327148, 214.4529998779297, 215.80949935913085, 216.75549926757813, 217.5004997253418, 218.29049987792968, 219.2779998779297, 220.1345001220703, 220.55449981689452, 220.3404998779297, 220.06749954223633, 220.00299911499025, 219.18299942016603, 218.1614990234375, 216.92549896240234, 216.22049865722656, 215.95799865722657, 215.26099853515626, 215.20249862670897, 214.5619987487793, 214.02049865722657, 213.75799865722655, 213.42449874877929, 213.63499908447267, 213.7089988708496, 212.60149917602538, 211.56599884033204, 210.46849899291993, 209.28449935913085, 208.83449935913086], \"yaxis\": \"y\"}, {\"fill\": \"tonexty\", \"line\": {\"color\": \"green\", \"width\": 2}, \"mode\": \"lines\", \"name\": \"EMA 21\", \"type\": \"scatter\", \"x\": [\"2020-08-03T00:00:00\", \"2020-08-04T00:00:00\", \"2020-08-05T00:00:00\", \"2020-08-06T00:00:00\", \"2020-08-07T00:00:00\", \"2020-08-10T00:00:00\", \"2020-08-11T00:00:00\", \"2020-08-12T00:00:00\", \"2020-08-13T00:00:00\", \"2020-08-14T00:00:00\", \"2020-08-17T00:00:00\", \"2020-08-18T00:00:00\", \"2020-08-19T00:00:00\", \"2020-08-20T00:00:00\", \"2020-08-21T00:00:00\", \"2020-08-24T00:00:00\", \"2020-08-25T00:00:00\", \"2020-08-26T00:00:00\", \"2020-08-27T00:00:00\", \"2020-08-28T00:00:00\", \"2020-08-31T00:00:00\", \"2020-09-01T00:00:00\", \"2020-09-02T00:00:00\", \"2020-09-03T00:00:00\", \"2020-09-04T00:00:00\", \"2020-09-08T00:00:00\", \"2020-09-09T00:00:00\", \"2020-09-10T00:00:00\", \"2020-09-11T00:00:00\", \"2020-09-14T00:00:00\", \"2020-09-15T00:00:00\", \"2020-09-16T00:00:00\", \"2020-09-17T00:00:00\", \"2020-09-18T00:00:00\", \"2020-09-21T00:00:00\", \"2020-09-22T00:00:00\", \"2020-09-23T00:00:00\", \"2020-09-24T00:00:00\", \"2020-09-25T00:00:00\", \"2020-09-28T00:00:00\", \"2020-09-29T00:00:00\", \"2020-09-30T00:00:00\", \"2020-10-01T00:00:00\", \"2020-10-02T00:00:00\", \"2020-10-05T00:00:00\", \"2020-10-06T00:00:00\", \"2020-10-07T00:00:00\", \"2020-10-08T00:00:00\", \"2020-10-09T00:00:00\", \"2020-10-12T00:00:00\", \"2020-10-13T00:00:00\", \"2020-10-14T00:00:00\", \"2020-10-15T00:00:00\", \"2020-10-16T00:00:00\", \"2020-10-19T00:00:00\", \"2020-10-20T00:00:00\", \"2020-10-21T00:00:00\", \"2020-10-22T00:00:00\", \"2020-10-23T00:00:00\", \"2020-10-26T00:00:00\", \"2020-10-27T00:00:00\", \"2020-10-28T00:00:00\", \"2020-10-29T00:00:00\", \"2020-10-30T00:00:00\", \"2020-11-02T00:00:00\", \"2020-11-03T00:00:00\", \"2020-11-04T00:00:00\", \"2020-11-05T00:00:00\", \"2020-11-06T00:00:00\", \"2020-11-09T00:00:00\", \"2020-11-10T00:00:00\", \"2020-11-11T00:00:00\", \"2020-11-12T00:00:00\", \"2020-11-13T00:00:00\", \"2020-11-16T00:00:00\", \"2020-11-17T00:00:00\", \"2020-11-18T00:00:00\", \"2020-11-19T00:00:00\", \"2020-11-20T00:00:00\", \"2020-11-23T00:00:00\", \"2020-11-24T00:00:00\", \"2020-11-25T00:00:00\", \"2020-11-27T00:00:00\", \"2020-11-30T00:00:00\", \"2020-12-01T00:00:00\", \"2020-12-02T00:00:00\", \"2020-12-03T00:00:00\", \"2020-12-04T00:00:00\", \"2020-12-07T00:00:00\", \"2020-12-08T00:00:00\", \"2020-12-09T00:00:00\", \"2020-12-10T00:00:00\", \"2020-12-11T00:00:00\", \"2020-12-14T00:00:00\", \"2020-12-15T00:00:00\", \"2020-12-16T00:00:00\", \"2020-12-17T00:00:00\", \"2020-12-18T00:00:00\", \"2020-12-21T00:00:00\", \"2020-12-22T00:00:00\", \"2020-12-23T00:00:00\", \"2020-12-24T00:00:00\", \"2020-12-28T00:00:00\", \"2020-12-29T00:00:00\", \"2020-12-30T00:00:00\", \"2020-12-31T00:00:00\", \"2021-01-04T00:00:00\", \"2021-01-05T00:00:00\", \"2021-01-06T00:00:00\", \"2021-01-07T00:00:00\", \"2021-01-08T00:00:00\", \"2021-01-11T00:00:00\", \"2021-01-12T00:00:00\", \"2021-01-13T00:00:00\", \"2021-01-14T00:00:00\", \"2021-01-15T00:00:00\", \"2021-01-19T00:00:00\", \"2021-01-20T00:00:00\", \"2021-01-21T00:00:00\", \"2021-01-22T00:00:00\", \"2021-01-25T00:00:00\", \"2021-01-26T00:00:00\", \"2021-01-27T00:00:00\", \"2021-01-28T00:00:00\", \"2021-01-29T00:00:00\", \"2021-02-01T00:00:00\", \"2021-02-02T00:00:00\", \"2021-02-03T00:00:00\", \"2021-02-04T00:00:00\", \"2021-02-05T00:00:00\", \"2021-02-08T00:00:00\", \"2021-02-09T00:00:00\", \"2021-02-10T00:00:00\", \"2021-02-11T00:00:00\", \"2021-02-12T00:00:00\", \"2021-02-16T00:00:00\", \"2021-02-17T00:00:00\", \"2021-02-18T00:00:00\", \"2021-02-19T00:00:00\", \"2021-02-22T00:00:00\", \"2021-02-23T00:00:00\", \"2021-02-24T00:00:00\", \"2021-02-25T00:00:00\", \"2021-02-26T00:00:00\", \"2021-03-01T00:00:00\", \"2021-03-02T00:00:00\", \"2021-03-03T00:00:00\", \"2021-03-04T00:00:00\", \"2021-03-05T00:00:00\", \"2021-03-08T00:00:00\", \"2021-03-09T00:00:00\", \"2021-03-10T00:00:00\", \"2021-03-11T00:00:00\", \"2021-03-12T00:00:00\", \"2021-03-15T00:00:00\", \"2021-03-16T00:00:00\", \"2021-03-17T00:00:00\", \"2021-03-18T00:00:00\", \"2021-03-19T00:00:00\", \"2021-03-22T00:00:00\", \"2021-03-23T00:00:00\", \"2021-03-24T00:00:00\", \"2021-03-25T00:00:00\", \"2021-03-26T00:00:00\", \"2021-03-29T00:00:00\", \"2021-03-30T00:00:00\", \"2021-03-31T00:00:00\", \"2021-04-01T00:00:00\", \"2021-04-05T00:00:00\", \"2021-04-06T00:00:00\", \"2021-04-07T00:00:00\", \"2021-04-08T00:00:00\", \"2021-04-09T00:00:00\", \"2021-04-12T00:00:00\", \"2021-04-13T00:00:00\", \"2021-04-14T00:00:00\", \"2021-04-15T00:00:00\", \"2021-04-16T00:00:00\", \"2021-04-19T00:00:00\", \"2021-04-20T00:00:00\", \"2021-04-21T00:00:00\", \"2021-04-22T00:00:00\", \"2021-04-23T00:00:00\", \"2021-04-26T00:00:00\", \"2021-04-27T00:00:00\", \"2021-04-28T00:00:00\", \"2021-04-29T00:00:00\", \"2021-04-30T00:00:00\", \"2021-05-03T00:00:00\", \"2021-05-04T00:00:00\", \"2021-05-05T00:00:00\", \"2021-05-06T00:00:00\", \"2021-05-07T00:00:00\", \"2021-05-10T00:00:00\", \"2021-05-11T00:00:00\", \"2021-05-12T00:00:00\", \"2021-05-13T00:00:00\", \"2021-05-14T00:00:00\", \"2021-05-17T00:00:00\", \"2021-05-18T00:00:00\", \"2021-05-19T00:00:00\", \"2021-05-20T00:00:00\", \"2021-05-21T00:00:00\", \"2021-05-24T00:00:00\", \"2021-05-25T00:00:00\", \"2021-05-26T00:00:00\", \"2021-05-27T00:00:00\", \"2021-05-28T00:00:00\", \"2021-06-01T00:00:00\", \"2021-06-02T00:00:00\", \"2021-06-03T00:00:00\", \"2021-06-04T00:00:00\", \"2021-06-07T00:00:00\", \"2021-06-08T00:00:00\", \"2021-06-09T00:00:00\", \"2021-06-10T00:00:00\", \"2021-06-11T00:00:00\", \"2021-06-14T00:00:00\", \"2021-06-15T00:00:00\", \"2021-06-16T00:00:00\", \"2021-06-17T00:00:00\", \"2021-06-18T00:00:00\", \"2021-06-21T00:00:00\", \"2021-06-22T00:00:00\", \"2021-06-23T00:00:00\", \"2021-06-24T00:00:00\", \"2021-06-25T00:00:00\", \"2021-06-28T00:00:00\", \"2021-06-29T00:00:00\", \"2021-06-30T00:00:00\", \"2021-07-01T00:00:00\", \"2021-07-02T00:00:00\", \"2021-07-06T00:00:00\", \"2021-07-07T00:00:00\", \"2021-07-08T00:00:00\", \"2021-07-09T00:00:00\", \"2021-07-12T00:00:00\", \"2021-07-13T00:00:00\", \"2021-07-14T00:00:00\", \"2021-07-15T00:00:00\", \"2021-07-16T00:00:00\", \"2021-07-19T00:00:00\", \"2021-07-20T00:00:00\", \"2021-07-21T00:00:00\", \"2021-07-22T00:00:00\", \"2021-07-23T00:00:00\", \"2021-07-26T00:00:00\", \"2021-07-27T00:00:00\", \"2021-07-28T00:00:00\", \"2021-07-29T00:00:00\", \"2021-07-30T00:00:00\", \"2021-08-02T00:00:00\", \"2021-08-03T00:00:00\", \"2021-08-04T00:00:00\", \"2021-08-05T00:00:00\", \"2021-08-06T00:00:00\", \"2021-08-09T00:00:00\", \"2021-08-10T00:00:00\", \"2021-08-11T00:00:00\", \"2021-08-12T00:00:00\", \"2021-08-13T00:00:00\", \"2021-08-16T00:00:00\", \"2021-08-17T00:00:00\", \"2021-08-18T00:00:00\", \"2021-08-19T00:00:00\", \"2021-08-20T00:00:00\", \"2021-08-23T00:00:00\", \"2021-08-24T00:00:00\", \"2021-08-25T00:00:00\", \"2021-08-26T00:00:00\", \"2021-08-27T00:00:00\", \"2021-08-30T00:00:00\", \"2021-08-31T00:00:00\", \"2021-09-01T00:00:00\", \"2021-09-02T00:00:00\", \"2021-09-03T00:00:00\", \"2021-09-07T00:00:00\", \"2021-09-08T00:00:00\", \"2021-09-09T00:00:00\", \"2021-09-10T00:00:00\", \"2021-09-13T00:00:00\", \"2021-09-14T00:00:00\", \"2021-09-15T00:00:00\", \"2021-09-16T00:00:00\", \"2021-09-17T00:00:00\", \"2021-09-20T00:00:00\", \"2021-09-21T00:00:00\", \"2021-09-22T00:00:00\", \"2021-09-23T00:00:00\", \"2021-09-24T00:00:00\", \"2021-09-27T00:00:00\", \"2021-09-28T00:00:00\", \"2021-09-29T00:00:00\", \"2021-09-30T00:00:00\", \"2021-10-01T00:00:00\", \"2021-10-04T00:00:00\", \"2021-10-05T00:00:00\", \"2021-10-06T00:00:00\", \"2021-10-07T00:00:00\", \"2021-10-08T00:00:00\", \"2021-10-11T00:00:00\", \"2021-10-12T00:00:00\", \"2021-10-13T00:00:00\", \"2021-10-14T00:00:00\", \"2021-10-15T00:00:00\", \"2021-10-18T00:00:00\", \"2021-10-19T00:00:00\", \"2021-10-20T00:00:00\", \"2021-10-21T00:00:00\", \"2021-10-22T00:00:00\", \"2021-10-25T00:00:00\", \"2021-10-26T00:00:00\", \"2021-10-27T00:00:00\", \"2021-10-28T00:00:00\", \"2021-10-29T00:00:00\", \"2021-11-01T00:00:00\", \"2021-11-02T00:00:00\", \"2021-11-03T00:00:00\", \"2021-11-04T00:00:00\", \"2021-11-05T00:00:00\", \"2021-11-08T00:00:00\", \"2021-11-09T00:00:00\", \"2021-11-10T00:00:00\", \"2021-11-11T00:00:00\", \"2021-11-12T00:00:00\", \"2021-11-15T00:00:00\", \"2021-11-16T00:00:00\", \"2021-11-17T00:00:00\", \"2021-11-18T00:00:00\", \"2021-11-19T00:00:00\", \"2021-11-22T00:00:00\", \"2021-11-23T00:00:00\", \"2021-11-24T00:00:00\", \"2021-11-26T00:00:00\", \"2021-11-29T00:00:00\", \"2021-11-30T00:00:00\", \"2021-12-01T00:00:00\", \"2021-12-02T00:00:00\", \"2021-12-03T00:00:00\", \"2021-12-06T00:00:00\", \"2021-12-07T00:00:00\", \"2021-12-08T00:00:00\", \"2021-12-09T00:00:00\", \"2021-12-10T00:00:00\", \"2021-12-13T00:00:00\", \"2021-12-14T00:00:00\", \"2021-12-15T00:00:00\", \"2021-12-16T00:00:00\", \"2021-12-17T00:00:00\", \"2021-12-20T00:00:00\", \"2021-12-21T00:00:00\", \"2021-12-22T00:00:00\", \"2021-12-23T00:00:00\", \"2021-12-27T00:00:00\", \"2021-12-28T00:00:00\", \"2021-12-29T00:00:00\", \"2021-12-30T00:00:00\", \"2021-12-31T00:00:00\", \"2022-01-03T00:00:00\", \"2022-01-04T00:00:00\", \"2022-01-05T00:00:00\", \"2022-01-06T00:00:00\", \"2022-01-07T00:00:00\", \"2022-01-10T00:00:00\", \"2022-01-11T00:00:00\"], \"xaxis\": \"x\", \"y\": [102.86847946498355, 103.31225405907595, 103.69932184414398, 104.15029291850448, 104.45117529722886, 104.63288635641189, 104.63080583404276, 104.75891447781409, 104.8262858889219, 104.87025967707389, 104.84932692367157, 104.70120640521989, 104.49109667653157, 104.20826945624852, 104.00751768749865, 103.86774346324451, 103.82431218382668, 103.92937501774549, 103.91034103619617, 104.00121945673374, 104.01565438449515, 104.13332194577684, 104.56302000619272, 104.43001804873167, 104.17637998881501, 103.58670930268694, 103.29609931059252, 102.8873632870621, 102.50214858149998, 102.431044275973, 102.46731314461678, 102.45483029792932, 102.35893677319746, 102.2099426320616, 101.9554027257023, 101.77945671818995, 101.37132437249335, 101.15665871465126, 101.08332596551216, 101.33029660971631, 101.53936030459828, 101.78487280997749, 102.15988470562584, 102.19898576310446, 102.42998686316491, 102.5672610066414, 102.86387380886079, 103.14806690476159, 104.7655155899111, 106.05046885681726, 107.12951697610163, 108.09501543281965, 109.01637797137545, 109.83488875971098, 110.42989862277524, 110.82081723497146, 110.86437958195202, 111.06216333954977, 111.58560300821108, 111.85509392126077, 112.99099433515715, 113.60635868070928, 114.45123530299742, 114.8365777701255, 115.16779827801714, 115.68163477045415, 116.82512201921614, 118.01647389708569, 119.4804303716404, 120.4685736199927, 120.64870301346993, 121.23154797211754, 121.81504374973221, 122.34549445665463, 123.16044928410363, 123.81949968210415, 124.29772715019055, 125.08520711052479, 125.74837054436912, 126.43488259049536, 127.05171155687789, 127.82519210248842, 128.70381150164076, 130.2352834607423, 131.65025796901642, 133.0556891182287, 134.08608096108506, 135.3428012066327, 136.51800148534437, 137.3972742995318, 137.76115789925475, 138.3155981457181, 138.8169075716578, 139.7453704087159, 140.86942769977367, 141.85857063615785, 142.76779154290273, 143.3516288973121, 143.52693525021982, 143.58448692402797, 143.4395340666767, 143.30775874181194, 143.14523560823457, 142.8502136344391, 142.78201294980968, 142.69001216095978, 142.66637402594355, 142.80852145336132, 142.6641105231197, 143.30464654046037, 143.73058826343342, 144.3987167695808, 144.60519689679575, 144.2929061033548, 143.90264191214072, 143.23876592953843, 142.88615090052144, 142.44195536411038, 142.32541430029212, 142.3812859494843, 142.6320780804083, 142.79188910852102, 141.97989924505106, 141.21536361588448, 140.24760395300578, 139.79873064442288, 139.57248218207476, 139.1922564736724, 138.92750577418371, 138.7050048608524, 138.95273102584594, 139.12521057836136, 139.491099970918, 139.9191815143111, 140.449255922101, 140.64296009564225, 140.52269166187648, 140.25335583430532, 140.11305136881094, 139.31095517947657, 138.4963234452983, 138.07029381923422, 136.94208562313196, 136.3382599348252, 136.1065993303986, 135.54690820474804, 134.452644016701, 132.87694935578108, 131.70177186418664, 129.9188831799779, 129.04262096173417, 128.1060188619192, 127.92274408700752, 127.6979488925743, 127.78177127663005, 127.90888231291652, 128.02534777914286, 127.50031616285715, 127.08028717108994, 126.92298819863822, 126.48726174907274, 125.89387423410909, 125.36079464730798, 125.15890416933894, 124.89264045912027, 124.47512796754187, 124.4228437455725, 124.91622214174915, 125.4447470131846, 125.89522400257547, 126.42111206377601, 126.99828408274736, 127.24571291347061, 126.97155749923996, 126.9023249160793, 126.60302270646768, 126.92093028801749, 127.07720929725666, 127.06109949985868, 126.74827252228808, 126.76661110646572, 126.43146480870107, 126.7249683408291, 127.38269910201437, 127.94881742095411, 128.2734707710911, 128.65497353923766, 128.59179404334992, 128.13344940775065, 127.67222651237275, 127.15929671845676, 126.70299696129236, 126.49636090164539, 125.86850957766768, 125.44682719396458, 124.66711588056617, 123.75283267418303, 123.22984788562094, 122.76713438598708, 122.31648558349677, 122.17498708829075, 122.33998806787972, 122.38271620339917, 122.50883260700529, 122.6525747643585, 122.74779496289338, 122.77254057018183, 123.15685506380166, 123.59077735847202, 124.09525208857897, 124.2529566106222, 124.65087008991223, 124.93079129600508, 125.159809991663, 125.23073657800329, 125.55430536965142, 125.8220957905922, 126.05008724881606, 126.14007940033527, 126.14370857350258, 126.70700746117421, 127.18091570733522, 127.212650532059, 127.46786450845919, 127.77624051772213, 128.31567380828076, 128.66152119999956, 129.27047387366792, 130.20679509644526, 131.51890457764554, 132.45445848500447, 133.55496203714895, 134.5199653218577, 134.78542324181666, 134.69311242642067, 134.77464732746338, 134.80240682778987, 134.72582499925144, 134.54529595324348, 134.10572420420928, 133.60793153862775, 133.21902883793928, 133.02639040753712, 133.2358096278569, 133.52982704538837, 133.92347918765773, 134.06134493799848, 133.7830408527259, 134.2154910739447, 135.4004464308588, 136.7131327860435, 137.82830214436126, 138.6130025597709, 139.1600027709565, 140.23454758519128, 141.13958893575628, 141.85053600649363, 142.27776028333582, 142.79069100020942, 143.07790063184876, 143.40081920011818, 143.33165376280274, 143.268776092516, 143.09070531670488, 143.03791342489862, 143.14992168376793, 144.09265646455822, 144.91059645304298, 145.6687240482209, 146.15974980058434, 147.07886384348222, 147.80533143264006, 148.51302824220826, 149.05457124025324, 149.51688289019827, 150.10262141962272, 150.5251103814752, 150.77828194303143, 151.08661978175087, 151.44783594328206, 151.77257851866196, 152.11870791069765, 152.63155214671022, 153.05141104246383, 153.11764629126682, 152.82876957764313, 152.68524507058467, 152.7884052754605, 153.0985499729861, 153.4750459293659, 154.0382234056913, 153.7674756014097, 153.26861407212672, 153.06146783767556, 152.953152135813, 152.50468414823555, 152.4378950686197, 152.56535882037159, 153.0657814116304, 153.35707439897865, 153.52461281254804, 153.74146652614454, 154.4604235598118, 155.4922030142465, 156.55200218535904, 157.81000193120354, 158.94000225501813, 159.97909251521534, 161.23008460411975, 162.26280385264437, 163.44891237136704, 164.215375326953, 165.7276144884587, 167.1014673838616, 168.274061258056, 169.83005563365532, 171.5636863848216, 173.3824428338577, 175.63312979347506, 177.71284476741695, 180.4671311073641, 182.69739191578554, 184.07853804977307, 186.3241253888207, 188.8219324490877, 191.2263026148489, 193.75300276554088, 195.7918200301082, 198.04438251139098, 200.11943820282704, 201.97494370977884, 203.6363124634353, 206.0375570623737, 207.66596068836174, 209.9763280649702, 211.65575250890402, 212.3361385889717, 212.9146711670872, 213.2915190208605, 213.30229035188313, 214.2575364615841, 215.21139678325827, 215.19399746409488, 215.3745424833391, 214.84231173689562, 214.38482862977727, 214.6889347295738, 213.33357691591226, 212.134160777161, 210.68105469709948, 210.29459451334327, 210.72235864849387, 211.21214428139004, 212.26376741756337, 212.99160713164497, 213.4123696757852, 213.45579055886364, 213.32617312435755, 214.04833959236694, 214.12485411939252, 212.99168589600313, 212.1778956587422, 210.44081490105825, 208.90074081914386, 208.13885567853632], \"yaxis\": \"y\"}, {\"line\": {\"color\": \"blue\", \"width\": 2}, \"name\": \"MA 50\", \"type\": \"scatter\", \"x\": [\"2020-08-03T00:00:00\", \"2020-08-04T00:00:00\", \"2020-08-05T00:00:00\", \"2020-08-06T00:00:00\", \"2020-08-07T00:00:00\", \"2020-08-10T00:00:00\", \"2020-08-11T00:00:00\", \"2020-08-12T00:00:00\", \"2020-08-13T00:00:00\", \"2020-08-14T00:00:00\", \"2020-08-17T00:00:00\", \"2020-08-18T00:00:00\", \"2020-08-19T00:00:00\", \"2020-08-20T00:00:00\", \"2020-08-21T00:00:00\", \"2020-08-24T00:00:00\", \"2020-08-25T00:00:00\", \"2020-08-26T00:00:00\", \"2020-08-27T00:00:00\", \"2020-08-28T00:00:00\", \"2020-08-31T00:00:00\", \"2020-09-01T00:00:00\", \"2020-09-02T00:00:00\", \"2020-09-03T00:00:00\", \"2020-09-04T00:00:00\", \"2020-09-08T00:00:00\", \"2020-09-09T00:00:00\", \"2020-09-10T00:00:00\", \"2020-09-11T00:00:00\", \"2020-09-14T00:00:00\", \"2020-09-15T00:00:00\", \"2020-09-16T00:00:00\", \"2020-09-17T00:00:00\", \"2020-09-18T00:00:00\", \"2020-09-21T00:00:00\", \"2020-09-22T00:00:00\", \"2020-09-23T00:00:00\", \"2020-09-24T00:00:00\", \"2020-09-25T00:00:00\", \"2020-09-28T00:00:00\", \"2020-09-29T00:00:00\", \"2020-09-30T00:00:00\", \"2020-10-01T00:00:00\", \"2020-10-02T00:00:00\", \"2020-10-05T00:00:00\", \"2020-10-06T00:00:00\", \"2020-10-07T00:00:00\", \"2020-10-08T00:00:00\", \"2020-10-09T00:00:00\", \"2020-10-12T00:00:00\", \"2020-10-13T00:00:00\", \"2020-10-14T00:00:00\", \"2020-10-15T00:00:00\", \"2020-10-16T00:00:00\", \"2020-10-19T00:00:00\", \"2020-10-20T00:00:00\", \"2020-10-21T00:00:00\", \"2020-10-22T00:00:00\", \"2020-10-23T00:00:00\", \"2020-10-26T00:00:00\", \"2020-10-27T00:00:00\", \"2020-10-28T00:00:00\", \"2020-10-29T00:00:00\", \"2020-10-30T00:00:00\", \"2020-11-02T00:00:00\", \"2020-11-03T00:00:00\", \"2020-11-04T00:00:00\", \"2020-11-05T00:00:00\", \"2020-11-06T00:00:00\", \"2020-11-09T00:00:00\", \"2020-11-10T00:00:00\", \"2020-11-11T00:00:00\", \"2020-11-12T00:00:00\", \"2020-11-13T00:00:00\", \"2020-11-16T00:00:00\", \"2020-11-17T00:00:00\", \"2020-11-18T00:00:00\", \"2020-11-19T00:00:00\", \"2020-11-20T00:00:00\", \"2020-11-23T00:00:00\", \"2020-11-24T00:00:00\", \"2020-11-25T00:00:00\", \"2020-11-27T00:00:00\", \"2020-11-30T00:00:00\", \"2020-12-01T00:00:00\", \"2020-12-02T00:00:00\", \"2020-12-03T00:00:00\", \"2020-12-04T00:00:00\", \"2020-12-07T00:00:00\", \"2020-12-08T00:00:00\", \"2020-12-09T00:00:00\", \"2020-12-10T00:00:00\", \"2020-12-11T00:00:00\", \"2020-12-14T00:00:00\", \"2020-12-15T00:00:00\", \"2020-12-16T00:00:00\", \"2020-12-17T00:00:00\", \"2020-12-18T00:00:00\", \"2020-12-21T00:00:00\", \"2020-12-22T00:00:00\", \"2020-12-23T00:00:00\", \"2020-12-24T00:00:00\", \"2020-12-28T00:00:00\", \"2020-12-29T00:00:00\", \"2020-12-30T00:00:00\", \"2020-12-31T00:00:00\", \"2021-01-04T00:00:00\", \"2021-01-05T00:00:00\", \"2021-01-06T00:00:00\", \"2021-01-07T00:00:00\", \"2021-01-08T00:00:00\", \"2021-01-11T00:00:00\", \"2021-01-12T00:00:00\", \"2021-01-13T00:00:00\", \"2021-01-14T00:00:00\", \"2021-01-15T00:00:00\", \"2021-01-19T00:00:00\", \"2021-01-20T00:00:00\", \"2021-01-21T00:00:00\", \"2021-01-22T00:00:00\", \"2021-01-25T00:00:00\", \"2021-01-26T00:00:00\", \"2021-01-27T00:00:00\", \"2021-01-28T00:00:00\", \"2021-01-29T00:00:00\", \"2021-02-01T00:00:00\", \"2021-02-02T00:00:00\", \"2021-02-03T00:00:00\", \"2021-02-04T00:00:00\", \"2021-02-05T00:00:00\", \"2021-02-08T00:00:00\", \"2021-02-09T00:00:00\", \"2021-02-10T00:00:00\", \"2021-02-11T00:00:00\", \"2021-02-12T00:00:00\", \"2021-02-16T00:00:00\", \"2021-02-17T00:00:00\", \"2021-02-18T00:00:00\", \"2021-02-19T00:00:00\", \"2021-02-22T00:00:00\", \"2021-02-23T00:00:00\", \"2021-02-24T00:00:00\", \"2021-02-25T00:00:00\", \"2021-02-26T00:00:00\", \"2021-03-01T00:00:00\", \"2021-03-02T00:00:00\", \"2021-03-03T00:00:00\", \"2021-03-04T00:00:00\", \"2021-03-05T00:00:00\", \"2021-03-08T00:00:00\", \"2021-03-09T00:00:00\", \"2021-03-10T00:00:00\", \"2021-03-11T00:00:00\", \"2021-03-12T00:00:00\", \"2021-03-15T00:00:00\", \"2021-03-16T00:00:00\", \"2021-03-17T00:00:00\", \"2021-03-18T00:00:00\", \"2021-03-19T00:00:00\", \"2021-03-22T00:00:00\", \"2021-03-23T00:00:00\", \"2021-03-24T00:00:00\", \"2021-03-25T00:00:00\", \"2021-03-26T00:00:00\", \"2021-03-29T00:00:00\", \"2021-03-30T00:00:00\", \"2021-03-31T00:00:00\", \"2021-04-01T00:00:00\", \"2021-04-05T00:00:00\", \"2021-04-06T00:00:00\", \"2021-04-07T00:00:00\", \"2021-04-08T00:00:00\", \"2021-04-09T00:00:00\", \"2021-04-12T00:00:00\", \"2021-04-13T00:00:00\", \"2021-04-14T00:00:00\", \"2021-04-15T00:00:00\", \"2021-04-16T00:00:00\", \"2021-04-19T00:00:00\", \"2021-04-20T00:00:00\", \"2021-04-21T00:00:00\", \"2021-04-22T00:00:00\", \"2021-04-23T00:00:00\", \"2021-04-26T00:00:00\", \"2021-04-27T00:00:00\", \"2021-04-28T00:00:00\", \"2021-04-29T00:00:00\", \"2021-04-30T00:00:00\", \"2021-05-03T00:00:00\", \"2021-05-04T00:00:00\", \"2021-05-05T00:00:00\", \"2021-05-06T00:00:00\", \"2021-05-07T00:00:00\", \"2021-05-10T00:00:00\", \"2021-05-11T00:00:00\", \"2021-05-12T00:00:00\", \"2021-05-13T00:00:00\", \"2021-05-14T00:00:00\", \"2021-05-17T00:00:00\", \"2021-05-18T00:00:00\", \"2021-05-19T00:00:00\", \"2021-05-20T00:00:00\", \"2021-05-21T00:00:00\", \"2021-05-24T00:00:00\", \"2021-05-25T00:00:00\", \"2021-05-26T00:00:00\", \"2021-05-27T00:00:00\", \"2021-05-28T00:00:00\", \"2021-06-01T00:00:00\", \"2021-06-02T00:00:00\", \"2021-06-03T00:00:00\", \"2021-06-04T00:00:00\", \"2021-06-07T00:00:00\", \"2021-06-08T00:00:00\", \"2021-06-09T00:00:00\", \"2021-06-10T00:00:00\", \"2021-06-11T00:00:00\", \"2021-06-14T00:00:00\", \"2021-06-15T00:00:00\", \"2021-06-16T00:00:00\", \"2021-06-17T00:00:00\", \"2021-06-18T00:00:00\", \"2021-06-21T00:00:00\", \"2021-06-22T00:00:00\", \"2021-06-23T00:00:00\", \"2021-06-24T00:00:00\", \"2021-06-25T00:00:00\", \"2021-06-28T00:00:00\", \"2021-06-29T00:00:00\", \"2021-06-30T00:00:00\", \"2021-07-01T00:00:00\", \"2021-07-02T00:00:00\", \"2021-07-06T00:00:00\", \"2021-07-07T00:00:00\", \"2021-07-08T00:00:00\", \"2021-07-09T00:00:00\", \"2021-07-12T00:00:00\", \"2021-07-13T00:00:00\", \"2021-07-14T00:00:00\", \"2021-07-15T00:00:00\", \"2021-07-16T00:00:00\", \"2021-07-19T00:00:00\", \"2021-07-20T00:00:00\", \"2021-07-21T00:00:00\", \"2021-07-22T00:00:00\", \"2021-07-23T00:00:00\", \"2021-07-26T00:00:00\", \"2021-07-27T00:00:00\", \"2021-07-28T00:00:00\", \"2021-07-29T00:00:00\", \"2021-07-30T00:00:00\", \"2021-08-02T00:00:00\", \"2021-08-03T00:00:00\", \"2021-08-04T00:00:00\", \"2021-08-05T00:00:00\", \"2021-08-06T00:00:00\", \"2021-08-09T00:00:00\", \"2021-08-10T00:00:00\", \"2021-08-11T00:00:00\", \"2021-08-12T00:00:00\", \"2021-08-13T00:00:00\", \"2021-08-16T00:00:00\", \"2021-08-17T00:00:00\", \"2021-08-18T00:00:00\", \"2021-08-19T00:00:00\", \"2021-08-20T00:00:00\", \"2021-08-23T00:00:00\", \"2021-08-24T00:00:00\", \"2021-08-25T00:00:00\", \"2021-08-26T00:00:00\", \"2021-08-27T00:00:00\", \"2021-08-30T00:00:00\", \"2021-08-31T00:00:00\", \"2021-09-01T00:00:00\", \"2021-09-02T00:00:00\", \"2021-09-03T00:00:00\", \"2021-09-07T00:00:00\", \"2021-09-08T00:00:00\", \"2021-09-09T00:00:00\", \"2021-09-10T00:00:00\", \"2021-09-13T00:00:00\", \"2021-09-14T00:00:00\", \"2021-09-15T00:00:00\", \"2021-09-16T00:00:00\", \"2021-09-17T00:00:00\", \"2021-09-20T00:00:00\", \"2021-09-21T00:00:00\", \"2021-09-22T00:00:00\", \"2021-09-23T00:00:00\", \"2021-09-24T00:00:00\", \"2021-09-27T00:00:00\", \"2021-09-28T00:00:00\", \"2021-09-29T00:00:00\", \"2021-09-30T00:00:00\", \"2021-10-01T00:00:00\", \"2021-10-04T00:00:00\", \"2021-10-05T00:00:00\", \"2021-10-06T00:00:00\", \"2021-10-07T00:00:00\", \"2021-10-08T00:00:00\", \"2021-10-11T00:00:00\", \"2021-10-12T00:00:00\", \"2021-10-13T00:00:00\", \"2021-10-14T00:00:00\", \"2021-10-15T00:00:00\", \"2021-10-18T00:00:00\", \"2021-10-19T00:00:00\", \"2021-10-20T00:00:00\", \"2021-10-21T00:00:00\", \"2021-10-22T00:00:00\", \"2021-10-25T00:00:00\", \"2021-10-26T00:00:00\", \"2021-10-27T00:00:00\", \"2021-10-28T00:00:00\", \"2021-10-29T00:00:00\", \"2021-11-01T00:00:00\", \"2021-11-02T00:00:00\", \"2021-11-03T00:00:00\", \"2021-11-04T00:00:00\", \"2021-11-05T00:00:00\", \"2021-11-08T00:00:00\", \"2021-11-09T00:00:00\", \"2021-11-10T00:00:00\", \"2021-11-11T00:00:00\", \"2021-11-12T00:00:00\", \"2021-11-15T00:00:00\", \"2021-11-16T00:00:00\", \"2021-11-17T00:00:00\", \"2021-11-18T00:00:00\", \"2021-11-19T00:00:00\", \"2021-11-22T00:00:00\", \"2021-11-23T00:00:00\", \"2021-11-24T00:00:00\", \"2021-11-26T00:00:00\", \"2021-11-29T00:00:00\", \"2021-11-30T00:00:00\", \"2021-12-01T00:00:00\", \"2021-12-02T00:00:00\", \"2021-12-03T00:00:00\", \"2021-12-06T00:00:00\", \"2021-12-07T00:00:00\", \"2021-12-08T00:00:00\", \"2021-12-09T00:00:00\", \"2021-12-10T00:00:00\", \"2021-12-13T00:00:00\", \"2021-12-14T00:00:00\", \"2021-12-15T00:00:00\", \"2021-12-16T00:00:00\", \"2021-12-17T00:00:00\", \"2021-12-20T00:00:00\", \"2021-12-21T00:00:00\", \"2021-12-22T00:00:00\", \"2021-12-23T00:00:00\", \"2021-12-27T00:00:00\", \"2021-12-28T00:00:00\", \"2021-12-29T00:00:00\", \"2021-12-30T00:00:00\", \"2021-12-31T00:00:00\", \"2022-01-03T00:00:00\", \"2022-01-04T00:00:00\", \"2022-01-05T00:00:00\", \"2022-01-06T00:00:00\", \"2022-01-07T00:00:00\", \"2022-01-10T00:00:00\", \"2022-01-11T00:00:00\"], \"xaxis\": \"x\", \"y\": [97.06519958496094, 97.48839965820312, 97.87319961547851, 98.22559967041016, 98.59179962158203, 98.88179962158203, 99.15699966430664, 99.41579971313476, 99.6179997253418, 99.81059967041016, 99.97939971923829, 100.1129997253418, 100.24419967651367, 100.36579956054688, 100.61099960327148, 100.84639968872071, 101.10159973144532, 101.33159973144531, 101.53599975585938, 101.7647998046875, 101.93839981079101, 102.1547998046875, 102.42699981689454, 102.63119979858398, 102.79819976806641, 102.9315998840332, 103.10019989013672, 103.1083999633789, 103.21600006103516, 103.34460006713867, 103.35920013427734, 103.42240020751953, 103.46480026245118, 103.47460021972657, 103.48000030517578, 103.52220016479492, 103.4954002380371, 103.48940032958984, 103.51300033569336, 103.57920043945313, 103.59120040893555, 103.63300033569335, 103.69020034790039, 103.6802003479004, 103.7218002319336, 103.66440032958984, 103.68480041503906, 103.64820037841797, 103.82960037231446, 104.0606004333496, 104.29120040893555, 104.49120040893554, 104.70440048217773, 104.89160034179687, 105.07000030517578, 105.2356004333496, 105.36940048217774, 105.50940048217774, 105.73580047607422, 105.9206005859375, 106.31480056762695, 106.6456005859375, 107.05580062866211, 107.40200073242187, 107.73160079956055, 108.09860076904297, 108.59600067138672, 109.09500045776367, 109.70300033569336, 110.21180038452148, 110.57760025024415, 111.01260025024413, 111.38840026855469, 111.87940032958984, 112.47280029296876, 113.12720031738282, 113.70100036621093, 114.38420043945312, 115.0588005065918, 115.69040054321289, 116.29820053100586, 116.96280044555664, 117.68460052490235, 118.58120056152343, 119.50900054931641, 120.45080062866211, 121.39280059814453, 122.37080062866211, 123.3292007446289, 124.17700073242187, 124.9324006652832, 125.72480072021484, 126.48320068359375, 127.41200073242187, 128.3594007873535, 129.3156007385254, 130.23620071411133, 131.10020080566406, 131.58700073242187, 132.0922007751465, 132.57360092163086, 133.05840103149413, 133.52420104980467, 133.96180099487304, 134.476201171875, 135.01700119018554, 135.63960098266602, 136.26340087890625, 136.75140090942384, 137.45460098266602, 137.92740112304688, 138.55380111694336, 139.0292010498047, 139.47880096435546, 139.9092008972168, 140.22480102539063, 140.44680114746095, 140.6082012939453, 140.74900146484376, 141.00080139160156, 141.45460144042968, 141.80120147705077, 141.92540145874023, 142.04380157470703, 142.02900177001953, 142.1270016479492, 142.2916015625, 142.34020141601562, 142.41820129394532, 142.48180114746094, 142.6460009765625, 142.75180114746092, 142.86500091552733, 142.83800079345704, 142.83700073242187, 142.74640075683592, 142.64500091552733, 142.43800079345704, 142.24680084228515, 141.94880065917968, 141.72780090332031, 141.52680084228516, 141.16340087890626, 140.78880096435546, 140.4224008178711, 139.98640075683593, 139.4194007873535, 138.77800079345704, 138.27140075683593, 137.63000061035157, 137.19580047607423, 136.73080032348633, 136.42220016479493, 136.13320022583008, 135.86360000610352, 135.61179977416992, 135.34699996948243, 134.90740005493163, 134.54059997558593, 134.053399810791, 133.5361996459961, 132.91379959106445, 132.38099960327148, 132.02039962768555, 131.66499969482422, 131.33899963378906, 131.0297996520996, 130.86679977416992, 130.6581996154785, 130.40739944458008, 130.13819931030272, 129.905799407959, 129.822999420166, 129.63619934082033, 129.5489991760254, 129.31499923706053, 129.17079940795898, 129.035799407959, 128.84819946289062, 128.59099960327148, 128.3013996887207, 127.94599960327149, 127.67619979858398, 127.47139999389648, 127.22860000610352, 127.00740005493164, 126.87039993286133, 126.67839996337891, 126.37519989013671, 126.21059997558594, 126.04419982910156, 125.81079986572266, 125.78619979858398, 125.57199966430665, 125.32079986572266, 125.05919998168946, 124.88119995117188, 124.89879989624023, 124.86259994506835, 124.97699996948242, 124.9866000366211, 125.09160003662109, 125.02600006103516, 124.99240005493164, 124.9018000793457, 124.79220016479492, 124.66880004882813, 124.76380004882813, 124.86480010986328, 124.94060012817383, 125.01460021972656, 125.18800033569336, 125.34200042724609, 125.42820037841797, 125.50240036010742, 125.67220016479492, 125.76420013427735, 125.73380004882813, 125.66000015258788, 125.57560028076172, 125.58880035400391, 125.5718002319336, 125.52800018310546, 125.64380020141601, 125.7368002319336, 125.9388003540039, 125.97920013427735, 126.11360015869141, 126.36700027465821, 126.78740020751952, 127.08460021972657, 127.51420013427735, 127.80440002441406, 127.87399993896484, 127.87720001220703, 127.95859985351562, 128.01079986572265, 128.13080001831054, 128.31460006713868, 128.44760025024414, 128.57960037231445, 128.72340042114257, 128.85680053710936, 129.17160064697265, 129.47640060424806, 129.89620056152344, 130.31280059814452, 130.57280059814454, 130.98080047607422, 131.56960052490234, 132.15120040893555, 132.65100036621095, 133.1240005493164, 133.54120071411134, 134.0790007019043, 134.60880081176757, 135.1276010131836, 135.51860107421874, 135.91840103149414, 136.254600982666, 136.67060104370117, 136.95080093383788, 137.24900085449218, 137.5262008666992, 137.85760070800782, 138.16720092773437, 138.6676010131836, 139.16280090332032, 139.68700088500975, 140.1848010253906, 140.66340118408203, 141.1264013671875, 141.68760131835938, 142.17660125732422, 142.64220123291017, 143.08720123291016, 143.5398013305664, 143.89880126953125, 144.19080108642578, 144.39920104980467, 144.66340118408203, 144.88380126953126, 145.15560119628907, 145.55180114746094, 145.95200103759765, 146.23900115966796, 146.56240112304687, 146.9596011352539, 147.42880096435547, 147.9794009399414, 148.60020080566406, 149.03480072021483, 149.37840057373046, 149.69160064697266, 149.99960052490235, 150.20280059814453, 150.52940063476564, 150.98620056152345, 151.37680084228515, 151.55720092773439, 151.6644009399414, 151.80300109863282, 152.10680084228517, 152.53040069580078, 152.85380065917968, 153.25780059814454, 153.68340057373047, 154.15980041503906, 154.67620056152344, 155.2090005493164, 155.78260040283203, 156.36740051269533, 157.13160064697266, 157.9222006225586, 158.67200073242188, 159.4944006347656, 160.2020004272461, 160.97160064697266, 161.8694006347656, 162.81820037841797, 163.85300018310548, 164.8516000366211, 165.69760009765625, 166.7838000488281, 167.9770001220703, 169.1632000732422, 170.44860015869142, 171.70600006103516, 173.03400024414063, 174.3502001953125, 175.66040008544923, 176.95380004882813, 178.39960021972655, 179.73360015869142, 181.31960021972657, 182.88980010986327, 184.24760009765626, 185.54519989013673, 186.76239990234376, 187.88579986572265, 189.16859985351562, 190.64239990234375, 191.97720001220702, 193.30099975585938, 194.45399993896484, 195.6897998046875, 197.00899963378907, 197.92779968261718, 198.76919952392578, 199.56679931640625, 200.59139923095702, 201.77319915771486, 202.86239929199218, 204.00179931640625, 205.0641995239258, 206.00879943847656, 206.88179931640624, 207.71499938964843, 208.66559936523439, 209.51159942626953, 210.03859954833985, 210.68179931640626, 210.92619934082032, 211.1793994140625, 211.5897994995117], \"yaxis\": \"y\"}, {\"line\": {\"color\": \"orange\", \"width\": 2}, \"name\": \"MA 100\", \"type\": \"scatter\", \"x\": [\"2020-08-03T00:00:00\", \"2020-08-04T00:00:00\", \"2020-08-05T00:00:00\", \"2020-08-06T00:00:00\", \"2020-08-07T00:00:00\", \"2020-08-10T00:00:00\", \"2020-08-11T00:00:00\", \"2020-08-12T00:00:00\", \"2020-08-13T00:00:00\", \"2020-08-14T00:00:00\", \"2020-08-17T00:00:00\", \"2020-08-18T00:00:00\", \"2020-08-19T00:00:00\", \"2020-08-20T00:00:00\", \"2020-08-21T00:00:00\", \"2020-08-24T00:00:00\", \"2020-08-25T00:00:00\", \"2020-08-26T00:00:00\", \"2020-08-27T00:00:00\", \"2020-08-28T00:00:00\", \"2020-08-31T00:00:00\", \"2020-09-01T00:00:00\", \"2020-09-02T00:00:00\", \"2020-09-03T00:00:00\", \"2020-09-04T00:00:00\", \"2020-09-08T00:00:00\", \"2020-09-09T00:00:00\", \"2020-09-10T00:00:00\", \"2020-09-11T00:00:00\", \"2020-09-14T00:00:00\", \"2020-09-15T00:00:00\", \"2020-09-16T00:00:00\", \"2020-09-17T00:00:00\", \"2020-09-18T00:00:00\", \"2020-09-21T00:00:00\", \"2020-09-22T00:00:00\", \"2020-09-23T00:00:00\", \"2020-09-24T00:00:00\", \"2020-09-25T00:00:00\", \"2020-09-28T00:00:00\", \"2020-09-29T00:00:00\", \"2020-09-30T00:00:00\", \"2020-10-01T00:00:00\", \"2020-10-02T00:00:00\", \"2020-10-05T00:00:00\", \"2020-10-06T00:00:00\", \"2020-10-07T00:00:00\", \"2020-10-08T00:00:00\", \"2020-10-09T00:00:00\", \"2020-10-12T00:00:00\", \"2020-10-13T00:00:00\", \"2020-10-14T00:00:00\", \"2020-10-15T00:00:00\", \"2020-10-16T00:00:00\", \"2020-10-19T00:00:00\", \"2020-10-20T00:00:00\", \"2020-10-21T00:00:00\", \"2020-10-22T00:00:00\", \"2020-10-23T00:00:00\", \"2020-10-26T00:00:00\", \"2020-10-27T00:00:00\", \"2020-10-28T00:00:00\", \"2020-10-29T00:00:00\", \"2020-10-30T00:00:00\", \"2020-11-02T00:00:00\", \"2020-11-03T00:00:00\", \"2020-11-04T00:00:00\", \"2020-11-05T00:00:00\", \"2020-11-06T00:00:00\", \"2020-11-09T00:00:00\", \"2020-11-10T00:00:00\", \"2020-11-11T00:00:00\", \"2020-11-12T00:00:00\", \"2020-11-13T00:00:00\", \"2020-11-16T00:00:00\", \"2020-11-17T00:00:00\", \"2020-11-18T00:00:00\", \"2020-11-19T00:00:00\", \"2020-11-20T00:00:00\", \"2020-11-23T00:00:00\", \"2020-11-24T00:00:00\", \"2020-11-25T00:00:00\", \"2020-11-27T00:00:00\", \"2020-11-30T00:00:00\", \"2020-12-01T00:00:00\", \"2020-12-02T00:00:00\", \"2020-12-03T00:00:00\", \"2020-12-04T00:00:00\", \"2020-12-07T00:00:00\", \"2020-12-08T00:00:00\", \"2020-12-09T00:00:00\", \"2020-12-10T00:00:00\", \"2020-12-11T00:00:00\", \"2020-12-14T00:00:00\", \"2020-12-15T00:00:00\", \"2020-12-16T00:00:00\", \"2020-12-17T00:00:00\", \"2020-12-18T00:00:00\", \"2020-12-21T00:00:00\", \"2020-12-22T00:00:00\", \"2020-12-23T00:00:00\", \"2020-12-24T00:00:00\", \"2020-12-28T00:00:00\", \"2020-12-29T00:00:00\", \"2020-12-30T00:00:00\", \"2020-12-31T00:00:00\", \"2021-01-04T00:00:00\", \"2021-01-05T00:00:00\", \"2021-01-06T00:00:00\", \"2021-01-07T00:00:00\", \"2021-01-08T00:00:00\", \"2021-01-11T00:00:00\", \"2021-01-12T00:00:00\", \"2021-01-13T00:00:00\", \"2021-01-14T00:00:00\", \"2021-01-15T00:00:00\", \"2021-01-19T00:00:00\", \"2021-01-20T00:00:00\", \"2021-01-21T00:00:00\", \"2021-01-22T00:00:00\", \"2021-01-25T00:00:00\", \"2021-01-26T00:00:00\", \"2021-01-27T00:00:00\", \"2021-01-28T00:00:00\", \"2021-01-29T00:00:00\", \"2021-02-01T00:00:00\", \"2021-02-02T00:00:00\", \"2021-02-03T00:00:00\", \"2021-02-04T00:00:00\", \"2021-02-05T00:00:00\", \"2021-02-08T00:00:00\", \"2021-02-09T00:00:00\", \"2021-02-10T00:00:00\", \"2021-02-11T00:00:00\", \"2021-02-12T00:00:00\", \"2021-02-16T00:00:00\", \"2021-02-17T00:00:00\", \"2021-02-18T00:00:00\", \"2021-02-19T00:00:00\", \"2021-02-22T00:00:00\", \"2021-02-23T00:00:00\", \"2021-02-24T00:00:00\", \"2021-02-25T00:00:00\", \"2021-02-26T00:00:00\", \"2021-03-01T00:00:00\", \"2021-03-02T00:00:00\", \"2021-03-03T00:00:00\", \"2021-03-04T00:00:00\", \"2021-03-05T00:00:00\", \"2021-03-08T00:00:00\", \"2021-03-09T00:00:00\", \"2021-03-10T00:00:00\", \"2021-03-11T00:00:00\", \"2021-03-12T00:00:00\", \"2021-03-15T00:00:00\", \"2021-03-16T00:00:00\", \"2021-03-17T00:00:00\", \"2021-03-18T00:00:00\", \"2021-03-19T00:00:00\", \"2021-03-22T00:00:00\", \"2021-03-23T00:00:00\", \"2021-03-24T00:00:00\", \"2021-03-25T00:00:00\", \"2021-03-26T00:00:00\", \"2021-03-29T00:00:00\", \"2021-03-30T00:00:00\", \"2021-03-31T00:00:00\", \"2021-04-01T00:00:00\", \"2021-04-05T00:00:00\", \"2021-04-06T00:00:00\", \"2021-04-07T00:00:00\", \"2021-04-08T00:00:00\", \"2021-04-09T00:00:00\", \"2021-04-12T00:00:00\", \"2021-04-13T00:00:00\", \"2021-04-14T00:00:00\", \"2021-04-15T00:00:00\", \"2021-04-16T00:00:00\", \"2021-04-19T00:00:00\", \"2021-04-20T00:00:00\", \"2021-04-21T00:00:00\", \"2021-04-22T00:00:00\", \"2021-04-23T00:00:00\", \"2021-04-26T00:00:00\", \"2021-04-27T00:00:00\", \"2021-04-28T00:00:00\", \"2021-04-29T00:00:00\", \"2021-04-30T00:00:00\", \"2021-05-03T00:00:00\", \"2021-05-04T00:00:00\", \"2021-05-05T00:00:00\", \"2021-05-06T00:00:00\", \"2021-05-07T00:00:00\", \"2021-05-10T00:00:00\", \"2021-05-11T00:00:00\", \"2021-05-12T00:00:00\", \"2021-05-13T00:00:00\", \"2021-05-14T00:00:00\", \"2021-05-17T00:00:00\", \"2021-05-18T00:00:00\", \"2021-05-19T00:00:00\", \"2021-05-20T00:00:00\", \"2021-05-21T00:00:00\", \"2021-05-24T00:00:00\", \"2021-05-25T00:00:00\", \"2021-05-26T00:00:00\", \"2021-05-27T00:00:00\", \"2021-05-28T00:00:00\", \"2021-06-01T00:00:00\", \"2021-06-02T00:00:00\", \"2021-06-03T00:00:00\", \"2021-06-04T00:00:00\", \"2021-06-07T00:00:00\", \"2021-06-08T00:00:00\", \"2021-06-09T00:00:00\", \"2021-06-10T00:00:00\", \"2021-06-11T00:00:00\", \"2021-06-14T00:00:00\", \"2021-06-15T00:00:00\", \"2021-06-16T00:00:00\", \"2021-06-17T00:00:00\", \"2021-06-18T00:00:00\", \"2021-06-21T00:00:00\", \"2021-06-22T00:00:00\", \"2021-06-23T00:00:00\", \"2021-06-24T00:00:00\", \"2021-06-25T00:00:00\", \"2021-06-28T00:00:00\", \"2021-06-29T00:00:00\", \"2021-06-30T00:00:00\", \"2021-07-01T00:00:00\", \"2021-07-02T00:00:00\", \"2021-07-06T00:00:00\", \"2021-07-07T00:00:00\", \"2021-07-08T00:00:00\", \"2021-07-09T00:00:00\", \"2021-07-12T00:00:00\", \"2021-07-13T00:00:00\", \"2021-07-14T00:00:00\", \"2021-07-15T00:00:00\", \"2021-07-16T00:00:00\", \"2021-07-19T00:00:00\", \"2021-07-20T00:00:00\", \"2021-07-21T00:00:00\", \"2021-07-22T00:00:00\", \"2021-07-23T00:00:00\", \"2021-07-26T00:00:00\", \"2021-07-27T00:00:00\", \"2021-07-28T00:00:00\", \"2021-07-29T00:00:00\", \"2021-07-30T00:00:00\", \"2021-08-02T00:00:00\", \"2021-08-03T00:00:00\", \"2021-08-04T00:00:00\", \"2021-08-05T00:00:00\", \"2021-08-06T00:00:00\", \"2021-08-09T00:00:00\", \"2021-08-10T00:00:00\", \"2021-08-11T00:00:00\", \"2021-08-12T00:00:00\", \"2021-08-13T00:00:00\", \"2021-08-16T00:00:00\", \"2021-08-17T00:00:00\", \"2021-08-18T00:00:00\", \"2021-08-19T00:00:00\", \"2021-08-20T00:00:00\", \"2021-08-23T00:00:00\", \"2021-08-24T00:00:00\", \"2021-08-25T00:00:00\", \"2021-08-26T00:00:00\", \"2021-08-27T00:00:00\", \"2021-08-30T00:00:00\", \"2021-08-31T00:00:00\", \"2021-09-01T00:00:00\", \"2021-09-02T00:00:00\", \"2021-09-03T00:00:00\", \"2021-09-07T00:00:00\", \"2021-09-08T00:00:00\", \"2021-09-09T00:00:00\", \"2021-09-10T00:00:00\", \"2021-09-13T00:00:00\", \"2021-09-14T00:00:00\", \"2021-09-15T00:00:00\", \"2021-09-16T00:00:00\", \"2021-09-17T00:00:00\", \"2021-09-20T00:00:00\", \"2021-09-21T00:00:00\", \"2021-09-22T00:00:00\", \"2021-09-23T00:00:00\", \"2021-09-24T00:00:00\", \"2021-09-27T00:00:00\", \"2021-09-28T00:00:00\", \"2021-09-29T00:00:00\", \"2021-09-30T00:00:00\", \"2021-10-01T00:00:00\", \"2021-10-04T00:00:00\", \"2021-10-05T00:00:00\", \"2021-10-06T00:00:00\", \"2021-10-07T00:00:00\", \"2021-10-08T00:00:00\", \"2021-10-11T00:00:00\", \"2021-10-12T00:00:00\", \"2021-10-13T00:00:00\", \"2021-10-14T00:00:00\", \"2021-10-15T00:00:00\", \"2021-10-18T00:00:00\", \"2021-10-19T00:00:00\", \"2021-10-20T00:00:00\", \"2021-10-21T00:00:00\", \"2021-10-22T00:00:00\", \"2021-10-25T00:00:00\", \"2021-10-26T00:00:00\", \"2021-10-27T00:00:00\", \"2021-10-28T00:00:00\", \"2021-10-29T00:00:00\", \"2021-11-01T00:00:00\", \"2021-11-02T00:00:00\", \"2021-11-03T00:00:00\", \"2021-11-04T00:00:00\", \"2021-11-05T00:00:00\", \"2021-11-08T00:00:00\", \"2021-11-09T00:00:00\", \"2021-11-10T00:00:00\", \"2021-11-11T00:00:00\", \"2021-11-12T00:00:00\", \"2021-11-15T00:00:00\", \"2021-11-16T00:00:00\", \"2021-11-17T00:00:00\", \"2021-11-18T00:00:00\", \"2021-11-19T00:00:00\", \"2021-11-22T00:00:00\", \"2021-11-23T00:00:00\", \"2021-11-24T00:00:00\", \"2021-11-26T00:00:00\", \"2021-11-29T00:00:00\", \"2021-11-30T00:00:00\", \"2021-12-01T00:00:00\", \"2021-12-02T00:00:00\", \"2021-12-03T00:00:00\", \"2021-12-06T00:00:00\", \"2021-12-07T00:00:00\", \"2021-12-08T00:00:00\", \"2021-12-09T00:00:00\", \"2021-12-10T00:00:00\", \"2021-12-13T00:00:00\", \"2021-12-14T00:00:00\", \"2021-12-15T00:00:00\", \"2021-12-16T00:00:00\", \"2021-12-17T00:00:00\", \"2021-12-20T00:00:00\", \"2021-12-21T00:00:00\", \"2021-12-22T00:00:00\", \"2021-12-23T00:00:00\", \"2021-12-27T00:00:00\", \"2021-12-28T00:00:00\", \"2021-12-29T00:00:00\", \"2021-12-30T00:00:00\", \"2021-12-31T00:00:00\", \"2022-01-03T00:00:00\", \"2022-01-04T00:00:00\", \"2022-01-05T00:00:00\", \"2022-01-06T00:00:00\", \"2022-01-07T00:00:00\", \"2022-01-10T00:00:00\", \"2022-01-11T00:00:00\"], \"xaxis\": \"x\", \"y\": [89.81879981994629, 90.20649978637695, 90.51679977416993, 90.90509979248047, 91.20149978637696, 91.52189971923828, 91.81339973449707, 92.15519973754883, 92.49019973754883, 92.77419967651367, 93.07039970397949, 93.29979972839355, 93.571499710083, 93.79179969787597, 94.03239967346191, 94.29019966125489, 94.53259963989258, 94.79159965515137, 94.98229965209961, 95.19189971923828, 95.38849975585937, 95.6104997253418, 95.86609970092773, 96.03789970397949, 96.21269966125489, 96.29349967956543, 96.40739967346191, 96.50459968566895, 96.6278997039795, 96.73909973144531, 96.89609977722168, 97.02199981689454, 97.14789985656738, 97.29619987487793, 97.3732999420166, 97.49949989318847, 97.64249992370605, 97.80019996643067, 97.96869995117187, 98.15430000305176, 98.34629997253418, 98.52009994506835, 98.71470001220703, 98.9007999420166, 99.12749992370605, 99.32199996948242, 99.54799995422363, 99.73629989624024, 100.07759994506836, 100.37139999389649, 100.67819999694824, 100.98980003356934, 101.28880004882812, 101.55860000610352, 101.83089996337891, 102.05870002746582, 102.26320007324219, 102.46260009765625, 102.67690010070801, 102.86560012817382, 103.14710014343262, 103.37930015563965, 103.6500001525879, 103.88390014648438, 104.17130020141602, 104.47250022888184, 104.84880020141601, 105.21330009460449, 105.61950004577636, 105.9883000946045, 106.25800003051758, 106.58370002746582, 106.90770004272461, 107.25530006408691, 107.63550003051758, 108.029400100708, 108.40060012817383, 108.74630020141602, 109.13740028381348, 109.51750030517579, 109.8287003326416, 110.19260032653808, 110.57470039367676, 111.027900390625, 111.4945004272461, 111.98650039672852, 112.44410041809083, 112.93010047912598, 113.42110054016113, 113.8781005859375, 114.26180053710938, 114.6789005279541, 115.08670051574707, 115.54610054016113, 116.04060050964355, 116.49000053405761, 116.9605005645752, 117.37420059204102, 117.70830055236816, 118.07640060424805, 118.4324006652832, 118.77480072021484, 119.11430076599122, 119.42670066833496, 119.77310073852539, 120.12630081176758, 120.50450073242187, 120.886400680542, 121.24360069274903, 121.68760078430176, 122.12110084533691, 122.59970085144043, 123.0425008392334, 123.44040084838868, 123.82040084838867, 124.1617008972168, 124.52140090942383, 124.85160087585449, 125.22600090026856, 125.60630088806153, 126.01610084533691, 126.40690086364746, 126.65690086364746, 126.96160095214844, 127.25090103149414, 127.62710098266602, 127.99630096435547, 128.36220092773436, 128.73850090026855, 129.08610084533692, 129.4721007537842, 129.85730079650878, 130.27480072021484, 130.70960067749024, 131.17300064086913, 131.59860069274902, 132.01890075683593, 132.40440071105957, 132.78800079345703, 133.06290069580078, 133.33010078430175, 133.62580078125, 133.82330078125, 134.10040084838866, 134.3909008026123, 134.65100074768065, 134.82780075073242, 134.93910079956055, 134.9292007446289, 134.86110069274903, 134.88470069885253, 134.89460067749025, 134.97320060729982, 135.04750061035156, 135.16990058898926, 135.31440048217775, 135.4933004760742, 135.58540046691894, 135.64600044250489, 135.75400039672851, 135.73180038452148, 135.7338003540039, 135.7051003265381, 135.7496002960205, 135.7871002960205, 135.78190032958983, 135.7383003997803, 135.73750053405763, 135.70360054016112, 135.70410041809083, 135.7964003753662, 135.8535004425049, 135.87420043945312, 135.84000045776367, 135.78900047302247, 135.72100044250487, 135.7312004852295, 135.6880004119873, 135.63320037841797, 135.5364003753662, 135.4737003326416, 135.3489003753662, 135.27060035705566, 135.15470039367676, 135.0328003692627, 134.8769004058838, 134.75770042419433, 134.55820037841798, 134.31100036621095, 134.07970031738282, 133.88600036621094, 133.6688003540039, 133.47480033874513, 133.18040031433105, 132.87160034179686, 132.52280036926268, 132.1503003692627, 131.83840034484862, 131.56700035095216, 131.303500289917, 131.09120025634766, 130.9112001800537, 130.72410011291504, 130.56280014038086, 130.38270004272462, 130.20199996948242, 130.00790000915526, 129.83560005187988, 129.70270004272462, 129.49699996948243, 129.27539993286132, 129.0508999633789, 128.8615000152588, 128.72430000305175, 128.58370002746582, 128.50559989929198, 128.39699989318848, 128.30029991149902, 128.1590998840332, 127.99149986267089, 127.86349983215332, 127.7387998199463, 127.67549980163574, 127.63999977111817, 127.6428997039795, 127.62689979553222, 127.57499977111816, 127.5746997833252, 127.60759986877441, 127.68919990539551, 127.69299995422364, 127.73009986877442, 127.74029991149902, 127.67269996643067, 127.55290000915528, 127.48299995422363, 127.440599899292, 127.40459999084473, 127.3448999786377, 127.32910011291504, 127.311900100708, 127.26710014343261, 127.32150016784668, 127.37180015563965, 127.39860023498535, 127.47770027160645, 127.5970002746582, 127.73580024719239, 127.92170021057129, 128.2733002471924, 128.56890022277832, 128.871300201416, 129.0750003051758, 129.26680038452147, 129.490400390625, 129.70050048828125, 129.89820053100587, 130.14120056152345, 130.39160057067872, 130.59760055541992, 130.84260063171388, 131.06940063476563, 131.29550064086914, 131.4772006225586, 131.68000053405763, 131.91970054626464, 132.21590057373047, 132.44830047607422, 132.67350051879882, 132.88020065307617, 133.12610076904298, 133.34910079956055, 133.60780075073242, 133.9102007293701, 134.18950073242186, 134.51300079345702, 134.75950073242188, 135.00620071411132, 135.278900680542, 135.59330062866212, 135.8740007019043, 136.1990007019043, 136.48000061035157, 136.7129005432129, 136.91460052490234, 137.0988005065918, 137.28660049438477, 137.54520057678224, 137.87170051574708, 138.21350059509277, 138.58990058898925, 138.8791005706787, 139.11760055541993, 139.43160064697267, 139.7380005645752, 140.049500579834, 140.42110061645508, 140.77950057983398, 141.1788006591797, 141.56340072631835, 141.90780067443848, 142.22700073242189, 142.6154006958008, 143.03580070495605, 143.466400680542, 143.93330070495605, 144.40550079345704, 144.8392007446289, 145.29730079650878, 145.7318007659912, 146.2266007232666, 146.6591007232666, 147.19030075073243, 147.72420074462892, 148.26480072021485, 148.83080078125, 149.43480072021484, 150.0672007751465, 150.77820075988768, 151.5015007019043, 152.25820068359374, 152.9890007019043, 153.6926007080078, 154.48020065307617, 155.30960067749024, 156.12520065307618, 156.9942007446289, 157.80240066528322, 158.6124006652832, 159.3747006225586, 160.16190063476563, 160.91880065917968, 161.7776007080078, 162.64270065307616, 163.6358006286621, 164.56440063476563, 165.40500061035155, 166.25240051269532, 167.0956004333496, 167.93260040283204, 168.88440032958985, 169.8386003112793, 170.67780029296875, 171.496300201416, 172.2268002319336, 172.94630020141602, 173.76920013427736, 174.45700012207033, 175.07300018310548, 175.56200012207032, 176.12790008544923, 176.78810012817382, 177.48460006713867, 178.26610000610353, 178.95900009155272, 179.63330001831054, 180.28259994506837, 180.93739990234374, 181.6708999633789, 182.36029998779296, 182.91059997558594, 183.52459991455078, 184.0288999938965, 184.55080001831055, 185.1309001159668], \"yaxis\": \"y\"}, {\"line\": {\"color\": \"red\", \"width\": 2}, \"name\": \"MA 200\", \"type\": \"scatter\", \"x\": [\"2020-08-03T00:00:00\", \"2020-08-04T00:00:00\", \"2020-08-05T00:00:00\", \"2020-08-06T00:00:00\", \"2020-08-07T00:00:00\", \"2020-08-10T00:00:00\", \"2020-08-11T00:00:00\", \"2020-08-12T00:00:00\", \"2020-08-13T00:00:00\", \"2020-08-14T00:00:00\", \"2020-08-17T00:00:00\", \"2020-08-18T00:00:00\", \"2020-08-19T00:00:00\", \"2020-08-20T00:00:00\", \"2020-08-21T00:00:00\", \"2020-08-24T00:00:00\", \"2020-08-25T00:00:00\", \"2020-08-26T00:00:00\", \"2020-08-27T00:00:00\", \"2020-08-28T00:00:00\", \"2020-08-31T00:00:00\", \"2020-09-01T00:00:00\", \"2020-09-02T00:00:00\", \"2020-09-03T00:00:00\", \"2020-09-04T00:00:00\", \"2020-09-08T00:00:00\", \"2020-09-09T00:00:00\", \"2020-09-10T00:00:00\", \"2020-09-11T00:00:00\", \"2020-09-14T00:00:00\", \"2020-09-15T00:00:00\", \"2020-09-16T00:00:00\", \"2020-09-17T00:00:00\", \"2020-09-18T00:00:00\", \"2020-09-21T00:00:00\", \"2020-09-22T00:00:00\", \"2020-09-23T00:00:00\", \"2020-09-24T00:00:00\", \"2020-09-25T00:00:00\", \"2020-09-28T00:00:00\", \"2020-09-29T00:00:00\", \"2020-09-30T00:00:00\", \"2020-10-01T00:00:00\", \"2020-10-02T00:00:00\", \"2020-10-05T00:00:00\", \"2020-10-06T00:00:00\", \"2020-10-07T00:00:00\", \"2020-10-08T00:00:00\", \"2020-10-09T00:00:00\", \"2020-10-12T00:00:00\", \"2020-10-13T00:00:00\", \"2020-10-14T00:00:00\", \"2020-10-15T00:00:00\", \"2020-10-16T00:00:00\", \"2020-10-19T00:00:00\", \"2020-10-20T00:00:00\", \"2020-10-21T00:00:00\", \"2020-10-22T00:00:00\", \"2020-10-23T00:00:00\", \"2020-10-26T00:00:00\", \"2020-10-27T00:00:00\", \"2020-10-28T00:00:00\", \"2020-10-29T00:00:00\", \"2020-10-30T00:00:00\", \"2020-11-02T00:00:00\", \"2020-11-03T00:00:00\", \"2020-11-04T00:00:00\", \"2020-11-05T00:00:00\", \"2020-11-06T00:00:00\", \"2020-11-09T00:00:00\", \"2020-11-10T00:00:00\", \"2020-11-11T00:00:00\", \"2020-11-12T00:00:00\", \"2020-11-13T00:00:00\", \"2020-11-16T00:00:00\", \"2020-11-17T00:00:00\", \"2020-11-18T00:00:00\", \"2020-11-19T00:00:00\", \"2020-11-20T00:00:00\", \"2020-11-23T00:00:00\", \"2020-11-24T00:00:00\", \"2020-11-25T00:00:00\", \"2020-11-27T00:00:00\", \"2020-11-30T00:00:00\", \"2020-12-01T00:00:00\", \"2020-12-02T00:00:00\", \"2020-12-03T00:00:00\", \"2020-12-04T00:00:00\", \"2020-12-07T00:00:00\", \"2020-12-08T00:00:00\", \"2020-12-09T00:00:00\", \"2020-12-10T00:00:00\", \"2020-12-11T00:00:00\", \"2020-12-14T00:00:00\", \"2020-12-15T00:00:00\", \"2020-12-16T00:00:00\", \"2020-12-17T00:00:00\", \"2020-12-18T00:00:00\", \"2020-12-21T00:00:00\", \"2020-12-22T00:00:00\", \"2020-12-23T00:00:00\", \"2020-12-24T00:00:00\", \"2020-12-28T00:00:00\", \"2020-12-29T00:00:00\", \"2020-12-30T00:00:00\", \"2020-12-31T00:00:00\", \"2021-01-04T00:00:00\", \"2021-01-05T00:00:00\", \"2021-01-06T00:00:00\", \"2021-01-07T00:00:00\", \"2021-01-08T00:00:00\", \"2021-01-11T00:00:00\", \"2021-01-12T00:00:00\", \"2021-01-13T00:00:00\", \"2021-01-14T00:00:00\", \"2021-01-15T00:00:00\", \"2021-01-19T00:00:00\", \"2021-01-20T00:00:00\", \"2021-01-21T00:00:00\", \"2021-01-22T00:00:00\", \"2021-01-25T00:00:00\", \"2021-01-26T00:00:00\", \"2021-01-27T00:00:00\", \"2021-01-28T00:00:00\", \"2021-01-29T00:00:00\", \"2021-02-01T00:00:00\", \"2021-02-02T00:00:00\", \"2021-02-03T00:00:00\", \"2021-02-04T00:00:00\", \"2021-02-05T00:00:00\", \"2021-02-08T00:00:00\", \"2021-02-09T00:00:00\", \"2021-02-10T00:00:00\", \"2021-02-11T00:00:00\", \"2021-02-12T00:00:00\", \"2021-02-16T00:00:00\", \"2021-02-17T00:00:00\", \"2021-02-18T00:00:00\", \"2021-02-19T00:00:00\", \"2021-02-22T00:00:00\", \"2021-02-23T00:00:00\", \"2021-02-24T00:00:00\", \"2021-02-25T00:00:00\", \"2021-02-26T00:00:00\", \"2021-03-01T00:00:00\", \"2021-03-02T00:00:00\", \"2021-03-03T00:00:00\", \"2021-03-04T00:00:00\", \"2021-03-05T00:00:00\", \"2021-03-08T00:00:00\", \"2021-03-09T00:00:00\", \"2021-03-10T00:00:00\", \"2021-03-11T00:00:00\", \"2021-03-12T00:00:00\", \"2021-03-15T00:00:00\", \"2021-03-16T00:00:00\", \"2021-03-17T00:00:00\", \"2021-03-18T00:00:00\", \"2021-03-19T00:00:00\", \"2021-03-22T00:00:00\", \"2021-03-23T00:00:00\", \"2021-03-24T00:00:00\", \"2021-03-25T00:00:00\", \"2021-03-26T00:00:00\", \"2021-03-29T00:00:00\", \"2021-03-30T00:00:00\", \"2021-03-31T00:00:00\", \"2021-04-01T00:00:00\", \"2021-04-05T00:00:00\", \"2021-04-06T00:00:00\", \"2021-04-07T00:00:00\", \"2021-04-08T00:00:00\", \"2021-04-09T00:00:00\", \"2021-04-12T00:00:00\", \"2021-04-13T00:00:00\", \"2021-04-14T00:00:00\", \"2021-04-15T00:00:00\", \"2021-04-16T00:00:00\", \"2021-04-19T00:00:00\", \"2021-04-20T00:00:00\", \"2021-04-21T00:00:00\", \"2021-04-22T00:00:00\", \"2021-04-23T00:00:00\", \"2021-04-26T00:00:00\", \"2021-04-27T00:00:00\", \"2021-04-28T00:00:00\", \"2021-04-29T00:00:00\", \"2021-04-30T00:00:00\", \"2021-05-03T00:00:00\", \"2021-05-04T00:00:00\", \"2021-05-05T00:00:00\", \"2021-05-06T00:00:00\", \"2021-05-07T00:00:00\", \"2021-05-10T00:00:00\", \"2021-05-11T00:00:00\", \"2021-05-12T00:00:00\", \"2021-05-13T00:00:00\", \"2021-05-14T00:00:00\", \"2021-05-17T00:00:00\", \"2021-05-18T00:00:00\", \"2021-05-19T00:00:00\", \"2021-05-20T00:00:00\", \"2021-05-21T00:00:00\", \"2021-05-24T00:00:00\", \"2021-05-25T00:00:00\", \"2021-05-26T00:00:00\", \"2021-05-27T00:00:00\", \"2021-05-28T00:00:00\", \"2021-06-01T00:00:00\", \"2021-06-02T00:00:00\", \"2021-06-03T00:00:00\", \"2021-06-04T00:00:00\", \"2021-06-07T00:00:00\", \"2021-06-08T00:00:00\", \"2021-06-09T00:00:00\", \"2021-06-10T00:00:00\", \"2021-06-11T00:00:00\", \"2021-06-14T00:00:00\", \"2021-06-15T00:00:00\", \"2021-06-16T00:00:00\", \"2021-06-17T00:00:00\", \"2021-06-18T00:00:00\", \"2021-06-21T00:00:00\", \"2021-06-22T00:00:00\", \"2021-06-23T00:00:00\", \"2021-06-24T00:00:00\", \"2021-06-25T00:00:00\", \"2021-06-28T00:00:00\", \"2021-06-29T00:00:00\", \"2021-06-30T00:00:00\", \"2021-07-01T00:00:00\", \"2021-07-02T00:00:00\", \"2021-07-06T00:00:00\", \"2021-07-07T00:00:00\", \"2021-07-08T00:00:00\", \"2021-07-09T00:00:00\", \"2021-07-12T00:00:00\", \"2021-07-13T00:00:00\", \"2021-07-14T00:00:00\", \"2021-07-15T00:00:00\", \"2021-07-16T00:00:00\", \"2021-07-19T00:00:00\", \"2021-07-20T00:00:00\", \"2021-07-21T00:00:00\", \"2021-07-22T00:00:00\", \"2021-07-23T00:00:00\", \"2021-07-26T00:00:00\", \"2021-07-27T00:00:00\", \"2021-07-28T00:00:00\", \"2021-07-29T00:00:00\", \"2021-07-30T00:00:00\", \"2021-08-02T00:00:00\", \"2021-08-03T00:00:00\", \"2021-08-04T00:00:00\", \"2021-08-05T00:00:00\", \"2021-08-06T00:00:00\", \"2021-08-09T00:00:00\", \"2021-08-10T00:00:00\", \"2021-08-11T00:00:00\", \"2021-08-12T00:00:00\", \"2021-08-13T00:00:00\", \"2021-08-16T00:00:00\", \"2021-08-17T00:00:00\", \"2021-08-18T00:00:00\", \"2021-08-19T00:00:00\", \"2021-08-20T00:00:00\", \"2021-08-23T00:00:00\", \"2021-08-24T00:00:00\", \"2021-08-25T00:00:00\", \"2021-08-26T00:00:00\", \"2021-08-27T00:00:00\", \"2021-08-30T00:00:00\", \"2021-08-31T00:00:00\", \"2021-09-01T00:00:00\", \"2021-09-02T00:00:00\", \"2021-09-03T00:00:00\", \"2021-09-07T00:00:00\", \"2021-09-08T00:00:00\", \"2021-09-09T00:00:00\", \"2021-09-10T00:00:00\", \"2021-09-13T00:00:00\", \"2021-09-14T00:00:00\", \"2021-09-15T00:00:00\", \"2021-09-16T00:00:00\", \"2021-09-17T00:00:00\", \"2021-09-20T00:00:00\", \"2021-09-21T00:00:00\", \"2021-09-22T00:00:00\", \"2021-09-23T00:00:00\", \"2021-09-24T00:00:00\", \"2021-09-27T00:00:00\", \"2021-09-28T00:00:00\", \"2021-09-29T00:00:00\", \"2021-09-30T00:00:00\", \"2021-10-01T00:00:00\", \"2021-10-04T00:00:00\", \"2021-10-05T00:00:00\", \"2021-10-06T00:00:00\", \"2021-10-07T00:00:00\", \"2021-10-08T00:00:00\", \"2021-10-11T00:00:00\", \"2021-10-12T00:00:00\", \"2021-10-13T00:00:00\", \"2021-10-14T00:00:00\", \"2021-10-15T00:00:00\", \"2021-10-18T00:00:00\", \"2021-10-19T00:00:00\", \"2021-10-20T00:00:00\", \"2021-10-21T00:00:00\", \"2021-10-22T00:00:00\", \"2021-10-25T00:00:00\", \"2021-10-26T00:00:00\", \"2021-10-27T00:00:00\", \"2021-10-28T00:00:00\", \"2021-10-29T00:00:00\", \"2021-11-01T00:00:00\", \"2021-11-02T00:00:00\", \"2021-11-03T00:00:00\", \"2021-11-04T00:00:00\", \"2021-11-05T00:00:00\", \"2021-11-08T00:00:00\", \"2021-11-09T00:00:00\", \"2021-11-10T00:00:00\", \"2021-11-11T00:00:00\", \"2021-11-12T00:00:00\", \"2021-11-15T00:00:00\", \"2021-11-16T00:00:00\", \"2021-11-17T00:00:00\", \"2021-11-18T00:00:00\", \"2021-11-19T00:00:00\", \"2021-11-22T00:00:00\", \"2021-11-23T00:00:00\", \"2021-11-24T00:00:00\", \"2021-11-26T00:00:00\", \"2021-11-29T00:00:00\", \"2021-11-30T00:00:00\", \"2021-12-01T00:00:00\", \"2021-12-02T00:00:00\", \"2021-12-03T00:00:00\", \"2021-12-06T00:00:00\", \"2021-12-07T00:00:00\", \"2021-12-08T00:00:00\", \"2021-12-09T00:00:00\", \"2021-12-10T00:00:00\", \"2021-12-13T00:00:00\", \"2021-12-14T00:00:00\", \"2021-12-15T00:00:00\", \"2021-12-16T00:00:00\", \"2021-12-17T00:00:00\", \"2021-12-20T00:00:00\", \"2021-12-21T00:00:00\", \"2021-12-22T00:00:00\", \"2021-12-23T00:00:00\", \"2021-12-27T00:00:00\", \"2021-12-28T00:00:00\", \"2021-12-29T00:00:00\", \"2021-12-30T00:00:00\", \"2021-12-31T00:00:00\", \"2022-01-03T00:00:00\", \"2022-01-04T00:00:00\", \"2022-01-05T00:00:00\", \"2022-01-06T00:00:00\", \"2022-01-07T00:00:00\", \"2022-01-10T00:00:00\", \"2022-01-11T00:00:00\"], \"xaxis\": \"x\", \"y\": [91.11809997558593, 91.18229995727539, 91.24844997406007, 91.31645000457763, 91.37384998321534, 91.43694995880126, 91.49439994812012, 91.55009994506835, 91.60384994506836, 91.66874992370606, 91.73564990997315, 91.79804992675781, 91.84644992828369, 91.87014991760253, 91.90314990997314, 91.94664993286133, 91.98334991455079, 92.03074993133545, 92.0731999206543, 92.12189994812012, 92.17624996185303, 92.2370499420166, 92.31304992675781, 92.36664993286132, 92.41084991455078, 92.44424991607666, 92.49389991760253, 92.53484992980957, 92.56899993896485, 92.62139995574951, 92.66879997253417, 92.71654998779297, 92.77220001220704, 92.83255001068115, 92.87875003814698, 92.92550003051758, 92.95265003204345, 92.99230003356934, 93.0378500366211, 93.08750003814697, 93.12295001983642, 93.1629999923706, 93.21065002441406, 93.24360000610352, 93.28264999389648, 93.32090000152589, 93.3613500213623, 93.39680000305175, 93.50905002593994, 93.61015003204346, 93.70765003204346, 93.80800003051758, 93.91030006408691, 93.99215003967285, 94.07750003814698, 94.1649500656128, 94.22415008544922, 94.29345008850098, 94.37000007629395, 94.44540008544922, 94.57240009307861, 94.67315010070801, 94.79350009918213, 94.8801501083374, 94.95810012817383, 95.05395011901855, 95.18880008697509, 95.32640003204345, 95.4929999923706, 95.65975002288819, 95.77895000457764, 95.97395000457763, 96.17620002746582, 96.39205001831054, 96.62334999084473, 96.84650001525878, 97.05075000762939, 97.27695003509521, 97.51075004577636, 97.74515007019043, 97.9598000717163, 98.18175006866456, 98.41715007781983, 98.69405010223389, 98.97685012817382, 99.25885013580323, 99.53185012817383, 99.83280014038085, 100.14825016021729, 100.45980018615722, 100.75380016326905, 101.07565017700195, 101.37735019683838, 101.69945018768311, 102.05100017547608, 102.3926001739502, 102.74660018920899, 103.09325019836426, 103.45125019073487, 103.78400020599365, 104.12560024261475, 104.4906502532959, 104.81555027008056, 105.16590023040771, 105.48730026245117, 105.82410026550293, 106.15895023345948, 106.5208002090454, 106.86690021514893, 107.23090023040771, 107.5957502746582, 107.94975028991699, 108.30700027465821, 108.61610027313232, 108.92640026092529, 109.22595027923585, 109.5270002746582, 109.82160026550292, 110.10415027618409, 110.3991003036499, 110.70230030059814, 111.00870029449463, 111.2615002822876, 111.49975032806397, 111.73180034637451, 111.96030033111572, 112.2018503189087, 112.43340030670166, 112.68320030212402, 112.91260028839112, 113.18410026550293, 113.43965030670167, 113.71135028839112, 114.00290027618408, 114.27315029144287, 114.54905029296874, 114.830700340271, 115.10230033874512, 115.37835037231446, 115.60860034942627, 115.83820037841797, 116.07295036315918, 116.26900039672852, 116.50060039520264, 116.75920036315918, 116.98650035858154, 117.18790035247802, 117.3377003479004, 117.50340034484863, 117.61625034332275, 117.78145034790039, 117.94220035552979, 118.13100032806396, 118.30305030822754, 118.50040027618408, 118.68655025482178, 118.8782502746582, 119.0240002822876, 119.16145027160644, 119.30980026245118, 119.43945026397705, 119.55655025482177, 119.67755023956299, 119.81675022125245, 119.97920024871826, 120.12720027923584, 120.29355030059814, 120.47540031433105, 120.66155029296876, 120.84620025634766, 121.0272002029419, 121.21860023498535, 121.39095024108887, 121.5476502609253, 121.71225025177002, 121.87520027160645, 122.06590030670166, 122.21715030670165, 122.38530033111573, 122.526950340271, 122.65120033264161, 122.77075035095214, 122.92265037536622, 123.09130039215088, 123.2636503982544, 123.43170040130616, 123.60090042114258, 123.74415042877197, 123.86605045318603, 123.97890045166015, 124.07390045166015, 124.17385044097901, 124.28075042724609, 124.3632504272461, 124.45610042572021, 124.50640045166016, 124.55540046691894, 124.60630046844483, 124.63765045166015, 124.68995044708252, 124.76180046081544, 124.84300045013428, 124.91920043945312, 124.99475040435792, 125.077900390625, 125.164150390625, 125.25620037078858, 125.36100036621093, 125.47315036773682, 125.59230037689208, 125.69825038909912, 125.82530040740967, 125.95200042724609, 126.08235042572022, 126.20205043792724, 126.33365039825439, 126.45920040130615, 126.57595039367676, 126.69255039215088, 126.79890037536622, 126.93980033874512, 127.07285034179688, 127.16620033264161, 127.3008003616333, 127.44690036773682, 127.62700038909912, 127.78565036773682, 127.96845035552978, 128.17305038452147, 128.3876503753662, 128.5825503540039, 128.7937003326416, 129.00755031585695, 129.19115032196044, 129.3629503250122, 129.54080032348634, 129.72975032806397, 129.90450035095216, 130.06645038604736, 130.1960004043579, 130.3210004425049, 130.44645046234132, 130.57240047454835, 130.73610050201415, 130.89475051879882, 131.06435050964356, 131.21240051269533, 131.33745052337648, 131.4254504776001, 131.56720046997071, 131.72680046081544, 131.8829504394531, 132.0241004562378, 132.15715049743653, 132.33015048980712, 132.5074504852295, 132.69575050354004, 132.86330051422118, 133.0188005065918, 133.17580047607422, 133.28720050811768, 133.40160049438475, 133.50030048370363, 133.61340045928955, 133.73355041503908, 133.85080043792723, 133.97710048675538, 134.09290050506593, 134.18855052947998, 134.2921505355835, 134.4612505722046, 134.60130062103272, 134.74100059509277, 134.87510059356688, 134.98925060272217, 135.11700061798095, 135.24535060882567, 135.3471005630493, 135.45605052947997, 135.56485050201417, 135.67385051727294, 135.77395053863526, 135.87530048370363, 135.93380046844482, 135.9737004470825, 135.9878504562378, 136.02215045928955, 136.0517004776001, 136.091350440979, 136.1466004562378, 136.2379504776001, 136.2739504623413, 136.29620044708253, 136.30600048065185, 136.30480045318603, 136.28615047454835, 136.2857004928589, 136.3089504623413, 136.37290050506593, 136.4334505081177, 136.49950046539306, 136.5691004562378, 136.6697504043579, 136.79930042266847, 136.9245503616333, 137.06765033721925, 137.20670040130616, 137.3374003982544, 137.5000004196167, 137.6144003677368, 137.75100032806395, 137.85500034332276, 138.02590038299562, 138.22425037384033, 138.42425037384032, 138.668200340271, 138.91590030670167, 139.18375034332274, 139.46865032196044, 139.7465002822876, 140.06085025787354, 140.3639002609253, 140.68405025482178, 141.06010021209715, 141.47625019073487, 141.8760502243042, 142.28460025787354, 142.6885502243042, 143.1100002670288, 143.53195026397705, 143.92745029449463, 144.32445026397704, 144.75895030975343, 145.1577003097534, 145.59435031890868, 146.02370029449463, 146.42280025482177, 146.82850025177, 147.22025020599366, 147.63085025787353, 148.09815021514893, 148.55285022735595, 148.99965023040772, 149.43405017852783, 149.81270023345948, 150.21200023651124, 150.68310020446776, 151.09640018463134, 151.49735019683837, 151.91765018463136, 152.34840015411376, 152.82970016479493, 153.27980018615722, 153.7664501953125, 154.22470024108887, 154.6669002532959, 155.09040023803712, 155.5393002319336, 156.0312502670288, 156.47895027160644, 156.8766003036499, 157.29700027465822, 157.66220031738283, 158.01400032043458, 158.4054503250122], \"yaxis\": \"y\"}, {\"line\": {\"color\": \"black\", \"width\": 2}, \"name\": \"MA 300\", \"type\": \"scatter\", \"x\": [\"2020-08-03T00:00:00\", \"2020-08-04T00:00:00\", \"2020-08-05T00:00:00\", \"2020-08-06T00:00:00\", \"2020-08-07T00:00:00\", \"2020-08-10T00:00:00\", \"2020-08-11T00:00:00\", \"2020-08-12T00:00:00\", \"2020-08-13T00:00:00\", \"2020-08-14T00:00:00\", \"2020-08-17T00:00:00\", \"2020-08-18T00:00:00\", \"2020-08-19T00:00:00\", \"2020-08-20T00:00:00\", \"2020-08-21T00:00:00\", \"2020-08-24T00:00:00\", \"2020-08-25T00:00:00\", \"2020-08-26T00:00:00\", \"2020-08-27T00:00:00\", \"2020-08-28T00:00:00\", \"2020-08-31T00:00:00\", \"2020-09-01T00:00:00\", \"2020-09-02T00:00:00\", \"2020-09-03T00:00:00\", \"2020-09-04T00:00:00\", \"2020-09-08T00:00:00\", \"2020-09-09T00:00:00\", \"2020-09-10T00:00:00\", \"2020-09-11T00:00:00\", \"2020-09-14T00:00:00\", \"2020-09-15T00:00:00\", \"2020-09-16T00:00:00\", \"2020-09-17T00:00:00\", \"2020-09-18T00:00:00\", \"2020-09-21T00:00:00\", \"2020-09-22T00:00:00\", \"2020-09-23T00:00:00\", \"2020-09-24T00:00:00\", \"2020-09-25T00:00:00\", \"2020-09-28T00:00:00\", \"2020-09-29T00:00:00\", \"2020-09-30T00:00:00\", \"2020-10-01T00:00:00\", \"2020-10-02T00:00:00\", \"2020-10-05T00:00:00\", \"2020-10-06T00:00:00\", \"2020-10-07T00:00:00\", \"2020-10-08T00:00:00\", \"2020-10-09T00:00:00\", \"2020-10-12T00:00:00\", \"2020-10-13T00:00:00\", \"2020-10-14T00:00:00\", \"2020-10-15T00:00:00\", \"2020-10-16T00:00:00\", \"2020-10-19T00:00:00\", \"2020-10-20T00:00:00\", \"2020-10-21T00:00:00\", \"2020-10-22T00:00:00\", \"2020-10-23T00:00:00\", \"2020-10-26T00:00:00\", \"2020-10-27T00:00:00\", \"2020-10-28T00:00:00\", \"2020-10-29T00:00:00\", \"2020-10-30T00:00:00\", \"2020-11-02T00:00:00\", \"2020-11-03T00:00:00\", \"2020-11-04T00:00:00\", \"2020-11-05T00:00:00\", \"2020-11-06T00:00:00\", \"2020-11-09T00:00:00\", \"2020-11-10T00:00:00\", \"2020-11-11T00:00:00\", \"2020-11-12T00:00:00\", \"2020-11-13T00:00:00\", \"2020-11-16T00:00:00\", \"2020-11-17T00:00:00\", \"2020-11-18T00:00:00\", \"2020-11-19T00:00:00\", \"2020-11-20T00:00:00\", \"2020-11-23T00:00:00\", \"2020-11-24T00:00:00\", \"2020-11-25T00:00:00\", \"2020-11-27T00:00:00\", \"2020-11-30T00:00:00\", \"2020-12-01T00:00:00\", \"2020-12-02T00:00:00\", \"2020-12-03T00:00:00\", \"2020-12-04T00:00:00\", \"2020-12-07T00:00:00\", \"2020-12-08T00:00:00\", \"2020-12-09T00:00:00\", \"2020-12-10T00:00:00\", \"2020-12-11T00:00:00\", \"2020-12-14T00:00:00\", \"2020-12-15T00:00:00\", \"2020-12-16T00:00:00\", \"2020-12-17T00:00:00\", \"2020-12-18T00:00:00\", \"2020-12-21T00:00:00\", \"2020-12-22T00:00:00\", \"2020-12-23T00:00:00\", \"2020-12-24T00:00:00\", \"2020-12-28T00:00:00\", \"2020-12-29T00:00:00\", \"2020-12-30T00:00:00\", \"2020-12-31T00:00:00\", \"2021-01-04T00:00:00\", \"2021-01-05T00:00:00\", \"2021-01-06T00:00:00\", \"2021-01-07T00:00:00\", \"2021-01-08T00:00:00\", \"2021-01-11T00:00:00\", \"2021-01-12T00:00:00\", \"2021-01-13T00:00:00\", \"2021-01-14T00:00:00\", \"2021-01-15T00:00:00\", \"2021-01-19T00:00:00\", \"2021-01-20T00:00:00\", \"2021-01-21T00:00:00\", \"2021-01-22T00:00:00\", \"2021-01-25T00:00:00\", \"2021-01-26T00:00:00\", \"2021-01-27T00:00:00\", \"2021-01-28T00:00:00\", \"2021-01-29T00:00:00\", \"2021-02-01T00:00:00\", \"2021-02-02T00:00:00\", \"2021-02-03T00:00:00\", \"2021-02-04T00:00:00\", \"2021-02-05T00:00:00\", \"2021-02-08T00:00:00\", \"2021-02-09T00:00:00\", \"2021-02-10T00:00:00\", \"2021-02-11T00:00:00\", \"2021-02-12T00:00:00\", \"2021-02-16T00:00:00\", \"2021-02-17T00:00:00\", \"2021-02-18T00:00:00\", \"2021-02-19T00:00:00\", \"2021-02-22T00:00:00\", \"2021-02-23T00:00:00\", \"2021-02-24T00:00:00\", \"2021-02-25T00:00:00\", \"2021-02-26T00:00:00\", \"2021-03-01T00:00:00\", \"2021-03-02T00:00:00\", \"2021-03-03T00:00:00\", \"2021-03-04T00:00:00\", \"2021-03-05T00:00:00\", \"2021-03-08T00:00:00\", \"2021-03-09T00:00:00\", \"2021-03-10T00:00:00\", \"2021-03-11T00:00:00\", \"2021-03-12T00:00:00\", \"2021-03-15T00:00:00\", \"2021-03-16T00:00:00\", \"2021-03-17T00:00:00\", \"2021-03-18T00:00:00\", \"2021-03-19T00:00:00\", \"2021-03-22T00:00:00\", \"2021-03-23T00:00:00\", \"2021-03-24T00:00:00\", \"2021-03-25T00:00:00\", \"2021-03-26T00:00:00\", \"2021-03-29T00:00:00\", \"2021-03-30T00:00:00\", \"2021-03-31T00:00:00\", \"2021-04-01T00:00:00\", \"2021-04-05T00:00:00\", \"2021-04-06T00:00:00\", \"2021-04-07T00:00:00\", \"2021-04-08T00:00:00\", \"2021-04-09T00:00:00\", \"2021-04-12T00:00:00\", \"2021-04-13T00:00:00\", \"2021-04-14T00:00:00\", \"2021-04-15T00:00:00\", \"2021-04-16T00:00:00\", \"2021-04-19T00:00:00\", \"2021-04-20T00:00:00\", \"2021-04-21T00:00:00\", \"2021-04-22T00:00:00\", \"2021-04-23T00:00:00\", \"2021-04-26T00:00:00\", \"2021-04-27T00:00:00\", \"2021-04-28T00:00:00\", \"2021-04-29T00:00:00\", \"2021-04-30T00:00:00\", \"2021-05-03T00:00:00\", \"2021-05-04T00:00:00\", \"2021-05-05T00:00:00\", \"2021-05-06T00:00:00\", \"2021-05-07T00:00:00\", \"2021-05-10T00:00:00\", \"2021-05-11T00:00:00\", \"2021-05-12T00:00:00\", \"2021-05-13T00:00:00\", \"2021-05-14T00:00:00\", \"2021-05-17T00:00:00\", \"2021-05-18T00:00:00\", \"2021-05-19T00:00:00\", \"2021-05-20T00:00:00\", \"2021-05-21T00:00:00\", \"2021-05-24T00:00:00\", \"2021-05-25T00:00:00\", \"2021-05-26T00:00:00\", \"2021-05-27T00:00:00\", \"2021-05-28T00:00:00\", \"2021-06-01T00:00:00\", \"2021-06-02T00:00:00\", \"2021-06-03T00:00:00\", \"2021-06-04T00:00:00\", \"2021-06-07T00:00:00\", \"2021-06-08T00:00:00\", \"2021-06-09T00:00:00\", \"2021-06-10T00:00:00\", \"2021-06-11T00:00:00\", \"2021-06-14T00:00:00\", \"2021-06-15T00:00:00\", \"2021-06-16T00:00:00\", \"2021-06-17T00:00:00\", \"2021-06-18T00:00:00\", \"2021-06-21T00:00:00\", \"2021-06-22T00:00:00\", \"2021-06-23T00:00:00\", \"2021-06-24T00:00:00\", \"2021-06-25T00:00:00\", \"2021-06-28T00:00:00\", \"2021-06-29T00:00:00\", \"2021-06-30T00:00:00\", \"2021-07-01T00:00:00\", \"2021-07-02T00:00:00\", \"2021-07-06T00:00:00\", \"2021-07-07T00:00:00\", \"2021-07-08T00:00:00\", \"2021-07-09T00:00:00\", \"2021-07-12T00:00:00\", \"2021-07-13T00:00:00\", \"2021-07-14T00:00:00\", \"2021-07-15T00:00:00\", \"2021-07-16T00:00:00\", \"2021-07-19T00:00:00\", \"2021-07-20T00:00:00\", \"2021-07-21T00:00:00\", \"2021-07-22T00:00:00\", \"2021-07-23T00:00:00\", \"2021-07-26T00:00:00\", \"2021-07-27T00:00:00\", \"2021-07-28T00:00:00\", \"2021-07-29T00:00:00\", \"2021-07-30T00:00:00\", \"2021-08-02T00:00:00\", \"2021-08-03T00:00:00\", \"2021-08-04T00:00:00\", \"2021-08-05T00:00:00\", \"2021-08-06T00:00:00\", \"2021-08-09T00:00:00\", \"2021-08-10T00:00:00\", \"2021-08-11T00:00:00\", \"2021-08-12T00:00:00\", \"2021-08-13T00:00:00\", \"2021-08-16T00:00:00\", \"2021-08-17T00:00:00\", \"2021-08-18T00:00:00\", \"2021-08-19T00:00:00\", \"2021-08-20T00:00:00\", \"2021-08-23T00:00:00\", \"2021-08-24T00:00:00\", \"2021-08-25T00:00:00\", \"2021-08-26T00:00:00\", \"2021-08-27T00:00:00\", \"2021-08-30T00:00:00\", \"2021-08-31T00:00:00\", \"2021-09-01T00:00:00\", \"2021-09-02T00:00:00\", \"2021-09-03T00:00:00\", \"2021-09-07T00:00:00\", \"2021-09-08T00:00:00\", \"2021-09-09T00:00:00\", \"2021-09-10T00:00:00\", \"2021-09-13T00:00:00\", \"2021-09-14T00:00:00\", \"2021-09-15T00:00:00\", \"2021-09-16T00:00:00\", \"2021-09-17T00:00:00\", \"2021-09-20T00:00:00\", \"2021-09-21T00:00:00\", \"2021-09-22T00:00:00\", \"2021-09-23T00:00:00\", \"2021-09-24T00:00:00\", \"2021-09-27T00:00:00\", \"2021-09-28T00:00:00\", \"2021-09-29T00:00:00\", \"2021-09-30T00:00:00\", \"2021-10-01T00:00:00\", \"2021-10-04T00:00:00\", \"2021-10-05T00:00:00\", \"2021-10-06T00:00:00\", \"2021-10-07T00:00:00\", \"2021-10-08T00:00:00\", \"2021-10-11T00:00:00\", \"2021-10-12T00:00:00\", \"2021-10-13T00:00:00\", \"2021-10-14T00:00:00\", \"2021-10-15T00:00:00\", \"2021-10-18T00:00:00\", \"2021-10-19T00:00:00\", \"2021-10-20T00:00:00\", \"2021-10-21T00:00:00\", \"2021-10-22T00:00:00\", \"2021-10-25T00:00:00\", \"2021-10-26T00:00:00\", \"2021-10-27T00:00:00\", \"2021-10-28T00:00:00\", \"2021-10-29T00:00:00\", \"2021-11-01T00:00:00\", \"2021-11-02T00:00:00\", \"2021-11-03T00:00:00\", \"2021-11-04T00:00:00\", \"2021-11-05T00:00:00\", \"2021-11-08T00:00:00\", \"2021-11-09T00:00:00\", \"2021-11-10T00:00:00\", \"2021-11-11T00:00:00\", \"2021-11-12T00:00:00\", \"2021-11-15T00:00:00\", \"2021-11-16T00:00:00\", \"2021-11-17T00:00:00\", \"2021-11-18T00:00:00\", \"2021-11-19T00:00:00\", \"2021-11-22T00:00:00\", \"2021-11-23T00:00:00\", \"2021-11-24T00:00:00\", \"2021-11-26T00:00:00\", \"2021-11-29T00:00:00\", \"2021-11-30T00:00:00\", \"2021-12-01T00:00:00\", \"2021-12-02T00:00:00\", \"2021-12-03T00:00:00\", \"2021-12-06T00:00:00\", \"2021-12-07T00:00:00\", \"2021-12-08T00:00:00\", \"2021-12-09T00:00:00\", \"2021-12-10T00:00:00\", \"2021-12-13T00:00:00\", \"2021-12-14T00:00:00\", \"2021-12-15T00:00:00\", \"2021-12-16T00:00:00\", \"2021-12-17T00:00:00\", \"2021-12-20T00:00:00\", \"2021-12-21T00:00:00\", \"2021-12-22T00:00:00\", \"2021-12-23T00:00:00\", \"2021-12-27T00:00:00\", \"2021-12-28T00:00:00\", \"2021-12-29T00:00:00\", \"2021-12-30T00:00:00\", \"2021-12-31T00:00:00\", \"2022-01-03T00:00:00\", \"2022-01-04T00:00:00\", \"2022-01-05T00:00:00\", \"2022-01-06T00:00:00\", \"2022-01-07T00:00:00\", \"2022-01-10T00:00:00\", \"2022-01-11T00:00:00\"], \"xaxis\": \"x\", \"y\": [91.11809997558593, 91.18229995727539, 91.24844997406007, 91.31645000457763, 91.37384998321534, 91.43694995880126, 91.49439994812012, 91.55009994506835, 91.60384994506836, 91.66874992370606, 91.73564990997315, 91.79804992675781, 91.84644992828369, 91.87014991760253, 91.90314990997314, 91.94664993286133, 91.98334991455079, 92.03074993133545, 92.0731999206543, 92.12189994812012, 92.17624996185303, 92.2370499420166, 92.31304992675781, 92.36664993286132, 92.41084991455078, 92.44424991607666, 92.49389991760253, 92.53484992980957, 92.56899993896485, 92.62139995574951, 92.66879997253417, 92.71654998779297, 92.77220001220704, 92.83255001068115, 92.87875003814698, 92.92550003051758, 92.95265003204345, 92.99230003356934, 93.0378500366211, 93.08750003814697, 93.12295001983642, 93.1629999923706, 93.21065002441406, 93.24360000610352, 93.28264999389648, 93.32090000152589, 93.3613500213623, 93.39680000305175, 93.50905002593994, 93.61015003204346, 93.70765003204346, 93.80800003051758, 93.91030006408691, 93.99215003967285, 94.07750003814698, 94.1649500656128, 94.22415008544922, 94.29345008850098, 94.37000007629395, 94.44540008544922, 94.57240009307861, 94.67315010070801, 94.79350009918213, 94.8801501083374, 94.95810012817383, 95.05395011901855, 95.18880008697509, 95.32640003204345, 95.4929999923706, 95.65975002288819, 95.77895000457764, 95.97395000457763, 96.17620002746582, 96.39205001831054, 96.62334999084473, 96.84650001525878, 97.05075000762939, 97.27695003509521, 97.51075004577636, 97.74515007019043, 97.9598000717163, 98.18175006866456, 98.41715007781983, 98.69405010223389, 98.97685012817382, 99.25885013580323, 99.53185012817383, 99.83280014038085, 100.14825016021729, 100.45980018615722, 100.75380016326905, 101.07565017700195, 101.37735019683838, 101.69945018768311, 102.05100017547608, 102.3926001739502, 102.74660018920899, 103.09325019836426, 103.45125019073487, 103.78400020599365, 104.12560024261475, 104.4906502532959, 104.81555027008056, 105.16590023040771, 105.48730026245117, 105.82410026550293, 106.15895023345948, 106.5208002090454, 106.86690021514893, 107.23090023040771, 107.5957502746582, 107.94975028991699, 108.30700027465821, 108.61610027313232, 108.92640026092529, 109.22595027923585, 109.5270002746582, 109.82160026550292, 110.10415027618409, 110.3991003036499, 110.70230030059814, 111.00870029449463, 111.2615002822876, 111.49975032806397, 111.73180034637451, 111.96030033111572, 112.2018503189087, 112.43340030670166, 112.68320030212402, 112.91260028839112, 113.18410026550293, 113.43965030670167, 113.71135028839112, 114.00290027618408, 114.27315029144287, 114.54905029296874, 114.830700340271, 115.10230033874512, 115.37835037231446, 115.60860034942627, 115.83820037841797, 116.07295036315918, 116.26900039672852, 116.50060039520264, 116.75920036315918, 116.98650035858154, 117.18790035247802, 117.3377003479004, 117.50340034484863, 117.61625034332275, 117.78145034790039, 117.94220035552979, 118.13100032806396, 118.30305030822754, 118.50040027618408, 118.68655025482178, 118.8782502746582, 119.0240002822876, 119.16145027160644, 119.30980026245118, 119.43945026397705, 119.55655025482177, 119.67755023956299, 119.81675022125245, 119.97920024871826, 120.12720027923584, 120.29355030059814, 120.47540031433105, 120.66155029296876, 120.84620025634766, 121.0272002029419, 121.21860023498535, 121.39095024108887, 121.5476502609253, 121.71225025177002, 121.87520027160645, 122.06590030670166, 122.21715030670165, 122.38530033111573, 122.526950340271, 122.65120033264161, 122.77075035095214, 122.92265037536622, 123.09130039215088, 123.2636503982544, 123.43170040130616, 123.60090042114258, 123.74415042877197, 123.86605045318603, 123.97890045166015, 124.07390045166015, 124.17385044097901, 124.28075042724609, 124.3632504272461, 124.45610042572021, 124.50640045166016, 124.55540046691894, 124.60630046844483, 124.63765045166015, 124.68995044708252, 124.76180046081544, 124.84300045013428, 124.91920043945312, 124.99475040435792, 125.077900390625, 125.164150390625, 125.25620037078858, 125.36100036621093, 125.47315036773682, 125.59230037689208, 125.69825038909912, 125.82530040740967, 125.95200042724609, 126.08235042572022, 126.20205043792724, 126.33365039825439, 126.45920040130615, 126.57595039367676, 126.69255039215088, 126.79890037536622, 126.93980033874512, 127.07285034179688, 127.16620033264161, 127.3008003616333, 127.44690036773682, 127.62700038909912, 127.78565036773682, 127.96845035552978, 128.17305038452147, 128.3876503753662, 128.5825503540039, 128.7937003326416, 129.00755031585695, 129.19115032196044, 129.3629503250122, 129.54080032348634, 129.72975032806397, 129.90450035095216, 130.06645038604736, 130.1960004043579, 130.3210004425049, 130.44645046234132, 130.57240047454835, 130.73610050201415, 130.89475051879882, 131.06435050964356, 131.21240051269533, 131.33745052337648, 131.4254504776001, 131.56720046997071, 131.72680046081544, 131.8829504394531, 132.0241004562378, 132.15715049743653, 132.33015048980712, 132.5074504852295, 132.69575050354004, 132.86330051422118, 133.0188005065918, 133.17580047607422, 133.28720050811768, 133.40160049438475, 133.50030048370363, 133.61340045928955, 133.73355041503908, 133.85080043792723, 133.97710048675538, 134.09290050506593, 134.18855052947998, 134.2921505355835, 134.4612505722046, 134.60130062103272, 134.74100059509277, 134.87510059356688, 134.98925060272217, 135.11700061798095, 135.24535060882567, 135.3471005630493, 135.45605052947997, 135.56485050201417, 135.67385051727294, 135.77395053863526, 135.87530048370363, 135.93380046844482, 135.9737004470825, 135.9878504562378, 136.02215045928955, 136.0517004776001, 136.091350440979, 136.1466004562378, 136.2379504776001, 136.2739504623413, 136.29620044708253, 136.30600048065185, 136.30480045318603, 136.28615047454835, 136.2857004928589, 136.3089504623413, 136.37290050506593, 136.4334505081177, 136.49950046539306, 136.5691004562378, 136.6697504043579, 136.79930042266847, 136.9245503616333, 137.06765033721925, 137.20670040130616, 137.3374003982544, 137.5000004196167, 137.6144003677368, 137.75100032806395, 137.85500034332276, 138.02590038299562, 138.22425037384033, 138.42425037384032, 138.668200340271, 138.91590030670167, 139.18375034332274, 139.46865032196044, 139.7465002822876, 140.06085025787354, 140.3639002609253, 140.68405025482178, 141.06010021209715, 141.47625019073487, 141.8760502243042, 142.28460025787354, 142.6885502243042, 143.1100002670288, 143.53195026397705, 143.92745029449463, 144.32445026397704, 144.75895030975343, 145.1577003097534, 145.59435031890868, 146.02370029449463, 146.42280025482177, 146.82850025177, 147.22025020599366, 147.63085025787353, 148.09815021514893, 148.55285022735595, 148.99965023040772, 149.43405017852783, 149.81270023345948, 150.21200023651124, 150.68310020446776, 151.09640018463134, 151.49735019683837, 151.91765018463136, 152.34840015411376, 152.82970016479493, 153.27980018615722, 153.7664501953125, 154.22470024108887, 154.6669002532959, 155.09040023803712, 155.5393002319336, 156.0312502670288, 156.47895027160644, 156.8766003036499, 157.29700027465822, 157.66220031738283, 158.01400032043458, 158.4054503250122], \"yaxis\": \"y\"}, {\"line\": {\"color\": \"rgba(100, 10, 100, 0.2)\", \"dash\": \"dash\", \"shape\": \"linear\", \"width\": 1}, \"mode\": \"lines+text\", \"name\": \"Lines and Text\", \"showlegend\": false, \"text\": [\"\", \"$239.8 (0% disc:0%)\", \"\"], \"textposition\": \"top right\", \"type\": \"scatter\", \"x\": [\"2020-08-03T00:00:00\", \"2022-01-11T00:00:00\"], \"xaxis\": \"x\", \"y\": [239.7899932861328, 239.7899932861328], \"yaxis\": \"y\"}, {\"line\": {\"color\": \"rgba(100, 10, 100, 0.2)\", \"dash\": \"dash\", \"shape\": \"linear\", \"width\": 1}, \"mode\": \"lines+text\", \"name\": \"Lines and Text\", \"showlegend\": false, \"text\": [\"\", \"$233.1 (2.9% disc:2.9%)\", \"\"], \"textposition\": \"top right\", \"type\": \"scatter\", \"x\": [\"2020-08-03T00:00:00\", \"2022-01-11T00:00:00\"], \"xaxis\": \"x\", \"y\": [233.1, 233.1], \"yaxis\": \"y\"}, {\"line\": {\"color\": \"rgba(100, 10, 100, 0.2)\", \"dash\": \"dash\", \"shape\": \"linear\", \"width\": 1}, \"mode\": \"lines+text\", \"name\": \"Lines and Text\", \"showlegend\": false, \"text\": [\"\", \"$226.7 (2.8% disc:5.8%)\", \"\"], \"textposition\": \"top right\", \"type\": \"scatter\", \"x\": [\"2020-08-03T00:00:00\", \"2022-01-11T00:00:00\"], \"xaxis\": \"x\", \"y\": [226.66000366210938, 226.66000366210938], \"yaxis\": \"y\"}, {\"line\": {\"color\": \"rgba(100, 10, 100, 0.2)\", \"dash\": \"dash\", \"shape\": \"linear\", \"width\": 1}, \"mode\": \"lines+text\", \"name\": \"Lines and Text\", \"showlegend\": false, \"text\": [\"\", \"$212.3 (6.7% disc:12.9%)\", \"\"], \"textposition\": \"top right\", \"type\": \"scatter\", \"x\": [\"2020-08-03T00:00:00\", \"2022-01-11T00:00:00\"], \"xaxis\": \"x\", \"y\": [212.33999633789062, 212.33999633789062], \"yaxis\": \"y\"}, {\"fill\": \"tonexty\", \"line\": {\"color\": \"rgba(128,128,128,1)\", \"dash\": \"dash\", \"shape\": \"linear\", \"width\": 1}, \"mode\": \"lines+text\", \"name\": \"Lines and Text\", \"showlegend\": false, \"text\": [\"\", \"$203.1 (4.5% disc:18.1%)\", \"\"], \"textposition\": \"top right\", \"type\": \"scatter\", \"x\": [\"2020-08-03T00:00:00\", \"2022-01-11T00:00:00\"], \"xaxis\": \"x\", \"y\": [203.1199951171875, 203.1199951171875], \"yaxis\": \"y\"}, {\"fill\": \"tonexty\", \"line\": {\"color\": \"rgba(128,128,128,1)\", \"dash\": \"dash\", \"shape\": \"linear\", \"width\": 1}, \"mode\": \"lines+text\", \"name\": \"Lines and Text\", \"showlegend\": false, \"text\": [\"\", \"$193.1 (5.2% disc:24.2%)\", \"\"], \"textposition\": \"top right\", \"type\": \"scatter\", \"x\": [\"2020-08-03T00:00:00\", \"2022-01-11T00:00:00\"], \"xaxis\": \"x\", \"y\": [193.10000610351562, 193.10000610351562], \"yaxis\": \"y\"}, {\"line\": {\"color\": \"rgba(100, 10, 100, 0.2)\", \"dash\": \"dash\", \"shape\": \"linear\", \"width\": 1}, \"mode\": \"lines+text\", \"name\": \"Lines and Text\", \"showlegend\": false, \"text\": [\"\", \"$186.0 (3.8% disc:28.9%)\", \"\"], \"textposition\": \"top right\", \"type\": \"scatter\", \"x\": [\"2020-08-03T00:00:00\", \"2022-01-11T00:00:00\"], \"xaxis\": \"x\", \"y\": [186.0, 186.0], \"yaxis\": \"y\"}, {\"line\": {\"color\": \"rgba(100, 10, 100, 0.2)\", \"dash\": \"dash\", \"shape\": \"linear\", \"width\": 1}, \"mode\": \"lines+text\", \"name\": \"Lines and Text\", \"showlegend\": false, \"text\": [\"\", \"$176.6 (5.3% disc:35.8%)\", \"\"], \"textposition\": \"top right\", \"type\": \"scatter\", \"x\": [\"2020-08-03T00:00:00\", \"2022-01-11T00:00:00\"], \"xaxis\": \"x\", \"y\": [176.5800018310547, 176.5800018310547], \"yaxis\": \"y\"}, {\"line\": {\"color\": \"rgba(100, 10, 100, 0.2)\", \"dash\": \"dash\", \"shape\": \"linear\", \"width\": 1}, \"mode\": \"lines+text\", \"name\": \"Lines and Text\", \"showlegend\": false, \"text\": [\"\", \"$160.4 (10.1% disc:49.5%)\", \"\"], \"textposition\": \"top right\", \"type\": \"scatter\", \"x\": [\"2020-08-03T00:00:00\", \"2022-01-11T00:00:00\"], \"xaxis\": \"x\", \"y\": [160.39999389648438, 160.39999389648438], \"yaxis\": \"y\"}, {\"line\": {\"color\": \"rgba(100, 10, 100, 0.2)\", \"dash\": \"dash\", \"shape\": \"linear\", \"width\": 1}, \"mode\": \"lines+text\", \"name\": \"Lines and Text\", \"showlegend\": false, \"text\": [\"\", \"$154.9 (3.5% disc:54.8%)\", \"\"], \"textposition\": \"top right\", \"type\": \"scatter\", \"x\": [\"2020-08-03T00:00:00\", \"2022-01-11T00:00:00\"], \"xaxis\": \"x\", \"y\": [154.92999267578125, 154.92999267578125], \"yaxis\": \"y\"}, {\"line\": {\"color\": \"rgba(100, 10, 100, 0.2)\", \"dash\": \"dash\", \"shape\": \"linear\", \"width\": 1}, \"mode\": \"lines+text\", \"name\": \"Lines and Text\", \"showlegend\": false, \"text\": [\"\", \"$149.4 (3.7% disc:60.5%)\", \"\"], \"textposition\": \"top right\", \"type\": \"scatter\", \"x\": [\"2020-08-03T00:00:00\", \"2022-01-11T00:00:00\"], \"xaxis\": \"x\", \"y\": [149.39999389648438, 149.39999389648438], \"yaxis\": \"y\"}, {\"line\": {\"color\": \"rgba(100, 10, 100, 0.2)\", \"dash\": \"dash\", \"shape\": \"linear\", \"width\": 1}, \"mode\": \"lines+text\", \"name\": \"Lines and Text\", \"showlegend\": false, \"text\": [\"\", \"$136.5 (9.5% disc:75.7%)\", \"\"], \"textposition\": \"top right\", \"type\": \"scatter\", \"x\": [\"2020-08-03T00:00:00\", \"2022-01-11T00:00:00\"], \"xaxis\": \"x\", \"y\": [136.5, 136.5], \"yaxis\": \"y\"}, {\"line\": {\"color\": \"rgba(100, 10, 100, 0.2)\", \"dash\": \"dash\", \"shape\": \"linear\", \"width\": 1}, \"mode\": \"lines+text\", \"name\": \"Lines and Text\", \"showlegend\": false, \"text\": [\"\", \"$131.1 (4.1% disc:82.9%)\", \"\"], \"textposition\": \"top right\", \"type\": \"scatter\", \"x\": [\"2020-08-03T00:00:00\", \"2022-01-11T00:00:00\"], \"xaxis\": \"x\", \"y\": [131.10000610351562, 131.10000610351562], \"yaxis\": \"y\"}, {\"line\": {\"color\": \"rgba(100, 10, 100, 0.2)\", \"dash\": \"dash\", \"shape\": \"linear\", \"width\": 1}, \"mode\": \"lines+text\", \"name\": \"Lines and Text\", \"showlegend\": false, \"text\": [\"\", \"$123.8 (5.9% disc:93.7%)\", \"\"], \"textposition\": \"top right\", \"type\": \"scatter\", \"x\": [\"2020-08-03T00:00:00\", \"2022-01-11T00:00:00\"], \"xaxis\": \"x\", \"y\": [123.77999877929688, 123.77999877929688], \"yaxis\": \"y\"}, {\"line\": {\"color\": \"rgba(100, 10, 100, 0.2)\", \"dash\": \"dash\", \"shape\": \"linear\", \"width\": 1}, \"mode\": \"lines+text\", \"name\": \"Lines and Text\", \"showlegend\": false, \"text\": [\"\", \"$116.8 (6.0% disc:105.4%)\", \"\"], \"textposition\": \"top right\", \"type\": \"scatter\", \"x\": [\"2020-08-03T00:00:00\", \"2022-01-11T00:00:00\"], \"xaxis\": \"x\", \"y\": [116.76000213623047, 116.76000213623047], \"yaxis\": \"y\"}, {\"line\": {\"color\": \"rgba(100, 10, 100, 0.2)\", \"dash\": \"dash\", \"shape\": \"linear\", \"width\": 1}, \"mode\": \"lines+text\", \"name\": \"Lines and Text\", \"showlegend\": false, \"text\": [\"\", \"$109.1 (7.0% disc:119.7%)\", \"\"], \"textposition\": \"top right\", \"type\": \"scatter\", \"x\": [\"2020-08-03T00:00:00\", \"2022-01-11T00:00:00\"], \"xaxis\": \"x\", \"y\": [109.13999938964844, 109.13999938964844], \"yaxis\": \"y\"}, {\"line\": {\"color\": \"rgba(100, 10, 100, 0.2)\", \"dash\": \"dash\", \"shape\": \"linear\", \"width\": 1}, \"mode\": \"lines+text\", \"name\": \"Lines and Text\", \"showlegend\": false, \"text\": [\"\", \"$104.1 (4.8% disc:130.3%)\", \"\"], \"textposition\": \"top right\", \"type\": \"scatter\", \"x\": [\"2020-08-03T00:00:00\", \"2022-01-11T00:00:00\"], \"xaxis\": \"x\", \"y\": [104.12000274658203, 104.12000274658203], \"yaxis\": \"y\"}, {\"line\": {\"color\": \"rgba(100, 10, 100, 0.2)\", \"dash\": \"dash\", \"shape\": \"linear\", \"width\": 1}, \"mode\": \"lines+text\", \"name\": \"Lines and Text\", \"showlegend\": false, \"text\": [\"\", \"$97.6 (6.6% disc:145.6%)\", \"\"], \"textposition\": \"top right\", \"type\": \"scatter\", \"x\": [\"2020-08-03T00:00:00\", \"2022-01-11T00:00:00\"], \"xaxis\": \"x\", \"y\": [97.63999938964844, 97.63999938964844], \"yaxis\": \"y\"}, {\"line\": {\"color\": \"rgba(100, 10, 100, 0.2)\", \"dash\": \"dash\", \"shape\": \"linear\", \"width\": 1}, \"mode\": \"lines+text\", \"name\": \"Lines and Text\", \"showlegend\": false, \"text\": [\"\", \"$0 (inf% disc:inf%)\", \"\"], \"textposition\": \"top right\", \"type\": \"scatter\", \"x\": [\"2020-08-03T00:00:00\", \"2022-01-11T00:00:00\"], \"xaxis\": \"x\", \"y\": [0, 0], \"yaxis\": \"y\"}, {\"marker\": {\"color\": [\"green\", \"red\", \"red\", \"red\", \"green\", \"green\", \"green\", \"red\", \"green\", \"green\", \"green\", \"green\", \"green\", \"green\", \"red\", \"green\", \"red\", \"red\", \"green\", \"red\", \"green\", \"red\", \"red\", \"green\", \"green\", \"green\", \"red\", \"green\", \"green\", \"red\", \"green\", \"green\", \"red\", \"green\", \"green\", \"red\", \"green\", \"red\", \"red\", \"red\", \"red\", \"red\", \"red\", \"green\", \"red\", \"green\", \"red\", \"green\", \"green\", \"red\", \"red\", \"red\", \"red\", \"green\", \"green\", \"green\", \"green\", \"red\", \"red\", \"green\", \"green\", \"green\", \"red\", \"green\", \"green\", \"red\", \"red\", \"green\", \"red\", \"green\", \"green\", \"red\", \"red\", \"green\", \"red\", \"green\", \"green\", \"red\", \"green\", \"green\", \"green\", \"red\", \"red\", \"red\", \"red\", \"red\", \"green\", \"red\", \"green\", \"green\", \"green\", \"red\", \"red\", \"red\", \"red\", \"green\", \"green\", \"green\", \"green\", \"green\", \"green\", \"green\", \"green\", \"green\", \"red\", \"green\", \"red\", \"red\", \"green\", \"red\", \"green\", \"red\", \"green\", \"green\", \"green\", \"green\", \"red\", \"green\", \"red\", \"green\", \"green\", \"green\", \"green\", \"green\", \"green\", \"red\", \"red\", \"green\", \"red\", \"green\", \"red\", \"green\", \"red\", \"red\", \"red\", \"green\", \"green\", \"green\", \"green\", \"green\", \"red\", \"red\", \"green\", \"red\", \"red\", \"green\", \"green\", \"green\", \"green\", \"green\", \"red\", \"green\", \"red\", \"red\", \"red\", \"green\", \"red\", \"green\", \"red\", \"red\", \"green\", \"green\", \"red\", \"red\", \"red\", \"green\", \"red\", \"red\", \"green\", \"red\", \"red\", \"green\", \"green\", \"green\", \"red\", \"green\", \"red\", \"green\", \"green\", \"green\", \"red\", \"green\", \"red\", \"red\", \"green\", \"green\", \"red\", \"green\", \"green\", \"red\", \"green\", \"red\", \"red\", \"green\", \"red\", \"green\", \"green\", \"red\", \"red\", \"green\", \"red\", \"red\", \"green\", \"green\", \"green\", \"green\", \"green\", \"red\", \"red\", \"red\", \"green\", \"red\", \"green\", \"green\", \"green\", \"red\", \"green\", \"green\", \"green\", \"green\", \"red\", \"red\", \"green\", \"red\", \"red\", \"red\", \"green\", \"red\", \"red\", \"red\", \"green\", \"red\", \"green\", \"green\", \"green\", \"red\", \"green\", \"red\", \"green\", \"green\", \"green\", \"red\", \"red\", \"red\", \"red\", \"red\", \"green\", \"green\", \"red\", \"red\", \"red\", \"green\", \"green\", \"green\", \"red\", \"red\", \"green\", \"green\", \"red\", \"green\", \"red\", \"green\", \"red\", \"green\", \"red\", \"red\", \"red\", \"green\", \"green\", \"green\", \"red\", \"green\", \"green\", \"green\", \"green\", \"red\", \"green\", \"green\", \"red\", \"red\", \"green\", \"green\", \"red\", \"red\", \"green\", \"green\", \"red\", \"red\", \"red\", \"red\", \"red\", \"green\", \"green\", \"red\", \"red\", \"green\", \"red\", \"red\", \"red\", \"green\", \"red\", \"green\", \"red\", \"red\", \"red\", \"red\", \"green\", \"red\", \"red\", \"green\", \"red\", \"green\", \"red\", \"green\", \"red\", \"red\", \"red\", \"red\", \"red\", \"green\", \"red\", \"green\", \"green\", \"red\", \"red\", \"green\", \"red\", \"green\", \"green\", \"green\", \"green\", \"red\", \"red\", \"green\", \"red\", \"green\", \"green\", \"red\", \"green\", \"green\", \"red\", \"red\", \"green\", \"green\", \"green\", \"red\", \"red\", \"green\", \"red\", \"green\", \"red\", \"red\", \"red\", \"red\", \"green\", \"green\", \"green\", \"red\", \"red\", \"green\", \"green\", \"red\", \"green\", \"red\", \"red\"]}, \"name\": \"Volume\", \"type\": \"bar\", \"x\": [\"2020-08-03T00:00:00\", \"2020-08-04T00:00:00\", \"2020-08-05T00:00:00\", \"2020-08-06T00:00:00\", \"2020-08-07T00:00:00\", \"2020-08-10T00:00:00\", \"2020-08-11T00:00:00\", \"2020-08-12T00:00:00\", \"2020-08-13T00:00:00\", \"2020-08-14T00:00:00\", \"2020-08-17T00:00:00\", \"2020-08-18T00:00:00\", \"2020-08-19T00:00:00\", \"2020-08-20T00:00:00\", \"2020-08-21T00:00:00\", \"2020-08-24T00:00:00\", \"2020-08-25T00:00:00\", \"2020-08-26T00:00:00\", \"2020-08-27T00:00:00\", \"2020-08-28T00:00:00\", \"2020-08-31T00:00:00\", \"2020-09-01T00:00:00\", \"2020-09-02T00:00:00\", \"2020-09-03T00:00:00\", \"2020-09-04T00:00:00\", \"2020-09-08T00:00:00\", \"2020-09-09T00:00:00\", \"2020-09-10T00:00:00\", \"2020-09-11T00:00:00\", \"2020-09-14T00:00:00\", \"2020-09-15T00:00:00\", \"2020-09-16T00:00:00\", \"2020-09-17T00:00:00\", \"2020-09-18T00:00:00\", \"2020-09-21T00:00:00\", \"2020-09-22T00:00:00\", \"2020-09-23T00:00:00\", \"2020-09-24T00:00:00\", \"2020-09-25T00:00:00\", \"2020-09-28T00:00:00\", \"2020-09-29T00:00:00\", \"2020-09-30T00:00:00\", \"2020-10-01T00:00:00\", \"2020-10-02T00:00:00\", \"2020-10-05T00:00:00\", \"2020-10-06T00:00:00\", \"2020-10-07T00:00:00\", \"2020-10-08T00:00:00\", \"2020-10-09T00:00:00\", \"2020-10-12T00:00:00\", \"2020-10-13T00:00:00\", \"2020-10-14T00:00:00\", \"2020-10-15T00:00:00\", \"2020-10-16T00:00:00\", \"2020-10-19T00:00:00\", \"2020-10-20T00:00:00\", \"2020-10-21T00:00:00\", \"2020-10-22T00:00:00\", \"2020-10-23T00:00:00\", \"2020-10-26T00:00:00\", \"2020-10-27T00:00:00\", \"2020-10-28T00:00:00\", \"2020-10-29T00:00:00\", \"2020-10-30T00:00:00\", \"2020-11-02T00:00:00\", \"2020-11-03T00:00:00\", \"2020-11-04T00:00:00\", \"2020-11-05T00:00:00\", \"2020-11-06T00:00:00\", \"2020-11-09T00:00:00\", \"2020-11-10T00:00:00\", \"2020-11-11T00:00:00\", \"2020-11-12T00:00:00\", \"2020-11-13T00:00:00\", \"2020-11-16T00:00:00\", \"2020-11-17T00:00:00\", \"2020-11-18T00:00:00\", \"2020-11-19T00:00:00\", \"2020-11-20T00:00:00\", \"2020-11-23T00:00:00\", \"2020-11-24T00:00:00\", \"2020-11-25T00:00:00\", \"2020-11-27T00:00:00\", \"2020-11-30T00:00:00\", \"2020-12-01T00:00:00\", \"2020-12-02T00:00:00\", \"2020-12-03T00:00:00\", \"2020-12-04T00:00:00\", \"2020-12-07T00:00:00\", \"2020-12-08T00:00:00\", \"2020-12-09T00:00:00\", \"2020-12-10T00:00:00\", \"2020-12-11T00:00:00\", \"2020-12-14T00:00:00\", \"2020-12-15T00:00:00\", \"2020-12-16T00:00:00\", \"2020-12-17T00:00:00\", \"2020-12-18T00:00:00\", \"2020-12-21T00:00:00\", \"2020-12-22T00:00:00\", \"2020-12-23T00:00:00\", \"2020-12-24T00:00:00\", \"2020-12-28T00:00:00\", \"2020-12-29T00:00:00\", \"2020-12-30T00:00:00\", \"2020-12-31T00:00:00\", \"2021-01-04T00:00:00\", \"2021-01-05T00:00:00\", \"2021-01-06T00:00:00\", \"2021-01-07T00:00:00\", \"2021-01-08T00:00:00\", \"2021-01-11T00:00:00\", \"2021-01-12T00:00:00\", \"2021-01-13T00:00:00\", \"2021-01-14T00:00:00\", \"2021-01-15T00:00:00\", \"2021-01-19T00:00:00\", \"2021-01-20T00:00:00\", \"2021-01-21T00:00:00\", \"2021-01-22T00:00:00\", \"2021-01-25T00:00:00\", \"2021-01-26T00:00:00\", \"2021-01-27T00:00:00\", \"2021-01-28T00:00:00\", \"2021-01-29T00:00:00\", \"2021-02-01T00:00:00\", \"2021-02-02T00:00:00\", \"2021-02-03T00:00:00\", \"2021-02-04T00:00:00\", \"2021-02-05T00:00:00\", \"2021-02-08T00:00:00\", \"2021-02-09T00:00:00\", \"2021-02-10T00:00:00\", \"2021-02-11T00:00:00\", \"2021-02-12T00:00:00\", \"2021-02-16T00:00:00\", \"2021-02-17T00:00:00\", \"2021-02-18T00:00:00\", \"2021-02-19T00:00:00\", \"2021-02-22T00:00:00\", \"2021-02-23T00:00:00\", \"2021-02-24T00:00:00\", \"2021-02-25T00:00:00\", \"2021-02-26T00:00:00\", \"2021-03-01T00:00:00\", \"2021-03-02T00:00:00\", \"2021-03-03T00:00:00\", \"2021-03-04T00:00:00\", \"2021-03-05T00:00:00\", \"2021-03-08T00:00:00\", \"2021-03-09T00:00:00\", \"2021-03-10T00:00:00\", \"2021-03-11T00:00:00\", \"2021-03-12T00:00:00\", \"2021-03-15T00:00:00\", \"2021-03-16T00:00:00\", \"2021-03-17T00:00:00\", \"2021-03-18T00:00:00\", \"2021-03-19T00:00:00\", \"2021-03-22T00:00:00\", \"2021-03-23T00:00:00\", \"2021-03-24T00:00:00\", \"2021-03-25T00:00:00\", \"2021-03-26T00:00:00\", \"2021-03-29T00:00:00\", \"2021-03-30T00:00:00\", \"2021-03-31T00:00:00\", \"2021-04-01T00:00:00\", \"2021-04-05T00:00:00\", \"2021-04-06T00:00:00\", \"2021-04-07T00:00:00\", \"2021-04-08T00:00:00\", \"2021-04-09T00:00:00\", \"2021-04-12T00:00:00\", \"2021-04-13T00:00:00\", \"2021-04-14T00:00:00\", \"2021-04-15T00:00:00\", \"2021-04-16T00:00:00\", \"2021-04-19T00:00:00\", \"2021-04-20T00:00:00\", \"2021-04-21T00:00:00\", \"2021-04-22T00:00:00\", \"2021-04-23T00:00:00\", \"2021-04-26T00:00:00\", \"2021-04-27T00:00:00\", \"2021-04-28T00:00:00\", \"2021-04-29T00:00:00\", \"2021-04-30T00:00:00\", \"2021-05-03T00:00:00\", \"2021-05-04T00:00:00\", \"2021-05-05T00:00:00\", \"2021-05-06T00:00:00\", \"2021-05-07T00:00:00\", \"2021-05-10T00:00:00\", \"2021-05-11T00:00:00\", \"2021-05-12T00:00:00\", \"2021-05-13T00:00:00\", \"2021-05-14T00:00:00\", \"2021-05-17T00:00:00\", \"2021-05-18T00:00:00\", \"2021-05-19T00:00:00\", \"2021-05-20T00:00:00\", \"2021-05-21T00:00:00\", \"2021-05-24T00:00:00\", \"2021-05-25T00:00:00\", \"2021-05-26T00:00:00\", \"2021-05-27T00:00:00\", \"2021-05-28T00:00:00\", \"2021-06-01T00:00:00\", \"2021-06-02T00:00:00\", \"2021-06-03T00:00:00\", \"2021-06-04T00:00:00\", \"2021-06-07T00:00:00\", \"2021-06-08T00:00:00\", \"2021-06-09T00:00:00\", \"2021-06-10T00:00:00\", \"2021-06-11T00:00:00\", \"2021-06-14T00:00:00\", \"2021-06-15T00:00:00\", \"2021-06-16T00:00:00\", \"2021-06-17T00:00:00\", \"2021-06-18T00:00:00\", \"2021-06-21T00:00:00\", \"2021-06-22T00:00:00\", \"2021-06-23T00:00:00\", \"2021-06-24T00:00:00\", \"2021-06-25T00:00:00\", \"2021-06-28T00:00:00\", \"2021-06-29T00:00:00\", \"2021-06-30T00:00:00\", \"2021-07-01T00:00:00\", \"2021-07-02T00:00:00\", \"2021-07-06T00:00:00\", \"2021-07-07T00:00:00\", \"2021-07-08T00:00:00\", \"2021-07-09T00:00:00\", \"2021-07-12T00:00:00\", \"2021-07-13T00:00:00\", \"2021-07-14T00:00:00\", \"2021-07-15T00:00:00\", \"2021-07-16T00:00:00\", \"2021-07-19T00:00:00\", \"2021-07-20T00:00:00\", \"2021-07-21T00:00:00\", \"2021-07-22T00:00:00\", \"2021-07-23T00:00:00\", \"2021-07-26T00:00:00\", \"2021-07-27T00:00:00\", \"2021-07-28T00:00:00\", \"2021-07-29T00:00:00\", \"2021-07-30T00:00:00\", \"2021-08-02T00:00:00\", \"2021-08-03T00:00:00\", \"2021-08-04T00:00:00\", \"2021-08-05T00:00:00\", \"2021-08-06T00:00:00\", \"2021-08-09T00:00:00\", \"2021-08-10T00:00:00\", \"2021-08-11T00:00:00\", \"2021-08-12T00:00:00\", \"2021-08-13T00:00:00\", \"2021-08-16T00:00:00\", \"2021-08-17T00:00:00\", \"2021-08-18T00:00:00\", \"2021-08-19T00:00:00\", \"2021-08-20T00:00:00\", \"2021-08-23T00:00:00\", \"2021-08-24T00:00:00\", \"2021-08-25T00:00:00\", \"2021-08-26T00:00:00\", \"2021-08-27T00:00:00\", \"2021-08-30T00:00:00\", \"2021-08-31T00:00:00\", \"2021-09-01T00:00:00\", \"2021-09-02T00:00:00\", \"2021-09-03T00:00:00\", \"2021-09-07T00:00:00\", \"2021-09-08T00:00:00\", \"2021-09-09T00:00:00\", \"2021-09-10T00:00:00\", \"2021-09-13T00:00:00\", \"2021-09-14T00:00:00\", \"2021-09-15T00:00:00\", \"2021-09-16T00:00:00\", \"2021-09-17T00:00:00\", \"2021-09-20T00:00:00\", \"2021-09-21T00:00:00\", \"2021-09-22T00:00:00\", \"2021-09-23T00:00:00\", \"2021-09-24T00:00:00\", \"2021-09-27T00:00:00\", \"2021-09-28T00:00:00\", \"2021-09-29T00:00:00\", \"2021-09-30T00:00:00\", \"2021-10-01T00:00:00\", \"2021-10-04T00:00:00\", \"2021-10-05T00:00:00\", \"2021-10-06T00:00:00\", \"2021-10-07T00:00:00\", \"2021-10-08T00:00:00\", \"2021-10-11T00:00:00\", \"2021-10-12T00:00:00\", \"2021-10-13T00:00:00\", \"2021-10-14T00:00:00\", \"2021-10-15T00:00:00\", \"2021-10-18T00:00:00\", \"2021-10-19T00:00:00\", \"2021-10-20T00:00:00\", \"2021-10-21T00:00:00\", \"2021-10-22T00:00:00\", \"2021-10-25T00:00:00\", \"2021-10-26T00:00:00\", \"2021-10-27T00:00:00\", \"2021-10-28T00:00:00\", \"2021-10-29T00:00:00\", \"2021-11-01T00:00:00\", \"2021-11-02T00:00:00\", \"2021-11-03T00:00:00\", \"2021-11-04T00:00:00\", \"2021-11-05T00:00:00\", \"2021-11-08T00:00:00\", \"2021-11-09T00:00:00\", \"2021-11-10T00:00:00\", \"2021-11-11T00:00:00\", \"2021-11-12T00:00:00\", \"2021-11-15T00:00:00\", \"2021-11-16T00:00:00\", \"2021-11-17T00:00:00\", \"2021-11-18T00:00:00\", \"2021-11-19T00:00:00\", \"2021-11-22T00:00:00\", \"2021-11-23T00:00:00\", \"2021-11-24T00:00:00\", \"2021-11-26T00:00:00\", \"2021-11-29T00:00:00\", \"2021-11-30T00:00:00\", \"2021-12-01T00:00:00\", \"2021-12-02T00:00:00\", \"2021-12-03T00:00:00\", \"2021-12-06T00:00:00\", \"2021-12-07T00:00:00\", \"2021-12-08T00:00:00\", \"2021-12-09T00:00:00\", \"2021-12-10T00:00:00\", \"2021-12-13T00:00:00\", \"2021-12-14T00:00:00\", \"2021-12-15T00:00:00\", \"2021-12-16T00:00:00\", \"2021-12-17T00:00:00\", \"2021-12-20T00:00:00\", \"2021-12-21T00:00:00\", \"2021-12-22T00:00:00\", \"2021-12-23T00:00:00\", \"2021-12-27T00:00:00\", \"2021-12-28T00:00:00\", \"2021-12-29T00:00:00\", \"2021-12-30T00:00:00\", \"2021-12-31T00:00:00\", \"2022-01-03T00:00:00\", \"2022-01-04T00:00:00\", \"2022-01-05T00:00:00\", \"2022-01-06T00:00:00\", \"2022-01-07T00:00:00\", \"2022-01-10T00:00:00\", \"2022-01-11T00:00:00\"], \"xaxis\": \"x2\", \"y\": [3866000, 3434600, 2009500, 2461400, 2165000, 1869700, 2077000, 2070100, 2291100, 995300, 1268400, 2112200, 1714000, 1883500, 1981900, 1723000, 1351500, 1831500, 1818100, 1860900, 1611000, 1792700, 2370300, 2494700, 2561200, 2005800, 2894400, 1500700, 1067800, 1866400, 1628900, 1248300, 1383600, 2669200, 1580000, 1307900, 1698200, 1510900, 1307500, 1437600, 925700, 1982400, 1713600, 1760500, 989700, 1386100, 1385100, 1082300, 24073800, 4829300, 2457400, 2473200, 2532500, 3517900, 2689300, 3298600, 3781600, 3089200, 2829700, 2563300, 32093300, 10568100, 7660700, 6824900, 4992900, 5052500, 8513300, 5462000, 5077300, 6252600, 4923100, 3050700, 2254100, 1752700, 3885500, 1901300, 2305000, 4079000, 3402800, 2438200, 1065500, 1992500, 962600, 4900000, 2743300, 2332300, 1895700, 2264600, 1821200, 1682200, 2540000, 1969200, 1120900, 2709400, 3142100, 1564800, 1275400, 4584100, 1799300, 1899900, 1766400, 1167500, 1978500, 1489900, 2892600, 1236100, 2416500, 2617500, 3342100, 2597800, 2856600, 4429300, 5917400, 3587400, 3665200, 2280200, 3309600, 4637400, 3362800, 3102600, 2500000, 3265700, 3996800, 2457500, 2754100, 2826800, 4443800, 2965200, 1240500, 1917800, 2662600, 1536000, 2189000, 1615800, 1529600, 1654200, 1592800, 1171500, 1812200, 2120000, 2868100, 3820700, 2877100, 2488900, 2156200, 1726400, 2448300, 4423000, 2842100, 2506400, 3035600, 1755600, 3624700, 1450700, 2254700, 2264300, 1936700, 2740100, 6379300, 2697400, 2751900, 2162000, 1479400, 2360300, 1792200, 1594700, 2718100, 2707700, 1885000, 2587300, 1782500, 4239400, 8862300, 3529800, 1514300, 1209600, 3731900, 2179700, 1836300, 1946600, 2552200, 1739300, 1779800, 1486200, 1898900, 2312300, 2005000, 4901800, 3766700, 4140100, 2478400, 1558200, 2016000, 1727400, 2076700, 3534900, 2539300, 1919000, 1507900, 1576100, 3213600, 1703700, 1098300, 1093400, 1386100, 1716100, 1867300, 1650500, 1532900, 2229500, 1684500, 1193600, 839500, 1398000, 1138600, 1218700, 1337500, 831000, 902200, 1015400, 2878900, 5280900, 2601200, 1367000, 945500, 1343400, 2056500, 1503500, 1820900, 4094400, 2870600, 1698500, 2810700, 2733600, 2544800, 1994000, 2089600, 1901800, 917900, 1309900, 987100, 1962700, 1227200, 1142200, 712000, 651000, 1048500, 3413400, 3251300, 3684000, 3066900, 5435200, 5820400, 10816700, 5893200, 3473100, 3875300, 2040700, 2534100, 1762600, 1466500, 1995700, 1593300, 1708900, 2350200, 1749100, 4976600, 2385200, 1847100, 1359600, 1771700, 1310400, 1816700, 1021500, 1134400, 1011700, 805100, 1620900, 877000, 1380900, 1247500, 1729300, 1943400, 1903200, 3360400, 1995200, 1801600, 1112900, 1629700, 1356900, 1682500, 2173500, 1404800, 2162500, 2017000, 2518600, 1477000, 1074800, 1645800, 2214200, 768800, 2421200, 1752500, 1632100, 1723600, 2980300, 1534200, 1259200, 1237700, 1557600, 1102800, 2536800, 4123300, 3929600, 1361800, 2003900, 3015500, 2691000, 2797900, 1992000, 6407800, 3113600, 3196400, 2901100, 3812500, 1920800, 3501100, 1789600, 2588900, 1667700, 3194300, 2367600, 2254400, 1533600, 2936000, 4907300, 3093100, 3393500, 4255100, 2582300, 2517700, 1823200, 2502800, 1685900, 1937600, 2632400, 4448200, 4299400, 5688300, 2037100, 2847500, 2670400, 3179500, 2911900, 2844800, 2413800, 1513800, 2538300, 2914600, 2937600, 3370700, 2506100, 4206900, 4017600, 2475900], \"yaxis\": \"y2\"}, {\"marker\": {\"color\": [\"#FF5733\", \"#FF5733\", \"#FF5733\", \"#FF5733\", \"#FF5733\", \"#FF5733\", \"#FF5733\", \"#FF5733\", \"#FF5733\", \"#FF5733\", \"#FF5733\", \"#FF5733\", \"#FF5733\", \"#FF5733\", \"#FF5733\", \"#FF5733\", \"#FF5733\", \"#FF5733\", \"#FF5733\", \"#FF5733\", \"#FF5733\", \"#FF5733\", \"#FF5733\", \"#FF5733\", \"#FF5733\", \"#FF5733\", \"#FF5733\", \"#FF5733\", \"#FF5733\", \"#FF5733\", \"#FF5733\", \"#FF5733\", \"#FF5733\", \"#FF5733\", \"#FF5733\", \"#FF5733\", \"#FF5733\", \"#FF5733\", \"#FF5733\", \"#FF5733\", \"#FF5733\", \"#FF5733\", \"#FF5733\", \"#FF5733\", \"#FF5733\", \"#FF5733\", \"#FF5733\", \"#FF5733\", \"#FF5733\", \"#FF5733\", \"#FF5733\", \"#FF5733\", \"#FF5733\", \"#FF5733\", \"#FF5733\", \"#FF5733\", \"#FF5733\", \"#FF5733\", \"#FF5733\", \"#FF5733\", \"#FF5733\", \"#FF5733\", \"#FF5733\", \"#FF5733\", \"#FF5733\", \"#FF5733\", \"#FF5733\", \"#FF5733\", \"#FF5733\", \"#FF5733\", \"green\", \"green\", \"green\", \"green\", \"green\", \"green\", \"green\", \"green\", \"#FF5733\", \"#FF5733\", \"#FF5733\", \"#FF5733\", \"#FF5733\", \"#FF5733\", \"#FF5733\", \"#FF5733\", \"#FF5733\", \"#FF5733\", \"#FF5733\", \"#FF5733\", \"#FF5733\", \"#FF5733\", \"#FF5733\", \"#FF5733\", \"#FF5733\", \"#FF5733\", \"#FF5733\", \"#FF5733\", \"#FF5733\", \"#FF5733\", \"#FF5733\", \"#FF5733\", \"#FF5733\", \"#FF5733\", \"green\", \"green\", \"green\", \"green\", \"green\", \"green\", \"green\", \"green\", \"green\", \"green\", \"green\", \"green\", \"green\", \"green\", \"green\", \"green\", \"green\", \"green\", \"green\", \"green\", \"green\", \"green\", \"green\", \"green\", \"green\", \"green\", \"green\", \"green\", \"green\", \"green\", \"green\", \"green\", \"green\", \"green\", \"green\", \"green\", \"green\", \"green\", \"green\", \"#FF5733\", \"#FF5733\", \"#FF5733\", \"#FF5733\", \"#FF5733\", \"#FF5733\", \"#FF5733\", \"#FF5733\", \"#FF5733\", \"#FF5733\", \"#FF5733\", \"#FF5733\", \"#FF5733\", \"#FF5733\", \"#FF5733\", \"#FF5733\", \"#FF5733\", \"#FF5733\", \"#FF5733\", \"#FF5733\", \"#FF5733\", \"#FF5733\", \"#FF5733\", \"#FF5733\", \"green\", \"green\", \"green\", \"green\", \"green\", \"green\", \"green\", \"green\", \"green\", \"green\", \"green\", \"green\", \"green\", \"green\", \"#FF5733\", \"#FF5733\", \"#FF5733\", \"#FF5733\", \"#FF5733\", \"#FF5733\", \"#FF5733\", \"#FF5733\", \"#FF5733\", \"#FF5733\", \"#FF5733\", \"#FF5733\", \"#FF5733\", \"#FF5733\", \"#FF5733\", \"green\", \"green\", \"green\", \"green\", \"green\", \"green\", \"green\", \"green\", \"green\", \"green\", \"green\", \"green\", \"green\", \"green\", \"#FF5733\", \"green\", \"green\", \"green\", \"green\", \"green\", \"green\", \"green\", \"green\", \"green\", \"green\", \"green\", \"green\", \"#FF5733\", \"#FF5733\", \"#FF5733\", \"#FF5733\", \"#FF5733\", \"#FF5733\", \"#FF5733\", \"green\", \"#FF5733\", \"#FF5733\", \"#FF5733\", \"#FF5733\", \"green\", \"green\", \"green\", \"green\", \"green\", \"green\", \"green\", \"green\", \"green\", \"green\", \"green\", \"green\", \"green\", \"green\", \"green\", \"green\", \"green\", \"green\", \"green\", \"green\", \"green\", \"green\", \"green\", \"green\", \"#FF5733\", \"#FF5733\", \"#FF5733\", \"#FF5733\", \"green\", \"green\", \"green\", \"green\", \"#FF5733\", \"#FF5733\", \"#FF5733\", \"#FF5733\", \"#FF5733\", \"#FF5733\", \"#FF5733\", \"#FF5733\", \"#FF5733\", \"#FF5733\", \"#FF5733\", \"#FF5733\", \"#FF5733\", \"#FF5733\", \"green\", \"green\", \"green\", \"green\", \"green\", \"green\", \"green\", \"#FF5733\", \"#FF5733\", \"#FF5733\", \"#FF5733\", \"#FF5733\", \"#FF5733\", \"#FF5733\", \"#FF5733\", \"#FF5733\", \"#FF5733\", \"#FF5733\", \"#FF5733\", \"#FF5733\", \"#FF5733\", \"#FF5733\", \"#FF5733\", \"#FF5733\", \"green\", \"#FF5733\", \"#FF5733\", \"green\", \"green\", \"green\", \"green\", \"green\", \"green\", \"green\", \"green\", \"green\", \"green\", \"green\", \"green\", \"green\", \"green\", \"green\", \"green\", \"green\", \"green\", \"green\", \"green\", \"green\", \"green\", \"green\", \"green\", \"green\", \"green\", \"green\", \"#FF5733\", \"#FF5733\", \"#FF5733\", \"#FF5733\", \"#FF5733\", \"#FF5733\", \"#FF5733\", \"#FF5733\", \"#FF5733\", \"#FF5733\", \"#FF5733\", \"#FF5733\", \"#FF5733\", \"green\", \"green\", \"green\", \"green\", \"green\", \"green\", \"green\", \"green\", \"green\", \"green\", \"green\", \"green\", \"green\", \"green\", \"green\", \"green\", \"#FF5733\", \"#FF5733\", \"#FF5733\", \"#FF5733\", \"#FF5733\", \"#FF5733\", \"#FF5733\", \"#FF5733\", \"#FF5733\", \"#FF5733\", \"#FF5733\", \"#FF5733\", \"#FF5733\", \"#FF5733\", \"#FF5733\", \"green\", \"green\", \"green\", \"green\", \"green\", \"green\", \"green\", \"green\", \"green\", \"green\", \"green\", \"green\", \"green\", \"green\", \"green\", \"green\", \"green\", \"green\", \"green\", \"green\", \"green\", \"green\", \"green\", \"green\", \"#FF5733\", \"#FF5733\", \"#FF5733\", \"#FF5733\", \"#FF5733\", \"#FF5733\", \"#FF5733\", \"#FF5733\", \"#FF5733\", \"#FF5733\", \"#FF5733\", \"#FF5733\", \"#FF5733\", \"#FF5733\", \"#FF5733\", \"#FF5733\", \"#FF5733\", \"#FF5733\", \"green\", \"#FF5733\", \"#FF5733\", \"#FF5733\", \"#FF5733\", \"#FF5733\", \"#FF5733\", \"#FF5733\", \"#FF5733\", \"#FF5733\", \"#FF5733\", \"#FF5733\", \"#FF5733\", \"#FF5733\", \"#FF5733\", \"#FF5733\", \"#FF5733\", \"green\", \"green\", \"green\", \"green\", \"green\", \"green\", \"green\", \"green\", \"green\", \"green\", \"green\", \"green\", \"green\", \"green\", \"green\", \"green\", \"green\", \"green\", \"#FF5733\", \"#FF5733\", \"#FF5733\", \"green\", \"green\", \"green\", \"green\", \"green\", \"green\", \"green\", \"green\", \"green\", \"green\", \"green\", \"green\", \"green\", \"#FF5733\", \"green\", \"green\", \"#FF5733\", \"green\", \"green\", \"green\", \"#FF5733\", \"green\", \"green\", \"green\", \"green\", \"green\", \"green\", \"green\", \"green\", \"green\", \"green\", \"#FF5733\", \"#FF5733\", \"#FF5733\", \"#FF5733\", \"green\", \"green\", \"#FF5733\", \"#FF5733\", \"#FF5733\", \"#FF5733\", \"#FF5733\", \"#FF5733\", \"#FF5733\", \"#FF5733\", \"#FF5733\", \"#FF5733\", \"#FF5733\", \"#FF5733\", \"#FF5733\", \"#FF5733\", \"green\", \"#FF5733\", \"#FF5733\", \"#FF5733\", \"#FF5733\", \"#FF5733\", \"#FF5733\", \"#FF5733\", \"#FF5733\", \"#FF5733\", \"#FF5733\", \"#FF5733\", \"#FF5733\", \"#FF5733\", \"#FF5733\", \"#FF5733\", \"#FF5733\", \"#FF5733\", \"#FF5733\", \"green\", \"green\", \"green\", \"green\", \"green\", \"green\", \"green\", \"green\", \"green\", \"#FF5733\", \"#FF5733\", \"#FF5733\", \"#FF5733\", \"#FF5733\", \"#FF5733\", \"#FF5733\", \"#FF5733\", \"#FF5733\", \"#FF5733\", \"#FF5733\", \"#FF5733\", \"#FF5733\", \"#FF5733\", \"#FF5733\", \"green\", \"green\", \"green\", \"green\", \"green\", \"green\", \"green\", \"green\", \"green\", \"green\", \"green\", \"green\", \"green\", \"green\", \"green\", \"green\", \"green\", \"green\", \"green\", \"green\", \"green\", \"green\", \"green\", \"green\", \"green\", \"#FF5733\", \"green\", \"#FF5733\", \"green\", \"green\", \"green\", \"green\", \"green\", \"green\", \"#FF5733\", \"#FF5733\", \"#FF5733\", \"#FF5733\", \"#FF5733\", \"#FF5733\", \"#FF5733\", \"#FF5733\", \"#FF5733\", \"#FF5733\", \"#FF5733\", \"#FF5733\", \"#FF5733\", \"green\", \"green\", \"green\", \"green\", \"green\", \"green\", \"green\", \"green\", \"green\", \"green\", \"green\", \"green\", \"green\", \"green\", \"green\", \"green\", \"green\", \"green\", \"green\", \"green\", \"green\", \"green\", \"green\", \"green\", \"green\", \"green\", \"green\", \"green\", \"green\", \"green\", \"green\", \"green\", \"green\", \"green\", \"#FF5733\", \"#FF5733\", \"#FF5733\", \"#FF5733\", \"#FF5733\", \"#FF5733\", \"#FF5733\", \"#FF5733\", \"#FF5733\", \"#FF5733\", \"#FF5733\", \"#FF5733\", \"#FF5733\", \"#FF5733\", \"green\", \"green\", \"green\", \"green\", \"green\", \"green\", \"green\", \"green\", \"green\", \"green\", \"green\", \"#FF5733\", \"#FF5733\", \"#FF5733\", \"#FF5733\", \"#FF5733\", \"#FF5733\", \"#FF5733\", \"green\", \"green\", \"green\", \"green\", \"green\", \"green\", \"green\", \"green\", \"green\", \"green\", \"#FF5733\", \"#FF5733\", \"#FF5733\", \"#FF5733\", \"#FF5733\", \"#FF5733\", \"#FF5733\", \"#FF5733\", \"#FF5733\", \"#FF5733\", \"#FF5733\", \"#FF5733\", \"#FF5733\", \"#FF5733\", \"#FF5733\", \"#FF5733\", \"#FF5733\", \"#FF5733\", \"#FF5733\", \"#FF5733\", \"#FF5733\", \"#FF5733\", \"green\", \"green\", \"green\", \"green\", \"green\", \"green\", \"green\", \"green\", \"green\", \"green\", \"green\", \"green\", \"green\", \"green\", \"green\", \"green\", \"green\", \"green\", \"green\", \"green\", \"green\", \"green\", \"green\", \"green\", \"green\", \"green\", \"green\", \"green\", \"green\", \"green\", \"green\", \"green\", \"green\", \"green\", \"green\", \"green\", \"green\", \"#FF5733\", \"#FF5733\", \"#FF5733\", \"#FF5733\", \"#FF5733\", \"#FF5733\", \"#FF5733\", \"#FF5733\", \"#FF5733\", \"#FF5733\", \"#FF5733\", \"#FF5733\", \"#FF5733\", \"#FF5733\", \"#FF5733\", \"#FF5733\", \"#FF5733\", \"#FF5733\", \"#FF5733\", \"green\", \"#FF5733\", \"#FF5733\", \"green\", \"#FF5733\", \"#FF5733\", \"#FF5733\", \"#FF5733\", \"#FF5733\", \"#FF5733\"]}, \"name\": \"MACD diff\", \"type\": \"bar\", \"x\": [\"2020-08-03T00:00:00\", \"2020-08-04T00:00:00\", \"2020-08-05T00:00:00\", \"2020-08-06T00:00:00\", \"2020-08-07T00:00:00\", \"2020-08-10T00:00:00\", \"2020-08-11T00:00:00\", \"2020-08-12T00:00:00\", \"2020-08-13T00:00:00\", \"2020-08-14T00:00:00\", \"2020-08-17T00:00:00\", \"2020-08-18T00:00:00\", \"2020-08-19T00:00:00\", \"2020-08-20T00:00:00\", \"2020-08-21T00:00:00\", \"2020-08-24T00:00:00\", \"2020-08-25T00:00:00\", \"2020-08-26T00:00:00\", \"2020-08-27T00:00:00\", \"2020-08-28T00:00:00\", \"2020-08-31T00:00:00\", \"2020-09-01T00:00:00\", \"2020-09-02T00:00:00\", \"2020-09-03T00:00:00\", \"2020-09-04T00:00:00\", \"2020-09-08T00:00:00\", \"2020-09-09T00:00:00\", \"2020-09-10T00:00:00\", \"2020-09-11T00:00:00\", \"2020-09-14T00:00:00\", \"2020-09-15T00:00:00\", \"2020-09-16T00:00:00\", \"2020-09-17T00:00:00\", \"2020-09-18T00:00:00\", \"2020-09-21T00:00:00\", \"2020-09-22T00:00:00\", \"2020-09-23T00:00:00\", \"2020-09-24T00:00:00\", \"2020-09-25T00:00:00\", \"2020-09-28T00:00:00\", \"2020-09-29T00:00:00\", \"2020-09-30T00:00:00\", \"2020-10-01T00:00:00\", \"2020-10-02T00:00:00\", \"2020-10-05T00:00:00\", \"2020-10-06T00:00:00\", \"2020-10-07T00:00:00\", \"2020-10-08T00:00:00\", \"2020-10-09T00:00:00\", \"2020-10-12T00:00:00\", \"2020-10-13T00:00:00\", \"2020-10-14T00:00:00\", \"2020-10-15T00:00:00\", \"2020-10-16T00:00:00\", \"2020-10-19T00:00:00\", \"2020-10-20T00:00:00\", \"2020-10-21T00:00:00\", \"2020-10-22T00:00:00\", \"2020-10-23T00:00:00\", \"2020-10-26T00:00:00\", \"2020-10-27T00:00:00\", \"2020-10-28T00:00:00\", \"2020-10-29T00:00:00\", \"2020-10-30T00:00:00\", \"2020-11-02T00:00:00\", \"2020-11-03T00:00:00\", \"2020-11-04T00:00:00\", \"2020-11-05T00:00:00\", \"2020-11-06T00:00:00\", \"2020-11-09T00:00:00\", \"2020-11-10T00:00:00\", \"2020-11-11T00:00:00\", \"2020-11-12T00:00:00\", \"2020-11-13T00:00:00\", \"2020-11-16T00:00:00\", \"2020-11-17T00:00:00\", \"2020-11-18T00:00:00\", \"2020-11-19T00:00:00\", \"2020-11-20T00:00:00\", \"2020-11-23T00:00:00\", \"2020-11-24T00:00:00\", \"2020-11-25T00:00:00\", \"2020-11-27T00:00:00\", \"2020-11-30T00:00:00\", \"2020-12-01T00:00:00\", \"2020-12-02T00:00:00\", \"2020-12-03T00:00:00\", \"2020-12-04T00:00:00\", \"2020-12-07T00:00:00\", \"2020-12-08T00:00:00\", \"2020-12-09T00:00:00\", \"2020-12-10T00:00:00\", \"2020-12-11T00:00:00\", \"2020-12-14T00:00:00\", \"2020-12-15T00:00:00\", \"2020-12-16T00:00:00\", \"2020-12-17T00:00:00\", \"2020-12-18T00:00:00\", \"2020-12-21T00:00:00\", \"2020-12-22T00:00:00\", \"2020-12-23T00:00:00\", \"2020-12-24T00:00:00\", \"2020-12-28T00:00:00\", \"2020-12-29T00:00:00\", \"2020-12-30T00:00:00\", \"2020-12-31T00:00:00\", \"2021-01-04T00:00:00\", \"2021-01-05T00:00:00\", \"2021-01-06T00:00:00\", \"2021-01-07T00:00:00\", \"2021-01-08T00:00:00\", \"2021-01-11T00:00:00\", \"2021-01-12T00:00:00\", \"2021-01-13T00:00:00\", \"2021-01-14T00:00:00\", \"2021-01-15T00:00:00\", \"2021-01-19T00:00:00\", \"2021-01-20T00:00:00\", \"2021-01-21T00:00:00\", \"2021-01-22T00:00:00\", \"2021-01-25T00:00:00\", \"2021-01-26T00:00:00\", \"2021-01-27T00:00:00\", \"2021-01-28T00:00:00\", \"2021-01-29T00:00:00\", \"2021-02-01T00:00:00\", \"2021-02-02T00:00:00\", \"2021-02-03T00:00:00\", \"2021-02-04T00:00:00\", \"2021-02-05T00:00:00\", \"2021-02-08T00:00:00\", \"2021-02-09T00:00:00\", \"2021-02-10T00:00:00\", \"2021-02-11T00:00:00\", \"2021-02-12T00:00:00\", \"2021-02-16T00:00:00\", \"2021-02-17T00:00:00\", \"2021-02-18T00:00:00\", \"2021-02-19T00:00:00\", \"2021-02-22T00:00:00\", \"2021-02-23T00:00:00\", \"2021-02-24T00:00:00\", \"2021-02-25T00:00:00\", \"2021-02-26T00:00:00\", \"2021-03-01T00:00:00\", \"2021-03-02T00:00:00\", \"2021-03-03T00:00:00\", \"2021-03-04T00:00:00\", \"2021-03-05T00:00:00\", \"2021-03-08T00:00:00\", \"2021-03-09T00:00:00\", \"2021-03-10T00:00:00\", \"2021-03-11T00:00:00\", \"2021-03-12T00:00:00\", \"2021-03-15T00:00:00\", \"2021-03-16T00:00:00\", \"2021-03-17T00:00:00\", \"2021-03-18T00:00:00\", \"2021-03-19T00:00:00\", \"2021-03-22T00:00:00\", \"2021-03-23T00:00:00\", \"2021-03-24T00:00:00\", \"2021-03-25T00:00:00\", \"2021-03-26T00:00:00\", \"2021-03-29T00:00:00\", \"2021-03-30T00:00:00\", \"2021-03-31T00:00:00\", \"2021-04-01T00:00:00\", \"2021-04-05T00:00:00\", \"2021-04-06T00:00:00\", \"2021-04-07T00:00:00\", \"2021-04-08T00:00:00\", \"2021-04-09T00:00:00\", \"2021-04-12T00:00:00\", \"2021-04-13T00:00:00\", \"2021-04-14T00:00:00\", \"2021-04-15T00:00:00\", \"2021-04-16T00:00:00\", \"2021-04-19T00:00:00\", \"2021-04-20T00:00:00\", \"2021-04-21T00:00:00\", \"2021-04-22T00:00:00\", \"2021-04-23T00:00:00\", \"2021-04-26T00:00:00\", \"2021-04-27T00:00:00\", \"2021-04-28T00:00:00\", \"2021-04-29T00:00:00\", \"2021-04-30T00:00:00\", \"2021-05-03T00:00:00\", \"2021-05-04T00:00:00\", \"2021-05-05T00:00:00\", \"2021-05-06T00:00:00\", \"2021-05-07T00:00:00\", \"2021-05-10T00:00:00\", \"2021-05-11T00:00:00\", \"2021-05-12T00:00:00\", \"2021-05-13T00:00:00\", \"2021-05-14T00:00:00\", \"2021-05-17T00:00:00\", \"2021-05-18T00:00:00\", \"2021-05-19T00:00:00\", \"2021-05-20T00:00:00\", \"2021-05-21T00:00:00\", \"2021-05-24T00:00:00\", \"2021-05-25T00:00:00\", \"2021-05-26T00:00:00\", \"2021-05-27T00:00:00\", \"2021-05-28T00:00:00\", \"2021-06-01T00:00:00\", \"2021-06-02T00:00:00\", \"2021-06-03T00:00:00\", \"2021-06-04T00:00:00\", \"2021-06-07T00:00:00\", \"2021-06-08T00:00:00\", \"2021-06-09T00:00:00\", \"2021-06-10T00:00:00\", \"2021-06-11T00:00:00\", \"2021-06-14T00:00:00\", \"2021-06-15T00:00:00\", \"2021-06-16T00:00:00\", \"2021-06-17T00:00:00\", \"2021-06-18T00:00:00\", \"2021-06-21T00:00:00\", \"2021-06-22T00:00:00\", \"2021-06-23T00:00:00\", \"2021-06-24T00:00:00\", \"2021-06-25T00:00:00\", \"2021-06-28T00:00:00\", \"2021-06-29T00:00:00\", \"2021-06-30T00:00:00\", \"2021-07-01T00:00:00\", \"2021-07-02T00:00:00\", \"2021-07-06T00:00:00\", \"2021-07-07T00:00:00\", \"2021-07-08T00:00:00\", \"2021-07-09T00:00:00\", \"2021-07-12T00:00:00\", \"2021-07-13T00:00:00\", \"2021-07-14T00:00:00\", \"2021-07-15T00:00:00\", \"2021-07-16T00:00:00\", \"2021-07-19T00:00:00\", \"2021-07-20T00:00:00\", \"2021-07-21T00:00:00\", \"2021-07-22T00:00:00\", \"2021-07-23T00:00:00\", \"2021-07-26T00:00:00\", \"2021-07-27T00:00:00\", \"2021-07-28T00:00:00\", \"2021-07-29T00:00:00\", \"2021-07-30T00:00:00\", \"2021-08-02T00:00:00\", \"2021-08-03T00:00:00\", \"2021-08-04T00:00:00\", \"2021-08-05T00:00:00\", \"2021-08-06T00:00:00\", \"2021-08-09T00:00:00\", \"2021-08-10T00:00:00\", \"2021-08-11T00:00:00\", \"2021-08-12T00:00:00\", \"2021-08-13T00:00:00\", \"2021-08-16T00:00:00\", \"2021-08-17T00:00:00\", \"2021-08-18T00:00:00\", \"2021-08-19T00:00:00\", \"2021-08-20T00:00:00\", \"2021-08-23T00:00:00\", \"2021-08-24T00:00:00\", \"2021-08-25T00:00:00\", \"2021-08-26T00:00:00\", \"2021-08-27T00:00:00\", \"2021-08-30T00:00:00\", \"2021-08-31T00:00:00\", \"2021-09-01T00:00:00\", \"2021-09-02T00:00:00\", \"2021-09-03T00:00:00\", \"2021-09-07T00:00:00\", \"2021-09-08T00:00:00\", \"2021-09-09T00:00:00\", \"2021-09-10T00:00:00\", \"2021-09-13T00:00:00\", \"2021-09-14T00:00:00\", \"2021-09-15T00:00:00\", \"2021-09-16T00:00:00\", \"2021-09-17T00:00:00\", \"2021-09-20T00:00:00\", \"2021-09-21T00:00:00\", \"2021-09-22T00:00:00\", \"2021-09-23T00:00:00\", \"2021-09-24T00:00:00\", \"2021-09-27T00:00:00\", \"2021-09-28T00:00:00\", \"2021-09-29T00:00:00\", \"2021-09-30T00:00:00\", \"2021-10-01T00:00:00\", \"2021-10-04T00:00:00\", \"2021-10-05T00:00:00\", \"2021-10-06T00:00:00\", \"2021-10-07T00:00:00\", \"2021-10-08T00:00:00\", \"2021-10-11T00:00:00\", \"2021-10-12T00:00:00\", \"2021-10-13T00:00:00\", \"2021-10-14T00:00:00\", \"2021-10-15T00:00:00\", \"2021-10-18T00:00:00\", \"2021-10-19T00:00:00\", \"2021-10-20T00:00:00\", \"2021-10-21T00:00:00\", \"2021-10-22T00:00:00\", \"2021-10-25T00:00:00\", \"2021-10-26T00:00:00\", \"2021-10-27T00:00:00\", \"2021-10-28T00:00:00\", \"2021-10-29T00:00:00\", \"2021-11-01T00:00:00\", \"2021-11-02T00:00:00\", \"2021-11-03T00:00:00\", \"2021-11-04T00:00:00\", \"2021-11-05T00:00:00\", \"2021-11-08T00:00:00\", \"2021-11-09T00:00:00\", \"2021-11-10T00:00:00\", \"2021-11-11T00:00:00\", \"2021-11-12T00:00:00\", \"2021-11-15T00:00:00\", \"2021-11-16T00:00:00\", \"2021-11-17T00:00:00\", \"2021-11-18T00:00:00\", \"2021-11-19T00:00:00\", \"2021-11-22T00:00:00\", \"2021-11-23T00:00:00\", \"2021-11-24T00:00:00\", \"2021-11-26T00:00:00\", \"2021-11-29T00:00:00\", \"2021-11-30T00:00:00\", \"2021-12-01T00:00:00\", \"2021-12-02T00:00:00\", \"2021-12-03T00:00:00\", \"2021-12-06T00:00:00\", \"2021-12-07T00:00:00\", \"2021-12-08T00:00:00\", \"2021-12-09T00:00:00\", \"2021-12-10T00:00:00\", \"2021-12-13T00:00:00\", \"2021-12-14T00:00:00\", \"2021-12-15T00:00:00\", \"2021-12-16T00:00:00\", \"2021-12-17T00:00:00\", \"2021-12-20T00:00:00\", \"2021-12-21T00:00:00\", \"2021-12-22T00:00:00\", \"2021-12-23T00:00:00\", \"2021-12-27T00:00:00\", \"2021-12-28T00:00:00\", \"2021-12-29T00:00:00\", \"2021-12-30T00:00:00\", \"2021-12-31T00:00:00\", \"2022-01-03T00:00:00\", \"2022-01-04T00:00:00\", \"2022-01-05T00:00:00\", \"2022-01-06T00:00:00\", \"2022-01-07T00:00:00\", \"2022-01-10T00:00:00\", \"2022-01-11T00:00:00\"], \"xaxis\": \"x4\", \"y\": [0.34618760721603836, 0.24573757127988083, 0.13058340530423473, 0.09300062686175892, -0.04034672003398887, -0.21450968463148712, -0.4576045572496872, -0.5214346596624688, -0.594091418161947, -0.6447816268831916, -0.7082089814838959, -0.8225438619639163, -0.9232660382681344, -1.0195589013035453, -1.001680840991291, -0.9204695689415812, -0.7730038055177919, -0.5472213726281011, -0.46482095997580464, -0.3191961961496599, -0.2646564355336054, -0.14820967740152702, 0.15443563322040554, -0.036573349277850165, -0.2524827653079387, -0.6310113495951386, -0.6657981068303436, -0.7555704277104093, -0.781481418580358, -0.5587329584165465, -0.315615511258549, -0.1745029220830413, -0.1317662442900014, -0.13667527128357837, -0.2110838060148006, -0.20214225394397722, -0.3541167666275682, -0.3141880831820332, -0.17960624741580322, 0.14231250373701554, 0.3334299270806571, 0.4815631535738012, 0.661538804606834, 0.5320792887759461, 0.5633287563991753, 0.5041234989793699, 0.5618467948841855, 0.5781473570440961, 1.5101765281868957, 1.8796036849644275, 1.940399387381437, 1.851833938280632, 1.7115554349308217, 1.4982820101934573, 1.1557632486021197, 0.7469193689293028, 0.20263823101779854, -0.06852488830504821, -0.02394383126462518, -0.1698394552656688, 0.3431917112812508, 0.32321362329076964, 0.4627765444713763, 0.22490606739562047, 0.017695260712672134, 0.003258093863781397, 0.4358670921964545, 0.7567767523302171, 1.1499487547746572, 1.0571936428766104, 0.3987534108002464, 0.21771998741998555, 0.08836295181384024, -0.03967728739110754, 0.07348272574684511, 0.04071496304162814, -0.10933466164802486, 0.007711216732567472, 0.0013868590711192397, 0.013791295610440457, -0.026564780513062658, 0.056624584456431926, 0.1865953534802678, 0.7298508462569853, 1.003587570284541, 1.1594046088686154, 0.9733160615528069, 0.9786869745511799, 0.8998847389998668, 0.614689073176482, 0.04073313368395759, -0.22153823495560854, -0.4331044574079952, -0.2670457838002589, -0.007688695546109514, 0.07703470913902244, 0.07767856551943808, -0.15200083477564874, -0.5927900296070572, -0.96338894005995, -1.3353795163012308, -1.5472141873379543, -1.674029482026513, -1.8104838572667523, -1.6979152817142729, -1.5927546686789582, -1.4309408421071064, -1.1660859518093285, -1.1548361114056713, -0.5665954993524562, -0.29783218499158925, 0.06424155838333423, -0.012958931124134043, -0.4309725062470777, -0.7633752837418948, -1.1652669999426628, -1.1938732605960611, -1.2472192266628306, -1.0219762990853116, -0.7196662535630609, -0.35645605676605674, -0.16156438172353688, -0.7061564752213146, -1.0305915497203797, -1.370626417952618, -1.2055417154198012, -0.904623966835586, -0.7824466064381221, -0.5975941640883726, -0.42582077092938175, 0.03285471727418399, 0.2943248416420434, 0.6016061784763274, 0.8403506121737195, 1.0536155679227455, 0.9361099250036187, 0.6095665789903919, 0.2634565886064445, 0.108336400555083, -0.46610916358316024, -0.8586638705632406, -0.8338811195260799, -1.2878400460805413, -1.1989049645874799, -0.8450149111157508, -0.8094643745625687, -1.1393873933237066, -1.6752995609405543, -1.7200115370190439, -2.1327951144114055, -1.7255052730405942, -1.442573414376918, -0.6817915766116656, -0.1697331271646414, 0.40311937047157986, 0.816563593113103, 1.071460318226344, 0.7676448185806413, 0.6109159088372444, 0.6706263662104011, 0.4982155488527966, 0.25522688112169956, 0.123108968512053, 0.2611337027734497, 0.3041011590699334, 0.21944873223673378, 0.4116556901205106, 0.9163505932445557, 1.2648048875362154, 1.4169624711103102, 1.537625660950403, 1.6165943130869942, 1.397399361036823, 0.843912075421819, 0.5847056429579023, 0.22991958490713588, 0.41340332468625934, 0.4163521887200563, 0.2871733739191441, -0.016982530221492875, 0.007006687515539872, -0.22408911151516284, 0.06445230296722557, 0.5179153426569996, 0.7530436252615071, 0.7262396482965263, 0.7290167367492465, 0.40008312173410043, -0.11404680674342993, -0.46687808207682235, -0.7335114884240662, -0.8577164578123264, -0.7450615765740591, -0.9431751933149825, -0.9099981911356371, -1.1144243029823955, -1.320502093931915, -1.1532325976857187, -0.965503755199407, -0.8025862485208335, -0.4526088086430784, 0.015167745806763389, 0.25078666856006726, 0.4645403202062084, 0.611481876643925, 0.6621398132018415, 0.6297771378948098, 0.8430304139732279, 1.0024864146511079, 1.1354483769356127, 0.9537907607050093, 0.9722105630744788, 0.8767279060105997, 0.7524271524077897, 0.5363699244669641, 0.5511491767972956, 0.5081948779711979, 0.4378055722123507, 0.2814366531188819, 0.10617465907142276, 0.37601616724056874, 0.48991751497198144, 0.24563486996753703, 0.22816112452211845, 0.2479430509896483, 0.4177481247023487, 0.3883796487098432, 0.5430678055283347, 0.8656755356581782, 1.329529577299656, 1.3504086537652622, 1.4455699146950947, 1.3786191275370432, 0.8058234134091493, 0.13944605765266704, -0.20061333060666264, -0.46655352502242975, -0.7099616642502582, -0.9312513005840746, -1.2404644250284678, -1.4613053064925148, -1.4982533601045436, -1.3463038836183403, -0.9238631309072902, -0.5491194053884194, -0.20670996764022975, -0.14519071309005693, -0.3915339591664728, -0.05249801135639098, 0.7104566270680837, 1.3069359061325487, 1.5446537089590584, 1.435588048691805, 1.1556440087093902, 1.3026659161026508, 1.2509685302266433, 1.0464966653454777, 0.6792969425327824, 0.4690342033583952, 0.15393905811503483, -0.041578664994615266, -0.44983279515443986, -0.7143665386279316, -0.9582012559869586, -1.0126374599396133, -0.9074619938653332, -0.22769652871628, 0.15933986157895053, 0.3799002456835474, 0.33435558535863086, 0.5946205976414669, 0.6231297466432131, 0.6132295608474898, 0.473716502069649, 0.3096139408222025, 0.27520457190837444, 0.12989251521894296, -0.09228754083404622, -0.20400876052397887, -0.23826048133396638, -0.2809672053803185, -0.2878042094932294, -0.16776009322543262, -0.14576859824430288, -0.3749558944390632, -0.7723204376941069, -0.9238438616499263, -0.8308192198338347, -0.5996259741661962, -0.37809864948284977, -0.08467526195016628, -0.4659241419489941, -0.8769398001124318, -0.93270853006797, -0.8775534627344315, -1.0556210095466259, -0.883113743028911, -0.6051174779679144, -0.13634922939433414, 0.04290695516042975, 0.07779450966619128, 0.1337847685357817, 0.5207635665546423, 0.9928955231413001, 1.3114206033823623, 1.635235411039289, 1.72532193639887, 1.678125154459985, 1.7503017568578065, 1.6010692884991253, 1.5642107769565818, 1.2036748728473494, 1.447759360914544, 1.4816298265199048, 1.3256219314736635, 1.4533425625732548, 1.6289134293275769, 1.767953928504716, 2.1216671692480578, 2.19088586337847, 2.6558224391540772, 2.5400027928875595, 1.7988058636836364, 1.8491074431981787, 2.014044197286614, 2.0110424853175832, 2.0438581740197215, 1.6721857520970307, 1.5240638359147454, 1.259334232807646, 0.8916821842767373, 0.4805898487509275, 0.7060069290981144, 0.30224847267117205, 0.49655550007200056, 0.17626906305081924, -0.7488325959634778, -1.4367562538690901, -2.013265584390581, -2.6134055154234606, -2.2943024447659095, -2.01424895463869, -2.4496953270632638, -2.546401972182636, -3.046607809933528, -3.2592044137032836, -2.786030983595058, -3.5524474380992412, -3.8790399854492463, -4.181605017942338, -3.5330400516209743, -2.423399222603293, -1.5534909647345212, -0.5210776912340176, -0.025588276929947806, 0.09851620361381785, -0.08580871769682519, -0.33425430070748563, 0.09927274680238685, -0.05953801075605547, -1.0183042204205308, -1.4296931820912269, -2.3251366939782425, -2.744216130621207, -2.415937188751203], \"yaxis\": \"y4\"}, {\"line\": {\"color\": \"green\", \"width\": 2}, \"name\": \"MACD\", \"type\": \"scatter\", \"x\": [\"2020-08-03T00:00:00\", \"2020-08-04T00:00:00\", \"2020-08-05T00:00:00\", \"2020-08-06T00:00:00\", \"2020-08-07T00:00:00\", \"2020-08-10T00:00:00\", \"2020-08-11T00:00:00\", \"2020-08-12T00:00:00\", \"2020-08-13T00:00:00\", \"2020-08-14T00:00:00\", \"2020-08-17T00:00:00\", \"2020-08-18T00:00:00\", \"2020-08-19T00:00:00\", \"2020-08-20T00:00:00\", \"2020-08-21T00:00:00\", \"2020-08-24T00:00:00\", \"2020-08-25T00:00:00\", \"2020-08-26T00:00:00\", \"2020-08-27T00:00:00\", \"2020-08-28T00:00:00\", \"2020-08-31T00:00:00\", \"2020-09-01T00:00:00\", \"2020-09-02T00:00:00\", \"2020-09-03T00:00:00\", \"2020-09-04T00:00:00\", \"2020-09-08T00:00:00\", \"2020-09-09T00:00:00\", \"2020-09-10T00:00:00\", \"2020-09-11T00:00:00\", \"2020-09-14T00:00:00\", \"2020-09-15T00:00:00\", \"2020-09-16T00:00:00\", \"2020-09-17T00:00:00\", \"2020-09-18T00:00:00\", \"2020-09-21T00:00:00\", \"2020-09-22T00:00:00\", \"2020-09-23T00:00:00\", \"2020-09-24T00:00:00\", \"2020-09-25T00:00:00\", \"2020-09-28T00:00:00\", \"2020-09-29T00:00:00\", \"2020-09-30T00:00:00\", \"2020-10-01T00:00:00\", \"2020-10-02T00:00:00\", \"2020-10-05T00:00:00\", \"2020-10-06T00:00:00\", \"2020-10-07T00:00:00\", \"2020-10-08T00:00:00\", \"2020-10-09T00:00:00\", \"2020-10-12T00:00:00\", \"2020-10-13T00:00:00\", \"2020-10-14T00:00:00\", \"2020-10-15T00:00:00\", \"2020-10-16T00:00:00\", \"2020-10-19T00:00:00\", \"2020-10-20T00:00:00\", \"2020-10-21T00:00:00\", \"2020-10-22T00:00:00\", \"2020-10-23T00:00:00\", \"2020-10-26T00:00:00\", \"2020-10-27T00:00:00\", \"2020-10-28T00:00:00\", \"2020-10-29T00:00:00\", \"2020-10-30T00:00:00\", \"2020-11-02T00:00:00\", \"2020-11-03T00:00:00\", \"2020-11-04T00:00:00\", \"2020-11-05T00:00:00\", \"2020-11-06T00:00:00\", \"2020-11-09T00:00:00\", \"2020-11-10T00:00:00\", \"2020-11-11T00:00:00\", \"2020-11-12T00:00:00\", \"2020-11-13T00:00:00\", \"2020-11-16T00:00:00\", \"2020-11-17T00:00:00\", \"2020-11-18T00:00:00\", \"2020-11-19T00:00:00\", \"2020-11-20T00:00:00\", \"2020-11-23T00:00:00\", \"2020-11-24T00:00:00\", \"2020-11-25T00:00:00\", \"2020-11-27T00:00:00\", \"2020-11-30T00:00:00\", \"2020-12-01T00:00:00\", \"2020-12-02T00:00:00\", \"2020-12-03T00:00:00\", \"2020-12-04T00:00:00\", \"2020-12-07T00:00:00\", \"2020-12-08T00:00:00\", \"2020-12-09T00:00:00\", \"2020-12-10T00:00:00\", \"2020-12-11T00:00:00\", \"2020-12-14T00:00:00\", \"2020-12-15T00:00:00\", \"2020-12-16T00:00:00\", \"2020-12-17T00:00:00\", \"2020-12-18T00:00:00\", \"2020-12-21T00:00:00\", \"2020-12-22T00:00:00\", \"2020-12-23T00:00:00\", \"2020-12-24T00:00:00\", \"2020-12-28T00:00:00\", \"2020-12-29T00:00:00\", \"2020-12-30T00:00:00\", \"2020-12-31T00:00:00\", \"2021-01-04T00:00:00\", \"2021-01-05T00:00:00\", \"2021-01-06T00:00:00\", \"2021-01-07T00:00:00\", \"2021-01-08T00:00:00\", \"2021-01-11T00:00:00\", \"2021-01-12T00:00:00\", \"2021-01-13T00:00:00\", \"2021-01-14T00:00:00\", \"2021-01-15T00:00:00\", \"2021-01-19T00:00:00\", \"2021-01-20T00:00:00\", \"2021-01-21T00:00:00\", \"2021-01-22T00:00:00\", \"2021-01-25T00:00:00\", \"2021-01-26T00:00:00\", \"2021-01-27T00:00:00\", \"2021-01-28T00:00:00\", \"2021-01-29T00:00:00\", \"2021-02-01T00:00:00\", \"2021-02-02T00:00:00\", \"2021-02-03T00:00:00\", \"2021-02-04T00:00:00\", \"2021-02-05T00:00:00\", \"2021-02-08T00:00:00\", \"2021-02-09T00:00:00\", \"2021-02-10T00:00:00\", \"2021-02-11T00:00:00\", \"2021-02-12T00:00:00\", \"2021-02-16T00:00:00\", \"2021-02-17T00:00:00\", \"2021-02-18T00:00:00\", \"2021-02-19T00:00:00\", \"2021-02-22T00:00:00\", \"2021-02-23T00:00:00\", \"2021-02-24T00:00:00\", \"2021-02-25T00:00:00\", \"2021-02-26T00:00:00\", \"2021-03-01T00:00:00\", \"2021-03-02T00:00:00\", \"2021-03-03T00:00:00\", \"2021-03-04T00:00:00\", \"2021-03-05T00:00:00\", \"2021-03-08T00:00:00\", \"2021-03-09T00:00:00\", \"2021-03-10T00:00:00\", \"2021-03-11T00:00:00\", \"2021-03-12T00:00:00\", \"2021-03-15T00:00:00\", \"2021-03-16T00:00:00\", \"2021-03-17T00:00:00\", \"2021-03-18T00:00:00\", \"2021-03-19T00:00:00\", \"2021-03-22T00:00:00\", \"2021-03-23T00:00:00\", \"2021-03-24T00:00:00\", \"2021-03-25T00:00:00\", \"2021-03-26T00:00:00\", \"2021-03-29T00:00:00\", \"2021-03-30T00:00:00\", \"2021-03-31T00:00:00\", \"2021-04-01T00:00:00\", \"2021-04-05T00:00:00\", \"2021-04-06T00:00:00\", \"2021-04-07T00:00:00\", \"2021-04-08T00:00:00\", \"2021-04-09T00:00:00\", \"2021-04-12T00:00:00\", \"2021-04-13T00:00:00\", \"2021-04-14T00:00:00\", \"2021-04-15T00:00:00\", \"2021-04-16T00:00:00\", \"2021-04-19T00:00:00\", \"2021-04-20T00:00:00\", \"2021-04-21T00:00:00\", \"2021-04-22T00:00:00\", \"2021-04-23T00:00:00\", \"2021-04-26T00:00:00\", \"2021-04-27T00:00:00\", \"2021-04-28T00:00:00\", \"2021-04-29T00:00:00\", \"2021-04-30T00:00:00\", \"2021-05-03T00:00:00\", \"2021-05-04T00:00:00\", \"2021-05-05T00:00:00\", \"2021-05-06T00:00:00\", \"2021-05-07T00:00:00\", \"2021-05-10T00:00:00\", \"2021-05-11T00:00:00\", \"2021-05-12T00:00:00\", \"2021-05-13T00:00:00\", \"2021-05-14T00:00:00\", \"2021-05-17T00:00:00\", \"2021-05-18T00:00:00\", \"2021-05-19T00:00:00\", \"2021-05-20T00:00:00\", \"2021-05-21T00:00:00\", \"2021-05-24T00:00:00\", \"2021-05-25T00:00:00\", \"2021-05-26T00:00:00\", \"2021-05-27T00:00:00\", \"2021-05-28T00:00:00\", \"2021-06-01T00:00:00\", \"2021-06-02T00:00:00\", \"2021-06-03T00:00:00\", \"2021-06-04T00:00:00\", \"2021-06-07T00:00:00\", \"2021-06-08T00:00:00\", \"2021-06-09T00:00:00\", \"2021-06-10T00:00:00\", \"2021-06-11T00:00:00\", \"2021-06-14T00:00:00\", \"2021-06-15T00:00:00\", \"2021-06-16T00:00:00\", \"2021-06-17T00:00:00\", \"2021-06-18T00:00:00\", \"2021-06-21T00:00:00\", \"2021-06-22T00:00:00\", \"2021-06-23T00:00:00\", \"2021-06-24T00:00:00\", \"2021-06-25T00:00:00\", \"2021-06-28T00:00:00\", \"2021-06-29T00:00:00\", \"2021-06-30T00:00:00\", \"2021-07-01T00:00:00\", \"2021-07-02T00:00:00\", \"2021-07-06T00:00:00\", \"2021-07-07T00:00:00\", \"2021-07-08T00:00:00\", \"2021-07-09T00:00:00\", \"2021-07-12T00:00:00\", \"2021-07-13T00:00:00\", \"2021-07-14T00:00:00\", \"2021-07-15T00:00:00\", \"2021-07-16T00:00:00\", \"2021-07-19T00:00:00\", \"2021-07-20T00:00:00\", \"2021-07-21T00:00:00\", \"2021-07-22T00:00:00\", \"2021-07-23T00:00:00\", \"2021-07-26T00:00:00\", \"2021-07-27T00:00:00\", \"2021-07-28T00:00:00\", \"2021-07-29T00:00:00\", \"2021-07-30T00:00:00\", \"2021-08-02T00:00:00\", \"2021-08-03T00:00:00\", \"2021-08-04T00:00:00\", \"2021-08-05T00:00:00\", \"2021-08-06T00:00:00\", \"2021-08-09T00:00:00\", \"2021-08-10T00:00:00\", \"2021-08-11T00:00:00\", \"2021-08-12T00:00:00\", \"2021-08-13T00:00:00\", \"2021-08-16T00:00:00\", \"2021-08-17T00:00:00\", \"2021-08-18T00:00:00\", \"2021-08-19T00:00:00\", \"2021-08-20T00:00:00\", \"2021-08-23T00:00:00\", \"2021-08-24T00:00:00\", \"2021-08-25T00:00:00\", \"2021-08-26T00:00:00\", \"2021-08-27T00:00:00\", \"2021-08-30T00:00:00\", \"2021-08-31T00:00:00\", \"2021-09-01T00:00:00\", \"2021-09-02T00:00:00\", \"2021-09-03T00:00:00\", \"2021-09-07T00:00:00\", \"2021-09-08T00:00:00\", \"2021-09-09T00:00:00\", \"2021-09-10T00:00:00\", \"2021-09-13T00:00:00\", \"2021-09-14T00:00:00\", \"2021-09-15T00:00:00\", \"2021-09-16T00:00:00\", \"2021-09-17T00:00:00\", \"2021-09-20T00:00:00\", \"2021-09-21T00:00:00\", \"2021-09-22T00:00:00\", \"2021-09-23T00:00:00\", \"2021-09-24T00:00:00\", \"2021-09-27T00:00:00\", \"2021-09-28T00:00:00\", \"2021-09-29T00:00:00\", \"2021-09-30T00:00:00\", \"2021-10-01T00:00:00\", \"2021-10-04T00:00:00\", \"2021-10-05T00:00:00\", \"2021-10-06T00:00:00\", \"2021-10-07T00:00:00\", \"2021-10-08T00:00:00\", \"2021-10-11T00:00:00\", \"2021-10-12T00:00:00\", \"2021-10-13T00:00:00\", \"2021-10-14T00:00:00\", \"2021-10-15T00:00:00\", \"2021-10-18T00:00:00\", \"2021-10-19T00:00:00\", \"2021-10-20T00:00:00\", \"2021-10-21T00:00:00\", \"2021-10-22T00:00:00\", \"2021-10-25T00:00:00\", \"2021-10-26T00:00:00\", \"2021-10-27T00:00:00\", \"2021-10-28T00:00:00\", \"2021-10-29T00:00:00\", \"2021-11-01T00:00:00\", \"2021-11-02T00:00:00\", \"2021-11-03T00:00:00\", \"2021-11-04T00:00:00\", \"2021-11-05T00:00:00\", \"2021-11-08T00:00:00\", \"2021-11-09T00:00:00\", \"2021-11-10T00:00:00\", \"2021-11-11T00:00:00\", \"2021-11-12T00:00:00\", \"2021-11-15T00:00:00\", \"2021-11-16T00:00:00\", \"2021-11-17T00:00:00\", \"2021-11-18T00:00:00\", \"2021-11-19T00:00:00\", \"2021-11-22T00:00:00\", \"2021-11-23T00:00:00\", \"2021-11-24T00:00:00\", \"2021-11-26T00:00:00\", \"2021-11-29T00:00:00\", \"2021-11-30T00:00:00\", \"2021-12-01T00:00:00\", \"2021-12-02T00:00:00\", \"2021-12-03T00:00:00\", \"2021-12-06T00:00:00\", \"2021-12-07T00:00:00\", \"2021-12-08T00:00:00\", \"2021-12-09T00:00:00\", \"2021-12-10T00:00:00\", \"2021-12-13T00:00:00\", \"2021-12-14T00:00:00\", \"2021-12-15T00:00:00\", \"2021-12-16T00:00:00\", \"2021-12-17T00:00:00\", \"2021-12-20T00:00:00\", \"2021-12-21T00:00:00\", \"2021-12-22T00:00:00\", \"2021-12-23T00:00:00\", \"2021-12-27T00:00:00\", \"2021-12-28T00:00:00\", \"2021-12-29T00:00:00\", \"2021-12-30T00:00:00\", \"2021-12-31T00:00:00\", \"2022-01-03T00:00:00\", \"2022-01-04T00:00:00\", \"2022-01-05T00:00:00\", \"2022-01-06T00:00:00\", \"2022-01-07T00:00:00\", \"2022-01-10T00:00:00\", \"2022-01-11T00:00:00\"], \"xaxis\": \"x4\", \"y\": [3.336792653149729, 3.297777010033542, 3.215268695383955, 3.2009360736569192, 3.057502046752674, 2.8297116609973045, 2.4722156490666833, 2.2780268817382847, 2.05684726869832, 1.8449616532562771, 1.604482053284599, 1.2845112073135994, 0.9529725214423479, 0.6017899330810508, 0.36924778314548234, 0.22034166295979674, 0.17455647500413818, 0.2635335647368038, 0.2297287373951491, 0.2955544521838789, 0.28393010391653206, 0.3633244426982287, 0.7045786616252627, 0.5044263418075445, 0.2253962344504714, -0.31088518723551317, -0.512121471178304, -0.790786398985972, -1.0120677445010102, -0.9290025239413353, -0.7647889545979751, -0.6673020959432279, -0.6575069792226884, -0.6965848240371599, -0.8237643102720824, -0.8653583216872534, -1.1058620260277365, -1.1444803633777099, -1.0548000894654308, -0.6973032123783582, -0.42282830726455245, -0.15430429237795806, 0.1910560598067832, 0.19461636616988187, 0.3666980228929049, 0.4335236402179419, 0.6317086348438039, 0.7925460362647385, 2.102119339454262, 2.941447417472901, 3.4873429667352696, 3.8617360022046228, 4.149346357587518, 4.310643435398518, 4.25706548595771, 4.034951448517219, 3.5413298683601653, 3.2530355269610567, 3.2916306261853236, 3.103275138367863, 3.7021042327350955, 3.762929550567307, 4.018186607865758, 3.8365426476389075, 3.6337556561341273, 3.6201330127511824, 4.161708784132969, 4.671812632349287, 5.352471823487392, 5.524015122308498, 4.9652632429321955, 4.838659816406931, 4.7313935187542455, 4.593433957701521, 4.724964652276185, 4.702375630331375, 4.524992340229716, 4.64396602279345, 4.637988379899781, 4.653840640341713, 4.606843369089944, 4.704188880173547, 4.88080848756745, 5.606526691908414, 6.131160308507106, 6.576828499308334, 6.634068967380728, 6.884111624016896, 7.030280573215549, 6.898757175686285, 6.33498451961475, 6.017328592236282, 5.6974862554318975, 5.79678348308957, 6.054218397457191, 6.15820047942708, 6.178263977187356, 5.910584368198357, 5.321597665965186, 4.7101515204973055, 4.004316065180717, 3.405677847309505, 2.8603551821143185, 2.271279842557391, 1.9593695976813024, 1.6663415435468778, 1.4704201595919528, 1.443753561937399, 1.1662943744896381, 1.6128861117047393, 1.8071913798177093, 2.1853255127884665, 2.104885290499965, 1.5791285888152515, 1.055881990384961, 0.3626735241985273, 0.03559894839611388, -0.3295518243363631, -0.35980297153017204, -0.23740948939868645, 0.03668669320680351, 0.19118727281843917, -0.5299439394846672, -1.1120269014138273, -1.79471837413422, -1.9310191004563535, -1.856257343581035, -1.9296916347931017, -1.8942377334654452, -1.8289195330387997, -1.3620303655166879, -1.0269790307383175, -0.569296149284952, -0.12046406254413, 0.3562047851855823, 0.47272662351736017, 0.2985749222517313, 0.018329079019395067, -0.10970700889319573, -0.800679863927229, -1.4079005385481196, -1.591588067392479, -2.3675070054670755, -2.5782981651208843, -2.435661839428093, -2.602477396515553, -3.217247263607618, -4.171984321459604, -4.6466991817928545, -5.592681537788067, -5.616768014677405, -5.694479509607959, -5.104145565995623, -4.63452039833976, -3.9608880580856436, -3.343302937165845, -2.820541132496018, -2.9324454274965603, -2.936445360030646, -2.7090783111048893, -2.7569352412492947, -2.936117188699967, -3.0374578591816004, -2.834149699226842, -2.715156953162875, -2.7449471969368915, -2.449826316522987, -1.7160437650878038, -1.0513882489120903, -0.5449900475604181, -0.03992044248272464, 0.4431967879256149, 0.5733516761346493, 0.23084240937510003, 0.11781238765065893, -0.17949377417332357, 0.10734079677736474, 0.21437770799117573, 0.15699223667004958, -0.15140930002596065, -0.12566841041004295, -0.4127864873195364, -0.1081319970953416, 0.47480987825868226, 0.8981990671785667, 1.0529550022877174, 1.2379862749277493, 1.0090734403461283, 0.4664318101827405, -0.003118985669857466, -0.45313026412311785, -0.7917643479644596, -0.8653748608697072, -1.299282275939376, -1.49360482154394, -1.9766370091362973, -2.5128403235687955, -2.633878976744029, -2.687526073057569, -2.725255128509204, -2.4884298907922187, -2.0168613998906864, -1.7185458099973658, -1.3886570782996728, -1.0888450527009752, -0.8726521628425985, -0.7475705536759278, -0.32355967410420305, 0.08651793023645382, 0.5033419867548616, 0.5601320607005107, 0.8216045038386, 0.9453038232773707, 1.009109857776508, 0.9271451109524236, 1.079711657482079, 1.163806078148781, 1.2028681654430216, 1.1168584096292733, 0.96814008034967, 1.3319856303289583, 1.5683663568033666, 1.3854924292908066, 1.4250589649759178, 1.50682665419086, 1.7810687590791474, 1.8487951952641026, 2.139250303464678, 2.6782769175090664, 3.4745133534754586, 3.832994593382381, 4.289548332985987, 4.567252327712197, 4.195912466936591, 3.5643966255932753, 3.1741839046822804, 2.791605329010906, 2.3707067737205136, 1.916604312240679, 1.2972750815391692, 0.7111078734519936, 0.29959647981382886, 0.11496998539544734, 0.30644495537967487, 0.5439088295514409, 0.8346407753895733, 0.8598623516672319, 0.5156356157991979, 0.841547060770182, 1.7821158559616777, 2.70532911155928, 3.3292103416255543, 3.579041693531252, 3.5880086557261848, 4.060697042145108, 4.321741788825761, 4.378894090280966, 4.181518603101466, 4.088514414766678, 3.811904034052077, 3.6059916446937734, 3.085279315745339, 2.6421539376148644, 2.1587689062590982, 1.8511733373215407, 1.729483304929488, 2.3523246378994713, 2.7791959935894397, 3.0947314391149234, 3.1327756751296647, 3.5416958368228677, 3.7259874224854173, 3.869394626901567, 3.848310693641139, 3.761611617599243, 3.7960033916625093, 3.683164463777814, 3.4379125225163136, 3.2751891126953865, 3.1813722715519077, 3.0684237461604766, 2.989635689674259, 3.067739782635698, 3.053289128055752, 2.730362858251226, 2.1399182055726556, 1.7574338162043546, 1.6427536530619875, 1.7240404051880773, 1.8510430675007115, 2.1232976395458536, 1.6255677240597777, 0.9953171158682323, 0.7063712533957016, 0.5421379550456322, 0.10016515584678132, 0.051893986607268516, 0.17861088217628662, 0.6132918234012834, 0.8032747467461547, 0.8576109286684641, 0.947047379672, 1.4642170693295213, 2.1845729067015043, 2.830953137788157, 3.563576798204906, 4.084993807664205, 4.457328314340316, 4.967080355952589, 5.21811520971869, 5.572309392415292, 5.512692206517897, 6.1187165348137285, 6.522994457049066, 6.698392044871241, 7.189448316614147, 7.772247540700363, 8.353276522003682, 9.237406555059039, 9.854346715034069, 10.983238900598195, 11.502419952553566, 11.210924489270553, 11.72350292958464, 12.39195073299473, 12.891709642355096, 13.435489874562165, 13.481863890663732, 13.714757933460135, 13.764861888554947, 13.620130386093223, 13.329185512755146, 13.731104325376862, 13.402907987117715, 13.721353889536545, 13.44513471827807, 12.332824910272905, 11.285712188900021, 10.205886462280887, 8.952395152392143, 8.697922611858218, 8.474413863325765, 7.426543659135376, 6.693236520970345, 5.431378730736071, 4.403981023540496, 4.180646707749958, 2.5261183937209637, 1.229765850008647, -0.11820043697002802, -0.3528954835539082, 0.15089553981295012, 0.632431056498092, 1.5345749071900912, 2.0236672522616743, 2.172400783708895, 1.9666236829740456, 1.6346145247865138, 2.092959758996983, 1.919264498749527, 0.7059222339799192, -0.06289002321358339, -1.5396177085951592, -2.6447511778934256, -2.9204565332112224], \"yaxis\": \"y4\"}, {\"line\": {\"color\": \"red\", \"width\": 1}, \"name\": \"MACD signal\", \"type\": \"scatter\", \"x\": [\"2020-08-03T00:00:00\", \"2020-08-04T00:00:00\", \"2020-08-05T00:00:00\", \"2020-08-06T00:00:00\", \"2020-08-07T00:00:00\", \"2020-08-10T00:00:00\", \"2020-08-11T00:00:00\", \"2020-08-12T00:00:00\", \"2020-08-13T00:00:00\", \"2020-08-14T00:00:00\", \"2020-08-17T00:00:00\", \"2020-08-18T00:00:00\", \"2020-08-19T00:00:00\", \"2020-08-20T00:00:00\", \"2020-08-21T00:00:00\", \"2020-08-24T00:00:00\", \"2020-08-25T00:00:00\", \"2020-08-26T00:00:00\", \"2020-08-27T00:00:00\", \"2020-08-28T00:00:00\", \"2020-08-31T00:00:00\", \"2020-09-01T00:00:00\", \"2020-09-02T00:00:00\", \"2020-09-03T00:00:00\", \"2020-09-04T00:00:00\", \"2020-09-08T00:00:00\", \"2020-09-09T00:00:00\", \"2020-09-10T00:00:00\", \"2020-09-11T00:00:00\", \"2020-09-14T00:00:00\", \"2020-09-15T00:00:00\", \"2020-09-16T00:00:00\", \"2020-09-17T00:00:00\", \"2020-09-18T00:00:00\", \"2020-09-21T00:00:00\", \"2020-09-22T00:00:00\", \"2020-09-23T00:00:00\", \"2020-09-24T00:00:00\", \"2020-09-25T00:00:00\", \"2020-09-28T00:00:00\", \"2020-09-29T00:00:00\", \"2020-09-30T00:00:00\", \"2020-10-01T00:00:00\", \"2020-10-02T00:00:00\", \"2020-10-05T00:00:00\", \"2020-10-06T00:00:00\", \"2020-10-07T00:00:00\", \"2020-10-08T00:00:00\", \"2020-10-09T00:00:00\", \"2020-10-12T00:00:00\", \"2020-10-13T00:00:00\", \"2020-10-14T00:00:00\", \"2020-10-15T00:00:00\", \"2020-10-16T00:00:00\", \"2020-10-19T00:00:00\", \"2020-10-20T00:00:00\", \"2020-10-21T00:00:00\", \"2020-10-22T00:00:00\", \"2020-10-23T00:00:00\", \"2020-10-26T00:00:00\", \"2020-10-27T00:00:00\", \"2020-10-28T00:00:00\", \"2020-10-29T00:00:00\", \"2020-10-30T00:00:00\", \"2020-11-02T00:00:00\", \"2020-11-03T00:00:00\", \"2020-11-04T00:00:00\", \"2020-11-05T00:00:00\", \"2020-11-06T00:00:00\", \"2020-11-09T00:00:00\", \"2020-11-10T00:00:00\", \"2020-11-11T00:00:00\", \"2020-11-12T00:00:00\", \"2020-11-13T00:00:00\", \"2020-11-16T00:00:00\", \"2020-11-17T00:00:00\", \"2020-11-18T00:00:00\", \"2020-11-19T00:00:00\", \"2020-11-20T00:00:00\", \"2020-11-23T00:00:00\", \"2020-11-24T00:00:00\", \"2020-11-25T00:00:00\", \"2020-11-27T00:00:00\", \"2020-11-30T00:00:00\", \"2020-12-01T00:00:00\", \"2020-12-02T00:00:00\", \"2020-12-03T00:00:00\", \"2020-12-04T00:00:00\", \"2020-12-07T00:00:00\", \"2020-12-08T00:00:00\", \"2020-12-09T00:00:00\", \"2020-12-10T00:00:00\", \"2020-12-11T00:00:00\", \"2020-12-14T00:00:00\", \"2020-12-15T00:00:00\", \"2020-12-16T00:00:00\", \"2020-12-17T00:00:00\", \"2020-12-18T00:00:00\", \"2020-12-21T00:00:00\", \"2020-12-22T00:00:00\", \"2020-12-23T00:00:00\", \"2020-12-24T00:00:00\", \"2020-12-28T00:00:00\", \"2020-12-29T00:00:00\", \"2020-12-30T00:00:00\", \"2020-12-31T00:00:00\", \"2021-01-04T00:00:00\", \"2021-01-05T00:00:00\", \"2021-01-06T00:00:00\", \"2021-01-07T00:00:00\", \"2021-01-08T00:00:00\", \"2021-01-11T00:00:00\", \"2021-01-12T00:00:00\", \"2021-01-13T00:00:00\", \"2021-01-14T00:00:00\", \"2021-01-15T00:00:00\", \"2021-01-19T00:00:00\", \"2021-01-20T00:00:00\", \"2021-01-21T00:00:00\", \"2021-01-22T00:00:00\", \"2021-01-25T00:00:00\", \"2021-01-26T00:00:00\", \"2021-01-27T00:00:00\", \"2021-01-28T00:00:00\", \"2021-01-29T00:00:00\", \"2021-02-01T00:00:00\", \"2021-02-02T00:00:00\", \"2021-02-03T00:00:00\", \"2021-02-04T00:00:00\", \"2021-02-05T00:00:00\", \"2021-02-08T00:00:00\", \"2021-02-09T00:00:00\", \"2021-02-10T00:00:00\", \"2021-02-11T00:00:00\", \"2021-02-12T00:00:00\", \"2021-02-16T00:00:00\", \"2021-02-17T00:00:00\", \"2021-02-18T00:00:00\", \"2021-02-19T00:00:00\", \"2021-02-22T00:00:00\", \"2021-02-23T00:00:00\", \"2021-02-24T00:00:00\", \"2021-02-25T00:00:00\", \"2021-02-26T00:00:00\", \"2021-03-01T00:00:00\", \"2021-03-02T00:00:00\", \"2021-03-03T00:00:00\", \"2021-03-04T00:00:00\", \"2021-03-05T00:00:00\", \"2021-03-08T00:00:00\", \"2021-03-09T00:00:00\", \"2021-03-10T00:00:00\", \"2021-03-11T00:00:00\", \"2021-03-12T00:00:00\", \"2021-03-15T00:00:00\", \"2021-03-16T00:00:00\", \"2021-03-17T00:00:00\", \"2021-03-18T00:00:00\", \"2021-03-19T00:00:00\", \"2021-03-22T00:00:00\", \"2021-03-23T00:00:00\", \"2021-03-24T00:00:00\", \"2021-03-25T00:00:00\", \"2021-03-26T00:00:00\", \"2021-03-29T00:00:00\", \"2021-03-30T00:00:00\", \"2021-03-31T00:00:00\", \"2021-04-01T00:00:00\", \"2021-04-05T00:00:00\", \"2021-04-06T00:00:00\", \"2021-04-07T00:00:00\", \"2021-04-08T00:00:00\", \"2021-04-09T00:00:00\", \"2021-04-12T00:00:00\", \"2021-04-13T00:00:00\", \"2021-04-14T00:00:00\", \"2021-04-15T00:00:00\", \"2021-04-16T00:00:00\", \"2021-04-19T00:00:00\", \"2021-04-20T00:00:00\", \"2021-04-21T00:00:00\", \"2021-04-22T00:00:00\", \"2021-04-23T00:00:00\", \"2021-04-26T00:00:00\", \"2021-04-27T00:00:00\", \"2021-04-28T00:00:00\", \"2021-04-29T00:00:00\", \"2021-04-30T00:00:00\", \"2021-05-03T00:00:00\", \"2021-05-04T00:00:00\", \"2021-05-05T00:00:00\", \"2021-05-06T00:00:00\", \"2021-05-07T00:00:00\", \"2021-05-10T00:00:00\", \"2021-05-11T00:00:00\", \"2021-05-12T00:00:00\", \"2021-05-13T00:00:00\", \"2021-05-14T00:00:00\", \"2021-05-17T00:00:00\", \"2021-05-18T00:00:00\", \"2021-05-19T00:00:00\", \"2021-05-20T00:00:00\", \"2021-05-21T00:00:00\", \"2021-05-24T00:00:00\", \"2021-05-25T00:00:00\", \"2021-05-26T00:00:00\", \"2021-05-27T00:00:00\", \"2021-05-28T00:00:00\", \"2021-06-01T00:00:00\", \"2021-06-02T00:00:00\", \"2021-06-03T00:00:00\", \"2021-06-04T00:00:00\", \"2021-06-07T00:00:00\", \"2021-06-08T00:00:00\", \"2021-06-09T00:00:00\", \"2021-06-10T00:00:00\", \"2021-06-11T00:00:00\", \"2021-06-14T00:00:00\", \"2021-06-15T00:00:00\", \"2021-06-16T00:00:00\", \"2021-06-17T00:00:00\", \"2021-06-18T00:00:00\", \"2021-06-21T00:00:00\", \"2021-06-22T00:00:00\", \"2021-06-23T00:00:00\", \"2021-06-24T00:00:00\", \"2021-06-25T00:00:00\", \"2021-06-28T00:00:00\", \"2021-06-29T00:00:00\", \"2021-06-30T00:00:00\", \"2021-07-01T00:00:00\", \"2021-07-02T00:00:00\", \"2021-07-06T00:00:00\", \"2021-07-07T00:00:00\", \"2021-07-08T00:00:00\", \"2021-07-09T00:00:00\", \"2021-07-12T00:00:00\", \"2021-07-13T00:00:00\", \"2021-07-14T00:00:00\", \"2021-07-15T00:00:00\", \"2021-07-16T00:00:00\", \"2021-07-19T00:00:00\", \"2021-07-20T00:00:00\", \"2021-07-21T00:00:00\", \"2021-07-22T00:00:00\", \"2021-07-23T00:00:00\", \"2021-07-26T00:00:00\", \"2021-07-27T00:00:00\", \"2021-07-28T00:00:00\", \"2021-07-29T00:00:00\", \"2021-07-30T00:00:00\", \"2021-08-02T00:00:00\", \"2021-08-03T00:00:00\", \"2021-08-04T00:00:00\", \"2021-08-05T00:00:00\", \"2021-08-06T00:00:00\", \"2021-08-09T00:00:00\", \"2021-08-10T00:00:00\", \"2021-08-11T00:00:00\", \"2021-08-12T00:00:00\", \"2021-08-13T00:00:00\", \"2021-08-16T00:00:00\", \"2021-08-17T00:00:00\", \"2021-08-18T00:00:00\", \"2021-08-19T00:00:00\", \"2021-08-20T00:00:00\", \"2021-08-23T00:00:00\", \"2021-08-24T00:00:00\", \"2021-08-25T00:00:00\", \"2021-08-26T00:00:00\", \"2021-08-27T00:00:00\", \"2021-08-30T00:00:00\", \"2021-08-31T00:00:00\", \"2021-09-01T00:00:00\", \"2021-09-02T00:00:00\", \"2021-09-03T00:00:00\", \"2021-09-07T00:00:00\", \"2021-09-08T00:00:00\", \"2021-09-09T00:00:00\", \"2021-09-10T00:00:00\", \"2021-09-13T00:00:00\", \"2021-09-14T00:00:00\", \"2021-09-15T00:00:00\", \"2021-09-16T00:00:00\", \"2021-09-17T00:00:00\", \"2021-09-20T00:00:00\", \"2021-09-21T00:00:00\", \"2021-09-22T00:00:00\", \"2021-09-23T00:00:00\", \"2021-09-24T00:00:00\", \"2021-09-27T00:00:00\", \"2021-09-28T00:00:00\", \"2021-09-29T00:00:00\", \"2021-09-30T00:00:00\", \"2021-10-01T00:00:00\", \"2021-10-04T00:00:00\", \"2021-10-05T00:00:00\", \"2021-10-06T00:00:00\", \"2021-10-07T00:00:00\", \"2021-10-08T00:00:00\", \"2021-10-11T00:00:00\", \"2021-10-12T00:00:00\", \"2021-10-13T00:00:00\", \"2021-10-14T00:00:00\", \"2021-10-15T00:00:00\", \"2021-10-18T00:00:00\", \"2021-10-19T00:00:00\", \"2021-10-20T00:00:00\", \"2021-10-21T00:00:00\", \"2021-10-22T00:00:00\", \"2021-10-25T00:00:00\", \"2021-10-26T00:00:00\", \"2021-10-27T00:00:00\", \"2021-10-28T00:00:00\", \"2021-10-29T00:00:00\", \"2021-11-01T00:00:00\", \"2021-11-02T00:00:00\", \"2021-11-03T00:00:00\", \"2021-11-04T00:00:00\", \"2021-11-05T00:00:00\", \"2021-11-08T00:00:00\", \"2021-11-09T00:00:00\", \"2021-11-10T00:00:00\", \"2021-11-11T00:00:00\", \"2021-11-12T00:00:00\", \"2021-11-15T00:00:00\", \"2021-11-16T00:00:00\", \"2021-11-17T00:00:00\", \"2021-11-18T00:00:00\", \"2021-11-19T00:00:00\", \"2021-11-22T00:00:00\", \"2021-11-23T00:00:00\", \"2021-11-24T00:00:00\", \"2021-11-26T00:00:00\", \"2021-11-29T00:00:00\", \"2021-11-30T00:00:00\", \"2021-12-01T00:00:00\", \"2021-12-02T00:00:00\", \"2021-12-03T00:00:00\", \"2021-12-06T00:00:00\", \"2021-12-07T00:00:00\", \"2021-12-08T00:00:00\", \"2021-12-09T00:00:00\", \"2021-12-10T00:00:00\", \"2021-12-13T00:00:00\", \"2021-12-14T00:00:00\", \"2021-12-15T00:00:00\", \"2021-12-16T00:00:00\", \"2021-12-17T00:00:00\", \"2021-12-20T00:00:00\", \"2021-12-21T00:00:00\", \"2021-12-22T00:00:00\", \"2021-12-23T00:00:00\", \"2021-12-27T00:00:00\", \"2021-12-28T00:00:00\", \"2021-12-29T00:00:00\", \"2021-12-30T00:00:00\", \"2021-12-31T00:00:00\", \"2022-01-03T00:00:00\", \"2022-01-04T00:00:00\", \"2022-01-05T00:00:00\", \"2022-01-06T00:00:00\", \"2022-01-07T00:00:00\", \"2022-01-10T00:00:00\", \"2022-01-11T00:00:00\"], \"xaxis\": \"x4\", \"y\": [2.9906050459336906, 3.052039438753661, 3.08468529007972, 3.1079354467951603, 3.097848766786663, 3.0442213456287917, 2.9298202063163705, 2.7994615414007535, 2.650938686860267, 2.4897432801394688, 2.312691034768495, 2.1070550692775156, 1.8762385597104823, 1.621348834384596, 1.3709286241367733, 1.140811231901378, 0.9475602805219301, 0.8107549373649049, 0.6945496973709537, 0.6147506483335388, 0.5485865394501375, 0.5115341200997557, 0.5501430284048572, 0.5409996910853947, 0.4778789997584101, 0.3201261623596255, 0.1536766356520396, -0.035215971275562724, -0.23058632592065223, -0.37026956552478885, -0.44917344333942616, -0.49279917386018657, -0.525740734932687, -0.5599095527535816, -0.6126805042572818, -0.6632160677432761, -0.7517452594001683, -0.8302922801956767, -0.8751938420496276, -0.8396157161153738, -0.7562582343452096, -0.6358674459517593, -0.47048274480005076, -0.33746292260606425, -0.19663073350627047, -0.070599858761428, 0.06986183995961837, 0.2143986792206424, 0.5919428112673664, 1.0618437325084733, 1.5469435793538326, 2.009902063923991, 2.4377909226566965, 2.8123614252050606, 3.1013022373555907, 3.2880320795879165, 3.3386916373423667, 3.321560415266105, 3.315574457449949, 3.2731145936335317, 3.3589125214538447, 3.4397159272765374, 3.5554100633943815, 3.611636580243287, 3.616060395421455, 3.616874918887401, 3.7258416919365147, 3.9150358800190697, 4.202523068712734, 4.4668214794318875, 4.566509832131949, 4.620939828986946, 4.643030566940405, 4.633111245092628, 4.65148192652934, 4.6616606672897465, 4.6343270018777405, 4.636254806060882, 4.636601520828662, 4.640049344731272, 4.633408149603007, 4.647564295717115, 4.694213134087182, 4.8766758456514285, 5.127572738222565, 5.417423890439719, 5.660752905827921, 5.905424649465716, 6.130395834215682, 6.284068102509803, 6.294251385930792, 6.238866827191891, 6.130590712839893, 6.063829266889829, 6.061907093003301, 6.081165770288058, 6.100585411667918, 6.062585202974006, 5.914387695572243, 5.6735404605572555, 5.339695581481948, 4.952892034647459, 4.534384664140831, 4.081763699824143, 3.6572848793955752, 3.259096212225836, 2.901361001699059, 2.6098395137467274, 2.3211304858953095, 2.1794816110571955, 2.1050235648092985, 2.1210839544051323, 2.117844221624099, 2.0101010950623293, 1.8192572741268558, 1.52794052414119, 1.229472208992175, 0.9176674023264674, 0.6621733275551396, 0.4822567641643744, 0.39314274997286025, 0.35275165454197605, 0.1762125357366474, -0.08143535169344754, -0.42409195618160206, -0.7254773850365523, -0.951633376745449, -1.1472450283549795, -1.2966435693770726, -1.403098762109418, -1.3948850827908719, -1.321303872380361, -1.1709023277612793, -0.9608146747178495, -0.6974107827371633, -0.46338330148625856, -0.3109916567386606, -0.24512750958704946, -0.21804340944827874, -0.33457070034406877, -0.549236667984879, -0.757706947866399, -1.0796669593865342, -1.3793932005334044, -1.5906469283123421, -1.7930130219529845, -2.0778598702839113, -2.4966847605190496, -2.9266876447738106, -3.4598864233766617, -3.8912627416368104, -4.251906095231041, -4.422353989383957, -4.464787271175118, -4.3640074285572235, -4.159866530278948, -3.892001450722362, -3.7000902460772016, -3.5473612688678906, -3.3797046773152903, -3.2551507901020913, -3.1913440698216666, -3.1605668276936534, -3.0952834020002915, -3.0192581122328086, -2.9643959291736253, -2.861482006643498, -2.6323943583323595, -2.3161931364483057, -1.9619525186707283, -1.5775461034331277, -1.1733975251613793, -0.8240476849021736, -0.613069666046719, -0.4668932553072434, -0.40941335908045945, -0.3060625279088946, -0.20197448072888055, -0.13018113724909453, -0.13442676980446777, -0.13267509792558282, -0.18869737580437354, -0.17258430006256717, -0.04310546439831729, 0.1451554419170595, 0.3267153539911911, 0.5089695381785028, 0.6089903186120279, 0.5804786169261704, 0.4637590964069649, 0.28038122430094836, 0.06595210984786676, -0.12031328429564803, -0.3561070826243936, -0.5836066304083029, -0.8622127061539018, -1.1923382296368805, -1.4806463790583102, -1.722022317858162, -1.9226688799883704, -2.0358210821491403, -2.0320291456974497, -1.969332478557433, -1.8531973985058812, -1.7003269293449002, -1.53479197604444, -1.3773476915707377, -1.166590088077431, -0.9159684844146541, -0.632106390180751, -0.39365870000449865, -0.15060605923587894, 0.06857591726677101, 0.25668270536871846, 0.3907751864854595, 0.5285624806847835, 0.655611200177583, 0.7650625932306708, 0.8354217565103914, 0.8619654212782473, 0.9559694630883896, 1.0784488418313851, 1.1398575593232696, 1.1968978404537993, 1.2588836032012116, 1.3633206343767987, 1.4604155465542594, 1.5961824979363433, 1.8126013818508881, 2.1449837761758026, 2.4825859396171186, 2.8439784182908925, 3.1886332001751536, 3.3900890535274413, 3.4249505679406083, 3.374797235288943, 3.258158854033336, 3.080668437970772, 2.8478556128247536, 2.537739506567637, 2.1724131799445083, 1.7978498399183724, 1.4612738690137876, 1.230308086286965, 1.0930282349398603, 1.041350743029803, 1.0050530647572888, 0.9071695749656707, 0.894045072126573, 1.071659228893594, 1.3983932054267312, 1.784556632666496, 2.1434536448394472, 2.4323646470167946, 2.7580311260424573, 3.070773258599118, 3.332397424935488, 3.502221660568684, 3.6194802114082827, 3.657964975937042, 3.6475703096883887, 3.535112110899779, 3.356520476242796, 3.116970162246057, 2.863810797261154, 2.636945298794821, 2.5800211666157513, 2.619856132010489, 2.714831193431376, 2.798420089771034, 2.947075239181401, 3.102857675842204, 3.256165066054077, 3.37459419157149, 3.4519976767770406, 3.520798819754135, 3.553271948558871, 3.53020006335036, 3.4791978732193654, 3.419632752885874, 3.349390951540795, 3.2774398991674882, 3.2354998758611306, 3.199057726300055, 3.1053187526902892, 2.9122386432667624, 2.681277677854281, 2.473572872895822, 2.3236663793542736, 2.2291417169835612, 2.20797290149602, 2.091491866008772, 1.8722569159806641, 1.6390797834636717, 1.4196914177800637, 1.1557861653934072, 0.9350077296361795, 0.783728360144201, 0.7496410527956175, 0.760367791585725, 0.7798164190022728, 0.8132626111362183, 0.943453502774879, 1.1916773835602041, 1.5195325344057946, 1.928341387165617, 2.3596718712653346, 2.779203159880331, 3.216778599094783, 3.6170459212195643, 4.00809861545871, 4.309017333670548, 4.670957173899184, 5.041364630529161, 5.372770113397578, 5.736105754040892, 6.143334111372786, 6.585322593498966, 7.115739385810981, 7.663460851655599, 8.327416461444118, 8.962417159666007, 9.412118625586917, 9.874395486386462, 10.377906535708115, 10.880667157037513, 11.391631700542444, 11.809678138566701, 12.19069409754539, 12.5055276557473, 12.728448201816486, 12.848595664004218, 13.025097396278747, 13.100659514446543, 13.224798389464544, 13.26886565522725, 13.081657506236382, 12.722468442769111, 12.219152046671468, 11.565800667815603, 10.992225056624127, 10.488662817964455, 9.87623898619864, 9.239638493152981, 8.4779865406696, 7.663185437243779, 6.966677691345016, 6.078565831820205, 5.108805835457893, 4.06340458097231, 3.180144568067066, 2.574294762416243, 2.185922021232613, 2.0556525984241087, 2.049255529191622, 2.073884580095077, 2.0524324006708707, 1.9688688254939994, 1.9936870121945962, 1.9788025095055826, 1.72422645440045, 1.3668031588776435, 0.7855189853830831, 0.09946495272778133, -0.5045193444600194], \"yaxis\": \"y4\"}],\n",
              "                        {\"annotations\": [{\"font\": {\"size\": 12}, \"showarrow\": false, \"text\": \"<b><a href=\\\"https://in.tradingview.com/chart/66XmQfYy/?symbol=XLNX\\\">XLNX 2022-01-11</a> </b> <a href=\\\"https://seekingalpha.com/symbol/XLNX\\\"> Seeking Alpha </a> <a href=\\\"https://news.google.com/search?for=XLNX+stock when:7d&hl=en-US&gl=US&ceid=US%3Aen\\\"> Google News </a> Earning:2022-01-25 16:20:00<br><b>Close Price:</b>200.5 <b>ATH:</b>233.1 <b>Discount:</b>32.6 (16.3%)<br><b>Support:</b>193.1 (-3.5%) <b>Close Price:</b>200.5 <b>Resistance:</b>203.1 (1.5%) <br><b>Support -15%:</b>164.14 (-18.0%) <b>Close Price:</b>200.5 <b>Resistance +15%:</b>233.56 (16.5%) \", \"x\": 0.5, \"xanchor\": \"center\", \"xref\": \"paper\", \"y\": 1.0, \"yanchor\": \"bottom\", \"yref\": \"paper\"}], \"dragmode\": \"pan\", \"height\": 1400, \"margin\": {\"b\": 20, \"l\": 20, \"r\": 20, \"t\": 100}, \"showlegend\": true, \"template\": {\"data\": {\"bar\": [{\"error_x\": {\"color\": \"#2a3f5f\"}, \"error_y\": {\"color\": \"#2a3f5f\"}, \"marker\": {\"line\": {\"color\": \"#E5ECF6\", \"width\": 0.5}}, \"type\": \"bar\"}], \"barpolar\": [{\"marker\": {\"line\": {\"color\": \"#E5ECF6\", \"width\": 0.5}}, \"type\": \"barpolar\"}], \"carpet\": [{\"aaxis\": {\"endlinecolor\": \"#2a3f5f\", \"gridcolor\": \"white\", \"linecolor\": \"white\", \"minorgridcolor\": \"white\", \"startlinecolor\": \"#2a3f5f\"}, \"baxis\": {\"endlinecolor\": \"#2a3f5f\", \"gridcolor\": \"white\", \"linecolor\": \"white\", \"minorgridcolor\": \"white\", \"startlinecolor\": \"#2a3f5f\"}, \"type\": \"carpet\"}], \"choropleth\": [{\"colorbar\": {\"outlinewidth\": 0, \"ticks\": \"\"}, \"type\": \"choropleth\"}], \"contour\": [{\"colorbar\": {\"outlinewidth\": 0, \"ticks\": \"\"}, \"colorscale\": [[0.0, \"#0d0887\"], [0.1111111111111111, \"#46039f\"], [0.2222222222222222, \"#7201a8\"], [0.3333333333333333, \"#9c179e\"], [0.4444444444444444, \"#bd3786\"], [0.5555555555555556, \"#d8576b\"], [0.6666666666666666, \"#ed7953\"], [0.7777777777777778, \"#fb9f3a\"], [0.8888888888888888, \"#fdca26\"], [1.0, \"#f0f921\"]], \"type\": \"contour\"}], \"contourcarpet\": [{\"colorbar\": {\"outlinewidth\": 0, \"ticks\": \"\"}, \"type\": \"contourcarpet\"}], \"heatmap\": [{\"colorbar\": {\"outlinewidth\": 0, \"ticks\": \"\"}, \"colorscale\": [[0.0, \"#0d0887\"], [0.1111111111111111, \"#46039f\"], [0.2222222222222222, \"#7201a8\"], [0.3333333333333333, \"#9c179e\"], [0.4444444444444444, \"#bd3786\"], [0.5555555555555556, \"#d8576b\"], [0.6666666666666666, \"#ed7953\"], [0.7777777777777778, \"#fb9f3a\"], [0.8888888888888888, \"#fdca26\"], [1.0, \"#f0f921\"]], \"type\": \"heatmap\"}], \"heatmapgl\": [{\"colorbar\": {\"outlinewidth\": 0, \"ticks\": \"\"}, \"colorscale\": [[0.0, \"#0d0887\"], [0.1111111111111111, \"#46039f\"], [0.2222222222222222, \"#7201a8\"], [0.3333333333333333, \"#9c179e\"], [0.4444444444444444, \"#bd3786\"], [0.5555555555555556, \"#d8576b\"], [0.6666666666666666, \"#ed7953\"], [0.7777777777777778, \"#fb9f3a\"], [0.8888888888888888, \"#fdca26\"], [1.0, \"#f0f921\"]], \"type\": \"heatmapgl\"}], \"histogram\": [{\"marker\": {\"colorbar\": {\"outlinewidth\": 0, \"ticks\": \"\"}}, \"type\": \"histogram\"}], \"histogram2d\": [{\"colorbar\": {\"outlinewidth\": 0, \"ticks\": \"\"}, \"colorscale\": [[0.0, \"#0d0887\"], [0.1111111111111111, \"#46039f\"], [0.2222222222222222, \"#7201a8\"], [0.3333333333333333, \"#9c179e\"], [0.4444444444444444, \"#bd3786\"], [0.5555555555555556, \"#d8576b\"], [0.6666666666666666, \"#ed7953\"], [0.7777777777777778, \"#fb9f3a\"], [0.8888888888888888, \"#fdca26\"], [1.0, \"#f0f921\"]], \"type\": \"histogram2d\"}], \"histogram2dcontour\": [{\"colorbar\": {\"outlinewidth\": 0, \"ticks\": \"\"}, \"colorscale\": [[0.0, \"#0d0887\"], [0.1111111111111111, \"#46039f\"], [0.2222222222222222, \"#7201a8\"], [0.3333333333333333, \"#9c179e\"], [0.4444444444444444, \"#bd3786\"], [0.5555555555555556, \"#d8576b\"], [0.6666666666666666, \"#ed7953\"], [0.7777777777777778, \"#fb9f3a\"], [0.8888888888888888, \"#fdca26\"], [1.0, \"#f0f921\"]], \"type\": \"histogram2dcontour\"}], \"mesh3d\": [{\"colorbar\": {\"outlinewidth\": 0, \"ticks\": \"\"}, \"type\": \"mesh3d\"}], \"parcoords\": [{\"line\": {\"colorbar\": {\"outlinewidth\": 0, \"ticks\": \"\"}}, \"type\": \"parcoords\"}], \"pie\": [{\"automargin\": true, \"type\": \"pie\"}], \"scatter\": [{\"marker\": {\"colorbar\": {\"outlinewidth\": 0, \"ticks\": \"\"}}, \"type\": \"scatter\"}], \"scatter3d\": [{\"line\": {\"colorbar\": {\"outlinewidth\": 0, \"ticks\": \"\"}}, \"marker\": {\"colorbar\": {\"outlinewidth\": 0, \"ticks\": \"\"}}, \"type\": \"scatter3d\"}], \"scattercarpet\": [{\"marker\": {\"colorbar\": {\"outlinewidth\": 0, \"ticks\": \"\"}}, \"type\": \"scattercarpet\"}], \"scattergeo\": [{\"marker\": {\"colorbar\": {\"outlinewidth\": 0, \"ticks\": \"\"}}, \"type\": \"scattergeo\"}], \"scattergl\": [{\"marker\": {\"colorbar\": {\"outlinewidth\": 0, \"ticks\": \"\"}}, \"type\": \"scattergl\"}], \"scattermapbox\": [{\"marker\": {\"colorbar\": {\"outlinewidth\": 0, \"ticks\": \"\"}}, \"type\": \"scattermapbox\"}], \"scatterpolar\": [{\"marker\": {\"colorbar\": {\"outlinewidth\": 0, \"ticks\": \"\"}}, \"type\": \"scatterpolar\"}], \"scatterpolargl\": [{\"marker\": {\"colorbar\": {\"outlinewidth\": 0, \"ticks\": \"\"}}, \"type\": \"scatterpolargl\"}], \"scatterternary\": [{\"marker\": {\"colorbar\": {\"outlinewidth\": 0, \"ticks\": \"\"}}, \"type\": \"scatterternary\"}], \"surface\": [{\"colorbar\": {\"outlinewidth\": 0, \"ticks\": \"\"}, \"colorscale\": [[0.0, \"#0d0887\"], [0.1111111111111111, \"#46039f\"], [0.2222222222222222, \"#7201a8\"], [0.3333333333333333, \"#9c179e\"], [0.4444444444444444, \"#bd3786\"], [0.5555555555555556, \"#d8576b\"], [0.6666666666666666, \"#ed7953\"], [0.7777777777777778, \"#fb9f3a\"], [0.8888888888888888, \"#fdca26\"], [1.0, \"#f0f921\"]], \"type\": \"surface\"}], \"table\": [{\"cells\": {\"fill\": {\"color\": \"#EBF0F8\"}, \"line\": {\"color\": \"white\"}}, \"header\": {\"fill\": {\"color\": \"#C8D4E3\"}, \"line\": {\"color\": \"white\"}}, \"type\": \"table\"}]}, \"layout\": {\"annotationdefaults\": {\"arrowcolor\": \"#2a3f5f\", \"arrowhead\": 0, \"arrowwidth\": 1}, \"coloraxis\": {\"colorbar\": {\"outlinewidth\": 0, \"ticks\": \"\"}}, \"colorscale\": {\"diverging\": [[0, \"#8e0152\"], [0.1, \"#c51b7d\"], [0.2, \"#de77ae\"], [0.3, \"#f1b6da\"], [0.4, \"#fde0ef\"], [0.5, \"#f7f7f7\"], [0.6, \"#e6f5d0\"], [0.7, \"#b8e186\"], [0.8, \"#7fbc41\"], [0.9, \"#4d9221\"], [1, \"#276419\"]], \"sequential\": [[0.0, \"#0d0887\"], [0.1111111111111111, \"#46039f\"], [0.2222222222222222, \"#7201a8\"], [0.3333333333333333, \"#9c179e\"], [0.4444444444444444, \"#bd3786\"], [0.5555555555555556, \"#d8576b\"], [0.6666666666666666, \"#ed7953\"], [0.7777777777777778, \"#fb9f3a\"], [0.8888888888888888, \"#fdca26\"], [1.0, \"#f0f921\"]], \"sequentialminus\": [[0.0, \"#0d0887\"], [0.1111111111111111, \"#46039f\"], [0.2222222222222222, \"#7201a8\"], [0.3333333333333333, \"#9c179e\"], [0.4444444444444444, \"#bd3786\"], [0.5555555555555556, \"#d8576b\"], [0.6666666666666666, \"#ed7953\"], [0.7777777777777778, \"#fb9f3a\"], [0.8888888888888888, \"#fdca26\"], [1.0, \"#f0f921\"]]}, \"colorway\": [\"#636efa\", \"#EF553B\", \"#00cc96\", \"#ab63fa\", \"#FFA15A\", \"#19d3f3\", \"#FF6692\", \"#B6E880\", \"#FF97FF\", \"#FECB52\"], \"font\": {\"color\": \"#2a3f5f\"}, \"geo\": {\"bgcolor\": \"white\", \"lakecolor\": \"white\", \"landcolor\": \"#E5ECF6\", \"showlakes\": true, \"showland\": true, \"subunitcolor\": \"white\"}, \"hoverlabel\": {\"align\": \"left\"}, \"hovermode\": \"closest\", \"mapbox\": {\"style\": \"light\"}, \"paper_bgcolor\": \"white\", \"plot_bgcolor\": \"#E5ECF6\", \"polar\": {\"angularaxis\": {\"gridcolor\": \"white\", \"linecolor\": \"white\", \"ticks\": \"\"}, \"bgcolor\": \"#E5ECF6\", \"radialaxis\": {\"gridcolor\": \"white\", \"linecolor\": \"white\", \"ticks\": \"\"}}, \"scene\": {\"xaxis\": {\"backgroundcolor\": \"#E5ECF6\", \"gridcolor\": \"white\", \"gridwidth\": 2, \"linecolor\": \"white\", \"showbackground\": true, \"ticks\": \"\", \"zerolinecolor\": \"white\"}, \"yaxis\": {\"backgroundcolor\": \"#E5ECF6\", \"gridcolor\": \"white\", \"gridwidth\": 2, \"linecolor\": \"white\", \"showbackground\": true, \"ticks\": \"\", \"zerolinecolor\": \"white\"}, \"zaxis\": {\"backgroundcolor\": \"#E5ECF6\", \"gridcolor\": \"white\", \"gridwidth\": 2, \"linecolor\": \"white\", \"showbackground\": true, \"ticks\": \"\", \"zerolinecolor\": \"white\"}}, \"shapedefaults\": {\"line\": {\"color\": \"#2a3f5f\"}}, \"ternary\": {\"aaxis\": {\"gridcolor\": \"white\", \"linecolor\": \"white\", \"ticks\": \"\"}, \"baxis\": {\"gridcolor\": \"white\", \"linecolor\": \"white\", \"ticks\": \"\"}, \"bgcolor\": \"#E5ECF6\", \"caxis\": {\"gridcolor\": \"white\", \"linecolor\": \"white\", \"ticks\": \"\"}}, \"title\": {\"x\": 0.05}, \"xaxis\": {\"automargin\": true, \"gridcolor\": \"white\", \"linecolor\": \"white\", \"ticks\": \"\", \"title\": {\"standoff\": 15}, \"zerolinecolor\": \"white\", \"zerolinewidth\": 2}, \"yaxis\": {\"automargin\": true, \"gridcolor\": \"white\", \"linecolor\": \"white\", \"ticks\": \"\", \"title\": {\"standoff\": 15}, \"zerolinecolor\": \"white\", \"zerolinewidth\": 2}}}, \"width\": 1200, \"xaxis\": {\"anchor\": \"y\", \"domain\": [0.0, 1.0], \"matches\": \"x4\", \"range\": [\"2021-06-01\", \"2022-01-31\"], \"rangeslider\": {\"visible\": false}, \"showspikes\": true, \"showticklabels\": false, \"spikedash\": \"dash\", \"spikemode\": \"across\", \"spikesnap\": \"cursor\", \"type\": \"date\"}, \"xaxis2\": {\"anchor\": \"y2\", \"domain\": [0.0, 1.0], \"matches\": \"x4\", \"range\": [\"2021-06-01\", \"2022-01-31\"], \"showspikes\": true, \"showticklabels\": false, \"spikedash\": \"dash\", \"spikemode\": \"across\", \"spikesnap\": \"cursor\", \"type\": \"date\"}, \"xaxis3\": {\"anchor\": \"y3\", \"domain\": [0.0, 1.0], \"matches\": \"x4\", \"range\": [\"2021-06-01\", \"2022-01-31\"], \"showspikes\": true, \"showticklabels\": false, \"spikedash\": \"dash\", \"spikemode\": \"across\", \"spikesnap\": \"cursor\", \"type\": \"date\"}, \"xaxis4\": {\"anchor\": \"y4\", \"domain\": [0.0, 1.0], \"range\": [\"2021-06-01\", \"2022-01-31\"], \"showspikes\": true, \"spikedash\": \"dash\", \"spikemode\": \"across\", \"spikesnap\": \"cursor\", \"type\": \"date\"}, \"yaxis\": {\"anchor\": \"x\", \"domain\": [0.7116564417177915, 1.0], \"range\": [124.2300033569336, 239.7899932861328], \"showspikes\": true, \"spikedash\": \"dash\", \"spikemode\": \"across\", \"spikesnap\": \"cursor\"}, \"yaxis2\": {\"anchor\": \"x2\", \"domain\": [0.6515991820040901, 0.6996564417177915], \"showspikes\": true, \"spikedash\": \"dash\", \"spikemode\": \"across\", \"spikesnap\": \"cursor\"}, \"yaxis3\": {\"anchor\": \"x3\", \"domain\": [0.5434846625766871, 0.63959918200409], \"showspikes\": true, \"spikedash\": \"dash\", \"spikemode\": \"across\", \"spikesnap\": \"cursor\"}, \"yaxis4\": {\"anchor\": \"x4\", \"domain\": [0.27150920245398774, 0.3676237218813906], \"showspikes\": true, \"spikedash\": \"dash\", \"spikemode\": \"across\", \"spikesnap\": \"cursor\"}},\n",
              "                        {\"responsive\": true}\n",
              "                    ).then(function(){\n",
              "                            \n",
              "var gd = document.getElementById('f47d1071-b14e-4f35-a6d0-55ff810bae7c');\n",
              "var x = new MutationObserver(function (mutations, observer) {{\n",
              "        var display = window.getComputedStyle(gd).display;\n",
              "        if (!display || display === 'none') {{\n",
              "            console.log([gd, 'removed!']);\n",
              "            Plotly.purge(gd);\n",
              "            observer.disconnect();\n",
              "        }}\n",
              "}});\n",
              "\n",
              "// Listen for the removal of the full notebook cells\n",
              "var notebookContainer = gd.closest('#notebook-container');\n",
              "if (notebookContainer) {{\n",
              "    x.observe(notebookContainer, {childList: true});\n",
              "}}\n",
              "\n",
              "// Listen for the clearing of the current output cell\n",
              "var outputEl = gd.closest('.output');\n",
              "if (outputEl) {{\n",
              "    x.observe(outputEl, {childList: true});\n",
              "}}\n",
              "\n",
              "                        })\n",
              "                };\n",
              "                \n",
              "            </script>\n",
              "        </div>\n",
              "</body>\n",
              "</html>"
            ]
          },
          "metadata": {}
        },
        {
          "output_type": "stream",
          "name": "stdout",
          "text": [
            "/content/drive/MyDrive/models/charts/2022-01-11/XLNX.html\n"
          ]
        }
      ]
    },
    {
      "cell_type": "code",
      "source": [
        "def save_charts(symbols, predict):\n",
        "  error_log = []\n",
        "  for symbol in symbols:    \n",
        "    try:      \n",
        "        ticker = yf.Ticker(symbol)\n",
        "        df = get_stock_price(ticker,\"2019-01-01\")\n",
        "        #print(list(df.columns))\n",
        "        macd, soch, rsi = indicators(df)\n",
        "        df['RSI'] = rsi.rsi().to_numpy()\n",
        "        df['MACD_DIFF'] = macd.macd_diff().to_numpy()\n",
        "        df['MACD'] = macd.macd().to_numpy()\n",
        "        df['MACD_SIGNAL'] = macd.macd_signal().to_numpy()\n",
        "        if predict is True:\n",
        "          indicators_test_prediction, indicators_prediction = get_prediction_data(df,ticker)\n",
        "          fig, chartPath, last_date = get_chart(ticker, df, indicators_test_prediction, indicators_prediction)\n",
        "        else:\n",
        "          fig, chartPath, last_date = get_chart(ticker, df, None, None)\n",
        "        sftp(username,password,chartPath,\"/home/nexys/vagrant/www/nexys.hu/stonks/\"+ticker.ticker + \"_\"+ str(last_date) + \".html\")\n",
        "    except Exception as e:\n",
        "      print('Error ticker:' + symbol,e)\n",
        "      error_log.append(symbol)\n",
        "  if len(error_log) > 0:\n",
        "    print('Errors:', error_log)\n",
        "  return None"
      ],
      "metadata": {
        "id": "6N7QKxi9Nqx8"
      },
      "execution_count": 16,
      "outputs": []
    },
    {
      "cell_type": "code",
      "source": [
        "symbols = ['ABBV','AFRM','AMD','AMZN','APPS','ASTR','ATVI','BNGO',\n",
        "           'CAT','CCL','CHWY','COST','CRM',\n",
        "           'DIA','DIS','DKNG','ETSY','FFND','HOG','HUT','IWM','JETS','LOGI',\n",
        "           'LVS','MSFT','MU','NCLH','NFLX','NKE','NVDA','PLTR','PYPL','QQQ',\n",
        "           'RBLX','RKLB','SNAP','SOFI','SPY','SQ','TSLA','TWTR','U','UBER']\n",
        "\n",
        "symbols1 = ['AAPL','ARKG','ARKK','ARKQ',\n",
        "           'BA','CHPT','COIN','DDOG',\n",
        "           'DOCU','EA','FB','GOOGL']\n",
        "\n",
        "symbols2 = ['MA','MP',\n",
        "           'MRNA','MSTR','NNDM']\n",
        "\n",
        "symbols3 = ['PFE','PINS',\n",
        "           'ROKU','SBUX','SHOP','SOXL','SOXX']\n",
        "\n",
        "symbols4 = ['TDOC','TEN','TGT','TLT','TTD','UAA',\n",
        "           'V','VTI','WBA','VALE','WMT','WYNN','XLE','XLF','XLNX','ZM']\n",
        "\n",
        "symbols5 = ['U','PENN','QCOM','LCID','AAL']\n",
        "symbols6 = ['AMD','NVDA','^VIX']\n",
        "#save_charts(symbols,True)\n",
        "#save_charts(symbols1,True)\n",
        "#save_charts(symbols2,True)\n",
        "#save_charts(symbols3,True)\n",
        "#save_charts(symbols4,True)\n",
        "#save_charts(symbols5,True)\n",
        "#save_charts(symbols6,True)"
      ],
      "metadata": {
        "id": "CMcLhG4wzKd6",
        "colab": {
          "base_uri": "https://localhost:8080/"
        },
        "outputId": "5c41d62d-59b4-4dbf-d5eb-7ba968e6df4d"
      },
      "execution_count": 17,
      "outputs": [
        {
          "output_type": "stream",
          "name": "stdout",
          "text": [
            "\r[*********************100%***********************]  1 of 1 completed\n",
            "Get Stock Price MA done.\n",
            "Get prediction data MA done.\n",
            "Get options MA done.\n",
            "Value    2022-01-27 13:30:00\n",
            "Name: Earnings Date, dtype: object\n",
            "Get calendar MA done.\n",
            "Get news MA done.\n"
          ]
        },
        {
          "output_type": "stream",
          "name": "stderr",
          "text": [
            "/usr/local/lib/python3.7/dist-packages/ipykernel_launcher.py:227: RuntimeWarning:\n",
            "\n",
            "divide by zero encountered in double_scalars\n",
            "\n",
            "/usr/local/lib/python3.7/dist-packages/ipykernel_launcher.py:228: RuntimeWarning:\n",
            "\n",
            "divide by zero encountered in double_scalars\n",
            "\n"
          ]
        },
        {
          "output_type": "stream",
          "name": "stdout",
          "text": [
            "Chart saved: /content/drive/MyDrive/models/charts/2022-01-11/MA.html\n",
            "Get chart MA done.\n",
            "[*********************100%***********************]  1 of 1 completed\n",
            "Get Stock Price MP done.\n",
            "Get prediction data MP done.\n",
            "Get options MP done.\n",
            "0    2022-03-16 20:00:00\n",
            "1    2022-03-21 20:00:00\n",
            "Name: Earnings Date, dtype: object\n",
            "Get calendar MP done.\n",
            "Get news MP done.\n"
          ]
        },
        {
          "output_type": "stream",
          "name": "stderr",
          "text": [
            "/usr/local/lib/python3.7/dist-packages/ipykernel_launcher.py:227: RuntimeWarning:\n",
            "\n",
            "divide by zero encountered in double_scalars\n",
            "\n",
            "/usr/local/lib/python3.7/dist-packages/ipykernel_launcher.py:228: RuntimeWarning:\n",
            "\n",
            "divide by zero encountered in double_scalars\n",
            "\n"
          ]
        },
        {
          "output_type": "stream",
          "name": "stdout",
          "text": [
            "Chart saved: /content/drive/MyDrive/models/charts/2022-01-11/MP.html\n",
            "Get chart MP done.\n",
            "[*********************100%***********************]  1 of 1 completed\n",
            "Get Stock Price MRNA done.\n",
            "Get prediction data MRNA done.\n",
            "Get options MRNA done.\n",
            "0    2022-02-23 13:30:00\n",
            "1    2022-02-28 13:30:00\n",
            "Name: Earnings Date, dtype: object\n",
            "Get calendar MRNA done.\n",
            "Get news MRNA done.\n"
          ]
        },
        {
          "output_type": "stream",
          "name": "stderr",
          "text": [
            "/usr/local/lib/python3.7/dist-packages/ipykernel_launcher.py:227: RuntimeWarning:\n",
            "\n",
            "divide by zero encountered in double_scalars\n",
            "\n",
            "/usr/local/lib/python3.7/dist-packages/ipykernel_launcher.py:228: RuntimeWarning:\n",
            "\n",
            "divide by zero encountered in double_scalars\n",
            "\n"
          ]
        },
        {
          "output_type": "stream",
          "name": "stdout",
          "text": [
            "Chart saved: /content/drive/MyDrive/models/charts/2022-01-11/MRNA.html\n",
            "Get chart MRNA done.\n",
            "[*********************100%***********************]  1 of 1 completed\n",
            "Get Stock Price MSTR done.\n",
            "Get prediction data MSTR done.\n",
            "Get options MSTR done.\n",
            "0    2022-01-26 10:59:00\n",
            "1    2022-01-31 12:00:00\n",
            "Name: Earnings Date, dtype: object\n",
            "Get calendar MSTR done.\n",
            "Get news MSTR done.\n"
          ]
        },
        {
          "output_type": "stream",
          "name": "stderr",
          "text": [
            "/usr/local/lib/python3.7/dist-packages/ipykernel_launcher.py:227: RuntimeWarning:\n",
            "\n",
            "divide by zero encountered in double_scalars\n",
            "\n",
            "/usr/local/lib/python3.7/dist-packages/ipykernel_launcher.py:228: RuntimeWarning:\n",
            "\n",
            "divide by zero encountered in double_scalars\n",
            "\n"
          ]
        },
        {
          "output_type": "stream",
          "name": "stdout",
          "text": [
            "Chart saved: /content/drive/MyDrive/models/charts/2022-01-11/MSTR.html\n",
            "Get chart MSTR done.\n",
            "[*********************100%***********************]  1 of 1 completed\n",
            "Get Stock Price NNDM done.\n",
            "Get prediction data NNDM done.\n",
            "Get options NNDM done.\n",
            "0   2022-03-09 13:30:00\n",
            "1   2022-03-14 13:30:00\n",
            "Name: Earnings Date, dtype: datetime64[ns]\n",
            "Get calendar NNDM done.\n",
            "Get news NNDM done.\n"
          ]
        },
        {
          "output_type": "stream",
          "name": "stderr",
          "text": [
            "/usr/local/lib/python3.7/dist-packages/ipykernel_launcher.py:227: RuntimeWarning:\n",
            "\n",
            "divide by zero encountered in double_scalars\n",
            "\n",
            "/usr/local/lib/python3.7/dist-packages/ipykernel_launcher.py:228: RuntimeWarning:\n",
            "\n",
            "divide by zero encountered in double_scalars\n",
            "\n"
          ]
        },
        {
          "output_type": "stream",
          "name": "stdout",
          "text": [
            "Chart saved: /content/drive/MyDrive/models/charts/2022-01-11/NNDM.html\n",
            "Get chart NNDM done.\n",
            "[*********************100%***********************]  1 of 1 completed\n",
            "Get Stock Price PFE done.\n",
            "Get prediction data PFE done.\n",
            "Get options PFE done.\n",
            "Value    2022-02-08 13:30:00\n",
            "Name: Earnings Date, dtype: object\n",
            "Get calendar PFE done.\n",
            "Get news PFE done.\n"
          ]
        },
        {
          "output_type": "stream",
          "name": "stderr",
          "text": [
            "/usr/local/lib/python3.7/dist-packages/ipykernel_launcher.py:227: RuntimeWarning:\n",
            "\n",
            "divide by zero encountered in double_scalars\n",
            "\n",
            "/usr/local/lib/python3.7/dist-packages/ipykernel_launcher.py:228: RuntimeWarning:\n",
            "\n",
            "divide by zero encountered in double_scalars\n",
            "\n"
          ]
        },
        {
          "output_type": "stream",
          "name": "stdout",
          "text": [
            "Chart saved: /content/drive/MyDrive/models/charts/2022-01-11/PFE.html\n",
            "Get chart PFE done.\n",
            "[*********************100%***********************]  1 of 1 completed\n",
            "Get Stock Price PINS done.\n",
            "Get prediction data PINS done.\n",
            "Get options PINS done.\n",
            "0    2022-02-02 10:59:00\n",
            "1    2022-02-07 12:00:00\n",
            "Name: Earnings Date, dtype: object\n",
            "Get calendar PINS done.\n",
            "Get news PINS done.\n"
          ]
        },
        {
          "output_type": "stream",
          "name": "stderr",
          "text": [
            "/usr/local/lib/python3.7/dist-packages/ipykernel_launcher.py:227: RuntimeWarning:\n",
            "\n",
            "divide by zero encountered in double_scalars\n",
            "\n",
            "/usr/local/lib/python3.7/dist-packages/ipykernel_launcher.py:228: RuntimeWarning:\n",
            "\n",
            "divide by zero encountered in double_scalars\n",
            "\n"
          ]
        },
        {
          "output_type": "stream",
          "name": "stdout",
          "text": [
            "Chart saved: /content/drive/MyDrive/models/charts/2022-01-11/PINS.html\n",
            "Get chart PINS done.\n",
            "[*********************100%***********************]  1 of 1 completed\n",
            "Get Stock Price ROKU done.\n",
            "Get prediction data ROKU done.\n",
            "Get options ROKU done.\n",
            "0    2022-02-16 21:00:00\n",
            "1    2022-02-21 21:00:00\n",
            "Name: Earnings Date, dtype: object\n",
            "Get calendar ROKU done.\n",
            "Get news ROKU done.\n"
          ]
        },
        {
          "output_type": "stream",
          "name": "stderr",
          "text": [
            "/usr/local/lib/python3.7/dist-packages/ipykernel_launcher.py:227: RuntimeWarning:\n",
            "\n",
            "divide by zero encountered in double_scalars\n",
            "\n",
            "/usr/local/lib/python3.7/dist-packages/ipykernel_launcher.py:228: RuntimeWarning:\n",
            "\n",
            "divide by zero encountered in double_scalars\n",
            "\n"
          ]
        },
        {
          "output_type": "stream",
          "name": "stdout",
          "text": [
            "Chart saved: /content/drive/MyDrive/models/charts/2022-01-11/ROKU.html\n",
            "Get chart ROKU done.\n",
            "[*********************100%***********************]  1 of 1 completed\n",
            "Get Stock Price SBUX done.\n",
            "Get prediction data SBUX done.\n",
            "Get options SBUX done.\n",
            "Value    2022-02-01 10:59:00\n",
            "Name: Earnings Date, dtype: object\n",
            "Get calendar SBUX done.\n",
            "Get news SBUX done.\n"
          ]
        },
        {
          "output_type": "stream",
          "name": "stderr",
          "text": [
            "/usr/local/lib/python3.7/dist-packages/ipykernel_launcher.py:227: RuntimeWarning:\n",
            "\n",
            "divide by zero encountered in double_scalars\n",
            "\n",
            "/usr/local/lib/python3.7/dist-packages/ipykernel_launcher.py:228: RuntimeWarning:\n",
            "\n",
            "divide by zero encountered in double_scalars\n",
            "\n"
          ]
        },
        {
          "output_type": "stream",
          "name": "stdout",
          "text": [
            "Chart saved: /content/drive/MyDrive/models/charts/2022-01-11/SBUX.html\n",
            "Get chart SBUX done.\n",
            "[*********************100%***********************]  1 of 1 completed\n",
            "Get Stock Price SHOP done.\n",
            "Get prediction data SHOP done.\n",
            "Get options SHOP done.\n",
            "0    2022-02-15 13:30:00\n",
            "1    2022-02-21 13:30:00\n",
            "Name: Earnings Date, dtype: object\n",
            "Get calendar SHOP done.\n",
            "Get news SHOP done.\n"
          ]
        },
        {
          "output_type": "stream",
          "name": "stderr",
          "text": [
            "/usr/local/lib/python3.7/dist-packages/ipykernel_launcher.py:227: RuntimeWarning:\n",
            "\n",
            "divide by zero encountered in double_scalars\n",
            "\n",
            "/usr/local/lib/python3.7/dist-packages/ipykernel_launcher.py:228: RuntimeWarning:\n",
            "\n",
            "divide by zero encountered in double_scalars\n",
            "\n"
          ]
        },
        {
          "output_type": "stream",
          "name": "stdout",
          "text": [
            "Chart saved: /content/drive/MyDrive/models/charts/2022-01-11/SHOP.html\n",
            "Get chart SHOP done.\n",
            "[*********************100%***********************]  1 of 1 completed\n",
            "Get Stock Price SOXL done.\n",
            "Get prediction data SOXL done.\n",
            "Get options SOXL done.\n",
            "Get news SOXL done.\n"
          ]
        },
        {
          "output_type": "stream",
          "name": "stderr",
          "text": [
            "/usr/local/lib/python3.7/dist-packages/ipykernel_launcher.py:227: RuntimeWarning:\n",
            "\n",
            "divide by zero encountered in double_scalars\n",
            "\n",
            "/usr/local/lib/python3.7/dist-packages/ipykernel_launcher.py:228: RuntimeWarning:\n",
            "\n",
            "divide by zero encountered in double_scalars\n",
            "\n"
          ]
        },
        {
          "output_type": "stream",
          "name": "stdout",
          "text": [
            "Chart saved: /content/drive/MyDrive/models/charts/2022-01-11/SOXL.html\n",
            "Get chart SOXL done.\n",
            "[*********************100%***********************]  1 of 1 completed\n",
            "Get Stock Price SOXX done.\n",
            "Get prediction data SOXX done.\n",
            "Get options SOXX done.\n",
            "Get news SOXX done.\n"
          ]
        },
        {
          "output_type": "stream",
          "name": "stderr",
          "text": [
            "/usr/local/lib/python3.7/dist-packages/ipykernel_launcher.py:227: RuntimeWarning:\n",
            "\n",
            "divide by zero encountered in double_scalars\n",
            "\n",
            "/usr/local/lib/python3.7/dist-packages/ipykernel_launcher.py:228: RuntimeWarning:\n",
            "\n",
            "divide by zero encountered in double_scalars\n",
            "\n"
          ]
        },
        {
          "output_type": "stream",
          "name": "stdout",
          "text": [
            "Chart saved: /content/drive/MyDrive/models/charts/2022-01-11/SOXX.html\n",
            "Get chart SOXX done.\n",
            "[*********************100%***********************]  1 of 1 completed\n",
            "Get Stock Price TDOC done.\n",
            "Get prediction data TDOC done.\n",
            "Get options TDOC done.\n",
            "0    2022-02-22 10:59:00\n",
            "1    2022-02-28 12:00:00\n",
            "Name: Earnings Date, dtype: object\n",
            "Get calendar TDOC done.\n",
            "Get news TDOC done.\n"
          ]
        },
        {
          "output_type": "stream",
          "name": "stderr",
          "text": [
            "/usr/local/lib/python3.7/dist-packages/ipykernel_launcher.py:227: RuntimeWarning:\n",
            "\n",
            "divide by zero encountered in double_scalars\n",
            "\n",
            "/usr/local/lib/python3.7/dist-packages/ipykernel_launcher.py:228: RuntimeWarning:\n",
            "\n",
            "divide by zero encountered in double_scalars\n",
            "\n"
          ]
        },
        {
          "output_type": "stream",
          "name": "stdout",
          "text": [
            "Chart saved: /content/drive/MyDrive/models/charts/2022-01-11/TDOC.html\n",
            "Get chart TDOC done.\n",
            "[*********************100%***********************]  1 of 1 completed\n",
            "Get Stock Price TEN done.\n",
            "Get prediction data TEN done.\n",
            "Get options TEN done.\n",
            "0    2022-02-22 13:30:00\n",
            "1    2022-02-28 13:30:00\n",
            "Name: Earnings Date, dtype: object\n",
            "Get calendar TEN done.\n",
            "Get news TEN done.\n"
          ]
        },
        {
          "output_type": "stream",
          "name": "stderr",
          "text": [
            "/usr/local/lib/python3.7/dist-packages/ipykernel_launcher.py:227: RuntimeWarning:\n",
            "\n",
            "divide by zero encountered in double_scalars\n",
            "\n",
            "/usr/local/lib/python3.7/dist-packages/ipykernel_launcher.py:228: RuntimeWarning:\n",
            "\n",
            "divide by zero encountered in double_scalars\n",
            "\n"
          ]
        },
        {
          "output_type": "stream",
          "name": "stdout",
          "text": [
            "Chart saved: /content/drive/MyDrive/models/charts/2022-01-11/TEN.html\n",
            "Get chart TEN done.\n",
            "[*********************100%***********************]  1 of 1 completed\n",
            "Get Stock Price TGT done.\n",
            "Get prediction data TGT done.\n",
            "Get options TGT done.\n",
            "0    2022-02-28 13:30:00\n",
            "1    2022-03-04 13:30:00\n",
            "Name: Earnings Date, dtype: object\n",
            "Get calendar TGT done.\n",
            "Get news TGT done.\n"
          ]
        },
        {
          "output_type": "stream",
          "name": "stderr",
          "text": [
            "/usr/local/lib/python3.7/dist-packages/ipykernel_launcher.py:227: RuntimeWarning:\n",
            "\n",
            "divide by zero encountered in double_scalars\n",
            "\n",
            "/usr/local/lib/python3.7/dist-packages/ipykernel_launcher.py:228: RuntimeWarning:\n",
            "\n",
            "divide by zero encountered in double_scalars\n",
            "\n"
          ]
        },
        {
          "output_type": "stream",
          "name": "stdout",
          "text": [
            "Chart saved: /content/drive/MyDrive/models/charts/2022-01-11/TGT.html\n",
            "Get chart TGT done.\n",
            "[*********************100%***********************]  1 of 1 completed\n",
            "Get Stock Price TLT done.\n",
            "Get prediction data TLT done.\n",
            "Get options TLT done.\n",
            "Get news TLT done.\n"
          ]
        },
        {
          "output_type": "stream",
          "name": "stderr",
          "text": [
            "/usr/local/lib/python3.7/dist-packages/ipykernel_launcher.py:227: RuntimeWarning:\n",
            "\n",
            "divide by zero encountered in double_scalars\n",
            "\n",
            "/usr/local/lib/python3.7/dist-packages/ipykernel_launcher.py:228: RuntimeWarning:\n",
            "\n",
            "divide by zero encountered in double_scalars\n",
            "\n"
          ]
        },
        {
          "output_type": "stream",
          "name": "stdout",
          "text": [
            "Chart saved: /content/drive/MyDrive/models/charts/2022-01-11/TLT.html\n",
            "Get chart TLT done.\n",
            "[*********************100%***********************]  1 of 1 completed\n",
            "Get Stock Price TTD done.\n",
            "Get prediction data TTD done.\n",
            "Get options TTD done.\n",
            "0    2022-02-16 10:59:00\n",
            "1    2022-02-21 12:00:00\n",
            "Name: Earnings Date, dtype: object\n",
            "Get calendar TTD done.\n",
            "Get news TTD done.\n"
          ]
        },
        {
          "output_type": "stream",
          "name": "stderr",
          "text": [
            "/usr/local/lib/python3.7/dist-packages/ipykernel_launcher.py:227: RuntimeWarning:\n",
            "\n",
            "divide by zero encountered in double_scalars\n",
            "\n",
            "/usr/local/lib/python3.7/dist-packages/ipykernel_launcher.py:228: RuntimeWarning:\n",
            "\n",
            "divide by zero encountered in double_scalars\n",
            "\n"
          ]
        },
        {
          "output_type": "stream",
          "name": "stdout",
          "text": [
            "Chart saved: /content/drive/MyDrive/models/charts/2022-01-11/TTD.html\n",
            "Get chart TTD done.\n",
            "[*********************100%***********************]  1 of 1 completed\n",
            "Get Stock Price UAA done.\n",
            "Get prediction data UAA done.\n",
            "Get options UAA done.\n",
            "0    2022-02-08 06:55:00\n",
            "1    2022-02-14 11:55:00\n",
            "Name: Earnings Date, dtype: object\n",
            "Get calendar UAA done.\n",
            "Get news UAA done.\n"
          ]
        },
        {
          "output_type": "stream",
          "name": "stderr",
          "text": [
            "/usr/local/lib/python3.7/dist-packages/ipykernel_launcher.py:227: RuntimeWarning:\n",
            "\n",
            "divide by zero encountered in double_scalars\n",
            "\n",
            "/usr/local/lib/python3.7/dist-packages/ipykernel_launcher.py:228: RuntimeWarning:\n",
            "\n",
            "divide by zero encountered in double_scalars\n",
            "\n"
          ]
        },
        {
          "output_type": "stream",
          "name": "stdout",
          "text": [
            "Chart saved: /content/drive/MyDrive/models/charts/2022-01-11/UAA.html\n",
            "Get chart UAA done.\n",
            "[*********************100%***********************]  1 of 1 completed\n",
            "Get Stock Price V done.\n",
            "Get prediction data V done.\n",
            "Get options V done.\n",
            "Value    2022-01-27 21:00:00\n",
            "Name: Earnings Date, dtype: object\n",
            "Get calendar V done.\n",
            "Get news V done.\n"
          ]
        },
        {
          "output_type": "stream",
          "name": "stderr",
          "text": [
            "/usr/local/lib/python3.7/dist-packages/ipykernel_launcher.py:227: RuntimeWarning:\n",
            "\n",
            "divide by zero encountered in double_scalars\n",
            "\n",
            "/usr/local/lib/python3.7/dist-packages/ipykernel_launcher.py:228: RuntimeWarning:\n",
            "\n",
            "divide by zero encountered in double_scalars\n",
            "\n"
          ]
        },
        {
          "output_type": "stream",
          "name": "stdout",
          "text": [
            "Chart saved: /content/drive/MyDrive/models/charts/2022-01-11/V.html\n",
            "Get chart V done.\n",
            "[*********************100%***********************]  1 of 1 completed\n",
            "Get Stock Price VTI done.\n",
            "Get prediction data VTI done.\n",
            "Get options VTI done.\n",
            "Get news VTI done.\n"
          ]
        },
        {
          "output_type": "stream",
          "name": "stderr",
          "text": [
            "/usr/local/lib/python3.7/dist-packages/ipykernel_launcher.py:227: RuntimeWarning:\n",
            "\n",
            "divide by zero encountered in double_scalars\n",
            "\n",
            "/usr/local/lib/python3.7/dist-packages/ipykernel_launcher.py:228: RuntimeWarning:\n",
            "\n",
            "divide by zero encountered in double_scalars\n",
            "\n"
          ]
        },
        {
          "output_type": "stream",
          "name": "stdout",
          "text": [
            "Chart saved: /content/drive/MyDrive/models/charts/2022-01-11/VTI.html\n",
            "Get chart VTI done.\n",
            "[*********************100%***********************]  1 of 1 completed\n",
            "Get Stock Price WBA done.\n",
            "Get prediction data WBA done.\n",
            "Get options WBA done.\n",
            "0    2022-03-29 07:00:00\n",
            "1    2022-04-04 11:00:00\n",
            "Name: Earnings Date, dtype: object\n",
            "Get calendar WBA done.\n",
            "Get news WBA done.\n"
          ]
        },
        {
          "output_type": "stream",
          "name": "stderr",
          "text": [
            "/usr/local/lib/python3.7/dist-packages/ipykernel_launcher.py:227: RuntimeWarning:\n",
            "\n",
            "divide by zero encountered in double_scalars\n",
            "\n",
            "/usr/local/lib/python3.7/dist-packages/ipykernel_launcher.py:228: RuntimeWarning:\n",
            "\n",
            "divide by zero encountered in double_scalars\n",
            "\n"
          ]
        },
        {
          "output_type": "stream",
          "name": "stdout",
          "text": [
            "Chart saved: /content/drive/MyDrive/models/charts/2022-01-11/WBA.html\n",
            "Get chart WBA done.\n",
            "[*********************100%***********************]  1 of 1 completed\n",
            "Get Stock Price VALE done.\n",
            "Get prediction data VALE done.\n",
            "Get options VALE done.\n",
            "Series([], Name: Earnings Date, dtype: float64)\n",
            "Get calendar VALE error.\n",
            "Get news VALE done.\n"
          ]
        },
        {
          "output_type": "stream",
          "name": "stderr",
          "text": [
            "/usr/local/lib/python3.7/dist-packages/ipykernel_launcher.py:227: RuntimeWarning:\n",
            "\n",
            "divide by zero encountered in double_scalars\n",
            "\n",
            "/usr/local/lib/python3.7/dist-packages/ipykernel_launcher.py:228: RuntimeWarning:\n",
            "\n",
            "divide by zero encountered in double_scalars\n",
            "\n"
          ]
        },
        {
          "output_type": "stream",
          "name": "stdout",
          "text": [
            "Chart saved: /content/drive/MyDrive/models/charts/2022-01-11/VALE.html\n",
            "Get chart VALE done.\n",
            "[*********************100%***********************]  1 of 1 completed\n",
            "Get Stock Price WMT done.\n",
            "Get prediction data WMT done.\n",
            "Get options WMT done.\n",
            "Value    2022-02-17 07:00:00\n",
            "Name: Earnings Date, dtype: object\n",
            "Get calendar WMT done.\n",
            "Get news WMT done.\n"
          ]
        },
        {
          "output_type": "stream",
          "name": "stderr",
          "text": [
            "/usr/local/lib/python3.7/dist-packages/ipykernel_launcher.py:227: RuntimeWarning:\n",
            "\n",
            "divide by zero encountered in double_scalars\n",
            "\n",
            "/usr/local/lib/python3.7/dist-packages/ipykernel_launcher.py:228: RuntimeWarning:\n",
            "\n",
            "divide by zero encountered in double_scalars\n",
            "\n"
          ]
        },
        {
          "output_type": "stream",
          "name": "stdout",
          "text": [
            "Chart saved: /content/drive/MyDrive/models/charts/2022-01-11/WMT.html\n",
            "Get chart WMT done.\n",
            "[*********************100%***********************]  1 of 1 completed\n",
            "Get Stock Price WYNN done.\n",
            "Get prediction data WYNN done.\n",
            "Get options WYNN done.\n",
            "0    2022-02-02 10:59:00\n",
            "1    2022-02-07 12:00:00\n",
            "Name: Earnings Date, dtype: object\n",
            "Get calendar WYNN done.\n",
            "Get news WYNN done.\n"
          ]
        },
        {
          "output_type": "stream",
          "name": "stderr",
          "text": [
            "/usr/local/lib/python3.7/dist-packages/ipykernel_launcher.py:227: RuntimeWarning:\n",
            "\n",
            "divide by zero encountered in double_scalars\n",
            "\n",
            "/usr/local/lib/python3.7/dist-packages/ipykernel_launcher.py:228: RuntimeWarning:\n",
            "\n",
            "divide by zero encountered in double_scalars\n",
            "\n"
          ]
        },
        {
          "output_type": "stream",
          "name": "stdout",
          "text": [
            "Chart saved: /content/drive/MyDrive/models/charts/2022-01-11/WYNN.html\n",
            "Get chart WYNN done.\n",
            "[*********************100%***********************]  1 of 1 completed\n",
            "Get Stock Price XLE done.\n",
            "Get prediction data XLE done.\n",
            "Get options XLE done.\n",
            "Get news XLE done.\n"
          ]
        },
        {
          "output_type": "stream",
          "name": "stderr",
          "text": [
            "/usr/local/lib/python3.7/dist-packages/ipykernel_launcher.py:227: RuntimeWarning:\n",
            "\n",
            "divide by zero encountered in double_scalars\n",
            "\n",
            "/usr/local/lib/python3.7/dist-packages/ipykernel_launcher.py:228: RuntimeWarning:\n",
            "\n",
            "divide by zero encountered in double_scalars\n",
            "\n"
          ]
        },
        {
          "output_type": "stream",
          "name": "stdout",
          "text": [
            "Chart saved: /content/drive/MyDrive/models/charts/2022-01-11/XLE.html\n",
            "Get chart XLE done.\n",
            "[*********************100%***********************]  1 of 1 completed\n",
            "Get Stock Price XLF done.\n",
            "Get prediction data XLF done.\n",
            "Get options XLF done.\n",
            "Get news XLF done.\n"
          ]
        },
        {
          "output_type": "stream",
          "name": "stderr",
          "text": [
            "/usr/local/lib/python3.7/dist-packages/ipykernel_launcher.py:227: RuntimeWarning:\n",
            "\n",
            "divide by zero encountered in double_scalars\n",
            "\n",
            "/usr/local/lib/python3.7/dist-packages/ipykernel_launcher.py:228: RuntimeWarning:\n",
            "\n",
            "divide by zero encountered in double_scalars\n",
            "\n"
          ]
        },
        {
          "output_type": "stream",
          "name": "stdout",
          "text": [
            "Chart saved: /content/drive/MyDrive/models/charts/2022-01-11/XLF.html\n",
            "Get chart XLF done.\n",
            "[*********************100%***********************]  1 of 1 completed\n",
            "Get Stock Price XLNX done.\n",
            "Get prediction data XLNX done.\n",
            "Get options XLNX done.\n",
            "0    2022-01-25 16:20:00\n",
            "1    2022-01-31 21:20:00\n",
            "Name: Earnings Date, dtype: object\n",
            "Get calendar XLNX done.\n",
            "Get news XLNX done.\n"
          ]
        },
        {
          "output_type": "stream",
          "name": "stderr",
          "text": [
            "/usr/local/lib/python3.7/dist-packages/ipykernel_launcher.py:227: RuntimeWarning:\n",
            "\n",
            "divide by zero encountered in double_scalars\n",
            "\n",
            "/usr/local/lib/python3.7/dist-packages/ipykernel_launcher.py:228: RuntimeWarning:\n",
            "\n",
            "divide by zero encountered in double_scalars\n",
            "\n"
          ]
        },
        {
          "output_type": "stream",
          "name": "stdout",
          "text": [
            "Chart saved: /content/drive/MyDrive/models/charts/2022-01-11/XLNX.html\n",
            "Get chart XLNX done.\n",
            "[*********************100%***********************]  1 of 1 completed\n",
            "Get Stock Price ZM done.\n",
            "Get prediction data ZM done.\n",
            "Get options ZM done.\n",
            "0    2022-02-28 10:59:00\n",
            "1    2022-03-04 12:00:00\n",
            "Name: Earnings Date, dtype: object\n",
            "Get calendar ZM done.\n",
            "Get news ZM done.\n"
          ]
        },
        {
          "output_type": "stream",
          "name": "stderr",
          "text": [
            "/usr/local/lib/python3.7/dist-packages/ipykernel_launcher.py:227: RuntimeWarning:\n",
            "\n",
            "divide by zero encountered in double_scalars\n",
            "\n",
            "/usr/local/lib/python3.7/dist-packages/ipykernel_launcher.py:228: RuntimeWarning:\n",
            "\n",
            "divide by zero encountered in double_scalars\n",
            "\n"
          ]
        },
        {
          "output_type": "stream",
          "name": "stdout",
          "text": [
            "Chart saved: /content/drive/MyDrive/models/charts/2022-01-11/ZM.html\n",
            "Get chart ZM done.\n",
            "[*********************100%***********************]  1 of 1 completed\n",
            "Get Stock Price U done.\n",
            "Get prediction data U done.\n",
            "Get options U done.\n",
            "Value    2022-02-03 21:00:00\n",
            "Name: Earnings Date, dtype: object\n",
            "Get calendar U done.\n",
            "Get news U done.\n"
          ]
        },
        {
          "output_type": "stream",
          "name": "stderr",
          "text": [
            "/usr/local/lib/python3.7/dist-packages/ipykernel_launcher.py:227: RuntimeWarning:\n",
            "\n",
            "divide by zero encountered in double_scalars\n",
            "\n",
            "/usr/local/lib/python3.7/dist-packages/ipykernel_launcher.py:228: RuntimeWarning:\n",
            "\n",
            "divide by zero encountered in double_scalars\n",
            "\n"
          ]
        },
        {
          "output_type": "stream",
          "name": "stdout",
          "text": [
            "Chart saved: /content/drive/MyDrive/models/charts/2022-01-11/U.html\n",
            "Get chart U done.\n",
            "[*********************100%***********************]  1 of 1 completed\n",
            "Get Stock Price PENN done.\n",
            "Get prediction data PENN done.\n",
            "Get options PENN done.\n",
            "0    2022-02-02 07:00:00\n",
            "1    2022-02-07 12:00:00\n",
            "Name: Earnings Date, dtype: object\n",
            "Get calendar PENN done.\n",
            "Get news PENN done.\n"
          ]
        },
        {
          "output_type": "stream",
          "name": "stderr",
          "text": [
            "/usr/local/lib/python3.7/dist-packages/ipykernel_launcher.py:227: RuntimeWarning:\n",
            "\n",
            "divide by zero encountered in double_scalars\n",
            "\n",
            "/usr/local/lib/python3.7/dist-packages/ipykernel_launcher.py:228: RuntimeWarning:\n",
            "\n",
            "divide by zero encountered in double_scalars\n",
            "\n"
          ]
        },
        {
          "output_type": "stream",
          "name": "stdout",
          "text": [
            "Chart saved: /content/drive/MyDrive/models/charts/2022-01-11/PENN.html\n",
            "Get chart PENN done.\n",
            "[*********************100%***********************]  1 of 1 completed\n",
            "Get Stock Price QCOM done.\n",
            "Get prediction data QCOM done.\n",
            "Get options QCOM done.\n",
            "Value    2022-02-02 21:00:00\n",
            "Name: Earnings Date, dtype: object\n",
            "Get calendar QCOM done.\n",
            "Get news QCOM done.\n"
          ]
        },
        {
          "output_type": "stream",
          "name": "stderr",
          "text": [
            "/usr/local/lib/python3.7/dist-packages/ipykernel_launcher.py:227: RuntimeWarning:\n",
            "\n",
            "divide by zero encountered in double_scalars\n",
            "\n",
            "/usr/local/lib/python3.7/dist-packages/ipykernel_launcher.py:228: RuntimeWarning:\n",
            "\n",
            "divide by zero encountered in double_scalars\n",
            "\n"
          ]
        },
        {
          "output_type": "stream",
          "name": "stdout",
          "text": [
            "Chart saved: /content/drive/MyDrive/models/charts/2022-01-11/QCOM.html\n",
            "Get chart QCOM done.\n",
            "[*********************100%***********************]  1 of 1 completed\n",
            "Get Stock Price LCID done.\n",
            "Get prediction data LCID done.\n",
            "Get options LCID done.\n",
            "Value    2021-11-15 18:57:42\n",
            "Name: Earnings Date, dtype: object\n",
            "Get calendar LCID done.\n",
            "Get news LCID done.\n"
          ]
        },
        {
          "output_type": "stream",
          "name": "stderr",
          "text": [
            "/usr/local/lib/python3.7/dist-packages/ipykernel_launcher.py:227: RuntimeWarning:\n",
            "\n",
            "divide by zero encountered in double_scalars\n",
            "\n",
            "/usr/local/lib/python3.7/dist-packages/ipykernel_launcher.py:228: RuntimeWarning:\n",
            "\n",
            "divide by zero encountered in double_scalars\n",
            "\n"
          ]
        },
        {
          "output_type": "stream",
          "name": "stdout",
          "text": [
            "Chart saved: /content/drive/MyDrive/models/charts/2022-01-11/LCID.html\n",
            "Get chart LCID done.\n",
            "[*********************100%***********************]  1 of 1 completed\n",
            "Get Stock Price AAL done.\n",
            "Get prediction data AAL done.\n",
            "Get options AAL done.\n",
            "Value    2022-01-20 13:30:00\n",
            "Name: Earnings Date, dtype: object\n",
            "Get calendar AAL done.\n",
            "Get news AAL done.\n"
          ]
        },
        {
          "output_type": "stream",
          "name": "stderr",
          "text": [
            "/usr/local/lib/python3.7/dist-packages/ipykernel_launcher.py:227: RuntimeWarning:\n",
            "\n",
            "divide by zero encountered in double_scalars\n",
            "\n",
            "/usr/local/lib/python3.7/dist-packages/ipykernel_launcher.py:228: RuntimeWarning:\n",
            "\n",
            "divide by zero encountered in double_scalars\n",
            "\n"
          ]
        },
        {
          "output_type": "stream",
          "name": "stdout",
          "text": [
            "Chart saved: /content/drive/MyDrive/models/charts/2022-01-11/AAL.html\n",
            "Get chart AAL done.\n"
          ]
        }
      ]
    }
  ]
}