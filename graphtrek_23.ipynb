{
  "nbformat": 4,
  "nbformat_minor": 0,
  "metadata": {
    "colab": {
      "name": "graphtrek_23.ipynb",
      "provenance": [],
      "include_colab_link": true
    },
    "kernelspec": {
      "name": "python3",
      "display_name": "Python 3"
    },
    "language_info": {
      "name": "python"
    }
  },
  "cells": [
    {
      "cell_type": "markdown",
      "metadata": {
        "id": "view-in-github",
        "colab_type": "text"
      },
      "source": [
        "<a href=\"https://colab.research.google.com/github/graphtrek/stockforecast/blob/main/graphtrek_23.ipynb\" target=\"_parent\"><img src=\"https://colab.research.google.com/assets/colab-badge.svg\" alt=\"Open In Colab\"/></a>"
      ]
    },
    {
      "cell_type": "code",
      "execution_count": 34,
      "metadata": {
        "colab": {
          "base_uri": "https://localhost:8080/"
        },
        "id": "FqMCA9YoriWx",
        "outputId": "ec06ded7-39c3-4bf3-816f-9fe137e986ed"
      },
      "outputs": [
        {
          "output_type": "stream",
          "name": "stdout",
          "text": [
            "Requirement already satisfied: yfinance in /usr/local/lib/python3.7/dist-packages (0.1.68)\n",
            "Requirement already satisfied: requests>=2.26 in /usr/local/lib/python3.7/dist-packages (from yfinance) (2.27.1)\n",
            "Requirement already satisfied: multitasking>=0.0.7 in /usr/local/lib/python3.7/dist-packages (from yfinance) (0.0.10)\n",
            "Requirement already satisfied: lxml>=4.5.1 in /usr/local/lib/python3.7/dist-packages (from yfinance) (4.7.1)\n",
            "Requirement already satisfied: pandas>=0.24 in /usr/local/lib/python3.7/dist-packages (from yfinance) (1.1.5)\n",
            "Requirement already satisfied: numpy>=1.15 in /usr/local/lib/python3.7/dist-packages (from yfinance) (1.19.5)\n",
            "Requirement already satisfied: python-dateutil>=2.7.3 in /usr/local/lib/python3.7/dist-packages (from pandas>=0.24->yfinance) (2.8.2)\n",
            "Requirement already satisfied: pytz>=2017.2 in /usr/local/lib/python3.7/dist-packages (from pandas>=0.24->yfinance) (2018.9)\n",
            "Requirement already satisfied: six>=1.5 in /usr/local/lib/python3.7/dist-packages (from python-dateutil>=2.7.3->pandas>=0.24->yfinance) (1.15.0)\n",
            "Requirement already satisfied: idna<4,>=2.5 in /usr/local/lib/python3.7/dist-packages (from requests>=2.26->yfinance) (2.10)\n",
            "Requirement already satisfied: charset-normalizer~=2.0.0 in /usr/local/lib/python3.7/dist-packages (from requests>=2.26->yfinance) (2.0.10)\n",
            "Requirement already satisfied: certifi>=2017.4.17 in /usr/local/lib/python3.7/dist-packages (from requests>=2.26->yfinance) (2021.10.8)\n",
            "Requirement already satisfied: urllib3<1.27,>=1.21.1 in /usr/local/lib/python3.7/dist-packages (from requests>=2.26->yfinance) (1.24.3)\n",
            "Requirement already satisfied: plotly in /usr/local/lib/python3.7/dist-packages (4.4.1)\n",
            "Requirement already satisfied: retrying>=1.3.3 in /usr/local/lib/python3.7/dist-packages (from plotly) (1.3.3)\n",
            "Requirement already satisfied: six in /usr/local/lib/python3.7/dist-packages (from plotly) (1.15.0)\n",
            "Requirement already satisfied: ta in /usr/local/lib/python3.7/dist-packages (0.9.0)\n",
            "Requirement already satisfied: numpy in /usr/local/lib/python3.7/dist-packages (from ta) (1.19.5)\n",
            "Requirement already satisfied: pandas in /usr/local/lib/python3.7/dist-packages (from ta) (1.1.5)\n",
            "Requirement already satisfied: pytz>=2017.2 in /usr/local/lib/python3.7/dist-packages (from pandas->ta) (2018.9)\n",
            "Requirement already satisfied: python-dateutil>=2.7.3 in /usr/local/lib/python3.7/dist-packages (from pandas->ta) (2.8.2)\n",
            "Requirement already satisfied: six>=1.5 in /usr/local/lib/python3.7/dist-packages (from python-dateutil>=2.7.3->pandas->ta) (1.15.0)\n"
          ]
        }
      ],
      "source": [
        "# install necessary modules\n",
        "!pip install yfinance\n",
        "!pip install plotly\n",
        "!pip install ta"
      ]
    },
    {
      "cell_type": "code",
      "source": [
        "import os, time\n",
        "import yfinance as yf\n",
        "import requests\n",
        "import numpy as np\n",
        "import math\n",
        "import time\n",
        "import json\n",
        "\n",
        "from pathlib import Path\n",
        "from datetime import datetime, timedelta\n",
        "\n",
        "import pandas as pd\n",
        "from pandas.tseries.holiday import USFederalHolidayCalendar\n",
        "from pandas.tseries.offsets import CustomBusinessDay\n",
        "\n",
        "from tensorflow import keras\n",
        "from keras.preprocessing.sequence import TimeseriesGenerator\n",
        "from tensorflow.keras.models import Sequential\n",
        "from tensorflow.keras.layers import LSTM\n",
        "from tensorflow.keras.optimizers import Adam\n",
        "from tensorflow.keras.losses import MAE\n",
        "from tensorflow.keras.layers import Dense, Dropout\n",
        "\n",
        "from sklearn.preprocessing import StandardScaler\n",
        "from sklearn.preprocessing import MinMaxScaler\n",
        "\n",
        "import plotly.graph_objects as go\n",
        "import plotly.express as px\n",
        "import plotly.graph_objects as go\n",
        "from plotly.subplots import make_subplots\n",
        "\n",
        "from matplotlib import pyplot as plt\n",
        "\n",
        "from ta.trend import MACD\n",
        "from ta.momentum import StochasticOscillator\n",
        "from ta.momentum import RSIIndicator\n",
        "\n",
        "\n",
        "from tabulate import tabulate"
      ],
      "metadata": {
        "id": "MIfXZ81VrrqB"
      },
      "execution_count": 35,
      "outputs": []
    },
    {
      "cell_type": "code",
      "source": [
        "  INFO = 1\n",
        "  DEBUG = 2\n",
        "  TRACE = 3\n",
        "  print_level = DEBUG \n",
        "  nr_of_features = 1\n",
        "  look_forward = 1\n",
        "  epochs = 120\n",
        "  learning_rate=0.0042\n",
        "  np.random.seed(42)\n",
        "  look_back = 14 #  number of past days we want to use to predict 1 day in the future.\n",
        "  split_percent = 0.90 # use 90% of the data  for train\n",
        "\n",
        "  if look_back < 5:\n",
        "    num_prediction = look_back * 4\n",
        "  else:\n",
        "    num_prediction = look_back * 2\n"
      ],
      "metadata": {
        "id": "v8t0pC_m2bHB"
      },
      "execution_count": 36,
      "outputs": []
    },
    {
      "cell_type": "code",
      "source": [
        "def get_stock_price(ticker, from_date):\n",
        "  df = yf.download(ticker.ticker, start=from_date, interval=\"1d\")\n",
        "  #df = df.rename(columns={\"Close\": \"Close1\", \"Adj Close\": \"Close\"})\n",
        "  \n",
        "  #ticker = yf.Ticker(symbol)\n",
        "\n",
        "  #df = ticker.history(start=from_date, interval=\"1d\")\n",
        "  #print(df.info())\n",
        "  df['Date'] = pd.to_datetime(df.index)\n",
        "  #df['Date'] = df['Date'].apply(mpl_dates.date2num)\n",
        "  #df = df.loc[:,['Date', 'Open', 'High', 'Low', 'Close']]\n",
        "  df['EMA21'] = df['Close'].ewm(span=21, adjust=False).mean()\n",
        "  df['MA20'] =  df['Close'].rolling(window=20).mean()\n",
        "  df['MA50'] = df['Close'].rolling(window=50).mean()\n",
        "  df['MA100'] = df['Close'].rolling(window=100).mean()\n",
        "  df['MA200'] = df['Close'].rolling(window=200).mean()\n",
        "  df['MA300'] = df['Close'].rolling(window=200).mean()\n",
        "  print('Get Stock Price', ticker.ticker, 'done.')\n",
        "  return df\n",
        "\n",
        "def is_support(df,i):\n",
        "  cond1 = df['Low'][i] < df['Low'][i-1] \n",
        "  cond2 = df['Low'][i] < df['Low'][i+1] \n",
        "  cond3 = df['Low'][i+1] < df['Low'][i+2] \n",
        "  cond4 = df['Low'][i-1] < df['Low'][i-2]\n",
        "  return (cond1 and cond2 and cond3 and cond4)\n",
        "\n",
        "def is_resistance(df,i):\n",
        "  cond1 = df['High'][i] > df['High'][i-1] \n",
        "  cond2 = df['High'][i] > df['High'][i+1] \n",
        "  cond3 = df['High'][i+1] > df['High'][i+2] \n",
        "  cond4 = df['High'][i-1] > df['High'][i-2]\n",
        "  return (cond1 and cond2 and cond3 and cond4)\n",
        "\n",
        "def is_far_from_level(value, levels, df):\n",
        "    ave =  np.mean(df['High'] - df['Low'])\n",
        "    return np.sum([abs(value - level) < ave for level in levels]) == 0\n",
        "\n",
        "def findNearestGreaterThan(searchVal, inputData):\n",
        "    diff = inputData - searchVal\n",
        "    diff[diff<0] = np.inf\n",
        "    idx = diff.argmin()\n",
        "    return inputData[idx]\n",
        "\n",
        "\n",
        "def findNearestLessThan(searchVal, inputData):\n",
        "    diff = inputData - searchVal\n",
        "    diff[diff>0] = -np.inf\n",
        "    idx = diff.argmax()\n",
        "    return inputData[idx]\n",
        "\n",
        "def indicators(chart_df):\n",
        "  # MACD\n",
        "  macd = MACD(close=chart_df['Close'], \n",
        "            window_slow=26,\n",
        "            window_fast=12, \n",
        "            window_sign=9)\n",
        "  # stochastics\n",
        "  stoch = StochasticOscillator(high=chart_df['High'],\n",
        "                             close=chart_df['Close'],\n",
        "                             low=chart_df['Low'],\n",
        "                             window=14, \n",
        "                             smooth_window=3)\n",
        "\n",
        "  rsi = RSIIndicator(close=chart_df['Close'], window=14)\n",
        "  return macd, stoch, rsi"
      ],
      "metadata": {
        "id": "jyYPSEVcsEFj"
      },
      "execution_count": 37,
      "outputs": []
    },
    {
      "cell_type": "code",
      "source": [
        "def calculate_levels(chart_df,close_price):\n",
        "  levels = []\n",
        "  low = 0\n",
        "  high = np.round(chart_df['Close'].max(),1)\n",
        "  for i in range(2,len(chart_df)-2):\n",
        "    try:\n",
        "      if is_support(chart_df,i):\n",
        "        low = chart_df['Low'][i]\n",
        "      if is_far_from_level(low, levels, chart_df):\n",
        "        levels.append(low)\n",
        "      elif is_resistance(chart_df,i):\n",
        "        high = chart_df['High'][i]\n",
        "      if is_far_from_level(high, levels, chart_df):\n",
        "        levels.append(high)\n",
        "    except:\n",
        "      print('calculate_levels error')\n",
        "  levels = sorted(levels, reverse=True)\n",
        "\n",
        "  min_level = np.round(findNearestLessThan(close_price,levels),1)\n",
        "  if(min_level > close_price):\n",
        "    min_level = np.round(close_price * 0.8,1)\n",
        "\n",
        "  max_level = np.round(findNearestGreaterThan(close_price,levels),1)\n",
        "  if(max_level < close_price):\n",
        "    max_level = np.round(close_price * 1.2,1)\n",
        "\n",
        "#  print('close_price',close_price,'min_level:',min_level,'max_level:', max_level)\n",
        "  return levels, min_level, max_level"
      ],
      "metadata": {
        "id": "cBDM1rHHKZSf"
      },
      "execution_count": 38,
      "outputs": []
    },
    {
      "cell_type": "code",
      "source": [
        "def options_chain(ticker):\n",
        "\n",
        "    #tk = yf.Ticker(symbol)\n",
        "    # Expiration dates\n",
        "    exps = ticker.options\n",
        "\n",
        "    # Get options for each expiration\n",
        "    options = pd.DataFrame()\n",
        "    for e in exps:\n",
        "        opt = ticker.option_chain(e)\n",
        "        opt = pd.DataFrame().append(opt.calls).append(opt.puts)\n",
        "        opt['expirationDate'] = e\n",
        "        options = options.append(opt, ignore_index=True)\n",
        "\n",
        "    # Bizarre error in yfinance that gives the wrong expiration date\n",
        "    # Add 1 day to get the correct expiration date\n",
        "    options['expirationDate'] = pd.to_datetime(options['expirationDate'])\n",
        "    options.insert(0,'dte',(options['expirationDate'] - datetime.today()).dt.days + 1)\n",
        "    options['expirationDate'] = options['expirationDate'].dt.date\n",
        "    # Boolean column if the option is a CALL x : True if (x > 10 and x < 20) else False\n",
        "    options.insert(1,'CALL',options['contractSymbol'].str[4:].apply(lambda x: \"C\" in x))\n",
        "    \n",
        "    options[['bid', \n",
        "             'ask', \n",
        "             'strike', \n",
        "             'lastPrice', \n",
        "             'volume',\n",
        "             'change',\n",
        "             'percentChange',\n",
        "             'openInterest',\n",
        "             'impliedVolatility']] = options[[\n",
        "                                   'bid', \n",
        "                                   'ask', \n",
        "                                   'strike',\n",
        "                                   'lastPrice',\n",
        "                                   'volume',\n",
        "                                   'change',\n",
        "                                   'percentChange',\n",
        "                                   'openInterest',\n",
        "                                   'impliedVolatility']].apply(pd.to_numeric)\n",
        "    \n",
        "    options['spread%'] = np.round(100 - ((options['bid'] / options['ask']) * 100),1) # Calculate the midpoint of the bid-ask\n",
        "    \n",
        "    # Drop unnecessary and meaningless columns\n",
        "    #options = options.drop(columns = ['contractSize', 'currency', 'change', 'percentChange', 'lastTradeDate', 'lastPrice'])\n",
        "    print('Get options',ticker.ticker,'done.')\n",
        "    return options"
      ],
      "metadata": {
        "id": "R2FEIo4xTL-w"
      },
      "execution_count": 39,
      "outputs": []
    },
    {
      "cell_type": "code",
      "source": [
        "def find_level_optionInterests(options_df,ticker,close_price,min_level,max_level, dte_min, dte_max):\n",
        "  options_df['impliedVolatility'] = np.round(options_df['impliedVolatility'],2)\n",
        "  options_df['percentChange'] = np.round(options_df['percentChange'],2)\n",
        "  #expirationDates = options_df['expirationDate'].unique()\n",
        "  #print(sorted(expirationDates))\n",
        "\n",
        "  #PUT_options_df = pd.DataFrame()\n",
        "  #CALL_options_df = pd.DataFrame()\n",
        "\n",
        "  #for key, value in options_df.items():\n",
        "  #  date = key\n",
        "  #  rsi = float(value.get('RSI'))\n",
        "  #  rsi_data.append([date,rsi])\n",
        "#  print('PUT OPTIONS', 'CLOSE PRICE:',close_price, 'SUPPORT -15%:', np.round(min_level * 0.85,2), 'RESISTANCE +15%:', np.round(max_level * 1.15,2))\n",
        "  PUT_options_df = options_df.query('CALL == False and strike>' + str(min_level * 0.85) + ' and strike<' + str(max_level * 1.15) + ' and dte>' + str(dte_min) + ' and dte<' + str(dte_max))\n",
        "  put_max_openInterest_index = PUT_options_df[\"openInterest\"].idxmax()\n",
        "  put_max_volume_index = PUT_options_df[\"volume\"].idxmax()\n",
        "  PUT_options_to_return_df = PUT_options_df.loc[put_max_openInterest_index:put_max_openInterest_index]\n",
        "  PUT_options_to_return_df = PUT_options_to_return_df.append(PUT_options_df.loc[put_max_volume_index:put_max_volume_index])\n",
        "  PUT_options_to_return_df = PUT_options_to_return_df.drop(columns = ['contractSize', 'currency','change','percentChange', 'lastTradeDate', 'lastPrice', 'inTheMoney','contractSymbol']) \n",
        "  \n",
        "#  print(tabulate(PUT_options_to_return_df, headers = 'keys', tablefmt = 'psql'))\n",
        "\n",
        "#  print('CALL OPTIONS', 'CLOSE PRICE:',close_price, 'SUPPORT -15%:', np.round(min_level * 0.85,2), 'RESISTANCE +15%:', np.round(max_level * 1.15,2))\n",
        "  CALL_options_df = options_df.query('CALL == True and strike>' + str(min_level * 0.85) + ' and strike<' + str(max_level * 1.15) + ' and dte>' + str(dte_min) + ' and dte<' + str(dte_max))\n",
        "  call_max_openInterest_index = CALL_options_df[\"openInterest\"].idxmax()\n",
        "  call_max_volume_index = CALL_options_df[\"volume\"].idxmax()\n",
        "  CALL_options_to_return_df = CALL_options_df.loc[call_max_openInterest_index:call_max_openInterest_index]\n",
        "  CALL_options_to_return_df = CALL_options_to_return_df.append(CALL_options_df.loc[call_max_volume_index:call_max_volume_index])\n",
        "  CALL_options_to_return_df = CALL_options_to_return_df.drop(columns = ['contractSize', 'currency', 'change','percentChange', 'lastTradeDate', 'lastPrice', 'inTheMoney','contractSymbol']) \n",
        "#  print(call_max_openInterest_index,tabulate(CALL_options_to_return_df, headers = 'keys', tablefmt = 'psql'))\n",
        "  return PUT_options_to_return_df, CALL_options_to_return_df"
      ],
      "metadata": {
        "id": "fbz2SVTOTwki"
      },
      "execution_count": 52,
      "outputs": []
    },
    {
      "cell_type": "code",
      "source": [
        "def predict(indicators_lstm_test_data_scaled, model):\n",
        "    prediction_list = indicators_lstm_test_data_scaled[-look_back:]\n",
        "    #print('prediction_list',prediction_list)\n",
        "    for _ in range(num_prediction):\n",
        "        x = prediction_list[-look_back:]\n",
        "        #print(x)\n",
        "        x = x.reshape((1, look_back, nr_of_features))\n",
        "        out = model.predict(x)\n",
        "        #print(x,out) \n",
        "        prediction_list = np.append(prediction_list, out, axis=0)\n",
        "    prediction_list = prediction_list[look_back-1:]\n",
        "        \n",
        "    return prediction_list\n",
        "    \n",
        "def predict_dates(last_date):\n",
        "    us_bd = CustomBusinessDay(calendar=USFederalHolidayCalendar())\n",
        "    prediction_dates = pd.date_range(last_date, periods=num_prediction+1,freq=us_bd).tolist()\n",
        "    return prediction_dates"
      ],
      "metadata": {
        "id": "wenwA2Nr2GJw"
      },
      "execution_count": 41,
      "outputs": []
    },
    {
      "cell_type": "code",
      "source": [
        "def get_prediction_data(df,ticker):\n",
        "\n",
        "  indicators_model_file_path = '/content/drive/MyDrive/models/' + ticker.ticker + '_' + str(look_back) + '_' + str(nr_of_features) + '_indicators_10.h5'\n",
        "  \n",
        "  indicators_model = None\n",
        "  try:\n",
        "    indicators_model = keras.models.load_model(indicators_model_file_path)\n",
        "    #modified = os.path.getmtime(indicators_model_file_path)\n",
        "\n",
        "    #print(pd.to_datetime(last_date).date() - datetime.fromtimestamp(modified).date() )\n",
        "    #print('Loaded', indicators_model_file_path , ' model train date:',datetime.fromtimestamp(modified).date() , 'last date:', last_date)\n",
        "  except:\n",
        "    indicators_model = None\n",
        "    print('Model ' + indicators_model_file_path + ' does not exists.')\n",
        "\n",
        "  indicators_lstm_data = np.expand_dims(df['RSI'].values.copy()[look_back:], axis=1).astype(float)\n",
        "  split = int(split_percent*len(indicators_lstm_data))\n",
        " \n",
        "  indicators_scaler = MinMaxScaler(feature_range=(0, 1))\n",
        "  indicators_scaler = indicators_scaler.fit(indicators_lstm_data)\n",
        "\n",
        "  indicators_lstm_train_data = indicators_lstm_data[:split]\n",
        "  indicators_lstm_test_data = indicators_lstm_data[split:]\n",
        "  \n",
        "  indicators_lstm_train_data_scaled = indicators_scaler.transform(indicators_lstm_train_data)\n",
        "#  print(indicators_lstm_train_data_scaled[:look_back*2])\n",
        "#  print(indicators_lstm_train_data_scaled.shape)\n",
        "  \n",
        "  indicators_lstm_test_data_scaled = indicators_scaler.transform(indicators_lstm_test_data)\n",
        "#  print(indicators_lstm_test_data_scaled[:look_back+1])\n",
        "#  print(indicators_lstm_test_data_scaled.shape)\n",
        "\n",
        "  indicators_train_generator = TimeseriesGenerator(indicators_lstm_train_data_scaled, indicators_lstm_train_data_scaled, sampling_rate=1, length=look_back, batch_size=64)\n",
        "\n",
        "  if indicators_model is None:\n",
        "    indicators_model = Sequential()\n",
        "    indicators_model.add(LSTM(units=42, activation='tanh', input_shape=(look_back, nr_of_features), return_sequences=True))\n",
        "    indicators_model.add(Dropout(0.2))\n",
        "    indicators_model.add(LSTM(units=42, return_sequences=True, activation=\"relu\"))\n",
        "    indicators_model.add(Dropout(0.2))\n",
        "    indicators_model.add(LSTM(units=42, return_sequences=True, activation=\"relu\"))\n",
        "    indicators_model.add(Dropout(0.2))\n",
        "    indicators_model.add(LSTM(units=42, activation=\"tanh\"))\n",
        "    indicators_model.add(Dropout(0.2))\n",
        "    indicators_model.add(Dense(nr_of_features))\n",
        "\n",
        "    indicators_model.compile(\n",
        "      loss=MAE,\n",
        "      optimizer=Adam(learning_rate=learning_rate),\n",
        "      metrics=['mae','mse']\n",
        "    )\n",
        "    \n",
        "    #indicators_model.summary()\n",
        "    print('Model ' + indicators_model_file_path + ' compiled.')\n",
        "\n",
        "    indicators_modelo = indicators_model.fit(indicators_train_generator, epochs=epochs, verbose=0 )\n",
        "  \n",
        "    indicators_model.save(indicators_model_file_path)\n",
        "    print('Saved model ' + indicators_model_file_path)\n",
        "\n",
        "  \n",
        "    plt.plot(indicators_modelo.history['loss'])\n",
        "    plt.xlabel('Epochs')\n",
        "    plt.ylabel('Loss')\n",
        "    plt.show()\n",
        "\n",
        "  indicators_test_generator = TimeseriesGenerator(indicators_lstm_test_data_scaled, indicators_lstm_test_data_scaled,sampling_rate=1, length=look_back, batch_size=look_back)\n",
        "  #Make test prediction\n",
        "  indicators_test_prediction_scaled = indicators_model.predict(indicators_test_generator)\n",
        "  indicators_test_prediction = indicators_scaler.inverse_transform(indicators_test_prediction_scaled)\n",
        "  indicators_test_prediction = indicators_test_prediction.reshape((-1))\n",
        "\n",
        "  #Make future prediction\n",
        "  indicators_prediction_scaled = predict(indicators_lstm_test_data_scaled, indicators_model)\n",
        "  indicators_prediction = indicators_scaler.inverse_transform(indicators_prediction_scaled.reshape((-1,nr_of_features)))\n",
        "  indicators_prediction = indicators_prediction.reshape((-1))\n",
        "  print('Get prediction data',ticker.ticker,'done.')\n",
        "  return indicators_test_prediction, indicators_prediction"
      ],
      "metadata": {
        "id": "yWmRs8WSrtxq"
      },
      "execution_count": 42,
      "outputs": []
    },
    {
      "cell_type": "code",
      "source": [
        "def get_news(ticker):\n",
        "  news_data = []\n",
        "  for headline in ticker.news:\n",
        "    providerPublishTime = datetime.fromtimestamp((headline['providerPublishTime'])).strftime('%Y-%m-%d %H:%M:%S')\n",
        "    link = '<a href=\"'+ headline['link']+'\">' + headline['title'] + '</a>'\n",
        "    publisher = headline['publisher'] \n",
        "    news_data.append([providerPublishTime,publisher,link])\n",
        "  news_df = pd.DataFrame(news_data, columns=['Time','Publisher', 'Title'])\n",
        "  print('Get news',ticker.ticker,'done.')  \n",
        "  return news_df"
      ],
      "metadata": {
        "id": "J7OfhcBQcjCf"
      },
      "execution_count": 50,
      "outputs": []
    },
    {
      "cell_type": "code",
      "source": [
        "def get_earning(ticker):\n",
        "  earning_date = None\n",
        "  if ticker.calendar is not None:\n",
        "    try:\n",
        "      print(ticker.calendar.iloc[0])\n",
        "      earning_date = ticker.calendar.iloc[0][0]\n",
        "      print('Get calendar',ticker.ticker,'done.')\n",
        "    except:\n",
        "      print('Get calendar',ticker.ticker,'error.')\n",
        "  return earning_date"
      ],
      "metadata": {
        "id": "VwTC2GoXyotk"
      },
      "execution_count": 44,
      "outputs": []
    },
    {
      "cell_type": "code",
      "source": [
        "def get_chart(ticker, df, indicators_test_prediction, indicators_prediction):\n",
        "  days = 365\n",
        "  last_day_df = df[-1:]\n",
        "  last_date = last_day_df['Date'].index[0].date()\n",
        "  close_price = np.round(last_day_df['Close'][0],1)\n",
        "\n",
        "  ath = np.round(df['Close'].max(),1)\n",
        "  discount = np.round(ath - close_price,1)\n",
        "  discount_percent = np.round((discount / close_price) * 100, 1)\n",
        "  \n",
        "  chart_df = df.tail(days)\n",
        "\n",
        "  levels, min_level, max_level = calculate_levels(chart_df,close_price)\n",
        "\n",
        "  min_level_0_85 = np.round(min_level * 0.85,2)\n",
        "  min_level_0_85_discount = np.round(min_level_0_85 - close_price)\n",
        "  min_level_0_85_discount_percent =  np.round((min_level_0_85_discount / close_price) * 100, 1)\n",
        "\n",
        "  max_level_1_15 = np.round(max_level * 1.15,2)\n",
        "  max_level_1_15_discount = np.round(max_level_1_15 - close_price)\n",
        "  max_level_1_15_discount_percent = np.round((max_level_1_15_discount / close_price) * 100, 1)\n",
        "\n",
        "  options_df = pd.DataFrame()\n",
        "  all_options_df = options_chain(ticker)\n",
        "  near_PUT_options_df, near_CALL_options_df = find_level_optionInterests(all_options_df,ticker,close_price,min_level_0_85,max_level_1_15, -1, 33)\n",
        "  far_PUT_options_df, far_CALL_options_df = find_level_optionInterests(all_options_df,ticker,close_price,min_level_0_85,max_level_1_15, 33, 333)\n",
        "\n",
        "  options_df = options_df.append(near_PUT_options_df)\n",
        "  options_df = options_df.append(far_PUT_options_df)\n",
        "  options_df = options_df.append(near_CALL_options_df)\n",
        "  options_df = options_df.append(far_CALL_options_df)\n",
        "  options_df.insert(3,'Price',close_price)\n",
        "  options_df = options_df.sort_values(by=['dte'])\n",
        "\n",
        "  min_level_discount = np.round(min_level - close_price)\n",
        "  min_level_discount_percent = np.round((min_level_discount / close_price) * 100, 1)\n",
        "  \n",
        "  max_level_discount = np.round(max_level - close_price)\n",
        "  max_level_discount_percent = np.round((max_level_discount / close_price) * 100, 1)\n",
        "  \n",
        "  tradingview_link = '<a href=\"https://in.tradingview.com/chart/66XmQfYy/?symbol=' + ticker.ticker +'\">' +  ticker.ticker + ' ' + str(last_date)  +'</a> '\n",
        "  seeking_alpha_link = '<a href=\"https://seekingalpha.com/symbol/'+ ticker.ticker +'\"> Seeking Alpha </a> '\n",
        "  google_news_link = '<a href=\"https://news.google.com/search?for=' + ticker.ticker + '+stock when:7d&hl=en-US&gl=US&ceid=US%3Aen\"> Google News </a> '\n",
        "#  twitter_link = '<a href=\"https://twitter.com/search?q=$' + ticker.ticker + '%20stock&src=typed_query&f=live\"> Twitter </a> '\n",
        "\n",
        "  title = '<b>' + tradingview_link + '</b> ' + seeking_alpha_link + google_news_link + 'Earning:' + str(get_earning(ticker))\n",
        "  title += '<br>'\n",
        "  title += '<b>Close Price:</b>' + str(close_price) + ' <b>ATH:</b>' + str(ath) + ' <b>Discount:</b>' + str(discount) + ' (' + str(discount_percent) + '%)'\n",
        "  title += '<br>'\n",
        "  title += '<b>Support:</b>' + str(min_level) + ' ('+str(min_level_discount_percent)+'%) ' \n",
        "  title += '<b>Close Price:</b>' + str(close_price) + ' ' \n",
        "  title += '<b>Resistance:</b>' + str(max_level) + ' ('+str(max_level_discount_percent)+'%) '\n",
        "  title += '<br>' \n",
        "  title += '<b>Support -15%:</b>' + str(min_level_0_85) + ' (' + str(min_level_0_85_discount_percent) + '%) '\n",
        "  title += '<b>Close Price:</b>' + str(close_price) + ' ' \n",
        "  title += '<b>Resistance +15%:</b>' + str(max_level_1_15) + ' (' + str(max_level_1_15_discount_percent) +  '%) '\n",
        "  \n",
        "  # add subplot properties when initiliazing fig variable\n",
        "  fig = make_subplots(rows=6, cols=1, shared_xaxes=True,\n",
        "                    vertical_spacing=0.012, \n",
        "                    row_heights=[0.30,0.05,0.10,0.158,0.10,0.27],\n",
        "                    subplot_titles=[title],\n",
        "                    specs=[\n",
        "                           [{\"type\": \"candlestick\"}],\n",
        "                           [{\"type\": \"bar\"}],\n",
        "                           [{\"type\": \"scatter\"}],\n",
        "                           [{\"type\": \"table\"}],\n",
        "                           [{\"type\": \"scatter\"}],\n",
        "                           [{\"type\": \"table\"}]\n",
        "                           ])\n",
        "\n",
        "  candlestick_row = 1\n",
        "  volume_row = 2\n",
        "  table_row = 4\n",
        "  rsi_row = 3\n",
        "  macd_row = 5\n",
        "  news_row = 6\n",
        "  \n",
        "\n",
        "  fig.update_layout(\n",
        "      height=1400, width=1200, \n",
        "      showlegend=True,\n",
        "      dragmode= 'pan',\n",
        "      margin=go.layout.Margin(\n",
        "          l=20, #left margin\n",
        "          r=20, #right margin\n",
        "          b=20, #bottom margin\n",
        "          t=100  #top margin\n",
        "      ))\n",
        "\n",
        "  fig.update_annotations({'font': {'size': 12}}) \n",
        "\n",
        "  # Options Table \n",
        "  fig.add_trace(\n",
        "      go.Table(\n",
        "        header=dict(values=list(options_df.columns),\n",
        "                fill_color='paleturquoise',\n",
        "                font=dict(color='black', size=12),\n",
        "                align='left'),\n",
        "        cells=dict(values=options_df.transpose().values.tolist(),\n",
        "               fill_color='lavender',\n",
        "               align='left')\n",
        "        ),row=table_row, col=1)\n",
        "\n",
        "  # News table\n",
        "  news_df = get_news(ticker)\n",
        "  fig.add_trace(\n",
        "    go.Table(\n",
        "          columnwidth = [80,80,400],  \n",
        "          header=dict(values=list(news_df.columns),\n",
        "                fill_color='paleturquoise',\n",
        "                align='left'),\n",
        "          cells=dict(values=[news_df.Time, news_df.Publisher, news_df.Title],\n",
        "               fill_color='lavender',\n",
        "               align='left')\n",
        "      ),\n",
        "    row=news_row, \n",
        "    col=1)\n",
        "\n",
        "\n",
        "  # Plot RSI trace \n",
        "  fig.add_trace(go.Scatter(x=chart_df.index,\n",
        "                          y=chart_df['RSI'],\n",
        "                          line=dict(color='royalblue', width=2),\n",
        "                          name='RSI(14)'\n",
        "                          ), row=rsi_row, col=1)\n",
        "  if indicators_test_prediction is not None and indicators_prediction is not None:\n",
        "    fig.add_trace(go.Scatter(x=chart_df['Date'].tail(len(indicators_test_prediction)),\n",
        "                          y = indicators_test_prediction,\n",
        "                          line=dict(color='firebrick', width=3, dash = 'dash'),\n",
        "                          name='RSI(14) Test Predict'\n",
        "                          ), row=rsi_row, col=1)\n",
        "  \n",
        "    indicators_prediction_dates = predict_dates(last_date)\n",
        "    fig.add_trace(go.Scatter(x=indicators_prediction_dates,\n",
        "                          y = indicators_prediction,\n",
        "                          line=dict(color='firebrick', width=3, dash = 'dot'),\n",
        "                          name='RSI(14) Future Predict'\n",
        "                          ), row=rsi_row, col=1)\n",
        " \n",
        "\n",
        "  fig.add_trace(go.Scatter(\n",
        "          x = [np.min(chart_df.index), np.max(chart_df.index)],\n",
        "          y = [70, 70],\n",
        "          mode = \"lines\",\n",
        "          line = dict(shape = 'linear', color = 'rgb(100, 10, 100)', dash = 'dash'),\n",
        "          name = 'RSI(14) over bought'\n",
        "      ),row=rsi_row, col=1)\n",
        "\n",
        "  fig.add_trace(go.Scatter(\n",
        "          x = [np.min(chart_df.index), np.max(chart_df.index)],\n",
        "          y = [50, 50],\n",
        "          mode = \"lines\",\n",
        "          line = dict(shape = 'linear', color = 'rgb(10, 12, 240)', dash = 'dash'),\n",
        "          name='RSI(14) Neutral'\n",
        "      ),row=rsi_row, col=1)\n",
        "\n",
        "  fig.add_trace(go.Scatter(\n",
        "          x = [np.min(chart_df.index), np.max(chart_df.index)],\n",
        "          y = [30, 30],\n",
        "          mode = \"lines\",\n",
        "          line = dict(shape = 'linear', color = 'rgb(10, 120, 24)', dash = 'dash'),\n",
        "          name='RSI(14) over sold'\n",
        "      ),row=rsi_row, col=1)\n",
        "\n",
        "\n",
        "  # Plot OHLC on 3st subplot (using the codes from before)\n",
        "  fig.add_trace(go.Candlestick(x=chart_df.index,\n",
        "                             open=chart_df['Open'],\n",
        "                             high=chart_df['High'],\n",
        "                             low=chart_df['Low'],\n",
        "                             close=chart_df['Close'], \n",
        "                             name=ticker.ticker,\n",
        "                             showlegend=True), row=candlestick_row, col=1)\n",
        "  \n",
        "\n",
        "  # add moving average traces\n",
        "  fig.add_trace(go.Scatter(x=chart_df.index, \n",
        "                         y=chart_df['MA20'], \n",
        "                         line=dict(color='lightgreen', width=2), \n",
        "                         name='MA 20'), row=candlestick_row, col=1)\n",
        "  fig.add_trace(go.Scatter(x=chart_df.index, \n",
        "                         y=chart_df['EMA21'], \n",
        "                         line=dict(color='green', width=2), \n",
        "                         name='EMA 21'), row=candlestick_row, col=1)\n",
        "  fig.add_trace(go.Scatter(x=chart_df.index, \n",
        "                         y=chart_df['MA50'], \n",
        "                         line=dict(color='blue', width=2), \n",
        "                         name='MA 50'), row=candlestick_row, col=1)\n",
        "  fig.add_trace(go.Scatter(x=chart_df.index, \n",
        "                         y=chart_df['MA100'], \n",
        "                         line=dict(color='orange', width=2), \n",
        "                         name='MA 100'), row=candlestick_row, col=1)\n",
        "  fig.add_trace(go.Scatter(x=chart_df.index, \n",
        "                         y=chart_df['MA200'], \n",
        "                         line=dict(color='red', width=2), \n",
        "                         name='MA 200'), row=candlestick_row, col=1)\n",
        "  fig.add_trace(go.Scatter(x=chart_df.index, \n",
        "                         y=chart_df['MA300'], \n",
        "                         line=dict(color='black', width=2), \n",
        "                         name='MA 300'), row=candlestick_row, col=1)\n",
        "\n",
        "\n",
        "  start_date = \"2021-06-01\"\n",
        "  end_date = \"2022-01-31\"\n",
        "  #zoom_df = chart_df.iloc['Date' >= start_date]\n",
        "  \n",
        "  zoom_df = chart_df[chart_df.Date >= start_date]\n",
        "  y_zoom_max = zoom_df[\"High\"].max()\n",
        "  y_zoom_min = zoom_df[\"Low\"].min()\n",
        "\n",
        "  ath_percent = 0\n",
        "  \n",
        "  for idx, level in  enumerate(levels):\n",
        "      percent = 0\n",
        "      if idx == 0:\n",
        "        ath = level\n",
        "      current_level = level\n",
        "      if idx > 0:\n",
        "        prev_level = levels[idx-1]\n",
        "        diff = prev_level - current_level\n",
        "        ath_diff = ath - current_level\n",
        "        percent = (diff / current_level) * 100\n",
        "        ath_percent =  (ath_diff / current_level) * 100\n",
        "      if level <= (min_level * 0.85) or level >= (max_level * 1.15):\n",
        "        line_color = 'rgba(100, 10, 100, 0.2)'\n",
        "      else:\n",
        "        line_color = 'rgba(200, 20, 200, 1)'\n",
        "      fig.add_trace(go.Scatter(\n",
        "          x = [chart_df.index.min(), chart_df.index.max()],\n",
        "          y = [level, level],\n",
        "          mode=\"lines+text\",\n",
        "          name=\"Lines and Text\",\n",
        "          showlegend=False,\n",
        "          text=['','$' + str(np.round(current_level,1)) + ' (' + str(np.round(percent,1)) + '% disc:' + str(np.round(ath_percent,1))+ '%)',''],\n",
        "          textposition=\"top right\",\n",
        "          line = dict(shape = 'linear', color = line_color, dash = 'dash', width=1)\n",
        "        ), row=candlestick_row, col=1)\n",
        "\n",
        "\n",
        "  # Plot volume trace on 4d row \n",
        "  colors = ['green' if row['Open'] - row['Close'] >= 0 \n",
        "            else 'red' for index, row in chart_df.iterrows()]\n",
        "  fig.add_trace(go.Bar(x=chart_df.index, \n",
        "                      y=chart_df['Volume'],\n",
        "                      marker_color=colors,\n",
        "                      name='Volume'\n",
        "                      ), row=volume_row, col=1)\n",
        "\n",
        "\n",
        "  # Plot MACD trace on 5rd row\n",
        "  colors = ['green' if val >= 0 \n",
        "            else '#FF5733' for val in macd.macd_diff()]\n",
        "  fig.add_trace(go.Bar(x=chart_df.index, \n",
        "                      y=chart_df['MACD_DIFF'],\n",
        "                      marker_color=colors,\n",
        "                      name='MACD diff'\n",
        "                      ), row=macd_row, col=1)\n",
        "  fig.add_trace(go.Scatter(x=chart_df.index,\n",
        "                          y=chart_df['MACD'],\n",
        "                          line=dict(color='green', width=2),\n",
        "                          name='MACD'\n",
        "                          ), row=macd_row, col=1)\n",
        "  fig.add_trace(go.Scatter(x=chart_df.index,\n",
        "                          y=chart_df['MACD_SIGNAL'],\n",
        "                          line=dict(color='red', width=1),\n",
        "                          name='MACD signal'\n",
        "                          ), row=macd_row, col=1)\n",
        "\n",
        "  fig.update_layout(xaxis_rangeslider_visible=False)\n",
        "  fig.update_xaxes(type=\"date\", range=[start_date, end_date])\n",
        "  fig.update_yaxes(range=[y_zoom_min,y_zoom_max], row=candlestick_row, col=1)\n",
        "  fig.update_yaxes(showspikes=True, spikemode='across', spikesnap='cursor',spikedash='dash')\n",
        "  fig.update_xaxes(showspikes=True, spikemode='across', spikesnap='cursor', spikedash='dash')\n",
        "\n",
        "  folder='/content/drive/MyDrive/models/charts/'+ str(last_date)\n",
        "  Path(folder).mkdir(parents=True, exist_ok=True)\n",
        "  chartPath = folder + '/' + ticker.ticker + '.html'\n",
        "  print('Chart saved:', chartPath)\n",
        "  fig.write_html(chartPath)\n",
        "  print('Get chart',ticker.ticker,'done.') \n",
        "  return fig"
      ],
      "metadata": {
        "id": "__5S41Y6xHQr"
      },
      "execution_count": 54,
      "outputs": []
    },
    {
      "cell_type": "code",
      "source": [
        "ticker = yf.Ticker('U')\n",
        "df = get_stock_price(ticker,\"2019-01-01\")\n",
        "\n",
        "#print(ticker.recommendations)\n",
        "#print(ticker.calendar)\n",
        "#print(get_earning(ticker))\n",
        "\n",
        "macd, soch, rsi = indicators(df)\n",
        "df['RSI'] = rsi.rsi().to_numpy()\n",
        "df['MACD_DIFF'] = macd.macd_diff().to_numpy()\n",
        "df['MACD'] = macd.macd().to_numpy()\n",
        "df['MACD_SIGNAL'] = macd.macd_signal().to_numpy()\n",
        "\n",
        "indicators_test_prediction, indicators_prediction = get_prediction_data(df,ticker)\n",
        "#print(prediction_data)\n",
        "#print(forecast_data)\n",
        "#fig = get_chart(ticker, df, None, None)\n",
        "fig = get_chart(ticker, df, indicators_test_prediction, indicators_prediction)\n",
        "fig.show()"
      ],
      "metadata": {
        "colab": {
          "base_uri": "https://localhost:8080/",
          "height": 1000
        },
        "id": "3tsG8hRUQH8Y",
        "outputId": "6bbeb41d-efcf-4b2d-cb0c-4f2d064787ff"
      },
      "execution_count": 55,
      "outputs": [
        {
          "output_type": "stream",
          "name": "stdout",
          "text": [
            "\r[*********************100%***********************]  1 of 1 completed\n",
            "Get Stock Price U done.\n",
            "Get prediction data U done.\n",
            "Get options U done.\n",
            "Value    2022-02-03 21:00:00\n",
            "Name: Earnings Date, dtype: object\n",
            "Get calendar U done.\n",
            "Get news U done.\n"
          ]
        },
        {
          "output_type": "stream",
          "name": "stderr",
          "text": [
            "/usr/local/lib/python3.7/dist-packages/ipykernel_launcher.py:223: RuntimeWarning:\n",
            "\n",
            "divide by zero encountered in double_scalars\n",
            "\n",
            "/usr/local/lib/python3.7/dist-packages/ipykernel_launcher.py:224: RuntimeWarning:\n",
            "\n",
            "divide by zero encountered in double_scalars\n",
            "\n"
          ]
        },
        {
          "output_type": "stream",
          "name": "stdout",
          "text": [
            "Chart saved: /content/drive/MyDrive/models/charts/2022-01-10/U.html\n",
            "Get chart U done.\n"
          ]
        },
        {
          "output_type": "display_data",
          "data": {
            "text/html": [
              "<html>\n",
              "<head><meta charset=\"utf-8\" /></head>\n",
              "<body>\n",
              "    <div>\n",
              "            <script src=\"https://cdnjs.cloudflare.com/ajax/libs/mathjax/2.7.5/MathJax.js?config=TeX-AMS-MML_SVG\"></script><script type=\"text/javascript\">if (window.MathJax) {MathJax.Hub.Config({SVG: {font: \"STIX-Web\"}});}</script>\n",
              "                <script type=\"text/javascript\">window.PlotlyConfig = {MathJaxConfig: 'local'};</script>\n",
              "        <script src=\"https://cdn.plot.ly/plotly-latest.min.js\"></script>    \n",
              "            <div id=\"72a09f0b-abf0-40e4-ac1d-8433a2040766\" class=\"plotly-graph-div\" style=\"height:1400px; width:1200px;\"></div>\n",
              "            <script type=\"text/javascript\">\n",
              "                \n",
              "                    window.PLOTLYENV=window.PLOTLYENV || {};\n",
              "                    \n",
              "                if (document.getElementById(\"72a09f0b-abf0-40e4-ac1d-8433a2040766\")) {\n",
              "                    Plotly.newPlot(\n",
              "                        '72a09f0b-abf0-40e4-ac1d-8433a2040766',\n",
              "                        [{\"cells\": {\"align\": \"left\", \"fill\": {\"color\": \"lavender\"}, \"values\": [[11, 11, 11, 11, 39, 39, 39, 186], [false, false, true, true, false, false, true, true], [100.0, 150.0, 110.0, 125.0, 125.0, 110.0, 140.0, 165.0], [126.0, 126.0, 126.0, 126.0, 126.0, 126.0, 126.0, 126.0], [0.4, 23.8, 16.65, 6.05, 10.25, 4.65, 5.7, 7.85], [0.7, 26.2, 17.9, 6.5, 11.0, 5.1, 6.0, 8.8], [196.0, 1026.0, 48.0, 920.0, 118.0, 544.0, 349.0, 3.0], [4990, 2414, 7230, 2257, 4389, 1124, 1425, 2414], [0.87, 0.78, 0.74, 0.64, 0.67, 0.71, 0.66, 0.55], [\"2022-01-21\", \"2022-01-21\", \"2022-01-21\", \"2022-01-21\", \"2022-02-18\", \"2022-02-18\", \"2022-02-18\", \"2022-07-15\"], [42.9, 9.2, 7.0, 6.9, 6.8, 8.8, 5.0, 10.8]]}, \"domain\": {\"x\": [0.0, 1.0], \"y\": [0.3796237218813906, 0.5314846625766871]}, \"header\": {\"align\": \"left\", \"fill\": {\"color\": \"paleturquoise\"}, \"font\": {\"color\": \"black\", \"size\": 12}, \"values\": [\"dte\", \"CALL\", \"strike\", \"Price\", \"bid\", \"ask\", \"volume\", \"openInterest\", \"impliedVolatility\", \"expirationDate\", \"spread%\"]}, \"type\": \"table\"}, {\"cells\": {\"align\": \"left\", \"fill\": {\"color\": \"lavender\"}, \"values\": [[\"2022-01-10 16:00:00\", \"2022-01-09 10:56:00\", \"2022-01-08 12:30:00\", \"2022-01-07 22:45:10\", \"2022-01-07 18:38:03\", \"2022-01-07 12:10:00\", \"2022-01-07 10:55:00\", \"2022-01-06 21:05:00\"], [\"Motley Fool\", \"Motley Fool\", \"Motley Fool\", \"Zacks\", \"GuruFocus.com\", \"Motley Fool\", \"Motley Fool\", \"Business Wire\"], [\"<a href=\\\"https://finance.yahoo.com/m/6490cf63-3587-3eb7-809b-d2c13058ada1/is-it-game-over-for-these-2.html\\\">Is It Game Over for These 2 Metaverse Stocks?</a>\", \"<a href=\\\"https://finance.yahoo.com/m/63301123-582f-388c-bebd-dab4354ecd75/5-unstoppable-metaverse.html\\\">5 Unstoppable Metaverse Stocks to Buy in 2022</a>\", \"<a href=\\\"https://finance.yahoo.com/m/c5397173-5ac8-3570-944c-b53dadd4f2ae/3-disruptive-stocks-to-buy.html\\\">3 Disruptive Stocks to Buy Before You Invest in Cryptocurrency</a>\", \"<a href=\\\"https://finance.yahoo.com/news/unity-software-inc-u-gains-224510601.html\\\">Unity Software Inc. (U) Gains As Market Dips: What You Should Know</a>\", \"<a href=\\\"https://finance.yahoo.com/news/valeo-financial-advisors-llc-buys-183803828.html\\\">Valeo Financial Advisors, LLC Buys Vanguard S&P 500 ETF, Vanguard Intermediate-Term ...</a>\", \"<a href=\\\"https://finance.yahoo.com/m/0d77bcd3-6b6d-3eac-a7f8-f4b76bcb2b84/2-monster-metaverse-stocks-to.html\\\">2 Monster Metaverse Stocks to Buy and Hold for the Next Decade</a>\", \"<a href=\\\"https://finance.yahoo.com/m/ca0f844c-96eb-3930-ba14-49d019c244d4/3-stocks-that-can-turn.html\\\">3 Stocks That Can Turn $100,000 Into $1 Million by 2030</a>\", \"<a href=\\\"https://finance.yahoo.com/news/unity-announces-fourth-quarter-fiscal-210500597.html\\\">Unity Announces Fourth Quarter and Fiscal Year 2021 Financial Results Webcast</a>\"]]}, \"columnwidth\": [80, 80, 400], \"domain\": {\"x\": [0.0, 1.0], \"y\": [0.0, 0.25950920245398773]}, \"header\": {\"align\": \"left\", \"fill\": {\"color\": \"paleturquoise\"}, \"values\": [\"Time\", \"Publisher\", \"Title\"]}, \"type\": \"table\"}, {\"line\": {\"color\": \"royalblue\", \"width\": 2}, \"name\": \"RSI(14)\", \"type\": \"scatter\", \"x\": [\"2020-09-18T00:00:00\", \"2020-09-21T00:00:00\", \"2020-09-22T00:00:00\", \"2020-09-23T00:00:00\", \"2020-09-24T00:00:00\", \"2020-09-25T00:00:00\", \"2020-09-28T00:00:00\", \"2020-09-29T00:00:00\", \"2020-09-30T00:00:00\", \"2020-10-01T00:00:00\", \"2020-10-02T00:00:00\", \"2020-10-05T00:00:00\", \"2020-10-06T00:00:00\", \"2020-10-07T00:00:00\", \"2020-10-08T00:00:00\", \"2020-10-09T00:00:00\", \"2020-10-12T00:00:00\", \"2020-10-13T00:00:00\", \"2020-10-14T00:00:00\", \"2020-10-15T00:00:00\", \"2020-10-16T00:00:00\", \"2020-10-19T00:00:00\", \"2020-10-20T00:00:00\", \"2020-10-21T00:00:00\", \"2020-10-22T00:00:00\", \"2020-10-23T00:00:00\", \"2020-10-26T00:00:00\", \"2020-10-27T00:00:00\", \"2020-10-28T00:00:00\", \"2020-10-29T00:00:00\", \"2020-10-30T00:00:00\", \"2020-11-02T00:00:00\", \"2020-11-03T00:00:00\", \"2020-11-04T00:00:00\", \"2020-11-05T00:00:00\", \"2020-11-06T00:00:00\", \"2020-11-09T00:00:00\", \"2020-11-10T00:00:00\", \"2020-11-11T00:00:00\", \"2020-11-12T00:00:00\", \"2020-11-13T00:00:00\", \"2020-11-16T00:00:00\", \"2020-11-17T00:00:00\", \"2020-11-18T00:00:00\", \"2020-11-19T00:00:00\", \"2020-11-20T00:00:00\", \"2020-11-23T00:00:00\", \"2020-11-24T00:00:00\", \"2020-11-25T00:00:00\", \"2020-11-27T00:00:00\", \"2020-11-30T00:00:00\", \"2020-12-01T00:00:00\", \"2020-12-02T00:00:00\", \"2020-12-03T00:00:00\", \"2020-12-04T00:00:00\", \"2020-12-07T00:00:00\", \"2020-12-08T00:00:00\", \"2020-12-09T00:00:00\", \"2020-12-10T00:00:00\", \"2020-12-11T00:00:00\", \"2020-12-14T00:00:00\", \"2020-12-15T00:00:00\", \"2020-12-16T00:00:00\", \"2020-12-17T00:00:00\", \"2020-12-18T00:00:00\", \"2020-12-21T00:00:00\", \"2020-12-22T00:00:00\", \"2020-12-23T00:00:00\", \"2020-12-24T00:00:00\", \"2020-12-28T00:00:00\", \"2020-12-29T00:00:00\", \"2020-12-30T00:00:00\", \"2020-12-31T00:00:00\", \"2021-01-04T00:00:00\", \"2021-01-05T00:00:00\", \"2021-01-06T00:00:00\", \"2021-01-07T00:00:00\", \"2021-01-08T00:00:00\", \"2021-01-11T00:00:00\", \"2021-01-12T00:00:00\", \"2021-01-13T00:00:00\", \"2021-01-14T00:00:00\", \"2021-01-15T00:00:00\", \"2021-01-19T00:00:00\", \"2021-01-20T00:00:00\", \"2021-01-21T00:00:00\", \"2021-01-22T00:00:00\", \"2021-01-25T00:00:00\", \"2021-01-26T00:00:00\", \"2021-01-27T00:00:00\", \"2021-01-28T00:00:00\", \"2021-01-29T00:00:00\", \"2021-02-01T00:00:00\", \"2021-02-02T00:00:00\", \"2021-02-03T00:00:00\", \"2021-02-04T00:00:00\", \"2021-02-05T00:00:00\", \"2021-02-08T00:00:00\", \"2021-02-09T00:00:00\", \"2021-02-10T00:00:00\", \"2021-02-11T00:00:00\", \"2021-02-12T00:00:00\", \"2021-02-16T00:00:00\", \"2021-02-17T00:00:00\", \"2021-02-18T00:00:00\", \"2021-02-19T00:00:00\", \"2021-02-22T00:00:00\", \"2021-02-23T00:00:00\", \"2021-02-24T00:00:00\", \"2021-02-25T00:00:00\", \"2021-02-26T00:00:00\", \"2021-03-01T00:00:00\", \"2021-03-02T00:00:00\", \"2021-03-03T00:00:00\", \"2021-03-04T00:00:00\", \"2021-03-05T00:00:00\", \"2021-03-08T00:00:00\", \"2021-03-09T00:00:00\", \"2021-03-10T00:00:00\", \"2021-03-11T00:00:00\", \"2021-03-12T00:00:00\", \"2021-03-15T00:00:00\", \"2021-03-16T00:00:00\", \"2021-03-17T00:00:00\", \"2021-03-18T00:00:00\", \"2021-03-19T00:00:00\", \"2021-03-22T00:00:00\", \"2021-03-23T00:00:00\", \"2021-03-24T00:00:00\", \"2021-03-25T00:00:00\", \"2021-03-26T00:00:00\", \"2021-03-29T00:00:00\", \"2021-03-30T00:00:00\", \"2021-03-31T00:00:00\", \"2021-04-01T00:00:00\", \"2021-04-05T00:00:00\", \"2021-04-06T00:00:00\", \"2021-04-07T00:00:00\", \"2021-04-08T00:00:00\", \"2021-04-09T00:00:00\", \"2021-04-12T00:00:00\", \"2021-04-13T00:00:00\", \"2021-04-14T00:00:00\", \"2021-04-15T00:00:00\", \"2021-04-16T00:00:00\", \"2021-04-19T00:00:00\", \"2021-04-20T00:00:00\", \"2021-04-21T00:00:00\", \"2021-04-22T00:00:00\", \"2021-04-23T00:00:00\", \"2021-04-26T00:00:00\", \"2021-04-27T00:00:00\", \"2021-04-28T00:00:00\", \"2021-04-29T00:00:00\", \"2021-04-30T00:00:00\", \"2021-05-03T00:00:00\", \"2021-05-04T00:00:00\", \"2021-05-05T00:00:00\", \"2021-05-06T00:00:00\", \"2021-05-07T00:00:00\", \"2021-05-10T00:00:00\", \"2021-05-11T00:00:00\", \"2021-05-12T00:00:00\", \"2021-05-13T00:00:00\", \"2021-05-14T00:00:00\", \"2021-05-17T00:00:00\", \"2021-05-18T00:00:00\", \"2021-05-19T00:00:00\", \"2021-05-20T00:00:00\", \"2021-05-21T00:00:00\", \"2021-05-24T00:00:00\", \"2021-05-25T00:00:00\", \"2021-05-26T00:00:00\", \"2021-05-27T00:00:00\", \"2021-05-28T00:00:00\", \"2021-06-01T00:00:00\", \"2021-06-02T00:00:00\", \"2021-06-03T00:00:00\", \"2021-06-04T00:00:00\", \"2021-06-07T00:00:00\", \"2021-06-08T00:00:00\", \"2021-06-09T00:00:00\", \"2021-06-10T00:00:00\", \"2021-06-11T00:00:00\", \"2021-06-14T00:00:00\", \"2021-06-15T00:00:00\", \"2021-06-16T00:00:00\", \"2021-06-17T00:00:00\", \"2021-06-18T00:00:00\", \"2021-06-21T00:00:00\", \"2021-06-22T00:00:00\", \"2021-06-23T00:00:00\", \"2021-06-24T00:00:00\", \"2021-06-25T00:00:00\", \"2021-06-28T00:00:00\", \"2021-06-29T00:00:00\", \"2021-06-30T00:00:00\", \"2021-07-01T00:00:00\", \"2021-07-02T00:00:00\", \"2021-07-06T00:00:00\", \"2021-07-07T00:00:00\", \"2021-07-08T00:00:00\", \"2021-07-09T00:00:00\", \"2021-07-12T00:00:00\", \"2021-07-13T00:00:00\", \"2021-07-14T00:00:00\", \"2021-07-15T00:00:00\", \"2021-07-16T00:00:00\", \"2021-07-19T00:00:00\", \"2021-07-20T00:00:00\", \"2021-07-21T00:00:00\", \"2021-07-22T00:00:00\", \"2021-07-23T00:00:00\", \"2021-07-26T00:00:00\", \"2021-07-27T00:00:00\", \"2021-07-28T00:00:00\", \"2021-07-29T00:00:00\", \"2021-07-30T00:00:00\", \"2021-08-02T00:00:00\", \"2021-08-03T00:00:00\", \"2021-08-04T00:00:00\", \"2021-08-05T00:00:00\", \"2021-08-06T00:00:00\", \"2021-08-09T00:00:00\", \"2021-08-10T00:00:00\", \"2021-08-11T00:00:00\", \"2021-08-12T00:00:00\", \"2021-08-13T00:00:00\", \"2021-08-16T00:00:00\", \"2021-08-17T00:00:00\", \"2021-08-18T00:00:00\", \"2021-08-19T00:00:00\", \"2021-08-20T00:00:00\", \"2021-08-23T00:00:00\", \"2021-08-24T00:00:00\", \"2021-08-25T00:00:00\", \"2021-08-26T00:00:00\", \"2021-08-27T00:00:00\", \"2021-08-30T00:00:00\", \"2021-08-31T00:00:00\", \"2021-09-01T00:00:00\", \"2021-09-02T00:00:00\", \"2021-09-03T00:00:00\", \"2021-09-07T00:00:00\", \"2021-09-08T00:00:00\", \"2021-09-09T00:00:00\", \"2021-09-10T00:00:00\", \"2021-09-13T00:00:00\", \"2021-09-14T00:00:00\", \"2021-09-15T00:00:00\", \"2021-09-16T00:00:00\", \"2021-09-17T00:00:00\", \"2021-09-20T00:00:00\", \"2021-09-21T00:00:00\", \"2021-09-22T00:00:00\", \"2021-09-23T00:00:00\", \"2021-09-24T00:00:00\", \"2021-09-27T00:00:00\", \"2021-09-28T00:00:00\", \"2021-09-29T00:00:00\", \"2021-09-30T00:00:00\", \"2021-10-01T00:00:00\", \"2021-10-04T00:00:00\", \"2021-10-05T00:00:00\", \"2021-10-06T00:00:00\", \"2021-10-07T00:00:00\", \"2021-10-08T00:00:00\", \"2021-10-11T00:00:00\", \"2021-10-12T00:00:00\", \"2021-10-13T00:00:00\", \"2021-10-14T00:00:00\", \"2021-10-15T00:00:00\", \"2021-10-18T00:00:00\", \"2021-10-19T00:00:00\", \"2021-10-20T00:00:00\", \"2021-10-21T00:00:00\", \"2021-10-22T00:00:00\", \"2021-10-25T00:00:00\", \"2021-10-26T00:00:00\", \"2021-10-27T00:00:00\", \"2021-10-28T00:00:00\", \"2021-10-29T00:00:00\", \"2021-11-01T00:00:00\", \"2021-11-02T00:00:00\", \"2021-11-03T00:00:00\", \"2021-11-04T00:00:00\", \"2021-11-05T00:00:00\", \"2021-11-08T00:00:00\", \"2021-11-09T00:00:00\", \"2021-11-10T00:00:00\", \"2021-11-11T00:00:00\", \"2021-11-12T00:00:00\", \"2021-11-15T00:00:00\", \"2021-11-16T00:00:00\", \"2021-11-17T00:00:00\", \"2021-11-18T00:00:00\", \"2021-11-19T00:00:00\", \"2021-11-22T00:00:00\", \"2021-11-23T00:00:00\", \"2021-11-24T00:00:00\", \"2021-11-26T00:00:00\", \"2021-11-29T00:00:00\", \"2021-11-30T00:00:00\", \"2021-12-01T00:00:00\", \"2021-12-02T00:00:00\", \"2021-12-03T00:00:00\", \"2021-12-06T00:00:00\", \"2021-12-07T00:00:00\", \"2021-12-08T00:00:00\", \"2021-12-09T00:00:00\", \"2021-12-10T00:00:00\", \"2021-12-13T00:00:00\", \"2021-12-14T00:00:00\", \"2021-12-15T00:00:00\", \"2021-12-16T00:00:00\", \"2021-12-17T00:00:00\", \"2021-12-20T00:00:00\", \"2021-12-21T00:00:00\", \"2021-12-22T00:00:00\", \"2021-12-23T00:00:00\", \"2021-12-27T00:00:00\", \"2021-12-28T00:00:00\", \"2021-12-29T00:00:00\", \"2021-12-30T00:00:00\", \"2021-12-31T00:00:00\", \"2022-01-03T00:00:00\", \"2022-01-04T00:00:00\", \"2022-01-05T00:00:00\", \"2022-01-06T00:00:00\", \"2022-01-07T00:00:00\", \"2022-01-10T00:00:00\"], \"xaxis\": \"x3\", \"y\": [null, null, null, null, null, null, null, null, null, null, null, null, null, 65.50918030691028, 68.38613435827467, 74.74621011574115, 59.511495798421706, 61.470293974727355, 58.453684686527446, 59.88399180054811, 61.041543401096504, 56.01944079609863, 52.92671377958435, 57.45616820705936, 66.45004188478292, 61.29416483850293, 63.51440713954464, 66.62259854874499, 60.77128187235476, 67.37877749869102, 52.68577262594379, 52.029330728658046, 55.18808847197108, 61.0610463710791, 63.69635933012927, 68.13630850651529, 54.15631226765795, 51.89152717075801, 55.60222349860469, 52.75953304613882, 60.19592587577244, 57.74668025183589, 61.16081728796251, 58.78313698568455, 59.50807585531727, 63.00625962492919, 66.20386048614915, 65.86941571809547, 69.72208151513904, 73.59523752795221, 75.06909356775547, 70.45510005732932, 64.86872365574771, 66.9767489794793, 69.24383603425883, 71.1728799393626, 75.22189590629444, 62.690512357699866, 65.21921046706146, 61.11906823707794, 57.17967171439802, 55.747005232760415, 56.893828537233574, 59.35599864543449, 62.61930856508936, 66.05146660075476, 68.85547465580487, 65.21725574507158, 62.72535217287158, 56.24778399466296, 52.61801532362885, 54.79216053421803, 53.80605424579849, 47.41418207318268, 50.54084233797268, 44.0222920448368, 44.439439560617146, 49.745020185570866, 46.78748572798292, 50.491344176493634, 53.144742563317564, 52.61658726525395, 51.245448764505994, 48.436242557490424, 50.297722349949076, 50.05858202002257, 55.60093289176582, 53.34646248611551, 51.476304843405664, 56.533466542579966, 54.91797305102329, 50.85631926401926, 53.49821700675328, 49.001170384133964, 49.308340773077894, 50.741290529996, 35.3486696623539, 33.41497737142896, 36.51659593968116, 36.311598909691234, 34.94733397900353, 35.729768758291826, 35.286155728157354, 32.69620247578723, 30.750437618642096, 34.79575054140901, 30.975575006662837, 28.24852817023215, 28.20441854385129, 25.055082384792954, 29.426072878267362, 30.697997830900846, 30.415946122628853, 27.109702517466815, 23.38556104396909, 22.566007006208665, 22.062641781317552, 30.35018159743835, 33.01332109745515, 41.758989642033995, 40.986049093032086, 45.755656612682415, 44.98635485782452, 45.101056156217936, 38.14482162308942, 37.18168437084211, 37.01393646252674, 34.254732245470535, 30.744474873905475, 29.418320370890214, 36.8699219414249, 35.895706633807094, 39.72761273925628, 44.62876547178585, 45.702467762264824, 45.11517033592652, 47.578687818079786, 42.15341041483134, 43.82241553295802, 41.74698360830709, 43.02691792476312, 48.86427281133652, 48.19397895348704, 49.519718420296996, 47.58538713684042, 43.25254503763543, 42.467118342451265, 49.9790272800895, 50.71124644790987, 51.78939288091775, 55.421760710856255, 54.15150795159099, 56.55962097833152, 51.94829328395364, 48.66883403127694, 40.68866821114272, 37.42595445129346, 34.31164798132225, 30.270182507968258, 32.81749598578064, 25.630732617782428, 31.711210580962316, 31.430720612878474, 28.42525746862833, 40.51162345467857, 39.51627662506058, 44.39862045762885, 42.88041466266004, 45.63133642533607, 50.9048183308045, 54.69104659523276, 53.00866013449877, 54.365033080348894, 53.601375537723925, 51.24069503709444, 49.93284879903372, 49.54637047606067, 48.752965623759756, 52.69275946290461, 57.99685984889604, 57.88116079278912, 58.95700429056139, 62.58456847317242, 59.03039746458986, 63.6846758218718, 53.93703812915316, 51.420449594111446, 62.11196465839027, 63.53989647132308, 66.86707185363036, 69.35410368996688, 71.93834963004228, 72.67363583868038, 64.46505828675973, 64.86754464730919, 65.31551013139531, 62.86951087862659, 54.302671449578455, 54.71901097977386, 55.692806566626885, 51.125727606323935, 52.46669510025801, 55.06443398641385, 54.26015967607534, 48.334377111604184, 41.17152448087525, 36.86412677551548, 36.80632877323679, 40.616415375776576, 45.13934183889994, 51.61653833584019, 53.29441321310243, 55.710448446487206, 50.95072555070909, 46.017509581944175, 59.325469924884544, 62.45232621681684, 54.938568996863644, 55.64818010072719, 51.487691320307306, 57.10211547463425, 58.55372265300601, 52.8927774075681, 57.32256509097471, 52.273194398839316, 66.73008244446609, 70.36545352043767, 71.72381684467109, 62.30029201276872, 60.49358291365404, 56.88976485835681, 55.02589913446829, 60.90041904677622, 62.8894797368928, 62.637363723346326, 61.909772807161154, 55.454076282765485, 58.94239772486362, 61.59885742976239, 61.982634078075634, 61.578523122693355, 67.6173865232864, 68.00077254515674, 70.14684871184568, 65.43835851038372, 65.92355269254128, 66.8488304454525, 59.70204333527484, 60.35248800777741, 60.718286558840376, 63.62192457694738, 66.13848808837051, 50.78582110063334, 55.02224817748162, 57.87182789580959, 64.95069376231947, 66.24944214254882, 59.233107822457896, 47.04797496575041, 45.76284498333301, 46.254709325522654, 46.22246580771662, 39.86733634847747, 49.493955818783704, 51.85260323303142, 57.119128232567114, 57.251872036281036, 56.59773652989835, 59.952311964255045, 57.936173731532485, 61.33297921003629, 60.81733077116195, 65.30486064394188, 66.70913172281314, 58.6641569441923, 62.93244852513177, 58.500106997300435, 60.47414207157522, 61.958443283976266, 56.95599654080402, 60.79790483000781, 63.636205633245105, 59.875414082980654, 53.57813454536114, 57.3098898599202, 60.99521518170181, 61.26133534768682, 69.56511388785069, 74.13666985399136, 76.30274006588739, 78.57944196281294, 83.0599295455944, 83.29319648186848, 81.23196938907202, 75.71570526609918, 79.09943124719402, 66.85989887900419, 56.47270391436106, 55.63460955073905, 58.96595769173981, 57.41299765436253, 50.308377193585294, 51.695490517452285, 39.697889839234996, 40.17440808647993, 37.53211854131716, 38.08631142617188, 42.784256420629276, 43.12908012635378, 35.77323986076179, 35.52515811078814, 35.778544125475904, 36.020314459426906, 36.779003514445264, 32.814935865790844, 37.64358440246481, 36.95754975654649, 45.17212973554138, 44.478633138421344, 45.128016091141134, 47.50076591504431, 43.751575335064715, 44.82738749955109, 46.29861081885858, 43.619632190074505, 39.93368028638204, 33.6414949042113, 28.85498360342136, 28.22996359592807, 29.057395522806488, 36.131308042524054], \"yaxis\": \"y3\"}, {\"line\": {\"color\": \"firebrick\", \"dash\": \"dash\", \"width\": 3}, \"name\": \"RSI(14) Test Predict\", \"type\": \"scatter\", \"x\": [\"2021-12-15T00:00:00\", \"2021-12-16T00:00:00\", \"2021-12-17T00:00:00\", \"2021-12-20T00:00:00\", \"2021-12-21T00:00:00\", \"2021-12-22T00:00:00\", \"2021-12-23T00:00:00\", \"2021-12-27T00:00:00\", \"2021-12-28T00:00:00\", \"2021-12-29T00:00:00\", \"2021-12-30T00:00:00\", \"2021-12-31T00:00:00\", \"2022-01-03T00:00:00\", \"2022-01-04T00:00:00\", \"2022-01-05T00:00:00\", \"2022-01-06T00:00:00\", \"2022-01-07T00:00:00\", \"2022-01-10T00:00:00\"], \"xaxis\": \"x3\", \"y\": [34.87272644042969, 35.081295013427734, 34.01459503173828, 34.223052978515625, 34.827545166015625, 39.88547897338867, 44.35400390625, 46.198448181152344, 47.80161666870117, 46.51134490966797, 45.2653694152832, 46.034210205078125, 45.35367202758789, 42.59538650512695, 37.9556884765625, 32.56468963623047, 28.983644485473633, 28.367048263549805], \"yaxis\": \"y3\"}, {\"line\": {\"color\": \"firebrick\", \"dash\": \"dot\", \"width\": 3}, \"name\": \"RSI(14) Future Predict\", \"type\": \"scatter\", \"x\": [\"2022-01-10T00:00:00\", \"2022-01-11T00:00:00\", \"2022-01-12T00:00:00\", \"2022-01-13T00:00:00\", \"2022-01-14T00:00:00\", \"2022-01-18T00:00:00\", \"2022-01-19T00:00:00\", \"2022-01-20T00:00:00\", \"2022-01-21T00:00:00\", \"2022-01-24T00:00:00\", \"2022-01-25T00:00:00\", \"2022-01-26T00:00:00\", \"2022-01-27T00:00:00\", \"2022-01-28T00:00:00\", \"2022-01-31T00:00:00\", \"2022-02-01T00:00:00\", \"2022-02-02T00:00:00\", \"2022-02-03T00:00:00\", \"2022-02-04T00:00:00\", \"2022-02-07T00:00:00\", \"2022-02-08T00:00:00\", \"2022-02-09T00:00:00\", \"2022-02-10T00:00:00\", \"2022-02-11T00:00:00\", \"2022-02-14T00:00:00\", \"2022-02-15T00:00:00\", \"2022-02-16T00:00:00\", \"2022-02-17T00:00:00\", \"2022-02-18T00:00:00\"], \"xaxis\": \"x3\", \"y\": [36.131308042524054, 33.34985213475008, 35.75157119921328, 36.41822273503822, 36.26583901070334, 35.66724295328076, 34.80070873013513, 33.7728309521446, 32.68953269910228, 31.673751604706634, 30.769760363034777, 30.019117259226228, 29.442301254156455, 29.045934593226853, 28.827721662021624, 28.761904316434027, 28.824999953833093, 28.968531511609104, 29.15537499955927, 29.35060578302505, 29.52442102048108, 29.65919119613159, 29.746226551750787, 29.79613974197993, 29.81345082795411, 29.801906150210407, 29.771335974931592, 29.72760707504836, 29.678021438704466], \"yaxis\": \"y3\"}, {\"line\": {\"color\": \"rgb(100, 10, 100)\", \"dash\": \"dash\", \"shape\": \"linear\"}, \"mode\": \"lines\", \"name\": \"RSI(14) over bought\", \"type\": \"scatter\", \"x\": [\"2020-09-18T00:00:00\", \"2022-01-10T00:00:00\"], \"xaxis\": \"x3\", \"y\": [70, 70], \"yaxis\": \"y3\"}, {\"line\": {\"color\": \"rgb(10, 12, 240)\", \"dash\": \"dash\", \"shape\": \"linear\"}, \"mode\": \"lines\", \"name\": \"RSI(14) Neutral\", \"type\": \"scatter\", \"x\": [\"2020-09-18T00:00:00\", \"2022-01-10T00:00:00\"], \"xaxis\": \"x3\", \"y\": [50, 50], \"yaxis\": \"y3\"}, {\"line\": {\"color\": \"rgb(10, 120, 24)\", \"dash\": \"dash\", \"shape\": \"linear\"}, \"mode\": \"lines\", \"name\": \"RSI(14) over sold\", \"type\": \"scatter\", \"x\": [\"2020-09-18T00:00:00\", \"2022-01-10T00:00:00\"], \"xaxis\": \"x3\", \"y\": [30, 30], \"yaxis\": \"y3\"}, {\"close\": [68.3499984741211, 72.95999908447266, 84.81999969482422, 81.8499984741211, 83.19999694824219, 89.8499984741211, 95.80000305175781, 94.91999816894531, 87.27999877929688, 84.55999755859375, 83.52999877929688, 84.0, 82.79000091552734, 88.6500015258789, 91.4000015258789, 99.11000061035156, 90.0, 92.11000061035156, 90.0199966430664, 91.43000030517578, 92.55999755859375, 89.30000305175781, 87.1500015258789, 91.0, 100.95999908447266, 97.27999877929688, 99.95999908447266, 104.0, 99.76000213623047, 108.83999633789062, 94.87999725341797, 94.12999725341797, 98.06999969482422, 106.44999694824219, 110.76000213623047, 119.0, 102.8499984741211, 99.66000366210938, 105.58000183105469, 101.73999786376953, 114.7699966430664, 111.51000213623047, 118.05000305175781, 115.01000213623047, 116.30999755859375, 122.80000305175781, 129.39999389648438, 129.0399932861328, 137.4600067138672, 147.6199951171875, 151.97999572753906, 147.22999572753906, 141.0500030517578, 145.6699981689453, 150.94000244140625, 155.7100067138672, 167.25, 152.0, 158.17999267578125, 152.5, 146.72000122070312, 144.5800018310547, 146.69000244140625, 151.27000427246094, 157.77000427246094, 165.3699951171875, 172.2899932861328, 167.9499969482422, 164.9199981689453, 156.44000244140625, 151.17999267578125, 154.82000732421875, 153.47000122070312, 144.0800018310547, 148.72000122070312, 137.99000549316406, 138.57000732421875, 146.1999969482422, 141.50999450683594, 146.99000549316406, 151.1300048828125, 150.41000366210938, 148.61000061035156, 144.88999938964844, 147.25, 146.9600067138672, 154.02999877929688, 151.52999877929688, 149.4499969482422, 155.86000061035156, 154.17999267578125, 149.82000732421875, 152.92999267578125, 148.0, 148.3300018310547, 149.80999755859375, 128.63999938964844, 124.88999938964844, 128.0, 127.6500015258789, 125.38999938964844, 126.06999969482422, 125.41000366210938, 121.5, 118.37000274658203, 121.4000015258789, 115.45999908447266, 110.61000061035156, 110.52999877929688, 104.55000305175781, 107.62999725341797, 108.52999877929688, 108.0999984741211, 102.80000305175781, 95.58999633789062, 93.81999969482422, 92.75, 98.05000305175781, 99.88999938964844, 106.5999984741211, 105.69999694824219, 109.66999816894531, 108.88999938964844, 108.9800033569336, 101.66999816894531, 100.52999877929688, 100.33999633789062, 97.19000244140625, 92.70999908447266, 90.87999725341797, 95.52999877929688, 94.41999816894531, 96.9000015258789, 100.30999755859375, 101.08000183105469, 100.5999984741211, 102.2300033569336, 97.88999938964844, 98.94000244140625, 97.26000213623047, 98.0, 101.56999969482422, 101.12000274658203, 101.91999816894531, 100.73999786376953, 97.93000030517578, 97.4000015258789, 101.47000122070312, 101.9000015258789, 102.51000213623047, 104.62000274658203, 104.01000213623047, 105.37999725341797, 103.2300033569336, 101.58000183105469, 96.81999969482422, 94.47000122070312, 92.0, 88.31999969482422, 89.41999816894531, 81.58000183105469, 84.54000091552734, 84.23999786376953, 80.91000366210938, 87.4800033569336, 86.56999969482422, 89.58999633789062, 88.36000061035156, 90.05000305175781, 93.55000305175781, 96.3499984741211, 95.27999877929688, 96.23999786376953, 95.80000305175781, 94.45999908447266, 93.72000122070312, 93.51000213623047, 93.0999984741211, 95.08000183105469, 98.0999984741211, 98.05000305175781, 98.66000366210938, 100.80999755859375, 99.44999694824219, 102.30000305175781, 98.08999633789062, 96.83999633789062, 103.86000061035156, 105.0199966430664, 107.88999938964844, 110.26000213623047, 112.95999908447266, 113.76000213623047, 110.1500015258789, 110.48999786376953, 110.8499984741211, 109.83000183105469, 105.83999633789062, 106.08999633789062, 106.6500015258789, 104.48999786376953, 105.18000030517578, 106.52999877929688, 106.19000244140625, 103.54000091552734, 99.62000274658203, 96.75, 96.70999908447266, 98.2300033569336, 100.16000366210938, 103.30999755859375, 104.19999694824219, 105.5, 103.31999969482422, 100.77999877929688, 108.75, 111.25, 107.12000274658203, 107.62999725341797, 105.19999694824219, 109.1500015258789, 110.26000213623047, 107.0, 110.25, 107.1500015258789, 121.3499984741211, 126.69000244140625, 128.8699951171875, 122.19000244140625, 120.77999877929688, 117.91999816894531, 116.41000366210938, 122.83999633789062, 125.29000091552734, 125.11000061035156, 124.62000274658203, 120.05999755859375, 123.51000213623047, 126.33999633789062, 126.75, 126.5, 133.13999938964844, 133.61000061035156, 136.25999450683594, 133.6199951171875, 134.13999938964844, 135.10000610351562, 131.1699981689453, 131.72999572753906, 132.02999877929688, 134.44000244140625, 136.69000244140625, 127.55999755859375, 131.0, 133.50999450683594, 140.94000244140625, 142.52000427246094, 137.8300018310547, 127.18000030517578, 125.83000183105469, 126.25, 126.22000122070312, 119.8499984741211, 128.0500030517578, 130.3800048828125, 136.07000732421875, 136.22000122070312, 135.6999969482422, 139.24000549316406, 137.75999450683594, 141.35000610351562, 141.0, 146.0, 147.7100067138672, 142.3300018310547, 147.10000610351562, 143.85000610351562, 145.99000549316406, 147.6199951171875, 144.0800018310547, 148.07000732421875, 151.30999755859375, 148.6999969482422, 143.8800048828125, 147.60000610351562, 151.66000366210938, 151.9600067138672, 163.10000610351562, 171.6300048828125, 176.4499969482422, 182.1300048828125, 196.64999389648438, 197.5500030517578, 196.00999450683594, 191.8000030517578, 201.1199951171875, 189.75, 177.1999969482422, 176.07000732421875, 181.80999755859375, 179.88999938964844, 170.3300018310547, 172.38999938964844, 151.67999267578125, 152.33999633789062, 146.8800048828125, 147.57000732421875, 153.5, 153.94000244140625, 140.0, 139.47000122070312, 139.75, 140.0, 140.74000549316406, 133.74000549316406, 138.41000366210938, 137.2899932861328, 145.83999633789062, 144.88999938964844, 145.57000732421875, 148.00999450683594, 143.52000427246094, 144.5500030517578, 145.9199981689453, 142.99000549316406, 138.64999389648438, 129.72999572753906, 121.01000213623047, 119.75, 120.37999725341797, 126.0], \"high\": [76.79000091552734, 73.9800033569336, 84.9800033569336, 88.87999725341797, 83.88999938964844, 93.36000061035156, 100.0, 102.62999725341797, 96.36000061035156, 90.97000122070312, 87.61900329589844, 85.8489990234375, 84.76000213623047, 89.5, 93.5, 100.41999816894531, 101.0, 94.77999877929688, 96.0999984741211, 93.38999938964844, 93.5999984741211, 95.4000015258789, 90.62000274658203, 91.2699966430664, 101.0, 103.97000122070312, 103.48999786376953, 108.3499984741211, 102.0, 109.27999877929688, 107.30000305175781, 98.69000244140625, 99.5, 106.87999725341797, 112.79000091552734, 119.87999725341797, 117.02999877929688, 106.19000244140625, 106.5, 106.53199768066406, 116.86000061035156, 112.5, 122.94999694824219, 119.2699966430664, 118.5, 124.18000030517578, 129.8699951171875, 133.85000610351562, 138.947998046875, 148.0, 152.61000061035156, 155.9499969482422, 145.5, 149.9499969482422, 154.8800048828125, 158.1999969482422, 167.8699951171875, 170.5500030517578, 161.25, 159.4720001220703, 156.0, 150.00999450683594, 150.75999450683594, 156.99000549316406, 158.42999267578125, 165.6999969482422, 173.58999633789062, 174.94000244140625, 173.13999938964844, 170.02000427246094, 158.5800018310547, 157.5500030517578, 156.85000610351562, 155.25, 149.22999572753906, 142.75999450683594, 140.97000122070312, 150.8800048828125, 145.72999572753906, 149.46400451660156, 156.69000244140625, 157.1300048828125, 158.60000610351562, 151.1999969482422, 149.88999938964844, 148.27999877929688, 156.16200256347656, 167.32000732421875, 155.8300018310547, 164.39999389648438, 158.5500030517578, 156.9199981689453, 158.41000366210938, 154.4600067138672, 151.00999450683594, 153.3300018310547, 139.77999877929688, 129.25, 131.4199981689453, 130.0399932861328, 129.60000610351562, 126.06999969482422, 130.1999969482422, 124.81999969482422, 120.81500244140625, 121.4000015258789, 120.0, 112.87000274658203, 113.33999633789062, 110.52100372314453, 108.0, 111.95999908447266, 111.5, 108.25, 103.19000244140625, 97.69999694824219, 100.22599792480469, 99.75, 102.44000244140625, 107.34100341796875, 105.88999938964844, 110.0999984741211, 114.13999938964844, 110.58999633789062, 108.98999786376953, 102.7699966430664, 102.76000213623047, 100.8499984741211, 97.87999725341797, 92.05999755859375, 96.44200134277344, 95.23999786376953, 97.25, 101.98999786376953, 103.93000030517578, 103.25, 103.0999984741211, 102.0, 100.29000091552734, 98.16300201416016, 98.18900299072266, 102.0999984741211, 103.22000122070312, 102.18000030517578, 101.58000183105469, 100.54000091552734, 99.16999816894531, 101.48999786376953, 105.9000015258789, 104.06999969482422, 105.48999786376953, 105.70999908447266, 105.86000061035156, 106.44000244140625, 104.0, 101.44000244140625, 95.29000091552734, 96.18000030517578, 91.63999938964844, 93.2699966430664, 88.99500274658203, 85.0199966430664, 92.2699966430664, 87.41999816894531, 87.8499984741211, 87.45999908447266, 91.31999969482422, 88.58999633789062, 92.33999633789062, 94.68000030517578, 96.68000030517578, 97.44999694824219, 98.5, 96.69999694824219, 98.55000305175781, 95.81500244140625, 94.31999969482422, 95.08000183105469, 95.43000030517578, 98.41999816894531, 99.79000091552734, 100.0, 100.93000030517578, 101.44999694824219, 103.73799896240234, 103.23999786376953, 99.93000030517578, 104.47000122070312, 105.94999694824219, 109.9000015258789, 111.8499984741211, 113.33000183105469, 115.5, 113.9800033569336, 112.80000305175781, 112.10800170898438, 111.97000122070312, 111.87000274658203, 107.95999908447266, 108.44999694824219, 108.25, 105.25, 107.25, 107.36000061035156, 106.5, 104.69999694824219, 101.47000122070312, 98.9000015258789, 98.80000305175781, 100.6500015258789, 103.36000061035156, 104.86000061035156, 105.88999938964844, 105.41000366210938, 103.47000122070312, 108.81999969482422, 111.73999786376953, 110.74600219726562, 109.19000244140625, 107.22000122070312, 109.41000366210938, 111.0, 110.4800033569336, 112.30000305175781, 112.1500015258789, 121.44999694824219, 127.97000122070312, 129.0, 128.5800018310547, 123.55999755859375, 121.73999786376953, 119.25, 122.9800033569336, 125.75, 127.1500015258789, 126.4800033569336, 126.5999984741211, 124.19999694824219, 128.24000549316406, 129.0, 128.2100067138672, 134.35000610351562, 135.5800018310547, 136.9600067138672, 135.89999389648438, 135.68600463867188, 139.22000122070312, 134.1300048828125, 135.0, 132.4199981689453, 136.5, 138.47999572753906, 133.3000030517578, 132.22000122070312, 134.58999633789062, 144.58999633789062, 142.77000427246094, 142.1999969482422, 135.5, 130.5399932861328, 127.79000091552734, 127.75, 125.12999725341797, 128.17999267578125, 130.77999877929688, 137.1999969482422, 138.49000549316406, 138.5500030517578, 139.6999969482422, 141.5, 142.19000244140625, 143.1739959716797, 146.88999938964844, 149.8300018310547, 148.3300018310547, 148.82000732421875, 147.74000549316406, 147.82000732421875, 151.98699951171875, 150.49400329589844, 149.3800048828125, 151.99000549316406, 155.02999877929688, 149.72000122070312, 148.00999450683594, 154.3000030517578, 154.13999938964844, 163.4600067138672, 177.4459991455078, 189.14999389648438, 189.58999633789062, 196.8300018310547, 207.0, 198.49000549316406, 198.7100067138672, 210.0, 199.57000732421875, 195.35000610351562, 185.1999969482422, 183.1300048828125, 181.1199951171875, 186.60000610351562, 174.22000122070312, 176.77000427246094, 158.77000427246094, 154.57400512695312, 148.89999389648438, 156.39999389648438, 157.47999572753906, 153.0, 146.69000244140625, 140.39999389648438, 142.5800018310547, 141.0, 145.86300659179688, 138.7100067138672, 139.3000030517578, 146.10000610351562, 148.67999267578125, 146.97999572753906, 149.3800048828125, 150.63999938964844, 145.2100067138672, 148.7899932861328, 147.33999633789062, 144.69000244140625, 139.0, 132.67999267578125, 124.0, 126.38999938964844, 126.55000305175781], \"low\": [67.0, 65.11000061035156, 75.11000061035156, 79.9000015258789, 75.69999694824219, 84.25, 94.0999984741211, 93.5, 85.02999877929688, 83.5, 81.55000305175781, 82.30000305175781, 82.70999908447266, 83.75800323486328, 88.80000305175781, 92.69999694824219, 89.80000305175781, 91.0, 89.19999694824219, 87.0, 90.87799835205078, 88.20999908447266, 86.0999984741211, 87.2699966430664, 88.27999877929688, 93.0, 91.62999725341797, 95.5, 96.19999694824219, 98.5, 92.22000122070312, 93.37100219726562, 94.5999984741211, 100.5, 107.2300033569336, 108.1500015258789, 102.41000366210938, 98.0, 101.52999877929688, 99.50499725341797, 100.0, 105.37000274658203, 107.83000183105469, 113.51000213623047, 114.0, 116.34100341796875, 122.5999984741211, 126.0, 128.0, 141.5500030517578, 139.1300048828125, 142.66000366210938, 135.50999450683594, 142.61000061035156, 146.61000061035156, 150.3300018310547, 158.0, 149.11599731445312, 150.5, 151.6199951171875, 143.64999389648438, 142.3300018310547, 144.67999267578125, 148.5500030517578, 151.0, 155.10000610351562, 161.552001953125, 165.00999450683594, 163.83999633789062, 154.5800018310547, 147.23500061035156, 149.3000030517578, 152.22000122070312, 141.2100067138672, 138.3000030517578, 136.3249969482422, 135.1999969482422, 141.0, 139.0, 141.75, 148.52000427246094, 146.1999969482422, 147.69000244140625, 143.7899932861328, 145.66000366210938, 142.30999755859375, 145.27000427246094, 150.4499969482422, 148.10400390625, 140.9499969482422, 150.1999969482422, 147.61000061035156, 149.27999877929688, 147.82000732421875, 147.00999450683594, 147.5, 128.5, 123.69999694824219, 126.58000183105469, 125.5, 124.5, 122.31999969482422, 123.68000030517578, 118.21700286865234, 114.97000122070312, 118.23999786376953, 115.0, 98.02999877929688, 108.5, 102.05999755859375, 101.0999984741211, 107.38999938964844, 107.62000274658203, 100.6500015258789, 93.5999984741211, 86.0, 92.30999755859375, 96.41999816894531, 97.5999984741211, 103.5, 101.56999969482422, 105.48999786376953, 106.66999816894531, 104.06600189208984, 100.70999908447266, 99.20999908447266, 99.5, 96.75, 92.16999816894531, 88.28700256347656, 91.01000213623047, 91.06999969482422, 90.9000015258789, 97.76000213623047, 99.70999908447266, 99.86000061035156, 98.87100219726562, 97.62999725341797, 98.48999786376953, 96.37999725341797, 94.26000213623047, 98.5, 99.75, 100.54000091552734, 98.64299774169922, 96.56999969482422, 95.30000305175781, 94.55000305175781, 101.3499984741211, 101.80000305175781, 100.5199966430664, 102.55000305175781, 102.11000061035156, 101.29000091552734, 100.54000091552734, 96.5199966430664, 92.04000091552734, 91.5, 86.47000122070312, 88.93000030517578, 81.36000061035156, 76.0, 81.22000122070312, 78.97000122070312, 82.33999633789062, 84.44999694824219, 85.70999908447266, 85.01000213623047, 88.80000305175781, 90.5999984741211, 93.11499786376953, 94.54000091552734, 94.81999969482422, 93.66999816894531, 94.4000015258789, 92.25, 92.33000183105469, 92.20899963378906, 93.0, 94.2300033569336, 96.0999984741211, 97.70500183105469, 97.65499877929688, 98.69999694824219, 99.37999725341797, 96.80999755859375, 95.0989990234375, 96.30000305175781, 102.30400085449219, 104.58999633789062, 107.42500305175781, 109.69000244140625, 112.8499984741211, 109.5199966430664, 109.9000015258789, 109.11000061035156, 109.11000061035156, 105.04000091552734, 105.48999786376953, 104.11000061035156, 103.1500015258789, 98.97200012207031, 102.81999969482422, 103.45999908447266, 103.31999969482422, 99.20999908447266, 96.22000122070312, 95.62000274658203, 92.5, 96.1500015258789, 99.83000183105469, 102.16000366210938, 103.02999877929688, 102.97000122070312, 99.39900207519531, 101.0199966430664, 107.41000366210938, 106.2699966430664, 103.78500366210938, 103.12000274658203, 104.97000122070312, 107.25, 106.5, 107.5, 107.02999877929688, 111.55999755859375, 119.05000305175781, 123.7699966430664, 120.43000030517578, 118.5, 116.80000305175781, 114.6500015258789, 116.48999786376953, 122.36000061035156, 124.24199676513672, 123.41000366210938, 118.70999908447266, 120.41999816894531, 122.81999969482422, 124.75, 125.1500015258789, 126.43000030517578, 132.36700439453125, 132.67999267578125, 131.1300048828125, 131.69000244140625, 134.0, 128.14999389648438, 130.61000061035156, 128.82000732421875, 131.77999877929688, 133.59300231933594, 124.33000183105469, 127.80000305175781, 130.38999938964844, 137.5, 138.55499267578125, 136.30999755859375, 126.9000015258789, 125.30000305175781, 125.16999816894531, 123.5, 118.30599975585938, 120.15699768066406, 125.5199966430664, 132.1999969482422, 134.42999267578125, 133.27999877929688, 135.50999450683594, 137.57000732421875, 138.63999938964844, 140.19000244140625, 140.08599853515625, 145.4499969482422, 140.5, 141.97000122070312, 143.5800018310547, 143.0500030517578, 145.1699981689453, 142.82000732421875, 144.66000366210938, 147.89999389648438, 147.22000122070312, 143.33999633789062, 142.52000427246094, 149.19000244140625, 149.8699951171875, 154.1699981689453, 163.08399963378906, 155.10000610351562, 179.39999389648438, 180.1999969482422, 197.13999938964844, 187.02000427246094, 190.05999755859375, 192.9949951171875, 188.25, 174.38999938964844, 171.52000427246094, 173.01100158691406, 175.2100067138672, 165.07000732421875, 165.9600067138672, 151.00799560546875, 147.0, 138.6699981689453, 136.0, 147.32699584960938, 146.1199951171875, 136.86000061035156, 138.25999450683594, 130.8800048828125, 135.60000610351562, 133.0500030517578, 131.56500244140625, 127.20999908447266, 131.58999633789062, 137.88999938964844, 142.9510040283203, 140.3000030517578, 144.50999450683594, 141.72000122070312, 139.5, 144.55999755859375, 142.77000427246094, 135.5800018310547, 125.1500015258789, 119.70999908447266, 114.12000274658203, 118.30000305175781, 115.33999633789062], \"name\": \"U\", \"open\": [75.0, 67.11000061035156, 76.63999938964844, 88.66999816894531, 77.75, 84.79000091552734, 94.45999908447266, 98.16000366210938, 94.9000015258789, 89.33000183105469, 81.55000305175781, 85.83000183105469, 84.61000061035156, 84.04000091552734, 91.19000244140625, 92.8499984741211, 100.12999725341797, 92.3499984741211, 93.5199966430664, 88.19999694824219, 92.19000244140625, 94.0, 89.83000183105469, 87.2699966430664, 90.81999969482422, 101.0, 98.0, 100.0, 100.0, 101.79000091552734, 105.80999755859375, 96.66999816894531, 96.0, 101.80999755859375, 110.0, 110.5, 116.87999725341797, 106.05999755859375, 102.76000213623047, 105.0, 100.0, 109.0, 107.83000183105469, 119.19000244140625, 115.01000213623047, 117.30999755859375, 123.30999755859375, 130.97000122070312, 130.0, 143.0, 147.0, 155.0, 142.10000610351562, 143.1999969482422, 149.08999633789062, 151.89999389648438, 158.0, 169.8000030517578, 151.4600067138672, 158.0, 154.5, 150.0, 145.88999938964844, 154.16000366210938, 155.0, 158.0, 168.0, 174.88999938964844, 169.0, 169.36000061035156, 158.0, 154.0800018310547, 154.94000244140625, 155.0, 142.0, 141.0500030517578, 138.0, 141.0, 143.0, 143.0, 149.0, 152.0, 153.25, 150.80999755859375, 146.92999267578125, 145.83999633789062, 145.38999938964844, 158.00999450683594, 152.6999969482422, 146.47999572753906, 154.57000732421875, 152.3300018310547, 153.36000061035156, 154.4600067138672, 149.0, 149.25, 132.0, 127.6500015258789, 127.5, 129.82000732421875, 128.4499969482422, 125.02999877929688, 129.0, 124.5, 120.0, 118.56999969482422, 119.58000183105469, 107.30000305175781, 111.01000213623047, 109.30000305175781, 103.55000305175781, 110.01000213623047, 110.0, 107.52999877929688, 100.19000244140625, 96.05999755859375, 95.0, 98.56999969482422, 100.19999694824219, 104.66000366210938, 104.1500015258789, 107.0, 112.87999725341797, 106.22000122070312, 108.5, 101.88999938964844, 101.36000061035156, 99.80000305175781, 96.48999786376953, 90.0, 94.06999969482422, 94.69999694824219, 92.61000061035156, 98.58000183105469, 103.0, 102.9000015258789, 100.02999877929688, 101.48999786376953, 99.23999786376953, 97.86000061035156, 96.5999984741211, 98.5199966430664, 102.0, 102.0, 101.0, 99.80000305175781, 97.83999633789062, 96.6500015258789, 102.0, 102.0, 102.55999755859375, 104.5999984741211, 103.1500015258789, 106.38999938964844, 101.0, 101.38999938964844, 95.29000091552734, 95.30000305175781, 90.77999877929688, 89.9800033569336, 88.0, 77.2699966430664, 89.9000015258789, 84.66000366210938, 83.62999725341797, 86.25, 86.69000244140625, 86.0, 89.33000183105469, 91.33000183105469, 94.33000183105469, 97.30999755859375, 95.87999725341797, 95.83000183105469, 96.51000213623047, 95.18000030517578, 93.70999908447266, 93.29000091552734, 93.6500015258789, 94.29000091552734, 98.25, 99.0, 99.30000305175781, 99.98999786376953, 100.30000305175781, 101.75, 98.05000305175781, 96.80000305175781, 103.94999694824219, 105.12000274658203, 108.01000213623047, 110.0, 113.2699966430664, 113.94999694824219, 111.98999786376953, 110.98999786376953, 109.41999816894531, 110.08000183105469, 105.94000244140625, 106.29000091552734, 107.69000244140625, 100.0, 104.97000122070312, 107.12000274658203, 103.73999786376953, 104.38999938964844, 100.0, 97.5, 94.06999969482422, 98.45999908447266, 100.3499984741211, 104.0, 104.5, 104.43000030517578, 103.0, 101.48999786376953, 108.0, 110.05999755859375, 106.73999786376953, 107.0, 105.0, 109.0, 109.19999694824219, 107.76000213623047, 110.06999969482422, 111.6500015258789, 119.9800033569336, 126.3499984741211, 126.41999816894531, 119.13999938964844, 120.68000030517578, 115.5199966430664, 116.5, 122.83999633789062, 125.30000305175781, 125.30999755859375, 124.48999786376953, 120.94000244140625, 123.01000213623047, 127.0, 125.5999984741211, 126.9739990234375, 132.75, 133.9600067138672, 135.1999969482422, 131.8300018310547, 135.3000030517578, 133.11000061035156, 130.88999938964844, 131.22999572753906, 131.77999877929688, 135.30999755859375, 131.27999877929688, 127.93000030517578, 131.0, 137.9199981689453, 138.58999633789062, 141.0, 134.1999969482422, 129.74000549316406, 126.0, 125.6500015258789, 125.08999633789062, 120.80999755859375, 126.61000061035156, 132.1999969482422, 137.0, 134.5500030517578, 135.9499969482422, 139.5, 139.57000732421875, 141.4600067138672, 140.5, 146.5, 147.7899932861328, 142.0800018310547, 146.52999877929688, 145.0, 149.74000549316406, 147.0, 145.5, 147.9499969482422, 152.3000030517578, 149.58999633789062, 144.0, 150.0, 152.25, 155.0, 169.47999572753906, 160.10000610351562, 179.9499969482422, 183.0, 198.0, 187.86000061035156, 195.3800048828125, 194.72999572753906, 198.69000244140625, 193.66000366210938, 174.38999938964844, 174.9600067138672, 180.0, 185.4720001220703, 169.25, 173.80999755859375, 153.7100067138672, 152.61000061035156, 142.25, 154.0399932861328, 153.00799560546875, 152.8300018310547, 142.00999450683594, 138.67999267578125, 139.3300018310547, 136.69000244140625, 143.60000610351562, 130.2100067138672, 133.7899932861328, 139.02999877929688, 146.1199951171875, 143.7899932861328, 146.5500030517578, 148.4499969482422, 143.52000427246094, 144.74000549316406, 146.14999389648438, 143.9600067138672, 138.89999389648438, 128.0, 118.9000015258789, 120.11000061035156, 120.18000030517578], \"showlegend\": true, \"type\": \"candlestick\", \"x\": [\"2020-09-18T00:00:00\", \"2020-09-21T00:00:00\", \"2020-09-22T00:00:00\", \"2020-09-23T00:00:00\", \"2020-09-24T00:00:00\", \"2020-09-25T00:00:00\", \"2020-09-28T00:00:00\", \"2020-09-29T00:00:00\", \"2020-09-30T00:00:00\", \"2020-10-01T00:00:00\", \"2020-10-02T00:00:00\", \"2020-10-05T00:00:00\", \"2020-10-06T00:00:00\", \"2020-10-07T00:00:00\", \"2020-10-08T00:00:00\", \"2020-10-09T00:00:00\", \"2020-10-12T00:00:00\", \"2020-10-13T00:00:00\", \"2020-10-14T00:00:00\", \"2020-10-15T00:00:00\", \"2020-10-16T00:00:00\", \"2020-10-19T00:00:00\", \"2020-10-20T00:00:00\", \"2020-10-21T00:00:00\", \"2020-10-22T00:00:00\", \"2020-10-23T00:00:00\", \"2020-10-26T00:00:00\", \"2020-10-27T00:00:00\", \"2020-10-28T00:00:00\", \"2020-10-29T00:00:00\", \"2020-10-30T00:00:00\", \"2020-11-02T00:00:00\", \"2020-11-03T00:00:00\", \"2020-11-04T00:00:00\", \"2020-11-05T00:00:00\", \"2020-11-06T00:00:00\", \"2020-11-09T00:00:00\", \"2020-11-10T00:00:00\", \"2020-11-11T00:00:00\", \"2020-11-12T00:00:00\", \"2020-11-13T00:00:00\", \"2020-11-16T00:00:00\", \"2020-11-17T00:00:00\", \"2020-11-18T00:00:00\", \"2020-11-19T00:00:00\", \"2020-11-20T00:00:00\", \"2020-11-23T00:00:00\", \"2020-11-24T00:00:00\", \"2020-11-25T00:00:00\", \"2020-11-27T00:00:00\", \"2020-11-30T00:00:00\", \"2020-12-01T00:00:00\", \"2020-12-02T00:00:00\", \"2020-12-03T00:00:00\", \"2020-12-04T00:00:00\", \"2020-12-07T00:00:00\", \"2020-12-08T00:00:00\", \"2020-12-09T00:00:00\", \"2020-12-10T00:00:00\", \"2020-12-11T00:00:00\", \"2020-12-14T00:00:00\", \"2020-12-15T00:00:00\", \"2020-12-16T00:00:00\", \"2020-12-17T00:00:00\", \"2020-12-18T00:00:00\", \"2020-12-21T00:00:00\", \"2020-12-22T00:00:00\", \"2020-12-23T00:00:00\", \"2020-12-24T00:00:00\", \"2020-12-28T00:00:00\", \"2020-12-29T00:00:00\", \"2020-12-30T00:00:00\", \"2020-12-31T00:00:00\", \"2021-01-04T00:00:00\", \"2021-01-05T00:00:00\", \"2021-01-06T00:00:00\", \"2021-01-07T00:00:00\", \"2021-01-08T00:00:00\", \"2021-01-11T00:00:00\", \"2021-01-12T00:00:00\", \"2021-01-13T00:00:00\", \"2021-01-14T00:00:00\", \"2021-01-15T00:00:00\", \"2021-01-19T00:00:00\", \"2021-01-20T00:00:00\", \"2021-01-21T00:00:00\", \"2021-01-22T00:00:00\", \"2021-01-25T00:00:00\", \"2021-01-26T00:00:00\", \"2021-01-27T00:00:00\", \"2021-01-28T00:00:00\", \"2021-01-29T00:00:00\", \"2021-02-01T00:00:00\", \"2021-02-02T00:00:00\", \"2021-02-03T00:00:00\", \"2021-02-04T00:00:00\", \"2021-02-05T00:00:00\", \"2021-02-08T00:00:00\", \"2021-02-09T00:00:00\", \"2021-02-10T00:00:00\", \"2021-02-11T00:00:00\", \"2021-02-12T00:00:00\", \"2021-02-16T00:00:00\", \"2021-02-17T00:00:00\", \"2021-02-18T00:00:00\", \"2021-02-19T00:00:00\", \"2021-02-22T00:00:00\", \"2021-02-23T00:00:00\", \"2021-02-24T00:00:00\", \"2021-02-25T00:00:00\", \"2021-02-26T00:00:00\", \"2021-03-01T00:00:00\", \"2021-03-02T00:00:00\", \"2021-03-03T00:00:00\", \"2021-03-04T00:00:00\", \"2021-03-05T00:00:00\", \"2021-03-08T00:00:00\", \"2021-03-09T00:00:00\", \"2021-03-10T00:00:00\", \"2021-03-11T00:00:00\", \"2021-03-12T00:00:00\", \"2021-03-15T00:00:00\", \"2021-03-16T00:00:00\", \"2021-03-17T00:00:00\", \"2021-03-18T00:00:00\", \"2021-03-19T00:00:00\", \"2021-03-22T00:00:00\", \"2021-03-23T00:00:00\", \"2021-03-24T00:00:00\", \"2021-03-25T00:00:00\", \"2021-03-26T00:00:00\", \"2021-03-29T00:00:00\", \"2021-03-30T00:00:00\", \"2021-03-31T00:00:00\", \"2021-04-01T00:00:00\", \"2021-04-05T00:00:00\", \"2021-04-06T00:00:00\", \"2021-04-07T00:00:00\", \"2021-04-08T00:00:00\", \"2021-04-09T00:00:00\", \"2021-04-12T00:00:00\", \"2021-04-13T00:00:00\", \"2021-04-14T00:00:00\", \"2021-04-15T00:00:00\", \"2021-04-16T00:00:00\", \"2021-04-19T00:00:00\", \"2021-04-20T00:00:00\", \"2021-04-21T00:00:00\", \"2021-04-22T00:00:00\", \"2021-04-23T00:00:00\", \"2021-04-26T00:00:00\", \"2021-04-27T00:00:00\", \"2021-04-28T00:00:00\", \"2021-04-29T00:00:00\", \"2021-04-30T00:00:00\", \"2021-05-03T00:00:00\", \"2021-05-04T00:00:00\", \"2021-05-05T00:00:00\", \"2021-05-06T00:00:00\", \"2021-05-07T00:00:00\", \"2021-05-10T00:00:00\", \"2021-05-11T00:00:00\", \"2021-05-12T00:00:00\", \"2021-05-13T00:00:00\", \"2021-05-14T00:00:00\", \"2021-05-17T00:00:00\", \"2021-05-18T00:00:00\", \"2021-05-19T00:00:00\", \"2021-05-20T00:00:00\", \"2021-05-21T00:00:00\", \"2021-05-24T00:00:00\", \"2021-05-25T00:00:00\", \"2021-05-26T00:00:00\", \"2021-05-27T00:00:00\", \"2021-05-28T00:00:00\", \"2021-06-01T00:00:00\", \"2021-06-02T00:00:00\", \"2021-06-03T00:00:00\", \"2021-06-04T00:00:00\", \"2021-06-07T00:00:00\", \"2021-06-08T00:00:00\", \"2021-06-09T00:00:00\", \"2021-06-10T00:00:00\", \"2021-06-11T00:00:00\", \"2021-06-14T00:00:00\", \"2021-06-15T00:00:00\", \"2021-06-16T00:00:00\", \"2021-06-17T00:00:00\", \"2021-06-18T00:00:00\", \"2021-06-21T00:00:00\", \"2021-06-22T00:00:00\", \"2021-06-23T00:00:00\", \"2021-06-24T00:00:00\", \"2021-06-25T00:00:00\", \"2021-06-28T00:00:00\", \"2021-06-29T00:00:00\", \"2021-06-30T00:00:00\", \"2021-07-01T00:00:00\", \"2021-07-02T00:00:00\", \"2021-07-06T00:00:00\", \"2021-07-07T00:00:00\", \"2021-07-08T00:00:00\", \"2021-07-09T00:00:00\", \"2021-07-12T00:00:00\", \"2021-07-13T00:00:00\", \"2021-07-14T00:00:00\", \"2021-07-15T00:00:00\", \"2021-07-16T00:00:00\", \"2021-07-19T00:00:00\", \"2021-07-20T00:00:00\", \"2021-07-21T00:00:00\", \"2021-07-22T00:00:00\", \"2021-07-23T00:00:00\", \"2021-07-26T00:00:00\", \"2021-07-27T00:00:00\", \"2021-07-28T00:00:00\", \"2021-07-29T00:00:00\", \"2021-07-30T00:00:00\", \"2021-08-02T00:00:00\", \"2021-08-03T00:00:00\", \"2021-08-04T00:00:00\", \"2021-08-05T00:00:00\", \"2021-08-06T00:00:00\", \"2021-08-09T00:00:00\", \"2021-08-10T00:00:00\", \"2021-08-11T00:00:00\", \"2021-08-12T00:00:00\", \"2021-08-13T00:00:00\", \"2021-08-16T00:00:00\", \"2021-08-17T00:00:00\", \"2021-08-18T00:00:00\", \"2021-08-19T00:00:00\", \"2021-08-20T00:00:00\", \"2021-08-23T00:00:00\", \"2021-08-24T00:00:00\", \"2021-08-25T00:00:00\", \"2021-08-26T00:00:00\", \"2021-08-27T00:00:00\", \"2021-08-30T00:00:00\", \"2021-08-31T00:00:00\", \"2021-09-01T00:00:00\", \"2021-09-02T00:00:00\", \"2021-09-03T00:00:00\", \"2021-09-07T00:00:00\", \"2021-09-08T00:00:00\", \"2021-09-09T00:00:00\", \"2021-09-10T00:00:00\", \"2021-09-13T00:00:00\", \"2021-09-14T00:00:00\", \"2021-09-15T00:00:00\", \"2021-09-16T00:00:00\", \"2021-09-17T00:00:00\", \"2021-09-20T00:00:00\", \"2021-09-21T00:00:00\", \"2021-09-22T00:00:00\", \"2021-09-23T00:00:00\", \"2021-09-24T00:00:00\", \"2021-09-27T00:00:00\", \"2021-09-28T00:00:00\", \"2021-09-29T00:00:00\", \"2021-09-30T00:00:00\", \"2021-10-01T00:00:00\", \"2021-10-04T00:00:00\", \"2021-10-05T00:00:00\", \"2021-10-06T00:00:00\", \"2021-10-07T00:00:00\", \"2021-10-08T00:00:00\", \"2021-10-11T00:00:00\", \"2021-10-12T00:00:00\", \"2021-10-13T00:00:00\", \"2021-10-14T00:00:00\", \"2021-10-15T00:00:00\", \"2021-10-18T00:00:00\", \"2021-10-19T00:00:00\", \"2021-10-20T00:00:00\", \"2021-10-21T00:00:00\", \"2021-10-22T00:00:00\", \"2021-10-25T00:00:00\", \"2021-10-26T00:00:00\", \"2021-10-27T00:00:00\", \"2021-10-28T00:00:00\", \"2021-10-29T00:00:00\", \"2021-11-01T00:00:00\", \"2021-11-02T00:00:00\", \"2021-11-03T00:00:00\", \"2021-11-04T00:00:00\", \"2021-11-05T00:00:00\", \"2021-11-08T00:00:00\", \"2021-11-09T00:00:00\", \"2021-11-10T00:00:00\", \"2021-11-11T00:00:00\", \"2021-11-12T00:00:00\", \"2021-11-15T00:00:00\", \"2021-11-16T00:00:00\", \"2021-11-17T00:00:00\", \"2021-11-18T00:00:00\", \"2021-11-19T00:00:00\", \"2021-11-22T00:00:00\", \"2021-11-23T00:00:00\", \"2021-11-24T00:00:00\", \"2021-11-26T00:00:00\", \"2021-11-29T00:00:00\", \"2021-11-30T00:00:00\", \"2021-12-01T00:00:00\", \"2021-12-02T00:00:00\", \"2021-12-03T00:00:00\", \"2021-12-06T00:00:00\", \"2021-12-07T00:00:00\", \"2021-12-08T00:00:00\", \"2021-12-09T00:00:00\", \"2021-12-10T00:00:00\", \"2021-12-13T00:00:00\", \"2021-12-14T00:00:00\", \"2021-12-15T00:00:00\", \"2021-12-16T00:00:00\", \"2021-12-17T00:00:00\", \"2021-12-20T00:00:00\", \"2021-12-21T00:00:00\", \"2021-12-22T00:00:00\", \"2021-12-23T00:00:00\", \"2021-12-27T00:00:00\", \"2021-12-28T00:00:00\", \"2021-12-29T00:00:00\", \"2021-12-30T00:00:00\", \"2021-12-31T00:00:00\", \"2022-01-03T00:00:00\", \"2022-01-04T00:00:00\", \"2022-01-05T00:00:00\", \"2022-01-06T00:00:00\", \"2022-01-07T00:00:00\", \"2022-01-10T00:00:00\"], \"xaxis\": \"x\", \"yaxis\": \"y\"}, {\"line\": {\"color\": \"lightgreen\", \"width\": 2}, \"name\": \"MA 20\", \"type\": \"scatter\", \"x\": [\"2020-09-18T00:00:00\", \"2020-09-21T00:00:00\", \"2020-09-22T00:00:00\", \"2020-09-23T00:00:00\", \"2020-09-24T00:00:00\", \"2020-09-25T00:00:00\", \"2020-09-28T00:00:00\", \"2020-09-29T00:00:00\", \"2020-09-30T00:00:00\", \"2020-10-01T00:00:00\", \"2020-10-02T00:00:00\", \"2020-10-05T00:00:00\", \"2020-10-06T00:00:00\", \"2020-10-07T00:00:00\", \"2020-10-08T00:00:00\", \"2020-10-09T00:00:00\", \"2020-10-12T00:00:00\", \"2020-10-13T00:00:00\", \"2020-10-14T00:00:00\", \"2020-10-15T00:00:00\", \"2020-10-16T00:00:00\", \"2020-10-19T00:00:00\", \"2020-10-20T00:00:00\", \"2020-10-21T00:00:00\", \"2020-10-22T00:00:00\", \"2020-10-23T00:00:00\", \"2020-10-26T00:00:00\", \"2020-10-27T00:00:00\", \"2020-10-28T00:00:00\", \"2020-10-29T00:00:00\", \"2020-10-30T00:00:00\", \"2020-11-02T00:00:00\", \"2020-11-03T00:00:00\", \"2020-11-04T00:00:00\", \"2020-11-05T00:00:00\", \"2020-11-06T00:00:00\", \"2020-11-09T00:00:00\", \"2020-11-10T00:00:00\", \"2020-11-11T00:00:00\", \"2020-11-12T00:00:00\", \"2020-11-13T00:00:00\", \"2020-11-16T00:00:00\", \"2020-11-17T00:00:00\", \"2020-11-18T00:00:00\", \"2020-11-19T00:00:00\", \"2020-11-20T00:00:00\", \"2020-11-23T00:00:00\", \"2020-11-24T00:00:00\", \"2020-11-25T00:00:00\", \"2020-11-27T00:00:00\", \"2020-11-30T00:00:00\", \"2020-12-01T00:00:00\", \"2020-12-02T00:00:00\", \"2020-12-03T00:00:00\", \"2020-12-04T00:00:00\", \"2020-12-07T00:00:00\", \"2020-12-08T00:00:00\", \"2020-12-09T00:00:00\", \"2020-12-10T00:00:00\", \"2020-12-11T00:00:00\", \"2020-12-14T00:00:00\", \"2020-12-15T00:00:00\", \"2020-12-16T00:00:00\", \"2020-12-17T00:00:00\", \"2020-12-18T00:00:00\", \"2020-12-21T00:00:00\", \"2020-12-22T00:00:00\", \"2020-12-23T00:00:00\", \"2020-12-24T00:00:00\", \"2020-12-28T00:00:00\", \"2020-12-29T00:00:00\", \"2020-12-30T00:00:00\", \"2020-12-31T00:00:00\", \"2021-01-04T00:00:00\", \"2021-01-05T00:00:00\", \"2021-01-06T00:00:00\", \"2021-01-07T00:00:00\", \"2021-01-08T00:00:00\", \"2021-01-11T00:00:00\", \"2021-01-12T00:00:00\", \"2021-01-13T00:00:00\", \"2021-01-14T00:00:00\", \"2021-01-15T00:00:00\", \"2021-01-19T00:00:00\", \"2021-01-20T00:00:00\", \"2021-01-21T00:00:00\", \"2021-01-22T00:00:00\", \"2021-01-25T00:00:00\", \"2021-01-26T00:00:00\", \"2021-01-27T00:00:00\", \"2021-01-28T00:00:00\", \"2021-01-29T00:00:00\", \"2021-02-01T00:00:00\", \"2021-02-02T00:00:00\", \"2021-02-03T00:00:00\", \"2021-02-04T00:00:00\", \"2021-02-05T00:00:00\", \"2021-02-08T00:00:00\", \"2021-02-09T00:00:00\", \"2021-02-10T00:00:00\", \"2021-02-11T00:00:00\", \"2021-02-12T00:00:00\", \"2021-02-16T00:00:00\", \"2021-02-17T00:00:00\", \"2021-02-18T00:00:00\", \"2021-02-19T00:00:00\", \"2021-02-22T00:00:00\", \"2021-02-23T00:00:00\", \"2021-02-24T00:00:00\", \"2021-02-25T00:00:00\", \"2021-02-26T00:00:00\", \"2021-03-01T00:00:00\", \"2021-03-02T00:00:00\", \"2021-03-03T00:00:00\", \"2021-03-04T00:00:00\", \"2021-03-05T00:00:00\", \"2021-03-08T00:00:00\", \"2021-03-09T00:00:00\", \"2021-03-10T00:00:00\", \"2021-03-11T00:00:00\", \"2021-03-12T00:00:00\", \"2021-03-15T00:00:00\", \"2021-03-16T00:00:00\", \"2021-03-17T00:00:00\", \"2021-03-18T00:00:00\", \"2021-03-19T00:00:00\", \"2021-03-22T00:00:00\", \"2021-03-23T00:00:00\", \"2021-03-24T00:00:00\", \"2021-03-25T00:00:00\", \"2021-03-26T00:00:00\", \"2021-03-29T00:00:00\", \"2021-03-30T00:00:00\", \"2021-03-31T00:00:00\", \"2021-04-01T00:00:00\", \"2021-04-05T00:00:00\", \"2021-04-06T00:00:00\", \"2021-04-07T00:00:00\", \"2021-04-08T00:00:00\", \"2021-04-09T00:00:00\", \"2021-04-12T00:00:00\", \"2021-04-13T00:00:00\", \"2021-04-14T00:00:00\", \"2021-04-15T00:00:00\", \"2021-04-16T00:00:00\", \"2021-04-19T00:00:00\", \"2021-04-20T00:00:00\", \"2021-04-21T00:00:00\", \"2021-04-22T00:00:00\", \"2021-04-23T00:00:00\", \"2021-04-26T00:00:00\", \"2021-04-27T00:00:00\", \"2021-04-28T00:00:00\", \"2021-04-29T00:00:00\", \"2021-04-30T00:00:00\", \"2021-05-03T00:00:00\", \"2021-05-04T00:00:00\", \"2021-05-05T00:00:00\", \"2021-05-06T00:00:00\", \"2021-05-07T00:00:00\", \"2021-05-10T00:00:00\", \"2021-05-11T00:00:00\", \"2021-05-12T00:00:00\", \"2021-05-13T00:00:00\", \"2021-05-14T00:00:00\", \"2021-05-17T00:00:00\", \"2021-05-18T00:00:00\", \"2021-05-19T00:00:00\", \"2021-05-20T00:00:00\", \"2021-05-21T00:00:00\", \"2021-05-24T00:00:00\", \"2021-05-25T00:00:00\", \"2021-05-26T00:00:00\", \"2021-05-27T00:00:00\", \"2021-05-28T00:00:00\", \"2021-06-01T00:00:00\", \"2021-06-02T00:00:00\", \"2021-06-03T00:00:00\", \"2021-06-04T00:00:00\", \"2021-06-07T00:00:00\", \"2021-06-08T00:00:00\", \"2021-06-09T00:00:00\", \"2021-06-10T00:00:00\", \"2021-06-11T00:00:00\", \"2021-06-14T00:00:00\", \"2021-06-15T00:00:00\", \"2021-06-16T00:00:00\", \"2021-06-17T00:00:00\", \"2021-06-18T00:00:00\", \"2021-06-21T00:00:00\", \"2021-06-22T00:00:00\", \"2021-06-23T00:00:00\", \"2021-06-24T00:00:00\", \"2021-06-25T00:00:00\", \"2021-06-28T00:00:00\", \"2021-06-29T00:00:00\", \"2021-06-30T00:00:00\", \"2021-07-01T00:00:00\", \"2021-07-02T00:00:00\", \"2021-07-06T00:00:00\", \"2021-07-07T00:00:00\", \"2021-07-08T00:00:00\", \"2021-07-09T00:00:00\", \"2021-07-12T00:00:00\", \"2021-07-13T00:00:00\", \"2021-07-14T00:00:00\", \"2021-07-15T00:00:00\", \"2021-07-16T00:00:00\", \"2021-07-19T00:00:00\", \"2021-07-20T00:00:00\", \"2021-07-21T00:00:00\", \"2021-07-22T00:00:00\", \"2021-07-23T00:00:00\", \"2021-07-26T00:00:00\", \"2021-07-27T00:00:00\", \"2021-07-28T00:00:00\", \"2021-07-29T00:00:00\", \"2021-07-30T00:00:00\", \"2021-08-02T00:00:00\", \"2021-08-03T00:00:00\", \"2021-08-04T00:00:00\", \"2021-08-05T00:00:00\", \"2021-08-06T00:00:00\", \"2021-08-09T00:00:00\", \"2021-08-10T00:00:00\", \"2021-08-11T00:00:00\", \"2021-08-12T00:00:00\", \"2021-08-13T00:00:00\", \"2021-08-16T00:00:00\", \"2021-08-17T00:00:00\", \"2021-08-18T00:00:00\", \"2021-08-19T00:00:00\", \"2021-08-20T00:00:00\", \"2021-08-23T00:00:00\", \"2021-08-24T00:00:00\", \"2021-08-25T00:00:00\", \"2021-08-26T00:00:00\", \"2021-08-27T00:00:00\", \"2021-08-30T00:00:00\", \"2021-08-31T00:00:00\", \"2021-09-01T00:00:00\", \"2021-09-02T00:00:00\", \"2021-09-03T00:00:00\", \"2021-09-07T00:00:00\", \"2021-09-08T00:00:00\", \"2021-09-09T00:00:00\", \"2021-09-10T00:00:00\", \"2021-09-13T00:00:00\", \"2021-09-14T00:00:00\", \"2021-09-15T00:00:00\", \"2021-09-16T00:00:00\", \"2021-09-17T00:00:00\", \"2021-09-20T00:00:00\", \"2021-09-21T00:00:00\", \"2021-09-22T00:00:00\", \"2021-09-23T00:00:00\", \"2021-09-24T00:00:00\", \"2021-09-27T00:00:00\", \"2021-09-28T00:00:00\", \"2021-09-29T00:00:00\", \"2021-09-30T00:00:00\", \"2021-10-01T00:00:00\", \"2021-10-04T00:00:00\", \"2021-10-05T00:00:00\", \"2021-10-06T00:00:00\", \"2021-10-07T00:00:00\", \"2021-10-08T00:00:00\", \"2021-10-11T00:00:00\", \"2021-10-12T00:00:00\", \"2021-10-13T00:00:00\", \"2021-10-14T00:00:00\", \"2021-10-15T00:00:00\", \"2021-10-18T00:00:00\", \"2021-10-19T00:00:00\", \"2021-10-20T00:00:00\", \"2021-10-21T00:00:00\", \"2021-10-22T00:00:00\", \"2021-10-25T00:00:00\", \"2021-10-26T00:00:00\", \"2021-10-27T00:00:00\", \"2021-10-28T00:00:00\", \"2021-10-29T00:00:00\", \"2021-11-01T00:00:00\", \"2021-11-02T00:00:00\", \"2021-11-03T00:00:00\", \"2021-11-04T00:00:00\", \"2021-11-05T00:00:00\", \"2021-11-08T00:00:00\", \"2021-11-09T00:00:00\", \"2021-11-10T00:00:00\", \"2021-11-11T00:00:00\", \"2021-11-12T00:00:00\", \"2021-11-15T00:00:00\", \"2021-11-16T00:00:00\", \"2021-11-17T00:00:00\", \"2021-11-18T00:00:00\", \"2021-11-19T00:00:00\", \"2021-11-22T00:00:00\", \"2021-11-23T00:00:00\", \"2021-11-24T00:00:00\", \"2021-11-26T00:00:00\", \"2021-11-29T00:00:00\", \"2021-11-30T00:00:00\", \"2021-12-01T00:00:00\", \"2021-12-02T00:00:00\", \"2021-12-03T00:00:00\", \"2021-12-06T00:00:00\", \"2021-12-07T00:00:00\", \"2021-12-08T00:00:00\", \"2021-12-09T00:00:00\", \"2021-12-10T00:00:00\", \"2021-12-13T00:00:00\", \"2021-12-14T00:00:00\", \"2021-12-15T00:00:00\", \"2021-12-16T00:00:00\", \"2021-12-17T00:00:00\", \"2021-12-20T00:00:00\", \"2021-12-21T00:00:00\", \"2021-12-22T00:00:00\", \"2021-12-23T00:00:00\", \"2021-12-27T00:00:00\", \"2021-12-28T00:00:00\", \"2021-12-29T00:00:00\", \"2021-12-30T00:00:00\", \"2021-12-31T00:00:00\", \"2022-01-03T00:00:00\", \"2022-01-04T00:00:00\", \"2022-01-05T00:00:00\", \"2022-01-06T00:00:00\", \"2022-01-07T00:00:00\", \"2022-01-10T00:00:00\"], \"xaxis\": \"x\", \"y\": [null, null, null, null, null, null, null, null, null, null, null, null, null, null, null, null, null, null, null, 86.83149948120118, 88.0419994354248, 88.85899963378907, 88.97549972534179, 89.43299980163575, 90.32099990844726, 90.69249992370605, 90.9004997253418, 91.35449981689453, 91.9784999847412, 93.19249992370605, 93.7599998474121, 94.26649971008301, 95.03049964904785, 95.92049942016601, 96.8884994506836, 97.88299942016602, 98.52549934387207, 98.90299949645996, 99.68099975585938, 100.19649963378906, 101.3069995880127, 102.41749954223633, 103.96249961853027, 105.16299972534179, 105.93049964904785, 107.2064998626709, 108.67849960327149, 109.93049926757813, 111.81549949645996, 113.7544994354248, 116.60949935913087, 119.26449928283691, 121.41349945068359, 123.37449951171875, 125.38349952697754, 127.2189998626709, 130.43899993896486, 133.05599975585938, 135.6859992980957, 138.22399940490723, 139.82149963378907, 141.47499961853026, 142.9069995880127, 144.71999969482422, 146.7930000305176, 148.92149963378907, 151.06599960327148, 153.01149978637696, 154.38449935913087, 154.82549972534179, 154.7854995727539, 155.16500015258788, 155.78600006103517, 155.7065002441406, 155.59550018310546, 154.70950012207032, 153.27550048828124, 152.98550033569336, 152.1520004272461, 151.8765007019043, 152.09700088500978, 152.3885009765625, 152.48450088500977, 152.16550064086914, 151.6395004272461, 150.71900100708007, 149.80600128173828, 148.98500137329103, 148.21150131225585, 148.18250122070313, 148.33250122070314, 148.08250122070314, 148.05550079345704, 148.2515007019043, 148.23200073242188, 148.82300033569337, 148.32649993896484, 147.26100006103516, 146.58550033569335, 145.6185001373291, 144.3314998626709, 143.11449966430663, 141.95449981689453, 140.7849998474121, 139.34099998474122, 138.0629997253418, 136.13449974060057, 134.08849983215333, 132.14249992370605, 129.57700004577637, 127.2495002746582, 125.18499984741212, 122.9435001373291, 120.68350028991699, 118.04650001525879, 115.24700012207032, 113.45250015258789, 112.11050033569336, 110.70500030517579, 109.65250015258789, 108.66800003051758, 107.84799995422364, 107.02199974060059, 106.39599990844727, 105.56099967956543, 104.51749954223632, 103.76149940490723, 103.09049949645996, 102.19949951171876, 101.51599922180176, 100.9109992980957, 100.20549926757812, 99.64549942016602, 99.52099914550782, 99.79549942016601, 100.13449935913086, 100.60849952697754, 100.60049934387207, 100.55299949645996, 100.08599967956543, 99.70099983215331, 99.29599990844727, 98.90750007629394, 98.55449981689453, 98.50799980163575, 98.37799987792968, 98.2310001373291, 98.44500007629395, 98.90450019836426, 99.48600044250489, 99.94050064086915, 100.4200008392334, 100.84400062561035, 100.99000091552735, 101.01500091552734, 100.8260009765625, 100.43800086975098, 100.14350090026855, 99.61250076293945, 99.22050056457519, 98.39950065612793, 97.54800071716309, 96.70400047302246, 95.65350074768067, 94.99050102233886, 94.4225009918213, 94.03200073242188, 93.37650070190429, 92.78400077819825, 92.33600082397462, 91.92250061035156, 91.48600044250489, 91.02900047302246, 90.65750045776367, 90.30150032043457, 90.14650039672851, 90.09850044250489, 90.15350036621093, 90.49150047302246, 90.92550048828124, 91.7490005493164, 92.4550006866455, 93.28350067138672, 94.21050033569335, 94.95150032043458, 95.52750015258789, 95.89000015258789, 96.6650001525879, 97.41349983215332, 98.13049964904785, 98.82599983215331, 99.7099998474121, 100.58600006103515, 101.30349998474121, 102.10499992370606, 102.96149978637695, 103.77749977111816, 104.41449966430665, 104.96499938964844, 105.39249954223632, 105.71449928283691, 106.04049911499024, 106.3264991760254, 106.66349945068359, 106.72549934387207, 106.80199966430663, 106.79749984741211, 106.43999977111817, 106.10050010681152, 105.71400032043456, 105.36650009155274, 104.92849998474121, 104.51549987792968, 104.17399978637695, 103.68849983215333, 103.58349990844727, 103.65449981689453, 103.7185001373291, 103.79550018310547, 103.72299995422364, 103.9560001373291, 104.21000022888184, 104.23350028991699, 104.43650016784667, 104.61700019836425, 105.70349998474121, 107.20050010681152, 108.80849990844726, 110.00649986267089, 111.03749961853028, 111.76799964904785, 112.37849998474121, 113.24549980163575, 114.3439998626709, 115.56049995422363, 116.35400009155273, 116.79449996948242, 117.61399993896484, 118.54949989318848, 119.62700004577637, 120.49449996948242, 121.63849983215331, 122.9689998626709, 124.26949958801269, 125.59299926757812, 126.2324993133545, 126.65299949645996, 126.76799964904785, 127.2449993133545, 127.8074993133545, 128.63349952697754, 129.6474994659424, 129.88349952697754, 130.16899948120118, 130.5889991760254, 131.4049991607666, 132.52799949645996, 133.24399948120117, 133.28599967956544, 133.23999977111816, 133.22749977111818, 132.8814998626709, 132.19349975585936, 131.78300018310546, 131.62100067138672, 131.71750106811524, 131.77350082397462, 132.00000076293946, 132.3755012512207, 132.66200103759766, 133.00750122070312, 133.2230010986328, 134.14500122070314, 134.9805015563965, 135.42150192260743, 135.7295021057129, 135.79600219726564, 136.2040023803711, 137.22600212097169, 138.13850212097168, 139.22950248718263, 140.48400230407714, 141.9265022277832, 142.71800231933594, 143.5790023803711, 144.35850219726564, 145.14550247192383, 146.5155029296875, 148.13500289916993, 150.06950302124022, 152.10850296020507, 154.8910026550293, 157.4685028076172, 159.8835021972656, 162.35700225830078, 165.05800170898436, 167.3530014038086, 168.9135009765625, 170.33600158691405, 172.222501373291, 173.8135009765625, 174.76450119018554, 175.94900131225586, 176.3390007019043, 176.57600021362305, 176.3370002746582, 176.11750030517578, 175.6375, 174.75299987792968, 172.93050003051758, 170.7974998474121, 167.9525001525879, 165.075, 162.3115005493164, 159.40850067138672, 156.27300109863282, 153.65000076293944, 152.08200073242188, 150.52300033569335, 148.71100082397462, 147.11700057983398, 145.7765007019043, 144.38450088500977, 144.09650115966798, 143.62900161743164, 143.21750106811524, 142.32550048828125, 140.70100059509278, 138.99150047302246, 138.01050033569337, 137.3370002746582], \"yaxis\": \"y\"}, {\"line\": {\"color\": \"green\", \"width\": 2}, \"name\": \"EMA 21\", \"type\": \"scatter\", \"x\": [\"2020-09-18T00:00:00\", \"2020-09-21T00:00:00\", \"2020-09-22T00:00:00\", \"2020-09-23T00:00:00\", \"2020-09-24T00:00:00\", \"2020-09-25T00:00:00\", \"2020-09-28T00:00:00\", \"2020-09-29T00:00:00\", \"2020-09-30T00:00:00\", \"2020-10-01T00:00:00\", \"2020-10-02T00:00:00\", \"2020-10-05T00:00:00\", \"2020-10-06T00:00:00\", \"2020-10-07T00:00:00\", \"2020-10-08T00:00:00\", \"2020-10-09T00:00:00\", \"2020-10-12T00:00:00\", \"2020-10-13T00:00:00\", \"2020-10-14T00:00:00\", \"2020-10-15T00:00:00\", \"2020-10-16T00:00:00\", \"2020-10-19T00:00:00\", \"2020-10-20T00:00:00\", \"2020-10-21T00:00:00\", \"2020-10-22T00:00:00\", \"2020-10-23T00:00:00\", \"2020-10-26T00:00:00\", \"2020-10-27T00:00:00\", \"2020-10-28T00:00:00\", \"2020-10-29T00:00:00\", \"2020-10-30T00:00:00\", \"2020-11-02T00:00:00\", \"2020-11-03T00:00:00\", \"2020-11-04T00:00:00\", \"2020-11-05T00:00:00\", \"2020-11-06T00:00:00\", \"2020-11-09T00:00:00\", \"2020-11-10T00:00:00\", \"2020-11-11T00:00:00\", \"2020-11-12T00:00:00\", \"2020-11-13T00:00:00\", \"2020-11-16T00:00:00\", \"2020-11-17T00:00:00\", \"2020-11-18T00:00:00\", \"2020-11-19T00:00:00\", \"2020-11-20T00:00:00\", \"2020-11-23T00:00:00\", \"2020-11-24T00:00:00\", \"2020-11-25T00:00:00\", \"2020-11-27T00:00:00\", \"2020-11-30T00:00:00\", \"2020-12-01T00:00:00\", \"2020-12-02T00:00:00\", \"2020-12-03T00:00:00\", \"2020-12-04T00:00:00\", \"2020-12-07T00:00:00\", \"2020-12-08T00:00:00\", \"2020-12-09T00:00:00\", \"2020-12-10T00:00:00\", \"2020-12-11T00:00:00\", \"2020-12-14T00:00:00\", \"2020-12-15T00:00:00\", \"2020-12-16T00:00:00\", \"2020-12-17T00:00:00\", \"2020-12-18T00:00:00\", \"2020-12-21T00:00:00\", \"2020-12-22T00:00:00\", \"2020-12-23T00:00:00\", \"2020-12-24T00:00:00\", \"2020-12-28T00:00:00\", \"2020-12-29T00:00:00\", \"2020-12-30T00:00:00\", \"2020-12-31T00:00:00\", \"2021-01-04T00:00:00\", \"2021-01-05T00:00:00\", \"2021-01-06T00:00:00\", \"2021-01-07T00:00:00\", \"2021-01-08T00:00:00\", \"2021-01-11T00:00:00\", \"2021-01-12T00:00:00\", \"2021-01-13T00:00:00\", \"2021-01-14T00:00:00\", \"2021-01-15T00:00:00\", \"2021-01-19T00:00:00\", \"2021-01-20T00:00:00\", \"2021-01-21T00:00:00\", \"2021-01-22T00:00:00\", \"2021-01-25T00:00:00\", \"2021-01-26T00:00:00\", \"2021-01-27T00:00:00\", \"2021-01-28T00:00:00\", \"2021-01-29T00:00:00\", \"2021-02-01T00:00:00\", \"2021-02-02T00:00:00\", \"2021-02-03T00:00:00\", \"2021-02-04T00:00:00\", \"2021-02-05T00:00:00\", \"2021-02-08T00:00:00\", \"2021-02-09T00:00:00\", \"2021-02-10T00:00:00\", \"2021-02-11T00:00:00\", \"2021-02-12T00:00:00\", \"2021-02-16T00:00:00\", \"2021-02-17T00:00:00\", \"2021-02-18T00:00:00\", \"2021-02-19T00:00:00\", \"2021-02-22T00:00:00\", \"2021-02-23T00:00:00\", \"2021-02-24T00:00:00\", \"2021-02-25T00:00:00\", \"2021-02-26T00:00:00\", \"2021-03-01T00:00:00\", \"2021-03-02T00:00:00\", \"2021-03-03T00:00:00\", \"2021-03-04T00:00:00\", \"2021-03-05T00:00:00\", \"2021-03-08T00:00:00\", \"2021-03-09T00:00:00\", \"2021-03-10T00:00:00\", \"2021-03-11T00:00:00\", \"2021-03-12T00:00:00\", \"2021-03-15T00:00:00\", \"2021-03-16T00:00:00\", \"2021-03-17T00:00:00\", \"2021-03-18T00:00:00\", \"2021-03-19T00:00:00\", \"2021-03-22T00:00:00\", \"2021-03-23T00:00:00\", \"2021-03-24T00:00:00\", \"2021-03-25T00:00:00\", \"2021-03-26T00:00:00\", \"2021-03-29T00:00:00\", \"2021-03-30T00:00:00\", \"2021-03-31T00:00:00\", \"2021-04-01T00:00:00\", \"2021-04-05T00:00:00\", \"2021-04-06T00:00:00\", \"2021-04-07T00:00:00\", \"2021-04-08T00:00:00\", \"2021-04-09T00:00:00\", \"2021-04-12T00:00:00\", \"2021-04-13T00:00:00\", \"2021-04-14T00:00:00\", \"2021-04-15T00:00:00\", \"2021-04-16T00:00:00\", \"2021-04-19T00:00:00\", \"2021-04-20T00:00:00\", \"2021-04-21T00:00:00\", \"2021-04-22T00:00:00\", \"2021-04-23T00:00:00\", \"2021-04-26T00:00:00\", \"2021-04-27T00:00:00\", \"2021-04-28T00:00:00\", \"2021-04-29T00:00:00\", \"2021-04-30T00:00:00\", \"2021-05-03T00:00:00\", \"2021-05-04T00:00:00\", \"2021-05-05T00:00:00\", \"2021-05-06T00:00:00\", \"2021-05-07T00:00:00\", \"2021-05-10T00:00:00\", \"2021-05-11T00:00:00\", \"2021-05-12T00:00:00\", \"2021-05-13T00:00:00\", \"2021-05-14T00:00:00\", \"2021-05-17T00:00:00\", \"2021-05-18T00:00:00\", \"2021-05-19T00:00:00\", \"2021-05-20T00:00:00\", \"2021-05-21T00:00:00\", \"2021-05-24T00:00:00\", \"2021-05-25T00:00:00\", \"2021-05-26T00:00:00\", \"2021-05-27T00:00:00\", \"2021-05-28T00:00:00\", \"2021-06-01T00:00:00\", \"2021-06-02T00:00:00\", \"2021-06-03T00:00:00\", \"2021-06-04T00:00:00\", \"2021-06-07T00:00:00\", \"2021-06-08T00:00:00\", \"2021-06-09T00:00:00\", \"2021-06-10T00:00:00\", \"2021-06-11T00:00:00\", \"2021-06-14T00:00:00\", \"2021-06-15T00:00:00\", \"2021-06-16T00:00:00\", \"2021-06-17T00:00:00\", \"2021-06-18T00:00:00\", \"2021-06-21T00:00:00\", \"2021-06-22T00:00:00\", \"2021-06-23T00:00:00\", \"2021-06-24T00:00:00\", \"2021-06-25T00:00:00\", \"2021-06-28T00:00:00\", \"2021-06-29T00:00:00\", \"2021-06-30T00:00:00\", \"2021-07-01T00:00:00\", \"2021-07-02T00:00:00\", \"2021-07-06T00:00:00\", \"2021-07-07T00:00:00\", \"2021-07-08T00:00:00\", \"2021-07-09T00:00:00\", \"2021-07-12T00:00:00\", \"2021-07-13T00:00:00\", \"2021-07-14T00:00:00\", \"2021-07-15T00:00:00\", \"2021-07-16T00:00:00\", \"2021-07-19T00:00:00\", \"2021-07-20T00:00:00\", \"2021-07-21T00:00:00\", \"2021-07-22T00:00:00\", \"2021-07-23T00:00:00\", \"2021-07-26T00:00:00\", \"2021-07-27T00:00:00\", \"2021-07-28T00:00:00\", \"2021-07-29T00:00:00\", \"2021-07-30T00:00:00\", \"2021-08-02T00:00:00\", \"2021-08-03T00:00:00\", \"2021-08-04T00:00:00\", \"2021-08-05T00:00:00\", \"2021-08-06T00:00:00\", \"2021-08-09T00:00:00\", \"2021-08-10T00:00:00\", \"2021-08-11T00:00:00\", \"2021-08-12T00:00:00\", \"2021-08-13T00:00:00\", \"2021-08-16T00:00:00\", \"2021-08-17T00:00:00\", \"2021-08-18T00:00:00\", \"2021-08-19T00:00:00\", \"2021-08-20T00:00:00\", \"2021-08-23T00:00:00\", \"2021-08-24T00:00:00\", \"2021-08-25T00:00:00\", \"2021-08-26T00:00:00\", \"2021-08-27T00:00:00\", \"2021-08-30T00:00:00\", \"2021-08-31T00:00:00\", \"2021-09-01T00:00:00\", \"2021-09-02T00:00:00\", \"2021-09-03T00:00:00\", \"2021-09-07T00:00:00\", \"2021-09-08T00:00:00\", \"2021-09-09T00:00:00\", \"2021-09-10T00:00:00\", \"2021-09-13T00:00:00\", \"2021-09-14T00:00:00\", \"2021-09-15T00:00:00\", \"2021-09-16T00:00:00\", \"2021-09-17T00:00:00\", \"2021-09-20T00:00:00\", \"2021-09-21T00:00:00\", \"2021-09-22T00:00:00\", \"2021-09-23T00:00:00\", \"2021-09-24T00:00:00\", \"2021-09-27T00:00:00\", \"2021-09-28T00:00:00\", \"2021-09-29T00:00:00\", \"2021-09-30T00:00:00\", \"2021-10-01T00:00:00\", \"2021-10-04T00:00:00\", \"2021-10-05T00:00:00\", \"2021-10-06T00:00:00\", \"2021-10-07T00:00:00\", \"2021-10-08T00:00:00\", \"2021-10-11T00:00:00\", \"2021-10-12T00:00:00\", \"2021-10-13T00:00:00\", \"2021-10-14T00:00:00\", \"2021-10-15T00:00:00\", \"2021-10-18T00:00:00\", \"2021-10-19T00:00:00\", \"2021-10-20T00:00:00\", \"2021-10-21T00:00:00\", \"2021-10-22T00:00:00\", \"2021-10-25T00:00:00\", \"2021-10-26T00:00:00\", \"2021-10-27T00:00:00\", \"2021-10-28T00:00:00\", \"2021-10-29T00:00:00\", \"2021-11-01T00:00:00\", \"2021-11-02T00:00:00\", \"2021-11-03T00:00:00\", \"2021-11-04T00:00:00\", \"2021-11-05T00:00:00\", \"2021-11-08T00:00:00\", \"2021-11-09T00:00:00\", \"2021-11-10T00:00:00\", \"2021-11-11T00:00:00\", \"2021-11-12T00:00:00\", \"2021-11-15T00:00:00\", \"2021-11-16T00:00:00\", \"2021-11-17T00:00:00\", \"2021-11-18T00:00:00\", \"2021-11-19T00:00:00\", \"2021-11-22T00:00:00\", \"2021-11-23T00:00:00\", \"2021-11-24T00:00:00\", \"2021-11-26T00:00:00\", \"2021-11-29T00:00:00\", \"2021-11-30T00:00:00\", \"2021-12-01T00:00:00\", \"2021-12-02T00:00:00\", \"2021-12-03T00:00:00\", \"2021-12-06T00:00:00\", \"2021-12-07T00:00:00\", \"2021-12-08T00:00:00\", \"2021-12-09T00:00:00\", \"2021-12-10T00:00:00\", \"2021-12-13T00:00:00\", \"2021-12-14T00:00:00\", \"2021-12-15T00:00:00\", \"2021-12-16T00:00:00\", \"2021-12-17T00:00:00\", \"2021-12-20T00:00:00\", \"2021-12-21T00:00:00\", \"2021-12-22T00:00:00\", \"2021-12-23T00:00:00\", \"2021-12-27T00:00:00\", \"2021-12-28T00:00:00\", \"2021-12-29T00:00:00\", \"2021-12-30T00:00:00\", \"2021-12-31T00:00:00\", \"2022-01-03T00:00:00\", \"2022-01-04T00:00:00\", \"2022-01-05T00:00:00\", \"2022-01-06T00:00:00\", \"2022-01-07T00:00:00\", \"2022-01-10T00:00:00\"], \"xaxis\": \"x\", \"y\": [68.3499984741211, 68.7690894386985, 70.22826309834629, 71.284784496144, 72.36798562815292, 73.95725952324094, 75.94296348037884, 77.66814845206669, 78.54195302726943, 79.08904798466254, 79.49277078417475, 79.90251889470431, 80.16501726023367, 80.93637946620142, 81.887617835263, 83.45328899663468, 84.04844454239517, 84.78131327584576, 85.25755721832036, 85.81868840803449, 86.43153469444897, 86.6923045451134, 86.73391336154663, 87.12173941958784, 88.37976302548645, 89.18887536674195, 90.16806843199019, 91.42551675635471, 92.18319724543431, 93.69745170838489, 93.80495584884244, 93.83450506744022, 94.21955003356604, 95.33140884399114, 96.7340082341947, 98.75818930381335, 99.1301719556595, 99.17833847442768, 99.76030787048467, 99.94027968805602, 101.28843577487514, 102.2176690804529, 103.65697216875333, 104.68906580216033, 105.74551414365428, 107.29592222620914, 109.30538328714326, 111.09943874159686, 113.49585401180325, 116.59804865774727, 119.81458930045561, 122.30689897564501, 124.01081752801889, 125.97983394992129, 128.24894017641992, 130.7454007707333, 134.06400070066664, 135.69454609151512, 137.73867759917567, 139.08061599925063, 139.77510556483722, 140.21191431631152, 140.80083141859285, 141.7525744053081, 143.2087043932311, 145.22336718631803, 147.68396955902847, 149.52633568532062, 150.92575954746832, 151.42705435600814, 151.40459420326022, 151.71508630516553, 151.87462402475984, 151.16602200715027, 150.9436564811096, 149.76605184584182, 148.74822961660334, 148.51657210129778, 147.87961050180124, 147.79873731919784, 148.101579824981, 148.3114365374472, 148.33857872589306, 148.02507151350719, 147.9546104668247, 147.86419194382856, 148.42471983796202, 148.7070179235379, 148.7745614712383, 149.41869230206675, 149.85153779058624, 149.84867138455283, 150.12879150193723, 149.93526500176114, 149.78933198624236, 149.79121067463794, 147.8683732850934, 145.77943020368932, 144.16311836699026, 142.6619259268892, 141.09175078714006, 139.72613705147498, 138.42467037971448, 136.8860639815586, 135.20278568746983, 133.9479871273252, 132.26726094161134, 130.298419093315, 128.5012899738588, 126.3239002536678, 124.62445452637235, 123.16132218572912, 121.7921109392193, 120.0655556767228, 117.84050482773804, 115.6568225429277, 113.57438412993427, 112.16307675919096, 111.04734245286892, 110.64303845480093, 110.19367104511376, 110.14606442000753, 110.0318766899749, 109.9362518415166, 109.18477423491919, 108.39797646622625, 107.66543281819574, 106.71312096576033, 105.44010988564327, 104.1164632827137, 103.33587560058488, 102.52534128861764, 102.0139467647323, 101.85904229144697, 101.7882204314113, 101.68020025347583, 101.73018235379017, 101.38107481159547, 101.15915914157827, 100.80469032291029, 100.54971847537298, 100.64247131350491, 100.68588326196647, 100.79807552623727, 100.7927957387402, 100.53254160841617, 100.24776523727641, 100.35887759940611, 100.49897977454, 100.68179998923912, 101.03981842172485, 101.30983512304353, 101.67984986216847, 101.82077290714712, 101.79888462750235, 101.3462587245316, 100.72114440600173, 99.9283130963652, 98.87301187804329, 98.013646995398, 96.51967925318498, 95.43061758612518, 94.41328852045648, 93.18571716969764, 92.6670159139918, 92.1127417122493, 91.88340122367124, 91.56309207700582, 91.42553852925599, 91.61867166766524, 92.04879228643395, 92.34253833123967, 92.69685283419693, 92.97895739942973, 93.11359755261545, 93.16872515880523, 93.19975033857116, 93.19068198725752, 93.36243833669361, 93.7931256219143, 94.1801144791728, 94.58737713216702, 95.15306989820581, 95.5436996300273, 96.1579090320028, 96.33355333253806, 96.37959360575192, 97.05963060617007, 97.78330024588793, 98.70209107713889, 99.75281026432904, 100.95346379343302, 102.11769455186915, 102.84790427677912, 103.54264005741462, 104.2069453680243, 104.71813231920886, 104.82011995727083, 104.9355632645999, 105.09142128835255, 105.03674643157227, 105.04976951099077, 105.1843358081095, 105.27576004750011, 105.11796376277532, 104.61814912493956, 103.90286284085414, 103.24896613572855, 102.79269679220174, 102.55336105310244, 102.62214618996528, 102.76558716799046, 103.0141701527186, 103.04197283836456, 102.83633883299477, 103.3739443936316, 104.089949448756, 104.36540883946746, 104.66218960437206, 104.71108118108754, 105.11461939425038, 105.58238146170312, 105.71125587427557, 106.12386897661415, 106.21715375382004, 107.59286691021104, 109.3289701403197, 111.10542695639859, 112.11311563685383, 112.90101410434865, 113.35728538294835, 113.63480522650845, 114.47164078208864, 115.45512806694671, 116.33284375271079, 117.08622184306272, 117.35656508992918, 117.91596845777475, 118.68178917414892, 119.41526288558993, 120.05932989599084, 121.24848166814154, 122.37225611743335, 123.63477778919722, 124.54252481901452, 125.41502250725397, 126.29547556145957, 126.7386139803219, 127.19237595734164, 127.63215985024667, 128.25105463126118, 129.01823170491073, 128.88566496433646, 129.07787724030587, 129.4807969918086, 130.522542941772, 131.6132212445619, 132.17838311606127, 131.72398467870804, 131.1881680561941, 130.73924368744918, 130.32840346319952, 129.37582119146512, 129.25529226967353, 129.35753887086798, 129.96776327571806, 130.53614854344397, 131.00558930751652, 131.75417259712083, 132.30015640709493, 133.12287001586046, 133.83897274169132, 134.94452067426482, 136.10501940513777, 136.67092689840294, 137.61902500795864, 138.18547783482745, 138.89498034922167, 139.68816350994584, 140.08742153913755, 140.81311115596313, 141.76737355620227, 142.3976120463877, 142.5323750315172, 142.99306876533524, 143.78097193776924, 144.52452055377816, 146.21320105829975, 148.5238195878009, 151.06256298420465, 153.88687588407808, 157.77443206702412, 161.39039306563626, 164.53762956029078, 167.01602715042412, 170.11638787467533, 171.9012617042503, 172.38296490824953, 172.71815058242856, 173.5446821257163, 174.1215291497101, 173.77684484801415, 173.65076798816273, 171.6534247779462, 169.89765855612296, 167.805144585822, 165.96558665294899, 164.8323515026809, 163.8421379516559, 161.6746708651417, 159.6560645338291, 157.846422303481, 156.2240202758918, 154.8163825683711, 152.9003482888068, 151.58304423183432, 150.28367596404328, 149.8797050889385, 149.42609547991214, 149.07554201121275, 148.9786740562694, 148.48243134865046, 148.12493786711477, 147.9244888036448, 147.47589941178293, 146.6735443649376, 145.13322176153773, 142.9402017956007, 140.83200163236427, 138.9727285070055, 137.7933895518232], \"yaxis\": \"y\"}, {\"line\": {\"color\": \"blue\", \"width\": 2}, \"name\": \"MA 50\", \"type\": \"scatter\", \"x\": [\"2020-09-18T00:00:00\", \"2020-09-21T00:00:00\", \"2020-09-22T00:00:00\", \"2020-09-23T00:00:00\", \"2020-09-24T00:00:00\", \"2020-09-25T00:00:00\", \"2020-09-28T00:00:00\", \"2020-09-29T00:00:00\", \"2020-09-30T00:00:00\", \"2020-10-01T00:00:00\", \"2020-10-02T00:00:00\", \"2020-10-05T00:00:00\", \"2020-10-06T00:00:00\", \"2020-10-07T00:00:00\", \"2020-10-08T00:00:00\", \"2020-10-09T00:00:00\", \"2020-10-12T00:00:00\", \"2020-10-13T00:00:00\", \"2020-10-14T00:00:00\", \"2020-10-15T00:00:00\", \"2020-10-16T00:00:00\", \"2020-10-19T00:00:00\", \"2020-10-20T00:00:00\", \"2020-10-21T00:00:00\", \"2020-10-22T00:00:00\", \"2020-10-23T00:00:00\", \"2020-10-26T00:00:00\", \"2020-10-27T00:00:00\", \"2020-10-28T00:00:00\", \"2020-10-29T00:00:00\", \"2020-10-30T00:00:00\", \"2020-11-02T00:00:00\", \"2020-11-03T00:00:00\", \"2020-11-04T00:00:00\", \"2020-11-05T00:00:00\", \"2020-11-06T00:00:00\", \"2020-11-09T00:00:00\", \"2020-11-10T00:00:00\", \"2020-11-11T00:00:00\", \"2020-11-12T00:00:00\", \"2020-11-13T00:00:00\", \"2020-11-16T00:00:00\", \"2020-11-17T00:00:00\", \"2020-11-18T00:00:00\", \"2020-11-19T00:00:00\", \"2020-11-20T00:00:00\", \"2020-11-23T00:00:00\", \"2020-11-24T00:00:00\", \"2020-11-25T00:00:00\", \"2020-11-27T00:00:00\", \"2020-11-30T00:00:00\", \"2020-12-01T00:00:00\", \"2020-12-02T00:00:00\", \"2020-12-03T00:00:00\", \"2020-12-04T00:00:00\", \"2020-12-07T00:00:00\", \"2020-12-08T00:00:00\", \"2020-12-09T00:00:00\", \"2020-12-10T00:00:00\", \"2020-12-11T00:00:00\", \"2020-12-14T00:00:00\", \"2020-12-15T00:00:00\", \"2020-12-16T00:00:00\", \"2020-12-17T00:00:00\", \"2020-12-18T00:00:00\", \"2020-12-21T00:00:00\", \"2020-12-22T00:00:00\", \"2020-12-23T00:00:00\", \"2020-12-24T00:00:00\", \"2020-12-28T00:00:00\", \"2020-12-29T00:00:00\", \"2020-12-30T00:00:00\", \"2020-12-31T00:00:00\", \"2021-01-04T00:00:00\", \"2021-01-05T00:00:00\", \"2021-01-06T00:00:00\", \"2021-01-07T00:00:00\", \"2021-01-08T00:00:00\", \"2021-01-11T00:00:00\", \"2021-01-12T00:00:00\", \"2021-01-13T00:00:00\", \"2021-01-14T00:00:00\", \"2021-01-15T00:00:00\", \"2021-01-19T00:00:00\", \"2021-01-20T00:00:00\", \"2021-01-21T00:00:00\", \"2021-01-22T00:00:00\", \"2021-01-25T00:00:00\", \"2021-01-26T00:00:00\", \"2021-01-27T00:00:00\", \"2021-01-28T00:00:00\", \"2021-01-29T00:00:00\", \"2021-02-01T00:00:00\", \"2021-02-02T00:00:00\", \"2021-02-03T00:00:00\", \"2021-02-04T00:00:00\", \"2021-02-05T00:00:00\", \"2021-02-08T00:00:00\", \"2021-02-09T00:00:00\", \"2021-02-10T00:00:00\", \"2021-02-11T00:00:00\", \"2021-02-12T00:00:00\", \"2021-02-16T00:00:00\", \"2021-02-17T00:00:00\", \"2021-02-18T00:00:00\", \"2021-02-19T00:00:00\", \"2021-02-22T00:00:00\", \"2021-02-23T00:00:00\", \"2021-02-24T00:00:00\", \"2021-02-25T00:00:00\", \"2021-02-26T00:00:00\", \"2021-03-01T00:00:00\", \"2021-03-02T00:00:00\", \"2021-03-03T00:00:00\", \"2021-03-04T00:00:00\", \"2021-03-05T00:00:00\", \"2021-03-08T00:00:00\", \"2021-03-09T00:00:00\", \"2021-03-10T00:00:00\", \"2021-03-11T00:00:00\", \"2021-03-12T00:00:00\", \"2021-03-15T00:00:00\", \"2021-03-16T00:00:00\", \"2021-03-17T00:00:00\", \"2021-03-18T00:00:00\", \"2021-03-19T00:00:00\", \"2021-03-22T00:00:00\", \"2021-03-23T00:00:00\", \"2021-03-24T00:00:00\", \"2021-03-25T00:00:00\", \"2021-03-26T00:00:00\", \"2021-03-29T00:00:00\", \"2021-03-30T00:00:00\", \"2021-03-31T00:00:00\", \"2021-04-01T00:00:00\", \"2021-04-05T00:00:00\", \"2021-04-06T00:00:00\", \"2021-04-07T00:00:00\", \"2021-04-08T00:00:00\", \"2021-04-09T00:00:00\", \"2021-04-12T00:00:00\", \"2021-04-13T00:00:00\", \"2021-04-14T00:00:00\", \"2021-04-15T00:00:00\", \"2021-04-16T00:00:00\", \"2021-04-19T00:00:00\", \"2021-04-20T00:00:00\", \"2021-04-21T00:00:00\", \"2021-04-22T00:00:00\", \"2021-04-23T00:00:00\", \"2021-04-26T00:00:00\", \"2021-04-27T00:00:00\", \"2021-04-28T00:00:00\", \"2021-04-29T00:00:00\", \"2021-04-30T00:00:00\", \"2021-05-03T00:00:00\", \"2021-05-04T00:00:00\", \"2021-05-05T00:00:00\", \"2021-05-06T00:00:00\", \"2021-05-07T00:00:00\", \"2021-05-10T00:00:00\", \"2021-05-11T00:00:00\", \"2021-05-12T00:00:00\", \"2021-05-13T00:00:00\", \"2021-05-14T00:00:00\", \"2021-05-17T00:00:00\", \"2021-05-18T00:00:00\", \"2021-05-19T00:00:00\", \"2021-05-20T00:00:00\", \"2021-05-21T00:00:00\", \"2021-05-24T00:00:00\", \"2021-05-25T00:00:00\", \"2021-05-26T00:00:00\", \"2021-05-27T00:00:00\", \"2021-05-28T00:00:00\", \"2021-06-01T00:00:00\", \"2021-06-02T00:00:00\", \"2021-06-03T00:00:00\", \"2021-06-04T00:00:00\", \"2021-06-07T00:00:00\", \"2021-06-08T00:00:00\", \"2021-06-09T00:00:00\", \"2021-06-10T00:00:00\", \"2021-06-11T00:00:00\", \"2021-06-14T00:00:00\", \"2021-06-15T00:00:00\", \"2021-06-16T00:00:00\", \"2021-06-17T00:00:00\", \"2021-06-18T00:00:00\", \"2021-06-21T00:00:00\", \"2021-06-22T00:00:00\", \"2021-06-23T00:00:00\", \"2021-06-24T00:00:00\", \"2021-06-25T00:00:00\", \"2021-06-28T00:00:00\", \"2021-06-29T00:00:00\", \"2021-06-30T00:00:00\", \"2021-07-01T00:00:00\", \"2021-07-02T00:00:00\", \"2021-07-06T00:00:00\", \"2021-07-07T00:00:00\", \"2021-07-08T00:00:00\", \"2021-07-09T00:00:00\", \"2021-07-12T00:00:00\", \"2021-07-13T00:00:00\", \"2021-07-14T00:00:00\", \"2021-07-15T00:00:00\", \"2021-07-16T00:00:00\", \"2021-07-19T00:00:00\", \"2021-07-20T00:00:00\", \"2021-07-21T00:00:00\", \"2021-07-22T00:00:00\", \"2021-07-23T00:00:00\", \"2021-07-26T00:00:00\", \"2021-07-27T00:00:00\", \"2021-07-28T00:00:00\", \"2021-07-29T00:00:00\", \"2021-07-30T00:00:00\", \"2021-08-02T00:00:00\", \"2021-08-03T00:00:00\", \"2021-08-04T00:00:00\", \"2021-08-05T00:00:00\", \"2021-08-06T00:00:00\", \"2021-08-09T00:00:00\", \"2021-08-10T00:00:00\", \"2021-08-11T00:00:00\", \"2021-08-12T00:00:00\", \"2021-08-13T00:00:00\", \"2021-08-16T00:00:00\", \"2021-08-17T00:00:00\", \"2021-08-18T00:00:00\", \"2021-08-19T00:00:00\", \"2021-08-20T00:00:00\", \"2021-08-23T00:00:00\", \"2021-08-24T00:00:00\", \"2021-08-25T00:00:00\", \"2021-08-26T00:00:00\", \"2021-08-27T00:00:00\", \"2021-08-30T00:00:00\", \"2021-08-31T00:00:00\", \"2021-09-01T00:00:00\", \"2021-09-02T00:00:00\", \"2021-09-03T00:00:00\", \"2021-09-07T00:00:00\", \"2021-09-08T00:00:00\", \"2021-09-09T00:00:00\", \"2021-09-10T00:00:00\", \"2021-09-13T00:00:00\", \"2021-09-14T00:00:00\", \"2021-09-15T00:00:00\", \"2021-09-16T00:00:00\", \"2021-09-17T00:00:00\", \"2021-09-20T00:00:00\", \"2021-09-21T00:00:00\", \"2021-09-22T00:00:00\", \"2021-09-23T00:00:00\", \"2021-09-24T00:00:00\", \"2021-09-27T00:00:00\", \"2021-09-28T00:00:00\", \"2021-09-29T00:00:00\", \"2021-09-30T00:00:00\", \"2021-10-01T00:00:00\", \"2021-10-04T00:00:00\", \"2021-10-05T00:00:00\", \"2021-10-06T00:00:00\", \"2021-10-07T00:00:00\", \"2021-10-08T00:00:00\", \"2021-10-11T00:00:00\", \"2021-10-12T00:00:00\", \"2021-10-13T00:00:00\", \"2021-10-14T00:00:00\", \"2021-10-15T00:00:00\", \"2021-10-18T00:00:00\", \"2021-10-19T00:00:00\", \"2021-10-20T00:00:00\", \"2021-10-21T00:00:00\", \"2021-10-22T00:00:00\", \"2021-10-25T00:00:00\", \"2021-10-26T00:00:00\", \"2021-10-27T00:00:00\", \"2021-10-28T00:00:00\", \"2021-10-29T00:00:00\", \"2021-11-01T00:00:00\", \"2021-11-02T00:00:00\", \"2021-11-03T00:00:00\", \"2021-11-04T00:00:00\", \"2021-11-05T00:00:00\", \"2021-11-08T00:00:00\", \"2021-11-09T00:00:00\", \"2021-11-10T00:00:00\", \"2021-11-11T00:00:00\", \"2021-11-12T00:00:00\", \"2021-11-15T00:00:00\", \"2021-11-16T00:00:00\", \"2021-11-17T00:00:00\", \"2021-11-18T00:00:00\", \"2021-11-19T00:00:00\", \"2021-11-22T00:00:00\", \"2021-11-23T00:00:00\", \"2021-11-24T00:00:00\", \"2021-11-26T00:00:00\", \"2021-11-29T00:00:00\", \"2021-11-30T00:00:00\", \"2021-12-01T00:00:00\", \"2021-12-02T00:00:00\", \"2021-12-03T00:00:00\", \"2021-12-06T00:00:00\", \"2021-12-07T00:00:00\", \"2021-12-08T00:00:00\", \"2021-12-09T00:00:00\", \"2021-12-10T00:00:00\", \"2021-12-13T00:00:00\", \"2021-12-14T00:00:00\", \"2021-12-15T00:00:00\", \"2021-12-16T00:00:00\", \"2021-12-17T00:00:00\", \"2021-12-20T00:00:00\", \"2021-12-21T00:00:00\", \"2021-12-22T00:00:00\", \"2021-12-23T00:00:00\", \"2021-12-27T00:00:00\", \"2021-12-28T00:00:00\", \"2021-12-29T00:00:00\", \"2021-12-30T00:00:00\", \"2021-12-31T00:00:00\", \"2022-01-03T00:00:00\", \"2022-01-04T00:00:00\", \"2022-01-05T00:00:00\", \"2022-01-06T00:00:00\", \"2022-01-07T00:00:00\", \"2022-01-10T00:00:00\"], \"xaxis\": \"x\", \"y\": [null, null, null, null, null, null, null, null, null, null, null, null, null, null, null, null, null, null, null, null, null, null, null, null, null, null, null, null, null, null, null, null, null, null, null, null, null, null, null, null, null, null, null, null, null, null, null, null, null, 99.65059951782227, 101.32319946289063, 102.80859939575195, 103.93319946289063, 105.2095994567871, 106.5643995666504, 107.8815997314453, 109.31059967041016, 110.45219970703126, 111.87019958496094, 113.22899963378906, 114.49279968261719, 115.70439971923828, 116.98239974975586, 118.2347998046875, 119.56219985961914, 120.88739974975586, 122.53319961547851, 124.04999954223632, 125.54799957275391, 126.84819961547852, 128.02059951782226, 129.3309996032715, 130.65739959716797, 131.71899963378905, 132.67419967651367, 133.488399810791, 134.26059997558593, 135.1045999145508, 135.93959976196288, 136.70259994506836, 137.82760009765624, 138.95320022583007, 139.96400024414064, 140.73280029296876, 141.46260025024415, 142.0218003845215, 143.045400390625, 144.08280029296876, 144.9602001953125, 146.04260025024413, 146.83080017089844, 147.5970002746582, 148.29460006713867, 148.95440002441407, 149.5948001098633, 150.135, 150.1198001098633, 150.0368002319336, 149.84760009765625, 149.44820022583008, 148.91640029907228, 148.49320037841798, 148.180400390625, 147.69700042724608, 147.04560043334962, 146.35940032958985, 145.3236003112793, 144.49580032348632, 143.54280044555665, 142.58380050659179, 141.8020004272461, 141.08100036621093, 140.30920028686523, 139.33980026245118, 138.09620010375977, 136.6652001953125, 135.07440032958985, 133.67640045166016, 132.37580047607423, 131.37900039672851, 130.46940048217775, 129.56640029907226, 128.67480026245119, 127.97280029296876, 127.03180023193359, 126.28260009765626, 125.51799987792968, 124.53779998779297, 123.5618000793457, 122.43959991455078, 121.32759979248047, 120.20779968261719, 119.17359970092774, 118.28199966430664, 117.35859970092774, 116.43139953613282, 115.39539962768555, 114.32259963989257, 113.31239974975585, 112.14039978027344, 111.01679992675781, 110.05179977416992, 109.01559997558594, 108.09399993896484, 107.14219985961914, 106.10459991455077, 105.47979995727539, 105.01139999389649, 104.48940002441407, 103.9866000366211, 103.57120010375976, 103.1300001525879, 102.72940002441406, 102.36400009155274, 102.02820007324219, 101.5366000366211, 101.11680007934571, 100.74460006713868, 100.30040008544921, 99.99779998779297, 99.47680007934571, 98.99700012207032, 98.51980010986328, 98.08200012207031, 97.91980026245118, 97.77480026245117, 97.71160018920898, 97.51780014038086, 97.32100021362305, 97.06000030517578, 96.87300033569336, 96.5852003479004, 96.33220031738281, 96.0686003112793, 95.92440032958984, 95.78820037841797, 95.65160049438477, 95.56980041503907, 95.6172004699707, 95.76160049438477, 95.81200057983398, 95.89680068969727, 95.97500061035156, 95.95780059814453, 95.9822006225586, 95.93200057983398, 95.82420043945312, 95.94360046386718, 96.06520034790039, 96.27780029296875, 96.52300033569335, 96.75080032348633, 97.0036003112793, 97.16820037841796, 97.36320037841797, 97.62160034179688, 97.8702003479004, 97.95760025024414, 98.04140014648438, 98.12420013427734, 98.12160003662109, 98.145, 98.16800003051758, 98.22720001220704, 98.26639999389648, 98.32240005493163, 98.36800003051758, 98.46220001220703, 98.66040008544923, 98.8752001953125, 99.30980010986327, 99.70300003051757, 100.12820007324218, 100.57639999389649, 100.84239990234374, 101.28599990844727, 101.71919998168946, 102.09440002441406, 102.44599990844726, 102.67899978637695, 102.93499984741212, 103.23459991455078, 103.44979995727539, 103.73879989624024, 103.99259994506836, 104.54519989013671, 105.20879989624024, 105.92419982910157, 106.4663998413086, 106.91999984741211, 107.31739974975586, 107.67239974975585, 108.1129997253418, 108.6297998046875, 109.08599975585938, 109.6165998840332, 110.08099990844727, 110.47399993896484, 110.90039993286133, 111.27759994506836, 111.60239990234375, 112.00599990844727, 112.40299987792969, 112.92519973754882, 113.38779968261719, 113.85359970092773, 114.35899978637696, 114.86559982299805, 115.37839981079101, 115.88599975585937, 116.48499984741211, 117.11519989013672, 117.53579986572265, 118.03199981689453, 118.6313996887207, 119.45779968261719, 120.3731997680664, 121.19559982299805, 121.77459976196289, 122.28799972534179, 122.74679977416992, 123.18719985961914, 123.47419982910156, 123.96879989624023, 124.56080001831054, 125.10720016479492, 125.60660018920899, 126.17820007324218, 126.8104002380371, 127.46160018920898, 128.1056002807617, 128.72040023803712, 129.50040023803712, 130.24960037231446, 130.95320037841796, 131.46820053100586, 131.81140060424804, 132.15380081176758, 132.6624006652832, 133.12840072631835, 133.73140090942383, 134.42940078735353, 134.94660079956054, 135.31840087890626, 135.76820098876954, 136.30900100708007, 136.94700119018555, 137.73880126953125, 138.64460144042968, 139.63860137939454, 140.75120147705078, 142.0214013671875, 143.30020141601562, 144.49520141601562, 145.65880157470704, 146.99840148925782, 148.0914013671875, 149.01200134277343, 149.89880157470702, 150.89440155029297, 151.80340148925782, 152.47620147705078, 153.37280151367187, 153.7864013671875, 154.1630014038086, 154.28180145263673, 154.38280151367186, 154.69620147705078, 155.2314015197754, 155.5148014831543, 155.77920150756836, 156.04980148315428, 156.4528015136719, 156.7066015625, 156.77380157470702, 156.82060150146484, 156.84200134277344, 157.0448013305664, 157.1578012084961, 157.31400146484376, 157.44720123291015, 157.4976013183594, 157.46860137939453, 157.4328012084961, 157.4460012817383, 157.27700103759764, 156.99460083007813, 156.49500076293944, 155.9376008605957, 155.46360076904296, 155.0222006225586], \"yaxis\": \"y\"}, {\"line\": {\"color\": \"orange\", \"width\": 2}, \"name\": \"MA 100\", \"type\": \"scatter\", \"x\": [\"2020-09-18T00:00:00\", \"2020-09-21T00:00:00\", \"2020-09-22T00:00:00\", \"2020-09-23T00:00:00\", \"2020-09-24T00:00:00\", \"2020-09-25T00:00:00\", \"2020-09-28T00:00:00\", \"2020-09-29T00:00:00\", \"2020-09-30T00:00:00\", \"2020-10-01T00:00:00\", \"2020-10-02T00:00:00\", \"2020-10-05T00:00:00\", \"2020-10-06T00:00:00\", \"2020-10-07T00:00:00\", \"2020-10-08T00:00:00\", \"2020-10-09T00:00:00\", \"2020-10-12T00:00:00\", \"2020-10-13T00:00:00\", \"2020-10-14T00:00:00\", \"2020-10-15T00:00:00\", \"2020-10-16T00:00:00\", \"2020-10-19T00:00:00\", \"2020-10-20T00:00:00\", \"2020-10-21T00:00:00\", \"2020-10-22T00:00:00\", \"2020-10-23T00:00:00\", \"2020-10-26T00:00:00\", \"2020-10-27T00:00:00\", \"2020-10-28T00:00:00\", \"2020-10-29T00:00:00\", \"2020-10-30T00:00:00\", \"2020-11-02T00:00:00\", \"2020-11-03T00:00:00\", \"2020-11-04T00:00:00\", \"2020-11-05T00:00:00\", \"2020-11-06T00:00:00\", \"2020-11-09T00:00:00\", \"2020-11-10T00:00:00\", \"2020-11-11T00:00:00\", \"2020-11-12T00:00:00\", \"2020-11-13T00:00:00\", \"2020-11-16T00:00:00\", \"2020-11-17T00:00:00\", \"2020-11-18T00:00:00\", \"2020-11-19T00:00:00\", \"2020-11-20T00:00:00\", \"2020-11-23T00:00:00\", \"2020-11-24T00:00:00\", \"2020-11-25T00:00:00\", \"2020-11-27T00:00:00\", \"2020-11-30T00:00:00\", \"2020-12-01T00:00:00\", \"2020-12-02T00:00:00\", \"2020-12-03T00:00:00\", \"2020-12-04T00:00:00\", \"2020-12-07T00:00:00\", \"2020-12-08T00:00:00\", \"2020-12-09T00:00:00\", \"2020-12-10T00:00:00\", \"2020-12-11T00:00:00\", \"2020-12-14T00:00:00\", \"2020-12-15T00:00:00\", \"2020-12-16T00:00:00\", \"2020-12-17T00:00:00\", \"2020-12-18T00:00:00\", \"2020-12-21T00:00:00\", \"2020-12-22T00:00:00\", \"2020-12-23T00:00:00\", \"2020-12-24T00:00:00\", \"2020-12-28T00:00:00\", \"2020-12-29T00:00:00\", \"2020-12-30T00:00:00\", \"2020-12-31T00:00:00\", \"2021-01-04T00:00:00\", \"2021-01-05T00:00:00\", \"2021-01-06T00:00:00\", \"2021-01-07T00:00:00\", \"2021-01-08T00:00:00\", \"2021-01-11T00:00:00\", \"2021-01-12T00:00:00\", \"2021-01-13T00:00:00\", \"2021-01-14T00:00:00\", \"2021-01-15T00:00:00\", \"2021-01-19T00:00:00\", \"2021-01-20T00:00:00\", \"2021-01-21T00:00:00\", \"2021-01-22T00:00:00\", \"2021-01-25T00:00:00\", \"2021-01-26T00:00:00\", \"2021-01-27T00:00:00\", \"2021-01-28T00:00:00\", \"2021-01-29T00:00:00\", \"2021-02-01T00:00:00\", \"2021-02-02T00:00:00\", \"2021-02-03T00:00:00\", \"2021-02-04T00:00:00\", \"2021-02-05T00:00:00\", \"2021-02-08T00:00:00\", \"2021-02-09T00:00:00\", \"2021-02-10T00:00:00\", \"2021-02-11T00:00:00\", \"2021-02-12T00:00:00\", \"2021-02-16T00:00:00\", \"2021-02-17T00:00:00\", \"2021-02-18T00:00:00\", \"2021-02-19T00:00:00\", \"2021-02-22T00:00:00\", \"2021-02-23T00:00:00\", \"2021-02-24T00:00:00\", \"2021-02-25T00:00:00\", \"2021-02-26T00:00:00\", \"2021-03-01T00:00:00\", \"2021-03-02T00:00:00\", \"2021-03-03T00:00:00\", \"2021-03-04T00:00:00\", \"2021-03-05T00:00:00\", \"2021-03-08T00:00:00\", \"2021-03-09T00:00:00\", \"2021-03-10T00:00:00\", \"2021-03-11T00:00:00\", \"2021-03-12T00:00:00\", \"2021-03-15T00:00:00\", \"2021-03-16T00:00:00\", \"2021-03-17T00:00:00\", \"2021-03-18T00:00:00\", \"2021-03-19T00:00:00\", \"2021-03-22T00:00:00\", \"2021-03-23T00:00:00\", \"2021-03-24T00:00:00\", \"2021-03-25T00:00:00\", \"2021-03-26T00:00:00\", \"2021-03-29T00:00:00\", \"2021-03-30T00:00:00\", \"2021-03-31T00:00:00\", \"2021-04-01T00:00:00\", \"2021-04-05T00:00:00\", \"2021-04-06T00:00:00\", \"2021-04-07T00:00:00\", \"2021-04-08T00:00:00\", \"2021-04-09T00:00:00\", \"2021-04-12T00:00:00\", \"2021-04-13T00:00:00\", \"2021-04-14T00:00:00\", \"2021-04-15T00:00:00\", \"2021-04-16T00:00:00\", \"2021-04-19T00:00:00\", \"2021-04-20T00:00:00\", \"2021-04-21T00:00:00\", \"2021-04-22T00:00:00\", \"2021-04-23T00:00:00\", \"2021-04-26T00:00:00\", \"2021-04-27T00:00:00\", \"2021-04-28T00:00:00\", \"2021-04-29T00:00:00\", \"2021-04-30T00:00:00\", \"2021-05-03T00:00:00\", \"2021-05-04T00:00:00\", \"2021-05-05T00:00:00\", \"2021-05-06T00:00:00\", \"2021-05-07T00:00:00\", \"2021-05-10T00:00:00\", \"2021-05-11T00:00:00\", \"2021-05-12T00:00:00\", \"2021-05-13T00:00:00\", \"2021-05-14T00:00:00\", \"2021-05-17T00:00:00\", \"2021-05-18T00:00:00\", \"2021-05-19T00:00:00\", \"2021-05-20T00:00:00\", \"2021-05-21T00:00:00\", \"2021-05-24T00:00:00\", \"2021-05-25T00:00:00\", \"2021-05-26T00:00:00\", \"2021-05-27T00:00:00\", \"2021-05-28T00:00:00\", \"2021-06-01T00:00:00\", \"2021-06-02T00:00:00\", \"2021-06-03T00:00:00\", \"2021-06-04T00:00:00\", \"2021-06-07T00:00:00\", \"2021-06-08T00:00:00\", \"2021-06-09T00:00:00\", \"2021-06-10T00:00:00\", \"2021-06-11T00:00:00\", \"2021-06-14T00:00:00\", \"2021-06-15T00:00:00\", \"2021-06-16T00:00:00\", \"2021-06-17T00:00:00\", \"2021-06-18T00:00:00\", \"2021-06-21T00:00:00\", \"2021-06-22T00:00:00\", \"2021-06-23T00:00:00\", \"2021-06-24T00:00:00\", \"2021-06-25T00:00:00\", \"2021-06-28T00:00:00\", \"2021-06-29T00:00:00\", \"2021-06-30T00:00:00\", \"2021-07-01T00:00:00\", \"2021-07-02T00:00:00\", \"2021-07-06T00:00:00\", \"2021-07-07T00:00:00\", \"2021-07-08T00:00:00\", \"2021-07-09T00:00:00\", \"2021-07-12T00:00:00\", \"2021-07-13T00:00:00\", \"2021-07-14T00:00:00\", \"2021-07-15T00:00:00\", \"2021-07-16T00:00:00\", \"2021-07-19T00:00:00\", \"2021-07-20T00:00:00\", \"2021-07-21T00:00:00\", \"2021-07-22T00:00:00\", \"2021-07-23T00:00:00\", \"2021-07-26T00:00:00\", \"2021-07-27T00:00:00\", \"2021-07-28T00:00:00\", \"2021-07-29T00:00:00\", \"2021-07-30T00:00:00\", \"2021-08-02T00:00:00\", \"2021-08-03T00:00:00\", \"2021-08-04T00:00:00\", \"2021-08-05T00:00:00\", \"2021-08-06T00:00:00\", \"2021-08-09T00:00:00\", \"2021-08-10T00:00:00\", \"2021-08-11T00:00:00\", \"2021-08-12T00:00:00\", \"2021-08-13T00:00:00\", \"2021-08-16T00:00:00\", \"2021-08-17T00:00:00\", \"2021-08-18T00:00:00\", \"2021-08-19T00:00:00\", \"2021-08-20T00:00:00\", \"2021-08-23T00:00:00\", \"2021-08-24T00:00:00\", \"2021-08-25T00:00:00\", \"2021-08-26T00:00:00\", \"2021-08-27T00:00:00\", \"2021-08-30T00:00:00\", \"2021-08-31T00:00:00\", \"2021-09-01T00:00:00\", \"2021-09-02T00:00:00\", \"2021-09-03T00:00:00\", \"2021-09-07T00:00:00\", \"2021-09-08T00:00:00\", \"2021-09-09T00:00:00\", \"2021-09-10T00:00:00\", \"2021-09-13T00:00:00\", \"2021-09-14T00:00:00\", \"2021-09-15T00:00:00\", \"2021-09-16T00:00:00\", \"2021-09-17T00:00:00\", \"2021-09-20T00:00:00\", \"2021-09-21T00:00:00\", \"2021-09-22T00:00:00\", \"2021-09-23T00:00:00\", \"2021-09-24T00:00:00\", \"2021-09-27T00:00:00\", \"2021-09-28T00:00:00\", \"2021-09-29T00:00:00\", \"2021-09-30T00:00:00\", \"2021-10-01T00:00:00\", \"2021-10-04T00:00:00\", \"2021-10-05T00:00:00\", \"2021-10-06T00:00:00\", \"2021-10-07T00:00:00\", \"2021-10-08T00:00:00\", \"2021-10-11T00:00:00\", \"2021-10-12T00:00:00\", \"2021-10-13T00:00:00\", \"2021-10-14T00:00:00\", \"2021-10-15T00:00:00\", \"2021-10-18T00:00:00\", \"2021-10-19T00:00:00\", \"2021-10-20T00:00:00\", \"2021-10-21T00:00:00\", \"2021-10-22T00:00:00\", \"2021-10-25T00:00:00\", \"2021-10-26T00:00:00\", \"2021-10-27T00:00:00\", \"2021-10-28T00:00:00\", \"2021-10-29T00:00:00\", \"2021-11-01T00:00:00\", \"2021-11-02T00:00:00\", \"2021-11-03T00:00:00\", \"2021-11-04T00:00:00\", \"2021-11-05T00:00:00\", \"2021-11-08T00:00:00\", \"2021-11-09T00:00:00\", \"2021-11-10T00:00:00\", \"2021-11-11T00:00:00\", \"2021-11-12T00:00:00\", \"2021-11-15T00:00:00\", \"2021-11-16T00:00:00\", \"2021-11-17T00:00:00\", \"2021-11-18T00:00:00\", \"2021-11-19T00:00:00\", \"2021-11-22T00:00:00\", \"2021-11-23T00:00:00\", \"2021-11-24T00:00:00\", \"2021-11-26T00:00:00\", \"2021-11-29T00:00:00\", \"2021-11-30T00:00:00\", \"2021-12-01T00:00:00\", \"2021-12-02T00:00:00\", \"2021-12-03T00:00:00\", \"2021-12-06T00:00:00\", \"2021-12-07T00:00:00\", \"2021-12-08T00:00:00\", \"2021-12-09T00:00:00\", \"2021-12-10T00:00:00\", \"2021-12-13T00:00:00\", \"2021-12-14T00:00:00\", \"2021-12-15T00:00:00\", \"2021-12-16T00:00:00\", \"2021-12-17T00:00:00\", \"2021-12-20T00:00:00\", \"2021-12-21T00:00:00\", \"2021-12-22T00:00:00\", \"2021-12-23T00:00:00\", \"2021-12-27T00:00:00\", \"2021-12-28T00:00:00\", \"2021-12-29T00:00:00\", \"2021-12-30T00:00:00\", \"2021-12-31T00:00:00\", \"2022-01-03T00:00:00\", \"2022-01-04T00:00:00\", \"2022-01-05T00:00:00\", \"2022-01-06T00:00:00\", \"2022-01-07T00:00:00\", \"2022-01-10T00:00:00\"], \"xaxis\": \"x\", \"y\": [null, null, null, null, null, null, null, null, null, null, null, null, null, null, null, null, null, null, null, null, null, null, null, null, null, null, null, null, null, null, null, null, null, null, null, null, null, null, null, null, null, null, null, null, null, null, null, null, null, null, null, null, null, null, null, null, null, null, null, null, null, null, null, null, null, null, null, null, null, null, null, null, null, null, null, null, null, null, null, null, null, null, null, null, null, null, null, null, null, null, null, null, null, null, null, null, null, null, null, 124.54939987182617, 125.11979988098145, 125.65089988708496, 126.05679992675782, 126.4532999420166, 126.805, 127.12050003051758, 127.31709999084472, 127.4740000152588, 127.70650001525878, 127.90640007019043, 128.14740005493164, 128.3927000427246, 128.64580001831055, 128.78730003356932, 128.82919998168944, 128.7762999725342, 128.8037999725342, 128.86319999694825, 128.96190002441406, 129.11360000610352, 129.245, 129.44869995117188, 129.66609992980958, 129.8458999633789, 129.85299995422363, 129.88549995422363, 129.88929992675781, 129.82119995117188, 129.75069992065428, 129.57109992980958, 129.57759994506836, 129.58049995422363, 129.56879997253418, 129.5073999786377, 129.41059997558594, 129.22659996032715, 129.22040000915527, 129.20269996643066, 129.13629997253418, 129.0915000152588, 128.92380004882813, 128.82440002441408, 128.6551000213623, 128.52419998168946, 128.36849998474122, 128.1197999572754, 127.79980003356934, 127.52410011291504, 127.16850006103516, 126.71740013122559, 126.24380020141602, 125.81160026550293, 125.45490020751953, 125.03050025939942, 124.5369002532959, 123.94800018310546, 123.2202001953125, 122.6202001953125, 121.92160026550293, 121.29080024719238, 120.6394002532959, 120.03900024414062, 119.41450019836425, 118.71090019226074, 118.00800018310547, 117.22000022888183, 116.39300025939941, 115.59710029602051, 114.84840034484863, 114.21950035095215, 113.67120040893555, 113.07580032348633, 112.50350028991699, 112.02070030212403, 111.47810028076172, 111.03540023803711, 110.58480018615722, 110.05380020141601, 109.5895002746582, 109.10060020446777, 108.56980018615722, 108.05230018615723, 107.57430015563965, 107.11990013122559, 106.67040016174316, 106.18170005798339, 105.60980003356934, 105.13310005187988, 104.68880004882813, 104.2091000366211, 103.76990013122558, 103.40130004882812, 103.00960014343262, 102.63110015869141, 102.25270011901856, 101.86310012817383, 101.67500015258788, 101.48450012207032, 101.26540008544922, 101.05540008544922, 100.84640007019043, 100.63750007629395, 100.44870002746582, 100.29560005187989, 100.14730003356934, 99.92950004577636, 99.74240005493164, 99.60340003967285, 99.48040008544922, 99.43650009155273, 99.3933000946045, 99.35000007629395, 99.32400009155273, 99.3292000579834, 99.38110008239747, 99.53040008544922, 99.71540008544922, 99.80610008239746, 99.88350006103515, 99.86950004577636, 99.90400009155273, 99.90990013122558, 99.8910001373291, 99.90370010375976, 99.9585001373291, 100.16670013427735, 100.4302001953125, 100.74700012207032, 101.04180015563965, 101.34080017089843, 101.56470016479493, 101.78460021972656, 102.04400016784668, 102.29380020141602, 102.53410018920898, 102.7743002319336, 102.9526001739502, 103.20880020141601, 103.48280014038086, 103.77770011901856, 104.06270011901856, 104.3784001159668, 104.70330009460449, 105.0467000579834, 105.37550003051757, 105.73760002136231, 106.11460006713867, 106.4116000366211, 106.7098999786377, 107.00509994506837, 107.30329994201661, 107.63009994506837, 107.85189994812012, 108.12959991455078, 108.44889984130859, 108.89009986877441, 109.37059989929199, 109.82889991760254, 110.21749992370606, 110.58159996032715, 111.0282999420166, 111.44509994506836, 111.80119995117188, 112.27259994506836, 112.70159996032714, 113.19660003662109, 113.66290008544922, 114.13630004882812, 114.62820007324218, 115.07029998779296, 115.52030006408691, 115.97750007629395, 116.47510009765625, 116.99420013427735, 117.47290016174317, 118.0067002105713, 118.51010025024414, 119.03900032043457, 119.5644002532959, 120.02420028686524, 120.52440032958984, 121.05090026855468, 121.52980026245118, 121.97410034179687, 122.42710037231446, 122.96280044555664, 123.5140005493164, 124.10640060424805, 124.77250068664551, 125.45810066223144, 126.17680068969726, 127.01370063781738, 127.85160064697266, 128.71020057678223, 129.5233006286621, 130.42600059509277, 131.2252005767822, 131.93880058288573, 132.63860069274904, 133.39020065307616, 134.14420066833497, 134.79570068359374, 135.45430068969728, 135.909200592041, 136.39720054626466, 136.86980056762695, 137.37800064086915, 137.9459006500244, 138.50300064086915, 138.90140060424804, 139.26300064086914, 139.61850067138673, 139.96350067138673, 140.3377007293701, 140.66730079650878, 140.96390083312988, 141.22430076599122, 141.6115007019043, 141.9841007232666, 142.38780082702635, 142.77640075683593, 143.10900077819824, 143.4845008087158, 143.84120079040528, 144.1996008300781, 144.37260078430177, 144.40300071716308, 144.3244007873535, 144.30000076293945, 144.29600074768067, 144.37680076599122], \"yaxis\": \"y\"}, {\"line\": {\"color\": \"red\", \"width\": 2}, \"name\": \"MA 200\", \"type\": \"scatter\", \"x\": [\"2020-09-18T00:00:00\", \"2020-09-21T00:00:00\", \"2020-09-22T00:00:00\", \"2020-09-23T00:00:00\", \"2020-09-24T00:00:00\", \"2020-09-25T00:00:00\", \"2020-09-28T00:00:00\", \"2020-09-29T00:00:00\", \"2020-09-30T00:00:00\", \"2020-10-01T00:00:00\", \"2020-10-02T00:00:00\", \"2020-10-05T00:00:00\", \"2020-10-06T00:00:00\", \"2020-10-07T00:00:00\", \"2020-10-08T00:00:00\", \"2020-10-09T00:00:00\", \"2020-10-12T00:00:00\", \"2020-10-13T00:00:00\", \"2020-10-14T00:00:00\", \"2020-10-15T00:00:00\", \"2020-10-16T00:00:00\", \"2020-10-19T00:00:00\", \"2020-10-20T00:00:00\", \"2020-10-21T00:00:00\", \"2020-10-22T00:00:00\", \"2020-10-23T00:00:00\", \"2020-10-26T00:00:00\", \"2020-10-27T00:00:00\", \"2020-10-28T00:00:00\", \"2020-10-29T00:00:00\", \"2020-10-30T00:00:00\", \"2020-11-02T00:00:00\", \"2020-11-03T00:00:00\", \"2020-11-04T00:00:00\", \"2020-11-05T00:00:00\", \"2020-11-06T00:00:00\", \"2020-11-09T00:00:00\", \"2020-11-10T00:00:00\", \"2020-11-11T00:00:00\", \"2020-11-12T00:00:00\", \"2020-11-13T00:00:00\", \"2020-11-16T00:00:00\", \"2020-11-17T00:00:00\", \"2020-11-18T00:00:00\", \"2020-11-19T00:00:00\", \"2020-11-20T00:00:00\", \"2020-11-23T00:00:00\", \"2020-11-24T00:00:00\", \"2020-11-25T00:00:00\", \"2020-11-27T00:00:00\", \"2020-11-30T00:00:00\", \"2020-12-01T00:00:00\", \"2020-12-02T00:00:00\", \"2020-12-03T00:00:00\", \"2020-12-04T00:00:00\", \"2020-12-07T00:00:00\", \"2020-12-08T00:00:00\", \"2020-12-09T00:00:00\", \"2020-12-10T00:00:00\", \"2020-12-11T00:00:00\", \"2020-12-14T00:00:00\", \"2020-12-15T00:00:00\", \"2020-12-16T00:00:00\", \"2020-12-17T00:00:00\", \"2020-12-18T00:00:00\", \"2020-12-21T00:00:00\", \"2020-12-22T00:00:00\", \"2020-12-23T00:00:00\", \"2020-12-24T00:00:00\", \"2020-12-28T00:00:00\", \"2020-12-29T00:00:00\", \"2020-12-30T00:00:00\", \"2020-12-31T00:00:00\", \"2021-01-04T00:00:00\", \"2021-01-05T00:00:00\", \"2021-01-06T00:00:00\", \"2021-01-07T00:00:00\", \"2021-01-08T00:00:00\", \"2021-01-11T00:00:00\", \"2021-01-12T00:00:00\", \"2021-01-13T00:00:00\", \"2021-01-14T00:00:00\", \"2021-01-15T00:00:00\", \"2021-01-19T00:00:00\", \"2021-01-20T00:00:00\", \"2021-01-21T00:00:00\", \"2021-01-22T00:00:00\", \"2021-01-25T00:00:00\", \"2021-01-26T00:00:00\", \"2021-01-27T00:00:00\", \"2021-01-28T00:00:00\", \"2021-01-29T00:00:00\", \"2021-02-01T00:00:00\", \"2021-02-02T00:00:00\", \"2021-02-03T00:00:00\", \"2021-02-04T00:00:00\", \"2021-02-05T00:00:00\", \"2021-02-08T00:00:00\", \"2021-02-09T00:00:00\", \"2021-02-10T00:00:00\", \"2021-02-11T00:00:00\", \"2021-02-12T00:00:00\", \"2021-02-16T00:00:00\", \"2021-02-17T00:00:00\", \"2021-02-18T00:00:00\", \"2021-02-19T00:00:00\", \"2021-02-22T00:00:00\", \"2021-02-23T00:00:00\", \"2021-02-24T00:00:00\", \"2021-02-25T00:00:00\", \"2021-02-26T00:00:00\", \"2021-03-01T00:00:00\", \"2021-03-02T00:00:00\", \"2021-03-03T00:00:00\", \"2021-03-04T00:00:00\", \"2021-03-05T00:00:00\", \"2021-03-08T00:00:00\", \"2021-03-09T00:00:00\", \"2021-03-10T00:00:00\", \"2021-03-11T00:00:00\", \"2021-03-12T00:00:00\", \"2021-03-15T00:00:00\", \"2021-03-16T00:00:00\", \"2021-03-17T00:00:00\", \"2021-03-18T00:00:00\", \"2021-03-19T00:00:00\", \"2021-03-22T00:00:00\", \"2021-03-23T00:00:00\", \"2021-03-24T00:00:00\", \"2021-03-25T00:00:00\", \"2021-03-26T00:00:00\", \"2021-03-29T00:00:00\", \"2021-03-30T00:00:00\", \"2021-03-31T00:00:00\", \"2021-04-01T00:00:00\", \"2021-04-05T00:00:00\", \"2021-04-06T00:00:00\", \"2021-04-07T00:00:00\", \"2021-04-08T00:00:00\", \"2021-04-09T00:00:00\", \"2021-04-12T00:00:00\", \"2021-04-13T00:00:00\", \"2021-04-14T00:00:00\", \"2021-04-15T00:00:00\", \"2021-04-16T00:00:00\", \"2021-04-19T00:00:00\", \"2021-04-20T00:00:00\", \"2021-04-21T00:00:00\", \"2021-04-22T00:00:00\", \"2021-04-23T00:00:00\", \"2021-04-26T00:00:00\", \"2021-04-27T00:00:00\", \"2021-04-28T00:00:00\", \"2021-04-29T00:00:00\", \"2021-04-30T00:00:00\", \"2021-05-03T00:00:00\", \"2021-05-04T00:00:00\", \"2021-05-05T00:00:00\", \"2021-05-06T00:00:00\", \"2021-05-07T00:00:00\", \"2021-05-10T00:00:00\", \"2021-05-11T00:00:00\", \"2021-05-12T00:00:00\", \"2021-05-13T00:00:00\", \"2021-05-14T00:00:00\", \"2021-05-17T00:00:00\", \"2021-05-18T00:00:00\", \"2021-05-19T00:00:00\", \"2021-05-20T00:00:00\", \"2021-05-21T00:00:00\", \"2021-05-24T00:00:00\", \"2021-05-25T00:00:00\", \"2021-05-26T00:00:00\", \"2021-05-27T00:00:00\", \"2021-05-28T00:00:00\", \"2021-06-01T00:00:00\", \"2021-06-02T00:00:00\", \"2021-06-03T00:00:00\", \"2021-06-04T00:00:00\", \"2021-06-07T00:00:00\", \"2021-06-08T00:00:00\", \"2021-06-09T00:00:00\", \"2021-06-10T00:00:00\", \"2021-06-11T00:00:00\", \"2021-06-14T00:00:00\", \"2021-06-15T00:00:00\", \"2021-06-16T00:00:00\", \"2021-06-17T00:00:00\", \"2021-06-18T00:00:00\", \"2021-06-21T00:00:00\", \"2021-06-22T00:00:00\", \"2021-06-23T00:00:00\", \"2021-06-24T00:00:00\", \"2021-06-25T00:00:00\", \"2021-06-28T00:00:00\", \"2021-06-29T00:00:00\", \"2021-06-30T00:00:00\", \"2021-07-01T00:00:00\", \"2021-07-02T00:00:00\", \"2021-07-06T00:00:00\", \"2021-07-07T00:00:00\", \"2021-07-08T00:00:00\", \"2021-07-09T00:00:00\", \"2021-07-12T00:00:00\", \"2021-07-13T00:00:00\", \"2021-07-14T00:00:00\", \"2021-07-15T00:00:00\", \"2021-07-16T00:00:00\", \"2021-07-19T00:00:00\", \"2021-07-20T00:00:00\", \"2021-07-21T00:00:00\", \"2021-07-22T00:00:00\", \"2021-07-23T00:00:00\", \"2021-07-26T00:00:00\", \"2021-07-27T00:00:00\", \"2021-07-28T00:00:00\", \"2021-07-29T00:00:00\", \"2021-07-30T00:00:00\", \"2021-08-02T00:00:00\", \"2021-08-03T00:00:00\", \"2021-08-04T00:00:00\", \"2021-08-05T00:00:00\", \"2021-08-06T00:00:00\", \"2021-08-09T00:00:00\", \"2021-08-10T00:00:00\", \"2021-08-11T00:00:00\", \"2021-08-12T00:00:00\", \"2021-08-13T00:00:00\", \"2021-08-16T00:00:00\", \"2021-08-17T00:00:00\", \"2021-08-18T00:00:00\", \"2021-08-19T00:00:00\", \"2021-08-20T00:00:00\", \"2021-08-23T00:00:00\", \"2021-08-24T00:00:00\", \"2021-08-25T00:00:00\", \"2021-08-26T00:00:00\", \"2021-08-27T00:00:00\", \"2021-08-30T00:00:00\", \"2021-08-31T00:00:00\", \"2021-09-01T00:00:00\", \"2021-09-02T00:00:00\", \"2021-09-03T00:00:00\", \"2021-09-07T00:00:00\", \"2021-09-08T00:00:00\", \"2021-09-09T00:00:00\", \"2021-09-10T00:00:00\", \"2021-09-13T00:00:00\", \"2021-09-14T00:00:00\", \"2021-09-15T00:00:00\", \"2021-09-16T00:00:00\", \"2021-09-17T00:00:00\", \"2021-09-20T00:00:00\", \"2021-09-21T00:00:00\", \"2021-09-22T00:00:00\", \"2021-09-23T00:00:00\", \"2021-09-24T00:00:00\", \"2021-09-27T00:00:00\", \"2021-09-28T00:00:00\", \"2021-09-29T00:00:00\", \"2021-09-30T00:00:00\", \"2021-10-01T00:00:00\", \"2021-10-04T00:00:00\", \"2021-10-05T00:00:00\", \"2021-10-06T00:00:00\", \"2021-10-07T00:00:00\", \"2021-10-08T00:00:00\", \"2021-10-11T00:00:00\", \"2021-10-12T00:00:00\", \"2021-10-13T00:00:00\", \"2021-10-14T00:00:00\", \"2021-10-15T00:00:00\", \"2021-10-18T00:00:00\", \"2021-10-19T00:00:00\", \"2021-10-20T00:00:00\", \"2021-10-21T00:00:00\", \"2021-10-22T00:00:00\", \"2021-10-25T00:00:00\", \"2021-10-26T00:00:00\", \"2021-10-27T00:00:00\", \"2021-10-28T00:00:00\", \"2021-10-29T00:00:00\", \"2021-11-01T00:00:00\", \"2021-11-02T00:00:00\", \"2021-11-03T00:00:00\", \"2021-11-04T00:00:00\", \"2021-11-05T00:00:00\", \"2021-11-08T00:00:00\", \"2021-11-09T00:00:00\", \"2021-11-10T00:00:00\", \"2021-11-11T00:00:00\", \"2021-11-12T00:00:00\", \"2021-11-15T00:00:00\", \"2021-11-16T00:00:00\", \"2021-11-17T00:00:00\", \"2021-11-18T00:00:00\", \"2021-11-19T00:00:00\", \"2021-11-22T00:00:00\", \"2021-11-23T00:00:00\", \"2021-11-24T00:00:00\", \"2021-11-26T00:00:00\", \"2021-11-29T00:00:00\", \"2021-11-30T00:00:00\", \"2021-12-01T00:00:00\", \"2021-12-02T00:00:00\", \"2021-12-03T00:00:00\", \"2021-12-06T00:00:00\", \"2021-12-07T00:00:00\", \"2021-12-08T00:00:00\", \"2021-12-09T00:00:00\", \"2021-12-10T00:00:00\", \"2021-12-13T00:00:00\", \"2021-12-14T00:00:00\", \"2021-12-15T00:00:00\", \"2021-12-16T00:00:00\", \"2021-12-17T00:00:00\", \"2021-12-20T00:00:00\", \"2021-12-21T00:00:00\", \"2021-12-22T00:00:00\", \"2021-12-23T00:00:00\", \"2021-12-27T00:00:00\", \"2021-12-28T00:00:00\", \"2021-12-29T00:00:00\", \"2021-12-30T00:00:00\", \"2021-12-31T00:00:00\", \"2022-01-03T00:00:00\", \"2022-01-04T00:00:00\", \"2022-01-05T00:00:00\", \"2022-01-06T00:00:00\", \"2022-01-07T00:00:00\", \"2022-01-10T00:00:00\"], \"xaxis\": \"x\", \"y\": [null, null, null, null, null, null, null, null, null, null, null, null, null, null, null, null, null, null, null, null, null, null, null, null, null, null, null, null, null, null, null, null, null, null, null, null, null, null, null, null, null, null, null, null, null, null, null, null, null, null, null, null, null, null, null, null, null, null, null, null, null, null, null, null, null, null, null, null, null, null, null, null, null, null, null, null, null, null, null, null, null, null, null, null, null, null, null, null, null, null, null, null, null, null, null, null, null, null, null, null, null, null, null, null, null, null, null, null, null, null, null, null, null, null, null, null, null, null, null, null, null, null, null, null, null, null, null, null, null, null, null, null, null, null, null, null, null, null, null, null, null, null, null, null, null, null, null, null, null, null, null, null, null, null, null, null, null, null, null, null, null, null, null, null, null, null, null, null, null, null, null, null, null, null, null, null, null, null, null, null, null, null, null, null, null, null, null, null, null, null, null, null, null, null, null, null, null, null, null, 112.8023999786377, 112.98309997558594, 113.14419998168945, 113.25274997711182, 113.37444999694824, 113.47615001678467, 113.52500003814697, 113.52975002288818, 113.53870002746582, 113.59345005035401, 113.67145008087158, 113.77035007476806, 113.87135005950928, 113.98490005493164, 114.05825004577636, 114.10515003204345, 114.1533500289917, 114.2596000289917, 114.33465003967285, 114.42270004272461, 114.49155002593994, 114.57450004577636, 114.67930004119873, 114.77855003356933, 114.87480003356933, 114.90575004577637, 115.02610004425048, 115.15975006103515, 115.2841000366211, 115.39625003814697, 115.455950050354, 115.57115005493164, 115.6825500869751, 115.80640007019043, 115.90060009002686, 115.97235008239745, 116.00045009613036, 116.08650009155274, 116.20575008392333, 116.30955005645752, 116.43460006713867, 116.49325008392334, 116.60140007019044, 116.6792000579834, 116.78545001983643, 116.8720000076294, 116.92869998931884, 116.957200050354, 116.96785007476807, 116.93920001983642, 116.86125003814698, 116.77355007171631, 116.72085010528565, 116.65340007781982, 116.58005008697509, 116.49290004730224, 116.41905002593994, 116.29540004730225, 116.22455005645752, 116.0695500946045, 115.93620010375976, 115.83385009765625, 115.7420500946045, 115.60785007476807, 115.49175006866454, 115.35480007171631, 115.20830013275146, 115.02795017242431, 114.86670017242432, 114.7383002090454, 114.64490016937256, 114.59575023651124, 114.52665019989014, 114.48930019378662, 114.50745021820069, 114.47550022125245, 114.5210502243042, 114.54745021820068, 114.5464002609253, 114.57695026397705, 114.56240024566651, 114.54710025787354, 114.55160022735596, 114.5520502090454, 114.54700023651122, 114.54875026702881, 114.57225025177001, 114.56190029144287, 114.61975032806396, 114.73065036773681, 114.83360034942626, 114.97335041046142, 115.20750034332275, 115.43060039520263, 115.67065036773681, 115.88800037384033, 116.1445503616333, 116.45010036468506, 116.71165035247803, 116.95200038909913, 117.2228003692627, 117.4953003692627, 117.71660037994384, 117.95150035858154, 118.10240032196045, 118.272250289917, 118.39965030670166, 118.56020034790039, 118.77465034484864, 118.99170036315918, 119.16895034790039, 119.32815036773681, 119.48425037384033, 119.64375038146973, 119.83345039367676, 120.02420043945312, 120.24715045928956, 120.46985042572021, 120.70880039215088, 120.93380039215089, 121.12865043640137, 121.34020042419434, 121.50945045471191, 121.68775047302246, 121.87245044708251, 122.07905048370361, 122.26965045928955, 122.41660045623779, 122.53570045471191, 122.67090045928956, 122.81840045928955, 122.97075046539307], \"yaxis\": \"y\"}, {\"line\": {\"color\": \"black\", \"width\": 2}, \"name\": \"MA 300\", \"type\": \"scatter\", \"x\": [\"2020-09-18T00:00:00\", \"2020-09-21T00:00:00\", \"2020-09-22T00:00:00\", \"2020-09-23T00:00:00\", \"2020-09-24T00:00:00\", \"2020-09-25T00:00:00\", \"2020-09-28T00:00:00\", \"2020-09-29T00:00:00\", \"2020-09-30T00:00:00\", \"2020-10-01T00:00:00\", \"2020-10-02T00:00:00\", \"2020-10-05T00:00:00\", \"2020-10-06T00:00:00\", \"2020-10-07T00:00:00\", \"2020-10-08T00:00:00\", \"2020-10-09T00:00:00\", \"2020-10-12T00:00:00\", \"2020-10-13T00:00:00\", \"2020-10-14T00:00:00\", \"2020-10-15T00:00:00\", \"2020-10-16T00:00:00\", \"2020-10-19T00:00:00\", \"2020-10-20T00:00:00\", \"2020-10-21T00:00:00\", \"2020-10-22T00:00:00\", \"2020-10-23T00:00:00\", \"2020-10-26T00:00:00\", \"2020-10-27T00:00:00\", \"2020-10-28T00:00:00\", \"2020-10-29T00:00:00\", \"2020-10-30T00:00:00\", \"2020-11-02T00:00:00\", \"2020-11-03T00:00:00\", \"2020-11-04T00:00:00\", \"2020-11-05T00:00:00\", \"2020-11-06T00:00:00\", \"2020-11-09T00:00:00\", \"2020-11-10T00:00:00\", \"2020-11-11T00:00:00\", \"2020-11-12T00:00:00\", \"2020-11-13T00:00:00\", \"2020-11-16T00:00:00\", \"2020-11-17T00:00:00\", \"2020-11-18T00:00:00\", \"2020-11-19T00:00:00\", \"2020-11-20T00:00:00\", \"2020-11-23T00:00:00\", \"2020-11-24T00:00:00\", \"2020-11-25T00:00:00\", \"2020-11-27T00:00:00\", \"2020-11-30T00:00:00\", \"2020-12-01T00:00:00\", \"2020-12-02T00:00:00\", \"2020-12-03T00:00:00\", \"2020-12-04T00:00:00\", \"2020-12-07T00:00:00\", \"2020-12-08T00:00:00\", \"2020-12-09T00:00:00\", \"2020-12-10T00:00:00\", \"2020-12-11T00:00:00\", \"2020-12-14T00:00:00\", \"2020-12-15T00:00:00\", \"2020-12-16T00:00:00\", \"2020-12-17T00:00:00\", \"2020-12-18T00:00:00\", \"2020-12-21T00:00:00\", \"2020-12-22T00:00:00\", \"2020-12-23T00:00:00\", \"2020-12-24T00:00:00\", \"2020-12-28T00:00:00\", \"2020-12-29T00:00:00\", \"2020-12-30T00:00:00\", \"2020-12-31T00:00:00\", \"2021-01-04T00:00:00\", \"2021-01-05T00:00:00\", \"2021-01-06T00:00:00\", \"2021-01-07T00:00:00\", \"2021-01-08T00:00:00\", \"2021-01-11T00:00:00\", \"2021-01-12T00:00:00\", \"2021-01-13T00:00:00\", \"2021-01-14T00:00:00\", \"2021-01-15T00:00:00\", \"2021-01-19T00:00:00\", \"2021-01-20T00:00:00\", \"2021-01-21T00:00:00\", \"2021-01-22T00:00:00\", \"2021-01-25T00:00:00\", \"2021-01-26T00:00:00\", \"2021-01-27T00:00:00\", \"2021-01-28T00:00:00\", \"2021-01-29T00:00:00\", \"2021-02-01T00:00:00\", \"2021-02-02T00:00:00\", \"2021-02-03T00:00:00\", \"2021-02-04T00:00:00\", \"2021-02-05T00:00:00\", \"2021-02-08T00:00:00\", \"2021-02-09T00:00:00\", \"2021-02-10T00:00:00\", \"2021-02-11T00:00:00\", \"2021-02-12T00:00:00\", \"2021-02-16T00:00:00\", \"2021-02-17T00:00:00\", \"2021-02-18T00:00:00\", \"2021-02-19T00:00:00\", \"2021-02-22T00:00:00\", \"2021-02-23T00:00:00\", \"2021-02-24T00:00:00\", \"2021-02-25T00:00:00\", \"2021-02-26T00:00:00\", \"2021-03-01T00:00:00\", \"2021-03-02T00:00:00\", \"2021-03-03T00:00:00\", \"2021-03-04T00:00:00\", \"2021-03-05T00:00:00\", \"2021-03-08T00:00:00\", \"2021-03-09T00:00:00\", \"2021-03-10T00:00:00\", \"2021-03-11T00:00:00\", \"2021-03-12T00:00:00\", \"2021-03-15T00:00:00\", \"2021-03-16T00:00:00\", \"2021-03-17T00:00:00\", \"2021-03-18T00:00:00\", \"2021-03-19T00:00:00\", \"2021-03-22T00:00:00\", \"2021-03-23T00:00:00\", \"2021-03-24T00:00:00\", \"2021-03-25T00:00:00\", \"2021-03-26T00:00:00\", \"2021-03-29T00:00:00\", \"2021-03-30T00:00:00\", \"2021-03-31T00:00:00\", \"2021-04-01T00:00:00\", \"2021-04-05T00:00:00\", \"2021-04-06T00:00:00\", \"2021-04-07T00:00:00\", \"2021-04-08T00:00:00\", \"2021-04-09T00:00:00\", \"2021-04-12T00:00:00\", \"2021-04-13T00:00:00\", \"2021-04-14T00:00:00\", \"2021-04-15T00:00:00\", \"2021-04-16T00:00:00\", \"2021-04-19T00:00:00\", \"2021-04-20T00:00:00\", \"2021-04-21T00:00:00\", \"2021-04-22T00:00:00\", \"2021-04-23T00:00:00\", \"2021-04-26T00:00:00\", \"2021-04-27T00:00:00\", \"2021-04-28T00:00:00\", \"2021-04-29T00:00:00\", \"2021-04-30T00:00:00\", \"2021-05-03T00:00:00\", \"2021-05-04T00:00:00\", \"2021-05-05T00:00:00\", \"2021-05-06T00:00:00\", \"2021-05-07T00:00:00\", \"2021-05-10T00:00:00\", \"2021-05-11T00:00:00\", \"2021-05-12T00:00:00\", \"2021-05-13T00:00:00\", \"2021-05-14T00:00:00\", \"2021-05-17T00:00:00\", \"2021-05-18T00:00:00\", \"2021-05-19T00:00:00\", \"2021-05-20T00:00:00\", \"2021-05-21T00:00:00\", \"2021-05-24T00:00:00\", \"2021-05-25T00:00:00\", \"2021-05-26T00:00:00\", \"2021-05-27T00:00:00\", \"2021-05-28T00:00:00\", \"2021-06-01T00:00:00\", \"2021-06-02T00:00:00\", \"2021-06-03T00:00:00\", \"2021-06-04T00:00:00\", \"2021-06-07T00:00:00\", \"2021-06-08T00:00:00\", \"2021-06-09T00:00:00\", \"2021-06-10T00:00:00\", \"2021-06-11T00:00:00\", \"2021-06-14T00:00:00\", \"2021-06-15T00:00:00\", \"2021-06-16T00:00:00\", \"2021-06-17T00:00:00\", \"2021-06-18T00:00:00\", \"2021-06-21T00:00:00\", \"2021-06-22T00:00:00\", \"2021-06-23T00:00:00\", \"2021-06-24T00:00:00\", \"2021-06-25T00:00:00\", \"2021-06-28T00:00:00\", \"2021-06-29T00:00:00\", \"2021-06-30T00:00:00\", \"2021-07-01T00:00:00\", \"2021-07-02T00:00:00\", \"2021-07-06T00:00:00\", \"2021-07-07T00:00:00\", \"2021-07-08T00:00:00\", \"2021-07-09T00:00:00\", \"2021-07-12T00:00:00\", \"2021-07-13T00:00:00\", \"2021-07-14T00:00:00\", \"2021-07-15T00:00:00\", \"2021-07-16T00:00:00\", \"2021-07-19T00:00:00\", \"2021-07-20T00:00:00\", \"2021-07-21T00:00:00\", \"2021-07-22T00:00:00\", \"2021-07-23T00:00:00\", \"2021-07-26T00:00:00\", \"2021-07-27T00:00:00\", \"2021-07-28T00:00:00\", \"2021-07-29T00:00:00\", \"2021-07-30T00:00:00\", \"2021-08-02T00:00:00\", \"2021-08-03T00:00:00\", \"2021-08-04T00:00:00\", \"2021-08-05T00:00:00\", \"2021-08-06T00:00:00\", \"2021-08-09T00:00:00\", \"2021-08-10T00:00:00\", \"2021-08-11T00:00:00\", \"2021-08-12T00:00:00\", \"2021-08-13T00:00:00\", \"2021-08-16T00:00:00\", \"2021-08-17T00:00:00\", \"2021-08-18T00:00:00\", \"2021-08-19T00:00:00\", \"2021-08-20T00:00:00\", \"2021-08-23T00:00:00\", \"2021-08-24T00:00:00\", \"2021-08-25T00:00:00\", \"2021-08-26T00:00:00\", \"2021-08-27T00:00:00\", \"2021-08-30T00:00:00\", \"2021-08-31T00:00:00\", \"2021-09-01T00:00:00\", \"2021-09-02T00:00:00\", \"2021-09-03T00:00:00\", \"2021-09-07T00:00:00\", \"2021-09-08T00:00:00\", \"2021-09-09T00:00:00\", \"2021-09-10T00:00:00\", \"2021-09-13T00:00:00\", \"2021-09-14T00:00:00\", \"2021-09-15T00:00:00\", \"2021-09-16T00:00:00\", \"2021-09-17T00:00:00\", \"2021-09-20T00:00:00\", \"2021-09-21T00:00:00\", \"2021-09-22T00:00:00\", \"2021-09-23T00:00:00\", \"2021-09-24T00:00:00\", \"2021-09-27T00:00:00\", \"2021-09-28T00:00:00\", \"2021-09-29T00:00:00\", \"2021-09-30T00:00:00\", \"2021-10-01T00:00:00\", \"2021-10-04T00:00:00\", \"2021-10-05T00:00:00\", \"2021-10-06T00:00:00\", \"2021-10-07T00:00:00\", \"2021-10-08T00:00:00\", \"2021-10-11T00:00:00\", \"2021-10-12T00:00:00\", \"2021-10-13T00:00:00\", \"2021-10-14T00:00:00\", \"2021-10-15T00:00:00\", \"2021-10-18T00:00:00\", \"2021-10-19T00:00:00\", \"2021-10-20T00:00:00\", \"2021-10-21T00:00:00\", \"2021-10-22T00:00:00\", \"2021-10-25T00:00:00\", \"2021-10-26T00:00:00\", \"2021-10-27T00:00:00\", \"2021-10-28T00:00:00\", \"2021-10-29T00:00:00\", \"2021-11-01T00:00:00\", \"2021-11-02T00:00:00\", \"2021-11-03T00:00:00\", \"2021-11-04T00:00:00\", \"2021-11-05T00:00:00\", \"2021-11-08T00:00:00\", \"2021-11-09T00:00:00\", \"2021-11-10T00:00:00\", \"2021-11-11T00:00:00\", \"2021-11-12T00:00:00\", \"2021-11-15T00:00:00\", \"2021-11-16T00:00:00\", \"2021-11-17T00:00:00\", \"2021-11-18T00:00:00\", \"2021-11-19T00:00:00\", \"2021-11-22T00:00:00\", \"2021-11-23T00:00:00\", \"2021-11-24T00:00:00\", \"2021-11-26T00:00:00\", \"2021-11-29T00:00:00\", \"2021-11-30T00:00:00\", \"2021-12-01T00:00:00\", \"2021-12-02T00:00:00\", \"2021-12-03T00:00:00\", \"2021-12-06T00:00:00\", \"2021-12-07T00:00:00\", \"2021-12-08T00:00:00\", \"2021-12-09T00:00:00\", \"2021-12-10T00:00:00\", \"2021-12-13T00:00:00\", \"2021-12-14T00:00:00\", \"2021-12-15T00:00:00\", \"2021-12-16T00:00:00\", \"2021-12-17T00:00:00\", \"2021-12-20T00:00:00\", \"2021-12-21T00:00:00\", \"2021-12-22T00:00:00\", \"2021-12-23T00:00:00\", \"2021-12-27T00:00:00\", \"2021-12-28T00:00:00\", \"2021-12-29T00:00:00\", \"2021-12-30T00:00:00\", \"2021-12-31T00:00:00\", \"2022-01-03T00:00:00\", \"2022-01-04T00:00:00\", \"2022-01-05T00:00:00\", \"2022-01-06T00:00:00\", \"2022-01-07T00:00:00\", \"2022-01-10T00:00:00\"], \"xaxis\": \"x\", \"y\": [null, null, null, null, null, null, null, null, null, null, null, null, null, null, null, null, null, null, null, null, null, null, null, null, null, null, null, null, null, null, null, null, null, null, null, null, null, null, null, null, null, null, null, null, null, null, null, null, null, null, null, null, null, null, null, null, null, null, null, null, null, null, null, null, null, null, null, null, null, null, null, null, null, null, null, null, null, null, null, null, null, null, null, null, null, null, null, null, null, null, null, null, null, null, null, null, null, null, null, null, null, null, null, null, null, null, null, null, null, null, null, null, null, null, null, null, null, null, null, null, null, null, null, null, null, null, null, null, null, null, null, null, null, null, null, null, null, null, null, null, null, null, null, null, null, null, null, null, null, null, null, null, null, null, null, null, null, null, null, null, null, null, null, null, null, null, null, null, null, null, null, null, null, null, null, null, null, null, null, null, null, null, null, null, null, null, null, null, null, null, null, null, null, null, null, null, null, null, null, 112.8023999786377, 112.98309997558594, 113.14419998168945, 113.25274997711182, 113.37444999694824, 113.47615001678467, 113.52500003814697, 113.52975002288818, 113.53870002746582, 113.59345005035401, 113.67145008087158, 113.77035007476806, 113.87135005950928, 113.98490005493164, 114.05825004577636, 114.10515003204345, 114.1533500289917, 114.2596000289917, 114.33465003967285, 114.42270004272461, 114.49155002593994, 114.57450004577636, 114.67930004119873, 114.77855003356933, 114.87480003356933, 114.90575004577637, 115.02610004425048, 115.15975006103515, 115.2841000366211, 115.39625003814697, 115.455950050354, 115.57115005493164, 115.6825500869751, 115.80640007019043, 115.90060009002686, 115.97235008239745, 116.00045009613036, 116.08650009155274, 116.20575008392333, 116.30955005645752, 116.43460006713867, 116.49325008392334, 116.60140007019044, 116.6792000579834, 116.78545001983643, 116.8720000076294, 116.92869998931884, 116.957200050354, 116.96785007476807, 116.93920001983642, 116.86125003814698, 116.77355007171631, 116.72085010528565, 116.65340007781982, 116.58005008697509, 116.49290004730224, 116.41905002593994, 116.29540004730225, 116.22455005645752, 116.0695500946045, 115.93620010375976, 115.83385009765625, 115.7420500946045, 115.60785007476807, 115.49175006866454, 115.35480007171631, 115.20830013275146, 115.02795017242431, 114.86670017242432, 114.7383002090454, 114.64490016937256, 114.59575023651124, 114.52665019989014, 114.48930019378662, 114.50745021820069, 114.47550022125245, 114.5210502243042, 114.54745021820068, 114.5464002609253, 114.57695026397705, 114.56240024566651, 114.54710025787354, 114.55160022735596, 114.5520502090454, 114.54700023651122, 114.54875026702881, 114.57225025177001, 114.56190029144287, 114.61975032806396, 114.73065036773681, 114.83360034942626, 114.97335041046142, 115.20750034332275, 115.43060039520263, 115.67065036773681, 115.88800037384033, 116.1445503616333, 116.45010036468506, 116.71165035247803, 116.95200038909913, 117.2228003692627, 117.4953003692627, 117.71660037994384, 117.95150035858154, 118.10240032196045, 118.272250289917, 118.39965030670166, 118.56020034790039, 118.77465034484864, 118.99170036315918, 119.16895034790039, 119.32815036773681, 119.48425037384033, 119.64375038146973, 119.83345039367676, 120.02420043945312, 120.24715045928956, 120.46985042572021, 120.70880039215088, 120.93380039215089, 121.12865043640137, 121.34020042419434, 121.50945045471191, 121.68775047302246, 121.87245044708251, 122.07905048370361, 122.26965045928955, 122.41660045623779, 122.53570045471191, 122.67090045928956, 122.81840045928955, 122.97075046539307], \"yaxis\": \"y\"}, {\"line\": {\"color\": \"rgba(100, 10, 100, 0.2)\", \"dash\": \"dash\", \"shape\": \"linear\", \"width\": 1}, \"mode\": \"lines+text\", \"name\": \"Lines and Text\", \"showlegend\": false, \"text\": [\"\", \"$210.0 (0% disc:0%)\", \"\"], \"textposition\": \"top right\", \"type\": \"scatter\", \"x\": [\"2020-09-18T00:00:00\", \"2022-01-10T00:00:00\"], \"xaxis\": \"x\", \"y\": [210.0, 210.0], \"yaxis\": \"y\"}, {\"line\": {\"color\": \"rgba(100, 10, 100, 0.2)\", \"dash\": \"dash\", \"shape\": \"linear\", \"width\": 1}, \"mode\": \"lines+text\", \"name\": \"Lines and Text\", \"showlegend\": false, \"text\": [\"\", \"$201.1 (4.4% disc:4.4%)\", \"\"], \"textposition\": \"top right\", \"type\": \"scatter\", \"x\": [\"2020-09-18T00:00:00\", \"2022-01-10T00:00:00\"], \"xaxis\": \"x\", \"y\": [201.1, 201.1], \"yaxis\": \"y\"}, {\"line\": {\"color\": \"rgba(100, 10, 100, 0.2)\", \"dash\": \"dash\", \"shape\": \"linear\", \"width\": 1}, \"mode\": \"lines+text\", \"name\": \"Lines and Text\", \"showlegend\": false, \"text\": [\"\", \"$170.6 (17.9% disc:23.1%)\", \"\"], \"textposition\": \"top right\", \"type\": \"scatter\", \"x\": [\"2020-09-18T00:00:00\", \"2022-01-10T00:00:00\"], \"xaxis\": \"x\", \"y\": [170.5500030517578, 170.5500030517578], \"yaxis\": \"y\"}, {\"line\": {\"color\": \"rgba(100, 10, 100, 0.2)\", \"dash\": \"dash\", \"shape\": \"linear\", \"width\": 1}, \"mode\": \"lines+text\", \"name\": \"Lines and Text\", \"showlegend\": false, \"text\": [\"\", \"$158.6 (7.5% disc:32.4%)\", \"\"], \"textposition\": \"top right\", \"type\": \"scatter\", \"x\": [\"2020-09-18T00:00:00\", \"2022-01-10T00:00:00\"], \"xaxis\": \"x\", \"y\": [158.60000610351562, 158.60000610351562], \"yaxis\": \"y\"}, {\"line\": {\"color\": \"rgba(200, 20, 200, 1)\", \"dash\": \"dash\", \"shape\": \"linear\", \"width\": 1}, \"mode\": \"lines+text\", \"name\": \"Lines and Text\", \"showlegend\": false, \"text\": [\"\", \"$142.3 (11.4% disc:47.5%)\", \"\"], \"textposition\": \"top right\", \"type\": \"scatter\", \"x\": [\"2020-09-18T00:00:00\", \"2022-01-10T00:00:00\"], \"xaxis\": \"x\", \"y\": [142.3300018310547, 142.3300018310547], \"yaxis\": \"y\"}, {\"line\": {\"color\": \"rgba(200, 20, 200, 1)\", \"dash\": \"dash\", \"shape\": \"linear\", \"width\": 1}, \"mode\": \"lines+text\", \"name\": \"Lines and Text\", \"showlegend\": false, \"text\": [\"\", \"$129.0 (10.3% disc:62.8%)\", \"\"], \"textposition\": \"top right\", \"type\": \"scatter\", \"x\": [\"2020-09-18T00:00:00\", \"2022-01-10T00:00:00\"], \"xaxis\": \"x\", \"y\": [129.0, 129.0], \"yaxis\": \"y\"}, {\"line\": {\"color\": \"rgba(200, 20, 200, 1)\", \"dash\": \"dash\", \"shape\": \"linear\", \"width\": 1}, \"mode\": \"lines+text\", \"name\": \"Lines and Text\", \"showlegend\": false, \"text\": [\"\", \"$119.9 (7.6% disc:75.2%)\", \"\"], \"textposition\": \"top right\", \"type\": \"scatter\", \"x\": [\"2020-09-18T00:00:00\", \"2022-01-10T00:00:00\"], \"xaxis\": \"x\", \"y\": [119.87999725341797, 119.87999725341797], \"yaxis\": \"y\"}, {\"line\": {\"color\": \"rgba(200, 20, 200, 1)\", \"dash\": \"dash\", \"shape\": \"linear\", \"width\": 1}, \"mode\": \"lines+text\", \"name\": \"Lines and Text\", \"showlegend\": false, \"text\": [\"\", \"$111.7 (7.3% disc:87.9%)\", \"\"], \"textposition\": \"top right\", \"type\": \"scatter\", \"x\": [\"2020-09-18T00:00:00\", \"2022-01-10T00:00:00\"], \"xaxis\": \"x\", \"y\": [111.73999786376953, 111.73999786376953], \"yaxis\": \"y\"}, {\"line\": {\"color\": \"rgba(200, 20, 200, 1)\", \"dash\": \"dash\", \"shape\": \"linear\", \"width\": 1}, \"mode\": \"lines+text\", \"name\": \"Lines and Text\", \"showlegend\": false, \"text\": [\"\", \"$102.6 (8.9% disc:104.6%)\", \"\"], \"textposition\": \"top right\", \"type\": \"scatter\", \"x\": [\"2020-09-18T00:00:00\", \"2022-01-10T00:00:00\"], \"xaxis\": \"x\", \"y\": [102.62999725341797, 102.62999725341797], \"yaxis\": \"y\"}, {\"line\": {\"color\": \"rgba(100, 10, 100, 0.2)\", \"dash\": \"dash\", \"shape\": \"linear\", \"width\": 1}, \"mode\": \"lines+text\", \"name\": \"Lines and Text\", \"showlegend\": false, \"text\": [\"\", \"$94.3 (8.9% disc:122.8%)\", \"\"], \"textposition\": \"top right\", \"type\": \"scatter\", \"x\": [\"2020-09-18T00:00:00\", \"2022-01-10T00:00:00\"], \"xaxis\": \"x\", \"y\": [94.26000213623047, 94.26000213623047], \"yaxis\": \"y\"}, {\"line\": {\"color\": \"rgba(100, 10, 100, 0.2)\", \"dash\": \"dash\", \"shape\": \"linear\", \"width\": 1}, \"mode\": \"lines+text\", \"name\": \"Lines and Text\", \"showlegend\": false, \"text\": [\"\", \"$81.6 (15.6% disc:157.5%)\", \"\"], \"textposition\": \"top right\", \"type\": \"scatter\", \"x\": [\"2020-09-18T00:00:00\", \"2022-01-10T00:00:00\"], \"xaxis\": \"x\", \"y\": [81.55000305175781, 81.55000305175781], \"yaxis\": \"y\"}, {\"line\": {\"color\": \"rgba(100, 10, 100, 0.2)\", \"dash\": \"dash\", \"shape\": \"linear\", \"width\": 1}, \"mode\": \"lines+text\", \"name\": \"Lines and Text\", \"showlegend\": false, \"text\": [\"\", \"$0 (inf% disc:inf%)\", \"\"], \"textposition\": \"top right\", \"type\": \"scatter\", \"x\": [\"2020-09-18T00:00:00\", \"2022-01-10T00:00:00\"], \"xaxis\": \"x\", \"y\": [0, 0], \"yaxis\": \"y\"}, {\"marker\": {\"color\": [\"green\", \"red\", \"red\", \"green\", \"red\", \"red\", \"red\", \"green\", \"green\", \"green\", \"red\", \"green\", \"green\", \"red\", \"red\", \"red\", \"green\", \"green\", \"green\", \"red\", \"red\", \"green\", \"green\", \"red\", \"red\", \"green\", \"red\", \"red\", \"green\", \"red\", \"green\", \"green\", \"red\", \"red\", \"red\", \"red\", \"green\", \"green\", \"red\", \"green\", \"red\", \"red\", \"red\", \"green\", \"red\", \"red\", \"red\", \"green\", \"red\", \"red\", \"red\", \"green\", \"green\", \"red\", \"red\", \"red\", \"red\", \"green\", \"red\", \"green\", \"green\", \"green\", \"red\", \"green\", \"red\", \"red\", \"red\", \"green\", \"green\", \"green\", \"green\", \"red\", \"green\", \"green\", \"red\", \"green\", \"red\", \"red\", \"green\", \"red\", \"red\", \"green\", \"green\", \"green\", \"red\", \"red\", \"red\", \"green\", \"green\", \"red\", \"green\", \"green\", \"green\", \"green\", \"green\", \"red\", \"green\", \"green\", \"red\", \"green\", \"green\", \"red\", \"green\", \"green\", \"green\", \"red\", \"green\", \"red\", \"green\", \"green\", \"red\", \"green\", \"green\", \"green\", \"green\", \"green\", \"green\", \"green\", \"green\", \"red\", \"red\", \"red\", \"green\", \"red\", \"green\", \"green\", \"green\", \"green\", \"green\", \"red\", \"red\", \"green\", \"red\", \"red\", \"green\", \"green\", \"red\", \"green\", \"green\", \"green\", \"red\", \"red\", \"green\", \"green\", \"green\", \"green\", \"green\", \"red\", \"green\", \"red\", \"red\", \"green\", \"red\", \"green\", \"red\", \"green\", \"green\", \"green\", \"green\", \"green\", \"green\", \"red\", \"green\", \"green\", \"red\", \"red\", \"red\", \"red\", \"red\", \"red\", \"red\", \"green\", \"red\", \"green\", \"green\", \"green\", \"green\", \"green\", \"red\", \"red\", \"green\", \"green\", \"red\", \"green\", \"red\", \"green\", \"green\", \"red\", \"red\", \"red\", \"red\", \"red\", \"red\", \"green\", \"green\", \"green\", \"red\", \"green\", \"red\", \"red\", \"green\", \"red\", \"red\", \"green\", \"green\", \"green\", \"green\", \"green\", \"red\", \"red\", \"red\", \"red\", \"red\", \"green\", \"green\", \"red\", \"red\", \"green\", \"red\", \"green\", \"red\", \"red\", \"green\", \"red\", \"green\", \"red\", \"red\", \"red\", \"green\", \"red\", \"green\", \"red\", \"red\", \"red\", \"green\", \"green\", \"green\", \"red\", \"red\", \"green\", \"red\", \"red\", \"red\", \"red\", \"green\", \"red\", \"green\", \"green\", \"red\", \"red\", \"red\", \"red\", \"green\", \"red\", \"red\", \"red\", \"red\", \"green\", \"green\", \"green\", \"red\", \"red\", \"green\", \"red\", \"red\", \"red\", \"green\", \"red\", \"red\", \"green\", \"red\", \"green\", \"red\", \"red\", \"green\", \"red\", \"green\", \"red\", \"green\", \"green\", \"red\", \"red\", \"green\", \"green\", \"red\", \"red\", \"green\", \"red\", \"red\", \"red\", \"red\", \"red\", \"green\", \"red\", \"green\", \"red\", \"green\", \"green\", \"red\", \"red\", \"green\", \"green\", \"red\", \"green\", \"green\", \"green\", \"red\", \"green\", \"red\", \"green\", \"green\", \"red\", \"red\", \"red\", \"green\", \"red\", \"red\", \"red\", \"green\", \"red\", \"red\", \"green\", \"red\", \"red\", \"green\", \"green\", \"green\", \"green\", \"red\", \"red\", \"red\"]}, \"name\": \"Volume\", \"type\": \"bar\", \"x\": [\"2020-09-18T00:00:00\", \"2020-09-21T00:00:00\", \"2020-09-22T00:00:00\", \"2020-09-23T00:00:00\", \"2020-09-24T00:00:00\", \"2020-09-25T00:00:00\", \"2020-09-28T00:00:00\", \"2020-09-29T00:00:00\", \"2020-09-30T00:00:00\", \"2020-10-01T00:00:00\", \"2020-10-02T00:00:00\", \"2020-10-05T00:00:00\", \"2020-10-06T00:00:00\", \"2020-10-07T00:00:00\", \"2020-10-08T00:00:00\", \"2020-10-09T00:00:00\", \"2020-10-12T00:00:00\", \"2020-10-13T00:00:00\", \"2020-10-14T00:00:00\", \"2020-10-15T00:00:00\", \"2020-10-16T00:00:00\", \"2020-10-19T00:00:00\", \"2020-10-20T00:00:00\", \"2020-10-21T00:00:00\", \"2020-10-22T00:00:00\", \"2020-10-23T00:00:00\", \"2020-10-26T00:00:00\", \"2020-10-27T00:00:00\", \"2020-10-28T00:00:00\", \"2020-10-29T00:00:00\", \"2020-10-30T00:00:00\", \"2020-11-02T00:00:00\", \"2020-11-03T00:00:00\", \"2020-11-04T00:00:00\", \"2020-11-05T00:00:00\", \"2020-11-06T00:00:00\", \"2020-11-09T00:00:00\", \"2020-11-10T00:00:00\", \"2020-11-11T00:00:00\", \"2020-11-12T00:00:00\", \"2020-11-13T00:00:00\", \"2020-11-16T00:00:00\", \"2020-11-17T00:00:00\", \"2020-11-18T00:00:00\", \"2020-11-19T00:00:00\", \"2020-11-20T00:00:00\", \"2020-11-23T00:00:00\", \"2020-11-24T00:00:00\", \"2020-11-25T00:00:00\", \"2020-11-27T00:00:00\", \"2020-11-30T00:00:00\", \"2020-12-01T00:00:00\", \"2020-12-02T00:00:00\", \"2020-12-03T00:00:00\", \"2020-12-04T00:00:00\", \"2020-12-07T00:00:00\", \"2020-12-08T00:00:00\", \"2020-12-09T00:00:00\", \"2020-12-10T00:00:00\", \"2020-12-11T00:00:00\", \"2020-12-14T00:00:00\", \"2020-12-15T00:00:00\", \"2020-12-16T00:00:00\", \"2020-12-17T00:00:00\", \"2020-12-18T00:00:00\", \"2020-12-21T00:00:00\", \"2020-12-22T00:00:00\", \"2020-12-23T00:00:00\", \"2020-12-24T00:00:00\", \"2020-12-28T00:00:00\", \"2020-12-29T00:00:00\", \"2020-12-30T00:00:00\", \"2020-12-31T00:00:00\", \"2021-01-04T00:00:00\", \"2021-01-05T00:00:00\", \"2021-01-06T00:00:00\", \"2021-01-07T00:00:00\", \"2021-01-08T00:00:00\", \"2021-01-11T00:00:00\", \"2021-01-12T00:00:00\", \"2021-01-13T00:00:00\", \"2021-01-14T00:00:00\", \"2021-01-15T00:00:00\", \"2021-01-19T00:00:00\", \"2021-01-20T00:00:00\", \"2021-01-21T00:00:00\", \"2021-01-22T00:00:00\", \"2021-01-25T00:00:00\", \"2021-01-26T00:00:00\", \"2021-01-27T00:00:00\", \"2021-01-28T00:00:00\", \"2021-01-29T00:00:00\", \"2021-02-01T00:00:00\", \"2021-02-02T00:00:00\", \"2021-02-03T00:00:00\", \"2021-02-04T00:00:00\", \"2021-02-05T00:00:00\", \"2021-02-08T00:00:00\", \"2021-02-09T00:00:00\", \"2021-02-10T00:00:00\", \"2021-02-11T00:00:00\", \"2021-02-12T00:00:00\", \"2021-02-16T00:00:00\", \"2021-02-17T00:00:00\", \"2021-02-18T00:00:00\", \"2021-02-19T00:00:00\", \"2021-02-22T00:00:00\", \"2021-02-23T00:00:00\", \"2021-02-24T00:00:00\", \"2021-02-25T00:00:00\", \"2021-02-26T00:00:00\", \"2021-03-01T00:00:00\", \"2021-03-02T00:00:00\", \"2021-03-03T00:00:00\", \"2021-03-04T00:00:00\", \"2021-03-05T00:00:00\", \"2021-03-08T00:00:00\", \"2021-03-09T00:00:00\", \"2021-03-10T00:00:00\", \"2021-03-11T00:00:00\", \"2021-03-12T00:00:00\", \"2021-03-15T00:00:00\", \"2021-03-16T00:00:00\", \"2021-03-17T00:00:00\", \"2021-03-18T00:00:00\", \"2021-03-19T00:00:00\", \"2021-03-22T00:00:00\", \"2021-03-23T00:00:00\", \"2021-03-24T00:00:00\", \"2021-03-25T00:00:00\", \"2021-03-26T00:00:00\", \"2021-03-29T00:00:00\", \"2021-03-30T00:00:00\", \"2021-03-31T00:00:00\", \"2021-04-01T00:00:00\", \"2021-04-05T00:00:00\", \"2021-04-06T00:00:00\", \"2021-04-07T00:00:00\", \"2021-04-08T00:00:00\", \"2021-04-09T00:00:00\", \"2021-04-12T00:00:00\", \"2021-04-13T00:00:00\", \"2021-04-14T00:00:00\", \"2021-04-15T00:00:00\", \"2021-04-16T00:00:00\", \"2021-04-19T00:00:00\", \"2021-04-20T00:00:00\", \"2021-04-21T00:00:00\", \"2021-04-22T00:00:00\", \"2021-04-23T00:00:00\", \"2021-04-26T00:00:00\", \"2021-04-27T00:00:00\", \"2021-04-28T00:00:00\", \"2021-04-29T00:00:00\", \"2021-04-30T00:00:00\", \"2021-05-03T00:00:00\", \"2021-05-04T00:00:00\", \"2021-05-05T00:00:00\", \"2021-05-06T00:00:00\", \"2021-05-07T00:00:00\", \"2021-05-10T00:00:00\", \"2021-05-11T00:00:00\", \"2021-05-12T00:00:00\", \"2021-05-13T00:00:00\", \"2021-05-14T00:00:00\", \"2021-05-17T00:00:00\", \"2021-05-18T00:00:00\", \"2021-05-19T00:00:00\", \"2021-05-20T00:00:00\", \"2021-05-21T00:00:00\", \"2021-05-24T00:00:00\", \"2021-05-25T00:00:00\", \"2021-05-26T00:00:00\", \"2021-05-27T00:00:00\", \"2021-05-28T00:00:00\", \"2021-06-01T00:00:00\", \"2021-06-02T00:00:00\", \"2021-06-03T00:00:00\", \"2021-06-04T00:00:00\", \"2021-06-07T00:00:00\", \"2021-06-08T00:00:00\", \"2021-06-09T00:00:00\", \"2021-06-10T00:00:00\", \"2021-06-11T00:00:00\", \"2021-06-14T00:00:00\", \"2021-06-15T00:00:00\", \"2021-06-16T00:00:00\", \"2021-06-17T00:00:00\", \"2021-06-18T00:00:00\", \"2021-06-21T00:00:00\", \"2021-06-22T00:00:00\", \"2021-06-23T00:00:00\", \"2021-06-24T00:00:00\", \"2021-06-25T00:00:00\", \"2021-06-28T00:00:00\", \"2021-06-29T00:00:00\", \"2021-06-30T00:00:00\", \"2021-07-01T00:00:00\", \"2021-07-02T00:00:00\", \"2021-07-06T00:00:00\", \"2021-07-07T00:00:00\", \"2021-07-08T00:00:00\", \"2021-07-09T00:00:00\", \"2021-07-12T00:00:00\", \"2021-07-13T00:00:00\", \"2021-07-14T00:00:00\", \"2021-07-15T00:00:00\", \"2021-07-16T00:00:00\", \"2021-07-19T00:00:00\", \"2021-07-20T00:00:00\", \"2021-07-21T00:00:00\", \"2021-07-22T00:00:00\", \"2021-07-23T00:00:00\", \"2021-07-26T00:00:00\", \"2021-07-27T00:00:00\", \"2021-07-28T00:00:00\", \"2021-07-29T00:00:00\", \"2021-07-30T00:00:00\", \"2021-08-02T00:00:00\", \"2021-08-03T00:00:00\", \"2021-08-04T00:00:00\", \"2021-08-05T00:00:00\", \"2021-08-06T00:00:00\", \"2021-08-09T00:00:00\", \"2021-08-10T00:00:00\", \"2021-08-11T00:00:00\", \"2021-08-12T00:00:00\", \"2021-08-13T00:00:00\", \"2021-08-16T00:00:00\", \"2021-08-17T00:00:00\", \"2021-08-18T00:00:00\", \"2021-08-19T00:00:00\", \"2021-08-20T00:00:00\", \"2021-08-23T00:00:00\", \"2021-08-24T00:00:00\", \"2021-08-25T00:00:00\", \"2021-08-26T00:00:00\", \"2021-08-27T00:00:00\", \"2021-08-30T00:00:00\", \"2021-08-31T00:00:00\", \"2021-09-01T00:00:00\", \"2021-09-02T00:00:00\", \"2021-09-03T00:00:00\", \"2021-09-07T00:00:00\", \"2021-09-08T00:00:00\", \"2021-09-09T00:00:00\", \"2021-09-10T00:00:00\", \"2021-09-13T00:00:00\", \"2021-09-14T00:00:00\", \"2021-09-15T00:00:00\", \"2021-09-16T00:00:00\", \"2021-09-17T00:00:00\", \"2021-09-20T00:00:00\", \"2021-09-21T00:00:00\", \"2021-09-22T00:00:00\", \"2021-09-23T00:00:00\", \"2021-09-24T00:00:00\", \"2021-09-27T00:00:00\", \"2021-09-28T00:00:00\", \"2021-09-29T00:00:00\", \"2021-09-30T00:00:00\", \"2021-10-01T00:00:00\", \"2021-10-04T00:00:00\", \"2021-10-05T00:00:00\", \"2021-10-06T00:00:00\", \"2021-10-07T00:00:00\", \"2021-10-08T00:00:00\", \"2021-10-11T00:00:00\", \"2021-10-12T00:00:00\", \"2021-10-13T00:00:00\", \"2021-10-14T00:00:00\", \"2021-10-15T00:00:00\", \"2021-10-18T00:00:00\", \"2021-10-19T00:00:00\", \"2021-10-20T00:00:00\", \"2021-10-21T00:00:00\", \"2021-10-22T00:00:00\", \"2021-10-25T00:00:00\", \"2021-10-26T00:00:00\", \"2021-10-27T00:00:00\", \"2021-10-28T00:00:00\", \"2021-10-29T00:00:00\", \"2021-11-01T00:00:00\", \"2021-11-02T00:00:00\", \"2021-11-03T00:00:00\", \"2021-11-04T00:00:00\", \"2021-11-05T00:00:00\", \"2021-11-08T00:00:00\", \"2021-11-09T00:00:00\", \"2021-11-10T00:00:00\", \"2021-11-11T00:00:00\", \"2021-11-12T00:00:00\", \"2021-11-15T00:00:00\", \"2021-11-16T00:00:00\", \"2021-11-17T00:00:00\", \"2021-11-18T00:00:00\", \"2021-11-19T00:00:00\", \"2021-11-22T00:00:00\", \"2021-11-23T00:00:00\", \"2021-11-24T00:00:00\", \"2021-11-26T00:00:00\", \"2021-11-29T00:00:00\", \"2021-11-30T00:00:00\", \"2021-12-01T00:00:00\", \"2021-12-02T00:00:00\", \"2021-12-03T00:00:00\", \"2021-12-06T00:00:00\", \"2021-12-07T00:00:00\", \"2021-12-08T00:00:00\", \"2021-12-09T00:00:00\", \"2021-12-10T00:00:00\", \"2021-12-13T00:00:00\", \"2021-12-14T00:00:00\", \"2021-12-15T00:00:00\", \"2021-12-16T00:00:00\", \"2021-12-17T00:00:00\", \"2021-12-20T00:00:00\", \"2021-12-21T00:00:00\", \"2021-12-22T00:00:00\", \"2021-12-23T00:00:00\", \"2021-12-27T00:00:00\", \"2021-12-28T00:00:00\", \"2021-12-29T00:00:00\", \"2021-12-30T00:00:00\", \"2021-12-31T00:00:00\", \"2022-01-03T00:00:00\", \"2022-01-04T00:00:00\", \"2022-01-05T00:00:00\", \"2022-01-06T00:00:00\", \"2022-01-07T00:00:00\", \"2022-01-10T00:00:00\"], \"xaxis\": \"x2\", \"y\": [20621000, 5055200, 6893700, 4343900, 2487200, 3681700, 3999900, 2814000, 3670700, 4530800, 2771300, 1260500, 1014400, 1767800, 1892900, 2587700, 3868000, 2000700, 2196100, 1362700, 958600, 1669100, 1224800, 1270200, 4738100, 3246200, 2933300, 5984300, 2391500, 2805300, 5100700, 2514500, 2161600, 2788900, 2106600, 1727700, 3158700, 2447100, 1663700, 2937000, 4769700, 4675000, 3710800, 1897200, 1663800, 2688000, 2100800, 1724900, 1539800, 1799400, 2514000, 2407200, 2141600, 1241300, 1498600, 1321800, 1738800, 4057700, 1862900, 1360400, 2383900, 1461100, 1516100, 1915900, 3637600, 1772300, 2275000, 1323600, 746600, 1814800, 1990900, 1227600, 714800, 3129600, 1903800, 3410700, 3225300, 2780500, 1950300, 1439100, 1641800, 2161500, 1846000, 1505200, 909100, 1461300, 2012300, 3554900, 1113000, 3613100, 1273300, 1385700, 1663900, 2123000, 1399500, 3784400, 17012100, 22008000, 11939500, 5690400, 6508800, 4275300, 5857600, 6593700, 6016800, 4919200, 5201500, 11523900, 5816800, 6767300, 7896700, 3951500, 3534400, 4663000, 7662100, 8271100, 5240500, 5728300, 4251300, 5078600, 2846800, 4021600, 4363700, 5580100, 5966700, 6377300, 5359300, 5385100, 4231800, 6043700, 3285700, 3621200, 2991000, 3168500, 4360500, 2427400, 2589400, 2648100, 2151600, 2036700, 2407900, 2919500, 2065300, 2246900, 1980400, 2004500, 1994200, 2041000, 4196100, 1457400, 2387700, 1834200, 1899700, 1746700, 1074900, 2481200, 2840700, 1763400, 5331800, 3989000, 6039300, 8350900, 9789900, 5347100, 4213500, 2541200, 3032700, 2895300, 2841400, 4875500, 3572800, 3630000, 3731000, 5716100, 2276800, 3047200, 2982400, 2458600, 2006300, 3696400, 2944300, 2982400, 2684800, 4134100, 5617200, 3616500, 2751900, 5215800, 5552500, 5574300, 5096600, 3751400, 4668000, 9565700, 2348500, 2007500, 1662500, 2790200, 1214700, 1502000, 1747800, 3073200, 1296400, 1152600, 1547200, 2892400, 4400700, 1895800, 1934800, 1390800, 1605500, 1755000, 1642100, 1631000, 2487100, 4350000, 3819400, 2116000, 1843800, 2222700, 2274300, 1678000, 2534300, 2451500, 2325100, 11178600, 9202400, 6856900, 4018000, 3233300, 2631400, 2589700, 3788500, 2479500, 1773200, 1871400, 2638600, 1422400, 3440300, 2525100, 2158500, 6152000, 2633200, 3617300, 2584200, 2115200, 3666900, 3074200, 2283400, 3564200, 2468700, 12782500, 4683400, 2289800, 1994900, 7114500, 2575200, 2633500, 4403300, 2998400, 2099000, 1984300, 2490800, 3541600, 2545400, 2529600, 1833000, 1296300, 1689900, 1783500, 1855600, 1908200, 3113500, 2630400, 2217300, 1755200, 2094200, 1396900, 2520500, 1584800, 1254200, 2411600, 2280900, 2229700, 1592400, 2170000, 1579800, 6026700, 9669600, 14515800, 7012700, 6200300, 7295500, 8553200, 5393100, 8789000, 6561900, 8370500, 5811100, 6009300, 3218200, 8491200, 6051900, 9130000, 6227700, 7396400, 4611700, 5243000, 4894800, 7244000, 3688800, 6532500, 4542100, 5035400, 5255200, 6056200, 2979000, 3515300, 2329300, 1846600, 2564500, 2082100, 1636000, 1883100, 1488900, 2881400, 5780400, 5179900, 5346000, 3147400, 4563144], \"yaxis\": \"y2\"}, {\"marker\": {\"color\": [\"#FF5733\", \"#FF5733\", \"#FF5733\", \"#FF5733\", \"#FF5733\", \"#FF5733\", \"#FF5733\", \"#FF5733\", \"#FF5733\", \"#FF5733\", \"#FF5733\", \"#FF5733\", \"#FF5733\", \"#FF5733\", \"#FF5733\", \"#FF5733\", \"#FF5733\", \"#FF5733\", \"#FF5733\", \"#FF5733\", \"#FF5733\", \"#FF5733\", \"#FF5733\", \"#FF5733\", \"#FF5733\", \"#FF5733\", \"#FF5733\", \"#FF5733\", \"#FF5733\", \"#FF5733\", \"#FF5733\", \"#FF5733\", \"#FF5733\", \"#FF5733\", \"green\", \"green\", \"green\", \"#FF5733\", \"#FF5733\", \"#FF5733\", \"green\", \"green\", \"green\", \"green\", \"green\", \"green\", \"green\", \"green\", \"green\", \"green\", \"green\", \"green\", \"green\", \"green\", \"green\", \"green\", \"green\", \"green\", \"green\", \"green\", \"#FF5733\", \"#FF5733\", \"#FF5733\", \"#FF5733\", \"#FF5733\", \"#FF5733\", \"green\", \"green\", \"green\", \"#FF5733\", \"#FF5733\", \"#FF5733\", \"#FF5733\", \"#FF5733\", \"#FF5733\", \"#FF5733\", \"#FF5733\", \"#FF5733\", \"#FF5733\", \"#FF5733\", \"#FF5733\", \"#FF5733\", \"#FF5733\", \"#FF5733\", \"#FF5733\", \"#FF5733\", \"#FF5733\", \"#FF5733\", \"#FF5733\", \"green\", \"green\", \"green\", \"green\", \"#FF5733\", \"#FF5733\", \"#FF5733\", \"#FF5733\", \"#FF5733\", \"#FF5733\", \"#FF5733\", \"#FF5733\", \"#FF5733\", \"#FF5733\", \"#FF5733\", \"#FF5733\", \"#FF5733\", \"#FF5733\", \"#FF5733\", \"#FF5733\", \"#FF5733\", \"#FF5733\", \"#FF5733\", \"#FF5733\", \"#FF5733\", \"#FF5733\", \"#FF5733\", \"#FF5733\", \"#FF5733\", \"#FF5733\", \"green\", \"green\", \"green\", \"green\", \"green\", \"green\", \"green\", \"green\", \"green\", \"green\", \"green\", \"green\", \"green\", \"green\", \"green\", \"green\", \"green\", \"green\", \"green\", \"green\", \"green\", \"green\", \"green\", \"green\", \"green\", \"green\", \"green\", \"green\", \"green\", \"green\", \"green\", \"green\", \"green\", \"green\", \"green\", \"green\", \"green\", \"#FF5733\", \"#FF5733\", \"#FF5733\", \"#FF5733\", \"#FF5733\", \"#FF5733\", \"#FF5733\", \"#FF5733\", \"#FF5733\", \"#FF5733\", \"#FF5733\", \"#FF5733\", \"green\", \"green\", \"green\", \"green\", \"green\", \"green\", \"green\", \"green\", \"green\", \"green\", \"green\", \"green\", \"green\", \"green\", \"green\", \"green\", \"green\", \"green\", \"green\", \"green\", \"green\", \"green\", \"green\", \"green\", \"green\", \"green\", \"green\", \"green\", \"green\", \"green\", \"#FF5733\", \"#FF5733\", \"#FF5733\", \"#FF5733\", \"#FF5733\", \"#FF5733\", \"#FF5733\", \"#FF5733\", \"#FF5733\", \"#FF5733\", \"#FF5733\", \"#FF5733\", \"#FF5733\", \"#FF5733\", \"#FF5733\", \"#FF5733\", \"#FF5733\", \"green\", \"green\", \"green\", \"green\", \"green\", \"green\", \"green\", \"green\", \"green\", \"green\", \"green\", \"green\", \"green\", \"green\", \"green\", \"green\", \"green\", \"green\", \"green\", \"green\", \"green\", \"green\", \"green\", \"green\", \"green\", \"green\", \"green\", \"green\", \"green\", \"green\", \"green\", \"green\", \"green\", \"#FF5733\", \"#FF5733\", \"#FF5733\", \"#FF5733\", \"#FF5733\", \"#FF5733\", \"#FF5733\", \"#FF5733\", \"green\", \"green\", \"#FF5733\", \"#FF5733\", \"#FF5733\", \"#FF5733\", \"#FF5733\", \"#FF5733\", \"#FF5733\", \"#FF5733\", \"#FF5733\", \"green\", \"green\", \"green\", \"green\", \"green\", \"green\", \"green\", \"green\", \"green\", \"green\", \"green\", \"green\", \"green\", \"green\", \"green\", \"green\", \"#FF5733\", \"#FF5733\", \"green\", \"green\", \"green\", \"green\", \"green\", \"green\", \"green\", \"green\", \"green\", \"green\", \"green\", \"green\", \"green\", \"#FF5733\", \"#FF5733\", \"#FF5733\", \"#FF5733\", \"#FF5733\", \"#FF5733\", \"#FF5733\", \"#FF5733\", \"#FF5733\", \"#FF5733\", \"#FF5733\", \"#FF5733\", \"#FF5733\", \"#FF5733\", \"#FF5733\", \"#FF5733\", \"#FF5733\", \"#FF5733\", \"#FF5733\", \"#FF5733\", \"#FF5733\", \"#FF5733\", \"green\", \"green\", \"green\", \"green\", \"green\", \"green\", \"#FF5733\", \"#FF5733\", \"#FF5733\", \"#FF5733\", \"#FF5733\"]}, \"name\": \"MACD diff\", \"type\": \"bar\", \"x\": [\"2020-09-18T00:00:00\", \"2020-09-21T00:00:00\", \"2020-09-22T00:00:00\", \"2020-09-23T00:00:00\", \"2020-09-24T00:00:00\", \"2020-09-25T00:00:00\", \"2020-09-28T00:00:00\", \"2020-09-29T00:00:00\", \"2020-09-30T00:00:00\", \"2020-10-01T00:00:00\", \"2020-10-02T00:00:00\", \"2020-10-05T00:00:00\", \"2020-10-06T00:00:00\", \"2020-10-07T00:00:00\", \"2020-10-08T00:00:00\", \"2020-10-09T00:00:00\", \"2020-10-12T00:00:00\", \"2020-10-13T00:00:00\", \"2020-10-14T00:00:00\", \"2020-10-15T00:00:00\", \"2020-10-16T00:00:00\", \"2020-10-19T00:00:00\", \"2020-10-20T00:00:00\", \"2020-10-21T00:00:00\", \"2020-10-22T00:00:00\", \"2020-10-23T00:00:00\", \"2020-10-26T00:00:00\", \"2020-10-27T00:00:00\", \"2020-10-28T00:00:00\", \"2020-10-29T00:00:00\", \"2020-10-30T00:00:00\", \"2020-11-02T00:00:00\", \"2020-11-03T00:00:00\", \"2020-11-04T00:00:00\", \"2020-11-05T00:00:00\", \"2020-11-06T00:00:00\", \"2020-11-09T00:00:00\", \"2020-11-10T00:00:00\", \"2020-11-11T00:00:00\", \"2020-11-12T00:00:00\", \"2020-11-13T00:00:00\", \"2020-11-16T00:00:00\", \"2020-11-17T00:00:00\", \"2020-11-18T00:00:00\", \"2020-11-19T00:00:00\", \"2020-11-20T00:00:00\", \"2020-11-23T00:00:00\", \"2020-11-24T00:00:00\", \"2020-11-25T00:00:00\", \"2020-11-27T00:00:00\", \"2020-11-30T00:00:00\", \"2020-12-01T00:00:00\", \"2020-12-02T00:00:00\", \"2020-12-03T00:00:00\", \"2020-12-04T00:00:00\", \"2020-12-07T00:00:00\", \"2020-12-08T00:00:00\", \"2020-12-09T00:00:00\", \"2020-12-10T00:00:00\", \"2020-12-11T00:00:00\", \"2020-12-14T00:00:00\", \"2020-12-15T00:00:00\", \"2020-12-16T00:00:00\", \"2020-12-17T00:00:00\", \"2020-12-18T00:00:00\", \"2020-12-21T00:00:00\", \"2020-12-22T00:00:00\", \"2020-12-23T00:00:00\", \"2020-12-24T00:00:00\", \"2020-12-28T00:00:00\", \"2020-12-29T00:00:00\", \"2020-12-30T00:00:00\", \"2020-12-31T00:00:00\", \"2021-01-04T00:00:00\", \"2021-01-05T00:00:00\", \"2021-01-06T00:00:00\", \"2021-01-07T00:00:00\", \"2021-01-08T00:00:00\", \"2021-01-11T00:00:00\", \"2021-01-12T00:00:00\", \"2021-01-13T00:00:00\", \"2021-01-14T00:00:00\", \"2021-01-15T00:00:00\", \"2021-01-19T00:00:00\", \"2021-01-20T00:00:00\", \"2021-01-21T00:00:00\", \"2021-01-22T00:00:00\", \"2021-01-25T00:00:00\", \"2021-01-26T00:00:00\", \"2021-01-27T00:00:00\", \"2021-01-28T00:00:00\", \"2021-01-29T00:00:00\", \"2021-02-01T00:00:00\", \"2021-02-02T00:00:00\", \"2021-02-03T00:00:00\", \"2021-02-04T00:00:00\", \"2021-02-05T00:00:00\", \"2021-02-08T00:00:00\", \"2021-02-09T00:00:00\", \"2021-02-10T00:00:00\", \"2021-02-11T00:00:00\", \"2021-02-12T00:00:00\", \"2021-02-16T00:00:00\", \"2021-02-17T00:00:00\", \"2021-02-18T00:00:00\", \"2021-02-19T00:00:00\", \"2021-02-22T00:00:00\", \"2021-02-23T00:00:00\", \"2021-02-24T00:00:00\", \"2021-02-25T00:00:00\", \"2021-02-26T00:00:00\", \"2021-03-01T00:00:00\", \"2021-03-02T00:00:00\", \"2021-03-03T00:00:00\", \"2021-03-04T00:00:00\", \"2021-03-05T00:00:00\", \"2021-03-08T00:00:00\", \"2021-03-09T00:00:00\", \"2021-03-10T00:00:00\", \"2021-03-11T00:00:00\", \"2021-03-12T00:00:00\", \"2021-03-15T00:00:00\", \"2021-03-16T00:00:00\", \"2021-03-17T00:00:00\", \"2021-03-18T00:00:00\", \"2021-03-19T00:00:00\", \"2021-03-22T00:00:00\", \"2021-03-23T00:00:00\", \"2021-03-24T00:00:00\", \"2021-03-25T00:00:00\", \"2021-03-26T00:00:00\", \"2021-03-29T00:00:00\", \"2021-03-30T00:00:00\", \"2021-03-31T00:00:00\", \"2021-04-01T00:00:00\", \"2021-04-05T00:00:00\", \"2021-04-06T00:00:00\", \"2021-04-07T00:00:00\", \"2021-04-08T00:00:00\", \"2021-04-09T00:00:00\", \"2021-04-12T00:00:00\", \"2021-04-13T00:00:00\", \"2021-04-14T00:00:00\", \"2021-04-15T00:00:00\", \"2021-04-16T00:00:00\", \"2021-04-19T00:00:00\", \"2021-04-20T00:00:00\", \"2021-04-21T00:00:00\", \"2021-04-22T00:00:00\", \"2021-04-23T00:00:00\", \"2021-04-26T00:00:00\", \"2021-04-27T00:00:00\", \"2021-04-28T00:00:00\", \"2021-04-29T00:00:00\", \"2021-04-30T00:00:00\", \"2021-05-03T00:00:00\", \"2021-05-04T00:00:00\", \"2021-05-05T00:00:00\", \"2021-05-06T00:00:00\", \"2021-05-07T00:00:00\", \"2021-05-10T00:00:00\", \"2021-05-11T00:00:00\", \"2021-05-12T00:00:00\", \"2021-05-13T00:00:00\", \"2021-05-14T00:00:00\", \"2021-05-17T00:00:00\", \"2021-05-18T00:00:00\", \"2021-05-19T00:00:00\", \"2021-05-20T00:00:00\", \"2021-05-21T00:00:00\", \"2021-05-24T00:00:00\", \"2021-05-25T00:00:00\", \"2021-05-26T00:00:00\", \"2021-05-27T00:00:00\", \"2021-05-28T00:00:00\", \"2021-06-01T00:00:00\", \"2021-06-02T00:00:00\", \"2021-06-03T00:00:00\", \"2021-06-04T00:00:00\", \"2021-06-07T00:00:00\", \"2021-06-08T00:00:00\", \"2021-06-09T00:00:00\", \"2021-06-10T00:00:00\", \"2021-06-11T00:00:00\", \"2021-06-14T00:00:00\", \"2021-06-15T00:00:00\", \"2021-06-16T00:00:00\", \"2021-06-17T00:00:00\", \"2021-06-18T00:00:00\", \"2021-06-21T00:00:00\", \"2021-06-22T00:00:00\", \"2021-06-23T00:00:00\", \"2021-06-24T00:00:00\", \"2021-06-25T00:00:00\", \"2021-06-28T00:00:00\", \"2021-06-29T00:00:00\", \"2021-06-30T00:00:00\", \"2021-07-01T00:00:00\", \"2021-07-02T00:00:00\", \"2021-07-06T00:00:00\", \"2021-07-07T00:00:00\", \"2021-07-08T00:00:00\", \"2021-07-09T00:00:00\", \"2021-07-12T00:00:00\", \"2021-07-13T00:00:00\", \"2021-07-14T00:00:00\", \"2021-07-15T00:00:00\", \"2021-07-16T00:00:00\", \"2021-07-19T00:00:00\", \"2021-07-20T00:00:00\", \"2021-07-21T00:00:00\", \"2021-07-22T00:00:00\", \"2021-07-23T00:00:00\", \"2021-07-26T00:00:00\", \"2021-07-27T00:00:00\", \"2021-07-28T00:00:00\", \"2021-07-29T00:00:00\", \"2021-07-30T00:00:00\", \"2021-08-02T00:00:00\", \"2021-08-03T00:00:00\", \"2021-08-04T00:00:00\", \"2021-08-05T00:00:00\", \"2021-08-06T00:00:00\", \"2021-08-09T00:00:00\", \"2021-08-10T00:00:00\", \"2021-08-11T00:00:00\", \"2021-08-12T00:00:00\", \"2021-08-13T00:00:00\", \"2021-08-16T00:00:00\", \"2021-08-17T00:00:00\", \"2021-08-18T00:00:00\", \"2021-08-19T00:00:00\", \"2021-08-20T00:00:00\", \"2021-08-23T00:00:00\", \"2021-08-24T00:00:00\", \"2021-08-25T00:00:00\", \"2021-08-26T00:00:00\", \"2021-08-27T00:00:00\", \"2021-08-30T00:00:00\", \"2021-08-31T00:00:00\", \"2021-09-01T00:00:00\", \"2021-09-02T00:00:00\", \"2021-09-03T00:00:00\", \"2021-09-07T00:00:00\", \"2021-09-08T00:00:00\", \"2021-09-09T00:00:00\", \"2021-09-10T00:00:00\", \"2021-09-13T00:00:00\", \"2021-09-14T00:00:00\", \"2021-09-15T00:00:00\", \"2021-09-16T00:00:00\", \"2021-09-17T00:00:00\", \"2021-09-20T00:00:00\", \"2021-09-21T00:00:00\", \"2021-09-22T00:00:00\", \"2021-09-23T00:00:00\", \"2021-09-24T00:00:00\", \"2021-09-27T00:00:00\", \"2021-09-28T00:00:00\", \"2021-09-29T00:00:00\", \"2021-09-30T00:00:00\", \"2021-10-01T00:00:00\", \"2021-10-04T00:00:00\", \"2021-10-05T00:00:00\", \"2021-10-06T00:00:00\", \"2021-10-07T00:00:00\", \"2021-10-08T00:00:00\", \"2021-10-11T00:00:00\", \"2021-10-12T00:00:00\", \"2021-10-13T00:00:00\", \"2021-10-14T00:00:00\", \"2021-10-15T00:00:00\", \"2021-10-18T00:00:00\", \"2021-10-19T00:00:00\", \"2021-10-20T00:00:00\", \"2021-10-21T00:00:00\", \"2021-10-22T00:00:00\", \"2021-10-25T00:00:00\", \"2021-10-26T00:00:00\", \"2021-10-27T00:00:00\", \"2021-10-28T00:00:00\", \"2021-10-29T00:00:00\", \"2021-11-01T00:00:00\", \"2021-11-02T00:00:00\", \"2021-11-03T00:00:00\", \"2021-11-04T00:00:00\", \"2021-11-05T00:00:00\", \"2021-11-08T00:00:00\", \"2021-11-09T00:00:00\", \"2021-11-10T00:00:00\", \"2021-11-11T00:00:00\", \"2021-11-12T00:00:00\", \"2021-11-15T00:00:00\", \"2021-11-16T00:00:00\", \"2021-11-17T00:00:00\", \"2021-11-18T00:00:00\", \"2021-11-19T00:00:00\", \"2021-11-22T00:00:00\", \"2021-11-23T00:00:00\", \"2021-11-24T00:00:00\", \"2021-11-26T00:00:00\", \"2021-11-29T00:00:00\", \"2021-11-30T00:00:00\", \"2021-12-01T00:00:00\", \"2021-12-02T00:00:00\", \"2021-12-03T00:00:00\", \"2021-12-06T00:00:00\", \"2021-12-07T00:00:00\", \"2021-12-08T00:00:00\", \"2021-12-09T00:00:00\", \"2021-12-10T00:00:00\", \"2021-12-13T00:00:00\", \"2021-12-14T00:00:00\", \"2021-12-15T00:00:00\", \"2021-12-16T00:00:00\", \"2021-12-17T00:00:00\", \"2021-12-20T00:00:00\", \"2021-12-21T00:00:00\", \"2021-12-22T00:00:00\", \"2021-12-23T00:00:00\", \"2021-12-27T00:00:00\", \"2021-12-28T00:00:00\", \"2021-12-29T00:00:00\", \"2021-12-30T00:00:00\", \"2021-12-31T00:00:00\", \"2022-01-03T00:00:00\", \"2022-01-04T00:00:00\", \"2022-01-05T00:00:00\", \"2022-01-06T00:00:00\", \"2022-01-07T00:00:00\", \"2022-01-10T00:00:00\"], \"xaxis\": \"x4\", \"y\": [null, null, null, null, null, null, null, null, null, null, null, null, null, null, null, null, null, null, null, null, null, null, null, null, null, null, null, null, null, null, null, null, null, -0.06082354651853006, 0.4498866073251442, 1.2266897474264082, 0.5702448563958926, -0.1243425598440897, -0.22476368054547802, -0.5698568903287304, 0.02768751384160595, 0.1450822268797598, 0.5804565322553525, 0.5796149312318315, 0.5810531366891842, 0.9137348678501374, 1.4415303191881428, 1.6164954266094549, 2.117777014012546, 2.9035237359731685, 3.449618162683942, 3.227634667433273, 2.437256328335451, 2.0157270413540225, 1.8843702722959819, 1.905570261858962, 2.448980236565621, 1.5759583577063854, 1.2249298236843291, 0.4598096804207845, -0.5321763541822566, -1.3808467923366514, -1.8208287840106756, -1.8198084473557667, -1.4157523734354296, -0.7068369625951902, 0.11421133769088065, 0.24365479732041884, 0.015873746616637874, -0.7717103000366805, -1.6616306967287038, -1.9972764788252544, -2.2818178337397725, -3.0273046599703033, -3.1203619411941013, -3.7733760520363013, -4.01275026750075, -3.5212549977112655, -3.375637347510666, -2.7977223480621927, -2.0582868387632507, -1.5618384673699208, -1.3090778185253247, -1.3418521885667931, -1.1608064246472989, -1.021703768209961, -0.4441564896499366, -0.231798812606822, -0.23213542489945382, 0.17657434856038212, 0.3035531413632635, 0.07557021853699286, 0.11359924988957815, -0.19698565456969575, -0.37366411503972596, -0.38290925379016816, -1.7313227530731474, -2.7327653513404497, -3.0202182972302376, -3.05901297282656, -3.0548396431734046, -2.8293668881889023, -2.556074331429546, -2.468717780616604, -2.4470767969375657, -2.069065574793501, -2.055233067490078, -2.196140047588778, -2.1172326742740504, -2.2763846031242227, -1.9930287510309723, -1.5817511006689262, -1.1931268784624542, -1.1471460437347822, -1.4376157181211298, -1.5732938022965008, -1.5565810224328267, -1.035162256015056, -0.44318738944344815, 0.4737806848885988, 1.0596469213853457, 1.715649912614328, 2.074180285815956, 2.278259896800627, 1.8973906601345512, 1.5592834315203188, 1.322775404254564, 0.9704313173910872, 0.4768639858518773, 0.08868431261084808, 0.20024514808338623, 0.25113917037718103, 0.48987373005374657, 0.8920616779913431, 1.2051043906106838, 1.363343137152719, 1.5478070819489016, 1.3545187849328828, 1.275485626563663, 1.0950788981651716, 1.0125331220798914, 1.1739482186636603, 1.2205891580691457, 1.2698365074770095, 1.1888829607838947, 0.9238334120160019, 0.7006889833834578, 0.8074716161475868, 0.8813117686933705, 0.9401119011995591, 1.0799866309485209, 1.0872992516305964, 1.1350216976126826, 0.978346130191912, 0.7314495362449885, 0.24080678330090644, -0.22363907995825616, -0.6544667969063616, -1.1173662627843548, -1.2685066657733017, -1.7839578984085391, -1.807434817830194, -1.7252472807645365, -1.770574484975226, -1.2576193520181032, -0.8961235922324526, -0.39566395315350444, -0.10466215411320423, 0.22638674121431812, 0.6801760850566483, 1.1408854612050998, 1.3322066766477052, 1.471164648772655, 1.4773205262615634, 1.3391123283520179, 1.1529035068240792, 0.9775657820791972, 0.8032414483965915, 0.7893845729513151, 0.941402766655388, 0.9913538263701426, 1.0145725758151445, 1.1157852235495798, 1.0340344518349982, 1.1082072833965413, 0.8231423932598567, 0.5148824366870821, 0.7348425893415489, 0.898703307749209, 1.1258924449358632, 1.3463900096188057, 1.5691253434427872, 1.6567575875592597, 1.3699037885740526, 1.1123240324057315, 0.8853368500562229, 0.5993374809225793, 0.10043793820667091, -0.23539184355715603, -0.4310875937548899, -0.7012934277674572, -0.8205569815306526, -0.7949712254301935, -0.785977596255536, -0.9334827842729974, -1.250266556051168, -1.5866866706238132, -1.733558280793381, -1.6504182914433891, -1.3975431970898757, -0.9704951330279655, -0.5986810059734342, -0.25344756052403594, -0.16448010509254685, -0.2633985430276848, 0.19642937061362803, 0.6328333323904864, 0.607125307132182, 0.5878517710505116, 0.3846581651023274, 0.483119060070775, 0.5831461248938905, 0.398698776474649, 0.4601618244314092, 0.2662438804806466, 1.0258620456626224, 1.775555530958242, 2.2740168593909047, 2.0182740615685413, 1.6349355211843832, 1.095455914480858, 0.5700479948436108, 0.5864148654361014, 0.6861675996777787, 0.6635510924323667, 0.5441258228499546, 0.10930463453645789, 0.010524422822687285, 0.08795480594464244, 0.11713293802305991, 0.0721510665645031, 0.42258438351496075, 0.6077679623654619, 0.8174053911725458, 0.6919224335924268, 0.5630575543560798, 0.4656248678764099, 0.07987028914144112, -0.1800173529322011, -0.3635722439834499, -0.35417703051236504, -0.2337407610293134, -0.7757321604979133, -0.9005517526395721, -0.8146512827440002, -0.2853380868952442, 0.12146676324649075, 0.029746501103717904, -0.7500525319001543, -1.3250336646113414, -1.62552037383921, -1.7632201506608922, -2.192255288518965, -1.846582633209255, -1.4038600000580939, -0.7058895026703043, -0.23646489366996226, 0.022884799887991525, 0.39601644076978015, 0.49963570434790294, 0.7513161640492232, 0.8294498809385416, 1.134246369920744, 1.3525878952500858, 1.049744502768843, 1.0814653438466597, 0.8069388912748194, 0.6969916903824647, 0.6618269731470634, 0.34393319162579017, 0.3452578646345348, 0.497941904950018, 0.3630234552935745, -0.08694991082482861, -0.1656046505814528, 0.014674360944948894, 0.10780999648356726, 0.8329810495730161, 1.7478223191091908, 2.492840112898671, 3.1415632950312284, 4.252910421380575, 4.717074081740302, 4.584796062276366, 3.9047724358597264, 3.7716326103182034, 2.6592654058695953, 0.9100832246210224, -0.4198229126373896, -0.9778361445920414, -1.5094037602615415, -2.480656799318087, -2.929366593822115, -4.473486155869267, -5.249261921823109, -5.8813868953366555, -5.984454186095134, -5.402471696355189, -4.759666784947089, -5.019286527527495, -4.963683789654075, -4.650415104010873, -4.183383671585714, -3.603653504346993, -3.469411980018867, -2.868771757455878, -2.3702547271543857, -1.339359665776234, -0.632036725651294, -0.0591379166331798, 0.5119267002485888, 0.6084837766133733, 0.7534529833659844, 0.9411469504123566, 0.869220501926427, 0.5463742671309717, -0.21034883632632972, -1.186105627515449, -1.76921510601899, -1.9510055486016311, -1.5488300096119607], \"yaxis\": \"y4\"}, {\"line\": {\"color\": \"green\", \"width\": 2}, \"name\": \"MACD\", \"type\": \"scatter\", \"x\": [\"2020-09-18T00:00:00\", \"2020-09-21T00:00:00\", \"2020-09-22T00:00:00\", \"2020-09-23T00:00:00\", \"2020-09-24T00:00:00\", \"2020-09-25T00:00:00\", \"2020-09-28T00:00:00\", \"2020-09-29T00:00:00\", \"2020-09-30T00:00:00\", \"2020-10-01T00:00:00\", \"2020-10-02T00:00:00\", \"2020-10-05T00:00:00\", \"2020-10-06T00:00:00\", \"2020-10-07T00:00:00\", \"2020-10-08T00:00:00\", \"2020-10-09T00:00:00\", \"2020-10-12T00:00:00\", \"2020-10-13T00:00:00\", \"2020-10-14T00:00:00\", \"2020-10-15T00:00:00\", \"2020-10-16T00:00:00\", \"2020-10-19T00:00:00\", \"2020-10-20T00:00:00\", \"2020-10-21T00:00:00\", \"2020-10-22T00:00:00\", \"2020-10-23T00:00:00\", \"2020-10-26T00:00:00\", \"2020-10-27T00:00:00\", \"2020-10-28T00:00:00\", \"2020-10-29T00:00:00\", \"2020-10-30T00:00:00\", \"2020-11-02T00:00:00\", \"2020-11-03T00:00:00\", \"2020-11-04T00:00:00\", \"2020-11-05T00:00:00\", \"2020-11-06T00:00:00\", \"2020-11-09T00:00:00\", \"2020-11-10T00:00:00\", \"2020-11-11T00:00:00\", \"2020-11-12T00:00:00\", \"2020-11-13T00:00:00\", \"2020-11-16T00:00:00\", \"2020-11-17T00:00:00\", \"2020-11-18T00:00:00\", \"2020-11-19T00:00:00\", \"2020-11-20T00:00:00\", \"2020-11-23T00:00:00\", \"2020-11-24T00:00:00\", \"2020-11-25T00:00:00\", \"2020-11-27T00:00:00\", \"2020-11-30T00:00:00\", \"2020-12-01T00:00:00\", \"2020-12-02T00:00:00\", \"2020-12-03T00:00:00\", \"2020-12-04T00:00:00\", \"2020-12-07T00:00:00\", \"2020-12-08T00:00:00\", \"2020-12-09T00:00:00\", \"2020-12-10T00:00:00\", \"2020-12-11T00:00:00\", \"2020-12-14T00:00:00\", \"2020-12-15T00:00:00\", \"2020-12-16T00:00:00\", \"2020-12-17T00:00:00\", \"2020-12-18T00:00:00\", \"2020-12-21T00:00:00\", \"2020-12-22T00:00:00\", \"2020-12-23T00:00:00\", \"2020-12-24T00:00:00\", \"2020-12-28T00:00:00\", \"2020-12-29T00:00:00\", \"2020-12-30T00:00:00\", \"2020-12-31T00:00:00\", \"2021-01-04T00:00:00\", \"2021-01-05T00:00:00\", \"2021-01-06T00:00:00\", \"2021-01-07T00:00:00\", \"2021-01-08T00:00:00\", \"2021-01-11T00:00:00\", \"2021-01-12T00:00:00\", \"2021-01-13T00:00:00\", \"2021-01-14T00:00:00\", \"2021-01-15T00:00:00\", \"2021-01-19T00:00:00\", \"2021-01-20T00:00:00\", \"2021-01-21T00:00:00\", \"2021-01-22T00:00:00\", \"2021-01-25T00:00:00\", \"2021-01-26T00:00:00\", \"2021-01-27T00:00:00\", \"2021-01-28T00:00:00\", \"2021-01-29T00:00:00\", \"2021-02-01T00:00:00\", \"2021-02-02T00:00:00\", \"2021-02-03T00:00:00\", \"2021-02-04T00:00:00\", \"2021-02-05T00:00:00\", \"2021-02-08T00:00:00\", \"2021-02-09T00:00:00\", \"2021-02-10T00:00:00\", \"2021-02-11T00:00:00\", \"2021-02-12T00:00:00\", \"2021-02-16T00:00:00\", \"2021-02-17T00:00:00\", \"2021-02-18T00:00:00\", \"2021-02-19T00:00:00\", \"2021-02-22T00:00:00\", \"2021-02-23T00:00:00\", \"2021-02-24T00:00:00\", \"2021-02-25T00:00:00\", \"2021-02-26T00:00:00\", \"2021-03-01T00:00:00\", \"2021-03-02T00:00:00\", \"2021-03-03T00:00:00\", \"2021-03-04T00:00:00\", \"2021-03-05T00:00:00\", \"2021-03-08T00:00:00\", \"2021-03-09T00:00:00\", \"2021-03-10T00:00:00\", \"2021-03-11T00:00:00\", \"2021-03-12T00:00:00\", \"2021-03-15T00:00:00\", \"2021-03-16T00:00:00\", \"2021-03-17T00:00:00\", \"2021-03-18T00:00:00\", \"2021-03-19T00:00:00\", \"2021-03-22T00:00:00\", \"2021-03-23T00:00:00\", \"2021-03-24T00:00:00\", \"2021-03-25T00:00:00\", \"2021-03-26T00:00:00\", \"2021-03-29T00:00:00\", \"2021-03-30T00:00:00\", \"2021-03-31T00:00:00\", \"2021-04-01T00:00:00\", \"2021-04-05T00:00:00\", \"2021-04-06T00:00:00\", \"2021-04-07T00:00:00\", \"2021-04-08T00:00:00\", \"2021-04-09T00:00:00\", \"2021-04-12T00:00:00\", \"2021-04-13T00:00:00\", \"2021-04-14T00:00:00\", \"2021-04-15T00:00:00\", \"2021-04-16T00:00:00\", \"2021-04-19T00:00:00\", \"2021-04-20T00:00:00\", \"2021-04-21T00:00:00\", \"2021-04-22T00:00:00\", \"2021-04-23T00:00:00\", \"2021-04-26T00:00:00\", \"2021-04-27T00:00:00\", \"2021-04-28T00:00:00\", \"2021-04-29T00:00:00\", \"2021-04-30T00:00:00\", \"2021-05-03T00:00:00\", \"2021-05-04T00:00:00\", \"2021-05-05T00:00:00\", \"2021-05-06T00:00:00\", \"2021-05-07T00:00:00\", \"2021-05-10T00:00:00\", \"2021-05-11T00:00:00\", \"2021-05-12T00:00:00\", \"2021-05-13T00:00:00\", \"2021-05-14T00:00:00\", \"2021-05-17T00:00:00\", \"2021-05-18T00:00:00\", \"2021-05-19T00:00:00\", \"2021-05-20T00:00:00\", \"2021-05-21T00:00:00\", \"2021-05-24T00:00:00\", \"2021-05-25T00:00:00\", \"2021-05-26T00:00:00\", \"2021-05-27T00:00:00\", \"2021-05-28T00:00:00\", \"2021-06-01T00:00:00\", \"2021-06-02T00:00:00\", \"2021-06-03T00:00:00\", \"2021-06-04T00:00:00\", \"2021-06-07T00:00:00\", \"2021-06-08T00:00:00\", \"2021-06-09T00:00:00\", \"2021-06-10T00:00:00\", \"2021-06-11T00:00:00\", \"2021-06-14T00:00:00\", \"2021-06-15T00:00:00\", \"2021-06-16T00:00:00\", \"2021-06-17T00:00:00\", \"2021-06-18T00:00:00\", \"2021-06-21T00:00:00\", \"2021-06-22T00:00:00\", \"2021-06-23T00:00:00\", \"2021-06-24T00:00:00\", \"2021-06-25T00:00:00\", \"2021-06-28T00:00:00\", \"2021-06-29T00:00:00\", \"2021-06-30T00:00:00\", \"2021-07-01T00:00:00\", \"2021-07-02T00:00:00\", \"2021-07-06T00:00:00\", \"2021-07-07T00:00:00\", \"2021-07-08T00:00:00\", \"2021-07-09T00:00:00\", \"2021-07-12T00:00:00\", \"2021-07-13T00:00:00\", \"2021-07-14T00:00:00\", \"2021-07-15T00:00:00\", \"2021-07-16T00:00:00\", \"2021-07-19T00:00:00\", \"2021-07-20T00:00:00\", \"2021-07-21T00:00:00\", \"2021-07-22T00:00:00\", \"2021-07-23T00:00:00\", \"2021-07-26T00:00:00\", \"2021-07-27T00:00:00\", \"2021-07-28T00:00:00\", \"2021-07-29T00:00:00\", \"2021-07-30T00:00:00\", \"2021-08-02T00:00:00\", \"2021-08-03T00:00:00\", \"2021-08-04T00:00:00\", \"2021-08-05T00:00:00\", \"2021-08-06T00:00:00\", \"2021-08-09T00:00:00\", \"2021-08-10T00:00:00\", \"2021-08-11T00:00:00\", \"2021-08-12T00:00:00\", \"2021-08-13T00:00:00\", \"2021-08-16T00:00:00\", \"2021-08-17T00:00:00\", \"2021-08-18T00:00:00\", \"2021-08-19T00:00:00\", \"2021-08-20T00:00:00\", \"2021-08-23T00:00:00\", \"2021-08-24T00:00:00\", \"2021-08-25T00:00:00\", \"2021-08-26T00:00:00\", \"2021-08-27T00:00:00\", \"2021-08-30T00:00:00\", \"2021-08-31T00:00:00\", \"2021-09-01T00:00:00\", \"2021-09-02T00:00:00\", \"2021-09-03T00:00:00\", \"2021-09-07T00:00:00\", \"2021-09-08T00:00:00\", \"2021-09-09T00:00:00\", \"2021-09-10T00:00:00\", \"2021-09-13T00:00:00\", \"2021-09-14T00:00:00\", \"2021-09-15T00:00:00\", \"2021-09-16T00:00:00\", \"2021-09-17T00:00:00\", \"2021-09-20T00:00:00\", \"2021-09-21T00:00:00\", \"2021-09-22T00:00:00\", \"2021-09-23T00:00:00\", \"2021-09-24T00:00:00\", \"2021-09-27T00:00:00\", \"2021-09-28T00:00:00\", \"2021-09-29T00:00:00\", \"2021-09-30T00:00:00\", \"2021-10-01T00:00:00\", \"2021-10-04T00:00:00\", \"2021-10-05T00:00:00\", \"2021-10-06T00:00:00\", \"2021-10-07T00:00:00\", \"2021-10-08T00:00:00\", \"2021-10-11T00:00:00\", \"2021-10-12T00:00:00\", \"2021-10-13T00:00:00\", \"2021-10-14T00:00:00\", \"2021-10-15T00:00:00\", \"2021-10-18T00:00:00\", \"2021-10-19T00:00:00\", \"2021-10-20T00:00:00\", \"2021-10-21T00:00:00\", \"2021-10-22T00:00:00\", \"2021-10-25T00:00:00\", \"2021-10-26T00:00:00\", \"2021-10-27T00:00:00\", \"2021-10-28T00:00:00\", \"2021-10-29T00:00:00\", \"2021-11-01T00:00:00\", \"2021-11-02T00:00:00\", \"2021-11-03T00:00:00\", \"2021-11-04T00:00:00\", \"2021-11-05T00:00:00\", \"2021-11-08T00:00:00\", \"2021-11-09T00:00:00\", \"2021-11-10T00:00:00\", \"2021-11-11T00:00:00\", \"2021-11-12T00:00:00\", \"2021-11-15T00:00:00\", \"2021-11-16T00:00:00\", \"2021-11-17T00:00:00\", \"2021-11-18T00:00:00\", \"2021-11-19T00:00:00\", \"2021-11-22T00:00:00\", \"2021-11-23T00:00:00\", \"2021-11-24T00:00:00\", \"2021-11-26T00:00:00\", \"2021-11-29T00:00:00\", \"2021-11-30T00:00:00\", \"2021-12-01T00:00:00\", \"2021-12-02T00:00:00\", \"2021-12-03T00:00:00\", \"2021-12-06T00:00:00\", \"2021-12-07T00:00:00\", \"2021-12-08T00:00:00\", \"2021-12-09T00:00:00\", \"2021-12-10T00:00:00\", \"2021-12-13T00:00:00\", \"2021-12-14T00:00:00\", \"2021-12-15T00:00:00\", \"2021-12-16T00:00:00\", \"2021-12-17T00:00:00\", \"2021-12-20T00:00:00\", \"2021-12-21T00:00:00\", \"2021-12-22T00:00:00\", \"2021-12-23T00:00:00\", \"2021-12-27T00:00:00\", \"2021-12-28T00:00:00\", \"2021-12-29T00:00:00\", \"2021-12-30T00:00:00\", \"2021-12-31T00:00:00\", \"2022-01-03T00:00:00\", \"2022-01-04T00:00:00\", \"2022-01-05T00:00:00\", \"2022-01-06T00:00:00\", \"2022-01-07T00:00:00\", \"2022-01-10T00:00:00\"], \"xaxis\": \"x4\", \"y\": [null, null, null, null, null, null, null, null, null, null, null, null, null, null, null, null, null, null, null, null, null, null, null, null, null, 4.550749983723762, 4.834387808084998, 5.323797711508831, 5.308335011822152, 5.9600565365667535, 5.2891255359777745, 4.643363349921145, 4.3988106826679, 4.825570502811459, 5.448752308486419, 6.532227885444286, 6.018344208512744, 5.2926711523117405, 5.136059111473983, 4.6485016791085485, 5.252967961739287, 5.406633231497381, 5.987121669936812, 6.131183801721249, 6.2778852913508985, 6.839000739474386, 7.727178770609427, 8.306267734683104, 9.336993575589332, 10.848621231543248, 12.257120198925008, 12.84204537053266, 12.660981113518702, 12.74338358687578, 13.083119385891735, 13.580711940919457, 14.73636697476752, 14.257334685334882, 14.21253860723391, 13.562370884075563, 12.437340760926958, 11.243458624688401, 10.348269437011709, 9.894337661827677, 9.944455642389158, 10.476661812580602, 11.326262947289393, 11.516620106249036, 11.292807492199415, 10.312295870536929, 9.006967799662732, 8.172002897859869, 7.317007084510408, 5.814694093287301, 4.941546326764978, 3.345188202913704, 2.102626420574069, 1.7138079409357374, 1.0155162542586709, 0.8940006666915963, 1.1188644662997262, 1.2248532208505765, 1.1503444150638416, 0.7821069978806747, 0.6729511556383443, 0.5566278700231919, 1.0231360261707323, 1.1775440000621415, 1.1191735315446465, 1.572026892144578, 1.7748939702882751, 1.5658036020962527, 1.6322324459212325, 1.2724011278195348, 1.0023066385895731, 0.8973341863915891, -0.883910001159677, -2.568543937262092, -3.611051457459439, -4.414599376262402, -5.174135957402598, -5.656004924465321, -6.021730950563352, -6.551553844904561, -7.141682060459914, -7.2809372320142245, -7.780912991583321, -8.470854983579216, -8.921255778833, -9.649503858464229, -9.864405194128722, -9.848565318933908, -9.75822281634305, -9.999028492549073, -10.648902096465704, -11.177903631215202, -11.550336106959733, -11.287707904545726, -10.806529885334982, -9.771116639780786, -8.920338672937703, -7.835423203555138, -6.958347758899521, -6.184703173714695, -6.091224745347134, -6.039511116081286, -5.9453252922834, -6.055061549799106, -6.429412884875347, -6.7954214799636645, -6.633799357470281, -6.520120542582191, -6.158917550392189, -5.533714182956757, -4.919395372684747, -4.420320841854533, -3.8489051265711254, -3.7035637273539237, -3.4637254790822283, -3.370362482939427, -3.1997749785047347, -2.744872827255051, -2.3930845983322797, -2.0263781220551635, -1.8101109285523052, -1.8442021243161975, -1.8921743071028772, -1.583523770301852, -1.2893556755827262, -0.995527567776648, -0.585656180290556, -0.30651874670083146, 0.02495912368442532, 0.11287008881163274, 0.04883587892595642, -0.3816051781928991, -0.9019608114416258, -1.4964052276163216, -2.2386462591904035, -2.706913328622676, -3.668354035860048, -4.143689659739252, -4.4928139428647285, -4.980784768319225, -4.782234473366628, -4.6447696116390915, -4.24322596084852, -3.978389700336521, -3.5907441197054197, -2.9669107545989277, -2.2209800131492017, -1.6966071285446702, -1.189857994226557, -0.814371985172258, -0.6178021009937993, -0.5157850458157185, -0.44673132504080115, -0.4202452966242589, -0.23675602883170654, 0.15061285653621326, 0.44840237284350337, 0.7252642662422915, 1.1054232198641216, 1.2821810611082896, 1.6334057135189681, 1.554126421697248, 1.3745870742962438, 1.7782578742860977, 2.16679441963106, 2.6754566680516803, 3.2325517351393245, 3.8475684048240026, 4.34939004583029, 4.405012193988597, 4.425513445921709, 4.4198604760862565, 4.283695477183258, 3.8099054190190174, 3.4152276763659017, 3.1117600277294457, 2.6662308367750143, 2.3418280376291563, 2.1686709873720673, 1.9811702174828412, 1.6002943333971302, 0.9709439226061676, 0.2378521403775693, -0.34240903999034344, -0.6718736235011988, -0.7683843284201544, -0.5839600476152356, -0.3618161720540627, -0.07994461673567343, -0.03209718757732105, -0.1968652612693802, 0.3120699950253396, 0.9066822898998197, 1.0327555914245607, 1.1604449981055183, 1.053415933432916, 1.2726565934190575, 1.5184701894656456, 1.4336975351650665, 1.610201039229679, 1.4828440653990782, 2.4989277419967095, 3.69251011003189, 4.759475653312279, 5.008301370882052, 5.03369671079399, 4.76808108271068, 4.385185161784335, 4.5481557487358515, 4.819450382896974, 4.962721648759654, 4.97932783488973, 4.571832805210349, 4.47568369920225, 4.575102783810365, 4.633564150394548, 4.606620045577117, 5.062699458406314, 5.3998250278481805, 5.813813804448401, 5.861311455266389, 5.873210964619062, 5.892184495108495, 5.526397488658887, 5.221505508352195, 4.947057556305083, 4.867908512148077, 4.9299095913738, 4.193985151780723, 3.844027621479171, 3.7262652706887422, 4.184243944813687, 4.621415485767045, 4.537131848900202, 3.569819682921292, 2.66358013405727, 1.956713331369599, 1.3782085168826939, 0.40110955689488037, 0.28513655390227655, 0.3768941870389142, 0.8983923087591279, 1.3087006943419794, 1.5737715878719314, 2.045907338946165, 2.2744355286112636, 2.71394502932489, 2.9994412164488438, 3.587799297911232, 4.144287797053096, 4.103880530264064, 4.405967707303546, 4.333175977550411, 4.397476699253673, 4.527768725305037, 4.295858241690212, 4.383497380857591, 4.660666897410579, 4.616504311577529, 4.144793467752919, 4.024737565350932, 4.208685167113572, 4.328773301773083, 5.262189617255785, 6.6139864665692585, 7.982214288583407, 9.416328294473772, 11.590903026168263, 13.234335206963067, 14.248256203068223, 14.544425685616517, 15.354194012654546, 14.906643159673337, 13.38498178458002, 11.950119919162262, 11.1476476510596, 10.238729095324715, 8.647311856438648, 7.466260413479091, 4.803769312464624, 2.7156780660550055, 0.6132063687072957, -0.9859744685749661, -1.7546099029238178, -2.30172168775249, -3.8161630622147698, -5.001481271754869, -5.8508163621143865, -6.429630847585656, -6.750814056433683, -7.483925527110273, -7.600478243911255, -7.694524895398359, -6.998469750464267, -6.44915599175215, -5.891041661892331, -5.191995369948415, -4.943317349430288, -4.609984896836181, -4.18700419218672, -4.041625515191043, -4.227878183203757, -5.03718849574264, -6.309471693810622, -7.33488494881891, -8.00442677855196, -7.989458741965279], \"yaxis\": \"y4\"}, {\"line\": {\"color\": \"red\", \"width\": 1}, \"name\": \"MACD signal\", \"type\": \"scatter\", \"x\": [\"2020-09-18T00:00:00\", \"2020-09-21T00:00:00\", \"2020-09-22T00:00:00\", \"2020-09-23T00:00:00\", \"2020-09-24T00:00:00\", \"2020-09-25T00:00:00\", \"2020-09-28T00:00:00\", \"2020-09-29T00:00:00\", \"2020-09-30T00:00:00\", \"2020-10-01T00:00:00\", \"2020-10-02T00:00:00\", \"2020-10-05T00:00:00\", \"2020-10-06T00:00:00\", \"2020-10-07T00:00:00\", \"2020-10-08T00:00:00\", \"2020-10-09T00:00:00\", \"2020-10-12T00:00:00\", \"2020-10-13T00:00:00\", \"2020-10-14T00:00:00\", \"2020-10-15T00:00:00\", \"2020-10-16T00:00:00\", \"2020-10-19T00:00:00\", \"2020-10-20T00:00:00\", \"2020-10-21T00:00:00\", \"2020-10-22T00:00:00\", \"2020-10-23T00:00:00\", \"2020-10-26T00:00:00\", \"2020-10-27T00:00:00\", \"2020-10-28T00:00:00\", \"2020-10-29T00:00:00\", \"2020-10-30T00:00:00\", \"2020-11-02T00:00:00\", \"2020-11-03T00:00:00\", \"2020-11-04T00:00:00\", \"2020-11-05T00:00:00\", \"2020-11-06T00:00:00\", \"2020-11-09T00:00:00\", \"2020-11-10T00:00:00\", \"2020-11-11T00:00:00\", \"2020-11-12T00:00:00\", \"2020-11-13T00:00:00\", \"2020-11-16T00:00:00\", \"2020-11-17T00:00:00\", \"2020-11-18T00:00:00\", \"2020-11-19T00:00:00\", \"2020-11-20T00:00:00\", \"2020-11-23T00:00:00\", \"2020-11-24T00:00:00\", \"2020-11-25T00:00:00\", \"2020-11-27T00:00:00\", \"2020-11-30T00:00:00\", \"2020-12-01T00:00:00\", \"2020-12-02T00:00:00\", \"2020-12-03T00:00:00\", \"2020-12-04T00:00:00\", \"2020-12-07T00:00:00\", \"2020-12-08T00:00:00\", \"2020-12-09T00:00:00\", \"2020-12-10T00:00:00\", \"2020-12-11T00:00:00\", \"2020-12-14T00:00:00\", \"2020-12-15T00:00:00\", \"2020-12-16T00:00:00\", \"2020-12-17T00:00:00\", \"2020-12-18T00:00:00\", \"2020-12-21T00:00:00\", \"2020-12-22T00:00:00\", \"2020-12-23T00:00:00\", \"2020-12-24T00:00:00\", \"2020-12-28T00:00:00\", \"2020-12-29T00:00:00\", \"2020-12-30T00:00:00\", \"2020-12-31T00:00:00\", \"2021-01-04T00:00:00\", \"2021-01-05T00:00:00\", \"2021-01-06T00:00:00\", \"2021-01-07T00:00:00\", \"2021-01-08T00:00:00\", \"2021-01-11T00:00:00\", \"2021-01-12T00:00:00\", \"2021-01-13T00:00:00\", \"2021-01-14T00:00:00\", \"2021-01-15T00:00:00\", \"2021-01-19T00:00:00\", \"2021-01-20T00:00:00\", \"2021-01-21T00:00:00\", \"2021-01-22T00:00:00\", \"2021-01-25T00:00:00\", \"2021-01-26T00:00:00\", \"2021-01-27T00:00:00\", \"2021-01-28T00:00:00\", \"2021-01-29T00:00:00\", \"2021-02-01T00:00:00\", \"2021-02-02T00:00:00\", \"2021-02-03T00:00:00\", \"2021-02-04T00:00:00\", \"2021-02-05T00:00:00\", \"2021-02-08T00:00:00\", \"2021-02-09T00:00:00\", \"2021-02-10T00:00:00\", \"2021-02-11T00:00:00\", \"2021-02-12T00:00:00\", \"2021-02-16T00:00:00\", \"2021-02-17T00:00:00\", \"2021-02-18T00:00:00\", \"2021-02-19T00:00:00\", \"2021-02-22T00:00:00\", \"2021-02-23T00:00:00\", \"2021-02-24T00:00:00\", \"2021-02-25T00:00:00\", \"2021-02-26T00:00:00\", \"2021-03-01T00:00:00\", \"2021-03-02T00:00:00\", \"2021-03-03T00:00:00\", \"2021-03-04T00:00:00\", \"2021-03-05T00:00:00\", \"2021-03-08T00:00:00\", \"2021-03-09T00:00:00\", \"2021-03-10T00:00:00\", \"2021-03-11T00:00:00\", \"2021-03-12T00:00:00\", \"2021-03-15T00:00:00\", \"2021-03-16T00:00:00\", \"2021-03-17T00:00:00\", \"2021-03-18T00:00:00\", \"2021-03-19T00:00:00\", \"2021-03-22T00:00:00\", \"2021-03-23T00:00:00\", \"2021-03-24T00:00:00\", \"2021-03-25T00:00:00\", \"2021-03-26T00:00:00\", \"2021-03-29T00:00:00\", \"2021-03-30T00:00:00\", \"2021-03-31T00:00:00\", \"2021-04-01T00:00:00\", \"2021-04-05T00:00:00\", \"2021-04-06T00:00:00\", \"2021-04-07T00:00:00\", \"2021-04-08T00:00:00\", \"2021-04-09T00:00:00\", \"2021-04-12T00:00:00\", \"2021-04-13T00:00:00\", \"2021-04-14T00:00:00\", \"2021-04-15T00:00:00\", \"2021-04-16T00:00:00\", \"2021-04-19T00:00:00\", \"2021-04-20T00:00:00\", \"2021-04-21T00:00:00\", \"2021-04-22T00:00:00\", \"2021-04-23T00:00:00\", \"2021-04-26T00:00:00\", \"2021-04-27T00:00:00\", \"2021-04-28T00:00:00\", \"2021-04-29T00:00:00\", \"2021-04-30T00:00:00\", \"2021-05-03T00:00:00\", \"2021-05-04T00:00:00\", \"2021-05-05T00:00:00\", \"2021-05-06T00:00:00\", \"2021-05-07T00:00:00\", \"2021-05-10T00:00:00\", \"2021-05-11T00:00:00\", \"2021-05-12T00:00:00\", \"2021-05-13T00:00:00\", \"2021-05-14T00:00:00\", \"2021-05-17T00:00:00\", \"2021-05-18T00:00:00\", \"2021-05-19T00:00:00\", \"2021-05-20T00:00:00\", \"2021-05-21T00:00:00\", \"2021-05-24T00:00:00\", \"2021-05-25T00:00:00\", \"2021-05-26T00:00:00\", \"2021-05-27T00:00:00\", \"2021-05-28T00:00:00\", \"2021-06-01T00:00:00\", \"2021-06-02T00:00:00\", \"2021-06-03T00:00:00\", \"2021-06-04T00:00:00\", \"2021-06-07T00:00:00\", \"2021-06-08T00:00:00\", \"2021-06-09T00:00:00\", \"2021-06-10T00:00:00\", \"2021-06-11T00:00:00\", \"2021-06-14T00:00:00\", \"2021-06-15T00:00:00\", \"2021-06-16T00:00:00\", \"2021-06-17T00:00:00\", \"2021-06-18T00:00:00\", \"2021-06-21T00:00:00\", \"2021-06-22T00:00:00\", \"2021-06-23T00:00:00\", \"2021-06-24T00:00:00\", \"2021-06-25T00:00:00\", \"2021-06-28T00:00:00\", \"2021-06-29T00:00:00\", \"2021-06-30T00:00:00\", \"2021-07-01T00:00:00\", \"2021-07-02T00:00:00\", \"2021-07-06T00:00:00\", \"2021-07-07T00:00:00\", \"2021-07-08T00:00:00\", \"2021-07-09T00:00:00\", \"2021-07-12T00:00:00\", \"2021-07-13T00:00:00\", \"2021-07-14T00:00:00\", \"2021-07-15T00:00:00\", \"2021-07-16T00:00:00\", \"2021-07-19T00:00:00\", \"2021-07-20T00:00:00\", \"2021-07-21T00:00:00\", \"2021-07-22T00:00:00\", \"2021-07-23T00:00:00\", \"2021-07-26T00:00:00\", \"2021-07-27T00:00:00\", \"2021-07-28T00:00:00\", \"2021-07-29T00:00:00\", \"2021-07-30T00:00:00\", \"2021-08-02T00:00:00\", \"2021-08-03T00:00:00\", \"2021-08-04T00:00:00\", \"2021-08-05T00:00:00\", \"2021-08-06T00:00:00\", \"2021-08-09T00:00:00\", \"2021-08-10T00:00:00\", \"2021-08-11T00:00:00\", \"2021-08-12T00:00:00\", \"2021-08-13T00:00:00\", \"2021-08-16T00:00:00\", \"2021-08-17T00:00:00\", \"2021-08-18T00:00:00\", \"2021-08-19T00:00:00\", \"2021-08-20T00:00:00\", \"2021-08-23T00:00:00\", \"2021-08-24T00:00:00\", \"2021-08-25T00:00:00\", \"2021-08-26T00:00:00\", \"2021-08-27T00:00:00\", \"2021-08-30T00:00:00\", \"2021-08-31T00:00:00\", \"2021-09-01T00:00:00\", \"2021-09-02T00:00:00\", \"2021-09-03T00:00:00\", \"2021-09-07T00:00:00\", \"2021-09-08T00:00:00\", \"2021-09-09T00:00:00\", \"2021-09-10T00:00:00\", \"2021-09-13T00:00:00\", \"2021-09-14T00:00:00\", \"2021-09-15T00:00:00\", \"2021-09-16T00:00:00\", \"2021-09-17T00:00:00\", \"2021-09-20T00:00:00\", \"2021-09-21T00:00:00\", \"2021-09-22T00:00:00\", \"2021-09-23T00:00:00\", \"2021-09-24T00:00:00\", \"2021-09-27T00:00:00\", \"2021-09-28T00:00:00\", \"2021-09-29T00:00:00\", \"2021-09-30T00:00:00\", \"2021-10-01T00:00:00\", \"2021-10-04T00:00:00\", \"2021-10-05T00:00:00\", \"2021-10-06T00:00:00\", \"2021-10-07T00:00:00\", \"2021-10-08T00:00:00\", \"2021-10-11T00:00:00\", \"2021-10-12T00:00:00\", \"2021-10-13T00:00:00\", \"2021-10-14T00:00:00\", \"2021-10-15T00:00:00\", \"2021-10-18T00:00:00\", \"2021-10-19T00:00:00\", \"2021-10-20T00:00:00\", \"2021-10-21T00:00:00\", \"2021-10-22T00:00:00\", \"2021-10-25T00:00:00\", \"2021-10-26T00:00:00\", \"2021-10-27T00:00:00\", \"2021-10-28T00:00:00\", \"2021-10-29T00:00:00\", \"2021-11-01T00:00:00\", \"2021-11-02T00:00:00\", \"2021-11-03T00:00:00\", \"2021-11-04T00:00:00\", \"2021-11-05T00:00:00\", \"2021-11-08T00:00:00\", \"2021-11-09T00:00:00\", \"2021-11-10T00:00:00\", \"2021-11-11T00:00:00\", \"2021-11-12T00:00:00\", \"2021-11-15T00:00:00\", \"2021-11-16T00:00:00\", \"2021-11-17T00:00:00\", \"2021-11-18T00:00:00\", \"2021-11-19T00:00:00\", \"2021-11-22T00:00:00\", \"2021-11-23T00:00:00\", \"2021-11-24T00:00:00\", \"2021-11-26T00:00:00\", \"2021-11-29T00:00:00\", \"2021-11-30T00:00:00\", \"2021-12-01T00:00:00\", \"2021-12-02T00:00:00\", \"2021-12-03T00:00:00\", \"2021-12-06T00:00:00\", \"2021-12-07T00:00:00\", \"2021-12-08T00:00:00\", \"2021-12-09T00:00:00\", \"2021-12-10T00:00:00\", \"2021-12-13T00:00:00\", \"2021-12-14T00:00:00\", \"2021-12-15T00:00:00\", \"2021-12-16T00:00:00\", \"2021-12-17T00:00:00\", \"2021-12-20T00:00:00\", \"2021-12-21T00:00:00\", \"2021-12-22T00:00:00\", \"2021-12-23T00:00:00\", \"2021-12-27T00:00:00\", \"2021-12-28T00:00:00\", \"2021-12-29T00:00:00\", \"2021-12-30T00:00:00\", \"2021-12-31T00:00:00\", \"2022-01-03T00:00:00\", \"2022-01-04T00:00:00\", \"2022-01-05T00:00:00\", \"2022-01-06T00:00:00\", \"2022-01-07T00:00:00\", \"2022-01-10T00:00:00\"], \"xaxis\": \"x4\", \"y\": [null, null, null, null, null, null, null, null, null, null, null, null, null, null, null, null, null, null, null, null, null, null, null, null, null, null, null, null, null, null, null, null, null, 4.886394049329989, 4.998865701161275, 5.305538138017877, 5.448099352116851, 5.41701371215583, 5.360822792019461, 5.218358569437279, 5.225280447897681, 5.261551004617621, 5.406665137681459, 5.551568870489418, 5.696832154661714, 5.925265871624249, 6.2856484514212845, 6.689772308073649, 7.219216561576786, 7.94509749557008, 8.807502036241067, 9.614410703099386, 10.22372478518325, 10.727656545521757, 11.198749113595753, 11.675141679060495, 12.2873867382019, 12.681376327628497, 12.98760878354958, 13.102561203654778, 12.969517115109214, 12.624305417025052, 12.169098221022384, 11.714146109183444, 11.360208015824588, 11.183498775175792, 11.212051609598513, 11.272965308928617, 11.276933745582777, 11.084006170573609, 10.668598496391436, 10.169279376685123, 9.59882491825018, 8.841998753257604, 8.06190826795908, 7.118564254950005, 6.115376688074819, 5.235062938647003, 4.391153601769337, 3.691723014753789, 3.177151305062977, 2.7866916882204973, 2.4594222335891662, 2.123959186447468, 1.8337575802856432, 1.578331638233153, 1.4672925158206689, 1.4093428126689636, 1.3513089564441003, 1.3954525435841958, 1.4713408289250116, 1.4902333835592598, 1.5186331960316544, 1.4693867823892306, 1.375970753629299, 1.2802434401817573, 0.8474127519134704, 0.164221414078358, -0.5908331602292014, -1.3555864034358416, -2.119296314229193, -2.826638036276419, -3.465656619133806, -4.082836064287957, -4.694605263522348, -5.2118716572207235, -5.725679924093243, -6.2747149359904375, -6.80402310455895, -7.373119255340006, -7.871376443097749, -8.266814218264981, -8.565095937880596, -8.85188244881429, -9.211286378344575, -9.6046098289187, -9.993755084526907, -10.25254564853067, -10.363342495891533, -10.244897324669385, -9.979985594323049, -9.551073116169466, -9.032528044715477, -8.462963070515322, -7.988615405481685, -7.598794547601605, -7.268100696537964, -7.025492867190193, -6.906276870727225, -6.884105792574513, -6.834044505553667, -6.771259712959372, -6.648791280445936, -6.4257758609481, -6.1244997632954306, -5.783663979007252, -5.396712208520027, -5.0580825122868065, -4.739211105645891, -4.465441381104599, -4.212308100584626, -3.9188210459187114, -3.6136737564014254, -3.296214629532173, -2.9989938893362, -2.7680355363321993, -2.592863290486335, -2.390995386449439, -2.1706674442760967, -1.935639468976207, -1.6656428112390769, -1.3938179983314278, -1.1100625739282572, -0.8654760413802792, -0.6826136573190321, -0.6224119614938055, -0.6783217314833696, -0.84193843070996, -1.1212799964060487, -1.4384066628493741, -1.884396137451509, -2.336254841909058, -2.767566662100192, -3.210210283343999, -3.5246151213485253, -3.748646019406639, -3.847562007695015, -3.873727546223317, -3.817130860919738, -3.647086839655576, -3.3618654743543015, -3.0288138051923754, -2.661022642999212, -2.2916925114338214, -1.9569144293458172, -1.6686885526397977, -1.4242971071199984, -1.2234867450208504, -1.0261406017830217, -0.7907899101191748, -0.5429514535266392, -0.2893083095728531, -0.010362003685458143, 0.2481466092732914, 0.5251984301224268, 0.7309840284373912, 0.8597046376091617, 1.0434152849445488, 1.268091111881851, 1.549564223115817, 1.8861617255205188, 2.2784430613812154, 2.6926324582710306, 3.0351084054145443, 3.3131894135159774, 3.5345236260300337, 3.6843579962606787, 3.7094674808123465, 3.6506195199230578, 3.5428476214843356, 3.3675242645424714, 3.162385019159809, 2.963642212802261, 2.767147813738377, 2.5337771176701276, 2.2212104786573357, 1.8245388110013825, 1.3911492408030375, 0.9785446679421903, 0.6291588686697214, 0.38653508541272996, 0.23686483391937146, 0.17350294378836248, 0.1323829175152258, 0.06653328175830459, 0.11564062441171159, 0.27384895750933325, 0.42563028429237876, 0.5725932270550067, 0.6687577683305886, 0.7895375333482825, 0.9353240645717551, 1.0349987586904175, 1.1500392147982699, 1.2166001849184316, 1.4730656963340871, 1.9169545790736477, 2.4854587939213744, 2.9900273093135104, 3.3987611896096066, 3.6726251682298217, 3.8151371669407244, 3.96174088329975, 4.133282783219196, 4.2991705563272875, 4.435202012039776, 4.462528170673891, 4.465159276379563, 4.487147977865723, 4.516431212371488, 4.534468979012614, 4.640115074891353, 4.792057065482719, 4.996408413275855, 5.169389021673962, 5.310153410262982, 5.426559627232085, 5.446527199517446, 5.401522861284396, 5.310629800288533, 5.222085542660442, 5.163650352403113, 4.969717312278636, 4.744579374118743, 4.5409165534327425, 4.469582031708931, 4.499948722520554, 4.507385347796484, 4.319872214821446, 3.988613798668611, 3.582233705208809, 3.141428667543586, 2.5933648454138454, 2.1317191871115315, 1.780754187097008, 1.6042818114294322, 1.5451655880119417, 1.5508867879839399, 1.649890898176385, 1.7747998242633607, 1.9626288652756667, 2.169991335510302, 2.453552927990488, 2.79169990180301, 3.054136027495221, 3.324502363456886, 3.5262370862755916, 3.7004850088712082, 3.865941752157974, 3.9519250500644216, 4.038239516223056, 4.162724992460561, 4.253480856283955, 4.231743378577748, 4.190342215932385, 4.194010806168623, 4.220963305289516, 4.429208567682769, 4.866164147460068, 5.489374175684736, 6.274764999442543, 7.337992604787688, 8.517261125222765, 9.663460140791857, 10.63965324975679, 11.582561402336342, 12.247377753803741, 12.474898559958998, 12.369942831799651, 12.125483795651641, 11.748132855586256, 11.127968655756735, 10.395627007301206, 9.277255468333891, 7.964939987878115, 6.494593264043951, 4.998479717520168, 3.647861793431371, 2.4579450971945986, 1.203123465312725, -0.03779748210079392, -1.2004012581035126, -2.2462471759999416, -3.1471605520866897, -4.014513547091406, -4.731706486455376, -5.324270168243974, -5.659110084688033, -5.817119266100856, -5.831903745259151, -5.703922070197004, -5.551801126043661, -5.363437880202166, -5.1281511425990765, -4.91084601711747, -4.774252450334728, -4.8268396594163105, -5.123366066295173, -5.56566984279992, -6.053421229950328, -6.440628732353319], \"yaxis\": \"y4\"}],\n",
              "                        {\"annotations\": [{\"font\": {\"size\": 12}, \"showarrow\": false, \"text\": \"<b><a href=\\\"https://in.tradingview.com/chart/66XmQfYy/?symbol=U\\\">U 2022-01-10</a> </b> <a href=\\\"https://seekingalpha.com/symbol/U\\\"> Seeking Alpha </a> <a href=\\\"https://news.google.com/search?for=U+stock when:7d&hl=en-US&gl=US&ceid=US%3Aen\\\"> Google News </a> Earning:2022-02-03 21:00:00<br><b>Close Price:</b>126.0 <b>ATH:</b>201.1 <b>Discount:</b>75.1 (59.6%)<br><b>Support:</b>119.9 (-4.8%) <b>Close Price:</b>126.0 <b>Resistance:</b>129.0 (2.4%) <br><b>Support -15%:</b>101.92 (-19.0%) <b>Close Price:</b>126.0 <b>Resistance +15%:</b>148.35 (17.5%) \", \"x\": 0.5, \"xanchor\": \"center\", \"xref\": \"paper\", \"y\": 1.0, \"yanchor\": \"bottom\", \"yref\": \"paper\"}], \"dragmode\": \"pan\", \"height\": 1400, \"margin\": {\"b\": 20, \"l\": 20, \"r\": 20, \"t\": 100}, \"showlegend\": true, \"template\": {\"data\": {\"bar\": [{\"error_x\": {\"color\": \"#2a3f5f\"}, \"error_y\": {\"color\": \"#2a3f5f\"}, \"marker\": {\"line\": {\"color\": \"#E5ECF6\", \"width\": 0.5}}, \"type\": \"bar\"}], \"barpolar\": [{\"marker\": {\"line\": {\"color\": \"#E5ECF6\", \"width\": 0.5}}, \"type\": \"barpolar\"}], \"carpet\": [{\"aaxis\": {\"endlinecolor\": \"#2a3f5f\", \"gridcolor\": \"white\", \"linecolor\": \"white\", \"minorgridcolor\": \"white\", \"startlinecolor\": \"#2a3f5f\"}, \"baxis\": {\"endlinecolor\": \"#2a3f5f\", \"gridcolor\": \"white\", \"linecolor\": \"white\", \"minorgridcolor\": \"white\", \"startlinecolor\": \"#2a3f5f\"}, \"type\": \"carpet\"}], \"choropleth\": [{\"colorbar\": {\"outlinewidth\": 0, \"ticks\": \"\"}, \"type\": \"choropleth\"}], \"contour\": [{\"colorbar\": {\"outlinewidth\": 0, \"ticks\": \"\"}, \"colorscale\": [[0.0, \"#0d0887\"], [0.1111111111111111, \"#46039f\"], [0.2222222222222222, \"#7201a8\"], [0.3333333333333333, \"#9c179e\"], [0.4444444444444444, \"#bd3786\"], [0.5555555555555556, \"#d8576b\"], [0.6666666666666666, \"#ed7953\"], [0.7777777777777778, \"#fb9f3a\"], [0.8888888888888888, \"#fdca26\"], [1.0, \"#f0f921\"]], \"type\": \"contour\"}], \"contourcarpet\": [{\"colorbar\": {\"outlinewidth\": 0, \"ticks\": \"\"}, \"type\": \"contourcarpet\"}], \"heatmap\": [{\"colorbar\": {\"outlinewidth\": 0, \"ticks\": \"\"}, \"colorscale\": [[0.0, \"#0d0887\"], [0.1111111111111111, \"#46039f\"], [0.2222222222222222, \"#7201a8\"], [0.3333333333333333, \"#9c179e\"], [0.4444444444444444, \"#bd3786\"], [0.5555555555555556, \"#d8576b\"], [0.6666666666666666, \"#ed7953\"], [0.7777777777777778, \"#fb9f3a\"], [0.8888888888888888, \"#fdca26\"], [1.0, \"#f0f921\"]], \"type\": \"heatmap\"}], \"heatmapgl\": [{\"colorbar\": {\"outlinewidth\": 0, \"ticks\": \"\"}, \"colorscale\": [[0.0, \"#0d0887\"], [0.1111111111111111, \"#46039f\"], [0.2222222222222222, \"#7201a8\"], [0.3333333333333333, \"#9c179e\"], [0.4444444444444444, \"#bd3786\"], [0.5555555555555556, \"#d8576b\"], [0.6666666666666666, \"#ed7953\"], [0.7777777777777778, \"#fb9f3a\"], [0.8888888888888888, \"#fdca26\"], [1.0, \"#f0f921\"]], \"type\": \"heatmapgl\"}], \"histogram\": [{\"marker\": {\"colorbar\": {\"outlinewidth\": 0, \"ticks\": \"\"}}, \"type\": \"histogram\"}], \"histogram2d\": [{\"colorbar\": {\"outlinewidth\": 0, \"ticks\": \"\"}, \"colorscale\": [[0.0, \"#0d0887\"], [0.1111111111111111, \"#46039f\"], [0.2222222222222222, \"#7201a8\"], [0.3333333333333333, \"#9c179e\"], [0.4444444444444444, \"#bd3786\"], [0.5555555555555556, \"#d8576b\"], [0.6666666666666666, \"#ed7953\"], [0.7777777777777778, \"#fb9f3a\"], [0.8888888888888888, \"#fdca26\"], [1.0, \"#f0f921\"]], \"type\": \"histogram2d\"}], \"histogram2dcontour\": [{\"colorbar\": {\"outlinewidth\": 0, \"ticks\": \"\"}, \"colorscale\": [[0.0, \"#0d0887\"], [0.1111111111111111, \"#46039f\"], [0.2222222222222222, \"#7201a8\"], [0.3333333333333333, \"#9c179e\"], [0.4444444444444444, \"#bd3786\"], [0.5555555555555556, \"#d8576b\"], [0.6666666666666666, \"#ed7953\"], [0.7777777777777778, \"#fb9f3a\"], [0.8888888888888888, \"#fdca26\"], [1.0, \"#f0f921\"]], \"type\": \"histogram2dcontour\"}], \"mesh3d\": [{\"colorbar\": {\"outlinewidth\": 0, \"ticks\": \"\"}, \"type\": \"mesh3d\"}], \"parcoords\": [{\"line\": {\"colorbar\": {\"outlinewidth\": 0, \"ticks\": \"\"}}, \"type\": \"parcoords\"}], \"pie\": [{\"automargin\": true, \"type\": \"pie\"}], \"scatter\": [{\"marker\": {\"colorbar\": {\"outlinewidth\": 0, \"ticks\": \"\"}}, \"type\": \"scatter\"}], \"scatter3d\": [{\"line\": {\"colorbar\": {\"outlinewidth\": 0, \"ticks\": \"\"}}, \"marker\": {\"colorbar\": {\"outlinewidth\": 0, \"ticks\": \"\"}}, \"type\": \"scatter3d\"}], \"scattercarpet\": [{\"marker\": {\"colorbar\": {\"outlinewidth\": 0, \"ticks\": \"\"}}, \"type\": \"scattercarpet\"}], \"scattergeo\": [{\"marker\": {\"colorbar\": {\"outlinewidth\": 0, \"ticks\": \"\"}}, \"type\": \"scattergeo\"}], \"scattergl\": [{\"marker\": {\"colorbar\": {\"outlinewidth\": 0, \"ticks\": \"\"}}, \"type\": \"scattergl\"}], \"scattermapbox\": [{\"marker\": {\"colorbar\": {\"outlinewidth\": 0, \"ticks\": \"\"}}, \"type\": \"scattermapbox\"}], \"scatterpolar\": [{\"marker\": {\"colorbar\": {\"outlinewidth\": 0, \"ticks\": \"\"}}, \"type\": \"scatterpolar\"}], \"scatterpolargl\": [{\"marker\": {\"colorbar\": {\"outlinewidth\": 0, \"ticks\": \"\"}}, \"type\": \"scatterpolargl\"}], \"scatterternary\": [{\"marker\": {\"colorbar\": {\"outlinewidth\": 0, \"ticks\": \"\"}}, \"type\": \"scatterternary\"}], \"surface\": [{\"colorbar\": {\"outlinewidth\": 0, \"ticks\": \"\"}, \"colorscale\": [[0.0, \"#0d0887\"], [0.1111111111111111, \"#46039f\"], [0.2222222222222222, \"#7201a8\"], [0.3333333333333333, \"#9c179e\"], [0.4444444444444444, \"#bd3786\"], [0.5555555555555556, \"#d8576b\"], [0.6666666666666666, \"#ed7953\"], [0.7777777777777778, \"#fb9f3a\"], [0.8888888888888888, \"#fdca26\"], [1.0, \"#f0f921\"]], \"type\": \"surface\"}], \"table\": [{\"cells\": {\"fill\": {\"color\": \"#EBF0F8\"}, \"line\": {\"color\": \"white\"}}, \"header\": {\"fill\": {\"color\": \"#C8D4E3\"}, \"line\": {\"color\": \"white\"}}, \"type\": \"table\"}]}, \"layout\": {\"annotationdefaults\": {\"arrowcolor\": \"#2a3f5f\", \"arrowhead\": 0, \"arrowwidth\": 1}, \"coloraxis\": {\"colorbar\": {\"outlinewidth\": 0, \"ticks\": \"\"}}, \"colorscale\": {\"diverging\": [[0, \"#8e0152\"], [0.1, \"#c51b7d\"], [0.2, \"#de77ae\"], [0.3, \"#f1b6da\"], [0.4, \"#fde0ef\"], [0.5, \"#f7f7f7\"], [0.6, \"#e6f5d0\"], [0.7, \"#b8e186\"], [0.8, \"#7fbc41\"], [0.9, \"#4d9221\"], [1, \"#276419\"]], \"sequential\": [[0.0, \"#0d0887\"], [0.1111111111111111, \"#46039f\"], [0.2222222222222222, \"#7201a8\"], [0.3333333333333333, \"#9c179e\"], [0.4444444444444444, \"#bd3786\"], [0.5555555555555556, \"#d8576b\"], [0.6666666666666666, \"#ed7953\"], [0.7777777777777778, \"#fb9f3a\"], [0.8888888888888888, \"#fdca26\"], [1.0, \"#f0f921\"]], \"sequentialminus\": [[0.0, \"#0d0887\"], [0.1111111111111111, \"#46039f\"], [0.2222222222222222, \"#7201a8\"], [0.3333333333333333, \"#9c179e\"], [0.4444444444444444, \"#bd3786\"], [0.5555555555555556, \"#d8576b\"], [0.6666666666666666, \"#ed7953\"], [0.7777777777777778, \"#fb9f3a\"], [0.8888888888888888, \"#fdca26\"], [1.0, \"#f0f921\"]]}, \"colorway\": [\"#636efa\", \"#EF553B\", \"#00cc96\", \"#ab63fa\", \"#FFA15A\", \"#19d3f3\", \"#FF6692\", \"#B6E880\", \"#FF97FF\", \"#FECB52\"], \"font\": {\"color\": \"#2a3f5f\"}, \"geo\": {\"bgcolor\": \"white\", \"lakecolor\": \"white\", \"landcolor\": \"#E5ECF6\", \"showlakes\": true, \"showland\": true, \"subunitcolor\": \"white\"}, \"hoverlabel\": {\"align\": \"left\"}, \"hovermode\": \"closest\", \"mapbox\": {\"style\": \"light\"}, \"paper_bgcolor\": \"white\", \"plot_bgcolor\": \"#E5ECF6\", \"polar\": {\"angularaxis\": {\"gridcolor\": \"white\", \"linecolor\": \"white\", \"ticks\": \"\"}, \"bgcolor\": \"#E5ECF6\", \"radialaxis\": {\"gridcolor\": \"white\", \"linecolor\": \"white\", \"ticks\": \"\"}}, \"scene\": {\"xaxis\": {\"backgroundcolor\": \"#E5ECF6\", \"gridcolor\": \"white\", \"gridwidth\": 2, \"linecolor\": \"white\", \"showbackground\": true, \"ticks\": \"\", \"zerolinecolor\": \"white\"}, \"yaxis\": {\"backgroundcolor\": \"#E5ECF6\", \"gridcolor\": \"white\", \"gridwidth\": 2, \"linecolor\": \"white\", \"showbackground\": true, \"ticks\": \"\", \"zerolinecolor\": \"white\"}, \"zaxis\": {\"backgroundcolor\": \"#E5ECF6\", \"gridcolor\": \"white\", \"gridwidth\": 2, \"linecolor\": \"white\", \"showbackground\": true, \"ticks\": \"\", \"zerolinecolor\": \"white\"}}, \"shapedefaults\": {\"line\": {\"color\": \"#2a3f5f\"}}, \"ternary\": {\"aaxis\": {\"gridcolor\": \"white\", \"linecolor\": \"white\", \"ticks\": \"\"}, \"baxis\": {\"gridcolor\": \"white\", \"linecolor\": \"white\", \"ticks\": \"\"}, \"bgcolor\": \"#E5ECF6\", \"caxis\": {\"gridcolor\": \"white\", \"linecolor\": \"white\", \"ticks\": \"\"}}, \"title\": {\"x\": 0.05}, \"xaxis\": {\"automargin\": true, \"gridcolor\": \"white\", \"linecolor\": \"white\", \"ticks\": \"\", \"title\": {\"standoff\": 15}, \"zerolinecolor\": \"white\", \"zerolinewidth\": 2}, \"yaxis\": {\"automargin\": true, \"gridcolor\": \"white\", \"linecolor\": \"white\", \"ticks\": \"\", \"title\": {\"standoff\": 15}, \"zerolinecolor\": \"white\", \"zerolinewidth\": 2}}}, \"width\": 1200, \"xaxis\": {\"anchor\": \"y\", \"domain\": [0.0, 1.0], \"matches\": \"x4\", \"range\": [\"2021-06-01\", \"2022-01-31\"], \"rangeslider\": {\"visible\": false}, \"showspikes\": true, \"showticklabels\": false, \"spikedash\": \"dash\", \"spikemode\": \"across\", \"spikesnap\": \"cursor\", \"type\": \"date\"}, \"xaxis2\": {\"anchor\": \"y2\", \"domain\": [0.0, 1.0], \"matches\": \"x4\", \"range\": [\"2021-06-01\", \"2022-01-31\"], \"showspikes\": true, \"showticklabels\": false, \"spikedash\": \"dash\", \"spikemode\": \"across\", \"spikesnap\": \"cursor\", \"type\": \"date\"}, \"xaxis3\": {\"anchor\": \"y3\", \"domain\": [0.0, 1.0], \"matches\": \"x4\", \"range\": [\"2021-06-01\", \"2022-01-31\"], \"showspikes\": true, \"showticklabels\": false, \"spikedash\": \"dash\", \"spikemode\": \"across\", \"spikesnap\": \"cursor\", \"type\": \"date\"}, \"xaxis4\": {\"anchor\": \"y4\", \"domain\": [0.0, 1.0], \"range\": [\"2021-06-01\", \"2022-01-31\"], \"showspikes\": true, \"spikedash\": \"dash\", \"spikemode\": \"across\", \"spikesnap\": \"cursor\", \"type\": \"date\"}, \"yaxis\": {\"anchor\": \"x\", \"domain\": [0.7116564417177915, 1.0], \"range\": [92.20899963378906, 210.0], \"showspikes\": true, \"spikedash\": \"dash\", \"spikemode\": \"across\", \"spikesnap\": \"cursor\"}, \"yaxis2\": {\"anchor\": \"x2\", \"domain\": [0.6515991820040901, 0.6996564417177915], \"showspikes\": true, \"spikedash\": \"dash\", \"spikemode\": \"across\", \"spikesnap\": \"cursor\"}, \"yaxis3\": {\"anchor\": \"x3\", \"domain\": [0.5434846625766871, 0.63959918200409], \"showspikes\": true, \"spikedash\": \"dash\", \"spikemode\": \"across\", \"spikesnap\": \"cursor\"}, \"yaxis4\": {\"anchor\": \"x4\", \"domain\": [0.27150920245398774, 0.3676237218813906], \"showspikes\": true, \"spikedash\": \"dash\", \"spikemode\": \"across\", \"spikesnap\": \"cursor\"}},\n",
              "                        {\"responsive\": true}\n",
              "                    ).then(function(){\n",
              "                            \n",
              "var gd = document.getElementById('72a09f0b-abf0-40e4-ac1d-8433a2040766');\n",
              "var x = new MutationObserver(function (mutations, observer) {{\n",
              "        var display = window.getComputedStyle(gd).display;\n",
              "        if (!display || display === 'none') {{\n",
              "            console.log([gd, 'removed!']);\n",
              "            Plotly.purge(gd);\n",
              "            observer.disconnect();\n",
              "        }}\n",
              "}});\n",
              "\n",
              "// Listen for the removal of the full notebook cells\n",
              "var notebookContainer = gd.closest('#notebook-container');\n",
              "if (notebookContainer) {{\n",
              "    x.observe(notebookContainer, {childList: true});\n",
              "}}\n",
              "\n",
              "// Listen for the clearing of the current output cell\n",
              "var outputEl = gd.closest('.output');\n",
              "if (outputEl) {{\n",
              "    x.observe(outputEl, {childList: true});\n",
              "}}\n",
              "\n",
              "                        })\n",
              "                };\n",
              "                \n",
              "            </script>\n",
              "        </div>\n",
              "</body>\n",
              "</html>"
            ]
          },
          "metadata": {}
        }
      ]
    },
    {
      "cell_type": "code",
      "source": [
        "def save_charts(symbols, predict):\n",
        "  error_log = []\n",
        "  for symbol in symbols:    \n",
        "    try:      \n",
        "        ticker = yf.Ticker(symbol)\n",
        "        df = get_stock_price(ticker,\"2019-01-01\")\n",
        "        #print(list(df.columns))\n",
        "        macd, soch, rsi = indicators(df)\n",
        "        df['RSI'] = rsi.rsi().to_numpy()\n",
        "        df['MACD_DIFF'] = macd.macd_diff().to_numpy()\n",
        "        df['MACD'] = macd.macd().to_numpy()\n",
        "        df['MACD_SIGNAL'] = macd.macd_signal().to_numpy()\n",
        "        if predict is True:\n",
        "          indicators_test_prediction, indicators_prediction = get_prediction_data(df,ticker)\n",
        "          get_chart(ticker, df, indicators_test_prediction, indicators_prediction)\n",
        "        else:\n",
        "          get_chart(ticker, df, None, None)\n",
        "    except:\n",
        "      print('Error ticker:' + symbol)\n",
        "      error_log.append(symbol)\n",
        "  if len(error_log) > 0:\n",
        "    print('Errors:', error_log)\n",
        "  return None"
      ],
      "metadata": {
        "id": "6N7QKxi9Nqx8"
      },
      "execution_count": 56,
      "outputs": []
    },
    {
      "cell_type": "code",
      "source": [
        "symbols = ['ABBV','AFRM','AMD','AMZN','APPS','ASTR','ATVI','BNGO',\n",
        "           'CAT','CCL','CHWY','COST','CRM',\n",
        "           'DIA','DIS','DKNG','ETSY','FFND','HOG','HUT','IWM','JETS','LOGI',\n",
        "           'LVS','MSFT','MU','NCLH','NFLX','NKE','NVDA','PLTR','PYPL','QQQ',\n",
        "           'RBLX','RKLB','SNAP','SOFI','SPY','SQ','TSLA','TWTR','U','UBER']\n",
        "\n",
        "symbols1 = ['AAPL','ARKG','ARKK','ARKQ',\n",
        "           'BA','CHPT','COIN','DDOG',\n",
        "           'DOCU','EA','FB','GOOGL']\n",
        "\n",
        "symbols2 = ['MA','MP',\n",
        "           'MRNA','MSTR','NNDM']\n",
        "\n",
        "symbols3 = ['PFE','PINS',\n",
        "           'ROKU','SBUX','SHOP','SOXL','SOXX']\n",
        "\n",
        "symbols4 = ['TDOC','TEN','TGT','TLT','TTD','UAA',\n",
        "           'V','VTI','WBA','VALE','WMT','WYNN','XLE','XLF','XLNX','ZM']\n",
        "\n",
        "symbols5 = ['U','PENN','QCOM','LCID','AAL']\n",
        "symbols6 = ['RIVN','HOOD']\n",
        "save_charts(symbols,True)\n",
        "#save_charts(symbols1,True)\n",
        "#save_charts(symbols2,True)\n",
        "#save_charts(symbols3,True)\n",
        "#save_charts(symbols4,True)\n",
        "#save_charts(symbols5,True)\n",
        "#save_charts(symbols6,True)"
      ],
      "metadata": {
        "id": "CMcLhG4wzKd6",
        "colab": {
          "base_uri": "https://localhost:8080/",
          "height": 1000
        },
        "outputId": "37fc97f9-75ca-44a1-cc88-7bf06208f10d"
      },
      "execution_count": 48,
      "outputs": [
        {
          "output_type": "stream",
          "name": "stdout",
          "text": [
            "\r[*********************100%***********************]  1 of 1 completed\n",
            "Get Stock Price ABBV done.\n",
            "Get prediction data ABBV done.\n",
            "Get options ABBV done.\n",
            "Get options ABBV done.\n",
            "Value    2022-02-02 13:30:00\n",
            "Name: Earnings Date, dtype: object\n",
            "Get calendar ABBV done.\n",
            "Get news ABBV error.\n"
          ]
        },
        {
          "output_type": "stream",
          "name": "stderr",
          "text": [
            "/usr/local/lib/python3.7/dist-packages/ipykernel_launcher.py:222: RuntimeWarning:\n",
            "\n",
            "divide by zero encountered in double_scalars\n",
            "\n",
            "/usr/local/lib/python3.7/dist-packages/ipykernel_launcher.py:223: RuntimeWarning:\n",
            "\n",
            "divide by zero encountered in double_scalars\n",
            "\n"
          ]
        },
        {
          "output_type": "stream",
          "name": "stdout",
          "text": [
            "Chart saved: /content/drive/MyDrive/models/charts/2022-01-10/ABBV.html\n",
            "Get chart ABBV done.\n",
            "[*********************100%***********************]  1 of 1 completed\n",
            "Get Stock Price AFRM done.\n",
            "Get prediction data AFRM done.\n",
            "Get options AFRM done.\n",
            "Get options AFRM done.\n",
            "0    2022-02-09 00:00:00\n",
            "1    2022-02-14 00:00:00\n",
            "Name: Earnings Date, dtype: object\n",
            "Get calendar AFRM done.\n",
            "Get news AFRM done.\n"
          ]
        },
        {
          "output_type": "stream",
          "name": "stderr",
          "text": [
            "/usr/local/lib/python3.7/dist-packages/ipykernel_launcher.py:222: RuntimeWarning:\n",
            "\n",
            "divide by zero encountered in double_scalars\n",
            "\n",
            "/usr/local/lib/python3.7/dist-packages/ipykernel_launcher.py:223: RuntimeWarning:\n",
            "\n",
            "divide by zero encountered in double_scalars\n",
            "\n"
          ]
        },
        {
          "output_type": "stream",
          "name": "stdout",
          "text": [
            "Chart saved: /content/drive/MyDrive/models/charts/2022-01-10/AFRM.html\n",
            "Get chart AFRM done.\n",
            "[*********************100%***********************]  1 of 1 completed\n",
            "Get Stock Price AMD done.\n",
            "Get prediction data AMD done.\n",
            "Get options AMD done.\n",
            "Get options AMD done.\n",
            "0    2022-01-24 00:00:00\n",
            "1    2022-01-28 00:00:00\n",
            "Name: Earnings Date, dtype: object\n",
            "Get calendar AMD done.\n",
            "Get news AMD error.\n"
          ]
        },
        {
          "output_type": "stream",
          "name": "stderr",
          "text": [
            "/usr/local/lib/python3.7/dist-packages/ipykernel_launcher.py:222: RuntimeWarning:\n",
            "\n",
            "divide by zero encountered in double_scalars\n",
            "\n",
            "/usr/local/lib/python3.7/dist-packages/ipykernel_launcher.py:223: RuntimeWarning:\n",
            "\n",
            "divide by zero encountered in double_scalars\n",
            "\n"
          ]
        },
        {
          "output_type": "stream",
          "name": "stdout",
          "text": [
            "Chart saved: /content/drive/MyDrive/models/charts/2022-01-10/AMD.html\n",
            "Get chart AMD done.\n",
            "[*********************100%***********************]  1 of 1 completed\n",
            "Get Stock Price AMZN done.\n",
            "Get prediction data AMZN done.\n",
            "Get options AMZN done.\n",
            "Get options AMZN done.\n",
            "0    2022-01-31 00:00:00\n",
            "1    2022-02-04 00:00:00\n",
            "Name: Earnings Date, dtype: object\n",
            "Get calendar AMZN done.\n",
            "Get news AMZN done.\n",
            "Chart saved: /content/drive/MyDrive/models/charts/2022-01-10/AMZN.html\n",
            "Get chart AMZN done.\n",
            "[*********************100%***********************]  1 of 1 completed\n",
            "Get Stock Price APPS done.\n",
            "Get prediction data APPS done.\n",
            "Get options APPS done.\n",
            "Get options APPS done.\n",
            "0    2022-02-01 21:00:00\n",
            "1    2022-02-07 21:00:00\n",
            "Name: Earnings Date, dtype: object\n",
            "Get calendar APPS done.\n",
            "Get news APPS error.\n"
          ]
        },
        {
          "output_type": "stream",
          "name": "stderr",
          "text": [
            "/usr/local/lib/python3.7/dist-packages/ipykernel_launcher.py:222: RuntimeWarning:\n",
            "\n",
            "divide by zero encountered in double_scalars\n",
            "\n",
            "/usr/local/lib/python3.7/dist-packages/ipykernel_launcher.py:223: RuntimeWarning:\n",
            "\n",
            "divide by zero encountered in double_scalars\n",
            "\n"
          ]
        },
        {
          "output_type": "stream",
          "name": "stdout",
          "text": [
            "Chart saved: /content/drive/MyDrive/models/charts/2022-01-10/APPS.html\n",
            "Get chart APPS done.\n",
            "[*********************100%***********************]  1 of 1 completed\n",
            "Get Stock Price ASTR done.\n",
            "Get prediction data ASTR done.\n",
            "Get options ASTR done.\n",
            "Get options ASTR done.\n",
            "Value    2021-11-11 00:00:00\n",
            "Name: Earnings Date, dtype: object\n",
            "Get calendar ASTR done.\n",
            "Get news ASTR error.\n"
          ]
        },
        {
          "output_type": "stream",
          "name": "stderr",
          "text": [
            "/usr/local/lib/python3.7/dist-packages/ipykernel_launcher.py:222: RuntimeWarning:\n",
            "\n",
            "divide by zero encountered in double_scalars\n",
            "\n",
            "/usr/local/lib/python3.7/dist-packages/ipykernel_launcher.py:223: RuntimeWarning:\n",
            "\n",
            "divide by zero encountered in double_scalars\n",
            "\n"
          ]
        },
        {
          "output_type": "stream",
          "name": "stdout",
          "text": [
            "Chart saved: /content/drive/MyDrive/models/charts/2022-01-10/ASTR.html\n",
            "Get chart ASTR done.\n",
            "[*********************100%***********************]  1 of 1 completed\n",
            "Get Stock Price ATVI done.\n",
            "Get prediction data ATVI done.\n",
            "Get options ATVI done.\n",
            "Get options ATVI done.\n",
            "0    2022-02-02 00:00:00\n",
            "1    2022-02-07 00:00:00\n",
            "Name: Earnings Date, dtype: object\n",
            "Get calendar ATVI done.\n",
            "Get news ATVI error.\n"
          ]
        },
        {
          "output_type": "stream",
          "name": "stderr",
          "text": [
            "/usr/local/lib/python3.7/dist-packages/ipykernel_launcher.py:222: RuntimeWarning:\n",
            "\n",
            "divide by zero encountered in double_scalars\n",
            "\n",
            "/usr/local/lib/python3.7/dist-packages/ipykernel_launcher.py:223: RuntimeWarning:\n",
            "\n",
            "divide by zero encountered in double_scalars\n",
            "\n"
          ]
        },
        {
          "output_type": "stream",
          "name": "stdout",
          "text": [
            "Chart saved: /content/drive/MyDrive/models/charts/2022-01-10/ATVI.html\n",
            "Get chart ATVI done.\n",
            "[*********************100%***********************]  1 of 1 completed\n",
            "Get Stock Price BNGO done.\n",
            "Get prediction data BNGO done.\n",
            "Get options BNGO done.\n",
            "Get options BNGO done.\n",
            "Series([], Name: Earnings Date, dtype: float64)\n",
            "Get calendar BNGO error.\n",
            "Get news BNGO error.\n"
          ]
        },
        {
          "output_type": "stream",
          "name": "stderr",
          "text": [
            "/usr/local/lib/python3.7/dist-packages/ipykernel_launcher.py:222: RuntimeWarning:\n",
            "\n",
            "divide by zero encountered in double_scalars\n",
            "\n",
            "/usr/local/lib/python3.7/dist-packages/ipykernel_launcher.py:223: RuntimeWarning:\n",
            "\n",
            "divide by zero encountered in double_scalars\n",
            "\n"
          ]
        },
        {
          "output_type": "stream",
          "name": "stdout",
          "text": [
            "Chart saved: /content/drive/MyDrive/models/charts/2022-01-10/BNGO.html\n",
            "Get chart BNGO done.\n",
            "[*********************100%***********************]  1 of 1 completed\n",
            "Get Stock Price CAT done.\n",
            "Get prediction data CAT done.\n",
            "Get options CAT done.\n",
            "Get options CAT done.\n",
            "0    2022-01-27 00:00:00\n",
            "1    2022-01-31 00:00:00\n",
            "Name: Earnings Date, dtype: object\n",
            "Get calendar CAT done.\n",
            "Get news CAT error.\n"
          ]
        },
        {
          "output_type": "stream",
          "name": "stderr",
          "text": [
            "/usr/local/lib/python3.7/dist-packages/ipykernel_launcher.py:222: RuntimeWarning:\n",
            "\n",
            "divide by zero encountered in double_scalars\n",
            "\n",
            "/usr/local/lib/python3.7/dist-packages/ipykernel_launcher.py:223: RuntimeWarning:\n",
            "\n",
            "divide by zero encountered in double_scalars\n",
            "\n"
          ]
        },
        {
          "output_type": "stream",
          "name": "stdout",
          "text": [
            "Chart saved: /content/drive/MyDrive/models/charts/2022-01-10/CAT.html\n",
            "Get chart CAT done.\n",
            "[*********************100%***********************]  1 of 1 completed\n",
            "Get Stock Price CCL done.\n",
            "Get prediction data CCL done.\n",
            "Get options CCL done.\n",
            "Get options CCL done.\n",
            "0    2022-01-10 00:00:00\n",
            "1    2022-01-14 00:00:00\n",
            "Name: Earnings Date, dtype: object\n",
            "Get calendar CCL done.\n",
            "Get news CCL error.\n"
          ]
        },
        {
          "output_type": "stream",
          "name": "stderr",
          "text": [
            "/usr/local/lib/python3.7/dist-packages/ipykernel_launcher.py:222: RuntimeWarning:\n",
            "\n",
            "divide by zero encountered in double_scalars\n",
            "\n",
            "/usr/local/lib/python3.7/dist-packages/ipykernel_launcher.py:223: RuntimeWarning:\n",
            "\n",
            "divide by zero encountered in double_scalars\n",
            "\n"
          ]
        },
        {
          "output_type": "stream",
          "name": "stdout",
          "text": [
            "Chart saved: /content/drive/MyDrive/models/charts/2022-01-10/CCL.html\n",
            "Get chart CCL done.\n",
            "[*********************100%***********************]  1 of 1 completed\n",
            "Get Stock Price CHWY done.\n",
            "Get prediction data CHWY done.\n",
            "Get options CHWY done.\n",
            "Get options CHWY done.\n",
            "0    2022-03-28 00:00:00\n",
            "1    2022-04-01 00:00:00\n",
            "Name: Earnings Date, dtype: object\n",
            "Get calendar CHWY done.\n",
            "Get news CHWY error.\n"
          ]
        },
        {
          "output_type": "stream",
          "name": "stderr",
          "text": [
            "/usr/local/lib/python3.7/dist-packages/ipykernel_launcher.py:222: RuntimeWarning:\n",
            "\n",
            "divide by zero encountered in double_scalars\n",
            "\n",
            "/usr/local/lib/python3.7/dist-packages/ipykernel_launcher.py:223: RuntimeWarning:\n",
            "\n",
            "divide by zero encountered in double_scalars\n",
            "\n"
          ]
        },
        {
          "output_type": "stream",
          "name": "stdout",
          "text": [
            "Chart saved: /content/drive/MyDrive/models/charts/2022-01-10/CHWY.html\n",
            "Get chart CHWY done.\n",
            "[*********************100%***********************]  1 of 1 completed\n",
            "Get Stock Price COST done.\n",
            "Get prediction data COST done.\n",
            "Get options COST done.\n",
            "Get options COST done.\n",
            "Value    2022-03-03 16:15:00\n",
            "Name: Earnings Date, dtype: object\n",
            "Get calendar COST done.\n",
            "Get news COST done.\n"
          ]
        },
        {
          "output_type": "stream",
          "name": "stderr",
          "text": [
            "/usr/local/lib/python3.7/dist-packages/ipykernel_launcher.py:222: RuntimeWarning:\n",
            "\n",
            "divide by zero encountered in double_scalars\n",
            "\n",
            "/usr/local/lib/python3.7/dist-packages/ipykernel_launcher.py:223: RuntimeWarning:\n",
            "\n",
            "divide by zero encountered in double_scalars\n",
            "\n"
          ]
        },
        {
          "output_type": "stream",
          "name": "stdout",
          "text": [
            "Chart saved: /content/drive/MyDrive/models/charts/2022-01-10/COST.html\n",
            "Get chart COST done.\n",
            "[*********************100%***********************]  1 of 1 completed\n",
            "Get Stock Price CRM done.\n",
            "Get prediction data CRM done.\n",
            "Get options CRM done.\n",
            "Get options CRM done.\n",
            "0    2022-02-23 10:59:00\n",
            "1    2022-02-28 12:00:00\n",
            "Name: Earnings Date, dtype: object\n",
            "Get calendar CRM done.\n",
            "Get news CRM error.\n"
          ]
        },
        {
          "output_type": "stream",
          "name": "stderr",
          "text": [
            "/usr/local/lib/python3.7/dist-packages/ipykernel_launcher.py:222: RuntimeWarning:\n",
            "\n",
            "divide by zero encountered in double_scalars\n",
            "\n",
            "/usr/local/lib/python3.7/dist-packages/ipykernel_launcher.py:223: RuntimeWarning:\n",
            "\n",
            "divide by zero encountered in double_scalars\n",
            "\n"
          ]
        },
        {
          "output_type": "stream",
          "name": "stdout",
          "text": [
            "Chart saved: /content/drive/MyDrive/models/charts/2022-01-10/CRM.html\n",
            "Get chart CRM done.\n",
            "[*********************100%***********************]  1 of 1 completed\n",
            "Get Stock Price DIA done.\n",
            "Get prediction data DIA done.\n",
            "Get options DIA done.\n",
            "Get options DIA done.\n",
            "Get news DIA done.\n"
          ]
        },
        {
          "output_type": "stream",
          "name": "stderr",
          "text": [
            "/usr/local/lib/python3.7/dist-packages/ipykernel_launcher.py:222: RuntimeWarning:\n",
            "\n",
            "divide by zero encountered in double_scalars\n",
            "\n",
            "/usr/local/lib/python3.7/dist-packages/ipykernel_launcher.py:223: RuntimeWarning:\n",
            "\n",
            "divide by zero encountered in double_scalars\n",
            "\n"
          ]
        },
        {
          "output_type": "stream",
          "name": "stdout",
          "text": [
            "Chart saved: /content/drive/MyDrive/models/charts/2022-01-10/DIA.html\n",
            "Get chart DIA done.\n",
            "[*********************100%***********************]  1 of 1 completed\n",
            "Get Stock Price DIS done.\n",
            "Get prediction data DIS done.\n",
            "Get options DIS done.\n",
            "Get options DIS done.\n",
            "Value    2022-02-09 21:00:00\n",
            "Name: Earnings Date, dtype: object\n",
            "Get calendar DIS done.\n",
            "Get news DIS done.\n"
          ]
        },
        {
          "output_type": "stream",
          "name": "stderr",
          "text": [
            "/usr/local/lib/python3.7/dist-packages/ipykernel_launcher.py:222: RuntimeWarning:\n",
            "\n",
            "divide by zero encountered in double_scalars\n",
            "\n",
            "/usr/local/lib/python3.7/dist-packages/ipykernel_launcher.py:223: RuntimeWarning:\n",
            "\n",
            "divide by zero encountered in double_scalars\n",
            "\n"
          ]
        },
        {
          "output_type": "stream",
          "name": "stdout",
          "text": [
            "Chart saved: /content/drive/MyDrive/models/charts/2022-01-10/DIS.html\n",
            "Get chart DIS done.\n",
            "[*********************100%***********************]  1 of 1 completed\n",
            "Get Stock Price DKNG done.\n",
            "Get prediction data DKNG done.\n",
            "Get options DKNG done.\n",
            "Get options DKNG done.\n",
            "0    2022-02-24 13:30:00\n",
            "1    2022-02-28 13:30:00\n",
            "Name: Earnings Date, dtype: object\n",
            "Get calendar DKNG done.\n",
            "Get news DKNG error.\n"
          ]
        },
        {
          "output_type": "stream",
          "name": "stderr",
          "text": [
            "/usr/local/lib/python3.7/dist-packages/ipykernel_launcher.py:222: RuntimeWarning:\n",
            "\n",
            "divide by zero encountered in double_scalars\n",
            "\n",
            "/usr/local/lib/python3.7/dist-packages/ipykernel_launcher.py:223: RuntimeWarning:\n",
            "\n",
            "divide by zero encountered in double_scalars\n",
            "\n"
          ]
        },
        {
          "output_type": "stream",
          "name": "stdout",
          "text": [
            "Chart saved: /content/drive/MyDrive/models/charts/2022-01-10/DKNG.html\n",
            "Get chart DKNG done.\n",
            "[*********************100%***********************]  1 of 1 completed\n",
            "Get Stock Price ETSY done.\n",
            "Get prediction data ETSY done.\n",
            "Get options ETSY done.\n",
            "Get options ETSY done.\n",
            "0    2022-02-23 00:00:00\n",
            "1    2022-02-28 00:00:00\n",
            "Name: Earnings Date, dtype: object\n",
            "Get calendar ETSY done.\n",
            "Get news ETSY error.\n"
          ]
        },
        {
          "output_type": "stream",
          "name": "stderr",
          "text": [
            "/usr/local/lib/python3.7/dist-packages/ipykernel_launcher.py:222: RuntimeWarning:\n",
            "\n",
            "divide by zero encountered in double_scalars\n",
            "\n",
            "/usr/local/lib/python3.7/dist-packages/ipykernel_launcher.py:223: RuntimeWarning:\n",
            "\n",
            "divide by zero encountered in double_scalars\n",
            "\n"
          ]
        },
        {
          "output_type": "stream",
          "name": "stdout",
          "text": [
            "Chart saved: /content/drive/MyDrive/models/charts/2022-01-10/ETSY.html\n",
            "Get chart ETSY done.\n",
            "[*********************100%***********************]  1 of 1 completed\n",
            "Get Stock Price FFND done.\n",
            "Error ticker:FFND\n",
            "[*********************100%***********************]  1 of 1 completed\n",
            "Get Stock Price HOG done.\n",
            "Get prediction data HOG done.\n",
            "Get options HOG done.\n",
            "Get options HOG done.\n",
            "0    2022-01-31 00:00:00\n",
            "1    2022-02-04 00:00:00\n",
            "Name: Earnings Date, dtype: object\n",
            "Get calendar HOG done.\n",
            "Get news HOG error.\n"
          ]
        },
        {
          "output_type": "stream",
          "name": "stderr",
          "text": [
            "/usr/local/lib/python3.7/dist-packages/ipykernel_launcher.py:222: RuntimeWarning:\n",
            "\n",
            "divide by zero encountered in double_scalars\n",
            "\n",
            "/usr/local/lib/python3.7/dist-packages/ipykernel_launcher.py:223: RuntimeWarning:\n",
            "\n",
            "divide by zero encountered in double_scalars\n",
            "\n"
          ]
        },
        {
          "output_type": "stream",
          "name": "stdout",
          "text": [
            "Chart saved: /content/drive/MyDrive/models/charts/2022-01-10/HOG.html\n",
            "Get chart HOG done.\n",
            "[*********************100%***********************]  1 of 1 completed\n",
            "Get Stock Price HUT done.\n",
            "Get prediction data HUT done.\n",
            "Get options HUT done.\n",
            "Get options HUT done.\n",
            "0   2022-03-23\n",
            "1   2022-03-28\n",
            "Name: Earnings Date, dtype: datetime64[ns]\n",
            "Get calendar HUT done.\n",
            "Get news HUT error.\n"
          ]
        },
        {
          "output_type": "stream",
          "name": "stderr",
          "text": [
            "/usr/local/lib/python3.7/dist-packages/ipykernel_launcher.py:222: RuntimeWarning:\n",
            "\n",
            "divide by zero encountered in double_scalars\n",
            "\n",
            "/usr/local/lib/python3.7/dist-packages/ipykernel_launcher.py:223: RuntimeWarning:\n",
            "\n",
            "divide by zero encountered in double_scalars\n",
            "\n"
          ]
        },
        {
          "output_type": "stream",
          "name": "stdout",
          "text": [
            "Chart saved: /content/drive/MyDrive/models/charts/2022-01-10/HUT.html\n",
            "Get chart HUT done.\n",
            "[*********************100%***********************]  1 of 1 completed\n",
            "Get Stock Price IWM done.\n",
            "Get prediction data IWM done.\n",
            "Get options IWM done.\n",
            "Get options IWM done.\n",
            "Get news IWM error.\n"
          ]
        },
        {
          "output_type": "stream",
          "name": "stderr",
          "text": [
            "/usr/local/lib/python3.7/dist-packages/ipykernel_launcher.py:222: RuntimeWarning:\n",
            "\n",
            "divide by zero encountered in double_scalars\n",
            "\n",
            "/usr/local/lib/python3.7/dist-packages/ipykernel_launcher.py:223: RuntimeWarning:\n",
            "\n",
            "divide by zero encountered in double_scalars\n",
            "\n"
          ]
        },
        {
          "output_type": "stream",
          "name": "stdout",
          "text": [
            "Chart saved: /content/drive/MyDrive/models/charts/2022-01-10/IWM.html\n",
            "Get chart IWM done.\n",
            "[*********************100%***********************]  1 of 1 completed\n",
            "Get Stock Price JETS done.\n",
            "Get prediction data JETS done.\n",
            "Get options JETS done.\n",
            "Get options JETS done.\n",
            "Get news JETS error.\n"
          ]
        },
        {
          "output_type": "stream",
          "name": "stderr",
          "text": [
            "/usr/local/lib/python3.7/dist-packages/ipykernel_launcher.py:222: RuntimeWarning:\n",
            "\n",
            "divide by zero encountered in double_scalars\n",
            "\n",
            "/usr/local/lib/python3.7/dist-packages/ipykernel_launcher.py:223: RuntimeWarning:\n",
            "\n",
            "divide by zero encountered in double_scalars\n",
            "\n"
          ]
        },
        {
          "output_type": "stream",
          "name": "stdout",
          "text": [
            "Chart saved: /content/drive/MyDrive/models/charts/2022-01-10/JETS.html\n",
            "Get chart JETS done.\n",
            "[*********************100%***********************]  1 of 1 completed\n",
            "Get Stock Price LOGI done.\n",
            "Model /content/drive/MyDrive/models/LOGI_14_1_indicators_10.h5 does not exists.\n",
            "Model /content/drive/MyDrive/models/LOGI_14_1_indicators_10.h5 compiled.\n",
            "Saved model /content/drive/MyDrive/models/LOGI_14_1_indicators_10.h5\n"
          ]
        },
        {
          "output_type": "display_data",
          "data": {
            "image/png": "[encoded data removed]",
            "text/plain": [
              "<Figure size 432x288 with 1 Axes>"
            ]
          },
          "metadata": {
            "needs_background": "light"
          }
        },
        {
          "output_type": "stream",
          "name": "stdout",
          "text": [
            "Get prediction data LOGI done.\n",
            "Get options LOGI done.\n",
            "Get options LOGI done.\n",
            "Series([], Name: Earnings Date, dtype: float64)\n",
            "Get calendar LOGI error.\n",
            "Get news LOGI done.\n"
          ]
        },
        {
          "output_type": "stream",
          "name": "stderr",
          "text": [
            "/usr/local/lib/python3.7/dist-packages/ipykernel_launcher.py:222: RuntimeWarning:\n",
            "\n",
            "divide by zero encountered in double_scalars\n",
            "\n",
            "/usr/local/lib/python3.7/dist-packages/ipykernel_launcher.py:223: RuntimeWarning:\n",
            "\n",
            "divide by zero encountered in double_scalars\n",
            "\n"
          ]
        },
        {
          "output_type": "stream",
          "name": "stdout",
          "text": [
            "Chart saved: /content/drive/MyDrive/models/charts/2022-01-10/LOGI.html\n",
            "Get chart LOGI done.\n",
            "[*********************100%***********************]  1 of 1 completed\n",
            "Get Stock Price LVS done.\n",
            "Get prediction data LVS done.\n",
            "Get options LVS done.\n",
            "Get options LVS done.\n",
            "0    2022-01-25 10:59:00\n",
            "1    2022-01-31 12:00:00\n",
            "Name: Earnings Date, dtype: object\n",
            "Get calendar LVS done.\n",
            "Get news LVS error.\n"
          ]
        },
        {
          "output_type": "stream",
          "name": "stderr",
          "text": [
            "/usr/local/lib/python3.7/dist-packages/ipykernel_launcher.py:222: RuntimeWarning:\n",
            "\n",
            "divide by zero encountered in double_scalars\n",
            "\n",
            "/usr/local/lib/python3.7/dist-packages/ipykernel_launcher.py:223: RuntimeWarning:\n",
            "\n",
            "divide by zero encountered in double_scalars\n",
            "\n"
          ]
        },
        {
          "output_type": "stream",
          "name": "stdout",
          "text": [
            "Chart saved: /content/drive/MyDrive/models/charts/2022-01-10/LVS.html\n",
            "Get chart LVS done.\n",
            "[*********************100%***********************]  1 of 1 completed\n",
            "Get Stock Price MSFT done.\n",
            "Get prediction data MSFT done.\n",
            "Get options MSFT done.\n",
            "Get options MSFT done.\n",
            "0    2022-01-24 00:00:00\n",
            "1    2022-01-28 00:00:00\n",
            "Name: Earnings Date, dtype: object\n",
            "Get calendar MSFT done.\n",
            "Get news MSFT error.\n"
          ]
        },
        {
          "output_type": "stream",
          "name": "stderr",
          "text": [
            "/usr/local/lib/python3.7/dist-packages/ipykernel_launcher.py:222: RuntimeWarning:\n",
            "\n",
            "divide by zero encountered in double_scalars\n",
            "\n",
            "/usr/local/lib/python3.7/dist-packages/ipykernel_launcher.py:223: RuntimeWarning:\n",
            "\n",
            "divide by zero encountered in double_scalars\n",
            "\n"
          ]
        },
        {
          "output_type": "stream",
          "name": "stdout",
          "text": [
            "Chart saved: /content/drive/MyDrive/models/charts/2022-01-10/MSFT.html\n",
            "Get chart MSFT done.\n",
            "[*********************100%***********************]  1 of 1 completed\n",
            "Get Stock Price MU done.\n",
            "Get prediction data MU done.\n",
            "Get options MU done.\n",
            "Get options MU done.\n",
            "0    2022-03-29 10:59:00\n",
            "1    2022-04-04 12:00:00\n",
            "Name: Earnings Date, dtype: object\n",
            "Get calendar MU done.\n",
            "Get news MU done.\n"
          ]
        },
        {
          "output_type": "stream",
          "name": "stderr",
          "text": [
            "/usr/local/lib/python3.7/dist-packages/ipykernel_launcher.py:222: RuntimeWarning:\n",
            "\n",
            "divide by zero encountered in double_scalars\n",
            "\n",
            "/usr/local/lib/python3.7/dist-packages/ipykernel_launcher.py:223: RuntimeWarning:\n",
            "\n",
            "divide by zero encountered in double_scalars\n",
            "\n"
          ]
        },
        {
          "output_type": "stream",
          "name": "stdout",
          "text": [
            "Chart saved: /content/drive/MyDrive/models/charts/2022-01-10/MU.html\n",
            "Get chart MU done.\n",
            "[*********************100%***********************]  1 of 1 completed\n",
            "Get Stock Price NCLH done.\n",
            "Get prediction data NCLH done.\n",
            "Get options NCLH done.\n",
            "Get options NCLH done.\n",
            "0    2022-02-23 00:00:00\n",
            "1    2022-02-28 00:00:00\n",
            "Name: Earnings Date, dtype: object\n",
            "Get calendar NCLH done.\n",
            "Get news NCLH error.\n"
          ]
        },
        {
          "output_type": "stream",
          "name": "stderr",
          "text": [
            "/usr/local/lib/python3.7/dist-packages/ipykernel_launcher.py:222: RuntimeWarning:\n",
            "\n",
            "divide by zero encountered in double_scalars\n",
            "\n",
            "/usr/local/lib/python3.7/dist-packages/ipykernel_launcher.py:223: RuntimeWarning:\n",
            "\n",
            "divide by zero encountered in double_scalars\n",
            "\n"
          ]
        },
        {
          "output_type": "stream",
          "name": "stdout",
          "text": [
            "Chart saved: /content/drive/MyDrive/models/charts/2022-01-10/NCLH.html\n",
            "Get chart NCLH done.\n",
            "[*********************100%***********************]  1 of 1 completed\n",
            "Get Stock Price NFLX done.\n",
            "Get prediction data NFLX done.\n",
            "Get options NFLX done.\n",
            "Get options NFLX done.\n",
            "Value    2022-01-20 00:00:00\n",
            "Name: Earnings Date, dtype: object\n",
            "Get calendar NFLX done.\n",
            "Get news NFLX error.\n"
          ]
        },
        {
          "output_type": "stream",
          "name": "stderr",
          "text": [
            "/usr/local/lib/python3.7/dist-packages/ipykernel_launcher.py:222: RuntimeWarning:\n",
            "\n",
            "divide by zero encountered in double_scalars\n",
            "\n",
            "/usr/local/lib/python3.7/dist-packages/ipykernel_launcher.py:223: RuntimeWarning:\n",
            "\n",
            "divide by zero encountered in double_scalars\n",
            "\n"
          ]
        },
        {
          "output_type": "stream",
          "name": "stdout",
          "text": [
            "Chart saved: /content/drive/MyDrive/models/charts/2022-01-10/NFLX.html\n",
            "Get chart NFLX done.\n",
            "[*********************100%***********************]  1 of 1 completed\n",
            "Get Stock Price NKE done.\n",
            "Get prediction data NKE done.\n",
            "Get options NKE done.\n",
            "Get options NKE done.\n",
            "0    2022-03-16 00:00:00\n",
            "1    2022-03-21 00:00:00\n",
            "Name: Earnings Date, dtype: object\n",
            "Get calendar NKE done.\n",
            "Get news NKE error.\n"
          ]
        },
        {
          "output_type": "stream",
          "name": "stderr",
          "text": [
            "/usr/local/lib/python3.7/dist-packages/ipykernel_launcher.py:222: RuntimeWarning:\n",
            "\n",
            "divide by zero encountered in double_scalars\n",
            "\n",
            "/usr/local/lib/python3.7/dist-packages/ipykernel_launcher.py:223: RuntimeWarning:\n",
            "\n",
            "divide by zero encountered in double_scalars\n",
            "\n"
          ]
        },
        {
          "output_type": "stream",
          "name": "stdout",
          "text": [
            "Chart saved: /content/drive/MyDrive/models/charts/2022-01-10/NKE.html\n",
            "Get chart NKE done.\n",
            "[*********************100%***********************]  1 of 1 completed\n",
            "Get Stock Price NVDA done.\n",
            "Get prediction data NVDA done.\n",
            "Get options NVDA done.\n",
            "Get options NVDA done.\n",
            "0    2022-02-22 10:59:00\n",
            "1    2022-02-28 12:00:00\n",
            "Name: Earnings Date, dtype: object\n",
            "Get calendar NVDA done.\n",
            "Get news NVDA done.\n"
          ]
        },
        {
          "output_type": "stream",
          "name": "stderr",
          "text": [
            "/usr/local/lib/python3.7/dist-packages/ipykernel_launcher.py:222: RuntimeWarning:\n",
            "\n",
            "divide by zero encountered in double_scalars\n",
            "\n",
            "/usr/local/lib/python3.7/dist-packages/ipykernel_launcher.py:223: RuntimeWarning:\n",
            "\n",
            "divide by zero encountered in double_scalars\n",
            "\n"
          ]
        },
        {
          "output_type": "stream",
          "name": "stdout",
          "text": [
            "Chart saved: /content/drive/MyDrive/models/charts/2022-01-10/NVDA.html\n",
            "Get chart NVDA done.\n",
            "[*********************100%***********************]  1 of 1 completed\n",
            "Get Stock Price PLTR done.\n",
            "Get prediction data PLTR done.\n",
            "Get options PLTR done.\n",
            "Get options PLTR done.\n",
            "0    2022-02-14 00:00:00\n",
            "1    2022-02-18 00:00:00\n",
            "Name: Earnings Date, dtype: object\n",
            "Get calendar PLTR done.\n",
            "Get news PLTR error.\n"
          ]
        },
        {
          "output_type": "stream",
          "name": "stderr",
          "text": [
            "/usr/local/lib/python3.7/dist-packages/ipykernel_launcher.py:222: RuntimeWarning:\n",
            "\n",
            "divide by zero encountered in double_scalars\n",
            "\n",
            "/usr/local/lib/python3.7/dist-packages/ipykernel_launcher.py:223: RuntimeWarning:\n",
            "\n",
            "divide by zero encountered in double_scalars\n",
            "\n"
          ]
        },
        {
          "output_type": "stream",
          "name": "stdout",
          "text": [
            "Chart saved: /content/drive/MyDrive/models/charts/2022-01-10/PLTR.html\n",
            "Get chart PLTR done.\n",
            "[*********************100%***********************]  1 of 1 completed\n",
            "Get Stock Price PYPL done.\n",
            "Get prediction data PYPL done.\n",
            "Get options PYPL done.\n",
            "Get options PYPL done.\n",
            "0    2022-02-01 00:00:00\n",
            "1    2022-02-07 00:00:00\n",
            "Name: Earnings Date, dtype: object\n",
            "Get calendar PYPL done.\n",
            "Get news PYPL error.\n"
          ]
        },
        {
          "output_type": "stream",
          "name": "stderr",
          "text": [
            "/usr/local/lib/python3.7/dist-packages/ipykernel_launcher.py:222: RuntimeWarning:\n",
            "\n",
            "divide by zero encountered in double_scalars\n",
            "\n",
            "/usr/local/lib/python3.7/dist-packages/ipykernel_launcher.py:223: RuntimeWarning:\n",
            "\n",
            "divide by zero encountered in double_scalars\n",
            "\n"
          ]
        },
        {
          "output_type": "stream",
          "name": "stdout",
          "text": [
            "Chart saved: /content/drive/MyDrive/models/charts/2022-01-10/PYPL.html\n",
            "Get chart PYPL done.\n",
            "[*********************100%***********************]  1 of 1 completed\n",
            "Get Stock Price QQQ done.\n",
            "Get prediction data QQQ done.\n",
            "Get options QQQ done.\n",
            "Get options QQQ done.\n",
            "Get news QQQ error.\n"
          ]
        },
        {
          "output_type": "stream",
          "name": "stderr",
          "text": [
            "/usr/local/lib/python3.7/dist-packages/ipykernel_launcher.py:222: RuntimeWarning:\n",
            "\n",
            "divide by zero encountered in double_scalars\n",
            "\n",
            "/usr/local/lib/python3.7/dist-packages/ipykernel_launcher.py:223: RuntimeWarning:\n",
            "\n",
            "divide by zero encountered in double_scalars\n",
            "\n"
          ]
        },
        {
          "output_type": "stream",
          "name": "stdout",
          "text": [
            "Chart saved: /content/drive/MyDrive/models/charts/2022-01-10/QQQ.html\n",
            "Get chart QQQ done.\n",
            "[*********************100%***********************]  1 of 1 completed\n",
            "Get Stock Price RBLX done.\n",
            "Get prediction data RBLX done.\n",
            "Get options RBLX done.\n",
            "Get options RBLX done.\n",
            "Value    2021-11-08 00:00:00\n",
            "Name: Earnings Date, dtype: object\n",
            "Get calendar RBLX done.\n",
            "Get news RBLX error.\n"
          ]
        },
        {
          "output_type": "stream",
          "name": "stderr",
          "text": [
            "/usr/local/lib/python3.7/dist-packages/ipykernel_launcher.py:222: RuntimeWarning:\n",
            "\n",
            "divide by zero encountered in double_scalars\n",
            "\n",
            "/usr/local/lib/python3.7/dist-packages/ipykernel_launcher.py:223: RuntimeWarning:\n",
            "\n",
            "divide by zero encountered in double_scalars\n",
            "\n"
          ]
        },
        {
          "output_type": "stream",
          "name": "stdout",
          "text": [
            "Chart saved: /content/drive/MyDrive/models/charts/2022-01-10/RBLX.html\n",
            "Get chart RBLX done.\n",
            "[*********************100%***********************]  1 of 1 completed\n",
            "Get Stock Price RKLB done.\n",
            "Get prediction data RKLB done.\n",
            "Get options RKLB done.\n",
            "Get options RKLB done.\n",
            "Series([], Name: Earnings Date, dtype: float64)\n",
            "Get calendar RKLB error.\n",
            "Get news RKLB error.\n"
          ]
        },
        {
          "output_type": "stream",
          "name": "stderr",
          "text": [
            "/usr/local/lib/python3.7/dist-packages/ipykernel_launcher.py:222: RuntimeWarning:\n",
            "\n",
            "divide by zero encountered in double_scalars\n",
            "\n",
            "/usr/local/lib/python3.7/dist-packages/ipykernel_launcher.py:223: RuntimeWarning:\n",
            "\n",
            "divide by zero encountered in double_scalars\n",
            "\n"
          ]
        },
        {
          "output_type": "stream",
          "name": "stdout",
          "text": [
            "Chart saved: /content/drive/MyDrive/models/charts/2022-01-10/RKLB.html\n",
            "Get chart RKLB done.\n",
            "[*********************100%***********************]  1 of 1 completed\n",
            "Get Stock Price SNAP done.\n",
            "Get prediction data SNAP done.\n",
            "Get options SNAP done.\n",
            "Get options SNAP done.\n",
            "0    2022-02-02 00:00:00\n",
            "1    2022-02-07 00:00:00\n",
            "Name: Earnings Date, dtype: object\n",
            "Get calendar SNAP done.\n",
            "Get news SNAP error.\n"
          ]
        },
        {
          "output_type": "stream",
          "name": "stderr",
          "text": [
            "/usr/local/lib/python3.7/dist-packages/ipykernel_launcher.py:222: RuntimeWarning:\n",
            "\n",
            "divide by zero encountered in double_scalars\n",
            "\n",
            "/usr/local/lib/python3.7/dist-packages/ipykernel_launcher.py:223: RuntimeWarning:\n",
            "\n",
            "divide by zero encountered in double_scalars\n",
            "\n"
          ]
        },
        {
          "output_type": "stream",
          "name": "stdout",
          "text": [
            "Chart saved: /content/drive/MyDrive/models/charts/2022-01-10/SNAP.html\n",
            "Get chart SNAP done.\n",
            "[*********************100%***********************]  1 of 1 completed\n",
            "Get Stock Price SOFI done.\n",
            "Get prediction data SOFI done.\n",
            "Get options SOFI done.\n",
            "Get options SOFI done.\n",
            "Value    2021-11-10 00:00:00\n",
            "Name: Earnings Date, dtype: object\n",
            "Get calendar SOFI done.\n",
            "Get news SOFI error.\n"
          ]
        },
        {
          "output_type": "stream",
          "name": "stderr",
          "text": [
            "/usr/local/lib/python3.7/dist-packages/ipykernel_launcher.py:222: RuntimeWarning:\n",
            "\n",
            "divide by zero encountered in double_scalars\n",
            "\n",
            "/usr/local/lib/python3.7/dist-packages/ipykernel_launcher.py:223: RuntimeWarning:\n",
            "\n",
            "divide by zero encountered in double_scalars\n",
            "\n"
          ]
        },
        {
          "output_type": "stream",
          "name": "stdout",
          "text": [
            "Chart saved: /content/drive/MyDrive/models/charts/2022-01-10/SOFI.html\n",
            "Get chart SOFI done.\n",
            "[*********************100%***********************]  1 of 1 completed\n",
            "Get Stock Price SPY done.\n",
            "Get prediction data SPY done.\n",
            "Get options SPY done.\n",
            "Get options SPY done.\n",
            "Get news SPY error.\n"
          ]
        },
        {
          "output_type": "stream",
          "name": "stderr",
          "text": [
            "/usr/local/lib/python3.7/dist-packages/ipykernel_launcher.py:222: RuntimeWarning:\n",
            "\n",
            "divide by zero encountered in double_scalars\n",
            "\n",
            "/usr/local/lib/python3.7/dist-packages/ipykernel_launcher.py:223: RuntimeWarning:\n",
            "\n",
            "divide by zero encountered in double_scalars\n",
            "\n"
          ]
        },
        {
          "output_type": "stream",
          "name": "stdout",
          "text": [
            "Chart saved: /content/drive/MyDrive/models/charts/2022-01-10/SPY.html\n",
            "Get chart SPY done.\n",
            "[*********************100%***********************]  1 of 1 completed\n",
            "Get Stock Price SQ done.\n",
            "Get prediction data SQ done.\n",
            "Get options SQ done.\n",
            "Get options SQ done.\n",
            "0    2022-02-21 00:00:00\n",
            "1    2022-02-25 00:00:00\n",
            "Name: Earnings Date, dtype: object\n",
            "Get calendar SQ done.\n",
            "Get news SQ done.\n"
          ]
        },
        {
          "output_type": "stream",
          "name": "stderr",
          "text": [
            "/usr/local/lib/python3.7/dist-packages/ipykernel_launcher.py:222: RuntimeWarning:\n",
            "\n",
            "divide by zero encountered in double_scalars\n",
            "\n",
            "/usr/local/lib/python3.7/dist-packages/ipykernel_launcher.py:223: RuntimeWarning:\n",
            "\n",
            "divide by zero encountered in double_scalars\n",
            "\n"
          ]
        },
        {
          "output_type": "stream",
          "name": "stdout",
          "text": [
            "Chart saved: /content/drive/MyDrive/models/charts/2022-01-10/SQ.html\n",
            "Get chart SQ done.\n",
            "[*********************100%***********************]  1 of 1 completed\n",
            "Get Stock Price TSLA done.\n",
            "Get prediction data TSLA done.\n",
            "Get options TSLA done.\n",
            "Get options TSLA done.\n",
            "0    2022-01-25 21:00:00\n",
            "1    2022-01-31 21:00:00\n",
            "Name: Earnings Date, dtype: object\n",
            "Get calendar TSLA done.\n",
            "Get news TSLA done.\n"
          ]
        },
        {
          "output_type": "stream",
          "name": "stderr",
          "text": [
            "/usr/local/lib/python3.7/dist-packages/ipykernel_launcher.py:222: RuntimeWarning:\n",
            "\n",
            "divide by zero encountered in double_scalars\n",
            "\n",
            "/usr/local/lib/python3.7/dist-packages/ipykernel_launcher.py:223: RuntimeWarning:\n",
            "\n",
            "divide by zero encountered in double_scalars\n",
            "\n"
          ]
        },
        {
          "output_type": "stream",
          "name": "stdout",
          "text": [
            "Chart saved: /content/drive/MyDrive/models/charts/2022-01-10/TSLA.html\n",
            "Get chart TSLA done.\n",
            "[*********************100%***********************]  1 of 1 completed\n",
            "Get Stock Price TWTR done.\n",
            "Get prediction data TWTR done.\n",
            "Get options TWTR done.\n",
            "Get options TWTR done.\n",
            "Value    2022-02-10 00:00:00\n",
            "Name: Earnings Date, dtype: object\n",
            "Get calendar TWTR done.\n",
            "Get news TWTR error.\n",
            "Chart saved: /content/drive/MyDrive/models/charts/2022-01-10/TWTR.html\n",
            "Get chart TWTR done.\n",
            "[*********************100%***********************]  1 of 1 completed\n",
            "Get Stock Price U done.\n",
            "Get prediction data U done.\n",
            "Get options U done.\n",
            "Get options U done.\n",
            "0    2022-02-02 00:00:00\n",
            "1    2022-02-07 00:00:00\n",
            "Name: Earnings Date, dtype: object\n",
            "Get calendar U done.\n",
            "Get news U error.\n"
          ]
        },
        {
          "output_type": "stream",
          "name": "stderr",
          "text": [
            "/usr/local/lib/python3.7/dist-packages/ipykernel_launcher.py:222: RuntimeWarning:\n",
            "\n",
            "divide by zero encountered in double_scalars\n",
            "\n",
            "/usr/local/lib/python3.7/dist-packages/ipykernel_launcher.py:223: RuntimeWarning:\n",
            "\n",
            "divide by zero encountered in double_scalars\n",
            "\n"
          ]
        },
        {
          "output_type": "stream",
          "name": "stdout",
          "text": [
            "Chart saved: /content/drive/MyDrive/models/charts/2022-01-10/U.html\n",
            "Get chart U done.\n",
            "[*********************100%***********************]  1 of 1 completed\n",
            "Get Stock Price UBER done.\n",
            "Get prediction data UBER done.\n",
            "Get options UBER done.\n",
            "Get options UBER done.\n",
            "Value    2022-02-09 00:00:00\n",
            "Name: Earnings Date, dtype: object\n",
            "Get calendar UBER done.\n",
            "Get news UBER error.\n"
          ]
        },
        {
          "output_type": "stream",
          "name": "stderr",
          "text": [
            "/usr/local/lib/python3.7/dist-packages/ipykernel_launcher.py:222: RuntimeWarning:\n",
            "\n",
            "divide by zero encountered in double_scalars\n",
            "\n",
            "/usr/local/lib/python3.7/dist-packages/ipykernel_launcher.py:223: RuntimeWarning:\n",
            "\n",
            "divide by zero encountered in double_scalars\n",
            "\n"
          ]
        },
        {
          "output_type": "stream",
          "name": "stdout",
          "text": [
            "Chart saved: /content/drive/MyDrive/models/charts/2022-01-10/UBER.html\n",
            "Get chart UBER done.\n",
            "Errors: ['FFND']\n"
          ]
        }
      ]
    }
  ]
}