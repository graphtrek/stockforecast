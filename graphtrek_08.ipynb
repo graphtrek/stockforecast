{
  "nbformat": 4,
  "nbformat_minor": 0,
  "metadata": {
    "colab": {
      "name": "graphtrek_08.ipynb",
      "provenance": [],
      "include_colab_link": true
    },
    "kernelspec": {
      "name": "python3",
      "display_name": "Python 3"
    },
    "language_info": {
      "name": "python"
    }
  },
  "cells": [
    {
      "cell_type": "markdown",
      "metadata": {
        "id": "view-in-github",
        "colab_type": "text"
      },
      "source": [
        "<a href=\"https://colab.research.google.com/github/graphtrek/stockforecast/blob/main/graphtrek_08.ipynb\" target=\"_parent\"><img src=\"https://colab.research.google.com/assets/colab-badge.svg\" alt=\"Open In Colab\"/></a>"
      ]
    },
    {
      "cell_type": "code",
      "metadata": {
        "id": "sZPC3Z9u3evF"
      },
      "source": [
        "import numpy as np\n",
        "from tensorflow.keras.models import Sequential\n",
        "from tensorflow.keras.layers import LSTM\n",
        "from tensorflow.keras.optimizers import Adam\n",
        "from tensorflow.keras.losses import MAE\n",
        "from tensorflow.keras.layers import Dense, Dropout\n",
        "from tensorflow import keras\n",
        "from datetime import datetime, timedelta\n",
        "import pandas as pd\n",
        "import os, time\n",
        "from matplotlib import pyplot as plt\n",
        "from sklearn.preprocessing import StandardScaler\n",
        "import seaborn as sns\n",
        "import plotly.graph_objects as go\n",
        "import plotly.express as px\n",
        "from sklearn.preprocessing import MinMaxScaler\n",
        "from pandas.tseries.holiday import USFederalHolidayCalendar\n",
        "from pandas.tseries.offsets import CustomBusinessDay\n",
        "from keras.preprocessing.sequence import TimeseriesGenerator\n",
        "from tensorflow.keras.models import Sequential\n",
        "from tensorflow.keras.layers import LSTM\n",
        "from tensorflow.keras.optimizers import Adam\n",
        "from tensorflow.keras.losses import MAE\n",
        "from tensorflow.keras.layers import Dense, Dropout\n",
        "from tensorflow import keras\n",
        "from datetime import datetime, timedelta\n",
        "import pandas as pd\n",
        "import os, time\n",
        "from matplotlib import pyplot as plt\n",
        "from sklearn.preprocessing import StandardScaler\n",
        "import seaborn as sns\n",
        "import plotly.graph_objects as go\n",
        "import plotly.express as px\n",
        "from plotly.subplots import make_subplots\n",
        "from sklearn.preprocessing import MinMaxScaler\n",
        "from pandas.tseries.holiday import USFederalHolidayCalendar\n",
        "from pandas.tseries.offsets import CustomBusinessDay\n",
        "from keras.preprocessing.sequence import TimeseriesGenerator\n",
        "from pathlib import Path"
      ],
      "execution_count": 74,
      "outputs": []
    },
    {
      "cell_type": "code",
      "metadata": {
        "id": "HKYStAEQ3mh6"
      },
      "source": [
        "ticker = \"PYPL\" # QQQ, SPY, VTI JETS, XLE, XLF, XLNX, ARKK, ARKG, ARKQ, ARKF, PYPL, V\n",
        "look_back = 14 #  number of past days we want to use to predict 1 day in the future.\n",
        "max_data_size = 730 # ~2 years\n",
        "split_percent = 0.90 # use 90% of the data  for train\n",
        "INFO = 1\n",
        "DEBUG = 2\n",
        "TRACE = 3\n",
        "print_level = INFO \n",
        "indicators_model_file_path = '/content/drive/MyDrive/models/' + ticker + '_' + str(look_back) + '_indicators_08.h5'\n",
        "nr_of_features = 3\n",
        "look_forward = 1\n",
        "epochs = 420\n",
        "learning_rate=0.0042\n",
        "if look_back < 5:\n",
        "  num_prediction = look_back * 4\n",
        "else:\n",
        "  num_prediction = look_back * 2\n",
        "\n",
        "apikey = '3F4URDEKOPLFH25T'\n",
        "np.random.seed(42)"
      ],
      "execution_count": 75,
      "outputs": []
    },
    {
      "cell_type": "code",
      "metadata": {
        "id": "tPJ9HBOO3-2-",
        "colab": {
          "base_uri": "https://localhost:8080/"
        },
        "outputId": "7f6db1b2-a339-44ad-a6c5-f700f486b001"
      },
      "source": [
        "rsi_url = 'https://www.alphavantage.co/query?function=RSI&datatype=json&symbol='+ticker+'&interval=daily&time_period='+str(look_back)+'&series_type=close&apikey=' + apikey\n",
        "print(rsi_url)\n",
        "rsi_api_response = pd.read_json(rsi_url)\n",
        "#print(rsi_api_response)\n",
        "rsi_api_data = rsi_api_response['Technical Analysis: RSI']\n",
        "#print(rsi_api_data)\n",
        "rsi_api_data = rsi_api_data.drop(\n",
        "    index=['1: Symbol','2: Indicator','3: Last Refreshed','4: Interval','5: Time Period','6: Series Type','7: Time Zone']);\n",
        "#print(rsi_api_data)\n",
        "\n",
        "rsi_data = []\n",
        "for key, value in rsi_api_data.items():\n",
        "  date = key\n",
        "  rsi = float(value.get('RSI'))\n",
        "  rsi_data.append([date,rsi])\n",
        "\n",
        "last_rsi_data =  str(rsi_data[0])\n",
        "first_rsi_data =  str(rsi_data[-1])\n",
        "print('rsi_data_length:', len(rsi_data), 'first_rsi_data:', first_rsi_data, 'last_rsi_data:', last_rsi_data)  "
      ],
      "execution_count": 76,
      "outputs": [
        {
          "output_type": "stream",
          "name": "stdout",
          "text": [
            "https://www.alphavantage.co/query?function=RSI&datatype=json&symbol=PYPL&interval=daily&time_period=14&series_type=close&apikey=3F4URDEKOPLFH25T\n",
            "rsi_data_length: 1585 first_rsi_data: ['2015-08-07', 42.1546] last_rsi_data: ['2021-11-19', 26.1861]\n"
          ]
        }
      ]
    },
    {
      "cell_type": "code",
      "metadata": {
        "colab": {
          "base_uri": "https://localhost:8080/"
        },
        "id": "GmEkUmlfJFsW",
        "outputId": "ed1bfd51-0fc7-4204-b3ed-80e565db9ba4"
      },
      "source": [
        "stoch_url = 'https://www.alphavantage.co/query?function=STOCH&symbol='+ticker+'&interval=daily&apikey=' + apikey\n",
        "print(stoch_url)\n",
        "stoch_api_response = pd.read_json(stoch_url)\n",
        "stoch_api_data = stoch_api_response['Technical Analysis: STOCH']\n",
        "#print(rsi_api_data)\n",
        "stoch_api_data = stoch_api_data.drop(\n",
        "    index=['1: Symbol','2: Indicator','3: Last Refreshed','4: Interval','5.1: FastK Period','5.2: SlowK Period','5.3: SlowK MA Type','5.4: SlowD Period','5.5: SlowD MA Type','6: Time Zone'])\n",
        "#print(stoch_api_data)\n",
        "stoch_data = []\n",
        "for key, value in stoch_api_data.items():\n",
        "  date = key\n",
        "  SlowD = float(value.get('SlowD'))\n",
        "  SlowK = float(value.get('SlowK'))\n",
        "  stoch_data.append([date,SlowD,SlowK])\n",
        "\n",
        "last_stoch_data =  str(stoch_data[0])\n",
        "first_stoch_data =  str(stoch_data[-1])\n",
        "print('stoch_data_length:', len(stoch_data), 'first_stoch_data:', first_stoch_data, 'last_stoch_data:', last_stoch_data)  "
      ],
      "execution_count": 77,
      "outputs": [
        {
          "output_type": "stream",
          "name": "stdout",
          "text": [
            "https://www.alphavantage.co/query?function=STOCH&symbol=PYPL&interval=daily&apikey=3F4URDEKOPLFH25T\n",
            "stoch_data_length: 1591 first_stoch_data: ['2015-07-30', 38.1773, 62.587] last_stoch_data: ['2021-11-19', 44.5007, 14.3836]\n"
          ]
        }
      ]
    },
    {
      "cell_type": "code",
      "metadata": {
        "colab": {
          "base_uri": "https://localhost:8080/"
        },
        "id": "gTTORjJJ22lE",
        "outputId": "0350467e-5674-46e7-e59a-ef135bae17bd"
      },
      "source": [
        "stock_url = 'https://www.alphavantage.co/query?function=TIME_SERIES_DAILY_ADJUSTED&symbol='+ticker+'&outputsize=full&apikey=' + apikey\n",
        "print(stock_url)\n",
        "stock_api_response = pd.read_json(stock_url)\n",
        "stock_api_data = stock_api_response['Time Series (Daily)']\n",
        "#print(stock_api_data)\n",
        "stock_api_data = stock_api_data.drop(index=['1. Information','2. Symbol','3. Last Refreshed','4. Output Size','5. Time Zone']);\n",
        "\n",
        "stock_data = []\n",
        "split_coefficient = 1\n",
        "\n",
        "for key, value in stock_api_data.items():\n",
        "  date = key\n",
        "  open = float(value.get('1. open'))\n",
        "  high = float(value.get('2. high'))\n",
        "  low = float(value.get('3. low'))\n",
        "  close = float(value.get('4. close'))\n",
        "  adjusted_close = float(value.get('5. adjusted close'))\n",
        "  volume = int(value.get('6. volume'))\n",
        "  divident = float(value.get('7. dividend amount'))\n",
        "\n",
        "  if float(value.get('8. split coefficient')) > 1:\n",
        "    split_coefficient = float(value.get('8. split coefficient'))\n",
        "    \n",
        "  open = open / split_coefficient\n",
        "  high = high /split_coefficient\n",
        "  close = close / split_coefficient\n",
        "  low = low / split_coefficient\n",
        "  \n",
        "  stock_data.append([\n",
        "      date,\n",
        "      close,\n",
        "      volume,\n",
        "      high,\n",
        "      low,\n",
        "      open,\n",
        "      divident\n",
        "      ])\n",
        "\n",
        "last_date =  str(stock_data[0][0])\n",
        "print('data length:', len(stock_data), 'last_date:', last_date)\n",
        "\n",
        "last_stock_data =  str(stock_data[0])\n",
        "first_stock_data =  str(stock_data[-1])\n",
        "print('stock_data_length:', len(stock_data), 'first_stock_data:', first_stock_data, 'last_stock_data:', last_stock_data)"
      ],
      "execution_count": 78,
      "outputs": [
        {
          "output_type": "stream",
          "name": "stdout",
          "text": [
            "https://www.alphavantage.co/query?function=TIME_SERIES_DAILY_ADJUSTED&symbol=PYPL&outputsize=full&apikey=3F4URDEKOPLFH25T\n",
            "data length: 1599 last_date: 2021-11-19\n",
            "stock_data_length: 1599 first_stock_data: ['2015-07-20', 40.47, 52286509, 42.55, 39.8, 41.46, 0.0] last_stock_data: ['2021-11-19', 193.61, 24607529, 202.5, 193.0701, 202.19, 0.0]\n"
          ]
        }
      ]
    },
    {
      "cell_type": "code",
      "metadata": {
        "id": "GzJkdoRGuYmf"
      },
      "source": [
        "data_size = np.min([len(rsi_data), len(stoch_data), len(stock_data)])\n",
        "if max_data_size < data_size:\n",
        "  rsi_data = np.flip(rsi_data[:max_data_size],axis=0)\n",
        "  stoch_data = np.flip(stoch_data[:max_data_size],axis=0)\n",
        "  stock_data = np.flip(stock_data[:max_data_size],axis=0)\n",
        "else:\n",
        "  rsi_data = np.flip(rsi_data[:data_size],axis=0)\n",
        "  stoch_data = np.flip(stoch_data[:data_size],axis=0)\n",
        "  stock_data = np.flip(stock_data[:data_size],axis=0)\n",
        "\n",
        "dates = stock_data[:,0]\n",
        "\n",
        "rsi_array = rsi_data[:,1]\n",
        "stoch_slowD_array = stoch_data[:,1]\n",
        "stoch_slowK_array = stoch_data[:,2]\n",
        "\n",
        "indicators_data = np.append(np.expand_dims(dates, axis=1),  np.expand_dims(rsi_array, axis=1).astype(float),axis=1)\n",
        "indicators_data = np.append(indicators_data, np.expand_dims(stoch_slowD_array, axis=1),axis=1)\n",
        "indicators_data = np.append(indicators_data, np.expand_dims(stoch_slowK_array, axis=1),axis=1)\n",
        "if print_level >= DEBUG:\n",
        "  print('indicators_data',indicators_data[:5])\n",
        "\n",
        "indicators_lstm_data = np.expand_dims(rsi_array, axis=1).astype(float)\n",
        "indicators_lstm_data = np.append(indicators_lstm_data, np.expand_dims(stoch_slowD_array, axis=1),axis=1).astype(float)\n",
        "indicators_lstm_data = np.append(indicators_lstm_data, np.expand_dims(stoch_slowK_array, axis=1),axis=1).astype(float)\n",
        "if print_level >= DEBUG:\n",
        "  print('indicators_lstm_data',indicators_lstm_data[:5])"
      ],
      "execution_count": 79,
      "outputs": []
    },
    {
      "cell_type": "code",
      "metadata": {
        "id": "xHrOFKHo3ocW"
      },
      "source": [
        "stock_df = pd.DataFrame(stock_data,columns=['Date','Close','Volume','High','Low','Open','Divident'])\n",
        "stock_df['50MA'] = stock_df['Close'].rolling(50).mean()\n",
        "stock_df['100MA'] = stock_df['Close'].rolling(100).mean()\n",
        "stock_df['200MA'] = stock_df['Close'].rolling(200).mean()"
      ],
      "execution_count": 80,
      "outputs": []
    },
    {
      "cell_type": "code",
      "metadata": {
        "id": "OYTx2W6N4JIM",
        "colab": {
          "base_uri": "https://localhost:8080/"
        },
        "outputId": "8ab688a2-4e45-47f6-cdd1-2058c728900e"
      },
      "source": [
        "indicators_df = pd.DataFrame(indicators_data,columns=['Date','RSI','SlowD','SlowK'])\n",
        "print(indicators_df)\n",
        "split = int(split_percent*len(indicators_data))\n",
        "if len(indicators_data) - split < look_back:\n",
        "  split = look_back\n",
        "split\n",
        "\n",
        "\n",
        "indicators_df_train = indicators_df.iloc[:split]\n",
        "indicators_df_test = indicators_df.iloc[split:]\n",
        "\n",
        "indicators_lstm_train_data = indicators_lstm_data[:split]\n",
        "indicators_lstm_test_data = indicators_lstm_data[split:]"
      ],
      "execution_count": 81,
      "outputs": [
        {
          "output_type": "stream",
          "name": "stdout",
          "text": [
            "           Date      RSI    SlowD    SlowK\n",
            "0    2018-12-31  51.1404  70.3373   85.562\n",
            "1    2019-01-02  54.0949  82.2188  86.0924\n",
            "2    2019-01-03  47.3032  80.8195  70.8042\n",
            "3    2019-01-04  54.3521   75.963  70.9924\n",
            "4    2019-01-07  55.3673   70.293  69.0825\n",
            "..          ...      ...      ...      ...\n",
            "725  2021-11-15  33.0403  21.3191  39.0922\n",
            "726  2021-11-16    36.19  41.1461  70.2496\n",
            "727  2021-11-17  31.4113  60.7398  72.8777\n",
            "728  2021-11-18  28.8895  63.1227  46.2407\n",
            "729  2021-11-19  26.1861  44.5007  14.3836\n",
            "\n",
            "[730 rows x 4 columns]\n"
          ]
        }
      ]
    },
    {
      "cell_type": "code",
      "metadata": {
        "id": "5oRtthul4Pyj"
      },
      "source": [
        "np.set_printoptions(formatter={'float': '{: 0.12f}'.format})\n",
        "\n",
        "indicators_scaler = MinMaxScaler(feature_range=(0, 1))\n",
        "indicators_scaler = indicators_scaler.fit(indicators_lstm_data)\n",
        "\n",
        "indicators_lstm_train_data_scaled = indicators_scaler.transform(indicators_lstm_train_data)\n",
        "if print_level >= TRACE:\n",
        "  print(indicators_lstm_train_data_scaled[:look_back+1])\n",
        "  print(indicators_lstm_train_data_scaled.shape)\n",
        "\n",
        "indicators_lstm_test_data_scaled = indicators_scaler.transform(indicators_lstm_test_data)\n",
        "if print_level >= TRACE:\n",
        "  print(indicators_lstm_test_data_scaled[:look_back+1])\n",
        "  print(indicators_lstm_test_data_scaled.shape)"
      ],
      "execution_count": 82,
      "outputs": []
    },
    {
      "cell_type": "code",
      "metadata": {
        "id": "Cmmqy0nc4Slr"
      },
      "source": [
        "indicators_train_generator = TimeseriesGenerator(indicators_lstm_train_data_scaled, indicators_lstm_train_data_scaled, sampling_rate=1, length=look_back, batch_size=64)\n",
        "\n",
        "if print_level >= TRACE:\n",
        "  print('Samples: %d' % len(indicators_train_generator))\n",
        "  # print each sample\n",
        "  for i in range(2):\n",
        "    x, y = indicators_train_generator[i]\n",
        "    print('%s => %s' % (x, y))"
      ],
      "execution_count": 83,
      "outputs": []
    },
    {
      "cell_type": "code",
      "metadata": {
        "id": "xFQnXfRp6tVP",
        "colab": {
          "base_uri": "https://localhost:8080/"
        },
        "outputId": "ec77daa8-3ecb-4383-90d8-598c6d916903"
      },
      "source": [
        "indicators_model = None\n",
        "try:\n",
        "  indicators_model = keras.models.load_model(indicators_model_file_path)\n",
        "  modified = os.path.getmtime(indicators_model_file_path)\n",
        "\n",
        "  print(pd.to_datetime(last_date).date() - datetime.fromtimestamp(modified).date() )\n",
        "  print('Loaded', indicators_model_file_path , ' model train date:',datetime.fromtimestamp(modified).date() , 'last date:', last_date)\n",
        "except:\n",
        "  indicators_model = None\n",
        "  print('Model ' + indicators_model_file_path + ' does not exists.')"
      ],
      "execution_count": 84,
      "outputs": [
        {
          "output_type": "stream",
          "name": "stdout",
          "text": [
            "Model /content/drive/MyDrive/models/PYPL_14_indicators_08.h5 does not exists.\n"
          ]
        }
      ]
    },
    {
      "cell_type": "code",
      "metadata": {
        "id": "r59DQEiZ0u18",
        "colab": {
          "base_uri": "https://localhost:8080/"
        },
        "outputId": "5db97511-c755-4f03-ef89-ed7a1100cce6"
      },
      "source": [
        "if indicators_model is None:\n",
        "  indicators_model = Sequential()\n",
        "  indicators_model.add(LSTM(units=50, activation='tanh', input_shape=(look_back, nr_of_features), return_sequences=True))\n",
        "  indicators_model.add(Dropout(0.2))\n",
        "  indicators_model.add(LSTM(units=50, return_sequences=True, activation=\"tanh\"))\n",
        "  indicators_model.add(Dropout(0.2))\n",
        "  indicators_model.add(LSTM(units=50, return_sequences=True, activation=\"tanh\"))\n",
        "  indicators_model.add(Dropout(0.2))\n",
        "  indicators_model.add(LSTM(units=50, activation=\"tanh\"))\n",
        "  indicators_model.add(Dropout(0.2))\n",
        "  indicators_model.add(Dense(nr_of_features))\n",
        "\n",
        "  indicators_model.compile(\n",
        "      loss=MAE,\n",
        "      optimizer=Adam(learning_rate=learning_rate),\n",
        "      metrics=[\"mae\"]\n",
        "  )\n",
        "    \n",
        "  #model.summary()\n",
        "  print('Model ' + indicators_model_file_path + ' compiled.')\n",
        "\n",
        "  indicators_modelo = indicators_model.fit(indicators_train_generator, epochs=epochs, verbose=0 )\n",
        "  \n",
        "  indicators_model.save(indicators_model_file_path)\n",
        "  print('Saved model ' + indicators_model_file_path)\n",
        "\n",
        "  if print_level >= DEBUG:\n",
        "    plt.plot(indicators_modelo.history['loss'])\n",
        "    plt.xlabel('Epochs')\n",
        "    plt.ylabel('Loss')\n",
        "    plt.show()"
      ],
      "execution_count": 85,
      "outputs": [
        {
          "output_type": "stream",
          "name": "stdout",
          "text": [
            "Model /content/drive/MyDrive/models/PYPL_14_indicators_08.h5 compiled.\n",
            "Saved model /content/drive/MyDrive/models/PYPL_14_indicators_08.h5\n"
          ]
        }
      ]
    },
    {
      "cell_type": "code",
      "metadata": {
        "colab": {
          "base_uri": "https://localhost:8080/"
        },
        "id": "xkdpY8eE4XlZ",
        "outputId": "ab5f045e-a9a5-4db2-f33f-a4eae903161c"
      },
      "source": [
        "indicators_test_generator = TimeseriesGenerator(indicators_lstm_test_data_scaled, indicators_lstm_test_data_scaled,sampling_rate=1, length=look_back, batch_size=look_back)\n",
        "\n",
        "print('Samples: %d' % len(indicators_test_generator))\n",
        "# print each sample\n",
        "if print_level >= TRACE:\n",
        "  for i in range(2):\n",
        "    x, y = indicators_test_generator[i]\n",
        "    print('%s => %s' % (x, y))"
      ],
      "execution_count": 86,
      "outputs": [
        {
          "output_type": "stream",
          "name": "stdout",
          "text": [
            "Samples: 5\n"
          ]
        }
      ]
    },
    {
      "cell_type": "code",
      "metadata": {
        "id": "WAS1RHA1Mn10"
      },
      "source": [
        "#Make prediction\n",
        "indicators_prediction_scaled = indicators_model.predict(indicators_test_generator)\n",
        "\n",
        "if print_level >= DEBUG:\n",
        "  np.set_printoptions(formatter={'float': '{: 0.12f}'.format})\n",
        "  print(indicators_prediction_scaled[:5])\n",
        "\n",
        "indicators_prediction = indicators_scaler.inverse_transform(indicators_prediction_scaled)\n",
        "if nr_of_features == 1:\n",
        "   rsi_prediction = indicators_prediction.reshape((-1))\n",
        "else:\n",
        "  rsi_prediction = indicators_prediction[:,0].reshape((-1))\n",
        "  stoch_slowD_prediction = indicators_prediction[:,1].reshape((-1))\n",
        "  stoch_slowK_prediction = indicators_prediction[:,2].reshape((-1))\n",
        "\n",
        "if print_level >= DEBUG:\n",
        "  np.set_printoptions(formatter={'float': '{: 0.2f}'.format})\n",
        "  print('indicators_prediction shape:',indicators_prediction.shape)\n",
        "\n",
        "  for x in range(look_back + 1):\n",
        "    print('pred:',indicators_prediction[x], 'test:', indicators_lstm_test_data[x])\n"
      ],
      "execution_count": 87,
      "outputs": []
    },
    {
      "cell_type": "code",
      "metadata": {
        "colab": {
          "base_uri": "https://localhost:8080/"
        },
        "id": "ae72DYdyd0zp",
        "outputId": "ae0c0a6f-d4d5-4ad9-d89a-36b1029b60e5"
      },
      "source": [
        "def predict(num_prediction, model):\n",
        "    prediction_list = indicators_lstm_test_data_scaled[-look_back:]\n",
        "    #print('prediction_list',prediction_list)\n",
        "    for _ in range(num_prediction):\n",
        "        x = prediction_list[-look_back:]\n",
        "        #print(x)\n",
        "        x = x.reshape((1, look_back, nr_of_features))\n",
        "        out = model.predict(x)\n",
        "        #print(x,out) \n",
        "        prediction_list = np.append(prediction_list, out, axis=0)\n",
        "    prediction_list = prediction_list[look_back-1:]\n",
        "        \n",
        "    return prediction_list\n",
        "    \n",
        "def predict_dates(last_date,num_prediction):\n",
        "    us_bd = CustomBusinessDay(calendar=USFederalHolidayCalendar())\n",
        "    prediction_dates = pd.date_range(last_date, periods=num_prediction+1,freq=us_bd).tolist()\n",
        "    return prediction_dates\n",
        "\n",
        "indicators_forecast_scaled = predict(num_prediction, indicators_model)\n",
        "#print(forecast_scaled)\n",
        "indicators_forecast_dates = predict_dates(indicators_df['Date'].values[-1],num_prediction)\n",
        "\n",
        "indicators_forecast = indicators_scaler.inverse_transform(indicators_forecast_scaled.reshape((-1,nr_of_features)))\n",
        "if nr_of_features == 1:\n",
        "   rsi_forecast = indicators_forecast.reshape((-1))\n",
        "else:\n",
        "  rsi_forecast = indicators_forecast[:,0].reshape((-1))\n",
        "  stoch_SlowD_forecast = indicators_forecast[:,1].reshape((-1))\n",
        "  stoch_SlowK_forecast = indicators_forecast[:,2].reshape((-1))\n",
        "\n",
        "if print_level >= INFO:\n",
        "  print('indicators_forecast:',indicators_forecast)\n",
        "  print('rsi_forecast:',rsi_forecast)"
      ],
      "execution_count": 88,
      "outputs": [
        {
          "output_type": "stream",
          "name": "stdout",
          "text": [
            "indicators_forecast: [[ 26.186100000000  44.500700000000  14.383600000000]\n",
            " [ 40.151643829250  41.603634782887  32.356453094611]\n",
            " [ 41.484723947108  38.506424668866  43.754219948450]\n",
            " [ 45.132209035078  54.087038750029  70.117634547812]\n",
            " [ 43.358958060837  64.999163921046  71.237918124390]\n",
            " [ 44.673804465806  70.911596196461  74.471234422481]\n",
            " [ 41.901031104425  67.736970733678  60.459448153871]\n",
            " [ 39.365278782964  52.674198872614  37.260038518444]\n",
            " [ 39.678664693555  38.754288116950  29.211451307237]\n",
            " [ 40.724024608928  31.380888124979  31.313728044981]\n",
            " [ 41.262945905262  34.366245985591  44.431658273882]\n",
            " [ 41.176056681603  41.235190101862  50.074148809978]\n",
            " [ 41.357010432604  46.809602862912  54.528317132896]\n",
            " [ 42.082384536207  53.348993507600  58.124369128668]\n",
            " [ 40.674727774623  52.537450934362  50.296338714498]\n",
            " [ 39.889136248469  46.164525287688  41.862273376054]\n",
            " [ 39.543500233451  38.461787900871  33.181915719196]\n",
            " [ 40.962923459417  31.663698731208  34.021856686333]\n",
            " [ 41.109111873487  30.525820407444  36.818049240875]\n",
            " [ 40.920119715047  33.517793340230  42.583816866347]\n",
            " [ 40.765898061824  39.193264931142  48.434216063592]\n",
            " [ 40.235177112555  43.305205248475  45.225506190151]\n",
            " [ 39.267694652879  40.101042355990  37.078918451428]\n",
            " [ 39.379786161670  33.680764663762  31.213322907481]\n",
            " [ 39.961392331797  29.879493231809  31.925681576031]\n",
            " [ 40.317945489538  29.842088526189  36.061430543822]\n",
            " [ 39.916576401424  31.857967338353  36.956762011671]\n",
            " [ 39.925913771403  33.381646772176  39.455244703397]\n",
            " [ 39.700228505367  35.002584167945  40.108755188495]]\n",
            "rsi_forecast: [ 26.186100000000  40.151643829250  41.484723947108  45.132209035078\n",
            "  43.358958060837  44.673804465806  41.901031104425  39.365278782964\n",
            "  39.678664693555  40.724024608928  41.262945905262  41.176056681603\n",
            "  41.357010432604  42.082384536207  40.674727774623  39.889136248469\n",
            "  39.543500233451  40.962923459417  41.109111873487  40.920119715047\n",
            "  40.765898061824  40.235177112555  39.267694652879  39.379786161670\n",
            "  39.961392331797  40.317945489538  39.916576401424  39.925913771403\n",
            "  39.700228505367]\n"
          ]
        }
      ]
    },
    {
      "cell_type": "code",
      "metadata": {
        "colab": {
          "base_uri": "https://localhost:8080/",
          "height": 667
        },
        "id": "dnqEqJioguwy",
        "outputId": "fb0d9309-32ae-4e07-bdc1-e1587e082c0f"
      },
      "source": [
        "chart_days = len(indicators_df_test) * 2\n",
        "\n",
        "#'Date','Close','Volume','High','Low','Open','Divident'\n",
        "open_price =  str(stock_data[-1][5])\n",
        "low_price =  str(stock_data[-1][3])\n",
        "high_price =  str(stock_data[-1][4])\n",
        "close_price =  str(stock_data[-1][1])\n",
        "rsi_forecast_mean = np.round(np.mean(rsi_forecast))\n",
        "\n",
        "tradingview_link = '<a href=\"https://in.tradingview.com/chart/66XmQfYy/?symbol=' + ticker +'\">' + ticker +'</a>'\n",
        "stock_title = tradingview_link + ' Date:' + last_date + ' Open:' + open_price + ' High:' + high_price + ' Low:' + low_price + ' Close:' + close_price\n",
        "indicators_title = tradingview_link + ' RSI('+ str(look_back)+ ') Date:' + last_date + ' Close:' + indicators_df['RSI'].iloc[-1] + ' Forecast('+str(look_back)+'):' + str(rsi_forecast_mean)\n",
        "\n",
        "fig = make_subplots(rows=3, cols=1, row_heights=[0.4, 0.3, 0.3], subplot_titles=(stock_title, indicators_title))\n",
        "\n",
        "go.Layout(\n",
        "    title = ticker + ' Date:' + last_date + ' Open:' + open_price + ' High:' + high_price + ' Low:' + low_price + ' Close:' + close_price,\n",
        "    xaxis = {'title' : \"Dates\"},\n",
        "    yaxis = {'title' : \"Close Price ($)\"},\n",
        "    height = 450\n",
        ")\n",
        "\n",
        "trace1 = go.Candlestick(\n",
        "    x = stock_df.tail(chart_days)['Date'],\n",
        "    open = stock_df.tail(chart_days)['Open'],\n",
        "    high = stock_df.tail(chart_days)['High'],\n",
        "    low = stock_df.tail(chart_days)['Low'],\n",
        "    close = stock_df.tail(chart_days)['Close'],\n",
        "    name = ticker + ' Price'\n",
        ")\n",
        "\n",
        "trace2 = go.Scatter(\n",
        "    x = stock_df.tail(chart_days)['Date'],\n",
        "    y = stock_df.tail(chart_days)['50MA'],\n",
        "    mode='lines',\n",
        "    name ='50MA'\n",
        ")\n",
        "\n",
        "trace3 = go.Scatter(\n",
        "    x = stock_df.tail(chart_days)['Date'],\n",
        "    y = stock_df.tail(chart_days)['100MA'],\n",
        "    mode='lines',\n",
        "    name ='100MA'\n",
        ")\n",
        "\n",
        "trace4 = go.Scatter(\n",
        "    x = stock_df.tail(chart_days)['Date'],\n",
        "    y = stock_df.tail(chart_days)['200MA'],\n",
        "    mode='lines',\n",
        "    name ='200MA'\n",
        ")\n",
        "\n",
        "fig.add_trace(trace1,row=1, col=1)\n",
        "fig.add_trace(trace2,row=1, col=1)\n",
        "fig.add_trace(trace3,row=1, col=1)\n",
        "fig.add_trace(trace4,row=1, col=1)\n",
        "\n",
        "trace_rsi_train = go.Scatter(\n",
        "  x = indicators_df_train.tail(len(indicators_df_test))['Date'],\n",
        "  y = indicators_df_train.tail(len(indicators_df_test))['RSI'],\n",
        "  mode='lines',\n",
        "  name ='RSI'\n",
        ")\n",
        "\n",
        "trace_rsi_test = go.Scatter(\n",
        "  x = indicators_df_test['Date'],\n",
        "  y = indicators_df_test['RSI'],\n",
        "  mode='markers+lines',\n",
        "  name ='Test'\n",
        ")\n",
        "\n",
        "trace_rsi_prediction = go.Scatter(\n",
        "    x = indicators_df_test['Date'],\n",
        "    y = rsi_prediction,\n",
        "    mode='markers+lines',\n",
        "    name ='Prediction'\n",
        ")\n",
        "\n",
        "trace_rsi_forecast = go.Scatter(\n",
        "    x = indicators_forecast_dates,\n",
        "    y = rsi_forecast,\n",
        "    mode='markers+lines',\n",
        "    name ='Forecast'\n",
        ")\n",
        "\n",
        "fig.add_trace(trace_rsi_train,row=2, col=1)\n",
        "fig.add_trace(trace_rsi_test,row=2, col=1)\n",
        "fig.add_trace(trace_rsi_prediction,row=2, col=1)\n",
        "fig.add_trace(trace_rsi_forecast,row=2, col=1)\n",
        "\n",
        "fig.add_trace(go.Scatter(\n",
        "        x = [indicators_df_train.tail(len(indicators_df_test))['Date'].min(), np.max(indicators_forecast_dates)],\n",
        "        y = [70, 70],\n",
        "        mode = \"lines\",\n",
        "        line = dict(shape = 'linear', color = 'rgb(100, 10, 100)', dash = 'dash')\n",
        "    ),row=2, col=1)\n",
        "\n",
        "fig.add_trace(go.Scatter(\n",
        "        x = [indicators_df_train.tail(len(indicators_df_test))['Date'].min(), np.max(indicators_forecast_dates)],\n",
        "        y = [50, 50],\n",
        "        mode = \"lines\",\n",
        "        line = dict(shape = 'linear', color = 'rgb(10, 12, 240)', dash = 'dash')\n",
        "    ),row=2, col=1)\n",
        "\n",
        "fig.add_trace(go.Scatter(\n",
        "        x = [indicators_df_train.tail(len(indicators_df_test))['Date'].min(), np.max(indicators_forecast_dates)],\n",
        "        y = [30, 30],\n",
        "        mode = \"lines\",\n",
        "        line = dict(shape = 'linear', color = 'rgb(10, 120, 24)', dash = 'dash')\n",
        "    ),row=2, col=1)\n",
        "\n",
        "\n",
        "trace_stoch_SlowK_train = go.Scatter(\n",
        "  x = indicators_df_train.tail(len(indicators_df_test))['Date'],\n",
        "  y = indicators_df_train.tail(len(indicators_df_test))['SlowK'],\n",
        "  mode='lines',\n",
        "  name ='Train Stoch SlowK'\n",
        ")\n",
        "\n",
        "trace_stoch_SlowD_train = go.Scatter(\n",
        "  x = indicators_df_train.tail(len(indicators_df_test))['Date'],\n",
        "  y = indicators_df_train.tail(len(indicators_df_test))['SlowD'],\n",
        "  mode='lines',\n",
        "  name ='Train Stoch SlowD'\n",
        ")\n",
        "\n",
        "trace_stoch_SlowD_test = go.Scatter(\n",
        "  x = indicators_df_test['Date'],\n",
        "  y = indicators_df_test['SlowD'],\n",
        "  mode='lines',\n",
        "  name ='Test Stoch SlowD'\n",
        ")\n",
        "\n",
        "trace_stoch_SlowK_test = go.Scatter(\n",
        "  x = indicators_df_test['Date'],\n",
        "  y = indicators_df_test['SlowK'],\n",
        "  mode='lines',\n",
        "  name ='Test Stoch SlowK'\n",
        ")\n",
        "\n",
        "trace_stoch_SlowD_prediction = go.Scatter(\n",
        "    x = indicators_df_test['Date'],\n",
        "    y = stoch_slowD_prediction,\n",
        "    mode='lines',\n",
        "    name ='Prediction Stoch SlowD'\n",
        ")\n",
        "\n",
        "trace_stoch_SlowK_prediction = go.Scatter(\n",
        "    x = indicators_df_test['Date'],\n",
        "    y = stoch_slowK_prediction,\n",
        "    mode='lines',\n",
        "    name ='Prediction Stoch SlowK'\n",
        ")\n",
        "\n",
        "trace_stoch_SlowD_forecast = go.Scatter(\n",
        "    x = indicators_forecast_dates,\n",
        "    y = stoch_SlowD_forecast,\n",
        "    mode='markers+lines',\n",
        "    name ='Forecast Stoch SlowD'\n",
        ")\n",
        "\n",
        "trace_stoch_SlowK_forecast = go.Scatter(\n",
        "    x = indicators_forecast_dates,\n",
        "    y = stoch_SlowK_forecast,\n",
        "    mode='markers+lines',\n",
        "    name ='Forecast Stoch SlowK'\n",
        ")\n",
        "\n",
        "fig.add_trace(trace_stoch_SlowK_train, row=3,col=1 )\n",
        "fig.add_trace(trace_stoch_SlowD_train, row=3,col=1 )\n",
        "fig.add_trace(trace_stoch_SlowD_test, row=3,col=1 )\n",
        "fig.add_trace(trace_stoch_SlowK_test, row=3,col=1 )\n",
        "fig.add_trace(trace_stoch_SlowD_prediction, row=3,col=1 )\n",
        "fig.add_trace(trace_stoch_SlowK_prediction, row=3,col=1 )\n",
        "fig.add_trace(trace_stoch_SlowD_forecast, row=3,col=1 )\n",
        "fig.add_trace(trace_stoch_SlowK_forecast, row=3,col=1 )\n",
        "\n",
        "fig.add_trace(go.Scatter(\n",
        "        x = [indicators_df_train.tail(len(indicators_df_test))['Date'].min(), np.max(indicators_forecast_dates)],\n",
        "        y = [70, 70],\n",
        "        mode = \"lines\",\n",
        "        line = dict(shape = 'linear', color = 'rgb(100, 10, 100)', dash = 'dash')\n",
        "    ),row=3, col=1)\n",
        "\n",
        "fig.add_trace(go.Scatter(\n",
        "        x = [indicators_df_train.tail(len(indicators_df_test))['Date'].min(), np.max(indicators_forecast_dates)],\n",
        "        y = [50, 50],\n",
        "        mode = \"lines\",\n",
        "        line = dict(shape = 'linear', color = 'rgb(10, 12, 240)', dash = 'dash')\n",
        "    ),row=3, col=1)\n",
        "\n",
        "fig.add_trace(go.Scatter(\n",
        "        x = [indicators_df_train.tail(len(indicators_df_test))['Date'].min(), np.max(indicators_forecast_dates)],\n",
        "        y = [30, 30],\n",
        "        mode = \"lines\",\n",
        "        line = dict(shape = 'linear', color = 'rgb(10, 120, 24)', dash = 'dash')\n",
        "    ),row=3, col=1)\n",
        "\n",
        "fig.update_yaxes(showspikes=True, spikemode='across', spikesnap='cursor',spikedash='dash')\n",
        "fig.update_xaxes(showspikes=True, spikemode='across', spikesnap='cursor', spikedash='dash')\n",
        "fig.update_layout(xaxis_rangeslider_visible=False,height=650)\n",
        "\n",
        "fig.show()\n",
        "Path('/content/drive/MyDrive/models/charts/'+ last_date).mkdir(parents=True, exist_ok=True)\n",
        "fig.write_html('/content/drive/MyDrive/models/charts/'+ last_date+ '/' + ticker + '_' + str(look_back) + '_08_inidicators_forecast.html')"
      ],
      "execution_count": 89,
      "outputs": [
        {
          "output_type": "display_data",
          "data": {
            "text/html": [
              "<html>\n",
              "<head><meta charset=\"utf-8\" /></head>\n",
              "<body>\n",
              "    <div>\n",
              "            <script src=\"https://cdnjs.cloudflare.com/ajax/libs/mathjax/2.7.5/MathJax.js?config=TeX-AMS-MML_SVG\"></script><script type=\"text/javascript\">if (window.MathJax) {MathJax.Hub.Config({SVG: {font: \"STIX-Web\"}});}</script>\n",
              "                <script type=\"text/javascript\">window.PlotlyConfig = {MathJaxConfig: 'local'};</script>\n",
              "        <script src=\"https://cdn.plot.ly/plotly-latest.min.js\"></script>    \n",
              "            <div id=\"e38bba30-7d3b-479a-b754-70f0f1f8bcd4\" class=\"plotly-graph-div\" style=\"height:650px; width:100%;\"></div>\n",
              "            <script type=\"text/javascript\">\n",
              "                \n",
              "                    window.PLOTLYENV=window.PLOTLYENV || {};\n",
              "                    \n",
              "                if (document.getElementById(\"e38bba30-7d3b-479a-b754-70f0f1f8bcd4\")) {\n",
              "                    Plotly.newPlot(\n",
              "                        'e38bba30-7d3b-479a-b754-70f0f1f8bcd4',\n",
              "                        [{\"close\": [\"268.82\", \"271.09\", \"267.85\", \"262.29\", \"259.09\", \"250.16\", \"247.4\", \"252.02\", \"253.36\", \"243.63\", \"248.6\", \"239.91\", \"240.8\", \"246.29\", \"244.36\", \"243.21\", \"244.63\", \"251.54\", \"250.69\", \"257.17\", \"258.65\", \"261.37\", \"259.47\", \"260.02\", \"259.27\", \"262.17\", \"257.79\", \"263.04\", \"260.6\", \"263.15\", \"263.6\", \"269.47\", \"271.45\", \"274.93\", \"271.89\", \"268.82\", \"278.11\", \"283.38\", \"283.1\", \"286.75\", \"288.12\", \"293.21\", \"289.6\", \"293.65\", \"292.76\", \"291.48\", \"289.0\", \"290.24\", \"292.64\", \"297.13\", \"295.05\", \"300.21\", \"302.97\", \"301.19\", \"300.75\", \"296.51\", \"294.63\", \"294.85\", \"298.07\", \"301.77\", \"303.69\", \"308.53\", \"306.8\", \"300.48\", \"301.98\", \"283.17\", \"275.53\", \"270.99\", \"273.5\", \"275.5\", \"280.67\", \"279.54\", \"278.15\", \"274.37\", \"276.41\", \"274.59\", \"274.91\", \"278.28\", \"271.1\", \"268.84\", \"270.58\", \"272.96\", \"276.98\", \"279.51\", \"277.69\", \"273.62\", \"278.33\", \"288.47\", \"288.66\", \"286.75\", \"285.53\", \"289.13\", \"293.26\", \"285.23\", \"286.88\", \"284.32\", \"280.49\", \"282.24\", \"282.43\", \"282.97\", \"276.34\", \"269.91\", \"269.49\", \"272.34\", \"279.1\", \"278.11\", \"273.39\", \"262.19\", \"259.0\", \"260.21\", \"264.65\", \"255.01\", \"260.15\", \"264.06\", \"263.54\", \"260.06\", \"255.05\", \"255.85\", \"256.36\", \"266.45\", \"268.35\", \"270.33\", \"271.7\", \"258.36\", \"243.21\", \"240.4\", \"246.88\", \"243.0\", \"234.94\", \"236.83\", \"232.59\", \"231.28\", \"229.46\", \"230.38\", \"228.22\", \"225.78\", \"229.42\", \"205.42\", \"204.64\", \"202.03\", \"208.3\", \"212.54\", \"215.67\", \"206.27\", \"200.5\", \"193.61\"], \"high\": [\"273.82\", \"275.25\", \"273.87\", \"266.1499\", \"265.8\", \"256.8\", \"254.92\", \"256.3094\", \"258.64\", \"252.41\", \"250.5553\", \"246.5\", \"245.68\", \"247.12\", \"246.24\", \"247.435\", \"245.34\", \"252.93\", \"255.21\", \"257.6\", \"260.37\", \"262.32\", \"260.64\", \"263.15\", \"263.42\", \"264.7799\", \"260.98\", \"263.46\", \"262.94\", \"264.55\", \"268.1994\", \"269.65\", \"271.8999\", \"274.97\", \"274.73\", \"275.1603\", \"279.3718\", \"286.38\", \"284.305\", \"287.46\", \"288.55\", \"296.01\", \"292.87\", \"294.26\", \"295.18\", \"292.6999\", \"291.9\", \"292.4299\", \"294.526\", \"299.3087\", \"295.8651\", \"300.83\", \"303.5\", \"307.82\", \"304.81\", \"301.18\", \"298.75\", \"295.0693\", \"300.03\", \"301.83\", \"304.57\", \"309.475\", \"310.16\", \"306.34\", \"302.43\", \"289.0\", \"280.5\", \"276.885\", \"274.54\", \"276.0931\", \"280.96\", \"282.3699\", \"281.1\", \"280.49\", \"278.235\", \"276.805\", \"276.81\", \"279.19\", \"275.545\", \"272.77\", \"272.0099\", \"273.935\", \"278.29\", \"279.58\", \"279.8296\", \"278.68\", \"278.89\", \"290.406\", \"292.65\", \"290.9\", \"288.9\", \"290.38\", \"293.68\", \"296.7\", \"289.37\", \"289.0\", \"287.19\", \"283.17\", \"285.75\", \"283.69\", \"282.5\", \"273.0\", \"272.2986\", \"273.47\", \"279.95\", \"278.33\", \"276.78\", \"271.44\", \"264.46\", \"263.47\", \"265.82\", \"262.57\", \"262.77\", \"264.39\", \"268.6933\", \"265.47\", \"260.66\", \"257.97\", \"261.24\", \"267.41\", \"269.7209\", \"270.44\", \"273.27\", \"273.51\", \"258.96\", \"246.66\", \"255.52\", \"249.88\", \"244.6899\", \"237.94\", \"238.9\", \"233.55\", \"232.761\", \"230.9\", \"231.92\", \"230.42\", \"230.97\", \"212.4\", \"208.2\", \"208.31\", \"210.02\", \"214.2091\", \"215.97\", \"213.97\", \"207.5\", \"202.5\"], \"low\": [\"268.03\", \"267.17\", \"263.53\", \"261.6\", \"256.18\", \"246.6501\", \"246.245\", \"245.11\", \"251.64\", \"243.45\", \"233.61\", \"238.82\", \"237.8\", \"242.27\", \"240.6\", \"242.655\", \"235.11\", \"245.35\", \"250.41\", \"252.43\", \"257.2801\", \"259.16\", \"256.28\", \"259.87\", \"256.52\", \"259.58\", \"256.15\", \"259.15\", \"260.19\", \"260.565\", \"263.26\", \"261.69\", \"268.4\", \"270.6\", \"270.68\", \"265.3099\", \"268.46\", \"274.86\", \"276.725\", \"280.22\", \"284.78\", \"289.64\", \"287.8\", \"289.78\", \"291.53\", \"289.51\", \"285.76\", \"288.92\", \"289.52\", \"291.91\", \"289.46\", \"295.0\", \"298.56\", \"298.75\", \"299.3301\", \"294.14\", \"294.44\", \"288.81\", \"291.57\", \"296.2\", \"301.87\", \"304.2\", \"305.23\", \"294.89\", \"296.78\", \"281.6\", \"274.21\", \"270.4302\", \"269.57\", \"270.67\", \"275.82\", \"276.87\", \"277.46\", \"272.5\", \"273.13\", \"273.06\", \"274.61\", \"273.56\", \"269.08\", \"268.48\", \"266.6033\", \"269.54\", \"273.02\", \"276.5086\", \"276.77\", \"273.52\", \"273.67\", \"279.08\", \"284.34\", \"286.36\", \"285.25\", \"284.4\", \"288.04\", \"283.33\", \"285.08\", \"284.11\", \"277.8\", \"279.71\", \"279.5\", \"280.39\", \"275.92\", \"265.68\", \"267.8\", \"266.5\", \"273.78\", \"274.69\", \"272.1855\", \"261.68\", \"256.89\", \"258.73\", \"260.11\", \"251.59\", \"253.59\", \"256.03\", \"263.07\", \"259.8\", \"254.69\", \"253.78\", \"254.245\", \"260.2\", \"265.44\", \"264.71\", \"269.835\", \"253.1\", \"242.98\", \"239.75\", \"245.82\", \"241.01\", \"233.92\", \"232.78\", \"231.71\", \"230.19\", \"227.8\", \"225.3101\", \"225.0\", \"224.6\", \"226.25\", \"200.68\", \"202.78\", \"201.56\", \"201.4835\", \"210.71\", \"211.77\", \"203.35\", \"199.2\", \"193.0701\"], \"name\": \"PYPL Price\", \"open\": [\"272.05\", \"268.758\", \"273.26\", \"265.0\", \"265.06\", \"255.73\", \"254.92\", \"256.0\", \"255.92\", \"252.0149\", \"235.0\", \"240.5889\", \"241.92\", \"244.0188\", \"245.15\", \"243.5\", \"235.86\", \"246.99\", \"253.8008\", \"254.13\", \"258.5\", \"259.78\", \"259.86\", \"261.07\", \"261.08\", \"260.48\", \"258.4\", \"259.5138\", \"262.48\", \"261.5741\", \"265.0\", \"263.07\", \"268.75\", \"271.9\", \"274.73\", \"271.4502\", \"268.5\", \"275.3\", \"283.2788\", \"281.7\", \"285.94\", \"290.18\", \"292.6\", \"290.8502\", \"292.97\", \"291.53\", \"290.33\", \"290.94\", \"290.035\", \"294.9\", \"292.1\", \"296.41\", \"302.37\", \"302.19\", \"303.01\", \"300.86\", \"297.23\", \"292.35\", \"295.515\", \"296.49\", \"302.0207\", \"305.76\", \"309.66\", \"305.5\", \"300.74\", \"285.37\", \"280.245\", \"276.885\", \"272.06\", \"274.0711\", \"277.1\", \"280.0\", \"280.22\", \"278.94\", \"277.4418\", \"274.25\", \"276.17\", \"273.73\", \"275.25\", \"271.01\", \"267.19\", \"269.54\", \"275.75\", \"278.93\", \"279.8157\", \"277.89\", \"274.03\", \"279.61\", \"290.93\", \"290.1\", \"288.9\", \"285.03\", \"290.41\", \"296.55\", \"287.45\", \"288.6\", \"286.72\", \"281.8444\", \"284.21\", \"281.04\", \"282.18\", \"271.55\", \"271.75\", \"270.46\", \"274.45\", \"276.02\", \"274.78\", \"269.895\", \"263.51\", \"259.65\", \"261.4548\", \"261.8378\", \"255.22\", \"256.29\", \"265.95\", \"264.955\", \"257.93\", \"256.0\", \"258.73\", \"261.5\", \"268.7006\", \"266.39\", \"271.01\", \"273.0\", \"258.61\", \"243.73\", \"254.955\", \"249.45\", \"243.85\", \"237.0\", \"235.43\", \"232.7\", \"232.54\", \"228.33\", \"231.61\", \"230.0\", \"227.96\", \"212.4\", \"204.1\", \"207.92\", \"203.25\", \"212.22\", \"214.89\", \"211.145\", \"206.99\", \"202.19\"], \"type\": \"candlestick\", \"x\": [\"2021-04-27\", \"2021-04-28\", \"2021-04-29\", \"2021-04-30\", \"2021-05-03\", \"2021-05-04\", \"2021-05-05\", \"2021-05-06\", \"2021-05-07\", \"2021-05-10\", \"2021-05-11\", \"2021-05-12\", \"2021-05-13\", \"2021-05-14\", \"2021-05-17\", \"2021-05-18\", \"2021-05-19\", \"2021-05-20\", \"2021-05-21\", \"2021-05-24\", \"2021-05-25\", \"2021-05-26\", \"2021-05-27\", \"2021-05-28\", \"2021-06-01\", \"2021-06-02\", \"2021-06-03\", \"2021-06-04\", \"2021-06-07\", \"2021-06-08\", \"2021-06-09\", \"2021-06-10\", \"2021-06-11\", \"2021-06-14\", \"2021-06-15\", \"2021-06-16\", \"2021-06-17\", \"2021-06-18\", \"2021-06-21\", \"2021-06-22\", \"2021-06-23\", \"2021-06-24\", \"2021-06-25\", \"2021-06-28\", \"2021-06-29\", \"2021-06-30\", \"2021-07-01\", \"2021-07-02\", \"2021-07-06\", \"2021-07-07\", \"2021-07-08\", \"2021-07-09\", \"2021-07-12\", \"2021-07-13\", \"2021-07-14\", \"2021-07-15\", \"2021-07-16\", \"2021-07-19\", \"2021-07-20\", \"2021-07-21\", \"2021-07-22\", \"2021-07-23\", \"2021-07-26\", \"2021-07-27\", \"2021-07-28\", \"2021-07-29\", \"2021-07-30\", \"2021-08-02\", \"2021-08-03\", \"2021-08-04\", \"2021-08-05\", \"2021-08-06\", \"2021-08-09\", \"2021-08-10\", \"2021-08-11\", \"2021-08-12\", \"2021-08-13\", \"2021-08-16\", \"2021-08-17\", \"2021-08-18\", \"2021-08-19\", \"2021-08-20\", \"2021-08-23\", \"2021-08-24\", \"2021-08-25\", \"2021-08-26\", \"2021-08-27\", \"2021-08-30\", \"2021-08-31\", \"2021-09-01\", \"2021-09-02\", \"2021-09-03\", \"2021-09-07\", \"2021-09-08\", \"2021-09-09\", \"2021-09-10\", \"2021-09-13\", \"2021-09-14\", \"2021-09-15\", \"2021-09-16\", \"2021-09-17\", \"2021-09-20\", \"2021-09-21\", \"2021-09-22\", \"2021-09-23\", \"2021-09-24\", \"2021-09-27\", \"2021-09-28\", \"2021-09-29\", \"2021-09-30\", \"2021-10-01\", \"2021-10-04\", \"2021-10-05\", \"2021-10-06\", \"2021-10-07\", \"2021-10-08\", \"2021-10-11\", \"2021-10-12\", \"2021-10-13\", \"2021-10-14\", \"2021-10-15\", \"2021-10-18\", \"2021-10-19\", \"2021-10-20\", \"2021-10-21\", \"2021-10-22\", \"2021-10-25\", \"2021-10-26\", \"2021-10-27\", \"2021-10-28\", \"2021-10-29\", \"2021-11-01\", \"2021-11-02\", \"2021-11-03\", \"2021-11-04\", \"2021-11-05\", \"2021-11-08\", \"2021-11-09\", \"2021-11-10\", \"2021-11-11\", \"2021-11-12\", \"2021-11-15\", \"2021-11-16\", \"2021-11-17\", \"2021-11-18\", \"2021-11-19\"], \"xaxis\": \"x\", \"yaxis\": \"y\"}, {\"mode\": \"lines\", \"name\": \"50MA\", \"type\": \"scatter\", \"x\": [\"2021-04-27\", \"2021-04-28\", \"2021-04-29\", \"2021-04-30\", \"2021-05-03\", \"2021-05-04\", \"2021-05-05\", \"2021-05-06\", \"2021-05-07\", \"2021-05-10\", \"2021-05-11\", \"2021-05-12\", \"2021-05-13\", \"2021-05-14\", \"2021-05-17\", \"2021-05-18\", \"2021-05-19\", \"2021-05-20\", \"2021-05-21\", \"2021-05-24\", \"2021-05-25\", \"2021-05-26\", \"2021-05-27\", \"2021-05-28\", \"2021-06-01\", \"2021-06-02\", \"2021-06-03\", \"2021-06-04\", \"2021-06-07\", \"2021-06-08\", \"2021-06-09\", \"2021-06-10\", \"2021-06-11\", \"2021-06-14\", \"2021-06-15\", \"2021-06-16\", \"2021-06-17\", \"2021-06-18\", \"2021-06-21\", \"2021-06-22\", \"2021-06-23\", \"2021-06-24\", \"2021-06-25\", \"2021-06-28\", \"2021-06-29\", \"2021-06-30\", \"2021-07-01\", \"2021-07-02\", \"2021-07-06\", \"2021-07-07\", \"2021-07-08\", \"2021-07-09\", \"2021-07-12\", \"2021-07-13\", \"2021-07-14\", \"2021-07-15\", \"2021-07-16\", \"2021-07-19\", \"2021-07-20\", \"2021-07-21\", \"2021-07-22\", \"2021-07-23\", \"2021-07-26\", \"2021-07-27\", \"2021-07-28\", \"2021-07-29\", \"2021-07-30\", \"2021-08-02\", \"2021-08-03\", \"2021-08-04\", \"2021-08-05\", \"2021-08-06\", \"2021-08-09\", \"2021-08-10\", \"2021-08-11\", \"2021-08-12\", \"2021-08-13\", \"2021-08-16\", \"2021-08-17\", \"2021-08-18\", \"2021-08-19\", \"2021-08-20\", \"2021-08-23\", \"2021-08-24\", \"2021-08-25\", \"2021-08-26\", \"2021-08-27\", \"2021-08-30\", \"2021-08-31\", \"2021-09-01\", \"2021-09-02\", \"2021-09-03\", \"2021-09-07\", \"2021-09-08\", \"2021-09-09\", \"2021-09-10\", \"2021-09-13\", \"2021-09-14\", \"2021-09-15\", \"2021-09-16\", \"2021-09-17\", \"2021-09-20\", \"2021-09-21\", \"2021-09-22\", \"2021-09-23\", \"2021-09-24\", \"2021-09-27\", \"2021-09-28\", \"2021-09-29\", \"2021-09-30\", \"2021-10-01\", \"2021-10-04\", \"2021-10-05\", \"2021-10-06\", \"2021-10-07\", \"2021-10-08\", \"2021-10-11\", \"2021-10-12\", \"2021-10-13\", \"2021-10-14\", \"2021-10-15\", \"2021-10-18\", \"2021-10-19\", \"2021-10-20\", \"2021-10-21\", \"2021-10-22\", \"2021-10-25\", \"2021-10-26\", \"2021-10-27\", \"2021-10-28\", \"2021-10-29\", \"2021-11-01\", \"2021-11-02\", \"2021-11-03\", \"2021-11-04\", \"2021-11-05\", \"2021-11-08\", \"2021-11-09\", \"2021-11-10\", \"2021-11-11\", \"2021-11-12\", \"2021-11-15\", \"2021-11-16\", \"2021-11-17\", \"2021-11-18\", \"2021-11-19\"], \"xaxis\": \"x\", \"y\": [257.83910000000014, 257.1651000000001, 256.5781000000001, 256.00770000000017, 255.45110000000014, 254.97730000000013, 254.62530000000012, 254.34430000000015, 254.33270000000016, 254.00830000000013, 253.50770000000014, 252.92210000000014, 252.63690000000014, 252.78130000000016, 252.8875000000002, 253.22990000000016, 253.28730000000013, 253.47670000000016, 253.41390000000018, 253.55030000000016, 253.72370000000018, 253.9649000000002, 254.1249000000002, 254.55710000000022, 254.9169000000002, 255.2726000000002, 255.55300000000022, 256.1284000000002, 256.6556000000002, 257.0980000000002, 257.6566000000002, 258.3152000000002, 258.8874000000002, 259.4352000000002, 259.85260000000017, 260.16520000000014, 260.61540000000014, 260.99300000000017, 261.31960000000015, 261.67400000000015, 261.92780000000016, 262.44780000000014, 262.75980000000015, 263.23540000000014, 263.7324000000001, 264.2734000000001, 264.75560000000013, 265.3150000000001, 265.8472000000001, 266.3554000000001, 266.88000000000005, 267.46240000000006, 268.1648, 268.94280000000003, 269.776, 270.70300000000003, 271.6476, 272.5042, 273.3984, 274.56120000000004, 275.663, 277.03540000000004, 278.35540000000003, 279.4392, 280.59159999999997, 281.3908, 282.00880000000006, 282.3978, 282.85400000000004, 283.2206, 283.661, 284.0244, 284.398, 284.68500000000006, 285.0278, 285.2762, 285.6186, 285.9234, 286.1334, 286.2472, 286.3868, 286.4566, 286.56719999999996, 286.6588, 286.77479999999997, 286.87080000000003, 286.8752, 286.97700000000003, 287.0882, 287.0882, 287.0364, 286.9548, 287.028, 286.8596, 286.74199999999996, 286.5988, 286.42859999999996, 286.2686, 286.0644, 285.7812, 285.407, 284.80100000000004, 284.13140000000004, 283.55440000000004, 283.12140000000005, 282.75340000000006, 282.32860000000005, 281.6754, 280.89400000000006, 280.06280000000004, 279.282, 278.2116, 277.2786, 276.5502, 275.7814, 275.3192, 274.9096, 274.6068, 274.264, 274.083, 273.83660000000003, 273.6524, 273.52340000000004, 273.20320000000004, 272.5392, 271.85540000000003, 271.2948, 270.5892, 269.866, 269.2258, 268.466, 267.6324, 266.682, 265.69939999999997, 264.71, 263.75319999999994, 262.775, 261.114, 259.43359999999996, 257.7392, 256.1946, 254.66279999999998, 253.111, 251.5318, 249.8042, 247.99000000000004], \"yaxis\": \"y\"}, {\"mode\": \"lines\", \"name\": \"100MA\", \"type\": \"scatter\", \"x\": [\"2021-04-27\", \"2021-04-28\", \"2021-04-29\", \"2021-04-30\", \"2021-05-03\", \"2021-05-04\", \"2021-05-05\", \"2021-05-06\", \"2021-05-07\", \"2021-05-10\", \"2021-05-11\", \"2021-05-12\", \"2021-05-13\", \"2021-05-14\", \"2021-05-17\", \"2021-05-18\", \"2021-05-19\", \"2021-05-20\", \"2021-05-21\", \"2021-05-24\", \"2021-05-25\", \"2021-05-26\", \"2021-05-27\", \"2021-05-28\", \"2021-06-01\", \"2021-06-02\", \"2021-06-03\", \"2021-06-04\", \"2021-06-07\", \"2021-06-08\", \"2021-06-09\", \"2021-06-10\", \"2021-06-11\", \"2021-06-14\", \"2021-06-15\", \"2021-06-16\", \"2021-06-17\", \"2021-06-18\", \"2021-06-21\", \"2021-06-22\", \"2021-06-23\", \"2021-06-24\", \"2021-06-25\", \"2021-06-28\", \"2021-06-29\", \"2021-06-30\", \"2021-07-01\", \"2021-07-02\", \"2021-07-06\", \"2021-07-07\", \"2021-07-08\", \"2021-07-09\", \"2021-07-12\", \"2021-07-13\", \"2021-07-14\", \"2021-07-15\", \"2021-07-16\", \"2021-07-19\", \"2021-07-20\", \"2021-07-21\", \"2021-07-22\", \"2021-07-23\", \"2021-07-26\", \"2021-07-27\", \"2021-07-28\", \"2021-07-29\", \"2021-07-30\", \"2021-08-02\", \"2021-08-03\", \"2021-08-04\", \"2021-08-05\", \"2021-08-06\", \"2021-08-09\", \"2021-08-10\", \"2021-08-11\", \"2021-08-12\", \"2021-08-13\", \"2021-08-16\", \"2021-08-17\", \"2021-08-18\", \"2021-08-19\", \"2021-08-20\", \"2021-08-23\", \"2021-08-24\", \"2021-08-25\", \"2021-08-26\", \"2021-08-27\", \"2021-08-30\", \"2021-08-31\", \"2021-09-01\", \"2021-09-02\", \"2021-09-03\", \"2021-09-07\", \"2021-09-08\", \"2021-09-09\", \"2021-09-10\", \"2021-09-13\", \"2021-09-14\", \"2021-09-15\", \"2021-09-16\", \"2021-09-17\", \"2021-09-20\", \"2021-09-21\", \"2021-09-22\", \"2021-09-23\", \"2021-09-24\", \"2021-09-27\", \"2021-09-28\", \"2021-09-29\", \"2021-09-30\", \"2021-10-01\", \"2021-10-04\", \"2021-10-05\", \"2021-10-06\", \"2021-10-07\", \"2021-10-08\", \"2021-10-11\", \"2021-10-12\", \"2021-10-13\", \"2021-10-14\", \"2021-10-15\", \"2021-10-18\", \"2021-10-19\", \"2021-10-20\", \"2021-10-21\", \"2021-10-22\", \"2021-10-25\", \"2021-10-26\", \"2021-10-27\", \"2021-10-28\", \"2021-10-29\", \"2021-11-01\", \"2021-11-02\", \"2021-11-03\", \"2021-11-04\", \"2021-11-05\", \"2021-11-08\", \"2021-11-09\", \"2021-11-10\", \"2021-11-11\", \"2021-11-12\", \"2021-11-15\", \"2021-11-16\", \"2021-11-17\", \"2021-11-18\", \"2021-11-19\"], \"xaxis\": \"x\", \"y\": [249.19865, 249.78394999999998, 250.31704999999994, 250.76224999999994, 251.17384999999996, 251.50604999999996, 251.87204999999997, 252.23884999999999, 252.63185, 252.86024999999998, 253.13025, 253.22734999999997, 253.28024999999997, 253.37865, 253.44504999999998, 253.44224999999994, 253.49414999999996, 253.62314999999998, 253.77274999999997, 254.03414999999998, 254.30555, 254.57725, 254.85275000000001, 255.10385000000002, 255.42825000000002, 255.69955, 255.85285, 256.10825, 256.33785, 256.52035, 256.73575, 257.03254999999996, 257.27455, 257.58125, 257.81375, 257.98195, 258.28555, 258.70935000000003, 259.24095, 259.73055, 260.26865, 260.78225, 261.18725, 261.60474999999997, 261.82804999999996, 262.04845, 262.11674999999997, 262.17715, 262.27175, 262.39275000000004, 262.35955, 262.31375, 262.37145, 262.47524999999996, 262.61355, 262.84015, 263.13645, 263.42425, 263.86555, 264.28475000000003, 264.58535, 264.97875, 265.49615, 266.11024999999995, 266.73955, 267.31034999999997, 267.64804999999996, 267.93725, 268.13394999999997, 268.38545, 268.69235, 268.99465, 269.26144999999997, 269.62104999999997, 269.97234999999995, 270.2744, 270.5858, 271.0259, 271.39449999999994, 271.67259999999993, 272.0217, 272.3859, 272.72729999999996, 273.0469999999999, 273.3136999999999, 273.5179999999999, 273.74529999999993, 273.98499999999996, 274.2039, 274.38109999999995, 274.48209999999995, 274.70129999999995, 274.8939, 275.04749999999996, 275.2372, 275.43609999999995, 275.5921, 275.7918, 275.9558, 276.0683, 276.1435, 276.1317, 276.14810000000006, 276.24860000000007, 276.44870000000003, 276.7282, 276.98810000000003, 277.08979999999997, 277.14619999999996, 277.31199999999995, 277.4725, 277.6235, 277.817, 277.9947, 278.1865, 278.355, 278.4592, 278.5023, 278.559, 278.65180000000004, 278.7488, 278.83840000000004, 278.96070000000003, 278.94410000000005, 278.7835, 278.5658000000001, 278.45670000000007, 278.25630000000007, 277.9997000000001, 277.73650000000004, 277.42640000000006, 277.0445, 276.62460000000004, 276.17910000000006, 275.74240000000003, 275.31200000000007, 274.8251, 274.0455, 273.2609, 272.4137, 271.6155, 270.8088, 270.0695, 269.1957, 268.2731, 267.2944], \"yaxis\": \"y\"}, {\"mode\": \"lines\", \"name\": \"200MA\", \"type\": \"scatter\", \"x\": [\"2021-04-27\", \"2021-04-28\", \"2021-04-29\", \"2021-04-30\", \"2021-05-03\", \"2021-05-04\", \"2021-05-05\", \"2021-05-06\", \"2021-05-07\", \"2021-05-10\", \"2021-05-11\", \"2021-05-12\", \"2021-05-13\", \"2021-05-14\", \"2021-05-17\", \"2021-05-18\", \"2021-05-19\", \"2021-05-20\", \"2021-05-21\", \"2021-05-24\", \"2021-05-25\", \"2021-05-26\", \"2021-05-27\", \"2021-05-28\", \"2021-06-01\", \"2021-06-02\", \"2021-06-03\", \"2021-06-04\", \"2021-06-07\", \"2021-06-08\", \"2021-06-09\", \"2021-06-10\", \"2021-06-11\", \"2021-06-14\", \"2021-06-15\", \"2021-06-16\", \"2021-06-17\", \"2021-06-18\", \"2021-06-21\", \"2021-06-22\", \"2021-06-23\", \"2021-06-24\", \"2021-06-25\", \"2021-06-28\", \"2021-06-29\", \"2021-06-30\", \"2021-07-01\", \"2021-07-02\", \"2021-07-06\", \"2021-07-07\", \"2021-07-08\", \"2021-07-09\", \"2021-07-12\", \"2021-07-13\", \"2021-07-14\", \"2021-07-15\", \"2021-07-16\", \"2021-07-19\", \"2021-07-20\", \"2021-07-21\", \"2021-07-22\", \"2021-07-23\", \"2021-07-26\", \"2021-07-27\", \"2021-07-28\", \"2021-07-29\", \"2021-07-30\", \"2021-08-02\", \"2021-08-03\", \"2021-08-04\", \"2021-08-05\", \"2021-08-06\", \"2021-08-09\", \"2021-08-10\", \"2021-08-11\", \"2021-08-12\", \"2021-08-13\", \"2021-08-16\", \"2021-08-17\", \"2021-08-18\", \"2021-08-19\", \"2021-08-20\", \"2021-08-23\", \"2021-08-24\", \"2021-08-25\", \"2021-08-26\", \"2021-08-27\", \"2021-08-30\", \"2021-08-31\", \"2021-09-01\", \"2021-09-02\", \"2021-09-03\", \"2021-09-07\", \"2021-09-08\", \"2021-09-09\", \"2021-09-10\", \"2021-09-13\", \"2021-09-14\", \"2021-09-15\", \"2021-09-16\", \"2021-09-17\", \"2021-09-20\", \"2021-09-21\", \"2021-09-22\", \"2021-09-23\", \"2021-09-24\", \"2021-09-27\", \"2021-09-28\", \"2021-09-29\", \"2021-09-30\", \"2021-10-01\", \"2021-10-04\", \"2021-10-05\", \"2021-10-06\", \"2021-10-07\", \"2021-10-08\", \"2021-10-11\", \"2021-10-12\", \"2021-10-13\", \"2021-10-14\", \"2021-10-15\", \"2021-10-18\", \"2021-10-19\", \"2021-10-20\", \"2021-10-21\", \"2021-10-22\", \"2021-10-25\", \"2021-10-26\", \"2021-10-27\", \"2021-10-28\", \"2021-10-29\", \"2021-11-01\", \"2021-11-02\", \"2021-11-03\", \"2021-11-04\", \"2021-11-05\", \"2021-11-08\", \"2021-11-09\", \"2021-11-10\", \"2021-11-11\", \"2021-11-12\", \"2021-11-15\", \"2021-11-16\", \"2021-11-17\", \"2021-11-18\", \"2021-11-19\"], \"xaxis\": \"x\", \"y\": [221.1333249999998, 221.63122499999974, 222.10897499999973, 222.56012499999974, 223.00652499999975, 223.38772499999976, 223.73062499999978, 224.11282499999976, 224.48752499999978, 224.83637499999975, 225.21657499999975, 225.52622499999976, 225.8488749999998, 226.1573249999998, 226.4165749999998, 226.6522749999998, 226.89007499999977, 227.16112499999977, 227.40002499999977, 227.66542499999977, 227.9655249999998, 228.3057749999998, 228.65797499999982, 229.0014749999998, 229.3324749999998, 229.6860249999998, 229.99352499999978, 230.3358749999998, 230.6766749999998, 231.0015249999998, 231.33557499999978, 231.6885249999998, 232.03742499999979, 232.39467499999978, 232.73242499999978, 233.05412499999977, 233.42397499999979, 233.79622499999977, 234.15762499999974, 234.56642499999975, 235.0478249999998, 235.5841249999998, 236.0591249999998, 236.57692499999982, 237.12072499999985, 237.64332499999986, 238.15822499999987, 238.70487499999984, 239.28912499999984, 239.89442499999984, 240.45362499999985, 241.01577499999985, 241.62257499999984, 242.21757499999984, 242.78507499999986, 243.30752499999988, 243.80817499999986, 244.29727499999987, 244.80292499999985, 245.3522249999998, 245.88642499999983, 246.4707749999998, 247.03172499999982, 247.56882499999986, 248.0923749999999, 248.50067499999986, 248.83962499999987, 249.17657499999987, 249.52837499999987, 249.88362499999988, 250.2866749999999, 250.6745749999999, 250.9999749999999, 251.3521749999999, 251.71902499999993, 252.1058749999999, 252.4782749999999, 252.90812499999993, 253.2884249999999, 253.70197499999992, 254.1160749999999, 254.58182499999992, 254.99527499999994, 255.37002499999994, 255.74482499999993, 256.18932499999994, 256.66417499999994, 257.14482499999997, 257.642625, 258.13327499999997, 258.601225, 259.08537499999994, 259.6010749999999, 260.07272499999993, 260.5437749999999, 260.96127499999994, 261.33372499999996, 261.6726249999999, 262.02782499999995, 262.37207499999994, 262.6710749999999, 262.95782499999996, 263.23257499999994, 263.50542499999995, 263.8112749999999, 264.11712499999993, 264.4300749999999, 264.6643249999999, 264.88902499999995, 265.0861249999999, 265.30137499999995, 265.42542499999996, 265.54862499999996, 265.686675, 265.815775, 265.898625, 265.97667499999994, 266.06272499999994, 266.1658749999999, 266.3429749999999, 266.52717499999994, 266.70782499999996, 266.90672499999994, 267.0239749999999, 267.1058749999999, 267.1326749999999, 267.1547749999999, 267.1822749999999, 267.1687749999999, 267.12842499999994, 267.0810749999999, 267.0385249999999, 266.94957499999987, 266.8801749999999, 266.7780749999999, 266.6469749999999, 266.55532499999987, 266.37742499999985, 266.2509249999998, 266.07212499999986, 265.9420749999999, 265.7955249999999, 265.6283749999999, 265.40022499999986, 265.05057499999987, 264.67142499999983], \"yaxis\": \"y\"}, {\"mode\": \"lines\", \"name\": \"RSI\", \"type\": \"scatter\", \"x\": [\"2021-04-27\", \"2021-04-28\", \"2021-04-29\", \"2021-04-30\", \"2021-05-03\", \"2021-05-04\", \"2021-05-05\", \"2021-05-06\", \"2021-05-07\", \"2021-05-10\", \"2021-05-11\", \"2021-05-12\", \"2021-05-13\", \"2021-05-14\", \"2021-05-17\", \"2021-05-18\", \"2021-05-19\", \"2021-05-20\", \"2021-05-21\", \"2021-05-24\", \"2021-05-25\", \"2021-05-26\", \"2021-05-27\", \"2021-05-28\", \"2021-06-01\", \"2021-06-02\", \"2021-06-03\", \"2021-06-04\", \"2021-06-07\", \"2021-06-08\", \"2021-06-09\", \"2021-06-10\", \"2021-06-11\", \"2021-06-14\", \"2021-06-15\", \"2021-06-16\", \"2021-06-17\", \"2021-06-18\", \"2021-06-21\", \"2021-06-22\", \"2021-06-23\", \"2021-06-24\", \"2021-06-25\", \"2021-06-28\", \"2021-06-29\", \"2021-06-30\", \"2021-07-01\", \"2021-07-02\", \"2021-07-06\", \"2021-07-07\", \"2021-07-08\", \"2021-07-09\", \"2021-07-12\", \"2021-07-13\", \"2021-07-14\", \"2021-07-15\", \"2021-07-16\", \"2021-07-19\", \"2021-07-20\", \"2021-07-21\", \"2021-07-22\", \"2021-07-23\", \"2021-07-26\", \"2021-07-27\", \"2021-07-28\", \"2021-07-29\", \"2021-07-30\", \"2021-08-02\", \"2021-08-03\", \"2021-08-04\", \"2021-08-05\", \"2021-08-06\", \"2021-08-09\"], \"xaxis\": \"x2\", \"y\": [\"57.0444\", \"58.7086\", \"55.4089\", \"50.195\", \"47.4288\", \"40.6899\", \"38.8525\", \"43.4554\", \"44.7544\", \"37.939\", \"42.7359\", \"37.3063\", \"38.1727\", \"43.3714\", \"42.0333\", \"41.2173\", \"42.6966\", \"49.3731\", \"48.6226\", \"54.3227\", \"55.5361\", \"57.757\", \"55.6654\", \"56.1603\", \"55.2545\", \"58.0706\", \"52.678\", \"57.7433\", \"54.8071\", \"57.2535\", \"57.6888\", \"62.9838\", \"64.5934\", \"67.2859\", \"62.7937\", \"58.5429\", \"66.0356\", \"69.4128\", \"69.0201\", \"71.2994\", \"72.1283\", \"75.0155\", \"69.5155\", \"71.9961\", \"70.6358\", \"68.6276\", \"64.7844\", \"65.8152\", \"67.781\", \"71.1262\", \"67.6234\", \"71.3879\", \"73.1839\", \"70.1266\", \"69.3553\", \"62.2501\", \"59.347\", \"59.5845\", \"62.9928\", \"66.4898\", \"68.1707\", \"71.9854\", \"68.8109\", \"58.6375\", \"60.1437\", \"40.3177\", \"35.2369\", \"32.6073\", \"35.4743\", \"37.7469\", \"43.3056\", \"42.4142\", \"41.2883\"], \"yaxis\": \"y2\"}, {\"mode\": \"markers+lines\", \"name\": \"Test\", \"type\": \"scatter\", \"x\": [\"2021-08-10\", \"2021-08-11\", \"2021-08-12\", \"2021-08-13\", \"2021-08-16\", \"2021-08-17\", \"2021-08-18\", \"2021-08-19\", \"2021-08-20\", \"2021-08-23\", \"2021-08-24\", \"2021-08-25\", \"2021-08-26\", \"2021-08-27\", \"2021-08-30\", \"2021-08-31\", \"2021-09-01\", \"2021-09-02\", \"2021-09-03\", \"2021-09-07\", \"2021-09-08\", \"2021-09-09\", \"2021-09-10\", \"2021-09-13\", \"2021-09-14\", \"2021-09-15\", \"2021-09-16\", \"2021-09-17\", \"2021-09-20\", \"2021-09-21\", \"2021-09-22\", \"2021-09-23\", \"2021-09-24\", \"2021-09-27\", \"2021-09-28\", \"2021-09-29\", \"2021-09-30\", \"2021-10-01\", \"2021-10-04\", \"2021-10-05\", \"2021-10-06\", \"2021-10-07\", \"2021-10-08\", \"2021-10-11\", \"2021-10-12\", \"2021-10-13\", \"2021-10-14\", \"2021-10-15\", \"2021-10-18\", \"2021-10-19\", \"2021-10-20\", \"2021-10-21\", \"2021-10-22\", \"2021-10-25\", \"2021-10-26\", \"2021-10-27\", \"2021-10-28\", \"2021-10-29\", \"2021-11-01\", \"2021-11-02\", \"2021-11-03\", \"2021-11-04\", \"2021-11-05\", \"2021-11-08\", \"2021-11-09\", \"2021-11-10\", \"2021-11-11\", \"2021-11-12\", \"2021-11-15\", \"2021-11-16\", \"2021-11-17\", \"2021-11-18\", \"2021-11-19\"], \"xaxis\": \"x2\", \"y\": [\"38.31\", \"40.7922\", \"39.2739\", \"39.6989\", \"44.1331\", \"37.7619\", \"36.0002\", \"38.3836\", \"41.5879\", \"46.6359\", \"49.5886\", \"47.5504\", \"43.2673\", \"48.9931\", \"58.6652\", \"58.8228\", \"56.4916\", \"54.9924\", \"58.4928\", \"62.1315\", \"52.4956\", \"54.0718\", \"51.2315\", \"47.2341\", \"49.1851\", \"49.4038\", \"50.0618\", \"42.717\", \"37.041\", \"36.698\", \"40.7102\", \"48.9717\", \"47.9187\", \"43.1541\", \"34.4107\", \"32.3974\", \"33.9754\", \"39.5513\", \"33.0292\", \"38.8221\", \"42.8703\", \"42.4679\", \"39.7765\", \"36.2179\", \"37.1843\", \"37.831\", \"49.0146\", \"50.8091\", \"52.6783\", \"53.9813\", \"41.887\", \"32.8779\", \"31.5236\", \"37.8785\", \"35.7397\", \"31.7315\", \"33.6117\", \"31.5148\", \"30.8739\", \"29.9623\", \"31.0703\", \"29.8753\", \"28.5399\", \"33.3276\", \"22.5839\", \"22.3319\", \"21.4688\", \"28.6075\", \"33.0403\", \"36.19\", \"31.4113\", \"28.8895\", \"26.1861\"], \"yaxis\": \"y2\"}, {\"mode\": \"markers+lines\", \"name\": \"Prediction\", \"type\": \"scatter\", \"x\": [\"2021-08-10\", \"2021-08-11\", \"2021-08-12\", \"2021-08-13\", \"2021-08-16\", \"2021-08-17\", \"2021-08-18\", \"2021-08-19\", \"2021-08-20\", \"2021-08-23\", \"2021-08-24\", \"2021-08-25\", \"2021-08-26\", \"2021-08-27\", \"2021-08-30\", \"2021-08-31\", \"2021-09-01\", \"2021-09-02\", \"2021-09-03\", \"2021-09-07\", \"2021-09-08\", \"2021-09-09\", \"2021-09-10\", \"2021-09-13\", \"2021-09-14\", \"2021-09-15\", \"2021-09-16\", \"2021-09-17\", \"2021-09-20\", \"2021-09-21\", \"2021-09-22\", \"2021-09-23\", \"2021-09-24\", \"2021-09-27\", \"2021-09-28\", \"2021-09-29\", \"2021-09-30\", \"2021-10-01\", \"2021-10-04\", \"2021-10-05\", \"2021-10-06\", \"2021-10-07\", \"2021-10-08\", \"2021-10-11\", \"2021-10-12\", \"2021-10-13\", \"2021-10-14\", \"2021-10-15\", \"2021-10-18\", \"2021-10-19\", \"2021-10-20\", \"2021-10-21\", \"2021-10-22\", \"2021-10-25\", \"2021-10-26\", \"2021-10-27\", \"2021-10-28\", \"2021-10-29\", \"2021-11-01\", \"2021-11-02\", \"2021-11-03\", \"2021-11-04\", \"2021-11-05\", \"2021-11-08\", \"2021-11-09\", \"2021-11-10\", \"2021-11-11\", \"2021-11-12\", \"2021-11-15\", \"2021-11-16\", \"2021-11-17\", \"2021-11-18\", \"2021-11-19\"], \"xaxis\": \"x2\", \"y\": [42.3969841003418, 50.48234176635742, 57.469486236572266, 53.77741622924805, 52.785823822021484, 54.16938018798828, 57.05302810668945, 49.49834060668945, 46.306396484375, 45.77014923095703, 45.26585006713867, 48.374595642089844, 50.148826599121094, 52.18806457519531, 45.97642135620117, 43.24058532714844, 45.537967681884766, 42.687416076660156, 43.971893310546875, 46.372596740722656, 42.33271789550781, 41.813072204589844, 42.016788482666016, 42.71638107299805, 42.87907791137695, 42.73632049560547, 40.269775390625, 42.59342575073242, 41.13872528076172, 37.82014083862305, 39.89935302734375, 40.772125244140625, 42.087547302246094, 45.69754409790039, 50.3288459777832, 48.89822006225586, 49.930206298828125, 49.883888244628906, 44.24347686767578, 43.327659606933594, 42.968711853027344, 42.71818923950195, 40.59149932861328, 41.22848129272461, 41.264869689941406, 41.193824768066406, 41.26670455932617, 41.0129508972168, 39.736839294433594, 39.045658111572266, 38.06387710571289, 37.993934631347656, 38.053672790527344, 39.02702331542969, 39.07412338256836, 39.475494384765625, 39.8335075378418, 35.85003662109375, 38.10260772705078], \"yaxis\": \"y2\"}, {\"mode\": \"markers+lines\", \"name\": \"Forecast\", \"type\": \"scatter\", \"x\": [\"2021-11-19T00:00:00\", \"2021-11-22T00:00:00\", \"2021-11-23T00:00:00\", \"2021-11-24T00:00:00\", \"2021-11-26T00:00:00\", \"2021-11-29T00:00:00\", \"2021-11-30T00:00:00\", \"2021-12-01T00:00:00\", \"2021-12-02T00:00:00\", \"2021-12-03T00:00:00\", \"2021-12-06T00:00:00\", \"2021-12-07T00:00:00\", \"2021-12-08T00:00:00\", \"2021-12-09T00:00:00\", \"2021-12-10T00:00:00\", \"2021-12-13T00:00:00\", \"2021-12-14T00:00:00\", \"2021-12-15T00:00:00\", \"2021-12-16T00:00:00\", \"2021-12-17T00:00:00\", \"2021-12-20T00:00:00\", \"2021-12-21T00:00:00\", \"2021-12-22T00:00:00\", \"2021-12-23T00:00:00\", \"2021-12-27T00:00:00\", \"2021-12-28T00:00:00\", \"2021-12-29T00:00:00\", \"2021-12-30T00:00:00\", \"2022-01-03T00:00:00\"], \"xaxis\": \"x2\", \"y\": [26.1861, 40.15164382925033, 41.48472394710779, 45.132209035077686, 43.35895806083679, 44.67380446580648, 41.90103110442459, 39.36527878296375, 39.678664693555234, 40.72402460892796, 41.26294590526223, 41.17605668160319, 41.35701043260395, 42.08238453620672, 40.67472777462303, 39.88913624846935, 39.54350023345053, 40.96292345941662, 41.10911187348663, 40.92011971504688, 40.76589806182384, 40.2351771125555, 39.267694652879236, 39.37978616167008, 39.96139233179688, 40.31794548953771, 39.91657640142441, 39.92591377140283, 39.700228505367036], \"yaxis\": \"y2\"}, {\"line\": {\"color\": \"rgb(100, 10, 100)\", \"dash\": \"dash\", \"shape\": \"linear\"}, \"mode\": \"lines\", \"type\": \"scatter\", \"x\": [\"2021-04-27\", \"2022-01-03T00:00:00\"], \"xaxis\": \"x2\", \"y\": [70, 70], \"yaxis\": \"y2\"}, {\"line\": {\"color\": \"rgb(10, 12, 240)\", \"dash\": \"dash\", \"shape\": \"linear\"}, \"mode\": \"lines\", \"type\": \"scatter\", \"x\": [\"2021-04-27\", \"2022-01-03T00:00:00\"], \"xaxis\": \"x2\", \"y\": [50, 50], \"yaxis\": \"y2\"}, {\"line\": {\"color\": \"rgb(10, 120, 24)\", \"dash\": \"dash\", \"shape\": \"linear\"}, \"mode\": \"lines\", \"type\": \"scatter\", \"x\": [\"2021-04-27\", \"2022-01-03T00:00:00\"], \"xaxis\": \"x2\", \"y\": [30, 30], \"yaxis\": \"y2\"}, {\"mode\": \"lines\", \"name\": \"Train Stoch SlowK\", \"type\": \"scatter\", \"x\": [\"2021-04-27\", \"2021-04-28\", \"2021-04-29\", \"2021-04-30\", \"2021-05-03\", \"2021-05-04\", \"2021-05-05\", \"2021-05-06\", \"2021-05-07\", \"2021-05-10\", \"2021-05-11\", \"2021-05-12\", \"2021-05-13\", \"2021-05-14\", \"2021-05-17\", \"2021-05-18\", \"2021-05-19\", \"2021-05-20\", \"2021-05-21\", \"2021-05-24\", \"2021-05-25\", \"2021-05-26\", \"2021-05-27\", \"2021-05-28\", \"2021-06-01\", \"2021-06-02\", \"2021-06-03\", \"2021-06-04\", \"2021-06-07\", \"2021-06-08\", \"2021-06-09\", \"2021-06-10\", \"2021-06-11\", \"2021-06-14\", \"2021-06-15\", \"2021-06-16\", \"2021-06-17\", \"2021-06-18\", \"2021-06-21\", \"2021-06-22\", \"2021-06-23\", \"2021-06-24\", \"2021-06-25\", \"2021-06-28\", \"2021-06-29\", \"2021-06-30\", \"2021-07-01\", \"2021-07-02\", \"2021-07-06\", \"2021-07-07\", \"2021-07-08\", \"2021-07-09\", \"2021-07-12\", \"2021-07-13\", \"2021-07-14\", \"2021-07-15\", \"2021-07-16\", \"2021-07-19\", \"2021-07-20\", \"2021-07-21\", \"2021-07-22\", \"2021-07-23\", \"2021-07-26\", \"2021-07-27\", \"2021-07-28\", \"2021-07-29\", \"2021-07-30\", \"2021-08-02\", \"2021-08-03\", \"2021-08-04\", \"2021-08-05\", \"2021-08-06\", \"2021-08-09\"], \"xaxis\": \"x3\", \"y\": [\"69.9878\", \"77.6428\", \"62.523\", \"42.3294\", \"22.8313\", \"10.8623\", \"10.571\", \"16.4319\", \"25.6326\", \"24.6339\", \"33.6492\", \"28.7476\", \"37.9278\", \"40.4474\", \"53.2039\", \"62.3452\", \"65.6101\", \"75.1969\", \"82.3179\", \"89.2668\", \"89.5971\", \"95.2269\", \"87.8877\", \"80.4249\", \"62.9165\", \"60.658\", \"43.3918\", \"56.0458\", \"50.1358\", \"70.839\", \"64.8357\", \"80.4093\", \"85.4242\", \"98.0553\", \"90.8958\", \"76.4869\", \"73.5884\", \"76.5733\", \"87.0738\", \"88.9964\", \"93.029\", \"93.8052\", \"83.7942\", \"79.5256\", \"74.2917\", \"66.979\", \"50.0927\", \"42.2589\", \"51.6631\", \"68.1713\", \"75.1743\", \"82.4271\", \"86.5289\", \"84.9694\", \"73.8688\", \"47.5686\", \"27.4663\", \"17.5597\", \"31.0765\", \"63.0623\", \"83.9435\", \"96.4608\", \"90.5897\", \"71.3202\", \"54.9881\", \"29.5119\", \"18.5333\", \"3.576\", \"5.7302\", \"14.6795\", \"46.6445\", \"68.6217\", \"80.7923\"], \"yaxis\": \"y3\"}, {\"mode\": \"lines\", \"name\": \"Train Stoch SlowD\", \"type\": \"scatter\", \"x\": [\"2021-04-27\", \"2021-04-28\", \"2021-04-29\", \"2021-04-30\", \"2021-05-03\", \"2021-05-04\", \"2021-05-05\", \"2021-05-06\", \"2021-05-07\", \"2021-05-10\", \"2021-05-11\", \"2021-05-12\", \"2021-05-13\", \"2021-05-14\", \"2021-05-17\", \"2021-05-18\", \"2021-05-19\", \"2021-05-20\", \"2021-05-21\", \"2021-05-24\", \"2021-05-25\", \"2021-05-26\", \"2021-05-27\", \"2021-05-28\", \"2021-06-01\", \"2021-06-02\", \"2021-06-03\", \"2021-06-04\", \"2021-06-07\", \"2021-06-08\", \"2021-06-09\", \"2021-06-10\", \"2021-06-11\", \"2021-06-14\", \"2021-06-15\", \"2021-06-16\", \"2021-06-17\", \"2021-06-18\", \"2021-06-21\", \"2021-06-22\", \"2021-06-23\", \"2021-06-24\", \"2021-06-25\", \"2021-06-28\", \"2021-06-29\", \"2021-06-30\", \"2021-07-01\", \"2021-07-02\", \"2021-07-06\", \"2021-07-07\", \"2021-07-08\", \"2021-07-09\", \"2021-07-12\", \"2021-07-13\", \"2021-07-14\", \"2021-07-15\", \"2021-07-16\", \"2021-07-19\", \"2021-07-20\", \"2021-07-21\", \"2021-07-22\", \"2021-07-23\", \"2021-07-26\", \"2021-07-27\", \"2021-07-28\", \"2021-07-29\", \"2021-07-30\", \"2021-08-02\", \"2021-08-03\", \"2021-08-04\", \"2021-08-05\", \"2021-08-06\", \"2021-08-09\"], \"xaxis\": \"x3\", \"y\": [\"53.1951\", \"67.4867\", \"70.0512\", \"60.8317\", \"42.5612\", \"25.341\", \"14.7549\", \"12.6217\", \"17.5452\", \"22.2328\", \"27.9719\", \"29.0102\", \"33.4415\", \"35.7076\", \"43.8597\", \"51.9988\", \"60.3864\", \"67.7174\", \"74.3749\", \"82.2605\", \"87.0606\", \"91.3636\", \"90.9039\", \"87.8465\", \"77.0764\", \"67.9998\", \"55.6554\", \"53.3652\", \"49.8578\", \"59.0068\", \"61.9368\", \"72.028\", \"76.8897\", \"87.9629\", \"91.4584\", \"88.4794\", \"80.3237\", \"75.5496\", \"79.0785\", \"84.2145\", \"89.6998\", \"91.9435\", \"90.2095\", \"85.7083\", \"79.2038\", \"73.5988\", \"63.7878\", \"53.1102\", \"48.0049\", \"54.0311\", \"65.0029\", \"75.2576\", \"81.3768\", \"84.6418\", \"81.789\", \"68.8023\", \"49.6346\", \"30.8649\", \"25.3675\", \"37.2329\", \"59.3608\", \"81.1555\", \"90.3313\", \"86.1236\", \"72.2993\", \"51.9401\", \"34.3445\", \"17.2071\", \"9.2798\", \"7.9952\", \"22.3514\", \"43.3152\", \"65.3528\"], \"yaxis\": \"y3\"}, {\"mode\": \"lines\", \"name\": \"Test Stoch SlowD\", \"type\": \"scatter\", \"x\": [\"2021-08-10\", \"2021-08-11\", \"2021-08-12\", \"2021-08-13\", \"2021-08-16\", \"2021-08-17\", \"2021-08-18\", \"2021-08-19\", \"2021-08-20\", \"2021-08-23\", \"2021-08-24\", \"2021-08-25\", \"2021-08-26\", \"2021-08-27\", \"2021-08-30\", \"2021-08-31\", \"2021-09-01\", \"2021-09-02\", \"2021-09-03\", \"2021-09-07\", \"2021-09-08\", \"2021-09-09\", \"2021-09-10\", \"2021-09-13\", \"2021-09-14\", \"2021-09-15\", \"2021-09-16\", \"2021-09-17\", \"2021-09-20\", \"2021-09-21\", \"2021-09-22\", \"2021-09-23\", \"2021-09-24\", \"2021-09-27\", \"2021-09-28\", \"2021-09-29\", \"2021-09-30\", \"2021-10-01\", \"2021-10-04\", \"2021-10-05\", \"2021-10-06\", \"2021-10-07\", \"2021-10-08\", \"2021-10-11\", \"2021-10-12\", \"2021-10-13\", \"2021-10-14\", \"2021-10-15\", \"2021-10-18\", \"2021-10-19\", \"2021-10-20\", \"2021-10-21\", \"2021-10-22\", \"2021-10-25\", \"2021-10-26\", \"2021-10-27\", \"2021-10-28\", \"2021-10-29\", \"2021-11-01\", \"2021-11-02\", \"2021-11-03\", \"2021-11-04\", \"2021-11-05\", \"2021-11-08\", \"2021-11-09\", \"2021-11-10\", \"2021-11-11\", \"2021-11-12\", \"2021-11-15\", \"2021-11-16\", \"2021-11-17\", \"2021-11-18\", \"2021-11-19\"], \"xaxis\": \"x3\", \"y\": [\"69.421\", \"61.9106\", \"45.2482\", \"35.5001\", \"33.6409\", \"36.7441\", \"37.5072\", \"30.1069\", \"26.2308\", \"34.5871\", \"55.0113\", \"75.7464\", \"81.5294\", \"77.3848\", \"70.0615\", \"72.5859\", \"76.5174\", \"77.0311\", \"72.5922\", \"72.0604\", \"69.059\", \"61.3435\", \"40.912\", \"25.847\", \"15.7207\", \"19.0068\", \"25.838\", \"30.813\", \"30.0598\", \"22.7394\", \"21.3099\", \"28.5083\", \"46.2955\", \"61.971\", \"62.5682\", \"46.9345\", \"25.7465\", \"17.1383\", \"18.0895\", \"27.9752\", \"39.2381\", \"55.4522\", \"65.5217\", \"61.5265\", \"45.4614\", \"26.9973\", \"26.4504\", \"40.7379\", \"67.7211\", \"85.3157\", \"87.0048\", \"68.6244\", \"40.398\", \"18.9468\", \"9.4356\", \"10.1433\", \"11.0002\", \"10.2122\", \"9.3479\", \"7.9646\", \"10.9747\", \"15.7812\", \"21.8474\", \"26.5964\", \"28.4984\", \"29.9711\", \"22.9594\", \"17.9451\", \"21.3191\", \"41.1461\", \"60.7398\", \"63.1227\", \"44.5007\"], \"yaxis\": \"y3\"}, {\"mode\": \"lines\", \"name\": \"Test Stoch SlowK\", \"type\": \"scatter\", \"x\": [\"2021-08-10\", \"2021-08-11\", \"2021-08-12\", \"2021-08-13\", \"2021-08-16\", \"2021-08-17\", \"2021-08-18\", \"2021-08-19\", \"2021-08-20\", \"2021-08-23\", \"2021-08-24\", \"2021-08-25\", \"2021-08-26\", \"2021-08-27\", \"2021-08-30\", \"2021-08-31\", \"2021-09-01\", \"2021-09-02\", \"2021-09-03\", \"2021-09-07\", \"2021-09-08\", \"2021-09-09\", \"2021-09-10\", \"2021-09-13\", \"2021-09-14\", \"2021-09-15\", \"2021-09-16\", \"2021-09-17\", \"2021-09-20\", \"2021-09-21\", \"2021-09-22\", \"2021-09-23\", \"2021-09-24\", \"2021-09-27\", \"2021-09-28\", \"2021-09-29\", \"2021-09-30\", \"2021-10-01\", \"2021-10-04\", \"2021-10-05\", \"2021-10-06\", \"2021-10-07\", \"2021-10-08\", \"2021-10-11\", \"2021-10-12\", \"2021-10-13\", \"2021-10-14\", \"2021-10-15\", \"2021-10-18\", \"2021-10-19\", \"2021-10-20\", \"2021-10-21\", \"2021-10-22\", \"2021-10-25\", \"2021-10-26\", \"2021-10-27\", \"2021-10-28\", \"2021-10-29\", \"2021-11-01\", \"2021-11-02\", \"2021-11-03\", \"2021-11-04\", \"2021-11-05\", \"2021-11-08\", \"2021-11-09\", \"2021-11-10\", \"2021-11-11\", \"2021-11-12\", \"2021-11-15\", \"2021-11-16\", \"2021-11-17\", \"2021-11-18\", \"2021-11-19\"], \"xaxis\": \"x3\", \"y\": [\"58.8491\", \"46.0905\", \"30.805\", \"29.6047\", \"40.5131\", \"40.1146\", \"31.894\", \"18.312\", \"28.4864\", \"56.9628\", \"79.5849\", \"90.6915\", \"74.3118\", \"67.151\", \"68.7216\", \"81.8852\", \"78.9453\", \"70.2626\", \"68.5685\", \"77.3502\", \"61.2582\", \"45.422\", \"16.0558\", \"16.0631\", \"15.0432\", \"25.9141\", \"36.5567\", \"29.9682\", \"23.6546\", \"14.5955\", \"25.6797\", \"45.2497\", \"67.9571\", \"72.7062\", \"47.0413\", \"21.0561\", \"9.1422\", \"21.2166\", \"23.9096\", \"38.7995\", \"55.0052\", \"72.552\", \"69.008\", \"43.0196\", \"24.3565\", \"13.6157\", \"41.379\", \"67.2189\", \"94.5655\", \"94.1625\", \"72.2864\", \"39.4242\", \"9.4835\", \"7.9328\", \"10.8906\", \"11.6066\", \"10.5034\", \"8.5265\", \"9.0139\", \"6.3534\", \"17.5568\", \"23.4334\", \"24.5521\", \"31.8037\", \"29.1395\", \"28.9701\", \"10.7686\", \"14.0966\", \"39.0922\", \"70.2496\", \"72.8777\", \"46.2407\", \"14.3836\"], \"yaxis\": \"y3\"}, {\"mode\": \"lines\", \"name\": \"Prediction Stoch SlowD\", \"type\": \"scatter\", \"x\": [\"2021-08-10\", \"2021-08-11\", \"2021-08-12\", \"2021-08-13\", \"2021-08-16\", \"2021-08-17\", \"2021-08-18\", \"2021-08-19\", \"2021-08-20\", \"2021-08-23\", \"2021-08-24\", \"2021-08-25\", \"2021-08-26\", \"2021-08-27\", \"2021-08-30\", \"2021-08-31\", \"2021-09-01\", \"2021-09-02\", \"2021-09-03\", \"2021-09-07\", \"2021-09-08\", \"2021-09-09\", \"2021-09-10\", \"2021-09-13\", \"2021-09-14\", \"2021-09-15\", \"2021-09-16\", \"2021-09-17\", \"2021-09-20\", \"2021-09-21\", \"2021-09-22\", \"2021-09-23\", \"2021-09-24\", \"2021-09-27\", \"2021-09-28\", \"2021-09-29\", \"2021-09-30\", \"2021-10-01\", \"2021-10-04\", \"2021-10-05\", \"2021-10-06\", \"2021-10-07\", \"2021-10-08\", \"2021-10-11\", \"2021-10-12\", \"2021-10-13\", \"2021-10-14\", \"2021-10-15\", \"2021-10-18\", \"2021-10-19\", \"2021-10-20\", \"2021-10-21\", \"2021-10-22\", \"2021-10-25\", \"2021-10-26\", \"2021-10-27\", \"2021-10-28\", \"2021-10-29\", \"2021-11-01\", \"2021-11-02\", \"2021-11-03\", \"2021-11-04\", \"2021-11-05\", \"2021-11-08\", \"2021-11-09\", \"2021-11-10\", \"2021-11-11\", \"2021-11-12\", \"2021-11-15\", \"2021-11-16\", \"2021-11-17\", \"2021-11-18\", \"2021-11-19\"], \"xaxis\": \"x3\", \"y\": [57.04088592529297, 62.645206451416016, 79.86266326904297, 80.72928619384766, 72.0181655883789, 67.48638153076172, 71.39869689941406, 59.55632019042969, 38.00971603393555, 23.561147689819336, 17.57322883605957, 21.62090492248535, 21.694303512573242, 30.23103141784668, 27.7697811126709, 21.771766662597656, 24.068683624267578, 26.72466468811035, 47.943519592285156, 68.12252044677734, 67.45509338378906, 49.737545013427734, 34.93791580200195, 27.57229995727539, 31.43705940246582, 35.520851135253906, 38.97946548461914, 56.16570281982422, 69.6920394897461, 63.49862289428711, 48.9257698059082, 35.60871505737305, 29.177570343017578, 43.85627746582031, 67.2798843383789, 80.93548583984375, 85.45883178710938, 70.5488052368164, 44.134971618652344, 28.59578514099121, 21.6263484954834, 24.541505813598633, 23.88707733154297, 28.378095626831055, 27.770723342895508, 26.143993377685547, 25.36898422241211, 28.143627166748047, 31.60382652282715, 31.881534576416016, 33.89101791381836, 33.568904876708984, 30.623199462890625, 27.524734497070312, 27.051856994628906, 40.24351501464844, 62.682456970214844, 67.14434814453125, 55.46044158935547], \"yaxis\": \"y3\"}, {\"mode\": \"lines\", \"name\": \"Prediction Stoch SlowK\", \"type\": \"scatter\", \"x\": [\"2021-08-10\", \"2021-08-11\", \"2021-08-12\", \"2021-08-13\", \"2021-08-16\", \"2021-08-17\", \"2021-08-18\", \"2021-08-19\", \"2021-08-20\", \"2021-08-23\", \"2021-08-24\", \"2021-08-25\", \"2021-08-26\", \"2021-08-27\", \"2021-08-30\", \"2021-08-31\", \"2021-09-01\", \"2021-09-02\", \"2021-09-03\", \"2021-09-07\", \"2021-09-08\", \"2021-09-09\", \"2021-09-10\", \"2021-09-13\", \"2021-09-14\", \"2021-09-15\", \"2021-09-16\", \"2021-09-17\", \"2021-09-20\", \"2021-09-21\", \"2021-09-22\", \"2021-09-23\", \"2021-09-24\", \"2021-09-27\", \"2021-09-28\", \"2021-09-29\", \"2021-09-30\", \"2021-10-01\", \"2021-10-04\", \"2021-10-05\", \"2021-10-06\", \"2021-10-07\", \"2021-10-08\", \"2021-10-11\", \"2021-10-12\", \"2021-10-13\", \"2021-10-14\", \"2021-10-15\", \"2021-10-18\", \"2021-10-19\", \"2021-10-20\", \"2021-10-21\", \"2021-10-22\", \"2021-10-25\", \"2021-10-26\", \"2021-10-27\", \"2021-10-28\", \"2021-10-29\", \"2021-11-01\", \"2021-11-02\", \"2021-11-03\", \"2021-11-04\", \"2021-11-05\", \"2021-11-08\", \"2021-11-09\", \"2021-11-10\", \"2021-11-11\", \"2021-11-12\", \"2021-11-15\", \"2021-11-16\", \"2021-11-17\", \"2021-11-18\", \"2021-11-19\"], \"xaxis\": \"x3\", \"y\": [41.704376220703125, 66.44637298583984, 87.13396453857422, 79.3091812133789, 63.57441329956055, 63.821434020996094, 77.0289077758789, 49.41012191772461, 24.290904998779297, 18.016386032104492, 21.251331329345703, 34.14540100097656, 34.15909957885742, 44.04987335205078, 33.04609680175781, 26.095827102661133, 30.682960510253906, 41.60539245605469, 69.52247619628906, 82.28334045410156, 58.77409744262695, 33.62830352783203, 27.865541458129883, 30.718734741210938, 45.88685989379883, 45.8896484375, 49.55457305908203, 71.51661682128906, 75.57846069335938, 51.51764678955078, 35.230316162109375, 28.92045783996582, 32.76685333251953, 61.932491302490234, 83.83419036865234, 83.93321228027344, 81.592041015625, 50.61674118041992, 22.619768142700195, 20.03176498413086, 25.895771026611328, 38.294593811035156, 37.85090255737305, 39.45576095581055, 36.80961608886719, 36.65212631225586, 37.03814697265625, 42.61371994018555, 44.60884475708008, 40.91233444213867, 44.12623596191406, 38.92216873168945, 35.921630859375, 34.194541931152344, 37.953922271728516, 59.429908752441406, 79.28924560546875, 62.81993865966797, 39.90415954589844], \"yaxis\": \"y3\"}, {\"mode\": \"markers+lines\", \"name\": \"Forecast Stoch SlowD\", \"type\": \"scatter\", \"x\": [\"2021-11-19T00:00:00\", \"2021-11-22T00:00:00\", \"2021-11-23T00:00:00\", \"2021-11-24T00:00:00\", \"2021-11-26T00:00:00\", \"2021-11-29T00:00:00\", \"2021-11-30T00:00:00\", \"2021-12-01T00:00:00\", \"2021-12-02T00:00:00\", \"2021-12-03T00:00:00\", \"2021-12-06T00:00:00\", \"2021-12-07T00:00:00\", \"2021-12-08T00:00:00\", \"2021-12-09T00:00:00\", \"2021-12-10T00:00:00\", \"2021-12-13T00:00:00\", \"2021-12-14T00:00:00\", \"2021-12-15T00:00:00\", \"2021-12-16T00:00:00\", \"2021-12-17T00:00:00\", \"2021-12-20T00:00:00\", \"2021-12-21T00:00:00\", \"2021-12-22T00:00:00\", \"2021-12-23T00:00:00\", \"2021-12-27T00:00:00\", \"2021-12-28T00:00:00\", \"2021-12-29T00:00:00\", \"2021-12-30T00:00:00\", \"2022-01-03T00:00:00\"], \"xaxis\": \"x3\", \"y\": [44.5007, 41.60363478288651, 38.506424668866394, 54.087038750028604, 64.99916392104625, 70.91159619646072, 67.73697073367833, 52.6741988726139, 38.754288116949795, 31.380888124978544, 34.36624598559141, 41.23519010186195, 46.80960286291241, 53.34899350759983, 52.537450934362404, 46.16452528768777, 38.46178790087104, 31.663698731207848, 30.52582040744424, 33.517793340229986, 39.19326493114233, 43.305205248475076, 40.10104235599041, 33.680764663761856, 29.87949323180914, 29.84208852618933, 31.857967338353397, 33.381646772176026, 35.002584167945386], \"yaxis\": \"y3\"}, {\"mode\": \"markers+lines\", \"name\": \"Forecast Stoch SlowK\", \"type\": \"scatter\", \"x\": [\"2021-11-19T00:00:00\", \"2021-11-22T00:00:00\", \"2021-11-23T00:00:00\", \"2021-11-24T00:00:00\", \"2021-11-26T00:00:00\", \"2021-11-29T00:00:00\", \"2021-11-30T00:00:00\", \"2021-12-01T00:00:00\", \"2021-12-02T00:00:00\", \"2021-12-03T00:00:00\", \"2021-12-06T00:00:00\", \"2021-12-07T00:00:00\", \"2021-12-08T00:00:00\", \"2021-12-09T00:00:00\", \"2021-12-10T00:00:00\", \"2021-12-13T00:00:00\", \"2021-12-14T00:00:00\", \"2021-12-15T00:00:00\", \"2021-12-16T00:00:00\", \"2021-12-17T00:00:00\", \"2021-12-20T00:00:00\", \"2021-12-21T00:00:00\", \"2021-12-22T00:00:00\", \"2021-12-23T00:00:00\", \"2021-12-27T00:00:00\", \"2021-12-28T00:00:00\", \"2021-12-29T00:00:00\", \"2021-12-30T00:00:00\", \"2022-01-03T00:00:00\"], \"xaxis\": \"x3\", \"y\": [14.383600000000001, 32.35645309461057, 43.75421994844974, 70.11763454781175, 71.23791812438965, 74.47123442248106, 60.45944815387131, 37.26003851844371, 29.21145130723715, 31.313728044980767, 44.43165827388168, 50.07414880997837, 54.52831713289619, 58.12436912866831, 50.29633871449828, 41.86227337605358, 33.181915719196205, 34.021856686332825, 36.81804924087525, 42.5838168663472, 48.43421606359184, 45.22550619015098, 37.078918451428414, 31.213322907480602, 31.92568157603145, 36.061430543822055, 36.95676201167107, 39.455244703397156, 40.108755188494925], \"yaxis\": \"y3\"}, {\"line\": {\"color\": \"rgb(100, 10, 100)\", \"dash\": \"dash\", \"shape\": \"linear\"}, \"mode\": \"lines\", \"type\": \"scatter\", \"x\": [\"2021-04-27\", \"2022-01-03T00:00:00\"], \"xaxis\": \"x3\", \"y\": [70, 70], \"yaxis\": \"y3\"}, {\"line\": {\"color\": \"rgb(10, 12, 240)\", \"dash\": \"dash\", \"shape\": \"linear\"}, \"mode\": \"lines\", \"type\": \"scatter\", \"x\": [\"2021-04-27\", \"2022-01-03T00:00:00\"], \"xaxis\": \"x3\", \"y\": [50, 50], \"yaxis\": \"y3\"}, {\"line\": {\"color\": \"rgb(10, 120, 24)\", \"dash\": \"dash\", \"shape\": \"linear\"}, \"mode\": \"lines\", \"type\": \"scatter\", \"x\": [\"2021-04-27\", \"2022-01-03T00:00:00\"], \"xaxis\": \"x3\", \"y\": [30, 30], \"yaxis\": \"y3\"}],\n",
              "                        {\"annotations\": [{\"font\": {\"size\": 16}, \"showarrow\": false, \"text\": \"<a href=\\\"https://in.tradingview.com/chart/66XmQfYy/?symbol=PYPL\\\">PYPL</a> Date:2021-11-19 Open:202.19 High:193.0701 Low:202.5 Close:193.61\", \"x\": 0.5, \"xanchor\": \"center\", \"xref\": \"paper\", \"y\": 1.0, \"yanchor\": \"bottom\", \"yref\": \"paper\"}, {\"font\": {\"size\": 16}, \"showarrow\": false, \"text\": \"<a href=\\\"https://in.tradingview.com/chart/66XmQfYy/?symbol=PYPL\\\">PYPL</a> RSI(14) Date:2021-11-19 Close:26.1861 Forecast(14):40.0\", \"x\": 0.5, \"xanchor\": \"center\", \"xref\": \"paper\", \"y\": 0.5666666666666667, \"yanchor\": \"bottom\", \"yref\": \"paper\"}], \"height\": 650, \"template\": {\"data\": {\"bar\": [{\"error_x\": {\"color\": \"#2a3f5f\"}, \"error_y\": {\"color\": \"#2a3f5f\"}, \"marker\": {\"line\": {\"color\": \"#E5ECF6\", \"width\": 0.5}}, \"type\": \"bar\"}], \"barpolar\": [{\"marker\": {\"line\": {\"color\": \"#E5ECF6\", \"width\": 0.5}}, \"type\": \"barpolar\"}], \"carpet\": [{\"aaxis\": {\"endlinecolor\": \"#2a3f5f\", \"gridcolor\": \"white\", \"linecolor\": \"white\", \"minorgridcolor\": \"white\", \"startlinecolor\": \"#2a3f5f\"}, \"baxis\": {\"endlinecolor\": \"#2a3f5f\", \"gridcolor\": \"white\", \"linecolor\": \"white\", \"minorgridcolor\": \"white\", \"startlinecolor\": \"#2a3f5f\"}, \"type\": \"carpet\"}], \"choropleth\": [{\"colorbar\": {\"outlinewidth\": 0, \"ticks\": \"\"}, \"type\": \"choropleth\"}], \"contour\": [{\"colorbar\": {\"outlinewidth\": 0, \"ticks\": \"\"}, \"colorscale\": [[0.0, \"#0d0887\"], [0.1111111111111111, \"#46039f\"], [0.2222222222222222, \"#7201a8\"], [0.3333333333333333, \"#9c179e\"], [0.4444444444444444, \"#bd3786\"], [0.5555555555555556, \"#d8576b\"], [0.6666666666666666, \"#ed7953\"], [0.7777777777777778, \"#fb9f3a\"], [0.8888888888888888, \"#fdca26\"], [1.0, \"#f0f921\"]], \"type\": \"contour\"}], \"contourcarpet\": [{\"colorbar\": {\"outlinewidth\": 0, \"ticks\": \"\"}, \"type\": \"contourcarpet\"}], \"heatmap\": [{\"colorbar\": {\"outlinewidth\": 0, \"ticks\": \"\"}, \"colorscale\": [[0.0, \"#0d0887\"], [0.1111111111111111, \"#46039f\"], [0.2222222222222222, \"#7201a8\"], [0.3333333333333333, \"#9c179e\"], [0.4444444444444444, \"#bd3786\"], [0.5555555555555556, \"#d8576b\"], [0.6666666666666666, \"#ed7953\"], [0.7777777777777778, \"#fb9f3a\"], [0.8888888888888888, \"#fdca26\"], [1.0, \"#f0f921\"]], \"type\": \"heatmap\"}], \"heatmapgl\": [{\"colorbar\": {\"outlinewidth\": 0, \"ticks\": \"\"}, \"colorscale\": [[0.0, \"#0d0887\"], [0.1111111111111111, \"#46039f\"], [0.2222222222222222, \"#7201a8\"], [0.3333333333333333, \"#9c179e\"], [0.4444444444444444, \"#bd3786\"], [0.5555555555555556, \"#d8576b\"], [0.6666666666666666, \"#ed7953\"], [0.7777777777777778, \"#fb9f3a\"], [0.8888888888888888, \"#fdca26\"], [1.0, \"#f0f921\"]], \"type\": \"heatmapgl\"}], \"histogram\": [{\"marker\": {\"colorbar\": {\"outlinewidth\": 0, \"ticks\": \"\"}}, \"type\": \"histogram\"}], \"histogram2d\": [{\"colorbar\": {\"outlinewidth\": 0, \"ticks\": \"\"}, \"colorscale\": [[0.0, \"#0d0887\"], [0.1111111111111111, \"#46039f\"], [0.2222222222222222, \"#7201a8\"], [0.3333333333333333, \"#9c179e\"], [0.4444444444444444, \"#bd3786\"], [0.5555555555555556, \"#d8576b\"], [0.6666666666666666, \"#ed7953\"], [0.7777777777777778, \"#fb9f3a\"], [0.8888888888888888, \"#fdca26\"], [1.0, \"#f0f921\"]], \"type\": \"histogram2d\"}], \"histogram2dcontour\": [{\"colorbar\": {\"outlinewidth\": 0, \"ticks\": \"\"}, \"colorscale\": [[0.0, \"#0d0887\"], [0.1111111111111111, \"#46039f\"], [0.2222222222222222, \"#7201a8\"], [0.3333333333333333, \"#9c179e\"], [0.4444444444444444, \"#bd3786\"], [0.5555555555555556, \"#d8576b\"], [0.6666666666666666, \"#ed7953\"], [0.7777777777777778, \"#fb9f3a\"], [0.8888888888888888, \"#fdca26\"], [1.0, \"#f0f921\"]], \"type\": \"histogram2dcontour\"}], \"mesh3d\": [{\"colorbar\": {\"outlinewidth\": 0, \"ticks\": \"\"}, \"type\": \"mesh3d\"}], \"parcoords\": [{\"line\": {\"colorbar\": {\"outlinewidth\": 0, \"ticks\": \"\"}}, \"type\": \"parcoords\"}], \"pie\": [{\"automargin\": true, \"type\": \"pie\"}], \"scatter\": [{\"marker\": {\"colorbar\": {\"outlinewidth\": 0, \"ticks\": \"\"}}, \"type\": \"scatter\"}], \"scatter3d\": [{\"line\": {\"colorbar\": {\"outlinewidth\": 0, \"ticks\": \"\"}}, \"marker\": {\"colorbar\": {\"outlinewidth\": 0, \"ticks\": \"\"}}, \"type\": \"scatter3d\"}], \"scattercarpet\": [{\"marker\": {\"colorbar\": {\"outlinewidth\": 0, \"ticks\": \"\"}}, \"type\": \"scattercarpet\"}], \"scattergeo\": [{\"marker\": {\"colorbar\": {\"outlinewidth\": 0, \"ticks\": \"\"}}, \"type\": \"scattergeo\"}], \"scattergl\": [{\"marker\": {\"colorbar\": {\"outlinewidth\": 0, \"ticks\": \"\"}}, \"type\": \"scattergl\"}], \"scattermapbox\": [{\"marker\": {\"colorbar\": {\"outlinewidth\": 0, \"ticks\": \"\"}}, \"type\": \"scattermapbox\"}], \"scatterpolar\": [{\"marker\": {\"colorbar\": {\"outlinewidth\": 0, \"ticks\": \"\"}}, \"type\": \"scatterpolar\"}], \"scatterpolargl\": [{\"marker\": {\"colorbar\": {\"outlinewidth\": 0, \"ticks\": \"\"}}, \"type\": \"scatterpolargl\"}], \"scatterternary\": [{\"marker\": {\"colorbar\": {\"outlinewidth\": 0, \"ticks\": \"\"}}, \"type\": \"scatterternary\"}], \"surface\": [{\"colorbar\": {\"outlinewidth\": 0, \"ticks\": \"\"}, \"colorscale\": [[0.0, \"#0d0887\"], [0.1111111111111111, \"#46039f\"], [0.2222222222222222, \"#7201a8\"], [0.3333333333333333, \"#9c179e\"], [0.4444444444444444, \"#bd3786\"], [0.5555555555555556, \"#d8576b\"], [0.6666666666666666, \"#ed7953\"], [0.7777777777777778, \"#fb9f3a\"], [0.8888888888888888, \"#fdca26\"], [1.0, \"#f0f921\"]], \"type\": \"surface\"}], \"table\": [{\"cells\": {\"fill\": {\"color\": \"#EBF0F8\"}, \"line\": {\"color\": \"white\"}}, \"header\": {\"fill\": {\"color\": \"#C8D4E3\"}, \"line\": {\"color\": \"white\"}}, \"type\": \"table\"}]}, \"layout\": {\"annotationdefaults\": {\"arrowcolor\": \"#2a3f5f\", \"arrowhead\": 0, \"arrowwidth\": 1}, \"coloraxis\": {\"colorbar\": {\"outlinewidth\": 0, \"ticks\": \"\"}}, \"colorscale\": {\"diverging\": [[0, \"#8e0152\"], [0.1, \"#c51b7d\"], [0.2, \"#de77ae\"], [0.3, \"#f1b6da\"], [0.4, \"#fde0ef\"], [0.5, \"#f7f7f7\"], [0.6, \"#e6f5d0\"], [0.7, \"#b8e186\"], [0.8, \"#7fbc41\"], [0.9, \"#4d9221\"], [1, \"#276419\"]], \"sequential\": [[0.0, \"#0d0887\"], [0.1111111111111111, \"#46039f\"], [0.2222222222222222, \"#7201a8\"], [0.3333333333333333, \"#9c179e\"], [0.4444444444444444, \"#bd3786\"], [0.5555555555555556, \"#d8576b\"], [0.6666666666666666, \"#ed7953\"], [0.7777777777777778, \"#fb9f3a\"], [0.8888888888888888, \"#fdca26\"], [1.0, \"#f0f921\"]], \"sequentialminus\": [[0.0, \"#0d0887\"], [0.1111111111111111, \"#46039f\"], [0.2222222222222222, \"#7201a8\"], [0.3333333333333333, \"#9c179e\"], [0.4444444444444444, \"#bd3786\"], [0.5555555555555556, \"#d8576b\"], [0.6666666666666666, \"#ed7953\"], [0.7777777777777778, \"#fb9f3a\"], [0.8888888888888888, \"#fdca26\"], [1.0, \"#f0f921\"]]}, \"colorway\": [\"#636efa\", \"#EF553B\", \"#00cc96\", \"#ab63fa\", \"#FFA15A\", \"#19d3f3\", \"#FF6692\", \"#B6E880\", \"#FF97FF\", \"#FECB52\"], \"font\": {\"color\": \"#2a3f5f\"}, \"geo\": {\"bgcolor\": \"white\", \"lakecolor\": \"white\", \"landcolor\": \"#E5ECF6\", \"showlakes\": true, \"showland\": true, \"subunitcolor\": \"white\"}, \"hoverlabel\": {\"align\": \"left\"}, \"hovermode\": \"closest\", \"mapbox\": {\"style\": \"light\"}, \"paper_bgcolor\": \"white\", \"plot_bgcolor\": \"#E5ECF6\", \"polar\": {\"angularaxis\": {\"gridcolor\": \"white\", \"linecolor\": \"white\", \"ticks\": \"\"}, \"bgcolor\": \"#E5ECF6\", \"radialaxis\": {\"gridcolor\": \"white\", \"linecolor\": \"white\", \"ticks\": \"\"}}, \"scene\": {\"xaxis\": {\"backgroundcolor\": \"#E5ECF6\", \"gridcolor\": \"white\", \"gridwidth\": 2, \"linecolor\": \"white\", \"showbackground\": true, \"ticks\": \"\", \"zerolinecolor\": \"white\"}, \"yaxis\": {\"backgroundcolor\": \"#E5ECF6\", \"gridcolor\": \"white\", \"gridwidth\": 2, \"linecolor\": \"white\", \"showbackground\": true, \"ticks\": \"\", \"zerolinecolor\": \"white\"}, \"zaxis\": {\"backgroundcolor\": \"#E5ECF6\", \"gridcolor\": \"white\", \"gridwidth\": 2, \"linecolor\": \"white\", \"showbackground\": true, \"ticks\": \"\", \"zerolinecolor\": \"white\"}}, \"shapedefaults\": {\"line\": {\"color\": \"#2a3f5f\"}}, \"ternary\": {\"aaxis\": {\"gridcolor\": \"white\", \"linecolor\": \"white\", \"ticks\": \"\"}, \"baxis\": {\"gridcolor\": \"white\", \"linecolor\": \"white\", \"ticks\": \"\"}, \"bgcolor\": \"#E5ECF6\", \"caxis\": {\"gridcolor\": \"white\", \"linecolor\": \"white\", \"ticks\": \"\"}}, \"title\": {\"x\": 0.05}, \"xaxis\": {\"automargin\": true, \"gridcolor\": \"white\", \"linecolor\": \"white\", \"ticks\": \"\", \"title\": {\"standoff\": 15}, \"zerolinecolor\": \"white\", \"zerolinewidth\": 2}, \"yaxis\": {\"automargin\": true, \"gridcolor\": \"white\", \"linecolor\": \"white\", \"ticks\": \"\", \"title\": {\"standoff\": 15}, \"zerolinecolor\": \"white\", \"zerolinewidth\": 2}}}, \"xaxis\": {\"anchor\": \"y\", \"domain\": [0.0, 1.0], \"rangeslider\": {\"visible\": false}, \"showspikes\": true, \"spikedash\": \"dash\", \"spikemode\": \"across\", \"spikesnap\": \"cursor\"}, \"xaxis2\": {\"anchor\": \"y2\", \"domain\": [0.0, 1.0], \"showspikes\": true, \"spikedash\": \"dash\", \"spikemode\": \"across\", \"spikesnap\": \"cursor\"}, \"xaxis3\": {\"anchor\": \"y3\", \"domain\": [0.0, 1.0], \"showspikes\": true, \"spikedash\": \"dash\", \"spikemode\": \"across\", \"spikesnap\": \"cursor\"}, \"yaxis\": {\"anchor\": \"x\", \"domain\": [0.7333333333333334, 1.0], \"showspikes\": true, \"spikedash\": \"dash\", \"spikemode\": \"across\", \"spikesnap\": \"cursor\"}, \"yaxis2\": {\"anchor\": \"x2\", \"domain\": [0.3666666666666667, 0.5666666666666667], \"showspikes\": true, \"spikedash\": \"dash\", \"spikemode\": \"across\", \"spikesnap\": \"cursor\"}, \"yaxis3\": {\"anchor\": \"x3\", \"domain\": [0.0, 0.2], \"showspikes\": true, \"spikedash\": \"dash\", \"spikemode\": \"across\", \"spikesnap\": \"cursor\"}},\n",
              "                        {\"responsive\": true}\n",
              "                    ).then(function(){\n",
              "                            \n",
              "var gd = document.getElementById('e38bba30-7d3b-479a-b754-70f0f1f8bcd4');\n",
              "var x = new MutationObserver(function (mutations, observer) {{\n",
              "        var display = window.getComputedStyle(gd).display;\n",
              "        if (!display || display === 'none') {{\n",
              "            console.log([gd, 'removed!']);\n",
              "            Plotly.purge(gd);\n",
              "            observer.disconnect();\n",
              "        }}\n",
              "}});\n",
              "\n",
              "// Listen for the removal of the full notebook cells\n",
              "var notebookContainer = gd.closest('#notebook-container');\n",
              "if (notebookContainer) {{\n",
              "    x.observe(notebookContainer, {childList: true});\n",
              "}}\n",
              "\n",
              "// Listen for the clearing of the current output cell\n",
              "var outputEl = gd.closest('.output');\n",
              "if (outputEl) {{\n",
              "    x.observe(outputEl, {childList: true});\n",
              "}}\n",
              "\n",
              "                        })\n",
              "                };\n",
              "                \n",
              "            </script>\n",
              "        </div>\n",
              "</body>\n",
              "</html>"
            ]
          },
          "metadata": {}
        }
      ]
    }
  ]
}