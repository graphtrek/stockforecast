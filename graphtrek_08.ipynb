{
  "nbformat": 4,
  "nbformat_minor": 0,
  "metadata": {
    "colab": {
      "name": "graphtrek_08.ipynb",
      "provenance": [],
      "include_colab_link": true
    },
    "kernelspec": {
      "name": "python3",
      "display_name": "Python 3"
    },
    "language_info": {
      "name": "python"
    }
  },
  "cells": [
    {
      "cell_type": "markdown",
      "metadata": {
        "id": "view-in-github",
        "colab_type": "text"
      },
      "source": [
        "<a href=\"https://colab.research.google.com/github/graphtrek/stockforecast/blob/main/graphtrek_08.ipynb\" target=\"_parent\"><img src=\"https://colab.research.google.com/assets/colab-badge.svg\" alt=\"Open In Colab\"/></a>"
      ]
    },
    {
      "cell_type": "code",
      "metadata": {
        "id": "sZPC3Z9u3evF"
      },
      "source": [
        "import numpy as np\n",
        "from tensorflow.keras.models import Sequential\n",
        "from tensorflow.keras.layers import LSTM\n",
        "from tensorflow.keras.optimizers import Adam\n",
        "from tensorflow.keras.losses import MAE\n",
        "from tensorflow.keras.layers import Dense, Dropout\n",
        "from tensorflow import keras\n",
        "from datetime import datetime, timedelta\n",
        "import pandas as pd\n",
        "import os, time\n",
        "from matplotlib import pyplot as plt\n",
        "from sklearn.preprocessing import StandardScaler\n",
        "import seaborn as sns\n",
        "import plotly.graph_objects as go\n",
        "import plotly.express as px\n",
        "from sklearn.preprocessing import MinMaxScaler\n",
        "from pandas.tseries.holiday import USFederalHolidayCalendar\n",
        "from pandas.tseries.offsets import CustomBusinessDay\n",
        "from keras.preprocessing.sequence import TimeseriesGenerator\n",
        "from tensorflow.keras.models import Sequential\n",
        "from tensorflow.keras.layers import LSTM\n",
        "from tensorflow.keras.optimizers import Adam\n",
        "from tensorflow.keras.losses import MAE\n",
        "from tensorflow.keras.layers import Dense, Dropout\n",
        "from tensorflow import keras\n",
        "from datetime import datetime, timedelta\n",
        "import pandas as pd\n",
        "import os, time\n",
        "from matplotlib import pyplot as plt\n",
        "from sklearn.preprocessing import StandardScaler\n",
        "import seaborn as sns\n",
        "import plotly.graph_objects as go\n",
        "import plotly.express as px\n",
        "from plotly.subplots import make_subplots\n",
        "from sklearn.preprocessing import MinMaxScaler\n",
        "from pandas.tseries.holiday import USFederalHolidayCalendar\n",
        "from pandas.tseries.offsets import CustomBusinessDay\n",
        "from keras.preprocessing.sequence import TimeseriesGenerator\n",
        "from pathlib import Path"
      ],
      "execution_count": 50,
      "outputs": []
    },
    {
      "cell_type": "code",
      "metadata": {
        "id": "HKYStAEQ3mh6"
      },
      "source": [
        "ticker = \"TSLA\" # QQQ, SPY, VTI JETS, XLE, XLF, XLNX, ARKK, ARKG, ARKQ, ARKF, PYPL, V\n",
        "look_back = 14 #  number of past days we want to use to predict 1 day in the future.\n",
        "max_data_size = 730 # ~2 years\n",
        "split_percent = 0.90 # use 90% of the data  for train\n",
        "INFO = 1\n",
        "DEBUG = 2\n",
        "TRACE = 3\n",
        "print_level = INFO \n",
        "indicators_model_file_path = '/content/drive/MyDrive/models/' + ticker + '_' + str(look_back) + '_indicators_08.h5'\n",
        "nr_of_features = 3\n",
        "look_forward = 1\n",
        "epochs = 150\n",
        "learning_rate=0.0001\n",
        "num_prediction = look_back\n",
        "apikey = '3F4URDEKOPLFH25T'\n",
        "np.random.seed(42)"
      ],
      "execution_count": 51,
      "outputs": []
    },
    {
      "cell_type": "code",
      "metadata": {
        "id": "tPJ9HBOO3-2-",
        "colab": {
          "base_uri": "https://localhost:8080/"
        },
        "outputId": "97739fb0-a44a-44dd-f592-e4d5731f5009"
      },
      "source": [
        "rsi_url = 'https://www.alphavantage.co/query?function=RSI&datatype=json&symbol='+ticker+'&interval=daily&time_period='+str(look_back)+'&series_type=close&apikey=' + apikey\n",
        "print(rsi_url)\n",
        "rsi_api_response = pd.read_json(rsi_url)\n",
        "#print(rsi_api_response)\n",
        "rsi_api_data = rsi_api_response['Technical Analysis: RSI']\n",
        "#print(rsi_api_data)\n",
        "rsi_api_data = rsi_api_data.drop(\n",
        "    index=['1: Symbol','2: Indicator','3: Last Refreshed','4: Interval','5: Time Period','6: Series Type','7: Time Zone']);\n",
        "#print(rsi_api_data)\n",
        "\n",
        "rsi_data = []\n",
        "for key, value in rsi_api_data.items():\n",
        "  date = key\n",
        "  rsi = float(value.get('RSI'))\n",
        "  rsi_data.append([date,rsi])\n",
        "\n",
        "last_rsi_data =  str(rsi_data[0])\n",
        "first_rsi_data =  str(rsi_data[-1])\n",
        "print('rsi_data_length:', len(rsi_data), 'first_rsi_data:', first_rsi_data, 'last_rsi_data:', last_rsi_data)  "
      ],
      "execution_count": 52,
      "outputs": [
        {
          "output_type": "stream",
          "name": "stdout",
          "text": [
            "https://www.alphavantage.co/query?function=RSI&datatype=json&symbol=TSLA&interval=daily&time_period=14&series_type=close&apikey=3F4URDEKOPLFH25T\n",
            "rsi_data_length: 2857 first_rsi_data: ['2010-07-20', 39.2063] last_rsi_data: ['2021-11-19', 62.2782]\n"
          ]
        }
      ]
    },
    {
      "cell_type": "code",
      "metadata": {
        "colab": {
          "base_uri": "https://localhost:8080/"
        },
        "id": "GmEkUmlfJFsW",
        "outputId": "4f2ae2a8-806c-49bd-ff22-c8cd1fb8f490"
      },
      "source": [
        "stoch_url = 'https://www.alphavantage.co/query?function=STOCH&symbol='+ticker+'&interval=daily&apikey=' + apikey\n",
        "print(stoch_url)\n",
        "stoch_api_response = pd.read_json(stoch_url)\n",
        "stoch_api_data = stoch_api_response['Technical Analysis: STOCH']\n",
        "#print(rsi_api_data)\n",
        "stoch_api_data = stoch_api_data.drop(\n",
        "    index=['1: Symbol','2: Indicator','3: Last Refreshed','4: Interval','5.1: FastK Period','5.2: SlowK Period','5.3: SlowK MA Type','5.4: SlowD Period','5.5: SlowD MA Type','6: Time Zone'])\n",
        "#print(stoch_api_data)\n",
        "stoch_data = []\n",
        "for key, value in stoch_api_data.items():\n",
        "  date = key\n",
        "  SlowD = float(value.get('SlowD'))\n",
        "  SlowK = float(value.get('SlowK'))\n",
        "  stoch_data.append([date,SlowD,SlowK])\n",
        "\n",
        "last_stoch_data =  str(stoch_data[0])\n",
        "first_stoch_data =  str(stoch_data[-1])\n",
        "print('stoch_data_length:', len(stoch_data), 'first_stoch_data:', first_stoch_data, 'last_stoch_data:', last_stoch_data)  "
      ],
      "execution_count": 53,
      "outputs": [
        {
          "output_type": "stream",
          "name": "stdout",
          "text": [
            "https://www.alphavantage.co/query?function=STOCH&symbol=TSLA&interval=daily&apikey=3F4URDEKOPLFH25T\n",
            "stoch_data_length: 2863 first_stoch_data: ['2010-07-12', 20.1544, 31.2357] last_stoch_data: ['2021-11-19', 71.0083, 86.9181]\n"
          ]
        }
      ]
    },
    {
      "cell_type": "code",
      "metadata": {
        "colab": {
          "base_uri": "https://localhost:8080/"
        },
        "id": "gTTORjJJ22lE",
        "outputId": "686136cf-f381-44b1-de1a-4d379e4fd604"
      },
      "source": [
        "stock_url = 'https://www.alphavantage.co/query?function=TIME_SERIES_DAILY_ADJUSTED&symbol='+ticker+'&outputsize=full&apikey=' + apikey\n",
        "print(stock_url)\n",
        "stock_api_response = pd.read_json(stock_url)\n",
        "stock_api_data = stock_api_response['Time Series (Daily)']\n",
        "#print(stock_api_data)\n",
        "stock_api_data = stock_api_data.drop(index=['1. Information','2. Symbol','3. Last Refreshed','4. Output Size','5. Time Zone']);\n",
        "\n",
        "stock_data = []\n",
        "split_coefficient = 1\n",
        "\n",
        "for key, value in stock_api_data.items():\n",
        "  date = key\n",
        "  open = float(value.get('1. open'))\n",
        "  high = float(value.get('2. high'))\n",
        "  low = float(value.get('3. low'))\n",
        "  close = float(value.get('4. close'))\n",
        "  adjusted_close = float(value.get('5. adjusted close'))\n",
        "  volume = int(value.get('6. volume'))\n",
        "  divident = float(value.get('7. dividend amount'))\n",
        "\n",
        "  if float(value.get('8. split coefficient')) > 1:\n",
        "    split_coefficient = float(value.get('8. split coefficient'))\n",
        "    \n",
        "  open = open / split_coefficient\n",
        "  high = high /split_coefficient\n",
        "  close = close / split_coefficient\n",
        "  low = low / split_coefficient\n",
        "  \n",
        "  stock_data.append([\n",
        "      date,\n",
        "      close,\n",
        "      volume,\n",
        "      high,\n",
        "      low,\n",
        "      open,\n",
        "      divident\n",
        "      ])\n",
        "\n",
        "last_date =  str(stock_data[0][0])\n",
        "print('data length:', len(stock_data), 'last_date:', last_date)\n",
        "\n",
        "last_stock_data =  str(stock_data[0])\n",
        "first_stock_data =  str(stock_data[-1])\n",
        "print('stock_data_length:', len(stock_data), 'first_stock_data:', first_stock_data, 'last_stock_data:', last_stock_data)"
      ],
      "execution_count": 54,
      "outputs": [
        {
          "output_type": "stream",
          "name": "stdout",
          "text": [
            "https://www.alphavantage.co/query?function=TIME_SERIES_DAILY_ADJUSTED&symbol=TSLA&outputsize=full&apikey=3F4URDEKOPLFH25T\n",
            "data length: 2871 last_date: 2021-11-19\n",
            "stock_data_length: 2871 first_stock_data: ['2010-06-29', 4.7780000000000005, 18766300, 5.0, 3.508, 3.8, 0.0] last_stock_data: ['2021-11-19', 1137.06, 21642258, 1138.7199, 1092.7, 1098.87, 0.0]\n"
          ]
        }
      ]
    },
    {
      "cell_type": "code",
      "metadata": {
        "id": "GzJkdoRGuYmf",
        "colab": {
          "base_uri": "https://localhost:8080/"
        },
        "outputId": "902426f8-e598-4b0d-c539-dffe3ea31e76"
      },
      "source": [
        "if max_data_size < np.min([len(rsi_data), len(stoch_data), len(stock_data)]):\n",
        "  rsi_data = np.flip(rsi_data[:max_data_size],axis=0)\n",
        "  stoch_data = np.flip(stoch_data[:max_data_size],axis=0)\n",
        "  stock_data = np.flip(stock_data[:max_data_size],axis=0)\n",
        "else:\n",
        "  rsi_data = np.flip(rsi_data,axis=0)\n",
        "  stoch_data = np.flip(stoch_data,axis=0)\n",
        "  stock_data = np.flip(stock_data,axis=0)\n",
        "\n",
        "dates = stock_data[:,0]\n",
        "\n",
        "rsi_array = rsi_data[:,1]\n",
        "stoch_slowD_array = stoch_data[:,1]\n",
        "stoch_slowK_array = stoch_data[:,2]\n",
        "#np.expand_dims(dates, axis=1)[:10]\n",
        "\n",
        "indicators_lstm_data = np.expand_dims(rsi_array, axis=1).astype(float)\n",
        "indicators_lstm_data = np.append(indicators_lstm_data, np.expand_dims(stoch_slowD_array, axis=1),axis=1).astype(float)\n",
        "indicators_lstm_data = np.append(indicators_lstm_data, np.expand_dims(stoch_slowK_array, axis=1),axis=1).astype(float)\n",
        "#lstm_data = np.reshape(lstm_data, (-1, 2))\n",
        "indicators_lstm_data[:10]"
      ],
      "execution_count": 55,
      "outputs": [
        {
          "output_type": "execute_result",
          "data": {
            "text/plain": [
              "array([[ 48.595500000000,  64.274900000000,  80.351500000000],\n",
              "       [ 41.622000000000,  74.720300000000,  71.899400000000],\n",
              "       [ 39.026600000000,  65.022000000000,  42.815000000000],\n",
              "       [ 45.522400000000,  48.372000000000,  30.401700000000],\n",
              "       [ 51.111900000000,  40.574200000000,  48.505900000000],\n",
              "       [ 51.233600000000,  50.727200000000,  73.273900000000],\n",
              "       [ 52.276700000000,  69.428400000000,  86.505300000000],\n",
              "       [ 54.403600000000,  83.114400000000,  89.563900000000],\n",
              "       [ 55.168800000000,  90.191100000000,  94.504200000000],\n",
              "       [ 50.085800000000,  86.885700000000,  76.588900000000]])"
            ]
          },
          "metadata": {},
          "execution_count": 55
        }
      ]
    },
    {
      "cell_type": "code",
      "metadata": {
        "id": "xHrOFKHo3ocW"
      },
      "source": [
        "stock_df = pd.DataFrame(stock_data,columns=['Date','Close','Volume','High','Low','Open','Divident'])\n",
        "stock_df['50MA'] = stock_df['Close'].rolling(50).mean()\n",
        "stock_df['100MA'] = stock_df['Close'].rolling(100).mean()\n",
        "stock_df['200MA'] = stock_df['Close'].rolling(200).mean()"
      ],
      "execution_count": 56,
      "outputs": []
    },
    {
      "cell_type": "code",
      "metadata": {
        "id": "OYTx2W6N4JIM"
      },
      "source": [
        "indicators_df = pd.DataFrame(rsi_data,columns=['Date','RSI'])\n",
        "\n",
        "split = int(split_percent*len(rsi_data))\n",
        "if len(rsi_data) - split < look_back:\n",
        "  split = look_back\n",
        "split\n",
        "\n",
        "\n",
        "indicators_df_train = indicators_df.iloc[:split]\n",
        "indicators_df_test = indicators_df.iloc[split:]\n",
        "\n",
        "indicators_lstm_train_data = indicators_lstm_data[:split]\n",
        "indicators_lstm_test_data = indicators_lstm_data[split:]"
      ],
      "execution_count": 57,
      "outputs": []
    },
    {
      "cell_type": "code",
      "metadata": {
        "id": "5oRtthul4Pyj"
      },
      "source": [
        "np.set_printoptions(formatter={'float': '{: 0.12f}'.format})\n",
        "\n",
        "indicators_scaler = MinMaxScaler(feature_range=(0, 1))\n",
        "indicators_scaler = indicators_scaler.fit(indicators_lstm_data)\n",
        "\n",
        "indicators_lstm_train_data_scaled = indicators_scaler.transform(indicators_lstm_train_data)\n",
        "if print_level >= TRACE:\n",
        "  print(indicators_lstm_train_data_scaled[:look_back+1])\n",
        "  print(indicators_lstm_train_data_scaled.shape)\n",
        "\n",
        "indicators_lstm_test_data_scaled = indicators_scaler.transform(indicators_lstm_test_data)\n",
        "if print_level >= TRACE:\n",
        "  print(indicators_lstm_test_data_scaled[:look_back+1])\n",
        "  print(indicators_lstm_test_data_scaled.shape)"
      ],
      "execution_count": 58,
      "outputs": []
    },
    {
      "cell_type": "code",
      "metadata": {
        "id": "Cmmqy0nc4Slr"
      },
      "source": [
        "indicators_train_generator = TimeseriesGenerator(indicators_lstm_train_data_scaled, indicators_lstm_train_data_scaled, sampling_rate=1, length=look_back, batch_size=64)\n",
        "\n",
        "if print_level >= TRACE:\n",
        "  print('Samples: %d' % len(indicators_train_generator))\n",
        "  # print each sample\n",
        "  for i in range(2):\n",
        "    x, y = indicators_train_generator[i]\n",
        "    print('%s => %s' % (x, y))"
      ],
      "execution_count": 59,
      "outputs": []
    },
    {
      "cell_type": "code",
      "metadata": {
        "id": "xFQnXfRp6tVP",
        "colab": {
          "base_uri": "https://localhost:8080/"
        },
        "outputId": "c020a8e0-ee6c-46ad-d468-324c8fe185e9"
      },
      "source": [
        "indicators_model = None\n",
        "try:\n",
        "  indicators_model = keras.models.load_model(indicators_model_file_path)\n",
        "  modified = os.path.getmtime(indicators_model_file_path)\n",
        "\n",
        "  print(pd.to_datetime(last_date).date() - datetime.fromtimestamp(modified).date() )\n",
        "  print('Loaded', indicators_model_file_path , ' model train date:',datetime.fromtimestamp(modified).date() , 'last date:', last_date)\n",
        "except:\n",
        "  indicators_model = None\n",
        "  print('Model ' + indicators_model_file_path + ' does not exists.')"
      ],
      "execution_count": 60,
      "outputs": [
        {
          "output_type": "stream",
          "name": "stdout",
          "text": [
            "Model /content/drive/MyDrive/models/TSLA_14_indicators_08.h5 does not exists.\n"
          ]
        }
      ]
    },
    {
      "cell_type": "code",
      "metadata": {
        "id": "r59DQEiZ0u18",
        "colab": {
          "base_uri": "https://localhost:8080/"
        },
        "outputId": "a038e9db-b470-45bc-c6a4-c15184e26115"
      },
      "source": [
        "if indicators_model is None:\n",
        "  indicators_model = Sequential()\n",
        "  indicators_model.add(LSTM(units=50, activation='tanh', input_shape=(look_back, nr_of_features), return_sequences=True))\n",
        "  indicators_model.add(Dropout(0.2))\n",
        "  indicators_model.add(LSTM(units=50, return_sequences=True, activation=\"tanh\"))\n",
        "  indicators_model.add(Dropout(0.2))\n",
        "  indicators_model.add(LSTM(units=50, return_sequences=True, activation=\"tanh\"))\n",
        "  indicators_model.add(Dropout(0.2))\n",
        "  indicators_model.add(LSTM(units=50, activation=\"tanh\"))\n",
        "  indicators_model.add(Dropout(0.2))\n",
        "  indicators_model.add(Dense(nr_of_features))\n",
        "\n",
        "  indicators_model.compile(\n",
        "      loss=MAE,\n",
        "      optimizer=Adam(learning_rate=learning_rate),\n",
        "      metrics=[\"mae\"]\n",
        "  )\n",
        "    \n",
        "  #model.summary()\n",
        "  print('Model ' + indicators_model_file_path + ' compiled.')\n",
        "\n",
        "  indicators_modelo = indicators_model.fit(indicators_train_generator, epochs=epochs, verbose=0 )\n",
        "  \n",
        "  indicators_model.save(indicators_model_file_path)\n",
        "  print('Saved model ' + indicators_model_file_path)\n",
        "\n",
        "  if print_level >= DEBUG:\n",
        "    plt.plot(indicators_modelo.history['loss'])\n",
        "    plt.xlabel('Epochs')\n",
        "    plt.ylabel('Loss')\n",
        "    plt.show()"
      ],
      "execution_count": 61,
      "outputs": [
        {
          "output_type": "stream",
          "name": "stdout",
          "text": [
            "Model /content/drive/MyDrive/models/TSLA_14_indicators_08.h5 compiled.\n",
            "Saved model /content/drive/MyDrive/models/TSLA_14_indicators_08.h5\n"
          ]
        }
      ]
    },
    {
      "cell_type": "code",
      "metadata": {
        "colab": {
          "base_uri": "https://localhost:8080/"
        },
        "id": "xkdpY8eE4XlZ",
        "outputId": "71b7e6c7-367e-4a8e-a952-5f5facf769e6"
      },
      "source": [
        "indicators_test_generator = TimeseriesGenerator(indicators_lstm_test_data_scaled, indicators_lstm_test_data_scaled,sampling_rate=1, length=look_back, batch_size=look_back)\n",
        "\n",
        "print('Samples: %d' % len(indicators_test_generator))\n",
        "# print each sample\n",
        "if print_level >= TRACE:\n",
        "  for i in range(2):\n",
        "    x, y = indicators_test_generator[i]\n",
        "    print('%s => %s' % (x, y))"
      ],
      "execution_count": 62,
      "outputs": [
        {
          "output_type": "stream",
          "name": "stdout",
          "text": [
            "Samples: 5\n"
          ]
        }
      ]
    },
    {
      "cell_type": "code",
      "metadata": {
        "id": "WAS1RHA1Mn10"
      },
      "source": [
        "#Make prediction\n",
        "indicators_prediction_scaled = indicators_model.predict(indicators_test_generator)\n",
        "\n",
        "if print_level >= DEBUG:\n",
        "  np.set_printoptions(formatter={'float': '{: 0.12f}'.format})\n",
        "  print(indicators_prediction_scaled[:5])\n",
        "\n",
        "indicators_prediction = indicators_scaler.inverse_transform(indicators_prediction_scaled)\n",
        "if nr_of_features == 1:\n",
        "   rsi_prediction = indicators_prediction.reshape((-1))\n",
        "else:\n",
        "  rsi_prediction = indicators_prediction[:,0].reshape((-1))\n",
        "\n",
        "\n",
        "if print_level >= DEBUG:\n",
        "  np.set_printoptions(formatter={'float': '{: 0.2f}'.format})\n",
        "  print('indicators_prediction shape:',indicators_prediction.shape)\n",
        "\n",
        "  for x in range(look_back + 1):\n",
        "    print('pred:',indicators_prediction[x], 'test:', indicators_lstm_test_data[x])\n"
      ],
      "execution_count": 63,
      "outputs": []
    },
    {
      "cell_type": "code",
      "metadata": {
        "colab": {
          "base_uri": "https://localhost:8080/"
        },
        "id": "ae72DYdyd0zp",
        "outputId": "1c80a522-4e4c-47e9-e617-8ffa705f94ba"
      },
      "source": [
        "def predict(num_prediction, model):\n",
        "    prediction_list = indicators_lstm_test_data_scaled[-look_back:]\n",
        "    #print('prediction_list',prediction_list)\n",
        "    for _ in range(num_prediction):\n",
        "        x = prediction_list[-look_back:]\n",
        "        #print(x)\n",
        "        x = x.reshape((1, look_back, nr_of_features))\n",
        "        out = model.predict(x)\n",
        "        #print(x,out) \n",
        "        prediction_list = np.append(prediction_list, out, axis=0)\n",
        "    prediction_list = prediction_list[look_back-1:]\n",
        "        \n",
        "    return prediction_list\n",
        "    \n",
        "def predict_dates(last_date,num_prediction):\n",
        "    us_bd = CustomBusinessDay(calendar=USFederalHolidayCalendar())\n",
        "    prediction_dates = pd.date_range(last_date, periods=num_prediction+1,freq=us_bd).tolist()\n",
        "    return prediction_dates\n",
        "\n",
        "indicators_forecast_scaled = predict(num_prediction, indicators_model)\n",
        "#print(forecast_scaled)\n",
        "indicators_forecast_dates = predict_dates(indicators_df['Date'].values[-1],num_prediction)\n",
        "\n",
        "indicators_forecast = indicators_scaler.inverse_transform(indicators_forecast_scaled.reshape((-1,nr_of_features)))\n",
        "if nr_of_features == 1:\n",
        "   rsi_forecast = indicators_forecast.reshape((-1))\n",
        "else:\n",
        "  rsi_forecast = indicators_forecast[:,0].reshape((-1))\n",
        "print('indicators_forecast:',indicators_forecast)\n",
        "print('rsi_forecast:',rsi_forecast)"
      ],
      "execution_count": 64,
      "outputs": [
        {
          "output_type": "stream",
          "name": "stdout",
          "text": [
            "indicators_forecast: [[ 62.278200000000  71.008300000000  86.918100000000]\n",
            " [ 59.773703317958  57.972965465462  56.819891818094]\n",
            " [ 58.283287259740  58.295519124955  56.453256571960]\n",
            " [ 57.545841035962  59.078115579480  56.392688856888]\n",
            " [ 57.377379973358  60.024470531595  56.465395461726]\n",
            " [ 57.743771467054  61.082845285857  56.713292198753]\n",
            " [ 59.004528627199  62.342032496601  57.526019245911]\n",
            " [ 61.154069634557  63.846239010525  59.049623481655]\n",
            " [ 62.275588973123  64.258790630686  59.644335407400]\n",
            " [ 62.606639200300  63.974590976655  59.600480017638]\n",
            " [ 62.648019379914  63.474304634792  59.371527222061]\n",
            " [ 62.611065099490  62.868019759101  59.108874267697]\n",
            " [ 62.076959715843  62.043537593657  58.492066587090]\n",
            " [ 61.329962867498  61.322869673270  57.782219799042]\n",
            " [ 60.970309113085  61.179422429568  57.495068658614]]\n",
            "rsi_forecast: [ 62.278200000000  59.773703317958  58.283287259740  57.545841035962\n",
            "  57.377379973358  57.743771467054  59.004528627199  61.154069634557\n",
            "  62.275588973123  62.606639200300  62.648019379914  62.611065099490\n",
            "  62.076959715843  61.329962867498  60.970309113085]\n"
          ]
        }
      ]
    },
    {
      "cell_type": "code",
      "metadata": {
        "colab": {
          "base_uri": "https://localhost:8080/",
          "height": 667
        },
        "id": "dnqEqJioguwy",
        "outputId": "a494631d-5f6f-4977-bea3-0a5cda284fbd"
      },
      "source": [
        "chart_days = len(indicators_df_test) * 2\n",
        "trace1 = go.Candlestick(\n",
        "    x = stock_df.tail(chart_days)['Date'],\n",
        "    open = stock_df.tail(chart_days)['Open'],\n",
        "    high = stock_df.tail(chart_days)['High'],\n",
        "    low = stock_df.tail(chart_days)['Low'],\n",
        "    close = stock_df.tail(chart_days)['Close'],\n",
        "    name = ticker + ' Price'\n",
        ")\n",
        "\n",
        "trace2 = go.Scatter(\n",
        "    x = stock_df.tail(chart_days)['Date'],\n",
        "    y = stock_df.tail(chart_days)['50MA'],\n",
        "    mode='lines',\n",
        "    name ='50MA'\n",
        ")\n",
        "\n",
        "trace3 = go.Scatter(\n",
        "    x = stock_df.tail(chart_days)['Date'],\n",
        "    y = stock_df.tail(chart_days)['100MA'],\n",
        "    mode='lines',\n",
        "    name ='100MA'\n",
        ")\n",
        "\n",
        "trace4 = go.Scatter(\n",
        "    x = stock_df.tail(chart_days)['Date'],\n",
        "    y = stock_df.tail(chart_days)['200MA'],\n",
        "    mode='lines',\n",
        "    name ='200MA'\n",
        ")\n",
        "\n",
        "\n",
        "#'Date','Close','Volume','High','Low','Open','Divident'\n",
        "open_price =  str(stock_data[-1][5])\n",
        "low_price =  str(stock_data[-1][3])\n",
        "high_price =  str(stock_data[-1][4])\n",
        "close_price =  str(stock_data[-1][1])\n",
        "rsi_forecast_mean = np.round(np.mean(rsi_forecast))\n",
        "\n",
        "go.Layout(\n",
        "    title = ticker + ' Date:' + last_date + ' Open:' + open_price + ' High:' + high_price + ' Low:' + low_price + ' Close:' + close_price,\n",
        "    xaxis = {'title' : \"Dates\"},\n",
        "    yaxis = {'title' : \"Close Price ($)\"},\n",
        "    height = 450\n",
        ")\n",
        "\n",
        "trace_train = go.Scatter(\n",
        "  x = indicators_df_train.tail(len(indicators_df_test))['Date'],\n",
        "  y = indicators_df_train.tail(len(indicators_df_test))['RSI'],\n",
        "  mode='lines',\n",
        "  name ='RSI'\n",
        ")\n",
        "\n",
        "trace_test = go.Scatter(\n",
        "  x = indicators_df_test['Date'],\n",
        "  y = indicators_df_test['RSI'],\n",
        "  mode='markers+lines',\n",
        "  name ='Test'\n",
        ")\n",
        "\n",
        "trace_prediction = go.Scatter(\n",
        "    x = indicators_df_test['Date'],\n",
        "    y = rsi_prediction,\n",
        "    mode='markers+lines',\n",
        "    name ='Prediction'\n",
        ")\n",
        "\n",
        "trace_forecast = go.Scatter(\n",
        "    x = indicators_forecast_dates,\n",
        "    y = rsi_forecast,\n",
        "    mode='markers+lines',\n",
        "    name ='Forecast'\n",
        ")\n",
        "\n",
        "\n",
        "tradingview_link = '<a href=\"https://in.tradingview.com/chart/66XmQfYy/?symbol=' + ticker +'\">' + ticker +'</a>'\n",
        "stock_title = tradingview_link + ' Date:' + last_date + ' Open:' + open_price + ' High:' + high_price + ' Low:' + low_price + ' Close:' + close_price\n",
        "indicators_title = tradingview_link + ' RSI('+ str(look_back)+ ') Date:' + last_date + ' Close:' + indicators_df['RSI'].iloc[-1] + ' Forecast('+str(look_back)+'):' + str(rsi_forecast_mean)\n",
        "\n",
        "fig = make_subplots(rows=2, cols=1, row_heights=[0.6, 0.4], subplot_titles=(stock_title, indicators_title))\n",
        "\n",
        "\n",
        "fig.add_trace(trace1,row=1, col=1)\n",
        "fig.add_trace(trace2,row=1, col=1)\n",
        "fig.add_trace(trace3,row=1, col=1)\n",
        "fig.add_trace(trace4,row=1, col=1)\n",
        "\n",
        "fig.add_trace(trace_train,row=2, col=1)\n",
        "fig.add_trace(trace_test,row=2, col=1)\n",
        "fig.add_trace(trace_prediction,row=2, col=1)\n",
        "fig.add_trace(trace_forecast,row=2, col=1)\n",
        "\n",
        "fig.add_trace(go.Scatter(\n",
        "        x = [indicators_df_train.tail(len(indicators_df_test))['Date'].min(), np.max(indicators_forecast_dates)],\n",
        "        y = [70, 70],\n",
        "        mode = \"lines\",\n",
        "        line = dict(shape = 'linear', color = 'rgb(100, 10, 100)', dash = 'dash')\n",
        "    ),row=2, col=1)\n",
        "\n",
        "fig.add_trace(go.Scatter(\n",
        "        x = [indicators_df_train.tail(len(indicators_df_test))['Date'].min(), np.max(indicators_forecast_dates)],\n",
        "        y = [50, 50],\n",
        "        mode = \"lines\",\n",
        "        line = dict(shape = 'linear', color = 'rgb(10, 12, 240)', dash = 'dash')\n",
        "    ),row=2, col=1)\n",
        "\n",
        "fig.add_trace(go.Scatter(\n",
        "        x = [indicators_df_train.tail(len(indicators_df_test))['Date'].min(), np.max(indicators_forecast_dates)],\n",
        "        y = [30, 30],\n",
        "        mode = \"lines\",\n",
        "        line = dict(shape = 'linear', color = 'rgb(10, 120, 24)', dash = 'dash')\n",
        "    ),row=2, col=1)\n",
        "\n",
        "fig.update_yaxes(showspikes=True, spikemode='across', spikesnap='cursor',spikedash='dash')\n",
        "fig.update_xaxes(showspikes=True, spikemode='across', spikesnap='cursor', spikedash='dash')\n",
        "fig.update_layout(xaxis_rangeslider_visible=False,height=650)\n",
        "\n",
        "fig.show()\n",
        "Path('/content/drive/MyDrive/models/charts/'+ last_date).mkdir(parents=True, exist_ok=True)\n",
        "fig.write_html('/content/drive/MyDrive/models/charts/'+ last_date+ '/' + ticker + '_' + str(look_back) + '_08_inidicators_forecast.html')"
      ],
      "execution_count": 65,
      "outputs": [
        {
          "output_type": "display_data",
          "data": {
            "text/html": [
              "<html>\n",
              "<head><meta charset=\"utf-8\" /></head>\n",
              "<body>\n",
              "    <div>\n",
              "            <script src=\"https://cdnjs.cloudflare.com/ajax/libs/mathjax/2.7.5/MathJax.js?config=TeX-AMS-MML_SVG\"></script><script type=\"text/javascript\">if (window.MathJax) {MathJax.Hub.Config({SVG: {font: \"STIX-Web\"}});}</script>\n",
              "                <script type=\"text/javascript\">window.PlotlyConfig = {MathJaxConfig: 'local'};</script>\n",
              "        <script src=\"https://cdn.plot.ly/plotly-latest.min.js\"></script>    \n",
              "            <div id=\"740def7e-e188-469d-a54f-7041b2f28b01\" class=\"plotly-graph-div\" style=\"height:650px; width:100%;\"></div>\n",
              "            <script type=\"text/javascript\">\n",
              "                \n",
              "                    window.PLOTLYENV=window.PLOTLYENV || {};\n",
              "                    \n",
              "                if (document.getElementById(\"740def7e-e188-469d-a54f-7041b2f28b01\")) {\n",
              "                    Plotly.newPlot(\n",
              "                        '740def7e-e188-469d-a54f-7041b2f28b01',\n",
              "                        [{\"close\": [\"704.74\", \"694.4\", \"677.0\", \"709.44\", \"684.9\", \"673.6\", \"670.94\", \"663.54\", \"672.37\", \"629.04\", \"617.2\", \"589.89\", \"571.69\", \"589.74\", \"576.83\", \"577.87\", \"563.46\", \"586.78\", \"580.88\", \"606.44\", \"604.69\", \"619.13\", \"630.85\", \"625.22\", \"623.9\", \"605.12\", \"572.84\", \"599.05\", \"605.13\", \"603.59\", \"598.78\", \"610.12\", \"609.89\", \"617.69\", \"599.36\", \"604.87\", \"616.6\", \"623.31\", \"620.83\", \"623.71\", \"656.57\", \"679.82\", \"671.87\", \"688.72\", \"680.76\", \"679.7\", \"677.92\", \"678.9\", \"659.58\", \"644.65\", \"652.81\", \"656.95\", \"685.7\", \"668.54\", \"653.38\", \"650.6\", \"644.22\", \"646.22\", \"660.5\", \"655.29\", \"649.26\", \"643.38\", \"657.62\", \"644.78\", \"646.98\", \"677.35\", \"687.2\", \"709.67\", \"709.74\", \"710.92\", \"714.63\", \"699.1\", \"713.76\", \"709.99\", \"707.82\", \"722.25\", \"717.17\", \"686.17\", \"665.71\", \"688.99\", \"673.47\", \"680.26\", \"706.3\", \"708.49\", \"711.2\", \"701.16\", \"711.92\", \"730.91\", \"735.72\", \"734.09\", \"732.39\", \"733.57\", \"752.92\", \"753.87\", \"754.86\", \"736.27\", \"743.0\", \"744.49\", \"755.83\", \"756.99\", \"759.49\", \"730.17\", \"739.38\", \"751.94\", \"753.64\", \"774.39\", \"791.36\", \"777.56\", \"781.31\", \"775.48\", \"775.22\", \"781.53\", \"780.59\", \"782.75\", \"793.61\", \"785.49\", \"791.94\", \"805.72\", \"811.08\", \"818.32\", \"843.03\", \"870.11\", \"864.27\", \"865.8\", \"894.0\", \"909.68\", \"1024.86\", \"1018.43\", \"1037.86\", \"1077.04\", \"1114.0\", \"1208.59\", \"1172.0\", \"1213.86\", \"1229.91\", \"1222.09\", \"1162.94\", \"1023.5\", \"1067.95\", \"1063.51\", \"1033.42\", \"1013.39\", \"1054.73\", \"1089.01\", \"1096.38\", \"1137.06\"], \"high\": [\"724.0\", \"708.5\", \"702.25\", \"715.47\", \"706.0\", \"683.4464\", \"685.2955\", \"681.02\", \"690.0\", \"665.05\", \"627.0999\", \"620.41\", \"606.4599\", \"592.87\", \"589.73\", \"596.25\", \"566.21\", \"588.85\", \"596.68\", \"614.48\", \"613.99\", \"626.17\", \"631.13\", \"635.59\", \"633.8\", \"623.36\", \"604.55\", \"600.61\", \"610.0\", \"623.09\", \"611.79\", \"616.59\", \"612.56\", \"625.49\", \"616.79\", \"608.5\", \"621.47\", \"628.35\", \"631.39\", \"628.5693\", \"657.204\", \"697.62\", \"693.81\", \"694.6999\", \"687.5099\", \"692.81\", \"687.99\", \"700.0\", \"684.0\", \"665.7\", \"654.43\", \"658.91\", \"687.24\", \"693.28\", \"678.6099\", \"666.14\", \"656.6999\", \"647.1999\", \"662.3916\", \"664.8599\", \"662.17\", \"648.8\", \"668.1999\", \"666.5\", \"654.9699\", \"683.69\", \"697.53\", \"726.94\", \"722.65\", \"724.9\", \"720.9499\", \"716.33\", \"719.03\", \"716.59\", \"715.18\", \"722.8\", \"729.9\", \"709.5\", \"674.58\", \"695.77\", \"686.55\", \"692.1299\", \"712.1299\", \"715.22\", \"716.97\", \"715.4\", \"715.0\", \"731.0\", \"740.39\", \"741.99\", \"740.97\", \"734.0\", \"760.2\", \"764.45\", \"762.1\", \"762.61\", \"744.78\", \"754.47\", \"756.86\", \"758.91\", \"761.04\", \"742.0\", \"744.7399\", \"753.6699\", \"758.2\", \"774.8\", \"799.0\", \"795.64\", \"793.5\", \"789.1305\", \"780.78\", \"806.9699\", \"797.31\", \"786.66\", \"805.0\", \"796.38\", \"801.24\", \"812.32\", \"815.41\", \"820.25\", \"843.21\", \"875.26\", \"877.95\", \"869.49\", \"900.0\", \"910.0\", \"1045.02\", \"1094.94\", \"1070.88\", \"1081.0\", \"1115.21\", \"1209.75\", \"1208.59\", \"1215.39\", \"1243.49\", \"1239.87\", \"1197.0\", \"1174.5\", \"1078.1\", \"1104.97\", \"1054.5\", \"1031.98\", \"1057.1999\", \"1119.64\", \"1112.0\", \"1138.7199\"], \"low\": [\"703.3501\", \"693.6\", \"668.5002\", \"666.14\", \"680.5\", \"657.701\", \"667.34\", \"650.0\", \"660.22\", \"627.6101\", \"595.6\", \"586.765\", \"559.65\", \"570.46\", \"561.2\", \"563.38\", \"546.98\", \"571.07\", \"580.0\", \"573.65\", \"595.71\", \"601.5\", \"616.21\", \"622.38\", \"620.55\", \"599.14\", \"571.22\", \"577.2\", \"582.88\", \"595.5\", \"597.6301\", \"600.5\", \"601.52\", \"609.18\", \"598.23\", \"593.5\", \"601.34\", \"611.8\", \"608.88\", \"615.5\", \"630.04\", \"667.61\", \"668.7\", \"670.32\", \"675.89\", \"678.14\", \"672.8\", \"673.26\", \"651.4002\", \"638.32\", \"620.46\", \"644.69\", \"662.161\", \"666.2958\", \"652.84\", \"637.88\", \"642.2\", \"621.29\", \"640.501\", \"650.2901\", \"644.6001\", \"637.3001\", \"647.11\", \"627.24\", \"639.4001\", \"648.8\", \"669.0\", \"698.4\", \"701.01\", \"708.93\", \"711.41\", \"697.63\", \"705.13\", \"701.88\", \"704.21\", \"699.4\", \"714.34\", \"676.4\", \"648.84\", \"669.35\", \"667.59\", \"673.7\", \"680.7505\", \"702.64\", \"704.0\", \"697.6201\", \"702.1001\", \"712.73\", \"726.44\", \"731.2701\", \"730.54\", \"724.2\", \"739.26\", \"740.7733\", \"751.6301\", \"734.5201\", \"708.85\", \"736.4\", \"738.36\", \"747.61\", \"750.0\", \"718.6249\", \"730.44\", \"739.12\", \"747.92\", \"744.56\", \"769.31\", \"766.1801\", \"770.68\", \"775.0\", \"763.59\", \"776.12\", \"774.2\", \"773.22\", \"783.38\", \"780.91\", \"785.5\", \"796.57\", \"805.78\", \"813.3501\", \"822.35\", \"851.47\", \"862.51\", \"857.38\", \"855.5046\", \"890.96\", \"944.2\", \"1001.44\", \"1030.78\", \"1054.2\", \"1073.205\", \"1118.66\", \"1146.0\", \"1152.62\", \"1217.0\", \"1208.0\", \"1133.0\", \"1011.52\", \"987.31\", \"1054.68\", \"1019.2\", \"978.6\", \"1002.18\", \"1055.5\", \"1075.02\", \"1092.7\"], \"name\": \"TSLA Price\", \"open\": [\"717.96\", \"696.41\", \"699.51\", \"667.59\", \"703.8\", \"678.94\", \"681.06\", \"680.76\", \"665.8\", \"664.9\", \"599.24\", \"602.49\", \"601.545\", \"583.41\", \"575.5531\", \"568.0\", \"552.55\", \"575.0\", \"596.11\", \"581.6\", \"607.31\", \"607.56\", \"620.24\", \"628.5\", \"627.8\", \"620.13\", \"601.8\", \"579.71\", \"591.825\", \"623.01\", \"602.17\", \"603.88\", \"610.23\", \"612.23\", \"616.69\", \"597.535\", \"601.8878\", \"613.37\", \"624.48\", \"618.25\", \"632.0\", \"674.99\", \"689.58\", \"671.64\", \"684.65\", \"679.77\", \"683.92\", \"678.98\", \"681.7115\", \"664.27\", \"628.37\", \"653.185\", \"662.2\", \"686.32\", \"670.75\", \"658.39\", \"654.68\", \"629.89\", \"651.99\", \"659.61\", \"656.4428\", \"646.36\", \"650.97\", \"663.4\", \"646.995\", \"649.79\", \"671.758\", \"700.0\", \"719.0\", \"711.0\", \"716.0\", \"711.9\", \"710.17\", \"713.99\", \"712.71\", \"706.34\", \"723.71\", \"705.07\", \"672.66\", \"669.7479\", \"678.21\", \"682.85\", \"685.442\", \"710.68\", \"707.03\", \"708.31\", \"705.0\", \"714.715\", \"733.0\", \"734.08\", \"734.5\", \"732.2494\", \"740.0\", \"761.58\", \"753.41\", \"759.6\", \"740.2143\", \"742.57\", \"745.0\", \"752.83\", \"757.15\", \"734.5577\", \"734.79\", \"743.5263\", \"755.0\", \"745.89\", \"773.12\", \"787.2\", \"779.8\", \"781.0\", \"778.4\", \"796.5\", \"784.7962\", \"776.2\", \"785.46\", \"796.21\", \"787.65\", \"800.93\", \"810.47\", \"815.49\", \"823.7384\", \"851.79\", \"877.53\", \"865.35\", \"856.0\", \"895.5\", \"950.53\", \"1024.69\", \"1039.66\", \"1068.305\", \"1081.86\", \"1145.0\", \"1159.355\", \"1177.33\", \"1234.41\", \"1228.0\", \"1149.785\", \"1173.6\", \"1010.41\", \"1102.77\", \"1047.5\", \"1017.63\", \"1003.31\", \"1063.51\", \"1106.55\", \"1098.87\"], \"type\": \"candlestick\", \"x\": [\"2021-04-27\", \"2021-04-28\", \"2021-04-29\", \"2021-04-30\", \"2021-05-03\", \"2021-05-04\", \"2021-05-05\", \"2021-05-06\", \"2021-05-07\", \"2021-05-10\", \"2021-05-11\", \"2021-05-12\", \"2021-05-13\", \"2021-05-14\", \"2021-05-17\", \"2021-05-18\", \"2021-05-19\", \"2021-05-20\", \"2021-05-21\", \"2021-05-24\", \"2021-05-25\", \"2021-05-26\", \"2021-05-27\", \"2021-05-28\", \"2021-06-01\", \"2021-06-02\", \"2021-06-03\", \"2021-06-04\", \"2021-06-07\", \"2021-06-08\", \"2021-06-09\", \"2021-06-10\", \"2021-06-11\", \"2021-06-14\", \"2021-06-15\", \"2021-06-16\", \"2021-06-17\", \"2021-06-18\", \"2021-06-21\", \"2021-06-22\", \"2021-06-23\", \"2021-06-24\", \"2021-06-25\", \"2021-06-28\", \"2021-06-29\", \"2021-06-30\", \"2021-07-01\", \"2021-07-02\", \"2021-07-06\", \"2021-07-07\", \"2021-07-08\", \"2021-07-09\", \"2021-07-12\", \"2021-07-13\", \"2021-07-14\", \"2021-07-15\", \"2021-07-16\", \"2021-07-19\", \"2021-07-20\", \"2021-07-21\", \"2021-07-22\", \"2021-07-23\", \"2021-07-26\", \"2021-07-27\", \"2021-07-28\", \"2021-07-29\", \"2021-07-30\", \"2021-08-02\", \"2021-08-03\", \"2021-08-04\", \"2021-08-05\", \"2021-08-06\", \"2021-08-09\", \"2021-08-10\", \"2021-08-11\", \"2021-08-12\", \"2021-08-13\", \"2021-08-16\", \"2021-08-17\", \"2021-08-18\", \"2021-08-19\", \"2021-08-20\", \"2021-08-23\", \"2021-08-24\", \"2021-08-25\", \"2021-08-26\", \"2021-08-27\", \"2021-08-30\", \"2021-08-31\", \"2021-09-01\", \"2021-09-02\", \"2021-09-03\", \"2021-09-07\", \"2021-09-08\", \"2021-09-09\", \"2021-09-10\", \"2021-09-13\", \"2021-09-14\", \"2021-09-15\", \"2021-09-16\", \"2021-09-17\", \"2021-09-20\", \"2021-09-21\", \"2021-09-22\", \"2021-09-23\", \"2021-09-24\", \"2021-09-27\", \"2021-09-28\", \"2021-09-29\", \"2021-09-30\", \"2021-10-01\", \"2021-10-04\", \"2021-10-05\", \"2021-10-06\", \"2021-10-07\", \"2021-10-08\", \"2021-10-11\", \"2021-10-12\", \"2021-10-13\", \"2021-10-14\", \"2021-10-15\", \"2021-10-18\", \"2021-10-19\", \"2021-10-20\", \"2021-10-21\", \"2021-10-22\", \"2021-10-25\", \"2021-10-26\", \"2021-10-27\", \"2021-10-28\", \"2021-10-29\", \"2021-11-01\", \"2021-11-02\", \"2021-11-03\", \"2021-11-04\", \"2021-11-05\", \"2021-11-08\", \"2021-11-09\", \"2021-11-10\", \"2021-11-11\", \"2021-11-12\", \"2021-11-15\", \"2021-11-16\", \"2021-11-17\", \"2021-11-18\", \"2021-11-19\"], \"xaxis\": \"x\", \"yaxis\": \"y\"}, {\"mode\": \"lines\", \"name\": \"50MA\", \"type\": \"scatter\", \"x\": [\"2021-04-27\", \"2021-04-28\", \"2021-04-29\", \"2021-04-30\", \"2021-05-03\", \"2021-05-04\", \"2021-05-05\", \"2021-05-06\", \"2021-05-07\", \"2021-05-10\", \"2021-05-11\", \"2021-05-12\", \"2021-05-13\", \"2021-05-14\", \"2021-05-17\", \"2021-05-18\", \"2021-05-19\", \"2021-05-20\", \"2021-05-21\", \"2021-05-24\", \"2021-05-25\", \"2021-05-26\", \"2021-05-27\", \"2021-05-28\", \"2021-06-01\", \"2021-06-02\", \"2021-06-03\", \"2021-06-04\", \"2021-06-07\", \"2021-06-08\", \"2021-06-09\", \"2021-06-10\", \"2021-06-11\", \"2021-06-14\", \"2021-06-15\", \"2021-06-16\", \"2021-06-17\", \"2021-06-18\", \"2021-06-21\", \"2021-06-22\", \"2021-06-23\", \"2021-06-24\", \"2021-06-25\", \"2021-06-28\", \"2021-06-29\", \"2021-06-30\", \"2021-07-01\", \"2021-07-02\", \"2021-07-06\", \"2021-07-07\", \"2021-07-08\", \"2021-07-09\", \"2021-07-12\", \"2021-07-13\", \"2021-07-14\", \"2021-07-15\", \"2021-07-16\", \"2021-07-19\", \"2021-07-20\", \"2021-07-21\", \"2021-07-22\", \"2021-07-23\", \"2021-07-26\", \"2021-07-27\", \"2021-07-28\", \"2021-07-29\", \"2021-07-30\", \"2021-08-02\", \"2021-08-03\", \"2021-08-04\", \"2021-08-05\", \"2021-08-06\", \"2021-08-09\", \"2021-08-10\", \"2021-08-11\", \"2021-08-12\", \"2021-08-13\", \"2021-08-16\", \"2021-08-17\", \"2021-08-18\", \"2021-08-19\", \"2021-08-20\", \"2021-08-23\", \"2021-08-24\", \"2021-08-25\", \"2021-08-26\", \"2021-08-27\", \"2021-08-30\", \"2021-08-31\", \"2021-09-01\", \"2021-09-02\", \"2021-09-03\", \"2021-09-07\", \"2021-09-08\", \"2021-09-09\", \"2021-09-10\", \"2021-09-13\", \"2021-09-14\", \"2021-09-15\", \"2021-09-16\", \"2021-09-17\", \"2021-09-20\", \"2021-09-21\", \"2021-09-22\", \"2021-09-23\", \"2021-09-24\", \"2021-09-27\", \"2021-09-28\", \"2021-09-29\", \"2021-09-30\", \"2021-10-01\", \"2021-10-04\", \"2021-10-05\", \"2021-10-06\", \"2021-10-07\", \"2021-10-08\", \"2021-10-11\", \"2021-10-12\", \"2021-10-13\", \"2021-10-14\", \"2021-10-15\", \"2021-10-18\", \"2021-10-19\", \"2021-10-20\", \"2021-10-21\", \"2021-10-22\", \"2021-10-25\", \"2021-10-26\", \"2021-10-27\", \"2021-10-28\", \"2021-10-29\", \"2021-11-01\", \"2021-11-02\", \"2021-11-03\", \"2021-11-04\", \"2021-11-05\", \"2021-11-08\", \"2021-11-09\", \"2021-11-10\", \"2021-11-11\", \"2021-11-12\", \"2021-11-15\", \"2021-11-16\", \"2021-11-17\", \"2021-11-18\", \"2021-11-19\"], \"xaxis\": \"x\", \"y\": [692.0746, 690.0382000000001, 687.6152000000001, 686.0564000000002, 684.1284, 683.3104000000001, 682.7524000000002, 681.1828000000003, 680.9858000000003, 680.0566000000003, 678.0320000000003, 676.1010000000002, 674.4708000000003, 673.8368000000003, 673.4144000000003, 673.7118000000004, 671.5094000000004, 669.8838000000003, 667.5094000000004, 665.7636000000003, 663.6986000000003, 662.5436000000003, 661.1244000000003, 660.5656000000002, 659.9462000000002, 658.6486000000003, 656.8622000000001, 656.2378000000003, 655.5326000000002, 655.2302000000002, 654.9800000000001, 654.4700000000003, 653.3092000000003, 652.4280000000003, 650.5942000000003, 648.8592000000003, 647.7718000000003, 646.5620000000004, 645.4382000000003, 643.8728000000003, 641.7578000000004, 640.7096000000005, 639.3700000000005, 638.3488000000004, 637.6714000000004, 636.8856000000004, 635.5616000000005, 634.7458000000005, 633.3494000000005, 631.4784000000004, 630.4398000000004, 629.6908000000004, 629.8648000000005, 629.0468000000005, 628.4164000000005, 627.9564000000005, 627.4220000000006, 627.0756000000006, 626.8382000000006, 627.3632000000006, 628.0044000000005, 629.0742000000006, 630.7928000000006, 631.8936000000006, 633.2966000000005, 635.2862000000005, 637.7610000000005, 640.2188000000004, 642.7960000000005, 644.8856000000005, 647.0844000000005, 648.6838000000006, 650.3420000000006, 652.0374000000005, 653.7158000000004, 656.0584000000003, 658.9450000000004, 660.6874000000004, 661.8990000000003, 663.6070000000004, 665.1008000000005, 666.5036000000005, 668.4318000000005, 670.2478000000004, 672.4846000000003, 674.4104000000003, 676.3168000000004, 678.4688000000004, 680.7666000000005, 682.9742000000005, 684.4906000000004, 685.5656000000004, 687.1866000000003, 688.4896000000003, 689.9716000000003, 691.1030000000003, 692.4046000000003, 693.7164000000002, 695.6414000000003, 697.8882000000002, 700.0218000000002, 701.4862000000003, 702.5598000000002, 704.2278000000002, 706.2330000000003, 708.7088000000003, 711.6516000000004, 714.2784000000003, 716.6946000000003, 719.0984000000003, 721.6176000000003, 724.3806000000003, 726.8400000000001, 729.5994000000002, 732.5320000000002, 734.6948000000001, 736.7896000000002, 738.7106000000002, 740.7374000000003, 742.8854000000003, 745.4534000000004, 748.8736000000005, 751.8838000000003, 755.0000000000005, 758.7236000000005, 762.4722000000005, 768.6260000000005, 775.2712000000006, 782.7142000000006, 790.4752000000007, 799.2858000000006, 809.8524000000004, 819.1664000000004, 829.2738000000005, 839.6480000000006, 850.0666000000004, 859.0870000000006, 864.9388000000005, 871.5834000000004, 878.1718000000005, 884.1924000000005, 889.7888000000005, 895.8250000000006, 902.5278000000005, 909.3582000000005, 917.3740000000005], \"yaxis\": \"y\"}, {\"mode\": \"lines\", \"name\": \"100MA\", \"type\": \"scatter\", \"x\": [\"2021-04-27\", \"2021-04-28\", \"2021-04-29\", \"2021-04-30\", \"2021-05-03\", \"2021-05-04\", \"2021-05-05\", \"2021-05-06\", \"2021-05-07\", \"2021-05-10\", \"2021-05-11\", \"2021-05-12\", \"2021-05-13\", \"2021-05-14\", \"2021-05-17\", \"2021-05-18\", \"2021-05-19\", \"2021-05-20\", \"2021-05-21\", \"2021-05-24\", \"2021-05-25\", \"2021-05-26\", \"2021-05-27\", \"2021-05-28\", \"2021-06-01\", \"2021-06-02\", \"2021-06-03\", \"2021-06-04\", \"2021-06-07\", \"2021-06-08\", \"2021-06-09\", \"2021-06-10\", \"2021-06-11\", \"2021-06-14\", \"2021-06-15\", \"2021-06-16\", \"2021-06-17\", \"2021-06-18\", \"2021-06-21\", \"2021-06-22\", \"2021-06-23\", \"2021-06-24\", \"2021-06-25\", \"2021-06-28\", \"2021-06-29\", \"2021-06-30\", \"2021-07-01\", \"2021-07-02\", \"2021-07-06\", \"2021-07-07\", \"2021-07-08\", \"2021-07-09\", \"2021-07-12\", \"2021-07-13\", \"2021-07-14\", \"2021-07-15\", \"2021-07-16\", \"2021-07-19\", \"2021-07-20\", \"2021-07-21\", \"2021-07-22\", \"2021-07-23\", \"2021-07-26\", \"2021-07-27\", \"2021-07-28\", \"2021-07-29\", \"2021-07-30\", \"2021-08-02\", \"2021-08-03\", \"2021-08-04\", \"2021-08-05\", \"2021-08-06\", \"2021-08-09\", \"2021-08-10\", \"2021-08-11\", \"2021-08-12\", \"2021-08-13\", \"2021-08-16\", \"2021-08-17\", \"2021-08-18\", \"2021-08-19\", \"2021-08-20\", \"2021-08-23\", \"2021-08-24\", \"2021-08-25\", \"2021-08-26\", \"2021-08-27\", \"2021-08-30\", \"2021-08-31\", \"2021-09-01\", \"2021-09-02\", \"2021-09-03\", \"2021-09-07\", \"2021-09-08\", \"2021-09-09\", \"2021-09-10\", \"2021-09-13\", \"2021-09-14\", \"2021-09-15\", \"2021-09-16\", \"2021-09-17\", \"2021-09-20\", \"2021-09-21\", \"2021-09-22\", \"2021-09-23\", \"2021-09-24\", \"2021-09-27\", \"2021-09-28\", \"2021-09-29\", \"2021-09-30\", \"2021-10-01\", \"2021-10-04\", \"2021-10-05\", \"2021-10-06\", \"2021-10-07\", \"2021-10-08\", \"2021-10-11\", \"2021-10-12\", \"2021-10-13\", \"2021-10-14\", \"2021-10-15\", \"2021-10-18\", \"2021-10-19\", \"2021-10-20\", \"2021-10-21\", \"2021-10-22\", \"2021-10-25\", \"2021-10-26\", \"2021-10-27\", \"2021-10-28\", \"2021-10-29\", \"2021-11-01\", \"2021-11-02\", \"2021-11-03\", \"2021-11-04\", \"2021-11-05\", \"2021-11-08\", \"2021-11-09\", \"2021-11-10\", \"2021-11-11\", \"2021-11-12\", \"2021-11-15\", \"2021-11-16\", \"2021-11-17\", \"2021-11-18\", \"2021-11-19\"], \"xaxis\": \"x\", \"y\": [722.3473000000006, 723.6031000000004, 724.4393000000003, 725.5433000000005, 725.9747000000004, 726.2119000000005, 726.8765000000005, 727.2412000000004, 727.8650000000002, 727.7571000000003, 727.5966000000002, 727.2678000000001, 726.4257000000002, 725.3731000000002, 724.6428000000003, 724.0181000000002, 723.1929000000003, 722.4430000000003, 721.6149000000004, 721.0194000000004, 720.1185000000004, 719.2531000000004, 718.2639000000004, 717.1650000000004, 715.8442000000005, 713.7350000000005, 710.6632000000004, 708.5418000000004, 706.0987000000003, 703.5905000000004, 701.1283000000003, 698.9679000000002, 696.6213000000002, 694.2937000000003, 691.8374000000002, 689.4197000000001, 686.7777000000002, 684.1799000000002, 681.7466000000002, 679.6294000000003, 678.2598000000004, 676.6599000000004, 674.6507000000005, 672.9910000000004, 671.2987000000004, 669.5734000000004, 667.7184000000004, 666.0128000000003, 664.5604000000002, 662.8903000000001, 661.2572000000001, 659.8645000000001, 658.7400000000001, 657.5516, 656.2724000000001, 655.6334000000002, 655.0872000000002, 654.1292000000002, 653.9120000000001, 653.7099000000001, 653.0182, 652.5876, 652.6317999999999, 652.8651999999998, 653.3554999999999, 654.4989999999999, 654.6351999999999, 655.0512999999999, 655.1527, 655.3246, 655.3915, 655.6137, 655.7331999999999, 656.3014999999999, 656.831, 657.3535, 657.9036, 658.4626, 658.7158000000001, 659.4186, 660.0404000000001, 660.4868000000001, 660.8705000000002, 661.3379000000002, 661.5394000000001, 661.6348000000003, 662.0443000000002, 662.5154000000002, 663.1024000000002, 663.4235000000002, 663.1242000000001, 663.1376000000002, 663.2783000000002, 663.4192000000002, 663.8215000000001, 663.9943000000001, 663.9831000000001, 664.2311000000002, 664.4954000000002, 664.6833000000003, 665.2308000000003, 665.5885000000003, 666.2123000000004, 666.6373000000004, 667.3247000000005, 668.3326000000004, 669.5368000000003, 670.6770000000004, 671.7664000000004, 673.2308000000005, 674.8110000000005, 676.7274000000004, 678.8164000000004, 680.7465000000004, 682.9143000000004, 684.9905000000005, 687.2753000000005, 689.4647000000004, 691.7667000000005, 693.8855000000004, 696.2689000000005, 698.7787000000004, 701.1129000000004, 703.5187000000004, 706.2197000000004, 709.2653000000005, 713.7855000000004, 717.9793000000004, 722.3066000000003, 727.0411000000003, 732.1933000000004, 738.1780000000003, 743.7991000000003, 749.7608000000004, 756.0663000000003, 762.2385000000004, 767.7019000000004, 771.7038000000003, 776.1750000000003, 780.5730000000002, 784.3415000000001, 787.6772, 791.5058, 795.5087, 799.6649000000001, 804.2385], \"yaxis\": \"y\"}, {\"mode\": \"lines\", \"name\": \"200MA\", \"type\": \"scatter\", \"x\": [\"2021-04-27\", \"2021-04-28\", \"2021-04-29\", \"2021-04-30\", \"2021-05-03\", \"2021-05-04\", \"2021-05-05\", \"2021-05-06\", \"2021-05-07\", \"2021-05-10\", \"2021-05-11\", \"2021-05-12\", \"2021-05-13\", \"2021-05-14\", \"2021-05-17\", \"2021-05-18\", \"2021-05-19\", \"2021-05-20\", \"2021-05-21\", \"2021-05-24\", \"2021-05-25\", \"2021-05-26\", \"2021-05-27\", \"2021-05-28\", \"2021-06-01\", \"2021-06-02\", \"2021-06-03\", \"2021-06-04\", \"2021-06-07\", \"2021-06-08\", \"2021-06-09\", \"2021-06-10\", \"2021-06-11\", \"2021-06-14\", \"2021-06-15\", \"2021-06-16\", \"2021-06-17\", \"2021-06-18\", \"2021-06-21\", \"2021-06-22\", \"2021-06-23\", \"2021-06-24\", \"2021-06-25\", \"2021-06-28\", \"2021-06-29\", \"2021-06-30\", \"2021-07-01\", \"2021-07-02\", \"2021-07-06\", \"2021-07-07\", \"2021-07-08\", \"2021-07-09\", \"2021-07-12\", \"2021-07-13\", \"2021-07-14\", \"2021-07-15\", \"2021-07-16\", \"2021-07-19\", \"2021-07-20\", \"2021-07-21\", \"2021-07-22\", \"2021-07-23\", \"2021-07-26\", \"2021-07-27\", \"2021-07-28\", \"2021-07-29\", \"2021-07-30\", \"2021-08-02\", \"2021-08-03\", \"2021-08-04\", \"2021-08-05\", \"2021-08-06\", \"2021-08-09\", \"2021-08-10\", \"2021-08-11\", \"2021-08-12\", \"2021-08-13\", \"2021-08-16\", \"2021-08-17\", \"2021-08-18\", \"2021-08-19\", \"2021-08-20\", \"2021-08-23\", \"2021-08-24\", \"2021-08-25\", \"2021-08-26\", \"2021-08-27\", \"2021-08-30\", \"2021-08-31\", \"2021-09-01\", \"2021-09-02\", \"2021-09-03\", \"2021-09-07\", \"2021-09-08\", \"2021-09-09\", \"2021-09-10\", \"2021-09-13\", \"2021-09-14\", \"2021-09-15\", \"2021-09-16\", \"2021-09-17\", \"2021-09-20\", \"2021-09-21\", \"2021-09-22\", \"2021-09-23\", \"2021-09-24\", \"2021-09-27\", \"2021-09-28\", \"2021-09-29\", \"2021-09-30\", \"2021-10-01\", \"2021-10-04\", \"2021-10-05\", \"2021-10-06\", \"2021-10-07\", \"2021-10-08\", \"2021-10-11\", \"2021-10-12\", \"2021-10-13\", \"2021-10-14\", \"2021-10-15\", \"2021-10-18\", \"2021-10-19\", \"2021-10-20\", \"2021-10-21\", \"2021-10-22\", \"2021-10-25\", \"2021-10-26\", \"2021-10-27\", \"2021-10-28\", \"2021-10-29\", \"2021-11-01\", \"2021-11-02\", \"2021-11-03\", \"2021-11-04\", \"2021-11-05\", \"2021-11-08\", \"2021-11-09\", \"2021-11-10\", \"2021-11-11\", \"2021-11-12\", \"2021-11-15\", \"2021-11-16\", \"2021-11-17\", \"2021-11-18\", \"2021-11-19\"], \"xaxis\": \"x\", \"y\": [559.6103000000002, 561.5852400000002, 563.4534400000002, 565.4546300000002, 567.3784900000002, 569.2456500000002, 570.9573500000001, 572.7066900000001, 574.47621, 576.10834, 577.7773400000001, 579.1871900000001, 580.56915, 582.0187400000001, 583.4154000000001, 584.87399, 586.2062900000001, 587.6531900000001, 589.0725700000002, 590.6151900000001, 592.1859300000001, 593.8630100000001, 595.6428700000001, 597.2142100000002, 598.7127100000001, 600.0876000000001, 601.11616, 602.22432, 603.3714400000001, 604.3875600000001, 605.33148, 606.3678800000001, 607.39399, 608.3292700000001, 609.0873200000001, 609.89827, 612.4829500000001, 613.22425, 614.0915500000001, 615.1751, 616.3663500000001, 618.1144, 619.6423500000001, 621.2292500000001, 622.7694500000001, 624.0698500000001, 625.2106500000001, 626.3963500000001, 627.5771000000001, 628.5896000000001, 629.6067000000002, 630.7703000000001, 632.2970000000001, 633.7007500000001, 634.9309500000002, 636.0779500000002, 637.2037000000001, 638.2897500000003, 639.3514500000002, 640.5524500000001, 641.6703500000002, 642.8173500000003, 643.9789500000002, 645.0732500000001, 646.1381500000002, 647.3134000000002, 648.5161500000002, 649.7580000000002, 651.0623000000002, 652.4185500000002, 653.8375500000001, 655.2233500000001, 656.67895, 658.0999499999999, 659.5359, 661.04575, 662.5082000000001, 663.9089500000002, 665.1833500000002, 666.6881000000001, 668.0529000000001, 669.3347000000001, 670.7613, 672.1133, 673.51955, 674.91905, 676.4268500000002, 677.9957500000002, 679.6155500000001, 681.2435, 682.8650000000001, 684.3248000000002, 685.6562000000002, 686.9292000000003, 688.2554500000002, 689.3275500000002, 690.2656500000002, 691.1181000000001, 691.96845, 692.9154, 693.7890499999999, 694.5957999999998, 695.3257999999998, 696.0902999999998, 696.6496999999998, 697.2722499999999, 698.2066499999997, 698.9590999999997, 699.8156999999998, 700.4939499999999, 701.2037999999999, 701.9975999999999, 702.62105, 703.0598, 703.77855, 704.5043, 705.2340999999999, 705.95385, 706.6907999999999, 707.45245, 708.1936999999999, 709.0158999999999, 709.6883999999998, 710.3418499999998, 711.0319499999998, 711.5001499999997, 712.2243499999997, 713.2605499999996, 714.2026499999996, 715.3157999999996, 716.6607999999995, 718.5729499999995, 720.2101999999996, 722.0272499999995, 723.9518499999996, 725.8290999999995, 727.2397999999995, 727.9418499999996, 728.9607999999996, 730.1011999999996, 731.3006499999997, 732.1685499999999, 733.0782499999998, 734.2498499999998, 735.4817999999999, 736.9059499999998], \"yaxis\": \"y\"}, {\"mode\": \"lines\", \"name\": \"RSI\", \"type\": \"scatter\", \"x\": [\"2021-04-27\", \"2021-04-28\", \"2021-04-29\", \"2021-04-30\", \"2021-05-03\", \"2021-05-04\", \"2021-05-05\", \"2021-05-06\", \"2021-05-07\", \"2021-05-10\", \"2021-05-11\", \"2021-05-12\", \"2021-05-13\", \"2021-05-14\", \"2021-05-17\", \"2021-05-18\", \"2021-05-19\", \"2021-05-20\", \"2021-05-21\", \"2021-05-24\", \"2021-05-25\", \"2021-05-26\", \"2021-05-27\", \"2021-05-28\", \"2021-06-01\", \"2021-06-02\", \"2021-06-03\", \"2021-06-04\", \"2021-06-07\", \"2021-06-08\", \"2021-06-09\", \"2021-06-10\", \"2021-06-11\", \"2021-06-14\", \"2021-06-15\", \"2021-06-16\", \"2021-06-17\", \"2021-06-18\", \"2021-06-21\", \"2021-06-22\", \"2021-06-23\", \"2021-06-24\", \"2021-06-25\", \"2021-06-28\", \"2021-06-29\", \"2021-06-30\", \"2021-07-01\", \"2021-07-02\", \"2021-07-06\", \"2021-07-07\", \"2021-07-08\", \"2021-07-09\", \"2021-07-12\", \"2021-07-13\", \"2021-07-14\", \"2021-07-15\", \"2021-07-16\", \"2021-07-19\", \"2021-07-20\", \"2021-07-21\", \"2021-07-22\", \"2021-07-23\", \"2021-07-26\", \"2021-07-27\", \"2021-07-28\", \"2021-07-29\", \"2021-07-30\", \"2021-08-02\", \"2021-08-03\", \"2021-08-04\", \"2021-08-05\", \"2021-08-06\", \"2021-08-09\"], \"xaxis\": \"x2\", \"y\": [\"49.6196\", \"47.7269\", \"44.641\", \"51.0018\", \"46.6364\", \"44.7375\", \"44.2804\", \"42.9653\", \"45.062\", \"37.7318\", \"36.0082\", \"32.3385\", \"30.1345\", \"34.8751\", \"33.1429\", \"33.4298\", \"31.4184\", \"37.9274\", \"36.9714\", \"43.6038\", \"43.2681\", \"46.9009\", \"49.7154\", \"48.3886\", \"48.0647\", \"43.5938\", \"37.1903\", \"44.3395\", \"45.8785\", \"45.535\", \"44.4167\", \"47.6792\", \"47.6182\", \"49.9583\", \"44.8838\", \"46.6384\", \"50.2681\", \"52.2683\", \"51.4448\", \"52.383\", \"61.5198\", \"66.4283\", \"63.448\", \"66.8434\", \"63.8271\", \"63.4167\", \"62.6877\", \"62.9403\", \"55.0318\", \"49.8219\", \"52.4703\", \"53.8026\", \"61.8086\", \"55.6136\", \"50.772\", \"49.9139\", \"47.9125\", \"48.6082\", \"53.3944\", \"51.5095\", \"49.3386\", \"47.2475\", \"52.4982\", \"47.8713\", \"48.7055\", \"58.5631\", \"61.1696\", \"66.3669\", \"66.382\", \"66.6537\", \"67.542\", \"60.301\", \"64.2024\"], \"yaxis\": \"y2\"}, {\"mode\": \"markers+lines\", \"name\": \"Test\", \"type\": \"scatter\", \"x\": [\"2021-08-10\", \"2021-08-11\", \"2021-08-12\", \"2021-08-13\", \"2021-08-16\", \"2021-08-17\", \"2021-08-18\", \"2021-08-19\", \"2021-08-20\", \"2021-08-23\", \"2021-08-24\", \"2021-08-25\", \"2021-08-26\", \"2021-08-27\", \"2021-08-30\", \"2021-08-31\", \"2021-09-01\", \"2021-09-02\", \"2021-09-03\", \"2021-09-07\", \"2021-09-08\", \"2021-09-09\", \"2021-09-10\", \"2021-09-13\", \"2021-09-14\", \"2021-09-15\", \"2021-09-16\", \"2021-09-17\", \"2021-09-20\", \"2021-09-21\", \"2021-09-22\", \"2021-09-23\", \"2021-09-24\", \"2021-09-27\", \"2021-09-28\", \"2021-09-29\", \"2021-09-30\", \"2021-10-01\", \"2021-10-04\", \"2021-10-05\", \"2021-10-06\", \"2021-10-07\", \"2021-10-08\", \"2021-10-11\", \"2021-10-12\", \"2021-10-13\", \"2021-10-14\", \"2021-10-15\", \"2021-10-18\", \"2021-10-19\", \"2021-10-20\", \"2021-10-21\", \"2021-10-22\", \"2021-10-25\", \"2021-10-26\", \"2021-10-27\", \"2021-10-28\", \"2021-10-29\", \"2021-11-01\", \"2021-11-02\", \"2021-11-03\", \"2021-11-04\", \"2021-11-05\", \"2021-11-08\", \"2021-11-09\", \"2021-11-10\", \"2021-11-11\", \"2021-11-12\", \"2021-11-15\", \"2021-11-16\", \"2021-11-17\", \"2021-11-18\", \"2021-11-19\"], \"xaxis\": \"x2\", \"y\": [\"62.5014\", \"61.4914\", \"65.4853\", \"63.0078\", \"50.4615\", \"44.2052\", \"51.5638\", \"47.1036\", \"49.1749\", \"56.2503\", \"56.795\", \"57.5002\", \"53.9846\", \"57.0177\", \"61.803\", \"62.9288\", \"62.2591\", \"61.5238\", \"61.8605\", \"66.966\", \"67.1982\", \"67.4549\", \"58.2386\", \"60.3506\", \"60.823\", \"64.3084\", \"64.6548\", \"65.4335\", \"51.1904\", \"54.538\", \"58.6982\", \"59.2418\", \"65.2537\", \"69.2487\", \"62.9139\", \"63.8808\", \"61.2089\", \"61.0862\", \"63.0237\", \"62.5243\", \"63.245\", \"66.7115\", \"62.0029\", \"64.1664\", \"68.3171\", \"69.7833\", \"71.689\", \"77.0168\", \"81.1938\", \"77.9055\", \"78.1551\", \"82.1564\", \"83.92\", \"90.9759\", \"88.6376\", \"89.5146\", \"91.0198\", \"92.1628\", \"94.198\", \"85.0023\", \"86.6124\", \"87.1807\", \"85.2812\", \"72.427\", \"52.3824\", \"56.514\", \"55.9914\", \"52.4515\", \"50.1773\", \"54.5566\", \"57.8641\", \"58.5623\", \"62.2782\"], \"yaxis\": \"y2\"}, {\"mode\": \"markers+lines\", \"name\": \"Prediction\", \"type\": \"scatter\", \"x\": [\"2021-08-10\", \"2021-08-11\", \"2021-08-12\", \"2021-08-13\", \"2021-08-16\", \"2021-08-17\", \"2021-08-18\", \"2021-08-19\", \"2021-08-20\", \"2021-08-23\", \"2021-08-24\", \"2021-08-25\", \"2021-08-26\", \"2021-08-27\", \"2021-08-30\", \"2021-08-31\", \"2021-09-01\", \"2021-09-02\", \"2021-09-03\", \"2021-09-07\", \"2021-09-08\", \"2021-09-09\", \"2021-09-10\", \"2021-09-13\", \"2021-09-14\", \"2021-09-15\", \"2021-09-16\", \"2021-09-17\", \"2021-09-20\", \"2021-09-21\", \"2021-09-22\", \"2021-09-23\", \"2021-09-24\", \"2021-09-27\", \"2021-09-28\", \"2021-09-29\", \"2021-09-30\", \"2021-10-01\", \"2021-10-04\", \"2021-10-05\", \"2021-10-06\", \"2021-10-07\", \"2021-10-08\", \"2021-10-11\", \"2021-10-12\", \"2021-10-13\", \"2021-10-14\", \"2021-10-15\", \"2021-10-18\", \"2021-10-19\", \"2021-10-20\", \"2021-10-21\", \"2021-10-22\", \"2021-10-25\", \"2021-10-26\", \"2021-10-27\", \"2021-10-28\", \"2021-10-29\", \"2021-11-01\", \"2021-11-02\", \"2021-11-03\", \"2021-11-04\", \"2021-11-05\", \"2021-11-08\", \"2021-11-09\", \"2021-11-10\", \"2021-11-11\", \"2021-11-12\", \"2021-11-15\", \"2021-11-16\", \"2021-11-17\", \"2021-11-18\", \"2021-11-19\"], \"xaxis\": \"x2\", \"y\": [58.13595962524414, 58.477996826171875, 58.96025466918945, 59.50263595581055, 60.65884017944336, 62.721160888671875, 64.83038330078125, 65.60856628417969, 65.8669204711914, 65.52935028076172, 64.54791259765625, 63.63454818725586, 63.046932220458984, 63.05412292480469, 63.08233642578125, 62.92766189575195, 62.969181060791016, 63.26311111450195, 63.65565872192383, 63.928646087646484, 63.860572814941406, 63.890708923339844, 64.04951477050781, 64.74394989013672, 64.92350769042969, 64.51101684570312, 63.543758392333984, 62.567935943603516, 61.845375061035156, 62.094139099121094, 61.935726165771484, 61.19196701049805, 60.56875991821289, 60.40052032470703, 61.20255661010742, 63.357234954833984, 65.99078369140625, 68.92143249511719, 71.69956970214844, 74.01372528076172, 75.9190444946289, 77.29552459716797, 78.0906982421875, 78.9771499633789, 79.5443115234375, 79.77359008789062, 80.10504913330078, 80.75737762451172, 81.60565948486328, 82.52102661132812, 83.54999542236328, 83.9573974609375, 83.17710876464844, 81.364013671875, 78.4316177368164, 75.0470199584961, 71.090576171875, 66.8185806274414, 62.86222839355469], \"yaxis\": \"y2\"}, {\"mode\": \"markers+lines\", \"name\": \"Forecast\", \"type\": \"scatter\", \"x\": [\"2021-11-19T00:00:00\", \"2021-11-22T00:00:00\", \"2021-11-23T00:00:00\", \"2021-11-24T00:00:00\", \"2021-11-26T00:00:00\", \"2021-11-29T00:00:00\", \"2021-11-30T00:00:00\", \"2021-12-01T00:00:00\", \"2021-12-02T00:00:00\", \"2021-12-03T00:00:00\", \"2021-12-06T00:00:00\", \"2021-12-07T00:00:00\", \"2021-12-08T00:00:00\", \"2021-12-09T00:00:00\", \"2021-12-10T00:00:00\"], \"xaxis\": \"x2\", \"y\": [62.2782, 59.77370331795811, 58.28328725973963, 57.5458410359621, 57.37737997335791, 57.74377146705388, 59.00452862719893, 61.15406963455676, 62.27558897312283, 62.60663920029997, 62.648019379913805, 62.611065099489686, 62.076959715843195, 61.329962867498395, 60.970309113085264], \"yaxis\": \"y2\"}, {\"line\": {\"color\": \"rgb(100, 10, 100)\", \"dash\": \"dash\", \"shape\": \"linear\"}, \"mode\": \"lines\", \"type\": \"scatter\", \"x\": [\"2021-04-27\", \"2021-12-10T00:00:00\"], \"xaxis\": \"x2\", \"y\": [70, 70], \"yaxis\": \"y2\"}, {\"line\": {\"color\": \"rgb(10, 12, 240)\", \"dash\": \"dash\", \"shape\": \"linear\"}, \"mode\": \"lines\", \"type\": \"scatter\", \"x\": [\"2021-04-27\", \"2021-12-10T00:00:00\"], \"xaxis\": \"x2\", \"y\": [50, 50], \"yaxis\": \"y2\"}, {\"line\": {\"color\": \"rgb(10, 120, 24)\", \"dash\": \"dash\", \"shape\": \"linear\"}, \"mode\": \"lines\", \"type\": \"scatter\", \"x\": [\"2021-04-27\", \"2021-12-10T00:00:00\"], \"xaxis\": \"x2\", \"y\": [30, 30], \"yaxis\": \"y2\"}],\n",
              "                        {\"annotations\": [{\"font\": {\"size\": 16}, \"showarrow\": false, \"text\": \"<a href=\\\"https://in.tradingview.com/chart/66XmQfYy/?symbol=TSLA\\\">TSLA</a> Date:2021-11-19 Open:1098.87 High:1092.7 Low:1138.7199 Close:1137.06\", \"x\": 0.5, \"xanchor\": \"center\", \"xref\": \"paper\", \"y\": 1.0, \"yanchor\": \"bottom\", \"yref\": \"paper\"}, {\"font\": {\"size\": 16}, \"showarrow\": false, \"text\": \"<a href=\\\"https://in.tradingview.com/chart/66XmQfYy/?symbol=TSLA\\\">TSLA</a> RSI(14) Date:2021-11-19 Close:62.2782 Forecast(14):61.0\", \"x\": 0.5, \"xanchor\": \"center\", \"xref\": \"paper\", \"y\": 0.30000000000000004, \"yanchor\": \"bottom\", \"yref\": \"paper\"}], \"height\": 650, \"template\": {\"data\": {\"bar\": [{\"error_x\": {\"color\": \"#2a3f5f\"}, \"error_y\": {\"color\": \"#2a3f5f\"}, \"marker\": {\"line\": {\"color\": \"#E5ECF6\", \"width\": 0.5}}, \"type\": \"bar\"}], \"barpolar\": [{\"marker\": {\"line\": {\"color\": \"#E5ECF6\", \"width\": 0.5}}, \"type\": \"barpolar\"}], \"carpet\": [{\"aaxis\": {\"endlinecolor\": \"#2a3f5f\", \"gridcolor\": \"white\", \"linecolor\": \"white\", \"minorgridcolor\": \"white\", \"startlinecolor\": \"#2a3f5f\"}, \"baxis\": {\"endlinecolor\": \"#2a3f5f\", \"gridcolor\": \"white\", \"linecolor\": \"white\", \"minorgridcolor\": \"white\", \"startlinecolor\": \"#2a3f5f\"}, \"type\": \"carpet\"}], \"choropleth\": [{\"colorbar\": {\"outlinewidth\": 0, \"ticks\": \"\"}, \"type\": \"choropleth\"}], \"contour\": [{\"colorbar\": {\"outlinewidth\": 0, \"ticks\": \"\"}, \"colorscale\": [[0.0, \"#0d0887\"], [0.1111111111111111, \"#46039f\"], [0.2222222222222222, \"#7201a8\"], [0.3333333333333333, \"#9c179e\"], [0.4444444444444444, \"#bd3786\"], [0.5555555555555556, \"#d8576b\"], [0.6666666666666666, \"#ed7953\"], [0.7777777777777778, \"#fb9f3a\"], [0.8888888888888888, \"#fdca26\"], [1.0, \"#f0f921\"]], \"type\": \"contour\"}], \"contourcarpet\": [{\"colorbar\": {\"outlinewidth\": 0, \"ticks\": \"\"}, \"type\": \"contourcarpet\"}], \"heatmap\": [{\"colorbar\": {\"outlinewidth\": 0, \"ticks\": \"\"}, \"colorscale\": [[0.0, \"#0d0887\"], [0.1111111111111111, \"#46039f\"], [0.2222222222222222, \"#7201a8\"], [0.3333333333333333, \"#9c179e\"], [0.4444444444444444, \"#bd3786\"], [0.5555555555555556, \"#d8576b\"], [0.6666666666666666, \"#ed7953\"], [0.7777777777777778, \"#fb9f3a\"], [0.8888888888888888, \"#fdca26\"], [1.0, \"#f0f921\"]], \"type\": \"heatmap\"}], \"heatmapgl\": [{\"colorbar\": {\"outlinewidth\": 0, \"ticks\": \"\"}, \"colorscale\": [[0.0, \"#0d0887\"], [0.1111111111111111, \"#46039f\"], [0.2222222222222222, \"#7201a8\"], [0.3333333333333333, \"#9c179e\"], [0.4444444444444444, \"#bd3786\"], [0.5555555555555556, \"#d8576b\"], [0.6666666666666666, \"#ed7953\"], [0.7777777777777778, \"#fb9f3a\"], [0.8888888888888888, \"#fdca26\"], [1.0, \"#f0f921\"]], \"type\": \"heatmapgl\"}], \"histogram\": [{\"marker\": {\"colorbar\": {\"outlinewidth\": 0, \"ticks\": \"\"}}, \"type\": \"histogram\"}], \"histogram2d\": [{\"colorbar\": {\"outlinewidth\": 0, \"ticks\": \"\"}, \"colorscale\": [[0.0, \"#0d0887\"], [0.1111111111111111, \"#46039f\"], [0.2222222222222222, \"#7201a8\"], [0.3333333333333333, \"#9c179e\"], [0.4444444444444444, \"#bd3786\"], [0.5555555555555556, \"#d8576b\"], [0.6666666666666666, \"#ed7953\"], [0.7777777777777778, \"#fb9f3a\"], [0.8888888888888888, \"#fdca26\"], [1.0, \"#f0f921\"]], \"type\": \"histogram2d\"}], \"histogram2dcontour\": [{\"colorbar\": {\"outlinewidth\": 0, \"ticks\": \"\"}, \"colorscale\": [[0.0, \"#0d0887\"], [0.1111111111111111, \"#46039f\"], [0.2222222222222222, \"#7201a8\"], [0.3333333333333333, \"#9c179e\"], [0.4444444444444444, \"#bd3786\"], [0.5555555555555556, \"#d8576b\"], [0.6666666666666666, \"#ed7953\"], [0.7777777777777778, \"#fb9f3a\"], [0.8888888888888888, \"#fdca26\"], [1.0, \"#f0f921\"]], \"type\": \"histogram2dcontour\"}], \"mesh3d\": [{\"colorbar\": {\"outlinewidth\": 0, \"ticks\": \"\"}, \"type\": \"mesh3d\"}], \"parcoords\": [{\"line\": {\"colorbar\": {\"outlinewidth\": 0, \"ticks\": \"\"}}, \"type\": \"parcoords\"}], \"pie\": [{\"automargin\": true, \"type\": \"pie\"}], \"scatter\": [{\"marker\": {\"colorbar\": {\"outlinewidth\": 0, \"ticks\": \"\"}}, \"type\": \"scatter\"}], \"scatter3d\": [{\"line\": {\"colorbar\": {\"outlinewidth\": 0, \"ticks\": \"\"}}, \"marker\": {\"colorbar\": {\"outlinewidth\": 0, \"ticks\": \"\"}}, \"type\": \"scatter3d\"}], \"scattercarpet\": [{\"marker\": {\"colorbar\": {\"outlinewidth\": 0, \"ticks\": \"\"}}, \"type\": \"scattercarpet\"}], \"scattergeo\": [{\"marker\": {\"colorbar\": {\"outlinewidth\": 0, \"ticks\": \"\"}}, \"type\": \"scattergeo\"}], \"scattergl\": [{\"marker\": {\"colorbar\": {\"outlinewidth\": 0, \"ticks\": \"\"}}, \"type\": \"scattergl\"}], \"scattermapbox\": [{\"marker\": {\"colorbar\": {\"outlinewidth\": 0, \"ticks\": \"\"}}, \"type\": \"scattermapbox\"}], \"scatterpolar\": [{\"marker\": {\"colorbar\": {\"outlinewidth\": 0, \"ticks\": \"\"}}, \"type\": \"scatterpolar\"}], \"scatterpolargl\": [{\"marker\": {\"colorbar\": {\"outlinewidth\": 0, \"ticks\": \"\"}}, \"type\": \"scatterpolargl\"}], \"scatterternary\": [{\"marker\": {\"colorbar\": {\"outlinewidth\": 0, \"ticks\": \"\"}}, \"type\": \"scatterternary\"}], \"surface\": [{\"colorbar\": {\"outlinewidth\": 0, \"ticks\": \"\"}, \"colorscale\": [[0.0, \"#0d0887\"], [0.1111111111111111, \"#46039f\"], [0.2222222222222222, \"#7201a8\"], [0.3333333333333333, \"#9c179e\"], [0.4444444444444444, \"#bd3786\"], [0.5555555555555556, \"#d8576b\"], [0.6666666666666666, \"#ed7953\"], [0.7777777777777778, \"#fb9f3a\"], [0.8888888888888888, \"#fdca26\"], [1.0, \"#f0f921\"]], \"type\": \"surface\"}], \"table\": [{\"cells\": {\"fill\": {\"color\": \"#EBF0F8\"}, \"line\": {\"color\": \"white\"}}, \"header\": {\"fill\": {\"color\": \"#C8D4E3\"}, \"line\": {\"color\": \"white\"}}, \"type\": \"table\"}]}, \"layout\": {\"annotationdefaults\": {\"arrowcolor\": \"#2a3f5f\", \"arrowhead\": 0, \"arrowwidth\": 1}, \"coloraxis\": {\"colorbar\": {\"outlinewidth\": 0, \"ticks\": \"\"}}, \"colorscale\": {\"diverging\": [[0, \"#8e0152\"], [0.1, \"#c51b7d\"], [0.2, \"#de77ae\"], [0.3, \"#f1b6da\"], [0.4, \"#fde0ef\"], [0.5, \"#f7f7f7\"], [0.6, \"#e6f5d0\"], [0.7, \"#b8e186\"], [0.8, \"#7fbc41\"], [0.9, \"#4d9221\"], [1, \"#276419\"]], \"sequential\": [[0.0, \"#0d0887\"], [0.1111111111111111, \"#46039f\"], [0.2222222222222222, \"#7201a8\"], [0.3333333333333333, \"#9c179e\"], [0.4444444444444444, \"#bd3786\"], [0.5555555555555556, \"#d8576b\"], [0.6666666666666666, \"#ed7953\"], [0.7777777777777778, \"#fb9f3a\"], [0.8888888888888888, \"#fdca26\"], [1.0, \"#f0f921\"]], \"sequentialminus\": [[0.0, \"#0d0887\"], [0.1111111111111111, \"#46039f\"], [0.2222222222222222, \"#7201a8\"], [0.3333333333333333, \"#9c179e\"], [0.4444444444444444, \"#bd3786\"], [0.5555555555555556, \"#d8576b\"], [0.6666666666666666, \"#ed7953\"], [0.7777777777777778, \"#fb9f3a\"], [0.8888888888888888, \"#fdca26\"], [1.0, \"#f0f921\"]]}, \"colorway\": [\"#636efa\", \"#EF553B\", \"#00cc96\", \"#ab63fa\", \"#FFA15A\", \"#19d3f3\", \"#FF6692\", \"#B6E880\", \"#FF97FF\", \"#FECB52\"], \"font\": {\"color\": \"#2a3f5f\"}, \"geo\": {\"bgcolor\": \"white\", \"lakecolor\": \"white\", \"landcolor\": \"#E5ECF6\", \"showlakes\": true, \"showland\": true, \"subunitcolor\": \"white\"}, \"hoverlabel\": {\"align\": \"left\"}, \"hovermode\": \"closest\", \"mapbox\": {\"style\": \"light\"}, \"paper_bgcolor\": \"white\", \"plot_bgcolor\": \"#E5ECF6\", \"polar\": {\"angularaxis\": {\"gridcolor\": \"white\", \"linecolor\": \"white\", \"ticks\": \"\"}, \"bgcolor\": \"#E5ECF6\", \"radialaxis\": {\"gridcolor\": \"white\", \"linecolor\": \"white\", \"ticks\": \"\"}}, \"scene\": {\"xaxis\": {\"backgroundcolor\": \"#E5ECF6\", \"gridcolor\": \"white\", \"gridwidth\": 2, \"linecolor\": \"white\", \"showbackground\": true, \"ticks\": \"\", \"zerolinecolor\": \"white\"}, \"yaxis\": {\"backgroundcolor\": \"#E5ECF6\", \"gridcolor\": \"white\", \"gridwidth\": 2, \"linecolor\": \"white\", \"showbackground\": true, \"ticks\": \"\", \"zerolinecolor\": \"white\"}, \"zaxis\": {\"backgroundcolor\": \"#E5ECF6\", \"gridcolor\": \"white\", \"gridwidth\": 2, \"linecolor\": \"white\", \"showbackground\": true, \"ticks\": \"\", \"zerolinecolor\": \"white\"}}, \"shapedefaults\": {\"line\": {\"color\": \"#2a3f5f\"}}, \"ternary\": {\"aaxis\": {\"gridcolor\": \"white\", \"linecolor\": \"white\", \"ticks\": \"\"}, \"baxis\": {\"gridcolor\": \"white\", \"linecolor\": \"white\", \"ticks\": \"\"}, \"bgcolor\": \"#E5ECF6\", \"caxis\": {\"gridcolor\": \"white\", \"linecolor\": \"white\", \"ticks\": \"\"}}, \"title\": {\"x\": 0.05}, \"xaxis\": {\"automargin\": true, \"gridcolor\": \"white\", \"linecolor\": \"white\", \"ticks\": \"\", \"title\": {\"standoff\": 15}, \"zerolinecolor\": \"white\", \"zerolinewidth\": 2}, \"yaxis\": {\"automargin\": true, \"gridcolor\": \"white\", \"linecolor\": \"white\", \"ticks\": \"\", \"title\": {\"standoff\": 15}, \"zerolinecolor\": \"white\", \"zerolinewidth\": 2}}}, \"xaxis\": {\"anchor\": \"y\", \"domain\": [0.0, 1.0], \"rangeslider\": {\"visible\": false}, \"showspikes\": true, \"spikedash\": \"dash\", \"spikemode\": \"across\", \"spikesnap\": \"cursor\"}, \"xaxis2\": {\"anchor\": \"y2\", \"domain\": [0.0, 1.0], \"showspikes\": true, \"spikedash\": \"dash\", \"spikemode\": \"across\", \"spikesnap\": \"cursor\"}, \"yaxis\": {\"anchor\": \"x\", \"domain\": [0.55, 1.0], \"showspikes\": true, \"spikedash\": \"dash\", \"spikemode\": \"across\", \"spikesnap\": \"cursor\"}, \"yaxis2\": {\"anchor\": \"x2\", \"domain\": [0.0, 0.30000000000000004], \"showspikes\": true, \"spikedash\": \"dash\", \"spikemode\": \"across\", \"spikesnap\": \"cursor\"}},\n",
              "                        {\"responsive\": true}\n",
              "                    ).then(function(){\n",
              "                            \n",
              "var gd = document.getElementById('740def7e-e188-469d-a54f-7041b2f28b01');\n",
              "var x = new MutationObserver(function (mutations, observer) {{\n",
              "        var display = window.getComputedStyle(gd).display;\n",
              "        if (!display || display === 'none') {{\n",
              "            console.log([gd, 'removed!']);\n",
              "            Plotly.purge(gd);\n",
              "            observer.disconnect();\n",
              "        }}\n",
              "}});\n",
              "\n",
              "// Listen for the removal of the full notebook cells\n",
              "var notebookContainer = gd.closest('#notebook-container');\n",
              "if (notebookContainer) {{\n",
              "    x.observe(notebookContainer, {childList: true});\n",
              "}}\n",
              "\n",
              "// Listen for the clearing of the current output cell\n",
              "var outputEl = gd.closest('.output');\n",
              "if (outputEl) {{\n",
              "    x.observe(outputEl, {childList: true});\n",
              "}}\n",
              "\n",
              "                        })\n",
              "                };\n",
              "                \n",
              "            </script>\n",
              "        </div>\n",
              "</body>\n",
              "</html>"
            ]
          },
          "metadata": {}
        }
      ]
    }
  ]
}