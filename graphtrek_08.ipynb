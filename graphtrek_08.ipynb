{
  "nbformat": 4,
  "nbformat_minor": 0,
  "metadata": {
    "colab": {
      "name": "graphtrek_08.ipynb",
      "provenance": [],
      "include_colab_link": true
    },
    "kernelspec": {
      "name": "python3",
      "display_name": "Python 3"
    },
    "language_info": {
      "name": "python"
    }
  },
  "cells": [
    {
      "cell_type": "markdown",
      "metadata": {
        "id": "view-in-github",
        "colab_type": "text"
      },
      "source": [
        "<a href=\"https://colab.research.google.com/github/graphtrek/stockforecast/blob/main/graphtrek_08.ipynb\" target=\"_parent\"><img src=\"https://colab.research.google.com/assets/colab-badge.svg\" alt=\"Open In Colab\"/></a>"
      ]
    },
    {
      "cell_type": "code",
      "metadata": {
        "id": "sZPC3Z9u3evF"
      },
      "source": [
        "import numpy as np\n",
        "from tensorflow.keras.models import Sequential\n",
        "from tensorflow.keras.layers import LSTM\n",
        "from tensorflow.keras.optimizers import Adam\n",
        "from tensorflow.keras.losses import MAE\n",
        "from tensorflow.keras.layers import Dense, Dropout\n",
        "from tensorflow import keras\n",
        "from datetime import datetime, timedelta\n",
        "import pandas as pd\n",
        "import os, time\n",
        "from matplotlib import pyplot as plt\n",
        "from sklearn.preprocessing import StandardScaler\n",
        "import seaborn as sns\n",
        "import plotly.graph_objects as go\n",
        "import plotly.express as px\n",
        "from sklearn.preprocessing import MinMaxScaler\n",
        "from pandas.tseries.holiday import USFederalHolidayCalendar\n",
        "from pandas.tseries.offsets import CustomBusinessDay\n",
        "from keras.preprocessing.sequence import TimeseriesGenerator\n",
        "from tensorflow.keras.models import Sequential\n",
        "from tensorflow.keras.layers import LSTM\n",
        "from tensorflow.keras.optimizers import Adam\n",
        "from tensorflow.keras.losses import MAE\n",
        "from tensorflow.keras.layers import Dense, Dropout\n",
        "from tensorflow import keras\n",
        "from datetime import datetime, timedelta\n",
        "import pandas as pd\n",
        "import os, time\n",
        "from matplotlib import pyplot as plt\n",
        "from sklearn.preprocessing import StandardScaler\n",
        "import seaborn as sns\n",
        "import plotly.graph_objects as go\n",
        "import plotly.express as px\n",
        "from plotly.subplots import make_subplots\n",
        "from sklearn.preprocessing import MinMaxScaler\n",
        "from pandas.tseries.holiday import USFederalHolidayCalendar\n",
        "from pandas.tseries.offsets import CustomBusinessDay\n",
        "from keras.preprocessing.sequence import TimeseriesGenerator\n",
        "from pathlib import Path"
      ],
      "execution_count": 704,
      "outputs": []
    },
    {
      "cell_type": "code",
      "metadata": {
        "id": "HKYStAEQ3mh6"
      },
      "source": [
        "ticker = \"CAT\" # QQQ, SPY, VTI JETS, XLE, XLF, XLNX, ARKK, ARKG, ARKQ, ARKF, PYPL, V\n",
        "look_back = 3 #  number of past days we want to use to predict 1 day in the future.\n",
        "max_data_size = 730 # ~2 years\n",
        "split_percent = 0.90 # use 90% of the data  for train\n",
        "INFO = 1\n",
        "DEBUG = 2\n",
        "TRACE = 3\n",
        "print_level = INFO \n",
        "indicators_model_file_path = '/content/drive/MyDrive/models/' + ticker + '_' + str(look_back) + '_indicators_08.h5'\n",
        "nr_of_features = 3\n",
        "look_forward = 1\n",
        "epochs = 420\n",
        "learning_rate=0.0042\n",
        "num_prediction = look_back * 4\n",
        "apikey = '3F4URDEKOPLFH25T'\n",
        "np.random.seed(42)"
      ],
      "execution_count": 705,
      "outputs": []
    },
    {
      "cell_type": "code",
      "metadata": {
        "id": "tPJ9HBOO3-2-",
        "colab": {
          "base_uri": "https://localhost:8080/"
        },
        "outputId": "0c33c470-5765-489f-beaf-c4a6de7fe51d"
      },
      "source": [
        "rsi_url = 'https://www.alphavantage.co/query?function=RSI&datatype=json&symbol='+ticker+'&interval=daily&time_period='+str(look_back)+'&series_type=close&apikey=' + apikey\n",
        "print(rsi_url)\n",
        "rsi_api_response = pd.read_json(rsi_url)\n",
        "#print(rsi_api_response)\n",
        "rsi_api_data = rsi_api_response['Technical Analysis: RSI']\n",
        "#print(rsi_api_data)\n",
        "rsi_api_data = rsi_api_data.drop(\n",
        "    index=['1: Symbol','2: Indicator','3: Last Refreshed','4: Interval','5: Time Period','6: Series Type','7: Time Zone']);\n",
        "#print(rsi_api_data)\n",
        "\n",
        "rsi_data = []\n",
        "for key, value in rsi_api_data.items():\n",
        "  date = key\n",
        "  rsi = float(value.get('RSI'))\n",
        "  rsi_data.append([date,rsi])\n",
        "\n",
        "last_rsi_data =  str(rsi_data[0])\n",
        "first_rsi_data =  str(rsi_data[-1])\n",
        "print('rsi_data_length:', len(rsi_data), 'first_rsi_data:', first_rsi_data, 'last_rsi_data:', last_rsi_data)  "
      ],
      "execution_count": 706,
      "outputs": [
        {
          "output_type": "stream",
          "name": "stdout",
          "text": [
            "https://www.alphavantage.co/query?function=RSI&datatype=json&symbol=CAT&interval=daily&time_period=3&series_type=close&apikey=3F4URDEKOPLFH25T\n",
            "rsi_data_length: 5548 first_rsi_data: ['1999-11-04', 49.14] last_rsi_data: ['2021-11-19', 10.8583]\n"
          ]
        }
      ]
    },
    {
      "cell_type": "code",
      "metadata": {
        "colab": {
          "base_uri": "https://localhost:8080/"
        },
        "id": "GmEkUmlfJFsW",
        "outputId": "9df7e3ba-a6be-4bb5-d24c-5a21addfdf1f"
      },
      "source": [
        "stoch_url = 'https://www.alphavantage.co/query?function=STOCH&symbol='+ticker+'&interval=daily&apikey=' + apikey\n",
        "print(stoch_url)\n",
        "stoch_api_response = pd.read_json(stoch_url)\n",
        "stoch_api_data = stoch_api_response['Technical Analysis: STOCH']\n",
        "#print(rsi_api_data)\n",
        "stoch_api_data = stoch_api_data.drop(\n",
        "    index=['1: Symbol','2: Indicator','3: Last Refreshed','4: Interval','5.1: FastK Period','5.2: SlowK Period','5.3: SlowK MA Type','5.4: SlowD Period','5.5: SlowD MA Type','6: Time Zone'])\n",
        "#print(stoch_api_data)\n",
        "stoch_data = []\n",
        "for key, value in stoch_api_data.items():\n",
        "  date = key\n",
        "  SlowD = float(value.get('SlowD'))\n",
        "  SlowK = float(value.get('SlowK'))\n",
        "  stoch_data.append([date,SlowD,SlowK])\n",
        "\n",
        "last_stoch_data =  str(stoch_data[0])\n",
        "first_stoch_data =  str(stoch_data[-1])\n",
        "print('stoch_data_length:', len(stoch_data), 'first_stoch_data:', first_stoch_data, 'last_stoch_data:', last_stoch_data)  "
      ],
      "execution_count": 707,
      "outputs": [
        {
          "output_type": "stream",
          "name": "stdout",
          "text": [
            "https://www.alphavantage.co/query?function=STOCH&symbol=CAT&interval=daily&apikey=3F4URDEKOPLFH25T\n",
            "stoch_data_length: 5543 first_stoch_data: ['1999-11-11', 18.6161, 28.8532] last_stoch_data: ['2021-11-19', 11.9368, 12.0984]\n"
          ]
        }
      ]
    },
    {
      "cell_type": "code",
      "metadata": {
        "colab": {
          "base_uri": "https://localhost:8080/"
        },
        "id": "gTTORjJJ22lE",
        "outputId": "8f6ff1ba-029c-4c03-872b-00c5c6b9a195"
      },
      "source": [
        "stock_url = 'https://www.alphavantage.co/query?function=TIME_SERIES_DAILY_ADJUSTED&symbol='+ticker+'&outputsize=full&apikey=' + apikey\n",
        "print(stock_url)\n",
        "stock_api_response = pd.read_json(stock_url)\n",
        "stock_api_data = stock_api_response['Time Series (Daily)']\n",
        "#print(stock_api_data)\n",
        "stock_api_data = stock_api_data.drop(index=['1. Information','2. Symbol','3. Last Refreshed','4. Output Size','5. Time Zone']);\n",
        "\n",
        "stock_data = []\n",
        "split_coefficient = 1\n",
        "\n",
        "for key, value in stock_api_data.items():\n",
        "  date = key\n",
        "  open = float(value.get('1. open'))\n",
        "  high = float(value.get('2. high'))\n",
        "  low = float(value.get('3. low'))\n",
        "  close = float(value.get('4. close'))\n",
        "  adjusted_close = float(value.get('5. adjusted close'))\n",
        "  volume = int(value.get('6. volume'))\n",
        "  divident = float(value.get('7. dividend amount'))\n",
        "\n",
        "  if float(value.get('8. split coefficient')) > 1:\n",
        "    split_coefficient = float(value.get('8. split coefficient'))\n",
        "    \n",
        "  open = open / split_coefficient\n",
        "  high = high /split_coefficient\n",
        "  close = close / split_coefficient\n",
        "  low = low / split_coefficient\n",
        "  \n",
        "  stock_data.append([\n",
        "      date,\n",
        "      close,\n",
        "      volume,\n",
        "      high,\n",
        "      low,\n",
        "      open,\n",
        "      divident\n",
        "      ])\n",
        "\n",
        "last_date =  str(stock_data[0][0])\n",
        "print('data length:', len(stock_data), 'last_date:', last_date)\n",
        "\n",
        "last_stock_data =  str(stock_data[0])\n",
        "first_stock_data =  str(stock_data[-1])\n",
        "print('stock_data_length:', len(stock_data), 'first_stock_data:', first_stock_data, 'last_stock_data:', last_stock_data)"
      ],
      "execution_count": 708,
      "outputs": [
        {
          "output_type": "stream",
          "name": "stdout",
          "text": [
            "https://www.alphavantage.co/query?function=TIME_SERIES_DAILY_ADJUSTED&symbol=CAT&outputsize=full&apikey=3F4URDEKOPLFH25T\n",
            "data length: 5551 last_date: 2021-11-19\n",
            "stock_data_length: 5551 first_stock_data: ['1999-11-01', 27.315, 1718900, 27.97, 27.19, 27.655, 0.0] last_stock_data: ['2021-11-19', 200.44, 2980754, 202.92, 199.66, 200.92, 0.0]\n"
          ]
        }
      ]
    },
    {
      "cell_type": "code",
      "metadata": {
        "id": "GzJkdoRGuYmf",
        "colab": {
          "base_uri": "https://localhost:8080/"
        },
        "outputId": "6e3fa185-5e87-4ce6-d592-4807fe5bd720"
      },
      "source": [
        "data_size = np.min([len(rsi_data), len(stoch_data), len(stock_data)])\n",
        "if max_data_size < data_size:\n",
        "  rsi_data = np.flip(rsi_data[:max_data_size],axis=0)\n",
        "  stoch_data = np.flip(stoch_data[:max_data_size],axis=0)\n",
        "  stock_data = np.flip(stock_data[:max_data_size],axis=0)\n",
        "else:\n",
        "  rsi_data = np.flip(rsi_data[:data_size],axis=0)\n",
        "  stoch_data = np.flip(stoch_data[:data_size],axis=0)\n",
        "  stock_data = np.flip(stock_data[:data_size],axis=0)\n",
        "\n",
        "dates = stock_data[:,0]\n",
        "\n",
        "rsi_array = rsi_data[:,1]\n",
        "stoch_slowD_array = stoch_data[:,1]\n",
        "stoch_slowK_array = stoch_data[:,2]\n",
        "\n",
        "indicators_data = np.append(np.expand_dims(dates, axis=1),  np.expand_dims(rsi_array, axis=1).astype(float),axis=1)\n",
        "indicators_data = np.append(indicators_data, np.expand_dims(stoch_slowD_array, axis=1),axis=1)\n",
        "indicators_data = np.append(indicators_data, np.expand_dims(stoch_slowK_array, axis=1),axis=1)\n",
        "print(indicators_data[:10])\n",
        "\n",
        "indicators_lstm_data = np.expand_dims(rsi_array, axis=1).astype(float)\n",
        "indicators_lstm_data = np.append(indicators_lstm_data, np.expand_dims(stoch_slowD_array, axis=1),axis=1).astype(float)\n",
        "indicators_lstm_data = np.append(indicators_lstm_data, np.expand_dims(stoch_slowK_array, axis=1),axis=1).astype(float)\n",
        "print(indicators_lstm_data[:10])"
      ],
      "execution_count": 709,
      "outputs": [
        {
          "output_type": "stream",
          "name": "stdout",
          "text": [
            "[['2018-12-31' '72.2603' '75.9362' '89.4656']\n",
            " ['2019-01-02' '62.2796' '85.2359' '84.4024']\n",
            " ['2019-01-03' '25.2933' '78.9136' '62.8727']\n",
            " ['2019-01-04' '66.2659' '70.5276' '64.3078']\n",
            " ['2019-01-07' '66.597' '63.8763' '64.4484']\n",
            " ['2019-01-08' '73.9729' '72.2524' '88.001']\n",
            " ['2019-01-09' '76.5' '78.9107' '84.2827']\n",
            " ['2019-01-10' '86.8243' '86.9952' '88.702']\n",
            " ['2019-01-11' '71.7152' '87.2016' '88.6201']\n",
            " ['2019-01-14' '65.73' '87.9881' '86.6421']]\n",
            "[[ 72.260300000000  75.936200000000  89.465600000000]\n",
            " [ 62.279600000000  85.235900000000  84.402400000000]\n",
            " [ 25.293300000000  78.913600000000  62.872700000000]\n",
            " [ 66.265900000000  70.527600000000  64.307800000000]\n",
            " [ 66.597000000000  63.876300000000  64.448400000000]\n",
            " [ 73.972900000000  72.252400000000  88.001000000000]\n",
            " [ 76.500000000000  78.910700000000  84.282700000000]\n",
            " [ 86.824300000000  86.995200000000  88.702000000000]\n",
            " [ 71.715200000000  87.201600000000  88.620100000000]\n",
            " [ 65.730000000000  87.988100000000  86.642100000000]]\n"
          ]
        }
      ]
    },
    {
      "cell_type": "code",
      "metadata": {
        "id": "xHrOFKHo3ocW"
      },
      "source": [
        "stock_df = pd.DataFrame(stock_data,columns=['Date','Close','Volume','High','Low','Open','Divident'])\n",
        "stock_df['50MA'] = stock_df['Close'].rolling(50).mean()\n",
        "stock_df['100MA'] = stock_df['Close'].rolling(100).mean()\n",
        "stock_df['200MA'] = stock_df['Close'].rolling(200).mean()"
      ],
      "execution_count": 710,
      "outputs": []
    },
    {
      "cell_type": "code",
      "metadata": {
        "id": "OYTx2W6N4JIM"
      },
      "source": [
        "indicators_df = pd.DataFrame(indicators_data,columns=['Date','RSI','SlowD','SlowK'])\n",
        "\n",
        "split = int(split_percent*len(indicators_data))\n",
        "if len(indicators_data) - split < look_back:\n",
        "  split = look_back\n",
        "split\n",
        "\n",
        "\n",
        "indicators_df_train = indicators_df.iloc[:split]\n",
        "indicators_df_test = indicators_df.iloc[split:]\n",
        "\n",
        "indicators_lstm_train_data = indicators_lstm_data[:split]\n",
        "indicators_lstm_test_data = indicators_lstm_data[split:]"
      ],
      "execution_count": 711,
      "outputs": []
    },
    {
      "cell_type": "code",
      "metadata": {
        "id": "5oRtthul4Pyj"
      },
      "source": [
        "np.set_printoptions(formatter={'float': '{: 0.12f}'.format})\n",
        "\n",
        "indicators_scaler = MinMaxScaler(feature_range=(0, 1))\n",
        "indicators_scaler = indicators_scaler.fit(indicators_lstm_data)\n",
        "\n",
        "indicators_lstm_train_data_scaled = indicators_scaler.transform(indicators_lstm_train_data)\n",
        "if print_level >= TRACE:\n",
        "  print(indicators_lstm_train_data_scaled[:look_back+1])\n",
        "  print(indicators_lstm_train_data_scaled.shape)\n",
        "\n",
        "indicators_lstm_test_data_scaled = indicators_scaler.transform(indicators_lstm_test_data)\n",
        "if print_level >= TRACE:\n",
        "  print(indicators_lstm_test_data_scaled[:look_back+1])\n",
        "  print(indicators_lstm_test_data_scaled.shape)"
      ],
      "execution_count": 712,
      "outputs": []
    },
    {
      "cell_type": "code",
      "metadata": {
        "id": "Cmmqy0nc4Slr"
      },
      "source": [
        "indicators_train_generator = TimeseriesGenerator(indicators_lstm_train_data_scaled, indicators_lstm_train_data_scaled, sampling_rate=1, length=look_back, batch_size=64)\n",
        "\n",
        "if print_level >= TRACE:\n",
        "  print('Samples: %d' % len(indicators_train_generator))\n",
        "  # print each sample\n",
        "  for i in range(2):\n",
        "    x, y = indicators_train_generator[i]\n",
        "    print('%s => %s' % (x, y))"
      ],
      "execution_count": 713,
      "outputs": []
    },
    {
      "cell_type": "code",
      "metadata": {
        "id": "xFQnXfRp6tVP",
        "colab": {
          "base_uri": "https://localhost:8080/"
        },
        "outputId": "e3bb0264-a600-431b-f926-f4d09fd1253d"
      },
      "source": [
        "indicators_model = None\n",
        "try:\n",
        "  indicators_model = keras.models.load_model(indicators_model_file_path)\n",
        "  modified = os.path.getmtime(indicators_model_file_path)\n",
        "\n",
        "  print(pd.to_datetime(last_date).date() - datetime.fromtimestamp(modified).date() )\n",
        "  print('Loaded', indicators_model_file_path , ' model train date:',datetime.fromtimestamp(modified).date() , 'last date:', last_date)\n",
        "except:\n",
        "  indicators_model = None\n",
        "  print('Model ' + indicators_model_file_path + ' does not exists.')"
      ],
      "execution_count": 714,
      "outputs": [
        {
          "output_type": "stream",
          "name": "stdout",
          "text": [
            "-1 day, 0:00:00\n",
            "Loaded /content/drive/MyDrive/models/CAT_3_indicators_08.h5  model train date: 2021-11-20 last date: 2021-11-19\n"
          ]
        }
      ]
    },
    {
      "cell_type": "code",
      "metadata": {
        "id": "r59DQEiZ0u18"
      },
      "source": [
        "if indicators_model is None:\n",
        "  indicators_model = Sequential()\n",
        "  indicators_model.add(LSTM(units=50, activation='tanh', input_shape=(look_back, nr_of_features), return_sequences=True))\n",
        "  indicators_model.add(Dropout(0.2))\n",
        "  indicators_model.add(LSTM(units=50, return_sequences=True, activation=\"tanh\"))\n",
        "  indicators_model.add(Dropout(0.2))\n",
        "  indicators_model.add(LSTM(units=50, return_sequences=True, activation=\"tanh\"))\n",
        "  indicators_model.add(Dropout(0.2))\n",
        "  indicators_model.add(LSTM(units=50, activation=\"tanh\"))\n",
        "  indicators_model.add(Dropout(0.2))\n",
        "  indicators_model.add(Dense(nr_of_features))\n",
        "\n",
        "  indicators_model.compile(\n",
        "      loss=MAE,\n",
        "      optimizer=Adam(learning_rate=learning_rate),\n",
        "      metrics=[\"mae\"]\n",
        "  )\n",
        "    \n",
        "  #model.summary()\n",
        "  print('Model ' + indicators_model_file_path + ' compiled.')\n",
        "\n",
        "  indicators_modelo = indicators_model.fit(indicators_train_generator, epochs=epochs, verbose=0 )\n",
        "  \n",
        "  indicators_model.save(indicators_model_file_path)\n",
        "  print('Saved model ' + indicators_model_file_path)\n",
        "\n",
        "  if print_level >= DEBUG:\n",
        "    plt.plot(indicators_modelo.history['loss'])\n",
        "    plt.xlabel('Epochs')\n",
        "    plt.ylabel('Loss')\n",
        "    plt.show()"
      ],
      "execution_count": 715,
      "outputs": []
    },
    {
      "cell_type": "code",
      "metadata": {
        "colab": {
          "base_uri": "https://localhost:8080/"
        },
        "id": "xkdpY8eE4XlZ",
        "outputId": "85881b28-aa2b-4bd7-8472-41d723104261"
      },
      "source": [
        "indicators_test_generator = TimeseriesGenerator(indicators_lstm_test_data_scaled, indicators_lstm_test_data_scaled,sampling_rate=1, length=look_back, batch_size=look_back)\n",
        "\n",
        "print('Samples: %d' % len(indicators_test_generator))\n",
        "# print each sample\n",
        "if print_level >= TRACE:\n",
        "  for i in range(2):\n",
        "    x, y = indicators_test_generator[i]\n",
        "    print('%s => %s' % (x, y))"
      ],
      "execution_count": 716,
      "outputs": [
        {
          "output_type": "stream",
          "name": "stdout",
          "text": [
            "Samples: 24\n"
          ]
        }
      ]
    },
    {
      "cell_type": "code",
      "metadata": {
        "id": "WAS1RHA1Mn10"
      },
      "source": [
        "#Make prediction\n",
        "indicators_prediction_scaled = indicators_model.predict(indicators_test_generator)\n",
        "\n",
        "if print_level >= DEBUG:\n",
        "  np.set_printoptions(formatter={'float': '{: 0.12f}'.format})\n",
        "  print(indicators_prediction_scaled[:5])\n",
        "\n",
        "indicators_prediction = indicators_scaler.inverse_transform(indicators_prediction_scaled)\n",
        "if nr_of_features == 1:\n",
        "   rsi_prediction = indicators_prediction.reshape((-1))\n",
        "else:\n",
        "  rsi_prediction = indicators_prediction[:,0].reshape((-1))\n",
        "\n",
        "\n",
        "if print_level >= DEBUG:\n",
        "  np.set_printoptions(formatter={'float': '{: 0.2f}'.format})\n",
        "  print('indicators_prediction shape:',indicators_prediction.shape)\n",
        "\n",
        "  for x in range(look_back + 1):\n",
        "    print('pred:',indicators_prediction[x], 'test:', indicators_lstm_test_data[x])\n"
      ],
      "execution_count": 717,
      "outputs": []
    },
    {
      "cell_type": "code",
      "metadata": {
        "colab": {
          "base_uri": "https://localhost:8080/"
        },
        "id": "ae72DYdyd0zp",
        "outputId": "a91e0fb8-da59-41dc-a7d0-f8c0de44c167"
      },
      "source": [
        "def predict(num_prediction, model):\n",
        "    prediction_list = indicators_lstm_test_data_scaled[-look_back:]\n",
        "    #print('prediction_list',prediction_list)\n",
        "    for _ in range(num_prediction):\n",
        "        x = prediction_list[-look_back:]\n",
        "        #print(x)\n",
        "        x = x.reshape((1, look_back, nr_of_features))\n",
        "        out = model.predict(x)\n",
        "        #print(x,out) \n",
        "        prediction_list = np.append(prediction_list, out, axis=0)\n",
        "    prediction_list = prediction_list[look_back-1:]\n",
        "        \n",
        "    return prediction_list\n",
        "    \n",
        "def predict_dates(last_date,num_prediction):\n",
        "    us_bd = CustomBusinessDay(calendar=USFederalHolidayCalendar())\n",
        "    prediction_dates = pd.date_range(last_date, periods=num_prediction+1,freq=us_bd).tolist()\n",
        "    return prediction_dates\n",
        "\n",
        "indicators_forecast_scaled = predict(num_prediction, indicators_model)\n",
        "#print(forecast_scaled)\n",
        "indicators_forecast_dates = predict_dates(indicators_df['Date'].values[-1],num_prediction)\n",
        "\n",
        "indicators_forecast = indicators_scaler.inverse_transform(indicators_forecast_scaled.reshape((-1,nr_of_features)))\n",
        "if nr_of_features == 1:\n",
        "   rsi_forecast = indicators_forecast.reshape((-1))\n",
        "else:\n",
        "  rsi_forecast = indicators_forecast[:,0].reshape((-1))\n",
        "print('indicators_forecast:',indicators_forecast)\n",
        "print('rsi_forecast:',rsi_forecast)"
      ],
      "execution_count": 718,
      "outputs": [
        {
          "output_type": "stream",
          "name": "stdout",
          "text": [
            "indicators_forecast: [[ 10.858300000000  11.936800000000  12.098400000000]\n",
            " [ 17.092224922842  14.100919949785  14.209329902506]\n",
            " [ 17.388042751727  15.119535820052  15.919108222699]\n",
            " [ 18.472711032948  16.374845118880  17.248545201993]\n",
            " [ 21.236298124188  17.664766532391  18.249211117229]\n",
            " [ 23.589077051479  18.648797221377  19.641617322317]\n",
            " [ 27.121983050057  20.034876266077  21.740513912192]\n",
            " [ 32.330832315761  22.230427929208  24.997156087360]\n",
            " [ 39.542858942184  25.704281936303  30.283442672616]\n",
            " [ 48.579841580603  31.199178016096  38.313328516385]\n",
            " [ 56.211085261011  38.842468065768  48.095052677593]\n",
            " [ 59.851299865639  47.466416742519  56.542552708364]\n",
            " [ 62.968162140924  55.181885615736  61.342182455635]]\n",
            "rsi_forecast: [ 10.858300000000  17.092224922842  17.388042751727  18.472711032948\n",
            "  21.236298124188  23.589077051479  27.121983050057  32.330832315761\n",
            "  39.542858942184  48.579841580603  56.211085261011  59.851299865639\n",
            "  62.968162140924]\n"
          ]
        }
      ]
    },
    {
      "cell_type": "code",
      "metadata": {
        "colab": {
          "base_uri": "https://localhost:8080/",
          "height": 667
        },
        "id": "dnqEqJioguwy",
        "outputId": "71e71f53-0bdc-485e-aa95-c150355a6e36"
      },
      "source": [
        "chart_days = len(indicators_df_test) * 2\n",
        "trace1 = go.Candlestick(\n",
        "    x = stock_df.tail(chart_days)['Date'],\n",
        "    open = stock_df.tail(chart_days)['Open'],\n",
        "    high = stock_df.tail(chart_days)['High'],\n",
        "    low = stock_df.tail(chart_days)['Low'],\n",
        "    close = stock_df.tail(chart_days)['Close'],\n",
        "    name = ticker + ' Price'\n",
        ")\n",
        "\n",
        "trace2 = go.Scatter(\n",
        "    x = stock_df.tail(chart_days)['Date'],\n",
        "    y = stock_df.tail(chart_days)['50MA'],\n",
        "    mode='lines',\n",
        "    name ='50MA'\n",
        ")\n",
        "\n",
        "trace3 = go.Scatter(\n",
        "    x = stock_df.tail(chart_days)['Date'],\n",
        "    y = stock_df.tail(chart_days)['100MA'],\n",
        "    mode='lines',\n",
        "    name ='100MA'\n",
        ")\n",
        "\n",
        "trace4 = go.Scatter(\n",
        "    x = stock_df.tail(chart_days)['Date'],\n",
        "    y = stock_df.tail(chart_days)['200MA'],\n",
        "    mode='lines',\n",
        "    name ='200MA'\n",
        ")\n",
        "\n",
        "\n",
        "#'Date','Close','Volume','High','Low','Open','Divident'\n",
        "open_price =  str(stock_data[-1][5])\n",
        "low_price =  str(stock_data[-1][3])\n",
        "high_price =  str(stock_data[-1][4])\n",
        "close_price =  str(stock_data[-1][1])\n",
        "rsi_forecast_mean = np.round(np.mean(rsi_forecast))\n",
        "\n",
        "go.Layout(\n",
        "    title = ticker + ' Date:' + last_date + ' Open:' + open_price + ' High:' + high_price + ' Low:' + low_price + ' Close:' + close_price,\n",
        "    xaxis = {'title' : \"Dates\"},\n",
        "    yaxis = {'title' : \"Close Price ($)\"},\n",
        "    height = 450\n",
        ")\n",
        "\n",
        "trace_rsi_train = go.Scatter(\n",
        "  x = indicators_df_train.tail(len(indicators_df_test))['Date'],\n",
        "  y = indicators_df_train.tail(len(indicators_df_test))['RSI'],\n",
        "  mode='lines',\n",
        "  name ='RSI'\n",
        ")\n",
        "\n",
        "trace_rsi_test = go.Scatter(\n",
        "  x = indicators_df_test['Date'],\n",
        "  y = indicators_df_test['RSI'],\n",
        "  mode='markers+lines',\n",
        "  name ='Test'\n",
        ")\n",
        "\n",
        "trace_rsi_prediction = go.Scatter(\n",
        "    x = indicators_df_test['Date'],\n",
        "    y = rsi_prediction,\n",
        "    mode='markers+lines',\n",
        "    name ='Prediction'\n",
        ")\n",
        "\n",
        "trace_rsi_forecast = go.Scatter(\n",
        "    x = indicators_forecast_dates,\n",
        "    y = rsi_forecast,\n",
        "    mode='markers+lines',\n",
        "    name ='Forecast'\n",
        ")\n",
        "\n",
        "\n",
        "tradingview_link = '<a href=\"https://in.tradingview.com/chart/66XmQfYy/?symbol=' + ticker +'\">' + ticker +'</a>'\n",
        "stock_title = tradingview_link + ' Date:' + last_date + ' Open:' + open_price + ' High:' + high_price + ' Low:' + low_price + ' Close:' + close_price\n",
        "indicators_title = tradingview_link + ' RSI('+ str(look_back)+ ') Date:' + last_date + ' Close:' + indicators_df['RSI'].iloc[-1] + ' Forecast('+str(look_back)+'):' + str(rsi_forecast_mean)\n",
        "\n",
        "fig = make_subplots(rows=2, cols=1, row_heights=[0.6, 0.4], subplot_titles=(stock_title, indicators_title))\n",
        "\n",
        "\n",
        "fig.add_trace(trace1,row=1, col=1)\n",
        "fig.add_trace(trace2,row=1, col=1)\n",
        "fig.add_trace(trace3,row=1, col=1)\n",
        "fig.add_trace(trace4,row=1, col=1)\n",
        "\n",
        "fig.add_trace(trace_rsi_train,row=2, col=1)\n",
        "fig.add_trace(trace_rsi_test,row=2, col=1)\n",
        "fig.add_trace(trace_rsi_prediction,row=2, col=1)\n",
        "fig.add_trace(trace_rsi_forecast,row=2, col=1)\n",
        "\n",
        "fig.add_trace(go.Scatter(\n",
        "        x = [indicators_df_train.tail(len(indicators_df_test))['Date'].min(), np.max(indicators_forecast_dates)],\n",
        "        y = [70, 70],\n",
        "        mode = \"lines\",\n",
        "        line = dict(shape = 'linear', color = 'rgb(100, 10, 100)', dash = 'dash')\n",
        "    ),row=2, col=1)\n",
        "\n",
        "fig.add_trace(go.Scatter(\n",
        "        x = [indicators_df_train.tail(len(indicators_df_test))['Date'].min(), np.max(indicators_forecast_dates)],\n",
        "        y = [50, 50],\n",
        "        mode = \"lines\",\n",
        "        line = dict(shape = 'linear', color = 'rgb(10, 12, 240)', dash = 'dash')\n",
        "    ),row=2, col=1)\n",
        "\n",
        "fig.add_trace(go.Scatter(\n",
        "        x = [indicators_df_train.tail(len(indicators_df_test))['Date'].min(), np.max(indicators_forecast_dates)],\n",
        "        y = [30, 30],\n",
        "        mode = \"lines\",\n",
        "        line = dict(shape = 'linear', color = 'rgb(10, 120, 24)', dash = 'dash')\n",
        "    ),row=2, col=1)\n",
        "\n",
        "fig.update_yaxes(showspikes=True, spikemode='across', spikesnap='cursor',spikedash='dash')\n",
        "fig.update_xaxes(showspikes=True, spikemode='across', spikesnap='cursor', spikedash='dash')\n",
        "fig.update_layout(xaxis_rangeslider_visible=False,height=650)\n",
        "\n",
        "fig.show()\n",
        "Path('/content/drive/MyDrive/models/charts/'+ last_date).mkdir(parents=True, exist_ok=True)\n",
        "fig.write_html('/content/drive/MyDrive/models/charts/'+ last_date+ '/' + ticker + '_' + str(look_back) + '_08_inidicators_forecast.html')"
      ],
      "execution_count": 719,
      "outputs": [
        {
          "output_type": "display_data",
          "data": {
            "text/html": [
              "<html>\n",
              "<head><meta charset=\"utf-8\" /></head>\n",
              "<body>\n",
              "    <div>\n",
              "            <script src=\"https://cdnjs.cloudflare.com/ajax/libs/mathjax/2.7.5/MathJax.js?config=TeX-AMS-MML_SVG\"></script><script type=\"text/javascript\">if (window.MathJax) {MathJax.Hub.Config({SVG: {font: \"STIX-Web\"}});}</script>\n",
              "                <script type=\"text/javascript\">window.PlotlyConfig = {MathJaxConfig: 'local'};</script>\n",
              "        <script src=\"https://cdn.plot.ly/plotly-latest.min.js\"></script>    \n",
              "            <div id=\"d8b65de8-2b3a-4223-a1ed-431db3255663\" class=\"plotly-graph-div\" style=\"height:650px; width:100%;\"></div>\n",
              "            <script type=\"text/javascript\">\n",
              "                \n",
              "                    window.PLOTLYENV=window.PLOTLYENV || {};\n",
              "                    \n",
              "                if (document.getElementById(\"d8b65de8-2b3a-4223-a1ed-431db3255663\")) {\n",
              "                    Plotly.newPlot(\n",
              "                        'd8b65de8-2b3a-4223-a1ed-431db3255663',\n",
              "                        [{\"close\": [\"230.34\", \"232.3\", \"227.47\", \"228.11\", \"228.17\", \"233.41\", \"237.88\", \"237.07\", \"240.99\", \"242.61\", \"239.3\", \"237.32\", \"240.07\", \"242.23\", \"244.79\", \"239.47\", \"236.87\", \"234.99\", \"237.24\", \"239.05\", \"237.17\", \"237.71\", \"241.28\", \"241.08\", \"242.76\", \"243.46\", \"243.84\", \"244.02\", \"239.76\", \"240.16\", \"234.65\", \"225.73\", \"220.7\", \"219.01\", \"219.46\", \"217.16\", \"209.45\", \"208.86\", \"213.21\", \"213.13\", \"213.79\", \"219.34\", \"216.31\", \"216.27\", \"215.1\", \"217.63\", \"216.71\", \"217.76\", \"213.52\", \"214.69\", \"212.11\", \"217.42\", \"218.58\", \"215.19\", \"211.64\", \"211.41\", \"207.95\", \"203.08\", \"207.96\", \"210.73\", \"209.16\", \"209.53\", \"211.03\", \"209.9\", \"211.44\", \"212.56\", \"206.75\", \"205.16\", \"208.5\", \"204.52\", \"207.19\", \"208.35\", \"208.89\", \"214.07\", \"221.66\", \"220.24\", \"218.57\", \"217.71\", \"213.44\", \"209.81\", \"204.45\", \"204.94\", \"209.14\", \"212.59\", \"214.76\", \"211.24\", \"212.83\", \"211.45\", \"210.87\", \"207.96\", \"211.78\", \"210.37\", \"208.23\", \"206.77\", \"205.42\", \"205.01\", \"206.2\", \"202.33\", \"205.73\", \"203.6\", \"199.75\", \"190.82\", \"189.84\", \"191.35\", \"196.62\", \"196.82\", \"200.0\", \"200.55\", \"197.87\", \"191.97\", \"194.33\", \"193.13\", \"192.5\", \"191.86\", \"195.75\", \"195.16\", \"192.89\", \"189.92\", \"188.94\", \"194.33\", \"199.02\", \"198.18\", \"201.14\", \"204.19\", \"202.14\", \"200.65\", \"202.21\", \"199.64\", \"196.13\", \"204.09\", \"204.01\", \"205.38\", \"207.12\", \"203.55\", \"203.59\", \"205.88\", \"214.25\", \"209.81\", \"206.67\", \"208.53\", \"209.27\", \"207.71\", \"205.43\", \"202.98\", \"201.42\", \"200.44\"], \"high\": [\"230.86\", \"233.715\", \"235.2\", \"228.39\", \"230.9348\", \"234.0\", \"239.33\", \"240.9828\", \"241.89\", \"245.78\", \"242.9899\", \"243.23\", \"240.99\", \"243.35\", \"245.45\", \"245.54\", \"237.08\", \"237.6\", \"239.3998\", \"239.71\", \"241.89\", \"239.5\", \"243.3684\", \"242.26\", \"244.93\", \"245.1\", \"246.44\", \"246.69\", \"244.33\", \"241.21\", \"239.19\", \"236.65\", \"227.92\", \"221.97\", \"220.78\", \"219.39\", \"218.27\", \"211.81\", \"215.23\", \"214.83\", \"216.77\", \"221.93\", \"221.75\", \"216.78\", \"218.7\", \"217.95\", \"219.79\", \"218.37\", \"217.56\", \"215.06\", \"213.9\", \"218.5925\", \"218.95\", \"219.05\", \"215.6372\", \"213.39\", \"212.6971\", \"203.75\", \"208.63\", \"210.96\", \"211.38\", \"210.37\", \"212.07\", \"211.06\", \"212.69\", \"214.51\", \"208.67\", \"210.9028\", \"209.29\", \"209.59\", \"207.655\", \"210.39\", \"209.88\", \"214.9\", \"222.57\", \"223.76\", \"220.5499\", \"218.0\", \"216.39\", \"213.55\", \"208.9561\", \"207.26\", \"209.75\", \"213.27\", \"215.7\", \"214.51\", \"214.0335\", \"213.74\", \"212.295\", \"210.99\", \"212.95\", \"212.8\", \"210.3423\", \"208.1244\", \"208.15\", \"207.88\", \"207.86\", \"206.1\", \"206.59\", \"206.39\", \"203.27\", \"193.99\", \"192.71\", \"194.5\", \"197.6\", \"197.79\", \"201.99\", \"201.89\", \"201.16\", \"198.8743\", \"195.87\", \"195.91\", \"194.4\", \"192.39\", \"196.39\", \"196.58\", \"197.1707\", \"193.5846\", \"191.25\", \"194.8\", \"199.45\", \"198.68\", \"201.48\", \"205.18\", \"202.3\", \"202.345\", \"203.31\", \"202.785\", \"200.43\", \"204.5\", \"209.75\", \"206.88\", \"207.81\", \"206.5767\", \"204.89\", \"208.88\", \"216.47\", \"215.57\", \"209.9521\", \"210.44\", \"210.69\", \"210.69\", \"208.18\", \"205.19\", \"203.71\", \"202.92\"], \"low\": [\"228.08\", \"229.38\", \"223.2\", \"224.88\", \"227.21\", \"225.35\", \"231.85\", \"236.0\", \"233.16\", \"242.59\", \"236.54\", \"236.4447\", \"234.5706\", \"240.08\", \"241.12\", \"239.41\", \"231.94\", \"232.59\", \"235.01\", \"236.22\", \"236.74\", \"236.62\", \"238.93\", \"238.79\", \"241.81\", \"240.7\", \"240.87\", \"242.32\", \"238.62\", \"236.06\", \"234.45\", \"225.58\", \"220.03\", \"215.6\", \"216.26\", \"216.7\", \"207.881\", \"205.5\", \"211.4\", \"211.18\", \"212.58\", \"215.33\", \"215.27\", \"213.5615\", \"214.59\", \"214.055\", \"216.15\", \"215.58\", \"211.3405\", \"211.16\", \"209.93\", \"214.4\", \"214.85\", \"214.7\", \"211.22\", \"210.12\", \"207.01\", \"199.23\", \"202.305\", \"207.575\", \"208.54\", \"207.86\", \"209.5\", \"207.0002\", \"208.1\", \"209.69\", \"203.15\", \"204.95\", \"203.43\", \"204.37\", \"204.7001\", \"207.65\", \"206.12\", \"208.96\", \"214.57\", \"218.47\", \"217.73\", \"214.34\", \"210.58\", \"209.72\", \"203.21\", \"203.59\", \"205.83\", \"209.53\", \"212.15\", \"210.48\", \"212.215\", \"210.8\", \"210.42\", \"206.61\", \"208.92\", \"210.0\", \"207.845\", \"204.77\", \"204.895\", \"204.82\", \"203.93\", \"201.64\", \"201.87\", \"202.82\", \"199.45\", \"188.475\", \"186.98\", \"191.16\", \"192.85\", \"194.93\", \"197.6\", \"198.75\", \"197.7\", \"191.63\", \"191.24\", \"192.41\", \"190.73\", \"187.8\", \"193.61\", \"194.74\", \"192.68\", \"189.58\", \"187.72\", \"192.6124\", \"195.3\", \"195.545\", \"198.46\", \"200.5301\", \"199.74\", \"199.2\", \"200.51\", \"199.47\", \"195.92\", \"197.05\", \"203.24\", \"203.81\", \"203.0\", \"201.82\", \"202.61\", \"205.23\", \"211.25\", \"208.96\", \"206.43\", \"207.88\", \"208.3\", \"206.76\", \"205.26\", \"200.85\", \"200.66\", \"199.66\"], \"name\": \"CAT Price\", \"open\": [\"230.29\", \"230.05\", \"235.0\", \"225.52\", \"230.0\", \"227.0\", \"234.62\", \"238.0\", \"235.64\", \"243.5\", \"238.78\", \"241.27\", \"236.04\", \"242.0\", \"242.74\", \"244.79\", \"236.1\", \"237.48\", \"236.6\", \"237.69\", \"239.51\", \"237.41\", \"241.5\", \"241.91\", \"244.01\", \"243.07\", \"242.43\", \"245.12\", \"244.05\", \"239.4\", \"239.0\", \"236.14\", \"226.3\", \"220.07\", \"219.89\", \"219.01\", \"216.97\", \"206.18\", \"211.55\", \"213.49\", \"213.6\", \"216.54\", \"221.18\", \"216.45\", \"218.04\", \"214.62\", \"219.16\", \"217.66\", \"217.41\", \"212.69\", \"210.0\", \"215.9\", \"216.02\", \"218.96\", \"215.26\", \"210.28\", \"212.46\", \"202.27\", \"203.04\", \"208.72\", \"211.0\", \"209.5\", \"209.84\", \"207.53\", \"210.0\", \"214.0\", \"207.9\", \"208.0\", \"205.31\", \"208.22\", \"205.25\", \"209.01\", \"207.29\", \"210.0\", \"215.73\", \"222.24\", \"219.88\", \"217.36\", \"216.22\", \"212.5\", \"208.17\", \"205.42\", \"207.25\", \"209.75\", \"213.17\", \"214.51\", \"212.26\", \"213.22\", \"211.28\", \"210.87\", \"208.92\", \"211.15\", \"210.04\", \"207.12\", \"206.5\", \"207.1\", \"207.16\", \"206.04\", \"202.17\", \"205.45\", \"202.63\", \"193.06\", \"192.0\", \"192.0\", \"192.91\", \"195.65\", \"197.6\", \"200.2\", \"200.48\", \"198.62\", \"192.9\", \"194.74\", \"192.76\", \"190.0\", \"193.73\", \"195.8\", \"196.34\", \"192.32\", \"190.5\", \"193.55\", \"195.96\", \"197.38\", \"198.6\", \"201.16\", \"201.6\", \"200.64\", \"201.28\", \"202.75\", \"200.25\", \"197.36\", \"207.99\", \"204.29\", \"205.75\", \"206.26\", \"204.0\", \"205.48\", \"215.89\", \"215.18\", \"209.27\", \"207.88\", \"209.35\", \"210.0\", \"208.0\", \"205.0\", \"203.27\", \"200.92\"], \"type\": \"candlestick\", \"x\": [\"2021-04-27\", \"2021-04-28\", \"2021-04-29\", \"2021-04-30\", \"2021-05-03\", \"2021-05-04\", \"2021-05-05\", \"2021-05-06\", \"2021-05-07\", \"2021-05-10\", \"2021-05-11\", \"2021-05-12\", \"2021-05-13\", \"2021-05-14\", \"2021-05-17\", \"2021-05-18\", \"2021-05-19\", \"2021-05-20\", \"2021-05-21\", \"2021-05-24\", \"2021-05-25\", \"2021-05-26\", \"2021-05-27\", \"2021-05-28\", \"2021-06-01\", \"2021-06-02\", \"2021-06-03\", \"2021-06-04\", \"2021-06-07\", \"2021-06-08\", \"2021-06-09\", \"2021-06-10\", \"2021-06-11\", \"2021-06-14\", \"2021-06-15\", \"2021-06-16\", \"2021-06-17\", \"2021-06-18\", \"2021-06-21\", \"2021-06-22\", \"2021-06-23\", \"2021-06-24\", \"2021-06-25\", \"2021-06-28\", \"2021-06-29\", \"2021-06-30\", \"2021-07-01\", \"2021-07-02\", \"2021-07-06\", \"2021-07-07\", \"2021-07-08\", \"2021-07-09\", \"2021-07-12\", \"2021-07-13\", \"2021-07-14\", \"2021-07-15\", \"2021-07-16\", \"2021-07-19\", \"2021-07-20\", \"2021-07-21\", \"2021-07-22\", \"2021-07-23\", \"2021-07-26\", \"2021-07-27\", \"2021-07-28\", \"2021-07-29\", \"2021-07-30\", \"2021-08-02\", \"2021-08-03\", \"2021-08-04\", \"2021-08-05\", \"2021-08-06\", \"2021-08-09\", \"2021-08-10\", \"2021-08-11\", \"2021-08-12\", \"2021-08-13\", \"2021-08-16\", \"2021-08-17\", \"2021-08-18\", \"2021-08-19\", \"2021-08-20\", \"2021-08-23\", \"2021-08-24\", \"2021-08-25\", \"2021-08-26\", \"2021-08-27\", \"2021-08-30\", \"2021-08-31\", \"2021-09-01\", \"2021-09-02\", \"2021-09-03\", \"2021-09-07\", \"2021-09-08\", \"2021-09-09\", \"2021-09-10\", \"2021-09-13\", \"2021-09-14\", \"2021-09-15\", \"2021-09-16\", \"2021-09-17\", \"2021-09-20\", \"2021-09-21\", \"2021-09-22\", \"2021-09-23\", \"2021-09-24\", \"2021-09-27\", \"2021-09-28\", \"2021-09-29\", \"2021-09-30\", \"2021-10-01\", \"2021-10-04\", \"2021-10-05\", \"2021-10-06\", \"2021-10-07\", \"2021-10-08\", \"2021-10-11\", \"2021-10-12\", \"2021-10-13\", \"2021-10-14\", \"2021-10-15\", \"2021-10-18\", \"2021-10-19\", \"2021-10-20\", \"2021-10-21\", \"2021-10-22\", \"2021-10-25\", \"2021-10-26\", \"2021-10-27\", \"2021-10-28\", \"2021-10-29\", \"2021-11-01\", \"2021-11-02\", \"2021-11-03\", \"2021-11-04\", \"2021-11-05\", \"2021-11-08\", \"2021-11-09\", \"2021-11-10\", \"2021-11-11\", \"2021-11-12\", \"2021-11-15\", \"2021-11-16\", \"2021-11-17\", \"2021-11-18\", \"2021-11-19\"], \"xaxis\": \"x\", \"yaxis\": \"y\"}, {\"mode\": \"lines\", \"name\": \"50MA\", \"type\": \"scatter\", \"x\": [\"2021-04-27\", \"2021-04-28\", \"2021-04-29\", \"2021-04-30\", \"2021-05-03\", \"2021-05-04\", \"2021-05-05\", \"2021-05-06\", \"2021-05-07\", \"2021-05-10\", \"2021-05-11\", \"2021-05-12\", \"2021-05-13\", \"2021-05-14\", \"2021-05-17\", \"2021-05-18\", \"2021-05-19\", \"2021-05-20\", \"2021-05-21\", \"2021-05-24\", \"2021-05-25\", \"2021-05-26\", \"2021-05-27\", \"2021-05-28\", \"2021-06-01\", \"2021-06-02\", \"2021-06-03\", \"2021-06-04\", \"2021-06-07\", \"2021-06-08\", \"2021-06-09\", \"2021-06-10\", \"2021-06-11\", \"2021-06-14\", \"2021-06-15\", \"2021-06-16\", \"2021-06-17\", \"2021-06-18\", \"2021-06-21\", \"2021-06-22\", \"2021-06-23\", \"2021-06-24\", \"2021-06-25\", \"2021-06-28\", \"2021-06-29\", \"2021-06-30\", \"2021-07-01\", \"2021-07-02\", \"2021-07-06\", \"2021-07-07\", \"2021-07-08\", \"2021-07-09\", \"2021-07-12\", \"2021-07-13\", \"2021-07-14\", \"2021-07-15\", \"2021-07-16\", \"2021-07-19\", \"2021-07-20\", \"2021-07-21\", \"2021-07-22\", \"2021-07-23\", \"2021-07-26\", \"2021-07-27\", \"2021-07-28\", \"2021-07-29\", \"2021-07-30\", \"2021-08-02\", \"2021-08-03\", \"2021-08-04\", \"2021-08-05\", \"2021-08-06\", \"2021-08-09\", \"2021-08-10\", \"2021-08-11\", \"2021-08-12\", \"2021-08-13\", \"2021-08-16\", \"2021-08-17\", \"2021-08-18\", \"2021-08-19\", \"2021-08-20\", \"2021-08-23\", \"2021-08-24\", \"2021-08-25\", \"2021-08-26\", \"2021-08-27\", \"2021-08-30\", \"2021-08-31\", \"2021-09-01\", \"2021-09-02\", \"2021-09-03\", \"2021-09-07\", \"2021-09-08\", \"2021-09-09\", \"2021-09-10\", \"2021-09-13\", \"2021-09-14\", \"2021-09-15\", \"2021-09-16\", \"2021-09-17\", \"2021-09-20\", \"2021-09-21\", \"2021-09-22\", \"2021-09-23\", \"2021-09-24\", \"2021-09-27\", \"2021-09-28\", \"2021-09-29\", \"2021-09-30\", \"2021-10-01\", \"2021-10-04\", \"2021-10-05\", \"2021-10-06\", \"2021-10-07\", \"2021-10-08\", \"2021-10-11\", \"2021-10-12\", \"2021-10-13\", \"2021-10-14\", \"2021-10-15\", \"2021-10-18\", \"2021-10-19\", \"2021-10-20\", \"2021-10-21\", \"2021-10-22\", \"2021-10-25\", \"2021-10-26\", \"2021-10-27\", \"2021-10-28\", \"2021-10-29\", \"2021-11-01\", \"2021-11-02\", \"2021-11-03\", \"2021-11-04\", \"2021-11-05\", \"2021-11-08\", \"2021-11-09\", \"2021-11-10\", \"2021-11-11\", \"2021-11-12\", \"2021-11-15\", \"2021-11-16\", \"2021-11-17\", \"2021-11-18\", \"2021-11-19\"], \"xaxis\": \"x\", \"y\": [224.51219999999975, 225.11059999999975, 225.61399999999975, 226.17779999999976, 226.54299999999978, 226.8499999999998, 227.20399999999975, 227.49599999999975, 227.87939999999978, 228.4139999999998, 228.80479999999977, 229.23479999999978, 229.73799999999977, 230.32719999999975, 230.8197999999998, 231.17759999999976, 231.5789999999998, 231.8575999999998, 232.2071999999998, 232.40819999999977, 232.53679999999977, 232.7617999999998, 232.91479999999981, 233.1227999999998, 233.4721999999998, 233.82099999999977, 234.33279999999976, 234.78859999999978, 235.09879999999978, 235.31199999999978, 235.4005999999998, 235.25359999999978, 235.03019999999978, 234.7555999999998, 234.4705999999998, 234.2009999999998, 233.78179999999983, 233.34939999999983, 232.9985999999998, 232.6425999999998, 232.3313999999998, 232.06659999999982, 231.7423999999998, 231.4005999999998, 231.0547999999998, 230.8547999999998, 230.53979999999981, 230.31719999999984, 229.98539999999983, 229.66799999999984, 229.30339999999987, 229.00579999999988, 228.8279999999999, 228.5695999999999, 228.23899999999986, 227.79899999999986, 227.2003999999999, 226.52059999999992, 225.8599999999999, 225.22239999999988, 224.61959999999988, 224.0637999999999, 223.48299999999992, 222.8363999999999, 222.1693999999999, 221.63119999999992, 221.0287999999999, 220.4321999999999, 219.8573999999999, 219.16679999999994, 218.56719999999993, 217.97999999999996, 217.33219999999994, 216.79199999999994, 216.36999999999992, 215.90559999999994, 215.40019999999993, 214.8739999999999, 214.34759999999991, 213.74059999999992, 213.13659999999993, 212.72079999999994, 212.4895999999999, 212.3611999999999, 212.26719999999995, 212.14879999999994, 212.2163999999999, 212.26819999999992, 212.22139999999996, 212.11799999999997, 212.07779999999994, 211.89839999999995, 211.73679999999996, 211.54679999999996, 211.35319999999996, 211.1008, 210.8906, 210.582, 210.4262, 210.2044, 209.95719999999997, 209.42519999999996, 208.85039999999998, 208.37359999999998, 208.07319999999999, 207.7814, 207.62239999999997, 207.57179999999997, 207.37, 206.9948, 206.69819999999999, 206.37019999999995, 205.99959999999996, 205.63879999999997, 205.32499999999996, 204.97699999999998, 204.69979999999995, 204.39499999999995, 204.00379999999998, 203.79999999999995, 203.63659999999996, 203.43319999999997, 203.27819999999997, 203.08059999999998, 202.69019999999998, 202.29839999999996, 201.97119999999995, 201.60979999999995, 201.26359999999994, 201.14919999999995, 201.14039999999994, 201.14919999999992, 201.10879999999995, 200.9279999999999, 200.7045999999999, 200.5973999999999, 200.6257999999999, 200.59299999999988, 200.50899999999987, 200.5203999999999, 200.4701999999999, 200.41699999999986, 200.36099999999988, 200.28519999999986, 200.20519999999985, 200.11379999999986], \"yaxis\": \"y\"}, {\"mode\": \"lines\", \"name\": \"100MA\", \"type\": \"scatter\", \"x\": [\"2021-04-27\", \"2021-04-28\", \"2021-04-29\", \"2021-04-30\", \"2021-05-03\", \"2021-05-04\", \"2021-05-05\", \"2021-05-06\", \"2021-05-07\", \"2021-05-10\", \"2021-05-11\", \"2021-05-12\", \"2021-05-13\", \"2021-05-14\", \"2021-05-17\", \"2021-05-18\", \"2021-05-19\", \"2021-05-20\", \"2021-05-21\", \"2021-05-24\", \"2021-05-25\", \"2021-05-26\", \"2021-05-27\", \"2021-05-28\", \"2021-06-01\", \"2021-06-02\", \"2021-06-03\", \"2021-06-04\", \"2021-06-07\", \"2021-06-08\", \"2021-06-09\", \"2021-06-10\", \"2021-06-11\", \"2021-06-14\", \"2021-06-15\", \"2021-06-16\", \"2021-06-17\", \"2021-06-18\", \"2021-06-21\", \"2021-06-22\", \"2021-06-23\", \"2021-06-24\", \"2021-06-25\", \"2021-06-28\", \"2021-06-29\", \"2021-06-30\", \"2021-07-01\", \"2021-07-02\", \"2021-07-06\", \"2021-07-07\", \"2021-07-08\", \"2021-07-09\", \"2021-07-12\", \"2021-07-13\", \"2021-07-14\", \"2021-07-15\", \"2021-07-16\", \"2021-07-19\", \"2021-07-20\", \"2021-07-21\", \"2021-07-22\", \"2021-07-23\", \"2021-07-26\", \"2021-07-27\", \"2021-07-28\", \"2021-07-29\", \"2021-07-30\", \"2021-08-02\", \"2021-08-03\", \"2021-08-04\", \"2021-08-05\", \"2021-08-06\", \"2021-08-09\", \"2021-08-10\", \"2021-08-11\", \"2021-08-12\", \"2021-08-13\", \"2021-08-16\", \"2021-08-17\", \"2021-08-18\", \"2021-08-19\", \"2021-08-20\", \"2021-08-23\", \"2021-08-24\", \"2021-08-25\", \"2021-08-26\", \"2021-08-27\", \"2021-08-30\", \"2021-08-31\", \"2021-09-01\", \"2021-09-02\", \"2021-09-03\", \"2021-09-07\", \"2021-09-08\", \"2021-09-09\", \"2021-09-10\", \"2021-09-13\", \"2021-09-14\", \"2021-09-15\", \"2021-09-16\", \"2021-09-17\", \"2021-09-20\", \"2021-09-21\", \"2021-09-22\", \"2021-09-23\", \"2021-09-24\", \"2021-09-27\", \"2021-09-28\", \"2021-09-29\", \"2021-09-30\", \"2021-10-01\", \"2021-10-04\", \"2021-10-05\", \"2021-10-06\", \"2021-10-07\", \"2021-10-08\", \"2021-10-11\", \"2021-10-12\", \"2021-10-13\", \"2021-10-14\", \"2021-10-15\", \"2021-10-18\", \"2021-10-19\", \"2021-10-20\", \"2021-10-21\", \"2021-10-22\", \"2021-10-25\", \"2021-10-26\", \"2021-10-27\", \"2021-10-28\", \"2021-10-29\", \"2021-11-01\", \"2021-11-02\", \"2021-11-03\", \"2021-11-04\", \"2021-11-05\", \"2021-11-08\", \"2021-11-09\", \"2021-11-10\", \"2021-11-11\", \"2021-11-12\", \"2021-11-15\", \"2021-11-16\", \"2021-11-17\", \"2021-11-18\", \"2021-11-19\"], \"xaxis\": \"x\", \"y\": [205.45750000000007, 206.04180000000008, 206.57020000000009, 207.0292000000001, 207.52380000000008, 208.0695000000001, 208.6476000000001, 209.2298000000001, 209.84680000000012, 210.49240000000012, 211.0680000000001, 211.6462000000001, 212.25520000000012, 212.8679000000001, 213.51420000000013, 214.14310000000012, 214.72760000000014, 215.28190000000012, 215.87060000000017, 216.49460000000013, 217.0659000000001, 217.6228000000001, 218.21410000000006, 218.78850000000008, 219.27750000000006, 219.76980000000006, 220.2656000000001, 220.7672000000001, 221.18940000000006, 221.63210000000007, 222.00460000000007, 222.31570000000008, 222.58210000000005, 222.84880000000004, 223.12150000000005, 223.37370000000007, 223.59480000000008, 223.81130000000007, 224.13710000000006, 224.42500000000007, 224.73450000000008, 225.08070000000006, 225.3188000000001, 225.5670000000001, 225.80150000000006, 226.04780000000005, 226.24040000000005, 226.44520000000003, 226.60320000000004, 226.76660000000004, 226.90780000000004, 227.0582, 227.22100000000003, 227.3737, 227.39100000000002, 227.3245, 227.2022, 227.00830000000002, 226.86970000000002, 226.8182, 226.71220000000002, 226.6493, 226.6105, 226.58180000000002, 226.4946, 226.40439999999998, 226.3039, 226.14489999999998, 226.0323, 225.7875, 225.55199999999996, 225.37089999999998, 225.12349999999995, 224.95739999999995, 224.92109999999994, 224.86329999999995, 224.86649999999995, 224.83129999999994, 224.72319999999993, 224.52629999999994, 224.26859999999994, 223.98719999999992, 223.7598999999999, 223.5583999999999, 223.36889999999988, 223.1748999999999, 222.9990999999999, 222.80879999999993, 222.60999999999993, 222.38029999999992, 222.2045999999999, 221.9824999999999, 221.73959999999988, 221.4736999999999, 221.20399999999987, 220.97779999999983, 220.71519999999987, 220.4495999999999, 220.20579999999987, 219.93619999999984, 219.63029999999983, 219.21549999999985, 218.83919999999983, 218.47159999999982, 218.1560999999998, 217.79019999999983, 217.41139999999982, 217.0461999999998, 216.61499999999978, 216.1085999999998, 215.65889999999982, 215.2169999999998, 214.74129999999982, 214.23759999999984, 213.74719999999982, 213.3040999999998, 212.86429999999982, 212.41359999999978, 211.93059999999977, 211.4833999999998, 211.1018999999998, 210.7065999999998, 210.30519999999981, 209.9362999999998, 209.5300999999998, 209.10199999999983, 208.68569999999983, 208.24189999999982, 207.80559999999983, 207.44489999999985, 207.1384999999998, 206.93499999999983, 206.79919999999981, 206.6445999999998, 206.48589999999982, 206.37309999999982, 206.42109999999983, 206.43059999999983, 206.36519999999982, 206.3191999999998, 206.2739999999998, 206.15769999999978, 206.04889999999978, 205.91599999999977, 205.77919999999978, 205.60729999999975], \"yaxis\": \"y\"}, {\"mode\": \"lines\", \"name\": \"200MA\", \"type\": \"scatter\", \"x\": [\"2021-04-27\", \"2021-04-28\", \"2021-04-29\", \"2021-04-30\", \"2021-05-03\", \"2021-05-04\", \"2021-05-05\", \"2021-05-06\", \"2021-05-07\", \"2021-05-10\", \"2021-05-11\", \"2021-05-12\", \"2021-05-13\", \"2021-05-14\", \"2021-05-17\", \"2021-05-18\", \"2021-05-19\", \"2021-05-20\", \"2021-05-21\", \"2021-05-24\", \"2021-05-25\", \"2021-05-26\", \"2021-05-27\", \"2021-05-28\", \"2021-06-01\", \"2021-06-02\", \"2021-06-03\", \"2021-06-04\", \"2021-06-07\", \"2021-06-08\", \"2021-06-09\", \"2021-06-10\", \"2021-06-11\", \"2021-06-14\", \"2021-06-15\", \"2021-06-16\", \"2021-06-17\", \"2021-06-18\", \"2021-06-21\", \"2021-06-22\", \"2021-06-23\", \"2021-06-24\", \"2021-06-25\", \"2021-06-28\", \"2021-06-29\", \"2021-06-30\", \"2021-07-01\", \"2021-07-02\", \"2021-07-06\", \"2021-07-07\", \"2021-07-08\", \"2021-07-09\", \"2021-07-12\", \"2021-07-13\", \"2021-07-14\", \"2021-07-15\", \"2021-07-16\", \"2021-07-19\", \"2021-07-20\", \"2021-07-21\", \"2021-07-22\", \"2021-07-23\", \"2021-07-26\", \"2021-07-27\", \"2021-07-28\", \"2021-07-29\", \"2021-07-30\", \"2021-08-02\", \"2021-08-03\", \"2021-08-04\", \"2021-08-05\", \"2021-08-06\", \"2021-08-09\", \"2021-08-10\", \"2021-08-11\", \"2021-08-12\", \"2021-08-13\", \"2021-08-16\", \"2021-08-17\", \"2021-08-18\", \"2021-08-19\", \"2021-08-20\", \"2021-08-23\", \"2021-08-24\", \"2021-08-25\", \"2021-08-26\", \"2021-08-27\", \"2021-08-30\", \"2021-08-31\", \"2021-09-01\", \"2021-09-02\", \"2021-09-03\", \"2021-09-07\", \"2021-09-08\", \"2021-09-09\", \"2021-09-10\", \"2021-09-13\", \"2021-09-14\", \"2021-09-15\", \"2021-09-16\", \"2021-09-17\", \"2021-09-20\", \"2021-09-21\", \"2021-09-22\", \"2021-09-23\", \"2021-09-24\", \"2021-09-27\", \"2021-09-28\", \"2021-09-29\", \"2021-09-30\", \"2021-10-01\", \"2021-10-04\", \"2021-10-05\", \"2021-10-06\", \"2021-10-07\", \"2021-10-08\", \"2021-10-11\", \"2021-10-12\", \"2021-10-13\", \"2021-10-14\", \"2021-10-15\", \"2021-10-18\", \"2021-10-19\", \"2021-10-20\", \"2021-10-21\", \"2021-10-22\", \"2021-10-25\", \"2021-10-26\", \"2021-10-27\", \"2021-10-28\", \"2021-10-29\", \"2021-11-01\", \"2021-11-02\", \"2021-11-03\", \"2021-11-04\", \"2021-11-05\", \"2021-11-08\", \"2021-11-09\", \"2021-11-10\", \"2021-11-11\", \"2021-11-12\", \"2021-11-15\", \"2021-11-16\", \"2021-11-17\", \"2021-11-18\", \"2021-11-19\"], \"xaxis\": \"x\", \"y\": [178.69690000000008, 179.2055500000001, 179.65850000000012, 180.10725000000014, 180.55530000000013, 181.03785000000013, 181.55410000000015, 182.06010000000012, 182.58015000000012, 183.1102000000001, 183.6188000000001, 184.10595000000012, 184.61615000000012, 185.12465000000014, 185.66495000000015, 186.19790000000015, 186.72335000000018, 187.24070000000017, 187.75205000000017, 188.27535000000017, 188.7866000000002, 189.2650500000002, 189.75880000000018, 190.2513500000002, 190.76180000000022, 191.27930000000023, 191.8049000000002, 192.33315000000016, 192.8418500000002, 193.35525000000018, 193.8363500000002, 194.25660000000022, 194.6543500000002, 195.04025000000019, 195.42070000000018, 195.7883500000002, 196.1240500000002, 196.4381000000002, 196.7578000000002, 197.08965000000018, 197.4177000000002, 197.77180000000018, 198.08990000000017, 198.42195000000015, 198.72830000000013, 199.04890000000012, 199.3894500000001, 199.72270000000012, 200.02095000000008, 200.3324500000001, 200.66635000000008, 201.01770000000008, 201.38870000000009, 201.7389500000001, 202.06760000000008, 202.3862500000001, 202.6889500000001, 202.95860000000008, 203.26485000000008, 203.5688000000001, 203.8471500000001, 204.1371500000001, 204.41845000000012, 204.68465000000012, 204.9471500000001, 205.19690000000008, 205.4200500000001, 205.6278000000001, 205.8451000000001, 206.02395000000007, 206.2222500000001, 206.41905000000008, 206.62650000000008, 206.84855000000007, 207.11390000000011, 207.39910000000012, 207.7024000000001, 208.03515000000007, 208.3290000000001, 208.59280000000007, 208.79870000000005, 208.98495000000005, 209.25450000000004, 209.50200000000004, 209.76935000000006, 209.97145000000003, 210.17410000000004, 210.38405000000003, 210.59275000000005, 210.77400000000006, 210.96695000000003, 211.15925000000004, 211.33670000000006, 211.50605000000004, 211.672, 211.82315000000003, 211.96965, 212.10815000000002, 212.26140000000004, 212.41145000000003, 212.54390000000004, 212.62865000000002, 212.7047, 212.7504, 212.83995000000002, 212.92985000000004, 213.02950000000004, 213.13800000000006, 213.23090000000008, 213.30050000000006, 213.36345000000009, 213.43160000000006, 213.49825000000007, 213.5527500000001, 213.63070000000008, 213.7236000000001, 213.7959500000001, 213.84775000000008, 213.90060000000008, 213.9890000000001, 214.08390000000006, 214.1647000000001, 214.25965000000008, 214.3624000000001, 214.40380000000007, 214.43590000000006, 214.47565000000006, 214.50455000000005, 214.49750000000003, 214.53850000000003, 214.57155000000003, 214.62535, 214.69065000000003, 214.74670000000006, 214.80370000000002, 214.8734, 215.00795000000002, 215.12095000000002, 215.25115000000002, 215.37210000000002, 215.50425000000004, 215.6192, 215.68385, 215.74150000000006, 215.79035000000005, 215.82755000000006], \"yaxis\": \"y\"}, {\"mode\": \"lines\", \"name\": \"RSI\", \"type\": \"scatter\", \"x\": [\"2021-04-27\", \"2021-04-28\", \"2021-04-29\", \"2021-04-30\", \"2021-05-03\", \"2021-05-04\", \"2021-05-05\", \"2021-05-06\", \"2021-05-07\", \"2021-05-10\", \"2021-05-11\", \"2021-05-12\", \"2021-05-13\", \"2021-05-14\", \"2021-05-17\", \"2021-05-18\", \"2021-05-19\", \"2021-05-20\", \"2021-05-21\", \"2021-05-24\", \"2021-05-25\", \"2021-05-26\", \"2021-05-27\", \"2021-05-28\", \"2021-06-01\", \"2021-06-02\", \"2021-06-03\", \"2021-06-04\", \"2021-06-07\", \"2021-06-08\", \"2021-06-09\", \"2021-06-10\", \"2021-06-11\", \"2021-06-14\", \"2021-06-15\", \"2021-06-16\", \"2021-06-17\", \"2021-06-18\", \"2021-06-21\", \"2021-06-22\", \"2021-06-23\", \"2021-06-24\", \"2021-06-25\", \"2021-06-28\", \"2021-06-29\", \"2021-06-30\", \"2021-07-01\", \"2021-07-02\", \"2021-07-06\", \"2021-07-07\", \"2021-07-08\", \"2021-07-09\", \"2021-07-12\", \"2021-07-13\", \"2021-07-14\", \"2021-07-15\", \"2021-07-16\", \"2021-07-19\", \"2021-07-20\", \"2021-07-21\", \"2021-07-22\", \"2021-07-23\", \"2021-07-26\", \"2021-07-27\", \"2021-07-28\", \"2021-07-29\", \"2021-07-30\", \"2021-08-02\", \"2021-08-03\", \"2021-08-04\", \"2021-08-05\", \"2021-08-06\", \"2021-08-09\"], \"xaxis\": \"x2\", \"y\": [\"54.1668\", \"72.5027\", \"29.2493\", \"36.7492\", \"37.6782\", \"78.687\", \"88.4293\", \"78.6565\", \"88.1574\", \"90.7185\", \"54.5572\", \"40.1846\", \"61.3804\", \"72.755\", \"82.1181\", \"39.6464\", \"28.7469\", \"22.144\", \"44.8746\", \"59.2357\", \"42.134\", \"48.5356\", \"75.4588\", \"72.2812\", \"81.8901\", \"85.1151\", \"87.0002\", \"88.0734\", \"22.4066\", \"29.7806\", \"10.0487\", \"3.8516\", \"2.5312\", \"2.1584\", \"7.5954\", \"5.3262\", \"2.1286\", \"1.9914\", \"42.7851\", \"42.2994\", \"49.4067\", \"80.1881\", \"53.5216\", \"53.1715\", \"41.3132\", \"65.9467\", \"53.661\", \"64.8663\", \"26.3182\", \"40.8643\", \"24.7213\", \"66.084\", \"71.2589\", \"42.6995\", \"26.2033\", \"25.2551\", \"13.9028\", \"8.0236\", \"49.6779\", \"63.6821\", \"51.4978\", \"54.5705\", \"67.2046\", \"51.135\", \"67.1785\", \"75.834\", \"24.8471\", \"19.4726\", \"52.1112\", \"30.2188\", \"50.9532\", \"58.9099\", \"63.0909\"], \"yaxis\": \"y2\"}, {\"mode\": \"markers+lines\", \"name\": \"Test\", \"type\": \"scatter\", \"x\": [\"2021-08-10\", \"2021-08-11\", \"2021-08-12\", \"2021-08-13\", \"2021-08-16\", \"2021-08-17\", \"2021-08-18\", \"2021-08-19\", \"2021-08-20\", \"2021-08-23\", \"2021-08-24\", \"2021-08-25\", \"2021-08-26\", \"2021-08-27\", \"2021-08-30\", \"2021-08-31\", \"2021-09-01\", \"2021-09-02\", \"2021-09-03\", \"2021-09-07\", \"2021-09-08\", \"2021-09-09\", \"2021-09-10\", \"2021-09-13\", \"2021-09-14\", \"2021-09-15\", \"2021-09-16\", \"2021-09-17\", \"2021-09-20\", \"2021-09-21\", \"2021-09-22\", \"2021-09-23\", \"2021-09-24\", \"2021-09-27\", \"2021-09-28\", \"2021-09-29\", \"2021-09-30\", \"2021-10-01\", \"2021-10-04\", \"2021-10-05\", \"2021-10-06\", \"2021-10-07\", \"2021-10-08\", \"2021-10-11\", \"2021-10-12\", \"2021-10-13\", \"2021-10-14\", \"2021-10-15\", \"2021-10-18\", \"2021-10-19\", \"2021-10-20\", \"2021-10-21\", \"2021-10-22\", \"2021-10-25\", \"2021-10-26\", \"2021-10-27\", \"2021-10-28\", \"2021-10-29\", \"2021-11-01\", \"2021-11-02\", \"2021-11-03\", \"2021-11-04\", \"2021-11-05\", \"2021-11-08\", \"2021-11-09\", \"2021-11-10\", \"2021-11-11\", \"2021-11-12\", \"2021-11-15\", \"2021-11-16\", \"2021-11-17\", \"2021-11-18\", \"2021-11-19\"], \"xaxis\": \"x2\", \"y\": [\"85.0212\", \"93.5042\", \"80.6814\", \"64.9651\", \"56.4683\", \"28.6048\", \"17.5574\", \"9.4628\", \"14.8463\", \"51.7405\", \"68.537\", \"76.3146\", \"47.6526\", \"58.2714\", \"46.0974\", \"40.7326\", \"21.714\", \"59.213\", \"46.8011\", \"31.6821\", \"23.8105\", \"17.7082\", \"15.8568\", \"42.1761\", \"16.6978\", \"53.6203\", \"37.8538\", \"21.0624\", \"8.2814\", \"7.5293\", \"23.5717\", \"59.9478\", \"61.0044\", \"76.0637\", \"78.2435\", \"46.9761\", \"20.2516\", \"40.5456\", \"33.9552\", \"30.102\", \"25.6642\", \"68.2882\", \"60.4079\", \"36.2596\", \"20.3188\", \"16.6876\", \"66.3296\", \"81.0596\", \"72.5345\", \"82.3475\", \"88.6276\", \"65.2307\", \"60.7701\", \"72.4398\", \"41.7498\", \"22.3509\", \"69.9104\", \"69.2708\", \"75.1184\", \"81.7387\", \"44.9395\", \"45.353\", \"66.7777\", \"89.4515\", \"57.9704\", \"42.2114\", \"53.4543\", \"58.2962\", \"43.8665\", \"28.4358\", \"18.1468\", \"13.4862\", \"10.8583\"], \"yaxis\": \"y2\"}, {\"mode\": \"markers+lines\", \"name\": \"Prediction\", \"type\": \"scatter\", \"x\": [\"2021-08-10\", \"2021-08-11\", \"2021-08-12\", \"2021-08-13\", \"2021-08-16\", \"2021-08-17\", \"2021-08-18\", \"2021-08-19\", \"2021-08-20\", \"2021-08-23\", \"2021-08-24\", \"2021-08-25\", \"2021-08-26\", \"2021-08-27\", \"2021-08-30\", \"2021-08-31\", \"2021-09-01\", \"2021-09-02\", \"2021-09-03\", \"2021-09-07\", \"2021-09-08\", \"2021-09-09\", \"2021-09-10\", \"2021-09-13\", \"2021-09-14\", \"2021-09-15\", \"2021-09-16\", \"2021-09-17\", \"2021-09-20\", \"2021-09-21\", \"2021-09-22\", \"2021-09-23\", \"2021-09-24\", \"2021-09-27\", \"2021-09-28\", \"2021-09-29\", \"2021-09-30\", \"2021-10-01\", \"2021-10-04\", \"2021-10-05\", \"2021-10-06\", \"2021-10-07\", \"2021-10-08\", \"2021-10-11\", \"2021-10-12\", \"2021-10-13\", \"2021-10-14\", \"2021-10-15\", \"2021-10-18\", \"2021-10-19\", \"2021-10-20\", \"2021-10-21\", \"2021-10-22\", \"2021-10-25\", \"2021-10-26\", \"2021-10-27\", \"2021-10-28\", \"2021-10-29\", \"2021-11-01\", \"2021-11-02\", \"2021-11-03\", \"2021-11-04\", \"2021-11-05\", \"2021-11-08\", \"2021-11-09\", \"2021-11-10\", \"2021-11-11\", \"2021-11-12\", \"2021-11-15\", \"2021-11-16\", \"2021-11-17\", \"2021-11-18\", \"2021-11-19\"], \"xaxis\": \"x2\", \"y\": [80.28935241699219, 64.7009048461914, 57.73102951049805, 31.66653823852539, 27.82726287841797, 17.868297576904297, 19.387645721435547, 56.2369270324707, 66.44882202148438, 67.7589111328125, 58.24583053588867, 54.6721076965332, 59.64276885986328, 38.52497482299805, 29.88286018371582, 62.27588653564453, 53.18217849731445, 40.843536376953125, 27.01291847229004, 23.511154174804688, 20.66734504699707, 42.56344985961914, 32.09194564819336, 61.37467575073242, 43.92632293701172, 31.141315460205078, 16.13433074951172, 15.523883819580078, 23.759122848510742, 65.28353118896484, 59.82730484008789, 72.80705261230469, 78.39400482177734, 43.83179473876953, 49.589317321777344, 23.876544952392578, 41.724239349365234, 41.97622299194336, 37.657020568847656, 70.89730072021484, 55.35837173461914, 44.60382843017578, 43.59278106689453, 25.20775032043457, 52.14723587036133, 71.43109130859375, 70.07437896728516, 84.00270080566406, 82.40765380859375, 72.44991302490234, 60.35601806640625, 75.76506805419922, 42.25906753540039, 28.062652587890625, 66.84078979492188, 63.35756301879883, 74.33914947509766, 90.69217681884766, 44.49292755126953, 40.2347297668457, 64.99132537841797, 70.4677734375, 65.17881774902344, 39.56161880493164, 51.143653869628906, 55.63977813720703, 51.94175338745117, 41.560455322265625, 31.468996047973633, 22.314611434936523], \"yaxis\": \"y2\"}, {\"mode\": \"markers+lines\", \"name\": \"Forecast\", \"type\": \"scatter\", \"x\": [\"2021-11-19T00:00:00\", \"2021-11-22T00:00:00\", \"2021-11-23T00:00:00\", \"2021-11-24T00:00:00\", \"2021-11-26T00:00:00\", \"2021-11-29T00:00:00\", \"2021-11-30T00:00:00\", \"2021-12-01T00:00:00\", \"2021-12-02T00:00:00\", \"2021-12-03T00:00:00\", \"2021-12-06T00:00:00\", \"2021-12-07T00:00:00\", \"2021-12-08T00:00:00\"], \"xaxis\": \"x2\", \"y\": [10.8583, 17.092224922841783, 17.388042751726505, 18.472711032947895, 21.23629812418818, 23.589077051478622, 27.12198305005729, 32.330832315760844, 39.54285894218385, 48.57984158060252, 56.21108526101112, 59.851299865639206, 62.96816214092374], \"yaxis\": \"y2\"}, {\"line\": {\"color\": \"rgb(100, 10, 100)\", \"dash\": \"dash\", \"shape\": \"linear\"}, \"mode\": \"lines\", \"type\": \"scatter\", \"x\": [\"2021-04-27\", \"2021-12-08T00:00:00\"], \"xaxis\": \"x2\", \"y\": [70, 70], \"yaxis\": \"y2\"}, {\"line\": {\"color\": \"rgb(10, 12, 240)\", \"dash\": \"dash\", \"shape\": \"linear\"}, \"mode\": \"lines\", \"type\": \"scatter\", \"x\": [\"2021-04-27\", \"2021-12-08T00:00:00\"], \"xaxis\": \"x2\", \"y\": [50, 50], \"yaxis\": \"y2\"}, {\"line\": {\"color\": \"rgb(10, 120, 24)\", \"dash\": \"dash\", \"shape\": \"linear\"}, \"mode\": \"lines\", \"type\": \"scatter\", \"x\": [\"2021-04-27\", \"2021-12-08T00:00:00\"], \"xaxis\": \"x2\", \"y\": [30, 30], \"yaxis\": \"y2\"}],\n",
              "                        {\"annotations\": [{\"font\": {\"size\": 16}, \"showarrow\": false, \"text\": \"<a href=\\\"https://in.tradingview.com/chart/66XmQfYy/?symbol=CAT\\\">CAT</a> Date:2021-11-19 Open:200.92 High:199.66 Low:202.92 Close:200.44\", \"x\": 0.5, \"xanchor\": \"center\", \"xref\": \"paper\", \"y\": 1.0, \"yanchor\": \"bottom\", \"yref\": \"paper\"}, {\"font\": {\"size\": 16}, \"showarrow\": false, \"text\": \"<a href=\\\"https://in.tradingview.com/chart/66XmQfYy/?symbol=CAT\\\">CAT</a> RSI(3) Date:2021-11-19 Close:10.8583 Forecast(3):33.0\", \"x\": 0.5, \"xanchor\": \"center\", \"xref\": \"paper\", \"y\": 0.30000000000000004, \"yanchor\": \"bottom\", \"yref\": \"paper\"}], \"height\": 650, \"template\": {\"data\": {\"bar\": [{\"error_x\": {\"color\": \"#2a3f5f\"}, \"error_y\": {\"color\": \"#2a3f5f\"}, \"marker\": {\"line\": {\"color\": \"#E5ECF6\", \"width\": 0.5}}, \"type\": \"bar\"}], \"barpolar\": [{\"marker\": {\"line\": {\"color\": \"#E5ECF6\", \"width\": 0.5}}, \"type\": \"barpolar\"}], \"carpet\": [{\"aaxis\": {\"endlinecolor\": \"#2a3f5f\", \"gridcolor\": \"white\", \"linecolor\": \"white\", \"minorgridcolor\": \"white\", \"startlinecolor\": \"#2a3f5f\"}, \"baxis\": {\"endlinecolor\": \"#2a3f5f\", \"gridcolor\": \"white\", \"linecolor\": \"white\", \"minorgridcolor\": \"white\", \"startlinecolor\": \"#2a3f5f\"}, \"type\": \"carpet\"}], \"choropleth\": [{\"colorbar\": {\"outlinewidth\": 0, \"ticks\": \"\"}, \"type\": \"choropleth\"}], \"contour\": [{\"colorbar\": {\"outlinewidth\": 0, \"ticks\": \"\"}, \"colorscale\": [[0.0, \"#0d0887\"], [0.1111111111111111, \"#46039f\"], [0.2222222222222222, \"#7201a8\"], [0.3333333333333333, \"#9c179e\"], [0.4444444444444444, \"#bd3786\"], [0.5555555555555556, \"#d8576b\"], [0.6666666666666666, \"#ed7953\"], [0.7777777777777778, \"#fb9f3a\"], [0.8888888888888888, \"#fdca26\"], [1.0, \"#f0f921\"]], \"type\": \"contour\"}], \"contourcarpet\": [{\"colorbar\": {\"outlinewidth\": 0, \"ticks\": \"\"}, \"type\": \"contourcarpet\"}], \"heatmap\": [{\"colorbar\": {\"outlinewidth\": 0, \"ticks\": \"\"}, \"colorscale\": [[0.0, \"#0d0887\"], [0.1111111111111111, \"#46039f\"], [0.2222222222222222, \"#7201a8\"], [0.3333333333333333, \"#9c179e\"], [0.4444444444444444, \"#bd3786\"], [0.5555555555555556, \"#d8576b\"], [0.6666666666666666, \"#ed7953\"], [0.7777777777777778, \"#fb9f3a\"], [0.8888888888888888, \"#fdca26\"], [1.0, \"#f0f921\"]], \"type\": \"heatmap\"}], \"heatmapgl\": [{\"colorbar\": {\"outlinewidth\": 0, \"ticks\": \"\"}, \"colorscale\": [[0.0, \"#0d0887\"], [0.1111111111111111, \"#46039f\"], [0.2222222222222222, \"#7201a8\"], [0.3333333333333333, \"#9c179e\"], [0.4444444444444444, \"#bd3786\"], [0.5555555555555556, \"#d8576b\"], [0.6666666666666666, \"#ed7953\"], [0.7777777777777778, \"#fb9f3a\"], [0.8888888888888888, \"#fdca26\"], [1.0, \"#f0f921\"]], \"type\": \"heatmapgl\"}], \"histogram\": [{\"marker\": {\"colorbar\": {\"outlinewidth\": 0, \"ticks\": \"\"}}, \"type\": \"histogram\"}], \"histogram2d\": [{\"colorbar\": {\"outlinewidth\": 0, \"ticks\": \"\"}, \"colorscale\": [[0.0, \"#0d0887\"], [0.1111111111111111, \"#46039f\"], [0.2222222222222222, \"#7201a8\"], [0.3333333333333333, \"#9c179e\"], [0.4444444444444444, \"#bd3786\"], [0.5555555555555556, \"#d8576b\"], [0.6666666666666666, \"#ed7953\"], [0.7777777777777778, \"#fb9f3a\"], [0.8888888888888888, \"#fdca26\"], [1.0, \"#f0f921\"]], \"type\": \"histogram2d\"}], \"histogram2dcontour\": [{\"colorbar\": {\"outlinewidth\": 0, \"ticks\": \"\"}, \"colorscale\": [[0.0, \"#0d0887\"], [0.1111111111111111, \"#46039f\"], [0.2222222222222222, \"#7201a8\"], [0.3333333333333333, \"#9c179e\"], [0.4444444444444444, \"#bd3786\"], [0.5555555555555556, \"#d8576b\"], [0.6666666666666666, \"#ed7953\"], [0.7777777777777778, \"#fb9f3a\"], [0.8888888888888888, \"#fdca26\"], [1.0, \"#f0f921\"]], \"type\": \"histogram2dcontour\"}], \"mesh3d\": [{\"colorbar\": {\"outlinewidth\": 0, \"ticks\": \"\"}, \"type\": \"mesh3d\"}], \"parcoords\": [{\"line\": {\"colorbar\": {\"outlinewidth\": 0, \"ticks\": \"\"}}, \"type\": \"parcoords\"}], \"pie\": [{\"automargin\": true, \"type\": \"pie\"}], \"scatter\": [{\"marker\": {\"colorbar\": {\"outlinewidth\": 0, \"ticks\": \"\"}}, \"type\": \"scatter\"}], \"scatter3d\": [{\"line\": {\"colorbar\": {\"outlinewidth\": 0, \"ticks\": \"\"}}, \"marker\": {\"colorbar\": {\"outlinewidth\": 0, \"ticks\": \"\"}}, \"type\": \"scatter3d\"}], \"scattercarpet\": [{\"marker\": {\"colorbar\": {\"outlinewidth\": 0, \"ticks\": \"\"}}, \"type\": \"scattercarpet\"}], \"scattergeo\": [{\"marker\": {\"colorbar\": {\"outlinewidth\": 0, \"ticks\": \"\"}}, \"type\": \"scattergeo\"}], \"scattergl\": [{\"marker\": {\"colorbar\": {\"outlinewidth\": 0, \"ticks\": \"\"}}, \"type\": \"scattergl\"}], \"scattermapbox\": [{\"marker\": {\"colorbar\": {\"outlinewidth\": 0, \"ticks\": \"\"}}, \"type\": \"scattermapbox\"}], \"scatterpolar\": [{\"marker\": {\"colorbar\": {\"outlinewidth\": 0, \"ticks\": \"\"}}, \"type\": \"scatterpolar\"}], \"scatterpolargl\": [{\"marker\": {\"colorbar\": {\"outlinewidth\": 0, \"ticks\": \"\"}}, \"type\": \"scatterpolargl\"}], \"scatterternary\": [{\"marker\": {\"colorbar\": {\"outlinewidth\": 0, \"ticks\": \"\"}}, \"type\": \"scatterternary\"}], \"surface\": [{\"colorbar\": {\"outlinewidth\": 0, \"ticks\": \"\"}, \"colorscale\": [[0.0, \"#0d0887\"], [0.1111111111111111, \"#46039f\"], [0.2222222222222222, \"#7201a8\"], [0.3333333333333333, \"#9c179e\"], [0.4444444444444444, \"#bd3786\"], [0.5555555555555556, \"#d8576b\"], [0.6666666666666666, \"#ed7953\"], [0.7777777777777778, \"#fb9f3a\"], [0.8888888888888888, \"#fdca26\"], [1.0, \"#f0f921\"]], \"type\": \"surface\"}], \"table\": [{\"cells\": {\"fill\": {\"color\": \"#EBF0F8\"}, \"line\": {\"color\": \"white\"}}, \"header\": {\"fill\": {\"color\": \"#C8D4E3\"}, \"line\": {\"color\": \"white\"}}, \"type\": \"table\"}]}, \"layout\": {\"annotationdefaults\": {\"arrowcolor\": \"#2a3f5f\", \"arrowhead\": 0, \"arrowwidth\": 1}, \"coloraxis\": {\"colorbar\": {\"outlinewidth\": 0, \"ticks\": \"\"}}, \"colorscale\": {\"diverging\": [[0, \"#8e0152\"], [0.1, \"#c51b7d\"], [0.2, \"#de77ae\"], [0.3, \"#f1b6da\"], [0.4, \"#fde0ef\"], [0.5, \"#f7f7f7\"], [0.6, \"#e6f5d0\"], [0.7, \"#b8e186\"], [0.8, \"#7fbc41\"], [0.9, \"#4d9221\"], [1, \"#276419\"]], \"sequential\": [[0.0, \"#0d0887\"], [0.1111111111111111, \"#46039f\"], [0.2222222222222222, \"#7201a8\"], [0.3333333333333333, \"#9c179e\"], [0.4444444444444444, \"#bd3786\"], [0.5555555555555556, \"#d8576b\"], [0.6666666666666666, \"#ed7953\"], [0.7777777777777778, \"#fb9f3a\"], [0.8888888888888888, \"#fdca26\"], [1.0, \"#f0f921\"]], \"sequentialminus\": [[0.0, \"#0d0887\"], [0.1111111111111111, \"#46039f\"], [0.2222222222222222, \"#7201a8\"], [0.3333333333333333, \"#9c179e\"], [0.4444444444444444, \"#bd3786\"], [0.5555555555555556, \"#d8576b\"], [0.6666666666666666, \"#ed7953\"], [0.7777777777777778, \"#fb9f3a\"], [0.8888888888888888, \"#fdca26\"], [1.0, \"#f0f921\"]]}, \"colorway\": [\"#636efa\", \"#EF553B\", \"#00cc96\", \"#ab63fa\", \"#FFA15A\", \"#19d3f3\", \"#FF6692\", \"#B6E880\", \"#FF97FF\", \"#FECB52\"], \"font\": {\"color\": \"#2a3f5f\"}, \"geo\": {\"bgcolor\": \"white\", \"lakecolor\": \"white\", \"landcolor\": \"#E5ECF6\", \"showlakes\": true, \"showland\": true, \"subunitcolor\": \"white\"}, \"hoverlabel\": {\"align\": \"left\"}, \"hovermode\": \"closest\", \"mapbox\": {\"style\": \"light\"}, \"paper_bgcolor\": \"white\", \"plot_bgcolor\": \"#E5ECF6\", \"polar\": {\"angularaxis\": {\"gridcolor\": \"white\", \"linecolor\": \"white\", \"ticks\": \"\"}, \"bgcolor\": \"#E5ECF6\", \"radialaxis\": {\"gridcolor\": \"white\", \"linecolor\": \"white\", \"ticks\": \"\"}}, \"scene\": {\"xaxis\": {\"backgroundcolor\": \"#E5ECF6\", \"gridcolor\": \"white\", \"gridwidth\": 2, \"linecolor\": \"white\", \"showbackground\": true, \"ticks\": \"\", \"zerolinecolor\": \"white\"}, \"yaxis\": {\"backgroundcolor\": \"#E5ECF6\", \"gridcolor\": \"white\", \"gridwidth\": 2, \"linecolor\": \"white\", \"showbackground\": true, \"ticks\": \"\", \"zerolinecolor\": \"white\"}, \"zaxis\": {\"backgroundcolor\": \"#E5ECF6\", \"gridcolor\": \"white\", \"gridwidth\": 2, \"linecolor\": \"white\", \"showbackground\": true, \"ticks\": \"\", \"zerolinecolor\": \"white\"}}, \"shapedefaults\": {\"line\": {\"color\": \"#2a3f5f\"}}, \"ternary\": {\"aaxis\": {\"gridcolor\": \"white\", \"linecolor\": \"white\", \"ticks\": \"\"}, \"baxis\": {\"gridcolor\": \"white\", \"linecolor\": \"white\", \"ticks\": \"\"}, \"bgcolor\": \"#E5ECF6\", \"caxis\": {\"gridcolor\": \"white\", \"linecolor\": \"white\", \"ticks\": \"\"}}, \"title\": {\"x\": 0.05}, \"xaxis\": {\"automargin\": true, \"gridcolor\": \"white\", \"linecolor\": \"white\", \"ticks\": \"\", \"title\": {\"standoff\": 15}, \"zerolinecolor\": \"white\", \"zerolinewidth\": 2}, \"yaxis\": {\"automargin\": true, \"gridcolor\": \"white\", \"linecolor\": \"white\", \"ticks\": \"\", \"title\": {\"standoff\": 15}, \"zerolinecolor\": \"white\", \"zerolinewidth\": 2}}}, \"xaxis\": {\"anchor\": \"y\", \"domain\": [0.0, 1.0], \"rangeslider\": {\"visible\": false}, \"showspikes\": true, \"spikedash\": \"dash\", \"spikemode\": \"across\", \"spikesnap\": \"cursor\"}, \"xaxis2\": {\"anchor\": \"y2\", \"domain\": [0.0, 1.0], \"showspikes\": true, \"spikedash\": \"dash\", \"spikemode\": \"across\", \"spikesnap\": \"cursor\"}, \"yaxis\": {\"anchor\": \"x\", \"domain\": [0.55, 1.0], \"showspikes\": true, \"spikedash\": \"dash\", \"spikemode\": \"across\", \"spikesnap\": \"cursor\"}, \"yaxis2\": {\"anchor\": \"x2\", \"domain\": [0.0, 0.30000000000000004], \"showspikes\": true, \"spikedash\": \"dash\", \"spikemode\": \"across\", \"spikesnap\": \"cursor\"}},\n",
              "                        {\"responsive\": true}\n",
              "                    ).then(function(){\n",
              "                            \n",
              "var gd = document.getElementById('d8b65de8-2b3a-4223-a1ed-431db3255663');\n",
              "var x = new MutationObserver(function (mutations, observer) {{\n",
              "        var display = window.getComputedStyle(gd).display;\n",
              "        if (!display || display === 'none') {{\n",
              "            console.log([gd, 'removed!']);\n",
              "            Plotly.purge(gd);\n",
              "            observer.disconnect();\n",
              "        }}\n",
              "}});\n",
              "\n",
              "// Listen for the removal of the full notebook cells\n",
              "var notebookContainer = gd.closest('#notebook-container');\n",
              "if (notebookContainer) {{\n",
              "    x.observe(notebookContainer, {childList: true});\n",
              "}}\n",
              "\n",
              "// Listen for the clearing of the current output cell\n",
              "var outputEl = gd.closest('.output');\n",
              "if (outputEl) {{\n",
              "    x.observe(outputEl, {childList: true});\n",
              "}}\n",
              "\n",
              "                        })\n",
              "                };\n",
              "                \n",
              "            </script>\n",
              "        </div>\n",
              "</body>\n",
              "</html>"
            ]
          },
          "metadata": {}
        }
      ]
    }
  ]
}