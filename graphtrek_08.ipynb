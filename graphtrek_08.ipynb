{
  "nbformat": 4,
  "nbformat_minor": 0,
  "metadata": {
    "colab": {
      "name": "graphtrek_08.ipynb",
      "provenance": [],
      "include_colab_link": true
    },
    "kernelspec": {
      "name": "python3",
      "display_name": "Python 3"
    },
    "language_info": {
      "name": "python"
    }
  },
  "cells": [
    {
      "cell_type": "markdown",
      "metadata": {
        "id": "view-in-github",
        "colab_type": "text"
      },
      "source": [
        "<a href=\"https://colab.research.google.com/github/graphtrek/stockforecast/blob/main/graphtrek_08.ipynb\" target=\"_parent\"><img src=\"https://colab.research.google.com/assets/colab-badge.svg\" alt=\"Open In Colab\"/></a>"
      ]
    },
    {
      "cell_type": "code",
      "metadata": {
        "id": "sZPC3Z9u3evF"
      },
      "source": [
        "import numpy as np\n",
        "from tensorflow.keras.models import Sequential\n",
        "from tensorflow.keras.layers import LSTM\n",
        "from tensorflow.keras.optimizers import Adam\n",
        "from tensorflow.keras.losses import MAE\n",
        "from tensorflow.keras.layers import Dense, Dropout\n",
        "from tensorflow import keras\n",
        "from datetime import datetime, timedelta\n",
        "import pandas as pd\n",
        "import os, time\n",
        "from matplotlib import pyplot as plt\n",
        "from sklearn.preprocessing import StandardScaler\n",
        "import seaborn as sns\n",
        "import plotly.graph_objects as go\n",
        "import plotly.express as px\n",
        "from sklearn.preprocessing import MinMaxScaler\n",
        "from pandas.tseries.holiday import USFederalHolidayCalendar\n",
        "from pandas.tseries.offsets import CustomBusinessDay\n",
        "from keras.preprocessing.sequence import TimeseriesGenerator\n",
        "from tensorflow.keras.models import Sequential\n",
        "from tensorflow.keras.layers import LSTM\n",
        "from tensorflow.keras.optimizers import Adam\n",
        "from tensorflow.keras.losses import MAE\n",
        "from tensorflow.keras.layers import Dense, Dropout\n",
        "from tensorflow import keras\n",
        "from datetime import datetime, timedelta\n",
        "import pandas as pd\n",
        "import os, time\n",
        "from matplotlib import pyplot as plt\n",
        "from sklearn.preprocessing import StandardScaler\n",
        "import seaborn as sns\n",
        "import plotly.graph_objects as go\n",
        "import plotly.express as px\n",
        "from plotly.subplots import make_subplots\n",
        "from sklearn.preprocessing import MinMaxScaler\n",
        "from pandas.tseries.holiday import USFederalHolidayCalendar\n",
        "from pandas.tseries.offsets import CustomBusinessDay\n",
        "from keras.preprocessing.sequence import TimeseriesGenerator\n",
        "from pathlib import Path"
      ],
      "execution_count": 738,
      "outputs": []
    },
    {
      "cell_type": "code",
      "metadata": {
        "id": "HKYStAEQ3mh6"
      },
      "source": [
        "ticker = \"QQQ\" # QQQ, SPY, VTI JETS, XLE, XLF, XLNX, ARKK, ARKG, ARKQ, ARKF, PYPL, V\n",
        "look_back = 3 #  number of past days we want to use to predict 1 day in the future.\n",
        "max_data_size = 730 # ~2 years\n",
        "split_percent = 0.90 # use 90% of the data  for train\n",
        "INFO = 1\n",
        "DEBUG = 2\n",
        "TRACE = 3\n",
        "print_level = INFO \n",
        "indicators_model_file_path = '/content/drive/MyDrive/models/' + ticker + '_' + str(look_back) + '_indicators_08.h5'\n",
        "nr_of_features = 3\n",
        "look_forward = 1\n",
        "epochs = 420\n",
        "learning_rate=0.0042\n",
        "num_prediction = look_back * 4\n",
        "apikey = '3F4URDEKOPLFH25T'\n",
        "np.random.seed(42)"
      ],
      "execution_count": 739,
      "outputs": []
    },
    {
      "cell_type": "code",
      "metadata": {
        "id": "tPJ9HBOO3-2-",
        "colab": {
          "base_uri": "https://localhost:8080/"
        },
        "outputId": "68af45f1-a92e-47cc-b4ac-ba8f2b46b1c2"
      },
      "source": [
        "rsi_url = 'https://www.alphavantage.co/query?function=RSI&datatype=json&symbol='+ticker+'&interval=daily&time_period='+str(look_back)+'&series_type=close&apikey=' + apikey\n",
        "print(rsi_url)\n",
        "rsi_api_response = pd.read_json(rsi_url)\n",
        "#print(rsi_api_response)\n",
        "rsi_api_data = rsi_api_response['Technical Analysis: RSI']\n",
        "#print(rsi_api_data)\n",
        "rsi_api_data = rsi_api_data.drop(\n",
        "    index=['1: Symbol','2: Indicator','3: Last Refreshed','4: Interval','5: Time Period','6: Series Type','7: Time Zone']);\n",
        "#print(rsi_api_data)\n",
        "\n",
        "rsi_data = []\n",
        "for key, value in rsi_api_data.items():\n",
        "  date = key\n",
        "  rsi = float(value.get('RSI'))\n",
        "  rsi_data.append([date,rsi])\n",
        "\n",
        "last_rsi_data =  str(rsi_data[0])\n",
        "first_rsi_data =  str(rsi_data[-1])\n",
        "print('rsi_data_length:', len(rsi_data), 'first_rsi_data:', first_rsi_data, 'last_rsi_data:', last_rsi_data)  "
      ],
      "execution_count": 740,
      "outputs": [
        {
          "output_type": "stream",
          "name": "stdout",
          "text": [
            "https://www.alphavantage.co/query?function=RSI&datatype=json&symbol=QQQ&interval=daily&time_period=3&series_type=close&apikey=3F4URDEKOPLFH25T\n",
            "rsi_data_length: 5548 first_rsi_data: ['1999-11-04', 100.0] last_rsi_data: ['2021-11-19', 93.292]\n"
          ]
        }
      ]
    },
    {
      "cell_type": "code",
      "metadata": {
        "colab": {
          "base_uri": "https://localhost:8080/"
        },
        "id": "GmEkUmlfJFsW",
        "outputId": "467fcf9d-feb6-405d-d34b-4802164c51c1"
      },
      "source": [
        "stoch_url = 'https://www.alphavantage.co/query?function=STOCH&symbol='+ticker+'&interval=daily&apikey=' + apikey\n",
        "print(stoch_url)\n",
        "stoch_api_response = pd.read_json(stoch_url)\n",
        "stoch_api_data = stoch_api_response['Technical Analysis: STOCH']\n",
        "#print(rsi_api_data)\n",
        "stoch_api_data = stoch_api_data.drop(\n",
        "    index=['1: Symbol','2: Indicator','3: Last Refreshed','4: Interval','5.1: FastK Period','5.2: SlowK Period','5.3: SlowK MA Type','5.4: SlowD Period','5.5: SlowD MA Type','6: Time Zone'])\n",
        "#print(stoch_api_data)\n",
        "stoch_data = []\n",
        "for key, value in stoch_api_data.items():\n",
        "  date = key\n",
        "  SlowD = float(value.get('SlowD'))\n",
        "  SlowK = float(value.get('SlowK'))\n",
        "  stoch_data.append([date,SlowD,SlowK])\n",
        "\n",
        "last_stoch_data =  str(stoch_data[0])\n",
        "first_stoch_data =  str(stoch_data[-1])\n",
        "print('stoch_data_length:', len(stoch_data), 'first_stoch_data:', first_stoch_data, 'last_stoch_data:', last_stoch_data)  "
      ],
      "execution_count": 741,
      "outputs": [
        {
          "output_type": "stream",
          "name": "stdout",
          "text": [
            "https://www.alphavantage.co/query?function=STOCH&symbol=QQQ&interval=daily&apikey=3F4URDEKOPLFH25T\n",
            "stoch_data_length: 5543 first_stoch_data: ['1999-11-11', 82.688, 84.2136] last_stoch_data: ['2021-11-19', 85.0154, 88.002]\n"
          ]
        }
      ]
    },
    {
      "cell_type": "code",
      "metadata": {
        "colab": {
          "base_uri": "https://localhost:8080/"
        },
        "id": "gTTORjJJ22lE",
        "outputId": "d54d54af-ee59-4098-efc4-57b84dafb98c"
      },
      "source": [
        "stock_url = 'https://www.alphavantage.co/query?function=TIME_SERIES_DAILY_ADJUSTED&symbol='+ticker+'&outputsize=full&apikey=' + apikey\n",
        "print(stock_url)\n",
        "stock_api_response = pd.read_json(stock_url)\n",
        "stock_api_data = stock_api_response['Time Series (Daily)']\n",
        "#print(stock_api_data)\n",
        "stock_api_data = stock_api_data.drop(index=['1. Information','2. Symbol','3. Last Refreshed','4. Output Size','5. Time Zone']);\n",
        "\n",
        "stock_data = []\n",
        "split_coefficient = 1\n",
        "\n",
        "for key, value in stock_api_data.items():\n",
        "  date = key\n",
        "  open = float(value.get('1. open'))\n",
        "  high = float(value.get('2. high'))\n",
        "  low = float(value.get('3. low'))\n",
        "  close = float(value.get('4. close'))\n",
        "  adjusted_close = float(value.get('5. adjusted close'))\n",
        "  volume = int(value.get('6. volume'))\n",
        "  divident = float(value.get('7. dividend amount'))\n",
        "\n",
        "  if float(value.get('8. split coefficient')) > 1:\n",
        "    split_coefficient = float(value.get('8. split coefficient'))\n",
        "    \n",
        "  open = open / split_coefficient\n",
        "  high = high /split_coefficient\n",
        "  close = close / split_coefficient\n",
        "  low = low / split_coefficient\n",
        "  \n",
        "  stock_data.append([\n",
        "      date,\n",
        "      close,\n",
        "      volume,\n",
        "      high,\n",
        "      low,\n",
        "      open,\n",
        "      divident\n",
        "      ])\n",
        "\n",
        "last_date =  str(stock_data[0][0])\n",
        "print('data length:', len(stock_data), 'last_date:', last_date)\n",
        "\n",
        "last_stock_data =  str(stock_data[0])\n",
        "first_stock_data =  str(stock_data[-1])\n",
        "print('stock_data_length:', len(stock_data), 'first_stock_data:', first_stock_data, 'last_stock_data:', last_stock_data)"
      ],
      "execution_count": 742,
      "outputs": [
        {
          "output_type": "stream",
          "name": "stdout",
          "text": [
            "https://www.alphavantage.co/query?function=TIME_SERIES_DAILY_ADJUSTED&symbol=QQQ&outputsize=full&apikey=3F4URDEKOPLFH25T\n",
            "data length: 5551 last_date: 2021-11-19\n",
            "stock_data_length: 5551 first_stock_data: ['1999-11-01', 65.4, 4840900, 66.55, 65.3, 65.75, 0.0] last_stock_data: ['2021-11-19', 403.99, 45191721, 405.3, 402.58, 403.43, 0.0]\n"
          ]
        }
      ]
    },
    {
      "cell_type": "code",
      "metadata": {
        "id": "GzJkdoRGuYmf",
        "colab": {
          "base_uri": "https://localhost:8080/"
        },
        "outputId": "53c9baf7-b8be-4c9b-8725-0cfdbfd6c908"
      },
      "source": [
        "data_size = np.min([len(rsi_data), len(stoch_data), len(stock_data)])\n",
        "if max_data_size < data_size:\n",
        "  rsi_data = np.flip(rsi_data[:max_data_size],axis=0)\n",
        "  stoch_data = np.flip(stoch_data[:max_data_size],axis=0)\n",
        "  stock_data = np.flip(stock_data[:max_data_size],axis=0)\n",
        "else:\n",
        "  rsi_data = np.flip(rsi_data[:data_size],axis=0)\n",
        "  stoch_data = np.flip(stoch_data[:data_size],axis=0)\n",
        "  stock_data = np.flip(stock_data[:data_size],axis=0)\n",
        "\n",
        "dates = stock_data[:,0]\n",
        "\n",
        "rsi_array = rsi_data[:,1]\n",
        "stoch_slowD_array = stoch_data[:,1]\n",
        "stoch_slowK_array = stoch_data[:,2]\n",
        "\n",
        "indicators_data = np.append(np.expand_dims(dates, axis=1),  np.expand_dims(rsi_array, axis=1).astype(float),axis=1)\n",
        "indicators_data = np.append(indicators_data, np.expand_dims(stoch_slowD_array, axis=1),axis=1)\n",
        "indicators_data = np.append(indicators_data, np.expand_dims(stoch_slowK_array, axis=1),axis=1)\n",
        "print('indicators_data',indicators_data[:5])\n",
        "\n",
        "indicators_lstm_data = np.expand_dims(rsi_array, axis=1).astype(float)\n",
        "indicators_lstm_data = np.append(indicators_lstm_data, np.expand_dims(stoch_slowD_array, axis=1),axis=1).astype(float)\n",
        "indicators_lstm_data = np.append(indicators_lstm_data, np.expand_dims(stoch_slowK_array, axis=1),axis=1).astype(float)\n",
        "print('indicators_lstm_data',indicators_lstm_data[:5])"
      ],
      "execution_count": 743,
      "outputs": [
        {
          "output_type": "stream",
          "name": "stdout",
          "text": [
            "indicators_data [['2018-12-31' '68.1234' '65.9937' '82.5524']\n",
            " ['2019-01-02' '72.2406' '79.984' '86.6582']\n",
            " ['2019-01-03' '27.9875' '80.0899' '71.0591']\n",
            " ['2019-01-04' '66.7228' '76.3379' '71.2963']\n",
            " ['2019-01-07' '73.0358' '71.1332' '71.0442']]\n",
            "indicators_lstm_data [[ 68.123400000000  65.993700000000  82.552400000000]\n",
            " [ 72.240600000000  79.984000000000  86.658200000000]\n",
            " [ 27.987500000000  80.089900000000  71.059100000000]\n",
            " [ 66.722800000000  76.337900000000  71.296300000000]\n",
            " [ 73.035800000000  71.133200000000  71.044200000000]]\n"
          ]
        }
      ]
    },
    {
      "cell_type": "code",
      "metadata": {
        "id": "xHrOFKHo3ocW"
      },
      "source": [
        "stock_df = pd.DataFrame(stock_data,columns=['Date','Close','Volume','High','Low','Open','Divident'])\n",
        "stock_df['50MA'] = stock_df['Close'].rolling(50).mean()\n",
        "stock_df['100MA'] = stock_df['Close'].rolling(100).mean()\n",
        "stock_df['200MA'] = stock_df['Close'].rolling(200).mean()"
      ],
      "execution_count": 744,
      "outputs": []
    },
    {
      "cell_type": "code",
      "metadata": {
        "id": "OYTx2W6N4JIM",
        "colab": {
          "base_uri": "https://localhost:8080/"
        },
        "outputId": "e62b6b27-a3f4-43c0-af70-2da87aa9a5c0"
      },
      "source": [
        "indicators_df = pd.DataFrame(indicators_data,columns=['Date','RSI','SlowD','SlowK'])\n",
        "print(indicators_df)\n",
        "split = int(split_percent*len(indicators_data))\n",
        "if len(indicators_data) - split < look_back:\n",
        "  split = look_back\n",
        "split\n",
        "\n",
        "\n",
        "indicators_df_train = indicators_df.iloc[:split]\n",
        "indicators_df_test = indicators_df.iloc[split:]\n",
        "\n",
        "indicators_lstm_train_data = indicators_lstm_data[:split]\n",
        "indicators_lstm_test_data = indicators_lstm_data[split:]"
      ],
      "execution_count": 745,
      "outputs": [
        {
          "output_type": "stream",
          "name": "stdout",
          "text": [
            "           Date      RSI    SlowD    SlowK\n",
            "0    2018-12-31  68.1234  65.9937  82.5524\n",
            "1    2019-01-02  72.2406   79.984  86.6582\n",
            "2    2019-01-03  27.9875  80.0899  71.0591\n",
            "3    2019-01-04  66.7228  76.3379  71.2963\n",
            "4    2019-01-07  73.0358  71.1332  71.0442\n",
            "..          ...      ...      ...      ...\n",
            "725  2021-11-15  61.3294  36.6348  46.9477\n",
            "726  2021-11-16  76.8574  50.0887  71.0685\n",
            "727  2021-11-17  77.8542  65.1287    77.37\n",
            "728  2021-11-18  90.2339  79.3709  89.6742\n",
            "729  2021-11-19   93.292  85.0154   88.002\n",
            "\n",
            "[730 rows x 4 columns]\n"
          ]
        }
      ]
    },
    {
      "cell_type": "code",
      "metadata": {
        "id": "5oRtthul4Pyj"
      },
      "source": [
        "np.set_printoptions(formatter={'float': '{: 0.12f}'.format})\n",
        "\n",
        "indicators_scaler = MinMaxScaler(feature_range=(0, 1))\n",
        "indicators_scaler = indicators_scaler.fit(indicators_lstm_data)\n",
        "\n",
        "indicators_lstm_train_data_scaled = indicators_scaler.transform(indicators_lstm_train_data)\n",
        "if print_level >= TRACE:\n",
        "  print(indicators_lstm_train_data_scaled[:look_back+1])\n",
        "  print(indicators_lstm_train_data_scaled.shape)\n",
        "\n",
        "indicators_lstm_test_data_scaled = indicators_scaler.transform(indicators_lstm_test_data)\n",
        "if print_level >= TRACE:\n",
        "  print(indicators_lstm_test_data_scaled[:look_back+1])\n",
        "  print(indicators_lstm_test_data_scaled.shape)"
      ],
      "execution_count": 746,
      "outputs": []
    },
    {
      "cell_type": "code",
      "metadata": {
        "id": "Cmmqy0nc4Slr"
      },
      "source": [
        "indicators_train_generator = TimeseriesGenerator(indicators_lstm_train_data_scaled, indicators_lstm_train_data_scaled, sampling_rate=1, length=look_back, batch_size=64)\n",
        "\n",
        "if print_level >= TRACE:\n",
        "  print('Samples: %d' % len(indicators_train_generator))\n",
        "  # print each sample\n",
        "  for i in range(2):\n",
        "    x, y = indicators_train_generator[i]\n",
        "    print('%s => %s' % (x, y))"
      ],
      "execution_count": 747,
      "outputs": []
    },
    {
      "cell_type": "code",
      "metadata": {
        "id": "xFQnXfRp6tVP",
        "colab": {
          "base_uri": "https://localhost:8080/"
        },
        "outputId": "64c1586c-e968-42ee-bde6-57897ad20127"
      },
      "source": [
        "indicators_model = None\n",
        "try:\n",
        "  indicators_model = keras.models.load_model(indicators_model_file_path)\n",
        "  modified = os.path.getmtime(indicators_model_file_path)\n",
        "\n",
        "  print(pd.to_datetime(last_date).date() - datetime.fromtimestamp(modified).date() )\n",
        "  print('Loaded', indicators_model_file_path , ' model train date:',datetime.fromtimestamp(modified).date() , 'last date:', last_date)\n",
        "except:\n",
        "  indicators_model = None\n",
        "  print('Model ' + indicators_model_file_path + ' does not exists.')"
      ],
      "execution_count": 748,
      "outputs": [
        {
          "output_type": "stream",
          "name": "stdout",
          "text": [
            "-1 day, 0:00:00\n",
            "Loaded /content/drive/MyDrive/models/QQQ_3_indicators_08.h5  model train date: 2021-11-20 last date: 2021-11-19\n"
          ]
        }
      ]
    },
    {
      "cell_type": "code",
      "metadata": {
        "id": "r59DQEiZ0u18"
      },
      "source": [
        "if indicators_model is None:\n",
        "  indicators_model = Sequential()\n",
        "  indicators_model.add(LSTM(units=50, activation='tanh', input_shape=(look_back, nr_of_features), return_sequences=True))\n",
        "  indicators_model.add(Dropout(0.2))\n",
        "  indicators_model.add(LSTM(units=50, return_sequences=True, activation=\"tanh\"))\n",
        "  indicators_model.add(Dropout(0.2))\n",
        "  indicators_model.add(LSTM(units=50, return_sequences=True, activation=\"tanh\"))\n",
        "  indicators_model.add(Dropout(0.2))\n",
        "  indicators_model.add(LSTM(units=50, activation=\"tanh\"))\n",
        "  indicators_model.add(Dropout(0.2))\n",
        "  indicators_model.add(Dense(nr_of_features))\n",
        "\n",
        "  indicators_model.compile(\n",
        "      loss=MAE,\n",
        "      optimizer=Adam(learning_rate=learning_rate),\n",
        "      metrics=[\"mae\"]\n",
        "  )\n",
        "    \n",
        "  #model.summary()\n",
        "  print('Model ' + indicators_model_file_path + ' compiled.')\n",
        "\n",
        "  indicators_modelo = indicators_model.fit(indicators_train_generator, epochs=epochs, verbose=0 )\n",
        "  \n",
        "  indicators_model.save(indicators_model_file_path)\n",
        "  print('Saved model ' + indicators_model_file_path)\n",
        "\n",
        "  if print_level >= DEBUG:\n",
        "    plt.plot(indicators_modelo.history['loss'])\n",
        "    plt.xlabel('Epochs')\n",
        "    plt.ylabel('Loss')\n",
        "    plt.show()"
      ],
      "execution_count": 749,
      "outputs": []
    },
    {
      "cell_type": "code",
      "metadata": {
        "colab": {
          "base_uri": "https://localhost:8080/"
        },
        "id": "xkdpY8eE4XlZ",
        "outputId": "750b58b5-b358-4295-e7f0-4dedbe3c4352"
      },
      "source": [
        "indicators_test_generator = TimeseriesGenerator(indicators_lstm_test_data_scaled, indicators_lstm_test_data_scaled,sampling_rate=1, length=look_back, batch_size=look_back)\n",
        "\n",
        "print('Samples: %d' % len(indicators_test_generator))\n",
        "# print each sample\n",
        "if print_level >= TRACE:\n",
        "  for i in range(2):\n",
        "    x, y = indicators_test_generator[i]\n",
        "    print('%s => %s' % (x, y))"
      ],
      "execution_count": 750,
      "outputs": [
        {
          "output_type": "stream",
          "name": "stdout",
          "text": [
            "Samples: 24\n"
          ]
        }
      ]
    },
    {
      "cell_type": "code",
      "metadata": {
        "id": "WAS1RHA1Mn10"
      },
      "source": [
        "#Make prediction\n",
        "indicators_prediction_scaled = indicators_model.predict(indicators_test_generator)\n",
        "\n",
        "if print_level >= DEBUG:\n",
        "  np.set_printoptions(formatter={'float': '{: 0.12f}'.format})\n",
        "  print(indicators_prediction_scaled[:5])\n",
        "\n",
        "indicators_prediction = indicators_scaler.inverse_transform(indicators_prediction_scaled)\n",
        "if nr_of_features == 1:\n",
        "   rsi_prediction = indicators_prediction.reshape((-1))\n",
        "else:\n",
        "  rsi_prediction = indicators_prediction[:,0].reshape((-1))\n",
        "\n",
        "\n",
        "if print_level >= DEBUG:\n",
        "  np.set_printoptions(formatter={'float': '{: 0.2f}'.format})\n",
        "  print('indicators_prediction shape:',indicators_prediction.shape)\n",
        "\n",
        "  for x in range(look_back + 1):\n",
        "    print('pred:',indicators_prediction[x], 'test:', indicators_lstm_test_data[x])\n"
      ],
      "execution_count": 751,
      "outputs": []
    },
    {
      "cell_type": "code",
      "metadata": {
        "colab": {
          "base_uri": "https://localhost:8080/"
        },
        "id": "ae72DYdyd0zp",
        "outputId": "f2bd7e49-61be-434d-a6ed-1ce2bab7bc66"
      },
      "source": [
        "def predict(num_prediction, model):\n",
        "    prediction_list = indicators_lstm_test_data_scaled[-look_back:]\n",
        "    #print('prediction_list',prediction_list)\n",
        "    for _ in range(num_prediction):\n",
        "        x = prediction_list[-look_back:]\n",
        "        #print(x)\n",
        "        x = x.reshape((1, look_back, nr_of_features))\n",
        "        out = model.predict(x)\n",
        "        #print(x,out) \n",
        "        prediction_list = np.append(prediction_list, out, axis=0)\n",
        "    prediction_list = prediction_list[look_back-1:]\n",
        "        \n",
        "    return prediction_list\n",
        "    \n",
        "def predict_dates(last_date,num_prediction):\n",
        "    us_bd = CustomBusinessDay(calendar=USFederalHolidayCalendar())\n",
        "    prediction_dates = pd.date_range(last_date, periods=num_prediction+1,freq=us_bd).tolist()\n",
        "    return prediction_dates\n",
        "\n",
        "indicators_forecast_scaled = predict(num_prediction, indicators_model)\n",
        "#print(forecast_scaled)\n",
        "indicators_forecast_dates = predict_dates(indicators_df['Date'].values[-1],num_prediction)\n",
        "\n",
        "indicators_forecast = indicators_scaler.inverse_transform(indicators_forecast_scaled.reshape((-1,nr_of_features)))\n",
        "if nr_of_features == 1:\n",
        "   rsi_forecast = indicators_forecast.reshape((-1))\n",
        "else:\n",
        "  rsi_forecast = indicators_forecast[:,0].reshape((-1))\n",
        "print('indicators_forecast:',indicators_forecast)\n",
        "print('rsi_forecast:',rsi_forecast)"
      ],
      "execution_count": 752,
      "outputs": [
        {
          "output_type": "stream",
          "name": "stdout",
          "text": [
            "indicators_forecast: [[ 93.292000000000  85.015400000000  88.002000000000]\n",
            " [ 86.016520943451  89.432256764871  88.643108020020]\n",
            " [ 88.177696124399  88.215134507966  86.715329382324]\n",
            " [ 88.210642379004  86.849123008889  85.923152047730]\n",
            " [ 87.566464438474  86.506026581448  85.743931625366]\n",
            " [ 87.500721763551  85.899877093536  85.296148931885]\n",
            " [ 87.359739225042  85.643341237259  85.054754074097]\n",
            " [ 87.223009675145  85.472667483848  84.901467739868]\n",
            " [ 87.123882768470  85.305244082910  84.761536718750]\n",
            " [ 87.040073536229  85.191982223672  84.662448175049]\n",
            " [ 86.972728787005  85.107055078369  84.587552218628]\n",
            " [ 86.918598269337  85.040860082847  84.529426058960]\n",
            " [ 86.875388366061  84.990916849685  84.485072030640]]\n",
            "rsi_forecast: [ 93.292000000000  86.016520943451  88.177696124399  88.210642379004\n",
            "  87.566464438474  87.500721763551  87.359739225042  87.223009675145\n",
            "  87.123882768470  87.040073536229  86.972728787005  86.918598269337\n",
            "  86.875388366061]\n"
          ]
        }
      ]
    },
    {
      "cell_type": "code",
      "metadata": {
        "colab": {
          "base_uri": "https://localhost:8080/",
          "height": 667
        },
        "id": "dnqEqJioguwy",
        "outputId": "9a56da98-0a5b-4383-9c49-10e675092c87"
      },
      "source": [
        "chart_days = len(indicators_df_test) * 2\n",
        "trace1 = go.Candlestick(\n",
        "    x = stock_df.tail(chart_days)['Date'],\n",
        "    open = stock_df.tail(chart_days)['Open'],\n",
        "    high = stock_df.tail(chart_days)['High'],\n",
        "    low = stock_df.tail(chart_days)['Low'],\n",
        "    close = stock_df.tail(chart_days)['Close'],\n",
        "    name = ticker + ' Price'\n",
        ")\n",
        "\n",
        "trace2 = go.Scatter(\n",
        "    x = stock_df.tail(chart_days)['Date'],\n",
        "    y = stock_df.tail(chart_days)['50MA'],\n",
        "    mode='lines',\n",
        "    name ='50MA'\n",
        ")\n",
        "\n",
        "trace3 = go.Scatter(\n",
        "    x = stock_df.tail(chart_days)['Date'],\n",
        "    y = stock_df.tail(chart_days)['100MA'],\n",
        "    mode='lines',\n",
        "    name ='100MA'\n",
        ")\n",
        "\n",
        "trace4 = go.Scatter(\n",
        "    x = stock_df.tail(chart_days)['Date'],\n",
        "    y = stock_df.tail(chart_days)['200MA'],\n",
        "    mode='lines',\n",
        "    name ='200MA'\n",
        ")\n",
        "\n",
        "\n",
        "#'Date','Close','Volume','High','Low','Open','Divident'\n",
        "open_price =  str(stock_data[-1][5])\n",
        "low_price =  str(stock_data[-1][3])\n",
        "high_price =  str(stock_data[-1][4])\n",
        "close_price =  str(stock_data[-1][1])\n",
        "rsi_forecast_mean = np.round(np.mean(rsi_forecast))\n",
        "\n",
        "go.Layout(\n",
        "    title = ticker + ' Date:' + last_date + ' Open:' + open_price + ' High:' + high_price + ' Low:' + low_price + ' Close:' + close_price,\n",
        "    xaxis = {'title' : \"Dates\"},\n",
        "    yaxis = {'title' : \"Close Price ($)\"},\n",
        "    height = 450\n",
        ")\n",
        "\n",
        "trace_rsi_train = go.Scatter(\n",
        "  x = indicators_df_train.tail(len(indicators_df_test))['Date'],\n",
        "  y = indicators_df_train.tail(len(indicators_df_test))['RSI'],\n",
        "  mode='lines',\n",
        "  name ='RSI'\n",
        ")\n",
        "\n",
        "trace_rsi_test = go.Scatter(\n",
        "  x = indicators_df_test['Date'],\n",
        "  y = indicators_df_test['RSI'],\n",
        "  mode='markers+lines',\n",
        "  name ='Test'\n",
        ")\n",
        "\n",
        "trace_rsi_prediction = go.Scatter(\n",
        "    x = indicators_df_test['Date'],\n",
        "    y = rsi_prediction,\n",
        "    mode='markers+lines',\n",
        "    name ='Prediction'\n",
        ")\n",
        "\n",
        "trace_rsi_forecast = go.Scatter(\n",
        "    x = indicators_forecast_dates,\n",
        "    y = rsi_forecast,\n",
        "    mode='markers+lines',\n",
        "    name ='Forecast'\n",
        ")\n",
        "\n",
        "\n",
        "tradingview_link = '<a href=\"https://in.tradingview.com/chart/66XmQfYy/?symbol=' + ticker +'\">' + ticker +'</a>'\n",
        "stock_title = tradingview_link + ' Date:' + last_date + ' Open:' + open_price + ' High:' + high_price + ' Low:' + low_price + ' Close:' + close_price\n",
        "indicators_title = tradingview_link + ' RSI('+ str(look_back)+ ') Date:' + last_date + ' Close:' + indicators_df['RSI'].iloc[-1] + ' Forecast('+str(look_back)+'):' + str(rsi_forecast_mean)\n",
        "\n",
        "fig = make_subplots(rows=2, cols=1, row_heights=[0.6, 0.4], subplot_titles=(stock_title, indicators_title))\n",
        "\n",
        "\n",
        "fig.add_trace(trace1,row=1, col=1)\n",
        "fig.add_trace(trace2,row=1, col=1)\n",
        "fig.add_trace(trace3,row=1, col=1)\n",
        "fig.add_trace(trace4,row=1, col=1)\n",
        "\n",
        "fig.add_trace(trace_rsi_train,row=2, col=1)\n",
        "fig.add_trace(trace_rsi_test,row=2, col=1)\n",
        "fig.add_trace(trace_rsi_prediction,row=2, col=1)\n",
        "fig.add_trace(trace_rsi_forecast,row=2, col=1)\n",
        "\n",
        "fig.add_trace(go.Scatter(\n",
        "        x = [indicators_df_train.tail(len(indicators_df_test))['Date'].min(), np.max(indicators_forecast_dates)],\n",
        "        y = [70, 70],\n",
        "        mode = \"lines\",\n",
        "        line = dict(shape = 'linear', color = 'rgb(100, 10, 100)', dash = 'dash')\n",
        "    ),row=2, col=1)\n",
        "\n",
        "fig.add_trace(go.Scatter(\n",
        "        x = [indicators_df_train.tail(len(indicators_df_test))['Date'].min(), np.max(indicators_forecast_dates)],\n",
        "        y = [50, 50],\n",
        "        mode = \"lines\",\n",
        "        line = dict(shape = 'linear', color = 'rgb(10, 12, 240)', dash = 'dash')\n",
        "    ),row=2, col=1)\n",
        "\n",
        "fig.add_trace(go.Scatter(\n",
        "        x = [indicators_df_train.tail(len(indicators_df_test))['Date'].min(), np.max(indicators_forecast_dates)],\n",
        "        y = [30, 30],\n",
        "        mode = \"lines\",\n",
        "        line = dict(shape = 'linear', color = 'rgb(10, 120, 24)', dash = 'dash')\n",
        "    ),row=2, col=1)\n",
        "\n",
        "fig.update_yaxes(showspikes=True, spikemode='across', spikesnap='cursor',spikedash='dash')\n",
        "fig.update_xaxes(showspikes=True, spikemode='across', spikesnap='cursor', spikedash='dash')\n",
        "fig.update_layout(xaxis_rangeslider_visible=False,height=650)\n",
        "\n",
        "fig.show()\n",
        "Path('/content/drive/MyDrive/models/charts/'+ last_date).mkdir(parents=True, exist_ok=True)\n",
        "fig.write_html('/content/drive/MyDrive/models/charts/'+ last_date+ '/' + ticker + '_' + str(look_back) + '_08_inidicators_forecast.html')"
      ],
      "execution_count": 753,
      "outputs": [
        {
          "output_type": "display_data",
          "data": {
            "text/html": [
              "<html>\n",
              "<head><meta charset=\"utf-8\" /></head>\n",
              "<body>\n",
              "    <div>\n",
              "            <script src=\"https://cdnjs.cloudflare.com/ajax/libs/mathjax/2.7.5/MathJax.js?config=TeX-AMS-MML_SVG\"></script><script type=\"text/javascript\">if (window.MathJax) {MathJax.Hub.Config({SVG: {font: \"STIX-Web\"}});}</script>\n",
              "                <script type=\"text/javascript\">window.PlotlyConfig = {MathJaxConfig: 'local'};</script>\n",
              "        <script src=\"https://cdn.plot.ly/plotly-latest.min.js\"></script>    \n",
              "            <div id=\"dd16d37b-c5ed-4a08-87dc-e07eb3e25f70\" class=\"plotly-graph-div\" style=\"height:650px; width:100%;\"></div>\n",
              "            <script type=\"text/javascript\">\n",
              "                \n",
              "                    window.PLOTLYENV=window.PLOTLYENV || {};\n",
              "                    \n",
              "                if (document.getElementById(\"dd16d37b-c5ed-4a08-87dc-e07eb3e25f70\")) {\n",
              "                    Plotly.newPlot(\n",
              "                        'dd16d37b-c5ed-4a08-87dc-e07eb3e25f70',\n",
              "                        [{\"close\": [\"340.15\", \"339.0\", \"340.22\", \"337.99\", \"336.19\", \"330.14\", \"329.03\", \"331.51\", \"334.2\", \"325.76\", \"325.31\", \"316.89\", \"319.34\", \"326.39\", \"324.41\", \"322.22\", \"322.59\", \"328.83\", \"327.01\", \"332.51\", \"332.97\", \"334.13\", \"332.88\", \"333.93\", \"332.82\", \"333.47\", \"330.0\", \"335.6\", \"336.6\", \"336.76\", \"336.84\", \"340.35\", \"341.24\", \"344.51\", \"342.26\", \"341.01\", \"345.34\", \"342.63\", \"344.36\", \"347.57\", \"347.74\", \"349.89\", \"349.46\", \"353.71\", \"354.99\", \"354.43\", \"354.57\", \"358.64\", \"360.19\", \"360.95\", \"358.77\", \"361.01\", \"362.42\", \"362.42\", \"363.07\", \"360.52\", \"357.6\", \"354.67\", \"358.79\", \"361.56\", \"363.95\", \"368.2\", \"368.49\", \"364.43\", \"365.83\", \"366.48\", \"364.57\", \"364.6\", \"366.81\", \"367.34\", \"369.67\", \"368.05\", \"368.73\", \"366.84\", \"366.21\", \"367.53\", \"368.82\", \"368.98\", \"365.73\", \"362.21\", \"363.96\", \"367.73\", \"373.23\", \"374.37\", \"374.8\", \"372.42\", \"376.04\", \"380.26\", \"379.95\", \"380.58\", \"380.4\", \"381.57\", \"382.11\", \"380.78\", \"379.47\", \"376.59\", \"376.33\", \"375.26\", \"378.05\", \"378.31\", \"373.83\", \"365.7\", \"366.15\", \"369.57\", \"372.98\", \"373.33\", \"370.35\", \"359.87\", \"359.28\", \"357.96\", \"360.18\", \"352.62\", \"357.38\", \"359.67\", \"362.97\", \"361.16\", \"358.39\", \"357.14\", \"360.0\", \"366.63\", \"368.94\", \"372.65\", \"375.47\", \"374.98\", \"377.27\", \"374.1\", \"377.93\", \"379.12\", \"380.0\", \"384.22\", \"386.11\", \"387.43\", \"389.05\", \"393.18\", \"398.22\", \"398.6\", \"398.06\", \"395.32\", \"389.51\", \"390.59\", \"394.7\", \"394.61\", \"397.42\", \"397.63\", \"401.75\", \"403.99\"], \"high\": [\"342.15\", \"340.85\", \"342.8\", \"340.26\", \"340.0\", \"333.89\", \"333.14\", \"331.67\", \"336.65\", \"332.96\", \"326.1299\", \"322.62\", \"322.4\", \"327.33\", \"326.3721\", \"326.65\", \"322.9\", \"329.71\", \"330.86\", \"333.67\", \"334.81\", \"334.61\", \"334.54\", \"335.5699\", \"335.785\", \"334.34\", \"331.86\", \"336.0582\", \"336.66\", \"339.29\", \"338.97\", \"340.46\", \"341.25\", \"344.52\", \"344.47\", \"343.84\", \"346.38\", \"344.8082\", \"344.69\", \"348.03\", \"348.92\", \"351.46\", \"350.72\", \"353.85\", \"355.0199\", \"355.23\", \"355.09\", \"358.97\", \"360.48\", \"362.76\", \"359.65\", \"361.5\", \"362.89\", \"365.465\", \"365.49\", \"363.19\", \"362.41\", \"355.18\", \"360.28\", \"361.56\", \"363.96\", \"368.485\", \"368.89\", \"368.22\", \"367.45\", \"367.6794\", \"365.17\", \"366.88\", \"366.93\", \"368.32\", \"369.91\", \"369.37\", \"369.27\", \"369.56\", \"368.65\", \"367.9\", \"369.16\", \"369.02\", \"367.15\", \"366.62\", \"365.68\", \"368.14\", \"373.935\", \"374.99\", \"375.39\", \"374.62\", \"376.56\", \"380.76\", \"380.579\", \"382.71\", \"382.31\", \"381.98\", \"382.778\", \"381.93\", \"382.15\", \"381.97\", \"379.43\", \"378.61\", \"378.41\", \"378.9\", \"377.87\", \"369.25\", \"368.81\", \"371.07\", \"374.04\", \"373.76\", \"371.2516\", \"370.302\", \"363.37\", \"362.68\", \"361.25\", \"358.86\", \"359.69\", \"359.95\", \"365.69\", \"364.3166\", \"363.2\", \"360.33\", \"360.69\", \"366.85\", \"369.06\", \"372.87\", \"375.52\", \"376.565\", \"377.47\", \"376.97\", \"378.87\", \"382.71\", \"383.15\", \"384.48\", \"386.28\", \"387.56\", \"389.54\", \"393.61\", \"399.2\", \"400.99\", \"399.62\", \"399.57\", \"395.36\", \"392.75\", \"395.25\", \"396.24\", \"397.93\", \"399.7196\", \"402.27\", \"405.3\"], \"low\": [\"339.17\", \"338.3301\", \"336.9001\", \"337.05\", \"335.73\", \"326.21\", \"328.23\", \"326.45\", \"331.6914\", \"325.55\", \"319.02\", \"316.0\", \"316.9\", \"322.08\", \"321.45\", \"321.94\", \"316.3\", \"323.89\", \"326.64\", \"326.9032\", \"331.755\", \"332.95\", \"332.67\", \"333.6\", \"331.43\", \"331.695\", \"328.28\", \"331.78\", \"334.34\", \"335.03\", \"336.651\", \"336.73\", \"339.69\", \"340.46\", \"341.52\", \"337.45\", \"339.92\", \"341.86\", \"340.15\", \"343.84\", \"346.88\", \"349.17\", \"348.84\", \"350.72\", \"352.67\", \"353.83\", \"352.68\", \"356.28\", \"356.49\", \"358.94\", \"354.42\", \"357.57\", \"360.83\", \"361.54\", \"362.22\", \"358.46\", \"357.24\", \"352.04\", \"353.8\", \"358.12\", \"361.77\", \"363.9157\", \"366.601\", \"360.16\", \"363.24\", \"365.25\", \"362.41\", \"363.87\", \"362.0\", \"365.63\", \"367.45\", \"366.905\", \"367.39\", \"365.62\", \"364.84\", \"364.295\", \"367.38\", \"363.7\", \"363.23\", \"361.865\", \"359.96\", \"364.74\", \"368.79\", \"373.36\", \"373.855\", \"371.97\", \"372.57\", \"376.83\", \"378.36\", \"380.37\", \"379.15\", \"379.2003\", \"380.4882\", \"378.45\", \"379.22\", \"376.245\", \"374.22\", \"374.28\", \"373.37\", \"374.695\", \"372.76\", \"360.93\", \"364.99\", \"365.9584\", \"370.099\", \"370.27\", \"367.73\", \"359.35\", \"358.635\", \"357.1\", \"354.38\", \"350.32\", \"353.48\", \"353.15\", \"362.25\", \"360.61\", \"358.3\", \"356.48\", \"357.43\", \"363.01\", \"366.82\", \"366.99\", \"372.6974\", \"373.46\", \"373.85\", \"372.385\", \"373.56\", \"377.905\", \"379.31\", \"381.155\", \"380.7\", \"384.42\", \"386.75\", \"388.48\", \"393.92\", \"397.16\", \"397.4\", \"393.92\", \"387.53\", \"390.24\", \"390.13\", \"392.095\", \"393.66\", \"396.64\", \"397.45\", \"402.58\"], \"name\": \"QQQ Price\", \"open\": [\"341.93\", \"339.81\", \"342.37\", \"337.7\", \"339.23\", \"333.56\", \"332.25\", \"328.76\", \"334.37\", \"332.78\", \"319.7\", \"320.23\", \"319.92\", \"322.6\", \"324.63\", \"325.39\", \"316.66\", \"324.12\", \"330.43\", \"329.37\", \"334.07\", \"333.66\", \"333.67\", \"334.12\", \"335.3\", \"333.25\", \"330.55\", \"331.85\", \"335.05\", \"338.395\", \"338.17\", \"337.19\", \"340.36\", \"341.68\", \"344.15\", \"342.74\", \"339.97\", \"343.63\", \"342.43\", \"344.15\", \"347.51\", \"349.73\", \"350.47\", \"350.78\", \"353.53\", \"354.83\", \"354.07\", \"356.52\", \"359.26\", \"362.45\", \"355.74\", \"358.17\", \"362.45\", \"362.03\", \"364.83\", \"362.98\", \"361.4\", \"354.05\", \"355.63\", \"358.35\", \"361.77\", \"365.31\", \"367.49\", \"368.22\", \"365.6\", \"365.25\", \"362.44\", \"366.28\", \"365.28\", \"366.77\", \"368.18\", \"368.37\", \"368.52\", \"369.26\", \"368.14\", \"365.69\", \"367.89\", \"367.67\", \"366.15\", \"365.18\", \"360.22\", \"365.06\", \"368.8\", \"373.84\", \"374.63\", \"373.92\", \"373.07\", \"376.85\", \"380.51\", \"381.04\", \"381.97\", \"379.22\", \"381.68\", \"381.93\", \"381.01\", \"381.23\", \"378.99\", \"377.86\", \"375.73\", \"376.68\", \"377.82\", \"367.46\", \"367.58\", \"367.09\", \"370.76\", \"370.65\", \"370.2\", \"365.67\", \"361.17\", \"360.97\", \"358.6\", \"358.52\", \"353.71\", \"354.08\", \"362.8\", \"364.08\", \"359.58\", \"359.88\", \"359.51\", \"363.69\", \"367.88\", \"367.61\", \"373.75\", \"375.94\", \"374.16\", \"375.98\", \"375.56\", \"380.23\", \"379.58\", \"381.95\", \"381.06\", \"386.56\", \"386.8\", \"389.55\", \"394.48\", \"400.04\", \"398.57\", \"399.16\", \"392.47\", \"392.57\", \"391.77\", \"395.91\", \"393.86\", \"397.75\", \"399.73\", \"403.43\"], \"type\": \"candlestick\", \"x\": [\"2021-04-27\", \"2021-04-28\", \"2021-04-29\", \"2021-04-30\", \"2021-05-03\", \"2021-05-04\", \"2021-05-05\", \"2021-05-06\", \"2021-05-07\", \"2021-05-10\", \"2021-05-11\", \"2021-05-12\", \"2021-05-13\", \"2021-05-14\", \"2021-05-17\", \"2021-05-18\", \"2021-05-19\", \"2021-05-20\", \"2021-05-21\", \"2021-05-24\", \"2021-05-25\", \"2021-05-26\", \"2021-05-27\", \"2021-05-28\", \"2021-06-01\", \"2021-06-02\", \"2021-06-03\", \"2021-06-04\", \"2021-06-07\", \"2021-06-08\", \"2021-06-09\", \"2021-06-10\", \"2021-06-11\", \"2021-06-14\", \"2021-06-15\", \"2021-06-16\", \"2021-06-17\", \"2021-06-18\", \"2021-06-21\", \"2021-06-22\", \"2021-06-23\", \"2021-06-24\", \"2021-06-25\", \"2021-06-28\", \"2021-06-29\", \"2021-06-30\", \"2021-07-01\", \"2021-07-02\", \"2021-07-06\", \"2021-07-07\", \"2021-07-08\", \"2021-07-09\", \"2021-07-12\", \"2021-07-13\", \"2021-07-14\", \"2021-07-15\", \"2021-07-16\", \"2021-07-19\", \"2021-07-20\", \"2021-07-21\", \"2021-07-22\", \"2021-07-23\", \"2021-07-26\", \"2021-07-27\", \"2021-07-28\", \"2021-07-29\", \"2021-07-30\", \"2021-08-02\", \"2021-08-03\", \"2021-08-04\", \"2021-08-05\", \"2021-08-06\", \"2021-08-09\", \"2021-08-10\", \"2021-08-11\", \"2021-08-12\", \"2021-08-13\", \"2021-08-16\", \"2021-08-17\", \"2021-08-18\", \"2021-08-19\", \"2021-08-20\", \"2021-08-23\", \"2021-08-24\", \"2021-08-25\", \"2021-08-26\", \"2021-08-27\", \"2021-08-30\", \"2021-08-31\", \"2021-09-01\", \"2021-09-02\", \"2021-09-03\", \"2021-09-07\", \"2021-09-08\", \"2021-09-09\", \"2021-09-10\", \"2021-09-13\", \"2021-09-14\", \"2021-09-15\", \"2021-09-16\", \"2021-09-17\", \"2021-09-20\", \"2021-09-21\", \"2021-09-22\", \"2021-09-23\", \"2021-09-24\", \"2021-09-27\", \"2021-09-28\", \"2021-09-29\", \"2021-09-30\", \"2021-10-01\", \"2021-10-04\", \"2021-10-05\", \"2021-10-06\", \"2021-10-07\", \"2021-10-08\", \"2021-10-11\", \"2021-10-12\", \"2021-10-13\", \"2021-10-14\", \"2021-10-15\", \"2021-10-18\", \"2021-10-19\", \"2021-10-20\", \"2021-10-21\", \"2021-10-22\", \"2021-10-25\", \"2021-10-26\", \"2021-10-27\", \"2021-10-28\", \"2021-10-29\", \"2021-11-01\", \"2021-11-02\", \"2021-11-03\", \"2021-11-04\", \"2021-11-05\", \"2021-11-08\", \"2021-11-09\", \"2021-11-10\", \"2021-11-11\", \"2021-11-12\", \"2021-11-15\", \"2021-11-16\", \"2021-11-17\", \"2021-11-18\", \"2021-11-19\"], \"xaxis\": \"x\", \"yaxis\": \"y\"}, {\"mode\": \"lines\", \"name\": \"50MA\", \"type\": \"scatter\", \"x\": [\"2021-04-27\", \"2021-04-28\", \"2021-04-29\", \"2021-04-30\", \"2021-05-03\", \"2021-05-04\", \"2021-05-05\", \"2021-05-06\", \"2021-05-07\", \"2021-05-10\", \"2021-05-11\", \"2021-05-12\", \"2021-05-13\", \"2021-05-14\", \"2021-05-17\", \"2021-05-18\", \"2021-05-19\", \"2021-05-20\", \"2021-05-21\", \"2021-05-24\", \"2021-05-25\", \"2021-05-26\", \"2021-05-27\", \"2021-05-28\", \"2021-06-01\", \"2021-06-02\", \"2021-06-03\", \"2021-06-04\", \"2021-06-07\", \"2021-06-08\", \"2021-06-09\", \"2021-06-10\", \"2021-06-11\", \"2021-06-14\", \"2021-06-15\", \"2021-06-16\", \"2021-06-17\", \"2021-06-18\", \"2021-06-21\", \"2021-06-22\", \"2021-06-23\", \"2021-06-24\", \"2021-06-25\", \"2021-06-28\", \"2021-06-29\", \"2021-06-30\", \"2021-07-01\", \"2021-07-02\", \"2021-07-06\", \"2021-07-07\", \"2021-07-08\", \"2021-07-09\", \"2021-07-12\", \"2021-07-13\", \"2021-07-14\", \"2021-07-15\", \"2021-07-16\", \"2021-07-19\", \"2021-07-20\", \"2021-07-21\", \"2021-07-22\", \"2021-07-23\", \"2021-07-26\", \"2021-07-27\", \"2021-07-28\", \"2021-07-29\", \"2021-07-30\", \"2021-08-02\", \"2021-08-03\", \"2021-08-04\", \"2021-08-05\", \"2021-08-06\", \"2021-08-09\", \"2021-08-10\", \"2021-08-11\", \"2021-08-12\", \"2021-08-13\", \"2021-08-16\", \"2021-08-17\", \"2021-08-18\", \"2021-08-19\", \"2021-08-20\", \"2021-08-23\", \"2021-08-24\", \"2021-08-25\", \"2021-08-26\", \"2021-08-27\", \"2021-08-30\", \"2021-08-31\", \"2021-09-01\", \"2021-09-02\", \"2021-09-03\", \"2021-09-07\", \"2021-09-08\", \"2021-09-09\", \"2021-09-10\", \"2021-09-13\", \"2021-09-14\", \"2021-09-15\", \"2021-09-16\", \"2021-09-17\", \"2021-09-20\", \"2021-09-21\", \"2021-09-22\", \"2021-09-23\", \"2021-09-24\", \"2021-09-27\", \"2021-09-28\", \"2021-09-29\", \"2021-09-30\", \"2021-10-01\", \"2021-10-04\", \"2021-10-05\", \"2021-10-06\", \"2021-10-07\", \"2021-10-08\", \"2021-10-11\", \"2021-10-12\", \"2021-10-13\", \"2021-10-14\", \"2021-10-15\", \"2021-10-18\", \"2021-10-19\", \"2021-10-20\", \"2021-10-21\", \"2021-10-22\", \"2021-10-25\", \"2021-10-26\", \"2021-10-27\", \"2021-10-28\", \"2021-10-29\", \"2021-11-01\", \"2021-11-02\", \"2021-11-03\", \"2021-11-04\", \"2021-11-05\", \"2021-11-08\", \"2021-11-09\", \"2021-11-10\", \"2021-11-11\", \"2021-11-12\", \"2021-11-15\", \"2021-11-16\", \"2021-11-17\", \"2021-11-18\", \"2021-11-19\"], \"xaxis\": \"x\", \"y\": [324.3501999999999, 324.4193999999999, 324.5451999999999, 324.65559999999994, 324.75899999999996, 324.9129999999999, 325.06399999999996, 325.2115999999999, 325.6389999999999, 325.87139999999994, 325.90579999999994, 325.87559999999996, 326.0791999999999, 326.52499999999986, 326.8395999999999, 327.2851999999999, 327.5015999999999, 327.8605999999999, 328.03999999999985, 328.38099999999986, 328.6637999999998, 328.9347999999998, 329.1543999999998, 329.5921999999998, 329.9857999999998, 330.2829999999998, 330.5385999999998, 331.01319999999976, 331.5185999999997, 331.9337999999997, 332.3523999999997, 332.87299999999965, 333.31519999999966, 333.71399999999966, 333.93819999999965, 334.1419999999996, 334.4163999999996, 334.5673999999996, 334.7123999999996, 334.9303999999996, 335.0731999999997, 335.3407999999997, 335.4977999999997, 335.73179999999974, 336.05399999999975, 336.4143999999997, 336.7199999999997, 337.1887999999997, 337.6041999999997, 337.9905999999997, 338.36299999999966, 338.8031999999996, 339.24719999999957, 339.73579999999953, 340.2733999999995, 340.8809999999996, 341.45239999999956, 341.91559999999953, 342.40739999999954, 343.1233999999996, 343.89619999999957, 344.92239999999964, 345.90539999999964, 346.66619999999966, 347.4945999999997, 348.37979999999965, 349.21939999999967, 349.9347999999996, 350.73079999999965, 351.4273999999997, 352.1613999999996, 352.83979999999957, 353.55679999999955, 354.2149999999996, 354.8827999999996, 355.5639999999995, 356.3403999999995, 357.0079999999995, 357.59059999999954, 358.09959999999955, 358.64199999999954, 359.18959999999953, 359.8293999999995, 360.42659999999955, 361.07739999999956, 361.70559999999955, 362.3195999999996, 363.0721999999995, 363.7839999999995, 364.44419999999957, 365.09739999999954, 365.73099999999954, 366.38399999999956, 366.92539999999957, 367.41499999999957, 367.85819999999956, 368.2933999999996, 368.6257999999996, 368.9829999999996, 369.3301999999996, 369.63139999999964, 369.7251999999997, 369.7997999999997, 369.94279999999975, 370.1409999999998, 370.39719999999977, 370.65219999999977, 370.7561999999998, 370.7659999999998, 370.69399999999973, 370.61859999999973, 370.3069999999997, 370.0847999999997, 369.98959999999965, 369.93239999999963, 369.8259999999996, 369.7023999999996, 369.5531999999996, 369.41699999999963, 369.4027999999996, 369.38819999999964, 369.4801999999997, 369.6149999999997, 369.7777999999997, 369.99899999999974, 370.1303999999997, 370.31259999999975, 370.5153999999997, 370.80079999999975, 371.24099999999976, 371.6839999999998, 372.0779999999998, 372.3943999999998, 372.77059999999983, 373.23899999999986, 373.76259999999985, 374.20299999999986, 374.5041999999999, 374.69539999999984, 374.89559999999983, 375.18159999999983, 375.44239999999985, 375.7485999999998, 376.08559999999983, 376.5311999999998, 377.07919999999984], \"yaxis\": \"y\"}, {\"mode\": \"lines\", \"name\": \"100MA\", \"type\": \"scatter\", \"x\": [\"2021-04-27\", \"2021-04-28\", \"2021-04-29\", \"2021-04-30\", \"2021-05-03\", \"2021-05-04\", \"2021-05-05\", \"2021-05-06\", \"2021-05-07\", \"2021-05-10\", \"2021-05-11\", \"2021-05-12\", \"2021-05-13\", \"2021-05-14\", \"2021-05-17\", \"2021-05-18\", \"2021-05-19\", \"2021-05-20\", \"2021-05-21\", \"2021-05-24\", \"2021-05-25\", \"2021-05-26\", \"2021-05-27\", \"2021-05-28\", \"2021-06-01\", \"2021-06-02\", \"2021-06-03\", \"2021-06-04\", \"2021-06-07\", \"2021-06-08\", \"2021-06-09\", \"2021-06-10\", \"2021-06-11\", \"2021-06-14\", \"2021-06-15\", \"2021-06-16\", \"2021-06-17\", \"2021-06-18\", \"2021-06-21\", \"2021-06-22\", \"2021-06-23\", \"2021-06-24\", \"2021-06-25\", \"2021-06-28\", \"2021-06-29\", \"2021-06-30\", \"2021-07-01\", \"2021-07-02\", \"2021-07-06\", \"2021-07-07\", \"2021-07-08\", \"2021-07-09\", \"2021-07-12\", \"2021-07-13\", \"2021-07-14\", \"2021-07-15\", \"2021-07-16\", \"2021-07-19\", \"2021-07-20\", \"2021-07-21\", \"2021-07-22\", \"2021-07-23\", \"2021-07-26\", \"2021-07-27\", \"2021-07-28\", \"2021-07-29\", \"2021-07-30\", \"2021-08-02\", \"2021-08-03\", \"2021-08-04\", \"2021-08-05\", \"2021-08-06\", \"2021-08-09\", \"2021-08-10\", \"2021-08-11\", \"2021-08-12\", \"2021-08-13\", \"2021-08-16\", \"2021-08-17\", \"2021-08-18\", \"2021-08-19\", \"2021-08-20\", \"2021-08-23\", \"2021-08-24\", \"2021-08-25\", \"2021-08-26\", \"2021-08-27\", \"2021-08-30\", \"2021-08-31\", \"2021-09-01\", \"2021-09-02\", \"2021-09-03\", \"2021-09-07\", \"2021-09-08\", \"2021-09-09\", \"2021-09-10\", \"2021-09-13\", \"2021-09-14\", \"2021-09-15\", \"2021-09-16\", \"2021-09-17\", \"2021-09-20\", \"2021-09-21\", \"2021-09-22\", \"2021-09-23\", \"2021-09-24\", \"2021-09-27\", \"2021-09-28\", \"2021-09-29\", \"2021-09-30\", \"2021-10-01\", \"2021-10-04\", \"2021-10-05\", \"2021-10-06\", \"2021-10-07\", \"2021-10-08\", \"2021-10-11\", \"2021-10-12\", \"2021-10-13\", \"2021-10-14\", \"2021-10-15\", \"2021-10-18\", \"2021-10-19\", \"2021-10-20\", \"2021-10-21\", \"2021-10-22\", \"2021-10-25\", \"2021-10-26\", \"2021-10-27\", \"2021-10-28\", \"2021-10-29\", \"2021-11-01\", \"2021-11-02\", \"2021-11-03\", \"2021-11-04\", \"2021-11-05\", \"2021-11-08\", \"2021-11-09\", \"2021-11-10\", \"2021-11-11\", \"2021-11-12\", \"2021-11-15\", \"2021-11-16\", \"2021-11-17\", \"2021-11-18\", \"2021-11-19\"], \"xaxis\": \"x\", \"y\": [320.28770000000014, 320.6392000000002, 320.9986000000002, 321.3233000000002, 321.6127000000002, 321.8312000000002, 322.10840000000013, 322.3983000000001, 322.72180000000014, 322.93900000000014, 323.11920000000015, 323.19830000000013, 323.2817000000001, 323.4450000000001, 323.5999000000001, 323.72450000000015, 323.8684000000001, 324.0611000000001, 324.20440000000013, 324.3999000000001, 324.5999000000001, 324.8038000000001, 325.0395000000001, 325.26020000000005, 325.51300000000003, 325.69790000000006, 325.8076000000001, 326.0194000000001, 326.2462000000001, 326.4534000000001, 326.6783000000001, 326.9632000000001, 327.21150000000006, 327.4189, 327.5779, 327.73380000000003, 327.9061, 328.04650000000004, 328.29580000000004, 328.55830000000003, 328.8901, 329.1648, 329.3826, 329.65590000000003, 329.90340000000003, 330.13410000000005, 330.344, 330.5953, 330.8697, 331.13339999999994, 331.35659999999996, 331.61129999999997, 331.89619999999996, 332.19569999999993, 332.51619999999997, 332.8969999999999, 333.2581999999999, 333.56359999999984, 334.02319999999986, 334.49739999999986, 334.90099999999984, 335.3989999999998, 335.9922999999997, 336.59559999999976, 337.1670999999998, 337.83249999999975, 338.36049999999983, 338.8976999999998, 339.3853999999998, 339.9041999999998, 340.4125999999997, 340.88729999999975, 341.35559999999975, 341.9035999999997, 342.4342999999997, 342.9234999999997, 343.43949999999967, 344.01059999999967, 344.5545999999997, 345.0166999999997, 345.4971999999996, 346.0312999999997, 346.57229999999976, 347.07029999999975, 347.50779999999975, 347.92379999999974, 348.3679999999997, 348.81979999999976, 349.2481999999997, 349.68729999999977, 350.0852999999998, 350.53589999999974, 350.9408999999998, 351.3285999999997, 351.73449999999974, 352.13629999999966, 352.5066999999997, 352.90729999999974, 353.2935999999998, 353.6603999999998, 353.9971999999998, 354.2641999999998, 354.5234999999998, 354.8392999999998, 355.2071999999998, 355.6390999999998, 356.05229999999983, 356.3358999999998, 356.58669999999984, 356.9086999999998, 357.25739999999985, 357.61469999999986, 357.99509999999987, 358.3278999999999, 358.71349999999984, 359.10289999999986, 359.46089999999987, 359.74399999999986, 360.07389999999987, 360.4150999999998, 360.7747999999998, 361.15999999999985, 361.58589999999987, 361.99639999999994, 362.4408999999999, 362.8471999999999, 363.3264999999999, 363.7616999999999, 364.19569999999993, 364.67029999999994, 365.16299999999995, 365.63379999999995, 366.11190000000005, 366.59860000000003, 367.1582, 367.73409999999996, 368.26129999999995, 368.7882, 369.2397, 369.6699, 370.1395, 370.5867, 371.06629999999996, 371.5055, 371.9731, 372.46869999999996], \"yaxis\": \"y\"}, {\"mode\": \"lines\", \"name\": \"200MA\", \"type\": \"scatter\", \"x\": [\"2021-04-27\", \"2021-04-28\", \"2021-04-29\", \"2021-04-30\", \"2021-05-03\", \"2021-05-04\", \"2021-05-05\", \"2021-05-06\", \"2021-05-07\", \"2021-05-10\", \"2021-05-11\", \"2021-05-12\", \"2021-05-13\", \"2021-05-14\", \"2021-05-17\", \"2021-05-18\", \"2021-05-19\", \"2021-05-20\", \"2021-05-21\", \"2021-05-24\", \"2021-05-25\", \"2021-05-26\", \"2021-05-27\", \"2021-05-28\", \"2021-06-01\", \"2021-06-02\", \"2021-06-03\", \"2021-06-04\", \"2021-06-07\", \"2021-06-08\", \"2021-06-09\", \"2021-06-10\", \"2021-06-11\", \"2021-06-14\", \"2021-06-15\", \"2021-06-16\", \"2021-06-17\", \"2021-06-18\", \"2021-06-21\", \"2021-06-22\", \"2021-06-23\", \"2021-06-24\", \"2021-06-25\", \"2021-06-28\", \"2021-06-29\", \"2021-06-30\", \"2021-07-01\", \"2021-07-02\", \"2021-07-06\", \"2021-07-07\", \"2021-07-08\", \"2021-07-09\", \"2021-07-12\", \"2021-07-13\", \"2021-07-14\", \"2021-07-15\", \"2021-07-16\", \"2021-07-19\", \"2021-07-20\", \"2021-07-21\", \"2021-07-22\", \"2021-07-23\", \"2021-07-26\", \"2021-07-27\", \"2021-07-28\", \"2021-07-29\", \"2021-07-30\", \"2021-08-02\", \"2021-08-03\", \"2021-08-04\", \"2021-08-05\", \"2021-08-06\", \"2021-08-09\", \"2021-08-10\", \"2021-08-11\", \"2021-08-12\", \"2021-08-13\", \"2021-08-16\", \"2021-08-17\", \"2021-08-18\", \"2021-08-19\", \"2021-08-20\", \"2021-08-23\", \"2021-08-24\", \"2021-08-25\", \"2021-08-26\", \"2021-08-27\", \"2021-08-30\", \"2021-08-31\", \"2021-09-01\", \"2021-09-02\", \"2021-09-03\", \"2021-09-07\", \"2021-09-08\", \"2021-09-09\", \"2021-09-10\", \"2021-09-13\", \"2021-09-14\", \"2021-09-15\", \"2021-09-16\", \"2021-09-17\", \"2021-09-20\", \"2021-09-21\", \"2021-09-22\", \"2021-09-23\", \"2021-09-24\", \"2021-09-27\", \"2021-09-28\", \"2021-09-29\", \"2021-09-30\", \"2021-10-01\", \"2021-10-04\", \"2021-10-05\", \"2021-10-06\", \"2021-10-07\", \"2021-10-08\", \"2021-10-11\", \"2021-10-12\", \"2021-10-13\", \"2021-10-14\", \"2021-10-15\", \"2021-10-18\", \"2021-10-19\", \"2021-10-20\", \"2021-10-21\", \"2021-10-22\", \"2021-10-25\", \"2021-10-26\", \"2021-10-27\", \"2021-10-28\", \"2021-10-29\", \"2021-11-01\", \"2021-11-02\", \"2021-11-03\", \"2021-11-04\", \"2021-11-05\", \"2021-11-08\", \"2021-11-09\", \"2021-11-10\", \"2021-11-11\", \"2021-11-12\", \"2021-11-15\", \"2021-11-16\", \"2021-11-17\", \"2021-11-18\", \"2021-11-19\"], \"xaxis\": \"x\", \"y\": [299.5307499999999, 299.93304999999987, 300.33229999999986, 300.71774999999985, 301.10309999999987, 301.4566999999999, 301.76794999999987, 302.1054999999999, 302.45184999999987, 302.79059999999987, 303.13934999999987, 303.42319999999984, 303.73584999999986, 304.06894999999986, 304.3853499999999, 304.6674999999999, 304.9335499999999, 305.22579999999994, 305.5055999999999, 305.7949499999999, 306.1024499999999, 306.4215499999999, 306.7599999999999, 307.0703499999999, 307.3720499999999, 307.67859999999985, 307.9519999999999, 308.24014999999986, 308.54264999999987, 308.8267999999999, 309.10164999999984, 309.3852499999998, 309.6621499999998, 309.9248999999998, 310.1809499999998, 310.42334999999986, 310.67564999999985, 310.88919999999985, 311.0971999999998, 311.3979999999998, 311.7187999999998, 312.1184999999998, 312.4763999999998, 312.8832499999998, 313.3059499999998, 313.7022999999998, 314.07984999999985, 314.49999999999983, 314.9493499999998, 315.4197499999998, 315.8760499999998, 316.31869999999975, 316.8099999999997, 317.29514999999975, 317.7526999999998, 318.16929999999974, 318.57754999999975, 318.9616999999998, 319.3443999999998, 319.78064999999975, 320.19959999999975, 320.66479999999973, 321.1076499999997, 321.5227499999997, 321.9233499999997, 322.2830999999997, 322.6333499999997, 322.99604999999974, 323.37959999999975, 323.7737499999997, 324.20309999999967, 324.6212999999997, 325.0439999999997, 325.4572999999997, 325.8646499999997, 326.2999499999997, 326.73074999999966, 327.21744999999964, 327.66414999999967, 328.1282999999996, 328.5981999999997, 329.0635999999997, 329.49519999999967, 329.8950999999997, 330.2960499999997, 330.7151999999997, 331.17829999999964, 331.6307999999997, 332.08854999999966, 332.5367999999997, 332.9727999999997, 333.41929999999974, 333.8792999999997, 334.32129999999967, 334.76674999999966, 335.19774999999964, 335.6070499999997, 336.0019499999996, 336.39714999999967, 336.7905999999997, 337.14244999999966, 337.4516999999996, 337.7610499999996, 338.0812999999996, 338.4099499999996, 338.73514999999963, 339.08034999999967, 339.36709999999965, 339.6542499999996, 339.9238499999997, 340.18829999999963, 340.40649999999965, 340.63839999999965, 340.8864499999997, 341.1566999999997, 341.4136999999997, 341.66464999999977, 341.90254999999974, 342.1391499999998, 342.4074999999998, 342.6873499999998, 342.9818999999997, 343.3126999999997, 343.62829999999974, 343.97694999999976, 344.27254999999985, 344.5670499999998, 344.8905499999998, 345.2209499999998, 345.5618499999998, 345.9206499999998, 346.29849999999976, 346.66169999999977, 347.00874999999974, 347.3680499999997, 347.73394999999977, 348.08369999999974, 348.4173499999998, 348.7677499999998, 349.1140999999997, 349.51479999999975, 349.87574999999975, 350.22444999999976, 350.58069999999975, 350.93824999999975, 351.3013999999998], \"yaxis\": \"y\"}, {\"mode\": \"lines\", \"name\": \"RSI\", \"type\": \"scatter\", \"x\": [\"2021-04-27\", \"2021-04-28\", \"2021-04-29\", \"2021-04-30\", \"2021-05-03\", \"2021-05-04\", \"2021-05-05\", \"2021-05-06\", \"2021-05-07\", \"2021-05-10\", \"2021-05-11\", \"2021-05-12\", \"2021-05-13\", \"2021-05-14\", \"2021-05-17\", \"2021-05-18\", \"2021-05-19\", \"2021-05-20\", \"2021-05-21\", \"2021-05-24\", \"2021-05-25\", \"2021-05-26\", \"2021-05-27\", \"2021-05-28\", \"2021-06-01\", \"2021-06-02\", \"2021-06-03\", \"2021-06-04\", \"2021-06-07\", \"2021-06-08\", \"2021-06-09\", \"2021-06-10\", \"2021-06-11\", \"2021-06-14\", \"2021-06-15\", \"2021-06-16\", \"2021-06-17\", \"2021-06-18\", \"2021-06-21\", \"2021-06-22\", \"2021-06-23\", \"2021-06-24\", \"2021-06-25\", \"2021-06-28\", \"2021-06-29\", \"2021-06-30\", \"2021-07-01\", \"2021-07-02\", \"2021-07-06\", \"2021-07-07\", \"2021-07-08\", \"2021-07-09\", \"2021-07-12\", \"2021-07-13\", \"2021-07-14\", \"2021-07-15\", \"2021-07-16\", \"2021-07-19\", \"2021-07-20\", \"2021-07-21\", \"2021-07-22\", \"2021-07-23\", \"2021-07-26\", \"2021-07-27\", \"2021-07-28\", \"2021-07-29\", \"2021-07-30\", \"2021-08-02\", \"2021-08-03\", \"2021-08-04\", \"2021-08-05\", \"2021-08-06\", \"2021-08-09\"], \"xaxis\": \"x2\", \"y\": [\"55.5994\", \"45.3908\", \"57.7387\", \"35.642\", \"24.3563\", \"9.3808\", \"8.0232\", \"38.0634\", \"59.5554\", \"22.618\", \"21.5491\", \"9.2629\", \"27.3434\", \"60.939\", \"51.0038\", \"40.1449\", \"43.2091\", \"75.2549\", \"60.355\", \"79.1066\", \"80.277\", \"83.7253\", \"65.2776\", \"72.8227\", \"54.1606\", \"62.5831\", \"25.3236\", \"69.4102\", \"73.587\", \"74.4251\", \"75.0196\", \"90.1255\", \"91.9719\", \"96.0463\", \"63.0301\", \"48.9949\", \"76.3538\", \"50.7818\", \"64.6994\", \"78.4874\", \"79.1348\", \"86.7177\", \"78.1926\", \"91.1262\", \"93.0013\", \"81.675\", \"82.4754\", \"93.9665\", \"95.6107\", \"96.3435\", \"56.0669\", \"73.2822\", \"80.4977\", \"80.4977\", \"84.7653\", \"37.0527\", \"18.8388\", \"10.8277\", \"52.9914\", \"68.1697\", \"77.5508\", \"87.4314\", \"87.9732\", \"46.1742\", \"56.7928\", \"62.0119\", \"40.4667\", \"40.9501\", \"68.8748\", \"73.3999\", \"86.4196\", \"57.2138\", \"64.7207\"], \"yaxis\": \"y2\"}, {\"mode\": \"markers+lines\", \"name\": \"Test\", \"type\": \"scatter\", \"x\": [\"2021-08-10\", \"2021-08-11\", \"2021-08-12\", \"2021-08-13\", \"2021-08-16\", \"2021-08-17\", \"2021-08-18\", \"2021-08-19\", \"2021-08-20\", \"2021-08-23\", \"2021-08-24\", \"2021-08-25\", \"2021-08-26\", \"2021-08-27\", \"2021-08-30\", \"2021-08-31\", \"2021-09-01\", \"2021-09-02\", \"2021-09-03\", \"2021-09-07\", \"2021-09-08\", \"2021-09-09\", \"2021-09-10\", \"2021-09-13\", \"2021-09-14\", \"2021-09-15\", \"2021-09-16\", \"2021-09-17\", \"2021-09-20\", \"2021-09-21\", \"2021-09-22\", \"2021-09-23\", \"2021-09-24\", \"2021-09-27\", \"2021-09-28\", \"2021-09-29\", \"2021-09-30\", \"2021-10-01\", \"2021-10-04\", \"2021-10-05\", \"2021-10-06\", \"2021-10-07\", \"2021-10-08\", \"2021-10-11\", \"2021-10-12\", \"2021-10-13\", \"2021-10-14\", \"2021-10-15\", \"2021-10-18\", \"2021-10-19\", \"2021-10-20\", \"2021-10-21\", \"2021-10-22\", \"2021-10-25\", \"2021-10-26\", \"2021-10-27\", \"2021-10-28\", \"2021-10-29\", \"2021-11-01\", \"2021-11-02\", \"2021-11-03\", \"2021-11-04\", \"2021-11-05\", \"2021-11-08\", \"2021-11-09\", \"2021-11-10\", \"2021-11-11\", \"2021-11-12\", \"2021-11-15\", \"2021-11-16\", \"2021-11-17\", \"2021-11-18\", \"2021-11-19\"], \"xaxis\": \"x2\", \"y\": [\"37.3789\", \"30.8603\", \"55.3387\", \"70.5981\", \"72.3554\", \"25.6485\", \"12.5193\", \"36.6879\", \"66.5503\", \"83.5399\", \"85.7847\", \"86.803\", \"54.4311\", \"75.3796\", \"86.3512\", \"82.3095\", \"84.5184\", \"80.2253\", \"86.775\", \"89.2419\", \"52.8329\", \"32.9636\", \"14.7146\", \"13.6884\", \"9.5689\", \"58.4621\", \"61.3808\", \"21.7962\", \"8.1753\", \"12.94\", \"45.2984\", \"64.8422\", \"66.6753\", \"40.024\", \"12.8753\", \"12.1778\", \"10.3043\", \"35.3828\", \"14.5716\", \"45.0797\", \"56.3331\", \"69.737\", \"55.6763\", \"38.0603\", \"31.3468\", \"57.2355\", \"81.4973\", \"85.7288\", \"90.7984\", \"93.4509\", \"86.9203\", \"91.221\", \"54.2095\", \"73.6126\", \"77.9643\", \"81.372\", \"91.1815\", \"93.486\", \"94.886\", \"96.3358\", \"98.2418\", \"99.0994\", \"99.1465\", \"89.2057\", \"50.5955\", \"21.2885\", \"32.2334\", \"62.2208\", \"61.3294\", \"76.8574\", \"77.8542\", \"90.2339\", \"93.292\"], \"yaxis\": \"y2\"}, {\"mode\": \"markers+lines\", \"name\": \"Prediction\", \"type\": \"scatter\", \"x\": [\"2021-08-10\", \"2021-08-11\", \"2021-08-12\", \"2021-08-13\", \"2021-08-16\", \"2021-08-17\", \"2021-08-18\", \"2021-08-19\", \"2021-08-20\", \"2021-08-23\", \"2021-08-24\", \"2021-08-25\", \"2021-08-26\", \"2021-08-27\", \"2021-08-30\", \"2021-08-31\", \"2021-09-01\", \"2021-09-02\", \"2021-09-03\", \"2021-09-07\", \"2021-09-08\", \"2021-09-09\", \"2021-09-10\", \"2021-09-13\", \"2021-09-14\", \"2021-09-15\", \"2021-09-16\", \"2021-09-17\", \"2021-09-20\", \"2021-09-21\", \"2021-09-22\", \"2021-09-23\", \"2021-09-24\", \"2021-09-27\", \"2021-09-28\", \"2021-09-29\", \"2021-09-30\", \"2021-10-01\", \"2021-10-04\", \"2021-10-05\", \"2021-10-06\", \"2021-10-07\", \"2021-10-08\", \"2021-10-11\", \"2021-10-12\", \"2021-10-13\", \"2021-10-14\", \"2021-10-15\", \"2021-10-18\", \"2021-10-19\", \"2021-10-20\", \"2021-10-21\", \"2021-10-22\", \"2021-10-25\", \"2021-10-26\", \"2021-10-27\", \"2021-10-28\", \"2021-10-29\", \"2021-11-01\", \"2021-11-02\", \"2021-11-03\", \"2021-11-04\", \"2021-11-05\", \"2021-11-08\", \"2021-11-09\", \"2021-11-10\", \"2021-11-11\", \"2021-11-12\", \"2021-11-15\", \"2021-11-16\", \"2021-11-17\", \"2021-11-18\", \"2021-11-19\"], \"xaxis\": \"x2\", \"y\": [67.78659057617188, 75.22840881347656, 83.61785125732422, 45.68288803100586, 43.128562927246094, 41.07994842529297, 71.30045318603516, 84.19047546386719, 86.7903060913086, 82.89898681640625, 68.36215209960938, 79.08802032470703, 82.84075164794922, 84.90995788574219, 85.40524291992188, 83.60557556152344, 84.84504699707031, 85.96672821044922, 63.57942581176758, 47.61438751220703, 35.36410140991211, 30.275043487548828, 33.370792388916016, 51.81654739379883, 54.748634338378906, 32.302101135253906, 41.51352310180664, 40.50715255737305, 45.79536437988281, 64.78307342529297, 73.75798034667969, 58.24530792236328, 39.876094818115234, 36.84919738769531, 29.47917938232422, 40.92147445678711, 41.91291046142578, 45.84297180175781, 49.69179916381836, 74.10733795166016, 67.9835433959961, 50.11448669433594, 39.586822509765625, 66.14364624023438, 77.38297271728516, 88.0452880859375, 84.5820541381836, 80.3006362915039, 84.4551773071289, 88.30522918701172, 68.1173095703125, 77.91596984863281, 73.81200408935547, 79.49895477294922, 84.58489227294922, 87.01322174072266, 86.46733093261719, 85.6282730102539, 88.90058135986328, 89.88854217529297, 91.32269287109375, 90.99800109863281, 65.97545623779297, 44.92421340942383, 39.54127883911133, 68.78755187988281, 63.05734634399414, 80.10076141357422, 83.22209930419922, 85.3104476928711], \"yaxis\": \"y2\"}, {\"mode\": \"markers+lines\", \"name\": \"Forecast\", \"type\": \"scatter\", \"x\": [\"2021-11-19T00:00:00\", \"2021-11-22T00:00:00\", \"2021-11-23T00:00:00\", \"2021-11-24T00:00:00\", \"2021-11-26T00:00:00\", \"2021-11-29T00:00:00\", \"2021-11-30T00:00:00\", \"2021-12-01T00:00:00\", \"2021-12-02T00:00:00\", \"2021-12-03T00:00:00\", \"2021-12-06T00:00:00\", \"2021-12-07T00:00:00\", \"2021-12-08T00:00:00\"], \"xaxis\": \"x2\", \"y\": [93.292, 86.01652094345093, 88.17769612439871, 88.21064237900377, 87.56646443847418, 87.50072176355124, 87.35973922504186, 87.22300967514515, 87.12388276847005, 87.04007353622914, 86.97272878700495, 86.91859826933742, 86.87538836606146], \"yaxis\": \"y2\"}, {\"line\": {\"color\": \"rgb(100, 10, 100)\", \"dash\": \"dash\", \"shape\": \"linear\"}, \"mode\": \"lines\", \"type\": \"scatter\", \"x\": [\"2021-04-27\", \"2021-12-08T00:00:00\"], \"xaxis\": \"x2\", \"y\": [70, 70], \"yaxis\": \"y2\"}, {\"line\": {\"color\": \"rgb(10, 12, 240)\", \"dash\": \"dash\", \"shape\": \"linear\"}, \"mode\": \"lines\", \"type\": \"scatter\", \"x\": [\"2021-04-27\", \"2021-12-08T00:00:00\"], \"xaxis\": \"x2\", \"y\": [50, 50], \"yaxis\": \"y2\"}, {\"line\": {\"color\": \"rgb(10, 120, 24)\", \"dash\": \"dash\", \"shape\": \"linear\"}, \"mode\": \"lines\", \"type\": \"scatter\", \"x\": [\"2021-04-27\", \"2021-12-08T00:00:00\"], \"xaxis\": \"x2\", \"y\": [30, 30], \"yaxis\": \"y2\"}],\n",
              "                        {\"annotations\": [{\"font\": {\"size\": 16}, \"showarrow\": false, \"text\": \"<a href=\\\"https://in.tradingview.com/chart/66XmQfYy/?symbol=QQQ\\\">QQQ</a> Date:2021-11-19 Open:403.43 High:402.58 Low:405.3 Close:403.99\", \"x\": 0.5, \"xanchor\": \"center\", \"xref\": \"paper\", \"y\": 1.0, \"yanchor\": \"bottom\", \"yref\": \"paper\"}, {\"font\": {\"size\": 16}, \"showarrow\": false, \"text\": \"<a href=\\\"https://in.tradingview.com/chart/66XmQfYy/?symbol=QQQ\\\">QQQ</a> RSI(3) Date:2021-11-19 Close:93.292 Forecast(3):88.0\", \"x\": 0.5, \"xanchor\": \"center\", \"xref\": \"paper\", \"y\": 0.30000000000000004, \"yanchor\": \"bottom\", \"yref\": \"paper\"}], \"height\": 650, \"template\": {\"data\": {\"bar\": [{\"error_x\": {\"color\": \"#2a3f5f\"}, \"error_y\": {\"color\": \"#2a3f5f\"}, \"marker\": {\"line\": {\"color\": \"#E5ECF6\", \"width\": 0.5}}, \"type\": \"bar\"}], \"barpolar\": [{\"marker\": {\"line\": {\"color\": \"#E5ECF6\", \"width\": 0.5}}, \"type\": \"barpolar\"}], \"carpet\": [{\"aaxis\": {\"endlinecolor\": \"#2a3f5f\", \"gridcolor\": \"white\", \"linecolor\": \"white\", \"minorgridcolor\": \"white\", \"startlinecolor\": \"#2a3f5f\"}, \"baxis\": {\"endlinecolor\": \"#2a3f5f\", \"gridcolor\": \"white\", \"linecolor\": \"white\", \"minorgridcolor\": \"white\", \"startlinecolor\": \"#2a3f5f\"}, \"type\": \"carpet\"}], \"choropleth\": [{\"colorbar\": {\"outlinewidth\": 0, \"ticks\": \"\"}, \"type\": \"choropleth\"}], \"contour\": [{\"colorbar\": {\"outlinewidth\": 0, \"ticks\": \"\"}, \"colorscale\": [[0.0, \"#0d0887\"], [0.1111111111111111, \"#46039f\"], [0.2222222222222222, \"#7201a8\"], [0.3333333333333333, \"#9c179e\"], [0.4444444444444444, \"#bd3786\"], [0.5555555555555556, \"#d8576b\"], [0.6666666666666666, \"#ed7953\"], [0.7777777777777778, \"#fb9f3a\"], [0.8888888888888888, \"#fdca26\"], [1.0, \"#f0f921\"]], \"type\": \"contour\"}], \"contourcarpet\": [{\"colorbar\": {\"outlinewidth\": 0, \"ticks\": \"\"}, \"type\": \"contourcarpet\"}], \"heatmap\": [{\"colorbar\": {\"outlinewidth\": 0, \"ticks\": \"\"}, \"colorscale\": [[0.0, \"#0d0887\"], [0.1111111111111111, \"#46039f\"], [0.2222222222222222, \"#7201a8\"], [0.3333333333333333, \"#9c179e\"], [0.4444444444444444, \"#bd3786\"], [0.5555555555555556, \"#d8576b\"], [0.6666666666666666, \"#ed7953\"], [0.7777777777777778, \"#fb9f3a\"], [0.8888888888888888, \"#fdca26\"], [1.0, \"#f0f921\"]], \"type\": \"heatmap\"}], \"heatmapgl\": [{\"colorbar\": {\"outlinewidth\": 0, \"ticks\": \"\"}, \"colorscale\": [[0.0, \"#0d0887\"], [0.1111111111111111, \"#46039f\"], [0.2222222222222222, \"#7201a8\"], [0.3333333333333333, \"#9c179e\"], [0.4444444444444444, \"#bd3786\"], [0.5555555555555556, \"#d8576b\"], [0.6666666666666666, \"#ed7953\"], [0.7777777777777778, \"#fb9f3a\"], [0.8888888888888888, \"#fdca26\"], [1.0, \"#f0f921\"]], \"type\": \"heatmapgl\"}], \"histogram\": [{\"marker\": {\"colorbar\": {\"outlinewidth\": 0, \"ticks\": \"\"}}, \"type\": \"histogram\"}], \"histogram2d\": [{\"colorbar\": {\"outlinewidth\": 0, \"ticks\": \"\"}, \"colorscale\": [[0.0, \"#0d0887\"], [0.1111111111111111, \"#46039f\"], [0.2222222222222222, \"#7201a8\"], [0.3333333333333333, \"#9c179e\"], [0.4444444444444444, \"#bd3786\"], [0.5555555555555556, \"#d8576b\"], [0.6666666666666666, \"#ed7953\"], [0.7777777777777778, \"#fb9f3a\"], [0.8888888888888888, \"#fdca26\"], [1.0, \"#f0f921\"]], \"type\": \"histogram2d\"}], \"histogram2dcontour\": [{\"colorbar\": {\"outlinewidth\": 0, \"ticks\": \"\"}, \"colorscale\": [[0.0, \"#0d0887\"], [0.1111111111111111, \"#46039f\"], [0.2222222222222222, \"#7201a8\"], [0.3333333333333333, \"#9c179e\"], [0.4444444444444444, \"#bd3786\"], [0.5555555555555556, \"#d8576b\"], [0.6666666666666666, \"#ed7953\"], [0.7777777777777778, \"#fb9f3a\"], [0.8888888888888888, \"#fdca26\"], [1.0, \"#f0f921\"]], \"type\": \"histogram2dcontour\"}], \"mesh3d\": [{\"colorbar\": {\"outlinewidth\": 0, \"ticks\": \"\"}, \"type\": \"mesh3d\"}], \"parcoords\": [{\"line\": {\"colorbar\": {\"outlinewidth\": 0, \"ticks\": \"\"}}, \"type\": \"parcoords\"}], \"pie\": [{\"automargin\": true, \"type\": \"pie\"}], \"scatter\": [{\"marker\": {\"colorbar\": {\"outlinewidth\": 0, \"ticks\": \"\"}}, \"type\": \"scatter\"}], \"scatter3d\": [{\"line\": {\"colorbar\": {\"outlinewidth\": 0, \"ticks\": \"\"}}, \"marker\": {\"colorbar\": {\"outlinewidth\": 0, \"ticks\": \"\"}}, \"type\": \"scatter3d\"}], \"scattercarpet\": [{\"marker\": {\"colorbar\": {\"outlinewidth\": 0, \"ticks\": \"\"}}, \"type\": \"scattercarpet\"}], \"scattergeo\": [{\"marker\": {\"colorbar\": {\"outlinewidth\": 0, \"ticks\": \"\"}}, \"type\": \"scattergeo\"}], \"scattergl\": [{\"marker\": {\"colorbar\": {\"outlinewidth\": 0, \"ticks\": \"\"}}, \"type\": \"scattergl\"}], \"scattermapbox\": [{\"marker\": {\"colorbar\": {\"outlinewidth\": 0, \"ticks\": \"\"}}, \"type\": \"scattermapbox\"}], \"scatterpolar\": [{\"marker\": {\"colorbar\": {\"outlinewidth\": 0, \"ticks\": \"\"}}, \"type\": \"scatterpolar\"}], \"scatterpolargl\": [{\"marker\": {\"colorbar\": {\"outlinewidth\": 0, \"ticks\": \"\"}}, \"type\": \"scatterpolargl\"}], \"scatterternary\": [{\"marker\": {\"colorbar\": {\"outlinewidth\": 0, \"ticks\": \"\"}}, \"type\": \"scatterternary\"}], \"surface\": [{\"colorbar\": {\"outlinewidth\": 0, \"ticks\": \"\"}, \"colorscale\": [[0.0, \"#0d0887\"], [0.1111111111111111, \"#46039f\"], [0.2222222222222222, \"#7201a8\"], [0.3333333333333333, \"#9c179e\"], [0.4444444444444444, \"#bd3786\"], [0.5555555555555556, \"#d8576b\"], [0.6666666666666666, \"#ed7953\"], [0.7777777777777778, \"#fb9f3a\"], [0.8888888888888888, \"#fdca26\"], [1.0, \"#f0f921\"]], \"type\": \"surface\"}], \"table\": [{\"cells\": {\"fill\": {\"color\": \"#EBF0F8\"}, \"line\": {\"color\": \"white\"}}, \"header\": {\"fill\": {\"color\": \"#C8D4E3\"}, \"line\": {\"color\": \"white\"}}, \"type\": \"table\"}]}, \"layout\": {\"annotationdefaults\": {\"arrowcolor\": \"#2a3f5f\", \"arrowhead\": 0, \"arrowwidth\": 1}, \"coloraxis\": {\"colorbar\": {\"outlinewidth\": 0, \"ticks\": \"\"}}, \"colorscale\": {\"diverging\": [[0, \"#8e0152\"], [0.1, \"#c51b7d\"], [0.2, \"#de77ae\"], [0.3, \"#f1b6da\"], [0.4, \"#fde0ef\"], [0.5, \"#f7f7f7\"], [0.6, \"#e6f5d0\"], [0.7, \"#b8e186\"], [0.8, \"#7fbc41\"], [0.9, \"#4d9221\"], [1, \"#276419\"]], \"sequential\": [[0.0, \"#0d0887\"], [0.1111111111111111, \"#46039f\"], [0.2222222222222222, \"#7201a8\"], [0.3333333333333333, \"#9c179e\"], [0.4444444444444444, \"#bd3786\"], [0.5555555555555556, \"#d8576b\"], [0.6666666666666666, \"#ed7953\"], [0.7777777777777778, \"#fb9f3a\"], [0.8888888888888888, \"#fdca26\"], [1.0, \"#f0f921\"]], \"sequentialminus\": [[0.0, \"#0d0887\"], [0.1111111111111111, \"#46039f\"], [0.2222222222222222, \"#7201a8\"], [0.3333333333333333, \"#9c179e\"], [0.4444444444444444, \"#bd3786\"], [0.5555555555555556, \"#d8576b\"], [0.6666666666666666, \"#ed7953\"], [0.7777777777777778, \"#fb9f3a\"], [0.8888888888888888, \"#fdca26\"], [1.0, \"#f0f921\"]]}, \"colorway\": [\"#636efa\", \"#EF553B\", \"#00cc96\", \"#ab63fa\", \"#FFA15A\", \"#19d3f3\", \"#FF6692\", \"#B6E880\", \"#FF97FF\", \"#FECB52\"], \"font\": {\"color\": \"#2a3f5f\"}, \"geo\": {\"bgcolor\": \"white\", \"lakecolor\": \"white\", \"landcolor\": \"#E5ECF6\", \"showlakes\": true, \"showland\": true, \"subunitcolor\": \"white\"}, \"hoverlabel\": {\"align\": \"left\"}, \"hovermode\": \"closest\", \"mapbox\": {\"style\": \"light\"}, \"paper_bgcolor\": \"white\", \"plot_bgcolor\": \"#E5ECF6\", \"polar\": {\"angularaxis\": {\"gridcolor\": \"white\", \"linecolor\": \"white\", \"ticks\": \"\"}, \"bgcolor\": \"#E5ECF6\", \"radialaxis\": {\"gridcolor\": \"white\", \"linecolor\": \"white\", \"ticks\": \"\"}}, \"scene\": {\"xaxis\": {\"backgroundcolor\": \"#E5ECF6\", \"gridcolor\": \"white\", \"gridwidth\": 2, \"linecolor\": \"white\", \"showbackground\": true, \"ticks\": \"\", \"zerolinecolor\": \"white\"}, \"yaxis\": {\"backgroundcolor\": \"#E5ECF6\", \"gridcolor\": \"white\", \"gridwidth\": 2, \"linecolor\": \"white\", \"showbackground\": true, \"ticks\": \"\", \"zerolinecolor\": \"white\"}, \"zaxis\": {\"backgroundcolor\": \"#E5ECF6\", \"gridcolor\": \"white\", \"gridwidth\": 2, \"linecolor\": \"white\", \"showbackground\": true, \"ticks\": \"\", \"zerolinecolor\": \"white\"}}, \"shapedefaults\": {\"line\": {\"color\": \"#2a3f5f\"}}, \"ternary\": {\"aaxis\": {\"gridcolor\": \"white\", \"linecolor\": \"white\", \"ticks\": \"\"}, \"baxis\": {\"gridcolor\": \"white\", \"linecolor\": \"white\", \"ticks\": \"\"}, \"bgcolor\": \"#E5ECF6\", \"caxis\": {\"gridcolor\": \"white\", \"linecolor\": \"white\", \"ticks\": \"\"}}, \"title\": {\"x\": 0.05}, \"xaxis\": {\"automargin\": true, \"gridcolor\": \"white\", \"linecolor\": \"white\", \"ticks\": \"\", \"title\": {\"standoff\": 15}, \"zerolinecolor\": \"white\", \"zerolinewidth\": 2}, \"yaxis\": {\"automargin\": true, \"gridcolor\": \"white\", \"linecolor\": \"white\", \"ticks\": \"\", \"title\": {\"standoff\": 15}, \"zerolinecolor\": \"white\", \"zerolinewidth\": 2}}}, \"xaxis\": {\"anchor\": \"y\", \"domain\": [0.0, 1.0], \"rangeslider\": {\"visible\": false}, \"showspikes\": true, \"spikedash\": \"dash\", \"spikemode\": \"across\", \"spikesnap\": \"cursor\"}, \"xaxis2\": {\"anchor\": \"y2\", \"domain\": [0.0, 1.0], \"showspikes\": true, \"spikedash\": \"dash\", \"spikemode\": \"across\", \"spikesnap\": \"cursor\"}, \"yaxis\": {\"anchor\": \"x\", \"domain\": [0.55, 1.0], \"showspikes\": true, \"spikedash\": \"dash\", \"spikemode\": \"across\", \"spikesnap\": \"cursor\"}, \"yaxis2\": {\"anchor\": \"x2\", \"domain\": [0.0, 0.30000000000000004], \"showspikes\": true, \"spikedash\": \"dash\", \"spikemode\": \"across\", \"spikesnap\": \"cursor\"}},\n",
              "                        {\"responsive\": true}\n",
              "                    ).then(function(){\n",
              "                            \n",
              "var gd = document.getElementById('dd16d37b-c5ed-4a08-87dc-e07eb3e25f70');\n",
              "var x = new MutationObserver(function (mutations, observer) {{\n",
              "        var display = window.getComputedStyle(gd).display;\n",
              "        if (!display || display === 'none') {{\n",
              "            console.log([gd, 'removed!']);\n",
              "            Plotly.purge(gd);\n",
              "            observer.disconnect();\n",
              "        }}\n",
              "}});\n",
              "\n",
              "// Listen for the removal of the full notebook cells\n",
              "var notebookContainer = gd.closest('#notebook-container');\n",
              "if (notebookContainer) {{\n",
              "    x.observe(notebookContainer, {childList: true});\n",
              "}}\n",
              "\n",
              "// Listen for the clearing of the current output cell\n",
              "var outputEl = gd.closest('.output');\n",
              "if (outputEl) {{\n",
              "    x.observe(outputEl, {childList: true});\n",
              "}}\n",
              "\n",
              "                        })\n",
              "                };\n",
              "                \n",
              "            </script>\n",
              "        </div>\n",
              "</body>\n",
              "</html>"
            ]
          },
          "metadata": {}
        }
      ]
    }
  ]
}