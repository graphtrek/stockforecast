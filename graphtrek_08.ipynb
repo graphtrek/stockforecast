{
  "nbformat": 4,
  "nbformat_minor": 0,
  "metadata": {
    "colab": {
      "name": "graphtrek_08.ipynb",
      "provenance": [],
      "include_colab_link": true
    },
    "kernelspec": {
      "name": "python3",
      "display_name": "Python 3"
    },
    "language_info": {
      "name": "python"
    }
  },
  "cells": [
    {
      "cell_type": "markdown",
      "metadata": {
        "id": "view-in-github",
        "colab_type": "text"
      },
      "source": [
        "<a href=\"https://colab.research.google.com/github/graphtrek/stockforecast/blob/main/graphtrek_08.ipynb\" target=\"_parent\"><img src=\"https://colab.research.google.com/assets/colab-badge.svg\" alt=\"Open In Colab\"/></a>"
      ]
    },
    {
      "cell_type": "code",
      "metadata": {
        "id": "sZPC3Z9u3evF"
      },
      "source": [
        "import numpy as np\n",
        "from tensorflow.keras.models import Sequential\n",
        "from tensorflow.keras.layers import LSTM\n",
        "from tensorflow.keras.optimizers import Adam\n",
        "from tensorflow.keras.losses import MAE\n",
        "from tensorflow.keras.layers import Dense, Dropout\n",
        "from tensorflow import keras\n",
        "from datetime import datetime, timedelta\n",
        "import pandas as pd\n",
        "import os, time\n",
        "from matplotlib import pyplot as plt\n",
        "from sklearn.preprocessing import StandardScaler\n",
        "import seaborn as sns\n",
        "import plotly.graph_objects as go\n",
        "import plotly.express as px\n",
        "from sklearn.preprocessing import MinMaxScaler\n",
        "from pandas.tseries.holiday import USFederalHolidayCalendar\n",
        "from pandas.tseries.offsets import CustomBusinessDay\n",
        "from keras.preprocessing.sequence import TimeseriesGenerator\n",
        "from tensorflow.keras.models import Sequential\n",
        "from tensorflow.keras.layers import LSTM\n",
        "from tensorflow.keras.optimizers import Adam\n",
        "from tensorflow.keras.losses import MAE\n",
        "from tensorflow.keras.layers import Dense, Dropout\n",
        "from tensorflow import keras\n",
        "from datetime import datetime, timedelta\n",
        "import pandas as pd\n",
        "import os, time\n",
        "from matplotlib import pyplot as plt\n",
        "from sklearn.preprocessing import StandardScaler\n",
        "import seaborn as sns\n",
        "import plotly.graph_objects as go\n",
        "import plotly.express as px\n",
        "from plotly.subplots import make_subplots\n",
        "from sklearn.preprocessing import MinMaxScaler\n",
        "from pandas.tseries.holiday import USFederalHolidayCalendar\n",
        "from pandas.tseries.offsets import CustomBusinessDay\n",
        "from keras.preprocessing.sequence import TimeseriesGenerator\n",
        "from pathlib import Path"
      ],
      "execution_count": 585,
      "outputs": []
    },
    {
      "cell_type": "code",
      "metadata": {
        "id": "HKYStAEQ3mh6"
      },
      "source": [
        "ticker = \"AMZN\" # QQQ, SPY, VTI JETS, XLE, XLF, XLNX, ARKK, ARKG, ARKQ, ARKF, PYPL, V\n",
        "look_back = 3 #  number of past days we want to use to predict 1 day in the future.\n",
        "max_data_size = 730 # ~2 years\n",
        "split_percent = 0.90 # use 90% of the data  for train\n",
        "INFO = 1\n",
        "DEBUG = 2\n",
        "TRACE = 3\n",
        "print_level = INFO \n",
        "indicators_model_file_path = '/content/drive/MyDrive/models/' + ticker + '_' + str(look_back) + '_indicators_08.h5'\n",
        "nr_of_features = 3\n",
        "look_forward = 1\n",
        "epochs = 420\n",
        "learning_rate=0.0042\n",
        "num_prediction = look_back * 4\n",
        "apikey = '3F4URDEKOPLFH25T'\n",
        "np.random.seed(42)"
      ],
      "execution_count": 586,
      "outputs": []
    },
    {
      "cell_type": "code",
      "metadata": {
        "id": "tPJ9HBOO3-2-",
        "colab": {
          "base_uri": "https://localhost:8080/"
        },
        "outputId": "3d152710-72ad-46f7-c20e-7b0f1d30be6a"
      },
      "source": [
        "rsi_url = 'https://www.alphavantage.co/query?function=RSI&datatype=json&symbol='+ticker+'&interval=daily&time_period='+str(look_back)+'&series_type=close&apikey=' + apikey\n",
        "print(rsi_url)\n",
        "rsi_api_response = pd.read_json(rsi_url)\n",
        "#print(rsi_api_response)\n",
        "rsi_api_data = rsi_api_response['Technical Analysis: RSI']\n",
        "#print(rsi_api_data)\n",
        "rsi_api_data = rsi_api_data.drop(\n",
        "    index=['1: Symbol','2: Indicator','3: Last Refreshed','4: Interval','5: Time Period','6: Series Type','7: Time Zone']);\n",
        "#print(rsi_api_data)\n",
        "\n",
        "rsi_data = []\n",
        "for key, value in rsi_api_data.items():\n",
        "  date = key\n",
        "  rsi = float(value.get('RSI'))\n",
        "  rsi_data.append([date,rsi])\n",
        "\n",
        "last_rsi_data =  str(rsi_data[0])\n",
        "first_rsi_data =  str(rsi_data[-1])\n",
        "print('rsi_data_length:', len(rsi_data), 'first_rsi_data:', first_rsi_data, 'last_rsi_data:', last_rsi_data)  "
      ],
      "execution_count": 587,
      "outputs": [
        {
          "output_type": "stream",
          "name": "stdout",
          "text": [
            "https://www.alphavantage.co/query?function=RSI&datatype=json&symbol=AMZN&interval=daily&time_period=3&series_type=close&apikey=3F4URDEKOPLFH25T\n",
            "rsi_data_length: 5548 first_rsi_data: ['1999-11-04', 0.0] last_rsi_data: ['2021-11-19', 80.6169]\n"
          ]
        }
      ]
    },
    {
      "cell_type": "code",
      "metadata": {
        "colab": {
          "base_uri": "https://localhost:8080/"
        },
        "id": "GmEkUmlfJFsW",
        "outputId": "5438ba62-f12e-4cfa-a1bf-b9563ee0c396"
      },
      "source": [
        "stoch_url = 'https://www.alphavantage.co/query?function=STOCH&symbol='+ticker+'&interval=daily&apikey=' + apikey\n",
        "print(stoch_url)\n",
        "stoch_api_response = pd.read_json(stoch_url)\n",
        "stoch_api_data = stoch_api_response['Technical Analysis: STOCH']\n",
        "#print(rsi_api_data)\n",
        "stoch_api_data = stoch_api_data.drop(\n",
        "    index=['1: Symbol','2: Indicator','3: Last Refreshed','4: Interval','5.1: FastK Period','5.2: SlowK Period','5.3: SlowK MA Type','5.4: SlowD Period','5.5: SlowD MA Type','6: Time Zone'])\n",
        "#print(stoch_api_data)\n",
        "stoch_data = []\n",
        "for key, value in stoch_api_data.items():\n",
        "  date = key\n",
        "  SlowD = float(value.get('SlowD'))\n",
        "  SlowK = float(value.get('SlowK'))\n",
        "  stoch_data.append([date,SlowD,SlowK])\n",
        "\n",
        "last_stoch_data =  str(stoch_data[0])\n",
        "first_stoch_data =  str(stoch_data[-1])\n",
        "print('stoch_data_length:', len(stoch_data), 'first_stoch_data:', first_stoch_data, 'last_stoch_data:', last_stoch_data)  "
      ],
      "execution_count": 588,
      "outputs": [
        {
          "output_type": "stream",
          "name": "stdout",
          "text": [
            "https://www.alphavantage.co/query?function=STOCH&symbol=AMZN&interval=daily&apikey=3F4URDEKOPLFH25T\n",
            "stoch_data_length: 5543 first_stoch_data: ['1999-11-11', 55.5506, 48.6638] last_stoch_data: ['2021-11-19', 71.8194, 76.7202]\n"
          ]
        }
      ]
    },
    {
      "cell_type": "code",
      "metadata": {
        "colab": {
          "base_uri": "https://localhost:8080/"
        },
        "id": "gTTORjJJ22lE",
        "outputId": "5bef43b3-9e73-48fb-c119-ec393aa64a2d"
      },
      "source": [
        "stock_url = 'https://www.alphavantage.co/query?function=TIME_SERIES_DAILY_ADJUSTED&symbol='+ticker+'&outputsize=full&apikey=' + apikey\n",
        "print(stock_url)\n",
        "stock_api_response = pd.read_json(stock_url)\n",
        "stock_api_data = stock_api_response['Time Series (Daily)']\n",
        "#print(stock_api_data)\n",
        "stock_api_data = stock_api_data.drop(index=['1. Information','2. Symbol','3. Last Refreshed','4. Output Size','5. Time Zone']);\n",
        "\n",
        "stock_data = []\n",
        "split_coefficient = 1\n",
        "\n",
        "for key, value in stock_api_data.items():\n",
        "  date = key\n",
        "  open = float(value.get('1. open'))\n",
        "  high = float(value.get('2. high'))\n",
        "  low = float(value.get('3. low'))\n",
        "  close = float(value.get('4. close'))\n",
        "  adjusted_close = float(value.get('5. adjusted close'))\n",
        "  volume = int(value.get('6. volume'))\n",
        "  divident = float(value.get('7. dividend amount'))\n",
        "\n",
        "  if float(value.get('8. split coefficient')) > 1:\n",
        "    split_coefficient = float(value.get('8. split coefficient'))\n",
        "    \n",
        "  open = open / split_coefficient\n",
        "  high = high /split_coefficient\n",
        "  close = close / split_coefficient\n",
        "  low = low / split_coefficient\n",
        "  \n",
        "  stock_data.append([\n",
        "      date,\n",
        "      close,\n",
        "      volume,\n",
        "      high,\n",
        "      low,\n",
        "      open,\n",
        "      divident\n",
        "      ])\n",
        "\n",
        "last_date =  str(stock_data[0][0])\n",
        "print('data length:', len(stock_data), 'last_date:', last_date)\n",
        "\n",
        "last_stock_data =  str(stock_data[0])\n",
        "first_stock_data =  str(stock_data[-1])\n",
        "print('stock_data_length:', len(stock_data), 'first_stock_data:', first_stock_data, 'last_stock_data:', last_stock_data)"
      ],
      "execution_count": 589,
      "outputs": [
        {
          "output_type": "stream",
          "name": "stdout",
          "text": [
            "https://www.alphavantage.co/query?function=TIME_SERIES_DAILY_ADJUSTED&symbol=AMZN&outputsize=full&apikey=3F4URDEKOPLFH25T\n",
            "data length: 5551 last_date: 2021-11-19\n",
            "stock_data_length: 5551 first_stock_data: ['1999-11-01', 69.13, 12824100, 71.88, 66.31, 68.06, 0.0] last_stock_data: ['2021-11-19', 3676.57, 4946203, 3762.145, 3675.72, 3712.69, 0.0]\n"
          ]
        }
      ]
    },
    {
      "cell_type": "code",
      "metadata": {
        "id": "GzJkdoRGuYmf",
        "colab": {
          "base_uri": "https://localhost:8080/"
        },
        "outputId": "20213bd5-54d8-4853-83b3-f66e4a0746a2"
      },
      "source": [
        "data_size = np.min([len(rsi_data), len(stoch_data), len(stock_data)])\n",
        "if max_data_size < data_size:\n",
        "  rsi_data = np.flip(rsi_data[:max_data_size],axis=0)\n",
        "  stoch_data = np.flip(stoch_data[:max_data_size],axis=0)\n",
        "  stock_data = np.flip(stock_data[:max_data_size],axis=0)\n",
        "else:\n",
        "  rsi_data = np.flip(rsi_data[:data_size],axis=0)\n",
        "  stoch_data = np.flip(stoch_data[:data_size],axis=0)\n",
        "  stock_data = np.flip(stock_data[:data_size],axis=0)\n",
        "\n",
        "dates = stock_data[:,0]\n",
        "\n",
        "rsi_array = rsi_data[:,1]\n",
        "stoch_slowD_array = stoch_data[:,1]\n",
        "stoch_slowK_array = stoch_data[:,2]\n",
        "#np.expand_dims(dates, axis=1)[:10]\n",
        "\n",
        "indicators_lstm_data = np.expand_dims(rsi_array, axis=1).astype(float)\n",
        "indicators_lstm_data = np.append(indicators_lstm_data, np.expand_dims(stoch_slowD_array, axis=1),axis=1).astype(float)\n",
        "indicators_lstm_data = np.append(indicators_lstm_data, np.expand_dims(stoch_slowK_array, axis=1),axis=1).astype(float)\n",
        "#lstm_data = np.reshape(lstm_data, (-1, 2))\n",
        "indicators_lstm_data[:10]"
      ],
      "execution_count": 590,
      "outputs": [
        {
          "output_type": "execute_result",
          "data": {
            "text/plain": [
              "array([[ 70.249100000000,  68.599800000000,  83.468500000000],\n",
              "       [ 80.542200000000,  81.691400000000,  88.854800000000],\n",
              "       [ 52.213100000000,  85.350000000000,  83.726500000000],\n",
              "       [ 76.343300000000,  84.986600000000,  82.378500000000],\n",
              "       [ 84.695800000000,  83.335300000000,  83.900900000000],\n",
              "       [ 87.900900000000,  85.978700000000,  91.656700000000],\n",
              "       [ 88.286900000000,  89.433400000000,  92.742700000000],\n",
              "       [ 83.769600000000,  91.272700000000,  89.418600000000],\n",
              "       [ 60.897300000000,  86.977100000000,  78.769900000000],\n",
              "       [ 37.808600000000,  75.281400000000,  57.655700000000]])"
            ]
          },
          "metadata": {},
          "execution_count": 590
        }
      ]
    },
    {
      "cell_type": "code",
      "metadata": {
        "id": "xHrOFKHo3ocW"
      },
      "source": [
        "stock_df = pd.DataFrame(stock_data,columns=['Date','Close','Volume','High','Low','Open','Divident'])\n",
        "stock_df['50MA'] = stock_df['Close'].rolling(50).mean()\n",
        "stock_df['100MA'] = stock_df['Close'].rolling(100).mean()\n",
        "stock_df['200MA'] = stock_df['Close'].rolling(200).mean()"
      ],
      "execution_count": 591,
      "outputs": []
    },
    {
      "cell_type": "code",
      "metadata": {
        "id": "OYTx2W6N4JIM"
      },
      "source": [
        "indicators_df = pd.DataFrame(rsi_data,columns=['Date','RSI'])\n",
        "\n",
        "split = int(split_percent*len(rsi_data))\n",
        "if len(rsi_data) - split < look_back:\n",
        "  split = look_back\n",
        "split\n",
        "\n",
        "\n",
        "indicators_df_train = indicators_df.iloc[:split]\n",
        "indicators_df_test = indicators_df.iloc[split:]\n",
        "\n",
        "indicators_lstm_train_data = indicators_lstm_data[:split]\n",
        "indicators_lstm_test_data = indicators_lstm_data[split:]"
      ],
      "execution_count": 592,
      "outputs": []
    },
    {
      "cell_type": "code",
      "metadata": {
        "id": "5oRtthul4Pyj"
      },
      "source": [
        "np.set_printoptions(formatter={'float': '{: 0.12f}'.format})\n",
        "\n",
        "indicators_scaler = MinMaxScaler(feature_range=(0, 1))\n",
        "indicators_scaler = indicators_scaler.fit(indicators_lstm_data)\n",
        "\n",
        "indicators_lstm_train_data_scaled = indicators_scaler.transform(indicators_lstm_train_data)\n",
        "if print_level >= TRACE:\n",
        "  print(indicators_lstm_train_data_scaled[:look_back+1])\n",
        "  print(indicators_lstm_train_data_scaled.shape)\n",
        "\n",
        "indicators_lstm_test_data_scaled = indicators_scaler.transform(indicators_lstm_test_data)\n",
        "if print_level >= TRACE:\n",
        "  print(indicators_lstm_test_data_scaled[:look_back+1])\n",
        "  print(indicators_lstm_test_data_scaled.shape)"
      ],
      "execution_count": 593,
      "outputs": []
    },
    {
      "cell_type": "code",
      "metadata": {
        "id": "Cmmqy0nc4Slr"
      },
      "source": [
        "indicators_train_generator = TimeseriesGenerator(indicators_lstm_train_data_scaled, indicators_lstm_train_data_scaled, sampling_rate=1, length=look_back, batch_size=64)\n",
        "\n",
        "if print_level >= TRACE:\n",
        "  print('Samples: %d' % len(indicators_train_generator))\n",
        "  # print each sample\n",
        "  for i in range(2):\n",
        "    x, y = indicators_train_generator[i]\n",
        "    print('%s => %s' % (x, y))"
      ],
      "execution_count": 594,
      "outputs": []
    },
    {
      "cell_type": "code",
      "metadata": {
        "id": "xFQnXfRp6tVP",
        "colab": {
          "base_uri": "https://localhost:8080/"
        },
        "outputId": "746fb2e8-af3e-4ca7-983f-ca5a9b2bb8df"
      },
      "source": [
        "indicators_model = None\n",
        "try:\n",
        "  indicators_model = keras.models.load_model(indicators_model_file_path)\n",
        "  modified = os.path.getmtime(indicators_model_file_path)\n",
        "\n",
        "  print(pd.to_datetime(last_date).date() - datetime.fromtimestamp(modified).date() )\n",
        "  print('Loaded', indicators_model_file_path , ' model train date:',datetime.fromtimestamp(modified).date() , 'last date:', last_date)\n",
        "except:\n",
        "  indicators_model = None\n",
        "  print('Model ' + indicators_model_file_path + ' does not exists.')"
      ],
      "execution_count": 595,
      "outputs": [
        {
          "output_type": "stream",
          "name": "stdout",
          "text": [
            "Model /content/drive/MyDrive/models/AMZN_3_indicators_08.h5 does not exists.\n"
          ]
        }
      ]
    },
    {
      "cell_type": "code",
      "metadata": {
        "id": "r59DQEiZ0u18",
        "colab": {
          "base_uri": "https://localhost:8080/"
        },
        "outputId": "6c4a9efd-37b8-493f-d466-101e516a1f32"
      },
      "source": [
        "if indicators_model is None:\n",
        "  indicators_model = Sequential()\n",
        "  indicators_model.add(LSTM(units=50, activation='tanh', input_shape=(look_back, nr_of_features), return_sequences=True))\n",
        "  indicators_model.add(Dropout(0.2))\n",
        "  indicators_model.add(LSTM(units=50, return_sequences=True, activation=\"tanh\"))\n",
        "  indicators_model.add(Dropout(0.2))\n",
        "  indicators_model.add(LSTM(units=50, return_sequences=True, activation=\"tanh\"))\n",
        "  indicators_model.add(Dropout(0.2))\n",
        "  indicators_model.add(LSTM(units=50, activation=\"tanh\"))\n",
        "  indicators_model.add(Dropout(0.2))\n",
        "  indicators_model.add(Dense(nr_of_features))\n",
        "\n",
        "  indicators_model.compile(\n",
        "      loss=MAE,\n",
        "      optimizer=Adam(learning_rate=learning_rate),\n",
        "      metrics=[\"mae\"]\n",
        "  )\n",
        "    \n",
        "  #model.summary()\n",
        "  print('Model ' + indicators_model_file_path + ' compiled.')\n",
        "\n",
        "  indicators_modelo = indicators_model.fit(indicators_train_generator, epochs=epochs, verbose=0 )\n",
        "  \n",
        "  indicators_model.save(indicators_model_file_path)\n",
        "  print('Saved model ' + indicators_model_file_path)\n",
        "\n",
        "  if print_level >= DEBUG:\n",
        "    plt.plot(indicators_modelo.history['loss'])\n",
        "    plt.xlabel('Epochs')\n",
        "    plt.ylabel('Loss')\n",
        "    plt.show()"
      ],
      "execution_count": 596,
      "outputs": [
        {
          "output_type": "stream",
          "name": "stdout",
          "text": [
            "Model /content/drive/MyDrive/models/AMZN_3_indicators_08.h5 compiled.\n",
            "Saved model /content/drive/MyDrive/models/AMZN_3_indicators_08.h5\n"
          ]
        }
      ]
    },
    {
      "cell_type": "code",
      "metadata": {
        "colab": {
          "base_uri": "https://localhost:8080/"
        },
        "id": "xkdpY8eE4XlZ",
        "outputId": "02288e4b-6ac0-478d-82cb-d593d9ea229f"
      },
      "source": [
        "indicators_test_generator = TimeseriesGenerator(indicators_lstm_test_data_scaled, indicators_lstm_test_data_scaled,sampling_rate=1, length=look_back, batch_size=look_back)\n",
        "\n",
        "print('Samples: %d' % len(indicators_test_generator))\n",
        "# print each sample\n",
        "if print_level >= TRACE:\n",
        "  for i in range(2):\n",
        "    x, y = indicators_test_generator[i]\n",
        "    print('%s => %s' % (x, y))"
      ],
      "execution_count": 597,
      "outputs": [
        {
          "output_type": "stream",
          "name": "stdout",
          "text": [
            "Samples: 24\n"
          ]
        }
      ]
    },
    {
      "cell_type": "code",
      "metadata": {
        "id": "WAS1RHA1Mn10"
      },
      "source": [
        "#Make prediction\n",
        "indicators_prediction_scaled = indicators_model.predict(indicators_test_generator)\n",
        "\n",
        "if print_level >= DEBUG:\n",
        "  np.set_printoptions(formatter={'float': '{: 0.12f}'.format})\n",
        "  print(indicators_prediction_scaled[:5])\n",
        "\n",
        "indicators_prediction = indicators_scaler.inverse_transform(indicators_prediction_scaled)\n",
        "if nr_of_features == 1:\n",
        "   rsi_prediction = indicators_prediction.reshape((-1))\n",
        "else:\n",
        "  rsi_prediction = indicators_prediction[:,0].reshape((-1))\n",
        "\n",
        "\n",
        "if print_level >= DEBUG:\n",
        "  np.set_printoptions(formatter={'float': '{: 0.2f}'.format})\n",
        "  print('indicators_prediction shape:',indicators_prediction.shape)\n",
        "\n",
        "  for x in range(look_back + 1):\n",
        "    print('pred:',indicators_prediction[x], 'test:', indicators_lstm_test_data[x])\n"
      ],
      "execution_count": 598,
      "outputs": []
    },
    {
      "cell_type": "code",
      "metadata": {
        "colab": {
          "base_uri": "https://localhost:8080/"
        },
        "id": "ae72DYdyd0zp",
        "outputId": "53f0fede-bc62-4cdc-9fb3-36d6fa05c8f3"
      },
      "source": [
        "def predict(num_prediction, model):\n",
        "    prediction_list = indicators_lstm_test_data_scaled[-look_back:]\n",
        "    #print('prediction_list',prediction_list)\n",
        "    for _ in range(num_prediction):\n",
        "        x = prediction_list[-look_back:]\n",
        "        #print(x)\n",
        "        x = x.reshape((1, look_back, nr_of_features))\n",
        "        out = model.predict(x)\n",
        "        #print(x,out) \n",
        "        prediction_list = np.append(prediction_list, out, axis=0)\n",
        "    prediction_list = prediction_list[look_back-1:]\n",
        "        \n",
        "    return prediction_list\n",
        "    \n",
        "def predict_dates(last_date,num_prediction):\n",
        "    us_bd = CustomBusinessDay(calendar=USFederalHolidayCalendar())\n",
        "    prediction_dates = pd.date_range(last_date, periods=num_prediction+1,freq=us_bd).tolist()\n",
        "    return prediction_dates\n",
        "\n",
        "indicators_forecast_scaled = predict(num_prediction, indicators_model)\n",
        "#print(forecast_scaled)\n",
        "indicators_forecast_dates = predict_dates(indicators_df['Date'].values[-1],num_prediction)\n",
        "\n",
        "indicators_forecast = indicators_scaler.inverse_transform(indicators_forecast_scaled.reshape((-1,nr_of_features)))\n",
        "if nr_of_features == 1:\n",
        "   rsi_forecast = indicators_forecast.reshape((-1))\n",
        "else:\n",
        "  rsi_forecast = indicators_forecast[:,0].reshape((-1))\n",
        "print('indicators_forecast:',indicators_forecast)\n",
        "print('rsi_forecast:',rsi_forecast)"
      ],
      "execution_count": 599,
      "outputs": [
        {
          "output_type": "stream",
          "name": "stdout",
          "text": [
            "indicators_forecast: [[ 80.616900000000  71.819400000000  76.720200000000]\n",
            " [ 76.286630186570  76.867093877840  77.802184939146]\n",
            " [ 79.095715957355  77.013329422998  76.272854435682]\n",
            " [ 78.336055566561  77.169710320985  77.026206546175]\n",
            " [ 76.161232625878  77.448673478961  77.861827073956]\n",
            " [ 76.088781092423  77.979730584788  78.496613296556]\n",
            " [ 76.262719833302  78.906576917171  79.460495123625]\n",
            " [ 76.008503926444  79.999200514591  80.726908882761]\n",
            " [ 76.150454808629  81.210268618393  82.054873149538]\n",
            " [ 76.733347281516  82.548318618929  83.459227167869]\n",
            " [ 77.506784534359  83.914735801148  84.862824417663]\n",
            " [ 78.415940279412  85.184397638607  86.086299788094]\n",
            " [ 79.347846590877  86.259930742335  87.027023401177]]\n",
            "rsi_forecast: [ 80.616900000000  76.286630186570  79.095715957355  78.336055566561\n",
            "  76.161232625878  76.088781092423  76.262719833302  76.008503926444\n",
            "  76.150454808629  76.733347281516  77.506784534359  78.415940279412\n",
            "  79.347846590877]\n"
          ]
        }
      ]
    },
    {
      "cell_type": "code",
      "metadata": {
        "colab": {
          "base_uri": "https://localhost:8080/",
          "height": 667
        },
        "id": "dnqEqJioguwy",
        "outputId": "e7a75cfd-614b-43c2-8991-5d87fdf246a2"
      },
      "source": [
        "chart_days = len(indicators_df_test) * 2\n",
        "trace1 = go.Candlestick(\n",
        "    x = stock_df.tail(chart_days)['Date'],\n",
        "    open = stock_df.tail(chart_days)['Open'],\n",
        "    high = stock_df.tail(chart_days)['High'],\n",
        "    low = stock_df.tail(chart_days)['Low'],\n",
        "    close = stock_df.tail(chart_days)['Close'],\n",
        "    name = ticker + ' Price'\n",
        ")\n",
        "\n",
        "trace2 = go.Scatter(\n",
        "    x = stock_df.tail(chart_days)['Date'],\n",
        "    y = stock_df.tail(chart_days)['50MA'],\n",
        "    mode='lines',\n",
        "    name ='50MA'\n",
        ")\n",
        "\n",
        "trace3 = go.Scatter(\n",
        "    x = stock_df.tail(chart_days)['Date'],\n",
        "    y = stock_df.tail(chart_days)['100MA'],\n",
        "    mode='lines',\n",
        "    name ='100MA'\n",
        ")\n",
        "\n",
        "trace4 = go.Scatter(\n",
        "    x = stock_df.tail(chart_days)['Date'],\n",
        "    y = stock_df.tail(chart_days)['200MA'],\n",
        "    mode='lines',\n",
        "    name ='200MA'\n",
        ")\n",
        "\n",
        "\n",
        "#'Date','Close','Volume','High','Low','Open','Divident'\n",
        "open_price =  str(stock_data[-1][5])\n",
        "low_price =  str(stock_data[-1][3])\n",
        "high_price =  str(stock_data[-1][4])\n",
        "close_price =  str(stock_data[-1][1])\n",
        "rsi_forecast_mean = np.round(np.mean(rsi_forecast))\n",
        "\n",
        "go.Layout(\n",
        "    title = ticker + ' Date:' + last_date + ' Open:' + open_price + ' High:' + high_price + ' Low:' + low_price + ' Close:' + close_price,\n",
        "    xaxis = {'title' : \"Dates\"},\n",
        "    yaxis = {'title' : \"Close Price ($)\"},\n",
        "    height = 450\n",
        ")\n",
        "\n",
        "trace_train = go.Scatter(\n",
        "  x = indicators_df_train.tail(len(indicators_df_test))['Date'],\n",
        "  y = indicators_df_train.tail(len(indicators_df_test))['RSI'],\n",
        "  mode='lines',\n",
        "  name ='RSI'\n",
        ")\n",
        "\n",
        "trace_test = go.Scatter(\n",
        "  x = indicators_df_test['Date'],\n",
        "  y = indicators_df_test['RSI'],\n",
        "  mode='markers+lines',\n",
        "  name ='Test'\n",
        ")\n",
        "\n",
        "trace_prediction = go.Scatter(\n",
        "    x = indicators_df_test['Date'],\n",
        "    y = rsi_prediction,\n",
        "    mode='markers+lines',\n",
        "    name ='Prediction'\n",
        ")\n",
        "\n",
        "trace_forecast = go.Scatter(\n",
        "    x = indicators_forecast_dates,\n",
        "    y = rsi_forecast,\n",
        "    mode='markers+lines',\n",
        "    name ='Forecast'\n",
        ")\n",
        "\n",
        "\n",
        "tradingview_link = '<a href=\"https://in.tradingview.com/chart/66XmQfYy/?symbol=' + ticker +'\">' + ticker +'</a>'\n",
        "stock_title = tradingview_link + ' Date:' + last_date + ' Open:' + open_price + ' High:' + high_price + ' Low:' + low_price + ' Close:' + close_price\n",
        "indicators_title = tradingview_link + ' RSI('+ str(look_back)+ ') Date:' + last_date + ' Close:' + indicators_df['RSI'].iloc[-1] + ' Forecast('+str(look_back)+'):' + str(rsi_forecast_mean)\n",
        "\n",
        "fig = make_subplots(rows=2, cols=1, row_heights=[0.6, 0.4], subplot_titles=(stock_title, indicators_title))\n",
        "\n",
        "\n",
        "fig.add_trace(trace1,row=1, col=1)\n",
        "fig.add_trace(trace2,row=1, col=1)\n",
        "fig.add_trace(trace3,row=1, col=1)\n",
        "fig.add_trace(trace4,row=1, col=1)\n",
        "\n",
        "fig.add_trace(trace_train,row=2, col=1)\n",
        "fig.add_trace(trace_test,row=2, col=1)\n",
        "fig.add_trace(trace_prediction,row=2, col=1)\n",
        "fig.add_trace(trace_forecast,row=2, col=1)\n",
        "\n",
        "fig.add_trace(go.Scatter(\n",
        "        x = [indicators_df_train.tail(len(indicators_df_test))['Date'].min(), np.max(indicators_forecast_dates)],\n",
        "        y = [70, 70],\n",
        "        mode = \"lines\",\n",
        "        line = dict(shape = 'linear', color = 'rgb(100, 10, 100)', dash = 'dash')\n",
        "    ),row=2, col=1)\n",
        "\n",
        "fig.add_trace(go.Scatter(\n",
        "        x = [indicators_df_train.tail(len(indicators_df_test))['Date'].min(), np.max(indicators_forecast_dates)],\n",
        "        y = [50, 50],\n",
        "        mode = \"lines\",\n",
        "        line = dict(shape = 'linear', color = 'rgb(10, 12, 240)', dash = 'dash')\n",
        "    ),row=2, col=1)\n",
        "\n",
        "fig.add_trace(go.Scatter(\n",
        "        x = [indicators_df_train.tail(len(indicators_df_test))['Date'].min(), np.max(indicators_forecast_dates)],\n",
        "        y = [30, 30],\n",
        "        mode = \"lines\",\n",
        "        line = dict(shape = 'linear', color = 'rgb(10, 120, 24)', dash = 'dash')\n",
        "    ),row=2, col=1)\n",
        "\n",
        "fig.update_yaxes(showspikes=True, spikemode='across', spikesnap='cursor',spikedash='dash')\n",
        "fig.update_xaxes(showspikes=True, spikemode='across', spikesnap='cursor', spikedash='dash')\n",
        "fig.update_layout(xaxis_rangeslider_visible=False,height=650)\n",
        "\n",
        "fig.show()\n",
        "Path('/content/drive/MyDrive/models/charts/'+ last_date).mkdir(parents=True, exist_ok=True)\n",
        "fig.write_html('/content/drive/MyDrive/models/charts/'+ last_date+ '/' + ticker + '_' + str(look_back) + '_08_inidicators_forecast.html')"
      ],
      "execution_count": 600,
      "outputs": [
        {
          "output_type": "display_data",
          "data": {
            "text/html": [
              "<html>\n",
              "<head><meta charset=\"utf-8\" /></head>\n",
              "<body>\n",
              "    <div>\n",
              "            <script src=\"https://cdnjs.cloudflare.com/ajax/libs/mathjax/2.7.5/MathJax.js?config=TeX-AMS-MML_SVG\"></script><script type=\"text/javascript\">if (window.MathJax) {MathJax.Hub.Config({SVG: {font: \"STIX-Web\"}});}</script>\n",
              "                <script type=\"text/javascript\">window.PlotlyConfig = {MathJaxConfig: 'local'};</script>\n",
              "        <script src=\"https://cdn.plot.ly/plotly-latest.min.js\"></script>    \n",
              "            <div id=\"b1d3ec0f-258e-4b6f-a96e-583fdd8846ea\" class=\"plotly-graph-div\" style=\"height:650px; width:100%;\"></div>\n",
              "            <script type=\"text/javascript\">\n",
              "                \n",
              "                    window.PLOTLYENV=window.PLOTLYENV || {};\n",
              "                    \n",
              "                if (document.getElementById(\"b1d3ec0f-258e-4b6f-a96e-583fdd8846ea\")) {\n",
              "                    Plotly.newPlot(\n",
              "                        'b1d3ec0f-258e-4b6f-a96e-583fdd8846ea',\n",
              "                        [{\"close\": [\"3417.43\", \"3458.5\", \"3471.31\", \"3467.42\", \"3386.49\", \"3311.87\", \"3270.54\", \"3306.37\", \"3291.61\", \"3190.49\", \"3223.91\", \"3151.94\", \"3161.47\", \"3222.9\", \"3270.39\", \"3232.28\", \"3231.8\", \"3247.68\", \"3203.08\", \"3244.99\", \"3259.05\", \"3265.16\", \"3230.11\", \"3223.07\", \"3218.65\", \"3233.99\", \"3187.01\", \"3206.22\", \"3198.01\", \"3264.11\", \"3281.15\", \"3349.65\", \"3346.83\", \"3383.87\", \"3383.13\", \"3415.25\", \"3489.24\", \"3486.9\", \"3453.96\", \"3505.44\", \"3503.82\", \"3449.08\", \"3401.46\", \"3443.89\", \"3448.14\", \"3440.16\", \"3432.97\", \"3510.98\", \"3675.74\", \"3696.58\", \"3731.41\", \"3719.34\", \"3718.55\", \"3677.36\", \"3681.68\", \"3631.2\", \"3573.63\", \"3549.59\", \"3573.19\", \"3585.2\", \"3638.03\", \"3656.64\", \"3699.82\", \"3626.39\", \"3630.32\", \"3599.92\", \"3327.59\", \"3331.48\", \"3366.24\", \"3354.72\", \"3375.99\", \"3344.94\", \"3341.87\", \"3320.68\", \"3292.11\", \"3303.5\", \"3293.97\", \"3298.99\", \"3241.96\", \"3201.22\", \"3187.75\", \"3199.95\", \"3265.87\", \"3305.78\", \"3299.18\", \"3316.0\", \"3349.63\", \"3421.57\", \"3470.79\", \"3479.0\", \"3463.12\", \"3478.05\", \"3509.29\", \"3525.5\", \"3484.16\", \"3469.15\", \"3457.17\", \"3450.0\", \"3475.79\", \"3488.24\", \"3462.52\", \"3355.73\", \"3343.63\", \"3380.05\", \"3416.0\", \"3425.52\", \"3405.8\", \"3315.96\", \"3301.12\", \"3285.04\", \"3283.26\", \"3189.78\", \"3221.0\", \"3262.01\", \"3302.43\", \"3288.62\", \"3246.3\", \"3247.33\", \"3284.28\", \"3299.86\", \"3409.02\", \"3446.74\", \"3444.15\", \"3415.06\", \"3435.01\", \"3335.55\", \"3320.37\", \"3376.07\", \"3392.49\", \"3446.57\", \"3372.43\", \"3318.11\", \"3312.75\", \"3384.0\", \"3477.0\", \"3518.99\", \"3488.98\", \"3576.23\", \"3482.05\", \"3472.5\", \"3525.15\", \"3545.68\", \"3540.7\", \"3549.0\", \"3696.06\", \"3676.57\"], \"high\": [\"3460.0\", \"3489.88\", \"3514.445\", \"3554.0\", \"3486.645\", \"3367.975\", \"3354.695\", \"3314.4\", \"3330.89\", \"3283.0\", \"3238.0\", \"3207.94\", \"3203.84\", \"3228.86\", \"3292.75\", \"3312.0\", \"3234.75\", \"3259.6799\", \"3256.6946\", \"3257.95\", \"3279.82\", \"3295.73\", \"3260.355\", \"3247.99\", \"3250.98\", \"3235.0\", \"3214.435\", \"3221.0\", \"3208.0\", \"3279.5321\", \"3297.58\", \"3351.0\", \"3366.58\", \"3385.0\", \"3396.9866\", \"3426.35\", \"3497.2\", \"3507.0\", \"3482.0\", \"3523.78\", \"3521.0\", \"3524.8599\", \"3464.82\", \"3448.0\", \"3456.03\", \"3471.6019\", \"3457.0\", \"3511.72\", \"3685.48\", \"3734.2\", \"3759.9855\", \"3748.0\", \"3757.2899\", \"3773.0782\", \"3717.66\", \"3695.4\", \"3646.0599\", \"3550.21\", \"3592.0\", \"3586.45\", \"3640.02\", \"3666.11\", \"3712.08\", \"3698.5\", \"3658.4204\", \"3637.95\", \"3368.14\", \"3358.92\", \"3391.0\", \"3388.88\", \"3389.0\", \"3375.0\", \"3354.88\", \"3358.0\", \"3337.7\", \"3314.51\", \"3306.065\", \"3300.0\", \"3280.49\", \"3254.0975\", \"3233.0\", \"3207.81\", \"3280.9\", \"3315.4942\", \"3321.0\", \"3332.0\", \"3352.32\", \"3445.0\", \"3472.58\", \"3527.0\", \"3511.9608\", \"3482.67\", \"3528.09\", \"3545.63\", \"3549.99\", \"3508.45\", \"3497.96\", \"3486.806\", \"3485.42\", \"3492.55\", \"3497.41\", \"3419.0\", \"3379.7\", \"3389.0\", \"3428.96\", \"3429.26\", \"3415.57\", \"3369.19\", \"3351.3\", \"3327.85\", \"3309.1746\", \"3279.99\", \"3260.73\", \"3264.34\", \"3325.746\", \"3321.43\", \"3292.5899\", \"3267.528\", \"3288.38\", \"3312.6\", \"3410.42\", \"3449.17\", \"3454.69\", \"3462.86\", \"3440.28\", \"3429.84\", \"3347.7997\", \"3416.12\", \"3437.0\", \"3479.0\", \"3374.82\", \"3375.86\", \"3331.115\", \"3394.92\", \"3498.625\", \"3566.25\", \"3579.0\", \"3593.77\", \"3605.45\", \"3543.24\", \"3540.7262\", \"3593.88\", \"3576.5\", \"3587.245\", \"3704.2\", \"3762.145\"], \"low\": [\"3398.01\", \"3425.0\", \"3435.0\", \"3462.5\", \"3372.7012\", \"3272.13\", \"3264.36\", \"3247.2\", \"3289.0704\", \"3190.0\", \"3127.37\", \"3133.1\", \"3133.0\", \"3183.0\", \"3234.59\", \"3230.37\", \"3184.0\", \"3236.18\", \"3197.01\", \"3210.4993\", \"3213.76\", \"3258.51\", \"3230.04\", \"3219.7\", \"3209.06\", \"3208.0\", \"3184.03\", \"3198.81\", \"3172.2\", \"3218.01\", \"3270.7\", \"3281.15\", \"3333.45\", \"3335.5\", \"3363.1101\", \"3360.53\", \"3401.0\", \"3473.71\", \"3434.0\", \"3456.09\", \"3483.2\", \"3430.85\", \"3394.18\", \"3413.5098\", \"3423.03\", \"3435.0\", \"3409.4206\", \"3436.92\", \"3529.0\", \"3678.91\", \"3621.12\", \"3693.3968\", \"3696.7929\", \"3671.32\", \"3660.8266\", \"3620.92\", \"3570.455\", \"3499.16\", \"3518.0\", \"3543.6415\", \"3582.27\", \"3622.04\", \"3647.25\", \"3586.15\", \"3601.0\", \"3580.01\", \"3306.98\", \"3317.0\", \"3299.77\", \"3345.56\", \"3340.92\", \"3329.0373\", \"3328.52\", \"3315.0\", \"3277.79\", \"3269.67\", \"3283.0\", \"3211.13\", \"3225.68\", \"3200.0\", \"3182.4637\", \"3175.76\", \"3210.005\", \"3274.58\", \"3286.15\", \"3296.0\", \"3313.75\", \"3355.22\", \"3395.59\", \"3475.24\", \"3455.0\", \"3436.44\", \"3476.94\", \"3495.67\", \"3480.37\", \"3462.9055\", \"3438.0001\", \"3437.7104\", \"3402.01\", \"3446.1432\", \"3452.13\", \"3305.01\", \"3332.39\", \"3341.05\", \"3380.05\", \"3393.4\", \"3339.61\", \"3290.1001\", \"3297.87\", \"3273.99\", \"3255.94\", \"3176.25\", \"3202.464\", \"3198.62\", \"3283.06\", \"3288.2\", \"3238.1\", \"3236.28\", \"3261.0889\", \"3290.78\", \"3304.0\", \"3385.1\", \"3422.0\", \"3400.37\", \"3403.0\", \"3331.3\", \"3297.7\", \"3343.98\", \"3371.4534\", \"3386.0\", \"3273.32\", \"3292.02\", \"3283.55\", \"3297.52\", \"3365.0001\", \"3476.98\", \"3487.86\", \"3501.425\", \"3463.09\", \"3467.47\", \"3447.05\", \"3525.81\", \"3525.1466\", \"3545.35\", \"3561.0\", \"3675.72\"], \"name\": \"AMZN Price\", \"open\": [\"3443.47\", \"3434.8\", \"3505.0981\", \"3525.12\", \"3484.73\", \"3356.19\", \"3338.855\", \"3270.0\", \"3319.09\", \"3282.32\", \"3136.28\", \"3185.0\", \"3185.47\", \"3185.56\", \"3245.93\", \"3292.575\", \"3195.0\", \"3244.4042\", \"3250.0\", \"3215.5\", \"3266.67\", \"3274.5905\", \"3256.0\", \"3242.0\", \"3243.495\", \"3223.1\", \"3204.23\", \"3212.0\", \"3197.33\", \"3222.61\", \"3272.87\", \"3282.01\", \"3349.65\", \"3346.83\", \"3384.0\", \"3392.0\", \"3403.18\", \"3479.99\", \"3476.42\", \"3458.06\", \"3505.0\", \"3507.64\", \"3464.0\", \"3416.0\", \"3438.82\", \"3441.06\", \"3434.61\", \"3451.64\", \"3530.11\", \"3717.3772\", \"3643.56\", \"3722.52\", \"3744.0\", \"3702.1\", \"3708.85\", \"3694.2\", \"3633.31\", \"3532.58\", \"3567.32\", \"3576.375\", \"3587.23\", \"3640.0\", \"3673.17\", \"3698.5\", \"3633.78\", \"3627.75\", \"3347.95\", \"3353.1\", \"3340.72\", \"3379.35\", \"3356.22\", \"3375.0\", \"3343.61\", \"3345.01\", \"3331.4469\", \"3290.0\", \"3305.67\", \"3283.0\", \"3277.5\", \"3241.99\", \"3194.02\", \"3203.8725\", \"3211.9\", \"3280.0\", \"3309.87\", \"3299.0\", \"3333.23\", \"3357.425\", \"3424.8\", \"3496.396\", \"3494.76\", \"3452.0\", \"3478.0\", \"3511.65\", \"3526.02\", \"3501.8308\", \"3482.8\", \"3475.55\", \"3442.52\", \"3459.96\", \"3488.4146\", \"3396.0\", \"3375.0\", \"3351.0\", \"3380.05\", \"3402.01\", \"3371.5\", \"3357.71\", \"3322.11\", \"3316.0\", \"3289.01\", \"3279.39\", \"3204.5\", \"3213.53\", \"3291.54\", \"3317.0\", \"3275.0\", \"3257.0\", \"3269.71\", \"3302.4541\", \"3311.42\", \"3388.3576\", \"3434.29\", \"3452.66\", \"3414.25\", \"3421.0\", \"3335.0\", \"3349.51\", \"3388.0\", \"3402.095\", \"3300.02\", \"3361.8\", \"3315.01\", \"3309.0\", \"3370.0\", \"3477.0\", \"3523.24\", \"3515.25\", \"3563.87\", \"3513.0\", \"3485.0\", \"3537.0\", \"3539.0\", \"3564.72\", \"3566.35\", \"3712.69\"], \"type\": \"candlestick\", \"x\": [\"2021-04-27\", \"2021-04-28\", \"2021-04-29\", \"2021-04-30\", \"2021-05-03\", \"2021-05-04\", \"2021-05-05\", \"2021-05-06\", \"2021-05-07\", \"2021-05-10\", \"2021-05-11\", \"2021-05-12\", \"2021-05-13\", \"2021-05-14\", \"2021-05-17\", \"2021-05-18\", \"2021-05-19\", \"2021-05-20\", \"2021-05-21\", \"2021-05-24\", \"2021-05-25\", \"2021-05-26\", \"2021-05-27\", \"2021-05-28\", \"2021-06-01\", \"2021-06-02\", \"2021-06-03\", \"2021-06-04\", \"2021-06-07\", \"2021-06-08\", \"2021-06-09\", \"2021-06-10\", \"2021-06-11\", \"2021-06-14\", \"2021-06-15\", \"2021-06-16\", \"2021-06-17\", \"2021-06-18\", \"2021-06-21\", \"2021-06-22\", \"2021-06-23\", \"2021-06-24\", \"2021-06-25\", \"2021-06-28\", \"2021-06-29\", \"2021-06-30\", \"2021-07-01\", \"2021-07-02\", \"2021-07-06\", \"2021-07-07\", \"2021-07-08\", \"2021-07-09\", \"2021-07-12\", \"2021-07-13\", \"2021-07-14\", \"2021-07-15\", \"2021-07-16\", \"2021-07-19\", \"2021-07-20\", \"2021-07-21\", \"2021-07-22\", \"2021-07-23\", \"2021-07-26\", \"2021-07-27\", \"2021-07-28\", \"2021-07-29\", \"2021-07-30\", \"2021-08-02\", \"2021-08-03\", \"2021-08-04\", \"2021-08-05\", \"2021-08-06\", \"2021-08-09\", \"2021-08-10\", \"2021-08-11\", \"2021-08-12\", \"2021-08-13\", \"2021-08-16\", \"2021-08-17\", \"2021-08-18\", \"2021-08-19\", \"2021-08-20\", \"2021-08-23\", \"2021-08-24\", \"2021-08-25\", \"2021-08-26\", \"2021-08-27\", \"2021-08-30\", \"2021-08-31\", \"2021-09-01\", \"2021-09-02\", \"2021-09-03\", \"2021-09-07\", \"2021-09-08\", \"2021-09-09\", \"2021-09-10\", \"2021-09-13\", \"2021-09-14\", \"2021-09-15\", \"2021-09-16\", \"2021-09-17\", \"2021-09-20\", \"2021-09-21\", \"2021-09-22\", \"2021-09-23\", \"2021-09-24\", \"2021-09-27\", \"2021-09-28\", \"2021-09-29\", \"2021-09-30\", \"2021-10-01\", \"2021-10-04\", \"2021-10-05\", \"2021-10-06\", \"2021-10-07\", \"2021-10-08\", \"2021-10-11\", \"2021-10-12\", \"2021-10-13\", \"2021-10-14\", \"2021-10-15\", \"2021-10-18\", \"2021-10-19\", \"2021-10-20\", \"2021-10-21\", \"2021-10-22\", \"2021-10-25\", \"2021-10-26\", \"2021-10-27\", \"2021-10-28\", \"2021-10-29\", \"2021-11-01\", \"2021-11-02\", \"2021-11-03\", \"2021-11-04\", \"2021-11-05\", \"2021-11-08\", \"2021-11-09\", \"2021-11-10\", \"2021-11-11\", \"2021-11-12\", \"2021-11-15\", \"2021-11-16\", \"2021-11-17\", \"2021-11-18\", \"2021-11-19\"], \"xaxis\": \"x\", \"yaxis\": \"y\"}, {\"mode\": \"lines\", \"name\": \"50MA\", \"type\": \"scatter\", \"x\": [\"2021-04-27\", \"2021-04-28\", \"2021-04-29\", \"2021-04-30\", \"2021-05-03\", \"2021-05-04\", \"2021-05-05\", \"2021-05-06\", \"2021-05-07\", \"2021-05-10\", \"2021-05-11\", \"2021-05-12\", \"2021-05-13\", \"2021-05-14\", \"2021-05-17\", \"2021-05-18\", \"2021-05-19\", \"2021-05-20\", \"2021-05-21\", \"2021-05-24\", \"2021-05-25\", \"2021-05-26\", \"2021-05-27\", \"2021-05-28\", \"2021-06-01\", \"2021-06-02\", \"2021-06-03\", \"2021-06-04\", \"2021-06-07\", \"2021-06-08\", \"2021-06-09\", \"2021-06-10\", \"2021-06-11\", \"2021-06-14\", \"2021-06-15\", \"2021-06-16\", \"2021-06-17\", \"2021-06-18\", \"2021-06-21\", \"2021-06-22\", \"2021-06-23\", \"2021-06-24\", \"2021-06-25\", \"2021-06-28\", \"2021-06-29\", \"2021-06-30\", \"2021-07-01\", \"2021-07-02\", \"2021-07-06\", \"2021-07-07\", \"2021-07-08\", \"2021-07-09\", \"2021-07-12\", \"2021-07-13\", \"2021-07-14\", \"2021-07-15\", \"2021-07-16\", \"2021-07-19\", \"2021-07-20\", \"2021-07-21\", \"2021-07-22\", \"2021-07-23\", \"2021-07-26\", \"2021-07-27\", \"2021-07-28\", \"2021-07-29\", \"2021-07-30\", \"2021-08-02\", \"2021-08-03\", \"2021-08-04\", \"2021-08-05\", \"2021-08-06\", \"2021-08-09\", \"2021-08-10\", \"2021-08-11\", \"2021-08-12\", \"2021-08-13\", \"2021-08-16\", \"2021-08-17\", \"2021-08-18\", \"2021-08-19\", \"2021-08-20\", \"2021-08-23\", \"2021-08-24\", \"2021-08-25\", \"2021-08-26\", \"2021-08-27\", \"2021-08-30\", \"2021-08-31\", \"2021-09-01\", \"2021-09-02\", \"2021-09-03\", \"2021-09-07\", \"2021-09-08\", \"2021-09-09\", \"2021-09-10\", \"2021-09-13\", \"2021-09-14\", \"2021-09-15\", \"2021-09-16\", \"2021-09-17\", \"2021-09-20\", \"2021-09-21\", \"2021-09-22\", \"2021-09-23\", \"2021-09-24\", \"2021-09-27\", \"2021-09-28\", \"2021-09-29\", \"2021-09-30\", \"2021-10-01\", \"2021-10-04\", \"2021-10-05\", \"2021-10-06\", \"2021-10-07\", \"2021-10-08\", \"2021-10-11\", \"2021-10-12\", \"2021-10-13\", \"2021-10-14\", \"2021-10-15\", \"2021-10-18\", \"2021-10-19\", \"2021-10-20\", \"2021-10-21\", \"2021-10-22\", \"2021-10-25\", \"2021-10-26\", \"2021-10-27\", \"2021-10-28\", \"2021-10-29\", \"2021-11-01\", \"2021-11-02\", \"2021-11-03\", \"2021-11-04\", \"2021-11-05\", \"2021-11-08\", \"2021-11-09\", \"2021-11-10\", \"2021-11-11\", \"2021-11-12\", \"2021-11-15\", \"2021-11-16\", \"2021-11-17\", \"2021-11-18\", \"2021-11-19\"], \"xaxis\": \"x\", \"y\": [3188.185600000003, 3191.9766000000027, 3195.2300000000023, 3198.0138000000024, 3200.7456000000025, 3203.3682000000026, 3204.8890000000024, 3207.8258000000023, 3212.514800000002, 3214.466000000002, 3216.021400000002, 3217.169600000002, 3220.299000000002, 3225.2056000000016, 3230.604200000002, 3236.210800000002, 3239.5898000000016, 3243.390600000001, 3245.180400000001, 3248.290400000001, 3251.8378000000007, 3255.303800000001, 3257.1914000000006, 3261.093000000001, 3263.966800000001, 3266.429200000001, 3267.419400000001, 3269.802400000001, 3272.8374000000013, 3277.0790000000006, 3281.1874000000007, 3287.0746000000004, 3292.1296, 3296.587, 3299.715, 3303.5436, 3307.740599999999, 3311.4925999999996, 3313.1277999999993, 3315.648799999999, 3317.725199999999, 3320.0467999999987, 3320.4941999999987, 3321.383199999999, 3322.905799999999, 3325.015199999999, 3326.4341999999992, 3330.4729999999995, 3337.170199999999, 3342.9217999999987, 3349.201399999999, 3354.4181999999987, 3359.362999999999, 3363.561799999998, 3369.465599999998, 3375.8521999999984, 3381.9139999999984, 3386.7783999999983, 3392.409999999999, 3400.304199999999, 3408.586599999999, 3418.6805999999992, 3429.4475999999995, 3437.5173999999997, 3444.716, 3452.0688, 3453.9846000000002, 3455.6606000000006, 3458.9238000000005, 3461.1184000000007, 3463.4572000000007, 3465.052800000001, 3467.288000000001, 3469.2402000000006, 3470.7094000000006, 3472.099600000001, 3474.2388000000005, 3476.0942000000005, 3476.9732, 3475.7154000000005, 3473.8474000000006, 3470.853400000001, 3469.234200000001, 3467.6724000000013, 3465.9934000000007, 3464.0084000000006, 3461.216200000001, 3459.9096000000013, 3460.246200000002, 3459.717400000002, 3458.9034000000015, 3459.4828000000016, 3461.639400000002, 3463.2716000000014, 3463.992000000001, 3464.571800000001, 3465.0558000000015, 3463.836200000001, 3459.8372000000013, 3455.6704000000013, 3450.292600000001, 3443.0204000000017, 3435.5220000000018, 3429.575800000002, 3424.262200000002, 3420.148600000002, 3416.7920000000013, 3412.1194000000014, 3406.6780000000012, 3400.674800000001, 3393.579400000001, 3384.242200000001, 3374.6658000000007, 3367.3782000000006, 3360.8204000000005, 3354.5944, 3352.9685999999997, 3351.2855999999992, 3349.6463999999996, 3348.5491999999995, 3349.209799999999, 3351.245799999999, 3353.291399999999, 3355.178999999999, 3358.0369999999994, 3358.6779999999994, 3359.205999999999, 3360.7475999999997, 3363.7581999999993, 3368.6651999999995, 3372.3587999999995, 3374.721999999999, 3375.659599999999, 3377.2239999999993, 3380.780399999999, 3384.840199999999, 3387.627199999999, 3390.7203999999992, 3390.9455999999986, 3390.815599999999, 3392.0561999999986, 3393.408799999999, 3394.036999999999, 3394.506999999999, 3398.744999999999, 3402.893399999999], \"yaxis\": \"y\"}, {\"mode\": \"lines\", \"name\": \"100MA\", \"type\": \"scatter\", \"x\": [\"2021-04-27\", \"2021-04-28\", \"2021-04-29\", \"2021-04-30\", \"2021-05-03\", \"2021-05-04\", \"2021-05-05\", \"2021-05-06\", \"2021-05-07\", \"2021-05-10\", \"2021-05-11\", \"2021-05-12\", \"2021-05-13\", \"2021-05-14\", \"2021-05-17\", \"2021-05-18\", \"2021-05-19\", \"2021-05-20\", \"2021-05-21\", \"2021-05-24\", \"2021-05-25\", \"2021-05-26\", \"2021-05-27\", \"2021-05-28\", \"2021-06-01\", \"2021-06-02\", \"2021-06-03\", \"2021-06-04\", \"2021-06-07\", \"2021-06-08\", \"2021-06-09\", \"2021-06-10\", \"2021-06-11\", \"2021-06-14\", \"2021-06-15\", \"2021-06-16\", \"2021-06-17\", \"2021-06-18\", \"2021-06-21\", \"2021-06-22\", \"2021-06-23\", \"2021-06-24\", \"2021-06-25\", \"2021-06-28\", \"2021-06-29\", \"2021-06-30\", \"2021-07-01\", \"2021-07-02\", \"2021-07-06\", \"2021-07-07\", \"2021-07-08\", \"2021-07-09\", \"2021-07-12\", \"2021-07-13\", \"2021-07-14\", \"2021-07-15\", \"2021-07-16\", \"2021-07-19\", \"2021-07-20\", \"2021-07-21\", \"2021-07-22\", \"2021-07-23\", \"2021-07-26\", \"2021-07-27\", \"2021-07-28\", \"2021-07-29\", \"2021-07-30\", \"2021-08-02\", \"2021-08-03\", \"2021-08-04\", \"2021-08-05\", \"2021-08-06\", \"2021-08-09\", \"2021-08-10\", \"2021-08-11\", \"2021-08-12\", \"2021-08-13\", \"2021-08-16\", \"2021-08-17\", \"2021-08-18\", \"2021-08-19\", \"2021-08-20\", \"2021-08-23\", \"2021-08-24\", \"2021-08-25\", \"2021-08-26\", \"2021-08-27\", \"2021-08-30\", \"2021-08-31\", \"2021-09-01\", \"2021-09-02\", \"2021-09-03\", \"2021-09-07\", \"2021-09-08\", \"2021-09-09\", \"2021-09-10\", \"2021-09-13\", \"2021-09-14\", \"2021-09-15\", \"2021-09-16\", \"2021-09-17\", \"2021-09-20\", \"2021-09-21\", \"2021-09-22\", \"2021-09-23\", \"2021-09-24\", \"2021-09-27\", \"2021-09-28\", \"2021-09-29\", \"2021-09-30\", \"2021-10-01\", \"2021-10-04\", \"2021-10-05\", \"2021-10-06\", \"2021-10-07\", \"2021-10-08\", \"2021-10-11\", \"2021-10-12\", \"2021-10-13\", \"2021-10-14\", \"2021-10-15\", \"2021-10-18\", \"2021-10-19\", \"2021-10-20\", \"2021-10-21\", \"2021-10-22\", \"2021-10-25\", \"2021-10-26\", \"2021-10-27\", \"2021-10-28\", \"2021-10-29\", \"2021-11-01\", \"2021-11-02\", \"2021-11-03\", \"2021-11-04\", \"2021-11-05\", \"2021-11-08\", \"2021-11-09\", \"2021-11-10\", \"2021-11-11\", \"2021-11-12\", \"2021-11-15\", \"2021-11-16\", \"2021-11-17\", \"2021-11-18\", \"2021-11-19\"], \"xaxis\": \"x\", \"y\": [3205.135400000002, 3207.685100000002, 3210.530900000002, 3213.5793000000017, 3215.864200000002, 3217.210000000002, 3218.8734000000013, 3220.9222000000013, 3222.6741000000015, 3223.0093000000015, 3223.5972000000015, 3222.7070000000012, 3221.960900000001, 3222.173400000001, 3222.815500000001, 3223.073100000001, 3223.538400000001, 3224.2883000000006, 3223.479500000001, 3222.7094000000006, 3222.4414000000006, 3222.5237000000006, 3222.9585, 3223.0041, 3223.8068000000003, 3224.5251000000007, 3224.5682000000006, 3225.4883, 3226.2601, 3227.2423, 3228.7791, 3231.2331000000004, 3233.4938000000006, 3234.6987000000004, 3235.4601000000007, 3236.6903000000007, 3238.642700000001, 3240.250400000001, 3242.464200000001, 3245.142400000001, 3248.118600000001, 3249.180600000001, 3249.3952000000013, 3250.7088000000012, 3251.8802000000014, 3252.760300000001, 3253.8606000000004, 3255.9204000000004, 3259.812, 3264.1565, 3268.6935, 3273.1974, 3277.2964999999995, 3280.7877999999996, 3285.1055999999994, 3289.6101999999996, 3293.4014999999995, 3297.3020999999994, 3302.4624, 3307.3851, 3312.304, 3317.9251, 3324.8733, 3331.3615000000004, 3337.6601, 3344.1398, 3346.7872, 3349.5256, 3352.0520999999994, 3354.7043999999996, 3357.6474999999996, 3360.1782999999996, 3362.2396999999996, 3365.1665999999996, 3367.3380999999995, 3369.2643999999996, 3370.829099999999, 3372.948299999999, 3374.905299999999, 3376.3971999999985, 3377.517399999999, 3378.963999999999, 3380.6818999999987, 3382.129699999999, 3382.8541999999993, 3383.7759999999994, 3384.478399999999, 3385.7010999999993, 3386.686999999999, 3387.683099999999, 3388.3142999999986, 3389.7647999999986, 3391.0667999999982, 3392.3273999999983, 3393.4488999999976, 3394.793499999998, 3395.7449999999976, 3397.154599999998, 3398.5036999999975, 3399.2960999999978, 3399.7469999999976, 3398.7192999999975, 3397.442499999998, 3396.5687999999977, 3396.863899999998, 3398.000399999998, 3399.3529999999982, 3399.4488999999985, 3399.5439999999985, 3400.4894999999983, 3401.0829999999987, 3401.461399999999, 3402.056699999999, 3402.447799999999, 3402.768199999999, 3403.3315999999986, 3403.4765999999986, 3403.473099999999, 3404.285099999999, 3404.833799999999, 3406.3334999999993, 3408.149299999999, 3410.2897, 3412.2095999999997, 3414.3731999999995, 3415.3887999999993, 3416.722399999999, 3418.4208999999996, 3420.3656999999994, 3422.1902999999998, 3423.1030999999994, 3422.787699999999, 3422.446899999999, 3422.448199999999, 3423.386899999999, 3424.4242999999988, 3424.4216999999985, 3425.3149999999982, 3425.595899999998, 3425.266499999998, 3425.4797999999982, 3426.4457999999977, 3427.838199999998, 3428.8892999999975, 3431.3684999999973, 3433.7325999999975], \"yaxis\": \"y\"}, {\"mode\": \"lines\", \"name\": \"200MA\", \"type\": \"scatter\", \"x\": [\"2021-04-27\", \"2021-04-28\", \"2021-04-29\", \"2021-04-30\", \"2021-05-03\", \"2021-05-04\", \"2021-05-05\", \"2021-05-06\", \"2021-05-07\", \"2021-05-10\", \"2021-05-11\", \"2021-05-12\", \"2021-05-13\", \"2021-05-14\", \"2021-05-17\", \"2021-05-18\", \"2021-05-19\", \"2021-05-20\", \"2021-05-21\", \"2021-05-24\", \"2021-05-25\", \"2021-05-26\", \"2021-05-27\", \"2021-05-28\", \"2021-06-01\", \"2021-06-02\", \"2021-06-03\", \"2021-06-04\", \"2021-06-07\", \"2021-06-08\", \"2021-06-09\", \"2021-06-10\", \"2021-06-11\", \"2021-06-14\", \"2021-06-15\", \"2021-06-16\", \"2021-06-17\", \"2021-06-18\", \"2021-06-21\", \"2021-06-22\", \"2021-06-23\", \"2021-06-24\", \"2021-06-25\", \"2021-06-28\", \"2021-06-29\", \"2021-06-30\", \"2021-07-01\", \"2021-07-02\", \"2021-07-06\", \"2021-07-07\", \"2021-07-08\", \"2021-07-09\", \"2021-07-12\", \"2021-07-13\", \"2021-07-14\", \"2021-07-15\", \"2021-07-16\", \"2021-07-19\", \"2021-07-20\", \"2021-07-21\", \"2021-07-22\", \"2021-07-23\", \"2021-07-26\", \"2021-07-27\", \"2021-07-28\", \"2021-07-29\", \"2021-07-30\", \"2021-08-02\", \"2021-08-03\", \"2021-08-04\", \"2021-08-05\", \"2021-08-06\", \"2021-08-09\", \"2021-08-10\", \"2021-08-11\", \"2021-08-12\", \"2021-08-13\", \"2021-08-16\", \"2021-08-17\", \"2021-08-18\", \"2021-08-19\", \"2021-08-20\", \"2021-08-23\", \"2021-08-24\", \"2021-08-25\", \"2021-08-26\", \"2021-08-27\", \"2021-08-30\", \"2021-08-31\", \"2021-09-01\", \"2021-09-02\", \"2021-09-03\", \"2021-09-07\", \"2021-09-08\", \"2021-09-09\", \"2021-09-10\", \"2021-09-13\", \"2021-09-14\", \"2021-09-15\", \"2021-09-16\", \"2021-09-17\", \"2021-09-20\", \"2021-09-21\", \"2021-09-22\", \"2021-09-23\", \"2021-09-24\", \"2021-09-27\", \"2021-09-28\", \"2021-09-29\", \"2021-09-30\", \"2021-10-01\", \"2021-10-04\", \"2021-10-05\", \"2021-10-06\", \"2021-10-07\", \"2021-10-08\", \"2021-10-11\", \"2021-10-12\", \"2021-10-13\", \"2021-10-14\", \"2021-10-15\", \"2021-10-18\", \"2021-10-19\", \"2021-10-20\", \"2021-10-21\", \"2021-10-22\", \"2021-10-25\", \"2021-10-26\", \"2021-10-27\", \"2021-10-28\", \"2021-10-29\", \"2021-11-01\", \"2021-11-02\", \"2021-11-03\", \"2021-11-04\", \"2021-11-05\", \"2021-11-08\", \"2021-11-09\", \"2021-11-10\", \"2021-11-11\", \"2021-11-12\", \"2021-11-15\", \"2021-11-16\", \"2021-11-17\", \"2021-11-18\", \"2021-11-19\"], \"xaxis\": \"x\", \"y\": [3190.7396000000003, 3192.5121000000004, 3194.4486500000003, 3196.741400000001, 3198.6743500000007, 3200.4238500000006, 3200.792350000001, 3201.6327500000007, 3202.5912500000004, 3203.6109500000002, 3204.6859500000005, 3205.1696, 3205.9753, 3206.9221500000003, 3208.0147, 3208.3527000000004, 3208.9522500000003, 3209.4965000000007, 3209.4867500000005, 3209.5867000000003, 3210.0446500000007, 3210.6296500000008, 3211.3768500000006, 3211.6810000000005, 3211.9691500000004, 3212.3990000000003, 3212.422, 3211.89065, 3211.5783, 3211.4120000000003, 3211.3941500000005, 3211.6051000000007, 3211.6068000000005, 3211.3169000000007, 3211.2325500000006, 3211.2998000000002, 3211.4912000000004, 3211.4301000000005, 3211.042650000001, 3211.7298500000006, 3212.77585, 3214.27205, 3214.9363, 3216.2802, 3217.9398000000006, 3219.6257500000006, 3221.0099500000006, 3223.1743500000007, 3226.509400000001, 3230.2177500000003, 3234.0724500000006, 3237.0242000000003, 3240.6176500000006, 3243.9055000000003, 3246.8382500000007, 3249.1240000000003, 3251.2677500000004, 3253.27205, 3255.0317, 3257.3326999999995, 3259.52685, 3262.3102500000005, 3264.8309000000004, 3267.0101, 3268.7284499999996, 3269.5134, 3268.9331999999995, 3268.7720499999996, 3268.9099999999994, 3269.3200499999994, 3270.1639499999997, 3270.8035999999993, 3271.5882499999993, 3272.3096499999997, 3272.7481999999995, 3273.230499999999, 3273.268699999999, 3273.9497499999993, 3274.104499999999, 3274.9298499999986, 3275.8461999999986, 3276.6038999999982, 3276.727449999998, 3276.646349999998, 3276.5853999999986, 3277.4466999999986, 3279.0197499999986, 3280.440649999998, 3282.2431999999985, 3283.994149999998, 3285.6544499999977, 3287.3663999999976, 3289.385549999998, 3291.427949999998, 3293.351749999998, 3295.2055499999983, 3296.901099999998, 3298.2257499999982, 3299.627999999999, 3301.2289999999985, 3302.441199999999, 3303.2021999999984, 3303.9866999999986, 3305.0740499999993, 3306.364049999999, 3307.605199999999, 3309.1131999999993, 3310.1855499999992, 3311.109049999999, 3311.7493999999992, 3312.3400999999994, 3312.0842, 3312.0088, 3312.3106, 3312.79185, 3313.20235, 3313.5075, 3313.8807, 3313.8823, 3313.7716000000005, 3314.3874500000006, 3315.3365000000003, 3316.6241000000005, 3317.6068500000006, 3319.0900000000006, 3319.9569500000007, 3320.645300000001, 3321.954600000001, 3323.312900000001, 3324.7163000000005, 3325.941100000001, 3327.010400000001, 3327.970350000001, 3328.573450000001, 3329.423500000001, 3330.557300000001, 3331.532200000001, 3332.7827000000007, 3334.030050000001, 3335.204450000001, 3336.7992000000017, 3337.813200000002, 3338.6167000000014, 3339.7990500000014, 3341.624350000002, 3343.2464500000015], \"yaxis\": \"y\"}, {\"mode\": \"lines\", \"name\": \"RSI\", \"type\": \"scatter\", \"x\": [\"2021-04-27\", \"2021-04-28\", \"2021-04-29\", \"2021-04-30\", \"2021-05-03\", \"2021-05-04\", \"2021-05-05\", \"2021-05-06\", \"2021-05-07\", \"2021-05-10\", \"2021-05-11\", \"2021-05-12\", \"2021-05-13\", \"2021-05-14\", \"2021-05-17\", \"2021-05-18\", \"2021-05-19\", \"2021-05-20\", \"2021-05-21\", \"2021-05-24\", \"2021-05-25\", \"2021-05-26\", \"2021-05-27\", \"2021-05-28\", \"2021-06-01\", \"2021-06-02\", \"2021-06-03\", \"2021-06-04\", \"2021-06-07\", \"2021-06-08\", \"2021-06-09\", \"2021-06-10\", \"2021-06-11\", \"2021-06-14\", \"2021-06-15\", \"2021-06-16\", \"2021-06-17\", \"2021-06-18\", \"2021-06-21\", \"2021-06-22\", \"2021-06-23\", \"2021-06-24\", \"2021-06-25\", \"2021-06-28\", \"2021-06-29\", \"2021-06-30\", \"2021-07-01\", \"2021-07-02\", \"2021-07-06\", \"2021-07-07\", \"2021-07-08\", \"2021-07-09\", \"2021-07-12\", \"2021-07-13\", \"2021-07-14\", \"2021-07-15\", \"2021-07-16\", \"2021-07-19\", \"2021-07-20\", \"2021-07-21\", \"2021-07-22\", \"2021-07-23\", \"2021-07-26\", \"2021-07-27\", \"2021-07-28\", \"2021-07-29\", \"2021-07-30\", \"2021-08-02\", \"2021-08-03\", \"2021-08-04\", \"2021-08-05\", \"2021-08-06\", \"2021-08-09\"], \"xaxis\": \"x2\", \"y\": [\"75.855\", \"84.9093\", \"87.1617\", \"81.613\", \"27.3261\", \"14.2326\", \"10.18\", \"34.4509\", \"29.5216\", \"11.9503\", \"32.0116\", \"18.4401\", \"24.7747\", \"57.0378\", \"71.3077\", \"50.9407\", \"50.6673\", \"61.0433\", \"32.3652\", \"59.31\", \"66.1051\", \"69.4326\", \"37.6383\", \"33.0752\", \"29.6858\", \"54.1472\", \"20.8407\", \"42.5247\", \"36.1725\", \"77.2368\", \"81.7717\", \"91.7192\", \"88.7291\", \"93.1371\", \"92.0582\", \"95.4728\", \"98.1786\", \"95.4717\", \"60.3415\", \"78.708\", \"77.0243\", \"36.9545\", \"22.012\", \"49.3722\", \"51.9073\", \"45.4918\", \"38.9805\", \"81.6726\", \"94.3021\", \"94.9609\", \"96.0933\", \"86.0422\", \"85.1676\", \"47.4479\", \"50.8709\", \"23.7526\", \"12.4234\", \"9.5656\", \"32.4478\", \"43.3832\", \"72.6241\", \"78.4933\", \"87.6835\", \"41.9535\", \"44.2862\", \"30.203\", \"5.7277\", \"7.3366\", \"24.5875\", \"22.5047\", \"37.2306\", \"26.2911\", \"25.1932\"], \"yaxis\": \"y2\"}, {\"mode\": \"markers+lines\", \"name\": \"Test\", \"type\": \"scatter\", \"x\": [\"2021-08-10\", \"2021-08-11\", \"2021-08-12\", \"2021-08-13\", \"2021-08-16\", \"2021-08-17\", \"2021-08-18\", \"2021-08-19\", \"2021-08-20\", \"2021-08-23\", \"2021-08-24\", \"2021-08-25\", \"2021-08-26\", \"2021-08-27\", \"2021-08-30\", \"2021-08-31\", \"2021-09-01\", \"2021-09-02\", \"2021-09-03\", \"2021-09-07\", \"2021-09-08\", \"2021-09-09\", \"2021-09-10\", \"2021-09-13\", \"2021-09-14\", \"2021-09-15\", \"2021-09-16\", \"2021-09-17\", \"2021-09-20\", \"2021-09-21\", \"2021-09-22\", \"2021-09-23\", \"2021-09-24\", \"2021-09-27\", \"2021-09-28\", \"2021-09-29\", \"2021-09-30\", \"2021-10-01\", \"2021-10-04\", \"2021-10-05\", \"2021-10-06\", \"2021-10-07\", \"2021-10-08\", \"2021-10-11\", \"2021-10-12\", \"2021-10-13\", \"2021-10-14\", \"2021-10-15\", \"2021-10-18\", \"2021-10-19\", \"2021-10-20\", \"2021-10-21\", \"2021-10-22\", \"2021-10-25\", \"2021-10-26\", \"2021-10-27\", \"2021-10-28\", \"2021-10-29\", \"2021-11-01\", \"2021-11-02\", \"2021-11-03\", \"2021-11-04\", \"2021-11-05\", \"2021-11-08\", \"2021-11-09\", \"2021-11-10\", \"2021-11-11\", \"2021-11-12\", \"2021-11-15\", \"2021-11-16\", \"2021-11-17\", \"2021-11-18\", \"2021-11-19\"], \"xaxis\": \"x2\", \"y\": [\"17.5888\", \"10.9217\", \"27.3824\", \"22.2274\", \"32.2981\", \"10.0724\", \"5.7975\", \"4.7894\", \"22.9837\", \"69.7835\", \"80.5287\", \"74.001\", \"80.1515\", \"88.3892\", \"95.0205\", \"96.8606\", \"97.1263\", \"77.9785\", \"82.7691\", \"89.7605\", \"92.2181\", \"48.0769\", \"38.1353\", \"30.5678\", \"25.9457\", \"59.2175\", \"69.2286\", \"39.3193\", \"10.6535\", \"9.479\", \"39.5623\", \"59.4941\", \"64.1857\", \"47.1993\", \"16.8059\", \"14.4935\", \"11.8445\", \"11.4957\", \"3.4623\", \"28.4949\", \"52.6746\", \"68.4483\", \"58.4621\", \"34.994\", \"35.9329\", \"63.9507\", \"71.7613\", \"91.383\", \"93.6647\", \"91.178\", \"63.0\", \"71.9253\", \"25.6516\", \"22.3584\", \"54.505\", \"61.5454\", \"78.2067\", \"41.3577\", \"27.2481\", \"25.9383\", \"62.1837\", \"80.688\", \"85.495\", \"67.4867\", \"83.0536\", \"46.785\", \"43.871\", \"62.9529\", \"69.0976\", \"65.1649\", \"69.5041\", \"92.9254\", \"80.6169\"], \"yaxis\": \"y2\"}, {\"mode\": \"markers+lines\", \"name\": \"Prediction\", \"type\": \"scatter\", \"x\": [\"2021-08-10\", \"2021-08-11\", \"2021-08-12\", \"2021-08-13\", \"2021-08-16\", \"2021-08-17\", \"2021-08-18\", \"2021-08-19\", \"2021-08-20\", \"2021-08-23\", \"2021-08-24\", \"2021-08-25\", \"2021-08-26\", \"2021-08-27\", \"2021-08-30\", \"2021-08-31\", \"2021-09-01\", \"2021-09-02\", \"2021-09-03\", \"2021-09-07\", \"2021-09-08\", \"2021-09-09\", \"2021-09-10\", \"2021-09-13\", \"2021-09-14\", \"2021-09-15\", \"2021-09-16\", \"2021-09-17\", \"2021-09-20\", \"2021-09-21\", \"2021-09-22\", \"2021-09-23\", \"2021-09-24\", \"2021-09-27\", \"2021-09-28\", \"2021-09-29\", \"2021-09-30\", \"2021-10-01\", \"2021-10-04\", \"2021-10-05\", \"2021-10-06\", \"2021-10-07\", \"2021-10-08\", \"2021-10-11\", \"2021-10-12\", \"2021-10-13\", \"2021-10-14\", \"2021-10-15\", \"2021-10-18\", \"2021-10-19\", \"2021-10-20\", \"2021-10-21\", \"2021-10-22\", \"2021-10-25\", \"2021-10-26\", \"2021-10-27\", \"2021-10-28\", \"2021-10-29\", \"2021-11-01\", \"2021-11-02\", \"2021-11-03\", \"2021-11-04\", \"2021-11-05\", \"2021-11-08\", \"2021-11-09\", \"2021-11-10\", \"2021-11-11\", \"2021-11-12\", \"2021-11-15\", \"2021-11-16\", \"2021-11-17\", \"2021-11-18\", \"2021-11-19\"], \"xaxis\": \"x2\", \"y\": [27.28389549255371, 34.417293548583984, 37.865943908691406, 21.01541519165039, 34.634098052978516, 20.53028106689453, 18.138233184814453, 53.76898956298828, 70.15755462646484, 78.1900405883789, 82.1849594116211, 84.77776336669922, 85.30615234375, 86.21296691894531, 84.0452651977539, 77.05345153808594, 77.73380279541016, 80.13335418701172, 84.06890869140625, 45.382022857666016, 30.365087509155273, 25.13041114807129, 23.70767593383789, 49.69721221923828, 65.88573455810547, 32.225830078125, 36.76078796386719, 25.785371780395508, 34.60469436645508, 64.22696685791016, 63.63187026977539, 51.28310775756836, 25.02332305908203, 29.80134391784668, 11.790871620178223, 15.142213821411133, 24.811586380004883, 37.89067459106445, 57.2731819152832, 66.19905090332031, 60.17256546020508, 33.98668670654297, 31.297401428222656, 68.85151672363281, 71.76028442382812, 89.57501220703125, 86.93006896972656, 85.63135528564453, 72.35877227783203, 75.43572998046875, 37.37594223022461, 33.949405670166016, 43.97103500366211, 56.42173767089844, 80.21875, 34.29255676269531, 25.39206886291504, 23.443279266357422, 56.742149353027344, 71.42462158203125, 88.0016098022461, 69.62145233154297, 79.37178039550781, 52.838443756103516, 35.737571716308594, 52.288856506347656, 64.62769317626953, 64.8537368774414, 80.53071594238281, 87.01358032226562], \"yaxis\": \"y2\"}, {\"mode\": \"markers+lines\", \"name\": \"Forecast\", \"type\": \"scatter\", \"x\": [\"2021-11-19T00:00:00\", \"2021-11-22T00:00:00\", \"2021-11-23T00:00:00\", \"2021-11-24T00:00:00\", \"2021-11-26T00:00:00\", \"2021-11-29T00:00:00\", \"2021-11-30T00:00:00\", \"2021-12-01T00:00:00\", \"2021-12-02T00:00:00\", \"2021-12-03T00:00:00\", \"2021-12-06T00:00:00\", \"2021-12-07T00:00:00\", \"2021-12-08T00:00:00\"], \"xaxis\": \"x2\", \"y\": [80.6169, 76.2866301865697, 79.0957159573555, 78.33605556656123, 76.16123262587786, 76.0887810924232, 76.2627198333025, 76.00850392644405, 76.15045480862855, 76.73334728151559, 77.50678453435897, 78.41594027941227, 79.34784659087659], \"yaxis\": \"y2\"}, {\"line\": {\"color\": \"rgb(100, 10, 100)\", \"dash\": \"dash\", \"shape\": \"linear\"}, \"mode\": \"lines\", \"type\": \"scatter\", \"x\": [\"2021-04-27\", \"2021-12-08T00:00:00\"], \"xaxis\": \"x2\", \"y\": [70, 70], \"yaxis\": \"y2\"}, {\"line\": {\"color\": \"rgb(10, 12, 240)\", \"dash\": \"dash\", \"shape\": \"linear\"}, \"mode\": \"lines\", \"type\": \"scatter\", \"x\": [\"2021-04-27\", \"2021-12-08T00:00:00\"], \"xaxis\": \"x2\", \"y\": [50, 50], \"yaxis\": \"y2\"}, {\"line\": {\"color\": \"rgb(10, 120, 24)\", \"dash\": \"dash\", \"shape\": \"linear\"}, \"mode\": \"lines\", \"type\": \"scatter\", \"x\": [\"2021-04-27\", \"2021-12-08T00:00:00\"], \"xaxis\": \"x2\", \"y\": [30, 30], \"yaxis\": \"y2\"}],\n",
              "                        {\"annotations\": [{\"font\": {\"size\": 16}, \"showarrow\": false, \"text\": \"<a href=\\\"https://in.tradingview.com/chart/66XmQfYy/?symbol=AMZN\\\">AMZN</a> Date:2021-11-19 Open:3712.69 High:3675.72 Low:3762.145 Close:3676.57\", \"x\": 0.5, \"xanchor\": \"center\", \"xref\": \"paper\", \"y\": 1.0, \"yanchor\": \"bottom\", \"yref\": \"paper\"}, {\"font\": {\"size\": 16}, \"showarrow\": false, \"text\": \"<a href=\\\"https://in.tradingview.com/chart/66XmQfYy/?symbol=AMZN\\\">AMZN</a> RSI(3) Date:2021-11-19 Close:80.6169 Forecast(3):77.0\", \"x\": 0.5, \"xanchor\": \"center\", \"xref\": \"paper\", \"y\": 0.30000000000000004, \"yanchor\": \"bottom\", \"yref\": \"paper\"}], \"height\": 650, \"template\": {\"data\": {\"bar\": [{\"error_x\": {\"color\": \"#2a3f5f\"}, \"error_y\": {\"color\": \"#2a3f5f\"}, \"marker\": {\"line\": {\"color\": \"#E5ECF6\", \"width\": 0.5}}, \"type\": \"bar\"}], \"barpolar\": [{\"marker\": {\"line\": {\"color\": \"#E5ECF6\", \"width\": 0.5}}, \"type\": \"barpolar\"}], \"carpet\": [{\"aaxis\": {\"endlinecolor\": \"#2a3f5f\", \"gridcolor\": \"white\", \"linecolor\": \"white\", \"minorgridcolor\": \"white\", \"startlinecolor\": \"#2a3f5f\"}, \"baxis\": {\"endlinecolor\": \"#2a3f5f\", \"gridcolor\": \"white\", \"linecolor\": \"white\", \"minorgridcolor\": \"white\", \"startlinecolor\": \"#2a3f5f\"}, \"type\": \"carpet\"}], \"choropleth\": [{\"colorbar\": {\"outlinewidth\": 0, \"ticks\": \"\"}, \"type\": \"choropleth\"}], \"contour\": [{\"colorbar\": {\"outlinewidth\": 0, \"ticks\": \"\"}, \"colorscale\": [[0.0, \"#0d0887\"], [0.1111111111111111, \"#46039f\"], [0.2222222222222222, \"#7201a8\"], [0.3333333333333333, \"#9c179e\"], [0.4444444444444444, \"#bd3786\"], [0.5555555555555556, \"#d8576b\"], [0.6666666666666666, \"#ed7953\"], [0.7777777777777778, \"#fb9f3a\"], [0.8888888888888888, \"#fdca26\"], [1.0, \"#f0f921\"]], \"type\": \"contour\"}], \"contourcarpet\": [{\"colorbar\": {\"outlinewidth\": 0, \"ticks\": \"\"}, \"type\": \"contourcarpet\"}], \"heatmap\": [{\"colorbar\": {\"outlinewidth\": 0, \"ticks\": \"\"}, \"colorscale\": [[0.0, \"#0d0887\"], [0.1111111111111111, \"#46039f\"], [0.2222222222222222, \"#7201a8\"], [0.3333333333333333, \"#9c179e\"], [0.4444444444444444, \"#bd3786\"], [0.5555555555555556, \"#d8576b\"], [0.6666666666666666, \"#ed7953\"], [0.7777777777777778, \"#fb9f3a\"], [0.8888888888888888, \"#fdca26\"], [1.0, \"#f0f921\"]], \"type\": \"heatmap\"}], \"heatmapgl\": [{\"colorbar\": {\"outlinewidth\": 0, \"ticks\": \"\"}, \"colorscale\": [[0.0, \"#0d0887\"], [0.1111111111111111, \"#46039f\"], [0.2222222222222222, \"#7201a8\"], [0.3333333333333333, \"#9c179e\"], [0.4444444444444444, \"#bd3786\"], [0.5555555555555556, \"#d8576b\"], [0.6666666666666666, \"#ed7953\"], [0.7777777777777778, \"#fb9f3a\"], [0.8888888888888888, \"#fdca26\"], [1.0, \"#f0f921\"]], \"type\": \"heatmapgl\"}], \"histogram\": [{\"marker\": {\"colorbar\": {\"outlinewidth\": 0, \"ticks\": \"\"}}, \"type\": \"histogram\"}], \"histogram2d\": [{\"colorbar\": {\"outlinewidth\": 0, \"ticks\": \"\"}, \"colorscale\": [[0.0, \"#0d0887\"], [0.1111111111111111, \"#46039f\"], [0.2222222222222222, \"#7201a8\"], [0.3333333333333333, \"#9c179e\"], [0.4444444444444444, \"#bd3786\"], [0.5555555555555556, \"#d8576b\"], [0.6666666666666666, \"#ed7953\"], [0.7777777777777778, \"#fb9f3a\"], [0.8888888888888888, \"#fdca26\"], [1.0, \"#f0f921\"]], \"type\": \"histogram2d\"}], \"histogram2dcontour\": [{\"colorbar\": {\"outlinewidth\": 0, \"ticks\": \"\"}, \"colorscale\": [[0.0, \"#0d0887\"], [0.1111111111111111, \"#46039f\"], [0.2222222222222222, \"#7201a8\"], [0.3333333333333333, \"#9c179e\"], [0.4444444444444444, \"#bd3786\"], [0.5555555555555556, \"#d8576b\"], [0.6666666666666666, \"#ed7953\"], [0.7777777777777778, \"#fb9f3a\"], [0.8888888888888888, \"#fdca26\"], [1.0, \"#f0f921\"]], \"type\": \"histogram2dcontour\"}], \"mesh3d\": [{\"colorbar\": {\"outlinewidth\": 0, \"ticks\": \"\"}, \"type\": \"mesh3d\"}], \"parcoords\": [{\"line\": {\"colorbar\": {\"outlinewidth\": 0, \"ticks\": \"\"}}, \"type\": \"parcoords\"}], \"pie\": [{\"automargin\": true, \"type\": \"pie\"}], \"scatter\": [{\"marker\": {\"colorbar\": {\"outlinewidth\": 0, \"ticks\": \"\"}}, \"type\": \"scatter\"}], \"scatter3d\": [{\"line\": {\"colorbar\": {\"outlinewidth\": 0, \"ticks\": \"\"}}, \"marker\": {\"colorbar\": {\"outlinewidth\": 0, \"ticks\": \"\"}}, \"type\": \"scatter3d\"}], \"scattercarpet\": [{\"marker\": {\"colorbar\": {\"outlinewidth\": 0, \"ticks\": \"\"}}, \"type\": \"scattercarpet\"}], \"scattergeo\": [{\"marker\": {\"colorbar\": {\"outlinewidth\": 0, \"ticks\": \"\"}}, \"type\": \"scattergeo\"}], \"scattergl\": [{\"marker\": {\"colorbar\": {\"outlinewidth\": 0, \"ticks\": \"\"}}, \"type\": \"scattergl\"}], \"scattermapbox\": [{\"marker\": {\"colorbar\": {\"outlinewidth\": 0, \"ticks\": \"\"}}, \"type\": \"scattermapbox\"}], \"scatterpolar\": [{\"marker\": {\"colorbar\": {\"outlinewidth\": 0, \"ticks\": \"\"}}, \"type\": \"scatterpolar\"}], \"scatterpolargl\": [{\"marker\": {\"colorbar\": {\"outlinewidth\": 0, \"ticks\": \"\"}}, \"type\": \"scatterpolargl\"}], \"scatterternary\": [{\"marker\": {\"colorbar\": {\"outlinewidth\": 0, \"ticks\": \"\"}}, \"type\": \"scatterternary\"}], \"surface\": [{\"colorbar\": {\"outlinewidth\": 0, \"ticks\": \"\"}, \"colorscale\": [[0.0, \"#0d0887\"], [0.1111111111111111, \"#46039f\"], [0.2222222222222222, \"#7201a8\"], [0.3333333333333333, \"#9c179e\"], [0.4444444444444444, \"#bd3786\"], [0.5555555555555556, \"#d8576b\"], [0.6666666666666666, \"#ed7953\"], [0.7777777777777778, \"#fb9f3a\"], [0.8888888888888888, \"#fdca26\"], [1.0, \"#f0f921\"]], \"type\": \"surface\"}], \"table\": [{\"cells\": {\"fill\": {\"color\": \"#EBF0F8\"}, \"line\": {\"color\": \"white\"}}, \"header\": {\"fill\": {\"color\": \"#C8D4E3\"}, \"line\": {\"color\": \"white\"}}, \"type\": \"table\"}]}, \"layout\": {\"annotationdefaults\": {\"arrowcolor\": \"#2a3f5f\", \"arrowhead\": 0, \"arrowwidth\": 1}, \"coloraxis\": {\"colorbar\": {\"outlinewidth\": 0, \"ticks\": \"\"}}, \"colorscale\": {\"diverging\": [[0, \"#8e0152\"], [0.1, \"#c51b7d\"], [0.2, \"#de77ae\"], [0.3, \"#f1b6da\"], [0.4, \"#fde0ef\"], [0.5, \"#f7f7f7\"], [0.6, \"#e6f5d0\"], [0.7, \"#b8e186\"], [0.8, \"#7fbc41\"], [0.9, \"#4d9221\"], [1, \"#276419\"]], \"sequential\": [[0.0, \"#0d0887\"], [0.1111111111111111, \"#46039f\"], [0.2222222222222222, \"#7201a8\"], [0.3333333333333333, \"#9c179e\"], [0.4444444444444444, \"#bd3786\"], [0.5555555555555556, \"#d8576b\"], [0.6666666666666666, \"#ed7953\"], [0.7777777777777778, \"#fb9f3a\"], [0.8888888888888888, \"#fdca26\"], [1.0, \"#f0f921\"]], \"sequentialminus\": [[0.0, \"#0d0887\"], [0.1111111111111111, \"#46039f\"], [0.2222222222222222, \"#7201a8\"], [0.3333333333333333, \"#9c179e\"], [0.4444444444444444, \"#bd3786\"], [0.5555555555555556, \"#d8576b\"], [0.6666666666666666, \"#ed7953\"], [0.7777777777777778, \"#fb9f3a\"], [0.8888888888888888, \"#fdca26\"], [1.0, \"#f0f921\"]]}, \"colorway\": [\"#636efa\", \"#EF553B\", \"#00cc96\", \"#ab63fa\", \"#FFA15A\", \"#19d3f3\", \"#FF6692\", \"#B6E880\", \"#FF97FF\", \"#FECB52\"], \"font\": {\"color\": \"#2a3f5f\"}, \"geo\": {\"bgcolor\": \"white\", \"lakecolor\": \"white\", \"landcolor\": \"#E5ECF6\", \"showlakes\": true, \"showland\": true, \"subunitcolor\": \"white\"}, \"hoverlabel\": {\"align\": \"left\"}, \"hovermode\": \"closest\", \"mapbox\": {\"style\": \"light\"}, \"paper_bgcolor\": \"white\", \"plot_bgcolor\": \"#E5ECF6\", \"polar\": {\"angularaxis\": {\"gridcolor\": \"white\", \"linecolor\": \"white\", \"ticks\": \"\"}, \"bgcolor\": \"#E5ECF6\", \"radialaxis\": {\"gridcolor\": \"white\", \"linecolor\": \"white\", \"ticks\": \"\"}}, \"scene\": {\"xaxis\": {\"backgroundcolor\": \"#E5ECF6\", \"gridcolor\": \"white\", \"gridwidth\": 2, \"linecolor\": \"white\", \"showbackground\": true, \"ticks\": \"\", \"zerolinecolor\": \"white\"}, \"yaxis\": {\"backgroundcolor\": \"#E5ECF6\", \"gridcolor\": \"white\", \"gridwidth\": 2, \"linecolor\": \"white\", \"showbackground\": true, \"ticks\": \"\", \"zerolinecolor\": \"white\"}, \"zaxis\": {\"backgroundcolor\": \"#E5ECF6\", \"gridcolor\": \"white\", \"gridwidth\": 2, \"linecolor\": \"white\", \"showbackground\": true, \"ticks\": \"\", \"zerolinecolor\": \"white\"}}, \"shapedefaults\": {\"line\": {\"color\": \"#2a3f5f\"}}, \"ternary\": {\"aaxis\": {\"gridcolor\": \"white\", \"linecolor\": \"white\", \"ticks\": \"\"}, \"baxis\": {\"gridcolor\": \"white\", \"linecolor\": \"white\", \"ticks\": \"\"}, \"bgcolor\": \"#E5ECF6\", \"caxis\": {\"gridcolor\": \"white\", \"linecolor\": \"white\", \"ticks\": \"\"}}, \"title\": {\"x\": 0.05}, \"xaxis\": {\"automargin\": true, \"gridcolor\": \"white\", \"linecolor\": \"white\", \"ticks\": \"\", \"title\": {\"standoff\": 15}, \"zerolinecolor\": \"white\", \"zerolinewidth\": 2}, \"yaxis\": {\"automargin\": true, \"gridcolor\": \"white\", \"linecolor\": \"white\", \"ticks\": \"\", \"title\": {\"standoff\": 15}, \"zerolinecolor\": \"white\", \"zerolinewidth\": 2}}}, \"xaxis\": {\"anchor\": \"y\", \"domain\": [0.0, 1.0], \"rangeslider\": {\"visible\": false}, \"showspikes\": true, \"spikedash\": \"dash\", \"spikemode\": \"across\", \"spikesnap\": \"cursor\"}, \"xaxis2\": {\"anchor\": \"y2\", \"domain\": [0.0, 1.0], \"showspikes\": true, \"spikedash\": \"dash\", \"spikemode\": \"across\", \"spikesnap\": \"cursor\"}, \"yaxis\": {\"anchor\": \"x\", \"domain\": [0.55, 1.0], \"showspikes\": true, \"spikedash\": \"dash\", \"spikemode\": \"across\", \"spikesnap\": \"cursor\"}, \"yaxis2\": {\"anchor\": \"x2\", \"domain\": [0.0, 0.30000000000000004], \"showspikes\": true, \"spikedash\": \"dash\", \"spikemode\": \"across\", \"spikesnap\": \"cursor\"}},\n",
              "                        {\"responsive\": true}\n",
              "                    ).then(function(){\n",
              "                            \n",
              "var gd = document.getElementById('b1d3ec0f-258e-4b6f-a96e-583fdd8846ea');\n",
              "var x = new MutationObserver(function (mutations, observer) {{\n",
              "        var display = window.getComputedStyle(gd).display;\n",
              "        if (!display || display === 'none') {{\n",
              "            console.log([gd, 'removed!']);\n",
              "            Plotly.purge(gd);\n",
              "            observer.disconnect();\n",
              "        }}\n",
              "}});\n",
              "\n",
              "// Listen for the removal of the full notebook cells\n",
              "var notebookContainer = gd.closest('#notebook-container');\n",
              "if (notebookContainer) {{\n",
              "    x.observe(notebookContainer, {childList: true});\n",
              "}}\n",
              "\n",
              "// Listen for the clearing of the current output cell\n",
              "var outputEl = gd.closest('.output');\n",
              "if (outputEl) {{\n",
              "    x.observe(outputEl, {childList: true});\n",
              "}}\n",
              "\n",
              "                        })\n",
              "                };\n",
              "                \n",
              "            </script>\n",
              "        </div>\n",
              "</body>\n",
              "</html>"
            ]
          },
          "metadata": {}
        }
      ]
    }
  ]
}