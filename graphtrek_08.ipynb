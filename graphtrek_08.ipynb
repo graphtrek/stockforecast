{
  "nbformat": 4,
  "nbformat_minor": 0,
  "metadata": {
    "colab": {
      "name": "graphtrek_08.ipynb",
      "provenance": [],
      "include_colab_link": true
    },
    "kernelspec": {
      "name": "python3",
      "display_name": "Python 3"
    },
    "language_info": {
      "name": "python"
    }
  },
  "cells": [
    {
      "cell_type": "markdown",
      "metadata": {
        "id": "view-in-github",
        "colab_type": "text"
      },
      "source": [
        "<a href=\"https://colab.research.google.com/github/graphtrek/stockforecast/blob/main/graphtrek_08.ipynb\" target=\"_parent\"><img src=\"https://colab.research.google.com/assets/colab-badge.svg\" alt=\"Open In Colab\"/></a>"
      ]
    },
    {
      "cell_type": "code",
      "metadata": {
        "id": "sZPC3Z9u3evF"
      },
      "source": [
        "import numpy as np\n",
        "from tensorflow.keras.models import Sequential\n",
        "from tensorflow.keras.layers import LSTM\n",
        "from tensorflow.keras.optimizers import Adam\n",
        "from tensorflow.keras.losses import MAE\n",
        "from tensorflow.keras.layers import Dense, Dropout\n",
        "from tensorflow import keras\n",
        "from datetime import datetime, timedelta\n",
        "import pandas as pd\n",
        "import os, time\n",
        "from matplotlib import pyplot as plt\n",
        "from sklearn.preprocessing import StandardScaler\n",
        "import seaborn as sns\n",
        "import plotly.graph_objects as go\n",
        "import plotly.express as px\n",
        "from sklearn.preprocessing import MinMaxScaler\n",
        "from pandas.tseries.holiday import USFederalHolidayCalendar\n",
        "from pandas.tseries.offsets import CustomBusinessDay\n",
        "from keras.preprocessing.sequence import TimeseriesGenerator\n",
        "from tensorflow.keras.models import Sequential\n",
        "from tensorflow.keras.layers import LSTM\n",
        "from tensorflow.keras.optimizers import Adam\n",
        "from tensorflow.keras.losses import MAE\n",
        "from tensorflow.keras.layers import Dense, Dropout\n",
        "from tensorflow import keras\n",
        "from datetime import datetime, timedelta\n",
        "import pandas as pd\n",
        "import os, time\n",
        "from matplotlib import pyplot as plt\n",
        "from sklearn.preprocessing import StandardScaler\n",
        "import seaborn as sns\n",
        "import plotly.graph_objects as go\n",
        "import plotly.express as px\n",
        "from plotly.subplots import make_subplots\n",
        "from sklearn.preprocessing import MinMaxScaler\n",
        "from pandas.tseries.holiday import USFederalHolidayCalendar\n",
        "from pandas.tseries.offsets import CustomBusinessDay\n",
        "from keras.preprocessing.sequence import TimeseriesGenerator\n",
        "from pathlib import Path"
      ],
      "execution_count": 19,
      "outputs": []
    },
    {
      "cell_type": "code",
      "metadata": {
        "id": "HKYStAEQ3mh6"
      },
      "source": [
        "ticker = \"QQQ\" # QQQ, SPY, VTI JETS, XLE, XLF, XLNX, ARKK, ARKG, ARKQ, ARKF, PYPL, V\n",
        "look_back = 14 #  number of past days we want to use to predict 1 day in the future.\n",
        "max_data_size = 730 # ~2 years\n",
        "split_percent = 0.90 # use 90% of the data  for train\n",
        "INFO = 1\n",
        "DEBUG = 2\n",
        "TRACE = 3\n",
        "print_level = INFO \n",
        "indicators_model_file_path = '/content/drive/MyDrive/models/' + ticker + '_' + str(look_back) + '_indicators_08.h5'\n",
        "nr_of_features = 1\n",
        "look_forward = 1\n",
        "epochs = 150\n",
        "learning_rate=0.0001\n",
        "num_prediction = look_back\n",
        "apikey = '3F4URDEKOPLFH25T'\n",
        "np.random.seed(42)"
      ],
      "execution_count": 20,
      "outputs": []
    },
    {
      "cell_type": "code",
      "metadata": {
        "id": "tPJ9HBOO3-2-",
        "colab": {
          "base_uri": "https://localhost:8080/"
        },
        "outputId": "ba819230-fb58-4fef-ed06-def35855e861"
      },
      "source": [
        "rsi_url = 'https://www.alphavantage.co/query?function=RSI&datatype=json&symbol='+ticker+'&interval=daily&time_period='+str(look_back)+'&series_type=close&apikey=' + apikey\n",
        "print(rsi_url)\n",
        "rsi_api_response = pd.read_json(rsi_url)\n",
        "#print(rsi_api_response)\n",
        "rsi_api_data = rsi_api_response['Technical Analysis: RSI']\n",
        "#print(rsi_api_data)\n",
        "rsi_api_data = rsi_api_data.drop(\n",
        "    index=['1: Symbol','2: Indicator','3: Last Refreshed','4: Interval','5: Time Period','6: Series Type','7: Time Zone']);\n",
        "#print(rsi_api_data)\n",
        "\n",
        "rsi_data = []\n",
        "indicators_lstm_data = []\n",
        "for key, value in rsi_api_data.items():\n",
        "  date = key\n",
        "  rsi = float(value.get('RSI'))\n",
        "  rsi_data.append([date,rsi])\n",
        "  indicators_lstm_data.append([rsi])\n",
        "\n",
        "last_rsi_data =  str(rsi_data[0])\n",
        "first_rsi_data =  str(rsi_data[-1])\n",
        "print('rsi_data_length:', len(rsi_data), 'first_rsi_data:', first_rsi_data, 'last_rsi_data:', last_rsi_data)  "
      ],
      "execution_count": 21,
      "outputs": [
        {
          "output_type": "stream",
          "name": "stdout",
          "text": [
            "https://www.alphavantage.co/query?function=RSI&datatype=json&symbol=QQQ&interval=daily&time_period=14&series_type=close&apikey=3F4URDEKOPLFH25T\n",
            "rsi_data_length: 5536 first_rsi_data: ['1999-11-19', 88.2353] last_rsi_data: ['2021-11-18', 72.2169]\n"
          ]
        }
      ]
    },
    {
      "cell_type": "code",
      "metadata": {
        "id": "GmEkUmlfJFsW"
      },
      "source": [
        "stoch_url = 'https://www.alphavantage.co/query?function=STOCH&symbol='+ticker+'&interval=daily&apikey=' + apikey"
      ],
      "execution_count": null,
      "outputs": []
    },
    {
      "cell_type": "code",
      "metadata": {
        "colab": {
          "base_uri": "https://localhost:8080/"
        },
        "id": "gTTORjJJ22lE",
        "outputId": "58285b3b-d8d6-4798-f595-b8e684ce1acb"
      },
      "source": [
        "stock_url = 'https://www.alphavantage.co/query?function=TIME_SERIES_DAILY_ADJUSTED&symbol='+ticker+'&outputsize=full&apikey=' + apikey\n",
        "print(stock_url)\n",
        "stock_api_response = pd.read_json(stock_url)\n",
        "stock_api_data = stock_api_response['Time Series (Daily)']\n",
        "#print(stock_api_data)\n",
        "stock_api_data = stock_api_data.drop(index=['1. Information','2. Symbol','3. Last Refreshed','4. Output Size','5. Time Zone']);\n",
        "\n",
        "stock_data = []\n",
        "split_coefficient = 1\n",
        "\n",
        "for key, value in stock_api_data.items():\n",
        "  date = key\n",
        "  open = float(value.get('1. open'))\n",
        "  high = float(value.get('2. high'))\n",
        "  low = float(value.get('3. low'))\n",
        "  close = float(value.get('4. close'))\n",
        "  adjusted_close = float(value.get('5. adjusted close'))\n",
        "  volume = int(value.get('6. volume'))\n",
        "  divident = float(value.get('7. dividend amount'))\n",
        "\n",
        "  if float(value.get('8. split coefficient')) > 1:\n",
        "    split_coefficient = float(value.get('8. split coefficient'))\n",
        "    \n",
        "  open = open / split_coefficient\n",
        "  high = high /split_coefficient\n",
        "  close = close / split_coefficient\n",
        "  low = low / split_coefficient\n",
        "  \n",
        "  stock_data.append([\n",
        "      date,\n",
        "      close,\n",
        "      volume,\n",
        "      high,\n",
        "      low,\n",
        "      open,\n",
        "      divident\n",
        "      ])\n",
        "\n",
        "last_date =  str(stock_data[0][0])\n",
        "print('data length:', len(stock_data), 'last_date:', last_date)\n",
        "\n",
        "last_stock_data =  str(stock_data[0])\n",
        "first_stock_data =  str(stock_data[-1])\n",
        "print('stock_data_length:', len(stock_data), 'first_stock_data:', first_stock_data, 'last_stock_data:', last_stock_data)"
      ],
      "execution_count": 22,
      "outputs": [
        {
          "output_type": "stream",
          "name": "stdout",
          "text": [
            "https://www.alphavantage.co/query?function=TIME_SERIES_DAILY_ADJUSTED&symbol=QQQ&outputsize=full&apikey=3F4URDEKOPLFH25T\n",
            "data length: 5550 last_date: 2021-11-18\n",
            "stock_data_length: 5550 first_stock_data: ['1999-11-01', 65.4, 4840900, 66.55, 65.3, 65.75, 0.0] last_stock_data: ['2021-11-18', 401.75, 45721515, 402.27, 397.45, 399.73, 0.0]\n"
          ]
        }
      ]
    },
    {
      "cell_type": "code",
      "metadata": {
        "id": "GzJkdoRGuYmf"
      },
      "source": [
        "if max_data_size < len(rsi_data):\n",
        "  rsi_data = np.flip(rsi_data[:max_data_size],axis=0)\n",
        "  stock_data = np.flip(stock_data[:max_data_size],axis=0)\n",
        "  indicators_lstm_data = np.flip(indicators_lstm_data[:max_data_size],axis=0)\n",
        "else:\n",
        "  rsi_data = np.flip(rsi_data,axis=0)\n",
        "  stock_data = np.flip(stock_data,axis=0)\n",
        "  indicators_lstm_data = np.flip(indicators_lstm_data,axis=0)"
      ],
      "execution_count": 23,
      "outputs": []
    },
    {
      "cell_type": "code",
      "metadata": {
        "id": "xHrOFKHo3ocW"
      },
      "source": [
        "stock_df = pd.DataFrame(stock_data,columns=['Date','Close','Volume','High','Low','Open','Divident'])\n",
        "stock_df['50MA'] = stock_df['Close'].rolling(50).mean()\n",
        "stock_df['100MA'] = stock_df['Close'].rolling(100).mean()\n",
        "stock_df['200MA'] = stock_df['Close'].rolling(200).mean()"
      ],
      "execution_count": 24,
      "outputs": []
    },
    {
      "cell_type": "code",
      "metadata": {
        "id": "OYTx2W6N4JIM"
      },
      "source": [
        "indicators_df = pd.DataFrame(rsi_data,columns=['Date','RSI'])\n",
        "\n",
        "split = int(split_percent*len(rsi_data))\n",
        "if len(rsi_data) - split < look_back:\n",
        "  split = look_back\n",
        "split\n",
        "\n",
        "\n",
        "indicators_df_train = indicators_df.iloc[:split]\n",
        "indicators_df_test = indicators_df.iloc[split:]\n",
        "\n",
        "indicators_lstm_train_data = indicators_lstm_data[:split]\n",
        "indicators_lstm_test_data = indicators_lstm_data[split:]"
      ],
      "execution_count": 25,
      "outputs": []
    },
    {
      "cell_type": "code",
      "metadata": {
        "id": "5oRtthul4Pyj"
      },
      "source": [
        "np.set_printoptions(formatter={'float': '{: 0.12f}'.format})\n",
        "\n",
        "indicators_scaler = MinMaxScaler(feature_range=(0, 1))\n",
        "indicators_scaler = indicators_scaler.fit(indicators_lstm_data)\n",
        "\n",
        "indicators_lstm_train_data_scaled = indicators_scaler.transform(indicators_lstm_train_data)\n",
        "if print_level >= TRACE:\n",
        "  print(indicators_lstm_train_data_scaled[:look_back+1])\n",
        "  print(indicators_lstm_train_data_scaled.shape)\n",
        "\n",
        "indicators_lstm_test_data_scaled = indicators_scaler.transform(indicators_lstm_test_data)\n",
        "if print_level >= TRACE:\n",
        "  print(indicators_lstm_test_data_scaled[:look_back+1])\n",
        "  print(indicators_lstm_test_data_scaled.shape)"
      ],
      "execution_count": 26,
      "outputs": []
    },
    {
      "cell_type": "code",
      "metadata": {
        "id": "Cmmqy0nc4Slr"
      },
      "source": [
        "indicators_train_generator = TimeseriesGenerator(indicators_lstm_train_data_scaled, indicators_lstm_train_data_scaled, sampling_rate=1, length=look_back, batch_size=64)\n",
        "\n",
        "if print_level >= TRACE:\n",
        "  print('Samples: %d' % len(indicators_train_generator))\n",
        "  # print each sample\n",
        "  for i in range(2):\n",
        "    x, y = indicators_train_generator[i]\n",
        "    print('%s => %s' % (x, y))"
      ],
      "execution_count": 27,
      "outputs": []
    },
    {
      "cell_type": "code",
      "metadata": {
        "id": "xFQnXfRp6tVP",
        "colab": {
          "base_uri": "https://localhost:8080/"
        },
        "outputId": "58e0ab07-5a8b-488a-c853-666a099d4978"
      },
      "source": [
        "indicators_model = None\n",
        "try:\n",
        "  indicators_model = keras.models.load_model(indicators_model_file_path)\n",
        "  modified = os.path.getmtime(indicators_model_file_path)\n",
        "\n",
        "  print(pd.to_datetime(last_date).date() - datetime.fromtimestamp(modified).date() )\n",
        "  print('Loaded', indicators_model_file_path , ' model train date:',datetime.fromtimestamp(modified).date() , 'last date:', last_date)\n",
        "except:\n",
        "  indicators_model = None\n",
        "  print('Model ' + indicators_model_file_path + ' does not exists.')"
      ],
      "execution_count": 28,
      "outputs": [
        {
          "output_type": "stream",
          "name": "stdout",
          "text": [
            "-1 day, 0:00:00\n",
            "Loaded /content/drive/MyDrive/models/QQQ_14_indicators_08.h5  model train date: 2021-11-19 last date: 2021-11-18\n"
          ]
        }
      ]
    },
    {
      "cell_type": "code",
      "metadata": {
        "id": "r59DQEiZ0u18"
      },
      "source": [
        "if indicators_model is None:\n",
        "  indicators_model = Sequential()\n",
        "  indicators_model.add(LSTM(units=50, activation='tanh', input_shape=(look_back, nr_of_features), return_sequences=True))\n",
        "  indicators_model.add(Dropout(0.2))\n",
        "  indicators_model.add(LSTM(units=50, return_sequences=True, activation=\"tanh\"))\n",
        "  indicators_model.add(Dropout(0.2))\n",
        "  indicators_model.add(LSTM(units=50, return_sequences=True, activation=\"tanh\"))\n",
        "  indicators_model.add(Dropout(0.2))\n",
        "  indicators_model.add(LSTM(units=50, activation=\"tanh\"))\n",
        "  indicators_model.add(Dropout(0.2))\n",
        "  indicators_model.add(Dense(nr_of_features))\n",
        "\n",
        "  indicators_model.compile(\n",
        "      loss=MAE,\n",
        "      optimizer=Adam(learning_rate=learning_rate),\n",
        "      metrics=[\"mae\"]\n",
        "  )\n",
        "    \n",
        "  #model.summary()\n",
        "  print('Model ' + indicators_model_file_path + ' compiled.')\n",
        "\n",
        "  indicators_modelo = indicators_model.fit(indicators_train_generator, epochs=epochs, verbose=0 )\n",
        "  \n",
        "  indicators_model.save(indicators_model_file_path)\n",
        "  print('Saved model ' + indicators_model_file_path)\n",
        "\n",
        "  if print_level >= DEBUG:\n",
        "    plt.plot(indicators_modelo.history['loss'])\n",
        "    plt.xlabel('Epochs')\n",
        "    plt.ylabel('Loss')\n",
        "    plt.show()"
      ],
      "execution_count": 29,
      "outputs": []
    },
    {
      "cell_type": "code",
      "metadata": {
        "colab": {
          "base_uri": "https://localhost:8080/"
        },
        "id": "xkdpY8eE4XlZ",
        "outputId": "4e97f378-ace8-4c5c-86d6-4a6449c2ac69"
      },
      "source": [
        "indicators_test_generator = TimeseriesGenerator(indicators_lstm_test_data_scaled, indicators_lstm_test_data_scaled,sampling_rate=1, length=look_back, batch_size=look_back)\n",
        "\n",
        "print('Samples: %d' % len(indicators_test_generator))\n",
        "# print each sample\n",
        "if print_level >= TRACE:\n",
        "  for i in range(2):\n",
        "    x, y = indicators_test_generator[i]\n",
        "    print('%s => %s' % (x, y))"
      ],
      "execution_count": 30,
      "outputs": [
        {
          "output_type": "stream",
          "name": "stdout",
          "text": [
            "Samples: 5\n"
          ]
        }
      ]
    },
    {
      "cell_type": "code",
      "metadata": {
        "id": "WAS1RHA1Mn10"
      },
      "source": [
        "#Make prediction\n",
        "indicators_prediction_scaled = indicators_model.predict(indicators_test_generator)\n",
        "\n",
        "if print_level >= DEBUG:\n",
        "  np.set_printoptions(formatter={'float': '{: 0.12f}'.format})\n",
        "  print(indicators_prediction_scaled[:5])\n",
        "\n",
        "indicators_prediction = indicators_scaler.inverse_transform(indicators_prediction_scaled)\n",
        "\n",
        "if print_level >= DEBUG:\n",
        "  np.set_printoptions(formatter={'float': '{: 0.2f}'.format})\n",
        "  print('indicators_prediction shape:',indicators_prediction.shape)\n",
        "\n",
        "  for x in range(look_back + 1):\n",
        "    print('pred:',indicators_prediction[x], 'test:', indicators_lstm_test_data[x])\n"
      ],
      "execution_count": 31,
      "outputs": []
    },
    {
      "cell_type": "code",
      "metadata": {
        "colab": {
          "base_uri": "https://localhost:8080/"
        },
        "id": "ae72DYdyd0zp",
        "outputId": "2e2389ac-40b5-4596-de96-4ad252a3c9ca"
      },
      "source": [
        "def predict(num_prediction, model):\n",
        "    prediction_list = indicators_lstm_test_data_scaled[-look_back:]\n",
        "    #print('prediction_list',prediction_list)\n",
        "    for _ in range(num_prediction):\n",
        "        x = prediction_list[-look_back:]\n",
        "        #print(x)\n",
        "        x = x.reshape((1, look_back, nr_of_features))\n",
        "        out = model.predict(x)\n",
        "        #print(x,out) \n",
        "        prediction_list = np.append(prediction_list, out, axis=0)\n",
        "    prediction_list = prediction_list[look_back-1:]\n",
        "        \n",
        "    return prediction_list\n",
        "    \n",
        "def predict_dates(last_date,num_prediction):\n",
        "    us_bd = CustomBusinessDay(calendar=USFederalHolidayCalendar())\n",
        "    prediction_dates = pd.date_range(last_date, periods=num_prediction+1,freq=us_bd).tolist()\n",
        "    return prediction_dates\n",
        "\n",
        "indicators_forecast_scaled = predict(num_prediction, indicators_model)\n",
        "#print(forecast_scaled)\n",
        "indicators_forecast_dates = predict_dates(indicators_df['Date'].values[-1],num_prediction)\n",
        "\n",
        "indicators_forecast = indicators_scaler.inverse_transform(indicators_forecast_scaled.reshape((-1,nr_of_features)))\n",
        "if nr_of_features == 1:\n",
        "   indicators_forecast = indicators_forecast.reshape((-1))\n",
        "\n",
        "print('indicators_forecast:',indicators_forecast)\n"
      ],
      "execution_count": 32,
      "outputs": [
        {
          "output_type": "stream",
          "name": "stdout",
          "text": [
            "indicators_forecast: [ 72.216900000000  67.345247058201  66.996509625816  66.637737632817\n",
            "  66.227195472074  65.775549521869  65.375738541222  65.058792877889\n",
            "  64.949384738308  65.145896233720  65.231301782072  65.136593933582\n",
            "  65.023135680741  64.815585196626  64.609751960534]\n"
          ]
        }
      ]
    },
    {
      "cell_type": "code",
      "metadata": {
        "colab": {
          "base_uri": "https://localhost:8080/",
          "height": 667
        },
        "id": "dnqEqJioguwy",
        "outputId": "b070ab65-f630-43fb-be28-50527e558c33"
      },
      "source": [
        "chart_days = len(indicators_df_test) * 2\n",
        "trace1 = go.Candlestick(\n",
        "    x = stock_df.tail(chart_days)['Date'],\n",
        "    open = stock_df.tail(chart_days)['Open'],\n",
        "    high = stock_df.tail(chart_days)['High'],\n",
        "    low = stock_df.tail(chart_days)['Low'],\n",
        "    close = stock_df.tail(chart_days)['Close'],\n",
        "    name = ticker + ' Price'\n",
        ")\n",
        "\n",
        "trace2 = go.Scatter(\n",
        "    x = stock_df.tail(chart_days)['Date'],\n",
        "    y = stock_df.tail(chart_days)['50MA'],\n",
        "    mode='lines',\n",
        "    name ='50MA'\n",
        ")\n",
        "\n",
        "trace3 = go.Scatter(\n",
        "    x = stock_df.tail(chart_days)['Date'],\n",
        "    y = stock_df.tail(chart_days)['100MA'],\n",
        "    mode='lines',\n",
        "    name ='100MA'\n",
        ")\n",
        "\n",
        "trace4 = go.Scatter(\n",
        "    x = stock_df.tail(chart_days)['Date'],\n",
        "    y = stock_df.tail(chart_days)['200MA'],\n",
        "    mode='lines',\n",
        "    name ='200MA'\n",
        ")\n",
        "\n",
        "\n",
        "#'Date','Close','Volume','High','Low','Open','Divident'\n",
        "open_price =  str(stock_data[-1][5])\n",
        "low_price =  str(stock_data[-1][3])\n",
        "high_price =  str(stock_data[-1][4])\n",
        "close_price =  str(stock_data[-1][1])\n",
        "indicators_forecast_mean = np.round(np.mean(indicators_forecast))\n",
        "\n",
        "layout = go.Layout(\n",
        "    title = ticker + ' Date:' + last_date + ' Open:' + open_price + ' High:' + high_price + ' Low:' + low_price + ' Close:' + close_price,\n",
        "    xaxis = {'title' : \"Dates\"},\n",
        "    yaxis = {'title' : \"Close Price ($)\"},\n",
        "    height = 450\n",
        ")\n",
        "\n",
        "trace_train = go.Scatter(\n",
        "  x = indicators_df_train.tail(len(indicators_df_test))['Date'],\n",
        "  y = indicators_df_train.tail(len(indicators_df_test))['RSI'],\n",
        "  mode='lines',\n",
        "  name ='RSI'\n",
        ")\n",
        "\n",
        "trace_test = go.Scatter(\n",
        "  x = indicators_df_test['Date'],\n",
        "  y = indicators_df_test['RSI'],\n",
        "  mode='markers+lines',\n",
        "  name ='Test'\n",
        ")\n",
        "\n",
        "trace_prediction = go.Scatter(\n",
        "    x = indicators_df_test['Date'],\n",
        "    y = indicators_prediction.reshape((-1)),\n",
        "    mode='markers+lines',\n",
        "    name ='Prediction'\n",
        ")\n",
        "\n",
        "trace_forecast = go.Scatter(\n",
        "    x = indicators_forecast_dates,\n",
        "    y = indicators_forecast,\n",
        "    mode='markers+lines',\n",
        "    name ='Forecast'\n",
        ")\n",
        "\n",
        "\n",
        "tradingview_link = '<a href=\"https://in.tradingview.com/chart/66XmQfYy/?symbol=' + ticker +'\">' + ticker +'</a>'\n",
        "stock_title = tradingview_link + ' Date:' + last_date + ' Open:' + open_price + ' High:' + high_price + ' Low:' + low_price + ' Close:' + close_price\n",
        "indicators_title = tradingview_link + ' RSI('+ str(look_back)+ ') Date:' + last_date + ' Close:' + indicators_df['RSI'].iloc[-1] + ' Forecast('+str(look_back)+'):' + str(indicators_forecast_mean)\n",
        "\n",
        "fig = make_subplots(rows=2, cols=1, row_heights=[0.6, 0.4], subplot_titles=(stock_title, indicators_title))\n",
        "\n",
        "\n",
        "fig.add_trace(trace1,row=1, col=1)\n",
        "fig.add_trace(trace2,row=1, col=1)\n",
        "fig.add_trace(trace3,row=1, col=1)\n",
        "fig.add_trace(trace4,row=1, col=1)\n",
        "\n",
        "fig.add_trace(trace_train,row=2, col=1)\n",
        "fig.add_trace(trace_test,row=2, col=1)\n",
        "fig.add_trace(trace_prediction,row=2, col=1)\n",
        "fig.add_trace(trace_forecast,row=2, col=1)\n",
        "\n",
        "fig.add_trace(go.Scatter(\n",
        "        x = [indicators_df_train.tail(len(indicators_df_test))['Date'].min(), np.max(indicators_forecast_dates)],\n",
        "        y = [70, 70],\n",
        "        mode = \"lines\",\n",
        "        line = dict(shape = 'linear', color = 'rgb(100, 10, 100)', dash = 'dash')\n",
        "    ),row=2, col=1)\n",
        "\n",
        "fig.add_trace(go.Scatter(\n",
        "        x = [indicators_df_train.tail(len(indicators_df_test))['Date'].min(), np.max(indicators_forecast_dates)],\n",
        "        y = [50, 50],\n",
        "        mode = \"lines\",\n",
        "        line = dict(shape = 'linear', color = 'rgb(10, 12, 240)', dash = 'dash')\n",
        "    ),row=2, col=1)\n",
        "\n",
        "fig.add_trace(go.Scatter(\n",
        "        x = [indicators_df_train.tail(len(indicators_df_test))['Date'].min(), np.max(indicators_forecast_dates)],\n",
        "        y = [30, 30],\n",
        "        mode = \"lines\",\n",
        "        line = dict(shape = 'linear', color = 'rgb(10, 120, 24)', dash = 'dash')\n",
        "    ),row=2, col=1)\n",
        "\n",
        "fig.update_yaxes(showspikes=True, spikemode='across', spikesnap='cursor',spikedash='dash')\n",
        "fig.update_xaxes(showspikes=True, spikemode='across', spikesnap='cursor', spikedash='dash')\n",
        "fig.update_layout(xaxis_rangeslider_visible=False,height=650)\n",
        "\n",
        "fig.show()\n",
        "Path('/content/drive/MyDrive/models/charts/'+ last_date).mkdir(parents=True, exist_ok=True)\n",
        "fig.write_html('/content/drive/MyDrive/models/charts/'+ last_date+ '/' + ticker + '_' + str(look_back) + '_08_inidicators_forecast.html')"
      ],
      "execution_count": 33,
      "outputs": [
        {
          "output_type": "display_data",
          "data": {
            "text/html": [
              "<html>\n",
              "<head><meta charset=\"utf-8\" /></head>\n",
              "<body>\n",
              "    <div>\n",
              "            <script src=\"https://cdnjs.cloudflare.com/ajax/libs/mathjax/2.7.5/MathJax.js?config=TeX-AMS-MML_SVG\"></script><script type=\"text/javascript\">if (window.MathJax) {MathJax.Hub.Config({SVG: {font: \"STIX-Web\"}});}</script>\n",
              "                <script type=\"text/javascript\">window.PlotlyConfig = {MathJaxConfig: 'local'};</script>\n",
              "        <script src=\"https://cdn.plot.ly/plotly-latest.min.js\"></script>    \n",
              "            <div id=\"793fcf48-1405-44b3-8611-f2b7a090842b\" class=\"plotly-graph-div\" style=\"height:650px; width:100%;\"></div>\n",
              "            <script type=\"text/javascript\">\n",
              "                \n",
              "                    window.PLOTLYENV=window.PLOTLYENV || {};\n",
              "                    \n",
              "                if (document.getElementById(\"793fcf48-1405-44b3-8611-f2b7a090842b\")) {\n",
              "                    Plotly.newPlot(\n",
              "                        '793fcf48-1405-44b3-8611-f2b7a090842b',\n",
              "                        [{\"close\": [\"341.63\", \"340.15\", \"339.0\", \"340.22\", \"337.99\", \"336.19\", \"330.14\", \"329.03\", \"331.51\", \"334.2\", \"325.76\", \"325.31\", \"316.89\", \"319.34\", \"326.39\", \"324.41\", \"322.22\", \"322.59\", \"328.83\", \"327.01\", \"332.51\", \"332.97\", \"334.13\", \"332.88\", \"333.93\", \"332.82\", \"333.47\", \"330.0\", \"335.6\", \"336.6\", \"336.76\", \"336.84\", \"340.35\", \"341.24\", \"344.51\", \"342.26\", \"341.01\", \"345.34\", \"342.63\", \"344.36\", \"347.57\", \"347.74\", \"349.89\", \"349.46\", \"353.71\", \"354.99\", \"354.43\", \"354.57\", \"358.64\", \"360.19\", \"360.95\", \"358.77\", \"361.01\", \"362.42\", \"362.42\", \"363.07\", \"360.52\", \"357.6\", \"354.67\", \"358.79\", \"361.56\", \"363.95\", \"368.2\", \"368.49\", \"364.43\", \"365.83\", \"366.48\", \"364.57\", \"364.6\", \"366.81\", \"367.34\", \"369.67\", \"368.05\", \"368.73\", \"366.84\", \"366.21\", \"367.53\", \"368.82\", \"368.98\", \"365.73\", \"362.21\", \"363.96\", \"367.73\", \"373.23\", \"374.37\", \"374.8\", \"372.42\", \"376.04\", \"380.26\", \"379.95\", \"380.58\", \"380.4\", \"381.57\", \"382.11\", \"380.78\", \"379.47\", \"376.59\", \"376.33\", \"375.26\", \"378.05\", \"378.31\", \"373.83\", \"365.7\", \"366.15\", \"369.57\", \"372.98\", \"373.33\", \"370.35\", \"359.87\", \"359.28\", \"357.96\", \"360.18\", \"352.62\", \"357.38\", \"359.67\", \"362.97\", \"361.16\", \"358.39\", \"357.14\", \"360.0\", \"366.63\", \"368.94\", \"372.65\", \"375.47\", \"374.98\", \"377.27\", \"374.1\", \"377.93\", \"379.12\", \"380.0\", \"384.22\", \"386.11\", \"387.43\", \"389.05\", \"393.18\", \"398.22\", \"398.6\", \"398.06\", \"395.32\", \"389.51\", \"390.59\", \"394.7\", \"394.61\", \"397.42\", \"397.63\", \"401.75\"], \"high\": [\"341.92\", \"342.15\", \"340.85\", \"342.8\", \"340.26\", \"340.0\", \"333.89\", \"333.14\", \"331.67\", \"336.65\", \"332.96\", \"326.1299\", \"322.62\", \"322.4\", \"327.33\", \"326.3721\", \"326.65\", \"322.9\", \"329.71\", \"330.86\", \"333.67\", \"334.81\", \"334.61\", \"334.54\", \"335.5699\", \"335.785\", \"334.34\", \"331.86\", \"336.0582\", \"336.66\", \"339.29\", \"338.97\", \"340.46\", \"341.25\", \"344.52\", \"344.47\", \"343.84\", \"346.38\", \"344.8082\", \"344.69\", \"348.03\", \"348.92\", \"351.46\", \"350.72\", \"353.85\", \"355.0199\", \"355.23\", \"355.09\", \"358.97\", \"360.48\", \"362.76\", \"359.65\", \"361.5\", \"362.89\", \"365.465\", \"365.49\", \"363.19\", \"362.41\", \"355.18\", \"360.28\", \"361.56\", \"363.96\", \"368.485\", \"368.89\", \"368.22\", \"367.45\", \"367.6794\", \"365.17\", \"366.88\", \"366.93\", \"368.32\", \"369.91\", \"369.37\", \"369.27\", \"369.56\", \"368.65\", \"367.9\", \"369.16\", \"369.02\", \"367.15\", \"366.62\", \"365.68\", \"368.14\", \"373.935\", \"374.99\", \"375.39\", \"374.62\", \"376.56\", \"380.76\", \"380.579\", \"382.71\", \"382.31\", \"381.98\", \"382.778\", \"381.93\", \"382.15\", \"381.97\", \"379.43\", \"378.61\", \"378.41\", \"378.9\", \"377.87\", \"369.25\", \"368.81\", \"371.07\", \"374.04\", \"373.76\", \"371.2516\", \"370.302\", \"363.37\", \"362.68\", \"361.25\", \"358.86\", \"359.69\", \"359.95\", \"365.69\", \"364.3166\", \"363.2\", \"360.33\", \"360.69\", \"366.85\", \"369.06\", \"372.87\", \"375.52\", \"376.565\", \"377.47\", \"376.97\", \"378.87\", \"382.71\", \"383.15\", \"384.48\", \"386.28\", \"387.56\", \"389.54\", \"393.61\", \"399.2\", \"400.99\", \"399.62\", \"399.57\", \"395.36\", \"392.75\", \"395.25\", \"396.24\", \"397.93\", \"399.7196\", \"402.27\"], \"low\": [\"338.9\", \"339.17\", \"338.3301\", \"336.9001\", \"337.05\", \"335.73\", \"326.21\", \"328.23\", \"326.45\", \"331.6914\", \"325.55\", \"319.02\", \"316.0\", \"316.9\", \"322.08\", \"321.45\", \"321.94\", \"316.3\", \"323.89\", \"326.64\", \"326.9032\", \"331.755\", \"332.95\", \"332.67\", \"333.6\", \"331.43\", \"331.695\", \"328.28\", \"331.78\", \"334.34\", \"335.03\", \"336.651\", \"336.73\", \"339.69\", \"340.46\", \"341.52\", \"337.45\", \"339.92\", \"341.86\", \"340.15\", \"343.84\", \"346.88\", \"349.17\", \"348.84\", \"350.72\", \"352.67\", \"353.83\", \"352.68\", \"356.28\", \"356.49\", \"358.94\", \"354.42\", \"357.57\", \"360.83\", \"361.54\", \"362.22\", \"358.46\", \"357.24\", \"352.04\", \"353.8\", \"358.12\", \"361.77\", \"363.9157\", \"366.601\", \"360.16\", \"363.24\", \"365.25\", \"362.41\", \"363.87\", \"362.0\", \"365.63\", \"367.45\", \"366.905\", \"367.39\", \"365.62\", \"364.84\", \"364.295\", \"367.38\", \"363.7\", \"363.23\", \"361.865\", \"359.96\", \"364.74\", \"368.79\", \"373.36\", \"373.855\", \"371.97\", \"372.57\", \"376.83\", \"378.36\", \"380.37\", \"379.15\", \"379.2003\", \"380.4882\", \"378.45\", \"379.22\", \"376.245\", \"374.22\", \"374.28\", \"373.37\", \"374.695\", \"372.76\", \"360.93\", \"364.99\", \"365.9584\", \"370.099\", \"370.27\", \"367.73\", \"359.35\", \"358.635\", \"357.1\", \"354.38\", \"350.32\", \"353.48\", \"353.15\", \"362.25\", \"360.61\", \"358.3\", \"356.48\", \"357.43\", \"363.01\", \"366.82\", \"366.99\", \"372.6974\", \"373.46\", \"373.85\", \"372.385\", \"373.56\", \"377.905\", \"379.31\", \"381.155\", \"380.7\", \"384.42\", \"386.75\", \"388.48\", \"393.92\", \"397.16\", \"397.4\", \"393.92\", \"387.53\", \"390.24\", \"390.13\", \"392.095\", \"393.66\", \"396.64\", \"397.45\"], \"name\": \"QQQ Price\", \"open\": [\"339.67\", \"341.93\", \"339.81\", \"342.37\", \"337.7\", \"339.23\", \"333.56\", \"332.25\", \"328.76\", \"334.37\", \"332.78\", \"319.7\", \"320.23\", \"319.92\", \"322.6\", \"324.63\", \"325.39\", \"316.66\", \"324.12\", \"330.43\", \"329.37\", \"334.07\", \"333.66\", \"333.67\", \"334.12\", \"335.3\", \"333.25\", \"330.55\", \"331.85\", \"335.05\", \"338.395\", \"338.17\", \"337.19\", \"340.36\", \"341.68\", \"344.15\", \"342.74\", \"339.97\", \"343.63\", \"342.43\", \"344.15\", \"347.51\", \"349.73\", \"350.47\", \"350.78\", \"353.53\", \"354.83\", \"354.07\", \"356.52\", \"359.26\", \"362.45\", \"355.74\", \"358.17\", \"362.45\", \"362.03\", \"364.83\", \"362.98\", \"361.4\", \"354.05\", \"355.63\", \"358.35\", \"361.77\", \"365.31\", \"367.49\", \"368.22\", \"365.6\", \"365.25\", \"362.44\", \"366.28\", \"365.28\", \"366.77\", \"368.18\", \"368.37\", \"368.52\", \"369.26\", \"368.14\", \"365.69\", \"367.89\", \"367.67\", \"366.15\", \"365.18\", \"360.22\", \"365.06\", \"368.8\", \"373.84\", \"374.63\", \"373.92\", \"373.07\", \"376.85\", \"380.51\", \"381.04\", \"381.97\", \"379.22\", \"381.68\", \"381.93\", \"381.01\", \"381.23\", \"378.99\", \"377.86\", \"375.73\", \"376.68\", \"377.82\", \"367.46\", \"367.58\", \"367.09\", \"370.76\", \"370.65\", \"370.2\", \"365.67\", \"361.17\", \"360.97\", \"358.6\", \"358.52\", \"353.71\", \"354.08\", \"362.8\", \"364.08\", \"359.58\", \"359.88\", \"359.51\", \"363.69\", \"367.88\", \"367.61\", \"373.75\", \"375.94\", \"374.16\", \"375.98\", \"375.56\", \"380.23\", \"379.58\", \"381.95\", \"381.06\", \"386.56\", \"386.8\", \"389.55\", \"394.48\", \"400.04\", \"398.57\", \"399.16\", \"392.47\", \"392.57\", \"391.77\", \"395.91\", \"393.86\", \"397.75\", \"399.73\"], \"type\": \"candlestick\", \"x\": [\"2021-04-26\", \"2021-04-27\", \"2021-04-28\", \"2021-04-29\", \"2021-04-30\", \"2021-05-03\", \"2021-05-04\", \"2021-05-05\", \"2021-05-06\", \"2021-05-07\", \"2021-05-10\", \"2021-05-11\", \"2021-05-12\", \"2021-05-13\", \"2021-05-14\", \"2021-05-17\", \"2021-05-18\", \"2021-05-19\", \"2021-05-20\", \"2021-05-21\", \"2021-05-24\", \"2021-05-25\", \"2021-05-26\", \"2021-05-27\", \"2021-05-28\", \"2021-06-01\", \"2021-06-02\", \"2021-06-03\", \"2021-06-04\", \"2021-06-07\", \"2021-06-08\", \"2021-06-09\", \"2021-06-10\", \"2021-06-11\", \"2021-06-14\", \"2021-06-15\", \"2021-06-16\", \"2021-06-17\", \"2021-06-18\", \"2021-06-21\", \"2021-06-22\", \"2021-06-23\", \"2021-06-24\", \"2021-06-25\", \"2021-06-28\", \"2021-06-29\", \"2021-06-30\", \"2021-07-01\", \"2021-07-02\", \"2021-07-06\", \"2021-07-07\", \"2021-07-08\", \"2021-07-09\", \"2021-07-12\", \"2021-07-13\", \"2021-07-14\", \"2021-07-15\", \"2021-07-16\", \"2021-07-19\", \"2021-07-20\", \"2021-07-21\", \"2021-07-22\", \"2021-07-23\", \"2021-07-26\", \"2021-07-27\", \"2021-07-28\", \"2021-07-29\", \"2021-07-30\", \"2021-08-02\", \"2021-08-03\", \"2021-08-04\", \"2021-08-05\", \"2021-08-06\", \"2021-08-09\", \"2021-08-10\", \"2021-08-11\", \"2021-08-12\", \"2021-08-13\", \"2021-08-16\", \"2021-08-17\", \"2021-08-18\", \"2021-08-19\", \"2021-08-20\", \"2021-08-23\", \"2021-08-24\", \"2021-08-25\", \"2021-08-26\", \"2021-08-27\", \"2021-08-30\", \"2021-08-31\", \"2021-09-01\", \"2021-09-02\", \"2021-09-03\", \"2021-09-07\", \"2021-09-08\", \"2021-09-09\", \"2021-09-10\", \"2021-09-13\", \"2021-09-14\", \"2021-09-15\", \"2021-09-16\", \"2021-09-17\", \"2021-09-20\", \"2021-09-21\", \"2021-09-22\", \"2021-09-23\", \"2021-09-24\", \"2021-09-27\", \"2021-09-28\", \"2021-09-29\", \"2021-09-30\", \"2021-10-01\", \"2021-10-04\", \"2021-10-05\", \"2021-10-06\", \"2021-10-07\", \"2021-10-08\", \"2021-10-11\", \"2021-10-12\", \"2021-10-13\", \"2021-10-14\", \"2021-10-15\", \"2021-10-18\", \"2021-10-19\", \"2021-10-20\", \"2021-10-21\", \"2021-10-22\", \"2021-10-25\", \"2021-10-26\", \"2021-10-27\", \"2021-10-28\", \"2021-10-29\", \"2021-11-01\", \"2021-11-02\", \"2021-11-03\", \"2021-11-04\", \"2021-11-05\", \"2021-11-08\", \"2021-11-09\", \"2021-11-10\", \"2021-11-11\", \"2021-11-12\", \"2021-11-15\", \"2021-11-16\", \"2021-11-17\", \"2021-11-18\"], \"xaxis\": \"x\", \"yaxis\": \"y\"}, {\"mode\": \"lines\", \"name\": \"50MA\", \"type\": \"scatter\", \"x\": [\"2021-04-26\", \"2021-04-27\", \"2021-04-28\", \"2021-04-29\", \"2021-04-30\", \"2021-05-03\", \"2021-05-04\", \"2021-05-05\", \"2021-05-06\", \"2021-05-07\", \"2021-05-10\", \"2021-05-11\", \"2021-05-12\", \"2021-05-13\", \"2021-05-14\", \"2021-05-17\", \"2021-05-18\", \"2021-05-19\", \"2021-05-20\", \"2021-05-21\", \"2021-05-24\", \"2021-05-25\", \"2021-05-26\", \"2021-05-27\", \"2021-05-28\", \"2021-06-01\", \"2021-06-02\", \"2021-06-03\", \"2021-06-04\", \"2021-06-07\", \"2021-06-08\", \"2021-06-09\", \"2021-06-10\", \"2021-06-11\", \"2021-06-14\", \"2021-06-15\", \"2021-06-16\", \"2021-06-17\", \"2021-06-18\", \"2021-06-21\", \"2021-06-22\", \"2021-06-23\", \"2021-06-24\", \"2021-06-25\", \"2021-06-28\", \"2021-06-29\", \"2021-06-30\", \"2021-07-01\", \"2021-07-02\", \"2021-07-06\", \"2021-07-07\", \"2021-07-08\", \"2021-07-09\", \"2021-07-12\", \"2021-07-13\", \"2021-07-14\", \"2021-07-15\", \"2021-07-16\", \"2021-07-19\", \"2021-07-20\", \"2021-07-21\", \"2021-07-22\", \"2021-07-23\", \"2021-07-26\", \"2021-07-27\", \"2021-07-28\", \"2021-07-29\", \"2021-07-30\", \"2021-08-02\", \"2021-08-03\", \"2021-08-04\", \"2021-08-05\", \"2021-08-06\", \"2021-08-09\", \"2021-08-10\", \"2021-08-11\", \"2021-08-12\", \"2021-08-13\", \"2021-08-16\", \"2021-08-17\", \"2021-08-18\", \"2021-08-19\", \"2021-08-20\", \"2021-08-23\", \"2021-08-24\", \"2021-08-25\", \"2021-08-26\", \"2021-08-27\", \"2021-08-30\", \"2021-08-31\", \"2021-09-01\", \"2021-09-02\", \"2021-09-03\", \"2021-09-07\", \"2021-09-08\", \"2021-09-09\", \"2021-09-10\", \"2021-09-13\", \"2021-09-14\", \"2021-09-15\", \"2021-09-16\", \"2021-09-17\", \"2021-09-20\", \"2021-09-21\", \"2021-09-22\", \"2021-09-23\", \"2021-09-24\", \"2021-09-27\", \"2021-09-28\", \"2021-09-29\", \"2021-09-30\", \"2021-10-01\", \"2021-10-04\", \"2021-10-05\", \"2021-10-06\", \"2021-10-07\", \"2021-10-08\", \"2021-10-11\", \"2021-10-12\", \"2021-10-13\", \"2021-10-14\", \"2021-10-15\", \"2021-10-18\", \"2021-10-19\", \"2021-10-20\", \"2021-10-21\", \"2021-10-22\", \"2021-10-25\", \"2021-10-26\", \"2021-10-27\", \"2021-10-28\", \"2021-10-29\", \"2021-11-01\", \"2021-11-02\", \"2021-11-03\", \"2021-11-04\", \"2021-11-05\", \"2021-11-08\", \"2021-11-09\", \"2021-11-10\", \"2021-11-11\", \"2021-11-12\", \"2021-11-15\", \"2021-11-16\", \"2021-11-17\", \"2021-11-18\"], \"xaxis\": \"x\", \"y\": [324.2762, 324.3502, 324.41939999999994, 324.54519999999997, 324.6556, 324.759, 324.913, 325.064, 325.2116, 325.63899999999995, 325.8714, 325.9058, 325.8756, 326.07919999999996, 326.525, 326.8396, 327.28520000000003, 327.50159999999994, 327.8606, 328.0399999999999, 328.3809999999999, 328.6637999999999, 328.9347999999999, 329.1543999999999, 329.5921999999999, 329.98579999999987, 330.2829999999999, 330.53859999999986, 331.01319999999987, 331.51859999999976, 331.93379999999974, 332.35239999999976, 332.87299999999976, 333.3151999999998, 333.7139999999997, 333.9381999999997, 334.14199999999965, 334.4163999999997, 334.5673999999997, 334.71239999999966, 334.93039999999974, 335.07319999999976, 335.3407999999998, 335.49779999999976, 335.7317999999998, 336.0539999999998, 336.41439999999983, 336.7199999999998, 337.18879999999973, 337.60419999999976, 337.99059999999974, 338.3629999999997, 338.8031999999997, 339.2471999999996, 339.7357999999996, 340.2733999999996, 340.88099999999963, 341.4523999999996, 341.9155999999996, 342.4073999999996, 343.12339999999966, 343.8961999999997, 344.9223999999997, 345.9053999999997, 346.6661999999997, 347.49459999999976, 348.37979999999976, 349.2193999999997, 349.93479999999965, 350.7307999999997, 351.42739999999975, 352.16139999999973, 352.8397999999997, 353.5567999999996, 354.21499999999963, 354.88279999999963, 355.56399999999957, 356.3403999999996, 357.0079999999996, 357.5905999999996, 358.0995999999996, 358.6419999999996, 359.18959999999964, 359.82939999999957, 360.4265999999996, 361.0773999999996, 361.7055999999996, 362.31959999999964, 363.07219999999955, 363.7839999999996, 364.4441999999996, 365.0973999999996, 365.7309999999996, 366.3839999999997, 366.9253999999996, 367.4149999999996, 367.8581999999996, 368.2933999999997, 368.62579999999963, 368.98299999999966, 369.33019999999965, 369.6313999999997, 369.72519999999975, 369.79979999999983, 369.94279999999986, 370.14099999999985, 370.3971999999999, 370.6521999999999, 370.75619999999986, 370.76599999999985, 370.6939999999998, 370.6185999999998, 370.30699999999973, 370.08479999999975, 369.9895999999997, 369.9323999999997, 369.8259999999997, 369.70239999999967, 369.5531999999997, 369.4169999999997, 369.4027999999997, 369.3881999999997, 369.48019999999974, 369.6149999999998, 369.7777999999998, 369.9989999999998, 370.1303999999998, 370.3125999999998, 370.5153999999998, 370.8007999999998, 371.2409999999998, 371.68399999999986, 372.07799999999986, 372.3943999999999, 372.7705999999999, 373.2389999999999, 373.76259999999996, 374.203, 374.50419999999997, 374.69539999999995, 374.8955999999999, 375.1815999999999, 375.4423999999999, 375.74859999999984, 376.0855999999999, 376.5311999999999], \"yaxis\": \"y\"}, {\"mode\": \"lines\", \"name\": \"100MA\", \"type\": \"scatter\", \"x\": [\"2021-04-26\", \"2021-04-27\", \"2021-04-28\", \"2021-04-29\", \"2021-04-30\", \"2021-05-03\", \"2021-05-04\", \"2021-05-05\", \"2021-05-06\", \"2021-05-07\", \"2021-05-10\", \"2021-05-11\", \"2021-05-12\", \"2021-05-13\", \"2021-05-14\", \"2021-05-17\", \"2021-05-18\", \"2021-05-19\", \"2021-05-20\", \"2021-05-21\", \"2021-05-24\", \"2021-05-25\", \"2021-05-26\", \"2021-05-27\", \"2021-05-28\", \"2021-06-01\", \"2021-06-02\", \"2021-06-03\", \"2021-06-04\", \"2021-06-07\", \"2021-06-08\", \"2021-06-09\", \"2021-06-10\", \"2021-06-11\", \"2021-06-14\", \"2021-06-15\", \"2021-06-16\", \"2021-06-17\", \"2021-06-18\", \"2021-06-21\", \"2021-06-22\", \"2021-06-23\", \"2021-06-24\", \"2021-06-25\", \"2021-06-28\", \"2021-06-29\", \"2021-06-30\", \"2021-07-01\", \"2021-07-02\", \"2021-07-06\", \"2021-07-07\", \"2021-07-08\", \"2021-07-09\", \"2021-07-12\", \"2021-07-13\", \"2021-07-14\", \"2021-07-15\", \"2021-07-16\", \"2021-07-19\", \"2021-07-20\", \"2021-07-21\", \"2021-07-22\", \"2021-07-23\", \"2021-07-26\", \"2021-07-27\", \"2021-07-28\", \"2021-07-29\", \"2021-07-30\", \"2021-08-02\", \"2021-08-03\", \"2021-08-04\", \"2021-08-05\", \"2021-08-06\", \"2021-08-09\", \"2021-08-10\", \"2021-08-11\", \"2021-08-12\", \"2021-08-13\", \"2021-08-16\", \"2021-08-17\", \"2021-08-18\", \"2021-08-19\", \"2021-08-20\", \"2021-08-23\", \"2021-08-24\", \"2021-08-25\", \"2021-08-26\", \"2021-08-27\", \"2021-08-30\", \"2021-08-31\", \"2021-09-01\", \"2021-09-02\", \"2021-09-03\", \"2021-09-07\", \"2021-09-08\", \"2021-09-09\", \"2021-09-10\", \"2021-09-13\", \"2021-09-14\", \"2021-09-15\", \"2021-09-16\", \"2021-09-17\", \"2021-09-20\", \"2021-09-21\", \"2021-09-22\", \"2021-09-23\", \"2021-09-24\", \"2021-09-27\", \"2021-09-28\", \"2021-09-29\", \"2021-09-30\", \"2021-10-01\", \"2021-10-04\", \"2021-10-05\", \"2021-10-06\", \"2021-10-07\", \"2021-10-08\", \"2021-10-11\", \"2021-10-12\", \"2021-10-13\", \"2021-10-14\", \"2021-10-15\", \"2021-10-18\", \"2021-10-19\", \"2021-10-20\", \"2021-10-21\", \"2021-10-22\", \"2021-10-25\", \"2021-10-26\", \"2021-10-27\", \"2021-10-28\", \"2021-10-29\", \"2021-11-01\", \"2021-11-02\", \"2021-11-03\", \"2021-11-04\", \"2021-11-05\", \"2021-11-08\", \"2021-11-09\", \"2021-11-10\", \"2021-11-11\", \"2021-11-12\", \"2021-11-15\", \"2021-11-16\", \"2021-11-17\", \"2021-11-18\"], \"xaxis\": \"x\", \"y\": [319.9208000000001, 320.28770000000014, 320.6392000000002, 320.9986000000002, 321.3233000000002, 321.6127000000002, 321.8312000000002, 322.10840000000013, 322.3983000000001, 322.72180000000014, 322.93900000000014, 323.11920000000015, 323.19830000000013, 323.2817000000001, 323.4450000000001, 323.5999000000001, 323.72450000000015, 323.8684000000001, 324.0611000000001, 324.20440000000013, 324.3999000000001, 324.5999000000001, 324.8038000000001, 325.0395000000001, 325.26020000000005, 325.51300000000003, 325.69790000000006, 325.8076000000001, 326.0194000000001, 326.2462000000001, 326.4534000000001, 326.6783000000001, 326.9632000000001, 327.21150000000006, 327.4189, 327.5779, 327.73380000000003, 327.9061, 328.04650000000004, 328.29580000000004, 328.55830000000003, 328.8901, 329.1648, 329.3826, 329.65590000000003, 329.90340000000003, 330.13410000000005, 330.344, 330.5953, 330.8697, 331.13339999999994, 331.35659999999996, 331.61129999999997, 331.89619999999996, 332.19569999999993, 332.51619999999997, 332.8969999999999, 333.2581999999999, 333.56359999999984, 334.02319999999986, 334.49739999999986, 334.90099999999984, 335.3989999999998, 335.9922999999997, 336.59559999999976, 337.1670999999998, 337.83249999999975, 338.36049999999983, 338.8976999999998, 339.3853999999998, 339.9041999999998, 340.4125999999997, 340.88729999999975, 341.35559999999975, 341.9035999999997, 342.4342999999997, 342.9234999999997, 343.43949999999967, 344.01059999999967, 344.5545999999997, 345.0166999999997, 345.4971999999996, 346.0312999999997, 346.57229999999976, 347.07029999999975, 347.50779999999975, 347.92379999999974, 348.3679999999997, 348.81979999999976, 349.2481999999997, 349.68729999999977, 350.0852999999998, 350.53589999999974, 350.9408999999998, 351.3285999999997, 351.73449999999974, 352.13629999999966, 352.5066999999997, 352.90729999999974, 353.2935999999998, 353.6603999999998, 353.9971999999998, 354.2641999999998, 354.5234999999998, 354.8392999999998, 355.2071999999998, 355.6390999999998, 356.05229999999983, 356.3358999999998, 356.58669999999984, 356.9086999999998, 357.25739999999985, 357.61469999999986, 357.99509999999987, 358.3278999999999, 358.71349999999984, 359.10289999999986, 359.46089999999987, 359.74399999999986, 360.07389999999987, 360.4150999999998, 360.7747999999998, 361.15999999999985, 361.58589999999987, 361.99639999999994, 362.4408999999999, 362.8471999999999, 363.3264999999999, 363.7616999999999, 364.19569999999993, 364.67029999999994, 365.16299999999995, 365.63379999999995, 366.11190000000005, 366.59860000000003, 367.1582, 367.73409999999996, 368.26129999999995, 368.7882, 369.2397, 369.6699, 370.1395, 370.5867, 371.06629999999996, 371.5055, 371.9731], \"yaxis\": \"y\"}, {\"mode\": \"lines\", \"name\": \"200MA\", \"type\": \"scatter\", \"x\": [\"2021-04-26\", \"2021-04-27\", \"2021-04-28\", \"2021-04-29\", \"2021-04-30\", \"2021-05-03\", \"2021-05-04\", \"2021-05-05\", \"2021-05-06\", \"2021-05-07\", \"2021-05-10\", \"2021-05-11\", \"2021-05-12\", \"2021-05-13\", \"2021-05-14\", \"2021-05-17\", \"2021-05-18\", \"2021-05-19\", \"2021-05-20\", \"2021-05-21\", \"2021-05-24\", \"2021-05-25\", \"2021-05-26\", \"2021-05-27\", \"2021-05-28\", \"2021-06-01\", \"2021-06-02\", \"2021-06-03\", \"2021-06-04\", \"2021-06-07\", \"2021-06-08\", \"2021-06-09\", \"2021-06-10\", \"2021-06-11\", \"2021-06-14\", \"2021-06-15\", \"2021-06-16\", \"2021-06-17\", \"2021-06-18\", \"2021-06-21\", \"2021-06-22\", \"2021-06-23\", \"2021-06-24\", \"2021-06-25\", \"2021-06-28\", \"2021-06-29\", \"2021-06-30\", \"2021-07-01\", \"2021-07-02\", \"2021-07-06\", \"2021-07-07\", \"2021-07-08\", \"2021-07-09\", \"2021-07-12\", \"2021-07-13\", \"2021-07-14\", \"2021-07-15\", \"2021-07-16\", \"2021-07-19\", \"2021-07-20\", \"2021-07-21\", \"2021-07-22\", \"2021-07-23\", \"2021-07-26\", \"2021-07-27\", \"2021-07-28\", \"2021-07-29\", \"2021-07-30\", \"2021-08-02\", \"2021-08-03\", \"2021-08-04\", \"2021-08-05\", \"2021-08-06\", \"2021-08-09\", \"2021-08-10\", \"2021-08-11\", \"2021-08-12\", \"2021-08-13\", \"2021-08-16\", \"2021-08-17\", \"2021-08-18\", \"2021-08-19\", \"2021-08-20\", \"2021-08-23\", \"2021-08-24\", \"2021-08-25\", \"2021-08-26\", \"2021-08-27\", \"2021-08-30\", \"2021-08-31\", \"2021-09-01\", \"2021-09-02\", \"2021-09-03\", \"2021-09-07\", \"2021-09-08\", \"2021-09-09\", \"2021-09-10\", \"2021-09-13\", \"2021-09-14\", \"2021-09-15\", \"2021-09-16\", \"2021-09-17\", \"2021-09-20\", \"2021-09-21\", \"2021-09-22\", \"2021-09-23\", \"2021-09-24\", \"2021-09-27\", \"2021-09-28\", \"2021-09-29\", \"2021-09-30\", \"2021-10-01\", \"2021-10-04\", \"2021-10-05\", \"2021-10-06\", \"2021-10-07\", \"2021-10-08\", \"2021-10-11\", \"2021-10-12\", \"2021-10-13\", \"2021-10-14\", \"2021-10-15\", \"2021-10-18\", \"2021-10-19\", \"2021-10-20\", \"2021-10-21\", \"2021-10-22\", \"2021-10-25\", \"2021-10-26\", \"2021-10-27\", \"2021-10-28\", \"2021-10-29\", \"2021-11-01\", \"2021-11-02\", \"2021-11-03\", \"2021-11-04\", \"2021-11-05\", \"2021-11-08\", \"2021-11-09\", \"2021-11-10\", \"2021-11-11\", \"2021-11-12\", \"2021-11-15\", \"2021-11-16\", \"2021-11-17\", \"2021-11-18\"], \"xaxis\": \"x\", \"y\": [299.1498499999999, 299.5307499999999, 299.93304999999987, 300.33229999999986, 300.71774999999985, 301.10309999999987, 301.4566999999999, 301.76794999999987, 302.1054999999999, 302.45184999999987, 302.79059999999987, 303.13934999999987, 303.42319999999984, 303.73584999999986, 304.06894999999986, 304.3853499999999, 304.6674999999999, 304.9335499999999, 305.22579999999994, 305.5055999999999, 305.7949499999999, 306.1024499999999, 306.4215499999999, 306.7599999999999, 307.0703499999999, 307.3720499999999, 307.67859999999985, 307.9519999999999, 308.24014999999986, 308.54264999999987, 308.8267999999999, 309.10164999999984, 309.3852499999998, 309.6621499999998, 309.9248999999998, 310.1809499999998, 310.42334999999986, 310.67564999999985, 310.88919999999985, 311.0971999999998, 311.3979999999998, 311.7187999999998, 312.1184999999998, 312.4763999999998, 312.8832499999998, 313.3059499999998, 313.7022999999998, 314.07984999999985, 314.49999999999983, 314.9493499999998, 315.4197499999998, 315.8760499999998, 316.31869999999975, 316.8099999999997, 317.29514999999975, 317.7526999999998, 318.16929999999974, 318.57754999999975, 318.9616999999998, 319.3443999999998, 319.78064999999975, 320.19959999999975, 320.66479999999973, 321.1076499999997, 321.5227499999997, 321.9233499999997, 322.2830999999997, 322.6333499999997, 322.99604999999974, 323.37959999999975, 323.7737499999997, 324.20309999999967, 324.6212999999997, 325.0439999999997, 325.4572999999997, 325.8646499999997, 326.2999499999997, 326.73074999999966, 327.21744999999964, 327.66414999999967, 328.1282999999996, 328.5981999999997, 329.0635999999997, 329.49519999999967, 329.8950999999997, 330.2960499999997, 330.7151999999997, 331.17829999999964, 331.6307999999997, 332.08854999999966, 332.5367999999997, 332.9727999999997, 333.41929999999974, 333.8792999999997, 334.32129999999967, 334.76674999999966, 335.19774999999964, 335.6070499999997, 336.0019499999996, 336.39714999999967, 336.7905999999997, 337.14244999999966, 337.4516999999996, 337.7610499999996, 338.0812999999996, 338.4099499999996, 338.73514999999963, 339.08034999999967, 339.36709999999965, 339.6542499999996, 339.9238499999997, 340.18829999999963, 340.40649999999965, 340.63839999999965, 340.8864499999997, 341.1566999999997, 341.4136999999997, 341.66464999999977, 341.90254999999974, 342.1391499999998, 342.4074999999998, 342.6873499999998, 342.9818999999997, 343.3126999999997, 343.62829999999974, 343.97694999999976, 344.27254999999985, 344.5670499999998, 344.8905499999998, 345.2209499999998, 345.5618499999998, 345.9206499999998, 346.29849999999976, 346.66169999999977, 347.00874999999974, 347.3680499999997, 347.73394999999977, 348.08369999999974, 348.4173499999998, 348.7677499999998, 349.1140999999997, 349.51479999999975, 349.87574999999975, 350.22444999999976, 350.58069999999975, 350.93824999999975], \"yaxis\": \"y\"}, {\"mode\": \"lines\", \"name\": \"RSI\", \"type\": \"scatter\", \"x\": [\"2021-04-26\", \"2021-04-27\", \"2021-04-28\", \"2021-04-29\", \"2021-04-30\", \"2021-05-03\", \"2021-05-04\", \"2021-05-05\", \"2021-05-06\", \"2021-05-07\", \"2021-05-10\", \"2021-05-11\", \"2021-05-12\", \"2021-05-13\", \"2021-05-14\", \"2021-05-17\", \"2021-05-18\", \"2021-05-19\", \"2021-05-20\", \"2021-05-21\", \"2021-05-24\", \"2021-05-25\", \"2021-05-26\", \"2021-05-27\", \"2021-05-28\", \"2021-06-01\", \"2021-06-02\", \"2021-06-03\", \"2021-06-04\", \"2021-06-07\", \"2021-06-08\", \"2021-06-09\", \"2021-06-10\", \"2021-06-11\", \"2021-06-14\", \"2021-06-15\", \"2021-06-16\", \"2021-06-17\", \"2021-06-18\", \"2021-06-21\", \"2021-06-22\", \"2021-06-23\", \"2021-06-24\", \"2021-06-25\", \"2021-06-28\", \"2021-06-29\", \"2021-06-30\", \"2021-07-01\", \"2021-07-02\", \"2021-07-06\", \"2021-07-07\", \"2021-07-08\", \"2021-07-09\", \"2021-07-12\", \"2021-07-13\", \"2021-07-14\", \"2021-07-15\", \"2021-07-16\", \"2021-07-19\", \"2021-07-20\", \"2021-07-21\", \"2021-07-22\", \"2021-07-23\", \"2021-07-26\", \"2021-07-27\", \"2021-07-28\", \"2021-07-29\", \"2021-07-30\", \"2021-08-02\", \"2021-08-03\", \"2021-08-04\", \"2021-08-05\", \"2021-08-06\"], \"xaxis\": \"x2\", \"y\": [\"62.0954\", \"59.9773\", \"58.3128\", \"59.5939\", \"56.1945\", \"53.5397\", \"45.7213\", \"44.4391\", \"47.9512\", \"51.5301\", \"41.8149\", \"41.3671\", \"34.0246\", \"37.5008\", \"46.2732\", \"44.3888\", \"42.3352\", \"42.8165\", \"50.3445\", \"48.3454\", \"54.2567\", \"54.7234\", \"55.9441\", \"54.2469\", \"55.469\", \"53.832\", \"54.6755\", \"49.4783\", \"56.6414\", \"57.7922\", \"57.9843\", \"58.0871\", \"62.4283\", \"63.4617\", \"67.048\", \"62.5022\", \"60.0657\", \"65.1358\", \"60.0013\", \"62.4997\", \"65.9595\", \"66.1377\", \"68.3912\", \"67.4248\", \"71.6839\", \"72.8358\", \"71.466\", \"71.6097\", \"75.4775\", \"76.7752\", \"77.4065\", \"71.4102\", \"73.6674\", \"75.0052\", \"75.0052\", \"75.6661\", \"68.0624\", \"60.5579\", \"54.1108\", \"60.4818\", \"64.0914\", \"66.9006\", \"71.2134\", \"71.4864\", \"62.5434\", \"64.2062\", \"64.9835\", \"60.8051\", \"60.8477\", \"63.9545\", \"64.6784\", \"67.7451\", \"63.6099\"], \"yaxis\": \"y2\"}, {\"mode\": \"markers+lines\", \"name\": \"Test\", \"type\": \"scatter\", \"x\": [\"2021-08-09\", \"2021-08-10\", \"2021-08-11\", \"2021-08-12\", \"2021-08-13\", \"2021-08-16\", \"2021-08-17\", \"2021-08-18\", \"2021-08-19\", \"2021-08-20\", \"2021-08-23\", \"2021-08-24\", \"2021-08-25\", \"2021-08-26\", \"2021-08-27\", \"2021-08-30\", \"2021-08-31\", \"2021-09-01\", \"2021-09-02\", \"2021-09-03\", \"2021-09-07\", \"2021-09-08\", \"2021-09-09\", \"2021-09-10\", \"2021-09-13\", \"2021-09-14\", \"2021-09-15\", \"2021-09-16\", \"2021-09-17\", \"2021-09-20\", \"2021-09-21\", \"2021-09-22\", \"2021-09-23\", \"2021-09-24\", \"2021-09-27\", \"2021-09-28\", \"2021-09-29\", \"2021-09-30\", \"2021-10-01\", \"2021-10-04\", \"2021-10-05\", \"2021-10-06\", \"2021-10-07\", \"2021-10-08\", \"2021-10-11\", \"2021-10-12\", \"2021-10-13\", \"2021-10-14\", \"2021-10-15\", \"2021-10-18\", \"2021-10-19\", \"2021-10-20\", \"2021-10-21\", \"2021-10-22\", \"2021-10-25\", \"2021-10-26\", \"2021-10-27\", \"2021-10-28\", \"2021-10-29\", \"2021-11-01\", \"2021-11-02\", \"2021-11-03\", \"2021-11-04\", \"2021-11-05\", \"2021-11-08\", \"2021-11-09\", \"2021-11-10\", \"2021-11-11\", \"2021-11-12\", \"2021-11-15\", \"2021-11-16\", \"2021-11-17\", \"2021-11-18\"], \"xaxis\": \"x2\", \"y\": [\"64.587\", \"59.7821\", \"58.2271\", \"60.5429\", \"62.7181\", \"62.9906\", \"54.3068\", \"46.784\", \"50.4583\", \"57.2984\", \"64.9101\", \"66.2529\", \"66.7694\", \"61.187\", \"65.8622\", \"70.3464\", \"69.6229\", \"70.2916\", \"69.8187\", \"71.1761\", \"71.8064\", \"67.87\", \"64.1404\", \"56.756\", \"56.1278\", \"53.5031\", \"58.9001\", \"59.3733\", \"48.9205\", \"36.8781\", \"37.8402\", \"44.7346\", \"50.616\", \"51.1902\", \"46.2587\", \"33.8928\", \"33.3522\", \"32.118\", \"36.3819\", \"29.5702\", \"37.5042\", \"40.9506\", \"45.6057\", \"43.5765\", \"40.5993\", \"39.2947\", \"43.7487\", \"52.4572\", \"55.0673\", \"58.9639\", \"61.6838\", \"60.9281\", \"63.1974\", \"58.1617\", \"62.0919\", \"63.2471\", \"64.1179\", \"68.0299\", \"69.6271\", \"70.727\", \"72.0641\", \"75.177\", \"78.3479\", \"78.5701\", \"77.3549\", \"71.3266\", \"60.5511\", \"61.7091\", \"65.821\", \"65.6547\", \"68.3434\", \"68.5416\", \"72.2169\"], \"yaxis\": \"y2\"}, {\"mode\": \"markers+lines\", \"name\": \"Prediction\", \"type\": \"scatter\", \"x\": [\"2021-08-09\", \"2021-08-10\", \"2021-08-11\", \"2021-08-12\", \"2021-08-13\", \"2021-08-16\", \"2021-08-17\", \"2021-08-18\", \"2021-08-19\", \"2021-08-20\", \"2021-08-23\", \"2021-08-24\", \"2021-08-25\", \"2021-08-26\", \"2021-08-27\", \"2021-08-30\", \"2021-08-31\", \"2021-09-01\", \"2021-09-02\", \"2021-09-03\", \"2021-09-07\", \"2021-09-08\", \"2021-09-09\", \"2021-09-10\", \"2021-09-13\", \"2021-09-14\", \"2021-09-15\", \"2021-09-16\", \"2021-09-17\", \"2021-09-20\", \"2021-09-21\", \"2021-09-22\", \"2021-09-23\", \"2021-09-24\", \"2021-09-27\", \"2021-09-28\", \"2021-09-29\", \"2021-09-30\", \"2021-10-01\", \"2021-10-04\", \"2021-10-05\", \"2021-10-06\", \"2021-10-07\", \"2021-10-08\", \"2021-10-11\", \"2021-10-12\", \"2021-10-13\", \"2021-10-14\", \"2021-10-15\", \"2021-10-18\", \"2021-10-19\", \"2021-10-20\", \"2021-10-21\", \"2021-10-22\", \"2021-10-25\", \"2021-10-26\", \"2021-10-27\", \"2021-10-28\", \"2021-10-29\", \"2021-11-01\", \"2021-11-02\", \"2021-11-03\", \"2021-11-04\", \"2021-11-05\", \"2021-11-08\", \"2021-11-09\", \"2021-11-10\", \"2021-11-11\", \"2021-11-12\", \"2021-11-15\", \"2021-11-16\", \"2021-11-17\", \"2021-11-18\"], \"xaxis\": \"x2\", \"y\": [59.9025764465332, 59.86359786987305, 60.136802673339844, 60.59231948852539, 61.09120178222656, 61.6258430480957, 62.240081787109375, 63.18107986450195, 64.30906677246094, 65.1812515258789, 65.6546859741211, 65.69783020019531, 65.50323486328125, 65.11841583251953, 64.76363372802734, 64.10358428955078, 63.12162399291992, 61.96852111816406, 60.63431167602539, 59.24185562133789, 57.825599670410156, 56.468475341796875, 55.28908920288086, 54.2270622253418, 53.34650802612305, 52.41053009033203, 51.47746276855469, 50.330623626708984, 49.217079162597656, 48.55363082885742, 48.37799835205078, 48.23564529418945, 47.95070266723633, 47.60097885131836, 47.4179801940918, 47.61134719848633, 48.418304443359375, 49.41526794433594, 50.616825103759766, 51.82566833496094, 53.35710906982422, 54.65626525878906, 55.87267303466797, 56.95466232299805, 58.12427520751953, 59.388607025146484, 60.66950607299805, 61.78026580810547, 62.63154220581055, 63.47673034667969, 64.2920913696289, 65.11378479003906, 65.99693298339844, 66.72809600830078, 67.44717407226562, 67.8254165649414, 67.97039031982422, 67.93220520019531, 67.67337799072266], \"yaxis\": \"y2\"}, {\"mode\": \"markers+lines\", \"name\": \"Forecast\", \"type\": \"scatter\", \"x\": [\"2021-11-18T00:00:00\", \"2021-11-19T00:00:00\", \"2021-11-22T00:00:00\", \"2021-11-23T00:00:00\", \"2021-11-24T00:00:00\", \"2021-11-26T00:00:00\", \"2021-11-29T00:00:00\", \"2021-11-30T00:00:00\", \"2021-12-01T00:00:00\", \"2021-12-02T00:00:00\", \"2021-12-03T00:00:00\", \"2021-12-06T00:00:00\", \"2021-12-07T00:00:00\", \"2021-12-08T00:00:00\", \"2021-12-09T00:00:00\"], \"xaxis\": \"x2\", \"y\": [72.2169, 67.34524705820083, 66.99650962581634, 66.63773763281702, 66.22719547207355, 65.77554952186942, 65.37573854122161, 65.05879287788868, 64.94938473830818, 65.14589623371958, 65.23130178207158, 65.1365939335823, 65.02313568074106, 64.81558519662619, 64.60975196053386], \"yaxis\": \"y2\"}, {\"line\": {\"color\": \"rgb(100, 10, 100)\", \"dash\": \"dash\", \"shape\": \"linear\"}, \"mode\": \"lines\", \"type\": \"scatter\", \"x\": [\"2021-04-26\", \"2021-12-09T00:00:00\"], \"xaxis\": \"x2\", \"y\": [70, 70], \"yaxis\": \"y2\"}, {\"line\": {\"color\": \"rgb(10, 12, 240)\", \"dash\": \"dash\", \"shape\": \"linear\"}, \"mode\": \"lines\", \"type\": \"scatter\", \"x\": [\"2021-04-26\", \"2021-12-09T00:00:00\"], \"xaxis\": \"x2\", \"y\": [50, 50], \"yaxis\": \"y2\"}, {\"line\": {\"color\": \"rgb(10, 120, 24)\", \"dash\": \"dash\", \"shape\": \"linear\"}, \"mode\": \"lines\", \"type\": \"scatter\", \"x\": [\"2021-04-26\", \"2021-12-09T00:00:00\"], \"xaxis\": \"x2\", \"y\": [30, 30], \"yaxis\": \"y2\"}],\n",
              "                        {\"annotations\": [{\"font\": {\"size\": 16}, \"showarrow\": false, \"text\": \"<a href=\\\"https://in.tradingview.com/chart/66XmQfYy/?symbol=QQQ\\\">QQQ</a> Date:2021-11-18 Open:399.73 High:397.45 Low:402.27 Close:401.75\", \"x\": 0.5, \"xanchor\": \"center\", \"xref\": \"paper\", \"y\": 1.0, \"yanchor\": \"bottom\", \"yref\": \"paper\"}, {\"font\": {\"size\": 16}, \"showarrow\": false, \"text\": \"<a href=\\\"https://in.tradingview.com/chart/66XmQfYy/?symbol=QQQ\\\">QQQ</a> RSI(14) Date:2021-11-18 Close:72.2169 Forecast(14):66.0\", \"x\": 0.5, \"xanchor\": \"center\", \"xref\": \"paper\", \"y\": 0.30000000000000004, \"yanchor\": \"bottom\", \"yref\": \"paper\"}], \"height\": 650, \"template\": {\"data\": {\"bar\": [{\"error_x\": {\"color\": \"#2a3f5f\"}, \"error_y\": {\"color\": \"#2a3f5f\"}, \"marker\": {\"line\": {\"color\": \"#E5ECF6\", \"width\": 0.5}}, \"type\": \"bar\"}], \"barpolar\": [{\"marker\": {\"line\": {\"color\": \"#E5ECF6\", \"width\": 0.5}}, \"type\": \"barpolar\"}], \"carpet\": [{\"aaxis\": {\"endlinecolor\": \"#2a3f5f\", \"gridcolor\": \"white\", \"linecolor\": \"white\", \"minorgridcolor\": \"white\", \"startlinecolor\": \"#2a3f5f\"}, \"baxis\": {\"endlinecolor\": \"#2a3f5f\", \"gridcolor\": \"white\", \"linecolor\": \"white\", \"minorgridcolor\": \"white\", \"startlinecolor\": \"#2a3f5f\"}, \"type\": \"carpet\"}], \"choropleth\": [{\"colorbar\": {\"outlinewidth\": 0, \"ticks\": \"\"}, \"type\": \"choropleth\"}], \"contour\": [{\"colorbar\": {\"outlinewidth\": 0, \"ticks\": \"\"}, \"colorscale\": [[0.0, \"#0d0887\"], [0.1111111111111111, \"#46039f\"], [0.2222222222222222, \"#7201a8\"], [0.3333333333333333, \"#9c179e\"], [0.4444444444444444, \"#bd3786\"], [0.5555555555555556, \"#d8576b\"], [0.6666666666666666, \"#ed7953\"], [0.7777777777777778, \"#fb9f3a\"], [0.8888888888888888, \"#fdca26\"], [1.0, \"#f0f921\"]], \"type\": \"contour\"}], \"contourcarpet\": [{\"colorbar\": {\"outlinewidth\": 0, \"ticks\": \"\"}, \"type\": \"contourcarpet\"}], \"heatmap\": [{\"colorbar\": {\"outlinewidth\": 0, \"ticks\": \"\"}, \"colorscale\": [[0.0, \"#0d0887\"], [0.1111111111111111, \"#46039f\"], [0.2222222222222222, \"#7201a8\"], [0.3333333333333333, \"#9c179e\"], [0.4444444444444444, \"#bd3786\"], [0.5555555555555556, \"#d8576b\"], [0.6666666666666666, \"#ed7953\"], [0.7777777777777778, \"#fb9f3a\"], [0.8888888888888888, \"#fdca26\"], [1.0, \"#f0f921\"]], \"type\": \"heatmap\"}], \"heatmapgl\": [{\"colorbar\": {\"outlinewidth\": 0, \"ticks\": \"\"}, \"colorscale\": [[0.0, \"#0d0887\"], [0.1111111111111111, \"#46039f\"], [0.2222222222222222, \"#7201a8\"], [0.3333333333333333, \"#9c179e\"], [0.4444444444444444, \"#bd3786\"], [0.5555555555555556, \"#d8576b\"], [0.6666666666666666, \"#ed7953\"], [0.7777777777777778, \"#fb9f3a\"], [0.8888888888888888, \"#fdca26\"], [1.0, \"#f0f921\"]], \"type\": \"heatmapgl\"}], \"histogram\": [{\"marker\": {\"colorbar\": {\"outlinewidth\": 0, \"ticks\": \"\"}}, \"type\": \"histogram\"}], \"histogram2d\": [{\"colorbar\": {\"outlinewidth\": 0, \"ticks\": \"\"}, \"colorscale\": [[0.0, \"#0d0887\"], [0.1111111111111111, \"#46039f\"], [0.2222222222222222, \"#7201a8\"], [0.3333333333333333, \"#9c179e\"], [0.4444444444444444, \"#bd3786\"], [0.5555555555555556, \"#d8576b\"], [0.6666666666666666, \"#ed7953\"], [0.7777777777777778, \"#fb9f3a\"], [0.8888888888888888, \"#fdca26\"], [1.0, \"#f0f921\"]], \"type\": \"histogram2d\"}], \"histogram2dcontour\": [{\"colorbar\": {\"outlinewidth\": 0, \"ticks\": \"\"}, \"colorscale\": [[0.0, \"#0d0887\"], [0.1111111111111111, \"#46039f\"], [0.2222222222222222, \"#7201a8\"], [0.3333333333333333, \"#9c179e\"], [0.4444444444444444, \"#bd3786\"], [0.5555555555555556, \"#d8576b\"], [0.6666666666666666, \"#ed7953\"], [0.7777777777777778, \"#fb9f3a\"], [0.8888888888888888, \"#fdca26\"], [1.0, \"#f0f921\"]], \"type\": \"histogram2dcontour\"}], \"mesh3d\": [{\"colorbar\": {\"outlinewidth\": 0, \"ticks\": \"\"}, \"type\": \"mesh3d\"}], \"parcoords\": [{\"line\": {\"colorbar\": {\"outlinewidth\": 0, \"ticks\": \"\"}}, \"type\": \"parcoords\"}], \"pie\": [{\"automargin\": true, \"type\": \"pie\"}], \"scatter\": [{\"marker\": {\"colorbar\": {\"outlinewidth\": 0, \"ticks\": \"\"}}, \"type\": \"scatter\"}], \"scatter3d\": [{\"line\": {\"colorbar\": {\"outlinewidth\": 0, \"ticks\": \"\"}}, \"marker\": {\"colorbar\": {\"outlinewidth\": 0, \"ticks\": \"\"}}, \"type\": \"scatter3d\"}], \"scattercarpet\": [{\"marker\": {\"colorbar\": {\"outlinewidth\": 0, \"ticks\": \"\"}}, \"type\": \"scattercarpet\"}], \"scattergeo\": [{\"marker\": {\"colorbar\": {\"outlinewidth\": 0, \"ticks\": \"\"}}, \"type\": \"scattergeo\"}], \"scattergl\": [{\"marker\": {\"colorbar\": {\"outlinewidth\": 0, \"ticks\": \"\"}}, \"type\": \"scattergl\"}], \"scattermapbox\": [{\"marker\": {\"colorbar\": {\"outlinewidth\": 0, \"ticks\": \"\"}}, \"type\": \"scattermapbox\"}], \"scatterpolar\": [{\"marker\": {\"colorbar\": {\"outlinewidth\": 0, \"ticks\": \"\"}}, \"type\": \"scatterpolar\"}], \"scatterpolargl\": [{\"marker\": {\"colorbar\": {\"outlinewidth\": 0, \"ticks\": \"\"}}, \"type\": \"scatterpolargl\"}], \"scatterternary\": [{\"marker\": {\"colorbar\": {\"outlinewidth\": 0, \"ticks\": \"\"}}, \"type\": \"scatterternary\"}], \"surface\": [{\"colorbar\": {\"outlinewidth\": 0, \"ticks\": \"\"}, \"colorscale\": [[0.0, \"#0d0887\"], [0.1111111111111111, \"#46039f\"], [0.2222222222222222, \"#7201a8\"], [0.3333333333333333, \"#9c179e\"], [0.4444444444444444, \"#bd3786\"], [0.5555555555555556, \"#d8576b\"], [0.6666666666666666, \"#ed7953\"], [0.7777777777777778, \"#fb9f3a\"], [0.8888888888888888, \"#fdca26\"], [1.0, \"#f0f921\"]], \"type\": \"surface\"}], \"table\": [{\"cells\": {\"fill\": {\"color\": \"#EBF0F8\"}, \"line\": {\"color\": \"white\"}}, \"header\": {\"fill\": {\"color\": \"#C8D4E3\"}, \"line\": {\"color\": \"white\"}}, \"type\": \"table\"}]}, \"layout\": {\"annotationdefaults\": {\"arrowcolor\": \"#2a3f5f\", \"arrowhead\": 0, \"arrowwidth\": 1}, \"coloraxis\": {\"colorbar\": {\"outlinewidth\": 0, \"ticks\": \"\"}}, \"colorscale\": {\"diverging\": [[0, \"#8e0152\"], [0.1, \"#c51b7d\"], [0.2, \"#de77ae\"], [0.3, \"#f1b6da\"], [0.4, \"#fde0ef\"], [0.5, \"#f7f7f7\"], [0.6, \"#e6f5d0\"], [0.7, \"#b8e186\"], [0.8, \"#7fbc41\"], [0.9, \"#4d9221\"], [1, \"#276419\"]], \"sequential\": [[0.0, \"#0d0887\"], [0.1111111111111111, \"#46039f\"], [0.2222222222222222, \"#7201a8\"], [0.3333333333333333, \"#9c179e\"], [0.4444444444444444, \"#bd3786\"], [0.5555555555555556, \"#d8576b\"], [0.6666666666666666, \"#ed7953\"], [0.7777777777777778, \"#fb9f3a\"], [0.8888888888888888, \"#fdca26\"], [1.0, \"#f0f921\"]], \"sequentialminus\": [[0.0, \"#0d0887\"], [0.1111111111111111, \"#46039f\"], [0.2222222222222222, \"#7201a8\"], [0.3333333333333333, \"#9c179e\"], [0.4444444444444444, \"#bd3786\"], [0.5555555555555556, \"#d8576b\"], [0.6666666666666666, \"#ed7953\"], [0.7777777777777778, \"#fb9f3a\"], [0.8888888888888888, \"#fdca26\"], [1.0, \"#f0f921\"]]}, \"colorway\": [\"#636efa\", \"#EF553B\", \"#00cc96\", \"#ab63fa\", \"#FFA15A\", \"#19d3f3\", \"#FF6692\", \"#B6E880\", \"#FF97FF\", \"#FECB52\"], \"font\": {\"color\": \"#2a3f5f\"}, \"geo\": {\"bgcolor\": \"white\", \"lakecolor\": \"white\", \"landcolor\": \"#E5ECF6\", \"showlakes\": true, \"showland\": true, \"subunitcolor\": \"white\"}, \"hoverlabel\": {\"align\": \"left\"}, \"hovermode\": \"closest\", \"mapbox\": {\"style\": \"light\"}, \"paper_bgcolor\": \"white\", \"plot_bgcolor\": \"#E5ECF6\", \"polar\": {\"angularaxis\": {\"gridcolor\": \"white\", \"linecolor\": \"white\", \"ticks\": \"\"}, \"bgcolor\": \"#E5ECF6\", \"radialaxis\": {\"gridcolor\": \"white\", \"linecolor\": \"white\", \"ticks\": \"\"}}, \"scene\": {\"xaxis\": {\"backgroundcolor\": \"#E5ECF6\", \"gridcolor\": \"white\", \"gridwidth\": 2, \"linecolor\": \"white\", \"showbackground\": true, \"ticks\": \"\", \"zerolinecolor\": \"white\"}, \"yaxis\": {\"backgroundcolor\": \"#E5ECF6\", \"gridcolor\": \"white\", \"gridwidth\": 2, \"linecolor\": \"white\", \"showbackground\": true, \"ticks\": \"\", \"zerolinecolor\": \"white\"}, \"zaxis\": {\"backgroundcolor\": \"#E5ECF6\", \"gridcolor\": \"white\", \"gridwidth\": 2, \"linecolor\": \"white\", \"showbackground\": true, \"ticks\": \"\", \"zerolinecolor\": \"white\"}}, \"shapedefaults\": {\"line\": {\"color\": \"#2a3f5f\"}}, \"ternary\": {\"aaxis\": {\"gridcolor\": \"white\", \"linecolor\": \"white\", \"ticks\": \"\"}, \"baxis\": {\"gridcolor\": \"white\", \"linecolor\": \"white\", \"ticks\": \"\"}, \"bgcolor\": \"#E5ECF6\", \"caxis\": {\"gridcolor\": \"white\", \"linecolor\": \"white\", \"ticks\": \"\"}}, \"title\": {\"x\": 0.05}, \"xaxis\": {\"automargin\": true, \"gridcolor\": \"white\", \"linecolor\": \"white\", \"ticks\": \"\", \"title\": {\"standoff\": 15}, \"zerolinecolor\": \"white\", \"zerolinewidth\": 2}, \"yaxis\": {\"automargin\": true, \"gridcolor\": \"white\", \"linecolor\": \"white\", \"ticks\": \"\", \"title\": {\"standoff\": 15}, \"zerolinecolor\": \"white\", \"zerolinewidth\": 2}}}, \"xaxis\": {\"anchor\": \"y\", \"domain\": [0.0, 1.0], \"rangeslider\": {\"visible\": false}, \"showspikes\": true, \"spikedash\": \"dash\", \"spikemode\": \"across\", \"spikesnap\": \"cursor\"}, \"xaxis2\": {\"anchor\": \"y2\", \"domain\": [0.0, 1.0], \"showspikes\": true, \"spikedash\": \"dash\", \"spikemode\": \"across\", \"spikesnap\": \"cursor\"}, \"yaxis\": {\"anchor\": \"x\", \"domain\": [0.55, 1.0], \"showspikes\": true, \"spikedash\": \"dash\", \"spikemode\": \"across\", \"spikesnap\": \"cursor\"}, \"yaxis2\": {\"anchor\": \"x2\", \"domain\": [0.0, 0.30000000000000004], \"showspikes\": true, \"spikedash\": \"dash\", \"spikemode\": \"across\", \"spikesnap\": \"cursor\"}},\n",
              "                        {\"responsive\": true}\n",
              "                    ).then(function(){\n",
              "                            \n",
              "var gd = document.getElementById('793fcf48-1405-44b3-8611-f2b7a090842b');\n",
              "var x = new MutationObserver(function (mutations, observer) {{\n",
              "        var display = window.getComputedStyle(gd).display;\n",
              "        if (!display || display === 'none') {{\n",
              "            console.log([gd, 'removed!']);\n",
              "            Plotly.purge(gd);\n",
              "            observer.disconnect();\n",
              "        }}\n",
              "}});\n",
              "\n",
              "// Listen for the removal of the full notebook cells\n",
              "var notebookContainer = gd.closest('#notebook-container');\n",
              "if (notebookContainer) {{\n",
              "    x.observe(notebookContainer, {childList: true});\n",
              "}}\n",
              "\n",
              "// Listen for the clearing of the current output cell\n",
              "var outputEl = gd.closest('.output');\n",
              "if (outputEl) {{\n",
              "    x.observe(outputEl, {childList: true});\n",
              "}}\n",
              "\n",
              "                        })\n",
              "                };\n",
              "                \n",
              "            </script>\n",
              "        </div>\n",
              "</body>\n",
              "</html>"
            ]
          },
          "metadata": {}
        }
      ]
    }
  ]
}