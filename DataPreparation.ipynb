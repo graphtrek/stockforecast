{
  "nbformat": 4,
  "nbformat_minor": 0,
  "metadata": {
    "kernelspec": {
      "display_name": "Python 3",
      "language": "python",
      "name": "python3"
    },
    "language_info": {
      "codemirror_mode": {
        "name": "ipython",
        "version": 3
      },
      "file_extension": ".py",
      "mimetype": "text/x-python",
      "name": "python",
      "nbconvert_exporter": "python",
      "pygments_lexer": "ipython3",
      "version": "3.6.9"
    },
    "colab": {
      "name": "Copy of DataPreparation.ipynb",
      "provenance": [],
      "collapsed_sections": [],
      "include_colab_link": true
    }
  },
  "cells": [
    {
      "cell_type": "markdown",
      "metadata": {
        "id": "view-in-github",
        "colab_type": "text"
      },
      "source": [
        "<a href=\"https://colab.research.google.com/github/graphtrek/stockforecast/blob/main/Copy_of_DataPreparation.ipynb\" target=\"_parent\"><img src=\"https://colab.research.google.com/assets/colab-badge.svg\" alt=\"Open In Colab\"/></a>"
      ]
    },
    {
      "cell_type": "code",
      "metadata": {
        "id": "SOuUmIe6d982"
      },
      "source": [
        "import pandas as pd\n",
        "import numpy as np\n",
        "import seaborn as sns\n",
        "import matplotlib.pyplot as plt"
      ],
      "execution_count": null,
      "outputs": []
    },
    {
      "cell_type": "code",
      "metadata": {
        "colab": {
          "base_uri": "https://localhost:8080/"
        },
        "id": "a7WxUEQE2oOC",
        "outputId": "a05a4c10-c2fc-4181-d82d-516fafce286b"
      },
      "source": [
        "from google.colab import drive\n",
        "drive.mount('/content/drive')"
      ],
      "execution_count": null,
      "outputs": [
        {
          "output_type": "stream",
          "name": "stdout",
          "text": [
            "Mounted at /content/drive\n"
          ]
        }
      ]
    },
    {
      "cell_type": "code",
      "metadata": {
        "id": "AuVXl1V6d985",
        "colab": {
          "base_uri": "https://localhost:8080/"
        },
        "outputId": "efd3f930-c68b-47f6-fa7d-123dbb5f67d1"
      },
      "source": [
        "QQQ_data = pd.read_csv('/content/drive/MyDrive/Colab Notebooks/QQQ.csv', error_bad_lines=False, dtype = str)\n",
        "AAPL_data = pd.read_csv('/content/drive/MyDrive/Colab Notebooks/AAPL.csv', error_bad_lines=False, dtype = str)\n",
        "QQQ_data, AAPL_data"
      ],
      "execution_count": null,
      "outputs": [
        {
          "output_type": "execute_result",
          "data": {
            "text/plain": [
              "(            Date Close/Last    Volume    Open     High       Low\n",
              " 0     09/10/2021     376.59  40249410  381.23   381.97   376.245\n",
              " 1     09/09/2021     379.47  29398980  381.01   382.15    379.22\n",
              " 2     09/08/2021     380.78  32949160  381.93   381.93    378.45\n",
              " 3     09/07/2021     382.11  23970200  381.68  382.778  380.4882\n",
              " 4     09/03/2021     381.57  24624940  379.22   381.98  379.2003\n",
              " ...          ...        ...       ...     ...      ...       ...\n",
              " 1253  09/19/2016     116.78  16211280  117.57   117.95    116.55\n",
              " 1254  09/16/2016     117.29  27590030  117.22  117.412    116.71\n",
              " 1255  09/15/2016     117.64  38796350  115.89  117.815    115.86\n",
              " 1256  09/14/2016     115.84  28147200  115.43   116.47    115.38\n",
              " 1257  09/13/2016     115.29  45838390  115.73   116.09    114.73\n",
              " \n",
              " [1258 rows x 6 columns],\n",
              "             Date  Close/Last     Volume      Open      High         Low\n",
              " 0     05/22/2020     $318.89   20450750   $315.77   $319.23     $315.35\n",
              " 1     05/21/2020     $316.85   25672210   $318.66   $320.89     $315.87\n",
              " 2     05/20/2020     $319.23   27876220   $316.68   $319.52      $316.2\n",
              " 3     05/19/2020     $313.14   25432390   $315.03   $318.52     $313.01\n",
              " 4     05/18/2020     $314.96   33843130   $313.17    $316.5   $310.3241\n",
              " ...          ...         ...        ...       ...       ...         ...\n",
              " 1254  06/01/2015    $130.535   32016020    $131.2   $131.39     $130.05\n",
              " 1255  05/29/2015     $130.28   50474170   $131.23   $131.45      $129.9\n",
              " 1256  05/28/2015     $131.78   30678840   $131.86   $131.95      $131.1\n",
              " 1257  05/27/2015    $132.045   45771120   $130.34   $132.26     $130.05\n",
              " 1258  05/26/2015     $129.62   70544670    $132.6   $132.91     $129.12\n",
              " \n",
              " [1259 rows x 6 columns])"
            ]
          },
          "metadata": {},
          "execution_count": 52
        }
      ]
    },
    {
      "cell_type": "code",
      "metadata": {
        "id": "i_jWBhlZd987",
        "colab": {
          "base_uri": "https://localhost:8080/"
        },
        "outputId": "9f44f264-c1e7-4bef-fa0b-048054b61473"
      },
      "source": [
        "QQQ_data.info(), AAPL_data.info()"
      ],
      "execution_count": null,
      "outputs": [
        {
          "output_type": "stream",
          "name": "stdout",
          "text": [
            "<class 'pandas.core.frame.DataFrame'>\n",
            "RangeIndex: 1258 entries, 0 to 1257\n",
            "Data columns (total 6 columns):\n",
            " #   Column      Non-Null Count  Dtype \n",
            "---  ------      --------------  ----- \n",
            " 0   Date        1258 non-null   object\n",
            " 1   Close/Last  1258 non-null   object\n",
            " 2   Volume      1258 non-null   object\n",
            " 3   Open        1258 non-null   object\n",
            " 4   High        1258 non-null   object\n",
            " 5   Low         1258 non-null   object\n",
            "dtypes: object(6)\n",
            "memory usage: 59.1+ KB\n",
            "<class 'pandas.core.frame.DataFrame'>\n",
            "RangeIndex: 1259 entries, 0 to 1258\n",
            "Data columns (total 6 columns):\n",
            " #   Column       Non-Null Count  Dtype \n",
            "---  ------       --------------  ----- \n",
            " 0   Date         1259 non-null   object\n",
            " 1    Close/Last  1259 non-null   object\n",
            " 2    Volume      1259 non-null   int64 \n",
            " 3    Open        1259 non-null   object\n",
            " 4    High        1259 non-null   object\n",
            " 5    Low         1259 non-null   object\n",
            "dtypes: int64(1), object(5)\n",
            "memory usage: 59.1+ KB\n"
          ]
        },
        {
          "output_type": "execute_result",
          "data": {
            "text/plain": [
              "(None, None)"
            ]
          },
          "metadata": {},
          "execution_count": 41
        }
      ]
    },
    {
      "cell_type": "code",
      "metadata": {
        "id": "6wz4YP78d988",
        "colab": {
          "base_uri": "https://localhost:8080/"
        },
        "outputId": "97b13cab-b597-467c-9833-8ef688208721"
      },
      "source": [
        "QQQ_data.isnull(), AAPL_data.isnull()"
      ],
      "execution_count": null,
      "outputs": [
        {
          "output_type": "execute_result",
          "data": {
            "text/plain": [
              "(       Date  Close/Last  Volume   Open   High    Low\n",
              " 0     False       False   False  False  False  False\n",
              " 1     False       False   False  False  False  False\n",
              " 2     False       False   False  False  False  False\n",
              " 3     False       False   False  False  False  False\n",
              " 4     False       False   False  False  False  False\n",
              " ...     ...         ...     ...    ...    ...    ...\n",
              " 1253  False       False   False  False  False  False\n",
              " 1254  False       False   False  False  False  False\n",
              " 1255  False       False   False  False  False  False\n",
              " 1256  False       False   False  False  False  False\n",
              " 1257  False       False   False  False  False  False\n",
              " \n",
              " [1258 rows x 6 columns],\n",
              "        Date   Close/Last   Volume   Open   High    Low\n",
              " 0     False        False    False  False  False  False\n",
              " 1     False        False    False  False  False  False\n",
              " 2     False        False    False  False  False  False\n",
              " 3     False        False    False  False  False  False\n",
              " 4     False        False    False  False  False  False\n",
              " ...     ...          ...      ...    ...    ...    ...\n",
              " 1254  False        False    False  False  False  False\n",
              " 1255  False        False    False  False  False  False\n",
              " 1256  False        False    False  False  False  False\n",
              " 1257  False        False    False  False  False  False\n",
              " 1258  False        False    False  False  False  False\n",
              " \n",
              " [1259 rows x 6 columns])"
            ]
          },
          "metadata": {},
          "execution_count": 53
        }
      ]
    },
    {
      "cell_type": "code",
      "metadata": {
        "id": "JOUGFM_Ad988",
        "colab": {
          "base_uri": "https://localhost:8080/",
          "height": 391
        },
        "outputId": "471b8c17-e92d-47b5-a25c-f51ac5d9d201"
      },
      "source": [
        "plt.figure(figsize=(12, 6))\n",
        "sns.heatmap(QQQ_data.isnull(), yticklabels=False, cbar=False, cmap='viridis')\n",
        "sns.heatmap(AAPL_data.isnull(), yticklabels=False, cbar=False, cmap='viridis')"
      ],
      "execution_count": null,
      "outputs": [
        {
          "output_type": "execute_result",
          "data": {
            "text/plain": [
              "<matplotlib.axes._subplots.AxesSubplot at 0x7f45287f4e50>"
            ]
          },
          "metadata": {},
          "execution_count": 55
        },
        {
          "output_type": "display_data",
          "data": {
            "image/png": "[encoded data removed]",
            "text/plain": [
              "<Figure size 864x432 with 1 Axes>"
            ]
          },
          "metadata": {
            "needs_background": "light"
          }
        }
      ]
    },
    {
      "cell_type": "code",
      "metadata": {
        "id": "cxdDQObNd989"
      },
      "source": [
        "QQQ_data['Date'] = pd.to_datetime(data.Date)\n",
        "AAPL_data['Date'] = pd.to_datetime(data1.Date)"
      ],
      "execution_count": null,
      "outputs": []
    },
    {
      "cell_type": "code",
      "metadata": {
        "id": "wiIOU_YGd989",
        "colab": {
          "base_uri": "https://localhost:8080/"
        },
        "outputId": "45e30b3e-9e1b-4b20-dac0-cd91e3fc6402"
      },
      "source": [
        "QQQ_data.head(), AAPL_data.head()"
      ],
      "execution_count": null,
      "outputs": [
        {
          "output_type": "execute_result",
          "data": {
            "text/plain": [
              "(        Date Close/Last    Volume    Open     High       Low\n",
              " 0 2021-09-10     376.59  40249410  381.23   381.97   376.245\n",
              " 1 2021-09-09     379.47  29398980  381.01   382.15    379.22\n",
              " 2 2021-09-08     380.78  32949160  381.93   381.93    378.45\n",
              " 3 2021-09-07     382.11  23970200  381.68  382.778  380.4882\n",
              " 4 2021-09-03     381.57  24624940  379.22   381.98  379.2003,\n",
              "         Date  Close/Last     Volume      Open      High         Low\n",
              " 0 2020-05-22     $318.89   20450750   $315.77   $319.23     $315.35\n",
              " 1 2020-05-21     $316.85   25672210   $318.66   $320.89     $315.87\n",
              " 2 2020-05-20     $319.23   27876220   $316.68   $319.52      $316.2\n",
              " 3 2020-05-19     $313.14   25432390   $315.03   $318.52     $313.01\n",
              " 4 2020-05-18     $314.96   33843130   $313.17    $316.5   $310.3241)"
            ]
          },
          "metadata": {},
          "execution_count": 57
        }
      ]
    },
    {
      "cell_type": "code",
      "metadata": {
        "id": "nXWvgiC7d98-"
      },
      "source": [
        "QQQ_data.rename(columns={' Close/Last': 'Close/Last', ' Volume': 'Volume',\n",
        "            ' Open': 'Open', ' High': 'High', ' Low': 'Low'},\n",
        "           inplace=True)\n",
        "AAPL_data.rename(columns={' Close/Last': 'Close/Last', ' Volume': 'Volume',\n",
        "            ' Open': 'Open', ' High': 'High', ' Low': 'Low'},\n",
        "           inplace=True)"
      ],
      "execution_count": null,
      "outputs": []
    },
    {
      "cell_type": "code",
      "metadata": {
        "id": "_VeMf2hmd98_",
        "colab": {
          "base_uri": "https://localhost:8080/"
        },
        "outputId": "b5d942b8-75e1-4532-9d9a-50831fed30fa"
      },
      "source": [
        "QQQ_data.columns, AAPL_data.columns"
      ],
      "execution_count": null,
      "outputs": [
        {
          "output_type": "execute_result",
          "data": {
            "text/plain": [
              "(Index(['Date', 'Close/Last', 'Volume', 'Open', 'High', 'Low'], dtype='object'),\n",
              " Index(['Date', ' Close/Last', ' Volume', ' Open', ' High', ' Low'], dtype='object'))"
            ]
          },
          "metadata": {},
          "execution_count": 58
        }
      ]
    },
    {
      "cell_type": "code",
      "metadata": {
        "id": "eokyLY26d98_",
        "colab": {
          "base_uri": "https://localhost:8080/"
        },
        "outputId": "9fc128e8-fb31-42b7-a818-4a6ed1011165"
      },
      "source": [
        "data.iloc[[-1]], data1.iloc[[-1]]"
      ],
      "execution_count": null,
      "outputs": [
        {
          "output_type": "execute_result",
          "data": {
            "text/plain": [
              "(           Date Close/Last    Volume    Open    High     Low\n",
              " 1257 2016-09-13     115.29  45838390  115.73  116.09  114.73,\n",
              "            Date  Close/Last    Volume     Open      High       Low\n",
              " 1258 2015-05-26     $129.62  70544670   $132.6   $132.91   $129.12)"
            ]
          },
          "metadata": {},
          "execution_count": 48
        }
      ]
    },
    {
      "cell_type": "code",
      "metadata": {
        "id": "KZvKf3ued99A",
        "colab": {
          "base_uri": "https://localhost:8080/"
        },
        "outputId": "2ddffabb-e3b7-426c-f7f3-c1e23163e794"
      },
      "source": [
        "QQQ_data.head(), AAPL_data.head()"
      ],
      "execution_count": null,
      "outputs": [
        {
          "output_type": "execute_result",
          "data": {
            "text/plain": [
              "(        Date  Close/Last    Volume    Open     High       Low\n",
              " 0 2021-09-10      376.59  40249410  381.23  381.970  376.2450\n",
              " 1 2021-09-09      379.47  29398980  381.01  382.150  379.2200\n",
              " 2 2021-09-08      380.78  32949160  381.93  381.930  378.4500\n",
              " 3 2021-09-07      382.11  23970200  381.68  382.778  380.4882\n",
              " 4 2021-09-03      381.57  24624940  379.22  381.980  379.2003,\n",
              "         Date  Close/Last     Volume      Open      High         Low\n",
              " 0 2020-05-22     $318.89   20450750   $315.77   $319.23     $315.35\n",
              " 1 2020-05-21     $316.85   25672210   $318.66   $320.89     $315.87\n",
              " 2 2020-05-20     $319.23   27876220   $316.68   $319.52      $316.2\n",
              " 3 2020-05-19     $313.14   25432390   $315.03   $318.52     $313.01\n",
              " 4 2020-05-18     $314.96   33843130   $313.17    $316.5   $310.3241)"
            ]
          },
          "metadata": {},
          "execution_count": 61
        }
      ]
    },
    {
      "cell_type": "code",
      "metadata": {
        "id": "HNdi4WBNd99A"
      },
      "source": [
        "\n",
        "XX= np.array(['1.1', '2.2', '3.3'])\n",
        "YY = XX.astype(np.float)\n",
        "#data['Open'] = data['Open'].replace({'\\$':''}, regex=True)\n",
        "#data['Open'].astype(float)\n",
        "\n",
        "QQQ_data['Open'] = QQQ_data['Open'].replace({'\\$':''}, regex=True).astype(np.float)\n",
        "QQQ_data['High'] = QQQ_data['High'].replace({'\\$': ''}, regex=True).astype(np.float)\n",
        "QQQ_data['Close/Last'] = QQQ_data['Close/Last'].replace({'\\$': ''}, regex=True).astype(np.float)\n",
        "QQQ_data['Low'] = QQQ_data['Low'].replace({'\\$': ''}, regex=True).astype(np.float)\n",
        "\n",
        "AAPL_data['Open'] = AAPL_data['Open'].replace({'\\$':''}, regex=True).astype(np.float)\n",
        "AAPL_data['High'] = AAPL_data['High'].replace({'\\$': ''}, regex=True).astype(np.float)\n",
        "AAPL_data['Close/Last'] = AAPL_data['Close/Last'].replace({'\\$': ''}, regex=True).astype(np.float)\n",
        "AAPL_data['Low'] = AAPL_data['Low'].replace({'\\$': ''}, regex=True).astype(np.float)\n",
        "\n",
        "#float(data['Open'].replace({'\\$':''}, regex=True).values[1])\n",
        "\n",
        "#data['Open'] = float(data['Open'].replace({'\\$':''}, regex=True))\n",
        "#data['High'] = float(data['High'].replace({'\\$': ''}, regex=True).values[0])\n",
        "#data['Close/Last'] = float(data['Close/Last'].replace({'\\$': ''}, regex=True).values[0])\n",
        "#data['Low'] = float(data['Low'].replace({'\\$': ''}, regex=True).values[0])\n",
        "#data['Open']\n"
      ],
      "execution_count": null,
      "outputs": []
    },
    {
      "cell_type": "code",
      "metadata": {
        "id": "aRRPhViod99B",
        "colab": {
          "base_uri": "https://localhost:8080/"
        },
        "outputId": "6a66bf63-cec1-46af-9540-c005d16c67dd"
      },
      "source": [
        "QQQ_data, AAPL_data"
      ],
      "execution_count": null,
      "outputs": [
        {
          "output_type": "execute_result",
          "data": {
            "text/plain": [
              "(           Date  Close/Last    Volume    Open     High       Low\n",
              " 0    2021-09-10      376.59  40249410  381.23  381.970  376.2450\n",
              " 1    2021-09-09      379.47  29398980  381.01  382.150  379.2200\n",
              " 2    2021-09-08      380.78  32949160  381.93  381.930  378.4500\n",
              " 3    2021-09-07      382.11  23970200  381.68  382.778  380.4882\n",
              " 4    2021-09-03      381.57  24624940  379.22  381.980  379.2003\n",
              " ...         ...         ...       ...     ...      ...       ...\n",
              " 1253 2016-09-19      116.78  16211280  117.57  117.950  116.5500\n",
              " 1254 2016-09-16      117.29  27590030  117.22  117.412  116.7100\n",
              " 1255 2016-09-15      117.64  38796350  115.89  117.815  115.8600\n",
              " 1256 2016-09-14      115.84  28147200  115.43  116.470  115.3800\n",
              " 1257 2016-09-13      115.29  45838390  115.73  116.090  114.7300\n",
              " \n",
              " [1258 rows x 6 columns],\n",
              "            Date  Close/Last     Volume    Open    High       Low\n",
              " 0    2020-05-22     318.890   20450750  315.77  319.23  315.3500\n",
              " 1    2020-05-21     316.850   25672210  318.66  320.89  315.8700\n",
              " 2    2020-05-20     319.230   27876220  316.68  319.52  316.2000\n",
              " 3    2020-05-19     313.140   25432390  315.03  318.52  313.0100\n",
              " 4    2020-05-18     314.960   33843130  313.17  316.50  310.3241\n",
              " ...         ...         ...        ...     ...     ...       ...\n",
              " 1254 2015-06-01     130.535   32016020  131.20  131.39  130.0500\n",
              " 1255 2015-05-29     130.280   50474170  131.23  131.45  129.9000\n",
              " 1256 2015-05-28     131.780   30678840  131.86  131.95  131.1000\n",
              " 1257 2015-05-27     132.045   45771120  130.34  132.26  130.0500\n",
              " 1258 2015-05-26     129.620   70544670  132.60  132.91  129.1200\n",
              " \n",
              " [1259 rows x 6 columns])"
            ]
          },
          "metadata": {},
          "execution_count": 67
        }
      ]
    },
    {
      "cell_type": "code",
      "metadata": {
        "id": "9j890bG2d99B"
      },
      "source": [
        "# Split into train and test:\n",
        "\n",
        "QQQ_data_to_train = QQQ_data[:1000]\n",
        "QQQ_data_to_test = QQQ_data[1000:]\n",
        "\n",
        "AAPL_data_to_train = AAPL_data[:1000]\n",
        "AAPL_data_to_test = AAPL_data[1000:]"
      ],
      "execution_count": null,
      "outputs": []
    },
    {
      "cell_type": "code",
      "metadata": {
        "id": "fbet19yNd99C"
      },
      "source": [
        "QQQ_data_to_train.to_csv('/content/drive/MyDrive/Colab Notebooks/QQQ_train_data.csv')\n",
        "QQQ_data_to_test.to_csv('/content/drive/MyDrive/Colab Notebooks/QQQ_test_data.csv')\n",
        "\n",
        "AAPL_data_to_train.to_csv('/content/drive/MyDrive/Colab Notebooks/AAPL_train_data.csv')\n",
        "AAPL_data_to_test.to_csv('/content/drive/MyDrive/Colab Notebooks/AAPL_test_data.csv')"
      ],
      "execution_count": null,
      "outputs": []
    }
  ]
}
