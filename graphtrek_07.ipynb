{
  "nbformat": 4,
  "nbformat_minor": 0,
  "metadata": {
    "colab": {
      "name": "graphtrek_07.ipynb",
      "provenance": [],
      "mount_file_id": "https://github.com/graphtrek/stockforecast/blob/main/graphtrek_07.ipynb",
      "authorship_tag": "ABX9TyP91YF+PKQkrBNk6j55GLIz",
      "include_colab_link": true
    },
    "kernelspec": {
      "name": "python3",
      "display_name": "Python 3"
    },
    "language_info": {
      "name": "python"
    }
  },
  "cells": [
    {
      "cell_type": "markdown",
      "metadata": {
        "id": "view-in-github",
        "colab_type": "text"
      },
      "source": [
        "<a href=\"https://colab.research.google.com/github/graphtrek/stockforecast/blob/main/graphtrek_07.ipynb\" target=\"_parent\"><img src=\"https://colab.research.google.com/assets/colab-badge.svg\" alt=\"Open In Colab\"/></a>"
      ]
    },
    {
      "cell_type": "code",
      "metadata": {
        "id": "sZPC3Z9u3evF"
      },
      "source": [
        "import numpy as np\n",
        "from tensorflow.keras.models import Sequential\n",
        "from tensorflow.keras.layers import LSTM\n",
        "from tensorflow.keras.optimizers import Adam\n",
        "from tensorflow.keras.losses import MAE\n",
        "from tensorflow.keras.layers import Dense, Dropout\n",
        "from tensorflow import keras\n",
        "from datetime import datetime, timedelta\n",
        "import pandas as pd\n",
        "import os, time\n",
        "from matplotlib import pyplot as plt\n",
        "from sklearn.preprocessing import StandardScaler\n",
        "import seaborn as sns\n",
        "import plotly.graph_objects as go\n",
        "import plotly.express as px\n",
        "from sklearn.preprocessing import MinMaxScaler\n",
        "from pandas.tseries.holiday import USFederalHolidayCalendar\n",
        "from pandas.tseries.offsets import CustomBusinessDay\n",
        "from keras.preprocessing.sequence import TimeseriesGenerator\n",
        "from tensorflow.keras.models import Sequential\n",
        "from tensorflow.keras.layers import LSTM\n",
        "from tensorflow.keras.optimizers import Adam\n",
        "from tensorflow.keras.losses import MAE\n",
        "from tensorflow.keras.layers import Dense, Dropout\n",
        "from tensorflow import keras\n",
        "from datetime import datetime, timedelta\n",
        "import pandas as pd\n",
        "import os, time\n",
        "from matplotlib import pyplot as plt\n",
        "from sklearn.preprocessing import StandardScaler\n",
        "import seaborn as sns\n",
        "import plotly.graph_objects as go\n",
        "import plotly.express as px\n",
        "from sklearn.preprocessing import MinMaxScaler\n",
        "from pandas.tseries.holiday import USFederalHolidayCalendar\n",
        "from pandas.tseries.offsets import CustomBusinessDay\n",
        "from keras.preprocessing.sequence import TimeseriesGenerator"
      ],
      "execution_count": 323,
      "outputs": []
    },
    {
      "cell_type": "code",
      "metadata": {
        "id": "HKYStAEQ3mh6"
      },
      "source": [
        "ticker = \"QQQ\"\n",
        "look_back = 14 #  number of past days we want to use to predict 1 day in the future.\n",
        "max_data_size = 730 # ~2 years\n",
        "split_percent = 0.90 # use 90% of the data  for train\n",
        "INFO = 1\n",
        "DEBUG = 2\n",
        "TRACE = 3\n",
        "print_level = DEBUG \n",
        "indicators_model_file_path = '/content/drive/MyDrive/models/' + ticker + '_' + str(look_back) + '_indicators_07.h5'\n",
        "nr_of_indicators = 1\n",
        "look_forward = 1\n",
        "epochs = 200\n",
        "learning_rate=0.0001\n",
        "num_prediction = look_back * 3\n",
        "np.random.seed(42)"
      ],
      "execution_count": 324,
      "outputs": []
    },
    {
      "cell_type": "code",
      "metadata": {
        "id": "tPJ9HBOO3-2-",
        "colab": {
          "base_uri": "https://localhost:8080/"
        },
        "outputId": "79e3d95e-5c08-4459-9dec-d292a0db1b74"
      },
      "source": [
        "rsi_url = 'https://www.alphavantage.co/query?function=RSI&datatype=json&symbol='+ticker+'&interval=daily&time_period='+str(look_back)+'&series_type=close&apikey=3F4URDEKOPLFH25T'\n",
        "print(rsi_url)\n",
        "rsi_api_response = pd.read_json(rsi_url)\n",
        "#print(rsi_api_response)\n",
        "rsi_api_data = rsi_api_response['Technical Analysis: RSI']\n",
        "#print(rsi_api_data)\n",
        "rsi_api_data = rsi_api_data.drop(\n",
        "    index=['1: Symbol','2: Indicator','3: Last Refreshed','4: Interval','5: Time Period','6: Series Type','7: Time Zone']);\n",
        "#print(rsi_api_data)\n",
        "\n",
        "rsi_data = []\n",
        "indicators_lstm_data = []\n",
        "for key, value in rsi_api_data.items():\n",
        "  date = key\n",
        "  rsi = float(value.get('RSI'))\n",
        "  rsi_data.append([date,rsi])\n",
        "  indicators_lstm_data.append([rsi])\n",
        "\n",
        "#print('rsi_data:', rsi_data)  \n",
        "last_date =  str(rsi_data[0][0])\n",
        "\n",
        "if max_data_size < len(rsi_data):\n",
        "  rsi_data = np.flip(rsi_data[:max_data_size],axis=0)\n",
        "  indicators_lstm_data = np.flip(indicators_lstm_data[:max_data_size],axis=0)\n",
        "else:\n",
        "  rsi_data = np.flip(rsi_data,axis=0)\n",
        "  indicators_lstm_data = np.flip(indicators_lstm_data,axis=0)\n",
        "\n",
        "first_rsi_data =  str(rsi_data[0])\n",
        "last_rsi_data =  str(rsi_data[-1])\n",
        "print('rsi_data_length:', len(rsi_data), 'first_rsi_data:', first_rsi_data, 'last_rsi_data:', last_rsi_data)  "
      ],
      "execution_count": 325,
      "outputs": [
        {
          "output_type": "stream",
          "name": "stdout",
          "text": [
            "https://www.alphavantage.co/query?function=RSI&datatype=json&symbol=QQQ&interval=daily&time_period=14&series_type=close&apikey=3F4URDEKOPLFH25T\n",
            "rsi_data_length: 730 first_rsi_data: ['2018-12-20' '32.7186'] last_rsi_data: ['2021-11-11' '61.7091']\n"
          ]
        }
      ]
    },
    {
      "cell_type": "code",
      "metadata": {
        "id": "gTTORjJJ22lE",
        "outputId": "289ee2fd-68c4-41ac-fbb6-aa21831ae86a",
        "colab": {
          "base_uri": "https://localhost:8080/"
        }
      },
      "source": [
        "stock_url = 'https://www.alphavantage.co/query?function=TIME_SERIES_DAILY_ADJUSTED&symbol='+ticker+'&outputsize=compact&apikey=3F4URDEKOPLFH25T'\n",
        "print(stock_url)\n",
        "stock_api_response = pd.read_json(stock_url)\n",
        "stock_api_data = stock_api_response['Time Series (Daily)']\n",
        "#print(stock_api_data)\n",
        "stock_api_data = stock_api_data.drop(index=['1. Information','2. Symbol','3. Last Refreshed','4. Output Size','5. Time Zone']);\n",
        "\n",
        "stock_data = []\n",
        "split_coefficient = 1\n",
        "\n",
        "for key, value in stock_api_data.items():\n",
        "  date = key\n",
        "  open = float(value.get('1. open'))\n",
        "  high = float(value.get('2. high'))\n",
        "  low = float(value.get('3. low'))\n",
        "  close = float(value.get('4. close'))\n",
        "  adjusted_close = float(value.get('5. adjusted close'))\n",
        "  volume = int(value.get('6. volume'))\n",
        "  divident = float(value.get('7. dividend amount'))\n",
        "\n",
        "  if float(value.get('8. split coefficient')) > 1:\n",
        "    split_coefficient = float(value.get('8. split coefficient'))\n",
        "    \n",
        "  open = open / split_coefficient\n",
        "  high = high /split_coefficient\n",
        "  close = close / split_coefficient\n",
        "  low = low / split_coefficient\n",
        "  \n",
        "  stock_data.append([\n",
        "      date,\n",
        "      close,\n",
        "      volume,\n",
        "      high,\n",
        "      low,\n",
        "      open,\n",
        "      divident\n",
        "      ])\n",
        "\n",
        "last_date =  str(stock_data[0][0])\n",
        "print('data length:', len(stock_data), 'last_date:', last_date)\n",
        "\n",
        "first_stock_data =  str(stock_data[0])\n",
        "last_stock_data =  str(stock_data[-1])\n",
        "print('stock_data_length:', len(stock_data), 'first_stock_data:', first_stock_data, 'last_stock_data:', last_stock_data)"
      ],
      "execution_count": 326,
      "outputs": [
        {
          "output_type": "stream",
          "name": "stdout",
          "text": [
            "https://www.alphavantage.co/query?function=TIME_SERIES_DAILY_ADJUSTED&symbol=QQQ&outputsize=compact&apikey=3F4URDEKOPLFH25T\n",
            "data length: 100 last_date: 2021-11-11\n",
            "stock_data_length: 100 first_stock_data: ['2021-11-11', 390.59, 32242983, 392.75, 390.24, 392.57, 0.0] last_stock_data: ['2021-06-23', 347.74, 27188454, 348.92, 346.88, 347.51, 0.0]\n"
          ]
        }
      ]
    },
    {
      "cell_type": "code",
      "metadata": {
        "id": "xHrOFKHo3ocW"
      },
      "source": [
        "stock_df = pd.DataFrame(stock_data,columns=['Date','Close','Volume','High','Low','Open','Divident'])"
      ],
      "execution_count": 327,
      "outputs": []
    },
    {
      "cell_type": "code",
      "metadata": {
        "id": "OYTx2W6N4JIM"
      },
      "source": [
        "indicators_df = pd.DataFrame(rsi_data,columns=['Date','RSI'])\n",
        "\n",
        "split = int(split_percent*len(rsi_data))\n",
        "if len(rsi_data) - split < look_back:\n",
        "  split = look_back\n",
        "split\n",
        "\n",
        "\n",
        "indicators_df_train = indicators_df.iloc[:split]\n",
        "indicators_df_test = indicators_df.iloc[split:]\n",
        "\n",
        "indicators_lstm_train_data = indicators_lstm_data[:split]\n",
        "indicators_lstm_test_data = indicators_lstm_data[split:]"
      ],
      "execution_count": 328,
      "outputs": []
    },
    {
      "cell_type": "code",
      "metadata": {
        "id": "5oRtthul4Pyj"
      },
      "source": [
        "np.set_printoptions(formatter={'float': '{: 0.12f}'.format})\n",
        "\n",
        "indicators_scaler = MinMaxScaler(feature_range=(0, 1))\n",
        "indicators_scaler = indicators_scaler.fit(indicators_lstm_data)\n",
        "\n",
        "indicators_lstm_train_data_scaled = indicators_scaler.transform(indicators_lstm_train_data)\n",
        "if print_level >= TRACE:\n",
        "  print(indicators_lstm_train_data_scaled[:look_back+1])\n",
        "  print(indicators_lstm_train_data_scaled.shape)\n",
        "\n",
        "indicators_lstm_test_data_scaled = indicators_scaler.transform(indicators_lstm_test_data)\n",
        "if print_level >= TRACE:\n",
        "  print(indicators_lstm_test_data_scaled[:look_back+1])\n",
        "  print(indicators_lstm_test_data_scaled.shape)"
      ],
      "execution_count": 329,
      "outputs": []
    },
    {
      "cell_type": "code",
      "metadata": {
        "id": "Cmmqy0nc4Slr"
      },
      "source": [
        "indicators_train_generator = TimeseriesGenerator(indicators_lstm_train_data_scaled, indicators_lstm_train_data_scaled, sampling_rate=1, length=look_back, batch_size=64)\n",
        "\n",
        "if print_level >= TRACE:\n",
        "  print('Samples: %d' % len(indicators_train_generator))\n",
        "  # print each sample\n",
        "  for i in range(2):\n",
        "    x, y = indicators_train_generator[i]\n",
        "    print('%s => %s' % (x, y))"
      ],
      "execution_count": 330,
      "outputs": []
    },
    {
      "cell_type": "code",
      "metadata": {
        "id": "xFQnXfRp6tVP",
        "colab": {
          "base_uri": "https://localhost:8080/"
        },
        "outputId": "1dbd51d7-d8f2-4f52-a134-3249998732d3"
      },
      "source": [
        "indicators_model = None\n",
        "try:\n",
        "  indicators_model = keras.models.load_model(indicators_model_file_path)\n",
        "  modified = os.path.getmtime(indicators_model_file_path)\n",
        "\n",
        "  print(pd.to_datetime(last_date).date() - datetime.fromtimestamp(modified).date() )\n",
        "  print('Loaded', indicators_model_file_path , ' model train date:',datetime.fromtimestamp(modified).date() , 'last date:', last_date)\n",
        "except:\n",
        "  indicators_model = None\n",
        "  print('Model ' + indicators_model_file_path + ' does not exists.')"
      ],
      "execution_count": 331,
      "outputs": [
        {
          "output_type": "stream",
          "name": "stdout",
          "text": [
            "-1 day, 0:00:00\n",
            "Loaded /content/drive/MyDrive/models/QQQ_14_indicators_07.h5  model train date: 2021-11-12 last date: 2021-11-11\n"
          ]
        }
      ]
    },
    {
      "cell_type": "code",
      "metadata": {
        "id": "r59DQEiZ0u18"
      },
      "source": [
        "if indicators_model is None:\n",
        "  indicators_model = Sequential()\n",
        "  indicators_model.add(LSTM(units=50, activation='tanh', input_shape=(look_back, nr_of_indicators), return_sequences=True))\n",
        "  indicators_model.add(Dropout(0.2))\n",
        "  indicators_model.add(LSTM(units=50, return_sequences=True, activation=\"tanh\"))\n",
        "  indicators_model.add(Dropout(0.2))\n",
        "  indicators_model.add(LSTM(units=50, return_sequences=True, activation=\"tanh\"))\n",
        "  indicators_model.add(Dropout(0.2))\n",
        "  indicators_model.add(LSTM(units=50, activation=\"tanh\"))\n",
        "  indicators_model.add(Dropout(0.2))\n",
        "  indicators_model.add(Dense(nr_of_indicators))\n",
        "\n",
        "  indicators_model.compile(\n",
        "      loss=MAE,\n",
        "      optimizer=Adam(learning_rate=learning_rate),\n",
        "      metrics=[\"mae\"]\n",
        "  )\n",
        "    \n",
        "  #model.summary()\n",
        "  print('Model ' + indicators_model_file_path + ' compiled.')\n",
        "\n",
        "  indicators_modelo = indicators_model.fit(indicators_train_generator, epochs=epochs, verbose=0 )\n",
        "  \n",
        "  indicators_model.save(indicators_model_file_path)\n",
        "  print('Saved model ' + indicators_model_file_path)\n",
        "\n",
        "  if print_level >= DEBUG:\n",
        "    plt.plot(indicators_modelo.history['loss'])\n",
        "    plt.xlabel('Epochs')\n",
        "    plt.ylabel('Loss')\n",
        "    plt.show()"
      ],
      "execution_count": 332,
      "outputs": []
    },
    {
      "cell_type": "code",
      "metadata": {
        "colab": {
          "base_uri": "https://localhost:8080/"
        },
        "id": "xkdpY8eE4XlZ",
        "outputId": "58046f42-e309-4cf0-de8c-8fdc860a77e4"
      },
      "source": [
        "indicators_test_generator = TimeseriesGenerator(indicators_lstm_test_data_scaled, indicators_lstm_test_data_scaled,sampling_rate=1, length=look_back, batch_size=look_back)\n",
        "\n",
        "print('Samples: %d' % len(indicators_test_generator))\n",
        "# print each sample\n",
        "if print_level >= TRACE:\n",
        "  for i in range(2):\n",
        "    x, y = indicators_test_generator[i]\n",
        "    print('%s => %s' % (x, y))"
      ],
      "execution_count": 333,
      "outputs": [
        {
          "output_type": "stream",
          "name": "stdout",
          "text": [
            "Samples: 5\n"
          ]
        }
      ]
    },
    {
      "cell_type": "code",
      "metadata": {
        "colab": {
          "base_uri": "https://localhost:8080/"
        },
        "id": "WAS1RHA1Mn10",
        "outputId": "cdb217e5-708a-44fb-9296-4d7b2ab5063c"
      },
      "source": [
        "#Make prediction\n",
        "indicators_prediction_scaled = indicators_model.predict(indicators_test_generator)\n",
        "\n",
        "if print_level >= DEBUG:\n",
        "  np.set_printoptions(formatter={'float': '{: 0.12f}'.format})\n",
        "  print(indicators_prediction_scaled[:5])\n",
        "\n",
        "indicators_prediction = indicators_scaler.inverse_transform(indicators_prediction_scaled)\n",
        "\n",
        "if print_level >= DEBUG:\n",
        "  np.set_printoptions(formatter={'float': '{: 0.2f}'.format})\n",
        "  print('indicators_prediction shape:',indicators_prediction.shape)\n",
        "\n",
        "  for x in range(look_back + 1):\n",
        "    print('pred:',indicators_prediction[x], 'test:', indicators_lstm_test_data[x])\n"
      ],
      "execution_count": 334,
      "outputs": [
        {
          "output_type": "stream",
          "name": "stdout",
          "text": [
            "[[ 0.659786164761]\n",
            " [ 0.650177836418]\n",
            " [ 0.639579832554]\n",
            " [ 0.630900859833]\n",
            " [ 0.624921560287]]\n",
            "indicators_prediction shape: (59, 1)\n",
            "pred: [ 62.36] test: [ 60.85]\n",
            "pred: [ 61.83] test: [ 63.95]\n",
            "pred: [ 61.24] test: [ 64.68]\n",
            "pred: [ 60.76] test: [ 67.75]\n",
            "pred: [ 60.43] test: [ 63.61]\n",
            "pred: [ 60.38] test: [ 64.59]\n",
            "pred: [ 60.49] test: [ 59.78]\n",
            "pred: [ 60.87] test: [ 58.23]\n",
            "pred: [ 61.43] test: [ 60.54]\n",
            "pred: [ 62.07] test: [ 62.72]\n",
            "pred: [ 62.76] test: [ 62.99]\n",
            "pred: [ 63.51] test: [ 54.31]\n",
            "pred: [ 64.43] test: [ 46.78]\n",
            "pred: [ 65.38] test: [ 50.46]\n",
            "pred: [ 66.06] test: [ 57.30]\n"
          ]
        }
      ]
    },
    {
      "cell_type": "code",
      "metadata": {
        "colab": {
          "base_uri": "https://localhost:8080/"
        },
        "id": "ae72DYdyd0zp",
        "outputId": "a090bad6-5828-4f26-c741-af57dff8e56a"
      },
      "source": [
        "def predict(num_prediction, model):\n",
        "    prediction_list = indicators_lstm_test_data_scaled[-look_back:]\n",
        "    #print('prediction_list',prediction_list)\n",
        "    for _ in range(num_prediction):\n",
        "        x = prediction_list[-look_back:]\n",
        "        #print(x)\n",
        "        x = x.reshape((1, look_back, nr_of_indicators))\n",
        "        out = model.predict(x)\n",
        "        #print(x,out) \n",
        "        prediction_list = np.append(prediction_list, out, axis=0)\n",
        "    prediction_list = prediction_list[look_back-1:]\n",
        "        \n",
        "    return prediction_list\n",
        "    \n",
        "def predict_dates(last_date,num_prediction):\n",
        "    us_bd = CustomBusinessDay(calendar=USFederalHolidayCalendar())\n",
        "    prediction_dates = pd.date_range(last_date, periods=num_prediction+1,freq=us_bd).tolist()\n",
        "    return prediction_dates\n",
        "\n",
        "indicators_forecast_scaled = predict(num_prediction, indicators_model)\n",
        "#print(forecast_scaled)\n",
        "indicators_forecast_dates = predict_dates(indicators_df['Date'].values[-1],num_prediction)\n",
        "\n",
        "indicators_forecast = indicators_scaler.inverse_transform(indicators_forecast_scaled.reshape((-1,nr_of_indicators)))\n",
        "if nr_of_indicators == 1:\n",
        "   indicators_forecast = indicators_forecast.reshape((-1))\n",
        "\n",
        "print('indicators_forecast:',indicators_forecast)\n"
      ],
      "execution_count": 335,
      "outputs": [
        {
          "output_type": "stream",
          "name": "stdout",
          "text": [
            "indicators_forecast: [ 61.71  68.43  68.64  68.62  68.42  68.07  67.68  67.28  66.92  66.57\n",
            "  66.24  65.99  65.81  65.74  65.82  65.80  65.64  65.49  65.35  65.22\n",
            "  65.12  65.02  64.94  64.86  64.80  64.74  64.68  64.62  64.57  64.51\n",
            "  64.45  64.41  64.36  64.32  64.28  64.25  64.21  64.18  64.15  64.12\n",
            "  64.10  64.07  64.05]\n"
          ]
        }
      ]
    },
    {
      "cell_type": "code",
      "metadata": {
        "colab": {
          "base_uri": "https://localhost:8080/",
          "height": 817
        },
        "id": "dnqEqJioguwy",
        "outputId": "19b74d65-3c03-4ccc-c044-eb56da3e4ce1"
      },
      "source": [
        "trace1 = go.Candlestick(\n",
        "    x = stock_df['Date'],\n",
        "    open = stock_df['Open'],\n",
        "    high = stock_df['High'],\n",
        "    low = stock_df['Low'],\n",
        "    close = stock_df['Close'],\n",
        "    name = ticker + ' Price'\n",
        ")\n",
        "\n",
        "\n",
        "#'Date','Close','Volume','High','Low','Open','Divident'\n",
        "open_price =  str(stock_data[-1][5])\n",
        "low_price =  str(stock_data[-1][3])\n",
        "high_price =  str(stock_data[-1][4])\n",
        "close_price =  str(stock_data[-1][1])\n",
        "\n",
        "layout = go.Layout(\n",
        "    title = ticker + ' Date:' + last_date + ' Open:' + open_price + ' High:' + high_price + ' Low:' + low_price + ' Close:' + close_price,\n",
        "    xaxis = {'title' : \"Dates\"},\n",
        "    yaxis = {'title' : \"Close Price ($)\"},\n",
        "    height = 450\n",
        ")\n",
        "\n",
        "fig = go.Figure(data=[trace1], layout=layout)\n",
        "\n",
        "fig.update_yaxes(showspikes=True, spikemode='across', spikesnap='cursor',spikedash='dash')\n",
        "fig.update_xaxes(showspikes=True, spikemode='across', spikesnap='cursor', spikedash='dash')\n",
        "fig.update_layout(xaxis_rangeslider_visible=False)\n",
        "config = dict({'scrollZoom': True})\n",
        "fig.show(config=config)\n",
        "\n",
        "\n",
        "trace_train = go.Scatter(\n",
        "  x = indicators_df_train['Date'],\n",
        "  y = indicators_df_train['RSI'],\n",
        "  mode='lines',\n",
        "  name ='RSI'\n",
        ")\n",
        "\n",
        "trace_test = go.Scatter(\n",
        "  x = indicators_df_test['Date'],\n",
        "  y = indicators_df_test['RSI'],\n",
        "  mode='lines',\n",
        "  name ='RSI'\n",
        ")\n",
        "\n",
        "trace_prediction = go.Scatter(\n",
        "    x = indicators_df_test['Date'],\n",
        "    y = indicators_prediction.reshape((-1)),\n",
        "    name ='Test'\n",
        ")\n",
        "\n",
        "trace_forecast = go.Scatter(\n",
        "    x = indicators_forecast_dates,\n",
        "    y = indicators_forecast,\n",
        "    mode='lines',\n",
        "    name ='RSI Forecast'\n",
        ")\n",
        "\n",
        "\n",
        "indicators_layout = go.Layout(\n",
        "    title = ticker + ' Date:' + last_date + ' Low RSI:' + min(indicators_df['RSI']) + ' High RSI:' + max(indicators_df['RSI']),\n",
        "    xaxis = {'title' : \"Dates\"},\n",
        "    yaxis = {'title' : \"RSI\"},\n",
        "    height = 350\n",
        ")\n",
        "\n",
        "indicators_fig = go.Figure(data=[trace_train, trace_test,trace_prediction,trace_forecast], layout=indicators_layout)\n",
        "\n",
        "indicators_fig.update_layout(shapes=[\n",
        "dict(\n",
        "  type= 'line',\n",
        "  yref= 'y', y0= 30, y1= 30,   # adding a horizontal line at Y = 1\n",
        "  xref= 'paper', x0= 0, x1= 1\n",
        "  ) \n",
        "])\n",
        "\n",
        "indicators_fig.update_yaxes(showspikes=True, spikemode='across', spikesnap='cursor',spikedash='dash')\n",
        "indicators_fig.update_xaxes(showspikes=True, spikemode='across', spikesnap='cursor', spikedash='dash')\n",
        "indicators_fig.update_layout(xaxis_rangeslider_visible=False)\n",
        "config = dict({'scrollZoom': True})\n",
        "indicators_fig.show(config=config)\n",
        "\n",
        "indicators_fig.write_html('/content/drive/MyDrive/models/charts/'+ticker+ '_07_' + last_date + '_inidicators_forecast.html')\n",
        "\n"
      ],
      "execution_count": 336,
      "outputs": [
        {
          "output_type": "display_data",
          "data": {
            "text/html": [
              "<html>\n",
              "<head><meta charset=\"utf-8\" /></head>\n",
              "<body>\n",
              "    <div>\n",
              "            <script src=\"https://cdnjs.cloudflare.com/ajax/libs/mathjax/2.7.5/MathJax.js?config=TeX-AMS-MML_SVG\"></script><script type=\"text/javascript\">if (window.MathJax) {MathJax.Hub.Config({SVG: {font: \"STIX-Web\"}});}</script>\n",
              "                <script type=\"text/javascript\">window.PlotlyConfig = {MathJaxConfig: 'local'};</script>\n",
              "        <script src=\"https://cdn.plot.ly/plotly-latest.min.js\"></script>    \n",
              "            <div id=\"a1697478-1f85-4753-a2d6-e0c2aeeb57de\" class=\"plotly-graph-div\" style=\"height:450px; width:100%;\"></div>\n",
              "            <script type=\"text/javascript\">\n",
              "                \n",
              "                    window.PLOTLYENV=window.PLOTLYENV || {};\n",
              "                    \n",
              "                if (document.getElementById(\"a1697478-1f85-4753-a2d6-e0c2aeeb57de\")) {\n",
              "                    Plotly.newPlot(\n",
              "                        'a1697478-1f85-4753-a2d6-e0c2aeeb57de',\n",
              "                        [{\"close\": [390.59, 389.51, 395.32, 398.06, 398.6, 398.22, 393.18, 389.05, 387.43, 386.11, 384.22, 380.0, 379.12, 377.93, 374.1, 377.27, 374.98, 375.47, 372.65, 368.94, 366.63, 360.0, 357.14, 358.39, 361.16, 362.97, 359.67, 357.38, 352.62, 360.18, 357.96, 359.28, 359.87, 370.35, 373.33, 372.98, 369.57, 366.15, 365.7, 373.83, 378.31, 378.05, 375.26, 376.33, 376.59, 379.47, 380.78, 382.11, 381.57, 380.4, 380.58, 379.95, 380.26, 376.04, 372.42, 374.8, 374.37, 373.23, 367.73, 363.96, 362.21, 365.73, 368.98, 368.82, 367.53, 366.21, 366.84, 368.73, 368.05, 369.67, 367.34, 366.81, 364.6, 364.57, 366.48, 365.83, 364.43, 368.49, 368.2, 363.95, 361.56, 358.79, 354.67, 357.6, 360.52, 363.07, 362.42, 362.42, 361.01, 358.77, 360.95, 360.19, 358.64, 354.57, 354.43, 354.99, 353.71, 349.46, 349.89, 347.74], \"high\": [392.75, 395.36, 399.57, 399.62, 400.99, 399.2, 393.61, 389.54, 387.56, 386.28, 384.48, 383.15, 382.71, 378.87, 376.97, 377.47, 376.565, 375.52, 372.87, 369.06, 366.85, 360.69, 360.33, 363.2, 364.3166, 365.69, 359.95, 359.69, 358.86, 361.25, 362.68, 363.37, 370.302, 371.2516, 373.76, 374.04, 371.07, 368.81, 369.25, 377.87, 378.9, 378.41, 378.61, 379.43, 381.97, 382.15, 381.93, 382.778, 381.98, 382.31, 382.71, 380.579, 380.76, 376.56, 374.62, 375.39, 374.99, 373.935, 368.14, 365.68, 366.62, 367.15, 369.02, 369.16, 367.9, 368.65, 369.56, 369.27, 369.37, 369.91, 368.32, 366.93, 366.88, 365.17, 367.6794, 367.45, 368.22, 368.89, 368.485, 363.96, 361.56, 360.28, 355.18, 362.41, 363.19, 365.49, 365.465, 362.89, 361.5, 359.65, 362.76, 360.48, 358.97, 355.09, 355.23, 355.0199, 353.85, 350.72, 351.46, 348.92], \"low\": [390.24, 387.53, 393.92, 397.4, 397.16, 393.92, 388.48, 386.75, 384.42, 380.7, 381.155, 379.31, 377.905, 373.56, 372.385, 373.85, 373.46, 372.6974, 366.99, 366.82, 363.01, 357.43, 356.48, 358.3, 360.61, 362.25, 353.15, 353.48, 350.32, 354.38, 357.1, 358.635, 359.35, 367.73, 370.27, 370.099, 365.9584, 364.99, 360.93, 372.76, 374.695, 373.37, 374.28, 374.22, 376.245, 379.22, 378.45, 380.4882, 379.2003, 379.15, 380.37, 378.36, 376.83, 372.57, 371.97, 373.855, 373.36, 368.79, 364.74, 359.96, 361.865, 363.23, 363.7, 367.38, 364.295, 364.84, 365.62, 367.39, 366.905, 367.45, 365.63, 362.0, 363.87, 362.41, 365.25, 363.24, 360.16, 366.601, 363.9157, 361.77, 358.12, 353.8, 352.04, 357.24, 358.46, 362.22, 361.54, 360.83, 357.57, 354.42, 358.94, 356.49, 356.28, 352.68, 353.83, 352.67, 350.72, 348.84, 349.17, 346.88], \"name\": \"QQQ Price\", \"open\": [392.57, 392.47, 399.16, 398.57, 400.04, 394.48, 389.55, 386.8, 386.56, 381.06, 381.95, 379.58, 380.23, 375.56, 375.98, 374.16, 375.94, 373.75, 367.61, 367.88, 363.69, 359.51, 359.88, 359.58, 364.08, 362.8, 354.08, 353.71, 358.52, 358.6, 360.97, 361.17, 365.67, 370.2, 370.65, 370.76, 367.09, 367.58, 367.46, 377.82, 376.68, 375.73, 377.86, 378.99, 381.23, 381.01, 381.93, 381.68, 379.22, 381.97, 381.04, 380.51, 376.85, 373.07, 373.92, 374.63, 373.84, 368.8, 365.06, 360.22, 365.18, 366.15, 367.67, 367.89, 365.69, 368.14, 369.26, 368.52, 368.37, 368.18, 366.77, 365.28, 366.28, 362.44, 365.25, 365.6, 368.22, 367.49, 365.31, 361.77, 358.35, 355.63, 354.05, 361.4, 362.98, 364.83, 362.03, 362.45, 358.17, 355.74, 362.45, 359.26, 356.52, 354.07, 354.83, 353.53, 350.78, 350.47, 349.73, 347.51], \"type\": \"candlestick\", \"x\": [\"2021-11-11\", \"2021-11-10\", \"2021-11-09\", \"2021-11-08\", \"2021-11-05\", \"2021-11-04\", \"2021-11-03\", \"2021-11-02\", \"2021-11-01\", \"2021-10-29\", \"2021-10-28\", \"2021-10-27\", \"2021-10-26\", \"2021-10-25\", \"2021-10-22\", \"2021-10-21\", \"2021-10-20\", \"2021-10-19\", \"2021-10-18\", \"2021-10-15\", \"2021-10-14\", \"2021-10-13\", \"2021-10-12\", \"2021-10-11\", \"2021-10-08\", \"2021-10-07\", \"2021-10-06\", \"2021-10-05\", \"2021-10-04\", \"2021-10-01\", \"2021-09-30\", \"2021-09-29\", \"2021-09-28\", \"2021-09-27\", \"2021-09-24\", \"2021-09-23\", \"2021-09-22\", \"2021-09-21\", \"2021-09-20\", \"2021-09-17\", \"2021-09-16\", \"2021-09-15\", \"2021-09-14\", \"2021-09-13\", \"2021-09-10\", \"2021-09-09\", \"2021-09-08\", \"2021-09-07\", \"2021-09-03\", \"2021-09-02\", \"2021-09-01\", \"2021-08-31\", \"2021-08-30\", \"2021-08-27\", \"2021-08-26\", \"2021-08-25\", \"2021-08-24\", \"2021-08-23\", \"2021-08-20\", \"2021-08-19\", \"2021-08-18\", \"2021-08-17\", \"2021-08-16\", \"2021-08-13\", \"2021-08-12\", \"2021-08-11\", \"2021-08-10\", \"2021-08-09\", \"2021-08-06\", \"2021-08-05\", \"2021-08-04\", \"2021-08-03\", \"2021-08-02\", \"2021-07-30\", \"2021-07-29\", \"2021-07-28\", \"2021-07-27\", \"2021-07-26\", \"2021-07-23\", \"2021-07-22\", \"2021-07-21\", \"2021-07-20\", \"2021-07-19\", \"2021-07-16\", \"2021-07-15\", \"2021-07-14\", \"2021-07-13\", \"2021-07-12\", \"2021-07-09\", \"2021-07-08\", \"2021-07-07\", \"2021-07-06\", \"2021-07-02\", \"2021-07-01\", \"2021-06-30\", \"2021-06-29\", \"2021-06-28\", \"2021-06-25\", \"2021-06-24\", \"2021-06-23\"]}],\n",
              "                        {\"height\": 450, \"template\": {\"data\": {\"bar\": [{\"error_x\": {\"color\": \"#2a3f5f\"}, \"error_y\": {\"color\": \"#2a3f5f\"}, \"marker\": {\"line\": {\"color\": \"#E5ECF6\", \"width\": 0.5}}, \"type\": \"bar\"}], \"barpolar\": [{\"marker\": {\"line\": {\"color\": \"#E5ECF6\", \"width\": 0.5}}, \"type\": \"barpolar\"}], \"carpet\": [{\"aaxis\": {\"endlinecolor\": \"#2a3f5f\", \"gridcolor\": \"white\", \"linecolor\": \"white\", \"minorgridcolor\": \"white\", \"startlinecolor\": \"#2a3f5f\"}, \"baxis\": {\"endlinecolor\": \"#2a3f5f\", \"gridcolor\": \"white\", \"linecolor\": \"white\", \"minorgridcolor\": \"white\", \"startlinecolor\": \"#2a3f5f\"}, \"type\": \"carpet\"}], \"choropleth\": [{\"colorbar\": {\"outlinewidth\": 0, \"ticks\": \"\"}, \"type\": \"choropleth\"}], \"contour\": [{\"colorbar\": {\"outlinewidth\": 0, \"ticks\": \"\"}, \"colorscale\": [[0.0, \"#0d0887\"], [0.1111111111111111, \"#46039f\"], [0.2222222222222222, \"#7201a8\"], [0.3333333333333333, \"#9c179e\"], [0.4444444444444444, \"#bd3786\"], [0.5555555555555556, \"#d8576b\"], [0.6666666666666666, \"#ed7953\"], [0.7777777777777778, \"#fb9f3a\"], [0.8888888888888888, \"#fdca26\"], [1.0, \"#f0f921\"]], \"type\": \"contour\"}], \"contourcarpet\": [{\"colorbar\": {\"outlinewidth\": 0, \"ticks\": \"\"}, \"type\": \"contourcarpet\"}], \"heatmap\": [{\"colorbar\": {\"outlinewidth\": 0, \"ticks\": \"\"}, \"colorscale\": [[0.0, \"#0d0887\"], [0.1111111111111111, \"#46039f\"], [0.2222222222222222, \"#7201a8\"], [0.3333333333333333, \"#9c179e\"], [0.4444444444444444, \"#bd3786\"], [0.5555555555555556, \"#d8576b\"], [0.6666666666666666, \"#ed7953\"], [0.7777777777777778, \"#fb9f3a\"], [0.8888888888888888, \"#fdca26\"], [1.0, \"#f0f921\"]], \"type\": \"heatmap\"}], \"heatmapgl\": [{\"colorbar\": {\"outlinewidth\": 0, \"ticks\": \"\"}, \"colorscale\": [[0.0, \"#0d0887\"], [0.1111111111111111, \"#46039f\"], [0.2222222222222222, \"#7201a8\"], [0.3333333333333333, \"#9c179e\"], [0.4444444444444444, \"#bd3786\"], [0.5555555555555556, \"#d8576b\"], [0.6666666666666666, \"#ed7953\"], [0.7777777777777778, \"#fb9f3a\"], [0.8888888888888888, \"#fdca26\"], [1.0, \"#f0f921\"]], \"type\": \"heatmapgl\"}], \"histogram\": [{\"marker\": {\"colorbar\": {\"outlinewidth\": 0, \"ticks\": \"\"}}, \"type\": \"histogram\"}], \"histogram2d\": [{\"colorbar\": {\"outlinewidth\": 0, \"ticks\": \"\"}, \"colorscale\": [[0.0, \"#0d0887\"], [0.1111111111111111, \"#46039f\"], [0.2222222222222222, \"#7201a8\"], [0.3333333333333333, \"#9c179e\"], [0.4444444444444444, \"#bd3786\"], [0.5555555555555556, \"#d8576b\"], [0.6666666666666666, \"#ed7953\"], [0.7777777777777778, \"#fb9f3a\"], [0.8888888888888888, \"#fdca26\"], [1.0, \"#f0f921\"]], \"type\": \"histogram2d\"}], \"histogram2dcontour\": [{\"colorbar\": {\"outlinewidth\": 0, \"ticks\": \"\"}, \"colorscale\": [[0.0, \"#0d0887\"], [0.1111111111111111, \"#46039f\"], [0.2222222222222222, \"#7201a8\"], [0.3333333333333333, \"#9c179e\"], [0.4444444444444444, \"#bd3786\"], [0.5555555555555556, \"#d8576b\"], [0.6666666666666666, \"#ed7953\"], [0.7777777777777778, \"#fb9f3a\"], [0.8888888888888888, \"#fdca26\"], [1.0, \"#f0f921\"]], \"type\": \"histogram2dcontour\"}], \"mesh3d\": [{\"colorbar\": {\"outlinewidth\": 0, \"ticks\": \"\"}, \"type\": \"mesh3d\"}], \"parcoords\": [{\"line\": {\"colorbar\": {\"outlinewidth\": 0, \"ticks\": \"\"}}, \"type\": \"parcoords\"}], \"pie\": [{\"automargin\": true, \"type\": \"pie\"}], \"scatter\": [{\"marker\": {\"colorbar\": {\"outlinewidth\": 0, \"ticks\": \"\"}}, \"type\": \"scatter\"}], \"scatter3d\": [{\"line\": {\"colorbar\": {\"outlinewidth\": 0, \"ticks\": \"\"}}, \"marker\": {\"colorbar\": {\"outlinewidth\": 0, \"ticks\": \"\"}}, \"type\": \"scatter3d\"}], \"scattercarpet\": [{\"marker\": {\"colorbar\": {\"outlinewidth\": 0, \"ticks\": \"\"}}, \"type\": \"scattercarpet\"}], \"scattergeo\": [{\"marker\": {\"colorbar\": {\"outlinewidth\": 0, \"ticks\": \"\"}}, \"type\": \"scattergeo\"}], \"scattergl\": [{\"marker\": {\"colorbar\": {\"outlinewidth\": 0, \"ticks\": \"\"}}, \"type\": \"scattergl\"}], \"scattermapbox\": [{\"marker\": {\"colorbar\": {\"outlinewidth\": 0, \"ticks\": \"\"}}, \"type\": \"scattermapbox\"}], \"scatterpolar\": [{\"marker\": {\"colorbar\": {\"outlinewidth\": 0, \"ticks\": \"\"}}, \"type\": \"scatterpolar\"}], \"scatterpolargl\": [{\"marker\": {\"colorbar\": {\"outlinewidth\": 0, \"ticks\": \"\"}}, \"type\": \"scatterpolargl\"}], \"scatterternary\": [{\"marker\": {\"colorbar\": {\"outlinewidth\": 0, \"ticks\": \"\"}}, \"type\": \"scatterternary\"}], \"surface\": [{\"colorbar\": {\"outlinewidth\": 0, \"ticks\": \"\"}, \"colorscale\": [[0.0, \"#0d0887\"], [0.1111111111111111, \"#46039f\"], [0.2222222222222222, \"#7201a8\"], [0.3333333333333333, \"#9c179e\"], [0.4444444444444444, \"#bd3786\"], [0.5555555555555556, \"#d8576b\"], [0.6666666666666666, \"#ed7953\"], [0.7777777777777778, \"#fb9f3a\"], [0.8888888888888888, \"#fdca26\"], [1.0, \"#f0f921\"]], \"type\": \"surface\"}], \"table\": [{\"cells\": {\"fill\": {\"color\": \"#EBF0F8\"}, \"line\": {\"color\": \"white\"}}, \"header\": {\"fill\": {\"color\": \"#C8D4E3\"}, \"line\": {\"color\": \"white\"}}, \"type\": \"table\"}]}, \"layout\": {\"annotationdefaults\": {\"arrowcolor\": \"#2a3f5f\", \"arrowhead\": 0, \"arrowwidth\": 1}, \"coloraxis\": {\"colorbar\": {\"outlinewidth\": 0, \"ticks\": \"\"}}, \"colorscale\": {\"diverging\": [[0, \"#8e0152\"], [0.1, \"#c51b7d\"], [0.2, \"#de77ae\"], [0.3, \"#f1b6da\"], [0.4, \"#fde0ef\"], [0.5, \"#f7f7f7\"], [0.6, \"#e6f5d0\"], [0.7, \"#b8e186\"], [0.8, \"#7fbc41\"], [0.9, \"#4d9221\"], [1, \"#276419\"]], \"sequential\": [[0.0, \"#0d0887\"], [0.1111111111111111, \"#46039f\"], [0.2222222222222222, \"#7201a8\"], [0.3333333333333333, \"#9c179e\"], [0.4444444444444444, \"#bd3786\"], [0.5555555555555556, \"#d8576b\"], [0.6666666666666666, \"#ed7953\"], [0.7777777777777778, \"#fb9f3a\"], [0.8888888888888888, \"#fdca26\"], [1.0, \"#f0f921\"]], \"sequentialminus\": [[0.0, \"#0d0887\"], [0.1111111111111111, \"#46039f\"], [0.2222222222222222, \"#7201a8\"], [0.3333333333333333, \"#9c179e\"], [0.4444444444444444, \"#bd3786\"], [0.5555555555555556, \"#d8576b\"], [0.6666666666666666, \"#ed7953\"], [0.7777777777777778, \"#fb9f3a\"], [0.8888888888888888, \"#fdca26\"], [1.0, \"#f0f921\"]]}, \"colorway\": [\"#636efa\", \"#EF553B\", \"#00cc96\", \"#ab63fa\", \"#FFA15A\", \"#19d3f3\", \"#FF6692\", \"#B6E880\", \"#FF97FF\", \"#FECB52\"], \"font\": {\"color\": \"#2a3f5f\"}, \"geo\": {\"bgcolor\": \"white\", \"lakecolor\": \"white\", \"landcolor\": \"#E5ECF6\", \"showlakes\": true, \"showland\": true, \"subunitcolor\": \"white\"}, \"hoverlabel\": {\"align\": \"left\"}, \"hovermode\": \"closest\", \"mapbox\": {\"style\": \"light\"}, \"paper_bgcolor\": \"white\", \"plot_bgcolor\": \"#E5ECF6\", \"polar\": {\"angularaxis\": {\"gridcolor\": \"white\", \"linecolor\": \"white\", \"ticks\": \"\"}, \"bgcolor\": \"#E5ECF6\", \"radialaxis\": {\"gridcolor\": \"white\", \"linecolor\": \"white\", \"ticks\": \"\"}}, \"scene\": {\"xaxis\": {\"backgroundcolor\": \"#E5ECF6\", \"gridcolor\": \"white\", \"gridwidth\": 2, \"linecolor\": \"white\", \"showbackground\": true, \"ticks\": \"\", \"zerolinecolor\": \"white\"}, \"yaxis\": {\"backgroundcolor\": \"#E5ECF6\", \"gridcolor\": \"white\", \"gridwidth\": 2, \"linecolor\": \"white\", \"showbackground\": true, \"ticks\": \"\", \"zerolinecolor\": \"white\"}, \"zaxis\": {\"backgroundcolor\": \"#E5ECF6\", \"gridcolor\": \"white\", \"gridwidth\": 2, \"linecolor\": \"white\", \"showbackground\": true, \"ticks\": \"\", \"zerolinecolor\": \"white\"}}, \"shapedefaults\": {\"line\": {\"color\": \"#2a3f5f\"}}, \"ternary\": {\"aaxis\": {\"gridcolor\": \"white\", \"linecolor\": \"white\", \"ticks\": \"\"}, \"baxis\": {\"gridcolor\": \"white\", \"linecolor\": \"white\", \"ticks\": \"\"}, \"bgcolor\": \"#E5ECF6\", \"caxis\": {\"gridcolor\": \"white\", \"linecolor\": \"white\", \"ticks\": \"\"}}, \"title\": {\"x\": 0.05}, \"xaxis\": {\"automargin\": true, \"gridcolor\": \"white\", \"linecolor\": \"white\", \"ticks\": \"\", \"title\": {\"standoff\": 15}, \"zerolinecolor\": \"white\", \"zerolinewidth\": 2}, \"yaxis\": {\"automargin\": true, \"gridcolor\": \"white\", \"linecolor\": \"white\", \"ticks\": \"\", \"title\": {\"standoff\": 15}, \"zerolinecolor\": \"white\", \"zerolinewidth\": 2}}}, \"title\": {\"text\": \"QQQ Date:2021-11-11 Open:347.51 High:346.88 Low:348.92 Close:347.74\"}, \"xaxis\": {\"rangeslider\": {\"visible\": false}, \"showspikes\": true, \"spikedash\": \"dash\", \"spikemode\": \"across\", \"spikesnap\": \"cursor\", \"title\": {\"text\": \"Dates\"}}, \"yaxis\": {\"showspikes\": true, \"spikedash\": \"dash\", \"spikemode\": \"across\", \"spikesnap\": \"cursor\", \"title\": {\"text\": \"Close Price ($)\"}}},\n",
              "                        {\"scrollZoom\": true, \"responsive\": true}\n",
              "                    ).then(function(){\n",
              "                            \n",
              "var gd = document.getElementById('a1697478-1f85-4753-a2d6-e0c2aeeb57de');\n",
              "var x = new MutationObserver(function (mutations, observer) {{\n",
              "        var display = window.getComputedStyle(gd).display;\n",
              "        if (!display || display === 'none') {{\n",
              "            console.log([gd, 'removed!']);\n",
              "            Plotly.purge(gd);\n",
              "            observer.disconnect();\n",
              "        }}\n",
              "}});\n",
              "\n",
              "// Listen for the removal of the full notebook cells\n",
              "var notebookContainer = gd.closest('#notebook-container');\n",
              "if (notebookContainer) {{\n",
              "    x.observe(notebookContainer, {childList: true});\n",
              "}}\n",
              "\n",
              "// Listen for the clearing of the current output cell\n",
              "var outputEl = gd.closest('.output');\n",
              "if (outputEl) {{\n",
              "    x.observe(outputEl, {childList: true});\n",
              "}}\n",
              "\n",
              "                        })\n",
              "                };\n",
              "                \n",
              "            </script>\n",
              "        </div>\n",
              "</body>\n",
              "</html>"
            ]
          },
          "metadata": {}
        },
        {
          "output_type": "display_data",
          "data": {
            "text/html": [
              "<html>\n",
              "<head><meta charset=\"utf-8\" /></head>\n",
              "<body>\n",
              "    <div>\n",
              "            <script src=\"https://cdnjs.cloudflare.com/ajax/libs/mathjax/2.7.5/MathJax.js?config=TeX-AMS-MML_SVG\"></script><script type=\"text/javascript\">if (window.MathJax) {MathJax.Hub.Config({SVG: {font: \"STIX-Web\"}});}</script>\n",
              "                <script type=\"text/javascript\">window.PlotlyConfig = {MathJaxConfig: 'local'};</script>\n",
              "        <script src=\"https://cdn.plot.ly/plotly-latest.min.js\"></script>    \n",
              "            <div id=\"57a93f8f-7290-49ce-bf1b-8c2d129f210c\" class=\"plotly-graph-div\" style=\"height:350px; width:100%;\"></div>\n",
              "            <script type=\"text/javascript\">\n",
              "                \n",
              "                    window.PLOTLYENV=window.PLOTLYENV || {};\n",
              "                    \n",
              "                if (document.getElementById(\"57a93f8f-7290-49ce-bf1b-8c2d129f210c\")) {\n",
              "                    Plotly.newPlot(\n",
              "                        '57a93f8f-7290-49ce-bf1b-8c2d129f210c',\n",
              "                        [{\"mode\": \"lines\", \"name\": \"RSI\", \"type\": \"scatter\", \"x\": [\"2018-12-20\", \"2018-12-21\", \"2018-12-24\", \"2018-12-26\", \"2018-12-27\", \"2018-12-28\", \"2018-12-31\", \"2019-01-02\", \"2019-01-03\", \"2019-01-04\", \"2019-01-07\", \"2019-01-08\", \"2019-01-09\", \"2019-01-10\", \"2019-01-11\", \"2019-01-14\", \"2019-01-15\", \"2019-01-16\", \"2019-01-17\", \"2019-01-18\", \"2019-01-22\", \"2019-01-23\", \"2019-01-24\", \"2019-01-25\", \"2019-01-28\", \"2019-01-29\", \"2019-01-30\", \"2019-01-31\", \"2019-02-01\", \"2019-02-04\", \"2019-02-05\", \"2019-02-06\", \"2019-02-07\", \"2019-02-08\", \"2019-02-11\", \"2019-02-12\", \"2019-02-13\", \"2019-02-14\", \"2019-02-15\", \"2019-02-19\", \"2019-02-20\", \"2019-02-21\", \"2019-02-22\", \"2019-02-25\", \"2019-02-26\", \"2019-02-27\", \"2019-02-28\", \"2019-03-01\", \"2019-03-04\", \"2019-03-05\", \"2019-03-06\", \"2019-03-07\", \"2019-03-08\", \"2019-03-11\", \"2019-03-12\", \"2019-03-13\", \"2019-03-14\", \"2019-03-15\", \"2019-03-18\", \"2019-03-19\", \"2019-03-20\", \"2019-03-21\", \"2019-03-22\", \"2019-03-25\", \"2019-03-26\", \"2019-03-27\", \"2019-03-28\", \"2019-03-29\", \"2019-04-01\", \"2019-04-02\", \"2019-04-03\", \"2019-04-04\", \"2019-04-05\", \"2019-04-08\", \"2019-04-09\", \"2019-04-10\", \"2019-04-11\", \"2019-04-12\", \"2019-04-15\", \"2019-04-16\", \"2019-04-17\", \"2019-04-18\", \"2019-04-22\", \"2019-04-23\", \"2019-04-24\", \"2019-04-25\", \"2019-04-26\", \"2019-04-29\", \"2019-04-30\", \"2019-05-01\", \"2019-05-02\", \"2019-05-03\", \"2019-05-06\", \"2019-05-07\", \"2019-05-08\", \"2019-05-09\", \"2019-05-10\", \"2019-05-13\", \"2019-05-14\", \"2019-05-15\", \"2019-05-16\", \"2019-05-17\", \"2019-05-20\", \"2019-05-21\", \"2019-05-22\", \"2019-05-23\", \"2019-05-24\", \"2019-05-28\", \"2019-05-29\", \"2019-05-30\", \"2019-05-31\", \"2019-06-03\", \"2019-06-04\", \"2019-06-05\", \"2019-06-06\", \"2019-06-07\", \"2019-06-10\", \"2019-06-11\", \"2019-06-12\", \"2019-06-13\", \"2019-06-14\", \"2019-06-17\", \"2019-06-18\", \"2019-06-19\", \"2019-06-20\", \"2019-06-21\", \"2019-06-24\", \"2019-06-25\", \"2019-06-26\", \"2019-06-27\", \"2019-06-28\", \"2019-07-01\", \"2019-07-02\", \"2019-07-03\", \"2019-07-05\", \"2019-07-08\", \"2019-07-09\", \"2019-07-10\", \"2019-07-11\", \"2019-07-12\", \"2019-07-15\", \"2019-07-16\", \"2019-07-17\", \"2019-07-18\", \"2019-07-19\", \"2019-07-22\", \"2019-07-23\", \"2019-07-24\", \"2019-07-25\", \"2019-07-26\", \"2019-07-29\", \"2019-07-30\", \"2019-07-31\", \"2019-08-01\", \"2019-08-02\", \"2019-08-05\", \"2019-08-06\", \"2019-08-07\", \"2019-08-08\", \"2019-08-09\", \"2019-08-12\", \"2019-08-13\", \"2019-08-14\", \"2019-08-15\", \"2019-08-16\", \"2019-08-19\", \"2019-08-20\", \"2019-08-21\", \"2019-08-22\", \"2019-08-23\", \"2019-08-26\", \"2019-08-27\", \"2019-08-28\", \"2019-08-29\", \"2019-08-30\", \"2019-09-03\", \"2019-09-04\", \"2019-09-05\", \"2019-09-06\", \"2019-09-09\", \"2019-09-10\", \"2019-09-11\", \"2019-09-12\", \"2019-09-13\", \"2019-09-16\", \"2019-09-17\", \"2019-09-18\", \"2019-09-19\", \"2019-09-20\", \"2019-09-23\", \"2019-09-24\", \"2019-09-25\", \"2019-09-26\", \"2019-09-27\", \"2019-09-30\", \"2019-10-01\", \"2019-10-02\", \"2019-10-03\", \"2019-10-04\", \"2019-10-07\", \"2019-10-08\", \"2019-10-09\", \"2019-10-10\", \"2019-10-11\", \"2019-10-14\", \"2019-10-15\", \"2019-10-16\", \"2019-10-17\", \"2019-10-18\", \"2019-10-21\", \"2019-10-22\", \"2019-10-23\", \"2019-10-24\", \"2019-10-25\", \"2019-10-28\", \"2019-10-29\", \"2019-10-30\", \"2019-10-31\", \"2019-11-01\", \"2019-11-04\", \"2019-11-05\", \"2019-11-06\", \"2019-11-07\", \"2019-11-08\", \"2019-11-11\", \"2019-11-12\", \"2019-11-13\", \"2019-11-14\", \"2019-11-15\", \"2019-11-18\", \"2019-11-19\", \"2019-11-20\", \"2019-11-21\", \"2019-11-22\", \"2019-11-25\", \"2019-11-26\", \"2019-11-27\", \"2019-11-29\", \"2019-12-02\", \"2019-12-03\", \"2019-12-04\", \"2019-12-05\", \"2019-12-06\", \"2019-12-09\", \"2019-12-10\", \"2019-12-11\", \"2019-12-12\", \"2019-12-13\", \"2019-12-16\", \"2019-12-17\", \"2019-12-18\", \"2019-12-19\", \"2019-12-20\", \"2019-12-23\", \"2019-12-24\", \"2019-12-26\", \"2019-12-27\", \"2019-12-30\", \"2019-12-31\", \"2020-01-02\", \"2020-01-03\", \"2020-01-06\", \"2020-01-07\", \"2020-01-08\", \"2020-01-09\", \"2020-01-10\", \"2020-01-13\", \"2020-01-14\", \"2020-01-15\", \"2020-01-16\", \"2020-01-17\", \"2020-01-21\", \"2020-01-22\", \"2020-01-23\", \"2020-01-24\", \"2020-01-27\", \"2020-01-28\", \"2020-01-29\", \"2020-01-30\", \"2020-01-31\", \"2020-02-03\", \"2020-02-04\", \"2020-02-05\", \"2020-02-06\", \"2020-02-07\", \"2020-02-10\", \"2020-02-11\", \"2020-02-12\", \"2020-02-13\", \"2020-02-14\", \"2020-02-18\", \"2020-02-19\", \"2020-02-20\", \"2020-02-21\", \"2020-02-24\", \"2020-02-25\", \"2020-02-26\", \"2020-02-27\", \"2020-02-28\", \"2020-03-02\", \"2020-03-03\", \"2020-03-04\", \"2020-03-05\", \"2020-03-06\", \"2020-03-09\", \"2020-03-10\", \"2020-03-11\", \"2020-03-12\", \"2020-03-13\", \"2020-03-16\", \"2020-03-17\", \"2020-03-18\", \"2020-03-19\", \"2020-03-20\", \"2020-03-23\", \"2020-03-24\", \"2020-03-25\", \"2020-03-26\", \"2020-03-27\", \"2020-03-30\", \"2020-03-31\", \"2020-04-01\", \"2020-04-02\", \"2020-04-03\", \"2020-04-06\", \"2020-04-07\", \"2020-04-08\", \"2020-04-09\", \"2020-04-13\", \"2020-04-14\", \"2020-04-15\", \"2020-04-16\", \"2020-04-17\", \"2020-04-20\", \"2020-04-21\", \"2020-04-22\", \"2020-04-23\", \"2020-04-24\", \"2020-04-27\", \"2020-04-28\", \"2020-04-29\", \"2020-04-30\", \"2020-05-01\", \"2020-05-04\", \"2020-05-05\", \"2020-05-06\", \"2020-05-07\", \"2020-05-08\", \"2020-05-11\", \"2020-05-12\", \"2020-05-13\", \"2020-05-14\", \"2020-05-15\", \"2020-05-18\", \"2020-05-19\", \"2020-05-20\", \"2020-05-21\", \"2020-05-22\", \"2020-05-26\", \"2020-05-27\", \"2020-05-28\", \"2020-05-29\", \"2020-06-01\", \"2020-06-02\", \"2020-06-03\", \"2020-06-04\", \"2020-06-05\", \"2020-06-08\", \"2020-06-09\", \"2020-06-10\", \"2020-06-11\", \"2020-06-12\", \"2020-06-15\", \"2020-06-16\", \"2020-06-17\", \"2020-06-18\", \"2020-06-19\", \"2020-06-22\", \"2020-06-23\", \"2020-06-24\", \"2020-06-25\", \"2020-06-26\", \"2020-06-29\", \"2020-06-30\", \"2020-07-01\", \"2020-07-02\", \"2020-07-06\", \"2020-07-07\", \"2020-07-08\", \"2020-07-09\", \"2020-07-10\", \"2020-07-13\", \"2020-07-14\", \"2020-07-15\", \"2020-07-16\", \"2020-07-17\", \"2020-07-20\", \"2020-07-21\", \"2020-07-22\", \"2020-07-23\", \"2020-07-24\", \"2020-07-27\", \"2020-07-28\", \"2020-07-29\", \"2020-07-30\", \"2020-07-31\", \"2020-08-03\", \"2020-08-04\", \"2020-08-05\", \"2020-08-06\", \"2020-08-07\", \"2020-08-10\", \"2020-08-11\", \"2020-08-12\", \"2020-08-13\", \"2020-08-14\", \"2020-08-17\", \"2020-08-18\", \"2020-08-19\", \"2020-08-20\", \"2020-08-21\", \"2020-08-24\", \"2020-08-25\", \"2020-08-26\", \"2020-08-27\", \"2020-08-28\", \"2020-08-31\", \"2020-09-01\", \"2020-09-02\", \"2020-09-03\", \"2020-09-04\", \"2020-09-08\", \"2020-09-09\", \"2020-09-10\", \"2020-09-11\", \"2020-09-14\", \"2020-09-15\", \"2020-09-16\", \"2020-09-17\", \"2020-09-18\", \"2020-09-21\", \"2020-09-22\", \"2020-09-23\", \"2020-09-24\", \"2020-09-25\", \"2020-09-28\", \"2020-09-29\", \"2020-09-30\", \"2020-10-01\", \"2020-10-02\", \"2020-10-05\", \"2020-10-06\", \"2020-10-07\", \"2020-10-08\", \"2020-10-09\", \"2020-10-12\", \"2020-10-13\", \"2020-10-14\", \"2020-10-15\", \"2020-10-16\", \"2020-10-19\", \"2020-10-20\", \"2020-10-21\", \"2020-10-22\", \"2020-10-23\", \"2020-10-26\", \"2020-10-27\", \"2020-10-28\", \"2020-10-29\", \"2020-10-30\", \"2020-11-02\", \"2020-11-03\", \"2020-11-04\", \"2020-11-05\", \"2020-11-06\", \"2020-11-09\", \"2020-11-10\", \"2020-11-11\", \"2020-11-12\", \"2020-11-13\", \"2020-11-16\", \"2020-11-17\", \"2020-11-18\", \"2020-11-19\", \"2020-11-20\", \"2020-11-23\", \"2020-11-24\", \"2020-11-25\", \"2020-11-27\", \"2020-11-30\", \"2020-12-01\", \"2020-12-02\", \"2020-12-03\", \"2020-12-04\", \"2020-12-07\", \"2020-12-08\", \"2020-12-09\", \"2020-12-10\", \"2020-12-11\", \"2020-12-14\", \"2020-12-15\", \"2020-12-16\", \"2020-12-17\", \"2020-12-18\", \"2020-12-21\", \"2020-12-22\", \"2020-12-23\", \"2020-12-24\", \"2020-12-28\", \"2020-12-29\", \"2020-12-30\", \"2020-12-31\", \"2021-01-04\", \"2021-01-05\", \"2021-01-06\", \"2021-01-07\", \"2021-01-08\", \"2021-01-11\", \"2021-01-12\", \"2021-01-13\", \"2021-01-14\", \"2021-01-15\", \"2021-01-19\", \"2021-01-20\", \"2021-01-21\", \"2021-01-22\", \"2021-01-25\", \"2021-01-26\", \"2021-01-27\", \"2021-01-28\", \"2021-01-29\", \"2021-02-01\", \"2021-02-02\", \"2021-02-03\", \"2021-02-04\", \"2021-02-05\", \"2021-02-08\", \"2021-02-09\", \"2021-02-10\", \"2021-02-11\", \"2021-02-12\", \"2021-02-16\", \"2021-02-17\", \"2021-02-18\", \"2021-02-19\", \"2021-02-22\", \"2021-02-23\", \"2021-02-24\", \"2021-02-25\", \"2021-02-26\", \"2021-03-01\", \"2021-03-02\", \"2021-03-03\", \"2021-03-04\", \"2021-03-05\", \"2021-03-08\", \"2021-03-09\", \"2021-03-10\", \"2021-03-11\", \"2021-03-12\", \"2021-03-15\", \"2021-03-16\", \"2021-03-17\", \"2021-03-18\", \"2021-03-19\", \"2021-03-22\", \"2021-03-23\", \"2021-03-24\", \"2021-03-25\", \"2021-03-26\", \"2021-03-29\", \"2021-03-30\", \"2021-03-31\", \"2021-04-01\", \"2021-04-05\", \"2021-04-06\", \"2021-04-07\", \"2021-04-08\", \"2021-04-09\", \"2021-04-12\", \"2021-04-13\", \"2021-04-14\", \"2021-04-15\", \"2021-04-16\", \"2021-04-19\", \"2021-04-20\", \"2021-04-21\", \"2021-04-22\", \"2021-04-23\", \"2021-04-26\", \"2021-04-27\", \"2021-04-28\", \"2021-04-29\", \"2021-04-30\", \"2021-05-03\", \"2021-05-04\", \"2021-05-05\", \"2021-05-06\", \"2021-05-07\", \"2021-05-10\", \"2021-05-11\", \"2021-05-12\", \"2021-05-13\", \"2021-05-14\", \"2021-05-17\", \"2021-05-18\", \"2021-05-19\", \"2021-05-20\", \"2021-05-21\", \"2021-05-24\", \"2021-05-25\", \"2021-05-26\", \"2021-05-27\", \"2021-05-28\", \"2021-06-01\", \"2021-06-02\", \"2021-06-03\", \"2021-06-04\", \"2021-06-07\", \"2021-06-08\", \"2021-06-09\", \"2021-06-10\", \"2021-06-11\", \"2021-06-14\", \"2021-06-15\", \"2021-06-16\", \"2021-06-17\", \"2021-06-18\", \"2021-06-21\", \"2021-06-22\", \"2021-06-23\", \"2021-06-24\", \"2021-06-25\", \"2021-06-28\", \"2021-06-29\", \"2021-06-30\", \"2021-07-01\", \"2021-07-02\", \"2021-07-06\", \"2021-07-07\", \"2021-07-08\", \"2021-07-09\", \"2021-07-12\", \"2021-07-13\", \"2021-07-14\", \"2021-07-15\", \"2021-07-16\", \"2021-07-19\", \"2021-07-20\", \"2021-07-21\", \"2021-07-22\", \"2021-07-23\", \"2021-07-26\", \"2021-07-27\", \"2021-07-28\", \"2021-07-29\", \"2021-07-30\"], \"y\": [\"32.7186\", \"28.5585\", \"25.8245\", \"40.8427\", \"41.6801\", \"41.5941\", \"43.6138\", \"44.6052\", \"38.6346\", \"48.1103\", \"50.4989\", \"52.3162\", \"53.9707\", \"54.5713\", \"53.6051\", \"51.2531\", \"55.8247\", \"55.7704\", \"57.6637\", \"59.9977\", \"53.507\", \"53.8482\", \"55.6022\", \"58.7386\", \"54.4083\", \"51.3319\", \"58.1355\", \"61.6219\", \"60.0793\", \"63.0013\", \"64.9914\", \"63.7362\", \"58.2919\", \"58.8375\", \"58.4383\", \"62.6818\", \"62.8785\", \"63.2436\", \"64.5318\", \"65.1528\", \"65.0446\", \"62.6896\", \"65.4085\", \"66.7047\", \"67.0842\", \"66.5847\", \"64.6983\", \"67.6586\", \"67.7314\", \"68.0671\", \"62.7164\", \"53.0534\", \"52.0002\", \"62.8694\", \"65.1604\", \"68.0771\", \"66.7102\", \"70.2294\", \"71.0809\", \"72.2905\", \"73.6927\", \"78.3599\", \"61.5721\", \"60.3908\", \"62.2928\", \"58.1279\", \"59.1758\", \"62.5036\", \"67.5289\", \"68.8331\", \"70.7578\", \"70.4454\", \"72.2366\", \"73.105\", \"69.8509\", \"71.9023\", \"69.6345\", \"71.4007\", \"71.4677\", \"72.9254\", \"74.3583\", \"74.8867\", \"76.0601\", \"80.4876\", \"76.6548\", \"78.0964\", \"78.4133\", \"79.1214\", \"69.3257\", \"65.7145\", \"61.1065\", \"69.5258\", \"63.7315\", \"49.6417\", \"48.1844\", \"45.1476\", \"45.9908\", \"31.4565\", \"37.908\", \"45.1424\", \"49.6968\", \"45.5167\", \"39.6454\", \"44.3489\", \"42.8012\", \"37.9268\", \"37.7763\", \"36.6113\", \"34.1405\", \"36.4804\", \"31.8382\", \"26.8423\", \"39.6061\", \"42.5364\", \"45.5976\", \"52.302\", \"55.9022\", \"56.3229\", \"53.972\", \"55.9877\", \"54.1435\", \"56.3282\", \"61.1646\", \"62.3421\", \"65.1691\", \"64.3321\", \"64.342\", \"54.8924\", \"56.7152\", \"58.2164\", \"58.7373\", \"63.8358\", \"65.2135\", \"67.7371\", \"66.3239\", \"61.5709\", \"63.5644\", \"67.2263\", \"66.6944\", \"68.8021\", \"69.9461\", \"65.7577\", \"61.9618\", \"62.5016\", \"56.9255\", \"60.9682\", \"63.9856\", \"66.9551\", \"59.7394\", \"64.2077\", \"61.7239\", \"58.66\", \"50.113\", \"47.4725\", \"40.6706\", \"29.7993\", \"36.7569\", \"39.2924\", \"48.3287\", \"45.1352\", \"41.5594\", \"49.6664\", \"41.1082\", \"40.8256\", \"46.3655\", \"51.3081\", \"48.906\", \"51.6762\", \"50.5907\", \"41.4458\", \"46.2792\", \"45.703\", \"46.9077\", \"51.8416\", \"51.0295\", \"47.7703\", \"52.5738\", \"57.9368\", \"57.5509\", \"56.6945\", \"55.4723\", \"58.6004\", \"59.9545\", \"58.1868\", \"55.9717\", \"57.8215\", \"57.5949\", \"58.2989\", \"52.3341\", \"52.5498\", \"45.8233\", \"51.4095\", \"49.5829\", \"43.9388\", \"48.702\", \"45.1294\", \"38.7318\", \"44.0867\", \"50.4172\", \"49.17\", \"43.4441\", \"47.6573\", \"50.8183\", \"55.6517\", \"55.6033\", \"60.1422\", \"58.8621\", \"59.8402\", \"54.7294\", \"58.24\", \"54.1439\", \"54.9634\", \"58.956\", \"61.9658\", \"65.371\", \"60.7293\", \"62.5093\", \"62.6819\", \"66.0311\", \"68.1467\", \"68.3366\", \"66.5875\", \"67.9047\", \"69.4531\", \"68.2562\", \"69.4733\", \"69.5815\", \"68.7413\", \"72.0976\", \"72.442\", \"73.1123\", \"66.074\", \"63.6403\", \"64.0522\", \"70.6381\", \"71.5539\", \"74.6733\", \"69.2941\", \"59.0586\", \"52.7101\", \"55.9792\", \"57.228\", \"63.3087\", \"59.4105\", \"58.699\", \"61.8268\", \"65.7805\", \"67.3968\", \"71.7865\", \"72.0205\", \"72.3499\", \"74.9499\", \"76.4944\", \"77.4757\", \"77.6741\", \"80.7744\", \"79.6282\", \"71.1687\", \"72.0813\", \"78.5659\", \"68.9471\", \"71.5605\", \"71.4198\", \"74.3527\", \"77.213\", \"74.4901\", \"78.2133\", \"74.1876\", \"74.3348\", \"77.5644\", \"79.0448\", \"78.5375\", \"79.3785\", \"80.3884\", \"70.6121\", \"53.5444\", \"60.9475\", \"61.6547\", \"63.2284\", \"52.8011\", \"59.5391\", \"67.2756\", \"68.2393\", \"70.6815\", \"67.8576\", \"71.3113\", \"71.3592\", \"73.9984\", \"73.0363\", \"73.8539\", \"73.9681\", \"76.707\", \"69.0564\", \"56.5947\", \"40.9323\", \"34.0521\", \"36.1822\", \"27.008\", \"27.301\", \"43.5101\", \"37.6089\", \"47.3024\", \"41.9748\", \"39.4014\", \"31.0924\", \"40.8849\", \"36.2107\", \"29.0172\", \"39.8204\", \"31.8202\", \"39.1565\", \"37.292\", \"37.9013\", \"35.4647\", \"35.5433\", \"43.535\", \"42.9442\", \"48.2796\", \"45.1534\", \"48.7995\", \"47.964\", \"43.9651\", \"46.1753\", \"44.817\", \"52.3183\", \"52.2717\", \"54.5488\", \"54.7107\", \"55.9739\", \"60.7689\", \"58.8687\", \"60.9366\", \"62.0343\", \"59.7732\", \"53.3289\", \"57.1796\", \"56.806\", \"58.9375\", \"60.0378\", \"56.2092\", \"61.1392\", \"61.0504\", \"55.1366\", \"56.942\", \"58.7029\", \"59.6782\", \"61.7266\", \"63.8582\", \"65.2368\", \"59.4643\", \"56.3231\", \"58.4407\", \"59.6588\", \"63.03\", \"62.2623\", \"65.8251\", \"62.3014\", \"62.9706\", \"62.0398\", \"63.2202\", \"62.7161\", \"65.996\", \"66.6522\", \"68.1374\", \"69.1368\", \"65.6632\", \"70.191\", \"71.7899\", \"73.2441\", \"75.5124\", \"54.6618\", \"56.6281\", \"59.5437\", \"63.3355\", \"64.0176\", \"64.625\", \"64.5539\", \"67.3806\", \"69.2785\", \"60.0818\", \"62.5059\", \"53.7095\", \"56.6707\", \"61.4907\", \"64.1017\", \"65.5801\", \"70.3723\", \"67.468\", \"69.9999\", \"71.5452\", \"72.7793\", \"63.7469\", \"65.3095\", \"65.7696\", \"62.7586\", \"63.0655\", \"69.6694\", \"64.9459\", \"65.7817\", \"55.2293\", \"52.046\", \"57.0123\", \"52.7425\", \"55.9217\", \"57.3417\", \"61.8739\", \"64.9624\", \"65.7936\", \"66.3693\", \"69.3461\", \"63.9622\", \"62.0634\", \"54.3885\", \"61.1318\", \"61.6986\", \"61.2025\", \"64.2588\", \"66.6327\", \"63.4311\", \"66.9353\", \"68.5778\", \"70.0322\", \"71.8124\", \"76.0106\", \"74.2343\", \"75.2474\", \"76.8069\", \"79.753\", \"81.202\", \"57.3229\", \"53.1251\", \"41.4826\", \"48.5476\", \"44.5051\", \"43.1839\", \"47.3763\", \"50.6252\", \"47.0554\", \"43.8456\", \"41.3999\", \"42.4306\", \"47.2657\", \"41.0501\", \"42.259\", \"48.0177\", \"52.665\", \"51.5647\", \"53.1583\", \"56.7351\", \"49.4183\", \"54.1137\", \"49.854\", \"53.5988\", \"54.7382\", \"57.9475\", \"63.6421\", \"63.6315\", \"60.9617\", \"58.8432\", \"57.1094\", \"52.2026\", \"52.7686\", \"52.527\", \"52.5152\", \"53.1483\", \"47.9038\", \"50.5964\", \"39.5259\", \"45.1017\", \"39.3373\", \"40.0437\", \"45.3749\", \"56.3486\", \"61.4385\", \"61.5804\", \"55.5561\", \"50.9466\", \"55.7908\", \"54.5464\", \"56.4906\", \"58.2174\", \"57.2155\", \"54.8543\", \"56.8688\", \"54.5588\", \"54.5687\", \"58.5512\", \"60.2173\", \"62.6556\", \"63.1984\", \"66.4992\", \"66.8246\", \"67.2029\", \"68.3247\", \"69.8729\", \"70.797\", \"57.9497\", \"59.3276\", \"58.1906\", \"60.8329\", \"64.426\", \"66.1643\", \"68.1665\", \"66.2032\", \"64.9628\", \"65.9616\", \"62.4038\", \"64.2159\", \"68.0236\", \"68.3491\", \"68.3615\", \"69.356\", \"58.0506\", \"61.9004\", \"53.0226\", \"62.8931\", \"66.9625\", \"59.0273\", \"58.2215\", \"60.6731\", \"57.7631\", \"53.6782\", \"59.3371\", \"66.4721\", \"68.5626\", \"66.9315\", \"69.1904\", \"69.5896\", \"54.9561\", \"56.9669\", \"48.6088\", \"56.5848\", \"60.9524\", \"59.3629\", \"62.4907\", \"63.3716\", \"65.1202\", \"65.0148\", \"63.8073\", \"65.4703\", \"67.1322\", \"65.4806\", \"62.5486\", \"59.928\", \"57.3578\", \"45.0465\", \"43.9108\", \"47.8214\", \"36.2237\", \"38.098\", \"49.6038\", \"44.6907\", \"37.5584\", \"34.3275\", \"39.4083\", \"34.0022\", \"45.0002\", \"44.4007\", \"50.1536\", \"48.2176\", \"50.8846\", \"52.2597\", \"53.3212\", \"45.2306\", \"46.2112\", \"51.225\", \"50.0332\", \"45.6323\", \"45.2001\", \"49.6418\", \"49.5585\", \"48.024\", \"52.7865\", \"57.5266\", \"62.3726\", \"62.1017\", \"62.7083\", \"65.2954\", \"66.7527\", \"66.1048\", \"68.9993\", \"62.9723\", \"66.8596\", \"67.1509\", \"62.5201\", \"59.059\", \"61.72\", \"56.1395\", \"60.1437\", \"62.0954\", \"59.9773\", \"58.3128\", \"59.5939\", \"56.1945\", \"53.5397\", \"45.7213\", \"44.4391\", \"47.9512\", \"51.5301\", \"41.8149\", \"41.3671\", \"34.0246\", \"37.5008\", \"46.2732\", \"44.3888\", \"42.3352\", \"42.8165\", \"50.3445\", \"48.3454\", \"54.2567\", \"54.7234\", \"55.9441\", \"54.2469\", \"55.469\", \"53.832\", \"54.6755\", \"49.4783\", \"56.6414\", \"57.7922\", \"57.9843\", \"58.0871\", \"62.4283\", \"63.4617\", \"67.048\", \"62.5022\", \"60.0657\", \"65.1358\", \"60.0013\", \"62.4997\", \"65.9595\", \"66.1377\", \"68.3912\", \"67.4248\", \"71.6839\", \"72.8358\", \"71.466\", \"71.6097\", \"75.4775\", \"76.7752\", \"77.4065\", \"71.4102\", \"73.6674\", \"75.0052\", \"75.0052\", \"75.6661\", \"68.0624\", \"60.5579\", \"54.1108\", \"60.4818\", \"64.0914\", \"66.9006\", \"71.2134\", \"71.4864\", \"62.5434\", \"64.2062\", \"64.9835\", \"60.8051\"]}, {\"mode\": \"lines\", \"name\": \"RSI\", \"type\": \"scatter\", \"x\": [\"2021-08-02\", \"2021-08-03\", \"2021-08-04\", \"2021-08-05\", \"2021-08-06\", \"2021-08-09\", \"2021-08-10\", \"2021-08-11\", \"2021-08-12\", \"2021-08-13\", \"2021-08-16\", \"2021-08-17\", \"2021-08-18\", \"2021-08-19\", \"2021-08-20\", \"2021-08-23\", \"2021-08-24\", \"2021-08-25\", \"2021-08-26\", \"2021-08-27\", \"2021-08-30\", \"2021-08-31\", \"2021-09-01\", \"2021-09-02\", \"2021-09-03\", \"2021-09-07\", \"2021-09-08\", \"2021-09-09\", \"2021-09-10\", \"2021-09-13\", \"2021-09-14\", \"2021-09-15\", \"2021-09-16\", \"2021-09-17\", \"2021-09-20\", \"2021-09-21\", \"2021-09-22\", \"2021-09-23\", \"2021-09-24\", \"2021-09-27\", \"2021-09-28\", \"2021-09-29\", \"2021-09-30\", \"2021-10-01\", \"2021-10-04\", \"2021-10-05\", \"2021-10-06\", \"2021-10-07\", \"2021-10-08\", \"2021-10-11\", \"2021-10-12\", \"2021-10-13\", \"2021-10-14\", \"2021-10-15\", \"2021-10-18\", \"2021-10-19\", \"2021-10-20\", \"2021-10-21\", \"2021-10-22\", \"2021-10-25\", \"2021-10-26\", \"2021-10-27\", \"2021-10-28\", \"2021-10-29\", \"2021-11-01\", \"2021-11-02\", \"2021-11-03\", \"2021-11-04\", \"2021-11-05\", \"2021-11-08\", \"2021-11-09\", \"2021-11-10\", \"2021-11-11\"], \"y\": [\"60.8477\", \"63.9545\", \"64.6784\", \"67.7451\", \"63.6099\", \"64.587\", \"59.7821\", \"58.2271\", \"60.5429\", \"62.7181\", \"62.9906\", \"54.3068\", \"46.784\", \"50.4583\", \"57.2984\", \"64.9101\", \"66.2529\", \"66.7694\", \"61.187\", \"65.8622\", \"70.3464\", \"69.6229\", \"70.2916\", \"69.8187\", \"71.1761\", \"71.8064\", \"67.87\", \"64.1404\", \"56.756\", \"56.1278\", \"53.5031\", \"58.9001\", \"59.3733\", \"48.9205\", \"36.8781\", \"37.8402\", \"44.7346\", \"50.616\", \"51.1902\", \"46.2587\", \"33.8928\", \"33.3522\", \"32.118\", \"36.3819\", \"29.5702\", \"37.5042\", \"40.9506\", \"45.6057\", \"43.5765\", \"40.5993\", \"39.2947\", \"43.7487\", \"52.4572\", \"55.0673\", \"58.9639\", \"61.6838\", \"60.9281\", \"63.1974\", \"58.1617\", \"62.0919\", \"63.2471\", \"64.1179\", \"68.0299\", \"69.6271\", \"70.727\", \"72.0641\", \"75.177\", \"78.3479\", \"78.5701\", \"77.3549\", \"71.3266\", \"60.5511\", \"61.7091\"]}, {\"name\": \"Test\", \"type\": \"scatter\", \"x\": [\"2021-08-02\", \"2021-08-03\", \"2021-08-04\", \"2021-08-05\", \"2021-08-06\", \"2021-08-09\", \"2021-08-10\", \"2021-08-11\", \"2021-08-12\", \"2021-08-13\", \"2021-08-16\", \"2021-08-17\", \"2021-08-18\", \"2021-08-19\", \"2021-08-20\", \"2021-08-23\", \"2021-08-24\", \"2021-08-25\", \"2021-08-26\", \"2021-08-27\", \"2021-08-30\", \"2021-08-31\", \"2021-09-01\", \"2021-09-02\", \"2021-09-03\", \"2021-09-07\", \"2021-09-08\", \"2021-09-09\", \"2021-09-10\", \"2021-09-13\", \"2021-09-14\", \"2021-09-15\", \"2021-09-16\", \"2021-09-17\", \"2021-09-20\", \"2021-09-21\", \"2021-09-22\", \"2021-09-23\", \"2021-09-24\", \"2021-09-27\", \"2021-09-28\", \"2021-09-29\", \"2021-09-30\", \"2021-10-01\", \"2021-10-04\", \"2021-10-05\", \"2021-10-06\", \"2021-10-07\", \"2021-10-08\", \"2021-10-11\", \"2021-10-12\", \"2021-10-13\", \"2021-10-14\", \"2021-10-15\", \"2021-10-18\", \"2021-10-19\", \"2021-10-20\", \"2021-10-21\", \"2021-10-22\", \"2021-10-25\", \"2021-10-26\", \"2021-10-27\", \"2021-10-28\", \"2021-10-29\", \"2021-11-01\", \"2021-11-02\", \"2021-11-03\", \"2021-11-04\", \"2021-11-05\", \"2021-11-08\", \"2021-11-09\", \"2021-11-10\", \"2021-11-11\"], \"y\": [62.36180877685547, 61.82972717285156, 61.24283218383789, 60.76221466064453, 60.431095123291016, 60.37681198120117, 60.48993682861328, 60.87353515625, 61.43150329589844, 62.06757736206055, 62.758949279785156, 63.509857177734375, 64.42933654785156, 65.37680053710938, 66.06022644042969, 66.38600158691406, 66.34369659423828, 66.03587341308594, 65.51566314697266, 64.9311294555664, 64.1204605102539, 63.0645866394043, 61.83342742919922, 60.45166015625, 59.04502487182617, 57.69183349609375, 56.466800689697266, 55.40719223022461, 54.43918228149414, 53.56882858276367, 52.64565658569336, 51.702659606933594, 50.62606430053711, 49.61220932006836, 48.96800994873047, 48.724586486816406, 48.558433532714844, 48.35239791870117, 48.168914794921875, 48.180320739746094, 48.53927993774414, 49.41245651245117, 50.48081970214844, 51.7459831237793, 53.05641555786133, 54.59658432006836, 55.94789123535156, 57.212501525878906, 58.35072326660156, 59.50712203979492, 60.67605972290039, 61.800994873046875, 62.77912902832031, 63.60039520263672, 64.447021484375, 65.31571197509766, 66.2186279296875, 67.13745880126953, 67.87165069580078]}, {\"mode\": \"lines\", \"name\": \"RSI Forecast\", \"type\": \"scatter\", \"x\": [\"2021-11-12T00:00:00\", \"2021-11-15T00:00:00\", \"2021-11-16T00:00:00\", \"2021-11-17T00:00:00\", \"2021-11-18T00:00:00\", \"2021-11-19T00:00:00\", \"2021-11-22T00:00:00\", \"2021-11-23T00:00:00\", \"2021-11-24T00:00:00\", \"2021-11-26T00:00:00\", \"2021-11-29T00:00:00\", \"2021-11-30T00:00:00\", \"2021-12-01T00:00:00\", \"2021-12-02T00:00:00\", \"2021-12-03T00:00:00\", \"2021-12-06T00:00:00\", \"2021-12-07T00:00:00\", \"2021-12-08T00:00:00\", \"2021-12-09T00:00:00\", \"2021-12-10T00:00:00\", \"2021-12-13T00:00:00\", \"2021-12-14T00:00:00\", \"2021-12-15T00:00:00\", \"2021-12-16T00:00:00\", \"2021-12-17T00:00:00\", \"2021-12-20T00:00:00\", \"2021-12-21T00:00:00\", \"2021-12-22T00:00:00\", \"2021-12-23T00:00:00\", \"2021-12-27T00:00:00\", \"2021-12-28T00:00:00\", \"2021-12-29T00:00:00\", \"2021-12-30T00:00:00\", \"2022-01-03T00:00:00\", \"2022-01-04T00:00:00\", \"2022-01-05T00:00:00\", \"2022-01-06T00:00:00\", \"2022-01-07T00:00:00\", \"2022-01-10T00:00:00\", \"2022-01-11T00:00:00\", \"2022-01-12T00:00:00\", \"2022-01-13T00:00:00\", \"2022-01-14T00:00:00\"], \"y\": [61.7091, 68.42952577662467, 68.64471857813, 68.61961962786316, 68.42011862140893, 68.07208688598871, 67.67728013423084, 67.28434161049127, 66.91589139711857, 66.56501771059632, 66.24343163397907, 65.99061021161079, 65.80857350629567, 65.74210287761687, 65.81514531192182, 65.79902441856265, 65.64427836564182, 65.49185934585333, 65.35050446090102, 65.22443537798523, 65.11500540715456, 65.02045854610205, 64.93798915204405, 64.86463314589858, 64.79811960738897, 64.73655720320343, 64.67804469776154, 64.62140702185035, 64.56537008357047, 64.5089205507636, 64.45483766016363, 64.40563988876342, 64.36079581481218, 64.31963208404183, 64.28148854520917, 64.24582387429476, 64.21224528130888, 64.1805118110478, 64.15049473401903, 64.12208842602372, 64.09527968403697, 64.07003550049662, 64.04632286784053]}],\n",
              "                        {\"height\": 350, \"shapes\": [{\"type\": \"line\", \"x0\": 0, \"x1\": 1, \"xref\": \"paper\", \"y0\": 30, \"y1\": 30, \"yref\": \"y\"}], \"template\": {\"data\": {\"bar\": [{\"error_x\": {\"color\": \"#2a3f5f\"}, \"error_y\": {\"color\": \"#2a3f5f\"}, \"marker\": {\"line\": {\"color\": \"#E5ECF6\", \"width\": 0.5}}, \"type\": \"bar\"}], \"barpolar\": [{\"marker\": {\"line\": {\"color\": \"#E5ECF6\", \"width\": 0.5}}, \"type\": \"barpolar\"}], \"carpet\": [{\"aaxis\": {\"endlinecolor\": \"#2a3f5f\", \"gridcolor\": \"white\", \"linecolor\": \"white\", \"minorgridcolor\": \"white\", \"startlinecolor\": \"#2a3f5f\"}, \"baxis\": {\"endlinecolor\": \"#2a3f5f\", \"gridcolor\": \"white\", \"linecolor\": \"white\", \"minorgridcolor\": \"white\", \"startlinecolor\": \"#2a3f5f\"}, \"type\": \"carpet\"}], \"choropleth\": [{\"colorbar\": {\"outlinewidth\": 0, \"ticks\": \"\"}, \"type\": \"choropleth\"}], \"contour\": [{\"colorbar\": {\"outlinewidth\": 0, \"ticks\": \"\"}, \"colorscale\": [[0.0, \"#0d0887\"], [0.1111111111111111, \"#46039f\"], [0.2222222222222222, \"#7201a8\"], [0.3333333333333333, \"#9c179e\"], [0.4444444444444444, \"#bd3786\"], [0.5555555555555556, \"#d8576b\"], [0.6666666666666666, \"#ed7953\"], [0.7777777777777778, \"#fb9f3a\"], [0.8888888888888888, \"#fdca26\"], [1.0, \"#f0f921\"]], \"type\": \"contour\"}], \"contourcarpet\": [{\"colorbar\": {\"outlinewidth\": 0, \"ticks\": \"\"}, \"type\": \"contourcarpet\"}], \"heatmap\": [{\"colorbar\": {\"outlinewidth\": 0, \"ticks\": \"\"}, \"colorscale\": [[0.0, \"#0d0887\"], [0.1111111111111111, \"#46039f\"], [0.2222222222222222, \"#7201a8\"], [0.3333333333333333, \"#9c179e\"], [0.4444444444444444, \"#bd3786\"], [0.5555555555555556, \"#d8576b\"], [0.6666666666666666, \"#ed7953\"], [0.7777777777777778, \"#fb9f3a\"], [0.8888888888888888, \"#fdca26\"], [1.0, \"#f0f921\"]], \"type\": \"heatmap\"}], \"heatmapgl\": [{\"colorbar\": {\"outlinewidth\": 0, \"ticks\": \"\"}, \"colorscale\": [[0.0, \"#0d0887\"], [0.1111111111111111, \"#46039f\"], [0.2222222222222222, \"#7201a8\"], [0.3333333333333333, \"#9c179e\"], [0.4444444444444444, \"#bd3786\"], [0.5555555555555556, \"#d8576b\"], [0.6666666666666666, \"#ed7953\"], [0.7777777777777778, \"#fb9f3a\"], [0.8888888888888888, \"#fdca26\"], [1.0, \"#f0f921\"]], \"type\": \"heatmapgl\"}], \"histogram\": [{\"marker\": {\"colorbar\": {\"outlinewidth\": 0, \"ticks\": \"\"}}, \"type\": \"histogram\"}], \"histogram2d\": [{\"colorbar\": {\"outlinewidth\": 0, \"ticks\": \"\"}, \"colorscale\": [[0.0, \"#0d0887\"], [0.1111111111111111, \"#46039f\"], [0.2222222222222222, \"#7201a8\"], [0.3333333333333333, \"#9c179e\"], [0.4444444444444444, \"#bd3786\"], [0.5555555555555556, \"#d8576b\"], [0.6666666666666666, \"#ed7953\"], [0.7777777777777778, \"#fb9f3a\"], [0.8888888888888888, \"#fdca26\"], [1.0, \"#f0f921\"]], \"type\": \"histogram2d\"}], \"histogram2dcontour\": [{\"colorbar\": {\"outlinewidth\": 0, \"ticks\": \"\"}, \"colorscale\": [[0.0, \"#0d0887\"], [0.1111111111111111, \"#46039f\"], [0.2222222222222222, \"#7201a8\"], [0.3333333333333333, \"#9c179e\"], [0.4444444444444444, \"#bd3786\"], [0.5555555555555556, \"#d8576b\"], [0.6666666666666666, \"#ed7953\"], [0.7777777777777778, \"#fb9f3a\"], [0.8888888888888888, \"#fdca26\"], [1.0, \"#f0f921\"]], \"type\": \"histogram2dcontour\"}], \"mesh3d\": [{\"colorbar\": {\"outlinewidth\": 0, \"ticks\": \"\"}, \"type\": \"mesh3d\"}], \"parcoords\": [{\"line\": {\"colorbar\": {\"outlinewidth\": 0, \"ticks\": \"\"}}, \"type\": \"parcoords\"}], \"pie\": [{\"automargin\": true, \"type\": \"pie\"}], \"scatter\": [{\"marker\": {\"colorbar\": {\"outlinewidth\": 0, \"ticks\": \"\"}}, \"type\": \"scatter\"}], \"scatter3d\": [{\"line\": {\"colorbar\": {\"outlinewidth\": 0, \"ticks\": \"\"}}, \"marker\": {\"colorbar\": {\"outlinewidth\": 0, \"ticks\": \"\"}}, \"type\": \"scatter3d\"}], \"scattercarpet\": [{\"marker\": {\"colorbar\": {\"outlinewidth\": 0, \"ticks\": \"\"}}, \"type\": \"scattercarpet\"}], \"scattergeo\": [{\"marker\": {\"colorbar\": {\"outlinewidth\": 0, \"ticks\": \"\"}}, \"type\": \"scattergeo\"}], \"scattergl\": [{\"marker\": {\"colorbar\": {\"outlinewidth\": 0, \"ticks\": \"\"}}, \"type\": \"scattergl\"}], \"scattermapbox\": [{\"marker\": {\"colorbar\": {\"outlinewidth\": 0, \"ticks\": \"\"}}, \"type\": \"scattermapbox\"}], \"scatterpolar\": [{\"marker\": {\"colorbar\": {\"outlinewidth\": 0, \"ticks\": \"\"}}, \"type\": \"scatterpolar\"}], \"scatterpolargl\": [{\"marker\": {\"colorbar\": {\"outlinewidth\": 0, \"ticks\": \"\"}}, \"type\": \"scatterpolargl\"}], \"scatterternary\": [{\"marker\": {\"colorbar\": {\"outlinewidth\": 0, \"ticks\": \"\"}}, \"type\": \"scatterternary\"}], \"surface\": [{\"colorbar\": {\"outlinewidth\": 0, \"ticks\": \"\"}, \"colorscale\": [[0.0, \"#0d0887\"], [0.1111111111111111, \"#46039f\"], [0.2222222222222222, \"#7201a8\"], [0.3333333333333333, \"#9c179e\"], [0.4444444444444444, \"#bd3786\"], [0.5555555555555556, \"#d8576b\"], [0.6666666666666666, \"#ed7953\"], [0.7777777777777778, \"#fb9f3a\"], [0.8888888888888888, \"#fdca26\"], [1.0, \"#f0f921\"]], \"type\": \"surface\"}], \"table\": [{\"cells\": {\"fill\": {\"color\": \"#EBF0F8\"}, \"line\": {\"color\": \"white\"}}, \"header\": {\"fill\": {\"color\": \"#C8D4E3\"}, \"line\": {\"color\": \"white\"}}, \"type\": \"table\"}]}, \"layout\": {\"annotationdefaults\": {\"arrowcolor\": \"#2a3f5f\", \"arrowhead\": 0, \"arrowwidth\": 1}, \"coloraxis\": {\"colorbar\": {\"outlinewidth\": 0, \"ticks\": \"\"}}, \"colorscale\": {\"diverging\": [[0, \"#8e0152\"], [0.1, \"#c51b7d\"], [0.2, \"#de77ae\"], [0.3, \"#f1b6da\"], [0.4, \"#fde0ef\"], [0.5, \"#f7f7f7\"], [0.6, \"#e6f5d0\"], [0.7, \"#b8e186\"], [0.8, \"#7fbc41\"], [0.9, \"#4d9221\"], [1, \"#276419\"]], \"sequential\": [[0.0, \"#0d0887\"], [0.1111111111111111, \"#46039f\"], [0.2222222222222222, \"#7201a8\"], [0.3333333333333333, \"#9c179e\"], [0.4444444444444444, \"#bd3786\"], [0.5555555555555556, \"#d8576b\"], [0.6666666666666666, \"#ed7953\"], [0.7777777777777778, \"#fb9f3a\"], [0.8888888888888888, \"#fdca26\"], [1.0, \"#f0f921\"]], \"sequentialminus\": [[0.0, \"#0d0887\"], [0.1111111111111111, \"#46039f\"], [0.2222222222222222, \"#7201a8\"], [0.3333333333333333, \"#9c179e\"], [0.4444444444444444, \"#bd3786\"], [0.5555555555555556, \"#d8576b\"], [0.6666666666666666, \"#ed7953\"], [0.7777777777777778, \"#fb9f3a\"], [0.8888888888888888, \"#fdca26\"], [1.0, \"#f0f921\"]]}, \"colorway\": [\"#636efa\", \"#EF553B\", \"#00cc96\", \"#ab63fa\", \"#FFA15A\", \"#19d3f3\", \"#FF6692\", \"#B6E880\", \"#FF97FF\", \"#FECB52\"], \"font\": {\"color\": \"#2a3f5f\"}, \"geo\": {\"bgcolor\": \"white\", \"lakecolor\": \"white\", \"landcolor\": \"#E5ECF6\", \"showlakes\": true, \"showland\": true, \"subunitcolor\": \"white\"}, \"hoverlabel\": {\"align\": \"left\"}, \"hovermode\": \"closest\", \"mapbox\": {\"style\": \"light\"}, \"paper_bgcolor\": \"white\", \"plot_bgcolor\": \"#E5ECF6\", \"polar\": {\"angularaxis\": {\"gridcolor\": \"white\", \"linecolor\": \"white\", \"ticks\": \"\"}, \"bgcolor\": \"#E5ECF6\", \"radialaxis\": {\"gridcolor\": \"white\", \"linecolor\": \"white\", \"ticks\": \"\"}}, \"scene\": {\"xaxis\": {\"backgroundcolor\": \"#E5ECF6\", \"gridcolor\": \"white\", \"gridwidth\": 2, \"linecolor\": \"white\", \"showbackground\": true, \"ticks\": \"\", \"zerolinecolor\": \"white\"}, \"yaxis\": {\"backgroundcolor\": \"#E5ECF6\", \"gridcolor\": \"white\", \"gridwidth\": 2, \"linecolor\": \"white\", \"showbackground\": true, \"ticks\": \"\", \"zerolinecolor\": \"white\"}, \"zaxis\": {\"backgroundcolor\": \"#E5ECF6\", \"gridcolor\": \"white\", \"gridwidth\": 2, \"linecolor\": \"white\", \"showbackground\": true, \"ticks\": \"\", \"zerolinecolor\": \"white\"}}, \"shapedefaults\": {\"line\": {\"color\": \"#2a3f5f\"}}, \"ternary\": {\"aaxis\": {\"gridcolor\": \"white\", \"linecolor\": \"white\", \"ticks\": \"\"}, \"baxis\": {\"gridcolor\": \"white\", \"linecolor\": \"white\", \"ticks\": \"\"}, \"bgcolor\": \"#E5ECF6\", \"caxis\": {\"gridcolor\": \"white\", \"linecolor\": \"white\", \"ticks\": \"\"}}, \"title\": {\"x\": 0.05}, \"xaxis\": {\"automargin\": true, \"gridcolor\": \"white\", \"linecolor\": \"white\", \"ticks\": \"\", \"title\": {\"standoff\": 15}, \"zerolinecolor\": \"white\", \"zerolinewidth\": 2}, \"yaxis\": {\"automargin\": true, \"gridcolor\": \"white\", \"linecolor\": \"white\", \"ticks\": \"\", \"title\": {\"standoff\": 15}, \"zerolinecolor\": \"white\", \"zerolinewidth\": 2}}}, \"title\": {\"text\": \"QQQ Date:2021-11-11 Low RSI:25.8245 High RSI:81.202\"}, \"xaxis\": {\"rangeslider\": {\"visible\": false}, \"showspikes\": true, \"spikedash\": \"dash\", \"spikemode\": \"across\", \"spikesnap\": \"cursor\", \"title\": {\"text\": \"Dates\"}}, \"yaxis\": {\"showspikes\": true, \"spikedash\": \"dash\", \"spikemode\": \"across\", \"spikesnap\": \"cursor\", \"title\": {\"text\": \"RSI\"}}},\n",
              "                        {\"scrollZoom\": true, \"responsive\": true}\n",
              "                    ).then(function(){\n",
              "                            \n",
              "var gd = document.getElementById('57a93f8f-7290-49ce-bf1b-8c2d129f210c');\n",
              "var x = new MutationObserver(function (mutations, observer) {{\n",
              "        var display = window.getComputedStyle(gd).display;\n",
              "        if (!display || display === 'none') {{\n",
              "            console.log([gd, 'removed!']);\n",
              "            Plotly.purge(gd);\n",
              "            observer.disconnect();\n",
              "        }}\n",
              "}});\n",
              "\n",
              "// Listen for the removal of the full notebook cells\n",
              "var notebookContainer = gd.closest('#notebook-container');\n",
              "if (notebookContainer) {{\n",
              "    x.observe(notebookContainer, {childList: true});\n",
              "}}\n",
              "\n",
              "// Listen for the clearing of the current output cell\n",
              "var outputEl = gd.closest('.output');\n",
              "if (outputEl) {{\n",
              "    x.observe(outputEl, {childList: true});\n",
              "}}\n",
              "\n",
              "                        })\n",
              "                };\n",
              "                \n",
              "            </script>\n",
              "        </div>\n",
              "</body>\n",
              "</html>"
            ]
          },
          "metadata": {}
        }
      ]
    }
  ]
}