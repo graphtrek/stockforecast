{
  "nbformat": 4,
  "nbformat_minor": 0,
  "metadata": {
    "colab": {
      "name": "graphtrek_07.ipynb",
      "provenance": [],
      "mount_file_id": "https://github.com/graphtrek/stockforecast/blob/main/graphtrek_07.ipynb",
      "authorship_tag": "ABX9TyNs+tVV8m/K+kb7MD7DH+XP",
      "include_colab_link": true
    },
    "kernelspec": {
      "name": "python3",
      "display_name": "Python 3"
    },
    "language_info": {
      "name": "python"
    }
  },
  "cells": [
    {
      "cell_type": "markdown",
      "metadata": {
        "id": "view-in-github",
        "colab_type": "text"
      },
      "source": [
        "<a href=\"https://colab.research.google.com/github/graphtrek/stockforecast/blob/main/graphtrek_07.ipynb\" target=\"_parent\"><img src=\"https://colab.research.google.com/assets/colab-badge.svg\" alt=\"Open In Colab\"/></a>"
      ]
    },
    {
      "cell_type": "code",
      "metadata": {
        "id": "sZPC3Z9u3evF"
      },
      "source": [
        "import numpy as np\n",
        "from tensorflow.keras.models import Sequential\n",
        "from tensorflow.keras.layers import LSTM\n",
        "from tensorflow.keras.optimizers import Adam\n",
        "from tensorflow.keras.losses import MAE\n",
        "from tensorflow.keras.layers import Dense, Dropout\n",
        "from tensorflow import keras\n",
        "from datetime import datetime, timedelta\n",
        "import pandas as pd\n",
        "import os, time\n",
        "from matplotlib import pyplot as plt\n",
        "from sklearn.preprocessing import StandardScaler\n",
        "import seaborn as sns\n",
        "import plotly.graph_objects as go\n",
        "import plotly.express as px\n",
        "from sklearn.preprocessing import MinMaxScaler\n",
        "from pandas.tseries.holiday import USFederalHolidayCalendar\n",
        "from pandas.tseries.offsets import CustomBusinessDay\n",
        "from keras.preprocessing.sequence import TimeseriesGenerator\n",
        "from tensorflow.keras.models import Sequential\n",
        "from tensorflow.keras.layers import LSTM\n",
        "from tensorflow.keras.optimizers import Adam\n",
        "from tensorflow.keras.losses import MAE\n",
        "from tensorflow.keras.layers import Dense, Dropout\n",
        "from tensorflow import keras\n",
        "from datetime import datetime, timedelta\n",
        "import pandas as pd\n",
        "import os, time\n",
        "from matplotlib import pyplot as plt\n",
        "from sklearn.preprocessing import StandardScaler\n",
        "import seaborn as sns\n",
        "import plotly.graph_objects as go\n",
        "import plotly.express as px\n",
        "from plotly.subplots import make_subplots\n",
        "from sklearn.preprocessing import MinMaxScaler\n",
        "from pandas.tseries.holiday import USFederalHolidayCalendar\n",
        "from pandas.tseries.offsets import CustomBusinessDay\n",
        "from keras.preprocessing.sequence import TimeseriesGenerator\n",
        "from pathlib import Path"
      ],
      "execution_count": 679,
      "outputs": []
    },
    {
      "cell_type": "code",
      "metadata": {
        "id": "HKYStAEQ3mh6"
      },
      "source": [
        "ticker = \"V\" # QQQ, SPY, VTI JETS, XLE, XLF, XLNX, ARKK, ARKG, ARKQ, ARKF, PYPL, V\n",
        "look_back = 14 #  number of past days we want to use to predict 1 day in the future.\n",
        "max_data_size = 730 # ~2 years\n",
        "split_percent = 0.90 # use 90% of the data  for train\n",
        "INFO = 1\n",
        "DEBUG = 2\n",
        "TRACE = 3\n",
        "print_level = DEBUG \n",
        "indicators_model_file_path = '/content/drive/MyDrive/models/' + ticker + '_' + str(look_back) + '_indicators_07.h5'\n",
        "nr_of_features = 1\n",
        "look_forward = 1\n",
        "epochs = 200\n",
        "learning_rate=0.0001\n",
        "num_prediction = look_back\n",
        "np.random.seed(42)"
      ],
      "execution_count": 680,
      "outputs": []
    },
    {
      "cell_type": "code",
      "metadata": {
        "id": "tPJ9HBOO3-2-",
        "colab": {
          "base_uri": "https://localhost:8080/"
        },
        "outputId": "c4874721-d20e-49fb-dea2-5184cb89488a"
      },
      "source": [
        "rsi_url = 'https://www.alphavantage.co/query?function=RSI&datatype=json&symbol='+ticker+'&interval=daily&time_period='+str(look_back)+'&series_type=close&apikey=3F4URDEKOPLFH25T'\n",
        "print(rsi_url)\n",
        "rsi_api_response = pd.read_json(rsi_url)\n",
        "#print(rsi_api_response)\n",
        "rsi_api_data = rsi_api_response['Technical Analysis: RSI']\n",
        "#print(rsi_api_data)\n",
        "rsi_api_data = rsi_api_data.drop(\n",
        "    index=['1: Symbol','2: Indicator','3: Last Refreshed','4: Interval','5: Time Period','6: Series Type','7: Time Zone']);\n",
        "#print(rsi_api_data)\n",
        "\n",
        "rsi_data = []\n",
        "indicators_lstm_data = []\n",
        "for key, value in rsi_api_data.items():\n",
        "  date = key\n",
        "  rsi = float(value.get('RSI'))\n",
        "  rsi_data.append([date,rsi])\n",
        "  indicators_lstm_data.append([rsi])\n",
        "\n",
        "last_rsi_data =  str(rsi_data[0])\n",
        "first_rsi_data =  str(rsi_data[-1])\n",
        "print('rsi_data_length:', len(rsi_data), 'first_rsi_data:', first_rsi_data, 'last_rsi_data:', last_rsi_data)  "
      ],
      "execution_count": 681,
      "outputs": [
        {
          "output_type": "stream",
          "name": "stdout",
          "text": [
            "https://www.alphavantage.co/query?function=RSI&datatype=json&symbol=V&interval=daily&time_period=14&series_type=close&apikey=3F4URDEKOPLFH25T\n",
            "rsi_data_length: 3426 first_rsi_data: ['2008-04-09', 65.5507] last_rsi_data: ['2021-11-12', 42.7193]\n"
          ]
        }
      ]
    },
    {
      "cell_type": "code",
      "metadata": {
        "colab": {
          "base_uri": "https://localhost:8080/"
        },
        "id": "gTTORjJJ22lE",
        "outputId": "ba9de2e8-189a-4cb9-d42a-d40027866cd1"
      },
      "source": [
        "stock_url = 'https://www.alphavantage.co/query?function=TIME_SERIES_DAILY_ADJUSTED&symbol='+ticker+'&outputsize=full&apikey=3F4URDEKOPLFH25T'\n",
        "print(stock_url)\n",
        "stock_api_response = pd.read_json(stock_url)\n",
        "stock_api_data = stock_api_response['Time Series (Daily)']\n",
        "#print(stock_api_data)\n",
        "stock_api_data = stock_api_data.drop(index=['1. Information','2. Symbol','3. Last Refreshed','4. Output Size','5. Time Zone']);\n",
        "\n",
        "stock_data = []\n",
        "split_coefficient = 1\n",
        "\n",
        "for key, value in stock_api_data.items():\n",
        "  date = key\n",
        "  open = float(value.get('1. open'))\n",
        "  high = float(value.get('2. high'))\n",
        "  low = float(value.get('3. low'))\n",
        "  close = float(value.get('4. close'))\n",
        "  adjusted_close = float(value.get('5. adjusted close'))\n",
        "  volume = int(value.get('6. volume'))\n",
        "  divident = float(value.get('7. dividend amount'))\n",
        "\n",
        "  if float(value.get('8. split coefficient')) > 1:\n",
        "    split_coefficient = float(value.get('8. split coefficient'))\n",
        "    \n",
        "  open = open / split_coefficient\n",
        "  high = high /split_coefficient\n",
        "  close = close / split_coefficient\n",
        "  low = low / split_coefficient\n",
        "  \n",
        "  stock_data.append([\n",
        "      date,\n",
        "      close,\n",
        "      volume,\n",
        "      high,\n",
        "      low,\n",
        "      open,\n",
        "      divident\n",
        "      ])\n",
        "\n",
        "last_date =  str(stock_data[0][0])\n",
        "print('data length:', len(stock_data), 'last_date:', last_date)\n",
        "\n",
        "last_stock_data =  str(stock_data[0])\n",
        "first_stock_data =  str(stock_data[-1])\n",
        "print('stock_data_length:', len(stock_data), 'first_stock_data:', first_stock_data, 'last_stock_data:', last_stock_data)"
      ],
      "execution_count": 682,
      "outputs": [
        {
          "output_type": "stream",
          "name": "stdout",
          "text": [
            "https://www.alphavantage.co/query?function=TIME_SERIES_DAILY_ADJUSTED&symbol=V&outputsize=full&apikey=3F4URDEKOPLFH25T\n",
            "data length: 3440 last_date: 2021-11-12\n",
            "stock_data_length: 3440 first_stock_data: ['2008-03-19', 14.125, 177121500, 17.25, 13.75, 14.875, 0.0] last_stock_data: ['2021-11-12', 212.09, 7624688, 213.58, 211.434, 211.5, 0.0]\n"
          ]
        }
      ]
    },
    {
      "cell_type": "code",
      "metadata": {
        "id": "GzJkdoRGuYmf"
      },
      "source": [
        "if max_data_size < len(rsi_data):\n",
        "  rsi_data = np.flip(rsi_data[:max_data_size],axis=0)\n",
        "  stock_data = np.flip(stock_data[:max_data_size],axis=0)\n",
        "  indicators_lstm_data = np.flip(indicators_lstm_data[:max_data_size],axis=0)\n",
        "else:\n",
        "  rsi_data = np.flip(rsi_data,axis=0)\n",
        "  stock_data = np.flip(stock_data,axis=0)\n",
        "  indicators_lstm_data = np.flip(indicators_lstm_data,axis=0)"
      ],
      "execution_count": 683,
      "outputs": []
    },
    {
      "cell_type": "code",
      "metadata": {
        "id": "xHrOFKHo3ocW"
      },
      "source": [
        "stock_df = pd.DataFrame(stock_data,columns=['Date','Close','Volume','High','Low','Open','Divident'])\n",
        "stock_df['50MA'] = stock_df['Close'].rolling(50).mean()\n",
        "stock_df['100MA'] = stock_df['Close'].rolling(100).mean()\n",
        "stock_df['200MA'] = stock_df['Close'].rolling(200).mean()"
      ],
      "execution_count": 684,
      "outputs": []
    },
    {
      "cell_type": "code",
      "metadata": {
        "id": "OYTx2W6N4JIM"
      },
      "source": [
        "indicators_df = pd.DataFrame(rsi_data,columns=['Date','RSI'])\n",
        "\n",
        "split = int(split_percent*len(rsi_data))\n",
        "if len(rsi_data) - split < look_back:\n",
        "  split = look_back\n",
        "split\n",
        "\n",
        "\n",
        "indicators_df_train = indicators_df.iloc[:split]\n",
        "indicators_df_test = indicators_df.iloc[split:]\n",
        "\n",
        "indicators_lstm_train_data = indicators_lstm_data[:split]\n",
        "indicators_lstm_test_data = indicators_lstm_data[split:]"
      ],
      "execution_count": 685,
      "outputs": []
    },
    {
      "cell_type": "code",
      "metadata": {
        "id": "5oRtthul4Pyj"
      },
      "source": [
        "np.set_printoptions(formatter={'float': '{: 0.12f}'.format})\n",
        "\n",
        "indicators_scaler = MinMaxScaler(feature_range=(0, 1))\n",
        "indicators_scaler = indicators_scaler.fit(indicators_lstm_data)\n",
        "\n",
        "indicators_lstm_train_data_scaled = indicators_scaler.transform(indicators_lstm_train_data)\n",
        "if print_level >= TRACE:\n",
        "  print(indicators_lstm_train_data_scaled[:look_back+1])\n",
        "  print(indicators_lstm_train_data_scaled.shape)\n",
        "\n",
        "indicators_lstm_test_data_scaled = indicators_scaler.transform(indicators_lstm_test_data)\n",
        "if print_level >= TRACE:\n",
        "  print(indicators_lstm_test_data_scaled[:look_back+1])\n",
        "  print(indicators_lstm_test_data_scaled.shape)"
      ],
      "execution_count": 686,
      "outputs": []
    },
    {
      "cell_type": "code",
      "metadata": {
        "id": "Cmmqy0nc4Slr"
      },
      "source": [
        "indicators_train_generator = TimeseriesGenerator(indicators_lstm_train_data_scaled, indicators_lstm_train_data_scaled, sampling_rate=1, length=look_back, batch_size=64)\n",
        "\n",
        "if print_level >= TRACE:\n",
        "  print('Samples: %d' % len(indicators_train_generator))\n",
        "  # print each sample\n",
        "  for i in range(2):\n",
        "    x, y = indicators_train_generator[i]\n",
        "    print('%s => %s' % (x, y))"
      ],
      "execution_count": 687,
      "outputs": []
    },
    {
      "cell_type": "code",
      "metadata": {
        "id": "xFQnXfRp6tVP",
        "colab": {
          "base_uri": "https://localhost:8080/"
        },
        "outputId": "b9e87f8e-e280-4444-9088-ab3ad2e87dbf"
      },
      "source": [
        "indicators_model = None\n",
        "try:\n",
        "  indicators_model = keras.models.load_model(indicators_model_file_path)\n",
        "  modified = os.path.getmtime(indicators_model_file_path)\n",
        "\n",
        "  print(pd.to_datetime(last_date).date() - datetime.fromtimestamp(modified).date() )\n",
        "  print('Loaded', indicators_model_file_path , ' model train date:',datetime.fromtimestamp(modified).date() , 'last date:', last_date)\n",
        "except:\n",
        "  indicators_model = None\n",
        "  print('Model ' + indicators_model_file_path + ' does not exists.')"
      ],
      "execution_count": 688,
      "outputs": [
        {
          "output_type": "stream",
          "name": "stdout",
          "text": [
            "Model /content/drive/MyDrive/models/V_14_indicators_07.h5 does not exists.\n"
          ]
        }
      ]
    },
    {
      "cell_type": "code",
      "metadata": {
        "id": "r59DQEiZ0u18",
        "colab": {
          "base_uri": "https://localhost:8080/",
          "height": 315
        },
        "outputId": "464400e1-0b4b-45e7-d342-6ac8ade29a54"
      },
      "source": [
        "if indicators_model is None:\n",
        "  indicators_model = Sequential()\n",
        "  indicators_model.add(LSTM(units=50, activation='tanh', input_shape=(look_back, nr_of_features), return_sequences=True))\n",
        "  indicators_model.add(Dropout(0.2))\n",
        "  indicators_model.add(LSTM(units=50, return_sequences=True, activation=\"tanh\"))\n",
        "  indicators_model.add(Dropout(0.2))\n",
        "  indicators_model.add(LSTM(units=50, return_sequences=True, activation=\"tanh\"))\n",
        "  indicators_model.add(Dropout(0.2))\n",
        "  indicators_model.add(LSTM(units=50, activation=\"tanh\"))\n",
        "  indicators_model.add(Dropout(0.2))\n",
        "  indicators_model.add(Dense(nr_of_features))\n",
        "\n",
        "  indicators_model.compile(\n",
        "      loss=MAE,\n",
        "      optimizer=Adam(learning_rate=learning_rate),\n",
        "      metrics=[\"mae\"]\n",
        "  )\n",
        "    \n",
        "  #model.summary()\n",
        "  print('Model ' + indicators_model_file_path + ' compiled.')\n",
        "\n",
        "  indicators_modelo = indicators_model.fit(indicators_train_generator, epochs=epochs, verbose=0 )\n",
        "  \n",
        "  indicators_model.save(indicators_model_file_path)\n",
        "  print('Saved model ' + indicators_model_file_path)\n",
        "\n",
        "  if print_level >= DEBUG:\n",
        "    plt.plot(indicators_modelo.history['loss'])\n",
        "    plt.xlabel('Epochs')\n",
        "    plt.ylabel('Loss')\n",
        "    plt.show()"
      ],
      "execution_count": 689,
      "outputs": [
        {
          "output_type": "stream",
          "name": "stdout",
          "text": [
            "Model /content/drive/MyDrive/models/V_14_indicators_07.h5 compiled.\n",
            "Saved model /content/drive/MyDrive/models/V_14_indicators_07.h5\n"
          ]
        },
        {
          "output_type": "display_data",
          "data": {
            "image/png": "[encoded data removed]",
            "text/plain": [
              "<Figure size 432x288 with 1 Axes>"
            ]
          },
          "metadata": {
            "needs_background": "light"
          }
        }
      ]
    },
    {
      "cell_type": "code",
      "metadata": {
        "colab": {
          "base_uri": "https://localhost:8080/"
        },
        "id": "xkdpY8eE4XlZ",
        "outputId": "58f33b46-e162-4236-939c-8b057be6e041"
      },
      "source": [
        "indicators_test_generator = TimeseriesGenerator(indicators_lstm_test_data_scaled, indicators_lstm_test_data_scaled,sampling_rate=1, length=look_back, batch_size=look_back)\n",
        "\n",
        "print('Samples: %d' % len(indicators_test_generator))\n",
        "# print each sample\n",
        "if print_level >= TRACE:\n",
        "  for i in range(2):\n",
        "    x, y = indicators_test_generator[i]\n",
        "    print('%s => %s' % (x, y))"
      ],
      "execution_count": 690,
      "outputs": [
        {
          "output_type": "stream",
          "name": "stdout",
          "text": [
            "Samples: 5\n"
          ]
        }
      ]
    },
    {
      "cell_type": "code",
      "metadata": {
        "colab": {
          "base_uri": "https://localhost:8080/"
        },
        "id": "WAS1RHA1Mn10",
        "outputId": "05a87dd4-1be4-4138-87e3-59b4f37e34e6"
      },
      "source": [
        "#Make prediction\n",
        "indicators_prediction_scaled = indicators_model.predict(indicators_test_generator)\n",
        "\n",
        "if print_level >= DEBUG:\n",
        "  np.set_printoptions(formatter={'float': '{: 0.12f}'.format})\n",
        "  print(indicators_prediction_scaled[:5])\n",
        "\n",
        "indicators_prediction = indicators_scaler.inverse_transform(indicators_prediction_scaled)\n",
        "\n",
        "if print_level >= DEBUG:\n",
        "  np.set_printoptions(formatter={'float': '{: 0.2f}'.format})\n",
        "  print('indicators_prediction shape:',indicators_prediction.shape)\n",
        "\n",
        "  for x in range(look_back + 1):\n",
        "    print('pred:',indicators_prediction[x], 'test:', indicators_lstm_test_data[x])\n"
      ],
      "execution_count": 691,
      "outputs": [
        {
          "output_type": "stream",
          "name": "stdout",
          "text": [
            "[[ 0.388296157122]\n",
            " [ 0.384351909161]\n",
            " [ 0.381182253361]\n",
            " [ 0.377988666296]\n",
            " [ 0.375597804785]]\n",
            "indicators_prediction shape: (59, 1)\n",
            "pred: [ 48.06] test: [ 42.69]\n",
            "pred: [ 47.81] test: [ 42.14]\n",
            "pred: [ 47.61] test: [ 48.17]\n",
            "pred: [ 47.41] test: [ 50.06]\n",
            "pred: [ 47.27] test: [ 47.85]\n",
            "pred: [ 47.21] test: [ 44.92]\n",
            "pred: [ 47.23] test: [ 40.72]\n",
            "pred: [ 47.29] test: [ 37.06]\n",
            "pred: [ 47.36] test: [ 38.79]\n",
            "pred: [ 47.33] test: [ 44.01]\n",
            "pred: [ 47.14] test: [ 42.80]\n",
            "pred: [ 46.92] test: [ 38.81]\n",
            "pred: [ 46.72] test: [ 38.73]\n",
            "pred: [ 46.53] test: [ 38.43]\n",
            "pred: [ 46.37] test: [ 44.56]\n"
          ]
        }
      ]
    },
    {
      "cell_type": "code",
      "metadata": {
        "colab": {
          "base_uri": "https://localhost:8080/"
        },
        "id": "ae72DYdyd0zp",
        "outputId": "2ffa890d-445e-433a-a5e7-74c6c3e7b97a"
      },
      "source": [
        "def predict(num_prediction, model):\n",
        "    prediction_list = indicators_lstm_test_data_scaled[-look_back:]\n",
        "    #print('prediction_list',prediction_list)\n",
        "    for _ in range(num_prediction):\n",
        "        x = prediction_list[-look_back:]\n",
        "        #print(x)\n",
        "        x = x.reshape((1, look_back, nr_of_features))\n",
        "        out = model.predict(x)\n",
        "        #print(x,out) \n",
        "        prediction_list = np.append(prediction_list, out, axis=0)\n",
        "    prediction_list = prediction_list[look_back-1:]\n",
        "        \n",
        "    return prediction_list\n",
        "    \n",
        "def predict_dates(last_date,num_prediction):\n",
        "    us_bd = CustomBusinessDay(calendar=USFederalHolidayCalendar())\n",
        "    prediction_dates = pd.date_range(last_date, periods=num_prediction+1,freq=us_bd).tolist()\n",
        "    return prediction_dates\n",
        "\n",
        "indicators_forecast_scaled = predict(num_prediction, indicators_model)\n",
        "#print(forecast_scaled)\n",
        "indicators_forecast_dates = predict_dates(indicators_df['Date'].values[-1],num_prediction)\n",
        "\n",
        "indicators_forecast = indicators_scaler.inverse_transform(indicators_forecast_scaled.reshape((-1,nr_of_features)))\n",
        "if nr_of_features == 1:\n",
        "   indicators_forecast = indicators_forecast.reshape((-1))\n",
        "\n",
        "print('indicators_forecast:',indicators_forecast)\n"
      ],
      "execution_count": 692,
      "outputs": [
        {
          "output_type": "stream",
          "name": "stdout",
          "text": [
            "indicators_forecast: [ 42.72  45.96  46.16  46.67  47.22  47.71  48.17  48.63  49.05  49.41\n",
            "  49.62  49.81  50.10  50.35  50.63]\n"
          ]
        }
      ]
    },
    {
      "cell_type": "code",
      "metadata": {
        "colab": {
          "base_uri": "https://localhost:8080/",
          "height": 667
        },
        "id": "dnqEqJioguwy",
        "outputId": "dc3d495e-1171-41e4-9f4b-aace0f013652"
      },
      "source": [
        "chart_days = len(indicators_df_test) * 2\n",
        "trace1 = go.Candlestick(\n",
        "    x = stock_df.tail(chart_days)['Date'],\n",
        "    open = stock_df.tail(chart_days)['Open'],\n",
        "    high = stock_df.tail(chart_days)['High'],\n",
        "    low = stock_df.tail(chart_days)['Low'],\n",
        "    close = stock_df.tail(chart_days)['Close'],\n",
        "    name = ticker + ' Price'\n",
        ")\n",
        "\n",
        "trace2 = go.Scatter(\n",
        "    x = stock_df.tail(chart_days)['Date'],\n",
        "    y = stock_df.tail(chart_days)['50MA'],\n",
        "    mode='lines',\n",
        "    name ='50MA'\n",
        ")\n",
        "\n",
        "trace3 = go.Scatter(\n",
        "    x = stock_df.tail(chart_days)['Date'],\n",
        "    y = stock_df.tail(chart_days)['100MA'],\n",
        "    mode='lines',\n",
        "    name ='100MA'\n",
        ")\n",
        "\n",
        "trace4 = go.Scatter(\n",
        "    x = stock_df.tail(chart_days)['Date'],\n",
        "    y = stock_df.tail(chart_days)['200MA'],\n",
        "    mode='lines',\n",
        "    name ='200MA'\n",
        ")\n",
        "\n",
        "\n",
        "#'Date','Close','Volume','High','Low','Open','Divident'\n",
        "open_price =  str(stock_data[-1][5])\n",
        "low_price =  str(stock_data[-1][3])\n",
        "high_price =  str(stock_data[-1][4])\n",
        "close_price =  str(stock_data[-1][1])\n",
        "indicators_forecast_mean = np.round(np.mean(indicators_forecast))\n",
        "\n",
        "layout = go.Layout(\n",
        "    title = ticker + ' Date:' + last_date + ' Open:' + open_price + ' High:' + high_price + ' Low:' + low_price + ' Close:' + close_price,\n",
        "    xaxis = {'title' : \"Dates\"},\n",
        "    yaxis = {'title' : \"Close Price ($)\"},\n",
        "    height = 450\n",
        ")\n",
        "\n",
        "trace_train = go.Scatter(\n",
        "  x = indicators_df_train.tail(len(indicators_df_test))['Date'],\n",
        "  y = indicators_df_train.tail(len(indicators_df_test))['RSI'],\n",
        "  mode='lines',\n",
        "  name ='RSI'\n",
        ")\n",
        "\n",
        "trace_test = go.Scatter(\n",
        "  x = indicators_df_test['Date'],\n",
        "  y = indicators_df_test['RSI'],\n",
        "  mode='markers+lines',\n",
        "  name ='Test'\n",
        ")\n",
        "\n",
        "trace_prediction = go.Scatter(\n",
        "    x = indicators_df_test['Date'],\n",
        "    y = indicators_prediction.reshape((-1)),\n",
        "    mode='lines',\n",
        "    name ='Prediction'\n",
        ")\n",
        "\n",
        "trace_forecast = go.Scatter(\n",
        "    x = indicators_forecast_dates,\n",
        "    y = indicators_forecast,\n",
        "    mode='markers+lines',\n",
        "    name ='Forecast'\n",
        ")\n",
        "\n",
        "\n",
        "tradingview_link = '<a href=\"https://in.tradingview.com/chart/66XmQfYy/?symbol=' + ticker +'\">' + ticker +'</a>'\n",
        "stock_title = tradingview_link + ' Date:' + last_date + ' Open:' + open_price + ' High:' + high_price + ' Low:' + low_price + ' Close:' + close_price\n",
        "indicators_title = tradingview_link + ' RSI('+ str(look_back)+ ') Date:' + last_date + ' Close:' + indicators_df['RSI'].iloc[-1] + ' Forecast('+str(look_back)+'):' + str(indicators_forecast_mean)\n",
        "\n",
        "fig = make_subplots(rows=2, cols=1, row_heights=[0.6, 0.4], subplot_titles=(stock_title, indicators_title))\n",
        "\n",
        "\n",
        "fig.add_trace(trace1,row=1, col=1)\n",
        "fig.add_trace(trace2,row=1, col=1)\n",
        "fig.add_trace(trace3,row=1, col=1)\n",
        "fig.add_trace(trace4,row=1, col=1)\n",
        "\n",
        "fig.add_trace(trace_train,row=2, col=1)\n",
        "fig.add_trace(trace_test,row=2, col=1)\n",
        "fig.add_trace(trace_prediction,row=2, col=1)\n",
        "fig.add_trace(trace_forecast,row=2, col=1)\n",
        "\n",
        "fig.add_trace(go.Scatter(\n",
        "        x = [indicators_df_train.tail(len(indicators_df_test))['Date'].min(), np.max(indicators_forecast_dates)],\n",
        "        y = [70, 70],\n",
        "        mode = \"lines\",\n",
        "        line = dict(shape = 'linear', color = 'rgb(100, 10, 100)', dash = 'dash')\n",
        "    ),row=2, col=1)\n",
        "\n",
        "fig.add_trace(go.Scatter(\n",
        "        x = [indicators_df_train.tail(len(indicators_df_test))['Date'].min(), np.max(indicators_forecast_dates)],\n",
        "        y = [50, 50],\n",
        "        mode = \"lines\",\n",
        "        line = dict(shape = 'linear', color = 'rgb(10, 12, 240)', dash = 'dash')\n",
        "    ),row=2, col=1)\n",
        "\n",
        "fig.add_trace(go.Scatter(\n",
        "        x = [indicators_df_train.tail(len(indicators_df_test))['Date'].min(), np.max(indicators_forecast_dates)],\n",
        "        y = [30, 30],\n",
        "        mode = \"lines\",\n",
        "        line = dict(shape = 'linear', color = 'rgb(10, 120, 24)', dash = 'dash')\n",
        "    ),row=2, col=1)\n",
        "\n",
        "fig.update_yaxes(showspikes=True, spikemode='across', spikesnap='cursor',spikedash='dash')\n",
        "fig.update_xaxes(showspikes=True, spikemode='across', spikesnap='cursor', spikedash='dash')\n",
        "fig.update_layout(xaxis_rangeslider_visible=False,height=650)\n",
        "\n",
        "fig.show()\n",
        "Path('/content/drive/MyDrive/models/charts/'+ last_date).mkdir(parents=True, exist_ok=True)\n",
        "fig.write_html('/content/drive/MyDrive/models/charts/'+ last_date+ '/' + ticker + '_' + str(look_back) + '_07_inidicators_forecast.html')"
      ],
      "execution_count": 693,
      "outputs": [
        {
          "output_type": "display_data",
          "data": {
            "text/html": [
              "<html>\n",
              "<head><meta charset=\"utf-8\" /></head>\n",
              "<body>\n",
              "    <div>\n",
              "            <script src=\"https://cdnjs.cloudflare.com/ajax/libs/mathjax/2.7.5/MathJax.js?config=TeX-AMS-MML_SVG\"></script><script type=\"text/javascript\">if (window.MathJax) {MathJax.Hub.Config({SVG: {font: \"STIX-Web\"}});}</script>\n",
              "                <script type=\"text/javascript\">window.PlotlyConfig = {MathJaxConfig: 'local'};</script>\n",
              "        <script src=\"https://cdn.plot.ly/plotly-latest.min.js\"></script>    \n",
              "            <div id=\"592c1b72-0033-4677-88ec-58508cf3e467\" class=\"plotly-graph-div\" style=\"height:650px; width:100%;\"></div>\n",
              "            <script type=\"text/javascript\">\n",
              "                \n",
              "                    window.PLOTLYENV=window.PLOTLYENV || {};\n",
              "                    \n",
              "                if (document.getElementById(\"592c1b72-0033-4677-88ec-58508cf3e467\")) {\n",
              "                    Plotly.newPlot(\n",
              "                        '592c1b72-0033-4677-88ec-58508cf3e467',\n",
              "                        [{\"close\": [\"223.28\", \"227.45\", \"227.57\", \"230.0\", \"230.34\", \"229.91\", \"233.45\", \"236.86\", \"233.56\", \"232.61\", \"232.03\", \"229.21\", \"231.32\", \"232.12\", \"225.97\", \"225.48\", \"220.63\", \"223.74\", \"226.94\", \"226.44\", \"225.57\", \"224.59\", \"226.44\", \"226.77\", \"229.32\", \"229.02\", \"227.07\", \"226.86\", \"227.3\", \"226.63\", \"229.66\", \"228.11\", \"230.14\", \"231.32\", \"232.05\", \"232.31\", \"233.95\", \"234.96\", \"234.08\", \"232.98\", \"229.6\", \"232.15\", \"230.41\", \"234.32\", \"235.93\", \"234.68\", \"236.24\", \"237.32\", \"234.09\", \"235.95\", \"233.82\", \"235.15\", \"238.63\", \"239.6\", \"240.0\", \"236.61\", \"238.47\", \"237.87\", \"242.35\", \"245.99\", \"248.55\", \"248.12\", \"240.41\", \"242.7\", \"243.66\", \"244.14\", \"249.02\", \"250.25\", \"250.93\", \"246.94\", \"247.92\", \"246.39\", \"239.78\", \"237.09\", \"236.67\", \"240.21\", \"241.4\", \"240.0\", \"238.07\", \"235.06\", \"231.79\", \"232.65\", \"235.36\", \"234.53\", \"231.63\", \"231.57\", \"231.36\", \"234.14\", \"234.24\", \"232.59\", \"230.52\", \"232.69\", \"231.23\", \"229.1\", \"230.12\", \"224.18\", \"225.11\", \"226.27\", \"229.09\", \"227.49\", \"224.91\", \"224.63\", \"223.03\", \"223.81\", \"224.33\", \"221.75\", \"220.05\", \"220.17\", \"222.75\", \"228.31\", \"231.59\", \"229.6\", \"225.56\", \"226.68\", \"222.75\", \"230.46\", \"224.73\", \"224.28\", \"226.51\", \"230.55\", \"230.27\", \"225.11\", \"224.05\", \"222.46\", \"225.18\", \"230.99\", \"230.65\", \"233.52\", \"231.42\", \"230.24\", \"231.23\", \"233.88\", \"231.82\", \"215.78\", \"209.84\", \"211.77\", \"212.46\", \"209.14\", \"208.1\", \"208.78\", \"216.67\", \"220.49\", \"213.39\", \"215.56\", \"210.42\", \"212.09\"], \"high\": [\"225.38\", \"227.87\", \"230.9348\", \"231.82\", \"232.95\", \"231.16\", \"236.27\", \"237.5\", \"235.93\", \"235.74\", \"232.3926\", \"233.85\", \"231.58\", \"233.22\", \"232.0\", \"226.42\", \"225.0\", \"224.9\", \"227.51\", \"227.16\", \"229.1799\", \"224.85\", \"227.6\", \"229.31\", \"230.11\", \"230.19\", \"229.35\", \"228.42\", \"229.43\", \"230.08\", \"233.11\", \"230.39\", \"230.7\", \"234.68\", \"232.85\", \"234.85\", \"234.26\", \"235.44\", \"235.22\", \"234.8\", \"234.18\", \"233.34\", \"232.18\", \"235.01\", \"236.09\", \"235.92\", \"238.25\", \"238.48\", \"238.37\", \"236.52\", \"236.4\", \"236.25\", \"238.78\", \"240.61\", \"241.04\", \"237.065\", \"239.45\", \"238.505\", \"242.48\", \"246.81\", \"248.8\", \"250.46\", \"244.45\", \"244.21\", \"246.9\", \"245.3489\", \"250.01\", \"250.36\", \"252.67\", \"251.5\", \"250.38\", \"248.46\", \"247.83\", \"241.39\", \"237.55\", \"240.25\", \"242.6\", \"242.18\", \"241.34\", \"238.36\", \"234.11\", \"233.27\", \"235.48\", \"235.665\", \"234.35\", \"232.43\", \"232.16\", \"234.65\", \"236.19\", \"235.0\", \"232.63\", \"233.0525\", \"233.67\", \"231.84\", \"230.78\", \"230.55\", \"227.3\", \"228.0\", \"230.2225\", \"230.0\", \"230.04\", \"227.2\", \"225.81\", \"224.835\", \"225.2\", \"223.7\", \"220.5\", \"222.17\", \"224.1\", \"228.7\", \"231.95\", \"233.33\", \"228.87\", \"229.02\", \"228.7855\", \"231.56\", \"230.33\", \"227.38\", \"226.62\", \"231.16\", \"232.7335\", \"230.315\", \"226.22\", \"225.86\", \"225.65\", \"231.09\", \"232.76\", \"233.64\", \"233.8\", \"230.83\", \"232.82\", \"234.86\", \"236.96\", \"224.75\", \"219.99\", \"213.665\", \"215.25\", \"213.35\", \"210.15\", \"212.3593\", \"217.625\", \"221.61\", \"220.41\", \"216.95\", \"216.78\", \"213.58\"], \"low\": [\"221.82\", \"222.865\", \"226.89\", \"227.71\", \"229.52\", \"228.985\", \"230.6748\", \"233.15\", \"232.29\", \"231.385\", \"230.23\", \"228.66\", \"228.66\", \"230.705\", \"225.16\", \"222.0353\", \"220.31\", \"220.89\", \"224.92\", \"225.315\", \"225.43\", \"221.7941\", \"225.24\", \"226.5518\", \"227.63\", \"228.42\", \"226.38\", \"226.37\", \"227.148\", \"226.28\", \"228.78\", \"227.77\", \"228.73\", \"230.08\", \"230.16\", \"232.12\", \"232.1306\", \"233.7079\", \"231.5709\", \"232.62\", \"228.0\", \"229.21\", \"229.2209\", \"230.4\", \"233.24\", \"233.94\", \"235.41\", \"236.32\", \"231.86\", \"234.15\", \"233.82\", \"234.0499\", \"235.82\", \"237.21\", \"238.3\", \"234.55\", \"237.421\", \"237.27\", \"238.25\", \"242.82\", \"245.31\", \"247.52\", \"238.9\", \"239.51\", \"242.3\", \"243.15\", \"246.76\", \"247.7\", \"248.22\", \"245.91\", \"247.095\", \"246.0\", \"238.37\", \"234.03\", \"235.05\", \"236.43\", \"239.86\", \"238.05\", \"235.56\", \"234.58\", \"231.02\", \"231.4\", \"230.2\", \"233.22\", \"231.47\", \"228.9\", \"230.3\", \"232.0\", \"233.95\", \"232.0805\", \"230.15\", \"230.23\", \"229.92\", \"228.66\", \"228.77\", \"221.96\", \"223.3501\", \"225.86\", \"227.04\", \"227.1\", \"224.82\", \"223.411\", \"222.279\", \"221.36\", \"222.75\", \"219.3\", \"216.31\", \"218.98\", \"221.1\", \"224.36\", \"228.62\", \"228.77\", \"224.0\", \"226.09\", \"222.63\", \"223.47\", \"220.81\", \"223.92\", \"221.25\", \"228.49\", \"230.18\", \"224.87\", \"222.92\", \"218.63\", \"223.06\", \"226.73\", \"228.143\", \"230.68\", \"231.31\", \"226.3\", \"228.71\", \"232.29\", \"231.33\", \"215.66\", \"209.01\", \"208.54\", \"211.45\", \"207.82\", \"206.73\", \"207.87\", \"211.36\", \"218.15\", \"212.915\", \"213.33\", \"210.16\", \"211.434\"], \"name\": \"V Price\", \"open\": [\"224.78\", \"223.31\", \"227.3\", \"228.61\", \"230.77\", \"231.03\", \"230.95\", \"235.23\", \"235.32\", \"234.05\", \"231.6\", \"233.85\", \"229.63\", \"232.34\", \"231.6\", \"223.74\", \"223.63\", \"221.51\", \"225.82\", \"226.18\", \"228.39\", \"222.76\", \"225.44\", \"226.88\", \"227.95\", \"229.9\", \"228.05\", \"227.76\", \"227.59\", \"229.44\", \"229.22\", \"229.0\", \"229.35\", \"232.85\", \"232.15\", \"232.5\", \"233.1\", \"234.39\", \"234.7\", \"234.44\", \"233.62\", \"229.21\", \"230.45\", \"231.45\", \"234.3\", \"235.45\", \"237.0\", \"236.4\", \"238.0\", \"234.57\", \"235.11\", \"234.2\", \"235.83\", \"239.5\", \"240.26\", \"236.97\", \"238.76\", \"237.58\", \"238.25\", \"243.22\", \"245.31\", \"249.99\", \"243.99\", \"240.64\", \"243.29\", \"243.78\", \"246.76\", \"249.21\", \"249.19\", \"250.05\", \"248.11\", \"247.21\", \"246.24\", \"240.63\", \"237.0\", \"236.61\", \"240.0\", \"241.75\", \"240.51\", \"238.08\", \"233.89\", \"232.0\", \"232.21\", \"235.0\", \"233.92\", \"229.04\", \"231.87\", \"232.7\", \"235.04\", \"235.0\", \"232.13\", \"231.02\", \"232.69\", \"230.91\", \"229.1\", \"230.43\", \"224.0\", \"226.74\", \"227.38\", \"229.31\", \"229.85\", \"225.53\", \"225.0\", \"222.52\", \"223.86\", \"222.45\", \"216.96\", \"220.75\", \"221.4\", \"225.0\", \"228.93\", \"231.72\", \"228.87\", \"226.8\", \"227.58\", \"224.17\", \"230.0\", \"225.48\", \"222.04\", \"228.91\", \"231.0\", \"230.01\", \"225.56\", \"223.13\", \"224.12\", \"227.22\", \"230.18\", \"231.95\", \"233.455\", \"230.7\", \"230.29\", \"233.45\", \"235.53\", \"224.75\", \"219.25\", \"209.21\", \"213.49\", \"213.16\", \"209.69\", \"209.16\", \"211.95\", \"218.37\", \"219.69\", \"213.55\", \"216.47\", \"211.5\"], \"type\": \"candlestick\", \"x\": [\"2021-04-20\", \"2021-04-21\", \"2021-04-22\", \"2021-04-23\", \"2021-04-26\", \"2021-04-27\", \"2021-04-28\", \"2021-04-29\", \"2021-04-30\", \"2021-05-03\", \"2021-05-04\", \"2021-05-05\", \"2021-05-06\", \"2021-05-07\", \"2021-05-10\", \"2021-05-11\", \"2021-05-12\", \"2021-05-13\", \"2021-05-14\", \"2021-05-17\", \"2021-05-18\", \"2021-05-19\", \"2021-05-20\", \"2021-05-21\", \"2021-05-24\", \"2021-05-25\", \"2021-05-26\", \"2021-05-27\", \"2021-05-28\", \"2021-06-01\", \"2021-06-02\", \"2021-06-03\", \"2021-06-04\", \"2021-06-07\", \"2021-06-08\", \"2021-06-09\", \"2021-06-10\", \"2021-06-11\", \"2021-06-14\", \"2021-06-15\", \"2021-06-16\", \"2021-06-17\", \"2021-06-18\", \"2021-06-21\", \"2021-06-22\", \"2021-06-23\", \"2021-06-24\", \"2021-06-25\", \"2021-06-28\", \"2021-06-29\", \"2021-06-30\", \"2021-07-01\", \"2021-07-02\", \"2021-07-06\", \"2021-07-07\", \"2021-07-08\", \"2021-07-09\", \"2021-07-12\", \"2021-07-13\", \"2021-07-14\", \"2021-07-15\", \"2021-07-16\", \"2021-07-19\", \"2021-07-20\", \"2021-07-21\", \"2021-07-22\", \"2021-07-23\", \"2021-07-26\", \"2021-07-27\", \"2021-07-28\", \"2021-07-29\", \"2021-07-30\", \"2021-08-02\", \"2021-08-03\", \"2021-08-04\", \"2021-08-05\", \"2021-08-06\", \"2021-08-09\", \"2021-08-10\", \"2021-08-11\", \"2021-08-12\", \"2021-08-13\", \"2021-08-16\", \"2021-08-17\", \"2021-08-18\", \"2021-08-19\", \"2021-08-20\", \"2021-08-23\", \"2021-08-24\", \"2021-08-25\", \"2021-08-26\", \"2021-08-27\", \"2021-08-30\", \"2021-08-31\", \"2021-09-01\", \"2021-09-02\", \"2021-09-03\", \"2021-09-07\", \"2021-09-08\", \"2021-09-09\", \"2021-09-10\", \"2021-09-13\", \"2021-09-14\", \"2021-09-15\", \"2021-09-16\", \"2021-09-17\", \"2021-09-20\", \"2021-09-21\", \"2021-09-22\", \"2021-09-23\", \"2021-09-24\", \"2021-09-27\", \"2021-09-28\", \"2021-09-29\", \"2021-09-30\", \"2021-10-01\", \"2021-10-04\", \"2021-10-05\", \"2021-10-06\", \"2021-10-07\", \"2021-10-08\", \"2021-10-11\", \"2021-10-12\", \"2021-10-13\", \"2021-10-14\", \"2021-10-15\", \"2021-10-18\", \"2021-10-19\", \"2021-10-20\", \"2021-10-21\", \"2021-10-22\", \"2021-10-25\", \"2021-10-26\", \"2021-10-27\", \"2021-10-28\", \"2021-10-29\", \"2021-11-01\", \"2021-11-02\", \"2021-11-03\", \"2021-11-04\", \"2021-11-05\", \"2021-11-08\", \"2021-11-09\", \"2021-11-10\", \"2021-11-11\", \"2021-11-12\"], \"xaxis\": \"x\", \"yaxis\": \"y\"}, {\"mode\": \"lines\", \"name\": \"50MA\", \"type\": \"scatter\", \"x\": [\"2021-04-20\", \"2021-04-21\", \"2021-04-22\", \"2021-04-23\", \"2021-04-26\", \"2021-04-27\", \"2021-04-28\", \"2021-04-29\", \"2021-04-30\", \"2021-05-03\", \"2021-05-04\", \"2021-05-05\", \"2021-05-06\", \"2021-05-07\", \"2021-05-10\", \"2021-05-11\", \"2021-05-12\", \"2021-05-13\", \"2021-05-14\", \"2021-05-17\", \"2021-05-18\", \"2021-05-19\", \"2021-05-20\", \"2021-05-21\", \"2021-05-24\", \"2021-05-25\", \"2021-05-26\", \"2021-05-27\", \"2021-05-28\", \"2021-06-01\", \"2021-06-02\", \"2021-06-03\", \"2021-06-04\", \"2021-06-07\", \"2021-06-08\", \"2021-06-09\", \"2021-06-10\", \"2021-06-11\", \"2021-06-14\", \"2021-06-15\", \"2021-06-16\", \"2021-06-17\", \"2021-06-18\", \"2021-06-21\", \"2021-06-22\", \"2021-06-23\", \"2021-06-24\", \"2021-06-25\", \"2021-06-28\", \"2021-06-29\", \"2021-06-30\", \"2021-07-01\", \"2021-07-02\", \"2021-07-06\", \"2021-07-07\", \"2021-07-08\", \"2021-07-09\", \"2021-07-12\", \"2021-07-13\", \"2021-07-14\", \"2021-07-15\", \"2021-07-16\", \"2021-07-19\", \"2021-07-20\", \"2021-07-21\", \"2021-07-22\", \"2021-07-23\", \"2021-07-26\", \"2021-07-27\", \"2021-07-28\", \"2021-07-29\", \"2021-07-30\", \"2021-08-02\", \"2021-08-03\", \"2021-08-04\", \"2021-08-05\", \"2021-08-06\", \"2021-08-09\", \"2021-08-10\", \"2021-08-11\", \"2021-08-12\", \"2021-08-13\", \"2021-08-16\", \"2021-08-17\", \"2021-08-18\", \"2021-08-19\", \"2021-08-20\", \"2021-08-23\", \"2021-08-24\", \"2021-08-25\", \"2021-08-26\", \"2021-08-27\", \"2021-08-30\", \"2021-08-31\", \"2021-09-01\", \"2021-09-02\", \"2021-09-03\", \"2021-09-07\", \"2021-09-08\", \"2021-09-09\", \"2021-09-10\", \"2021-09-13\", \"2021-09-14\", \"2021-09-15\", \"2021-09-16\", \"2021-09-17\", \"2021-09-20\", \"2021-09-21\", \"2021-09-22\", \"2021-09-23\", \"2021-09-24\", \"2021-09-27\", \"2021-09-28\", \"2021-09-29\", \"2021-09-30\", \"2021-10-01\", \"2021-10-04\", \"2021-10-05\", \"2021-10-06\", \"2021-10-07\", \"2021-10-08\", \"2021-10-11\", \"2021-10-12\", \"2021-10-13\", \"2021-10-14\", \"2021-10-15\", \"2021-10-18\", \"2021-10-19\", \"2021-10-20\", \"2021-10-21\", \"2021-10-22\", \"2021-10-25\", \"2021-10-26\", \"2021-10-27\", \"2021-10-28\", \"2021-10-29\", \"2021-11-01\", \"2021-11-02\", \"2021-11-03\", \"2021-11-04\", \"2021-11-05\", \"2021-11-08\", \"2021-11-09\", \"2021-11-10\", \"2021-11-11\", \"2021-11-12\"], \"xaxis\": \"x\", \"y\": [215.80220000000008, 216.21340000000012, 216.63440000000008, 217.1056000000001, 217.4992000000001, 217.89820000000012, 218.40920000000014, 218.99620000000013, 219.48040000000012, 220.03800000000012, 220.51220000000015, 220.85420000000013, 221.09200000000013, 221.45940000000013, 221.73100000000014, 221.90800000000013, 222.00520000000012, 222.1830000000001, 222.49180000000013, 222.71240000000012, 222.8184000000001, 222.9030000000001, 222.96840000000012, 222.98080000000013, 223.0800000000001, 223.1950000000001, 223.2424000000001, 223.31920000000008, 223.45200000000008, 223.84660000000008, 224.27980000000008, 224.6790000000001, 225.12040000000007, 225.5874000000001, 225.95780000000005, 226.31380000000004, 226.75480000000007, 227.21940000000006, 227.56380000000004, 227.84260000000003, 228.06160000000003, 228.31920000000002, 228.5134, 228.74939999999998, 229.0386, 229.3118, 229.597, 229.81779999999998, 229.9714, 230.1746, 230.38539999999998, 230.53939999999994, 230.76059999999995, 230.95259999999996, 231.14579999999995, 231.27979999999997, 231.38019999999995, 231.40039999999993, 231.57619999999994, 231.84379999999993, 232.1741999999999, 232.55239999999995, 232.73419999999996, 232.94579999999993, 233.29959999999994, 233.67279999999994, 234.24059999999997, 234.77079999999998, 235.25059999999996, 235.6606, 236.1076, 236.54359999999997, 236.81039999999996, 237.01679999999996, 237.16379999999998, 237.38759999999994, 237.67419999999996, 237.93699999999993, 238.15239999999994, 238.32099999999994, 238.36359999999996, 238.45439999999996, 238.55879999999996, 238.623, 238.6146, 238.5998, 238.548, 238.5316, 238.5348, 238.52700000000002, 238.5454, 238.55620000000002, 238.57260000000002, 238.46820000000002, 238.35200000000003, 238.14200000000005, 237.91940000000005, 237.69840000000008, 237.59840000000008, 237.42920000000007, 237.25100000000006, 237.04060000000004, 236.72860000000009, 236.41280000000006, 236.09940000000006, 235.80220000000006, 235.43380000000005, 235.07980000000003, 234.68780000000004, 234.3342, 233.99500000000003, 233.62460000000002, 233.32760000000002, 233.0072, 232.58900000000003, 232.3154, 231.8296, 231.3102, 230.8218, 230.49399999999997, 230.141, 229.71540000000002, 229.40079999999998, 229.10819999999995, 228.87839999999997, 228.694, 228.47899999999998, 228.34939999999997, 228.2164, 228.12, 228.10879999999997, 228.13339999999997, 228.06259999999995, 227.68759999999995, 227.25179999999997, 226.8558, 226.47779999999995, 225.97779999999995, 225.45499999999996, 224.97879999999998, 224.70179999999996, 224.45779999999996, 224.10099999999994, 223.83019999999993, 223.43619999999993, 223.19439999999992], \"yaxis\": \"y\"}, {\"mode\": \"lines\", \"name\": \"100MA\", \"type\": \"scatter\", \"x\": [\"2021-04-20\", \"2021-04-21\", \"2021-04-22\", \"2021-04-23\", \"2021-04-26\", \"2021-04-27\", \"2021-04-28\", \"2021-04-29\", \"2021-04-30\", \"2021-05-03\", \"2021-05-04\", \"2021-05-05\", \"2021-05-06\", \"2021-05-07\", \"2021-05-10\", \"2021-05-11\", \"2021-05-12\", \"2021-05-13\", \"2021-05-14\", \"2021-05-17\", \"2021-05-18\", \"2021-05-19\", \"2021-05-20\", \"2021-05-21\", \"2021-05-24\", \"2021-05-25\", \"2021-05-26\", \"2021-05-27\", \"2021-05-28\", \"2021-06-01\", \"2021-06-02\", \"2021-06-03\", \"2021-06-04\", \"2021-06-07\", \"2021-06-08\", \"2021-06-09\", \"2021-06-10\", \"2021-06-11\", \"2021-06-14\", \"2021-06-15\", \"2021-06-16\", \"2021-06-17\", \"2021-06-18\", \"2021-06-21\", \"2021-06-22\", \"2021-06-23\", \"2021-06-24\", \"2021-06-25\", \"2021-06-28\", \"2021-06-29\", \"2021-06-30\", \"2021-07-01\", \"2021-07-02\", \"2021-07-06\", \"2021-07-07\", \"2021-07-08\", \"2021-07-09\", \"2021-07-12\", \"2021-07-13\", \"2021-07-14\", \"2021-07-15\", \"2021-07-16\", \"2021-07-19\", \"2021-07-20\", \"2021-07-21\", \"2021-07-22\", \"2021-07-23\", \"2021-07-26\", \"2021-07-27\", \"2021-07-28\", \"2021-07-29\", \"2021-07-30\", \"2021-08-02\", \"2021-08-03\", \"2021-08-04\", \"2021-08-05\", \"2021-08-06\", \"2021-08-09\", \"2021-08-10\", \"2021-08-11\", \"2021-08-12\", \"2021-08-13\", \"2021-08-16\", \"2021-08-17\", \"2021-08-18\", \"2021-08-19\", \"2021-08-20\", \"2021-08-23\", \"2021-08-24\", \"2021-08-25\", \"2021-08-26\", \"2021-08-27\", \"2021-08-30\", \"2021-08-31\", \"2021-09-01\", \"2021-09-02\", \"2021-09-03\", \"2021-09-07\", \"2021-09-08\", \"2021-09-09\", \"2021-09-10\", \"2021-09-13\", \"2021-09-14\", \"2021-09-15\", \"2021-09-16\", \"2021-09-17\", \"2021-09-20\", \"2021-09-21\", \"2021-09-22\", \"2021-09-23\", \"2021-09-24\", \"2021-09-27\", \"2021-09-28\", \"2021-09-29\", \"2021-09-30\", \"2021-10-01\", \"2021-10-04\", \"2021-10-05\", \"2021-10-06\", \"2021-10-07\", \"2021-10-08\", \"2021-10-11\", \"2021-10-12\", \"2021-10-13\", \"2021-10-14\", \"2021-10-15\", \"2021-10-18\", \"2021-10-19\", \"2021-10-20\", \"2021-10-21\", \"2021-10-22\", \"2021-10-25\", \"2021-10-26\", \"2021-10-27\", \"2021-10-28\", \"2021-10-29\", \"2021-11-01\", \"2021-11-02\", \"2021-11-03\", \"2021-11-04\", \"2021-11-05\", \"2021-11-08\", \"2021-11-09\", \"2021-11-10\", \"2021-11-11\", \"2021-11-12\"], \"xaxis\": \"x\", \"y\": [211.95610000000008, 212.1338000000001, 212.3006000000001, 212.4906000000001, 212.6905000000001, 212.8776000000001, 213.1103000000001, 213.39840000000012, 213.60720000000012, 213.80680000000012, 213.9994000000001, 214.19570000000007, 214.43280000000007, 214.69160000000002, 214.87880000000004, 215.05000000000004, 215.17360000000005, 215.29920000000004, 215.45550000000003, 215.62980000000005, 215.82710000000003, 216.02000000000004, 216.19740000000002, 216.33880000000002, 216.4883, 216.59490000000002, 216.6783, 216.76930000000004, 216.89720000000005, 217.03730000000007, 217.19580000000005, 217.32240000000004, 217.49490000000006, 217.71950000000004, 217.94650000000004, 218.25100000000006, 218.57460000000006, 218.90760000000006, 219.18830000000008, 219.4667000000001, 219.74250000000006, 220.0542000000001, 220.3382000000001, 220.7317000000001, 221.1088000000001, 221.52310000000008, 221.9019000000001, 222.24900000000008, 222.5763000000001, 222.84330000000008, 223.09380000000007, 223.3764000000001, 223.6975000000001, 224.0291000000001, 224.3225000000001, 224.5890000000001, 224.8947000000001, 225.19830000000013, 225.52830000000012, 225.94090000000014, 226.34320000000014, 226.70330000000013, 226.91310000000013, 227.20260000000013, 227.51530000000014, 227.79040000000012, 228.12290000000013, 228.47690000000014, 228.87120000000013, 229.18650000000014, 229.4630000000001, 229.72330000000008, 229.8894000000001, 229.99880000000007, 230.12190000000007, 230.29130000000004, 230.45830000000007, 230.62810000000005, 230.80220000000006, 231.08380000000005, 231.32170000000005, 231.56670000000005, 231.83960000000008, 232.10520000000005, 232.28620000000006, 232.45680000000007, 232.65140000000008, 232.87550000000007, 233.04930000000007, 233.18480000000008, 233.30350000000007, 233.43770000000004, 233.54300000000003, 233.6088, 233.69529999999997, 233.7269, 233.7582, 233.7581, 233.78490000000002, 233.80190000000002, 233.81820000000005, 233.79000000000005, 233.74460000000002, 233.68270000000004, 233.62260000000006, 233.54100000000005, 233.40700000000004, 233.2401, 233.132, 233.08900000000003, 233.08460000000002, 233.0885, 233.03090000000003, 232.97650000000004, 232.94430000000003, 232.99410000000003, 233.03510000000003, 233.04049999999998, 233.03619999999998, 233.0773, 233.1243, 233.1295, 233.1056, 233.0625, 233.02110000000002, 233.04080000000002, 233.07660000000004, 233.14320000000004, 233.1844, 233.22050000000002, 233.23620000000003, 233.29390000000004, 233.31070000000003, 233.1553, 232.93320000000003, 232.72780000000003, 232.5129, 232.2547, 231.99489999999997, 231.75289999999998, 231.62359999999998, 231.50699999999998, 231.33679999999995, 231.14919999999998, 230.89409999999995, 230.66819999999996], \"yaxis\": \"y\"}, {\"mode\": \"lines\", \"name\": \"200MA\", \"type\": \"scatter\", \"x\": [\"2021-04-20\", \"2021-04-21\", \"2021-04-22\", \"2021-04-23\", \"2021-04-26\", \"2021-04-27\", \"2021-04-28\", \"2021-04-29\", \"2021-04-30\", \"2021-05-03\", \"2021-05-04\", \"2021-05-05\", \"2021-05-06\", \"2021-05-07\", \"2021-05-10\", \"2021-05-11\", \"2021-05-12\", \"2021-05-13\", \"2021-05-14\", \"2021-05-17\", \"2021-05-18\", \"2021-05-19\", \"2021-05-20\", \"2021-05-21\", \"2021-05-24\", \"2021-05-25\", \"2021-05-26\", \"2021-05-27\", \"2021-05-28\", \"2021-06-01\", \"2021-06-02\", \"2021-06-03\", \"2021-06-04\", \"2021-06-07\", \"2021-06-08\", \"2021-06-09\", \"2021-06-10\", \"2021-06-11\", \"2021-06-14\", \"2021-06-15\", \"2021-06-16\", \"2021-06-17\", \"2021-06-18\", \"2021-06-21\", \"2021-06-22\", \"2021-06-23\", \"2021-06-24\", \"2021-06-25\", \"2021-06-28\", \"2021-06-29\", \"2021-06-30\", \"2021-07-01\", \"2021-07-02\", \"2021-07-06\", \"2021-07-07\", \"2021-07-08\", \"2021-07-09\", \"2021-07-12\", \"2021-07-13\", \"2021-07-14\", \"2021-07-15\", \"2021-07-16\", \"2021-07-19\", \"2021-07-20\", \"2021-07-21\", \"2021-07-22\", \"2021-07-23\", \"2021-07-26\", \"2021-07-27\", \"2021-07-28\", \"2021-07-29\", \"2021-07-30\", \"2021-08-02\", \"2021-08-03\", \"2021-08-04\", \"2021-08-05\", \"2021-08-06\", \"2021-08-09\", \"2021-08-10\", \"2021-08-11\", \"2021-08-12\", \"2021-08-13\", \"2021-08-16\", \"2021-08-17\", \"2021-08-18\", \"2021-08-19\", \"2021-08-20\", \"2021-08-23\", \"2021-08-24\", \"2021-08-25\", \"2021-08-26\", \"2021-08-27\", \"2021-08-30\", \"2021-08-31\", \"2021-09-01\", \"2021-09-02\", \"2021-09-03\", \"2021-09-07\", \"2021-09-08\", \"2021-09-09\", \"2021-09-10\", \"2021-09-13\", \"2021-09-14\", \"2021-09-15\", \"2021-09-16\", \"2021-09-17\", \"2021-09-20\", \"2021-09-21\", \"2021-09-22\", \"2021-09-23\", \"2021-09-24\", \"2021-09-27\", \"2021-09-28\", \"2021-09-29\", \"2021-09-30\", \"2021-10-01\", \"2021-10-04\", \"2021-10-05\", \"2021-10-06\", \"2021-10-07\", \"2021-10-08\", \"2021-10-11\", \"2021-10-12\", \"2021-10-13\", \"2021-10-14\", \"2021-10-15\", \"2021-10-18\", \"2021-10-19\", \"2021-10-20\", \"2021-10-21\", \"2021-10-22\", \"2021-10-25\", \"2021-10-26\", \"2021-10-27\", \"2021-10-28\", \"2021-10-29\", \"2021-11-01\", \"2021-11-02\", \"2021-11-03\", \"2021-11-04\", \"2021-11-05\", \"2021-11-08\", \"2021-11-09\", \"2021-11-10\", \"2021-11-11\", \"2021-11-12\"], \"xaxis\": \"x\", \"y\": [206.0737999999999, 206.2222499999999, 206.3890999999999, 206.56374999999989, 206.7543999999999, 206.94119999999987, 207.1633499999999, 207.3809999999999, 207.56604999999985, 207.76159999999985, 207.94629999999987, 208.09999999999985, 208.27419999999984, 208.44049999999984, 208.58319999999986, 208.73484999999985, 208.85344999999984, 208.98844999999983, 209.13024999999982, 209.29214999999985, 209.46799999999985, 209.63749999999982, 209.80824999999982, 209.9615999999998, 210.11434999999983, 210.27764999999982, 210.42904999999982, 210.57449999999983, 210.71729999999985, 210.86254999999983, 211.02764999999985, 211.17104999999984, 211.32669999999985, 211.47834999999984, 211.61784999999986, 211.75874999999985, 211.89644999999982, 212.0307499999998, 212.14984999999982, 212.25959999999984, 212.32904999999985, 212.42984999999987, 212.5151499999999, 212.60434999999987, 212.73919999999987, 212.88929999999985, 213.06989999999985, 213.23619999999985, 213.39894999999981, 213.5752999999998, 213.71949999999978, 213.8682999999998, 214.0357999999998, 214.2074499999998, 214.3943999999998, 214.5901999999998, 214.77974999999984, 214.99224999999984, 215.22639999999984, 215.47009999999983, 215.71124999999986, 215.95464999999984, 216.15684999999988, 216.35359999999986, 216.56459999999987, 216.76759999999987, 217.01044999999988, 217.24934999999988, 217.48909999999987, 217.69059999999988, 217.89819999999986, 218.10854999999984, 218.29644999999985, 218.48414999999983, 218.6661999999998, 218.8823999999998, 219.10089999999983, 219.3087499999998, 219.50914999999983, 219.6943999999998, 219.8879999999998, 220.10094999999984, 220.37339999999983, 220.6216999999998, 220.8712999999998, 221.1054499999998, 221.32054999999983, 221.5213999999998, 221.7043999999998, 221.87499999999977, 221.96419999999978, 222.06109999999978, 222.15374999999983, 222.2579499999998, 222.3561499999998, 222.41354999999982, 222.48554999999982, 222.5777499999998, 222.68534999999977, 222.80339999999978, 222.8871499999998, 222.96189999999976, 223.02259999999976, 223.08664999999976, 223.15654999999978, 223.20929999999979, 223.2586499999998, 223.31924999999978, 223.36959999999976, 223.44789999999975, 223.54199999999975, 223.64209999999974, 223.73184999999972, 223.83404999999973, 223.91154999999972, 224.02204999999972, 224.10434999999976, 224.16984999999974, 224.24584999999976, 224.35354999999979, 224.4756999999998, 224.57474999999977, 224.6514999999998, 224.7006499999998, 224.7546999999998, 224.8178499999998, 224.87744999999978, 224.95624999999976, 225.04079999999973, 225.1288999999997, 225.21599999999972, 225.30814999999973, 225.40279999999973, 225.4373999999997, 225.43984999999972, 225.4893999999997, 225.5437499999997, 225.5811499999997, 225.59159999999966, 225.60979999999967, 225.68304999999967, 225.78059999999965, 225.83749999999964, 225.94044999999963, 226.0014499999996, 226.09564999999958], \"yaxis\": \"y\"}, {\"mode\": \"lines\", \"name\": \"RSI\", \"type\": \"scatter\", \"x\": [\"2021-04-20\", \"2021-04-21\", \"2021-04-22\", \"2021-04-23\", \"2021-04-26\", \"2021-04-27\", \"2021-04-28\", \"2021-04-29\", \"2021-04-30\", \"2021-05-03\", \"2021-05-04\", \"2021-05-05\", \"2021-05-06\", \"2021-05-07\", \"2021-05-10\", \"2021-05-11\", \"2021-05-12\", \"2021-05-13\", \"2021-05-14\", \"2021-05-17\", \"2021-05-18\", \"2021-05-19\", \"2021-05-20\", \"2021-05-21\", \"2021-05-24\", \"2021-05-25\", \"2021-05-26\", \"2021-05-27\", \"2021-05-28\", \"2021-06-01\", \"2021-06-02\", \"2021-06-03\", \"2021-06-04\", \"2021-06-07\", \"2021-06-08\", \"2021-06-09\", \"2021-06-10\", \"2021-06-11\", \"2021-06-14\", \"2021-06-15\", \"2021-06-16\", \"2021-06-17\", \"2021-06-18\", \"2021-06-21\", \"2021-06-22\", \"2021-06-23\", \"2021-06-24\", \"2021-06-25\", \"2021-06-28\", \"2021-06-29\", \"2021-06-30\", \"2021-07-01\", \"2021-07-02\", \"2021-07-06\", \"2021-07-07\", \"2021-07-08\", \"2021-07-09\", \"2021-07-12\", \"2021-07-13\", \"2021-07-14\", \"2021-07-15\", \"2021-07-16\", \"2021-07-19\", \"2021-07-20\", \"2021-07-21\", \"2021-07-22\", \"2021-07-23\", \"2021-07-26\", \"2021-07-27\", \"2021-07-28\", \"2021-07-29\", \"2021-07-30\", \"2021-08-02\"], \"xaxis\": \"x2\", \"y\": [\"58.4246\", \"64.3723\", \"64.5296\", \"67.6441\", \"68.0666\", \"66.8772\", \"71.3202\", \"74.8236\", \"66.3737\", \"64.1285\", \"62.7333\", \"56.3176\", \"59.6433\", \"60.86\", \"48.7036\", \"47.883\", \"40.5923\", \"46.7656\", \"51.8046\", \"50.9924\", \"49.5371\", \"47.8794\", \"51.1993\", \"51.7892\", \"56.1956\", \"55.5523\", \"51.431\", \"50.9923\", \"51.9178\", \"50.3583\", \"56.6937\", \"52.9696\", \"56.9574\", \"59.127\", \"60.455\", \"60.9417\", \"63.9554\", \"65.7102\", \"62.8397\", \"59.3496\", \"50.1354\", \"55.7207\", \"51.4832\", \"59.0243\", \"61.6665\", \"58.5119\", \"61.1808\", \"62.9575\", \"54.8693\", \"58.1996\", \"53.345\", \"55.8229\", \"61.5737\", \"63.0188\", \"63.6262\", \"55.3309\", \"58.5259\", \"57.107\", \"64.1049\", \"68.589\", \"71.3041\", \"70.2064\", \"54.1187\", \"57.2519\", \"58.5305\", \"59.1878\", \"65.2227\", \"66.5647\", \"67.3156\", \"58.9497\", \"60.2562\", \"57.1956\", \"46.2629\"], \"yaxis\": \"y2\"}, {\"mode\": \"markers+lines\", \"name\": \"Test\", \"type\": \"scatter\", \"x\": [\"2021-08-03\", \"2021-08-04\", \"2021-08-05\", \"2021-08-06\", \"2021-08-09\", \"2021-08-10\", \"2021-08-11\", \"2021-08-12\", \"2021-08-13\", \"2021-08-16\", \"2021-08-17\", \"2021-08-18\", \"2021-08-19\", \"2021-08-20\", \"2021-08-23\", \"2021-08-24\", \"2021-08-25\", \"2021-08-26\", \"2021-08-27\", \"2021-08-30\", \"2021-08-31\", \"2021-09-01\", \"2021-09-02\", \"2021-09-03\", \"2021-09-07\", \"2021-09-08\", \"2021-09-09\", \"2021-09-10\", \"2021-09-13\", \"2021-09-14\", \"2021-09-15\", \"2021-09-16\", \"2021-09-17\", \"2021-09-20\", \"2021-09-21\", \"2021-09-22\", \"2021-09-23\", \"2021-09-24\", \"2021-09-27\", \"2021-09-28\", \"2021-09-29\", \"2021-09-30\", \"2021-10-01\", \"2021-10-04\", \"2021-10-05\", \"2021-10-06\", \"2021-10-07\", \"2021-10-08\", \"2021-10-11\", \"2021-10-12\", \"2021-10-13\", \"2021-10-14\", \"2021-10-15\", \"2021-10-18\", \"2021-10-19\", \"2021-10-20\", \"2021-10-21\", \"2021-10-22\", \"2021-10-25\", \"2021-10-26\", \"2021-10-27\", \"2021-10-28\", \"2021-10-29\", \"2021-11-01\", \"2021-11-02\", \"2021-11-03\", \"2021-11-04\", \"2021-11-05\", \"2021-11-08\", \"2021-11-09\", \"2021-11-10\", \"2021-11-11\", \"2021-11-12\"], \"xaxis\": \"x2\", \"y\": [\"42.6869\", \"42.1392\", \"48.1747\", \"50.0606\", \"47.8544\", \"44.9156\", \"40.716\", \"37.0589\", \"38.7874\", \"44.0058\", \"42.8023\", \"38.8086\", \"38.7281\", \"38.4276\", \"44.5602\", \"44.7733\", \"41.9109\", \"38.5788\", \"43.6377\", \"41.1801\", \"37.8326\", \"40.3339\", \"32.207\", \"34.4345\", \"37.2059\", \"43.4626\", \"40.9684\", \"37.2557\", \"36.8652\", \"34.6316\", \"36.6468\", \"38.0187\", \"34.076\", \"31.7403\", \"32.0942\", \"39.3708\", \"51.4459\", \"56.8994\", \"53.0093\", \"46.116\", \"48.1298\", \"42.1738\", \"54.1589\", \"46.4531\", \"45.9008\", \"49.1289\", \"54.4335\", \"54.0131\", \"46.8348\", \"45.4971\", \"43.4905\", \"47.7369\", \"55.4396\", \"54.9294\", \"58.4088\", \"55.0594\", \"53.2129\", \"54.5889\", \"58.1379\", \"54.5678\", \"36.0198\", \"31.7199\", \"34.4577\", \"35.4541\", \"32.8651\", \"32.075\", \"33.2057\", \"44.7075\", \"49.2629\", \"42.2891\", \"45.2794\", \"40.6862\", \"42.7193\"], \"yaxis\": \"y2\"}, {\"mode\": \"lines\", \"name\": \"Prediction\", \"type\": \"scatter\", \"x\": [\"2021-08-03\", \"2021-08-04\", \"2021-08-05\", \"2021-08-06\", \"2021-08-09\", \"2021-08-10\", \"2021-08-11\", \"2021-08-12\", \"2021-08-13\", \"2021-08-16\", \"2021-08-17\", \"2021-08-18\", \"2021-08-19\", \"2021-08-20\", \"2021-08-23\", \"2021-08-24\", \"2021-08-25\", \"2021-08-26\", \"2021-08-27\", \"2021-08-30\", \"2021-08-31\", \"2021-09-01\", \"2021-09-02\", \"2021-09-03\", \"2021-09-07\", \"2021-09-08\", \"2021-09-09\", \"2021-09-10\", \"2021-09-13\", \"2021-09-14\", \"2021-09-15\", \"2021-09-16\", \"2021-09-17\", \"2021-09-20\", \"2021-09-21\", \"2021-09-22\", \"2021-09-23\", \"2021-09-24\", \"2021-09-27\", \"2021-09-28\", \"2021-09-29\", \"2021-09-30\", \"2021-10-01\", \"2021-10-04\", \"2021-10-05\", \"2021-10-06\", \"2021-10-07\", \"2021-10-08\", \"2021-10-11\", \"2021-10-12\", \"2021-10-13\", \"2021-10-14\", \"2021-10-15\", \"2021-10-18\", \"2021-10-19\", \"2021-10-20\", \"2021-10-21\", \"2021-10-22\", \"2021-10-25\", \"2021-10-26\", \"2021-10-27\", \"2021-10-28\", \"2021-10-29\", \"2021-11-01\", \"2021-11-02\", \"2021-11-03\", \"2021-11-04\", \"2021-11-05\", \"2021-11-08\", \"2021-11-09\", \"2021-11-10\", \"2021-11-11\", \"2021-11-12\"], \"xaxis\": \"x2\", \"y\": [48.05725860595703, 47.811302185058594, 47.6136474609375, 47.41450500488281, 47.26541519165039, 47.209983825683594, 47.22987365722656, 47.293766021728516, 47.363162994384766, 47.32674789428711, 47.14350891113281, 46.91691207885742, 46.719932556152344, 46.533729553222656, 46.3731803894043, 46.1728515625, 46.00367736816406, 45.8853759765625, 45.809722900390625, 45.66461944580078, 45.53154373168945, 45.39345169067383, 45.20423126220703, 45.18082809448242, 45.280731201171875, 45.56755447387695, 45.99197769165039, 46.61532211303711, 47.33821105957031, 48.074825286865234, 48.792362213134766, 49.387786865234375, 49.86476516723633, 50.3140869140625, 50.72526550292969, 51.045223236083984, 51.19066619873047, 51.13764190673828, 51.007633209228516, 50.95406723022461, 51.025970458984375, 51.148643493652344, 51.420021057128906, 51.62087631225586, 51.973941802978516, 52.36044692993164, 52.716861724853516, 52.91455841064453, 52.90196990966797, 52.680023193359375, 52.162513732910156, 51.393375396728516, 50.374839782714844, 49.18866729736328, 48.07640838623047, 47.13014602661133, 46.47896957397461, 46.11308670043945, 45.961700439453125], \"yaxis\": \"y2\"}, {\"mode\": \"markers+lines\", \"name\": \"Forecast\", \"type\": \"scatter\", \"x\": [\"2021-11-12T00:00:00\", \"2021-11-15T00:00:00\", \"2021-11-16T00:00:00\", \"2021-11-17T00:00:00\", \"2021-11-18T00:00:00\", \"2021-11-19T00:00:00\", \"2021-11-22T00:00:00\", \"2021-11-23T00:00:00\", \"2021-11-24T00:00:00\", \"2021-11-26T00:00:00\", \"2021-11-29T00:00:00\", \"2021-11-30T00:00:00\", \"2021-12-01T00:00:00\", \"2021-12-02T00:00:00\", \"2021-12-03T00:00:00\"], \"xaxis\": \"x2\", \"y\": [42.7193, 45.962461973932385, 46.16011070259512, 46.66898639582098, 47.22361786079407, 47.71459154560268, 48.16940811676383, 48.625878667733076, 49.046790511232615, 49.40858093941212, 49.620714071023464, 49.81006688298583, 50.101224939742686, 50.347606603807215, 50.63384918124676], \"yaxis\": \"y2\"}, {\"line\": {\"color\": \"rgb(100, 10, 100)\", \"dash\": \"dash\", \"shape\": \"linear\"}, \"mode\": \"lines\", \"type\": \"scatter\", \"x\": [\"2021-04-20\", \"2021-12-03T00:00:00\"], \"xaxis\": \"x2\", \"y\": [70, 70], \"yaxis\": \"y2\"}, {\"line\": {\"color\": \"rgb(10, 12, 240)\", \"dash\": \"dash\", \"shape\": \"linear\"}, \"mode\": \"lines\", \"type\": \"scatter\", \"x\": [\"2021-04-20\", \"2021-12-03T00:00:00\"], \"xaxis\": \"x2\", \"y\": [50, 50], \"yaxis\": \"y2\"}, {\"line\": {\"color\": \"rgb(10, 120, 24)\", \"dash\": \"dash\", \"shape\": \"linear\"}, \"mode\": \"lines\", \"type\": \"scatter\", \"x\": [\"2021-04-20\", \"2021-12-03T00:00:00\"], \"xaxis\": \"x2\", \"y\": [30, 30], \"yaxis\": \"y2\"}],\n",
              "                        {\"annotations\": [{\"font\": {\"size\": 16}, \"showarrow\": false, \"text\": \"<a href=\\\"https://in.tradingview.com/chart/66XmQfYy/?symbol=V\\\">V</a> Date:2021-11-12 Open:211.5 High:211.434 Low:213.58 Close:212.09\", \"x\": 0.5, \"xanchor\": \"center\", \"xref\": \"paper\", \"y\": 1.0, \"yanchor\": \"bottom\", \"yref\": \"paper\"}, {\"font\": {\"size\": 16}, \"showarrow\": false, \"text\": \"<a href=\\\"https://in.tradingview.com/chart/66XmQfYy/?symbol=V\\\">V</a> RSI(14) Date:2021-11-12 Close:42.7193 Forecast(14):48.0\", \"x\": 0.5, \"xanchor\": \"center\", \"xref\": \"paper\", \"y\": 0.30000000000000004, \"yanchor\": \"bottom\", \"yref\": \"paper\"}], \"height\": 650, \"template\": {\"data\": {\"bar\": [{\"error_x\": {\"color\": \"#2a3f5f\"}, \"error_y\": {\"color\": \"#2a3f5f\"}, \"marker\": {\"line\": {\"color\": \"#E5ECF6\", \"width\": 0.5}}, \"type\": \"bar\"}], \"barpolar\": [{\"marker\": {\"line\": {\"color\": \"#E5ECF6\", \"width\": 0.5}}, \"type\": \"barpolar\"}], \"carpet\": [{\"aaxis\": {\"endlinecolor\": \"#2a3f5f\", \"gridcolor\": \"white\", \"linecolor\": \"white\", \"minorgridcolor\": \"white\", \"startlinecolor\": \"#2a3f5f\"}, \"baxis\": {\"endlinecolor\": \"#2a3f5f\", \"gridcolor\": \"white\", \"linecolor\": \"white\", \"minorgridcolor\": \"white\", \"startlinecolor\": \"#2a3f5f\"}, \"type\": \"carpet\"}], \"choropleth\": [{\"colorbar\": {\"outlinewidth\": 0, \"ticks\": \"\"}, \"type\": \"choropleth\"}], \"contour\": [{\"colorbar\": {\"outlinewidth\": 0, \"ticks\": \"\"}, \"colorscale\": [[0.0, \"#0d0887\"], [0.1111111111111111, \"#46039f\"], [0.2222222222222222, \"#7201a8\"], [0.3333333333333333, \"#9c179e\"], [0.4444444444444444, \"#bd3786\"], [0.5555555555555556, \"#d8576b\"], [0.6666666666666666, \"#ed7953\"], [0.7777777777777778, \"#fb9f3a\"], [0.8888888888888888, \"#fdca26\"], [1.0, \"#f0f921\"]], \"type\": \"contour\"}], \"contourcarpet\": [{\"colorbar\": {\"outlinewidth\": 0, \"ticks\": \"\"}, \"type\": \"contourcarpet\"}], \"heatmap\": [{\"colorbar\": {\"outlinewidth\": 0, \"ticks\": \"\"}, \"colorscale\": [[0.0, \"#0d0887\"], [0.1111111111111111, \"#46039f\"], [0.2222222222222222, \"#7201a8\"], [0.3333333333333333, \"#9c179e\"], [0.4444444444444444, \"#bd3786\"], [0.5555555555555556, \"#d8576b\"], [0.6666666666666666, \"#ed7953\"], [0.7777777777777778, \"#fb9f3a\"], [0.8888888888888888, \"#fdca26\"], [1.0, \"#f0f921\"]], \"type\": \"heatmap\"}], \"heatmapgl\": [{\"colorbar\": {\"outlinewidth\": 0, \"ticks\": \"\"}, \"colorscale\": [[0.0, \"#0d0887\"], [0.1111111111111111, \"#46039f\"], [0.2222222222222222, \"#7201a8\"], [0.3333333333333333, \"#9c179e\"], [0.4444444444444444, \"#bd3786\"], [0.5555555555555556, \"#d8576b\"], [0.6666666666666666, \"#ed7953\"], [0.7777777777777778, \"#fb9f3a\"], [0.8888888888888888, \"#fdca26\"], [1.0, \"#f0f921\"]], \"type\": \"heatmapgl\"}], \"histogram\": [{\"marker\": {\"colorbar\": {\"outlinewidth\": 0, \"ticks\": \"\"}}, \"type\": \"histogram\"}], \"histogram2d\": [{\"colorbar\": {\"outlinewidth\": 0, \"ticks\": \"\"}, \"colorscale\": [[0.0, \"#0d0887\"], [0.1111111111111111, \"#46039f\"], [0.2222222222222222, \"#7201a8\"], [0.3333333333333333, \"#9c179e\"], [0.4444444444444444, \"#bd3786\"], [0.5555555555555556, \"#d8576b\"], [0.6666666666666666, \"#ed7953\"], [0.7777777777777778, \"#fb9f3a\"], [0.8888888888888888, \"#fdca26\"], [1.0, \"#f0f921\"]], \"type\": \"histogram2d\"}], \"histogram2dcontour\": [{\"colorbar\": {\"outlinewidth\": 0, \"ticks\": \"\"}, \"colorscale\": [[0.0, \"#0d0887\"], [0.1111111111111111, \"#46039f\"], [0.2222222222222222, \"#7201a8\"], [0.3333333333333333, \"#9c179e\"], [0.4444444444444444, \"#bd3786\"], [0.5555555555555556, \"#d8576b\"], [0.6666666666666666, \"#ed7953\"], [0.7777777777777778, \"#fb9f3a\"], [0.8888888888888888, \"#fdca26\"], [1.0, \"#f0f921\"]], \"type\": \"histogram2dcontour\"}], \"mesh3d\": [{\"colorbar\": {\"outlinewidth\": 0, \"ticks\": \"\"}, \"type\": \"mesh3d\"}], \"parcoords\": [{\"line\": {\"colorbar\": {\"outlinewidth\": 0, \"ticks\": \"\"}}, \"type\": \"parcoords\"}], \"pie\": [{\"automargin\": true, \"type\": \"pie\"}], \"scatter\": [{\"marker\": {\"colorbar\": {\"outlinewidth\": 0, \"ticks\": \"\"}}, \"type\": \"scatter\"}], \"scatter3d\": [{\"line\": {\"colorbar\": {\"outlinewidth\": 0, \"ticks\": \"\"}}, \"marker\": {\"colorbar\": {\"outlinewidth\": 0, \"ticks\": \"\"}}, \"type\": \"scatter3d\"}], \"scattercarpet\": [{\"marker\": {\"colorbar\": {\"outlinewidth\": 0, \"ticks\": \"\"}}, \"type\": \"scattercarpet\"}], \"scattergeo\": [{\"marker\": {\"colorbar\": {\"outlinewidth\": 0, \"ticks\": \"\"}}, \"type\": \"scattergeo\"}], \"scattergl\": [{\"marker\": {\"colorbar\": {\"outlinewidth\": 0, \"ticks\": \"\"}}, \"type\": \"scattergl\"}], \"scattermapbox\": [{\"marker\": {\"colorbar\": {\"outlinewidth\": 0, \"ticks\": \"\"}}, \"type\": \"scattermapbox\"}], \"scatterpolar\": [{\"marker\": {\"colorbar\": {\"outlinewidth\": 0, \"ticks\": \"\"}}, \"type\": \"scatterpolar\"}], \"scatterpolargl\": [{\"marker\": {\"colorbar\": {\"outlinewidth\": 0, \"ticks\": \"\"}}, \"type\": \"scatterpolargl\"}], \"scatterternary\": [{\"marker\": {\"colorbar\": {\"outlinewidth\": 0, \"ticks\": \"\"}}, \"type\": \"scatterternary\"}], \"surface\": [{\"colorbar\": {\"outlinewidth\": 0, \"ticks\": \"\"}, \"colorscale\": [[0.0, \"#0d0887\"], [0.1111111111111111, \"#46039f\"], [0.2222222222222222, \"#7201a8\"], [0.3333333333333333, \"#9c179e\"], [0.4444444444444444, \"#bd3786\"], [0.5555555555555556, \"#d8576b\"], [0.6666666666666666, \"#ed7953\"], [0.7777777777777778, \"#fb9f3a\"], [0.8888888888888888, \"#fdca26\"], [1.0, \"#f0f921\"]], \"type\": \"surface\"}], \"table\": [{\"cells\": {\"fill\": {\"color\": \"#EBF0F8\"}, \"line\": {\"color\": \"white\"}}, \"header\": {\"fill\": {\"color\": \"#C8D4E3\"}, \"line\": {\"color\": \"white\"}}, \"type\": \"table\"}]}, \"layout\": {\"annotationdefaults\": {\"arrowcolor\": \"#2a3f5f\", \"arrowhead\": 0, \"arrowwidth\": 1}, \"coloraxis\": {\"colorbar\": {\"outlinewidth\": 0, \"ticks\": \"\"}}, \"colorscale\": {\"diverging\": [[0, \"#8e0152\"], [0.1, \"#c51b7d\"], [0.2, \"#de77ae\"], [0.3, \"#f1b6da\"], [0.4, \"#fde0ef\"], [0.5, \"#f7f7f7\"], [0.6, \"#e6f5d0\"], [0.7, \"#b8e186\"], [0.8, \"#7fbc41\"], [0.9, \"#4d9221\"], [1, \"#276419\"]], \"sequential\": [[0.0, \"#0d0887\"], [0.1111111111111111, \"#46039f\"], [0.2222222222222222, \"#7201a8\"], [0.3333333333333333, \"#9c179e\"], [0.4444444444444444, \"#bd3786\"], [0.5555555555555556, \"#d8576b\"], [0.6666666666666666, \"#ed7953\"], [0.7777777777777778, \"#fb9f3a\"], [0.8888888888888888, \"#fdca26\"], [1.0, \"#f0f921\"]], \"sequentialminus\": [[0.0, \"#0d0887\"], [0.1111111111111111, \"#46039f\"], [0.2222222222222222, \"#7201a8\"], [0.3333333333333333, \"#9c179e\"], [0.4444444444444444, \"#bd3786\"], [0.5555555555555556, \"#d8576b\"], [0.6666666666666666, \"#ed7953\"], [0.7777777777777778, \"#fb9f3a\"], [0.8888888888888888, \"#fdca26\"], [1.0, \"#f0f921\"]]}, \"colorway\": [\"#636efa\", \"#EF553B\", \"#00cc96\", \"#ab63fa\", \"#FFA15A\", \"#19d3f3\", \"#FF6692\", \"#B6E880\", \"#FF97FF\", \"#FECB52\"], \"font\": {\"color\": \"#2a3f5f\"}, \"geo\": {\"bgcolor\": \"white\", \"lakecolor\": \"white\", \"landcolor\": \"#E5ECF6\", \"showlakes\": true, \"showland\": true, \"subunitcolor\": \"white\"}, \"hoverlabel\": {\"align\": \"left\"}, \"hovermode\": \"closest\", \"mapbox\": {\"style\": \"light\"}, \"paper_bgcolor\": \"white\", \"plot_bgcolor\": \"#E5ECF6\", \"polar\": {\"angularaxis\": {\"gridcolor\": \"white\", \"linecolor\": \"white\", \"ticks\": \"\"}, \"bgcolor\": \"#E5ECF6\", \"radialaxis\": {\"gridcolor\": \"white\", \"linecolor\": \"white\", \"ticks\": \"\"}}, \"scene\": {\"xaxis\": {\"backgroundcolor\": \"#E5ECF6\", \"gridcolor\": \"white\", \"gridwidth\": 2, \"linecolor\": \"white\", \"showbackground\": true, \"ticks\": \"\", \"zerolinecolor\": \"white\"}, \"yaxis\": {\"backgroundcolor\": \"#E5ECF6\", \"gridcolor\": \"white\", \"gridwidth\": 2, \"linecolor\": \"white\", \"showbackground\": true, \"ticks\": \"\", \"zerolinecolor\": \"white\"}, \"zaxis\": {\"backgroundcolor\": \"#E5ECF6\", \"gridcolor\": \"white\", \"gridwidth\": 2, \"linecolor\": \"white\", \"showbackground\": true, \"ticks\": \"\", \"zerolinecolor\": \"white\"}}, \"shapedefaults\": {\"line\": {\"color\": \"#2a3f5f\"}}, \"ternary\": {\"aaxis\": {\"gridcolor\": \"white\", \"linecolor\": \"white\", \"ticks\": \"\"}, \"baxis\": {\"gridcolor\": \"white\", \"linecolor\": \"white\", \"ticks\": \"\"}, \"bgcolor\": \"#E5ECF6\", \"caxis\": {\"gridcolor\": \"white\", \"linecolor\": \"white\", \"ticks\": \"\"}}, \"title\": {\"x\": 0.05}, \"xaxis\": {\"automargin\": true, \"gridcolor\": \"white\", \"linecolor\": \"white\", \"ticks\": \"\", \"title\": {\"standoff\": 15}, \"zerolinecolor\": \"white\", \"zerolinewidth\": 2}, \"yaxis\": {\"automargin\": true, \"gridcolor\": \"white\", \"linecolor\": \"white\", \"ticks\": \"\", \"title\": {\"standoff\": 15}, \"zerolinecolor\": \"white\", \"zerolinewidth\": 2}}}, \"xaxis\": {\"anchor\": \"y\", \"domain\": [0.0, 1.0], \"rangeslider\": {\"visible\": false}, \"showspikes\": true, \"spikedash\": \"dash\", \"spikemode\": \"across\", \"spikesnap\": \"cursor\"}, \"xaxis2\": {\"anchor\": \"y2\", \"domain\": [0.0, 1.0], \"showspikes\": true, \"spikedash\": \"dash\", \"spikemode\": \"across\", \"spikesnap\": \"cursor\"}, \"yaxis\": {\"anchor\": \"x\", \"domain\": [0.55, 1.0], \"showspikes\": true, \"spikedash\": \"dash\", \"spikemode\": \"across\", \"spikesnap\": \"cursor\"}, \"yaxis2\": {\"anchor\": \"x2\", \"domain\": [0.0, 0.30000000000000004], \"showspikes\": true, \"spikedash\": \"dash\", \"spikemode\": \"across\", \"spikesnap\": \"cursor\"}},\n",
              "                        {\"responsive\": true}\n",
              "                    ).then(function(){\n",
              "                            \n",
              "var gd = document.getElementById('592c1b72-0033-4677-88ec-58508cf3e467');\n",
              "var x = new MutationObserver(function (mutations, observer) {{\n",
              "        var display = window.getComputedStyle(gd).display;\n",
              "        if (!display || display === 'none') {{\n",
              "            console.log([gd, 'removed!']);\n",
              "            Plotly.purge(gd);\n",
              "            observer.disconnect();\n",
              "        }}\n",
              "}});\n",
              "\n",
              "// Listen for the removal of the full notebook cells\n",
              "var notebookContainer = gd.closest('#notebook-container');\n",
              "if (notebookContainer) {{\n",
              "    x.observe(notebookContainer, {childList: true});\n",
              "}}\n",
              "\n",
              "// Listen for the clearing of the current output cell\n",
              "var outputEl = gd.closest('.output');\n",
              "if (outputEl) {{\n",
              "    x.observe(outputEl, {childList: true});\n",
              "}}\n",
              "\n",
              "                        })\n",
              "                };\n",
              "                \n",
              "            </script>\n",
              "        </div>\n",
              "</body>\n",
              "</html>"
            ]
          },
          "metadata": {}
        }
      ]
    }
  ]
}