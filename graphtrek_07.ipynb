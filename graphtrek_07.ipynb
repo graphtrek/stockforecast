{
  "nbformat": 4,
  "nbformat_minor": 0,
  "metadata": {
    "colab": {
      "name": "graphtrek_07.ipynb",
      "provenance": [],
      "mount_file_id": "https://github.com/graphtrek/stockforecast/blob/main/graphtrek_07.ipynb",
      "authorship_tag": "ABX9TyPZtG2i9BxlDCPvTqiVNaA5",
      "include_colab_link": true
    },
    "kernelspec": {
      "name": "python3",
      "display_name": "Python 3"
    },
    "language_info": {
      "name": "python"
    }
  },
  "cells": [
    {
      "cell_type": "markdown",
      "metadata": {
        "id": "view-in-github",
        "colab_type": "text"
      },
      "source": [
        "<a href=\"https://colab.research.google.com/github/graphtrek/stockforecast/blob/main/graphtrek_07.ipynb\" target=\"_parent\"><img src=\"https://colab.research.google.com/assets/colab-badge.svg\" alt=\"Open In Colab\"/></a>"
      ]
    },
    {
      "cell_type": "code",
      "metadata": {
        "id": "sZPC3Z9u3evF"
      },
      "source": [
        "import numpy as np\n",
        "from tensorflow.keras.models import Sequential\n",
        "from tensorflow.keras.layers import LSTM\n",
        "from tensorflow.keras.optimizers import Adam\n",
        "from tensorflow.keras.losses import MAE\n",
        "from tensorflow.keras.layers import Dense, Dropout\n",
        "from tensorflow import keras\n",
        "from datetime import datetime, timedelta\n",
        "import pandas as pd\n",
        "import os, time\n",
        "from matplotlib import pyplot as plt\n",
        "from sklearn.preprocessing import StandardScaler\n",
        "import seaborn as sns\n",
        "import plotly.graph_objects as go\n",
        "import plotly.express as px\n",
        "from sklearn.preprocessing import MinMaxScaler\n",
        "from pandas.tseries.holiday import USFederalHolidayCalendar\n",
        "from pandas.tseries.offsets import CustomBusinessDay\n",
        "from keras.preprocessing.sequence import TimeseriesGenerator\n",
        "from tensorflow.keras.models import Sequential\n",
        "from tensorflow.keras.layers import LSTM\n",
        "from tensorflow.keras.optimizers import Adam\n",
        "from tensorflow.keras.losses import MAE\n",
        "from tensorflow.keras.layers import Dense, Dropout\n",
        "from tensorflow import keras\n",
        "from datetime import datetime, timedelta\n",
        "import pandas as pd\n",
        "import os, time\n",
        "from matplotlib import pyplot as plt\n",
        "from sklearn.preprocessing import StandardScaler\n",
        "import seaborn as sns\n",
        "import plotly.graph_objects as go\n",
        "import plotly.express as px\n",
        "from sklearn.preprocessing import MinMaxScaler\n",
        "from pandas.tseries.holiday import USFederalHolidayCalendar\n",
        "from pandas.tseries.offsets import CustomBusinessDay\n",
        "from keras.preprocessing.sequence import TimeseriesGenerator"
      ],
      "execution_count": 83,
      "outputs": []
    },
    {
      "cell_type": "code",
      "metadata": {
        "id": "HKYStAEQ3mh6"
      },
      "source": [
        "ticker = \"QQQ\" # QQQ, SPY, VTI JETS, XLE, XLF, XLNX, ARKK, ARKG, ARQ, ARKF\n",
        "look_back = 14 #  number of past days we want to use to predict 1 day in the future.\n",
        "max_data_size = 730 # ~2 years\n",
        "split_percent = 0.90 # use 90% of the data  for train\n",
        "INFO = 1\n",
        "DEBUG = 2\n",
        "TRACE = 3\n",
        "print_level = DEBUG \n",
        "indicators_model_file_path = '/content/drive/MyDrive/models/' + ticker + '_' + str(look_back) + '_indicators_07.h5'\n",
        "nr_of_features = 1\n",
        "look_forward = 1\n",
        "epochs = 200\n",
        "learning_rate=0.0001\n",
        "num_prediction = look_back * 3\n",
        "np.random.seed(42)"
      ],
      "execution_count": 84,
      "outputs": []
    },
    {
      "cell_type": "code",
      "metadata": {
        "id": "tPJ9HBOO3-2-",
        "colab": {
          "base_uri": "https://localhost:8080/"
        },
        "outputId": "2137a7b8-7224-4d41-8457-e198c2f7f17b"
      },
      "source": [
        "rsi_url = 'https://www.alphavantage.co/query?function=RSI&datatype=json&symbol='+ticker+'&interval=daily&time_period='+str(look_back)+'&series_type=close&apikey=3F4URDEKOPLFH25T'\n",
        "print(rsi_url)\n",
        "rsi_api_response = pd.read_json(rsi_url)\n",
        "#print(rsi_api_response)\n",
        "rsi_api_data = rsi_api_response['Technical Analysis: RSI']\n",
        "#print(rsi_api_data)\n",
        "rsi_api_data = rsi_api_data.drop(\n",
        "    index=['1: Symbol','2: Indicator','3: Last Refreshed','4: Interval','5: Time Period','6: Series Type','7: Time Zone']);\n",
        "#print(rsi_api_data)\n",
        "\n",
        "rsi_data = []\n",
        "indicators_lstm_data = []\n",
        "for key, value in rsi_api_data.items():\n",
        "  date = key\n",
        "  rsi = float(value.get('RSI'))\n",
        "  rsi_data.append([date,rsi])\n",
        "  indicators_lstm_data.append([rsi])\n",
        "\n",
        "last_rsi_data =  str(rsi_data[0])\n",
        "first_rsi_data =  str(rsi_data[-1])\n",
        "print('rsi_data_length:', len(rsi_data), 'first_rsi_data:', first_rsi_data, 'last_rsi_data:', last_rsi_data)  "
      ],
      "execution_count": 85,
      "outputs": [
        {
          "output_type": "stream",
          "name": "stdout",
          "text": [
            "https://www.alphavantage.co/query?function=RSI&datatype=json&symbol=QQQ&interval=daily&time_period=14&series_type=close&apikey=3F4URDEKOPLFH25T\n",
            "rsi_data_length: 5532 first_rsi_data: ['1999-11-19', 88.2353] last_rsi_data: ['2021-11-12', 65.821]\n"
          ]
        }
      ]
    },
    {
      "cell_type": "code",
      "metadata": {
        "colab": {
          "base_uri": "https://localhost:8080/"
        },
        "id": "gTTORjJJ22lE",
        "outputId": "9b38fcf9-4226-4abf-8808-a9133cec9cc5"
      },
      "source": [
        "stock_url = 'https://www.alphavantage.co/query?function=TIME_SERIES_DAILY_ADJUSTED&symbol='+ticker+'&outputsize=full&apikey=3F4URDEKOPLFH25T'\n",
        "print(stock_url)\n",
        "stock_api_response = pd.read_json(stock_url)\n",
        "stock_api_data = stock_api_response['Time Series (Daily)']\n",
        "#print(stock_api_data)\n",
        "stock_api_data = stock_api_data.drop(index=['1. Information','2. Symbol','3. Last Refreshed','4. Output Size','5. Time Zone']);\n",
        "\n",
        "stock_data = []\n",
        "split_coefficient = 1\n",
        "\n",
        "for key, value in stock_api_data.items():\n",
        "  date = key\n",
        "  open = float(value.get('1. open'))\n",
        "  high = float(value.get('2. high'))\n",
        "  low = float(value.get('3. low'))\n",
        "  close = float(value.get('4. close'))\n",
        "  adjusted_close = float(value.get('5. adjusted close'))\n",
        "  volume = int(value.get('6. volume'))\n",
        "  divident = float(value.get('7. dividend amount'))\n",
        "\n",
        "  if float(value.get('8. split coefficient')) > 1:\n",
        "    split_coefficient = float(value.get('8. split coefficient'))\n",
        "    \n",
        "  open = open / split_coefficient\n",
        "  high = high /split_coefficient\n",
        "  close = close / split_coefficient\n",
        "  low = low / split_coefficient\n",
        "  \n",
        "  stock_data.append([\n",
        "      date,\n",
        "      close,\n",
        "      volume,\n",
        "      high,\n",
        "      low,\n",
        "      open,\n",
        "      divident\n",
        "      ])\n",
        "\n",
        "last_date =  str(stock_data[0][0])\n",
        "print('data length:', len(stock_data), 'last_date:', last_date)\n",
        "\n",
        "last_stock_data =  str(stock_data[0])\n",
        "first_stock_data =  str(stock_data[-1])\n",
        "print('stock_data_length:', len(stock_data), 'first_stock_data:', first_stock_data, 'last_stock_data:', last_stock_data)"
      ],
      "execution_count": 86,
      "outputs": [
        {
          "output_type": "stream",
          "name": "stdout",
          "text": [
            "https://www.alphavantage.co/query?function=TIME_SERIES_DAILY_ADJUSTED&symbol=QQQ&outputsize=full&apikey=3F4URDEKOPLFH25T\n",
            "data length: 5546 last_date: 2021-11-12\n",
            "stock_data_length: 5546 first_stock_data: ['1999-11-01', 65.4, 4840900, 66.55, 65.3, 65.75, 0.0] last_stock_data: ['2021-11-12', 394.7, 32532903, 395.25, 390.13, 391.77, 0.0]\n"
          ]
        }
      ]
    },
    {
      "cell_type": "code",
      "metadata": {
        "id": "GzJkdoRGuYmf"
      },
      "source": [
        "if max_data_size < len(rsi_data):\n",
        "  rsi_data = np.flip(rsi_data[:max_data_size],axis=0)\n",
        "  stock_data = np.flip(stock_data[:max_data_size],axis=0)\n",
        "  indicators_lstm_data = np.flip(indicators_lstm_data[:max_data_size],axis=0)\n",
        "else:\n",
        "  rsi_data = np.flip(rsi_data,axis=0)\n",
        "  stock_data = np.flip(stock_data,axis=0)\n",
        "  indicators_lstm_data = np.flip(indicators_lstm_data,axis=0)"
      ],
      "execution_count": 87,
      "outputs": []
    },
    {
      "cell_type": "code",
      "metadata": {
        "id": "xHrOFKHo3ocW"
      },
      "source": [
        "stock_df = pd.DataFrame(stock_data,columns=['Date','Close','Volume','High','Low','Open','Divident'])\n",
        "stock_df['50MA'] = stock_df['Close'].rolling(50).mean()\n",
        "stock_df['100MA'] = stock_df['Close'].rolling(100).mean()\n",
        "stock_df['200MA'] = stock_df['Close'].rolling(200).mean()"
      ],
      "execution_count": 88,
      "outputs": []
    },
    {
      "cell_type": "code",
      "metadata": {
        "id": "OYTx2W6N4JIM"
      },
      "source": [
        "indicators_df = pd.DataFrame(rsi_data,columns=['Date','RSI'])\n",
        "\n",
        "split = int(split_percent*len(rsi_data))\n",
        "if len(rsi_data) - split < look_back:\n",
        "  split = look_back\n",
        "split\n",
        "\n",
        "\n",
        "indicators_df_train = indicators_df.iloc[:split]\n",
        "indicators_df_test = indicators_df.iloc[split:]\n",
        "\n",
        "indicators_lstm_train_data = indicators_lstm_data[:split]\n",
        "indicators_lstm_test_data = indicators_lstm_data[split:]"
      ],
      "execution_count": 89,
      "outputs": []
    },
    {
      "cell_type": "code",
      "metadata": {
        "id": "5oRtthul4Pyj"
      },
      "source": [
        "np.set_printoptions(formatter={'float': '{: 0.12f}'.format})\n",
        "\n",
        "indicators_scaler = MinMaxScaler(feature_range=(0, 1))\n",
        "indicators_scaler = indicators_scaler.fit(indicators_lstm_data)\n",
        "\n",
        "indicators_lstm_train_data_scaled = indicators_scaler.transform(indicators_lstm_train_data)\n",
        "if print_level >= TRACE:\n",
        "  print(indicators_lstm_train_data_scaled[:look_back+1])\n",
        "  print(indicators_lstm_train_data_scaled.shape)\n",
        "\n",
        "indicators_lstm_test_data_scaled = indicators_scaler.transform(indicators_lstm_test_data)\n",
        "if print_level >= TRACE:\n",
        "  print(indicators_lstm_test_data_scaled[:look_back+1])\n",
        "  print(indicators_lstm_test_data_scaled.shape)"
      ],
      "execution_count": 90,
      "outputs": []
    },
    {
      "cell_type": "code",
      "metadata": {
        "id": "Cmmqy0nc4Slr"
      },
      "source": [
        "indicators_train_generator = TimeseriesGenerator(indicators_lstm_train_data_scaled, indicators_lstm_train_data_scaled, sampling_rate=1, length=look_back, batch_size=64)\n",
        "\n",
        "if print_level >= TRACE:\n",
        "  print('Samples: %d' % len(indicators_train_generator))\n",
        "  # print each sample\n",
        "  for i in range(2):\n",
        "    x, y = indicators_train_generator[i]\n",
        "    print('%s => %s' % (x, y))"
      ],
      "execution_count": 91,
      "outputs": []
    },
    {
      "cell_type": "code",
      "metadata": {
        "id": "xFQnXfRp6tVP",
        "colab": {
          "base_uri": "https://localhost:8080/"
        },
        "outputId": "31b433ce-22b7-4cce-98c8-d415b831ba0e"
      },
      "source": [
        "indicators_model = None\n",
        "try:\n",
        "  indicators_model = keras.models.load_model(indicators_model_file_path)\n",
        "  modified = os.path.getmtime(indicators_model_file_path)\n",
        "\n",
        "  print(pd.to_datetime(last_date).date() - datetime.fromtimestamp(modified).date() )\n",
        "  print('Loaded', indicators_model_file_path , ' model train date:',datetime.fromtimestamp(modified).date() , 'last date:', last_date)\n",
        "except:\n",
        "  indicators_model = None\n",
        "  print('Model ' + indicators_model_file_path + ' does not exists.')"
      ],
      "execution_count": 92,
      "outputs": [
        {
          "output_type": "stream",
          "name": "stdout",
          "text": [
            "0:00:00\n",
            "Loaded /content/drive/MyDrive/models/QQQ_14_indicators_07.h5  model train date: 2021-11-12 last date: 2021-11-12\n"
          ]
        }
      ]
    },
    {
      "cell_type": "code",
      "metadata": {
        "id": "r59DQEiZ0u18"
      },
      "source": [
        "if indicators_model is None:\n",
        "  indicators_model = Sequential()\n",
        "  indicators_model.add(LSTM(units=50, activation='tanh', input_shape=(look_back, nr_of_features), return_sequences=True))\n",
        "  indicators_model.add(Dropout(0.2))\n",
        "  indicators_model.add(LSTM(units=50, return_sequences=True, activation=\"tanh\"))\n",
        "  indicators_model.add(Dropout(0.2))\n",
        "  indicators_model.add(LSTM(units=50, return_sequences=True, activation=\"tanh\"))\n",
        "  indicators_model.add(Dropout(0.2))\n",
        "  indicators_model.add(LSTM(units=50, activation=\"tanh\"))\n",
        "  indicators_model.add(Dropout(0.2))\n",
        "  indicators_model.add(Dense(nr_of_features))\n",
        "\n",
        "  indicators_model.compile(\n",
        "      loss=MAE,\n",
        "      optimizer=Adam(learning_rate=learning_rate),\n",
        "      metrics=[\"mae\"]\n",
        "  )\n",
        "    \n",
        "  #model.summary()\n",
        "  print('Model ' + indicators_model_file_path + ' compiled.')\n",
        "\n",
        "  indicators_modelo = indicators_model.fit(indicators_train_generator, epochs=epochs, verbose=0 )\n",
        "  \n",
        "  indicators_model.save(indicators_model_file_path)\n",
        "  print('Saved model ' + indicators_model_file_path)\n",
        "\n",
        "  if print_level >= DEBUG:\n",
        "    plt.plot(indicators_modelo.history['loss'])\n",
        "    plt.xlabel('Epochs')\n",
        "    plt.ylabel('Loss')\n",
        "    plt.show()"
      ],
      "execution_count": 93,
      "outputs": []
    },
    {
      "cell_type": "code",
      "metadata": {
        "colab": {
          "base_uri": "https://localhost:8080/"
        },
        "id": "xkdpY8eE4XlZ",
        "outputId": "9aa83585-6284-444e-c6b1-ee0a8f07cd42"
      },
      "source": [
        "indicators_test_generator = TimeseriesGenerator(indicators_lstm_test_data_scaled, indicators_lstm_test_data_scaled,sampling_rate=1, length=look_back, batch_size=look_back)\n",
        "\n",
        "print('Samples: %d' % len(indicators_test_generator))\n",
        "# print each sample\n",
        "if print_level >= TRACE:\n",
        "  for i in range(2):\n",
        "    x, y = indicators_test_generator[i]\n",
        "    print('%s => %s' % (x, y))"
      ],
      "execution_count": 94,
      "outputs": [
        {
          "output_type": "stream",
          "name": "stdout",
          "text": [
            "Samples: 5\n"
          ]
        }
      ]
    },
    {
      "cell_type": "code",
      "metadata": {
        "colab": {
          "base_uri": "https://localhost:8080/"
        },
        "id": "WAS1RHA1Mn10",
        "outputId": "3e04e467-4ebe-4258-dc19-33f8830cbeed"
      },
      "source": [
        "#Make prediction\n",
        "indicators_prediction_scaled = indicators_model.predict(indicators_test_generator)\n",
        "\n",
        "if print_level >= DEBUG:\n",
        "  np.set_printoptions(formatter={'float': '{: 0.12f}'.format})\n",
        "  print(indicators_prediction_scaled[:5])\n",
        "\n",
        "indicators_prediction = indicators_scaler.inverse_transform(indicators_prediction_scaled)\n",
        "\n",
        "if print_level >= DEBUG:\n",
        "  np.set_printoptions(formatter={'float': '{: 0.2f}'.format})\n",
        "  print('indicators_prediction shape:',indicators_prediction.shape)\n",
        "\n",
        "  for x in range(look_back + 1):\n",
        "    print('pred:',indicators_prediction[x], 'test:', indicators_lstm_test_data[x])\n"
      ],
      "execution_count": 95,
      "outputs": [
        {
          "output_type": "stream",
          "name": "stdout",
          "text": [
            "[[ 0.650177836418]\n",
            " [ 0.639579832554]\n",
            " [ 0.630900859833]\n",
            " [ 0.624921560287]\n",
            " [ 0.623941361904]]\n",
            "indicators_prediction shape: (59, 1)\n",
            "pred: [ 61.83] test: [ 63.95]\n",
            "pred: [ 61.24] test: [ 64.68]\n",
            "pred: [ 60.76] test: [ 67.75]\n",
            "pred: [ 60.43] test: [ 63.61]\n",
            "pred: [ 60.38] test: [ 64.59]\n",
            "pred: [ 60.49] test: [ 59.78]\n",
            "pred: [ 60.87] test: [ 58.23]\n",
            "pred: [ 61.43] test: [ 60.54]\n",
            "pred: [ 62.07] test: [ 62.72]\n",
            "pred: [ 62.76] test: [ 62.99]\n",
            "pred: [ 63.51] test: [ 54.31]\n",
            "pred: [ 64.43] test: [ 46.78]\n",
            "pred: [ 65.38] test: [ 50.46]\n",
            "pred: [ 66.06] test: [ 57.30]\n",
            "pred: [ 66.39] test: [ 64.91]\n"
          ]
        }
      ]
    },
    {
      "cell_type": "code",
      "metadata": {
        "colab": {
          "base_uri": "https://localhost:8080/"
        },
        "id": "ae72DYdyd0zp",
        "outputId": "1d2d1fa8-c9c7-4fe8-8e30-300abaac01d2"
      },
      "source": [
        "def predict(num_prediction, model):\n",
        "    prediction_list = indicators_lstm_test_data_scaled[-look_back:]\n",
        "    #print('prediction_list',prediction_list)\n",
        "    for _ in range(num_prediction):\n",
        "        x = prediction_list[-look_back:]\n",
        "        #print(x)\n",
        "        x = x.reshape((1, look_back, nr_of_features))\n",
        "        out = model.predict(x)\n",
        "        #print(x,out) \n",
        "        prediction_list = np.append(prediction_list, out, axis=0)\n",
        "    prediction_list = prediction_list[look_back-1:]\n",
        "        \n",
        "    return prediction_list\n",
        "    \n",
        "def predict_dates(last_date,num_prediction):\n",
        "    us_bd = CustomBusinessDay(calendar=USFederalHolidayCalendar())\n",
        "    prediction_dates = pd.date_range(last_date, periods=num_prediction+1,freq=us_bd).tolist()\n",
        "    return prediction_dates\n",
        "\n",
        "indicators_forecast_scaled = predict(num_prediction, indicators_model)\n",
        "#print(forecast_scaled)\n",
        "indicators_forecast_dates = predict_dates(indicators_df['Date'].values[-1],num_prediction)\n",
        "\n",
        "indicators_forecast = indicators_scaler.inverse_transform(indicators_forecast_scaled.reshape((-1,nr_of_features)))\n",
        "if nr_of_features == 1:\n",
        "   indicators_forecast = indicators_forecast.reshape((-1))\n",
        "\n",
        "print('indicators_forecast:',indicators_forecast)\n"
      ],
      "execution_count": 96,
      "outputs": [
        {
          "output_type": "stream",
          "name": "stdout",
          "text": [
            "indicators_forecast: [ 65.82  68.63  68.57  68.34  67.95  67.53  67.11  66.73  66.37  66.05\n",
            "  65.81  65.63  65.58  65.67  65.66  65.55  65.40  65.25  65.13  65.02\n",
            "  64.93  64.85  64.79  64.73  64.67  64.62  64.56  64.51  64.46  64.41\n",
            "  64.36  64.32  64.28  64.24  64.21  64.18  64.15  64.12  64.09  64.07\n",
            "  64.05  64.02  64.00]\n"
          ]
        }
      ]
    },
    {
      "cell_type": "code",
      "metadata": {
        "colab": {
          "base_uri": "https://localhost:8080/",
          "height": 817
        },
        "id": "dnqEqJioguwy",
        "outputId": "76154ae4-3143-4fc1-c48d-fba429baf1b8"
      },
      "source": [
        "chart_days = 365 - num_prediction\n",
        "trace1 = go.Candlestick(\n",
        "    x = stock_df.tail(chart_days)['Date'],\n",
        "    open = stock_df.tail(chart_days)['Open'],\n",
        "    high = stock_df.tail(chart_days)['High'],\n",
        "    low = stock_df.tail(chart_days)['Low'],\n",
        "    close = stock_df.tail(chart_days)['Close'],\n",
        "    name = ticker + ' Price'\n",
        ")\n",
        "\n",
        "trace2 = go.Scatter(\n",
        "    x = stock_df.tail(chart_days)['Date'],\n",
        "    y = stock_df.tail(chart_days)['50MA'],\n",
        "    mode='lines',\n",
        "    name ='50MA'\n",
        ")\n",
        "\n",
        "trace3 = go.Scatter(\n",
        "    x = stock_df.tail(chart_days)['Date'],\n",
        "    y = stock_df.tail(chart_days)['100MA'],\n",
        "    mode='lines',\n",
        "    name ='100MA'\n",
        ")\n",
        "\n",
        "trace4 = go.Scatter(\n",
        "    x = stock_df.tail(chart_days)['Date'],\n",
        "    y = stock_df.tail(chart_days)['200MA'],\n",
        "    mode='lines',\n",
        "    name ='200MA'\n",
        ")\n",
        "\n",
        "\n",
        "#'Date','Close','Volume','High','Low','Open','Divident'\n",
        "open_price =  str(stock_data[-1][5])\n",
        "low_price =  str(stock_data[-1][3])\n",
        "high_price =  str(stock_data[-1][4])\n",
        "close_price =  str(stock_data[-1][1])\n",
        "\n",
        "layout = go.Layout(\n",
        "    title = ticker + ' Date:' + last_date + ' Open:' + open_price + ' High:' + high_price + ' Low:' + low_price + ' Close:' + close_price,\n",
        "    xaxis = {'title' : \"Dates\"},\n",
        "    yaxis = {'title' : \"Close Price ($)\"},\n",
        "    height = 450\n",
        ")\n",
        "\n",
        "fig = go.Figure(data=[trace1,trace2,trace3,trace4], layout=layout)\n",
        "\n",
        "fig.update_yaxes(showspikes=True, spikemode='across', spikesnap='cursor',spikedash='dash')\n",
        "fig.update_xaxes(showspikes=True, spikemode='across', spikesnap='cursor', spikedash='dash')\n",
        "fig.update_layout(xaxis_rangeslider_visible=False)\n",
        "config = dict({'scrollZoom': True})\n",
        "fig.show(config=config)\n",
        "\n",
        "\n",
        "trace_train = go.Scatter(\n",
        "  x = indicators_df_train.tail(chart_days)['Date'],\n",
        "  y = indicators_df_train.tail(chart_days)['RSI'],\n",
        "  mode='lines',\n",
        "  name ='RSI'\n",
        ")\n",
        "\n",
        "trace_test = go.Scatter(\n",
        "  x = indicators_df_test['Date'],\n",
        "  y = indicators_df_test['RSI'],\n",
        "  mode='markers+lines',\n",
        "  name ='Test'\n",
        ")\n",
        "\n",
        "trace_prediction = go.Scatter(\n",
        "    x = indicators_df_test['Date'],\n",
        "    y = indicators_prediction.reshape((-1)),\n",
        "    mode='lines',\n",
        "    name ='Prediction'\n",
        ")\n",
        "\n",
        "trace_forecast = go.Scatter(\n",
        "    x = indicators_forecast_dates,\n",
        "    y = indicators_forecast,\n",
        "    mode='markers+lines',\n",
        "    name ='Forecast'\n",
        ")\n",
        "\n",
        "\n",
        "indicators_forecast_mean = np.round(np.mean(indicators_forecast))\n",
        "\n",
        "indicators_layout = go.Layout(\n",
        "    title = ticker + ' RSI('+ str(look_back)+ ') Date:' + last_date + ' Close:' + indicators_df['RSI'].iloc[-1] + ' Forecast('+str(look_back)+'):' + str(indicators_forecast_mean),\n",
        "    xaxis = {'title' : \"Dates\"},\n",
        "    yaxis = {'title' : \"RSI\"},\n",
        "    height = 350\n",
        ")\n",
        "\n",
        "indicators_fig = go.Figure(data=[trace_train, trace_test,trace_prediction,trace_forecast], layout=indicators_layout)\n",
        "\n",
        "indicators_fig.update_layout(shapes=[\n",
        "  dict(\n",
        "    type= 'line',\n",
        "    yref= 'y', y0= 30, y1= 30,   # adding a horizontal line at Y = 1\n",
        "    xref= 'paper', x0= 0, x1= 1\n",
        "    ),\n",
        "  dict(\n",
        "    type= 'line',\n",
        "    yref= 'y', y0= 50, y1= 50,   # adding a horizontal line at Y = 1\n",
        "    xref= 'paper', x0= 0, x1= 1\n",
        "    ),  \n",
        "  dict(\n",
        "    type= 'line',\n",
        "    yref= 'y', y0= 70, y1= 70,   # adding a horizontal line at Y = 1\n",
        "    xref= 'paper', x0= 0, x1= 1\n",
        "    )  \n",
        "])\n",
        "\n",
        "indicators_fig.update_yaxes(showspikes=True, spikemode='across', spikesnap='cursor',spikedash='dash')\n",
        "indicators_fig.update_xaxes(showspikes=True, spikemode='across', spikesnap='cursor', spikedash='dash')\n",
        "indicators_fig.update_layout(xaxis_rangeslider_visible=False)\n",
        "config = dict({'scrollZoom': True})\n",
        "indicators_fig.show(config=config)\n",
        "\n",
        "indicators_fig.write_html('/content/drive/MyDrive/models/charts/' + ticker + '_' + str(look_back) + '_07_inidicators_forecast.html')\n",
        "\n"
      ],
      "execution_count": 98,
      "outputs": [
        {
          "output_type": "display_data",
          "data": {
            "text/html": [
              "<html>\n",
              "<head><meta charset=\"utf-8\" /></head>\n",
              "<body>\n",
              "    <div>\n",
              "            <script src=\"https://cdnjs.cloudflare.com/ajax/libs/mathjax/2.7.5/MathJax.js?config=TeX-AMS-MML_SVG\"></script><script type=\"text/javascript\">if (window.MathJax) {MathJax.Hub.Config({SVG: {font: \"STIX-Web\"}});}</script>\n",
              "                <script type=\"text/javascript\">window.PlotlyConfig = {MathJaxConfig: 'local'};</script>\n",
              "        <script src=\"https://cdn.plot.ly/plotly-latest.min.js\"></script>    \n",
              "            <div id=\"56e6fd08-1fe3-48c9-9258-55539e530552\" class=\"plotly-graph-div\" style=\"height:450px; width:100%;\"></div>\n",
              "            <script type=\"text/javascript\">\n",
              "                \n",
              "                    window.PLOTLYENV=window.PLOTLYENV || {};\n",
              "                    \n",
              "                if (document.getElementById(\"56e6fd08-1fe3-48c9-9258-55539e530552\")) {\n",
              "                    Plotly.newPlot(\n",
              "                        '56e6fd08-1fe3-48c9-9258-55539e530552',\n",
              "                        [{\"close\": [\"271.05\", \"274.64\", \"271.47\", \"270.31\", \"265.19\", \"271.86\", \"272.48\", \"272.16\", \"275.32\", \"277.97\", \"276.1\", \"279.93\", \"281.87\", \"283.63\", \"285.86\", \"291.96\", \"291.05\", \"292.53\", \"294.88\", \"299.92\", \"302.76\", \"287.41\", \"283.58\", \"269.95\", \"277.88\", \"272.34\", \"270.45\", \"275.16\", \"279.06\", \"274.61\", \"270.32\", \"266.87\", \"267.51\", \"272.48\", \"264.16\", \"265.39\", \"271.56\", \"277.2\", \"275.95\", \"277.84\", \"282.25\", \"274.31\", \"280.16\", \"275.16\", \"279.92\", \"281.41\", \"285.71\", \"294.53\", \"294.52\", \"292.06\", \"290.1\", \"288.51\", \"283.8\", \"284.41\", \"284.19\", \"284.18\", \"284.74\", \"280.47\", \"282.66\", \"271.64\", \"276.39\", \"269.38\", \"269.98\", \"274.65\", \"286.91\", \"294.39\", \"294.61\", \"288.59\", \"283.42\", \"289.76\", \"288.4\", \"290.93\", \"293.2\", \"292.27\", \"290.11\", \"292.38\", \"290.38\", \"290.39\", \"294.47\", \"296.28\", \"299.01\", \"299.62\", \"303.46\", \"303.85\", \"304.28\", \"305.52\", \"307.25\", \"308.29\", \"301.31\", \"302.52\", \"301.85\", \"304.04\", \"307.29\", \"308.98\", \"311.0\", \"310.06\", \"308.92\", \"309.76\", \"308.2\", \"309.56\", \"312.68\", \"312.96\", \"312.97\", \"313.74\", \"309.31\", \"311.86\", \"307.54\", \"314.98\", \"319.03\", \"314.42\", \"313.92\", \"316.04\", \"314.35\", \"311.86\", \"316.41\", \"323.77\", \"326.36\", \"325.42\", \"328.11\", \"328.59\", \"319.43\", \"321.32\", \"314.56\", \"322.42\", \"327.68\", \"326.38\", \"330.24\", \"331.36\", \"333.58\", \"333.51\", \"332.75\", \"334.58\", \"336.45\", \"335.54\", \"333.93\", \"332.47\", \"331.02\", \"322.44\", \"321.48\", \"324.13\", \"312.83\", \"314.14\", \"323.59\", \"318.4\", \"309.16\", \"304.1\", \"308.68\", \"299.94\", \"311.77\", \"310.88\", \"318.04\", \"315.46\", \"318.83\", \"320.58\", \"321.9\", \"312.04\", \"313.14\", \"318.61\", \"317.22\", \"311.87\", \"311.33\", \"316.0\", \"315.91\", \"314.32\", \"319.13\", \"324.57\", \"331.05\", \"330.82\", \"331.62\", \"335.08\", \"337.11\", \"336.67\", \"340.6\", \"336.51\", \"341.61\", \"342.01\", \"338.88\", \"336.41\", \"339.29\", \"335.2\", \"339.42\", \"341.63\", \"340.15\", \"339.0\", \"340.22\", \"337.99\", \"336.19\", \"330.14\", \"329.03\", \"331.51\", \"334.2\", \"325.76\", \"325.31\", \"316.89\", \"319.34\", \"326.39\", \"324.41\", \"322.22\", \"322.59\", \"328.83\", \"327.01\", \"332.51\", \"332.97\", \"334.13\", \"332.88\", \"333.93\", \"332.82\", \"333.47\", \"330.0\", \"335.6\", \"336.6\", \"336.76\", \"336.84\", \"340.35\", \"341.24\", \"344.51\", \"342.26\", \"341.01\", \"345.34\", \"342.63\", \"344.36\", \"347.57\", \"347.74\", \"349.89\", \"349.46\", \"353.71\", \"354.99\", \"354.43\", \"354.57\", \"358.64\", \"360.19\", \"360.95\", \"358.77\", \"361.01\", \"362.42\", \"362.42\", \"363.07\", \"360.52\", \"357.6\", \"354.67\", \"358.79\", \"361.56\", \"363.95\", \"368.2\", \"368.49\", \"364.43\", \"365.83\", \"366.48\", \"364.57\", \"364.6\", \"366.81\", \"367.34\", \"369.67\", \"368.05\", \"368.73\", \"366.84\", \"366.21\", \"367.53\", \"368.82\", \"368.98\", \"365.73\", \"362.21\", \"363.96\", \"367.73\", \"373.23\", \"374.37\", \"374.8\", \"372.42\", \"376.04\", \"380.26\", \"379.95\", \"380.58\", \"380.4\", \"381.57\", \"382.11\", \"380.78\", \"379.47\", \"376.59\", \"376.33\", \"375.26\", \"378.05\", \"378.31\", \"373.83\", \"365.7\", \"366.15\", \"369.57\", \"372.98\", \"373.33\", \"370.35\", \"359.87\", \"359.28\", \"357.96\", \"360.18\", \"352.62\", \"357.38\", \"359.67\", \"362.97\", \"361.16\", \"358.39\", \"357.14\", \"360.0\", \"366.63\", \"368.94\", \"372.65\", \"375.47\", \"374.98\", \"377.27\", \"374.1\", \"377.93\", \"379.12\", \"380.0\", \"384.22\", \"386.11\", \"387.43\", \"389.05\", \"393.18\", \"398.22\", \"398.6\", \"398.06\", \"395.32\", \"389.51\", \"390.59\", \"394.7\"], \"high\": [\"271.52\", \"274.98\", \"274.8818\", \"271.98\", \"270.44\", \"272.84\", \"274.83\", \"273.4\", \"275.84\", \"278.465\", \"279.02\", \"280.43\", \"282.34\", \"286.0\", \"286.06\", \"292.22\", \"293.851\", \"293.18\", \"296.745\", \"300.04\", \"303.5\", \"298.62\", \"288.93\", \"278.22\", \"280.045\", \"282.195\", \"275.22\", \"277.22\", \"280.45\", \"280.36\", \"274.3955\", \"272.09\", \"267.65\", \"273.08\", \"272.34\", \"268.7\", \"272.395\", \"277.2\", \"277.71\", \"281.09\", \"282.8794\", \"282.2412\", \"280.49\", \"281.19\", \"280.74\", \"282.47\", \"285.79\", \"297.46\", \"297.0496\", \"296.35\", \"290.71\", \"293.269\", \"291.48\", \"287.62\", \"287.32\", \"285.98\", \"284.91\", \"285.3\", \"283.505\", \"278.6401\", \"279.49\", \"275.24\", \"273.52\", \"276.82\", \"288.77\", \"295.39\", \"295.36\", \"299.14\", \"286.6599\", \"290.25\", \"292.074\", \"291.57\", \"293.51\", \"293.74\", \"293.37\", \"292.7\", \"293.065\", \"292.75\", \"294.98\", \"296.94\", \"300.17\", \"299.97\", \"305.14\", \"304.195\", \"305.88\", \"305.67\", \"307.63\", \"308.6\", \"308.36\", \"303.68\", \"301.98\", \"306.05\", \"307.29\", \"309.785\", \"311.24\", \"311.98\", \"309.47\", \"310.7105\", \"310.18\", \"310.02\", \"313.17\", \"314.685\", \"314.49\", \"314.24\", \"315.29\", \"312.14\", \"311.88\", \"315.84\", \"319.39\", \"317.19\", \"315.58\", \"316.86\", \"317.53\", \"315.12\", \"316.93\", \"324.74\", \"327.13\", \"326.46\", \"330.32\", \"329.76\", \"326.27\", \"326.42\", \"320.7193\", \"323.54\", \"328.87\", \"330.195\", \"330.33\", \"332.4025\", \"333.74\", \"334.81\", \"335.46\", \"335.0\", \"336.62\", \"338.19\", \"335.657\", \"333.8661\", \"333.99\", \"327.8\", \"323.2\", \"324.45\", \"324.03\", \"319.11\", \"323.94\", \"324.33\", \"318.24\", \"312.04\", \"309.609\", \"310.06\", \"313.73\", \"316.47\", \"319.86\", \"318.2302\", \"319.0\", \"324.2\", \"323.85\", \"317.8801\", \"314.73\", \"320.74\", \"321.09\", \"318.67\", \"312.885\", \"316.33\", \"316.99\", \"314.91\", \"320.74\", \"324.71\", \"331.84\", \"332.83\", \"332.48\", \"335.27\", \"337.32\", \"337.1\", \"341.08\", \"340.98\", \"342.01\", \"342.23\", \"341.58\", \"339.52\", \"339.48\", \"339.9\", \"340.767\", \"341.92\", \"342.15\", \"340.85\", \"342.8\", \"340.26\", \"340.0\", \"333.89\", \"333.14\", \"331.67\", \"336.65\", \"332.96\", \"326.1299\", \"322.62\", \"322.4\", \"327.33\", \"326.3721\", \"326.65\", \"322.9\", \"329.71\", \"330.86\", \"333.67\", \"334.81\", \"334.61\", \"334.54\", \"335.5699\", \"335.785\", \"334.34\", \"331.86\", \"336.0582\", \"336.66\", \"339.29\", \"338.97\", \"340.46\", \"341.25\", \"344.52\", \"344.47\", \"343.84\", \"346.38\", \"344.8082\", \"344.69\", \"348.03\", \"348.92\", \"351.46\", \"350.72\", \"353.85\", \"355.0199\", \"355.23\", \"355.09\", \"358.97\", \"360.48\", \"362.76\", \"359.65\", \"361.5\", \"362.89\", \"365.465\", \"365.49\", \"363.19\", \"362.41\", \"355.18\", \"360.28\", \"361.56\", \"363.96\", \"368.485\", \"368.89\", \"368.22\", \"367.45\", \"367.6794\", \"365.17\", \"366.88\", \"366.93\", \"368.32\", \"369.91\", \"369.37\", \"369.27\", \"369.56\", \"368.65\", \"367.9\", \"369.16\", \"369.02\", \"367.15\", \"366.62\", \"365.68\", \"368.14\", \"373.935\", \"374.99\", \"375.39\", \"374.62\", \"376.56\", \"380.76\", \"380.579\", \"382.71\", \"382.31\", \"381.98\", \"382.778\", \"381.93\", \"382.15\", \"381.97\", \"379.43\", \"378.61\", \"378.41\", \"378.9\", \"377.87\", \"369.25\", \"368.81\", \"371.07\", \"374.04\", \"373.76\", \"371.2516\", \"370.302\", \"363.37\", \"362.68\", \"361.25\", \"358.86\", \"359.69\", \"359.95\", \"365.69\", \"364.3166\", \"363.2\", \"360.33\", \"360.69\", \"366.85\", \"369.06\", \"372.87\", \"375.52\", \"376.565\", \"377.47\", \"376.97\", \"378.87\", \"382.71\", \"383.15\", \"384.48\", \"386.28\", \"387.56\", \"389.54\", \"393.61\", \"399.2\", \"400.99\", \"399.62\", \"399.57\", \"395.36\", \"392.75\", \"395.25\"], \"low\": [\"269.96\", \"270.19\", \"269.245\", \"266.67\", \"264.63\", \"267.37\", \"271.51\", \"270.72\", \"272.1978\", \"274.91\", \"275.57\", \"274.86\", \"279.461\", \"281.27\", \"282.37\", \"285.829\", \"288.705\", \"290.93\", \"292.62\", \"295.79\", \"296.89\", \"284.41\", \"271.8\", \"269.66\", \"273.0\", \"270.56\", \"266.9\", \"272.96\", \"275.1332\", \"274.25\", \"266.68\", \"262.63\", \"260.11\", \"266.54\", \"263.2502\", \"261.22\", \"264.2999\", \"271.674\", \"275.3719\", \"275.8717\", \"279.84\", \"273.44\", \"276.23\", \"274.25\", \"277.28\", \"280.31\", \"282.71\", \"289.47\", \"293.11\", \"290.26\", \"286.54\", \"288.15\", \"282.79\", \"282.95\", \"283.69\", \"280.82\", \"281.7818\", \"276.76\", \"280.2\", \"271.38\", \"272.52\", \"267.07\", \"266.97\", \"270.84\", \"281.87\", \"292.0\", \"289.83\", \"288.12\", \"280.62\", \"283.38\", \"287.25\", \"287.8701\", \"289.99\", \"291.61\", \"290.02\", \"288.85\", \"290.29\", \"288.07\", \"289.63\", \"294.59\", \"297.9\", \"294.78\", \"300.83\", \"300.35\", \"303.531\", \"303.63\", \"305.52\", \"304.95\", \"300.21\", \"298.09\", \"298.47\", \"303.01\", \"304.11\", \"306.621\", \"309.39\", \"307.61\", \"303.6\", \"306.845\", \"308.035\", \"308.39\", \"310.36\", \"312.03\", \"312.33\", \"311.76\", \"305.18\", \"308.29\", \"305.98\", \"310.25\", \"315.0814\", \"313.75\", \"311.2\", \"313.57\", \"313.8616\", \"310.58\", \"313.12\", \"316.509\", \"323.73\", \"324.71\", \"321.41\", \"327.22\", \"317.36\", \"320.03\", \"312.76\", \"316.02\", \"325.31\", \"326.32\", \"326.46\", \"329.53\", \"331.41\", \"332.61\", \"329.5\", \"332.12\", \"332.63\", \"334.34\", \"330.17\", \"328.36\", \"329.97\", \"322.23\", \"311.0\", \"315.96\", \"311.24\", \"310.88\", \"317.935\", \"318.14\", \"309.1\", \"300.11\", \"297.45\", \"299.51\", \"306.92\", \"310.17\", \"314.85\", \"311.391\", \"314.095\", \"319.1\", \"315.68\", \"311.57\", \"309.6601\", \"315.21\", \"316.375\", \"311.72\", \"307.3899\", \"309.67\", \"312.47\", \"311.54\", \"315.81\", \"322.81\", \"324.6375\", \"330.02\", \"329.37\", \"333.7399\", \"332.92\", \"334.73\", \"338.02\", \"335.67\", \"336.2153\", \"340.08\", \"336.9016\", \"334.3816\", \"333.97\", \"334.01\", \"335.85\", \"338.9\", \"339.17\", \"338.3301\", \"336.9001\", \"337.05\", \"335.73\", \"326.21\", \"328.23\", \"326.45\", \"331.6914\", \"325.55\", \"319.02\", \"316.0\", \"316.9\", \"322.08\", \"321.45\", \"321.94\", \"316.3\", \"323.89\", \"326.64\", \"326.9032\", \"331.755\", \"332.95\", \"332.67\", \"333.6\", \"331.43\", \"331.695\", \"328.28\", \"331.78\", \"334.34\", \"335.03\", \"336.651\", \"336.73\", \"339.69\", \"340.46\", \"341.52\", \"337.45\", \"339.92\", \"341.86\", \"340.15\", \"343.84\", \"346.88\", \"349.17\", \"348.84\", \"350.72\", \"352.67\", \"353.83\", \"352.68\", \"356.28\", \"356.49\", \"358.94\", \"354.42\", \"357.57\", \"360.83\", \"361.54\", \"362.22\", \"358.46\", \"357.24\", \"352.04\", \"353.8\", \"358.12\", \"361.77\", \"363.9157\", \"366.601\", \"360.16\", \"363.24\", \"365.25\", \"362.41\", \"363.87\", \"362.0\", \"365.63\", \"367.45\", \"366.905\", \"367.39\", \"365.62\", \"364.84\", \"364.295\", \"367.38\", \"363.7\", \"363.23\", \"361.865\", \"359.96\", \"364.74\", \"368.79\", \"373.36\", \"373.855\", \"371.97\", \"372.57\", \"376.83\", \"378.36\", \"380.37\", \"379.15\", \"379.2003\", \"380.4882\", \"378.45\", \"379.22\", \"376.245\", \"374.22\", \"374.28\", \"373.37\", \"374.695\", \"372.76\", \"360.93\", \"364.99\", \"365.9584\", \"370.099\", \"370.27\", \"367.73\", \"359.35\", \"358.635\", \"357.1\", \"354.38\", \"350.32\", \"353.48\", \"353.15\", \"362.25\", \"360.61\", \"358.3\", \"356.48\", \"357.43\", \"363.01\", \"366.82\", \"366.99\", \"372.6974\", \"373.46\", \"373.85\", \"372.385\", \"373.56\", \"377.905\", \"379.31\", \"381.155\", \"380.7\", \"384.42\", \"386.75\", \"388.48\", \"393.92\", \"397.16\", \"397.4\", \"393.92\", \"387.53\", \"390.24\", \"390.13\"], \"name\": \"QQQ Price\", \"open\": [\"270.83\", \"270.78\", \"274.04\", \"271.74\", \"269.1\", \"267.37\", \"272.64\", \"273.01\", \"273.91\", \"276.41\", \"277.93\", \"275.3\", \"280.07\", \"285.06\", \"282.78\", \"287.11\", \"293.08\", \"292.27\", \"293.16\", \"297.6\", \"303.26\", \"298.2\", \"285.76\", \"272.27\", \"275.54\", \"280.97\", \"274.33\", \"274.28\", \"278.9\", \"279.77\", \"267.52\", \"271.62\", \"262.52\", \"270.05\", \"272.15\", \"261.58\", \"265.82\", \"276.615\", \"276.72\", \"276.09\", \"281.79\", \"276.01\", \"276.34\", \"279.29\", \"277.83\", \"282.32\", \"283.09\", \"290.6\", \"296.34\", \"295.32\", \"287.25\", \"291.8\", \"290.49\", \"284.56\", \"284.67\", \"285.05\", \"284.79\", \"282.32\", \"281.42\", \"278.13\", \"273.04\", \"274.375\", \"271.73\", \"271.86\", \"283.56\", \"293.41\", \"293.58\", \"297.31\", \"285.26\", \"285.92\", \"290.72\", \"290.01\", \"290.68\", \"293.4\", \"291.7\", \"289.48\", \"292.3\", \"291.41\", \"291.49\", \"295.44\", \"298.29\", \"299.3\", \"301.87\", \"302.22\", \"304.07\", \"304.33\", \"305.71\", \"306.76\", \"308.07\", \"299.21\", \"300.81\", \"303.08\", \"306.37\", \"307.7\", \"310.63\", \"311.66\", \"306.46\", \"309.85\", \"309.81\", \"308.47\", \"312.25\", \"314.05\", \"314.16\", \"312.87\", \"315.11\", \"308.29\", \"307.0\", \"310.28\", \"317.34\", \"315.98\", \"314.46\", \"314.19\", \"316.5\", \"314.13\", \"314.25\", \"320.14\", \"325.15\", \"325.29\", \"328.91\", \"328.85\", \"326.26\", \"320.67\", \"319.58\", \"318.11\", \"325.48\", \"329.82\", \"327.82\", \"331.22\", \"333.1\", \"332.62\", \"334.99\", \"334.33\", \"333.71\", \"337.27\", \"332.47\", \"330.23\", \"333.86\", \"326.5\", \"317.0\", \"318.74\", \"321.39\", \"315.85\", \"319.27\", \"324.25\", \"317.27\", \"308.78\", \"306.795\", \"308.12\", \"307.47\", \"316.16\", \"315.77\", \"313.86\", \"315.79\", \"321.09\", \"317.45\", \"316.87\", \"311.87\", \"315.21\", \"319.73\", \"318.63\", \"309.968\", \"311.11\", \"315.45\", \"313.89\", \"316.16\", \"323.07\", \"327.13\", \"330.73\", \"330.33\", \"334.56\", \"333.68\", \"336.04\", \"338.24\", \"340.85\", \"339.47\", \"342.15\", \"340.39\", \"338.2\", \"335.09\", \"338.89\", \"335.85\", \"339.67\", \"341.93\", \"339.81\", \"342.37\", \"337.7\", \"339.23\", \"333.56\", \"332.25\", \"328.76\", \"334.37\", \"332.78\", \"319.7\", \"320.23\", \"319.92\", \"322.6\", \"324.63\", \"325.39\", \"316.66\", \"324.12\", \"330.43\", \"329.37\", \"334.07\", \"333.66\", \"333.67\", \"334.12\", \"335.3\", \"333.25\", \"330.55\", \"331.85\", \"335.05\", \"338.395\", \"338.17\", \"337.19\", \"340.36\", \"341.68\", \"344.15\", \"342.74\", \"339.97\", \"343.63\", \"342.43\", \"344.15\", \"347.51\", \"349.73\", \"350.47\", \"350.78\", \"353.53\", \"354.83\", \"354.07\", \"356.52\", \"359.26\", \"362.45\", \"355.74\", \"358.17\", \"362.45\", \"362.03\", \"364.83\", \"362.98\", \"361.4\", \"354.05\", \"355.63\", \"358.35\", \"361.77\", \"365.31\", \"367.49\", \"368.22\", \"365.6\", \"365.25\", \"362.44\", \"366.28\", \"365.28\", \"366.77\", \"368.18\", \"368.37\", \"368.52\", \"369.26\", \"368.14\", \"365.69\", \"367.89\", \"367.67\", \"366.15\", \"365.18\", \"360.22\", \"365.06\", \"368.8\", \"373.84\", \"374.63\", \"373.92\", \"373.07\", \"376.85\", \"380.51\", \"381.04\", \"381.97\", \"379.22\", \"381.68\", \"381.93\", \"381.01\", \"381.23\", \"378.99\", \"377.86\", \"375.73\", \"376.68\", \"377.82\", \"367.46\", \"367.58\", \"367.09\", \"370.76\", \"370.65\", \"370.2\", \"365.67\", \"361.17\", \"360.97\", \"358.6\", \"358.52\", \"353.71\", \"354.08\", \"362.8\", \"364.08\", \"359.58\", \"359.88\", \"359.51\", \"363.69\", \"367.88\", \"367.61\", \"373.75\", \"375.94\", \"374.16\", \"375.98\", \"375.56\", \"380.23\", \"379.58\", \"381.95\", \"381.06\", \"386.56\", \"386.8\", \"389.55\", \"394.48\", \"400.04\", \"398.57\", \"399.16\", \"392.47\", \"392.57\", \"391.77\"], \"type\": \"candlestick\", \"x\": [\"2020-08-05\", \"2020-08-06\", \"2020-08-07\", \"2020-08-10\", \"2020-08-11\", \"2020-08-12\", \"2020-08-13\", \"2020-08-14\", \"2020-08-17\", \"2020-08-18\", \"2020-08-19\", \"2020-08-20\", \"2020-08-21\", \"2020-08-24\", \"2020-08-25\", \"2020-08-26\", \"2020-08-27\", \"2020-08-28\", \"2020-08-31\", \"2020-09-01\", \"2020-09-02\", \"2020-09-03\", \"2020-09-04\", \"2020-09-08\", \"2020-09-09\", \"2020-09-10\", \"2020-09-11\", \"2020-09-14\", \"2020-09-15\", \"2020-09-16\", \"2020-09-17\", \"2020-09-18\", \"2020-09-21\", \"2020-09-22\", \"2020-09-23\", \"2020-09-24\", \"2020-09-25\", \"2020-09-28\", \"2020-09-29\", \"2020-09-30\", \"2020-10-01\", \"2020-10-02\", \"2020-10-05\", \"2020-10-06\", \"2020-10-07\", \"2020-10-08\", \"2020-10-09\", \"2020-10-12\", \"2020-10-13\", \"2020-10-14\", \"2020-10-15\", \"2020-10-16\", \"2020-10-19\", \"2020-10-20\", \"2020-10-21\", \"2020-10-22\", \"2020-10-23\", \"2020-10-26\", \"2020-10-27\", \"2020-10-28\", \"2020-10-29\", \"2020-10-30\", \"2020-11-02\", \"2020-11-03\", \"2020-11-04\", \"2020-11-05\", \"2020-11-06\", \"2020-11-09\", \"2020-11-10\", \"2020-11-11\", \"2020-11-12\", \"2020-11-13\", \"2020-11-16\", \"2020-11-17\", \"2020-11-18\", \"2020-11-19\", \"2020-11-20\", \"2020-11-23\", \"2020-11-24\", \"2020-11-25\", \"2020-11-27\", \"2020-11-30\", \"2020-12-01\", \"2020-12-02\", \"2020-12-03\", \"2020-12-04\", \"2020-12-07\", \"2020-12-08\", \"2020-12-09\", \"2020-12-10\", \"2020-12-11\", \"2020-12-14\", \"2020-12-15\", \"2020-12-16\", \"2020-12-17\", \"2020-12-18\", \"2020-12-21\", \"2020-12-22\", \"2020-12-23\", \"2020-12-24\", \"2020-12-28\", \"2020-12-29\", \"2020-12-30\", \"2020-12-31\", \"2021-01-04\", \"2021-01-05\", \"2021-01-06\", \"2021-01-07\", \"2021-01-08\", \"2021-01-11\", \"2021-01-12\", \"2021-01-13\", \"2021-01-14\", \"2021-01-15\", \"2021-01-19\", \"2021-01-20\", \"2021-01-21\", \"2021-01-22\", \"2021-01-25\", \"2021-01-26\", \"2021-01-27\", \"2021-01-28\", \"2021-01-29\", \"2021-02-01\", \"2021-02-02\", \"2021-02-03\", \"2021-02-04\", \"2021-02-05\", \"2021-02-08\", \"2021-02-09\", \"2021-02-10\", \"2021-02-11\", \"2021-02-12\", \"2021-02-16\", \"2021-02-17\", \"2021-02-18\", \"2021-02-19\", \"2021-02-22\", \"2021-02-23\", \"2021-02-24\", \"2021-02-25\", \"2021-02-26\", \"2021-03-01\", \"2021-03-02\", \"2021-03-03\", \"2021-03-04\", \"2021-03-05\", \"2021-03-08\", \"2021-03-09\", \"2021-03-10\", \"2021-03-11\", \"2021-03-12\", \"2021-03-15\", \"2021-03-16\", \"2021-03-17\", \"2021-03-18\", \"2021-03-19\", \"2021-03-22\", \"2021-03-23\", \"2021-03-24\", \"2021-03-25\", \"2021-03-26\", \"2021-03-29\", \"2021-03-30\", \"2021-03-31\", \"2021-04-01\", \"2021-04-05\", \"2021-04-06\", \"2021-04-07\", \"2021-04-08\", \"2021-04-09\", \"2021-04-12\", \"2021-04-13\", \"2021-04-14\", \"2021-04-15\", \"2021-04-16\", \"2021-04-19\", \"2021-04-20\", \"2021-04-21\", \"2021-04-22\", \"2021-04-23\", \"2021-04-26\", \"2021-04-27\", \"2021-04-28\", \"2021-04-29\", \"2021-04-30\", \"2021-05-03\", \"2021-05-04\", \"2021-05-05\", \"2021-05-06\", \"2021-05-07\", \"2021-05-10\", \"2021-05-11\", \"2021-05-12\", \"2021-05-13\", \"2021-05-14\", \"2021-05-17\", \"2021-05-18\", \"2021-05-19\", \"2021-05-20\", \"2021-05-21\", \"2021-05-24\", \"2021-05-25\", \"2021-05-26\", \"2021-05-27\", \"2021-05-28\", \"2021-06-01\", \"2021-06-02\", \"2021-06-03\", \"2021-06-04\", \"2021-06-07\", \"2021-06-08\", \"2021-06-09\", \"2021-06-10\", \"2021-06-11\", \"2021-06-14\", \"2021-06-15\", \"2021-06-16\", \"2021-06-17\", \"2021-06-18\", \"2021-06-21\", \"2021-06-22\", \"2021-06-23\", \"2021-06-24\", \"2021-06-25\", \"2021-06-28\", \"2021-06-29\", \"2021-06-30\", \"2021-07-01\", \"2021-07-02\", \"2021-07-06\", \"2021-07-07\", \"2021-07-08\", \"2021-07-09\", \"2021-07-12\", \"2021-07-13\", \"2021-07-14\", \"2021-07-15\", \"2021-07-16\", \"2021-07-19\", \"2021-07-20\", \"2021-07-21\", \"2021-07-22\", \"2021-07-23\", \"2021-07-26\", \"2021-07-27\", \"2021-07-28\", \"2021-07-29\", \"2021-07-30\", \"2021-08-02\", \"2021-08-03\", \"2021-08-04\", \"2021-08-05\", \"2021-08-06\", \"2021-08-09\", \"2021-08-10\", \"2021-08-11\", \"2021-08-12\", \"2021-08-13\", \"2021-08-16\", \"2021-08-17\", \"2021-08-18\", \"2021-08-19\", \"2021-08-20\", \"2021-08-23\", \"2021-08-24\", \"2021-08-25\", \"2021-08-26\", \"2021-08-27\", \"2021-08-30\", \"2021-08-31\", \"2021-09-01\", \"2021-09-02\", \"2021-09-03\", \"2021-09-07\", \"2021-09-08\", \"2021-09-09\", \"2021-09-10\", \"2021-09-13\", \"2021-09-14\", \"2021-09-15\", \"2021-09-16\", \"2021-09-17\", \"2021-09-20\", \"2021-09-21\", \"2021-09-22\", \"2021-09-23\", \"2021-09-24\", \"2021-09-27\", \"2021-09-28\", \"2021-09-29\", \"2021-09-30\", \"2021-10-01\", \"2021-10-04\", \"2021-10-05\", \"2021-10-06\", \"2021-10-07\", \"2021-10-08\", \"2021-10-11\", \"2021-10-12\", \"2021-10-13\", \"2021-10-14\", \"2021-10-15\", \"2021-10-18\", \"2021-10-19\", \"2021-10-20\", \"2021-10-21\", \"2021-10-22\", \"2021-10-25\", \"2021-10-26\", \"2021-10-27\", \"2021-10-28\", \"2021-10-29\", \"2021-11-01\", \"2021-11-02\", \"2021-11-03\", \"2021-11-04\", \"2021-11-05\", \"2021-11-08\", \"2021-11-09\", \"2021-11-10\", \"2021-11-11\", \"2021-11-12\"]}, {\"mode\": \"lines\", \"name\": \"50MA\", \"type\": \"scatter\", \"x\": [\"2020-08-05\", \"2020-08-06\", \"2020-08-07\", \"2020-08-10\", \"2020-08-11\", \"2020-08-12\", \"2020-08-13\", \"2020-08-14\", \"2020-08-17\", \"2020-08-18\", \"2020-08-19\", \"2020-08-20\", \"2020-08-21\", \"2020-08-24\", \"2020-08-25\", \"2020-08-26\", \"2020-08-27\", \"2020-08-28\", \"2020-08-31\", \"2020-09-01\", \"2020-09-02\", \"2020-09-03\", \"2020-09-04\", \"2020-09-08\", \"2020-09-09\", \"2020-09-10\", \"2020-09-11\", \"2020-09-14\", \"2020-09-15\", \"2020-09-16\", \"2020-09-17\", \"2020-09-18\", \"2020-09-21\", \"2020-09-22\", \"2020-09-23\", \"2020-09-24\", \"2020-09-25\", \"2020-09-28\", \"2020-09-29\", \"2020-09-30\", \"2020-10-01\", \"2020-10-02\", \"2020-10-05\", \"2020-10-06\", \"2020-10-07\", \"2020-10-08\", \"2020-10-09\", \"2020-10-12\", \"2020-10-13\", \"2020-10-14\", \"2020-10-15\", \"2020-10-16\", \"2020-10-19\", \"2020-10-20\", \"2020-10-21\", \"2020-10-22\", \"2020-10-23\", \"2020-10-26\", \"2020-10-27\", \"2020-10-28\", \"2020-10-29\", \"2020-10-30\", \"2020-11-02\", \"2020-11-03\", \"2020-11-04\", \"2020-11-05\", \"2020-11-06\", \"2020-11-09\", \"2020-11-10\", \"2020-11-11\", \"2020-11-12\", \"2020-11-13\", \"2020-11-16\", \"2020-11-17\", \"2020-11-18\", \"2020-11-19\", \"2020-11-20\", \"2020-11-23\", \"2020-11-24\", \"2020-11-25\", \"2020-11-27\", \"2020-11-30\", \"2020-12-01\", \"2020-12-02\", \"2020-12-03\", \"2020-12-04\", \"2020-12-07\", \"2020-12-08\", \"2020-12-09\", \"2020-12-10\", \"2020-12-11\", \"2020-12-14\", \"2020-12-15\", \"2020-12-16\", \"2020-12-17\", \"2020-12-18\", \"2020-12-21\", \"2020-12-22\", \"2020-12-23\", \"2020-12-24\", \"2020-12-28\", \"2020-12-29\", \"2020-12-30\", \"2020-12-31\", \"2021-01-04\", \"2021-01-05\", \"2021-01-06\", \"2021-01-07\", \"2021-01-08\", \"2021-01-11\", \"2021-01-12\", \"2021-01-13\", \"2021-01-14\", \"2021-01-15\", \"2021-01-19\", \"2021-01-20\", \"2021-01-21\", \"2021-01-22\", \"2021-01-25\", \"2021-01-26\", \"2021-01-27\", \"2021-01-28\", \"2021-01-29\", \"2021-02-01\", \"2021-02-02\", \"2021-02-03\", \"2021-02-04\", \"2021-02-05\", \"2021-02-08\", \"2021-02-09\", \"2021-02-10\", \"2021-02-11\", \"2021-02-12\", \"2021-02-16\", \"2021-02-17\", \"2021-02-18\", \"2021-02-19\", \"2021-02-22\", \"2021-02-23\", \"2021-02-24\", \"2021-02-25\", \"2021-02-26\", \"2021-03-01\", \"2021-03-02\", \"2021-03-03\", \"2021-03-04\", \"2021-03-05\", \"2021-03-08\", \"2021-03-09\", \"2021-03-10\", \"2021-03-11\", \"2021-03-12\", \"2021-03-15\", \"2021-03-16\", \"2021-03-17\", \"2021-03-18\", \"2021-03-19\", \"2021-03-22\", \"2021-03-23\", \"2021-03-24\", \"2021-03-25\", \"2021-03-26\", \"2021-03-29\", \"2021-03-30\", \"2021-03-31\", \"2021-04-01\", \"2021-04-05\", \"2021-04-06\", \"2021-04-07\", \"2021-04-08\", \"2021-04-09\", \"2021-04-12\", \"2021-04-13\", \"2021-04-14\", \"2021-04-15\", \"2021-04-16\", \"2021-04-19\", \"2021-04-20\", \"2021-04-21\", \"2021-04-22\", \"2021-04-23\", \"2021-04-26\", \"2021-04-27\", \"2021-04-28\", \"2021-04-29\", \"2021-04-30\", \"2021-05-03\", \"2021-05-04\", \"2021-05-05\", \"2021-05-06\", \"2021-05-07\", \"2021-05-10\", \"2021-05-11\", \"2021-05-12\", \"2021-05-13\", \"2021-05-14\", \"2021-05-17\", \"2021-05-18\", \"2021-05-19\", \"2021-05-20\", \"2021-05-21\", \"2021-05-24\", \"2021-05-25\", \"2021-05-26\", \"2021-05-27\", \"2021-05-28\", \"2021-06-01\", \"2021-06-02\", \"2021-06-03\", \"2021-06-04\", \"2021-06-07\", \"2021-06-08\", \"2021-06-09\", \"2021-06-10\", \"2021-06-11\", \"2021-06-14\", \"2021-06-15\", \"2021-06-16\", \"2021-06-17\", \"2021-06-18\", \"2021-06-21\", \"2021-06-22\", \"2021-06-23\", \"2021-06-24\", \"2021-06-25\", \"2021-06-28\", \"2021-06-29\", \"2021-06-30\", \"2021-07-01\", \"2021-07-02\", \"2021-07-06\", \"2021-07-07\", \"2021-07-08\", \"2021-07-09\", \"2021-07-12\", \"2021-07-13\", \"2021-07-14\", \"2021-07-15\", \"2021-07-16\", \"2021-07-19\", \"2021-07-20\", \"2021-07-21\", \"2021-07-22\", \"2021-07-23\", \"2021-07-26\", \"2021-07-27\", \"2021-07-28\", \"2021-07-29\", \"2021-07-30\", \"2021-08-02\", \"2021-08-03\", \"2021-08-04\", \"2021-08-05\", \"2021-08-06\", \"2021-08-09\", \"2021-08-10\", \"2021-08-11\", \"2021-08-12\", \"2021-08-13\", \"2021-08-16\", \"2021-08-17\", \"2021-08-18\", \"2021-08-19\", \"2021-08-20\", \"2021-08-23\", \"2021-08-24\", \"2021-08-25\", \"2021-08-26\", \"2021-08-27\", \"2021-08-30\", \"2021-08-31\", \"2021-09-01\", \"2021-09-02\", \"2021-09-03\", \"2021-09-07\", \"2021-09-08\", \"2021-09-09\", \"2021-09-10\", \"2021-09-13\", \"2021-09-14\", \"2021-09-15\", \"2021-09-16\", \"2021-09-17\", \"2021-09-20\", \"2021-09-21\", \"2021-09-22\", \"2021-09-23\", \"2021-09-24\", \"2021-09-27\", \"2021-09-28\", \"2021-09-29\", \"2021-09-30\", \"2021-10-01\", \"2021-10-04\", \"2021-10-05\", \"2021-10-06\", \"2021-10-07\", \"2021-10-08\", \"2021-10-11\", \"2021-10-12\", \"2021-10-13\", \"2021-10-14\", \"2021-10-15\", \"2021-10-18\", \"2021-10-19\", \"2021-10-20\", \"2021-10-21\", \"2021-10-22\", \"2021-10-25\", \"2021-10-26\", \"2021-10-27\", \"2021-10-28\", \"2021-10-29\", \"2021-11-01\", \"2021-11-02\", \"2021-11-03\", \"2021-11-04\", \"2021-11-05\", \"2021-11-08\", \"2021-11-09\", \"2021-11-10\", \"2021-11-11\", \"2021-11-12\"], \"y\": [250.62620000000007, 251.51320000000004, 252.3428, 253.08180000000002, 253.70440000000002, 254.42900000000006, 255.14480000000003, 255.8874, 256.6, 257.3284, 257.98440000000005, 258.65860000000004, 259.61560000000003, 260.57060000000007, 261.5128000000001, 262.49500000000006, 263.4436, 264.4086, 265.4214, 266.485, 267.5634, 268.4374, 269.1884, 269.783, 270.48380000000003, 270.97860000000003, 271.37780000000004, 271.8372, 272.2506, 272.61060000000003, 272.8172, 272.911, 272.9818, 273.2606, 273.33639999999997, 273.4262, 273.67499999999995, 274.0306, 274.214, 274.4908, 274.8372, 275.16319999999996, 275.6552, 275.95599999999996, 276.41819999999996, 276.85099999999994, 277.34259999999995, 277.91739999999993, 278.42019999999997, 278.8538, 279.2348, 279.5122, 279.7588, 280.0408, 280.42080000000004, 280.66720000000004, 280.9124, 281.0786, 281.22540000000004, 281.0988, 281.1046, 280.8936, 280.65579999999994, 280.47619999999995, 280.49719999999996, 280.54579999999993, 280.61699999999996, 280.53819999999996, 280.30899999999997, 280.1058, 279.81859999999995, 279.88899999999995, 280.0814, 280.5278, 280.7724, 281.1732, 281.57179999999994, 281.87639999999993, 282.18459999999993, 282.61799999999994, 283.19179999999994, 283.8468, 284.56579999999997, 285.19319999999993, 285.99559999999997, 286.7982, 287.512, 288.1338, 288.64099999999996, 289.1346, 289.5266, 290.12120000000004, 290.66380000000004, 291.34020000000004, 291.96180000000004, 292.5348, 292.999, 293.3036, 293.57720000000006, 293.9272, 294.37880000000007, 294.86780000000005, 295.45120000000003, 296.0378, 296.5402, 297.0938, 297.5498, 298.24, 298.96740000000005, 299.8230000000001, 300.57360000000006, 301.5068000000001, 302.3942000000001, 303.13840000000016, 303.72840000000014, 304.31600000000014, 304.9510000000002, 305.68760000000015, 306.5814000000002, 307.3580000000002, 307.9786000000002, 308.5864000000002, 309.01360000000017, 309.6166000000001, 310.36800000000017, 311.0480000000001, 311.84520000000015, 312.6646000000002, 313.44680000000017, 314.19140000000016, 314.86620000000016, 315.5654000000002, 316.2252000000002, 316.8590000000002, 317.45200000000017, 317.99100000000016, 318.4664000000002, 318.74940000000015, 319.1528000000002, 319.58500000000015, 319.80460000000016, 320.0066000000001, 320.33260000000007, 320.5210000000001, 320.4842000000001, 320.3650000000001, 320.36020000000013, 320.1638000000001, 320.23520000000013, 320.2616000000001, 320.36880000000014, 320.41880000000015, 320.5360000000001, 320.6728000000001, 320.9246000000001, 320.9282000000001, 321.04020000000014, 321.1128000000001, 321.0766000000001, 321.0256000000001, 320.9738000000001, 320.9730000000001, 321.0042000000001, 321.05340000000007, 321.10780000000005, 321.1238000000001, 321.2176, 321.3256, 321.3958, 321.52560000000005, 321.8792000000001, 322.18620000000004, 322.707, 322.9888, 323.26739999999995, 323.58, 323.7528, 323.8538, 323.968, 324.00179999999995, 324.13519999999994, 324.2762, 324.3502, 324.41939999999994, 324.54519999999997, 324.6556, 324.759, 324.913, 325.064, 325.2116, 325.63899999999995, 325.8714, 325.9058, 325.8756, 326.07919999999996, 326.525, 326.8396, 327.28520000000003, 327.50159999999994, 327.8606, 328.0399999999999, 328.3809999999999, 328.6637999999999, 328.9347999999999, 329.1543999999999, 329.5921999999999, 329.98579999999987, 330.2829999999999, 330.53859999999986, 331.01319999999987, 331.51859999999976, 331.93379999999974, 332.35239999999976, 332.87299999999976, 333.3151999999998, 333.7139999999997, 333.9381999999997, 334.14199999999965, 334.4163999999997, 334.5673999999997, 334.71239999999966, 334.93039999999974, 335.07319999999976, 335.3407999999998, 335.49779999999976, 335.7317999999998, 336.0539999999998, 336.41439999999983, 336.7199999999998, 337.18879999999973, 337.60419999999976, 337.99059999999974, 338.3629999999997, 338.8031999999997, 339.2471999999996, 339.7357999999996, 340.2733999999996, 340.88099999999963, 341.4523999999996, 341.9155999999996, 342.4073999999996, 343.12339999999966, 343.8961999999997, 344.9223999999997, 345.9053999999997, 346.6661999999997, 347.49459999999976, 348.37979999999976, 349.2193999999997, 349.93479999999965, 350.7307999999997, 351.42739999999975, 352.16139999999973, 352.8397999999997, 353.5567999999996, 354.21499999999963, 354.88279999999963, 355.56399999999957, 356.3403999999996, 357.0079999999996, 357.5905999999996, 358.0995999999996, 358.6419999999996, 359.18959999999964, 359.82939999999957, 360.4265999999996, 361.0773999999996, 361.7055999999996, 362.31959999999964, 363.07219999999955, 363.7839999999996, 364.4441999999996, 365.0973999999996, 365.7309999999996, 366.3839999999997, 366.9253999999996, 367.4149999999996, 367.8581999999996, 368.2933999999997, 368.62579999999963, 368.98299999999966, 369.33019999999965, 369.6313999999997, 369.72519999999975, 369.79979999999983, 369.94279999999986, 370.14099999999985, 370.3971999999999, 370.6521999999999, 370.75619999999986, 370.76599999999985, 370.6939999999998, 370.6185999999998, 370.30699999999973, 370.08479999999975, 369.9895999999997, 369.9323999999997, 369.8259999999997, 369.70239999999967, 369.5531999999997, 369.4169999999997, 369.4027999999997, 369.3881999999997, 369.48019999999974, 369.6149999999998, 369.7777999999998, 369.9989999999998, 370.1303999999998, 370.3125999999998, 370.5153999999998, 370.8007999999998, 371.2409999999998, 371.68399999999986, 372.07799999999986, 372.3943999999999, 372.7705999999999, 373.2389999999999, 373.76259999999996, 374.203, 374.50419999999997, 374.69539999999995, 374.8955999999999, 375.1815999999999]}, {\"mode\": \"lines\", \"name\": \"100MA\", \"type\": \"scatter\", \"x\": [\"2020-08-05\", \"2020-08-06\", \"2020-08-07\", \"2020-08-10\", \"2020-08-11\", \"2020-08-12\", \"2020-08-13\", \"2020-08-14\", \"2020-08-17\", \"2020-08-18\", \"2020-08-19\", \"2020-08-20\", \"2020-08-21\", \"2020-08-24\", \"2020-08-25\", \"2020-08-26\", \"2020-08-27\", \"2020-08-28\", \"2020-08-31\", \"2020-09-01\", \"2020-09-02\", \"2020-09-03\", \"2020-09-04\", \"2020-09-08\", \"2020-09-09\", \"2020-09-10\", \"2020-09-11\", \"2020-09-14\", \"2020-09-15\", \"2020-09-16\", \"2020-09-17\", \"2020-09-18\", \"2020-09-21\", \"2020-09-22\", \"2020-09-23\", \"2020-09-24\", \"2020-09-25\", \"2020-09-28\", \"2020-09-29\", \"2020-09-30\", \"2020-10-01\", \"2020-10-02\", \"2020-10-05\", \"2020-10-06\", \"2020-10-07\", \"2020-10-08\", \"2020-10-09\", \"2020-10-12\", \"2020-10-13\", \"2020-10-14\", \"2020-10-15\", \"2020-10-16\", \"2020-10-19\", \"2020-10-20\", \"2020-10-21\", \"2020-10-22\", \"2020-10-23\", \"2020-10-26\", \"2020-10-27\", \"2020-10-28\", \"2020-10-29\", \"2020-10-30\", \"2020-11-02\", \"2020-11-03\", \"2020-11-04\", \"2020-11-05\", \"2020-11-06\", \"2020-11-09\", \"2020-11-10\", \"2020-11-11\", \"2020-11-12\", \"2020-11-13\", \"2020-11-16\", \"2020-11-17\", \"2020-11-18\", \"2020-11-19\", \"2020-11-20\", \"2020-11-23\", \"2020-11-24\", \"2020-11-25\", \"2020-11-27\", \"2020-11-30\", \"2020-12-01\", \"2020-12-02\", \"2020-12-03\", \"2020-12-04\", \"2020-12-07\", \"2020-12-08\", \"2020-12-09\", \"2020-12-10\", \"2020-12-11\", \"2020-12-14\", \"2020-12-15\", \"2020-12-16\", \"2020-12-17\", \"2020-12-18\", \"2020-12-21\", \"2020-12-22\", \"2020-12-23\", \"2020-12-24\", \"2020-12-28\", \"2020-12-29\", \"2020-12-30\", \"2020-12-31\", \"2021-01-04\", \"2021-01-05\", \"2021-01-06\", \"2021-01-07\", \"2021-01-08\", \"2021-01-11\", \"2021-01-12\", \"2021-01-13\", \"2021-01-14\", \"2021-01-15\", \"2021-01-19\", \"2021-01-20\", \"2021-01-21\", \"2021-01-22\", \"2021-01-25\", \"2021-01-26\", \"2021-01-27\", \"2021-01-28\", \"2021-01-29\", \"2021-02-01\", \"2021-02-02\", \"2021-02-03\", \"2021-02-04\", \"2021-02-05\", \"2021-02-08\", \"2021-02-09\", \"2021-02-10\", \"2021-02-11\", \"2021-02-12\", \"2021-02-16\", \"2021-02-17\", \"2021-02-18\", \"2021-02-19\", \"2021-02-22\", \"2021-02-23\", \"2021-02-24\", \"2021-02-25\", \"2021-02-26\", \"2021-03-01\", \"2021-03-02\", \"2021-03-03\", \"2021-03-04\", \"2021-03-05\", \"2021-03-08\", \"2021-03-09\", \"2021-03-10\", \"2021-03-11\", \"2021-03-12\", \"2021-03-15\", \"2021-03-16\", \"2021-03-17\", \"2021-03-18\", \"2021-03-19\", \"2021-03-22\", \"2021-03-23\", \"2021-03-24\", \"2021-03-25\", \"2021-03-26\", \"2021-03-29\", \"2021-03-30\", \"2021-03-31\", \"2021-04-01\", \"2021-04-05\", \"2021-04-06\", \"2021-04-07\", \"2021-04-08\", \"2021-04-09\", \"2021-04-12\", \"2021-04-13\", \"2021-04-14\", \"2021-04-15\", \"2021-04-16\", \"2021-04-19\", \"2021-04-20\", \"2021-04-21\", \"2021-04-22\", \"2021-04-23\", \"2021-04-26\", \"2021-04-27\", \"2021-04-28\", \"2021-04-29\", \"2021-04-30\", \"2021-05-03\", \"2021-05-04\", \"2021-05-05\", \"2021-05-06\", \"2021-05-07\", \"2021-05-10\", \"2021-05-11\", \"2021-05-12\", \"2021-05-13\", \"2021-05-14\", \"2021-05-17\", \"2021-05-18\", \"2021-05-19\", \"2021-05-20\", \"2021-05-21\", \"2021-05-24\", \"2021-05-25\", \"2021-05-26\", \"2021-05-27\", \"2021-05-28\", \"2021-06-01\", \"2021-06-02\", \"2021-06-03\", \"2021-06-04\", \"2021-06-07\", \"2021-06-08\", \"2021-06-09\", \"2021-06-10\", \"2021-06-11\", \"2021-06-14\", \"2021-06-15\", \"2021-06-16\", \"2021-06-17\", \"2021-06-18\", \"2021-06-21\", \"2021-06-22\", \"2021-06-23\", \"2021-06-24\", \"2021-06-25\", \"2021-06-28\", \"2021-06-29\", \"2021-06-30\", \"2021-07-01\", \"2021-07-02\", \"2021-07-06\", \"2021-07-07\", \"2021-07-08\", \"2021-07-09\", \"2021-07-12\", \"2021-07-13\", \"2021-07-14\", \"2021-07-15\", \"2021-07-16\", \"2021-07-19\", \"2021-07-20\", \"2021-07-21\", \"2021-07-22\", \"2021-07-23\", \"2021-07-26\", \"2021-07-27\", \"2021-07-28\", \"2021-07-29\", \"2021-07-30\", \"2021-08-02\", \"2021-08-03\", \"2021-08-04\", \"2021-08-05\", \"2021-08-06\", \"2021-08-09\", \"2021-08-10\", \"2021-08-11\", \"2021-08-12\", \"2021-08-13\", \"2021-08-16\", \"2021-08-17\", \"2021-08-18\", \"2021-08-19\", \"2021-08-20\", \"2021-08-23\", \"2021-08-24\", \"2021-08-25\", \"2021-08-26\", \"2021-08-27\", \"2021-08-30\", \"2021-08-31\", \"2021-09-01\", \"2021-09-02\", \"2021-09-03\", \"2021-09-07\", \"2021-09-08\", \"2021-09-09\", \"2021-09-10\", \"2021-09-13\", \"2021-09-14\", \"2021-09-15\", \"2021-09-16\", \"2021-09-17\", \"2021-09-20\", \"2021-09-21\", \"2021-09-22\", \"2021-09-23\", \"2021-09-24\", \"2021-09-27\", \"2021-09-28\", \"2021-09-29\", \"2021-09-30\", \"2021-10-01\", \"2021-10-04\", \"2021-10-05\", \"2021-10-06\", \"2021-10-07\", \"2021-10-08\", \"2021-10-11\", \"2021-10-12\", \"2021-10-13\", \"2021-10-14\", \"2021-10-15\", \"2021-10-18\", \"2021-10-19\", \"2021-10-20\", \"2021-10-21\", \"2021-10-22\", \"2021-10-25\", \"2021-10-26\", \"2021-10-27\", \"2021-10-28\", \"2021-10-29\", \"2021-11-01\", \"2021-11-02\", \"2021-11-03\", \"2021-11-04\", \"2021-11-05\", \"2021-11-08\", \"2021-11-09\", \"2021-11-10\", \"2021-11-11\", \"2021-11-12\"], \"y\": [228.18540000000016, 229.23880000000017, 230.13210000000018, 231.0692000000002, 231.94450000000018, 232.9561000000002, 233.97630000000018, 234.8613000000002, 235.79150000000018, 236.6522000000002, 237.56020000000018, 238.43910000000017, 239.35380000000015, 240.36700000000016, 241.36550000000017, 242.45140000000018, 243.39710000000017, 244.35840000000016, 245.30150000000015, 246.29210000000015, 247.28940000000014, 248.04490000000013, 248.78640000000013, 249.35340000000014, 249.97930000000014, 250.57530000000014, 251.23090000000013, 251.87280000000013, 252.55820000000014, 253.16590000000014, 253.71350000000012, 254.26720000000012, 254.7523000000001, 255.2880000000001, 255.80220000000008, 256.30390000000006, 256.8429000000001, 257.4249000000001, 257.9662000000001, 258.4960000000001, 259.0498000000001, 259.57170000000013, 260.17990000000015, 260.7132000000001, 261.2797000000001, 261.81950000000006, 262.4080000000001, 263.03940000000006, 263.69590000000005, 264.3199000000001, 264.93050000000005, 265.51270000000005, 266.05080000000004, 266.5613, 267.0626, 267.5481, 268.0286, 268.483, 268.91270000000003, 269.21360000000004, 269.5445, 269.77610000000004, 270.13570000000004, 270.52340000000004, 271.00500000000005, 271.52040000000005, 272.03030000000007, 272.4734000000001, 272.8652, 273.29540000000003, 273.69100000000003, 274.1632, 274.6349000000001, 275.15540000000004, 275.6281000000001, 276.07590000000005, 276.4748000000001, 276.8568000000001, 277.2176000000001, 277.61430000000007, 278.00450000000006, 278.37890000000004, 278.7738, 279.2269, 279.666, 280.1122, 280.5935, 281.0822, 281.4275, 281.81270000000006, 282.18190000000004, 282.64220000000006, 283.15950000000004, 283.64810000000006, 284.19000000000005, 284.69290000000007, 285.17080000000004, 285.6105, 285.9987, 286.3905, 286.8068, 287.19, 287.605, 288.0393, 288.4805, 288.88050000000004, 289.2311, 289.65930000000003, 290.0964, 290.4609, 290.8391, 291.2002, 291.525, 291.8073, 292.1128, 292.4309, 292.784, 293.1129, 293.4452, 293.7319, 293.89860000000004, 294.2377, 294.5475, 295.0722, 295.5702, 296.11060000000003, 296.7085, 297.2705, 297.81570000000005, 298.4047, 299.029, 299.70610000000005, 300.3955000000001, 301.0261000000001, 301.7238000000001, 302.3946000000001, 302.9892000000001, 303.44160000000005, 303.8969000000001, 304.35980000000006, 304.6656000000001, 305.06390000000005, 305.49820000000005, 305.9306000000001, 306.2230000000001, 306.44990000000007, 306.6796000000001, 306.7337000000001, 306.9062000000001, 307.0944000000001, 307.37380000000013, 307.6433000000001, 307.99360000000013, 308.35530000000017, 308.7324000000002, 309.0110000000002, 309.2950000000002, 309.67640000000017, 310.02200000000016, 310.4243000000002, 310.7737000000002, 311.2399000000002, 311.6992000000002, 312.0959000000002, 312.4181000000002, 312.7199000000002, 313.0843000000002, 313.50660000000016, 313.9886000000002, 314.4418000000002, 314.9289000000002, 315.3863000000002, 315.86030000000017, 316.30270000000013, 316.8177000000002, 317.31400000000014, 317.79900000000015, 318.25920000000013, 318.7074000000001, 319.09660000000014, 319.50070000000017, 319.92080000000016, 320.2877000000002, 320.6392000000002, 320.99860000000024, 321.32330000000024, 321.61270000000025, 321.8312000000002, 322.1084000000002, 322.3983000000002, 322.7218000000002, 322.93900000000014, 323.11920000000015, 323.1983000000002, 323.28170000000017, 323.44500000000016, 323.59990000000016, 323.7245000000002, 323.8684000000002, 324.0611000000002, 324.2044000000002, 324.3999000000002, 324.5999000000001, 324.8038000000001, 325.0395000000001, 325.26020000000005, 325.51300000000003, 325.69790000000006, 325.8076000000001, 326.0194000000001, 326.2462000000001, 326.4534000000001, 326.6783000000001, 326.9632000000001, 327.21150000000006, 327.4189, 327.5779, 327.73380000000003, 327.9061, 328.04650000000004, 328.29580000000004, 328.55830000000003, 328.8901, 329.1648, 329.3826, 329.65590000000003, 329.90340000000003, 330.13410000000005, 330.344, 330.5953, 330.8697, 331.13339999999994, 331.35659999999996, 331.61129999999997, 331.89619999999996, 332.19569999999993, 332.51619999999997, 332.8969999999999, 333.2581999999999, 333.56359999999984, 334.02319999999986, 334.49739999999986, 334.90099999999984, 335.3989999999998, 335.9922999999997, 336.59559999999976, 337.1670999999998, 337.83249999999975, 338.36049999999983, 338.8976999999998, 339.3853999999998, 339.9041999999998, 340.4125999999997, 340.88729999999975, 341.35559999999975, 341.9035999999997, 342.4342999999997, 342.9234999999997, 343.43949999999967, 344.01059999999967, 344.5545999999997, 345.0166999999997, 345.4971999999996, 346.0312999999997, 346.57229999999976, 347.07029999999975, 347.50779999999975, 347.92379999999974, 348.3679999999997, 348.81979999999976, 349.2481999999997, 349.68729999999977, 350.0852999999998, 350.53589999999974, 350.9408999999998, 351.3285999999997, 351.73449999999974, 352.13629999999966, 352.5066999999997, 352.90729999999974, 353.2935999999998, 353.6603999999998, 353.9971999999998, 354.2641999999998, 354.5234999999998, 354.8392999999998, 355.2071999999998, 355.6390999999998, 356.05229999999983, 356.3358999999998, 356.58669999999984, 356.9086999999998, 357.25739999999985, 357.61469999999986, 357.99509999999987, 358.3278999999999, 358.71349999999984, 359.10289999999986, 359.46089999999987, 359.74399999999986, 360.07389999999987, 360.4150999999998, 360.7747999999998, 361.15999999999985, 361.58589999999987, 361.99639999999994, 362.4408999999999, 362.8471999999999, 363.3264999999999, 363.7616999999999, 364.19569999999993, 364.67029999999994, 365.16299999999995, 365.63379999999995, 366.11190000000005, 366.59860000000003, 367.1582, 367.73409999999996, 368.26129999999995, 368.7882, 369.2397, 369.6699, 370.1395]}, {\"mode\": \"lines\", \"name\": \"200MA\", \"type\": \"scatter\", \"x\": [\"2020-08-05\", \"2020-08-06\", \"2020-08-07\", \"2020-08-10\", \"2020-08-11\", \"2020-08-12\", \"2020-08-13\", \"2020-08-14\", \"2020-08-17\", \"2020-08-18\", \"2020-08-19\", \"2020-08-20\", \"2020-08-21\", \"2020-08-24\", \"2020-08-25\", \"2020-08-26\", \"2020-08-27\", \"2020-08-28\", \"2020-08-31\", \"2020-09-01\", \"2020-09-02\", \"2020-09-03\", \"2020-09-04\", \"2020-09-08\", \"2020-09-09\", \"2020-09-10\", \"2020-09-11\", \"2020-09-14\", \"2020-09-15\", \"2020-09-16\", \"2020-09-17\", \"2020-09-18\", \"2020-09-21\", \"2020-09-22\", \"2020-09-23\", \"2020-09-24\", \"2020-09-25\", \"2020-09-28\", \"2020-09-29\", \"2020-09-30\", \"2020-10-01\", \"2020-10-02\", \"2020-10-05\", \"2020-10-06\", \"2020-10-07\", \"2020-10-08\", \"2020-10-09\", \"2020-10-12\", \"2020-10-13\", \"2020-10-14\", \"2020-10-15\", \"2020-10-16\", \"2020-10-19\", \"2020-10-20\", \"2020-10-21\", \"2020-10-22\", \"2020-10-23\", \"2020-10-26\", \"2020-10-27\", \"2020-10-28\", \"2020-10-29\", \"2020-10-30\", \"2020-11-02\", \"2020-11-03\", \"2020-11-04\", \"2020-11-05\", \"2020-11-06\", \"2020-11-09\", \"2020-11-10\", \"2020-11-11\", \"2020-11-12\", \"2020-11-13\", \"2020-11-16\", \"2020-11-17\", \"2020-11-18\", \"2020-11-19\", \"2020-11-20\", \"2020-11-23\", \"2020-11-24\", \"2020-11-25\", \"2020-11-27\", \"2020-11-30\", \"2020-12-01\", \"2020-12-02\", \"2020-12-03\", \"2020-12-04\", \"2020-12-07\", \"2020-12-08\", \"2020-12-09\", \"2020-12-10\", \"2020-12-11\", \"2020-12-14\", \"2020-12-15\", \"2020-12-16\", \"2020-12-17\", \"2020-12-18\", \"2020-12-21\", \"2020-12-22\", \"2020-12-23\", \"2020-12-24\", \"2020-12-28\", \"2020-12-29\", \"2020-12-30\", \"2020-12-31\", \"2021-01-04\", \"2021-01-05\", \"2021-01-06\", \"2021-01-07\", \"2021-01-08\", \"2021-01-11\", \"2021-01-12\", \"2021-01-13\", \"2021-01-14\", \"2021-01-15\", \"2021-01-19\", \"2021-01-20\", \"2021-01-21\", \"2021-01-22\", \"2021-01-25\", \"2021-01-26\", \"2021-01-27\", \"2021-01-28\", \"2021-01-29\", \"2021-02-01\", \"2021-02-02\", \"2021-02-03\", \"2021-02-04\", \"2021-02-05\", \"2021-02-08\", \"2021-02-09\", \"2021-02-10\", \"2021-02-11\", \"2021-02-12\", \"2021-02-16\", \"2021-02-17\", \"2021-02-18\", \"2021-02-19\", \"2021-02-22\", \"2021-02-23\", \"2021-02-24\", \"2021-02-25\", \"2021-02-26\", \"2021-03-01\", \"2021-03-02\", \"2021-03-03\", \"2021-03-04\", \"2021-03-05\", \"2021-03-08\", \"2021-03-09\", \"2021-03-10\", \"2021-03-11\", \"2021-03-12\", \"2021-03-15\", \"2021-03-16\", \"2021-03-17\", \"2021-03-18\", \"2021-03-19\", \"2021-03-22\", \"2021-03-23\", \"2021-03-24\", \"2021-03-25\", \"2021-03-26\", \"2021-03-29\", \"2021-03-30\", \"2021-03-31\", \"2021-04-01\", \"2021-04-05\", \"2021-04-06\", \"2021-04-07\", \"2021-04-08\", \"2021-04-09\", \"2021-04-12\", \"2021-04-13\", \"2021-04-14\", \"2021-04-15\", \"2021-04-16\", \"2021-04-19\", \"2021-04-20\", \"2021-04-21\", \"2021-04-22\", \"2021-04-23\", \"2021-04-26\", \"2021-04-27\", \"2021-04-28\", \"2021-04-29\", \"2021-04-30\", \"2021-05-03\", \"2021-05-04\", \"2021-05-05\", \"2021-05-06\", \"2021-05-07\", \"2021-05-10\", \"2021-05-11\", \"2021-05-12\", \"2021-05-13\", \"2021-05-14\", \"2021-05-17\", \"2021-05-18\", \"2021-05-19\", \"2021-05-20\", \"2021-05-21\", \"2021-05-24\", \"2021-05-25\", \"2021-05-26\", \"2021-05-27\", \"2021-05-28\", \"2021-06-01\", \"2021-06-02\", \"2021-06-03\", \"2021-06-04\", \"2021-06-07\", \"2021-06-08\", \"2021-06-09\", \"2021-06-10\", \"2021-06-11\", \"2021-06-14\", \"2021-06-15\", \"2021-06-16\", \"2021-06-17\", \"2021-06-18\", \"2021-06-21\", \"2021-06-22\", \"2021-06-23\", \"2021-06-24\", \"2021-06-25\", \"2021-06-28\", \"2021-06-29\", \"2021-06-30\", \"2021-07-01\", \"2021-07-02\", \"2021-07-06\", \"2021-07-07\", \"2021-07-08\", \"2021-07-09\", \"2021-07-12\", \"2021-07-13\", \"2021-07-14\", \"2021-07-15\", \"2021-07-16\", \"2021-07-19\", \"2021-07-20\", \"2021-07-21\", \"2021-07-22\", \"2021-07-23\", \"2021-07-26\", \"2021-07-27\", \"2021-07-28\", \"2021-07-29\", \"2021-07-30\", \"2021-08-02\", \"2021-08-03\", \"2021-08-04\", \"2021-08-05\", \"2021-08-06\", \"2021-08-09\", \"2021-08-10\", \"2021-08-11\", \"2021-08-12\", \"2021-08-13\", \"2021-08-16\", \"2021-08-17\", \"2021-08-18\", \"2021-08-19\", \"2021-08-20\", \"2021-08-23\", \"2021-08-24\", \"2021-08-25\", \"2021-08-26\", \"2021-08-27\", \"2021-08-30\", \"2021-08-31\", \"2021-09-01\", \"2021-09-02\", \"2021-09-03\", \"2021-09-07\", \"2021-09-08\", \"2021-09-09\", \"2021-09-10\", \"2021-09-13\", \"2021-09-14\", \"2021-09-15\", \"2021-09-16\", \"2021-09-17\", \"2021-09-20\", \"2021-09-21\", \"2021-09-22\", \"2021-09-23\", \"2021-09-24\", \"2021-09-27\", \"2021-09-28\", \"2021-09-29\", \"2021-09-30\", \"2021-10-01\", \"2021-10-04\", \"2021-10-05\", \"2021-10-06\", \"2021-10-07\", \"2021-10-08\", \"2021-10-11\", \"2021-10-12\", \"2021-10-13\", \"2021-10-14\", \"2021-10-15\", \"2021-10-18\", \"2021-10-19\", \"2021-10-20\", \"2021-10-21\", \"2021-10-22\", \"2021-10-25\", \"2021-10-26\", \"2021-10-27\", \"2021-10-28\", \"2021-10-29\", \"2021-11-01\", \"2021-11-02\", \"2021-11-03\", \"2021-11-04\", \"2021-11-05\", \"2021-11-08\", \"2021-11-09\", \"2021-11-10\", \"2021-11-11\", \"2021-11-12\"], \"y\": [219.67479999999992, 220.08104999999992, 220.47914999999995, 220.8695999999999, 221.22509999999994, 221.60619999999994, 221.98074999999997, 222.36135, 222.753, 223.15744999999998, 223.54359999999997, 223.94275, 224.35105, 224.77039999999997, 225.19754999999998, 225.65119999999996, 226.10164999999998, 226.55659999999997, 227.02304999999996, 227.51549999999995, 228.01474999999994, 228.43644999999998, 228.83749999999998, 229.17649999999995, 229.55739999999994, 229.90994999999992, 230.2410999999999, 230.59384999999992, 230.9589499999999, 231.30649999999991, 231.6430999999999, 231.9703999999999, 232.2957999999999, 232.6440499999999, 232.93984999999992, 233.24644999999992, 233.5847499999999, 233.9458499999999, 234.29304999999985, 234.64629999999983, 235.01119999999983, 235.33579999999984, 235.68884999999983, 236.01034999999985, 236.35139999999984, 236.69939999999988, 237.0683499999999, 237.47204999999988, 237.87659999999985, 238.27584999999985, 238.66329999999982, 239.02504999999982, 239.37314999999984, 239.71739999999988, 240.06069999999988, 240.39584999999988, 240.7245999999999, 241.03479999999988, 241.34334999999993, 241.6011499999999, 241.8822499999999, 242.11774999999992, 242.35074999999995, 242.60759999999993, 242.92279999999994, 243.27179999999996, 243.63135, 243.98379999999997, 244.29364999999999, 244.6334, 244.9624, 245.32170000000002, 245.6758, 245.9998, 246.30925, 246.62019999999995, 246.92609999999996, 247.21819999999997, 247.53049999999996, 247.84054999999998, 248.16574999999997, 248.49065, 248.83429999999996, 249.16864999999996, 249.51614999999995, 249.89239999999995, 250.32169999999994, 250.78629999999993, 251.21044999999992, 251.6948499999999, 252.17509999999987, 252.6131999999999, 253.10224999999988, 253.55604999999989, 254.05309999999992, 254.5632999999999, 255.1400499999999, 255.6682999999999, 256.2331999999999, 256.8943999999999, 257.4960999999999, 258.2143999999999, 258.8685499999999, 259.5542499999999, 260.21249999999986, 260.9182999999999, 261.6036999999999, 262.26029999999986, 262.94394999999986, 263.55654999999985, 264.1996499999998, 264.8196499999998, 265.4393999999998, 266.08714999999984, 266.7391499999998, 267.4411499999998, 268.0905499999998, 268.7356499999998, 269.3733499999998, 270.0119999999998, 270.59399999999977, 271.1412999999998, 271.66694999999976, 272.21279999999973, 272.77474999999976, 273.34294999999975, 273.9696999999997, 274.5716499999997, 275.18694999999974, 275.7852999999998, 276.3712499999998, 276.98664999999977, 277.57389999999975, 278.15704999999974, 278.76299999999975, 279.34924999999976, 279.91604999999976, 280.43324999999976, 280.9315499999998, 281.42789999999974, 281.85769999999974, 282.31779999999975, 282.83904999999976, 283.32189999999974, 283.7513499999998, 284.1346999999998, 284.54379999999975, 284.8865499999998, 285.30104999999975, 285.70714999999973, 286.1521499999997, 286.5779999999997, 287.0221999999997, 287.4582999999997, 287.89749999999975, 288.27954999999974, 288.66179999999974, 289.0796999999998, 289.4673499999997, 289.81894999999975, 290.15909999999974, 290.50799999999975, 290.91744999999975, 291.3096499999998, 291.71154999999976, 292.1201499999998, 292.55729999999977, 292.9899999999998, 293.4268999999998, 293.86859999999984, 294.30994999999984, 294.7747499999998, 295.24759999999986, 295.72904999999986, 296.22289999999987, 296.6949499999999, 297.13689999999986, 297.5579999999999, 297.96249999999986, 298.35544999999985, 298.75259999999986, 299.14984999999984, 299.53074999999984, 299.93304999999987, 300.33229999999986, 300.71774999999985, 301.1030999999998, 301.45669999999984, 301.7679499999998, 302.10549999999984, 302.4518499999998, 302.7905999999998, 303.1393499999998, 303.42319999999984, 303.7358499999998, 304.0689499999998, 304.38534999999985, 304.66749999999985, 304.93354999999985, 305.2257999999999, 305.50559999999984, 305.79494999999986, 306.10244999999986, 306.42154999999985, 306.7599999999999, 307.07034999999985, 307.37204999999983, 307.67859999999985, 307.9519999999998, 308.2401499999998, 308.5426499999998, 308.8267999999998, 309.1016499999998, 309.3852499999998, 309.66214999999977, 309.9248999999998, 310.18094999999977, 310.4233499999998, 310.6756499999998, 310.8891999999998, 311.0971999999998, 311.3979999999998, 311.71879999999976, 312.11849999999976, 312.4763999999998, 312.8832499999998, 313.30594999999977, 313.70229999999975, 314.0798499999998, 314.4999999999998, 314.9493499999998, 315.4197499999998, 315.87604999999974, 316.31869999999975, 316.8099999999997, 317.2951499999997, 317.7526999999997, 318.16929999999974, 318.57754999999975, 318.9616999999997, 319.3443999999997, 319.78064999999975, 320.1995999999997, 320.6647999999997, 321.1076499999997, 321.52274999999963, 321.9233499999997, 322.2830999999997, 322.6333499999997, 322.9960499999997, 323.3795999999997, 323.77374999999967, 324.20309999999967, 324.6212999999996, 325.04399999999964, 325.45729999999963, 325.86464999999964, 326.2999499999997, 326.73074999999966, 327.21744999999964, 327.66414999999967, 328.1282999999996, 328.5981999999997, 329.0635999999997, 329.49519999999967, 329.8950999999997, 330.2960499999997, 330.7151999999997, 331.17829999999964, 331.6307999999997, 332.08854999999966, 332.5367999999997, 332.9727999999997, 333.41929999999974, 333.8792999999997, 334.32129999999967, 334.76674999999966, 335.19774999999964, 335.6070499999997, 336.0019499999996, 336.39714999999967, 336.7905999999997, 337.14244999999966, 337.4516999999996, 337.7610499999996, 338.0812999999996, 338.4099499999996, 338.73514999999963, 339.08034999999967, 339.36709999999965, 339.6542499999996, 339.9238499999997, 340.18829999999963, 340.40649999999965, 340.63839999999965, 340.8864499999997, 341.1566999999997, 341.4136999999997, 341.66464999999977, 341.90254999999974, 342.1391499999998, 342.4074999999998, 342.6873499999998, 342.9818999999997, 343.3126999999997, 343.62829999999974, 343.97694999999976, 344.27254999999985, 344.5670499999998, 344.8905499999998, 345.2209499999998, 345.5618499999998, 345.9206499999998, 346.29849999999976, 346.66169999999977, 347.00874999999974, 347.3680499999997, 347.73394999999977, 348.08369999999974, 348.4173499999998, 348.7677499999998, 349.1140999999997, 349.51479999999975]}],\n",
              "                        {\"height\": 450, \"template\": {\"data\": {\"bar\": [{\"error_x\": {\"color\": \"#2a3f5f\"}, \"error_y\": {\"color\": \"#2a3f5f\"}, \"marker\": {\"line\": {\"color\": \"#E5ECF6\", \"width\": 0.5}}, \"type\": \"bar\"}], \"barpolar\": [{\"marker\": {\"line\": {\"color\": \"#E5ECF6\", \"width\": 0.5}}, \"type\": \"barpolar\"}], \"carpet\": [{\"aaxis\": {\"endlinecolor\": \"#2a3f5f\", \"gridcolor\": \"white\", \"linecolor\": \"white\", \"minorgridcolor\": \"white\", \"startlinecolor\": \"#2a3f5f\"}, \"baxis\": {\"endlinecolor\": \"#2a3f5f\", \"gridcolor\": \"white\", \"linecolor\": \"white\", \"minorgridcolor\": \"white\", \"startlinecolor\": \"#2a3f5f\"}, \"type\": \"carpet\"}], \"choropleth\": [{\"colorbar\": {\"outlinewidth\": 0, \"ticks\": \"\"}, \"type\": \"choropleth\"}], \"contour\": [{\"colorbar\": {\"outlinewidth\": 0, \"ticks\": \"\"}, \"colorscale\": [[0.0, \"#0d0887\"], [0.1111111111111111, \"#46039f\"], [0.2222222222222222, \"#7201a8\"], [0.3333333333333333, \"#9c179e\"], [0.4444444444444444, \"#bd3786\"], [0.5555555555555556, \"#d8576b\"], [0.6666666666666666, \"#ed7953\"], [0.7777777777777778, \"#fb9f3a\"], [0.8888888888888888, \"#fdca26\"], [1.0, \"#f0f921\"]], \"type\": \"contour\"}], \"contourcarpet\": [{\"colorbar\": {\"outlinewidth\": 0, \"ticks\": \"\"}, \"type\": \"contourcarpet\"}], \"heatmap\": [{\"colorbar\": {\"outlinewidth\": 0, \"ticks\": \"\"}, \"colorscale\": [[0.0, \"#0d0887\"], [0.1111111111111111, \"#46039f\"], [0.2222222222222222, \"#7201a8\"], [0.3333333333333333, \"#9c179e\"], [0.4444444444444444, \"#bd3786\"], [0.5555555555555556, \"#d8576b\"], [0.6666666666666666, \"#ed7953\"], [0.7777777777777778, \"#fb9f3a\"], [0.8888888888888888, \"#fdca26\"], [1.0, \"#f0f921\"]], \"type\": \"heatmap\"}], \"heatmapgl\": [{\"colorbar\": {\"outlinewidth\": 0, \"ticks\": \"\"}, \"colorscale\": [[0.0, \"#0d0887\"], [0.1111111111111111, \"#46039f\"], [0.2222222222222222, \"#7201a8\"], [0.3333333333333333, \"#9c179e\"], [0.4444444444444444, \"#bd3786\"], [0.5555555555555556, \"#d8576b\"], [0.6666666666666666, \"#ed7953\"], [0.7777777777777778, \"#fb9f3a\"], [0.8888888888888888, \"#fdca26\"], [1.0, \"#f0f921\"]], \"type\": \"heatmapgl\"}], \"histogram\": [{\"marker\": {\"colorbar\": {\"outlinewidth\": 0, \"ticks\": \"\"}}, \"type\": \"histogram\"}], \"histogram2d\": [{\"colorbar\": {\"outlinewidth\": 0, \"ticks\": \"\"}, \"colorscale\": [[0.0, \"#0d0887\"], [0.1111111111111111, \"#46039f\"], [0.2222222222222222, \"#7201a8\"], [0.3333333333333333, \"#9c179e\"], [0.4444444444444444, \"#bd3786\"], [0.5555555555555556, \"#d8576b\"], [0.6666666666666666, \"#ed7953\"], [0.7777777777777778, \"#fb9f3a\"], [0.8888888888888888, \"#fdca26\"], [1.0, \"#f0f921\"]], \"type\": \"histogram2d\"}], \"histogram2dcontour\": [{\"colorbar\": {\"outlinewidth\": 0, \"ticks\": \"\"}, \"colorscale\": [[0.0, \"#0d0887\"], [0.1111111111111111, \"#46039f\"], [0.2222222222222222, \"#7201a8\"], [0.3333333333333333, \"#9c179e\"], [0.4444444444444444, \"#bd3786\"], [0.5555555555555556, \"#d8576b\"], [0.6666666666666666, \"#ed7953\"], [0.7777777777777778, \"#fb9f3a\"], [0.8888888888888888, \"#fdca26\"], [1.0, \"#f0f921\"]], \"type\": \"histogram2dcontour\"}], \"mesh3d\": [{\"colorbar\": {\"outlinewidth\": 0, \"ticks\": \"\"}, \"type\": \"mesh3d\"}], \"parcoords\": [{\"line\": {\"colorbar\": {\"outlinewidth\": 0, \"ticks\": \"\"}}, \"type\": \"parcoords\"}], \"pie\": [{\"automargin\": true, \"type\": \"pie\"}], \"scatter\": [{\"marker\": {\"colorbar\": {\"outlinewidth\": 0, \"ticks\": \"\"}}, \"type\": \"scatter\"}], \"scatter3d\": [{\"line\": {\"colorbar\": {\"outlinewidth\": 0, \"ticks\": \"\"}}, \"marker\": {\"colorbar\": {\"outlinewidth\": 0, \"ticks\": \"\"}}, \"type\": \"scatter3d\"}], \"scattercarpet\": [{\"marker\": {\"colorbar\": {\"outlinewidth\": 0, \"ticks\": \"\"}}, \"type\": \"scattercarpet\"}], \"scattergeo\": [{\"marker\": {\"colorbar\": {\"outlinewidth\": 0, \"ticks\": \"\"}}, \"type\": \"scattergeo\"}], \"scattergl\": [{\"marker\": {\"colorbar\": {\"outlinewidth\": 0, \"ticks\": \"\"}}, \"type\": \"scattergl\"}], \"scattermapbox\": [{\"marker\": {\"colorbar\": {\"outlinewidth\": 0, \"ticks\": \"\"}}, \"type\": \"scattermapbox\"}], \"scatterpolar\": [{\"marker\": {\"colorbar\": {\"outlinewidth\": 0, \"ticks\": \"\"}}, \"type\": \"scatterpolar\"}], \"scatterpolargl\": [{\"marker\": {\"colorbar\": {\"outlinewidth\": 0, \"ticks\": \"\"}}, \"type\": \"scatterpolargl\"}], \"scatterternary\": [{\"marker\": {\"colorbar\": {\"outlinewidth\": 0, \"ticks\": \"\"}}, \"type\": \"scatterternary\"}], \"surface\": [{\"colorbar\": {\"outlinewidth\": 0, \"ticks\": \"\"}, \"colorscale\": [[0.0, \"#0d0887\"], [0.1111111111111111, \"#46039f\"], [0.2222222222222222, \"#7201a8\"], [0.3333333333333333, \"#9c179e\"], [0.4444444444444444, \"#bd3786\"], [0.5555555555555556, \"#d8576b\"], [0.6666666666666666, \"#ed7953\"], [0.7777777777777778, \"#fb9f3a\"], [0.8888888888888888, \"#fdca26\"], [1.0, \"#f0f921\"]], \"type\": \"surface\"}], \"table\": [{\"cells\": {\"fill\": {\"color\": \"#EBF0F8\"}, \"line\": {\"color\": \"white\"}}, \"header\": {\"fill\": {\"color\": \"#C8D4E3\"}, \"line\": {\"color\": \"white\"}}, \"type\": \"table\"}]}, \"layout\": {\"annotationdefaults\": {\"arrowcolor\": \"#2a3f5f\", \"arrowhead\": 0, \"arrowwidth\": 1}, \"coloraxis\": {\"colorbar\": {\"outlinewidth\": 0, \"ticks\": \"\"}}, \"colorscale\": {\"diverging\": [[0, \"#8e0152\"], [0.1, \"#c51b7d\"], [0.2, \"#de77ae\"], [0.3, \"#f1b6da\"], [0.4, \"#fde0ef\"], [0.5, \"#f7f7f7\"], [0.6, \"#e6f5d0\"], [0.7, \"#b8e186\"], [0.8, \"#7fbc41\"], [0.9, \"#4d9221\"], [1, \"#276419\"]], \"sequential\": [[0.0, \"#0d0887\"], [0.1111111111111111, \"#46039f\"], [0.2222222222222222, \"#7201a8\"], [0.3333333333333333, \"#9c179e\"], [0.4444444444444444, \"#bd3786\"], [0.5555555555555556, \"#d8576b\"], [0.6666666666666666, \"#ed7953\"], [0.7777777777777778, \"#fb9f3a\"], [0.8888888888888888, \"#fdca26\"], [1.0, \"#f0f921\"]], \"sequentialminus\": [[0.0, \"#0d0887\"], [0.1111111111111111, \"#46039f\"], [0.2222222222222222, \"#7201a8\"], [0.3333333333333333, \"#9c179e\"], [0.4444444444444444, \"#bd3786\"], [0.5555555555555556, \"#d8576b\"], [0.6666666666666666, \"#ed7953\"], [0.7777777777777778, \"#fb9f3a\"], [0.8888888888888888, \"#fdca26\"], [1.0, \"#f0f921\"]]}, \"colorway\": [\"#636efa\", \"#EF553B\", \"#00cc96\", \"#ab63fa\", \"#FFA15A\", \"#19d3f3\", \"#FF6692\", \"#B6E880\", \"#FF97FF\", \"#FECB52\"], \"font\": {\"color\": \"#2a3f5f\"}, \"geo\": {\"bgcolor\": \"white\", \"lakecolor\": \"white\", \"landcolor\": \"#E5ECF6\", \"showlakes\": true, \"showland\": true, \"subunitcolor\": \"white\"}, \"hoverlabel\": {\"align\": \"left\"}, \"hovermode\": \"closest\", \"mapbox\": {\"style\": \"light\"}, \"paper_bgcolor\": \"white\", \"plot_bgcolor\": \"#E5ECF6\", \"polar\": {\"angularaxis\": {\"gridcolor\": \"white\", \"linecolor\": \"white\", \"ticks\": \"\"}, \"bgcolor\": \"#E5ECF6\", \"radialaxis\": {\"gridcolor\": \"white\", \"linecolor\": \"white\", \"ticks\": \"\"}}, \"scene\": {\"xaxis\": {\"backgroundcolor\": \"#E5ECF6\", \"gridcolor\": \"white\", \"gridwidth\": 2, \"linecolor\": \"white\", \"showbackground\": true, \"ticks\": \"\", \"zerolinecolor\": \"white\"}, \"yaxis\": {\"backgroundcolor\": \"#E5ECF6\", \"gridcolor\": \"white\", \"gridwidth\": 2, \"linecolor\": \"white\", \"showbackground\": true, \"ticks\": \"\", \"zerolinecolor\": \"white\"}, \"zaxis\": {\"backgroundcolor\": \"#E5ECF6\", \"gridcolor\": \"white\", \"gridwidth\": 2, \"linecolor\": \"white\", \"showbackground\": true, \"ticks\": \"\", \"zerolinecolor\": \"white\"}}, \"shapedefaults\": {\"line\": {\"color\": \"#2a3f5f\"}}, \"ternary\": {\"aaxis\": {\"gridcolor\": \"white\", \"linecolor\": \"white\", \"ticks\": \"\"}, \"baxis\": {\"gridcolor\": \"white\", \"linecolor\": \"white\", \"ticks\": \"\"}, \"bgcolor\": \"#E5ECF6\", \"caxis\": {\"gridcolor\": \"white\", \"linecolor\": \"white\", \"ticks\": \"\"}}, \"title\": {\"x\": 0.05}, \"xaxis\": {\"automargin\": true, \"gridcolor\": \"white\", \"linecolor\": \"white\", \"ticks\": \"\", \"title\": {\"standoff\": 15}, \"zerolinecolor\": \"white\", \"zerolinewidth\": 2}, \"yaxis\": {\"automargin\": true, \"gridcolor\": \"white\", \"linecolor\": \"white\", \"ticks\": \"\", \"title\": {\"standoff\": 15}, \"zerolinecolor\": \"white\", \"zerolinewidth\": 2}}}, \"title\": {\"text\": \"QQQ Date:2021-11-12 Open:391.77 High:390.13 Low:395.25 Close:394.7\"}, \"xaxis\": {\"rangeslider\": {\"visible\": false}, \"showspikes\": true, \"spikedash\": \"dash\", \"spikemode\": \"across\", \"spikesnap\": \"cursor\", \"title\": {\"text\": \"Dates\"}}, \"yaxis\": {\"showspikes\": true, \"spikedash\": \"dash\", \"spikemode\": \"across\", \"spikesnap\": \"cursor\", \"title\": {\"text\": \"Close Price ($)\"}}},\n",
              "                        {\"scrollZoom\": true, \"responsive\": true}\n",
              "                    ).then(function(){\n",
              "                            \n",
              "var gd = document.getElementById('56e6fd08-1fe3-48c9-9258-55539e530552');\n",
              "var x = new MutationObserver(function (mutations, observer) {{\n",
              "        var display = window.getComputedStyle(gd).display;\n",
              "        if (!display || display === 'none') {{\n",
              "            console.log([gd, 'removed!']);\n",
              "            Plotly.purge(gd);\n",
              "            observer.disconnect();\n",
              "        }}\n",
              "}});\n",
              "\n",
              "// Listen for the removal of the full notebook cells\n",
              "var notebookContainer = gd.closest('#notebook-container');\n",
              "if (notebookContainer) {{\n",
              "    x.observe(notebookContainer, {childList: true});\n",
              "}}\n",
              "\n",
              "// Listen for the clearing of the current output cell\n",
              "var outputEl = gd.closest('.output');\n",
              "if (outputEl) {{\n",
              "    x.observe(outputEl, {childList: true});\n",
              "}}\n",
              "\n",
              "                        })\n",
              "                };\n",
              "                \n",
              "            </script>\n",
              "        </div>\n",
              "</body>\n",
              "</html>"
            ]
          },
          "metadata": {}
        },
        {
          "output_type": "display_data",
          "data": {
            "text/html": [
              "<html>\n",
              "<head><meta charset=\"utf-8\" /></head>\n",
              "<body>\n",
              "    <div>\n",
              "            <script src=\"https://cdnjs.cloudflare.com/ajax/libs/mathjax/2.7.5/MathJax.js?config=TeX-AMS-MML_SVG\"></script><script type=\"text/javascript\">if (window.MathJax) {MathJax.Hub.Config({SVG: {font: \"STIX-Web\"}});}</script>\n",
              "                <script type=\"text/javascript\">window.PlotlyConfig = {MathJaxConfig: 'local'};</script>\n",
              "        <script src=\"https://cdn.plot.ly/plotly-latest.min.js\"></script>    \n",
              "            <div id=\"1f5d6a04-a87c-414f-96c4-c2ad5400faae\" class=\"plotly-graph-div\" style=\"height:350px; width:100%;\"></div>\n",
              "            <script type=\"text/javascript\">\n",
              "                \n",
              "                    window.PLOTLYENV=window.PLOTLYENV || {};\n",
              "                    \n",
              "                if (document.getElementById(\"1f5d6a04-a87c-414f-96c4-c2ad5400faae\")) {\n",
              "                    Plotly.newPlot(\n",
              "                        '1f5d6a04-a87c-414f-96c4-c2ad5400faae',\n",
              "                        [{\"mode\": \"lines\", \"name\": \"RSI\", \"type\": \"scatter\", \"x\": [\"2020-04-22\", \"2020-04-23\", \"2020-04-24\", \"2020-04-27\", \"2020-04-28\", \"2020-04-29\", \"2020-04-30\", \"2020-05-01\", \"2020-05-04\", \"2020-05-05\", \"2020-05-06\", \"2020-05-07\", \"2020-05-08\", \"2020-05-11\", \"2020-05-12\", \"2020-05-13\", \"2020-05-14\", \"2020-05-15\", \"2020-05-18\", \"2020-05-19\", \"2020-05-20\", \"2020-05-21\", \"2020-05-22\", \"2020-05-26\", \"2020-05-27\", \"2020-05-28\", \"2020-05-29\", \"2020-06-01\", \"2020-06-02\", \"2020-06-03\", \"2020-06-04\", \"2020-06-05\", \"2020-06-08\", \"2020-06-09\", \"2020-06-10\", \"2020-06-11\", \"2020-06-12\", \"2020-06-15\", \"2020-06-16\", \"2020-06-17\", \"2020-06-18\", \"2020-06-19\", \"2020-06-22\", \"2020-06-23\", \"2020-06-24\", \"2020-06-25\", \"2020-06-26\", \"2020-06-29\", \"2020-06-30\", \"2020-07-01\", \"2020-07-02\", \"2020-07-06\", \"2020-07-07\", \"2020-07-08\", \"2020-07-09\", \"2020-07-10\", \"2020-07-13\", \"2020-07-14\", \"2020-07-15\", \"2020-07-16\", \"2020-07-17\", \"2020-07-20\", \"2020-07-21\", \"2020-07-22\", \"2020-07-23\", \"2020-07-24\", \"2020-07-27\", \"2020-07-28\", \"2020-07-29\", \"2020-07-30\", \"2020-07-31\", \"2020-08-03\", \"2020-08-04\", \"2020-08-05\", \"2020-08-06\", \"2020-08-07\", \"2020-08-10\", \"2020-08-11\", \"2020-08-12\", \"2020-08-13\", \"2020-08-14\", \"2020-08-17\", \"2020-08-18\", \"2020-08-19\", \"2020-08-20\", \"2020-08-21\", \"2020-08-24\", \"2020-08-25\", \"2020-08-26\", \"2020-08-27\", \"2020-08-28\", \"2020-08-31\", \"2020-09-01\", \"2020-09-02\", \"2020-09-03\", \"2020-09-04\", \"2020-09-08\", \"2020-09-09\", \"2020-09-10\", \"2020-09-11\", \"2020-09-14\", \"2020-09-15\", \"2020-09-16\", \"2020-09-17\", \"2020-09-18\", \"2020-09-21\", \"2020-09-22\", \"2020-09-23\", \"2020-09-24\", \"2020-09-25\", \"2020-09-28\", \"2020-09-29\", \"2020-09-30\", \"2020-10-01\", \"2020-10-02\", \"2020-10-05\", \"2020-10-06\", \"2020-10-07\", \"2020-10-08\", \"2020-10-09\", \"2020-10-12\", \"2020-10-13\", \"2020-10-14\", \"2020-10-15\", \"2020-10-16\", \"2020-10-19\", \"2020-10-20\", \"2020-10-21\", \"2020-10-22\", \"2020-10-23\", \"2020-10-26\", \"2020-10-27\", \"2020-10-28\", \"2020-10-29\", \"2020-10-30\", \"2020-11-02\", \"2020-11-03\", \"2020-11-04\", \"2020-11-05\", \"2020-11-06\", \"2020-11-09\", \"2020-11-10\", \"2020-11-11\", \"2020-11-12\", \"2020-11-13\", \"2020-11-16\", \"2020-11-17\", \"2020-11-18\", \"2020-11-19\", \"2020-11-20\", \"2020-11-23\", \"2020-11-24\", \"2020-11-25\", \"2020-11-27\", \"2020-11-30\", \"2020-12-01\", \"2020-12-02\", \"2020-12-03\", \"2020-12-04\", \"2020-12-07\", \"2020-12-08\", \"2020-12-09\", \"2020-12-10\", \"2020-12-11\", \"2020-12-14\", \"2020-12-15\", \"2020-12-16\", \"2020-12-17\", \"2020-12-18\", \"2020-12-21\", \"2020-12-22\", \"2020-12-23\", \"2020-12-24\", \"2020-12-28\", \"2020-12-29\", \"2020-12-30\", \"2020-12-31\", \"2021-01-04\", \"2021-01-05\", \"2021-01-06\", \"2021-01-07\", \"2021-01-08\", \"2021-01-11\", \"2021-01-12\", \"2021-01-13\", \"2021-01-14\", \"2021-01-15\", \"2021-01-19\", \"2021-01-20\", \"2021-01-21\", \"2021-01-22\", \"2021-01-25\", \"2021-01-26\", \"2021-01-27\", \"2021-01-28\", \"2021-01-29\", \"2021-02-01\", \"2021-02-02\", \"2021-02-03\", \"2021-02-04\", \"2021-02-05\", \"2021-02-08\", \"2021-02-09\", \"2021-02-10\", \"2021-02-11\", \"2021-02-12\", \"2021-02-16\", \"2021-02-17\", \"2021-02-18\", \"2021-02-19\", \"2021-02-22\", \"2021-02-23\", \"2021-02-24\", \"2021-02-25\", \"2021-02-26\", \"2021-03-01\", \"2021-03-02\", \"2021-03-03\", \"2021-03-04\", \"2021-03-05\", \"2021-03-08\", \"2021-03-09\", \"2021-03-10\", \"2021-03-11\", \"2021-03-12\", \"2021-03-15\", \"2021-03-16\", \"2021-03-17\", \"2021-03-18\", \"2021-03-19\", \"2021-03-22\", \"2021-03-23\", \"2021-03-24\", \"2021-03-25\", \"2021-03-26\", \"2021-03-29\", \"2021-03-30\", \"2021-03-31\", \"2021-04-01\", \"2021-04-05\", \"2021-04-06\", \"2021-04-07\", \"2021-04-08\", \"2021-04-09\", \"2021-04-12\", \"2021-04-13\", \"2021-04-14\", \"2021-04-15\", \"2021-04-16\", \"2021-04-19\", \"2021-04-20\", \"2021-04-21\", \"2021-04-22\", \"2021-04-23\", \"2021-04-26\", \"2021-04-27\", \"2021-04-28\", \"2021-04-29\", \"2021-04-30\", \"2021-05-03\", \"2021-05-04\", \"2021-05-05\", \"2021-05-06\", \"2021-05-07\", \"2021-05-10\", \"2021-05-11\", \"2021-05-12\", \"2021-05-13\", \"2021-05-14\", \"2021-05-17\", \"2021-05-18\", \"2021-05-19\", \"2021-05-20\", \"2021-05-21\", \"2021-05-24\", \"2021-05-25\", \"2021-05-26\", \"2021-05-27\", \"2021-05-28\", \"2021-06-01\", \"2021-06-02\", \"2021-06-03\", \"2021-06-04\", \"2021-06-07\", \"2021-06-08\", \"2021-06-09\", \"2021-06-10\", \"2021-06-11\", \"2021-06-14\", \"2021-06-15\", \"2021-06-16\", \"2021-06-17\", \"2021-06-18\", \"2021-06-21\", \"2021-06-22\", \"2021-06-23\", \"2021-06-24\", \"2021-06-25\", \"2021-06-28\", \"2021-06-29\", \"2021-06-30\", \"2021-07-01\", \"2021-07-02\", \"2021-07-06\", \"2021-07-07\", \"2021-07-08\", \"2021-07-09\", \"2021-07-12\", \"2021-07-13\", \"2021-07-14\", \"2021-07-15\", \"2021-07-16\", \"2021-07-19\", \"2021-07-20\", \"2021-07-21\", \"2021-07-22\", \"2021-07-23\", \"2021-07-26\", \"2021-07-27\", \"2021-07-28\", \"2021-07-29\", \"2021-07-30\", \"2021-08-02\"], \"y\": [\"57.1796\", \"56.806\", \"58.9375\", \"60.0378\", \"56.2092\", \"61.1392\", \"61.0504\", \"55.1366\", \"56.942\", \"58.7029\", \"59.6782\", \"61.7266\", \"63.8582\", \"65.2368\", \"59.4643\", \"56.3231\", \"58.4407\", \"59.6588\", \"63.03\", \"62.2623\", \"65.8251\", \"62.3014\", \"62.9706\", \"62.0398\", \"63.2202\", \"62.7161\", \"65.996\", \"66.6522\", \"68.1374\", \"69.1368\", \"65.6632\", \"70.191\", \"71.7899\", \"73.2441\", \"75.5124\", \"54.6618\", \"56.6281\", \"59.5437\", \"63.3355\", \"64.0176\", \"64.625\", \"64.5539\", \"67.3806\", \"69.2785\", \"60.0818\", \"62.5059\", \"53.7095\", \"56.6707\", \"61.4907\", \"64.1017\", \"65.5801\", \"70.3723\", \"67.468\", \"69.9999\", \"71.5452\", \"72.7793\", \"63.7469\", \"65.3095\", \"65.7696\", \"62.7586\", \"63.0655\", \"69.6694\", \"64.9459\", \"65.7817\", \"55.2293\", \"52.046\", \"57.0123\", \"52.7425\", \"55.9217\", \"57.3417\", \"61.8739\", \"64.9624\", \"65.7936\", \"66.3693\", \"69.3461\", \"63.9622\", \"62.0634\", \"54.3885\", \"61.1318\", \"61.6986\", \"61.2025\", \"64.2588\", \"66.6327\", \"63.4311\", \"66.9353\", \"68.5778\", \"70.0322\", \"71.8124\", \"76.0106\", \"74.2343\", \"75.2474\", \"76.8069\", \"79.753\", \"81.202\", \"57.3229\", \"53.1251\", \"41.4826\", \"48.5476\", \"44.5051\", \"43.1839\", \"47.3763\", \"50.6252\", \"47.0554\", \"43.8456\", \"41.3999\", \"42.4306\", \"47.2657\", \"41.0501\", \"42.259\", \"48.0177\", \"52.665\", \"51.5647\", \"53.1583\", \"56.7351\", \"49.4183\", \"54.1137\", \"49.854\", \"53.5988\", \"54.7382\", \"57.9475\", \"63.6421\", \"63.6315\", \"60.9617\", \"58.8432\", \"57.1094\", \"52.2026\", \"52.7686\", \"52.527\", \"52.5152\", \"53.1483\", \"47.9038\", \"50.5964\", \"39.5259\", \"45.1017\", \"39.3373\", \"40.0437\", \"45.3749\", \"56.3486\", \"61.4385\", \"61.5804\", \"55.5561\", \"50.9466\", \"55.7908\", \"54.5464\", \"56.4906\", \"58.2174\", \"57.2155\", \"54.8543\", \"56.8688\", \"54.5588\", \"54.5687\", \"58.5512\", \"60.2173\", \"62.6556\", \"63.1984\", \"66.4992\", \"66.8246\", \"67.2029\", \"68.3247\", \"69.8729\", \"70.797\", \"57.9497\", \"59.3276\", \"58.1906\", \"60.8329\", \"64.426\", \"66.1643\", \"68.1665\", \"66.2032\", \"64.9628\", \"65.9616\", \"62.4038\", \"64.2159\", \"68.0236\", \"68.3491\", \"68.3615\", \"69.356\", \"58.0506\", \"61.9004\", \"53.0226\", \"62.8931\", \"66.9625\", \"59.0273\", \"58.2215\", \"60.6731\", \"57.7631\", \"53.6782\", \"59.3371\", \"66.4721\", \"68.5626\", \"66.9315\", \"69.1904\", \"69.5896\", \"54.9561\", \"56.9669\", \"48.6088\", \"56.5848\", \"60.9524\", \"59.3629\", \"62.4907\", \"63.3716\", \"65.1202\", \"65.0148\", \"63.8073\", \"65.4703\", \"67.1322\", \"65.4806\", \"62.5486\", \"59.928\", \"57.3578\", \"45.0465\", \"43.9108\", \"47.8214\", \"36.2237\", \"38.098\", \"49.6038\", \"44.6907\", \"37.5584\", \"34.3275\", \"39.4083\", \"34.0022\", \"45.0002\", \"44.4007\", \"50.1536\", \"48.2176\", \"50.8846\", \"52.2597\", \"53.3212\", \"45.2306\", \"46.2112\", \"51.225\", \"50.0332\", \"45.6323\", \"45.2001\", \"49.6418\", \"49.5585\", \"48.024\", \"52.7865\", \"57.5266\", \"62.3726\", \"62.1017\", \"62.7083\", \"65.2954\", \"66.7527\", \"66.1048\", \"68.9993\", \"62.9723\", \"66.8596\", \"67.1509\", \"62.5201\", \"59.059\", \"61.72\", \"56.1395\", \"60.1437\", \"62.0954\", \"59.9773\", \"58.3128\", \"59.5939\", \"56.1945\", \"53.5397\", \"45.7213\", \"44.4391\", \"47.9512\", \"51.5301\", \"41.8149\", \"41.3671\", \"34.0246\", \"37.5008\", \"46.2732\", \"44.3888\", \"42.3352\", \"42.8165\", \"50.3445\", \"48.3454\", \"54.2567\", \"54.7234\", \"55.9441\", \"54.2469\", \"55.469\", \"53.832\", \"54.6755\", \"49.4783\", \"56.6414\", \"57.7922\", \"57.9843\", \"58.0871\", \"62.4283\", \"63.4617\", \"67.048\", \"62.5022\", \"60.0657\", \"65.1358\", \"60.0013\", \"62.4997\", \"65.9595\", \"66.1377\", \"68.3912\", \"67.4248\", \"71.6839\", \"72.8358\", \"71.466\", \"71.6097\", \"75.4775\", \"76.7752\", \"77.4065\", \"71.4102\", \"73.6674\", \"75.0052\", \"75.0052\", \"75.6661\", \"68.0624\", \"60.5579\", \"54.1108\", \"60.4818\", \"64.0914\", \"66.9006\", \"71.2134\", \"71.4864\", \"62.5434\", \"64.2062\", \"64.9835\", \"60.8051\", \"60.8477\"]}, {\"mode\": \"markers+lines\", \"name\": \"Test\", \"type\": \"scatter\", \"x\": [\"2021-08-03\", \"2021-08-04\", \"2021-08-05\", \"2021-08-06\", \"2021-08-09\", \"2021-08-10\", \"2021-08-11\", \"2021-08-12\", \"2021-08-13\", \"2021-08-16\", \"2021-08-17\", \"2021-08-18\", \"2021-08-19\", \"2021-08-20\", \"2021-08-23\", \"2021-08-24\", \"2021-08-25\", \"2021-08-26\", \"2021-08-27\", \"2021-08-30\", \"2021-08-31\", \"2021-09-01\", \"2021-09-02\", \"2021-09-03\", \"2021-09-07\", \"2021-09-08\", \"2021-09-09\", \"2021-09-10\", \"2021-09-13\", \"2021-09-14\", \"2021-09-15\", \"2021-09-16\", \"2021-09-17\", \"2021-09-20\", \"2021-09-21\", \"2021-09-22\", \"2021-09-23\", \"2021-09-24\", \"2021-09-27\", \"2021-09-28\", \"2021-09-29\", \"2021-09-30\", \"2021-10-01\", \"2021-10-04\", \"2021-10-05\", \"2021-10-06\", \"2021-10-07\", \"2021-10-08\", \"2021-10-11\", \"2021-10-12\", \"2021-10-13\", \"2021-10-14\", \"2021-10-15\", \"2021-10-18\", \"2021-10-19\", \"2021-10-20\", \"2021-10-21\", \"2021-10-22\", \"2021-10-25\", \"2021-10-26\", \"2021-10-27\", \"2021-10-28\", \"2021-10-29\", \"2021-11-01\", \"2021-11-02\", \"2021-11-03\", \"2021-11-04\", \"2021-11-05\", \"2021-11-08\", \"2021-11-09\", \"2021-11-10\", \"2021-11-11\", \"2021-11-12\"], \"y\": [\"63.9545\", \"64.6784\", \"67.7451\", \"63.6099\", \"64.587\", \"59.7821\", \"58.2271\", \"60.5429\", \"62.7181\", \"62.9906\", \"54.3068\", \"46.784\", \"50.4583\", \"57.2984\", \"64.9101\", \"66.2529\", \"66.7694\", \"61.187\", \"65.8622\", \"70.3464\", \"69.6229\", \"70.2916\", \"69.8187\", \"71.1761\", \"71.8064\", \"67.87\", \"64.1404\", \"56.756\", \"56.1278\", \"53.5031\", \"58.9001\", \"59.3733\", \"48.9205\", \"36.8781\", \"37.8402\", \"44.7346\", \"50.616\", \"51.1902\", \"46.2587\", \"33.8928\", \"33.3522\", \"32.118\", \"36.3819\", \"29.5702\", \"37.5042\", \"40.9506\", \"45.6057\", \"43.5765\", \"40.5993\", \"39.2947\", \"43.7487\", \"52.4572\", \"55.0673\", \"58.9639\", \"61.6838\", \"60.9281\", \"63.1974\", \"58.1617\", \"62.0919\", \"63.2471\", \"64.1179\", \"68.0299\", \"69.6271\", \"70.727\", \"72.0641\", \"75.177\", \"78.3479\", \"78.5701\", \"77.3549\", \"71.3266\", \"60.5511\", \"61.7091\", \"65.821\"]}, {\"mode\": \"lines\", \"name\": \"Prediction\", \"type\": \"scatter\", \"x\": [\"2021-08-03\", \"2021-08-04\", \"2021-08-05\", \"2021-08-06\", \"2021-08-09\", \"2021-08-10\", \"2021-08-11\", \"2021-08-12\", \"2021-08-13\", \"2021-08-16\", \"2021-08-17\", \"2021-08-18\", \"2021-08-19\", \"2021-08-20\", \"2021-08-23\", \"2021-08-24\", \"2021-08-25\", \"2021-08-26\", \"2021-08-27\", \"2021-08-30\", \"2021-08-31\", \"2021-09-01\", \"2021-09-02\", \"2021-09-03\", \"2021-09-07\", \"2021-09-08\", \"2021-09-09\", \"2021-09-10\", \"2021-09-13\", \"2021-09-14\", \"2021-09-15\", \"2021-09-16\", \"2021-09-17\", \"2021-09-20\", \"2021-09-21\", \"2021-09-22\", \"2021-09-23\", \"2021-09-24\", \"2021-09-27\", \"2021-09-28\", \"2021-09-29\", \"2021-09-30\", \"2021-10-01\", \"2021-10-04\", \"2021-10-05\", \"2021-10-06\", \"2021-10-07\", \"2021-10-08\", \"2021-10-11\", \"2021-10-12\", \"2021-10-13\", \"2021-10-14\", \"2021-10-15\", \"2021-10-18\", \"2021-10-19\", \"2021-10-20\", \"2021-10-21\", \"2021-10-22\", \"2021-10-25\", \"2021-10-26\", \"2021-10-27\", \"2021-10-28\", \"2021-10-29\", \"2021-11-01\", \"2021-11-02\", \"2021-11-03\", \"2021-11-04\", \"2021-11-05\", \"2021-11-08\", \"2021-11-09\", \"2021-11-10\", \"2021-11-11\", \"2021-11-12\"], \"y\": [61.82972717285156, 61.24283218383789, 60.76221466064453, 60.431095123291016, 60.37681198120117, 60.48993682861328, 60.87353515625, 61.43150329589844, 62.06757736206055, 62.758949279785156, 63.509857177734375, 64.42932891845703, 65.37680053710938, 66.06021881103516, 66.38600158691406, 66.34369659423828, 66.03587341308594, 65.51566314697266, 64.9311294555664, 64.1204605102539, 63.0645866394043, 61.83342742919922, 60.45166015625, 59.04502487182617, 57.69183349609375, 56.466796875, 55.40719223022461, 54.43918228149414, 53.56882858276367, 52.64565658569336, 51.702659606933594, 50.62606430053711, 49.61220932006836, 48.96800994873047, 48.724586486816406, 48.558433532714844, 48.35239791870117, 48.168914794921875, 48.180320739746094, 48.53927993774414, 49.41245651245117, 50.48081970214844, 51.7459831237793, 53.05641555786133, 54.59658432006836, 55.94789123535156, 57.212501525878906, 58.35072326660156, 59.50712203979492, 60.67605972290039, 61.800994873046875, 62.77912902832031, 63.60039520263672, 64.447021484375, 65.31571197509766, 66.2186279296875, 67.13745880126953, 67.87165069580078, 68.42952728271484]}, {\"mode\": \"markers+lines\", \"name\": \"Forecast\", \"type\": \"scatter\", \"x\": [\"2021-11-12T00:00:00\", \"2021-11-15T00:00:00\", \"2021-11-16T00:00:00\", \"2021-11-17T00:00:00\", \"2021-11-18T00:00:00\", \"2021-11-19T00:00:00\", \"2021-11-22T00:00:00\", \"2021-11-23T00:00:00\", \"2021-11-24T00:00:00\", \"2021-11-26T00:00:00\", \"2021-11-29T00:00:00\", \"2021-11-30T00:00:00\", \"2021-12-01T00:00:00\", \"2021-12-02T00:00:00\", \"2021-12-03T00:00:00\", \"2021-12-06T00:00:00\", \"2021-12-07T00:00:00\", \"2021-12-08T00:00:00\", \"2021-12-09T00:00:00\", \"2021-12-10T00:00:00\", \"2021-12-13T00:00:00\", \"2021-12-14T00:00:00\", \"2021-12-15T00:00:00\", \"2021-12-16T00:00:00\", \"2021-12-17T00:00:00\", \"2021-12-20T00:00:00\", \"2021-12-21T00:00:00\", \"2021-12-22T00:00:00\", \"2021-12-23T00:00:00\", \"2021-12-27T00:00:00\", \"2021-12-28T00:00:00\", \"2021-12-29T00:00:00\", \"2021-12-30T00:00:00\", \"2022-01-03T00:00:00\", \"2022-01-04T00:00:00\", \"2022-01-05T00:00:00\", \"2022-01-06T00:00:00\", \"2022-01-07T00:00:00\", \"2022-01-10T00:00:00\", \"2022-01-11T00:00:00\", \"2022-01-12T00:00:00\", \"2022-01-13T00:00:00\", \"2022-01-14T00:00:00\"], \"y\": [65.821, 68.62841614317894, 68.57394046258926, 68.33861634892224, 67.95485392746329, 67.52936004516482, 67.11361659672856, 66.73117447775601, 66.37453767088056, 66.05389891129732, 65.8069759402871, 65.63411203649639, 65.57899270844459, 65.66521176156401, 65.66195061442255, 65.5532468099594, 65.39631235566735, 65.25321797218919, 65.12802028891444, 65.02156760019064, 64.9314998653233, 64.85435789179802, 64.78666598331928, 64.72571751978992, 64.66936370891332, 64.61560759317875, 64.56322129127383, 64.51095051583647, 64.45785455134511, 64.40678195041417, 64.35986500155926, 64.31753280308843, 64.27894036141038, 64.2433450063765, 64.21010969203711, 64.17881852310896, 64.1491909353137, 64.12110810142755, 64.09450400632619, 64.06935554471612, 64.04566271659732, 64.02340901818872, 64.00257794570922]}],\n",
              "                        {\"height\": 350, \"shapes\": [{\"type\": \"line\", \"x0\": 0, \"x1\": 1, \"xref\": \"paper\", \"y0\": 30, \"y1\": 30, \"yref\": \"y\"}, {\"type\": \"line\", \"x0\": 0, \"x1\": 1, \"xref\": \"paper\", \"y0\": 50, \"y1\": 50, \"yref\": \"y\"}, {\"type\": \"line\", \"x0\": 0, \"x1\": 1, \"xref\": \"paper\", \"y0\": 70, \"y1\": 70, \"yref\": \"y\"}], \"template\": {\"data\": {\"bar\": [{\"error_x\": {\"color\": \"#2a3f5f\"}, \"error_y\": {\"color\": \"#2a3f5f\"}, \"marker\": {\"line\": {\"color\": \"#E5ECF6\", \"width\": 0.5}}, \"type\": \"bar\"}], \"barpolar\": [{\"marker\": {\"line\": {\"color\": \"#E5ECF6\", \"width\": 0.5}}, \"type\": \"barpolar\"}], \"carpet\": [{\"aaxis\": {\"endlinecolor\": \"#2a3f5f\", \"gridcolor\": \"white\", \"linecolor\": \"white\", \"minorgridcolor\": \"white\", \"startlinecolor\": \"#2a3f5f\"}, \"baxis\": {\"endlinecolor\": \"#2a3f5f\", \"gridcolor\": \"white\", \"linecolor\": \"white\", \"minorgridcolor\": \"white\", \"startlinecolor\": \"#2a3f5f\"}, \"type\": \"carpet\"}], \"choropleth\": [{\"colorbar\": {\"outlinewidth\": 0, \"ticks\": \"\"}, \"type\": \"choropleth\"}], \"contour\": [{\"colorbar\": {\"outlinewidth\": 0, \"ticks\": \"\"}, \"colorscale\": [[0.0, \"#0d0887\"], [0.1111111111111111, \"#46039f\"], [0.2222222222222222, \"#7201a8\"], [0.3333333333333333, \"#9c179e\"], [0.4444444444444444, \"#bd3786\"], [0.5555555555555556, \"#d8576b\"], [0.6666666666666666, \"#ed7953\"], [0.7777777777777778, \"#fb9f3a\"], [0.8888888888888888, \"#fdca26\"], [1.0, \"#f0f921\"]], \"type\": \"contour\"}], \"contourcarpet\": [{\"colorbar\": {\"outlinewidth\": 0, \"ticks\": \"\"}, \"type\": \"contourcarpet\"}], \"heatmap\": [{\"colorbar\": {\"outlinewidth\": 0, \"ticks\": \"\"}, \"colorscale\": [[0.0, \"#0d0887\"], [0.1111111111111111, \"#46039f\"], [0.2222222222222222, \"#7201a8\"], [0.3333333333333333, \"#9c179e\"], [0.4444444444444444, \"#bd3786\"], [0.5555555555555556, \"#d8576b\"], [0.6666666666666666, \"#ed7953\"], [0.7777777777777778, \"#fb9f3a\"], [0.8888888888888888, \"#fdca26\"], [1.0, \"#f0f921\"]], \"type\": \"heatmap\"}], \"heatmapgl\": [{\"colorbar\": {\"outlinewidth\": 0, \"ticks\": \"\"}, \"colorscale\": [[0.0, \"#0d0887\"], [0.1111111111111111, \"#46039f\"], [0.2222222222222222, \"#7201a8\"], [0.3333333333333333, \"#9c179e\"], [0.4444444444444444, \"#bd3786\"], [0.5555555555555556, \"#d8576b\"], [0.6666666666666666, \"#ed7953\"], [0.7777777777777778, \"#fb9f3a\"], [0.8888888888888888, \"#fdca26\"], [1.0, \"#f0f921\"]], \"type\": \"heatmapgl\"}], \"histogram\": [{\"marker\": {\"colorbar\": {\"outlinewidth\": 0, \"ticks\": \"\"}}, \"type\": \"histogram\"}], \"histogram2d\": [{\"colorbar\": {\"outlinewidth\": 0, \"ticks\": \"\"}, \"colorscale\": [[0.0, \"#0d0887\"], [0.1111111111111111, \"#46039f\"], [0.2222222222222222, \"#7201a8\"], [0.3333333333333333, \"#9c179e\"], [0.4444444444444444, \"#bd3786\"], [0.5555555555555556, \"#d8576b\"], [0.6666666666666666, \"#ed7953\"], [0.7777777777777778, \"#fb9f3a\"], [0.8888888888888888, \"#fdca26\"], [1.0, \"#f0f921\"]], \"type\": \"histogram2d\"}], \"histogram2dcontour\": [{\"colorbar\": {\"outlinewidth\": 0, \"ticks\": \"\"}, \"colorscale\": [[0.0, \"#0d0887\"], [0.1111111111111111, \"#46039f\"], [0.2222222222222222, \"#7201a8\"], [0.3333333333333333, \"#9c179e\"], [0.4444444444444444, \"#bd3786\"], [0.5555555555555556, \"#d8576b\"], [0.6666666666666666, \"#ed7953\"], [0.7777777777777778, \"#fb9f3a\"], [0.8888888888888888, \"#fdca26\"], [1.0, \"#f0f921\"]], \"type\": \"histogram2dcontour\"}], \"mesh3d\": [{\"colorbar\": {\"outlinewidth\": 0, \"ticks\": \"\"}, \"type\": \"mesh3d\"}], \"parcoords\": [{\"line\": {\"colorbar\": {\"outlinewidth\": 0, \"ticks\": \"\"}}, \"type\": \"parcoords\"}], \"pie\": [{\"automargin\": true, \"type\": \"pie\"}], \"scatter\": [{\"marker\": {\"colorbar\": {\"outlinewidth\": 0, \"ticks\": \"\"}}, \"type\": \"scatter\"}], \"scatter3d\": [{\"line\": {\"colorbar\": {\"outlinewidth\": 0, \"ticks\": \"\"}}, \"marker\": {\"colorbar\": {\"outlinewidth\": 0, \"ticks\": \"\"}}, \"type\": \"scatter3d\"}], \"scattercarpet\": [{\"marker\": {\"colorbar\": {\"outlinewidth\": 0, \"ticks\": \"\"}}, \"type\": \"scattercarpet\"}], \"scattergeo\": [{\"marker\": {\"colorbar\": {\"outlinewidth\": 0, \"ticks\": \"\"}}, \"type\": \"scattergeo\"}], \"scattergl\": [{\"marker\": {\"colorbar\": {\"outlinewidth\": 0, \"ticks\": \"\"}}, \"type\": \"scattergl\"}], \"scattermapbox\": [{\"marker\": {\"colorbar\": {\"outlinewidth\": 0, \"ticks\": \"\"}}, \"type\": \"scattermapbox\"}], \"scatterpolar\": [{\"marker\": {\"colorbar\": {\"outlinewidth\": 0, \"ticks\": \"\"}}, \"type\": \"scatterpolar\"}], \"scatterpolargl\": [{\"marker\": {\"colorbar\": {\"outlinewidth\": 0, \"ticks\": \"\"}}, \"type\": \"scatterpolargl\"}], \"scatterternary\": [{\"marker\": {\"colorbar\": {\"outlinewidth\": 0, \"ticks\": \"\"}}, \"type\": \"scatterternary\"}], \"surface\": [{\"colorbar\": {\"outlinewidth\": 0, \"ticks\": \"\"}, \"colorscale\": [[0.0, \"#0d0887\"], [0.1111111111111111, \"#46039f\"], [0.2222222222222222, \"#7201a8\"], [0.3333333333333333, \"#9c179e\"], [0.4444444444444444, \"#bd3786\"], [0.5555555555555556, \"#d8576b\"], [0.6666666666666666, \"#ed7953\"], [0.7777777777777778, \"#fb9f3a\"], [0.8888888888888888, \"#fdca26\"], [1.0, \"#f0f921\"]], \"type\": \"surface\"}], \"table\": [{\"cells\": {\"fill\": {\"color\": \"#EBF0F8\"}, \"line\": {\"color\": \"white\"}}, \"header\": {\"fill\": {\"color\": \"#C8D4E3\"}, \"line\": {\"color\": \"white\"}}, \"type\": \"table\"}]}, \"layout\": {\"annotationdefaults\": {\"arrowcolor\": \"#2a3f5f\", \"arrowhead\": 0, \"arrowwidth\": 1}, \"coloraxis\": {\"colorbar\": {\"outlinewidth\": 0, \"ticks\": \"\"}}, \"colorscale\": {\"diverging\": [[0, \"#8e0152\"], [0.1, \"#c51b7d\"], [0.2, \"#de77ae\"], [0.3, \"#f1b6da\"], [0.4, \"#fde0ef\"], [0.5, \"#f7f7f7\"], [0.6, \"#e6f5d0\"], [0.7, \"#b8e186\"], [0.8, \"#7fbc41\"], [0.9, \"#4d9221\"], [1, \"#276419\"]], \"sequential\": [[0.0, \"#0d0887\"], [0.1111111111111111, \"#46039f\"], [0.2222222222222222, \"#7201a8\"], [0.3333333333333333, \"#9c179e\"], [0.4444444444444444, \"#bd3786\"], [0.5555555555555556, \"#d8576b\"], [0.6666666666666666, \"#ed7953\"], [0.7777777777777778, \"#fb9f3a\"], [0.8888888888888888, \"#fdca26\"], [1.0, \"#f0f921\"]], \"sequentialminus\": [[0.0, \"#0d0887\"], [0.1111111111111111, \"#46039f\"], [0.2222222222222222, \"#7201a8\"], [0.3333333333333333, \"#9c179e\"], [0.4444444444444444, \"#bd3786\"], [0.5555555555555556, \"#d8576b\"], [0.6666666666666666, \"#ed7953\"], [0.7777777777777778, \"#fb9f3a\"], [0.8888888888888888, \"#fdca26\"], [1.0, \"#f0f921\"]]}, \"colorway\": [\"#636efa\", \"#EF553B\", \"#00cc96\", \"#ab63fa\", \"#FFA15A\", \"#19d3f3\", \"#FF6692\", \"#B6E880\", \"#FF97FF\", \"#FECB52\"], \"font\": {\"color\": \"#2a3f5f\"}, \"geo\": {\"bgcolor\": \"white\", \"lakecolor\": \"white\", \"landcolor\": \"#E5ECF6\", \"showlakes\": true, \"showland\": true, \"subunitcolor\": \"white\"}, \"hoverlabel\": {\"align\": \"left\"}, \"hovermode\": \"closest\", \"mapbox\": {\"style\": \"light\"}, \"paper_bgcolor\": \"white\", \"plot_bgcolor\": \"#E5ECF6\", \"polar\": {\"angularaxis\": {\"gridcolor\": \"white\", \"linecolor\": \"white\", \"ticks\": \"\"}, \"bgcolor\": \"#E5ECF6\", \"radialaxis\": {\"gridcolor\": \"white\", \"linecolor\": \"white\", \"ticks\": \"\"}}, \"scene\": {\"xaxis\": {\"backgroundcolor\": \"#E5ECF6\", \"gridcolor\": \"white\", \"gridwidth\": 2, \"linecolor\": \"white\", \"showbackground\": true, \"ticks\": \"\", \"zerolinecolor\": \"white\"}, \"yaxis\": {\"backgroundcolor\": \"#E5ECF6\", \"gridcolor\": \"white\", \"gridwidth\": 2, \"linecolor\": \"white\", \"showbackground\": true, \"ticks\": \"\", \"zerolinecolor\": \"white\"}, \"zaxis\": {\"backgroundcolor\": \"#E5ECF6\", \"gridcolor\": \"white\", \"gridwidth\": 2, \"linecolor\": \"white\", \"showbackground\": true, \"ticks\": \"\", \"zerolinecolor\": \"white\"}}, \"shapedefaults\": {\"line\": {\"color\": \"#2a3f5f\"}}, \"ternary\": {\"aaxis\": {\"gridcolor\": \"white\", \"linecolor\": \"white\", \"ticks\": \"\"}, \"baxis\": {\"gridcolor\": \"white\", \"linecolor\": \"white\", \"ticks\": \"\"}, \"bgcolor\": \"#E5ECF6\", \"caxis\": {\"gridcolor\": \"white\", \"linecolor\": \"white\", \"ticks\": \"\"}}, \"title\": {\"x\": 0.05}, \"xaxis\": {\"automargin\": true, \"gridcolor\": \"white\", \"linecolor\": \"white\", \"ticks\": \"\", \"title\": {\"standoff\": 15}, \"zerolinecolor\": \"white\", \"zerolinewidth\": 2}, \"yaxis\": {\"automargin\": true, \"gridcolor\": \"white\", \"linecolor\": \"white\", \"ticks\": \"\", \"title\": {\"standoff\": 15}, \"zerolinecolor\": \"white\", \"zerolinewidth\": 2}}}, \"title\": {\"text\": \"QQQ RSI(14) Date:2021-11-12 Close:65.821 Forecast(14):65.0\"}, \"xaxis\": {\"rangeslider\": {\"visible\": false}, \"showspikes\": true, \"spikedash\": \"dash\", \"spikemode\": \"across\", \"spikesnap\": \"cursor\", \"title\": {\"text\": \"Dates\"}}, \"yaxis\": {\"showspikes\": true, \"spikedash\": \"dash\", \"spikemode\": \"across\", \"spikesnap\": \"cursor\", \"title\": {\"text\": \"RSI\"}}},\n",
              "                        {\"scrollZoom\": true, \"responsive\": true}\n",
              "                    ).then(function(){\n",
              "                            \n",
              "var gd = document.getElementById('1f5d6a04-a87c-414f-96c4-c2ad5400faae');\n",
              "var x = new MutationObserver(function (mutations, observer) {{\n",
              "        var display = window.getComputedStyle(gd).display;\n",
              "        if (!display || display === 'none') {{\n",
              "            console.log([gd, 'removed!']);\n",
              "            Plotly.purge(gd);\n",
              "            observer.disconnect();\n",
              "        }}\n",
              "}});\n",
              "\n",
              "// Listen for the removal of the full notebook cells\n",
              "var notebookContainer = gd.closest('#notebook-container');\n",
              "if (notebookContainer) {{\n",
              "    x.observe(notebookContainer, {childList: true});\n",
              "}}\n",
              "\n",
              "// Listen for the clearing of the current output cell\n",
              "var outputEl = gd.closest('.output');\n",
              "if (outputEl) {{\n",
              "    x.observe(outputEl, {childList: true});\n",
              "}}\n",
              "\n",
              "                        })\n",
              "                };\n",
              "                \n",
              "            </script>\n",
              "        </div>\n",
              "</body>\n",
              "</html>"
            ]
          },
          "metadata": {}
        }
      ]
    }
  ]
}