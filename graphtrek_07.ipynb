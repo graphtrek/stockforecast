{
  "nbformat": 4,
  "nbformat_minor": 0,
  "metadata": {
    "colab": {
      "name": "graphtrek_07.ipynb",
      "provenance": [],
      "mount_file_id": "https://github.com/graphtrek/stockforecast/blob/main/graphtrek_07.ipynb",
      "authorship_tag": "ABX9TyNVfOUSq0OTP0JosnFv75Nm",
      "include_colab_link": true
    },
    "kernelspec": {
      "name": "python3",
      "display_name": "Python 3"
    },
    "language_info": {
      "name": "python"
    }
  },
  "cells": [
    {
      "cell_type": "markdown",
      "metadata": {
        "id": "view-in-github",
        "colab_type": "text"
      },
      "source": [
        "<a href=\"https://colab.research.google.com/github/graphtrek/stockforecast/blob/main/graphtrek_07.ipynb\" target=\"_parent\"><img src=\"https://colab.research.google.com/assets/colab-badge.svg\" alt=\"Open In Colab\"/></a>"
      ]
    },
    {
      "cell_type": "code",
      "metadata": {
        "id": "sZPC3Z9u3evF"
      },
      "source": [
        "import numpy as np\n",
        "from tensorflow.keras.models import Sequential\n",
        "from tensorflow.keras.layers import LSTM\n",
        "from tensorflow.keras.optimizers import Adam\n",
        "from tensorflow.keras.losses import MAE\n",
        "from tensorflow.keras.layers import Dense, Dropout\n",
        "from tensorflow import keras\n",
        "from datetime import datetime, timedelta\n",
        "import pandas as pd\n",
        "import os, time\n",
        "from matplotlib import pyplot as plt\n",
        "from sklearn.preprocessing import StandardScaler\n",
        "import seaborn as sns\n",
        "import plotly.graph_objects as go\n",
        "import plotly.express as px\n",
        "from sklearn.preprocessing import MinMaxScaler\n",
        "from pandas.tseries.holiday import USFederalHolidayCalendar\n",
        "from pandas.tseries.offsets import CustomBusinessDay\n",
        "from keras.preprocessing.sequence import TimeseriesGenerator\n",
        "from tensorflow.keras.models import Sequential\n",
        "from tensorflow.keras.layers import LSTM\n",
        "from tensorflow.keras.optimizers import Adam\n",
        "from tensorflow.keras.losses import MAE\n",
        "from tensorflow.keras.layers import Dense, Dropout\n",
        "from tensorflow import keras\n",
        "from datetime import datetime, timedelta\n",
        "import pandas as pd\n",
        "import os, time\n",
        "from matplotlib import pyplot as plt\n",
        "from sklearn.preprocessing import StandardScaler\n",
        "import seaborn as sns\n",
        "import plotly.graph_objects as go\n",
        "import plotly.express as px\n",
        "from plotly.subplots import make_subplots\n",
        "from sklearn.preprocessing import MinMaxScaler\n",
        "from pandas.tseries.holiday import USFederalHolidayCalendar\n",
        "from pandas.tseries.offsets import CustomBusinessDay\n",
        "from keras.preprocessing.sequence import TimeseriesGenerator"
      ],
      "execution_count": 449,
      "outputs": []
    },
    {
      "cell_type": "code",
      "metadata": {
        "id": "HKYStAEQ3mh6"
      },
      "source": [
        "ticker = \"SPY\" # QQQ, SPY, VTI JETS, XLE, XLF, XLNX, ARKK, ARKG, ARQ, ARKF\n",
        "look_back = 14 #  number of past days we want to use to predict 1 day in the future.\n",
        "max_data_size = 730 # ~2 years\n",
        "split_percent = 0.90 # use 90% of the data  for train\n",
        "INFO = 1\n",
        "DEBUG = 2\n",
        "TRACE = 3\n",
        "print_level = DEBUG \n",
        "indicators_model_file_path = '/content/drive/MyDrive/models/' + ticker + '_' + str(look_back) + '_indicators_07.h5'\n",
        "nr_of_features = 1\n",
        "look_forward = 1\n",
        "epochs = 200\n",
        "learning_rate=0.0001\n",
        "num_prediction = look_back\n",
        "np.random.seed(42)"
      ],
      "execution_count": 450,
      "outputs": []
    },
    {
      "cell_type": "code",
      "metadata": {
        "id": "tPJ9HBOO3-2-",
        "colab": {
          "base_uri": "https://localhost:8080/"
        },
        "outputId": "0cd19892-9cf6-45bb-e922-3de9327e6e94"
      },
      "source": [
        "rsi_url = 'https://www.alphavantage.co/query?function=RSI&datatype=json&symbol='+ticker+'&interval=daily&time_period='+str(look_back)+'&series_type=close&apikey=3F4URDEKOPLFH25T'\n",
        "print(rsi_url)\n",
        "rsi_api_response = pd.read_json(rsi_url)\n",
        "#print(rsi_api_response)\n",
        "rsi_api_data = rsi_api_response['Technical Analysis: RSI']\n",
        "#print(rsi_api_data)\n",
        "rsi_api_data = rsi_api_data.drop(\n",
        "    index=['1: Symbol','2: Indicator','3: Last Refreshed','4: Interval','5: Time Period','6: Series Type','7: Time Zone']);\n",
        "#print(rsi_api_data)\n",
        "\n",
        "rsi_data = []\n",
        "indicators_lstm_data = []\n",
        "for key, value in rsi_api_data.items():\n",
        "  date = key\n",
        "  rsi = float(value.get('RSI'))\n",
        "  rsi_data.append([date,rsi])\n",
        "  indicators_lstm_data.append([rsi])\n",
        "\n",
        "last_rsi_data =  str(rsi_data[0])\n",
        "first_rsi_data =  str(rsi_data[-1])\n",
        "print('rsi_data_length:', len(rsi_data), 'first_rsi_data:', first_rsi_data, 'last_rsi_data:', last_rsi_data)  "
      ],
      "execution_count": 451,
      "outputs": [
        {
          "output_type": "stream",
          "name": "stdout",
          "text": [
            "https://www.alphavantage.co/query?function=RSI&datatype=json&symbol=SPY&interval=daily&time_period=14&series_type=close&apikey=3F4URDEKOPLFH25T\n",
            "rsi_data_length: 5532 first_rsi_data: ['1999-11-19', 79.5996] last_rsi_data: ['2021-11-12', 68.5216]\n"
          ]
        }
      ]
    },
    {
      "cell_type": "code",
      "metadata": {
        "colab": {
          "base_uri": "https://localhost:8080/"
        },
        "id": "gTTORjJJ22lE",
        "outputId": "01c368e0-c3c8-4b7f-d182-3aa854b1f55a"
      },
      "source": [
        "stock_url = 'https://www.alphavantage.co/query?function=TIME_SERIES_DAILY_ADJUSTED&symbol='+ticker+'&outputsize=full&apikey=3F4URDEKOPLFH25T'\n",
        "print(stock_url)\n",
        "stock_api_response = pd.read_json(stock_url)\n",
        "stock_api_data = stock_api_response['Time Series (Daily)']\n",
        "#print(stock_api_data)\n",
        "stock_api_data = stock_api_data.drop(index=['1. Information','2. Symbol','3. Last Refreshed','4. Output Size','5. Time Zone']);\n",
        "\n",
        "stock_data = []\n",
        "split_coefficient = 1\n",
        "\n",
        "for key, value in stock_api_data.items():\n",
        "  date = key\n",
        "  open = float(value.get('1. open'))\n",
        "  high = float(value.get('2. high'))\n",
        "  low = float(value.get('3. low'))\n",
        "  close = float(value.get('4. close'))\n",
        "  adjusted_close = float(value.get('5. adjusted close'))\n",
        "  volume = int(value.get('6. volume'))\n",
        "  divident = float(value.get('7. dividend amount'))\n",
        "\n",
        "  if float(value.get('8. split coefficient')) > 1:\n",
        "    split_coefficient = float(value.get('8. split coefficient'))\n",
        "    \n",
        "  open = open / split_coefficient\n",
        "  high = high /split_coefficient\n",
        "  close = close / split_coefficient\n",
        "  low = low / split_coefficient\n",
        "  \n",
        "  stock_data.append([\n",
        "      date,\n",
        "      close,\n",
        "      volume,\n",
        "      high,\n",
        "      low,\n",
        "      open,\n",
        "      divident\n",
        "      ])\n",
        "\n",
        "last_date =  str(stock_data[0][0])\n",
        "print('data length:', len(stock_data), 'last_date:', last_date)\n",
        "\n",
        "last_stock_data =  str(stock_data[0])\n",
        "first_stock_data =  str(stock_data[-1])\n",
        "print('stock_data_length:', len(stock_data), 'first_stock_data:', first_stock_data, 'last_stock_data:', last_stock_data)"
      ],
      "execution_count": 452,
      "outputs": [
        {
          "output_type": "stream",
          "name": "stdout",
          "text": [
            "https://www.alphavantage.co/query?function=TIME_SERIES_DAILY_ADJUSTED&symbol=SPY&outputsize=full&apikey=3F4URDEKOPLFH25T\n",
            "data length: 5546 last_date: 2021-11-12\n",
            "stock_data_length: 5546 first_stock_data: ['1999-11-01', 135.5625, 4006500, 137.0, 135.5625, 136.5, 0.0] last_stock_data: ['2021-11-12', 467.27, 51018081, 467.86, 464.11, 465.12, 0.0]\n"
          ]
        }
      ]
    },
    {
      "cell_type": "code",
      "metadata": {
        "id": "GzJkdoRGuYmf"
      },
      "source": [
        "if max_data_size < len(rsi_data):\n",
        "  rsi_data = np.flip(rsi_data[:max_data_size],axis=0)\n",
        "  stock_data = np.flip(stock_data[:max_data_size],axis=0)\n",
        "  indicators_lstm_data = np.flip(indicators_lstm_data[:max_data_size],axis=0)\n",
        "else:\n",
        "  rsi_data = np.flip(rsi_data,axis=0)\n",
        "  stock_data = np.flip(stock_data,axis=0)\n",
        "  indicators_lstm_data = np.flip(indicators_lstm_data,axis=0)"
      ],
      "execution_count": 453,
      "outputs": []
    },
    {
      "cell_type": "code",
      "metadata": {
        "id": "xHrOFKHo3ocW"
      },
      "source": [
        "stock_df = pd.DataFrame(stock_data,columns=['Date','Close','Volume','High','Low','Open','Divident'])\n",
        "stock_df['50MA'] = stock_df['Close'].rolling(50).mean()\n",
        "stock_df['100MA'] = stock_df['Close'].rolling(100).mean()\n",
        "stock_df['200MA'] = stock_df['Close'].rolling(200).mean()"
      ],
      "execution_count": 454,
      "outputs": []
    },
    {
      "cell_type": "code",
      "metadata": {
        "id": "OYTx2W6N4JIM"
      },
      "source": [
        "indicators_df = pd.DataFrame(rsi_data,columns=['Date','RSI'])\n",
        "\n",
        "split = int(split_percent*len(rsi_data))\n",
        "if len(rsi_data) - split < look_back:\n",
        "  split = look_back\n",
        "split\n",
        "\n",
        "\n",
        "indicators_df_train = indicators_df.iloc[:split]\n",
        "indicators_df_test = indicators_df.iloc[split:]\n",
        "\n",
        "indicators_lstm_train_data = indicators_lstm_data[:split]\n",
        "indicators_lstm_test_data = indicators_lstm_data[split:]"
      ],
      "execution_count": 455,
      "outputs": []
    },
    {
      "cell_type": "code",
      "metadata": {
        "id": "5oRtthul4Pyj"
      },
      "source": [
        "np.set_printoptions(formatter={'float': '{: 0.12f}'.format})\n",
        "\n",
        "indicators_scaler = MinMaxScaler(feature_range=(0, 1))\n",
        "indicators_scaler = indicators_scaler.fit(indicators_lstm_data)\n",
        "\n",
        "indicators_lstm_train_data_scaled = indicators_scaler.transform(indicators_lstm_train_data)\n",
        "if print_level >= TRACE:\n",
        "  print(indicators_lstm_train_data_scaled[:look_back+1])\n",
        "  print(indicators_lstm_train_data_scaled.shape)\n",
        "\n",
        "indicators_lstm_test_data_scaled = indicators_scaler.transform(indicators_lstm_test_data)\n",
        "if print_level >= TRACE:\n",
        "  print(indicators_lstm_test_data_scaled[:look_back+1])\n",
        "  print(indicators_lstm_test_data_scaled.shape)"
      ],
      "execution_count": 456,
      "outputs": []
    },
    {
      "cell_type": "code",
      "metadata": {
        "id": "Cmmqy0nc4Slr"
      },
      "source": [
        "indicators_train_generator = TimeseriesGenerator(indicators_lstm_train_data_scaled, indicators_lstm_train_data_scaled, sampling_rate=1, length=look_back, batch_size=64)\n",
        "\n",
        "if print_level >= TRACE:\n",
        "  print('Samples: %d' % len(indicators_train_generator))\n",
        "  # print each sample\n",
        "  for i in range(2):\n",
        "    x, y = indicators_train_generator[i]\n",
        "    print('%s => %s' % (x, y))"
      ],
      "execution_count": 457,
      "outputs": []
    },
    {
      "cell_type": "code",
      "metadata": {
        "id": "xFQnXfRp6tVP",
        "colab": {
          "base_uri": "https://localhost:8080/"
        },
        "outputId": "6aba13ff-5636-4337-a96f-1e14fa79a6da"
      },
      "source": [
        "indicators_model = None\n",
        "try:\n",
        "  indicators_model = keras.models.load_model(indicators_model_file_path)\n",
        "  modified = os.path.getmtime(indicators_model_file_path)\n",
        "\n",
        "  print(pd.to_datetime(last_date).date() - datetime.fromtimestamp(modified).date() )\n",
        "  print('Loaded', indicators_model_file_path , ' model train date:',datetime.fromtimestamp(modified).date() , 'last date:', last_date)\n",
        "except:\n",
        "  indicators_model = None\n",
        "  print('Model ' + indicators_model_file_path + ' does not exists.')"
      ],
      "execution_count": 458,
      "outputs": [
        {
          "output_type": "stream",
          "name": "stdout",
          "text": [
            "-1 day, 0:00:00\n",
            "Loaded /content/drive/MyDrive/models/SPY_14_indicators_07.h5  model train date: 2021-11-13 last date: 2021-11-12\n"
          ]
        }
      ]
    },
    {
      "cell_type": "code",
      "metadata": {
        "id": "r59DQEiZ0u18"
      },
      "source": [
        "if indicators_model is None:\n",
        "  indicators_model = Sequential()\n",
        "  indicators_model.add(LSTM(units=50, activation='tanh', input_shape=(look_back, nr_of_features), return_sequences=True))\n",
        "  indicators_model.add(Dropout(0.2))\n",
        "  indicators_model.add(LSTM(units=50, return_sequences=True, activation=\"tanh\"))\n",
        "  indicators_model.add(Dropout(0.2))\n",
        "  indicators_model.add(LSTM(units=50, return_sequences=True, activation=\"tanh\"))\n",
        "  indicators_model.add(Dropout(0.2))\n",
        "  indicators_model.add(LSTM(units=50, activation=\"tanh\"))\n",
        "  indicators_model.add(Dropout(0.2))\n",
        "  indicators_model.add(Dense(nr_of_features))\n",
        "\n",
        "  indicators_model.compile(\n",
        "      loss=MAE,\n",
        "      optimizer=Adam(learning_rate=learning_rate),\n",
        "      metrics=[\"mae\"]\n",
        "  )\n",
        "    \n",
        "  #model.summary()\n",
        "  print('Model ' + indicators_model_file_path + ' compiled.')\n",
        "\n",
        "  indicators_modelo = indicators_model.fit(indicators_train_generator, epochs=epochs, verbose=0 )\n",
        "  \n",
        "  indicators_model.save(indicators_model_file_path)\n",
        "  print('Saved model ' + indicators_model_file_path)\n",
        "\n",
        "  if print_level >= DEBUG:\n",
        "    plt.plot(indicators_modelo.history['loss'])\n",
        "    plt.xlabel('Epochs')\n",
        "    plt.ylabel('Loss')\n",
        "    plt.show()"
      ],
      "execution_count": 459,
      "outputs": []
    },
    {
      "cell_type": "code",
      "metadata": {
        "colab": {
          "base_uri": "https://localhost:8080/"
        },
        "id": "xkdpY8eE4XlZ",
        "outputId": "8b4db86a-b0fd-4d9a-f64c-a48195ae0074"
      },
      "source": [
        "indicators_test_generator = TimeseriesGenerator(indicators_lstm_test_data_scaled, indicators_lstm_test_data_scaled,sampling_rate=1, length=look_back, batch_size=look_back)\n",
        "\n",
        "print('Samples: %d' % len(indicators_test_generator))\n",
        "# print each sample\n",
        "if print_level >= TRACE:\n",
        "  for i in range(2):\n",
        "    x, y = indicators_test_generator[i]\n",
        "    print('%s => %s' % (x, y))"
      ],
      "execution_count": 460,
      "outputs": [
        {
          "output_type": "stream",
          "name": "stdout",
          "text": [
            "Samples: 5\n"
          ]
        }
      ]
    },
    {
      "cell_type": "code",
      "metadata": {
        "colab": {
          "base_uri": "https://localhost:8080/"
        },
        "id": "WAS1RHA1Mn10",
        "outputId": "af99f52f-805a-49e8-b30e-c87a082ca1e0"
      },
      "source": [
        "#Make prediction\n",
        "indicators_prediction_scaled = indicators_model.predict(indicators_test_generator)\n",
        "\n",
        "if print_level >= DEBUG:\n",
        "  np.set_printoptions(formatter={'float': '{: 0.12f}'.format})\n",
        "  print(indicators_prediction_scaled[:5])\n",
        "\n",
        "indicators_prediction = indicators_scaler.inverse_transform(indicators_prediction_scaled)\n",
        "\n",
        "if print_level >= DEBUG:\n",
        "  np.set_printoptions(formatter={'float': '{: 0.2f}'.format})\n",
        "  print('indicators_prediction shape:',indicators_prediction.shape)\n",
        "\n",
        "  for x in range(look_back + 1):\n",
        "    print('pred:',indicators_prediction[x], 'test:', indicators_lstm_test_data[x])\n"
      ],
      "execution_count": 461,
      "outputs": [
        {
          "output_type": "stream",
          "name": "stdout",
          "text": [
            "[[ 0.700774848461]\n",
            " [ 0.697906196117]\n",
            " [ 0.696386456490]\n",
            " [ 0.693222522736]\n",
            " [ 0.690100252628]]\n",
            "indicators_prediction shape: (59, 1)\n",
            "pred: [ 63.50] test: [ 62.15]\n",
            "pred: [ 63.32] test: [ 57.94]\n",
            "pred: [ 63.23] test: [ 61.54]\n",
            "pred: [ 63.03] test: [ 62.45]\n",
            "pred: [ 62.83] test: [ 61.67]\n",
            "pred: [ 62.71] test: [ 62.44]\n",
            "pred: [ 62.64] test: [ 63.99]\n",
            "pred: [ 62.61] test: [ 65.82]\n",
            "pred: [ 62.61] test: [ 66.93]\n",
            "pred: [ 62.67] test: [ 68.36]\n",
            "pred: [ 62.77] test: [ 60.50]\n",
            "pred: [ 63.15] test: [ 50.20]\n",
            "pred: [ 63.79] test: [ 51.45]\n",
            "pred: [ 64.26] test: [ 57.36]\n",
            "pred: [ 64.39] test: [ 62.80]\n"
          ]
        }
      ]
    },
    {
      "cell_type": "code",
      "metadata": {
        "colab": {
          "base_uri": "https://localhost:8080/"
        },
        "id": "ae72DYdyd0zp",
        "outputId": "8a3a82ab-aad3-4a16-8d27-0b63926d715b"
      },
      "source": [
        "def predict(num_prediction, model):\n",
        "    prediction_list = indicators_lstm_test_data_scaled[-look_back:]\n",
        "    #print('prediction_list',prediction_list)\n",
        "    for _ in range(num_prediction):\n",
        "        x = prediction_list[-look_back:]\n",
        "        #print(x)\n",
        "        x = x.reshape((1, look_back, nr_of_features))\n",
        "        out = model.predict(x)\n",
        "        #print(x,out) \n",
        "        prediction_list = np.append(prediction_list, out, axis=0)\n",
        "    prediction_list = prediction_list[look_back-1:]\n",
        "        \n",
        "    return prediction_list\n",
        "    \n",
        "def predict_dates(last_date,num_prediction):\n",
        "    us_bd = CustomBusinessDay(calendar=USFederalHolidayCalendar())\n",
        "    prediction_dates = pd.date_range(last_date, periods=num_prediction+1,freq=us_bd).tolist()\n",
        "    return prediction_dates\n",
        "\n",
        "indicators_forecast_scaled = predict(num_prediction, indicators_model)\n",
        "#print(forecast_scaled)\n",
        "indicators_forecast_dates = predict_dates(indicators_df['Date'].values[-1],num_prediction)\n",
        "\n",
        "indicators_forecast = indicators_scaler.inverse_transform(indicators_forecast_scaled.reshape((-1,nr_of_features)))\n",
        "if nr_of_features == 1:\n",
        "   indicators_forecast = indicators_forecast.reshape((-1))\n",
        "\n",
        "print('indicators_forecast:',indicators_forecast)\n"
      ],
      "execution_count": 462,
      "outputs": [
        {
          "output_type": "stream",
          "name": "stdout",
          "text": [
            "indicators_forecast: [ 68.52  68.17  68.27  68.39  68.30  68.14  67.94  67.68  67.37  67.04\n",
            "  66.71  66.41  66.25  66.33  66.37]\n"
          ]
        }
      ]
    },
    {
      "cell_type": "code",
      "metadata": {
        "colab": {
          "base_uri": "https://localhost:8080/",
          "height": 667
        },
        "id": "dnqEqJioguwy",
        "outputId": "8d06a89b-dba8-4274-b236-af15a0d71eba"
      },
      "source": [
        "chart_days = len(indicators_df_test) * 2\n",
        "trace1 = go.Candlestick(\n",
        "    x = stock_df.tail(chart_days)['Date'],\n",
        "    open = stock_df.tail(chart_days)['Open'],\n",
        "    high = stock_df.tail(chart_days)['High'],\n",
        "    low = stock_df.tail(chart_days)['Low'],\n",
        "    close = stock_df.tail(chart_days)['Close'],\n",
        "    name = ticker + ' Price'\n",
        ")\n",
        "\n",
        "trace2 = go.Scatter(\n",
        "    x = stock_df.tail(chart_days)['Date'],\n",
        "    y = stock_df.tail(chart_days)['50MA'],\n",
        "    mode='lines',\n",
        "    name ='50MA'\n",
        ")\n",
        "\n",
        "trace3 = go.Scatter(\n",
        "    x = stock_df.tail(chart_days)['Date'],\n",
        "    y = stock_df.tail(chart_days)['100MA'],\n",
        "    mode='lines',\n",
        "    name ='100MA'\n",
        ")\n",
        "\n",
        "trace4 = go.Scatter(\n",
        "    x = stock_df.tail(chart_days)['Date'],\n",
        "    y = stock_df.tail(chart_days)['200MA'],\n",
        "    mode='lines',\n",
        "    name ='200MA'\n",
        ")\n",
        "\n",
        "\n",
        "#'Date','Close','Volume','High','Low','Open','Divident'\n",
        "open_price =  str(stock_data[-1][5])\n",
        "low_price =  str(stock_data[-1][3])\n",
        "high_price =  str(stock_data[-1][4])\n",
        "close_price =  str(stock_data[-1][1])\n",
        "indicators_forecast_mean = np.round(np.mean(indicators_forecast))\n",
        "\n",
        "layout = go.Layout(\n",
        "    title = ticker + ' Date:' + last_date + ' Open:' + open_price + ' High:' + high_price + ' Low:' + low_price + ' Close:' + close_price,\n",
        "    xaxis = {'title' : \"Dates\"},\n",
        "    yaxis = {'title' : \"Close Price ($)\"},\n",
        "    height = 450\n",
        ")\n",
        "\n",
        "trace_train = go.Scatter(\n",
        "  x = indicators_df_train.tail(len(indicators_df_test))['Date'],\n",
        "  y = indicators_df_train.tail(len(indicators_df_test))['RSI'],\n",
        "  mode='lines',\n",
        "  name ='RSI'\n",
        ")\n",
        "\n",
        "trace_test = go.Scatter(\n",
        "  x = indicators_df_test['Date'],\n",
        "  y = indicators_df_test['RSI'],\n",
        "  mode='markers+lines',\n",
        "  name ='Test'\n",
        ")\n",
        "\n",
        "trace_prediction = go.Scatter(\n",
        "    x = indicators_df_test['Date'],\n",
        "    y = indicators_prediction.reshape((-1)),\n",
        "    mode='lines',\n",
        "    name ='Prediction'\n",
        ")\n",
        "\n",
        "trace_forecast = go.Scatter(\n",
        "    x = indicators_forecast_dates,\n",
        "    y = indicators_forecast,\n",
        "    mode='markers+lines',\n",
        "    name ='Forecast'\n",
        ")\n",
        "\n",
        "\n",
        "tradingview_link = '<a href=\"https://in.tradingview.com/chart/66XmQfYy/?symbol=' + ticker +'\">' + ticker +'</a>'\n",
        "stock_title = tradingview_link + ' Date:' + last_date + ' Open:' + open_price + ' High:' + high_price + ' Low:' + low_price + ' Close:' + close_price\n",
        "indicators_title = tradingview_link + ' RSI('+ str(look_back)+ ') Date:' + last_date + ' Close:' + indicators_df['RSI'].iloc[-1] + ' Forecast('+str(look_back)+'):' + str(indicators_forecast_mean)\n",
        "\n",
        "fig = make_subplots(rows=2, cols=1, row_heights=[0.6, 0.4], subplot_titles=(stock_title, indicators_title))\n",
        "\n",
        "\n",
        "fig.add_trace(trace1,row=1, col=1)\n",
        "fig.add_trace(trace2,row=1, col=1)\n",
        "fig.add_trace(trace3,row=1, col=1)\n",
        "fig.add_trace(trace4,row=1, col=1)\n",
        "\n",
        "fig.add_trace(trace_train,row=2, col=1)\n",
        "fig.add_trace(trace_test,row=2, col=1)\n",
        "fig.add_trace(trace_prediction,row=2, col=1)\n",
        "fig.add_trace(trace_forecast,row=2, col=1)\n",
        "\n",
        "fig.add_trace(go.Scatter(\n",
        "        x = [indicators_df_train.tail(len(indicators_df_test))['Date'].min(), np.max(indicators_forecast_dates)],\n",
        "        y = [70, 70],\n",
        "        mode = \"lines\",\n",
        "        line = dict(shape = 'linear', color = 'rgb(100, 10, 100)', dash = 'dash')\n",
        "    ),row=2, col=1)\n",
        "\n",
        "fig.add_trace(go.Scatter(\n",
        "        x = [indicators_df_train.tail(len(indicators_df_test))['Date'].min(), np.max(indicators_forecast_dates)],\n",
        "        y = [50, 50],\n",
        "        mode = \"lines\",\n",
        "        line = dict(shape = 'linear', color = 'rgb(10, 12, 240)', dash = 'dash')\n",
        "    ),row=2, col=1)\n",
        "\n",
        "fig.add_trace(go.Scatter(\n",
        "        x = [indicators_df_train.tail(len(indicators_df_test))['Date'].min(), np.max(indicators_forecast_dates)],\n",
        "        y = [30, 30],\n",
        "        mode = \"lines\",\n",
        "        line = dict(shape = 'linear', color = 'rgb(10, 120, 24)', dash = 'dash')\n",
        "    ),row=2, col=1)\n",
        "\n",
        "fig.update_yaxes(showspikes=True, spikemode='across', spikesnap='cursor',spikedash='dash')\n",
        "fig.update_xaxes(showspikes=True, spikemode='across', spikesnap='cursor', spikedash='dash')\n",
        "fig.update_layout(xaxis_rangeslider_visible=False,height=650)\n",
        "\n",
        "fig.show()\n",
        "\n",
        "fig.write_html('/content/drive/MyDrive/models/charts/' + ticker + '_' + str(look_back) + '_07_inidicators_forecast.html')"
      ],
      "execution_count": 464,
      "outputs": [
        {
          "output_type": "display_data",
          "data": {
            "text/html": [
              "<html>\n",
              "<head><meta charset=\"utf-8\" /></head>\n",
              "<body>\n",
              "    <div>\n",
              "            <script src=\"https://cdnjs.cloudflare.com/ajax/libs/mathjax/2.7.5/MathJax.js?config=TeX-AMS-MML_SVG\"></script><script type=\"text/javascript\">if (window.MathJax) {MathJax.Hub.Config({SVG: {font: \"STIX-Web\"}});}</script>\n",
              "                <script type=\"text/javascript\">window.PlotlyConfig = {MathJaxConfig: 'local'};</script>\n",
              "        <script src=\"https://cdn.plot.ly/plotly-latest.min.js\"></script>    \n",
              "            <div id=\"148a33f5-13ff-4570-b9a5-f7e85c7b7523\" class=\"plotly-graph-div\" style=\"height:650px; width:100%;\"></div>\n",
              "            <script type=\"text/javascript\">\n",
              "                \n",
              "                    window.PLOTLYENV=window.PLOTLYENV || {};\n",
              "                    \n",
              "                if (document.getElementById(\"148a33f5-13ff-4570-b9a5-f7e85c7b7523\")) {\n",
              "                    Plotly.newPlot(\n",
              "                        '148a33f5-13ff-4570-b9a5-f7e85c7b7523',\n",
              "                        [{\"close\": [\"412.17\", \"416.07\", \"412.27\", \"416.74\", \"417.61\", \"417.52\", \"417.4\", \"420.06\", \"417.3\", \"418.2\", \"415.62\", \"415.75\", \"419.07\", \"422.12\", \"417.94\", \"414.21\", \"405.41\", \"410.28\", \"416.58\", \"415.52\", \"411.94\", \"410.86\", \"415.28\", \"414.94\", \"419.17\", \"418.24\", \"419.07\", \"419.29\", \"420.04\", \"419.67\", \"420.33\", \"418.77\", \"422.6\", \"422.19\", \"422.28\", \"421.65\", \"423.61\", \"424.31\", \"425.26\", \"424.48\", \"422.11\", \"421.97\", \"414.92\", \"420.86\", \"423.11\", \"422.6\", \"425.1\", \"426.61\", \"427.47\", \"427.7\", \"428.06\", \"430.43\", \"433.72\", \"432.93\", \"434.46\", \"430.92\", \"435.52\", \"437.08\", \"435.59\", \"436.24\", \"434.75\", \"431.34\", \"424.97\", \"431.06\", \"434.55\", \"435.46\", \"439.94\", \"441.02\", \"439.01\", \"438.83\", \"440.65\", \"438.51\", \"437.59\", \"441.15\", \"438.98\", \"441.76\", \"442.49\", \"442.13\", \"442.68\", \"443.78\", \"445.11\", \"445.92\", \"446.97\", \"444.04\", \"439.18\", \"439.86\", \"443.36\", \"447.26\", \"447.97\", \"448.91\", \"446.26\", \"450.25\", \"452.23\", \"451.56\", \"451.8\", \"453.19\", \"453.08\", \"451.46\", \"450.91\", \"448.98\", \"445.44\", \"446.58\", \"444.17\", \"447.88\", \"447.17\", \"441.4\", \"434.04\", \"433.63\", \"437.86\", \"443.18\", \"443.91\", \"442.64\", \"433.72\", \"434.45\", \"429.14\", \"434.24\", \"428.64\", \"433.1\", \"434.9\", \"438.66\", \"437.86\", \"434.69\", \"433.62\", \"435.18\", \"442.5\", \"445.87\", \"447.19\", \"450.64\", \"452.41\", \"453.59\", \"453.12\", \"455.55\", \"455.96\", \"453.94\", \"458.32\", \"459.25\", \"460.04\", \"461.9\", \"464.72\", \"466.91\", \"468.53\", \"468.93\", \"467.38\", \"463.62\", \"463.77\", \"467.27\"], \"high\": [\"415.0859\", \"416.29\", \"416.78\", \"418.25\", \"418.22\", \"418.14\", \"419.01\", \"420.72\", \"418.54\", \"419.84\", \"416.6\", \"417.63\", \"419.21\", \"422.815\", \"422.74\", \"415.27\", \"412.59\", \"412.35\", \"417.49\", \"416.39\", \"416.06\", \"411.05\", \"416.625\", \"418.2\", \"420.32\", \"420.71\", \"419.61\", \"420.72\", \"421.25\", \"422.72\", \"421.23\", \"419.99\", \"422.92\", \"422.78\", \"423.21\", \"423.26\", \"424.63\", \"424.43\", \"425.37\", \"425.46\", \"424.87\", \"423.02\", \"417.8281\", \"421.06\", \"424.0\", \"424.05\", \"425.55\", \"427.0943\", \"427.65\", \"428.56\", \"428.78\", \"430.6\", \"434.1\", \"434.01\", \"434.76\", \"431.73\", \"435.84\", \"437.35\", \"437.84\", \"437.92\", \"435.53\", \"436.06\", \"431.4089\", \"432.42\", \"434.7\", \"435.72\", \"440.3\", \"441.03\", \"439.94\", \"440.3\", \"441.8\", \"440.06\", \"440.93\", \"441.28\", \"441.1243\", \"441.85\", \"442.94\", \"442.795\", \"443.44\", \"443.882\", \"445.2572\", \"445.94\", \"447.11\", \"444.96\", \"444.625\", \"441.14\", \"443.71\", \"448.23\", \"448.54\", \"449.457\", \"448.86\", \"450.65\", \"453.07\", \"452.49\", \"453.11\", \"454.05\", \"453.63\", \"452.81\", \"451.67\", \"452.57\", \"451.49\", \"448.92\", \"448.34\", \"448.41\", \"448.36\", \"445.37\", \"436.56\", \"437.91\", \"440.03\", \"444.89\", \"444.67\", \"444.05\", \"440.04\", \"437.04\", \"436.77\", \"436.0329\", \"433.96\", \"435.49\", \"435.1199\", \"441.68\", \"439.89\", \"440.26\", \"436.1\", \"436.05\", \"442.66\", \"446.26\", \"447.55\", \"450.71\", \"452.732\", \"453.829\", \"454.67\", \"455.9\", \"458.49\", \"457.16\", \"458.4\", \"459.56\", \"460.7021\", \"462.23\", \"465.15\", \"467.0\", \"470.65\", \"470.23\", \"469.57\", \"467.38\", \"465.29\", \"467.86\"], \"low\": [\"410.59\", \"411.36\", \"411.13\", \"412.79\", \"416.8111\", \"416.3\", \"416.9\", \"416.44\", \"416.34\", \"417.665\", \"411.67\", \"415.15\", \"413.675\", \"419.16\", \"417.81\", \"410.06\", \"404.0\", \"407.02\", \"413.18\", \"413.36\", \"411.77\", \"405.33\", \"411.67\", \"414.45\", \"417.08\", \"417.62\", \"417.76\", \"418.9851\", \"419.79\", \"419.2\", \"419.29\", \"416.28\", \"418.8422\", \"421.19\", \"420.32\", \"421.41\", \"421.55\", \"422.82\", \"423.1\", \"423.54\", \"419.92\", \"419.32\", \"414.7\", \"415.93\", \"420.08\", \"422.51\", \"424.62\", \"425.55\", \"425.89\", \"427.13\", \"427.18\", \"428.8\", \"430.5218\", \"430.01\", \"431.51\", \"427.52\", \"430.714\", \"434.97\", \"435.31\", \"434.91\", \"432.72\", \"430.92\", \"421.97\", \"424.83\", \"431.0111\", \"433.69\", \"436.79\", \"439.26\", \"435.99\", \"437.31\", \"439.81\", \"437.77\", \"437.21\", \"436.1\", \"438.73\", \"439.88\", \"441.8\", \"441.31\", \"441.88\", \"442.62\", \"442.66\", \"445.07\", \"442.87\", \"440.85\", \"438.92\", \"436.12\", \"439.71\", \"443.4355\", \"447.42\", \"447.77\", \"446.16\", \"447.06\", \"450.71\", \"450.92\", \"451.545\", \"451.91\", \"451.55\", \"450.7423\", \"448.86\", \"448.72\", \"445.31\", \"444.11\", \"443.22\", \"443.44\", \"444.02\", \"441.02\", \"428.86\", \"433.07\", \"433.747\", \"439.6\", \"441.21\", \"441.9\", \"432.94\", \"433.85\", \"428.78\", \"427.23\", \"426.36\", \"429.39\", \"427.54\", \"438.2\", \"437.19\", \"434.62\", \"432.78\", \"431.54\", \"438.58\", \"444.09\", \"443.27\", \"448.27\", \"451.01\", \"451.31\", \"451.05\", \"452.39\", \"455.56\", \"453.86\", \"455.45\", \"455.56\", \"458.2\", \"460.08\", \"460.83\", \"464.99\", \"466.92\", \"468.2031\", \"465.88\", \"462.04\", \"463.75\", \"464.11\"], \"name\": \"SPY Price\", \"open\": [\"413.91\", \"411.51\", \"415.89\", \"412.87\", \"417.44\", \"417.93\", \"417.81\", \"420.32\", \"417.63\", \"419.43\", \"416.07\", \"417.38\", \"415.83\", \"419.89\", \"422.5\", \"413.1\", \"411.23\", \"407.07\", \"413.21\", \"415.39\", \"415.8\", \"406.92\", \"411.8\", \"416.87\", \"417.34\", \"420.33\", \"418.87\", \"420.17\", \"420.97\", \"422.57\", \"420.37\", \"417.85\", \"420.75\", \"422.59\", \"423.11\", \"423.18\", \"422.96\", \"424.2\", \"424.43\", \"425.42\", \"424.63\", \"421.67\", \"417.09\", \"416.8\", \"420.85\", \"423.19\", \"424.89\", \"425.9\", \"427.17\", \"427.88\", \"427.21\", \"428.87\", \"431.67\", \"433.78\", \"433.66\", \"428.78\", \"432.53\", \"435.43\", \"436.24\", \"437.4\", \"434.81\", \"436.01\", \"426.19\", \"425.68\", \"432.34\", \"434.74\", \"437.52\", \"439.31\", \"439.91\", \"439.68\", \"439.815\", \"437.91\", \"440.34\", \"438.44\", \"439.78\", \"440.22\", \"442.1\", \"442.46\", \"442.61\", \"443.82\", \"443.62\", \"445.59\", \"444.53\", \"444.24\", \"442.96\", \"436.27\", \"440.23\", \"445.16\", \"447.97\", \"448.17\", \"448.61\", \"447.12\", \"450.97\", \"452.13\", \"452.56\", \"453.32\", \"451.98\", \"452.71\", \"450.89\", \"450.7\", \"451.04\", \"448.64\", \"448.12\", \"444.62\", \"447.32\", \"444.92\", \"434.88\", \"436.53\", \"436.05\", \"439.85\", \"441.44\", \"442.81\", \"439.69\", \"435.19\", \"436.02\", \"430.98\", \"433.0\", \"430.24\", \"429.27\", \"438.39\", \"439.48\", \"437.16\", \"435.67\", \"434.71\", \"439.08\", \"444.75\", \"443.97\", \"448.92\", \"451.13\", \"451.77\", \"453.13\", \"454.28\", \"457.2\", \"456.45\", \"455.46\", \"455.87\", \"460.3\", \"460.22\", \"461.3\", \"465.36\", \"469.28\", \"469.7\", \"469.32\", \"465.58\", \"465.21\", \"465.12\"], \"type\": \"candlestick\", \"x\": [\"2021-04-20\", \"2021-04-21\", \"2021-04-22\", \"2021-04-23\", \"2021-04-26\", \"2021-04-27\", \"2021-04-28\", \"2021-04-29\", \"2021-04-30\", \"2021-05-03\", \"2021-05-04\", \"2021-05-05\", \"2021-05-06\", \"2021-05-07\", \"2021-05-10\", \"2021-05-11\", \"2021-05-12\", \"2021-05-13\", \"2021-05-14\", \"2021-05-17\", \"2021-05-18\", \"2021-05-19\", \"2021-05-20\", \"2021-05-21\", \"2021-05-24\", \"2021-05-25\", \"2021-05-26\", \"2021-05-27\", \"2021-05-28\", \"2021-06-01\", \"2021-06-02\", \"2021-06-03\", \"2021-06-04\", \"2021-06-07\", \"2021-06-08\", \"2021-06-09\", \"2021-06-10\", \"2021-06-11\", \"2021-06-14\", \"2021-06-15\", \"2021-06-16\", \"2021-06-17\", \"2021-06-18\", \"2021-06-21\", \"2021-06-22\", \"2021-06-23\", \"2021-06-24\", \"2021-06-25\", \"2021-06-28\", \"2021-06-29\", \"2021-06-30\", \"2021-07-01\", \"2021-07-02\", \"2021-07-06\", \"2021-07-07\", \"2021-07-08\", \"2021-07-09\", \"2021-07-12\", \"2021-07-13\", \"2021-07-14\", \"2021-07-15\", \"2021-07-16\", \"2021-07-19\", \"2021-07-20\", \"2021-07-21\", \"2021-07-22\", \"2021-07-23\", \"2021-07-26\", \"2021-07-27\", \"2021-07-28\", \"2021-07-29\", \"2021-07-30\", \"2021-08-02\", \"2021-08-03\", \"2021-08-04\", \"2021-08-05\", \"2021-08-06\", \"2021-08-09\", \"2021-08-10\", \"2021-08-11\", \"2021-08-12\", \"2021-08-13\", \"2021-08-16\", \"2021-08-17\", \"2021-08-18\", \"2021-08-19\", \"2021-08-20\", \"2021-08-23\", \"2021-08-24\", \"2021-08-25\", \"2021-08-26\", \"2021-08-27\", \"2021-08-30\", \"2021-08-31\", \"2021-09-01\", \"2021-09-02\", \"2021-09-03\", \"2021-09-07\", \"2021-09-08\", \"2021-09-09\", \"2021-09-10\", \"2021-09-13\", \"2021-09-14\", \"2021-09-15\", \"2021-09-16\", \"2021-09-17\", \"2021-09-20\", \"2021-09-21\", \"2021-09-22\", \"2021-09-23\", \"2021-09-24\", \"2021-09-27\", \"2021-09-28\", \"2021-09-29\", \"2021-09-30\", \"2021-10-01\", \"2021-10-04\", \"2021-10-05\", \"2021-10-06\", \"2021-10-07\", \"2021-10-08\", \"2021-10-11\", \"2021-10-12\", \"2021-10-13\", \"2021-10-14\", \"2021-10-15\", \"2021-10-18\", \"2021-10-19\", \"2021-10-20\", \"2021-10-21\", \"2021-10-22\", \"2021-10-25\", \"2021-10-26\", \"2021-10-27\", \"2021-10-28\", \"2021-10-29\", \"2021-11-01\", \"2021-11-02\", \"2021-11-03\", \"2021-11-04\", \"2021-11-05\", \"2021-11-08\", \"2021-11-09\", \"2021-11-10\", \"2021-11-11\", \"2021-11-12\"], \"xaxis\": \"x\", \"yaxis\": \"y\"}, {\"mode\": \"lines\", \"name\": \"50MA\", \"type\": \"scatter\", \"x\": [\"2021-04-20\", \"2021-04-21\", \"2021-04-22\", \"2021-04-23\", \"2021-04-26\", \"2021-04-27\", \"2021-04-28\", \"2021-04-29\", \"2021-04-30\", \"2021-05-03\", \"2021-05-04\", \"2021-05-05\", \"2021-05-06\", \"2021-05-07\", \"2021-05-10\", \"2021-05-11\", \"2021-05-12\", \"2021-05-13\", \"2021-05-14\", \"2021-05-17\", \"2021-05-18\", \"2021-05-19\", \"2021-05-20\", \"2021-05-21\", \"2021-05-24\", \"2021-05-25\", \"2021-05-26\", \"2021-05-27\", \"2021-05-28\", \"2021-06-01\", \"2021-06-02\", \"2021-06-03\", \"2021-06-04\", \"2021-06-07\", \"2021-06-08\", \"2021-06-09\", \"2021-06-10\", \"2021-06-11\", \"2021-06-14\", \"2021-06-15\", \"2021-06-16\", \"2021-06-17\", \"2021-06-18\", \"2021-06-21\", \"2021-06-22\", \"2021-06-23\", \"2021-06-24\", \"2021-06-25\", \"2021-06-28\", \"2021-06-29\", \"2021-06-30\", \"2021-07-01\", \"2021-07-02\", \"2021-07-06\", \"2021-07-07\", \"2021-07-08\", \"2021-07-09\", \"2021-07-12\", \"2021-07-13\", \"2021-07-14\", \"2021-07-15\", \"2021-07-16\", \"2021-07-19\", \"2021-07-20\", \"2021-07-21\", \"2021-07-22\", \"2021-07-23\", \"2021-07-26\", \"2021-07-27\", \"2021-07-28\", \"2021-07-29\", \"2021-07-30\", \"2021-08-02\", \"2021-08-03\", \"2021-08-04\", \"2021-08-05\", \"2021-08-06\", \"2021-08-09\", \"2021-08-10\", \"2021-08-11\", \"2021-08-12\", \"2021-08-13\", \"2021-08-16\", \"2021-08-17\", \"2021-08-18\", \"2021-08-19\", \"2021-08-20\", \"2021-08-23\", \"2021-08-24\", \"2021-08-25\", \"2021-08-26\", \"2021-08-27\", \"2021-08-30\", \"2021-08-31\", \"2021-09-01\", \"2021-09-02\", \"2021-09-03\", \"2021-09-07\", \"2021-09-08\", \"2021-09-09\", \"2021-09-10\", \"2021-09-13\", \"2021-09-14\", \"2021-09-15\", \"2021-09-16\", \"2021-09-17\", \"2021-09-20\", \"2021-09-21\", \"2021-09-22\", \"2021-09-23\", \"2021-09-24\", \"2021-09-27\", \"2021-09-28\", \"2021-09-29\", \"2021-09-30\", \"2021-10-01\", \"2021-10-04\", \"2021-10-05\", \"2021-10-06\", \"2021-10-07\", \"2021-10-08\", \"2021-10-11\", \"2021-10-12\", \"2021-10-13\", \"2021-10-14\", \"2021-10-15\", \"2021-10-18\", \"2021-10-19\", \"2021-10-20\", \"2021-10-21\", \"2021-10-22\", \"2021-10-25\", \"2021-10-26\", \"2021-10-27\", \"2021-10-28\", \"2021-10-29\", \"2021-11-01\", \"2021-11-02\", \"2021-11-03\", \"2021-11-04\", \"2021-11-05\", \"2021-11-08\", \"2021-11-09\", \"2021-11-10\", \"2021-11-11\", \"2021-11-12\"], \"xaxis\": \"x\", \"y\": [395.2274000000001, 395.73860000000013, 396.17900000000014, 396.71220000000017, 397.2502000000002, 397.7478000000002, 398.2498000000003, 398.8032000000003, 399.33480000000026, 399.8982000000003, 400.4700000000003, 401.0350000000003, 401.5810000000003, 402.37680000000023, 403.12840000000017, 403.62100000000015, 403.9984000000001, 404.5756000000001, 405.37320000000017, 406.01100000000014, 406.6154000000001, 407.0892000000001, 407.6032000000001, 408.0314000000001, 408.5336, 408.97020000000003, 409.43340000000006, 409.8740000000001, 410.4452000000001, 411.0490000000001, 411.6038000000001, 412.18920000000014, 412.89080000000007, 413.54060000000004, 414.06660000000005, 414.58400000000006, 415.16160000000013, 415.7212000000001, 416.21420000000006, 416.57660000000004, 416.8964000000001, 417.20400000000006, 417.33200000000005, 417.5194, 417.7488000000001, 417.9436, 418.21659999999997, 418.4314, 418.63560000000007, 418.88540000000006, 419.20320000000015, 419.49040000000014, 419.91940000000017, 420.2432000000001, 420.5802000000001, 420.8482000000001, 421.21060000000006, 421.55100000000004, 421.9168000000001, 422.2776000000001, 422.6602000000001, 422.9720000000001, 423.09000000000015, 423.26880000000017, 423.6010000000002, 424.0260000000002, 424.7166000000002, 425.3314000000002, 425.78000000000014, 426.24620000000016, 426.82040000000023, 427.3734000000002, 427.8196000000002, 428.3438000000003, 428.7400000000003, 429.2104000000002, 429.67880000000025, 430.1356000000003, 430.58840000000026, 431.07060000000024, 431.56620000000026, 432.1092000000002, 432.59660000000025, 433.0336000000003, 433.37160000000034, 433.7358000000003, 434.1308000000003, 434.58980000000025, 435.0440000000003, 435.5326000000003, 436.0156000000003, 436.58120000000025, 437.3274000000003, 437.94140000000027, 438.5152000000003, 439.12700000000024, 439.68660000000034, 440.1836000000003, 440.6524000000003, 441.07800000000026, 441.4256000000002, 441.74860000000024, 441.9576000000002, 442.25660000000016, 442.5108000000002, 442.7204000000002, 442.69080000000025, 442.62180000000023, 442.6672000000002, 442.8060000000002, 442.9892000000002, 443.2152000000002, 443.39020000000016, 443.4580000000002, 443.3498000000002, 443.32540000000023, 443.09940000000023, 442.9410000000002, 442.85880000000026, 442.8554000000002, 442.7996000000002, 442.7232000000002, 442.64380000000017, 442.5244000000002, 442.5948000000002, 442.6770000000002, 442.77100000000013, 442.9412000000001, 443.1358000000001, 443.3320000000001, 443.4922000000001, 443.6848000000001, 443.86460000000005, 444.06260000000003, 444.4454, 444.8332, 445.1668, 445.4596000000001, 445.79460000000006, 446.1546000000001, 446.6000000000001, 446.9736000000001, 447.2766000000001, 447.5178000000001, 447.75720000000007, 448.0388000000001], \"yaxis\": \"y\"}, {\"mode\": \"lines\", \"name\": \"100MA\", \"type\": \"scatter\", \"x\": [\"2021-04-20\", \"2021-04-21\", \"2021-04-22\", \"2021-04-23\", \"2021-04-26\", \"2021-04-27\", \"2021-04-28\", \"2021-04-29\", \"2021-04-30\", \"2021-05-03\", \"2021-05-04\", \"2021-05-05\", \"2021-05-06\", \"2021-05-07\", \"2021-05-10\", \"2021-05-11\", \"2021-05-12\", \"2021-05-13\", \"2021-05-14\", \"2021-05-17\", \"2021-05-18\", \"2021-05-19\", \"2021-05-20\", \"2021-05-21\", \"2021-05-24\", \"2021-05-25\", \"2021-05-26\", \"2021-05-27\", \"2021-05-28\", \"2021-06-01\", \"2021-06-02\", \"2021-06-03\", \"2021-06-04\", \"2021-06-07\", \"2021-06-08\", \"2021-06-09\", \"2021-06-10\", \"2021-06-11\", \"2021-06-14\", \"2021-06-15\", \"2021-06-16\", \"2021-06-17\", \"2021-06-18\", \"2021-06-21\", \"2021-06-22\", \"2021-06-23\", \"2021-06-24\", \"2021-06-25\", \"2021-06-28\", \"2021-06-29\", \"2021-06-30\", \"2021-07-01\", \"2021-07-02\", \"2021-07-06\", \"2021-07-07\", \"2021-07-08\", \"2021-07-09\", \"2021-07-12\", \"2021-07-13\", \"2021-07-14\", \"2021-07-15\", \"2021-07-16\", \"2021-07-19\", \"2021-07-20\", \"2021-07-21\", \"2021-07-22\", \"2021-07-23\", \"2021-07-26\", \"2021-07-27\", \"2021-07-28\", \"2021-07-29\", \"2021-07-30\", \"2021-08-02\", \"2021-08-03\", \"2021-08-04\", \"2021-08-05\", \"2021-08-06\", \"2021-08-09\", \"2021-08-10\", \"2021-08-11\", \"2021-08-12\", \"2021-08-13\", \"2021-08-16\", \"2021-08-17\", \"2021-08-18\", \"2021-08-19\", \"2021-08-20\", \"2021-08-23\", \"2021-08-24\", \"2021-08-25\", \"2021-08-26\", \"2021-08-27\", \"2021-08-30\", \"2021-08-31\", \"2021-09-01\", \"2021-09-02\", \"2021-09-03\", \"2021-09-07\", \"2021-09-08\", \"2021-09-09\", \"2021-09-10\", \"2021-09-13\", \"2021-09-14\", \"2021-09-15\", \"2021-09-16\", \"2021-09-17\", \"2021-09-20\", \"2021-09-21\", \"2021-09-22\", \"2021-09-23\", \"2021-09-24\", \"2021-09-27\", \"2021-09-28\", \"2021-09-29\", \"2021-09-30\", \"2021-10-01\", \"2021-10-04\", \"2021-10-05\", \"2021-10-06\", \"2021-10-07\", \"2021-10-08\", \"2021-10-11\", \"2021-10-12\", \"2021-10-13\", \"2021-10-14\", \"2021-10-15\", \"2021-10-18\", \"2021-10-19\", \"2021-10-20\", \"2021-10-21\", \"2021-10-22\", \"2021-10-25\", \"2021-10-26\", \"2021-10-27\", \"2021-10-28\", \"2021-10-29\", \"2021-11-01\", \"2021-11-02\", \"2021-11-03\", \"2021-11-04\", \"2021-11-05\", \"2021-11-08\", \"2021-11-09\", \"2021-11-10\", \"2021-11-11\", \"2021-11-12\"], \"xaxis\": \"x\", \"y\": [384.2739999999997, 384.8024999999997, 385.2985999999996, 385.82929999999965, 386.38479999999964, 386.8997999999997, 387.4058999999997, 387.93959999999964, 388.4140999999997, 388.9051999999997, 389.35969999999975, 389.8486999999997, 390.3720999999997, 390.9302999999997, 391.4630999999997, 391.9092999999997, 392.2616999999998, 392.6420999999998, 393.1160999999998, 393.59269999999975, 394.0396999999998, 394.47259999999983, 394.9353999999998, 395.3630999999998, 395.8401999999998, 396.30269999999985, 396.75459999999987, 397.25959999999986, 397.74669999999986, 398.20789999999977, 398.62019999999984, 398.99529999999976, 399.43439999999975, 399.8685999999998, 400.29349999999977, 400.7253999999998, 401.2044999999998, 401.6610999999998, 402.0747999999998, 402.47719999999987, 402.8694999999999, 403.24529999999993, 403.5565999999999, 404.0210999999999, 404.4758999999999, 405.00119999999987, 405.4898999999998, 405.9404999999998, 406.39669999999984, 406.8117999999998, 407.2152999999998, 407.61449999999974, 408.04919999999976, 408.47769999999974, 408.91519999999974, 409.2979999999997, 409.7301999999997, 410.1770999999997, 410.62579999999963, 411.08789999999965, 411.56509999999963, 412.00349999999963, 412.3354999999997, 412.82279999999963, 413.36469999999963, 413.8234999999996, 414.3574999999996, 414.9534999999996, 415.57659999999964, 416.1285999999997, 416.7178999999997, 417.23129999999975, 417.7113999999997, 418.18759999999975, 418.63679999999977, 419.0902999999998, 419.55609999999973, 420.00479999999965, 420.51679999999965, 421.0597999999996, 421.58499999999964, 422.1491999999996, 422.74369999999965, 423.2870999999997, 423.7190999999997, 424.1598999999997, 424.6461999999997, 425.1554999999997, 425.62909999999965, 426.0545999999997, 426.4559999999997, 426.89259999999973, 427.3296999999998, 427.7303999999998, 428.13199999999983, 428.53529999999984, 428.95159999999987, 429.30749999999983, 429.6439999999999, 429.98169999999993, 430.3144, 430.61949999999996, 430.9385, 431.24989999999997, 431.54549999999995, 431.78430000000003, 431.9507, 432.08639999999997, 432.292, 432.5418, 432.8247, 433.0936, 433.24010000000004, 433.36339999999996, 433.4753999999999, 433.67569999999995, 433.9079999999999, 434.13619999999986, 434.31939999999986, 434.5507999999999, 434.80999999999995, 435.0482999999999, 435.2317, 435.43409999999994, 435.6674, 435.94370000000004, 436.22490000000005, 436.5384, 436.86210000000005, 437.20130000000006, 437.52920000000006, 437.8970000000001, 438.2306000000001, 438.54810000000015, 438.9085000000001, 439.2845000000001, 439.6488000000001, 440.02470000000017, 440.41930000000013, 440.84360000000015, 441.30780000000016, 441.7774000000001, 442.30200000000013, 442.7296000000001, 443.1362000000001, 443.5829000000001], \"yaxis\": \"y\"}, {\"mode\": \"lines\", \"name\": \"200MA\", \"type\": \"scatter\", \"x\": [\"2021-04-20\", \"2021-04-21\", \"2021-04-22\", \"2021-04-23\", \"2021-04-26\", \"2021-04-27\", \"2021-04-28\", \"2021-04-29\", \"2021-04-30\", \"2021-05-03\", \"2021-05-04\", \"2021-05-05\", \"2021-05-06\", \"2021-05-07\", \"2021-05-10\", \"2021-05-11\", \"2021-05-12\", \"2021-05-13\", \"2021-05-14\", \"2021-05-17\", \"2021-05-18\", \"2021-05-19\", \"2021-05-20\", \"2021-05-21\", \"2021-05-24\", \"2021-05-25\", \"2021-05-26\", \"2021-05-27\", \"2021-05-28\", \"2021-06-01\", \"2021-06-02\", \"2021-06-03\", \"2021-06-04\", \"2021-06-07\", \"2021-06-08\", \"2021-06-09\", \"2021-06-10\", \"2021-06-11\", \"2021-06-14\", \"2021-06-15\", \"2021-06-16\", \"2021-06-17\", \"2021-06-18\", \"2021-06-21\", \"2021-06-22\", \"2021-06-23\", \"2021-06-24\", \"2021-06-25\", \"2021-06-28\", \"2021-06-29\", \"2021-06-30\", \"2021-07-01\", \"2021-07-02\", \"2021-07-06\", \"2021-07-07\", \"2021-07-08\", \"2021-07-09\", \"2021-07-12\", \"2021-07-13\", \"2021-07-14\", \"2021-07-15\", \"2021-07-16\", \"2021-07-19\", \"2021-07-20\", \"2021-07-21\", \"2021-07-22\", \"2021-07-23\", \"2021-07-26\", \"2021-07-27\", \"2021-07-28\", \"2021-07-29\", \"2021-07-30\", \"2021-08-02\", \"2021-08-03\", \"2021-08-04\", \"2021-08-05\", \"2021-08-06\", \"2021-08-09\", \"2021-08-10\", \"2021-08-11\", \"2021-08-12\", \"2021-08-13\", \"2021-08-16\", \"2021-08-17\", \"2021-08-18\", \"2021-08-19\", \"2021-08-20\", \"2021-08-23\", \"2021-08-24\", \"2021-08-25\", \"2021-08-26\", \"2021-08-27\", \"2021-08-30\", \"2021-08-31\", \"2021-09-01\", \"2021-09-02\", \"2021-09-03\", \"2021-09-07\", \"2021-09-08\", \"2021-09-09\", \"2021-09-10\", \"2021-09-13\", \"2021-09-14\", \"2021-09-15\", \"2021-09-16\", \"2021-09-17\", \"2021-09-20\", \"2021-09-21\", \"2021-09-22\", \"2021-09-23\", \"2021-09-24\", \"2021-09-27\", \"2021-09-28\", \"2021-09-29\", \"2021-09-30\", \"2021-10-01\", \"2021-10-04\", \"2021-10-05\", \"2021-10-06\", \"2021-10-07\", \"2021-10-08\", \"2021-10-11\", \"2021-10-12\", \"2021-10-13\", \"2021-10-14\", \"2021-10-15\", \"2021-10-18\", \"2021-10-19\", \"2021-10-20\", \"2021-10-21\", \"2021-10-22\", \"2021-10-25\", \"2021-10-26\", \"2021-10-27\", \"2021-10-28\", \"2021-10-29\", \"2021-11-01\", \"2021-11-02\", \"2021-11-03\", \"2021-11-04\", \"2021-11-05\", \"2021-11-08\", \"2021-11-09\", \"2021-11-10\", \"2021-11-11\", \"2021-11-12\"], \"xaxis\": \"x\", \"y\": [360.76650000000006, 361.2616000000001, 361.7540500000001, 362.2568500000002, 362.7730000000002, 363.2726500000002, 363.7854500000002, 364.2911500000002, 364.76840000000016, 365.2554500000002, 365.72495000000015, 366.18210000000016, 366.65240000000017, 367.12870000000015, 367.60360000000014, 368.07025000000016, 368.4812000000002, 368.9267500000002, 369.38405000000023, 369.8418500000002, 370.2689500000002, 370.67930000000024, 371.1054000000002, 371.5195500000002, 371.9437500000002, 372.3621000000002, 372.7796000000002, 373.21205000000015, 373.6250500000001, 374.0392500000001, 374.4567000000001, 374.8610000000001, 375.28080000000017, 375.7056000000002, 376.1256000000002, 376.5364500000002, 376.9399000000002, 377.3408500000002, 377.72930000000014, 378.1100500000001, 378.4677000000001, 378.83100000000013, 379.1426000000001, 379.4584000000001, 379.8470000000001, 380.2471500000001, 380.7066000000001, 381.14070000000015, 381.60860000000014, 382.07680000000016, 382.5248000000001, 382.9761000000001, 383.45060000000007, 383.93605, 384.4551000000001, 384.97485000000006, 385.5009500000001, 386.0731500000001, 386.63360000000006, 387.1711500000001, 387.6739500000001, 388.16880000000015, 388.61920000000015, 389.08930000000015, 389.59285000000017, 390.0713500000002, 390.5964000000003, 391.0977000000003, 391.57385000000033, 392.0337500000003, 392.4748500000003, 392.91675000000026, 393.3650500000003, 393.83330000000024, 394.29175000000026, 394.79050000000024, 395.2860500000003, 395.7830500000003, 396.27340000000027, 396.7634000000003, 397.29200000000026, 397.83050000000026, 398.43205000000023, 399.0023500000002, 399.5655500000002, 400.11385000000024, 400.65050000000025, 401.16910000000024, 401.65775000000025, 402.1515000000002, 402.61000000000024, 403.0910500000002, 403.5688500000002, 404.0606000000002, 404.5291000000002, 404.98220000000015, 405.4445000000002, 405.9204000000002, 406.38605000000024, 406.8543000000002, 407.2942000000002, 407.7110000000002, 408.1185500000002, 408.53960000000023, 408.9651500000002, 409.34205000000014, 409.67830000000015, 410.01300000000015, 410.35305000000017, 410.7235000000001, 411.09220000000016, 411.47115000000014, 411.80610000000013, 412.14685000000014, 412.4692500000001, 412.79250000000013, 413.08485000000013, 413.38915000000014, 413.71775000000014, 414.0717500000002, 414.42485000000016, 414.7604500000001, 415.0835500000001, 415.3986000000001, 415.75380000000007, 416.1232, 416.48974999999996, 416.899, 417.30440000000004, 417.70459999999997, 418.07469999999995, 418.44615, 418.8325, 419.20835, 419.60100000000006, 420.00495, 420.42665, 420.8429, 421.24705, 421.6604, 422.08865, 422.51134999999994, 422.9293, 423.37534999999997, 423.80604999999997, 424.29204999999996], \"yaxis\": \"y\"}, {\"mode\": \"lines\", \"name\": \"RSI\", \"type\": \"scatter\", \"x\": [\"2021-04-20\", \"2021-04-21\", \"2021-04-22\", \"2021-04-23\", \"2021-04-26\", \"2021-04-27\", \"2021-04-28\", \"2021-04-29\", \"2021-04-30\", \"2021-05-03\", \"2021-05-04\", \"2021-05-05\", \"2021-05-06\", \"2021-05-07\", \"2021-05-10\", \"2021-05-11\", \"2021-05-12\", \"2021-05-13\", \"2021-05-14\", \"2021-05-17\", \"2021-05-18\", \"2021-05-19\", \"2021-05-20\", \"2021-05-21\", \"2021-05-24\", \"2021-05-25\", \"2021-05-26\", \"2021-05-27\", \"2021-05-28\", \"2021-06-01\", \"2021-06-02\", \"2021-06-03\", \"2021-06-04\", \"2021-06-07\", \"2021-06-08\", \"2021-06-09\", \"2021-06-10\", \"2021-06-11\", \"2021-06-14\", \"2021-06-15\", \"2021-06-16\", \"2021-06-17\", \"2021-06-18\", \"2021-06-21\", \"2021-06-22\", \"2021-06-23\", \"2021-06-24\", \"2021-06-25\", \"2021-06-28\", \"2021-06-29\", \"2021-06-30\", \"2021-07-01\", \"2021-07-02\", \"2021-07-06\", \"2021-07-07\", \"2021-07-08\", \"2021-07-09\", \"2021-07-12\", \"2021-07-13\", \"2021-07-14\", \"2021-07-15\", \"2021-07-16\", \"2021-07-19\", \"2021-07-20\", \"2021-07-21\", \"2021-07-22\", \"2021-07-23\", \"2021-07-26\", \"2021-07-27\", \"2021-07-28\", \"2021-07-29\", \"2021-07-30\", \"2021-08-02\"], \"xaxis\": \"x2\", \"y\": [\"64.3458\", \"68.3184\", \"61.1672\", \"65.7136\", \"66.5348\", \"66.3578\", \"66.1052\", \"68.9288\", \"63.0589\", \"64.1316\", \"58.8557\", \"59.0385\", \"63.4999\", \"67.0504\", \"58.6326\", \"52.3204\", \"41.083\", \"47.7688\", \"54.8989\", \"53.5738\", \"49.2499\", \"47.9915\", \"53.2556\", \"52.8127\", \"57.5427\", \"56.2087\", \"57.1632\", \"57.428\", \"58.373\", \"57.6927\", \"58.6192\", \"55.524\", \"60.9725\", \"60.1234\", \"60.2542\", \"58.7998\", \"61.8825\", \"62.9488\", \"64.4041\", \"62.2424\", \"56.0828\", \"55.732\", \"43.778\", \"54.7551\", \"58.0928\", \"57.0652\", \"60.7321\", \"62.7987\", \"63.962\", \"64.2837\", \"64.8131\", \"68.1593\", \"72.1225\", \"69.8735\", \"71.7132\", \"62.2423\", \"68.1319\", \"69.8495\", \"66.1806\", \"66.995\", \"63.2356\", \"55.5524\", \"44.641\", \"53.953\", \"58.2836\", \"59.357\", \"64.2357\", \"65.3165\", \"61.5861\", \"61.2487\", \"63.4301\", \"59.2097\", \"57.4402\"], \"yaxis\": \"y2\"}, {\"mode\": \"markers+lines\", \"name\": \"Test\", \"type\": \"scatter\", \"x\": [\"2021-08-03\", \"2021-08-04\", \"2021-08-05\", \"2021-08-06\", \"2021-08-09\", \"2021-08-10\", \"2021-08-11\", \"2021-08-12\", \"2021-08-13\", \"2021-08-16\", \"2021-08-17\", \"2021-08-18\", \"2021-08-19\", \"2021-08-20\", \"2021-08-23\", \"2021-08-24\", \"2021-08-25\", \"2021-08-26\", \"2021-08-27\", \"2021-08-30\", \"2021-08-31\", \"2021-09-01\", \"2021-09-02\", \"2021-09-03\", \"2021-09-07\", \"2021-09-08\", \"2021-09-09\", \"2021-09-10\", \"2021-09-13\", \"2021-09-14\", \"2021-09-15\", \"2021-09-16\", \"2021-09-17\", \"2021-09-20\", \"2021-09-21\", \"2021-09-22\", \"2021-09-23\", \"2021-09-24\", \"2021-09-27\", \"2021-09-28\", \"2021-09-29\", \"2021-09-30\", \"2021-10-01\", \"2021-10-04\", \"2021-10-05\", \"2021-10-06\", \"2021-10-07\", \"2021-10-08\", \"2021-10-11\", \"2021-10-12\", \"2021-10-13\", \"2021-10-14\", \"2021-10-15\", \"2021-10-18\", \"2021-10-19\", \"2021-10-20\", \"2021-10-21\", \"2021-10-22\", \"2021-10-25\", \"2021-10-26\", \"2021-10-27\", \"2021-10-28\", \"2021-10-29\", \"2021-11-01\", \"2021-11-02\", \"2021-11-03\", \"2021-11-04\", \"2021-11-05\", \"2021-11-08\", \"2021-11-09\", \"2021-11-10\", \"2021-11-11\", \"2021-11-12\"], \"xaxis\": \"x2\", \"y\": [\"62.1534\", \"57.9413\", \"61.5375\", \"62.4455\", \"61.6723\", \"62.4376\", \"63.9863\", \"65.8214\", \"66.9266\", \"68.3552\", \"60.5018\", \"50.1995\", \"51.4453\", \"57.3582\", \"62.7951\", \"63.7025\", \"64.9222\", \"58.912\", \"64.2747\", \"66.6041\", \"65.0582\", \"65.3683\", \"67.1845\", \"66.8856\", \"62.4765\", \"61.0061\", \"56.0235\", \"48.2408\", \"50.6199\", \"45.8247\", \"53.1779\", \"51.7308\", \"43.8689\", \"34.3173\", \"33.8749\", \"42.1607\", \"50.5528\", \"51.5907\", \"49.6386\", \"38.5928\", \"39.774\", \"34.5658\", \"42.3711\", \"37.1333\", \"43.1598\", \"45.4333\", \"49.9378\", \"49.0108\", \"45.4132\", \"44.233\", \"46.4194\", \"55.2792\", \"58.6677\", \"59.9479\", \"63.1595\", \"64.7224\", \"65.7651\", \"64.9417\", \"67.2264\", \"67.6099\", \"63.6573\", \"68.0227\", \"68.8775\", \"69.6204\", \"71.3542\", \"73.7959\", \"75.5397\", \"76.7711\", \"77.0779\", \"73.051\", \"64.278\", \"64.4614\", \"68.5216\"], \"yaxis\": \"y2\"}, {\"mode\": \"lines\", \"name\": \"Prediction\", \"type\": \"scatter\", \"x\": [\"2021-08-03\", \"2021-08-04\", \"2021-08-05\", \"2021-08-06\", \"2021-08-09\", \"2021-08-10\", \"2021-08-11\", \"2021-08-12\", \"2021-08-13\", \"2021-08-16\", \"2021-08-17\", \"2021-08-18\", \"2021-08-19\", \"2021-08-20\", \"2021-08-23\", \"2021-08-24\", \"2021-08-25\", \"2021-08-26\", \"2021-08-27\", \"2021-08-30\", \"2021-08-31\", \"2021-09-01\", \"2021-09-02\", \"2021-09-03\", \"2021-09-07\", \"2021-09-08\", \"2021-09-09\", \"2021-09-10\", \"2021-09-13\", \"2021-09-14\", \"2021-09-15\", \"2021-09-16\", \"2021-09-17\", \"2021-09-20\", \"2021-09-21\", \"2021-09-22\", \"2021-09-23\", \"2021-09-24\", \"2021-09-27\", \"2021-09-28\", \"2021-09-29\", \"2021-09-30\", \"2021-10-01\", \"2021-10-04\", \"2021-10-05\", \"2021-10-06\", \"2021-10-07\", \"2021-10-08\", \"2021-10-11\", \"2021-10-12\", \"2021-10-13\", \"2021-10-14\", \"2021-10-15\", \"2021-10-18\", \"2021-10-19\", \"2021-10-20\", \"2021-10-21\", \"2021-10-22\", \"2021-10-25\", \"2021-10-26\", \"2021-10-27\", \"2021-10-28\", \"2021-10-29\", \"2021-11-01\", \"2021-11-02\", \"2021-11-03\", \"2021-11-04\", \"2021-11-05\", \"2021-11-08\", \"2021-11-09\", \"2021-11-10\", \"2021-11-11\", \"2021-11-12\"], \"xaxis\": \"x2\", \"y\": [63.50446701049805, 63.324256896972656, 63.22878646850586, 63.030029296875, 62.833892822265625, 62.71215057373047, 62.640743255615234, 62.607940673828125, 62.60934829711914, 62.668968200683594, 62.77060317993164, 63.14701461791992, 63.7872314453125, 64.26225280761719, 64.38714599609375, 64.17704010009766, 63.76007843017578, 63.16065979003906, 62.62385940551758, 61.822509765625, 60.84489440917969, 59.79237365722656, 58.63862991333008, 57.42250061035156, 56.29510498046875, 55.431785583496094, 54.72088623046875, 54.237186431884766, 53.9979248046875, 53.65827178955078, 53.43303298950195, 52.954891204833984, 52.555885314941406, 52.468502044677734, 52.73882293701172, 53.04896926879883, 53.12676239013672, 53.00444793701172, 52.9634895324707, 53.12765121459961, 53.784629821777344, 54.524959564208984, 55.55469512939453, 56.44886016845703, 57.613739013671875, 58.65742492675781, 59.69194412231445, 60.61245346069336, 61.567054748535156, 62.60294723510742, 63.615135192871094, 64.4993667602539, 65.09410095214844, 65.61387634277344, 66.14331817626953, 66.63626861572266, 67.12696075439453, 67.56743621826172, 67.95109558105469], \"yaxis\": \"y2\"}, {\"mode\": \"markers+lines\", \"name\": \"Forecast\", \"type\": \"scatter\", \"x\": [\"2021-11-12T00:00:00\", \"2021-11-15T00:00:00\", \"2021-11-16T00:00:00\", \"2021-11-17T00:00:00\", \"2021-11-18T00:00:00\", \"2021-11-19T00:00:00\", \"2021-11-22T00:00:00\", \"2021-11-23T00:00:00\", \"2021-11-24T00:00:00\", \"2021-11-26T00:00:00\", \"2021-11-29T00:00:00\", \"2021-11-30T00:00:00\", \"2021-12-01T00:00:00\", \"2021-12-02T00:00:00\", \"2021-12-03T00:00:00\"], \"xaxis\": \"x2\", \"y\": [68.5216, 68.1663523818612, 68.27091324121355, 68.39048143894672, 68.30293488737941, 68.14415964369176, 67.93987936424016, 67.68248928249477, 67.37162245255708, 67.04135991083979, 66.71267748309373, 66.41160211769342, 66.25002610327005, 66.33267505039572, 66.37461172451376], \"yaxis\": \"y2\"}, {\"line\": {\"color\": \"rgb(100, 10, 100)\", \"dash\": \"dash\", \"shape\": \"linear\"}, \"mode\": \"lines\", \"type\": \"scatter\", \"x\": [\"2021-04-20\", \"2021-12-03T00:00:00\"], \"xaxis\": \"x2\", \"y\": [70, 70], \"yaxis\": \"y2\"}, {\"line\": {\"color\": \"rgb(10, 12, 240)\", \"dash\": \"dash\", \"shape\": \"linear\"}, \"mode\": \"lines\", \"type\": \"scatter\", \"x\": [\"2021-04-20\", \"2021-12-03T00:00:00\"], \"xaxis\": \"x2\", \"y\": [50, 50], \"yaxis\": \"y2\"}, {\"line\": {\"color\": \"rgb(10, 120, 24)\", \"dash\": \"dash\", \"shape\": \"linear\"}, \"mode\": \"lines\", \"type\": \"scatter\", \"x\": [\"2021-04-20\", \"2021-12-03T00:00:00\"], \"xaxis\": \"x2\", \"y\": [30, 30], \"yaxis\": \"y2\"}],\n",
              "                        {\"annotations\": [{\"font\": {\"size\": 16}, \"showarrow\": false, \"text\": \"<a href=\\\"https://in.tradingview.com/chart/66XmQfYy/?symbol=SPY\\\">SPY</a> Date:2021-11-12 Open:465.12 High:464.11 Low:467.86 Close:467.27\", \"x\": 0.5, \"xanchor\": \"center\", \"xref\": \"paper\", \"y\": 1.0, \"yanchor\": \"bottom\", \"yref\": \"paper\"}, {\"font\": {\"size\": 16}, \"showarrow\": false, \"text\": \"<a href=\\\"https://in.tradingview.com/chart/66XmQfYy/?symbol=SPY\\\">SPY</a> RSI(14) Date:2021-11-12 Close:68.5216 Forecast(14):67.0\", \"x\": 0.5, \"xanchor\": \"center\", \"xref\": \"paper\", \"y\": 0.30000000000000004, \"yanchor\": \"bottom\", \"yref\": \"paper\"}], \"height\": 650, \"template\": {\"data\": {\"bar\": [{\"error_x\": {\"color\": \"#2a3f5f\"}, \"error_y\": {\"color\": \"#2a3f5f\"}, \"marker\": {\"line\": {\"color\": \"#E5ECF6\", \"width\": 0.5}}, \"type\": \"bar\"}], \"barpolar\": [{\"marker\": {\"line\": {\"color\": \"#E5ECF6\", \"width\": 0.5}}, \"type\": \"barpolar\"}], \"carpet\": [{\"aaxis\": {\"endlinecolor\": \"#2a3f5f\", \"gridcolor\": \"white\", \"linecolor\": \"white\", \"minorgridcolor\": \"white\", \"startlinecolor\": \"#2a3f5f\"}, \"baxis\": {\"endlinecolor\": \"#2a3f5f\", \"gridcolor\": \"white\", \"linecolor\": \"white\", \"minorgridcolor\": \"white\", \"startlinecolor\": \"#2a3f5f\"}, \"type\": \"carpet\"}], \"choropleth\": [{\"colorbar\": {\"outlinewidth\": 0, \"ticks\": \"\"}, \"type\": \"choropleth\"}], \"contour\": [{\"colorbar\": {\"outlinewidth\": 0, \"ticks\": \"\"}, \"colorscale\": [[0.0, \"#0d0887\"], [0.1111111111111111, \"#46039f\"], [0.2222222222222222, \"#7201a8\"], [0.3333333333333333, \"#9c179e\"], [0.4444444444444444, \"#bd3786\"], [0.5555555555555556, \"#d8576b\"], [0.6666666666666666, \"#ed7953\"], [0.7777777777777778, \"#fb9f3a\"], [0.8888888888888888, \"#fdca26\"], [1.0, \"#f0f921\"]], \"type\": \"contour\"}], \"contourcarpet\": [{\"colorbar\": {\"outlinewidth\": 0, \"ticks\": \"\"}, \"type\": \"contourcarpet\"}], \"heatmap\": [{\"colorbar\": {\"outlinewidth\": 0, \"ticks\": \"\"}, \"colorscale\": [[0.0, \"#0d0887\"], [0.1111111111111111, \"#46039f\"], [0.2222222222222222, \"#7201a8\"], [0.3333333333333333, \"#9c179e\"], [0.4444444444444444, \"#bd3786\"], [0.5555555555555556, \"#d8576b\"], [0.6666666666666666, \"#ed7953\"], [0.7777777777777778, \"#fb9f3a\"], [0.8888888888888888, \"#fdca26\"], [1.0, \"#f0f921\"]], \"type\": \"heatmap\"}], \"heatmapgl\": [{\"colorbar\": {\"outlinewidth\": 0, \"ticks\": \"\"}, \"colorscale\": [[0.0, \"#0d0887\"], [0.1111111111111111, \"#46039f\"], [0.2222222222222222, \"#7201a8\"], [0.3333333333333333, \"#9c179e\"], [0.4444444444444444, \"#bd3786\"], [0.5555555555555556, \"#d8576b\"], [0.6666666666666666, \"#ed7953\"], [0.7777777777777778, \"#fb9f3a\"], [0.8888888888888888, \"#fdca26\"], [1.0, \"#f0f921\"]], \"type\": \"heatmapgl\"}], \"histogram\": [{\"marker\": {\"colorbar\": {\"outlinewidth\": 0, \"ticks\": \"\"}}, \"type\": \"histogram\"}], \"histogram2d\": [{\"colorbar\": {\"outlinewidth\": 0, \"ticks\": \"\"}, \"colorscale\": [[0.0, \"#0d0887\"], [0.1111111111111111, \"#46039f\"], [0.2222222222222222, \"#7201a8\"], [0.3333333333333333, \"#9c179e\"], [0.4444444444444444, \"#bd3786\"], [0.5555555555555556, \"#d8576b\"], [0.6666666666666666, \"#ed7953\"], [0.7777777777777778, \"#fb9f3a\"], [0.8888888888888888, \"#fdca26\"], [1.0, \"#f0f921\"]], \"type\": \"histogram2d\"}], \"histogram2dcontour\": [{\"colorbar\": {\"outlinewidth\": 0, \"ticks\": \"\"}, \"colorscale\": [[0.0, \"#0d0887\"], [0.1111111111111111, \"#46039f\"], [0.2222222222222222, \"#7201a8\"], [0.3333333333333333, \"#9c179e\"], [0.4444444444444444, \"#bd3786\"], [0.5555555555555556, \"#d8576b\"], [0.6666666666666666, \"#ed7953\"], [0.7777777777777778, \"#fb9f3a\"], [0.8888888888888888, \"#fdca26\"], [1.0, \"#f0f921\"]], \"type\": \"histogram2dcontour\"}], \"mesh3d\": [{\"colorbar\": {\"outlinewidth\": 0, \"ticks\": \"\"}, \"type\": \"mesh3d\"}], \"parcoords\": [{\"line\": {\"colorbar\": {\"outlinewidth\": 0, \"ticks\": \"\"}}, \"type\": \"parcoords\"}], \"pie\": [{\"automargin\": true, \"type\": \"pie\"}], \"scatter\": [{\"marker\": {\"colorbar\": {\"outlinewidth\": 0, \"ticks\": \"\"}}, \"type\": \"scatter\"}], \"scatter3d\": [{\"line\": {\"colorbar\": {\"outlinewidth\": 0, \"ticks\": \"\"}}, \"marker\": {\"colorbar\": {\"outlinewidth\": 0, \"ticks\": \"\"}}, \"type\": \"scatter3d\"}], \"scattercarpet\": [{\"marker\": {\"colorbar\": {\"outlinewidth\": 0, \"ticks\": \"\"}}, \"type\": \"scattercarpet\"}], \"scattergeo\": [{\"marker\": {\"colorbar\": {\"outlinewidth\": 0, \"ticks\": \"\"}}, \"type\": \"scattergeo\"}], \"scattergl\": [{\"marker\": {\"colorbar\": {\"outlinewidth\": 0, \"ticks\": \"\"}}, \"type\": \"scattergl\"}], \"scattermapbox\": [{\"marker\": {\"colorbar\": {\"outlinewidth\": 0, \"ticks\": \"\"}}, \"type\": \"scattermapbox\"}], \"scatterpolar\": [{\"marker\": {\"colorbar\": {\"outlinewidth\": 0, \"ticks\": \"\"}}, \"type\": \"scatterpolar\"}], \"scatterpolargl\": [{\"marker\": {\"colorbar\": {\"outlinewidth\": 0, \"ticks\": \"\"}}, \"type\": \"scatterpolargl\"}], \"scatterternary\": [{\"marker\": {\"colorbar\": {\"outlinewidth\": 0, \"ticks\": \"\"}}, \"type\": \"scatterternary\"}], \"surface\": [{\"colorbar\": {\"outlinewidth\": 0, \"ticks\": \"\"}, \"colorscale\": [[0.0, \"#0d0887\"], [0.1111111111111111, \"#46039f\"], [0.2222222222222222, \"#7201a8\"], [0.3333333333333333, \"#9c179e\"], [0.4444444444444444, \"#bd3786\"], [0.5555555555555556, \"#d8576b\"], [0.6666666666666666, \"#ed7953\"], [0.7777777777777778, \"#fb9f3a\"], [0.8888888888888888, \"#fdca26\"], [1.0, \"#f0f921\"]], \"type\": \"surface\"}], \"table\": [{\"cells\": {\"fill\": {\"color\": \"#EBF0F8\"}, \"line\": {\"color\": \"white\"}}, \"header\": {\"fill\": {\"color\": \"#C8D4E3\"}, \"line\": {\"color\": \"white\"}}, \"type\": \"table\"}]}, \"layout\": {\"annotationdefaults\": {\"arrowcolor\": \"#2a3f5f\", \"arrowhead\": 0, \"arrowwidth\": 1}, \"coloraxis\": {\"colorbar\": {\"outlinewidth\": 0, \"ticks\": \"\"}}, \"colorscale\": {\"diverging\": [[0, \"#8e0152\"], [0.1, \"#c51b7d\"], [0.2, \"#de77ae\"], [0.3, \"#f1b6da\"], [0.4, \"#fde0ef\"], [0.5, \"#f7f7f7\"], [0.6, \"#e6f5d0\"], [0.7, \"#b8e186\"], [0.8, \"#7fbc41\"], [0.9, \"#4d9221\"], [1, \"#276419\"]], \"sequential\": [[0.0, \"#0d0887\"], [0.1111111111111111, \"#46039f\"], [0.2222222222222222, \"#7201a8\"], [0.3333333333333333, \"#9c179e\"], [0.4444444444444444, \"#bd3786\"], [0.5555555555555556, \"#d8576b\"], [0.6666666666666666, \"#ed7953\"], [0.7777777777777778, \"#fb9f3a\"], [0.8888888888888888, \"#fdca26\"], [1.0, \"#f0f921\"]], \"sequentialminus\": [[0.0, \"#0d0887\"], [0.1111111111111111, \"#46039f\"], [0.2222222222222222, \"#7201a8\"], [0.3333333333333333, \"#9c179e\"], [0.4444444444444444, \"#bd3786\"], [0.5555555555555556, \"#d8576b\"], [0.6666666666666666, \"#ed7953\"], [0.7777777777777778, \"#fb9f3a\"], [0.8888888888888888, \"#fdca26\"], [1.0, \"#f0f921\"]]}, \"colorway\": [\"#636efa\", \"#EF553B\", \"#00cc96\", \"#ab63fa\", \"#FFA15A\", \"#19d3f3\", \"#FF6692\", \"#B6E880\", \"#FF97FF\", \"#FECB52\"], \"font\": {\"color\": \"#2a3f5f\"}, \"geo\": {\"bgcolor\": \"white\", \"lakecolor\": \"white\", \"landcolor\": \"#E5ECF6\", \"showlakes\": true, \"showland\": true, \"subunitcolor\": \"white\"}, \"hoverlabel\": {\"align\": \"left\"}, \"hovermode\": \"closest\", \"mapbox\": {\"style\": \"light\"}, \"paper_bgcolor\": \"white\", \"plot_bgcolor\": \"#E5ECF6\", \"polar\": {\"angularaxis\": {\"gridcolor\": \"white\", \"linecolor\": \"white\", \"ticks\": \"\"}, \"bgcolor\": \"#E5ECF6\", \"radialaxis\": {\"gridcolor\": \"white\", \"linecolor\": \"white\", \"ticks\": \"\"}}, \"scene\": {\"xaxis\": {\"backgroundcolor\": \"#E5ECF6\", \"gridcolor\": \"white\", \"gridwidth\": 2, \"linecolor\": \"white\", \"showbackground\": true, \"ticks\": \"\", \"zerolinecolor\": \"white\"}, \"yaxis\": {\"backgroundcolor\": \"#E5ECF6\", \"gridcolor\": \"white\", \"gridwidth\": 2, \"linecolor\": \"white\", \"showbackground\": true, \"ticks\": \"\", \"zerolinecolor\": \"white\"}, \"zaxis\": {\"backgroundcolor\": \"#E5ECF6\", \"gridcolor\": \"white\", \"gridwidth\": 2, \"linecolor\": \"white\", \"showbackground\": true, \"ticks\": \"\", \"zerolinecolor\": \"white\"}}, \"shapedefaults\": {\"line\": {\"color\": \"#2a3f5f\"}}, \"ternary\": {\"aaxis\": {\"gridcolor\": \"white\", \"linecolor\": \"white\", \"ticks\": \"\"}, \"baxis\": {\"gridcolor\": \"white\", \"linecolor\": \"white\", \"ticks\": \"\"}, \"bgcolor\": \"#E5ECF6\", \"caxis\": {\"gridcolor\": \"white\", \"linecolor\": \"white\", \"ticks\": \"\"}}, \"title\": {\"x\": 0.05}, \"xaxis\": {\"automargin\": true, \"gridcolor\": \"white\", \"linecolor\": \"white\", \"ticks\": \"\", \"title\": {\"standoff\": 15}, \"zerolinecolor\": \"white\", \"zerolinewidth\": 2}, \"yaxis\": {\"automargin\": true, \"gridcolor\": \"white\", \"linecolor\": \"white\", \"ticks\": \"\", \"title\": {\"standoff\": 15}, \"zerolinecolor\": \"white\", \"zerolinewidth\": 2}}}, \"xaxis\": {\"anchor\": \"y\", \"domain\": [0.0, 1.0], \"rangeslider\": {\"visible\": false}, \"showspikes\": true, \"spikedash\": \"dash\", \"spikemode\": \"across\", \"spikesnap\": \"cursor\"}, \"xaxis2\": {\"anchor\": \"y2\", \"domain\": [0.0, 1.0], \"showspikes\": true, \"spikedash\": \"dash\", \"spikemode\": \"across\", \"spikesnap\": \"cursor\"}, \"yaxis\": {\"anchor\": \"x\", \"domain\": [0.55, 1.0], \"showspikes\": true, \"spikedash\": \"dash\", \"spikemode\": \"across\", \"spikesnap\": \"cursor\"}, \"yaxis2\": {\"anchor\": \"x2\", \"domain\": [0.0, 0.30000000000000004], \"showspikes\": true, \"spikedash\": \"dash\", \"spikemode\": \"across\", \"spikesnap\": \"cursor\"}},\n",
              "                        {\"responsive\": true}\n",
              "                    ).then(function(){\n",
              "                            \n",
              "var gd = document.getElementById('148a33f5-13ff-4570-b9a5-f7e85c7b7523');\n",
              "var x = new MutationObserver(function (mutations, observer) {{\n",
              "        var display = window.getComputedStyle(gd).display;\n",
              "        if (!display || display === 'none') {{\n",
              "            console.log([gd, 'removed!']);\n",
              "            Plotly.purge(gd);\n",
              "            observer.disconnect();\n",
              "        }}\n",
              "}});\n",
              "\n",
              "// Listen for the removal of the full notebook cells\n",
              "var notebookContainer = gd.closest('#notebook-container');\n",
              "if (notebookContainer) {{\n",
              "    x.observe(notebookContainer, {childList: true});\n",
              "}}\n",
              "\n",
              "// Listen for the clearing of the current output cell\n",
              "var outputEl = gd.closest('.output');\n",
              "if (outputEl) {{\n",
              "    x.observe(outputEl, {childList: true});\n",
              "}}\n",
              "\n",
              "                        })\n",
              "                };\n",
              "                \n",
              "            </script>\n",
              "        </div>\n",
              "</body>\n",
              "</html>"
            ]
          },
          "metadata": {}
        }
      ]
    }
  ]
}